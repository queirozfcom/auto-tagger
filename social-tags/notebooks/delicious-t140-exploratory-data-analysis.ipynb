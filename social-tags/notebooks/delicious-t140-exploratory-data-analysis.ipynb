{
 "cells": [
  {
   "cell_type": "code",
   "execution_count": 1,
   "metadata": {
    "collapsed": true
   },
   "outputs": [],
   "source": [
    "import pandas as pd\n",
    "import numpy as np\n",
    "import matplotlib.pyplot as plt\n",
    "import xml.etree.ElementTree as ET\n",
    "import gc\n",
    "\n",
    "from joblib import Parallel, delayed\n",
    "from tqdm import *\n",
    "\n",
    "%matplotlib inline"
   ]
  },
  {
   "cell_type": "code",
   "execution_count": 2,
   "metadata": {
    "collapsed": true
   },
   "outputs": [],
   "source": [
    "ROOT = \"/media/felipe/SAMSUNG/delicious/delicioust140/\""
   ]
  },
  {
   "cell_type": "code",
   "execution_count": 3,
   "metadata": {},
   "outputs": [
    {
     "data": {
      "text/plain": [
       "'0.20.1'"
      ]
     },
     "execution_count": 3,
     "metadata": {},
     "output_type": "execute_result"
    }
   ],
   "source": [
    "pd.__version__"
   ]
  },
  {
   "cell_type": "code",
   "execution_count": 4,
   "metadata": {
    "collapsed": true
   },
   "outputs": [],
   "source": [
    "FILE=ROOT+\"taginfo.xml\""
   ]
  },
  {
   "cell_type": "code",
   "execution_count": 5,
   "metadata": {
    "collapsed": true
   },
   "outputs": [],
   "source": [
    "tree = ET.parse(FILE)"
   ]
  },
  {
   "cell_type": "code",
   "execution_count": 6,
   "metadata": {
    "collapsed": true
   },
   "outputs": [],
   "source": [
    "dataset = tree.getroot()"
   ]
  },
  {
   "cell_type": "code",
   "execution_count": 7,
   "metadata": {
    "collapsed": true
   },
   "outputs": [],
   "source": [
    "tags_df = pd.DataFrame(columns=['tag','count'])"
   ]
  },
  {
   "cell_type": "code",
   "execution_count": 8,
   "metadata": {
    "collapsed": true
   },
   "outputs": [],
   "source": [
    "def get_attribute_dict_from_document_node(document):\n",
    "    attrs_dict = dict()\n",
    "    \n",
    "    for attribute_node in document:\n",
    "                       \n",
    "        tags = []\n",
    "        \n",
    "        if attribute_node.tag == 'tags':\n",
    "            for tag_node in attribute_node:\n",
    "                for subnode in tag_node:\n",
    "                    if subnode.tag == 'name':\n",
    "                        if subnode.text is not None:\n",
    "                            tags.append(subnode.text)\n",
    "                            \n",
    "        \n",
    "            attrs_dict['tags'] = ','.join(tags)              \n",
    "                        \n",
    "        else:\n",
    "            attrs_dict[attribute_node.tag] = attribute_node.text\n",
    "            \n",
    "            \n",
    "    return attrs_dict      "
   ]
  },
  {
   "cell_type": "code",
   "execution_count": 9,
   "metadata": {
    "collapsed": true
   },
   "outputs": [],
   "source": [
    "elements = Parallel(n_jobs=-1)(delayed(get_attribute_dict_from_document_node)(document) for document in dataset)"
   ]
  },
  {
   "cell_type": "code",
   "execution_count": null,
   "metadata": {
    "collapsed": true
   },
   "outputs": [],
   "source": []
  },
  {
   "cell_type": "code",
   "execution_count": 10,
   "metadata": {
    "collapsed": true
   },
   "outputs": [],
   "source": [
    "docs_df = pd.DataFrame(columns=['url','hash','filetype','filename','users','tags'])"
   ]
  },
  {
   "cell_type": "code",
   "execution_count": 11,
   "metadata": {
    "collapsed": true
   },
   "outputs": [],
   "source": [
    "docs_df = pd.DataFrame.from_records(elements)"
   ]
  },
  {
   "cell_type": "code",
   "execution_count": 12,
   "metadata": {
    "collapsed": true
   },
   "outputs": [],
   "source": [
    "docs_df['num_tags'] = docs_df['tags'].apply(lambda tags: len(tags.split(',')))"
   ]
  },
  {
   "cell_type": "code",
   "execution_count": 13,
   "metadata": {
    "collapsed": true
   },
   "outputs": [],
   "source": [
    "docs_df.rename(columns={'users':'num_users'},inplace=True)"
   ]
  },
  {
   "cell_type": "code",
   "execution_count": 14,
   "metadata": {
    "collapsed": true
   },
   "outputs": [],
   "source": [
    "docs_df['num_users'] = docs_df['num_users'].astype('int64')\n",
    "docs_df['num_tags'] = docs_df['num_tags'].astype('int64')"
   ]
  },
  {
   "cell_type": "code",
   "execution_count": 15,
   "metadata": {},
   "outputs": [
    {
     "data": {
      "text/html": [
       "<div>\n",
       "<style>\n",
       "    .dataframe thead tr:only-child th {\n",
       "        text-align: right;\n",
       "    }\n",
       "\n",
       "    .dataframe thead th {\n",
       "        text-align: left;\n",
       "    }\n",
       "\n",
       "    .dataframe tbody tr th {\n",
       "        vertical-align: top;\n",
       "    }\n",
       "</style>\n",
       "<table border=\"1\" class=\"dataframe\">\n",
       "  <thead>\n",
       "    <tr style=\"text-align: right;\">\n",
       "      <th></th>\n",
       "      <th>num_users</th>\n",
       "      <th>num_tags</th>\n",
       "    </tr>\n",
       "  </thead>\n",
       "  <tbody>\n",
       "    <tr>\n",
       "      <th>count</th>\n",
       "      <td>144574.000000</td>\n",
       "      <td>144574.000000</td>\n",
       "    </tr>\n",
       "    <tr>\n",
       "      <th>mean</th>\n",
       "      <td>182.173109</td>\n",
       "      <td>13.950351</td>\n",
       "    </tr>\n",
       "    <tr>\n",
       "      <th>std</th>\n",
       "      <td>663.709148</td>\n",
       "      <td>8.390065</td>\n",
       "    </tr>\n",
       "    <tr>\n",
       "      <th>min</th>\n",
       "      <td>1.000000</td>\n",
       "      <td>1.000000</td>\n",
       "    </tr>\n",
       "    <tr>\n",
       "      <th>25%</th>\n",
       "      <td>13.000000</td>\n",
       "      <td>6.000000</td>\n",
       "    </tr>\n",
       "    <tr>\n",
       "      <th>50%</th>\n",
       "      <td>35.000000</td>\n",
       "      <td>12.000000</td>\n",
       "    </tr>\n",
       "    <tr>\n",
       "      <th>75%</th>\n",
       "      <td>121.000000</td>\n",
       "      <td>24.000000</td>\n",
       "    </tr>\n",
       "    <tr>\n",
       "      <th>max</th>\n",
       "      <td>46215.000000</td>\n",
       "      <td>31.000000</td>\n",
       "    </tr>\n",
       "  </tbody>\n",
       "</table>\n",
       "</div>"
      ],
      "text/plain": [
       "           num_users       num_tags\n",
       "count  144574.000000  144574.000000\n",
       "mean      182.173109      13.950351\n",
       "std       663.709148       8.390065\n",
       "min         1.000000       1.000000\n",
       "25%        13.000000       6.000000\n",
       "50%        35.000000      12.000000\n",
       "75%       121.000000      24.000000\n",
       "max     46215.000000      31.000000"
      ]
     },
     "execution_count": 15,
     "metadata": {},
     "output_type": "execute_result"
    }
   ],
   "source": [
    "docs_df.describe(include=['number'])"
   ]
  },
  {
   "cell_type": "code",
   "execution_count": 16,
   "metadata": {},
   "outputs": [
    {
     "data": {
      "text/html": [
       "<div>\n",
       "<style>\n",
       "    .dataframe thead tr:only-child th {\n",
       "        text-align: right;\n",
       "    }\n",
       "\n",
       "    .dataframe thead th {\n",
       "        text-align: left;\n",
       "    }\n",
       "\n",
       "    .dataframe tbody tr th {\n",
       "        vertical-align: top;\n",
       "    }\n",
       "</style>\n",
       "<table border=\"1\" class=\"dataframe\">\n",
       "  <thead>\n",
       "    <tr style=\"text-align: right;\">\n",
       "      <th></th>\n",
       "      <th>filename</th>\n",
       "      <th>filetype</th>\n",
       "      <th>hash</th>\n",
       "      <th>tags</th>\n",
       "      <th>url</th>\n",
       "    </tr>\n",
       "  </thead>\n",
       "  <tbody>\n",
       "    <tr>\n",
       "      <th>count</th>\n",
       "      <td>144574</td>\n",
       "      <td>144574</td>\n",
       "      <td>144574</td>\n",
       "      <td>144574</td>\n",
       "      <td>144574</td>\n",
       "    </tr>\n",
       "    <tr>\n",
       "      <th>unique</th>\n",
       "      <td>144574</td>\n",
       "      <td>5</td>\n",
       "      <td>144574</td>\n",
       "      <td>144032</td>\n",
       "      <td>144574</td>\n",
       "    </tr>\n",
       "    <tr>\n",
       "      <th>top</th>\n",
       "      <td>473f435c35ea6a7629aee5a43f162e58.html</td>\n",
       "      <td>html</td>\n",
       "      <td>64207f4086ba6d321a6aff4e2437c3ca</td>\n",
       "      <td>wordpress,themes,theme</td>\n",
       "      <td>http://www.eflorenzano.com/blog/post/oop-and-d...</td>\n",
       "    </tr>\n",
       "    <tr>\n",
       "      <th>freq</th>\n",
       "      <td>1</td>\n",
       "      <td>143716</td>\n",
       "      <td>1</td>\n",
       "      <td>15</td>\n",
       "      <td>1</td>\n",
       "    </tr>\n",
       "  </tbody>\n",
       "</table>\n",
       "</div>"
      ],
      "text/plain": [
       "                                     filename filetype  \\\n",
       "count                                  144574   144574   \n",
       "unique                                 144574        5   \n",
       "top     473f435c35ea6a7629aee5a43f162e58.html     html   \n",
       "freq                                        1   143716   \n",
       "\n",
       "                                    hash                    tags  \\\n",
       "count                             144574                  144574   \n",
       "unique                            144574                  144032   \n",
       "top     64207f4086ba6d321a6aff4e2437c3ca  wordpress,themes,theme   \n",
       "freq                                   1                      15   \n",
       "\n",
       "                                                      url  \n",
       "count                                              144574  \n",
       "unique                                             144574  \n",
       "top     http://www.eflorenzano.com/blog/post/oop-and-d...  \n",
       "freq                                                    1  "
      ]
     },
     "execution_count": 16,
     "metadata": {},
     "output_type": "execute_result"
    }
   ],
   "source": [
    "docs_df.describe(include=['category','object'])"
   ]
  },
  {
   "cell_type": "code",
   "execution_count": 17,
   "metadata": {},
   "outputs": [
    {
     "data": {
      "text/plain": [
       "filename     object\n",
       "filetype     object\n",
       "hash         object\n",
       "tags         object\n",
       "url          object\n",
       "num_users     int64\n",
       "num_tags      int64\n",
       "dtype: object"
      ]
     },
     "execution_count": 17,
     "metadata": {},
     "output_type": "execute_result"
    }
   ],
   "source": [
    "docs_df.dtypes"
   ]
  },
  {
   "cell_type": "code",
   "execution_count": 18,
   "metadata": {},
   "outputs": [
    {
     "data": {
      "text/html": [
       "<div>\n",
       "<style>\n",
       "    .dataframe thead tr:only-child th {\n",
       "        text-align: right;\n",
       "    }\n",
       "\n",
       "    .dataframe thead th {\n",
       "        text-align: left;\n",
       "    }\n",
       "\n",
       "    .dataframe tbody tr th {\n",
       "        vertical-align: top;\n",
       "    }\n",
       "</style>\n",
       "<table border=\"1\" class=\"dataframe\">\n",
       "  <thead>\n",
       "    <tr style=\"text-align: right;\">\n",
       "      <th></th>\n",
       "      <th>filename</th>\n",
       "      <th>filetype</th>\n",
       "      <th>hash</th>\n",
       "      <th>tags</th>\n",
       "      <th>url</th>\n",
       "      <th>num_users</th>\n",
       "      <th>num_tags</th>\n",
       "    </tr>\n",
       "  </thead>\n",
       "  <tbody>\n",
       "    <tr>\n",
       "      <th>24231</th>\n",
       "      <td>934f8dd8fea57427a7bdae9e36bb8668.html</td>\n",
       "      <td>html</td>\n",
       "      <td>934f8dd8fea57427a7bdae9e36bb8668</td>\n",
       "      <td>inspiration,design,portfolio,illustration,grap...</td>\n",
       "      <td>http://intrinsicnature.org/art/</td>\n",
       "      <td>23</td>\n",
       "      <td>11</td>\n",
       "    </tr>\n",
       "    <tr>\n",
       "      <th>93054</th>\n",
       "      <td>4d345673a1264c88a92bc4b254fc8ed5.html</td>\n",
       "      <td>html</td>\n",
       "      <td>4d345673a1264c88a92bc4b254fc8ed5</td>\n",
       "      <td>crop,circles,photography,cropcircles</td>\n",
       "      <td>http://www.temporarytemples.co.uk/</td>\n",
       "      <td>10</td>\n",
       "      <td>4</td>\n",
       "    </tr>\n",
       "    <tr>\n",
       "      <th>31281</th>\n",
       "      <td>cdf939a8432aa09b9239554ee0cd4909.html</td>\n",
       "      <td>html</td>\n",
       "      <td>cdf939a8432aa09b9239554ee0cd4909</td>\n",
       "      <td>funny,japan,video,japanese,balloon</td>\n",
       "      <td>http://tvinjapan.com/blog/2008/06/06/japanese-...</td>\n",
       "      <td>8</td>\n",
       "      <td>5</td>\n",
       "    </tr>\n",
       "    <tr>\n",
       "      <th>111648</th>\n",
       "      <td>4b2c227a5ea0c20aa95739f38a86b763.html</td>\n",
       "      <td>html</td>\n",
       "      <td>4b2c227a5ea0c20aa95739f38a86b763</td>\n",
       "      <td>3d,software,photogrammetry,graphics,photos,mod...</td>\n",
       "      <td>http://www.photomodeler.com/index.htm</td>\n",
       "      <td>35</td>\n",
       "      <td>8</td>\n",
       "    </tr>\n",
       "    <tr>\n",
       "      <th>136248</th>\n",
       "      <td>a2e641606e573e5ea1d27e47a65b41eb.html</td>\n",
       "      <td>html</td>\n",
       "      <td>a2e641606e573e5ea1d27e47a65b41eb</td>\n",
       "      <td>flex,video,flv,metadata,flashvideo</td>\n",
       "      <td>http://blog.flexexamples.com/2007/09/15/viewin...</td>\n",
       "      <td>12</td>\n",
       "      <td>5</td>\n",
       "    </tr>\n",
       "    <tr>\n",
       "      <th>88805</th>\n",
       "      <td>a8fbe77a6a8ad8b7669fe959c175eaf3.html</td>\n",
       "      <td>html</td>\n",
       "      <td>a8fbe77a6a8ad8b7669fe959c175eaf3</td>\n",
       "      <td>schedule,calendar,webservice,tool,lifehack,ser...</td>\n",
       "      <td>http://www.densuke.biz/</td>\n",
       "      <td>126</td>\n",
       "      <td>25</td>\n",
       "    </tr>\n",
       "    <tr>\n",
       "      <th>139372</th>\n",
       "      <td>d7de7796efa5199d1cce32da9ef5b638.html</td>\n",
       "      <td>html</td>\n",
       "      <td>d7de7796efa5199d1cce32da9ef5b638</td>\n",
       "      <td>osteuropa,bibliothek,library,geschichte,recher...</td>\n",
       "      <td>http://www.vifaost.de/</td>\n",
       "      <td>22</td>\n",
       "      <td>11</td>\n",
       "    </tr>\n",
       "    <tr>\n",
       "      <th>113182</th>\n",
       "      <td>2face9ff753591eaede0bbe47e8309f8.html</td>\n",
       "      <td>html</td>\n",
       "      <td>2face9ff753591eaede0bbe47e8309f8</td>\n",
       "      <td>travel,2.0,research,web2.0</td>\n",
       "      <td>http://www.slideshare.net/alew/travel-20-the-e...</td>\n",
       "      <td>11</td>\n",
       "      <td>4</td>\n",
       "    </tr>\n",
       "    <tr>\n",
       "      <th>128164</th>\n",
       "      <td>fe945ab18d464be87be642c915deec81.html</td>\n",
       "      <td>html</td>\n",
       "      <td>fe945ab18d464be87be642c915deec81</td>\n",
       "      <td>design,inspiration,webdesign,agency,web,portfo...</td>\n",
       "      <td>http://www.brothersinart.com/</td>\n",
       "      <td>102</td>\n",
       "      <td>23</td>\n",
       "    </tr>\n",
       "    <tr>\n",
       "      <th>136765</th>\n",
       "      <td>20d5f8aaa552f70cc87f649392348bbb.html</td>\n",
       "      <td>html</td>\n",
       "      <td>20d5f8aaa552f70cc87f649392348bbb</td>\n",
       "      <td>peace,israel,palestine,activism,politics,dialo...</td>\n",
       "      <td>http://www.mepeace.org/</td>\n",
       "      <td>16</td>\n",
       "      <td>10</td>\n",
       "    </tr>\n",
       "  </tbody>\n",
       "</table>\n",
       "</div>"
      ],
      "text/plain": [
       "                                     filename filetype  \\\n",
       "24231   934f8dd8fea57427a7bdae9e36bb8668.html     html   \n",
       "93054   4d345673a1264c88a92bc4b254fc8ed5.html     html   \n",
       "31281   cdf939a8432aa09b9239554ee0cd4909.html     html   \n",
       "111648  4b2c227a5ea0c20aa95739f38a86b763.html     html   \n",
       "136248  a2e641606e573e5ea1d27e47a65b41eb.html     html   \n",
       "88805   a8fbe77a6a8ad8b7669fe959c175eaf3.html     html   \n",
       "139372  d7de7796efa5199d1cce32da9ef5b638.html     html   \n",
       "113182  2face9ff753591eaede0bbe47e8309f8.html     html   \n",
       "128164  fe945ab18d464be87be642c915deec81.html     html   \n",
       "136765  20d5f8aaa552f70cc87f649392348bbb.html     html   \n",
       "\n",
       "                                    hash  \\\n",
       "24231   934f8dd8fea57427a7bdae9e36bb8668   \n",
       "93054   4d345673a1264c88a92bc4b254fc8ed5   \n",
       "31281   cdf939a8432aa09b9239554ee0cd4909   \n",
       "111648  4b2c227a5ea0c20aa95739f38a86b763   \n",
       "136248  a2e641606e573e5ea1d27e47a65b41eb   \n",
       "88805   a8fbe77a6a8ad8b7669fe959c175eaf3   \n",
       "139372  d7de7796efa5199d1cce32da9ef5b638   \n",
       "113182  2face9ff753591eaede0bbe47e8309f8   \n",
       "128164  fe945ab18d464be87be642c915deec81   \n",
       "136765  20d5f8aaa552f70cc87f649392348bbb   \n",
       "\n",
       "                                                     tags  \\\n",
       "24231   inspiration,design,portfolio,illustration,grap...   \n",
       "93054                crop,circles,photography,cropcircles   \n",
       "31281                  funny,japan,video,japanese,balloon   \n",
       "111648  3d,software,photogrammetry,graphics,photos,mod...   \n",
       "136248                 flex,video,flv,metadata,flashvideo   \n",
       "88805   schedule,calendar,webservice,tool,lifehack,ser...   \n",
       "139372  osteuropa,bibliothek,library,geschichte,recher...   \n",
       "113182                         travel,2.0,research,web2.0   \n",
       "128164  design,inspiration,webdesign,agency,web,portfo...   \n",
       "136765  peace,israel,palestine,activism,politics,dialo...   \n",
       "\n",
       "                                                      url  num_users  num_tags  \n",
       "24231                     http://intrinsicnature.org/art/         23        11  \n",
       "93054                  http://www.temporarytemples.co.uk/         10         4  \n",
       "31281   http://tvinjapan.com/blog/2008/06/06/japanese-...          8         5  \n",
       "111648              http://www.photomodeler.com/index.htm         35         8  \n",
       "136248  http://blog.flexexamples.com/2007/09/15/viewin...         12         5  \n",
       "88805                             http://www.densuke.biz/        126        25  \n",
       "139372                             http://www.vifaost.de/         22        11  \n",
       "113182  http://www.slideshare.net/alew/travel-20-the-e...         11         4  \n",
       "128164                      http://www.brothersinart.com/        102        23  \n",
       "136765                            http://www.mepeace.org/         16        10  "
      ]
     },
     "execution_count": 18,
     "metadata": {},
     "output_type": "execute_result"
    }
   ],
   "source": [
    "docs_df.sample(10)"
   ]
  },
  {
   "cell_type": "code",
   "execution_count": 31,
   "metadata": {},
   "outputs": [
    {
     "data": {
      "text/html": [
       "<div>\n",
       "<style>\n",
       "    .dataframe thead tr:only-child th {\n",
       "        text-align: right;\n",
       "    }\n",
       "\n",
       "    .dataframe thead th {\n",
       "        text-align: left;\n",
       "    }\n",
       "\n",
       "    .dataframe tbody tr th {\n",
       "        vertical-align: top;\n",
       "    }\n",
       "</style>\n",
       "<table border=\"1\" class=\"dataframe\">\n",
       "  <thead>\n",
       "    <tr style=\"text-align: right;\">\n",
       "      <th></th>\n",
       "      <th>filename</th>\n",
       "      <th>filetype</th>\n",
       "      <th>hash</th>\n",
       "      <th>tags</th>\n",
       "      <th>url</th>\n",
       "      <th>num_users</th>\n",
       "      <th>num_tags</th>\n",
       "    </tr>\n",
       "  </thead>\n",
       "  <tbody>\n",
       "    <tr>\n",
       "      <th>30571</th>\n",
       "      <td>9862166e802a18542e9f22be3b2b8dc4.html</td>\n",
       "      <td>html</td>\n",
       "      <td>9862166e802a18542e9f22be3b2b8dc4</td>\n",
       "      <td>flash,design,motorola,website,animation,microsite</td>\n",
       "      <td>http://www.soulpolice.com/motorolacity/</td>\n",
       "      <td>1</td>\n",
       "      <td>6</td>\n",
       "    </tr>\n",
       "    <tr>\n",
       "      <th>139</th>\n",
       "      <td>01879557192bc8bcc69f78711aa580a1.html</td>\n",
       "      <td>html</td>\n",
       "      <td>01879557192bc8bcc69f78711aa580a1</td>\n",
       "      <td>javascript,keyboard,shortcuts</td>\n",
       "      <td>http://livepipe.net/extra/hotkey</td>\n",
       "      <td>2</td>\n",
       "      <td>3</td>\n",
       "    </tr>\n",
       "    <tr>\n",
       "      <th>92151</th>\n",
       "      <td>7e0ae721974661bd84f1d4e20464d33e.html</td>\n",
       "      <td>html</td>\n",
       "      <td>7e0ae721974661bd84f1d4e20464d33e</td>\n",
       "      <td>health,tips,,loss,weight,</td>\n",
       "      <td>http://how-to-health.blogspot.com/</td>\n",
       "      <td>2</td>\n",
       "      <td>6</td>\n",
       "    </tr>\n",
       "    <tr>\n",
       "      <th>92142</th>\n",
       "      <td>e3230e1809a7d428b6a563afd6289df6.html</td>\n",
       "      <td>html</td>\n",
       "      <td>e3230e1809a7d428b6a563afd6289df6</td>\n",
       "      <td>online,rentals,condo,booking,hollywood,beach,v...</td>\n",
       "      <td>http://hollywoodflvacationrentals.com/</td>\n",
       "      <td>2</td>\n",
       "      <td>12</td>\n",
       "    </tr>\n",
       "    <tr>\n",
       "      <th>92047</th>\n",
       "      <td>3e35d090e633db29209444bd100fc3b8.html</td>\n",
       "      <td>html</td>\n",
       "      <td>3e35d090e633db29209444bd100fc3b8</td>\n",
       "      <td>print,osx,freeware,server,printing</td>\n",
       "      <td>http://homepage.mac.com/barijaona/print66/pres...</td>\n",
       "      <td>2</td>\n",
       "      <td>5</td>\n",
       "    </tr>\n",
       "    <tr>\n",
       "      <th>92028</th>\n",
       "      <td>c0d40e4d854b1518cee6d261ce5fec04.html</td>\n",
       "      <td>html</td>\n",
       "      <td>c0d40e4d854b1518cee6d261ce5fec04</td>\n",
       "      <td>history,brain,evolution</td>\n",
       "      <td>http://scienceblogs.com/neurophilosophy/2008/0...</td>\n",
       "      <td>2</td>\n",
       "      <td>3</td>\n",
       "    </tr>\n",
       "    <tr>\n",
       "      <th>92005</th>\n",
       "      <td>86138cb8d2008ba6b5970af9650000e7.html</td>\n",
       "      <td>html</td>\n",
       "      <td>86138cb8d2008ba6b5970af9650000e7</td>\n",
       "      <td>math,fractals,chaos</td>\n",
       "      <td>http://scienceblogs.com/goodmath/goodmath/topo...</td>\n",
       "      <td>2</td>\n",
       "      <td>3</td>\n",
       "    </tr>\n",
       "    <tr>\n",
       "      <th>91955</th>\n",
       "      <td>eabad7a90677ff1bedd138e5bbec5cf6.html</td>\n",
       "      <td>html</td>\n",
       "      <td>eabad7a90677ff1bedd138e5bbec5cf6</td>\n",
       "      <td>webdesign,inspiration,wordpress</td>\n",
       "      <td>http://scribblescratch.com/themes4/</td>\n",
       "      <td>2</td>\n",
       "      <td>3</td>\n",
       "    </tr>\n",
       "    <tr>\n",
       "      <th>91915</th>\n",
       "      <td>fcab34a2e8c6055625c2915ac55c335e.html</td>\n",
       "      <td>html</td>\n",
       "      <td>fcab34a2e8c6055625c2915ac55c335e</td>\n",
       "      <td>database,programming,java,tools,testing,unitte...</td>\n",
       "      <td>http://schemamule.sourceforge.net/index.html</td>\n",
       "      <td>2</td>\n",
       "      <td>6</td>\n",
       "    </tr>\n",
       "    <tr>\n",
       "      <th>91859</th>\n",
       "      <td>6a815f1b54c2f4c37629ea535fe64891.html</td>\n",
       "      <td>html</td>\n",
       "      <td>6a815f1b54c2f4c37629ea535fe64891</td>\n",
       "      <td>download,music,tools</td>\n",
       "      <td>http://sciagnik.net/</td>\n",
       "      <td>2</td>\n",
       "      <td>3</td>\n",
       "    </tr>\n",
       "    <tr>\n",
       "      <th>91818</th>\n",
       "      <td>356382fc9bd3991b156fccc7486fcd37.html</td>\n",
       "      <td>html</td>\n",
       "      <td>356382fc9bd3991b156fccc7486fcd37</td>\n",
       "      <td>download,video,youtube</td>\n",
       "      <td>http://savevid.co.cc/</td>\n",
       "      <td>2</td>\n",
       "      <td>3</td>\n",
       "    </tr>\n",
       "    <tr>\n",
       "      <th>91801</th>\n",
       "      <td>44e9e8eb2fea2cf26b5d1f1ce58f953d.html</td>\n",
       "      <td>html</td>\n",
       "      <td>44e9e8eb2fea2cf26b5d1f1ce58f953d</td>\n",
       "      <td>programming,twitter,perl</td>\n",
       "      <td>http://search.cpan.org/~cthom/Net-Twitter-1.14...</td>\n",
       "      <td>2</td>\n",
       "      <td>3</td>\n",
       "    </tr>\n",
       "    <tr>\n",
       "      <th>91753</th>\n",
       "      <td>4a462d97e86ebccfb56d776a4e79f3f9.html</td>\n",
       "      <td>html</td>\n",
       "      <td>4a462d97e86ebccfb56d776a4e79f3f9</td>\n",
       "      <td>politics,science,green,environment</td>\n",
       "      <td>http://scienceblogs.com/effectmeasure/2008/06/...</td>\n",
       "      <td>2</td>\n",
       "      <td>4</td>\n",
       "    </tr>\n",
       "    <tr>\n",
       "      <th>91694</th>\n",
       "      <td>0c49fbfb113f99aee8bc5c8e7a7100d2.html</td>\n",
       "      <td>html</td>\n",
       "      <td>0c49fbfb113f99aee8bc5c8e7a7100d2</td>\n",
       "      <td>video,youtube,cpan</td>\n",
       "      <td>http://search.cpan.org/~gbrown/WWW-YouTube-Vid...</td>\n",
       "      <td>2</td>\n",
       "      <td>3</td>\n",
       "    </tr>\n",
       "    <tr>\n",
       "      <th>91678</th>\n",
       "      <td>41f1cd1cffe465bea7d9fe96221cd5c5.html</td>\n",
       "      <td>html</td>\n",
       "      <td>41f1cd1cffe465bea7d9fe96221cd5c5</td>\n",
       "      <td>webdev,social,flex,portsmouth</td>\n",
       "      <td>http://seacoastcfflex.ning.com/</td>\n",
       "      <td>2</td>\n",
       "      <td>4</td>\n",
       "    </tr>\n",
       "    <tr>\n",
       "      <th>91674</th>\n",
       "      <td>607858a1622de2e5a8fd2d0ddf86544e.html</td>\n",
       "      <td>html</td>\n",
       "      <td>607858a1622de2e5a8fd2d0ddf86544e</td>\n",
       "      <td>free,documentaries,lectures,lecture,news,biolo...</td>\n",
       "      <td>http://sciencetube.magnify.net/</td>\n",
       "      <td>2</td>\n",
       "      <td>10</td>\n",
       "    </tr>\n",
       "    <tr>\n",
       "      <th>91511</th>\n",
       "      <td>6ce64f7ab248b9d1116d983596455e96.html</td>\n",
       "      <td>html</td>\n",
       "      <td>6ce64f7ab248b9d1116d983596455e96</td>\n",
       "      <td>technology,communication,entertainment</td>\n",
       "      <td>http://edutainmentandconvergence.vox.com/libra...</td>\n",
       "      <td>2</td>\n",
       "      <td>3</td>\n",
       "    </tr>\n",
       "    <tr>\n",
       "      <th>91384</th>\n",
       "      <td>aef31386da1616eb6e6ac8c65bcbd338.html</td>\n",
       "      <td>html</td>\n",
       "      <td>aef31386da1616eb6e6ac8c65bcbd338</td>\n",
       "      <td>design,photography,graphic</td>\n",
       "      <td>http://elana.carbonmade.com/</td>\n",
       "      <td>2</td>\n",
       "      <td>3</td>\n",
       "    </tr>\n",
       "    <tr>\n",
       "      <th>91195</th>\n",
       "      <td>231af440da2e730286709df3cf72894e.html</td>\n",
       "      <td>html</td>\n",
       "      <td>231af440da2e730286709df3cf72894e</td>\n",
       "      <td>california,oil,fuel</td>\n",
       "      <td>http://edition.cnn.com/2008/US/06/05/stealing....</td>\n",
       "      <td>2</td>\n",
       "      <td>3</td>\n",
       "    </tr>\n",
       "    <tr>\n",
       "      <th>90958</th>\n",
       "      <td>b482862ab79a41b988974a9c4d828bca.html</td>\n",
       "      <td>html</td>\n",
       "      <td>b482862ab79a41b988974a9c4d828bca</td>\n",
       "      <td>download,mp3,rapidshare,albums</td>\n",
       "      <td>http://rapidshare.com/users/JC1ZNP</td>\n",
       "      <td>2</td>\n",
       "      <td>4</td>\n",
       "    </tr>\n",
       "  </tbody>\n",
       "</table>\n",
       "</div>"
      ],
      "text/plain": [
       "                                    filename filetype  \\\n",
       "30571  9862166e802a18542e9f22be3b2b8dc4.html     html   \n",
       "139    01879557192bc8bcc69f78711aa580a1.html     html   \n",
       "92151  7e0ae721974661bd84f1d4e20464d33e.html     html   \n",
       "92142  e3230e1809a7d428b6a563afd6289df6.html     html   \n",
       "92047  3e35d090e633db29209444bd100fc3b8.html     html   \n",
       "92028  c0d40e4d854b1518cee6d261ce5fec04.html     html   \n",
       "92005  86138cb8d2008ba6b5970af9650000e7.html     html   \n",
       "91955  eabad7a90677ff1bedd138e5bbec5cf6.html     html   \n",
       "91915  fcab34a2e8c6055625c2915ac55c335e.html     html   \n",
       "91859  6a815f1b54c2f4c37629ea535fe64891.html     html   \n",
       "91818  356382fc9bd3991b156fccc7486fcd37.html     html   \n",
       "91801  44e9e8eb2fea2cf26b5d1f1ce58f953d.html     html   \n",
       "91753  4a462d97e86ebccfb56d776a4e79f3f9.html     html   \n",
       "91694  0c49fbfb113f99aee8bc5c8e7a7100d2.html     html   \n",
       "91678  41f1cd1cffe465bea7d9fe96221cd5c5.html     html   \n",
       "91674  607858a1622de2e5a8fd2d0ddf86544e.html     html   \n",
       "91511  6ce64f7ab248b9d1116d983596455e96.html     html   \n",
       "91384  aef31386da1616eb6e6ac8c65bcbd338.html     html   \n",
       "91195  231af440da2e730286709df3cf72894e.html     html   \n",
       "90958  b482862ab79a41b988974a9c4d828bca.html     html   \n",
       "\n",
       "                                   hash  \\\n",
       "30571  9862166e802a18542e9f22be3b2b8dc4   \n",
       "139    01879557192bc8bcc69f78711aa580a1   \n",
       "92151  7e0ae721974661bd84f1d4e20464d33e   \n",
       "92142  e3230e1809a7d428b6a563afd6289df6   \n",
       "92047  3e35d090e633db29209444bd100fc3b8   \n",
       "92028  c0d40e4d854b1518cee6d261ce5fec04   \n",
       "92005  86138cb8d2008ba6b5970af9650000e7   \n",
       "91955  eabad7a90677ff1bedd138e5bbec5cf6   \n",
       "91915  fcab34a2e8c6055625c2915ac55c335e   \n",
       "91859  6a815f1b54c2f4c37629ea535fe64891   \n",
       "91818  356382fc9bd3991b156fccc7486fcd37   \n",
       "91801  44e9e8eb2fea2cf26b5d1f1ce58f953d   \n",
       "91753  4a462d97e86ebccfb56d776a4e79f3f9   \n",
       "91694  0c49fbfb113f99aee8bc5c8e7a7100d2   \n",
       "91678  41f1cd1cffe465bea7d9fe96221cd5c5   \n",
       "91674  607858a1622de2e5a8fd2d0ddf86544e   \n",
       "91511  6ce64f7ab248b9d1116d983596455e96   \n",
       "91384  aef31386da1616eb6e6ac8c65bcbd338   \n",
       "91195  231af440da2e730286709df3cf72894e   \n",
       "90958  b482862ab79a41b988974a9c4d828bca   \n",
       "\n",
       "                                                    tags  \\\n",
       "30571  flash,design,motorola,website,animation,microsite   \n",
       "139                        javascript,keyboard,shortcuts   \n",
       "92151                          health,tips,,loss,weight,   \n",
       "92142  online,rentals,condo,booking,hollywood,beach,v...   \n",
       "92047                 print,osx,freeware,server,printing   \n",
       "92028                            history,brain,evolution   \n",
       "92005                                math,fractals,chaos   \n",
       "91955                    webdesign,inspiration,wordpress   \n",
       "91915  database,programming,java,tools,testing,unitte...   \n",
       "91859                               download,music,tools   \n",
       "91818                             download,video,youtube   \n",
       "91801                           programming,twitter,perl   \n",
       "91753                 politics,science,green,environment   \n",
       "91694                                 video,youtube,cpan   \n",
       "91678                      webdev,social,flex,portsmouth   \n",
       "91674  free,documentaries,lectures,lecture,news,biolo...   \n",
       "91511             technology,communication,entertainment   \n",
       "91384                         design,photography,graphic   \n",
       "91195                                california,oil,fuel   \n",
       "90958                     download,mp3,rapidshare,albums   \n",
       "\n",
       "                                                     url  num_users  num_tags  \n",
       "30571            http://www.soulpolice.com/motorolacity/          1         6  \n",
       "139                     http://livepipe.net/extra/hotkey          2         3  \n",
       "92151                 http://how-to-health.blogspot.com/          2         6  \n",
       "92142             http://hollywoodflvacationrentals.com/          2        12  \n",
       "92047  http://homepage.mac.com/barijaona/print66/pres...          2         5  \n",
       "92028  http://scienceblogs.com/neurophilosophy/2008/0...          2         3  \n",
       "92005  http://scienceblogs.com/goodmath/goodmath/topo...          2         3  \n",
       "91955                http://scribblescratch.com/themes4/          2         3  \n",
       "91915       http://schemamule.sourceforge.net/index.html          2         6  \n",
       "91859                               http://sciagnik.net/          2         3  \n",
       "91818                              http://savevid.co.cc/          2         3  \n",
       "91801  http://search.cpan.org/~cthom/Net-Twitter-1.14...          2         3  \n",
       "91753  http://scienceblogs.com/effectmeasure/2008/06/...          2         4  \n",
       "91694  http://search.cpan.org/~gbrown/WWW-YouTube-Vid...          2         3  \n",
       "91678                    http://seacoastcfflex.ning.com/          2         4  \n",
       "91674                    http://sciencetube.magnify.net/          2        10  \n",
       "91511  http://edutainmentandconvergence.vox.com/libra...          2         3  \n",
       "91384                       http://elana.carbonmade.com/          2         3  \n",
       "91195  http://edition.cnn.com/2008/US/06/05/stealing....          2         3  \n",
       "90958                 http://rapidshare.com/users/JC1ZNP          2         4  "
      ]
     },
     "execution_count": 31,
     "metadata": {},
     "output_type": "execute_result"
    }
   ],
   "source": [
    "docs_df[docs_df['num_users']<=2].sort_values('num_users').head(20)"
   ]
  },
  {
   "cell_type": "code",
   "execution_count": 20,
   "metadata": {},
   "outputs": [
    {
     "name": "stdout",
     "output_type": "stream",
     "text": [
      "filetype\n",
      "html    143716\n",
      "pdf        424\n",
      "swf         75\n",
      "txt         94\n",
      "xml        265\n",
      "Name: hash, dtype: int64\n"
     ]
    },
    {
     "data": {
      "text/plain": [
       "<matplotlib.axes._subplots.AxesSubplot at 0x7f1156380e48>"
      ]
     },
     "execution_count": 20,
     "metadata": {},
     "output_type": "execute_result"
    },
    {
     "data": {
      "image/png": "[encoded data removed]",
      "text/plain": [
       "<matplotlib.figure.Figure at 0x7f11563804a8>"
      ]
     },
     "metadata": {},
     "output_type": "display_data"
    }
   ],
   "source": [
    "# number of documents by type\n",
    "\n",
    "fig = plt.gcf()\n",
    "\n",
    "fig.set_size_inches(15,10)\n",
    "\n",
    "grouped = docs_df.groupby('filetype')['hash'].size()\n",
    "\n",
    "print(grouped)\n",
    "\n",
    "grouped.plot(kind='bar')"
   ]
  },
  {
   "cell_type": "code",
   "execution_count": 21,
   "metadata": {},
   "outputs": [
    {
     "data": {
      "text/plain": [
       "<matplotlib.axes._subplots.AxesSubplot at 0x7f1156144e10>"
      ]
     },
     "execution_count": 21,
     "metadata": {},
     "output_type": "execute_result"
    },
    {
     "data": {
      "image/png": "[encoded data removed]",
      "text/plain": [
       "<matplotlib.figure.Figure at 0x7f115613a978>"
      ]
     },
     "metadata": {},
     "output_type": "display_data"
    }
   ],
   "source": [
    "# mean num_tags by type\n",
    "docs_df.groupby('filetype')['num_tags'].mean().plot(kind='bar')"
   ]
  },
  {
   "cell_type": "code",
   "execution_count": 22,
   "metadata": {},
   "outputs": [
    {
     "name": "stdout",
     "output_type": "stream",
     "text": [
      "filetype\n",
      "html    182.584750\n",
      "pdf      32.783019\n",
      "swf     245.893333\n",
      "txt      69.148936\n",
      "xml     220.011321\n",
      "Name: num_users, dtype: float64\n"
     ]
    },
    {
     "data": {
      "text/plain": [
       "<matplotlib.axes._subplots.AxesSubplot at 0x7f11561ecfd0>"
      ]
     },
     "execution_count": 22,
     "metadata": {},
     "output_type": "execute_result"
    },
    {
     "data": {
      "image/png": "[encoded data removed]",
      "text/plain": [
       "<matplotlib.figure.Figure at 0x7f11e0f82fd0>"
      ]
     },
     "metadata": {},
     "output_type": "display_data"
    }
   ],
   "source": [
    "# mean num_users by type\n",
    "\n",
    "grouped = docs_df.groupby('filetype')['num_users'].mean()\n",
    "\n",
    "print(grouped)\n",
    "\n",
    "grouped.plot(kind='bar')"
   ]
  },
  {
   "cell_type": "code",
   "execution_count": 23,
   "metadata": {},
   "outputs": [
    {
     "data": {
      "text/plain": [
       "46215"
      ]
     },
     "execution_count": 23,
     "metadata": {},
     "output_type": "execute_result"
    }
   ],
   "source": [
    "max(set(docs_df['num_users'].values))"
   ]
  },
  {
   "cell_type": "code",
   "execution_count": 24,
   "metadata": {},
   "outputs": [
    {
     "data": {
      "text/plain": [
       "(-1, 100)"
      ]
     },
     "execution_count": 24,
     "metadata": {},
     "output_type": "execute_result"
    },
    {
     "data": {
      "image/png": "[encoded data removed]",
      "text/plain": [
       "<matplotlib.figure.Figure at 0x7f11548d1ba8>"
      ]
     },
     "metadata": {},
     "output_type": "display_data"
    }
   ],
   "source": [
    "plt.clf()\n",
    "docs_df.groupby('num_users').count()['hash'].sort_values(ascending=False).plot(kind='bar')\n",
    "\n",
    "fig = plt.gcf()\n",
    "fig.set_size_inches(18,5)\n",
    "\n",
    "plt.gca().set_title('number of users per resource')\n",
    "plt.gca().set_xlim(-1,100)"
   ]
  },
  {
   "cell_type": "code",
   "execution_count": 25,
   "metadata": {},
   "outputs": [
    {
     "data": {
      "text/plain": [
       "31511"
      ]
     },
     "execution_count": 25,
     "metadata": {},
     "output_type": "execute_result"
    }
   ],
   "source": [
    "len(docs_df[docs_df['num_tags'] == 25])"
   ]
  },
  {
   "cell_type": "code",
   "execution_count": 26,
   "metadata": {},
   "outputs": [
    {
     "data": {
      "text/plain": [
       "(-1, 30)"
      ]
     },
     "execution_count": 26,
     "metadata": {},
     "output_type": "execute_result"
    },
    {
     "data": {
      "image/png": "[encoded data removed]",
      "text/plain": [
       "<matplotlib.figure.Figure at 0x7f114bf86630>"
      ]
     },
     "metadata": {},
     "output_type": "display_data"
    }
   ],
   "source": [
    "docs_df.groupby('num_tags').count()['hash'].sort_values(ascending=False).plot(kind='bar')\n",
    "plt.gca().set_title('number of tags per resource')\n",
    "plt.gca().set_xlim(-1,30)"
   ]
  },
  {
   "cell_type": "code",
   "execution_count": 27,
   "metadata": {
    "collapsed": true
   },
   "outputs": [],
   "source": [
    "# total tags\n",
    "\n",
    "tagsets = [tagset.split(',') for tagset in docs_df[\"tags\"].values]\n"
   ]
  },
  {
   "cell_type": "code",
   "execution_count": 28,
   "metadata": {
    "collapsed": true
   },
   "outputs": [],
   "source": [
    "flat_list = []\n",
    "\n",
    "for tagset in tagsets:\n",
    "    for tag in tagset:\n",
    "        flat_list.append(tag)\n",
    "        \n",
    "flat_set = set(flat_list)        "
   ]
  },
  {
   "cell_type": "code",
   "execution_count": 29,
   "metadata": {},
   "outputs": [
    {
     "data": {
      "text/plain": [
       "66023"
      ]
     },
     "execution_count": 29,
     "metadata": {},
     "output_type": "execute_result"
    }
   ],
   "source": [
    "len(flat_set)"
   ]
  },
  {
   "cell_type": "code",
   "execution_count": 32,
   "metadata": {},
   "outputs": [
    {
     "data": {
      "text/plain": [
       "['',\n",
       " '!',\n",
       " '!!!',\n",
       " '!!!financial',\n",
       " '!!canoe',\n",
       " '!important',\n",
       " '!mp3',\n",
       " '!music',\n",
       " '!read.on',\n",
       " '!songbird',\n",
       " '#1',\n",
       " '#develop',\n",
       " '#due_south',\n",
       " '$',\n",
       " '$$$',\n",
       " '$1',\n",
       " '$10',\n",
       " '$100',\n",
       " '$20',\n",
       " '$_server',\n",
       " '$path',\n",
       " '%s',\n",
       " '&',\n",
       " \"'80s\",\n",
       " \"'see'\",\n",
       " '(cam)',\n",
       " '(design)',\n",
       " '(firefly)',\n",
       " '(fragmented)',\n",
       " '(free)',\n",
       " '(quando',\n",
       " '(tony)',\n",
       " '(x)html',\n",
       " '*',\n",
       " '**',\n",
       " '***',\n",
       " '****',\n",
       " '*****',\n",
       " '*articles',\n",
       " '*audiovideo',\n",
       " '*blog',\n",
       " '*book',\n",
       " '*box',\n",
       " '*css',\n",
       " '*design',\n",
       " '*eightmedia',\n",
       " '*firefox',\n",
       " '*game',\n",
       " '*hurt/comfort',\n",
       " '*javascript']"
      ]
     },
     "execution_count": 32,
     "metadata": {},
     "output_type": "execute_result"
    }
   ],
   "source": [
    "sorted(flat_set)[:50]"
   ]
  },
  {
   "cell_type": "code",
   "execution_count": null,
   "metadata": {
    "collapsed": true
   },
   "outputs": [],
   "source": []
  }
 ],
 "metadata": {
  "kernelspec": {
   "display_name": "Global TF Kernel (Python 3)",
   "language": "python",
   "name": "global-tf-python-3"
  },
  "language_info": {
   "codemirror_mode": {
    "name": "ipython",
    "version": 3
   },
   "file_extension": ".py",
   "mimetype": "text/x-python",
   "name": "python",
   "nbconvert_exporter": "python",
   "pygments_lexer": "ipython3",
   "version": "3.5.2"
  }
 },
 "nbformat": 4,
 "nbformat_minor": 2
}
