{
 "cells": [
  {
   "cell_type": "code",
   "execution_count": 1,
   "metadata": {},
   "outputs": [],
   "source": [
    "import os,sys\n",
    "import numpy as np\n",
    "import pickle\n",
    "import math\n",
    "import gc\n",
    "import multiprocessing\n",
    "import dask.dataframe as dd\n",
    "import csv\n",
    "import pandas as pd"
   ]
  },
  {
   "cell_type": "code",
   "execution_count": 2,
   "metadata": {
    "collapsed": true
   },
   "outputs": [],
   "source": [
    "src_dir = os.path.join(os.getcwd(), os.pardir, '../')\n",
    "sys.path.append(src_dir)\n"
   ]
  },
  {
   "cell_type": "code",
   "execution_count": 3,
   "metadata": {
    "collapsed": true
   },
   "outputs": [],
   "source": [
    "DATA_ROOT = \"/media/felipe/SAMSUNG/delicious/delicioust140\"\n",
    "TAGINFO = DATA_ROOT+\"/taginfo.xml\"\n",
    "INTERIM_DATA_ROOT = os.path.abspath(\"../../data/interim/delicious-t140/\")\n",
    "PROCESSED_DATA_ROOT = os.path.abspath(\"../../data/processed/\")\n",
    "SEED= 42"
   ]
  },
  {
   "cell_type": "code",
   "execution_count": 4,
   "metadata": {
    "collapsed": true
   },
   "outputs": [],
   "source": [
    "from src.data.delicious_t140 import get_full_from_cache\n",
    "from src.utils.dataframes import sample_rows\n",
    "from src.features.delicious_t140 import clean_text_delicious"
   ]
  },
  {
   "cell_type": "markdown",
   "metadata": {},
   "source": [
    "## read all and split into parts"
   ]
  },
  {
   "cell_type": "code",
   "execution_count": null,
   "metadata": {},
   "outputs": [],
   "source": [
    "df = get_full_from_cache(INTERIM_DATA_ROOT,with_contents=True)"
   ]
  },
  {
   "cell_type": "code",
   "execution_count": null,
   "metadata": {},
   "outputs": [],
   "source": [
    "len(df)"
   ]
  },
  {
   "cell_type": "code",
   "execution_count": null,
   "metadata": {},
   "outputs": [],
   "source": [
    "df.head(10000).to_csv(\n",
    "    PROCESSED_DATA_ROOT+\"/delicious-t-140-with-contents-part1.csv\",\n",
    "    quoting=csv.QUOTE_ALL,\n",
    "    line_terminator='\\n',\n",
    "    index=False)"
   ]
  },
  {
   "cell_type": "code",
   "execution_count": null,
   "metadata": {
    "collapsed": true
   },
   "outputs": [],
   "source": [
    "df.iloc[10000:20000].to_csv(\n",
    "    PROCESSED_DATA_ROOT+\"/delicious-t-140-with-contents-part2.csv\",\n",
    "    quoting=csv.QUOTE_ALL,\n",
    "    line_terminator='\\n',\n",
    "    index=False)"
   ]
  },
  {
   "cell_type": "code",
   "execution_count": null,
   "metadata": {
    "collapsed": true
   },
   "outputs": [],
   "source": [
    "df.iloc[20000:30000].to_csv(\n",
    "    PROCESSED_DATA_ROOT+\"/delicious-t-140-with-contents-part3.csv\",\n",
    "    quoting=csv.QUOTE_ALL,\n",
    "    line_terminator='\\n',\n",
    "    index=False)"
   ]
  },
  {
   "cell_type": "code",
   "execution_count": null,
   "metadata": {
    "collapsed": true
   },
   "outputs": [],
   "source": [
    "df.iloc[30000:40000].to_csv(\n",
    "    PROCESSED_DATA_ROOT+\"/delicious-t-140-with-contents-part4.csv\",\n",
    "    quoting=csv.QUOTE_ALL,\n",
    "    line_terminator='\\n',\n",
    "    index=False)"
   ]
  },
  {
   "cell_type": "code",
   "execution_count": null,
   "metadata": {
    "scrolled": true
   },
   "outputs": [],
   "source": [
    "df.iloc[40000:50000].to_csv(\n",
    "    PROCESSED_DATA_ROOT+\"/delicious-t-140-with-contents-part5.csv\",\n",
    "    quoting=csv.QUOTE_ALL,\n",
    "    line_terminator='\\n',\n",
    "    index=False)"
   ]
  },
  {
   "cell_type": "code",
   "execution_count": null,
   "metadata": {
    "collapsed": true
   },
   "outputs": [],
   "source": [
    "df.iloc[50000:60000].to_csv(\n",
    "    PROCESSED_DATA_ROOT+\"/delicious-t-140-with-contents-part6.csv\",\n",
    "    quoting=csv.QUOTE_ALL,\n",
    "    line_terminator='\\n',\n",
    "    index=False)"
   ]
  },
  {
   "cell_type": "code",
   "execution_count": null,
   "metadata": {
    "collapsed": true
   },
   "outputs": [],
   "source": [
    "df.iloc[60000:70000].to_csv(\n",
    "    PROCESSED_DATA_ROOT+\"/delicious-t-140-with-contents-part7.csv\",\n",
    "    quoting=csv.QUOTE_ALL,\n",
    "    line_terminator='\\n',\n",
    "    index=False)"
   ]
  },
  {
   "cell_type": "code",
   "execution_count": null,
   "metadata": {
    "collapsed": true
   },
   "outputs": [],
   "source": [
    "df.iloc[70000:80000].to_csv(\n",
    "    PROCESSED_DATA_ROOT+\"/delicious-t-140-with-contents-part8.csv\",\n",
    "    quoting=csv.QUOTE_ALL,\n",
    "    line_terminator='\\n',\n",
    "    index=False)"
   ]
  },
  {
   "cell_type": "code",
   "execution_count": null,
   "metadata": {
    "collapsed": true
   },
   "outputs": [],
   "source": [
    "df.iloc[80000:90000].to_csv(\n",
    "    PROCESSED_DATA_ROOT+\"/delicious-t-140-with-contents-part9.csv\",\n",
    "    quoting=csv.QUOTE_ALL,\n",
    "    line_terminator='\\n',\n",
    "    index=False)"
   ]
  },
  {
   "cell_type": "code",
   "execution_count": null,
   "metadata": {
    "collapsed": true
   },
   "outputs": [],
   "source": [
    "df.iloc[90000:100000].to_csv(\n",
    "    PROCESSED_DATA_ROOT+\"/delicious-t-140-with-contents-part10.csv\",\n",
    "    quoting=csv.QUOTE_ALL,\n",
    "    line_terminator='\\n',\n",
    "    index=False)"
   ]
  },
  {
   "cell_type": "code",
   "execution_count": null,
   "metadata": {
    "collapsed": true
   },
   "outputs": [],
   "source": [
    "df.iloc[100000:110000].to_csv(\n",
    "    PROCESSED_DATA_ROOT+\"/delicious-t-140-with-contents-part11.csv\",\n",
    "    quoting=csv.QUOTE_ALL,\n",
    "    line_terminator='\\n',\n",
    "    index=False)"
   ]
  },
  {
   "cell_type": "code",
   "execution_count": null,
   "metadata": {
    "collapsed": true
   },
   "outputs": [],
   "source": [
    "df.iloc[110000:120000].to_csv(\n",
    "    PROCESSED_DATA_ROOT+\"/delicious-t-140-with-contents-part12.csv\",\n",
    "    quoting=csv.QUOTE_ALL,\n",
    "    line_terminator='\\n',\n",
    "    index=False)"
   ]
  },
  {
   "cell_type": "code",
   "execution_count": null,
   "metadata": {
    "collapsed": true
   },
   "outputs": [],
   "source": [
    "df.iloc[120000:130000].to_csv(\n",
    "    PROCESSED_DATA_ROOT+\"/delicious-t-140-with-contents-part13.csv\",\n",
    "    quoting=csv.QUOTE_ALL,\n",
    "    line_terminator='\\n',\n",
    "    index=False)"
   ]
  },
  {
   "cell_type": "code",
   "execution_count": null,
   "metadata": {
    "collapsed": true
   },
   "outputs": [],
   "source": [
    "df.iloc[130000:140000].to_csv(\n",
    "    PROCESSED_DATA_ROOT+\"/delicious-t-140-with-contents-part14.csv\",\n",
    "    quoting=csv.QUOTE_ALL,\n",
    "    line_terminator='\\n',\n",
    "    index=False)"
   ]
  },
  {
   "cell_type": "code",
   "execution_count": null,
   "metadata": {
    "collapsed": true
   },
   "outputs": [],
   "source": [
    "df.iloc[140000:].to_csv(\n",
    "    PROCESSED_DATA_ROOT+\"/delicious-t-140-with-contents-part15.csv\",\n",
    "    quoting=csv.QUOTE_ALL,\n",
    "    line_terminator='\\n',\n",
    "    index=False)"
   ]
  },
  {
   "cell_type": "markdown",
   "metadata": {},
   "source": [
    "## read, clean and write back each part"
   ]
  },
  {
   "cell_type": "code",
   "execution_count": 11,
   "metadata": {},
   "outputs": [],
   "source": [
    "# part 1\n",
    "df = pd.read_csv(\n",
    "    PROCESSED_DATA_ROOT+\"/delicious-t-140-with-contents-part1.csv\",\n",
    "    lineterminator='\\n')\n",
    "df[\"contents\"] =df[\"contents\"].map(lambda text: clean_text_delicious(str(text)))\n",
    "df.to_csv(\n",
    "    PROCESSED_DATA_ROOT+\"/delicious-t-140-with-contents-part1.csv\",\n",
    "    quoting=csv.QUOTE_ALL,\n",
    "    index=False)"
   ]
  },
  {
   "cell_type": "code",
   "execution_count": 17,
   "metadata": {},
   "outputs": [],
   "source": [
    "# part 2 to part 14\n",
    "for i in range(2,15):   \n",
    "    df = pd.read_csv(\n",
    "        PROCESSED_DATA_ROOT+\"/delicious-t-140-with-contents-part{}.csv\".format(i),\n",
    "        lineterminator='\\n')\n",
    "    \n",
    "    df[\"contents\"] =df[\"contents\"].map(lambda text: clean_text_delicious(str(text)))\n",
    "    df.to_csv(\n",
    "        PROCESSED_DATA_ROOT+\"/delicious-t-140-with-contents-part{}.csv\".format(i),\n",
    "        quoting=csv.QUOTE_ALL,\n",
    "        header=False,\n",
    "        index=False)"
   ]
  },
  {
   "cell_type": "code",
   "execution_count": 18,
   "metadata": {
    "collapsed": true
   },
   "outputs": [],
   "source": [
    "# part 15\n",
    "df = pd.read_csv(\n",
    "    PROCESSED_DATA_ROOT+\"/delicious-t-140-with-contents-part15.csv\".format(i),\n",
    "    lineterminator='\\n')\n",
    "\n",
    "df[\"contents\"] =df[\"contents\"].map(lambda text: clean_text_delicious(str(text)))\n",
    "df.to_csv(\n",
    "    PROCESSED_DATA_ROOT+\"/delicious-t-140-with-contents-part15.csv\".format(i),\n",
    "    quoting=csv.QUOTE_ALL,\n",
    "    header=False,\n",
    "    index=False)"
   ]
  },
  {
   "cell_type": "code",
   "execution_count": 30,
   "metadata": {},
   "outputs": [
    {
     "data": {
      "text/plain": [
       "CompletedProcess(args=['/bin/cat', '/home/felipe/auto-tagger/social-tags/data/processed/delicious-t-140-with-contents-part-1.csv', '/home/felipe/auto-tagger/social-tags/data/processed/delicious-t-140-with-contents-part-2.csv', '/home/felipe/auto-tagger/social-tags/data/processed/delicious-t-140-with-contents-part-3.csv', '/home/felipe/auto-tagger/social-tags/data/processed/delicious-t-140-with-contents-part-4.csv', '/home/felipe/auto-tagger/social-tags/data/processed/delicious-t-140-with-contents-part-5.csv', '/home/felipe/auto-tagger/social-tags/data/processed/delicious-t-140-with-contents-part-6.csv', '/home/felipe/auto-tagger/social-tags/data/processed/delicious-t-140-with-contents-part-7.csv', '/home/felipe/auto-tagger/social-tags/data/processed/delicious-t-140-with-contents-part-8.csv', '/home/felipe/auto-tagger/social-tags/data/processed/delicious-t-140-with-contents-part-9.csv', '/home/felipe/auto-tagger/social-tags/data/processed/delicious-t-140-with-contents-part-10.csv', '/home/felipe/auto-tagger/social-tags/data/processed/delicious-t-140-with-contents-part-11.csv', '/home/felipe/auto-tagger/social-tags/data/processed/delicious-t-140-with-contents-part-12.csv', '/home/felipe/auto-tagger/social-tags/data/processed/delicious-t-140-with-contents-part-13.csv', '/home/felipe/auto-tagger/social-tags/data/processed/delicious-t-140-with-contents-part-14.csv', '/home/felipe/auto-tagger/social-tags/data/processed/delicious-t-140-with-contents-part-15.csv', '>', '/home/felipe/auto-tagger/social-tags/data/processed/delicious-t-140-with-clean-contents.csv'], returncode=1, stdout=b'')"
      ]
     },
     "execution_count": 30,
     "metadata": {},
     "output_type": "execute_result"
    }
   ],
   "source": [
    "# join all parts using cat\n",
    "from subprocess import run,PIPE\n",
    "\n",
    "parts = [PROCESSED_DATA_ROOT+\"/delicious-t-140-with-contents-part-{}.csv\".format(part) for part in range(1,16)]\n",
    "\n",
    "output_file = PROCESSED_DATA_ROOT+\"/delicious-t-140-with-clean-contents.csv\"\n",
    "\n",
    "command = [\"/bin/cat\"] + parts + [\">\",output_file]\n",
    "\n",
    "# print(command)\n",
    "\n",
    "run(command,stdout=PIPE)"
   ]
  }
 ],
 "metadata": {
  "kernelspec": {
   "display_name": "Global TF Kernel (Python 3)",
   "language": "python",
   "name": "global-tf-python-3"
  },
  "language_info": {
   "codemirror_mode": {
    "name": "ipython",
    "version": 3
   },
   "file_extension": ".py",
   "mimetype": "text/x-python",
   "name": "python",
   "nbconvert_exporter": "python",
   "pygments_lexer": "ipython3",
   "version": "3.5.2"
  }
 },
 "nbformat": 4,
 "nbformat_minor": 2
}
