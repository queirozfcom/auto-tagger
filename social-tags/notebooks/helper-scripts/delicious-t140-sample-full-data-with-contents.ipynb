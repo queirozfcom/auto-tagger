{
 "cells": [
  {
   "cell_type": "code",
   "execution_count": 1,
   "metadata": {
    "collapsed": true
   },
   "outputs": [],
   "source": [
    "import os,sys\n",
    "import numpy as np\n",
    "import pickle\n",
    "import math\n",
    "import gc\n",
    "import multiprocessing\n"
   ]
  },
  {
   "cell_type": "code",
   "execution_count": 2,
   "metadata": {
    "collapsed": true
   },
   "outputs": [],
   "source": [
    "src_dir = os.path.join(os.getcwd(), os.pardir, '../')\n",
    "sys.path.append(src_dir)\n"
   ]
  },
  {
   "cell_type": "code",
   "execution_count": 3,
   "metadata": {
    "collapsed": true
   },
   "outputs": [],
   "source": [
    "DATA_ROOT = \"/media/felipe/SAMSUNG/delicious/delicioust140\"\n",
    "TAGINFO = DATA_ROOT+\"/taginfo.xml\"\n",
    "INTERIM_DATA_ROOT = os.path.abspath(\"../../data/interim/delicious-t140/\")\n",
    "MAX_NB_WORDS = 5000\n",
    "SEED= 42\n",
    "SAMPLE_FRAC = 0.1"
   ]
  },
  {
   "cell_type": "code",
   "execution_count": 4,
   "metadata": {
    "collapsed": true
   },
   "outputs": [],
   "source": [
    "from src.data.delicious_t140 import get_full_from_cache\n",
    "from src.utils.dataframes import sample_rows\n",
    "from src.features.delicious_t140 import clean_text_delicious"
   ]
  },
  {
   "cell_type": "code",
   "execution_count": 17,
   "metadata": {
    "collapsed": true
   },
   "outputs": [],
   "source": [
    "def get_partial(min_index,max_index):\n",
    "    df = get_full_from_cache(INTERIM_DATA_ROOT,with_contents=True)\n",
    "    df2 = df[min_index:max_index].copy()\n",
    "    df2[\"contents\"] = df2[\"contents\"].map(lambda text: clean_text_delicious(text))\n",
    "    return df2"
   ]
  },
  {
   "cell_type": "code",
   "execution_count": 7,
   "metadata": {
    "collapsed": true
   },
   "outputs": [],
   "source": [
    "df = get_full_from_cache(INTERIM_DATA_ROOT,with_contents=True)"
   ]
  },
  {
   "cell_type": "code",
   "execution_count": null,
   "metadata": {
    "collapsed": true
   },
   "outputs": [],
   "source": [
    "part = "
   ]
  },
  {
   "cell_type": "code",
   "execution_count": null,
   "metadata": {
    "collapsed": true
   },
   "outputs": [],
   "source": [
    "np.random.seed(SEED)"
   ]
  },
  {
   "cell_type": "code",
   "execution_count": 8,
   "metadata": {},
   "outputs": [],
   "source": [
    "num_rows = len(df)\n",
    "\n",
    "def get_indices(total_rows, step):\n",
    "    \n",
    "    max_num_parts = math.ceil(total_rows/step)\n",
    "    \n",
    "    for i in range(0,max_num_parts):\n",
    "        min_row = i*step\n",
    "        max_row = min(min_row + step,total_rows-1)\n",
    "        \n",
    "        yield (min_row,max_row)\n"
   ]
  },
  {
   "cell_type": "code",
   "execution_count": null,
   "metadata": {
    "collapsed": true
   },
   "outputs": [],
   "source": [
    "df"
   ]
  },
  {
   "cell_type": "code",
   "execution_count": 15,
   "metadata": {
    "collapsed": true
   },
   "outputs": [],
   "source": [
    "df2 = df[0:1].copy()\n",
    "df2[\"contents\"] =df2[\"contents\"].map(lambda text: clean_text_delicious(text))"
   ]
  },
  {
   "cell_type": "code",
   "execution_count": 16,
   "metadata": {},
   "outputs": [
    {
     "data": {
      "text/plain": [
       "array([ ' Mutualist Blog: Free Market Anti-Capitalism: Vulgar Libertarianism Watch, Part 1 @import url(\"http://www.blogger.com/css/blog_controls.css\"); @import url(\"http://www.blogger.com/dyn-css/authorization.css?targetBlogID=10091452\"); var BL_backlinkURL = \"http://www.blogger.com/dyn-js/backlink_count.js\";var BL_blogId = \"10091452\"; /* ----------------------------------------------------- Blogger Template Style Sheet Name: Scribe Designer: Todd Dominey URL: domineydesign.com / whatdoiknow.org Date: 27 Feb 2004 ------------------------------------------------------ */ /* Defaults ----------------------------------------------- */ body { margin:0; padding:0; font-family: Georgia, Times, Times New Roman, sans-serif; font-size: small; text-align:center; color:#29303B; line-height:1.3; background:#483521 url(\"http://www.blogblog.com/scribe/bg.gif\") repeat; } blockquote { padding:0 32px; line-height:1.6; margin:0 0 .6em 0; } p {margin:0;padding:0}; abbr, acronym { cursor:help; font-style:normal; } code {font:12px monospace;white-space:normal;color:#666;} hr {display:none;} img {border:0;} /* Link styles */ a:link {color:#473624;text-decoration:underline;} a:visited {color:#716E6C;text-decoration:underline;} a:hover {color:#956839;text-decoration:underline;} a:active {color:#956839;} /* Layout ----------------------------------------------- */ #wrap { background-color:#473624; border-left:1px solid #332A24; border-right:1px solid #332A24; width:700px; margin:0 auto; padding:8px; text-align:center; } #main-top { width:700px; height:49px; background:#FFF3DB url(\"http://www.blogblog.com/scribe/bg_paper_top.jpg\") no-repeat top left; margin:0;padding:0; display:block; } #main-bot { width:700px; height:81px; background:#FFF3DB url(\"http://www.blogblog.com/scribe/bg_paper_bot.jpg\") no-repeat top left; margin:0;padding:0; display:block; } #main-content { width:700px; background:#FFF3DB url(\"http://www.blogblog.com/scribe/bg_paper_mid.jpg\") repeat-y; margin:0; text-align:left; display:block; } #inner-wrap { padding:0 50px; } #blog-header { margin-bottom:12px; } #blog-header h1 { margin:0; padding:0 0 6px 0; font-size:225%; font-weight:normal; color:#612E00; } #blog-header h1 a:link { text-decoration:none; } #blog-header h1 a:visited { text-decoration:none; } #blog-header h1 a:hover { border:0; text-decoration:none; } #blog-header p { margin:0; padding:0; font-style:italic; font-size:94%; line-height:1.5em; } div.clearer { clear:left; line-height:0; height:10px; margin-bottom:12px; _margin-top:-4px; /* IE Windows target */ background:url(\"http://www.blogblog.com/scribe/divider.gif\") no-repeat bottom left; } #main { width:430px; float:right; padding:8px 0; margin:0; } #sidebar { width:150px; float:left; padding:8px 0; margin:0; } #footer { clear:both; background:url(\"http://www.blogblog.com/scribe/divider.gif\") no-repeat top left; padding-top:10px; _padding-top:6px; /* IE Windows target */ } #footer p { line-height:1.5em; font-family:Verdana, sans-serif; font-size:75%; } /* Typography :: Main entry ----------------------------------------------- */ h2.date-header { font-weight:normal; text-transform:uppercase; letter-spacing:.1em; font-size:90%; margin:0; padding:0; } .post { margin:8px 0 24px 0; } h3.post-title { font-weight:normal; font-size:140%; color:#1B0431; margin:0; padding:0; } .post-body p { line-height:1.5em; margin:0 0 .6em 0; } .post-footer { font-family:Verdana, sans-serif; color:#211104; font-size:74%; border-top:1px solid #BFB186; padding-top:6px; } .post ul { margin:0; padding:0; } .post li { line-height:1.5em; list-style:none; background:url(\"http://www.blogblog.com/scribe/list_icon.gif\") no-repeat 0px .3em; vertical-align:top; padding: 0 0 .6em 17px; margin:0; } /* Typography :: Sidebar ----------------------------------------------- */ h2.sidebar-title { font-weight:normal; font-size:120%; margin:0; padding:0; color:#211104; } h2.sidebar-title img { margin-bottom:-4px; } #sidebar ul { font-family:Verdana, sans-serif; font-size:86%; margin:6px 0 12px 0; padding:0; } #sidebar ul li { list-style: none; padding-bottom:6px; margin:0; } #sidebar p { font-family:Verdana,sans-serif; font-size:86%; margin:0 0 .6em 0; } /* Comments ----------------------------------------------- */ #comments {} #comments h4 { font-weight:normal; font-size:120%; color:#29303B; margin:0; padding:0; } #comments-block { line-height:1.5em; } .comment-poster { background:url(\"http://www.blogblog.com/scribe/list_icon.gif\") no-repeat 2px .35em; margin:.5em 0 0; padding:0 0 0 20px; font-weight:bold; } .comment-body { margin:0; padding:0 0 0 20px; } .comment-body p { font-size:100%; margin:0 0 .2em 0; } .comment-timestamp { font-family:Verdana, sans-serif; color:#29303B; font-size:74%; margin:0 0 10px; padding:0 0 .75em 20px; } .comment-timestamp a:link { color:#473624; text-decoration:underline; } .comment-timestamp a:visited { color:#716E6C; text-decoration:underline; } .comment-timestamp a:hover { color:#956839; text-decoration:underline; } .comment-timestamp a:active { color:#956839; text-decoration:none; } .deleted-comment { font-style:italic; color:gray; } /* Profile ----------------------------------------------- */ #profile-container { margin-top:12px; padding-top:12px; height:auto; background:url(\"http://www.blogblog.com/scribe/divider.gif\") no-repeat top left; } .profile-datablock { margin:0 0 4px 0; } .profile-data { display:inline; margin:0; padding:0 8px 0 0; text-transform:uppercase; letter-spacing:.1em; font-size:90%; color:#211104; } .profile-img {display:inline;} .profile-img img { float:left; margin:0 8px 0 0; border:1px solid #A2907D; padding:2px; } .profile-textblock { font-family:Verdana, sans-serif;font-size:86%;margin:0;padding:0; } .profile-link { margin-top:5px; font-family:Verdana,sans-serif; font-size:86%; } /* Post photos ----------------------------------------------- */ img.post-photo { border:1px solid #A2907D; padding:4px; } .comment-link {margin-left:.6em;} @import url(http://www.blogger.com/css/navbar/classic.css); div.b-mobile {display:none;} Mutualist Blog: Free Market Anti-Capitalism To dissolve, submerge, and cause to disappear the political or governmental system in the economic system by reducing, simplifying, decentralizing and suppressing, one after another, all the wheels of this great machine, which is called the Government or the State. --Proudhon, General Idea of the Revolution About Me Name: Kevin Carson Location: United States View my complete profile Note--if the text field is blank, you should be reading this in Firefox. Mutualist Amazon Store Atom Feed Advertise on blogs MY SITES Mutualist.Org: Free Market Anti-Capitalism Studies in Mutualist Political Economy JLS Symposium on Mutualist Political Economy Organization Theory: An Individualist Anarchist Perspective (in the works) Ozark Blog FAVORITE POSTS Subject Headings Organizational Behavior Theory Decentralist Economics and Alternative Social Institutions Contract Feudalism and Labor Issues Agribusiness vs. Alternative Agriculture Fish! Philosophy and Who Moved My Cheese? Vulgar Libertarianism, Neoliberalism, and Corporate Welfare Fake \"Small Government,\" \"Privatization,\" \"Deregulation\" Primitive Accumulation Neoconservative Ideology Washington Bullets, \"National Security,\" Globalization Cockroach Caucuses and Local Corporate Welfare Vulgar Liberalism, the New Class, and Publik Skools\\' War on Independent Thought Libertarian-Green, Libertarian Right-Left Alliances Libertarian Politics and Strategy Free Market Anti-Capitalism Georgism, Tuckerism, and Property Issues Contra Reisman Health Issues Establishment Journalism Police State AFFILIATION home previous list random join next .sustainableLogNewsFeed * {font-family:Arial;text-align:left;font-size:10px;} .sustainableLogNewsFeed P {padding-bottom:5px;margin:0px;} .sustainableLogNewsFeed A.newsLink {color:blue;} .sustainableLogNewsFeed A.newsLinkAlt {color:blue;} #sustainableLogNewsFeed A:link {color:blue;text-decoration:underline;} #sustainableLogNewsFeed A:hover {color:blue;} Click for &quot;Green Bloggers Digest&quot;. By Feed Digest Provided by First Sustainable Add this box to your site Add your feed to this box LINKS Subject Headings: The Art of the Possible Voluntary Cooperation Movement Blogosphere/Alliance of the Libertarian Left (and friends) Libertarian Alliance and Friends Just Things (and Fair Trade) Carnival of Anarchy Uncapitalists Labor and Workplace Issues Organization Theory Economists, Heterodox and Other Cooperative and Decentralist Economics, Self-Management, Peer Production, Open Source Austrian Economics Dialectical Libertarianism, Thick Libertarianism, and Cultural Freedom Front Porch Anarchists and Reactionary Radicals Trotskyite Anarcho-Caps, Stirnerite Anarcho-Commies, Social Anarchists and Libertarian Socialists Don\\'t Tread On Me: Root-Strikers, Voluntaryists, Stirnerites Luddite Social Commentary, Humor, High Weirdness and WTF? Against Empire and Neoliberalism Against Fascism and the Police State Georgist, Geolibertarian and Land Radicalism Free Money and Banking Distributist Agrarian Anarchist Historical Scholarship Religious Paleocon Great Libertarian Periodicals Great Left Periodicals Radical News Commentary Online Libraries and Other Resources Press and Propaganda Watch Corporate Watch Against Agribusiness For Community and Against Sprawl Self-Sufficiency and DIY Secessionist Northwest Arkansas Uncategorized Blogs AngloNoelNatter (old blog) The Anthropik Network As I Please autobiology BattlePanda Blog-a-Boo Books Do Furnish a Room paulie cannoli Capital Reward Choose Liberty CrowSaga Double Think! e pur si muove eye of the storm (Crispin Sartwell) Flagrancy to Reason Freedom\\'s Gate Freeway to Serfdom (Jay Jardine) David Friedman Globalization Institute Hawken Blog Hyperborean Human Iterations Ideas, Rants, Stuff (Chris Acheson) Johnno Liberty & Power Lowercase Liberty (B.K. Marcus) Brian Micklethwait Modulator The Mushkush Miscellany No Treason Peculiar Travel Suggestions Prosthetic Conscience Sinners in the Hands of an Angry Blog (Brian Moore) Social Tactics/A> Clark Stooksbury Stress The Sudden Curve The Superfluous Man thoughts on the eve of the apocalypse Translucent Partisan Urban Pundit The Vanity Website (formerly Back to the Woom) Visto de Cima walk into eternity Where HipHop and Libertarianism Meet Of Whirlpools and Sea Monsters Zoepolitics (formerly Immanent Multiplicity) The Zone: Hinside Looking Howdt Other Websites Against Politics Albert Einstein Institution Fuck Authority! Anarchist Outreach Grassroots Libertarians The Independent Institute International Center on Nonviolent Conflict Listen Liberty! Robert Milnes Carol Moore Rothbard Caucus Students for a Democratic Society Thought Storms The Tyee STATS Technorati profile Who Links Here Blogshares More blogs about anarchism. More blogs about anarchist. More blogs about libertarian. This is a paragraph of text that could go in the sidebar. --> Tuesday, January 11, 2005 Vulgar Libertarianism Watch, Part 1 Since I first considered doing a blog, I\\'ve envisioned a recurring feature called \"Vulgar Libertarianism Watch,\" or some such. At one point, I toyed with the idea of making that the name of the blog, and devoting most of my effort to reporting on the kind of faux \"free market\" analysis that consists of an apologetic for big business. But although there would be more than enough such material to keep me blogging indefinitely, I decided such an exclusive focus would be too much of a one-trick pony.So I\\'ve decided to go with the original impulse, and regularly feature \"Vulgar Libertarianism Watch\" without making it the main focus of the blog. And what better way to kick things off than with the first installment of this feature?First, a note on what vulgar libertarianism is. The term, coined as far as I know by yours truly, alludes both to the \"vulgar Marxism\" of twentieth century Marxoids, and to what Marx called the \"vulgar political economy\" of the generation after Ricardo and Mill. The defining feature of vulgar political economy, as Marx described it, was that it had ceased to be an attempt at the scientific explication of the laws of economics, and had become a hired prize-fighter on behalf of plutocratic interests. Classical political economy was a revolutionary creed that threatened the interests of the landed oligarchy and the mercantilists. And it was amenable to even more revolutionary uses, as evidenced by the Ricardian socialists. The most famous socialist treatment of Ricardo, of course, is that of Marx. But the socialist development of classical political economy also included free marketers like Thomas Hodgskin (the most preeminent of Ricardian socialists), the mutualist and individualist anarchists from Warren to Tucker and Spooner, and many Georgists. My own work falls within this latter array of petty bourgeois deviationationists. But with the triumph of the industrial owning classes in 1830s Britain, the focus of political economy shifted from scientific investigation and a radical challenge to the power of the Old Regime, to an apology for the status quo.I described vulgar libertarianism as an ideology in the opening section of Chapter Four of my Studies in Mutualist Political Economy. Since that passage is as coherent a description as I am likely to write, rather than reinvent the wheel I\\'ll just take the lazy man\\'s way out and paste in the relevant paragraphs: This school of libertarianism has inscribed on its banner the reactionary watchword: \"Them pore ole bosses need all the help they can get.\" For every imaginable policy issue, the good guys and bad guys can be predicted with ease, by simply inverting the slogan of Animal Farm: \"Two legs good, four legs baaaad.\" In every case, the good guys, the sacrificial victims of the Progressive State, are the rich and powerful. The bad guys are the consumer and the worker, acting to enrich themselves from the public treasury. As one of the most egregious examples of this tendency, consider Ayn Rand\\'s characterization of big business as an \"oppressed minority,\" and of the Military-Industrial Complex as a \"myth or worse.\" The ideal \"free market\" society of such people, it seems, is simply actually existing capitalism, minus the regulatory and welfare state: a hyper-thyroidal version of nineteenth century robber baron capitalism, perhaps; or better yet, a society \"reformed\" by the likes of Pinochet, the Dionysius to whom Milton Friedman and the Chicago Boys played Aristotle. Vulgar libertarian apologists for capitalism use the term \"free market\" in an equivocal sense: they seem to have trouble remembering, from one moment to the next, whether they’re defending actually existing capitalism or free market principles. So we get the standard boilerplate article arguing that the rich can’t get rich at the expense of the poor, because \"that’s not how the free market works\"--implicitly assuming that this is a free market. When prodded, they’ll grudgingly admit that the present system is not a free market, and that it includes a lot of state intervention on behalf of the rich. But as soon as they think they can get away with it, they go right back to defending the wealth of existing corporations on the basis of \"free market principles.\"So, without further ado, we proceed to dissect the first specimen of libertarianus vulgaris. It would have been too much of a coincidence for me to stumble across such an egregious example by chance at the same time I was planning to kick off my blog. In fact, what happened was just the opposite: I stumbled across this article and decided that it was too good a target to pass up. If I can\\'t get into gear and start blogging when something this good falls into my lap, I might as well just give up.In \"That Taco Bell Brouhaha,\" Art Carden addresses the boycott (by the Wobblies, various student anti-sweatshop coalitions, and others) of Taco Bell on behalf of the Immolakee Indians who pick its tomatoes. In response to charges that Taco Bell\\'s wages are exploitative, Carden responds:This is precisely wrong. Taco Bell\\'s wage policy alleviates the \"continued misery of farmworkers and their families\" rather than contributing to it. Wages are not foisted upon workers; they agree to pick tomatoes for \"sub-poverty wages\" for a reason. In a market economy, they do so because the \\'sub-poverty wages\" paid by Taco Bell suppliers are a better deal than anyone else is offering. It\\'s the same reason people line up for \"sweatshop\" jobs in developing countries. Far from contributing to \"continued misery,\" Taco Bell is making workers\\' lives a little bit better by offering something better than their next-best option.Before we rush to condemn free markets and market forces, we have to ask where the workers are coming from. In many cases, Taco Bell suppliers employ migrant workers who are making their own \"run for the border.\" Migrant workers in Immokalee come from places like Haiti, Mexico, and Central America—areas where markets have been crippled by state intervention for generations. The end result is a veritable army of workers who have not been allowed to build a skill set through free market employment and who are now suited to do nothing better than pick tomatoes for pennies. Far from being the enemies of labor, American markets are offering migrant workers an opportunity to substantially improve their standards of living and the prospects of their children.There are so many features of vulgar libertarianism here, it\\'s hard to decide where to begin. The defense of the behavior of big business under \"actually existing capitalism\" in terms of \"how the free market works\" is, as I already pointed out in the passage above from Mutualist Political Economy, an immediate tipoff that we\\'ve encountered a vulgar libertarian. It\\'s quite jarring, though, to encounter such writing at the website of an institution so closely associated with the memory of Murray Rothbard. A central theme of Rothbard\\'s work, and that of left-Rothbardians like Joseph Stromberg, has been the essentially statist (and exploitative) nature of corporate capitalism in its existing form. As Rothbard put it in \"The Student Revolution\" (The Libertarian, May 1, 1969), \"our corporate state uses the coercive taxing power either to accumulate corporate capital or to lower corporate costs.\" So to pass from reading an excellent piece of free market analysis like this or this, to reading an apology for the status quo like the piece under consideration here, is positively obscene.Especially typical of the vulgar libertarian style is the argument that Taco Bell offers a \"better deal\" than the \"next-best option.\" This argument can be found, phrased in slightly different words, in pseudo-\"free market\" boilerplate in just about any issue of The Freeman: Ideas on Liberty or any daily installment of the Adam Smith Institute blog. Here are several almost identical examples culled from The Freeman:But are the “low-wage, non-union” Ecuadorian laborers better off working now for some foreign corporation? Apparently they think so, or else they would have stayed with what they were doing previously. (Would you leave your job for one with less pay and worse conditions?) [Barry Loberfeld. \"A Race to the Bottom\" (July 2001)]People line up in China and Indonesia and Malaysia when American multinationals open a factory. And that is because even though the wages are low by American standards, the jobs created by those American firms are often some of the best jobs in those economies. [Russell Roberts. \"The Pursuit of Happiness: Does Trade Exploit the Poorest of the Poor?\" (September 2001)]What the Industrial Revolution made possible, then, was for these people, who had nothing else to offer to the market, to be able to sell their labor to capitalists in exchange for wages. That is why they were able to survive at all.... As Mises argues, the very fact that people took factory jobs in the first place indicates that these jobs, however distasteful to us, represented the best opportunity they had. [Thomas E. Woods, Jr. \"A Myth Shattered: Mises, Hayek, and the Industrial Revolution\" (November 2001)]In nineteenth-century America, anti-sweatshop activism was focused on domestic manufacturing facilities that employed poor immigrant men, women, and children. Although conditions were horrendous, they provided a means for many of the country\\'s least-skilled people to earn livings. Typically, those who worked there did so because it was their best opportunity, given the choices available.... It is true that the wages earned by workers in developing nations are outrageously low compared to American wages, and their working conditions go counter to sensibilities in the rich, industrialized West. However, I have seen how the foreign-based opportunities are normally better than the local alternatives in case after case, from Central America to Southeast Asia. [Stephan Spath, \"The Virtues of Sweatshops\" (March 2002)]More recently, the argument was reincarnated by Radley Balko, who referred to Third World sweatshops as \"the best of a series of bad employment options available\" to laborers there. Within a couple of days, this piece was recirculated over the \"free market\" [sic] blogosphere, along with numerous comments that \"sweatshops are far superior to third-world workers\\' next best options...,\" or to similar effect (the last phrase comes from another article by Carden posted on the Mises blog last May, by the way). For more examples of the same argument, just Google \"sweatshops\"+\"next-best alternative\".But the grand-daddy of this argument was Ludwig von Mises, writing in Human Action: The factory owners did not have the power to compel anybody to take a factory job. They could only hire people who were ready to work for the wages offered to them. Low as these wage rates were, they were nonetheless much more than these paupers could earn in any other field open to them. [Regnery Third Revised Edition, 619-20]See, laborers just happen to be stuck with this crappy set of options--the employing classes have absolutely nothing to do with it. And the owning classes just happen to have all these means of production on their hands, and the laboring classes just happen to be propertyless proletarians who are forced to sell their labor on the owners\\' terms. The possibility that the employing classes might be directly implicated in state policies that reduced the available options of laborers is too ludicrous even to consider.In the world the rest of us non-vulgar libertoids inhabit, of course, things are a little less rosy. There was a great deal of continuity between the Whig landed aristocracy that carried out the enclosures and other abrogations of traditional rights to the land, and the employing classes of early industrial Britain. The early industrialists of Manchester, far from being (as Mises portrayed them) an upstart class who accumulated capital through their own parsimony, were junior partners of the landed oligarchy; the latter were a major source of investment capital. And the factory owners benefited, in addition, from near-totalitarian social controls on the movement and free association of labor; this legal regime included the Combination Acts, the Riot Act, and the law of Settlements (the latter amounting to an internal passport system).In addition, the general legal framework (as Benjamin Tucker described it) restricted labor\\'s access to its own capital through such forms of self-organization as mutual banks. As a result of this \"money monopoly,\" workers were forced to sell their labor in a buyer\\'s market on terms set by the owning classes, and thus pay tribute (in the form of a wage less than their labor-product) for access to the means of production.Lysander Spooner, a hero to many anarcho-capitalists, in Natural Law described the process in somewhat less than capitalistic language:In process of time, the robber, or slaveholding, class---who had seized all the lands, and held all the means of creating wealth---began to discover that the easiest mode of managing their slaves, and making them profitable, was not for each slaveholder to hold his specified number of slaves, as he had done before, and as he would hold so many cattle, but to give them so much liberty as would throw upon themselves (the slaves) the responsibility of their own subsistence, and yet compel them to sell their labor to the land-holding class---their former owners---for just what the latter might choose to give them. Of course, these liberated slaves, as some have erroneously called them, having no lands, or other property, and no means of obtaining an independent subsistence, had no alternative---to save themselves from starvation---but to sell their labor to the landholders, in exchange only for the coarsest necessaries of life; not always for so much even as that.These liberated slaves, as they were called, were now scarcely less slaves than they were before. Their means of subsistence were perhaps even more precarious than when each had his own owner, who had an interest to preserve his life. They were liable, at the caprice or interest of the landholders, to be thrown out of home, employment, and the opportunity of even earning a subsistence by their labor. They were, therefore, in large numbers, driven to the necessity of begging, stealing, or starving; and became, of course, dangerous to the property and quiet of their late masters.The consequence was, that these late owners found it necessary, for their own safety and the safety of their property, to organize themselves more perfectly as a government and make laws for keeping these dangerous people in subjection; that is, laws fixing the prices at which they should be compelled to labor, and also prescribing fearful punishments, even death itself, for such thefts and tresspasses as they were driven to commit, as their only means of saving themselves from starvation. posted by Kevin Carson | 10:19 AM 16 Comments: &nbsp;Anonymous said... Kevin--You make very good points. I just don\\'t see much of a conclusion or the dichotomy between pointing out the injustice of the capitalist system (as you do) and about half of the \"vulgar libertarian\" rhetoric you cite. You do a good job in pointing out the injustice in the situation. You don\\'t do a very good job demonstrating that the current situation minus the sweatshops is better that the current situation with them.Even though the sweatshops are a product of an unjust system, that does not disprove the fact that taking away the sweatshops and the factories that go with them will improve the situation or make it more just. It would seem that that there are three alternatives (actually there are many, but these seem to be the relevant ones): land reform, no land reform but keep sweatshops, no land reform and no sweatshops--or factories or continued economic development for that matter. The second still seems preferable to the third.If justice requires getting rid of sweatshops, it also requires leaving people employed by them worse off. Now there may be exploitation involved. However, if we can\\'t change the land situation in these countries, it seems hardly necessary to choke their development.Also, the more sweatshops, the more economic development. The more economic development then the more likely these nations will not remain dictatorships. The arguments for allowing sweatshops seem to me to be somewhat like the arguments for ending trade sanctions against countries like Cuba, Vietnam, Iran, and the former trade sanctions against Iraq and Afghanistan.Mike Enright (menright77@yahoo.com) January 12, 2005 7:10 PM &nbsp; &nbsp;Kevin Carson said... Thanks for commenting. The alternative to sweatshops, IMO, is leaving land in the hands of a majority of people, eliminating patents as a barrier to indigenous control of modern production technology, and encouraging the native population to mobilize their own investment capital through mutual banks. Hernando de Soto has shown the amount of collateral for such investment in the form of small, distributive property.And in a society where most people were small peasant properietors or self-employed artisans, local communities might well prefer to adopt the kind of decentralized, human scale technologies described by E.F. Schumacher.So sweatshops are not the only alternative to nothing at all. They depend, rather, on coercively closing off alternatives. January 12, 2005 7:20 PM &nbsp; &nbsp;shonk said... The alternative to sweatshops may well be \"leaving land in the hands of a majority of people\", but is boycotting Taco Bell going to achieve that end? I have my doubts.That having been said, ripping \"encouraging \\'socially conscious\\' shopping\" and \"seeking to use the coercive power of the state to achieve their goals\" in the same breath is quite a conflation of radically different behaviors for a supposedly libertarian website like Mises. January 12, 2005 7:59 PM &nbsp; &nbsp;Anonymous said... Kevin--I want to start by thanking you for your writing. I am always impressed by it and find it useful and thought provoking, usually mind altering--at least to some extent.I agree with you. Sweatshops are not the only alternative.However, that still does not mean that taking them away would make the situation better. You really have not made a case for that as I see it. Mike January 12, 2005 8:38 PM &nbsp; &nbsp;Jesse said... Mike makes the salient point: \"that still does not mean that taking them away would make the situation better.\" Third-world sweatshops might not be the \\'natural\\' result of a free market, but within the constraints of the society those workers live in, they may well be the least bad option available. Simply banning them would be as destructive as trying to help exploited prostitutes by banning prostitution, or trying to help exploited illegal aliens by deporting them. January 13, 2005 8:51 AM &nbsp; &nbsp;Kevin Carson said... Mike and Jesse,I agree that taking sweatshops away without preparation and without any other changes would probably cause dislocations and leave sweatshop workers worse off. I don\\'t want to \"ban\" anything. Just end all the existing subsidies and special privileges government provides to sweatshops, and force them to compete for labor in a free market. Such a free market would include, among other things, 1) a land reform that left a much larger portion of the laboring classes in direct possession of alternative means of subsistence so that they had more bargaining power in the labor market;2) a radical scale-back of international property law that ceased to lock Third World countries into the role of providing sweatshop labor to Western-owned countries; and3) and end to transportation subsidies, which would force big business to internalize all its own long-distance shipping costs and result in a world where everybody (in the West and the TW both) buys stuff made close to home. January 13, 2005 9:16 AM &nbsp; &nbsp;Anonymous said... Glad to see that you have your own blog now. I\\'ve always enjoyed reading you comments on Hit and Run and various other places around the libertarian blogosphere. Your commentary is always interesting and often has me reconsidering my own entrenched beliefs.Regards,matt January 18, 2005 9:21 PM &nbsp; &nbsp;Kevin Carson said... Thanks for the kind words, matt. January 19, 2005 7:50 AM &nbsp; &nbsp;Anonymous said... Thanks for starting this blog! I got involved in politics in 2004 and started out as a liberal, but have become totally disgusted with how much control the government has and all of our military adventures. I didn\\'t think there were any options because Republicans digust the hell outta me and libertarian to me meant \"anything for a profit with no regard for the environment or justice\". It\\'s great to discover all of these new ideas (well, new to me). I came here from Orcinus, by the way. Your comments there were always the most interesting. -Erin January 22, 2005 4:26 PM &nbsp; &nbsp;Kevin Carson said... That\\'s high praise indeed, Erin! Thanks. January 23, 2005 4:02 AM &nbsp; &nbsp;troutsky said... This is interesting stuff.I am what you might call a non-aligned socialist who has recently become aquainted with a number of thoughtful anarchists and so have been exploring this theory and practice more extensively.On the one hand it is heartening to learn of the existence of more people seeking radical change, on the other hand,it seems that everywhere I turn I find more sectarian splintering.Collectivist,mutualist, individualist,syndicalist, libertarian,anarchists, and then all the factions on the socialist and communist side of the equation.I begin to wonder if all this dispersed energy isn\\'t counterproductive to our common expressed values and goals such as self-determination, justice and liberty.We seem to recognize a common oppressor but then fragment on issues of theory and strategy. I can see you are very busy but I am attempting to create a process where some synthesis might be possible so that theory can turn to praxis.To that end there is a discussion at my blog on where we might find enough common ground to produce the consensus needed to energize our struggle in the here and now.Id\\' love your comments.This brings me to my critique of your programme which is the tired but true: What is to be done? The solutions you propose are antithetical to the maintenence of the priveledge the ruling class now enjoys and while they demonstrate a willingness to accept reform as a form of that \"maintenence\" they will not initiate structural change simply at the behest of a much less powerful class.You document the degree to which they rationalize injustice.I would also like to hear an explanation of how the crises caused by over-accumulation are averted in a libertarian designed market. If you agree labor power is exchanged for use-value, expressed as a commodity, how is profit justified? Out of whose pocket does that use-value come and if there is no profit , how is a fair rate of exchange established? Hour for hour?, What keeps full employment in a labor market where surplus is necessary to keep wages low? If there is not full employment, what ethical consideration is used to decide who works? What happens to those who don\\'t? November 14, 2005 8:28 PM &nbsp; &nbsp;Lady Aster said... Kevin-I\\'m glad to see a burgeoning left-libertarian world online. My background is in Randian libertarianism, but I always saw in Rand a sense of the total libertation of the human personality whose implication seemed broader then libertarianism- not primarily a defense of the grandeur of the American order. After getting out into the real world and finding that capitalism and patriarchy were among the worst forces crushing romantic individualism, I rather went through a period of confusion until I encountered other left-libertarian writers like Roderick Long and Arthur Silber. Reading hard-edged writing like yours drawing clear lines for a left-libertarian future brings a smile to my face.So thank you. I do have one correction tho\\': wasn\\'t it *Plato* who tried to act as tutor to the tyrant Dionysius II of Syracuse, while Aristotle tried to educate Alexander the Great? Sorry, this kind of thing rankles to me.Lady AsterSan Francisco(who would prefer to be advising Pericles))(*)( January 13, 2006 12:44 AM &nbsp; &nbsp;Kevin Carson said... Thanks very kindly, Lady Aster.And your correction is very much on the mark. I realized after Mutualist Political Economy had already gone into print that I\\'d conflated the Plato-Dionysius and Aristotle-Alexander stories. January 13, 2006 8:41 AM &nbsp; &nbsp;Anonymous said... Dear Kevin,Well done. Your page sums up everything I despise about looneytoonians (what you call vulgar libertarians).Yours,Wes May 02, 2006 12:16 PM &nbsp; &nbsp;jomama said... Fracturation (is that a word) all the way to the individual is what I see, group-think going the way of Dino.What will be the result?When the individual is in control of only himself, who would know? May 25, 2006 5:25 PM &nbsp; &nbsp;Anonymous said... One policy change I am working very hard to bring about is mandatory compliance with journalists. My definition of this is anyone who is a recognized public figure MUST agree to a certain level of examination by the press. Anythnig else is tyranny via secrecy.Journalists need a way to report unresponsive public figures and have pressure put on them. I dont’ think prison would work but maybe a gentle system of civil penalties is the way go to, as people have the right to know what is going on!My upcoming book on prostitution could not have been researched any other way. A prostitute with a web page is a public figure. I used this argument with a great deal of success in convincing police departments in Virginia, Maryland, Pennsylvania, New Jersey and of course the District of Columbia to work with me towards a common objective.You will see the results in bits and pieces if not fits and starts in Reason Magazine starting in 2007. The book will be finished in late 2007 and I hope for it to be published in 2008.I would like to thank the Competitive Enterprise Institute for supporting me. The CEI is a great place!All the best for the new year!John Berlaujberlau@cei.orgwww.cei.org/experts/berlau December 14, 2006 3:55 PM &nbsp; Post a Comment Links to this post: See links to this post &nbsp; \" rel=\"nofollow\"> &nbsp; posted by @ if (typeof BL_addOnLoadEvent == \\'function\\') { BL_addOnLoadEvent(function() { BL_writeBacklinks(); }); } function BlogThis() { Q=\\'\\'; x=document; y=window; if(x.selection) { Q=x.selection.createRange().text; } else if (y.getSelection) { Q=y.getSelection(); } else if (x.getSelection) { Q=x.getSelection(); } popw = y.open(\\'http://www.blogger.com/blog-this.g?t=\\' + escape(Q) + \\'&u=\\' + escape(location.href) + \\'&n=\\' + escape(document.title),\\'bloggerForm\\', \\'scrollbars=no,width=475,height=300,top=175,left=75,status=yes,resizable=yes\\'); void(0); } Create a Link &nbsp; var site=\"sm2kevincarson\" '], dtype=object)"
      ]
     },
     "execution_count": 16,
     "metadata": {},
     "output_type": "execute_result"
    }
   ],
   "source": [
    "df2[\"contents\"].values"
   ]
  },
  {
   "cell_type": "code",
   "execution_count": 6,
   "metadata": {},
   "outputs": [
    {
     "ename": "NameError",
     "evalue": "name 'df' is not defined",
     "output_type": "error",
     "traceback": [
      "\u001b[0;31m---------------------------------------------------------------------------\u001b[0m",
      "\u001b[0;31mNameError\u001b[0m                                 Traceback (most recent call last)",
      "\u001b[0;32m<ipython-input-6-2569c44faf66>\u001b[0m in \u001b[0;36m<module>\u001b[0;34m()\u001b[0m\n\u001b[0;32m----> 1\u001b[0;31m \u001b[0mdf\u001b[0m\u001b[0;34m.\u001b[0m\u001b[0mhead\u001b[0m\u001b[0;34m(\u001b[0m\u001b[0;34m)\u001b[0m\u001b[0;34m\u001b[0m\u001b[0m\n\u001b[0m",
      "\u001b[0;31mNameError\u001b[0m: name 'df' is not defined"
     ]
    }
   ],
   "source": [
    "df.head()"
   ]
  },
  {
   "cell_type": "code",
   "execution_count": null,
   "metadata": {},
   "outputs": [],
   "source": [
    "[i for i in get_indices(len(df),10000)]"
   ]
  },
  {
   "cell_type": "code",
   "execution_count": null,
   "metadata": {},
   "outputs": [],
   "source": [
    "df.index[0:11000]"
   ]
  },
  {
   "cell_type": "code",
   "execution_count": null,
   "metadata": {
    "collapsed": true
   },
   "outputs": [],
   "source": [
    "df2 = df.drop(df.index[0:100000]).copy()"
   ]
  },
  {
   "cell_type": "code",
   "execution_count": null,
   "metadata": {},
   "outputs": [],
   "source": [
    "%xdel df"
   ]
  },
  {
   "cell_type": "code",
   "execution_count": null,
   "metadata": {},
   "outputs": [],
   "source": [
    "foo = gc.collect()\n",
    "print(foo)"
   ]
  },
  {
   "cell_type": "code",
   "execution_count": null,
   "metadata": {},
   "outputs": [],
   "source": [
    "df2.info()"
   ]
  },
  {
   "cell_type": "code",
   "execution_count": null,
   "metadata": {},
   "outputs": [],
   "source": [
    "len(df2)"
   ]
  },
  {
   "cell_type": "code",
   "execution_count": null,
   "metadata": {},
   "outputs": [],
   "source": [
    "gc.collect()"
   ]
  },
  {
   "cell_type": "code",
   "execution_count": null,
   "metadata": {
    "collapsed": true
   },
   "outputs": [],
   "source": [
    "sampled_df = sample_rows(df,int(SAMPLE_FRAC*len(df)))\n",
    "\n",
    "sampled_df[\"contents\"] = df[\"contents\"].map(lambda text: clean_text_delicious(text))"
   ]
  },
  {
   "cell_type": "code",
   "execution_count": null,
   "metadata": {
    "collapsed": true
   },
   "outputs": [],
   "source": [
    "pickle.dump(sampled_df,open(INTERIM_DATA_ROOT+\"/docs_df_with_clean_content_SAMPLE_FRAC_10_SEED_42.p\",\"wb\"))"
   ]
  }
 ],
 "metadata": {
  "kernelspec": {
   "display_name": "Global TF Kernel (Python 3)",
   "language": "python",
   "name": "global-tf-python-3"
  },
  "language_info": {
   "codemirror_mode": {
    "name": "ipython",
    "version": 3
   },
   "file_extension": ".py",
   "mimetype": "text/x-python",
   "name": "python",
   "nbconvert_exporter": "python",
   "pygments_lexer": "ipython3",
   "version": "3.5.2"
  }
 },
 "nbformat": 4,
 "nbformat_minor": 2
}
