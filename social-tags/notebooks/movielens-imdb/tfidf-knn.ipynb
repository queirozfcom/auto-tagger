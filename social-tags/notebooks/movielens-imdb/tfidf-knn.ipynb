{
 "cells": [
  {
   "cell_type": "code",
   "execution_count": 1,
   "metadata": {},
   "outputs": [],
   "source": [
    "import pandas as pd\n",
    "import numpy as np\n",
    "import matplotlib.pyplot as plt\n",
    "import gc\n",
    "import os\n",
    "import re\n",
    "import pickle\n",
    "import sklearn\n",
    "import sys\n",
    "import string\n",
    "\n",
    "from sklearn.metrics import f1_score, precision_score, recall_score\n",
    "from sklearn.metrics.pairwise import cosine_similarity,cosine_distances\n",
    "from sklearn.model_selection import cross_val_score, GridSearchCV,ParameterGrid, train_test_split\n",
    "from sklearn.multiclass import OneVsRestClassifier\n",
    "from sklearn.preprocessing import MultiLabelBinarizer\n",
    "from sklearn.feature_extraction.text import CountVectorizer\n",
    "from sklearn.feature_extraction.text import TfidfTransformer,TfidfVectorizer\n",
    "from sklearn.pipeline import Pipeline\n",
    "from sklearn.neighbors import KNeighborsClassifier,NearestNeighbors\n",
    "from sklearn.svm import LinearSVC\n",
    "\n",
    "from tqdm import *\n",
    "\n",
    "%matplotlib inline\n",
    "%load_ext autoreload\n",
    "%autoreload 1"
   ]
  },
  {
   "cell_type": "code",
   "execution_count": 2,
   "metadata": {
    "collapsed": true
   },
   "outputs": [],
   "source": [
    "src_dir = os.path.join(os.getcwd(), os.pardir, '../src')\n",
    "sys.path.append(src_dir)"
   ]
  },
  {
   "cell_type": "code",
   "execution_count": 3,
   "metadata": {
    "collapsed": true
   },
   "outputs": [],
   "source": [
    "%aimport data.movielens_20m_imdb\n",
    "%aimport features.movielens_imdb\n",
    "%aimport helpers.files,helpers.labels"
   ]
  },
  {
   "cell_type": "code",
   "execution_count": 4,
   "metadata": {
    "collapsed": true
   },
   "outputs": [],
   "source": [
    "from data.movielens_20m_imdb import load_into_dataframe\n",
    "from features.movielens_imdb import filter_rare_tags\n",
    "from helpers.labels import truncate_labels"
   ]
  },
  {
   "cell_type": "code",
   "execution_count": 5,
   "metadata": {
    "collapsed": true
   },
   "outputs": [],
   "source": [
    "INTERIM_DATA_ROOT = \"../../data/interim/movielens-ml20m-imdb/\"\n",
    "ML_ROOT = \"/media/felipe/SAMSUNG/movielens/ml-20m/\"\n",
    "IMDB_ROOT = \"/media/felipe/SAMSUNG/imdb/\"\n",
    "\n",
    "PATH_TO_MOVIES = ML_ROOT + \"/movies.csv\"\n",
    "PATH_TO_TAG_ASSIGNMENTS = ML_ROOT + \"/tags.csv\"\n",
    "# slightly modified version, without the top 15 lines\n",
    "PATH_TO_MOVIE_PLOTS = IMDB_ROOT+\"/plot.list.tail\"\n",
    "\n",
    "# CONFIGS\n",
    "MAX_NB_WORDS = 3000\n",
    "NB_NEIGHBOURS = 10\n",
    "DISTANCE_METRIC='cosine'\n",
    "MIN_TAG_DOC_COUNT = 2 # like delicious t-140"
   ]
  },
  {
   "cell_type": "code",
   "execution_count": 6,
   "metadata": {
    "collapsed": true
   },
   "outputs": [],
   "source": [
    "if os.path.isfile(INTERIM_DATA_ROOT+\"docs_df.p\"):\n",
    "    docs_df = pickle.load( open( INTERIM_DATA_ROOT+\"docs_df.p\", \"rb\" ))\n",
    "else:\n",
    "    docs_df = load_into_dataframe(PATH_TO_MOVIES,PATH_TO_TAG_ASSIGNMENTS,PATH_TO_MOVIE_PLOTS)\n",
    "    pickle.dump(docs_df,open(INTERIM_DATA_ROOT+\"docs_df.p\",\"wb\"))"
   ]
  },
  {
   "cell_type": "code",
   "execution_count": 7,
   "metadata": {},
   "outputs": [
    {
     "data": {
      "text/html": [
       "<div>\n",
       "<style>\n",
       "    .dataframe thead tr:only-child th {\n",
       "        text-align: right;\n",
       "    }\n",
       "\n",
       "    .dataframe thead th {\n",
       "        text-align: left;\n",
       "    }\n",
       "\n",
       "    .dataframe tbody tr th {\n",
       "        vertical-align: top;\n",
       "    }\n",
       "</style>\n",
       "<table border=\"1\" class=\"dataframe\">\n",
       "  <thead>\n",
       "    <tr style=\"text-align: right;\">\n",
       "      <th></th>\n",
       "      <th>movie_id</th>\n",
       "      <th>title</th>\n",
       "      <th>tags</th>\n",
       "      <th>plot</th>\n",
       "    </tr>\n",
       "  </thead>\n",
       "  <tbody>\n",
       "    <tr>\n",
       "      <th>0</th>\n",
       "      <td>1</td>\n",
       "      <td>Toy Story (1995)</td>\n",
       "      <td>family,light,fun,want-to-see-again,classic,kid...</td>\n",
       "      <td>A little boy named Andy loves to be in his ro...</td>\n",
       "    </tr>\n",
       "    <tr>\n",
       "      <th>1</th>\n",
       "      <td>2</td>\n",
       "      <td>Jumanji (1995)</td>\n",
       "      <td>jungle,chris-van-allsburg,time,dynamic-cgi-act...</td>\n",
       "      <td>After being trapped in a jungle board game fo...</td>\n",
       "    </tr>\n",
       "    <tr>\n",
       "      <th>2</th>\n",
       "      <td>3</td>\n",
       "      <td>Grumpier Old Men (1995)</td>\n",
       "      <td>howard-deutch,sequel,sequel-fever,comedinha-de...</td>\n",
       "      <td>Things don't seem to change much in Wabasha C...</td>\n",
       "    </tr>\n",
       "    <tr>\n",
       "      <th>3</th>\n",
       "      <td>4</td>\n",
       "      <td>Waiting to Exhale (1995)</td>\n",
       "      <td>characters,chick-flick,clv,revenge</td>\n",
       "      <td>This story based on the best selling novel by...</td>\n",
       "    </tr>\n",
       "    <tr>\n",
       "      <th>4</th>\n",
       "      <td>5</td>\n",
       "      <td>Father of the Bride Part II (1995)</td>\n",
       "      <td>family,childhood-classics,it-thought-it-was-fu...</td>\n",
       "      <td>In this sequel to \"Father of the Bride\", Geor...</td>\n",
       "    </tr>\n",
       "    <tr>\n",
       "      <th>5</th>\n",
       "      <td>6</td>\n",
       "      <td>Heat (1995)</td>\n",
       "      <td>somber,btaege,violent,erlends-dvds,cant-rememb...</td>\n",
       "      <td>Hunters and their prey--Neil and his professi...</td>\n",
       "    </tr>\n",
       "    <tr>\n",
       "      <th>6</th>\n",
       "      <td>7</td>\n",
       "      <td>Sabrina (1995)</td>\n",
       "      <td>harrison-ford,relationships,ugly-duckling,dram...</td>\n",
       "      <td>While she was growing up, Sabrina Fairchild s...</td>\n",
       "    </tr>\n",
       "    <tr>\n",
       "      <th>7</th>\n",
       "      <td>8</td>\n",
       "      <td>Tom and Huck (1995)</td>\n",
       "      <td>library-system,authormark-twain,based-on-a-boo...</td>\n",
       "      <td>A mischievous young boy, Tom Sawyer ('Jonatha...</td>\n",
       "    </tr>\n",
       "    <tr>\n",
       "      <th>8</th>\n",
       "      <td>9</td>\n",
       "      <td>Sudden Death (1995)</td>\n",
       "      <td>clv,peter-hyams,action,jeanclaude-van-damme,ca...</td>\n",
       "      <td>Some terrorists kidnap the Vice President of ...</td>\n",
       "    </tr>\n",
       "    <tr>\n",
       "      <th>9</th>\n",
       "      <td>10</td>\n",
       "      <td>GoldenEye (1995)</td>\n",
       "      <td>007-series,bond,seen-more-than-once,btaege,fra...</td>\n",
       "      <td>When a deadly satellite weapon system falls i...</td>\n",
       "    </tr>\n",
       "  </tbody>\n",
       "</table>\n",
       "</div>"
      ],
      "text/plain": [
       "   movie_id                               title  \\\n",
       "0         1                    Toy Story (1995)   \n",
       "1         2                      Jumanji (1995)   \n",
       "2         3             Grumpier Old Men (1995)   \n",
       "3         4            Waiting to Exhale (1995)   \n",
       "4         5  Father of the Bride Part II (1995)   \n",
       "5         6                         Heat (1995)   \n",
       "6         7                      Sabrina (1995)   \n",
       "7         8                 Tom and Huck (1995)   \n",
       "8         9                 Sudden Death (1995)   \n",
       "9        10                    GoldenEye (1995)   \n",
       "\n",
       "                                                tags  \\\n",
       "0  family,light,fun,want-to-see-again,classic,kid...   \n",
       "1  jungle,chris-van-allsburg,time,dynamic-cgi-act...   \n",
       "2  howard-deutch,sequel,sequel-fever,comedinha-de...   \n",
       "3                 characters,chick-flick,clv,revenge   \n",
       "4  family,childhood-classics,it-thought-it-was-fu...   \n",
       "5  somber,btaege,violent,erlends-dvds,cant-rememb...   \n",
       "6  harrison-ford,relationships,ugly-duckling,dram...   \n",
       "7  library-system,authormark-twain,based-on-a-boo...   \n",
       "8  clv,peter-hyams,action,jeanclaude-van-damme,ca...   \n",
       "9  007-series,bond,seen-more-than-once,btaege,fra...   \n",
       "\n",
       "                                                plot  \n",
       "0   A little boy named Andy loves to be in his ro...  \n",
       "1   After being trapped in a jungle board game fo...  \n",
       "2   Things don't seem to change much in Wabasha C...  \n",
       "3   This story based on the best selling novel by...  \n",
       "4   In this sequel to \"Father of the Bride\", Geor...  \n",
       "5   Hunters and their prey--Neil and his professi...  \n",
       "6   While she was growing up, Sabrina Fairchild s...  \n",
       "7   A mischievous young boy, Tom Sawyer ('Jonatha...  \n",
       "8   Some terrorists kidnap the Vice President of ...  \n",
       "9   When a deadly satellite weapon system falls i...  "
      ]
     },
     "execution_count": 7,
     "metadata": {},
     "output_type": "execute_result"
    }
   ],
   "source": [
    "docs_df.head(10)"
   ]
  },
  {
   "cell_type": "code",
   "execution_count": 8,
   "metadata": {
    "collapsed": true
   },
   "outputs": [],
   "source": [
    "data = docs_df['plot'].values\n",
    "labelsets = docs_df[\"tags\"].map(lambda tagstring: tagstring.split(\",\"))\n",
    "\n",
    "labelsets=truncate_labels(labelsets,MIN_TAG_DOC_COUNT)"
   ]
  },
  {
   "cell_type": "code",
   "execution_count": 11,
   "metadata": {
    "collapsed": true
   },
   "outputs": [],
   "source": [
    "mlb = MultiLabelBinarizer()\n",
    "binary_labels = mlb.fit_transform(labelsets)"
   ]
  },
  {
   "cell_type": "code",
   "execution_count": null,
   "metadata": {
    "collapsed": true
   },
   "outputs": [],
   "source": [
    "\n",
    "\n"
   ]
  }
 ],
 "metadata": {
  "kernelspec": {
   "display_name": "Global TF Kernel (Python 3)",
   "language": "python",
   "name": "global-tf-python-3"
  },
  "language_info": {
   "codemirror_mode": {
    "name": "ipython",
    "version": 3
   },
   "file_extension": ".py",
   "mimetype": "text/x-python",
   "name": "python",
   "nbconvert_exporter": "python",
   "pygments_lexer": "ipython3",
   "version": "3.5.2"
  }
 },
 "nbformat": 4,
 "nbformat_minor": 2
}
