{
 "cells": [
  {
   "cell_type": "code",
   "execution_count": 1,
   "metadata": {
    "collapsed": true
   },
   "outputs": [],
   "source": [
    "import pandas as pd\n",
    "import numpy as np\n",
    "import matplotlib.pyplot as plt\n",
    "import xml.etree.ElementTree as ET\n",
    "import gc\n",
    "import os\n",
    "import re\n",
    "import sklearn\n",
    "import sys\n",
    "\n",
    "from sklearn.preprocessing import MultiLabelBinarizer\n",
    "from joblib import Parallel, delayed\n",
    "from tqdm import *\n",
    "\n",
    "%matplotlib inline\n",
    "%load_ext autoreload\n",
    "%autoreload 1"
   ]
  },
  {
   "cell_type": "code",
   "execution_count": 2,
   "metadata": {
    "collapsed": true
   },
   "outputs": [],
   "source": [
    "src_dir = os.path.join(os.getcwd(), os.pardir, '../src')\n",
    "sys.path.append(src_dir)"
   ]
  },
  {
   "cell_type": "code",
   "execution_count": 3,
   "metadata": {
    "collapsed": true
   },
   "outputs": [],
   "source": [
    "%aimport data.movielens_20m_imdb\n",
    "\n",
    "from data.movielens_20m_imdb import load_or_get_from_cache"
   ]
  },
  {
   "cell_type": "code",
   "execution_count": 4,
   "metadata": {
    "collapsed": true
   },
   "outputs": [],
   "source": [
    "INTERIM_DATA_ROOT = os.path.abspath(\"../../data/interim/movielens-ml20m-imdb/\")\n",
    "ML_ROOT = \"/media/felipe/SAMSUNG/movielens/ml-20m/\"\n",
    "IMDB_ROOT = \"/media/felipe/SAMSUNG/imdb/\"\n",
    "\n",
    "PATH_TO_MOVIES = ML_ROOT + \"/movies.csv\"\n",
    "PATH_TO_TAG_ASSIGNMENTS = ML_ROOT + \"/tags.csv\"\n",
    "PATH_TO_MOVIE_PLOTS = IMDB_ROOT+\"/plot.list\""
   ]
  },
  {
   "cell_type": "code",
   "execution_count": 5,
   "metadata": {
    "collapsed": true
   },
   "outputs": [],
   "source": [
    "docs_df = load_or_get_from_cache(PATH_TO_MOVIES,PATH_TO_TAG_ASSIGNMENTS,PATH_TO_MOVIE_PLOTS,INTERIM_DATA_ROOT)"
   ]
  },
  {
   "cell_type": "markdown",
   "metadata": {},
   "source": [
    "## number of documents"
   ]
  },
  {
   "cell_type": "code",
   "execution_count": 6,
   "metadata": {},
   "outputs": [
    {
     "data": {
      "text/plain": [
       "6312"
      ]
     },
     "execution_count": 6,
     "metadata": {},
     "output_type": "execute_result"
    }
   ],
   "source": [
    "len(docs_df)"
   ]
  },
  {
   "cell_type": "code",
   "execution_count": 7,
   "metadata": {},
   "outputs": [
    {
     "data": {
      "text/html": [
       "<div>\n",
       "<style>\n",
       "    .dataframe thead tr:only-child th {\n",
       "        text-align: right;\n",
       "    }\n",
       "\n",
       "    .dataframe thead th {\n",
       "        text-align: left;\n",
       "    }\n",
       "\n",
       "    .dataframe tbody tr th {\n",
       "        vertical-align: top;\n",
       "    }\n",
       "</style>\n",
       "<table border=\"1\" class=\"dataframe\">\n",
       "  <thead>\n",
       "    <tr style=\"text-align: right;\">\n",
       "      <th></th>\n",
       "      <th>movie_id</th>\n",
       "      <th>title</th>\n",
       "      <th>unique_tags</th>\n",
       "      <th>num_users</th>\n",
       "      <th>num_unique_tags</th>\n",
       "      <th>plot</th>\n",
       "    </tr>\n",
       "  </thead>\n",
       "  <tbody>\n",
       "    <tr>\n",
       "      <th>0</th>\n",
       "      <td>1</td>\n",
       "      <td>Toy Story (1995)</td>\n",
       "      <td>pixar,animation,disney,tom-hanks,computer-anim...</td>\n",
       "      <td>152.0</td>\n",
       "      <td>25</td>\n",
       "      <td>A little boy named Andy loves to be in his roo...</td>\n",
       "    </tr>\n",
       "    <tr>\n",
       "      <th>1</th>\n",
       "      <td>2</td>\n",
       "      <td>Jumanji (1995)</td>\n",
       "      <td>robin-williams,fantasy,time-travel,animals,boa...</td>\n",
       "      <td>46.0</td>\n",
       "      <td>25</td>\n",
       "      <td>After being trapped in a jungle board game for...</td>\n",
       "    </tr>\n",
       "    <tr>\n",
       "      <th>2</th>\n",
       "      <td>3</td>\n",
       "      <td>Grumpier Old Men (1995)</td>\n",
       "      <td>moldy,old,sequel,old-people-that-is-actually-f...</td>\n",
       "      <td>15.0</td>\n",
       "      <td>15</td>\n",
       "      <td>Things don't seem to change much in Wabasha Co...</td>\n",
       "    </tr>\n",
       "    <tr>\n",
       "      <th>3</th>\n",
       "      <td>4</td>\n",
       "      <td>Waiting to Exhale (1995)</td>\n",
       "      <td>chick-flick,characters,revenge,clv</td>\n",
       "      <td>4.0</td>\n",
       "      <td>4</td>\n",
       "      <td>This story based on the best selling novel by ...</td>\n",
       "    </tr>\n",
       "    <tr>\n",
       "      <th>4</th>\n",
       "      <td>5</td>\n",
       "      <td>Father of the Bride Part II (1995)</td>\n",
       "      <td>steve-martin,family,wedding,pregnancy,diane-ke...</td>\n",
       "      <td>11.0</td>\n",
       "      <td>16</td>\n",
       "      <td>In this sequel to \"Father of the Bride\", Georg...</td>\n",
       "    </tr>\n",
       "  </tbody>\n",
       "</table>\n",
       "</div>"
      ],
      "text/plain": [
       "   movie_id                               title  \\\n",
       "0         1                    Toy Story (1995)   \n",
       "1         2                      Jumanji (1995)   \n",
       "2         3             Grumpier Old Men (1995)   \n",
       "3         4            Waiting to Exhale (1995)   \n",
       "4         5  Father of the Bride Part II (1995)   \n",
       "\n",
       "                                         unique_tags  num_users  \\\n",
       "0  pixar,animation,disney,tom-hanks,computer-anim...      152.0   \n",
       "1  robin-williams,fantasy,time-travel,animals,boa...       46.0   \n",
       "2  moldy,old,sequel,old-people-that-is-actually-f...       15.0   \n",
       "3                 chick-flick,characters,revenge,clv        4.0   \n",
       "4  steve-martin,family,wedding,pregnancy,diane-ke...       11.0   \n",
       "\n",
       "   num_unique_tags                                               plot  \n",
       "0               25  A little boy named Andy loves to be in his roo...  \n",
       "1               25  After being trapped in a jungle board game for...  \n",
       "2               15  Things don't seem to change much in Wabasha Co...  \n",
       "3                4  This story based on the best selling novel by ...  \n",
       "4               16  In this sequel to \"Father of the Bride\", Georg...  "
      ]
     },
     "execution_count": 7,
     "metadata": {},
     "output_type": "execute_result"
    }
   ],
   "source": [
    "docs_df.head()"
   ]
  },
  {
   "cell_type": "code",
   "execution_count": 8,
   "metadata": {},
   "outputs": [
    {
     "data": {
      "text/html": [
       "<div>\n",
       "<style>\n",
       "    .dataframe thead tr:only-child th {\n",
       "        text-align: right;\n",
       "    }\n",
       "\n",
       "    .dataframe thead th {\n",
       "        text-align: left;\n",
       "    }\n",
       "\n",
       "    .dataframe tbody tr th {\n",
       "        vertical-align: top;\n",
       "    }\n",
       "</style>\n",
       "<table border=\"1\" class=\"dataframe\">\n",
       "  <thead>\n",
       "    <tr style=\"text-align: right;\">\n",
       "      <th></th>\n",
       "      <th>movie_id</th>\n",
       "      <th>num_users</th>\n",
       "      <th>num_unique_tags</th>\n",
       "    </tr>\n",
       "  </thead>\n",
       "  <tbody>\n",
       "    <tr>\n",
       "      <th>count</th>\n",
       "      <td>6312.000000</td>\n",
       "      <td>6312.000000</td>\n",
       "      <td>6312.000000</td>\n",
       "    </tr>\n",
       "    <tr>\n",
       "      <th>mean</th>\n",
       "      <td>33417.617712</td>\n",
       "      <td>15.161280</td>\n",
       "      <td>11.594265</td>\n",
       "    </tr>\n",
       "    <tr>\n",
       "      <th>std</th>\n",
       "      <td>36928.739114</td>\n",
       "      <td>27.283774</td>\n",
       "      <td>8.262508</td>\n",
       "    </tr>\n",
       "    <tr>\n",
       "      <th>min</th>\n",
       "      <td>1.000000</td>\n",
       "      <td>2.000000</td>\n",
       "      <td>2.000000</td>\n",
       "    </tr>\n",
       "    <tr>\n",
       "      <th>25%</th>\n",
       "      <td>3642.500000</td>\n",
       "      <td>3.000000</td>\n",
       "      <td>4.000000</td>\n",
       "    </tr>\n",
       "    <tr>\n",
       "      <th>50%</th>\n",
       "      <td>7927.500000</td>\n",
       "      <td>6.000000</td>\n",
       "      <td>9.000000</td>\n",
       "    </tr>\n",
       "    <tr>\n",
       "      <th>75%</th>\n",
       "      <td>62435.250000</td>\n",
       "      <td>15.000000</td>\n",
       "      <td>19.000000</td>\n",
       "    </tr>\n",
       "    <tr>\n",
       "      <th>max</th>\n",
       "      <td>130490.000000</td>\n",
       "      <td>561.000000</td>\n",
       "      <td>25.000000</td>\n",
       "    </tr>\n",
       "  </tbody>\n",
       "</table>\n",
       "</div>"
      ],
      "text/plain": [
       "            movie_id    num_users  num_unique_tags\n",
       "count    6312.000000  6312.000000      6312.000000\n",
       "mean    33417.617712    15.161280        11.594265\n",
       "std     36928.739114    27.283774         8.262508\n",
       "min         1.000000     2.000000         2.000000\n",
       "25%      3642.500000     3.000000         4.000000\n",
       "50%      7927.500000     6.000000         9.000000\n",
       "75%     62435.250000    15.000000        19.000000\n",
       "max    130490.000000   561.000000        25.000000"
      ]
     },
     "execution_count": 8,
     "metadata": {},
     "output_type": "execute_result"
    }
   ],
   "source": [
    "docs_df.describe()"
   ]
  },
  {
   "cell_type": "code",
   "execution_count": 9,
   "metadata": {},
   "outputs": [
    {
     "data": {
      "text/html": [
       "<div>\n",
       "<style>\n",
       "    .dataframe thead tr:only-child th {\n",
       "        text-align: right;\n",
       "    }\n",
       "\n",
       "    .dataframe thead th {\n",
       "        text-align: left;\n",
       "    }\n",
       "\n",
       "    .dataframe tbody tr th {\n",
       "        vertical-align: top;\n",
       "    }\n",
       "</style>\n",
       "<table border=\"1\" class=\"dataframe\">\n",
       "  <thead>\n",
       "    <tr style=\"text-align: right;\">\n",
       "      <th></th>\n",
       "      <th>title</th>\n",
       "      <th>unique_tags</th>\n",
       "      <th>plot</th>\n",
       "    </tr>\n",
       "  </thead>\n",
       "  <tbody>\n",
       "    <tr>\n",
       "      <th>count</th>\n",
       "      <td>6312</td>\n",
       "      <td>6312</td>\n",
       "      <td>6312</td>\n",
       "    </tr>\n",
       "    <tr>\n",
       "      <th>unique</th>\n",
       "      <td>6312</td>\n",
       "      <td>6264</td>\n",
       "      <td>6311</td>\n",
       "    </tr>\n",
       "    <tr>\n",
       "      <th>top</th>\n",
       "      <td>Silent Night, Deadly Night (1984)</td>\n",
       "      <td>nudity-topless-notable,nudity-topless</td>\n",
       "      <td>Where the Red Fern Grows is the heartwarming a...</td>\n",
       "    </tr>\n",
       "    <tr>\n",
       "      <th>freq</th>\n",
       "      <td>1</td>\n",
       "      <td>5</td>\n",
       "      <td>2</td>\n",
       "    </tr>\n",
       "  </tbody>\n",
       "</table>\n",
       "</div>"
      ],
      "text/plain": [
       "                                    title  \\\n",
       "count                                6312   \n",
       "unique                               6312   \n",
       "top     Silent Night, Deadly Night (1984)   \n",
       "freq                                    1   \n",
       "\n",
       "                                  unique_tags  \\\n",
       "count                                    6312   \n",
       "unique                                   6264   \n",
       "top     nudity-topless-notable,nudity-topless   \n",
       "freq                                        5   \n",
       "\n",
       "                                                     plot  \n",
       "count                                                6312  \n",
       "unique                                               6311  \n",
       "top     Where the Red Fern Grows is the heartwarming a...  \n",
       "freq                                                    2  "
      ]
     },
     "execution_count": 9,
     "metadata": {},
     "output_type": "execute_result"
    }
   ],
   "source": [
    "docs_df.describe(include=['object'])"
   ]
  },
  {
   "cell_type": "code",
   "execution_count": 10,
   "metadata": {},
   "outputs": [
    {
     "data": {
      "text/plain": [
       "(1, 30)"
      ]
     },
     "execution_count": 10,
     "metadata": {},
     "output_type": "execute_result"
    },
    {
     "data": {
      "image/png": "[encoded data removed]",
      "text/plain": [
       "<matplotlib.figure.Figure at 0x7fc68dc04978>"
      ]
     },
     "metadata": {},
     "output_type": "display_data"
    }
   ],
   "source": [
    "docs_df[['num_unique_tags']].plot(kind='hist',bins=np.arange(1.0,30,1),rwidth=0.9)\n",
    "\n",
    "plt.gcf().set_size_inches(20,10)\n",
    "plt.gca().set_title('number of movies having that number of different tags',fontsize=30)\n",
    "plt.gca().set_xlim(1,30)"
   ]
  },
  {
   "cell_type": "markdown",
   "metadata": {},
   "source": [
    "## number of unique tags"
   ]
  },
  {
   "cell_type": "code",
   "execution_count": 12,
   "metadata": {},
   "outputs": [],
   "source": [
    "tagsets = [tagset.split(',') for tagset in docs_df[\"unique_tags\"].values]\n",
    "\n",
    "flat_list = []\n",
    "\n",
    "for tagset in tagsets:\n",
    "    for tag in tagset:\n",
    "        flat_list.append(tag)\n",
    "        \n",
    "flat_set = set(flat_list)"
   ]
  },
  {
   "cell_type": "code",
   "execution_count": 13,
   "metadata": {},
   "outputs": [
    {
     "data": {
      "text/plain": [
       "16787"
      ]
     },
     "execution_count": 13,
     "metadata": {},
     "output_type": "execute_result"
    }
   ],
   "source": [
    "len(flat_set)"
   ]
  },
  {
   "cell_type": "markdown",
   "metadata": {},
   "source": [
    "## number of times each tag was given to a movie\n",
    "\n",
    "(not counting multiple assignments)"
   ]
  },
  {
   "cell_type": "code",
   "execution_count": 14,
   "metadata": {
    "collapsed": true
   },
   "outputs": [],
   "source": [
    "labelsets = [tagset.split(',') for tagset in docs_df[\"unique_tags\"].values]"
   ]
  },
  {
   "cell_type": "code",
   "execution_count": 15,
   "metadata": {
    "collapsed": true
   },
   "outputs": [],
   "source": [
    "tag_counts = MultiLabelBinarizer().fit_transform(labelsets).sum(axis=0)"
   ]
  },
  {
   "cell_type": "code",
   "execution_count": 16,
   "metadata": {},
   "outputs": [
    {
     "data": {
      "text/plain": [
       "Text(20,6000,'$\\\\mu=4.36,\\\\ \\\\sigma=16.76$')"
      ]
     },
     "execution_count": 16,
     "metadata": {},
     "output_type": "execute_result"
    },
    {
     "data": {
      "image/png": "[encoded data removed]",
      "text/plain": [
       "<matplotlib.figure.Figure at 0x7fc689635898>"
      ]
     },
     "metadata": {},
     "output_type": "display_data"
    }
   ],
   "source": [
    "plt.hist(tag_counts,bins=np.arange(1.0,100,1),rwidth=0.9)\n",
    "\n",
    "plt.gcf().set_size_inches(20,10)\n",
    "plt.gca().set_title('tag counts by use frequency',fontsize=30)\n",
    "plt.gca().set_xlim(1,100)\n",
    "plt.xlabel('documents tagged',fontsize=20)\n",
    "plt.ylabel('number of tags', fontsize=15)\n",
    "plt.text(20,6000,r'$\\mu={0:.2f},\\ \\sigma={1:.2f}$'.format(tag_counts.mean(), tag_counts.std()), fontsize=20)"
   ]
  },
  {
   "cell_type": "code",
   "execution_count": 24,
   "metadata": {},
   "outputs": [
    {
     "data": {
      "text/html": [
       "<div>\n",
       "<style>\n",
       "    .dataframe thead tr:only-child th {\n",
       "        text-align: right;\n",
       "    }\n",
       "\n",
       "    .dataframe thead th {\n",
       "        text-align: left;\n",
       "    }\n",
       "\n",
       "    .dataframe tbody tr th {\n",
       "        vertical-align: top;\n",
       "    }\n",
       "</style>\n",
       "<table border=\"1\" class=\"dataframe\">\n",
       "  <thead>\n",
       "    <tr style=\"text-align: right;\">\n",
       "      <th></th>\n",
       "      <th>movie_id</th>\n",
       "      <th>title</th>\n",
       "      <th>unique_tags</th>\n",
       "      <th>num_users</th>\n",
       "      <th>num_unique_tags</th>\n",
       "      <th>plot</th>\n",
       "    </tr>\n",
       "  </thead>\n",
       "  <tbody>\n",
       "    <tr>\n",
       "      <th>1466</th>\n",
       "      <td>3388</td>\n",
       "      <td>Harry and the Hendersons (1987)</td>\n",
       "      <td>bigfoot,can't-remember,family,william-dear,com...</td>\n",
       "      <td>8.0</td>\n",
       "      <td>10</td>\n",
       "      <td>Returning from a hunting trip in the forest, t...</td>\n",
       "    </tr>\n",
       "    <tr>\n",
       "      <th>2453</th>\n",
       "      <td>5816</td>\n",
       "      <td>Harry Potter and the Chamber of Secrets (2002)</td>\n",
       "      <td>magic,harry-potter,fantasy,based-on-a-book,ala...</td>\n",
       "      <td>77.0</td>\n",
       "      <td>25</td>\n",
       "      <td>Forced to spend his summer holidays with his m...</td>\n",
       "    </tr>\n",
       "    <tr>\n",
       "      <th>3232</th>\n",
       "      <td>8368</td>\n",
       "      <td>Harry Potter and the Prisoner of Azkaban (2004)</td>\n",
       "      <td>magic,harry-potter,time-travel,gary-oldman,bas...</td>\n",
       "      <td>76.0</td>\n",
       "      <td>25</td>\n",
       "      <td>Harry Potter is having a tough time with his r...</td>\n",
       "    </tr>\n",
       "    <tr>\n",
       "      <th>3551</th>\n",
       "      <td>26324</td>\n",
       "      <td>Harry and Tonto (1974)</td>\n",
       "      <td>netflix,paul-mazursky,mvlc,bdr,instant-view,mi...</td>\n",
       "      <td>5.0</td>\n",
       "      <td>6</td>\n",
       "      <td>Harry is a retired teacher in his 70s living i...</td>\n",
       "    </tr>\n",
       "    <tr>\n",
       "      <th>3994</th>\n",
       "      <td>40815</td>\n",
       "      <td>Harry Potter and the Goblet of Fire (2005)</td>\n",
       "      <td>magic,harry-potter,fantasy,gary-oldman,wizards...</td>\n",
       "      <td>80.0</td>\n",
       "      <td>25</td>\n",
       "      <td>Harry's fourth year at Hogwarts is about to st...</td>\n",
       "    </tr>\n",
       "    <tr>\n",
       "      <th>4408</th>\n",
       "      <td>54001</td>\n",
       "      <td>Harry Potter and the Order of the Phoenix (2007)</td>\n",
       "      <td>magic,harry-potter,based-on-a-book,emma-watson...</td>\n",
       "      <td>41.0</td>\n",
       "      <td>25</td>\n",
       "      <td>After a lonely summer on Privet Drive, Harry r...</td>\n",
       "    </tr>\n",
       "    <tr>\n",
       "      <th>4944</th>\n",
       "      <td>69844</td>\n",
       "      <td>Harry Potter and the Half-Blood Prince (2009)</td>\n",
       "      <td>magic,alan-rickman,fantasy,disappointing,harry...</td>\n",
       "      <td>62.0</td>\n",
       "      <td>25</td>\n",
       "      <td>In the sixth year at Hogwarts School of Witchc...</td>\n",
       "    </tr>\n",
       "    <tr>\n",
       "      <th>5135</th>\n",
       "      <td>74948</td>\n",
       "      <td>Harry Brown (2009)</td>\n",
       "      <td>michael-caine,revenge,drugs,emily-mortimer,vig...</td>\n",
       "      <td>11.0</td>\n",
       "      <td>23</td>\n",
       "      <td>In England, retired Royal Marine Harry Brown s...</td>\n",
       "    </tr>\n",
       "    <tr>\n",
       "      <th>5345</th>\n",
       "      <td>81834</td>\n",
       "      <td>Harry Potter and the Deathly Hallows: Part 1 (...</td>\n",
       "      <td>magic,based-on-a-book,alan-rickman,british,emm...</td>\n",
       "      <td>60.0</td>\n",
       "      <td>25</td>\n",
       "      <td>Voldemort's power is growing stronger. He now ...</td>\n",
       "    </tr>\n",
       "    <tr>\n",
       "      <th>5501</th>\n",
       "      <td>88125</td>\n",
       "      <td>Harry Potter and the Deathly Hallows: Part 2 (...</td>\n",
       "      <td>magic,fantasy,franchise,daniel-radcliffe,emma-...</td>\n",
       "      <td>37.0</td>\n",
       "      <td>25</td>\n",
       "      <td>Harry, Ron, and Hermione continue their quest ...</td>\n",
       "    </tr>\n",
       "  </tbody>\n",
       "</table>\n",
       "</div>"
      ],
      "text/plain": [
       "      movie_id                                              title  \\\n",
       "1466      3388                    Harry and the Hendersons (1987)   \n",
       "2453      5816     Harry Potter and the Chamber of Secrets (2002)   \n",
       "3232      8368    Harry Potter and the Prisoner of Azkaban (2004)   \n",
       "3551     26324                             Harry and Tonto (1974)   \n",
       "3994     40815         Harry Potter and the Goblet of Fire (2005)   \n",
       "4408     54001   Harry Potter and the Order of the Phoenix (2007)   \n",
       "4944     69844      Harry Potter and the Half-Blood Prince (2009)   \n",
       "5135     74948                                 Harry Brown (2009)   \n",
       "5345     81834  Harry Potter and the Deathly Hallows: Part 1 (...   \n",
       "5501     88125  Harry Potter and the Deathly Hallows: Part 2 (...   \n",
       "\n",
       "                                            unique_tags  num_users  \\\n",
       "1466  bigfoot,can't-remember,family,william-dear,com...        8.0   \n",
       "2453  magic,harry-potter,fantasy,based-on-a-book,ala...       77.0   \n",
       "3232  magic,harry-potter,time-travel,gary-oldman,bas...       76.0   \n",
       "3551  netflix,paul-mazursky,mvlc,bdr,instant-view,mi...        5.0   \n",
       "3994  magic,harry-potter,fantasy,gary-oldman,wizards...       80.0   \n",
       "4408  magic,harry-potter,based-on-a-book,emma-watson...       41.0   \n",
       "4944  magic,alan-rickman,fantasy,disappointing,harry...       62.0   \n",
       "5135  michael-caine,revenge,drugs,emily-mortimer,vig...       11.0   \n",
       "5345  magic,based-on-a-book,alan-rickman,british,emm...       60.0   \n",
       "5501  magic,fantasy,franchise,daniel-radcliffe,emma-...       37.0   \n",
       "\n",
       "      num_unique_tags                                               plot  \n",
       "1466               10  Returning from a hunting trip in the forest, t...  \n",
       "2453               25  Forced to spend his summer holidays with his m...  \n",
       "3232               25  Harry Potter is having a tough time with his r...  \n",
       "3551                6  Harry is a retired teacher in his 70s living i...  \n",
       "3994               25  Harry's fourth year at Hogwarts is about to st...  \n",
       "4408               25  After a lonely summer on Privet Drive, Harry r...  \n",
       "4944               25  In the sixth year at Hogwarts School of Witchc...  \n",
       "5135               23  In England, retired Royal Marine Harry Brown s...  \n",
       "5345               25  Voldemort's power is growing stronger. He now ...  \n",
       "5501               25  Harry, Ron, and Hermione continue their quest ...  "
      ]
     },
     "execution_count": 24,
     "metadata": {},
     "output_type": "execute_result"
    }
   ],
   "source": [
    "docs_df[docs_df['title'].str.lower().str.startswith('harry')]"
   ]
  },
  {
   "cell_type": "code",
   "execution_count": null,
   "metadata": {
    "collapsed": true
   },
   "outputs": [],
   "source": []
  }
 ],
 "metadata": {
  "kernelspec": {
   "display_name": "Global TF Kernel (Python 3)",
   "language": "python",
   "name": "global-tf-python-3"
  },
  "language_info": {
   "codemirror_mode": {
    "name": "ipython",
    "version": 3
   },
   "file_extension": ".py",
   "mimetype": "text/x-python",
   "name": "python",
   "nbconvert_exporter": "python",
   "pygments_lexer": "ipython3",
   "version": "3.5.2"
  }
 },
 "nbformat": 4,
 "nbformat_minor": 2
}
