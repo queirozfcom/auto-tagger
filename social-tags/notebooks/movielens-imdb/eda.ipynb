{
 "cells": [
  {
   "cell_type": "code",
   "execution_count": 2,
   "metadata": {},
   "outputs": [
    {
     "name": "stdout",
     "output_type": "stream",
     "text": [
      "The autoreload extension is already loaded. To reload it, use:\n",
      "  %reload_ext autoreload\n"
     ]
    }
   ],
   "source": [
    "import pandas as pd\n",
    "import numpy as np\n",
    "import matplotlib.pyplot as plt\n",
    "import gc\n",
    "import os\n",
    "import re\n",
    "import sklearn\n",
    "import sys\n",
    "\n",
    "from sklearn.preprocessing import MultiLabelBinarizer\n",
    "from joblib import Parallel, delayed\n",
    "from tqdm import *\n",
    "\n",
    "%matplotlib inline\n",
    "%load_ext autoreload\n",
    "%autoreload 1"
   ]
  },
  {
   "cell_type": "code",
   "execution_count": 3,
   "metadata": {
    "collapsed": true
   },
   "outputs": [],
   "source": [
    "src_dir = os.path.join(os.getcwd(), os.pardir, '../src')\n",
    "sys.path.append(src_dir)"
   ]
  },
  {
   "cell_type": "code",
   "execution_count": 4,
   "metadata": {
    "collapsed": true
   },
   "outputs": [],
   "source": [
    "%aimport data.movielens_20m_imdb\n",
    "%aimport helpers.labels\n",
    "\n",
    "from data.movielens_20m_imdb import load_df_or_get_from_cache\n",
    "from helpers.labels import truncate_labels"
   ]
  },
  {
   "cell_type": "code",
   "execution_count": 5,
   "metadata": {
    "collapsed": true
   },
   "outputs": [],
   "source": [
    "INTERIM_DATA_ROOT = os.path.abspath(\"../../data/interim/movielens-ml20m-imdb/\")\n",
    "PATH_TO_FILE = os.path.abspath('../../data/processed/movielens-20m-imdb-tags-and-synopses-2017-12-13.csv')"
   ]
  },
  {
   "cell_type": "code",
   "execution_count": 6,
   "metadata": {
    "collapsed": true
   },
   "outputs": [],
   "source": [
    "docs_df = load_df_or_get_from_cache(PATH_TO_FILE,INTERIM_DATA_ROOT)"
   ]
  },
  {
   "cell_type": "markdown",
   "metadata": {},
   "source": [
    "## number of documents"
   ]
  },
  {
   "cell_type": "code",
   "execution_count": 7,
   "metadata": {},
   "outputs": [
    {
     "data": {
      "text/plain": [
       "6809"
      ]
     },
     "execution_count": 7,
     "metadata": {},
     "output_type": "execute_result"
    }
   ],
   "source": [
    "len(docs_df)"
   ]
  },
  {
   "cell_type": "code",
   "execution_count": 8,
   "metadata": {},
   "outputs": [
    {
     "data": {
      "text/html": [
       "<div>\n",
       "<style>\n",
       "    .dataframe thead tr:only-child th {\n",
       "        text-align: right;\n",
       "    }\n",
       "\n",
       "    .dataframe thead th {\n",
       "        text-align: left;\n",
       "    }\n",
       "\n",
       "    .dataframe tbody tr th {\n",
       "        vertical-align: top;\n",
       "    }\n",
       "</style>\n",
       "<table border=\"1\" class=\"dataframe\">\n",
       "  <thead>\n",
       "    <tr style=\"text-align: right;\">\n",
       "      <th></th>\n",
       "      <th>movie_id</th>\n",
       "      <th>title</th>\n",
       "      <th>synopsis</th>\n",
       "      <th>tags</th>\n",
       "      <th>num_tags</th>\n",
       "    </tr>\n",
       "  </thead>\n",
       "  <tbody>\n",
       "    <tr>\n",
       "      <th>0</th>\n",
       "      <td>1</td>\n",
       "      <td>Toy Story (1995)</td>\n",
       "      <td>A boy called Andy Davis (voice: John Morris) u...</td>\n",
       "      <td>disney,unlikely-friendships,fanciful,light,cgi...</td>\n",
       "      <td>62</td>\n",
       "    </tr>\n",
       "    <tr>\n",
       "      <th>1</th>\n",
       "      <td>2</td>\n",
       "      <td>Jumanji (1995)</td>\n",
       "      <td>The film begins in 1869 in the town of Brantfo...</td>\n",
       "      <td>scary,not-for-kids,dynamic-cgi-action,childish...</td>\n",
       "      <td>25</td>\n",
       "    </tr>\n",
       "    <tr>\n",
       "      <th>2</th>\n",
       "      <td>6</td>\n",
       "      <td>Heat (1995)</td>\n",
       "      <td>An inbound Blue Line train pulls in to Firesto...</td>\n",
       "      <td>great-acting,al-pacino,need-to-own,dumbed-down...</td>\n",
       "      <td>66</td>\n",
       "    </tr>\n",
       "    <tr>\n",
       "      <th>3</th>\n",
       "      <td>7</td>\n",
       "      <td>Sabrina (1995)</td>\n",
       "      <td>Sabrina Fairchild (Julia Ormond), is the Larra...</td>\n",
       "      <td>chick-flick,based-on-a-play,clv,drama,paris,no...</td>\n",
       "      <td>13</td>\n",
       "    </tr>\n",
       "    <tr>\n",
       "      <th>4</th>\n",
       "      <td>8</td>\n",
       "      <td>Tom and Huck (1995)</td>\n",
       "      <td>The film opens with Injun Joe (Eric Schweig) a...</td>\n",
       "      <td>based-on-a-book,adapted-frombook,seen,library-...</td>\n",
       "      <td>4</td>\n",
       "    </tr>\n",
       "  </tbody>\n",
       "</table>\n",
       "</div>"
      ],
      "text/plain": [
       "   movie_id                title  \\\n",
       "0         1     Toy Story (1995)   \n",
       "1         2       Jumanji (1995)   \n",
       "2         6          Heat (1995)   \n",
       "3         7       Sabrina (1995)   \n",
       "4         8  Tom and Huck (1995)   \n",
       "\n",
       "                                            synopsis  \\\n",
       "0  A boy called Andy Davis (voice: John Morris) u...   \n",
       "1  The film begins in 1869 in the town of Brantfo...   \n",
       "2  An inbound Blue Line train pulls in to Firesto...   \n",
       "3  Sabrina Fairchild (Julia Ormond), is the Larra...   \n",
       "4  The film opens with Injun Joe (Eric Schweig) a...   \n",
       "\n",
       "                                                tags  num_tags  \n",
       "0  disney,unlikely-friendships,fanciful,light,cgi...        62  \n",
       "1  scary,not-for-kids,dynamic-cgi-action,childish...        25  \n",
       "2  great-acting,al-pacino,need-to-own,dumbed-down...        66  \n",
       "3  chick-flick,based-on-a-play,clv,drama,paris,no...        13  \n",
       "4  based-on-a-book,adapted-frombook,seen,library-...         4  "
      ]
     },
     "execution_count": 8,
     "metadata": {},
     "output_type": "execute_result"
    }
   ],
   "source": [
    "docs_df.head()"
   ]
  },
  {
   "cell_type": "code",
   "execution_count": 20,
   "metadata": {},
   "outputs": [
    {
     "data": {
      "text/html": [
       "<div>\n",
       "<style>\n",
       "    .dataframe thead tr:only-child th {\n",
       "        text-align: right;\n",
       "    }\n",
       "\n",
       "    .dataframe thead th {\n",
       "        text-align: left;\n",
       "    }\n",
       "\n",
       "    .dataframe tbody tr th {\n",
       "        vertical-align: top;\n",
       "    }\n",
       "</style>\n",
       "<table border=\"1\" class=\"dataframe\">\n",
       "  <thead>\n",
       "    <tr style=\"text-align: right;\">\n",
       "      <th></th>\n",
       "      <th>movie_id</th>\n",
       "      <th>num_tags</th>\n",
       "    </tr>\n",
       "  </thead>\n",
       "  <tbody>\n",
       "    <tr>\n",
       "      <th>count</th>\n",
       "      <td>6809.000000</td>\n",
       "      <td>6809.000000</td>\n",
       "    </tr>\n",
       "    <tr>\n",
       "      <th>mean</th>\n",
       "      <td>41560.286973</td>\n",
       "      <td>13.934058</td>\n",
       "    </tr>\n",
       "    <tr>\n",
       "      <th>std</th>\n",
       "      <td>39481.710747</td>\n",
       "      <td>16.620661</td>\n",
       "    </tr>\n",
       "    <tr>\n",
       "      <th>min</th>\n",
       "      <td>1.000000</td>\n",
       "      <td>1.000000</td>\n",
       "    </tr>\n",
       "    <tr>\n",
       "      <th>25%</th>\n",
       "      <td>4169.000000</td>\n",
       "      <td>3.000000</td>\n",
       "    </tr>\n",
       "    <tr>\n",
       "      <th>50%</th>\n",
       "      <td>31700.000000</td>\n",
       "      <td>8.000000</td>\n",
       "    </tr>\n",
       "    <tr>\n",
       "      <th>75%</th>\n",
       "      <td>74789.000000</td>\n",
       "      <td>18.000000</td>\n",
       "    </tr>\n",
       "    <tr>\n",
       "      <th>max</th>\n",
       "      <td>131082.000000</td>\n",
       "      <td>222.000000</td>\n",
       "    </tr>\n",
       "  </tbody>\n",
       "</table>\n",
       "</div>"
      ],
      "text/plain": [
       "            movie_id     num_tags\n",
       "count    6809.000000  6809.000000\n",
       "mean    41560.286973    13.934058\n",
       "std     39481.710747    16.620661\n",
       "min         1.000000     1.000000\n",
       "25%      4169.000000     3.000000\n",
       "50%     31700.000000     8.000000\n",
       "75%     74789.000000    18.000000\n",
       "max    131082.000000   222.000000"
      ]
     },
     "execution_count": 20,
     "metadata": {},
     "output_type": "execute_result"
    }
   ],
   "source": [
    "docs_df.describe(include=['number'])"
   ]
  },
  {
   "cell_type": "code",
   "execution_count": 10,
   "metadata": {},
   "outputs": [
    {
     "data": {
      "text/html": [
       "<div>\n",
       "<style>\n",
       "    .dataframe thead tr:only-child th {\n",
       "        text-align: right;\n",
       "    }\n",
       "\n",
       "    .dataframe thead th {\n",
       "        text-align: left;\n",
       "    }\n",
       "\n",
       "    .dataframe tbody tr th {\n",
       "        vertical-align: top;\n",
       "    }\n",
       "</style>\n",
       "<table border=\"1\" class=\"dataframe\">\n",
       "  <thead>\n",
       "    <tr style=\"text-align: right;\">\n",
       "      <th></th>\n",
       "      <th>title</th>\n",
       "      <th>synopsis</th>\n",
       "      <th>tags</th>\n",
       "    </tr>\n",
       "  </thead>\n",
       "  <tbody>\n",
       "    <tr>\n",
       "      <th>count</th>\n",
       "      <td>6809</td>\n",
       "      <td>6809</td>\n",
       "      <td>6809</td>\n",
       "    </tr>\n",
       "    <tr>\n",
       "      <th>unique</th>\n",
       "      <td>6809</td>\n",
       "      <td>6809</td>\n",
       "      <td>6315</td>\n",
       "    </tr>\n",
       "    <tr>\n",
       "      <th>top</th>\n",
       "      <td>Purple Noon (Plein soleil) (1960)</td>\n",
       "      <td>Gianni, Antonio and Nicola were resistant duri...</td>\n",
       "      <td>bd-r</td>\n",
       "    </tr>\n",
       "    <tr>\n",
       "      <th>freq</th>\n",
       "      <td>1</td>\n",
       "      <td>1</td>\n",
       "      <td>92</td>\n",
       "    </tr>\n",
       "  </tbody>\n",
       "</table>\n",
       "</div>"
      ],
      "text/plain": [
       "                                    title  \\\n",
       "count                                6809   \n",
       "unique                               6809   \n",
       "top     Purple Noon (Plein soleil) (1960)   \n",
       "freq                                    1   \n",
       "\n",
       "                                                 synopsis  tags  \n",
       "count                                                6809  6809  \n",
       "unique                                               6809  6315  \n",
       "top     Gianni, Antonio and Nicola were resistant duri...  bd-r  \n",
       "freq                                                    1    92  "
      ]
     },
     "execution_count": 10,
     "metadata": {},
     "output_type": "execute_result"
    }
   ],
   "source": [
    "docs_df.describe(include=['object'])"
   ]
  },
  {
   "cell_type": "code",
   "execution_count": 11,
   "metadata": {},
   "outputs": [
    {
     "data": {
      "image/png": "[encoded data removed]",
      "text/plain": [
       "<matplotlib.figure.Figure at 0x7fc8c67646d8>"
      ]
     },
     "metadata": {},
     "output_type": "display_data"
    }
   ],
   "source": [
    "docs_df[['num_tags']].plot(kind='hist',bins=np.arange(1.0,150,1),rwidth=0.6)\n",
    "\n",
    "plt.gcf().set_size_inches(20,10)\n",
    "plt.gca().set_title('number of tags per document',fontsize=30)\n",
    "plt.xlabel('number of tags',fontsize=20)\n",
    "plt.ylabel('documents tagged with that number of tags', fontsize=20)\n",
    "plt.gca().set_xlim(0,150)\n",
    "plt.xticks(np.arange(0, 150, 2))\n",
    "plt.show()"
   ]
  },
  {
   "cell_type": "markdown",
   "metadata": {},
   "source": [
    "## number of unique tags"
   ]
  },
  {
   "cell_type": "code",
   "execution_count": 12,
   "metadata": {
    "collapsed": true
   },
   "outputs": [],
   "source": [
    "tagsets = [tagset.split(',') for tagset in docs_df[\"tags\"].values]\n",
    "\n",
    "flat_list = []\n",
    "\n",
    "for tagset in tagsets:\n",
    "    for tag in tagset:\n",
    "        flat_list.append(tag)\n",
    "        \n",
    "flat_set = set(flat_list)"
   ]
  },
  {
   "cell_type": "code",
   "execution_count": 13,
   "metadata": {},
   "outputs": [
    {
     "data": {
      "text/plain": [
       "4128"
      ]
     },
     "execution_count": 13,
     "metadata": {},
     "output_type": "execute_result"
    }
   ],
   "source": [
    "len(flat_set)"
   ]
  },
  {
   "cell_type": "markdown",
   "metadata": {},
   "source": [
    "## number of times each tag was given to a movie\n",
    "\n",
    "(not counting multiple assignments)"
   ]
  },
  {
   "cell_type": "code",
   "execution_count": 14,
   "metadata": {
    "collapsed": true
   },
   "outputs": [],
   "source": [
    "labelsets = [tagset.split(',') for tagset in docs_df[\"tags\"].values]"
   ]
  },
  {
   "cell_type": "code",
   "execution_count": 16,
   "metadata": {
    "collapsed": true
   },
   "outputs": [],
   "source": [
    "tag_assignments = MultiLabelBinarizer().fit_transform(labelsets)"
   ]
  },
  {
   "cell_type": "code",
   "execution_count": 17,
   "metadata": {
    "collapsed": true
   },
   "outputs": [],
   "source": [
    "tag_sums = tag_assignments.sum(axis=0)"
   ]
  },
  {
   "cell_type": "code",
   "execution_count": 21,
   "metadata": {},
   "outputs": [
    {
     "data": {
      "text/plain": [
       "Text(20,300,'$\\\\mu=22.98,\\\\ \\\\sigma=47.24$')"
      ]
     },
     "execution_count": 21,
     "metadata": {},
     "output_type": "execute_result"
    },
    {
     "data": {
      "image/png": "[encoded data removed]",
      "text/plain": [
       "<matplotlib.figure.Figure at 0x7fc8b45ed400>"
      ]
     },
     "metadata": {},
     "output_type": "display_data"
    }
   ],
   "source": [
    "plt.hist(tag_sums,bins=np.arange(1.0,50,1),rwidth=0.5)\n",
    "\n",
    "plt.gcf().set_size_inches(20,10)\n",
    "plt.gca().set_title('number of documents per tag',fontsize=30)\n",
    "plt.gca().set_xlim(0,50)\n",
    "plt.xlabel('number of unique tags per document',fontsize=20)\n",
    "plt.ylabel('number of documents', fontsize=20)\n",
    "plt.xticks(np.arange(0, 100, 1))\n",
    "plt.text(20,300,r'$\\mu={0:.2f},\\ \\sigma={1:.2f}$'.format(tag_sums.mean(), tag_sums.std()), fontsize=20)"
   ]
  },
  {
   "cell_type": "code",
   "execution_count": 19,
   "metadata": {},
   "outputs": [
    {
     "data": {
      "text/html": [
       "<div>\n",
       "<style>\n",
       "    .dataframe thead tr:only-child th {\n",
       "        text-align: right;\n",
       "    }\n",
       "\n",
       "    .dataframe thead th {\n",
       "        text-align: left;\n",
       "    }\n",
       "\n",
       "    .dataframe tbody tr th {\n",
       "        vertical-align: top;\n",
       "    }\n",
       "</style>\n",
       "<table border=\"1\" class=\"dataframe\">\n",
       "  <thead>\n",
       "    <tr style=\"text-align: right;\">\n",
       "      <th></th>\n",
       "      <th>movie_id</th>\n",
       "      <th>title</th>\n",
       "      <th>synopsis</th>\n",
       "      <th>tags</th>\n",
       "      <th>num_tags</th>\n",
       "    </tr>\n",
       "  </thead>\n",
       "  <tbody>\n",
       "    <tr>\n",
       "      <th>1924</th>\n",
       "      <td>4896</td>\n",
       "      <td>Harry Potter and the Sorcerer's Stone (a.k.a. ...</td>\n",
       "      <td>Lord Voldemort, an evil and powerful dark wiza...</td>\n",
       "      <td>sequel,invisibility,train,rupert-grint,books,m...</td>\n",
       "      <td>66</td>\n",
       "    </tr>\n",
       "    <tr>\n",
       "      <th>2239</th>\n",
       "      <td>5816</td>\n",
       "      <td>Harry Potter and the Chamber of Secrets (2002)</td>\n",
       "      <td>While home with the Dursleys for the summer, H...</td>\n",
       "      <td>sequel,want-to-own,rupert-grint,literary-adapt...</td>\n",
       "      <td>48</td>\n",
       "    </tr>\n",
       "    <tr>\n",
       "      <th>2895</th>\n",
       "      <td>8368</td>\n",
       "      <td>Harry Potter and the Prisoner of Azkaban (2004)</td>\n",
       "      <td>It opens at the Dursleys' home where Harry Pot...</td>\n",
       "      <td>sequel,rupert-grint,hard-to-watch,maggie-smith...</td>\n",
       "      <td>44</td>\n",
       "    </tr>\n",
       "    <tr>\n",
       "      <th>3195</th>\n",
       "      <td>26324</td>\n",
       "      <td>Harry and Tonto (1974)</td>\n",
       "      <td>As elderly people go about their day in Manhat...</td>\n",
       "      <td>might-like,bd-r,netflix,mvlc,instant-view</td>\n",
       "      <td>5</td>\n",
       "    </tr>\n",
       "    <tr>\n",
       "      <th>3615</th>\n",
       "      <td>40815</td>\n",
       "      <td>Harry Potter and the Goblet of Fire (2005)</td>\n",
       "      <td>Harry, Ron and Hermione enter their fourth yea...</td>\n",
       "      <td>sequel,rupert-grint,maggie-smith,mt,jussan,pot...</td>\n",
       "      <td>56</td>\n",
       "    </tr>\n",
       "    <tr>\n",
       "      <th>4089</th>\n",
       "      <td>54001</td>\n",
       "      <td>Harry Potter and the Order of the Phoenix (2007)</td>\n",
       "      <td>Harry Potter and his cousin Dudley Dursley are...</td>\n",
       "      <td>rupert-grint,jussan,emma-watson,magic,adapted-...</td>\n",
       "      <td>32</td>\n",
       "    </tr>\n",
       "    <tr>\n",
       "      <th>4820</th>\n",
       "      <td>69844</td>\n",
       "      <td>Harry Potter and the Half-Blood Prince (2009)</td>\n",
       "      <td>Scarred by his experience at the Ministry of M...</td>\n",
       "      <td>sequel,rupert-grint,maggie-smith,direction,hig...</td>\n",
       "      <td>44</td>\n",
       "    </tr>\n",
       "    <tr>\n",
       "      <th>5115</th>\n",
       "      <td>74948</td>\n",
       "      <td>Harry Brown (2009)</td>\n",
       "      <td>Shot with a cellphone camera, the film opens w...</td>\n",
       "      <td>blood,organized-crime,sex,revenge,drugs,should...</td>\n",
       "      <td>20</td>\n",
       "    </tr>\n",
       "    <tr>\n",
       "      <th>5358</th>\n",
       "      <td>81834</td>\n",
       "      <td>Harry Potter and the Deathly Hallows: Part 1 (...</td>\n",
       "      <td>The film begins with Harry Potter (Daniel Radc...</td>\n",
       "      <td>genocide,loyalty,wedding,snakes,rupert-grint,i...</td>\n",
       "      <td>57</td>\n",
       "    </tr>\n",
       "    <tr>\n",
       "      <th>5590</th>\n",
       "      <td>88125</td>\n",
       "      <td>Harry Potter and the Deathly Hallows: Part 2 (...</td>\n",
       "      <td>After burying Dobby at the garden of the Shell...</td>\n",
       "      <td>great-acting,rupert-grint,great-cinematography...</td>\n",
       "      <td>32</td>\n",
       "    </tr>\n",
       "  </tbody>\n",
       "</table>\n",
       "</div>"
      ],
      "text/plain": [
       "      movie_id                                              title  \\\n",
       "1924      4896  Harry Potter and the Sorcerer's Stone (a.k.a. ...   \n",
       "2239      5816     Harry Potter and the Chamber of Secrets (2002)   \n",
       "2895      8368    Harry Potter and the Prisoner of Azkaban (2004)   \n",
       "3195     26324                             Harry and Tonto (1974)   \n",
       "3615     40815         Harry Potter and the Goblet of Fire (2005)   \n",
       "4089     54001   Harry Potter and the Order of the Phoenix (2007)   \n",
       "4820     69844      Harry Potter and the Half-Blood Prince (2009)   \n",
       "5115     74948                                 Harry Brown (2009)   \n",
       "5358     81834  Harry Potter and the Deathly Hallows: Part 1 (...   \n",
       "5590     88125  Harry Potter and the Deathly Hallows: Part 2 (...   \n",
       "\n",
       "                                               synopsis  \\\n",
       "1924  Lord Voldemort, an evil and powerful dark wiza...   \n",
       "2239  While home with the Dursleys for the summer, H...   \n",
       "2895  It opens at the Dursleys' home where Harry Pot...   \n",
       "3195  As elderly people go about their day in Manhat...   \n",
       "3615  Harry, Ron and Hermione enter their fourth yea...   \n",
       "4089  Harry Potter and his cousin Dudley Dursley are...   \n",
       "4820  Scarred by his experience at the Ministry of M...   \n",
       "5115  Shot with a cellphone camera, the film opens w...   \n",
       "5358  The film begins with Harry Potter (Daniel Radc...   \n",
       "5590  After burying Dobby at the garden of the Shell...   \n",
       "\n",
       "                                                   tags  num_tags  \n",
       "1924  sequel,invisibility,train,rupert-grint,books,m...        66  \n",
       "2239  sequel,want-to-own,rupert-grint,literary-adapt...        48  \n",
       "2895  sequel,rupert-grint,hard-to-watch,maggie-smith...        44  \n",
       "3195          might-like,bd-r,netflix,mvlc,instant-view         5  \n",
       "3615  sequel,rupert-grint,maggie-smith,mt,jussan,pot...        56  \n",
       "4089  rupert-grint,jussan,emma-watson,magic,adapted-...        32  \n",
       "4820  sequel,rupert-grint,maggie-smith,direction,hig...        44  \n",
       "5115  blood,organized-crime,sex,revenge,drugs,should...        20  \n",
       "5358  genocide,loyalty,wedding,snakes,rupert-grint,i...        57  \n",
       "5590  great-acting,rupert-grint,great-cinematography...        32  "
      ]
     },
     "execution_count": 19,
     "metadata": {},
     "output_type": "execute_result"
    }
   ],
   "source": [
    "docs_df[docs_df['title'].str.lower().str.startswith('harry')]"
   ]
  },
  {
   "cell_type": "code",
   "execution_count": null,
   "metadata": {
    "collapsed": true
   },
   "outputs": [],
   "source": []
  }
 ],
 "metadata": {
  "kernelspec": {
   "display_name": "Global TF Kernel (Python 3)",
   "language": "python",
   "name": "global-tf-python-3"
  },
  "language_info": {
   "codemirror_mode": {
    "name": "ipython",
    "version": 3
   },
   "file_extension": ".py",
   "mimetype": "text/x-python",
   "name": "python",
   "nbconvert_exporter": "python",
   "pygments_lexer": "ipython3",
   "version": "3.5.2"
  }
 },
 "nbformat": 4,
 "nbformat_minor": 2
}
