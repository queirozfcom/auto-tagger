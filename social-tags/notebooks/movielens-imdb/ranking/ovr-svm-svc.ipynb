{
 "cells": [
  {
   "cell_type": "markdown",
   "metadata": {},
   "source": [
    "## ovr-svm"
   ]
  },
  {
   "cell_type": "code",
   "execution_count": 20,
   "metadata": {},
   "outputs": [
    {
     "name": "stdout",
     "output_type": "stream",
     "text": [
      "The autoreload extension is already loaded. To reload it, use:\n",
      "  %reload_ext autoreload\n"
     ]
    }
   ],
   "source": [
    "import pandas as pd\n",
    "import numpy as np\n",
    "import matplotlib.pyplot as plt\n",
    "import gc\n",
    "import nltk\n",
    "import os\n",
    "import re\n",
    "import pickle\n",
    "import sklearn\n",
    "import sys\n",
    "import string\n",
    "\n",
    "from sklearn.externals import joblib\n",
    "from sklearn.metrics import f1_score, precision_score, recall_score,average_precision_score\n",
    "from sklearn.model_selection import cross_val_score, GridSearchCV,ParameterGrid, train_test_split\n",
    "from sklearn.multiclass import OneVsRestClassifier\n",
    "from sklearn.preprocessing import MultiLabelBinarizer, StandardScaler,MinMaxScaler\n",
    "from sklearn.feature_extraction.text import CountVectorizer\n",
    "from sklearn.feature_extraction.text import TfidfTransformer,TfidfVectorizer\n",
    "from sklearn.svm import SVC\n",
    "from sklearn.pipeline import Pipeline\n",
    "from sklearn.svm import LinearSVC, SVC\n",
    "from sklearn.calibration import CalibratedClassifierCV\n",
    "from sklearn.linear_model import LogisticRegression,SGDClassifier\n",
    "\n",
    "from tqdm import *\n",
    "\n",
    "%matplotlib inline\n",
    "%load_ext autoreload\n",
    "%autoreload 1"
   ]
  },
  {
   "cell_type": "code",
   "execution_count": 2,
   "metadata": {
    "collapsed": true
   },
   "outputs": [],
   "source": [
    "src_dir = os.path.join(os.getcwd(), os.pardir, '../../src')\n",
    "sys.path.append(src_dir)"
   ]
  },
  {
   "cell_type": "code",
   "execution_count": 3,
   "metadata": {
    "collapsed": true
   },
   "outputs": [],
   "source": [
    "%aimport data.movielens_20m_imdb\n",
    "%aimport helpers.labels,helpers.neighbours, helpers.segments\n",
    "%aimport utils.dataframes, utils.clusters, utils.metrics"
   ]
  },
  {
   "cell_type": "code",
   "execution_count": 4,
   "metadata": {
    "collapsed": true
   },
   "outputs": [],
   "source": [
    "from data.movielens_20m_imdb import load_df_or_get_from_cache\n",
    "from helpers.labels import truncate_labels\n",
    "from helpers.neighbours import get_predicted_labels_from_neighbours\n",
    "from helpers.segments import make_distance_matrix_for_segments,vectorize_segments\n",
    "\n",
    "from utils.dataframes import sample_rows\n",
    "from utils.metrics import ranking"
   ]
  },
  {
   "cell_type": "code",
   "execution_count": 17,
   "metadata": {
    "collapsed": true
   },
   "outputs": [],
   "source": [
    "MODELS_ROOT = os.path.abspath(\"../../../models/ranking/\")\n",
    "INTERIM_DATA_ROOT = os.path.abspath(\"../../../data/interim/movielens-ml20m-imdb/\")\n",
    "PATH_TO_PROCESSED_FILE = os.path.abspath('../../../data/processed/movielens-20m-imdb-tags-and-synopses-2017-12-20.csv')\n",
    "\n",
    "# CONFIGS\n",
    "\n",
    "SEED= 42\n",
    "\n",
    "MAX_NB_WORDS = 5000\n",
    "\n",
    "# for sampling\n",
    "MIN_TAG_DF = 10"
   ]
  },
  {
   "cell_type": "code",
   "execution_count": 7,
   "metadata": {
    "collapsed": true
   },
   "outputs": [],
   "source": [
    "np.random.seed(SEED)"
   ]
  },
  {
   "cell_type": "code",
   "execution_count": 8,
   "metadata": {
    "collapsed": true
   },
   "outputs": [],
   "source": [
    "docs_df = load_df_or_get_from_cache(PATH_TO_PROCESSED_FILE,INTERIM_DATA_ROOT)"
   ]
  },
  {
   "cell_type": "code",
   "execution_count": 9,
   "metadata": {},
   "outputs": [
    {
     "data": {
      "text/html": [
       "<div>\n",
       "<style>\n",
       "    .dataframe thead tr:only-child th {\n",
       "        text-align: right;\n",
       "    }\n",
       "\n",
       "    .dataframe thead th {\n",
       "        text-align: left;\n",
       "    }\n",
       "\n",
       "    .dataframe tbody tr th {\n",
       "        vertical-align: top;\n",
       "    }\n",
       "</style>\n",
       "<table border=\"1\" class=\"dataframe\">\n",
       "  <thead>\n",
       "    <tr style=\"text-align: right;\">\n",
       "      <th></th>\n",
       "      <th>movie_id</th>\n",
       "      <th>title</th>\n",
       "      <th>synopsis</th>\n",
       "      <th>tags</th>\n",
       "      <th>num_tags</th>\n",
       "    </tr>\n",
       "  </thead>\n",
       "  <tbody>\n",
       "    <tr>\n",
       "      <th>0</th>\n",
       "      <td>1</td>\n",
       "      <td>Toy Story (1995)</td>\n",
       "      <td>A boy called Andy Davis (voice: John Morris) u...</td>\n",
       "      <td>warm,very-good,3d,heroic-mission,kids-and-fami...</td>\n",
       "      <td>59</td>\n",
       "    </tr>\n",
       "    <tr>\n",
       "      <th>1</th>\n",
       "      <td>2</td>\n",
       "      <td>Jumanji (1995)</td>\n",
       "      <td>The film begins in 1869 in the town of Brantfo...</td>\n",
       "      <td>time,dynamic-cgi-action,saturn-award-best-spec...</td>\n",
       "      <td>19</td>\n",
       "    </tr>\n",
       "    <tr>\n",
       "      <th>2</th>\n",
       "      <td>6</td>\n",
       "      <td>Heat (1995)</td>\n",
       "      <td>An inbound Blue Line train pulls in to Firesto...</td>\n",
       "      <td>slick,relationships,who-cares-dvds,cliched,gun...</td>\n",
       "      <td>57</td>\n",
       "    </tr>\n",
       "    <tr>\n",
       "      <th>3</th>\n",
       "      <td>7</td>\n",
       "      <td>Sabrina (1995)</td>\n",
       "      <td>Sabrina Fairchild (Julia Ormond), is the Larra...</td>\n",
       "      <td>romance,chick-flick,great-cast,greg-kinnear,no...</td>\n",
       "      <td>13</td>\n",
       "    </tr>\n",
       "    <tr>\n",
       "      <th>4</th>\n",
       "      <td>8</td>\n",
       "      <td>Tom and Huck (1995)</td>\n",
       "      <td>The film opens with Injun Joe (Eric Schweig) a...</td>\n",
       "      <td>adapted-frombook,based-on-a-book,seen</td>\n",
       "      <td>3</td>\n",
       "    </tr>\n",
       "  </tbody>\n",
       "</table>\n",
       "</div>"
      ],
      "text/plain": [
       "   movie_id                title  \\\n",
       "0         1     Toy Story (1995)   \n",
       "1         2       Jumanji (1995)   \n",
       "2         6          Heat (1995)   \n",
       "3         7       Sabrina (1995)   \n",
       "4         8  Tom and Huck (1995)   \n",
       "\n",
       "                                            synopsis  \\\n",
       "0  A boy called Andy Davis (voice: John Morris) u...   \n",
       "1  The film begins in 1869 in the town of Brantfo...   \n",
       "2  An inbound Blue Line train pulls in to Firesto...   \n",
       "3  Sabrina Fairchild (Julia Ormond), is the Larra...   \n",
       "4  The film opens with Injun Joe (Eric Schweig) a...   \n",
       "\n",
       "                                                tags  num_tags  \n",
       "0  warm,very-good,3d,heroic-mission,kids-and-fami...        59  \n",
       "1  time,dynamic-cgi-action,saturn-award-best-spec...        19  \n",
       "2  slick,relationships,who-cares-dvds,cliched,gun...        57  \n",
       "3  romance,chick-flick,great-cast,greg-kinnear,no...        13  \n",
       "4              adapted-frombook,based-on-a-book,seen         3  "
      ]
     },
     "execution_count": 9,
     "metadata": {},
     "output_type": "execute_result"
    }
   ],
   "source": [
    "docs_df.head()"
   ]
  },
  {
   "cell_type": "code",
   "execution_count": 10,
   "metadata": {},
   "outputs": [
    {
     "data": {
      "text/html": [
       "<div>\n",
       "<style>\n",
       "    .dataframe thead tr:only-child th {\n",
       "        text-align: right;\n",
       "    }\n",
       "\n",
       "    .dataframe thead th {\n",
       "        text-align: left;\n",
       "    }\n",
       "\n",
       "    .dataframe tbody tr th {\n",
       "        vertical-align: top;\n",
       "    }\n",
       "</style>\n",
       "<table border=\"1\" class=\"dataframe\">\n",
       "  <thead>\n",
       "    <tr style=\"text-align: right;\">\n",
       "      <th></th>\n",
       "      <th>movie_id</th>\n",
       "      <th>num_tags</th>\n",
       "    </tr>\n",
       "  </thead>\n",
       "  <tbody>\n",
       "    <tr>\n",
       "      <th>count</th>\n",
       "      <td>6710.000000</td>\n",
       "      <td>6710.000000</td>\n",
       "    </tr>\n",
       "    <tr>\n",
       "      <th>mean</th>\n",
       "      <td>41263.124888</td>\n",
       "      <td>12.214605</td>\n",
       "    </tr>\n",
       "    <tr>\n",
       "      <th>std</th>\n",
       "      <td>39409.134389</td>\n",
       "      <td>14.369509</td>\n",
       "    </tr>\n",
       "    <tr>\n",
       "      <th>min</th>\n",
       "      <td>1.000000</td>\n",
       "      <td>1.000000</td>\n",
       "    </tr>\n",
       "    <tr>\n",
       "      <th>25%</th>\n",
       "      <td>4106.250000</td>\n",
       "      <td>3.000000</td>\n",
       "    </tr>\n",
       "    <tr>\n",
       "      <th>50%</th>\n",
       "      <td>31251.000000</td>\n",
       "      <td>7.000000</td>\n",
       "    </tr>\n",
       "    <tr>\n",
       "      <th>75%</th>\n",
       "      <td>74531.500000</td>\n",
       "      <td>16.000000</td>\n",
       "    </tr>\n",
       "    <tr>\n",
       "      <th>max</th>\n",
       "      <td>131082.000000</td>\n",
       "      <td>189.000000</td>\n",
       "    </tr>\n",
       "  </tbody>\n",
       "</table>\n",
       "</div>"
      ],
      "text/plain": [
       "            movie_id     num_tags\n",
       "count    6710.000000  6710.000000\n",
       "mean    41263.124888    12.214605\n",
       "std     39409.134389    14.369509\n",
       "min         1.000000     1.000000\n",
       "25%      4106.250000     3.000000\n",
       "50%     31251.000000     7.000000\n",
       "75%     74531.500000    16.000000\n",
       "max    131082.000000   189.000000"
      ]
     },
     "execution_count": 10,
     "metadata": {},
     "output_type": "execute_result"
    }
   ],
   "source": [
    "docs_df.describe()"
   ]
  },
  {
   "cell_type": "code",
   "execution_count": 11,
   "metadata": {
    "collapsed": true
   },
   "outputs": [],
   "source": [
    "labels = docs_df[\"tags\"].map(lambda tagstring: tagstring.split(\",\"))"
   ]
  },
  {
   "cell_type": "code",
   "execution_count": 12,
   "metadata": {},
   "outputs": [
    {
     "name": "stdout",
     "output_type": "stream",
     "text": [
      "total number of unique tags: 2138 \n",
      "total number of train documents: 5704\n",
      "total number of validation documents: 1006\n"
     ]
    }
   ],
   "source": [
    "mlb = MultiLabelBinarizer()\n",
    "\n",
    "truncated_labels = truncate_labels(labels,MIN_TAG_DF)\n",
    "\n",
    "binary_labels = mlb.fit_transform(truncated_labels)\n",
    "\n",
    "print(\"total number of unique tags: {} \".format(len(mlb.classes_)))\n",
    "\n",
    "data = docs_df['synopsis'].values\n",
    "indices = np.arange(len(data))\n",
    "np.random.shuffle(indices)\n",
    "\n",
    "data = [data[i] for i in indices]\n",
    "targets = binary_labels[indices]\n",
    "num_validation_samples = int(0.15 * len(data))\n",
    "\n",
    "X_train = data[:-num_validation_samples]\n",
    "Y_train = targets[:-num_validation_samples]\n",
    "X_val = data[-num_validation_samples:]\n",
    "Y_val = targets[-num_validation_samples:]\n",
    "\n",
    "print('total number of train documents: {}'.format(len(X_train)))\n",
    "print('total number of validation documents: {}'.format(len(X_val)))"
   ]
  },
  {
   "cell_type": "code",
   "execution_count": 13,
   "metadata": {
    "collapsed": true
   },
   "outputs": [],
   "source": [
    "# https://github.com/scikit-learn/scikit-learn/issues/6614\n",
    "class MyTfidfVectorizer(TfidfVectorizer):\n",
    "    def fit_transform(self, X, y):\n",
    "        result = super(MyTfidfVectorizer, self).fit_transform(X, y)\n",
    "        result.sort_indices()\n",
    "        return result"
   ]
  },
  {
   "cell_type": "code",
   "execution_count": 14,
   "metadata": {
    "collapsed": true,
    "scrolled": true
   },
   "outputs": [],
   "source": [
    "def warn(*args, **kwargs):\n",
    "    pass\n",
    "import warnings\n",
    "warnings.warn = warn\n",
    "\n",
    "pipeline = Pipeline([\n",
    "    ('vect', MyTfidfVectorizer()),\n",
    "    # https://stackoverflow.com/a/26496300/436721\n",
    "    ('clf', OneVsRestClassifier(SVC(kernel='linear',probability=True),n_jobs=-1)),\n",
    "])\n",
    "\n",
    "parameters = [\n",
    "    { \n",
    "        \"vect__max_features\": [MAX_NB_WORDS]\n",
    "    }\n",
    "]"
   ]
  },
  {
   "cell_type": "code",
   "execution_count": 15,
   "metadata": {
    "scrolled": false
   },
   "outputs": [
    {
     "ename": "NameError",
     "evalue": "name 'val_score' is not defined",
     "output_type": "error",
     "traceback": [
      "\u001b[0;31m---------------------------------------------------------------------------\u001b[0m",
      "\u001b[0;31mNameError\u001b[0m                                 Traceback (most recent call last)",
      "\u001b[0;32m<timed exec>\u001b[0m in \u001b[0;36m<module>\u001b[0;34m()\u001b[0m\n",
      "\u001b[0;31mNameError\u001b[0m: name 'val_score' is not defined"
     ]
    }
   ],
   "source": [
    "%%time\n",
    "\n",
    "best_score = float(\"-inf\")\n",
    "\n",
    "for g in ParameterGrid(parameters):\n",
    "    pipeline.set_params(**g)\n",
    "    \n",
    "    pipeline.fit(X_train,Y_train)\n",
    "    \n",
    "    Y_pred_train = pipeline.predict_proba(X_train)    \n",
    "    Y_pred_val = pipeline.predict_proba(X_val)\n",
    "       \n"
   ]
  },
  {
   "cell_type": "code",
   "execution_count": 21,
   "metadata": {},
   "outputs": [],
   "source": [
    "joblib.dump(pipeline,open(MODELS_ROOT+\"/movielens-ovr-svc.p\",\"wb\"))"
   ]
  },
  {
   "cell_type": "code",
   "execution_count": 16,
   "metadata": {},
   "outputs": [
    {
     "name": "stdout",
     "output_type": "stream",
     "text": [
      "train micro-F1 @1: 0.07568990042674253\n",
      "validation micro-F1 @1: 0.02296958294136093\n",
      "train micro-F1 @2: 0.13827226156817737\n",
      "validation micro-F1 @2: 0.035206599396037416\n",
      "train micro-F1 @3: 0.18838501768328486\n",
      "validation micro-F1 @3: 0.04561232990835879\n",
      "train micro-F1 @4: 0.22830046227002398\n",
      "validation micro-F1 @4: 0.05143642431778025\n",
      "train micro-F1 @5: 0.2589944619949608\n",
      "validation micro-F1 @5: 0.05584415584415584\n",
      "train micro-F1 @6: 0.2819562755428628\n",
      "validation micro-F1 @6: 0.060041043682204635\n",
      "train micro-F1 @7: 0.2989723637997706\n",
      "validation micro-F1 @7: 0.06240258294366511\n",
      "train micro-F1 @8: 0.31138777919012167\n",
      "validation micro-F1 @8: 0.06515745944226486\n",
      "train micro-F1 @9: 0.31981800568188\n",
      "validation micro-F1 @9: 0.06658240647118302\n",
      "train micro-F1 @10: 0.32489772917014526\n",
      "validation micro-F1 @10: 0.06819060506475932\n"
     ]
    }
   ],
   "source": [
    "   \n",
    "ks = [1,2,3,4,5,6,7,8,9,10]\n",
    "\n",
    "for k in ks:\n",
    "    print(\"train micro-F1 @{}: {}\".format(k,ranking.micro_f1_at_k(Y_train,Y_pred_train,k=k)))\n",
    "    print(\"validation micro-F1 @{}: {}\".format(k,ranking.micro_f1_at_k(Y_val,Y_pred_val,k=k)))"
   ]
  },
  {
   "cell_type": "code",
   "execution_count": null,
   "metadata": {
    "collapsed": true
   },
   "outputs": [],
   "source": [
    "ks = [1,2,3,4,5,6,7,8,9,10]\n",
    "\n",
    "for k in ks:\n",
    "    print(\"train micro-F1 @{}: {}\".format(k,ranking.micro_f1_at_k(Y_train,Y_pred_train,k=k)))\n",
    "    print(\"validation micro-F1 @{}: {}\".format(k,ranking.micro_f1_at_k(Y_val,Y_pred_val,k=k)))"
   ]
  }
 ],
 "metadata": {
  "kernelspec": {
   "display_name": "Global TF Kernel (Python 3)",
   "language": "python",
   "name": "global-tf-python-3"
  },
  "language_info": {
   "codemirror_mode": {
    "name": "ipython",
    "version": 3
   },
   "file_extension": ".py",
   "mimetype": "text/x-python",
   "name": "python",
   "nbconvert_exporter": "python",
   "pygments_lexer": "ipython3",
   "version": "3.5.2"
  }
 },
 "nbformat": 4,
 "nbformat_minor": 2
}
