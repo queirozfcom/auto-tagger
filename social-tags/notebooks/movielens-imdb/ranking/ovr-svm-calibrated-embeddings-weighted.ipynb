{
 "cells": [
  {
   "cell_type": "markdown",
   "metadata": {},
   "source": [
    "## ovr-svm with weighted bag-of-embeddings"
   ]
  },
  {
   "cell_type": "code",
   "execution_count": 1,
   "metadata": {},
   "outputs": [],
   "source": [
    "import pandas as pd\n",
    "import numpy as np\n",
    "import matplotlib.pyplot as plt\n",
    "import gc\n",
    "import nltk\n",
    "import os\n",
    "import re\n",
    "import pickle\n",
    "import sklearn\n",
    "import sys\n",
    "import string\n",
    "\n",
    "from sklearn.metrics import f1_score, precision_score, recall_score,average_precision_score\n",
    "from sklearn.model_selection import cross_val_score, GridSearchCV,ParameterGrid, train_test_split\n",
    "from sklearn.multiclass import OneVsRestClassifier\n",
    "from sklearn.preprocessing import MultiLabelBinarizer, StandardScaler,MinMaxScaler\n",
    "from sklearn.feature_extraction.text import CountVectorizer\n",
    "from sklearn.feature_extraction.text import TfidfTransformer,TfidfVectorizer\n",
    "from sklearn.svm import SVC\n",
    "from sklearn.pipeline import Pipeline\n",
    "from sklearn.svm import LinearSVC, SVC\n",
    "from sklearn.calibration import CalibratedClassifierCV\n",
    "from sklearn.linear_model import LogisticRegression,SGDClassifier\n",
    "\n",
    "from joblib import Parallel, delayed\n",
    "\n",
    "from tqdm import *\n",
    "\n",
    "%load_ext autoreload\n",
    "%autoreload 1"
   ]
  },
  {
   "cell_type": "code",
   "execution_count": 2,
   "metadata": {
    "collapsed": true
   },
   "outputs": [],
   "source": [
    "src_dir = os.path.join(os.getcwd(), os.pardir, '../../')\n",
    "sys.path.append(src_dir)"
   ]
  },
  {
   "cell_type": "code",
   "execution_count": 3,
   "metadata": {},
   "outputs": [],
   "source": [
    "%aimport src.data.movielens_20m_imdb\n",
    "%aimport src.helpers.labels,src.helpers.neighbours, src.helpers.segments,src.helpers.embeddings\n",
    "%aimport src.utils.dataframes, src.utils.clusters, src.utils.metrics,src.utils.plotting"
   ]
  },
  {
   "cell_type": "code",
   "execution_count": 4,
   "metadata": {
    "collapsed": true
   },
   "outputs": [],
   "source": [
    "from src.data.movielens_20m_imdb import load_df_or_get_from_cache\n",
    "from src.helpers.labels import truncate_labels\n",
    "from src.helpers.neighbours import get_predicted_labels_from_neighbours\n",
    "from src.helpers.segments import make_distance_matrix_for_segments,vectorize_segments\n",
    "from src.helpers.embeddings import read_glove_wiki_weighted\n",
    "\n",
    "\n",
    "from src.utils.dataframes import sample_rows\n",
    "from src.utils.metrics import ranking\n",
    "from src.utils.plotting import plot_micro_f1_at_k"
   ]
  },
  {
   "cell_type": "code",
   "execution_count": 5,
   "metadata": {
    "collapsed": true
   },
   "outputs": [],
   "source": [
    "MODELS_ROOT = os.path.abspath(\"../../../models/ranking/movielens-ovr-linear-svc-calibrated/\")\n",
    "INTERIM_DATA_ROOT = os.path.abspath(\"../../../data/interim/movielens-ml20m-imdb/\")\n",
    "PATH_TO_PROCESSED_FILE = os.path.abspath('../../../data/processed/movielens-20m-imdb-tags-and-synopses-2017-12-20.csv')\n",
    "\n",
    "# CONFIGS\n",
    "SEED= 42\n",
    "\n",
    "MAX_NB_WORDS = 1000"
   ]
  },
  {
   "cell_type": "code",
   "execution_count": 6,
   "metadata": {
    "collapsed": true
   },
   "outputs": [],
   "source": [
    "np.random.seed(SEED)"
   ]
  },
  {
   "cell_type": "code",
   "execution_count": 7,
   "metadata": {
    "collapsed": true
   },
   "outputs": [],
   "source": [
    "docs_df = load_df_or_get_from_cache(PATH_TO_PROCESSED_FILE,INTERIM_DATA_ROOT)"
   ]
  },
  {
   "cell_type": "code",
   "execution_count": 8,
   "metadata": {
    "collapsed": true
   },
   "outputs": [],
   "source": [
    "labels = docs_df[\"tags\"].map(lambda tagstring: tagstring.split(\",\"))"
   ]
  },
  {
   "cell_type": "code",
   "execution_count": 9,
   "metadata": {},
   "outputs": [
    {
     "name": "stdout",
     "output_type": "stream",
     "text": [
      "total number of unique tags: 2138 \n",
      "total number of train documents: 5704\n",
      "total number of validation documents: 1006\n"
     ]
    }
   ],
   "source": [
    "mlb = MultiLabelBinarizer()\n",
    "\n",
    "binary_labels = mlb.fit_transform(labels)\n",
    "\n",
    "print(\"total number of unique tags: {} \".format(len(mlb.classes_)))\n",
    "\n",
    "data = docs_df['synopsis'].values\n",
    "indices = np.arange(len(data))\n",
    "\n",
    "np.random.shuffle(indices)\n",
    "\n",
    "data = [data[i] for i in indices]\n",
    "targets = binary_labels[indices]\n",
    "num_validation_samples = int(0.15 * len(data))\n",
    "\n",
    "X_train = data[:-num_validation_samples]\n",
    "Y_train = targets[:-num_validation_samples]\n",
    "X_val = data[-num_validation_samples:]\n",
    "Y_val = targets[-num_validation_samples:]\n",
    "\n",
    "print('total number of train documents: {}'.format(len(X_train)))\n",
    "print('total number of validation documents: {}'.format(len(X_val)))"
   ]
  },
  {
   "cell_type": "code",
   "execution_count": 10,
   "metadata": {},
   "outputs": [],
   "source": [
    "# only fit on the train data because we're using the IDF scores to weigh the embeddings\n",
    "vect = TfidfVectorizer(max_features=MAX_NB_WORDS)\n",
    "vect.fit(X_train)\n",
    "\n",
    "feature_names = vect.get_feature_names()\n",
    "idf = vect.idf_\n",
    "idf_index = dict(zip(vect.get_feature_names(), idf))"
   ]
  },
  {
   "cell_type": "markdown",
   "metadata": {},
   "source": [
    "## tokenize"
   ]
  },
  {
   "cell_type": "code",
   "execution_count": 11,
   "metadata": {
    "collapsed": true
   },
   "outputs": [],
   "source": [
    "# analyzer = preprocess + tokenize\n",
    "tokenize_func = vect.build_analyzer()"
   ]
  },
  {
   "cell_type": "code",
   "execution_count": 12,
   "metadata": {
    "collapsed": true
   },
   "outputs": [],
   "source": [
    "def tokenize(string):\n",
    "    return tokenize_func(string)"
   ]
  },
  {
   "cell_type": "code",
   "execution_count": 13,
   "metadata": {},
   "outputs": [],
   "source": [
    "X_train_tok = Parallel(n_jobs=2)(delayed(tokenize)(doc) for doc in X_train)\n",
    "X_val_tok = Parallel(n_jobs=2)(delayed(tokenize)(doc) for doc in X_val)"
   ]
  },
  {
   "cell_type": "markdown",
   "metadata": {},
   "source": [
    "## transform into embeddings"
   ]
  },
  {
   "cell_type": "code",
   "execution_count": 14,
   "metadata": {},
   "outputs": [
    {
     "name": "stdout",
     "output_type": "stream",
     "text": [
      "overall, 1000 out of 1000 embeddings were weighted. Total available embeddings: 400000\n"
     ]
    }
   ],
   "source": [
    "embeddings_index = read_glove_wiki_weighted(\n",
    "    d=100,\n",
    "    weight_index=idf_index)"
   ]
  },
  {
   "cell_type": "code",
   "execution_count": 15,
   "metadata": {},
   "outputs": [],
   "source": [
    "def build_bag_of_weighted_embeddings(document_tokens):\n",
    "    out = [embeddings_index[token] for token in document_tokens if token in embeddings_index.keys()]\n",
    "    \n",
    "    return np.mean(np.array(out),axis=0)    "
   ]
  },
  {
   "cell_type": "code",
   "execution_count": 16,
   "metadata": {},
   "outputs": [],
   "source": [
    "X_train_boe = Parallel(n_jobs=2)(delayed(build_bag_of_weighted_embeddings)(tokenized_doc) for tokenized_doc in X_train_tok)\n",
    "X_train_boe = np.array(X_train_boe)\n",
    "\n",
    "X_val_boe = Parallel(n_jobs=2)(delayed(build_bag_of_weighted_embeddings)(tokenized_doc) for tokenized_doc in X_val_tok)\n",
    "X_val_boe = np.array(X_val_boe)"
   ]
  },
  {
   "cell_type": "code",
   "execution_count": 17,
   "metadata": {
    "collapsed": true,
    "scrolled": true
   },
   "outputs": [],
   "source": [
    "pipeline = Pipeline([\n",
    "    ('clf', OneVsRestClassifier(CalibratedClassifierCV(SVC(),cv=2),n_jobs=-1)),\n",
    "])"
   ]
  },
  {
   "cell_type": "code",
   "execution_count": 37,
   "metadata": {},
   "outputs": [],
   "source": [
    "start=-4\n",
    "stop=2\n",
    "num=np.abs([start,stop]).sum() + 1\n",
    "C = "
   ]
  },
  {
   "cell_type": "code",
   "execution_count": 42,
   "metadata": {},
   "outputs": [
    {
     "data": {
      "text/plain": [
       "7"
      ]
     },
     "execution_count": 42,
     "metadata": {},
     "output_type": "execute_result"
    }
   ],
   "source": [
    "num"
   ]
  },
  {
   "cell_type": "code",
   "execution_count": null,
   "metadata": {
    "collapsed": true
   },
   "outputs": [],
   "source": [
    "grid_search_parameters = [\n",
    "    { \n",
    "        \"clf__estimator__base_estimator__kernel\": ['rbf','linear','poly'],\n",
    "        \"clf__estimator__base_estimator__C\": np.logspace(-4,2,7),\n",
    "        \"clf__estimator__base_estimator__degree\":[2,3,4,5]\n",
    "    }\n",
    "]"
   ]
  },
  {
   "cell_type": "code",
   "execution_count": 39,
   "metadata": {
    "collapsed": true
   },
   "outputs": [],
   "source": [
    "parameters = [\n",
    "    { \n",
    "        \"clf__estimator__base_estimator__kernel\": ['rbf'],\n",
    "        \"clf__estimator__base_estimator__C\": [1.0]\n",
    "    }\n",
    "]"
   ]
  },
  {
   "cell_type": "code",
   "execution_count": 41,
   "metadata": {
    "scrolled": true
   },
   "outputs": [
    {
     "name": "stdout",
     "output_type": "stream",
     "text": [
      "{'clf__estimator__base_estimator__kernel': 'rbf', 'clf__estimator__base_estimator__C': 0.0001}\n"
     ]
    },
    {
     "name": "stderr",
     "output_type": "stream",
     "text": [
      "/home/felipe/tf-venv3/lib/python3.5/site-packages/sklearn/calibration.py:435: RuntimeWarning: overflow encountered in exp\n",
      "  E = np.exp(AB[0] * F + AB[1])\n",
      "/home/felipe/tf-venv3/lib/python3.5/site-packages/sklearn/calibration.py:435: RuntimeWarning: overflow encountered in exp\n",
      "  E = np.exp(AB[0] * F + AB[1])\n",
      "/home/felipe/tf-venv3/lib/python3.5/site-packages/sklearn/calibration.py:435: RuntimeWarning: overflow encountered in exp\n",
      "  E = np.exp(AB[0] * F + AB[1])\n"
     ]
    },
    {
     "name": "stdout",
     "output_type": "stream",
     "text": [
      "[0.27072911929665, 0.2535211267605634, 0.2319574314201581, 0.21993368441583772, 0.2120803686173714, 0.2048780487804878, 0.19795098614433362, 0.19207606973058636, 0.1872561309345151, 0.18199203187250995]\n",
      "[0.2655172413793103, 0.23353819139596138, 0.2226148409893993, 0.20876919652793233, 0.2029296177206145, 0.19686333084391336, 0.18878600823045266, 0.18329571106094808, 0.17753623188405798, 0.17190623296383792]\n",
      "{'clf__estimator__base_estimator__kernel': 'rbf', 'clf__estimator__base_estimator__C': 0.001}\n",
      "[0.3392051244722667, 0.30238095238095236, 0.2769106837176518, 0.2594499752069268, 0.24600246002460024, 0.23619450099208905, 0.2290821191759253, 0.22139070782662926, 0.21467944147872506, 0.2086552352239181]\n",
      "[0.30782169890664424, 0.2677572105036591, 0.25246091488129707, 0.23315038419319428, 0.2229288111641053, 0.2123500666370502, 0.20448750637429883, 0.19854504756575267, 0.1924535835496107, 0.18804034582132564]\n",
      "{'clf__estimator__base_estimator__kernel': 'rbf', 'clf__estimator__base_estimator__C': 0.01}\n",
      "[0.3674871207784774, 0.32296949650863654, 0.2914482552044331, 0.27301971767021155, 0.2587991086418999, 0.24519304722350407, 0.23655154138327003, 0.22925882809468373, 0.22262230377730846, 0.21577152866839752]\n",
      "[0.2992392223161454, 0.28034188034188035, 0.25498699045967044, 0.24394501418284967, 0.22949665610700457, 0.22025652366209642, 0.21427665779130214, 0.20757238307349665, 0.20053661929841995, 0.19340935620005387]\n",
      "{'clf__estimator__base_estimator__kernel': 'rbf', 'clf__estimator__base_estimator__C': 0.10000000000000001}\n",
      "[0.4898067249139529, 0.43102736900013755, 0.39014064631450207, 0.35690623649719144, 0.3332359301034422, 0.31404714401832556, 0.29814802975086846, 0.28522039757994816, 0.27485507855162566, 0.26531232893376316]\n",
      "[0.33167495854063017, 0.29995775242923534, 0.2680057388809182, 0.2534722222222222, 0.24125874125874125, 0.22757304360593159, 0.2190187152250885, 0.21215150505387093, 0.20517395182872436, 0.20228734810578985]\n",
      "{'clf__estimator__base_estimator__kernel': 'rbf', 'clf__estimator__base_estimator__C': 1.0}\n",
      "[0.5798580853977343, 0.510607742019714, 0.46817652851132396, 0.43194391945293975, 0.40353774245011054, 0.3795070906034707, 0.3615248881776027, 0.3452277342616768, 0.33135056070209656, 0.31975845054864127]\n",
      "[0.3761097659402744, 0.32263443101292205, 0.28278805120910383, 0.26252158894645944, 0.2522585128561501, 0.2427947598253275, 0.2328732747804266, 0.22418358340688438, 0.22034398034398034, 0.21266767344763257]\n",
      "{'clf__estimator__base_estimator__kernel': 'rbf', 'clf__estimator__base_estimator__C': 10.0}\n",
      "[0.6079316656497864, 0.5579572746808241, 0.5120646928394418, 0.4729779473279122, 0.43952616748283313, 0.41412386181969835, 0.3948220064724919, 0.3772981046193236, 0.3614165562808216, 0.348294434470377]\n",
      "[0.36688311688311687, 0.3309829946080465, 0.29971830985915493, 0.2722198368398454, 0.25559216230275705, 0.24407272727272727, 0.23552994237033326, 0.22984713515891345, 0.2238352133398725, 0.21583754544648398]\n",
      "{'clf__estimator__base_estimator__kernel': 'rbf', 'clf__estimator__base_estimator__C': 100.0}\n",
      "[0.607421875, 0.557045282064255, 0.5098619758784343, 0.46990577742011197, 0.44089107557742246, 0.4182284565433411, 0.39839550742077817, 0.3800056802044874, 0.363792828685259, 0.349345989119111]\n",
      "[0.3682076236820762, 0.3261231281198003, 0.3011539544047284, 0.2766595289079229, 0.26252158894645944, 0.24764116707795036, 0.2361928616155291, 0.23101439718650402, 0.22505391099784355, 0.22135785007072137]\n",
      "CPU times: user 41min 42s, sys: 6.74 s, total: 41min 49s\n",
      "Wall time: 49min 22s\n"
     ]
    }
   ],
   "source": [
    "%%time\n",
    "\n",
    "for g in ParameterGrid(parameters):\n",
    "    print(g)\n",
    "    \n",
    "    pipeline.set_params(**g)\n",
    "    \n",
    "    pipeline.fit(X_train_boe,Y_train)\n",
    "    \n",
    "    Y_pred_train = pipeline.predict_proba(X_train_boe)    \n",
    "    Y_pred_val = pipeline.predict_proba(X_val_boe)\n",
    "    \n",
    "    ks = [1,2,3,4,5,6,7,8,9,10]\n",
    "    \n",
    "    train_scores = [ranking.micro_f1_at_k(Y_train,Y_pred_train,k=k,normalize=True) for k in ks]\n",
    "    validation_scores = [ranking.micro_f1_at_k(Y_val,Y_pred_val,k=k,normalize=True) for k in ks]\n",
    "    \n",
    "    print(train_scores)\n",
    "    print(validation_scores)\n",
    "    "
   ]
  },
  {
   "cell_type": "code",
   "execution_count": null,
   "metadata": {
    "collapsed": true
   },
   "outputs": [],
   "source": [
    "ks = [1,2,3,4,5,6,7,8,9,10]\n",
    "\n",
    "train_scores = [ranking.micro_f1_at_k(Y_train,Y_pred_train,k=k,normalize=True) for k in ks]\n",
    "validation_scores = [ranking.micro_f1_at_k(Y_val,Y_pred_val,k=k,normalize=True) for k in ks]"
   ]
  },
  {
   "cell_type": "code",
   "execution_count": null,
   "metadata": {
    "collapsed": true
   },
   "outputs": [],
   "source": []
  },
  {
   "cell_type": "code",
   "execution_count": null,
   "metadata": {},
   "outputs": [],
   "source": [
    "plt.clf()\n",
    "img = plt.gcf()\n",
    "ax = plt.gca()\n",
    "plot_micro_f1_at_k(validation_scores,ax,train_scores)\n",
    "plt.gcf().set_size_inches(7,5)\n",
    "plt.show()"
   ]
  }
 ],
 "metadata": {
  "kernelspec": {
   "display_name": "Python 3",
   "language": "python",
   "name": "python3"
  },
  "language_info": {
   "codemirror_mode": {
    "name": "ipython",
    "version": 3
   },
   "file_extension": ".py",
   "mimetype": "text/x-python",
   "name": "python",
   "nbconvert_exporter": "python",
   "pygments_lexer": "ipython3",
   "version": "3.5.2"
  }
 },
 "nbformat": 4,
 "nbformat_minor": 2
}
