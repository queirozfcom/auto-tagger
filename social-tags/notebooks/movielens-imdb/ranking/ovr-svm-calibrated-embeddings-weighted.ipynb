{
 "cells": [
  {
   "cell_type": "markdown",
   "metadata": {},
   "source": [
    "## ovr-svm with weighted bag-of-embeddings"
   ]
  },
  {
   "cell_type": "code",
   "execution_count": 1,
   "metadata": {
    "collapsed": true
   },
   "outputs": [],
   "source": [
    "import pandas as pd\n",
    "import numpy as np\n",
    "import matplotlib.pyplot as plt\n",
    "import gc\n",
    "import nltk\n",
    "import os\n",
    "import re\n",
    "import pickle\n",
    "import sklearn\n",
    "import sys\n",
    "import string\n",
    "\n",
    "from sklearn.metrics import f1_score, precision_score, recall_score,average_precision_score\n",
    "from sklearn.model_selection import cross_val_score, GridSearchCV,ParameterGrid, train_test_split\n",
    "from sklearn.multiclass import OneVsRestClassifier\n",
    "from sklearn.preprocessing import MultiLabelBinarizer, StandardScaler,MinMaxScaler\n",
    "from sklearn.feature_extraction.text import CountVectorizer\n",
    "from sklearn.feature_extraction.text import TfidfTransformer,TfidfVectorizer\n",
    "from sklearn.svm import SVC\n",
    "from sklearn.pipeline import Pipeline\n",
    "from sklearn.svm import LinearSVC, SVC\n",
    "from sklearn.calibration import CalibratedClassifierCV\n",
    "from sklearn.linear_model import LogisticRegression,SGDClassifier\n",
    "\n",
    "from joblib import Parallel, delayed\n",
    "\n",
    "from tqdm import *\n",
    "\n",
    "%load_ext autoreload\n",
    "%autoreload 1"
   ]
  },
  {
   "cell_type": "code",
   "execution_count": 2,
   "metadata": {
    "collapsed": true
   },
   "outputs": [],
   "source": [
    "src_dir = os.path.join(os.getcwd(), os.pardir, '../../')\n",
    "sys.path.append(src_dir)"
   ]
  },
  {
   "cell_type": "code",
   "execution_count": 3,
   "metadata": {
    "collapsed": true
   },
   "outputs": [],
   "source": [
    "%aimport src.data.movielens_20m_imdb\n",
    "%aimport src.helpers.labels,src.helpers.neighbours, src.helpers.segments,src.helpers.embeddings\n",
    "%aimport src.utils.dataframes, src.utils.clusters, src.utils.metrics,src.utils.plotting"
   ]
  },
  {
   "cell_type": "code",
   "execution_count": 4,
   "metadata": {},
   "outputs": [],
   "source": [
    "from src.data.movielens_20m_imdb import load_df_or_get_from_cache\n",
    "from src.helpers.labels import truncate_labels\n",
    "from src.helpers.segments import make_distance_matrix_for_segments,vectorize_segments\n",
    "from src.helpers.embeddings import read_glove_wiki_weighted\n",
    "\n",
    "\n",
    "from src.utils.dataframes import sample_rows\n",
    "from src.utils.metrics import ranking\n",
    "from src.utils.plotting import plot_micro_f1_at_k"
   ]
  },
  {
   "cell_type": "code",
   "execution_count": 5,
   "metadata": {
    "collapsed": true
   },
   "outputs": [],
   "source": [
    "MODELS_ROOT = os.path.abspath(\"../../../models/ranking/movielens-ovr-svc-calibrated-embeddings/\")\n",
    "INTERIM_DATA_ROOT = os.path.abspath(\"../../../data/interim/movielens-ml20m-imdb/\")\n",
    "PATH_TO_PROCESSED_FILE = os.path.abspath('../../../data/processed/movielens-20m-imdb-tags-and-synopses-2017-12-20.csv')\n",
    "\n",
    "# CONFIGS\n",
    "SEED= 42\n",
    "\n",
    "MAX_NB_WORDS = 500"
   ]
  },
  {
   "cell_type": "code",
   "execution_count": 6,
   "metadata": {
    "collapsed": true
   },
   "outputs": [],
   "source": [
    "np.random.seed(SEED)"
   ]
  },
  {
   "cell_type": "code",
   "execution_count": 7,
   "metadata": {
    "collapsed": true
   },
   "outputs": [],
   "source": [
    "docs_df = load_df_or_get_from_cache(PATH_TO_PROCESSED_FILE,INTERIM_DATA_ROOT)"
   ]
  },
  {
   "cell_type": "code",
   "execution_count": 8,
   "metadata": {
    "collapsed": true
   },
   "outputs": [],
   "source": [
    "labels = docs_df[\"tags\"].map(lambda tagstring: tagstring.split(\",\"))"
   ]
  },
  {
   "cell_type": "code",
   "execution_count": 9,
   "metadata": {},
   "outputs": [
    {
     "name": "stdout",
     "output_type": "stream",
     "text": [
      "total number of unique tags: 2138 \n",
      "total number of train documents: 5704\n",
      "total number of validation documents: 1006\n"
     ]
    }
   ],
   "source": [
    "mlb = MultiLabelBinarizer()\n",
    "\n",
    "binary_labels = mlb.fit_transform(labels)\n",
    "\n",
    "print(\"total number of unique tags: {} \".format(len(mlb.classes_)))\n",
    "\n",
    "data = docs_df['synopsis'].values\n",
    "indices = np.arange(len(data))\n",
    "\n",
    "np.random.shuffle(indices)\n",
    "\n",
    "data = [data[i] for i in indices]\n",
    "targets = binary_labels[indices]\n",
    "num_validation_samples = int(0.15 * len(data))\n",
    "\n",
    "X_train = data[:-num_validation_samples]\n",
    "Y_train = targets[:-num_validation_samples]\n",
    "X_val = data[-num_validation_samples:]\n",
    "Y_val = targets[-num_validation_samples:]\n",
    "\n",
    "print('total number of train documents: {}'.format(len(X_train)))\n",
    "print('total number of validation documents: {}'.format(len(X_val)))"
   ]
  },
  {
   "cell_type": "code",
   "execution_count": 10,
   "metadata": {
    "collapsed": true
   },
   "outputs": [],
   "source": [
    "# only fit on the train data because we're using the IDF scores to weigh the embeddings\n",
    "vect = TfidfVectorizer(max_features=MAX_NB_WORDS)\n",
    "vect.fit(X_train)\n",
    "\n",
    "feature_names = vect.get_feature_names()\n",
    "idf = vect.idf_\n",
    "idf_index = dict(zip(vect.get_feature_names(), idf))"
   ]
  },
  {
   "cell_type": "markdown",
   "metadata": {},
   "source": [
    "## tokenize"
   ]
  },
  {
   "cell_type": "code",
   "execution_count": 11,
   "metadata": {
    "collapsed": true
   },
   "outputs": [],
   "source": [
    "# analyzer = preprocess + tokenize\n",
    "tokenize_func = vect.build_analyzer()"
   ]
  },
  {
   "cell_type": "code",
   "execution_count": 12,
   "metadata": {
    "collapsed": true
   },
   "outputs": [],
   "source": [
    "def tokenize(string):\n",
    "    return tokenize_func(string)"
   ]
  },
  {
   "cell_type": "code",
   "execution_count": 13,
   "metadata": {
    "collapsed": true
   },
   "outputs": [],
   "source": [
    "X_train_tok = Parallel(n_jobs=2)(delayed(tokenize)(doc) for doc in X_train)\n",
    "X_val_tok = Parallel(n_jobs=2)(delayed(tokenize)(doc) for doc in X_val)"
   ]
  },
  {
   "cell_type": "markdown",
   "metadata": {},
   "source": [
    "## transform into embeddings"
   ]
  },
  {
   "cell_type": "code",
   "execution_count": 14,
   "metadata": {},
   "outputs": [
    {
     "name": "stdout",
     "output_type": "stream",
     "text": [
      "overall, 500 out of 500 embeddings were weighted. Total available embeddings: 400000\n"
     ]
    }
   ],
   "source": [
    "embeddings_index = read_glove_wiki_weighted(\n",
    "    d=100,\n",
    "    weight_index=idf_index)"
   ]
  },
  {
   "cell_type": "code",
   "execution_count": 15,
   "metadata": {
    "collapsed": true
   },
   "outputs": [],
   "source": [
    "def build_bag_of_weighted_embeddings(document_tokens):\n",
    "    out = [embeddings_index[token] for token in document_tokens if token in embeddings_index.keys()]\n",
    "    \n",
    "    return np.mean(np.array(out),axis=0)    "
   ]
  },
  {
   "cell_type": "code",
   "execution_count": 16,
   "metadata": {
    "collapsed": true
   },
   "outputs": [],
   "source": [
    "X_train_boe = Parallel(n_jobs=2)(delayed(build_bag_of_weighted_embeddings)(tokenized_doc) for tokenized_doc in X_train_tok)\n",
    "X_train_boe = np.array(X_train_boe)\n",
    "\n",
    "X_val_boe = Parallel(n_jobs=2)(delayed(build_bag_of_weighted_embeddings)(tokenized_doc) for tokenized_doc in X_val_tok)\n",
    "X_val_boe = np.array(X_val_boe)"
   ]
  },
  {
   "cell_type": "code",
   "execution_count": 17,
   "metadata": {
    "collapsed": true,
    "scrolled": true
   },
   "outputs": [],
   "source": [
    "pipeline = Pipeline([\n",
    "    ('clf', OneVsRestClassifier(CalibratedClassifierCV(SVC(),cv=2),n_jobs=-1)),\n",
    "])"
   ]
  },
  {
   "cell_type": "code",
   "execution_count": 18,
   "metadata": {
    "collapsed": true
   },
   "outputs": [],
   "source": [
    "grid_search_parameters = [\n",
    "    { \n",
    "        \"clf__estimator__base_estimator__kernel\": ['rbf','linear','poly'],\n",
    "        \"clf__estimator__base_estimator__C\": np.logspace(-4,2,7),\n",
    "        \"clf__estimator__base_estimator__degree\":[2,3,4,5]\n",
    "    }\n",
    "]"
   ]
  },
  {
   "cell_type": "code",
   "execution_count": 19,
   "metadata": {
    "collapsed": true
   },
   "outputs": [],
   "source": [
    "parameters = [\n",
    "    { \n",
    "        \"clf__estimator__base_estimator__kernel\": ['rbf'],\n",
    "        \"clf__estimator__base_estimator__C\": [1.0]\n",
    "    }\n",
    "]"
   ]
  },
  {
   "cell_type": "code",
   "execution_count": 20,
   "metadata": {
    "scrolled": false
   },
   "outputs": [
    {
     "name": "stderr",
     "output_type": "stream",
     "text": [
      "\r",
      "  0%|          | 0/84 [00:00<?, ?it/s]"
     ]
    },
    {
     "name": "stdout",
     "output_type": "stream",
     "text": [
      "{'clf__estimator__base_estimator__C': 0.0001, 'clf__estimator__base_estimator__degree': 2, 'clf__estimator__base_estimator__kernel': 'rbf'}\n"
     ]
    },
    {
     "name": "stderr",
     "output_type": "stream",
     "text": [
      "/home/felipe/tf-venv3/lib/python3.5/site-packages/sklearn/calibration.py:435: RuntimeWarning: overflow encountered in exp\n",
      "  E = np.exp(AB[0] * F + AB[1])\n"
     ]
    },
    {
     "name": "stdout",
     "output_type": "stream",
     "text": [
      "train micro-F1 @1: 0.2628292980051774\n",
      "validation micro-F1 @1: 0.2655172413793103\n",
      "train micro-F1 @2: 0.23814671814671814\n",
      "validation micro-F1 @2: 0.22887323943661972\n",
      "train micro-F1 @3: 0.22792937399678972\n",
      "validation micro-F1 @3: 0.2215674720094284\n",
      "train micro-F1 @4: 0.21492000156476157\n",
      "validation micro-F1 @4: 0.20437304774654172\n",
      "train micro-F1 @5: 0.20927385175650645\n",
      "validation micro-F1 @5: 0.199391444424557\n",
      "train micro-F1 @6: 0.20516047828823158\n",
      "validation micro-F1 @6: 0.19146067415730336\n",
      "train micro-F1 @7: 0.19774763592046762\n",
      "validation micro-F1 @7: 0.18458365558133538\n",
      "train micro-F1 @8: 0.19161035924465492\n",
      "validation micro-F1 @8: 0.1818592567491246\n",
      "train micro-F1 @9: 0.18587886069686904\n",
      "validation micro-F1 @9: 0.18010050251256282\n"
     ]
    },
    {
     "name": "stderr",
     "output_type": "stream",
     "text": [
      "\r",
      "  1%|          | 1/84 [05:58<8:15:14, 358.01s/it]"
     ]
    },
    {
     "name": "stdout",
     "output_type": "stream",
     "text": [
      "train micro-F1 @10: 0.18123844142592946\n",
      "validation micro-F1 @10: 0.17455997096715659\n",
      "{'clf__estimator__base_estimator__C': 0.0001, 'clf__estimator__base_estimator__degree': 2, 'clf__estimator__base_estimator__kernel': 'linear'}\n",
      "train micro-F1 @1: 0.32136550912301354\n",
      "validation micro-F1 @1: 0.29635901778154106\n",
      "train micro-F1 @2: 0.28991155748763303\n",
      "validation micro-F1 @2: 0.2572542226071893\n",
      "train micro-F1 @3: 0.2631819335194113\n",
      "validation micro-F1 @3: 0.23043095866314864\n",
      "train micro-F1 @4: 0.24694583173261622\n",
      "validation micro-F1 @4: 0.22535832414553472\n",
      "train micro-F1 @5: 0.23754789272030652\n",
      "validation micro-F1 @5: 0.21694434597660403\n",
      "train micro-F1 @6: 0.22921301805763958\n",
      "validation micro-F1 @6: 0.20437304774654172\n",
      "train micro-F1 @7: 0.2205980658674629\n",
      "validation micro-F1 @7: 0.1975940619401075\n",
      "train micro-F1 @8: 0.214396118252431\n",
      "validation micro-F1 @8: 0.19328768660904702\n",
      "train micro-F1 @9: 0.20810499493874132\n",
      "validation micro-F1 @9: 0.1870244293151782\n"
     ]
    },
    {
     "name": "stderr",
     "output_type": "stream",
     "text": [
      "\r",
      "  2%|▏         | 2/84 [08:49<6:52:48, 302.05s/it]"
     ]
    },
    {
     "name": "stdout",
     "output_type": "stream",
     "text": [
      "train micro-F1 @10: 0.20213386285912407\n",
      "validation micro-F1 @10: 0.18313165974354342\n",
      "{'clf__estimator__base_estimator__C': 0.0001, 'clf__estimator__base_estimator__degree': 2, 'clf__estimator__base_estimator__kernel': 'poly'}\n"
     ]
    },
    {
     "name": "stderr",
     "output_type": "stream",
     "text": [
      "/home/felipe/tf-venv3/lib/python3.5/site-packages/sklearn/calibration.py:435: RuntimeWarning: overflow encountered in exp\n",
      "  E = np.exp(AB[0] * F + AB[1])\n"
     ]
    },
    {
     "name": "stdout",
     "output_type": "stream",
     "text": [
      "train micro-F1 @1: 0.2343290512304597\n",
      "validation micro-F1 @1: 0.24125874125874125\n",
      "train micro-F1 @2: 0.2215293475719074\n",
      "validation micro-F1 @2: 0.21710234824988922\n",
      "train micro-F1 @3: 0.20854271356783918\n",
      "validation micro-F1 @3: 0.20357142857142857\n",
      "train micro-F1 @4: 0.20141105987150684\n",
      "validation micro-F1 @4: 0.1910541694762868\n",
      "train micro-F1 @5: 0.1937363437727604\n",
      "validation micro-F1 @5: 0.18148951554591466\n",
      "train micro-F1 @6: 0.18647166361974407\n",
      "validation micro-F1 @6: 0.17615954071612025\n",
      "train micro-F1 @7: 0.1822403314288316\n",
      "validation micro-F1 @7: 0.1704338789295921\n",
      "train micro-F1 @8: 0.17727181945276613\n",
      "validation micro-F1 @8: 0.1659070191431176\n",
      "train micro-F1 @9: 0.1736485404770799\n",
      "validation micro-F1 @9: 0.16572123176661263\n"
     ]
    },
    {
     "name": "stderr",
     "output_type": "stream",
     "text": [
      "\r",
      "  4%|▎         | 3/84 [11:18<5:45:47, 256.15s/it]"
     ]
    },
    {
     "name": "stdout",
     "output_type": "stream",
     "text": [
      "train micro-F1 @10: 0.17032878909382518\n",
      "validation micro-F1 @10: 0.16272486530910418\n",
      "{'clf__estimator__base_estimator__C': 0.0001, 'clf__estimator__base_estimator__degree': 3, 'clf__estimator__base_estimator__kernel': 'rbf'}\n"
     ]
    },
    {
     "name": "stderr",
     "output_type": "stream",
     "text": [
      "/home/felipe/tf-venv3/lib/python3.5/site-packages/sklearn/calibration.py:435: RuntimeWarning: overflow encountered in exp\n",
      "  E = np.exp(AB[0] * F + AB[1])\n"
     ]
    },
    {
     "name": "stdout",
     "output_type": "stream",
     "text": [
      "train micro-F1 @1: 0.2628292980051774\n",
      "validation micro-F1 @1: 0.2655172413793103\n",
      "train micro-F1 @2: 0.23814671814671814\n",
      "validation micro-F1 @2: 0.22887323943661972\n",
      "train micro-F1 @3: 0.22792937399678972\n",
      "validation micro-F1 @3: 0.2215674720094284\n",
      "train micro-F1 @4: 0.21492000156476157\n",
      "validation micro-F1 @4: 0.20437304774654172\n",
      "train micro-F1 @5: 0.20927385175650645\n",
      "validation micro-F1 @5: 0.199391444424557\n",
      "train micro-F1 @6: 0.20516047828823158\n",
      "validation micro-F1 @6: 0.19146067415730336\n",
      "train micro-F1 @7: 0.19774763592046762\n",
      "validation micro-F1 @7: 0.18458365558133538\n",
      "train micro-F1 @8: 0.19161035924465492\n",
      "validation micro-F1 @8: 0.1818592567491246\n",
      "train micro-F1 @9: 0.18587886069686904\n",
      "validation micro-F1 @9: 0.18010050251256282\n"
     ]
    },
    {
     "name": "stderr",
     "output_type": "stream",
     "text": [
      "\r",
      "  5%|▍         | 4/84 [14:21<5:12:18, 234.24s/it]"
     ]
    },
    {
     "name": "stdout",
     "output_type": "stream",
     "text": [
      "train micro-F1 @10: 0.18123844142592946\n",
      "validation micro-F1 @10: 0.17455997096715659\n",
      "{'clf__estimator__base_estimator__C': 0.0001, 'clf__estimator__base_estimator__degree': 3, 'clf__estimator__base_estimator__kernel': 'linear'}\n",
      "train micro-F1 @1: 0.32136550912301354\n",
      "validation micro-F1 @1: 0.29635901778154106\n",
      "train micro-F1 @2: 0.28991155748763303\n",
      "validation micro-F1 @2: 0.2572542226071893\n",
      "train micro-F1 @3: 0.2631819335194113\n",
      "validation micro-F1 @3: 0.23043095866314864\n",
      "train micro-F1 @4: 0.24694583173261622\n",
      "validation micro-F1 @4: 0.22535832414553472\n",
      "train micro-F1 @5: 0.23754789272030652\n",
      "validation micro-F1 @5: 0.21694434597660403\n",
      "train micro-F1 @6: 0.22921301805763958\n",
      "validation micro-F1 @6: 0.20437304774654172\n",
      "train micro-F1 @7: 0.2205980658674629\n",
      "validation micro-F1 @7: 0.1975940619401075\n",
      "train micro-F1 @8: 0.214396118252431\n",
      "validation micro-F1 @8: 0.19328768660904702\n",
      "train micro-F1 @9: 0.20810499493874132\n",
      "validation micro-F1 @9: 0.1870244293151782\n"
     ]
    },
    {
     "name": "stderr",
     "output_type": "stream",
     "text": [
      "\r",
      "  6%|▌         | 5/84 [16:50<4:34:34, 208.54s/it]"
     ]
    },
    {
     "name": "stdout",
     "output_type": "stream",
     "text": [
      "train micro-F1 @10: 0.20213386285912407\n",
      "validation micro-F1 @10: 0.18313165974354342\n",
      "{'clf__estimator__base_estimator__C': 0.0001, 'clf__estimator__base_estimator__degree': 3, 'clf__estimator__base_estimator__kernel': 'poly'}\n"
     ]
    },
    {
     "name": "stderr",
     "output_type": "stream",
     "text": [
      "/home/felipe/tf-venv3/lib/python3.5/site-packages/sklearn/calibration.py:435: RuntimeWarning: overflow encountered in exp\n",
      "  E = np.exp(AB[0] * F + AB[1])\n",
      "/home/felipe/tf-venv3/lib/python3.5/site-packages/sklearn/calibration.py:435: RuntimeWarning: overflow encountered in exp\n",
      "  E = np.exp(AB[0] * F + AB[1])\n"
     ]
    },
    {
     "name": "stdout",
     "output_type": "stream",
     "text": [
      "train micro-F1 @1: 0.22939624398572095\n",
      "validation micro-F1 @1: 0.2381786339754816\n",
      "train micro-F1 @2: 0.21289261376987545\n",
      "validation micro-F1 @2: 0.2123500666370502\n",
      "train micro-F1 @3: 0.20157645822385706\n",
      "validation micro-F1 @3: 0.19659396474454735\n",
      "train micro-F1 @4: 0.19593579505020953\n",
      "validation micro-F1 @4: 0.18901890189018902\n",
      "train micro-F1 @5: 0.1871345029239766\n",
      "validation micro-F1 @5: 0.18313165974354342\n",
      "train micro-F1 @6: 0.18160565325965677\n",
      "validation micro-F1 @6: 0.17753623188405798\n",
      "train micro-F1 @7: 0.1771782053915862\n",
      "validation micro-F1 @7: 0.16638458534045047\n",
      "train micro-F1 @8: 0.1728928928928929\n",
      "validation micro-F1 @8: 0.16150770988006855\n",
      "train micro-F1 @9: 0.16983957219251336\n",
      "validation micro-F1 @9: 0.15994309521390102\n"
     ]
    },
    {
     "name": "stderr",
     "output_type": "stream",
     "text": [
      "\r",
      "  7%|▋         | 6/84 [19:12<4:05:24, 188.77s/it]"
     ]
    },
    {
     "name": "stdout",
     "output_type": "stream",
     "text": [
      "train micro-F1 @10: 0.16680057849911617\n",
      "validation micro-F1 @10: 0.15986830071337113\n",
      "{'clf__estimator__base_estimator__C': 0.0001, 'clf__estimator__base_estimator__degree': 4, 'clf__estimator__base_estimator__kernel': 'rbf'}\n"
     ]
    },
    {
     "name": "stderr",
     "output_type": "stream",
     "text": [
      "/home/felipe/tf-venv3/lib/python3.5/site-packages/sklearn/calibration.py:435: RuntimeWarning: overflow encountered in exp\n",
      "  E = np.exp(AB[0] * F + AB[1])\n"
     ]
    },
    {
     "name": "stdout",
     "output_type": "stream",
     "text": [
      "train micro-F1 @1: 0.2628292980051774\n",
      "validation micro-F1 @1: 0.2655172413793103\n",
      "train micro-F1 @2: 0.23814671814671814\n",
      "validation micro-F1 @2: 0.22887323943661972\n",
      "train micro-F1 @3: 0.22792937399678972\n",
      "validation micro-F1 @3: 0.2215674720094284\n",
      "train micro-F1 @4: 0.21492000156476157\n",
      "validation micro-F1 @4: 0.20437304774654172\n",
      "train micro-F1 @5: 0.20927385175650645\n",
      "validation micro-F1 @5: 0.199391444424557\n",
      "train micro-F1 @6: 0.20516047828823158\n",
      "validation micro-F1 @6: 0.19146067415730336\n",
      "train micro-F1 @7: 0.19774763592046762\n",
      "validation micro-F1 @7: 0.18458365558133538\n",
      "train micro-F1 @8: 0.19161035924465492\n",
      "validation micro-F1 @8: 0.1818592567491246\n",
      "train micro-F1 @9: 0.18587886069686904\n",
      "validation micro-F1 @9: 0.18010050251256282\n"
     ]
    },
    {
     "name": "stderr",
     "output_type": "stream",
     "text": [
      "\r",
      "  8%|▊         | 7/84 [22:15<3:59:55, 186.95s/it]"
     ]
    },
    {
     "name": "stdout",
     "output_type": "stream",
     "text": [
      "train micro-F1 @10: 0.18123844142592946\n",
      "validation micro-F1 @10: 0.17455997096715659\n",
      "{'clf__estimator__base_estimator__C': 0.0001, 'clf__estimator__base_estimator__degree': 4, 'clf__estimator__base_estimator__kernel': 'linear'}\n",
      "train micro-F1 @1: 0.32136550912301354\n",
      "validation micro-F1 @1: 0.29635901778154106\n",
      "train micro-F1 @2: 0.28991155748763303\n",
      "validation micro-F1 @2: 0.2572542226071893\n",
      "train micro-F1 @3: 0.2631819335194113\n",
      "validation micro-F1 @3: 0.23043095866314864\n",
      "train micro-F1 @4: 0.24694583173261622\n",
      "validation micro-F1 @4: 0.22535832414553472\n",
      "train micro-F1 @5: 0.23754789272030652\n",
      "validation micro-F1 @5: 0.21694434597660403\n",
      "train micro-F1 @6: 0.22921301805763958\n",
      "validation micro-F1 @6: 0.20437304774654172\n",
      "train micro-F1 @7: 0.2205980658674629\n",
      "validation micro-F1 @7: 0.1975940619401075\n",
      "train micro-F1 @8: 0.214396118252431\n",
      "validation micro-F1 @8: 0.19328768660904702\n",
      "train micro-F1 @9: 0.20810499493874132\n",
      "validation micro-F1 @9: 0.1870244293151782\n"
     ]
    },
    {
     "name": "stderr",
     "output_type": "stream",
     "text": [
      "\r",
      " 10%|▉         | 8/84 [24:42<3:41:45, 175.08s/it]"
     ]
    },
    {
     "name": "stdout",
     "output_type": "stream",
     "text": [
      "train micro-F1 @10: 0.20213386285912407\n",
      "validation micro-F1 @10: 0.18313165974354342\n",
      "{'clf__estimator__base_estimator__C': 0.0001, 'clf__estimator__base_estimator__degree': 4, 'clf__estimator__base_estimator__kernel': 'poly'}\n",
      "train micro-F1 @1: 0.22443579766536964\n",
      "validation micro-F1 @1: 0.23353819139596138\n",
      "train micro-F1 @2: 0.20699410609037328\n",
      "validation micro-F1 @2: 0.20517395182872436\n",
      "train micro-F1 @3: 0.1994949494949495\n",
      "validation micro-F1 @3: 0.1971326164874552\n",
      "train micro-F1 @4: 0.1945796241345203\n",
      "validation micro-F1 @4: 0.1873873873873874\n",
      "train micro-F1 @5: 0.18650049279877914\n",
      "validation micro-F1 @5: 0.18247515808491419\n",
      "train micro-F1 @6: 0.18054226475279106\n",
      "validation micro-F1 @6: 0.17615954071612025\n",
      "train micro-F1 @7: 0.1762207098159229\n",
      "validation micro-F1 @7: 0.1651902032308494\n",
      "train micro-F1 @8: 0.17216102543560985\n",
      "validation micro-F1 @8: 0.16024688535832668\n",
      "train micro-F1 @9: 0.16889301064721512\n",
      "validation micro-F1 @9: 0.15882053889171327\n"
     ]
    },
    {
     "name": "stderr",
     "output_type": "stream",
     "text": [
      "\r",
      " 11%|█         | 9/84 [27:07<3:27:19, 165.86s/it]"
     ]
    },
    {
     "name": "stdout",
     "output_type": "stream",
     "text": [
      "train micro-F1 @10: 0.16588691136513448\n",
      "validation micro-F1 @10: 0.15852095917993778\n",
      "{'clf__estimator__base_estimator__C': 0.0001, 'clf__estimator__base_estimator__degree': 5, 'clf__estimator__base_estimator__kernel': 'rbf'}\n"
     ]
    },
    {
     "name": "stderr",
     "output_type": "stream",
     "text": [
      "/home/felipe/tf-venv3/lib/python3.5/site-packages/sklearn/calibration.py:435: RuntimeWarning: overflow encountered in exp\n",
      "  E = np.exp(AB[0] * F + AB[1])\n"
     ]
    },
    {
     "name": "stdout",
     "output_type": "stream",
     "text": [
      "train micro-F1 @1: 0.2628292980051774\n",
      "validation micro-F1 @1: 0.2655172413793103\n",
      "train micro-F1 @2: 0.23814671814671814\n",
      "validation micro-F1 @2: 0.22887323943661972\n",
      "train micro-F1 @3: 0.22792937399678972\n",
      "validation micro-F1 @3: 0.2215674720094284\n",
      "train micro-F1 @4: 0.21492000156476157\n",
      "validation micro-F1 @4: 0.20437304774654172\n",
      "train micro-F1 @5: 0.20927385175650645\n",
      "validation micro-F1 @5: 0.199391444424557\n",
      "train micro-F1 @6: 0.20516047828823158\n",
      "validation micro-F1 @6: 0.19146067415730336\n",
      "train micro-F1 @7: 0.19774763592046762\n",
      "validation micro-F1 @7: 0.18458365558133538\n",
      "train micro-F1 @8: 0.19161035924465492\n",
      "validation micro-F1 @8: 0.1818592567491246\n",
      "train micro-F1 @9: 0.18587886069686904\n",
      "validation micro-F1 @9: 0.18010050251256282\n"
     ]
    },
    {
     "name": "stderr",
     "output_type": "stream",
     "text": [
      "\r",
      " 12%|█▏        | 10/84 [30:10<3:30:49, 170.94s/it]"
     ]
    },
    {
     "name": "stdout",
     "output_type": "stream",
     "text": [
      "train micro-F1 @10: 0.18123844142592946\n",
      "validation micro-F1 @10: 0.17455997096715659\n",
      "{'clf__estimator__base_estimator__C': 0.0001, 'clf__estimator__base_estimator__degree': 5, 'clf__estimator__base_estimator__kernel': 'linear'}\n",
      "train micro-F1 @1: 0.32136550912301354\n",
      "validation micro-F1 @1: 0.29635901778154106\n",
      "train micro-F1 @2: 0.28991155748763303\n",
      "validation micro-F1 @2: 0.2572542226071893\n",
      "train micro-F1 @3: 0.2631819335194113\n",
      "validation micro-F1 @3: 0.23043095866314864\n",
      "train micro-F1 @4: 0.24694583173261622\n",
      "validation micro-F1 @4: 0.22535832414553472\n",
      "train micro-F1 @5: 0.23754789272030652\n",
      "validation micro-F1 @5: 0.21694434597660403\n",
      "train micro-F1 @6: 0.22921301805763958\n",
      "validation micro-F1 @6: 0.20437304774654172\n",
      "train micro-F1 @7: 0.2205980658674629\n",
      "validation micro-F1 @7: 0.1975940619401075\n",
      "train micro-F1 @8: 0.214396118252431\n",
      "validation micro-F1 @8: 0.19328768660904702\n",
      "train micro-F1 @9: 0.20810499493874132\n",
      "validation micro-F1 @9: 0.1870244293151782\n"
     ]
    },
    {
     "name": "stderr",
     "output_type": "stream",
     "text": [
      "\r",
      " 13%|█▎        | 11/84 [32:37<3:19:29, 163.97s/it]"
     ]
    },
    {
     "name": "stdout",
     "output_type": "stream",
     "text": [
      "train micro-F1 @10: 0.20213386285912407\n",
      "validation micro-F1 @10: 0.18313165974354342\n",
      "{'clf__estimator__base_estimator__C': 0.0001, 'clf__estimator__base_estimator__degree': 5, 'clf__estimator__base_estimator__kernel': 'poly'}\n",
      "train micro-F1 @1: 0.2249883304807842\n",
      "validation micro-F1 @1: 0.23353819139596138\n",
      "train micro-F1 @2: 0.2068531908204967\n",
      "validation micro-F1 @2: 0.20837043633125557\n",
      "train micro-F1 @3: 0.19958966805197537\n",
      "validation micro-F1 @3: 0.1971326164874552\n",
      "train micro-F1 @4: 0.1943653054764166\n",
      "validation micro-F1 @4: 0.1873873873873874\n",
      "train micro-F1 @5: 0.1863275039745628\n",
      "validation micro-F1 @5: 0.18247515808491419\n",
      "train micro-F1 @6: 0.18039716085812266\n",
      "validation micro-F1 @6: 0.17615954071612025\n",
      "train micro-F1 @7: 0.17613740179060844\n",
      "validation micro-F1 @7: 0.1651902032308494\n",
      "train micro-F1 @8: 0.17208780644127544\n",
      "validation micro-F1 @8: 0.16024688535832668\n",
      "train micro-F1 @9: 0.16889301064721512\n",
      "validation micro-F1 @9: 0.15882053889171327\n"
     ]
    },
    {
     "name": "stderr",
     "output_type": "stream",
     "text": [
      "\r",
      " 14%|█▍        | 12/84 [35:02<3:09:43, 158.10s/it]"
     ]
    },
    {
     "name": "stdout",
     "output_type": "stream",
     "text": [
      "train micro-F1 @10: 0.1657984436298154\n",
      "validation micro-F1 @10: 0.15852095917993778\n",
      "{'clf__estimator__base_estimator__C': 0.001, 'clf__estimator__base_estimator__degree': 2, 'clf__estimator__base_estimator__kernel': 'rbf'}\n",
      "train micro-F1 @1: 0.33045514415337335\n",
      "validation micro-F1 @1: 0.30210970464135023\n",
      "train micro-F1 @2: 0.2917041030248577\n",
      "validation micro-F1 @2: 0.2685025817555938\n",
      "train micro-F1 @3: 0.26906736799514464\n",
      "validation micro-F1 @3: 0.2438172825138202\n",
      "train micro-F1 @4: 0.25164750957854404\n",
      "validation micro-F1 @4: 0.223791657470757\n",
      "train micro-F1 @5: 0.2396691664352066\n",
      "validation micro-F1 @5: 0.21631205673758866\n",
      "train micro-F1 @6: 0.23131782945736434\n",
      "validation micro-F1 @6: 0.20810449755083865\n",
      "train micro-F1 @7: 0.22352731802811887\n",
      "validation micro-F1 @7: 0.20448750637429883\n",
      "train micro-F1 @8: 0.21711695872160033\n",
      "validation micro-F1 @8: 0.19894819290589683\n",
      "train micro-F1 @9: 0.21250369957694248\n",
      "validation micro-F1 @9: 0.19515598524867936\n"
     ]
    },
    {
     "name": "stderr",
     "output_type": "stream",
     "text": [
      "\r",
      " 15%|█▌        | 13/84 [38:10<3:17:47, 167.15s/it]"
     ]
    },
    {
     "name": "stdout",
     "output_type": "stream",
     "text": [
      "train micro-F1 @10: 0.20699410609037328\n",
      "validation micro-F1 @10: 0.1886928339935182\n",
      "{'clf__estimator__base_estimator__C': 0.001, 'clf__estimator__base_estimator__degree': 2, 'clf__estimator__base_estimator__kernel': 'linear'}\n",
      "train micro-F1 @1: 0.41928779271165306\n",
      "validation micro-F1 @1: 0.33029045643153526\n",
      "train micro-F1 @2: 0.3665521191294387\n",
      "validation micro-F1 @2: 0.30210970464135023\n",
      "train micro-F1 @3: 0.333463186599143\n",
      "validation micro-F1 @3: 0.27147766323024053\n",
      "train micro-F1 @4: 0.30666468754638565\n",
      "validation micro-F1 @4: 0.2477683431308513\n",
      "train micro-F1 @5: 0.2894500089965813\n",
      "validation micro-F1 @5: 0.2341583289450588\n",
      "train micro-F1 @6: 0.27552151567066413\n",
      "validation micro-F1 @6: 0.22444477128989557\n",
      "train micro-F1 @7: 0.26422640525148894\n",
      "validation micro-F1 @7: 0.21653792579460554\n",
      "train micro-F1 @8: 0.2548235969021895\n",
      "validation micro-F1 @8: 0.21095920862509726\n",
      "train micro-F1 @9: 0.24537298128684953\n",
      "validation micro-F1 @9: 0.2046400951814396\n"
     ]
    },
    {
     "name": "stderr",
     "output_type": "stream",
     "text": [
      "\r",
      " 17%|█▋        | 14/84 [41:28<3:25:47, 176.39s/it]"
     ]
    },
    {
     "name": "stdout",
     "output_type": "stream",
     "text": [
      "train micro-F1 @10: 0.23667614690243602\n",
      "validation micro-F1 @10: 0.19971367215461705\n",
      "{'clf__estimator__base_estimator__C': 0.001, 'clf__estimator__base_estimator__degree': 2, 'clf__estimator__base_estimator__kernel': 'poly'}\n",
      "train micro-F1 @1: 0.2793363499245852\n",
      "validation micro-F1 @1: 0.274442538593482\n",
      "train micro-F1 @2: 0.2597818625581573\n",
      "validation micro-F1 @2: 0.24738675958188153\n",
      "train micro-F1 @3: 0.23896264279098486\n",
      "validation micro-F1 @3: 0.2215674720094284\n",
      "train micro-F1 @4: 0.22616132167152575\n",
      "validation micro-F1 @4: 0.20637396924448406\n",
      "train micro-F1 @5: 0.21816818692990128\n",
      "validation micro-F1 @5: 0.20260854028944078\n",
      "train micro-F1 @6: 0.209714121308817\n",
      "validation micro-F1 @6: 0.1982089552238806\n",
      "train micro-F1 @7: 0.20612813370473537\n",
      "validation micro-F1 @7: 0.19134454860665212\n",
      "train micro-F1 @8: 0.19953047012172268\n",
      "validation micro-F1 @8: 0.1861618210502592\n",
      "train micro-F1 @9: 0.19557117750439368\n",
      "validation micro-F1 @9: 0.18393340687995186\n"
     ]
    },
    {
     "name": "stderr",
     "output_type": "stream",
     "text": [
      "\r",
      " 18%|█▊        | 15/84 [43:55<3:12:39, 167.53s/it]"
     ]
    },
    {
     "name": "stdout",
     "output_type": "stream",
     "text": [
      "train micro-F1 @10: 0.19204741755019888\n",
      "validation micro-F1 @10: 0.18017366136034732\n",
      "{'clf__estimator__base_estimator__C': 0.001, 'clf__estimator__base_estimator__degree': 3, 'clf__estimator__base_estimator__kernel': 'rbf'}\n",
      "train micro-F1 @1: 0.33045514415337335\n",
      "validation micro-F1 @1: 0.30210970464135023\n",
      "train micro-F1 @2: 0.2917041030248577\n",
      "validation micro-F1 @2: 0.2685025817555938\n",
      "train micro-F1 @3: 0.26906736799514464\n",
      "validation micro-F1 @3: 0.2438172825138202\n",
      "train micro-F1 @4: 0.25164750957854404\n",
      "validation micro-F1 @4: 0.223791657470757\n",
      "train micro-F1 @5: 0.2396691664352066\n",
      "validation micro-F1 @5: 0.21631205673758866\n",
      "train micro-F1 @6: 0.23131782945736434\n",
      "validation micro-F1 @6: 0.20810449755083865\n",
      "train micro-F1 @7: 0.22352731802811887\n",
      "validation micro-F1 @7: 0.20448750637429883\n",
      "train micro-F1 @8: 0.21711695872160033\n",
      "validation micro-F1 @8: 0.19894819290589683\n",
      "train micro-F1 @9: 0.21250369957694248\n",
      "validation micro-F1 @9: 0.19515598524867936\n"
     ]
    },
    {
     "name": "stderr",
     "output_type": "stream",
     "text": [
      "\r",
      " 19%|█▉        | 16/84 [47:04<3:17:13, 174.03s/it]"
     ]
    },
    {
     "name": "stdout",
     "output_type": "stream",
     "text": [
      "train micro-F1 @10: 0.20699410609037328\n",
      "validation micro-F1 @10: 0.1886928339935182\n",
      "{'clf__estimator__base_estimator__C': 0.001, 'clf__estimator__base_estimator__degree': 3, 'clf__estimator__base_estimator__kernel': 'linear'}\n",
      "train micro-F1 @1: 0.41928779271165306\n",
      "validation micro-F1 @1: 0.33029045643153526\n",
      "train micro-F1 @2: 0.3665521191294387\n",
      "validation micro-F1 @2: 0.30210970464135023\n",
      "train micro-F1 @3: 0.333463186599143\n",
      "validation micro-F1 @3: 0.27147766323024053\n",
      "train micro-F1 @4: 0.30666468754638565\n",
      "validation micro-F1 @4: 0.2477683431308513\n",
      "train micro-F1 @5: 0.2894500089965813\n",
      "validation micro-F1 @5: 0.2341583289450588\n",
      "train micro-F1 @6: 0.27552151567066413\n",
      "validation micro-F1 @6: 0.22444477128989557\n",
      "train micro-F1 @7: 0.26422640525148894\n",
      "validation micro-F1 @7: 0.21653792579460554\n",
      "train micro-F1 @8: 0.2548235969021895\n",
      "validation micro-F1 @8: 0.21095920862509726\n",
      "train micro-F1 @9: 0.24537298128684953\n",
      "validation micro-F1 @9: 0.2046400951814396\n"
     ]
    },
    {
     "name": "stderr",
     "output_type": "stream",
     "text": [
      "\r",
      " 20%|██        | 17/84 [50:22<3:22:29, 181.33s/it]"
     ]
    },
    {
     "name": "stdout",
     "output_type": "stream",
     "text": [
      "train micro-F1 @10: 0.23667614690243602\n",
      "validation micro-F1 @10: 0.19971367215461705\n",
      "{'clf__estimator__base_estimator__C': 0.001, 'clf__estimator__base_estimator__degree': 3, 'clf__estimator__base_estimator__kernel': 'poly'}\n",
      "train micro-F1 @1: 0.2596491228070175\n",
      "validation micro-F1 @1: 0.2655172413793103\n",
      "train micro-F1 @2: 0.2388267078348128\n",
      "validation micro-F1 @2: 0.22418358340688438\n",
      "train micro-F1 @3: 0.22166796570537803\n",
      "validation micro-F1 @3: 0.21261474681670123\n",
      "train micro-F1 @4: 0.21247257912879974\n",
      "validation micro-F1 @4: 0.200760116253074\n",
      "train micro-F1 @5: 0.2046520411696201\n",
      "validation micro-F1 @5: 0.194868114121658\n",
      "train micro-F1 @6: 0.1980729742536724\n",
      "validation micro-F1 @6: 0.18874718679669916\n",
      "train micro-F1 @7: 0.19207606973058636\n",
      "validation micro-F1 @7: 0.18012663134771933\n",
      "train micro-F1 @8: 0.18740814299900696\n",
      "validation micro-F1 @8: 0.1773298607179255\n",
      "train micro-F1 @9: 0.18424263860641968\n",
      "validation micro-F1 @9: 0.17551637279596977\n"
     ]
    },
    {
     "name": "stderr",
     "output_type": "stream",
     "text": [
      "\r",
      " 21%|██▏       | 18/84 [52:48<3:07:43, 170.66s/it]"
     ]
    },
    {
     "name": "stdout",
     "output_type": "stream",
     "text": [
      "train micro-F1 @10: 0.1804261834885798\n",
      "validation micro-F1 @10: 0.17240439640294306\n",
      "{'clf__estimator__base_estimator__C': 0.001, 'clf__estimator__base_estimator__degree': 4, 'clf__estimator__base_estimator__kernel': 'rbf'}\n",
      "train micro-F1 @1: 0.33045514415337335\n",
      "validation micro-F1 @1: 0.30210970464135023\n",
      "train micro-F1 @2: 0.2917041030248577\n",
      "validation micro-F1 @2: 0.2685025817555938\n",
      "train micro-F1 @3: 0.26906736799514464\n",
      "validation micro-F1 @3: 0.2438172825138202\n",
      "train micro-F1 @4: 0.25164750957854404\n",
      "validation micro-F1 @4: 0.223791657470757\n",
      "train micro-F1 @5: 0.2396691664352066\n",
      "validation micro-F1 @5: 0.21631205673758866\n",
      "train micro-F1 @6: 0.23131782945736434\n",
      "validation micro-F1 @6: 0.20810449755083865\n",
      "train micro-F1 @7: 0.22352731802811887\n",
      "validation micro-F1 @7: 0.20448750637429883\n",
      "train micro-F1 @8: 0.21711695872160033\n",
      "validation micro-F1 @8: 0.19894819290589683\n",
      "train micro-F1 @9: 0.21250369957694248\n",
      "validation micro-F1 @9: 0.19515598524867936\n"
     ]
    },
    {
     "name": "stderr",
     "output_type": "stream",
     "text": [
      "\r",
      " 23%|██▎       | 19/84 [55:57<3:10:50, 176.16s/it]"
     ]
    },
    {
     "name": "stdout",
     "output_type": "stream",
     "text": [
      "train micro-F1 @10: 0.20699410609037328\n",
      "validation micro-F1 @10: 0.1886928339935182\n",
      "{'clf__estimator__base_estimator__C': 0.001, 'clf__estimator__base_estimator__degree': 4, 'clf__estimator__base_estimator__kernel': 'linear'}\n",
      "train micro-F1 @1: 0.41928779271165306\n",
      "validation micro-F1 @1: 0.33029045643153526\n",
      "train micro-F1 @2: 0.3665521191294387\n",
      "validation micro-F1 @2: 0.30210970464135023\n",
      "train micro-F1 @3: 0.333463186599143\n",
      "validation micro-F1 @3: 0.27147766323024053\n",
      "train micro-F1 @4: 0.30666468754638565\n",
      "validation micro-F1 @4: 0.2477683431308513\n",
      "train micro-F1 @5: 0.2894500089965813\n",
      "validation micro-F1 @5: 0.2341583289450588\n",
      "train micro-F1 @6: 0.27552151567066413\n",
      "validation micro-F1 @6: 0.22444477128989557\n",
      "train micro-F1 @7: 0.26422640525148894\n",
      "validation micro-F1 @7: 0.21653792579460554\n",
      "train micro-F1 @8: 0.2548235969021895\n",
      "validation micro-F1 @8: 0.21095920862509726\n",
      "train micro-F1 @9: 0.24537298128684953\n",
      "validation micro-F1 @9: 0.2046400951814396\n"
     ]
    },
    {
     "name": "stderr",
     "output_type": "stream",
     "text": [
      "\r",
      " 24%|██▍       | 20/84 [59:16<3:15:17, 183.08s/it]"
     ]
    },
    {
     "name": "stdout",
     "output_type": "stream",
     "text": [
      "train micro-F1 @10: 0.23667614690243602\n",
      "validation micro-F1 @10: 0.19971367215461705\n",
      "{'clf__estimator__base_estimator__C': 0.001, 'clf__estimator__base_estimator__degree': 4, 'clf__estimator__base_estimator__kernel': 'poly'}\n"
     ]
    },
    {
     "name": "stderr",
     "output_type": "stream",
     "text": [
      "/home/felipe/tf-venv3/lib/python3.5/site-packages/sklearn/calibration.py:435: RuntimeWarning: overflow encountered in exp\n",
      "  E = np.exp(AB[0] * F + AB[1])\n"
     ]
    },
    {
     "name": "stdout",
     "output_type": "stream",
     "text": [
      "train micro-F1 @1: 0.23460229031259672\n",
      "validation micro-F1 @1: 0.24125874125874125\n",
      "train micro-F1 @2: 0.21777847211373222\n",
      "validation micro-F1 @2: 0.2099644128113879\n",
      "train micro-F1 @3: 0.2088239912074109\n",
      "validation micro-F1 @3: 0.2062407132243685\n",
      "train micro-F1 @4: 0.20190716368508158\n",
      "validation micro-F1 @4: 0.19551569506726457\n",
      "train micro-F1 @5: 0.19442246209363426\n",
      "validation micro-F1 @5: 0.18706073166336276\n",
      "train micro-F1 @6: 0.1880559085133418\n",
      "validation micro-F1 @6: 0.18083182640144665\n",
      "train micro-F1 @7: 0.18554452296016904\n",
      "validation micro-F1 @7: 0.1784790481117434\n",
      "train micro-F1 @8: 0.18119494599226751\n",
      "validation micro-F1 @8: 0.17505668934240362\n",
      "train micro-F1 @9: 0.17689152476161726\n",
      "validation micro-F1 @9: 0.1722014737054608\n"
     ]
    },
    {
     "name": "stderr",
     "output_type": "stream",
     "text": [
      "\r",
      " 25%|██▌       | 21/84 [1:01:42<3:00:34, 171.97s/it]"
     ]
    },
    {
     "name": "stdout",
     "output_type": "stream",
     "text": [
      "train micro-F1 @10: 0.17188276204669647\n",
      "validation micro-F1 @10: 0.16523800838956776\n",
      "{'clf__estimator__base_estimator__C': 0.001, 'clf__estimator__base_estimator__degree': 5, 'clf__estimator__base_estimator__kernel': 'rbf'}\n",
      "train micro-F1 @1: 0.33045514415337335\n",
      "validation micro-F1 @1: 0.30210970464135023\n",
      "train micro-F1 @2: 0.2917041030248577\n",
      "validation micro-F1 @2: 0.2685025817555938\n",
      "train micro-F1 @3: 0.26906736799514464\n",
      "validation micro-F1 @3: 0.2438172825138202\n",
      "train micro-F1 @4: 0.25164750957854404\n",
      "validation micro-F1 @4: 0.223791657470757\n",
      "train micro-F1 @5: 0.2396691664352066\n",
      "validation micro-F1 @5: 0.21631205673758866\n",
      "train micro-F1 @6: 0.23131782945736434\n",
      "validation micro-F1 @6: 0.20810449755083865\n",
      "train micro-F1 @7: 0.22352731802811887\n",
      "validation micro-F1 @7: 0.20448750637429883\n",
      "train micro-F1 @8: 0.21711695872160033\n",
      "validation micro-F1 @8: 0.19894819290589683\n",
      "train micro-F1 @9: 0.21250369957694248\n",
      "validation micro-F1 @9: 0.19515598524867936\n"
     ]
    },
    {
     "name": "stderr",
     "output_type": "stream",
     "text": [
      "\r",
      " 26%|██▌       | 22/84 [1:04:51<3:02:49, 176.93s/it]"
     ]
    },
    {
     "name": "stdout",
     "output_type": "stream",
     "text": [
      "train micro-F1 @10: 0.20699410609037328\n",
      "validation micro-F1 @10: 0.1886928339935182\n",
      "{'clf__estimator__base_estimator__C': 0.001, 'clf__estimator__base_estimator__degree': 5, 'clf__estimator__base_estimator__kernel': 'linear'}\n",
      "train micro-F1 @1: 0.41928779271165306\n",
      "validation micro-F1 @1: 0.33029045643153526\n",
      "train micro-F1 @2: 0.3665521191294387\n",
      "validation micro-F1 @2: 0.30210970464135023\n",
      "train micro-F1 @3: 0.333463186599143\n",
      "validation micro-F1 @3: 0.27147766323024053\n",
      "train micro-F1 @4: 0.30666468754638565\n",
      "validation micro-F1 @4: 0.2477683431308513\n",
      "train micro-F1 @5: 0.2894500089965813\n",
      "validation micro-F1 @5: 0.2341583289450588\n",
      "train micro-F1 @6: 0.27552151567066413\n",
      "validation micro-F1 @6: 0.22444477128989557\n",
      "train micro-F1 @7: 0.26422640525148894\n",
      "validation micro-F1 @7: 0.21653792579460554\n",
      "train micro-F1 @8: 0.2548235969021895\n",
      "validation micro-F1 @8: 0.21095920862509726\n",
      "train micro-F1 @9: 0.24537298128684953\n",
      "validation micro-F1 @9: 0.2046400951814396\n"
     ]
    },
    {
     "name": "stderr",
     "output_type": "stream",
     "text": [
      "\r",
      " 27%|██▋       | 23/84 [1:08:09<3:06:17, 183.24s/it]"
     ]
    },
    {
     "name": "stdout",
     "output_type": "stream",
     "text": [
      "train micro-F1 @10: 0.23667614690243602\n",
      "validation micro-F1 @10: 0.19971367215461705\n",
      "{'clf__estimator__base_estimator__C': 0.001, 'clf__estimator__base_estimator__degree': 5, 'clf__estimator__base_estimator__kernel': 'poly'}\n"
     ]
    },
    {
     "name": "stderr",
     "output_type": "stream",
     "text": [
      "/home/felipe/tf-venv3/lib/python3.5/site-packages/sklearn/calibration.py:435: RuntimeWarning: overflow encountered in exp\n",
      "  E = np.exp(AB[0] * F + AB[1])\n",
      "/home/felipe/tf-venv3/lib/python3.5/site-packages/sklearn/calibration.py:510: RuntimeWarning: overflow encountered in exp\n",
      "  return 1. / (1. + np.exp(self.a_ * T + self.b_))\n"
     ]
    },
    {
     "name": "stdout",
     "output_type": "stream",
     "text": [
      "train micro-F1 @1: 0.23049480378470608\n",
      "validation micro-F1 @1: 0.2381786339754816\n",
      "train micro-F1 @2: 0.21805685723211496\n",
      "validation micro-F1 @2: 0.21155555555555555\n",
      "train micro-F1 @3: 0.2048780487804878\n",
      "validation micro-F1 @3: 0.2003577817531306\n",
      "train micro-F1 @4: 0.1972187104930468\n",
      "validation micro-F1 @4: 0.19024061164830222\n",
      "train micro-F1 @5: 0.18868883172970055\n",
      "validation micro-F1 @5: 0.18411552346570398\n",
      "train micro-F1 @6: 0.18199203187250995\n",
      "validation micro-F1 @6: 0.17007730786721237\n",
      "train micro-F1 @7: 0.17788527358189202\n",
      "validation micro-F1 @7: 0.167815792897099\n",
      "train micro-F1 @8: 0.17406266255852107\n",
      "validation micro-F1 @8: 0.1646522234891676\n",
      "train micro-F1 @9: 0.17049180327868851\n",
      "validation micro-F1 @9: 0.16031697653154525\n"
     ]
    },
    {
     "name": "stderr",
     "output_type": "stream",
     "text": [
      "\r",
      " 29%|██▊       | 24/84 [1:10:34<2:51:55, 171.92s/it]"
     ]
    },
    {
     "name": "stdout",
     "output_type": "stream",
     "text": [
      "train micro-F1 @10: 0.16780161891301554\n",
      "validation micro-F1 @10: 0.15986830071337113\n",
      "{'clf__estimator__base_estimator__C': 0.01, 'clf__estimator__base_estimator__degree': 2, 'clf__estimator__base_estimator__kernel': 'rbf'}\n",
      "train micro-F1 @1: 0.32874304131262816\n",
      "validation micro-F1 @1: 0.29346904156064463\n",
      "train micro-F1 @2: 0.29336524796170244\n",
      "validation micro-F1 @2: 0.25498699045967044\n",
      "train micro-F1 @3: 0.2713405394484291\n",
      "validation micro-F1 @3: 0.22887323943661972\n",
      "train micro-F1 @4: 0.25539073252790945\n",
      "validation micro-F1 @4: 0.21868083222664897\n",
      "train micro-F1 @5: 0.2440045562294123\n",
      "validation micro-F1 @5: 0.20837043633125557\n",
      "train micro-F1 @6: 0.23364558333978477\n",
      "validation micro-F1 @6: 0.20330406310462867\n",
      "train micro-F1 @7: 0.2251855802995955\n",
      "validation micro-F1 @7: 0.19597796848981683\n",
      "train micro-F1 @8: 0.21955168848397355\n",
      "validation micro-F1 @8: 0.1936931881943665\n",
      "train micro-F1 @9: 0.21309478227574924\n",
      "validation micro-F1 @9: 0.18847539015606243\n"
     ]
    },
    {
     "name": "stderr",
     "output_type": "stream",
     "text": [
      "\r",
      " 30%|██▉       | 25/84 [1:13:48<2:55:26, 178.42s/it]"
     ]
    },
    {
     "name": "stdout",
     "output_type": "stream",
     "text": [
      "train micro-F1 @10: 0.20795174288003268\n",
      "validation micro-F1 @10: 0.18378768730817838\n",
      "{'clf__estimator__base_estimator__C': 0.01, 'clf__estimator__base_estimator__degree': 2, 'clf__estimator__base_estimator__kernel': 'linear'}\n",
      "train micro-F1 @1: 0.48176736758051636\n",
      "validation micro-F1 @1: 0.3575510204081633\n",
      "train micro-F1 @2: 0.4247445457056062\n",
      "validation micro-F1 @2: 0.3149078726968174\n",
      "train micro-F1 @3: 0.3809253477150156\n",
      "validation micro-F1 @3: 0.28425241614553726\n",
      "train micro-F1 @4: 0.35049161364950837\n",
      "validation micro-F1 @4: 0.2583856308158407\n",
      "train micro-F1 @5: 0.3279591956381544\n",
      "validation micro-F1 @5: 0.24585876198779424\n",
      "train micro-F1 @6: 0.3114268798105388\n",
      "validation micro-F1 @6: 0.2356036246711488\n",
      "train micro-F1 @7: 0.2973860389748838\n",
      "validation micro-F1 @7: 0.2295411690760528\n",
      "train micro-F1 @8: 0.2848336778800977\n",
      "validation micro-F1 @8: 0.22202584778526455\n",
      "train micro-F1 @9: 0.27366580354440595\n",
      "validation micro-F1 @9: 0.21490536277602523\n"
     ]
    },
    {
     "name": "stderr",
     "output_type": "stream",
     "text": [
      "\r",
      " 31%|███       | 26/84 [1:19:23<3:37:46, 225.28s/it]"
     ]
    },
    {
     "name": "stdout",
     "output_type": "stream",
     "text": [
      "train micro-F1 @10: 0.2648637960667407\n",
      "validation micro-F1 @10: 0.21012365447913886\n",
      "{'clf__estimator__base_estimator__C': 0.01, 'clf__estimator__base_estimator__degree': 2, 'clf__estimator__base_estimator__kernel': 'poly'}\n",
      "train micro-F1 @1: 0.3216124760923937\n",
      "validation micro-F1 @1: 0.3149078726968174\n",
      "train micro-F1 @2: 0.2861864343123263\n",
      "validation micro-F1 @2: 0.28107646304997863\n",
      "train micro-F1 @3: 0.25876367336555584\n",
      "validation micro-F1 @3: 0.24585876198779424\n",
      "train micro-F1 @4: 0.24221879815100153\n",
      "validation micro-F1 @4: 0.22418358340688438\n",
      "train micro-F1 @5: 0.2317016461543231\n",
      "validation micro-F1 @5: 0.21409550860997692\n",
      "train micro-F1 @6: 0.2215293475719074\n",
      "validation micro-F1 @6: 0.20943340255117177\n",
      "train micro-F1 @7: 0.21411159566141116\n",
      "validation micro-F1 @7: 0.20334226304375558\n",
      "train micro-F1 @8: 0.20731108448407942\n",
      "validation micro-F1 @8: 0.19409850779759902\n",
      "train micro-F1 @9: 0.2020488573680063\n",
      "validation micro-F1 @9: 0.1915509837211625\n"
     ]
    },
    {
     "name": "stderr",
     "output_type": "stream",
     "text": [
      "\r",
      " 32%|███▏      | 27/84 [1:21:54<3:12:51, 203.02s/it]"
     ]
    },
    {
     "name": "stdout",
     "output_type": "stream",
     "text": [
      "train micro-F1 @10: 0.1976174676904604\n",
      "validation micro-F1 @10: 0.1873873873873874\n",
      "{'clf__estimator__base_estimator__C': 0.01, 'clf__estimator__base_estimator__degree': 3, 'clf__estimator__base_estimator__kernel': 'rbf'}\n",
      "train micro-F1 @1: 0.32874304131262816\n",
      "validation micro-F1 @1: 0.29346904156064463\n",
      "train micro-F1 @2: 0.29336524796170244\n",
      "validation micro-F1 @2: 0.25498699045967044\n",
      "train micro-F1 @3: 0.2713405394484291\n",
      "validation micro-F1 @3: 0.22887323943661972\n",
      "train micro-F1 @4: 0.25539073252790945\n",
      "validation micro-F1 @4: 0.21868083222664897\n",
      "train micro-F1 @5: 0.2440045562294123\n",
      "validation micro-F1 @5: 0.20837043633125557\n",
      "train micro-F1 @6: 0.23364558333978477\n",
      "validation micro-F1 @6: 0.20330406310462867\n",
      "train micro-F1 @7: 0.2251855802995955\n",
      "validation micro-F1 @7: 0.19597796848981683\n",
      "train micro-F1 @8: 0.21955168848397355\n",
      "validation micro-F1 @8: 0.1936931881943665\n",
      "train micro-F1 @9: 0.21309478227574924\n",
      "validation micro-F1 @9: 0.18847539015606243\n"
     ]
    },
    {
     "name": "stderr",
     "output_type": "stream",
     "text": [
      "\r",
      " 33%|███▎      | 28/84 [1:25:08<3:06:57, 200.31s/it]"
     ]
    },
    {
     "name": "stdout",
     "output_type": "stream",
     "text": [
      "train micro-F1 @10: 0.20795174288003268\n",
      "validation micro-F1 @10: 0.18378768730817838\n",
      "{'clf__estimator__base_estimator__C': 0.01, 'clf__estimator__base_estimator__degree': 3, 'clf__estimator__base_estimator__kernel': 'linear'}\n",
      "train micro-F1 @1: 0.48176736758051636\n",
      "validation micro-F1 @1: 0.3575510204081633\n",
      "train micro-F1 @2: 0.4247445457056062\n",
      "validation micro-F1 @2: 0.3149078726968174\n",
      "train micro-F1 @3: 0.3809253477150156\n",
      "validation micro-F1 @3: 0.28425241614553726\n",
      "train micro-F1 @4: 0.35049161364950837\n",
      "validation micro-F1 @4: 0.2583856308158407\n",
      "train micro-F1 @5: 0.3279591956381544\n",
      "validation micro-F1 @5: 0.24585876198779424\n",
      "train micro-F1 @6: 0.3114268798105388\n",
      "validation micro-F1 @6: 0.2356036246711488\n",
      "train micro-F1 @7: 0.2973860389748838\n",
      "validation micro-F1 @7: 0.2295411690760528\n",
      "train micro-F1 @8: 0.2848336778800977\n",
      "validation micro-F1 @8: 0.22202584778526455\n",
      "train micro-F1 @9: 0.27366580354440595\n",
      "validation micro-F1 @9: 0.21490536277602523\n"
     ]
    },
    {
     "name": "stderr",
     "output_type": "stream",
     "text": [
      "\r",
      " 35%|███▍      | 29/84 [1:30:43<3:40:45, 240.83s/it]"
     ]
    },
    {
     "name": "stdout",
     "output_type": "stream",
     "text": [
      "train micro-F1 @10: 0.2648637960667407\n",
      "validation micro-F1 @10: 0.21012365447913886\n",
      "{'clf__estimator__base_estimator__C': 0.01, 'clf__estimator__base_estimator__degree': 3, 'clf__estimator__base_estimator__kernel': 'poly'}\n",
      "train micro-F1 @1: 0.27465214761040535\n",
      "validation micro-F1 @1: 0.2564991334488735\n",
      "train micro-F1 @2: 0.24950130428111095\n",
      "validation micro-F1 @2: 0.23043095866314864\n",
      "train micro-F1 @3: 0.23049480378470608\n",
      "validation micro-F1 @3: 0.219994102034798\n",
      "train micro-F1 @4: 0.22069718474615924\n",
      "validation micro-F1 @4: 0.20116227089852481\n",
      "train micro-F1 @5: 0.2146546057779586\n",
      "validation micro-F1 @5: 0.20325058046079658\n",
      "train micro-F1 @6: 0.20844893472229492\n",
      "validation micro-F1 @6: 0.20008945877441478\n",
      "train micro-F1 @7: 0.20249403502453517\n",
      "validation micro-F1 @7: 0.1957468613886754\n",
      "train micro-F1 @8: 0.19821527284213852\n",
      "validation micro-F1 @8: 0.19024061164830222\n",
      "train micro-F1 @9: 0.19366643209007742\n",
      "validation micro-F1 @9: 0.18484362469927826\n"
     ]
    },
    {
     "name": "stderr",
     "output_type": "stream",
     "text": [
      "\r",
      " 36%|███▌      | 30/84 [1:33:14<3:12:27, 213.84s/it]"
     ]
    },
    {
     "name": "stdout",
     "output_type": "stream",
     "text": [
      "train micro-F1 @10: 0.1898959126681899\n",
      "validation micro-F1 @10: 0.18132513784687698\n",
      "{'clf__estimator__base_estimator__C': 0.01, 'clf__estimator__base_estimator__degree': 4, 'clf__estimator__base_estimator__kernel': 'rbf'}\n",
      "train micro-F1 @1: 0.32874304131262816\n",
      "validation micro-F1 @1: 0.29346904156064463\n",
      "train micro-F1 @2: 0.29336524796170244\n",
      "validation micro-F1 @2: 0.25498699045967044\n",
      "train micro-F1 @3: 0.2713405394484291\n",
      "validation micro-F1 @3: 0.22887323943661972\n",
      "train micro-F1 @4: 0.25539073252790945\n",
      "validation micro-F1 @4: 0.21868083222664897\n",
      "train micro-F1 @5: 0.2440045562294123\n",
      "validation micro-F1 @5: 0.20837043633125557\n",
      "train micro-F1 @6: 0.23364558333978477\n",
      "validation micro-F1 @6: 0.20330406310462867\n",
      "train micro-F1 @7: 0.2251855802995955\n",
      "validation micro-F1 @7: 0.19597796848981683\n",
      "train micro-F1 @8: 0.21955168848397355\n",
      "validation micro-F1 @8: 0.1936931881943665\n",
      "train micro-F1 @9: 0.21309478227574924\n",
      "validation micro-F1 @9: 0.18847539015606243\n"
     ]
    },
    {
     "name": "stderr",
     "output_type": "stream",
     "text": [
      "\r",
      " 37%|███▋      | 31/84 [1:36:28<3:03:33, 207.81s/it]"
     ]
    },
    {
     "name": "stdout",
     "output_type": "stream",
     "text": [
      "train micro-F1 @10: 0.20795174288003268\n",
      "validation micro-F1 @10: 0.18378768730817838\n",
      "{'clf__estimator__base_estimator__C': 0.01, 'clf__estimator__base_estimator__degree': 4, 'clf__estimator__base_estimator__kernel': 'linear'}\n",
      "train micro-F1 @1: 0.48176736758051636\n",
      "validation micro-F1 @1: 0.3575510204081633\n",
      "train micro-F1 @2: 0.4247445457056062\n",
      "validation micro-F1 @2: 0.3149078726968174\n",
      "train micro-F1 @3: 0.3809253477150156\n",
      "validation micro-F1 @3: 0.28425241614553726\n",
      "train micro-F1 @4: 0.35049161364950837\n",
      "validation micro-F1 @4: 0.2583856308158407\n",
      "train micro-F1 @5: 0.3279591956381544\n",
      "validation micro-F1 @5: 0.24585876198779424\n",
      "train micro-F1 @6: 0.3114268798105388\n",
      "validation micro-F1 @6: 0.2356036246711488\n",
      "train micro-F1 @7: 0.2973860389748838\n",
      "validation micro-F1 @7: 0.2295411690760528\n",
      "train micro-F1 @8: 0.2848336778800977\n",
      "validation micro-F1 @8: 0.22202584778526455\n",
      "train micro-F1 @9: 0.27366580354440595\n",
      "validation micro-F1 @9: 0.21490536277602523\n"
     ]
    },
    {
     "name": "stderr",
     "output_type": "stream",
     "text": [
      "\r",
      " 38%|███▊      | 32/84 [1:42:02<3:33:04, 245.86s/it]"
     ]
    },
    {
     "name": "stdout",
     "output_type": "stream",
     "text": [
      "train micro-F1 @10: 0.2648637960667407\n",
      "validation micro-F1 @10: 0.21012365447913886\n",
      "{'clf__estimator__base_estimator__C': 0.01, 'clf__estimator__base_estimator__degree': 4, 'clf__estimator__base_estimator__kernel': 'poly'}\n"
     ]
    },
    {
     "name": "stderr",
     "output_type": "stream",
     "text": [
      "/home/felipe/tf-venv3/lib/python3.5/site-packages/sklearn/calibration.py:435: RuntimeWarning: overflow encountered in exp\n",
      "  E = np.exp(AB[0] * F + AB[1])\n",
      "/home/felipe/tf-venv3/lib/python3.5/site-packages/sklearn/calibration.py:445: RuntimeWarning: overflow encountered in exp\n",
      "  E = np.exp(AB[0] * F + AB[1])\n",
      "/home/felipe/tf-venv3/lib/python3.5/site-packages/sklearn/calibration.py:447: RuntimeWarning: invalid value encountered in multiply\n",
      "  TEP_minus_T1P = P * (T * E - T1)\n",
      "/home/felipe/tf-venv3/lib/python3.5/site-packages/sklearn/calibration.py:435: RuntimeWarning: overflow encountered in exp\n",
      "  E = np.exp(AB[0] * F + AB[1])\n"
     ]
    },
    {
     "name": "stdout",
     "output_type": "stream",
     "text": [
      "train micro-F1 @1: 0.27308507417499245\n",
      "validation micro-F1 @1: 0.2729613733905579\n",
      "train micro-F1 @2: 0.2447880606200477\n",
      "validation micro-F1 @2: 0.24585876198779424\n",
      "train micro-F1 @3: 0.22664386755790455\n",
      "validation micro-F1 @3: 0.21894364119209206\n",
      "train micro-F1 @4: 0.2178480765475493\n",
      "validation micro-F1 @4: 0.2091677792612372\n",
      "train micro-F1 @5: 0.21022905553812363\n",
      "validation micro-F1 @5: 0.20260854028944078\n",
      "train micro-F1 @6: 0.20346456692913387\n",
      "validation micro-F1 @6: 0.19497607655502391\n",
      "train micro-F1 @7: 0.19624141669678352\n",
      "validation micro-F1 @7: 0.1920410783055199\n",
      "train micro-F1 @8: 0.19161035924465492\n",
      "validation micro-F1 @8: 0.18718324135600856\n",
      "train micro-F1 @9: 0.18741614292775935\n",
      "validation micro-F1 @9: 0.18119726797910807\n"
     ]
    },
    {
     "name": "stderr",
     "output_type": "stream",
     "text": [
      "\r",
      " 39%|███▉      | 33/84 [1:44:33<3:04:44, 217.35s/it]"
     ]
    },
    {
     "name": "stdout",
     "output_type": "stream",
     "text": [
      "train micro-F1 @10: 0.18286078368907296\n",
      "validation micro-F1 @10: 0.1753876847737372\n",
      "{'clf__estimator__base_estimator__C': 0.01, 'clf__estimator__base_estimator__degree': 5, 'clf__estimator__base_estimator__kernel': 'rbf'}\n",
      "train micro-F1 @1: 0.32874304131262816\n",
      "validation micro-F1 @1: 0.29346904156064463\n",
      "train micro-F1 @2: 0.29336524796170244\n",
      "validation micro-F1 @2: 0.25498699045967044\n",
      "train micro-F1 @3: 0.2713405394484291\n",
      "validation micro-F1 @3: 0.22887323943661972\n",
      "train micro-F1 @4: 0.25539073252790945\n",
      "validation micro-F1 @4: 0.21868083222664897\n",
      "train micro-F1 @5: 0.2440045562294123\n",
      "validation micro-F1 @5: 0.20837043633125557\n",
      "train micro-F1 @6: 0.23364558333978477\n",
      "validation micro-F1 @6: 0.20330406310462867\n",
      "train micro-F1 @7: 0.2251855802995955\n",
      "validation micro-F1 @7: 0.19597796848981683\n",
      "train micro-F1 @8: 0.21955168848397355\n",
      "validation micro-F1 @8: 0.1936931881943665\n",
      "train micro-F1 @9: 0.21309478227574924\n",
      "validation micro-F1 @9: 0.18847539015606243\n"
     ]
    },
    {
     "name": "stderr",
     "output_type": "stream",
     "text": [
      "\r",
      " 40%|████      | 34/84 [1:47:47<2:55:16, 210.33s/it]"
     ]
    },
    {
     "name": "stdout",
     "output_type": "stream",
     "text": [
      "train micro-F1 @10: 0.20795174288003268\n",
      "validation micro-F1 @10: 0.18378768730817838\n",
      "{'clf__estimator__base_estimator__C': 0.01, 'clf__estimator__base_estimator__degree': 5, 'clf__estimator__base_estimator__kernel': 'linear'}\n",
      "train micro-F1 @1: 0.48176736758051636\n",
      "validation micro-F1 @1: 0.3575510204081633\n",
      "train micro-F1 @2: 0.4247445457056062\n",
      "validation micro-F1 @2: 0.3149078726968174\n",
      "train micro-F1 @3: 0.3809253477150156\n",
      "validation micro-F1 @3: 0.28425241614553726\n",
      "train micro-F1 @4: 0.35049161364950837\n",
      "validation micro-F1 @4: 0.2583856308158407\n",
      "train micro-F1 @5: 0.3279591956381544\n",
      "validation micro-F1 @5: 0.24585876198779424\n",
      "train micro-F1 @6: 0.3114268798105388\n",
      "validation micro-F1 @6: 0.2356036246711488\n",
      "train micro-F1 @7: 0.2973860389748838\n",
      "validation micro-F1 @7: 0.2295411690760528\n",
      "train micro-F1 @8: 0.2848336778800977\n",
      "validation micro-F1 @8: 0.22202584778526455\n",
      "train micro-F1 @9: 0.27366580354440595\n",
      "validation micro-F1 @9: 0.21490536277602523\n"
     ]
    },
    {
     "name": "stderr",
     "output_type": "stream",
     "text": [
      "\r",
      " 42%|████▏     | 35/84 [1:53:21<3:22:07, 247.50s/it]"
     ]
    },
    {
     "name": "stdout",
     "output_type": "stream",
     "text": [
      "train micro-F1 @10: 0.2648637960667407\n",
      "validation micro-F1 @10: 0.21012365447913886\n",
      "{'clf__estimator__base_estimator__C': 0.01, 'clf__estimator__base_estimator__degree': 5, 'clf__estimator__base_estimator__kernel': 'poly'}\n"
     ]
    },
    {
     "name": "stderr",
     "output_type": "stream",
     "text": [
      "/home/felipe/tf-venv3/lib/python3.5/site-packages/sklearn/calibration.py:435: RuntimeWarning: overflow encountered in exp\n",
      "  E = np.exp(AB[0] * F + AB[1])\n",
      "/home/felipe/tf-venv3/lib/python3.5/site-packages/sklearn/calibration.py:435: RuntimeWarning: overflow encountered in exp\n",
      "  E = np.exp(AB[0] * F + AB[1])\n",
      "/home/felipe/tf-venv3/lib/python3.5/site-packages/sklearn/calibration.py:445: RuntimeWarning: overflow encountered in exp\n",
      "  E = np.exp(AB[0] * F + AB[1])\n",
      "/home/felipe/tf-venv3/lib/python3.5/site-packages/sklearn/calibration.py:447: RuntimeWarning: invalid value encountered in multiply\n",
      "  TEP_minus_T1P = P * (T * E - T1)\n",
      "/home/felipe/tf-venv3/lib/python3.5/site-packages/sklearn/calibration.py:435: RuntimeWarning: overflow encountered in exp\n",
      "  E = np.exp(AB[0] * F + AB[1])\n"
     ]
    },
    {
     "name": "stdout",
     "output_type": "stream",
     "text": [
      "train micro-F1 @1: 0.23977781206603918\n",
      "validation micro-F1 @1: 0.24891209747606616\n",
      "train micro-F1 @2: 0.22774584433742426\n",
      "validation micro-F1 @2: 0.23276240667545015\n",
      "train micro-F1 @3: 0.21554825590489599\n",
      "validation micro-F1 @3: 0.21894364119209206\n",
      "train micro-F1 @4: 0.20699410609037328\n",
      "validation micro-F1 @4: 0.200760116253074\n",
      "train micro-F1 @5: 0.19994950770007575\n",
      "validation micro-F1 @5: 0.19097284661032188\n",
      "train micro-F1 @6: 0.19317371908243802\n",
      "validation micro-F1 @6: 0.18247515808491419\n",
      "train micro-F1 @7: 0.18895994919943757\n",
      "validation micro-F1 @7: 0.1794208893485005\n",
      "train micro-F1 @8: 0.18369255875972695\n",
      "validation micro-F1 @8: 0.17588395285584768\n",
      "train micro-F1 @9: 0.17886409592394195\n",
      "validation micro-F1 @9: 0.17146319297182672\n"
     ]
    },
    {
     "name": "stderr",
     "output_type": "stream",
     "text": [
      "\r",
      " 43%|████▎     | 36/84 [1:55:50<2:54:14, 217.80s/it]"
     ]
    },
    {
     "name": "stdout",
     "output_type": "stream",
     "text": [
      "train micro-F1 @10: 0.17489521005983424\n",
      "validation micro-F1 @10: 0.1659070191431176\n",
      "{'clf__estimator__base_estimator__C': 0.10000000000000001, 'clf__estimator__base_estimator__degree': 2, 'clf__estimator__base_estimator__kernel': 'rbf'}\n",
      "train micro-F1 @1: 0.4699570815450644\n",
      "validation micro-F1 @1: 0.3440329218106996\n",
      "train micro-F1 @2: 0.41114206128133707\n",
      "validation micro-F1 @2: 0.2985200845665962\n",
      "train micro-F1 @3: 0.3712939608813592\n",
      "validation micro-F1 @3: 0.26501868352974994\n",
      "train micro-F1 @4: 0.3397489539748954\n",
      "validation micro-F1 @4: 0.24891209747606616\n",
      "train micro-F1 @5: 0.3163611676849966\n",
      "validation micro-F1 @5: 0.23074217376011255\n",
      "train micro-F1 @6: 0.299217294073798\n",
      "validation micro-F1 @6: 0.22339955849889626\n",
      "train micro-F1 @7: 0.28513754375416067\n",
      "validation micro-F1 @7: 0.21223660827621224\n",
      "train micro-F1 @8: 0.27308507417499245\n",
      "validation micro-F1 @8: 0.20437304774654172\n",
      "train micro-F1 @9: 0.26182938597233746\n",
      "validation micro-F1 @9: 0.1973120955699353\n"
     ]
    },
    {
     "name": "stderr",
     "output_type": "stream",
     "text": [
      "\r",
      " 44%|████▍     | 37/84 [2:00:33<3:06:03, 237.53s/it]"
     ]
    },
    {
     "name": "stdout",
     "output_type": "stream",
     "text": [
      "train micro-F1 @10: 0.25336068836696574\n",
      "validation micro-F1 @10: 0.19438212330611146\n",
      "{'clf__estimator__base_estimator__C': 0.10000000000000001, 'clf__estimator__base_estimator__degree': 2, 'clf__estimator__base_estimator__kernel': 'linear'}\n",
      "train micro-F1 @1: 0.49040624586476117\n",
      "validation micro-F1 @1: 0.36688311688311687\n",
      "train micro-F1 @2: 0.4262656918195613\n",
      "validation micro-F1 @2: 0.3099538009239815\n",
      "train micro-F1 @3: 0.3840596817602342\n",
      "validation micro-F1 @3: 0.2754285714285714\n",
      "train micro-F1 @4: 0.35388333754193574\n",
      "validation micro-F1 @4: 0.2534722222222222\n",
      "train micro-F1 @5: 0.3313342889740514\n",
      "validation micro-F1 @5: 0.24371508379888268\n",
      "train micro-F1 @6: 0.3139640860162081\n",
      "validation micro-F1 @6: 0.22991202346041056\n",
      "train micro-F1 @7: 0.2991991821434657\n",
      "validation micro-F1 @7: 0.2248550541971263\n",
      "train micro-F1 @8: 0.28817946505608283\n",
      "validation micro-F1 @8: 0.21887794622109108\n",
      "train micro-F1 @9: 0.27682392628769953\n",
      "validation micro-F1 @9: 0.21261474681670123\n"
     ]
    },
    {
     "name": "stderr",
     "output_type": "stream",
     "text": [
      "\r",
      " 45%|████▌     | 38/84 [2:07:21<3:41:14, 288.58s/it]"
     ]
    },
    {
     "name": "stdout",
     "output_type": "stream",
     "text": [
      "train micro-F1 @10: 0.2679197728618496\n",
      "validation micro-F1 @10: 0.20789168967667232\n",
      "{'clf__estimator__base_estimator__C': 0.10000000000000001, 'clf__estimator__base_estimator__degree': 2, 'clf__estimator__base_estimator__kernel': 'poly'}\n",
      "train micro-F1 @1: 0.3907462265481732\n",
      "validation micro-F1 @1: 0.3289036544850498\n",
      "train micro-F1 @2: 0.3402924274387139\n",
      "validation micro-F1 @2: 0.28181041844577287\n",
      "train micro-F1 @3: 0.3048194561394819\n",
      "validation micro-F1 @3: 0.2534722222222222\n",
      "train micro-F1 @4: 0.28347878423111644\n",
      "validation micro-F1 @4: 0.23740692071835304\n",
      "train micro-F1 @5: 0.270886382927125\n",
      "validation micro-F1 @5: 0.22104332449160036\n",
      "train micro-F1 @6: 0.25747817010768564\n",
      "validation micro-F1 @6: 0.2149933461481591\n",
      "train micro-F1 @7: 0.24784974548007724\n",
      "validation micro-F1 @7: 0.21269035532994923\n",
      "train micro-F1 @8: 0.23892866101923857\n",
      "validation micro-F1 @8: 0.20717308977500556\n",
      "train micro-F1 @9: 0.23165291675995936\n",
      "validation micro-F1 @9: 0.20517395182872436\n"
     ]
    },
    {
     "name": "stderr",
     "output_type": "stream",
     "text": [
      "\r",
      " 46%|████▋     | 39/84 [2:10:29<3:13:49, 258.43s/it]"
     ]
    },
    {
     "name": "stdout",
     "output_type": "stream",
     "text": [
      "train micro-F1 @10: 0.2253472924412364\n",
      "validation micro-F1 @10: 0.19697105475401022\n",
      "{'clf__estimator__base_estimator__C': 0.10000000000000001, 'clf__estimator__base_estimator__degree': 3, 'clf__estimator__base_estimator__kernel': 'rbf'}\n",
      "train micro-F1 @1: 0.4699570815450644\n",
      "validation micro-F1 @1: 0.3440329218106996\n",
      "train micro-F1 @2: 0.41114206128133707\n",
      "validation micro-F1 @2: 0.2985200845665962\n",
      "train micro-F1 @3: 0.3712939608813592\n",
      "validation micro-F1 @3: 0.26501868352974994\n",
      "train micro-F1 @4: 0.3397489539748954\n",
      "validation micro-F1 @4: 0.24891209747606616\n",
      "train micro-F1 @5: 0.3163611676849966\n",
      "validation micro-F1 @5: 0.23074217376011255\n",
      "train micro-F1 @6: 0.299217294073798\n",
      "validation micro-F1 @6: 0.22339955849889626\n",
      "train micro-F1 @7: 0.28513754375416067\n",
      "validation micro-F1 @7: 0.21223660827621224\n",
      "train micro-F1 @8: 0.27308507417499245\n",
      "validation micro-F1 @8: 0.20437304774654172\n",
      "train micro-F1 @9: 0.26182938597233746\n",
      "validation micro-F1 @9: 0.1973120955699353\n"
     ]
    },
    {
     "name": "stderr",
     "output_type": "stream",
     "text": [
      "\r",
      " 48%|████▊     | 40/84 [2:15:13<3:15:07, 266.09s/it]"
     ]
    },
    {
     "name": "stdout",
     "output_type": "stream",
     "text": [
      "train micro-F1 @10: 0.25336068836696574\n",
      "validation micro-F1 @10: 0.19438212330611146\n",
      "{'clf__estimator__base_estimator__C': 0.10000000000000001, 'clf__estimator__base_estimator__degree': 3, 'clf__estimator__base_estimator__kernel': 'linear'}\n",
      "train micro-F1 @1: 0.49040624586476117\n",
      "validation micro-F1 @1: 0.36688311688311687\n",
      "train micro-F1 @2: 0.4262656918195613\n",
      "validation micro-F1 @2: 0.3099538009239815\n",
      "train micro-F1 @3: 0.3840596817602342\n",
      "validation micro-F1 @3: 0.2754285714285714\n",
      "train micro-F1 @4: 0.35388333754193574\n",
      "validation micro-F1 @4: 0.2534722222222222\n",
      "train micro-F1 @5: 0.3313342889740514\n",
      "validation micro-F1 @5: 0.24371508379888268\n",
      "train micro-F1 @6: 0.3139640860162081\n",
      "validation micro-F1 @6: 0.22991202346041056\n",
      "train micro-F1 @7: 0.2991991821434657\n",
      "validation micro-F1 @7: 0.2248550541971263\n",
      "train micro-F1 @8: 0.28817946505608283\n",
      "validation micro-F1 @8: 0.21887794622109108\n",
      "train micro-F1 @9: 0.27682392628769953\n",
      "validation micro-F1 @9: 0.21261474681670123\n"
     ]
    },
    {
     "name": "stderr",
     "output_type": "stream",
     "text": [
      "\r",
      " 49%|████▉     | 41/84 [2:22:00<3:41:00, 308.37s/it]"
     ]
    },
    {
     "name": "stdout",
     "output_type": "stream",
     "text": [
      "train micro-F1 @10: 0.2679197728618496\n",
      "validation micro-F1 @10: 0.20789168967667232\n",
      "{'clf__estimator__base_estimator__C': 0.10000000000000001, 'clf__estimator__base_estimator__degree': 3, 'clf__estimator__base_estimator__kernel': 'poly'}\n",
      "train micro-F1 @1: 0.3156651410010335\n",
      "validation micro-F1 @1: 0.2832764505119454\n",
      "train micro-F1 @2: 0.28476920763794916\n",
      "validation micro-F1 @2: 0.26177105831533476\n",
      "train micro-F1 @3: 0.261063970326711\n",
      "validation micro-F1 @3: 0.23457151213805205\n",
      "train micro-F1 @4: 0.241473659871286\n",
      "validation micro-F1 @4: 0.21868083222664897\n",
      "train micro-F1 @5: 0.2300555434883793\n",
      "validation micro-F1 @5: 0.20613409415121256\n",
      "train micro-F1 @6: 0.22245306048250968\n",
      "validation micro-F1 @6: 0.20089418777943369\n",
      "train micro-F1 @7: 0.21510952168082254\n",
      "validation micro-F1 @7: 0.1945904371234457\n",
      "train micro-F1 @8: 0.20921060377136355\n",
      "validation micro-F1 @8: 0.1908508486006519\n",
      "train micro-F1 @9: 0.20283563801855417\n",
      "validation micro-F1 @9: 0.18502555878520596\n"
     ]
    },
    {
     "name": "stderr",
     "output_type": "stream",
     "text": [
      "\r",
      " 50%|█████     | 42/84 [2:24:50<3:06:41, 266.70s/it]"
     ]
    },
    {
     "name": "stdout",
     "output_type": "stream",
     "text": [
      "train micro-F1 @10: 0.19764594359744056\n",
      "validation micro-F1 @10: 0.18165386353366472\n",
      "{'clf__estimator__base_estimator__C': 0.10000000000000001, 'clf__estimator__base_estimator__degree': 4, 'clf__estimator__base_estimator__kernel': 'rbf'}\n",
      "train micro-F1 @1: 0.4699570815450644\n",
      "validation micro-F1 @1: 0.3440329218106996\n",
      "train micro-F1 @2: 0.41114206128133707\n",
      "validation micro-F1 @2: 0.2985200845665962\n",
      "train micro-F1 @3: 0.3712939608813592\n",
      "validation micro-F1 @3: 0.26501868352974994\n",
      "train micro-F1 @4: 0.3397489539748954\n",
      "validation micro-F1 @4: 0.24891209747606616\n",
      "train micro-F1 @5: 0.3163611676849966\n",
      "validation micro-F1 @5: 0.23074217376011255\n",
      "train micro-F1 @6: 0.299217294073798\n",
      "validation micro-F1 @6: 0.22339955849889626\n",
      "train micro-F1 @7: 0.28513754375416067\n",
      "validation micro-F1 @7: 0.21223660827621224\n",
      "train micro-F1 @8: 0.27308507417499245\n",
      "validation micro-F1 @8: 0.20437304774654172\n",
      "train micro-F1 @9: 0.26182938597233746\n",
      "validation micro-F1 @9: 0.1973120955699353\n"
     ]
    },
    {
     "name": "stderr",
     "output_type": "stream",
     "text": [
      "\r",
      " 51%|█████     | 43/84 [2:29:33<3:05:46, 271.86s/it]"
     ]
    },
    {
     "name": "stdout",
     "output_type": "stream",
     "text": [
      "train micro-F1 @10: 0.25336068836696574\n",
      "validation micro-F1 @10: 0.19438212330611146\n",
      "{'clf__estimator__base_estimator__C': 0.10000000000000001, 'clf__estimator__base_estimator__degree': 4, 'clf__estimator__base_estimator__kernel': 'linear'}\n",
      "train micro-F1 @1: 0.49040624586476117\n",
      "validation micro-F1 @1: 0.36688311688311687\n",
      "train micro-F1 @2: 0.4262656918195613\n",
      "validation micro-F1 @2: 0.3099538009239815\n",
      "train micro-F1 @3: 0.3840596817602342\n",
      "validation micro-F1 @3: 0.2754285714285714\n",
      "train micro-F1 @4: 0.35388333754193574\n",
      "validation micro-F1 @4: 0.2534722222222222\n",
      "train micro-F1 @5: 0.3313342889740514\n",
      "validation micro-F1 @5: 0.24371508379888268\n",
      "train micro-F1 @6: 0.3139640860162081\n",
      "validation micro-F1 @6: 0.22991202346041056\n",
      "train micro-F1 @7: 0.2991991821434657\n",
      "validation micro-F1 @7: 0.2248550541971263\n",
      "train micro-F1 @8: 0.28817946505608283\n",
      "validation micro-F1 @8: 0.21887794622109108\n",
      "train micro-F1 @9: 0.27682392628769953\n",
      "validation micro-F1 @9: 0.21261474681670123\n"
     ]
    },
    {
     "name": "stderr",
     "output_type": "stream",
     "text": [
      "\r",
      " 52%|█████▏    | 44/84 [2:36:22<3:28:31, 312.78s/it]"
     ]
    },
    {
     "name": "stdout",
     "output_type": "stream",
     "text": [
      "train micro-F1 @10: 0.2679197728618496\n",
      "validation micro-F1 @10: 0.20789168967667232\n",
      "{'clf__estimator__base_estimator__C': 0.10000000000000001, 'clf__estimator__base_estimator__degree': 4, 'clf__estimator__base_estimator__kernel': 'poly'}\n",
      "train micro-F1 @1: 0.25858647534727525\n",
      "validation micro-F1 @1: 0.2519548218940052\n",
      "train micro-F1 @2: 0.25458996328029376\n",
      "validation micro-F1 @2: 0.22887323943661972\n",
      "train micro-F1 @3: 0.2287547872891005\n",
      "validation micro-F1 @3: 0.21049510821227393\n",
      "train micro-F1 @4: 0.2166640612787244\n",
      "validation micro-F1 @4: 0.20236765691311145\n",
      "train micro-F1 @5: 0.20786728666582882\n",
      "validation micro-F1 @5: 0.20067966374530496\n",
      "train micro-F1 @6: 0.20219052872114096\n",
      "validation micro-F1 @6: 0.19254379398113491\n",
      "train micro-F1 @7: 0.1972594080863264\n",
      "validation micro-F1 @7: 0.18551919608348363\n",
      "train micro-F1 @8: 0.19257733592109955\n",
      "validation micro-F1 @8: 0.18309064228468225\n",
      "train micro-F1 @9: 0.1883436557090678\n",
      "validation micro-F1 @9: 0.17918552036199095\n"
     ]
    },
    {
     "name": "stderr",
     "output_type": "stream",
     "text": [
      "\r",
      " 54%|█████▎    | 45/84 [2:39:03<2:53:47, 267.36s/it]"
     ]
    },
    {
     "name": "stdout",
     "output_type": "stream",
     "text": [
      "train micro-F1 @10: 0.1843068597803597\n",
      "validation micro-F1 @10: 0.1757185601595793\n",
      "{'clf__estimator__base_estimator__C': 0.10000000000000001, 'clf__estimator__base_estimator__degree': 5, 'clf__estimator__base_estimator__kernel': 'rbf'}\n",
      "train micro-F1 @1: 0.4699570815450644\n",
      "validation micro-F1 @1: 0.3440329218106996\n",
      "train micro-F1 @2: 0.41114206128133707\n",
      "validation micro-F1 @2: 0.2985200845665962\n",
      "train micro-F1 @3: 0.3712939608813592\n",
      "validation micro-F1 @3: 0.26501868352974994\n",
      "train micro-F1 @4: 0.3397489539748954\n",
      "validation micro-F1 @4: 0.24891209747606616\n",
      "train micro-F1 @5: 0.3163611676849966\n",
      "validation micro-F1 @5: 0.23074217376011255\n",
      "train micro-F1 @6: 0.299217294073798\n",
      "validation micro-F1 @6: 0.22339955849889626\n",
      "train micro-F1 @7: 0.28513754375416067\n",
      "validation micro-F1 @7: 0.21223660827621224\n",
      "train micro-F1 @8: 0.27308507417499245\n",
      "validation micro-F1 @8: 0.20437304774654172\n",
      "train micro-F1 @9: 0.26182938597233746\n",
      "validation micro-F1 @9: 0.1973120955699353\n"
     ]
    },
    {
     "name": "stderr",
     "output_type": "stream",
     "text": [
      "\r",
      " 55%|█████▍    | 46/84 [2:43:46<2:52:21, 272.15s/it]"
     ]
    },
    {
     "name": "stdout",
     "output_type": "stream",
     "text": [
      "train micro-F1 @10: 0.25336068836696574\n",
      "validation micro-F1 @10: 0.19438212330611146\n",
      "{'clf__estimator__base_estimator__C': 0.10000000000000001, 'clf__estimator__base_estimator__degree': 5, 'clf__estimator__base_estimator__kernel': 'linear'}\n",
      "train micro-F1 @1: 0.49040624586476117\n",
      "validation micro-F1 @1: 0.36688311688311687\n",
      "train micro-F1 @2: 0.4262656918195613\n",
      "validation micro-F1 @2: 0.3099538009239815\n",
      "train micro-F1 @3: 0.3840596817602342\n",
      "validation micro-F1 @3: 0.2754285714285714\n",
      "train micro-F1 @4: 0.35388333754193574\n",
      "validation micro-F1 @4: 0.2534722222222222\n",
      "train micro-F1 @5: 0.3313342889740514\n",
      "validation micro-F1 @5: 0.24371508379888268\n",
      "train micro-F1 @6: 0.3139640860162081\n",
      "validation micro-F1 @6: 0.22991202346041056\n",
      "train micro-F1 @7: 0.2991991821434657\n",
      "validation micro-F1 @7: 0.2248550541971263\n",
      "train micro-F1 @8: 0.28817946505608283\n",
      "validation micro-F1 @8: 0.21887794622109108\n",
      "train micro-F1 @9: 0.27682392628769953\n",
      "validation micro-F1 @9: 0.21261474681670123\n"
     ]
    },
    {
     "name": "stderr",
     "output_type": "stream",
     "text": [
      "\r",
      " 56%|█████▌    | 47/84 [2:50:33<3:12:46, 312.61s/it]"
     ]
    },
    {
     "name": "stdout",
     "output_type": "stream",
     "text": [
      "train micro-F1 @10: 0.2679197728618496\n",
      "validation micro-F1 @10: 0.20789168967667232\n",
      "{'clf__estimator__base_estimator__C': 0.10000000000000001, 'clf__estimator__base_estimator__degree': 5, 'clf__estimator__base_estimator__kernel': 'poly'}\n"
     ]
    },
    {
     "name": "stderr",
     "output_type": "stream",
     "text": [
      "/home/felipe/tf-venv3/lib/python3.5/site-packages/sklearn/calibration.py:435: RuntimeWarning: overflow encountered in exp\n",
      "  E = np.exp(AB[0] * F + AB[1])\n",
      "/home/felipe/tf-venv3/lib/python3.5/site-packages/sklearn/calibration.py:445: RuntimeWarning: overflow encountered in exp\n",
      "  E = np.exp(AB[0] * F + AB[1])\n",
      "/home/felipe/tf-venv3/lib/python3.5/site-packages/sklearn/calibration.py:447: RuntimeWarning: invalid value encountered in multiply\n",
      "  TEP_minus_T1P = P * (T * E - T1)\n",
      "/home/felipe/tf-venv3/lib/python3.5/site-packages/sklearn/calibration.py:435: RuntimeWarning: overflow encountered in exp\n",
      "  E = np.exp(AB[0] * F + AB[1])\n",
      "/home/felipe/tf-venv3/lib/python3.5/site-packages/sklearn/calibration.py:445: RuntimeWarning: overflow encountered in exp\n",
      "  E = np.exp(AB[0] * F + AB[1])\n",
      "/home/felipe/tf-venv3/lib/python3.5/site-packages/sklearn/calibration.py:447: RuntimeWarning: invalid value encountered in multiply\n",
      "  TEP_minus_T1P = P * (T * E - T1)\n"
     ]
    },
    {
     "name": "stdout",
     "output_type": "stream",
     "text": [
      "train micro-F1 @1: 0.25084329960134927\n",
      "validation micro-F1 @1: 0.24891209747606616\n",
      "train micro-F1 @2: 0.24167694204685575\n",
      "validation micro-F1 @2: 0.23353819139596138\n",
      "train micro-F1 @3: 0.22471210706504824\n",
      "validation micro-F1 @3: 0.21736562315416422\n",
      "train micro-F1 @4: 0.21240255415834214\n",
      "validation micro-F1 @4: 0.2047735891144323\n",
      "train micro-F1 @5: 0.20504751715022973\n",
      "validation micro-F1 @5: 0.1968094640616598\n",
      "train micro-F1 @6: 0.1978357599852558\n",
      "validation micro-F1 @6: 0.19335528284944628\n",
      "train micro-F1 @7: 0.19260801665799063\n",
      "validation micro-F1 @7: 0.1873873873873874\n",
      "train micro-F1 @8: 0.18784003812398237\n",
      "validation micro-F1 @8: 0.18206460356900836\n",
      "train micro-F1 @9: 0.18315018315018314\n",
      "validation micro-F1 @9: 0.17422867513611615\n"
     ]
    },
    {
     "name": "stderr",
     "output_type": "stream",
     "text": [
      "\r",
      " 57%|█████▋    | 48/84 [2:53:09<2:39:14, 265.41s/it]"
     ]
    },
    {
     "name": "stdout",
     "output_type": "stream",
     "text": [
      "train micro-F1 @10: 0.17943889438575214\n",
      "validation micro-F1 @10: 0.1702437249909058\n",
      "{'clf__estimator__base_estimator__C': 1.0, 'clf__estimator__base_estimator__degree': 2, 'clf__estimator__base_estimator__kernel': 'rbf'}\n",
      "train micro-F1 @1: 0.5698884292340479\n",
      "validation micro-F1 @1: 0.3734842360549717\n",
      "train micro-F1 @2: 0.5007228282297279\n",
      "validation micro-F1 @2: 0.324729392173189\n",
      "train micro-F1 @3: 0.45070167496604796\n",
      "validation micro-F1 @3: 0.2847399829497016\n",
      "train micro-F1 @4: 0.4141789748045178\n",
      "validation micro-F1 @4: 0.26364617044228694\n",
      "train micro-F1 @5: 0.383540680703942\n",
      "validation micro-F1 @5: 0.24708137306150899\n",
      "train micro-F1 @6: 0.361625736033319\n",
      "validation micro-F1 @6: 0.2368920695194976\n",
      "train micro-F1 @7: 0.3437519444156383\n",
      "validation micro-F1 @7: 0.22373565392861647\n",
      "train micro-F1 @8: 0.3276405482665103\n",
      "validation micro-F1 @8: 0.21729981171779822\n",
      "train micro-F1 @9: 0.3145591542590738\n",
      "validation micro-F1 @9: 0.21332017760236804\n"
     ]
    },
    {
     "name": "stderr",
     "output_type": "stream",
     "text": [
      "\r",
      " 58%|█████▊    | 49/84 [3:01:37<3:17:15, 338.14s/it]"
     ]
    },
    {
     "name": "stdout",
     "output_type": "stream",
     "text": [
      "train micro-F1 @10: 0.3037187932136856\n",
      "validation micro-F1 @10: 0.20757238307349665\n",
      "{'clf__estimator__base_estimator__C': 1.0, 'clf__estimator__base_estimator__degree': 2, 'clf__estimator__base_estimator__kernel': 'linear'}\n",
      "train micro-F1 @1: 0.48398671096345514\n",
      "validation micro-F1 @1: 0.35889070146818924\n",
      "train micro-F1 @2: 0.42387399834208345\n",
      "validation micro-F1 @2: 0.3113722198908938\n",
      "train micro-F1 @3: 0.38222642401323564\n",
      "validation micro-F1 @3: 0.27936145952109465\n",
      "train micro-F1 @4: 0.3510876635108766\n",
      "validation micro-F1 @4: 0.2561213434452871\n",
      "train micro-F1 @5: 0.3290857427424788\n",
      "validation micro-F1 @5: 0.2449406838799721\n",
      "train micro-F1 @6: 0.31092685815812854\n",
      "validation micro-F1 @6: 0.2337966349670812\n",
      "train micro-F1 @7: 0.29767640162012365\n",
      "validation micro-F1 @7: 0.2264198463669563\n",
      "train micro-F1 @8: 0.2862507980621174\n",
      "validation micro-F1 @8: 0.22065001105460977\n",
      "train micro-F1 @9: 0.2754056505526254\n",
      "validation micro-F1 @9: 0.21472937000887313\n"
     ]
    },
    {
     "name": "stderr",
     "output_type": "stream",
     "text": [
      "\r",
      " 60%|█████▉    | 50/84 [3:08:25<3:23:33, 359.22s/it]"
     ]
    },
    {
     "name": "stdout",
     "output_type": "stream",
     "text": [
      "train micro-F1 @10: 0.2658660788933647\n",
      "validation micro-F1 @10: 0.2085299617131155\n",
      "{'clf__estimator__base_estimator__C': 1.0, 'clf__estimator__base_estimator__degree': 2, 'clf__estimator__base_estimator__kernel': 'poly'}\n",
      "train micro-F1 @1: 0.5236184806522584\n",
      "validation micro-F1 @1: 0.389111289031225\n",
      "train micro-F1 @2: 0.4502105692161391\n",
      "validation micro-F1 @2: 0.30710980227177115\n",
      "train micro-F1 @3: 0.4029864675688287\n",
      "validation micro-F1 @3: 0.2808316718883509\n",
      "train micro-F1 @4: 0.3724944717882873\n",
      "validation micro-F1 @4: 0.2621464046642194\n",
      "train micro-F1 @5: 0.3489159695487307\n",
      "validation micro-F1 @5: 0.2443280977312391\n",
      "train micro-F1 @6: 0.32972181551976576\n",
      "validation micro-F1 @6: 0.23611922852133255\n",
      "train micro-F1 @7: 0.31381574779872884\n",
      "validation micro-F1 @7: 0.22552601738692202\n",
      "train micro-F1 @8: 0.3017491626349088\n",
      "validation micro-F1 @8: 0.21611437437659314\n",
      "train micro-F1 @9: 0.29062333510921684\n",
      "validation micro-F1 @9: 0.20943340255117177\n"
     ]
    },
    {
     "name": "stderr",
     "output_type": "stream",
     "text": [
      "\r",
      " 61%|██████    | 51/84 [3:13:52<3:12:12, 349.46s/it]"
     ]
    },
    {
     "name": "stdout",
     "output_type": "stream",
     "text": [
      "train micro-F1 @10: 0.2801664355062413\n",
      "validation micro-F1 @10: 0.20389216211390823\n",
      "{'clf__estimator__base_estimator__C': 1.0, 'clf__estimator__base_estimator__degree': 3, 'clf__estimator__base_estimator__kernel': 'rbf'}\n",
      "train micro-F1 @1: 0.5698884292340479\n",
      "validation micro-F1 @1: 0.3734842360549717\n",
      "train micro-F1 @2: 0.5007228282297279\n",
      "validation micro-F1 @2: 0.324729392173189\n",
      "train micro-F1 @3: 0.45070167496604796\n",
      "validation micro-F1 @3: 0.2847399829497016\n",
      "train micro-F1 @4: 0.4141789748045178\n",
      "validation micro-F1 @4: 0.26364617044228694\n",
      "train micro-F1 @5: 0.383540680703942\n",
      "validation micro-F1 @5: 0.24708137306150899\n",
      "train micro-F1 @6: 0.361625736033319\n",
      "validation micro-F1 @6: 0.2368920695194976\n",
      "train micro-F1 @7: 0.3437519444156383\n",
      "validation micro-F1 @7: 0.22373565392861647\n",
      "train micro-F1 @8: 0.3276405482665103\n",
      "validation micro-F1 @8: 0.21729981171779822\n",
      "train micro-F1 @9: 0.3145591542590738\n",
      "validation micro-F1 @9: 0.21332017760236804\n"
     ]
    },
    {
     "name": "stderr",
     "output_type": "stream",
     "text": [
      "\r",
      " 62%|██████▏   | 52/84 [3:22:19<3:31:37, 396.81s/it]"
     ]
    },
    {
     "name": "stdout",
     "output_type": "stream",
     "text": [
      "train micro-F1 @10: 0.3037187932136856\n",
      "validation micro-F1 @10: 0.20757238307349665\n",
      "{'clf__estimator__base_estimator__C': 1.0, 'clf__estimator__base_estimator__degree': 3, 'clf__estimator__base_estimator__kernel': 'linear'}\n",
      "train micro-F1 @1: 0.48398671096345514\n",
      "validation micro-F1 @1: 0.35889070146818924\n",
      "train micro-F1 @2: 0.42387399834208345\n",
      "validation micro-F1 @2: 0.3113722198908938\n",
      "train micro-F1 @3: 0.38222642401323564\n",
      "validation micro-F1 @3: 0.27936145952109465\n",
      "train micro-F1 @4: 0.3510876635108766\n",
      "validation micro-F1 @4: 0.2561213434452871\n",
      "train micro-F1 @5: 0.3290857427424788\n",
      "validation micro-F1 @5: 0.2449406838799721\n",
      "train micro-F1 @6: 0.31092685815812854\n",
      "validation micro-F1 @6: 0.2337966349670812\n",
      "train micro-F1 @7: 0.29767640162012365\n",
      "validation micro-F1 @7: 0.2264198463669563\n",
      "train micro-F1 @8: 0.2862507980621174\n",
      "validation micro-F1 @8: 0.22065001105460977\n",
      "train micro-F1 @9: 0.2754056505526254\n",
      "validation micro-F1 @9: 0.21472937000887313\n"
     ]
    },
    {
     "name": "stderr",
     "output_type": "stream",
     "text": [
      "\r",
      " 63%|██████▎   | 53/84 [3:29:08<3:26:53, 400.44s/it]"
     ]
    },
    {
     "name": "stdout",
     "output_type": "stream",
     "text": [
      "train micro-F1 @10: 0.2658660788933647\n",
      "validation micro-F1 @10: 0.2085299617131155\n",
      "{'clf__estimator__base_estimator__C': 1.0, 'clf__estimator__base_estimator__degree': 3, 'clf__estimator__base_estimator__kernel': 'poly'}\n",
      "train micro-F1 @1: 0.47629223988246294\n",
      "validation micro-F1 @1: 0.3628966639544345\n",
      "train micro-F1 @2: 0.4190687361419069\n",
      "validation micro-F1 @2: 0.31208053691275167\n",
      "train micro-F1 @3: 0.3764705882352941\n",
      "validation micro-F1 @3: 0.27788873038516404\n",
      "train micro-F1 @4: 0.34390651085141904\n",
      "validation micro-F1 @4: 0.2613955497947721\n",
      "train micro-F1 @5: 0.32333921222810114\n",
      "validation micro-F1 @5: 0.24156615976227933\n",
      "train micro-F1 @6: 0.30649710525013607\n",
      "validation micro-F1 @6: 0.22991202346041056\n",
      "train micro-F1 @7: 0.2928727179443328\n",
      "validation micro-F1 @7: 0.22216611966675082\n",
      "train micro-F1 @8: 0.2816365724614487\n",
      "validation micro-F1 @8: 0.21373876373321496\n",
      "train micro-F1 @9: 0.2711076684740511\n",
      "validation micro-F1 @9: 0.2081931525826242\n"
     ]
    },
    {
     "name": "stderr",
     "output_type": "stream",
     "text": [
      "\r",
      " 64%|██████▍   | 54/84 [3:33:32<2:59:50, 359.69s/it]"
     ]
    },
    {
     "name": "stdout",
     "output_type": "stream",
     "text": [
      "train micro-F1 @10: 0.2624059463246718\n",
      "validation micro-F1 @10: 0.2010014306151645\n",
      "{'clf__estimator__base_estimator__C': 1.0, 'clf__estimator__base_estimator__degree': 4, 'clf__estimator__base_estimator__kernel': 'rbf'}\n",
      "train micro-F1 @1: 0.5698884292340479\n",
      "validation micro-F1 @1: 0.3734842360549717\n",
      "train micro-F1 @2: 0.5007228282297279\n",
      "validation micro-F1 @2: 0.324729392173189\n",
      "train micro-F1 @3: 0.45070167496604796\n",
      "validation micro-F1 @3: 0.2847399829497016\n",
      "train micro-F1 @4: 0.4141789748045178\n",
      "validation micro-F1 @4: 0.26364617044228694\n",
      "train micro-F1 @5: 0.383540680703942\n",
      "validation micro-F1 @5: 0.24708137306150899\n",
      "train micro-F1 @6: 0.361625736033319\n",
      "validation micro-F1 @6: 0.2368920695194976\n",
      "train micro-F1 @7: 0.3437519444156383\n",
      "validation micro-F1 @7: 0.22373565392861647\n",
      "train micro-F1 @8: 0.3276405482665103\n",
      "validation micro-F1 @8: 0.21729981171779822\n",
      "train micro-F1 @9: 0.3145591542590738\n",
      "validation micro-F1 @9: 0.21332017760236804\n"
     ]
    },
    {
     "name": "stderr",
     "output_type": "stream",
     "text": [
      "\r",
      " 65%|██████▌   | 55/84 [3:41:59<3:15:08, 403.74s/it]"
     ]
    },
    {
     "name": "stdout",
     "output_type": "stream",
     "text": [
      "train micro-F1 @10: 0.3037187932136856\n",
      "validation micro-F1 @10: 0.20757238307349665\n",
      "{'clf__estimator__base_estimator__C': 1.0, 'clf__estimator__base_estimator__degree': 4, 'clf__estimator__base_estimator__kernel': 'linear'}\n",
      "train micro-F1 @1: 0.48398671096345514\n",
      "validation micro-F1 @1: 0.35889070146818924\n",
      "train micro-F1 @2: 0.42387399834208345\n",
      "validation micro-F1 @2: 0.3113722198908938\n",
      "train micro-F1 @3: 0.38222642401323564\n",
      "validation micro-F1 @3: 0.27936145952109465\n",
      "train micro-F1 @4: 0.3510876635108766\n",
      "validation micro-F1 @4: 0.2561213434452871\n",
      "train micro-F1 @5: 0.3290857427424788\n",
      "validation micro-F1 @5: 0.2449406838799721\n",
      "train micro-F1 @6: 0.31092685815812854\n",
      "validation micro-F1 @6: 0.2337966349670812\n",
      "train micro-F1 @7: 0.29767640162012365\n",
      "validation micro-F1 @7: 0.2264198463669563\n",
      "train micro-F1 @8: 0.2862507980621174\n",
      "validation micro-F1 @8: 0.22065001105460977\n",
      "train micro-F1 @9: 0.2754056505526254\n",
      "validation micro-F1 @9: 0.21472937000887313\n"
     ]
    },
    {
     "name": "stderr",
     "output_type": "stream",
     "text": [
      "\r",
      " 67%|██████▋   | 56/84 [3:48:48<3:09:07, 405.26s/it]"
     ]
    },
    {
     "name": "stdout",
     "output_type": "stream",
     "text": [
      "train micro-F1 @10: 0.2658660788933647\n",
      "validation micro-F1 @10: 0.2085299617131155\n",
      "{'clf__estimator__base_estimator__C': 1.0, 'clf__estimator__base_estimator__degree': 4, 'clf__estimator__base_estimator__kernel': 'poly'}\n",
      "train micro-F1 @1: 0.3587972953531866\n",
      "validation micro-F1 @1: 0.31208053691275167\n",
      "train micro-F1 @2: 0.32383191301792535\n",
      "validation micro-F1 @2: 0.2737022737022737\n",
      "train micro-F1 @3: 0.29195987423266956\n",
      "validation micro-F1 @3: 0.2417710457325954\n",
      "train micro-F1 @4: 0.2696799635977552\n",
      "validation micro-F1 @4: 0.23081996043086392\n",
      "train micro-F1 @5: 0.2584801392238879\n",
      "validation micro-F1 @5: 0.21694434597660403\n",
      "train micro-F1 @6: 0.25030674846625767\n",
      "validation micro-F1 @6: 0.2086362961863778\n",
      "train micro-F1 @7: 0.2426056338028169\n",
      "validation micro-F1 @7: 0.20563129061026883\n",
      "train micro-F1 @8: 0.2343290512304597\n",
      "validation micro-F1 @8: 0.2031703505246707\n",
      "train micro-F1 @9: 0.22633751965035329\n",
      "validation micro-F1 @9: 0.19425608296769048\n"
     ]
    },
    {
     "name": "stderr",
     "output_type": "stream",
     "text": [
      "\r",
      " 68%|██████▊   | 57/84 [3:52:24<2:36:52, 348.60s/it]"
     ]
    },
    {
     "name": "stdout",
     "output_type": "stream",
     "text": [
      "train micro-F1 @10: 0.2198642428025279\n",
      "validation micro-F1 @10: 0.18640706688299982\n",
      "{'clf__estimator__base_estimator__C': 1.0, 'clf__estimator__base_estimator__degree': 5, 'clf__estimator__base_estimator__kernel': 'rbf'}\n",
      "train micro-F1 @1: 0.5698884292340479\n",
      "validation micro-F1 @1: 0.3734842360549717\n",
      "train micro-F1 @2: 0.5007228282297279\n",
      "validation micro-F1 @2: 0.324729392173189\n",
      "train micro-F1 @3: 0.45070167496604796\n",
      "validation micro-F1 @3: 0.2847399829497016\n",
      "train micro-F1 @4: 0.4141789748045178\n",
      "validation micro-F1 @4: 0.26364617044228694\n",
      "train micro-F1 @5: 0.383540680703942\n",
      "validation micro-F1 @5: 0.24708137306150899\n",
      "train micro-F1 @6: 0.361625736033319\n",
      "validation micro-F1 @6: 0.2368920695194976\n",
      "train micro-F1 @7: 0.3437519444156383\n",
      "validation micro-F1 @7: 0.22373565392861647\n",
      "train micro-F1 @8: 0.3276405482665103\n",
      "validation micro-F1 @8: 0.21729981171779822\n",
      "train micro-F1 @9: 0.3145591542590738\n",
      "validation micro-F1 @9: 0.21332017760236804\n"
     ]
    },
    {
     "name": "stderr",
     "output_type": "stream",
     "text": [
      "\r",
      " 69%|██████▉   | 58/84 [4:00:54<2:52:04, 397.10s/it]"
     ]
    },
    {
     "name": "stdout",
     "output_type": "stream",
     "text": [
      "train micro-F1 @10: 0.3037187932136856\n",
      "validation micro-F1 @10: 0.20757238307349665\n",
      "{'clf__estimator__base_estimator__C': 1.0, 'clf__estimator__base_estimator__degree': 5, 'clf__estimator__base_estimator__kernel': 'linear'}\n",
      "train micro-F1 @1: 0.48398671096345514\n",
      "validation micro-F1 @1: 0.35889070146818924\n",
      "train micro-F1 @2: 0.42387399834208345\n",
      "validation micro-F1 @2: 0.3113722198908938\n",
      "train micro-F1 @3: 0.38222642401323564\n",
      "validation micro-F1 @3: 0.27936145952109465\n",
      "train micro-F1 @4: 0.3510876635108766\n",
      "validation micro-F1 @4: 0.2561213434452871\n",
      "train micro-F1 @5: 0.3290857427424788\n",
      "validation micro-F1 @5: 0.2449406838799721\n",
      "train micro-F1 @6: 0.31092685815812854\n",
      "validation micro-F1 @6: 0.2337966349670812\n",
      "train micro-F1 @7: 0.29767640162012365\n",
      "validation micro-F1 @7: 0.2264198463669563\n",
      "train micro-F1 @8: 0.2862507980621174\n",
      "validation micro-F1 @8: 0.22065001105460977\n",
      "train micro-F1 @9: 0.2754056505526254\n",
      "validation micro-F1 @9: 0.21472937000887313\n"
     ]
    },
    {
     "name": "stderr",
     "output_type": "stream",
     "text": [
      "\r",
      " 70%|███████   | 59/84 [4:07:44<2:47:02, 400.89s/it]"
     ]
    },
    {
     "name": "stdout",
     "output_type": "stream",
     "text": [
      "train micro-F1 @10: 0.2658660788933647\n",
      "validation micro-F1 @10: 0.2085299617131155\n",
      "{'clf__estimator__base_estimator__C': 1.0, 'clf__estimator__base_estimator__degree': 5, 'clf__estimator__base_estimator__kernel': 'poly'}\n",
      "train micro-F1 @1: 0.2952779438135087\n",
      "validation micro-F1 @1: 0.274442538593482\n",
      "train micro-F1 @2: 0.26823529411764707\n",
      "validation micro-F1 @2: 0.24125874125874125\n",
      "train micro-F1 @3: 0.246631487268815\n",
      "validation micro-F1 @3: 0.23198594024604569\n",
      "train micro-F1 @4: 0.23138638037285378\n",
      "validation micro-F1 @4: 0.2155210643015521\n",
      "train micro-F1 @5: 0.22487785142999409\n",
      "validation micro-F1 @5: 0.2074126870990734\n",
      "train micro-F1 @6: 0.21865972674040338\n",
      "validation micro-F1 @6: 0.19874664279319607\n",
      "train micro-F1 @7: 0.21247257912879974\n",
      "validation micro-F1 @7: 0.19087989723827875\n",
      "train micro-F1 @8: 0.20699410609037328\n",
      "validation micro-F1 @8: 0.18411552346570398\n",
      "train micro-F1 @9: 0.19927390076643808\n",
      "validation micro-F1 @9: 0.17753623188405798\n"
     ]
    },
    {
     "name": "stderr",
     "output_type": "stream",
     "text": [
      "\r",
      " 71%|███████▏  | 60/84 [4:10:53<2:14:52, 337.19s/it]"
     ]
    },
    {
     "name": "stdout",
     "output_type": "stream",
     "text": [
      "train micro-F1 @10: 0.1940222897669706\n",
      "validation micro-F1 @10: 0.1748911465892598\n",
      "{'clf__estimator__base_estimator__C': 10.0, 'clf__estimator__base_estimator__degree': 2, 'clf__estimator__base_estimator__kernel': 'rbf'}\n",
      "train micro-F1 @1: 0.6012751348700344\n",
      "validation micro-F1 @1: 0.3865276663993585\n",
      "train micro-F1 @2: 0.5408032744947557\n",
      "validation micro-F1 @2: 0.3289036544850498\n",
      "train micro-F1 @3: 0.49670561363436705\n",
      "validation micro-F1 @3: 0.2987598647125141\n",
      "train micro-F1 @4: 0.45603112840466925\n",
      "validation micro-F1 @4: 0.2748124330117899\n",
      "train micro-F1 @5: 0.424875044873388\n",
      "validation micro-F1 @5: 0.2571032571032571\n",
      "train micro-F1 @6: 0.4021663009477567\n",
      "validation micro-F1 @6: 0.2463683904706566\n",
      "train micro-F1 @7: 0.3825977761124501\n",
      "validation micro-F1 @7: 0.23773773773773774\n",
      "train micro-F1 @8: 0.3646202917249041\n",
      "validation micro-F1 @8: 0.22633608815426998\n",
      "train micro-F1 @9: 0.3505181139047313\n",
      "validation micro-F1 @9: 0.21981911128588283\n"
     ]
    },
    {
     "name": "stderr",
     "output_type": "stream",
     "text": [
      "\r",
      " 73%|███████▎  | 61/84 [4:21:06<2:40:59, 419.99s/it]"
     ]
    },
    {
     "name": "stdout",
     "output_type": "stream",
     "text": [
      "train micro-F1 @10: 0.33775316916800235\n",
      "validation micro-F1 @10: 0.21282643453544148\n",
      "{'clf__estimator__base_estimator__C': 10.0, 'clf__estimator__base_estimator__degree': 2, 'clf__estimator__base_estimator__kernel': 'linear'}\n",
      "train micro-F1 @1: 0.4880053015241882\n",
      "validation micro-F1 @1: 0.3655564581640942\n",
      "train micro-F1 @2: 0.42735042735042733\n",
      "validation micro-F1 @2: 0.3092436974789916\n",
      "train micro-F1 @3: 0.3873338987842805\n",
      "validation micro-F1 @3: 0.28132118451025057\n",
      "train micro-F1 @4: 0.3576158940397351\n",
      "validation micro-F1 @4: 0.2591390871728315\n",
      "train micro-F1 @5: 0.3336254747297692\n",
      "validation micro-F1 @5: 0.24921684650191436\n",
      "train micro-F1 @6: 0.31462832098096666\n",
      "validation micro-F1 @6: 0.23740692071835304\n",
      "train micro-F1 @7: 0.3007915567282322\n",
      "validation micro-F1 @7: 0.23087551815098606\n",
      "train micro-F1 @8: 0.2880189086270611\n",
      "validation micro-F1 @8: 0.22104332449160036\n",
      "train micro-F1 @9: 0.27740214418737313\n",
      "validation micro-F1 @9: 0.21472937000887313\n"
     ]
    },
    {
     "name": "stderr",
     "output_type": "stream",
     "text": [
      "\r",
      " 74%|███████▍  | 62/84 [4:28:14<2:34:54, 422.50s/it]"
     ]
    },
    {
     "name": "stdout",
     "output_type": "stream",
     "text": [
      "train micro-F1 @10: 0.26810384089873995\n",
      "validation micro-F1 @10: 0.20837043633125557\n",
      "{'clf__estimator__base_estimator__C': 10.0, 'clf__estimator__base_estimator__degree': 2, 'clf__estimator__base_estimator__kernel': 'poly'}\n",
      "train micro-F1 @1: 0.5700676861368764\n",
      "validation micro-F1 @1: 0.3929712460063898\n",
      "train micro-F1 @2: 0.5119676514706841\n",
      "validation micro-F1 @2: 0.32959734329597346\n",
      "train micro-F1 @3: 0.465635507733692\n",
      "validation micro-F1 @3: 0.28278805120910383\n",
      "train micro-F1 @4: 0.42821713970790853\n",
      "validation micro-F1 @4: 0.2655172413793103\n",
      "train micro-F1 @5: 0.40076260969523647\n",
      "validation micro-F1 @5: 0.25377538621767054\n",
      "train micro-F1 @6: 0.3779326034409214\n",
      "validation micro-F1 @6: 0.24330616996507567\n",
      "train micro-F1 @7: 0.3597075014378441\n",
      "validation micro-F1 @7: 0.23353819139596138\n",
      "train micro-F1 @8: 0.3436360006533694\n",
      "validation micro-F1 @8: 0.22594511187038466\n",
      "train micro-F1 @9: 0.329803328290469\n",
      "validation micro-F1 @9: 0.21631205673758866\n"
     ]
    },
    {
     "name": "stderr",
     "output_type": "stream",
     "text": [
      "\r",
      " 75%|███████▌  | 63/84 [4:36:10<2:33:25, 438.38s/it]"
     ]
    },
    {
     "name": "stdout",
     "output_type": "stream",
     "text": [
      "train micro-F1 @10: 0.31824748651118906\n",
      "validation micro-F1 @10: 0.20900836745593734\n",
      "{'clf__estimator__base_estimator__C': 10.0, 'clf__estimator__base_estimator__degree': 3, 'clf__estimator__base_estimator__kernel': 'rbf'}\n",
      "train micro-F1 @1: 0.6012751348700344\n",
      "validation micro-F1 @1: 0.3865276663993585\n",
      "train micro-F1 @2: 0.5408032744947557\n",
      "validation micro-F1 @2: 0.3289036544850498\n",
      "train micro-F1 @3: 0.49670561363436705\n",
      "validation micro-F1 @3: 0.2987598647125141\n",
      "train micro-F1 @4: 0.45603112840466925\n",
      "validation micro-F1 @4: 0.2748124330117899\n",
      "train micro-F1 @5: 0.424875044873388\n",
      "validation micro-F1 @5: 0.2571032571032571\n",
      "train micro-F1 @6: 0.4021663009477567\n",
      "validation micro-F1 @6: 0.2463683904706566\n",
      "train micro-F1 @7: 0.3825977761124501\n",
      "validation micro-F1 @7: 0.23773773773773774\n",
      "train micro-F1 @8: 0.3646202917249041\n",
      "validation micro-F1 @8: 0.22633608815426998\n",
      "train micro-F1 @9: 0.3505181139047313\n",
      "validation micro-F1 @9: 0.21981911128588283\n"
     ]
    },
    {
     "name": "stderr",
     "output_type": "stream",
     "text": [
      "\r",
      " 76%|███████▌  | 64/84 [4:46:27<2:44:01, 492.10s/it]"
     ]
    },
    {
     "name": "stdout",
     "output_type": "stream",
     "text": [
      "train micro-F1 @10: 0.33775316916800235\n",
      "validation micro-F1 @10: 0.21282643453544148\n",
      "{'clf__estimator__base_estimator__C': 10.0, 'clf__estimator__base_estimator__degree': 3, 'clf__estimator__base_estimator__kernel': 'linear'}\n",
      "train micro-F1 @1: 0.4880053015241882\n",
      "validation micro-F1 @1: 0.3655564581640942\n",
      "train micro-F1 @2: 0.42735042735042733\n",
      "validation micro-F1 @2: 0.3092436974789916\n",
      "train micro-F1 @3: 0.3873338987842805\n",
      "validation micro-F1 @3: 0.28132118451025057\n",
      "train micro-F1 @4: 0.3576158940397351\n",
      "validation micro-F1 @4: 0.2591390871728315\n",
      "train micro-F1 @5: 0.3336254747297692\n",
      "validation micro-F1 @5: 0.24921684650191436\n",
      "train micro-F1 @6: 0.31462832098096666\n",
      "validation micro-F1 @6: 0.23740692071835304\n",
      "train micro-F1 @7: 0.3007915567282322\n",
      "validation micro-F1 @7: 0.23087551815098606\n",
      "train micro-F1 @8: 0.2880189086270611\n",
      "validation micro-F1 @8: 0.22104332449160036\n",
      "train micro-F1 @9: 0.27740214418737313\n",
      "validation micro-F1 @9: 0.21472937000887313\n"
     ]
    },
    {
     "name": "stderr",
     "output_type": "stream",
     "text": [
      "\r",
      " 77%|███████▋  | 65/84 [4:53:36<2:29:48, 473.07s/it]"
     ]
    },
    {
     "name": "stdout",
     "output_type": "stream",
     "text": [
      "train micro-F1 @10: 0.26810384089873995\n",
      "validation micro-F1 @10: 0.20837043633125557\n",
      "{'clf__estimator__base_estimator__C': 10.0, 'clf__estimator__base_estimator__degree': 3, 'clf__estimator__base_estimator__kernel': 'poly'}\n",
      "train micro-F1 @1: 0.5691709519628747\n",
      "validation micro-F1 @1: 0.38263665594855306\n",
      "train micro-F1 @2: 0.5123557410184522\n",
      "validation micro-F1 @2: 0.3219349457881568\n",
      "train micro-F1 @3: 0.45990459904599046\n",
      "validation micro-F1 @3: 0.2886305642188829\n",
      "train micro-F1 @4: 0.41972572378445766\n",
      "validation micro-F1 @4: 0.26064404581802464\n",
      "train micro-F1 @5: 0.3919257985396521\n",
      "validation micro-F1 @5: 0.24738675958188153\n",
      "train micro-F1 @6: 0.3713714666412868\n",
      "validation micro-F1 @6: 0.23508771929824562\n",
      "train micro-F1 @7: 0.35355243082759474\n",
      "validation micro-F1 @7: 0.23065326633165828\n",
      "train micro-F1 @8: 0.3388121370975081\n",
      "validation micro-F1 @8: 0.2214364640883978\n",
      "train micro-F1 @9: 0.32539022361403336\n",
      "validation micro-F1 @9: 0.21490536277602523\n"
     ]
    },
    {
     "name": "stderr",
     "output_type": "stream",
     "text": [
      "\r",
      " 79%|███████▊  | 66/84 [5:00:54<2:18:46, 462.58s/it]"
     ]
    },
    {
     "name": "stdout",
     "output_type": "stream",
     "text": [
      "train micro-F1 @10: 0.31344894368799986\n",
      "validation micro-F1 @10: 0.20868945868945868\n",
      "{'clf__estimator__base_estimator__C': 10.0, 'clf__estimator__base_estimator__degree': 4, 'clf__estimator__base_estimator__kernel': 'rbf'}\n",
      "train micro-F1 @1: 0.6012751348700344\n",
      "validation micro-F1 @1: 0.3865276663993585\n",
      "train micro-F1 @2: 0.5408032744947557\n",
      "validation micro-F1 @2: 0.3289036544850498\n",
      "train micro-F1 @3: 0.49670561363436705\n",
      "validation micro-F1 @3: 0.2987598647125141\n",
      "train micro-F1 @4: 0.45603112840466925\n",
      "validation micro-F1 @4: 0.2748124330117899\n",
      "train micro-F1 @5: 0.424875044873388\n",
      "validation micro-F1 @5: 0.2571032571032571\n",
      "train micro-F1 @6: 0.4021663009477567\n",
      "validation micro-F1 @6: 0.2463683904706566\n",
      "train micro-F1 @7: 0.3825977761124501\n",
      "validation micro-F1 @7: 0.23773773773773774\n",
      "train micro-F1 @8: 0.3646202917249041\n",
      "validation micro-F1 @8: 0.22633608815426998\n",
      "train micro-F1 @9: 0.3505181139047313\n",
      "validation micro-F1 @9: 0.21981911128588283\n"
     ]
    },
    {
     "name": "stderr",
     "output_type": "stream",
     "text": [
      "\r",
      " 80%|███████▉  | 67/84 [5:11:11<2:24:11, 508.91s/it]"
     ]
    },
    {
     "name": "stdout",
     "output_type": "stream",
     "text": [
      "train micro-F1 @10: 0.33775316916800235\n",
      "validation micro-F1 @10: 0.21282643453544148\n",
      "{'clf__estimator__base_estimator__C': 10.0, 'clf__estimator__base_estimator__degree': 4, 'clf__estimator__base_estimator__kernel': 'linear'}\n",
      "train micro-F1 @1: 0.4880053015241882\n",
      "validation micro-F1 @1: 0.3655564581640942\n",
      "train micro-F1 @2: 0.42735042735042733\n",
      "validation micro-F1 @2: 0.3092436974789916\n",
      "train micro-F1 @3: 0.3873338987842805\n",
      "validation micro-F1 @3: 0.28132118451025057\n",
      "train micro-F1 @4: 0.3576158940397351\n",
      "validation micro-F1 @4: 0.2591390871728315\n",
      "train micro-F1 @5: 0.3336254747297692\n",
      "validation micro-F1 @5: 0.24921684650191436\n",
      "train micro-F1 @6: 0.31462832098096666\n",
      "validation micro-F1 @6: 0.23740692071835304\n",
      "train micro-F1 @7: 0.3007915567282322\n",
      "validation micro-F1 @7: 0.23087551815098606\n",
      "train micro-F1 @8: 0.2880189086270611\n",
      "validation micro-F1 @8: 0.22104332449160036\n",
      "train micro-F1 @9: 0.27740214418737313\n",
      "validation micro-F1 @9: 0.21472937000887313\n"
     ]
    },
    {
     "name": "stderr",
     "output_type": "stream",
     "text": [
      "\r",
      " 81%|████████  | 68/84 [5:18:20<2:09:18, 484.89s/it]"
     ]
    },
    {
     "name": "stdout",
     "output_type": "stream",
     "text": [
      "train micro-F1 @10: 0.26810384089873995\n",
      "validation micro-F1 @10: 0.20837043633125557\n",
      "{'clf__estimator__base_estimator__C': 10.0, 'clf__estimator__base_estimator__degree': 4, 'clf__estimator__base_estimator__kernel': 'poly'}\n",
      "train micro-F1 @1: 0.5245732022762545\n",
      "validation micro-F1 @1: 0.37479806138933763\n",
      "train micro-F1 @2: 0.4658418504572351\n",
      "validation micro-F1 @2: 0.31066330814441645\n",
      "train micro-F1 @3: 0.4184842883548983\n",
      "validation micro-F1 @3: 0.2729613733905579\n",
      "train micro-F1 @4: 0.3835063232845655\n",
      "validation micro-F1 @4: 0.2523344191096634\n",
      "train micro-F1 @5: 0.36096663888968705\n",
      "validation micro-F1 @5: 0.23972003499562555\n",
      "train micro-F1 @6: 0.34326515793295415\n",
      "validation micro-F1 @6: 0.2309495896834701\n",
      "train micro-F1 @7: 0.3290228081188533\n",
      "validation micro-F1 @7: 0.2250787649653434\n",
      "train micro-F1 @8: 0.3168766021798868\n",
      "validation micro-F1 @8: 0.21710234824988922\n",
      "train micro-F1 @9: 0.30369917557453696\n",
      "validation micro-F1 @9: 0.20978744438952052\n"
     ]
    },
    {
     "name": "stderr",
     "output_type": "stream",
     "text": [
      "\r",
      " 82%|████████▏ | 69/84 [5:24:26<1:52:19, 449.31s/it]"
     ]
    },
    {
     "name": "stdout",
     "output_type": "stream",
     "text": [
      "train micro-F1 @10: 0.29257341275780524\n",
      "validation micro-F1 @10: 0.2050138281737889\n",
      "{'clf__estimator__base_estimator__C': 10.0, 'clf__estimator__base_estimator__degree': 5, 'clf__estimator__base_estimator__kernel': 'rbf'}\n",
      "train micro-F1 @1: 0.6012751348700344\n",
      "validation micro-F1 @1: 0.3865276663993585\n",
      "train micro-F1 @2: 0.5408032744947557\n",
      "validation micro-F1 @2: 0.3289036544850498\n",
      "train micro-F1 @3: 0.49670561363436705\n",
      "validation micro-F1 @3: 0.2987598647125141\n",
      "train micro-F1 @4: 0.45603112840466925\n",
      "validation micro-F1 @4: 0.2748124330117899\n",
      "train micro-F1 @5: 0.424875044873388\n",
      "validation micro-F1 @5: 0.2571032571032571\n",
      "train micro-F1 @6: 0.4021663009477567\n",
      "validation micro-F1 @6: 0.2463683904706566\n",
      "train micro-F1 @7: 0.3825977761124501\n",
      "validation micro-F1 @7: 0.23773773773773774\n",
      "train micro-F1 @8: 0.3646202917249041\n",
      "validation micro-F1 @8: 0.22633608815426998\n",
      "train micro-F1 @9: 0.3505181139047313\n",
      "validation micro-F1 @9: 0.21981911128588283\n"
     ]
    },
    {
     "name": "stderr",
     "output_type": "stream",
     "text": [
      "\r",
      " 83%|████████▎ | 70/84 [5:34:42<1:56:28, 499.17s/it]"
     ]
    },
    {
     "name": "stdout",
     "output_type": "stream",
     "text": [
      "train micro-F1 @10: 0.33775316916800235\n",
      "validation micro-F1 @10: 0.21282643453544148\n",
      "{'clf__estimator__base_estimator__C': 10.0, 'clf__estimator__base_estimator__degree': 5, 'clf__estimator__base_estimator__kernel': 'linear'}\n",
      "train micro-F1 @1: 0.4880053015241882\n",
      "validation micro-F1 @1: 0.3655564581640942\n",
      "train micro-F1 @2: 0.42735042735042733\n",
      "validation micro-F1 @2: 0.3092436974789916\n",
      "train micro-F1 @3: 0.3873338987842805\n",
      "validation micro-F1 @3: 0.28132118451025057\n",
      "train micro-F1 @4: 0.3576158940397351\n",
      "validation micro-F1 @4: 0.2591390871728315\n",
      "train micro-F1 @5: 0.3336254747297692\n",
      "validation micro-F1 @5: 0.24921684650191436\n",
      "train micro-F1 @6: 0.31462832098096666\n",
      "validation micro-F1 @6: 0.23740692071835304\n",
      "train micro-F1 @7: 0.3007915567282322\n",
      "validation micro-F1 @7: 0.23087551815098606\n",
      "train micro-F1 @8: 0.2880189086270611\n",
      "validation micro-F1 @8: 0.22104332449160036\n",
      "train micro-F1 @9: 0.27740214418737313\n",
      "validation micro-F1 @9: 0.21472937000887313\n"
     ]
    },
    {
     "name": "stderr",
     "output_type": "stream",
     "text": [
      "\r",
      " 85%|████████▍ | 71/84 [5:41:50<1:43:35, 478.08s/it]"
     ]
    },
    {
     "name": "stdout",
     "output_type": "stream",
     "text": [
      "train micro-F1 @10: 0.26810384089873995\n",
      "validation micro-F1 @10: 0.20837043633125557\n",
      "{'clf__estimator__base_estimator__C': 10.0, 'clf__estimator__base_estimator__degree': 5, 'clf__estimator__base_estimator__kernel': 'poly'}\n"
     ]
    },
    {
     "name": "stderr",
     "output_type": "stream",
     "text": [
      "/home/felipe/tf-venv3/lib/python3.5/site-packages/sklearn/calibration.py:510: RuntimeWarning: overflow encountered in exp\n",
      "  return 1. / (1. + np.exp(self.a_ * T + self.b_))\n"
     ]
    },
    {
     "name": "stdout",
     "output_type": "stream",
     "text": [
      "train micro-F1 @1: 0.4253968253968254\n",
      "validation micro-F1 @1: 0.32053422370617696\n",
      "train micro-F1 @2: 0.37839374555792465\n",
      "validation micro-F1 @2: 0.2737022737022737\n",
      "train micro-F1 @3: 0.339366296278325\n",
      "validation micro-F1 @3: 0.2438172825138202\n",
      "train micro-F1 @4: 0.31286279439494213\n",
      "validation micro-F1 @4: 0.23004178579283044\n",
      "train micro-F1 @5: 0.29939477057929104\n",
      "validation micro-F1 @5: 0.2178919397697077\n",
      "train micro-F1 @6: 0.28892833037522186\n",
      "validation micro-F1 @6: 0.21022979985174203\n",
      "train micro-F1 @7: 0.2773691136182238\n",
      "validation micro-F1 @7: 0.20723014256619143\n",
      "train micro-F1 @8: 0.2668869518980611\n",
      "validation micro-F1 @8: 0.200760116253074\n",
      "train micro-F1 @9: 0.2561907673494344\n",
      "validation micro-F1 @9: 0.19371571072319202\n"
     ]
    },
    {
     "name": "stderr",
     "output_type": "stream",
     "text": [
      "\r",
      " 86%|████████▌ | 72/84 [5:46:39<1:24:15, 421.26s/it]"
     ]
    },
    {
     "name": "stdout",
     "output_type": "stream",
     "text": [
      "train micro-F1 @10: 0.2475921289113504\n",
      "validation micro-F1 @10: 0.1891818918189182\n",
      "{'clf__estimator__base_estimator__C': 100.0, 'clf__estimator__base_estimator__degree': 2, 'clf__estimator__base_estimator__kernel': 'rbf'}\n",
      "train micro-F1 @1: 0.6099671012550262\n",
      "validation micro-F1 @1: 0.3942537909018356\n",
      "train micro-F1 @2: 0.5535691644478256\n",
      "validation micro-F1 @2: 0.3433511733223549\n",
      "train micro-F1 @3: 0.5041958041958042\n",
      "validation micro-F1 @3: 0.3044943820224719\n",
      "train micro-F1 @4: 0.46206733847864917\n",
      "validation micro-F1 @4: 0.27702847356026544\n",
      "train micro-F1 @5: 0.4319331427314713\n",
      "validation micro-F1 @5: 0.2583102493074792\n",
      "train micro-F1 @6: 0.4085931505893841\n",
      "validation micro-F1 @6: 0.24585876198779424\n",
      "train micro-F1 @7: 0.3893830297896372\n",
      "validation micro-F1 @7: 0.23729662077596997\n",
      "train micro-F1 @8: 0.37179761649896526\n",
      "validation micro-F1 @8: 0.22750798370223543\n",
      "train micro-F1 @9: 0.35638016872908895\n",
      "validation micro-F1 @9: 0.219994102034798\n"
     ]
    },
    {
     "name": "stderr",
     "output_type": "stream",
     "text": [
      "\r",
      " 87%|████████▋ | 73/84 [5:56:25<1:26:17, 470.64s/it]"
     ]
    },
    {
     "name": "stdout",
     "output_type": "stream",
     "text": [
      "train micro-F1 @10: 0.3435698624965515\n",
      "validation micro-F1 @10: 0.2139369729249889\n",
      "{'clf__estimator__base_estimator__C': 100.0, 'clf__estimator__base_estimator__degree': 2, 'clf__estimator__base_estimator__kernel': 'linear'}\n",
      "train micro-F1 @1: 0.47016226364489744\n",
      "validation micro-F1 @1: 0.38782051282051283\n",
      "train micro-F1 @2: 0.41654521479630785\n",
      "validation micro-F1 @2: 0.3385631709331131\n",
      "train micro-F1 @3: 0.3762395027755373\n",
      "validation micro-F1 @3: 0.2982802368198478\n",
      "train micro-F1 @4: 0.34941763727121466\n",
      "validation micro-F1 @4: 0.274442538593482\n",
      "train micro-F1 @5: 0.3273217794199584\n",
      "validation micro-F1 @5: 0.25861173619525707\n",
      "train micro-F1 @6: 0.31146853491871623\n",
      "validation micro-F1 @6: 0.2463683904706566\n",
      "train micro-F1 @7: 0.2979666652457479\n",
      "validation micro-F1 @7: 0.23442396891061804\n",
      "train micro-F1 @8: 0.2854459035488174\n",
      "validation micro-F1 @8: 0.22672689214498182\n",
      "train micro-F1 @9: 0.275897969807392\n",
      "validation micro-F1 @9: 0.2215674720094284\n"
     ]
    },
    {
     "name": "stderr",
     "output_type": "stream",
     "text": [
      "\r",
      " 88%|████████▊ | 74/84 [6:38:02<2:59:46, 1078.68s/it]"
     ]
    },
    {
     "name": "stdout",
     "output_type": "stream",
     "text": [
      "train micro-F1 @10: 0.2661296451098108\n",
      "validation micro-F1 @10: 0.21361981710023972\n",
      "{'clf__estimator__base_estimator__C': 100.0, 'clf__estimator__base_estimator__degree': 2, 'clf__estimator__base_estimator__kernel': 'poly'}\n",
      "train micro-F1 @1: 0.5731081926203877\n",
      "validation micro-F1 @1: 0.37872683319903305\n",
      "train micro-F1 @2: 0.523045054375971\n",
      "validation micro-F1 @2: 0.3240316534777176\n",
      "train micro-F1 @3: 0.4735057983942908\n",
      "validation micro-F1 @3: 0.28717366628830876\n",
      "train micro-F1 @4: 0.4344186365663705\n",
      "validation micro-F1 @4: 0.2621464046642194\n",
      "train micro-F1 @5: 0.40834891313446997\n",
      "validation micro-F1 @5: 0.24738675958188153\n",
      "train micro-F1 @6: 0.386611667648792\n",
      "validation micro-F1 @6: 0.2381786339754816\n",
      "train micro-F1 @7: 0.3676206050695012\n",
      "validation micro-F1 @7: 0.23309496926358048\n",
      "train micro-F1 @8: 0.3526353790613718\n",
      "validation micro-F1 @8: 0.2251626419671408\n",
      "train micro-F1 @9: 0.3380491437081162\n",
      "validation micro-F1 @9: 0.2175410965646225\n"
     ]
    },
    {
     "name": "stderr",
     "output_type": "stream",
     "text": [
      "\r",
      " 89%|████████▉ | 75/84 [6:46:12<2:15:18, 902.03s/it] "
     ]
    },
    {
     "name": "stdout",
     "output_type": "stream",
     "text": [
      "train micro-F1 @10: 0.3242258652094718\n",
      "validation micro-F1 @10: 0.20900836745593734\n",
      "{'clf__estimator__base_estimator__C': 100.0, 'clf__estimator__base_estimator__degree': 3, 'clf__estimator__base_estimator__kernel': 'rbf'}\n",
      "train micro-F1 @1: 0.6099671012550262\n",
      "validation micro-F1 @1: 0.3942537909018356\n",
      "train micro-F1 @2: 0.5535691644478256\n",
      "validation micro-F1 @2: 0.3433511733223549\n",
      "train micro-F1 @3: 0.5041958041958042\n",
      "validation micro-F1 @3: 0.3044943820224719\n",
      "train micro-F1 @4: 0.46206733847864917\n",
      "validation micro-F1 @4: 0.27702847356026544\n",
      "train micro-F1 @5: 0.4319331427314713\n",
      "validation micro-F1 @5: 0.2583102493074792\n",
      "train micro-F1 @6: 0.4085931505893841\n",
      "validation micro-F1 @6: 0.24585876198779424\n",
      "train micro-F1 @7: 0.3893830297896372\n",
      "validation micro-F1 @7: 0.23729662077596997\n",
      "train micro-F1 @8: 0.37179761649896526\n",
      "validation micro-F1 @8: 0.22750798370223543\n",
      "train micro-F1 @9: 0.35638016872908895\n",
      "validation micro-F1 @9: 0.219994102034798\n"
     ]
    },
    {
     "name": "stderr",
     "output_type": "stream",
     "text": [
      "\r",
      " 90%|█████████ | 76/84 [6:55:58<1:47:37, 807.24s/it]"
     ]
    },
    {
     "name": "stdout",
     "output_type": "stream",
     "text": [
      "train micro-F1 @10: 0.3435698624965515\n",
      "validation micro-F1 @10: 0.2139369729249889\n",
      "{'clf__estimator__base_estimator__C': 100.0, 'clf__estimator__base_estimator__degree': 3, 'clf__estimator__base_estimator__kernel': 'linear'}\n",
      "train micro-F1 @1: 0.47016226364489744\n",
      "validation micro-F1 @1: 0.38782051282051283\n",
      "train micro-F1 @2: 0.41654521479630785\n",
      "validation micro-F1 @2: 0.3385631709331131\n",
      "train micro-F1 @3: 0.3762395027755373\n",
      "validation micro-F1 @3: 0.2982802368198478\n",
      "train micro-F1 @4: 0.34941763727121466\n",
      "validation micro-F1 @4: 0.274442538593482\n",
      "train micro-F1 @5: 0.3273217794199584\n",
      "validation micro-F1 @5: 0.25861173619525707\n",
      "train micro-F1 @6: 0.31146853491871623\n",
      "validation micro-F1 @6: 0.2463683904706566\n",
      "train micro-F1 @7: 0.2979666652457479\n",
      "validation micro-F1 @7: 0.23442396891061804\n",
      "train micro-F1 @8: 0.2854459035488174\n",
      "validation micro-F1 @8: 0.22672689214498182\n",
      "train micro-F1 @9: 0.275897969807392\n",
      "validation micro-F1 @9: 0.2215674720094284\n"
     ]
    },
    {
     "name": "stderr",
     "output_type": "stream",
     "text": [
      "\r",
      " 92%|█████████▏| 77/84 [7:37:34<2:33:15, 1313.68s/it]"
     ]
    },
    {
     "name": "stdout",
     "output_type": "stream",
     "text": [
      "train micro-F1 @10: 0.2661296451098108\n",
      "validation micro-F1 @10: 0.21361981710023972\n",
      "{'clf__estimator__base_estimator__C': 100.0, 'clf__estimator__base_estimator__degree': 3, 'clf__estimator__base_estimator__kernel': 'poly'}\n",
      "train micro-F1 @1: 0.577023824373207\n",
      "validation micro-F1 @1: 0.3761097659402744\n",
      "train micro-F1 @2: 0.5260029717682021\n",
      "validation micro-F1 @2: 0.3261231281198003\n",
      "train micro-F1 @3: 0.4728927758689929\n",
      "validation micro-F1 @3: 0.2857142857142857\n",
      "train micro-F1 @4: 0.4331284551728874\n",
      "validation micro-F1 @4: 0.25687675980073643\n",
      "train micro-F1 @5: 0.40657038299298826\n",
      "validation micro-F1 @5: 0.24371508379888268\n",
      "train micro-F1 @6: 0.38611713665943603\n",
      "validation micro-F1 @6: 0.2343132953049583\n",
      "train micro-F1 @7: 0.36798757433937584\n",
      "validation micro-F1 @7: 0.22998617569435717\n",
      "train micro-F1 @8: 0.35186188463900026\n",
      "validation micro-F1 @8: 0.22202584778526455\n",
      "train micro-F1 @9: 0.33702623906705537\n",
      "validation micro-F1 @9: 0.211908758763701\n"
     ]
    },
    {
     "name": "stderr",
     "output_type": "stream",
     "text": [
      "\r",
      " 93%|█████████▎| 78/84 [7:45:47<1:46:45, 1067.63s/it]"
     ]
    },
    {
     "name": "stdout",
     "output_type": "stream",
     "text": [
      "train micro-F1 @10: 0.32390579316221735\n",
      "validation micro-F1 @10: 0.20581416087034066\n",
      "{'clf__estimator__base_estimator__C': 100.0, 'clf__estimator__base_estimator__degree': 4, 'clf__estimator__base_estimator__kernel': 'rbf'}\n",
      "train micro-F1 @1: 0.6099671012550262\n",
      "validation micro-F1 @1: 0.3942537909018356\n",
      "train micro-F1 @2: 0.5535691644478256\n",
      "validation micro-F1 @2: 0.3433511733223549\n",
      "train micro-F1 @3: 0.5041958041958042\n",
      "validation micro-F1 @3: 0.3044943820224719\n",
      "train micro-F1 @4: 0.46206733847864917\n",
      "validation micro-F1 @4: 0.27702847356026544\n",
      "train micro-F1 @5: 0.4319331427314713\n",
      "validation micro-F1 @5: 0.2583102493074792\n",
      "train micro-F1 @6: 0.4085931505893841\n",
      "validation micro-F1 @6: 0.24585876198779424\n",
      "train micro-F1 @7: 0.3893830297896372\n",
      "validation micro-F1 @7: 0.23729662077596997\n",
      "train micro-F1 @8: 0.37179761649896526\n",
      "validation micro-F1 @8: 0.22750798370223543\n",
      "train micro-F1 @9: 0.35638016872908895\n",
      "validation micro-F1 @9: 0.219994102034798\n"
     ]
    },
    {
     "name": "stderr",
     "output_type": "stream",
     "text": [
      "\r",
      " 94%|█████████▍| 79/84 [7:55:33<1:16:54, 922.96s/it] "
     ]
    },
    {
     "name": "stdout",
     "output_type": "stream",
     "text": [
      "train micro-F1 @10: 0.3435698624965515\n",
      "validation micro-F1 @10: 0.2139369729249889\n",
      "{'clf__estimator__base_estimator__C': 100.0, 'clf__estimator__base_estimator__degree': 4, 'clf__estimator__base_estimator__kernel': 'linear'}\n",
      "train micro-F1 @1: 0.47016226364489744\n",
      "validation micro-F1 @1: 0.38782051282051283\n",
      "train micro-F1 @2: 0.41654521479630785\n",
      "validation micro-F1 @2: 0.3385631709331131\n",
      "train micro-F1 @3: 0.3762395027755373\n",
      "validation micro-F1 @3: 0.2982802368198478\n",
      "train micro-F1 @4: 0.34941763727121466\n",
      "validation micro-F1 @4: 0.274442538593482\n",
      "train micro-F1 @5: 0.3273217794199584\n",
      "validation micro-F1 @5: 0.25861173619525707\n",
      "train micro-F1 @6: 0.31146853491871623\n",
      "validation micro-F1 @6: 0.2463683904706566\n",
      "train micro-F1 @7: 0.2979666652457479\n",
      "validation micro-F1 @7: 0.23442396891061804\n",
      "train micro-F1 @8: 0.2854459035488174\n",
      "validation micro-F1 @8: 0.22672689214498182\n",
      "train micro-F1 @9: 0.275897969807392\n",
      "validation micro-F1 @9: 0.2215674720094284\n"
     ]
    },
    {
     "name": "stderr",
     "output_type": "stream",
     "text": [
      "\r",
      " 95%|█████████▌| 80/84 [8:37:12<1:33:04, 1396.02s/it]"
     ]
    },
    {
     "name": "stdout",
     "output_type": "stream",
     "text": [
      "train micro-F1 @10: 0.2661296451098108\n",
      "validation micro-F1 @10: 0.21361981710023972\n",
      "{'clf__estimator__base_estimator__C': 100.0, 'clf__estimator__base_estimator__degree': 4, 'clf__estimator__base_estimator__kernel': 'poly'}\n",
      "train micro-F1 @1: 0.5623188405797102\n",
      "validation micro-F1 @1: 0.35889070146818924\n",
      "train micro-F1 @2: 0.5133250798201603\n",
      "validation micro-F1 @2: 0.3212348769294952\n",
      "train micro-F1 @3: 0.4587255122720108\n",
      "validation micro-F1 @3: 0.28034188034188035\n",
      "train micro-F1 @4: 0.42027279651042027\n",
      "validation micro-F1 @4: 0.25157505974364547\n",
      "train micro-F1 @5: 0.39495751027069614\n",
      "validation micro-F1 @5: 0.23725249693359032\n",
      "train micro-F1 @6: 0.37400228050171036\n",
      "validation micro-F1 @6: 0.23069031217939323\n",
      "train micro-F1 @7: 0.35808865860679334\n",
      "validation micro-F1 @7: 0.22373565392861647\n",
      "train micro-F1 @8: 0.3430947150560084\n",
      "validation micro-F1 @8: 0.21571887817315152\n",
      "train micro-F1 @9: 0.3284709559781193\n",
      "validation micro-F1 @9: 0.2087248986052033\n"
     ]
    },
    {
     "name": "stderr",
     "output_type": "stream",
     "text": [
      "\r",
      " 96%|█████████▋| 81/84 [8:45:29<56:18, 1126.25s/it]  "
     ]
    },
    {
     "name": "stdout",
     "output_type": "stream",
     "text": [
      "train micro-F1 @10: 0.3145204184149873\n",
      "validation micro-F1 @10: 0.20132308242445915\n",
      "{'clf__estimator__base_estimator__C': 100.0, 'clf__estimator__base_estimator__degree': 5, 'clf__estimator__base_estimator__kernel': 'rbf'}\n",
      "train micro-F1 @1: 0.6099671012550262\n",
      "validation micro-F1 @1: 0.3942537909018356\n",
      "train micro-F1 @2: 0.5535691644478256\n",
      "validation micro-F1 @2: 0.3433511733223549\n",
      "train micro-F1 @3: 0.5041958041958042\n",
      "validation micro-F1 @3: 0.3044943820224719\n",
      "train micro-F1 @4: 0.46206733847864917\n",
      "validation micro-F1 @4: 0.27702847356026544\n",
      "train micro-F1 @5: 0.4319331427314713\n",
      "validation micro-F1 @5: 0.2583102493074792\n",
      "train micro-F1 @6: 0.4085931505893841\n",
      "validation micro-F1 @6: 0.24585876198779424\n",
      "train micro-F1 @7: 0.3893830297896372\n",
      "validation micro-F1 @7: 0.23729662077596997\n",
      "train micro-F1 @8: 0.37179761649896526\n",
      "validation micro-F1 @8: 0.22750798370223543\n",
      "train micro-F1 @9: 0.35638016872908895\n",
      "validation micro-F1 @9: 0.219994102034798\n"
     ]
    },
    {
     "name": "stderr",
     "output_type": "stream",
     "text": [
      "\r",
      " 98%|█████████▊| 82/84 [8:55:19<32:10, 965.28s/it] "
     ]
    },
    {
     "name": "stdout",
     "output_type": "stream",
     "text": [
      "train micro-F1 @10: 0.3435698624965515\n",
      "validation micro-F1 @10: 0.2139369729249889\n",
      "{'clf__estimator__base_estimator__C': 100.0, 'clf__estimator__base_estimator__degree': 5, 'clf__estimator__base_estimator__kernel': 'linear'}\n",
      "train micro-F1 @1: 0.47016226364489744\n",
      "validation micro-F1 @1: 0.38782051282051283\n",
      "train micro-F1 @2: 0.41654521479630785\n",
      "validation micro-F1 @2: 0.3385631709331131\n",
      "train micro-F1 @3: 0.3762395027755373\n",
      "validation micro-F1 @3: 0.2982802368198478\n",
      "train micro-F1 @4: 0.34941763727121466\n",
      "validation micro-F1 @4: 0.274442538593482\n",
      "train micro-F1 @5: 0.3273217794199584\n",
      "validation micro-F1 @5: 0.25861173619525707\n",
      "train micro-F1 @6: 0.31146853491871623\n",
      "validation micro-F1 @6: 0.2463683904706566\n",
      "train micro-F1 @7: 0.2979666652457479\n",
      "validation micro-F1 @7: 0.23442396891061804\n",
      "train micro-F1 @8: 0.2854459035488174\n",
      "validation micro-F1 @8: 0.22672689214498182\n",
      "train micro-F1 @9: 0.275897969807392\n",
      "validation micro-F1 @9: 0.2215674720094284\n"
     ]
    },
    {
     "name": "stderr",
     "output_type": "stream",
     "text": [
      "\r",
      " 99%|█████████▉| 83/84 [9:36:53<23:43, 1423.85s/it]"
     ]
    },
    {
     "name": "stdout",
     "output_type": "stream",
     "text": [
      "train micro-F1 @10: 0.2661296451098108\n",
      "validation micro-F1 @10: 0.21361981710023972\n",
      "{'clf__estimator__base_estimator__C': 100.0, 'clf__estimator__base_estimator__degree': 5, 'clf__estimator__base_estimator__kernel': 'poly'}\n",
      "train micro-F1 @1: 0.5361221609136404\n",
      "validation micro-F1 @1: 0.34539473684210525\n",
      "train micro-F1 @2: 0.4828778509209389\n",
      "validation micro-F1 @2: 0.30710980227177115\n",
      "train micro-F1 @3: 0.4312431243124312\n",
      "validation micro-F1 @3: 0.2685025817555938\n",
      "train micro-F1 @4: 0.39476553980370777\n",
      "validation micro-F1 @4: 0.23933493765040473\n",
      "train micro-F1 @5: 0.3725641245113983\n",
      "validation micro-F1 @5: 0.22731277533039648\n",
      "train micro-F1 @6: 0.35386354344532356\n",
      "validation micro-F1 @6: 0.22130543686459409\n",
      "train micro-F1 @7: 0.3394468704512373\n",
      "validation micro-F1 @7: 0.2185681760688085\n",
      "train micro-F1 @8: 0.32515461268833384\n",
      "validation micro-F1 @8: 0.21056142301278488\n",
      "train micro-F1 @9: 0.3113435634282331\n",
      "validation micro-F1 @9: 0.20321492359595159\n"
     ]
    },
    {
     "name": "stderr",
     "output_type": "stream",
     "text": [
      "\r",
      "100%|██████████| 84/84 [9:44:19<00:00, 1130.62s/it]"
     ]
    },
    {
     "name": "stdout",
     "output_type": "stream",
     "text": [
      "train micro-F1 @10: 0.2985070174653601\n",
      "validation micro-F1 @10: 0.19793999104343932\n",
      "CPU times: user 6h 10min 36s, sys: 1min 22s, total: 6h 11min 58s\n",
      "Wall time: 9h 44min 19s\n"
     ]
    },
    {
     "name": "stderr",
     "output_type": "stream",
     "text": [
      "\n"
     ]
    }
   ],
   "source": [
    "%%time\n",
    "\n",
    "for g in tqdm(ParameterGrid(grid_search_parameters)):\n",
    "    print(g)\n",
    "    \n",
    "    pipeline.set_params(**g)\n",
    "    \n",
    "    pipeline.fit(X_train_boe,Y_train)\n",
    "    \n",
    "    Y_pred_train = pipeline.predict_proba(X_train_boe)    \n",
    "    Y_pred_val = pipeline.predict_proba(X_val_boe)\n",
    "    \n",
    "    ks = [1,2,3,4,5,6,7,8,9,10]\n",
    "\n",
    "    for k in ks:\n",
    "        print(\"train micro-F1 @{}: {}\".format(k,ranking.micro_f1_at_k(Y_train,Y_pred_train,k=k,normalize=True)))\n",
    "        print(\"validation micro-F1 @{}: {}\".format(k,ranking.micro_f1_at_k(Y_val,Y_pred_val,k=k,normalize=True)))    "
   ]
  },
  {
   "cell_type": "code",
   "execution_count": 24,
   "metadata": {
    "scrolled": false
   },
   "outputs": [
    {
     "name": "stderr",
     "output_type": "stream",
     "text": [
      "\n",
      "  0%|          | 0/6 [00:00<?, ?it/s]\u001b[A"
     ]
    },
    {
     "name": "stdout",
     "output_type": "stream",
     "text": [
      "{'clf__estimator__base_estimator__C': 10, 'clf__estimator__base_estimator__kernel': 'rbf'}\n"
     ]
    },
    {
     "name": "stderr",
     "output_type": "stream",
     "text": [
      "\n",
      "\n",
      "\n",
      "\n",
      "\n",
      "\n",
      "\n",
      "\n",
      "\n"
     ]
    },
    {
     "name": "stdout",
     "output_type": "stream",
     "text": [
      "train micro-F1 @1: 0.6012751348700344\n",
      "validation micro-F1 @1: 0.3865276663993585\n",
      "train micro-F1 @2: 0.5408032744947557\n",
      "validation micro-F1 @2: 0.3289036544850498\n",
      "train micro-F1 @3: 0.49670561363436705\n",
      "validation micro-F1 @3: 0.2987598647125141\n",
      "train micro-F1 @4: 0.45603112840466925\n",
      "validation micro-F1 @4: 0.2748124330117899\n",
      "train micro-F1 @5: 0.424875044873388\n",
      "validation micro-F1 @5: 0.2571032571032571\n",
      "train micro-F1 @6: 0.4021663009477567\n",
      "validation micro-F1 @6: 0.2463683904706566\n",
      "train micro-F1 @7: 0.3825977761124501\n",
      "validation micro-F1 @7: 0.23773773773773774\n",
      "train micro-F1 @8: 0.3646202917249041\n",
      "validation micro-F1 @8: 0.22633608815426998\n",
      "train micro-F1 @9: 0.3505181139047313\n",
      "validation micro-F1 @9: 0.21981911128588283\n"
     ]
    },
    {
     "name": "stderr",
     "output_type": "stream",
     "text": [
      "\r",
      " 17%|█▋        | 1/6 [11:27<57:16, 687.39s/it]"
     ]
    },
    {
     "name": "stdout",
     "output_type": "stream",
     "text": [
      "train micro-F1 @10: 0.33775316916800235\n",
      "validation micro-F1 @10: 0.21282643453544148\n",
      "{'clf__estimator__base_estimator__C': 50, 'clf__estimator__base_estimator__kernel': 'rbf'}\n",
      "train micro-F1 @1: 0.6125030406227195\n",
      "validation micro-F1 @1: 0.389111289031225\n",
      "train micro-F1 @2: 0.5543023697883664\n",
      "validation micro-F1 @2: 0.3440329218106996\n",
      "train micro-F1 @3: 0.5032799790081344\n",
      "validation micro-F1 @3: 0.30354131534569984\n",
      "train micro-F1 @4: 0.4629479924548639\n",
      "validation micro-F1 @4: 0.2781343602909713\n",
      "train micro-F1 @5: 0.43227792436235707\n",
      "validation micro-F1 @5: 0.2610198789974071\n",
      "train micro-F1 @6: 0.40911098198721674\n",
      "validation micro-F1 @6: 0.24585876198779424\n",
      "train micro-F1 @7: 0.3887655865380735\n",
      "validation micro-F1 @7: 0.2364137240170298\n",
      "train micro-F1 @8: 0.37173951828724355\n",
      "validation micro-F1 @8: 0.2269222295659837\n",
      "train micro-F1 @9: 0.356985117618819\n",
      "validation micro-F1 @9: 0.22121807465618862\n"
     ]
    },
    {
     "name": "stderr",
     "output_type": "stream",
     "text": [
      "\r",
      " 33%|███▎      | 2/6 [22:27<45:17, 679.26s/it]"
     ]
    },
    {
     "name": "stdout",
     "output_type": "stream",
     "text": [
      "train micro-F1 @10: 0.34311276360890025\n",
      "validation micro-F1 @10: 0.2139369729249889\n",
      "{'clf__estimator__base_estimator__C': 100, 'clf__estimator__base_estimator__kernel': 'rbf'}\n",
      "train micro-F1 @1: 0.6099671012550262\n",
      "validation micro-F1 @1: 0.3942537909018356\n",
      "train micro-F1 @2: 0.5535691644478256\n",
      "validation micro-F1 @2: 0.3433511733223549\n",
      "train micro-F1 @3: 0.5041958041958042\n",
      "validation micro-F1 @3: 0.3044943820224719\n",
      "train micro-F1 @4: 0.46206733847864917\n",
      "validation micro-F1 @4: 0.27702847356026544\n",
      "train micro-F1 @5: 0.4319331427314713\n",
      "validation micro-F1 @5: 0.2583102493074792\n",
      "train micro-F1 @6: 0.4085931505893841\n",
      "validation micro-F1 @6: 0.24585876198779424\n",
      "train micro-F1 @7: 0.3893830297896372\n",
      "validation micro-F1 @7: 0.23729662077596997\n",
      "train micro-F1 @8: 0.37179761649896526\n",
      "validation micro-F1 @8: 0.22750798370223543\n",
      "train micro-F1 @9: 0.35638016872908895\n",
      "validation micro-F1 @9: 0.219994102034798\n"
     ]
    },
    {
     "name": "stderr",
     "output_type": "stream",
     "text": [
      "\r",
      " 50%|█████     | 3/6 [33:19<33:33, 671.06s/it]"
     ]
    },
    {
     "name": "stdout",
     "output_type": "stream",
     "text": [
      "train micro-F1 @10: 0.3435698624965515\n",
      "validation micro-F1 @10: 0.2139369729249889\n",
      "{'clf__estimator__base_estimator__C': 200, 'clf__estimator__base_estimator__kernel': 'rbf'}\n",
      "train micro-F1 @1: 0.6096282754418038\n",
      "validation micro-F1 @1: 0.39681274900398406\n",
      "train micro-F1 @2: 0.5555836920739428\n",
      "validation micro-F1 @2: 0.342668863261944\n",
      "train micro-F1 @3: 0.5049145952557774\n",
      "validation micro-F1 @3: 0.30829596412556054\n",
      "train micro-F1 @4: 0.4642412412075522\n",
      "validation micro-F1 @4: 0.2777658891504387\n",
      "train micro-F1 @5: 0.43318225518472736\n",
      "validation micro-F1 @5: 0.26041846792322326\n",
      "train micro-F1 @6: 0.41084695393759285\n",
      "validation micro-F1 @6: 0.2514484356894554\n",
      "train micro-F1 @7: 0.3909083581848956\n",
      "validation micro-F1 @7: 0.23972003499562555\n",
      "train micro-F1 @8: 0.37290069531110714\n",
      "validation micro-F1 @8: 0.23159745110964622\n",
      "train micro-F1 @9: 0.35711656932554603\n",
      "validation micro-F1 @9: 0.2215674720094284\n"
     ]
    },
    {
     "name": "stderr",
     "output_type": "stream",
     "text": [
      "\r",
      " 67%|██████▋   | 4/6 [44:09<22:09, 664.74s/it]"
     ]
    },
    {
     "name": "stdout",
     "output_type": "stream",
     "text": [
      "train micro-F1 @10: 0.34337743055051334\n",
      "validation micro-F1 @10: 0.2150461320085167\n",
      "{'clf__estimator__base_estimator__C': 500, 'clf__estimator__base_estimator__kernel': 'rbf'}\n",
      "train micro-F1 @1: 0.6172121212121212\n",
      "validation micro-F1 @1: 0.3980891719745223\n",
      "train micro-F1 @2: 0.5618657421998109\n",
      "validation micro-F1 @2: 0.34743326488706366\n",
      "train micro-F1 @3: 0.511546992562954\n",
      "validation micro-F1 @3: 0.3101903695408735\n",
      "train micro-F1 @4: 0.470367390721373\n",
      "validation micro-F1 @4: 0.2825437473324797\n",
      "train micro-F1 @5: 0.43995295790826794\n",
      "validation micro-F1 @5: 0.26611513271285764\n",
      "train micro-F1 @6: 0.41669172584487985\n",
      "validation micro-F1 @6: 0.2547347115801648\n",
      "train micro-F1 @7: 0.39640146190610065\n",
      "validation micro-F1 @7: 0.24476570289132601\n",
      "train micro-F1 @8: 0.37773077128179605\n",
      "validation micro-F1 @8: 0.2325683540133963\n",
      "train micro-F1 @9: 0.3615995914850158\n",
      "validation micro-F1 @9: 0.22278928255962313\n"
     ]
    },
    {
     "name": "stderr",
     "output_type": "stream",
     "text": [
      "\r",
      " 83%|████████▎ | 5/6 [54:28<10:50, 650.84s/it]"
     ]
    },
    {
     "name": "stdout",
     "output_type": "stream",
     "text": [
      "train micro-F1 @10: 0.3472654835204636\n",
      "validation micro-F1 @10: 0.2145709468453279\n",
      "{'clf__estimator__base_estimator__C': 1000, 'clf__estimator__base_estimator__kernel': 'rbf'}\n",
      "train micro-F1 @1: 0.6248794599807136\n",
      "validation micro-F1 @1: 0.39681274900398406\n",
      "train micro-F1 @2: 0.5691709519628747\n",
      "validation micro-F1 @2: 0.3501435014350143\n",
      "train micro-F1 @3: 0.5170292053037525\n",
      "validation micro-F1 @3: 0.31302403577417554\n",
      "train micro-F1 @4: 0.4749682507853753\n",
      "validation micro-F1 @4: 0.28291017708555577\n",
      "train micro-F1 @5: 0.4450139032768115\n",
      "validation micro-F1 @5: 0.26521814105880326\n",
      "train micro-F1 @6: 0.42162062445233595\n",
      "validation micro-F1 @6: 0.25246091488129707\n",
      "train micro-F1 @7: 0.40083306632489585\n",
      "validation micro-F1 @7: 0.24213679480778832\n",
      "train micro-F1 @8: 0.3814134964972954\n",
      "validation micro-F1 @8: 0.23081996043086392\n",
      "train micro-F1 @9: 0.3641056690354036\n",
      "validation micro-F1 @9: 0.22069372113589467\n"
     ]
    },
    {
     "name": "stderr",
     "output_type": "stream",
     "text": [
      "\r",
      "100%|██████████| 6/6 [1:04:49<00:00, 641.94s/it]"
     ]
    },
    {
     "name": "stdout",
     "output_type": "stream",
     "text": [
      "train micro-F1 @10: 0.3499428670610527\n",
      "validation micro-F1 @10: 0.21567931890741399\n",
      "CPU times: user 52min 19s, sys: 8.03 s, total: 52min 27s\n",
      "Wall time: 1h 4min 49s\n"
     ]
    },
    {
     "name": "stderr",
     "output_type": "stream",
     "text": [
      "\n"
     ]
    }
   ],
   "source": [
    "%%time\n",
    "grid_search_parameters = [\n",
    "    { \n",
    "        \"clf__estimator__base_estimator__kernel\": ['rbf'],\n",
    "        \"clf__estimator__base_estimator__C\":[10,50,100,200,500,1000]\n",
    "    }\n",
    "]\n",
    "for g in tqdm(ParameterGrid(grid_search_parameters)):\n",
    "    print(g)\n",
    "    \n",
    "    pipeline.set_params(**g)\n",
    "    \n",
    "    pipeline.fit(X_train_boe,Y_train)\n",
    "    \n",
    "    Y_pred_train = pipeline.predict_proba(X_train_boe)    \n",
    "    Y_pred_val = pipeline.predict_proba(X_val_boe)\n",
    "    \n",
    "    ks = [1,2,3,4,5,6,7,8,9,10]\n",
    "\n",
    "    for k in ks:\n",
    "        print(\"train micro-F1 @{}: {}\".format(k,ranking.micro_f1_at_k(Y_train,Y_pred_train,k=k,normalize=True)))\n",
    "        print(\"validation micro-F1 @{}: {}\".format(k,ranking.micro_f1_at_k(Y_val,Y_pred_val,k=k,normalize=True)))    "
   ]
  },
  {
   "cell_type": "code",
   "execution_count": null,
   "metadata": {
    "collapsed": true
   },
   "outputs": [],
   "source": [
    "ks = [1,2,3,4,5,6,7,8,9,10]\n",
    "\n",
    "train_scores = [ranking.micro_f1_at_k(Y_train,Y_pred_train,k=k,normalize=True) for k in ks]\n",
    "validation_scores = [ranking.micro_f1_at_k(Y_val,Y_pred_val,k=k,normalize=True) for k in ks]"
   ]
  },
  {
   "cell_type": "code",
   "execution_count": null,
   "metadata": {
    "collapsed": true
   },
   "outputs": [],
   "source": []
  },
  {
   "cell_type": "code",
   "execution_count": null,
   "metadata": {
    "collapsed": true
   },
   "outputs": [],
   "source": [
    "plt.clf()\n",
    "img = plt.gcf()\n",
    "ax = plt.gca()\n",
    "plot_micro_f1_at_k(validation_scores,ax,train_scores)\n",
    "plt.gcf().set_size_inches(7,5)\n",
    "plt.show()"
   ]
  }
 ],
 "metadata": {
  "kernelspec": {
   "display_name": "Python 3",
   "language": "python",
   "name": "python3"
  },
  "language_info": {
   "codemirror_mode": {
    "name": "ipython",
    "version": 3
   },
   "file_extension": ".py",
   "mimetype": "text/x-python",
   "name": "python",
   "nbconvert_exporter": "python",
   "pygments_lexer": "ipython3",
   "version": "3.5.2"
  }
 },
 "nbformat": 4,
 "nbformat_minor": 2
}
