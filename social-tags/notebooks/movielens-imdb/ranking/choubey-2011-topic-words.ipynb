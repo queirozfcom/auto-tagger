{
 "cells": [
  {
   "cell_type": "markdown",
   "metadata": {},
   "source": [
    "see http://krex.k-state.edu/dspace/bitstream/handle/2097/9785/RahulChoubey2011.pdf\n",
    "\n",
    "This is an implementation of the first method of the two described above.\n",
    "\n",
    "Extract topics from the dataset using LDA then, for each test document, find out what are the most significant topics for it. Then they take the top 5 most likely words for the most likely topic and use those as recommendations."
   ]
  },
  {
   "cell_type": "code",
   "execution_count": null,
   "metadata": {},
   "outputs": [],
   "source": [
    "import pandas as pd\n",
    "import numpy as np\n",
    "import matplotlib.pyplot as plt\n",
    "import gc\n",
    "import os\n",
    "import re\n",
    "import pickle\n",
    "import sklearn\n",
    "import sys\n",
    "import string\n",
    "\n",
    "from sklearn.externals import joblib\n",
    "from sklearn.decomposition import LatentDirichletAllocation\n",
    "from sklearn.metrics import f1_score, precision_score, recall_score\n",
    "from sklearn.metrics.pairwise import cosine_similarity,cosine_distances\n",
    "from sklearn.model_selection import cross_val_score, GridSearchCV,ParameterGrid, train_test_split\n",
    "from sklearn.multiclass import OneVsRestClassifier\n",
    "from sklearn.preprocessing import MultiLabelBinarizer\n",
    "from sklearn.feature_extraction.text import CountVectorizer\n",
    "from sklearn.feature_extraction.text import TfidfTransformer,TfidfVectorizer\n",
    "from sklearn.pipeline import Pipeline\n",
    "from sklearn.neighbors import KNeighborsClassifier,NearestNeighbors\n",
    "\n",
    "from tqdm import *\n",
    "\n",
    "%matplotlib inline\n",
    "%load_ext autoreload\n",
    "%autoreload 2"
   ]
  },
  {
   "cell_type": "code",
   "execution_count": null,
   "metadata": {},
   "outputs": [],
   "source": [
    "src_dir = os.path.join(os.getcwd(), os.pardir, '../../')\n",
    "sys.path.append(src_dir)"
   ]
  },
  {
   "cell_type": "code",
   "execution_count": null,
   "metadata": {},
   "outputs": [],
   "source": [
    "%aimport src.data.movielens_20m_imdb\n",
    "%aimport src.helpers.labels,src.helpers.neighbours, src.helpers.topics\n",
    "%aimport src.utils.dataframes, src.utils.clusters, src.utils.metrics"
   ]
  },
  {
   "cell_type": "code",
   "execution_count": null,
   "metadata": {},
   "outputs": [],
   "source": [
    "from src.data.movielens_20m_imdb import load_df_or_get_from_cache\n",
    "from src.helpers.labels import truncate_labels\n",
    "from src.helpers.neighbours import get_predicted_labels_from_neighbours\n",
    "from src.helpers.segments import make_distance_matrix_for_segments,vectorize_segments\n",
    "from src.helpers.topics import get_word_weight_dict\n",
    "\n",
    "from src.utils.dataframes import sample_rows\n",
    "from src.utils.metrics import ranking"
   ]
  },
  {
   "cell_type": "code",
   "execution_count": null,
   "metadata": {},
   "outputs": [],
   "source": [
    "MODELS_ROOT = os.path.abspath(\"../../../models/ranking/movielens-topics/\")\n",
    "INTERIM_DATA_ROOT = os.path.abspath(\"../../../data/interim/movielens-ml20m-imdb/\")\n",
    "PATH_TO_PROCESSED_FILE = os.path.abspath('../../../data/processed/movielens-20m-imdb-tags-and-synopses-2017-12-13.csv')\n",
    "\n",
    "# CONFIGS\n",
    "\n",
    "SEED= 42\n",
    "\n",
    "MAX_NB_WORDS = 5000\n",
    "\n",
    "# for sampling\n",
    "MIN_TAG_DF = 10\n",
    "\n",
    "STOP_WORDS='english' # using stopwords since most people using LDA do this\n",
    "NB_COMPONENTS = [50,100,200,400]"
   ]
  },
  {
   "cell_type": "code",
   "execution_count": null,
   "metadata": {},
   "outputs": [],
   "source": [
    "np.random.seed(SEED)"
   ]
  },
  {
   "cell_type": "code",
   "execution_count": null,
   "metadata": {},
   "outputs": [],
   "source": [
    "docs_df = load_df_or_get_from_cache(PATH_TO_PROCESSED_FILE,INTERIM_DATA_ROOT)"
   ]
  },
  {
   "cell_type": "code",
   "execution_count": null,
   "metadata": {},
   "outputs": [],
   "source": [
    "docs_df.head()"
   ]
  },
  {
   "cell_type": "code",
   "execution_count": null,
   "metadata": {},
   "outputs": [],
   "source": [
    "docs_df.describe()"
   ]
  },
  {
   "cell_type": "code",
   "execution_count": null,
   "metadata": {},
   "outputs": [],
   "source": [
    "data = docs_df['synopsis'].values\n",
    "labels = docs_df[\"tags\"].map(lambda tagstring: tagstring.split(\",\"))"
   ]
  },
  {
   "cell_type": "code",
   "execution_count": null,
   "metadata": {},
   "outputs": [],
   "source": [
    "mlb = MultiLabelBinarizer()\n",
    "\n",
    "truncated_labels = truncate_labels(labels,MIN_TAG_DF)\n",
    "\n",
    "binary_labels = mlb.fit_transform(truncated_labels)\n",
    "\n",
    "print(\"total number of unique tags: {} \".format(len(mlb.classes_)))\n",
    "\n",
    "indices = np.arange(len(data))\n",
    "np.random.shuffle(indices)\n",
    "\n",
    "data = [data[i] for i in indices]\n",
    "targets = binary_labels[indices]\n",
    "num_validation_samples = int(0.15 * len(data))\n",
    "\n",
    "X_train = data[:-num_validation_samples]\n",
    "Y_train = targets[:-num_validation_samples]\n",
    "X_val = data[-num_validation_samples:]\n",
    "Y_val = targets[-num_validation_samples:]\n",
    "\n",
    "print('total number of train documents: {}'.format(len(X_train)))\n",
    "print('total number of validation documents: {}'.format(len(X_val)))"
   ]
  },
  {
   "cell_type": "code",
   "execution_count": null,
   "metadata": {},
   "outputs": [],
   "source": [
    "vect = CountVectorizer(max_features=MAX_NB_WORDS, stop_words=STOP_WORDS)\n",
    "# it's ok to fit in the whole data since this is not training a model\n",
    "vect.fit(data)\n",
    "\n",
    "X_train_vect = vect.transform(X_train)\n",
    "X_val_vect = vect.transform(X_val)"
   ]
  },
  {
   "cell_type": "code",
   "execution_count": null,
   "metadata": {},
   "outputs": [],
   "source": [
    "%%time\n",
    "\n",
    "lda = dict()\n",
    "\n",
    "for nb_comp in NB_COMPONENTS:\n",
    "\n",
    "    if os.path.isfile(MODELS_ROOT+\"/lda-{}.p\".format(nb_comp)):\n",
    "        lda[nb_comp]=joblib.load(open(MODELS_ROOT+\"/lda-{}.p\".format(nb_comp),\"rb\"))\n",
    "    \n",
    "    else:\n",
    "        lda[nb_comp] = LatentDirichletAllocation(n_components=nb_comp, learning_method='online')\n",
    "        lda[nb_comp].fit(X_train_vect)\n",
    "        joblib.dump(lda[nb_comp],open(MODELS_ROOT+\"/lda-{}.p\".format(nb_comp),\"wb\"))"
   ]
  },
  {
   "cell_type": "code",
   "execution_count": null,
   "metadata": {},
   "outputs": [],
   "source": [
    "def train_and_score(nb_comp):\n",
    "    \n",
    "    vocabulary = vect.get_feature_names()\n",
    "    tag_vocabulary = mlb.classes_\n",
    "    \n",
    "    model = lda[nb_comp]\n",
    "    \n",
    "    X_train = model.transform(X_train_vect)\n",
    "    X_val = model.transform(X_val_vect)\n",
    "    \n",
    "    # training\n",
    "    \n",
    "    Y_pred_train = []\n",
    "\n",
    "    for (i,test_document_topics_distr) in enumerate(X_train):\n",
    "\n",
    "        # 'word' => weight in topic\n",
    "        word_weight_dict = get_word_weight_dict(model,0,vocabulary)\n",
    "\n",
    "        # only keep words that are valid tags\n",
    "        valid_tag_elems = [(k,v) for (k,v) in word_weight_dict.items() if k in tag_vocabulary]\n",
    "\n",
    "        valid_word_weight_dict = dict(valid_tag_elems)\n",
    "        valid_words = valid_word_weight_dict.keys()\n",
    "\n",
    "        # make a dummy y_score out of that (the numbers aren't probabililties\n",
    "        # but we're only interested in the ranking, not absolute numbers)\n",
    "        y_scores_dummy = [valid_word_weight_dict[tag_value] if tag_value in valid_words else 0.0 for (tag_index,tag_value) in enumerate(tag_vocabulary)]\n",
    "\n",
    "        y_scores_dummy = np.array(y_scores_dummy)\n",
    "\n",
    "        Y_pred_train.append(y_scores_dummy)\n",
    "\n",
    "    Y_pred_train = np.array(Y_pred_train)\n",
    "    \n",
    "    \n",
    "    # validation\n",
    "    \n",
    "    Y_pred_val = []\n",
    "\n",
    "    for (i,test_document_topics_distr) in enumerate(X_val):\n",
    "\n",
    "        # 'word' => weight in topic\n",
    "        word_weight_dict = get_word_weight_dict(model,0,vocabulary)\n",
    "\n",
    "        # only keep words that are valid tags\n",
    "        valid_tag_elems = [(k,v) for (k,v) in word_weight_dict.items() if k in tag_vocabulary]\n",
    "\n",
    "        valid_word_weight_dict = dict(valid_tag_elems)\n",
    "        valid_words = valid_word_weight_dict.keys()\n",
    "\n",
    "        # make a dummy y_score out of that (the numbers aren't probabililties\n",
    "        # but we're only interested in the ranking, not absolute numbers)\n",
    "        y_scores_dummy = [valid_word_weight_dict[tag_value] if tag_value in valid_words else 0.0 for (tag_index,tag_value) in enumerate(tag_vocabulary)]\n",
    "\n",
    "        y_scores_dummy = np.array(y_scores_dummy)\n",
    "\n",
    "        Y_pred_val.append(y_scores_dummy)\n",
    "\n",
    "    Y_pred_val = np.array(Y_pred_val)\n",
    "    \n",
    "    # scoring\n",
    "    \n",
    "    print(\"scoring for nb_comp={}\".format(nb_comp))\n",
    "    \n",
    "    print(X_train.shape,X_val.shape,Y_train.shape,Y_val.shape)\n",
    "    \n",
    "    ks = [1,2,3,4,5,6,7,8,9,10]\n",
    "\n",
    "    for k in ks:\n",
    "        print(\"train micro-F1 @{}: {}\".format(k,ranking.micro_f1_at_k(Y_train,Y_pred_train,k=k)))\n",
    "        print(\"validation micro-F1 @{}: {}\".format(k,ranking.micro_f1_at_k(Y_val,Y_pred_val,k=k)))\n",
    "    \n",
    "    for k in ks:\n",
    "        print(\"train micro-F1 @{}: {}\".format(k,ranking.micro_f1_at_k(Y_train,Y_pred_train,k=k,normalize=True)))\n",
    "        print(\"validation micro-F1 @{}: {}\".format(k,ranking.micro_f1_at_k(Y_val,Y_pred_val,k=k,normalize=True)))\n",
    "        \n",
    "    print(\"\\n\")    "
   ]
  },
  {
   "cell_type": "code",
   "execution_count": null,
   "metadata": {},
   "outputs": [],
   "source": [
    "for nb_comp in NB_COMPONENTS:\n",
    "    train_and_score(nb_comp)"
   ]
  }
 ],
 "metadata": {
  "kernelspec": {
   "display_name": "Python 3",
   "language": "python",
   "name": "python3"
  },
  "language_info": {
   "codemirror_mode": {
    "name": "ipython",
    "version": 3
   },
   "file_extension": ".py",
   "mimetype": "text/x-python",
   "name": "python",
   "nbconvert_exporter": "python",
   "pygments_lexer": "ipython3",
   "version": "3.4.3"
  }
 },
 "nbformat": 4,
 "nbformat_minor": 2
}
