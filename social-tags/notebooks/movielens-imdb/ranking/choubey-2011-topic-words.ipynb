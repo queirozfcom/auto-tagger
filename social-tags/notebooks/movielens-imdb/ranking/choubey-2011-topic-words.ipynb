{
 "cells": [
  {
   "cell_type": "markdown",
   "metadata": {},
   "source": [
    "see http://krex.k-state.edu/dspace/bitstream/handle/2097/9785/RahulChoubey2011.pdf\n",
    "\n",
    "This is an implementation of the first method of the two described above.\n",
    "\n",
    "Extract topics from the dataset using LDA then, for each test document, find out what are the most significant topics for it. Then they take the top 5 most likely words for the most likely topic and use those as recommendations."
   ]
  },
  {
   "cell_type": "code",
   "execution_count": 1,
   "metadata": {
    "collapsed": true
   },
   "outputs": [],
   "source": [
    "import pandas as pd\n",
    "import numpy as np\n",
    "import matplotlib.pyplot as plt\n",
    "import gc\n",
    "import os\n",
    "import re\n",
    "import pickle\n",
    "import sklearn\n",
    "import sys\n",
    "import string\n",
    "from datetime import datetime\n",
    "\n",
    "from sklearn.externals import joblib\n",
    "from sklearn.decomposition import LatentDirichletAllocation\n",
    "from sklearn.metrics import f1_score, precision_score, recall_score\n",
    "from sklearn.metrics.pairwise import cosine_similarity,cosine_distances\n",
    "from sklearn.model_selection import cross_val_score, GridSearchCV,ParameterGrid, train_test_split\n",
    "from sklearn.multiclass import OneVsRestClassifier\n",
    "from sklearn.preprocessing import MultiLabelBinarizer\n",
    "from sklearn.feature_extraction.text import CountVectorizer\n",
    "from sklearn.feature_extraction.text import TfidfTransformer,TfidfVectorizer\n",
    "from sklearn.pipeline import Pipeline\n",
    "from sklearn.neighbors import KNeighborsClassifier,NearestNeighbors\n",
    "\n",
    "from tqdm import *\n",
    "\n",
    "%matplotlib inline\n",
    "%load_ext autoreload\n",
    "%autoreload 2"
   ]
  },
  {
   "cell_type": "code",
   "execution_count": 2,
   "metadata": {
    "collapsed": true
   },
   "outputs": [],
   "source": [
    "src_dir = os.path.join(os.getcwd(), os.pardir, '../../')\n",
    "sys.path.append(src_dir)"
   ]
  },
  {
   "cell_type": "code",
   "execution_count": 3,
   "metadata": {
    "collapsed": true
   },
   "outputs": [],
   "source": [
    "%aimport src.data.movielens_20m_imdb\n",
    "%aimport src.helpers.labels,src.helpers.neighbours, src.helpers.topics\n",
    "%aimport src.utils.dataframes, src.utils.clusters, src.utils.metrics"
   ]
  },
  {
   "cell_type": "code",
   "execution_count": 4,
   "metadata": {
    "collapsed": true
   },
   "outputs": [],
   "source": [
    "from src.data.movielens_20m_imdb import load_df_or_get_from_cache\n",
    "from src.helpers.labels import truncate_labels\n",
    "from src.helpers.segments import make_distance_matrix_for_segments,vectorize_segments\n",
    "from src.helpers.topics import get_word_weight_dict\n",
    "\n",
    "from src.utils.dataframes import sample_rows\n",
    "from src.utils.metrics import ranking"
   ]
  },
  {
   "cell_type": "code",
   "execution_count": 5,
   "metadata": {
    "collapsed": true
   },
   "outputs": [],
   "source": [
    "MODELS_ROOT = os.path.abspath(\"../../../models/ranking/movielens-topics/\")\n",
    "INTERIM_DATA_ROOT = os.path.abspath(\"../../../data/interim/movielens-ml20m-imdb/\")\n",
    "PATH_TO_PROCESSED_FILE = os.path.abspath('../../../data/processed/movielens-20m-imdb-tags-and-synopses-2017-12-13.csv')\n",
    "OUTPUT_FILE = 'output-topic-words-'+ datetime.now().strftime('%Y-%m-%d-%H-%M-%S')+'.txt'\n",
    "\n",
    "# CONFIGS\n",
    "\n",
    "SEED= 42\n",
    "\n",
    "MAX_NB_WORDS = 500\n",
    "\n",
    "# for sampling\n",
    "MIN_TAG_DF = 10\n",
    "\n",
    "NB_COMPONENTS = [50,100,200,300]"
   ]
  },
  {
   "cell_type": "code",
   "execution_count": 6,
   "metadata": {
    "collapsed": true
   },
   "outputs": [],
   "source": [
    "np.random.seed(SEED)"
   ]
  },
  {
   "cell_type": "code",
   "execution_count": 7,
   "metadata": {
    "collapsed": true
   },
   "outputs": [],
   "source": [
    "docs_df = load_df_or_get_from_cache(PATH_TO_PROCESSED_FILE,INTERIM_DATA_ROOT)"
   ]
  },
  {
   "cell_type": "code",
   "execution_count": 8,
   "metadata": {
    "collapsed": true
   },
   "outputs": [],
   "source": [
    "labels = docs_df[\"tags\"].map(lambda tagstring: tagstring.split(\",\"))"
   ]
  },
  {
   "cell_type": "code",
   "execution_count": 9,
   "metadata": {},
   "outputs": [
    {
     "name": "stdout",
     "output_type": "stream",
     "text": [
      "total number of unique tags: 2138 \n",
      "total number of train documents: 5704\n",
      "total number of validation documents: 1006\n"
     ]
    }
   ],
   "source": [
    "mlb = MultiLabelBinarizer()\n",
    "\n",
    "binary_labels = mlb.fit_transform(labels)\n",
    "\n",
    "print(\"total number of unique tags: {} \".format(len(mlb.classes_)))\n",
    "\n",
    "data = docs_df['synopsis'].values\n",
    "indices = np.arange(len(data))\n",
    "\n",
    "np.random.shuffle(indices)\n",
    "\n",
    "data = [data[i] for i in indices]\n",
    "targets = binary_labels[indices]\n",
    "num_validation_samples = int(0.15 * len(data))\n",
    "\n",
    "X_train = data[:-num_validation_samples]\n",
    "Y_train = targets[:-num_validation_samples]\n",
    "X_val = data[-num_validation_samples:]\n",
    "Y_val = targets[-num_validation_samples:]\n",
    "\n",
    "print('total number of train documents: {}'.format(len(X_train)))\n",
    "print('total number of validation documents: {}'.format(len(X_val)))"
   ]
  },
  {
   "cell_type": "code",
   "execution_count": 10,
   "metadata": {
    "collapsed": true
   },
   "outputs": [],
   "source": [
    "vect = CountVectorizer(max_features=MAX_NB_WORDS)\n",
    "# it's ok to fit in the whole data since this is not training a model\n",
    "vect.fit(data)\n",
    "\n",
    "X_train_vect = vect.transform(X_train)\n",
    "X_val_vect = vect.transform(X_val)"
   ]
  },
  {
   "cell_type": "code",
   "execution_count": 11,
   "metadata": {},
   "outputs": [
    {
     "name": "stdout",
     "output_type": "stream",
     "text": [
      "nb_comp=50\n",
      "nb_comp=100\n",
      "nb_comp=200\n",
      "nb_comp=300\n",
      "CPU times: user 4 ms, sys: 0 ns, total: 4 ms\n",
      "Wall time: 4.82 ms\n"
     ]
    }
   ],
   "source": [
    "%%time\n",
    "\n",
    "lda = dict()\n",
    "\n",
    "for nb_comp in NB_COMPONENTS:\n",
    "    print('nb_comp={}'.format(nb_comp))\n",
    "    \n",
    "    cache_path = INTERIM_DATA_ROOT+\"/lda-NBCOMPS={}NBWORDS={}SEED={}.p\".format(nb_comp,MAX_NB_WORDS,SEED)\n",
    "    \n",
    "    if os.path.isfile(cache_path):\n",
    "        lda[nb_comp]=joblib.load(open(cache_path,\"rb\"))\n",
    "    else:\n",
    "        lda[nb_comp] = LatentDirichletAllocation(n_components=nb_comp, learning_method='online')\n",
    "        lda[nb_comp].fit(X_train_vect)\n",
    "        joblib.dump(lda[nb_comp],open(cache_path,\"wb\"))"
   ]
  },
  {
   "cell_type": "code",
   "execution_count": 20,
   "metadata": {
    "collapsed": true
   },
   "outputs": [],
   "source": [
    "def train_and_score(nb_comp,results_dict):\n",
    "    \n",
    "    vocabulary = vect.get_feature_names()\n",
    "    tag_vocabulary = mlb.classes_\n",
    "    \n",
    "    model = lda[nb_comp]\n",
    "    \n",
    "    X_train = model.transform(X_train_vect)\n",
    "    X_val = model.transform(X_val_vect)\n",
    "    \n",
    "#     # training\n",
    "    \n",
    "#     Y_pred_train = []\n",
    "\n",
    "#     for (i,test_document_topics_distr) in enumerate(X_train):\n",
    "               \n",
    "#         most_important_topic_index = np.argsort(test_document_topics_distr)[-1]    \n",
    "            \n",
    "#         # 'word' => weight in topic\n",
    "#         word_weight_dict = get_word_weight_dict(model,most_important_topic_index,vocabulary)\n",
    "\n",
    "#         # only keep words that are valid tags\n",
    "#         valid_tag_elems = [(k,v) for (k,v) in word_weight_dict.items() if k in tag_vocabulary]\n",
    "\n",
    "#         valid_word_weight_dict = dict(valid_tag_elems)\n",
    "#         valid_words = valid_word_weight_dict.keys()\n",
    "\n",
    "#         # make a dummy y_score out of that (the numbers aren't probabililties\n",
    "#         # but we're only interested in the ranking, not absolute numbers)\n",
    "#         y_scores_dummy = [valid_word_weight_dict[tag_value] if tag_value in valid_words else 0.0 for (tag_index,tag_value) in enumerate(tag_vocabulary)]\n",
    "\n",
    "#         y_scores_dummy = np.array(y_scores_dummy)\n",
    "\n",
    "#         Y_pred_train.append(y_scores_dummy)\n",
    "\n",
    "#     Y_pred_train = np.array(Y_pred_train)\n",
    "    \n",
    "    # validation\n",
    "    \n",
    "    Y_pred_val = []\n",
    "\n",
    "    # for every validation document do\n",
    "    for (i,test_document_topics_distr) in enumerate(X_val):\n",
    "\n",
    "        most_important_topic_index = np.argsort(test_document_topics_distr)[-1]\n",
    "                \n",
    "        # 'word' => weight in topic\n",
    "        word_weight_dict = get_word_weight_dict(model,most_important_topic_index,vocabulary)\n",
    "\n",
    "        # only keep words that are valid tags\n",
    "        valid_tag_elems = [(k,v) for (k,v) in word_weight_dict.items() if k in tag_vocabulary]\n",
    "\n",
    "        valid_word_weight_dict = dict(valid_tag_elems)\n",
    "        valid_words = valid_word_weight_dict.keys()\n",
    "\n",
    "        # make a dummy y_score out of that (the numbers aren't probabililties\n",
    "        # but we're only interested in the ranking, not absolute numbers)\n",
    "        y_scores_dummy = [valid_word_weight_dict[tag_value] if tag_value in valid_words else 0.0 for (tag_index,tag_value) in enumerate(tag_vocabulary)]\n",
    "\n",
    "        y_scores_dummy = np.array(y_scores_dummy)\n",
    "\n",
    "        Y_pred_val.append(y_scores_dummy)\n",
    "\n",
    "    Y_pred_val = np.array(Y_pred_val)\n",
    "    \n",
    "    # scoring\n",
    "    \n",
    "    ks = [1,2,3,4,5,6,7,8,9,10]\n",
    "    \n",
    "    # k is the number of neighbors so let's use at_k\n",
    "    results = list()\n",
    "    for at_k in ks:\n",
    "        result = ranking.micro_f1_at_k(Y_val,Y_pred_val,k=at_k,normalize=True)\n",
    "        results.append(result)\n",
    "        print(\"validation micro-F1 @{}: {}\".format(at_k,result)) \n",
    "\n",
    "    print('')  \n",
    "    \n",
    "    results_dict[nb_comp] = results"
   ]
  },
  {
   "cell_type": "code",
   "execution_count": 22,
   "metadata": {},
   "outputs": [
    {
     "name": "stdout",
     "output_type": "stream",
     "text": [
      "nb_comp=50\n",
      "validation micro-F1 @1: 0.009891196834817012\n",
      "validation micro-F1 @2: 0.021632251720747297\n",
      "validation micro-F1 @3: 0.017082785808147174\n",
      "validation micro-F1 @4: 0.026483570377636097\n",
      "validation micro-F1 @5: 0.02202123476209202\n",
      "validation micro-F1 @6: 0.02098360655737705\n",
      "validation micro-F1 @7: 0.020520028109627546\n",
      "validation micro-F1 @8: 0.021875384048175003\n",
      "validation micro-F1 @9: 0.020550940096195888\n",
      "validation micro-F1 @10: 0.01851487098680323\n",
      "\n",
      "nb_comp=100\n",
      "validation micro-F1 @1: 0.003968253968253968\n",
      "validation micro-F1 @2: 0.006934125804853888\n",
      "validation micro-F1 @3: 0.005946481665014866\n",
      "validation micro-F1 @4: 0.018709995076317085\n",
      "validation micro-F1 @5: 0.02202123476209202\n",
      "validation micro-F1 @6: 0.024222585924713585\n",
      "validation micro-F1 @7: 0.022187894958573234\n",
      "validation micro-F1 @8: 0.02720921681578625\n",
      "validation micro-F1 @9: 0.02508452393936089\n",
      "validation micro-F1 @10: 0.024351924587588374\n",
      "\n",
      "nb_comp=200\n",
      "validation micro-F1 @1: 0.029382957884427033\n",
      "validation micro-F1 @2: 0.037073170731707315\n",
      "validation micro-F1 @3: 0.03515625\n",
      "validation micro-F1 @4: 0.02890031839333823\n",
      "validation micro-F1 @5: 0.024739838994698605\n",
      "validation micro-F1 @6: 0.028739386022207707\n",
      "validation micro-F1 @7: 0.024684431977559606\n",
      "validation micro-F1 @8: 0.023575638506876228\n",
      "validation micro-F1 @9: 0.023791334715704465\n",
      "validation micro-F1 @10: 0.02279874213836478\n",
      "\n",
      "nb_comp=300\n",
      "validation micro-F1 @1: 0.05415860735009671\n",
      "validation micro-F1 @2: 0.03898635477582846\n",
      "validation micro-F1 @3: 0.030026109660574413\n",
      "validation micro-F1 @4: 0.026483570377636097\n",
      "validation micro-F1 @5: 0.02396385778825378\n",
      "validation micro-F1 @6: 0.023575638506876228\n",
      "validation micro-F1 @7: 0.02107629619221582\n",
      "validation micro-F1 @8: 0.01944136827857758\n",
      "validation micro-F1 @9: 0.019251804856705315\n",
      "validation micro-F1 @10: 0.01831970846055353\n",
      "\n"
     ]
    }
   ],
   "source": [
    "results = dict()\n",
    "\n",
    "for nb_comp in NB_COMPONENTS:\n",
    "    print('nb_comp={}'.format(nb_comp))\n",
    "    train_and_score(nb_comp,results)"
   ]
  },
  {
   "cell_type": "code",
   "execution_count": 24,
   "metadata": {},
   "outputs": [
    {
     "data": {
      "image/png": "[encoded data removed]",
      "text/plain": [
       "<matplotlib.figure.Figure at 0x7fbc19a4f048>"
      ]
     },
     "metadata": {},
     "output_type": "display_data"
    }
   ],
   "source": [
    "plt.clf()\n",
    "ax = plt.gca()\n",
    "\n",
    "ks = range(1, 11)\n",
    "\n",
    "ax.plot(ks, results[50], 'ro-', label='Number of Components=50')\n",
    "\n",
    "ax.plot(ks, results[100], 'go-', label='Number of Components=100')\n",
    "\n",
    "ax.plot(ks, results[200], 'bo-', label='Number of Components=200')\n",
    "\n",
    "ax.plot(ks, results[300], 'co-', label='Number of Components=300')\n",
    "\n",
    "ax.set_xlim(0, 11)\n",
    "ax.set_ylim(0, 0.25)\n",
    "ax.set_xlabel('k', fontsize=13)\n",
    "\n",
    "ax.set_ylabel('Micro-averaged F1-score at k', fontsize=13)\n",
    "\n",
    "ax.set_xticks(np.arange(0, 11, 1))\n",
    "ax.set_yticks(np.arange(0, 0.26, 0.05))\n",
    "ax.grid(True)\n",
    "\n",
    "gridlines = ax.get_xgridlines() + ax.get_ygridlines()\n",
    "for line in gridlines:\n",
    "    line.set_linestyle(':')\n",
    "    line.set_linewidth(0.7)\n",
    "plt.gcf().set_size_inches(7,5)\n",
    "ax.legend()\n",
    "plt.show()"
   ]
  },
  {
   "cell_type": "code",
   "execution_count": null,
   "metadata": {
    "collapsed": true
   },
   "outputs": [],
   "source": []
  }
 ],
 "metadata": {
  "kernelspec": {
   "display_name": "Python 3",
   "language": "python",
   "name": "python3"
  },
  "language_info": {
   "codemirror_mode": {
    "name": "ipython",
    "version": 3
   },
   "file_extension": ".py",
   "mimetype": "text/x-python",
   "name": "python",
   "nbconvert_exporter": "python",
   "pygments_lexer": "ipython3",
   "version": "3.5.2"
  }
 },
 "nbformat": 4,
 "nbformat_minor": 2
}
