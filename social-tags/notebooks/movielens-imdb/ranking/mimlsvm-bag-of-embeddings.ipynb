{
 "cells": [
  {
   "cell_type": "markdown",
   "metadata": {},
   "source": [
    "## mimlsvm\n",
    "\n",
    "mi = mulit-instance\n",
    "ml = multi-label\n",
    "svm = svm\n",
    "\n",
    "As described in Shen et al 2009: http://ieeexplore.ieee.org/document/5346261/"
   ]
  },
  {
   "cell_type": "markdown",
   "metadata": {},
   "source": [
    "good params: {'svm_degree': 3, 'svm_kernel': 'poly', 'medoid_normalization': None, 'nb_medoids_ratio': 0.2, 'svm_gamma': 'auto', 'vectorizer_norm': None, 'svm_c': 1}"
   ]
  },
  {
   "cell_type": "code",
   "execution_count": 1,
   "metadata": {
    "collapsed": true
   },
   "outputs": [],
   "source": [
    "import pandas as pd\n",
    "import numpy as np\n",
    "import matplotlib.pyplot as plt\n",
    "import gc\n",
    "import nltk\n",
    "import os\n",
    "import re\n",
    "import pickle\n",
    "import sklearn\n",
    "import sys\n",
    "import string\n",
    "import warnings\n",
    "\n",
    "from nltk import TextTilingTokenizer\n",
    "\n",
    "from sklearn.calibration import CalibratedClassifierCV\n",
    "from sklearn.metrics import f1_score, precision_score, recall_score\n",
    "from sklearn.model_selection import cross_val_score, GridSearchCV,ParameterGrid, train_test_split\n",
    "from sklearn.multiclass import OneVsRestClassifier\n",
    "from sklearn.preprocessing import MultiLabelBinarizer, StandardScaler,MinMaxScaler\n",
    "from sklearn.feature_extraction.text import CountVectorizer\n",
    "from sklearn.feature_extraction.text import TfidfTransformer,TfidfVectorizer\n",
    "from sklearn.svm import SVC\n",
    "\n",
    "from joblib import Parallel, delayed\n",
    "\n",
    "from tqdm import *\n",
    "\n",
    "%matplotlib inline\n",
    "%load_ext autoreload\n",
    "%autoreload 1"
   ]
  },
  {
   "cell_type": "code",
   "execution_count": 2,
   "metadata": {
    "collapsed": true
   },
   "outputs": [],
   "source": [
    "src_dir = os.path.join(os.getcwd(), os.pardir, '../../')\n",
    "sys.path.append(src_dir)"
   ]
  },
  {
   "cell_type": "code",
   "execution_count": 3,
   "metadata": {
    "collapsed": true
   },
   "outputs": [],
   "source": [
    "%aimport src.data.movielens_20m_imdb\n",
    "%aimport src.helpers.labels,src.helpers.neighbours, src.helpers.segments,src.helpers.embeddings\n",
    "%aimport src.utils.dataframes, src.utils.clusters, src.utils.metrics, src.utils.distances, src.utils.plotting"
   ]
  },
  {
   "cell_type": "code",
   "execution_count": 4,
   "metadata": {
    "collapsed": true
   },
   "outputs": [],
   "source": [
    "from src.data.movielens_20m_imdb import load_df_or_get_from_cache\n",
    "from src.helpers.labels import truncate_labels\n",
    "from src.helpers.segments import make_distance_matrix_for_segments,vectorize_segments\n",
    "from src.helpers.embeddings import read_glove_wiki_weighted\n",
    "\n",
    "from src.utils.dataframes import sample_rows\n",
    "from src.utils.metrics import ranking\n",
    "from src.utils.clusters import k_medoids\n",
    "from src.utils.distances import hausdorff\n",
    "from src.utils.plotting import plot_micro_f1_at_k"
   ]
  },
  {
   "cell_type": "code",
   "execution_count": 6,
   "metadata": {
    "collapsed": true
   },
   "outputs": [],
   "source": [
    "MODELS_ROOT = os.path.abspath(\"../../../models/ranking/movielens-mimlsvm-embeddings/\")\n",
    "INTERIM_DATA_ROOT = os.path.abspath(\"../../../data/interim/movielens-ml20m-imdb/\")\n",
    "PATH_TO_PROCESSED_FILE = os.path.abspath('../../../data/processed/movielens-20m-imdb-tags-and-synopses-2017-12-20.csv')\n",
    "\n",
    "# CONFIGS\n",
    "\n",
    "SEED= 42\n",
    "W=20 # Pseudosentence size (in words) - not specified in the paper, taken from TextTiling default values\n",
    "K=10 # Size (in sentences) of the block used in the block comparison method - not specified in the paper, taken from TextTiling default values\n",
    "MAX_NB_WORDS=500\n",
    "EMBEDDINGS_DIM=100\n",
    "SAMPLE_FRAC= 0.3"
   ]
  },
  {
   "cell_type": "code",
   "execution_count": null,
   "metadata": {
    "collapsed": true
   },
   "outputs": [],
   "source": [
    "docs_df = load_df_or_get_from_cache(PATH_TO_PROCESSED_FILE,INTERIM_DATA_ROOT)"
   ]
  },
  {
   "cell_type": "code",
   "execution_count": null,
   "metadata": {
    "collapsed": true
   },
   "outputs": [],
   "source": [
    "sentence_tokenizer = nltk.data.load('tokenizers/punkt/english.pickle')"
   ]
  },
  {
   "cell_type": "code",
   "execution_count": null,
   "metadata": {
    "collapsed": true
   },
   "outputs": [],
   "source": [
    "docs_df['sentences'] = docs_df['synopsis'].map(lambda row: sentence_tokenizer.tokenize(row))"
   ]
  },
  {
   "cell_type": "code",
   "execution_count": null,
   "metadata": {
    "collapsed": true
   },
   "outputs": [],
   "source": [
    "%%time\n",
    "docs_df['num_sentences'] = docs_df['sentences'].map( lambda sents: len(sents))"
   ]
  },
  {
   "cell_type": "code",
   "execution_count": null,
   "metadata": {
    "collapsed": true
   },
   "outputs": [],
   "source": [
    "docs_df.head()"
   ]
  },
  {
   "cell_type": "code",
   "execution_count": null,
   "metadata": {
    "collapsed": true
   },
   "outputs": [],
   "source": [
    "docs_df.iloc[0]['sentences'][:5]"
   ]
  },
  {
   "cell_type": "code",
   "execution_count": null,
   "metadata": {
    "collapsed": true
   },
   "outputs": [],
   "source": [
    "docs_df.describe()"
   ]
  },
  {
   "cell_type": "code",
   "execution_count": null,
   "metadata": {
    "collapsed": true
   },
   "outputs": [],
   "source": [
    "tok = TextTilingTokenizer(w=W, k=K)"
   ]
  },
  {
   "cell_type": "code",
   "execution_count": null,
   "metadata": {
    "collapsed": true
   },
   "outputs": [],
   "source": [
    "def extract_segments(candidates):\n",
    "    \n",
    "    try:\n",
    "        # we must manually insert \"\\n\\n\" because this is how \n",
    "        # texttilingtokenizer requires candidate boundaries to be \n",
    "        # represented.\n",
    "        segments = tok.tokenize(\"\\n\\n\".join(candidates))\n",
    "    except ValueError:\n",
    "        # this happens when the candidate list is too small for the \n",
    "        # text tiling tokenizer to be able to find segments. so just return\n",
    "        # the original sentences.\n",
    "        segments= candidates\n",
    "        \n",
    "    # now remove the artificially added chars\n",
    "    segments = [segment.replace(\"\\n\\n\",\" \").strip() for segment in segments]\n",
    "    \n",
    "    return segments"
   ]
  },
  {
   "cell_type": "code",
   "execution_count": 7,
   "metadata": {},
   "outputs": [
    {
     "name": "stdout",
     "output_type": "stream",
     "text": [
      "cache hit\n"
     ]
    }
   ],
   "source": [
    "if os.path.isfile(INTERIM_DATA_ROOT+\"/docs_df_with_segments-{}.p\".format(MAX_NB_WORDS)):\n",
    "    print('cache hit')\n",
    "    docs_df = pickle.load(open(INTERIM_DATA_ROOT+\"/docs_df_with_segments-{}.p\".format(MAX_NB_WORDS),\"rb\"))\n",
    "else:\n",
    "    docs_df['segments'] = docs_df['sentences'].map(lambda candidates: extract_segments(candidates))\n",
    "    pickle.dump(docs_df,open(INTERIM_DATA_ROOT+\"/docs_df_with_segments-{}.p\".format(MAX_NB_WORDS),\"wb\"))"
   ]
  },
  {
   "cell_type": "markdown",
   "metadata": {},
   "source": [
    "### sample for grid search"
   ]
  },
  {
   "cell_type": "code",
   "execution_count": 8,
   "metadata": {
    "collapsed": true
   },
   "outputs": [],
   "source": [
    "sample_df = docs_df.sample(int(SAMPLE_FRAC*len(docs_df)))"
   ]
  },
  {
   "cell_type": "code",
   "execution_count": 9,
   "metadata": {
    "collapsed": true
   },
   "outputs": [],
   "source": [
    "segments = sample_df['segments'].values\n",
    "documents = sample_df['synopsis'].values\n",
    "labels = sample_df[\"tags\"].map(lambda tagstring: tagstring.split(\",\"))"
   ]
  },
  {
   "cell_type": "code",
   "execution_count": 10,
   "metadata": {
    "collapsed": true
   },
   "outputs": [],
   "source": [
    "labels = truncate_labels(labels,10)"
   ]
  },
  {
   "cell_type": "code",
   "execution_count": 11,
   "metadata": {},
   "outputs": [
    {
     "name": "stdout",
     "output_type": "stream",
     "text": [
      "total number of train documents: 1711\n",
      "total number of validation documents: 302\n",
      "total number of unique tags: 619 \n"
     ]
    }
   ],
   "source": [
    "# segments, documents and labelsets are defined outside of the parameterGrid loop\n",
    "# because they're the same for every configuration    \n",
    "segments_train, segments_val, documents_train, documents_val, Y_train, Y_val = train_test_split(segments,\n",
    "                                                                                               documents,\n",
    "                                                                                               labels,\n",
    "                                                                                               test_size=0.15)\n",
    "\n",
    "mlb = MultiLabelBinarizer()\n",
    "mlb.fit(labels)\n",
    "\n",
    "Y_train = mlb.transform(Y_train)\n",
    "Y_val = mlb.transform(Y_val)\n",
    "\n",
    "print('total number of train documents: {}'.format(len(documents_train)))\n",
    "print('total number of validation documents: {}'.format(len(documents_val)))\n",
    "print(\"total number of unique tags: {} \".format(len(mlb.classes_)))"
   ]
  },
  {
   "cell_type": "code",
   "execution_count": null,
   "metadata": {
    "collapsed": true
   },
   "outputs": [],
   "source": [
    "vect = TfidfVectorizer(max_features=MAX_NB_WORDS)\n",
    "vect.fit(documents)\n",
    "\n",
    "feature_names = vect.get_feature_names()\n",
    "idf = vect.idf_\n",
    "idf_index = dict(zip(vect.get_feature_names(), idf))"
   ]
  },
  {
   "cell_type": "code",
   "execution_count": null,
   "metadata": {
    "collapsed": true
   },
   "outputs": [],
   "source": [
    "# analyzer = preprocess + tokenize\n",
    "tokenize_func = vect.build_analyzer()\n",
    "\n",
    "def tokenize(string):\n",
    "    return tokenize_func(string)"
   ]
  },
  {
   "cell_type": "code",
   "execution_count": null,
   "metadata": {
    "collapsed": true,
    "scrolled": true
   },
   "outputs": [],
   "source": [
    "%%time\n",
    "X_train_tok = list()\n",
    "\n",
    "for document_segments in segments_train:\n",
    "    tokenized_segments = [tokenize(segment) for segment in document_segments]\n",
    "    X_train_tok.append(tokenized_segments)"
   ]
  },
  {
   "cell_type": "code",
   "execution_count": null,
   "metadata": {
    "collapsed": true
   },
   "outputs": [],
   "source": [
    "%%time\n",
    "X_val_tok = list()\n",
    "\n",
    "for document_segments in segments_val:\n",
    "    tokenized_segments = [tokenize(segment) for segment in document_segments]\n",
    "    X_val_tok.append(tokenized_segments)"
   ]
  },
  {
   "cell_type": "markdown",
   "metadata": {},
   "source": [
    "### transform into embeddings"
   ]
  },
  {
   "cell_type": "code",
   "execution_count": null,
   "metadata": {
    "collapsed": true
   },
   "outputs": [],
   "source": [
    "embeddings_index = read_glove_wiki_weighted(\n",
    "    d=EMBEDDINGS_DIM,\n",
    "    weight_index=idf_index)"
   ]
  },
  {
   "cell_type": "code",
   "execution_count": null,
   "metadata": {
    "collapsed": true
   },
   "outputs": [],
   "source": [
    "def build_bag_of_weighted_embeddings(tokens): \n",
    "    out = [embeddings_index[token] for token in tokens if token in embeddings_index.keys()]\n",
    "    return np.mean(np.array(out),axis=0)    "
   ]
  },
  {
   "cell_type": "code",
   "execution_count": 12,
   "metadata": {},
   "outputs": [
    {
     "name": "stdout",
     "output_type": "stream",
     "text": [
      "cache hit\n"
     ]
    }
   ],
   "source": [
    "cache_path = INTERIM_DATA_ROOT+\"/mimlsvm/mimlsvm-embeddings/X_train_boe_segments-sample-{}.p\".format(SAMPLE_FRAC)\n",
    "\n",
    "if os.path.isfile(cache_path):\n",
    "    print('cache hit')\n",
    "    X_train_boe_segments = pickle.load(open(cache_path,'rb'))\n",
    "else:\n",
    "    X_train_boe_segments = list()\n",
    "\n",
    "    for tokenized_document_segments in X_train_tok:\n",
    "        document_segments_boe = list()\n",
    "\n",
    "        with warnings.catch_warnings():\n",
    "            warnings.filterwarnings('error')\n",
    "            for seg in tokenized_document_segments:\n",
    "                if len(seg) == 0:\n",
    "                    print('empty segment')\n",
    "                    continue\n",
    "                else:\n",
    "                    try:\n",
    "                        boe=build_bag_of_weighted_embeddings(seg)\n",
    "                    except RuntimeWarning:\n",
    "                        print('segment entirely with OOV words')\n",
    "                        continue\n",
    "\n",
    "                    document_segments_boe.append(boe)\n",
    "\n",
    "        X_train_boe_segments.append(document_segments_boe)\n",
    "\n",
    "    pickle.dump(X_train_boe_segments,open(cache_path,\"wb\"))"
   ]
  },
  {
   "cell_type": "code",
   "execution_count": 13,
   "metadata": {},
   "outputs": [
    {
     "name": "stdout",
     "output_type": "stream",
     "text": [
      "cache hit\n"
     ]
    }
   ],
   "source": [
    "cache_path = INTERIM_DATA_ROOT+\"/mimlsvm/mimlsvm-embeddings/X_val_boe_segments-sample-{}.p\".format(SAMPLE_FRAC)\n",
    "\n",
    "if os.path.isfile(cache_path):\n",
    "    print('cache hit')\n",
    "    X_val_boe_segments = pickle.load(open(cache_path,'rb'))\n",
    "else:\n",
    "    X_val_boe_segments = list()\n",
    "\n",
    "    for tokenized_document_segments in X_val_tok:\n",
    "        document_segments_boe = list()\n",
    "\n",
    "        with warnings.catch_warnings():\n",
    "            warnings.filterwarnings('error')\n",
    "            for seg in tokenized_document_segments:\n",
    "                if len(seg) == 0:\n",
    "                    print('empty segment')\n",
    "                    continue\n",
    "                else:\n",
    "                    try:\n",
    "                        boe=build_bag_of_weighted_embeddings(seg)\n",
    "                    except RuntimeWarning:\n",
    "                        print('segment entirely with OOV words')\n",
    "                        continue\n",
    "\n",
    "                    document_segments_boe.append(boe)\n",
    "\n",
    "        X_val_boe_segments.append(document_segments_boe)\n",
    "\n",
    "    pickle.dump(X_val_boe_segments,open(cache_path,\"wb\"))"
   ]
  },
  {
   "cell_type": "code",
   "execution_count": 14,
   "metadata": {
    "collapsed": true
   },
   "outputs": [],
   "source": [
    "def make_distance_matrix_for_embedding_segments(vectorized_segments, distance='hausdorff'):\n",
    "    \"\"\"\n",
    "    Returns the distance matrix for the documents having the given segments.\n",
    "\n",
    "    :param vectorized_segments: array of size M, where each element is a \"bag\" of segments: matrix of\n",
    "        shape (*,NUM_FEATURES), and each row on this matrix is the TF-IDF vector for one segment.\n",
    "    :param distance: how to compare the two bags\n",
    "    :return: pairwise distance matrix (MxM matrix)\n",
    "    \"\"\"\n",
    "    if distance.lower().strip() != 'hausdorff':\n",
    "        raise Exception(\"Only 'hausdorff' distance supported right now.\")\n",
    "\n",
    "    num_samples = len(vectorized_segments)\n",
    "\n",
    "    distance_function = lambda a, b: hausdorff(a, b)\n",
    "\n",
    "    distance_matrix = np.zeros((num_samples, num_samples))\n",
    "\n",
    "    for i, segments_for_document_a in enumerate(vectorized_segments):\n",
    "        for j, segments_for_document_b in enumerate(vectorized_segments):\n",
    "            distance = distance_function(segments_for_document_a, segments_for_document_b)\n",
    "            distance_matrix[i][j] = distance\n",
    "\n",
    "    return distance_matrix"
   ]
  },
  {
   "cell_type": "code",
   "execution_count": 15,
   "metadata": {},
   "outputs": [
    {
     "name": "stdout",
     "output_type": "stream",
     "text": [
      "cache hit\n",
      "CPU times: user 12 ms, sys: 32 ms, total: 44 ms\n",
      "Wall time: 515 ms\n"
     ]
    }
   ],
   "source": [
    "%%time\n",
    "\n",
    "path_to_cache = INTERIM_DATA_ROOT+\"/mimlsvm/mimlsvm-embeddings/distance-matrix-train-sample-{}.p\".format(SAMPLE_FRAC)\n",
    "\n",
    "if os.path.isfile(path_to_cache):\n",
    "    print('cache hit')\n",
    "    dist_matrix_train = pickle.load(open(path_to_cache,\"rb\"))\n",
    "else:\n",
    "    print('Fitting distance matrix')\n",
    "    dist_matrix_train = make_distance_matrix_for_embedding_segments(X_train_boe_segments)\n",
    "    pickle.dump(dist_matrix_train, open(path_to_cache, \"wb\"))"
   ]
  },
  {
   "cell_type": "code",
   "execution_count": 16,
   "metadata": {
    "collapsed": true
   },
   "outputs": [],
   "source": [
    "def make_train_dataset(distance_matrix, medoid_indices):\n",
    "    \"\"\"\n",
    "    Returns a matrix where element Aij contains the distance from sample i to medoid j.\n",
    "\n",
    "    :param distance_matrix: MxM matrix with pairwise distances\n",
    "    :param medoid_indices: array of length N containing the indices of the medoids for each cluster\n",
    "    :return: distances to medoids (MxN matrix)\n",
    "    \"\"\"\n",
    "\n",
    "    return distance_matrix[:,medoid_indices]"
   ]
  },
  {
   "cell_type": "code",
   "execution_count": 17,
   "metadata": {
    "collapsed": true
   },
   "outputs": [],
   "source": [
    "def make_validation_dataset(source_vectorized_segments, medoid_vectorized_segments):\n",
    "    \"\"\"\n",
    "    Calculates the distances from every source_document (reprsented by its segments) to every medoid\n",
    "    document (also represented by its segments) using the hausdorff distance.\n",
    "    \n",
    "    Returns a matrix where element Aij contains the distance from sample i to medoid j.\n",
    "\n",
    "    :param source_vectorized_segments: array of length M, where each element is a matrix with one row\n",
    "        for every segment in a source document\n",
    "    :param medoid_vectorized_segments: array of length N where each element is a matrix with one row\n",
    "        for every segment in a medoid document\n",
    "    :return: distances to medoids (MxN matrix)\n",
    "    \"\"\"\n",
    "    \n",
    "    num_val_samples = len(source_vectorized_segments)\n",
    "    num_medoids = len(medoid_vectorized_segments)\n",
    "    \n",
    "    val_dataset = np.zeros((num_val_samples,num_medoids))    \n",
    "    \n",
    "    for i,source_segments in enumerate(source_vectorized_segments):\n",
    "        for j,medoid_segments in enumerate(medoid_vectorized_segments):\n",
    "            val_dataset[i][j] = hausdorff(source_segments,medoid_segments)\n",
    "            \n",
    "    return np.array(val_dataset)"
   ]
  },
  {
   "cell_type": "code",
   "execution_count": 18,
   "metadata": {
    "collapsed": true
   },
   "outputs": [],
   "source": [
    "# calculating medoids\n",
    "NORMALIZATION = ['standard','minmax',None] # not specified in the paper\n",
    "SAMPLE_TO_NB_MEDOIDS_RATIO = [0.2,0.3,0.4] # not specified in the paper, but taken from MIMLSVM canonical implementation\n",
    "# classification\n",
    "SVM_KERNEL=['rbf','linear','poly'] # not specified in the paper, but taken from MIMLSVM canonical implementation\n",
    "SVM_GAMMA=['auto'] # not specified in the paper, but taken from MIMLSVM canonical implementation\n",
    "SVM_C= [0.1,1,10]# not specified in the paper, but taken from MIMLSVM canonical implementation\n",
    "SVM_DEGREE=[3,4,5]"
   ]
  },
  {
   "cell_type": "code",
   "execution_count": 19,
   "metadata": {
    "collapsed": true
   },
   "outputs": [],
   "source": [
    "grid_search_parameters = [\n",
    "    {\n",
    "        'medoid_normalization':  NORMALIZATION,\n",
    "        'svm_kernel': ['poly'],\n",
    "        'svm_c':SVM_C,\n",
    "        'svm_degree' :SVM_DEGREE,\n",
    "        'svm_gamma':SVM_GAMMA,\n",
    "        'nb_medoids_ratio': SAMPLE_TO_NB_MEDOIDS_RATIO\n",
    "    },\n",
    "    {\n",
    "        'medoid_normalization':  NORMALIZATION,\n",
    "        'svm_kernel': ['rbf'],\n",
    "        'svm_c':SVM_C,\n",
    "        'svm_degree' :[None],\n",
    "        'svm_gamma':SVM_GAMMA,\n",
    "        'nb_medoids_ratio': SAMPLE_TO_NB_MEDOIDS_RATIO\n",
    "    },\n",
    "    {\n",
    "        'medoid_normalization':  NORMALIZATION,\n",
    "        'svm_kernel': ['linear'],\n",
    "        'svm_c':SVM_C,\n",
    "        'svm_gamma':SVM_GAMMA,\n",
    "        'svm_degree' :[None],\n",
    "        'nb_medoids_ratio': SAMPLE_TO_NB_MEDOIDS_RATIO\n",
    "    }\n",
    "]"
   ]
  },
  {
   "cell_type": "code",
   "execution_count": 20,
   "metadata": {},
   "outputs": [
    {
     "name": "stdout",
     "output_type": "stream",
     "text": [
      "total number of configurations to test: 135\n"
     ]
    }
   ],
   "source": [
    "print('total number of configurations to test: {}'.format(len(ParameterGrid(grid_search_parameters))))"
   ]
  },
  {
   "cell_type": "code",
   "execution_count": 24,
   "metadata": {
    "scrolled": true
   },
   "outputs": [
    {
     "name": "stderr",
     "output_type": "stream",
     "text": [
      "\n",
      "0it [00:00, ?it/s]\u001b[A\n",
      "1it [02:14, 134.20s/it]"
     ]
    },
    {
     "name": "stdout",
     "output_type": "stream",
     "text": [
      "iter: 0, configuration: {'svm_degree': 3, 'svm_kernel': 'poly', 'svm_c': 0.1, 'medoid_normalization': 'standard', 'nb_medoids_ratio': 0.2, 'svm_gamma': 'auto'}\n",
      "\n",
      "validation micro-F1 @1: 0.19701492537313434\n",
      "validation micro-F1 @2: 0.19161676646706588\n",
      "validation micro-F1 @3: 0.188\n",
      "validation micro-F1 @4: 0.18345864661654135\n",
      "validation micro-F1 @5: 0.18072289156626506\n",
      "validation micro-F1 @6: 0.1779788838612368\n",
      "validation micro-F1 @7: 0.17837139164153382\n",
      "validation micro-F1 @8: 0.17384731670445955\n",
      "validation micro-F1 @9: 0.17461383478844864\n",
      "validation micro-F1 @10: 0.16858702243784113\n"
     ]
    },
    {
     "name": "stderr",
     "output_type": "stream",
     "text": [
      "\r",
      "2it [04:30, 134.78s/it]"
     ]
    },
    {
     "name": "stdout",
     "output_type": "stream",
     "text": [
      "iter: 1, configuration: {'svm_degree': 4, 'svm_kernel': 'poly', 'svm_c': 0.1, 'medoid_normalization': 'standard', 'nb_medoids_ratio': 0.2, 'svm_gamma': 'auto'}\n",
      "\n",
      "validation micro-F1 @1: 0.18072289156626506\n",
      "validation micro-F1 @2: 0.18345864661654135\n",
      "validation micro-F1 @3: 0.18981018981018982\n",
      "validation micro-F1 @4: 0.18345864661654135\n",
      "validation micro-F1 @5: 0.18400481058328322\n",
      "validation micro-F1 @6: 0.17980914113510799\n",
      "validation micro-F1 @7: 0.17680034497628289\n",
      "validation micro-F1 @8: 0.17039000378644453\n",
      "validation micro-F1 @9: 0.17338709677419356\n",
      "validation micro-F1 @10: 0.16858702243784113\n"
     ]
    },
    {
     "name": "stderr",
     "output_type": "stream",
     "text": [
      "\r",
      "3it [06:57, 138.62s/it]"
     ]
    },
    {
     "name": "stdout",
     "output_type": "stream",
     "text": [
      "iter: 2, configuration: {'svm_degree': 5, 'svm_kernel': 'poly', 'svm_c': 0.1, 'medoid_normalization': 'standard', 'nb_medoids_ratio': 0.2, 'svm_gamma': 'auto'}\n",
      "\n",
      "validation micro-F1 @1: 0.18072289156626506\n",
      "validation micro-F1 @2: 0.19970193740685543\n",
      "validation micro-F1 @3: 0.18981018981018982\n",
      "validation micro-F1 @4: 0.18482344102178813\n",
      "validation micro-F1 @5: 0.1829121540312876\n",
      "validation micro-F1 @6: 0.17706237424547283\n",
      "validation micro-F1 @7: 0.18150537634408603\n",
      "validation micro-F1 @8: 0.17522658610271905\n",
      "validation micro-F1 @9: 0.17522658610271905\n",
      "validation micro-F1 @10: 0.1696969696969697\n"
     ]
    },
    {
     "name": "stderr",
     "output_type": "stream",
     "text": [
      "\r",
      "4it [09:20, 139.69s/it]"
     ]
    },
    {
     "name": "stdout",
     "output_type": "stream",
     "text": [
      "iter: 3, configuration: {'svm_degree': 3, 'svm_kernel': 'poly', 'svm_c': 1, 'medoid_normalization': 'standard', 'nb_medoids_ratio': 0.2, 'svm_gamma': 'auto'}\n",
      "\n",
      "validation micro-F1 @1: 0.18618618618618618\n",
      "validation micro-F1 @2: 0.19161676646706588\n",
      "validation micro-F1 @3: 0.18981018981018982\n",
      "validation micro-F1 @4: 0.18482344102178813\n",
      "validation micro-F1 @5: 0.18072289156626506\n",
      "validation micro-F1 @6: 0.1743073047858942\n",
      "validation micro-F1 @7: 0.17601380500431407\n",
      "validation micro-F1 @8: 0.1696969696969697\n",
      "validation micro-F1 @9: 0.1696969696969697\n",
      "validation micro-F1 @10: 0.16914216429220977\n"
     ]
    },
    {
     "name": "stderr",
     "output_type": "stream",
     "text": [
      "\r",
      "5it [11:41, 140.29s/it]"
     ]
    },
    {
     "name": "stdout",
     "output_type": "stream",
     "text": [
      "iter: 4, configuration: {'svm_degree': 4, 'svm_kernel': 'poly', 'svm_c': 1, 'medoid_normalization': 'standard', 'nb_medoids_ratio': 0.2, 'svm_gamma': 'auto'}\n",
      "\n",
      "validation micro-F1 @1: 0.17522658610271905\n",
      "validation micro-F1 @2: 0.18345864661654135\n",
      "validation micro-F1 @3: 0.1843687374749499\n",
      "validation micro-F1 @4: 0.18072289156626506\n",
      "validation micro-F1 @5: 0.18181818181818182\n",
      "validation micro-F1 @6: 0.17889447236180905\n",
      "validation micro-F1 @7: 0.17993973310374517\n",
      "validation micro-F1 @8: 0.17246596066565809\n",
      "validation micro-F1 @9: 0.16908049848433815\n",
      "validation micro-F1 @10: 0.1696969696969697\n"
     ]
    },
    {
     "name": "stderr",
     "output_type": "stream",
     "text": [
      "\r",
      "6it [14:03, 140.69s/it]"
     ]
    },
    {
     "name": "stdout",
     "output_type": "stream",
     "text": [
      "iter: 5, configuration: {'svm_degree': 5, 'svm_kernel': 'poly', 'svm_c': 1, 'medoid_normalization': 'standard', 'nb_medoids_ratio': 0.2, 'svm_gamma': 'auto'}\n",
      "\n",
      "validation micro-F1 @1: 0.18072289156626506\n",
      "validation micro-F1 @2: 0.19161676646706588\n",
      "validation micro-F1 @3: 0.18618618618618618\n",
      "validation micro-F1 @4: 0.18209179834462003\n",
      "validation micro-F1 @5: 0.18181818181818182\n",
      "validation micro-F1 @6: 0.18345864661654135\n",
      "validation micro-F1 @7: 0.17837139164153382\n",
      "validation micro-F1 @8: 0.17935192162773173\n",
      "validation micro-F1 @9: 0.17461383478844864\n",
      "validation micro-F1 @10: 0.17080557238037553\n"
     ]
    },
    {
     "name": "stderr",
     "output_type": "stream",
     "text": [
      "\r",
      "7it [16:23, 140.51s/it]"
     ]
    },
    {
     "name": "stdout",
     "output_type": "stream",
     "text": [
      "iter: 6, configuration: {'svm_degree': 3, 'svm_kernel': 'poly', 'svm_c': 10, 'medoid_normalization': 'standard', 'nb_medoids_ratio': 0.2, 'svm_gamma': 'auto'}\n",
      "\n",
      "validation micro-F1 @1: 0.18072289156626506\n",
      "validation micro-F1 @2: 0.18345864661654135\n",
      "validation micro-F1 @3: 0.1843687374749499\n",
      "validation micro-F1 @4: 0.18209179834462003\n",
      "validation micro-F1 @5: 0.18181818181818182\n",
      "validation micro-F1 @6: 0.1743073047858942\n",
      "validation micro-F1 @7: 0.17758620689655172\n",
      "validation micro-F1 @8: 0.17039000378644453\n",
      "validation micro-F1 @9: 0.1703130259171996\n",
      "validation micro-F1 @10: 0.17025143895789155\n"
     ]
    },
    {
     "name": "stderr",
     "output_type": "stream",
     "text": [
      "\r",
      "8it [18:44, 140.52s/it]"
     ]
    },
    {
     "name": "stdout",
     "output_type": "stream",
     "text": [
      "iter: 7, configuration: {'svm_degree': 4, 'svm_kernel': 'poly', 'svm_c': 10, 'medoid_normalization': 'standard', 'nb_medoids_ratio': 0.2, 'svm_gamma': 'auto'}\n",
      "\n",
      "validation micro-F1 @1: 0.17522658610271905\n",
      "validation micro-F1 @2: 0.19431988041853512\n",
      "validation micro-F1 @3: 0.18254764292878636\n",
      "validation micro-F1 @4: 0.18209179834462003\n",
      "validation micro-F1 @5: 0.1829121540312876\n",
      "validation micro-F1 @6: 0.1779788838612368\n",
      "validation micro-F1 @7: 0.17993973310374517\n",
      "validation micro-F1 @8: 0.17315689981096408\n",
      "validation micro-F1 @9: 0.1715438950554995\n",
      "validation micro-F1 @10: 0.17025143895789155\n"
     ]
    },
    {
     "name": "stderr",
     "output_type": "stream",
     "text": [
      "\r",
      "9it [21:07, 141.47s/it]"
     ]
    },
    {
     "name": "stdout",
     "output_type": "stream",
     "text": [
      "iter: 8, configuration: {'svm_degree': 5, 'svm_kernel': 'poly', 'svm_c': 10, 'medoid_normalization': 'standard', 'nb_medoids_ratio': 0.2, 'svm_gamma': 'auto'}\n",
      "\n",
      "validation micro-F1 @1: 0.18072289156626506\n",
      "validation micro-F1 @2: 0.19701492537313434\n",
      "validation micro-F1 @3: 0.188\n",
      "validation micro-F1 @4: 0.18345864661654135\n",
      "validation micro-F1 @5: 0.18181818181818182\n",
      "validation micro-F1 @6: 0.18254764292878636\n",
      "validation micro-F1 @7: 0.17601380500431407\n",
      "validation micro-F1 @8: 0.18140760255927738\n",
      "validation micro-F1 @9: 0.1740006718172657\n",
      "validation micro-F1 @10: 0.16914216429220977\n"
     ]
    },
    {
     "name": "stderr",
     "output_type": "stream",
     "text": [
      "\r",
      "10it [24:33, 160.67s/it]"
     ]
    },
    {
     "name": "stdout",
     "output_type": "stream",
     "text": [
      "iter: 9, configuration: {'svm_degree': 3, 'svm_kernel': 'poly', 'svm_c': 0.1, 'medoid_normalization': 'standard', 'nb_medoids_ratio': 0.3, 'svm_gamma': 'auto'}\n",
      "\n",
      "validation micro-F1 @1: 0.18072289156626506\n",
      "validation micro-F1 @2: 0.18345864661654135\n",
      "validation micro-F1 @3: 0.188\n",
      "validation micro-F1 @4: 0.18754688672168043\n",
      "validation micro-F1 @5: 0.1829121540312876\n",
      "validation micro-F1 @6: 0.17980914113510799\n",
      "validation micro-F1 @7: 0.17680034497628289\n",
      "validation micro-F1 @8: 0.17591543978859947\n",
      "validation micro-F1 @9: 0.17215870880968392\n",
      "validation micro-F1 @10: 0.16858702243784113\n"
     ]
    },
    {
     "name": "stderr",
     "output_type": "stream",
     "text": [
      "\r",
      "11it [27:59, 174.50s/it]"
     ]
    },
    {
     "name": "stdout",
     "output_type": "stream",
     "text": [
      "iter: 10, configuration: {'svm_degree': 4, 'svm_kernel': 'poly', 'svm_c': 0.1, 'medoid_normalization': 'standard', 'nb_medoids_ratio': 0.3, 'svm_gamma': 'auto'}\n",
      "\n",
      "validation micro-F1 @1: 0.17522658610271905\n",
      "validation micro-F1 @2: 0.18618618618618618\n",
      "validation micro-F1 @3: 0.1843687374749499\n",
      "validation micro-F1 @4: 0.17935192162773173\n",
      "validation micro-F1 @5: 0.1829121540312876\n",
      "validation micro-F1 @6: 0.17889447236180905\n",
      "validation micro-F1 @7: 0.17522658610271905\n",
      "validation micro-F1 @8: 0.16761471368979902\n",
      "validation micro-F1 @9: 0.16846361185983827\n",
      "validation micro-F1 @10: 0.16803154382772217\n"
     ]
    },
    {
     "name": "stderr",
     "output_type": "stream",
     "text": [
      "\r",
      "12it [31:35, 186.79s/it]"
     ]
    },
    {
     "name": "stdout",
     "output_type": "stream",
     "text": [
      "iter: 11, configuration: {'svm_degree': 5, 'svm_kernel': 'poly', 'svm_c': 0.1, 'medoid_normalization': 'standard', 'nb_medoids_ratio': 0.3, 'svm_gamma': 'auto'}\n",
      "\n",
      "validation micro-F1 @1: 0.18618618618618618\n",
      "validation micro-F1 @2: 0.19161676646706588\n",
      "validation micro-F1 @3: 0.193419740777667\n",
      "validation micro-F1 @4: 0.18618618618618618\n",
      "validation micro-F1 @5: 0.18400481058328322\n",
      "validation micro-F1 @6: 0.1779788838612368\n",
      "validation micro-F1 @7: 0.17915590008613264\n",
      "validation micro-F1 @8: 0.17660377358490567\n",
      "validation micro-F1 @9: 0.17092866756393002\n",
      "validation micro-F1 @10: 0.17025143895789155\n"
     ]
    },
    {
     "name": "stderr",
     "output_type": "stream",
     "text": [
      "\r",
      "13it [35:06, 194.06s/it]"
     ]
    },
    {
     "name": "stdout",
     "output_type": "stream",
     "text": [
      "iter: 12, configuration: {'svm_degree': 3, 'svm_kernel': 'poly', 'svm_c': 1, 'medoid_normalization': 'standard', 'nb_medoids_ratio': 0.3, 'svm_gamma': 'auto'}\n",
      "\n",
      "validation micro-F1 @1: 0.17522658610271905\n",
      "validation micro-F1 @2: 0.18345864661654135\n",
      "validation micro-F1 @3: 0.18618618618618618\n",
      "validation micro-F1 @4: 0.18345864661654135\n",
      "validation micro-F1 @5: 0.18181818181818182\n",
      "validation micro-F1 @6: 0.17889447236180905\n",
      "validation micro-F1 @7: 0.18462859596393302\n",
      "validation micro-F1 @8: 0.17453721193804306\n",
      "validation micro-F1 @9: 0.1715438950554995\n",
      "validation micro-F1 @10: 0.17246596066565809\n"
     ]
    },
    {
     "name": "stderr",
     "output_type": "stream",
     "text": [
      "\r",
      "14it [38:44, 201.12s/it]"
     ]
    },
    {
     "name": "stdout",
     "output_type": "stream",
     "text": [
      "iter: 13, configuration: {'svm_degree': 4, 'svm_kernel': 'poly', 'svm_c': 1, 'medoid_normalization': 'standard', 'nb_medoids_ratio': 0.3, 'svm_gamma': 'auto'}\n",
      "\n",
      "validation micro-F1 @1: 0.18072289156626506\n",
      "validation micro-F1 @2: 0.19701492537313434\n",
      "validation micro-F1 @3: 0.188\n",
      "validation micro-F1 @4: 0.18345864661654135\n",
      "validation micro-F1 @5: 0.18400481058328322\n",
      "validation micro-F1 @6: 0.17980914113510799\n",
      "validation micro-F1 @7: 0.18306832831972497\n",
      "validation micro-F1 @8: 0.17935192162773173\n",
      "validation micro-F1 @9: 0.17645085541764507\n",
      "validation micro-F1 @10: 0.1696969696969697\n"
     ]
    },
    {
     "name": "stderr",
     "output_type": "stream",
     "text": [
      "\r",
      "15it [42:36, 210.49s/it]"
     ]
    },
    {
     "name": "stdout",
     "output_type": "stream",
     "text": [
      "iter: 14, configuration: {'svm_degree': 5, 'svm_kernel': 'poly', 'svm_c': 1, 'medoid_normalization': 'standard', 'nb_medoids_ratio': 0.3, 'svm_gamma': 'auto'}\n",
      "\n",
      "validation micro-F1 @1: 0.18072289156626506\n",
      "validation micro-F1 @2: 0.19431988041853512\n",
      "validation micro-F1 @3: 0.188\n",
      "validation micro-F1 @4: 0.18345864661654135\n",
      "validation micro-F1 @5: 0.1829121540312876\n",
      "validation micro-F1 @6: 0.1816357250376317\n",
      "validation micro-F1 @7: 0.18462859596393302\n",
      "validation micro-F1 @8: 0.17660377358490567\n",
      "validation micro-F1 @9: 0.1727731092436975\n",
      "validation micro-F1 @10: 0.17025143895789155\n"
     ]
    },
    {
     "name": "stderr",
     "output_type": "stream",
     "text": [
      "\r",
      "16it [46:22, 215.25s/it]"
     ]
    },
    {
     "name": "stdout",
     "output_type": "stream",
     "text": [
      "iter: 15, configuration: {'svm_degree': 3, 'svm_kernel': 'poly', 'svm_c': 10, 'medoid_normalization': 'standard', 'nb_medoids_ratio': 0.3, 'svm_gamma': 'auto'}\n",
      "\n",
      "validation micro-F1 @1: 0.18072289156626506\n",
      "validation micro-F1 @2: 0.19701492537313434\n",
      "validation micro-F1 @3: 0.18618618618618618\n",
      "validation micro-F1 @4: 0.18345864661654135\n",
      "validation micro-F1 @5: 0.18072289156626506\n",
      "validation micro-F1 @6: 0.17980914113510799\n",
      "validation micro-F1 @7: 0.17837139164153382\n",
      "validation micro-F1 @8: 0.17453721193804306\n",
      "validation micro-F1 @9: 0.1703130259171996\n",
      "validation micro-F1 @10: 0.1696969696969697\n"
     ]
    },
    {
     "name": "stderr",
     "output_type": "stream",
     "text": [
      "\r",
      "17it [50:07, 218.02s/it]"
     ]
    },
    {
     "name": "stdout",
     "output_type": "stream",
     "text": [
      "iter: 16, configuration: {'svm_degree': 4, 'svm_kernel': 'poly', 'svm_c': 10, 'medoid_normalization': 'standard', 'nb_medoids_ratio': 0.3, 'svm_gamma': 'auto'}\n",
      "\n",
      "validation micro-F1 @1: 0.18072289156626506\n",
      "validation micro-F1 @2: 0.20238095238095238\n",
      "validation micro-F1 @3: 0.188\n",
      "validation micro-F1 @4: 0.18072289156626506\n",
      "validation micro-F1 @5: 0.17962628089210367\n",
      "validation micro-F1 @6: 0.17889447236180905\n",
      "validation micro-F1 @7: 0.18150537634408603\n",
      "validation micro-F1 @8: 0.17866566151526575\n",
      "validation micro-F1 @9: 0.17461383478844864\n",
      "validation micro-F1 @10: 0.17080557238037553\n"
     ]
    },
    {
     "name": "stderr",
     "output_type": "stream",
     "text": [
      "\r",
      "18it [53:53, 220.38s/it]"
     ]
    },
    {
     "name": "stdout",
     "output_type": "stream",
     "text": [
      "iter: 17, configuration: {'svm_degree': 5, 'svm_kernel': 'poly', 'svm_c': 10, 'medoid_normalization': 'standard', 'nb_medoids_ratio': 0.3, 'svm_gamma': 'auto'}\n",
      "\n",
      "validation micro-F1 @1: 0.18072289156626506\n",
      "validation micro-F1 @2: 0.19431988041853512\n",
      "validation micro-F1 @3: 0.1843687374749499\n",
      "validation micro-F1 @4: 0.18072289156626506\n",
      "validation micro-F1 @5: 0.18072289156626506\n",
      "validation micro-F1 @6: 0.17706237424547283\n",
      "validation micro-F1 @7: 0.17837139164153382\n",
      "validation micro-F1 @8: 0.17935192162773173\n",
      "validation micro-F1 @9: 0.1727731092436975\n",
      "validation micro-F1 @10: 0.17025143895789155\n"
     ]
    },
    {
     "name": "stderr",
     "output_type": "stream",
     "text": [
      "\r",
      "19it [58:37, 239.68s/it]"
     ]
    },
    {
     "name": "stdout",
     "output_type": "stream",
     "text": [
      "iter: 18, configuration: {'svm_degree': 3, 'svm_kernel': 'poly', 'svm_c': 0.1, 'medoid_normalization': 'standard', 'nb_medoids_ratio': 0.4, 'svm_gamma': 'auto'}\n",
      "\n",
      "validation micro-F1 @1: 0.18618618618618618\n",
      "validation micro-F1 @2: 0.17522658610271905\n",
      "validation micro-F1 @3: 0.1843687374749499\n",
      "validation micro-F1 @4: 0.18482344102178813\n",
      "validation micro-F1 @5: 0.18181818181818182\n",
      "validation micro-F1 @6: 0.17889447236180905\n",
      "validation micro-F1 @7: 0.17365010799136069\n",
      "validation micro-F1 @8: 0.17660377358490567\n",
      "validation micro-F1 @9: 0.17338709677419356\n",
      "validation micro-F1 @10: 0.17301875378100423\n"
     ]
    },
    {
     "name": "stderr",
     "output_type": "stream",
     "text": [
      "\r",
      "20it [1:03:20, 252.48s/it]"
     ]
    },
    {
     "name": "stdout",
     "output_type": "stream",
     "text": [
      "iter: 19, configuration: {'svm_degree': 4, 'svm_kernel': 'poly', 'svm_c': 0.1, 'medoid_normalization': 'standard', 'nb_medoids_ratio': 0.4, 'svm_gamma': 'auto'}\n",
      "\n",
      "validation micro-F1 @1: 0.18072289156626506\n",
      "validation micro-F1 @2: 0.19431988041853512\n",
      "validation micro-F1 @3: 0.18618618618618618\n",
      "validation micro-F1 @4: 0.18345864661654135\n",
      "validation micro-F1 @5: 0.18509615384615385\n",
      "validation micro-F1 @6: 0.17889447236180905\n",
      "validation micro-F1 @7: 0.17601380500431407\n",
      "validation micro-F1 @8: 0.17660377358490567\n",
      "validation micro-F1 @9: 0.1727731092436975\n",
      "validation micro-F1 @10: 0.16803154382772217\n"
     ]
    },
    {
     "name": "stderr",
     "output_type": "stream",
     "text": [
      "\r",
      "21it [1:08:12, 264.46s/it]"
     ]
    },
    {
     "name": "stdout",
     "output_type": "stream",
     "text": [
      "iter: 20, configuration: {'svm_degree': 5, 'svm_kernel': 'poly', 'svm_c': 0.1, 'medoid_normalization': 'standard', 'nb_medoids_ratio': 0.4, 'svm_gamma': 'auto'}\n",
      "\n",
      "validation micro-F1 @1: 0.18072289156626506\n",
      "validation micro-F1 @2: 0.19161676646706588\n",
      "validation micro-F1 @3: 0.188\n",
      "validation micro-F1 @4: 0.18345864661654135\n",
      "validation micro-F1 @5: 0.17962628089210367\n",
      "validation micro-F1 @6: 0.17522658610271905\n",
      "validation micro-F1 @7: 0.17680034497628289\n",
      "validation micro-F1 @8: 0.17522658610271905\n",
      "validation micro-F1 @9: 0.1740006718172657\n",
      "validation micro-F1 @10: 0.17025143895789155\n"
     ]
    },
    {
     "name": "stderr",
     "output_type": "stream",
     "text": [
      "\r",
      "22it [1:13:12, 275.23s/it]"
     ]
    },
    {
     "name": "stdout",
     "output_type": "stream",
     "text": [
      "iter: 21, configuration: {'svm_degree': 3, 'svm_kernel': 'poly', 'svm_c': 1, 'medoid_normalization': 'standard', 'nb_medoids_ratio': 0.4, 'svm_gamma': 'auto'}\n",
      "\n",
      "validation micro-F1 @1: 0.1696969696969697\n",
      "validation micro-F1 @2: 0.18618618618618618\n",
      "validation micro-F1 @3: 0.18618618618618618\n",
      "validation micro-F1 @4: 0.18754688672168043\n",
      "validation micro-F1 @5: 0.18181818181818182\n",
      "validation micro-F1 @6: 0.17522658610271905\n",
      "validation micro-F1 @7: 0.17048896581566422\n",
      "validation micro-F1 @8: 0.17108251324753973\n",
      "validation micro-F1 @9: 0.17338709677419356\n",
      "validation micro-F1 @10: 0.17025143895789155\n"
     ]
    },
    {
     "name": "stderr",
     "output_type": "stream",
     "text": [
      "\r",
      "23it [1:18:23, 285.94s/it]"
     ]
    },
    {
     "name": "stdout",
     "output_type": "stream",
     "text": [
      "iter: 22, configuration: {'svm_degree': 4, 'svm_kernel': 'poly', 'svm_c': 1, 'medoid_normalization': 'standard', 'nb_medoids_ratio': 0.4, 'svm_gamma': 'auto'}\n",
      "\n",
      "validation micro-F1 @1: 0.18072289156626506\n",
      "validation micro-F1 @2: 0.19701492537313434\n",
      "validation micro-F1 @3: 0.188\n",
      "validation micro-F1 @4: 0.18345864661654135\n",
      "validation micro-F1 @5: 0.1829121540312876\n",
      "validation micro-F1 @6: 0.18072289156626506\n",
      "validation micro-F1 @7: 0.18072289156626506\n",
      "validation micro-F1 @8: 0.17660377358490567\n",
      "validation micro-F1 @9: 0.17522658610271905\n",
      "validation micro-F1 @10: 0.16858702243784113\n"
     ]
    },
    {
     "name": "stderr",
     "output_type": "stream",
     "text": [
      "\r",
      "24it [1:23:46, 296.96s/it]"
     ]
    },
    {
     "name": "stdout",
     "output_type": "stream",
     "text": [
      "iter: 23, configuration: {'svm_degree': 5, 'svm_kernel': 'poly', 'svm_c': 1, 'medoid_normalization': 'standard', 'nb_medoids_ratio': 0.4, 'svm_gamma': 'auto'}\n",
      "\n",
      "validation micro-F1 @1: 0.18072289156626506\n",
      "validation micro-F1 @2: 0.19701492537313434\n",
      "validation micro-F1 @3: 0.188\n",
      "validation micro-F1 @4: 0.18209179834462003\n",
      "validation micro-F1 @5: 0.18181818181818182\n",
      "validation micro-F1 @6: 0.1816357250376317\n",
      "validation micro-F1 @7: 0.17993973310374517\n",
      "validation micro-F1 @8: 0.17591543978859947\n",
      "validation micro-F1 @9: 0.17461383478844864\n",
      "validation micro-F1 @10: 0.17025143895789155\n"
     ]
    },
    {
     "name": "stderr",
     "output_type": "stream",
     "text": [
      "\r",
      "25it [1:29:03, 303.08s/it]"
     ]
    },
    {
     "name": "stdout",
     "output_type": "stream",
     "text": [
      "iter: 24, configuration: {'svm_degree': 3, 'svm_kernel': 'poly', 'svm_c': 10, 'medoid_normalization': 'standard', 'nb_medoids_ratio': 0.4, 'svm_gamma': 'auto'}\n",
      "\n",
      "validation micro-F1 @1: 0.17522658610271905\n",
      "validation micro-F1 @2: 0.1696969696969697\n",
      "validation micro-F1 @3: 0.1843687374749499\n",
      "validation micro-F1 @4: 0.18209179834462003\n",
      "validation micro-F1 @5: 0.17852834740651388\n",
      "validation micro-F1 @6: 0.17889447236180905\n",
      "validation micro-F1 @7: 0.17837139164153382\n",
      "validation micro-F1 @8: 0.17453721193804306\n",
      "validation micro-F1 @9: 0.17215870880968392\n",
      "validation micro-F1 @10: 0.17025143895789155\n"
     ]
    },
    {
     "name": "stderr",
     "output_type": "stream",
     "text": [
      "\r",
      "26it [1:34:26, 309.07s/it]"
     ]
    },
    {
     "name": "stdout",
     "output_type": "stream",
     "text": [
      "iter: 25, configuration: {'svm_degree': 4, 'svm_kernel': 'poly', 'svm_c': 10, 'medoid_normalization': 'standard', 'nb_medoids_ratio': 0.4, 'svm_gamma': 'auto'}\n",
      "\n",
      "validation micro-F1 @1: 0.18072289156626506\n",
      "validation micro-F1 @2: 0.19701492537313434\n",
      "validation micro-F1 @3: 0.18618618618618618\n",
      "validation micro-F1 @4: 0.17935192162773173\n",
      "validation micro-F1 @5: 0.17962628089210367\n",
      "validation micro-F1 @6: 0.1743073047858942\n",
      "validation micro-F1 @7: 0.17758620689655172\n",
      "validation micro-F1 @8: 0.17660377358490567\n",
      "validation micro-F1 @9: 0.17461383478844864\n",
      "validation micro-F1 @10: 0.17135937026945203\n"
     ]
    },
    {
     "name": "stderr",
     "output_type": "stream",
     "text": [
      "\r",
      "27it [1:39:46, 312.34s/it]"
     ]
    },
    {
     "name": "stdout",
     "output_type": "stream",
     "text": [
      "iter: 26, configuration: {'svm_degree': 5, 'svm_kernel': 'poly', 'svm_c': 10, 'medoid_normalization': 'standard', 'nb_medoids_ratio': 0.4, 'svm_gamma': 'auto'}\n",
      "\n",
      "validation micro-F1 @1: 0.18072289156626506\n",
      "validation micro-F1 @2: 0.19431988041853512\n",
      "validation micro-F1 @3: 0.18254764292878636\n",
      "validation micro-F1 @4: 0.18209179834462003\n",
      "validation micro-F1 @5: 0.17962628089210367\n",
      "validation micro-F1 @6: 0.1779788838612368\n",
      "validation micro-F1 @7: 0.18072289156626506\n",
      "validation micro-F1 @8: 0.1779788838612368\n",
      "validation micro-F1 @9: 0.17522658610271905\n",
      "validation micro-F1 @10: 0.17191283292978207\n"
     ]
    },
    {
     "name": "stderr",
     "output_type": "stream",
     "text": [
      "\r",
      "28it [1:42:00, 258.77s/it]"
     ]
    },
    {
     "name": "stdout",
     "output_type": "stream",
     "text": [
      "iter: 27, configuration: {'svm_degree': 3, 'svm_kernel': 'poly', 'svm_c': 0.1, 'medoid_normalization': 'minmax', 'nb_medoids_ratio': 0.2, 'svm_gamma': 'auto'}\n",
      "\n",
      "validation micro-F1 @1: 0.18072289156626506\n",
      "validation micro-F1 @2: 0.19161676646706588\n",
      "validation micro-F1 @3: 0.1843687374749499\n",
      "validation micro-F1 @4: 0.18754688672168043\n",
      "validation micro-F1 @5: 0.18181818181818182\n",
      "validation micro-F1 @6: 0.17522658610271905\n",
      "validation micro-F1 @7: 0.17365010799136069\n",
      "validation micro-F1 @8: 0.17591543978859947\n",
      "validation micro-F1 @9: 0.17215870880968392\n",
      "validation micro-F1 @10: 0.16803154382772217\n"
     ]
    },
    {
     "name": "stderr",
     "output_type": "stream",
     "text": [
      "\r",
      "29it [1:44:15, 221.53s/it]"
     ]
    },
    {
     "name": "stdout",
     "output_type": "stream",
     "text": [
      "iter: 28, configuration: {'svm_degree': 4, 'svm_kernel': 'poly', 'svm_c': 0.1, 'medoid_normalization': 'minmax', 'nb_medoids_ratio': 0.2, 'svm_gamma': 'auto'}\n",
      "\n",
      "validation micro-F1 @1: 0.18072289156626506\n",
      "validation micro-F1 @2: 0.19701492537313434\n",
      "validation micro-F1 @3: 0.18618618618618618\n",
      "validation micro-F1 @4: 0.18209179834462003\n",
      "validation micro-F1 @5: 0.18400481058328322\n",
      "validation micro-F1 @6: 0.1870935467733867\n",
      "validation micro-F1 @7: 0.18306832831972497\n",
      "validation micro-F1 @8: 0.17591543978859947\n",
      "validation micro-F1 @9: 0.1715438950554995\n",
      "validation micro-F1 @10: 0.17080557238037553\n"
     ]
    },
    {
     "name": "stderr",
     "output_type": "stream",
     "text": [
      "\r",
      "30it [1:46:32, 196.24s/it]"
     ]
    },
    {
     "name": "stdout",
     "output_type": "stream",
     "text": [
      "iter: 29, configuration: {'svm_degree': 5, 'svm_kernel': 'poly', 'svm_c': 0.1, 'medoid_normalization': 'minmax', 'nb_medoids_ratio': 0.2, 'svm_gamma': 'auto'}\n",
      "\n",
      "validation micro-F1 @1: 0.18072289156626506\n",
      "validation micro-F1 @2: 0.19431988041853512\n",
      "validation micro-F1 @3: 0.18981018981018982\n",
      "validation micro-F1 @4: 0.18482344102178813\n",
      "validation micro-F1 @5: 0.1829121540312876\n",
      "validation micro-F1 @6: 0.18072289156626506\n",
      "validation micro-F1 @7: 0.17993973310374517\n",
      "validation micro-F1 @8: 0.17522658610271905\n",
      "validation micro-F1 @9: 0.1727731092436975\n",
      "validation micro-F1 @10: 0.17025143895789155\n"
     ]
    },
    {
     "name": "stderr",
     "output_type": "stream",
     "text": [
      "\r",
      "31it [1:48:47, 177.92s/it]"
     ]
    },
    {
     "name": "stdout",
     "output_type": "stream",
     "text": [
      "iter: 30, configuration: {'svm_degree': 3, 'svm_kernel': 'poly', 'svm_c': 1, 'medoid_normalization': 'minmax', 'nb_medoids_ratio': 0.2, 'svm_gamma': 'auto'}\n",
      "\n",
      "validation micro-F1 @1: 0.18072289156626506\n",
      "validation micro-F1 @2: 0.19161676646706588\n",
      "validation micro-F1 @3: 0.18254764292878636\n",
      "validation micro-F1 @4: 0.18209179834462003\n",
      "validation micro-F1 @5: 0.18181818181818182\n",
      "validation micro-F1 @6: 0.17338709677419356\n",
      "validation micro-F1 @7: 0.17758620689655172\n",
      "validation micro-F1 @8: 0.17522658610271905\n",
      "validation micro-F1 @9: 0.1659919028340081\n",
      "validation micro-F1 @10: 0.16858702243784113\n"
     ]
    },
    {
     "name": "stderr",
     "output_type": "stream",
     "text": [
      "\r",
      "32it [1:51:08, 166.68s/it]"
     ]
    },
    {
     "name": "stdout",
     "output_type": "stream",
     "text": [
      "iter: 31, configuration: {'svm_degree': 4, 'svm_kernel': 'poly', 'svm_c': 1, 'medoid_normalization': 'minmax', 'nb_medoids_ratio': 0.2, 'svm_gamma': 'auto'}\n",
      "\n",
      "validation micro-F1 @1: 0.18072289156626506\n",
      "validation micro-F1 @2: 0.1889055472263868\n",
      "validation micro-F1 @3: 0.18981018981018982\n",
      "validation micro-F1 @4: 0.18482344102178813\n",
      "validation micro-F1 @5: 0.17962628089210367\n",
      "validation micro-F1 @6: 0.1779788838612368\n",
      "validation micro-F1 @7: 0.17680034497628289\n",
      "validation micro-F1 @8: 0.17315689981096408\n",
      "validation micro-F1 @9: 0.1727731092436975\n",
      "validation micro-F1 @10: 0.16858702243784113\n"
     ]
    },
    {
     "name": "stderr",
     "output_type": "stream",
     "text": [
      "\r",
      "33it [1:53:35, 160.73s/it]"
     ]
    },
    {
     "name": "stdout",
     "output_type": "stream",
     "text": [
      "iter: 32, configuration: {'svm_degree': 5, 'svm_kernel': 'poly', 'svm_c': 1, 'medoid_normalization': 'minmax', 'nb_medoids_ratio': 0.2, 'svm_gamma': 'auto'}\n",
      "\n",
      "validation micro-F1 @1: 0.18072289156626506\n",
      "validation micro-F1 @2: 0.19431988041853512\n",
      "validation micro-F1 @3: 0.1843687374749499\n",
      "validation micro-F1 @4: 0.18209179834462003\n",
      "validation micro-F1 @5: 0.18072289156626506\n",
      "validation micro-F1 @6: 0.18254764292878636\n",
      "validation micro-F1 @7: 0.18072289156626506\n",
      "validation micro-F1 @8: 0.17729158807996984\n",
      "validation micro-F1 @9: 0.1740006718172657\n",
      "validation micro-F1 @10: 0.17080557238037553\n"
     ]
    },
    {
     "name": "stderr",
     "output_type": "stream",
     "text": [
      "\r",
      "34it [1:55:59, 155.71s/it]"
     ]
    },
    {
     "name": "stdout",
     "output_type": "stream",
     "text": [
      "iter: 33, configuration: {'svm_degree': 3, 'svm_kernel': 'poly', 'svm_c': 10, 'medoid_normalization': 'minmax', 'nb_medoids_ratio': 0.2, 'svm_gamma': 'auto'}\n",
      "\n",
      "validation micro-F1 @1: 0.1696969696969697\n",
      "validation micro-F1 @2: 0.18618618618618618\n",
      "validation micro-F1 @3: 0.18072289156626506\n",
      "validation micro-F1 @4: 0.17935192162773173\n",
      "validation micro-F1 @5: 0.18400481058328322\n",
      "validation micro-F1 @6: 0.1779788838612368\n",
      "validation micro-F1 @7: 0.18072289156626506\n",
      "validation micro-F1 @8: 0.17522658610271905\n",
      "validation micro-F1 @9: 0.17215870880968392\n",
      "validation micro-F1 @10: 0.16803154382772217\n"
     ]
    },
    {
     "name": "stderr",
     "output_type": "stream",
     "text": [
      "\r",
      "35it [1:58:24, 152.72s/it]"
     ]
    },
    {
     "name": "stdout",
     "output_type": "stream",
     "text": [
      "iter: 34, configuration: {'svm_degree': 4, 'svm_kernel': 'poly', 'svm_c': 10, 'medoid_normalization': 'minmax', 'nb_medoids_ratio': 0.2, 'svm_gamma': 'auto'}\n",
      "\n",
      "validation micro-F1 @1: 0.18072289156626506\n",
      "validation micro-F1 @2: 0.18618618618618618\n",
      "validation micro-F1 @3: 0.1843687374749499\n",
      "validation micro-F1 @4: 0.18209179834462003\n",
      "validation micro-F1 @5: 0.18400481058328322\n",
      "validation micro-F1 @6: 0.1816357250376317\n",
      "validation micro-F1 @7: 0.1822871883061049\n",
      "validation micro-F1 @8: 0.17866566151526575\n",
      "validation micro-F1 @9: 0.17461383478844864\n",
      "validation micro-F1 @10: 0.17025143895789155\n"
     ]
    },
    {
     "name": "stderr",
     "output_type": "stream",
     "text": [
      "\r",
      "36it [2:00:50, 150.68s/it]"
     ]
    },
    {
     "name": "stdout",
     "output_type": "stream",
     "text": [
      "iter: 35, configuration: {'svm_degree': 5, 'svm_kernel': 'poly', 'svm_c': 10, 'medoid_normalization': 'minmax', 'nb_medoids_ratio': 0.2, 'svm_gamma': 'auto'}\n",
      "\n",
      "validation micro-F1 @1: 0.18618618618618618\n",
      "validation micro-F1 @2: 0.19701492537313434\n",
      "validation micro-F1 @3: 0.18981018981018982\n",
      "validation micro-F1 @4: 0.18345864661654135\n",
      "validation micro-F1 @5: 0.17962628089210367\n",
      "validation micro-F1 @6: 0.18345864661654135\n",
      "validation micro-F1 @7: 0.18150537634408603\n",
      "validation micro-F1 @8: 0.18072289156626506\n",
      "validation micro-F1 @9: 0.1740006718172657\n",
      "validation micro-F1 @10: 0.17135937026945203\n"
     ]
    },
    {
     "name": "stderr",
     "output_type": "stream",
     "text": [
      "\r",
      "37it [2:04:22, 169.04s/it]"
     ]
    },
    {
     "name": "stdout",
     "output_type": "stream",
     "text": [
      "iter: 36, configuration: {'svm_degree': 3, 'svm_kernel': 'poly', 'svm_c': 0.1, 'medoid_normalization': 'minmax', 'nb_medoids_ratio': 0.3, 'svm_gamma': 'auto'}\n",
      "\n",
      "validation micro-F1 @1: 0.18618618618618618\n",
      "validation micro-F1 @2: 0.18072289156626506\n",
      "validation micro-F1 @3: 0.18254764292878636\n",
      "validation micro-F1 @4: 0.18209179834462003\n",
      "validation micro-F1 @5: 0.18181818181818182\n",
      "validation micro-F1 @6: 0.17889447236180905\n",
      "validation micro-F1 @7: 0.17837139164153382\n",
      "validation micro-F1 @8: 0.17866566151526575\n",
      "validation micro-F1 @9: 0.1740006718172657\n",
      "validation micro-F1 @10: 0.16914216429220977\n"
     ]
    },
    {
     "name": "stderr",
     "output_type": "stream",
     "text": [
      "\r",
      "38it [2:07:55, 182.07s/it]"
     ]
    },
    {
     "name": "stdout",
     "output_type": "stream",
     "text": [
      "iter: 37, configuration: {'svm_degree': 4, 'svm_kernel': 'poly', 'svm_c': 0.1, 'medoid_normalization': 'minmax', 'nb_medoids_ratio': 0.3, 'svm_gamma': 'auto'}\n",
      "\n",
      "validation micro-F1 @1: 0.18072289156626506\n",
      "validation micro-F1 @2: 0.1889055472263868\n",
      "validation micro-F1 @3: 0.19161676646706588\n",
      "validation micro-F1 @4: 0.18754688672168043\n",
      "validation micro-F1 @5: 0.18400481058328322\n",
      "validation micro-F1 @6: 0.1816357250376317\n",
      "validation micro-F1 @7: 0.17993973310374517\n",
      "validation micro-F1 @8: 0.17177449867574726\n",
      "validation micro-F1 @9: 0.16846361185983827\n",
      "validation micro-F1 @10: 0.17135937026945203\n"
     ]
    },
    {
     "name": "stderr",
     "output_type": "stream",
     "text": [
      "\r",
      "39it [2:11:31, 192.41s/it]"
     ]
    },
    {
     "name": "stdout",
     "output_type": "stream",
     "text": [
      "iter: 38, configuration: {'svm_degree': 5, 'svm_kernel': 'poly', 'svm_c': 0.1, 'medoid_normalization': 'minmax', 'nb_medoids_ratio': 0.3, 'svm_gamma': 'auto'}\n",
      "\n",
      "validation micro-F1 @1: 0.18618618618618618\n",
      "validation micro-F1 @2: 0.1889055472263868\n",
      "validation micro-F1 @3: 0.19161676646706588\n",
      "validation micro-F1 @4: 0.18345864661654135\n",
      "validation micro-F1 @5: 0.17962628089210367\n",
      "validation micro-F1 @6: 0.1779788838612368\n",
      "validation micro-F1 @7: 0.17993973310374517\n",
      "validation micro-F1 @8: 0.17591543978859947\n",
      "validation micro-F1 @9: 0.1727731092436975\n",
      "validation micro-F1 @10: 0.17191283292978207\n"
     ]
    },
    {
     "name": "stderr",
     "output_type": "stream",
     "text": [
      "\r",
      "40it [2:15:09, 200.18s/it]"
     ]
    },
    {
     "name": "stdout",
     "output_type": "stream",
     "text": [
      "iter: 39, configuration: {'svm_degree': 3, 'svm_kernel': 'poly', 'svm_c': 1, 'medoid_normalization': 'minmax', 'nb_medoids_ratio': 0.3, 'svm_gamma': 'auto'}\n",
      "\n",
      "validation micro-F1 @1: 0.18072289156626506\n",
      "validation micro-F1 @2: 0.18345864661654135\n",
      "validation micro-F1 @3: 0.17706237424547283\n",
      "validation micro-F1 @4: 0.18072289156626506\n",
      "validation micro-F1 @5: 0.17852834740651388\n",
      "validation micro-F1 @6: 0.1816357250376317\n",
      "validation micro-F1 @7: 0.17837139164153382\n",
      "validation micro-F1 @8: 0.17315689981096408\n",
      "validation micro-F1 @9: 0.17092866756393002\n",
      "validation micro-F1 @10: 0.16858702243784113\n"
     ]
    },
    {
     "name": "stderr",
     "output_type": "stream",
     "text": [
      "\r",
      "41it [2:18:54, 207.50s/it]"
     ]
    },
    {
     "name": "stdout",
     "output_type": "stream",
     "text": [
      "iter: 40, configuration: {'svm_degree': 4, 'svm_kernel': 'poly', 'svm_c': 1, 'medoid_normalization': 'minmax', 'nb_medoids_ratio': 0.3, 'svm_gamma': 'auto'}\n",
      "\n",
      "validation micro-F1 @1: 0.18618618618618618\n",
      "validation micro-F1 @2: 0.19701492537313434\n",
      "validation micro-F1 @3: 0.19161676646706588\n",
      "validation micro-F1 @4: 0.18209179834462003\n",
      "validation micro-F1 @5: 0.18072289156626506\n",
      "validation micro-F1 @6: 0.17889447236180905\n",
      "validation micro-F1 @7: 0.18072289156626506\n",
      "validation micro-F1 @8: 0.17660377358490567\n",
      "validation micro-F1 @9: 0.1696969696969697\n",
      "validation micro-F1 @10: 0.17080557238037553\n"
     ]
    },
    {
     "name": "stderr",
     "output_type": "stream",
     "text": [
      "\r",
      "42it [2:22:48, 215.35s/it]"
     ]
    },
    {
     "name": "stdout",
     "output_type": "stream",
     "text": [
      "iter: 41, configuration: {'svm_degree': 5, 'svm_kernel': 'poly', 'svm_c': 1, 'medoid_normalization': 'minmax', 'nb_medoids_ratio': 0.3, 'svm_gamma': 'auto'}\n",
      "\n",
      "validation micro-F1 @1: 0.18072289156626506\n",
      "validation micro-F1 @2: 0.19161676646706588\n",
      "validation micro-F1 @3: 0.188\n",
      "validation micro-F1 @4: 0.18209179834462003\n",
      "validation micro-F1 @5: 0.18072289156626506\n",
      "validation micro-F1 @6: 0.1816357250376317\n",
      "validation micro-F1 @7: 0.17993973310374517\n",
      "validation micro-F1 @8: 0.17866566151526575\n",
      "validation micro-F1 @9: 0.17215870880968392\n",
      "validation micro-F1 @10: 0.17080557238037553\n"
     ]
    },
    {
     "name": "stderr",
     "output_type": "stream",
     "text": [
      "\r",
      "43it [2:26:38, 219.77s/it]"
     ]
    },
    {
     "name": "stdout",
     "output_type": "stream",
     "text": [
      "iter: 42, configuration: {'svm_degree': 3, 'svm_kernel': 'poly', 'svm_c': 10, 'medoid_normalization': 'minmax', 'nb_medoids_ratio': 0.3, 'svm_gamma': 'auto'}\n",
      "\n",
      "validation micro-F1 @1: 0.18618618618618618\n",
      "validation micro-F1 @2: 0.19161676646706588\n",
      "validation micro-F1 @3: 0.19161676646706588\n",
      "validation micro-F1 @4: 0.18618618618618618\n",
      "validation micro-F1 @5: 0.17962628089210367\n",
      "validation micro-F1 @6: 0.18345864661654135\n",
      "validation micro-F1 @7: 0.18072289156626506\n",
      "validation micro-F1 @8: 0.17246596066565809\n",
      "validation micro-F1 @9: 0.1727731092436975\n",
      "validation micro-F1 @10: 0.17191283292978207\n"
     ]
    },
    {
     "name": "stderr",
     "output_type": "stream",
     "text": [
      "\r",
      "44it [2:30:28, 222.87s/it]"
     ]
    },
    {
     "name": "stdout",
     "output_type": "stream",
     "text": [
      "iter: 43, configuration: {'svm_degree': 4, 'svm_kernel': 'poly', 'svm_c': 10, 'medoid_normalization': 'minmax', 'nb_medoids_ratio': 0.3, 'svm_gamma': 'auto'}\n",
      "\n",
      "validation micro-F1 @1: 0.18072289156626506\n",
      "validation micro-F1 @2: 0.19431988041853512\n",
      "validation micro-F1 @3: 0.1843687374749499\n",
      "validation micro-F1 @4: 0.18209179834462003\n",
      "validation micro-F1 @5: 0.18509615384615385\n",
      "validation micro-F1 @6: 0.18254764292878636\n",
      "validation micro-F1 @7: 0.17993973310374517\n",
      "validation micro-F1 @8: 0.17315689981096408\n",
      "validation micro-F1 @9: 0.1740006718172657\n",
      "validation micro-F1 @10: 0.16914216429220977\n"
     ]
    },
    {
     "name": "stderr",
     "output_type": "stream",
     "text": [
      "\r",
      "45it [2:34:19, 225.39s/it]"
     ]
    },
    {
     "name": "stdout",
     "output_type": "stream",
     "text": [
      "iter: 44, configuration: {'svm_degree': 5, 'svm_kernel': 'poly', 'svm_c': 10, 'medoid_normalization': 'minmax', 'nb_medoids_ratio': 0.3, 'svm_gamma': 'auto'}\n",
      "\n",
      "validation micro-F1 @1: 0.18072289156626506\n",
      "validation micro-F1 @2: 0.19431988041853512\n",
      "validation micro-F1 @3: 0.18618618618618618\n",
      "validation micro-F1 @4: 0.17935192162773173\n",
      "validation micro-F1 @5: 0.1829121540312876\n",
      "validation micro-F1 @6: 0.18072289156626506\n",
      "validation micro-F1 @7: 0.17993973310374517\n",
      "validation micro-F1 @8: 0.18140760255927738\n",
      "validation micro-F1 @9: 0.17338709677419356\n",
      "validation micro-F1 @10: 0.17135937026945203\n"
     ]
    },
    {
     "name": "stderr",
     "output_type": "stream",
     "text": [
      "\r",
      "46it [2:39:13, 246.04s/it]"
     ]
    },
    {
     "name": "stdout",
     "output_type": "stream",
     "text": [
      "iter: 45, configuration: {'svm_degree': 3, 'svm_kernel': 'poly', 'svm_c': 0.1, 'medoid_normalization': 'minmax', 'nb_medoids_ratio': 0.4, 'svm_gamma': 'auto'}\n",
      "\n",
      "validation micro-F1 @1: 0.18072289156626506\n",
      "validation micro-F1 @2: 0.19431988041853512\n",
      "validation micro-F1 @3: 0.18254764292878636\n",
      "validation micro-F1 @4: 0.18482344102178813\n",
      "validation micro-F1 @5: 0.18618618618618618\n",
      "validation micro-F1 @6: 0.1779788838612368\n",
      "validation micro-F1 @7: 0.18072289156626506\n",
      "validation micro-F1 @8: 0.17935192162773173\n",
      "validation micro-F1 @9: 0.17338709677419356\n",
      "validation micro-F1 @10: 0.17246596066565809\n"
     ]
    },
    {
     "name": "stderr",
     "output_type": "stream",
     "text": [
      "\r",
      "47it [2:44:08, 260.75s/it]"
     ]
    },
    {
     "name": "stdout",
     "output_type": "stream",
     "text": [
      "iter: 46, configuration: {'svm_degree': 4, 'svm_kernel': 'poly', 'svm_c': 0.1, 'medoid_normalization': 'minmax', 'nb_medoids_ratio': 0.4, 'svm_gamma': 'auto'}\n",
      "\n",
      "validation micro-F1 @1: 0.17522658610271905\n",
      "validation micro-F1 @2: 0.18345864661654135\n",
      "validation micro-F1 @3: 0.18618618618618618\n",
      "validation micro-F1 @4: 0.18345864661654135\n",
      "validation micro-F1 @5: 0.18181818181818182\n",
      "validation micro-F1 @6: 0.17522658610271905\n",
      "validation micro-F1 @7: 0.17680034497628289\n",
      "validation micro-F1 @8: 0.17660377358490567\n",
      "validation micro-F1 @9: 0.17092866756393002\n",
      "validation micro-F1 @10: 0.1696969696969697\n"
     ]
    },
    {
     "name": "stderr",
     "output_type": "stream",
     "text": [
      "\r",
      "48it [2:49:10, 273.08s/it]"
     ]
    },
    {
     "name": "stdout",
     "output_type": "stream",
     "text": [
      "iter: 47, configuration: {'svm_degree': 5, 'svm_kernel': 'poly', 'svm_c': 0.1, 'medoid_normalization': 'minmax', 'nb_medoids_ratio': 0.4, 'svm_gamma': 'auto'}\n",
      "\n",
      "validation micro-F1 @1: 0.18618618618618618\n",
      "validation micro-F1 @2: 0.1889055472263868\n",
      "validation micro-F1 @3: 0.18981018981018982\n",
      "validation micro-F1 @4: 0.18209179834462003\n",
      "validation micro-F1 @5: 0.18181818181818182\n",
      "validation micro-F1 @6: 0.18254764292878636\n",
      "validation micro-F1 @7: 0.1822871883061049\n",
      "validation micro-F1 @8: 0.17729158807996984\n",
      "validation micro-F1 @9: 0.17092866756393002\n",
      "validation micro-F1 @10: 0.17025143895789155\n"
     ]
    },
    {
     "name": "stderr",
     "output_type": "stream",
     "text": [
      "\r",
      "49it [2:54:12, 281.62s/it]"
     ]
    },
    {
     "name": "stdout",
     "output_type": "stream",
     "text": [
      "iter: 48, configuration: {'svm_degree': 3, 'svm_kernel': 'poly', 'svm_c': 1, 'medoid_normalization': 'minmax', 'nb_medoids_ratio': 0.4, 'svm_gamma': 'auto'}\n",
      "\n",
      "validation micro-F1 @1: 0.17522658610271905\n",
      "validation micro-F1 @2: 0.18072289156626506\n",
      "validation micro-F1 @3: 0.1843687374749499\n",
      "validation micro-F1 @4: 0.18072289156626506\n",
      "validation micro-F1 @5: 0.17962628089210367\n",
      "validation micro-F1 @6: 0.17246596066565809\n",
      "validation micro-F1 @7: 0.17601380500431407\n",
      "validation micro-F1 @8: 0.17108251324753973\n",
      "validation micro-F1 @9: 0.17338709677419356\n",
      "validation micro-F1 @10: 0.1696969696969697\n"
     ]
    },
    {
     "name": "stderr",
     "output_type": "stream",
     "text": [
      "\r",
      "50it [2:59:26, 291.38s/it]"
     ]
    },
    {
     "name": "stdout",
     "output_type": "stream",
     "text": [
      "iter: 49, configuration: {'svm_degree': 4, 'svm_kernel': 'poly', 'svm_c': 1, 'medoid_normalization': 'minmax', 'nb_medoids_ratio': 0.4, 'svm_gamma': 'auto'}\n",
      "\n",
      "validation micro-F1 @1: 0.18618618618618618\n",
      "validation micro-F1 @2: 0.19161676646706588\n",
      "validation micro-F1 @3: 0.193419740777667\n",
      "validation micro-F1 @4: 0.18482344102178813\n",
      "validation micro-F1 @5: 0.1829121540312876\n",
      "validation micro-F1 @6: 0.18072289156626506\n",
      "validation micro-F1 @7: 0.18462859596393302\n",
      "validation micro-F1 @8: 0.17729158807996984\n",
      "validation micro-F1 @9: 0.17461383478844864\n",
      "validation micro-F1 @10: 0.17080557238037553\n"
     ]
    },
    {
     "name": "stderr",
     "output_type": "stream",
     "text": [
      "\r",
      "51it [3:04:51, 301.47s/it]"
     ]
    },
    {
     "name": "stdout",
     "output_type": "stream",
     "text": [
      "iter: 50, configuration: {'svm_degree': 5, 'svm_kernel': 'poly', 'svm_c': 1, 'medoid_normalization': 'minmax', 'nb_medoids_ratio': 0.4, 'svm_gamma': 'auto'}\n",
      "\n",
      "validation micro-F1 @1: 0.18072289156626506\n",
      "validation micro-F1 @2: 0.19431988041853512\n",
      "validation micro-F1 @3: 0.18618618618618618\n",
      "validation micro-F1 @4: 0.18209179834462003\n",
      "validation micro-F1 @5: 0.17962628089210367\n",
      "validation micro-F1 @6: 0.17889447236180905\n",
      "validation micro-F1 @7: 0.1822871883061049\n",
      "validation micro-F1 @8: 0.17935192162773173\n",
      "validation micro-F1 @9: 0.17828418230563003\n",
      "validation micro-F1 @10: 0.17080557238037553\n"
     ]
    },
    {
     "name": "stderr",
     "output_type": "stream",
     "text": [
      "\r",
      "52it [3:10:10, 306.76s/it]"
     ]
    },
    {
     "name": "stdout",
     "output_type": "stream",
     "text": [
      "iter: 51, configuration: {'svm_degree': 3, 'svm_kernel': 'poly', 'svm_c': 10, 'medoid_normalization': 'minmax', 'nb_medoids_ratio': 0.4, 'svm_gamma': 'auto'}\n",
      "\n",
      "validation micro-F1 @1: 0.18072289156626506\n",
      "validation micro-F1 @2: 0.19161676646706588\n",
      "validation micro-F1 @3: 0.1843687374749499\n",
      "validation micro-F1 @4: 0.18209179834462003\n",
      "validation micro-F1 @5: 0.18618618618618618\n",
      "validation micro-F1 @6: 0.17980914113510799\n",
      "validation micro-F1 @7: 0.18150537634408603\n",
      "validation micro-F1 @8: 0.17246596066565809\n",
      "validation micro-F1 @9: 0.17215870880968392\n",
      "validation micro-F1 @10: 0.16914216429220977\n"
     ]
    },
    {
     "name": "stderr",
     "output_type": "stream",
     "text": [
      "\r",
      "53it [3:15:31, 310.86s/it]"
     ]
    },
    {
     "name": "stdout",
     "output_type": "stream",
     "text": [
      "iter: 52, configuration: {'svm_degree': 4, 'svm_kernel': 'poly', 'svm_c': 10, 'medoid_normalization': 'minmax', 'nb_medoids_ratio': 0.4, 'svm_gamma': 'auto'}\n",
      "\n",
      "validation micro-F1 @1: 0.18072289156626506\n",
      "validation micro-F1 @2: 0.19431988041853512\n",
      "validation micro-F1 @3: 0.1843687374749499\n",
      "validation micro-F1 @4: 0.18482344102178813\n",
      "validation micro-F1 @5: 0.1829121540312876\n",
      "validation micro-F1 @6: 0.1816357250376317\n",
      "validation micro-F1 @7: 0.18072289156626506\n",
      "validation micro-F1 @8: 0.18209179834462003\n",
      "validation micro-F1 @9: 0.1740006718172657\n",
      "validation micro-F1 @10: 0.17135937026945203\n"
     ]
    },
    {
     "name": "stderr",
     "output_type": "stream",
     "text": [
      "\r",
      "54it [3:20:52, 313.98s/it]"
     ]
    },
    {
     "name": "stdout",
     "output_type": "stream",
     "text": [
      "iter: 53, configuration: {'svm_degree': 5, 'svm_kernel': 'poly', 'svm_c': 10, 'medoid_normalization': 'minmax', 'nb_medoids_ratio': 0.4, 'svm_gamma': 'auto'}\n",
      "\n",
      "validation micro-F1 @1: 0.18618618618618618\n",
      "validation micro-F1 @2: 0.19701492537313434\n",
      "validation micro-F1 @3: 0.188\n",
      "validation micro-F1 @4: 0.18345864661654135\n",
      "validation micro-F1 @5: 0.18181818181818182\n",
      "validation micro-F1 @6: 0.18254764292878636\n",
      "validation micro-F1 @7: 0.18306832831972497\n",
      "validation micro-F1 @8: 0.18209179834462003\n",
      "validation micro-F1 @9: 0.17583892617449665\n",
      "validation micro-F1 @10: 0.16858702243784113\n"
     ]
    },
    {
     "name": "stderr",
     "output_type": "stream",
     "text": [
      "\r",
      "55it [3:23:05, 259.63s/it]"
     ]
    },
    {
     "name": "stdout",
     "output_type": "stream",
     "text": [
      "iter: 54, configuration: {'svm_degree': 3, 'svm_kernel': 'poly', 'svm_c': 0.1, 'medoid_normalization': None, 'nb_medoids_ratio': 0.2, 'svm_gamma': 'auto'}\n",
      "\n",
      "validation micro-F1 @1: 0.17522658610271905\n",
      "validation micro-F1 @2: 0.19431988041853512\n",
      "validation micro-F1 @3: 0.19161676646706588\n",
      "validation micro-F1 @4: 0.18618618618618618\n",
      "validation micro-F1 @5: 0.18618618618618618\n",
      "validation micro-F1 @6: 0.1843687374749499\n",
      "validation micro-F1 @7: 0.17680034497628289\n",
      "validation micro-F1 @8: 0.17384731670445955\n",
      "validation micro-F1 @9: 0.17215870880968392\n",
      "validation micro-F1 @10: 0.17135937026945203\n"
     ]
    },
    {
     "name": "stderr",
     "output_type": "stream",
     "text": [
      "\r",
      "56it [3:25:18, 221.84s/it]"
     ]
    },
    {
     "name": "stdout",
     "output_type": "stream",
     "text": [
      "iter: 55, configuration: {'svm_degree': 4, 'svm_kernel': 'poly', 'svm_c': 0.1, 'medoid_normalization': None, 'nb_medoids_ratio': 0.2, 'svm_gamma': 'auto'}\n",
      "\n",
      "validation micro-F1 @1: 0.1696969696969697\n",
      "validation micro-F1 @2: 0.19161676646706588\n",
      "validation micro-F1 @3: 0.193419740777667\n",
      "validation micro-F1 @4: 0.18754688672168043\n",
      "validation micro-F1 @5: 0.17962628089210367\n",
      "validation micro-F1 @6: 0.18254764292878636\n",
      "validation micro-F1 @7: 0.18306832831972497\n",
      "validation micro-F1 @8: 0.17522658610271905\n",
      "validation micro-F1 @9: 0.1696969696969697\n",
      "validation micro-F1 @10: 0.1696969696969697\n"
     ]
    },
    {
     "name": "stderr",
     "output_type": "stream",
     "text": [
      "\r",
      "57it [3:27:35, 196.21s/it]"
     ]
    },
    {
     "name": "stdout",
     "output_type": "stream",
     "text": [
      "iter: 56, configuration: {'svm_degree': 5, 'svm_kernel': 'poly', 'svm_c': 0.1, 'medoid_normalization': None, 'nb_medoids_ratio': 0.2, 'svm_gamma': 'auto'}\n",
      "\n",
      "validation micro-F1 @1: 0.18072289156626506\n",
      "validation micro-F1 @2: 0.19431988041853512\n",
      "validation micro-F1 @3: 0.18981018981018982\n",
      "validation micro-F1 @4: 0.18482344102178813\n",
      "validation micro-F1 @5: 0.18181818181818182\n",
      "validation micro-F1 @6: 0.17614494212380474\n",
      "validation micro-F1 @7: 0.17915590008613264\n",
      "validation micro-F1 @8: 0.17453721193804306\n",
      "validation micro-F1 @9: 0.17092866756393002\n",
      "validation micro-F1 @10: 0.17025143895789155\n"
     ]
    },
    {
     "name": "stderr",
     "output_type": "stream",
     "text": [
      "\r",
      "58it [3:29:51, 178.12s/it]"
     ]
    },
    {
     "name": "stdout",
     "output_type": "stream",
     "text": [
      "iter: 57, configuration: {'svm_degree': 3, 'svm_kernel': 'poly', 'svm_c': 1, 'medoid_normalization': None, 'nb_medoids_ratio': 0.2, 'svm_gamma': 'auto'}\n",
      "\n",
      "validation micro-F1 @1: 0.18072289156626506\n",
      "validation micro-F1 @2: 0.19701492537313434\n",
      "validation micro-F1 @3: 0.188\n",
      "validation micro-F1 @4: 0.18618618618618618\n",
      "validation micro-F1 @5: 0.18072289156626506\n",
      "validation micro-F1 @6: 0.17980914113510799\n",
      "validation micro-F1 @7: 0.17837139164153382\n",
      "validation micro-F1 @8: 0.17315689981096408\n",
      "validation micro-F1 @9: 0.1703130259171996\n",
      "validation micro-F1 @10: 0.16914216429220977\n"
     ]
    },
    {
     "name": "stderr",
     "output_type": "stream",
     "text": [
      "\r",
      "59it [3:32:10, 166.65s/it]"
     ]
    },
    {
     "name": "stdout",
     "output_type": "stream",
     "text": [
      "iter: 58, configuration: {'svm_degree': 4, 'svm_kernel': 'poly', 'svm_c': 1, 'medoid_normalization': None, 'nb_medoids_ratio': 0.2, 'svm_gamma': 'auto'}\n",
      "\n",
      "validation micro-F1 @1: 0.18072289156626506\n",
      "validation micro-F1 @2: 0.19161676646706588\n",
      "validation micro-F1 @3: 0.188\n",
      "validation micro-F1 @4: 0.18345864661654135\n",
      "validation micro-F1 @5: 0.17632850241545894\n",
      "validation micro-F1 @6: 0.1816357250376317\n",
      "validation micro-F1 @7: 0.17758620689655172\n",
      "validation micro-F1 @8: 0.1779788838612368\n",
      "validation micro-F1 @9: 0.17583892617449665\n",
      "validation micro-F1 @10: 0.17191283292978207\n"
     ]
    },
    {
     "name": "stderr",
     "output_type": "stream",
     "text": [
      "\r",
      "60it [3:34:38, 160.82s/it]"
     ]
    },
    {
     "name": "stdout",
     "output_type": "stream",
     "text": [
      "iter: 59, configuration: {'svm_degree': 5, 'svm_kernel': 'poly', 'svm_c': 1, 'medoid_normalization': None, 'nb_medoids_ratio': 0.2, 'svm_gamma': 'auto'}\n",
      "\n",
      "validation micro-F1 @1: 0.18072289156626506\n",
      "validation micro-F1 @2: 0.19161676646706588\n",
      "validation micro-F1 @3: 0.19161676646706588\n",
      "validation micro-F1 @4: 0.18072289156626506\n",
      "validation micro-F1 @5: 0.1829121540312876\n",
      "validation micro-F1 @6: 0.18254764292878636\n",
      "validation micro-F1 @7: 0.17915590008613264\n",
      "validation micro-F1 @8: 0.17384731670445955\n",
      "validation micro-F1 @9: 0.1715438950554995\n",
      "validation micro-F1 @10: 0.1696969696969697\n"
     ]
    },
    {
     "name": "stderr",
     "output_type": "stream",
     "text": [
      "\r",
      "61it [3:37:01, 155.52s/it]"
     ]
    },
    {
     "name": "stdout",
     "output_type": "stream",
     "text": [
      "iter: 60, configuration: {'svm_degree': 3, 'svm_kernel': 'poly', 'svm_c': 10, 'medoid_normalization': None, 'nb_medoids_ratio': 0.2, 'svm_gamma': 'auto'}\n",
      "\n",
      "validation micro-F1 @1: 0.18072289156626506\n",
      "validation micro-F1 @2: 0.18345864661654135\n",
      "validation micro-F1 @3: 0.1952191235059761\n",
      "validation micro-F1 @4: 0.18754688672168043\n",
      "validation micro-F1 @5: 0.17080557238037553\n",
      "validation micro-F1 @6: 0.17522658610271905\n",
      "validation micro-F1 @7: 0.17522658610271905\n",
      "validation micro-F1 @8: 0.17384731670445955\n",
      "validation micro-F1 @9: 0.17522658610271905\n",
      "validation micro-F1 @10: 0.17080557238037553\n"
     ]
    },
    {
     "name": "stderr",
     "output_type": "stream",
     "text": [
      "\r",
      "62it [3:39:27, 152.59s/it]"
     ]
    },
    {
     "name": "stdout",
     "output_type": "stream",
     "text": [
      "iter: 61, configuration: {'svm_degree': 4, 'svm_kernel': 'poly', 'svm_c': 10, 'medoid_normalization': None, 'nb_medoids_ratio': 0.2, 'svm_gamma': 'auto'}\n",
      "\n",
      "validation micro-F1 @1: 0.18072289156626506\n",
      "validation micro-F1 @2: 0.19431988041853512\n",
      "validation micro-F1 @3: 0.18618618618618618\n",
      "validation micro-F1 @4: 0.18345864661654135\n",
      "validation micro-F1 @5: 0.18181818181818182\n",
      "validation micro-F1 @6: 0.17706237424547283\n",
      "validation micro-F1 @7: 0.17837139164153382\n",
      "validation micro-F1 @8: 0.17660377358490567\n",
      "validation micro-F1 @9: 0.17338709677419356\n",
      "validation micro-F1 @10: 0.17080557238037553\n"
     ]
    },
    {
     "name": "stderr",
     "output_type": "stream",
     "text": [
      "\r",
      "63it [3:41:52, 150.38s/it]"
     ]
    },
    {
     "name": "stdout",
     "output_type": "stream",
     "text": [
      "iter: 62, configuration: {'svm_degree': 5, 'svm_kernel': 'poly', 'svm_c': 10, 'medoid_normalization': None, 'nb_medoids_ratio': 0.2, 'svm_gamma': 'auto'}\n",
      "\n",
      "validation micro-F1 @1: 0.18072289156626506\n",
      "validation micro-F1 @2: 0.19161676646706588\n",
      "validation micro-F1 @3: 0.188\n",
      "validation micro-F1 @4: 0.18345864661654135\n",
      "validation micro-F1 @5: 0.18072289156626506\n",
      "validation micro-F1 @6: 0.17889447236180905\n",
      "validation micro-F1 @7: 0.17915590008613264\n",
      "validation micro-F1 @8: 0.17935192162773173\n",
      "validation micro-F1 @9: 0.1740006718172657\n",
      "validation micro-F1 @10: 0.1696969696969697\n"
     ]
    },
    {
     "name": "stderr",
     "output_type": "stream",
     "text": [
      "\r",
      "64it [3:45:23, 168.59s/it]"
     ]
    },
    {
     "name": "stdout",
     "output_type": "stream",
     "text": [
      "iter: 63, configuration: {'svm_degree': 3, 'svm_kernel': 'poly', 'svm_c': 0.1, 'medoid_normalization': None, 'nb_medoids_ratio': 0.3, 'svm_gamma': 'auto'}\n",
      "\n",
      "validation micro-F1 @1: 0.17522658610271905\n",
      "validation micro-F1 @2: 0.1779788838612368\n",
      "validation micro-F1 @3: 0.18981018981018982\n",
      "validation micro-F1 @4: 0.18209179834462003\n",
      "validation micro-F1 @5: 0.17962628089210367\n",
      "validation micro-F1 @6: 0.17706237424547283\n",
      "validation micro-F1 @7: 0.17443868739205526\n",
      "validation micro-F1 @8: 0.17453721193804306\n",
      "validation micro-F1 @9: 0.1715438950554995\n",
      "validation micro-F1 @10: 0.17025143895789155\n"
     ]
    },
    {
     "name": "stderr",
     "output_type": "stream",
     "text": [
      "\r",
      "65it [3:48:56, 181.96s/it]"
     ]
    },
    {
     "name": "stdout",
     "output_type": "stream",
     "text": [
      "iter: 64, configuration: {'svm_degree': 4, 'svm_kernel': 'poly', 'svm_c': 0.1, 'medoid_normalization': None, 'nb_medoids_ratio': 0.3, 'svm_gamma': 'auto'}\n",
      "\n",
      "validation micro-F1 @1: 0.17522658610271905\n",
      "validation micro-F1 @2: 0.18618618618618618\n",
      "validation micro-F1 @3: 0.1843687374749499\n",
      "validation micro-F1 @4: 0.18345864661654135\n",
      "validation micro-F1 @5: 0.18072289156626506\n",
      "validation micro-F1 @6: 0.17980914113510799\n",
      "validation micro-F1 @7: 0.17758620689655172\n",
      "validation micro-F1 @8: 0.17522658610271905\n",
      "validation micro-F1 @9: 0.1727731092436975\n",
      "validation micro-F1 @10: 0.17080557238037553\n"
     ]
    },
    {
     "name": "stderr",
     "output_type": "stream",
     "text": [
      "\r",
      "66it [3:52:31, 192.01s/it]"
     ]
    },
    {
     "name": "stdout",
     "output_type": "stream",
     "text": [
      "iter: 65, configuration: {'svm_degree': 5, 'svm_kernel': 'poly', 'svm_c': 0.1, 'medoid_normalization': None, 'nb_medoids_ratio': 0.3, 'svm_gamma': 'auto'}\n",
      "\n",
      "validation micro-F1 @1: 0.18072289156626506\n",
      "validation micro-F1 @2: 0.19161676646706588\n",
      "validation micro-F1 @3: 0.188\n",
      "validation micro-F1 @4: 0.18209179834462003\n",
      "validation micro-F1 @5: 0.17962628089210367\n",
      "validation micro-F1 @6: 0.17980914113510799\n",
      "validation micro-F1 @7: 0.17837139164153382\n",
      "validation micro-F1 @8: 0.17522658610271905\n",
      "validation micro-F1 @9: 0.17092866756393002\n",
      "validation micro-F1 @10: 0.1696969696969697\n"
     ]
    },
    {
     "name": "stderr",
     "output_type": "stream",
     "text": [
      "\r",
      "67it [3:56:09, 199.53s/it]"
     ]
    },
    {
     "name": "stdout",
     "output_type": "stream",
     "text": [
      "iter: 66, configuration: {'svm_degree': 3, 'svm_kernel': 'poly', 'svm_c': 1, 'medoid_normalization': None, 'nb_medoids_ratio': 0.3, 'svm_gamma': 'auto'}\n",
      "\n",
      "validation micro-F1 @1: 0.1641337386018237\n",
      "validation micro-F1 @2: 0.18618618618618618\n",
      "validation micro-F1 @3: 0.19161676646706588\n",
      "validation micro-F1 @4: 0.18482344102178813\n",
      "validation micro-F1 @5: 0.18509615384615385\n",
      "validation micro-F1 @6: 0.18072289156626506\n",
      "validation micro-F1 @7: 0.17680034497628289\n",
      "validation micro-F1 @8: 0.17866566151526575\n",
      "validation micro-F1 @9: 0.17522658610271905\n",
      "validation micro-F1 @10: 0.17135937026945203\n"
     ]
    },
    {
     "name": "stderr",
     "output_type": "stream",
     "text": [
      "\r",
      "68it [3:59:52, 206.60s/it]"
     ]
    },
    {
     "name": "stdout",
     "output_type": "stream",
     "text": [
      "iter: 67, configuration: {'svm_degree': 4, 'svm_kernel': 'poly', 'svm_c': 1, 'medoid_normalization': None, 'nb_medoids_ratio': 0.3, 'svm_gamma': 'auto'}\n",
      "\n",
      "validation micro-F1 @1: 0.18072289156626506\n",
      "validation micro-F1 @2: 0.19161676646706588\n",
      "validation micro-F1 @3: 0.18618618618618618\n",
      "validation micro-F1 @4: 0.18482344102178813\n",
      "validation micro-F1 @5: 0.18072289156626506\n",
      "validation micro-F1 @6: 0.17614494212380474\n",
      "validation micro-F1 @7: 0.18072289156626506\n",
      "validation micro-F1 @8: 0.1800376647834275\n",
      "validation micro-F1 @9: 0.1740006718172657\n",
      "validation micro-F1 @10: 0.1696969696969697\n"
     ]
    },
    {
     "name": "stderr",
     "output_type": "stream",
     "text": [
      "\r",
      "69it [4:03:44, 214.43s/it]"
     ]
    },
    {
     "name": "stdout",
     "output_type": "stream",
     "text": [
      "iter: 68, configuration: {'svm_degree': 5, 'svm_kernel': 'poly', 'svm_c': 1, 'medoid_normalization': None, 'nb_medoids_ratio': 0.3, 'svm_gamma': 'auto'}\n",
      "\n",
      "validation micro-F1 @1: 0.18072289156626506\n",
      "validation micro-F1 @2: 0.19431988041853512\n",
      "validation micro-F1 @3: 0.18618618618618618\n",
      "validation micro-F1 @4: 0.18345864661654135\n",
      "validation micro-F1 @5: 0.1829121540312876\n",
      "validation micro-F1 @6: 0.18618618618618618\n",
      "validation micro-F1 @7: 0.18150537634408603\n",
      "validation micro-F1 @8: 0.17866566151526575\n",
      "validation micro-F1 @9: 0.17522658610271905\n",
      "validation micro-F1 @10: 0.17135937026945203\n"
     ]
    },
    {
     "name": "stderr",
     "output_type": "stream",
     "text": [
      "\r",
      "70it [4:07:32, 218.53s/it]"
     ]
    },
    {
     "name": "stdout",
     "output_type": "stream",
     "text": [
      "iter: 69, configuration: {'svm_degree': 3, 'svm_kernel': 'poly', 'svm_c': 10, 'medoid_normalization': None, 'nb_medoids_ratio': 0.3, 'svm_gamma': 'auto'}\n",
      "\n",
      "validation micro-F1 @1: 0.18618618618618618\n",
      "validation micro-F1 @2: 0.18618618618618618\n",
      "validation micro-F1 @3: 0.188\n",
      "validation micro-F1 @4: 0.18072289156626506\n",
      "validation micro-F1 @5: 0.17962628089210367\n",
      "validation micro-F1 @6: 0.17980914113510799\n",
      "validation micro-F1 @7: 0.18072289156626506\n",
      "validation micro-F1 @8: 0.17315689981096408\n",
      "validation micro-F1 @9: 0.17092866756393002\n",
      "validation micro-F1 @10: 0.17246596066565809\n"
     ]
    },
    {
     "name": "stderr",
     "output_type": "stream",
     "text": [
      "\r",
      "71it [4:11:23, 222.05s/it]"
     ]
    },
    {
     "name": "stdout",
     "output_type": "stream",
     "text": [
      "iter: 70, configuration: {'svm_degree': 4, 'svm_kernel': 'poly', 'svm_c': 10, 'medoid_normalization': None, 'nb_medoids_ratio': 0.3, 'svm_gamma': 'auto'}\n",
      "\n",
      "validation micro-F1 @1: 0.18072289156626506\n",
      "validation micro-F1 @2: 0.19431988041853512\n",
      "validation micro-F1 @3: 0.18618618618618618\n",
      "validation micro-F1 @4: 0.18209179834462003\n",
      "validation micro-F1 @5: 0.18181818181818182\n",
      "validation micro-F1 @6: 0.18072289156626506\n",
      "validation micro-F1 @7: 0.17837139164153382\n",
      "validation micro-F1 @8: 0.17660377358490567\n",
      "validation micro-F1 @9: 0.17461383478844864\n",
      "validation micro-F1 @10: 0.17080557238037553\n"
     ]
    },
    {
     "name": "stderr",
     "output_type": "stream",
     "text": [
      "\r",
      "72it [4:15:13, 224.51s/it]"
     ]
    },
    {
     "name": "stdout",
     "output_type": "stream",
     "text": [
      "iter: 71, configuration: {'svm_degree': 5, 'svm_kernel': 'poly', 'svm_c': 10, 'medoid_normalization': None, 'nb_medoids_ratio': 0.3, 'svm_gamma': 'auto'}\n",
      "\n",
      "validation micro-F1 @1: 0.18072289156626506\n",
      "validation micro-F1 @2: 0.19431988041853512\n",
      "validation micro-F1 @3: 0.1843687374749499\n",
      "validation micro-F1 @4: 0.18209179834462003\n",
      "validation micro-F1 @5: 0.18072289156626506\n",
      "validation micro-F1 @6: 0.18345864661654135\n",
      "validation micro-F1 @7: 0.18072289156626506\n",
      "validation micro-F1 @8: 0.17591543978859947\n",
      "validation micro-F1 @9: 0.17522658610271905\n",
      "validation micro-F1 @10: 0.17080557238037553\n"
     ]
    },
    {
     "name": "stderr",
     "output_type": "stream",
     "text": [
      "\r",
      "73it [4:20:07, 245.27s/it]"
     ]
    },
    {
     "name": "stdout",
     "output_type": "stream",
     "text": [
      "iter: 72, configuration: {'svm_degree': 3, 'svm_kernel': 'poly', 'svm_c': 0.1, 'medoid_normalization': None, 'nb_medoids_ratio': 0.4, 'svm_gamma': 'auto'}\n",
      "\n",
      "validation micro-F1 @1: 0.18072289156626506\n",
      "validation micro-F1 @2: 0.19701492537313434\n",
      "validation micro-F1 @3: 0.18981018981018982\n",
      "validation micro-F1 @4: 0.18754688672168043\n",
      "validation micro-F1 @5: 0.18509615384615385\n",
      "validation micro-F1 @6: 0.17889447236180905\n",
      "validation micro-F1 @7: 0.17443868739205526\n",
      "validation micro-F1 @8: 0.17246596066565809\n",
      "validation micro-F1 @9: 0.17215870880968392\n",
      "validation micro-F1 @10: 0.16914216429220977\n"
     ]
    },
    {
     "name": "stderr",
     "output_type": "stream",
     "text": [
      "\r",
      "74it [4:25:02, 260.41s/it]"
     ]
    },
    {
     "name": "stdout",
     "output_type": "stream",
     "text": [
      "iter: 73, configuration: {'svm_degree': 4, 'svm_kernel': 'poly', 'svm_c': 0.1, 'medoid_normalization': None, 'nb_medoids_ratio': 0.4, 'svm_gamma': 'auto'}\n",
      "\n",
      "validation micro-F1 @1: 0.17522658610271905\n",
      "validation micro-F1 @2: 0.18618618618618618\n",
      "validation micro-F1 @3: 0.18254764292878636\n",
      "validation micro-F1 @4: 0.18345864661654135\n",
      "validation micro-F1 @5: 0.18509615384615385\n",
      "validation micro-F1 @6: 0.17889447236180905\n",
      "validation micro-F1 @7: 0.17915590008613264\n",
      "validation micro-F1 @8: 0.17522658610271905\n",
      "validation micro-F1 @9: 0.1727731092436975\n",
      "validation micro-F1 @10: 0.1696969696969697\n"
     ]
    },
    {
     "name": "stderr",
     "output_type": "stream",
     "text": [
      "\r",
      "75it [4:30:04, 272.85s/it]"
     ]
    },
    {
     "name": "stdout",
     "output_type": "stream",
     "text": [
      "iter: 74, configuration: {'svm_degree': 5, 'svm_kernel': 'poly', 'svm_c': 0.1, 'medoid_normalization': None, 'nb_medoids_ratio': 0.4, 'svm_gamma': 'auto'}\n",
      "\n",
      "validation micro-F1 @1: 0.18072289156626506\n",
      "validation micro-F1 @2: 0.19161676646706588\n",
      "validation micro-F1 @3: 0.188\n",
      "validation micro-F1 @4: 0.18345864661654135\n",
      "validation micro-F1 @5: 0.18181818181818182\n",
      "validation micro-F1 @6: 0.17980914113510799\n",
      "validation micro-F1 @7: 0.17993973310374517\n",
      "validation micro-F1 @8: 0.17384731670445955\n",
      "validation micro-F1 @9: 0.1703130259171996\n",
      "validation micro-F1 @10: 0.1696969696969697\n"
     ]
    },
    {
     "name": "stderr",
     "output_type": "stream",
     "text": [
      "\r",
      "76it [4:35:08, 281.96s/it]"
     ]
    },
    {
     "name": "stdout",
     "output_type": "stream",
     "text": [
      "iter: 75, configuration: {'svm_degree': 3, 'svm_kernel': 'poly', 'svm_c': 1, 'medoid_normalization': None, 'nb_medoids_ratio': 0.4, 'svm_gamma': 'auto'}\n",
      "\n",
      "validation micro-F1 @1: 0.1696969696969697\n",
      "validation micro-F1 @2: 0.18345864661654135\n",
      "validation micro-F1 @3: 0.18254764292878636\n",
      "validation micro-F1 @4: 0.18072289156626506\n",
      "validation micro-F1 @5: 0.17852834740651388\n",
      "validation micro-F1 @6: 0.17614494212380474\n",
      "validation micro-F1 @7: 0.1822871883061049\n",
      "validation micro-F1 @8: 0.17246596066565809\n",
      "validation micro-F1 @9: 0.17215870880968392\n",
      "validation micro-F1 @10: 0.17191283292978207\n"
     ]
    },
    {
     "name": "stderr",
     "output_type": "stream",
     "text": [
      "\r",
      "77it [4:40:18, 290.51s/it]"
     ]
    },
    {
     "name": "stdout",
     "output_type": "stream",
     "text": [
      "iter: 76, configuration: {'svm_degree': 4, 'svm_kernel': 'poly', 'svm_c': 1, 'medoid_normalization': None, 'nb_medoids_ratio': 0.4, 'svm_gamma': 'auto'}\n",
      "\n",
      "validation micro-F1 @1: 0.18072289156626506\n",
      "validation micro-F1 @2: 0.19161676646706588\n",
      "validation micro-F1 @3: 0.18618618618618618\n",
      "validation micro-F1 @4: 0.18209179834462003\n",
      "validation micro-F1 @5: 0.18181818181818182\n",
      "validation micro-F1 @6: 0.17706237424547283\n",
      "validation micro-F1 @7: 0.18306832831972497\n",
      "validation micro-F1 @8: 0.17866566151526575\n",
      "validation micro-F1 @9: 0.17583892617449665\n",
      "validation micro-F1 @10: 0.17080557238037553\n"
     ]
    },
    {
     "name": "stderr",
     "output_type": "stream",
     "text": [
      "\r",
      "78it [4:45:43, 300.83s/it]"
     ]
    },
    {
     "name": "stdout",
     "output_type": "stream",
     "text": [
      "iter: 77, configuration: {'svm_degree': 5, 'svm_kernel': 'poly', 'svm_c': 1, 'medoid_normalization': None, 'nb_medoids_ratio': 0.4, 'svm_gamma': 'auto'}\n",
      "\n",
      "validation micro-F1 @1: 0.18072289156626506\n",
      "validation micro-F1 @2: 0.19161676646706588\n",
      "validation micro-F1 @3: 0.18981018981018982\n",
      "validation micro-F1 @4: 0.18345864661654135\n",
      "validation micro-F1 @5: 0.18072289156626506\n",
      "validation micro-F1 @6: 0.18072289156626506\n",
      "validation micro-F1 @7: 0.18150537634408603\n",
      "validation micro-F1 @8: 0.17866566151526575\n",
      "validation micro-F1 @9: 0.17522658610271905\n",
      "validation micro-F1 @10: 0.17080557238037553\n"
     ]
    },
    {
     "name": "stderr",
     "output_type": "stream",
     "text": [
      "\r",
      "79it [4:51:06, 307.57s/it]"
     ]
    },
    {
     "name": "stdout",
     "output_type": "stream",
     "text": [
      "iter: 78, configuration: {'svm_degree': 3, 'svm_kernel': 'poly', 'svm_c': 10, 'medoid_normalization': None, 'nb_medoids_ratio': 0.4, 'svm_gamma': 'auto'}\n",
      "\n",
      "validation micro-F1 @1: 0.17522658610271905\n",
      "validation micro-F1 @2: 0.1889055472263868\n",
      "validation micro-F1 @3: 0.1843687374749499\n",
      "validation micro-F1 @4: 0.18209179834462003\n",
      "validation micro-F1 @5: 0.18618618618618618\n",
      "validation micro-F1 @6: 0.17889447236180905\n",
      "validation micro-F1 @7: 0.18072289156626506\n",
      "validation micro-F1 @8: 0.17729158807996984\n",
      "validation micro-F1 @9: 0.1740006718172657\n",
      "validation micro-F1 @10: 0.17080557238037553\n"
     ]
    },
    {
     "name": "stderr",
     "output_type": "stream",
     "text": [
      "\r",
      "80it [4:56:27, 311.58s/it]"
     ]
    },
    {
     "name": "stdout",
     "output_type": "stream",
     "text": [
      "iter: 79, configuration: {'svm_degree': 4, 'svm_kernel': 'poly', 'svm_c': 10, 'medoid_normalization': None, 'nb_medoids_ratio': 0.4, 'svm_gamma': 'auto'}\n",
      "\n",
      "validation micro-F1 @1: 0.18072289156626506\n",
      "validation micro-F1 @2: 0.1889055472263868\n",
      "validation micro-F1 @3: 0.19161676646706588\n",
      "validation micro-F1 @4: 0.18209179834462003\n",
      "validation micro-F1 @5: 0.1829121540312876\n",
      "validation micro-F1 @6: 0.1779788838612368\n",
      "validation micro-F1 @7: 0.17680034497628289\n",
      "validation micro-F1 @8: 0.17935192162773173\n",
      "validation micro-F1 @9: 0.1740006718172657\n",
      "validation micro-F1 @10: 0.17025143895789155\n"
     ]
    },
    {
     "name": "stderr",
     "output_type": "stream",
     "text": [
      "\r",
      "81it [5:01:46, 313.67s/it]"
     ]
    },
    {
     "name": "stdout",
     "output_type": "stream",
     "text": [
      "iter: 80, configuration: {'svm_degree': 5, 'svm_kernel': 'poly', 'svm_c': 10, 'medoid_normalization': None, 'nb_medoids_ratio': 0.4, 'svm_gamma': 'auto'}\n",
      "\n",
      "validation micro-F1 @1: 0.18072289156626506\n",
      "validation micro-F1 @2: 0.19161676646706588\n",
      "validation micro-F1 @3: 0.193419740777667\n",
      "validation micro-F1 @4: 0.18618618618618618\n",
      "validation micro-F1 @5: 0.18181818181818182\n",
      "validation micro-F1 @6: 0.18345864661654135\n",
      "validation micro-F1 @7: 0.18150537634408603\n",
      "validation micro-F1 @8: 0.1779788838612368\n",
      "validation micro-F1 @9: 0.17645085541764507\n",
      "validation micro-F1 @10: 0.17025143895789155\n"
     ]
    },
    {
     "ename": "JoblibTypeError",
     "evalue": "JoblibTypeError\n___________________________________________________________________________\nMultiprocessing exception:\n...........................................................................\n/usr/lib/python3.5/runpy.py in _run_module_as_main(mod_name='ipykernel_launcher', alter_argv=1)\n    179         sys.exit(msg)\n    180     main_globals = sys.modules[\"__main__\"].__dict__\n    181     if alter_argv:\n    182         sys.argv[0] = mod_spec.origin\n    183     return _run_code(code, main_globals, None,\n--> 184                      \"__main__\", mod_spec)\n        mod_spec = ModuleSpec(name='ipykernel_launcher', loader=<_f...b/python3.5/site-packages/ipykernel_launcher.py')\n    185 \n    186 def run_module(mod_name, init_globals=None,\n    187                run_name=None, alter_sys=False):\n    188     \"\"\"Execute a module's code without importing it\n\n...........................................................................\n/usr/lib/python3.5/runpy.py in _run_code(code=<code object <module> at 0x7f3f497ae300, file \"/...3.5/site-packages/ipykernel_launcher.py\", line 5>, run_globals={'__builtins__': <module 'builtins' (built-in)>, '__cached__': '/home/felipe/tf-venv3/lib/python3.5/site-packages/__pycache__/ipykernel_launcher.cpython-35.pyc', '__doc__': 'Entry point for launching an IPython kernel.\\n\\nTh...orts until\\nafter removing the cwd from sys.path.\\n', '__file__': '/home/felipe/tf-venv3/lib/python3.5/site-packages/ipykernel_launcher.py', '__loader__': <_frozen_importlib_external.SourceFileLoader object>, '__name__': '__main__', '__package__': '', '__spec__': ModuleSpec(name='ipykernel_launcher', loader=<_f...b/python3.5/site-packages/ipykernel_launcher.py'), 'app': <module 'ipykernel.kernelapp' from '/home/felipe.../python3.5/site-packages/ipykernel/kernelapp.py'>, 'sys': <module 'sys' (built-in)>}, init_globals=None, mod_name='__main__', mod_spec=ModuleSpec(name='ipykernel_launcher', loader=<_f...b/python3.5/site-packages/ipykernel_launcher.py'), pkg_name='', script_name=None)\n     80                        __cached__ = cached,\n     81                        __doc__ = None,\n     82                        __loader__ = loader,\n     83                        __package__ = pkg_name,\n     84                        __spec__ = mod_spec)\n---> 85     exec(code, run_globals)\n        code = <code object <module> at 0x7f3f497ae300, file \"/...3.5/site-packages/ipykernel_launcher.py\", line 5>\n        run_globals = {'__builtins__': <module 'builtins' (built-in)>, '__cached__': '/home/felipe/tf-venv3/lib/python3.5/site-packages/__pycache__/ipykernel_launcher.cpython-35.pyc', '__doc__': 'Entry point for launching an IPython kernel.\\n\\nTh...orts until\\nafter removing the cwd from sys.path.\\n', '__file__': '/home/felipe/tf-venv3/lib/python3.5/site-packages/ipykernel_launcher.py', '__loader__': <_frozen_importlib_external.SourceFileLoader object>, '__name__': '__main__', '__package__': '', '__spec__': ModuleSpec(name='ipykernel_launcher', loader=<_f...b/python3.5/site-packages/ipykernel_launcher.py'), 'app': <module 'ipykernel.kernelapp' from '/home/felipe.../python3.5/site-packages/ipykernel/kernelapp.py'>, 'sys': <module 'sys' (built-in)>}\n     86     return run_globals\n     87 \n     88 def _run_module_code(code, init_globals=None,\n     89                     mod_name=None, mod_spec=None,\n\n...........................................................................\n/home/felipe/tf-venv3/lib/python3.5/site-packages/ipykernel_launcher.py in <module>()\n     11     # This is added back by InteractiveShellApp.init_path()\n     12     if sys.path[0] == '':\n     13         del sys.path[0]\n     14 \n     15     from ipykernel import kernelapp as app\n---> 16     app.launch_new_instance()\n\n...........................................................................\n/home/felipe/tf-venv3/lib/python3.5/site-packages/traitlets/config/application.py in launch_instance(cls=<class 'ipykernel.kernelapp.IPKernelApp'>, argv=None, **kwargs={})\n    653 \n    654         If a global instance already exists, this reinitializes and starts it\n    655         \"\"\"\n    656         app = cls.instance(**kwargs)\n    657         app.initialize(argv)\n--> 658         app.start()\n        app.start = <bound method IPKernelApp.start of <ipykernel.kernelapp.IPKernelApp object>>\n    659 \n    660 #-----------------------------------------------------------------------------\n    661 # utility functions, for convenience\n    662 #-----------------------------------------------------------------------------\n\n...........................................................................\n/home/felipe/tf-venv3/lib/python3.5/site-packages/ipykernel/kernelapp.py in start(self=<ipykernel.kernelapp.IPKernelApp object>)\n    472             return self.subapp.start()\n    473         if self.poller is not None:\n    474             self.poller.start()\n    475         self.kernel.start()\n    476         try:\n--> 477             ioloop.IOLoop.instance().start()\n    478         except KeyboardInterrupt:\n    479             pass\n    480 \n    481 launch_new_instance = IPKernelApp.launch_instance\n\n...........................................................................\n/home/felipe/tf-venv3/lib/python3.5/site-packages/zmq/eventloop/ioloop.py in start(self=<zmq.eventloop.ioloop.ZMQIOLoop object>)\n    172             )\n    173         return loop\n    174     \n    175     def start(self):\n    176         try:\n--> 177             super(ZMQIOLoop, self).start()\n        self.start = <bound method ZMQIOLoop.start of <zmq.eventloop.ioloop.ZMQIOLoop object>>\n    178         except ZMQError as e:\n    179             if e.errno == ETERM:\n    180                 # quietly return on ETERM\n    181                 pass\n\n...........................................................................\n/home/felipe/tf-venv3/lib/python3.5/site-packages/tornado/ioloop.py in start(self=<zmq.eventloop.ioloop.ZMQIOLoop object>)\n    883                 self._events.update(event_pairs)\n    884                 while self._events:\n    885                     fd, events = self._events.popitem()\n    886                     try:\n    887                         fd_obj, handler_func = self._handlers[fd]\n--> 888                         handler_func(fd_obj, events)\n        handler_func = <function wrap.<locals>.null_wrapper>\n        fd_obj = <zmq.sugar.socket.Socket object>\n        events = 1\n    889                     except (OSError, IOError) as e:\n    890                         if errno_from_exception(e) == errno.EPIPE:\n    891                             # Happens when the client closes the connection\n    892                             pass\n\n...........................................................................\n/home/felipe/tf-venv3/lib/python3.5/site-packages/tornado/stack_context.py in null_wrapper(*args=(<zmq.sugar.socket.Socket object>, 1), **kwargs={})\n    272         # Fast path when there are no active contexts.\n    273         def null_wrapper(*args, **kwargs):\n    274             try:\n    275                 current_state = _state.contexts\n    276                 _state.contexts = cap_contexts[0]\n--> 277                 return fn(*args, **kwargs)\n        args = (<zmq.sugar.socket.Socket object>, 1)\n        kwargs = {}\n    278             finally:\n    279                 _state.contexts = current_state\n    280         null_wrapper._wrapped = True\n    281         return null_wrapper\n\n...........................................................................\n/home/felipe/tf-venv3/lib/python3.5/site-packages/zmq/eventloop/zmqstream.py in _handle_events(self=<zmq.eventloop.zmqstream.ZMQStream object>, fd=<zmq.sugar.socket.Socket object>, events=1)\n    435             # dispatch events:\n    436             if events & IOLoop.ERROR:\n    437                 gen_log.error(\"got POLLERR event on ZMQStream, which doesn't make sense\")\n    438                 return\n    439             if events & IOLoop.READ:\n--> 440                 self._handle_recv()\n        self._handle_recv = <bound method ZMQStream._handle_recv of <zmq.eventloop.zmqstream.ZMQStream object>>\n    441                 if not self.socket:\n    442                     return\n    443             if events & IOLoop.WRITE:\n    444                 self._handle_send()\n\n...........................................................................\n/home/felipe/tf-venv3/lib/python3.5/site-packages/zmq/eventloop/zmqstream.py in _handle_recv(self=<zmq.eventloop.zmqstream.ZMQStream object>)\n    467                 gen_log.error(\"RECV Error: %s\"%zmq.strerror(e.errno))\n    468         else:\n    469             if self._recv_callback:\n    470                 callback = self._recv_callback\n    471                 # self._recv_callback = None\n--> 472                 self._run_callback(callback, msg)\n        self._run_callback = <bound method ZMQStream._run_callback of <zmq.eventloop.zmqstream.ZMQStream object>>\n        callback = <function wrap.<locals>.null_wrapper>\n        msg = [<zmq.sugar.frame.Frame object>, <zmq.sugar.frame.Frame object>, <zmq.sugar.frame.Frame object>, <zmq.sugar.frame.Frame object>, <zmq.sugar.frame.Frame object>, <zmq.sugar.frame.Frame object>, <zmq.sugar.frame.Frame object>]\n    473                 \n    474         # self.update_state()\n    475         \n    476 \n\n...........................................................................\n/home/felipe/tf-venv3/lib/python3.5/site-packages/zmq/eventloop/zmqstream.py in _run_callback(self=<zmq.eventloop.zmqstream.ZMQStream object>, callback=<function wrap.<locals>.null_wrapper>, *args=([<zmq.sugar.frame.Frame object>, <zmq.sugar.frame.Frame object>, <zmq.sugar.frame.Frame object>, <zmq.sugar.frame.Frame object>, <zmq.sugar.frame.Frame object>, <zmq.sugar.frame.Frame object>, <zmq.sugar.frame.Frame object>],), **kwargs={})\n    409         close our socket.\"\"\"\n    410         try:\n    411             # Use a NullContext to ensure that all StackContexts are run\n    412             # inside our blanket exception handler rather than outside.\n    413             with stack_context.NullContext():\n--> 414                 callback(*args, **kwargs)\n        callback = <function wrap.<locals>.null_wrapper>\n        args = ([<zmq.sugar.frame.Frame object>, <zmq.sugar.frame.Frame object>, <zmq.sugar.frame.Frame object>, <zmq.sugar.frame.Frame object>, <zmq.sugar.frame.Frame object>, <zmq.sugar.frame.Frame object>, <zmq.sugar.frame.Frame object>],)\n        kwargs = {}\n    415         except:\n    416             gen_log.error(\"Uncaught exception, closing connection.\",\n    417                           exc_info=True)\n    418             # Close the socket on an uncaught exception from a user callback\n\n...........................................................................\n/home/felipe/tf-venv3/lib/python3.5/site-packages/tornado/stack_context.py in null_wrapper(*args=([<zmq.sugar.frame.Frame object>, <zmq.sugar.frame.Frame object>, <zmq.sugar.frame.Frame object>, <zmq.sugar.frame.Frame object>, <zmq.sugar.frame.Frame object>, <zmq.sugar.frame.Frame object>, <zmq.sugar.frame.Frame object>],), **kwargs={})\n    272         # Fast path when there are no active contexts.\n    273         def null_wrapper(*args, **kwargs):\n    274             try:\n    275                 current_state = _state.contexts\n    276                 _state.contexts = cap_contexts[0]\n--> 277                 return fn(*args, **kwargs)\n        args = ([<zmq.sugar.frame.Frame object>, <zmq.sugar.frame.Frame object>, <zmq.sugar.frame.Frame object>, <zmq.sugar.frame.Frame object>, <zmq.sugar.frame.Frame object>, <zmq.sugar.frame.Frame object>, <zmq.sugar.frame.Frame object>],)\n        kwargs = {}\n    278             finally:\n    279                 _state.contexts = current_state\n    280         null_wrapper._wrapped = True\n    281         return null_wrapper\n\n...........................................................................\n/home/felipe/tf-venv3/lib/python3.5/site-packages/ipykernel/kernelbase.py in dispatcher(msg=[<zmq.sugar.frame.Frame object>, <zmq.sugar.frame.Frame object>, <zmq.sugar.frame.Frame object>, <zmq.sugar.frame.Frame object>, <zmq.sugar.frame.Frame object>, <zmq.sugar.frame.Frame object>, <zmq.sugar.frame.Frame object>])\n    278         if self.control_stream:\n    279             self.control_stream.on_recv(self.dispatch_control, copy=False)\n    280 \n    281         def make_dispatcher(stream):\n    282             def dispatcher(msg):\n--> 283                 return self.dispatch_shell(stream, msg)\n        msg = [<zmq.sugar.frame.Frame object>, <zmq.sugar.frame.Frame object>, <zmq.sugar.frame.Frame object>, <zmq.sugar.frame.Frame object>, <zmq.sugar.frame.Frame object>, <zmq.sugar.frame.Frame object>, <zmq.sugar.frame.Frame object>]\n    284             return dispatcher\n    285 \n    286         for s in self.shell_streams:\n    287             s.on_recv(make_dispatcher(s), copy=False)\n\n...........................................................................\n/home/felipe/tf-venv3/lib/python3.5/site-packages/ipykernel/kernelbase.py in dispatch_shell(self=<ipykernel.ipkernel.IPythonKernel object>, stream=<zmq.eventloop.zmqstream.ZMQStream object>, msg={'buffers': [], 'content': {'allow_stdin': True, 'code': \"import warnings\\nwarnings.filterwarnings('ignore'...1_at_k(Y_val,Y_pred_val,k=k,normalize=True)))    \", 'silent': False, 'stop_on_error': True, 'store_history': True, 'user_expressions': {}}, 'header': {'date': datetime.datetime(2018, 6, 11, 1, 58, 44, 430349, tzinfo=datetime.timezone.utc), 'msg_id': '2FC38424362648508DB1A7E5DBFC6A36', 'msg_type': 'execute_request', 'session': '25F147C2FEBC4A5182B1E8E46D29F1C4', 'username': 'username', 'version': '5.0'}, 'metadata': {}, 'msg_id': '2FC38424362648508DB1A7E5DBFC6A36', 'msg_type': 'execute_request', 'parent_header': {}})\n    230             self.log.warn(\"Unknown message type: %r\", msg_type)\n    231         else:\n    232             self.log.debug(\"%s: %s\", msg_type, msg)\n    233             self.pre_handler_hook()\n    234             try:\n--> 235                 handler(stream, idents, msg)\n        handler = <bound method Kernel.execute_request of <ipykernel.ipkernel.IPythonKernel object>>\n        stream = <zmq.eventloop.zmqstream.ZMQStream object>\n        idents = [b'25F147C2FEBC4A5182B1E8E46D29F1C4']\n        msg = {'buffers': [], 'content': {'allow_stdin': True, 'code': \"import warnings\\nwarnings.filterwarnings('ignore'...1_at_k(Y_val,Y_pred_val,k=k,normalize=True)))    \", 'silent': False, 'stop_on_error': True, 'store_history': True, 'user_expressions': {}}, 'header': {'date': datetime.datetime(2018, 6, 11, 1, 58, 44, 430349, tzinfo=datetime.timezone.utc), 'msg_id': '2FC38424362648508DB1A7E5DBFC6A36', 'msg_type': 'execute_request', 'session': '25F147C2FEBC4A5182B1E8E46D29F1C4', 'username': 'username', 'version': '5.0'}, 'metadata': {}, 'msg_id': '2FC38424362648508DB1A7E5DBFC6A36', 'msg_type': 'execute_request', 'parent_header': {}}\n    236             except Exception:\n    237                 self.log.error(\"Exception in message handler:\", exc_info=True)\n    238             finally:\n    239                 self.post_handler_hook()\n\n...........................................................................\n/home/felipe/tf-venv3/lib/python3.5/site-packages/ipykernel/kernelbase.py in execute_request(self=<ipykernel.ipkernel.IPythonKernel object>, stream=<zmq.eventloop.zmqstream.ZMQStream object>, ident=[b'25F147C2FEBC4A5182B1E8E46D29F1C4'], parent={'buffers': [], 'content': {'allow_stdin': True, 'code': \"import warnings\\nwarnings.filterwarnings('ignore'...1_at_k(Y_val,Y_pred_val,k=k,normalize=True)))    \", 'silent': False, 'stop_on_error': True, 'store_history': True, 'user_expressions': {}}, 'header': {'date': datetime.datetime(2018, 6, 11, 1, 58, 44, 430349, tzinfo=datetime.timezone.utc), 'msg_id': '2FC38424362648508DB1A7E5DBFC6A36', 'msg_type': 'execute_request', 'session': '25F147C2FEBC4A5182B1E8E46D29F1C4', 'username': 'username', 'version': '5.0'}, 'metadata': {}, 'msg_id': '2FC38424362648508DB1A7E5DBFC6A36', 'msg_type': 'execute_request', 'parent_header': {}})\n    394         if not silent:\n    395             self.execution_count += 1\n    396             self._publish_execute_input(code, parent, self.execution_count)\n    397 \n    398         reply_content = self.do_execute(code, silent, store_history,\n--> 399                                         user_expressions, allow_stdin)\n        user_expressions = {}\n        allow_stdin = True\n    400 \n    401         # Flush output before sending the reply.\n    402         sys.stdout.flush()\n    403         sys.stderr.flush()\n\n...........................................................................\n/home/felipe/tf-venv3/lib/python3.5/site-packages/ipykernel/ipkernel.py in do_execute(self=<ipykernel.ipkernel.IPythonKernel object>, code=\"import warnings\\nwarnings.filterwarnings('ignore'...1_at_k(Y_val,Y_pred_val,k=k,normalize=True)))    \", silent=False, store_history=True, user_expressions={}, allow_stdin=True)\n    191 \n    192         self._forward_input(allow_stdin)\n    193 \n    194         reply_content = {}\n    195         try:\n--> 196             res = shell.run_cell(code, store_history=store_history, silent=silent)\n        res = undefined\n        shell.run_cell = <bound method ZMQInteractiveShell.run_cell of <ipykernel.zmqshell.ZMQInteractiveShell object>>\n        code = \"import warnings\\nwarnings.filterwarnings('ignore'...1_at_k(Y_val,Y_pred_val,k=k,normalize=True)))    \"\n        store_history = True\n        silent = False\n    197         finally:\n    198             self._restore_input()\n    199 \n    200         if res.error_before_exec is not None:\n\n...........................................................................\n/home/felipe/tf-venv3/lib/python3.5/site-packages/ipykernel/zmqshell.py in run_cell(self=<ipykernel.zmqshell.ZMQInteractiveShell object>, *args=(\"import warnings\\nwarnings.filterwarnings('ignore'...1_at_k(Y_val,Y_pred_val,k=k,normalize=True)))    \",), **kwargs={'silent': False, 'store_history': True})\n    528             )\n    529         self.payload_manager.write_payload(payload)\n    530 \n    531     def run_cell(self, *args, **kwargs):\n    532         self._last_traceback = None\n--> 533         return super(ZMQInteractiveShell, self).run_cell(*args, **kwargs)\n        self.run_cell = <bound method ZMQInteractiveShell.run_cell of <ipykernel.zmqshell.ZMQInteractiveShell object>>\n        args = (\"import warnings\\nwarnings.filterwarnings('ignore'...1_at_k(Y_val,Y_pred_val,k=k,normalize=True)))    \",)\n        kwargs = {'silent': False, 'store_history': True}\n    534 \n    535     def _showtraceback(self, etype, evalue, stb):\n    536         # try to preserve ordering of tracebacks and print statements\n    537         sys.stdout.flush()\n\n...........................................................................\n/home/felipe/tf-venv3/lib/python3.5/site-packages/IPython/core/interactiveshell.py in run_cell(self=<ipykernel.zmqshell.ZMQInteractiveShell object>, raw_cell=\"import warnings\\nwarnings.filterwarnings('ignore'...1_at_k(Y_val,Y_pred_val,k=k,normalize=True)))    \", store_history=True, silent=False, shell_futures=True)\n   2678                 self.displayhook.exec_result = result\n   2679 \n   2680                 # Execute the user code\n   2681                 interactivity = \"none\" if silent else self.ast_node_interactivity\n   2682                 has_raised = self.run_ast_nodes(code_ast.body, cell_name,\n-> 2683                    interactivity=interactivity, compiler=compiler, result=result)\n        interactivity = 'last_expr'\n        compiler = <IPython.core.compilerop.CachingCompiler object>\n   2684                 \n   2685                 self.last_execution_succeeded = not has_raised\n   2686 \n   2687                 # Reset this so later displayed values do not modify the\n\n...........................................................................\n/home/felipe/tf-venv3/lib/python3.5/site-packages/IPython/core/interactiveshell.py in run_ast_nodes(self=<ipykernel.zmqshell.ZMQInteractiveShell object>, nodelist=[<_ast.Import object>, <_ast.Expr object>, <_ast.For object>], cell_name='<ipython-input-24-55a5fb7cf42b>', interactivity='none', compiler=<IPython.core.compilerop.CachingCompiler object>, result=<ExecutionResult object at 7f3efb6647b8, executi..._before_exec=None error_in_exec=None result=None>)\n   2782 \n   2783         try:\n   2784             for i, node in enumerate(to_run_exec):\n   2785                 mod = ast.Module([node])\n   2786                 code = compiler(mod, cell_name, \"exec\")\n-> 2787                 if self.run_code(code, result):\n        self.run_code = <bound method InteractiveShell.run_code of <ipykernel.zmqshell.ZMQInteractiveShell object>>\n        code = <code object <module> at 0x7f3ef83351e0, file \"<ipython-input-24-55a5fb7cf42b>\", line 4>\n        result = <ExecutionResult object at 7f3efb6647b8, executi..._before_exec=None error_in_exec=None result=None>\n   2788                     return True\n   2789 \n   2790             for i, node in enumerate(to_run_interactive):\n   2791                 mod = ast.Interactive([node])\n\n...........................................................................\n/home/felipe/tf-venv3/lib/python3.5/site-packages/IPython/core/interactiveshell.py in run_code(self=<ipykernel.zmqshell.ZMQInteractiveShell object>, code_obj=<code object <module> at 0x7f3ef83351e0, file \"<ipython-input-24-55a5fb7cf42b>\", line 4>, result=<ExecutionResult object at 7f3efb6647b8, executi..._before_exec=None error_in_exec=None result=None>)\n   2842         outflag = True  # happens in more places, so it's easier as default\n   2843         try:\n   2844             try:\n   2845                 self.hooks.pre_run_code_hook()\n   2846                 #rprint('Running code', repr(code_obj)) # dbg\n-> 2847                 exec(code_obj, self.user_global_ns, self.user_ns)\n        code_obj = <code object <module> at 0x7f3ef83351e0, file \"<ipython-input-24-55a5fb7cf42b>\", line 4>\n        self.user_global_ns = {'CalibratedClassifierCV': <class 'sklearn.calibration.CalibratedClassifierCV'>, 'CountVectorizer': <class 'sklearn.feature_extraction.text.CountVectorizer'>, 'EMBEDDINGS_DIM': 100, 'GridSearchCV': <class 'sklearn.model_selection._search.GridSearchCV'>, 'INTERIM_DATA_ROOT': '/home/felipe/auto-tagger/social-tags/data/interim/movielens-ml20m-imdb', 'In': ['', \"import pandas as pd\\nimport numpy as np\\nimport ma... autoreload')\\nget_ipython().magic('autoreload 1')\", \"src_dir = os.path.join(os.getcwd(), os.pardir, '../../')\\nsys.path.append(src_dir)\", \"get_ipython().magic('aimport src.data.movielens_...etrics, src.utils.distances, src.utils.plotting')\", 'from src.data.movielens_20m_imdb import load_df_...from src.utils.plotting import plot_micro_f1_at_k', 'MODELS_ROOT = os.path.abspath(\"../../../models/r..._NB_WORDS=500\\nEMBEDDINGS_DIM=100\\nSAMPLE_FRAC= 0.3', 'MODELS_ROOT = os.path.abspath(\"../../../models/r..._NB_WORDS=500\\nEMBEDDINGS_DIM=100\\nSAMPLE_FRAC= 0.3', 'if os.path.isfile(INTERIM_DATA_ROOT+\"/docs_df_wi...f_with_segments-{}.p\".format(MAX_NB_WORDS),\"wb\"))', 'sample_df = docs_df.sample(int(SAMPLE_FRAC*len(docs_df)))', 'segments = sample_df[\\'segments\\'].values\\ndocument...ags\"].map(lambda tagstring: tagstring.split(\",\"))', 'labels = truncate_labels(labels,10)', '# segments, documents and labelsets are defined ...r of unique tags: {} \".format(len(mlb.classes_)))', 'cache_path = INTERIM_DATA_ROOT+\"/mimlsvm/mimlsvm....dump(X_train_boe_segments,open(cache_path,\"wb\"))', 'cache_path = INTERIM_DATA_ROOT+\"/mimlsvm/mimlsvm...le.dump(X_val_boe_segments,open(cache_path,\"wb\"))', 'def make_distance_matrix_for_embedding_segments(...trix[i][j] = distance\\n\\n    return distance_matrix', 'get_ipython().run_cell_magic(\\'time\\', \\'\\', \\'\\\\npath...p(dist_matrix_train, open(path_to_cache, \"wb\"))\\')', 'def make_train_dataset(distance_matrix, medoid_i...\"\"\"\\n\\n    return distance_matrix[:,medoid_indices]', 'def make_validation_dataset(source_vectorized_se...ts)\\n            \\n    return np.array(val_dataset)', \"# calculating medoids\\nNORMALIZATION = ['standard...MLSVM canonical implementation\\nSVM_DEGREE=[3,4,5]\", \"grid_search_parameters = [\\n    {\\n        'medoid...edoids_ratio': SAMPLE_TO_NB_MEDOIDS_RATIO\\n    }\\n]\", ...], 'K': 10, 'MAX_NB_WORDS': 500, 'MODELS_ROOT': '/home/felipe/auto-tagger/social-tags/models/ranking/movielens-mimlsvm-embeddings', 'MinMaxScaler': <class 'sklearn.preprocessing.data.MinMaxScaler'>, ...}\n        self.user_ns = {'CalibratedClassifierCV': <class 'sklearn.calibration.CalibratedClassifierCV'>, 'CountVectorizer': <class 'sklearn.feature_extraction.text.CountVectorizer'>, 'EMBEDDINGS_DIM': 100, 'GridSearchCV': <class 'sklearn.model_selection._search.GridSearchCV'>, 'INTERIM_DATA_ROOT': '/home/felipe/auto-tagger/social-tags/data/interim/movielens-ml20m-imdb', 'In': ['', \"import pandas as pd\\nimport numpy as np\\nimport ma... autoreload')\\nget_ipython().magic('autoreload 1')\", \"src_dir = os.path.join(os.getcwd(), os.pardir, '../../')\\nsys.path.append(src_dir)\", \"get_ipython().magic('aimport src.data.movielens_...etrics, src.utils.distances, src.utils.plotting')\", 'from src.data.movielens_20m_imdb import load_df_...from src.utils.plotting import plot_micro_f1_at_k', 'MODELS_ROOT = os.path.abspath(\"../../../models/r..._NB_WORDS=500\\nEMBEDDINGS_DIM=100\\nSAMPLE_FRAC= 0.3', 'MODELS_ROOT = os.path.abspath(\"../../../models/r..._NB_WORDS=500\\nEMBEDDINGS_DIM=100\\nSAMPLE_FRAC= 0.3', 'if os.path.isfile(INTERIM_DATA_ROOT+\"/docs_df_wi...f_with_segments-{}.p\".format(MAX_NB_WORDS),\"wb\"))', 'sample_df = docs_df.sample(int(SAMPLE_FRAC*len(docs_df)))', 'segments = sample_df[\\'segments\\'].values\\ndocument...ags\"].map(lambda tagstring: tagstring.split(\",\"))', 'labels = truncate_labels(labels,10)', '# segments, documents and labelsets are defined ...r of unique tags: {} \".format(len(mlb.classes_)))', 'cache_path = INTERIM_DATA_ROOT+\"/mimlsvm/mimlsvm....dump(X_train_boe_segments,open(cache_path,\"wb\"))', 'cache_path = INTERIM_DATA_ROOT+\"/mimlsvm/mimlsvm...le.dump(X_val_boe_segments,open(cache_path,\"wb\"))', 'def make_distance_matrix_for_embedding_segments(...trix[i][j] = distance\\n\\n    return distance_matrix', 'get_ipython().run_cell_magic(\\'time\\', \\'\\', \\'\\\\npath...p(dist_matrix_train, open(path_to_cache, \"wb\"))\\')', 'def make_train_dataset(distance_matrix, medoid_i...\"\"\"\\n\\n    return distance_matrix[:,medoid_indices]', 'def make_validation_dataset(source_vectorized_se...ts)\\n            \\n    return np.array(val_dataset)', \"# calculating medoids\\nNORMALIZATION = ['standard...MLSVM canonical implementation\\nSVM_DEGREE=[3,4,5]\", \"grid_search_parameters = [\\n    {\\n        'medoid...edoids_ratio': SAMPLE_TO_NB_MEDOIDS_RATIO\\n    }\\n]\", ...], 'K': 10, 'MAX_NB_WORDS': 500, 'MODELS_ROOT': '/home/felipe/auto-tagger/social-tags/models/ranking/movielens-mimlsvm-embeddings', 'MinMaxScaler': <class 'sklearn.preprocessing.data.MinMaxScaler'>, ...}\n   2848             finally:\n   2849                 # Reset our crash handler in place\n   2850                 sys.excepthook = old_excepthook\n   2851         except SystemExit as e:\n\n...........................................................................\n/home/felipe/auto-tagger/social-tags/notebooks/movielens-imdb/ranking/<ipython-input-24-55a5fb7cf42b> in <module>()\n     39     else:\n     40         X_train_final = X_train\n     41         X_val_final = X_val\n     42     \n     43     # y_train was defined outside the loop    \n---> 44     clf.fit(X_train,Y_train)\n     45     \n     46     # train score\n     47     Y_pred_train = clf.predict_proba(X_train)\n     48     \n\n...........................................................................\n/home/felipe/tf-venv3/lib/python3.5/site-packages/sklearn/multiclass.py in fit(self=OneVsRestClassifier(estimator=CalibratedClassifi...    cv=2, method='sigmoid'),\n          n_jobs=-1), X=array([[ 1.74058978,  2.11463526,  1.66555016, ....  1.56680769,\n         1.98830046,  2.35269634]]), y=array([[0, 0, 0, ..., 0, 0, 0],\n       [0, 0, 0,..., ..., 0, 0, 0],\n       [0, 0, 0, ..., 0, 0, 0]]))\n    210         # of spawning threads.  See joblib issue #112.\n    211         self.estimators_ = Parallel(n_jobs=self.n_jobs)(delayed(_fit_binary)(\n    212             self.estimator, X, column, classes=[\n    213                 \"not %s\" % self.label_binarizer_.classes_[i],\n    214                 self.label_binarizer_.classes_[i]])\n--> 215             for i, column in enumerate(columns))\n        columns = <generator object OneVsRestClassifier.fit.<locals>.<genexpr>>\n    216 \n    217         return self\n    218 \n    219     @if_delegate_has_method('estimator')\n\n...........................................................................\n/home/felipe/tf-venv3/lib/python3.5/site-packages/sklearn/externals/joblib/parallel.py in __call__(self=Parallel(n_jobs=-1), iterable=<generator object OneVsRestClassifier.fit.<locals>.<genexpr>>)\n    784             if pre_dispatch == \"all\" or n_jobs == 1:\n    785                 # The iterable was consumed all at once by the above for loop.\n    786                 # No need to wait for async callbacks to trigger to\n    787                 # consumption.\n    788                 self._iterating = False\n--> 789             self.retrieve()\n        self.retrieve = <bound method Parallel.retrieve of Parallel(n_jobs=-1)>\n    790             # Make sure that we get a last message telling us we are done\n    791             elapsed_time = time.time() - self._start_time\n    792             self._print('Done %3i out of %3i | elapsed: %s finished',\n    793                         (len(self._output), len(self._output),\n\n---------------------------------------------------------------------------\nSub-process traceback:\n---------------------------------------------------------------------------\nTypeError                                          Mon Jun 11 04:00:43 2018\nPID: 32754                  Python 3.5.2: /home/felipe/tf-venv3/bin/python3\n...........................................................................\n/home/felipe/tf-venv3/lib/python3.5/site-packages/sklearn/externals/joblib/parallel.py in __call__(self=<sklearn.externals.joblib.parallel.BatchedCalls object>)\n    126     def __init__(self, iterator_slice):\n    127         self.items = list(iterator_slice)\n    128         self._size = len(self.items)\n    129 \n    130     def __call__(self):\n--> 131         return [func(*args, **kwargs) for func, args, kwargs in self.items]\n        self.items = [(<function _fit_binary>, (CalibratedClassifierCV(base_estimator=SVC(C=0.1,...rbose=False),\n            cv=2, method='sigmoid'), memmap([[ 1.74058978,  2.11463526,  1.66555016, ... 1.56680769,\n          1.98830046,  2.35269634]]), array([0, 0, 0, ..., 0, 0, 0])), {'classes': ['not 0', 0]})]\n    132 \n    133     def __len__(self):\n    134         return self._size\n    135 \n\n...........................................................................\n/home/felipe/tf-venv3/lib/python3.5/site-packages/sklearn/externals/joblib/parallel.py in <listcomp>(.0=<list_iterator object>)\n    126     def __init__(self, iterator_slice):\n    127         self.items = list(iterator_slice)\n    128         self._size = len(self.items)\n    129 \n    130     def __call__(self):\n--> 131         return [func(*args, **kwargs) for func, args, kwargs in self.items]\n        func = <function _fit_binary>\n        args = (CalibratedClassifierCV(base_estimator=SVC(C=0.1,...rbose=False),\n            cv=2, method='sigmoid'), memmap([[ 1.74058978,  2.11463526,  1.66555016, ... 1.56680769,\n          1.98830046,  2.35269634]]), array([0, 0, 0, ..., 0, 0, 0]))\n        kwargs = {'classes': ['not 0', 0]}\n    132 \n    133     def __len__(self):\n    134         return self._size\n    135 \n\n...........................................................................\n/home/felipe/tf-venv3/lib/python3.5/site-packages/sklearn/multiclass.py in _fit_binary(estimator=CalibratedClassifierCV(base_estimator=SVC(C=0.1,...rbose=False),\n            cv=2, method='sigmoid'), X=memmap([[ 1.74058978,  2.11463526,  1.66555016, ... 1.56680769,\n          1.98830046,  2.35269634]]), y=array([0, 0, 0, ..., 0, 0, 0]), classes=['not 0', 0])\n     75             warnings.warn(\"Label %s is present in all training examples.\" %\n     76                           str(classes[c]))\n     77         estimator = _ConstantPredictor().fit(X, unique_y)\n     78     else:\n     79         estimator = clone(estimator)\n---> 80         estimator.fit(X, y)\n        estimator.fit = <bound method CalibratedClassifierCV.fit of Cali...bose=False),\n            cv=2, method='sigmoid')>\n        X = memmap([[ 1.74058978,  2.11463526,  1.66555016, ... 1.56680769,\n          1.98830046,  2.35269634]])\n        y = array([0, 0, 0, ..., 0, 0, 0])\n     81     return estimator\n     82 \n     83 \n     84 def _partial_fit_binary(estimator, X, y):\n\n...........................................................................\n/home/felipe/tf-venv3/lib/python3.5/site-packages/sklearn/calibration.py in fit(self=CalibratedClassifierCV(base_estimator=SVC(C=0.1,...rbose=False),\n            cv=2, method='sigmoid'), X=array([[ 1.74058978,  2.11463526,  1.66555016, ....  1.56680769,\n         1.98830046,  2.35269634]]), y=array([0, 0, 0, ..., 0, 0, 0]), sample_weight=None)\n    176                 if base_estimator_sample_weight is not None:\n    177                     this_estimator.fit(\n    178                         X[train], y[train],\n    179                         sample_weight=base_estimator_sample_weight[train])\n    180                 else:\n--> 181                     this_estimator.fit(X[train], y[train])\n        this_estimator.fit = <bound method BaseLibSVM.fit of SVC(C=0.1, cache...one, shrinking=True,\n  tol=0.001, verbose=False)>\n        X = array([[ 1.74058978,  2.11463526,  1.66555016, ....  1.56680769,\n         1.98830046,  2.35269634]])\n        train = array([ 853,  854,  855,  856,  857,  858,  859,... 1703, 1704, 1705, 1706, 1707, 1708, 1709, 1710])\n        y = array([0, 0, 0, ..., 0, 0, 0])\n    182 \n    183                 calibrated_classifier = _CalibratedClassifier(\n    184                     this_estimator, method=self.method,\n    185                     classes=self.classes_)\n\n...........................................................................\n/home/felipe/tf-venv3/lib/python3.5/site-packages/sklearn/svm/base.py in fit(self=SVC(C=0.1, cache_size=200, class_weight=None, co...None, shrinking=True,\n  tol=0.001, verbose=False), X=array([[ 1.42101589,  1.44839209,  1.40040691, ....  1.56680769,\n         1.98830046,  2.35269634]]), y=array([ 0.,  0.,  0.,  0.,  0.,  0.,  0.,  0.,  ...0.,  0.,  0.,  0.,  0.,  0.,  0.,  0.,  0.,  0.]), sample_weight=array([], dtype=float64))\n    182         fit = self._sparse_fit if self._sparse else self._dense_fit\n    183         if self.verbose:  # pragma: no cover\n    184             print('[LibSVM]', end='')\n    185 \n    186         seed = rnd.randint(np.iinfo('i').max)\n--> 187         fit(X, y, sample_weight, solver_type, kernel, random_seed=seed)\n        fit = <bound method BaseLibSVM._dense_fit of SVC(C=0.1...one, shrinking=True,\n  tol=0.001, verbose=False)>\n        X = array([[ 1.42101589,  1.44839209,  1.40040691, ....  1.56680769,\n         1.98830046,  2.35269634]])\n        y = array([ 0.,  0.,  0.,  0.,  0.,  0.,  0.,  0.,  ...0.,  0.,  0.,  0.,  0.,  0.,  0.,  0.,  0.,  0.])\n        sample_weight = array([], dtype=float64)\n        solver_type = 0\n        kernel = 'rbf'\n        seed = 643132624\n    188         # see comment on the other call to np.iinfo in this file\n    189 \n    190         self.shape_fit_ = X.shape\n    191 \n\n...........................................................................\n/home/felipe/tf-venv3/lib/python3.5/site-packages/sklearn/svm/base.py in _dense_fit(self=SVC(C=0.1, cache_size=200, class_weight=None, co...None, shrinking=True,\n  tol=0.001, verbose=False), X=array([[ 1.42101589,  1.44839209,  1.40040691, ....  1.56680769,\n         1.98830046,  2.35269634]]), y=array([ 0.,  0.,  0.,  0.,  0.,  0.,  0.,  0.,  ...0.,  0.,  0.,  0.,  0.,  0.,  0.,  0.,  0.,  0.]), sample_weight=array([], dtype=float64), solver_type=0, kernel='rbf', random_seed=643132624)\n    249                 class_weight=self.class_weight_, kernel=kernel, C=self.C,\n    250                 nu=self.nu, probability=self.probability, degree=self.degree,\n    251                 shrinking=self.shrinking, tol=self.tol,\n    252                 cache_size=self.cache_size, coef0=self.coef0,\n    253                 gamma=self._gamma, epsilon=self.epsilon,\n--> 254                 max_iter=self.max_iter, random_seed=random_seed)\n        self.max_iter = -1\n        random_seed = 643132624\n    255 \n    256         self._warn_from_fit_status()\n    257 \n    258     def _sparse_fit(self, X, y, sample_weight, solver_type, kernel,\n\n...........................................................................\n/home/felipe/tf-venv3/lib/python3.5/site-packages/sklearn/svm/libsvm.cpython-35m-x86_64-linux-gnu.so in sklearn.svm.libsvm.fit()\n\nTypeError: an integer is required\n___________________________________________________________________________",
     "output_type": "error",
     "traceback": [
      "\u001b[0;31m---------------------------------------------------------------------------\u001b[0m",
      "\u001b[0;31mRemoteTraceback\u001b[0m                           Traceback (most recent call last)",
      "\u001b[0;31mRemoteTraceback\u001b[0m: \n\"\"\"\nTraceback (most recent call last):\n  File \"/home/felipe/tf-venv3/lib/python3.5/site-packages/sklearn/externals/joblib/_parallel_backends.py\", line 350, in __call__\n    return self.func(*args, **kwargs)\n  File \"/home/felipe/tf-venv3/lib/python3.5/site-packages/sklearn/externals/joblib/parallel.py\", line 131, in __call__\n    return [func(*args, **kwargs) for func, args, kwargs in self.items]\n  File \"/home/felipe/tf-venv3/lib/python3.5/site-packages/sklearn/externals/joblib/parallel.py\", line 131, in <listcomp>\n    return [func(*args, **kwargs) for func, args, kwargs in self.items]\n  File \"/home/felipe/tf-venv3/lib/python3.5/site-packages/sklearn/multiclass.py\", line 80, in _fit_binary\n    estimator.fit(X, y)\n  File \"/home/felipe/tf-venv3/lib/python3.5/site-packages/sklearn/calibration.py\", line 181, in fit\n    this_estimator.fit(X[train], y[train])\n  File \"/home/felipe/tf-venv3/lib/python3.5/site-packages/sklearn/svm/base.py\", line 187, in fit\n    fit(X, y, sample_weight, solver_type, kernel, random_seed=seed)\n  File \"/home/felipe/tf-venv3/lib/python3.5/site-packages/sklearn/svm/base.py\", line 254, in _dense_fit\n    max_iter=self.max_iter, random_seed=random_seed)\n  File \"sklearn/svm/libsvm.pyx\", line 57, in sklearn.svm.libsvm.fit\nTypeError: an integer is required\n\nDuring handling of the above exception, another exception occurred:\n\nTraceback (most recent call last):\n  File \"/usr/lib/python3.5/multiprocessing/pool.py\", line 119, in worker\n    result = (True, func(*args, **kwds))\n  File \"/home/felipe/tf-venv3/lib/python3.5/site-packages/sklearn/externals/joblib/_parallel_backends.py\", line 359, in __call__\n    raise TransportableException(text, e_type)\nsklearn.externals.joblib.my_exceptions.TransportableException: TransportableException\n___________________________________________________________________________\nTypeError                                          Mon Jun 11 04:00:43 2018\nPID: 32754                  Python 3.5.2: /home/felipe/tf-venv3/bin/python3\n...........................................................................\n/home/felipe/tf-venv3/lib/python3.5/site-packages/sklearn/externals/joblib/parallel.py in __call__(self=<sklearn.externals.joblib.parallel.BatchedCalls object>)\n    126     def __init__(self, iterator_slice):\n    127         self.items = list(iterator_slice)\n    128         self._size = len(self.items)\n    129 \n    130     def __call__(self):\n--> 131         return [func(*args, **kwargs) for func, args, kwargs in self.items]\n        self.items = [(<function _fit_binary>, (CalibratedClassifierCV(base_estimator=SVC(C=0.1,...rbose=False),\n            cv=2, method='sigmoid'), memmap([[ 1.74058978,  2.11463526,  1.66555016, ... 1.56680769,\n          1.98830046,  2.35269634]]), array([0, 0, 0, ..., 0, 0, 0])), {'classes': ['not 0', 0]})]\n    132 \n    133     def __len__(self):\n    134         return self._size\n    135 \n\n...........................................................................\n/home/felipe/tf-venv3/lib/python3.5/site-packages/sklearn/externals/joblib/parallel.py in <listcomp>(.0=<list_iterator object>)\n    126     def __init__(self, iterator_slice):\n    127         self.items = list(iterator_slice)\n    128         self._size = len(self.items)\n    129 \n    130     def __call__(self):\n--> 131         return [func(*args, **kwargs) for func, args, kwargs in self.items]\n        func = <function _fit_binary>\n        args = (CalibratedClassifierCV(base_estimator=SVC(C=0.1,...rbose=False),\n            cv=2, method='sigmoid'), memmap([[ 1.74058978,  2.11463526,  1.66555016, ... 1.56680769,\n          1.98830046,  2.35269634]]), array([0, 0, 0, ..., 0, 0, 0]))\n        kwargs = {'classes': ['not 0', 0]}\n    132 \n    133     def __len__(self):\n    134         return self._size\n    135 \n\n...........................................................................\n/home/felipe/tf-venv3/lib/python3.5/site-packages/sklearn/multiclass.py in _fit_binary(estimator=CalibratedClassifierCV(base_estimator=SVC(C=0.1,...rbose=False),\n            cv=2, method='sigmoid'), X=memmap([[ 1.74058978,  2.11463526,  1.66555016, ... 1.56680769,\n          1.98830046,  2.35269634]]), y=array([0, 0, 0, ..., 0, 0, 0]), classes=['not 0', 0])\n     75             warnings.warn(\"Label %s is present in all training examples.\" %\n     76                           str(classes[c]))\n     77         estimator = _ConstantPredictor().fit(X, unique_y)\n     78     else:\n     79         estimator = clone(estimator)\n---> 80         estimator.fit(X, y)\n        estimator.fit = <bound method CalibratedClassifierCV.fit of Cali...bose=False),\n            cv=2, method='sigmoid')>\n        X = memmap([[ 1.74058978,  2.11463526,  1.66555016, ... 1.56680769,\n          1.98830046,  2.35269634]])\n        y = array([0, 0, 0, ..., 0, 0, 0])\n     81     return estimator\n     82 \n     83 \n     84 def _partial_fit_binary(estimator, X, y):\n\n...........................................................................\n/home/felipe/tf-venv3/lib/python3.5/site-packages/sklearn/calibration.py in fit(self=CalibratedClassifierCV(base_estimator=SVC(C=0.1,...rbose=False),\n            cv=2, method='sigmoid'), X=array([[ 1.74058978,  2.11463526,  1.66555016, ....  1.56680769,\n         1.98830046,  2.35269634]]), y=array([0, 0, 0, ..., 0, 0, 0]), sample_weight=None)\n    176                 if base_estimator_sample_weight is not None:\n    177                     this_estimator.fit(\n    178                         X[train], y[train],\n    179                         sample_weight=base_estimator_sample_weight[train])\n    180                 else:\n--> 181                     this_estimator.fit(X[train], y[train])\n        this_estimator.fit = <bound method BaseLibSVM.fit of SVC(C=0.1, cache...one, shrinking=True,\n  tol=0.001, verbose=False)>\n        X = array([[ 1.74058978,  2.11463526,  1.66555016, ....  1.56680769,\n         1.98830046,  2.35269634]])\n        train = array([ 853,  854,  855,  856,  857,  858,  859,... 1703, 1704, 1705, 1706, 1707, 1708, 1709, 1710])\n        y = array([0, 0, 0, ..., 0, 0, 0])\n    182 \n    183                 calibrated_classifier = _CalibratedClassifier(\n    184                     this_estimator, method=self.method,\n    185                     classes=self.classes_)\n\n...........................................................................\n/home/felipe/tf-venv3/lib/python3.5/site-packages/sklearn/svm/base.py in fit(self=SVC(C=0.1, cache_size=200, class_weight=None, co...None, shrinking=True,\n  tol=0.001, verbose=False), X=array([[ 1.42101589,  1.44839209,  1.40040691, ....  1.56680769,\n         1.98830046,  2.35269634]]), y=array([ 0.,  0.,  0.,  0.,  0.,  0.,  0.,  0.,  ...0.,  0.,  0.,  0.,  0.,  0.,  0.,  0.,  0.,  0.]), sample_weight=array([], dtype=float64))\n    182         fit = self._sparse_fit if self._sparse else self._dense_fit\n    183         if self.verbose:  # pragma: no cover\n    184             print('[LibSVM]', end='')\n    185 \n    186         seed = rnd.randint(np.iinfo('i').max)\n--> 187         fit(X, y, sample_weight, solver_type, kernel, random_seed=seed)\n        fit = <bound method BaseLibSVM._dense_fit of SVC(C=0.1...one, shrinking=True,\n  tol=0.001, verbose=False)>\n        X = array([[ 1.42101589,  1.44839209,  1.40040691, ....  1.56680769,\n         1.98830046,  2.35269634]])\n        y = array([ 0.,  0.,  0.,  0.,  0.,  0.,  0.,  0.,  ...0.,  0.,  0.,  0.,  0.,  0.,  0.,  0.,  0.,  0.])\n        sample_weight = array([], dtype=float64)\n        solver_type = 0\n        kernel = 'rbf'\n        seed = 643132624\n    188         # see comment on the other call to np.iinfo in this file\n    189 \n    190         self.shape_fit_ = X.shape\n    191 \n\n...........................................................................\n/home/felipe/tf-venv3/lib/python3.5/site-packages/sklearn/svm/base.py in _dense_fit(self=SVC(C=0.1, cache_size=200, class_weight=None, co...None, shrinking=True,\n  tol=0.001, verbose=False), X=array([[ 1.42101589,  1.44839209,  1.40040691, ....  1.56680769,\n         1.98830046,  2.35269634]]), y=array([ 0.,  0.,  0.,  0.,  0.,  0.,  0.,  0.,  ...0.,  0.,  0.,  0.,  0.,  0.,  0.,  0.,  0.,  0.]), sample_weight=array([], dtype=float64), solver_type=0, kernel='rbf', random_seed=643132624)\n    249                 class_weight=self.class_weight_, kernel=kernel, C=self.C,\n    250                 nu=self.nu, probability=self.probability, degree=self.degree,\n    251                 shrinking=self.shrinking, tol=self.tol,\n    252                 cache_size=self.cache_size, coef0=self.coef0,\n    253                 gamma=self._gamma, epsilon=self.epsilon,\n--> 254                 max_iter=self.max_iter, random_seed=random_seed)\n        self.max_iter = -1\n        random_seed = 643132624\n    255 \n    256         self._warn_from_fit_status()\n    257 \n    258     def _sparse_fit(self, X, y, sample_weight, solver_type, kernel,\n\n...........................................................................\n/home/felipe/tf-venv3/lib/python3.5/site-packages/sklearn/svm/libsvm.cpython-35m-x86_64-linux-gnu.so in sklearn.svm.libsvm.fit()\n\nTypeError: an integer is required\n___________________________________________________________________________\n\"\"\"",
      "\nThe above exception was the direct cause of the following exception:\n",
      "\u001b[0;31mTransportableException\u001b[0m                    Traceback (most recent call last)",
      "\u001b[0;32m/home/felipe/tf-venv3/lib/python3.5/site-packages/sklearn/externals/joblib/parallel.py\u001b[0m in \u001b[0;36mretrieve\u001b[0;34m(self)\u001b[0m\n\u001b[1;32m    698\u001b[0m                 \u001b[0;32mif\u001b[0m \u001b[0mgetattr\u001b[0m\u001b[0;34m(\u001b[0m\u001b[0mself\u001b[0m\u001b[0;34m.\u001b[0m\u001b[0m_backend\u001b[0m\u001b[0;34m,\u001b[0m \u001b[0;34m'supports_timeout'\u001b[0m\u001b[0;34m,\u001b[0m \u001b[0;32mFalse\u001b[0m\u001b[0;34m)\u001b[0m\u001b[0;34m:\u001b[0m\u001b[0;34m\u001b[0m\u001b[0m\n\u001b[0;32m--> 699\u001b[0;31m                     \u001b[0mself\u001b[0m\u001b[0;34m.\u001b[0m\u001b[0m_output\u001b[0m\u001b[0;34m.\u001b[0m\u001b[0mextend\u001b[0m\u001b[0;34m(\u001b[0m\u001b[0mjob\u001b[0m\u001b[0;34m.\u001b[0m\u001b[0mget\u001b[0m\u001b[0;34m(\u001b[0m\u001b[0mtimeout\u001b[0m\u001b[0;34m=\u001b[0m\u001b[0mself\u001b[0m\u001b[0;34m.\u001b[0m\u001b[0mtimeout\u001b[0m\u001b[0;34m)\u001b[0m\u001b[0;34m)\u001b[0m\u001b[0;34m\u001b[0m\u001b[0m\n\u001b[0m\u001b[1;32m    700\u001b[0m                 \u001b[0;32melse\u001b[0m\u001b[0;34m:\u001b[0m\u001b[0;34m\u001b[0m\u001b[0m\n",
      "\u001b[0;32m/usr/lib/python3.5/multiprocessing/pool.py\u001b[0m in \u001b[0;36mget\u001b[0;34m(self, timeout)\u001b[0m\n\u001b[1;32m    607\u001b[0m         \u001b[0;32melse\u001b[0m\u001b[0;34m:\u001b[0m\u001b[0;34m\u001b[0m\u001b[0m\n\u001b[0;32m--> 608\u001b[0;31m             \u001b[0;32mraise\u001b[0m \u001b[0mself\u001b[0m\u001b[0;34m.\u001b[0m\u001b[0m_value\u001b[0m\u001b[0;34m\u001b[0m\u001b[0m\n\u001b[0m\u001b[1;32m    609\u001b[0m \u001b[0;34m\u001b[0m\u001b[0m\n",
      "\u001b[0;31mTransportableException\u001b[0m: TransportableException\n___________________________________________________________________________\nTypeError                                          Mon Jun 11 04:00:43 2018\nPID: 32754                  Python 3.5.2: /home/felipe/tf-venv3/bin/python3\n...........................................................................\n/home/felipe/tf-venv3/lib/python3.5/site-packages/sklearn/externals/joblib/parallel.py in __call__(self=<sklearn.externals.joblib.parallel.BatchedCalls object>)\n    126     def __init__(self, iterator_slice):\n    127         self.items = list(iterator_slice)\n    128         self._size = len(self.items)\n    129 \n    130     def __call__(self):\n--> 131         return [func(*args, **kwargs) for func, args, kwargs in self.items]\n        self.items = [(<function _fit_binary>, (CalibratedClassifierCV(base_estimator=SVC(C=0.1,...rbose=False),\n            cv=2, method='sigmoid'), memmap([[ 1.74058978,  2.11463526,  1.66555016, ... 1.56680769,\n          1.98830046,  2.35269634]]), array([0, 0, 0, ..., 0, 0, 0])), {'classes': ['not 0', 0]})]\n    132 \n    133     def __len__(self):\n    134         return self._size\n    135 \n\n...........................................................................\n/home/felipe/tf-venv3/lib/python3.5/site-packages/sklearn/externals/joblib/parallel.py in <listcomp>(.0=<list_iterator object>)\n    126     def __init__(self, iterator_slice):\n    127         self.items = list(iterator_slice)\n    128         self._size = len(self.items)\n    129 \n    130     def __call__(self):\n--> 131         return [func(*args, **kwargs) for func, args, kwargs in self.items]\n        func = <function _fit_binary>\n        args = (CalibratedClassifierCV(base_estimator=SVC(C=0.1,...rbose=False),\n            cv=2, method='sigmoid'), memmap([[ 1.74058978,  2.11463526,  1.66555016, ... 1.56680769,\n          1.98830046,  2.35269634]]), array([0, 0, 0, ..., 0, 0, 0]))\n        kwargs = {'classes': ['not 0', 0]}\n    132 \n    133     def __len__(self):\n    134         return self._size\n    135 \n\n...........................................................................\n/home/felipe/tf-venv3/lib/python3.5/site-packages/sklearn/multiclass.py in _fit_binary(estimator=CalibratedClassifierCV(base_estimator=SVC(C=0.1,...rbose=False),\n            cv=2, method='sigmoid'), X=memmap([[ 1.74058978,  2.11463526,  1.66555016, ... 1.56680769,\n          1.98830046,  2.35269634]]), y=array([0, 0, 0, ..., 0, 0, 0]), classes=['not 0', 0])\n     75             warnings.warn(\"Label %s is present in all training examples.\" %\n     76                           str(classes[c]))\n     77         estimator = _ConstantPredictor().fit(X, unique_y)\n     78     else:\n     79         estimator = clone(estimator)\n---> 80         estimator.fit(X, y)\n        estimator.fit = <bound method CalibratedClassifierCV.fit of Cali...bose=False),\n            cv=2, method='sigmoid')>\n        X = memmap([[ 1.74058978,  2.11463526,  1.66555016, ... 1.56680769,\n          1.98830046,  2.35269634]])\n        y = array([0, 0, 0, ..., 0, 0, 0])\n     81     return estimator\n     82 \n     83 \n     84 def _partial_fit_binary(estimator, X, y):\n\n...........................................................................\n/home/felipe/tf-venv3/lib/python3.5/site-packages/sklearn/calibration.py in fit(self=CalibratedClassifierCV(base_estimator=SVC(C=0.1,...rbose=False),\n            cv=2, method='sigmoid'), X=array([[ 1.74058978,  2.11463526,  1.66555016, ....  1.56680769,\n         1.98830046,  2.35269634]]), y=array([0, 0, 0, ..., 0, 0, 0]), sample_weight=None)\n    176                 if base_estimator_sample_weight is not None:\n    177                     this_estimator.fit(\n    178                         X[train], y[train],\n    179                         sample_weight=base_estimator_sample_weight[train])\n    180                 else:\n--> 181                     this_estimator.fit(X[train], y[train])\n        this_estimator.fit = <bound method BaseLibSVM.fit of SVC(C=0.1, cache...one, shrinking=True,\n  tol=0.001, verbose=False)>\n        X = array([[ 1.74058978,  2.11463526,  1.66555016, ....  1.56680769,\n         1.98830046,  2.35269634]])\n        train = array([ 853,  854,  855,  856,  857,  858,  859,... 1703, 1704, 1705, 1706, 1707, 1708, 1709, 1710])\n        y = array([0, 0, 0, ..., 0, 0, 0])\n    182 \n    183                 calibrated_classifier = _CalibratedClassifier(\n    184                     this_estimator, method=self.method,\n    185                     classes=self.classes_)\n\n...........................................................................\n/home/felipe/tf-venv3/lib/python3.5/site-packages/sklearn/svm/base.py in fit(self=SVC(C=0.1, cache_size=200, class_weight=None, co...None, shrinking=True,\n  tol=0.001, verbose=False), X=array([[ 1.42101589,  1.44839209,  1.40040691, ....  1.56680769,\n         1.98830046,  2.35269634]]), y=array([ 0.,  0.,  0.,  0.,  0.,  0.,  0.,  0.,  ...0.,  0.,  0.,  0.,  0.,  0.,  0.,  0.,  0.,  0.]), sample_weight=array([], dtype=float64))\n    182         fit = self._sparse_fit if self._sparse else self._dense_fit\n    183         if self.verbose:  # pragma: no cover\n    184             print('[LibSVM]', end='')\n    185 \n    186         seed = rnd.randint(np.iinfo('i').max)\n--> 187         fit(X, y, sample_weight, solver_type, kernel, random_seed=seed)\n        fit = <bound method BaseLibSVM._dense_fit of SVC(C=0.1...one, shrinking=True,\n  tol=0.001, verbose=False)>\n        X = array([[ 1.42101589,  1.44839209,  1.40040691, ....  1.56680769,\n         1.98830046,  2.35269634]])\n        y = array([ 0.,  0.,  0.,  0.,  0.,  0.,  0.,  0.,  ...0.,  0.,  0.,  0.,  0.,  0.,  0.,  0.,  0.,  0.])\n        sample_weight = array([], dtype=float64)\n        solver_type = 0\n        kernel = 'rbf'\n        seed = 643132624\n    188         # see comment on the other call to np.iinfo in this file\n    189 \n    190         self.shape_fit_ = X.shape\n    191 \n\n...........................................................................\n/home/felipe/tf-venv3/lib/python3.5/site-packages/sklearn/svm/base.py in _dense_fit(self=SVC(C=0.1, cache_size=200, class_weight=None, co...None, shrinking=True,\n  tol=0.001, verbose=False), X=array([[ 1.42101589,  1.44839209,  1.40040691, ....  1.56680769,\n         1.98830046,  2.35269634]]), y=array([ 0.,  0.,  0.,  0.,  0.,  0.,  0.,  0.,  ...0.,  0.,  0.,  0.,  0.,  0.,  0.,  0.,  0.,  0.]), sample_weight=array([], dtype=float64), solver_type=0, kernel='rbf', random_seed=643132624)\n    249                 class_weight=self.class_weight_, kernel=kernel, C=self.C,\n    250                 nu=self.nu, probability=self.probability, degree=self.degree,\n    251                 shrinking=self.shrinking, tol=self.tol,\n    252                 cache_size=self.cache_size, coef0=self.coef0,\n    253                 gamma=self._gamma, epsilon=self.epsilon,\n--> 254                 max_iter=self.max_iter, random_seed=random_seed)\n        self.max_iter = -1\n        random_seed = 643132624\n    255 \n    256         self._warn_from_fit_status()\n    257 \n    258     def _sparse_fit(self, X, y, sample_weight, solver_type, kernel,\n\n...........................................................................\n/home/felipe/tf-venv3/lib/python3.5/site-packages/sklearn/svm/libsvm.cpython-35m-x86_64-linux-gnu.so in sklearn.svm.libsvm.fit()\n\nTypeError: an integer is required\n___________________________________________________________________________",
      "\nDuring handling of the above exception, another exception occurred:\n",
      "\u001b[0;31mJoblibTypeError\u001b[0m                           Traceback (most recent call last)",
      "\u001b[0;32m<ipython-input-24-55a5fb7cf42b>\u001b[0m in \u001b[0;36m<module>\u001b[0;34m()\u001b[0m\n\u001b[1;32m     42\u001b[0m \u001b[0;34m\u001b[0m\u001b[0m\n\u001b[1;32m     43\u001b[0m     \u001b[0;31m# y_train was defined outside the loop\u001b[0m\u001b[0;34m\u001b[0m\u001b[0;34m\u001b[0m\u001b[0m\n\u001b[0;32m---> 44\u001b[0;31m     \u001b[0mclf\u001b[0m\u001b[0;34m.\u001b[0m\u001b[0mfit\u001b[0m\u001b[0;34m(\u001b[0m\u001b[0mX_train\u001b[0m\u001b[0;34m,\u001b[0m\u001b[0mY_train\u001b[0m\u001b[0;34m)\u001b[0m\u001b[0;34m\u001b[0m\u001b[0m\n\u001b[0m\u001b[1;32m     45\u001b[0m \u001b[0;34m\u001b[0m\u001b[0m\n\u001b[1;32m     46\u001b[0m     \u001b[0;31m# train score\u001b[0m\u001b[0;34m\u001b[0m\u001b[0;34m\u001b[0m\u001b[0m\n",
      "\u001b[0;32m/home/felipe/tf-venv3/lib/python3.5/site-packages/sklearn/multiclass.py\u001b[0m in \u001b[0;36mfit\u001b[0;34m(self, X, y)\u001b[0m\n\u001b[1;32m    213\u001b[0m                 \u001b[0;34m\"not %s\"\u001b[0m \u001b[0;34m%\u001b[0m \u001b[0mself\u001b[0m\u001b[0;34m.\u001b[0m\u001b[0mlabel_binarizer_\u001b[0m\u001b[0;34m.\u001b[0m\u001b[0mclasses_\u001b[0m\u001b[0;34m[\u001b[0m\u001b[0mi\u001b[0m\u001b[0;34m]\u001b[0m\u001b[0;34m,\u001b[0m\u001b[0;34m\u001b[0m\u001b[0m\n\u001b[1;32m    214\u001b[0m                 self.label_binarizer_.classes_[i]])\n\u001b[0;32m--> 215\u001b[0;31m             for i, column in enumerate(columns))\n\u001b[0m\u001b[1;32m    216\u001b[0m \u001b[0;34m\u001b[0m\u001b[0m\n\u001b[1;32m    217\u001b[0m         \u001b[0;32mreturn\u001b[0m \u001b[0mself\u001b[0m\u001b[0;34m\u001b[0m\u001b[0m\n",
      "\u001b[0;32m/home/felipe/tf-venv3/lib/python3.5/site-packages/sklearn/externals/joblib/parallel.py\u001b[0m in \u001b[0;36m__call__\u001b[0;34m(self, iterable)\u001b[0m\n\u001b[1;32m    787\u001b[0m                 \u001b[0;31m# consumption.\u001b[0m\u001b[0;34m\u001b[0m\u001b[0;34m\u001b[0m\u001b[0m\n\u001b[1;32m    788\u001b[0m                 \u001b[0mself\u001b[0m\u001b[0;34m.\u001b[0m\u001b[0m_iterating\u001b[0m \u001b[0;34m=\u001b[0m \u001b[0;32mFalse\u001b[0m\u001b[0;34m\u001b[0m\u001b[0m\n\u001b[0;32m--> 789\u001b[0;31m             \u001b[0mself\u001b[0m\u001b[0;34m.\u001b[0m\u001b[0mretrieve\u001b[0m\u001b[0;34m(\u001b[0m\u001b[0;34m)\u001b[0m\u001b[0;34m\u001b[0m\u001b[0m\n\u001b[0m\u001b[1;32m    790\u001b[0m             \u001b[0;31m# Make sure that we get a last message telling us we are done\u001b[0m\u001b[0;34m\u001b[0m\u001b[0;34m\u001b[0m\u001b[0m\n\u001b[1;32m    791\u001b[0m             \u001b[0melapsed_time\u001b[0m \u001b[0;34m=\u001b[0m \u001b[0mtime\u001b[0m\u001b[0;34m.\u001b[0m\u001b[0mtime\u001b[0m\u001b[0;34m(\u001b[0m\u001b[0;34m)\u001b[0m \u001b[0;34m-\u001b[0m \u001b[0mself\u001b[0m\u001b[0;34m.\u001b[0m\u001b[0m_start_time\u001b[0m\u001b[0;34m\u001b[0m\u001b[0m\n",
      "\u001b[0;32m/home/felipe/tf-venv3/lib/python3.5/site-packages/sklearn/externals/joblib/parallel.py\u001b[0m in \u001b[0;36mretrieve\u001b[0;34m(self)\u001b[0m\n\u001b[1;32m    738\u001b[0m                     \u001b[0mexception\u001b[0m \u001b[0;34m=\u001b[0m \u001b[0mexception_type\u001b[0m\u001b[0;34m(\u001b[0m\u001b[0mreport\u001b[0m\u001b[0;34m)\u001b[0m\u001b[0;34m\u001b[0m\u001b[0m\n\u001b[1;32m    739\u001b[0m \u001b[0;34m\u001b[0m\u001b[0m\n\u001b[0;32m--> 740\u001b[0;31m                     \u001b[0;32mraise\u001b[0m \u001b[0mexception\u001b[0m\u001b[0;34m\u001b[0m\u001b[0m\n\u001b[0m\u001b[1;32m    741\u001b[0m \u001b[0;34m\u001b[0m\u001b[0m\n\u001b[1;32m    742\u001b[0m     \u001b[0;32mdef\u001b[0m \u001b[0m__call__\u001b[0m\u001b[0;34m(\u001b[0m\u001b[0mself\u001b[0m\u001b[0;34m,\u001b[0m \u001b[0miterable\u001b[0m\u001b[0;34m)\u001b[0m\u001b[0;34m:\u001b[0m\u001b[0;34m\u001b[0m\u001b[0m\n",
      "\u001b[0;31mJoblibTypeError\u001b[0m: JoblibTypeError\n___________________________________________________________________________\nMultiprocessing exception:\n...........................................................................\n/usr/lib/python3.5/runpy.py in _run_module_as_main(mod_name='ipykernel_launcher', alter_argv=1)\n    179         sys.exit(msg)\n    180     main_globals = sys.modules[\"__main__\"].__dict__\n    181     if alter_argv:\n    182         sys.argv[0] = mod_spec.origin\n    183     return _run_code(code, main_globals, None,\n--> 184                      \"__main__\", mod_spec)\n        mod_spec = ModuleSpec(name='ipykernel_launcher', loader=<_f...b/python3.5/site-packages/ipykernel_launcher.py')\n    185 \n    186 def run_module(mod_name, init_globals=None,\n    187                run_name=None, alter_sys=False):\n    188     \"\"\"Execute a module's code without importing it\n\n...........................................................................\n/usr/lib/python3.5/runpy.py in _run_code(code=<code object <module> at 0x7f3f497ae300, file \"/...3.5/site-packages/ipykernel_launcher.py\", line 5>, run_globals={'__builtins__': <module 'builtins' (built-in)>, '__cached__': '/home/felipe/tf-venv3/lib/python3.5/site-packages/__pycache__/ipykernel_launcher.cpython-35.pyc', '__doc__': 'Entry point for launching an IPython kernel.\\n\\nTh...orts until\\nafter removing the cwd from sys.path.\\n', '__file__': '/home/felipe/tf-venv3/lib/python3.5/site-packages/ipykernel_launcher.py', '__loader__': <_frozen_importlib_external.SourceFileLoader object>, '__name__': '__main__', '__package__': '', '__spec__': ModuleSpec(name='ipykernel_launcher', loader=<_f...b/python3.5/site-packages/ipykernel_launcher.py'), 'app': <module 'ipykernel.kernelapp' from '/home/felipe.../python3.5/site-packages/ipykernel/kernelapp.py'>, 'sys': <module 'sys' (built-in)>}, init_globals=None, mod_name='__main__', mod_spec=ModuleSpec(name='ipykernel_launcher', loader=<_f...b/python3.5/site-packages/ipykernel_launcher.py'), pkg_name='', script_name=None)\n     80                        __cached__ = cached,\n     81                        __doc__ = None,\n     82                        __loader__ = loader,\n     83                        __package__ = pkg_name,\n     84                        __spec__ = mod_spec)\n---> 85     exec(code, run_globals)\n        code = <code object <module> at 0x7f3f497ae300, file \"/...3.5/site-packages/ipykernel_launcher.py\", line 5>\n        run_globals = {'__builtins__': <module 'builtins' (built-in)>, '__cached__': '/home/felipe/tf-venv3/lib/python3.5/site-packages/__pycache__/ipykernel_launcher.cpython-35.pyc', '__doc__': 'Entry point for launching an IPython kernel.\\n\\nTh...orts until\\nafter removing the cwd from sys.path.\\n', '__file__': '/home/felipe/tf-venv3/lib/python3.5/site-packages/ipykernel_launcher.py', '__loader__': <_frozen_importlib_external.SourceFileLoader object>, '__name__': '__main__', '__package__': '', '__spec__': ModuleSpec(name='ipykernel_launcher', loader=<_f...b/python3.5/site-packages/ipykernel_launcher.py'), 'app': <module 'ipykernel.kernelapp' from '/home/felipe.../python3.5/site-packages/ipykernel/kernelapp.py'>, 'sys': <module 'sys' (built-in)>}\n     86     return run_globals\n     87 \n     88 def _run_module_code(code, init_globals=None,\n     89                     mod_name=None, mod_spec=None,\n\n...........................................................................\n/home/felipe/tf-venv3/lib/python3.5/site-packages/ipykernel_launcher.py in <module>()\n     11     # This is added back by InteractiveShellApp.init_path()\n     12     if sys.path[0] == '':\n     13         del sys.path[0]\n     14 \n     15     from ipykernel import kernelapp as app\n---> 16     app.launch_new_instance()\n\n...........................................................................\n/home/felipe/tf-venv3/lib/python3.5/site-packages/traitlets/config/application.py in launch_instance(cls=<class 'ipykernel.kernelapp.IPKernelApp'>, argv=None, **kwargs={})\n    653 \n    654         If a global instance already exists, this reinitializes and starts it\n    655         \"\"\"\n    656         app = cls.instance(**kwargs)\n    657         app.initialize(argv)\n--> 658         app.start()\n        app.start = <bound method IPKernelApp.start of <ipykernel.kernelapp.IPKernelApp object>>\n    659 \n    660 #-----------------------------------------------------------------------------\n    661 # utility functions, for convenience\n    662 #-----------------------------------------------------------------------------\n\n...........................................................................\n/home/felipe/tf-venv3/lib/python3.5/site-packages/ipykernel/kernelapp.py in start(self=<ipykernel.kernelapp.IPKernelApp object>)\n    472             return self.subapp.start()\n    473         if self.poller is not None:\n    474             self.poller.start()\n    475         self.kernel.start()\n    476         try:\n--> 477             ioloop.IOLoop.instance().start()\n    478         except KeyboardInterrupt:\n    479             pass\n    480 \n    481 launch_new_instance = IPKernelApp.launch_instance\n\n...........................................................................\n/home/felipe/tf-venv3/lib/python3.5/site-packages/zmq/eventloop/ioloop.py in start(self=<zmq.eventloop.ioloop.ZMQIOLoop object>)\n    172             )\n    173         return loop\n    174     \n    175     def start(self):\n    176         try:\n--> 177             super(ZMQIOLoop, self).start()\n        self.start = <bound method ZMQIOLoop.start of <zmq.eventloop.ioloop.ZMQIOLoop object>>\n    178         except ZMQError as e:\n    179             if e.errno == ETERM:\n    180                 # quietly return on ETERM\n    181                 pass\n\n...........................................................................\n/home/felipe/tf-venv3/lib/python3.5/site-packages/tornado/ioloop.py in start(self=<zmq.eventloop.ioloop.ZMQIOLoop object>)\n    883                 self._events.update(event_pairs)\n    884                 while self._events:\n    885                     fd, events = self._events.popitem()\n    886                     try:\n    887                         fd_obj, handler_func = self._handlers[fd]\n--> 888                         handler_func(fd_obj, events)\n        handler_func = <function wrap.<locals>.null_wrapper>\n        fd_obj = <zmq.sugar.socket.Socket object>\n        events = 1\n    889                     except (OSError, IOError) as e:\n    890                         if errno_from_exception(e) == errno.EPIPE:\n    891                             # Happens when the client closes the connection\n    892                             pass\n\n...........................................................................\n/home/felipe/tf-venv3/lib/python3.5/site-packages/tornado/stack_context.py in null_wrapper(*args=(<zmq.sugar.socket.Socket object>, 1), **kwargs={})\n    272         # Fast path when there are no active contexts.\n    273         def null_wrapper(*args, **kwargs):\n    274             try:\n    275                 current_state = _state.contexts\n    276                 _state.contexts = cap_contexts[0]\n--> 277                 return fn(*args, **kwargs)\n        args = (<zmq.sugar.socket.Socket object>, 1)\n        kwargs = {}\n    278             finally:\n    279                 _state.contexts = current_state\n    280         null_wrapper._wrapped = True\n    281         return null_wrapper\n\n...........................................................................\n/home/felipe/tf-venv3/lib/python3.5/site-packages/zmq/eventloop/zmqstream.py in _handle_events(self=<zmq.eventloop.zmqstream.ZMQStream object>, fd=<zmq.sugar.socket.Socket object>, events=1)\n    435             # dispatch events:\n    436             if events & IOLoop.ERROR:\n    437                 gen_log.error(\"got POLLERR event on ZMQStream, which doesn't make sense\")\n    438                 return\n    439             if events & IOLoop.READ:\n--> 440                 self._handle_recv()\n        self._handle_recv = <bound method ZMQStream._handle_recv of <zmq.eventloop.zmqstream.ZMQStream object>>\n    441                 if not self.socket:\n    442                     return\n    443             if events & IOLoop.WRITE:\n    444                 self._handle_send()\n\n...........................................................................\n/home/felipe/tf-venv3/lib/python3.5/site-packages/zmq/eventloop/zmqstream.py in _handle_recv(self=<zmq.eventloop.zmqstream.ZMQStream object>)\n    467                 gen_log.error(\"RECV Error: %s\"%zmq.strerror(e.errno))\n    468         else:\n    469             if self._recv_callback:\n    470                 callback = self._recv_callback\n    471                 # self._recv_callback = None\n--> 472                 self._run_callback(callback, msg)\n        self._run_callback = <bound method ZMQStream._run_callback of <zmq.eventloop.zmqstream.ZMQStream object>>\n        callback = <function wrap.<locals>.null_wrapper>\n        msg = [<zmq.sugar.frame.Frame object>, <zmq.sugar.frame.Frame object>, <zmq.sugar.frame.Frame object>, <zmq.sugar.frame.Frame object>, <zmq.sugar.frame.Frame object>, <zmq.sugar.frame.Frame object>, <zmq.sugar.frame.Frame object>]\n    473                 \n    474         # self.update_state()\n    475         \n    476 \n\n...........................................................................\n/home/felipe/tf-venv3/lib/python3.5/site-packages/zmq/eventloop/zmqstream.py in _run_callback(self=<zmq.eventloop.zmqstream.ZMQStream object>, callback=<function wrap.<locals>.null_wrapper>, *args=([<zmq.sugar.frame.Frame object>, <zmq.sugar.frame.Frame object>, <zmq.sugar.frame.Frame object>, <zmq.sugar.frame.Frame object>, <zmq.sugar.frame.Frame object>, <zmq.sugar.frame.Frame object>, <zmq.sugar.frame.Frame object>],), **kwargs={})\n    409         close our socket.\"\"\"\n    410         try:\n    411             # Use a NullContext to ensure that all StackContexts are run\n    412             # inside our blanket exception handler rather than outside.\n    413             with stack_context.NullContext():\n--> 414                 callback(*args, **kwargs)\n        callback = <function wrap.<locals>.null_wrapper>\n        args = ([<zmq.sugar.frame.Frame object>, <zmq.sugar.frame.Frame object>, <zmq.sugar.frame.Frame object>, <zmq.sugar.frame.Frame object>, <zmq.sugar.frame.Frame object>, <zmq.sugar.frame.Frame object>, <zmq.sugar.frame.Frame object>],)\n        kwargs = {}\n    415         except:\n    416             gen_log.error(\"Uncaught exception, closing connection.\",\n    417                           exc_info=True)\n    418             # Close the socket on an uncaught exception from a user callback\n\n...........................................................................\n/home/felipe/tf-venv3/lib/python3.5/site-packages/tornado/stack_context.py in null_wrapper(*args=([<zmq.sugar.frame.Frame object>, <zmq.sugar.frame.Frame object>, <zmq.sugar.frame.Frame object>, <zmq.sugar.frame.Frame object>, <zmq.sugar.frame.Frame object>, <zmq.sugar.frame.Frame object>, <zmq.sugar.frame.Frame object>],), **kwargs={})\n    272         # Fast path when there are no active contexts.\n    273         def null_wrapper(*args, **kwargs):\n    274             try:\n    275                 current_state = _state.contexts\n    276                 _state.contexts = cap_contexts[0]\n--> 277                 return fn(*args, **kwargs)\n        args = ([<zmq.sugar.frame.Frame object>, <zmq.sugar.frame.Frame object>, <zmq.sugar.frame.Frame object>, <zmq.sugar.frame.Frame object>, <zmq.sugar.frame.Frame object>, <zmq.sugar.frame.Frame object>, <zmq.sugar.frame.Frame object>],)\n        kwargs = {}\n    278             finally:\n    279                 _state.contexts = current_state\n    280         null_wrapper._wrapped = True\n    281         return null_wrapper\n\n...........................................................................\n/home/felipe/tf-venv3/lib/python3.5/site-packages/ipykernel/kernelbase.py in dispatcher(msg=[<zmq.sugar.frame.Frame object>, <zmq.sugar.frame.Frame object>, <zmq.sugar.frame.Frame object>, <zmq.sugar.frame.Frame object>, <zmq.sugar.frame.Frame object>, <zmq.sugar.frame.Frame object>, <zmq.sugar.frame.Frame object>])\n    278         if self.control_stream:\n    279             self.control_stream.on_recv(self.dispatch_control, copy=False)\n    280 \n    281         def make_dispatcher(stream):\n    282             def dispatcher(msg):\n--> 283                 return self.dispatch_shell(stream, msg)\n        msg = [<zmq.sugar.frame.Frame object>, <zmq.sugar.frame.Frame object>, <zmq.sugar.frame.Frame object>, <zmq.sugar.frame.Frame object>, <zmq.sugar.frame.Frame object>, <zmq.sugar.frame.Frame object>, <zmq.sugar.frame.Frame object>]\n    284             return dispatcher\n    285 \n    286         for s in self.shell_streams:\n    287             s.on_recv(make_dispatcher(s), copy=False)\n\n...........................................................................\n/home/felipe/tf-venv3/lib/python3.5/site-packages/ipykernel/kernelbase.py in dispatch_shell(self=<ipykernel.ipkernel.IPythonKernel object>, stream=<zmq.eventloop.zmqstream.ZMQStream object>, msg={'buffers': [], 'content': {'allow_stdin': True, 'code': \"import warnings\\nwarnings.filterwarnings('ignore'...1_at_k(Y_val,Y_pred_val,k=k,normalize=True)))    \", 'silent': False, 'stop_on_error': True, 'store_history': True, 'user_expressions': {}}, 'header': {'date': datetime.datetime(2018, 6, 11, 1, 58, 44, 430349, tzinfo=datetime.timezone.utc), 'msg_id': '2FC38424362648508DB1A7E5DBFC6A36', 'msg_type': 'execute_request', 'session': '25F147C2FEBC4A5182B1E8E46D29F1C4', 'username': 'username', 'version': '5.0'}, 'metadata': {}, 'msg_id': '2FC38424362648508DB1A7E5DBFC6A36', 'msg_type': 'execute_request', 'parent_header': {}})\n    230             self.log.warn(\"Unknown message type: %r\", msg_type)\n    231         else:\n    232             self.log.debug(\"%s: %s\", msg_type, msg)\n    233             self.pre_handler_hook()\n    234             try:\n--> 235                 handler(stream, idents, msg)\n        handler = <bound method Kernel.execute_request of <ipykernel.ipkernel.IPythonKernel object>>\n        stream = <zmq.eventloop.zmqstream.ZMQStream object>\n        idents = [b'25F147C2FEBC4A5182B1E8E46D29F1C4']\n        msg = {'buffers': [], 'content': {'allow_stdin': True, 'code': \"import warnings\\nwarnings.filterwarnings('ignore'...1_at_k(Y_val,Y_pred_val,k=k,normalize=True)))    \", 'silent': False, 'stop_on_error': True, 'store_history': True, 'user_expressions': {}}, 'header': {'date': datetime.datetime(2018, 6, 11, 1, 58, 44, 430349, tzinfo=datetime.timezone.utc), 'msg_id': '2FC38424362648508DB1A7E5DBFC6A36', 'msg_type': 'execute_request', 'session': '25F147C2FEBC4A5182B1E8E46D29F1C4', 'username': 'username', 'version': '5.0'}, 'metadata': {}, 'msg_id': '2FC38424362648508DB1A7E5DBFC6A36', 'msg_type': 'execute_request', 'parent_header': {}}\n    236             except Exception:\n    237                 self.log.error(\"Exception in message handler:\", exc_info=True)\n    238             finally:\n    239                 self.post_handler_hook()\n\n...........................................................................\n/home/felipe/tf-venv3/lib/python3.5/site-packages/ipykernel/kernelbase.py in execute_request(self=<ipykernel.ipkernel.IPythonKernel object>, stream=<zmq.eventloop.zmqstream.ZMQStream object>, ident=[b'25F147C2FEBC4A5182B1E8E46D29F1C4'], parent={'buffers': [], 'content': {'allow_stdin': True, 'code': \"import warnings\\nwarnings.filterwarnings('ignore'...1_at_k(Y_val,Y_pred_val,k=k,normalize=True)))    \", 'silent': False, 'stop_on_error': True, 'store_history': True, 'user_expressions': {}}, 'header': {'date': datetime.datetime(2018, 6, 11, 1, 58, 44, 430349, tzinfo=datetime.timezone.utc), 'msg_id': '2FC38424362648508DB1A7E5DBFC6A36', 'msg_type': 'execute_request', 'session': '25F147C2FEBC4A5182B1E8E46D29F1C4', 'username': 'username', 'version': '5.0'}, 'metadata': {}, 'msg_id': '2FC38424362648508DB1A7E5DBFC6A36', 'msg_type': 'execute_request', 'parent_header': {}})\n    394         if not silent:\n    395             self.execution_count += 1\n    396             self._publish_execute_input(code, parent, self.execution_count)\n    397 \n    398         reply_content = self.do_execute(code, silent, store_history,\n--> 399                                         user_expressions, allow_stdin)\n        user_expressions = {}\n        allow_stdin = True\n    400 \n    401         # Flush output before sending the reply.\n    402         sys.stdout.flush()\n    403         sys.stderr.flush()\n\n...........................................................................\n/home/felipe/tf-venv3/lib/python3.5/site-packages/ipykernel/ipkernel.py in do_execute(self=<ipykernel.ipkernel.IPythonKernel object>, code=\"import warnings\\nwarnings.filterwarnings('ignore'...1_at_k(Y_val,Y_pred_val,k=k,normalize=True)))    \", silent=False, store_history=True, user_expressions={}, allow_stdin=True)\n    191 \n    192         self._forward_input(allow_stdin)\n    193 \n    194         reply_content = {}\n    195         try:\n--> 196             res = shell.run_cell(code, store_history=store_history, silent=silent)\n        res = undefined\n        shell.run_cell = <bound method ZMQInteractiveShell.run_cell of <ipykernel.zmqshell.ZMQInteractiveShell object>>\n        code = \"import warnings\\nwarnings.filterwarnings('ignore'...1_at_k(Y_val,Y_pred_val,k=k,normalize=True)))    \"\n        store_history = True\n        silent = False\n    197         finally:\n    198             self._restore_input()\n    199 \n    200         if res.error_before_exec is not None:\n\n...........................................................................\n/home/felipe/tf-venv3/lib/python3.5/site-packages/ipykernel/zmqshell.py in run_cell(self=<ipykernel.zmqshell.ZMQInteractiveShell object>, *args=(\"import warnings\\nwarnings.filterwarnings('ignore'...1_at_k(Y_val,Y_pred_val,k=k,normalize=True)))    \",), **kwargs={'silent': False, 'store_history': True})\n    528             )\n    529         self.payload_manager.write_payload(payload)\n    530 \n    531     def run_cell(self, *args, **kwargs):\n    532         self._last_traceback = None\n--> 533         return super(ZMQInteractiveShell, self).run_cell(*args, **kwargs)\n        self.run_cell = <bound method ZMQInteractiveShell.run_cell of <ipykernel.zmqshell.ZMQInteractiveShell object>>\n        args = (\"import warnings\\nwarnings.filterwarnings('ignore'...1_at_k(Y_val,Y_pred_val,k=k,normalize=True)))    \",)\n        kwargs = {'silent': False, 'store_history': True}\n    534 \n    535     def _showtraceback(self, etype, evalue, stb):\n    536         # try to preserve ordering of tracebacks and print statements\n    537         sys.stdout.flush()\n\n...........................................................................\n/home/felipe/tf-venv3/lib/python3.5/site-packages/IPython/core/interactiveshell.py in run_cell(self=<ipykernel.zmqshell.ZMQInteractiveShell object>, raw_cell=\"import warnings\\nwarnings.filterwarnings('ignore'...1_at_k(Y_val,Y_pred_val,k=k,normalize=True)))    \", store_history=True, silent=False, shell_futures=True)\n   2678                 self.displayhook.exec_result = result\n   2679 \n   2680                 # Execute the user code\n   2681                 interactivity = \"none\" if silent else self.ast_node_interactivity\n   2682                 has_raised = self.run_ast_nodes(code_ast.body, cell_name,\n-> 2683                    interactivity=interactivity, compiler=compiler, result=result)\n        interactivity = 'last_expr'\n        compiler = <IPython.core.compilerop.CachingCompiler object>\n   2684                 \n   2685                 self.last_execution_succeeded = not has_raised\n   2686 \n   2687                 # Reset this so later displayed values do not modify the\n\n...........................................................................\n/home/felipe/tf-venv3/lib/python3.5/site-packages/IPython/core/interactiveshell.py in run_ast_nodes(self=<ipykernel.zmqshell.ZMQInteractiveShell object>, nodelist=[<_ast.Import object>, <_ast.Expr object>, <_ast.For object>], cell_name='<ipython-input-24-55a5fb7cf42b>', interactivity='none', compiler=<IPython.core.compilerop.CachingCompiler object>, result=<ExecutionResult object at 7f3efb6647b8, executi..._before_exec=None error_in_exec=None result=None>)\n   2782 \n   2783         try:\n   2784             for i, node in enumerate(to_run_exec):\n   2785                 mod = ast.Module([node])\n   2786                 code = compiler(mod, cell_name, \"exec\")\n-> 2787                 if self.run_code(code, result):\n        self.run_code = <bound method InteractiveShell.run_code of <ipykernel.zmqshell.ZMQInteractiveShell object>>\n        code = <code object <module> at 0x7f3ef83351e0, file \"<ipython-input-24-55a5fb7cf42b>\", line 4>\n        result = <ExecutionResult object at 7f3efb6647b8, executi..._before_exec=None error_in_exec=None result=None>\n   2788                     return True\n   2789 \n   2790             for i, node in enumerate(to_run_interactive):\n   2791                 mod = ast.Interactive([node])\n\n...........................................................................\n/home/felipe/tf-venv3/lib/python3.5/site-packages/IPython/core/interactiveshell.py in run_code(self=<ipykernel.zmqshell.ZMQInteractiveShell object>, code_obj=<code object <module> at 0x7f3ef83351e0, file \"<ipython-input-24-55a5fb7cf42b>\", line 4>, result=<ExecutionResult object at 7f3efb6647b8, executi..._before_exec=None error_in_exec=None result=None>)\n   2842         outflag = True  # happens in more places, so it's easier as default\n   2843         try:\n   2844             try:\n   2845                 self.hooks.pre_run_code_hook()\n   2846                 #rprint('Running code', repr(code_obj)) # dbg\n-> 2847                 exec(code_obj, self.user_global_ns, self.user_ns)\n        code_obj = <code object <module> at 0x7f3ef83351e0, file \"<ipython-input-24-55a5fb7cf42b>\", line 4>\n        self.user_global_ns = {'CalibratedClassifierCV': <class 'sklearn.calibration.CalibratedClassifierCV'>, 'CountVectorizer': <class 'sklearn.feature_extraction.text.CountVectorizer'>, 'EMBEDDINGS_DIM': 100, 'GridSearchCV': <class 'sklearn.model_selection._search.GridSearchCV'>, 'INTERIM_DATA_ROOT': '/home/felipe/auto-tagger/social-tags/data/interim/movielens-ml20m-imdb', 'In': ['', \"import pandas as pd\\nimport numpy as np\\nimport ma... autoreload')\\nget_ipython().magic('autoreload 1')\", \"src_dir = os.path.join(os.getcwd(), os.pardir, '../../')\\nsys.path.append(src_dir)\", \"get_ipython().magic('aimport src.data.movielens_...etrics, src.utils.distances, src.utils.plotting')\", 'from src.data.movielens_20m_imdb import load_df_...from src.utils.plotting import plot_micro_f1_at_k', 'MODELS_ROOT = os.path.abspath(\"../../../models/r..._NB_WORDS=500\\nEMBEDDINGS_DIM=100\\nSAMPLE_FRAC= 0.3', 'MODELS_ROOT = os.path.abspath(\"../../../models/r..._NB_WORDS=500\\nEMBEDDINGS_DIM=100\\nSAMPLE_FRAC= 0.3', 'if os.path.isfile(INTERIM_DATA_ROOT+\"/docs_df_wi...f_with_segments-{}.p\".format(MAX_NB_WORDS),\"wb\"))', 'sample_df = docs_df.sample(int(SAMPLE_FRAC*len(docs_df)))', 'segments = sample_df[\\'segments\\'].values\\ndocument...ags\"].map(lambda tagstring: tagstring.split(\",\"))', 'labels = truncate_labels(labels,10)', '# segments, documents and labelsets are defined ...r of unique tags: {} \".format(len(mlb.classes_)))', 'cache_path = INTERIM_DATA_ROOT+\"/mimlsvm/mimlsvm....dump(X_train_boe_segments,open(cache_path,\"wb\"))', 'cache_path = INTERIM_DATA_ROOT+\"/mimlsvm/mimlsvm...le.dump(X_val_boe_segments,open(cache_path,\"wb\"))', 'def make_distance_matrix_for_embedding_segments(...trix[i][j] = distance\\n\\n    return distance_matrix', 'get_ipython().run_cell_magic(\\'time\\', \\'\\', \\'\\\\npath...p(dist_matrix_train, open(path_to_cache, \"wb\"))\\')', 'def make_train_dataset(distance_matrix, medoid_i...\"\"\"\\n\\n    return distance_matrix[:,medoid_indices]', 'def make_validation_dataset(source_vectorized_se...ts)\\n            \\n    return np.array(val_dataset)', \"# calculating medoids\\nNORMALIZATION = ['standard...MLSVM canonical implementation\\nSVM_DEGREE=[3,4,5]\", \"grid_search_parameters = [\\n    {\\n        'medoid...edoids_ratio': SAMPLE_TO_NB_MEDOIDS_RATIO\\n    }\\n]\", ...], 'K': 10, 'MAX_NB_WORDS': 500, 'MODELS_ROOT': '/home/felipe/auto-tagger/social-tags/models/ranking/movielens-mimlsvm-embeddings', 'MinMaxScaler': <class 'sklearn.preprocessing.data.MinMaxScaler'>, ...}\n        self.user_ns = {'CalibratedClassifierCV': <class 'sklearn.calibration.CalibratedClassifierCV'>, 'CountVectorizer': <class 'sklearn.feature_extraction.text.CountVectorizer'>, 'EMBEDDINGS_DIM': 100, 'GridSearchCV': <class 'sklearn.model_selection._search.GridSearchCV'>, 'INTERIM_DATA_ROOT': '/home/felipe/auto-tagger/social-tags/data/interim/movielens-ml20m-imdb', 'In': ['', \"import pandas as pd\\nimport numpy as np\\nimport ma... autoreload')\\nget_ipython().magic('autoreload 1')\", \"src_dir = os.path.join(os.getcwd(), os.pardir, '../../')\\nsys.path.append(src_dir)\", \"get_ipython().magic('aimport src.data.movielens_...etrics, src.utils.distances, src.utils.plotting')\", 'from src.data.movielens_20m_imdb import load_df_...from src.utils.plotting import plot_micro_f1_at_k', 'MODELS_ROOT = os.path.abspath(\"../../../models/r..._NB_WORDS=500\\nEMBEDDINGS_DIM=100\\nSAMPLE_FRAC= 0.3', 'MODELS_ROOT = os.path.abspath(\"../../../models/r..._NB_WORDS=500\\nEMBEDDINGS_DIM=100\\nSAMPLE_FRAC= 0.3', 'if os.path.isfile(INTERIM_DATA_ROOT+\"/docs_df_wi...f_with_segments-{}.p\".format(MAX_NB_WORDS),\"wb\"))', 'sample_df = docs_df.sample(int(SAMPLE_FRAC*len(docs_df)))', 'segments = sample_df[\\'segments\\'].values\\ndocument...ags\"].map(lambda tagstring: tagstring.split(\",\"))', 'labels = truncate_labels(labels,10)', '# segments, documents and labelsets are defined ...r of unique tags: {} \".format(len(mlb.classes_)))', 'cache_path = INTERIM_DATA_ROOT+\"/mimlsvm/mimlsvm....dump(X_train_boe_segments,open(cache_path,\"wb\"))', 'cache_path = INTERIM_DATA_ROOT+\"/mimlsvm/mimlsvm...le.dump(X_val_boe_segments,open(cache_path,\"wb\"))', 'def make_distance_matrix_for_embedding_segments(...trix[i][j] = distance\\n\\n    return distance_matrix', 'get_ipython().run_cell_magic(\\'time\\', \\'\\', \\'\\\\npath...p(dist_matrix_train, open(path_to_cache, \"wb\"))\\')', 'def make_train_dataset(distance_matrix, medoid_i...\"\"\"\\n\\n    return distance_matrix[:,medoid_indices]', 'def make_validation_dataset(source_vectorized_se...ts)\\n            \\n    return np.array(val_dataset)', \"# calculating medoids\\nNORMALIZATION = ['standard...MLSVM canonical implementation\\nSVM_DEGREE=[3,4,5]\", \"grid_search_parameters = [\\n    {\\n        'medoid...edoids_ratio': SAMPLE_TO_NB_MEDOIDS_RATIO\\n    }\\n]\", ...], 'K': 10, 'MAX_NB_WORDS': 500, 'MODELS_ROOT': '/home/felipe/auto-tagger/social-tags/models/ranking/movielens-mimlsvm-embeddings', 'MinMaxScaler': <class 'sklearn.preprocessing.data.MinMaxScaler'>, ...}\n   2848             finally:\n   2849                 # Reset our crash handler in place\n   2850                 sys.excepthook = old_excepthook\n   2851         except SystemExit as e:\n\n...........................................................................\n/home/felipe/auto-tagger/social-tags/notebooks/movielens-imdb/ranking/<ipython-input-24-55a5fb7cf42b> in <module>()\n     39     else:\n     40         X_train_final = X_train\n     41         X_val_final = X_val\n     42     \n     43     # y_train was defined outside the loop    \n---> 44     clf.fit(X_train,Y_train)\n     45     \n     46     # train score\n     47     Y_pred_train = clf.predict_proba(X_train)\n     48     \n\n...........................................................................\n/home/felipe/tf-venv3/lib/python3.5/site-packages/sklearn/multiclass.py in fit(self=OneVsRestClassifier(estimator=CalibratedClassifi...    cv=2, method='sigmoid'),\n          n_jobs=-1), X=array([[ 1.74058978,  2.11463526,  1.66555016, ....  1.56680769,\n         1.98830046,  2.35269634]]), y=array([[0, 0, 0, ..., 0, 0, 0],\n       [0, 0, 0,..., ..., 0, 0, 0],\n       [0, 0, 0, ..., 0, 0, 0]]))\n    210         # of spawning threads.  See joblib issue #112.\n    211         self.estimators_ = Parallel(n_jobs=self.n_jobs)(delayed(_fit_binary)(\n    212             self.estimator, X, column, classes=[\n    213                 \"not %s\" % self.label_binarizer_.classes_[i],\n    214                 self.label_binarizer_.classes_[i]])\n--> 215             for i, column in enumerate(columns))\n        columns = <generator object OneVsRestClassifier.fit.<locals>.<genexpr>>\n    216 \n    217         return self\n    218 \n    219     @if_delegate_has_method('estimator')\n\n...........................................................................\n/home/felipe/tf-venv3/lib/python3.5/site-packages/sklearn/externals/joblib/parallel.py in __call__(self=Parallel(n_jobs=-1), iterable=<generator object OneVsRestClassifier.fit.<locals>.<genexpr>>)\n    784             if pre_dispatch == \"all\" or n_jobs == 1:\n    785                 # The iterable was consumed all at once by the above for loop.\n    786                 # No need to wait for async callbacks to trigger to\n    787                 # consumption.\n    788                 self._iterating = False\n--> 789             self.retrieve()\n        self.retrieve = <bound method Parallel.retrieve of Parallel(n_jobs=-1)>\n    790             # Make sure that we get a last message telling us we are done\n    791             elapsed_time = time.time() - self._start_time\n    792             self._print('Done %3i out of %3i | elapsed: %s finished',\n    793                         (len(self._output), len(self._output),\n\n---------------------------------------------------------------------------\nSub-process traceback:\n---------------------------------------------------------------------------\nTypeError                                          Mon Jun 11 04:00:43 2018\nPID: 32754                  Python 3.5.2: /home/felipe/tf-venv3/bin/python3\n...........................................................................\n/home/felipe/tf-venv3/lib/python3.5/site-packages/sklearn/externals/joblib/parallel.py in __call__(self=<sklearn.externals.joblib.parallel.BatchedCalls object>)\n    126     def __init__(self, iterator_slice):\n    127         self.items = list(iterator_slice)\n    128         self._size = len(self.items)\n    129 \n    130     def __call__(self):\n--> 131         return [func(*args, **kwargs) for func, args, kwargs in self.items]\n        self.items = [(<function _fit_binary>, (CalibratedClassifierCV(base_estimator=SVC(C=0.1,...rbose=False),\n            cv=2, method='sigmoid'), memmap([[ 1.74058978,  2.11463526,  1.66555016, ... 1.56680769,\n          1.98830046,  2.35269634]]), array([0, 0, 0, ..., 0, 0, 0])), {'classes': ['not 0', 0]})]\n    132 \n    133     def __len__(self):\n    134         return self._size\n    135 \n\n...........................................................................\n/home/felipe/tf-venv3/lib/python3.5/site-packages/sklearn/externals/joblib/parallel.py in <listcomp>(.0=<list_iterator object>)\n    126     def __init__(self, iterator_slice):\n    127         self.items = list(iterator_slice)\n    128         self._size = len(self.items)\n    129 \n    130     def __call__(self):\n--> 131         return [func(*args, **kwargs) for func, args, kwargs in self.items]\n        func = <function _fit_binary>\n        args = (CalibratedClassifierCV(base_estimator=SVC(C=0.1,...rbose=False),\n            cv=2, method='sigmoid'), memmap([[ 1.74058978,  2.11463526,  1.66555016, ... 1.56680769,\n          1.98830046,  2.35269634]]), array([0, 0, 0, ..., 0, 0, 0]))\n        kwargs = {'classes': ['not 0', 0]}\n    132 \n    133     def __len__(self):\n    134         return self._size\n    135 \n\n...........................................................................\n/home/felipe/tf-venv3/lib/python3.5/site-packages/sklearn/multiclass.py in _fit_binary(estimator=CalibratedClassifierCV(base_estimator=SVC(C=0.1,...rbose=False),\n            cv=2, method='sigmoid'), X=memmap([[ 1.74058978,  2.11463526,  1.66555016, ... 1.56680769,\n          1.98830046,  2.35269634]]), y=array([0, 0, 0, ..., 0, 0, 0]), classes=['not 0', 0])\n     75             warnings.warn(\"Label %s is present in all training examples.\" %\n     76                           str(classes[c]))\n     77         estimator = _ConstantPredictor().fit(X, unique_y)\n     78     else:\n     79         estimator = clone(estimator)\n---> 80         estimator.fit(X, y)\n        estimator.fit = <bound method CalibratedClassifierCV.fit of Cali...bose=False),\n            cv=2, method='sigmoid')>\n        X = memmap([[ 1.74058978,  2.11463526,  1.66555016, ... 1.56680769,\n          1.98830046,  2.35269634]])\n        y = array([0, 0, 0, ..., 0, 0, 0])\n     81     return estimator\n     82 \n     83 \n     84 def _partial_fit_binary(estimator, X, y):\n\n...........................................................................\n/home/felipe/tf-venv3/lib/python3.5/site-packages/sklearn/calibration.py in fit(self=CalibratedClassifierCV(base_estimator=SVC(C=0.1,...rbose=False),\n            cv=2, method='sigmoid'), X=array([[ 1.74058978,  2.11463526,  1.66555016, ....  1.56680769,\n         1.98830046,  2.35269634]]), y=array([0, 0, 0, ..., 0, 0, 0]), sample_weight=None)\n    176                 if base_estimator_sample_weight is not None:\n    177                     this_estimator.fit(\n    178                         X[train], y[train],\n    179                         sample_weight=base_estimator_sample_weight[train])\n    180                 else:\n--> 181                     this_estimator.fit(X[train], y[train])\n        this_estimator.fit = <bound method BaseLibSVM.fit of SVC(C=0.1, cache...one, shrinking=True,\n  tol=0.001, verbose=False)>\n        X = array([[ 1.74058978,  2.11463526,  1.66555016, ....  1.56680769,\n         1.98830046,  2.35269634]])\n        train = array([ 853,  854,  855,  856,  857,  858,  859,... 1703, 1704, 1705, 1706, 1707, 1708, 1709, 1710])\n        y = array([0, 0, 0, ..., 0, 0, 0])\n    182 \n    183                 calibrated_classifier = _CalibratedClassifier(\n    184                     this_estimator, method=self.method,\n    185                     classes=self.classes_)\n\n...........................................................................\n/home/felipe/tf-venv3/lib/python3.5/site-packages/sklearn/svm/base.py in fit(self=SVC(C=0.1, cache_size=200, class_weight=None, co...None, shrinking=True,\n  tol=0.001, verbose=False), X=array([[ 1.42101589,  1.44839209,  1.40040691, ....  1.56680769,\n         1.98830046,  2.35269634]]), y=array([ 0.,  0.,  0.,  0.,  0.,  0.,  0.,  0.,  ...0.,  0.,  0.,  0.,  0.,  0.,  0.,  0.,  0.,  0.]), sample_weight=array([], dtype=float64))\n    182         fit = self._sparse_fit if self._sparse else self._dense_fit\n    183         if self.verbose:  # pragma: no cover\n    184             print('[LibSVM]', end='')\n    185 \n    186         seed = rnd.randint(np.iinfo('i').max)\n--> 187         fit(X, y, sample_weight, solver_type, kernel, random_seed=seed)\n        fit = <bound method BaseLibSVM._dense_fit of SVC(C=0.1...one, shrinking=True,\n  tol=0.001, verbose=False)>\n        X = array([[ 1.42101589,  1.44839209,  1.40040691, ....  1.56680769,\n         1.98830046,  2.35269634]])\n        y = array([ 0.,  0.,  0.,  0.,  0.,  0.,  0.,  0.,  ...0.,  0.,  0.,  0.,  0.,  0.,  0.,  0.,  0.,  0.])\n        sample_weight = array([], dtype=float64)\n        solver_type = 0\n        kernel = 'rbf'\n        seed = 643132624\n    188         # see comment on the other call to np.iinfo in this file\n    189 \n    190         self.shape_fit_ = X.shape\n    191 \n\n...........................................................................\n/home/felipe/tf-venv3/lib/python3.5/site-packages/sklearn/svm/base.py in _dense_fit(self=SVC(C=0.1, cache_size=200, class_weight=None, co...None, shrinking=True,\n  tol=0.001, verbose=False), X=array([[ 1.42101589,  1.44839209,  1.40040691, ....  1.56680769,\n         1.98830046,  2.35269634]]), y=array([ 0.,  0.,  0.,  0.,  0.,  0.,  0.,  0.,  ...0.,  0.,  0.,  0.,  0.,  0.,  0.,  0.,  0.,  0.]), sample_weight=array([], dtype=float64), solver_type=0, kernel='rbf', random_seed=643132624)\n    249                 class_weight=self.class_weight_, kernel=kernel, C=self.C,\n    250                 nu=self.nu, probability=self.probability, degree=self.degree,\n    251                 shrinking=self.shrinking, tol=self.tol,\n    252                 cache_size=self.cache_size, coef0=self.coef0,\n    253                 gamma=self._gamma, epsilon=self.epsilon,\n--> 254                 max_iter=self.max_iter, random_seed=random_seed)\n        self.max_iter = -1\n        random_seed = 643132624\n    255 \n    256         self._warn_from_fit_status()\n    257 \n    258     def _sparse_fit(self, X, y, sample_weight, solver_type, kernel,\n\n...........................................................................\n/home/felipe/tf-venv3/lib/python3.5/site-packages/sklearn/svm/libsvm.cpython-35m-x86_64-linux-gnu.so in sklearn.svm.libsvm.fit()\n\nTypeError: an integer is required\n___________________________________________________________________________"
     ]
    }
   ],
   "source": [
    "import warnings\n",
    "warnings.filterwarnings('ignore')\n",
    "\n",
    "for (i,configuration) in tqdm(enumerate(ParameterGrid(grid_search_parameters))):\n",
    "                 \n",
    "    # nb_medoids depends upon the dataset length\n",
    "    ratio = configuration['nb_medoids_ratio']\n",
    "    nb_medoids = int(len(documents_train) * ratio)\n",
    "    \n",
    "    # these are the document segments to be used as medoids\n",
    "    medoids_indices_train = k_medoids(dist_matrix_train,nb_medoids)[0]\n",
    "\n",
    "    # a matrix where element Aij contains the distance from sample i to medoid j.\n",
    "    X_train = make_train_dataset(dist_matrix_train,medoids_indices_train)\n",
    "    \n",
    "    # VALIDATION SET\n",
    "\n",
    "    fitted_medoids = list()\n",
    "    for medoid_index in medoids_indices_train:\n",
    "        fitted_medoids.append(X_train_boe_segments[medoid_index]) \n",
    "    \n",
    "    X_val = make_validation_dataset(X_val_boe_segments,fitted_medoids)     \n",
    "        \n",
    "    svm = SVC(kernel=configuration['svm_kernel'],\n",
    "            gamma=configuration['svm_gamma'],\n",
    "            C=configuration['svm_c'],\n",
    "            degree=configuration['svm_degree'])\n",
    "    \n",
    "    clf = OneVsRestClassifier(CalibratedClassifierCV(svm,cv=2),n_jobs=-1)        \n",
    "\n",
    "    if configuration['medoid_normalization'] == 'standard':      \n",
    "        scaler = StandardScaler()\n",
    "        X_train_final = scaler.fit_transform(X_train)\n",
    "        X_val_final = scaler.transform(X_val)\n",
    "    elif configuration['medoid_normalization'] == 'minmax':\n",
    "        scaler = MinMaxScaler()\n",
    "        X_train_final = scaler.fit_transform(X_train)\n",
    "        X_val_final = scaler.transform(X_val)\n",
    "    else:\n",
    "        X_train_final = X_train\n",
    "        X_val_final = X_val\n",
    "    \n",
    "    # y_train was defined outside the loop    \n",
    "    clf.fit(X_train,Y_train)\n",
    "    \n",
    "    # train score\n",
    "    Y_pred_train = clf.predict_proba(X_train)\n",
    "    \n",
    "    # validation score\n",
    "    Y_pred_val = clf.predict_proba(X_val)  \n",
    "    \n",
    "    print(\"iter: {}, configuration: {}\\n\".format(i,configuration))\n",
    "    \n",
    "    ks = [1,2,3,4,5,6,7,8,9,10]\n",
    "\n",
    "    for k in ks:\n",
    "#         print(\"train micro-F1 @{}: {}\".format(k,ranking.micro_f1_at_k(Y_train,Y_pred_train,k=k,normalize=True)))\n",
    "        print(\"validation micro-F1 @{}: {}\".format(k,ranking.micro_f1_at_k(Y_val,Y_pred_val,k=k,normalize=True)))    "
   ]
  },
  {
   "cell_type": "markdown",
   "metadata": {},
   "source": [
    "### train the final model"
   ]
  },
  {
   "cell_type": "code",
   "execution_count": 25,
   "metadata": {
    "collapsed": true
   },
   "outputs": [],
   "source": [
    "segments = docs_df['segments'].values\n",
    "documents = docs_df['synopsis'].values\n",
    "labels = docs_df[\"tags\"].map(lambda tagstring: tagstring.split(\",\"))"
   ]
  },
  {
   "cell_type": "code",
   "execution_count": 26,
   "metadata": {},
   "outputs": [
    {
     "name": "stdout",
     "output_type": "stream",
     "text": [
      "total number of train documents: 5703\n",
      "total number of validation documents: 1007\n",
      "total number of unique tags: 2138 \n"
     ]
    }
   ],
   "source": [
    "# segments, documents and labelsets are defined outside of the parameterGrid loop\n",
    "# because they're the same for every configuration    \n",
    "segments_train, segments_val, documents_train, documents_val, Y_train, Y_val = train_test_split(segments,\n",
    "                                                                                               documents,\n",
    "                                                                                               labels,\n",
    "                                                                                               test_size=0.15)\n",
    "\n",
    "mlb = MultiLabelBinarizer()\n",
    "mlb.fit(labels)\n",
    "\n",
    "Y_train = mlb.transform(Y_train)\n",
    "Y_val = mlb.transform(Y_val)\n",
    "\n",
    "print('total number of train documents: {}'.format(len(documents_train)))\n",
    "print('total number of validation documents: {}'.format(len(documents_val)))\n",
    "print(\"total number of unique tags: {} \".format(len(mlb.classes_)))"
   ]
  },
  {
   "cell_type": "code",
   "execution_count": 27,
   "metadata": {
    "collapsed": true
   },
   "outputs": [],
   "source": [
    "vect = TfidfVectorizer(max_features=MAX_NB_WORDS)\n",
    "vect.fit(documents)\n",
    "\n",
    "feature_names = vect.get_feature_names()\n",
    "idf = vect.idf_\n",
    "idf_index = dict(zip(vect.get_feature_names(), idf))"
   ]
  },
  {
   "cell_type": "code",
   "execution_count": null,
   "metadata": {
    "collapsed": true
   },
   "outputs": [],
   "source": [
    "# analyzer = preprocess + tokenize\n",
    "tokenize_func = vect.build_analyzer()\n",
    "\n",
    "def tokenize(string):\n",
    "    return tokenize_func(string)"
   ]
  },
  {
   "cell_type": "code",
   "execution_count": null,
   "metadata": {
    "collapsed": true
   },
   "outputs": [],
   "source": [
    "%%time\n",
    "X_train_tok = list()\n",
    "\n",
    "for document_segments in segments_train:\n",
    "    tokenized_segments = [tokenize(segment) for segment in document_segments]\n",
    "    X_train_tok.append(tokenized_segments)"
   ]
  },
  {
   "cell_type": "code",
   "execution_count": null,
   "metadata": {
    "collapsed": true
   },
   "outputs": [],
   "source": [
    "%%time\n",
    "X_val_tok = list()\n",
    "\n",
    "for document_segments in segments_val:\n",
    "    tokenized_segments = [tokenize(segment) for segment in document_segments]\n",
    "    X_val_tok.append(tokenized_segments)"
   ]
  },
  {
   "cell_type": "markdown",
   "metadata": {},
   "source": [
    "no need to load embeddings index again"
   ]
  },
  {
   "cell_type": "code",
   "execution_count": 28,
   "metadata": {},
   "outputs": [
    {
     "name": "stdout",
     "output_type": "stream",
     "text": [
      "cache hit\n"
     ]
    }
   ],
   "source": [
    "if os.path.isfile(INTERIM_DATA_ROOT+\"/mimlsvm/mimlsvm-embeddings/X_train_boe_segments.p\"):\n",
    "    print('cache hit')\n",
    "    X_train_boe_segments = pickle.load(open(INTERIM_DATA_ROOT+\"/mimlsvm/mimlsvm-embeddings/X_train_boe_segments.p\",'rb'))\n",
    "else:\n",
    "    X_train_boe_segments = list()\n",
    "\n",
    "    for tokenized_document_segments in X_train_tok:\n",
    "        document_segments_boe = list()\n",
    "\n",
    "        with warnings.catch_warnings():\n",
    "            warnings.filterwarnings('error')\n",
    "            for seg in tokenized_document_segments:\n",
    "                if len(seg) == 0:\n",
    "                    print('empty segment')\n",
    "                    continue\n",
    "                else:\n",
    "                    try:\n",
    "                        boe=build_bag_of_weighted_embeddings(seg)\n",
    "                    except RuntimeWarning:\n",
    "                        print('segment entirely with OOV words')\n",
    "                        continue\n",
    "\n",
    "                    document_segments_boe.append(boe)\n",
    "\n",
    "        X_train_boe_segments.append(document_segments_boe)\n",
    "\n",
    "    pickle.dump(X_train_boe_segments,open(INTERIM_DATA_ROOT+\"/mimlsvm/mimlsvm-embeddings/X_train_boe_segments.p\",\"wb\"))"
   ]
  },
  {
   "cell_type": "code",
   "execution_count": 29,
   "metadata": {},
   "outputs": [
    {
     "name": "stdout",
     "output_type": "stream",
     "text": [
      "cache hit\n"
     ]
    }
   ],
   "source": [
    "if os.path.isfile(INTERIM_DATA_ROOT+\"/mimlsvm/mimlsvm-embeddings/X_val_boe_segments.p\"):\n",
    "    print('cache hit')\n",
    "    X_val_boe_segments = pickle.load(open(INTERIM_DATA_ROOT+\"/mimlsvm/mimlsvm-embeddings/X_val_boe_segments.p\",'rb'))\n",
    "else:\n",
    "    X_val_boe_segments = list()\n",
    "\n",
    "    for tokenized_document_segments in X_val_tok:\n",
    "        document_segments_boe = list()\n",
    "\n",
    "        with warnings.catch_warnings():\n",
    "            warnings.filterwarnings('error')\n",
    "            for seg in tokenized_document_segments:\n",
    "                if len(seg) == 0:\n",
    "                    print('empty segment')\n",
    "                    continue\n",
    "                else:\n",
    "                    try:\n",
    "                        boe=build_bag_of_weighted_embeddings(seg)\n",
    "                    except RuntimeWarning:\n",
    "                        print('segment entirely with OOV words')\n",
    "                        continue\n",
    "\n",
    "                    document_segments_boe.append(boe)\n",
    "\n",
    "        X_val_boe_segments.append(document_segments_boe)\n",
    "\n",
    "    pickle.dump(X_val_boe_segments,open(INTERIM_DATA_ROOT+\"/mimlsvm/mimlsvm-embeddings/X_val_boe_segments.p\",\"wb\"))"
   ]
  },
  {
   "cell_type": "markdown",
   "metadata": {},
   "source": [
    "no need to redefine `make_distance_matrix_for_embedding_segments`, `make_train_dataset` and `make_val_dataset`"
   ]
  },
  {
   "cell_type": "code",
   "execution_count": 30,
   "metadata": {},
   "outputs": [
    {
     "name": "stdout",
     "output_type": "stream",
     "text": [
      "cache hit\n",
      "CPU times: user 100 ms, sys: 272 ms, total: 372 ms\n",
      "Wall time: 3.45 s\n"
     ]
    }
   ],
   "source": [
    "%%time\n",
    "\n",
    "path_to_cache = INTERIM_DATA_ROOT+\"/mimlsvm/mimlsvm-embeddings/distance-matrix-train.p\"\n",
    "\n",
    "if os.path.isfile(path_to_cache):\n",
    "    print('cache hit')\n",
    "    dist_matrix_train = pickle.load(open(path_to_cache,\"rb\"))\n",
    "else:\n",
    "    print('Fitting distance matrix')\n",
    "\n",
    "    dist_matrix_train = make_distance_matrix_for_embedding_segments(X_train_boe_segments)\n",
    "    pickle.dump(dist_matrix_train, open(path_to_cache, \"wb\"))"
   ]
  },
  {
   "cell_type": "markdown",
   "metadata": {},
   "source": [
    "### set winning parameters and train on the whole dataset"
   ]
  },
  {
   "cell_type": "markdown",
   "metadata": {},
   "source": [
    "iter: 16, configuration: {'svm_degree': 4, 'svm_kernel': 'poly', 'svm_c': 10, 'medoid_normalization': 'standard', 'nb_medoids_ratio': 0.3, 'svm_gamma': 'auto'}"
   ]
  },
  {
   "cell_type": "code",
   "execution_count": 31,
   "metadata": {
    "collapsed": true
   },
   "outputs": [],
   "source": [
    "final_parameters = [\n",
    "    {\n",
    "        'medoid_normalization':  ['standard'],\n",
    "        'svm_kernel': ['poly'],\n",
    "        'svm_c':[10],\n",
    "        'svm_degree' :[4],\n",
    "        'svm_gamma':['auto'],\n",
    "        'nb_medoids_ratio': [0.3],\n",
    "    }\n",
    "]"
   ]
  },
  {
   "cell_type": "code",
   "execution_count": 34,
   "metadata": {},
   "outputs": [
    {
     "ename": "KeyboardInterrupt",
     "evalue": "",
     "output_type": "error",
     "traceback": [
      "\u001b[0;31m---------------------------------------------------------------------------\u001b[0m",
      "\u001b[0;31mKeyboardInterrupt\u001b[0m                         Traceback (most recent call last)",
      "\u001b[0;32m<ipython-input-34-e9f58d1d18a6>\u001b[0m in \u001b[0;36m<module>\u001b[0;34m()\u001b[0m\n\u001b[1;32m      6\u001b[0m \u001b[0;34m\u001b[0m\u001b[0m\n\u001b[1;32m      7\u001b[0m     \u001b[0;31m# these are the document segments to be used as medoids\u001b[0m\u001b[0;34m\u001b[0m\u001b[0;34m\u001b[0m\u001b[0m\n\u001b[0;32m----> 8\u001b[0;31m     \u001b[0mmedoids_indices_train\u001b[0m \u001b[0;34m=\u001b[0m \u001b[0mk_medoids\u001b[0m\u001b[0;34m(\u001b[0m\u001b[0mdist_matrix_train\u001b[0m\u001b[0;34m,\u001b[0m\u001b[0mnb_medoids\u001b[0m\u001b[0;34m)\u001b[0m\u001b[0;34m[\u001b[0m\u001b[0;36m0\u001b[0m\u001b[0;34m]\u001b[0m\u001b[0;34m\u001b[0m\u001b[0m\n\u001b[0m\u001b[1;32m      9\u001b[0m \u001b[0;34m\u001b[0m\u001b[0m\n\u001b[1;32m     10\u001b[0m     \u001b[0;31m# a matrix where element Aij contains the distance from sample i to medoid j.\u001b[0m\u001b[0;34m\u001b[0m\u001b[0;34m\u001b[0m\u001b[0m\n",
      "\u001b[0;32m/home/felipe/auto-tagger/social-tags/notebooks/movielens-imdb/ranking/../../../src/utils/clusters.py\u001b[0m in \u001b[0;36mk_medoids\u001b[0;34m(D, k, tmax)\u001b[0m\n\u001b[1;32m     22\u001b[0m     \u001b[0;32mfor\u001b[0m \u001b[0mt\u001b[0m \u001b[0;32min\u001b[0m \u001b[0mrange\u001b[0m\u001b[0;34m(\u001b[0m\u001b[0mtmax\u001b[0m\u001b[0;34m)\u001b[0m\u001b[0;34m:\u001b[0m\u001b[0;34m\u001b[0m\u001b[0m\n\u001b[1;32m     23\u001b[0m         \u001b[0;31m# determine clusters, i. e. arrays of data indices\u001b[0m\u001b[0;34m\u001b[0m\u001b[0;34m\u001b[0m\u001b[0m\n\u001b[0;32m---> 24\u001b[0;31m         \u001b[0mJ\u001b[0m \u001b[0;34m=\u001b[0m \u001b[0mnp\u001b[0m\u001b[0;34m.\u001b[0m\u001b[0margmin\u001b[0m\u001b[0;34m(\u001b[0m\u001b[0mD\u001b[0m\u001b[0;34m[\u001b[0m\u001b[0;34m:\u001b[0m\u001b[0;34m,\u001b[0m \u001b[0mM\u001b[0m\u001b[0;34m]\u001b[0m\u001b[0;34m,\u001b[0m \u001b[0maxis\u001b[0m\u001b[0;34m=\u001b[0m\u001b[0;36m1\u001b[0m\u001b[0;34m)\u001b[0m\u001b[0;34m\u001b[0m\u001b[0m\n\u001b[0m\u001b[1;32m     25\u001b[0m         \u001b[0;32mfor\u001b[0m \u001b[0mkappa\u001b[0m \u001b[0;32min\u001b[0m \u001b[0mrange\u001b[0m\u001b[0;34m(\u001b[0m\u001b[0mk\u001b[0m\u001b[0;34m)\u001b[0m\u001b[0;34m:\u001b[0m\u001b[0;34m\u001b[0m\u001b[0m\n\u001b[1;32m     26\u001b[0m             \u001b[0mC\u001b[0m\u001b[0;34m[\u001b[0m\u001b[0mkappa\u001b[0m\u001b[0;34m]\u001b[0m \u001b[0;34m=\u001b[0m \u001b[0mnp\u001b[0m\u001b[0;34m.\u001b[0m\u001b[0mwhere\u001b[0m\u001b[0;34m(\u001b[0m\u001b[0mJ\u001b[0m \u001b[0;34m==\u001b[0m \u001b[0mkappa\u001b[0m\u001b[0;34m)\u001b[0m\u001b[0;34m[\u001b[0m\u001b[0;36m0\u001b[0m\u001b[0;34m]\u001b[0m\u001b[0;34m\u001b[0m\u001b[0m\n",
      "\u001b[0;31mKeyboardInterrupt\u001b[0m: "
     ]
    }
   ],
   "source": [
    "for (i,configuration) in enumerate(ParameterGrid(final_parameters)):\n",
    "                 \n",
    "    # nb_medoids depends upon the dataset length\n",
    "    ratio = configuration['nb_medoids_ratio']\n",
    "    nb_medoids = int(len(documents_train) * ratio)\n",
    "    \n",
    "    # these are the document segments to be used as medoids\n",
    "    medoids_indices_train = k_medoids(dist_matrix_train,nb_medoids)[0]\n",
    "\n",
    "    # a matrix where element Aij contains the distance from sample i to medoid j.\n",
    "    X_train = make_train_dataset(dist_matrix_train,medoids_indices_train)\n",
    "    \n",
    "    # VALIDATION SET\n",
    "\n",
    "    fitted_medoids = list()\n",
    "    for medoid_index in medoids_indices_train:\n",
    "        fitted_medoids.append(X_train_boe_segments[medoid_index]) \n",
    "    \n",
    "    X_val = make_validation_dataset(X_val_boe_segments,fitted_medoids)     \n",
    "        \n",
    "    svm = SVC(kernel=configuration['svm_kernel'],\n",
    "            gamma=configuration['svm_gamma'],\n",
    "            C=configuration['svm_c'],\n",
    "            degree=configuration['svm_degree'])\n",
    "    \n",
    "    clf = OneVsRestClassifier(CalibratedClassifierCV(svm,cv=2),n_jobs=-1)        \n",
    "\n",
    "    if configuration['medoid_normalization'] == 'standard':      \n",
    "        scaler = StandardScaler()\n",
    "        X_train_final = scaler.fit_transform(X_train)\n",
    "        X_val_final = scaler.transform(X_val)\n",
    "    elif configuration['medoid_normalization'] == 'minmax':\n",
    "        scaler = MinMaxScaler()\n",
    "        X_train_final = scaler.fit_transform(X_train)\n",
    "        X_val_final = scaler.transform(X_val)\n",
    "    else:\n",
    "        X_train_final = X_train\n",
    "        X_val_final = X_val\n",
    "    \n",
    "    # y_train was defined outside the loop    \n",
    "    clf.fit(X_train,Y_train)\n",
    "    \n",
    "    # train score\n",
    "    Y_pred_train = clf.predict_proba(X_train)\n",
    "    \n",
    "    # validation score\n",
    "    Y_pred_val = clf.predict_proba(X_val)  \n",
    "    \n",
    "    print(\"iter: {}, configuration: {}\\n\".format(i,configuration))\n",
    "    \n",
    "    ks = [1,2,3,4,5,6,7,8,9,10]\n",
    "\n",
    "    for k in ks:\n",
    "#         print(\"train micro-F1 @{}: {}\".format(k,ranking.micro_f1_at_k(Y_train,Y_pred_train,k=k,normalize=True)))\n",
    "        print(\"validation micro-F1 @{}: {}\".format(k,ranking.micro_f1_at_k(Y_test,Y_pred_val,k=k,normalize=True)))    "
   ]
  },
  {
   "cell_type": "code",
   "execution_count": 35,
   "metadata": {},
   "outputs": [
    {
     "name": "stdout",
     "output_type": "stream",
     "text": [
      "validation micro-F1 @1: 0.17737556561085974\n",
      "validation micro-F1 @2: 0.18476791347453808\n",
      "validation micro-F1 @3: 0.18340348767288034\n",
      "validation micro-F1 @4: 0.18190024825095916\n",
      "validation micro-F1 @5: 0.17704561911658218\n",
      "validation micro-F1 @6: 0.17075386012715713\n",
      "validation micro-F1 @7: 0.1640838650865998\n",
      "validation micro-F1 @8: 0.15989036089538602\n",
      "validation micro-F1 @9: 0.1577396076837077\n",
      "validation micro-F1 @10: 0.15500183217295713\n"
     ]
    }
   ],
   "source": [
    "ks = [1,2,3,4,5,6,7,8,9,10]\n",
    "\n",
    "for k in ks:\n",
    "#         print(\"train micro-F1 @{}: {}\".format(k,ranking.micro_f1_at_k(Y_train,Y_pred_train,k=k,normalize=True)))\n",
    "    print(\"validation micro-F1 @{}: {}\".format(k,ranking.micro_f1_at_k(Y_val,Y_pred_val,k=k,normalize=True))) "
   ]
  },
  {
   "cell_type": "code",
   "execution_count": null,
   "metadata": {
    "collapsed": true
   },
   "outputs": [],
   "source": []
  },
  {
   "cell_type": "markdown",
   "metadata": {},
   "source": [
    "## save the final model"
   ]
  },
  {
   "cell_type": "code",
   "execution_count": null,
   "metadata": {
    "collapsed": true
   },
   "outputs": [],
   "source": [
    "pickle.dump(clf, open(MODELS_ROOT.rstrip('/')+\"/model.p\", \"wb\"))"
   ]
  },
  {
   "cell_type": "code",
   "execution_count": 5,
   "metadata": {},
   "outputs": [
    {
     "data": {
      "image/png": "[encoded data removed]",
      "text/plain": [
       "<matplotlib.figure.Figure at 0x7f266378e358>"
      ]
     },
     "metadata": {},
     "output_type": "display_data"
    }
   ],
   "source": [
    "plt.clf()\n",
    "img = plt.gcf()\n",
    "ax = plt.gca()\n",
    "validation_scores = [\n",
    "validation micro-F1 @1: 0.17737556561085974\n",
    "validation micro-F1 @2: 0.18476791347453808\n",
    "validation micro-F1 @3: 0.18340348767288034\n",
    "validation micro-F1 @4: 0.18190024825095916\n",
    "validation micro-F1 @5: 0.17704561911658218\n",
    "validation micro-F1 @6: 0.17075386012715713\n",
    "validation micro-F1 @7: 0.1640838650865998\n",
    "validation micro-F1 @8: 0.15989036089538602\n",
    "validation micro-F1 @9: 0.1577396076837077\n",
    "validation micro-F1 @10: 0.15500183217295713\n",
    "]\n",
    "plot_micro_f1_at_k(validation_scores,ax)\n",
    "plt.gcf().set_size_inches(7,5)\n",
    "plt.gca().legend_.remove()\n",
    "plt.show()"
   ]
  },
  {
   "cell_type": "code",
   "execution_count": null,
   "metadata": {
    "collapsed": true
   },
   "outputs": [],
   "source": []
  }
 ],
 "metadata": {
  "kernelspec": {
   "display_name": "Python 3",
   "language": "python",
   "name": "python3"
  },
  "language_info": {
   "codemirror_mode": {
    "name": "ipython",
    "version": 3
   },
   "file_extension": ".py",
   "mimetype": "text/x-python",
   "name": "python",
   "nbconvert_exporter": "python",
   "pygments_lexer": "ipython3",
   "version": "3.5.2"
  }
 },
 "nbformat": 4,
 "nbformat_minor": 2
}
