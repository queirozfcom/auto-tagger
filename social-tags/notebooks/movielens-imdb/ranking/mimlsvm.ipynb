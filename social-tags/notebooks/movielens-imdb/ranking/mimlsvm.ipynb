{
 "cells": [
  {
   "cell_type": "markdown",
   "metadata": {},
   "source": [
    "## mimlsvm\n",
    "\n",
    "mi = mulit-instance\n",
    "ml = multi-label\n",
    "svm = svm\n",
    "\n",
    "As described in Shen et al 2009: http://ieeexplore.ieee.org/document/5346261/\n",
    "\n",
    "> Should we use SVM-struct instead? https://github.com/pystruct/pystruct\n"
   ]
  },
  {
   "cell_type": "code",
   "execution_count": 1,
   "metadata": {
    "collapsed": true
   },
   "outputs": [],
   "source": [
    "import pandas as pd\n",
    "import numpy as np\n",
    "import matplotlib.pyplot as plt\n",
    "import gc\n",
    "import nltk\n",
    "import os\n",
    "import re\n",
    "import pickle\n",
    "import sklearn\n",
    "import sys\n",
    "import string\n",
    "\n",
    "from hausdorff import hausdorff\n",
    "\n",
    "from nltk import TextTilingTokenizer\n",
    "from scipy.spatial.distance  import directed_hausdorff, pdist\n",
    "\n",
    "from sklearn.metrics import f1_score, precision_score, recall_score\n",
    "from sklearn.model_selection import cross_val_score, GridSearchCV,ParameterGrid, train_test_split\n",
    "from sklearn.multiclass import OneVsRestClassifier\n",
    "from sklearn.preprocessing import MultiLabelBinarizer, StandardScaler,MinMaxScaler\n",
    "from sklearn.feature_extraction.text import CountVectorizer\n",
    "from sklearn.feature_extraction.text import TfidfTransformer,TfidfVectorizer\n",
    "from sklearn.svm import SVC\n",
    "\n",
    "from tqdm import *\n",
    "\n",
    "%matplotlib inline\n",
    "%load_ext autoreload\n",
    "%autoreload 1"
   ]
  },
  {
   "cell_type": "code",
   "execution_count": 2,
   "metadata": {
    "collapsed": true
   },
   "outputs": [],
   "source": [
    "src_dir = os.path.join(os.getcwd(), os.pardir, '../../')\n",
    "sys.path.append(src_dir)"
   ]
  },
  {
   "cell_type": "code",
   "execution_count": 3,
   "metadata": {
    "collapsed": true
   },
   "outputs": [],
   "source": [
    "%aimport src.data.movielens_20m_imdb\n",
    "%aimport src.helpers.labels,src.helpers.neighbours, src.helpers.segments\n",
    "%aimport src.utils.dataframes, src.utils.clusters, src.utils.metrics"
   ]
  },
  {
   "cell_type": "code",
   "execution_count": 4,
   "metadata": {
    "collapsed": true
   },
   "outputs": [],
   "source": [
    "from src.data.movielens_20m_imdb import load_df_or_get_from_cache\n",
    "from src.helpers.labels import truncate_labels\n",
    "from src.helpers.neighbours import get_predicted_labels_from_neighbours\n",
    "from src.helpers.segments import make_distance_matrix_for_segments,vectorize_segments\n",
    "\n",
    "from src.utils.dataframes import sample_rows\n",
    "from src.utils.metrics import ranking\n",
    "from src.utils.clusters import k_medoids"
   ]
  },
  {
   "cell_type": "code",
   "execution_count": 39,
   "metadata": {
    "collapsed": true
   },
   "outputs": [],
   "source": [
    "MODELS_ROOT = os.path.abspath(\"../../../models/ranking/movielens-ovr-linear-svc-calibrated/\")\n",
    "INTERIM_DATA_ROOT = os.path.abspath(\"../../../data/interim/movielens-ml20m-imdb/\")\n",
    "PATH_TO_PROCESSED_FILE = os.path.abspath('../../../data/processed/movielens-20m-imdb-tags-and-synopses-2017-12-20.csv')\n",
    "\n",
    "# CONFIGS\n",
    "\n",
    "SEED= 42\n",
    "MAX_NB_WORDS = 500\n",
    "NB_DOCS=500\n",
    "\n",
    "# preprocessing\n",
    "\n",
    "PREPROC=None\n",
    "STOP_WORDS=[None,'english']\n",
    "VECTORIZER_NORM = ['l1','l2',None]\n",
    "\n",
    "W=20 # Pseudosentence size (in words) - not specified in the paper, taken from TextTiling default values\n",
    "K=10 # Size (in sentences) of the block used in the block comparison method - not specified in the paper, taken from TextTiling default values\n",
    "\n",
    "# calculating medoids\n",
    "MEDOID_NORMALIZATION = ['standard','minmax',None] # not specified in the paper\n",
    "SAMPLE_TO_NB_MEDOIDS_RATIO = [0.2,0.3,0.4] # not specified in the paper, but taken from MIMLSVM canonical implementation\n",
    "\n",
    "# classification\n",
    "SVM_KERNEL=['poly'] # not specified in the paper, but taken from MIMLSVM canonical implementation\n",
    "SVM_GAMMA=[0.1,0.2,0.3,0.5,1.0,'auto'] # not specified in the paper, but taken from MIMLSVM canonical implementation\n",
    "SVM_C= [0.001,0.01,0.1,1]# not specified in the paper, but taken from MIMLSVM canonical implementation\n",
    "SVM_DEGREE=[3,4,5]"
   ]
  },
  {
   "cell_type": "code",
   "execution_count": 41,
   "metadata": {
    "collapsed": true
   },
   "outputs": [],
   "source": [
    "MIN_TAG_DF = 10"
   ]
  },
  {
   "cell_type": "code",
   "execution_count": 42,
   "metadata": {
    "collapsed": true
   },
   "outputs": [],
   "source": [
    "docs_df = load_df_or_get_from_cache(PATH_TO_PROCESSED_FILE,INTERIM_DATA_ROOT)"
   ]
  },
  {
   "cell_type": "code",
   "execution_count": 43,
   "metadata": {
    "collapsed": true
   },
   "outputs": [],
   "source": [
    "sentence_tokenizer = nltk.data.load('tokenizers/punkt/english.pickle')"
   ]
  },
  {
   "cell_type": "code",
   "execution_count": 44,
   "metadata": {},
   "outputs": [],
   "source": [
    "# remove this for production\n",
    "docs_df = sample_rows(docs_df,NB_DOCS)"
   ]
  },
  {
   "cell_type": "code",
   "execution_count": 45,
   "metadata": {
    "collapsed": true
   },
   "outputs": [],
   "source": [
    "docs_df['sentences'] = docs_df['synopsis'].map(lambda row: sentence_tokenizer.tokenize(row))"
   ]
  },
  {
   "cell_type": "code",
   "execution_count": 46,
   "metadata": {},
   "outputs": [
    {
     "name": "stdout",
     "output_type": "stream",
     "text": [
      "CPU times: user 0 ns, sys: 0 ns, total: 0 ns\n",
      "Wall time: 1.29 ms\n"
     ]
    }
   ],
   "source": [
    "%%time\n",
    "docs_df['num_sentences'] = docs_df['sentences'].map( lambda sents: len(sents))"
   ]
  },
  {
   "cell_type": "code",
   "execution_count": 47,
   "metadata": {},
   "outputs": [
    {
     "data": {
      "text/html": [
       "<div>\n",
       "<style>\n",
       "    .dataframe thead tr:only-child th {\n",
       "        text-align: right;\n",
       "    }\n",
       "\n",
       "    .dataframe thead th {\n",
       "        text-align: left;\n",
       "    }\n",
       "\n",
       "    .dataframe tbody tr th {\n",
       "        vertical-align: top;\n",
       "    }\n",
       "</style>\n",
       "<table border=\"1\" class=\"dataframe\">\n",
       "  <thead>\n",
       "    <tr style=\"text-align: right;\">\n",
       "      <th></th>\n",
       "      <th>movie_id</th>\n",
       "      <th>title</th>\n",
       "      <th>synopsis</th>\n",
       "      <th>tags</th>\n",
       "      <th>num_tags</th>\n",
       "      <th>sentences</th>\n",
       "      <th>num_sentences</th>\n",
       "    </tr>\n",
       "  </thead>\n",
       "  <tbody>\n",
       "    <tr>\n",
       "      <th>0</th>\n",
       "      <td>91831</td>\n",
       "      <td>Devil Inside, The (2012)</td>\n",
       "      <td>An American girl sets out to make a documentar...</td>\n",
       "      <td>religion,christianity,catholicism,psychiatry,e...</td>\n",
       "      <td>5</td>\n",
       "      <td>[An American girl sets out to make a documenta...</td>\n",
       "      <td>8</td>\n",
       "    </tr>\n",
       "    <tr>\n",
       "      <th>1</th>\n",
       "      <td>79430</td>\n",
       "      <td>8: The Mormon Proposition (2010)</td>\n",
       "      <td>As California's anti-gay marriage proposition ...</td>\n",
       "      <td>religion,queer,documentary,politics</td>\n",
       "      <td>4</td>\n",
       "      <td>[As California's anti-gay marriage proposition...</td>\n",
       "      <td>34</td>\n",
       "    </tr>\n",
       "    <tr>\n",
       "      <th>2</th>\n",
       "      <td>3083</td>\n",
       "      <td>All About My Mother (Todo sobre mi madre) (1999)</td>\n",
       "      <td>Manuela is a single mother of Madrid, who brin...</td>\n",
       "      <td>bibliothek,spanish,homosexuality,erlend's-dvds...</td>\n",
       "      <td>13</td>\n",
       "      <td>[Manuela is a single mother of Madrid, who bri...</td>\n",
       "      <td>10</td>\n",
       "    </tr>\n",
       "    <tr>\n",
       "      <th>3</th>\n",
       "      <td>6725</td>\n",
       "      <td>Sgt. Pepper's Lonely Hearts Club Band (1978)</td>\n",
       "      <td>The original Sgt. Pepper's Lonely Hearts Club ...</td>\n",
       "      <td>steve-martin,70mm,anamorphic-blow-up</td>\n",
       "      <td>3</td>\n",
       "      <td>[The original Sgt., Pepper's Lonely Hearts Clu...</td>\n",
       "      <td>82</td>\n",
       "    </tr>\n",
       "    <tr>\n",
       "      <th>4</th>\n",
       "      <td>8533</td>\n",
       "      <td>Notebook, The (2004)</td>\n",
       "      <td>In a modern-day nursing home, an elderly man n...</td>\n",
       "      <td>romantic,rachel-mcadams,first-love,ryan-goslin...</td>\n",
       "      <td>32</td>\n",
       "      <td>[In a modern-day nursing home, an elderly man ...</td>\n",
       "      <td>52</td>\n",
       "    </tr>\n",
       "  </tbody>\n",
       "</table>\n",
       "</div>"
      ],
      "text/plain": [
       "   movie_id                                             title  \\\n",
       "0     91831                          Devil Inside, The (2012)   \n",
       "1     79430                  8: The Mormon Proposition (2010)   \n",
       "2      3083  All About My Mother (Todo sobre mi madre) (1999)   \n",
       "3      6725      Sgt. Pepper's Lonely Hearts Club Band (1978)   \n",
       "4      8533                              Notebook, The (2004)   \n",
       "\n",
       "                                            synopsis  \\\n",
       "0  An American girl sets out to make a documentar...   \n",
       "1  As California's anti-gay marriage proposition ...   \n",
       "2  Manuela is a single mother of Madrid, who brin...   \n",
       "3  The original Sgt. Pepper's Lonely Hearts Club ...   \n",
       "4  In a modern-day nursing home, an elderly man n...   \n",
       "\n",
       "                                                tags  num_tags  \\\n",
       "0  religion,christianity,catholicism,psychiatry,e...         5   \n",
       "1                religion,queer,documentary,politics         4   \n",
       "2  bibliothek,spanish,homosexuality,erlend's-dvds...        13   \n",
       "3               steve-martin,70mm,anamorphic-blow-up         3   \n",
       "4  romantic,rachel-mcadams,first-love,ryan-goslin...        32   \n",
       "\n",
       "                                           sentences  num_sentences  \n",
       "0  [An American girl sets out to make a documenta...              8  \n",
       "1  [As California's anti-gay marriage proposition...             34  \n",
       "2  [Manuela is a single mother of Madrid, who bri...             10  \n",
       "3  [The original Sgt., Pepper's Lonely Hearts Clu...             82  \n",
       "4  [In a modern-day nursing home, an elderly man ...             52  "
      ]
     },
     "execution_count": 47,
     "metadata": {},
     "output_type": "execute_result"
    }
   ],
   "source": [
    "docs_df.head()"
   ]
  },
  {
   "cell_type": "code",
   "execution_count": 48,
   "metadata": {},
   "outputs": [
    {
     "data": {
      "text/plain": [
       "['An American girl sets out to make a documentary to understand what happened to her mother, who murdered three clergy people but was not convicted due to insanity and was instead sent to a mental hospital in the Vatican City.',\n",
       " 'She hires a camera man and they attend a seminar on exorcism in the Vatican City.',\n",
       " \"She meets some priests who explain that her mother's condition may not be medical, but could well be demonic possession.\",\n",
       " 'She witnesses an exorcism with the priests, which is also caught on tape.',\n",
       " 'The priests and the documentary team then decide to carry out an exorcism on her mother, during which they seek to discover whether her mother is actually possessed.',\n",
       " 'It turns out that she was possessed by at least four demons, and during the exorcism there occurs some transference - the migration of the demon from one body to another.',\n",
       " 'Three of them are possessed and soon after they end up dead.',\n",
       " 'It ends abruptly, with a car crash due to the demonic possession of the cameraman, who was driving at the time.']"
      ]
     },
     "execution_count": 48,
     "metadata": {},
     "output_type": "execute_result"
    }
   ],
   "source": [
    "docs_df.iloc[0]['sentences']"
   ]
  },
  {
   "cell_type": "code",
   "execution_count": 49,
   "metadata": {},
   "outputs": [
    {
     "data": {
      "text/html": [
       "<div>\n",
       "<style>\n",
       "    .dataframe thead tr:only-child th {\n",
       "        text-align: right;\n",
       "    }\n",
       "\n",
       "    .dataframe thead th {\n",
       "        text-align: left;\n",
       "    }\n",
       "\n",
       "    .dataframe tbody tr th {\n",
       "        vertical-align: top;\n",
       "    }\n",
       "</style>\n",
       "<table border=\"1\" class=\"dataframe\">\n",
       "  <thead>\n",
       "    <tr style=\"text-align: right;\">\n",
       "      <th></th>\n",
       "      <th>movie_id</th>\n",
       "      <th>num_tags</th>\n",
       "      <th>num_sentences</th>\n",
       "    </tr>\n",
       "  </thead>\n",
       "  <tbody>\n",
       "    <tr>\n",
       "      <th>count</th>\n",
       "      <td>500.000000</td>\n",
       "      <td>500.000000</td>\n",
       "      <td>500.000000</td>\n",
       "    </tr>\n",
       "    <tr>\n",
       "      <th>mean</th>\n",
       "      <td>38550.468000</td>\n",
       "      <td>12.506000</td>\n",
       "      <td>56.396000</td>\n",
       "    </tr>\n",
       "    <tr>\n",
       "      <th>std</th>\n",
       "      <td>38476.692399</td>\n",
       "      <td>14.999064</td>\n",
       "      <td>76.354484</td>\n",
       "    </tr>\n",
       "    <tr>\n",
       "      <th>min</th>\n",
       "      <td>17.000000</td>\n",
       "      <td>1.000000</td>\n",
       "      <td>1.000000</td>\n",
       "    </tr>\n",
       "    <tr>\n",
       "      <th>25%</th>\n",
       "      <td>4098.500000</td>\n",
       "      <td>3.000000</td>\n",
       "      <td>13.000000</td>\n",
       "    </tr>\n",
       "    <tr>\n",
       "      <th>50%</th>\n",
       "      <td>26491.500000</td>\n",
       "      <td>7.000000</td>\n",
       "      <td>36.000000</td>\n",
       "    </tr>\n",
       "    <tr>\n",
       "      <th>75%</th>\n",
       "      <td>69899.000000</td>\n",
       "      <td>15.000000</td>\n",
       "      <td>71.000000</td>\n",
       "    </tr>\n",
       "    <tr>\n",
       "      <th>max</th>\n",
       "      <td>128604.000000</td>\n",
       "      <td>108.000000</td>\n",
       "      <td>1136.000000</td>\n",
       "    </tr>\n",
       "  </tbody>\n",
       "</table>\n",
       "</div>"
      ],
      "text/plain": [
       "            movie_id    num_tags  num_sentences\n",
       "count     500.000000  500.000000     500.000000\n",
       "mean    38550.468000   12.506000      56.396000\n",
       "std     38476.692399   14.999064      76.354484\n",
       "min        17.000000    1.000000       1.000000\n",
       "25%      4098.500000    3.000000      13.000000\n",
       "50%     26491.500000    7.000000      36.000000\n",
       "75%     69899.000000   15.000000      71.000000\n",
       "max    128604.000000  108.000000    1136.000000"
      ]
     },
     "execution_count": 49,
     "metadata": {},
     "output_type": "execute_result"
    }
   ],
   "source": [
    "docs_df.describe()"
   ]
  },
  {
   "cell_type": "code",
   "execution_count": 50,
   "metadata": {
    "collapsed": true
   },
   "outputs": [],
   "source": [
    "tok = TextTilingTokenizer(w=W, k=K)"
   ]
  },
  {
   "cell_type": "code",
   "execution_count": 51,
   "metadata": {
    "collapsed": true
   },
   "outputs": [],
   "source": [
    "def extract_segments(candidates):\n",
    "    \n",
    "    try:\n",
    "        # we must manually insert \"\\n\\n\" because this is how \n",
    "        # texttilingtokenizer requires candidate boundaries to be \n",
    "        # represented.\n",
    "        segments = tok.tokenize(\"\\n\\n\".join(candidates))\n",
    "    except ValueError:\n",
    "        # this happens when the candidate list is too small for the \n",
    "        # text tiling tokenizer to be able to find segments. so just return\n",
    "        # the original sentences.\n",
    "        segments= candidates\n",
    "        \n",
    "    # now remove the artificially added chars\n",
    "    segments = [segment.replace(\"\\n\\n\",\" \").strip() for segment in segments]\n",
    "    \n",
    "    return segments"
   ]
  },
  {
   "cell_type": "code",
   "execution_count": 52,
   "metadata": {},
   "outputs": [
    {
     "name": "stdout",
     "output_type": "stream",
     "text": [
      "CPU times: user 2min 15s, sys: 80 ms, total: 2min 15s\n",
      "Wall time: 2min 15s\n"
     ]
    }
   ],
   "source": [
    "%%time\n",
    "docs_df['segments'] = docs_df['sentences'].map(lambda candidates: extract_segments(candidates))"
   ]
  },
  {
   "cell_type": "code",
   "execution_count": 53,
   "metadata": {},
   "outputs": [
    {
     "data": {
      "text/plain": [
       "['An American girl sets out to make a documentary to understand what happened to her mother, who murdered three clergy people but was not convicted due to insanity and was instead sent to a mental hospital in the Vatican City.',\n",
       " \"She hires a camera man and they attend a seminar on exorcism in the Vatican City. She meets some priests who explain that her mother's condition may not be medical, but could well be demonic possession. She witnesses an exorcism with the priests, which is also caught on tape. The priests and the documentary team then decide to carry out an exorcism on her mother, during which they seek to discover whether her mother is actually possessed.\",\n",
       " 'It turns out that she was possessed by at least four demons, and during the exorcism there occurs some transference - the migration of the demon from one body to another. Three of them are possessed and soon after they end up dead. It ends abruptly, with a car crash due to the demonic possession of the cameraman, who was driving at the time.']"
      ]
     },
     "execution_count": 53,
     "metadata": {},
     "output_type": "execute_result"
    }
   ],
   "source": [
    "docs_df['segments'][0][:3]"
   ]
  },
  {
   "cell_type": "code",
   "execution_count": 54,
   "metadata": {
    "collapsed": true
   },
   "outputs": [],
   "source": [
    "segments = docs_df['segments'].values\n",
    "documents = docs_df['synopsis'].values\n",
    "labels = docs_df[\"tags\"].map(lambda tagstring: tagstring.split(\",\"))"
   ]
  },
  {
   "cell_type": "code",
   "execution_count": 55,
   "metadata": {
    "collapsed": true
   },
   "outputs": [],
   "source": [
    "labels = truncate_labels(labels,MIN_TAG_DF)"
   ]
  },
  {
   "cell_type": "code",
   "execution_count": 56,
   "metadata": {
    "collapsed": true
   },
   "outputs": [],
   "source": [
    "def make_train_dataset(distance_matrix, medoid_indices):\n",
    "    \"\"\"\n",
    "    Returns a matrix where element Aij contains the distance from sample i to medoid j.\n",
    "\n",
    "    :param distance_matrix: MxM matrix with pairwise distances\n",
    "    :param medoid_indices: array of length N containing the indices of the medoids for each cluster\n",
    "    :return: distances to medoids (MxN matrix)\n",
    "    \"\"\"\n",
    "\n",
    "    return distance_matrix[:,medoid_indices]"
   ]
  },
  {
   "cell_type": "code",
   "execution_count": 57,
   "metadata": {
    "collapsed": true
   },
   "outputs": [],
   "source": [
    "def make_test_dataset(source_vectorized_segments, medoid_vectorized_segments):\n",
    "    \"\"\"\n",
    "    Calculates the distances from every source_document (reprsented by its segments) to every medoid\n",
    "    document (also represented by its segments) using the hausdorff distance.\n",
    "    \n",
    "    Returns a matrix where element Aij contains the distance from sample i to medoid j.\n",
    "\n",
    "    :param source_vectorized_segments: array of length M, where each element is a matrix with one row\n",
    "        for every segment in a source document\n",
    "    :param medoid_vectorized_segments: array of length N where each element is a matrix with one row\n",
    "        for every segment in a medoid document\n",
    "    :return: distances to medoids (MxN matrix)\n",
    "    \"\"\"\n",
    "    \n",
    "    num_test_samples = len(source_vectorized_segments)\n",
    "    num_medoids = len(medoid_vectorized_segments)\n",
    "    \n",
    "    test_dataset = np.zeros((num_test_samples,num_medoids))    \n",
    "    \n",
    "    for i,source_segments in enumerate(source_vectorized_segments):\n",
    "        for j,medoid_segments in enumerate(medoid_vectorized_segments):\n",
    "            test_dataset[i][j] = hausdorff(source_segments.toarray(),medoid_segments.toarray())\n",
    "            \n",
    "    return np.array(test_dataset)"
   ]
  },
  {
   "cell_type": "code",
   "execution_count": 58,
   "metadata": {},
   "outputs": [
    {
     "name": "stdout",
     "output_type": "stream",
     "text": [
      "total number of train documents: 425\n",
      "total number of validation documents: 75\n"
     ]
    }
   ],
   "source": [
    "# segments, documents and labelsets are defined outside of the parameterGrid loop\n",
    "# because they're the same for every configuration    \n",
    "segments_train, segments_test, documents_train, documents_test, Y_train, Y_test = train_test_split(segments,\n",
    "                                                                                               documents,\n",
    "                                                                                               labels,\n",
    "                                                                                               test_size=0.15)\n",
    "\n",
    "print('total number of train documents: {}'.format(len(documents_train)))\n",
    "print('total number of validation documents: {}'.format(len(documents_test)))"
   ]
  },
  {
   "cell_type": "code",
   "execution_count": 59,
   "metadata": {},
   "outputs": [
    {
     "name": "stdout",
     "output_type": "stream",
     "text": [
      "total number of unique tags: 128 \n"
     ]
    }
   ],
   "source": [
    "mlb = MultiLabelBinarizer()\n",
    "\n",
    "\n",
    "# the binarizer needs to be fit on all labels\n",
    "mlb = MultiLabelBinarizer()\n",
    "mlb.fit(labels)\n",
    "\n",
    "Y_train = mlb.transform(Y_train)\n",
    "Y_test = mlb.transform(Y_test)\n",
    "\n",
    "print(\"total number of unique tags: {} \".format(len(mlb.classes_)))"
   ]
  },
  {
   "cell_type": "code",
   "execution_count": 60,
   "metadata": {
    "collapsed": true
   },
   "outputs": [],
   "source": [
    "parameters = [\n",
    "    {\n",
    "        'stop_words': STOP_WORDS,\n",
    "        'medoid_normalization':  MEDOID_NORMALIZATION,\n",
    "        'svm_kernel': ['poly'],\n",
    "        'svm_gamma': SVM_GAMMA,\n",
    "        'svm_c':SVM_C,\n",
    "        'svm_degree' :SVM_DEGREE,\n",
    "        'norm': VECTORIZER_NORM,\n",
    "        'nb_medoids_ratio': SAMPLE_TO_NB_MEDOIDS_RATIO\n",
    "    },\n",
    "    {\n",
    "        'stop_words': STOP_WORDS,\n",
    "        'medoid_normalization':  MEDOID_NORMALIZATION,\n",
    "        'svm_kernel': ['rbf'],\n",
    "        'svm_gamma': SVM_GAMMA,\n",
    "        'svm_c':SVM_C,\n",
    "        'svm_degree' :[None],\n",
    "        'norm': VECTORIZER_NORM,\n",
    "        'nb_medoids_ratio': SAMPLE_TO_NB_MEDOIDS_RATIO\n",
    "    }\n",
    "]"
   ]
  },
  {
   "cell_type": "code",
   "execution_count": 61,
   "metadata": {},
   "outputs": [
    {
     "name": "stdout",
     "output_type": "stream",
     "text": [
      "total number of configurations to test: 4320\n"
     ]
    }
   ],
   "source": [
    "print('total number of configurations to test: {}'.format(len(ParameterGrid(parameters))))"
   ]
  },
  {
   "cell_type": "code",
   "execution_count": 66,
   "metadata": {
    "scrolled": false
   },
   "outputs": [
    {
     "name": "stderr",
     "output_type": "stream",
     "text": [
      "\n",
      "  0%|          | 0/4320 [00:00<?, ?it/s]\u001b[A\n",
      "\n",
      "\n",
      "\n",
      "\n",
      "  0%|          | 1/4320 [00:03<4:14:00,  3.53s/it]"
     ]
    },
    {
     "name": "stdout",
     "output_type": "stream",
     "text": [
      "iter: 0, configuration: {'stop_words': None, 'svm_kernel': 'poly', 'svm_gamma': 0.1, 'nb_medoids_ratio': 0.2, 'medoid_normalization': 'standard', 'svm_c': 0.001, 'svm_degree': 3, 'norm': 'l1'}\n",
      "\n",
      "train micro-F1 @1: 0.024550635686102586\n",
      "validation micro-F1 @1: 0.03271028037383177\n",
      "train micro-F1 @2: 0.039518253669552125\n",
      "validation micro-F1 @2: 0.0486815415821501\n",
      "train micro-F1 @3: 0.04939084622983207\n",
      "validation micro-F1 @3: 0.06093189964157706\n",
      "train micro-F1 @4: 0.056140350877192984\n",
      "validation micro-F1 @4: 0.06549520766773163\n",
      "train micro-F1 @5: 0.060415024954032046\n",
      "validation micro-F1 @5: 0.06609195402298851\n",
      "train micro-F1 @6: 0.06288708909004288\n",
      "validation micro-F1 @6: 0.07217847769028872\n",
      "train micro-F1 @7: 0.06424216027874564\n",
      "validation micro-F1 @7: 0.07729468599033816\n",
      "train micro-F1 @8: 0.06516944054541808\n",
      "validation micro-F1 @8: 0.07683741648106904\n",
      "train micro-F1 @9: 0.06516895655402896\n",
      "validation micro-F1 @9: 0.07755946225439504\n",
      "train micro-F1 @10: 0.06701298701298701\n",
      "validation micro-F1 @10: 0.07818532818532818\n"
     ]
    },
    {
     "name": "stderr",
     "output_type": "stream",
     "text": [
      "\u001b[A\n",
      "\n",
      "\n",
      "\n",
      "\n",
      "  0%|          | 2/4320 [00:07<4:16:43,  3.57s/it]"
     ]
    },
    {
     "name": "stdout",
     "output_type": "stream",
     "text": [
      "iter: 1, configuration: {'stop_words': None, 'svm_kernel': 'poly', 'svm_gamma': 0.2, 'nb_medoids_ratio': 0.2, 'medoid_normalization': 'standard', 'svm_c': 0.001, 'svm_degree': 3, 'norm': 'l1'}\n",
      "\n",
      "train micro-F1 @1: 0.03224381625441696\n",
      "validation micro-F1 @1: 0.03271028037383177\n",
      "train micro-F1 @2: 0.043445409897997736\n",
      "validation micro-F1 @2: 0.0486815415821501\n",
      "train micro-F1 @3: 0.05425074429374793\n",
      "validation micro-F1 @3: 0.06093189964157706\n",
      "train micro-F1 @4: 0.058927000879507474\n",
      "validation micro-F1 @4: 0.06549520766773163\n",
      "train micro-F1 @5: 0.06292785676671933\n",
      "validation micro-F1 @5: 0.06609195402298851\n",
      "train micro-F1 @6: 0.06567948411750657\n",
      "validation micro-F1 @6: 0.0735873850197109\n",
      "train micro-F1 @7: 0.06656481885639459\n",
      "validation micro-F1 @7: 0.07729468599033816\n",
      "train micro-F1 @8: 0.06795335745878568\n",
      "validation micro-F1 @8: 0.07803790412486064\n",
      "train micro-F1 @9: 0.06754745068850018\n",
      "validation micro-F1 @9: 0.07533539731682147\n",
      "train micro-F1 @10: 0.06867845993756504\n",
      "validation micro-F1 @10: 0.07714561234329798\n"
     ]
    },
    {
     "name": "stderr",
     "output_type": "stream",
     "text": [
      "\u001b[A\n",
      "\n",
      "\n",
      "\n",
      "\n",
      "  0%|          | 3/4320 [00:11<4:24:37,  3.68s/it]"
     ]
    },
    {
     "name": "stdout",
     "output_type": "stream",
     "text": [
      "iter: 2, configuration: {'stop_words': None, 'svm_kernel': 'poly', 'svm_gamma': 0.3, 'nb_medoids_ratio': 0.2, 'medoid_normalization': 'standard', 'svm_c': 0.001, 'svm_degree': 3, 'norm': 'l1'}\n",
      "\n",
      "train micro-F1 @1: 0.02996914940502424\n",
      "validation micro-F1 @1: 0.03271028037383177\n",
      "train micro-F1 @2: 0.04462934947049924\n",
      "validation micro-F1 @2: 0.0486815415821501\n",
      "train micro-F1 @3: 0.05250990752972259\n",
      "validation micro-F1 @3: 0.05714285714285714\n",
      "train micro-F1 @4: 0.05799648506151142\n",
      "validation micro-F1 @4: 0.06549520766773163\n",
      "train micro-F1 @5: 0.06208892396737701\n",
      "validation micro-F1 @5: 0.06609195402298851\n",
      "train micro-F1 @6: 0.06466237174898593\n",
      "validation micro-F1 @6: 0.07217847769028872\n",
      "train micro-F1 @7: 0.06563453990405582\n",
      "validation micro-F1 @7: 0.07599517490952955\n",
      "train micro-F1 @8: 0.06559679037111334\n",
      "validation micro-F1 @8: 0.07563959955506118\n",
      "train micro-F1 @9: 0.06675343994049833\n",
      "validation micro-F1 @9: 0.07755946225439504\n",
      "train micro-F1 @10: 0.06756756756756757\n",
      "validation micro-F1 @10: 0.07922705314009662\n"
     ]
    },
    {
     "name": "stderr",
     "output_type": "stream",
     "text": [
      "\r",
      "  0%|          | 4/4320 [00:15<4:31:41,  3.78s/it]"
     ]
    },
    {
     "name": "stdout",
     "output_type": "stream",
     "text": [
      "iter: 3, configuration: {'stop_words': None, 'svm_kernel': 'poly', 'svm_gamma': 0.5, 'nb_medoids_ratio': 0.2, 'medoid_normalization': 'standard', 'svm_c': 0.001, 'svm_degree': 3, 'norm': 'l1'}\n",
      "\n",
      "train micro-F1 @1: 0.027704485488126648\n",
      "validation micro-F1 @1: 0.03271028037383177\n",
      "train micro-F1 @2: 0.03600900225056264\n",
      "validation micro-F1 @2: 0.0486815415821501\n",
      "train micro-F1 @3: 0.04697766097240473\n",
      "validation micro-F1 @3: 0.06093189964157706\n",
      "train micro-F1 @4: 0.05183459522422831\n",
      "validation micro-F1 @4: 0.06549520766773163\n",
      "train micro-F1 @5: 0.05874639391555206\n",
      "validation micro-F1 @5: 0.06609195402298851\n",
      "train micro-F1 @6: 0.059605794348135836\n",
      "validation micro-F1 @6: 0.07077326343381389\n",
      "train micro-F1 @7: 0.06192959582790091\n",
      "validation micro-F1 @7: 0.07729468599033816\n",
      "train micro-F1 @8: 0.0641025641025641\n",
      "validation micro-F1 @8: 0.07683741648106904\n",
      "train micro-F1 @9: 0.06635687732342008\n",
      "validation micro-F1 @9: 0.07533539731682147\n",
      "train micro-F1 @10: 0.06904927133934767\n",
      "validation micro-F1 @10: 0.07922705314009662\n"
     ]
    },
    {
     "name": "stderr",
     "output_type": "stream",
     "text": [
      "\r",
      "  0%|          | 5/4320 [00:20<5:00:56,  4.18s/it]"
     ]
    },
    {
     "name": "stdout",
     "output_type": "stream",
     "text": [
      "iter: 4, configuration: {'stop_words': None, 'svm_kernel': 'poly', 'svm_gamma': 1.0, 'nb_medoids_ratio': 0.2, 'medoid_normalization': 'standard', 'svm_c': 0.001, 'svm_degree': 3, 'norm': 'l1'}\n",
      "\n",
      "train micro-F1 @1: 0.021862702229995628\n",
      "validation micro-F1 @1: 0.03271028037383177\n",
      "train micro-F1 @2: 0.03523238380809595\n",
      "validation micro-F1 @2: 0.0486815415821501\n",
      "train micro-F1 @3: 0.04663382594417077\n",
      "validation micro-F1 @3: 0.059033989266547404\n",
      "train micro-F1 @4: 0.05244755244755245\n",
      "validation micro-F1 @4: 0.06379585326953748\n",
      "train micro-F1 @5: 0.05459770114942529\n",
      "validation micro-F1 @5: 0.06609195402298851\n",
      "train micro-F1 @6: 0.052855120339782916\n",
      "validation micro-F1 @6: 0.075\n",
      "train micro-F1 @7: 0.05962705984388551\n",
      "validation micro-F1 @7: 0.07729468599033816\n",
      "train micro-F1 @8: 0.0566938531927591\n",
      "validation micro-F1 @8: 0.07683741648106904\n",
      "train micro-F1 @9: 0.05848708487084871\n",
      "validation micro-F1 @9: 0.07644628099173553\n",
      "train micro-F1 @10: 0.05985552115583075\n",
      "validation micro-F1 @10: 0.07610789980732177\n"
     ]
    },
    {
     "name": "stderr",
     "output_type": "stream",
     "text": [
      "\r",
      "  0%|          | 6/4320 [00:23<4:50:21,  4.04s/it]"
     ]
    },
    {
     "name": "stdout",
     "output_type": "stream",
     "text": [
      "iter: 5, configuration: {'stop_words': None, 'svm_kernel': 'poly', 'svm_gamma': 0.1, 'nb_medoids_ratio': 0.2, 'medoid_normalization': 'standard', 'svm_c': 0.001, 'svm_degree': 4, 'norm': 'l1'}\n",
      "\n",
      "train micro-F1 @1: 0.020969855832241154\n",
      "validation micro-F1 @1: 0.03271028037383177\n",
      "train micro-F1 @2: 0.03523238380809595\n",
      "validation micro-F1 @2: 0.0486815415821501\n",
      "train micro-F1 @3: 0.04423328964613368\n",
      "validation micro-F1 @3: 0.05714285714285714\n",
      "train micro-F1 @4: 0.05091649694501019\n",
      "validation micro-F1 @4: 0.06549520766773163\n",
      "train micro-F1 @5: 0.05487326887901751\n",
      "validation micro-F1 @5: 0.06609195402298851\n",
      "train micro-F1 @6: 0.057847321005215745\n",
      "validation micro-F1 @6: 0.07077326343381389\n",
      "train micro-F1 @7: 0.0603167715339553\n",
      "validation micro-F1 @7: 0.07729468599033816\n",
      "train micro-F1 @8: 0.0624\n",
      "validation micro-F1 @8: 0.07803790412486064\n",
      "train micro-F1 @9: 0.06378638976450955\n",
      "validation micro-F1 @9: 0.07755946225439504\n",
      "train micro-F1 @10: 0.06424870466321243\n",
      "validation micro-F1 @10: 0.08131655372700872\n"
     ]
    },
    {
     "name": "stderr",
     "output_type": "stream",
     "text": [
      "\r",
      "  0%|          | 7/4320 [00:27<4:42:23,  3.93s/it]"
     ]
    },
    {
     "name": "stdout",
     "output_type": "stream",
     "text": [
      "iter: 6, configuration: {'stop_words': None, 'svm_kernel': 'poly', 'svm_gamma': 0.2, 'nb_medoids_ratio': 0.2, 'medoid_normalization': 'standard', 'svm_c': 0.001, 'svm_degree': 4, 'norm': 'l1'}\n",
      "\n",
      "train micro-F1 @1: 0.020969855832241154\n",
      "validation micro-F1 @1: 0.03271028037383177\n",
      "train micro-F1 @2: 0.03484451105282878\n",
      "validation micro-F1 @2: 0.0486815415821501\n",
      "train micro-F1 @3: 0.041163018621365566\n",
      "validation micro-F1 @3: 0.05714285714285714\n",
      "train micro-F1 @4: 0.05091649694501019\n",
      "validation micro-F1 @4: 0.06549520766773163\n",
      "train micro-F1 @5: 0.055148980658651335\n",
      "validation micro-F1 @5: 0.06609195402298851\n",
      "train micro-F1 @6: 0.058349146110056926\n",
      "validation micro-F1 @6: 0.0735873850197109\n",
      "train micro-F1 @7: 0.06077707835901888\n",
      "validation micro-F1 @7: 0.07729468599033816\n",
      "train micro-F1 @8: 0.0621875624875025\n",
      "validation micro-F1 @8: 0.07803790412486064\n",
      "train micro-F1 @9: 0.06358917315535781\n",
      "validation micro-F1 @9: 0.07755946225439504\n",
      "train micro-F1 @10: 0.0651685393258427\n",
      "validation micro-F1 @10: 0.08131655372700872\n"
     ]
    },
    {
     "name": "stderr",
     "output_type": "stream",
     "text": [
      "\r",
      "  0%|          | 8/4320 [00:32<4:54:40,  4.10s/it]"
     ]
    },
    {
     "name": "stdout",
     "output_type": "stream",
     "text": [
      "iter: 7, configuration: {'stop_words': None, 'svm_kernel': 'poly', 'svm_gamma': 0.3, 'nb_medoids_ratio': 0.2, 'medoid_normalization': 'standard', 'svm_c': 0.001, 'svm_degree': 4, 'norm': 'l1'}\n",
      "\n",
      "train micro-F1 @1: 0.020969855832241154\n",
      "validation micro-F1 @1: 0.03271028037383177\n",
      "train micro-F1 @2: 0.03484451105282878\n",
      "validation micro-F1 @2: 0.0486815415821501\n",
      "train micro-F1 @3: 0.04389125450376679\n",
      "validation micro-F1 @3: 0.059033989266547404\n",
      "train micro-F1 @4: 0.0506108202443281\n",
      "validation micro-F1 @4: 0.06549520766773163\n",
      "train micro-F1 @5: 0.055148980658651335\n",
      "validation micro-F1 @5: 0.06609195402298851\n",
      "train micro-F1 @6: 0.058349146110056926\n",
      "validation micro-F1 @6: 0.0735873850197109\n",
      "train micro-F1 @7: 0.06100738167607468\n",
      "validation micro-F1 @7: 0.07729468599033816\n",
      "train micro-F1 @8: 0.0641025641025641\n",
      "validation micro-F1 @8: 0.07683741648106904\n",
      "train micro-F1 @9: 0.0633920296570899\n",
      "validation micro-F1 @9: 0.07755946225439504\n",
      "train micro-F1 @10: 0.065905552672548\n",
      "validation micro-F1 @10: 0.08131655372700872\n"
     ]
    },
    {
     "name": "stderr",
     "output_type": "stream",
     "text": [
      "\r",
      "  0%|          | 9/4320 [00:36<5:07:10,  4.28s/it]"
     ]
    },
    {
     "name": "stdout",
     "output_type": "stream",
     "text": [
      "iter: 8, configuration: {'stop_words': None, 'svm_kernel': 'poly', 'svm_gamma': 0.5, 'nb_medoids_ratio': 0.2, 'medoid_normalization': 'standard', 'svm_c': 0.001, 'svm_degree': 4, 'norm': 'l1'}\n",
      "\n",
      "train micro-F1 @1: 0.020969855832241154\n",
      "validation micro-F1 @1: 0.03271028037383177\n",
      "train micro-F1 @2: 0.03484451105282878\n",
      "validation micro-F1 @2: 0.0486815415821501\n",
      "train micro-F1 @3: 0.04389125450376679\n",
      "validation micro-F1 @3: 0.059033989266547404\n",
      "train micro-F1 @4: 0.05091649694501019\n",
      "validation micro-F1 @4: 0.06549520766773163\n",
      "train micro-F1 @5: 0.055700836820083685\n",
      "validation micro-F1 @5: 0.06609195402298851\n",
      "train micro-F1 @6: 0.058600237247924084\n",
      "validation micro-F1 @6: 0.0735873850197109\n",
      "train micro-F1 @7: 0.06100738167607468\n",
      "validation micro-F1 @7: 0.07729468599033816\n",
      "train micro-F1 @8: 0.06303782269361617\n",
      "validation micro-F1 @8: 0.07683741648106904\n",
      "train micro-F1 @9: 0.06378638976450955\n",
      "validation micro-F1 @9: 0.07755946225439504\n",
      "train micro-F1 @10: 0.06480041472265423\n",
      "validation micro-F1 @10: 0.07818532818532818\n"
     ]
    },
    {
     "name": "stderr",
     "output_type": "stream",
     "text": [
      "\r",
      "  0%|          | 10/4320 [00:42<5:37:39,  4.70s/it]"
     ]
    },
    {
     "name": "stdout",
     "output_type": "stream",
     "text": [
      "iter: 9, configuration: {'stop_words': None, 'svm_kernel': 'poly', 'svm_gamma': 1.0, 'nb_medoids_ratio': 0.2, 'medoid_normalization': 'standard', 'svm_c': 0.001, 'svm_degree': 4, 'norm': 'l1'}\n",
      "\n",
      "train micro-F1 @1: 0.020969855832241154\n",
      "validation micro-F1 @1: 0.03271028037383177\n",
      "train micro-F1 @2: 0.03484451105282878\n",
      "validation micro-F1 @2: 0.0486815415821501\n",
      "train micro-F1 @3: 0.04423328964613368\n",
      "validation micro-F1 @3: 0.059033989266547404\n",
      "train micro-F1 @4: 0.05091649694501019\n",
      "validation micro-F1 @4: 0.06549520766773163\n",
      "train micro-F1 @5: 0.055148980658651335\n",
      "validation micro-F1 @5: 0.06609195402298851\n",
      "train micro-F1 @6: 0.05885144755576649\n",
      "validation micro-F1 @6: 0.0735873850197109\n",
      "train micro-F1 @7: 0.061698892026938956\n",
      "validation micro-F1 @7: 0.07729468599033816\n",
      "train micro-F1 @8: 0.06303782269361617\n",
      "validation micro-F1 @8: 0.07803790412486064\n",
      "train micro-F1 @9: 0.06398367952522255\n",
      "validation micro-F1 @9: 0.07755946225439504\n",
      "train micro-F1 @10: 0.06498444521258209\n",
      "validation micro-F1 @10: 0.08131655372700872\n"
     ]
    },
    {
     "name": "stderr",
     "output_type": "stream",
     "text": [
      "\r",
      "  0%|          | 11/4320 [00:46<5:19:49,  4.45s/it]"
     ]
    },
    {
     "name": "stdout",
     "output_type": "stream",
     "text": [
      "iter: 10, configuration: {'stop_words': None, 'svm_kernel': 'poly', 'svm_gamma': 0.1, 'nb_medoids_ratio': 0.2, 'medoid_normalization': 'standard', 'svm_c': 0.001, 'svm_degree': 5, 'norm': 'l1'}\n",
      "\n",
      "train micro-F1 @1: 0.020969855832241154\n",
      "validation micro-F1 @1: 0.03271028037383177\n",
      "train micro-F1 @2: 0.03484451105282878\n",
      "validation micro-F1 @2: 0.0486815415821501\n",
      "train micro-F1 @3: 0.0435494433529797\n",
      "validation micro-F1 @3: 0.059033989266547404\n",
      "train micro-F1 @4: 0.050305321314335565\n",
      "validation micro-F1 @4: 0.06549520766773163\n",
      "train micro-F1 @5: 0.05459770114942529\n",
      "validation micro-F1 @5: 0.06609195402298851\n",
      "train micro-F1 @6: 0.057847321005215745\n",
      "validation micro-F1 @6: 0.0735873850197109\n",
      "train micro-F1 @7: 0.0603167715339553\n",
      "validation micro-F1 @7: 0.07729468599033816\n",
      "train micro-F1 @8: 0.061975209916033586\n",
      "validation micro-F1 @8: 0.07803790412486064\n",
      "train micro-F1 @9: 0.06319495922905856\n",
      "validation micro-F1 @9: 0.07755946225439504\n",
      "train micro-F1 @10: 0.06424870466321243\n",
      "validation micro-F1 @10: 0.07610789980732177\n"
     ]
    },
    {
     "name": "stderr",
     "output_type": "stream",
     "text": [
      "\r",
      "  0%|          | 12/4320 [00:51<5:33:27,  4.64s/it]"
     ]
    },
    {
     "name": "stdout",
     "output_type": "stream",
     "text": [
      "iter: 11, configuration: {'stop_words': None, 'svm_kernel': 'poly', 'svm_gamma': 0.2, 'nb_medoids_ratio': 0.2, 'medoid_normalization': 'standard', 'svm_c': 0.001, 'svm_degree': 5, 'norm': 'l1'}\n",
      "\n",
      "train micro-F1 @1: 0.021416083916083916\n",
      "validation micro-F1 @1: 0.03271028037383177\n",
      "train micro-F1 @2: 0.03562054743157105\n",
      "validation micro-F1 @2: 0.0486815415821501\n",
      "train micro-F1 @3: 0.04491803278688525\n",
      "validation micro-F1 @3: 0.059033989266547404\n",
      "train micro-F1 @4: 0.051222351571594875\n",
      "validation micro-F1 @4: 0.06549520766773163\n",
      "train micro-F1 @5: 0.05542483660130719\n",
      "validation micro-F1 @5: 0.06609195402298851\n",
      "train micro-F1 @6: 0.058349146110056926\n",
      "validation micro-F1 @6: 0.0735873850197109\n",
      "train micro-F1 @7: 0.06123778501628664\n",
      "validation micro-F1 @7: 0.07729468599033816\n",
      "train micro-F1 @8: 0.06282513005202081\n",
      "validation micro-F1 @8: 0.07803790412486064\n",
      "train micro-F1 @9: 0.06398367952522255\n",
      "validation micro-F1 @9: 0.07755946225439504\n",
      "train micro-F1 @10: 0.06498444521258209\n",
      "validation micro-F1 @10: 0.08131655372700872\n"
     ]
    },
    {
     "name": "stderr",
     "output_type": "stream",
     "text": [
      "\r",
      "  0%|          | 13/4320 [00:56<5:44:32,  4.80s/it]"
     ]
    },
    {
     "name": "stdout",
     "output_type": "stream",
     "text": [
      "iter: 12, configuration: {'stop_words': None, 'svm_kernel': 'poly', 'svm_gamma': 0.3, 'nb_medoids_ratio': 0.2, 'medoid_normalization': 'standard', 'svm_c': 0.001, 'svm_degree': 5, 'norm': 'l1'}\n",
      "\n",
      "train micro-F1 @1: 0.020969855832241154\n",
      "validation micro-F1 @1: 0.03271028037383177\n",
      "train micro-F1 @2: 0.03484451105282878\n",
      "validation micro-F1 @2: 0.0486815415821501\n",
      "train micro-F1 @3: 0.04320785597381342\n",
      "validation micro-F1 @3: 0.059033989266547404\n",
      "train micro-F1 @4: 0.050305321314335565\n",
      "validation micro-F1 @4: 0.06549520766773163\n",
      "train micro-F1 @5: 0.05404699738903394\n",
      "validation micro-F1 @5: 0.07380607814761216\n",
      "train micro-F1 @6: 0.057345971563981045\n",
      "validation micro-F1 @6: 0.0735873850197109\n",
      "train micro-F1 @7: 0.05985686402081978\n",
      "validation micro-F1 @7: 0.07729468599033816\n",
      "train micro-F1 @8: 0.06133866133866134\n",
      "validation micro-F1 @8: 0.07683741648106904\n",
      "train micro-F1 @9: 0.06280103742126714\n",
      "validation micro-F1 @9: 0.07755946225439504\n",
      "train micro-F1 @10: 0.06369756602796478\n",
      "validation micro-F1 @10: 0.07610789980732177\n"
     ]
    },
    {
     "name": "stderr",
     "output_type": "stream",
     "text": [
      "\r",
      "  0%|          | 14/4320 [01:03<6:29:00,  5.42s/it]"
     ]
    },
    {
     "name": "stdout",
     "output_type": "stream",
     "text": [
      "iter: 13, configuration: {'stop_words': None, 'svm_kernel': 'poly', 'svm_gamma': 0.5, 'nb_medoids_ratio': 0.2, 'medoid_normalization': 'standard', 'svm_c': 0.001, 'svm_degree': 5, 'norm': 'l1'}\n",
      "\n",
      "train micro-F1 @1: 0.020969855832241154\n",
      "validation micro-F1 @1: 0.03271028037383177\n",
      "train micro-F1 @2: 0.03523238380809595\n",
      "validation micro-F1 @2: 0.0486815415821501\n",
      "train micro-F1 @3: 0.04423328964613368\n",
      "validation micro-F1 @3: 0.059033989266547404\n",
      "train micro-F1 @4: 0.05091649694501019\n",
      "validation micro-F1 @4: 0.06549520766773163\n",
      "train micro-F1 @5: 0.055148980658651335\n",
      "validation micro-F1 @5: 0.06609195402298851\n",
      "train micro-F1 @6: 0.058349146110056926\n",
      "validation micro-F1 @6: 0.0735873850197109\n",
      "train micro-F1 @7: 0.06077707835901888\n",
      "validation micro-F1 @7: 0.07729468599033816\n",
      "train micro-F1 @8: 0.0624\n",
      "validation micro-F1 @8: 0.07683741648106904\n",
      "train micro-F1 @9: 0.06358917315535781\n",
      "validation micro-F1 @9: 0.07755946225439504\n",
      "train micro-F1 @10: 0.06461644782308223\n",
      "validation micro-F1 @10: 0.08131655372700872\n"
     ]
    },
    {
     "name": "stderr",
     "output_type": "stream",
     "text": [
      "\r",
      "  0%|          | 15/4320 [01:11<7:27:27,  6.24s/it]"
     ]
    },
    {
     "name": "stdout",
     "output_type": "stream",
     "text": [
      "iter: 14, configuration: {'stop_words': None, 'svm_kernel': 'poly', 'svm_gamma': 1.0, 'nb_medoids_ratio': 0.2, 'medoid_normalization': 'standard', 'svm_c': 0.001, 'svm_degree': 5, 'norm': 'l1'}\n",
      "\n",
      "train micro-F1 @1: 0.020969855832241154\n",
      "validation micro-F1 @1: 0.03271028037383177\n",
      "train micro-F1 @2: 0.03484451105282878\n",
      "validation micro-F1 @2: 0.0486815415821501\n",
      "train micro-F1 @3: 0.04389125450376679\n",
      "validation micro-F1 @3: 0.05714285714285714\n",
      "train micro-F1 @4: 0.050305321314335565\n",
      "validation micro-F1 @4: 0.06549520766773163\n",
      "train micro-F1 @5: 0.05487326887901751\n",
      "validation micro-F1 @5: 0.06609195402298851\n",
      "train micro-F1 @6: 0.057847321005215745\n",
      "validation micro-F1 @6: 0.0735873850197109\n",
      "train micro-F1 @7: 0.060546875\n",
      "validation micro-F1 @7: 0.07729468599033816\n",
      "train micro-F1 @8: 0.0621875624875025\n",
      "validation micro-F1 @8: 0.07803790412486064\n",
      "train micro-F1 @9: 0.06358917315535781\n",
      "validation micro-F1 @9: 0.07755946225439504\n",
      "train micro-F1 @10: 0.06461644782308223\n",
      "validation micro-F1 @10: 0.08131655372700872\n"
     ]
    },
    {
     "name": "stderr",
     "output_type": "stream",
     "text": [
      "\r",
      "  0%|          | 16/4320 [01:15<6:35:45,  5.52s/it]"
     ]
    },
    {
     "name": "stdout",
     "output_type": "stream",
     "text": [
      "iter: 15, configuration: {'stop_words': None, 'svm_kernel': 'poly', 'svm_gamma': 0.1, 'nb_medoids_ratio': 0.2, 'medoid_normalization': 'standard', 'svm_c': 0.01, 'svm_degree': 3, 'norm': 'l1'}\n",
      "\n",
      "train micro-F1 @1: 0.024101665205959685\n",
      "validation micro-F1 @1: 0.03271028037383177\n",
      "train micro-F1 @2: 0.03795565576850808\n",
      "validation micro-F1 @2: 0.0486815415821501\n",
      "train micro-F1 @3: 0.04560367454068241\n",
      "validation micro-F1 @3: 0.05714285714285714\n",
      "train micro-F1 @4: 0.05214098456160792\n",
      "validation micro-F1 @4: 0.06549520766773163\n",
      "train micro-F1 @5: 0.05597698142819775\n",
      "validation micro-F1 @5: 0.06609195402298851\n",
      "train micro-F1 @6: 0.055844770468528156\n",
      "validation micro-F1 @6: 0.0735873850197109\n",
      "train micro-F1 @7: 0.06192959582790091\n",
      "validation micro-F1 @7: 0.07729468599033816\n",
      "train micro-F1 @8: 0.06367641169403283\n",
      "validation micro-F1 @8: 0.07803790412486064\n",
      "train micro-F1 @9: 0.06398367952522255\n",
      "validation micro-F1 @9: 0.07755946225439504\n",
      "train micro-F1 @10: 0.06388121546961326\n",
      "validation micro-F1 @10: 0.08027079303675048\n"
     ]
    },
    {
     "name": "stderr",
     "output_type": "stream",
     "text": [
      "\r",
      "  0%|          | 17/4320 [01:19<5:57:17,  4.98s/it]"
     ]
    },
    {
     "name": "stdout",
     "output_type": "stream",
     "text": [
      "iter: 16, configuration: {'stop_words': None, 'svm_kernel': 'poly', 'svm_gamma': 0.2, 'nb_medoids_ratio': 0.2, 'medoid_normalization': 'standard', 'svm_c': 0.01, 'svm_degree': 3, 'norm': 'l1'}\n",
      "\n",
      "train micro-F1 @1: 0.027704485488126648\n",
      "validation micro-F1 @1: 0.03271028037383177\n",
      "train micro-F1 @2: 0.03912716328066215\n",
      "validation micro-F1 @2: 0.0486815415821501\n",
      "train micro-F1 @3: 0.04904542462146149\n",
      "validation micro-F1 @3: 0.059033989266547404\n",
      "train micro-F1 @4: 0.0542907180385289\n",
      "validation micro-F1 @4: 0.06549520766773163\n",
      "train micro-F1 @5: 0.06069364161849711\n",
      "validation micro-F1 @5: 0.06609195402298851\n",
      "train micro-F1 @6: 0.06364719904648392\n",
      "validation micro-F1 @6: 0.07217847769028872\n",
      "train micro-F1 @7: 0.06540222367560497\n",
      "validation micro-F1 @7: 0.07599517490952955\n",
      "train micro-F1 @8: 0.06581059390048154\n",
      "validation micro-F1 @8: 0.07803790412486064\n",
      "train micro-F1 @9: 0.06615870656011894\n",
      "validation micro-F1 @9: 0.07755946225439504\n",
      "train micro-F1 @10: 0.06756756756756757\n",
      "validation micro-F1 @10: 0.08446601941747572\n"
     ]
    },
    {
     "name": "stderr",
     "output_type": "stream",
     "text": [
      "\r",
      "  0%|          | 18/4320 [01:23<5:46:08,  4.83s/it]"
     ]
    },
    {
     "name": "stdout",
     "output_type": "stream",
     "text": [
      "iter: 17, configuration: {'stop_words': None, 'svm_kernel': 'poly', 'svm_gamma': 0.3, 'nb_medoids_ratio': 0.2, 'medoid_normalization': 'standard', 'svm_c': 0.01, 'svm_degree': 3, 'norm': 'l1'}\n",
      "\n",
      "train micro-F1 @1: 0.020969855832241154\n",
      "validation micro-F1 @1: 0.03271028037383177\n",
      "train micro-F1 @2: 0.03445692883895131\n",
      "validation micro-F1 @2: 0.0486815415821501\n",
      "train micro-F1 @3: 0.044575549000327765\n",
      "validation micro-F1 @3: 0.05714285714285714\n",
      "train micro-F1 @4: 0.0506108202443281\n",
      "validation micro-F1 @4: 0.06549520766773163\n",
      "train micro-F1 @5: 0.054322277357012276\n",
      "validation micro-F1 @5: 0.06609195402298851\n",
      "train micro-F1 @6: 0.05609467455621302\n",
      "validation micro-F1 @6: 0.0735873850197109\n",
      "train micro-F1 @7: 0.05985686402081978\n",
      "validation micro-F1 @7: 0.07729468599033816\n",
      "train micro-F1 @8: 0.06155075939248601\n",
      "validation micro-F1 @8: 0.07803790412486064\n",
      "train micro-F1 @9: 0.06201406886338393\n",
      "validation micro-F1 @9: 0.07755946225439504\n",
      "train micro-F1 @10: 0.06204756980351603\n",
      "validation micro-F1 @10: 0.08027079303675048\n"
     ]
    },
    {
     "name": "stderr",
     "output_type": "stream",
     "text": [
      "\r",
      "  0%|          | 19/4320 [01:28<5:41:58,  4.77s/it]"
     ]
    },
    {
     "name": "stdout",
     "output_type": "stream",
     "text": [
      "iter: 18, configuration: {'stop_words': None, 'svm_kernel': 'poly', 'svm_gamma': 0.5, 'nb_medoids_ratio': 0.2, 'medoid_normalization': 'standard', 'svm_c': 0.01, 'svm_degree': 3, 'norm': 'l1'}\n",
      "\n",
      "train micro-F1 @1: 0.020969855832241154\n",
      "validation micro-F1 @1: 0.03271028037383177\n",
      "train micro-F1 @2: 0.03523238380809595\n",
      "validation micro-F1 @2: 0.0486815415821501\n",
      "train micro-F1 @3: 0.039804241435562805\n",
      "validation micro-F1 @3: 0.05714285714285714\n",
      "train micro-F1 @4: 0.050305321314335565\n",
      "validation micro-F1 @4: 0.06549520766773163\n",
      "train micro-F1 @5: 0.05487326887901751\n",
      "validation micro-F1 @5: 0.06609195402298851\n",
      "train micro-F1 @6: 0.05211035133223296\n",
      "validation micro-F1 @6: 0.07217847769028872\n",
      "train micro-F1 @7: 0.06100738167607468\n",
      "validation micro-F1 @7: 0.07729468599033816\n",
      "train micro-F1 @8: 0.06155075939248601\n",
      "validation micro-F1 @8: 0.07683741648106904\n",
      "train micro-F1 @9: 0.06457598812395621\n",
      "validation micro-F1 @9: 0.07755946225439504\n",
      "train micro-F1 @10: 0.06553691855438354\n",
      "validation micro-F1 @10: 0.07610789980732177\n"
     ]
    },
    {
     "name": "stderr",
     "output_type": "stream",
     "text": [
      "\r",
      "  0%|          | 20/4320 [01:33<5:53:03,  4.93s/it]"
     ]
    },
    {
     "name": "stdout",
     "output_type": "stream",
     "text": [
      "iter: 19, configuration: {'stop_words': None, 'svm_kernel': 'poly', 'svm_gamma': 1.0, 'nb_medoids_ratio': 0.2, 'medoid_normalization': 'standard', 'svm_c': 0.01, 'svm_degree': 3, 'norm': 'l1'}\n",
      "\n",
      "train micro-F1 @1: 0.021416083916083916\n",
      "validation micro-F1 @1: 0.03271028037383177\n",
      "train micro-F1 @2: 0.03562054743157105\n",
      "validation micro-F1 @2: 0.0486815415821501\n",
      "train micro-F1 @3: 0.0539021164021164\n",
      "validation micro-F1 @3: 0.059033989266547404\n",
      "train micro-F1 @4: 0.05152838427947598\n",
      "validation micro-F1 @4: 0.06549520766773163\n",
      "train micro-F1 @5: 0.05542483660130719\n",
      "validation micro-F1 @5: 0.06609195402298851\n",
      "train micro-F1 @6: 0.0540987479329081\n",
      "validation micro-F1 @6: 0.0735873850197109\n",
      "train micro-F1 @7: 0.06123778501628664\n",
      "validation micro-F1 @7: 0.07729468599033816\n",
      "train micro-F1 @8: 0.0626125225045009\n",
      "validation micro-F1 @8: 0.07803790412486064\n",
      "train micro-F1 @9: 0.06437847866419295\n",
      "validation micro-F1 @9: 0.07755946225439504\n",
      "train micro-F1 @10: 0.06535269709543569\n",
      "validation micro-F1 @10: 0.07610789980732177\n"
     ]
    },
    {
     "name": "stderr",
     "output_type": "stream",
     "text": [
      "\r",
      "  0%|          | 21/4320 [01:37<5:29:41,  4.60s/it]"
     ]
    },
    {
     "name": "stdout",
     "output_type": "stream",
     "text": [
      "iter: 20, configuration: {'stop_words': None, 'svm_kernel': 'poly', 'svm_gamma': 0.1, 'nb_medoids_ratio': 0.2, 'medoid_normalization': 'standard', 'svm_c': 0.01, 'svm_degree': 4, 'norm': 'l1'}\n",
      "\n",
      "train micro-F1 @1: 0.021416083916083916\n",
      "validation micro-F1 @1: 0.03271028037383177\n",
      "train micro-F1 @2: 0.03523238380809595\n",
      "validation micro-F1 @2: 0.0486815415821501\n",
      "train micro-F1 @3: 0.04389125450376679\n",
      "validation micro-F1 @3: 0.059033989266547404\n",
      "train micro-F1 @4: 0.0506108202443281\n",
      "validation micro-F1 @4: 0.06549520766773163\n",
      "train micro-F1 @5: 0.055148980658651335\n",
      "validation micro-F1 @5: 0.06609195402298851\n",
      "train micro-F1 @6: 0.058600237247924084\n",
      "validation micro-F1 @6: 0.0735873850197109\n",
      "train micro-F1 @7: 0.06077707835901888\n",
      "validation micro-F1 @7: 0.07729468599033816\n",
      "train micro-F1 @8: 0.06091471939285001\n",
      "validation micro-F1 @8: 0.07803790412486064\n",
      "train micro-F1 @9: 0.0633920296570899\n",
      "validation micro-F1 @9: 0.07755946225439504\n",
      "train micro-F1 @10: 0.06461644782308223\n",
      "validation micro-F1 @10: 0.08131655372700872\n"
     ]
    },
    {
     "name": "stderr",
     "output_type": "stream",
     "text": [
      "\r",
      "  1%|          | 22/4320 [01:41<5:17:22,  4.43s/it]"
     ]
    },
    {
     "name": "stdout",
     "output_type": "stream",
     "text": [
      "iter: 21, configuration: {'stop_words': None, 'svm_kernel': 'poly', 'svm_gamma': 0.2, 'nb_medoids_ratio': 0.2, 'medoid_normalization': 'standard', 'svm_c': 0.01, 'svm_degree': 4, 'norm': 'l1'}\n",
      "\n",
      "train micro-F1 @1: 0.020969855832241154\n",
      "validation micro-F1 @1: 0.03271028037383177\n",
      "train micro-F1 @2: 0.03523238380809595\n",
      "validation micro-F1 @2: 0.0486815415821501\n",
      "train micro-F1 @3: 0.04423328964613368\n",
      "validation micro-F1 @3: 0.059033989266547404\n",
      "train micro-F1 @4: 0.05091649694501019\n",
      "validation micro-F1 @4: 0.06549520766773163\n",
      "train micro-F1 @5: 0.055700836820083685\n",
      "validation micro-F1 @5: 0.06609195402298851\n",
      "train micro-F1 @6: 0.05910277711844292\n",
      "validation micro-F1 @6: 0.0735873850197109\n",
      "train micro-F1 @7: 0.061468288444830585\n",
      "validation micro-F1 @7: 0.07729468599033816\n",
      "train micro-F1 @8: 0.0626125225045009\n",
      "validation micro-F1 @8: 0.07803790412486064\n",
      "train micro-F1 @9: 0.06378638976450955\n",
      "validation micro-F1 @9: 0.07755946225439504\n",
      "train micro-F1 @10: 0.06535269709543569\n",
      "validation micro-F1 @10: 0.07610789980732177\n"
     ]
    },
    {
     "name": "stderr",
     "output_type": "stream",
     "text": [
      "\r",
      "  1%|          | 23/4320 [01:46<5:24:37,  4.53s/it]"
     ]
    },
    {
     "name": "stdout",
     "output_type": "stream",
     "text": [
      "iter: 22, configuration: {'stop_words': None, 'svm_kernel': 'poly', 'svm_gamma': 0.3, 'nb_medoids_ratio': 0.2, 'medoid_normalization': 'standard', 'svm_c': 0.01, 'svm_degree': 4, 'norm': 'l1'}\n",
      "\n",
      "train micro-F1 @1: 0.021416083916083916\n",
      "validation micro-F1 @1: 0.03271028037383177\n",
      "train micro-F1 @2: 0.03562054743157105\n",
      "validation micro-F1 @2: 0.0486815415821501\n",
      "train micro-F1 @3: 0.04491803278688525\n",
      "validation micro-F1 @3: 0.059033989266547404\n",
      "train micro-F1 @4: 0.05152838427947598\n",
      "validation micro-F1 @4: 0.06549520766773163\n",
      "train micro-F1 @5: 0.05542483660130719\n",
      "validation micro-F1 @5: 0.06609195402298851\n",
      "train micro-F1 @6: 0.058349146110056926\n",
      "validation micro-F1 @6: 0.07077326343381389\n",
      "train micro-F1 @7: 0.06123778501628664\n",
      "validation micro-F1 @7: 0.07729468599033816\n",
      "train micro-F1 @8: 0.06303782269361617\n",
      "validation micro-F1 @8: 0.07803790412486064\n",
      "train micro-F1 @9: 0.06398367952522255\n",
      "validation micro-F1 @9: 0.07755946225439504\n",
      "train micro-F1 @10: 0.06498444521258209\n",
      "validation micro-F1 @10: 0.08131655372700872\n"
     ]
    },
    {
     "name": "stderr",
     "output_type": "stream",
     "text": [
      "\r",
      "  1%|          | 24/4320 [01:51<5:30:31,  4.62s/it]"
     ]
    },
    {
     "name": "stdout",
     "output_type": "stream",
     "text": [
      "iter: 23, configuration: {'stop_words': None, 'svm_kernel': 'poly', 'svm_gamma': 0.5, 'nb_medoids_ratio': 0.2, 'medoid_normalization': 'standard', 'svm_c': 0.01, 'svm_degree': 4, 'norm': 'l1'}\n",
      "\n",
      "train micro-F1 @1: 0.021416083916083916\n",
      "validation micro-F1 @1: 0.03271028037383177\n",
      "train micro-F1 @2: 0.03562054743157105\n",
      "validation micro-F1 @2: 0.0486815415821501\n",
      "train micro-F1 @3: 0.044575549000327765\n",
      "validation micro-F1 @3: 0.059033989266547404\n",
      "train micro-F1 @4: 0.051222351571594875\n",
      "validation micro-F1 @4: 0.06549520766773163\n",
      "train micro-F1 @5: 0.05542483660130719\n",
      "validation micro-F1 @5: 0.06609195402298851\n",
      "train micro-F1 @6: 0.05910277711844292\n",
      "validation micro-F1 @6: 0.0735873850197109\n",
      "train micro-F1 @7: 0.061468288444830585\n",
      "validation micro-F1 @7: 0.07729468599033816\n",
      "train micro-F1 @8: 0.06282513005202081\n",
      "validation micro-F1 @8: 0.07683741648106904\n",
      "train micro-F1 @9: 0.06378638976450955\n",
      "validation micro-F1 @9: 0.07755946225439504\n",
      "train micro-F1 @10: 0.06535269709543569\n",
      "validation micro-F1 @10: 0.07818532818532818\n"
     ]
    },
    {
     "name": "stderr",
     "output_type": "stream",
     "text": [
      "\r",
      "  1%|          | 25/4320 [01:56<5:41:56,  4.78s/it]"
     ]
    },
    {
     "name": "stdout",
     "output_type": "stream",
     "text": [
      "iter: 24, configuration: {'stop_words': None, 'svm_kernel': 'poly', 'svm_gamma': 1.0, 'nb_medoids_ratio': 0.2, 'medoid_normalization': 'standard', 'svm_c': 0.01, 'svm_degree': 4, 'norm': 'l1'}\n",
      "\n",
      "train micro-F1 @1: 0.020969855832241154\n",
      "validation micro-F1 @1: 0.03271028037383177\n",
      "train micro-F1 @2: 0.03523238380809595\n",
      "validation micro-F1 @2: 0.0486815415821501\n",
      "train micro-F1 @3: 0.045260741226631686\n",
      "validation micro-F1 @3: 0.059033989266547404\n",
      "train micro-F1 @4: 0.051222351571594875\n",
      "validation micro-F1 @4: 0.06549520766773163\n",
      "train micro-F1 @5: 0.055148980658651335\n",
      "validation micro-F1 @5: 0.06609195402298851\n",
      "train micro-F1 @6: 0.05885144755576649\n",
      "validation micro-F1 @6: 0.0735873850197109\n",
      "train micro-F1 @7: 0.06077707835901888\n",
      "validation micro-F1 @7: 0.07729468599033816\n",
      "train micro-F1 @8: 0.0621875624875025\n",
      "validation micro-F1 @8: 0.07803790412486064\n",
      "train micro-F1 @9: 0.06358917315535781\n",
      "validation micro-F1 @9: 0.07755946225439504\n",
      "train micro-F1 @10: 0.06461644782308223\n",
      "validation micro-F1 @10: 0.07610789980732177\n"
     ]
    },
    {
     "name": "stderr",
     "output_type": "stream",
     "text": [
      "\r",
      "  1%|          | 26/4320 [02:00<5:33:53,  4.67s/it]"
     ]
    },
    {
     "name": "stdout",
     "output_type": "stream",
     "text": [
      "iter: 25, configuration: {'stop_words': None, 'svm_kernel': 'poly', 'svm_gamma': 0.1, 'nb_medoids_ratio': 0.2, 'medoid_normalization': 'standard', 'svm_c': 0.01, 'svm_degree': 5, 'norm': 'l1'}\n",
      "\n",
      "train micro-F1 @1: 0.02052401746724891\n",
      "validation micro-F1 @1: 0.03271028037383177\n",
      "train micro-F1 @2: 0.03445692883895131\n",
      "validation micro-F1 @2: 0.0486815415821501\n",
      "train micro-F1 @3: 0.0435494433529797\n",
      "validation micro-F1 @3: 0.05714285714285714\n",
      "train micro-F1 @4: 0.050305321314335565\n",
      "validation micro-F1 @4: 0.06549520766773163\n",
      "train micro-F1 @5: 0.054322277357012276\n",
      "validation micro-F1 @5: 0.06609195402298851\n",
      "train micro-F1 @6: 0.05709547500592277\n",
      "validation micro-F1 @6: 0.07077326343381389\n",
      "train micro-F1 @7: 0.06008676789587852\n",
      "validation micro-F1 @7: 0.07729468599033816\n",
      "train micro-F1 @8: 0.0617629422346592\n",
      "validation micro-F1 @8: 0.07803790412486064\n",
      "train micro-F1 @9: 0.06319495922905856\n",
      "validation micro-F1 @9: 0.07755946225439504\n",
      "train micro-F1 @10: 0.06424870466321243\n",
      "validation micro-F1 @10: 0.08131655372700872\n"
     ]
    },
    {
     "name": "stderr",
     "output_type": "stream",
     "text": [
      "\r",
      "  1%|          | 27/4320 [02:06<5:57:35,  5.00s/it]"
     ]
    },
    {
     "name": "stdout",
     "output_type": "stream",
     "text": [
      "iter: 26, configuration: {'stop_words': None, 'svm_kernel': 'poly', 'svm_gamma': 0.2, 'nb_medoids_ratio': 0.2, 'medoid_normalization': 'standard', 'svm_c': 0.01, 'svm_degree': 5, 'norm': 'l1'}\n",
      "\n",
      "train micro-F1 @1: 0.021862702229995628\n",
      "validation micro-F1 @1: 0.03271028037383177\n",
      "train micro-F1 @2: 0.03562054743157105\n",
      "validation micro-F1 @2: 0.0486815415821501\n",
      "train micro-F1 @3: 0.04423328964613368\n",
      "validation micro-F1 @3: 0.059033989266547404\n",
      "train micro-F1 @4: 0.05091649694501019\n",
      "validation micro-F1 @4: 0.06549520766773163\n",
      "train micro-F1 @5: 0.05487326887901751\n",
      "validation micro-F1 @5: 0.06609195402298851\n",
      "train micro-F1 @6: 0.057847321005215745\n",
      "validation micro-F1 @6: 0.0735873850197109\n",
      "train micro-F1 @7: 0.060546875\n",
      "validation micro-F1 @7: 0.07729468599033816\n",
      "train micro-F1 @8: 0.0617629422346592\n",
      "validation micro-F1 @8: 0.07683741648106904\n",
      "train micro-F1 @9: 0.06319495922905856\n",
      "validation micro-F1 @9: 0.07755946225439504\n",
      "train micro-F1 @10: 0.06443254448091207\n",
      "validation micro-F1 @10: 0.07610789980732177\n"
     ]
    },
    {
     "name": "stderr",
     "output_type": "stream",
     "text": [
      "\r",
      "  1%|          | 28/4320 [02:14<7:01:09,  5.89s/it]"
     ]
    },
    {
     "name": "stdout",
     "output_type": "stream",
     "text": [
      "iter: 27, configuration: {'stop_words': None, 'svm_kernel': 'poly', 'svm_gamma': 0.3, 'nb_medoids_ratio': 0.2, 'medoid_normalization': 'standard', 'svm_c': 0.01, 'svm_degree': 5, 'norm': 'l1'}\n",
      "\n",
      "train micro-F1 @1: 0.020969855832241154\n",
      "validation micro-F1 @1: 0.03271028037383177\n",
      "train micro-F1 @2: 0.03484451105282878\n",
      "validation micro-F1 @2: 0.0486815415821501\n",
      "train micro-F1 @3: 0.0435494433529797\n",
      "validation micro-F1 @3: 0.05714285714285714\n",
      "train micro-F1 @4: 0.050305321314335565\n",
      "validation micro-F1 @4: 0.06549520766773163\n",
      "train micro-F1 @5: 0.054322277357012276\n",
      "validation micro-F1 @5: 0.06609195402298851\n",
      "train micro-F1 @6: 0.057345971563981045\n",
      "validation micro-F1 @6: 0.0735873850197109\n",
      "train micro-F1 @7: 0.05985686402081978\n",
      "validation micro-F1 @7: 0.07729468599033816\n",
      "train micro-F1 @8: 0.0617629422346592\n",
      "validation micro-F1 @8: 0.07803790412486064\n",
      "train micro-F1 @9: 0.0633920296570899\n",
      "validation micro-F1 @9: 0.07755946225439504\n",
      "train micro-F1 @10: 0.06443254448091207\n",
      "validation micro-F1 @10: 0.07610789980732177\n"
     ]
    },
    {
     "name": "stderr",
     "output_type": "stream",
     "text": [
      "\r",
      "  1%|          | 29/4320 [02:22<7:41:40,  6.46s/it]"
     ]
    },
    {
     "name": "stdout",
     "output_type": "stream",
     "text": [
      "iter: 28, configuration: {'stop_words': None, 'svm_kernel': 'poly', 'svm_gamma': 0.5, 'nb_medoids_ratio': 0.2, 'medoid_normalization': 'standard', 'svm_c': 0.01, 'svm_degree': 5, 'norm': 'l1'}\n",
      "\n",
      "train micro-F1 @1: 0.02052401746724891\n",
      "validation micro-F1 @1: 0.03271028037383177\n",
      "train micro-F1 @2: 0.03445692883895131\n",
      "validation micro-F1 @2: 0.0486815415821501\n",
      "train micro-F1 @3: 0.0435494433529797\n",
      "validation micro-F1 @3: 0.05714285714285714\n",
      "train micro-F1 @4: 0.050305321314335565\n",
      "validation micro-F1 @4: 0.06549520766773163\n",
      "train micro-F1 @5: 0.05459770114942529\n",
      "validation micro-F1 @5: 0.06609195402298851\n",
      "train micro-F1 @6: 0.05759658686892628\n",
      "validation micro-F1 @6: 0.0735873850197109\n",
      "train micro-F1 @7: 0.06077707835901888\n",
      "validation micro-F1 @7: 0.07729468599033816\n",
      "train micro-F1 @8: 0.0626125225045009\n",
      "validation micro-F1 @8: 0.07803790412486064\n",
      "train micro-F1 @9: 0.06378638976450955\n",
      "validation micro-F1 @9: 0.07755946225439504\n",
      "train micro-F1 @10: 0.06480041472265423\n",
      "validation micro-F1 @10: 0.07818532818532818\n"
     ]
    },
    {
     "name": "stderr",
     "output_type": "stream",
     "text": [
      "\r",
      "  1%|          | 30/4320 [02:32<9:13:53,  7.75s/it]"
     ]
    },
    {
     "name": "stdout",
     "output_type": "stream",
     "text": [
      "iter: 29, configuration: {'stop_words': None, 'svm_kernel': 'poly', 'svm_gamma': 1.0, 'nb_medoids_ratio': 0.2, 'medoid_normalization': 'standard', 'svm_c': 0.01, 'svm_degree': 5, 'norm': 'l1'}\n",
      "\n",
      "train micro-F1 @1: 0.021416083916083916\n",
      "validation micro-F1 @1: 0.03271028037383177\n",
      "train micro-F1 @2: 0.03562054743157105\n",
      "validation micro-F1 @2: 0.0486815415821501\n",
      "train micro-F1 @3: 0.04423328964613368\n",
      "validation micro-F1 @3: 0.05714285714285714\n",
      "train micro-F1 @4: 0.05091649694501019\n",
      "validation micro-F1 @4: 0.06549520766773163\n",
      "train micro-F1 @5: 0.05542483660130719\n",
      "validation micro-F1 @5: 0.06609195402298851\n",
      "train micro-F1 @6: 0.058600237247924084\n",
      "validation micro-F1 @6: 0.0735873850197109\n",
      "train micro-F1 @7: 0.06123778501628664\n",
      "validation micro-F1 @7: 0.07729468599033816\n",
      "train micro-F1 @8: 0.0632506004803843\n",
      "validation micro-F1 @8: 0.07803790412486064\n",
      "train micro-F1 @9: 0.06418104247820441\n",
      "validation micro-F1 @9: 0.07755946225439504\n",
      "train micro-F1 @10: 0.06498444521258209\n",
      "validation micro-F1 @10: 0.07818532818532818\n"
     ]
    },
    {
     "name": "stderr",
     "output_type": "stream",
     "text": [
      "\r",
      "  1%|          | 31/4320 [02:36<7:51:59,  6.60s/it]"
     ]
    },
    {
     "name": "stdout",
     "output_type": "stream",
     "text": [
      "iter: 30, configuration: {'stop_words': None, 'svm_kernel': 'poly', 'svm_gamma': 0.1, 'nb_medoids_ratio': 0.2, 'medoid_normalization': 'standard', 'svm_c': 0.1, 'svm_degree': 3, 'norm': 'l1'}\n",
      "\n",
      "train micro-F1 @1: 0.022757111597374178\n",
      "validation micro-F1 @1: 0.03271028037383177\n",
      "train micro-F1 @2: 0.03600900225056264\n",
      "validation micro-F1 @2: 0.0486815415821501\n",
      "train micro-F1 @3: 0.04184373978424322\n",
      "validation micro-F1 @3: 0.05525846702317291\n",
      "train micro-F1 @4: 0.05183459522422831\n",
      "validation micro-F1 @4: 0.06549520766773163\n",
      "train micro-F1 @5: 0.05735987427972761\n",
      "validation micro-F1 @5: 0.06609195402298851\n",
      "train micro-F1 @6: 0.060361216730038025\n",
      "validation micro-F1 @6: 0.07217847769028872\n",
      "train micro-F1 @7: 0.06239130434782609\n",
      "validation micro-F1 @7: 0.07729468599033816\n",
      "train micro-F1 @8: 0.06346346346346346\n",
      "validation micro-F1 @8: 0.07803790412486064\n",
      "train micro-F1 @9: 0.06457598812395621\n",
      "validation micro-F1 @9: 0.07755946225439504\n",
      "train micro-F1 @10: 0.06480041472265423\n",
      "validation micro-F1 @10: 0.07610789980732177\n"
     ]
    },
    {
     "name": "stderr",
     "output_type": "stream",
     "text": [
      "\r",
      "  1%|          | 32/4320 [02:41<7:08:50,  6.00s/it]"
     ]
    },
    {
     "name": "stdout",
     "output_type": "stream",
     "text": [
      "iter: 31, configuration: {'stop_words': None, 'svm_kernel': 'poly', 'svm_gamma': 0.2, 'nb_medoids_ratio': 0.2, 'medoid_normalization': 'standard', 'svm_c': 0.1, 'svm_degree': 3, 'norm': 'l1'}\n",
      "\n",
      "train micro-F1 @1: 0.02230971128608924\n",
      "validation micro-F1 @1: 0.03271028037383177\n",
      "train micro-F1 @2: 0.03600900225056264\n",
      "validation micro-F1 @2: 0.0486815415821501\n",
      "train micro-F1 @3: 0.045260741226631686\n",
      "validation micro-F1 @3: 0.059033989266547404\n",
      "train micro-F1 @4: 0.05152838427947598\n",
      "validation micro-F1 @4: 0.06549520766773163\n",
      "train micro-F1 @5: 0.057083006022518985\n",
      "validation micro-F1 @5: 0.06609195402298851\n",
      "train micro-F1 @6: 0.05910277711844292\n",
      "validation micro-F1 @6: 0.0735873850197109\n",
      "train micro-F1 @7: 0.06216039991306238\n",
      "validation micro-F1 @7: 0.07729468599033816\n",
      "train micro-F1 @8: 0.06452905811623247\n",
      "validation micro-F1 @8: 0.07683741648106904\n",
      "train micro-F1 @9: 0.0633920296570899\n",
      "validation micro-F1 @9: 0.07755946225439504\n",
      "train micro-F1 @10: 0.06461644782308223\n",
      "validation micro-F1 @10: 0.08131655372700872\n"
     ]
    },
    {
     "name": "stderr",
     "output_type": "stream",
     "text": [
      "\r",
      "  1%|          | 33/4320 [02:46<6:57:55,  5.85s/it]"
     ]
    },
    {
     "name": "stdout",
     "output_type": "stream",
     "text": [
      "iter: 32, configuration: {'stop_words': None, 'svm_kernel': 'poly', 'svm_gamma': 0.3, 'nb_medoids_ratio': 0.2, 'medoid_normalization': 'standard', 'svm_c': 0.1, 'svm_degree': 3, 'norm': 'l1'}\n",
      "\n",
      "train micro-F1 @1: 0.02052401746724891\n",
      "validation micro-F1 @1: 0.03271028037383177\n",
      "train micro-F1 @2: 0.03484451105282878\n",
      "validation micro-F1 @2: 0.0486815415821501\n",
      "train micro-F1 @3: 0.0435494433529797\n",
      "validation micro-F1 @3: 0.05714285714285714\n",
      "train micro-F1 @4: 0.0506108202443281\n",
      "validation micro-F1 @4: 0.06549520766773163\n",
      "train micro-F1 @5: 0.054322277357012276\n",
      "validation micro-F1 @5: 0.06609195402298851\n",
      "train micro-F1 @6: 0.05709547500592277\n",
      "validation micro-F1 @6: 0.0735873850197109\n",
      "train micro-F1 @7: 0.05985686402081978\n",
      "validation micro-F1 @7: 0.07729468599033816\n",
      "train micro-F1 @8: 0.06091471939285001\n",
      "validation micro-F1 @8: 0.07803790412486064\n",
      "train micro-F1 @9: 0.06576258591863274\n",
      "validation micro-F1 @9: 0.07533539731682147\n",
      "train micro-F1 @10: 0.06388121546961326\n",
      "validation micro-F1 @10: 0.07714561234329798\n"
     ]
    },
    {
     "name": "stderr",
     "output_type": "stream",
     "text": [
      "\r",
      "  1%|          | 34/4320 [02:53<7:05:50,  5.96s/it]"
     ]
    },
    {
     "name": "stdout",
     "output_type": "stream",
     "text": [
      "iter: 33, configuration: {'stop_words': None, 'svm_kernel': 'poly', 'svm_gamma': 0.5, 'nb_medoids_ratio': 0.2, 'medoid_normalization': 'standard', 'svm_c': 0.1, 'svm_degree': 3, 'norm': 'l1'}\n",
      "\n",
      "train micro-F1 @1: 0.021416083916083916\n",
      "validation micro-F1 @1: 0.03271028037383177\n",
      "train micro-F1 @2: 0.03523238380809595\n",
      "validation micro-F1 @2: 0.0486815415821501\n",
      "train micro-F1 @3: 0.04491803278688525\n",
      "validation micro-F1 @3: 0.06093189964157706\n",
      "train micro-F1 @4: 0.05091649694501019\n",
      "validation micro-F1 @4: 0.06549520766773163\n",
      "train micro-F1 @5: 0.05459770114942529\n",
      "validation micro-F1 @5: 0.06609195402298851\n",
      "train micro-F1 @6: 0.058098174057386764\n",
      "validation micro-F1 @6: 0.0735873850197109\n",
      "train micro-F1 @7: 0.0603167715339553\n",
      "validation micro-F1 @7: 0.07729468599033816\n",
      "train micro-F1 @8: 0.06091471939285001\n",
      "validation micro-F1 @8: 0.07683741648106904\n",
      "train micro-F1 @9: 0.06280103742126714\n",
      "validation micro-F1 @9: 0.07755946225439504\n",
      "train micro-F1 @10: 0.06369756602796478\n",
      "validation micro-F1 @10: 0.08131655372700872\n"
     ]
    },
    {
     "name": "stderr",
     "output_type": "stream",
     "text": [
      "\r",
      "  1%|          | 35/4320 [03:04<9:05:50,  7.64s/it]"
     ]
    },
    {
     "name": "stdout",
     "output_type": "stream",
     "text": [
      "iter: 34, configuration: {'stop_words': None, 'svm_kernel': 'poly', 'svm_gamma': 1.0, 'nb_medoids_ratio': 0.2, 'medoid_normalization': 'standard', 'svm_c': 0.1, 'svm_degree': 3, 'norm': 'l1'}\n",
      "\n",
      "train micro-F1 @1: 0.021862702229995628\n",
      "validation micro-F1 @1: 0.03271028037383177\n",
      "train micro-F1 @2: 0.03562054743157105\n",
      "validation micro-F1 @2: 0.0486815415821501\n",
      "train micro-F1 @3: 0.04663382594417077\n",
      "validation micro-F1 @3: 0.06093189964157706\n",
      "train micro-F1 @4: 0.051222351571594875\n",
      "validation micro-F1 @4: 0.06549520766773163\n",
      "train micro-F1 @5: 0.05680628272251309\n",
      "validation micro-F1 @5: 0.06609195402298851\n",
      "train micro-F1 @6: 0.060865430337612936\n",
      "validation micro-F1 @6: 0.0735873850197109\n",
      "train micro-F1 @7: 0.061698892026938956\n",
      "validation micro-F1 @7: 0.07729468599033816\n",
      "train micro-F1 @8: 0.06773869346733669\n",
      "validation micro-F1 @8: 0.07803790412486064\n",
      "train micro-F1 @9: 0.06418104247820441\n",
      "validation micro-F1 @9: 0.07755946225439504\n",
      "train micro-F1 @10: 0.06719778316591618\n",
      "validation micro-F1 @10: 0.07714561234329798\n"
     ]
    },
    {
     "name": "stderr",
     "output_type": "stream",
     "text": [
      "\r",
      "  1%|          | 36/4320 [03:08<7:52:11,  6.61s/it]"
     ]
    },
    {
     "name": "stdout",
     "output_type": "stream",
     "text": [
      "iter: 35, configuration: {'stop_words': None, 'svm_kernel': 'poly', 'svm_gamma': 0.1, 'nb_medoids_ratio': 0.2, 'medoid_normalization': 'standard', 'svm_c': 0.1, 'svm_degree': 4, 'norm': 'l1'}\n",
      "\n",
      "train micro-F1 @1: 0.021416083916083916\n",
      "validation micro-F1 @1: 0.03271028037383177\n",
      "train micro-F1 @2: 0.03523238380809595\n",
      "validation micro-F1 @2: 0.0486815415821501\n",
      "train micro-F1 @3: 0.04423328964613368\n",
      "validation micro-F1 @3: 0.05714285714285714\n",
      "train micro-F1 @4: 0.05091649694501019\n",
      "validation micro-F1 @4: 0.06549520766773163\n",
      "train micro-F1 @5: 0.05487326887901751\n",
      "validation micro-F1 @5: 0.06609195402298851\n",
      "train micro-F1 @6: 0.058098174057386764\n",
      "validation micro-F1 @6: 0.0735873850197109\n",
      "train micro-F1 @7: 0.06077707835901888\n",
      "validation micro-F1 @7: 0.07729468599033816\n",
      "train micro-F1 @8: 0.0621875624875025\n",
      "validation micro-F1 @8: 0.07683741648106904\n",
      "train micro-F1 @9: 0.0633920296570899\n",
      "validation micro-F1 @9: 0.07755946225439504\n",
      "train micro-F1 @10: 0.0633304572907679\n",
      "validation micro-F1 @10: 0.07610789980732177\n"
     ]
    },
    {
     "name": "stderr",
     "output_type": "stream",
     "text": [
      "\r",
      "  1%|          | 37/4320 [03:13<7:14:23,  6.09s/it]"
     ]
    },
    {
     "name": "stdout",
     "output_type": "stream",
     "text": [
      "iter: 36, configuration: {'stop_words': None, 'svm_kernel': 'poly', 'svm_gamma': 0.2, 'nb_medoids_ratio': 0.2, 'medoid_normalization': 'standard', 'svm_c': 0.1, 'svm_degree': 4, 'norm': 'l1'}\n",
      "\n",
      "train micro-F1 @1: 0.020969855832241154\n",
      "validation micro-F1 @1: 0.03271028037383177\n",
      "train micro-F1 @2: 0.03484451105282878\n",
      "validation micro-F1 @2: 0.0486815415821501\n",
      "train micro-F1 @3: 0.0435494433529797\n",
      "validation micro-F1 @3: 0.059033989266547404\n",
      "train micro-F1 @4: 0.0506108202443281\n",
      "validation micro-F1 @4: 0.06549520766773163\n",
      "train micro-F1 @5: 0.055148980658651335\n",
      "validation micro-F1 @5: 0.06609195402298851\n",
      "train micro-F1 @6: 0.058349146110056926\n",
      "validation micro-F1 @6: 0.0735873850197109\n",
      "train micro-F1 @7: 0.060546875\n",
      "validation micro-F1 @7: 0.07729468599033816\n",
      "train micro-F1 @8: 0.0621875624875025\n",
      "validation micro-F1 @8: 0.07683741648106904\n",
      "train micro-F1 @9: 0.06358917315535781\n",
      "validation micro-F1 @9: 0.07755946225439504\n",
      "train micro-F1 @10: 0.06443254448091207\n",
      "validation micro-F1 @10: 0.07818532818532818\n"
     ]
    },
    {
     "name": "stderr",
     "output_type": "stream",
     "text": [
      "\r",
      "  1%|          | 38/4320 [03:18<6:42:47,  5.64s/it]"
     ]
    },
    {
     "name": "stdout",
     "output_type": "stream",
     "text": [
      "iter: 37, configuration: {'stop_words': None, 'svm_kernel': 'poly', 'svm_gamma': 0.3, 'nb_medoids_ratio': 0.2, 'medoid_normalization': 'standard', 'svm_c': 0.1, 'svm_degree': 4, 'norm': 'l1'}\n",
      "\n",
      "train micro-F1 @1: 0.02052401746724891\n",
      "validation micro-F1 @1: 0.03271028037383177\n",
      "train micro-F1 @2: 0.03523238380809595\n",
      "validation micro-F1 @2: 0.0486815415821501\n",
      "train micro-F1 @3: 0.04423328964613368\n",
      "validation micro-F1 @3: 0.06093189964157706\n",
      "train micro-F1 @4: 0.051222351571594875\n",
      "validation micro-F1 @4: 0.06549520766773163\n",
      "train micro-F1 @5: 0.055700836820083685\n",
      "validation micro-F1 @5: 0.06609195402298851\n",
      "train micro-F1 @6: 0.05885144755576649\n",
      "validation micro-F1 @6: 0.0735873850197109\n",
      "train micro-F1 @7: 0.061468288444830585\n",
      "validation micro-F1 @7: 0.07729468599033816\n",
      "train micro-F1 @8: 0.06282513005202081\n",
      "validation micro-F1 @8: 0.07803790412486064\n",
      "train micro-F1 @9: 0.06457598812395621\n",
      "validation micro-F1 @9: 0.07755946225439504\n",
      "train micro-F1 @10: 0.06572120373573158\n",
      "validation micro-F1 @10: 0.08131655372700872\n"
     ]
    },
    {
     "name": "stderr",
     "output_type": "stream",
     "text": [
      "\r",
      "  1%|          | 39/4320 [03:23<6:34:39,  5.53s/it]"
     ]
    },
    {
     "name": "stdout",
     "output_type": "stream",
     "text": [
      "iter: 38, configuration: {'stop_words': None, 'svm_kernel': 'poly', 'svm_gamma': 0.5, 'nb_medoids_ratio': 0.2, 'medoid_normalization': 'standard', 'svm_c': 0.1, 'svm_degree': 4, 'norm': 'l1'}\n",
      "\n",
      "train micro-F1 @1: 0.02052401746724891\n",
      "validation micro-F1 @1: 0.03271028037383177\n",
      "train micro-F1 @2: 0.03523238380809595\n",
      "validation micro-F1 @2: 0.0486815415821501\n",
      "train micro-F1 @3: 0.04423328964613368\n",
      "validation micro-F1 @3: 0.06093189964157706\n",
      "train micro-F1 @4: 0.0506108202443281\n",
      "validation micro-F1 @4: 0.06549520766773163\n",
      "train micro-F1 @5: 0.05487326887901751\n",
      "validation micro-F1 @5: 0.06609195402298851\n",
      "train micro-F1 @6: 0.058349146110056926\n",
      "validation micro-F1 @6: 0.0735873850197109\n",
      "train micro-F1 @7: 0.060546875\n",
      "validation micro-F1 @7: 0.07729468599033816\n",
      "train micro-F1 @8: 0.05837816298067344\n",
      "validation micro-F1 @8: 0.07683741648106904\n",
      "train micro-F1 @9: 0.0633920296570899\n",
      "validation micro-F1 @9: 0.07755946225439504\n",
      "train micro-F1 @10: 0.06443254448091207\n",
      "validation micro-F1 @10: 0.07818532818532818\n"
     ]
    },
    {
     "name": "stderr",
     "output_type": "stream",
     "text": [
      "\r",
      "  1%|          | 40/4320 [03:29<6:37:29,  5.57s/it]"
     ]
    },
    {
     "name": "stdout",
     "output_type": "stream",
     "text": [
      "iter: 39, configuration: {'stop_words': None, 'svm_kernel': 'poly', 'svm_gamma': 1.0, 'nb_medoids_ratio': 0.2, 'medoid_normalization': 'standard', 'svm_c': 0.1, 'svm_degree': 4, 'norm': 'l1'}\n",
      "\n",
      "train micro-F1 @1: 0.020969855832241154\n",
      "validation micro-F1 @1: 0.03271028037383177\n",
      "train micro-F1 @2: 0.03484451105282878\n",
      "validation micro-F1 @2: 0.0486815415821501\n",
      "train micro-F1 @3: 0.04320785597381342\n",
      "validation micro-F1 @3: 0.059033989266547404\n",
      "train micro-F1 @4: 0.05\n",
      "validation micro-F1 @4: 0.06549520766773163\n",
      "train micro-F1 @5: 0.05404699738903394\n",
      "validation micro-F1 @5: 0.06609195402298851\n",
      "train micro-F1 @6: 0.05759658686892628\n",
      "validation micro-F1 @6: 0.0735873850197109\n",
      "train micro-F1 @7: 0.0603167715339553\n",
      "validation micro-F1 @7: 0.07729468599033816\n",
      "train micro-F1 @8: 0.0621875624875025\n",
      "validation micro-F1 @8: 0.07683741648106904\n",
      "train micro-F1 @9: 0.06319495922905856\n",
      "validation micro-F1 @9: 0.07755946225439504\n",
      "train micro-F1 @10: 0.06424870466321243\n",
      "validation micro-F1 @10: 0.08131655372700872\n"
     ]
    },
    {
     "name": "stderr",
     "output_type": "stream",
     "text": [
      "\r",
      "  1%|          | 41/4320 [03:34<6:30:58,  5.48s/it]"
     ]
    },
    {
     "name": "stdout",
     "output_type": "stream",
     "text": [
      "iter: 40, configuration: {'stop_words': None, 'svm_kernel': 'poly', 'svm_gamma': 0.1, 'nb_medoids_ratio': 0.2, 'medoid_normalization': 'standard', 'svm_c': 0.1, 'svm_degree': 5, 'norm': 'l1'}\n",
      "\n",
      "train micro-F1 @1: 0.021416083916083916\n",
      "validation micro-F1 @1: 0.03271028037383177\n",
      "train micro-F1 @2: 0.03523238380809595\n",
      "validation micro-F1 @2: 0.0486815415821501\n",
      "train micro-F1 @3: 0.04423328964613368\n",
      "validation micro-F1 @3: 0.05714285714285714\n",
      "train micro-F1 @4: 0.05091649694501019\n",
      "validation micro-F1 @4: 0.06549520766773163\n",
      "train micro-F1 @5: 0.055148980658651335\n",
      "validation micro-F1 @5: 0.06609195402298851\n",
      "train micro-F1 @6: 0.058098174057386764\n",
      "validation micro-F1 @6: 0.07077326343381389\n",
      "train micro-F1 @7: 0.06100738167607468\n",
      "validation micro-F1 @7: 0.07729468599033816\n",
      "train micro-F1 @8: 0.06303782269361617\n",
      "validation micro-F1 @8: 0.07803790412486064\n",
      "train micro-F1 @9: 0.06398367952522255\n",
      "validation micro-F1 @9: 0.07755946225439504\n",
      "train micro-F1 @10: 0.06498444521258209\n",
      "validation micro-F1 @10: 0.08131655372700872\n"
     ]
    },
    {
     "name": "stderr",
     "output_type": "stream",
     "text": [
      "\r",
      "  1%|          | 42/4320 [03:41<7:06:44,  5.99s/it]"
     ]
    },
    {
     "name": "stdout",
     "output_type": "stream",
     "text": [
      "iter: 41, configuration: {'stop_words': None, 'svm_kernel': 'poly', 'svm_gamma': 0.2, 'nb_medoids_ratio': 0.2, 'medoid_normalization': 'standard', 'svm_c': 0.1, 'svm_degree': 5, 'norm': 'l1'}\n",
      "\n",
      "train micro-F1 @1: 0.021416083916083916\n",
      "validation micro-F1 @1: 0.03271028037383177\n",
      "train micro-F1 @2: 0.03562054743157105\n",
      "validation micro-F1 @2: 0.0486815415821501\n",
      "train micro-F1 @3: 0.044575549000327765\n",
      "validation micro-F1 @3: 0.059033989266547404\n",
      "train micro-F1 @4: 0.05152838427947598\n",
      "validation micro-F1 @4: 0.06549520766773163\n",
      "train micro-F1 @5: 0.05542483660130719\n",
      "validation micro-F1 @5: 0.06609195402298851\n",
      "train micro-F1 @6: 0.058349146110056926\n",
      "validation micro-F1 @6: 0.0735873850197109\n",
      "train micro-F1 @7: 0.06077707835901888\n",
      "validation micro-F1 @7: 0.07729468599033816\n",
      "train micro-F1 @8: 0.0624\n",
      "validation micro-F1 @8: 0.07803790412486064\n",
      "train micro-F1 @9: 0.06398367952522255\n",
      "validation micro-F1 @9: 0.07755946225439504\n",
      "train micro-F1 @10: 0.06480041472265423\n",
      "validation micro-F1 @10: 0.07610789980732177\n"
     ]
    },
    {
     "name": "stderr",
     "output_type": "stream",
     "text": [
      "\r",
      "  1%|          | 43/4320 [03:49<7:50:17,  6.60s/it]"
     ]
    },
    {
     "name": "stdout",
     "output_type": "stream",
     "text": [
      "iter: 42, configuration: {'stop_words': None, 'svm_kernel': 'poly', 'svm_gamma': 0.3, 'nb_medoids_ratio': 0.2, 'medoid_normalization': 'standard', 'svm_c': 0.1, 'svm_degree': 5, 'norm': 'l1'}\n",
      "\n",
      "train micro-F1 @1: 0.020969855832241154\n",
      "validation micro-F1 @1: 0.03271028037383177\n",
      "train micro-F1 @2: 0.03523238380809595\n",
      "validation micro-F1 @2: 0.0486815415821501\n",
      "train micro-F1 @3: 0.04423328964613368\n",
      "validation micro-F1 @3: 0.05714285714285714\n",
      "train micro-F1 @4: 0.051222351571594875\n",
      "validation micro-F1 @4: 0.06549520766773163\n",
      "train micro-F1 @5: 0.05542483660130719\n",
      "validation micro-F1 @5: 0.06609195402298851\n",
      "train micro-F1 @6: 0.058600237247924084\n",
      "validation micro-F1 @6: 0.0735873850197109\n",
      "train micro-F1 @7: 0.06123778501628664\n",
      "validation micro-F1 @7: 0.07729468599033816\n",
      "train micro-F1 @8: 0.0626125225045009\n",
      "validation micro-F1 @8: 0.07683741648106904\n",
      "train micro-F1 @9: 0.06418104247820441\n",
      "validation micro-F1 @9: 0.07755946225439504\n",
      "train micro-F1 @10: 0.06535269709543569\n",
      "validation micro-F1 @10: 0.07610789980732177\n"
     ]
    },
    {
     "name": "stderr",
     "output_type": "stream",
     "text": [
      "\r",
      "  1%|          | 44/4320 [04:00<9:22:33,  7.89s/it]"
     ]
    },
    {
     "name": "stdout",
     "output_type": "stream",
     "text": [
      "iter: 43, configuration: {'stop_words': None, 'svm_kernel': 'poly', 'svm_gamma': 0.5, 'nb_medoids_ratio': 0.2, 'medoid_normalization': 'standard', 'svm_c': 0.1, 'svm_degree': 5, 'norm': 'l1'}\n",
      "\n",
      "train micro-F1 @1: 0.020969855832241154\n",
      "validation micro-F1 @1: 0.03271028037383177\n",
      "train micro-F1 @2: 0.03484451105282878\n",
      "validation micro-F1 @2: 0.0486815415821501\n",
      "train micro-F1 @3: 0.04423328964613368\n",
      "validation micro-F1 @3: 0.05714285714285714\n",
      "train micro-F1 @4: 0.0506108202443281\n",
      "validation micro-F1 @4: 0.06549520766773163\n",
      "train micro-F1 @5: 0.05487326887901751\n",
      "validation micro-F1 @5: 0.06609195402298851\n",
      "train micro-F1 @6: 0.057847321005215745\n",
      "validation micro-F1 @6: 0.0735873850197109\n",
      "train micro-F1 @7: 0.06077707835901888\n",
      "validation micro-F1 @7: 0.07729468599033816\n",
      "train micro-F1 @8: 0.0624\n",
      "validation micro-F1 @8: 0.07803790412486064\n",
      "train micro-F1 @9: 0.06378638976450955\n",
      "validation micro-F1 @9: 0.07755946225439504\n",
      "train micro-F1 @10: 0.06480041472265423\n",
      "validation micro-F1 @10: 0.07610789980732177\n"
     ]
    },
    {
     "name": "stderr",
     "output_type": "stream",
     "text": [
      "\r",
      "  1%|          | 45/4320 [04:08<9:27:59,  7.97s/it]"
     ]
    },
    {
     "name": "stdout",
     "output_type": "stream",
     "text": [
      "iter: 44, configuration: {'stop_words': None, 'svm_kernel': 'poly', 'svm_gamma': 1.0, 'nb_medoids_ratio': 0.2, 'medoid_normalization': 'standard', 'svm_c': 0.1, 'svm_degree': 5, 'norm': 'l1'}\n",
      "\n",
      "train micro-F1 @1: 0.020969855832241154\n",
      "validation micro-F1 @1: 0.03271028037383177\n",
      "train micro-F1 @2: 0.03523238380809595\n",
      "validation micro-F1 @2: 0.0486815415821501\n",
      "train micro-F1 @3: 0.044575549000327765\n",
      "validation micro-F1 @3: 0.05714285714285714\n",
      "train micro-F1 @4: 0.05214098456160792\n",
      "validation micro-F1 @4: 0.06549520766773163\n",
      "train micro-F1 @5: 0.05625327053898482\n",
      "validation micro-F1 @5: 0.06609195402298851\n",
      "train micro-F1 @6: 0.059354226020892686\n",
      "validation micro-F1 @6: 0.0735873850197109\n",
      "train micro-F1 @7: 0.061698892026938956\n",
      "validation micro-F1 @7: 0.07729468599033816\n",
      "train micro-F1 @8: 0.0632506004803843\n",
      "validation micro-F1 @8: 0.07803790412486064\n",
      "train micro-F1 @9: 0.0647735708982925\n",
      "validation micro-F1 @9: 0.07755946225439504\n",
      "train micro-F1 @10: 0.06572120373573158\n",
      "validation micro-F1 @10: 0.07610789980732177\n"
     ]
    },
    {
     "name": "stderr",
     "output_type": "stream",
     "text": [
      "\r",
      "  1%|          | 46/4320 [04:13<8:23:34,  7.07s/it]"
     ]
    },
    {
     "name": "stdout",
     "output_type": "stream",
     "text": [
      "iter: 45, configuration: {'stop_words': None, 'svm_kernel': 'poly', 'svm_gamma': 0.1, 'nb_medoids_ratio': 0.2, 'medoid_normalization': 'standard', 'svm_c': 1, 'svm_degree': 3, 'norm': 'l1'}\n",
      "\n",
      "train micro-F1 @1: 0.020969855832241154\n",
      "validation micro-F1 @1: 0.03271028037383177\n",
      "train micro-F1 @2: 0.03523238380809595\n",
      "validation micro-F1 @2: 0.0486815415821501\n",
      "train micro-F1 @3: 0.04491803278688525\n",
      "validation micro-F1 @3: 0.059033989266547404\n",
      "train micro-F1 @4: 0.051222351571594875\n",
      "validation micro-F1 @4: 0.06549520766773163\n",
      "train micro-F1 @5: 0.05487326887901751\n",
      "validation micro-F1 @5: 0.06609195402298851\n",
      "train micro-F1 @6: 0.05709547500592277\n",
      "validation micro-F1 @6: 0.0735873850197109\n",
      "train micro-F1 @7: 0.061468288444830585\n",
      "validation micro-F1 @7: 0.07729468599033816\n",
      "train micro-F1 @8: 0.06623845845042152\n",
      "validation micro-F1 @8: 0.07563959955506118\n",
      "train micro-F1 @9: 0.06378638976450955\n",
      "validation micro-F1 @9: 0.07755946225439504\n",
      "train micro-F1 @10: 0.06923477355543987\n",
      "validation micro-F1 @10: 0.07714561234329798\n"
     ]
    },
    {
     "name": "stderr",
     "output_type": "stream",
     "text": [
      "\r",
      "  1%|          | 47/4320 [04:19<7:57:16,  6.70s/it]"
     ]
    },
    {
     "name": "stdout",
     "output_type": "stream",
     "text": [
      "iter: 46, configuration: {'stop_words': None, 'svm_kernel': 'poly', 'svm_gamma': 0.2, 'nb_medoids_ratio': 0.2, 'medoid_normalization': 'standard', 'svm_c': 1, 'svm_degree': 3, 'norm': 'l1'}\n",
      "\n",
      "train micro-F1 @1: 0.02052401746724891\n",
      "validation micro-F1 @1: 0.03271028037383177\n",
      "train micro-F1 @2: 0.03523238380809595\n",
      "validation micro-F1 @2: 0.0486815415821501\n",
      "train micro-F1 @3: 0.0435494433529797\n",
      "validation micro-F1 @3: 0.05525846702317291\n",
      "train micro-F1 @4: 0.05091649694501019\n",
      "validation micro-F1 @4: 0.06549520766773163\n",
      "train micro-F1 @5: 0.05404699738903394\n",
      "validation micro-F1 @5: 0.06609195402298851\n",
      "train micro-F1 @6: 0.05709547500592277\n",
      "validation micro-F1 @6: 0.07077326343381389\n",
      "train micro-F1 @7: 0.05962705984388551\n",
      "validation micro-F1 @7: 0.07729468599033816\n",
      "train micro-F1 @8: 0.06091471939285001\n",
      "validation micro-F1 @8: 0.07803790412486064\n",
      "train micro-F1 @9: 0.05868241372947038\n",
      "validation micro-F1 @9: 0.07755946225439504\n",
      "train micro-F1 @10: 0.06351397997928893\n",
      "validation micro-F1 @10: 0.07610789980732177\n"
     ]
    },
    {
     "name": "stderr",
     "output_type": "stream",
     "text": [
      "\r",
      "  1%|          | 48/4320 [04:28<8:32:17,  7.20s/it]"
     ]
    },
    {
     "name": "stdout",
     "output_type": "stream",
     "text": [
      "iter: 47, configuration: {'stop_words': None, 'svm_kernel': 'poly', 'svm_gamma': 0.3, 'nb_medoids_ratio': 0.2, 'medoid_normalization': 'standard', 'svm_c': 1, 'svm_degree': 3, 'norm': 'l1'}\n",
      "\n",
      "train micro-F1 @1: 0.021862702229995628\n",
      "validation micro-F1 @1: 0.03271028037383177\n",
      "train micro-F1 @2: 0.03678678678678678\n",
      "validation micro-F1 @2: 0.0486815415821501\n",
      "train micro-F1 @3: 0.04594683295044306\n",
      "validation micro-F1 @3: 0.059033989266547404\n",
      "train micro-F1 @4: 0.05183459522422831\n",
      "validation micro-F1 @4: 0.06549520766773163\n",
      "train micro-F1 @5: 0.05680628272251309\n",
      "validation micro-F1 @5: 0.06609195402298851\n",
      "train micro-F1 @6: 0.060109289617486336\n",
      "validation micro-F1 @6: 0.0735873850197109\n",
      "train micro-F1 @7: 0.06216039991306238\n",
      "validation micro-F1 @7: 0.07599517490952955\n",
      "train micro-F1 @8: 0.06282513005202081\n",
      "validation micro-F1 @8: 0.07683741648106904\n",
      "train micro-F1 @9: 0.06418104247820441\n",
      "validation micro-F1 @9: 0.07755946225439504\n",
      "train micro-F1 @10: 0.06979166666666667\n",
      "validation micro-F1 @10: 0.08131655372700872\n"
     ]
    },
    {
     "name": "stderr",
     "output_type": "stream",
     "text": [
      "\r",
      "  1%|          | 49/4320 [04:37<9:16:26,  7.82s/it]"
     ]
    },
    {
     "name": "stdout",
     "output_type": "stream",
     "text": [
      "iter: 48, configuration: {'stop_words': None, 'svm_kernel': 'poly', 'svm_gamma': 0.5, 'nb_medoids_ratio': 0.2, 'medoid_normalization': 'standard', 'svm_c': 1, 'svm_degree': 3, 'norm': 'l1'}\n",
      "\n",
      "train micro-F1 @1: 0.021416083916083916\n",
      "validation micro-F1 @1: 0.03271028037383177\n",
      "train micro-F1 @2: 0.03562054743157105\n",
      "validation micro-F1 @2: 0.0486815415821501\n",
      "train micro-F1 @3: 0.04491803278688525\n",
      "validation micro-F1 @3: 0.059033989266547404\n",
      "train micro-F1 @4: 0.051222351571594875\n",
      "validation micro-F1 @4: 0.06549520766773163\n",
      "train micro-F1 @5: 0.055148980658651335\n",
      "validation micro-F1 @5: 0.06609195402298851\n",
      "train micro-F1 @6: 0.05684509711037423\n",
      "validation micro-F1 @6: 0.07077326343381389\n",
      "train micro-F1 @7: 0.0603167715339553\n",
      "validation micro-F1 @7: 0.07729468599033816\n",
      "train micro-F1 @8: 0.06155075939248601\n",
      "validation micro-F1 @8: 0.07803790412486064\n",
      "train micro-F1 @9: 0.06280103742126714\n",
      "validation micro-F1 @9: 0.07755946225439504\n",
      "train micro-F1 @10: 0.06204756980351603\n",
      "validation micro-F1 @10: 0.07714561234329798\n"
     ]
    },
    {
     "name": "stderr",
     "output_type": "stream",
     "text": [
      "\r",
      "  1%|          | 50/4320 [04:45<9:28:52,  7.99s/it]"
     ]
    },
    {
     "name": "stdout",
     "output_type": "stream",
     "text": [
      "iter: 49, configuration: {'stop_words': None, 'svm_kernel': 'poly', 'svm_gamma': 1.0, 'nb_medoids_ratio': 0.2, 'medoid_normalization': 'standard', 'svm_c': 1, 'svm_degree': 3, 'norm': 'l1'}\n",
      "\n",
      "train micro-F1 @1: 0.01963350785340314\n",
      "validation micro-F1 @1: 0.03271028037383177\n",
      "train micro-F1 @2: 0.03484451105282878\n",
      "validation micro-F1 @2: 0.0486815415821501\n",
      "train micro-F1 @3: 0.042525351651946354\n",
      "validation micro-F1 @3: 0.05714285714285714\n",
      "train micro-F1 @4: 0.051222351571594875\n",
      "validation micro-F1 @4: 0.06549520766773163\n",
      "train micro-F1 @5: 0.05487326887901751\n",
      "validation micro-F1 @5: 0.06609195402298851\n",
      "train micro-F1 @6: 0.058349146110056926\n",
      "validation micro-F1 @6: 0.07217847769028872\n",
      "train micro-F1 @7: 0.06077707835901888\n",
      "validation micro-F1 @7: 0.07729468599033816\n",
      "train micro-F1 @8: 0.06133866133866134\n",
      "validation micro-F1 @8: 0.07683741648106904\n",
      "train micro-F1 @9: 0.06280103742126714\n",
      "validation micro-F1 @9: 0.07755946225439504\n",
      "train micro-F1 @10: 0.06369756602796478\n",
      "validation micro-F1 @10: 0.07610789980732177\n"
     ]
    },
    {
     "name": "stderr",
     "output_type": "stream",
     "text": [
      "\r",
      "  1%|          | 51/4320 [04:50<8:17:24,  6.99s/it]"
     ]
    },
    {
     "name": "stdout",
     "output_type": "stream",
     "text": [
      "iter: 50, configuration: {'stop_words': None, 'svm_kernel': 'poly', 'svm_gamma': 0.1, 'nb_medoids_ratio': 0.2, 'medoid_normalization': 'standard', 'svm_c': 1, 'svm_degree': 4, 'norm': 'l1'}\n",
      "\n",
      "train micro-F1 @1: 0.020969855832241154\n",
      "validation micro-F1 @1: 0.03271028037383177\n",
      "train micro-F1 @2: 0.03484451105282878\n",
      "validation micro-F1 @2: 0.0486815415821501\n",
      "train micro-F1 @3: 0.04491803278688525\n",
      "validation micro-F1 @3: 0.06093189964157706\n",
      "train micro-F1 @4: 0.05091649694501019\n",
      "validation micro-F1 @4: 0.06549520766773163\n",
      "train micro-F1 @5: 0.05459770114942529\n",
      "validation micro-F1 @5: 0.07380607814761216\n",
      "train micro-F1 @6: 0.058098174057386764\n",
      "validation micro-F1 @6: 0.0735873850197109\n",
      "train micro-F1 @7: 0.06077707835901888\n",
      "validation micro-F1 @7: 0.07729468599033816\n",
      "train micro-F1 @8: 0.0621875624875025\n",
      "validation micro-F1 @8: 0.07683741648106904\n",
      "train micro-F1 @9: 0.0633920296570899\n",
      "validation micro-F1 @9: 0.07755946225439504\n",
      "train micro-F1 @10: 0.06424870466321243\n",
      "validation micro-F1 @10: 0.08131655372700872\n"
     ]
    },
    {
     "ename": "KeyboardInterrupt",
     "evalue": "",
     "output_type": "error",
     "traceback": [
      "\u001b[0;31m---------------------------------------------------------------------------\u001b[0m",
      "\u001b[0;31mKeyboardInterrupt\u001b[0m                         Traceback (most recent call last)",
      "\u001b[0;32m<ipython-input-66-6bee30e61155>\u001b[0m in \u001b[0;36m<module>\u001b[0;34m()\u001b[0m\n\u001b[1;32m     68\u001b[0m \u001b[0;34m\u001b[0m\u001b[0m\n\u001b[1;32m     69\u001b[0m     \u001b[0;31m# y_train was defined outside the loop\u001b[0m\u001b[0;34m\u001b[0m\u001b[0;34m\u001b[0m\u001b[0m\n\u001b[0;32m---> 70\u001b[0;31m     \u001b[0mclf\u001b[0m\u001b[0;34m.\u001b[0m\u001b[0mfit\u001b[0m\u001b[0;34m(\u001b[0m\u001b[0mX_train_final\u001b[0m\u001b[0;34m,\u001b[0m\u001b[0mY_train\u001b[0m\u001b[0;34m)\u001b[0m\u001b[0;34m\u001b[0m\u001b[0m\n\u001b[0m\u001b[1;32m     71\u001b[0m \u001b[0;34m\u001b[0m\u001b[0m\n\u001b[1;32m     72\u001b[0m     \u001b[0;31m# train score\u001b[0m\u001b[0;34m\u001b[0m\u001b[0;34m\u001b[0m\u001b[0m\n",
      "\u001b[0;32m/home/felipe/tf-venv3/lib/python3.5/site-packages/sklearn/multiclass.py\u001b[0m in \u001b[0;36mfit\u001b[0;34m(self, X, y)\u001b[0m\n\u001b[1;32m    213\u001b[0m                 \u001b[0;34m\"not %s\"\u001b[0m \u001b[0;34m%\u001b[0m \u001b[0mself\u001b[0m\u001b[0;34m.\u001b[0m\u001b[0mlabel_binarizer_\u001b[0m\u001b[0;34m.\u001b[0m\u001b[0mclasses_\u001b[0m\u001b[0;34m[\u001b[0m\u001b[0mi\u001b[0m\u001b[0;34m]\u001b[0m\u001b[0;34m,\u001b[0m\u001b[0;34m\u001b[0m\u001b[0m\n\u001b[1;32m    214\u001b[0m                 self.label_binarizer_.classes_[i]])\n\u001b[0;32m--> 215\u001b[0;31m             for i, column in enumerate(columns))\n\u001b[0m\u001b[1;32m    216\u001b[0m \u001b[0;34m\u001b[0m\u001b[0m\n\u001b[1;32m    217\u001b[0m         \u001b[0;32mreturn\u001b[0m \u001b[0mself\u001b[0m\u001b[0;34m\u001b[0m\u001b[0m\n",
      "\u001b[0;32m/home/felipe/tf-venv3/lib/python3.5/site-packages/sklearn/externals/joblib/parallel.py\u001b[0m in \u001b[0;36m__call__\u001b[0;34m(self, iterable)\u001b[0m\n\u001b[1;32m    787\u001b[0m                 \u001b[0;31m# consumption.\u001b[0m\u001b[0;34m\u001b[0m\u001b[0;34m\u001b[0m\u001b[0m\n\u001b[1;32m    788\u001b[0m                 \u001b[0mself\u001b[0m\u001b[0;34m.\u001b[0m\u001b[0m_iterating\u001b[0m \u001b[0;34m=\u001b[0m \u001b[0;32mFalse\u001b[0m\u001b[0;34m\u001b[0m\u001b[0m\n\u001b[0;32m--> 789\u001b[0;31m             \u001b[0mself\u001b[0m\u001b[0;34m.\u001b[0m\u001b[0mretrieve\u001b[0m\u001b[0;34m(\u001b[0m\u001b[0;34m)\u001b[0m\u001b[0;34m\u001b[0m\u001b[0m\n\u001b[0m\u001b[1;32m    790\u001b[0m             \u001b[0;31m# Make sure that we get a last message telling us we are done\u001b[0m\u001b[0;34m\u001b[0m\u001b[0;34m\u001b[0m\u001b[0m\n\u001b[1;32m    791\u001b[0m             \u001b[0melapsed_time\u001b[0m \u001b[0;34m=\u001b[0m \u001b[0mtime\u001b[0m\u001b[0;34m.\u001b[0m\u001b[0mtime\u001b[0m\u001b[0;34m(\u001b[0m\u001b[0;34m)\u001b[0m \u001b[0;34m-\u001b[0m \u001b[0mself\u001b[0m\u001b[0;34m.\u001b[0m\u001b[0m_start_time\u001b[0m\u001b[0;34m\u001b[0m\u001b[0m\n",
      "\u001b[0;32m/home/felipe/tf-venv3/lib/python3.5/site-packages/sklearn/externals/joblib/parallel.py\u001b[0m in \u001b[0;36mretrieve\u001b[0;34m(self)\u001b[0m\n\u001b[1;32m    697\u001b[0m             \u001b[0;32mtry\u001b[0m\u001b[0;34m:\u001b[0m\u001b[0;34m\u001b[0m\u001b[0m\n\u001b[1;32m    698\u001b[0m                 \u001b[0;32mif\u001b[0m \u001b[0mgetattr\u001b[0m\u001b[0;34m(\u001b[0m\u001b[0mself\u001b[0m\u001b[0;34m.\u001b[0m\u001b[0m_backend\u001b[0m\u001b[0;34m,\u001b[0m \u001b[0;34m'supports_timeout'\u001b[0m\u001b[0;34m,\u001b[0m \u001b[0;32mFalse\u001b[0m\u001b[0;34m)\u001b[0m\u001b[0;34m:\u001b[0m\u001b[0;34m\u001b[0m\u001b[0m\n\u001b[0;32m--> 699\u001b[0;31m                     \u001b[0mself\u001b[0m\u001b[0;34m.\u001b[0m\u001b[0m_output\u001b[0m\u001b[0;34m.\u001b[0m\u001b[0mextend\u001b[0m\u001b[0;34m(\u001b[0m\u001b[0mjob\u001b[0m\u001b[0;34m.\u001b[0m\u001b[0mget\u001b[0m\u001b[0;34m(\u001b[0m\u001b[0mtimeout\u001b[0m\u001b[0;34m=\u001b[0m\u001b[0mself\u001b[0m\u001b[0;34m.\u001b[0m\u001b[0mtimeout\u001b[0m\u001b[0;34m)\u001b[0m\u001b[0;34m)\u001b[0m\u001b[0;34m\u001b[0m\u001b[0m\n\u001b[0m\u001b[1;32m    700\u001b[0m                 \u001b[0;32melse\u001b[0m\u001b[0;34m:\u001b[0m\u001b[0;34m\u001b[0m\u001b[0m\n\u001b[1;32m    701\u001b[0m                     \u001b[0mself\u001b[0m\u001b[0;34m.\u001b[0m\u001b[0m_output\u001b[0m\u001b[0;34m.\u001b[0m\u001b[0mextend\u001b[0m\u001b[0;34m(\u001b[0m\u001b[0mjob\u001b[0m\u001b[0;34m.\u001b[0m\u001b[0mget\u001b[0m\u001b[0;34m(\u001b[0m\u001b[0;34m)\u001b[0m\u001b[0;34m)\u001b[0m\u001b[0;34m\u001b[0m\u001b[0m\n",
      "\u001b[0;32m/usr/lib/python3.5/multiprocessing/pool.py\u001b[0m in \u001b[0;36mget\u001b[0;34m(self, timeout)\u001b[0m\n\u001b[1;32m    600\u001b[0m \u001b[0;34m\u001b[0m\u001b[0m\n\u001b[1;32m    601\u001b[0m     \u001b[0;32mdef\u001b[0m \u001b[0mget\u001b[0m\u001b[0;34m(\u001b[0m\u001b[0mself\u001b[0m\u001b[0;34m,\u001b[0m \u001b[0mtimeout\u001b[0m\u001b[0;34m=\u001b[0m\u001b[0;32mNone\u001b[0m\u001b[0;34m)\u001b[0m\u001b[0;34m:\u001b[0m\u001b[0;34m\u001b[0m\u001b[0m\n\u001b[0;32m--> 602\u001b[0;31m         \u001b[0mself\u001b[0m\u001b[0;34m.\u001b[0m\u001b[0mwait\u001b[0m\u001b[0;34m(\u001b[0m\u001b[0mtimeout\u001b[0m\u001b[0;34m)\u001b[0m\u001b[0;34m\u001b[0m\u001b[0m\n\u001b[0m\u001b[1;32m    603\u001b[0m         \u001b[0;32mif\u001b[0m \u001b[0;32mnot\u001b[0m \u001b[0mself\u001b[0m\u001b[0;34m.\u001b[0m\u001b[0mready\u001b[0m\u001b[0;34m(\u001b[0m\u001b[0;34m)\u001b[0m\u001b[0;34m:\u001b[0m\u001b[0;34m\u001b[0m\u001b[0m\n\u001b[1;32m    604\u001b[0m             \u001b[0;32mraise\u001b[0m \u001b[0mTimeoutError\u001b[0m\u001b[0;34m\u001b[0m\u001b[0m\n",
      "\u001b[0;32m/usr/lib/python3.5/multiprocessing/pool.py\u001b[0m in \u001b[0;36mwait\u001b[0;34m(self, timeout)\u001b[0m\n\u001b[1;32m    597\u001b[0m \u001b[0;34m\u001b[0m\u001b[0m\n\u001b[1;32m    598\u001b[0m     \u001b[0;32mdef\u001b[0m \u001b[0mwait\u001b[0m\u001b[0;34m(\u001b[0m\u001b[0mself\u001b[0m\u001b[0;34m,\u001b[0m \u001b[0mtimeout\u001b[0m\u001b[0;34m=\u001b[0m\u001b[0;32mNone\u001b[0m\u001b[0;34m)\u001b[0m\u001b[0;34m:\u001b[0m\u001b[0;34m\u001b[0m\u001b[0m\n\u001b[0;32m--> 599\u001b[0;31m         \u001b[0mself\u001b[0m\u001b[0;34m.\u001b[0m\u001b[0m_event\u001b[0m\u001b[0;34m.\u001b[0m\u001b[0mwait\u001b[0m\u001b[0;34m(\u001b[0m\u001b[0mtimeout\u001b[0m\u001b[0;34m)\u001b[0m\u001b[0;34m\u001b[0m\u001b[0m\n\u001b[0m\u001b[1;32m    600\u001b[0m \u001b[0;34m\u001b[0m\u001b[0m\n\u001b[1;32m    601\u001b[0m     \u001b[0;32mdef\u001b[0m \u001b[0mget\u001b[0m\u001b[0;34m(\u001b[0m\u001b[0mself\u001b[0m\u001b[0;34m,\u001b[0m \u001b[0mtimeout\u001b[0m\u001b[0;34m=\u001b[0m\u001b[0;32mNone\u001b[0m\u001b[0;34m)\u001b[0m\u001b[0;34m:\u001b[0m\u001b[0;34m\u001b[0m\u001b[0m\n",
      "\u001b[0;32m/usr/lib/python3.5/threading.py\u001b[0m in \u001b[0;36mwait\u001b[0;34m(self, timeout)\u001b[0m\n\u001b[1;32m    547\u001b[0m             \u001b[0msignaled\u001b[0m \u001b[0;34m=\u001b[0m \u001b[0mself\u001b[0m\u001b[0;34m.\u001b[0m\u001b[0m_flag\u001b[0m\u001b[0;34m\u001b[0m\u001b[0m\n\u001b[1;32m    548\u001b[0m             \u001b[0;32mif\u001b[0m \u001b[0;32mnot\u001b[0m \u001b[0msignaled\u001b[0m\u001b[0;34m:\u001b[0m\u001b[0;34m\u001b[0m\u001b[0m\n\u001b[0;32m--> 549\u001b[0;31m                 \u001b[0msignaled\u001b[0m \u001b[0;34m=\u001b[0m \u001b[0mself\u001b[0m\u001b[0;34m.\u001b[0m\u001b[0m_cond\u001b[0m\u001b[0;34m.\u001b[0m\u001b[0mwait\u001b[0m\u001b[0;34m(\u001b[0m\u001b[0mtimeout\u001b[0m\u001b[0;34m)\u001b[0m\u001b[0;34m\u001b[0m\u001b[0m\n\u001b[0m\u001b[1;32m    550\u001b[0m             \u001b[0;32mreturn\u001b[0m \u001b[0msignaled\u001b[0m\u001b[0;34m\u001b[0m\u001b[0m\n\u001b[1;32m    551\u001b[0m \u001b[0;34m\u001b[0m\u001b[0m\n",
      "\u001b[0;32m/usr/lib/python3.5/threading.py\u001b[0m in \u001b[0;36mwait\u001b[0;34m(self, timeout)\u001b[0m\n\u001b[1;32m    291\u001b[0m         \u001b[0;32mtry\u001b[0m\u001b[0;34m:\u001b[0m    \u001b[0;31m# restore state no matter what (e.g., KeyboardInterrupt)\u001b[0m\u001b[0;34m\u001b[0m\u001b[0m\n\u001b[1;32m    292\u001b[0m             \u001b[0;32mif\u001b[0m \u001b[0mtimeout\u001b[0m \u001b[0;32mis\u001b[0m \u001b[0;32mNone\u001b[0m\u001b[0;34m:\u001b[0m\u001b[0;34m\u001b[0m\u001b[0m\n\u001b[0;32m--> 293\u001b[0;31m                 \u001b[0mwaiter\u001b[0m\u001b[0;34m.\u001b[0m\u001b[0macquire\u001b[0m\u001b[0;34m(\u001b[0m\u001b[0;34m)\u001b[0m\u001b[0;34m\u001b[0m\u001b[0m\n\u001b[0m\u001b[1;32m    294\u001b[0m                 \u001b[0mgotit\u001b[0m \u001b[0;34m=\u001b[0m \u001b[0;32mTrue\u001b[0m\u001b[0;34m\u001b[0m\u001b[0m\n\u001b[1;32m    295\u001b[0m             \u001b[0;32melse\u001b[0m\u001b[0;34m:\u001b[0m\u001b[0;34m\u001b[0m\u001b[0m\n",
      "\u001b[0;31mKeyboardInterrupt\u001b[0m: "
     ]
    }
   ],
   "source": [
    "best_score = float(\"-inf\")\n",
    "best_configuration = None\n",
    "\n",
    "for (i,configuration) in enumerate(tqdm(ParameterGrid(parameters))):\n",
    "    \n",
    "    # TFIDF_VECTORIZER = COUNT_VECTORIZER + TFIDF_TRANSFORMER\n",
    "    tfidf_vectorizer = TfidfVectorizer(max_features=MAX_NB_WORDS, \n",
    "                                       preprocessor=PREPROC, \n",
    "                                       stop_words=configuration['stop_words'],\n",
    "                                       norm = configuration['norm'])\n",
    "    \n",
    "    # TRAINING SET\n",
    "    tfidf_vectorizer.fit(documents)\n",
    "    tfidf_segments_train = vectorize_segments(segments_train, tfidf_vectorizer)\n",
    "    \n",
    "    \n",
    "    # THE FOLLOWING BLOCK TAKES SOME TIME, BUT IT WILL ONLY RUN ONCE\n",
    "    norm = configuration['norm']\n",
    "    stop_words = configuration['stop_words']\n",
    "    \n",
    "    path_to_cache = INTERIM_DATA_ROOT.rstrip('/') + \"/mimlsvm/distance-matrix-train-sample-{}-{}-{}.p\".format(\n",
    "        NB_DOCS,\n",
    "        norm,\n",
    "        stop_words)\n",
    "    \n",
    "    if os.path.isfile(path_to_cache):\n",
    "        dist_matrix_train = pickle.load(open(path_to_cache,\"rb\"))\n",
    "    else:\n",
    "        print('Fitting distance matrix for norm={} and stop_words={}'.format(norm,stop_words))\n",
    "        \n",
    "        dist_matrix_train = make_distance_matrix_for_segments(tfidf_segments_train)\n",
    "        pickle.dump(dist_matrix_train, open(path_to_cache, \"wb\"))\n",
    "    \n",
    "    # nb_medoids depends upon the dataset length\n",
    "    ratio = configuration['nb_medoids_ratio']\n",
    "    nb_medoids = int(len(tfidf_segments_train) * ratio)\n",
    "    \n",
    "    medoids_indices_train = k_medoids(dist_matrix_train,nb_medoids)[0]\n",
    "\n",
    "    X_train = make_train_dataset(dist_matrix_train,medoids_indices_train)\n",
    "    \n",
    "    # TEST SET\n",
    "    \n",
    "    tfidf_segments_test = vectorize_segments(segments_test, tfidf_vectorizer)\n",
    "    # medoids trained on the training set\n",
    "    fitted_medoids = tfidf_segments_train[medoids_indices_train]\n",
    "    X_test = make_test_dataset(tfidf_segments_test,fitted_medoids)\n",
    "    \n",
    "    # RUNNING\n",
    "    if configuration['medoid_normalization'] == 'standard':      \n",
    "        scaler = StandardScaler()\n",
    "        X_train_final = scaler.fit_transform(X_train)\n",
    "        X_test_final = scaler.transform(X_test)\n",
    "    elif configuration['medoid_normalization'] == 'minmax':\n",
    "        scaler = MinMaxScaler()\n",
    "        X_train_final = scaler.fit_transform(X_train)\n",
    "        X_test_final = scaler.transform(X_test)\n",
    "    else:\n",
    "        X_train_final = X_train\n",
    "        X_test_final = X_test\n",
    "    \n",
    "    clf = OneVsRestClassifier(\n",
    "        SVC(kernel=configuration['svm_kernel'],\n",
    "            gamma=configuration['svm_gamma'],\n",
    "            C=configuration['svm_c'],\n",
    "            degree=configuration['svm_degree'],\n",
    "            probability=True,\n",
    "           ),n_jobs=-1)    \n",
    "        \n",
    "    # y_train was defined outside the loop    \n",
    "    clf.fit(X_train_final,Y_train)\n",
    "    \n",
    "    # train score\n",
    "    Y_pred_train = clf.predict_proba(X_train_final)\n",
    "    \n",
    "    # validation score\n",
    "    Y_pred_test = clf.predict_proba(X_test_final)  \n",
    "    \n",
    "    print(\"iter: {}, configuration: {}\\n\".format(i,configuration))\n",
    "    \n",
    "\n",
    "    ks = [1,2,3,4,5,6,7,8,9,10]\n",
    "\n",
    "    for k in ks:\n",
    "        print(\"train micro-F1 @{}: {}\".format(k,ranking.micro_f1_at_k(Y_train,Y_pred_train,k=k)))\n",
    "        print(\"validation micro-F1 @{}: {}\".format(k,ranking.micro_f1_at_k(Y_test,Y_pred_test,k=k)))    "
   ]
  },
  {
   "cell_type": "code",
   "execution_count": null,
   "metadata": {
    "collapsed": true
   },
   "outputs": [],
   "source": []
  }
 ],
 "metadata": {
  "kernelspec": {
   "display_name": "Global TF Kernel (Python 3)",
   "language": "python",
   "name": "global-tf-python-3"
  },
  "language_info": {
   "codemirror_mode": {
    "name": "ipython",
    "version": 3
   },
   "file_extension": ".py",
   "mimetype": "text/x-python",
   "name": "python",
   "nbconvert_exporter": "python",
   "pygments_lexer": "ipython3",
   "version": "3.5.2"
  }
 },
 "nbformat": 4,
 "nbformat_minor": 2
}
