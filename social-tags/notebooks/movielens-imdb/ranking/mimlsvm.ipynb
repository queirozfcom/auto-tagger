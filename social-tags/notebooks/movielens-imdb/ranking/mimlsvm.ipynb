{
 "cells": [
  {
   "cell_type": "markdown",
   "metadata": {},
   "source": [
    "## mimlsvm\n",
    "\n",
    "mi = mulit-instance\n",
    "ml = multi-label\n",
    "svm = svm\n",
    "\n",
    "As described in Shen et al 2009: http://ieeexplore.ieee.org/document/5346261/\n",
    "\n",
    "> Should we use SVM-struct instead? https://github.com/pystruct/pystruct\n"
   ]
  },
  {
   "cell_type": "code",
   "execution_count": 1,
   "metadata": {},
   "outputs": [],
   "source": [
    "import pandas as pd\n",
    "import numpy as np\n",
    "import matplotlib.pyplot as plt\n",
    "import gc\n",
    "import nltk\n",
    "import os\n",
    "import re\n",
    "import pickle\n",
    "import sklearn\n",
    "import sys\n",
    "import string\n",
    "\n",
    "from hausdorff import hausdorff\n",
    "\n",
    "from nltk import TextTilingTokenizer\n",
    "from scipy.spatial.distance  import directed_hausdorff, pdist\n",
    "\n",
    "from sklearn.metrics import f1_score, precision_score, recall_score\n",
    "from sklearn.model_selection import cross_val_score, GridSearchCV,ParameterGrid, train_test_split\n",
    "from sklearn.multiclass import OneVsRestClassifier\n",
    "from sklearn.preprocessing import MultiLabelBinarizer, StandardScaler,MinMaxScaler\n",
    "from sklearn.feature_extraction.text import CountVectorizer\n",
    "from sklearn.feature_extraction.text import TfidfTransformer,TfidfVectorizer\n",
    "from sklearn.svm import SVC\n",
    "\n",
    "from tqdm import *\n",
    "\n",
    "%matplotlib inline\n",
    "%load_ext autoreload\n",
    "%autoreload 1"
   ]
  },
  {
   "cell_type": "code",
   "execution_count": 2,
   "metadata": {},
   "outputs": [],
   "source": [
    "src_dir = os.path.join(os.getcwd(), os.pardir, '../../')\n",
    "sys.path.append(src_dir)"
   ]
  },
  {
   "cell_type": "code",
   "execution_count": 3,
   "metadata": {},
   "outputs": [],
   "source": [
    "%aimport src.data.movielens_20m_imdb\n",
    "%aimport src.helpers.labels,src.helpers.neighbours, src.helpers.segments\n",
    "%aimport src.utils.dataframes, src.utils.clusters, src.utils.metrics"
   ]
  },
  {
   "cell_type": "code",
   "execution_count": 4,
   "metadata": {},
   "outputs": [],
   "source": [
    "from src.data.movielens_20m_imdb import load_df_or_get_from_cache\n",
    "from src.helpers.labels import truncate_labels\n",
    "from src.helpers.neighbours import get_predicted_labels_from_neighbours\n",
    "from src.helpers.segments import make_distance_matrix_for_segments,vectorize_segments\n",
    "\n",
    "from src.utils.dataframes import sample_rows\n",
    "from src.utils.metrics import ranking\n",
    "from src.utils.clusters import k_medoids"
   ]
  },
  {
   "cell_type": "code",
   "execution_count": 5,
   "metadata": {},
   "outputs": [],
   "source": [
    "MODELS_ROOT = os.path.abspath(\"../../../models/ranking/movielens-ovr-linear-svc-calibrated/\")\n",
    "INTERIM_DATA_ROOT = os.path.abspath(\"../../../data/interim/movielens-ml20m-imdb/\")\n",
    "PATH_TO_PROCESSED_FILE = os.path.abspath('../../../data/processed/movielens-20m-imdb-tags-and-synopses-2017-12-20.csv')\n",
    "\n",
    "# CONFIGS\n",
    "\n",
    "SEED= 42\n",
    "MAX_NB_WORDS = 300\n",
    "NB_DOCS=0.2\n",
    "MIN_TAG_DF=10\n",
    "\n",
    "# preprocessing\n",
    "\n",
    "VECTORIZER_NORM = ['l1','l2',None]\n",
    "\n",
    "W=20 # Pseudosentence size (in words) - not specified in the paper, taken from TextTiling default values\n",
    "K=10 # Size (in sentences) of the block used in the block comparison method - not specified in the paper, taken from TextTiling default values\n",
    "\n",
    "# calculating medoids\n",
    "NORMALIZATION = ['standard','minmax',None] # not specified in the paper\n",
    "SAMPLE_TO_NB_MEDOIDS_RATIO = [0.2,0.3,0.4] # not specified in the paper, but taken from MIMLSVM canonical implementation\n",
    "\n",
    "# classification\n",
    "SVM_KERNEL=['rbf','linear','poly'] # not specified in the paper, but taken from MIMLSVM canonical implementation\n",
    "SVM_GAMMA=[0.1,0.2,0.3,0.5,1.0,'auto'] # not specified in the paper, but taken from MIMLSVM canonical implementation\n",
    "SVM_C= [0.001,0.01,0.1,1]# not specified in the paper, but taken from MIMLSVM canonical implementation\n",
    "SVM_DEGREE=[3,4,5]"
   ]
  },
  {
   "cell_type": "code",
   "execution_count": 6,
   "metadata": {},
   "outputs": [],
   "source": [
    "docs_df = load_df_or_get_from_cache(PATH_TO_PROCESSED_FILE,INTERIM_DATA_ROOT)"
   ]
  },
  {
   "cell_type": "code",
   "execution_count": 7,
   "metadata": {},
   "outputs": [],
   "source": [
    "sentence_tokenizer = nltk.data.load('tokenizers/punkt/english.pickle')"
   ]
  },
  {
   "cell_type": "code",
   "execution_count": 8,
   "metadata": {},
   "outputs": [],
   "source": [
    "# remove this for production\n",
    "docs_df = sample_rows(docs_df,NB_DOCS)"
   ]
  },
  {
   "cell_type": "code",
   "execution_count": 9,
   "metadata": {},
   "outputs": [],
   "source": [
    "docs_df['sentences'] = docs_df['synopsis'].map(lambda row: sentence_tokenizer.tokenize(row))"
   ]
  },
  {
   "cell_type": "code",
   "execution_count": 10,
   "metadata": {},
   "outputs": [
    {
     "name": "stdout",
     "output_type": "stream",
     "text": [
      "CPU times: user 4 ms, sys: 0 ns, total: 4 ms\n",
      "Wall time: 1.43 ms\n"
     ]
    }
   ],
   "source": [
    "%%time\n",
    "docs_df['num_sentences'] = docs_df['sentences'].map( lambda sents: len(sents))"
   ]
  },
  {
   "cell_type": "code",
   "execution_count": 11,
   "metadata": {},
   "outputs": [
    {
     "data": {
      "text/html": [
       "<div>\n",
       "<style>\n",
       "    .dataframe thead tr:only-child th {\n",
       "        text-align: right;\n",
       "    }\n",
       "\n",
       "    .dataframe thead th {\n",
       "        text-align: left;\n",
       "    }\n",
       "\n",
       "    .dataframe tbody tr th {\n",
       "        vertical-align: top;\n",
       "    }\n",
       "</style>\n",
       "<table border=\"1\" class=\"dataframe\">\n",
       "  <thead>\n",
       "    <tr style=\"text-align: right;\">\n",
       "      <th></th>\n",
       "      <th>movie_id</th>\n",
       "      <th>title</th>\n",
       "      <th>synopsis</th>\n",
       "      <th>tags</th>\n",
       "      <th>num_tags</th>\n",
       "      <th>sentences</th>\n",
       "      <th>num_sentences</th>\n",
       "    </tr>\n",
       "  </thead>\n",
       "  <tbody>\n",
       "    <tr>\n",
       "      <th>0</th>\n",
       "      <td>5154</td>\n",
       "      <td>Arena, The (a.k.a. Naked Warriors) (1974)</td>\n",
       "      <td>In ancient Rome audiences have grown tired of ...</td>\n",
       "      <td>rome,nudity-full-frontal,sword-and-sandal,nudi...</td>\n",
       "      <td>9</td>\n",
       "      <td>[In ancient Rome audiences have grown tired of...</td>\n",
       "      <td>3</td>\n",
       "    </tr>\n",
       "    <tr>\n",
       "      <th>1</th>\n",
       "      <td>2141</td>\n",
       "      <td>American Tail, An (1986)</td>\n",
       "      <td>The film begins in the small Russian village o...</td>\n",
       "      <td>can't-remember,animated,immigrants,cartoon</td>\n",
       "      <td>4</td>\n",
       "      <td>[The film begins in the small Russian village ...</td>\n",
       "      <td>156</td>\n",
       "    </tr>\n",
       "    <tr>\n",
       "      <th>2</th>\n",
       "      <td>32385</td>\n",
       "      <td>Toolbox Murders, The (1978)</td>\n",
       "      <td>A person is driving around Los Angeles at nigh...</td>\n",
       "      <td>remade,betamax</td>\n",
       "      <td>2</td>\n",
       "      <td>[A person is driving around Los Angeles at nig...</td>\n",
       "      <td>73</td>\n",
       "    </tr>\n",
       "    <tr>\n",
       "      <th>3</th>\n",
       "      <td>124224</td>\n",
       "      <td>Whistling in Brooklyn (1943)</td>\n",
       "      <td>Red Skelton filmed a series of these \"whistlin...</td>\n",
       "      <td>bd-r</td>\n",
       "      <td>1</td>\n",
       "      <td>[Red Skelton filmed a series of these \"whistli...</td>\n",
       "      <td>7</td>\n",
       "    </tr>\n",
       "    <tr>\n",
       "      <th>4</th>\n",
       "      <td>8781</td>\n",
       "      <td>Manchurian Candidate, The (2004)</td>\n",
       "      <td>This is a remake of the 1962 thriller of soldi...</td>\n",
       "      <td>bibliothek,ei-muista,brainwashing,assassin,cor...</td>\n",
       "      <td>16</td>\n",
       "      <td>[This is a remake of the 1962 thriller of sold...</td>\n",
       "      <td>10</td>\n",
       "    </tr>\n",
       "  </tbody>\n",
       "</table>\n",
       "</div>"
      ],
      "text/plain": [
       "   movie_id                                      title  \\\n",
       "0      5154  Arena, The (a.k.a. Naked Warriors) (1974)   \n",
       "1      2141                   American Tail, An (1986)   \n",
       "2     32385                Toolbox Murders, The (1978)   \n",
       "3    124224               Whistling in Brooklyn (1943)   \n",
       "4      8781           Manchurian Candidate, The (2004)   \n",
       "\n",
       "                                            synopsis  \\\n",
       "0  In ancient Rome audiences have grown tired of ...   \n",
       "1  The film begins in the small Russian village o...   \n",
       "2  A person is driving around Los Angeles at nigh...   \n",
       "3  Red Skelton filmed a series of these \"whistlin...   \n",
       "4  This is a remake of the 1962 thriller of soldi...   \n",
       "\n",
       "                                                tags  num_tags  \\\n",
       "0  rome,nudity-full-frontal,sword-and-sandal,nudi...         9   \n",
       "1         can't-remember,animated,immigrants,cartoon         4   \n",
       "2                                     remade,betamax         2   \n",
       "3                                               bd-r         1   \n",
       "4  bibliothek,ei-muista,brainwashing,assassin,cor...        16   \n",
       "\n",
       "                                           sentences  num_sentences  \n",
       "0  [In ancient Rome audiences have grown tired of...              3  \n",
       "1  [The film begins in the small Russian village ...            156  \n",
       "2  [A person is driving around Los Angeles at nig...             73  \n",
       "3  [Red Skelton filmed a series of these \"whistli...              7  \n",
       "4  [This is a remake of the 1962 thriller of sold...             10  "
      ]
     },
     "execution_count": 11,
     "metadata": {},
     "output_type": "execute_result"
    }
   ],
   "source": [
    "docs_df.head()"
   ]
  },
  {
   "cell_type": "code",
   "execution_count": 12,
   "metadata": {},
   "outputs": [
    {
     "data": {
      "text/plain": [
       "['In ancient Rome audiences have grown tired of viewing gladiators fight to the death.',\n",
       " 'Something new is needed--women!',\n",
       " '(Josiah Howard, \"Blaxploitation cinema: The Essential Reference Gudie.\")']"
      ]
     },
     "execution_count": 12,
     "metadata": {},
     "output_type": "execute_result"
    }
   ],
   "source": [
    "docs_df.iloc[0]['sentences']"
   ]
  },
  {
   "cell_type": "code",
   "execution_count": 13,
   "metadata": {},
   "outputs": [
    {
     "data": {
      "text/html": [
       "<div>\n",
       "<style>\n",
       "    .dataframe thead tr:only-child th {\n",
       "        text-align: right;\n",
       "    }\n",
       "\n",
       "    .dataframe thead th {\n",
       "        text-align: left;\n",
       "    }\n",
       "\n",
       "    .dataframe tbody tr th {\n",
       "        vertical-align: top;\n",
       "    }\n",
       "</style>\n",
       "<table border=\"1\" class=\"dataframe\">\n",
       "  <thead>\n",
       "    <tr style=\"text-align: right;\">\n",
       "      <th></th>\n",
       "      <th>movie_id</th>\n",
       "      <th>num_tags</th>\n",
       "      <th>num_sentences</th>\n",
       "    </tr>\n",
       "  </thead>\n",
       "  <tbody>\n",
       "    <tr>\n",
       "      <th>count</th>\n",
       "      <td>1342.000000</td>\n",
       "      <td>1342.000000</td>\n",
       "      <td>1342.000000</td>\n",
       "    </tr>\n",
       "    <tr>\n",
       "      <th>mean</th>\n",
       "      <td>42235.264531</td>\n",
       "      <td>11.923249</td>\n",
       "      <td>57.635618</td>\n",
       "    </tr>\n",
       "    <tr>\n",
       "      <th>std</th>\n",
       "      <td>39860.198123</td>\n",
       "      <td>13.463600</td>\n",
       "      <td>77.233093</td>\n",
       "    </tr>\n",
       "    <tr>\n",
       "      <th>min</th>\n",
       "      <td>7.000000</td>\n",
       "      <td>1.000000</td>\n",
       "      <td>1.000000</td>\n",
       "    </tr>\n",
       "    <tr>\n",
       "      <th>25%</th>\n",
       "      <td>4166.750000</td>\n",
       "      <td>3.000000</td>\n",
       "      <td>13.000000</td>\n",
       "    </tr>\n",
       "    <tr>\n",
       "      <th>50%</th>\n",
       "      <td>33101.000000</td>\n",
       "      <td>7.000000</td>\n",
       "      <td>36.000000</td>\n",
       "    </tr>\n",
       "    <tr>\n",
       "      <th>75%</th>\n",
       "      <td>78040.500000</td>\n",
       "      <td>16.000000</td>\n",
       "      <td>69.000000</td>\n",
       "    </tr>\n",
       "    <tr>\n",
       "      <th>max</th>\n",
       "      <td>128632.000000</td>\n",
       "      <td>101.000000</td>\n",
       "      <td>1136.000000</td>\n",
       "    </tr>\n",
       "  </tbody>\n",
       "</table>\n",
       "</div>"
      ],
      "text/plain": [
       "            movie_id     num_tags  num_sentences\n",
       "count    1342.000000  1342.000000    1342.000000\n",
       "mean    42235.264531    11.923249      57.635618\n",
       "std     39860.198123    13.463600      77.233093\n",
       "min         7.000000     1.000000       1.000000\n",
       "25%      4166.750000     3.000000      13.000000\n",
       "50%     33101.000000     7.000000      36.000000\n",
       "75%     78040.500000    16.000000      69.000000\n",
       "max    128632.000000   101.000000    1136.000000"
      ]
     },
     "execution_count": 13,
     "metadata": {},
     "output_type": "execute_result"
    }
   ],
   "source": [
    "docs_df.describe()"
   ]
  },
  {
   "cell_type": "code",
   "execution_count": 14,
   "metadata": {},
   "outputs": [],
   "source": [
    "tok = TextTilingTokenizer(w=W, k=K)"
   ]
  },
  {
   "cell_type": "code",
   "execution_count": 15,
   "metadata": {},
   "outputs": [],
   "source": [
    "def extract_segments(candidates):\n",
    "    \n",
    "    try:\n",
    "        # we must manually insert \"\\n\\n\" because this is how \n",
    "        # texttilingtokenizer requires candidate boundaries to be \n",
    "        # represented.\n",
    "        segments = tok.tokenize(\"\\n\\n\".join(candidates))\n",
    "    except ValueError:\n",
    "        # this happens when the candidate list is too small for the \n",
    "        # text tiling tokenizer to be able to find segments. so just return\n",
    "        # the original sentences.\n",
    "        segments= candidates\n",
    "        \n",
    "    # now remove the artificially added chars\n",
    "    segments = [segment.replace(\"\\n\\n\",\" \").strip() for segment in segments]\n",
    "    \n",
    "    return segments"
   ]
  },
  {
   "cell_type": "code",
   "execution_count": 16,
   "metadata": {},
   "outputs": [
    {
     "name": "stdout",
     "output_type": "stream",
     "text": [
      "CPU times: user 10min 22s, sys: 0 ns, total: 10min 22s\n",
      "Wall time: 10min 21s\n"
     ]
    }
   ],
   "source": [
    "%%time\n",
    "docs_df['segments'] = docs_df['sentences'].map(lambda candidates: extract_segments(candidates))"
   ]
  },
  {
   "cell_type": "code",
   "execution_count": 17,
   "metadata": {},
   "outputs": [
    {
     "data": {
      "text/plain": [
       "['In ancient Rome audiences have grown tired of viewing gladiators fight to the death.',\n",
       " 'Something new is needed--women!',\n",
       " '(Josiah Howard, \"Blaxploitation cinema: The Essential Reference Gudie.\")']"
      ]
     },
     "execution_count": 17,
     "metadata": {},
     "output_type": "execute_result"
    }
   ],
   "source": [
    "docs_df['segments'][0][:3]"
   ]
  },
  {
   "cell_type": "code",
   "execution_count": 18,
   "metadata": {},
   "outputs": [],
   "source": [
    "segments = docs_df['segments'].values\n",
    "documents = docs_df['synopsis'].values\n",
    "labels = docs_df[\"tags\"].map(lambda tagstring: tagstring.split(\",\"))"
   ]
  },
  {
   "cell_type": "code",
   "execution_count": 19,
   "metadata": {},
   "outputs": [],
   "source": [
    "# remove for production\n",
    "labels = truncate_labels(labels,MIN_TAG_DF)"
   ]
  },
  {
   "cell_type": "code",
   "execution_count": 20,
   "metadata": {},
   "outputs": [],
   "source": [
    "def make_train_dataset(distance_matrix, medoid_indices):\n",
    "    \"\"\"\n",
    "    Returns a matrix where element Aij contains the distance from sample i to medoid j.\n",
    "\n",
    "    :param distance_matrix: MxM matrix with pairwise distances\n",
    "    :param medoid_indices: array of length N containing the indices of the medoids for each cluster\n",
    "    :return: distances to medoids (MxN matrix)\n",
    "    \"\"\"\n",
    "\n",
    "    return distance_matrix[:,medoid_indices]"
   ]
  },
  {
   "cell_type": "code",
   "execution_count": 21,
   "metadata": {},
   "outputs": [],
   "source": [
    "def make_test_dataset(source_vectorized_segments, medoid_vectorized_segments):\n",
    "    \"\"\"\n",
    "    Calculates the distances from every source_document (reprsented by its segments) to every medoid\n",
    "    document (also represented by its segments) using the hausdorff distance.\n",
    "    \n",
    "    Returns a matrix where element Aij contains the distance from sample i to medoid j.\n",
    "\n",
    "    :param source_vectorized_segments: array of length M, where each element is a matrix with one row\n",
    "        for every segment in a source document\n",
    "    :param medoid_vectorized_segments: array of length N where each element is a matrix with one row\n",
    "        for every segment in a medoid document\n",
    "    :return: distances to medoids (MxN matrix)\n",
    "    \"\"\"\n",
    "    \n",
    "    num_test_samples = len(source_vectorized_segments)\n",
    "    num_medoids = len(medoid_vectorized_segments)\n",
    "    \n",
    "    test_dataset = np.zeros((num_test_samples,num_medoids))    \n",
    "    \n",
    "    for i,source_segments in enumerate(source_vectorized_segments):\n",
    "        for j,medoid_segments in enumerate(medoid_vectorized_segments):\n",
    "            test_dataset[i][j] = hausdorff(source_segments.toarray(),medoid_segments.toarray())\n",
    "            \n",
    "    return np.array(test_dataset)"
   ]
  },
  {
   "cell_type": "code",
   "execution_count": 22,
   "metadata": {},
   "outputs": [
    {
     "name": "stdout",
     "output_type": "stream",
     "text": [
      "total number of train documents: 1140\n",
      "total number of validation documents: 202\n"
     ]
    }
   ],
   "source": [
    "# segments, documents and labelsets are defined outside of the parameterGrid loop\n",
    "# because they're the same for every configuration    \n",
    "segments_train, segments_test, documents_train, documents_test, Y_train, Y_test = train_test_split(segments,\n",
    "                                                                                               documents,\n",
    "                                                                                               labels,\n",
    "                                                                                               test_size=0.15)\n",
    "\n",
    "print('total number of train documents: {}'.format(len(documents_train)))\n",
    "print('total number of validation documents: {}'.format(len(documents_test)))"
   ]
  },
  {
   "cell_type": "code",
   "execution_count": 23,
   "metadata": {},
   "outputs": [
    {
     "name": "stdout",
     "output_type": "stream",
     "text": [
      "total number of unique tags: 404 \n"
     ]
    }
   ],
   "source": [
    "mlb = MultiLabelBinarizer()\n",
    "\n",
    "\n",
    "# the binarizer needs to be fit on all labels\n",
    "mlb = MultiLabelBinarizer()\n",
    "mlb.fit(labels)\n",
    "\n",
    "Y_train = mlb.transform(Y_train)\n",
    "Y_test = mlb.transform(Y_test)\n",
    "\n",
    "print(\"total number of unique tags: {} \".format(len(mlb.classes_)))"
   ]
  },
  {
   "cell_type": "code",
   "execution_count": 24,
   "metadata": {},
   "outputs": [],
   "source": [
    "\n",
    "parameters = [\n",
    "    {\n",
    "        'medoid_normalization':  NORMALIZATION,\n",
    "        'svm_kernel': ['rbf','poly'],\n",
    "        'svm_gamma': SVM_GAMMA,\n",
    "        'svm_c':SVM_C,\n",
    "        'svm_degree' :SVM_DEGREE,\n",
    "        'vectorizer_norm': VECTORIZER_NORM,\n",
    "        'nb_medoids_ratio': SAMPLE_TO_NB_MEDOIDS_RATIO\n",
    "    },\n",
    "    {\n",
    "        'medoid_normalization':  NORMALIZATION,\n",
    "        'svm_kernel': ['linear'],\n",
    "        'svm_gamma': SVM_GAMMA,\n",
    "        'svm_c':SVM_C,\n",
    "        'svm_degree' :[None],\n",
    "        'vectorizer_norm': VECTORIZER_NORM,\n",
    "        'nb_medoids_ratio': SAMPLE_TO_NB_MEDOIDS_RATIO\n",
    "    }\n",
    "]\n",
    "\n",
    "\n"
   ]
  },
  {
   "cell_type": "code",
   "execution_count": 25,
   "metadata": {},
   "outputs": [
    {
     "name": "stdout",
     "output_type": "stream",
     "text": [
      "total number of configurations to test: 4536\n"
     ]
    }
   ],
   "source": [
    "print('total number of configurations to test: {}'.format(len(ParameterGrid(parameters))))"
   ]
  },
  {
   "cell_type": "code",
   "execution_count": null,
   "metadata": {
    "scrolled": false
   },
   "outputs": [
    {
     "name": "stderr",
     "output_type": "stream",
     "text": [
      "\r",
      "  0%|          | 0/4536 [00:00<?, ?it/s]"
     ]
    },
    {
     "name": "stdout",
     "output_type": "stream",
     "text": [
      "Fitting distance matrix for norm=l1\n"
     ]
    },
    {
     "name": "stderr",
     "output_type": "stream",
     "text": [
      "\r",
      "  0%|          | 1/4536 [05:30<416:36:52, 330.72s/it]"
     ]
    },
    {
     "name": "stdout",
     "output_type": "stream",
     "text": [
      "iter: 0, configuration: {'vectorizer_norm': 'l1', 'svm_degree': 3, 'medoid_normalization': 'standard', 'svm_kernel': 'rbf', 'nb_medoids_ratio': 0.2, 'svm_gamma': 0.1, 'svm_c': 0.001}\n",
      "\n",
      "validation micro-F1 @1: 0.0049504950495049506\n",
      "validation micro-F1 @2: 0.01485148514851485\n",
      "validation micro-F1 @3: 0.009900990099009901\n",
      "validation micro-F1 @4: 0.012376237623762377\n",
      "validation micro-F1 @5: 0.01089108910891089\n",
      "validation micro-F1 @6: 0.009900990099009901\n",
      "validation micro-F1 @7: 0.009900990099009901\n",
      "validation micro-F1 @8: 0.008663366336633664\n",
      "validation micro-F1 @9: 0.00935093509350935\n",
      "validation micro-F1 @10: 0.009900990099009901\n",
      "Fitting distance matrix for norm=l2\n"
     ]
    },
    {
     "name": "stderr",
     "output_type": "stream",
     "text": [
      "\r",
      "  0%|          | 2/4536 [11:06<419:58:29, 333.46s/it]"
     ]
    },
    {
     "name": "stdout",
     "output_type": "stream",
     "text": [
      "iter: 1, configuration: {'vectorizer_norm': 'l2', 'svm_degree': 3, 'medoid_normalization': 'standard', 'svm_kernel': 'rbf', 'nb_medoids_ratio': 0.2, 'svm_gamma': 0.1, 'svm_c': 0.001}\n",
      "\n",
      "validation micro-F1 @1: 0.0049504950495049506\n",
      "validation micro-F1 @2: 0.009900990099009901\n",
      "validation micro-F1 @3: 0.01485148514851485\n",
      "validation micro-F1 @4: 0.01608910891089109\n",
      "validation micro-F1 @5: 0.02178217821782178\n",
      "validation micro-F1 @6: 0.026402640264026403\n",
      "validation micro-F1 @7: 0.03748231966053748\n",
      "validation micro-F1 @8: 0.04455445544554455\n",
      "validation micro-F1 @9: 0.048954895489548955\n",
      "validation micro-F1 @10: 0.05099009900990099\n",
      "Fitting distance matrix for norm=None\n"
     ]
    },
    {
     "name": "stderr",
     "output_type": "stream",
     "text": [
      "\r",
      "  0%|          | 3/4536 [16:36<418:13:03, 332.14s/it]"
     ]
    },
    {
     "name": "stdout",
     "output_type": "stream",
     "text": [
      "iter: 2, configuration: {'vectorizer_norm': None, 'svm_degree': 3, 'medoid_normalization': 'standard', 'svm_kernel': 'rbf', 'nb_medoids_ratio': 0.2, 'svm_gamma': 0.1, 'svm_c': 0.001}\n",
      "\n",
      "validation micro-F1 @1: 0.13366336633663367\n",
      "validation micro-F1 @2: 0.14603960396039603\n",
      "validation micro-F1 @3: 0.12706270627062707\n",
      "validation micro-F1 @4: 0.11386138613861387\n",
      "validation micro-F1 @5: 0.10594059405940594\n",
      "validation micro-F1 @6: 0.09900990099009901\n",
      "validation micro-F1 @7: 0.10183875530410184\n",
      "validation micro-F1 @8: 0.09962871287128713\n",
      "validation micro-F1 @9: 0.09900990099009901\n",
      "validation micro-F1 @10: 0.09405940594059406\n"
     ]
    },
    {
     "name": "stderr",
     "output_type": "stream",
     "text": [
      "\r",
      "  0%|          | 4/4536 [17:09<324:02:17, 257.40s/it]"
     ]
    },
    {
     "name": "stdout",
     "output_type": "stream",
     "text": [
      "iter: 3, configuration: {'vectorizer_norm': 'l1', 'svm_degree': 3, 'medoid_normalization': 'standard', 'svm_kernel': 'poly', 'nb_medoids_ratio': 0.2, 'svm_gamma': 0.1, 'svm_c': 0.001}\n",
      "\n",
      "validation micro-F1 @1: 0.07920792079207921\n",
      "validation micro-F1 @2: 0.0891089108910891\n",
      "validation micro-F1 @3: 0.08415841584158416\n",
      "validation micro-F1 @4: 0.07178217821782178\n",
      "validation micro-F1 @5: 0.07524752475247524\n",
      "validation micro-F1 @6: 0.07260726072607261\n",
      "validation micro-F1 @7: 0.07142857142857142\n",
      "validation micro-F1 @8: 0.07425742574257425\n",
      "validation micro-F1 @9: 0.07150715071507151\n",
      "validation micro-F1 @10: 0.0702970297029703\n"
     ]
    },
    {
     "name": "stderr",
     "output_type": "stream",
     "text": [
      "\r",
      "  0%|          | 5/4536 [18:19<276:41:03, 219.83s/it]"
     ]
    },
    {
     "name": "stdout",
     "output_type": "stream",
     "text": [
      "iter: 4, configuration: {'vectorizer_norm': 'l2', 'svm_degree': 3, 'medoid_normalization': 'standard', 'svm_kernel': 'poly', 'nb_medoids_ratio': 0.2, 'svm_gamma': 0.1, 'svm_c': 0.001}\n",
      "\n",
      "validation micro-F1 @1: 0.12376237623762376\n",
      "validation micro-F1 @2: 0.1188118811881188\n",
      "validation micro-F1 @3: 0.12046204620462046\n",
      "validation micro-F1 @4: 0.11138613861386139\n",
      "validation micro-F1 @5: 0.1099009900990099\n",
      "validation micro-F1 @6: 0.10726072607260725\n",
      "validation micro-F1 @7: 0.10042432814710042\n",
      "validation micro-F1 @8: 0.09777227722772278\n",
      "validation micro-F1 @9: 0.09570957095709572\n",
      "validation micro-F1 @10: 0.09554455445544555\n"
     ]
    },
    {
     "name": "stderr",
     "output_type": "stream",
     "text": [
      "\r",
      "  0%|          | 6/4536 [21:08<266:02:48, 211.43s/it]"
     ]
    },
    {
     "name": "stdout",
     "output_type": "stream",
     "text": [
      "iter: 5, configuration: {'vectorizer_norm': None, 'svm_degree': 3, 'medoid_normalization': 'standard', 'svm_kernel': 'poly', 'nb_medoids_ratio': 0.2, 'svm_gamma': 0.1, 'svm_c': 0.001}\n",
      "\n",
      "validation micro-F1 @1: 0.1485148514851485\n",
      "validation micro-F1 @2: 0.13613861386138615\n",
      "validation micro-F1 @3: 0.12376237623762376\n",
      "validation micro-F1 @4: 0.11386138613861387\n",
      "validation micro-F1 @5: 0.10396039603960396\n",
      "validation micro-F1 @6: 0.10066006600660066\n",
      "validation micro-F1 @7: 0.10183875530410184\n",
      "validation micro-F1 @8: 0.10334158415841584\n",
      "validation micro-F1 @9: 0.09735973597359736\n",
      "validation micro-F1 @10: 0.09356435643564356\n"
     ]
    },
    {
     "name": "stderr",
     "output_type": "stream",
     "text": [
      "\r",
      "  0%|          | 7/4536 [21:39<233:38:13, 185.71s/it]"
     ]
    },
    {
     "name": "stdout",
     "output_type": "stream",
     "text": [
      "iter: 6, configuration: {'vectorizer_norm': 'l1', 'svm_degree': 3, 'medoid_normalization': 'standard', 'svm_kernel': 'rbf', 'nb_medoids_ratio': 0.2, 'svm_gamma': 0.2, 'svm_c': 0.001}\n",
      "\n",
      "validation micro-F1 @1: 0.009900990099009901\n",
      "validation micro-F1 @2: 0.007425742574257425\n",
      "validation micro-F1 @3: 0.006600660066006601\n",
      "validation micro-F1 @4: 0.007425742574257425\n",
      "validation micro-F1 @5: 0.005940594059405941\n",
      "validation micro-F1 @6: 0.00825082508250825\n",
      "validation micro-F1 @7: 0.007779349363507779\n",
      "validation micro-F1 @8: 0.007425742574257425\n",
      "validation micro-F1 @9: 0.006600660066006601\n",
      "validation micro-F1 @10: 0.006930693069306931\n"
     ]
    },
    {
     "name": "stderr",
     "output_type": "stream",
     "text": [
      "\r",
      "  0%|          | 8/4536 [22:11<209:22:18, 166.46s/it]"
     ]
    },
    {
     "name": "stdout",
     "output_type": "stream",
     "text": [
      "iter: 7, configuration: {'vectorizer_norm': 'l2', 'svm_degree': 3, 'medoid_normalization': 'standard', 'svm_kernel': 'rbf', 'nb_medoids_ratio': 0.2, 'svm_gamma': 0.2, 'svm_c': 0.001}\n",
      "\n",
      "validation micro-F1 @1: 0.1188118811881188\n",
      "validation micro-F1 @2: 0.13861386138613863\n",
      "validation micro-F1 @3: 0.11716171617161716\n",
      "validation micro-F1 @4: 0.11633663366336634\n",
      "validation micro-F1 @5: 0.10792079207920792\n",
      "validation micro-F1 @6: 0.10066006600660066\n",
      "validation micro-F1 @7: 0.09900990099009901\n",
      "validation micro-F1 @8: 0.09715346534653466\n",
      "validation micro-F1 @9: 0.09460946094609461\n",
      "validation micro-F1 @10: 0.09158415841584158\n"
     ]
    },
    {
     "name": "stderr",
     "output_type": "stream",
     "text": [
      "\r",
      "  0%|          | 9/4536 [22:49<191:18:25, 152.13s/it]"
     ]
    },
    {
     "name": "stdout",
     "output_type": "stream",
     "text": [
      "iter: 8, configuration: {'vectorizer_norm': None, 'svm_degree': 3, 'medoid_normalization': 'standard', 'svm_kernel': 'rbf', 'nb_medoids_ratio': 0.2, 'svm_gamma': 0.2, 'svm_c': 0.001}\n",
      "\n",
      "validation micro-F1 @1: 0.13861386138613863\n",
      "validation micro-F1 @2: 0.15099009900990099\n",
      "validation micro-F1 @3: 0.12871287128712872\n",
      "validation micro-F1 @4: 0.11386138613861387\n",
      "validation micro-F1 @5: 0.10495049504950495\n",
      "validation micro-F1 @6: 0.09818481848184818\n",
      "validation micro-F1 @7: 0.10113154172560113\n",
      "validation micro-F1 @8: 0.09962871287128713\n",
      "validation micro-F1 @9: 0.09900990099009901\n",
      "validation micro-F1 @10: 0.09405940594059406\n"
     ]
    },
    {
     "name": "stderr",
     "output_type": "stream",
     "text": [
      "\r",
      "  0%|          | 10/4536 [23:33<177:42:25, 141.35s/it]"
     ]
    },
    {
     "name": "stdout",
     "output_type": "stream",
     "text": [
      "iter: 9, configuration: {'vectorizer_norm': 'l1', 'svm_degree': 3, 'medoid_normalization': 'standard', 'svm_kernel': 'poly', 'nb_medoids_ratio': 0.2, 'svm_gamma': 0.2, 'svm_c': 0.001}\n",
      "\n",
      "validation micro-F1 @1: 0.14356435643564355\n",
      "validation micro-F1 @2: 0.14356435643564355\n",
      "validation micro-F1 @3: 0.12706270627062707\n",
      "validation micro-F1 @4: 0.11262376237623763\n",
      "validation micro-F1 @5: 0.10594059405940594\n",
      "validation micro-F1 @6: 0.10313531353135313\n",
      "validation micro-F1 @7: 0.10113154172560113\n",
      "validation micro-F1 @8: 0.09715346534653466\n",
      "validation micro-F1 @9: 0.09955995599559957\n",
      "validation micro-F1 @10: 0.09702970297029703\n"
     ]
    },
    {
     "name": "stderr",
     "output_type": "stream",
     "text": [
      "\r",
      "  0%|          | 11/4536 [24:45<169:45:43, 135.06s/it]"
     ]
    },
    {
     "name": "stdout",
     "output_type": "stream",
     "text": [
      "iter: 10, configuration: {'vectorizer_norm': 'l2', 'svm_degree': 3, 'medoid_normalization': 'standard', 'svm_kernel': 'poly', 'nb_medoids_ratio': 0.2, 'svm_gamma': 0.2, 'svm_c': 0.001}\n",
      "\n",
      "validation micro-F1 @1: 0.13861386138613863\n",
      "validation micro-F1 @2: 0.12128712871287128\n",
      "validation micro-F1 @3: 0.1188118811881188\n",
      "validation micro-F1 @4: 0.1188118811881188\n",
      "validation micro-F1 @5: 0.1099009900990099\n",
      "validation micro-F1 @6: 0.10561056105610561\n",
      "validation micro-F1 @7: 0.10042432814710042\n",
      "validation micro-F1 @8: 0.1021039603960396\n",
      "validation micro-F1 @9: 0.09790979097909791\n",
      "validation micro-F1 @10: 0.09257425742574257\n"
     ]
    },
    {
     "name": "stderr",
     "output_type": "stream",
     "text": [
      "\r",
      "  0%|          | 12/4536 [27:28<172:38:12, 137.38s/it]"
     ]
    },
    {
     "name": "stdout",
     "output_type": "stream",
     "text": [
      "iter: 11, configuration: {'vectorizer_norm': None, 'svm_degree': 3, 'medoid_normalization': 'standard', 'svm_kernel': 'poly', 'nb_medoids_ratio': 0.2, 'svm_gamma': 0.2, 'svm_c': 0.001}\n",
      "\n",
      "validation micro-F1 @1: 0.13861386138613863\n",
      "validation micro-F1 @2: 0.1485148514851485\n",
      "validation micro-F1 @3: 0.12706270627062707\n",
      "validation micro-F1 @4: 0.11386138613861387\n",
      "validation micro-F1 @5: 0.10594059405940594\n",
      "validation micro-F1 @6: 0.10561056105610561\n",
      "validation micro-F1 @7: 0.10396039603960396\n",
      "validation micro-F1 @8: 0.10334158415841584\n",
      "validation micro-F1 @9: 0.09900990099009901\n",
      "validation micro-F1 @10: 0.09504950495049505\n"
     ]
    },
    {
     "name": "stderr",
     "output_type": "stream",
     "text": [
      "\r",
      "  0%|          | 13/4536 [28:00<162:22:18, 129.24s/it]"
     ]
    },
    {
     "name": "stdout",
     "output_type": "stream",
     "text": [
      "iter: 12, configuration: {'vectorizer_norm': 'l1', 'svm_degree': 3, 'medoid_normalization': 'standard', 'svm_kernel': 'rbf', 'nb_medoids_ratio': 0.2, 'svm_gamma': 0.3, 'svm_c': 0.001}\n",
      "\n",
      "validation micro-F1 @1: 0.009900990099009901\n",
      "validation micro-F1 @2: 0.017326732673267328\n",
      "validation micro-F1 @3: 0.01485148514851485\n",
      "validation micro-F1 @4: 0.013613861386138614\n",
      "validation micro-F1 @5: 0.01287128712871287\n",
      "validation micro-F1 @6: 0.013201320132013201\n",
      "validation micro-F1 @7: 0.013437057991513438\n",
      "validation micro-F1 @8: 0.013613861386138614\n",
      "validation micro-F1 @9: 0.01595159515951595\n",
      "validation micro-F1 @10: 0.016336633663366337\n"
     ]
    },
    {
     "name": "stderr",
     "output_type": "stream",
     "text": [
      "\r",
      "  0%|          | 14/4536 [28:31<153:32:10, 122.23s/it]"
     ]
    },
    {
     "name": "stdout",
     "output_type": "stream",
     "text": [
      "iter: 13, configuration: {'vectorizer_norm': 'l2', 'svm_degree': 3, 'medoid_normalization': 'standard', 'svm_kernel': 'rbf', 'nb_medoids_ratio': 0.2, 'svm_gamma': 0.3, 'svm_c': 0.001}\n",
      "\n",
      "validation micro-F1 @1: 0.12376237623762376\n",
      "validation micro-F1 @2: 0.1311881188118812\n",
      "validation micro-F1 @3: 0.11386138613861387\n",
      "validation micro-F1 @4: 0.11633663366336634\n",
      "validation micro-F1 @5: 0.10495049504950495\n",
      "validation micro-F1 @6: 0.09983498349834984\n",
      "validation micro-F1 @7: 0.09547383309759547\n",
      "validation micro-F1 @8: 0.09405940594059406\n",
      "validation micro-F1 @9: 0.09735973597359736\n",
      "validation micro-F1 @10: 0.09554455445544555\n"
     ]
    },
    {
     "name": "stderr",
     "output_type": "stream",
     "text": [
      "\r",
      "  0%|          | 15/4536 [29:09<146:28:08, 116.63s/it]"
     ]
    },
    {
     "name": "stdout",
     "output_type": "stream",
     "text": [
      "iter: 14, configuration: {'vectorizer_norm': None, 'svm_degree': 3, 'medoid_normalization': 'standard', 'svm_kernel': 'rbf', 'nb_medoids_ratio': 0.2, 'svm_gamma': 0.3, 'svm_c': 0.001}\n",
      "\n",
      "validation micro-F1 @1: 0.13366336633663367\n",
      "validation micro-F1 @2: 0.1485148514851485\n",
      "validation micro-F1 @3: 0.12706270627062707\n",
      "validation micro-F1 @4: 0.11386138613861387\n",
      "validation micro-F1 @5: 0.10495049504950495\n",
      "validation micro-F1 @6: 0.09818481848184818\n",
      "validation micro-F1 @7: 0.10113154172560113\n",
      "validation micro-F1 @8: 0.09962871287128713\n",
      "validation micro-F1 @9: 0.09900990099009901\n",
      "validation micro-F1 @10: 0.09405940594059406\n"
     ]
    },
    {
     "name": "stderr",
     "output_type": "stream",
     "text": [
      "\r",
      "  0%|          | 16/4536 [30:04<141:35:00, 112.77s/it]"
     ]
    },
    {
     "name": "stdout",
     "output_type": "stream",
     "text": [
      "iter: 15, configuration: {'vectorizer_norm': 'l1', 'svm_degree': 3, 'medoid_normalization': 'standard', 'svm_kernel': 'poly', 'nb_medoids_ratio': 0.2, 'svm_gamma': 0.3, 'svm_c': 0.001}\n",
      "\n",
      "validation micro-F1 @1: 0.12871287128712872\n",
      "validation micro-F1 @2: 0.14603960396039603\n",
      "validation micro-F1 @3: 0.1254125412541254\n",
      "validation micro-F1 @4: 0.11138613861386139\n",
      "validation micro-F1 @5: 0.10495049504950495\n",
      "validation micro-F1 @6: 0.10066006600660066\n",
      "validation micro-F1 @7: 0.10042432814710042\n",
      "validation micro-F1 @8: 0.10024752475247525\n",
      "validation micro-F1 @9: 0.09900990099009901\n",
      "validation micro-F1 @10: 0.09653465346534654\n"
     ]
    },
    {
     "name": "stderr",
     "output_type": "stream",
     "text": [
      "\r",
      "  0%|          | 17/4536 [31:27<139:23:24, 111.04s/it]"
     ]
    },
    {
     "name": "stdout",
     "output_type": "stream",
     "text": [
      "iter: 16, configuration: {'vectorizer_norm': 'l2', 'svm_degree': 3, 'medoid_normalization': 'standard', 'svm_kernel': 'poly', 'nb_medoids_ratio': 0.2, 'svm_gamma': 0.3, 'svm_c': 0.001}\n",
      "\n",
      "validation micro-F1 @1: 0.13366336633663367\n",
      "validation micro-F1 @2: 0.15099009900990099\n",
      "validation micro-F1 @3: 0.12871287128712872\n",
      "validation micro-F1 @4: 0.1150990099009901\n",
      "validation micro-F1 @5: 0.10792079207920792\n",
      "validation micro-F1 @6: 0.10808580858085809\n",
      "validation micro-F1 @7: 0.10466760961810467\n",
      "validation micro-F1 @8: 0.09715346534653466\n",
      "validation micro-F1 @9: 0.09515951595159516\n",
      "validation micro-F1 @10: 0.09504950495049505\n"
     ]
    },
    {
     "name": "stderr",
     "output_type": "stream",
     "text": [
      "\r",
      "  0%|          | 18/4536 [34:26<144:04:32, 114.80s/it]"
     ]
    },
    {
     "name": "stdout",
     "output_type": "stream",
     "text": [
      "iter: 17, configuration: {'vectorizer_norm': None, 'svm_degree': 3, 'medoid_normalization': 'standard', 'svm_kernel': 'poly', 'nb_medoids_ratio': 0.2, 'svm_gamma': 0.3, 'svm_c': 0.001}\n",
      "\n",
      "validation micro-F1 @1: 0.15841584158415842\n",
      "validation micro-F1 @2: 0.14108910891089108\n",
      "validation micro-F1 @3: 0.12706270627062707\n",
      "validation micro-F1 @4: 0.11757425742574257\n",
      "validation micro-F1 @5: 0.10792079207920792\n",
      "validation micro-F1 @6: 0.10313531353135313\n",
      "validation micro-F1 @7: 0.10042432814710042\n",
      "validation micro-F1 @8: 0.09777227722772278\n",
      "validation micro-F1 @9: 0.09515951595159516\n",
      "validation micro-F1 @10: 0.09306930693069307\n"
     ]
    },
    {
     "name": "stderr",
     "output_type": "stream",
     "text": [
      "\r",
      "  0%|          | 19/4536 [34:57<138:31:59, 110.41s/it]"
     ]
    },
    {
     "name": "stdout",
     "output_type": "stream",
     "text": [
      "iter: 18, configuration: {'vectorizer_norm': 'l1', 'svm_degree': 3, 'medoid_normalization': 'standard', 'svm_kernel': 'rbf', 'nb_medoids_ratio': 0.2, 'svm_gamma': 0.5, 'svm_c': 0.001}\n",
      "\n",
      "validation micro-F1 @1: 0.0049504950495049506\n",
      "validation micro-F1 @2: 0.0024752475247524753\n",
      "validation micro-F1 @3: 0.00825082508250825\n",
      "validation micro-F1 @4: 0.012376237623762377\n",
      "validation micro-F1 @5: 0.01782178217821782\n",
      "validation micro-F1 @6: 0.020627062706270627\n",
      "validation micro-F1 @7: 0.021923620933521924\n",
      "validation micro-F1 @8: 0.025371287128712873\n",
      "validation micro-F1 @9: 0.026402640264026403\n",
      "validation micro-F1 @10: 0.027227722772277228\n"
     ]
    },
    {
     "name": "stderr",
     "output_type": "stream",
     "text": [
      "\r",
      "  0%|          | 20/4536 [35:29<133:34:14, 106.48s/it]"
     ]
    },
    {
     "name": "stdout",
     "output_type": "stream",
     "text": [
      "iter: 19, configuration: {'vectorizer_norm': 'l2', 'svm_degree': 3, 'medoid_normalization': 'standard', 'svm_kernel': 'rbf', 'nb_medoids_ratio': 0.2, 'svm_gamma': 0.5, 'svm_c': 0.001}\n",
      "\n",
      "validation micro-F1 @1: 0.13861386138613863\n",
      "validation micro-F1 @2: 0.13861386138613863\n",
      "validation micro-F1 @3: 0.1254125412541254\n",
      "validation micro-F1 @4: 0.10767326732673267\n",
      "validation micro-F1 @5: 0.1099009900990099\n",
      "validation micro-F1 @6: 0.10231023102310231\n",
      "validation micro-F1 @7: 0.0983026874115983\n",
      "validation micro-F1 @8: 0.09777227722772278\n",
      "validation micro-F1 @9: 0.09515951595159516\n",
      "validation micro-F1 @10: 0.0900990099009901\n"
     ]
    },
    {
     "name": "stderr",
     "output_type": "stream",
     "text": [
      "\r",
      "  0%|          | 21/4536 [36:07<129:26:38, 103.21s/it]"
     ]
    },
    {
     "name": "stdout",
     "output_type": "stream",
     "text": [
      "iter: 20, configuration: {'vectorizer_norm': None, 'svm_degree': 3, 'medoid_normalization': 'standard', 'svm_kernel': 'rbf', 'nb_medoids_ratio': 0.2, 'svm_gamma': 0.5, 'svm_c': 0.001}\n",
      "\n",
      "validation micro-F1 @1: 0.13861386138613863\n",
      "validation micro-F1 @2: 0.15099009900990099\n",
      "validation micro-F1 @3: 0.12871287128712872\n",
      "validation micro-F1 @4: 0.11386138613861387\n",
      "validation micro-F1 @5: 0.10495049504950495\n",
      "validation micro-F1 @6: 0.09818481848184818\n",
      "validation micro-F1 @7: 0.09688826025459689\n",
      "validation micro-F1 @8: 0.09962871287128713\n",
      "validation micro-F1 @9: 0.09900990099009901\n",
      "validation micro-F1 @10: 0.09405940594059406\n"
     ]
    },
    {
     "name": "stderr",
     "output_type": "stream",
     "text": [
      "\r",
      "  0%|          | 22/4536 [37:12<127:14:11, 101.47s/it]"
     ]
    },
    {
     "name": "stdout",
     "output_type": "stream",
     "text": [
      "iter: 21, configuration: {'vectorizer_norm': 'l1', 'svm_degree': 3, 'medoid_normalization': 'standard', 'svm_kernel': 'poly', 'nb_medoids_ratio': 0.2, 'svm_gamma': 0.5, 'svm_c': 0.001}\n",
      "\n",
      "validation micro-F1 @1: 0.12871287128712872\n",
      "validation micro-F1 @2: 0.15099009900990099\n",
      "validation micro-F1 @3: 0.12871287128712872\n",
      "validation micro-F1 @4: 0.11386138613861387\n",
      "validation micro-F1 @5: 0.1099009900990099\n",
      "validation micro-F1 @6: 0.10478547854785479\n",
      "validation micro-F1 @7: 0.1074964639321075\n",
      "validation micro-F1 @8: 0.10148514851485149\n",
      "validation micro-F1 @9: 0.1001100110011001\n",
      "validation micro-F1 @10: 0.1\n"
     ]
    },
    {
     "name": "stderr",
     "output_type": "stream",
     "text": [
      "\r",
      "  1%|          | 23/4536 [38:51<127:03:58, 101.36s/it]"
     ]
    },
    {
     "name": "stdout",
     "output_type": "stream",
     "text": [
      "iter: 22, configuration: {'vectorizer_norm': 'l2', 'svm_degree': 3, 'medoid_normalization': 'standard', 'svm_kernel': 'poly', 'nb_medoids_ratio': 0.2, 'svm_gamma': 0.5, 'svm_c': 0.001}\n",
      "\n",
      "validation micro-F1 @1: 0.13366336633663367\n",
      "validation micro-F1 @2: 0.14603960396039603\n",
      "validation micro-F1 @3: 0.132013201320132\n",
      "validation micro-F1 @4: 0.11633663366336634\n",
      "validation micro-F1 @5: 0.10495049504950495\n",
      "validation micro-F1 @6: 0.09983498349834984\n",
      "validation micro-F1 @7: 0.10113154172560113\n",
      "validation micro-F1 @8: 0.10272277227722772\n",
      "validation micro-F1 @9: 0.09900990099009901\n",
      "validation micro-F1 @10: 0.09702970297029703\n"
     ]
    },
    {
     "name": "stderr",
     "output_type": "stream",
     "text": [
      "\r",
      "  1%|          | 24/4536 [41:42<130:41:26, 104.27s/it]"
     ]
    },
    {
     "name": "stdout",
     "output_type": "stream",
     "text": [
      "iter: 23, configuration: {'vectorizer_norm': None, 'svm_degree': 3, 'medoid_normalization': 'standard', 'svm_kernel': 'poly', 'nb_medoids_ratio': 0.2, 'svm_gamma': 0.5, 'svm_c': 0.001}\n",
      "\n",
      "validation micro-F1 @1: 0.13861386138613863\n",
      "validation micro-F1 @2: 0.1485148514851485\n",
      "validation micro-F1 @3: 0.12871287128712872\n",
      "validation micro-F1 @4: 0.11262376237623763\n",
      "validation micro-F1 @5: 0.10594059405940594\n",
      "validation micro-F1 @6: 0.10561056105610561\n",
      "validation micro-F1 @7: 0.10113154172560113\n",
      "validation micro-F1 @8: 0.09777227722772278\n",
      "validation micro-F1 @9: 0.09625962596259625\n",
      "validation micro-F1 @10: 0.09504950495049505\n"
     ]
    },
    {
     "name": "stderr",
     "output_type": "stream",
     "text": [
      "\r",
      "  1%|          | 25/4536 [42:14<127:01:12, 101.37s/it]"
     ]
    },
    {
     "name": "stdout",
     "output_type": "stream",
     "text": [
      "iter: 24, configuration: {'vectorizer_norm': 'l1', 'svm_degree': 3, 'medoid_normalization': 'standard', 'svm_kernel': 'rbf', 'nb_medoids_ratio': 0.2, 'svm_gamma': 1.0, 'svm_c': 0.001}\n",
      "\n",
      "validation micro-F1 @1: 0.034653465346534656\n",
      "validation micro-F1 @2: 0.04207920792079208\n",
      "validation micro-F1 @3: 0.04785478547854786\n",
      "validation micro-F1 @4: 0.05693069306930693\n",
      "validation micro-F1 @5: 0.062376237623762376\n",
      "validation micro-F1 @6: 0.06683168316831684\n",
      "validation micro-F1 @7: 0.06718528995756719\n",
      "validation micro-F1 @8: 0.0686881188118812\n",
      "validation micro-F1 @9: 0.07425742574257425\n",
      "validation micro-F1 @10: 0.07376237623762376\n"
     ]
    },
    {
     "name": "stderr",
     "output_type": "stream",
     "text": [
      "\r",
      "  1%|          | 26/4536 [42:46<123:39:40, 98.71s/it] "
     ]
    },
    {
     "name": "stdout",
     "output_type": "stream",
     "text": [
      "iter: 25, configuration: {'vectorizer_norm': 'l2', 'svm_degree': 3, 'medoid_normalization': 'standard', 'svm_kernel': 'rbf', 'nb_medoids_ratio': 0.2, 'svm_gamma': 1.0, 'svm_c': 0.001}\n",
      "\n",
      "validation micro-F1 @1: 0.15841584158415842\n",
      "validation micro-F1 @2: 0.14603960396039603\n",
      "validation micro-F1 @3: 0.12706270627062707\n",
      "validation micro-F1 @4: 0.11386138613861387\n",
      "validation micro-F1 @5: 0.10594059405940594\n",
      "validation micro-F1 @6: 0.10313531353135313\n",
      "validation micro-F1 @7: 0.10183875530410184\n",
      "validation micro-F1 @8: 0.09777227722772278\n",
      "validation micro-F1 @9: 0.09625962596259625\n",
      "validation micro-F1 @10: 0.09257425742574257\n"
     ]
    },
    {
     "name": "stderr",
     "output_type": "stream",
     "text": [
      "\r",
      "  1%|          | 27/4536 [43:24<120:48:34, 96.45s/it]"
     ]
    },
    {
     "name": "stdout",
     "output_type": "stream",
     "text": [
      "iter: 26, configuration: {'vectorizer_norm': None, 'svm_degree': 3, 'medoid_normalization': 'standard', 'svm_kernel': 'rbf', 'nb_medoids_ratio': 0.2, 'svm_gamma': 1.0, 'svm_c': 0.001}\n",
      "\n",
      "validation micro-F1 @1: 0.13861386138613863\n",
      "validation micro-F1 @2: 0.15099009900990099\n",
      "validation micro-F1 @3: 0.12871287128712872\n",
      "validation micro-F1 @4: 0.11386138613861387\n",
      "validation micro-F1 @5: 0.10495049504950495\n",
      "validation micro-F1 @6: 0.09818481848184818\n",
      "validation micro-F1 @7: 0.10113154172560113\n",
      "validation micro-F1 @8: 0.09962871287128713\n",
      "validation micro-F1 @9: 0.09900990099009901\n",
      "validation micro-F1 @10: 0.09405940594059406\n"
     ]
    },
    {
     "name": "stderr",
     "output_type": "stream",
     "text": [
      "\r",
      "  1%|          | 28/4536 [44:35<119:38:07, 95.54s/it]"
     ]
    },
    {
     "name": "stdout",
     "output_type": "stream",
     "text": [
      "iter: 27, configuration: {'vectorizer_norm': 'l1', 'svm_degree': 3, 'medoid_normalization': 'standard', 'svm_kernel': 'poly', 'nb_medoids_ratio': 0.2, 'svm_gamma': 1.0, 'svm_c': 0.001}\n",
      "\n",
      "validation micro-F1 @1: 0.15346534653465346\n",
      "validation micro-F1 @2: 0.15346534653465346\n",
      "validation micro-F1 @3: 0.12376237623762376\n",
      "validation micro-F1 @4: 0.11386138613861387\n",
      "validation micro-F1 @5: 0.11386138613861387\n",
      "validation micro-F1 @6: 0.10478547854785479\n",
      "validation micro-F1 @7: 0.10254596888260255\n",
      "validation micro-F1 @8: 0.10086633663366337\n",
      "validation micro-F1 @9: 0.09845984598459846\n",
      "validation micro-F1 @10: 0.09603960396039604\n"
     ]
    },
    {
     "name": "stderr",
     "output_type": "stream",
     "text": [
      "\r",
      "  1%|          | 29/4536 [46:42<120:59:09, 96.64s/it]"
     ]
    },
    {
     "name": "stdout",
     "output_type": "stream",
     "text": [
      "iter: 28, configuration: {'vectorizer_norm': 'l2', 'svm_degree': 3, 'medoid_normalization': 'standard', 'svm_kernel': 'poly', 'nb_medoids_ratio': 0.2, 'svm_gamma': 1.0, 'svm_c': 0.001}\n",
      "\n",
      "validation micro-F1 @1: 0.13861386138613863\n",
      "validation micro-F1 @2: 0.15099009900990099\n",
      "validation micro-F1 @3: 0.12871287128712872\n",
      "validation micro-F1 @4: 0.11386138613861387\n",
      "validation micro-F1 @5: 0.10693069306930693\n",
      "validation micro-F1 @6: 0.10231023102310231\n",
      "validation micro-F1 @7: 0.09759547383309759\n",
      "validation micro-F1 @8: 0.09777227722772278\n",
      "validation micro-F1 @9: 0.09955995599559957\n",
      "validation micro-F1 @10: 0.09653465346534654\n"
     ]
    },
    {
     "name": "stderr",
     "output_type": "stream",
     "text": [
      "\r",
      "  1%|          | 30/4536 [49:29<123:52:44, 98.97s/it]"
     ]
    },
    {
     "name": "stdout",
     "output_type": "stream",
     "text": [
      "iter: 29, configuration: {'vectorizer_norm': None, 'svm_degree': 3, 'medoid_normalization': 'standard', 'svm_kernel': 'poly', 'nb_medoids_ratio': 0.2, 'svm_gamma': 1.0, 'svm_c': 0.001}\n",
      "\n",
      "validation micro-F1 @1: 0.13861386138613863\n",
      "validation micro-F1 @2: 0.15099009900990099\n",
      "validation micro-F1 @3: 0.12706270627062707\n",
      "validation micro-F1 @4: 0.1150990099009901\n",
      "validation micro-F1 @5: 0.10495049504950495\n",
      "validation micro-F1 @6: 0.10148514851485149\n",
      "validation micro-F1 @7: 0.10183875530410184\n",
      "validation micro-F1 @8: 0.10086633663366337\n",
      "validation micro-F1 @9: 0.09955995599559957\n",
      "validation micro-F1 @10: 0.09504950495049505\n"
     ]
    },
    {
     "name": "stderr",
     "output_type": "stream",
     "text": [
      "\r",
      "  1%|          | 31/4536 [50:00<121:06:54, 96.78s/it]"
     ]
    },
    {
     "name": "stdout",
     "output_type": "stream",
     "text": [
      "iter: 30, configuration: {'vectorizer_norm': 'l1', 'svm_degree': 3, 'medoid_normalization': 'standard', 'svm_kernel': 'rbf', 'nb_medoids_ratio': 0.2, 'svm_gamma': 'auto', 'svm_c': 0.001}\n",
      "\n",
      "validation micro-F1 @1: 0.0049504950495049506\n",
      "validation micro-F1 @2: 0.007425742574257425\n",
      "validation micro-F1 @3: 0.00825082508250825\n",
      "validation micro-F1 @4: 0.006188118811881188\n",
      "validation micro-F1 @5: 0.006930693069306931\n",
      "validation micro-F1 @6: 0.005775577557755775\n",
      "validation micro-F1 @7: 0.007779349363507779\n",
      "validation micro-F1 @8: 0.009282178217821782\n",
      "validation micro-F1 @9: 0.00825082508250825\n",
      "validation micro-F1 @10: 0.008415841584158416\n"
     ]
    },
    {
     "name": "stderr",
     "output_type": "stream",
     "text": [
      "\r",
      "  1%|          | 32/4536 [50:31<118:31:34, 94.74s/it]"
     ]
    },
    {
     "name": "stdout",
     "output_type": "stream",
     "text": [
      "iter: 31, configuration: {'vectorizer_norm': 'l2', 'svm_degree': 3, 'medoid_normalization': 'standard', 'svm_kernel': 'rbf', 'nb_medoids_ratio': 0.2, 'svm_gamma': 'auto', 'svm_c': 0.001}\n",
      "\n",
      "validation micro-F1 @1: 0.01485148514851485\n",
      "validation micro-F1 @2: 0.012376237623762377\n",
      "validation micro-F1 @3: 0.013201320132013201\n",
      "validation micro-F1 @4: 0.013613861386138614\n",
      "validation micro-F1 @5: 0.01287128712871287\n",
      "validation micro-F1 @6: 0.010726072607260726\n",
      "validation micro-F1 @7: 0.009900990099009901\n",
      "validation micro-F1 @8: 0.01051980198019802\n",
      "validation micro-F1 @9: 0.0121012101210121\n",
      "validation micro-F1 @10: 0.01287128712871287\n"
     ]
    },
    {
     "name": "stderr",
     "output_type": "stream",
     "text": [
      "\r",
      "  1%|          | 33/4536 [51:03<116:08:11, 92.85s/it]"
     ]
    },
    {
     "name": "stdout",
     "output_type": "stream",
     "text": [
      "iter: 32, configuration: {'vectorizer_norm': None, 'svm_degree': 3, 'medoid_normalization': 'standard', 'svm_kernel': 'rbf', 'nb_medoids_ratio': 0.2, 'svm_gamma': 'auto', 'svm_c': 0.001}\n",
      "\n",
      "validation micro-F1 @1: 0.14356435643564355\n",
      "validation micro-F1 @2: 0.11138613861386139\n",
      "validation micro-F1 @3: 0.10726072607260725\n",
      "validation micro-F1 @4: 0.10024752475247525\n",
      "validation micro-F1 @5: 0.10693069306930693\n",
      "validation micro-F1 @6: 0.10231023102310231\n",
      "validation micro-F1 @7: 0.09900990099009901\n",
      "validation micro-F1 @8: 0.09158415841584158\n",
      "validation micro-F1 @9: 0.0891089108910891\n",
      "validation micro-F1 @10: 0.09059405940594059\n"
     ]
    },
    {
     "name": "stderr",
     "output_type": "stream",
     "text": [
      "\r",
      "  1%|          | 34/4536 [51:33<113:46:03, 90.97s/it]"
     ]
    },
    {
     "name": "stdout",
     "output_type": "stream",
     "text": [
      "iter: 33, configuration: {'vectorizer_norm': 'l1', 'svm_degree': 3, 'medoid_normalization': 'standard', 'svm_kernel': 'poly', 'nb_medoids_ratio': 0.2, 'svm_gamma': 'auto', 'svm_c': 0.001}\n",
      "\n",
      "validation micro-F1 @1: 0.009900990099009901\n",
      "validation micro-F1 @2: 0.012376237623762377\n",
      "validation micro-F1 @3: 0.01155115511551155\n",
      "validation micro-F1 @4: 0.013613861386138614\n",
      "validation micro-F1 @5: 0.01287128712871287\n",
      "validation micro-F1 @6: 0.013201320132013201\n",
      "validation micro-F1 @7: 0.01272984441301273\n",
      "validation micro-F1 @8: 0.011138613861386138\n",
      "validation micro-F1 @9: 0.010451045104510451\n",
      "validation micro-F1 @10: 0.012376237623762377\n"
     ]
    },
    {
     "name": "stderr",
     "output_type": "stream",
     "text": [
      "\r",
      "  1%|          | 35/4536 [52:02<111:31:42, 89.20s/it]"
     ]
    },
    {
     "name": "stdout",
     "output_type": "stream",
     "text": [
      "iter: 34, configuration: {'vectorizer_norm': 'l2', 'svm_degree': 3, 'medoid_normalization': 'standard', 'svm_kernel': 'poly', 'nb_medoids_ratio': 0.2, 'svm_gamma': 'auto', 'svm_c': 0.001}\n",
      "\n",
      "validation micro-F1 @1: 0.0049504950495049506\n",
      "validation micro-F1 @2: 0.009900990099009901\n",
      "validation micro-F1 @3: 0.006600660066006601\n",
      "validation micro-F1 @4: 0.007425742574257425\n",
      "validation micro-F1 @5: 0.006930693069306931\n",
      "validation micro-F1 @6: 0.00825082508250825\n",
      "validation micro-F1 @7: 0.010608203677510608\n",
      "validation micro-F1 @8: 0.01051980198019802\n",
      "validation micro-F1 @9: 0.010451045104510451\n",
      "validation micro-F1 @10: 0.010396039603960397\n"
     ]
    },
    {
     "name": "stderr",
     "output_type": "stream",
     "text": [
      "\r",
      "  1%|          | 36/4536 [54:41<113:57:17, 91.16s/it]"
     ]
    },
    {
     "name": "stdout",
     "output_type": "stream",
     "text": [
      "iter: 35, configuration: {'vectorizer_norm': None, 'svm_degree': 3, 'medoid_normalization': 'standard', 'svm_kernel': 'poly', 'nb_medoids_ratio': 0.2, 'svm_gamma': 'auto', 'svm_c': 0.001}\n",
      "\n",
      "validation micro-F1 @1: 0.1782178217821782\n",
      "validation micro-F1 @2: 0.1485148514851485\n",
      "validation micro-F1 @3: 0.1254125412541254\n",
      "validation micro-F1 @4: 0.11386138613861387\n",
      "validation micro-F1 @5: 0.10693069306930693\n",
      "validation micro-F1 @6: 0.10148514851485149\n",
      "validation micro-F1 @7: 0.10042432814710042\n",
      "validation micro-F1 @8: 0.09900990099009901\n",
      "validation micro-F1 @9: 0.09790979097909791\n",
      "validation micro-F1 @10: 0.09405940594059406\n"
     ]
    },
    {
     "name": "stderr",
     "output_type": "stream",
     "text": [
      "\r",
      "  1%|          | 37/4536 [55:13<111:54:20, 89.54s/it]"
     ]
    },
    {
     "name": "stdout",
     "output_type": "stream",
     "text": [
      "iter: 36, configuration: {'vectorizer_norm': 'l1', 'svm_degree': 4, 'medoid_normalization': 'standard', 'svm_kernel': 'rbf', 'nb_medoids_ratio': 0.2, 'svm_gamma': 0.1, 'svm_c': 0.001}\n",
      "\n",
      "validation micro-F1 @1: 0.01485148514851485\n",
      "validation micro-F1 @2: 0.019801980198019802\n",
      "validation micro-F1 @3: 0.018151815181518153\n",
      "validation micro-F1 @4: 0.01608910891089109\n",
      "validation micro-F1 @5: 0.015841584158415842\n",
      "validation micro-F1 @6: 0.014026402640264026\n",
      "validation micro-F1 @7: 0.013437057991513438\n",
      "validation micro-F1 @8: 0.012995049504950494\n",
      "validation micro-F1 @9: 0.0121012101210121\n",
      "validation micro-F1 @10: 0.01089108910891089\n"
     ]
    },
    {
     "name": "stderr",
     "output_type": "stream",
     "text": [
      "\r",
      "  1%|          | 38/4536 [55:44<109:57:52, 88.01s/it]"
     ]
    },
    {
     "name": "stdout",
     "output_type": "stream",
     "text": [
      "iter: 37, configuration: {'vectorizer_norm': 'l2', 'svm_degree': 4, 'medoid_normalization': 'standard', 'svm_kernel': 'rbf', 'nb_medoids_ratio': 0.2, 'svm_gamma': 0.1, 'svm_c': 0.001}\n",
      "\n",
      "validation micro-F1 @1: 0.0049504950495049506\n",
      "validation micro-F1 @2: 0.027227722772277228\n",
      "validation micro-F1 @3: 0.041254125412541254\n",
      "validation micro-F1 @4: 0.05693069306930693\n",
      "validation micro-F1 @5: 0.0594059405940594\n",
      "validation micro-F1 @6: 0.06353135313531354\n",
      "validation micro-F1 @7: 0.06506364922206506\n",
      "validation micro-F1 @8: 0.06806930693069307\n",
      "validation micro-F1 @9: 0.06545654565456546\n",
      "validation micro-F1 @10: 0.06386138613861386\n"
     ]
    },
    {
     "name": "stderr",
     "output_type": "stream",
     "text": [
      "\r",
      "  1%|          | 39/4536 [56:17<108:10:20, 86.60s/it]"
     ]
    },
    {
     "name": "stdout",
     "output_type": "stream",
     "text": [
      "iter: 38, configuration: {'vectorizer_norm': None, 'svm_degree': 4, 'medoid_normalization': 'standard', 'svm_kernel': 'rbf', 'nb_medoids_ratio': 0.2, 'svm_gamma': 0.1, 'svm_c': 0.001}\n",
      "\n",
      "validation micro-F1 @1: 0.13366336633663367\n",
      "validation micro-F1 @2: 0.1485148514851485\n",
      "validation micro-F1 @3: 0.12871287128712872\n",
      "validation micro-F1 @4: 0.11386138613861387\n",
      "validation micro-F1 @5: 0.10495049504950495\n",
      "validation micro-F1 @6: 0.10148514851485149\n",
      "validation micro-F1 @7: 0.09688826025459689\n",
      "validation micro-F1 @8: 0.09591584158415842\n",
      "validation micro-F1 @9: 0.09900990099009901\n",
      "validation micro-F1 @10: 0.09405940594059406\n"
     ]
    },
    {
     "name": "stderr",
     "output_type": "stream",
     "text": [
      "\r",
      "  1%|          | 40/4536 [56:56<106:41:09, 85.42s/it]"
     ]
    },
    {
     "name": "stdout",
     "output_type": "stream",
     "text": [
      "iter: 39, configuration: {'vectorizer_norm': 'l1', 'svm_degree': 4, 'medoid_normalization': 'standard', 'svm_kernel': 'poly', 'nb_medoids_ratio': 0.2, 'svm_gamma': 0.1, 'svm_c': 0.001}\n",
      "\n",
      "validation micro-F1 @1: 0.13366336633663367\n",
      "validation micro-F1 @2: 0.1485148514851485\n",
      "validation micro-F1 @3: 0.12706270627062707\n",
      "validation micro-F1 @4: 0.11262376237623763\n",
      "validation micro-F1 @5: 0.10594059405940594\n",
      "validation micro-F1 @6: 0.10561056105610561\n",
      "validation micro-F1 @7: 0.09759547383309759\n",
      "validation micro-F1 @8: 0.09715346534653466\n",
      "validation micro-F1 @9: 0.09900990099009901\n",
      "validation micro-F1 @10: 0.09306930693069307\n"
     ]
    },
    {
     "name": "stderr",
     "output_type": "stream",
     "text": [
      "\r",
      "  1%|          | 41/4536 [58:27<106:48:39, 85.54s/it]"
     ]
    },
    {
     "name": "stdout",
     "output_type": "stream",
     "text": [
      "iter: 40, configuration: {'vectorizer_norm': 'l2', 'svm_degree': 4, 'medoid_normalization': 'standard', 'svm_kernel': 'poly', 'nb_medoids_ratio': 0.2, 'svm_gamma': 0.1, 'svm_c': 0.001}\n",
      "\n",
      "validation micro-F1 @1: 0.14356435643564355\n",
      "validation micro-F1 @2: 0.12128712871287128\n",
      "validation micro-F1 @3: 0.1188118811881188\n",
      "validation micro-F1 @4: 0.11386138613861387\n",
      "validation micro-F1 @5: 0.10594059405940594\n",
      "validation micro-F1 @6: 0.09983498349834984\n",
      "validation micro-F1 @7: 0.09900990099009901\n",
      "validation micro-F1 @8: 0.0983910891089109\n",
      "validation micro-F1 @9: 0.09790979097909791\n",
      "validation micro-F1 @10: 0.09900990099009901\n"
     ]
    },
    {
     "name": "stderr",
     "output_type": "stream",
     "text": [
      "\r",
      "  1%|          | 42/4536 [1:00:56<108:40:11, 87.05s/it]"
     ]
    },
    {
     "name": "stdout",
     "output_type": "stream",
     "text": [
      "iter: 41, configuration: {'vectorizer_norm': None, 'svm_degree': 4, 'medoid_normalization': 'standard', 'svm_kernel': 'poly', 'nb_medoids_ratio': 0.2, 'svm_gamma': 0.1, 'svm_c': 0.001}\n",
      "\n",
      "validation micro-F1 @1: 0.13366336633663367\n",
      "validation micro-F1 @2: 0.1485148514851485\n",
      "validation micro-F1 @3: 0.12871287128712872\n",
      "validation micro-F1 @4: 0.1150990099009901\n",
      "validation micro-F1 @5: 0.10495049504950495\n",
      "validation micro-F1 @6: 0.10808580858085809\n",
      "validation micro-F1 @7: 0.10678925035360678\n",
      "validation micro-F1 @8: 0.10705445544554455\n",
      "validation micro-F1 @9: 0.09955995599559957\n",
      "validation micro-F1 @10: 0.09504950495049505\n"
     ]
    },
    {
     "name": "stderr",
     "output_type": "stream",
     "text": [
      "\r",
      "  1%|          | 43/4536 [1:01:27<107:01:36, 85.75s/it]"
     ]
    },
    {
     "name": "stdout",
     "output_type": "stream",
     "text": [
      "iter: 42, configuration: {'vectorizer_norm': 'l1', 'svm_degree': 4, 'medoid_normalization': 'standard', 'svm_kernel': 'rbf', 'nb_medoids_ratio': 0.2, 'svm_gamma': 0.2, 'svm_c': 0.001}\n",
      "\n",
      "validation micro-F1 @1: 0.009900990099009901\n",
      "validation micro-F1 @2: 0.007425742574257425\n",
      "validation micro-F1 @3: 0.01155115511551155\n",
      "validation micro-F1 @4: 0.009900990099009901\n",
      "validation micro-F1 @5: 0.009900990099009901\n",
      "validation micro-F1 @6: 0.009900990099009901\n",
      "validation micro-F1 @7: 0.009193776520509194\n",
      "validation micro-F1 @8: 0.011138613861386138\n",
      "validation micro-F1 @9: 0.011001100110011002\n",
      "validation micro-F1 @10: 0.010396039603960397\n"
     ]
    },
    {
     "name": "stderr",
     "output_type": "stream",
     "text": [
      "\r",
      "  1%|          | 44/4536 [1:01:59<105:28:07, 84.53s/it]"
     ]
    },
    {
     "name": "stdout",
     "output_type": "stream",
     "text": [
      "iter: 43, configuration: {'vectorizer_norm': 'l2', 'svm_degree': 4, 'medoid_normalization': 'standard', 'svm_kernel': 'rbf', 'nb_medoids_ratio': 0.2, 'svm_gamma': 0.2, 'svm_c': 0.001}\n",
      "\n",
      "validation micro-F1 @1: 0.1188118811881188\n",
      "validation micro-F1 @2: 0.13366336633663367\n",
      "validation micro-F1 @3: 0.13036303630363036\n",
      "validation micro-F1 @4: 0.11757425742574257\n",
      "validation micro-F1 @5: 0.11782178217821782\n",
      "validation micro-F1 @6: 0.10891089108910891\n",
      "validation micro-F1 @7: 0.10537482319660538\n",
      "validation micro-F1 @8: 0.0983910891089109\n",
      "validation micro-F1 @9: 0.09460946094609461\n",
      "validation micro-F1 @10: 0.09405940594059406\n"
     ]
    },
    {
     "name": "stderr",
     "output_type": "stream",
     "text": [
      "\r",
      "  1%|          | 45/4536 [1:02:37<104:09:16, 83.49s/it]"
     ]
    },
    {
     "name": "stdout",
     "output_type": "stream",
     "text": [
      "iter: 44, configuration: {'vectorizer_norm': None, 'svm_degree': 4, 'medoid_normalization': 'standard', 'svm_kernel': 'rbf', 'nb_medoids_ratio': 0.2, 'svm_gamma': 0.2, 'svm_c': 0.001}\n",
      "\n",
      "validation micro-F1 @1: 0.13366336633663367\n",
      "validation micro-F1 @2: 0.1485148514851485\n",
      "validation micro-F1 @3: 0.12706270627062707\n",
      "validation micro-F1 @4: 0.11262376237623763\n",
      "validation micro-F1 @5: 0.10495049504950495\n",
      "validation micro-F1 @6: 0.09818481848184818\n",
      "validation micro-F1 @7: 0.10113154172560113\n",
      "validation micro-F1 @8: 0.09962871287128713\n",
      "validation micro-F1 @9: 0.09900990099009901\n",
      "validation micro-F1 @10: 0.09405940594059406\n"
     ]
    },
    {
     "name": "stderr",
     "output_type": "stream",
     "text": [
      "\r",
      "  1%|          | 46/4536 [1:03:36<103:28:23, 82.96s/it]"
     ]
    },
    {
     "name": "stdout",
     "output_type": "stream",
     "text": [
      "iter: 45, configuration: {'vectorizer_norm': 'l1', 'svm_degree': 4, 'medoid_normalization': 'standard', 'svm_kernel': 'poly', 'nb_medoids_ratio': 0.2, 'svm_gamma': 0.2, 'svm_c': 0.001}\n",
      "\n",
      "validation micro-F1 @1: 0.12871287128712872\n",
      "validation micro-F1 @2: 0.15346534653465346\n",
      "validation micro-F1 @3: 0.13036303630363036\n",
      "validation micro-F1 @4: 0.11757425742574257\n",
      "validation micro-F1 @5: 0.10891089108910891\n",
      "validation micro-F1 @6: 0.10561056105610561\n",
      "validation micro-F1 @7: 0.10325318246110325\n",
      "validation micro-F1 @8: 0.10024752475247525\n",
      "validation micro-F1 @9: 0.09735973597359736\n",
      "validation micro-F1 @10: 0.09504950495049505\n"
     ]
    },
    {
     "name": "stderr",
     "output_type": "stream",
     "text": [
      "\r",
      "  1%|          | 47/4536 [1:05:43<104:37:38, 83.91s/it]"
     ]
    },
    {
     "name": "stdout",
     "output_type": "stream",
     "text": [
      "iter: 46, configuration: {'vectorizer_norm': 'l2', 'svm_degree': 4, 'medoid_normalization': 'standard', 'svm_kernel': 'poly', 'nb_medoids_ratio': 0.2, 'svm_gamma': 0.2, 'svm_c': 0.001}\n",
      "\n",
      "validation micro-F1 @1: 0.13861386138613863\n",
      "validation micro-F1 @2: 0.15099009900990099\n",
      "validation micro-F1 @3: 0.12871287128712872\n",
      "validation micro-F1 @4: 0.11386138613861387\n",
      "validation micro-F1 @5: 0.10693069306930693\n",
      "validation micro-F1 @6: 0.10148514851485149\n",
      "validation micro-F1 @7: 0.10254596888260255\n",
      "validation micro-F1 @8: 0.0983910891089109\n",
      "validation micro-F1 @9: 0.09900990099009901\n",
      "validation micro-F1 @10: 0.09603960396039604\n"
     ]
    },
    {
     "name": "stderr",
     "output_type": "stream",
     "text": [
      "\r",
      "  1%|          | 48/4536 [1:08:26<106:39:20, 85.55s/it]"
     ]
    },
    {
     "name": "stdout",
     "output_type": "stream",
     "text": [
      "iter: 47, configuration: {'vectorizer_norm': None, 'svm_degree': 4, 'medoid_normalization': 'standard', 'svm_kernel': 'poly', 'nb_medoids_ratio': 0.2, 'svm_gamma': 0.2, 'svm_c': 0.001}\n",
      "\n",
      "validation micro-F1 @1: 0.14356435643564355\n",
      "validation micro-F1 @2: 0.1485148514851485\n",
      "validation micro-F1 @3: 0.12706270627062707\n",
      "validation micro-F1 @4: 0.11262376237623763\n",
      "validation micro-F1 @5: 0.10396039603960396\n",
      "validation micro-F1 @6: 0.10231023102310231\n",
      "validation micro-F1 @7: 0.10183875530410184\n",
      "validation micro-F1 @8: 0.09900990099009901\n",
      "validation micro-F1 @9: 0.09790979097909791\n",
      "validation micro-F1 @10: 0.09356435643564356\n"
     ]
    },
    {
     "name": "stderr",
     "output_type": "stream",
     "text": [
      "\r",
      "  1%|          | 49/4536 [1:08:57<105:15:15, 84.45s/it]"
     ]
    },
    {
     "name": "stdout",
     "output_type": "stream",
     "text": [
      "iter: 48, configuration: {'vectorizer_norm': 'l1', 'svm_degree': 4, 'medoid_normalization': 'standard', 'svm_kernel': 'rbf', 'nb_medoids_ratio': 0.2, 'svm_gamma': 0.3, 'svm_c': 0.001}\n",
      "\n",
      "validation micro-F1 @1: 0.01485148514851485\n",
      "validation micro-F1 @2: 0.012376237623762377\n",
      "validation micro-F1 @3: 0.01155115511551155\n",
      "validation micro-F1 @4: 0.012376237623762377\n",
      "validation micro-F1 @5: 0.01089108910891089\n",
      "validation micro-F1 @6: 0.014026402640264026\n",
      "validation micro-F1 @7: 0.016265912305516265\n",
      "validation micro-F1 @8: 0.021658415841584157\n",
      "validation micro-F1 @9: 0.0242024202420242\n",
      "validation micro-F1 @10: 0.027722772277227723\n"
     ]
    },
    {
     "name": "stderr",
     "output_type": "stream",
     "text": [
      "\r",
      "  1%|          | 50/4536 [1:09:29<103:54:55, 83.39s/it]"
     ]
    },
    {
     "name": "stdout",
     "output_type": "stream",
     "text": [
      "iter: 49, configuration: {'vectorizer_norm': 'l2', 'svm_degree': 4, 'medoid_normalization': 'standard', 'svm_kernel': 'rbf', 'nb_medoids_ratio': 0.2, 'svm_gamma': 0.3, 'svm_c': 0.001}\n",
      "\n",
      "validation micro-F1 @1: 0.13366336633663367\n",
      "validation micro-F1 @2: 0.14356435643564355\n",
      "validation micro-F1 @3: 0.1254125412541254\n",
      "validation micro-F1 @4: 0.10891089108910891\n",
      "validation micro-F1 @5: 0.10693069306930693\n",
      "validation micro-F1 @6: 0.10478547854785479\n",
      "validation micro-F1 @7: 0.1074964639321075\n",
      "validation micro-F1 @8: 0.09962871287128713\n",
      "validation micro-F1 @9: 0.0968096809680968\n",
      "validation micro-F1 @10: 0.09405940594059406\n"
     ]
    },
    {
     "name": "stderr",
     "output_type": "stream",
     "text": [
      "\r",
      "  1%|          | 51/4536 [1:10:08<102:47:43, 82.51s/it]"
     ]
    },
    {
     "name": "stdout",
     "output_type": "stream",
     "text": [
      "iter: 50, configuration: {'vectorizer_norm': None, 'svm_degree': 4, 'medoid_normalization': 'standard', 'svm_kernel': 'rbf', 'nb_medoids_ratio': 0.2, 'svm_gamma': 0.3, 'svm_c': 0.001}\n",
      "\n",
      "validation micro-F1 @1: 0.13861386138613863\n",
      "validation micro-F1 @2: 0.15099009900990099\n",
      "validation micro-F1 @3: 0.12871287128712872\n",
      "validation micro-F1 @4: 0.11386138613861387\n",
      "validation micro-F1 @5: 0.10495049504950495\n",
      "validation micro-F1 @6: 0.09818481848184818\n",
      "validation micro-F1 @7: 0.09688826025459689\n",
      "validation micro-F1 @8: 0.09962871287128713\n",
      "validation micro-F1 @9: 0.09900990099009901\n",
      "validation micro-F1 @10: 0.09405940594059406\n"
     ]
    },
    {
     "name": "stderr",
     "output_type": "stream",
     "text": [
      "\r",
      "  1%|          | 52/4536 [1:11:18<102:29:08, 82.28s/it]"
     ]
    },
    {
     "name": "stdout",
     "output_type": "stream",
     "text": [
      "iter: 51, configuration: {'vectorizer_norm': 'l1', 'svm_degree': 4, 'medoid_normalization': 'standard', 'svm_kernel': 'poly', 'nb_medoids_ratio': 0.2, 'svm_gamma': 0.3, 'svm_c': 0.001}\n",
      "\n",
      "validation micro-F1 @1: 0.13861386138613863\n",
      "validation micro-F1 @2: 0.15099009900990099\n",
      "validation micro-F1 @3: 0.12871287128712872\n",
      "validation micro-F1 @4: 0.11386138613861387\n",
      "validation micro-F1 @5: 0.10495049504950495\n",
      "validation micro-F1 @6: 0.10478547854785479\n",
      "validation micro-F1 @7: 0.10325318246110325\n",
      "validation micro-F1 @8: 0.10148514851485149\n",
      "validation micro-F1 @9: 0.09955995599559957\n",
      "validation micro-F1 @10: 0.09851485148514852\n"
     ]
    },
    {
     "name": "stderr",
     "output_type": "stream",
     "text": [
      "\r",
      "  1%|          | 53/4536 [1:13:54<104:11:07, 83.66s/it]"
     ]
    },
    {
     "name": "stdout",
     "output_type": "stream",
     "text": [
      "iter: 52, configuration: {'vectorizer_norm': 'l2', 'svm_degree': 4, 'medoid_normalization': 'standard', 'svm_kernel': 'poly', 'nb_medoids_ratio': 0.2, 'svm_gamma': 0.3, 'svm_c': 0.001}\n",
      "\n",
      "validation micro-F1 @1: 0.15346534653465346\n",
      "validation micro-F1 @2: 0.15346534653465346\n",
      "validation micro-F1 @3: 0.12706270627062707\n",
      "validation micro-F1 @4: 0.11386138613861387\n",
      "validation micro-F1 @5: 0.10693069306930693\n",
      "validation micro-F1 @6: 0.10891089108910891\n",
      "validation micro-F1 @7: 0.10537482319660538\n",
      "validation micro-F1 @8: 0.10272277227722772\n",
      "validation micro-F1 @9: 0.09845984598459846\n",
      "validation micro-F1 @10: 0.09653465346534654\n"
     ]
    },
    {
     "name": "stderr",
     "output_type": "stream",
     "text": [
      "\r",
      "  1%|          | 54/4536 [1:16:51<106:18:55, 85.39s/it]"
     ]
    },
    {
     "name": "stdout",
     "output_type": "stream",
     "text": [
      "iter: 53, configuration: {'vectorizer_norm': None, 'svm_degree': 4, 'medoid_normalization': 'standard', 'svm_kernel': 'poly', 'nb_medoids_ratio': 0.2, 'svm_gamma': 0.3, 'svm_c': 0.001}\n",
      "\n",
      "validation micro-F1 @1: 0.15346534653465346\n",
      "validation micro-F1 @2: 0.14603960396039603\n",
      "validation micro-F1 @3: 0.1254125412541254\n",
      "validation micro-F1 @4: 0.11262376237623763\n",
      "validation micro-F1 @5: 0.10297029702970296\n",
      "validation micro-F1 @6: 0.10231023102310231\n",
      "validation micro-F1 @7: 0.10537482319660538\n",
      "validation micro-F1 @8: 0.10272277227722772\n",
      "validation micro-F1 @9: 0.09845984598459846\n",
      "validation micro-F1 @10: 0.09257425742574257\n"
     ]
    },
    {
     "name": "stderr",
     "output_type": "stream",
     "text": [
      "\r",
      "  1%|          | 55/4536 [1:17:22<105:04:33, 84.42s/it]"
     ]
    },
    {
     "name": "stdout",
     "output_type": "stream",
     "text": [
      "iter: 54, configuration: {'vectorizer_norm': 'l1', 'svm_degree': 4, 'medoid_normalization': 'standard', 'svm_kernel': 'rbf', 'nb_medoids_ratio': 0.2, 'svm_gamma': 0.5, 'svm_c': 0.001}\n",
      "\n",
      "validation micro-F1 @1: 0.01485148514851485\n",
      "validation micro-F1 @2: 0.012376237623762377\n",
      "validation micro-F1 @3: 0.00825082508250825\n",
      "validation micro-F1 @4: 0.007425742574257425\n",
      "validation micro-F1 @5: 0.006930693069306931\n",
      "validation micro-F1 @6: 0.010726072607260726\n",
      "validation micro-F1 @7: 0.01272984441301273\n",
      "validation micro-F1 @8: 0.01485148514851485\n",
      "validation micro-F1 @9: 0.020902090209020903\n",
      "validation micro-F1 @10: 0.023762376237623763\n"
     ]
    },
    {
     "name": "stderr",
     "output_type": "stream",
     "text": [
      "\r",
      "  1%|          | 56/4536 [1:17:54<103:53:06, 83.48s/it]"
     ]
    },
    {
     "name": "stdout",
     "output_type": "stream",
     "text": [
      "iter: 55, configuration: {'vectorizer_norm': 'l2', 'svm_degree': 4, 'medoid_normalization': 'standard', 'svm_kernel': 'rbf', 'nb_medoids_ratio': 0.2, 'svm_gamma': 0.5, 'svm_c': 0.001}\n",
      "\n",
      "validation micro-F1 @1: 0.13366336633663367\n",
      "validation micro-F1 @2: 0.13861386138613863\n",
      "validation micro-F1 @3: 0.12706270627062707\n",
      "validation micro-F1 @4: 0.11262376237623763\n",
      "validation micro-F1 @5: 0.10594059405940594\n",
      "validation micro-F1 @6: 0.10643564356435643\n",
      "validation micro-F1 @7: 0.10396039603960396\n",
      "validation micro-F1 @8: 0.09962871287128713\n",
      "validation micro-F1 @9: 0.09570957095709572\n",
      "validation micro-F1 @10: 0.09455445544554456\n"
     ]
    },
    {
     "name": "stderr",
     "output_type": "stream",
     "text": [
      "\r",
      "  1%|▏         | 57/4536 [1:18:33<102:53:02, 82.69s/it]"
     ]
    },
    {
     "name": "stdout",
     "output_type": "stream",
     "text": [
      "iter: 56, configuration: {'vectorizer_norm': None, 'svm_degree': 4, 'medoid_normalization': 'standard', 'svm_kernel': 'rbf', 'nb_medoids_ratio': 0.2, 'svm_gamma': 0.5, 'svm_c': 0.001}\n",
      "\n",
      "validation micro-F1 @1: 0.13861386138613863\n",
      "validation micro-F1 @2: 0.15099009900990099\n",
      "validation micro-F1 @3: 0.12871287128712872\n",
      "validation micro-F1 @4: 0.11386138613861387\n",
      "validation micro-F1 @5: 0.10495049504950495\n",
      "validation micro-F1 @6: 0.09818481848184818\n",
      "validation micro-F1 @7: 0.09688826025459689\n",
      "validation micro-F1 @8: 0.09962871287128713\n",
      "validation micro-F1 @9: 0.09900990099009901\n",
      "validation micro-F1 @10: 0.09405940594059406\n"
     ]
    },
    {
     "name": "stderr",
     "output_type": "stream",
     "text": [
      "\r",
      "  1%|▏         | 58/4536 [1:19:52<102:46:25, 82.62s/it]"
     ]
    },
    {
     "name": "stdout",
     "output_type": "stream",
     "text": [
      "iter: 57, configuration: {'vectorizer_norm': 'l1', 'svm_degree': 4, 'medoid_normalization': 'standard', 'svm_kernel': 'poly', 'nb_medoids_ratio': 0.2, 'svm_gamma': 0.5, 'svm_c': 0.001}\n",
      "\n",
      "validation micro-F1 @1: 0.13366336633663367\n",
      "validation micro-F1 @2: 0.1485148514851485\n",
      "validation micro-F1 @3: 0.12871287128712872\n",
      "validation micro-F1 @4: 0.11386138613861387\n",
      "validation micro-F1 @5: 0.10495049504950495\n",
      "validation micro-F1 @6: 0.10066006600660066\n",
      "validation micro-F1 @7: 0.10113154172560113\n",
      "validation micro-F1 @8: 0.09715346534653466\n",
      "validation micro-F1 @9: 0.09625962596259625\n",
      "validation micro-F1 @10: 0.09653465346534654\n"
     ]
    },
    {
     "name": "stderr",
     "output_type": "stream",
     "text": [
      "\r",
      "  1%|▏         | 59/4536 [1:22:50<104:45:51, 84.24s/it]"
     ]
    },
    {
     "name": "stdout",
     "output_type": "stream",
     "text": [
      "iter: 58, configuration: {'vectorizer_norm': 'l2', 'svm_degree': 4, 'medoid_normalization': 'standard', 'svm_kernel': 'poly', 'nb_medoids_ratio': 0.2, 'svm_gamma': 0.5, 'svm_c': 0.001}\n",
      "\n",
      "validation micro-F1 @1: 0.14356435643564355\n",
      "validation micro-F1 @2: 0.13366336633663367\n",
      "validation micro-F1 @3: 0.12211221122112212\n",
      "validation micro-F1 @4: 0.11386138613861387\n",
      "validation micro-F1 @5: 0.10495049504950495\n",
      "validation micro-F1 @6: 0.10643564356435643\n",
      "validation micro-F1 @7: 0.10113154172560113\n",
      "validation micro-F1 @8: 0.0983910891089109\n",
      "validation micro-F1 @9: 0.09625962596259625\n",
      "validation micro-F1 @10: 0.09554455445544555\n"
     ]
    },
    {
     "name": "stderr",
     "output_type": "stream",
     "text": [
      "\r",
      "  1%|▏         | 60/4536 [1:25:35<106:25:41, 85.60s/it]"
     ]
    },
    {
     "name": "stdout",
     "output_type": "stream",
     "text": [
      "iter: 59, configuration: {'vectorizer_norm': None, 'svm_degree': 4, 'medoid_normalization': 'standard', 'svm_kernel': 'poly', 'nb_medoids_ratio': 0.2, 'svm_gamma': 0.5, 'svm_c': 0.001}\n",
      "\n",
      "validation micro-F1 @1: 0.13366336633663367\n",
      "validation micro-F1 @2: 0.1485148514851485\n",
      "validation micro-F1 @3: 0.12706270627062707\n",
      "validation micro-F1 @4: 0.11262376237623763\n",
      "validation micro-F1 @5: 0.10396039603960396\n",
      "validation micro-F1 @6: 0.09983498349834984\n",
      "validation micro-F1 @7: 0.10113154172560113\n",
      "validation micro-F1 @8: 0.09900990099009901\n",
      "validation micro-F1 @9: 0.09900990099009901\n",
      "validation micro-F1 @10: 0.09405940594059406\n"
     ]
    },
    {
     "name": "stderr",
     "output_type": "stream",
     "text": [
      "\r",
      "  1%|▏         | 61/4536 [1:26:07<105:18:03, 84.71s/it]"
     ]
    },
    {
     "name": "stdout",
     "output_type": "stream",
     "text": [
      "iter: 60, configuration: {'vectorizer_norm': 'l1', 'svm_degree': 4, 'medoid_normalization': 'standard', 'svm_kernel': 'rbf', 'nb_medoids_ratio': 0.2, 'svm_gamma': 1.0, 'svm_c': 0.001}\n",
      "\n",
      "validation micro-F1 @1: 0.0049504950495049506\n",
      "validation micro-F1 @2: 0.009900990099009901\n",
      "validation micro-F1 @3: 0.02145214521452145\n",
      "validation micro-F1 @4: 0.034653465346534656\n",
      "validation micro-F1 @5: 0.04455445544554455\n",
      "validation micro-F1 @6: 0.05198019801980198\n",
      "validation micro-F1 @7: 0.05304101838755304\n",
      "validation micro-F1 @8: 0.054455445544554455\n",
      "validation micro-F1 @9: 0.05500550055005501\n",
      "validation micro-F1 @10: 0.05693069306930693\n"
     ]
    },
    {
     "name": "stderr",
     "output_type": "stream",
     "text": [
      "\r",
      "  1%|▏         | 62/4536 [1:26:39<104:13:16, 83.86s/it]"
     ]
    },
    {
     "name": "stdout",
     "output_type": "stream",
     "text": [
      "iter: 61, configuration: {'vectorizer_norm': 'l2', 'svm_degree': 4, 'medoid_normalization': 'standard', 'svm_kernel': 'rbf', 'nb_medoids_ratio': 0.2, 'svm_gamma': 1.0, 'svm_c': 0.001}\n",
      "\n",
      "validation micro-F1 @1: 0.13366336633663367\n",
      "validation micro-F1 @2: 0.12871287128712872\n",
      "validation micro-F1 @3: 0.12046204620462046\n",
      "validation micro-F1 @4: 0.11014851485148515\n",
      "validation micro-F1 @5: 0.10297029702970296\n",
      "validation micro-F1 @6: 0.09735973597359736\n",
      "validation micro-F1 @7: 0.09759547383309759\n",
      "validation micro-F1 @8: 0.0983910891089109\n",
      "validation micro-F1 @9: 0.0968096809680968\n",
      "validation micro-F1 @10: 0.09257425742574257\n"
     ]
    },
    {
     "name": "stderr",
     "output_type": "stream",
     "text": [
      "\r",
      "  1%|▏         | 63/4536 [1:27:17<103:17:15, 83.13s/it]"
     ]
    },
    {
     "name": "stdout",
     "output_type": "stream",
     "text": [
      "iter: 62, configuration: {'vectorizer_norm': None, 'svm_degree': 4, 'medoid_normalization': 'standard', 'svm_kernel': 'rbf', 'nb_medoids_ratio': 0.2, 'svm_gamma': 1.0, 'svm_c': 0.001}\n",
      "\n",
      "validation micro-F1 @1: 0.13861386138613863\n",
      "validation micro-F1 @2: 0.15099009900990099\n",
      "validation micro-F1 @3: 0.12871287128712872\n",
      "validation micro-F1 @4: 0.11386138613861387\n",
      "validation micro-F1 @5: 0.10495049504950495\n",
      "validation micro-F1 @6: 0.09818481848184818\n",
      "validation micro-F1 @7: 0.09688826025459689\n",
      "validation micro-F1 @8: 0.09962871287128713\n",
      "validation micro-F1 @9: 0.09900990099009901\n",
      "validation micro-F1 @10: 0.09405940594059406\n"
     ]
    },
    {
     "name": "stderr",
     "output_type": "stream",
     "text": [
      "\r",
      "  1%|▏         | 64/4536 [1:28:40<103:15:58, 83.13s/it]"
     ]
    },
    {
     "name": "stdout",
     "output_type": "stream",
     "text": [
      "iter: 63, configuration: {'vectorizer_norm': 'l1', 'svm_degree': 4, 'medoid_normalization': 'standard', 'svm_kernel': 'poly', 'nb_medoids_ratio': 0.2, 'svm_gamma': 1.0, 'svm_c': 0.001}\n",
      "\n",
      "validation micro-F1 @1: 0.13861386138613863\n",
      "validation micro-F1 @2: 0.15099009900990099\n",
      "validation micro-F1 @3: 0.12871287128712872\n",
      "validation micro-F1 @4: 0.11386138613861387\n",
      "validation micro-F1 @5: 0.10495049504950495\n",
      "validation micro-F1 @6: 0.10396039603960396\n",
      "validation micro-F1 @7: 0.10325318246110325\n",
      "validation micro-F1 @8: 0.10457920792079207\n",
      "validation micro-F1 @9: 0.10066006600660066\n",
      "validation micro-F1 @10: 0.09801980198019802\n"
     ]
    },
    {
     "name": "stderr",
     "output_type": "stream",
     "text": [
      "\r",
      "  1%|▏         | 65/4536 [1:31:49<105:16:05, 84.76s/it]"
     ]
    },
    {
     "name": "stdout",
     "output_type": "stream",
     "text": [
      "iter: 64, configuration: {'vectorizer_norm': 'l2', 'svm_degree': 4, 'medoid_normalization': 'standard', 'svm_kernel': 'poly', 'nb_medoids_ratio': 0.2, 'svm_gamma': 1.0, 'svm_c': 0.001}\n",
      "\n",
      "validation micro-F1 @1: 0.12376237623762376\n",
      "validation micro-F1 @2: 0.1485148514851485\n",
      "validation micro-F1 @3: 0.13036303630363036\n",
      "validation micro-F1 @4: 0.11633663366336634\n",
      "validation micro-F1 @5: 0.11188118811881188\n",
      "validation micro-F1 @6: 0.10478547854785479\n",
      "validation micro-F1 @7: 0.10042432814710042\n",
      "validation micro-F1 @8: 0.10086633663366337\n",
      "validation micro-F1 @9: 0.1001100110011001\n",
      "validation micro-F1 @10: 0.09455445544554456\n"
     ]
    },
    {
     "name": "stderr",
     "output_type": "stream",
     "text": [
      "\r",
      "  1%|▏         | 66/4536 [1:34:36<106:47:06, 86.00s/it]"
     ]
    },
    {
     "name": "stdout",
     "output_type": "stream",
     "text": [
      "iter: 65, configuration: {'vectorizer_norm': None, 'svm_degree': 4, 'medoid_normalization': 'standard', 'svm_kernel': 'poly', 'nb_medoids_ratio': 0.2, 'svm_gamma': 1.0, 'svm_c': 0.001}\n",
      "\n",
      "validation micro-F1 @1: 0.12871287128712872\n",
      "validation micro-F1 @2: 0.14356435643564355\n",
      "validation micro-F1 @3: 0.12211221122112212\n",
      "validation micro-F1 @4: 0.11014851485148515\n",
      "validation micro-F1 @5: 0.10594059405940594\n",
      "validation micro-F1 @6: 0.10478547854785479\n",
      "validation micro-F1 @7: 0.10396039603960396\n",
      "validation micro-F1 @8: 0.10334158415841584\n",
      "validation micro-F1 @9: 0.09790979097909791\n",
      "validation micro-F1 @10: 0.09306930693069307\n"
     ]
    },
    {
     "name": "stderr",
     "output_type": "stream",
     "text": [
      "\r",
      "  1%|▏         | 67/4536 [1:35:07<105:44:53, 85.19s/it]"
     ]
    },
    {
     "name": "stdout",
     "output_type": "stream",
     "text": [
      "iter: 66, configuration: {'vectorizer_norm': 'l1', 'svm_degree': 4, 'medoid_normalization': 'standard', 'svm_kernel': 'rbf', 'nb_medoids_ratio': 0.2, 'svm_gamma': 'auto', 'svm_c': 0.001}\n",
      "\n",
      "validation micro-F1 @1: 0.009900990099009901\n",
      "validation micro-F1 @2: 0.007425742574257425\n",
      "validation micro-F1 @3: 0.009900990099009901\n",
      "validation micro-F1 @4: 0.011138613861386138\n",
      "validation micro-F1 @5: 0.01089108910891089\n",
      "validation micro-F1 @6: 0.014026402640264026\n",
      "validation micro-F1 @7: 0.01485148514851485\n",
      "validation micro-F1 @8: 0.01485148514851485\n",
      "validation micro-F1 @9: 0.013751375137513752\n",
      "validation micro-F1 @10: 0.013861386138613862\n"
     ]
    },
    {
     "name": "stderr",
     "output_type": "stream",
     "text": [
      "\r",
      "  1%|▏         | 68/4536 [1:35:39<104:44:55, 84.40s/it]"
     ]
    },
    {
     "name": "stdout",
     "output_type": "stream",
     "text": [
      "iter: 67, configuration: {'vectorizer_norm': 'l2', 'svm_degree': 4, 'medoid_normalization': 'standard', 'svm_kernel': 'rbf', 'nb_medoids_ratio': 0.2, 'svm_gamma': 'auto', 'svm_c': 0.001}\n",
      "\n",
      "validation micro-F1 @1: 0.009900990099009901\n",
      "validation micro-F1 @2: 0.019801980198019802\n",
      "validation micro-F1 @3: 0.01485148514851485\n",
      "validation micro-F1 @4: 0.012376237623762377\n",
      "validation micro-F1 @5: 0.011881188118811881\n",
      "validation micro-F1 @6: 0.010726072607260726\n",
      "validation micro-F1 @7: 0.011315417256011316\n",
      "validation micro-F1 @8: 0.011757425742574257\n",
      "validation micro-F1 @9: 0.012651265126512651\n",
      "validation micro-F1 @10: 0.01485148514851485\n"
     ]
    },
    {
     "name": "stderr",
     "output_type": "stream",
     "text": [
      "\r",
      "  2%|▏         | 69/4536 [1:36:11<103:47:21, 83.64s/it]"
     ]
    },
    {
     "name": "stdout",
     "output_type": "stream",
     "text": [
      "iter: 68, configuration: {'vectorizer_norm': None, 'svm_degree': 4, 'medoid_normalization': 'standard', 'svm_kernel': 'rbf', 'nb_medoids_ratio': 0.2, 'svm_gamma': 'auto', 'svm_c': 0.001}\n",
      "\n",
      "validation micro-F1 @1: 0.10891089108910891\n",
      "validation micro-F1 @2: 0.13366336633663367\n",
      "validation micro-F1 @3: 0.11551155115511551\n",
      "validation micro-F1 @4: 0.10396039603960396\n",
      "validation micro-F1 @5: 0.10297029702970296\n",
      "validation micro-F1 @6: 0.09735973597359736\n",
      "validation micro-F1 @7: 0.09476661951909476\n",
      "validation micro-F1 @8: 0.0952970297029703\n",
      "validation micro-F1 @9: 0.09460946094609461\n",
      "validation micro-F1 @10: 0.09356435643564356\n"
     ]
    },
    {
     "name": "stderr",
     "output_type": "stream",
     "text": [
      "\r",
      "  2%|▏         | 70/4536 [1:36:41<102:48:47, 82.88s/it]"
     ]
    },
    {
     "name": "stdout",
     "output_type": "stream",
     "text": [
      "iter: 69, configuration: {'vectorizer_norm': 'l1', 'svm_degree': 4, 'medoid_normalization': 'standard', 'svm_kernel': 'poly', 'nb_medoids_ratio': 0.2, 'svm_gamma': 'auto', 'svm_c': 0.001}\n",
      "\n",
      "validation micro-F1 @1: 0.0049504950495049506\n",
      "validation micro-F1 @2: 0.007425742574257425\n",
      "validation micro-F1 @3: 0.0049504950495049506\n",
      "validation micro-F1 @4: 0.009900990099009901\n",
      "validation micro-F1 @5: 0.01485148514851485\n",
      "validation micro-F1 @6: 0.013201320132013201\n",
      "validation micro-F1 @7: 0.016265912305516265\n",
      "validation micro-F1 @8: 0.018564356435643563\n",
      "validation micro-F1 @9: 0.0165016501650165\n",
      "validation micro-F1 @10: 0.015841584158415842\n"
     ]
    },
    {
     "name": "stderr",
     "output_type": "stream",
     "text": [
      "\r",
      "  2%|▏         | 71/4536 [1:37:10<101:51:22, 82.12s/it]"
     ]
    },
    {
     "name": "stdout",
     "output_type": "stream",
     "text": [
      "iter: 70, configuration: {'vectorizer_norm': 'l2', 'svm_degree': 4, 'medoid_normalization': 'standard', 'svm_kernel': 'poly', 'nb_medoids_ratio': 0.2, 'svm_gamma': 'auto', 'svm_c': 0.001}\n",
      "\n",
      "validation micro-F1 @1: 0.009900990099009901\n",
      "validation micro-F1 @2: 0.01485148514851485\n",
      "validation micro-F1 @3: 0.0165016501650165\n",
      "validation micro-F1 @4: 0.01608910891089109\n",
      "validation micro-F1 @5: 0.01881188118811881\n",
      "validation micro-F1 @6: 0.02145214521452145\n",
      "validation micro-F1 @7: 0.021923620933521924\n",
      "validation micro-F1 @8: 0.023514851485148515\n",
      "validation micro-F1 @9: 0.027502750275027504\n",
      "validation micro-F1 @10: 0.030693069306930693\n"
     ]
    },
    {
     "name": "stderr",
     "output_type": "stream",
     "text": [
      "\r",
      "  2%|▏         | 72/4536 [1:39:50<103:10:38, 83.21s/it]"
     ]
    },
    {
     "name": "stdout",
     "output_type": "stream",
     "text": [
      "iter: 71, configuration: {'vectorizer_norm': None, 'svm_degree': 4, 'medoid_normalization': 'standard', 'svm_kernel': 'poly', 'nb_medoids_ratio': 0.2, 'svm_gamma': 'auto', 'svm_c': 0.001}\n",
      "\n",
      "validation micro-F1 @1: 0.13366336633663367\n",
      "validation micro-F1 @2: 0.1485148514851485\n",
      "validation micro-F1 @3: 0.12211221122112212\n",
      "validation micro-F1 @4: 0.11262376237623763\n",
      "validation micro-F1 @5: 0.10495049504950495\n",
      "validation micro-F1 @6: 0.09900990099009901\n",
      "validation micro-F1 @7: 0.09759547383309759\n",
      "validation micro-F1 @8: 0.09900990099009901\n",
      "validation micro-F1 @9: 0.09845984598459846\n",
      "validation micro-F1 @10: 0.09356435643564356\n"
     ]
    },
    {
     "name": "stderr",
     "output_type": "stream",
     "text": [
      "\r",
      "  2%|▏         | 73/4536 [1:40:22<102:16:26, 82.50s/it]"
     ]
    },
    {
     "name": "stdout",
     "output_type": "stream",
     "text": [
      "iter: 72, configuration: {'vectorizer_norm': 'l1', 'svm_degree': 5, 'medoid_normalization': 'standard', 'svm_kernel': 'rbf', 'nb_medoids_ratio': 0.2, 'svm_gamma': 0.1, 'svm_c': 0.001}\n",
      "\n",
      "validation micro-F1 @1: 0.009900990099009901\n",
      "validation micro-F1 @2: 0.0049504950495049506\n",
      "validation micro-F1 @3: 0.006600660066006601\n",
      "validation micro-F1 @4: 0.006188118811881188\n",
      "validation micro-F1 @5: 0.006930693069306931\n",
      "validation micro-F1 @6: 0.00825082508250825\n",
      "validation micro-F1 @7: 0.008486562942008486\n",
      "validation micro-F1 @8: 0.008044554455445545\n",
      "validation micro-F1 @9: 0.007700770077007701\n",
      "validation micro-F1 @10: 0.008415841584158416\n"
     ]
    },
    {
     "name": "stderr",
     "output_type": "stream",
     "text": [
      "\r",
      "  2%|▏         | 74/4536 [1:40:53<101:23:56, 81.81s/it]"
     ]
    },
    {
     "name": "stdout",
     "output_type": "stream",
     "text": [
      "iter: 73, configuration: {'vectorizer_norm': 'l2', 'svm_degree': 5, 'medoid_normalization': 'standard', 'svm_kernel': 'rbf', 'nb_medoids_ratio': 0.2, 'svm_gamma': 0.1, 'svm_c': 0.001}\n",
      "\n",
      "validation micro-F1 @1: 0.009900990099009901\n",
      "validation micro-F1 @2: 0.019801980198019802\n",
      "validation micro-F1 @3: 0.018151815181518153\n",
      "validation micro-F1 @4: 0.024752475247524754\n",
      "validation micro-F1 @5: 0.028712871287128714\n",
      "validation micro-F1 @6: 0.03382838283828383\n",
      "validation micro-F1 @7: 0.038896746817538894\n",
      "validation micro-F1 @8: 0.04517326732673267\n",
      "validation micro-F1 @9: 0.05005500550055005\n",
      "validation micro-F1 @10: 0.054455445544554455\n"
     ]
    },
    {
     "name": "stderr",
     "output_type": "stream",
     "text": [
      "\r",
      "  2%|▏         | 75/4536 [1:41:26<100:34:12, 81.16s/it]"
     ]
    },
    {
     "name": "stdout",
     "output_type": "stream",
     "text": [
      "iter: 74, configuration: {'vectorizer_norm': None, 'svm_degree': 5, 'medoid_normalization': 'standard', 'svm_kernel': 'rbf', 'nb_medoids_ratio': 0.2, 'svm_gamma': 0.1, 'svm_c': 0.001}\n",
      "\n",
      "validation micro-F1 @1: 0.13366336633663367\n",
      "validation micro-F1 @2: 0.14603960396039603\n",
      "validation micro-F1 @3: 0.12706270627062707\n",
      "validation micro-F1 @4: 0.11386138613861387\n",
      "validation micro-F1 @5: 0.10594059405940594\n",
      "validation micro-F1 @6: 0.09900990099009901\n",
      "validation micro-F1 @7: 0.10183875530410184\n",
      "validation micro-F1 @8: 0.10024752475247525\n",
      "validation micro-F1 @9: 0.09900990099009901\n",
      "validation micro-F1 @10: 0.09356435643564356\n"
     ]
    },
    {
     "name": "stderr",
     "output_type": "stream",
     "text": [
      "\r",
      "  2%|▏         | 76/4536 [1:42:15<100:01:25, 80.74s/it]"
     ]
    },
    {
     "name": "stdout",
     "output_type": "stream",
     "text": [
      "iter: 75, configuration: {'vectorizer_norm': 'l1', 'svm_degree': 5, 'medoid_normalization': 'standard', 'svm_kernel': 'poly', 'nb_medoids_ratio': 0.2, 'svm_gamma': 0.1, 'svm_c': 0.001}\n",
      "\n",
      "validation micro-F1 @1: 0.13366336633663367\n",
      "validation micro-F1 @2: 0.1485148514851485\n",
      "validation micro-F1 @3: 0.12706270627062707\n",
      "validation micro-F1 @4: 0.11386138613861387\n",
      "validation micro-F1 @5: 0.10495049504950495\n",
      "validation micro-F1 @6: 0.09735973597359736\n",
      "validation micro-F1 @7: 0.0983026874115983\n",
      "validation micro-F1 @8: 0.09715346534653466\n",
      "validation micro-F1 @9: 0.09900990099009901\n",
      "validation micro-F1 @10: 0.09405940594059406\n"
     ]
    },
    {
     "name": "stderr",
     "output_type": "stream",
     "text": [
      "\r",
      "  2%|▏         | 77/4536 [1:44:39<101:00:17, 81.55s/it]"
     ]
    },
    {
     "name": "stdout",
     "output_type": "stream",
     "text": [
      "iter: 76, configuration: {'vectorizer_norm': 'l2', 'svm_degree': 5, 'medoid_normalization': 'standard', 'svm_kernel': 'poly', 'nb_medoids_ratio': 0.2, 'svm_gamma': 0.1, 'svm_c': 0.001}\n",
      "\n",
      "validation micro-F1 @1: 0.13861386138613863\n",
      "validation micro-F1 @2: 0.15099009900990099\n",
      "validation micro-F1 @3: 0.12871287128712872\n",
      "validation micro-F1 @4: 0.11386138613861387\n",
      "validation micro-F1 @5: 0.10495049504950495\n",
      "validation micro-F1 @6: 0.10561056105610561\n",
      "validation micro-F1 @7: 0.10466760961810467\n",
      "validation micro-F1 @8: 0.10148514851485149\n",
      "validation micro-F1 @9: 0.09955995599559957\n",
      "validation micro-F1 @10: 0.09356435643564356\n"
     ]
    },
    {
     "name": "stderr",
     "output_type": "stream",
     "text": [
      "\r",
      "  2%|▏         | 78/4536 [1:47:30<102:24:12, 82.69s/it]"
     ]
    },
    {
     "name": "stdout",
     "output_type": "stream",
     "text": [
      "iter: 77, configuration: {'vectorizer_norm': None, 'svm_degree': 5, 'medoid_normalization': 'standard', 'svm_kernel': 'poly', 'nb_medoids_ratio': 0.2, 'svm_gamma': 0.1, 'svm_c': 0.001}\n",
      "\n",
      "validation micro-F1 @1: 0.13366336633663367\n",
      "validation micro-F1 @2: 0.1485148514851485\n",
      "validation micro-F1 @3: 0.12706270627062707\n",
      "validation micro-F1 @4: 0.11262376237623763\n",
      "validation micro-F1 @5: 0.10297029702970296\n",
      "validation micro-F1 @6: 0.10313531353135313\n",
      "validation micro-F1 @7: 0.09971711456859972\n",
      "validation micro-F1 @8: 0.09962871287128713\n",
      "validation micro-F1 @9: 0.09845984598459846\n",
      "validation micro-F1 @10: 0.09356435643564356\n"
     ]
    },
    {
     "name": "stderr",
     "output_type": "stream",
     "text": [
      "\r",
      "  2%|▏         | 79/4536 [1:48:01<101:34:41, 82.05s/it]"
     ]
    },
    {
     "name": "stdout",
     "output_type": "stream",
     "text": [
      "iter: 78, configuration: {'vectorizer_norm': 'l1', 'svm_degree': 5, 'medoid_normalization': 'standard', 'svm_kernel': 'rbf', 'nb_medoids_ratio': 0.2, 'svm_gamma': 0.2, 'svm_c': 0.001}\n",
      "\n",
      "validation micro-F1 @1: 0.01485148514851485\n",
      "validation micro-F1 @2: 0.009900990099009901\n",
      "validation micro-F1 @3: 0.01155115511551155\n",
      "validation micro-F1 @4: 0.008663366336633664\n",
      "validation micro-F1 @5: 0.007920792079207921\n",
      "validation micro-F1 @6: 0.007425742574257425\n",
      "validation micro-F1 @7: 0.007072135785007072\n",
      "validation micro-F1 @8: 0.007425742574257425\n",
      "validation micro-F1 @9: 0.007700770077007701\n",
      "validation micro-F1 @10: 0.009405940594059406\n"
     ]
    },
    {
     "name": "stderr",
     "output_type": "stream",
     "text": [
      "\r",
      "  2%|▏         | 80/4536 [1:48:33<100:46:52, 81.42s/it]"
     ]
    },
    {
     "name": "stdout",
     "output_type": "stream",
     "text": [
      "iter: 79, configuration: {'vectorizer_norm': 'l2', 'svm_degree': 5, 'medoid_normalization': 'standard', 'svm_kernel': 'rbf', 'nb_medoids_ratio': 0.2, 'svm_gamma': 0.2, 'svm_c': 0.001}\n",
      "\n",
      "validation micro-F1 @1: 0.024752475247524754\n",
      "validation micro-F1 @2: 0.05693069306930693\n",
      "validation micro-F1 @3: 0.07425742574257425\n",
      "validation micro-F1 @4: 0.0891089108910891\n",
      "validation micro-F1 @5: 0.08811881188118811\n",
      "validation micro-F1 @6: 0.08745874587458746\n",
      "validation micro-F1 @7: 0.0891089108910891\n",
      "validation micro-F1 @8: 0.08849009900990099\n",
      "validation micro-F1 @9: 0.08800880088008801\n",
      "validation micro-F1 @10: 0.08613861386138613\n"
     ]
    },
    {
     "name": "stderr",
     "output_type": "stream",
     "text": [
      "\r",
      "  2%|▏         | 81/4536 [1:49:11<100:05:39, 80.88s/it]"
     ]
    },
    {
     "name": "stdout",
     "output_type": "stream",
     "text": [
      "iter: 80, configuration: {'vectorizer_norm': None, 'svm_degree': 5, 'medoid_normalization': 'standard', 'svm_kernel': 'rbf', 'nb_medoids_ratio': 0.2, 'svm_gamma': 0.2, 'svm_c': 0.001}\n",
      "\n",
      "validation micro-F1 @1: 0.13366336633663367\n",
      "validation micro-F1 @2: 0.1485148514851485\n",
      "validation micro-F1 @3: 0.12706270627062707\n",
      "validation micro-F1 @4: 0.11262376237623763\n",
      "validation micro-F1 @5: 0.10396039603960396\n",
      "validation micro-F1 @6: 0.09818481848184818\n",
      "validation micro-F1 @7: 0.10113154172560113\n",
      "validation micro-F1 @8: 0.09962871287128713\n",
      "validation micro-F1 @9: 0.09900990099009901\n",
      "validation micro-F1 @10: 0.09405940594059406\n"
     ]
    },
    {
     "name": "stderr",
     "output_type": "stream",
     "text": [
      "\r",
      "  2%|▏         | 82/4536 [1:50:21<99:54:23, 80.75s/it] "
     ]
    },
    {
     "name": "stdout",
     "output_type": "stream",
     "text": [
      "iter: 81, configuration: {'vectorizer_norm': 'l1', 'svm_degree': 5, 'medoid_normalization': 'standard', 'svm_kernel': 'poly', 'nb_medoids_ratio': 0.2, 'svm_gamma': 0.2, 'svm_c': 0.001}\n",
      "\n",
      "validation micro-F1 @1: 0.13366336633663367\n",
      "validation micro-F1 @2: 0.1485148514851485\n",
      "validation micro-F1 @3: 0.12871287128712872\n",
      "validation micro-F1 @4: 0.11386138613861387\n",
      "validation micro-F1 @5: 0.10495049504950495\n",
      "validation micro-F1 @6: 0.10643564356435643\n",
      "validation micro-F1 @7: 0.10466760961810467\n",
      "validation micro-F1 @8: 0.09900990099009901\n",
      "validation micro-F1 @9: 0.09845984598459846\n",
      "validation micro-F1 @10: 0.09702970297029703\n"
     ]
    },
    {
     "name": "stderr",
     "output_type": "stream",
     "text": [
      "\r",
      "  2%|▏         | 83/4536 [1:53:10<101:11:45, 81.81s/it]"
     ]
    },
    {
     "name": "stdout",
     "output_type": "stream",
     "text": [
      "iter: 82, configuration: {'vectorizer_norm': 'l2', 'svm_degree': 5, 'medoid_normalization': 'standard', 'svm_kernel': 'poly', 'nb_medoids_ratio': 0.2, 'svm_gamma': 0.2, 'svm_c': 0.001}\n",
      "\n",
      "validation micro-F1 @1: 0.15346534653465346\n",
      "validation micro-F1 @2: 0.14356435643564355\n",
      "validation micro-F1 @3: 0.12706270627062707\n",
      "validation micro-F1 @4: 0.1150990099009901\n",
      "validation micro-F1 @5: 0.10495049504950495\n",
      "validation micro-F1 @6: 0.09983498349834984\n",
      "validation micro-F1 @7: 0.10254596888260255\n",
      "validation micro-F1 @8: 0.10024752475247525\n",
      "validation micro-F1 @9: 0.0968096809680968\n",
      "validation micro-F1 @10: 0.09801980198019802\n"
     ]
    },
    {
     "name": "stderr",
     "output_type": "stream",
     "text": [
      "\r",
      "  2%|▏         | 84/4536 [1:56:02<102:30:20, 82.89s/it]"
     ]
    },
    {
     "name": "stdout",
     "output_type": "stream",
     "text": [
      "iter: 83, configuration: {'vectorizer_norm': None, 'svm_degree': 5, 'medoid_normalization': 'standard', 'svm_kernel': 'poly', 'nb_medoids_ratio': 0.2, 'svm_gamma': 0.2, 'svm_c': 0.001}\n",
      "\n",
      "validation micro-F1 @1: 0.13861386138613863\n",
      "validation micro-F1 @2: 0.14603960396039603\n",
      "validation micro-F1 @3: 0.1254125412541254\n",
      "validation micro-F1 @4: 0.11262376237623763\n",
      "validation micro-F1 @5: 0.10396039603960396\n",
      "validation micro-F1 @6: 0.09818481848184818\n",
      "validation micro-F1 @7: 0.10113154172560113\n",
      "validation micro-F1 @8: 0.10024752475247525\n",
      "validation micro-F1 @9: 0.09845984598459846\n",
      "validation micro-F1 @10: 0.09455445544554456\n"
     ]
    },
    {
     "name": "stderr",
     "output_type": "stream",
     "text": [
      "\r",
      "  2%|▏         | 85/4536 [1:56:34<101:44:24, 82.29s/it]"
     ]
    },
    {
     "name": "stdout",
     "output_type": "stream",
     "text": [
      "iter: 84, configuration: {'vectorizer_norm': 'l1', 'svm_degree': 5, 'medoid_normalization': 'standard', 'svm_kernel': 'rbf', 'nb_medoids_ratio': 0.2, 'svm_gamma': 0.3, 'svm_c': 0.001}\n",
      "\n",
      "validation micro-F1 @1: 0.009900990099009901\n",
      "validation micro-F1 @2: 0.0049504950495049506\n",
      "validation micro-F1 @3: 0.01155115511551155\n",
      "validation micro-F1 @4: 0.009900990099009901\n",
      "validation micro-F1 @5: 0.01287128712871287\n",
      "validation micro-F1 @6: 0.013201320132013201\n",
      "validation micro-F1 @7: 0.01272984441301273\n",
      "validation micro-F1 @8: 0.012376237623762377\n",
      "validation micro-F1 @9: 0.012651265126512651\n",
      "validation micro-F1 @10: 0.011881188118811881\n"
     ]
    },
    {
     "name": "stderr",
     "output_type": "stream",
     "text": [
      "\r",
      "  2%|▏         | 86/4536 [1:57:06<100:59:48, 81.71s/it]"
     ]
    },
    {
     "name": "stdout",
     "output_type": "stream",
     "text": [
      "iter: 85, configuration: {'vectorizer_norm': 'l2', 'svm_degree': 5, 'medoid_normalization': 'standard', 'svm_kernel': 'rbf', 'nb_medoids_ratio': 0.2, 'svm_gamma': 0.3, 'svm_c': 0.001}\n",
      "\n",
      "validation micro-F1 @1: 0.12871287128712872\n",
      "validation micro-F1 @2: 0.14108910891089108\n",
      "validation micro-F1 @3: 0.12871287128712872\n",
      "validation micro-F1 @4: 0.11386138613861387\n",
      "validation micro-F1 @5: 0.10495049504950495\n",
      "validation micro-F1 @6: 0.10643564356435643\n",
      "validation micro-F1 @7: 0.10254596888260255\n",
      "validation micro-F1 @8: 0.10272277227722772\n",
      "validation micro-F1 @9: 0.09900990099009901\n",
      "validation micro-F1 @10: 0.09405940594059406\n"
     ]
    },
    {
     "name": "stderr",
     "output_type": "stream",
     "text": [
      "\r",
      "  2%|▏         | 87/4536 [1:57:45<100:22:04, 81.21s/it]"
     ]
    },
    {
     "name": "stdout",
     "output_type": "stream",
     "text": [
      "iter: 86, configuration: {'vectorizer_norm': None, 'svm_degree': 5, 'medoid_normalization': 'standard', 'svm_kernel': 'rbf', 'nb_medoids_ratio': 0.2, 'svm_gamma': 0.3, 'svm_c': 0.001}\n",
      "\n",
      "validation micro-F1 @1: 0.13366336633663367\n",
      "validation micro-F1 @2: 0.1485148514851485\n",
      "validation micro-F1 @3: 0.12706270627062707\n",
      "validation micro-F1 @4: 0.11386138613861387\n",
      "validation micro-F1 @5: 0.10495049504950495\n",
      "validation micro-F1 @6: 0.09818481848184818\n",
      "validation micro-F1 @7: 0.10113154172560113\n",
      "validation micro-F1 @8: 0.09962871287128713\n",
      "validation micro-F1 @9: 0.09900990099009901\n",
      "validation micro-F1 @10: 0.09405940594059406\n"
     ]
    },
    {
     "name": "stderr",
     "output_type": "stream",
     "text": [
      "\r",
      "  2%|▏         | 88/4536 [1:59:04<100:18:56, 81.19s/it]"
     ]
    },
    {
     "name": "stdout",
     "output_type": "stream",
     "text": [
      "iter: 87, configuration: {'vectorizer_norm': 'l1', 'svm_degree': 5, 'medoid_normalization': 'standard', 'svm_kernel': 'poly', 'nb_medoids_ratio': 0.2, 'svm_gamma': 0.3, 'svm_c': 0.001}\n",
      "\n",
      "validation micro-F1 @1: 0.13861386138613863\n",
      "validation micro-F1 @2: 0.15099009900990099\n",
      "validation micro-F1 @3: 0.12871287128712872\n",
      "validation micro-F1 @4: 0.11262376237623763\n",
      "validation micro-F1 @5: 0.11188118811881188\n",
      "validation micro-F1 @6: 0.10478547854785479\n",
      "validation micro-F1 @7: 0.10183875530410184\n",
      "validation micro-F1 @8: 0.1021039603960396\n",
      "validation micro-F1 @9: 0.0968096809680968\n",
      "validation micro-F1 @10: 0.09405940594059406\n"
     ]
    },
    {
     "name": "stderr",
     "output_type": "stream",
     "text": [
      "\r",
      "  2%|▏         | 89/4536 [2:01:59<101:35:29, 82.24s/it]"
     ]
    },
    {
     "name": "stdout",
     "output_type": "stream",
     "text": [
      "iter: 88, configuration: {'vectorizer_norm': 'l2', 'svm_degree': 5, 'medoid_normalization': 'standard', 'svm_kernel': 'poly', 'nb_medoids_ratio': 0.2, 'svm_gamma': 0.3, 'svm_c': 0.001}\n",
      "\n",
      "validation micro-F1 @1: 0.13861386138613863\n",
      "validation micro-F1 @2: 0.1485148514851485\n",
      "validation micro-F1 @3: 0.12871287128712872\n",
      "validation micro-F1 @4: 0.11386138613861387\n",
      "validation micro-F1 @5: 0.10495049504950495\n",
      "validation micro-F1 @6: 0.10643564356435643\n",
      "validation micro-F1 @7: 0.10608203677510608\n",
      "validation micro-F1 @8: 0.10334158415841584\n",
      "validation micro-F1 @9: 0.10066006600660066\n",
      "validation micro-F1 @10: 0.09900990099009901\n"
     ]
    },
    {
     "name": "stderr",
     "output_type": "stream",
     "text": [
      "\r",
      "  2%|▏         | 90/4536 [2:04:59<102:54:22, 83.32s/it]"
     ]
    },
    {
     "name": "stdout",
     "output_type": "stream",
     "text": [
      "iter: 89, configuration: {'vectorizer_norm': None, 'svm_degree': 5, 'medoid_normalization': 'standard', 'svm_kernel': 'poly', 'nb_medoids_ratio': 0.2, 'svm_gamma': 0.3, 'svm_c': 0.001}\n",
      "\n",
      "validation micro-F1 @1: 0.13861386138613863\n",
      "validation micro-F1 @2: 0.13861386138613863\n",
      "validation micro-F1 @3: 0.1254125412541254\n",
      "validation micro-F1 @4: 0.11262376237623763\n",
      "validation micro-F1 @5: 0.10396039603960396\n",
      "validation micro-F1 @6: 0.09818481848184818\n",
      "validation micro-F1 @7: 0.09900990099009901\n",
      "validation micro-F1 @8: 0.0983910891089109\n",
      "validation micro-F1 @9: 0.09900990099009901\n",
      "validation micro-F1 @10: 0.09405940594059406\n"
     ]
    },
    {
     "name": "stderr",
     "output_type": "stream",
     "text": [
      "\r",
      "  2%|▏         | 91/4536 [2:05:30<102:10:54, 82.76s/it]"
     ]
    },
    {
     "name": "stdout",
     "output_type": "stream",
     "text": [
      "iter: 90, configuration: {'vectorizer_norm': 'l1', 'svm_degree': 5, 'medoid_normalization': 'standard', 'svm_kernel': 'rbf', 'nb_medoids_ratio': 0.2, 'svm_gamma': 0.5, 'svm_c': 0.001}\n",
      "\n",
      "validation micro-F1 @1: 0.01485148514851485\n",
      "validation micro-F1 @2: 0.022277227722772276\n",
      "validation micro-F1 @3: 0.0297029702970297\n",
      "validation micro-F1 @4: 0.03589108910891089\n",
      "validation micro-F1 @5: 0.040594059405940595\n",
      "validation micro-F1 @6: 0.03712871287128713\n",
      "validation micro-F1 @7: 0.03818953323903819\n",
      "validation micro-F1 @8: 0.04455445544554455\n",
      "validation micro-F1 @9: 0.0462046204620462\n",
      "validation micro-F1 @10: 0.048514851485148516\n"
     ]
    },
    {
     "name": "stderr",
     "output_type": "stream",
     "text": [
      "\r",
      "  2%|▏         | 92/4536 [2:06:02<101:28:25, 82.20s/it]"
     ]
    },
    {
     "name": "stdout",
     "output_type": "stream",
     "text": [
      "iter: 91, configuration: {'vectorizer_norm': 'l2', 'svm_degree': 5, 'medoid_normalization': 'standard', 'svm_kernel': 'rbf', 'nb_medoids_ratio': 0.2, 'svm_gamma': 0.5, 'svm_c': 0.001}\n",
      "\n",
      "validation micro-F1 @1: 0.06930693069306931\n",
      "validation micro-F1 @2: 0.10891089108910891\n",
      "validation micro-F1 @3: 0.11716171617161716\n",
      "validation micro-F1 @4: 0.10643564356435643\n",
      "validation micro-F1 @5: 0.10297029702970296\n",
      "validation micro-F1 @6: 0.09075907590759076\n",
      "validation micro-F1 @7: 0.09052333804809053\n",
      "validation micro-F1 @8: 0.09158415841584158\n",
      "validation micro-F1 @9: 0.09295929592959296\n",
      "validation micro-F1 @10: 0.09306930693069307\n"
     ]
    },
    {
     "name": "stderr",
     "output_type": "stream",
     "text": [
      "\r",
      "  2%|▏         | 93/4536 [2:06:41<100:52:28, 81.73s/it]"
     ]
    },
    {
     "name": "stdout",
     "output_type": "stream",
     "text": [
      "iter: 92, configuration: {'vectorizer_norm': None, 'svm_degree': 5, 'medoid_normalization': 'standard', 'svm_kernel': 'rbf', 'nb_medoids_ratio': 0.2, 'svm_gamma': 0.5, 'svm_c': 0.001}\n",
      "\n",
      "validation micro-F1 @1: 0.13861386138613863\n",
      "validation micro-F1 @2: 0.15099009900990099\n",
      "validation micro-F1 @3: 0.12871287128712872\n",
      "validation micro-F1 @4: 0.11386138613861387\n",
      "validation micro-F1 @5: 0.10495049504950495\n",
      "validation micro-F1 @6: 0.09818481848184818\n",
      "validation micro-F1 @7: 0.09688826025459689\n",
      "validation micro-F1 @8: 0.09962871287128713\n",
      "validation micro-F1 @9: 0.09900990099009901\n",
      "validation micro-F1 @10: 0.09405940594059406\n"
     ]
    },
    {
     "name": "stderr",
     "output_type": "stream",
     "text": [
      "\r",
      "  2%|▏         | 94/4536 [2:08:07<100:54:51, 81.79s/it]"
     ]
    },
    {
     "name": "stdout",
     "output_type": "stream",
     "text": [
      "iter: 93, configuration: {'vectorizer_norm': 'l1', 'svm_degree': 5, 'medoid_normalization': 'standard', 'svm_kernel': 'poly', 'nb_medoids_ratio': 0.2, 'svm_gamma': 0.5, 'svm_c': 0.001}\n",
      "\n",
      "validation micro-F1 @1: 0.13861386138613863\n",
      "validation micro-F1 @2: 0.15099009900990099\n",
      "validation micro-F1 @3: 0.12871287128712872\n",
      "validation micro-F1 @4: 0.11386138613861387\n",
      "validation micro-F1 @5: 0.10495049504950495\n",
      "validation micro-F1 @6: 0.10973597359735973\n",
      "validation micro-F1 @7: 0.10183875530410184\n",
      "validation micro-F1 @8: 0.09962871287128713\n",
      "validation micro-F1 @9: 0.0968096809680968\n",
      "validation micro-F1 @10: 0.09603960396039604\n"
     ]
    },
    {
     "name": "stderr",
     "output_type": "stream",
     "text": [
      "\r",
      "  2%|▏         | 95/4536 [2:11:13<102:14:42, 82.88s/it]"
     ]
    },
    {
     "name": "stdout",
     "output_type": "stream",
     "text": [
      "iter: 94, configuration: {'vectorizer_norm': 'l2', 'svm_degree': 5, 'medoid_normalization': 'standard', 'svm_kernel': 'poly', 'nb_medoids_ratio': 0.2, 'svm_gamma': 0.5, 'svm_c': 0.001}\n",
      "\n",
      "validation micro-F1 @1: 0.12871287128712872\n",
      "validation micro-F1 @2: 0.14108910891089108\n",
      "validation micro-F1 @3: 0.13366336633663367\n",
      "validation micro-F1 @4: 0.11262376237623763\n",
      "validation micro-F1 @5: 0.10693069306930693\n",
      "validation micro-F1 @6: 0.10066006600660066\n",
      "validation micro-F1 @7: 0.10042432814710042\n",
      "validation micro-F1 @8: 0.10024752475247525\n",
      "validation micro-F1 @9: 0.09900990099009901\n",
      "validation micro-F1 @10: 0.09554455445544555\n"
     ]
    },
    {
     "name": "stderr",
     "output_type": "stream",
     "text": [
      "\r",
      "  2%|▏         | 96/4536 [2:14:31<103:41:56, 84.08s/it]"
     ]
    },
    {
     "name": "stdout",
     "output_type": "stream",
     "text": [
      "iter: 95, configuration: {'vectorizer_norm': None, 'svm_degree': 5, 'medoid_normalization': 'standard', 'svm_kernel': 'poly', 'nb_medoids_ratio': 0.2, 'svm_gamma': 0.5, 'svm_c': 0.001}\n",
      "\n",
      "validation micro-F1 @1: 0.13366336633663367\n",
      "validation micro-F1 @2: 0.1485148514851485\n",
      "validation micro-F1 @3: 0.12706270627062707\n",
      "validation micro-F1 @4: 0.11262376237623763\n",
      "validation micro-F1 @5: 0.10396039603960396\n",
      "validation micro-F1 @6: 0.09983498349834984\n",
      "validation micro-F1 @7: 0.10042432814710042\n",
      "validation micro-F1 @8: 0.09962871287128713\n",
      "validation micro-F1 @9: 0.09955995599559957\n",
      "validation micro-F1 @10: 0.09504950495049505\n"
     ]
    },
    {
     "name": "stderr",
     "output_type": "stream",
     "text": [
      "\r",
      "  2%|▏         | 97/4536 [2:15:03<103:00:21, 83.54s/it]"
     ]
    },
    {
     "name": "stdout",
     "output_type": "stream",
     "text": [
      "iter: 96, configuration: {'vectorizer_norm': 'l1', 'svm_degree': 5, 'medoid_normalization': 'standard', 'svm_kernel': 'rbf', 'nb_medoids_ratio': 0.2, 'svm_gamma': 1.0, 'svm_c': 0.001}\n",
      "\n",
      "validation micro-F1 @1: 0.034653465346534656\n",
      "validation micro-F1 @2: 0.03712871287128713\n",
      "validation micro-F1 @3: 0.0462046204620462\n",
      "validation micro-F1 @4: 0.05198019801980198\n",
      "validation micro-F1 @5: 0.060396039603960394\n",
      "validation micro-F1 @6: 0.06765676567656766\n",
      "validation micro-F1 @7: 0.07213578500707214\n",
      "validation micro-F1 @8: 0.07487623762376237\n",
      "validation micro-F1 @9: 0.0748074807480748\n",
      "validation micro-F1 @10: 0.07425742574257425\n"
     ]
    },
    {
     "name": "stderr",
     "output_type": "stream",
     "text": [
      "\r",
      "  2%|▏         | 98/4536 [2:15:35<102:20:32, 83.02s/it]"
     ]
    },
    {
     "name": "stdout",
     "output_type": "stream",
     "text": [
      "iter: 97, configuration: {'vectorizer_norm': 'l2', 'svm_degree': 5, 'medoid_normalization': 'standard', 'svm_kernel': 'rbf', 'nb_medoids_ratio': 0.2, 'svm_gamma': 1.0, 'svm_c': 0.001}\n",
      "\n",
      "validation micro-F1 @1: 0.13861386138613863\n",
      "validation micro-F1 @2: 0.13861386138613863\n",
      "validation micro-F1 @3: 0.1254125412541254\n",
      "validation micro-F1 @4: 0.10891089108910891\n",
      "validation micro-F1 @5: 0.09801980198019802\n",
      "validation micro-F1 @6: 0.09818481848184818\n",
      "validation micro-F1 @7: 0.09476661951909476\n",
      "validation micro-F1 @8: 0.09467821782178218\n",
      "validation micro-F1 @9: 0.09295929592959296\n",
      "validation micro-F1 @10: 0.09207920792079208\n"
     ]
    },
    {
     "name": "stderr",
     "output_type": "stream",
     "text": [
      "\r",
      "  2%|▏         | 99/4536 [2:16:13<101:45:38, 82.56s/it]"
     ]
    },
    {
     "name": "stdout",
     "output_type": "stream",
     "text": [
      "iter: 98, configuration: {'vectorizer_norm': None, 'svm_degree': 5, 'medoid_normalization': 'standard', 'svm_kernel': 'rbf', 'nb_medoids_ratio': 0.2, 'svm_gamma': 1.0, 'svm_c': 0.001}\n",
      "\n",
      "validation micro-F1 @1: 0.13861386138613863\n",
      "validation micro-F1 @2: 0.15099009900990099\n",
      "validation micro-F1 @3: 0.12871287128712872\n",
      "validation micro-F1 @4: 0.11386138613861387\n",
      "validation micro-F1 @5: 0.10495049504950495\n",
      "validation micro-F1 @6: 0.09818481848184818\n",
      "validation micro-F1 @7: 0.10113154172560113\n",
      "validation micro-F1 @8: 0.09962871287128713\n",
      "validation micro-F1 @9: 0.09900990099009901\n",
      "validation micro-F1 @10: 0.09405940594059406\n"
     ]
    },
    {
     "name": "stderr",
     "output_type": "stream",
     "text": [
      "\r",
      "  2%|▏         | 100/4536 [2:18:28<102:22:33, 83.08s/it]"
     ]
    },
    {
     "name": "stdout",
     "output_type": "stream",
     "text": [
      "iter: 99, configuration: {'vectorizer_norm': 'l1', 'svm_degree': 5, 'medoid_normalization': 'standard', 'svm_kernel': 'poly', 'nb_medoids_ratio': 0.2, 'svm_gamma': 1.0, 'svm_c': 0.001}\n",
      "\n",
      "validation micro-F1 @1: 0.13861386138613863\n",
      "validation micro-F1 @2: 0.1485148514851485\n",
      "validation micro-F1 @3: 0.12871287128712872\n",
      "validation micro-F1 @4: 0.11386138613861387\n",
      "validation micro-F1 @5: 0.10495049504950495\n",
      "validation micro-F1 @6: 0.10396039603960396\n",
      "validation micro-F1 @7: 0.09971711456859972\n",
      "validation micro-F1 @8: 0.10024752475247525\n",
      "validation micro-F1 @9: 0.09790979097909791\n",
      "validation micro-F1 @10: 0.09801980198019802\n"
     ]
    },
    {
     "name": "stderr",
     "output_type": "stream",
     "text": [
      "\r",
      "  2%|▏         | 101/4536 [2:21:41<103:41:40, 84.17s/it]"
     ]
    },
    {
     "name": "stdout",
     "output_type": "stream",
     "text": [
      "iter: 100, configuration: {'vectorizer_norm': 'l2', 'svm_degree': 5, 'medoid_normalization': 'standard', 'svm_kernel': 'poly', 'nb_medoids_ratio': 0.2, 'svm_gamma': 1.0, 'svm_c': 0.001}\n",
      "\n",
      "validation micro-F1 @1: 0.13861386138613863\n",
      "validation micro-F1 @2: 0.13861386138613863\n",
      "validation micro-F1 @3: 0.12706270627062707\n",
      "validation micro-F1 @4: 0.1150990099009901\n",
      "validation micro-F1 @5: 0.10495049504950495\n",
      "validation micro-F1 @6: 0.10313531353135313\n",
      "validation micro-F1 @7: 0.10537482319660538\n",
      "validation micro-F1 @8: 0.10024752475247525\n",
      "validation micro-F1 @9: 0.09625962596259625\n",
      "validation micro-F1 @10: 0.09306930693069307\n"
     ]
    },
    {
     "name": "stderr",
     "output_type": "stream",
     "text": [
      "\r",
      "  2%|▏         | 102/4536 [2:24:52<104:58:01, 85.22s/it]"
     ]
    },
    {
     "name": "stdout",
     "output_type": "stream",
     "text": [
      "iter: 101, configuration: {'vectorizer_norm': None, 'svm_degree': 5, 'medoid_normalization': 'standard', 'svm_kernel': 'poly', 'nb_medoids_ratio': 0.2, 'svm_gamma': 1.0, 'svm_c': 0.001}\n",
      "\n",
      "validation micro-F1 @1: 0.13861386138613863\n",
      "validation micro-F1 @2: 0.1485148514851485\n",
      "validation micro-F1 @3: 0.12706270627062707\n",
      "validation micro-F1 @4: 0.11262376237623763\n",
      "validation micro-F1 @5: 0.10396039603960396\n",
      "validation micro-F1 @6: 0.09818481848184818\n",
      "validation micro-F1 @7: 0.09900990099009901\n",
      "validation micro-F1 @8: 0.10148514851485149\n",
      "validation micro-F1 @9: 0.09845984598459846\n",
      "validation micro-F1 @10: 0.09356435643564356\n"
     ]
    },
    {
     "name": "stderr",
     "output_type": "stream",
     "text": [
      "\r",
      "  2%|▏         | 103/4536 [2:25:24<104:18:02, 84.70s/it]"
     ]
    },
    {
     "name": "stdout",
     "output_type": "stream",
     "text": [
      "iter: 102, configuration: {'vectorizer_norm': 'l1', 'svm_degree': 5, 'medoid_normalization': 'standard', 'svm_kernel': 'rbf', 'nb_medoids_ratio': 0.2, 'svm_gamma': 'auto', 'svm_c': 0.001}\n",
      "\n",
      "validation micro-F1 @1: 0.009900990099009901\n",
      "validation micro-F1 @2: 0.009900990099009901\n",
      "validation micro-F1 @3: 0.00825082508250825\n",
      "validation micro-F1 @4: 0.01608910891089109\n",
      "validation micro-F1 @5: 0.01485148514851485\n",
      "validation micro-F1 @6: 0.014026402640264026\n",
      "validation micro-F1 @7: 0.013437057991513438\n",
      "validation micro-F1 @8: 0.014232673267326733\n",
      "validation micro-F1 @9: 0.013751375137513752\n",
      "validation micro-F1 @10: 0.01287128712871287\n"
     ]
    },
    {
     "name": "stderr",
     "output_type": "stream",
     "text": [
      "\r",
      "  2%|▏         | 104/4536 [2:25:55<103:38:52, 84.19s/it]"
     ]
    },
    {
     "name": "stdout",
     "output_type": "stream",
     "text": [
      "iter: 103, configuration: {'vectorizer_norm': 'l2', 'svm_degree': 5, 'medoid_normalization': 'standard', 'svm_kernel': 'rbf', 'nb_medoids_ratio': 0.2, 'svm_gamma': 'auto', 'svm_c': 0.001}\n",
      "\n",
      "validation micro-F1 @1: 0.009900990099009901\n",
      "validation micro-F1 @2: 0.012376237623762377\n",
      "validation micro-F1 @3: 0.013201320132013201\n",
      "validation micro-F1 @4: 0.009900990099009901\n",
      "validation micro-F1 @5: 0.01089108910891089\n",
      "validation micro-F1 @6: 0.010726072607260726\n",
      "validation micro-F1 @7: 0.011315417256011316\n",
      "validation micro-F1 @8: 0.012995049504950494\n",
      "validation micro-F1 @9: 0.013201320132013201\n",
      "validation micro-F1 @10: 0.013366336633663366\n"
     ]
    },
    {
     "name": "stderr",
     "output_type": "stream",
     "text": [
      "\r",
      "  2%|▏         | 105/4536 [2:26:29<103:01:40, 83.71s/it]"
     ]
    },
    {
     "name": "stdout",
     "output_type": "stream",
     "text": [
      "iter: 104, configuration: {'vectorizer_norm': None, 'svm_degree': 5, 'medoid_normalization': 'standard', 'svm_kernel': 'rbf', 'nb_medoids_ratio': 0.2, 'svm_gamma': 'auto', 'svm_c': 0.001}\n",
      "\n",
      "validation micro-F1 @1: 0.09900990099009901\n",
      "validation micro-F1 @2: 0.10396039603960396\n",
      "validation micro-F1 @3: 0.10396039603960396\n",
      "validation micro-F1 @4: 0.10148514851485149\n",
      "validation micro-F1 @5: 0.09900990099009901\n",
      "validation micro-F1 @6: 0.09405940594059406\n",
      "validation micro-F1 @7: 0.09476661951909476\n",
      "validation micro-F1 @8: 0.09158415841584158\n",
      "validation micro-F1 @9: 0.09130913091309131\n",
      "validation micro-F1 @10: 0.0900990099009901\n"
     ]
    },
    {
     "name": "stderr",
     "output_type": "stream",
     "text": [
      "\r",
      "  2%|▏         | 106/4536 [2:26:59<102:22:52, 83.20s/it]"
     ]
    },
    {
     "name": "stdout",
     "output_type": "stream",
     "text": [
      "iter: 105, configuration: {'vectorizer_norm': 'l1', 'svm_degree': 5, 'medoid_normalization': 'standard', 'svm_kernel': 'poly', 'nb_medoids_ratio': 0.2, 'svm_gamma': 'auto', 'svm_c': 0.001}\n",
      "\n",
      "validation micro-F1 @1: 0.0297029702970297\n",
      "validation micro-F1 @2: 0.027227722772277228\n",
      "validation micro-F1 @3: 0.037953795379537955\n",
      "validation micro-F1 @4: 0.03217821782178218\n",
      "validation micro-F1 @5: 0.032673267326732675\n",
      "validation micro-F1 @6: 0.028877887788778877\n",
      "validation micro-F1 @7: 0.027581329561527583\n",
      "validation micro-F1 @8: 0.027227722772277228\n",
      "validation micro-F1 @9: 0.026402640264026403\n",
      "validation micro-F1 @10: 0.02821782178217822\n"
     ]
    },
    {
     "name": "stderr",
     "output_type": "stream",
     "text": [
      "\r",
      "  2%|▏         | 107/4536 [2:27:28<101:44:39, 82.70s/it]"
     ]
    },
    {
     "name": "stdout",
     "output_type": "stream",
     "text": [
      "iter: 106, configuration: {'vectorizer_norm': 'l2', 'svm_degree': 5, 'medoid_normalization': 'standard', 'svm_kernel': 'poly', 'nb_medoids_ratio': 0.2, 'svm_gamma': 'auto', 'svm_c': 0.001}\n",
      "\n",
      "validation micro-F1 @1: 0.0\n",
      "validation micro-F1 @2: 0.06435643564356436\n",
      "validation micro-F1 @3: 0.07260726072607261\n",
      "validation micro-F1 @4: 0.07301980198019802\n",
      "validation micro-F1 @5: 0.06930693069306931\n",
      "validation micro-F1 @6: 0.06683168316831684\n",
      "validation micro-F1 @7: 0.06718528995756719\n",
      "validation micro-F1 @8: 0.0655940594059406\n",
      "validation micro-F1 @9: 0.06765676567656766\n",
      "validation micro-F1 @10: 0.06732673267326733\n"
     ]
    },
    {
     "name": "stderr",
     "output_type": "stream",
     "text": [
      "\r",
      "  2%|▏         | 108/4536 [2:30:19<102:43:33, 83.52s/it]"
     ]
    },
    {
     "name": "stdout",
     "output_type": "stream",
     "text": [
      "iter: 107, configuration: {'vectorizer_norm': None, 'svm_degree': 5, 'medoid_normalization': 'standard', 'svm_kernel': 'poly', 'nb_medoids_ratio': 0.2, 'svm_gamma': 'auto', 'svm_c': 0.001}\n",
      "\n",
      "validation micro-F1 @1: 0.14356435643564355\n",
      "validation micro-F1 @2: 0.1485148514851485\n",
      "validation micro-F1 @3: 0.12706270627062707\n",
      "validation micro-F1 @4: 0.11262376237623763\n",
      "validation micro-F1 @5: 0.10396039603960396\n",
      "validation micro-F1 @6: 0.09900990099009901\n",
      "validation micro-F1 @7: 0.10113154172560113\n",
      "validation micro-F1 @8: 0.09962871287128713\n",
      "validation micro-F1 @9: 0.09900990099009901\n",
      "validation micro-F1 @10: 0.09405940594059406\n"
     ]
    },
    {
     "name": "stderr",
     "output_type": "stream",
     "text": [
      "\r",
      "  2%|▏         | 109/4536 [2:30:52<102:07:36, 83.05s/it]"
     ]
    },
    {
     "name": "stdout",
     "output_type": "stream",
     "text": [
      "iter: 108, configuration: {'vectorizer_norm': 'l1', 'svm_degree': 3, 'medoid_normalization': 'standard', 'svm_kernel': 'rbf', 'nb_medoids_ratio': 0.2, 'svm_gamma': 0.1, 'svm_c': 0.01}\n",
      "\n",
      "validation micro-F1 @1: 0.024752475247524754\n",
      "validation micro-F1 @2: 0.039603960396039604\n",
      "validation micro-F1 @3: 0.04785478547854786\n",
      "validation micro-F1 @4: 0.05198019801980198\n",
      "validation micro-F1 @5: 0.05643564356435644\n",
      "validation micro-F1 @6: 0.06023102310231023\n",
      "validation micro-F1 @7: 0.06223479490806223\n",
      "validation micro-F1 @8: 0.06311881188118812\n",
      "validation micro-F1 @9: 0.06655665566556655\n",
      "validation micro-F1 @10: 0.06534653465346535\n"
     ]
    },
    {
     "name": "stderr",
     "output_type": "stream",
     "text": [
      "\r",
      "  2%|▏         | 110/4536 [2:31:29<101:35:25, 82.63s/it]"
     ]
    },
    {
     "name": "stdout",
     "output_type": "stream",
     "text": [
      "iter: 109, configuration: {'vectorizer_norm': 'l2', 'svm_degree': 3, 'medoid_normalization': 'standard', 'svm_kernel': 'rbf', 'nb_medoids_ratio': 0.2, 'svm_gamma': 0.1, 'svm_c': 0.01}\n",
      "\n",
      "validation micro-F1 @1: 0.15841584158415842\n",
      "validation micro-F1 @2: 0.14108910891089108\n",
      "validation micro-F1 @3: 0.1188118811881188\n",
      "validation micro-F1 @4: 0.11014851485148515\n",
      "validation micro-F1 @5: 0.10693069306930693\n",
      "validation micro-F1 @6: 0.10313531353135313\n",
      "validation micro-F1 @7: 0.09971711456859972\n",
      "validation micro-F1 @8: 0.09900990099009901\n",
      "validation micro-F1 @9: 0.09515951595159516\n",
      "validation micro-F1 @10: 0.09207920792079208\n"
     ]
    },
    {
     "name": "stderr",
     "output_type": "stream",
     "text": [
      "\r",
      "  2%|▏         | 111/4536 [2:33:51<102:13:14, 83.16s/it]"
     ]
    },
    {
     "name": "stdout",
     "output_type": "stream",
     "text": [
      "iter: 110, configuration: {'vectorizer_norm': None, 'svm_degree': 3, 'medoid_normalization': 'standard', 'svm_kernel': 'rbf', 'nb_medoids_ratio': 0.2, 'svm_gamma': 0.1, 'svm_c': 0.01}\n",
      "\n",
      "validation micro-F1 @1: 0.13366336633663367\n",
      "validation micro-F1 @2: 0.14356435643564355\n",
      "validation micro-F1 @3: 0.1254125412541254\n",
      "validation micro-F1 @4: 0.11138613861386139\n",
      "validation micro-F1 @5: 0.10297029702970296\n",
      "validation micro-F1 @6: 0.09735973597359736\n",
      "validation micro-F1 @7: 0.09618104667609619\n",
      "validation micro-F1 @8: 0.09900990099009901\n",
      "validation micro-F1 @9: 0.09845984598459846\n",
      "validation micro-F1 @10: 0.09356435643564356\n"
     ]
    },
    {
     "name": "stderr",
     "output_type": "stream",
     "text": [
      "\r",
      "  2%|▏         | 112/4536 [2:34:36<101:47:13, 82.83s/it]"
     ]
    },
    {
     "name": "stdout",
     "output_type": "stream",
     "text": [
      "iter: 111, configuration: {'vectorizer_norm': 'l1', 'svm_degree': 3, 'medoid_normalization': 'standard', 'svm_kernel': 'poly', 'nb_medoids_ratio': 0.2, 'svm_gamma': 0.1, 'svm_c': 0.01}\n",
      "\n",
      "validation micro-F1 @1: 0.13366336633663367\n",
      "validation micro-F1 @2: 0.1485148514851485\n",
      "validation micro-F1 @3: 0.12706270627062707\n",
      "validation micro-F1 @4: 0.11262376237623763\n",
      "validation micro-F1 @5: 0.10495049504950495\n",
      "validation micro-F1 @6: 0.10313531353135313\n",
      "validation micro-F1 @7: 0.0983026874115983\n",
      "validation micro-F1 @8: 0.0983910891089109\n",
      "validation micro-F1 @9: 0.1001100110011001\n",
      "validation micro-F1 @10: 0.09554455445544555\n"
     ]
    },
    {
     "name": "stderr",
     "output_type": "stream",
     "text": [
      "\r",
      "  2%|▏         | 113/4536 [2:35:52<101:40:56, 82.76s/it]"
     ]
    },
    {
     "name": "stdout",
     "output_type": "stream",
     "text": [
      "iter: 112, configuration: {'vectorizer_norm': 'l2', 'svm_degree': 3, 'medoid_normalization': 'standard', 'svm_kernel': 'poly', 'nb_medoids_ratio': 0.2, 'svm_gamma': 0.1, 'svm_c': 0.01}\n",
      "\n",
      "validation micro-F1 @1: 0.1188118811881188\n",
      "validation micro-F1 @2: 0.14356435643564355\n",
      "validation micro-F1 @3: 0.12871287128712872\n",
      "validation micro-F1 @4: 0.11633663366336634\n",
      "validation micro-F1 @5: 0.1099009900990099\n",
      "validation micro-F1 @6: 0.10478547854785479\n",
      "validation micro-F1 @7: 0.10466760961810467\n",
      "validation micro-F1 @8: 0.10334158415841584\n",
      "validation micro-F1 @9: 0.09900990099009901\n",
      "validation micro-F1 @10: 0.09900990099009901\n"
     ]
    },
    {
     "name": "stderr",
     "output_type": "stream",
     "text": [
      "\r",
      "  3%|▎         | 114/4536 [2:38:43<102:36:47, 83.54s/it]"
     ]
    },
    {
     "name": "stdout",
     "output_type": "stream",
     "text": [
      "iter: 113, configuration: {'vectorizer_norm': None, 'svm_degree': 3, 'medoid_normalization': 'standard', 'svm_kernel': 'poly', 'nb_medoids_ratio': 0.2, 'svm_gamma': 0.1, 'svm_c': 0.01}\n",
      "\n",
      "validation micro-F1 @1: 0.14356435643564355\n",
      "validation micro-F1 @2: 0.1485148514851485\n",
      "validation micro-F1 @3: 0.12871287128712872\n",
      "validation micro-F1 @4: 0.11386138613861387\n",
      "validation micro-F1 @5: 0.10594059405940594\n",
      "validation micro-F1 @6: 0.10396039603960396\n",
      "validation micro-F1 @7: 0.10113154172560113\n",
      "validation micro-F1 @8: 0.10024752475247525\n",
      "validation micro-F1 @9: 0.09790979097909791\n",
      "validation micro-F1 @10: 0.09306930693069307\n"
     ]
    },
    {
     "name": "stderr",
     "output_type": "stream",
     "text": [
      "\r",
      "  3%|▎         | 115/4536 [2:39:16<102:02:51, 83.10s/it]"
     ]
    },
    {
     "name": "stdout",
     "output_type": "stream",
     "text": [
      "iter: 114, configuration: {'vectorizer_norm': 'l1', 'svm_degree': 3, 'medoid_normalization': 'standard', 'svm_kernel': 'rbf', 'nb_medoids_ratio': 0.2, 'svm_gamma': 0.2, 'svm_c': 0.01}\n",
      "\n",
      "validation micro-F1 @1: 0.01485148514851485\n",
      "validation micro-F1 @2: 0.017326732673267328\n",
      "validation micro-F1 @3: 0.034653465346534656\n",
      "validation micro-F1 @4: 0.06435643564356436\n",
      "validation micro-F1 @5: 0.07524752475247524\n",
      "validation micro-F1 @6: 0.07425742574257425\n",
      "validation micro-F1 @7: 0.07213578500707214\n",
      "validation micro-F1 @8: 0.0724009900990099\n",
      "validation micro-F1 @9: 0.07700770077007701\n",
      "validation micro-F1 @10: 0.07821782178217822\n"
     ]
    },
    {
     "name": "stderr",
     "output_type": "stream",
     "text": [
      "\r",
      "  3%|▎         | 116/4536 [2:39:59<101:36:22, 82.76s/it]"
     ]
    },
    {
     "name": "stdout",
     "output_type": "stream",
     "text": [
      "iter: 115, configuration: {'vectorizer_norm': 'l2', 'svm_degree': 3, 'medoid_normalization': 'standard', 'svm_kernel': 'rbf', 'nb_medoids_ratio': 0.2, 'svm_gamma': 0.2, 'svm_c': 0.01}\n",
      "\n",
      "validation micro-F1 @1: 0.12871287128712872\n",
      "validation micro-F1 @2: 0.12871287128712872\n",
      "validation micro-F1 @3: 0.12211221122112212\n",
      "validation micro-F1 @4: 0.11386138613861387\n",
      "validation micro-F1 @5: 0.11188118811881188\n",
      "validation micro-F1 @6: 0.10313531353135313\n",
      "validation micro-F1 @7: 0.09759547383309759\n",
      "validation micro-F1 @8: 0.09653465346534654\n",
      "validation micro-F1 @9: 0.09845984598459846\n",
      "validation micro-F1 @10: 0.09405940594059406\n"
     ]
    },
    {
     "name": "stderr",
     "output_type": "stream",
     "text": [
      "\r",
      "  3%|▎         | 117/4536 [2:42:19<102:11:10, 83.25s/it]"
     ]
    },
    {
     "name": "stdout",
     "output_type": "stream",
     "text": [
      "iter: 116, configuration: {'vectorizer_norm': None, 'svm_degree': 3, 'medoid_normalization': 'standard', 'svm_kernel': 'rbf', 'nb_medoids_ratio': 0.2, 'svm_gamma': 0.2, 'svm_c': 0.01}\n",
      "\n",
      "validation micro-F1 @1: 0.13366336633663367\n",
      "validation micro-F1 @2: 0.1485148514851485\n",
      "validation micro-F1 @3: 0.12706270627062707\n",
      "validation micro-F1 @4: 0.11262376237623763\n",
      "validation micro-F1 @5: 0.10396039603960396\n",
      "validation micro-F1 @6: 0.10726072607260725\n",
      "validation micro-F1 @7: 0.10113154172560113\n",
      "validation micro-F1 @8: 0.10024752475247525\n",
      "validation micro-F1 @9: 0.09900990099009901\n",
      "validation micro-F1 @10: 0.09405940594059406\n"
     ]
    },
    {
     "name": "stderr",
     "output_type": "stream",
     "text": [
      "\r",
      "  3%|▎         | 118/4536 [2:43:22<101:56:34, 83.07s/it]"
     ]
    },
    {
     "name": "stdout",
     "output_type": "stream",
     "text": [
      "iter: 117, configuration: {'vectorizer_norm': 'l1', 'svm_degree': 3, 'medoid_normalization': 'standard', 'svm_kernel': 'poly', 'nb_medoids_ratio': 0.2, 'svm_gamma': 0.2, 'svm_c': 0.01}\n",
      "\n",
      "validation micro-F1 @1: 0.14356435643564355\n",
      "validation micro-F1 @2: 0.13861386138613863\n",
      "validation micro-F1 @3: 0.12871287128712872\n",
      "validation micro-F1 @4: 0.11386138613861387\n",
      "validation micro-F1 @5: 0.10891089108910891\n",
      "validation micro-F1 @6: 0.11221122112211221\n",
      "validation micro-F1 @7: 0.10325318246110325\n",
      "validation micro-F1 @8: 0.10086633663366337\n",
      "validation micro-F1 @9: 0.09790979097909791\n",
      "validation micro-F1 @10: 0.09653465346534654\n"
     ]
    },
    {
     "name": "stderr",
     "output_type": "stream",
     "text": [
      "\r",
      "  3%|▎         | 119/4536 [2:44:55<102:01:29, 83.15s/it]"
     ]
    },
    {
     "name": "stdout",
     "output_type": "stream",
     "text": [
      "iter: 118, configuration: {'vectorizer_norm': 'l2', 'svm_degree': 3, 'medoid_normalization': 'standard', 'svm_kernel': 'poly', 'nb_medoids_ratio': 0.2, 'svm_gamma': 0.2, 'svm_c': 0.01}\n",
      "\n",
      "validation micro-F1 @1: 0.12376237623762376\n",
      "validation micro-F1 @2: 0.12623762376237624\n",
      "validation micro-F1 @3: 0.132013201320132\n",
      "validation micro-F1 @4: 0.1150990099009901\n",
      "validation micro-F1 @5: 0.1099009900990099\n",
      "validation micro-F1 @6: 0.11138613861386139\n",
      "validation micro-F1 @7: 0.10608203677510608\n",
      "validation micro-F1 @8: 0.10457920792079207\n",
      "validation micro-F1 @9: 0.10231023102310231\n",
      "validation micro-F1 @10: 0.09702970297029703\n"
     ]
    },
    {
     "name": "stderr",
     "output_type": "stream",
     "text": [
      "\r",
      "  3%|▎         | 120/4536 [2:47:51<102:56:56, 83.93s/it]"
     ]
    },
    {
     "name": "stdout",
     "output_type": "stream",
     "text": [
      "iter: 119, configuration: {'vectorizer_norm': None, 'svm_degree': 3, 'medoid_normalization': 'standard', 'svm_kernel': 'poly', 'nb_medoids_ratio': 0.2, 'svm_gamma': 0.2, 'svm_c': 0.01}\n",
      "\n",
      "validation micro-F1 @1: 0.15346534653465346\n",
      "validation micro-F1 @2: 0.14356435643564355\n",
      "validation micro-F1 @3: 0.1254125412541254\n",
      "validation micro-F1 @4: 0.11386138613861387\n",
      "validation micro-F1 @5: 0.10594059405940594\n",
      "validation micro-F1 @6: 0.10561056105610561\n",
      "validation micro-F1 @7: 0.10396039603960396\n",
      "validation micro-F1 @8: 0.10272277227722772\n",
      "validation micro-F1 @9: 0.1001100110011001\n",
      "validation micro-F1 @10: 0.09554455445544555\n"
     ]
    },
    {
     "name": "stderr",
     "output_type": "stream",
     "text": [
      "\r",
      "  3%|▎         | 121/4536 [2:48:24<102:24:45, 83.51s/it]"
     ]
    },
    {
     "name": "stdout",
     "output_type": "stream",
     "text": [
      "iter: 120, configuration: {'vectorizer_norm': 'l1', 'svm_degree': 3, 'medoid_normalization': 'standard', 'svm_kernel': 'rbf', 'nb_medoids_ratio': 0.2, 'svm_gamma': 0.3, 'svm_c': 0.01}\n",
      "\n",
      "validation micro-F1 @1: 0.12376237623762376\n",
      "validation micro-F1 @2: 0.14603960396039603\n",
      "validation micro-F1 @3: 0.12871287128712872\n",
      "validation micro-F1 @4: 0.12252475247524752\n",
      "validation micro-F1 @5: 0.11683168316831684\n",
      "validation micro-F1 @6: 0.11221122112211221\n",
      "validation micro-F1 @7: 0.10608203677510608\n",
      "validation micro-F1 @8: 0.1021039603960396\n",
      "validation micro-F1 @9: 0.10066006600660066\n",
      "validation micro-F1 @10: 0.09752475247524753\n"
     ]
    },
    {
     "name": "stderr",
     "output_type": "stream",
     "text": [
      "\r",
      "  3%|▎         | 122/4536 [2:49:12<102:02:14, 83.22s/it]"
     ]
    },
    {
     "name": "stdout",
     "output_type": "stream",
     "text": [
      "iter: 121, configuration: {'vectorizer_norm': 'l2', 'svm_degree': 3, 'medoid_normalization': 'standard', 'svm_kernel': 'rbf', 'nb_medoids_ratio': 0.2, 'svm_gamma': 0.3, 'svm_c': 0.01}\n",
      "\n",
      "validation micro-F1 @1: 0.16831683168316833\n",
      "validation micro-F1 @2: 0.14108910891089108\n",
      "validation micro-F1 @3: 0.1254125412541254\n",
      "validation micro-F1 @4: 0.11262376237623763\n",
      "validation micro-F1 @5: 0.1099009900990099\n",
      "validation micro-F1 @6: 0.10396039603960396\n",
      "validation micro-F1 @7: 0.10254596888260255\n",
      "validation micro-F1 @8: 0.10396039603960396\n",
      "validation micro-F1 @9: 0.09845984598459846\n",
      "validation micro-F1 @10: 0.09306930693069307\n"
     ]
    },
    {
     "name": "stderr",
     "output_type": "stream",
     "text": [
      "\r",
      "  3%|▎         | 123/4536 [2:51:31<102:33:52, 83.67s/it]"
     ]
    },
    {
     "name": "stdout",
     "output_type": "stream",
     "text": [
      "iter: 122, configuration: {'vectorizer_norm': None, 'svm_degree': 3, 'medoid_normalization': 'standard', 'svm_kernel': 'rbf', 'nb_medoids_ratio': 0.2, 'svm_gamma': 0.3, 'svm_c': 0.01}\n",
      "\n",
      "validation micro-F1 @1: 0.13366336633663367\n",
      "validation micro-F1 @2: 0.1485148514851485\n",
      "validation micro-F1 @3: 0.12706270627062707\n",
      "validation micro-F1 @4: 0.11262376237623763\n",
      "validation micro-F1 @5: 0.10495049504950495\n",
      "validation micro-F1 @6: 0.09818481848184818\n",
      "validation micro-F1 @7: 0.09688826025459689\n",
      "validation micro-F1 @8: 0.09653465346534654\n",
      "validation micro-F1 @9: 0.09900990099009901\n",
      "validation micro-F1 @10: 0.09603960396039604\n"
     ]
    },
    {
     "name": "stderr",
     "output_type": "stream",
     "text": [
      "\r",
      "  3%|▎         | 124/4536 [2:52:37<102:21:53, 83.53s/it]"
     ]
    },
    {
     "name": "stdout",
     "output_type": "stream",
     "text": [
      "iter: 123, configuration: {'vectorizer_norm': 'l1', 'svm_degree': 3, 'medoid_normalization': 'standard', 'svm_kernel': 'poly', 'nb_medoids_ratio': 0.2, 'svm_gamma': 0.3, 'svm_c': 0.01}\n",
      "\n",
      "validation micro-F1 @1: 0.14356435643564355\n",
      "validation micro-F1 @2: 0.1485148514851485\n",
      "validation micro-F1 @3: 0.12706270627062707\n",
      "validation micro-F1 @4: 0.11386138613861387\n",
      "validation micro-F1 @5: 0.10891089108910891\n",
      "validation micro-F1 @6: 0.10973597359735973\n",
      "validation micro-F1 @7: 0.10466760961810467\n",
      "validation micro-F1 @8: 0.1021039603960396\n",
      "validation micro-F1 @9: 0.1001100110011001\n",
      "validation micro-F1 @10: 0.09653465346534654\n"
     ]
    },
    {
     "name": "stderr",
     "output_type": "stream",
     "text": [
      "\r",
      "  3%|▎         | 125/4536 [2:54:22<102:33:14, 83.70s/it]"
     ]
    },
    {
     "name": "stdout",
     "output_type": "stream",
     "text": [
      "iter: 124, configuration: {'vectorizer_norm': 'l2', 'svm_degree': 3, 'medoid_normalization': 'standard', 'svm_kernel': 'poly', 'nb_medoids_ratio': 0.2, 'svm_gamma': 0.3, 'svm_c': 0.01}\n",
      "\n",
      "validation micro-F1 @1: 0.12376237623762376\n",
      "validation micro-F1 @2: 0.12623762376237624\n",
      "validation micro-F1 @3: 0.13036303630363036\n",
      "validation micro-F1 @4: 0.1150990099009901\n",
      "validation micro-F1 @5: 0.1099009900990099\n",
      "validation micro-F1 @6: 0.10478547854785479\n",
      "validation micro-F1 @7: 0.10608203677510608\n",
      "validation micro-F1 @8: 0.10457920792079207\n",
      "validation micro-F1 @9: 0.09955995599559957\n",
      "validation micro-F1 @10: 0.09455445544554456\n"
     ]
    },
    {
     "name": "stderr",
     "output_type": "stream",
     "text": [
      "\r",
      "  3%|▎         | 126/4536 [2:57:11<103:21:51, 84.38s/it]"
     ]
    },
    {
     "name": "stdout",
     "output_type": "stream",
     "text": [
      "iter: 125, configuration: {'vectorizer_norm': None, 'svm_degree': 3, 'medoid_normalization': 'standard', 'svm_kernel': 'poly', 'nb_medoids_ratio': 0.2, 'svm_gamma': 0.3, 'svm_c': 0.01}\n",
      "\n",
      "validation micro-F1 @1: 0.13366336633663367\n",
      "validation micro-F1 @2: 0.14356435643564355\n",
      "validation micro-F1 @3: 0.1254125412541254\n",
      "validation micro-F1 @4: 0.11757425742574257\n",
      "validation micro-F1 @5: 0.10396039603960396\n",
      "validation micro-F1 @6: 0.09900990099009901\n",
      "validation micro-F1 @7: 0.10113154172560113\n",
      "validation micro-F1 @8: 0.09962871287128713\n",
      "validation micro-F1 @9: 0.09845984598459846\n",
      "validation micro-F1 @10: 0.09603960396039604\n"
     ]
    },
    {
     "name": "stderr",
     "output_type": "stream",
     "text": [
      "\r",
      "  3%|▎         | 127/4536 [2:57:46<102:51:55, 83.99s/it]"
     ]
    },
    {
     "name": "stdout",
     "output_type": "stream",
     "text": [
      "iter: 126, configuration: {'vectorizer_norm': 'l1', 'svm_degree': 3, 'medoid_normalization': 'standard', 'svm_kernel': 'rbf', 'nb_medoids_ratio': 0.2, 'svm_gamma': 0.5, 'svm_c': 0.01}\n",
      "\n",
      "validation micro-F1 @1: 0.0891089108910891\n",
      "validation micro-F1 @2: 0.09653465346534654\n",
      "validation micro-F1 @3: 0.11221122112211221\n",
      "validation micro-F1 @4: 0.10891089108910891\n",
      "validation micro-F1 @5: 0.10297029702970296\n",
      "validation micro-F1 @6: 0.09818481848184818\n",
      "validation micro-F1 @7: 0.09971711456859972\n",
      "validation micro-F1 @8: 0.09653465346534654\n",
      "validation micro-F1 @9: 0.0924092409240924\n",
      "validation micro-F1 @10: 0.09207920792079208\n"
     ]
    },
    {
     "name": "stderr",
     "output_type": "stream",
     "text": [
      "\r",
      "  3%|▎         | 128/4536 [2:58:42<102:34:08, 83.77s/it]"
     ]
    },
    {
     "name": "stdout",
     "output_type": "stream",
     "text": [
      "iter: 127, configuration: {'vectorizer_norm': 'l2', 'svm_degree': 3, 'medoid_normalization': 'standard', 'svm_kernel': 'rbf', 'nb_medoids_ratio': 0.2, 'svm_gamma': 0.5, 'svm_c': 0.01}\n",
      "\n",
      "validation micro-F1 @1: 0.15841584158415842\n",
      "validation micro-F1 @2: 0.1485148514851485\n",
      "validation micro-F1 @3: 0.12706270627062707\n",
      "validation micro-F1 @4: 0.1188118811881188\n",
      "validation micro-F1 @5: 0.11287128712871287\n",
      "validation micro-F1 @6: 0.10891089108910891\n",
      "validation micro-F1 @7: 0.10466760961810467\n",
      "validation micro-F1 @8: 0.1021039603960396\n",
      "validation micro-F1 @9: 0.09845984598459846\n",
      "validation micro-F1 @10: 0.09603960396039604\n"
     ]
    },
    {
     "name": "stderr",
     "output_type": "stream",
     "text": [
      "\r",
      "  3%|▎         | 129/4536 [3:00:59<103:02:56, 84.18s/it]"
     ]
    },
    {
     "name": "stdout",
     "output_type": "stream",
     "text": [
      "iter: 128, configuration: {'vectorizer_norm': None, 'svm_degree': 3, 'medoid_normalization': 'standard', 'svm_kernel': 'rbf', 'nb_medoids_ratio': 0.2, 'svm_gamma': 0.5, 'svm_c': 0.01}\n",
      "\n",
      "validation micro-F1 @1: 0.13861386138613863\n",
      "validation micro-F1 @2: 0.15099009900990099\n",
      "validation micro-F1 @3: 0.12871287128712872\n",
      "validation micro-F1 @4: 0.11386138613861387\n",
      "validation micro-F1 @5: 0.10495049504950495\n",
      "validation micro-F1 @6: 0.09818481848184818\n",
      "validation micro-F1 @7: 0.09688826025459689\n",
      "validation micro-F1 @8: 0.09653465346534654\n",
      "validation micro-F1 @9: 0.09900990099009901\n",
      "validation micro-F1 @10: 0.09356435643564356\n"
     ]
    },
    {
     "name": "stderr",
     "output_type": "stream",
     "text": [
      "\r",
      "  3%|▎         | 130/4536 [3:02:12<102:55:43, 84.10s/it]"
     ]
    },
    {
     "name": "stdout",
     "output_type": "stream",
     "text": [
      "iter: 129, configuration: {'vectorizer_norm': 'l1', 'svm_degree': 3, 'medoid_normalization': 'standard', 'svm_kernel': 'poly', 'nb_medoids_ratio': 0.2, 'svm_gamma': 0.5, 'svm_c': 0.01}\n",
      "\n",
      "validation micro-F1 @1: 0.12871287128712872\n",
      "validation micro-F1 @2: 0.14603960396039603\n",
      "validation micro-F1 @3: 0.12871287128712872\n",
      "validation micro-F1 @4: 0.11386138613861387\n",
      "validation micro-F1 @5: 0.10792079207920792\n",
      "validation micro-F1 @6: 0.10313531353135313\n",
      "validation micro-F1 @7: 0.10537482319660538\n",
      "validation micro-F1 @8: 0.10086633663366337\n",
      "validation micro-F1 @9: 0.09790979097909791\n",
      "validation micro-F1 @10: 0.1\n"
     ]
    },
    {
     "name": "stderr",
     "output_type": "stream",
     "text": [
      "\r",
      "  3%|▎         | 131/4536 [3:04:27<103:22:31, 84.48s/it]"
     ]
    },
    {
     "name": "stdout",
     "output_type": "stream",
     "text": [
      "iter: 130, configuration: {'vectorizer_norm': 'l2', 'svm_degree': 3, 'medoid_normalization': 'standard', 'svm_kernel': 'poly', 'nb_medoids_ratio': 0.2, 'svm_gamma': 0.5, 'svm_c': 0.01}\n",
      "\n",
      "validation micro-F1 @1: 0.13861386138613863\n",
      "validation micro-F1 @2: 0.15099009900990099\n",
      "validation micro-F1 @3: 0.12871287128712872\n",
      "validation micro-F1 @4: 0.11386138613861387\n",
      "validation micro-F1 @5: 0.10396039603960396\n",
      "validation micro-F1 @6: 0.10231023102310231\n",
      "validation micro-F1 @7: 0.0983026874115983\n",
      "validation micro-F1 @8: 0.0983910891089109\n",
      "validation micro-F1 @9: 0.0968096809680968\n",
      "validation micro-F1 @10: 0.09702970297029703\n"
     ]
    },
    {
     "name": "stderr",
     "output_type": "stream",
     "text": [
      "\r",
      "  3%|▎         | 132/4536 [3:07:34<104:17:55, 85.26s/it]"
     ]
    },
    {
     "name": "stdout",
     "output_type": "stream",
     "text": [
      "iter: 131, configuration: {'vectorizer_norm': None, 'svm_degree': 3, 'medoid_normalization': 'standard', 'svm_kernel': 'poly', 'nb_medoids_ratio': 0.2, 'svm_gamma': 0.5, 'svm_c': 0.01}\n",
      "\n",
      "validation micro-F1 @1: 0.13861386138613863\n",
      "validation micro-F1 @2: 0.14356435643564355\n",
      "validation micro-F1 @3: 0.13036303630363036\n",
      "validation micro-F1 @4: 0.11386138613861387\n",
      "validation micro-F1 @5: 0.10594059405940594\n",
      "validation micro-F1 @6: 0.10478547854785479\n",
      "validation micro-F1 @7: 0.10396039603960396\n",
      "validation micro-F1 @8: 0.1021039603960396\n",
      "validation micro-F1 @9: 0.09845984598459846\n",
      "validation micro-F1 @10: 0.09603960396039604\n"
     ]
    },
    {
     "name": "stderr",
     "output_type": "stream",
     "text": [
      "\r",
      "  3%|▎         | 133/4536 [3:08:11<103:50:08, 84.90s/it]"
     ]
    },
    {
     "name": "stdout",
     "output_type": "stream",
     "text": [
      "iter: 132, configuration: {'vectorizer_norm': 'l1', 'svm_degree': 3, 'medoid_normalization': 'standard', 'svm_kernel': 'rbf', 'nb_medoids_ratio': 0.2, 'svm_gamma': 1.0, 'svm_c': 0.01}\n",
      "\n",
      "validation micro-F1 @1: 0.15346534653465346\n",
      "validation micro-F1 @2: 0.12376237623762376\n",
      "validation micro-F1 @3: 0.11716171617161716\n",
      "validation micro-F1 @4: 0.10891089108910891\n",
      "validation micro-F1 @5: 0.10891089108910891\n",
      "validation micro-F1 @6: 0.10561056105610561\n",
      "validation micro-F1 @7: 0.10254596888260255\n",
      "validation micro-F1 @8: 0.10148514851485149\n",
      "validation micro-F1 @9: 0.09790979097909791\n",
      "validation micro-F1 @10: 0.09702970297029703\n"
     ]
    },
    {
     "name": "stderr",
     "output_type": "stream",
     "text": [
      "\r",
      "  3%|▎         | 134/4536 [3:09:17<103:38:31, 84.76s/it]"
     ]
    },
    {
     "name": "stdout",
     "output_type": "stream",
     "text": [
      "iter: 133, configuration: {'vectorizer_norm': 'l2', 'svm_degree': 3, 'medoid_normalization': 'standard', 'svm_kernel': 'rbf', 'nb_medoids_ratio': 0.2, 'svm_gamma': 1.0, 'svm_c': 0.01}\n",
      "\n",
      "validation micro-F1 @1: 0.14356435643564355\n",
      "validation micro-F1 @2: 0.11386138613861387\n",
      "validation micro-F1 @3: 0.10231023102310231\n",
      "validation micro-F1 @4: 0.10148514851485149\n",
      "validation micro-F1 @5: 0.10396039603960396\n",
      "validation micro-F1 @6: 0.10066006600660066\n",
      "validation micro-F1 @7: 0.09971711456859972\n",
      "validation micro-F1 @8: 0.0983910891089109\n",
      "validation micro-F1 @9: 0.09570957095709572\n",
      "validation micro-F1 @10: 0.09257425742574257\n"
     ]
    },
    {
     "name": "stderr",
     "output_type": "stream",
     "text": [
      "\r",
      "  3%|▎         | 135/4536 [3:11:32<104:04:16, 85.13s/it]"
     ]
    },
    {
     "name": "stdout",
     "output_type": "stream",
     "text": [
      "iter: 134, configuration: {'vectorizer_norm': None, 'svm_degree': 3, 'medoid_normalization': 'standard', 'svm_kernel': 'rbf', 'nb_medoids_ratio': 0.2, 'svm_gamma': 1.0, 'svm_c': 0.01}\n",
      "\n",
      "validation micro-F1 @1: 0.13861386138613863\n",
      "validation micro-F1 @2: 0.15099009900990099\n",
      "validation micro-F1 @3: 0.12871287128712872\n",
      "validation micro-F1 @4: 0.11386138613861387\n",
      "validation micro-F1 @5: 0.10495049504950495\n",
      "validation micro-F1 @6: 0.09818481848184818\n",
      "validation micro-F1 @7: 0.10113154172560113\n",
      "validation micro-F1 @8: 0.10024752475247525\n",
      "validation micro-F1 @9: 0.09900990099009901\n",
      "validation micro-F1 @10: 0.09405940594059406\n"
     ]
    },
    {
     "name": "stderr",
     "output_type": "stream",
     "text": [
      "\r",
      "  3%|▎         | 136/4536 [3:12:51<103:59:25, 85.08s/it]"
     ]
    },
    {
     "name": "stdout",
     "output_type": "stream",
     "text": [
      "iter: 135, configuration: {'vectorizer_norm': 'l1', 'svm_degree': 3, 'medoid_normalization': 'standard', 'svm_kernel': 'poly', 'nb_medoids_ratio': 0.2, 'svm_gamma': 1.0, 'svm_c': 0.01}\n",
      "\n",
      "validation micro-F1 @1: 0.13366336633663367\n",
      "validation micro-F1 @2: 0.14603960396039603\n",
      "validation micro-F1 @3: 0.12871287128712872\n",
      "validation micro-F1 @4: 0.11262376237623763\n",
      "validation micro-F1 @5: 0.11782178217821782\n",
      "validation micro-F1 @6: 0.11056105610561057\n",
      "validation micro-F1 @7: 0.10608203677510608\n",
      "validation micro-F1 @8: 0.10396039603960396\n",
      "validation micro-F1 @9: 0.10066006600660066\n",
      "validation micro-F1 @10: 0.09900990099009901\n"
     ]
    },
    {
     "name": "stderr",
     "output_type": "stream",
     "text": [
      "\r",
      "  3%|▎         | 137/4536 [3:15:46<104:46:24, 85.74s/it]"
     ]
    },
    {
     "name": "stdout",
     "output_type": "stream",
     "text": [
      "iter: 136, configuration: {'vectorizer_norm': 'l2', 'svm_degree': 3, 'medoid_normalization': 'standard', 'svm_kernel': 'poly', 'nb_medoids_ratio': 0.2, 'svm_gamma': 1.0, 'svm_c': 0.01}\n",
      "\n",
      "validation micro-F1 @1: 0.13366336633663367\n",
      "validation micro-F1 @2: 0.1485148514851485\n",
      "validation micro-F1 @3: 0.12871287128712872\n",
      "validation micro-F1 @4: 0.1150990099009901\n",
      "validation micro-F1 @5: 0.10792079207920792\n",
      "validation micro-F1 @6: 0.10891089108910891\n",
      "validation micro-F1 @7: 0.1082036775106082\n",
      "validation micro-F1 @8: 0.10457920792079207\n",
      "validation micro-F1 @9: 0.1001100110011001\n",
      "validation micro-F1 @10: 0.09752475247524753\n"
     ]
    },
    {
     "name": "stderr",
     "output_type": "stream",
     "text": [
      "\r",
      "  3%|▎         | 138/4536 [3:18:28<105:25:17, 86.29s/it]"
     ]
    },
    {
     "name": "stdout",
     "output_type": "stream",
     "text": [
      "iter: 137, configuration: {'vectorizer_norm': None, 'svm_degree': 3, 'medoid_normalization': 'standard', 'svm_kernel': 'poly', 'nb_medoids_ratio': 0.2, 'svm_gamma': 1.0, 'svm_c': 0.01}\n",
      "\n",
      "validation micro-F1 @1: 0.14356435643564355\n",
      "validation micro-F1 @2: 0.14356435643564355\n",
      "validation micro-F1 @3: 0.1254125412541254\n",
      "validation micro-F1 @4: 0.11138613861386139\n",
      "validation micro-F1 @5: 0.10792079207920792\n",
      "validation micro-F1 @6: 0.10396039603960396\n",
      "validation micro-F1 @7: 0.10254596888260255\n",
      "validation micro-F1 @8: 0.10272277227722772\n",
      "validation micro-F1 @9: 0.09900990099009901\n",
      "validation micro-F1 @10: 0.09603960396039604\n"
     ]
    },
    {
     "name": "stderr",
     "output_type": "stream",
     "text": [
      "\r",
      "  3%|▎         | 139/4536 [3:19:00<104:55:13, 85.90s/it]"
     ]
    },
    {
     "name": "stdout",
     "output_type": "stream",
     "text": [
      "iter: 138, configuration: {'vectorizer_norm': 'l1', 'svm_degree': 3, 'medoid_normalization': 'standard', 'svm_kernel': 'rbf', 'nb_medoids_ratio': 0.2, 'svm_gamma': 'auto', 'svm_c': 0.01}\n",
      "\n",
      "validation micro-F1 @1: 0.01485148514851485\n",
      "validation micro-F1 @2: 0.019801980198019802\n",
      "validation micro-F1 @3: 0.01485148514851485\n",
      "validation micro-F1 @4: 0.012376237623762377\n",
      "validation micro-F1 @5: 0.011881188118811881\n",
      "validation micro-F1 @6: 0.014026402640264026\n",
      "validation micro-F1 @7: 0.013437057991513438\n",
      "validation micro-F1 @8: 0.014232673267326733\n",
      "validation micro-F1 @9: 0.013201320132013201\n",
      "validation micro-F1 @10: 0.01287128712871287\n"
     ]
    },
    {
     "name": "stderr",
     "output_type": "stream",
     "text": [
      "\r",
      "  3%|▎         | 140/4536 [3:19:32<104:25:24, 85.52s/it]"
     ]
    },
    {
     "name": "stdout",
     "output_type": "stream",
     "text": [
      "iter: 139, configuration: {'vectorizer_norm': 'l2', 'svm_degree': 3, 'medoid_normalization': 'standard', 'svm_kernel': 'rbf', 'nb_medoids_ratio': 0.2, 'svm_gamma': 'auto', 'svm_c': 0.01}\n",
      "\n",
      "validation micro-F1 @1: 0.01485148514851485\n",
      "validation micro-F1 @2: 0.019801980198019802\n",
      "validation micro-F1 @3: 0.01485148514851485\n",
      "validation micro-F1 @4: 0.013613861386138614\n",
      "validation micro-F1 @5: 0.013861386138613862\n",
      "validation micro-F1 @6: 0.013201320132013201\n",
      "validation micro-F1 @7: 0.012022630834512023\n",
      "validation micro-F1 @8: 0.012376237623762377\n",
      "validation micro-F1 @9: 0.013201320132013201\n",
      "validation micro-F1 @10: 0.013861386138613862\n"
     ]
    },
    {
     "name": "stderr",
     "output_type": "stream",
     "text": [
      "\r",
      "  3%|▎         | 141/4536 [3:20:57<104:23:59, 85.52s/it]"
     ]
    },
    {
     "name": "stdout",
     "output_type": "stream",
     "text": [
      "iter: 140, configuration: {'vectorizer_norm': None, 'svm_degree': 3, 'medoid_normalization': 'standard', 'svm_kernel': 'rbf', 'nb_medoids_ratio': 0.2, 'svm_gamma': 'auto', 'svm_c': 0.01}\n",
      "\n",
      "validation micro-F1 @1: 0.09405940594059406\n",
      "validation micro-F1 @2: 0.1188118811881188\n",
      "validation micro-F1 @3: 0.1188118811881188\n",
      "validation micro-F1 @4: 0.1150990099009901\n",
      "validation micro-F1 @5: 0.10693069306930693\n",
      "validation micro-F1 @6: 0.09653465346534654\n",
      "validation micro-F1 @7: 0.09547383309759547\n",
      "validation micro-F1 @8: 0.0952970297029703\n",
      "validation micro-F1 @9: 0.09295929592959296\n",
      "validation micro-F1 @10: 0.09257425742574257\n"
     ]
    },
    {
     "name": "stderr",
     "output_type": "stream",
     "text": [
      "\r",
      "  3%|▎         | 142/4536 [3:21:27<103:53:58, 85.12s/it]"
     ]
    },
    {
     "name": "stdout",
     "output_type": "stream",
     "text": [
      "iter: 141, configuration: {'vectorizer_norm': 'l1', 'svm_degree': 3, 'medoid_normalization': 'standard', 'svm_kernel': 'poly', 'nb_medoids_ratio': 0.2, 'svm_gamma': 'auto', 'svm_c': 0.01}\n",
      "\n",
      "validation micro-F1 @1: 0.0049504950495049506\n",
      "validation micro-F1 @2: 0.007425742574257425\n",
      "validation micro-F1 @3: 0.04455445544554455\n",
      "validation micro-F1 @4: 0.04702970297029703\n",
      "validation micro-F1 @5: 0.055445544554455446\n",
      "validation micro-F1 @6: 0.0594059405940594\n",
      "validation micro-F1 @7: 0.06152758132956153\n",
      "validation micro-F1 @8: 0.0625\n",
      "validation micro-F1 @9: 0.0638063806380638\n",
      "validation micro-F1 @10: 0.06584158415841584\n"
     ]
    },
    {
     "name": "stderr",
     "output_type": "stream",
     "text": [
      "\r",
      "  3%|▎         | 143/4536 [3:21:57<103:24:22, 84.74s/it]"
     ]
    },
    {
     "name": "stdout",
     "output_type": "stream",
     "text": [
      "iter: 142, configuration: {'vectorizer_norm': 'l2', 'svm_degree': 3, 'medoid_normalization': 'standard', 'svm_kernel': 'poly', 'nb_medoids_ratio': 0.2, 'svm_gamma': 'auto', 'svm_c': 0.01}\n",
      "\n",
      "validation micro-F1 @1: 0.01485148514851485\n",
      "validation micro-F1 @2: 0.024752475247524754\n",
      "validation micro-F1 @3: 0.037953795379537955\n",
      "validation micro-F1 @4: 0.043316831683168314\n",
      "validation micro-F1 @5: 0.039603960396039604\n",
      "validation micro-F1 @6: 0.04372937293729373\n",
      "validation micro-F1 @7: 0.04667609618104668\n",
      "validation micro-F1 @8: 0.053217821782178217\n",
      "validation micro-F1 @9: 0.054455445544554455\n",
      "validation micro-F1 @10: 0.05742574257425743\n"
     ]
    },
    {
     "name": "stderr",
     "output_type": "stream",
     "text": [
      "\r",
      "  3%|▎         | 144/4536 [3:24:49<104:07:19, 85.35s/it]"
     ]
    },
    {
     "name": "stdout",
     "output_type": "stream",
     "text": [
      "iter: 143, configuration: {'vectorizer_norm': None, 'svm_degree': 3, 'medoid_normalization': 'standard', 'svm_kernel': 'poly', 'nb_medoids_ratio': 0.2, 'svm_gamma': 'auto', 'svm_c': 0.01}\n",
      "\n",
      "validation micro-F1 @1: 0.15841584158415842\n",
      "validation micro-F1 @2: 0.14356435643564355\n",
      "validation micro-F1 @3: 0.12871287128712872\n",
      "validation micro-F1 @4: 0.11386138613861387\n",
      "validation micro-F1 @5: 0.10594059405940594\n",
      "validation micro-F1 @6: 0.10396039603960396\n",
      "validation micro-F1 @7: 0.10183875530410184\n",
      "validation micro-F1 @8: 0.10272277227722772\n",
      "validation micro-F1 @9: 0.09845984598459846\n",
      "validation micro-F1 @10: 0.09554455445544555\n"
     ]
    },
    {
     "name": "stderr",
     "output_type": "stream",
     "text": [
      "\r",
      "  3%|▎         | 145/4536 [3:25:22<103:39:08, 84.98s/it]"
     ]
    },
    {
     "name": "stdout",
     "output_type": "stream",
     "text": [
      "iter: 144, configuration: {'vectorizer_norm': 'l1', 'svm_degree': 4, 'medoid_normalization': 'standard', 'svm_kernel': 'rbf', 'nb_medoids_ratio': 0.2, 'svm_gamma': 0.1, 'svm_c': 0.01}\n",
      "\n",
      "validation micro-F1 @1: 0.0297029702970297\n",
      "validation micro-F1 @2: 0.04207920792079208\n",
      "validation micro-F1 @3: 0.052805280528052806\n",
      "validation micro-F1 @4: 0.055693069306930694\n",
      "validation micro-F1 @5: 0.062376237623762376\n",
      "validation micro-F1 @6: 0.06518151815181518\n",
      "validation micro-F1 @7: 0.06718528995756719\n",
      "validation micro-F1 @8: 0.07054455445544554\n",
      "validation micro-F1 @9: 0.06985698569856985\n",
      "validation micro-F1 @10: 0.07178217821782178\n"
     ]
    },
    {
     "name": "stderr",
     "output_type": "stream",
     "text": [
      "\r",
      "  3%|▎         | 146/4536 [3:25:59<103:13:50, 84.65s/it]"
     ]
    },
    {
     "name": "stdout",
     "output_type": "stream",
     "text": [
      "iter: 145, configuration: {'vectorizer_norm': 'l2', 'svm_degree': 4, 'medoid_normalization': 'standard', 'svm_kernel': 'rbf', 'nb_medoids_ratio': 0.2, 'svm_gamma': 0.1, 'svm_c': 0.01}\n",
      "\n",
      "validation micro-F1 @1: 0.13366336633663367\n",
      "validation micro-F1 @2: 0.1311881188118812\n",
      "validation micro-F1 @3: 0.12211221122112212\n",
      "validation micro-F1 @4: 0.12004950495049505\n",
      "validation micro-F1 @5: 0.1099009900990099\n",
      "validation micro-F1 @6: 0.10561056105610561\n",
      "validation micro-F1 @7: 0.10466760961810467\n",
      "validation micro-F1 @8: 0.10396039603960396\n",
      "validation micro-F1 @9: 0.09955995599559957\n",
      "validation micro-F1 @10: 0.09752475247524753\n"
     ]
    },
    {
     "name": "stderr",
     "output_type": "stream",
     "text": [
      "\r",
      "  3%|▎         | 147/4536 [3:28:21<103:40:47, 85.04s/it]"
     ]
    },
    {
     "name": "stdout",
     "output_type": "stream",
     "text": [
      "iter: 146, configuration: {'vectorizer_norm': None, 'svm_degree': 4, 'medoid_normalization': 'standard', 'svm_kernel': 'rbf', 'nb_medoids_ratio': 0.2, 'svm_gamma': 0.1, 'svm_c': 0.01}\n",
      "\n",
      "validation micro-F1 @1: 0.13366336633663367\n",
      "validation micro-F1 @2: 0.1485148514851485\n",
      "validation micro-F1 @3: 0.12706270627062707\n",
      "validation micro-F1 @4: 0.11262376237623763\n",
      "validation micro-F1 @5: 0.10396039603960396\n",
      "validation micro-F1 @6: 0.09818481848184818\n",
      "validation micro-F1 @7: 0.10113154172560113\n",
      "validation micro-F1 @8: 0.10024752475247525\n",
      "validation micro-F1 @9: 0.09900990099009901\n",
      "validation micro-F1 @10: 0.09405940594059406\n"
     ]
    },
    {
     "name": "stderr",
     "output_type": "stream",
     "text": [
      "\r",
      "  3%|▎         | 148/4536 [3:29:16<103:24:31, 84.84s/it]"
     ]
    },
    {
     "name": "stdout",
     "output_type": "stream",
     "text": [
      "iter: 147, configuration: {'vectorizer_norm': 'l1', 'svm_degree': 4, 'medoid_normalization': 'standard', 'svm_kernel': 'poly', 'nb_medoids_ratio': 0.2, 'svm_gamma': 0.1, 'svm_c': 0.01}\n",
      "\n",
      "validation micro-F1 @1: 0.13366336633663367\n",
      "validation micro-F1 @2: 0.14356435643564355\n",
      "validation micro-F1 @3: 0.12706270627062707\n",
      "validation micro-F1 @4: 0.11262376237623763\n",
      "validation micro-F1 @5: 0.10198019801980197\n",
      "validation micro-F1 @6: 0.10396039603960396\n",
      "validation micro-F1 @7: 0.09688826025459689\n",
      "validation micro-F1 @8: 0.09777227722772278\n",
      "validation micro-F1 @9: 0.09625962596259625\n",
      "validation micro-F1 @10: 0.09554455445544555\n"
     ]
    },
    {
     "name": "stderr",
     "output_type": "stream",
     "text": [
      "\r",
      "  3%|▎         | 149/4536 [3:31:13<103:38:55, 85.05s/it]"
     ]
    },
    {
     "name": "stdout",
     "output_type": "stream",
     "text": [
      "iter: 148, configuration: {'vectorizer_norm': 'l2', 'svm_degree': 4, 'medoid_normalization': 'standard', 'svm_kernel': 'poly', 'nb_medoids_ratio': 0.2, 'svm_gamma': 0.1, 'svm_c': 0.01}\n",
      "\n",
      "validation micro-F1 @1: 0.15346534653465346\n",
      "validation micro-F1 @2: 0.15594059405940594\n",
      "validation micro-F1 @3: 0.12706270627062707\n",
      "validation micro-F1 @4: 0.11386138613861387\n",
      "validation micro-F1 @5: 0.10495049504950495\n",
      "validation micro-F1 @6: 0.09900990099009901\n",
      "validation micro-F1 @7: 0.09971711456859972\n",
      "validation micro-F1 @8: 0.09962871287128713\n",
      "validation micro-F1 @9: 0.09900990099009901\n",
      "validation micro-F1 @10: 0.09603960396039604\n"
     ]
    },
    {
     "name": "stderr",
     "output_type": "stream",
     "text": [
      "\r",
      "  3%|▎         | 150/4536 [3:33:54<104:14:47, 85.56s/it]"
     ]
    },
    {
     "name": "stdout",
     "output_type": "stream",
     "text": [
      "iter: 149, configuration: {'vectorizer_norm': None, 'svm_degree': 4, 'medoid_normalization': 'standard', 'svm_kernel': 'poly', 'nb_medoids_ratio': 0.2, 'svm_gamma': 0.1, 'svm_c': 0.01}\n",
      "\n",
      "validation micro-F1 @1: 0.13366336633663367\n",
      "validation micro-F1 @2: 0.1485148514851485\n",
      "validation micro-F1 @3: 0.12706270627062707\n",
      "validation micro-F1 @4: 0.11262376237623763\n",
      "validation micro-F1 @5: 0.10396039603960396\n",
      "validation micro-F1 @6: 0.09488448844884488\n",
      "validation micro-F1 @7: 0.10254596888260255\n",
      "validation micro-F1 @8: 0.09962871287128713\n",
      "validation micro-F1 @9: 0.0968096809680968\n",
      "validation micro-F1 @10: 0.09455445544554456\n"
     ]
    },
    {
     "name": "stderr",
     "output_type": "stream",
     "text": [
      "\r",
      "  3%|▎         | 151/4536 [3:34:27<103:47:51, 85.22s/it]"
     ]
    },
    {
     "name": "stdout",
     "output_type": "stream",
     "text": [
      "iter: 150, configuration: {'vectorizer_norm': 'l1', 'svm_degree': 4, 'medoid_normalization': 'standard', 'svm_kernel': 'rbf', 'nb_medoids_ratio': 0.2, 'svm_gamma': 0.2, 'svm_c': 0.01}\n",
      "\n",
      "validation micro-F1 @1: 0.12376237623762376\n",
      "validation micro-F1 @2: 0.1188118811881188\n",
      "validation micro-F1 @3: 0.1254125412541254\n",
      "validation micro-F1 @4: 0.1188118811881188\n",
      "validation micro-F1 @5: 0.11386138613861387\n",
      "validation micro-F1 @6: 0.10478547854785479\n",
      "validation micro-F1 @7: 0.09759547383309759\n",
      "validation micro-F1 @8: 0.09715346534653466\n",
      "validation micro-F1 @9: 0.09075907590759076\n",
      "validation micro-F1 @10: 0.08712871287128712\n"
     ]
    },
    {
     "name": "stderr",
     "output_type": "stream",
     "text": [
      "\r",
      "  3%|▎         | 152/4536 [3:35:11<103:26:31, 84.94s/it]"
     ]
    },
    {
     "name": "stdout",
     "output_type": "stream",
     "text": [
      "iter: 151, configuration: {'vectorizer_norm': 'l2', 'svm_degree': 4, 'medoid_normalization': 'standard', 'svm_kernel': 'rbf', 'nb_medoids_ratio': 0.2, 'svm_gamma': 0.2, 'svm_c': 0.01}\n",
      "\n",
      "validation micro-F1 @1: 0.13366336633663367\n",
      "validation micro-F1 @2: 0.1311881188118812\n",
      "validation micro-F1 @3: 0.11716171617161716\n",
      "validation micro-F1 @4: 0.10891089108910891\n",
      "validation micro-F1 @5: 0.1099009900990099\n",
      "validation micro-F1 @6: 0.11221122112211221\n",
      "validation micro-F1 @7: 0.10608203677510608\n",
      "validation micro-F1 @8: 0.10024752475247525\n",
      "validation micro-F1 @9: 0.09735973597359736\n",
      "validation micro-F1 @10: 0.09455445544554456\n"
     ]
    },
    {
     "name": "stderr",
     "output_type": "stream",
     "text": [
      "\r",
      "  3%|▎         | 153/4536 [3:37:31<103:51:23, 85.30s/it]"
     ]
    },
    {
     "name": "stdout",
     "output_type": "stream",
     "text": [
      "iter: 152, configuration: {'vectorizer_norm': None, 'svm_degree': 4, 'medoid_normalization': 'standard', 'svm_kernel': 'rbf', 'nb_medoids_ratio': 0.2, 'svm_gamma': 0.2, 'svm_c': 0.01}\n",
      "\n",
      "validation micro-F1 @1: 0.13366336633663367\n",
      "validation micro-F1 @2: 0.1485148514851485\n",
      "validation micro-F1 @3: 0.12706270627062707\n",
      "validation micro-F1 @4: 0.11262376237623763\n",
      "validation micro-F1 @5: 0.10396039603960396\n",
      "validation micro-F1 @6: 0.09735973597359736\n",
      "validation micro-F1 @7: 0.09547383309759547\n",
      "validation micro-F1 @8: 0.09962871287128713\n",
      "validation micro-F1 @9: 0.09900990099009901\n",
      "validation micro-F1 @10: 0.09405940594059406\n"
     ]
    },
    {
     "name": "stderr",
     "output_type": "stream",
     "text": [
      "\r",
      "  3%|▎         | 154/4536 [3:38:44<103:44:17, 85.23s/it]"
     ]
    },
    {
     "name": "stdout",
     "output_type": "stream",
     "text": [
      "iter: 153, configuration: {'vectorizer_norm': 'l1', 'svm_degree': 4, 'medoid_normalization': 'standard', 'svm_kernel': 'poly', 'nb_medoids_ratio': 0.2, 'svm_gamma': 0.2, 'svm_c': 0.01}\n",
      "\n",
      "validation micro-F1 @1: 0.13861386138613863\n",
      "validation micro-F1 @2: 0.1485148514851485\n",
      "validation micro-F1 @3: 0.12871287128712872\n",
      "validation micro-F1 @4: 0.11386138613861387\n",
      "validation micro-F1 @5: 0.10693069306930693\n",
      "validation micro-F1 @6: 0.10396039603960396\n",
      "validation micro-F1 @7: 0.10466760961810467\n",
      "validation micro-F1 @8: 0.1021039603960396\n",
      "validation micro-F1 @9: 0.1001100110011001\n",
      "validation micro-F1 @10: 0.09653465346534654\n"
     ]
    },
    {
     "name": "stderr",
     "output_type": "stream",
     "text": [
      "\r",
      "  3%|▎         | 155/4536 [3:41:34<104:22:35, 85.77s/it]"
     ]
    },
    {
     "name": "stdout",
     "output_type": "stream",
     "text": [
      "iter: 154, configuration: {'vectorizer_norm': 'l2', 'svm_degree': 4, 'medoid_normalization': 'standard', 'svm_kernel': 'poly', 'nb_medoids_ratio': 0.2, 'svm_gamma': 0.2, 'svm_c': 0.01}\n",
      "\n",
      "validation micro-F1 @1: 0.13861386138613863\n",
      "validation micro-F1 @2: 0.15099009900990099\n",
      "validation micro-F1 @3: 0.13036303630363036\n",
      "validation micro-F1 @4: 0.1150990099009901\n",
      "validation micro-F1 @5: 0.11188118811881188\n",
      "validation micro-F1 @6: 0.10148514851485149\n",
      "validation micro-F1 @7: 0.10254596888260255\n",
      "validation micro-F1 @8: 0.09900990099009901\n",
      "validation micro-F1 @9: 0.1001100110011001\n",
      "validation micro-F1 @10: 0.09702970297029703\n"
     ]
    },
    {
     "name": "stderr",
     "output_type": "stream",
     "text": [
      "\r",
      "  3%|▎         | 156/4536 [3:44:26<105:01:26, 86.32s/it]"
     ]
    },
    {
     "name": "stdout",
     "output_type": "stream",
     "text": [
      "iter: 155, configuration: {'vectorizer_norm': None, 'svm_degree': 4, 'medoid_normalization': 'standard', 'svm_kernel': 'poly', 'nb_medoids_ratio': 0.2, 'svm_gamma': 0.2, 'svm_c': 0.01}\n",
      "\n",
      "validation micro-F1 @1: 0.14356435643564355\n",
      "validation micro-F1 @2: 0.1485148514851485\n",
      "validation micro-F1 @3: 0.12706270627062707\n",
      "validation micro-F1 @4: 0.11262376237623763\n",
      "validation micro-F1 @5: 0.10495049504950495\n",
      "validation micro-F1 @6: 0.09900990099009901\n",
      "validation micro-F1 @7: 0.09618104667609619\n",
      "validation micro-F1 @8: 0.09962871287128713\n",
      "validation micro-F1 @9: 0.09845984598459846\n",
      "validation micro-F1 @10: 0.09405940594059406\n"
     ]
    },
    {
     "name": "stderr",
     "output_type": "stream",
     "text": [
      "\r",
      "  3%|▎         | 157/4536 [3:44:59<104:35:27, 85.98s/it]"
     ]
    },
    {
     "name": "stdout",
     "output_type": "stream",
     "text": [
      "iter: 156, configuration: {'vectorizer_norm': 'l1', 'svm_degree': 4, 'medoid_normalization': 'standard', 'svm_kernel': 'rbf', 'nb_medoids_ratio': 0.2, 'svm_gamma': 0.3, 'svm_c': 0.01}\n",
      "\n",
      "validation micro-F1 @1: 0.0891089108910891\n",
      "validation micro-F1 @2: 0.10891089108910891\n",
      "validation micro-F1 @3: 0.09900990099009901\n",
      "validation micro-F1 @4: 0.09900990099009901\n",
      "validation micro-F1 @5: 0.09603960396039604\n",
      "validation micro-F1 @6: 0.09075907590759076\n",
      "validation micro-F1 @7: 0.09688826025459689\n",
      "validation micro-F1 @8: 0.0952970297029703\n",
      "validation micro-F1 @9: 0.0924092409240924\n",
      "validation micro-F1 @10: 0.08811881188118811\n"
     ]
    },
    {
     "name": "stderr",
     "output_type": "stream",
     "text": [
      "\r",
      "  3%|▎         | 158/4536 [3:45:48<104:16:49, 85.75s/it]"
     ]
    },
    {
     "name": "stdout",
     "output_type": "stream",
     "text": [
      "iter: 157, configuration: {'vectorizer_norm': 'l2', 'svm_degree': 4, 'medoid_normalization': 'standard', 'svm_kernel': 'rbf', 'nb_medoids_ratio': 0.2, 'svm_gamma': 0.3, 'svm_c': 0.01}\n",
      "\n",
      "validation micro-F1 @1: 0.1485148514851485\n",
      "validation micro-F1 @2: 0.14356435643564355\n",
      "validation micro-F1 @3: 0.13036303630363036\n",
      "validation micro-F1 @4: 0.11386138613861387\n",
      "validation micro-F1 @5: 0.10891089108910891\n",
      "validation micro-F1 @6: 0.10561056105610561\n",
      "validation micro-F1 @7: 0.10537482319660538\n",
      "validation micro-F1 @8: 0.10272277227722772\n",
      "validation micro-F1 @9: 0.10231023102310231\n",
      "validation micro-F1 @10: 0.09801980198019802\n"
     ]
    },
    {
     "name": "stderr",
     "output_type": "stream",
     "text": [
      "\r",
      "  4%|▎         | 159/4536 [3:48:06<104:39:39, 86.08s/it]"
     ]
    },
    {
     "name": "stdout",
     "output_type": "stream",
     "text": [
      "iter: 158, configuration: {'vectorizer_norm': None, 'svm_degree': 4, 'medoid_normalization': 'standard', 'svm_kernel': 'rbf', 'nb_medoids_ratio': 0.2, 'svm_gamma': 0.3, 'svm_c': 0.01}\n",
      "\n",
      "validation micro-F1 @1: 0.13861386138613863\n",
      "validation micro-F1 @2: 0.15099009900990099\n",
      "validation micro-F1 @3: 0.12871287128712872\n",
      "validation micro-F1 @4: 0.11386138613861387\n",
      "validation micro-F1 @5: 0.10495049504950495\n",
      "validation micro-F1 @6: 0.10726072607260725\n",
      "validation micro-F1 @7: 0.10113154172560113\n",
      "validation micro-F1 @8: 0.10024752475247525\n",
      "validation micro-F1 @9: 0.09900990099009901\n",
      "validation micro-F1 @10: 0.09405940594059406\n"
     ]
    },
    {
     "name": "stderr",
     "output_type": "stream",
     "text": [
      "\r",
      "  4%|▎         | 160/4536 [3:49:22<104:33:34, 86.02s/it]"
     ]
    },
    {
     "name": "stdout",
     "output_type": "stream",
     "text": [
      "iter: 159, configuration: {'vectorizer_norm': 'l1', 'svm_degree': 4, 'medoid_normalization': 'standard', 'svm_kernel': 'poly', 'nb_medoids_ratio': 0.2, 'svm_gamma': 0.3, 'svm_c': 0.01}\n",
      "\n",
      "validation micro-F1 @1: 0.13861386138613863\n",
      "validation micro-F1 @2: 0.15594059405940594\n",
      "validation micro-F1 @3: 0.13036303630363036\n",
      "validation micro-F1 @4: 0.11633663366336634\n",
      "validation micro-F1 @5: 0.11584158415841585\n",
      "validation micro-F1 @6: 0.10478547854785479\n",
      "validation micro-F1 @7: 0.10325318246110325\n",
      "validation micro-F1 @8: 0.1021039603960396\n",
      "validation micro-F1 @9: 0.1001100110011001\n",
      "validation micro-F1 @10: 0.1\n"
     ]
    },
    {
     "name": "stderr",
     "output_type": "stream",
     "text": [
      "\r",
      "  4%|▎         | 161/4536 [3:52:46<105:25:29, 86.75s/it]"
     ]
    },
    {
     "name": "stdout",
     "output_type": "stream",
     "text": [
      "iter: 160, configuration: {'vectorizer_norm': 'l2', 'svm_degree': 4, 'medoid_normalization': 'standard', 'svm_kernel': 'poly', 'nb_medoids_ratio': 0.2, 'svm_gamma': 0.3, 'svm_c': 0.01}\n",
      "\n",
      "validation micro-F1 @1: 0.14356435643564355\n",
      "validation micro-F1 @2: 0.14356435643564355\n",
      "validation micro-F1 @3: 0.132013201320132\n",
      "validation micro-F1 @4: 0.11262376237623763\n",
      "validation micro-F1 @5: 0.10891089108910891\n",
      "validation micro-F1 @6: 0.10808580858085809\n",
      "validation micro-F1 @7: 0.10678925035360678\n",
      "validation micro-F1 @8: 0.10272277227722772\n",
      "validation micro-F1 @9: 0.09900990099009901\n",
      "validation micro-F1 @10: 0.09504950495049505\n"
     ]
    },
    {
     "name": "stderr",
     "output_type": "stream",
     "text": [
      "\r",
      "  4%|▎         | 162/4536 [3:55:49<106:07:11, 87.34s/it]"
     ]
    },
    {
     "name": "stdout",
     "output_type": "stream",
     "text": [
      "iter: 161, configuration: {'vectorizer_norm': None, 'svm_degree': 4, 'medoid_normalization': 'standard', 'svm_kernel': 'poly', 'nb_medoids_ratio': 0.2, 'svm_gamma': 0.3, 'svm_c': 0.01}\n",
      "\n",
      "validation micro-F1 @1: 0.14356435643564355\n",
      "validation micro-F1 @2: 0.15099009900990099\n",
      "validation micro-F1 @3: 0.12706270627062707\n",
      "validation micro-F1 @4: 0.11262376237623763\n",
      "validation micro-F1 @5: 0.10198019801980197\n",
      "validation micro-F1 @6: 0.09983498349834984\n",
      "validation micro-F1 @7: 0.10183875530410184\n",
      "validation micro-F1 @8: 0.10086633663366337\n",
      "validation micro-F1 @9: 0.09845984598459846\n",
      "validation micro-F1 @10: 0.09504950495049505\n"
     ]
    },
    {
     "name": "stderr",
     "output_type": "stream",
     "text": [
      "\r",
      "  4%|▎         | 163/4536 [3:56:24<105:42:18, 87.02s/it]"
     ]
    },
    {
     "name": "stdout",
     "output_type": "stream",
     "text": [
      "iter: 162, configuration: {'vectorizer_norm': 'l1', 'svm_degree': 4, 'medoid_normalization': 'standard', 'svm_kernel': 'rbf', 'nb_medoids_ratio': 0.2, 'svm_gamma': 0.5, 'svm_c': 0.01}\n",
      "\n",
      "validation micro-F1 @1: 0.12376237623762376\n",
      "validation micro-F1 @2: 0.14108910891089108\n",
      "validation micro-F1 @3: 0.12376237623762376\n",
      "validation micro-F1 @4: 0.10891089108910891\n",
      "validation micro-F1 @5: 0.100990099009901\n",
      "validation micro-F1 @6: 0.09570957095709572\n",
      "validation micro-F1 @7: 0.09900990099009901\n",
      "validation micro-F1 @8: 0.10024752475247525\n",
      "validation micro-F1 @9: 0.09845984598459846\n",
      "validation micro-F1 @10: 0.09504950495049505\n"
     ]
    },
    {
     "name": "stderr",
     "output_type": "stream",
     "text": [
      "\r",
      "  4%|▎         | 164/4536 [3:57:18<105:26:28, 86.82s/it]"
     ]
    },
    {
     "name": "stdout",
     "output_type": "stream",
     "text": [
      "iter: 163, configuration: {'vectorizer_norm': 'l2', 'svm_degree': 4, 'medoid_normalization': 'standard', 'svm_kernel': 'rbf', 'nb_medoids_ratio': 0.2, 'svm_gamma': 0.5, 'svm_c': 0.01}\n",
      "\n",
      "validation micro-F1 @1: 0.14356435643564355\n",
      "validation micro-F1 @2: 0.15099009900990099\n",
      "validation micro-F1 @3: 0.1254125412541254\n",
      "validation micro-F1 @4: 0.11633663366336634\n",
      "validation micro-F1 @5: 0.10891089108910891\n",
      "validation micro-F1 @6: 0.10313531353135313\n",
      "validation micro-F1 @7: 0.10113154172560113\n",
      "validation micro-F1 @8: 0.09715346534653466\n",
      "validation micro-F1 @9: 0.0968096809680968\n",
      "validation micro-F1 @10: 0.09306930693069307\n"
     ]
    },
    {
     "name": "stderr",
     "output_type": "stream",
     "text": [
      "\r",
      "  4%|▎         | 165/4536 [3:59:35<105:46:54, 87.12s/it]"
     ]
    },
    {
     "name": "stdout",
     "output_type": "stream",
     "text": [
      "iter: 164, configuration: {'vectorizer_norm': None, 'svm_degree': 4, 'medoid_normalization': 'standard', 'svm_kernel': 'rbf', 'nb_medoids_ratio': 0.2, 'svm_gamma': 0.5, 'svm_c': 0.01}\n",
      "\n",
      "validation micro-F1 @1: 0.13861386138613863\n",
      "validation micro-F1 @2: 0.15099009900990099\n",
      "validation micro-F1 @3: 0.12871287128712872\n",
      "validation micro-F1 @4: 0.11386138613861387\n",
      "validation micro-F1 @5: 0.10495049504950495\n",
      "validation micro-F1 @6: 0.09818481848184818\n",
      "validation micro-F1 @7: 0.10113154172560113\n",
      "validation micro-F1 @8: 0.10024752475247525\n",
      "validation micro-F1 @9: 0.09900990099009901\n",
      "validation micro-F1 @10: 0.09405940594059406\n"
     ]
    },
    {
     "name": "stderr",
     "output_type": "stream",
     "text": [
      "\r",
      "  4%|▎         | 166/4536 [4:00:57<105:43:30, 87.10s/it]"
     ]
    },
    {
     "name": "stdout",
     "output_type": "stream",
     "text": [
      "iter: 165, configuration: {'vectorizer_norm': 'l1', 'svm_degree': 4, 'medoid_normalization': 'standard', 'svm_kernel': 'poly', 'nb_medoids_ratio': 0.2, 'svm_gamma': 0.5, 'svm_c': 0.01}\n",
      "\n",
      "validation micro-F1 @1: 0.13366336633663367\n",
      "validation micro-F1 @2: 0.14603960396039603\n",
      "validation micro-F1 @3: 0.13036303630363036\n",
      "validation micro-F1 @4: 0.1150990099009901\n",
      "validation micro-F1 @5: 0.10693069306930693\n",
      "validation micro-F1 @6: 0.10726072607260725\n",
      "validation micro-F1 @7: 0.10254596888260255\n",
      "validation micro-F1 @8: 0.10396039603960396\n",
      "validation micro-F1 @9: 0.10066006600660066\n",
      "validation micro-F1 @10: 0.09752475247524753\n"
     ]
    },
    {
     "name": "stderr",
     "output_type": "stream",
     "text": [
      "\r",
      "  4%|▎         | 167/4536 [4:04:02<106:24:39, 87.68s/it]"
     ]
    },
    {
     "name": "stdout",
     "output_type": "stream",
     "text": [
      "iter: 166, configuration: {'vectorizer_norm': 'l2', 'svm_degree': 4, 'medoid_normalization': 'standard', 'svm_kernel': 'poly', 'nb_medoids_ratio': 0.2, 'svm_gamma': 0.5, 'svm_c': 0.01}\n",
      "\n",
      "validation micro-F1 @1: 0.16831683168316833\n",
      "validation micro-F1 @2: 0.1485148514851485\n",
      "validation micro-F1 @3: 0.12871287128712872\n",
      "validation micro-F1 @4: 0.11386138613861387\n",
      "validation micro-F1 @5: 0.10297029702970296\n",
      "validation micro-F1 @6: 0.09983498349834984\n",
      "validation micro-F1 @7: 0.0983026874115983\n",
      "validation micro-F1 @8: 0.09591584158415842\n",
      "validation micro-F1 @9: 0.0924092409240924\n",
      "validation micro-F1 @10: 0.09108910891089109\n"
     ]
    },
    {
     "name": "stderr",
     "output_type": "stream",
     "text": [
      "\r",
      "  4%|▎         | 168/4536 [4:06:52<106:58:44, 88.17s/it]"
     ]
    },
    {
     "name": "stdout",
     "output_type": "stream",
     "text": [
      "iter: 167, configuration: {'vectorizer_norm': None, 'svm_degree': 4, 'medoid_normalization': 'standard', 'svm_kernel': 'poly', 'nb_medoids_ratio': 0.2, 'svm_gamma': 0.5, 'svm_c': 0.01}\n",
      "\n",
      "validation micro-F1 @1: 0.14356435643564355\n",
      "validation micro-F1 @2: 0.14356435643564355\n",
      "validation micro-F1 @3: 0.12706270627062707\n",
      "validation micro-F1 @4: 0.11262376237623763\n",
      "validation micro-F1 @5: 0.10594059405940594\n",
      "validation micro-F1 @6: 0.10396039603960396\n",
      "validation micro-F1 @7: 0.10325318246110325\n",
      "validation micro-F1 @8: 0.10086633663366337\n",
      "validation micro-F1 @9: 0.09845984598459846\n",
      "validation micro-F1 @10: 0.09504950495049505\n"
     ]
    },
    {
     "name": "stderr",
     "output_type": "stream",
     "text": [
      "\r",
      "  4%|▎         | 169/4536 [4:07:30<106:35:28, 87.87s/it]"
     ]
    },
    {
     "name": "stdout",
     "output_type": "stream",
     "text": [
      "iter: 168, configuration: {'vectorizer_norm': 'l1', 'svm_degree': 4, 'medoid_normalization': 'standard', 'svm_kernel': 'rbf', 'nb_medoids_ratio': 0.2, 'svm_gamma': 1.0, 'svm_c': 0.01}\n",
      "\n",
      "validation micro-F1 @1: 0.07920792079207921\n",
      "validation micro-F1 @2: 0.12376237623762376\n",
      "validation micro-F1 @3: 0.11716171617161716\n",
      "validation micro-F1 @4: 0.10396039603960396\n",
      "validation micro-F1 @5: 0.10693069306930693\n",
      "validation micro-F1 @6: 0.10478547854785479\n",
      "validation micro-F1 @7: 0.09688826025459689\n",
      "validation micro-F1 @8: 0.0983910891089109\n",
      "validation micro-F1 @9: 0.09570957095709572\n",
      "validation micro-F1 @10: 0.09158415841584158\n"
     ]
    },
    {
     "name": "stderr",
     "output_type": "stream",
     "text": [
      "\r",
      "  4%|▎         | 170/4536 [4:08:36<106:24:54, 87.75s/it]"
     ]
    },
    {
     "name": "stdout",
     "output_type": "stream",
     "text": [
      "iter: 169, configuration: {'vectorizer_norm': 'l2', 'svm_degree': 4, 'medoid_normalization': 'standard', 'svm_kernel': 'rbf', 'nb_medoids_ratio': 0.2, 'svm_gamma': 1.0, 'svm_c': 0.01}\n",
      "\n",
      "validation micro-F1 @1: 0.14356435643564355\n",
      "validation micro-F1 @2: 0.13861386138613863\n",
      "validation micro-F1 @3: 0.12706270627062707\n",
      "validation micro-F1 @4: 0.11633663366336634\n",
      "validation micro-F1 @5: 0.10891089108910891\n",
      "validation micro-F1 @6: 0.10891089108910891\n",
      "validation micro-F1 @7: 0.10325318246110325\n",
      "validation micro-F1 @8: 0.10024752475247525\n",
      "validation micro-F1 @9: 0.0968096809680968\n",
      "validation micro-F1 @10: 0.09356435643564356\n"
     ]
    },
    {
     "name": "stderr",
     "output_type": "stream",
     "text": [
      "\r",
      "  4%|▍         | 171/4536 [4:10:51<106:43:35, 88.02s/it]"
     ]
    },
    {
     "name": "stdout",
     "output_type": "stream",
     "text": [
      "iter: 170, configuration: {'vectorizer_norm': None, 'svm_degree': 4, 'medoid_normalization': 'standard', 'svm_kernel': 'rbf', 'nb_medoids_ratio': 0.2, 'svm_gamma': 1.0, 'svm_c': 0.01}\n",
      "\n",
      "validation micro-F1 @1: 0.13861386138613863\n",
      "validation micro-F1 @2: 0.15099009900990099\n",
      "validation micro-F1 @3: 0.12871287128712872\n",
      "validation micro-F1 @4: 0.11386138613861387\n",
      "validation micro-F1 @5: 0.10495049504950495\n",
      "validation micro-F1 @6: 0.09818481848184818\n",
      "validation micro-F1 @7: 0.09688826025459689\n",
      "validation micro-F1 @8: 0.09962871287128713\n",
      "validation micro-F1 @9: 0.09900990099009901\n",
      "validation micro-F1 @10: 0.09603960396039604\n"
     ]
    },
    {
     "name": "stderr",
     "output_type": "stream",
     "text": [
      "\r",
      "  4%|▍         | 172/4536 [4:12:41<106:51:25, 88.15s/it]"
     ]
    },
    {
     "name": "stdout",
     "output_type": "stream",
     "text": [
      "iter: 171, configuration: {'vectorizer_norm': 'l1', 'svm_degree': 4, 'medoid_normalization': 'standard', 'svm_kernel': 'poly', 'nb_medoids_ratio': 0.2, 'svm_gamma': 1.0, 'svm_c': 0.01}\n",
      "\n",
      "validation micro-F1 @1: 0.13861386138613863\n",
      "validation micro-F1 @2: 0.15099009900990099\n",
      "validation micro-F1 @3: 0.12871287128712872\n",
      "validation micro-F1 @4: 0.11386138613861387\n",
      "validation micro-F1 @5: 0.10594059405940594\n",
      "validation micro-F1 @6: 0.10643564356435643\n",
      "validation micro-F1 @7: 0.10396039603960396\n",
      "validation micro-F1 @8: 0.10334158415841584\n",
      "validation micro-F1 @9: 0.09790979097909791\n",
      "validation micro-F1 @10: 0.09801980198019802\n"
     ]
    },
    {
     "name": "stderr",
     "output_type": "stream",
     "text": [
      "\r",
      "  4%|▍         | 173/4536 [4:15:50<107:32:19, 88.73s/it]"
     ]
    },
    {
     "name": "stdout",
     "output_type": "stream",
     "text": [
      "iter: 172, configuration: {'vectorizer_norm': 'l2', 'svm_degree': 4, 'medoid_normalization': 'standard', 'svm_kernel': 'poly', 'nb_medoids_ratio': 0.2, 'svm_gamma': 1.0, 'svm_c': 0.01}\n",
      "\n",
      "validation micro-F1 @1: 0.13861386138613863\n",
      "validation micro-F1 @2: 0.1485148514851485\n",
      "validation micro-F1 @3: 0.132013201320132\n",
      "validation micro-F1 @4: 0.1150990099009901\n",
      "validation micro-F1 @5: 0.10891089108910891\n",
      "validation micro-F1 @6: 0.10066006600660066\n",
      "validation micro-F1 @7: 0.10678925035360678\n",
      "validation micro-F1 @8: 0.10334158415841584\n",
      "validation micro-F1 @9: 0.10066006600660066\n",
      "validation micro-F1 @10: 0.09702970297029703\n"
     ]
    },
    {
     "name": "stderr",
     "output_type": "stream",
     "text": [
      "\r",
      "  4%|▍         | 174/4536 [4:18:39<108:04:29, 89.20s/it]"
     ]
    },
    {
     "name": "stdout",
     "output_type": "stream",
     "text": [
      "iter: 173, configuration: {'vectorizer_norm': None, 'svm_degree': 4, 'medoid_normalization': 'standard', 'svm_kernel': 'poly', 'nb_medoids_ratio': 0.2, 'svm_gamma': 1.0, 'svm_c': 0.01}\n",
      "\n",
      "validation micro-F1 @1: 0.13366336633663367\n",
      "validation micro-F1 @2: 0.14603960396039603\n",
      "validation micro-F1 @3: 0.12706270627062707\n",
      "validation micro-F1 @4: 0.11262376237623763\n",
      "validation micro-F1 @5: 0.10495049504950495\n",
      "validation micro-F1 @6: 0.10478547854785479\n",
      "validation micro-F1 @7: 0.10466760961810467\n",
      "validation micro-F1 @8: 0.10272277227722772\n",
      "validation micro-F1 @9: 0.09845984598459846\n",
      "validation micro-F1 @10: 0.09356435643564356\n"
     ]
    },
    {
     "name": "stderr",
     "output_type": "stream",
     "text": [
      "\r",
      "  4%|▍         | 175/4536 [4:19:11<107:39:07, 88.87s/it]"
     ]
    },
    {
     "name": "stdout",
     "output_type": "stream",
     "text": [
      "iter: 174, configuration: {'vectorizer_norm': 'l1', 'svm_degree': 4, 'medoid_normalization': 'standard', 'svm_kernel': 'rbf', 'nb_medoids_ratio': 0.2, 'svm_gamma': 'auto', 'svm_c': 0.01}\n",
      "\n",
      "validation micro-F1 @1: 0.01485148514851485\n",
      "validation micro-F1 @2: 0.01485148514851485\n",
      "validation micro-F1 @3: 0.019801980198019802\n",
      "validation micro-F1 @4: 0.02103960396039604\n",
      "validation micro-F1 @5: 0.019801980198019802\n",
      "validation micro-F1 @6: 0.018976897689768978\n",
      "validation micro-F1 @7: 0.01768033946251768\n",
      "validation micro-F1 @8: 0.01670792079207921\n",
      "validation micro-F1 @9: 0.0165016501650165\n",
      "validation micro-F1 @10: 0.016336633663366337\n"
     ]
    },
    {
     "name": "stderr",
     "output_type": "stream",
     "text": [
      "\r",
      "  4%|▍         | 176/4536 [4:19:43<107:13:58, 88.54s/it]"
     ]
    },
    {
     "name": "stdout",
     "output_type": "stream",
     "text": [
      "iter: 175, configuration: {'vectorizer_norm': 'l2', 'svm_degree': 4, 'medoid_normalization': 'standard', 'svm_kernel': 'rbf', 'nb_medoids_ratio': 0.2, 'svm_gamma': 'auto', 'svm_c': 0.01}\n",
      "\n",
      "validation micro-F1 @1: 0.009900990099009901\n",
      "validation micro-F1 @2: 0.009900990099009901\n",
      "validation micro-F1 @3: 0.013201320132013201\n",
      "validation micro-F1 @4: 0.019801980198019802\n",
      "validation micro-F1 @5: 0.02277227722772277\n",
      "validation micro-F1 @6: 0.019801980198019802\n",
      "validation micro-F1 @7: 0.02050919377652051\n",
      "validation micro-F1 @8: 0.021658415841584157\n",
      "validation micro-F1 @9: 0.022552255225522552\n",
      "validation micro-F1 @10: 0.02277227722772277\n"
     ]
    },
    {
     "name": "stderr",
     "output_type": "stream",
     "text": [
      "\r",
      "  4%|▍         | 177/4536 [4:21:06<107:10:25, 88.51s/it]"
     ]
    },
    {
     "name": "stdout",
     "output_type": "stream",
     "text": [
      "iter: 176, configuration: {'vectorizer_norm': None, 'svm_degree': 4, 'medoid_normalization': 'standard', 'svm_kernel': 'rbf', 'nb_medoids_ratio': 0.2, 'svm_gamma': 'auto', 'svm_c': 0.01}\n",
      "\n",
      "validation micro-F1 @1: 0.09405940594059406\n",
      "validation micro-F1 @2: 0.11138613861386139\n",
      "validation micro-F1 @3: 0.1188118811881188\n",
      "validation micro-F1 @4: 0.11014851485148515\n",
      "validation micro-F1 @5: 0.100990099009901\n",
      "validation micro-F1 @6: 0.09983498349834984\n",
      "validation micro-F1 @7: 0.09618104667609619\n",
      "validation micro-F1 @8: 0.09467821782178218\n",
      "validation micro-F1 @9: 0.09460946094609461\n",
      "validation micro-F1 @10: 0.09405940594059406\n"
     ]
    },
    {
     "name": "stderr",
     "output_type": "stream",
     "text": [
      "\r",
      "  4%|▍         | 178/4536 [4:21:36<106:45:07, 88.18s/it]"
     ]
    },
    {
     "name": "stdout",
     "output_type": "stream",
     "text": [
      "iter: 177, configuration: {'vectorizer_norm': 'l1', 'svm_degree': 4, 'medoid_normalization': 'standard', 'svm_kernel': 'poly', 'nb_medoids_ratio': 0.2, 'svm_gamma': 'auto', 'svm_c': 0.01}\n",
      "\n",
      "validation micro-F1 @1: 0.0049504950495049506\n",
      "validation micro-F1 @2: 0.017326732673267328\n",
      "validation micro-F1 @3: 0.019801980198019802\n",
      "validation micro-F1 @4: 0.01608910891089109\n",
      "validation micro-F1 @5: 0.016831683168316833\n",
      "validation micro-F1 @6: 0.02145214521452145\n",
      "validation micro-F1 @7: 0.03253182461103253\n",
      "validation micro-F1 @8: 0.03650990099009901\n",
      "validation micro-F1 @9: 0.050605060506050605\n",
      "validation micro-F1 @10: 0.05396039603960396\n"
     ]
    },
    {
     "name": "stderr",
     "output_type": "stream",
     "text": [
      "\r",
      "  4%|▍         | 179/4536 [4:22:08<106:20:54, 87.87s/it]"
     ]
    },
    {
     "name": "stdout",
     "output_type": "stream",
     "text": [
      "iter: 178, configuration: {'vectorizer_norm': 'l2', 'svm_degree': 4, 'medoid_normalization': 'standard', 'svm_kernel': 'poly', 'nb_medoids_ratio': 0.2, 'svm_gamma': 'auto', 'svm_c': 0.01}\n",
      "\n",
      "validation micro-F1 @1: 0.07425742574257425\n",
      "validation micro-F1 @2: 0.07673267326732673\n",
      "validation micro-F1 @3: 0.08085808580858085\n",
      "validation micro-F1 @4: 0.0891089108910891\n",
      "validation micro-F1 @5: 0.08811881188118811\n",
      "validation micro-F1 @6: 0.08498349834983498\n",
      "validation micro-F1 @7: 0.08345120226308345\n",
      "validation micro-F1 @8: 0.0853960396039604\n",
      "validation micro-F1 @9: 0.08360836083608361\n",
      "validation micro-F1 @10: 0.0806930693069307\n"
     ]
    },
    {
     "name": "stderr",
     "output_type": "stream",
     "text": [
      "\r",
      "  4%|▍         | 180/4536 [4:24:58<106:52:23, 88.33s/it]"
     ]
    },
    {
     "name": "stdout",
     "output_type": "stream",
     "text": [
      "iter: 179, configuration: {'vectorizer_norm': None, 'svm_degree': 4, 'medoid_normalization': 'standard', 'svm_kernel': 'poly', 'nb_medoids_ratio': 0.2, 'svm_gamma': 'auto', 'svm_c': 0.01}\n",
      "\n",
      "validation micro-F1 @1: 0.14356435643564355\n",
      "validation micro-F1 @2: 0.14356435643564355\n",
      "validation micro-F1 @3: 0.1254125412541254\n",
      "validation micro-F1 @4: 0.11262376237623763\n",
      "validation micro-F1 @5: 0.10297029702970296\n",
      "validation micro-F1 @6: 0.10148514851485149\n",
      "validation micro-F1 @7: 0.10183875530410184\n",
      "validation micro-F1 @8: 0.10272277227722772\n",
      "validation micro-F1 @9: 0.09955995599559957\n",
      "validation micro-F1 @10: 0.09504950495049505\n"
     ]
    },
    {
     "name": "stderr",
     "output_type": "stream",
     "text": [
      "\r",
      "  4%|▍         | 181/4536 [4:25:30<106:28:27, 88.02s/it]"
     ]
    },
    {
     "name": "stdout",
     "output_type": "stream",
     "text": [
      "iter: 180, configuration: {'vectorizer_norm': 'l1', 'svm_degree': 5, 'medoid_normalization': 'standard', 'svm_kernel': 'rbf', 'nb_medoids_ratio': 0.2, 'svm_gamma': 0.1, 'svm_c': 0.01}\n",
      "\n",
      "validation micro-F1 @1: 0.054455445544554455\n",
      "validation micro-F1 @2: 0.07178217821782178\n",
      "validation micro-F1 @3: 0.06435643564356436\n",
      "validation micro-F1 @4: 0.07301980198019802\n",
      "validation micro-F1 @5: 0.07722772277227723\n",
      "validation micro-F1 @6: 0.08415841584158416\n",
      "validation micro-F1 @7: 0.08415841584158416\n",
      "validation micro-F1 @8: 0.0853960396039604\n",
      "validation micro-F1 @9: 0.08085808580858085\n",
      "validation micro-F1 @10: 0.07871287128712871\n"
     ]
    },
    {
     "name": "stderr",
     "output_type": "stream",
     "text": [
      "\r",
      "  4%|▍         | 182/4536 [4:26:08<106:06:57, 87.74s/it]"
     ]
    },
    {
     "name": "stdout",
     "output_type": "stream",
     "text": [
      "iter: 181, configuration: {'vectorizer_norm': 'l2', 'svm_degree': 5, 'medoid_normalization': 'standard', 'svm_kernel': 'rbf', 'nb_medoids_ratio': 0.2, 'svm_gamma': 0.1, 'svm_c': 0.01}\n",
      "\n",
      "validation micro-F1 @1: 0.14356435643564355\n",
      "validation micro-F1 @2: 0.15099009900990099\n",
      "validation micro-F1 @3: 0.13036303630363036\n",
      "validation micro-F1 @4: 0.1150990099009901\n",
      "validation micro-F1 @5: 0.10594059405940594\n",
      "validation micro-F1 @6: 0.09653465346534654\n",
      "validation micro-F1 @7: 0.09405940594059406\n",
      "validation micro-F1 @8: 0.09777227722772278\n",
      "validation micro-F1 @9: 0.0968096809680968\n",
      "validation micro-F1 @10: 0.09455445544554456\n"
     ]
    },
    {
     "name": "stderr",
     "output_type": "stream",
     "text": [
      "\r",
      "  4%|▍         | 183/4536 [4:28:30<106:26:54, 88.03s/it]"
     ]
    },
    {
     "name": "stdout",
     "output_type": "stream",
     "text": [
      "iter: 182, configuration: {'vectorizer_norm': None, 'svm_degree': 5, 'medoid_normalization': 'standard', 'svm_kernel': 'rbf', 'nb_medoids_ratio': 0.2, 'svm_gamma': 0.1, 'svm_c': 0.01}\n",
      "\n",
      "validation micro-F1 @1: 0.13366336633663367\n",
      "validation micro-F1 @2: 0.14356435643564355\n",
      "validation micro-F1 @3: 0.12706270627062707\n",
      "validation micro-F1 @4: 0.11262376237623763\n",
      "validation micro-F1 @5: 0.10495049504950495\n",
      "validation micro-F1 @6: 0.09900990099009901\n",
      "validation micro-F1 @7: 0.10183875530410184\n",
      "validation micro-F1 @8: 0.09962871287128713\n",
      "validation micro-F1 @9: 0.09900990099009901\n",
      "validation micro-F1 @10: 0.09405940594059406\n"
     ]
    },
    {
     "name": "stderr",
     "output_type": "stream",
     "text": [
      "\r",
      "  4%|▍         | 184/4536 [4:29:34<106:16:09, 87.91s/it]"
     ]
    },
    {
     "name": "stdout",
     "output_type": "stream",
     "text": [
      "iter: 183, configuration: {'vectorizer_norm': 'l1', 'svm_degree': 5, 'medoid_normalization': 'standard', 'svm_kernel': 'poly', 'nb_medoids_ratio': 0.2, 'svm_gamma': 0.1, 'svm_c': 0.01}\n",
      "\n",
      "validation micro-F1 @1: 0.13861386138613863\n",
      "validation micro-F1 @2: 0.1485148514851485\n",
      "validation micro-F1 @3: 0.12871287128712872\n",
      "validation micro-F1 @4: 0.11386138613861387\n",
      "validation micro-F1 @5: 0.10891089108910891\n",
      "validation micro-F1 @6: 0.11138613861386139\n",
      "validation micro-F1 @7: 0.10466760961810467\n",
      "validation micro-F1 @8: 0.10272277227722772\n",
      "validation micro-F1 @9: 0.09955995599559957\n",
      "validation micro-F1 @10: 0.09851485148514852\n"
     ]
    },
    {
     "name": "stderr",
     "output_type": "stream",
     "text": [
      "\r",
      "  4%|▍         | 185/4536 [4:32:31<106:49:35, 88.39s/it]"
     ]
    },
    {
     "name": "stdout",
     "output_type": "stream",
     "text": [
      "iter: 184, configuration: {'vectorizer_norm': 'l2', 'svm_degree': 5, 'medoid_normalization': 'standard', 'svm_kernel': 'poly', 'nb_medoids_ratio': 0.2, 'svm_gamma': 0.1, 'svm_c': 0.01}\n",
      "\n",
      "validation micro-F1 @1: 0.13366336633663367\n",
      "validation micro-F1 @2: 0.15099009900990099\n",
      "validation micro-F1 @3: 0.12376237623762376\n",
      "validation micro-F1 @4: 0.11386138613861387\n",
      "validation micro-F1 @5: 0.10495049504950495\n",
      "validation micro-F1 @6: 0.09983498349834984\n",
      "validation micro-F1 @7: 0.09688826025459689\n",
      "validation micro-F1 @8: 0.09962871287128713\n",
      "validation micro-F1 @9: 0.09955995599559957\n",
      "validation micro-F1 @10: 0.09653465346534654\n"
     ]
    },
    {
     "name": "stderr",
     "output_type": "stream",
     "text": [
      "\r",
      "  4%|▍         | 186/4536 [4:35:21<107:19:42, 88.82s/it]"
     ]
    },
    {
     "name": "stdout",
     "output_type": "stream",
     "text": [
      "iter: 185, configuration: {'vectorizer_norm': None, 'svm_degree': 5, 'medoid_normalization': 'standard', 'svm_kernel': 'poly', 'nb_medoids_ratio': 0.2, 'svm_gamma': 0.1, 'svm_c': 0.01}\n",
      "\n",
      "validation micro-F1 @1: 0.13366336633663367\n",
      "validation micro-F1 @2: 0.14603960396039603\n",
      "validation micro-F1 @3: 0.12706270627062707\n",
      "validation micro-F1 @4: 0.11386138613861387\n",
      "validation micro-F1 @5: 0.10396039603960396\n",
      "validation micro-F1 @6: 0.09653465346534654\n",
      "validation micro-F1 @7: 0.10254596888260255\n",
      "validation micro-F1 @8: 0.10334158415841584\n",
      "validation micro-F1 @9: 0.09790979097909791\n",
      "validation micro-F1 @10: 0.09306930693069307\n"
     ]
    },
    {
     "name": "stderr",
     "output_type": "stream",
     "text": [
      "\r",
      "  4%|▍         | 187/4536 [4:35:53<106:56:29, 88.52s/it]"
     ]
    },
    {
     "name": "stdout",
     "output_type": "stream",
     "text": [
      "iter: 186, configuration: {'vectorizer_norm': 'l1', 'svm_degree': 5, 'medoid_normalization': 'standard', 'svm_kernel': 'rbf', 'nb_medoids_ratio': 0.2, 'svm_gamma': 0.2, 'svm_c': 0.01}\n",
      "\n",
      "validation micro-F1 @1: 0.06930693069306931\n",
      "validation micro-F1 @2: 0.09900990099009901\n",
      "validation micro-F1 @3: 0.09405940594059406\n",
      "validation micro-F1 @4: 0.09405940594059406\n",
      "validation micro-F1 @5: 0.08811881188118811\n",
      "validation micro-F1 @6: 0.08498349834983498\n",
      "validation micro-F1 @7: 0.08203677510608204\n",
      "validation micro-F1 @8: 0.08106435643564357\n",
      "validation micro-F1 @9: 0.08195819581958196\n",
      "validation micro-F1 @10: 0.08217821782178218\n"
     ]
    },
    {
     "name": "stderr",
     "output_type": "stream",
     "text": [
      "\r",
      "  4%|▍         | 188/4536 [4:36:37<106:37:47, 88.29s/it]"
     ]
    },
    {
     "name": "stdout",
     "output_type": "stream",
     "text": [
      "iter: 187, configuration: {'vectorizer_norm': 'l2', 'svm_degree': 5, 'medoid_normalization': 'standard', 'svm_kernel': 'rbf', 'nb_medoids_ratio': 0.2, 'svm_gamma': 0.2, 'svm_c': 0.01}\n",
      "\n",
      "validation micro-F1 @1: 0.10396039603960396\n",
      "validation micro-F1 @2: 0.13613861386138615\n",
      "validation micro-F1 @3: 0.1254125412541254\n",
      "validation micro-F1 @4: 0.11386138613861387\n",
      "validation micro-F1 @5: 0.1099009900990099\n",
      "validation micro-F1 @6: 0.10561056105610561\n",
      "validation micro-F1 @7: 0.0983026874115983\n",
      "validation micro-F1 @8: 0.09962871287128713\n",
      "validation micro-F1 @9: 0.10066006600660066\n",
      "validation micro-F1 @10: 0.1004950495049505\n"
     ]
    },
    {
     "name": "stderr",
     "output_type": "stream",
     "text": [
      "\r",
      "  4%|▍         | 189/4536 [4:38:57<106:56:07, 88.56s/it]"
     ]
    },
    {
     "name": "stdout",
     "output_type": "stream",
     "text": [
      "iter: 188, configuration: {'vectorizer_norm': None, 'svm_degree': 5, 'medoid_normalization': 'standard', 'svm_kernel': 'rbf', 'nb_medoids_ratio': 0.2, 'svm_gamma': 0.2, 'svm_c': 0.01}\n",
      "\n",
      "validation micro-F1 @1: 0.13366336633663367\n",
      "validation micro-F1 @2: 0.1485148514851485\n",
      "validation micro-F1 @3: 0.12706270627062707\n",
      "validation micro-F1 @4: 0.11262376237623763\n",
      "validation micro-F1 @5: 0.10396039603960396\n",
      "validation micro-F1 @6: 0.09735973597359736\n",
      "validation micro-F1 @7: 0.09618104667609619\n",
      "validation micro-F1 @8: 0.09653465346534654\n",
      "validation micro-F1 @9: 0.09900990099009901\n",
      "validation micro-F1 @10: 0.09356435643564356\n"
     ]
    },
    {
     "name": "stderr",
     "output_type": "stream",
     "text": [
      "\r",
      "  4%|▍         | 190/4536 [4:40:17<106:51:18, 88.51s/it]"
     ]
    },
    {
     "name": "stdout",
     "output_type": "stream",
     "text": [
      "iter: 189, configuration: {'vectorizer_norm': 'l1', 'svm_degree': 5, 'medoid_normalization': 'standard', 'svm_kernel': 'poly', 'nb_medoids_ratio': 0.2, 'svm_gamma': 0.2, 'svm_c': 0.01}\n",
      "\n",
      "validation micro-F1 @1: 0.13366336633663367\n",
      "validation micro-F1 @2: 0.15099009900990099\n",
      "validation micro-F1 @3: 0.12871287128712872\n",
      "validation micro-F1 @4: 0.11386138613861387\n",
      "validation micro-F1 @5: 0.1099009900990099\n",
      "validation micro-F1 @6: 0.10726072607260725\n",
      "validation micro-F1 @7: 0.10325318246110325\n",
      "validation micro-F1 @8: 0.10148514851485149\n",
      "validation micro-F1 @9: 0.09900990099009901\n",
      "validation micro-F1 @10: 0.09455445544554456\n"
     ]
    },
    {
     "name": "stderr",
     "output_type": "stream",
     "text": [
      "\r",
      "  4%|▍         | 191/4536 [4:43:18<107:25:02, 89.00s/it]"
     ]
    },
    {
     "name": "stdout",
     "output_type": "stream",
     "text": [
      "iter: 190, configuration: {'vectorizer_norm': 'l2', 'svm_degree': 5, 'medoid_normalization': 'standard', 'svm_kernel': 'poly', 'nb_medoids_ratio': 0.2, 'svm_gamma': 0.2, 'svm_c': 0.01}\n",
      "\n",
      "validation micro-F1 @1: 0.13861386138613863\n",
      "validation micro-F1 @2: 0.14603960396039603\n",
      "validation micro-F1 @3: 0.12871287128712872\n",
      "validation micro-F1 @4: 0.11262376237623763\n",
      "validation micro-F1 @5: 0.10594059405940594\n",
      "validation micro-F1 @6: 0.10396039603960396\n",
      "validation micro-F1 @7: 0.10396039603960396\n",
      "validation micro-F1 @8: 0.10086633663366337\n",
      "validation micro-F1 @9: 0.09900990099009901\n",
      "validation micro-F1 @10: 0.09851485148514852\n"
     ]
    },
    {
     "name": "stderr",
     "output_type": "stream",
     "text": [
      "\r",
      "  4%|▍         | 192/4536 [4:46:15<107:56:32, 89.45s/it]"
     ]
    },
    {
     "name": "stdout",
     "output_type": "stream",
     "text": [
      "iter: 191, configuration: {'vectorizer_norm': None, 'svm_degree': 5, 'medoid_normalization': 'standard', 'svm_kernel': 'poly', 'nb_medoids_ratio': 0.2, 'svm_gamma': 0.2, 'svm_c': 0.01}\n",
      "\n",
      "validation micro-F1 @1: 0.13861386138613863\n",
      "validation micro-F1 @2: 0.1485148514851485\n",
      "validation micro-F1 @3: 0.12706270627062707\n",
      "validation micro-F1 @4: 0.11262376237623763\n",
      "validation micro-F1 @5: 0.10495049504950495\n",
      "validation micro-F1 @6: 0.10148514851485149\n",
      "validation micro-F1 @7: 0.10042432814710042\n",
      "validation micro-F1 @8: 0.10024752475247525\n",
      "validation micro-F1 @9: 0.09900990099009901\n",
      "validation micro-F1 @10: 0.09405940594059406\n"
     ]
    },
    {
     "name": "stderr",
     "output_type": "stream",
     "text": [
      "\r",
      "  4%|▍         | 193/4536 [4:46:48<107:34:03, 89.16s/it]"
     ]
    },
    {
     "name": "stdout",
     "output_type": "stream",
     "text": [
      "iter: 192, configuration: {'vectorizer_norm': 'l1', 'svm_degree': 5, 'medoid_normalization': 'standard', 'svm_kernel': 'rbf', 'nb_medoids_ratio': 0.2, 'svm_gamma': 0.3, 'svm_c': 0.01}\n",
      "\n",
      "validation micro-F1 @1: 0.13366336633663367\n",
      "validation micro-F1 @2: 0.12376237623762376\n",
      "validation micro-F1 @3: 0.11056105610561057\n",
      "validation micro-F1 @4: 0.10272277227722772\n",
      "validation micro-F1 @5: 0.1\n",
      "validation micro-F1 @6: 0.09653465346534654\n",
      "validation micro-F1 @7: 0.0983026874115983\n",
      "validation micro-F1 @8: 0.09900990099009901\n",
      "validation micro-F1 @9: 0.0924092409240924\n",
      "validation micro-F1 @10: 0.08861386138613861\n"
     ]
    },
    {
     "name": "stderr",
     "output_type": "stream",
     "text": [
      "\r",
      "  4%|▍         | 194/4536 [4:47:36<107:17:14, 88.95s/it]"
     ]
    },
    {
     "name": "stdout",
     "output_type": "stream",
     "text": [
      "iter: 193, configuration: {'vectorizer_norm': 'l2', 'svm_degree': 5, 'medoid_normalization': 'standard', 'svm_kernel': 'rbf', 'nb_medoids_ratio': 0.2, 'svm_gamma': 0.3, 'svm_c': 0.01}\n",
      "\n",
      "validation micro-F1 @1: 0.12871287128712872\n",
      "validation micro-F1 @2: 0.14356435643564355\n",
      "validation micro-F1 @3: 0.12871287128712872\n",
      "validation micro-F1 @4: 0.12004950495049505\n",
      "validation micro-F1 @5: 0.1099009900990099\n",
      "validation micro-F1 @6: 0.10231023102310231\n",
      "validation micro-F1 @7: 0.10325318246110325\n",
      "validation micro-F1 @8: 0.10148514851485149\n",
      "validation micro-F1 @9: 0.10176017601760176\n",
      "validation micro-F1 @10: 0.09801980198019802\n"
     ]
    },
    {
     "name": "stderr",
     "output_type": "stream",
     "text": [
      "\r",
      "  4%|▍         | 195/4536 [4:49:55<107:34:05, 89.21s/it]"
     ]
    },
    {
     "name": "stdout",
     "output_type": "stream",
     "text": [
      "iter: 194, configuration: {'vectorizer_norm': None, 'svm_degree': 5, 'medoid_normalization': 'standard', 'svm_kernel': 'rbf', 'nb_medoids_ratio': 0.2, 'svm_gamma': 0.3, 'svm_c': 0.01}\n",
      "\n",
      "validation micro-F1 @1: 0.13861386138613863\n",
      "validation micro-F1 @2: 0.15099009900990099\n",
      "validation micro-F1 @3: 0.12871287128712872\n",
      "validation micro-F1 @4: 0.11386138613861387\n",
      "validation micro-F1 @5: 0.10495049504950495\n",
      "validation micro-F1 @6: 0.09818481848184818\n",
      "validation micro-F1 @7: 0.10113154172560113\n",
      "validation micro-F1 @8: 0.09962871287128713\n",
      "validation micro-F1 @9: 0.09900990099009901\n",
      "validation micro-F1 @10: 0.09405940594059406\n"
     ]
    },
    {
     "name": "stderr",
     "output_type": "stream",
     "text": [
      "\r",
      "  4%|▍         | 196/4536 [4:51:20<107:31:11, 89.19s/it]"
     ]
    },
    {
     "name": "stdout",
     "output_type": "stream",
     "text": [
      "iter: 195, configuration: {'vectorizer_norm': 'l1', 'svm_degree': 5, 'medoid_normalization': 'standard', 'svm_kernel': 'poly', 'nb_medoids_ratio': 0.2, 'svm_gamma': 0.3, 'svm_c': 0.01}\n",
      "\n",
      "validation micro-F1 @1: 0.13861386138613863\n",
      "validation micro-F1 @2: 0.15099009900990099\n",
      "validation micro-F1 @3: 0.12871287128712872\n",
      "validation micro-F1 @4: 0.11386138613861387\n",
      "validation micro-F1 @5: 0.1099009900990099\n",
      "validation micro-F1 @6: 0.11056105610561057\n",
      "validation micro-F1 @7: 0.10537482319660538\n",
      "validation micro-F1 @8: 0.10272277227722772\n",
      "validation micro-F1 @9: 0.09955995599559957\n",
      "validation micro-F1 @10: 0.09801980198019802\n"
     ]
    },
    {
     "name": "stderr",
     "output_type": "stream",
     "text": [
      "\r",
      "  4%|▍         | 197/4536 [4:54:17<108:01:52, 89.63s/it]"
     ]
    },
    {
     "name": "stdout",
     "output_type": "stream",
     "text": [
      "iter: 196, configuration: {'vectorizer_norm': 'l2', 'svm_degree': 5, 'medoid_normalization': 'standard', 'svm_kernel': 'poly', 'nb_medoids_ratio': 0.2, 'svm_gamma': 0.3, 'svm_c': 0.01}\n",
      "\n",
      "validation micro-F1 @1: 0.14356435643564355\n",
      "validation micro-F1 @2: 0.15099009900990099\n",
      "validation micro-F1 @3: 0.13036303630363036\n",
      "validation micro-F1 @4: 0.11386138613861387\n",
      "validation micro-F1 @5: 0.10396039603960396\n",
      "validation micro-F1 @6: 0.10148514851485149\n",
      "validation micro-F1 @7: 0.10113154172560113\n",
      "validation micro-F1 @8: 0.10086633663366337\n",
      "validation micro-F1 @9: 0.09955995599559957\n",
      "validation micro-F1 @10: 0.09554455445544555\n"
     ]
    },
    {
     "name": "stderr",
     "output_type": "stream",
     "text": [
      "\r",
      "  4%|▍         | 198/4536 [4:57:11<108:31:15, 90.06s/it]"
     ]
    },
    {
     "name": "stdout",
     "output_type": "stream",
     "text": [
      "iter: 197, configuration: {'vectorizer_norm': None, 'svm_degree': 5, 'medoid_normalization': 'standard', 'svm_kernel': 'poly', 'nb_medoids_ratio': 0.2, 'svm_gamma': 0.3, 'svm_c': 0.01}\n",
      "\n",
      "validation micro-F1 @1: 0.13861386138613863\n",
      "validation micro-F1 @2: 0.1485148514851485\n",
      "validation micro-F1 @3: 0.12706270627062707\n",
      "validation micro-F1 @4: 0.11386138613861387\n",
      "validation micro-F1 @5: 0.10495049504950495\n",
      "validation micro-F1 @6: 0.09900990099009901\n",
      "validation micro-F1 @7: 0.09971711456859972\n",
      "validation micro-F1 @8: 0.09962871287128713\n",
      "validation micro-F1 @9: 0.09955995599559957\n",
      "validation micro-F1 @10: 0.09504950495049505\n"
     ]
    },
    {
     "name": "stderr",
     "output_type": "stream",
     "text": [
      "\r",
      "  4%|▍         | 199/4536 [4:57:46<108:09:41, 89.78s/it]"
     ]
    },
    {
     "name": "stdout",
     "output_type": "stream",
     "text": [
      "iter: 198, configuration: {'vectorizer_norm': 'l1', 'svm_degree': 5, 'medoid_normalization': 'standard', 'svm_kernel': 'rbf', 'nb_medoids_ratio': 0.2, 'svm_gamma': 0.5, 'svm_c': 0.01}\n",
      "\n",
      "validation micro-F1 @1: 0.13861386138613863\n",
      "validation micro-F1 @2: 0.13366336633663367\n",
      "validation micro-F1 @3: 0.12046204620462046\n",
      "validation micro-F1 @4: 0.10643564356435643\n",
      "validation micro-F1 @5: 0.10396039603960396\n",
      "validation micro-F1 @6: 0.10066006600660066\n",
      "validation micro-F1 @7: 0.10183875530410184\n",
      "validation micro-F1 @8: 0.0983910891089109\n",
      "validation micro-F1 @9: 0.09845984598459846\n",
      "validation micro-F1 @10: 0.09455445544554456\n"
     ]
    },
    {
     "name": "stderr",
     "output_type": "stream",
     "text": [
      "\r",
      "  4%|▍         | 200/4536 [4:58:41<107:55:36, 89.61s/it]"
     ]
    },
    {
     "name": "stdout",
     "output_type": "stream",
     "text": [
      "iter: 199, configuration: {'vectorizer_norm': 'l2', 'svm_degree': 5, 'medoid_normalization': 'standard', 'svm_kernel': 'rbf', 'nb_medoids_ratio': 0.2, 'svm_gamma': 0.5, 'svm_c': 0.01}\n",
      "\n",
      "validation micro-F1 @1: 0.16336633663366337\n",
      "validation micro-F1 @2: 0.14356435643564355\n",
      "validation micro-F1 @3: 0.12211221122112212\n",
      "validation micro-F1 @4: 0.11386138613861387\n",
      "validation micro-F1 @5: 0.1099009900990099\n",
      "validation micro-F1 @6: 0.10643564356435643\n",
      "validation micro-F1 @7: 0.09971711456859972\n",
      "validation micro-F1 @8: 0.0983910891089109\n",
      "validation micro-F1 @9: 0.09735973597359736\n",
      "validation micro-F1 @10: 0.09356435643564356\n"
     ]
    },
    {
     "name": "stderr",
     "output_type": "stream",
     "text": [
      "\r",
      "  4%|▍         | 201/4536 [5:00:58<108:11:09, 89.84s/it]"
     ]
    },
    {
     "name": "stdout",
     "output_type": "stream",
     "text": [
      "iter: 200, configuration: {'vectorizer_norm': None, 'svm_degree': 5, 'medoid_normalization': 'standard', 'svm_kernel': 'rbf', 'nb_medoids_ratio': 0.2, 'svm_gamma': 0.5, 'svm_c': 0.01}\n",
      "\n",
      "validation micro-F1 @1: 0.13861386138613863\n",
      "validation micro-F1 @2: 0.15099009900990099\n",
      "validation micro-F1 @3: 0.12871287128712872\n",
      "validation micro-F1 @4: 0.11386138613861387\n",
      "validation micro-F1 @5: 0.10495049504950495\n",
      "validation micro-F1 @6: 0.09818481848184818\n",
      "validation micro-F1 @7: 0.10113154172560113\n",
      "validation micro-F1 @8: 0.10024752475247525\n",
      "validation micro-F1 @9: 0.09900990099009901\n",
      "validation micro-F1 @10: 0.09405940594059406\n"
     ]
    },
    {
     "name": "stderr",
     "output_type": "stream",
     "text": [
      "\r",
      "  4%|▍         | 202/4536 [5:02:53<108:18:32, 89.97s/it]"
     ]
    },
    {
     "name": "stdout",
     "output_type": "stream",
     "text": [
      "iter: 201, configuration: {'vectorizer_norm': 'l1', 'svm_degree': 5, 'medoid_normalization': 'standard', 'svm_kernel': 'poly', 'nb_medoids_ratio': 0.2, 'svm_gamma': 0.5, 'svm_c': 0.01}\n",
      "\n",
      "validation micro-F1 @1: 0.13366336633663367\n",
      "validation micro-F1 @2: 0.15099009900990099\n",
      "validation micro-F1 @3: 0.132013201320132\n",
      "validation micro-F1 @4: 0.11386138613861387\n",
      "validation micro-F1 @5: 0.10792079207920792\n",
      "validation micro-F1 @6: 0.10973597359735973\n",
      "validation micro-F1 @7: 0.10537482319660538\n",
      "validation micro-F1 @8: 0.10024752475247525\n",
      "validation micro-F1 @9: 0.09900990099009901\n",
      "validation micro-F1 @10: 0.09554455445544555\n"
     ]
    },
    {
     "name": "stderr",
     "output_type": "stream",
     "text": [
      "\r",
      "  4%|▍         | 203/4536 [5:05:58<108:50:54, 90.43s/it]"
     ]
    },
    {
     "name": "stdout",
     "output_type": "stream",
     "text": [
      "iter: 202, configuration: {'vectorizer_norm': 'l2', 'svm_degree': 5, 'medoid_normalization': 'standard', 'svm_kernel': 'poly', 'nb_medoids_ratio': 0.2, 'svm_gamma': 0.5, 'svm_c': 0.01}\n",
      "\n",
      "validation micro-F1 @1: 0.14356435643564355\n",
      "validation micro-F1 @2: 0.14108910891089108\n",
      "validation micro-F1 @3: 0.12871287128712872\n",
      "validation micro-F1 @4: 0.11386138613861387\n",
      "validation micro-F1 @5: 0.10792079207920792\n",
      "validation micro-F1 @6: 0.10643564356435643\n",
      "validation micro-F1 @7: 0.10325318246110325\n",
      "validation micro-F1 @8: 0.10272277227722772\n",
      "validation micro-F1 @9: 0.10176017601760176\n",
      "validation micro-F1 @10: 0.09900990099009901\n"
     ]
    },
    {
     "name": "stderr",
     "output_type": "stream",
     "text": [
      "\r",
      "  4%|▍         | 204/4536 [5:09:13<109:26:32, 90.95s/it]"
     ]
    },
    {
     "name": "stdout",
     "output_type": "stream",
     "text": [
      "iter: 203, configuration: {'vectorizer_norm': None, 'svm_degree': 5, 'medoid_normalization': 'standard', 'svm_kernel': 'poly', 'nb_medoids_ratio': 0.2, 'svm_gamma': 0.5, 'svm_c': 0.01}\n",
      "\n",
      "validation micro-F1 @1: 0.13366336633663367\n",
      "validation micro-F1 @2: 0.15099009900990099\n",
      "validation micro-F1 @3: 0.12706270627062707\n",
      "validation micro-F1 @4: 0.11386138613861387\n",
      "validation micro-F1 @5: 0.10495049504950495\n",
      "validation micro-F1 @6: 0.09983498349834984\n",
      "validation micro-F1 @7: 0.10113154172560113\n",
      "validation micro-F1 @8: 0.10272277227722772\n",
      "validation micro-F1 @9: 0.1001100110011001\n",
      "validation micro-F1 @10: 0.09455445544554456\n"
     ]
    },
    {
     "name": "stderr",
     "output_type": "stream",
     "text": [
      "\r",
      "  5%|▍         | 205/4536 [5:09:51<109:06:20, 90.69s/it]"
     ]
    },
    {
     "name": "stdout",
     "output_type": "stream",
     "text": [
      "iter: 204, configuration: {'vectorizer_norm': 'l1', 'svm_degree': 5, 'medoid_normalization': 'standard', 'svm_kernel': 'rbf', 'nb_medoids_ratio': 0.2, 'svm_gamma': 1.0, 'svm_c': 0.01}\n",
      "\n",
      "validation micro-F1 @1: 0.09405940594059406\n",
      "validation micro-F1 @2: 0.11633663366336634\n",
      "validation micro-F1 @3: 0.12376237623762376\n",
      "validation micro-F1 @4: 0.10891089108910891\n",
      "validation micro-F1 @5: 0.10198019801980197\n",
      "validation micro-F1 @6: 0.10643564356435643\n",
      "validation micro-F1 @7: 0.10608203677510608\n",
      "validation micro-F1 @8: 0.1021039603960396\n",
      "validation micro-F1 @9: 0.09735973597359736\n",
      "validation micro-F1 @10: 0.09207920792079208\n"
     ]
    },
    {
     "name": "stderr",
     "output_type": "stream",
     "text": [
      "\r",
      "  5%|▍         | 206/4536 [5:10:58<108:56:31, 90.58s/it]"
     ]
    },
    {
     "name": "stdout",
     "output_type": "stream",
     "text": [
      "iter: 205, configuration: {'vectorizer_norm': 'l2', 'svm_degree': 5, 'medoid_normalization': 'standard', 'svm_kernel': 'rbf', 'nb_medoids_ratio': 0.2, 'svm_gamma': 1.0, 'svm_c': 0.01}\n",
      "\n",
      "validation micro-F1 @1: 0.1188118811881188\n",
      "validation micro-F1 @2: 0.1311881188118812\n",
      "validation micro-F1 @3: 0.1254125412541254\n",
      "validation micro-F1 @4: 0.1150990099009901\n",
      "validation micro-F1 @5: 0.10693069306930693\n",
      "validation micro-F1 @6: 0.09900990099009901\n",
      "validation micro-F1 @7: 0.09900990099009901\n",
      "validation micro-F1 @8: 0.09591584158415842\n",
      "validation micro-F1 @9: 0.09625962596259625\n",
      "validation micro-F1 @10: 0.09356435643564356\n"
     ]
    },
    {
     "name": "stderr",
     "output_type": "stream",
     "text": [
      "\r",
      "  5%|▍         | 207/4536 [5:13:12<109:10:17, 90.79s/it]"
     ]
    },
    {
     "name": "stdout",
     "output_type": "stream",
     "text": [
      "iter: 206, configuration: {'vectorizer_norm': None, 'svm_degree': 5, 'medoid_normalization': 'standard', 'svm_kernel': 'rbf', 'nb_medoids_ratio': 0.2, 'svm_gamma': 1.0, 'svm_c': 0.01}\n",
      "\n",
      "validation micro-F1 @1: 0.13861386138613863\n",
      "validation micro-F1 @2: 0.15099009900990099\n",
      "validation micro-F1 @3: 0.12871287128712872\n",
      "validation micro-F1 @4: 0.11386138613861387\n",
      "validation micro-F1 @5: 0.10495049504950495\n",
      "validation micro-F1 @6: 0.09818481848184818\n",
      "validation micro-F1 @7: 0.10113154172560113\n",
      "validation micro-F1 @8: 0.09962871287128713\n",
      "validation micro-F1 @9: 0.09900990099009901\n",
      "validation micro-F1 @10: 0.09356435643564356\n"
     ]
    },
    {
     "name": "stderr",
     "output_type": "stream",
     "text": [
      "\r",
      "  5%|▍         | 208/4536 [5:16:29<109:45:19, 91.29s/it]"
     ]
    },
    {
     "name": "stdout",
     "output_type": "stream",
     "text": [
      "iter: 207, configuration: {'vectorizer_norm': 'l1', 'svm_degree': 5, 'medoid_normalization': 'standard', 'svm_kernel': 'poly', 'nb_medoids_ratio': 0.2, 'svm_gamma': 1.0, 'svm_c': 0.01}\n",
      "\n",
      "validation micro-F1 @1: 0.13366336633663367\n",
      "validation micro-F1 @2: 0.15099009900990099\n",
      "validation micro-F1 @3: 0.12871287128712872\n",
      "validation micro-F1 @4: 0.11386138613861387\n",
      "validation micro-F1 @5: 0.10594059405940594\n",
      "validation micro-F1 @6: 0.10891089108910891\n",
      "validation micro-F1 @7: 0.10113154172560113\n",
      "validation micro-F1 @8: 0.10086633663366337\n",
      "validation micro-F1 @9: 0.09900990099009901\n",
      "validation micro-F1 @10: 0.09306930693069307\n"
     ]
    },
    {
     "name": "stderr",
     "output_type": "stream",
     "text": [
      "\r",
      "  5%|▍         | 209/4536 [5:19:38<110:17:45, 91.76s/it]"
     ]
    },
    {
     "name": "stdout",
     "output_type": "stream",
     "text": [
      "iter: 208, configuration: {'vectorizer_norm': 'l2', 'svm_degree': 5, 'medoid_normalization': 'standard', 'svm_kernel': 'poly', 'nb_medoids_ratio': 0.2, 'svm_gamma': 1.0, 'svm_c': 0.01}\n",
      "\n",
      "validation micro-F1 @1: 0.1485148514851485\n",
      "validation micro-F1 @2: 0.14603960396039603\n",
      "validation micro-F1 @3: 0.1254125412541254\n",
      "validation micro-F1 @4: 0.11138613861386139\n",
      "validation micro-F1 @5: 0.10594059405940594\n",
      "validation micro-F1 @6: 0.10148514851485149\n",
      "validation micro-F1 @7: 0.09759547383309759\n",
      "validation micro-F1 @8: 0.09715346534653466\n",
      "validation micro-F1 @9: 0.09790979097909791\n",
      "validation micro-F1 @10: 0.09306930693069307\n"
     ]
    },
    {
     "name": "stderr",
     "output_type": "stream",
     "text": [
      "\r",
      "  5%|▍         | 210/4536 [5:22:40<110:47:15, 92.19s/it]"
     ]
    },
    {
     "name": "stdout",
     "output_type": "stream",
     "text": [
      "iter: 209, configuration: {'vectorizer_norm': None, 'svm_degree': 5, 'medoid_normalization': 'standard', 'svm_kernel': 'poly', 'nb_medoids_ratio': 0.2, 'svm_gamma': 1.0, 'svm_c': 0.01}\n",
      "\n",
      "validation micro-F1 @1: 0.1485148514851485\n",
      "validation micro-F1 @2: 0.13613861386138615\n",
      "validation micro-F1 @3: 0.12046204620462046\n",
      "validation micro-F1 @4: 0.11386138613861387\n",
      "validation micro-F1 @5: 0.10594059405940594\n",
      "validation micro-F1 @6: 0.10396039603960396\n",
      "validation micro-F1 @7: 0.10042432814710042\n",
      "validation micro-F1 @8: 0.10024752475247525\n",
      "validation micro-F1 @9: 0.09900990099009901\n",
      "validation micro-F1 @10: 0.09405940594059406\n"
     ]
    },
    {
     "name": "stderr",
     "output_type": "stream",
     "text": [
      "\r",
      "  5%|▍         | 211/4536 [5:23:12<110:25:08, 91.91s/it]"
     ]
    },
    {
     "name": "stdout",
     "output_type": "stream",
     "text": [
      "iter: 210, configuration: {'vectorizer_norm': 'l1', 'svm_degree': 5, 'medoid_normalization': 'standard', 'svm_kernel': 'rbf', 'nb_medoids_ratio': 0.2, 'svm_gamma': 'auto', 'svm_c': 0.01}\n",
      "\n",
      "validation micro-F1 @1: 0.019801980198019802\n",
      "validation micro-F1 @2: 0.009900990099009901\n",
      "validation micro-F1 @3: 0.00825082508250825\n",
      "validation micro-F1 @4: 0.012376237623762377\n",
      "validation micro-F1 @5: 0.011881188118811881\n",
      "validation micro-F1 @6: 0.012376237623762377\n",
      "validation micro-F1 @7: 0.012022630834512023\n",
      "validation micro-F1 @8: 0.011757425742574257\n",
      "validation micro-F1 @9: 0.011001100110011002\n",
      "validation micro-F1 @10: 0.01287128712871287\n"
     ]
    },
    {
     "name": "stderr",
     "output_type": "stream",
     "text": [
      "\r",
      "  5%|▍         | 212/4536 [5:23:44<110:03:09, 91.63s/it]"
     ]
    },
    {
     "name": "stdout",
     "output_type": "stream",
     "text": [
      "iter: 211, configuration: {'vectorizer_norm': 'l2', 'svm_degree': 5, 'medoid_normalization': 'standard', 'svm_kernel': 'rbf', 'nb_medoids_ratio': 0.2, 'svm_gamma': 'auto', 'svm_c': 0.01}\n",
      "\n",
      "validation micro-F1 @1: 0.0297029702970297\n",
      "validation micro-F1 @2: 0.017326732673267328\n",
      "validation micro-F1 @3: 0.01485148514851485\n",
      "validation micro-F1 @4: 0.017326732673267328\n",
      "validation micro-F1 @5: 0.015841584158415842\n",
      "validation micro-F1 @6: 0.0165016501650165\n",
      "validation micro-F1 @7: 0.015558698727015558\n",
      "validation micro-F1 @8: 0.01608910891089109\n",
      "validation micro-F1 @9: 0.0176017601760176\n",
      "validation micro-F1 @10: 0.01881188118811881\n"
     ]
    },
    {
     "name": "stderr",
     "output_type": "stream",
     "text": [
      "\r",
      "  5%|▍         | 213/4536 [5:25:07<109:58:49, 91.59s/it]"
     ]
    },
    {
     "name": "stdout",
     "output_type": "stream",
     "text": [
      "iter: 212, configuration: {'vectorizer_norm': None, 'svm_degree': 5, 'medoid_normalization': 'standard', 'svm_kernel': 'rbf', 'nb_medoids_ratio': 0.2, 'svm_gamma': 'auto', 'svm_c': 0.01}\n",
      "\n",
      "validation micro-F1 @1: 0.13366336633663367\n",
      "validation micro-F1 @2: 0.11386138613861387\n",
      "validation micro-F1 @3: 0.11221122112211221\n",
      "validation micro-F1 @4: 0.11014851485148515\n",
      "validation micro-F1 @5: 0.1\n",
      "validation micro-F1 @6: 0.09983498349834984\n",
      "validation micro-F1 @7: 0.09476661951909476\n",
      "validation micro-F1 @8: 0.0952970297029703\n",
      "validation micro-F1 @9: 0.09350935093509351\n",
      "validation micro-F1 @10: 0.09059405940594059\n"
     ]
    },
    {
     "name": "stderr",
     "output_type": "stream",
     "text": [
      "\r",
      "  5%|▍         | 214/4536 [5:25:37<109:36:24, 91.30s/it]"
     ]
    },
    {
     "name": "stdout",
     "output_type": "stream",
     "text": [
      "iter: 213, configuration: {'vectorizer_norm': 'l1', 'svm_degree': 5, 'medoid_normalization': 'standard', 'svm_kernel': 'poly', 'nb_medoids_ratio': 0.2, 'svm_gamma': 'auto', 'svm_c': 0.01}\n",
      "\n",
      "validation micro-F1 @1: 0.034653465346534656\n",
      "validation micro-F1 @2: 0.027227722772277228\n",
      "validation micro-F1 @3: 0.019801980198019802\n",
      "validation micro-F1 @4: 0.02103960396039604\n",
      "validation micro-F1 @5: 0.019801980198019802\n",
      "validation micro-F1 @6: 0.018976897689768978\n",
      "validation micro-F1 @7: 0.01768033946251768\n",
      "validation micro-F1 @8: 0.019801980198019802\n",
      "validation micro-F1 @9: 0.032453245324532455\n",
      "validation micro-F1 @10: 0.03762376237623762\n"
     ]
    },
    {
     "name": "stderr",
     "output_type": "stream",
     "text": [
      "\r",
      "  5%|▍         | 215/4536 [5:26:12<109:16:01, 91.03s/it]"
     ]
    },
    {
     "name": "stdout",
     "output_type": "stream",
     "text": [
      "iter: 214, configuration: {'vectorizer_norm': 'l2', 'svm_degree': 5, 'medoid_normalization': 'standard', 'svm_kernel': 'poly', 'nb_medoids_ratio': 0.2, 'svm_gamma': 'auto', 'svm_c': 0.01}\n",
      "\n",
      "validation micro-F1 @1: 0.11386138613861387\n",
      "validation micro-F1 @2: 0.12128712871287128\n",
      "validation micro-F1 @3: 0.11056105610561057\n",
      "validation micro-F1 @4: 0.10643564356435643\n",
      "validation micro-F1 @5: 0.09900990099009901\n",
      "validation micro-F1 @6: 0.10066006600660066\n",
      "validation micro-F1 @7: 0.09971711456859972\n",
      "validation micro-F1 @8: 0.09777227722772278\n",
      "validation micro-F1 @9: 0.09405940594059406\n",
      "validation micro-F1 @10: 0.09108910891089109\n"
     ]
    },
    {
     "name": "stderr",
     "output_type": "stream",
     "text": [
      "\r",
      "  5%|▍         | 216/4536 [5:29:04<109:41:29, 91.41s/it]"
     ]
    },
    {
     "name": "stdout",
     "output_type": "stream",
     "text": [
      "iter: 215, configuration: {'vectorizer_norm': None, 'svm_degree': 5, 'medoid_normalization': 'standard', 'svm_kernel': 'poly', 'nb_medoids_ratio': 0.2, 'svm_gamma': 'auto', 'svm_c': 0.01}\n",
      "\n",
      "validation micro-F1 @1: 0.15841584158415842\n",
      "validation micro-F1 @2: 0.15594059405940594\n",
      "validation micro-F1 @3: 0.13036303630363036\n",
      "validation micro-F1 @4: 0.1150990099009901\n",
      "validation micro-F1 @5: 0.10891089108910891\n",
      "validation micro-F1 @6: 0.10561056105610561\n",
      "validation micro-F1 @7: 0.10537482319660538\n",
      "validation micro-F1 @8: 0.10581683168316831\n",
      "validation micro-F1 @9: 0.09900990099009901\n",
      "validation micro-F1 @10: 0.09455445544554456\n"
     ]
    },
    {
     "name": "stderr",
     "output_type": "stream",
     "text": [
      "\r",
      "  5%|▍         | 217/4536 [5:29:48<109:24:20, 91.19s/it]"
     ]
    },
    {
     "name": "stdout",
     "output_type": "stream",
     "text": [
      "iter: 216, configuration: {'vectorizer_norm': 'l1', 'svm_degree': 3, 'medoid_normalization': 'standard', 'svm_kernel': 'rbf', 'nb_medoids_ratio': 0.2, 'svm_gamma': 0.1, 'svm_c': 0.1}\n",
      "\n",
      "validation micro-F1 @1: 0.16336633663366337\n",
      "validation micro-F1 @2: 0.14603960396039603\n",
      "validation micro-F1 @3: 0.13366336633663367\n",
      "validation micro-F1 @4: 0.11757425742574257\n",
      "validation micro-F1 @5: 0.11287128712871287\n",
      "validation micro-F1 @6: 0.10808580858085809\n",
      "validation micro-F1 @7: 0.10608203677510608\n",
      "validation micro-F1 @8: 0.10272277227722772\n",
      "validation micro-F1 @9: 0.10121012101210121\n",
      "validation micro-F1 @10: 0.09653465346534654\n"
     ]
    },
    {
     "name": "stderr",
     "output_type": "stream",
     "text": [
      "\r",
      "  5%|▍         | 218/4536 [5:30:55<109:14:43, 91.08s/it]"
     ]
    },
    {
     "name": "stdout",
     "output_type": "stream",
     "text": [
      "iter: 217, configuration: {'vectorizer_norm': 'l2', 'svm_degree': 3, 'medoid_normalization': 'standard', 'svm_kernel': 'rbf', 'nb_medoids_ratio': 0.2, 'svm_gamma': 0.1, 'svm_c': 0.1}\n",
      "\n",
      "validation micro-F1 @1: 0.12871287128712872\n",
      "validation micro-F1 @2: 0.15841584158415842\n",
      "validation micro-F1 @3: 0.12871287128712872\n",
      "validation micro-F1 @4: 0.11138613861386139\n",
      "validation micro-F1 @5: 0.11584158415841585\n",
      "validation micro-F1 @6: 0.10808580858085809\n",
      "validation micro-F1 @7: 0.10325318246110325\n",
      "validation micro-F1 @8: 0.09777227722772278\n",
      "validation micro-F1 @9: 0.09625962596259625\n",
      "validation micro-F1 @10: 0.09306930693069307\n"
     ]
    },
    {
     "name": "stderr",
     "output_type": "stream",
     "text": [
      "\r",
      "  5%|▍         | 219/4536 [5:38:08<111:05:36, 92.64s/it]"
     ]
    },
    {
     "name": "stdout",
     "output_type": "stream",
     "text": [
      "iter: 218, configuration: {'vectorizer_norm': None, 'svm_degree': 3, 'medoid_normalization': 'standard', 'svm_kernel': 'rbf', 'nb_medoids_ratio': 0.2, 'svm_gamma': 0.1, 'svm_c': 0.1}\n",
      "\n",
      "validation micro-F1 @1: 0.13366336633663367\n",
      "validation micro-F1 @2: 0.14603960396039603\n",
      "validation micro-F1 @3: 0.1254125412541254\n",
      "validation micro-F1 @4: 0.11138613861386139\n",
      "validation micro-F1 @5: 0.10495049504950495\n",
      "validation micro-F1 @6: 0.09818481848184818\n",
      "validation micro-F1 @7: 0.09618104667609619\n",
      "validation micro-F1 @8: 0.09900990099009901\n",
      "validation micro-F1 @9: 0.09845984598459846\n",
      "validation micro-F1 @10: 0.09356435643564356\n"
     ]
    },
    {
     "name": "stderr",
     "output_type": "stream",
     "text": [
      "\r",
      "  5%|▍         | 220/4536 [5:39:13<110:54:54, 92.52s/it]"
     ]
    },
    {
     "name": "stdout",
     "output_type": "stream",
     "text": [
      "iter: 219, configuration: {'vectorizer_norm': 'l1', 'svm_degree': 3, 'medoid_normalization': 'standard', 'svm_kernel': 'poly', 'nb_medoids_ratio': 0.2, 'svm_gamma': 0.1, 'svm_c': 0.1}\n",
      "\n",
      "validation micro-F1 @1: 0.13861386138613863\n",
      "validation micro-F1 @2: 0.15099009900990099\n",
      "validation micro-F1 @3: 0.13036303630363036\n",
      "validation micro-F1 @4: 0.11262376237623763\n",
      "validation micro-F1 @5: 0.10495049504950495\n",
      "validation micro-F1 @6: 0.09735973597359736\n",
      "validation micro-F1 @7: 0.10325318246110325\n",
      "validation micro-F1 @8: 0.1021039603960396\n",
      "validation micro-F1 @9: 0.09735973597359736\n",
      "validation micro-F1 @10: 0.09801980198019802\n"
     ]
    },
    {
     "name": "stderr",
     "output_type": "stream",
     "text": [
      "\r",
      "  5%|▍         | 221/4536 [5:40:47<110:53:59, 92.52s/it]"
     ]
    },
    {
     "name": "stdout",
     "output_type": "stream",
     "text": [
      "iter: 220, configuration: {'vectorizer_norm': 'l2', 'svm_degree': 3, 'medoid_normalization': 'standard', 'svm_kernel': 'poly', 'nb_medoids_ratio': 0.2, 'svm_gamma': 0.1, 'svm_c': 0.1}\n",
      "\n",
      "validation micro-F1 @1: 0.1188118811881188\n",
      "validation micro-F1 @2: 0.15346534653465346\n",
      "validation micro-F1 @3: 0.132013201320132\n",
      "validation micro-F1 @4: 0.11633663366336634\n",
      "validation micro-F1 @5: 0.10792079207920792\n",
      "validation micro-F1 @6: 0.10313531353135313\n",
      "validation micro-F1 @7: 0.09759547383309759\n",
      "validation micro-F1 @8: 0.09715346534653466\n",
      "validation micro-F1 @9: 0.09735973597359736\n",
      "validation micro-F1 @10: 0.09554455445544555\n"
     ]
    },
    {
     "name": "stderr",
     "output_type": "stream",
     "text": [
      "\r",
      "  5%|▍         | 222/4536 [5:43:40<111:18:30, 92.89s/it]"
     ]
    },
    {
     "name": "stdout",
     "output_type": "stream",
     "text": [
      "iter: 221, configuration: {'vectorizer_norm': None, 'svm_degree': 3, 'medoid_normalization': 'standard', 'svm_kernel': 'poly', 'nb_medoids_ratio': 0.2, 'svm_gamma': 0.1, 'svm_c': 0.1}\n",
      "\n",
      "validation micro-F1 @1: 0.14356435643564355\n",
      "validation micro-F1 @2: 0.14603960396039603\n",
      "validation micro-F1 @3: 0.12376237623762376\n",
      "validation micro-F1 @4: 0.11262376237623763\n",
      "validation micro-F1 @5: 0.10495049504950495\n",
      "validation micro-F1 @6: 0.10313531353135313\n",
      "validation micro-F1 @7: 0.0983026874115983\n",
      "validation micro-F1 @8: 0.0983910891089109\n",
      "validation micro-F1 @9: 0.09900990099009901\n",
      "validation micro-F1 @10: 0.09405940594059406\n"
     ]
    },
    {
     "name": "stderr",
     "output_type": "stream",
     "text": [
      "\r",
      "  5%|▍         | 223/4536 [5:44:30<111:03:08, 92.69s/it]"
     ]
    },
    {
     "name": "stdout",
     "output_type": "stream",
     "text": [
      "iter: 222, configuration: {'vectorizer_norm': 'l1', 'svm_degree': 3, 'medoid_normalization': 'standard', 'svm_kernel': 'rbf', 'nb_medoids_ratio': 0.2, 'svm_gamma': 0.2, 'svm_c': 0.1}\n",
      "\n",
      "validation micro-F1 @1: 0.10891089108910891\n",
      "validation micro-F1 @2: 0.13613861386138615\n",
      "validation micro-F1 @3: 0.12706270627062707\n",
      "validation micro-F1 @4: 0.11386138613861387\n",
      "validation micro-F1 @5: 0.11089108910891089\n",
      "validation micro-F1 @6: 0.10891089108910891\n",
      "validation micro-F1 @7: 0.10537482319660538\n",
      "validation micro-F1 @8: 0.1021039603960396\n",
      "validation micro-F1 @9: 0.10176017601760176\n",
      "validation micro-F1 @10: 0.09950495049504951\n"
     ]
    },
    {
     "name": "stderr",
     "output_type": "stream",
     "text": [
      "\r",
      "  5%|▍         | 224/4536 [5:45:46<110:56:18, 92.62s/it]"
     ]
    },
    {
     "name": "stdout",
     "output_type": "stream",
     "text": [
      "iter: 223, configuration: {'vectorizer_norm': 'l2', 'svm_degree': 3, 'medoid_normalization': 'standard', 'svm_kernel': 'rbf', 'nb_medoids_ratio': 0.2, 'svm_gamma': 0.2, 'svm_c': 0.1}\n",
      "\n",
      "validation micro-F1 @1: 0.13366336633663367\n",
      "validation micro-F1 @2: 0.13861386138613863\n",
      "validation micro-F1 @3: 0.132013201320132\n",
      "validation micro-F1 @4: 0.12252475247524752\n",
      "validation micro-F1 @5: 0.11386138613861387\n",
      "validation micro-F1 @6: 0.10808580858085809\n",
      "validation micro-F1 @7: 0.10678925035360678\n",
      "validation micro-F1 @8: 0.10396039603960396\n",
      "validation micro-F1 @9: 0.09845984598459846\n",
      "validation micro-F1 @10: 0.09356435643564356\n"
     ]
    },
    {
     "name": "stderr",
     "output_type": "stream",
     "text": [
      "\r",
      "  5%|▍         | 225/4536 [5:52:54<112:41:38, 94.11s/it]"
     ]
    },
    {
     "name": "stdout",
     "output_type": "stream",
     "text": [
      "iter: 224, configuration: {'vectorizer_norm': None, 'svm_degree': 3, 'medoid_normalization': 'standard', 'svm_kernel': 'rbf', 'nb_medoids_ratio': 0.2, 'svm_gamma': 0.2, 'svm_c': 0.1}\n",
      "\n",
      "validation micro-F1 @1: 0.13861386138613863\n",
      "validation micro-F1 @2: 0.15099009900990099\n",
      "validation micro-F1 @3: 0.12871287128712872\n",
      "validation micro-F1 @4: 0.11386138613861387\n",
      "validation micro-F1 @5: 0.10495049504950495\n",
      "validation micro-F1 @6: 0.09818481848184818\n",
      "validation micro-F1 @7: 0.10113154172560113\n",
      "validation micro-F1 @8: 0.09962871287128713\n",
      "validation micro-F1 @9: 0.09900990099009901\n",
      "validation micro-F1 @10: 0.09405940594059406\n"
     ]
    },
    {
     "name": "stderr",
     "output_type": "stream",
     "text": [
      "\r",
      "  5%|▍         | 226/4536 [5:54:04<112:32:38, 94.00s/it]"
     ]
    },
    {
     "name": "stdout",
     "output_type": "stream",
     "text": [
      "iter: 225, configuration: {'vectorizer_norm': 'l1', 'svm_degree': 3, 'medoid_normalization': 'standard', 'svm_kernel': 'poly', 'nb_medoids_ratio': 0.2, 'svm_gamma': 0.2, 'svm_c': 0.1}\n",
      "\n",
      "validation micro-F1 @1: 0.13861386138613863\n",
      "validation micro-F1 @2: 0.15346534653465346\n",
      "validation micro-F1 @3: 0.13036303630363036\n",
      "validation micro-F1 @4: 0.1150990099009901\n",
      "validation micro-F1 @5: 0.10594059405940594\n",
      "validation micro-F1 @6: 0.10973597359735973\n",
      "validation micro-F1 @7: 0.10537482319660538\n",
      "validation micro-F1 @8: 0.10334158415841584\n",
      "validation micro-F1 @9: 0.09900990099009901\n",
      "validation micro-F1 @10: 0.09603960396039604\n"
     ]
    },
    {
     "name": "stderr",
     "output_type": "stream",
     "text": [
      "\r",
      "  5%|▌         | 227/4536 [5:56:09<112:40:52, 94.14s/it]"
     ]
    },
    {
     "name": "stdout",
     "output_type": "stream",
     "text": [
      "iter: 226, configuration: {'vectorizer_norm': 'l2', 'svm_degree': 3, 'medoid_normalization': 'standard', 'svm_kernel': 'poly', 'nb_medoids_ratio': 0.2, 'svm_gamma': 0.2, 'svm_c': 0.1}\n",
      "\n",
      "validation micro-F1 @1: 0.13861386138613863\n",
      "validation micro-F1 @2: 0.12623762376237624\n",
      "validation micro-F1 @3: 0.12376237623762376\n",
      "validation micro-F1 @4: 0.11386138613861387\n",
      "validation micro-F1 @5: 0.10792079207920792\n",
      "validation micro-F1 @6: 0.10643564356435643\n",
      "validation micro-F1 @7: 0.10678925035360678\n",
      "validation micro-F1 @8: 0.10148514851485149\n",
      "validation micro-F1 @9: 0.1001100110011001\n",
      "validation micro-F1 @10: 0.09752475247524753\n"
     ]
    },
    {
     "name": "stderr",
     "output_type": "stream",
     "text": [
      "\r",
      "  5%|▌         | 228/4536 [5:58:47<112:59:21, 94.42s/it]"
     ]
    },
    {
     "name": "stdout",
     "output_type": "stream",
     "text": [
      "iter: 227, configuration: {'vectorizer_norm': None, 'svm_degree': 3, 'medoid_normalization': 'standard', 'svm_kernel': 'poly', 'nb_medoids_ratio': 0.2, 'svm_gamma': 0.2, 'svm_c': 0.1}\n",
      "\n",
      "validation micro-F1 @1: 0.1485148514851485\n",
      "validation micro-F1 @2: 0.14356435643564355\n",
      "validation micro-F1 @3: 0.12871287128712872\n",
      "validation micro-F1 @4: 0.1150990099009901\n",
      "validation micro-F1 @5: 0.10594059405940594\n",
      "validation micro-F1 @6: 0.09900990099009901\n",
      "validation micro-F1 @7: 0.10042432814710042\n",
      "validation micro-F1 @8: 0.09900990099009901\n",
      "validation micro-F1 @9: 0.09845984598459846\n",
      "validation micro-F1 @10: 0.09603960396039604\n"
     ]
    },
    {
     "name": "stderr",
     "output_type": "stream",
     "text": [
      "\r",
      "  5%|▌         | 229/4536 [5:59:42<112:45:12, 94.24s/it]"
     ]
    },
    {
     "name": "stdout",
     "output_type": "stream",
     "text": [
      "iter: 228, configuration: {'vectorizer_norm': 'l1', 'svm_degree': 3, 'medoid_normalization': 'standard', 'svm_kernel': 'rbf', 'nb_medoids_ratio': 0.2, 'svm_gamma': 0.3, 'svm_c': 0.1}\n",
      "\n",
      "validation micro-F1 @1: 0.12871287128712872\n",
      "validation micro-F1 @2: 0.12128712871287128\n",
      "validation micro-F1 @3: 0.1188118811881188\n",
      "validation micro-F1 @4: 0.11014851485148515\n",
      "validation micro-F1 @5: 0.10693069306930693\n",
      "validation micro-F1 @6: 0.10478547854785479\n",
      "validation micro-F1 @7: 0.0983026874115983\n",
      "validation micro-F1 @8: 0.09900990099009901\n",
      "validation micro-F1 @9: 0.09845984598459846\n",
      "validation micro-F1 @10: 0.09653465346534654\n"
     ]
    },
    {
     "name": "stderr",
     "output_type": "stream",
     "text": [
      "\r",
      "  5%|▌         | 230/4536 [6:01:05<112:40:14, 94.20s/it]"
     ]
    },
    {
     "name": "stdout",
     "output_type": "stream",
     "text": [
      "iter: 229, configuration: {'vectorizer_norm': 'l2', 'svm_degree': 3, 'medoid_normalization': 'standard', 'svm_kernel': 'rbf', 'nb_medoids_ratio': 0.2, 'svm_gamma': 0.3, 'svm_c': 0.1}\n",
      "\n",
      "validation micro-F1 @1: 0.14356435643564355\n",
      "validation micro-F1 @2: 0.1311881188118812\n",
      "validation micro-F1 @3: 0.11716171617161716\n",
      "validation micro-F1 @4: 0.11386138613861387\n",
      "validation micro-F1 @5: 0.10891089108910891\n",
      "validation micro-F1 @6: 0.10478547854785479\n",
      "validation micro-F1 @7: 0.10183875530410184\n",
      "validation micro-F1 @8: 0.09900990099009901\n",
      "validation micro-F1 @9: 0.0968096809680968\n",
      "validation micro-F1 @10: 0.09108910891089109\n"
     ]
    },
    {
     "name": "stderr",
     "output_type": "stream",
     "text": [
      "\r",
      "  5%|▌         | 231/4536 [6:08:09<114:21:02, 95.62s/it]"
     ]
    },
    {
     "name": "stdout",
     "output_type": "stream",
     "text": [
      "iter: 230, configuration: {'vectorizer_norm': None, 'svm_degree': 3, 'medoid_normalization': 'standard', 'svm_kernel': 'rbf', 'nb_medoids_ratio': 0.2, 'svm_gamma': 0.3, 'svm_c': 0.1}\n",
      "\n",
      "validation micro-F1 @1: 0.13861386138613863\n",
      "validation micro-F1 @2: 0.15099009900990099\n",
      "validation micro-F1 @3: 0.12871287128712872\n",
      "validation micro-F1 @4: 0.11386138613861387\n",
      "validation micro-F1 @5: 0.10495049504950495\n",
      "validation micro-F1 @6: 0.09818481848184818\n",
      "validation micro-F1 @7: 0.09688826025459689\n",
      "validation micro-F1 @8: 0.09962871287128713\n",
      "validation micro-F1 @9: 0.09900990099009901\n",
      "validation micro-F1 @10: 0.09405940594059406\n"
     ]
    },
    {
     "name": "stderr",
     "output_type": "stream",
     "text": [
      "\r",
      "  5%|▌         | 232/4536 [6:09:24<114:13:10, 95.54s/it]"
     ]
    },
    {
     "name": "stdout",
     "output_type": "stream",
     "text": [
      "iter: 231, configuration: {'vectorizer_norm': 'l1', 'svm_degree': 3, 'medoid_normalization': 'standard', 'svm_kernel': 'poly', 'nb_medoids_ratio': 0.2, 'svm_gamma': 0.3, 'svm_c': 0.1}\n",
      "\n",
      "validation micro-F1 @1: 0.13366336633663367\n",
      "validation micro-F1 @2: 0.13613861386138615\n",
      "validation micro-F1 @3: 0.12871287128712872\n",
      "validation micro-F1 @4: 0.11757425742574257\n",
      "validation micro-F1 @5: 0.10693069306930693\n",
      "validation micro-F1 @6: 0.10478547854785479\n",
      "validation micro-F1 @7: 0.10325318246110325\n",
      "validation micro-F1 @8: 0.10272277227722772\n",
      "validation micro-F1 @9: 0.1001100110011001\n",
      "validation micro-F1 @10: 0.1004950495049505\n"
     ]
    },
    {
     "name": "stderr",
     "output_type": "stream",
     "text": [
      "\r",
      "  5%|▌         | 233/4536 [6:11:48<114:26:33, 95.75s/it]"
     ]
    },
    {
     "name": "stdout",
     "output_type": "stream",
     "text": [
      "iter: 232, configuration: {'vectorizer_norm': 'l2', 'svm_degree': 3, 'medoid_normalization': 'standard', 'svm_kernel': 'poly', 'nb_medoids_ratio': 0.2, 'svm_gamma': 0.3, 'svm_c': 0.1}\n",
      "\n",
      "validation micro-F1 @1: 0.14356435643564355\n",
      "validation micro-F1 @2: 0.15099009900990099\n",
      "validation micro-F1 @3: 0.1254125412541254\n",
      "validation micro-F1 @4: 0.11386138613861387\n",
      "validation micro-F1 @5: 0.10594059405940594\n",
      "validation micro-F1 @6: 0.10478547854785479\n",
      "validation micro-F1 @7: 0.10042432814710042\n",
      "validation micro-F1 @8: 0.09715346534653466\n",
      "validation micro-F1 @9: 0.0968096809680968\n",
      "validation micro-F1 @10: 0.09504950495049505\n"
     ]
    },
    {
     "name": "stderr",
     "output_type": "stream",
     "text": [
      "\r",
      "  5%|▌         | 234/4536 [6:14:37<114:47:26, 96.06s/it]"
     ]
    },
    {
     "name": "stdout",
     "output_type": "stream",
     "text": [
      "iter: 233, configuration: {'vectorizer_norm': None, 'svm_degree': 3, 'medoid_normalization': 'standard', 'svm_kernel': 'poly', 'nb_medoids_ratio': 0.2, 'svm_gamma': 0.3, 'svm_c': 0.1}\n",
      "\n",
      "validation micro-F1 @1: 0.14356435643564355\n",
      "validation micro-F1 @2: 0.14603960396039603\n",
      "validation micro-F1 @3: 0.12211221122112212\n",
      "validation micro-F1 @4: 0.11262376237623763\n",
      "validation micro-F1 @5: 0.10495049504950495\n",
      "validation micro-F1 @6: 0.09983498349834984\n",
      "validation micro-F1 @7: 0.10183875530410184\n",
      "validation micro-F1 @8: 0.10024752475247525\n",
      "validation micro-F1 @9: 0.09900990099009901\n",
      "validation micro-F1 @10: 0.09405940594059406\n"
     ]
    },
    {
     "name": "stderr",
     "output_type": "stream",
     "text": [
      "\r",
      "  5%|▌         | 235/4536 [6:15:37<114:34:47, 95.90s/it]"
     ]
    },
    {
     "name": "stdout",
     "output_type": "stream",
     "text": [
      "iter: 234, configuration: {'vectorizer_norm': 'l1', 'svm_degree': 3, 'medoid_normalization': 'standard', 'svm_kernel': 'rbf', 'nb_medoids_ratio': 0.2, 'svm_gamma': 0.5, 'svm_c': 0.1}\n",
      "\n",
      "validation micro-F1 @1: 0.15346534653465346\n",
      "validation micro-F1 @2: 0.14603960396039603\n",
      "validation micro-F1 @3: 0.1254125412541254\n",
      "validation micro-F1 @4: 0.11386138613861387\n",
      "validation micro-F1 @5: 0.10792079207920792\n",
      "validation micro-F1 @6: 0.10561056105610561\n",
      "validation micro-F1 @7: 0.09971711456859972\n",
      "validation micro-F1 @8: 0.09777227722772278\n",
      "validation micro-F1 @9: 0.10176017601760176\n",
      "validation micro-F1 @10: 0.09851485148514852\n"
     ]
    },
    {
     "name": "stderr",
     "output_type": "stream",
     "text": [
      "\r",
      "  5%|▌         | 236/4536 [6:17:14<114:33:26, 95.91s/it]"
     ]
    },
    {
     "name": "stdout",
     "output_type": "stream",
     "text": [
      "iter: 235, configuration: {'vectorizer_norm': 'l2', 'svm_degree': 3, 'medoid_normalization': 'standard', 'svm_kernel': 'rbf', 'nb_medoids_ratio': 0.2, 'svm_gamma': 0.5, 'svm_c': 0.1}\n",
      "\n",
      "validation micro-F1 @1: 0.12871287128712872\n",
      "validation micro-F1 @2: 0.11386138613861387\n",
      "validation micro-F1 @3: 0.12211221122112212\n",
      "validation micro-F1 @4: 0.11262376237623763\n",
      "validation micro-F1 @5: 0.10396039603960396\n",
      "validation micro-F1 @6: 0.10396039603960396\n",
      "validation micro-F1 @7: 0.09900990099009901\n",
      "validation micro-F1 @8: 0.09344059405940594\n",
      "validation micro-F1 @9: 0.09405940594059406\n",
      "validation micro-F1 @10: 0.09257425742574257\n"
     ]
    },
    {
     "name": "stderr",
     "output_type": "stream",
     "text": [
      "\r",
      "  5%|▌         | 237/4536 [6:24:11<116:09:01, 97.26s/it]"
     ]
    },
    {
     "name": "stdout",
     "output_type": "stream",
     "text": [
      "iter: 236, configuration: {'vectorizer_norm': None, 'svm_degree': 3, 'medoid_normalization': 'standard', 'svm_kernel': 'rbf', 'nb_medoids_ratio': 0.2, 'svm_gamma': 0.5, 'svm_c': 0.1}\n",
      "\n",
      "validation micro-F1 @1: 0.13861386138613863\n",
      "validation micro-F1 @2: 0.15099009900990099\n",
      "validation micro-F1 @3: 0.12871287128712872\n",
      "validation micro-F1 @4: 0.11386138613861387\n",
      "validation micro-F1 @5: 0.10495049504950495\n",
      "validation micro-F1 @6: 0.09818481848184818\n",
      "validation micro-F1 @7: 0.10113154172560113\n",
      "validation micro-F1 @8: 0.09962871287128713\n",
      "validation micro-F1 @9: 0.09900990099009901\n",
      "validation micro-F1 @10: 0.09603960396039604\n"
     ]
    },
    {
     "name": "stderr",
     "output_type": "stream",
     "text": [
      "\r",
      "  5%|▌         | 238/4536 [6:25:30<116:01:40, 97.18s/it]"
     ]
    },
    {
     "name": "stdout",
     "output_type": "stream",
     "text": [
      "iter: 237, configuration: {'vectorizer_norm': 'l1', 'svm_degree': 3, 'medoid_normalization': 'standard', 'svm_kernel': 'poly', 'nb_medoids_ratio': 0.2, 'svm_gamma': 0.5, 'svm_c': 0.1}\n",
      "\n",
      "validation micro-F1 @1: 0.13861386138613863\n",
      "validation micro-F1 @2: 0.1485148514851485\n",
      "validation micro-F1 @3: 0.12871287128712872\n",
      "validation micro-F1 @4: 0.11386138613861387\n",
      "validation micro-F1 @5: 0.10495049504950495\n",
      "validation micro-F1 @6: 0.10313531353135313\n",
      "validation micro-F1 @7: 0.10042432814710042\n",
      "validation micro-F1 @8: 0.09900990099009901\n",
      "validation micro-F1 @9: 0.09790979097909791\n",
      "validation micro-F1 @10: 0.09603960396039604\n"
     ]
    },
    {
     "name": "stderr",
     "output_type": "stream",
     "text": [
      "\r",
      "  5%|▌         | 239/4536 [6:28:35<116:26:38, 97.56s/it]"
     ]
    },
    {
     "name": "stdout",
     "output_type": "stream",
     "text": [
      "iter: 238, configuration: {'vectorizer_norm': 'l2', 'svm_degree': 3, 'medoid_normalization': 'standard', 'svm_kernel': 'poly', 'nb_medoids_ratio': 0.2, 'svm_gamma': 0.5, 'svm_c': 0.1}\n",
      "\n",
      "validation micro-F1 @1: 0.14356435643564355\n",
      "validation micro-F1 @2: 0.15346534653465346\n",
      "validation micro-F1 @3: 0.132013201320132\n",
      "validation micro-F1 @4: 0.11633663366336634\n",
      "validation micro-F1 @5: 0.10594059405940594\n",
      "validation micro-F1 @6: 0.10231023102310231\n",
      "validation micro-F1 @7: 0.10325318246110325\n",
      "validation micro-F1 @8: 0.1021039603960396\n",
      "validation micro-F1 @9: 0.1001100110011001\n",
      "validation micro-F1 @10: 0.09455445544554456\n"
     ]
    },
    {
     "name": "stderr",
     "output_type": "stream",
     "text": [
      "\r",
      "  5%|▌         | 240/4536 [6:31:30<116:48:04, 97.88s/it]"
     ]
    },
    {
     "name": "stdout",
     "output_type": "stream",
     "text": [
      "iter: 239, configuration: {'vectorizer_norm': None, 'svm_degree': 3, 'medoid_normalization': 'standard', 'svm_kernel': 'poly', 'nb_medoids_ratio': 0.2, 'svm_gamma': 0.5, 'svm_c': 0.1}\n",
      "\n",
      "validation micro-F1 @1: 0.13861386138613863\n",
      "validation micro-F1 @2: 0.14108910891089108\n",
      "validation micro-F1 @3: 0.1254125412541254\n",
      "validation micro-F1 @4: 0.1150990099009901\n",
      "validation micro-F1 @5: 0.10495049504950495\n",
      "validation micro-F1 @6: 0.10313531353135313\n",
      "validation micro-F1 @7: 0.10254596888260255\n",
      "validation micro-F1 @8: 0.1021039603960396\n",
      "validation micro-F1 @9: 0.1001100110011001\n",
      "validation micro-F1 @10: 0.09702970297029703\n"
     ]
    },
    {
     "name": "stderr",
     "output_type": "stream",
     "text": [
      "\r",
      "  5%|▌         | 241/4536 [6:32:38<116:37:35, 97.75s/it]"
     ]
    },
    {
     "name": "stdout",
     "output_type": "stream",
     "text": [
      "iter: 240, configuration: {'vectorizer_norm': 'l1', 'svm_degree': 3, 'medoid_normalization': 'standard', 'svm_kernel': 'rbf', 'nb_medoids_ratio': 0.2, 'svm_gamma': 1.0, 'svm_c': 0.1}\n",
      "\n",
      "validation micro-F1 @1: 0.18811881188118812\n",
      "validation micro-F1 @2: 0.15594059405940594\n",
      "validation micro-F1 @3: 0.132013201320132\n",
      "validation micro-F1 @4: 0.11757425742574257\n",
      "validation micro-F1 @5: 0.11089108910891089\n",
      "validation micro-F1 @6: 0.11056105610561057\n",
      "validation micro-F1 @7: 0.10961810466760961\n",
      "validation micro-F1 @8: 0.10457920792079207\n",
      "validation micro-F1 @9: 0.10231023102310231\n",
      "validation micro-F1 @10: 0.1\n"
     ]
    },
    {
     "name": "stderr",
     "output_type": "stream",
     "text": [
      "\r",
      "  5%|▌         | 242/4536 [6:34:40<116:42:58, 97.85s/it]"
     ]
    },
    {
     "name": "stdout",
     "output_type": "stream",
     "text": [
      "iter: 241, configuration: {'vectorizer_norm': 'l2', 'svm_degree': 3, 'medoid_normalization': 'standard', 'svm_kernel': 'rbf', 'nb_medoids_ratio': 0.2, 'svm_gamma': 1.0, 'svm_c': 0.1}\n",
      "\n",
      "validation micro-F1 @1: 0.12376237623762376\n",
      "validation micro-F1 @2: 0.11138613861386139\n",
      "validation micro-F1 @3: 0.11056105610561057\n",
      "validation micro-F1 @4: 0.10767326732673267\n",
      "validation micro-F1 @5: 0.10693069306930693\n",
      "validation micro-F1 @6: 0.10231023102310231\n",
      "validation micro-F1 @7: 0.10042432814710042\n",
      "validation micro-F1 @8: 0.09591584158415842\n",
      "validation micro-F1 @9: 0.09625962596259625\n",
      "validation micro-F1 @10: 0.09257425742574257\n"
     ]
    },
    {
     "name": "stderr",
     "output_type": "stream",
     "text": [
      "\r",
      "  5%|▌         | 243/4536 [6:41:30<118:13:22, 99.14s/it]"
     ]
    },
    {
     "name": "stdout",
     "output_type": "stream",
     "text": [
      "iter: 242, configuration: {'vectorizer_norm': None, 'svm_degree': 3, 'medoid_normalization': 'standard', 'svm_kernel': 'rbf', 'nb_medoids_ratio': 0.2, 'svm_gamma': 1.0, 'svm_c': 0.1}\n",
      "\n",
      "validation micro-F1 @1: 0.13861386138613863\n",
      "validation micro-F1 @2: 0.15099009900990099\n",
      "validation micro-F1 @3: 0.12871287128712872\n",
      "validation micro-F1 @4: 0.11386138613861387\n",
      "validation micro-F1 @5: 0.10495049504950495\n",
      "validation micro-F1 @6: 0.10726072607260725\n",
      "validation micro-F1 @7: 0.10113154172560113\n",
      "validation micro-F1 @8: 0.09962871287128713\n",
      "validation micro-F1 @9: 0.09900990099009901\n",
      "validation micro-F1 @10: 0.09603960396039604\n"
     ]
    },
    {
     "name": "stderr",
     "output_type": "stream",
     "text": [
      "\r",
      "  5%|▌         | 244/4536 [6:43:00<118:09:02, 99.10s/it]"
     ]
    },
    {
     "name": "stdout",
     "output_type": "stream",
     "text": [
      "iter: 243, configuration: {'vectorizer_norm': 'l1', 'svm_degree': 3, 'medoid_normalization': 'standard', 'svm_kernel': 'poly', 'nb_medoids_ratio': 0.2, 'svm_gamma': 1.0, 'svm_c': 0.1}\n",
      "\n",
      "validation micro-F1 @1: 0.13366336633663367\n",
      "validation micro-F1 @2: 0.1485148514851485\n",
      "validation micro-F1 @3: 0.12871287128712872\n",
      "validation micro-F1 @4: 0.11262376237623763\n",
      "validation micro-F1 @5: 0.10891089108910891\n",
      "validation micro-F1 @6: 0.10808580858085809\n",
      "validation micro-F1 @7: 0.10466760961810467\n",
      "validation micro-F1 @8: 0.1021039603960396\n",
      "validation micro-F1 @9: 0.10121012101210121\n",
      "validation micro-F1 @10: 0.09801980198019802\n"
     ]
    },
    {
     "name": "stderr",
     "output_type": "stream",
     "text": [
      "\r",
      "  5%|▌         | 245/4536 [6:46:29<118:39:30, 99.55s/it]"
     ]
    },
    {
     "name": "stdout",
     "output_type": "stream",
     "text": [
      "iter: 244, configuration: {'vectorizer_norm': 'l2', 'svm_degree': 3, 'medoid_normalization': 'standard', 'svm_kernel': 'poly', 'nb_medoids_ratio': 0.2, 'svm_gamma': 1.0, 'svm_c': 0.1}\n",
      "\n",
      "validation micro-F1 @1: 0.14356435643564355\n",
      "validation micro-F1 @2: 0.13613861386138615\n",
      "validation micro-F1 @3: 0.12376237623762376\n",
      "validation micro-F1 @4: 0.11386138613861387\n",
      "validation micro-F1 @5: 0.10495049504950495\n",
      "validation micro-F1 @6: 0.10643564356435643\n",
      "validation micro-F1 @7: 0.10396039603960396\n",
      "validation micro-F1 @8: 0.0983910891089109\n",
      "validation micro-F1 @9: 0.09845984598459846\n",
      "validation micro-F1 @10: 0.09653465346534654\n"
     ]
    },
    {
     "name": "stderr",
     "output_type": "stream",
     "text": [
      "\r",
      "  5%|▌         | 246/4536 [6:49:15<118:57:07, 99.82s/it]"
     ]
    },
    {
     "name": "stdout",
     "output_type": "stream",
     "text": [
      "iter: 245, configuration: {'vectorizer_norm': None, 'svm_degree': 3, 'medoid_normalization': 'standard', 'svm_kernel': 'poly', 'nb_medoids_ratio': 0.2, 'svm_gamma': 1.0, 'svm_c': 0.1}\n",
      "\n",
      "validation micro-F1 @1: 0.13366336633663367\n",
      "validation micro-F1 @2: 0.1485148514851485\n",
      "validation micro-F1 @3: 0.12706270627062707\n",
      "validation micro-F1 @4: 0.11262376237623763\n",
      "validation micro-F1 @5: 0.10594059405940594\n",
      "validation micro-F1 @6: 0.10148514851485149\n",
      "validation micro-F1 @7: 0.09547383309759547\n",
      "validation micro-F1 @8: 0.09962871287128713\n",
      "validation micro-F1 @9: 0.10066006600660066\n",
      "validation micro-F1 @10: 0.09554455445544555\n"
     ]
    },
    {
     "name": "stderr",
     "output_type": "stream",
     "text": [
      "\r",
      "  5%|▌         | 247/4536 [6:49:48<118:36:07, 99.55s/it]"
     ]
    },
    {
     "name": "stdout",
     "output_type": "stream",
     "text": [
      "iter: 246, configuration: {'vectorizer_norm': 'l1', 'svm_degree': 3, 'medoid_normalization': 'standard', 'svm_kernel': 'rbf', 'nb_medoids_ratio': 0.2, 'svm_gamma': 'auto', 'svm_c': 0.1}\n",
      "\n",
      "validation micro-F1 @1: 0.019801980198019802\n",
      "validation micro-F1 @2: 0.024752475247524754\n",
      "validation micro-F1 @3: 0.039603960396039604\n",
      "validation micro-F1 @4: 0.04702970297029703\n",
      "validation micro-F1 @5: 0.054455445544554455\n",
      "validation micro-F1 @6: 0.066006600660066\n",
      "validation micro-F1 @7: 0.07072135785007072\n",
      "validation micro-F1 @8: 0.06745049504950495\n",
      "validation micro-F1 @9: 0.06545654565456546\n",
      "validation micro-F1 @10: 0.06287128712871287\n"
     ]
    },
    {
     "name": "stderr",
     "output_type": "stream",
     "text": [
      "\r",
      "  5%|▌         | 248/4536 [6:50:24<118:15:57, 99.29s/it]"
     ]
    },
    {
     "name": "stdout",
     "output_type": "stream",
     "text": [
      "iter: 247, configuration: {'vectorizer_norm': 'l2', 'svm_degree': 3, 'medoid_normalization': 'standard', 'svm_kernel': 'rbf', 'nb_medoids_ratio': 0.2, 'svm_gamma': 'auto', 'svm_c': 0.1}\n",
      "\n",
      "validation micro-F1 @1: 0.10891089108910891\n",
      "validation micro-F1 @2: 0.11138613861386139\n",
      "validation micro-F1 @3: 0.10726072607260725\n",
      "validation micro-F1 @4: 0.10272277227722772\n",
      "validation micro-F1 @5: 0.10693069306930693\n",
      "validation micro-F1 @6: 0.10231023102310231\n",
      "validation micro-F1 @7: 0.09618104667609619\n",
      "validation micro-F1 @8: 0.0922029702970297\n",
      "validation micro-F1 @9: 0.08965896589658966\n",
      "validation micro-F1 @10: 0.08861386138613861\n"
     ]
    },
    {
     "name": "stderr",
     "output_type": "stream",
     "text": [
      "\r",
      "  5%|▌         | 249/4536 [6:53:32<118:39:46, 99.65s/it]"
     ]
    },
    {
     "name": "stdout",
     "output_type": "stream",
     "text": [
      "iter: 248, configuration: {'vectorizer_norm': None, 'svm_degree': 3, 'medoid_normalization': 'standard', 'svm_kernel': 'rbf', 'nb_medoids_ratio': 0.2, 'svm_gamma': 'auto', 'svm_c': 0.1}\n",
      "\n",
      "validation micro-F1 @1: 0.14356435643564355\n",
      "validation micro-F1 @2: 0.11633663366336634\n",
      "validation micro-F1 @3: 0.11221122112211221\n",
      "validation micro-F1 @4: 0.11014851485148515\n",
      "validation micro-F1 @5: 0.100990099009901\n",
      "validation micro-F1 @6: 0.09983498349834984\n",
      "validation micro-F1 @7: 0.09618104667609619\n",
      "validation micro-F1 @8: 0.09591584158415842\n",
      "validation micro-F1 @9: 0.09460946094609461\n",
      "validation micro-F1 @10: 0.09207920792079208\n"
     ]
    },
    {
     "name": "stderr",
     "output_type": "stream",
     "text": [
      "\r",
      "  6%|▌         | 250/4536 [6:54:01<118:18:01, 99.37s/it]"
     ]
    },
    {
     "name": "stdout",
     "output_type": "stream",
     "text": [
      "iter: 249, configuration: {'vectorizer_norm': 'l1', 'svm_degree': 3, 'medoid_normalization': 'standard', 'svm_kernel': 'poly', 'nb_medoids_ratio': 0.2, 'svm_gamma': 'auto', 'svm_c': 0.1}\n",
      "\n",
      "validation micro-F1 @1: 0.0049504950495049506\n",
      "validation micro-F1 @2: 0.01485148514851485\n",
      "validation micro-F1 @3: 0.0429042904290429\n",
      "validation micro-F1 @4: 0.06064356435643564\n",
      "validation micro-F1 @5: 0.06633663366336634\n",
      "validation micro-F1 @6: 0.06435643564356436\n",
      "validation micro-F1 @7: 0.06577086280056577\n",
      "validation micro-F1 @8: 0.06373762376237624\n",
      "validation micro-F1 @9: 0.066006600660066\n",
      "validation micro-F1 @10: 0.07277227722772277\n"
     ]
    },
    {
     "name": "stderr",
     "output_type": "stream",
     "text": [
      "\r",
      "  6%|▌         | 251/4536 [6:54:45<118:00:30, 99.14s/it]"
     ]
    },
    {
     "name": "stdout",
     "output_type": "stream",
     "text": [
      "iter: 250, configuration: {'vectorizer_norm': 'l2', 'svm_degree': 3, 'medoid_normalization': 'standard', 'svm_kernel': 'poly', 'nb_medoids_ratio': 0.2, 'svm_gamma': 'auto', 'svm_c': 0.1}\n",
      "\n",
      "validation micro-F1 @1: 0.10396039603960396\n",
      "validation micro-F1 @2: 0.12871287128712872\n",
      "validation micro-F1 @3: 0.11716171617161716\n",
      "validation micro-F1 @4: 0.10396039603960396\n",
      "validation micro-F1 @5: 0.09603960396039604\n",
      "validation micro-F1 @6: 0.09323432343234324\n",
      "validation micro-F1 @7: 0.09476661951909476\n",
      "validation micro-F1 @8: 0.0922029702970297\n",
      "validation micro-F1 @9: 0.09350935093509351\n",
      "validation micro-F1 @10: 0.09257425742574257\n"
     ]
    },
    {
     "name": "stderr",
     "output_type": "stream",
     "text": [
      "\r",
      "  6%|▌         | 252/4536 [6:57:43<118:21:26, 99.46s/it]"
     ]
    },
    {
     "name": "stdout",
     "output_type": "stream",
     "text": [
      "iter: 251, configuration: {'vectorizer_norm': None, 'svm_degree': 3, 'medoid_normalization': 'standard', 'svm_kernel': 'poly', 'nb_medoids_ratio': 0.2, 'svm_gamma': 'auto', 'svm_c': 0.1}\n",
      "\n",
      "validation micro-F1 @1: 0.13861386138613863\n",
      "validation micro-F1 @2: 0.14108910891089108\n",
      "validation micro-F1 @3: 0.1254125412541254\n",
      "validation micro-F1 @4: 0.11262376237623763\n",
      "validation micro-F1 @5: 0.10396039603960396\n",
      "validation micro-F1 @6: 0.10478547854785479\n",
      "validation micro-F1 @7: 0.10325318246110325\n",
      "validation micro-F1 @8: 0.10148514851485149\n",
      "validation micro-F1 @9: 0.09845984598459846\n",
      "validation micro-F1 @10: 0.09752475247524753\n"
     ]
    },
    {
     "name": "stderr",
     "output_type": "stream",
     "text": [
      "\r",
      "  6%|▌         | 253/4536 [6:58:27<118:03:53, 99.24s/it]"
     ]
    },
    {
     "name": "stdout",
     "output_type": "stream",
     "text": [
      "iter: 252, configuration: {'vectorizer_norm': 'l1', 'svm_degree': 4, 'medoid_normalization': 'standard', 'svm_kernel': 'rbf', 'nb_medoids_ratio': 0.2, 'svm_gamma': 0.1, 'svm_c': 0.1}\n",
      "\n",
      "validation micro-F1 @1: 0.15841584158415842\n",
      "validation micro-F1 @2: 0.12376237623762376\n",
      "validation micro-F1 @3: 0.11551155115511551\n",
      "validation micro-F1 @4: 0.11138613861386139\n",
      "validation micro-F1 @5: 0.10396039603960396\n",
      "validation micro-F1 @6: 0.10066006600660066\n",
      "validation micro-F1 @7: 0.09900990099009901\n",
      "validation micro-F1 @8: 0.09591584158415842\n",
      "validation micro-F1 @9: 0.09405940594059406\n",
      "validation micro-F1 @10: 0.09306930693069307\n"
     ]
    },
    {
     "name": "stderr",
     "output_type": "stream",
     "text": [
      "\r",
      "  6%|▌         | 254/4536 [6:59:32<117:52:52, 99.11s/it]"
     ]
    },
    {
     "name": "stdout",
     "output_type": "stream",
     "text": [
      "iter: 253, configuration: {'vectorizer_norm': 'l2', 'svm_degree': 4, 'medoid_normalization': 'standard', 'svm_kernel': 'rbf', 'nb_medoids_ratio': 0.2, 'svm_gamma': 0.1, 'svm_c': 0.1}\n",
      "\n",
      "validation micro-F1 @1: 0.1188118811881188\n",
      "validation micro-F1 @2: 0.13613861386138615\n",
      "validation micro-F1 @3: 0.13036303630363036\n",
      "validation micro-F1 @4: 0.12004950495049505\n",
      "validation micro-F1 @5: 0.11287128712871287\n",
      "validation micro-F1 @6: 0.10891089108910891\n",
      "validation micro-F1 @7: 0.10891089108910891\n",
      "validation micro-F1 @8: 0.10396039603960396\n",
      "validation micro-F1 @9: 0.09790979097909791\n",
      "validation micro-F1 @10: 0.09455445544554456\n"
     ]
    },
    {
     "name": "stderr",
     "output_type": "stream",
     "text": [
      "\r",
      "  6%|▌         | 255/4536 [7:06:46<119:24:53, 100.42s/it]"
     ]
    },
    {
     "name": "stdout",
     "output_type": "stream",
     "text": [
      "iter: 254, configuration: {'vectorizer_norm': None, 'svm_degree': 4, 'medoid_normalization': 'standard', 'svm_kernel': 'rbf', 'nb_medoids_ratio': 0.2, 'svm_gamma': 0.1, 'svm_c': 0.1}\n",
      "\n",
      "validation micro-F1 @1: 0.13366336633663367\n",
      "validation micro-F1 @2: 0.1485148514851485\n",
      "validation micro-F1 @3: 0.12871287128712872\n",
      "validation micro-F1 @4: 0.11386138613861387\n",
      "validation micro-F1 @5: 0.10495049504950495\n",
      "validation micro-F1 @6: 0.10808580858085809\n",
      "validation micro-F1 @7: 0.10183875530410184\n",
      "validation micro-F1 @8: 0.10086633663366337\n",
      "validation micro-F1 @9: 0.09900990099009901\n",
      "validation micro-F1 @10: 0.09405940594059406\n"
     ]
    },
    {
     "name": "stderr",
     "output_type": "stream",
     "text": [
      "\r",
      "  6%|▌         | 256/4536 [7:07:56<119:14:38, 100.30s/it]"
     ]
    },
    {
     "name": "stdout",
     "output_type": "stream",
     "text": [
      "iter: 255, configuration: {'vectorizer_norm': 'l1', 'svm_degree': 4, 'medoid_normalization': 'standard', 'svm_kernel': 'poly', 'nb_medoids_ratio': 0.2, 'svm_gamma': 0.1, 'svm_c': 0.1}\n",
      "\n",
      "validation micro-F1 @1: 0.14356435643564355\n",
      "validation micro-F1 @2: 0.1485148514851485\n",
      "validation micro-F1 @3: 0.12706270627062707\n",
      "validation micro-F1 @4: 0.11386138613861387\n",
      "validation micro-F1 @5: 0.1099009900990099\n",
      "validation micro-F1 @6: 0.10808580858085809\n",
      "validation micro-F1 @7: 0.10466760961810467\n",
      "validation micro-F1 @8: 0.10272277227722772\n",
      "validation micro-F1 @9: 0.10176017601760176\n",
      "validation micro-F1 @10: 0.09752475247524753\n"
     ]
    },
    {
     "name": "stderr",
     "output_type": "stream",
     "text": [
      "\r",
      "  6%|▌         | 257/4536 [7:10:44<119:31:47, 100.56s/it]"
     ]
    },
    {
     "name": "stdout",
     "output_type": "stream",
     "text": [
      "iter: 256, configuration: {'vectorizer_norm': 'l2', 'svm_degree': 4, 'medoid_normalization': 'standard', 'svm_kernel': 'poly', 'nb_medoids_ratio': 0.2, 'svm_gamma': 0.1, 'svm_c': 0.1}\n",
      "\n",
      "validation micro-F1 @1: 0.13861386138613863\n",
      "validation micro-F1 @2: 0.15099009900990099\n",
      "validation micro-F1 @3: 0.12871287128712872\n",
      "validation micro-F1 @4: 0.11386138613861387\n",
      "validation micro-F1 @5: 0.10495049504950495\n",
      "validation micro-F1 @6: 0.09983498349834984\n",
      "validation micro-F1 @7: 0.09971711456859972\n",
      "validation micro-F1 @8: 0.09777227722772278\n",
      "validation micro-F1 @9: 0.09900990099009901\n",
      "validation micro-F1 @10: 0.09554455445544555\n"
     ]
    },
    {
     "name": "stderr",
     "output_type": "stream",
     "text": [
      "\r",
      "  6%|▌         | 258/4536 [7:13:21<119:45:41, 100.78s/it]"
     ]
    },
    {
     "name": "stdout",
     "output_type": "stream",
     "text": [
      "iter: 257, configuration: {'vectorizer_norm': None, 'svm_degree': 4, 'medoid_normalization': 'standard', 'svm_kernel': 'poly', 'nb_medoids_ratio': 0.2, 'svm_gamma': 0.1, 'svm_c': 0.1}\n",
      "\n",
      "validation micro-F1 @1: 0.13366336633663367\n",
      "validation micro-F1 @2: 0.14108910891089108\n",
      "validation micro-F1 @3: 0.13036303630363036\n",
      "validation micro-F1 @4: 0.11386138613861387\n",
      "validation micro-F1 @5: 0.10495049504950495\n",
      "validation micro-F1 @6: 0.09983498349834984\n",
      "validation micro-F1 @7: 0.09900990099009901\n",
      "validation micro-F1 @8: 0.09653465346534654\n",
      "validation micro-F1 @9: 0.09790979097909791\n",
      "validation micro-F1 @10: 0.09257425742574257\n"
     ]
    },
    {
     "name": "stderr",
     "output_type": "stream",
     "text": [
      "\r",
      "  6%|▌         | 259/4536 [7:14:11<119:29:54, 100.58s/it]"
     ]
    },
    {
     "name": "stdout",
     "output_type": "stream",
     "text": [
      "iter: 258, configuration: {'vectorizer_norm': 'l1', 'svm_degree': 4, 'medoid_normalization': 'standard', 'svm_kernel': 'rbf', 'nb_medoids_ratio': 0.2, 'svm_gamma': 0.2, 'svm_c': 0.1}\n",
      "\n",
      "validation micro-F1 @1: 0.12871287128712872\n",
      "validation micro-F1 @2: 0.13366336633663367\n",
      "validation micro-F1 @3: 0.1188118811881188\n",
      "validation micro-F1 @4: 0.1150990099009901\n",
      "validation micro-F1 @5: 0.10891089108910891\n",
      "validation micro-F1 @6: 0.10066006600660066\n",
      "validation micro-F1 @7: 0.0983026874115983\n",
      "validation micro-F1 @8: 0.09653465346534654\n",
      "validation micro-F1 @9: 0.09460946094609461\n",
      "validation micro-F1 @10: 0.09405940594059406\n"
     ]
    },
    {
     "name": "stderr",
     "output_type": "stream",
     "text": [
      "\r",
      "  6%|▌         | 260/4536 [7:15:27<119:21:30, 100.49s/it]"
     ]
    },
    {
     "name": "stdout",
     "output_type": "stream",
     "text": [
      "iter: 259, configuration: {'vectorizer_norm': 'l2', 'svm_degree': 4, 'medoid_normalization': 'standard', 'svm_kernel': 'rbf', 'nb_medoids_ratio': 0.2, 'svm_gamma': 0.2, 'svm_c': 0.1}\n",
      "\n",
      "validation micro-F1 @1: 0.1188118811881188\n",
      "validation micro-F1 @2: 0.1485148514851485\n",
      "validation micro-F1 @3: 0.13036303630363036\n",
      "validation micro-F1 @4: 0.11014851485148515\n",
      "validation micro-F1 @5: 0.1099009900990099\n",
      "validation micro-F1 @6: 0.10561056105610561\n",
      "validation micro-F1 @7: 0.10325318246110325\n",
      "validation micro-F1 @8: 0.10148514851485149\n",
      "validation micro-F1 @9: 0.09625962596259625\n",
      "validation micro-F1 @10: 0.09504950495049505\n"
     ]
    },
    {
     "name": "stderr",
     "output_type": "stream",
     "text": [
      "\r",
      "  6%|▌         | 261/4536 [7:22:35<120:49:26, 101.75s/it]"
     ]
    },
    {
     "name": "stdout",
     "output_type": "stream",
     "text": [
      "iter: 260, configuration: {'vectorizer_norm': None, 'svm_degree': 4, 'medoid_normalization': 'standard', 'svm_kernel': 'rbf', 'nb_medoids_ratio': 0.2, 'svm_gamma': 0.2, 'svm_c': 0.1}\n",
      "\n",
      "validation micro-F1 @1: 0.13861386138613863\n",
      "validation micro-F1 @2: 0.15099009900990099\n",
      "validation micro-F1 @3: 0.12871287128712872\n",
      "validation micro-F1 @4: 0.11386138613861387\n",
      "validation micro-F1 @5: 0.10495049504950495\n",
      "validation micro-F1 @6: 0.10231023102310231\n",
      "validation micro-F1 @7: 0.10466760961810467\n",
      "validation micro-F1 @8: 0.10334158415841584\n",
      "validation micro-F1 @9: 0.09900990099009901\n",
      "validation micro-F1 @10: 0.09405940594059406\n"
     ]
    },
    {
     "name": "stderr",
     "output_type": "stream",
     "text": [
      "\r",
      "  6%|▌         | 262/4536 [7:23:52<120:41:01, 101.65s/it]"
     ]
    },
    {
     "name": "stdout",
     "output_type": "stream",
     "text": [
      "iter: 261, configuration: {'vectorizer_norm': 'l1', 'svm_degree': 4, 'medoid_normalization': 'standard', 'svm_kernel': 'poly', 'nb_medoids_ratio': 0.2, 'svm_gamma': 0.2, 'svm_c': 0.1}\n",
      "\n",
      "validation micro-F1 @1: 0.14356435643564355\n",
      "validation micro-F1 @2: 0.15099009900990099\n",
      "validation micro-F1 @3: 0.12871287128712872\n",
      "validation micro-F1 @4: 0.11386138613861387\n",
      "validation micro-F1 @5: 0.11386138613861387\n",
      "validation micro-F1 @6: 0.11138613861386139\n",
      "validation micro-F1 @7: 0.10254596888260255\n",
      "validation micro-F1 @8: 0.10148514851485149\n",
      "validation micro-F1 @9: 0.1001100110011001\n",
      "validation micro-F1 @10: 0.09851485148514852\n"
     ]
    },
    {
     "name": "stderr",
     "output_type": "stream",
     "text": [
      "\r",
      "  6%|▌         | 263/4536 [7:26:50<120:59:53, 101.94s/it]"
     ]
    },
    {
     "name": "stdout",
     "output_type": "stream",
     "text": [
      "iter: 262, configuration: {'vectorizer_norm': 'l2', 'svm_degree': 4, 'medoid_normalization': 'standard', 'svm_kernel': 'poly', 'nb_medoids_ratio': 0.2, 'svm_gamma': 0.2, 'svm_c': 0.1}\n",
      "\n",
      "validation micro-F1 @1: 0.17326732673267325\n",
      "validation micro-F1 @2: 0.16336633663366337\n",
      "validation micro-F1 @3: 0.13366336633663367\n",
      "validation micro-F1 @4: 0.11757425742574257\n",
      "validation micro-F1 @5: 0.10693069306930693\n",
      "validation micro-F1 @6: 0.10808580858085809\n",
      "validation micro-F1 @7: 0.10466760961810467\n",
      "validation micro-F1 @8: 0.10457920792079207\n",
      "validation micro-F1 @9: 0.10231023102310231\n",
      "validation micro-F1 @10: 0.09900990099009901\n"
     ]
    },
    {
     "name": "stderr",
     "output_type": "stream",
     "text": [
      "\r",
      "  6%|▌         | 264/4536 [7:29:34<121:14:53, 102.18s/it]"
     ]
    },
    {
     "name": "stdout",
     "output_type": "stream",
     "text": [
      "iter: 263, configuration: {'vectorizer_norm': None, 'svm_degree': 4, 'medoid_normalization': 'standard', 'svm_kernel': 'poly', 'nb_medoids_ratio': 0.2, 'svm_gamma': 0.2, 'svm_c': 0.1}\n",
      "\n",
      "validation micro-F1 @1: 0.1485148514851485\n",
      "validation micro-F1 @2: 0.1485148514851485\n",
      "validation micro-F1 @3: 0.12871287128712872\n",
      "validation micro-F1 @4: 0.11386138613861387\n",
      "validation micro-F1 @5: 0.10693069306930693\n",
      "validation micro-F1 @6: 0.09900990099009901\n",
      "validation micro-F1 @7: 0.09971711456859972\n",
      "validation micro-F1 @8: 0.1021039603960396\n",
      "validation micro-F1 @9: 0.1001100110011001\n",
      "validation micro-F1 @10: 0.09554455445544555\n"
     ]
    },
    {
     "name": "stderr",
     "output_type": "stream",
     "text": [
      "\r",
      "  6%|▌         | 265/4536 [7:30:28<121:00:25, 102.00s/it]"
     ]
    },
    {
     "name": "stdout",
     "output_type": "stream",
     "text": [
      "iter: 264, configuration: {'vectorizer_norm': 'l1', 'svm_degree': 4, 'medoid_normalization': 'standard', 'svm_kernel': 'rbf', 'nb_medoids_ratio': 0.2, 'svm_gamma': 0.3, 'svm_c': 0.1}\n",
      "\n",
      "validation micro-F1 @1: 0.12871287128712872\n",
      "validation micro-F1 @2: 0.14603960396039603\n",
      "validation micro-F1 @3: 0.12211221122112212\n",
      "validation micro-F1 @4: 0.11138613861386139\n",
      "validation micro-F1 @5: 0.10792079207920792\n",
      "validation micro-F1 @6: 0.10231023102310231\n",
      "validation micro-F1 @7: 0.10254596888260255\n",
      "validation micro-F1 @8: 0.10024752475247525\n",
      "validation micro-F1 @9: 0.1001100110011001\n",
      "validation micro-F1 @10: 0.09603960396039604\n"
     ]
    },
    {
     "name": "stderr",
     "output_type": "stream",
     "text": [
      "\r",
      "  6%|▌         | 266/4536 [7:31:52<120:53:42, 101.93s/it]"
     ]
    },
    {
     "name": "stdout",
     "output_type": "stream",
     "text": [
      "iter: 265, configuration: {'vectorizer_norm': 'l2', 'svm_degree': 4, 'medoid_normalization': 'standard', 'svm_kernel': 'rbf', 'nb_medoids_ratio': 0.2, 'svm_gamma': 0.3, 'svm_c': 0.1}\n",
      "\n",
      "validation micro-F1 @1: 0.13366336633663367\n",
      "validation micro-F1 @2: 0.13366336633663367\n",
      "validation micro-F1 @3: 0.1188118811881188\n",
      "validation micro-F1 @4: 0.11633663366336634\n",
      "validation micro-F1 @5: 0.10495049504950495\n",
      "validation micro-F1 @6: 0.10066006600660066\n",
      "validation micro-F1 @7: 0.09759547383309759\n",
      "validation micro-F1 @8: 0.10148514851485149\n",
      "validation micro-F1 @9: 0.1001100110011001\n",
      "validation micro-F1 @10: 0.1\n"
     ]
    },
    {
     "name": "stderr",
     "output_type": "stream",
     "text": [
      "\r",
      "  6%|▌         | 267/4536 [7:38:56<122:17:58, 103.13s/it]"
     ]
    },
    {
     "name": "stdout",
     "output_type": "stream",
     "text": [
      "iter: 266, configuration: {'vectorizer_norm': None, 'svm_degree': 4, 'medoid_normalization': 'standard', 'svm_kernel': 'rbf', 'nb_medoids_ratio': 0.2, 'svm_gamma': 0.3, 'svm_c': 0.1}\n",
      "\n",
      "validation micro-F1 @1: 0.13861386138613863\n",
      "validation micro-F1 @2: 0.15099009900990099\n",
      "validation micro-F1 @3: 0.12871287128712872\n",
      "validation micro-F1 @4: 0.11386138613861387\n",
      "validation micro-F1 @5: 0.10495049504950495\n",
      "validation micro-F1 @6: 0.09818481848184818\n",
      "validation micro-F1 @7: 0.10113154172560113\n",
      "validation micro-F1 @8: 0.10024752475247525\n",
      "validation micro-F1 @9: 0.09900990099009901\n",
      "validation micro-F1 @10: 0.09405940594059406\n"
     ]
    },
    {
     "name": "stderr",
     "output_type": "stream",
     "text": [
      "\r",
      "  6%|▌         | 268/4536 [7:40:22<122:11:42, 103.07s/it]"
     ]
    },
    {
     "name": "stdout",
     "output_type": "stream",
     "text": [
      "iter: 267, configuration: {'vectorizer_norm': 'l1', 'svm_degree': 4, 'medoid_normalization': 'standard', 'svm_kernel': 'poly', 'nb_medoids_ratio': 0.2, 'svm_gamma': 0.3, 'svm_c': 0.1}\n",
      "\n",
      "validation micro-F1 @1: 0.14356435643564355\n",
      "validation micro-F1 @2: 0.15346534653465346\n",
      "validation micro-F1 @3: 0.13036303630363036\n",
      "validation micro-F1 @4: 0.11386138613861387\n",
      "validation micro-F1 @5: 0.10396039603960396\n",
      "validation micro-F1 @6: 0.10231023102310231\n",
      "validation micro-F1 @7: 0.10042432814710042\n",
      "validation micro-F1 @8: 0.09777227722772278\n",
      "validation micro-F1 @9: 0.09570957095709572\n",
      "validation micro-F1 @10: 0.09752475247524753\n"
     ]
    },
    {
     "name": "stderr",
     "output_type": "stream",
     "text": [
      "\r",
      "  6%|▌         | 269/4536 [7:43:38<122:34:30, 103.41s/it]"
     ]
    },
    {
     "name": "stdout",
     "output_type": "stream",
     "text": [
      "iter: 268, configuration: {'vectorizer_norm': 'l2', 'svm_degree': 4, 'medoid_normalization': 'standard', 'svm_kernel': 'poly', 'nb_medoids_ratio': 0.2, 'svm_gamma': 0.3, 'svm_c': 0.1}\n",
      "\n",
      "validation micro-F1 @1: 0.13861386138613863\n",
      "validation micro-F1 @2: 0.14356435643564355\n",
      "validation micro-F1 @3: 0.12871287128712872\n",
      "validation micro-F1 @4: 0.11386138613861387\n",
      "validation micro-F1 @5: 0.10594059405940594\n",
      "validation micro-F1 @6: 0.10478547854785479\n",
      "validation micro-F1 @7: 0.10183875530410184\n",
      "validation micro-F1 @8: 0.10086633663366337\n",
      "validation micro-F1 @9: 0.09955995599559957\n",
      "validation micro-F1 @10: 0.09653465346534654\n"
     ]
    },
    {
     "name": "stderr",
     "output_type": "stream",
     "text": [
      "\r",
      "  6%|▌         | 270/4536 [7:46:24<122:49:07, 103.64s/it]"
     ]
    },
    {
     "name": "stdout",
     "output_type": "stream",
     "text": [
      "iter: 269, configuration: {'vectorizer_norm': None, 'svm_degree': 4, 'medoid_normalization': 'standard', 'svm_kernel': 'poly', 'nb_medoids_ratio': 0.2, 'svm_gamma': 0.3, 'svm_c': 0.1}\n",
      "\n",
      "validation micro-F1 @1: 0.14356435643564355\n",
      "validation micro-F1 @2: 0.15099009900990099\n",
      "validation micro-F1 @3: 0.12706270627062707\n",
      "validation micro-F1 @4: 0.11262376237623763\n",
      "validation micro-F1 @5: 0.10495049504950495\n",
      "validation micro-F1 @6: 0.09983498349834984\n",
      "validation micro-F1 @7: 0.10325318246110325\n",
      "validation micro-F1 @8: 0.1021039603960396\n",
      "validation micro-F1 @9: 0.09900990099009901\n",
      "validation micro-F1 @10: 0.09405940594059406\n"
     ]
    },
    {
     "name": "stderr",
     "output_type": "stream",
     "text": [
      "\r",
      "  6%|▌         | 271/4536 [7:47:24<122:35:57, 103.48s/it]"
     ]
    },
    {
     "name": "stdout",
     "output_type": "stream",
     "text": [
      "iter: 270, configuration: {'vectorizer_norm': 'l1', 'svm_degree': 4, 'medoid_normalization': 'standard', 'svm_kernel': 'rbf', 'nb_medoids_ratio': 0.2, 'svm_gamma': 0.5, 'svm_c': 0.1}\n",
      "\n",
      "validation micro-F1 @1: 0.13861386138613863\n",
      "validation micro-F1 @2: 0.1485148514851485\n",
      "validation micro-F1 @3: 0.1353135313531353\n",
      "validation micro-F1 @4: 0.125\n",
      "validation micro-F1 @5: 0.12673267326732673\n",
      "validation micro-F1 @6: 0.11716171617161716\n",
      "validation micro-F1 @7: 0.10961810466760961\n",
      "validation micro-F1 @8: 0.1051980198019802\n",
      "validation micro-F1 @9: 0.10451045104510451\n",
      "validation micro-F1 @10: 0.09900990099009901\n"
     ]
    },
    {
     "name": "stderr",
     "output_type": "stream",
     "text": [
      "\r",
      "  6%|▌         | 272/4536 [7:49:00<122:32:22, 103.46s/it]"
     ]
    },
    {
     "name": "stdout",
     "output_type": "stream",
     "text": [
      "iter: 271, configuration: {'vectorizer_norm': 'l2', 'svm_degree': 4, 'medoid_normalization': 'standard', 'svm_kernel': 'rbf', 'nb_medoids_ratio': 0.2, 'svm_gamma': 0.5, 'svm_c': 0.1}\n",
      "\n",
      "validation micro-F1 @1: 0.0891089108910891\n",
      "validation micro-F1 @2: 0.14108910891089108\n",
      "validation micro-F1 @3: 0.12871287128712872\n",
      "validation micro-F1 @4: 0.12252475247524752\n",
      "validation micro-F1 @5: 0.1099009900990099\n",
      "validation micro-F1 @6: 0.10726072607260725\n",
      "validation micro-F1 @7: 0.10325318246110325\n",
      "validation micro-F1 @8: 0.10334158415841584\n",
      "validation micro-F1 @9: 0.10176017601760176\n",
      "validation micro-F1 @10: 0.09752475247524753\n"
     ]
    },
    {
     "name": "stderr",
     "output_type": "stream",
     "text": [
      "\r",
      "  6%|▌         | 273/4536 [7:55:57<123:52:14, 104.61s/it]"
     ]
    },
    {
     "name": "stdout",
     "output_type": "stream",
     "text": [
      "iter: 272, configuration: {'vectorizer_norm': None, 'svm_degree': 4, 'medoid_normalization': 'standard', 'svm_kernel': 'rbf', 'nb_medoids_ratio': 0.2, 'svm_gamma': 0.5, 'svm_c': 0.1}\n",
      "\n",
      "validation micro-F1 @1: 0.13861386138613863\n",
      "validation micro-F1 @2: 0.15099009900990099\n",
      "validation micro-F1 @3: 0.12871287128712872\n",
      "validation micro-F1 @4: 0.11386138613861387\n",
      "validation micro-F1 @5: 0.10495049504950495\n",
      "validation micro-F1 @6: 0.09818481848184818\n",
      "validation micro-F1 @7: 0.10113154172560113\n",
      "validation micro-F1 @8: 0.09962871287128713\n",
      "validation micro-F1 @9: 0.09900990099009901\n",
      "validation micro-F1 @10: 0.09405940594059406\n"
     ]
    },
    {
     "name": "stderr",
     "output_type": "stream",
     "text": [
      "\r",
      "  6%|▌         | 274/4536 [7:57:42<123:50:39, 104.61s/it]"
     ]
    },
    {
     "name": "stdout",
     "output_type": "stream",
     "text": [
      "iter: 273, configuration: {'vectorizer_norm': 'l1', 'svm_degree': 4, 'medoid_normalization': 'standard', 'svm_kernel': 'poly', 'nb_medoids_ratio': 0.2, 'svm_gamma': 0.5, 'svm_c': 0.1}\n",
      "\n",
      "validation micro-F1 @1: 0.12871287128712872\n",
      "validation micro-F1 @2: 0.14356435643564355\n",
      "validation micro-F1 @3: 0.1254125412541254\n",
      "validation micro-F1 @4: 0.1188118811881188\n",
      "validation micro-F1 @5: 0.11188118811881188\n",
      "validation micro-F1 @6: 0.10561056105610561\n",
      "validation micro-F1 @7: 0.10396039603960396\n",
      "validation micro-F1 @8: 0.0983910891089109\n",
      "validation micro-F1 @9: 0.09845984598459846\n",
      "validation micro-F1 @10: 0.09801980198019802\n"
     ]
    },
    {
     "name": "stderr",
     "output_type": "stream",
     "text": [
      "\r",
      "  6%|▌         | 275/4536 [8:00:44<124:08:52, 104.89s/it]"
     ]
    },
    {
     "name": "stdout",
     "output_type": "stream",
     "text": [
      "iter: 274, configuration: {'vectorizer_norm': 'l2', 'svm_degree': 4, 'medoid_normalization': 'standard', 'svm_kernel': 'poly', 'nb_medoids_ratio': 0.2, 'svm_gamma': 0.5, 'svm_c': 0.1}\n",
      "\n",
      "validation micro-F1 @1: 0.14356435643564355\n",
      "validation micro-F1 @2: 0.1485148514851485\n",
      "validation micro-F1 @3: 0.13036303630363036\n",
      "validation micro-F1 @4: 0.1150990099009901\n",
      "validation micro-F1 @5: 0.1099009900990099\n",
      "validation micro-F1 @6: 0.10808580858085809\n",
      "validation micro-F1 @7: 0.10396039603960396\n",
      "validation micro-F1 @8: 0.10148514851485149\n",
      "validation micro-F1 @9: 0.10066006600660066\n",
      "validation micro-F1 @10: 0.09752475247524753\n"
     ]
    },
    {
     "name": "stderr",
     "output_type": "stream",
     "text": [
      "\r",
      "  6%|▌         | 276/4536 [8:03:23<124:20:55, 105.08s/it]"
     ]
    },
    {
     "name": "stdout",
     "output_type": "stream",
     "text": [
      "iter: 275, configuration: {'vectorizer_norm': None, 'svm_degree': 4, 'medoid_normalization': 'standard', 'svm_kernel': 'poly', 'nb_medoids_ratio': 0.2, 'svm_gamma': 0.5, 'svm_c': 0.1}\n",
      "\n",
      "validation micro-F1 @1: 0.13366336633663367\n",
      "validation micro-F1 @2: 0.1485148514851485\n",
      "validation micro-F1 @3: 0.12706270627062707\n",
      "validation micro-F1 @4: 0.11262376237623763\n",
      "validation micro-F1 @5: 0.10396039603960396\n",
      "validation micro-F1 @6: 0.10643564356435643\n",
      "validation micro-F1 @7: 0.10254596888260255\n",
      "validation micro-F1 @8: 0.09900990099009901\n",
      "validation micro-F1 @9: 0.09845984598459846\n",
      "validation micro-F1 @10: 0.09405940594059406\n"
     ]
    },
    {
     "name": "stderr",
     "output_type": "stream",
     "text": [
      "\r",
      "  6%|▌         | 277/4536 [8:04:30<124:09:38, 104.95s/it]"
     ]
    },
    {
     "name": "stdout",
     "output_type": "stream",
     "text": [
      "iter: 276, configuration: {'vectorizer_norm': 'l1', 'svm_degree': 4, 'medoid_normalization': 'standard', 'svm_kernel': 'rbf', 'nb_medoids_ratio': 0.2, 'svm_gamma': 1.0, 'svm_c': 0.1}\n",
      "\n",
      "validation micro-F1 @1: 0.14356435643564355\n",
      "validation micro-F1 @2: 0.1485148514851485\n",
      "validation micro-F1 @3: 0.12871287128712872\n",
      "validation micro-F1 @4: 0.11262376237623763\n",
      "validation micro-F1 @5: 0.10792079207920792\n",
      "validation micro-F1 @6: 0.10726072607260725\n",
      "validation micro-F1 @7: 0.10678925035360678\n",
      "validation micro-F1 @8: 0.10148514851485149\n",
      "validation micro-F1 @9: 0.10066006600660066\n",
      "validation micro-F1 @10: 0.09851485148514852\n"
     ]
    },
    {
     "name": "stderr",
     "output_type": "stream",
     "text": [
      "\r",
      "  6%|▌         | 278/4536 [8:06:29<124:11:23, 105.00s/it]"
     ]
    },
    {
     "name": "stdout",
     "output_type": "stream",
     "text": [
      "iter: 277, configuration: {'vectorizer_norm': 'l2', 'svm_degree': 4, 'medoid_normalization': 'standard', 'svm_kernel': 'rbf', 'nb_medoids_ratio': 0.2, 'svm_gamma': 1.0, 'svm_c': 0.1}\n",
      "\n",
      "validation micro-F1 @1: 0.13861386138613863\n",
      "validation micro-F1 @2: 0.13613861386138615\n",
      "validation micro-F1 @3: 0.12211221122112212\n",
      "validation micro-F1 @4: 0.11633663366336634\n",
      "validation micro-F1 @5: 0.11089108910891089\n",
      "validation micro-F1 @6: 0.10808580858085809\n",
      "validation micro-F1 @7: 0.10537482319660538\n",
      "validation micro-F1 @8: 0.10457920792079207\n",
      "validation micro-F1 @9: 0.10451045104510451\n",
      "validation micro-F1 @10: 0.09851485148514852\n"
     ]
    },
    {
     "name": "stderr",
     "output_type": "stream",
     "text": [
      "\r",
      "  6%|▌         | 279/4536 [8:13:19<125:27:09, 106.09s/it]"
     ]
    },
    {
     "name": "stdout",
     "output_type": "stream",
     "text": [
      "iter: 278, configuration: {'vectorizer_norm': None, 'svm_degree': 4, 'medoid_normalization': 'standard', 'svm_kernel': 'rbf', 'nb_medoids_ratio': 0.2, 'svm_gamma': 1.0, 'svm_c': 0.1}\n",
      "\n",
      "validation micro-F1 @1: 0.13861386138613863\n",
      "validation micro-F1 @2: 0.15099009900990099\n",
      "validation micro-F1 @3: 0.12871287128712872\n",
      "validation micro-F1 @4: 0.11386138613861387\n",
      "validation micro-F1 @5: 0.10495049504950495\n",
      "validation micro-F1 @6: 0.09818481848184818\n",
      "validation micro-F1 @7: 0.09688826025459689\n",
      "validation micro-F1 @8: 0.09962871287128713\n",
      "validation micro-F1 @9: 0.09900990099009901\n",
      "validation micro-F1 @10: 0.09405940594059406\n"
     ]
    },
    {
     "name": "stderr",
     "output_type": "stream",
     "text": [
      "\r",
      "  6%|▌         | 280/4536 [8:15:51<125:36:57, 106.25s/it]"
     ]
    },
    {
     "name": "stdout",
     "output_type": "stream",
     "text": [
      "iter: 279, configuration: {'vectorizer_norm': 'l1', 'svm_degree': 4, 'medoid_normalization': 'standard', 'svm_kernel': 'poly', 'nb_medoids_ratio': 0.2, 'svm_gamma': 1.0, 'svm_c': 0.1}\n",
      "\n",
      "validation micro-F1 @1: 0.14356435643564355\n",
      "validation micro-F1 @2: 0.15099009900990099\n",
      "validation micro-F1 @3: 0.12871287128712872\n",
      "validation micro-F1 @4: 0.11386138613861387\n",
      "validation micro-F1 @5: 0.10495049504950495\n",
      "validation micro-F1 @6: 0.10478547854785479\n",
      "validation micro-F1 @7: 0.10608203677510608\n",
      "validation micro-F1 @8: 0.1021039603960396\n",
      "validation micro-F1 @9: 0.1001100110011001\n",
      "validation micro-F1 @10: 0.09455445544554456\n"
     ]
    },
    {
     "name": "stderr",
     "output_type": "stream",
     "text": [
      "\r",
      "  6%|▌         | 281/4536 [8:19:05<125:57:31, 106.57s/it]"
     ]
    },
    {
     "name": "stdout",
     "output_type": "stream",
     "text": [
      "iter: 280, configuration: {'vectorizer_norm': 'l2', 'svm_degree': 4, 'medoid_normalization': 'standard', 'svm_kernel': 'poly', 'nb_medoids_ratio': 0.2, 'svm_gamma': 1.0, 'svm_c': 0.1}\n",
      "\n",
      "validation micro-F1 @1: 0.13366336633663367\n",
      "validation micro-F1 @2: 0.1485148514851485\n",
      "validation micro-F1 @3: 0.12871287128712872\n",
      "validation micro-F1 @4: 0.11262376237623763\n",
      "validation micro-F1 @5: 0.10495049504950495\n",
      "validation micro-F1 @6: 0.10066006600660066\n",
      "validation micro-F1 @7: 0.10254596888260255\n",
      "validation micro-F1 @8: 0.09900990099009901\n",
      "validation micro-F1 @9: 0.09955995599559957\n",
      "validation micro-F1 @10: 0.09702970297029703\n"
     ]
    },
    {
     "name": "stderr",
     "output_type": "stream",
     "text": [
      "\r",
      "  6%|▌         | 282/4536 [8:21:54<126:11:19, 106.79s/it]"
     ]
    },
    {
     "name": "stdout",
     "output_type": "stream",
     "text": [
      "iter: 281, configuration: {'vectorizer_norm': None, 'svm_degree': 4, 'medoid_normalization': 'standard', 'svm_kernel': 'poly', 'nb_medoids_ratio': 0.2, 'svm_gamma': 1.0, 'svm_c': 0.1}\n",
      "\n",
      "validation micro-F1 @1: 0.13366336633663367\n",
      "validation micro-F1 @2: 0.14356435643564355\n",
      "validation micro-F1 @3: 0.1254125412541254\n",
      "validation micro-F1 @4: 0.11014851485148515\n",
      "validation micro-F1 @5: 0.10693069306930693\n",
      "validation micro-F1 @6: 0.10313531353135313\n",
      "validation micro-F1 @7: 0.10325318246110325\n",
      "validation micro-F1 @8: 0.1021039603960396\n",
      "validation micro-F1 @9: 0.10066006600660066\n",
      "validation micro-F1 @10: 0.09504950495049505\n"
     ]
    },
    {
     "name": "stderr",
     "output_type": "stream",
     "text": [
      "\r",
      "  6%|▌         | 283/4536 [8:22:27<125:51:03, 106.53s/it]"
     ]
    },
    {
     "name": "stdout",
     "output_type": "stream",
     "text": [
      "iter: 282, configuration: {'vectorizer_norm': 'l1', 'svm_degree': 4, 'medoid_normalization': 'standard', 'svm_kernel': 'rbf', 'nb_medoids_ratio': 0.2, 'svm_gamma': 'auto', 'svm_c': 0.1}\n",
      "\n",
      "validation micro-F1 @1: 0.009900990099009901\n",
      "validation micro-F1 @2: 0.024752475247524754\n",
      "validation micro-F1 @3: 0.04950495049504951\n",
      "validation micro-F1 @4: 0.0655940594059406\n",
      "validation micro-F1 @5: 0.06633663366336634\n",
      "validation micro-F1 @6: 0.07590759075907591\n",
      "validation micro-F1 @7: 0.0785007072135785\n",
      "validation micro-F1 @8: 0.07797029702970297\n",
      "validation micro-F1 @9: 0.07755775577557755\n",
      "validation micro-F1 @10: 0.07574257425742574\n"
     ]
    },
    {
     "name": "stderr",
     "output_type": "stream",
     "text": [
      "\r",
      "  6%|▋         | 284/4536 [8:23:02<125:31:33, 106.28s/it]"
     ]
    },
    {
     "name": "stdout",
     "output_type": "stream",
     "text": [
      "iter: 283, configuration: {'vectorizer_norm': 'l2', 'svm_degree': 4, 'medoid_normalization': 'standard', 'svm_kernel': 'rbf', 'nb_medoids_ratio': 0.2, 'svm_gamma': 'auto', 'svm_c': 0.1}\n",
      "\n",
      "validation micro-F1 @1: 0.12871287128712872\n",
      "validation micro-F1 @2: 0.12623762376237624\n",
      "validation micro-F1 @3: 0.12046204620462046\n",
      "validation micro-F1 @4: 0.11138613861386139\n",
      "validation micro-F1 @5: 0.1\n",
      "validation micro-F1 @6: 0.09653465346534654\n",
      "validation micro-F1 @7: 0.09405940594059406\n",
      "validation micro-F1 @8: 0.09282178217821782\n",
      "validation micro-F1 @9: 0.09130913091309131\n",
      "validation micro-F1 @10: 0.09158415841584158\n"
     ]
    },
    {
     "name": "stderr",
     "output_type": "stream",
     "text": [
      "\r",
      "  6%|▋         | 285/4536 [8:26:17<125:51:43, 106.59s/it]"
     ]
    },
    {
     "name": "stdout",
     "output_type": "stream",
     "text": [
      "iter: 284, configuration: {'vectorizer_norm': None, 'svm_degree': 4, 'medoid_normalization': 'standard', 'svm_kernel': 'rbf', 'nb_medoids_ratio': 0.2, 'svm_gamma': 'auto', 'svm_c': 0.1}\n",
      "\n",
      "validation micro-F1 @1: 0.06930693069306931\n",
      "validation micro-F1 @2: 0.10396039603960396\n",
      "validation micro-F1 @3: 0.10561056105610561\n",
      "validation micro-F1 @4: 0.10024752475247525\n",
      "validation micro-F1 @5: 0.09801980198019802\n",
      "validation micro-F1 @6: 0.09488448844884488\n",
      "validation micro-F1 @7: 0.09405940594059406\n",
      "validation micro-F1 @8: 0.09405940594059406\n",
      "validation micro-F1 @9: 0.09405940594059406\n",
      "validation micro-F1 @10: 0.09059405940594059\n"
     ]
    },
    {
     "name": "stderr",
     "output_type": "stream",
     "text": [
      "\r",
      "  6%|▋         | 286/4536 [8:26:46<125:30:48, 106.32s/it]"
     ]
    },
    {
     "name": "stdout",
     "output_type": "stream",
     "text": [
      "iter: 285, configuration: {'vectorizer_norm': 'l1', 'svm_degree': 4, 'medoid_normalization': 'standard', 'svm_kernel': 'poly', 'nb_medoids_ratio': 0.2, 'svm_gamma': 'auto', 'svm_c': 0.1}\n",
      "\n",
      "validation micro-F1 @1: 0.039603960396039604\n",
      "validation micro-F1 @2: 0.024752475247524754\n",
      "validation micro-F1 @3: 0.0297029702970297\n",
      "validation micro-F1 @4: 0.039603960396039604\n",
      "validation micro-F1 @5: 0.055445544554455446\n",
      "validation micro-F1 @6: 0.06435643564356436\n",
      "validation micro-F1 @7: 0.06718528995756719\n",
      "validation micro-F1 @8: 0.06745049504950495\n",
      "validation micro-F1 @9: 0.07205720572057206\n",
      "validation micro-F1 @10: 0.07178217821782178\n"
     ]
    },
    {
     "name": "stderr",
     "output_type": "stream",
     "text": [
      "\r",
      "  6%|▋         | 287/4536 [8:27:38<125:15:34, 106.13s/it]"
     ]
    },
    {
     "name": "stdout",
     "output_type": "stream",
     "text": [
      "iter: 286, configuration: {'vectorizer_norm': 'l2', 'svm_degree': 4, 'medoid_normalization': 'standard', 'svm_kernel': 'poly', 'nb_medoids_ratio': 0.2, 'svm_gamma': 'auto', 'svm_c': 0.1}\n",
      "\n",
      "validation micro-F1 @1: 0.1485148514851485\n",
      "validation micro-F1 @2: 0.15594059405940594\n",
      "validation micro-F1 @3: 0.12871287128712872\n",
      "validation micro-F1 @4: 0.1188118811881188\n",
      "validation micro-F1 @5: 0.11386138613861387\n",
      "validation micro-F1 @6: 0.11056105610561057\n",
      "validation micro-F1 @7: 0.10537482319660538\n",
      "validation micro-F1 @8: 0.0983910891089109\n",
      "validation micro-F1 @9: 0.09735973597359736\n",
      "validation micro-F1 @10: 0.09455445544554456\n"
     ]
    },
    {
     "name": "stderr",
     "output_type": "stream",
     "text": [
      "\r",
      "  6%|▋         | 288/4536 [8:30:50<125:34:56, 106.43s/it]"
     ]
    },
    {
     "name": "stdout",
     "output_type": "stream",
     "text": [
      "iter: 287, configuration: {'vectorizer_norm': None, 'svm_degree': 4, 'medoid_normalization': 'standard', 'svm_kernel': 'poly', 'nb_medoids_ratio': 0.2, 'svm_gamma': 'auto', 'svm_c': 0.1}\n",
      "\n",
      "validation micro-F1 @1: 0.13861386138613863\n",
      "validation micro-F1 @2: 0.14356435643564355\n",
      "validation micro-F1 @3: 0.1254125412541254\n",
      "validation micro-F1 @4: 0.11262376237623763\n",
      "validation micro-F1 @5: 0.10198019801980197\n",
      "validation micro-F1 @6: 0.10396039603960396\n",
      "validation micro-F1 @7: 0.10113154172560113\n",
      "validation micro-F1 @8: 0.09900990099009901\n",
      "validation micro-F1 @9: 0.09735973597359736\n",
      "validation micro-F1 @10: 0.09356435643564356\n"
     ]
    },
    {
     "name": "stderr",
     "output_type": "stream",
     "text": [
      "\r",
      "  6%|▋         | 289/4536 [8:31:33<125:17:39, 106.21s/it]"
     ]
    },
    {
     "name": "stdout",
     "output_type": "stream",
     "text": [
      "iter: 288, configuration: {'vectorizer_norm': 'l1', 'svm_degree': 5, 'medoid_normalization': 'standard', 'svm_kernel': 'rbf', 'nb_medoids_ratio': 0.2, 'svm_gamma': 0.1, 'svm_c': 0.1}\n",
      "\n",
      "validation micro-F1 @1: 0.12376237623762376\n",
      "validation micro-F1 @2: 0.1311881188118812\n",
      "validation micro-F1 @3: 0.12046204620462046\n",
      "validation micro-F1 @4: 0.11014851485148515\n",
      "validation micro-F1 @5: 0.10693069306930693\n",
      "validation micro-F1 @6: 0.09900990099009901\n",
      "validation micro-F1 @7: 0.10325318246110325\n",
      "validation micro-F1 @8: 0.10272277227722772\n",
      "validation micro-F1 @9: 0.09790979097909791\n",
      "validation micro-F1 @10: 0.09554455445544555\n"
     ]
    },
    {
     "name": "stderr",
     "output_type": "stream",
     "text": [
      "\r",
      "  6%|▋         | 290/4536 [8:32:40<125:06:18, 106.07s/it]"
     ]
    },
    {
     "name": "stdout",
     "output_type": "stream",
     "text": [
      "iter: 289, configuration: {'vectorizer_norm': 'l2', 'svm_degree': 5, 'medoid_normalization': 'standard', 'svm_kernel': 'rbf', 'nb_medoids_ratio': 0.2, 'svm_gamma': 0.1, 'svm_c': 0.1}\n",
      "\n",
      "validation micro-F1 @1: 0.13366336633663367\n",
      "validation micro-F1 @2: 0.15346534653465346\n",
      "validation micro-F1 @3: 0.12706270627062707\n",
      "validation micro-F1 @4: 0.11386138613861387\n",
      "validation micro-F1 @5: 0.11485148514851486\n",
      "validation micro-F1 @6: 0.11221122112211221\n",
      "validation micro-F1 @7: 0.10537482319660538\n",
      "validation micro-F1 @8: 0.1051980198019802\n",
      "validation micro-F1 @9: 0.10066006600660066\n",
      "validation micro-F1 @10: 0.09851485148514852\n"
     ]
    },
    {
     "name": "stderr",
     "output_type": "stream",
     "text": [
      "\r",
      "  6%|▋         | 291/4536 [8:39:54<126:24:13, 107.20s/it]"
     ]
    },
    {
     "name": "stdout",
     "output_type": "stream",
     "text": [
      "iter: 290, configuration: {'vectorizer_norm': None, 'svm_degree': 5, 'medoid_normalization': 'standard', 'svm_kernel': 'rbf', 'nb_medoids_ratio': 0.2, 'svm_gamma': 0.1, 'svm_c': 0.1}\n",
      "\n",
      "validation micro-F1 @1: 0.13366336633663367\n",
      "validation micro-F1 @2: 0.1485148514851485\n",
      "validation micro-F1 @3: 0.12706270627062707\n",
      "validation micro-F1 @4: 0.11262376237623763\n",
      "validation micro-F1 @5: 0.10396039603960396\n",
      "validation micro-F1 @6: 0.09735973597359736\n",
      "validation micro-F1 @7: 0.09547383309759547\n",
      "validation micro-F1 @8: 0.09900990099009901\n",
      "validation micro-F1 @9: 0.09845984598459846\n",
      "validation micro-F1 @10: 0.09356435643564356\n"
     ]
    },
    {
     "name": "stderr",
     "output_type": "stream",
     "text": [
      "\r",
      "  6%|▋         | 292/4536 [8:41:08<126:14:17, 107.08s/it]"
     ]
    },
    {
     "name": "stdout",
     "output_type": "stream",
     "text": [
      "iter: 291, configuration: {'vectorizer_norm': 'l1', 'svm_degree': 5, 'medoid_normalization': 'standard', 'svm_kernel': 'poly', 'nb_medoids_ratio': 0.2, 'svm_gamma': 0.1, 'svm_c': 0.1}\n",
      "\n",
      "validation micro-F1 @1: 0.13366336633663367\n",
      "validation micro-F1 @2: 0.15099009900990099\n",
      "validation micro-F1 @3: 0.12871287128712872\n",
      "validation micro-F1 @4: 0.11386138613861387\n",
      "validation micro-F1 @5: 0.10594059405940594\n",
      "validation micro-F1 @6: 0.09818481848184818\n",
      "validation micro-F1 @7: 0.10254596888260255\n",
      "validation micro-F1 @8: 0.10024752475247525\n",
      "validation micro-F1 @9: 0.09955995599559957\n",
      "validation micro-F1 @10: 0.09752475247524753\n"
     ]
    },
    {
     "name": "stderr",
     "output_type": "stream",
     "text": [
      "\r",
      "  6%|▋         | 293/4536 [8:44:11<126:30:51, 107.34s/it]"
     ]
    },
    {
     "name": "stdout",
     "output_type": "stream",
     "text": [
      "iter: 292, configuration: {'vectorizer_norm': 'l2', 'svm_degree': 5, 'medoid_normalization': 'standard', 'svm_kernel': 'poly', 'nb_medoids_ratio': 0.2, 'svm_gamma': 0.1, 'svm_c': 0.1}\n",
      "\n",
      "validation micro-F1 @1: 0.13366336633663367\n",
      "validation micro-F1 @2: 0.14603960396039603\n",
      "validation micro-F1 @3: 0.12706270627062707\n",
      "validation micro-F1 @4: 0.11262376237623763\n",
      "validation micro-F1 @5: 0.10594059405940594\n",
      "validation micro-F1 @6: 0.10561056105610561\n",
      "validation micro-F1 @7: 0.10325318246110325\n",
      "validation micro-F1 @8: 0.10086633663366337\n",
      "validation micro-F1 @9: 0.09955995599559957\n",
      "validation micro-F1 @10: 0.09752475247524753\n"
     ]
    },
    {
     "name": "stderr",
     "output_type": "stream",
     "text": [
      "\r",
      "  6%|▋         | 294/4536 [8:46:58<126:43:29, 107.55s/it]"
     ]
    },
    {
     "name": "stdout",
     "output_type": "stream",
     "text": [
      "iter: 293, configuration: {'vectorizer_norm': None, 'svm_degree': 5, 'medoid_normalization': 'standard', 'svm_kernel': 'poly', 'nb_medoids_ratio': 0.2, 'svm_gamma': 0.1, 'svm_c': 0.1}\n",
      "\n",
      "validation micro-F1 @1: 0.14356435643564355\n",
      "validation micro-F1 @2: 0.15099009900990099\n",
      "validation micro-F1 @3: 0.12706270627062707\n",
      "validation micro-F1 @4: 0.11262376237623763\n",
      "validation micro-F1 @5: 0.10396039603960396\n",
      "validation micro-F1 @6: 0.10396039603960396\n",
      "validation micro-F1 @7: 0.09971711456859972\n",
      "validation micro-F1 @8: 0.10334158415841584\n",
      "validation micro-F1 @9: 0.09790979097909791\n",
      "validation micro-F1 @10: 0.09207920792079208\n"
     ]
    },
    {
     "name": "stderr",
     "output_type": "stream",
     "text": [
      "\r",
      "  7%|▋         | 295/4536 [8:47:48<126:27:49, 107.35s/it]"
     ]
    },
    {
     "name": "stdout",
     "output_type": "stream",
     "text": [
      "iter: 294, configuration: {'vectorizer_norm': 'l1', 'svm_degree': 5, 'medoid_normalization': 'standard', 'svm_kernel': 'rbf', 'nb_medoids_ratio': 0.2, 'svm_gamma': 0.2, 'svm_c': 0.1}\n",
      "\n",
      "validation micro-F1 @1: 0.12376237623762376\n",
      "validation micro-F1 @2: 0.13613861386138615\n",
      "validation micro-F1 @3: 0.12046204620462046\n",
      "validation micro-F1 @4: 0.11014851485148515\n",
      "validation micro-F1 @5: 0.10693069306930693\n",
      "validation micro-F1 @6: 0.10891089108910891\n",
      "validation micro-F1 @7: 0.10396039603960396\n",
      "validation micro-F1 @8: 0.10272277227722772\n",
      "validation micro-F1 @9: 0.09955995599559957\n",
      "validation micro-F1 @10: 0.09554455445544555\n"
     ]
    },
    {
     "name": "stderr",
     "output_type": "stream",
     "text": [
      "\r",
      "  7%|▋         | 296/4536 [8:49:04<126:18:37, 107.24s/it]"
     ]
    },
    {
     "name": "stdout",
     "output_type": "stream",
     "text": [
      "iter: 295, configuration: {'vectorizer_norm': 'l2', 'svm_degree': 5, 'medoid_normalization': 'standard', 'svm_kernel': 'rbf', 'nb_medoids_ratio': 0.2, 'svm_gamma': 0.2, 'svm_c': 0.1}\n",
      "\n",
      "validation micro-F1 @1: 0.12871287128712872\n",
      "validation micro-F1 @2: 0.12623762376237624\n",
      "validation micro-F1 @3: 0.1188118811881188\n",
      "validation micro-F1 @4: 0.11633663366336634\n",
      "validation micro-F1 @5: 0.10891089108910891\n",
      "validation micro-F1 @6: 0.10726072607260725\n",
      "validation micro-F1 @7: 0.10537482319660538\n",
      "validation micro-F1 @8: 0.10024752475247525\n",
      "validation micro-F1 @9: 0.09625962596259625\n",
      "validation micro-F1 @10: 0.09356435643564356\n"
     ]
    },
    {
     "name": "stderr",
     "output_type": "stream",
     "text": [
      "\r",
      "  7%|▋         | 297/4536 [8:56:11<127:32:57, 108.32s/it]"
     ]
    },
    {
     "name": "stdout",
     "output_type": "stream",
     "text": [
      "iter: 296, configuration: {'vectorizer_norm': None, 'svm_degree': 5, 'medoid_normalization': 'standard', 'svm_kernel': 'rbf', 'nb_medoids_ratio': 0.2, 'svm_gamma': 0.2, 'svm_c': 0.1}\n",
      "\n",
      "validation micro-F1 @1: 0.13861386138613863\n",
      "validation micro-F1 @2: 0.15099009900990099\n",
      "validation micro-F1 @3: 0.12871287128712872\n",
      "validation micro-F1 @4: 0.11386138613861387\n",
      "validation micro-F1 @5: 0.10495049504950495\n",
      "validation micro-F1 @6: 0.10726072607260725\n",
      "validation micro-F1 @7: 0.10113154172560113\n",
      "validation micro-F1 @8: 0.10024752475247525\n",
      "validation micro-F1 @9: 0.09900990099009901\n",
      "validation micro-F1 @10: 0.09405940594059406\n"
     ]
    },
    {
     "name": "stderr",
     "output_type": "stream",
     "text": [
      "\r",
      "  7%|▋         | 298/4536 [8:57:41<127:26:46, 108.26s/it]"
     ]
    },
    {
     "name": "stdout",
     "output_type": "stream",
     "text": [
      "iter: 297, configuration: {'vectorizer_norm': 'l1', 'svm_degree': 5, 'medoid_normalization': 'standard', 'svm_kernel': 'poly', 'nb_medoids_ratio': 0.2, 'svm_gamma': 0.2, 'svm_c': 0.1}\n",
      "\n",
      "validation micro-F1 @1: 0.13861386138613863\n",
      "validation micro-F1 @2: 0.15346534653465346\n",
      "validation micro-F1 @3: 0.12871287128712872\n",
      "validation micro-F1 @4: 0.11386138613861387\n",
      "validation micro-F1 @5: 0.10495049504950495\n",
      "validation micro-F1 @6: 0.10808580858085809\n",
      "validation micro-F1 @7: 0.10396039603960396\n",
      "validation micro-F1 @8: 0.10024752475247525\n",
      "validation micro-F1 @9: 0.09845984598459846\n",
      "validation micro-F1 @10: 0.09603960396039604\n"
     ]
    },
    {
     "name": "stderr",
     "output_type": "stream",
     "text": [
      "\r",
      "  7%|▋         | 299/4536 [9:00:47<127:43:13, 108.52s/it]"
     ]
    },
    {
     "name": "stdout",
     "output_type": "stream",
     "text": [
      "iter: 298, configuration: {'vectorizer_norm': 'l2', 'svm_degree': 5, 'medoid_normalization': 'standard', 'svm_kernel': 'poly', 'nb_medoids_ratio': 0.2, 'svm_gamma': 0.2, 'svm_c': 0.1}\n",
      "\n",
      "validation micro-F1 @1: 0.12871287128712872\n",
      "validation micro-F1 @2: 0.1188118811881188\n",
      "validation micro-F1 @3: 0.12376237623762376\n",
      "validation micro-F1 @4: 0.11262376237623763\n",
      "validation micro-F1 @5: 0.11089108910891089\n",
      "validation micro-F1 @6: 0.10808580858085809\n",
      "validation micro-F1 @7: 0.10608203677510608\n",
      "validation micro-F1 @8: 0.1021039603960396\n",
      "validation micro-F1 @9: 0.10176017601760176\n",
      "validation micro-F1 @10: 0.09851485148514852\n"
     ]
    },
    {
     "name": "stderr",
     "output_type": "stream",
     "text": [
      "\r",
      "  7%|▋         | 300/4536 [9:03:35<127:55:32, 108.72s/it]"
     ]
    },
    {
     "name": "stdout",
     "output_type": "stream",
     "text": [
      "iter: 299, configuration: {'vectorizer_norm': None, 'svm_degree': 5, 'medoid_normalization': 'standard', 'svm_kernel': 'poly', 'nb_medoids_ratio': 0.2, 'svm_gamma': 0.2, 'svm_c': 0.1}\n",
      "\n",
      "validation micro-F1 @1: 0.1485148514851485\n",
      "validation micro-F1 @2: 0.1485148514851485\n",
      "validation micro-F1 @3: 0.12706270627062707\n",
      "validation micro-F1 @4: 0.11386138613861387\n",
      "validation micro-F1 @5: 0.10396039603960396\n",
      "validation micro-F1 @6: 0.10396039603960396\n",
      "validation micro-F1 @7: 0.10254596888260255\n",
      "validation micro-F1 @8: 0.10396039603960396\n",
      "validation micro-F1 @9: 0.09955995599559957\n",
      "validation micro-F1 @10: 0.09504950495049505\n"
     ]
    },
    {
     "name": "stderr",
     "output_type": "stream",
     "text": [
      "\r",
      "  7%|▋         | 301/4536 [9:04:29<127:40:50, 108.54s/it]"
     ]
    },
    {
     "name": "stdout",
     "output_type": "stream",
     "text": [
      "iter: 300, configuration: {'vectorizer_norm': 'l1', 'svm_degree': 5, 'medoid_normalization': 'standard', 'svm_kernel': 'rbf', 'nb_medoids_ratio': 0.2, 'svm_gamma': 0.3, 'svm_c': 0.1}\n",
      "\n",
      "validation micro-F1 @1: 0.08415841584158416\n",
      "validation micro-F1 @2: 0.12623762376237624\n",
      "validation micro-F1 @3: 0.1188118811881188\n",
      "validation micro-F1 @4: 0.10643564356435643\n",
      "validation micro-F1 @5: 0.10198019801980197\n",
      "validation micro-F1 @6: 0.10396039603960396\n",
      "validation micro-F1 @7: 0.10325318246110325\n",
      "validation micro-F1 @8: 0.10272277227722772\n",
      "validation micro-F1 @9: 0.10066006600660066\n",
      "validation micro-F1 @10: 0.09702970297029703\n"
     ]
    },
    {
     "name": "stderr",
     "output_type": "stream",
     "text": [
      "\r",
      "  7%|▋         | 302/4536 [9:05:53<127:33:20, 108.46s/it]"
     ]
    },
    {
     "name": "stdout",
     "output_type": "stream",
     "text": [
      "iter: 301, configuration: {'vectorizer_norm': 'l2', 'svm_degree': 5, 'medoid_normalization': 'standard', 'svm_kernel': 'rbf', 'nb_medoids_ratio': 0.2, 'svm_gamma': 0.3, 'svm_c': 0.1}\n",
      "\n",
      "validation micro-F1 @1: 0.12871287128712872\n",
      "validation micro-F1 @2: 0.1188118811881188\n",
      "validation micro-F1 @3: 0.12871287128712872\n",
      "validation micro-F1 @4: 0.12004950495049505\n",
      "validation micro-F1 @5: 0.10396039603960396\n",
      "validation micro-F1 @6: 0.10066006600660066\n",
      "validation micro-F1 @7: 0.10466760961810467\n",
      "validation micro-F1 @8: 0.10457920792079207\n",
      "validation micro-F1 @9: 0.1001100110011001\n",
      "validation micro-F1 @10: 0.09801980198019802\n"
     ]
    },
    {
     "name": "stderr",
     "output_type": "stream",
     "text": [
      "\r",
      "  7%|▋         | 303/4536 [9:12:56<128:44:50, 109.49s/it]"
     ]
    },
    {
     "name": "stdout",
     "output_type": "stream",
     "text": [
      "iter: 302, configuration: {'vectorizer_norm': None, 'svm_degree': 5, 'medoid_normalization': 'standard', 'svm_kernel': 'rbf', 'nb_medoids_ratio': 0.2, 'svm_gamma': 0.3, 'svm_c': 0.1}\n",
      "\n",
      "validation micro-F1 @1: 0.13861386138613863\n",
      "validation micro-F1 @2: 0.15099009900990099\n",
      "validation micro-F1 @3: 0.12871287128712872\n",
      "validation micro-F1 @4: 0.11386138613861387\n",
      "validation micro-F1 @5: 0.10495049504950495\n",
      "validation micro-F1 @6: 0.09818481848184818\n",
      "validation micro-F1 @7: 0.10113154172560113\n",
      "validation micro-F1 @8: 0.09962871287128713\n",
      "validation micro-F1 @9: 0.09900990099009901\n",
      "validation micro-F1 @10: 0.09405940594059406\n"
     ]
    },
    {
     "name": "stderr",
     "output_type": "stream",
     "text": [
      "\r",
      "  7%|▋         | 304/4536 [9:14:46<128:42:57, 109.49s/it]"
     ]
    },
    {
     "name": "stdout",
     "output_type": "stream",
     "text": [
      "iter: 303, configuration: {'vectorizer_norm': 'l1', 'svm_degree': 5, 'medoid_normalization': 'standard', 'svm_kernel': 'poly', 'nb_medoids_ratio': 0.2, 'svm_gamma': 0.3, 'svm_c': 0.1}\n",
      "\n",
      "validation micro-F1 @1: 0.13861386138613863\n",
      "validation micro-F1 @2: 0.15099009900990099\n",
      "validation micro-F1 @3: 0.12871287128712872\n",
      "validation micro-F1 @4: 0.11386138613861387\n",
      "validation micro-F1 @5: 0.10396039603960396\n",
      "validation micro-F1 @6: 0.10726072607260725\n",
      "validation micro-F1 @7: 0.10325318246110325\n",
      "validation micro-F1 @8: 0.09900990099009901\n",
      "validation micro-F1 @9: 0.09845984598459846\n",
      "validation micro-F1 @10: 0.09702970297029703\n"
     ]
    },
    {
     "name": "stderr",
     "output_type": "stream",
     "text": [
      "\r",
      "  7%|▋         | 305/4536 [9:17:44<128:57:03, 109.72s/it]"
     ]
    },
    {
     "name": "stdout",
     "output_type": "stream",
     "text": [
      "iter: 304, configuration: {'vectorizer_norm': 'l2', 'svm_degree': 5, 'medoid_normalization': 'standard', 'svm_kernel': 'poly', 'nb_medoids_ratio': 0.2, 'svm_gamma': 0.3, 'svm_c': 0.1}\n",
      "\n",
      "validation micro-F1 @1: 0.13861386138613863\n",
      "validation micro-F1 @2: 0.12623762376237624\n",
      "validation micro-F1 @3: 0.1254125412541254\n",
      "validation micro-F1 @4: 0.1150990099009901\n",
      "validation micro-F1 @5: 0.10792079207920792\n",
      "validation micro-F1 @6: 0.10313531353135313\n",
      "validation micro-F1 @7: 0.10608203677510608\n",
      "validation micro-F1 @8: 0.10148514851485149\n",
      "validation micro-F1 @9: 0.09955995599559957\n",
      "validation micro-F1 @10: 0.09455445544554456\n"
     ]
    },
    {
     "name": "stderr",
     "output_type": "stream",
     "text": [
      "\r",
      "  7%|▋         | 306/4536 [9:20:42<129:10:53, 109.94s/it]"
     ]
    },
    {
     "name": "stdout",
     "output_type": "stream",
     "text": [
      "iter: 305, configuration: {'vectorizer_norm': None, 'svm_degree': 5, 'medoid_normalization': 'standard', 'svm_kernel': 'poly', 'nb_medoids_ratio': 0.2, 'svm_gamma': 0.3, 'svm_c': 0.1}\n",
      "\n",
      "validation micro-F1 @1: 0.14356435643564355\n",
      "validation micro-F1 @2: 0.1485148514851485\n",
      "validation micro-F1 @3: 0.12706270627062707\n",
      "validation micro-F1 @4: 0.11262376237623763\n",
      "validation micro-F1 @5: 0.10297029702970296\n",
      "validation micro-F1 @6: 0.09983498349834984\n",
      "validation micro-F1 @7: 0.09900990099009901\n",
      "validation micro-F1 @8: 0.09962871287128713\n",
      "validation micro-F1 @9: 0.09845984598459846\n",
      "validation micro-F1 @10: 0.09356435643564356\n"
     ]
    },
    {
     "name": "stderr",
     "output_type": "stream",
     "text": [
      "\r",
      "  7%|▋         | 307/4536 [9:21:41<128:57:26, 109.78s/it]"
     ]
    },
    {
     "name": "stdout",
     "output_type": "stream",
     "text": [
      "iter: 306, configuration: {'vectorizer_norm': 'l1', 'svm_degree': 5, 'medoid_normalization': 'standard', 'svm_kernel': 'rbf', 'nb_medoids_ratio': 0.2, 'svm_gamma': 0.5, 'svm_c': 0.1}\n",
      "\n",
      "validation micro-F1 @1: 0.15346534653465346\n",
      "validation micro-F1 @2: 0.14603960396039603\n",
      "validation micro-F1 @3: 0.13366336633663367\n",
      "validation micro-F1 @4: 0.11757425742574257\n",
      "validation micro-F1 @5: 0.1099009900990099\n",
      "validation micro-F1 @6: 0.11221122112211221\n",
      "validation micro-F1 @7: 0.11244695898161244\n",
      "validation micro-F1 @8: 0.10829207920792079\n",
      "validation micro-F1 @9: 0.10396039603960396\n",
      "validation micro-F1 @10: 0.09851485148514852\n"
     ]
    },
    {
     "name": "stderr",
     "output_type": "stream",
     "text": [
      "\r",
      "  7%|▋         | 308/4536 [9:23:17<128:52:31, 109.73s/it]"
     ]
    },
    {
     "name": "stdout",
     "output_type": "stream",
     "text": [
      "iter: 307, configuration: {'vectorizer_norm': 'l2', 'svm_degree': 5, 'medoid_normalization': 'standard', 'svm_kernel': 'rbf', 'nb_medoids_ratio': 0.2, 'svm_gamma': 0.5, 'svm_c': 0.1}\n",
      "\n",
      "validation micro-F1 @1: 0.1782178217821782\n",
      "validation micro-F1 @2: 0.14108910891089108\n",
      "validation micro-F1 @3: 0.1254125412541254\n",
      "validation micro-F1 @4: 0.11138613861386139\n",
      "validation micro-F1 @5: 0.10396039603960396\n",
      "validation micro-F1 @6: 0.10643564356435643\n",
      "validation micro-F1 @7: 0.10254596888260255\n",
      "validation micro-F1 @8: 0.10024752475247525\n",
      "validation micro-F1 @9: 0.10121012101210121\n",
      "validation micro-F1 @10: 0.09603960396039604\n"
     ]
    },
    {
     "name": "stderr",
     "output_type": "stream",
     "text": [
      "\r",
      "  7%|▋         | 309/4536 [9:30:14<130:00:41, 110.73s/it]"
     ]
    },
    {
     "name": "stdout",
     "output_type": "stream",
     "text": [
      "iter: 308, configuration: {'vectorizer_norm': None, 'svm_degree': 5, 'medoid_normalization': 'standard', 'svm_kernel': 'rbf', 'nb_medoids_ratio': 0.2, 'svm_gamma': 0.5, 'svm_c': 0.1}\n",
      "\n",
      "validation micro-F1 @1: 0.13861386138613863\n",
      "validation micro-F1 @2: 0.15099009900990099\n",
      "validation micro-F1 @3: 0.12871287128712872\n",
      "validation micro-F1 @4: 0.11386138613861387\n",
      "validation micro-F1 @5: 0.10495049504950495\n",
      "validation micro-F1 @6: 0.09818481848184818\n",
      "validation micro-F1 @7: 0.09759547383309759\n",
      "validation micro-F1 @8: 0.09653465346534654\n",
      "validation micro-F1 @9: 0.09900990099009901\n",
      "validation micro-F1 @10: 0.09405940594059406\n"
     ]
    },
    {
     "name": "stderr",
     "output_type": "stream",
     "text": [
      "\r",
      "  7%|▋         | 310/4536 [9:32:33<130:05:18, 110.82s/it]"
     ]
    },
    {
     "name": "stdout",
     "output_type": "stream",
     "text": [
      "iter: 309, configuration: {'vectorizer_norm': 'l1', 'svm_degree': 5, 'medoid_normalization': 'standard', 'svm_kernel': 'poly', 'nb_medoids_ratio': 0.2, 'svm_gamma': 0.5, 'svm_c': 0.1}\n",
      "\n",
      "validation micro-F1 @1: 0.13366336633663367\n",
      "validation micro-F1 @2: 0.15099009900990099\n",
      "validation micro-F1 @3: 0.12871287128712872\n",
      "validation micro-F1 @4: 0.11386138613861387\n",
      "validation micro-F1 @5: 0.10495049504950495\n",
      "validation micro-F1 @6: 0.10726072607260725\n",
      "validation micro-F1 @7: 0.10254596888260255\n",
      "validation micro-F1 @8: 0.09900990099009901\n",
      "validation micro-F1 @9: 0.09900990099009901\n",
      "validation micro-F1 @10: 0.09603960396039604\n"
     ]
    },
    {
     "name": "stderr",
     "output_type": "stream",
     "text": [
      "\r",
      "  7%|▋         | 311/4536 [9:35:18<130:15:45, 110.99s/it]"
     ]
    },
    {
     "name": "stdout",
     "output_type": "stream",
     "text": [
      "iter: 310, configuration: {'vectorizer_norm': 'l2', 'svm_degree': 5, 'medoid_normalization': 'standard', 'svm_kernel': 'poly', 'nb_medoids_ratio': 0.2, 'svm_gamma': 0.5, 'svm_c': 0.1}\n",
      "\n",
      "validation micro-F1 @1: 0.14356435643564355\n",
      "validation micro-F1 @2: 0.13861386138613863\n",
      "validation micro-F1 @3: 0.12706270627062707\n",
      "validation micro-F1 @4: 0.11262376237623763\n",
      "validation micro-F1 @5: 0.10396039603960396\n",
      "validation micro-F1 @6: 0.10231023102310231\n",
      "validation micro-F1 @7: 0.10113154172560113\n",
      "validation micro-F1 @8: 0.10024752475247525\n",
      "validation micro-F1 @9: 0.09790979097909791\n",
      "validation micro-F1 @10: 0.09554455445544555\n"
     ]
    },
    {
     "name": "stderr",
     "output_type": "stream",
     "text": [
      "\r",
      "  7%|▋         | 312/4536 [9:38:28<130:31:39, 111.25s/it]"
     ]
    },
    {
     "name": "stdout",
     "output_type": "stream",
     "text": [
      "iter: 311, configuration: {'vectorizer_norm': None, 'svm_degree': 5, 'medoid_normalization': 'standard', 'svm_kernel': 'poly', 'nb_medoids_ratio': 0.2, 'svm_gamma': 0.5, 'svm_c': 0.1}\n",
      "\n",
      "validation micro-F1 @1: 0.13366336633663367\n",
      "validation micro-F1 @2: 0.14356435643564355\n",
      "validation micro-F1 @3: 0.12211221122112212\n",
      "validation micro-F1 @4: 0.11262376237623763\n",
      "validation micro-F1 @5: 0.10495049504950495\n",
      "validation micro-F1 @6: 0.09735973597359736\n",
      "validation micro-F1 @7: 0.0983026874115983\n",
      "validation micro-F1 @8: 0.1021039603960396\n",
      "validation micro-F1 @9: 0.09955995599559957\n",
      "validation micro-F1 @10: 0.09405940594059406\n"
     ]
    },
    {
     "name": "stderr",
     "output_type": "stream",
     "text": [
      "\r",
      "  7%|▋         | 313/4536 [9:39:36<130:20:08, 111.11s/it]"
     ]
    },
    {
     "name": "stdout",
     "output_type": "stream",
     "text": [
      "iter: 312, configuration: {'vectorizer_norm': 'l1', 'svm_degree': 5, 'medoid_normalization': 'standard', 'svm_kernel': 'rbf', 'nb_medoids_ratio': 0.2, 'svm_gamma': 1.0, 'svm_c': 0.1}\n",
      "\n",
      "validation micro-F1 @1: 0.13366336633663367\n",
      "validation micro-F1 @2: 0.14356435643564355\n",
      "validation micro-F1 @3: 0.12706270627062707\n",
      "validation micro-F1 @4: 0.11262376237623763\n",
      "validation micro-F1 @5: 0.10495049504950495\n",
      "validation micro-F1 @6: 0.11138613861386139\n",
      "validation micro-F1 @7: 0.10891089108910891\n",
      "validation micro-F1 @8: 0.10396039603960396\n",
      "validation micro-F1 @9: 0.10121012101210121\n",
      "validation micro-F1 @10: 0.09653465346534654\n"
     ]
    },
    {
     "name": "stderr",
     "output_type": "stream",
     "text": [
      "\r",
      "  7%|▋         | 314/4536 [9:41:39<130:20:48, 111.14s/it]"
     ]
    },
    {
     "name": "stdout",
     "output_type": "stream",
     "text": [
      "iter: 313, configuration: {'vectorizer_norm': 'l2', 'svm_degree': 5, 'medoid_normalization': 'standard', 'svm_kernel': 'rbf', 'nb_medoids_ratio': 0.2, 'svm_gamma': 1.0, 'svm_c': 0.1}\n",
      "\n",
      "validation micro-F1 @1: 0.13366336633663367\n",
      "validation micro-F1 @2: 0.12871287128712872\n",
      "validation micro-F1 @3: 0.12211221122112212\n",
      "validation micro-F1 @4: 0.1051980198019802\n",
      "validation micro-F1 @5: 0.10594059405940594\n",
      "validation micro-F1 @6: 0.10313531353135313\n",
      "validation micro-F1 @7: 0.09618104667609619\n",
      "validation micro-F1 @8: 0.09653465346534654\n",
      "validation micro-F1 @9: 0.09295929592959296\n",
      "validation micro-F1 @10: 0.09405940594059406\n"
     ]
    },
    {
     "name": "stderr",
     "output_type": "stream",
     "text": [
      "\r",
      "  7%|▋         | 315/4536 [9:48:28<131:25:39, 112.09s/it]"
     ]
    },
    {
     "name": "stdout",
     "output_type": "stream",
     "text": [
      "iter: 314, configuration: {'vectorizer_norm': None, 'svm_degree': 5, 'medoid_normalization': 'standard', 'svm_kernel': 'rbf', 'nb_medoids_ratio': 0.2, 'svm_gamma': 1.0, 'svm_c': 0.1}\n",
      "\n",
      "validation micro-F1 @1: 0.13861386138613863\n",
      "validation micro-F1 @2: 0.15099009900990099\n",
      "validation micro-F1 @3: 0.12871287128712872\n",
      "validation micro-F1 @4: 0.11386138613861387\n",
      "validation micro-F1 @5: 0.10495049504950495\n",
      "validation micro-F1 @6: 0.09818481848184818\n",
      "validation micro-F1 @7: 0.09688826025459689\n",
      "validation micro-F1 @8: 0.09962871287128713\n",
      "validation micro-F1 @9: 0.09900990099009901\n",
      "validation micro-F1 @10: 0.09405940594059406\n"
     ]
    },
    {
     "name": "stderr",
     "output_type": "stream",
     "text": [
      "\r",
      "  7%|▋         | 316/4536 [9:51:31<131:39:32, 112.32s/it]"
     ]
    },
    {
     "name": "stdout",
     "output_type": "stream",
     "text": [
      "iter: 315, configuration: {'vectorizer_norm': 'l1', 'svm_degree': 5, 'medoid_normalization': 'standard', 'svm_kernel': 'poly', 'nb_medoids_ratio': 0.2, 'svm_gamma': 1.0, 'svm_c': 0.1}\n",
      "\n",
      "validation micro-F1 @1: 0.13366336633663367\n",
      "validation micro-F1 @2: 0.15099009900990099\n",
      "validation micro-F1 @3: 0.12871287128712872\n",
      "validation micro-F1 @4: 0.11386138613861387\n",
      "validation micro-F1 @5: 0.10693069306930693\n",
      "validation micro-F1 @6: 0.10808580858085809\n",
      "validation micro-F1 @7: 0.10254596888260255\n",
      "validation micro-F1 @8: 0.09962871287128713\n",
      "validation micro-F1 @9: 0.09955995599559957\n",
      "validation micro-F1 @10: 0.09603960396039604\n"
     ]
    },
    {
     "name": "stderr",
     "output_type": "stream",
     "text": [
      "\r",
      "  7%|▋         | 317/4536 [9:54:26<131:51:27, 112.51s/it]"
     ]
    },
    {
     "name": "stdout",
     "output_type": "stream",
     "text": [
      "iter: 316, configuration: {'vectorizer_norm': 'l2', 'svm_degree': 5, 'medoid_normalization': 'standard', 'svm_kernel': 'poly', 'nb_medoids_ratio': 0.2, 'svm_gamma': 1.0, 'svm_c': 0.1}\n",
      "\n",
      "validation micro-F1 @1: 0.13366336633663367\n",
      "validation micro-F1 @2: 0.16584158415841585\n",
      "validation micro-F1 @3: 0.13036303630363036\n",
      "validation micro-F1 @4: 0.11386138613861387\n",
      "validation micro-F1 @5: 0.10594059405940594\n",
      "validation micro-F1 @6: 0.10396039603960396\n",
      "validation micro-F1 @7: 0.09900990099009901\n",
      "validation micro-F1 @8: 0.0952970297029703\n",
      "validation micro-F1 @9: 0.09790979097909791\n",
      "validation micro-F1 @10: 0.09356435643564356\n"
     ]
    },
    {
     "name": "stderr",
     "output_type": "stream",
     "text": [
      "\r",
      "  7%|▋         | 318/4536 [9:57:16<132:02:27, 112.69s/it]"
     ]
    },
    {
     "name": "stdout",
     "output_type": "stream",
     "text": [
      "iter: 317, configuration: {'vectorizer_norm': None, 'svm_degree': 5, 'medoid_normalization': 'standard', 'svm_kernel': 'poly', 'nb_medoids_ratio': 0.2, 'svm_gamma': 1.0, 'svm_c': 0.1}\n",
      "\n",
      "validation micro-F1 @1: 0.13861386138613863\n",
      "validation micro-F1 @2: 0.14603960396039603\n",
      "validation micro-F1 @3: 0.12706270627062707\n",
      "validation micro-F1 @4: 0.11262376237623763\n",
      "validation micro-F1 @5: 0.10495049504950495\n",
      "validation micro-F1 @6: 0.10231023102310231\n",
      "validation micro-F1 @7: 0.10183875530410184\n",
      "validation micro-F1 @8: 0.10086633663366337\n",
      "validation micro-F1 @9: 0.09900990099009901\n",
      "validation micro-F1 @10: 0.09405940594059406\n"
     ]
    },
    {
     "name": "stderr",
     "output_type": "stream",
     "text": [
      "\r",
      "  7%|▋         | 319/4536 [9:57:50<131:43:05, 112.45s/it]"
     ]
    },
    {
     "name": "stdout",
     "output_type": "stream",
     "text": [
      "iter: 318, configuration: {'vectorizer_norm': 'l1', 'svm_degree': 5, 'medoid_normalization': 'standard', 'svm_kernel': 'rbf', 'nb_medoids_ratio': 0.2, 'svm_gamma': 'auto', 'svm_c': 0.1}\n",
      "\n",
      "validation micro-F1 @1: 0.009900990099009901\n",
      "validation micro-F1 @2: 0.0297029702970297\n",
      "validation micro-F1 @3: 0.0594059405940594\n",
      "validation micro-F1 @4: 0.0655940594059406\n",
      "validation micro-F1 @5: 0.06534653465346535\n",
      "validation micro-F1 @6: 0.06435643564356436\n",
      "validation micro-F1 @7: 0.06577086280056577\n",
      "validation micro-F1 @8: 0.06683168316831684\n",
      "validation micro-F1 @9: 0.06655665566556655\n",
      "validation micro-F1 @10: 0.06633663366336634\n"
     ]
    },
    {
     "name": "stderr",
     "output_type": "stream",
     "text": [
      "\r",
      "  7%|▋         | 320/4536 [9:58:25<131:24:17, 112.21s/it]"
     ]
    },
    {
     "name": "stdout",
     "output_type": "stream",
     "text": [
      "iter: 319, configuration: {'vectorizer_norm': 'l2', 'svm_degree': 5, 'medoid_normalization': 'standard', 'svm_kernel': 'rbf', 'nb_medoids_ratio': 0.2, 'svm_gamma': 'auto', 'svm_c': 0.1}\n",
      "\n",
      "validation micro-F1 @1: 0.14356435643564355\n",
      "validation micro-F1 @2: 0.15841584158415842\n",
      "validation micro-F1 @3: 0.1353135313531353\n",
      "validation micro-F1 @4: 0.1188118811881188\n",
      "validation micro-F1 @5: 0.10792079207920792\n",
      "validation micro-F1 @6: 0.10313531353135313\n",
      "validation micro-F1 @7: 0.10254596888260255\n",
      "validation micro-F1 @8: 0.1021039603960396\n",
      "validation micro-F1 @9: 0.09570957095709572\n",
      "validation micro-F1 @10: 0.0900990099009901\n"
     ]
    },
    {
     "name": "stderr",
     "output_type": "stream",
     "text": [
      "\r",
      "  7%|▋         | 321/4536 [10:01:36<131:39:34, 112.45s/it]"
     ]
    },
    {
     "name": "stdout",
     "output_type": "stream",
     "text": [
      "iter: 320, configuration: {'vectorizer_norm': None, 'svm_degree': 5, 'medoid_normalization': 'standard', 'svm_kernel': 'rbf', 'nb_medoids_ratio': 0.2, 'svm_gamma': 'auto', 'svm_c': 0.1}\n",
      "\n",
      "validation micro-F1 @1: 0.1188118811881188\n",
      "validation micro-F1 @2: 0.12376237623762376\n",
      "validation micro-F1 @3: 0.11716171617161716\n",
      "validation micro-F1 @4: 0.1051980198019802\n",
      "validation micro-F1 @5: 0.10297029702970296\n",
      "validation micro-F1 @6: 0.09983498349834984\n",
      "validation micro-F1 @7: 0.10678925035360678\n",
      "validation micro-F1 @8: 0.10396039603960396\n",
      "validation micro-F1 @9: 0.10066006600660066\n",
      "validation micro-F1 @10: 0.09504950495049505\n"
     ]
    },
    {
     "name": "stderr",
     "output_type": "stream",
     "text": [
      "\r",
      "  7%|▋         | 322/4536 [10:02:06<131:19:51, 112.20s/it]"
     ]
    },
    {
     "name": "stdout",
     "output_type": "stream",
     "text": [
      "iter: 321, configuration: {'vectorizer_norm': 'l1', 'svm_degree': 5, 'medoid_normalization': 'standard', 'svm_kernel': 'poly', 'nb_medoids_ratio': 0.2, 'svm_gamma': 'auto', 'svm_c': 0.1}\n",
      "\n",
      "validation micro-F1 @1: 0.0049504950495049506\n",
      "validation micro-F1 @2: 0.009900990099009901\n",
      "validation micro-F1 @3: 0.0165016501650165\n",
      "validation micro-F1 @4: 0.034653465346534656\n",
      "validation micro-F1 @5: 0.0504950495049505\n",
      "validation micro-F1 @6: 0.056105610561056105\n",
      "validation micro-F1 @7: 0.056577086280056574\n",
      "validation micro-F1 @8: 0.06621287128712872\n",
      "validation micro-F1 @9: 0.06820682068206821\n",
      "validation micro-F1 @10: 0.06881188118811882\n"
     ]
    },
    {
     "name": "stderr",
     "output_type": "stream",
     "text": [
      "\r",
      "  7%|▋         | 323/4536 [10:03:05<131:06:23, 112.03s/it]"
     ]
    },
    {
     "name": "stdout",
     "output_type": "stream",
     "text": [
      "iter: 322, configuration: {'vectorizer_norm': 'l2', 'svm_degree': 5, 'medoid_normalization': 'standard', 'svm_kernel': 'poly', 'nb_medoids_ratio': 0.2, 'svm_gamma': 'auto', 'svm_c': 0.1}\n",
      "\n",
      "validation micro-F1 @1: 0.1782178217821782\n",
      "validation micro-F1 @2: 0.1485148514851485\n",
      "validation micro-F1 @3: 0.12376237623762376\n",
      "validation micro-F1 @4: 0.12128712871287128\n",
      "validation micro-F1 @5: 0.11386138613861387\n",
      "validation micro-F1 @6: 0.10726072607260725\n",
      "validation micro-F1 @7: 0.1082036775106082\n",
      "validation micro-F1 @8: 0.10396039603960396\n",
      "validation micro-F1 @9: 0.09845984598459846\n",
      "validation micro-F1 @10: 0.09554455445544555\n"
     ]
    },
    {
     "name": "stderr",
     "output_type": "stream",
     "text": [
      "\r",
      "  7%|▋         | 324/4536 [10:05:59<131:17:47, 112.22s/it]"
     ]
    },
    {
     "name": "stdout",
     "output_type": "stream",
     "text": [
      "iter: 323, configuration: {'vectorizer_norm': None, 'svm_degree': 5, 'medoid_normalization': 'standard', 'svm_kernel': 'poly', 'nb_medoids_ratio': 0.2, 'svm_gamma': 'auto', 'svm_c': 0.1}\n",
      "\n",
      "validation micro-F1 @1: 0.13366336633663367\n",
      "validation micro-F1 @2: 0.1485148514851485\n",
      "validation micro-F1 @3: 0.12706270627062707\n",
      "validation micro-F1 @4: 0.11262376237623763\n",
      "validation micro-F1 @5: 0.10396039603960396\n",
      "validation micro-F1 @6: 0.10313531353135313\n",
      "validation micro-F1 @7: 0.10183875530410184\n",
      "validation micro-F1 @8: 0.10086633663366337\n",
      "validation micro-F1 @9: 0.09790979097909791\n",
      "validation micro-F1 @10: 0.09257425742574257\n"
     ]
    },
    {
     "name": "stderr",
     "output_type": "stream",
     "text": [
      "\r",
      "  7%|▋         | 325/4536 [10:07:06<131:06:09, 112.08s/it]"
     ]
    },
    {
     "name": "stdout",
     "output_type": "stream",
     "text": [
      "iter: 324, configuration: {'vectorizer_norm': 'l1', 'svm_degree': 3, 'medoid_normalization': 'standard', 'svm_kernel': 'rbf', 'nb_medoids_ratio': 0.2, 'svm_gamma': 0.1, 'svm_c': 1}\n",
      "\n",
      "validation micro-F1 @1: 0.1188118811881188\n",
      "validation micro-F1 @2: 0.14356435643564355\n",
      "validation micro-F1 @3: 0.12706270627062707\n",
      "validation micro-F1 @4: 0.1150990099009901\n",
      "validation micro-F1 @5: 0.10396039603960396\n",
      "validation micro-F1 @6: 0.10808580858085809\n",
      "validation micro-F1 @7: 0.10183875530410184\n",
      "validation micro-F1 @8: 0.09900990099009901\n",
      "validation micro-F1 @9: 0.09790979097909791\n",
      "validation micro-F1 @10: 0.09554455445544555\n"
     ]
    },
    {
     "name": "stderr",
     "output_type": "stream",
     "text": [
      "\r",
      "  7%|▋         | 326/4536 [10:08:24<130:57:02, 111.98s/it]"
     ]
    },
    {
     "name": "stdout",
     "output_type": "stream",
     "text": [
      "iter: 325, configuration: {'vectorizer_norm': 'l2', 'svm_degree': 3, 'medoid_normalization': 'standard', 'svm_kernel': 'rbf', 'nb_medoids_ratio': 0.2, 'svm_gamma': 0.1, 'svm_c': 1}\n",
      "\n",
      "validation micro-F1 @1: 0.13861386138613863\n",
      "validation micro-F1 @2: 0.13366336633663367\n",
      "validation micro-F1 @3: 0.13366336633663367\n",
      "validation micro-F1 @4: 0.11633663366336634\n",
      "validation micro-F1 @5: 0.10594059405940594\n",
      "validation micro-F1 @6: 0.10808580858085809\n",
      "validation micro-F1 @7: 0.10678925035360678\n",
      "validation micro-F1 @8: 0.10024752475247525\n",
      "validation micro-F1 @9: 0.09845984598459846\n",
      "validation micro-F1 @10: 0.09554455445544555\n"
     ]
    },
    {
     "name": "stderr",
     "output_type": "stream",
     "text": [
      "\r",
      "  7%|▋         | 327/4536 [10:15:53<132:07:34, 113.01s/it]"
     ]
    },
    {
     "name": "stdout",
     "output_type": "stream",
     "text": [
      "iter: 326, configuration: {'vectorizer_norm': None, 'svm_degree': 3, 'medoid_normalization': 'standard', 'svm_kernel': 'rbf', 'nb_medoids_ratio': 0.2, 'svm_gamma': 0.1, 'svm_c': 1}\n",
      "\n",
      "validation micro-F1 @1: 0.13366336633663367\n",
      "validation micro-F1 @2: 0.1485148514851485\n",
      "validation micro-F1 @3: 0.12706270627062707\n",
      "validation micro-F1 @4: 0.11386138613861387\n",
      "validation micro-F1 @5: 0.10495049504950495\n",
      "validation micro-F1 @6: 0.10726072607260725\n",
      "validation micro-F1 @7: 0.10183875530410184\n",
      "validation micro-F1 @8: 0.09962871287128713\n",
      "validation micro-F1 @9: 0.09900990099009901\n",
      "validation micro-F1 @10: 0.09405940594059406\n"
     ]
    },
    {
     "name": "stderr",
     "output_type": "stream",
     "text": [
      "\r",
      "  7%|▋         | 328/4536 [10:17:06<131:57:03, 112.89s/it]"
     ]
    },
    {
     "name": "stdout",
     "output_type": "stream",
     "text": [
      "iter: 327, configuration: {'vectorizer_norm': 'l1', 'svm_degree': 3, 'medoid_normalization': 'standard', 'svm_kernel': 'poly', 'nb_medoids_ratio': 0.2, 'svm_gamma': 0.1, 'svm_c': 1}\n",
      "\n",
      "validation micro-F1 @1: 0.13861386138613863\n",
      "validation micro-F1 @2: 0.14603960396039603\n",
      "validation micro-F1 @3: 0.12871287128712872\n",
      "validation micro-F1 @4: 0.1150990099009901\n",
      "validation micro-F1 @5: 0.11287128712871287\n",
      "validation micro-F1 @6: 0.10973597359735973\n",
      "validation micro-F1 @7: 0.10678925035360678\n",
      "validation micro-F1 @8: 0.10396039603960396\n",
      "validation micro-F1 @9: 0.09900990099009901\n",
      "validation micro-F1 @10: 0.09752475247524753\n"
     ]
    },
    {
     "name": "stderr",
     "output_type": "stream",
     "text": [
      "\r",
      "  7%|▋         | 329/4536 [10:19:13<131:58:16, 112.93s/it]"
     ]
    },
    {
     "name": "stdout",
     "output_type": "stream",
     "text": [
      "iter: 328, configuration: {'vectorizer_norm': 'l2', 'svm_degree': 3, 'medoid_normalization': 'standard', 'svm_kernel': 'poly', 'nb_medoids_ratio': 0.2, 'svm_gamma': 0.1, 'svm_c': 1}\n",
      "\n",
      "validation micro-F1 @1: 0.13861386138613863\n",
      "validation micro-F1 @2: 0.12871287128712872\n",
      "validation micro-F1 @3: 0.12376237623762376\n",
      "validation micro-F1 @4: 0.11633663366336634\n",
      "validation micro-F1 @5: 0.10495049504950495\n",
      "validation micro-F1 @6: 0.09735973597359736\n",
      "validation micro-F1 @7: 0.10113154172560113\n",
      "validation micro-F1 @8: 0.10148514851485149\n",
      "validation micro-F1 @9: 0.09845984598459846\n",
      "validation micro-F1 @10: 0.09702970297029703\n"
     ]
    },
    {
     "name": "stderr",
     "output_type": "stream",
     "text": [
      "\r",
      "  7%|▋         | 330/4536 [10:21:56<132:06:54, 113.08s/it]"
     ]
    },
    {
     "name": "stdout",
     "output_type": "stream",
     "text": [
      "iter: 329, configuration: {'vectorizer_norm': None, 'svm_degree': 3, 'medoid_normalization': 'standard', 'svm_kernel': 'poly', 'nb_medoids_ratio': 0.2, 'svm_gamma': 0.1, 'svm_c': 1}\n",
      "\n",
      "validation micro-F1 @1: 0.1485148514851485\n",
      "validation micro-F1 @2: 0.1485148514851485\n",
      "validation micro-F1 @3: 0.12211221122112212\n",
      "validation micro-F1 @4: 0.11262376237623763\n",
      "validation micro-F1 @5: 0.10297029702970296\n",
      "validation micro-F1 @6: 0.10066006600660066\n",
      "validation micro-F1 @7: 0.10183875530410184\n",
      "validation micro-F1 @8: 0.10334158415841584\n",
      "validation micro-F1 @9: 0.09790979097909791\n",
      "validation micro-F1 @10: 0.09306930693069307\n"
     ]
    },
    {
     "name": "stderr",
     "output_type": "stream",
     "text": [
      "\r",
      "  7%|▋         | 331/4536 [10:23:07<131:56:06, 112.95s/it]"
     ]
    },
    {
     "name": "stdout",
     "output_type": "stream",
     "text": [
      "iter: 330, configuration: {'vectorizer_norm': 'l1', 'svm_degree': 3, 'medoid_normalization': 'standard', 'svm_kernel': 'rbf', 'nb_medoids_ratio': 0.2, 'svm_gamma': 0.2, 'svm_c': 1}\n",
      "\n",
      "validation micro-F1 @1: 0.13861386138613863\n",
      "validation micro-F1 @2: 0.15346534653465346\n",
      "validation micro-F1 @3: 0.12871287128712872\n",
      "validation micro-F1 @4: 0.11262376237623763\n",
      "validation micro-F1 @5: 0.11089108910891089\n",
      "validation micro-F1 @6: 0.10643564356435643\n",
      "validation micro-F1 @7: 0.1082036775106082\n",
      "validation micro-F1 @8: 0.1051980198019802\n",
      "validation micro-F1 @9: 0.10066006600660066\n",
      "validation micro-F1 @10: 0.09851485148514852\n"
     ]
    },
    {
     "name": "stderr",
     "output_type": "stream",
     "text": [
      "\r",
      "  7%|▋         | 332/4536 [10:24:33<131:48:35, 112.87s/it]"
     ]
    },
    {
     "name": "stdout",
     "output_type": "stream",
     "text": [
      "iter: 331, configuration: {'vectorizer_norm': 'l2', 'svm_degree': 3, 'medoid_normalization': 'standard', 'svm_kernel': 'rbf', 'nb_medoids_ratio': 0.2, 'svm_gamma': 0.2, 'svm_c': 1}\n",
      "\n",
      "validation micro-F1 @1: 0.14356435643564355\n",
      "validation micro-F1 @2: 0.12871287128712872\n",
      "validation micro-F1 @3: 0.12376237623762376\n",
      "validation micro-F1 @4: 0.1150990099009901\n",
      "validation micro-F1 @5: 0.10594059405940594\n",
      "validation micro-F1 @6: 0.10726072607260725\n",
      "validation micro-F1 @7: 0.10678925035360678\n",
      "validation micro-F1 @8: 0.10457920792079207\n",
      "validation micro-F1 @9: 0.09955995599559957\n",
      "validation micro-F1 @10: 0.09653465346534654\n"
     ]
    },
    {
     "name": "stderr",
     "output_type": "stream",
     "text": [
      "\r",
      "  7%|▋         | 333/4536 [10:31:56<132:56:09, 113.86s/it]"
     ]
    },
    {
     "name": "stdout",
     "output_type": "stream",
     "text": [
      "iter: 332, configuration: {'vectorizer_norm': None, 'svm_degree': 3, 'medoid_normalization': 'standard', 'svm_kernel': 'rbf', 'nb_medoids_ratio': 0.2, 'svm_gamma': 0.2, 'svm_c': 1}\n",
      "\n",
      "validation micro-F1 @1: 0.13366336633663367\n",
      "validation micro-F1 @2: 0.15099009900990099\n",
      "validation micro-F1 @3: 0.12871287128712872\n",
      "validation micro-F1 @4: 0.11386138613861387\n",
      "validation micro-F1 @5: 0.10495049504950495\n",
      "validation micro-F1 @6: 0.10726072607260725\n",
      "validation micro-F1 @7: 0.10537482319660538\n",
      "validation micro-F1 @8: 0.10024752475247525\n",
      "validation micro-F1 @9: 0.09900990099009901\n",
      "validation micro-F1 @10: 0.09405940594059406\n"
     ]
    },
    {
     "name": "stderr",
     "output_type": "stream",
     "text": [
      "\r",
      "  7%|▋         | 334/4536 [10:33:13<132:46:27, 113.75s/it]"
     ]
    },
    {
     "name": "stdout",
     "output_type": "stream",
     "text": [
      "iter: 333, configuration: {'vectorizer_norm': 'l1', 'svm_degree': 3, 'medoid_normalization': 'standard', 'svm_kernel': 'poly', 'nb_medoids_ratio': 0.2, 'svm_gamma': 0.2, 'svm_c': 1}\n",
      "\n",
      "validation micro-F1 @1: 0.13366336633663367\n",
      "validation micro-F1 @2: 0.14603960396039603\n",
      "validation micro-F1 @3: 0.12871287128712872\n",
      "validation micro-F1 @4: 0.11386138613861387\n",
      "validation micro-F1 @5: 0.10495049504950495\n",
      "validation micro-F1 @6: 0.10726072607260725\n",
      "validation micro-F1 @7: 0.09971711456859972\n",
      "validation micro-F1 @8: 0.09653465346534654\n",
      "validation micro-F1 @9: 0.09845984598459846\n",
      "validation micro-F1 @10: 0.09752475247524753\n"
     ]
    },
    {
     "name": "stderr",
     "output_type": "stream",
     "text": [
      "\r",
      "  7%|▋         | 335/4536 [10:36:14<132:58:35, 113.95s/it]"
     ]
    },
    {
     "name": "stdout",
     "output_type": "stream",
     "text": [
      "iter: 334, configuration: {'vectorizer_norm': 'l2', 'svm_degree': 3, 'medoid_normalization': 'standard', 'svm_kernel': 'poly', 'nb_medoids_ratio': 0.2, 'svm_gamma': 0.2, 'svm_c': 1}\n",
      "\n",
      "validation micro-F1 @1: 0.13861386138613863\n",
      "validation micro-F1 @2: 0.15594059405940594\n",
      "validation micro-F1 @3: 0.1353135313531353\n",
      "validation micro-F1 @4: 0.11386138613861387\n",
      "validation micro-F1 @5: 0.10495049504950495\n",
      "validation micro-F1 @6: 0.09900990099009901\n",
      "validation micro-F1 @7: 0.0983026874115983\n",
      "validation micro-F1 @8: 0.0983910891089109\n",
      "validation micro-F1 @9: 0.09900990099009901\n",
      "validation micro-F1 @10: 0.09603960396039604\n"
     ]
    },
    {
     "name": "stderr",
     "output_type": "stream",
     "text": [
      "\r",
      "  7%|▋         | 336/4536 [10:39:21<133:12:04, 114.17s/it]"
     ]
    },
    {
     "name": "stdout",
     "output_type": "stream",
     "text": [
      "iter: 335, configuration: {'vectorizer_norm': None, 'svm_degree': 3, 'medoid_normalization': 'standard', 'svm_kernel': 'poly', 'nb_medoids_ratio': 0.2, 'svm_gamma': 0.2, 'svm_c': 1}\n",
      "\n",
      "validation micro-F1 @1: 0.13366336633663367\n",
      "validation micro-F1 @2: 0.14603960396039603\n",
      "validation micro-F1 @3: 0.12046204620462046\n",
      "validation micro-F1 @4: 0.11138613861386139\n",
      "validation micro-F1 @5: 0.10495049504950495\n",
      "validation micro-F1 @6: 0.10396039603960396\n",
      "validation micro-F1 @7: 0.10042432814710042\n",
      "validation micro-F1 @8: 0.10024752475247525\n",
      "validation micro-F1 @9: 0.0968096809680968\n",
      "validation micro-F1 @10: 0.09356435643564356\n"
     ]
    },
    {
     "name": "stderr",
     "output_type": "stream",
     "text": [
      "\r",
      "  7%|▋         | 337/4536 [10:40:35<133:01:39, 114.05s/it]"
     ]
    },
    {
     "name": "stdout",
     "output_type": "stream",
     "text": [
      "iter: 336, configuration: {'vectorizer_norm': 'l1', 'svm_degree': 3, 'medoid_normalization': 'standard', 'svm_kernel': 'rbf', 'nb_medoids_ratio': 0.2, 'svm_gamma': 0.3, 'svm_c': 1}\n",
      "\n",
      "validation micro-F1 @1: 0.12871287128712872\n",
      "validation micro-F1 @2: 0.12871287128712872\n",
      "validation micro-F1 @3: 0.12706270627062707\n",
      "validation micro-F1 @4: 0.12376237623762376\n",
      "validation micro-F1 @5: 0.11683168316831684\n",
      "validation micro-F1 @6: 0.11303630363036303\n",
      "validation micro-F1 @7: 0.1074964639321075\n",
      "validation micro-F1 @8: 0.10457920792079207\n",
      "validation micro-F1 @9: 0.1001100110011001\n",
      "validation micro-F1 @10: 0.09801980198019802\n"
     ]
    },
    {
     "name": "stderr",
     "output_type": "stream",
     "text": [
      "\r",
      "  7%|▋         | 338/4536 [10:42:09<132:55:36, 113.99s/it]"
     ]
    },
    {
     "name": "stdout",
     "output_type": "stream",
     "text": [
      "iter: 337, configuration: {'vectorizer_norm': 'l2', 'svm_degree': 3, 'medoid_normalization': 'standard', 'svm_kernel': 'rbf', 'nb_medoids_ratio': 0.2, 'svm_gamma': 0.3, 'svm_c': 1}\n",
      "\n",
      "validation micro-F1 @1: 0.13861386138613863\n",
      "validation micro-F1 @2: 0.13613861386138615\n",
      "validation micro-F1 @3: 0.12871287128712872\n",
      "validation micro-F1 @4: 0.11138613861386139\n",
      "validation micro-F1 @5: 0.10891089108910891\n",
      "validation micro-F1 @6: 0.10396039603960396\n",
      "validation micro-F1 @7: 0.0983026874115983\n",
      "validation micro-F1 @8: 0.1021039603960396\n",
      "validation micro-F1 @9: 0.09955995599559957\n",
      "validation micro-F1 @10: 0.09702970297029703\n"
     ]
    },
    {
     "name": "stderr",
     "output_type": "stream",
     "text": [
      "\r",
      "  7%|▋         | 339/4536 [10:49:26<134:00:27, 114.95s/it]"
     ]
    },
    {
     "name": "stdout",
     "output_type": "stream",
     "text": [
      "iter: 338, configuration: {'vectorizer_norm': None, 'svm_degree': 3, 'medoid_normalization': 'standard', 'svm_kernel': 'rbf', 'nb_medoids_ratio': 0.2, 'svm_gamma': 0.3, 'svm_c': 1}\n",
      "\n",
      "validation micro-F1 @1: 0.13861386138613863\n",
      "validation micro-F1 @2: 0.15099009900990099\n",
      "validation micro-F1 @3: 0.12871287128712872\n",
      "validation micro-F1 @4: 0.11386138613861387\n",
      "validation micro-F1 @5: 0.10495049504950495\n",
      "validation micro-F1 @6: 0.10726072607260725\n",
      "validation micro-F1 @7: 0.10466760961810467\n",
      "validation micro-F1 @8: 0.09962871287128713\n",
      "validation micro-F1 @9: 0.09900990099009901\n",
      "validation micro-F1 @10: 0.09405940594059406\n"
     ]
    },
    {
     "name": "stderr",
     "output_type": "stream",
     "text": [
      "\r",
      "  7%|▋         | 340/4536 [10:50:49<133:51:58, 114.85s/it]"
     ]
    },
    {
     "name": "stdout",
     "output_type": "stream",
     "text": [
      "iter: 339, configuration: {'vectorizer_norm': 'l1', 'svm_degree': 3, 'medoid_normalization': 'standard', 'svm_kernel': 'poly', 'nb_medoids_ratio': 0.2, 'svm_gamma': 0.3, 'svm_c': 1}\n",
      "\n",
      "validation micro-F1 @1: 0.13366336633663367\n",
      "validation micro-F1 @2: 0.15099009900990099\n",
      "validation micro-F1 @3: 0.13366336633663367\n",
      "validation micro-F1 @4: 0.11386138613861387\n",
      "validation micro-F1 @5: 0.10693069306930693\n",
      "validation micro-F1 @6: 0.10808580858085809\n",
      "validation micro-F1 @7: 0.10608203677510608\n",
      "validation micro-F1 @8: 0.10643564356435643\n",
      "validation micro-F1 @9: 0.10231023102310231\n",
      "validation micro-F1 @10: 0.09752475247524753\n"
     ]
    },
    {
     "name": "stderr",
     "output_type": "stream",
     "text": [
      "\r",
      "  8%|▊         | 341/4536 [10:54:24<134:10:35, 115.15s/it]"
     ]
    },
    {
     "name": "stdout",
     "output_type": "stream",
     "text": [
      "iter: 340, configuration: {'vectorizer_norm': 'l2', 'svm_degree': 3, 'medoid_normalization': 'standard', 'svm_kernel': 'poly', 'nb_medoids_ratio': 0.2, 'svm_gamma': 0.3, 'svm_c': 1}\n",
      "\n",
      "validation micro-F1 @1: 0.13861386138613863\n",
      "validation micro-F1 @2: 0.15099009900990099\n",
      "validation micro-F1 @3: 0.12871287128712872\n",
      "validation micro-F1 @4: 0.11386138613861387\n",
      "validation micro-F1 @5: 0.10495049504950495\n",
      "validation micro-F1 @6: 0.10313531353135313\n",
      "validation micro-F1 @7: 0.10608203677510608\n",
      "validation micro-F1 @8: 0.10024752475247525\n",
      "validation micro-F1 @9: 0.09955995599559957\n",
      "validation micro-F1 @10: 0.09554455445544555\n"
     ]
    },
    {
     "name": "stderr",
     "output_type": "stream",
     "text": [
      "\r",
      "  8%|▊         | 342/4536 [10:57:06<134:18:19, 115.28s/it]"
     ]
    },
    {
     "name": "stdout",
     "output_type": "stream",
     "text": [
      "iter: 341, configuration: {'vectorizer_norm': None, 'svm_degree': 3, 'medoid_normalization': 'standard', 'svm_kernel': 'poly', 'nb_medoids_ratio': 0.2, 'svm_gamma': 0.3, 'svm_c': 1}\n",
      "\n",
      "validation micro-F1 @1: 0.1485148514851485\n",
      "validation micro-F1 @2: 0.14356435643564355\n",
      "validation micro-F1 @3: 0.1254125412541254\n",
      "validation micro-F1 @4: 0.11262376237623763\n",
      "validation micro-F1 @5: 0.10495049504950495\n",
      "validation micro-F1 @6: 0.10313531353135313\n",
      "validation micro-F1 @7: 0.10042432814710042\n",
      "validation micro-F1 @8: 0.09900990099009901\n",
      "validation micro-F1 @9: 0.09900990099009901\n",
      "validation micro-F1 @10: 0.09405940594059406\n"
     ]
    },
    {
     "name": "stderr",
     "output_type": "stream",
     "text": [
      "\r",
      "  8%|▊         | 343/4536 [10:58:22<134:08:16, 115.17s/it]"
     ]
    },
    {
     "name": "stdout",
     "output_type": "stream",
     "text": [
      "iter: 342, configuration: {'vectorizer_norm': 'l1', 'svm_degree': 3, 'medoid_normalization': 'standard', 'svm_kernel': 'rbf', 'nb_medoids_ratio': 0.2, 'svm_gamma': 0.5, 'svm_c': 1}\n",
      "\n",
      "validation micro-F1 @1: 0.13861386138613863\n",
      "validation micro-F1 @2: 0.14356435643564355\n",
      "validation micro-F1 @3: 0.132013201320132\n",
      "validation micro-F1 @4: 0.12004950495049505\n",
      "validation micro-F1 @5: 0.10792079207920792\n",
      "validation micro-F1 @6: 0.10643564356435643\n",
      "validation micro-F1 @7: 0.10396039603960396\n",
      "validation micro-F1 @8: 0.1021039603960396\n",
      "validation micro-F1 @9: 0.09900990099009901\n",
      "validation micro-F1 @10: 0.09801980198019802\n"
     ]
    },
    {
     "name": "stderr",
     "output_type": "stream",
     "text": [
      "\r",
      "  8%|▊         | 344/4536 [11:00:08<134:04:25, 115.14s/it]"
     ]
    },
    {
     "name": "stdout",
     "output_type": "stream",
     "text": [
      "iter: 343, configuration: {'vectorizer_norm': 'l2', 'svm_degree': 3, 'medoid_normalization': 'standard', 'svm_kernel': 'rbf', 'nb_medoids_ratio': 0.2, 'svm_gamma': 0.5, 'svm_c': 1}\n",
      "\n",
      "validation micro-F1 @1: 0.15346534653465346\n",
      "validation micro-F1 @2: 0.15099009900990099\n",
      "validation micro-F1 @3: 0.1254125412541254\n",
      "validation micro-F1 @4: 0.11757425742574257\n",
      "validation micro-F1 @5: 0.11089108910891089\n",
      "validation micro-F1 @6: 0.10313531353135313\n",
      "validation micro-F1 @7: 0.10042432814710042\n",
      "validation micro-F1 @8: 0.09900990099009901\n",
      "validation micro-F1 @9: 0.09790979097909791\n",
      "validation micro-F1 @10: 0.09455445544554456\n"
     ]
    },
    {
     "name": "stderr",
     "output_type": "stream",
     "text": [
      "\r",
      "  8%|▊         | 345/4536 [11:07:16<135:06:00, 116.05s/it]"
     ]
    },
    {
     "name": "stdout",
     "output_type": "stream",
     "text": [
      "iter: 344, configuration: {'vectorizer_norm': None, 'svm_degree': 3, 'medoid_normalization': 'standard', 'svm_kernel': 'rbf', 'nb_medoids_ratio': 0.2, 'svm_gamma': 0.5, 'svm_c': 1}\n",
      "\n",
      "validation micro-F1 @1: 0.13861386138613863\n",
      "validation micro-F1 @2: 0.15099009900990099\n",
      "validation micro-F1 @3: 0.12871287128712872\n",
      "validation micro-F1 @4: 0.11386138613861387\n",
      "validation micro-F1 @5: 0.10495049504950495\n",
      "validation micro-F1 @6: 0.09818481848184818\n",
      "validation micro-F1 @7: 0.10113154172560113\n",
      "validation micro-F1 @8: 0.09962871287128713\n",
      "validation micro-F1 @9: 0.09900990099009901\n",
      "validation micro-F1 @10: 0.09405940594059406\n"
     ]
    },
    {
     "name": "stderr",
     "output_type": "stream",
     "text": [
      "\r",
      "  8%|▊         | 346/4536 [11:08:49<134:59:23, 115.98s/it]"
     ]
    },
    {
     "name": "stdout",
     "output_type": "stream",
     "text": [
      "iter: 345, configuration: {'vectorizer_norm': 'l1', 'svm_degree': 3, 'medoid_normalization': 'standard', 'svm_kernel': 'poly', 'nb_medoids_ratio': 0.2, 'svm_gamma': 0.5, 'svm_c': 1}\n",
      "\n",
      "validation micro-F1 @1: 0.14356435643564355\n",
      "validation micro-F1 @2: 0.15099009900990099\n",
      "validation micro-F1 @3: 0.12211221122112212\n",
      "validation micro-F1 @4: 0.11262376237623763\n",
      "validation micro-F1 @5: 0.10792079207920792\n",
      "validation micro-F1 @6: 0.10726072607260725\n",
      "validation micro-F1 @7: 0.10537482319660538\n",
      "validation micro-F1 @8: 0.10148514851485149\n",
      "validation micro-F1 @9: 0.09955995599559957\n",
      "validation micro-F1 @10: 0.09801980198019802\n"
     ]
    },
    {
     "name": "stderr",
     "output_type": "stream",
     "text": [
      "\r",
      "  8%|▊         | 347/4536 [11:12:22<135:16:55, 116.26s/it]"
     ]
    },
    {
     "name": "stdout",
     "output_type": "stream",
     "text": [
      "iter: 346, configuration: {'vectorizer_norm': 'l2', 'svm_degree': 3, 'medoid_normalization': 'standard', 'svm_kernel': 'poly', 'nb_medoids_ratio': 0.2, 'svm_gamma': 0.5, 'svm_c': 1}\n",
      "\n",
      "validation micro-F1 @1: 0.14356435643564355\n",
      "validation micro-F1 @2: 0.13366336633663367\n",
      "validation micro-F1 @3: 0.12871287128712872\n",
      "validation micro-F1 @4: 0.11633663366336634\n",
      "validation micro-F1 @5: 0.10396039603960396\n",
      "validation micro-F1 @6: 0.10478547854785479\n",
      "validation micro-F1 @7: 0.10396039603960396\n",
      "validation micro-F1 @8: 0.10024752475247525\n",
      "validation micro-F1 @9: 0.1001100110011001\n",
      "validation micro-F1 @10: 0.09554455445544555\n"
     ]
    },
    {
     "name": "stderr",
     "output_type": "stream",
     "text": [
      "\r",
      "  8%|▊         | 348/4536 [11:15:48<135:33:00, 116.52s/it]"
     ]
    },
    {
     "name": "stdout",
     "output_type": "stream",
     "text": [
      "iter: 347, configuration: {'vectorizer_norm': None, 'svm_degree': 3, 'medoid_normalization': 'standard', 'svm_kernel': 'poly', 'nb_medoids_ratio': 0.2, 'svm_gamma': 0.5, 'svm_c': 1}\n",
      "\n",
      "validation micro-F1 @1: 0.13861386138613863\n",
      "validation micro-F1 @2: 0.14603960396039603\n",
      "validation micro-F1 @3: 0.12706270627062707\n",
      "validation micro-F1 @4: 0.11633663366336634\n",
      "validation micro-F1 @5: 0.10495049504950495\n",
      "validation micro-F1 @6: 0.09818481848184818\n",
      "validation micro-F1 @7: 0.09900990099009901\n",
      "validation micro-F1 @8: 0.10086633663366337\n",
      "validation micro-F1 @9: 0.09790979097909791\n",
      "validation micro-F1 @10: 0.09405940594059406\n"
     ]
    },
    {
     "name": "stderr",
     "output_type": "stream",
     "text": [
      "\r",
      "  8%|▊         | 349/4536 [11:17:08<135:23:45, 116.41s/it]"
     ]
    },
    {
     "name": "stdout",
     "output_type": "stream",
     "text": [
      "iter: 348, configuration: {'vectorizer_norm': 'l1', 'svm_degree': 3, 'medoid_normalization': 'standard', 'svm_kernel': 'rbf', 'nb_medoids_ratio': 0.2, 'svm_gamma': 1.0, 'svm_c': 1}\n",
      "\n",
      "validation micro-F1 @1: 0.13366336633663367\n",
      "validation micro-F1 @2: 0.14108910891089108\n",
      "validation micro-F1 @3: 0.1254125412541254\n",
      "validation micro-F1 @4: 0.11014851485148515\n",
      "validation micro-F1 @5: 0.11287128712871287\n",
      "validation micro-F1 @6: 0.10643564356435643\n",
      "validation micro-F1 @7: 0.10466760961810467\n",
      "validation micro-F1 @8: 0.10334158415841584\n",
      "validation micro-F1 @9: 0.10066006600660066\n",
      "validation micro-F1 @10: 0.09950495049504951\n"
     ]
    },
    {
     "name": "stderr",
     "output_type": "stream",
     "text": [
      "\r",
      "  8%|▊         | 350/4536 [11:19:25<135:25:50, 116.47s/it]"
     ]
    },
    {
     "name": "stdout",
     "output_type": "stream",
     "text": [
      "iter: 349, configuration: {'vectorizer_norm': 'l2', 'svm_degree': 3, 'medoid_normalization': 'standard', 'svm_kernel': 'rbf', 'nb_medoids_ratio': 0.2, 'svm_gamma': 1.0, 'svm_c': 1}\n",
      "\n",
      "validation micro-F1 @1: 0.12871287128712872\n",
      "validation micro-F1 @2: 0.11386138613861387\n",
      "validation micro-F1 @3: 0.11386138613861387\n",
      "validation micro-F1 @4: 0.11138613861386139\n",
      "validation micro-F1 @5: 0.11287128712871287\n",
      "validation micro-F1 @6: 0.10891089108910891\n",
      "validation micro-F1 @7: 0.10678925035360678\n",
      "validation micro-F1 @8: 0.10396039603960396\n",
      "validation micro-F1 @9: 0.09900990099009901\n",
      "validation micro-F1 @10: 0.09207920792079208\n"
     ]
    },
    {
     "name": "stderr",
     "output_type": "stream",
     "text": [
      "\r",
      "  8%|▊         | 351/4536 [11:26:27<136:24:37, 117.34s/it]"
     ]
    },
    {
     "name": "stdout",
     "output_type": "stream",
     "text": [
      "iter: 350, configuration: {'vectorizer_norm': None, 'svm_degree': 3, 'medoid_normalization': 'standard', 'svm_kernel': 'rbf', 'nb_medoids_ratio': 0.2, 'svm_gamma': 1.0, 'svm_c': 1}\n",
      "\n",
      "validation micro-F1 @1: 0.13861386138613863\n",
      "validation micro-F1 @2: 0.15099009900990099\n",
      "validation micro-F1 @3: 0.12871287128712872\n",
      "validation micro-F1 @4: 0.11386138613861387\n",
      "validation micro-F1 @5: 0.10495049504950495\n",
      "validation micro-F1 @6: 0.10726072607260725\n",
      "validation micro-F1 @7: 0.10113154172560113\n",
      "validation micro-F1 @8: 0.09962871287128713\n",
      "validation micro-F1 @9: 0.09900990099009901\n",
      "validation micro-F1 @10: 0.09405940594059406\n"
     ]
    },
    {
     "name": "stderr",
     "output_type": "stream",
     "text": [
      "\r",
      "  8%|▊         | 352/4536 [11:28:22<136:22:15, 117.34s/it]"
     ]
    },
    {
     "name": "stdout",
     "output_type": "stream",
     "text": [
      "iter: 351, configuration: {'vectorizer_norm': 'l1', 'svm_degree': 3, 'medoid_normalization': 'standard', 'svm_kernel': 'poly', 'nb_medoids_ratio': 0.2, 'svm_gamma': 1.0, 'svm_c': 1}\n",
      "\n",
      "validation micro-F1 @1: 0.13861386138613863\n",
      "validation micro-F1 @2: 0.13366336633663367\n",
      "validation micro-F1 @3: 0.12706270627062707\n",
      "validation micro-F1 @4: 0.11386138613861387\n",
      "validation micro-F1 @5: 0.10891089108910891\n",
      "validation micro-F1 @6: 0.10478547854785479\n",
      "validation micro-F1 @7: 0.10113154172560113\n",
      "validation micro-F1 @8: 0.09962871287128713\n",
      "validation micro-F1 @9: 0.09845984598459846\n",
      "validation micro-F1 @10: 0.09653465346534654\n"
     ]
    },
    {
     "name": "stderr",
     "output_type": "stream",
     "text": [
      "\r",
      "  8%|▊         | 353/4536 [11:32:10<136:42:14, 117.65s/it]"
     ]
    },
    {
     "name": "stdout",
     "output_type": "stream",
     "text": [
      "iter: 352, configuration: {'vectorizer_norm': 'l2', 'svm_degree': 3, 'medoid_normalization': 'standard', 'svm_kernel': 'poly', 'nb_medoids_ratio': 0.2, 'svm_gamma': 1.0, 'svm_c': 1}\n",
      "\n",
      "validation micro-F1 @1: 0.13861386138613863\n",
      "validation micro-F1 @2: 0.1485148514851485\n",
      "validation micro-F1 @3: 0.12871287128712872\n",
      "validation micro-F1 @4: 0.11386138613861387\n",
      "validation micro-F1 @5: 0.10693069306930693\n",
      "validation micro-F1 @6: 0.10313531353135313\n",
      "validation micro-F1 @7: 0.10042432814710042\n",
      "validation micro-F1 @8: 0.0983910891089109\n",
      "validation micro-F1 @9: 0.09460946094609461\n",
      "validation micro-F1 @10: 0.09405940594059406\n"
     ]
    },
    {
     "name": "stderr",
     "output_type": "stream",
     "text": [
      "\r",
      "  8%|▊         | 354/4536 [11:34:54<136:49:25, 117.78s/it]"
     ]
    },
    {
     "name": "stdout",
     "output_type": "stream",
     "text": [
      "iter: 353, configuration: {'vectorizer_norm': None, 'svm_degree': 3, 'medoid_normalization': 'standard', 'svm_kernel': 'poly', 'nb_medoids_ratio': 0.2, 'svm_gamma': 1.0, 'svm_c': 1}\n",
      "\n",
      "validation micro-F1 @1: 0.13366336633663367\n",
      "validation micro-F1 @2: 0.14108910891089108\n",
      "validation micro-F1 @3: 0.12211221122112212\n",
      "validation micro-F1 @4: 0.11386138613861387\n",
      "validation micro-F1 @5: 0.10594059405940594\n",
      "validation micro-F1 @6: 0.10066006600660066\n",
      "validation micro-F1 @7: 0.10042432814710042\n",
      "validation micro-F1 @8: 0.09715346534653466\n",
      "validation micro-F1 @9: 0.09735973597359736\n",
      "validation micro-F1 @10: 0.09108910891089109\n"
     ]
    },
    {
     "name": "stderr",
     "output_type": "stream",
     "text": [
      "\r",
      "  8%|▊         | 355/4536 [11:35:34<136:32:04, 117.56s/it]"
     ]
    },
    {
     "name": "stdout",
     "output_type": "stream",
     "text": [
      "iter: 354, configuration: {'vectorizer_norm': 'l1', 'svm_degree': 3, 'medoid_normalization': 'standard', 'svm_kernel': 'rbf', 'nb_medoids_ratio': 0.2, 'svm_gamma': 'auto', 'svm_c': 1}\n",
      "\n",
      "validation micro-F1 @1: 0.12376237623762376\n",
      "validation micro-F1 @2: 0.11633663366336634\n",
      "validation micro-F1 @3: 0.12376237623762376\n",
      "validation micro-F1 @4: 0.11386138613861387\n",
      "validation micro-F1 @5: 0.10495049504950495\n",
      "validation micro-F1 @6: 0.10396039603960396\n",
      "validation micro-F1 @7: 0.10396039603960396\n",
      "validation micro-F1 @8: 0.10024752475247525\n",
      "validation micro-F1 @9: 0.09735973597359736\n",
      "validation micro-F1 @10: 0.09207920792079208\n"
     ]
    },
    {
     "name": "stderr",
     "output_type": "stream",
     "text": [
      "\r",
      "  8%|▊         | 356/4536 [11:36:33<136:18:39, 117.40s/it]"
     ]
    },
    {
     "name": "stdout",
     "output_type": "stream",
     "text": [
      "iter: 355, configuration: {'vectorizer_norm': 'l2', 'svm_degree': 3, 'medoid_normalization': 'standard', 'svm_kernel': 'rbf', 'nb_medoids_ratio': 0.2, 'svm_gamma': 'auto', 'svm_c': 1}\n",
      "\n",
      "validation micro-F1 @1: 0.1485148514851485\n",
      "validation micro-F1 @2: 0.15099009900990099\n",
      "validation micro-F1 @3: 0.12871287128712872\n",
      "validation micro-F1 @4: 0.1188118811881188\n",
      "validation micro-F1 @5: 0.10891089108910891\n",
      "validation micro-F1 @6: 0.10643564356435643\n",
      "validation micro-F1 @7: 0.10396039603960396\n",
      "validation micro-F1 @8: 0.10148514851485149\n",
      "validation micro-F1 @9: 0.09735973597359736\n",
      "validation micro-F1 @10: 0.09504950495049505\n"
     ]
    },
    {
     "name": "stderr",
     "output_type": "stream",
     "text": [
      "\r",
      "  8%|▊         | 357/4536 [11:40:24<136:38:54, 117.72s/it]"
     ]
    },
    {
     "name": "stdout",
     "output_type": "stream",
     "text": [
      "iter: 356, configuration: {'vectorizer_norm': None, 'svm_degree': 3, 'medoid_normalization': 'standard', 'svm_kernel': 'rbf', 'nb_medoids_ratio': 0.2, 'svm_gamma': 'auto', 'svm_c': 1}\n",
      "\n",
      "validation micro-F1 @1: 0.0891089108910891\n",
      "validation micro-F1 @2: 0.10891089108910891\n",
      "validation micro-F1 @3: 0.11221122112211221\n",
      "validation micro-F1 @4: 0.10767326732673267\n",
      "validation micro-F1 @5: 0.10495049504950495\n",
      "validation micro-F1 @6: 0.10478547854785479\n",
      "validation micro-F1 @7: 0.10254596888260255\n",
      "validation micro-F1 @8: 0.09962871287128713\n",
      "validation micro-F1 @9: 0.09735973597359736\n",
      "validation micro-F1 @10: 0.09207920792079208\n"
     ]
    },
    {
     "name": "stderr",
     "output_type": "stream",
     "text": [
      "\r",
      "  8%|▊         | 358/4536 [11:40:54<136:19:49, 117.47s/it]"
     ]
    },
    {
     "name": "stdout",
     "output_type": "stream",
     "text": [
      "iter: 357, configuration: {'vectorizer_norm': 'l1', 'svm_degree': 3, 'medoid_normalization': 'standard', 'svm_kernel': 'poly', 'nb_medoids_ratio': 0.2, 'svm_gamma': 'auto', 'svm_c': 1}\n",
      "\n",
      "validation micro-F1 @1: 0.04455445544554455\n",
      "validation micro-F1 @2: 0.03217821782178218\n",
      "validation micro-F1 @3: 0.0297029702970297\n",
      "validation micro-F1 @4: 0.03094059405940594\n",
      "validation micro-F1 @5: 0.03762376237623762\n",
      "validation micro-F1 @6: 0.039603960396039604\n",
      "validation micro-F1 @7: 0.04384724186704385\n",
      "validation micro-F1 @8: 0.04764851485148515\n",
      "validation micro-F1 @9: 0.056105610561056105\n",
      "validation micro-F1 @10: 0.061386138613861385\n"
     ]
    },
    {
     "name": "stderr",
     "output_type": "stream",
     "text": [
      "\r",
      "  8%|▊         | 359/4536 [11:41:57<136:07:17, 117.32s/it]"
     ]
    },
    {
     "name": "stdout",
     "output_type": "stream",
     "text": [
      "iter: 358, configuration: {'vectorizer_norm': 'l2', 'svm_degree': 3, 'medoid_normalization': 'standard', 'svm_kernel': 'poly', 'nb_medoids_ratio': 0.2, 'svm_gamma': 'auto', 'svm_c': 1}\n",
      "\n",
      "validation micro-F1 @1: 0.13861386138613863\n",
      "validation micro-F1 @2: 0.12128712871287128\n",
      "validation micro-F1 @3: 0.11716171617161716\n",
      "validation micro-F1 @4: 0.10891089108910891\n",
      "validation micro-F1 @5: 0.10495049504950495\n",
      "validation micro-F1 @6: 0.10148514851485149\n",
      "validation micro-F1 @7: 0.09900990099009901\n",
      "validation micro-F1 @8: 0.0952970297029703\n",
      "validation micro-F1 @9: 0.09350935093509351\n",
      "validation micro-F1 @10: 0.09306930693069307\n"
     ]
    },
    {
     "name": "stderr",
     "output_type": "stream",
     "text": [
      "\r",
      "  8%|▊         | 360/4536 [11:44:43<136:14:44, 117.45s/it]"
     ]
    },
    {
     "name": "stdout",
     "output_type": "stream",
     "text": [
      "iter: 359, configuration: {'vectorizer_norm': None, 'svm_degree': 3, 'medoid_normalization': 'standard', 'svm_kernel': 'poly', 'nb_medoids_ratio': 0.2, 'svm_gamma': 'auto', 'svm_c': 1}\n",
      "\n",
      "validation micro-F1 @1: 0.15346534653465346\n",
      "validation micro-F1 @2: 0.14603960396039603\n",
      "validation micro-F1 @3: 0.12871287128712872\n",
      "validation micro-F1 @4: 0.11386138613861387\n",
      "validation micro-F1 @5: 0.10594059405940594\n",
      "validation micro-F1 @6: 0.09818481848184818\n",
      "validation micro-F1 @7: 0.09971711456859972\n",
      "validation micro-F1 @8: 0.09715346534653466\n",
      "validation micro-F1 @9: 0.09845984598459846\n",
      "validation micro-F1 @10: 0.09504950495049505\n"
     ]
    },
    {
     "name": "stderr",
     "output_type": "stream",
     "text": [
      "\r",
      "  8%|▊         | 361/4536 [11:45:49<136:02:53, 117.31s/it]"
     ]
    },
    {
     "name": "stdout",
     "output_type": "stream",
     "text": [
      "iter: 360, configuration: {'vectorizer_norm': 'l1', 'svm_degree': 4, 'medoid_normalization': 'standard', 'svm_kernel': 'rbf', 'nb_medoids_ratio': 0.2, 'svm_gamma': 0.1, 'svm_c': 1}\n",
      "\n",
      "validation micro-F1 @1: 0.12871287128712872\n",
      "validation micro-F1 @2: 0.14603960396039603\n",
      "validation micro-F1 @3: 0.1254125412541254\n",
      "validation micro-F1 @4: 0.11138613861386139\n",
      "validation micro-F1 @5: 0.10297029702970296\n",
      "validation micro-F1 @6: 0.09983498349834984\n",
      "validation micro-F1 @7: 0.10113154172560113\n",
      "validation micro-F1 @8: 0.09715346534653466\n",
      "validation micro-F1 @9: 0.09845984598459846\n",
      "validation micro-F1 @10: 0.09554455445544555\n"
     ]
    },
    {
     "name": "stderr",
     "output_type": "stream",
     "text": [
      "\r",
      "  8%|▊         | 362/4536 [11:47:06<135:53:14, 117.20s/it]"
     ]
    },
    {
     "name": "stdout",
     "output_type": "stream",
     "text": [
      "iter: 361, configuration: {'vectorizer_norm': 'l2', 'svm_degree': 4, 'medoid_normalization': 'standard', 'svm_kernel': 'rbf', 'nb_medoids_ratio': 0.2, 'svm_gamma': 0.1, 'svm_c': 1}\n",
      "\n",
      "validation micro-F1 @1: 0.14356435643564355\n",
      "validation micro-F1 @2: 0.1311881188118812\n",
      "validation micro-F1 @3: 0.1254125412541254\n",
      "validation micro-F1 @4: 0.11757425742574257\n",
      "validation micro-F1 @5: 0.11089108910891089\n",
      "validation micro-F1 @6: 0.10643564356435643\n",
      "validation micro-F1 @7: 0.10042432814710042\n",
      "validation micro-F1 @8: 0.0983910891089109\n",
      "validation micro-F1 @9: 0.0968096809680968\n",
      "validation micro-F1 @10: 0.09306930693069307\n"
     ]
    },
    {
     "name": "stderr",
     "output_type": "stream",
     "text": [
      "\r",
      "  8%|▊         | 363/4536 [11:54:35<136:54:52, 118.11s/it]"
     ]
    },
    {
     "name": "stdout",
     "output_type": "stream",
     "text": [
      "iter: 362, configuration: {'vectorizer_norm': None, 'svm_degree': 4, 'medoid_normalization': 'standard', 'svm_kernel': 'rbf', 'nb_medoids_ratio': 0.2, 'svm_gamma': 0.1, 'svm_c': 1}\n",
      "\n",
      "validation micro-F1 @1: 0.13366336633663367\n",
      "validation micro-F1 @2: 0.1485148514851485\n",
      "validation micro-F1 @3: 0.12706270627062707\n",
      "validation micro-F1 @4: 0.11262376237623763\n",
      "validation micro-F1 @5: 0.10396039603960396\n",
      "validation micro-F1 @6: 0.09818481848184818\n",
      "validation micro-F1 @7: 0.10113154172560113\n",
      "validation micro-F1 @8: 0.09900990099009901\n",
      "validation micro-F1 @9: 0.09845984598459846\n",
      "validation micro-F1 @10: 0.09356435643564356\n"
     ]
    },
    {
     "name": "stderr",
     "output_type": "stream",
     "text": [
      "\r",
      "  8%|▊         | 364/4536 [11:55:49<136:44:29, 117.99s/it]"
     ]
    },
    {
     "name": "stdout",
     "output_type": "stream",
     "text": [
      "iter: 363, configuration: {'vectorizer_norm': 'l1', 'svm_degree': 4, 'medoid_normalization': 'standard', 'svm_kernel': 'poly', 'nb_medoids_ratio': 0.2, 'svm_gamma': 0.1, 'svm_c': 1}\n",
      "\n",
      "validation micro-F1 @1: 0.13861386138613863\n",
      "validation micro-F1 @2: 0.15099009900990099\n",
      "validation micro-F1 @3: 0.12871287128712872\n",
      "validation micro-F1 @4: 0.11386138613861387\n",
      "validation micro-F1 @5: 0.10495049504950495\n",
      "validation micro-F1 @6: 0.10478547854785479\n",
      "validation micro-F1 @7: 0.10254596888260255\n",
      "validation micro-F1 @8: 0.10148514851485149\n",
      "validation micro-F1 @9: 0.09625962596259625\n",
      "validation micro-F1 @10: 0.09603960396039604\n"
     ]
    },
    {
     "name": "stderr",
     "output_type": "stream",
     "text": [
      "\r",
      "  8%|▊         | 365/4536 [11:58:48<136:54:06, 118.16s/it]"
     ]
    },
    {
     "name": "stdout",
     "output_type": "stream",
     "text": [
      "iter: 364, configuration: {'vectorizer_norm': 'l2', 'svm_degree': 4, 'medoid_normalization': 'standard', 'svm_kernel': 'poly', 'nb_medoids_ratio': 0.2, 'svm_gamma': 0.1, 'svm_c': 1}\n",
      "\n",
      "validation micro-F1 @1: 0.14356435643564355\n",
      "validation micro-F1 @2: 0.14108910891089108\n",
      "validation micro-F1 @3: 0.13366336633663367\n",
      "validation micro-F1 @4: 0.11386138613861387\n",
      "validation micro-F1 @5: 0.10495049504950495\n",
      "validation micro-F1 @6: 0.10396039603960396\n",
      "validation micro-F1 @7: 0.10183875530410184\n",
      "validation micro-F1 @8: 0.10024752475247525\n",
      "validation micro-F1 @9: 0.09955995599559957\n",
      "validation micro-F1 @10: 0.09702970297029703\n"
     ]
    },
    {
     "name": "stderr",
     "output_type": "stream",
     "text": [
      "\r",
      "  8%|▊         | 366/4536 [12:01:55<137:05:15, 118.35s/it]"
     ]
    },
    {
     "name": "stdout",
     "output_type": "stream",
     "text": [
      "iter: 365, configuration: {'vectorizer_norm': None, 'svm_degree': 4, 'medoid_normalization': 'standard', 'svm_kernel': 'poly', 'nb_medoids_ratio': 0.2, 'svm_gamma': 0.1, 'svm_c': 1}\n",
      "\n",
      "validation micro-F1 @1: 0.13366336633663367\n",
      "validation micro-F1 @2: 0.14603960396039603\n",
      "validation micro-F1 @3: 0.12871287128712872\n",
      "validation micro-F1 @4: 0.1150990099009901\n",
      "validation micro-F1 @5: 0.10495049504950495\n",
      "validation micro-F1 @6: 0.09983498349834984\n",
      "validation micro-F1 @7: 0.09900990099009901\n",
      "validation micro-F1 @8: 0.09900990099009901\n",
      "validation micro-F1 @9: 0.09900990099009901\n",
      "validation micro-F1 @10: 0.09356435643564356\n"
     ]
    },
    {
     "name": "stderr",
     "output_type": "stream",
     "text": [
      "\r",
      "  8%|▊         | 367/4536 [12:03:06<136:54:12, 118.22s/it]"
     ]
    },
    {
     "name": "stdout",
     "output_type": "stream",
     "text": [
      "iter: 366, configuration: {'vectorizer_norm': 'l1', 'svm_degree': 4, 'medoid_normalization': 'standard', 'svm_kernel': 'rbf', 'nb_medoids_ratio': 0.2, 'svm_gamma': 0.2, 'svm_c': 1}\n",
      "\n",
      "validation micro-F1 @1: 0.13366336633663367\n",
      "validation micro-F1 @2: 0.15841584158415842\n",
      "validation micro-F1 @3: 0.13696369636963696\n",
      "validation micro-F1 @4: 0.12252475247524752\n",
      "validation micro-F1 @5: 0.1198019801980198\n",
      "validation micro-F1 @6: 0.11138613861386139\n",
      "validation micro-F1 @7: 0.10891089108910891\n",
      "validation micro-F1 @8: 0.10334158415841584\n",
      "validation micro-F1 @9: 0.09955995599559957\n",
      "validation micro-F1 @10: 0.09851485148514852\n"
     ]
    },
    {
     "name": "stderr",
     "output_type": "stream",
     "text": [
      "\r",
      "  8%|▊         | 368/4536 [12:04:31<136:46:06, 118.13s/it]"
     ]
    },
    {
     "name": "stdout",
     "output_type": "stream",
     "text": [
      "iter: 367, configuration: {'vectorizer_norm': 'l2', 'svm_degree': 4, 'medoid_normalization': 'standard', 'svm_kernel': 'rbf', 'nb_medoids_ratio': 0.2, 'svm_gamma': 0.2, 'svm_c': 1}\n",
      "\n",
      "validation micro-F1 @1: 0.16336633663366337\n",
      "validation micro-F1 @2: 0.14356435643564355\n",
      "validation micro-F1 @3: 0.12871287128712872\n",
      "validation micro-F1 @4: 0.11633663366336634\n",
      "validation micro-F1 @5: 0.10891089108910891\n",
      "validation micro-F1 @6: 0.10561056105610561\n",
      "validation micro-F1 @7: 0.10466760961810467\n",
      "validation micro-F1 @8: 0.1021039603960396\n",
      "validation micro-F1 @9: 0.1001100110011001\n",
      "validation micro-F1 @10: 0.09653465346534654\n"
     ]
    },
    {
     "name": "stderr",
     "output_type": "stream",
     "text": [
      "\r",
      "  8%|▊         | 369/4536 [12:11:51<137:44:43, 119.00s/it]"
     ]
    },
    {
     "name": "stdout",
     "output_type": "stream",
     "text": [
      "iter: 368, configuration: {'vectorizer_norm': None, 'svm_degree': 4, 'medoid_normalization': 'standard', 'svm_kernel': 'rbf', 'nb_medoids_ratio': 0.2, 'svm_gamma': 0.2, 'svm_c': 1}\n",
      "\n",
      "validation micro-F1 @1: 0.13861386138613863\n",
      "validation micro-F1 @2: 0.15099009900990099\n",
      "validation micro-F1 @3: 0.12871287128712872\n",
      "validation micro-F1 @4: 0.11386138613861387\n",
      "validation micro-F1 @5: 0.10495049504950495\n",
      "validation micro-F1 @6: 0.09818481848184818\n",
      "validation micro-F1 @7: 0.10113154172560113\n",
      "validation micro-F1 @8: 0.10024752475247525\n",
      "validation micro-F1 @9: 0.09900990099009901\n",
      "validation micro-F1 @10: 0.09405940594059406\n"
     ]
    },
    {
     "name": "stderr",
     "output_type": "stream",
     "text": [
      "\r",
      "  8%|▊         | 370/4536 [12:13:22<137:37:20, 118.92s/it]"
     ]
    },
    {
     "name": "stdout",
     "output_type": "stream",
     "text": [
      "iter: 369, configuration: {'vectorizer_norm': 'l1', 'svm_degree': 4, 'medoid_normalization': 'standard', 'svm_kernel': 'poly', 'nb_medoids_ratio': 0.2, 'svm_gamma': 0.2, 'svm_c': 1}\n",
      "\n",
      "validation micro-F1 @1: 0.13861386138613863\n",
      "validation micro-F1 @2: 0.15099009900990099\n",
      "validation micro-F1 @3: 0.12871287128712872\n",
      "validation micro-F1 @4: 0.11386138613861387\n",
      "validation micro-F1 @5: 0.11386138613861387\n",
      "validation micro-F1 @6: 0.11221122112211221\n",
      "validation micro-F1 @7: 0.10466760961810467\n",
      "validation micro-F1 @8: 0.10581683168316831\n",
      "validation micro-F1 @9: 0.10121012101210121\n",
      "validation micro-F1 @10: 0.09801980198019802\n"
     ]
    },
    {
     "name": "stderr",
     "output_type": "stream",
     "text": [
      "\r",
      "  8%|▊         | 371/4536 [12:16:22<137:46:53, 119.09s/it]"
     ]
    },
    {
     "name": "stdout",
     "output_type": "stream",
     "text": [
      "iter: 370, configuration: {'vectorizer_norm': 'l2', 'svm_degree': 4, 'medoid_normalization': 'standard', 'svm_kernel': 'poly', 'nb_medoids_ratio': 0.2, 'svm_gamma': 0.2, 'svm_c': 1}\n",
      "\n",
      "validation micro-F1 @1: 0.15841584158415842\n",
      "validation micro-F1 @2: 0.15099009900990099\n",
      "validation micro-F1 @3: 0.1254125412541254\n",
      "validation micro-F1 @4: 0.11386138613861387\n",
      "validation micro-F1 @5: 0.10495049504950495\n",
      "validation micro-F1 @6: 0.10478547854785479\n",
      "validation micro-F1 @7: 0.10325318246110325\n",
      "validation micro-F1 @8: 0.09962871287128713\n",
      "validation micro-F1 @9: 0.09955995599559957\n",
      "validation micro-F1 @10: 0.09702970297029703\n"
     ]
    },
    {
     "name": "stderr",
     "output_type": "stream",
     "text": [
      "\r",
      "  8%|▊         | 372/4536 [12:18:54<137:51:03, 119.18s/it]"
     ]
    },
    {
     "name": "stdout",
     "output_type": "stream",
     "text": [
      "iter: 371, configuration: {'vectorizer_norm': None, 'svm_degree': 4, 'medoid_normalization': 'standard', 'svm_kernel': 'poly', 'nb_medoids_ratio': 0.2, 'svm_gamma': 0.2, 'svm_c': 1}\n",
      "\n",
      "validation micro-F1 @1: 0.14356435643564355\n",
      "validation micro-F1 @2: 0.15099009900990099\n",
      "validation micro-F1 @3: 0.13036303630363036\n",
      "validation micro-F1 @4: 0.1150990099009901\n",
      "validation micro-F1 @5: 0.10693069306930693\n",
      "validation micro-F1 @6: 0.10313531353135313\n",
      "validation micro-F1 @7: 0.10042432814710042\n",
      "validation micro-F1 @8: 0.10086633663366337\n",
      "validation micro-F1 @9: 0.10066006600660066\n",
      "validation micro-F1 @10: 0.09702970297029703\n"
     ]
    },
    {
     "name": "stderr",
     "output_type": "stream",
     "text": [
      "\r",
      "  8%|▊         | 373/4536 [12:20:07<137:40:25, 119.05s/it]"
     ]
    },
    {
     "name": "stdout",
     "output_type": "stream",
     "text": [
      "iter: 372, configuration: {'vectorizer_norm': 'l1', 'svm_degree': 4, 'medoid_normalization': 'standard', 'svm_kernel': 'rbf', 'nb_medoids_ratio': 0.2, 'svm_gamma': 0.3, 'svm_c': 1}\n",
      "\n",
      "validation micro-F1 @1: 0.1485148514851485\n",
      "validation micro-F1 @2: 0.1608910891089109\n",
      "validation micro-F1 @3: 0.132013201320132\n",
      "validation micro-F1 @4: 0.12128712871287128\n",
      "validation micro-F1 @5: 0.1099009900990099\n",
      "validation micro-F1 @6: 0.10643564356435643\n",
      "validation micro-F1 @7: 0.10042432814710042\n",
      "validation micro-F1 @8: 0.09900990099009901\n",
      "validation micro-F1 @9: 0.09955995599559957\n",
      "validation micro-F1 @10: 0.09455445544554456\n"
     ]
    },
    {
     "name": "stderr",
     "output_type": "stream",
     "text": [
      "\r",
      "  8%|▊         | 374/4536 [12:21:40<137:33:37, 118.99s/it]"
     ]
    },
    {
     "name": "stdout",
     "output_type": "stream",
     "text": [
      "iter: 373, configuration: {'vectorizer_norm': 'l2', 'svm_degree': 4, 'medoid_normalization': 'standard', 'svm_kernel': 'rbf', 'nb_medoids_ratio': 0.2, 'svm_gamma': 0.3, 'svm_c': 1}\n",
      "\n",
      "validation micro-F1 @1: 0.0891089108910891\n",
      "validation micro-F1 @2: 0.13366336633663367\n",
      "validation micro-F1 @3: 0.12211221122112212\n",
      "validation micro-F1 @4: 0.11138613861386139\n",
      "validation micro-F1 @5: 0.1\n",
      "validation micro-F1 @6: 0.10313531353135313\n",
      "validation micro-F1 @7: 0.10042432814710042\n",
      "validation micro-F1 @8: 0.0952970297029703\n",
      "validation micro-F1 @9: 0.09570957095709572\n",
      "validation micro-F1 @10: 0.0900990099009901\n"
     ]
    },
    {
     "name": "stderr",
     "output_type": "stream",
     "text": [
      "\r",
      "  8%|▊         | 375/4536 [12:28:56<138:30:13, 119.83s/it]"
     ]
    },
    {
     "name": "stdout",
     "output_type": "stream",
     "text": [
      "iter: 374, configuration: {'vectorizer_norm': None, 'svm_degree': 4, 'medoid_normalization': 'standard', 'svm_kernel': 'rbf', 'nb_medoids_ratio': 0.2, 'svm_gamma': 0.3, 'svm_c': 1}\n",
      "\n",
      "validation micro-F1 @1: 0.13861386138613863\n",
      "validation micro-F1 @2: 0.15099009900990099\n",
      "validation micro-F1 @3: 0.12871287128712872\n",
      "validation micro-F1 @4: 0.11386138613861387\n",
      "validation micro-F1 @5: 0.10495049504950495\n",
      "validation micro-F1 @6: 0.09818481848184818\n",
      "validation micro-F1 @7: 0.09759547383309759\n",
      "validation micro-F1 @8: 0.10024752475247525\n",
      "validation micro-F1 @9: 0.09900990099009901\n",
      "validation micro-F1 @10: 0.09405940594059406\n"
     ]
    },
    {
     "name": "stderr",
     "output_type": "stream",
     "text": [
      "\r",
      "  8%|▊         | 376/4536 [12:30:44<138:26:07, 119.80s/it]"
     ]
    },
    {
     "name": "stdout",
     "output_type": "stream",
     "text": [
      "iter: 375, configuration: {'vectorizer_norm': 'l1', 'svm_degree': 4, 'medoid_normalization': 'standard', 'svm_kernel': 'poly', 'nb_medoids_ratio': 0.2, 'svm_gamma': 0.3, 'svm_c': 1}\n",
      "\n",
      "validation micro-F1 @1: 0.13861386138613863\n",
      "validation micro-F1 @2: 0.15099009900990099\n",
      "validation micro-F1 @3: 0.12871287128712872\n",
      "validation micro-F1 @4: 0.11386138613861387\n",
      "validation micro-F1 @5: 0.10891089108910891\n",
      "validation micro-F1 @6: 0.10478547854785479\n",
      "validation micro-F1 @7: 0.10466760961810467\n",
      "validation micro-F1 @8: 0.10086633663366337\n",
      "validation micro-F1 @9: 0.1001100110011001\n",
      "validation micro-F1 @10: 0.09801980198019802\n"
     ]
    },
    {
     "name": "stderr",
     "output_type": "stream",
     "text": [
      "\r",
      "  8%|▊         | 377/4536 [12:33:42<138:34:46, 119.95s/it]"
     ]
    },
    {
     "name": "stdout",
     "output_type": "stream",
     "text": [
      "iter: 376, configuration: {'vectorizer_norm': 'l2', 'svm_degree': 4, 'medoid_normalization': 'standard', 'svm_kernel': 'poly', 'nb_medoids_ratio': 0.2, 'svm_gamma': 0.3, 'svm_c': 1}\n",
      "\n",
      "validation micro-F1 @1: 0.1782178217821782\n",
      "validation micro-F1 @2: 0.13861386138613863\n",
      "validation micro-F1 @3: 0.12706270627062707\n",
      "validation micro-F1 @4: 0.11386138613861387\n",
      "validation micro-F1 @5: 0.1099009900990099\n",
      "validation micro-F1 @6: 0.10231023102310231\n",
      "validation micro-F1 @7: 0.10254596888260255\n",
      "validation micro-F1 @8: 0.09962871287128713\n",
      "validation micro-F1 @9: 0.10066006600660066\n",
      "validation micro-F1 @10: 0.09702970297029703\n"
     ]
    },
    {
     "name": "stderr",
     "output_type": "stream",
     "text": [
      "\r",
      "  8%|▊         | 378/4536 [12:36:25<138:40:45, 120.07s/it]"
     ]
    },
    {
     "name": "stdout",
     "output_type": "stream",
     "text": [
      "iter: 377, configuration: {'vectorizer_norm': None, 'svm_degree': 4, 'medoid_normalization': 'standard', 'svm_kernel': 'poly', 'nb_medoids_ratio': 0.2, 'svm_gamma': 0.3, 'svm_c': 1}\n",
      "\n",
      "validation micro-F1 @1: 0.14356435643564355\n",
      "validation micro-F1 @2: 0.15099009900990099\n",
      "validation micro-F1 @3: 0.12706270627062707\n",
      "validation micro-F1 @4: 0.11262376237623763\n",
      "validation micro-F1 @5: 0.10396039603960396\n",
      "validation micro-F1 @6: 0.09900990099009901\n",
      "validation micro-F1 @7: 0.10183875530410184\n",
      "validation micro-F1 @8: 0.1021039603960396\n",
      "validation micro-F1 @9: 0.09955995599559957\n",
      "validation micro-F1 @10: 0.09455445544554456\n"
     ]
    },
    {
     "name": "stderr",
     "output_type": "stream",
     "text": [
      "\r",
      "  8%|▊         | 379/4536 [12:37:40<138:30:29, 119.95s/it]"
     ]
    },
    {
     "name": "stdout",
     "output_type": "stream",
     "text": [
      "iter: 378, configuration: {'vectorizer_norm': 'l1', 'svm_degree': 4, 'medoid_normalization': 'standard', 'svm_kernel': 'rbf', 'nb_medoids_ratio': 0.2, 'svm_gamma': 0.5, 'svm_c': 1}\n",
      "\n",
      "validation micro-F1 @1: 0.13861386138613863\n",
      "validation micro-F1 @2: 0.14356435643564355\n",
      "validation micro-F1 @3: 0.1254125412541254\n",
      "validation micro-F1 @4: 0.1150990099009901\n",
      "validation micro-F1 @5: 0.11089108910891089\n",
      "validation micro-F1 @6: 0.10973597359735973\n",
      "validation micro-F1 @7: 0.1074964639321075\n",
      "validation micro-F1 @8: 0.10643564356435643\n",
      "validation micro-F1 @9: 0.10396039603960396\n",
      "validation micro-F1 @10: 0.09752475247524753\n"
     ]
    },
    {
     "name": "stderr",
     "output_type": "stream",
     "text": [
      "\r",
      "  8%|▊         | 380/4536 [12:39:26<138:25:49, 119.91s/it]"
     ]
    },
    {
     "name": "stdout",
     "output_type": "stream",
     "text": [
      "iter: 379, configuration: {'vectorizer_norm': 'l2', 'svm_degree': 4, 'medoid_normalization': 'standard', 'svm_kernel': 'rbf', 'nb_medoids_ratio': 0.2, 'svm_gamma': 0.5, 'svm_c': 1}\n",
      "\n",
      "validation micro-F1 @1: 0.13366336633663367\n",
      "validation micro-F1 @2: 0.14108910891089108\n",
      "validation micro-F1 @3: 0.12871287128712872\n",
      "validation micro-F1 @4: 0.11138613861386139\n",
      "validation micro-F1 @5: 0.10495049504950495\n",
      "validation micro-F1 @6: 0.10148514851485149\n",
      "validation micro-F1 @7: 0.10113154172560113\n",
      "validation micro-F1 @8: 0.09962871287128713\n",
      "validation micro-F1 @9: 0.09515951595159516\n",
      "validation micro-F1 @10: 0.09306930693069307\n"
     ]
    },
    {
     "name": "stderr",
     "output_type": "stream",
     "text": [
      "\r",
      "  8%|▊         | 381/4536 [12:46:36<139:20:11, 120.72s/it]"
     ]
    },
    {
     "name": "stdout",
     "output_type": "stream",
     "text": [
      "iter: 380, configuration: {'vectorizer_norm': None, 'svm_degree': 4, 'medoid_normalization': 'standard', 'svm_kernel': 'rbf', 'nb_medoids_ratio': 0.2, 'svm_gamma': 0.5, 'svm_c': 1}\n",
      "\n",
      "validation micro-F1 @1: 0.13861386138613863\n",
      "validation micro-F1 @2: 0.15099009900990099\n",
      "validation micro-F1 @3: 0.12871287128712872\n",
      "validation micro-F1 @4: 0.11386138613861387\n",
      "validation micro-F1 @5: 0.10495049504950495\n",
      "validation micro-F1 @6: 0.09818481848184818\n",
      "validation micro-F1 @7: 0.09759547383309759\n",
      "validation micro-F1 @8: 0.09653465346534654\n",
      "validation micro-F1 @9: 0.09900990099009901\n",
      "validation micro-F1 @10: 0.09405940594059406\n"
     ]
    },
    {
     "name": "stderr",
     "output_type": "stream",
     "text": [
      "\r",
      "  8%|▊         | 382/4536 [12:48:57<139:21:58, 120.78s/it]"
     ]
    },
    {
     "name": "stdout",
     "output_type": "stream",
     "text": [
      "iter: 381, configuration: {'vectorizer_norm': 'l1', 'svm_degree': 4, 'medoid_normalization': 'standard', 'svm_kernel': 'poly', 'nb_medoids_ratio': 0.2, 'svm_gamma': 0.5, 'svm_c': 1}\n",
      "\n",
      "validation micro-F1 @1: 0.13366336633663367\n",
      "validation micro-F1 @2: 0.1485148514851485\n",
      "validation micro-F1 @3: 0.12706270627062707\n",
      "validation micro-F1 @4: 0.11386138613861387\n",
      "validation micro-F1 @5: 0.10693069306930693\n",
      "validation micro-F1 @6: 0.10726072607260725\n",
      "validation micro-F1 @7: 0.10325318246110325\n",
      "validation micro-F1 @8: 0.10148514851485149\n",
      "validation micro-F1 @9: 0.09955995599559957\n",
      "validation micro-F1 @10: 0.09603960396039604\n"
     ]
    },
    {
     "name": "stderr",
     "output_type": "stream",
     "text": [
      "\r",
      "  8%|▊         | 383/4536 [12:51:44<139:28:10, 120.90s/it]"
     ]
    },
    {
     "name": "stdout",
     "output_type": "stream",
     "text": [
      "iter: 382, configuration: {'vectorizer_norm': 'l2', 'svm_degree': 4, 'medoid_normalization': 'standard', 'svm_kernel': 'poly', 'nb_medoids_ratio': 0.2, 'svm_gamma': 0.5, 'svm_c': 1}\n",
      "\n",
      "validation micro-F1 @1: 0.13366336633663367\n",
      "validation micro-F1 @2: 0.15099009900990099\n",
      "validation micro-F1 @3: 0.13036303630363036\n",
      "validation micro-F1 @4: 0.1150990099009901\n",
      "validation micro-F1 @5: 0.10693069306930693\n",
      "validation micro-F1 @6: 0.10313531353135313\n",
      "validation micro-F1 @7: 0.10325318246110325\n",
      "validation micro-F1 @8: 0.10086633663366337\n",
      "validation micro-F1 @9: 0.09845984598459846\n",
      "validation micro-F1 @10: 0.09603960396039604\n"
     ]
    },
    {
     "name": "stderr",
     "output_type": "stream",
     "text": [
      "\r",
      "  8%|▊         | 384/4536 [12:54:12<139:31:12, 120.97s/it]"
     ]
    },
    {
     "name": "stdout",
     "output_type": "stream",
     "text": [
      "iter: 383, configuration: {'vectorizer_norm': None, 'svm_degree': 4, 'medoid_normalization': 'standard', 'svm_kernel': 'poly', 'nb_medoids_ratio': 0.2, 'svm_gamma': 0.5, 'svm_c': 1}\n",
      "\n",
      "validation micro-F1 @1: 0.13861386138613863\n",
      "validation micro-F1 @2: 0.14356435643564355\n",
      "validation micro-F1 @3: 0.12871287128712872\n",
      "validation micro-F1 @4: 0.11262376237623763\n",
      "validation micro-F1 @5: 0.10495049504950495\n",
      "validation micro-F1 @6: 0.10148514851485149\n",
      "validation micro-F1 @7: 0.10042432814710042\n",
      "validation micro-F1 @8: 0.10272277227722772\n",
      "validation micro-F1 @9: 0.09845984598459846\n",
      "validation micro-F1 @10: 0.09405940594059406\n"
     ]
    },
    {
     "name": "stderr",
     "output_type": "stream",
     "text": [
      "\r",
      "  8%|▊         | 385/4536 [12:55:34<139:22:03, 120.87s/it]"
     ]
    },
    {
     "name": "stdout",
     "output_type": "stream",
     "text": [
      "iter: 384, configuration: {'vectorizer_norm': 'l1', 'svm_degree': 4, 'medoid_normalization': 'standard', 'svm_kernel': 'rbf', 'nb_medoids_ratio': 0.2, 'svm_gamma': 1.0, 'svm_c': 1}\n",
      "\n",
      "validation micro-F1 @1: 0.15346534653465346\n",
      "validation micro-F1 @2: 0.13861386138613863\n",
      "validation micro-F1 @3: 0.13366336633663367\n",
      "validation micro-F1 @4: 0.1150990099009901\n",
      "validation micro-F1 @5: 0.10891089108910891\n",
      "validation micro-F1 @6: 0.11056105610561057\n",
      "validation micro-F1 @7: 0.10891089108910891\n",
      "validation micro-F1 @8: 0.10457920792079207\n",
      "validation micro-F1 @9: 0.10066006600660066\n",
      "validation micro-F1 @10: 0.09653465346534654\n"
     ]
    },
    {
     "name": "stderr",
     "output_type": "stream",
     "text": [
      "\r",
      "  9%|▊         | 386/4536 [12:57:48<139:22:22, 120.90s/it]"
     ]
    },
    {
     "name": "stdout",
     "output_type": "stream",
     "text": [
      "iter: 385, configuration: {'vectorizer_norm': 'l2', 'svm_degree': 4, 'medoid_normalization': 'standard', 'svm_kernel': 'rbf', 'nb_medoids_ratio': 0.2, 'svm_gamma': 1.0, 'svm_c': 1}\n",
      "\n",
      "validation micro-F1 @1: 0.14356435643564355\n",
      "validation micro-F1 @2: 0.12871287128712872\n",
      "validation micro-F1 @3: 0.12211221122112212\n",
      "validation micro-F1 @4: 0.1150990099009901\n",
      "validation micro-F1 @5: 0.10891089108910891\n",
      "validation micro-F1 @6: 0.10231023102310231\n",
      "validation micro-F1 @7: 0.10113154172560113\n",
      "validation micro-F1 @8: 0.09715346534653466\n",
      "validation micro-F1 @9: 0.09405940594059406\n",
      "validation micro-F1 @10: 0.09257425742574257\n"
     ]
    },
    {
     "name": "stderr",
     "output_type": "stream",
     "text": [
      "\r",
      "  9%|▊         | 387/4536 [13:04:50<140:14:10, 121.68s/it]"
     ]
    },
    {
     "name": "stdout",
     "output_type": "stream",
     "text": [
      "iter: 386, configuration: {'vectorizer_norm': None, 'svm_degree': 4, 'medoid_normalization': 'standard', 'svm_kernel': 'rbf', 'nb_medoids_ratio': 0.2, 'svm_gamma': 1.0, 'svm_c': 1}\n",
      "\n",
      "validation micro-F1 @1: 0.13861386138613863\n",
      "validation micro-F1 @2: 0.15099009900990099\n",
      "validation micro-F1 @3: 0.12871287128712872\n",
      "validation micro-F1 @4: 0.11386138613861387\n",
      "validation micro-F1 @5: 0.10495049504950495\n",
      "validation micro-F1 @6: 0.09818481848184818\n",
      "validation micro-F1 @7: 0.09688826025459689\n",
      "validation micro-F1 @8: 0.09962871287128713\n",
      "validation micro-F1 @9: 0.09900990099009901\n",
      "validation micro-F1 @10: 0.09405940594059406\n"
     ]
    },
    {
     "name": "stderr",
     "output_type": "stream",
     "text": [
      "\r",
      "  9%|▊         | 388/4536 [13:07:50<140:22:40, 121.83s/it]"
     ]
    },
    {
     "name": "stdout",
     "output_type": "stream",
     "text": [
      "iter: 387, configuration: {'vectorizer_norm': 'l1', 'svm_degree': 4, 'medoid_normalization': 'standard', 'svm_kernel': 'poly', 'nb_medoids_ratio': 0.2, 'svm_gamma': 1.0, 'svm_c': 1}\n",
      "\n",
      "validation micro-F1 @1: 0.13366336633663367\n",
      "validation micro-F1 @2: 0.15099009900990099\n",
      "validation micro-F1 @3: 0.12871287128712872\n",
      "validation micro-F1 @4: 0.11262376237623763\n",
      "validation micro-F1 @5: 0.1099009900990099\n",
      "validation micro-F1 @6: 0.10808580858085809\n",
      "validation micro-F1 @7: 0.10183875530410184\n",
      "validation micro-F1 @8: 0.10086633663366337\n",
      "validation micro-F1 @9: 0.09790979097909791\n",
      "validation micro-F1 @10: 0.09752475247524753\n"
     ]
    },
    {
     "name": "stderr",
     "output_type": "stream",
     "text": [
      "\r",
      "  9%|▊         | 389/4536 [13:10:46<140:30:07, 121.97s/it]"
     ]
    },
    {
     "name": "stdout",
     "output_type": "stream",
     "text": [
      "iter: 388, configuration: {'vectorizer_norm': 'l2', 'svm_degree': 4, 'medoid_normalization': 'standard', 'svm_kernel': 'poly', 'nb_medoids_ratio': 0.2, 'svm_gamma': 1.0, 'svm_c': 1}\n",
      "\n",
      "validation micro-F1 @1: 0.16831683168316833\n",
      "validation micro-F1 @2: 0.14108910891089108\n",
      "validation micro-F1 @3: 0.132013201320132\n",
      "validation micro-F1 @4: 0.11386138613861387\n",
      "validation micro-F1 @5: 0.10594059405940594\n",
      "validation micro-F1 @6: 0.10561056105610561\n",
      "validation micro-F1 @7: 0.10254596888260255\n",
      "validation micro-F1 @8: 0.10086633663366337\n",
      "validation micro-F1 @9: 0.09900990099009901\n",
      "validation micro-F1 @10: 0.09900990099009901\n"
     ]
    },
    {
     "name": "stderr",
     "output_type": "stream",
     "text": [
      "\r",
      "  9%|▊         | 390/4536 [13:13:40<140:37:26, 122.10s/it]"
     ]
    },
    {
     "name": "stdout",
     "output_type": "stream",
     "text": [
      "iter: 389, configuration: {'vectorizer_norm': None, 'svm_degree': 4, 'medoid_normalization': 'standard', 'svm_kernel': 'poly', 'nb_medoids_ratio': 0.2, 'svm_gamma': 1.0, 'svm_c': 1}\n",
      "\n",
      "validation micro-F1 @1: 0.13366336633663367\n",
      "validation micro-F1 @2: 0.14603960396039603\n",
      "validation micro-F1 @3: 0.1254125412541254\n",
      "validation micro-F1 @4: 0.11262376237623763\n",
      "validation micro-F1 @5: 0.10495049504950495\n",
      "validation micro-F1 @6: 0.09900990099009901\n",
      "validation micro-F1 @7: 0.10254596888260255\n",
      "validation micro-F1 @8: 0.10148514851485149\n",
      "validation micro-F1 @9: 0.09845984598459846\n",
      "validation micro-F1 @10: 0.09356435643564356\n"
     ]
    },
    {
     "name": "stderr",
     "output_type": "stream",
     "text": [
      "\r",
      "  9%|▊         | 391/4536 [13:14:20<140:20:48, 121.89s/it]"
     ]
    },
    {
     "name": "stdout",
     "output_type": "stream",
     "text": [
      "iter: 390, configuration: {'vectorizer_norm': 'l1', 'svm_degree': 4, 'medoid_normalization': 'standard', 'svm_kernel': 'rbf', 'nb_medoids_ratio': 0.2, 'svm_gamma': 'auto', 'svm_c': 1}\n",
      "\n",
      "validation micro-F1 @1: 0.1188118811881188\n",
      "validation micro-F1 @2: 0.12871287128712872\n",
      "validation micro-F1 @3: 0.11551155115511551\n",
      "validation micro-F1 @4: 0.10767326732673267\n",
      "validation micro-F1 @5: 0.10198019801980197\n",
      "validation micro-F1 @6: 0.10148514851485149\n",
      "validation micro-F1 @7: 0.09971711456859972\n",
      "validation micro-F1 @8: 0.1021039603960396\n",
      "validation micro-F1 @9: 0.09735973597359736\n",
      "validation micro-F1 @10: 0.09356435643564356\n"
     ]
    },
    {
     "name": "stderr",
     "output_type": "stream",
     "text": [
      "\r",
      "  9%|▊         | 392/4536 [13:15:19<140:07:43, 121.73s/it]"
     ]
    },
    {
     "name": "stdout",
     "output_type": "stream",
     "text": [
      "iter: 391, configuration: {'vectorizer_norm': 'l2', 'svm_degree': 4, 'medoid_normalization': 'standard', 'svm_kernel': 'rbf', 'nb_medoids_ratio': 0.2, 'svm_gamma': 'auto', 'svm_c': 1}\n",
      "\n",
      "validation micro-F1 @1: 0.12871287128712872\n",
      "validation micro-F1 @2: 0.13861386138613863\n",
      "validation micro-F1 @3: 0.12871287128712872\n",
      "validation micro-F1 @4: 0.125\n",
      "validation micro-F1 @5: 0.11683168316831684\n",
      "validation micro-F1 @6: 0.11056105610561057\n",
      "validation micro-F1 @7: 0.10608203677510608\n",
      "validation micro-F1 @8: 0.10024752475247525\n",
      "validation micro-F1 @9: 0.09790979097909791\n",
      "validation micro-F1 @10: 0.09702970297029703\n"
     ]
    },
    {
     "name": "stderr",
     "output_type": "stream",
     "text": [
      "\r",
      "  9%|▊         | 393/4536 [13:19:08<140:24:37, 122.01s/it]"
     ]
    },
    {
     "name": "stdout",
     "output_type": "stream",
     "text": [
      "iter: 392, configuration: {'vectorizer_norm': None, 'svm_degree': 4, 'medoid_normalization': 'standard', 'svm_kernel': 'rbf', 'nb_medoids_ratio': 0.2, 'svm_gamma': 'auto', 'svm_c': 1}\n",
      "\n",
      "validation micro-F1 @1: 0.09900990099009901\n",
      "validation micro-F1 @2: 0.11633663366336634\n",
      "validation micro-F1 @3: 0.11716171617161716\n",
      "validation micro-F1 @4: 0.1150990099009901\n",
      "validation micro-F1 @5: 0.10297029702970296\n",
      "validation micro-F1 @6: 0.10313531353135313\n",
      "validation micro-F1 @7: 0.10113154172560113\n",
      "validation micro-F1 @8: 0.10024752475247525\n",
      "validation micro-F1 @9: 0.09570957095709572\n",
      "validation micro-F1 @10: 0.09455445544554456\n"
     ]
    },
    {
     "name": "stderr",
     "output_type": "stream",
     "text": [
      "\r",
      "  9%|▊         | 394/4536 [13:19:38<140:06:25, 121.77s/it]"
     ]
    },
    {
     "name": "stdout",
     "output_type": "stream",
     "text": [
      "iter: 393, configuration: {'vectorizer_norm': 'l1', 'svm_degree': 4, 'medoid_normalization': 'standard', 'svm_kernel': 'poly', 'nb_medoids_ratio': 0.2, 'svm_gamma': 'auto', 'svm_c': 1}\n",
      "\n",
      "validation micro-F1 @1: 0.019801980198019802\n",
      "validation micro-F1 @2: 0.039603960396039604\n",
      "validation micro-F1 @3: 0.028052805280528052\n",
      "validation micro-F1 @4: 0.028465346534653466\n",
      "validation micro-F1 @5: 0.027722772277227723\n",
      "validation micro-F1 @6: 0.027227722772277228\n",
      "validation micro-F1 @7: 0.026874115983026876\n",
      "validation micro-F1 @8: 0.03155940594059406\n",
      "validation micro-F1 @9: 0.03850385038503851\n",
      "validation micro-F1 @10: 0.04257425742574258\n"
     ]
    },
    {
     "name": "stderr",
     "output_type": "stream",
     "text": [
      "\r",
      "  9%|▊         | 395/4536 [13:20:44<139:54:36, 121.63s/it]"
     ]
    },
    {
     "name": "stdout",
     "output_type": "stream",
     "text": [
      "iter: 394, configuration: {'vectorizer_norm': 'l2', 'svm_degree': 4, 'medoid_normalization': 'standard', 'svm_kernel': 'poly', 'nb_medoids_ratio': 0.2, 'svm_gamma': 'auto', 'svm_c': 1}\n",
      "\n",
      "validation micro-F1 @1: 0.1485148514851485\n",
      "validation micro-F1 @2: 0.12623762376237624\n",
      "validation micro-F1 @3: 0.12211221122112212\n",
      "validation micro-F1 @4: 0.11633663366336634\n",
      "validation micro-F1 @5: 0.11386138613861387\n",
      "validation micro-F1 @6: 0.11056105610561057\n",
      "validation micro-F1 @7: 0.1082036775106082\n",
      "validation micro-F1 @8: 0.10272277227722772\n",
      "validation micro-F1 @9: 0.1001100110011001\n",
      "validation micro-F1 @10: 0.09603960396039604\n"
     ]
    },
    {
     "name": "stderr",
     "output_type": "stream",
     "text": [
      "\r",
      "  9%|▊         | 396/4536 [13:23:32<140:00:35, 121.75s/it]"
     ]
    },
    {
     "name": "stdout",
     "output_type": "stream",
     "text": [
      "iter: 395, configuration: {'vectorizer_norm': None, 'svm_degree': 4, 'medoid_normalization': 'standard', 'svm_kernel': 'poly', 'nb_medoids_ratio': 0.2, 'svm_gamma': 'auto', 'svm_c': 1}\n",
      "\n",
      "validation micro-F1 @1: 0.1485148514851485\n",
      "validation micro-F1 @2: 0.1485148514851485\n",
      "validation micro-F1 @3: 0.12706270627062707\n",
      "validation micro-F1 @4: 0.11262376237623763\n",
      "validation micro-F1 @5: 0.10693069306930693\n",
      "validation micro-F1 @6: 0.11056105610561057\n",
      "validation micro-F1 @7: 0.10466760961810467\n",
      "validation micro-F1 @8: 0.10396039603960396\n",
      "validation micro-F1 @9: 0.09845984598459846\n",
      "validation micro-F1 @10: 0.09306930693069307\n"
     ]
    },
    {
     "name": "stderr",
     "output_type": "stream",
     "text": [
      "\r",
      "  9%|▉         | 397/4536 [13:24:38<139:48:56, 121.61s/it]"
     ]
    },
    {
     "name": "stdout",
     "output_type": "stream",
     "text": [
      "iter: 396, configuration: {'vectorizer_norm': 'l1', 'svm_degree': 5, 'medoid_normalization': 'standard', 'svm_kernel': 'rbf', 'nb_medoids_ratio': 0.2, 'svm_gamma': 0.1, 'svm_c': 1}\n",
      "\n",
      "validation micro-F1 @1: 0.16336633663366337\n",
      "validation micro-F1 @2: 0.15594059405940594\n",
      "validation micro-F1 @3: 0.1353135313531353\n",
      "validation micro-F1 @4: 0.12004950495049505\n",
      "validation micro-F1 @5: 0.11287128712871287\n",
      "validation micro-F1 @6: 0.10891089108910891\n",
      "validation micro-F1 @7: 0.1074964639321075\n",
      "validation micro-F1 @8: 0.10705445544554455\n",
      "validation micro-F1 @9: 0.10286028602860287\n",
      "validation micro-F1 @10: 0.1\n"
     ]
    },
    {
     "name": "stderr",
     "output_type": "stream",
     "text": [
      "\r",
      "  9%|▉         | 398/4536 [13:25:55<139:39:15, 121.50s/it]"
     ]
    },
    {
     "name": "stdout",
     "output_type": "stream",
     "text": [
      "iter: 397, configuration: {'vectorizer_norm': 'l2', 'svm_degree': 5, 'medoid_normalization': 'standard', 'svm_kernel': 'rbf', 'nb_medoids_ratio': 0.2, 'svm_gamma': 0.1, 'svm_c': 1}\n",
      "\n",
      "validation micro-F1 @1: 0.12871287128712872\n",
      "validation micro-F1 @2: 0.1311881188118812\n",
      "validation micro-F1 @3: 0.12376237623762376\n",
      "validation micro-F1 @4: 0.11633663366336634\n",
      "validation micro-F1 @5: 0.12079207920792079\n",
      "validation micro-F1 @6: 0.11056105610561057\n",
      "validation micro-F1 @7: 0.10113154172560113\n",
      "validation micro-F1 @8: 0.0983910891089109\n",
      "validation micro-F1 @9: 0.09900990099009901\n",
      "validation micro-F1 @10: 0.09900990099009901\n"
     ]
    },
    {
     "name": "stderr",
     "output_type": "stream",
     "text": [
      "\r",
      "  9%|▉         | 399/4536 [13:33:24<140:33:45, 122.32s/it]"
     ]
    },
    {
     "name": "stdout",
     "output_type": "stream",
     "text": [
      "iter: 398, configuration: {'vectorizer_norm': None, 'svm_degree': 5, 'medoid_normalization': 'standard', 'svm_kernel': 'rbf', 'nb_medoids_ratio': 0.2, 'svm_gamma': 0.1, 'svm_c': 1}\n",
      "\n",
      "validation micro-F1 @1: 0.13861386138613863\n",
      "validation micro-F1 @2: 0.15099009900990099\n",
      "validation micro-F1 @3: 0.12871287128712872\n",
      "validation micro-F1 @4: 0.11386138613861387\n",
      "validation micro-F1 @5: 0.10495049504950495\n",
      "validation micro-F1 @6: 0.09900990099009901\n",
      "validation micro-F1 @7: 0.10183875530410184\n",
      "validation micro-F1 @8: 0.09962871287128713\n",
      "validation micro-F1 @9: 0.09900990099009901\n",
      "validation micro-F1 @10: 0.09405940594059406\n"
     ]
    },
    {
     "name": "stderr",
     "output_type": "stream",
     "text": [
      "\r",
      "  9%|▉         | 400/4536 [13:34:45<140:24:38, 122.21s/it]"
     ]
    },
    {
     "name": "stdout",
     "output_type": "stream",
     "text": [
      "iter: 399, configuration: {'vectorizer_norm': 'l1', 'svm_degree': 5, 'medoid_normalization': 'standard', 'svm_kernel': 'poly', 'nb_medoids_ratio': 0.2, 'svm_gamma': 0.1, 'svm_c': 1}\n",
      "\n",
      "validation micro-F1 @1: 0.13366336633663367\n",
      "validation micro-F1 @2: 0.1485148514851485\n",
      "validation micro-F1 @3: 0.13036303630363036\n",
      "validation micro-F1 @4: 0.11386138613861387\n",
      "validation micro-F1 @5: 0.10594059405940594\n",
      "validation micro-F1 @6: 0.10726072607260725\n",
      "validation micro-F1 @7: 0.10396039603960396\n",
      "validation micro-F1 @8: 0.10086633663366337\n",
      "validation micro-F1 @9: 0.1001100110011001\n",
      "validation micro-F1 @10: 0.09653465346534654\n"
     ]
    },
    {
     "name": "stderr",
     "output_type": "stream",
     "text": [
      "\r",
      "  9%|▉         | 401/4536 [13:37:38<140:31:17, 122.34s/it]"
     ]
    },
    {
     "name": "stdout",
     "output_type": "stream",
     "text": [
      "iter: 400, configuration: {'vectorizer_norm': 'l2', 'svm_degree': 5, 'medoid_normalization': 'standard', 'svm_kernel': 'poly', 'nb_medoids_ratio': 0.2, 'svm_gamma': 0.1, 'svm_c': 1}\n",
      "\n",
      "validation micro-F1 @1: 0.14356435643564355\n",
      "validation micro-F1 @2: 0.1485148514851485\n",
      "validation micro-F1 @3: 0.13366336633663367\n",
      "validation micro-F1 @4: 0.11386138613861387\n",
      "validation micro-F1 @5: 0.10594059405940594\n",
      "validation micro-F1 @6: 0.10231023102310231\n",
      "validation micro-F1 @7: 0.10396039603960396\n",
      "validation micro-F1 @8: 0.09777227722772278\n",
      "validation micro-F1 @9: 0.1001100110011001\n",
      "validation micro-F1 @10: 0.09752475247524753\n"
     ]
    },
    {
     "name": "stderr",
     "output_type": "stream",
     "text": [
      "\r",
      "  9%|▉         | 402/4536 [13:40:35<140:38:35, 122.48s/it]"
     ]
    },
    {
     "name": "stdout",
     "output_type": "stream",
     "text": [
      "iter: 401, configuration: {'vectorizer_norm': None, 'svm_degree': 5, 'medoid_normalization': 'standard', 'svm_kernel': 'poly', 'nb_medoids_ratio': 0.2, 'svm_gamma': 0.1, 'svm_c': 1}\n",
      "\n",
      "validation micro-F1 @1: 0.13366336633663367\n",
      "validation micro-F1 @2: 0.14603960396039603\n",
      "validation micro-F1 @3: 0.12706270627062707\n",
      "validation micro-F1 @4: 0.11262376237623763\n",
      "validation micro-F1 @5: 0.10396039603960396\n",
      "validation micro-F1 @6: 0.09900990099009901\n",
      "validation micro-F1 @7: 0.09900990099009901\n",
      "validation micro-F1 @8: 0.0983910891089109\n",
      "validation micro-F1 @9: 0.09900990099009901\n",
      "validation micro-F1 @10: 0.09504950495049505\n"
     ]
    },
    {
     "name": "stderr",
     "output_type": "stream",
     "text": [
      "\r",
      "  9%|▉         | 403/4536 [13:41:46<140:27:46, 122.35s/it]"
     ]
    },
    {
     "name": "stdout",
     "output_type": "stream",
     "text": [
      "iter: 402, configuration: {'vectorizer_norm': 'l1', 'svm_degree': 5, 'medoid_normalization': 'standard', 'svm_kernel': 'rbf', 'nb_medoids_ratio': 0.2, 'svm_gamma': 0.2, 'svm_c': 1}\n",
      "\n",
      "validation micro-F1 @1: 0.13366336633663367\n",
      "validation micro-F1 @2: 0.1485148514851485\n",
      "validation micro-F1 @3: 0.13036303630363036\n",
      "validation micro-F1 @4: 0.11386138613861387\n",
      "validation micro-F1 @5: 0.10495049504950495\n",
      "validation micro-F1 @6: 0.10148514851485149\n",
      "validation micro-F1 @7: 0.09971711456859972\n",
      "validation micro-F1 @8: 0.09962871287128713\n",
      "validation micro-F1 @9: 0.10121012101210121\n",
      "validation micro-F1 @10: 0.09752475247524753\n"
     ]
    },
    {
     "name": "stderr",
     "output_type": "stream",
     "text": [
      "\r",
      "  9%|▉         | 404/4536 [13:43:12<140:19:29, 122.26s/it]"
     ]
    },
    {
     "name": "stdout",
     "output_type": "stream",
     "text": [
      "iter: 403, configuration: {'vectorizer_norm': 'l2', 'svm_degree': 5, 'medoid_normalization': 'standard', 'svm_kernel': 'rbf', 'nb_medoids_ratio': 0.2, 'svm_gamma': 0.2, 'svm_c': 1}\n",
      "\n",
      "validation micro-F1 @1: 0.12376237623762376\n",
      "validation micro-F1 @2: 0.13861386138613863\n",
      "validation micro-F1 @3: 0.12871287128712872\n",
      "validation micro-F1 @4: 0.11757425742574257\n",
      "validation micro-F1 @5: 0.1099009900990099\n",
      "validation micro-F1 @6: 0.10313531353135313\n",
      "validation micro-F1 @7: 0.09971711456859972\n",
      "validation micro-F1 @8: 0.09715346534653466\n",
      "validation micro-F1 @9: 0.09955995599559957\n",
      "validation micro-F1 @10: 0.09752475247524753\n"
     ]
    },
    {
     "name": "stderr",
     "output_type": "stream",
     "text": [
      "\r",
      "  9%|▉         | 405/4536 [13:50:33<141:11:42, 123.05s/it]"
     ]
    },
    {
     "name": "stdout",
     "output_type": "stream",
     "text": [
      "iter: 404, configuration: {'vectorizer_norm': None, 'svm_degree': 5, 'medoid_normalization': 'standard', 'svm_kernel': 'rbf', 'nb_medoids_ratio': 0.2, 'svm_gamma': 0.2, 'svm_c': 1}\n",
      "\n",
      "validation micro-F1 @1: 0.13861386138613863\n",
      "validation micro-F1 @2: 0.15099009900990099\n",
      "validation micro-F1 @3: 0.12871287128712872\n",
      "validation micro-F1 @4: 0.11386138613861387\n",
      "validation micro-F1 @5: 0.10495049504950495\n",
      "validation micro-F1 @6: 0.09818481848184818\n",
      "validation micro-F1 @7: 0.09688826025459689\n",
      "validation micro-F1 @8: 0.09962871287128713\n",
      "validation micro-F1 @9: 0.09900990099009901\n",
      "validation micro-F1 @10: 0.09405940594059406\n"
     ]
    },
    {
     "name": "stderr",
     "output_type": "stream",
     "text": [
      "\r",
      "  9%|▉         | 406/4536 [13:52:27<141:08:07, 123.02s/it]"
     ]
    },
    {
     "name": "stdout",
     "output_type": "stream",
     "text": [
      "iter: 405, configuration: {'vectorizer_norm': 'l1', 'svm_degree': 5, 'medoid_normalization': 'standard', 'svm_kernel': 'poly', 'nb_medoids_ratio': 0.2, 'svm_gamma': 0.2, 'svm_c': 1}\n",
      "\n",
      "validation micro-F1 @1: 0.13366336633663367\n",
      "validation micro-F1 @2: 0.15099009900990099\n",
      "validation micro-F1 @3: 0.12871287128712872\n",
      "validation micro-F1 @4: 0.11386138613861387\n",
      "validation micro-F1 @5: 0.10495049504950495\n",
      "validation micro-F1 @6: 0.10561056105610561\n",
      "validation micro-F1 @7: 0.10042432814710042\n",
      "validation micro-F1 @8: 0.09900990099009901\n",
      "validation micro-F1 @9: 0.09900990099009901\n",
      "validation micro-F1 @10: 0.09801980198019802\n"
     ]
    },
    {
     "name": "stderr",
     "output_type": "stream",
     "text": [
      "\r",
      "  9%|▉         | 407/4536 [13:55:36<141:17:09, 123.18s/it]"
     ]
    },
    {
     "name": "stdout",
     "output_type": "stream",
     "text": [
      "iter: 406, configuration: {'vectorizer_norm': 'l2', 'svm_degree': 5, 'medoid_normalization': 'standard', 'svm_kernel': 'poly', 'nb_medoids_ratio': 0.2, 'svm_gamma': 0.2, 'svm_c': 1}\n",
      "\n",
      "validation micro-F1 @1: 0.14356435643564355\n",
      "validation micro-F1 @2: 0.15099009900990099\n",
      "validation micro-F1 @3: 0.13036303630363036\n",
      "validation micro-F1 @4: 0.11633663366336634\n",
      "validation micro-F1 @5: 0.10594059405940594\n",
      "validation micro-F1 @6: 0.10231023102310231\n",
      "validation micro-F1 @7: 0.10608203677510608\n",
      "validation micro-F1 @8: 0.10272277227722772\n",
      "validation micro-F1 @9: 0.09955995599559957\n",
      "validation micro-F1 @10: 0.09603960396039604\n"
     ]
    },
    {
     "name": "stderr",
     "output_type": "stream",
     "text": [
      "\r",
      "  9%|▉         | 408/4536 [13:58:37<141:24:51, 123.33s/it]"
     ]
    },
    {
     "name": "stdout",
     "output_type": "stream",
     "text": [
      "iter: 407, configuration: {'vectorizer_norm': None, 'svm_degree': 5, 'medoid_normalization': 'standard', 'svm_kernel': 'poly', 'nb_medoids_ratio': 0.2, 'svm_gamma': 0.2, 'svm_c': 1}\n",
      "\n",
      "validation micro-F1 @1: 0.13366336633663367\n",
      "validation micro-F1 @2: 0.14603960396039603\n",
      "validation micro-F1 @3: 0.12706270627062707\n",
      "validation micro-F1 @4: 0.11262376237623763\n",
      "validation micro-F1 @5: 0.10594059405940594\n",
      "validation micro-F1 @6: 0.10313531353135313\n",
      "validation micro-F1 @7: 0.10113154172560113\n",
      "validation micro-F1 @8: 0.1021039603960396\n",
      "validation micro-F1 @9: 0.1001100110011001\n",
      "validation micro-F1 @10: 0.09504950495049505\n"
     ]
    },
    {
     "name": "stderr",
     "output_type": "stream",
     "text": [
      "\r",
      "  9%|▉         | 409/4536 [13:59:49<141:14:14, 123.20s/it]"
     ]
    },
    {
     "name": "stdout",
     "output_type": "stream",
     "text": [
      "iter: 408, configuration: {'vectorizer_norm': 'l1', 'svm_degree': 5, 'medoid_normalization': 'standard', 'svm_kernel': 'rbf', 'nb_medoids_ratio': 0.2, 'svm_gamma': 0.3, 'svm_c': 1}\n",
      "\n",
      "validation micro-F1 @1: 0.13366336633663367\n",
      "validation micro-F1 @2: 0.1485148514851485\n",
      "validation micro-F1 @3: 0.12871287128712872\n",
      "validation micro-F1 @4: 0.11262376237623763\n",
      "validation micro-F1 @5: 0.10792079207920792\n",
      "validation micro-F1 @6: 0.11056105610561057\n",
      "validation micro-F1 @7: 0.10608203677510608\n",
      "validation micro-F1 @8: 0.10767326732673267\n",
      "validation micro-F1 @9: 0.10286028602860287\n",
      "validation micro-F1 @10: 0.09900990099009901\n"
     ]
    },
    {
     "name": "stderr",
     "output_type": "stream",
     "text": [
      "\r",
      "  9%|▉         | 410/4536 [14:01:22<141:07:10, 123.13s/it]"
     ]
    },
    {
     "name": "stdout",
     "output_type": "stream",
     "text": [
      "iter: 409, configuration: {'vectorizer_norm': 'l2', 'svm_degree': 5, 'medoid_normalization': 'standard', 'svm_kernel': 'rbf', 'nb_medoids_ratio': 0.2, 'svm_gamma': 0.3, 'svm_c': 1}\n",
      "\n",
      "validation micro-F1 @1: 0.11386138613861387\n",
      "validation micro-F1 @2: 0.14603960396039603\n",
      "validation micro-F1 @3: 0.12046204620462046\n",
      "validation micro-F1 @4: 0.11633663366336634\n",
      "validation micro-F1 @5: 0.11386138613861387\n",
      "validation micro-F1 @6: 0.10396039603960396\n",
      "validation micro-F1 @7: 0.10608203677510608\n",
      "validation micro-F1 @8: 0.1021039603960396\n",
      "validation micro-F1 @9: 0.09625962596259625\n",
      "validation micro-F1 @10: 0.09257425742574257\n"
     ]
    },
    {
     "name": "stderr",
     "output_type": "stream",
     "text": [
      "\r",
      "  9%|▉         | 411/4536 [14:08:38<141:57:27, 123.89s/it]"
     ]
    },
    {
     "name": "stdout",
     "output_type": "stream",
     "text": [
      "iter: 410, configuration: {'vectorizer_norm': None, 'svm_degree': 5, 'medoid_normalization': 'standard', 'svm_kernel': 'rbf', 'nb_medoids_ratio': 0.2, 'svm_gamma': 0.3, 'svm_c': 1}\n",
      "\n",
      "validation micro-F1 @1: 0.13861386138613863\n",
      "validation micro-F1 @2: 0.15099009900990099\n",
      "validation micro-F1 @3: 0.12871287128712872\n",
      "validation micro-F1 @4: 0.11386138613861387\n",
      "validation micro-F1 @5: 0.10495049504950495\n",
      "validation micro-F1 @6: 0.09818481848184818\n",
      "validation micro-F1 @7: 0.10113154172560113\n",
      "validation micro-F1 @8: 0.10024752475247525\n",
      "validation micro-F1 @9: 0.09900990099009901\n",
      "validation micro-F1 @10: 0.09603960396039604\n"
     ]
    },
    {
     "name": "stderr",
     "output_type": "stream",
     "text": [
      "\r",
      "  9%|▉         | 412/4536 [14:10:56<141:57:37, 123.92s/it]"
     ]
    },
    {
     "name": "stdout",
     "output_type": "stream",
     "text": [
      "iter: 411, configuration: {'vectorizer_norm': 'l1', 'svm_degree': 5, 'medoid_normalization': 'standard', 'svm_kernel': 'poly', 'nb_medoids_ratio': 0.2, 'svm_gamma': 0.3, 'svm_c': 1}\n",
      "\n",
      "validation micro-F1 @1: 0.13366336633663367\n",
      "validation micro-F1 @2: 0.15099009900990099\n",
      "validation micro-F1 @3: 0.12871287128712872\n",
      "validation micro-F1 @4: 0.11386138613861387\n",
      "validation micro-F1 @5: 0.10495049504950495\n",
      "validation micro-F1 @6: 0.10231023102310231\n",
      "validation micro-F1 @7: 0.10183875530410184\n",
      "validation micro-F1 @8: 0.09900990099009901\n",
      "validation micro-F1 @9: 0.09900990099009901\n",
      "validation micro-F1 @10: 0.09554455445544555\n"
     ]
    },
    {
     "name": "stderr",
     "output_type": "stream",
     "text": [
      "\r",
      "  9%|▉         | 413/4536 [14:13:48<142:03:39, 124.04s/it]"
     ]
    },
    {
     "name": "stdout",
     "output_type": "stream",
     "text": [
      "iter: 412, configuration: {'vectorizer_norm': 'l2', 'svm_degree': 5, 'medoid_normalization': 'standard', 'svm_kernel': 'poly', 'nb_medoids_ratio': 0.2, 'svm_gamma': 0.3, 'svm_c': 1}\n",
      "\n",
      "validation micro-F1 @1: 0.16831683168316833\n",
      "validation micro-F1 @2: 0.1485148514851485\n",
      "validation micro-F1 @3: 0.12706270627062707\n",
      "validation micro-F1 @4: 0.11386138613861387\n",
      "validation micro-F1 @5: 0.10297029702970296\n",
      "validation micro-F1 @6: 0.10148514851485149\n",
      "validation micro-F1 @7: 0.10537482319660538\n",
      "validation micro-F1 @8: 0.10272277227722772\n",
      "validation micro-F1 @9: 0.1001100110011001\n",
      "validation micro-F1 @10: 0.09504950495049505\n"
     ]
    },
    {
     "name": "stderr",
     "output_type": "stream",
     "text": [
      "\r",
      "  9%|▉         | 414/4536 [14:16:40<142:09:27, 124.16s/it]"
     ]
    },
    {
     "name": "stdout",
     "output_type": "stream",
     "text": [
      "iter: 413, configuration: {'vectorizer_norm': None, 'svm_degree': 5, 'medoid_normalization': 'standard', 'svm_kernel': 'poly', 'nb_medoids_ratio': 0.2, 'svm_gamma': 0.3, 'svm_c': 1}\n",
      "\n",
      "validation micro-F1 @1: 0.13366336633663367\n",
      "validation micro-F1 @2: 0.1485148514851485\n",
      "validation micro-F1 @3: 0.12706270627062707\n",
      "validation micro-F1 @4: 0.11262376237623763\n",
      "validation micro-F1 @5: 0.10396039603960396\n",
      "validation micro-F1 @6: 0.10313531353135313\n",
      "validation micro-F1 @7: 0.10183875530410184\n",
      "validation micro-F1 @8: 0.09962871287128713\n",
      "validation micro-F1 @9: 0.09955995599559957\n",
      "validation micro-F1 @10: 0.09455445544554456\n"
     ]
    },
    {
     "name": "stderr",
     "output_type": "stream",
     "text": [
      "\r",
      "  9%|▉         | 415/4536 [14:17:56<141:59:24, 124.04s/it]"
     ]
    },
    {
     "name": "stdout",
     "output_type": "stream",
     "text": [
      "iter: 414, configuration: {'vectorizer_norm': 'l1', 'svm_degree': 5, 'medoid_normalization': 'standard', 'svm_kernel': 'rbf', 'nb_medoids_ratio': 0.2, 'svm_gamma': 0.5, 'svm_c': 1}\n",
      "\n",
      "validation micro-F1 @1: 0.13366336633663367\n",
      "validation micro-F1 @2: 0.15099009900990099\n",
      "validation micro-F1 @3: 0.13036303630363036\n",
      "validation micro-F1 @4: 0.11633663366336634\n",
      "validation micro-F1 @5: 0.10693069306930693\n",
      "validation micro-F1 @6: 0.10066006600660066\n",
      "validation micro-F1 @7: 0.10183875530410184\n",
      "validation micro-F1 @8: 0.10334158415841584\n",
      "validation micro-F1 @9: 0.10176017601760176\n",
      "validation micro-F1 @10: 0.09950495049504951\n"
     ]
    },
    {
     "name": "stderr",
     "output_type": "stream",
     "text": [
      "\r",
      "  9%|▉         | 416/4536 [14:19:41<141:54:19, 124.00s/it]"
     ]
    },
    {
     "name": "stdout",
     "output_type": "stream",
     "text": [
      "iter: 415, configuration: {'vectorizer_norm': 'l2', 'svm_degree': 5, 'medoid_normalization': 'standard', 'svm_kernel': 'rbf', 'nb_medoids_ratio': 0.2, 'svm_gamma': 0.5, 'svm_c': 1}\n",
      "\n",
      "validation micro-F1 @1: 0.12871287128712872\n",
      "validation micro-F1 @2: 0.14603960396039603\n",
      "validation micro-F1 @3: 0.12046204620462046\n",
      "validation micro-F1 @4: 0.10767326732673267\n",
      "validation micro-F1 @5: 0.10396039603960396\n",
      "validation micro-F1 @6: 0.10643564356435643\n",
      "validation micro-F1 @7: 0.09759547383309759\n",
      "validation micro-F1 @8: 0.09653465346534654\n",
      "validation micro-F1 @9: 0.09515951595159516\n",
      "validation micro-F1 @10: 0.09504950495049505\n"
     ]
    },
    {
     "name": "stderr",
     "output_type": "stream",
     "text": [
      "\r",
      "  9%|▉         | 417/4536 [14:26:51<142:42:36, 124.73s/it]"
     ]
    },
    {
     "name": "stdout",
     "output_type": "stream",
     "text": [
      "iter: 416, configuration: {'vectorizer_norm': None, 'svm_degree': 5, 'medoid_normalization': 'standard', 'svm_kernel': 'rbf', 'nb_medoids_ratio': 0.2, 'svm_gamma': 0.5, 'svm_c': 1}\n",
      "\n",
      "validation micro-F1 @1: 0.13861386138613863\n",
      "validation micro-F1 @2: 0.15099009900990099\n",
      "validation micro-F1 @3: 0.12871287128712872\n",
      "validation micro-F1 @4: 0.11386138613861387\n",
      "validation micro-F1 @5: 0.10495049504950495\n",
      "validation micro-F1 @6: 0.10726072607260725\n",
      "validation micro-F1 @7: 0.10466760961810467\n",
      "validation micro-F1 @8: 0.09962871287128713\n",
      "validation micro-F1 @9: 0.09900990099009901\n",
      "validation micro-F1 @10: 0.09405940594059406\n"
     ]
    },
    {
     "name": "stderr",
     "output_type": "stream",
     "text": [
      "\r",
      "  9%|▉         | 418/4536 [14:30:00<142:51:04, 124.88s/it]"
     ]
    },
    {
     "name": "stdout",
     "output_type": "stream",
     "text": [
      "iter: 417, configuration: {'vectorizer_norm': 'l1', 'svm_degree': 5, 'medoid_normalization': 'standard', 'svm_kernel': 'poly', 'nb_medoids_ratio': 0.2, 'svm_gamma': 0.5, 'svm_c': 1}\n",
      "\n",
      "validation micro-F1 @1: 0.13366336633663367\n",
      "validation micro-F1 @2: 0.15099009900990099\n",
      "validation micro-F1 @3: 0.12871287128712872\n",
      "validation micro-F1 @4: 0.11386138613861387\n",
      "validation micro-F1 @5: 0.10792079207920792\n",
      "validation micro-F1 @6: 0.10808580858085809\n",
      "validation micro-F1 @7: 0.10183875530410184\n",
      "validation micro-F1 @8: 0.10024752475247525\n",
      "validation micro-F1 @9: 0.09845984598459846\n",
      "validation micro-F1 @10: 0.09653465346534654\n"
     ]
    },
    {
     "name": "stderr",
     "output_type": "stream",
     "text": [
      "\r",
      "  9%|▉         | 419/4536 [14:33:01<142:58:10, 125.02s/it]"
     ]
    },
    {
     "name": "stdout",
     "output_type": "stream",
     "text": [
      "iter: 418, configuration: {'vectorizer_norm': 'l2', 'svm_degree': 5, 'medoid_normalization': 'standard', 'svm_kernel': 'poly', 'nb_medoids_ratio': 0.2, 'svm_gamma': 0.5, 'svm_c': 1}\n",
      "\n",
      "validation micro-F1 @1: 0.15346534653465346\n",
      "validation micro-F1 @2: 0.13613861386138615\n",
      "validation micro-F1 @3: 0.13366336633663367\n",
      "validation micro-F1 @4: 0.1150990099009901\n",
      "validation micro-F1 @5: 0.10198019801980197\n",
      "validation micro-F1 @6: 0.10066006600660066\n",
      "validation micro-F1 @7: 0.10466760961810467\n",
      "validation micro-F1 @8: 0.10086633663366337\n",
      "validation micro-F1 @9: 0.1001100110011001\n",
      "validation micro-F1 @10: 0.09554455445544555\n"
     ]
    },
    {
     "name": "stderr",
     "output_type": "stream",
     "text": [
      "\r",
      "  9%|▉         | 420/4536 [14:35:47<143:02:43, 125.11s/it]"
     ]
    },
    {
     "name": "stdout",
     "output_type": "stream",
     "text": [
      "iter: 419, configuration: {'vectorizer_norm': None, 'svm_degree': 5, 'medoid_normalization': 'standard', 'svm_kernel': 'poly', 'nb_medoids_ratio': 0.2, 'svm_gamma': 0.5, 'svm_c': 1}\n",
      "\n",
      "validation micro-F1 @1: 0.13366336633663367\n",
      "validation micro-F1 @2: 0.1485148514851485\n",
      "validation micro-F1 @3: 0.12706270627062707\n",
      "validation micro-F1 @4: 0.11262376237623763\n",
      "validation micro-F1 @5: 0.10495049504950495\n",
      "validation micro-F1 @6: 0.09900990099009901\n",
      "validation micro-F1 @7: 0.10042432814710042\n",
      "validation micro-F1 @8: 0.10086633663366337\n",
      "validation micro-F1 @9: 0.09845984598459846\n",
      "validation micro-F1 @10: 0.09306930693069307\n"
     ]
    },
    {
     "name": "stderr",
     "output_type": "stream",
     "text": [
      "\r",
      "  9%|▉         | 421/4536 [14:37:07<142:53:19, 125.01s/it]"
     ]
    },
    {
     "name": "stdout",
     "output_type": "stream",
     "text": [
      "iter: 420, configuration: {'vectorizer_norm': 'l1', 'svm_degree': 5, 'medoid_normalization': 'standard', 'svm_kernel': 'rbf', 'nb_medoids_ratio': 0.2, 'svm_gamma': 1.0, 'svm_c': 1}\n",
      "\n",
      "validation micro-F1 @1: 0.13366336633663367\n",
      "validation micro-F1 @2: 0.1485148514851485\n",
      "validation micro-F1 @3: 0.12706270627062707\n",
      "validation micro-F1 @4: 0.1150990099009901\n",
      "validation micro-F1 @5: 0.10693069306930693\n",
      "validation micro-F1 @6: 0.10973597359735973\n",
      "validation micro-F1 @7: 0.10961810466760961\n",
      "validation micro-F1 @8: 0.10891089108910891\n",
      "validation micro-F1 @9: 0.10121012101210121\n",
      "validation micro-F1 @10: 0.09603960396039604\n"
     ]
    },
    {
     "name": "stderr",
     "output_type": "stream",
     "text": [
      "\r",
      "  9%|▉         | 422/4536 [14:39:22<142:52:55, 125.03s/it]"
     ]
    },
    {
     "name": "stdout",
     "output_type": "stream",
     "text": [
      "iter: 421, configuration: {'vectorizer_norm': 'l2', 'svm_degree': 5, 'medoid_normalization': 'standard', 'svm_kernel': 'rbf', 'nb_medoids_ratio': 0.2, 'svm_gamma': 1.0, 'svm_c': 1}\n",
      "\n",
      "validation micro-F1 @1: 0.15841584158415842\n",
      "validation micro-F1 @2: 0.15841584158415842\n",
      "validation micro-F1 @3: 0.13036303630363036\n",
      "validation micro-F1 @4: 0.11262376237623763\n",
      "validation micro-F1 @5: 0.1099009900990099\n",
      "validation micro-F1 @6: 0.10396039603960396\n",
      "validation micro-F1 @7: 0.09900990099009901\n",
      "validation micro-F1 @8: 0.09777227722772278\n",
      "validation micro-F1 @9: 0.09570957095709572\n",
      "validation micro-F1 @10: 0.09306930693069307\n"
     ]
    },
    {
     "name": "stderr",
     "output_type": "stream",
     "text": [
      "\r",
      "  9%|▉         | 423/4536 [14:46:24<143:38:55, 125.73s/it]"
     ]
    },
    {
     "name": "stdout",
     "output_type": "stream",
     "text": [
      "iter: 422, configuration: {'vectorizer_norm': None, 'svm_degree': 5, 'medoid_normalization': 'standard', 'svm_kernel': 'rbf', 'nb_medoids_ratio': 0.2, 'svm_gamma': 1.0, 'svm_c': 1}\n",
      "\n",
      "validation micro-F1 @1: 0.13861386138613863\n",
      "validation micro-F1 @2: 0.15099009900990099\n",
      "validation micro-F1 @3: 0.12871287128712872\n",
      "validation micro-F1 @4: 0.11386138613861387\n",
      "validation micro-F1 @5: 0.10495049504950495\n",
      "validation micro-F1 @6: 0.09818481848184818\n",
      "validation micro-F1 @7: 0.09688826025459689\n",
      "validation micro-F1 @8: 0.09962871287128713\n",
      "validation micro-F1 @9: 0.09900990099009901\n",
      "validation micro-F1 @10: 0.09405940594059406\n"
     ]
    },
    {
     "name": "stderr",
     "output_type": "stream",
     "text": [
      "\r",
      "  9%|▉         | 424/4536 [14:49:14<143:43:59, 125.84s/it]"
     ]
    },
    {
     "name": "stdout",
     "output_type": "stream",
     "text": [
      "iter: 423, configuration: {'vectorizer_norm': 'l1', 'svm_degree': 5, 'medoid_normalization': 'standard', 'svm_kernel': 'poly', 'nb_medoids_ratio': 0.2, 'svm_gamma': 1.0, 'svm_c': 1}\n",
      "\n",
      "validation micro-F1 @1: 0.13861386138613863\n",
      "validation micro-F1 @2: 0.15099009900990099\n",
      "validation micro-F1 @3: 0.12871287128712872\n",
      "validation micro-F1 @4: 0.11386138613861387\n",
      "validation micro-F1 @5: 0.10495049504950495\n",
      "validation micro-F1 @6: 0.10891089108910891\n",
      "validation micro-F1 @7: 0.10466760961810467\n",
      "validation micro-F1 @8: 0.09962871287128713\n",
      "validation micro-F1 @9: 0.09790979097909791\n",
      "validation micro-F1 @10: 0.09455445544554456\n"
     ]
    },
    {
     "name": "stderr",
     "output_type": "stream",
     "text": [
      "\r",
      "  9%|▉         | 425/4536 [14:52:06<143:49:17, 125.94s/it]"
     ]
    },
    {
     "name": "stdout",
     "output_type": "stream",
     "text": [
      "iter: 424, configuration: {'vectorizer_norm': 'l2', 'svm_degree': 5, 'medoid_normalization': 'standard', 'svm_kernel': 'poly', 'nb_medoids_ratio': 0.2, 'svm_gamma': 1.0, 'svm_c': 1}\n",
      "\n",
      "validation micro-F1 @1: 0.1485148514851485\n",
      "validation micro-F1 @2: 0.13613861386138615\n",
      "validation micro-F1 @3: 0.12046204620462046\n",
      "validation micro-F1 @4: 0.11633663366336634\n",
      "validation micro-F1 @5: 0.10396039603960396\n",
      "validation micro-F1 @6: 0.10726072607260725\n",
      "validation micro-F1 @7: 0.10396039603960396\n",
      "validation micro-F1 @8: 0.10457920792079207\n",
      "validation micro-F1 @9: 0.09900990099009901\n",
      "validation micro-F1 @10: 0.09356435643564356\n"
     ]
    },
    {
     "name": "stderr",
     "output_type": "stream",
     "text": [
      "\r",
      "  9%|▉         | 426/4536 [14:54:57<143:54:29, 126.05s/it]"
     ]
    },
    {
     "name": "stdout",
     "output_type": "stream",
     "text": [
      "iter: 425, configuration: {'vectorizer_norm': None, 'svm_degree': 5, 'medoid_normalization': 'standard', 'svm_kernel': 'poly', 'nb_medoids_ratio': 0.2, 'svm_gamma': 1.0, 'svm_c': 1}\n",
      "\n",
      "validation micro-F1 @1: 0.13861386138613863\n",
      "validation micro-F1 @2: 0.13861386138613863\n",
      "validation micro-F1 @3: 0.12376237623762376\n",
      "validation micro-F1 @4: 0.11262376237623763\n",
      "validation micro-F1 @5: 0.10396039603960396\n",
      "validation micro-F1 @6: 0.10066006600660066\n",
      "validation micro-F1 @7: 0.10466760961810467\n",
      "validation micro-F1 @8: 0.10086633663366337\n",
      "validation micro-F1 @9: 0.09955995599559957\n",
      "validation micro-F1 @10: 0.09405940594059406\n"
     ]
    },
    {
     "name": "stderr",
     "output_type": "stream",
     "text": [
      "\r",
      "  9%|▉         | 427/4536 [14:55:37<143:38:35, 125.85s/it]"
     ]
    },
    {
     "name": "stdout",
     "output_type": "stream",
     "text": [
      "iter: 426, configuration: {'vectorizer_norm': 'l1', 'svm_degree': 5, 'medoid_normalization': 'standard', 'svm_kernel': 'rbf', 'nb_medoids_ratio': 0.2, 'svm_gamma': 'auto', 'svm_c': 1}\n",
      "\n",
      "validation micro-F1 @1: 0.13366336633663367\n",
      "validation micro-F1 @2: 0.13861386138613863\n",
      "validation micro-F1 @3: 0.1254125412541254\n",
      "validation micro-F1 @4: 0.11262376237623763\n",
      "validation micro-F1 @5: 0.10396039603960396\n",
      "validation micro-F1 @6: 0.10561056105610561\n",
      "validation micro-F1 @7: 0.09971711456859972\n",
      "validation micro-F1 @8: 0.10148514851485149\n",
      "validation micro-F1 @9: 0.09735973597359736\n",
      "validation micro-F1 @10: 0.09603960396039604\n"
     ]
    },
    {
     "name": "stderr",
     "output_type": "stream",
     "text": [
      "\r",
      "  9%|▉         | 428/4536 [14:56:36<143:25:44, 125.69s/it]"
     ]
    },
    {
     "name": "stdout",
     "output_type": "stream",
     "text": [
      "iter: 427, configuration: {'vectorizer_norm': 'l2', 'svm_degree': 5, 'medoid_normalization': 'standard', 'svm_kernel': 'rbf', 'nb_medoids_ratio': 0.2, 'svm_gamma': 'auto', 'svm_c': 1}\n",
      "\n",
      "validation micro-F1 @1: 0.11386138613861387\n",
      "validation micro-F1 @2: 0.1188118811881188\n",
      "validation micro-F1 @3: 0.12376237623762376\n",
      "validation micro-F1 @4: 0.125\n",
      "validation micro-F1 @5: 0.11287128712871287\n",
      "validation micro-F1 @6: 0.10561056105610561\n",
      "validation micro-F1 @7: 0.10183875530410184\n",
      "validation micro-F1 @8: 0.10086633663366337\n",
      "validation micro-F1 @9: 0.09625962596259625\n",
      "validation micro-F1 @10: 0.09356435643564356\n"
     ]
    },
    {
     "name": "stderr",
     "output_type": "stream",
     "text": [
      "\r",
      "  9%|▉         | 429/4536 [15:00:31<143:41:11, 125.95s/it]"
     ]
    },
    {
     "name": "stdout",
     "output_type": "stream",
     "text": [
      "iter: 428, configuration: {'vectorizer_norm': None, 'svm_degree': 5, 'medoid_normalization': 'standard', 'svm_kernel': 'rbf', 'nb_medoids_ratio': 0.2, 'svm_gamma': 'auto', 'svm_c': 1}\n",
      "\n",
      "validation micro-F1 @1: 0.11386138613861387\n",
      "validation micro-F1 @2: 0.12376237623762376\n",
      "validation micro-F1 @3: 0.11551155115511551\n",
      "validation micro-F1 @4: 0.10891089108910891\n",
      "validation micro-F1 @5: 0.100990099009901\n",
      "validation micro-F1 @6: 0.09900990099009901\n",
      "validation micro-F1 @7: 0.09264497878359264\n",
      "validation micro-F1 @8: 0.09405940594059406\n",
      "validation micro-F1 @9: 0.09350935093509351\n",
      "validation micro-F1 @10: 0.09108910891089109\n"
     ]
    },
    {
     "name": "stderr",
     "output_type": "stream",
     "text": [
      "\r",
      "  9%|▉         | 430/4536 [15:01:01<143:23:43, 125.72s/it]"
     ]
    },
    {
     "name": "stdout",
     "output_type": "stream",
     "text": [
      "iter: 429, configuration: {'vectorizer_norm': 'l1', 'svm_degree': 5, 'medoid_normalization': 'standard', 'svm_kernel': 'poly', 'nb_medoids_ratio': 0.2, 'svm_gamma': 'auto', 'svm_c': 1}\n",
      "\n",
      "validation micro-F1 @1: 0.024752475247524754\n",
      "validation micro-F1 @2: 0.019801980198019802\n",
      "validation micro-F1 @3: 0.0165016501650165\n",
      "validation micro-F1 @4: 0.03712871287128713\n",
      "validation micro-F1 @5: 0.03663366336633663\n",
      "validation micro-F1 @6: 0.052805280528052806\n",
      "validation micro-F1 @7: 0.056577086280056574\n",
      "validation micro-F1 @8: 0.05198019801980198\n",
      "validation micro-F1 @9: 0.052255225522552254\n",
      "validation micro-F1 @10: 0.05198019801980198\n"
     ]
    },
    {
     "name": "stderr",
     "output_type": "stream",
     "text": [
      "\r",
      " 10%|▉         | 431/4536 [15:02:09<143:12:27, 125.59s/it]"
     ]
    },
    {
     "name": "stdout",
     "output_type": "stream",
     "text": [
      "iter: 430, configuration: {'vectorizer_norm': 'l2', 'svm_degree': 5, 'medoid_normalization': 'standard', 'svm_kernel': 'poly', 'nb_medoids_ratio': 0.2, 'svm_gamma': 'auto', 'svm_c': 1}\n",
      "\n",
      "validation micro-F1 @1: 0.14356435643564355\n",
      "validation micro-F1 @2: 0.14356435643564355\n",
      "validation micro-F1 @3: 0.1353135313531353\n",
      "validation micro-F1 @4: 0.11633663366336634\n",
      "validation micro-F1 @5: 0.11188118811881188\n",
      "validation micro-F1 @6: 0.10643564356435643\n",
      "validation micro-F1 @7: 0.10466760961810467\n",
      "validation micro-F1 @8: 0.09962871287128713\n",
      "validation micro-F1 @9: 0.0968096809680968\n",
      "validation micro-F1 @10: 0.09405940594059406\n"
     ]
    },
    {
     "name": "stderr",
     "output_type": "stream",
     "text": [
      "\r",
      " 10%|▉         | 432/4536 [15:04:51<143:16:09, 125.67s/it]"
     ]
    },
    {
     "name": "stdout",
     "output_type": "stream",
     "text": [
      "iter: 431, configuration: {'vectorizer_norm': None, 'svm_degree': 5, 'medoid_normalization': 'standard', 'svm_kernel': 'poly', 'nb_medoids_ratio': 0.2, 'svm_gamma': 'auto', 'svm_c': 1}\n",
      "\n",
      "validation micro-F1 @1: 0.13366336633663367\n",
      "validation micro-F1 @2: 0.1485148514851485\n",
      "validation micro-F1 @3: 0.12706270627062707\n",
      "validation micro-F1 @4: 0.11262376237623763\n",
      "validation micro-F1 @5: 0.10396039603960396\n",
      "validation micro-F1 @6: 0.09818481848184818\n",
      "validation micro-F1 @7: 0.09900990099009901\n",
      "validation micro-F1 @8: 0.09900990099009901\n",
      "validation micro-F1 @9: 0.09845984598459846\n",
      "validation micro-F1 @10: 0.09306930693069307\n"
     ]
    },
    {
     "name": "stderr",
     "output_type": "stream",
     "text": [
      "\r",
      " 10%|▉         | 433/4536 [15:05:35<143:01:05, 125.49s/it]"
     ]
    },
    {
     "name": "stdout",
     "output_type": "stream",
     "text": [
      "iter: 432, configuration: {'vectorizer_norm': 'l1', 'svm_degree': 3, 'medoid_normalization': 'standard', 'svm_kernel': 'rbf', 'nb_medoids_ratio': 0.3, 'svm_gamma': 0.1, 'svm_c': 0.001}\n",
      "\n",
      "validation micro-F1 @1: 0.0\n",
      "validation micro-F1 @2: 0.0049504950495049506\n",
      "validation micro-F1 @3: 0.006600660066006601\n",
      "validation micro-F1 @4: 0.006188118811881188\n",
      "validation micro-F1 @5: 0.007920792079207921\n",
      "validation micro-F1 @6: 0.009075907590759076\n",
      "validation micro-F1 @7: 0.009900990099009901\n",
      "validation micro-F1 @8: 0.011138613861386138\n",
      "validation micro-F1 @9: 0.010451045104510451\n",
      "validation micro-F1 @10: 0.011881188118811881\n"
     ]
    },
    {
     "name": "stderr",
     "output_type": "stream",
     "text": [
      "\r",
      " 10%|▉         | 434/4536 [15:06:18<142:46:01, 125.30s/it]"
     ]
    },
    {
     "name": "stdout",
     "output_type": "stream",
     "text": [
      "iter: 433, configuration: {'vectorizer_norm': 'l2', 'svm_degree': 3, 'medoid_normalization': 'standard', 'svm_kernel': 'rbf', 'nb_medoids_ratio': 0.3, 'svm_gamma': 0.1, 'svm_c': 0.001}\n",
      "\n",
      "validation micro-F1 @1: 0.009900990099009901\n",
      "validation micro-F1 @2: 0.06683168316831684\n",
      "validation micro-F1 @3: 0.07920792079207921\n",
      "validation micro-F1 @4: 0.08292079207920793\n",
      "validation micro-F1 @5: 0.08415841584158416\n",
      "validation micro-F1 @6: 0.08415841584158416\n",
      "validation micro-F1 @7: 0.07991513437057991\n",
      "validation micro-F1 @8: 0.08044554455445545\n",
      "validation micro-F1 @9: 0.07755775577557755\n",
      "validation micro-F1 @10: 0.07623762376237624\n"
     ]
    },
    {
     "name": "stderr",
     "output_type": "stream",
     "text": [
      "\r",
      " 10%|▉         | 435/4536 [15:07:07<142:32:01, 125.12s/it]"
     ]
    },
    {
     "name": "stdout",
     "output_type": "stream",
     "text": [
      "iter: 434, configuration: {'vectorizer_norm': None, 'svm_degree': 3, 'medoid_normalization': 'standard', 'svm_kernel': 'rbf', 'nb_medoids_ratio': 0.3, 'svm_gamma': 0.1, 'svm_c': 0.001}\n",
      "\n",
      "validation micro-F1 @1: 0.13366336633663367\n",
      "validation micro-F1 @2: 0.14603960396039603\n",
      "validation micro-F1 @3: 0.12706270627062707\n",
      "validation micro-F1 @4: 0.11262376237623763\n",
      "validation micro-F1 @5: 0.10396039603960396\n",
      "validation micro-F1 @6: 0.09818481848184818\n",
      "validation micro-F1 @7: 0.10113154172560113\n",
      "validation micro-F1 @8: 0.09962871287128713\n",
      "validation micro-F1 @9: 0.09900990099009901\n",
      "validation micro-F1 @10: 0.09405940594059406\n"
     ]
    },
    {
     "name": "stderr",
     "output_type": "stream",
     "text": [
      "\r",
      " 10%|▉         | 436/4536 [15:08:01<142:18:49, 124.96s/it]"
     ]
    },
    {
     "name": "stdout",
     "output_type": "stream",
     "text": [
      "iter: 435, configuration: {'vectorizer_norm': 'l1', 'svm_degree': 3, 'medoid_normalization': 'standard', 'svm_kernel': 'poly', 'nb_medoids_ratio': 0.3, 'svm_gamma': 0.1, 'svm_c': 0.001}\n",
      "\n",
      "validation micro-F1 @1: 0.13366336633663367\n",
      "validation micro-F1 @2: 0.15099009900990099\n",
      "validation micro-F1 @3: 0.12871287128712872\n",
      "validation micro-F1 @4: 0.1150990099009901\n",
      "validation micro-F1 @5: 0.10693069306930693\n",
      "validation micro-F1 @6: 0.10231023102310231\n",
      "validation micro-F1 @7: 0.10183875530410184\n",
      "validation micro-F1 @8: 0.09715346534653466\n",
      "validation micro-F1 @9: 0.09515951595159516\n",
      "validation micro-F1 @10: 0.09257425742574257\n"
     ]
    },
    {
     "name": "stderr",
     "output_type": "stream",
     "text": [
      "\r",
      " 10%|▉         | 437/4536 [15:09:46<142:13:30, 124.91s/it]"
     ]
    },
    {
     "name": "stdout",
     "output_type": "stream",
     "text": [
      "iter: 436, configuration: {'vectorizer_norm': 'l2', 'svm_degree': 3, 'medoid_normalization': 'standard', 'svm_kernel': 'poly', 'nb_medoids_ratio': 0.3, 'svm_gamma': 0.1, 'svm_c': 0.001}\n",
      "\n",
      "validation micro-F1 @1: 0.15841584158415842\n",
      "validation micro-F1 @2: 0.13613861386138615\n",
      "validation micro-F1 @3: 0.12046204620462046\n",
      "validation micro-F1 @4: 0.11633663366336634\n",
      "validation micro-F1 @5: 0.1099009900990099\n",
      "validation micro-F1 @6: 0.10148514851485149\n",
      "validation micro-F1 @7: 0.09900990099009901\n",
      "validation micro-F1 @8: 0.10086633663366337\n",
      "validation micro-F1 @9: 0.10176017601760176\n",
      "validation micro-F1 @10: 0.09653465346534654\n"
     ]
    },
    {
     "name": "stderr",
     "output_type": "stream",
     "text": [
      "\r",
      " 10%|▉         | 438/4536 [15:12:16<142:15:21, 124.97s/it]"
     ]
    },
    {
     "name": "stdout",
     "output_type": "stream",
     "text": [
      "iter: 437, configuration: {'vectorizer_norm': None, 'svm_degree': 3, 'medoid_normalization': 'standard', 'svm_kernel': 'poly', 'nb_medoids_ratio': 0.3, 'svm_gamma': 0.1, 'svm_c': 0.001}\n",
      "\n",
      "validation micro-F1 @1: 0.15841584158415842\n",
      "validation micro-F1 @2: 0.15099009900990099\n",
      "validation micro-F1 @3: 0.12871287128712872\n",
      "validation micro-F1 @4: 0.11262376237623763\n",
      "validation micro-F1 @5: 0.10693069306930693\n",
      "validation micro-F1 @6: 0.10066006600660066\n",
      "validation micro-F1 @7: 0.0983026874115983\n",
      "validation micro-F1 @8: 0.0983910891089109\n",
      "validation micro-F1 @9: 0.09570957095709572\n",
      "validation micro-F1 @10: 0.09306930693069307\n"
     ]
    },
    {
     "name": "stderr",
     "output_type": "stream",
     "text": [
      "\r",
      " 10%|▉         | 439/4536 [15:12:59<142:00:32, 124.78s/it]"
     ]
    },
    {
     "name": "stdout",
     "output_type": "stream",
     "text": [
      "iter: 438, configuration: {'vectorizer_norm': 'l1', 'svm_degree': 3, 'medoid_normalization': 'standard', 'svm_kernel': 'rbf', 'nb_medoids_ratio': 0.3, 'svm_gamma': 0.2, 'svm_c': 0.001}\n",
      "\n",
      "validation micro-F1 @1: 0.01485148514851485\n",
      "validation micro-F1 @2: 0.007425742574257425\n",
      "validation micro-F1 @3: 0.009900990099009901\n",
      "validation micro-F1 @4: 0.008663366336633664\n",
      "validation micro-F1 @5: 0.013861386138613862\n",
      "validation micro-F1 @6: 0.017326732673267328\n",
      "validation micro-F1 @7: 0.016973125884016973\n",
      "validation micro-F1 @8: 0.017326732673267328\n",
      "validation micro-F1 @9: 0.0176017601760176\n",
      "validation micro-F1 @10: 0.019306930693069307\n"
     ]
    },
    {
     "name": "stderr",
     "output_type": "stream",
     "text": [
      "\r",
      " 10%|▉         | 440/4536 [15:13:43<141:45:54, 124.60s/it]"
     ]
    },
    {
     "name": "stdout",
     "output_type": "stream",
     "text": [
      "iter: 439, configuration: {'vectorizer_norm': 'l2', 'svm_degree': 3, 'medoid_normalization': 'standard', 'svm_kernel': 'rbf', 'nb_medoids_ratio': 0.3, 'svm_gamma': 0.2, 'svm_c': 0.001}\n",
      "\n",
      "validation micro-F1 @1: 0.1188118811881188\n",
      "validation micro-F1 @2: 0.11138613861386139\n",
      "validation micro-F1 @3: 0.10891089108910891\n",
      "validation micro-F1 @4: 0.10891089108910891\n",
      "validation micro-F1 @5: 0.10495049504950495\n",
      "validation micro-F1 @6: 0.09818481848184818\n",
      "validation micro-F1 @7: 0.09547383309759547\n",
      "validation micro-F1 @8: 0.0952970297029703\n",
      "validation micro-F1 @9: 0.09570957095709572\n",
      "validation micro-F1 @10: 0.09504950495049505\n"
     ]
    },
    {
     "name": "stderr",
     "output_type": "stream",
     "text": [
      "\r",
      " 10%|▉         | 441/4536 [15:14:36<141:32:44, 124.44s/it]"
     ]
    },
    {
     "name": "stdout",
     "output_type": "stream",
     "text": [
      "iter: 440, configuration: {'vectorizer_norm': None, 'svm_degree': 3, 'medoid_normalization': 'standard', 'svm_kernel': 'rbf', 'nb_medoids_ratio': 0.3, 'svm_gamma': 0.2, 'svm_c': 0.001}\n",
      "\n",
      "validation micro-F1 @1: 0.13861386138613863\n",
      "validation micro-F1 @2: 0.15099009900990099\n",
      "validation micro-F1 @3: 0.12871287128712872\n",
      "validation micro-F1 @4: 0.11386138613861387\n",
      "validation micro-F1 @5: 0.10495049504950495\n",
      "validation micro-F1 @6: 0.09818481848184818\n",
      "validation micro-F1 @7: 0.09688826025459689\n",
      "validation micro-F1 @8: 0.09962871287128713\n",
      "validation micro-F1 @9: 0.09900990099009901\n",
      "validation micro-F1 @10: 0.09405940594059406\n"
     ]
    },
    {
     "name": "stderr",
     "output_type": "stream",
     "text": [
      "\r",
      " 10%|▉         | 442/4536 [15:15:53<141:23:23, 124.33s/it]"
     ]
    },
    {
     "name": "stdout",
     "output_type": "stream",
     "text": [
      "iter: 441, configuration: {'vectorizer_norm': 'l1', 'svm_degree': 3, 'medoid_normalization': 'standard', 'svm_kernel': 'poly', 'nb_medoids_ratio': 0.3, 'svm_gamma': 0.2, 'svm_c': 0.001}\n",
      "\n",
      "validation micro-F1 @1: 0.13861386138613863\n",
      "validation micro-F1 @2: 0.15099009900990099\n",
      "validation micro-F1 @3: 0.12871287128712872\n",
      "validation micro-F1 @4: 0.1150990099009901\n",
      "validation micro-F1 @5: 0.1099009900990099\n",
      "validation micro-F1 @6: 0.11056105610561057\n",
      "validation micro-F1 @7: 0.10961810466760961\n",
      "validation micro-F1 @8: 0.10705445544554455\n",
      "validation micro-F1 @9: 0.10451045104510451\n",
      "validation micro-F1 @10: 0.10198019801980197\n"
     ]
    },
    {
     "name": "stderr",
     "output_type": "stream",
     "text": [
      "\r",
      " 10%|▉         | 443/4536 [15:17:54<141:20:45, 124.32s/it]"
     ]
    },
    {
     "name": "stdout",
     "output_type": "stream",
     "text": [
      "iter: 442, configuration: {'vectorizer_norm': 'l2', 'svm_degree': 3, 'medoid_normalization': 'standard', 'svm_kernel': 'poly', 'nb_medoids_ratio': 0.3, 'svm_gamma': 0.2, 'svm_c': 0.001}\n",
      "\n",
      "validation micro-F1 @1: 0.13366336633663367\n",
      "validation micro-F1 @2: 0.1485148514851485\n",
      "validation micro-F1 @3: 0.12871287128712872\n",
      "validation micro-F1 @4: 0.11386138613861387\n",
      "validation micro-F1 @5: 0.11386138613861387\n",
      "validation micro-F1 @6: 0.10808580858085809\n",
      "validation micro-F1 @7: 0.10608203677510608\n",
      "validation micro-F1 @8: 0.1021039603960396\n",
      "validation micro-F1 @9: 0.10176017601760176\n",
      "validation micro-F1 @10: 0.09752475247524753\n"
     ]
    },
    {
     "name": "stderr",
     "output_type": "stream",
     "text": [
      "\r",
      " 10%|▉         | 444/4536 [15:20:17<141:21:35, 124.36s/it]"
     ]
    },
    {
     "name": "stdout",
     "output_type": "stream",
     "text": [
      "iter: 443, configuration: {'vectorizer_norm': None, 'svm_degree': 3, 'medoid_normalization': 'standard', 'svm_kernel': 'poly', 'nb_medoids_ratio': 0.3, 'svm_gamma': 0.2, 'svm_c': 0.001}\n",
      "\n",
      "validation micro-F1 @1: 0.12871287128712872\n",
      "validation micro-F1 @2: 0.14356435643564355\n",
      "validation micro-F1 @3: 0.1254125412541254\n",
      "validation micro-F1 @4: 0.11262376237623763\n",
      "validation micro-F1 @5: 0.10792079207920792\n",
      "validation micro-F1 @6: 0.10313531353135313\n",
      "validation micro-F1 @7: 0.09900990099009901\n",
      "validation micro-F1 @8: 0.09653465346534654\n",
      "validation micro-F1 @9: 0.09350935093509351\n",
      "validation micro-F1 @10: 0.09207920792079208\n"
     ]
    },
    {
     "name": "stderr",
     "output_type": "stream",
     "text": [
      "\r",
      " 10%|▉         | 445/4536 [15:21:00<141:07:06, 124.18s/it]"
     ]
    },
    {
     "name": "stdout",
     "output_type": "stream",
     "text": [
      "iter: 444, configuration: {'vectorizer_norm': 'l1', 'svm_degree': 3, 'medoid_normalization': 'standard', 'svm_kernel': 'rbf', 'nb_medoids_ratio': 0.3, 'svm_gamma': 0.3, 'svm_c': 0.001}\n",
      "\n",
      "validation micro-F1 @1: 0.009900990099009901\n",
      "validation micro-F1 @2: 0.012376237623762377\n",
      "validation micro-F1 @3: 0.013201320132013201\n",
      "validation micro-F1 @4: 0.01608910891089109\n",
      "validation micro-F1 @5: 0.019801980198019802\n",
      "validation micro-F1 @6: 0.026402640264026403\n",
      "validation micro-F1 @7: 0.03536067892503536\n",
      "validation micro-F1 @8: 0.034653465346534656\n",
      "validation micro-F1 @9: 0.040154015401540157\n",
      "validation micro-F1 @10: 0.04108910891089109\n"
     ]
    },
    {
     "name": "stderr",
     "output_type": "stream",
     "text": [
      "\r",
      " 10%|▉         | 446/4536 [15:21:45<140:52:55, 124.00s/it]"
     ]
    },
    {
     "name": "stdout",
     "output_type": "stream",
     "text": [
      "iter: 445, configuration: {'vectorizer_norm': 'l2', 'svm_degree': 3, 'medoid_normalization': 'standard', 'svm_kernel': 'rbf', 'nb_medoids_ratio': 0.3, 'svm_gamma': 0.3, 'svm_c': 0.001}\n",
      "\n",
      "validation micro-F1 @1: 0.13366336633663367\n",
      "validation micro-F1 @2: 0.14108910891089108\n",
      "validation micro-F1 @3: 0.12871287128712872\n",
      "validation micro-F1 @4: 0.1150990099009901\n",
      "validation micro-F1 @5: 0.10198019801980197\n",
      "validation micro-F1 @6: 0.10148514851485149\n",
      "validation micro-F1 @7: 0.0983026874115983\n",
      "validation micro-F1 @8: 0.09715346534653466\n",
      "validation micro-F1 @9: 0.09350935093509351\n",
      "validation micro-F1 @10: 0.09059405940594059\n"
     ]
    },
    {
     "name": "stderr",
     "output_type": "stream",
     "text": [
      "\r",
      " 10%|▉         | 447/4536 [15:22:38<140:40:01, 123.84s/it]"
     ]
    },
    {
     "name": "stdout",
     "output_type": "stream",
     "text": [
      "iter: 446, configuration: {'vectorizer_norm': None, 'svm_degree': 3, 'medoid_normalization': 'standard', 'svm_kernel': 'rbf', 'nb_medoids_ratio': 0.3, 'svm_gamma': 0.3, 'svm_c': 0.001}\n",
      "\n",
      "validation micro-F1 @1: 0.13861386138613863\n",
      "validation micro-F1 @2: 0.15099009900990099\n",
      "validation micro-F1 @3: 0.12871287128712872\n",
      "validation micro-F1 @4: 0.11386138613861387\n",
      "validation micro-F1 @5: 0.10495049504950495\n",
      "validation micro-F1 @6: 0.09818481848184818\n",
      "validation micro-F1 @7: 0.09688826025459689\n",
      "validation micro-F1 @8: 0.09962871287128713\n",
      "validation micro-F1 @9: 0.09900990099009901\n",
      "validation micro-F1 @10: 0.09405940594059406\n"
     ]
    },
    {
     "name": "stderr",
     "output_type": "stream",
     "text": [
      "\r",
      " 10%|▉         | 448/4536 [15:24:10<140:33:01, 123.77s/it]"
     ]
    },
    {
     "name": "stdout",
     "output_type": "stream",
     "text": [
      "iter: 447, configuration: {'vectorizer_norm': 'l1', 'svm_degree': 3, 'medoid_normalization': 'standard', 'svm_kernel': 'poly', 'nb_medoids_ratio': 0.3, 'svm_gamma': 0.3, 'svm_c': 0.001}\n",
      "\n",
      "validation micro-F1 @1: 0.13366336633663367\n",
      "validation micro-F1 @2: 0.15346534653465346\n",
      "validation micro-F1 @3: 0.12871287128712872\n",
      "validation micro-F1 @4: 0.1150990099009901\n",
      "validation micro-F1 @5: 0.11287128712871287\n",
      "validation micro-F1 @6: 0.10313531353135313\n",
      "validation micro-F1 @7: 0.10183875530410184\n",
      "validation micro-F1 @8: 0.10334158415841584\n",
      "validation micro-F1 @9: 0.1001100110011001\n",
      "validation micro-F1 @10: 0.1\n"
     ]
    },
    {
     "name": "stderr",
     "output_type": "stream",
     "text": [
      "\r",
      " 10%|▉         | 449/4536 [15:26:21<140:32:12, 123.79s/it]"
     ]
    },
    {
     "name": "stdout",
     "output_type": "stream",
     "text": [
      "iter: 448, configuration: {'vectorizer_norm': 'l2', 'svm_degree': 3, 'medoid_normalization': 'standard', 'svm_kernel': 'poly', 'nb_medoids_ratio': 0.3, 'svm_gamma': 0.3, 'svm_c': 0.001}\n",
      "\n",
      "validation micro-F1 @1: 0.13366336633663367\n",
      "validation micro-F1 @2: 0.14108910891089108\n",
      "validation micro-F1 @3: 0.12706270627062707\n",
      "validation micro-F1 @4: 0.11386138613861387\n",
      "validation micro-F1 @5: 0.10792079207920792\n",
      "validation micro-F1 @6: 0.10726072607260725\n",
      "validation micro-F1 @7: 0.10113154172560113\n",
      "validation micro-F1 @8: 0.09962871287128713\n",
      "validation micro-F1 @9: 0.09900990099009901\n",
      "validation micro-F1 @10: 0.09504950495049505\n"
     ]
    },
    {
     "name": "stderr",
     "output_type": "stream",
     "text": [
      "\r",
      " 10%|▉         | 450/4536 [15:28:59<140:35:11, 123.86s/it]"
     ]
    },
    {
     "name": "stdout",
     "output_type": "stream",
     "text": [
      "iter: 449, configuration: {'vectorizer_norm': None, 'svm_degree': 3, 'medoid_normalization': 'standard', 'svm_kernel': 'poly', 'nb_medoids_ratio': 0.3, 'svm_gamma': 0.3, 'svm_c': 0.001}\n",
      "\n",
      "validation micro-F1 @1: 0.1485148514851485\n",
      "validation micro-F1 @2: 0.15099009900990099\n",
      "validation micro-F1 @3: 0.12211221122112212\n",
      "validation micro-F1 @4: 0.11262376237623763\n",
      "validation micro-F1 @5: 0.10495049504950495\n",
      "validation micro-F1 @6: 0.09570957095709572\n",
      "validation micro-F1 @7: 0.09759547383309759\n",
      "validation micro-F1 @8: 0.09962871287128713\n",
      "validation micro-F1 @9: 0.09625962596259625\n",
      "validation micro-F1 @10: 0.09306930693069307\n"
     ]
    },
    {
     "name": "stderr",
     "output_type": "stream",
     "text": [
      "\r",
      " 10%|▉         | 451/4536 [15:29:43<140:21:04, 123.69s/it]"
     ]
    },
    {
     "name": "stdout",
     "output_type": "stream",
     "text": [
      "iter: 450, configuration: {'vectorizer_norm': 'l1', 'svm_degree': 3, 'medoid_normalization': 'standard', 'svm_kernel': 'rbf', 'nb_medoids_ratio': 0.3, 'svm_gamma': 0.5, 'svm_c': 0.001}\n",
      "\n",
      "validation micro-F1 @1: 0.01485148514851485\n",
      "validation micro-F1 @2: 0.009900990099009901\n",
      "validation micro-F1 @3: 0.0165016501650165\n",
      "validation micro-F1 @4: 0.02103960396039604\n",
      "validation micro-F1 @5: 0.033663366336633666\n",
      "validation micro-F1 @6: 0.039603960396039604\n",
      "validation micro-F1 @7: 0.04950495049504951\n",
      "validation micro-F1 @8: 0.055074257425742575\n",
      "validation micro-F1 @9: 0.054455445544554455\n",
      "validation micro-F1 @10: 0.05396039603960396\n"
     ]
    },
    {
     "name": "stderr",
     "output_type": "stream",
     "text": [
      "\r",
      " 10%|▉         | 452/4536 [15:30:27<140:07:02, 123.51s/it]"
     ]
    },
    {
     "name": "stdout",
     "output_type": "stream",
     "text": [
      "iter: 451, configuration: {'vectorizer_norm': 'l2', 'svm_degree': 3, 'medoid_normalization': 'standard', 'svm_kernel': 'rbf', 'nb_medoids_ratio': 0.3, 'svm_gamma': 0.5, 'svm_c': 0.001}\n",
      "\n",
      "validation micro-F1 @1: 0.12376237623762376\n",
      "validation micro-F1 @2: 0.10643564356435643\n",
      "validation micro-F1 @3: 0.10066006600660066\n",
      "validation micro-F1 @4: 0.10024752475247525\n",
      "validation micro-F1 @5: 0.10396039603960396\n",
      "validation micro-F1 @6: 0.09818481848184818\n",
      "validation micro-F1 @7: 0.09688826025459689\n",
      "validation micro-F1 @8: 0.09653465346534654\n",
      "validation micro-F1 @9: 0.09460946094609461\n",
      "validation micro-F1 @10: 0.09504950495049505\n"
     ]
    },
    {
     "name": "stderr",
     "output_type": "stream",
     "text": [
      "\r",
      " 10%|▉         | 453/4536 [15:31:20<139:54:21, 123.36s/it]"
     ]
    },
    {
     "name": "stdout",
     "output_type": "stream",
     "text": [
      "iter: 452, configuration: {'vectorizer_norm': None, 'svm_degree': 3, 'medoid_normalization': 'standard', 'svm_kernel': 'rbf', 'nb_medoids_ratio': 0.3, 'svm_gamma': 0.5, 'svm_c': 0.001}\n",
      "\n",
      "validation micro-F1 @1: 0.13861386138613863\n",
      "validation micro-F1 @2: 0.15099009900990099\n",
      "validation micro-F1 @3: 0.12871287128712872\n",
      "validation micro-F1 @4: 0.11386138613861387\n",
      "validation micro-F1 @5: 0.10495049504950495\n",
      "validation micro-F1 @6: 0.09818481848184818\n",
      "validation micro-F1 @7: 0.10113154172560113\n",
      "validation micro-F1 @8: 0.09962871287128713\n",
      "validation micro-F1 @9: 0.09900990099009901\n",
      "validation micro-F1 @10: 0.09405940594059406\n"
     ]
    },
    {
     "name": "stderr",
     "output_type": "stream",
     "text": [
      "\r",
      " 10%|█         | 454/4536 [15:32:58<139:48:29, 123.30s/it]"
     ]
    },
    {
     "name": "stdout",
     "output_type": "stream",
     "text": [
      "iter: 453, configuration: {'vectorizer_norm': 'l1', 'svm_degree': 3, 'medoid_normalization': 'standard', 'svm_kernel': 'poly', 'nb_medoids_ratio': 0.3, 'svm_gamma': 0.5, 'svm_c': 0.001}\n",
      "\n",
      "validation micro-F1 @1: 0.13861386138613863\n",
      "validation micro-F1 @2: 0.15346534653465346\n",
      "validation micro-F1 @3: 0.132013201320132\n",
      "validation micro-F1 @4: 0.11633663366336634\n",
      "validation micro-F1 @5: 0.1099009900990099\n",
      "validation micro-F1 @6: 0.10891089108910891\n",
      "validation micro-F1 @7: 0.10678925035360678\n",
      "validation micro-F1 @8: 0.10272277227722772\n",
      "validation micro-F1 @9: 0.10066006600660066\n",
      "validation micro-F1 @10: 0.09950495049504951\n"
     ]
    },
    {
     "name": "stderr",
     "output_type": "stream",
     "text": [
      "\r",
      " 10%|█         | 455/4536 [15:35:16<139:48:39, 123.33s/it]"
     ]
    },
    {
     "name": "stdout",
     "output_type": "stream",
     "text": [
      "iter: 454, configuration: {'vectorizer_norm': 'l2', 'svm_degree': 3, 'medoid_normalization': 'standard', 'svm_kernel': 'poly', 'nb_medoids_ratio': 0.3, 'svm_gamma': 0.5, 'svm_c': 0.001}\n",
      "\n",
      "validation micro-F1 @1: 0.1485148514851485\n",
      "validation micro-F1 @2: 0.14108910891089108\n",
      "validation micro-F1 @3: 0.1254125412541254\n",
      "validation micro-F1 @4: 0.11633663366336634\n",
      "validation micro-F1 @5: 0.10891089108910891\n",
      "validation micro-F1 @6: 0.10726072607260725\n",
      "validation micro-F1 @7: 0.09971711456859972\n",
      "validation micro-F1 @8: 0.09900990099009901\n",
      "validation micro-F1 @9: 0.09790979097909791\n",
      "validation micro-F1 @10: 0.09702970297029703\n"
     ]
    },
    {
     "name": "stderr",
     "output_type": "stream",
     "text": [
      "\r",
      " 10%|█         | 456/4536 [15:37:49<139:51:06, 123.40s/it]"
     ]
    },
    {
     "name": "stdout",
     "output_type": "stream",
     "text": [
      "iter: 455, configuration: {'vectorizer_norm': None, 'svm_degree': 3, 'medoid_normalization': 'standard', 'svm_kernel': 'poly', 'nb_medoids_ratio': 0.3, 'svm_gamma': 0.5, 'svm_c': 0.001}\n",
      "\n",
      "validation micro-F1 @1: 0.15841584158415842\n",
      "validation micro-F1 @2: 0.15099009900990099\n",
      "validation micro-F1 @3: 0.12706270627062707\n",
      "validation micro-F1 @4: 0.11014851485148515\n",
      "validation micro-F1 @5: 0.10495049504950495\n",
      "validation micro-F1 @6: 0.10148514851485149\n",
      "validation micro-F1 @7: 0.10183875530410184\n",
      "validation micro-F1 @8: 0.10148514851485149\n",
      "validation micro-F1 @9: 0.09900990099009901\n",
      "validation micro-F1 @10: 0.09504950495049505\n"
     ]
    },
    {
     "name": "stderr",
     "output_type": "stream",
     "text": [
      "\r",
      " 10%|█         | 457/4536 [15:38:33<139:37:07, 123.22s/it]"
     ]
    },
    {
     "name": "stdout",
     "output_type": "stream",
     "text": [
      "iter: 456, configuration: {'vectorizer_norm': 'l1', 'svm_degree': 3, 'medoid_normalization': 'standard', 'svm_kernel': 'rbf', 'nb_medoids_ratio': 0.3, 'svm_gamma': 1.0, 'svm_c': 0.001}\n",
      "\n",
      "validation micro-F1 @1: 0.06930693069306931\n",
      "validation micro-F1 @2: 0.0891089108910891\n",
      "validation micro-F1 @3: 0.11056105610561057\n",
      "validation micro-F1 @4: 0.1051980198019802\n",
      "validation micro-F1 @5: 0.09207920792079208\n",
      "validation micro-F1 @6: 0.08663366336633663\n",
      "validation micro-F1 @7: 0.086987270155587\n",
      "validation micro-F1 @8: 0.0853960396039604\n",
      "validation micro-F1 @9: 0.08085808580858085\n",
      "validation micro-F1 @10: 0.0797029702970297\n"
     ]
    },
    {
     "name": "stderr",
     "output_type": "stream",
     "text": [
      "\r",
      " 10%|█         | 458/4536 [15:39:17<139:23:20, 123.05s/it]"
     ]
    },
    {
     "name": "stdout",
     "output_type": "stream",
     "text": [
      "iter: 457, configuration: {'vectorizer_norm': 'l2', 'svm_degree': 3, 'medoid_normalization': 'standard', 'svm_kernel': 'rbf', 'nb_medoids_ratio': 0.3, 'svm_gamma': 1.0, 'svm_c': 0.001}\n",
      "\n",
      "validation micro-F1 @1: 0.15346534653465346\n",
      "validation micro-F1 @2: 0.13366336633663367\n",
      "validation micro-F1 @3: 0.12376237623762376\n",
      "validation micro-F1 @4: 0.11386138613861387\n",
      "validation micro-F1 @5: 0.10396039603960396\n",
      "validation micro-F1 @6: 0.09983498349834984\n",
      "validation micro-F1 @7: 0.09547383309759547\n",
      "validation micro-F1 @8: 0.0922029702970297\n",
      "validation micro-F1 @9: 0.09405940594059406\n",
      "validation micro-F1 @10: 0.09504950495049505\n"
     ]
    },
    {
     "name": "stderr",
     "output_type": "stream",
     "text": [
      "\r",
      " 10%|█         | 459/4536 [15:40:10<139:10:57, 122.90s/it]"
     ]
    },
    {
     "name": "stdout",
     "output_type": "stream",
     "text": [
      "iter: 458, configuration: {'vectorizer_norm': None, 'svm_degree': 3, 'medoid_normalization': 'standard', 'svm_kernel': 'rbf', 'nb_medoids_ratio': 0.3, 'svm_gamma': 1.0, 'svm_c': 0.001}\n",
      "\n",
      "validation micro-F1 @1: 0.13861386138613863\n",
      "validation micro-F1 @2: 0.15099009900990099\n",
      "validation micro-F1 @3: 0.12871287128712872\n",
      "validation micro-F1 @4: 0.11386138613861387\n",
      "validation micro-F1 @5: 0.10495049504950495\n",
      "validation micro-F1 @6: 0.09818481848184818\n",
      "validation micro-F1 @7: 0.10113154172560113\n",
      "validation micro-F1 @8: 0.09962871287128713\n",
      "validation micro-F1 @9: 0.09900990099009901\n",
      "validation micro-F1 @10: 0.09405940594059406\n"
     ]
    },
    {
     "name": "stderr",
     "output_type": "stream",
     "text": [
      "\r",
      " 10%|█         | 460/4536 [15:41:56<139:06:22, 122.86s/it]"
     ]
    },
    {
     "name": "stdout",
     "output_type": "stream",
     "text": [
      "iter: 459, configuration: {'vectorizer_norm': 'l1', 'svm_degree': 3, 'medoid_normalization': 'standard', 'svm_kernel': 'poly', 'nb_medoids_ratio': 0.3, 'svm_gamma': 1.0, 'svm_c': 0.001}\n",
      "\n",
      "validation micro-F1 @1: 0.13861386138613863\n",
      "validation micro-F1 @2: 0.15594059405940594\n",
      "validation micro-F1 @3: 0.13366336633663367\n",
      "validation micro-F1 @4: 0.11757425742574257\n",
      "validation micro-F1 @5: 0.1099009900990099\n",
      "validation micro-F1 @6: 0.10561056105610561\n",
      "validation micro-F1 @7: 0.10113154172560113\n",
      "validation micro-F1 @8: 0.09591584158415842\n",
      "validation micro-F1 @9: 0.09900990099009901\n",
      "validation micro-F1 @10: 0.1\n"
     ]
    },
    {
     "name": "stderr",
     "output_type": "stream",
     "text": [
      "\r",
      " 10%|█         | 461/4536 [15:44:22<139:07:49, 122.91s/it]"
     ]
    },
    {
     "name": "stdout",
     "output_type": "stream",
     "text": [
      "iter: 460, configuration: {'vectorizer_norm': 'l2', 'svm_degree': 3, 'medoid_normalization': 'standard', 'svm_kernel': 'poly', 'nb_medoids_ratio': 0.3, 'svm_gamma': 1.0, 'svm_c': 0.001}\n",
      "\n",
      "validation micro-F1 @1: 0.13861386138613863\n",
      "validation micro-F1 @2: 0.15594059405940594\n",
      "validation micro-F1 @3: 0.13696369636963696\n",
      "validation micro-F1 @4: 0.12004950495049505\n",
      "validation micro-F1 @5: 0.11089108910891089\n",
      "validation micro-F1 @6: 0.10148514851485149\n",
      "validation micro-F1 @7: 0.09618104667609619\n",
      "validation micro-F1 @8: 0.09653465346534654\n",
      "validation micro-F1 @9: 0.09900990099009901\n",
      "validation micro-F1 @10: 0.09653465346534654\n"
     ]
    },
    {
     "name": "stderr",
     "output_type": "stream",
     "text": [
      "\r",
      " 10%|█         | 462/4536 [15:46:56<139:10:21, 122.98s/it]"
     ]
    },
    {
     "name": "stdout",
     "output_type": "stream",
     "text": [
      "iter: 461, configuration: {'vectorizer_norm': None, 'svm_degree': 3, 'medoid_normalization': 'standard', 'svm_kernel': 'poly', 'nb_medoids_ratio': 0.3, 'svm_gamma': 1.0, 'svm_c': 0.001}\n",
      "\n",
      "validation micro-F1 @1: 0.14356435643564355\n",
      "validation micro-F1 @2: 0.1485148514851485\n",
      "validation micro-F1 @3: 0.12376237623762376\n",
      "validation micro-F1 @4: 0.1150990099009901\n",
      "validation micro-F1 @5: 0.10891089108910891\n",
      "validation micro-F1 @6: 0.10231023102310231\n",
      "validation micro-F1 @7: 0.10183875530410184\n",
      "validation micro-F1 @8: 0.1021039603960396\n",
      "validation micro-F1 @9: 0.09845984598459846\n",
      "validation micro-F1 @10: 0.09504950495049505\n"
     ]
    },
    {
     "name": "stderr",
     "output_type": "stream",
     "text": [
      "\r",
      " 10%|█         | 463/4536 [15:47:40<138:56:40, 122.81s/it]"
     ]
    },
    {
     "name": "stdout",
     "output_type": "stream",
     "text": [
      "iter: 462, configuration: {'vectorizer_norm': 'l1', 'svm_degree': 3, 'medoid_normalization': 'standard', 'svm_kernel': 'rbf', 'nb_medoids_ratio': 0.3, 'svm_gamma': 'auto', 'svm_c': 0.001}\n",
      "\n",
      "validation micro-F1 @1: 0.0049504950495049506\n",
      "validation micro-F1 @2: 0.009900990099009901\n",
      "validation micro-F1 @3: 0.00825082508250825\n",
      "validation micro-F1 @4: 0.008663366336633664\n",
      "validation micro-F1 @5: 0.009900990099009901\n",
      "validation micro-F1 @6: 0.009900990099009901\n",
      "validation micro-F1 @7: 0.011315417256011316\n",
      "validation micro-F1 @8: 0.011138613861386138\n",
      "validation micro-F1 @9: 0.011001100110011002\n",
      "validation micro-F1 @10: 0.010396039603960397\n"
     ]
    },
    {
     "name": "stderr",
     "output_type": "stream",
     "text": [
      "\r",
      " 10%|█         | 464/4536 [15:48:23<138:43:01, 122.64s/it]"
     ]
    },
    {
     "name": "stdout",
     "output_type": "stream",
     "text": [
      "iter: 463, configuration: {'vectorizer_norm': 'l2', 'svm_degree': 3, 'medoid_normalization': 'standard', 'svm_kernel': 'rbf', 'nb_medoids_ratio': 0.3, 'svm_gamma': 'auto', 'svm_c': 0.001}\n",
      "\n",
      "validation micro-F1 @1: 0.01485148514851485\n",
      "validation micro-F1 @2: 0.012376237623762377\n",
      "validation micro-F1 @3: 0.013201320132013201\n",
      "validation micro-F1 @4: 0.01485148514851485\n",
      "validation micro-F1 @5: 0.01881188118811881\n",
      "validation micro-F1 @6: 0.018151815181518153\n",
      "validation micro-F1 @7: 0.019094766619519095\n",
      "validation micro-F1 @8: 0.017326732673267328\n",
      "validation micro-F1 @9: 0.0165016501650165\n",
      "validation micro-F1 @10: 0.016831683168316833\n"
     ]
    },
    {
     "name": "stderr",
     "output_type": "stream",
     "text": [
      "\r",
      " 10%|█         | 465/4536 [15:49:08<138:29:35, 122.47s/it]"
     ]
    },
    {
     "name": "stdout",
     "output_type": "stream",
     "text": [
      "iter: 464, configuration: {'vectorizer_norm': None, 'svm_degree': 3, 'medoid_normalization': 'standard', 'svm_kernel': 'rbf', 'nb_medoids_ratio': 0.3, 'svm_gamma': 'auto', 'svm_c': 0.001}\n",
      "\n",
      "validation micro-F1 @1: 0.10891089108910891\n",
      "validation micro-F1 @2: 0.12871287128712872\n",
      "validation micro-F1 @3: 0.11386138613861387\n",
      "validation micro-F1 @4: 0.11014851485148515\n",
      "validation micro-F1 @5: 0.10495049504950495\n",
      "validation micro-F1 @6: 0.10313531353135313\n",
      "validation micro-F1 @7: 0.09971711456859972\n",
      "validation micro-F1 @8: 0.0983910891089109\n",
      "validation micro-F1 @9: 0.09570957095709572\n",
      "validation micro-F1 @10: 0.09257425742574257\n"
     ]
    },
    {
     "name": "stderr",
     "output_type": "stream",
     "text": [
      "\r",
      " 10%|█         | 466/4536 [15:49:49<138:15:40, 122.30s/it]"
     ]
    },
    {
     "name": "stdout",
     "output_type": "stream",
     "text": [
      "iter: 465, configuration: {'vectorizer_norm': 'l1', 'svm_degree': 3, 'medoid_normalization': 'standard', 'svm_kernel': 'poly', 'nb_medoids_ratio': 0.3, 'svm_gamma': 'auto', 'svm_c': 0.001}\n",
      "\n",
      "validation micro-F1 @1: 0.009900990099009901\n",
      "validation micro-F1 @2: 0.009900990099009901\n",
      "validation micro-F1 @3: 0.01155115511551155\n",
      "validation micro-F1 @4: 0.011138613861386138\n",
      "validation micro-F1 @5: 0.016831683168316833\n",
      "validation micro-F1 @6: 0.0165016501650165\n",
      "validation micro-F1 @7: 0.016973125884016973\n",
      "validation micro-F1 @8: 0.017945544554455444\n",
      "validation micro-F1 @9: 0.0165016501650165\n",
      "validation micro-F1 @10: 0.015841584158415842\n"
     ]
    },
    {
     "name": "stderr",
     "output_type": "stream",
     "text": [
      "\r",
      " 10%|█         | 467/4536 [15:50:30<138:01:48, 122.12s/it]"
     ]
    },
    {
     "name": "stdout",
     "output_type": "stream",
     "text": [
      "iter: 466, configuration: {'vectorizer_norm': 'l2', 'svm_degree': 3, 'medoid_normalization': 'standard', 'svm_kernel': 'poly', 'nb_medoids_ratio': 0.3, 'svm_gamma': 'auto', 'svm_c': 0.001}\n",
      "\n",
      "validation micro-F1 @1: 0.01485148514851485\n",
      "validation micro-F1 @2: 0.01485148514851485\n",
      "validation micro-F1 @3: 0.01485148514851485\n",
      "validation micro-F1 @4: 0.017326732673267328\n",
      "validation micro-F1 @5: 0.016831683168316833\n",
      "validation micro-F1 @6: 0.015676567656765675\n",
      "validation micro-F1 @7: 0.013437057991513438\n",
      "validation micro-F1 @8: 0.013613861386138614\n",
      "validation micro-F1 @9: 0.013751375137513752\n",
      "validation micro-F1 @10: 0.015346534653465346\n"
     ]
    },
    {
     "name": "stderr",
     "output_type": "stream",
     "text": [
      "\r",
      " 10%|█         | 468/4536 [15:52:55<138:03:11, 122.17s/it]"
     ]
    },
    {
     "name": "stdout",
     "output_type": "stream",
     "text": [
      "iter: 467, configuration: {'vectorizer_norm': None, 'svm_degree': 3, 'medoid_normalization': 'standard', 'svm_kernel': 'poly', 'nb_medoids_ratio': 0.3, 'svm_gamma': 'auto', 'svm_c': 0.001}\n",
      "\n",
      "validation micro-F1 @1: 0.13366336633663367\n",
      "validation micro-F1 @2: 0.1485148514851485\n",
      "validation micro-F1 @3: 0.1254125412541254\n",
      "validation micro-F1 @4: 0.11262376237623763\n",
      "validation micro-F1 @5: 0.10396039603960396\n",
      "validation micro-F1 @6: 0.10231023102310231\n",
      "validation micro-F1 @7: 0.10042432814710042\n",
      "validation micro-F1 @8: 0.09777227722772278\n",
      "validation micro-F1 @9: 0.09735973597359736\n",
      "validation micro-F1 @10: 0.09356435643564356\n"
     ]
    },
    {
     "name": "stderr",
     "output_type": "stream",
     "text": [
      "\r",
      " 10%|█         | 469/4536 [15:53:39<137:49:46, 122.00s/it]"
     ]
    },
    {
     "name": "stdout",
     "output_type": "stream",
     "text": [
      "iter: 468, configuration: {'vectorizer_norm': 'l1', 'svm_degree': 4, 'medoid_normalization': 'standard', 'svm_kernel': 'rbf', 'nb_medoids_ratio': 0.3, 'svm_gamma': 0.1, 'svm_c': 0.001}\n",
      "\n",
      "validation micro-F1 @1: 0.009900990099009901\n",
      "validation micro-F1 @2: 0.007425742574257425\n",
      "validation micro-F1 @3: 0.006600660066006601\n",
      "validation micro-F1 @4: 0.008663366336633664\n",
      "validation micro-F1 @5: 0.007920792079207921\n",
      "validation micro-F1 @6: 0.007425742574257425\n",
      "validation micro-F1 @7: 0.008486562942008486\n",
      "validation micro-F1 @8: 0.009282178217821782\n",
      "validation micro-F1 @9: 0.00935093509350935\n",
      "validation micro-F1 @10: 0.009405940594059406\n"
     ]
    },
    {
     "name": "stderr",
     "output_type": "stream",
     "text": [
      "\r",
      " 10%|█         | 470/4536 [15:54:22<137:36:24, 121.84s/it]"
     ]
    },
    {
     "name": "stdout",
     "output_type": "stream",
     "text": [
      "iter: 469, configuration: {'vectorizer_norm': 'l2', 'svm_degree': 4, 'medoid_normalization': 'standard', 'svm_kernel': 'rbf', 'nb_medoids_ratio': 0.3, 'svm_gamma': 0.1, 'svm_c': 0.001}\n",
      "\n",
      "validation micro-F1 @1: 0.04950495049504951\n",
      "validation micro-F1 @2: 0.08415841584158416\n",
      "validation micro-F1 @3: 0.09405940594059406\n",
      "validation micro-F1 @4: 0.09034653465346534\n",
      "validation micro-F1 @5: 0.08811881188118811\n",
      "validation micro-F1 @6: 0.0858085808580858\n",
      "validation micro-F1 @7: 0.08628005657708628\n",
      "validation micro-F1 @8: 0.08663366336633663\n",
      "validation micro-F1 @9: 0.08525852585258525\n",
      "validation micro-F1 @10: 0.08217821782178218\n"
     ]
    },
    {
     "name": "stderr",
     "output_type": "stream",
     "text": [
      "\r",
      " 10%|█         | 471/4536 [15:55:11<137:23:55, 121.68s/it]"
     ]
    },
    {
     "name": "stdout",
     "output_type": "stream",
     "text": [
      "iter: 470, configuration: {'vectorizer_norm': None, 'svm_degree': 4, 'medoid_normalization': 'standard', 'svm_kernel': 'rbf', 'nb_medoids_ratio': 0.3, 'svm_gamma': 0.1, 'svm_c': 0.001}\n",
      "\n",
      "validation micro-F1 @1: 0.13366336633663367\n",
      "validation micro-F1 @2: 0.1485148514851485\n",
      "validation micro-F1 @3: 0.12706270627062707\n",
      "validation micro-F1 @4: 0.11262376237623763\n",
      "validation micro-F1 @5: 0.10396039603960396\n",
      "validation micro-F1 @6: 0.09818481848184818\n",
      "validation micro-F1 @7: 0.10183875530410184\n",
      "validation micro-F1 @8: 0.09962871287128713\n",
      "validation micro-F1 @9: 0.09900990099009901\n",
      "validation micro-F1 @10: 0.09405940594059406\n"
     ]
    },
    {
     "name": "stderr",
     "output_type": "stream",
     "text": [
      "\r",
      " 10%|█         | 472/4536 [15:56:25<137:15:00, 121.58s/it]"
     ]
    },
    {
     "name": "stdout",
     "output_type": "stream",
     "text": [
      "iter: 471, configuration: {'vectorizer_norm': 'l1', 'svm_degree': 4, 'medoid_normalization': 'standard', 'svm_kernel': 'poly', 'nb_medoids_ratio': 0.3, 'svm_gamma': 0.1, 'svm_c': 0.001}\n",
      "\n",
      "validation micro-F1 @1: 0.12871287128712872\n",
      "validation micro-F1 @2: 0.14603960396039603\n",
      "validation micro-F1 @3: 0.12871287128712872\n",
      "validation micro-F1 @4: 0.1150990099009901\n",
      "validation micro-F1 @5: 0.10792079207920792\n",
      "validation micro-F1 @6: 0.09818481848184818\n",
      "validation micro-F1 @7: 0.10113154172560113\n",
      "validation micro-F1 @8: 0.09591584158415842\n",
      "validation micro-F1 @9: 0.0968096809680968\n",
      "validation micro-F1 @10: 0.09603960396039604\n"
     ]
    },
    {
     "name": "stderr",
     "output_type": "stream",
     "text": [
      "\r",
      " 10%|█         | 473/4536 [15:58:41<137:15:01, 121.61s/it]"
     ]
    },
    {
     "name": "stdout",
     "output_type": "stream",
     "text": [
      "iter: 472, configuration: {'vectorizer_norm': 'l2', 'svm_degree': 4, 'medoid_normalization': 'standard', 'svm_kernel': 'poly', 'nb_medoids_ratio': 0.3, 'svm_gamma': 0.1, 'svm_c': 0.001}\n",
      "\n",
      "validation micro-F1 @1: 0.12376237623762376\n",
      "validation micro-F1 @2: 0.13613861386138615\n",
      "validation micro-F1 @3: 0.13696369636963696\n",
      "validation micro-F1 @4: 0.1150990099009901\n",
      "validation micro-F1 @5: 0.1099009900990099\n",
      "validation micro-F1 @6: 0.10313531353135313\n",
      "validation micro-F1 @7: 0.09900990099009901\n",
      "validation micro-F1 @8: 0.09777227722772278\n",
      "validation micro-F1 @9: 0.09845984598459846\n",
      "validation micro-F1 @10: 0.09653465346534654\n"
     ]
    },
    {
     "name": "stderr",
     "output_type": "stream",
     "text": [
      "\r",
      " 10%|█         | 474/4536 [16:01:21<137:18:30, 121.69s/it]"
     ]
    },
    {
     "name": "stdout",
     "output_type": "stream",
     "text": [
      "iter: 473, configuration: {'vectorizer_norm': None, 'svm_degree': 4, 'medoid_normalization': 'standard', 'svm_kernel': 'poly', 'nb_medoids_ratio': 0.3, 'svm_gamma': 0.1, 'svm_c': 0.001}\n",
      "\n",
      "validation micro-F1 @1: 0.13366336633663367\n",
      "validation micro-F1 @2: 0.15099009900990099\n",
      "validation micro-F1 @3: 0.12706270627062707\n",
      "validation micro-F1 @4: 0.11386138613861387\n",
      "validation micro-F1 @5: 0.10792079207920792\n",
      "validation micro-F1 @6: 0.10478547854785479\n",
      "validation micro-F1 @7: 0.10325318246110325\n",
      "validation micro-F1 @8: 0.10086633663366337\n",
      "validation micro-F1 @9: 0.09735973597359736\n",
      "validation micro-F1 @10: 0.09306930693069307\n"
     ]
    },
    {
     "name": "stderr",
     "output_type": "stream",
     "text": [
      "\r",
      " 10%|█         | 475/4536 [16:02:05<137:05:20, 121.53s/it]"
     ]
    },
    {
     "name": "stdout",
     "output_type": "stream",
     "text": [
      "iter: 474, configuration: {'vectorizer_norm': 'l1', 'svm_degree': 4, 'medoid_normalization': 'standard', 'svm_kernel': 'rbf', 'nb_medoids_ratio': 0.3, 'svm_gamma': 0.2, 'svm_c': 0.001}\n",
      "\n",
      "validation micro-F1 @1: 0.0049504950495049506\n",
      "validation micro-F1 @2: 0.007425742574257425\n",
      "validation micro-F1 @3: 0.0049504950495049506\n",
      "validation micro-F1 @4: 0.009900990099009901\n",
      "validation micro-F1 @5: 0.00891089108910891\n",
      "validation micro-F1 @6: 0.01155115511551155\n",
      "validation micro-F1 @7: 0.019094766619519095\n",
      "validation micro-F1 @8: 0.021658415841584157\n",
      "validation micro-F1 @9: 0.026402640264026403\n",
      "validation micro-F1 @10: 0.030693069306930693\n"
     ]
    },
    {
     "name": "stderr",
     "output_type": "stream",
     "text": [
      "\r",
      " 10%|█         | 476/4536 [16:02:49<136:52:16, 121.36s/it]"
     ]
    },
    {
     "name": "stdout",
     "output_type": "stream",
     "text": [
      "iter: 475, configuration: {'vectorizer_norm': 'l2', 'svm_degree': 4, 'medoid_normalization': 'standard', 'svm_kernel': 'rbf', 'nb_medoids_ratio': 0.3, 'svm_gamma': 0.2, 'svm_c': 0.001}\n",
      "\n",
      "validation micro-F1 @1: 0.16831683168316833\n",
      "validation micro-F1 @2: 0.1188118811881188\n",
      "validation micro-F1 @3: 0.10891089108910891\n",
      "validation micro-F1 @4: 0.10643564356435643\n",
      "validation micro-F1 @5: 0.09702970297029703\n",
      "validation micro-F1 @6: 0.09653465346534654\n",
      "validation micro-F1 @7: 0.09335219236209336\n",
      "validation micro-F1 @8: 0.09096534653465346\n",
      "validation micro-F1 @9: 0.0858085808580858\n",
      "validation micro-F1 @10: 0.09108910891089109\n"
     ]
    },
    {
     "name": "stderr",
     "output_type": "stream",
     "text": [
      "\r",
      " 11%|█         | 477/4536 [16:03:42<136:40:39, 121.22s/it]"
     ]
    },
    {
     "name": "stdout",
     "output_type": "stream",
     "text": [
      "iter: 476, configuration: {'vectorizer_norm': None, 'svm_degree': 4, 'medoid_normalization': 'standard', 'svm_kernel': 'rbf', 'nb_medoids_ratio': 0.3, 'svm_gamma': 0.2, 'svm_c': 0.001}\n",
      "\n",
      "validation micro-F1 @1: 0.13861386138613863\n",
      "validation micro-F1 @2: 0.15099009900990099\n",
      "validation micro-F1 @3: 0.12871287128712872\n",
      "validation micro-F1 @4: 0.11386138613861387\n",
      "validation micro-F1 @5: 0.10495049504950495\n",
      "validation micro-F1 @6: 0.09818481848184818\n",
      "validation micro-F1 @7: 0.09688826025459689\n",
      "validation micro-F1 @8: 0.09962871287128713\n",
      "validation micro-F1 @9: 0.09900990099009901\n",
      "validation micro-F1 @10: 0.09405940594059406\n"
     ]
    },
    {
     "name": "stderr",
     "output_type": "stream",
     "text": [
      "\r",
      " 11%|█         | 478/4536 [16:05:20<136:35:15, 121.17s/it]"
     ]
    },
    {
     "name": "stdout",
     "output_type": "stream",
     "text": [
      "iter: 477, configuration: {'vectorizer_norm': 'l1', 'svm_degree': 4, 'medoid_normalization': 'standard', 'svm_kernel': 'poly', 'nb_medoids_ratio': 0.3, 'svm_gamma': 0.2, 'svm_c': 0.001}\n",
      "\n",
      "validation micro-F1 @1: 0.13366336633663367\n",
      "validation micro-F1 @2: 0.15099009900990099\n",
      "validation micro-F1 @3: 0.12871287128712872\n",
      "validation micro-F1 @4: 0.11386138613861387\n",
      "validation micro-F1 @5: 0.10495049504950495\n",
      "validation micro-F1 @6: 0.10066006600660066\n",
      "validation micro-F1 @7: 0.1074964639321075\n",
      "validation micro-F1 @8: 0.10086633663366337\n",
      "validation micro-F1 @9: 0.09955995599559957\n",
      "validation micro-F1 @10: 0.09504950495049505\n"
     ]
    },
    {
     "name": "stderr",
     "output_type": "stream",
     "text": [
      "\r",
      " 11%|█         | 479/4536 [16:07:46<136:36:50, 121.23s/it]"
     ]
    },
    {
     "name": "stdout",
     "output_type": "stream",
     "text": [
      "iter: 478, configuration: {'vectorizer_norm': 'l2', 'svm_degree': 4, 'medoid_normalization': 'standard', 'svm_kernel': 'poly', 'nb_medoids_ratio': 0.3, 'svm_gamma': 0.2, 'svm_c': 0.001}\n",
      "\n",
      "validation micro-F1 @1: 0.1485148514851485\n",
      "validation micro-F1 @2: 0.15346534653465346\n",
      "validation micro-F1 @3: 0.12211221122112212\n",
      "validation micro-F1 @4: 0.11138613861386139\n",
      "validation micro-F1 @5: 0.10693069306930693\n",
      "validation micro-F1 @6: 0.09735973597359736\n",
      "validation micro-F1 @7: 0.0983026874115983\n",
      "validation micro-F1 @8: 0.09900990099009901\n",
      "validation micro-F1 @9: 0.09790979097909791\n",
      "validation micro-F1 @10: 0.09405940594059406\n"
     ]
    },
    {
     "name": "stderr",
     "output_type": "stream",
     "text": [
      "\r",
      " 11%|█         | 480/4536 [16:10:22<136:39:36, 121.30s/it]"
     ]
    },
    {
     "name": "stdout",
     "output_type": "stream",
     "text": [
      "iter: 479, configuration: {'vectorizer_norm': None, 'svm_degree': 4, 'medoid_normalization': 'standard', 'svm_kernel': 'poly', 'nb_medoids_ratio': 0.3, 'svm_gamma': 0.2, 'svm_c': 0.001}\n",
      "\n",
      "validation micro-F1 @1: 0.14356435643564355\n",
      "validation micro-F1 @2: 0.1485148514851485\n",
      "validation micro-F1 @3: 0.1254125412541254\n",
      "validation micro-F1 @4: 0.11262376237623763\n",
      "validation micro-F1 @5: 0.10396039603960396\n",
      "validation micro-F1 @6: 0.10148514851485149\n",
      "validation micro-F1 @7: 0.10254596888260255\n",
      "validation micro-F1 @8: 0.10148514851485149\n",
      "validation micro-F1 @9: 0.09845984598459846\n",
      "validation micro-F1 @10: 0.09554455445544555\n"
     ]
    },
    {
     "name": "stderr",
     "output_type": "stream",
     "text": [
      "\r",
      " 11%|█         | 481/4536 [16:11:05<136:26:35, 121.13s/it]"
     ]
    },
    {
     "name": "stdout",
     "output_type": "stream",
     "text": [
      "iter: 480, configuration: {'vectorizer_norm': 'l1', 'svm_degree': 4, 'medoid_normalization': 'standard', 'svm_kernel': 'rbf', 'nb_medoids_ratio': 0.3, 'svm_gamma': 0.3, 'svm_c': 0.001}\n",
      "\n",
      "validation micro-F1 @1: 0.01485148514851485\n",
      "validation micro-F1 @2: 0.01485148514851485\n",
      "validation micro-F1 @3: 0.01485148514851485\n",
      "validation micro-F1 @4: 0.017326732673267328\n",
      "validation micro-F1 @5: 0.01881188118811881\n",
      "validation micro-F1 @6: 0.02145214521452145\n",
      "validation micro-F1 @7: 0.019094766619519095\n",
      "validation micro-F1 @8: 0.019801980198019802\n",
      "validation micro-F1 @9: 0.020902090209020903\n",
      "validation micro-F1 @10: 0.019801980198019802\n"
     ]
    },
    {
     "name": "stderr",
     "output_type": "stream",
     "text": [
      "\r",
      " 11%|█         | 482/4536 [16:11:48<136:13:44, 120.97s/it]"
     ]
    },
    {
     "name": "stdout",
     "output_type": "stream",
     "text": [
      "iter: 481, configuration: {'vectorizer_norm': 'l2', 'svm_degree': 4, 'medoid_normalization': 'standard', 'svm_kernel': 'rbf', 'nb_medoids_ratio': 0.3, 'svm_gamma': 0.3, 'svm_c': 0.001}\n",
      "\n",
      "validation micro-F1 @1: 0.12871287128712872\n",
      "validation micro-F1 @2: 0.14356435643564355\n",
      "validation micro-F1 @3: 0.12046204620462046\n",
      "validation micro-F1 @4: 0.11014851485148515\n",
      "validation micro-F1 @5: 0.10396039603960396\n",
      "validation micro-F1 @6: 0.09405940594059406\n",
      "validation micro-F1 @7: 0.09618104667609619\n",
      "validation micro-F1 @8: 0.0952970297029703\n",
      "validation micro-F1 @9: 0.09460946094609461\n",
      "validation micro-F1 @10: 0.09405940594059406\n"
     ]
    },
    {
     "name": "stderr",
     "output_type": "stream",
     "text": [
      "\r",
      " 11%|█         | 483/4536 [16:12:41<136:02:13, 120.83s/it]"
     ]
    },
    {
     "name": "stdout",
     "output_type": "stream",
     "text": [
      "iter: 482, configuration: {'vectorizer_norm': None, 'svm_degree': 4, 'medoid_normalization': 'standard', 'svm_kernel': 'rbf', 'nb_medoids_ratio': 0.3, 'svm_gamma': 0.3, 'svm_c': 0.001}\n",
      "\n",
      "validation micro-F1 @1: 0.13366336633663367\n",
      "validation micro-F1 @2: 0.15099009900990099\n",
      "validation micro-F1 @3: 0.12871287128712872\n",
      "validation micro-F1 @4: 0.11386138613861387\n",
      "validation micro-F1 @5: 0.10495049504950495\n",
      "validation micro-F1 @6: 0.09818481848184818\n",
      "validation micro-F1 @7: 0.09688826025459689\n",
      "validation micro-F1 @8: 0.09962871287128713\n",
      "validation micro-F1 @9: 0.09900990099009901\n",
      "validation micro-F1 @10: 0.09405940594059406\n"
     ]
    },
    {
     "name": "stderr",
     "output_type": "stream",
     "text": [
      "\r",
      " 11%|█         | 484/4536 [16:14:26<135:57:54, 120.80s/it]"
     ]
    },
    {
     "name": "stdout",
     "output_type": "stream",
     "text": [
      "iter: 483, configuration: {'vectorizer_norm': 'l1', 'svm_degree': 4, 'medoid_normalization': 'standard', 'svm_kernel': 'poly', 'nb_medoids_ratio': 0.3, 'svm_gamma': 0.3, 'svm_c': 0.001}\n",
      "\n",
      "validation micro-F1 @1: 0.13861386138613863\n",
      "validation micro-F1 @2: 0.1485148514851485\n",
      "validation micro-F1 @3: 0.12871287128712872\n",
      "validation micro-F1 @4: 0.11386138613861387\n",
      "validation micro-F1 @5: 0.10396039603960396\n",
      "validation micro-F1 @6: 0.10066006600660066\n",
      "validation micro-F1 @7: 0.09971711456859972\n",
      "validation micro-F1 @8: 0.1021039603960396\n",
      "validation micro-F1 @9: 0.0968096809680968\n",
      "validation micro-F1 @10: 0.09603960396039604\n"
     ]
    },
    {
     "name": "stderr",
     "output_type": "stream",
     "text": [
      "\r",
      " 11%|█         | 485/4536 [16:16:58<136:00:11, 120.86s/it]"
     ]
    },
    {
     "name": "stdout",
     "output_type": "stream",
     "text": [
      "iter: 484, configuration: {'vectorizer_norm': 'l2', 'svm_degree': 4, 'medoid_normalization': 'standard', 'svm_kernel': 'poly', 'nb_medoids_ratio': 0.3, 'svm_gamma': 0.3, 'svm_c': 0.001}\n",
      "\n",
      "validation micro-F1 @1: 0.14356435643564355\n",
      "validation micro-F1 @2: 0.14356435643564355\n",
      "validation micro-F1 @3: 0.12706270627062707\n",
      "validation micro-F1 @4: 0.11138613861386139\n",
      "validation micro-F1 @5: 0.10594059405940594\n",
      "validation micro-F1 @6: 0.10148514851485149\n",
      "validation micro-F1 @7: 0.10042432814710042\n",
      "validation micro-F1 @8: 0.10086633663366337\n",
      "validation micro-F1 @9: 0.09735973597359736\n",
      "validation micro-F1 @10: 0.09554455445544555\n"
     ]
    },
    {
     "name": "stderr",
     "output_type": "stream",
     "text": [
      "\r",
      " 11%|█         | 486/4536 [16:19:33<136:03:00, 120.93s/it]"
     ]
    },
    {
     "name": "stdout",
     "output_type": "stream",
     "text": [
      "iter: 485, configuration: {'vectorizer_norm': None, 'svm_degree': 4, 'medoid_normalization': 'standard', 'svm_kernel': 'poly', 'nb_medoids_ratio': 0.3, 'svm_gamma': 0.3, 'svm_c': 0.001}\n",
      "\n",
      "validation micro-F1 @1: 0.1485148514851485\n",
      "validation micro-F1 @2: 0.1485148514851485\n",
      "validation micro-F1 @3: 0.12706270627062707\n",
      "validation micro-F1 @4: 0.11262376237623763\n",
      "validation micro-F1 @5: 0.10297029702970296\n",
      "validation micro-F1 @6: 0.09818481848184818\n",
      "validation micro-F1 @7: 0.10183875530410184\n",
      "validation micro-F1 @8: 0.10086633663366337\n",
      "validation micro-F1 @9: 0.10066006600660066\n",
      "validation micro-F1 @10: 0.09653465346534654\n"
     ]
    },
    {
     "name": "stderr",
     "output_type": "stream",
     "text": [
      "\r",
      " 11%|█         | 487/4536 [16:20:17<135:50:14, 120.77s/it]"
     ]
    },
    {
     "name": "stdout",
     "output_type": "stream",
     "text": [
      "iter: 486, configuration: {'vectorizer_norm': 'l1', 'svm_degree': 4, 'medoid_normalization': 'standard', 'svm_kernel': 'rbf', 'nb_medoids_ratio': 0.3, 'svm_gamma': 0.5, 'svm_c': 0.001}\n",
      "\n",
      "validation micro-F1 @1: 0.034653465346534656\n",
      "validation micro-F1 @2: 0.054455445544554455\n",
      "validation micro-F1 @3: 0.056105610561056105\n",
      "validation micro-F1 @4: 0.053217821782178217\n",
      "validation micro-F1 @5: 0.05742574257425743\n",
      "validation micro-F1 @6: 0.06435643564356436\n",
      "validation micro-F1 @7: 0.06506364922206506\n",
      "validation micro-F1 @8: 0.06806930693069307\n",
      "validation micro-F1 @9: 0.066006600660066\n",
      "validation micro-F1 @10: 0.06534653465346535\n"
     ]
    },
    {
     "name": "stderr",
     "output_type": "stream",
     "text": [
      "\r",
      " 11%|█         | 488/4536 [16:21:01<135:37:37, 120.62s/it]"
     ]
    },
    {
     "name": "stdout",
     "output_type": "stream",
     "text": [
      "iter: 487, configuration: {'vectorizer_norm': 'l2', 'svm_degree': 4, 'medoid_normalization': 'standard', 'svm_kernel': 'rbf', 'nb_medoids_ratio': 0.3, 'svm_gamma': 0.5, 'svm_c': 0.001}\n",
      "\n",
      "validation micro-F1 @1: 0.13861386138613863\n",
      "validation micro-F1 @2: 0.1311881188118812\n",
      "validation micro-F1 @3: 0.13036303630363036\n",
      "validation micro-F1 @4: 0.11262376237623763\n",
      "validation micro-F1 @5: 0.10594059405940594\n",
      "validation micro-F1 @6: 0.09818481848184818\n",
      "validation micro-F1 @7: 0.0983026874115983\n",
      "validation micro-F1 @8: 0.09467821782178218\n",
      "validation micro-F1 @9: 0.0968096809680968\n",
      "validation micro-F1 @10: 0.09108910891089109\n"
     ]
    },
    {
     "name": "stderr",
     "output_type": "stream",
     "text": [
      "\r",
      " 11%|█         | 489/4536 [16:21:54<135:26:20, 120.48s/it]"
     ]
    },
    {
     "name": "stdout",
     "output_type": "stream",
     "text": [
      "iter: 488, configuration: {'vectorizer_norm': None, 'svm_degree': 4, 'medoid_normalization': 'standard', 'svm_kernel': 'rbf', 'nb_medoids_ratio': 0.3, 'svm_gamma': 0.5, 'svm_c': 0.001}\n",
      "\n",
      "validation micro-F1 @1: 0.13861386138613863\n",
      "validation micro-F1 @2: 0.15099009900990099\n",
      "validation micro-F1 @3: 0.12871287128712872\n",
      "validation micro-F1 @4: 0.11386138613861387\n",
      "validation micro-F1 @5: 0.10495049504950495\n",
      "validation micro-F1 @6: 0.09818481848184818\n",
      "validation micro-F1 @7: 0.09688826025459689\n",
      "validation micro-F1 @8: 0.09962871287128713\n",
      "validation micro-F1 @9: 0.09900990099009901\n",
      "validation micro-F1 @10: 0.09405940594059406\n"
     ]
    },
    {
     "name": "stderr",
     "output_type": "stream",
     "text": [
      "\r",
      " 11%|█         | 490/4536 [16:23:46<135:23:08, 120.46s/it]"
     ]
    },
    {
     "name": "stdout",
     "output_type": "stream",
     "text": [
      "iter: 489, configuration: {'vectorizer_norm': 'l1', 'svm_degree': 4, 'medoid_normalization': 'standard', 'svm_kernel': 'poly', 'nb_medoids_ratio': 0.3, 'svm_gamma': 0.5, 'svm_c': 0.001}\n",
      "\n",
      "validation micro-F1 @1: 0.13366336633663367\n",
      "validation micro-F1 @2: 0.14603960396039603\n",
      "validation micro-F1 @3: 0.1254125412541254\n",
      "validation micro-F1 @4: 0.11386138613861387\n",
      "validation micro-F1 @5: 0.10495049504950495\n",
      "validation micro-F1 @6: 0.10396039603960396\n",
      "validation micro-F1 @7: 0.10396039603960396\n",
      "validation micro-F1 @8: 0.1021039603960396\n",
      "validation micro-F1 @9: 0.09845984598459846\n",
      "validation micro-F1 @10: 0.09801980198019802\n"
     ]
    },
    {
     "name": "stderr",
     "output_type": "stream",
     "text": [
      "\r",
      " 11%|█         | 491/4536 [16:26:13<135:24:51, 120.52s/it]"
     ]
    },
    {
     "name": "stdout",
     "output_type": "stream",
     "text": [
      "iter: 490, configuration: {'vectorizer_norm': 'l2', 'svm_degree': 4, 'medoid_normalization': 'standard', 'svm_kernel': 'poly', 'nb_medoids_ratio': 0.3, 'svm_gamma': 0.5, 'svm_c': 0.001}\n",
      "\n",
      "validation micro-F1 @1: 0.14356435643564355\n",
      "validation micro-F1 @2: 0.1485148514851485\n",
      "validation micro-F1 @3: 0.12706270627062707\n",
      "validation micro-F1 @4: 0.1150990099009901\n",
      "validation micro-F1 @5: 0.11386138613861387\n",
      "validation micro-F1 @6: 0.10561056105610561\n",
      "validation micro-F1 @7: 0.10396039603960396\n",
      "validation micro-F1 @8: 0.10334158415841584\n",
      "validation micro-F1 @9: 0.09955995599559957\n",
      "validation micro-F1 @10: 0.09653465346534654\n"
     ]
    },
    {
     "name": "stderr",
     "output_type": "stream",
     "text": [
      "\r",
      " 11%|█         | 492/4536 [16:28:52<135:28:05, 120.59s/it]"
     ]
    },
    {
     "name": "stdout",
     "output_type": "stream",
     "text": [
      "iter: 491, configuration: {'vectorizer_norm': None, 'svm_degree': 4, 'medoid_normalization': 'standard', 'svm_kernel': 'poly', 'nb_medoids_ratio': 0.3, 'svm_gamma': 0.5, 'svm_c': 0.001}\n",
      "\n",
      "validation micro-F1 @1: 0.1485148514851485\n",
      "validation micro-F1 @2: 0.1485148514851485\n",
      "validation micro-F1 @3: 0.1254125412541254\n",
      "validation micro-F1 @4: 0.11262376237623763\n",
      "validation micro-F1 @5: 0.10594059405940594\n",
      "validation micro-F1 @6: 0.10313531353135313\n",
      "validation micro-F1 @7: 0.10113154172560113\n",
      "validation micro-F1 @8: 0.09962871287128713\n",
      "validation micro-F1 @9: 0.09845984598459846\n",
      "validation micro-F1 @10: 0.09306930693069307\n"
     ]
    },
    {
     "name": "stderr",
     "output_type": "stream",
     "text": [
      "\r",
      " 11%|█         | 493/4536 [16:29:36<135:15:35, 120.44s/it]"
     ]
    },
    {
     "name": "stdout",
     "output_type": "stream",
     "text": [
      "iter: 492, configuration: {'vectorizer_norm': 'l1', 'svm_degree': 4, 'medoid_normalization': 'standard', 'svm_kernel': 'rbf', 'nb_medoids_ratio': 0.3, 'svm_gamma': 1.0, 'svm_c': 0.001}\n",
      "\n",
      "validation micro-F1 @1: 0.054455445544554455\n",
      "validation micro-F1 @2: 0.0594059405940594\n",
      "validation micro-F1 @3: 0.06435643564356436\n",
      "validation micro-F1 @4: 0.07054455445544554\n",
      "validation micro-F1 @5: 0.0900990099009901\n",
      "validation micro-F1 @6: 0.08828382838283828\n",
      "validation micro-F1 @7: 0.09335219236209336\n",
      "validation micro-F1 @8: 0.09158415841584158\n",
      "validation micro-F1 @9: 0.08965896589658966\n",
      "validation micro-F1 @10: 0.08712871287128712\n"
     ]
    },
    {
     "name": "stderr",
     "output_type": "stream",
     "text": [
      "\r",
      " 11%|█         | 494/4536 [16:30:21<135:03:16, 120.29s/it]"
     ]
    },
    {
     "name": "stdout",
     "output_type": "stream",
     "text": [
      "iter: 493, configuration: {'vectorizer_norm': 'l2', 'svm_degree': 4, 'medoid_normalization': 'standard', 'svm_kernel': 'rbf', 'nb_medoids_ratio': 0.3, 'svm_gamma': 1.0, 'svm_c': 0.001}\n",
      "\n",
      "validation micro-F1 @1: 0.0594059405940594\n",
      "validation micro-F1 @2: 0.09900990099009901\n",
      "validation micro-F1 @3: 0.10231023102310231\n",
      "validation micro-F1 @4: 0.09653465346534654\n",
      "validation micro-F1 @5: 0.09405940594059406\n",
      "validation micro-F1 @6: 0.09158415841584158\n",
      "validation micro-F1 @7: 0.08628005657708628\n",
      "validation micro-F1 @8: 0.08849009900990099\n",
      "validation micro-F1 @9: 0.08965896589658966\n",
      "validation micro-F1 @10: 0.0896039603960396\n"
     ]
    },
    {
     "name": "stderr",
     "output_type": "stream",
     "text": [
      "\r",
      " 11%|█         | 495/4536 [16:31:14<134:52:05, 120.15s/it]"
     ]
    },
    {
     "name": "stdout",
     "output_type": "stream",
     "text": [
      "iter: 494, configuration: {'vectorizer_norm': None, 'svm_degree': 4, 'medoid_normalization': 'standard', 'svm_kernel': 'rbf', 'nb_medoids_ratio': 0.3, 'svm_gamma': 1.0, 'svm_c': 0.001}\n",
      "\n",
      "validation micro-F1 @1: 0.13861386138613863\n",
      "validation micro-F1 @2: 0.15099009900990099\n",
      "validation micro-F1 @3: 0.12871287128712872\n",
      "validation micro-F1 @4: 0.11386138613861387\n",
      "validation micro-F1 @5: 0.10495049504950495\n",
      "validation micro-F1 @6: 0.09818481848184818\n",
      "validation micro-F1 @7: 0.09688826025459689\n",
      "validation micro-F1 @8: 0.09962871287128713\n",
      "validation micro-F1 @9: 0.09900990099009901\n",
      "validation micro-F1 @10: 0.09405940594059406\n"
     ]
    },
    {
     "name": "stderr",
     "output_type": "stream",
     "text": [
      "\r",
      " 11%|█         | 496/4536 [16:33:24<134:51:30, 120.17s/it]"
     ]
    },
    {
     "name": "stdout",
     "output_type": "stream",
     "text": [
      "iter: 495, configuration: {'vectorizer_norm': 'l1', 'svm_degree': 4, 'medoid_normalization': 'standard', 'svm_kernel': 'poly', 'nb_medoids_ratio': 0.3, 'svm_gamma': 1.0, 'svm_c': 0.001}\n",
      "\n",
      "validation micro-F1 @1: 0.13861386138613863\n",
      "validation micro-F1 @2: 0.15099009900990099\n",
      "validation micro-F1 @3: 0.12871287128712872\n",
      "validation micro-F1 @4: 0.11262376237623763\n",
      "validation micro-F1 @5: 0.1099009900990099\n",
      "validation micro-F1 @6: 0.10643564356435643\n",
      "validation micro-F1 @7: 0.10678925035360678\n",
      "validation micro-F1 @8: 0.10334158415841584\n",
      "validation micro-F1 @9: 0.1001100110011001\n",
      "validation micro-F1 @10: 0.09801980198019802\n"
     ]
    },
    {
     "name": "stderr",
     "output_type": "stream",
     "text": [
      "\r",
      " 11%|█         | 497/4536 [16:35:51<134:53:08, 120.23s/it]"
     ]
    },
    {
     "name": "stdout",
     "output_type": "stream",
     "text": [
      "iter: 496, configuration: {'vectorizer_norm': 'l2', 'svm_degree': 4, 'medoid_normalization': 'standard', 'svm_kernel': 'poly', 'nb_medoids_ratio': 0.3, 'svm_gamma': 1.0, 'svm_c': 0.001}\n",
      "\n",
      "validation micro-F1 @1: 0.12871287128712872\n",
      "validation micro-F1 @2: 0.14356435643564355\n",
      "validation micro-F1 @3: 0.12871287128712872\n",
      "validation micro-F1 @4: 0.12004950495049505\n",
      "validation micro-F1 @5: 0.11287128712871287\n",
      "validation micro-F1 @6: 0.10808580858085809\n",
      "validation micro-F1 @7: 0.1074964639321075\n",
      "validation micro-F1 @8: 0.10086633663366337\n",
      "validation micro-F1 @9: 0.09735973597359736\n",
      "validation micro-F1 @10: 0.09455445544554456\n"
     ]
    },
    {
     "name": "stderr",
     "output_type": "stream",
     "text": [
      "\r",
      " 11%|█         | 498/4536 [16:38:27<134:55:59, 120.30s/it]"
     ]
    },
    {
     "name": "stdout",
     "output_type": "stream",
     "text": [
      "iter: 497, configuration: {'vectorizer_norm': None, 'svm_degree': 4, 'medoid_normalization': 'standard', 'svm_kernel': 'poly', 'nb_medoids_ratio': 0.3, 'svm_gamma': 1.0, 'svm_c': 0.001}\n",
      "\n",
      "validation micro-F1 @1: 0.14356435643564355\n",
      "validation micro-F1 @2: 0.14603960396039603\n",
      "validation micro-F1 @3: 0.12376237623762376\n",
      "validation micro-F1 @4: 0.11262376237623763\n",
      "validation micro-F1 @5: 0.10396039603960396\n",
      "validation micro-F1 @6: 0.10313531353135313\n",
      "validation micro-F1 @7: 0.10183875530410184\n",
      "validation micro-F1 @8: 0.09962871287128713\n",
      "validation micro-F1 @9: 0.0968096809680968\n",
      "validation micro-F1 @10: 0.09207920792079208\n"
     ]
    },
    {
     "name": "stderr",
     "output_type": "stream",
     "text": [
      "\r",
      " 11%|█         | 499/4536 [16:39:10<134:43:33, 120.14s/it]"
     ]
    },
    {
     "name": "stdout",
     "output_type": "stream",
     "text": [
      "iter: 498, configuration: {'vectorizer_norm': 'l1', 'svm_degree': 4, 'medoid_normalization': 'standard', 'svm_kernel': 'rbf', 'nb_medoids_ratio': 0.3, 'svm_gamma': 'auto', 'svm_c': 0.001}\n",
      "\n",
      "validation micro-F1 @1: 0.009900990099009901\n",
      "validation micro-F1 @2: 0.017326732673267328\n",
      "validation micro-F1 @3: 0.013201320132013201\n",
      "validation micro-F1 @4: 0.01485148514851485\n",
      "validation micro-F1 @5: 0.013861386138613862\n",
      "validation micro-F1 @6: 0.014026402640264026\n",
      "validation micro-F1 @7: 0.01272984441301273\n",
      "validation micro-F1 @8: 0.012376237623762377\n",
      "validation micro-F1 @9: 0.013201320132013201\n",
      "validation micro-F1 @10: 0.01287128712871287\n"
     ]
    },
    {
     "name": "stderr",
     "output_type": "stream",
     "text": [
      "\r",
      " 11%|█         | 500/4536 [16:39:54<134:31:12, 119.99s/it]"
     ]
    },
    {
     "name": "stdout",
     "output_type": "stream",
     "text": [
      "iter: 499, configuration: {'vectorizer_norm': 'l2', 'svm_degree': 4, 'medoid_normalization': 'standard', 'svm_kernel': 'rbf', 'nb_medoids_ratio': 0.3, 'svm_gamma': 'auto', 'svm_c': 0.001}\n",
      "\n",
      "validation micro-F1 @1: 0.019801980198019802\n",
      "validation micro-F1 @2: 0.017326732673267328\n",
      "validation micro-F1 @3: 0.018151815181518153\n",
      "validation micro-F1 @4: 0.01608910891089109\n",
      "validation micro-F1 @5: 0.01485148514851485\n",
      "validation micro-F1 @6: 0.015676567656765675\n",
      "validation micro-F1 @7: 0.016973125884016973\n",
      "validation micro-F1 @8: 0.018564356435643563\n",
      "validation micro-F1 @9: 0.017051705170517052\n",
      "validation micro-F1 @10: 0.015841584158415842\n"
     ]
    },
    {
     "name": "stderr",
     "output_type": "stream",
     "text": [
      "\r",
      " 11%|█         | 501/4536 [16:40:39<134:19:09, 119.84s/it]"
     ]
    },
    {
     "name": "stdout",
     "output_type": "stream",
     "text": [
      "iter: 500, configuration: {'vectorizer_norm': None, 'svm_degree': 4, 'medoid_normalization': 'standard', 'svm_kernel': 'rbf', 'nb_medoids_ratio': 0.3, 'svm_gamma': 'auto', 'svm_c': 0.001}\n",
      "\n",
      "validation micro-F1 @1: 0.09900990099009901\n",
      "validation micro-F1 @2: 0.12376237623762376\n",
      "validation micro-F1 @3: 0.12046204620462046\n",
      "validation micro-F1 @4: 0.10272277227722772\n",
      "validation micro-F1 @5: 0.10396039603960396\n",
      "validation micro-F1 @6: 0.10478547854785479\n",
      "validation micro-F1 @7: 0.10113154172560113\n",
      "validation micro-F1 @8: 0.09900990099009901\n",
      "validation micro-F1 @9: 0.0924092409240924\n",
      "validation micro-F1 @10: 0.0891089108910891\n"
     ]
    },
    {
     "name": "stderr",
     "output_type": "stream",
     "text": [
      "\r",
      " 11%|█         | 502/4536 [16:41:20<134:06:36, 119.68s/it]"
     ]
    },
    {
     "name": "stdout",
     "output_type": "stream",
     "text": [
      "iter: 501, configuration: {'vectorizer_norm': 'l1', 'svm_degree': 4, 'medoid_normalization': 'standard', 'svm_kernel': 'poly', 'nb_medoids_ratio': 0.3, 'svm_gamma': 'auto', 'svm_c': 0.001}\n",
      "\n",
      "validation micro-F1 @1: 0.019801980198019802\n",
      "validation micro-F1 @2: 0.022277227722772276\n",
      "validation micro-F1 @3: 0.01485148514851485\n",
      "validation micro-F1 @4: 0.01485148514851485\n",
      "validation micro-F1 @5: 0.01881188118811881\n",
      "validation micro-F1 @6: 0.017326732673267328\n",
      "validation micro-F1 @7: 0.01485148514851485\n",
      "validation micro-F1 @8: 0.012995049504950494\n",
      "validation micro-F1 @9: 0.0121012101210121\n",
      "validation micro-F1 @10: 0.013861386138613862\n"
     ]
    },
    {
     "name": "stderr",
     "output_type": "stream",
     "text": [
      "\r",
      " 11%|█         | 503/4536 [16:42:01<133:54:09, 119.53s/it]"
     ]
    },
    {
     "name": "stdout",
     "output_type": "stream",
     "text": [
      "iter: 502, configuration: {'vectorizer_norm': 'l2', 'svm_degree': 4, 'medoid_normalization': 'standard', 'svm_kernel': 'poly', 'nb_medoids_ratio': 0.3, 'svm_gamma': 'auto', 'svm_c': 0.001}\n",
      "\n",
      "validation micro-F1 @1: 0.0049504950495049506\n",
      "validation micro-F1 @2: 0.012376237623762377\n",
      "validation micro-F1 @3: 0.00825082508250825\n",
      "validation micro-F1 @4: 0.007425742574257425\n",
      "validation micro-F1 @5: 0.013861386138613862\n",
      "validation micro-F1 @6: 0.01485148514851485\n",
      "validation micro-F1 @7: 0.02333804809052334\n",
      "validation micro-F1 @8: 0.029084158415841586\n",
      "validation micro-F1 @9: 0.030253025302530254\n",
      "validation micro-F1 @10: 0.03316831683168317\n"
     ]
    },
    {
     "name": "stderr",
     "output_type": "stream",
     "text": [
      "\r",
      " 11%|█         | 504/4536 [16:44:40<133:57:24, 119.60s/it]"
     ]
    },
    {
     "name": "stdout",
     "output_type": "stream",
     "text": [
      "iter: 503, configuration: {'vectorizer_norm': None, 'svm_degree': 4, 'medoid_normalization': 'standard', 'svm_kernel': 'poly', 'nb_medoids_ratio': 0.3, 'svm_gamma': 'auto', 'svm_c': 0.001}\n",
      "\n",
      "validation micro-F1 @1: 0.15346534653465346\n",
      "validation micro-F1 @2: 0.14603960396039603\n",
      "validation micro-F1 @3: 0.12376237623762376\n",
      "validation micro-F1 @4: 0.11138613861386139\n",
      "validation micro-F1 @5: 0.10396039603960396\n",
      "validation micro-F1 @6: 0.09983498349834984\n",
      "validation micro-F1 @7: 0.09971711456859972\n",
      "validation micro-F1 @8: 0.10024752475247525\n",
      "validation micro-F1 @9: 0.09735973597359736\n",
      "validation micro-F1 @10: 0.09306930693069307\n"
     ]
    },
    {
     "name": "stderr",
     "output_type": "stream",
     "text": [
      "\r",
      " 11%|█         | 505/4536 [16:45:23<133:45:14, 119.45s/it]"
     ]
    },
    {
     "name": "stdout",
     "output_type": "stream",
     "text": [
      "iter: 504, configuration: {'vectorizer_norm': 'l1', 'svm_degree': 5, 'medoid_normalization': 'standard', 'svm_kernel': 'rbf', 'nb_medoids_ratio': 0.3, 'svm_gamma': 0.1, 'svm_c': 0.001}\n",
      "\n",
      "validation micro-F1 @1: 0.0049504950495049506\n",
      "validation micro-F1 @2: 0.0049504950495049506\n",
      "validation micro-F1 @3: 0.0033003300330033004\n",
      "validation micro-F1 @4: 0.006188118811881188\n",
      "validation micro-F1 @5: 0.006930693069306931\n",
      "validation micro-F1 @6: 0.009075907590759076\n",
      "validation micro-F1 @7: 0.010608203677510608\n",
      "validation micro-F1 @8: 0.009900990099009901\n",
      "validation micro-F1 @9: 0.010451045104510451\n",
      "validation micro-F1 @10: 0.011386138613861386\n"
     ]
    },
    {
     "name": "stderr",
     "output_type": "stream",
     "text": [
      "\r",
      " 11%|█         | 506/4536 [16:46:06<133:33:07, 119.30s/it]"
     ]
    },
    {
     "name": "stdout",
     "output_type": "stream",
     "text": [
      "iter: 505, configuration: {'vectorizer_norm': 'l2', 'svm_degree': 5, 'medoid_normalization': 'standard', 'svm_kernel': 'rbf', 'nb_medoids_ratio': 0.3, 'svm_gamma': 0.1, 'svm_c': 0.001}\n",
      "\n",
      "validation micro-F1 @1: 0.07425742574257425\n",
      "validation micro-F1 @2: 0.08663366336633663\n",
      "validation micro-F1 @3: 0.0858085808580858\n",
      "validation micro-F1 @4: 0.0853960396039604\n",
      "validation micro-F1 @5: 0.0801980198019802\n",
      "validation micro-F1 @6: 0.08085808580858085\n",
      "validation micro-F1 @7: 0.07567185289957568\n",
      "validation micro-F1 @8: 0.08044554455445545\n",
      "validation micro-F1 @9: 0.08030803080308031\n",
      "validation micro-F1 @10: 0.08217821782178218\n"
     ]
    },
    {
     "name": "stderr",
     "output_type": "stream",
     "text": [
      "\r",
      " 11%|█         | 507/4536 [16:46:55<133:21:46, 119.16s/it]"
     ]
    },
    {
     "name": "stdout",
     "output_type": "stream",
     "text": [
      "iter: 506, configuration: {'vectorizer_norm': None, 'svm_degree': 5, 'medoid_normalization': 'standard', 'svm_kernel': 'rbf', 'nb_medoids_ratio': 0.3, 'svm_gamma': 0.1, 'svm_c': 0.001}\n",
      "\n",
      "validation micro-F1 @1: 0.13366336633663367\n",
      "validation micro-F1 @2: 0.14603960396039603\n",
      "validation micro-F1 @3: 0.12706270627062707\n",
      "validation micro-F1 @4: 0.11262376237623763\n",
      "validation micro-F1 @5: 0.10396039603960396\n",
      "validation micro-F1 @6: 0.09735973597359736\n",
      "validation micro-F1 @7: 0.10113154172560113\n",
      "validation micro-F1 @8: 0.09962871287128713\n",
      "validation micro-F1 @9: 0.09900990099009901\n",
      "validation micro-F1 @10: 0.09405940594059406\n"
     ]
    },
    {
     "name": "stderr",
     "output_type": "stream",
     "text": [
      "\r",
      " 11%|█         | 508/4536 [16:48:25<133:15:56, 119.11s/it]"
     ]
    },
    {
     "name": "stdout",
     "output_type": "stream",
     "text": [
      "iter: 507, configuration: {'vectorizer_norm': 'l1', 'svm_degree': 5, 'medoid_normalization': 'standard', 'svm_kernel': 'poly', 'nb_medoids_ratio': 0.3, 'svm_gamma': 0.1, 'svm_c': 0.001}\n",
      "\n",
      "validation micro-F1 @1: 0.13861386138613863\n",
      "validation micro-F1 @2: 0.15346534653465346\n",
      "validation micro-F1 @3: 0.13036303630363036\n",
      "validation micro-F1 @4: 0.11386138613861387\n",
      "validation micro-F1 @5: 0.10693069306930693\n",
      "validation micro-F1 @6: 0.10643564356435643\n",
      "validation micro-F1 @7: 0.10254596888260255\n",
      "validation micro-F1 @8: 0.10148514851485149\n",
      "validation micro-F1 @9: 0.09955995599559957\n",
      "validation micro-F1 @10: 0.09554455445544555\n"
     ]
    },
    {
     "name": "stderr",
     "output_type": "stream",
     "text": [
      "\r",
      " 11%|█         | 509/4536 [16:50:58<133:18:22, 119.17s/it]"
     ]
    },
    {
     "name": "stdout",
     "output_type": "stream",
     "text": [
      "iter: 508, configuration: {'vectorizer_norm': 'l2', 'svm_degree': 5, 'medoid_normalization': 'standard', 'svm_kernel': 'poly', 'nb_medoids_ratio': 0.3, 'svm_gamma': 0.1, 'svm_c': 0.001}\n",
      "\n",
      "validation micro-F1 @1: 0.13861386138613863\n",
      "validation micro-F1 @2: 0.1485148514851485\n",
      "validation micro-F1 @3: 0.12376237623762376\n",
      "validation micro-F1 @4: 0.11386138613861387\n",
      "validation micro-F1 @5: 0.10594059405940594\n",
      "validation micro-F1 @6: 0.10313531353135313\n",
      "validation micro-F1 @7: 0.10113154172560113\n",
      "validation micro-F1 @8: 0.10024752475247525\n",
      "validation micro-F1 @9: 0.09955995599559957\n",
      "validation micro-F1 @10: 0.09702970297029703\n"
     ]
    },
    {
     "name": "stderr",
     "output_type": "stream",
     "text": [
      "\r",
      " 11%|█         | 510/4536 [16:53:41<133:22:14, 119.26s/it]"
     ]
    },
    {
     "name": "stdout",
     "output_type": "stream",
     "text": [
      "iter: 509, configuration: {'vectorizer_norm': None, 'svm_degree': 5, 'medoid_normalization': 'standard', 'svm_kernel': 'poly', 'nb_medoids_ratio': 0.3, 'svm_gamma': 0.1, 'svm_c': 0.001}\n",
      "\n",
      "validation micro-F1 @1: 0.16336633663366337\n",
      "validation micro-F1 @2: 0.15346534653465346\n",
      "validation micro-F1 @3: 0.13036303630363036\n",
      "validation micro-F1 @4: 0.11262376237623763\n",
      "validation micro-F1 @5: 0.10396039603960396\n",
      "validation micro-F1 @6: 0.10231023102310231\n",
      "validation micro-F1 @7: 0.10254596888260255\n",
      "validation micro-F1 @8: 0.09900990099009901\n",
      "validation micro-F1 @9: 0.09900990099009901\n",
      "validation micro-F1 @10: 0.09356435643564356\n"
     ]
    },
    {
     "name": "stderr",
     "output_type": "stream",
     "text": [
      "\r",
      " 11%|█▏        | 511/4536 [16:54:24<133:10:14, 119.11s/it]"
     ]
    },
    {
     "name": "stdout",
     "output_type": "stream",
     "text": [
      "iter: 510, configuration: {'vectorizer_norm': 'l1', 'svm_degree': 5, 'medoid_normalization': 'standard', 'svm_kernel': 'rbf', 'nb_medoids_ratio': 0.3, 'svm_gamma': 0.2, 'svm_c': 0.001}\n",
      "\n",
      "validation micro-F1 @1: 0.0049504950495049506\n",
      "validation micro-F1 @2: 0.009900990099009901\n",
      "validation micro-F1 @3: 0.01155115511551155\n",
      "validation micro-F1 @4: 0.009900990099009901\n",
      "validation micro-F1 @5: 0.013861386138613862\n",
      "validation micro-F1 @6: 0.012376237623762377\n",
      "validation micro-F1 @7: 0.012022630834512023\n",
      "validation micro-F1 @8: 0.011138613861386138\n",
      "validation micro-F1 @9: 0.0121012101210121\n",
      "validation micro-F1 @10: 0.014356435643564357\n"
     ]
    },
    {
     "name": "stderr",
     "output_type": "stream",
     "text": [
      "\r",
      " 11%|█▏        | 512/4536 [16:55:08<132:58:21, 118.96s/it]"
     ]
    },
    {
     "name": "stdout",
     "output_type": "stream",
     "text": [
      "iter: 511, configuration: {'vectorizer_norm': 'l2', 'svm_degree': 5, 'medoid_normalization': 'standard', 'svm_kernel': 'rbf', 'nb_medoids_ratio': 0.3, 'svm_gamma': 0.2, 'svm_c': 0.001}\n",
      "\n",
      "validation micro-F1 @1: 0.11386138613861387\n",
      "validation micro-F1 @2: 0.12376237623762376\n",
      "validation micro-F1 @3: 0.12706270627062707\n",
      "validation micro-F1 @4: 0.11633663366336634\n",
      "validation micro-F1 @5: 0.10297029702970296\n",
      "validation micro-F1 @6: 0.09818481848184818\n",
      "validation micro-F1 @7: 0.08981612446958982\n",
      "validation micro-F1 @8: 0.09034653465346534\n",
      "validation micro-F1 @9: 0.09130913091309131\n",
      "validation micro-F1 @10: 0.0891089108910891\n"
     ]
    },
    {
     "name": "stderr",
     "output_type": "stream",
     "text": [
      "\r",
      " 11%|█▏        | 513/4536 [16:56:01<132:47:44, 118.83s/it]"
     ]
    },
    {
     "name": "stdout",
     "output_type": "stream",
     "text": [
      "iter: 512, configuration: {'vectorizer_norm': None, 'svm_degree': 5, 'medoid_normalization': 'standard', 'svm_kernel': 'rbf', 'nb_medoids_ratio': 0.3, 'svm_gamma': 0.2, 'svm_c': 0.001}\n",
      "\n",
      "validation micro-F1 @1: 0.13861386138613863\n",
      "validation micro-F1 @2: 0.15099009900990099\n",
      "validation micro-F1 @3: 0.12871287128712872\n",
      "validation micro-F1 @4: 0.11386138613861387\n",
      "validation micro-F1 @5: 0.10495049504950495\n",
      "validation micro-F1 @6: 0.09818481848184818\n",
      "validation micro-F1 @7: 0.09688826025459689\n",
      "validation micro-F1 @8: 0.09962871287128713\n",
      "validation micro-F1 @9: 0.09900990099009901\n",
      "validation micro-F1 @10: 0.09405940594059406\n"
     ]
    },
    {
     "name": "stderr",
     "output_type": "stream",
     "text": [
      "\r",
      " 11%|█▏        | 514/4536 [16:57:46<132:43:58, 118.81s/it]"
     ]
    },
    {
     "name": "stdout",
     "output_type": "stream",
     "text": [
      "iter: 513, configuration: {'vectorizer_norm': 'l1', 'svm_degree': 5, 'medoid_normalization': 'standard', 'svm_kernel': 'poly', 'nb_medoids_ratio': 0.3, 'svm_gamma': 0.2, 'svm_c': 0.001}\n",
      "\n",
      "validation micro-F1 @1: 0.14356435643564355\n",
      "validation micro-F1 @2: 0.15594059405940594\n",
      "validation micro-F1 @3: 0.132013201320132\n",
      "validation micro-F1 @4: 0.1150990099009901\n",
      "validation micro-F1 @5: 0.10792079207920792\n",
      "validation micro-F1 @6: 0.10891089108910891\n",
      "validation micro-F1 @7: 0.10396039603960396\n",
      "validation micro-F1 @8: 0.10334158415841584\n",
      "validation micro-F1 @9: 0.09845984598459846\n",
      "validation micro-F1 @10: 0.09653465346534654\n"
     ]
    },
    {
     "name": "stderr",
     "output_type": "stream",
     "text": [
      "\r",
      " 11%|█▏        | 515/4536 [17:00:10<132:45:14, 118.85s/it]"
     ]
    },
    {
     "name": "stdout",
     "output_type": "stream",
     "text": [
      "iter: 514, configuration: {'vectorizer_norm': 'l2', 'svm_degree': 5, 'medoid_normalization': 'standard', 'svm_kernel': 'poly', 'nb_medoids_ratio': 0.3, 'svm_gamma': 0.2, 'svm_c': 0.001}\n",
      "\n",
      "validation micro-F1 @1: 0.13861386138613863\n",
      "validation micro-F1 @2: 0.1485148514851485\n",
      "validation micro-F1 @3: 0.12706270627062707\n",
      "validation micro-F1 @4: 0.11262376237623763\n",
      "validation micro-F1 @5: 0.10693069306930693\n",
      "validation micro-F1 @6: 0.10313531353135313\n",
      "validation micro-F1 @7: 0.10325318246110325\n",
      "validation micro-F1 @8: 0.10024752475247525\n",
      "validation micro-F1 @9: 0.09845984598459846\n",
      "validation micro-F1 @10: 0.09702970297029703\n"
     ]
    },
    {
     "name": "stderr",
     "output_type": "stream",
     "text": [
      "\r",
      " 11%|█▏        | 516/4536 [17:03:14<132:51:49, 118.98s/it]"
     ]
    },
    {
     "name": "stdout",
     "output_type": "stream",
     "text": [
      "iter: 515, configuration: {'vectorizer_norm': None, 'svm_degree': 5, 'medoid_normalization': 'standard', 'svm_kernel': 'poly', 'nb_medoids_ratio': 0.3, 'svm_gamma': 0.2, 'svm_c': 0.001}\n",
      "\n",
      "validation micro-F1 @1: 0.13366336633663367\n",
      "validation micro-F1 @2: 0.14603960396039603\n",
      "validation micro-F1 @3: 0.12706270627062707\n",
      "validation micro-F1 @4: 0.11262376237623763\n",
      "validation micro-F1 @5: 0.10396039603960396\n",
      "validation micro-F1 @6: 0.10231023102310231\n",
      "validation micro-F1 @7: 0.10254596888260255\n",
      "validation micro-F1 @8: 0.10272277227722772\n",
      "validation micro-F1 @9: 0.09735973597359736\n",
      "validation micro-F1 @10: 0.09405940594059406\n"
     ]
    },
    {
     "name": "stderr",
     "output_type": "stream",
     "text": [
      "\r",
      " 11%|█▏        | 517/4536 [17:03:58<132:40:04, 118.84s/it]"
     ]
    },
    {
     "name": "stdout",
     "output_type": "stream",
     "text": [
      "iter: 516, configuration: {'vectorizer_norm': 'l1', 'svm_degree': 5, 'medoid_normalization': 'standard', 'svm_kernel': 'rbf', 'nb_medoids_ratio': 0.3, 'svm_gamma': 0.3, 'svm_c': 0.001}\n",
      "\n",
      "validation micro-F1 @1: 0.0\n",
      "validation micro-F1 @2: 0.009900990099009901\n",
      "validation micro-F1 @3: 0.01155115511551155\n",
      "validation micro-F1 @4: 0.01485148514851485\n",
      "validation micro-F1 @5: 0.02178217821782178\n",
      "validation micro-F1 @6: 0.027227722772277228\n",
      "validation micro-F1 @7: 0.028995756718528994\n",
      "validation micro-F1 @8: 0.028465346534653466\n",
      "validation micro-F1 @9: 0.028052805280528052\n",
      "validation micro-F1 @10: 0.031188118811881188\n"
     ]
    },
    {
     "name": "stderr",
     "output_type": "stream",
     "text": [
      "\r",
      " 11%|█▏        | 518/4536 [17:04:42<132:28:24, 118.69s/it]"
     ]
    },
    {
     "name": "stdout",
     "output_type": "stream",
     "text": [
      "iter: 517, configuration: {'vectorizer_norm': 'l2', 'svm_degree': 5, 'medoid_normalization': 'standard', 'svm_kernel': 'rbf', 'nb_medoids_ratio': 0.3, 'svm_gamma': 0.3, 'svm_c': 0.001}\n",
      "\n",
      "validation micro-F1 @1: 0.11386138613861387\n",
      "validation micro-F1 @2: 0.15099009900990099\n",
      "validation micro-F1 @3: 0.12376237623762376\n",
      "validation micro-F1 @4: 0.10891089108910891\n",
      "validation micro-F1 @5: 0.10396039603960396\n",
      "validation micro-F1 @6: 0.10066006600660066\n",
      "validation micro-F1 @7: 0.09759547383309759\n",
      "validation micro-F1 @8: 0.09715346534653466\n",
      "validation micro-F1 @9: 0.0968096809680968\n",
      "validation micro-F1 @10: 0.09554455445544555\n"
     ]
    },
    {
     "name": "stderr",
     "output_type": "stream",
     "text": [
      "\r",
      " 11%|█▏        | 519/4536 [17:05:35<132:17:54, 118.56s/it]"
     ]
    },
    {
     "name": "stdout",
     "output_type": "stream",
     "text": [
      "iter: 518, configuration: {'vectorizer_norm': None, 'svm_degree': 5, 'medoid_normalization': 'standard', 'svm_kernel': 'rbf', 'nb_medoids_ratio': 0.3, 'svm_gamma': 0.3, 'svm_c': 0.001}\n",
      "\n",
      "validation micro-F1 @1: 0.13861386138613863\n",
      "validation micro-F1 @2: 0.15099009900990099\n",
      "validation micro-F1 @3: 0.12871287128712872\n",
      "validation micro-F1 @4: 0.11386138613861387\n",
      "validation micro-F1 @5: 0.10495049504950495\n",
      "validation micro-F1 @6: 0.09818481848184818\n",
      "validation micro-F1 @7: 0.09688826025459689\n",
      "validation micro-F1 @8: 0.09962871287128713\n",
      "validation micro-F1 @9: 0.09900990099009901\n",
      "validation micro-F1 @10: 0.09405940594059406\n"
     ]
    },
    {
     "name": "stderr",
     "output_type": "stream",
     "text": [
      "\r",
      " 11%|█▏        | 520/4536 [17:07:29<132:15:22, 118.56s/it]"
     ]
    },
    {
     "name": "stdout",
     "output_type": "stream",
     "text": [
      "iter: 519, configuration: {'vectorizer_norm': 'l1', 'svm_degree': 5, 'medoid_normalization': 'standard', 'svm_kernel': 'poly', 'nb_medoids_ratio': 0.3, 'svm_gamma': 0.3, 'svm_c': 0.001}\n",
      "\n",
      "validation micro-F1 @1: 0.13861386138613863\n",
      "validation micro-F1 @2: 0.15346534653465346\n",
      "validation micro-F1 @3: 0.13036303630363036\n",
      "validation micro-F1 @4: 0.1150990099009901\n",
      "validation micro-F1 @5: 0.11386138613861387\n",
      "validation micro-F1 @6: 0.10891089108910891\n",
      "validation micro-F1 @7: 0.10466760961810467\n",
      "validation micro-F1 @8: 0.10457920792079207\n",
      "validation micro-F1 @9: 0.09845984598459846\n",
      "validation micro-F1 @10: 0.09950495049504951\n"
     ]
    },
    {
     "name": "stderr",
     "output_type": "stream",
     "text": [
      "\r",
      " 11%|█▏        | 521/4536 [17:10:03<132:17:55, 118.62s/it]"
     ]
    },
    {
     "name": "stdout",
     "output_type": "stream",
     "text": [
      "iter: 520, configuration: {'vectorizer_norm': 'l2', 'svm_degree': 5, 'medoid_normalization': 'standard', 'svm_kernel': 'poly', 'nb_medoids_ratio': 0.3, 'svm_gamma': 0.3, 'svm_c': 0.001}\n",
      "\n",
      "validation micro-F1 @1: 0.1485148514851485\n",
      "validation micro-F1 @2: 0.15594059405940594\n",
      "validation micro-F1 @3: 0.12871287128712872\n",
      "validation micro-F1 @4: 0.12252475247524752\n",
      "validation micro-F1 @5: 0.10693069306930693\n",
      "validation micro-F1 @6: 0.10726072607260725\n",
      "validation micro-F1 @7: 0.10891089108910891\n",
      "validation micro-F1 @8: 0.10396039603960396\n",
      "validation micro-F1 @9: 0.10286028602860287\n",
      "validation micro-F1 @10: 0.1\n"
     ]
    },
    {
     "name": "stderr",
     "output_type": "stream",
     "text": [
      "\r",
      " 12%|█▏        | 522/4536 [17:12:40<132:20:51, 118.70s/it]"
     ]
    },
    {
     "name": "stdout",
     "output_type": "stream",
     "text": [
      "iter: 521, configuration: {'vectorizer_norm': None, 'svm_degree': 5, 'medoid_normalization': 'standard', 'svm_kernel': 'poly', 'nb_medoids_ratio': 0.3, 'svm_gamma': 0.3, 'svm_c': 0.001}\n",
      "\n",
      "validation micro-F1 @1: 0.1485148514851485\n",
      "validation micro-F1 @2: 0.15099009900990099\n",
      "validation micro-F1 @3: 0.12871287128712872\n",
      "validation micro-F1 @4: 0.11386138613861387\n",
      "validation micro-F1 @5: 0.10495049504950495\n",
      "validation micro-F1 @6: 0.09983498349834984\n",
      "validation micro-F1 @7: 0.0983026874115983\n",
      "validation micro-F1 @8: 0.09962871287128713\n",
      "validation micro-F1 @9: 0.09900990099009901\n",
      "validation micro-F1 @10: 0.09554455445544555\n"
     ]
    },
    {
     "name": "stderr",
     "output_type": "stream",
     "text": [
      "\r",
      " 12%|█▏        | 523/4536 [17:13:23<132:09:15, 118.55s/it]"
     ]
    },
    {
     "name": "stdout",
     "output_type": "stream",
     "text": [
      "iter: 522, configuration: {'vectorizer_norm': 'l1', 'svm_degree': 5, 'medoid_normalization': 'standard', 'svm_kernel': 'rbf', 'nb_medoids_ratio': 0.3, 'svm_gamma': 0.5, 'svm_c': 0.001}\n",
      "\n",
      "validation micro-F1 @1: 0.019801980198019802\n",
      "validation micro-F1 @2: 0.039603960396039604\n",
      "validation micro-F1 @3: 0.0462046204620462\n",
      "validation micro-F1 @4: 0.04826732673267327\n",
      "validation micro-F1 @5: 0.053465346534653464\n",
      "validation micro-F1 @6: 0.06023102310231023\n",
      "validation micro-F1 @7: 0.06789250353606789\n",
      "validation micro-F1 @8: 0.07116336633663366\n",
      "validation micro-F1 @9: 0.07205720572057206\n",
      "validation micro-F1 @10: 0.06782178217821783\n"
     ]
    },
    {
     "name": "stderr",
     "output_type": "stream",
     "text": [
      "\r",
      " 12%|█▏        | 524/4536 [17:14:07<131:57:47, 118.41s/it]"
     ]
    },
    {
     "name": "stdout",
     "output_type": "stream",
     "text": [
      "iter: 523, configuration: {'vectorizer_norm': 'l2', 'svm_degree': 5, 'medoid_normalization': 'standard', 'svm_kernel': 'rbf', 'nb_medoids_ratio': 0.3, 'svm_gamma': 0.5, 'svm_c': 0.001}\n",
      "\n",
      "validation micro-F1 @1: 0.15346534653465346\n",
      "validation micro-F1 @2: 0.13366336633663367\n",
      "validation micro-F1 @3: 0.12706270627062707\n",
      "validation micro-F1 @4: 0.1150990099009901\n",
      "validation micro-F1 @5: 0.10693069306930693\n",
      "validation micro-F1 @6: 0.10561056105610561\n",
      "validation micro-F1 @7: 0.10254596888260255\n",
      "validation micro-F1 @8: 0.10024752475247525\n",
      "validation micro-F1 @9: 0.09515951595159516\n",
      "validation micro-F1 @10: 0.0900990099009901\n"
     ]
    },
    {
     "name": "stderr",
     "output_type": "stream",
     "text": [
      "\r",
      " 12%|█▏        | 525/4536 [17:15:00<131:47:27, 118.29s/it]"
     ]
    },
    {
     "name": "stdout",
     "output_type": "stream",
     "text": [
      "iter: 524, configuration: {'vectorizer_norm': None, 'svm_degree': 5, 'medoid_normalization': 'standard', 'svm_kernel': 'rbf', 'nb_medoids_ratio': 0.3, 'svm_gamma': 0.5, 'svm_c': 0.001}\n",
      "\n",
      "validation micro-F1 @1: 0.13861386138613863\n",
      "validation micro-F1 @2: 0.15099009900990099\n",
      "validation micro-F1 @3: 0.12871287128712872\n",
      "validation micro-F1 @4: 0.11386138613861387\n",
      "validation micro-F1 @5: 0.10495049504950495\n",
      "validation micro-F1 @6: 0.09818481848184818\n",
      "validation micro-F1 @7: 0.09688826025459689\n",
      "validation micro-F1 @8: 0.09962871287128713\n",
      "validation micro-F1 @9: 0.09900990099009901\n",
      "validation micro-F1 @10: 0.09405940594059406\n"
     ]
    },
    {
     "name": "stderr",
     "output_type": "stream",
     "text": [
      "\r",
      " 12%|█▏        | 526/4536 [17:17:19<131:48:10, 118.33s/it]"
     ]
    },
    {
     "name": "stdout",
     "output_type": "stream",
     "text": [
      "iter: 525, configuration: {'vectorizer_norm': 'l1', 'svm_degree': 5, 'medoid_normalization': 'standard', 'svm_kernel': 'poly', 'nb_medoids_ratio': 0.3, 'svm_gamma': 0.5, 'svm_c': 0.001}\n",
      "\n",
      "validation micro-F1 @1: 0.13861386138613863\n",
      "validation micro-F1 @2: 0.15099009900990099\n",
      "validation micro-F1 @3: 0.12871287128712872\n",
      "validation micro-F1 @4: 0.11386138613861387\n",
      "validation micro-F1 @5: 0.10495049504950495\n",
      "validation micro-F1 @6: 0.10231023102310231\n",
      "validation micro-F1 @7: 0.10254596888260255\n",
      "validation micro-F1 @8: 0.10086633663366337\n",
      "validation micro-F1 @9: 0.09790979097909791\n",
      "validation micro-F1 @10: 0.09504950495049505\n"
     ]
    },
    {
     "name": "stderr",
     "output_type": "stream",
     "text": [
      "\r",
      " 12%|█▏        | 527/4536 [17:19:53<131:50:42, 118.39s/it]"
     ]
    },
    {
     "name": "stdout",
     "output_type": "stream",
     "text": [
      "iter: 526, configuration: {'vectorizer_norm': 'l2', 'svm_degree': 5, 'medoid_normalization': 'standard', 'svm_kernel': 'poly', 'nb_medoids_ratio': 0.3, 'svm_gamma': 0.5, 'svm_c': 0.001}\n",
      "\n",
      "validation micro-F1 @1: 0.15346534653465346\n",
      "validation micro-F1 @2: 0.14603960396039603\n",
      "validation micro-F1 @3: 0.12871287128712872\n",
      "validation micro-F1 @4: 0.11386138613861387\n",
      "validation micro-F1 @5: 0.10792079207920792\n",
      "validation micro-F1 @6: 0.10478547854785479\n",
      "validation micro-F1 @7: 0.10183875530410184\n",
      "validation micro-F1 @8: 0.09962871287128713\n",
      "validation micro-F1 @9: 0.09735973597359736\n",
      "validation micro-F1 @10: 0.09306930693069307\n"
     ]
    },
    {
     "name": "stderr",
     "output_type": "stream",
     "text": [
      "\r",
      " 12%|█▏        | 528/4536 [17:22:37<131:54:28, 118.48s/it]"
     ]
    },
    {
     "name": "stdout",
     "output_type": "stream",
     "text": [
      "iter: 527, configuration: {'vectorizer_norm': None, 'svm_degree': 5, 'medoid_normalization': 'standard', 'svm_kernel': 'poly', 'nb_medoids_ratio': 0.3, 'svm_gamma': 0.5, 'svm_c': 0.001}\n",
      "\n",
      "validation micro-F1 @1: 0.13366336633663367\n",
      "validation micro-F1 @2: 0.14603960396039603\n",
      "validation micro-F1 @3: 0.12376237623762376\n",
      "validation micro-F1 @4: 0.11138613861386139\n",
      "validation micro-F1 @5: 0.1\n",
      "validation micro-F1 @6: 0.10148514851485149\n",
      "validation micro-F1 @7: 0.09971711456859972\n",
      "validation micro-F1 @8: 0.09962871287128713\n",
      "validation micro-F1 @9: 0.10066006600660066\n",
      "validation micro-F1 @10: 0.09405940594059406\n"
     ]
    },
    {
     "name": "stderr",
     "output_type": "stream",
     "text": [
      "\r",
      " 12%|█▏        | 529/4536 [17:23:21<131:43:02, 118.34s/it]"
     ]
    },
    {
     "name": "stdout",
     "output_type": "stream",
     "text": [
      "iter: 528, configuration: {'vectorizer_norm': 'l1', 'svm_degree': 5, 'medoid_normalization': 'standard', 'svm_kernel': 'rbf', 'nb_medoids_ratio': 0.3, 'svm_gamma': 1.0, 'svm_c': 0.001}\n",
      "\n",
      "validation micro-F1 @1: 0.0594059405940594\n",
      "validation micro-F1 @2: 0.06930693069306931\n",
      "validation micro-F1 @3: 0.08250825082508251\n",
      "validation micro-F1 @4: 0.0853960396039604\n",
      "validation micro-F1 @5: 0.08811881188118811\n",
      "validation micro-F1 @6: 0.0891089108910891\n",
      "validation micro-F1 @7: 0.08345120226308345\n",
      "validation micro-F1 @8: 0.08292079207920793\n",
      "validation micro-F1 @9: 0.08745874587458746\n",
      "validation micro-F1 @10: 0.0896039603960396\n"
     ]
    },
    {
     "name": "stderr",
     "output_type": "stream",
     "text": [
      "\r",
      " 12%|█▏        | 530/4536 [17:24:05<131:31:48, 118.20s/it]"
     ]
    },
    {
     "name": "stdout",
     "output_type": "stream",
     "text": [
      "iter: 529, configuration: {'vectorizer_norm': 'l2', 'svm_degree': 5, 'medoid_normalization': 'standard', 'svm_kernel': 'rbf', 'nb_medoids_ratio': 0.3, 'svm_gamma': 1.0, 'svm_c': 0.001}\n",
      "\n",
      "validation micro-F1 @1: 0.12376237623762376\n",
      "validation micro-F1 @2: 0.11633663366336634\n",
      "validation micro-F1 @3: 0.11386138613861387\n",
      "validation micro-F1 @4: 0.10643564356435643\n",
      "validation micro-F1 @5: 0.09801980198019802\n",
      "validation micro-F1 @6: 0.09653465346534654\n",
      "validation micro-F1 @7: 0.09688826025459689\n",
      "validation micro-F1 @8: 0.0983910891089109\n",
      "validation micro-F1 @9: 0.09735973597359736\n",
      "validation micro-F1 @10: 0.09356435643564356\n"
     ]
    },
    {
     "name": "stderr",
     "output_type": "stream",
     "text": [
      "\r",
      " 12%|█▏        | 531/4536 [17:24:58<131:21:36, 118.08s/it]"
     ]
    },
    {
     "name": "stdout",
     "output_type": "stream",
     "text": [
      "iter: 530, configuration: {'vectorizer_norm': None, 'svm_degree': 5, 'medoid_normalization': 'standard', 'svm_kernel': 'rbf', 'nb_medoids_ratio': 0.3, 'svm_gamma': 1.0, 'svm_c': 0.001}\n",
      "\n",
      "validation micro-F1 @1: 0.13861386138613863\n",
      "validation micro-F1 @2: 0.15099009900990099\n",
      "validation micro-F1 @3: 0.12871287128712872\n",
      "validation micro-F1 @4: 0.11386138613861387\n",
      "validation micro-F1 @5: 0.10495049504950495\n",
      "validation micro-F1 @6: 0.09818481848184818\n",
      "validation micro-F1 @7: 0.10113154172560113\n",
      "validation micro-F1 @8: 0.09962871287128713\n",
      "validation micro-F1 @9: 0.09900990099009901\n",
      "validation micro-F1 @10: 0.09405940594059406\n"
     ]
    },
    {
     "name": "stderr",
     "output_type": "stream",
     "text": [
      "\r",
      " 12%|█▏        | 532/4536 [17:27:44<131:25:35, 118.17s/it]"
     ]
    },
    {
     "name": "stdout",
     "output_type": "stream",
     "text": [
      "iter: 531, configuration: {'vectorizer_norm': 'l1', 'svm_degree': 5, 'medoid_normalization': 'standard', 'svm_kernel': 'poly', 'nb_medoids_ratio': 0.3, 'svm_gamma': 1.0, 'svm_c': 0.001}\n",
      "\n",
      "validation micro-F1 @1: 0.13366336633663367\n",
      "validation micro-F1 @2: 0.1485148514851485\n",
      "validation micro-F1 @3: 0.12706270627062707\n",
      "validation micro-F1 @4: 0.11386138613861387\n",
      "validation micro-F1 @5: 0.10396039603960396\n",
      "validation micro-F1 @6: 0.09983498349834984\n",
      "validation micro-F1 @7: 0.09759547383309759\n",
      "validation micro-F1 @8: 0.10024752475247525\n",
      "validation micro-F1 @9: 0.09900990099009901\n",
      "validation micro-F1 @10: 0.09455445544554456\n"
     ]
    },
    {
     "name": "stderr",
     "output_type": "stream",
     "text": [
      "\r",
      " 12%|█▏        | 533/4536 [17:30:22<131:28:41, 118.24s/it]"
     ]
    },
    {
     "name": "stdout",
     "output_type": "stream",
     "text": [
      "iter: 532, configuration: {'vectorizer_norm': 'l2', 'svm_degree': 5, 'medoid_normalization': 'standard', 'svm_kernel': 'poly', 'nb_medoids_ratio': 0.3, 'svm_gamma': 1.0, 'svm_c': 0.001}\n",
      "\n",
      "validation micro-F1 @1: 0.13861386138613863\n",
      "validation micro-F1 @2: 0.13613861386138615\n",
      "validation micro-F1 @3: 0.1254125412541254\n",
      "validation micro-F1 @4: 0.1150990099009901\n",
      "validation micro-F1 @5: 0.1099009900990099\n",
      "validation micro-F1 @6: 0.10643564356435643\n",
      "validation micro-F1 @7: 0.10325318246110325\n",
      "validation micro-F1 @8: 0.10148514851485149\n",
      "validation micro-F1 @9: 0.09900990099009901\n",
      "validation micro-F1 @10: 0.09455445544554456\n"
     ]
    },
    {
     "name": "stderr",
     "output_type": "stream",
     "text": [
      "\r",
      " 12%|█▏        | 534/4536 [17:33:16<131:33:36, 118.34s/it]"
     ]
    },
    {
     "name": "stdout",
     "output_type": "stream",
     "text": [
      "iter: 533, configuration: {'vectorizer_norm': None, 'svm_degree': 5, 'medoid_normalization': 'standard', 'svm_kernel': 'poly', 'nb_medoids_ratio': 0.3, 'svm_gamma': 1.0, 'svm_c': 0.001}\n",
      "\n",
      "validation micro-F1 @1: 0.13366336633663367\n",
      "validation micro-F1 @2: 0.1485148514851485\n",
      "validation micro-F1 @3: 0.12706270627062707\n",
      "validation micro-F1 @4: 0.11262376237623763\n",
      "validation micro-F1 @5: 0.10396039603960396\n",
      "validation micro-F1 @6: 0.09983498349834984\n",
      "validation micro-F1 @7: 0.10042432814710042\n",
      "validation micro-F1 @8: 0.09962871287128713\n",
      "validation micro-F1 @9: 0.09900990099009901\n",
      "validation micro-F1 @10: 0.09356435643564356\n"
     ]
    },
    {
     "name": "stderr",
     "output_type": "stream",
     "text": [
      "\r",
      " 12%|█▏        | 535/4536 [17:33:59<131:22:16, 118.20s/it]"
     ]
    },
    {
     "name": "stdout",
     "output_type": "stream",
     "text": [
      "iter: 534, configuration: {'vectorizer_norm': 'l1', 'svm_degree': 5, 'medoid_normalization': 'standard', 'svm_kernel': 'rbf', 'nb_medoids_ratio': 0.3, 'svm_gamma': 'auto', 'svm_c': 0.001}\n",
      "\n",
      "validation micro-F1 @1: 0.019801980198019802\n",
      "validation micro-F1 @2: 0.012376237623762377\n",
      "validation micro-F1 @3: 0.01155115511551155\n",
      "validation micro-F1 @4: 0.01485148514851485\n",
      "validation micro-F1 @5: 0.013861386138613862\n",
      "validation micro-F1 @6: 0.015676567656765675\n",
      "validation micro-F1 @7: 0.014144271570014143\n",
      "validation micro-F1 @8: 0.012995049504950494\n",
      "validation micro-F1 @9: 0.012651265126512651\n",
      "validation micro-F1 @10: 0.01287128712871287\n"
     ]
    },
    {
     "name": "stderr",
     "output_type": "stream",
     "text": [
      "\r",
      " 12%|█▏        | 536/4536 [17:34:42<131:10:58, 118.06s/it]"
     ]
    },
    {
     "name": "stdout",
     "output_type": "stream",
     "text": [
      "iter: 535, configuration: {'vectorizer_norm': 'l2', 'svm_degree': 5, 'medoid_normalization': 'standard', 'svm_kernel': 'rbf', 'nb_medoids_ratio': 0.3, 'svm_gamma': 'auto', 'svm_c': 0.001}\n",
      "\n",
      "validation micro-F1 @1: 0.009900990099009901\n",
      "validation micro-F1 @2: 0.007425742574257425\n",
      "validation micro-F1 @3: 0.009900990099009901\n",
      "validation micro-F1 @4: 0.008663366336633664\n",
      "validation micro-F1 @5: 0.00891089108910891\n",
      "validation micro-F1 @6: 0.01155115511551155\n",
      "validation micro-F1 @7: 0.011315417256011316\n",
      "validation micro-F1 @8: 0.011757425742574257\n",
      "validation micro-F1 @9: 0.013201320132013201\n",
      "validation micro-F1 @10: 0.01485148514851485\n"
     ]
    },
    {
     "name": "stderr",
     "output_type": "stream",
     "text": [
      "\r",
      " 12%|█▏        | 537/4536 [17:35:27<130:59:54, 117.93s/it]"
     ]
    },
    {
     "name": "stdout",
     "output_type": "stream",
     "text": [
      "iter: 536, configuration: {'vectorizer_norm': None, 'svm_degree': 5, 'medoid_normalization': 'standard', 'svm_kernel': 'rbf', 'nb_medoids_ratio': 0.3, 'svm_gamma': 'auto', 'svm_c': 0.001}\n",
      "\n",
      "validation micro-F1 @1: 0.12376237623762376\n",
      "validation micro-F1 @2: 0.1188118811881188\n",
      "validation micro-F1 @3: 0.1188118811881188\n",
      "validation micro-F1 @4: 0.10767326732673267\n",
      "validation micro-F1 @5: 0.1\n",
      "validation micro-F1 @6: 0.10066006600660066\n",
      "validation micro-F1 @7: 0.09688826025459689\n",
      "validation micro-F1 @8: 0.09344059405940594\n",
      "validation micro-F1 @9: 0.09130913091309131\n",
      "validation micro-F1 @10: 0.09108910891089109\n"
     ]
    },
    {
     "name": "stderr",
     "output_type": "stream",
     "text": [
      "\r",
      " 12%|█▏        | 538/4536 [17:36:08<130:48:27, 117.79s/it]"
     ]
    },
    {
     "name": "stdout",
     "output_type": "stream",
     "text": [
      "iter: 537, configuration: {'vectorizer_norm': 'l1', 'svm_degree': 5, 'medoid_normalization': 'standard', 'svm_kernel': 'poly', 'nb_medoids_ratio': 0.3, 'svm_gamma': 'auto', 'svm_c': 0.001}\n",
      "\n",
      "validation micro-F1 @1: 0.009900990099009901\n",
      "validation micro-F1 @2: 0.012376237623762377\n",
      "validation micro-F1 @3: 0.01155115511551155\n",
      "validation micro-F1 @4: 0.008663366336633664\n",
      "validation micro-F1 @5: 0.013861386138613862\n",
      "validation micro-F1 @6: 0.012376237623762377\n",
      "validation micro-F1 @7: 0.01485148514851485\n",
      "validation micro-F1 @8: 0.01608910891089109\n",
      "validation micro-F1 @9: 0.01595159515951595\n",
      "validation micro-F1 @10: 0.026237623762376237\n"
     ]
    },
    {
     "name": "stderr",
     "output_type": "stream",
     "text": [
      "\r",
      " 12%|█▏        | 539/4536 [17:36:49<130:36:59, 117.64s/it]"
     ]
    },
    {
     "name": "stdout",
     "output_type": "stream",
     "text": [
      "iter: 538, configuration: {'vectorizer_norm': 'l2', 'svm_degree': 5, 'medoid_normalization': 'standard', 'svm_kernel': 'poly', 'nb_medoids_ratio': 0.3, 'svm_gamma': 'auto', 'svm_c': 0.001}\n",
      "\n",
      "validation micro-F1 @1: 0.0297029702970297\n",
      "validation micro-F1 @2: 0.034653465346534656\n",
      "validation micro-F1 @3: 0.0429042904290429\n",
      "validation micro-F1 @4: 0.0594059405940594\n",
      "validation micro-F1 @5: 0.062376237623762376\n",
      "validation micro-F1 @6: 0.06518151815181518\n",
      "validation micro-F1 @7: 0.06647807637906648\n",
      "validation micro-F1 @8: 0.06621287128712872\n",
      "validation micro-F1 @9: 0.06490649064906491\n",
      "validation micro-F1 @10: 0.06336633663366337\n"
     ]
    },
    {
     "name": "stderr",
     "output_type": "stream",
     "text": [
      "\r",
      " 12%|█▏        | 540/4536 [17:39:35<130:41:02, 117.73s/it]"
     ]
    },
    {
     "name": "stdout",
     "output_type": "stream",
     "text": [
      "iter: 539, configuration: {'vectorizer_norm': None, 'svm_degree': 5, 'medoid_normalization': 'standard', 'svm_kernel': 'poly', 'nb_medoids_ratio': 0.3, 'svm_gamma': 'auto', 'svm_c': 0.001}\n",
      "\n",
      "validation micro-F1 @1: 0.13366336633663367\n",
      "validation micro-F1 @2: 0.1485148514851485\n",
      "validation micro-F1 @3: 0.12871287128712872\n",
      "validation micro-F1 @4: 0.11386138613861387\n",
      "validation micro-F1 @5: 0.10495049504950495\n",
      "validation micro-F1 @6: 0.09983498349834984\n",
      "validation micro-F1 @7: 0.10042432814710042\n",
      "validation micro-F1 @8: 0.10024752475247525\n",
      "validation micro-F1 @9: 0.09845984598459846\n",
      "validation micro-F1 @10: 0.09405940594059406\n"
     ]
    },
    {
     "name": "stderr",
     "output_type": "stream",
     "text": [
      "\r",
      " 12%|█▏        | 541/4536 [17:40:20<130:30:03, 117.60s/it]"
     ]
    },
    {
     "name": "stdout",
     "output_type": "stream",
     "text": [
      "iter: 540, configuration: {'vectorizer_norm': 'l1', 'svm_degree': 3, 'medoid_normalization': 'standard', 'svm_kernel': 'rbf', 'nb_medoids_ratio': 0.3, 'svm_gamma': 0.1, 'svm_c': 0.01}\n",
      "\n",
      "validation micro-F1 @1: 0.0891089108910891\n",
      "validation micro-F1 @2: 0.08168316831683169\n",
      "validation micro-F1 @3: 0.08085808580858085\n",
      "validation micro-F1 @4: 0.0853960396039604\n",
      "validation micro-F1 @5: 0.08316831683168317\n",
      "validation micro-F1 @6: 0.08168316831683169\n",
      "validation micro-F1 @7: 0.07637906647807638\n",
      "validation micro-F1 @8: 0.07673267326732673\n",
      "validation micro-F1 @9: 0.07755775577557755\n",
      "validation micro-F1 @10: 0.07871287128712871\n"
     ]
    },
    {
     "name": "stderr",
     "output_type": "stream",
     "text": [
      "\r",
      " 12%|█▏        | 542/4536 [17:41:15<130:20:25, 117.48s/it]"
     ]
    },
    {
     "name": "stdout",
     "output_type": "stream",
     "text": [
      "iter: 541, configuration: {'vectorizer_norm': 'l2', 'svm_degree': 3, 'medoid_normalization': 'standard', 'svm_kernel': 'rbf', 'nb_medoids_ratio': 0.3, 'svm_gamma': 0.1, 'svm_c': 0.01}\n",
      "\n",
      "validation micro-F1 @1: 0.13861386138613863\n",
      "validation micro-F1 @2: 0.12376237623762376\n",
      "validation micro-F1 @3: 0.12706270627062707\n",
      "validation micro-F1 @4: 0.11633663366336634\n",
      "validation micro-F1 @5: 0.10792079207920792\n",
      "validation micro-F1 @6: 0.10808580858085809\n",
      "validation micro-F1 @7: 0.10042432814710042\n",
      "validation micro-F1 @8: 0.10086633663366337\n",
      "validation micro-F1 @9: 0.09790979097909791\n",
      "validation micro-F1 @10: 0.09702970297029703\n"
     ]
    },
    {
     "name": "stderr",
     "output_type": "stream",
     "text": [
      "\r",
      " 12%|█▏        | 543/4536 [17:44:31<130:28:07, 117.63s/it]"
     ]
    },
    {
     "name": "stdout",
     "output_type": "stream",
     "text": [
      "iter: 542, configuration: {'vectorizer_norm': None, 'svm_degree': 3, 'medoid_normalization': 'standard', 'svm_kernel': 'rbf', 'nb_medoids_ratio': 0.3, 'svm_gamma': 0.1, 'svm_c': 0.01}\n",
      "\n",
      "validation micro-F1 @1: 0.13366336633663367\n",
      "validation micro-F1 @2: 0.1485148514851485\n",
      "validation micro-F1 @3: 0.12706270627062707\n",
      "validation micro-F1 @4: 0.11386138613861387\n",
      "validation micro-F1 @5: 0.10495049504950495\n",
      "validation micro-F1 @6: 0.10726072607260725\n",
      "validation micro-F1 @7: 0.10466760961810467\n",
      "validation micro-F1 @8: 0.09962871287128713\n",
      "validation micro-F1 @9: 0.09900990099009901\n",
      "validation micro-F1 @10: 0.09356435643564356\n"
     ]
    },
    {
     "name": "stderr",
     "output_type": "stream",
     "text": [
      "\r",
      " 12%|█▏        | 544/4536 [17:45:52<130:21:37, 117.56s/it]"
     ]
    },
    {
     "name": "stdout",
     "output_type": "stream",
     "text": [
      "iter: 543, configuration: {'vectorizer_norm': 'l1', 'svm_degree': 3, 'medoid_normalization': 'standard', 'svm_kernel': 'poly', 'nb_medoids_ratio': 0.3, 'svm_gamma': 0.1, 'svm_c': 0.01}\n",
      "\n",
      "validation micro-F1 @1: 0.13861386138613863\n",
      "validation micro-F1 @2: 0.15099009900990099\n",
      "validation micro-F1 @3: 0.13036303630363036\n",
      "validation micro-F1 @4: 0.11386138613861387\n",
      "validation micro-F1 @5: 0.10792079207920792\n",
      "validation micro-F1 @6: 0.10313531353135313\n",
      "validation micro-F1 @7: 0.09971711456859972\n",
      "validation micro-F1 @8: 0.10086633663366337\n",
      "validation micro-F1 @9: 0.10121012101210121\n",
      "validation micro-F1 @10: 0.1\n"
     ]
    },
    {
     "name": "stderr",
     "output_type": "stream",
     "text": [
      "\r",
      " 12%|█▏        | 545/4536 [17:47:54<130:20:12, 117.57s/it]"
     ]
    },
    {
     "name": "stdout",
     "output_type": "stream",
     "text": [
      "iter: 544, configuration: {'vectorizer_norm': 'l2', 'svm_degree': 3, 'medoid_normalization': 'standard', 'svm_kernel': 'poly', 'nb_medoids_ratio': 0.3, 'svm_gamma': 0.1, 'svm_c': 0.01}\n",
      "\n",
      "validation micro-F1 @1: 0.13861386138613863\n",
      "validation micro-F1 @2: 0.12376237623762376\n",
      "validation micro-F1 @3: 0.10891089108910891\n",
      "validation micro-F1 @4: 0.11757425742574257\n",
      "validation micro-F1 @5: 0.10891089108910891\n",
      "validation micro-F1 @6: 0.10313531353135313\n",
      "validation micro-F1 @7: 0.09971711456859972\n",
      "validation micro-F1 @8: 0.09715346534653466\n",
      "validation micro-F1 @9: 0.0924092409240924\n",
      "validation micro-F1 @10: 0.09306930693069307\n"
     ]
    },
    {
     "name": "stderr",
     "output_type": "stream",
     "text": [
      "\r",
      " 12%|█▏        | 546/4536 [17:50:25<130:22:21, 117.63s/it]"
     ]
    },
    {
     "name": "stdout",
     "output_type": "stream",
     "text": [
      "iter: 545, configuration: {'vectorizer_norm': None, 'svm_degree': 3, 'medoid_normalization': 'standard', 'svm_kernel': 'poly', 'nb_medoids_ratio': 0.3, 'svm_gamma': 0.1, 'svm_c': 0.01}\n",
      "\n",
      "validation micro-F1 @1: 0.13366336633663367\n",
      "validation micro-F1 @2: 0.1485148514851485\n",
      "validation micro-F1 @3: 0.12211221122112212\n",
      "validation micro-F1 @4: 0.11633663366336634\n",
      "validation micro-F1 @5: 0.10792079207920792\n",
      "validation micro-F1 @6: 0.10643564356435643\n",
      "validation micro-F1 @7: 0.09971711456859972\n",
      "validation micro-F1 @8: 0.10148514851485149\n",
      "validation micro-F1 @9: 0.09790979097909791\n",
      "validation micro-F1 @10: 0.09702970297029703\n"
     ]
    },
    {
     "name": "stderr",
     "output_type": "stream",
     "text": [
      "\r",
      " 12%|█▏        | 547/4536 [17:51:11<130:11:38, 117.50s/it]"
     ]
    },
    {
     "name": "stdout",
     "output_type": "stream",
     "text": [
      "iter: 546, configuration: {'vectorizer_norm': 'l1', 'svm_degree': 3, 'medoid_normalization': 'standard', 'svm_kernel': 'rbf', 'nb_medoids_ratio': 0.3, 'svm_gamma': 0.2, 'svm_c': 0.01}\n",
      "\n",
      "validation micro-F1 @1: 0.09405940594059406\n",
      "validation micro-F1 @2: 0.10643564356435643\n",
      "validation micro-F1 @3: 0.10891089108910891\n",
      "validation micro-F1 @4: 0.10148514851485149\n",
      "validation micro-F1 @5: 0.09603960396039604\n",
      "validation micro-F1 @6: 0.09653465346534654\n",
      "validation micro-F1 @7: 0.09476661951909476\n",
      "validation micro-F1 @8: 0.08972772277227722\n",
      "validation micro-F1 @9: 0.08855885588558855\n",
      "validation micro-F1 @10: 0.08663366336633663\n"
     ]
    },
    {
     "name": "stderr",
     "output_type": "stream",
     "text": [
      "\r",
      " 12%|█▏        | 548/4536 [17:52:20<130:03:47, 117.41s/it]"
     ]
    },
    {
     "name": "stdout",
     "output_type": "stream",
     "text": [
      "iter: 547, configuration: {'vectorizer_norm': 'l2', 'svm_degree': 3, 'medoid_normalization': 'standard', 'svm_kernel': 'rbf', 'nb_medoids_ratio': 0.3, 'svm_gamma': 0.2, 'svm_c': 0.01}\n",
      "\n",
      "validation micro-F1 @1: 0.13861386138613863\n",
      "validation micro-F1 @2: 0.14356435643564355\n",
      "validation micro-F1 @3: 0.13036303630363036\n",
      "validation micro-F1 @4: 0.12004950495049505\n",
      "validation micro-F1 @5: 0.11089108910891089\n",
      "validation micro-F1 @6: 0.10561056105610561\n",
      "validation micro-F1 @7: 0.10113154172560113\n",
      "validation micro-F1 @8: 0.09962871287128713\n",
      "validation micro-F1 @9: 0.0968096809680968\n",
      "validation micro-F1 @10: 0.09207920792079208\n"
     ]
    },
    {
     "name": "stderr",
     "output_type": "stream",
     "text": [
      "\r",
      " 12%|█▏        | 549/4536 [17:55:34<130:11:08, 117.55s/it]"
     ]
    },
    {
     "name": "stdout",
     "output_type": "stream",
     "text": [
      "iter: 548, configuration: {'vectorizer_norm': None, 'svm_degree': 3, 'medoid_normalization': 'standard', 'svm_kernel': 'rbf', 'nb_medoids_ratio': 0.3, 'svm_gamma': 0.2, 'svm_c': 0.01}\n",
      "\n",
      "validation micro-F1 @1: 0.13366336633663367\n",
      "validation micro-F1 @2: 0.1485148514851485\n",
      "validation micro-F1 @3: 0.12871287128712872\n",
      "validation micro-F1 @4: 0.11386138613861387\n",
      "validation micro-F1 @5: 0.10495049504950495\n",
      "validation micro-F1 @6: 0.10231023102310231\n",
      "validation micro-F1 @7: 0.10466760961810467\n",
      "validation micro-F1 @8: 0.10334158415841584\n",
      "validation micro-F1 @9: 0.09900990099009901\n",
      "validation micro-F1 @10: 0.09405940594059406\n"
     ]
    },
    {
     "name": "stderr",
     "output_type": "stream",
     "text": [
      "\r",
      " 12%|█▏        | 550/4536 [17:57:12<130:06:48, 117.51s/it]"
     ]
    },
    {
     "name": "stdout",
     "output_type": "stream",
     "text": [
      "iter: 549, configuration: {'vectorizer_norm': 'l1', 'svm_degree': 3, 'medoid_normalization': 'standard', 'svm_kernel': 'poly', 'nb_medoids_ratio': 0.3, 'svm_gamma': 0.2, 'svm_c': 0.01}\n",
      "\n",
      "validation micro-F1 @1: 0.14356435643564355\n",
      "validation micro-F1 @2: 0.15594059405940594\n",
      "validation micro-F1 @3: 0.13366336633663367\n",
      "validation micro-F1 @4: 0.11757425742574257\n",
      "validation micro-F1 @5: 0.11683168316831684\n",
      "validation micro-F1 @6: 0.10726072607260725\n",
      "validation micro-F1 @7: 0.10325318246110325\n",
      "validation micro-F1 @8: 0.10148514851485149\n",
      "validation micro-F1 @9: 0.10176017601760176\n",
      "validation micro-F1 @10: 0.100990099009901\n"
     ]
    },
    {
     "name": "stderr",
     "output_type": "stream",
     "text": [
      "\r",
      " 12%|█▏        | 551/4536 [17:59:27<130:06:59, 117.55s/it]"
     ]
    },
    {
     "name": "stdout",
     "output_type": "stream",
     "text": [
      "iter: 550, configuration: {'vectorizer_norm': 'l2', 'svm_degree': 3, 'medoid_normalization': 'standard', 'svm_kernel': 'poly', 'nb_medoids_ratio': 0.3, 'svm_gamma': 0.2, 'svm_c': 0.01}\n",
      "\n",
      "validation micro-F1 @1: 0.18811881188118812\n",
      "validation micro-F1 @2: 0.15346534653465346\n",
      "validation micro-F1 @3: 0.12871287128712872\n",
      "validation micro-F1 @4: 0.1150990099009901\n",
      "validation micro-F1 @5: 0.10792079207920792\n",
      "validation micro-F1 @6: 0.10396039603960396\n",
      "validation micro-F1 @7: 0.10042432814710042\n",
      "validation micro-F1 @8: 0.09962871287128713\n",
      "validation micro-F1 @9: 0.09900990099009901\n",
      "validation micro-F1 @10: 0.09801980198019802\n"
     ]
    },
    {
     "name": "stderr",
     "output_type": "stream",
     "text": [
      "\r",
      " 12%|█▏        | 552/4536 [18:02:02<130:09:31, 117.61s/it]"
     ]
    },
    {
     "name": "stdout",
     "output_type": "stream",
     "text": [
      "iter: 551, configuration: {'vectorizer_norm': None, 'svm_degree': 3, 'medoid_normalization': 'standard', 'svm_kernel': 'poly', 'nb_medoids_ratio': 0.3, 'svm_gamma': 0.2, 'svm_c': 0.01}\n",
      "\n",
      "validation micro-F1 @1: 0.13366336633663367\n",
      "validation micro-F1 @2: 0.15346534653465346\n",
      "validation micro-F1 @3: 0.12211221122112212\n",
      "validation micro-F1 @4: 0.11386138613861387\n",
      "validation micro-F1 @5: 0.10495049504950495\n",
      "validation micro-F1 @6: 0.10231023102310231\n",
      "validation micro-F1 @7: 0.10183875530410184\n",
      "validation micro-F1 @8: 0.10024752475247525\n",
      "validation micro-F1 @9: 0.09955995599559957\n",
      "validation micro-F1 @10: 0.09504950495049505\n"
     ]
    },
    {
     "name": "stderr",
     "output_type": "stream",
     "text": [
      "\r",
      " 12%|█▏        | 553/4536 [18:02:49<129:59:05, 117.49s/it]"
     ]
    },
    {
     "name": "stdout",
     "output_type": "stream",
     "text": [
      "iter: 552, configuration: {'vectorizer_norm': 'l1', 'svm_degree': 3, 'medoid_normalization': 'standard', 'svm_kernel': 'rbf', 'nb_medoids_ratio': 0.3, 'svm_gamma': 0.3, 'svm_c': 0.01}\n",
      "\n",
      "validation micro-F1 @1: 0.12871287128712872\n",
      "validation micro-F1 @2: 0.1188118811881188\n",
      "validation micro-F1 @3: 0.11716171617161716\n",
      "validation micro-F1 @4: 0.1051980198019802\n",
      "validation micro-F1 @5: 0.09900990099009901\n",
      "validation micro-F1 @6: 0.09735973597359736\n",
      "validation micro-F1 @7: 0.10113154172560113\n",
      "validation micro-F1 @8: 0.10086633663366337\n",
      "validation micro-F1 @9: 0.09735973597359736\n",
      "validation micro-F1 @10: 0.09405940594059406\n"
     ]
    },
    {
     "name": "stderr",
     "output_type": "stream",
     "text": [
      "\r",
      " 12%|█▏        | 554/4536 [18:04:07<129:52:22, 117.41s/it]"
     ]
    },
    {
     "name": "stdout",
     "output_type": "stream",
     "text": [
      "iter: 553, configuration: {'vectorizer_norm': 'l2', 'svm_degree': 3, 'medoid_normalization': 'standard', 'svm_kernel': 'rbf', 'nb_medoids_ratio': 0.3, 'svm_gamma': 0.3, 'svm_c': 0.01}\n",
      "\n",
      "validation micro-F1 @1: 0.1485148514851485\n",
      "validation micro-F1 @2: 0.14108910891089108\n",
      "validation micro-F1 @3: 0.132013201320132\n",
      "validation micro-F1 @4: 0.11386138613861387\n",
      "validation micro-F1 @5: 0.10891089108910891\n",
      "validation micro-F1 @6: 0.10561056105610561\n",
      "validation micro-F1 @7: 0.10466760961810467\n",
      "validation micro-F1 @8: 0.10024752475247525\n",
      "validation micro-F1 @9: 0.09790979097909791\n",
      "validation micro-F1 @10: 0.09851485148514852\n"
     ]
    },
    {
     "name": "stderr",
     "output_type": "stream",
     "text": [
      "\r",
      " 12%|█▏        | 555/4536 [18:07:20<129:59:26, 117.55s/it]"
     ]
    },
    {
     "name": "stdout",
     "output_type": "stream",
     "text": [
      "iter: 554, configuration: {'vectorizer_norm': None, 'svm_degree': 3, 'medoid_normalization': 'standard', 'svm_kernel': 'rbf', 'nb_medoids_ratio': 0.3, 'svm_gamma': 0.3, 'svm_c': 0.01}\n",
      "\n",
      "validation micro-F1 @1: 0.13861386138613863\n",
      "validation micro-F1 @2: 0.15099009900990099\n",
      "validation micro-F1 @3: 0.12871287128712872\n",
      "validation micro-F1 @4: 0.11386138613861387\n",
      "validation micro-F1 @5: 0.10495049504950495\n",
      "validation micro-F1 @6: 0.09818481848184818\n",
      "validation micro-F1 @7: 0.09688826025459689\n",
      "validation micro-F1 @8: 0.09962871287128713\n",
      "validation micro-F1 @9: 0.09900990099009901\n",
      "validation micro-F1 @10: 0.09356435643564356\n"
     ]
    },
    {
     "name": "stderr",
     "output_type": "stream",
     "text": [
      "\r",
      " 12%|█▏        | 556/4536 [18:09:04<129:55:51, 117.53s/it]"
     ]
    },
    {
     "name": "stdout",
     "output_type": "stream",
     "text": [
      "iter: 555, configuration: {'vectorizer_norm': 'l1', 'svm_degree': 3, 'medoid_normalization': 'standard', 'svm_kernel': 'poly', 'nb_medoids_ratio': 0.3, 'svm_gamma': 0.3, 'svm_c': 0.01}\n",
      "\n",
      "validation micro-F1 @1: 0.13366336633663367\n",
      "validation micro-F1 @2: 0.15099009900990099\n",
      "validation micro-F1 @3: 0.12706270627062707\n",
      "validation micro-F1 @4: 0.11386138613861387\n",
      "validation micro-F1 @5: 0.10594059405940594\n",
      "validation micro-F1 @6: 0.10973597359735973\n",
      "validation micro-F1 @7: 0.10678925035360678\n",
      "validation micro-F1 @8: 0.10272277227722772\n",
      "validation micro-F1 @9: 0.09955995599559957\n",
      "validation micro-F1 @10: 0.09950495049504951\n"
     ]
    },
    {
     "name": "stderr",
     "output_type": "stream",
     "text": [
      "\r",
      " 12%|█▏        | 557/4536 [18:11:22<129:56:22, 117.56s/it]"
     ]
    },
    {
     "name": "stdout",
     "output_type": "stream",
     "text": [
      "iter: 556, configuration: {'vectorizer_norm': 'l2', 'svm_degree': 3, 'medoid_normalization': 'standard', 'svm_kernel': 'poly', 'nb_medoids_ratio': 0.3, 'svm_gamma': 0.3, 'svm_c': 0.01}\n",
      "\n",
      "validation micro-F1 @1: 0.14356435643564355\n",
      "validation micro-F1 @2: 0.15346534653465346\n",
      "validation micro-F1 @3: 0.12376237623762376\n",
      "validation micro-F1 @4: 0.1150990099009901\n",
      "validation micro-F1 @5: 0.10792079207920792\n",
      "validation micro-F1 @6: 0.10478547854785479\n",
      "validation micro-F1 @7: 0.10466760961810467\n",
      "validation micro-F1 @8: 0.10024752475247525\n",
      "validation micro-F1 @9: 0.09955995599559957\n",
      "validation micro-F1 @10: 0.09603960396039604\n"
     ]
    },
    {
     "name": "stderr",
     "output_type": "stream",
     "text": [
      "\r",
      " 12%|█▏        | 558/4536 [18:13:58<129:58:55, 117.63s/it]"
     ]
    },
    {
     "name": "stdout",
     "output_type": "stream",
     "text": [
      "iter: 557, configuration: {'vectorizer_norm': None, 'svm_degree': 3, 'medoid_normalization': 'standard', 'svm_kernel': 'poly', 'nb_medoids_ratio': 0.3, 'svm_gamma': 0.3, 'svm_c': 0.01}\n",
      "\n",
      "validation micro-F1 @1: 0.14356435643564355\n",
      "validation micro-F1 @2: 0.14603960396039603\n",
      "validation micro-F1 @3: 0.12211221122112212\n",
      "validation micro-F1 @4: 0.1150990099009901\n",
      "validation micro-F1 @5: 0.10693069306930693\n",
      "validation micro-F1 @6: 0.10396039603960396\n",
      "validation micro-F1 @7: 0.10113154172560113\n",
      "validation micro-F1 @8: 0.10086633663366337\n",
      "validation micro-F1 @9: 0.09845984598459846\n",
      "validation micro-F1 @10: 0.09554455445544555\n"
     ]
    },
    {
     "name": "stderr",
     "output_type": "stream",
     "text": [
      "\r",
      " 12%|█▏        | 559/4536 [18:14:47<129:48:56, 117.51s/it]"
     ]
    },
    {
     "name": "stdout",
     "output_type": "stream",
     "text": [
      "iter: 558, configuration: {'vectorizer_norm': 'l1', 'svm_degree': 3, 'medoid_normalization': 'standard', 'svm_kernel': 'rbf', 'nb_medoids_ratio': 0.3, 'svm_gamma': 0.5, 'svm_c': 0.01}\n",
      "\n",
      "validation micro-F1 @1: 0.13366336633663367\n",
      "validation micro-F1 @2: 0.1311881188118812\n",
      "validation micro-F1 @3: 0.11716171617161716\n",
      "validation micro-F1 @4: 0.10643564356435643\n",
      "validation micro-F1 @5: 0.1\n",
      "validation micro-F1 @6: 0.10478547854785479\n",
      "validation micro-F1 @7: 0.10113154172560113\n",
      "validation micro-F1 @8: 0.09653465346534654\n",
      "validation micro-F1 @9: 0.09405940594059406\n",
      "validation micro-F1 @10: 0.09257425742574257\n"
     ]
    },
    {
     "name": "stderr",
     "output_type": "stream",
     "text": [
      "\r",
      " 12%|█▏        | 560/4536 [18:16:18<129:43:44, 117.46s/it]"
     ]
    },
    {
     "name": "stdout",
     "output_type": "stream",
     "text": [
      "iter: 559, configuration: {'vectorizer_norm': 'l2', 'svm_degree': 3, 'medoid_normalization': 'standard', 'svm_kernel': 'rbf', 'nb_medoids_ratio': 0.3, 'svm_gamma': 0.5, 'svm_c': 0.01}\n",
      "\n",
      "validation micro-F1 @1: 0.13861386138613863\n",
      "validation micro-F1 @2: 0.13366336633663367\n",
      "validation micro-F1 @3: 0.12706270627062707\n",
      "validation micro-F1 @4: 0.11633663366336634\n",
      "validation micro-F1 @5: 0.1099009900990099\n",
      "validation micro-F1 @6: 0.10066006600660066\n",
      "validation micro-F1 @7: 0.09971711456859972\n",
      "validation micro-F1 @8: 0.10148514851485149\n",
      "validation micro-F1 @9: 0.09625962596259625\n",
      "validation micro-F1 @10: 0.09356435643564356\n"
     ]
    },
    {
     "name": "stderr",
     "output_type": "stream",
     "text": [
      "\r",
      " 12%|█▏        | 561/4536 [18:19:28<129:50:26, 117.59s/it]"
     ]
    },
    {
     "name": "stdout",
     "output_type": "stream",
     "text": [
      "iter: 560, configuration: {'vectorizer_norm': None, 'svm_degree': 3, 'medoid_normalization': 'standard', 'svm_kernel': 'rbf', 'nb_medoids_ratio': 0.3, 'svm_gamma': 0.5, 'svm_c': 0.01}\n",
      "\n",
      "validation micro-F1 @1: 0.13861386138613863\n",
      "validation micro-F1 @2: 0.15099009900990099\n",
      "validation micro-F1 @3: 0.12871287128712872\n",
      "validation micro-F1 @4: 0.11386138613861387\n",
      "validation micro-F1 @5: 0.10495049504950495\n",
      "validation micro-F1 @6: 0.10231023102310231\n",
      "validation micro-F1 @7: 0.10466760961810467\n",
      "validation micro-F1 @8: 0.09962871287128713\n",
      "validation micro-F1 @9: 0.09900990099009901\n",
      "validation micro-F1 @10: 0.09405940594059406\n"
     ]
    },
    {
     "name": "stderr",
     "output_type": "stream",
     "text": [
      "\r",
      " 12%|█▏        | 562/4536 [18:21:14<129:47:00, 117.57s/it]"
     ]
    },
    {
     "name": "stdout",
     "output_type": "stream",
     "text": [
      "iter: 561, configuration: {'vectorizer_norm': 'l1', 'svm_degree': 3, 'medoid_normalization': 'standard', 'svm_kernel': 'poly', 'nb_medoids_ratio': 0.3, 'svm_gamma': 0.5, 'svm_c': 0.01}\n",
      "\n",
      "validation micro-F1 @1: 0.13366336633663367\n",
      "validation micro-F1 @2: 0.15346534653465346\n",
      "validation micro-F1 @3: 0.12706270627062707\n",
      "validation micro-F1 @4: 0.11262376237623763\n",
      "validation micro-F1 @5: 0.10792079207920792\n",
      "validation micro-F1 @6: 0.10148514851485149\n",
      "validation micro-F1 @7: 0.10396039603960396\n",
      "validation micro-F1 @8: 0.10272277227722772\n",
      "validation micro-F1 @9: 0.1001100110011001\n",
      "validation micro-F1 @10: 0.09752475247524753\n"
     ]
    },
    {
     "name": "stderr",
     "output_type": "stream",
     "text": [
      "\r",
      " 12%|█▏        | 563/4536 [18:23:37<129:48:04, 117.62s/it]"
     ]
    },
    {
     "name": "stdout",
     "output_type": "stream",
     "text": [
      "iter: 562, configuration: {'vectorizer_norm': 'l2', 'svm_degree': 3, 'medoid_normalization': 'standard', 'svm_kernel': 'poly', 'nb_medoids_ratio': 0.3, 'svm_gamma': 0.5, 'svm_c': 0.01}\n",
      "\n",
      "validation micro-F1 @1: 0.13366336633663367\n",
      "validation micro-F1 @2: 0.15594059405940594\n",
      "validation micro-F1 @3: 0.12376237623762376\n",
      "validation micro-F1 @4: 0.11386138613861387\n",
      "validation micro-F1 @5: 0.10693069306930693\n",
      "validation micro-F1 @6: 0.10891089108910891\n",
      "validation micro-F1 @7: 0.10325318246110325\n",
      "validation micro-F1 @8: 0.1021039603960396\n",
      "validation micro-F1 @9: 0.09900990099009901\n",
      "validation micro-F1 @10: 0.09801980198019802\n"
     ]
    },
    {
     "name": "stderr",
     "output_type": "stream",
     "text": [
      "\r",
      " 12%|█▏        | 564/4536 [18:26:03<129:49:26, 117.67s/it]"
     ]
    },
    {
     "name": "stdout",
     "output_type": "stream",
     "text": [
      "iter: 563, configuration: {'vectorizer_norm': None, 'svm_degree': 3, 'medoid_normalization': 'standard', 'svm_kernel': 'poly', 'nb_medoids_ratio': 0.3, 'svm_gamma': 0.5, 'svm_c': 0.01}\n",
      "\n",
      "validation micro-F1 @1: 0.14356435643564355\n",
      "validation micro-F1 @2: 0.14356435643564355\n",
      "validation micro-F1 @3: 0.12871287128712872\n",
      "validation micro-F1 @4: 0.11386138613861387\n",
      "validation micro-F1 @5: 0.10693069306930693\n",
      "validation micro-F1 @6: 0.10561056105610561\n",
      "validation micro-F1 @7: 0.10466760961810467\n",
      "validation micro-F1 @8: 0.1021039603960396\n",
      "validation micro-F1 @9: 0.10066006600660066\n",
      "validation micro-F1 @10: 0.09504950495049505\n"
     ]
    },
    {
     "name": "stderr",
     "output_type": "stream",
     "text": [
      "\r",
      " 12%|█▏        | 565/4536 [18:26:59<129:40:14, 117.56s/it]"
     ]
    },
    {
     "name": "stdout",
     "output_type": "stream",
     "text": [
      "iter: 564, configuration: {'vectorizer_norm': 'l1', 'svm_degree': 3, 'medoid_normalization': 'standard', 'svm_kernel': 'rbf', 'nb_medoids_ratio': 0.3, 'svm_gamma': 1.0, 'svm_c': 0.01}\n",
      "\n",
      "validation micro-F1 @1: 0.1188118811881188\n",
      "validation micro-F1 @2: 0.14356435643564355\n",
      "validation micro-F1 @3: 0.12211221122112212\n",
      "validation micro-F1 @4: 0.11386138613861387\n",
      "validation micro-F1 @5: 0.10495049504950495\n",
      "validation micro-F1 @6: 0.10478547854785479\n",
      "validation micro-F1 @7: 0.10466760961810467\n",
      "validation micro-F1 @8: 0.10272277227722772\n",
      "validation micro-F1 @9: 0.09845984598459846\n",
      "validation micro-F1 @10: 0.09702970297029703\n"
     ]
    },
    {
     "name": "stderr",
     "output_type": "stream",
     "text": [
      "\r",
      " 12%|█▏        | 566/4536 [18:28:45<129:37:00, 117.54s/it]"
     ]
    },
    {
     "name": "stdout",
     "output_type": "stream",
     "text": [
      "iter: 565, configuration: {'vectorizer_norm': 'l2', 'svm_degree': 3, 'medoid_normalization': 'standard', 'svm_kernel': 'rbf', 'nb_medoids_ratio': 0.3, 'svm_gamma': 1.0, 'svm_c': 0.01}\n",
      "\n",
      "validation micro-F1 @1: 0.15346534653465346\n",
      "validation micro-F1 @2: 0.14603960396039603\n",
      "validation micro-F1 @3: 0.1353135313531353\n",
      "validation micro-F1 @4: 0.12252475247524752\n",
      "validation micro-F1 @5: 0.11287128712871287\n",
      "validation micro-F1 @6: 0.11138613861386139\n",
      "validation micro-F1 @7: 0.10961810466760961\n",
      "validation micro-F1 @8: 0.10581683168316831\n",
      "validation micro-F1 @9: 0.10121012101210121\n",
      "validation micro-F1 @10: 0.09603960396039604\n"
     ]
    },
    {
     "name": "stderr",
     "output_type": "stream",
     "text": [
      "\r",
      " 12%|█▎        | 567/4536 [18:31:54<129:43:21, 117.66s/it]"
     ]
    },
    {
     "name": "stdout",
     "output_type": "stream",
     "text": [
      "iter: 566, configuration: {'vectorizer_norm': None, 'svm_degree': 3, 'medoid_normalization': 'standard', 'svm_kernel': 'rbf', 'nb_medoids_ratio': 0.3, 'svm_gamma': 1.0, 'svm_c': 0.01}\n",
      "\n",
      "validation micro-F1 @1: 0.13861386138613863\n",
      "validation micro-F1 @2: 0.15099009900990099\n",
      "validation micro-F1 @3: 0.12871287128712872\n",
      "validation micro-F1 @4: 0.11386138613861387\n",
      "validation micro-F1 @5: 0.10495049504950495\n",
      "validation micro-F1 @6: 0.09818481848184818\n",
      "validation micro-F1 @7: 0.09688826025459689\n",
      "validation micro-F1 @8: 0.09653465346534654\n",
      "validation micro-F1 @9: 0.09900990099009901\n",
      "validation micro-F1 @10: 0.09603960396039604\n"
     ]
    },
    {
     "name": "stderr",
     "output_type": "stream",
     "text": [
      "\r",
      " 13%|█▎        | 568/4536 [18:33:49<129:41:07, 117.66s/it]"
     ]
    },
    {
     "name": "stdout",
     "output_type": "stream",
     "text": [
      "iter: 567, configuration: {'vectorizer_norm': 'l1', 'svm_degree': 3, 'medoid_normalization': 'standard', 'svm_kernel': 'poly', 'nb_medoids_ratio': 0.3, 'svm_gamma': 1.0, 'svm_c': 0.01}\n",
      "\n",
      "validation micro-F1 @1: 0.14356435643564355\n",
      "validation micro-F1 @2: 0.14603960396039603\n",
      "validation micro-F1 @3: 0.12706270627062707\n",
      "validation micro-F1 @4: 0.1150990099009901\n",
      "validation micro-F1 @5: 0.10891089108910891\n",
      "validation micro-F1 @6: 0.10726072607260725\n",
      "validation micro-F1 @7: 0.10678925035360678\n",
      "validation micro-F1 @8: 0.10581683168316831\n",
      "validation micro-F1 @9: 0.10121012101210121\n",
      "validation micro-F1 @10: 0.09752475247524753\n"
     ]
    },
    {
     "name": "stderr",
     "output_type": "stream",
     "text": [
      "\r",
      " 13%|█▎        | 569/4536 [18:36:18<129:42:48, 117.71s/it]"
     ]
    },
    {
     "name": "stdout",
     "output_type": "stream",
     "text": [
      "iter: 568, configuration: {'vectorizer_norm': 'l2', 'svm_degree': 3, 'medoid_normalization': 'standard', 'svm_kernel': 'poly', 'nb_medoids_ratio': 0.3, 'svm_gamma': 1.0, 'svm_c': 0.01}\n",
      "\n",
      "validation micro-F1 @1: 0.1485148514851485\n",
      "validation micro-F1 @2: 0.15099009900990099\n",
      "validation micro-F1 @3: 0.12871287128712872\n",
      "validation micro-F1 @4: 0.11633663366336634\n",
      "validation micro-F1 @5: 0.10792079207920792\n",
      "validation micro-F1 @6: 0.10231023102310231\n",
      "validation micro-F1 @7: 0.10042432814710042\n",
      "validation micro-F1 @8: 0.10024752475247525\n",
      "validation micro-F1 @9: 0.09735973597359736\n",
      "validation micro-F1 @10: 0.09603960396039604\n"
     ]
    },
    {
     "name": "stderr",
     "output_type": "stream",
     "text": [
      "\r",
      " 13%|█▎        | 570/4536 [18:39:02<129:46:07, 117.79s/it]"
     ]
    },
    {
     "name": "stdout",
     "output_type": "stream",
     "text": [
      "iter: 569, configuration: {'vectorizer_norm': None, 'svm_degree': 3, 'medoid_normalization': 'standard', 'svm_kernel': 'poly', 'nb_medoids_ratio': 0.3, 'svm_gamma': 1.0, 'svm_c': 0.01}\n",
      "\n",
      "validation micro-F1 @1: 0.12376237623762376\n",
      "validation micro-F1 @2: 0.14108910891089108\n",
      "validation micro-F1 @3: 0.13366336633663367\n",
      "validation micro-F1 @4: 0.11262376237623763\n",
      "validation micro-F1 @5: 0.10792079207920792\n",
      "validation micro-F1 @6: 0.10396039603960396\n",
      "validation micro-F1 @7: 0.10325318246110325\n",
      "validation micro-F1 @8: 0.09900990099009901\n",
      "validation micro-F1 @9: 0.09405940594059406\n",
      "validation micro-F1 @10: 0.09207920792079208\n"
     ]
    },
    {
     "name": "stderr",
     "output_type": "stream",
     "text": [
      "\r",
      " 13%|█▎        | 571/4536 [18:39:45<129:35:36, 117.66s/it]"
     ]
    },
    {
     "name": "stdout",
     "output_type": "stream",
     "text": [
      "iter: 570, configuration: {'vectorizer_norm': 'l1', 'svm_degree': 3, 'medoid_normalization': 'standard', 'svm_kernel': 'rbf', 'nb_medoids_ratio': 0.3, 'svm_gamma': 'auto', 'svm_c': 0.01}\n",
      "\n",
      "validation micro-F1 @1: 0.0049504950495049506\n",
      "validation micro-F1 @2: 0.009900990099009901\n",
      "validation micro-F1 @3: 0.01485148514851485\n",
      "validation micro-F1 @4: 0.011138613861386138\n",
      "validation micro-F1 @5: 0.01287128712871287\n",
      "validation micro-F1 @6: 0.013201320132013201\n",
      "validation micro-F1 @7: 0.012022630834512023\n",
      "validation micro-F1 @8: 0.012995049504950494\n",
      "validation micro-F1 @9: 0.013751375137513752\n",
      "validation micro-F1 @10: 0.013861386138613862\n"
     ]
    },
    {
     "name": "stderr",
     "output_type": "stream",
     "text": [
      "\r",
      " 13%|█▎        | 572/4536 [18:40:28<129:25:01, 117.53s/it]"
     ]
    },
    {
     "name": "stdout",
     "output_type": "stream",
     "text": [
      "iter: 571, configuration: {'vectorizer_norm': 'l2', 'svm_degree': 3, 'medoid_normalization': 'standard', 'svm_kernel': 'rbf', 'nb_medoids_ratio': 0.3, 'svm_gamma': 'auto', 'svm_c': 0.01}\n",
      "\n",
      "validation micro-F1 @1: 0.0049504950495049506\n",
      "validation micro-F1 @2: 0.019801980198019802\n",
      "validation micro-F1 @3: 0.018151815181518153\n",
      "validation micro-F1 @4: 0.013613861386138614\n",
      "validation micro-F1 @5: 0.011881188118811881\n",
      "validation micro-F1 @6: 0.01155115511551155\n",
      "validation micro-F1 @7: 0.015558698727015558\n",
      "validation micro-F1 @8: 0.01485148514851485\n",
      "validation micro-F1 @9: 0.01485148514851485\n",
      "validation micro-F1 @10: 0.01485148514851485\n"
     ]
    },
    {
     "name": "stderr",
     "output_type": "stream",
     "text": [
      "\r",
      " 13%|█▎        | 573/4536 [18:42:30<129:23:32, 117.54s/it]"
     ]
    },
    {
     "name": "stdout",
     "output_type": "stream",
     "text": [
      "iter: 572, configuration: {'vectorizer_norm': None, 'svm_degree': 3, 'medoid_normalization': 'standard', 'svm_kernel': 'rbf', 'nb_medoids_ratio': 0.3, 'svm_gamma': 'auto', 'svm_c': 0.01}\n",
      "\n",
      "validation micro-F1 @1: 0.08415841584158416\n",
      "validation micro-F1 @2: 0.11138613861386139\n",
      "validation micro-F1 @3: 0.11386138613861387\n",
      "validation micro-F1 @4: 0.10643564356435643\n",
      "validation micro-F1 @5: 0.10594059405940594\n",
      "validation micro-F1 @6: 0.10148514851485149\n",
      "validation micro-F1 @7: 0.09688826025459689\n",
      "validation micro-F1 @8: 0.09591584158415842\n",
      "validation micro-F1 @9: 0.09460946094609461\n",
      "validation micro-F1 @10: 0.09158415841584158\n"
     ]
    },
    {
     "name": "stderr",
     "output_type": "stream",
     "text": [
      "\r",
      " 13%|█▎        | 574/4536 [18:43:11<129:12:45, 117.41s/it]"
     ]
    },
    {
     "name": "stdout",
     "output_type": "stream",
     "text": [
      "iter: 573, configuration: {'vectorizer_norm': 'l1', 'svm_degree': 3, 'medoid_normalization': 'standard', 'svm_kernel': 'poly', 'nb_medoids_ratio': 0.3, 'svm_gamma': 'auto', 'svm_c': 0.01}\n",
      "\n",
      "validation micro-F1 @1: 0.019801980198019802\n",
      "validation micro-F1 @2: 0.012376237623762377\n",
      "validation micro-F1 @3: 0.01485148514851485\n",
      "validation micro-F1 @4: 0.013613861386138614\n",
      "validation micro-F1 @5: 0.01287128712871287\n",
      "validation micro-F1 @6: 0.014026402640264026\n",
      "validation micro-F1 @7: 0.01485148514851485\n",
      "validation micro-F1 @8: 0.022896039603960396\n",
      "validation micro-F1 @9: 0.02035203520352035\n",
      "validation micro-F1 @10: 0.019801980198019802\n"
     ]
    },
    {
     "name": "stderr",
     "output_type": "stream",
     "text": [
      "\r",
      " 13%|█▎        | 575/4536 [18:43:52<129:02:05, 117.27s/it]"
     ]
    },
    {
     "name": "stdout",
     "output_type": "stream",
     "text": [
      "iter: 574, configuration: {'vectorizer_norm': 'l2', 'svm_degree': 3, 'medoid_normalization': 'standard', 'svm_kernel': 'poly', 'nb_medoids_ratio': 0.3, 'svm_gamma': 'auto', 'svm_c': 0.01}\n",
      "\n",
      "validation micro-F1 @1: 0.0594059405940594\n",
      "validation micro-F1 @2: 0.08168316831683169\n",
      "validation micro-F1 @3: 0.07590759075907591\n",
      "validation micro-F1 @4: 0.07797029702970297\n",
      "validation micro-F1 @5: 0.07425742574257425\n",
      "validation micro-F1 @6: 0.07178217821782178\n",
      "validation micro-F1 @7: 0.07567185289957568\n",
      "validation micro-F1 @8: 0.07116336633663366\n",
      "validation micro-F1 @9: 0.07205720572057206\n",
      "validation micro-F1 @10: 0.07425742574257425\n"
     ]
    },
    {
     "name": "stderr",
     "output_type": "stream",
     "text": [
      "\r",
      " 13%|█▎        | 576/4536 [18:46:36<129:05:22, 117.35s/it]"
     ]
    },
    {
     "name": "stdout",
     "output_type": "stream",
     "text": [
      "iter: 575, configuration: {'vectorizer_norm': None, 'svm_degree': 3, 'medoid_normalization': 'standard', 'svm_kernel': 'poly', 'nb_medoids_ratio': 0.3, 'svm_gamma': 'auto', 'svm_c': 0.01}\n",
      "\n",
      "validation micro-F1 @1: 0.1485148514851485\n",
      "validation micro-F1 @2: 0.14603960396039603\n",
      "validation micro-F1 @3: 0.1254125412541254\n",
      "validation micro-F1 @4: 0.11262376237623763\n",
      "validation micro-F1 @5: 0.10495049504950495\n",
      "validation micro-F1 @6: 0.10313531353135313\n",
      "validation micro-F1 @7: 0.10396039603960396\n",
      "validation micro-F1 @8: 0.10334158415841584\n",
      "validation micro-F1 @9: 0.10121012101210121\n",
      "validation micro-F1 @10: 0.09702970297029703\n"
     ]
    },
    {
     "name": "stderr",
     "output_type": "stream",
     "text": [
      "\r",
      " 13%|█▎        | 577/4536 [18:47:20<128:55:03, 117.23s/it]"
     ]
    },
    {
     "name": "stdout",
     "output_type": "stream",
     "text": [
      "iter: 576, configuration: {'vectorizer_norm': 'l1', 'svm_degree': 4, 'medoid_normalization': 'standard', 'svm_kernel': 'rbf', 'nb_medoids_ratio': 0.3, 'svm_gamma': 0.1, 'svm_c': 0.01}\n",
      "\n",
      "validation micro-F1 @1: 0.10396039603960396\n",
      "validation micro-F1 @2: 0.10891089108910891\n",
      "validation micro-F1 @3: 0.11386138613861387\n",
      "validation micro-F1 @4: 0.10396039603960396\n",
      "validation micro-F1 @5: 0.09801980198019802\n",
      "validation micro-F1 @6: 0.0891089108910891\n",
      "validation micro-F1 @7: 0.08415841584158416\n",
      "validation micro-F1 @8: 0.08415841584158416\n",
      "validation micro-F1 @9: 0.08415841584158416\n",
      "validation micro-F1 @10: 0.08267326732673268\n"
     ]
    },
    {
     "name": "stderr",
     "output_type": "stream",
     "text": [
      "\r",
      " 13%|█▎        | 578/4536 [18:48:16<128:46:05, 117.12s/it]"
     ]
    },
    {
     "name": "stdout",
     "output_type": "stream",
     "text": [
      "iter: 577, configuration: {'vectorizer_norm': 'l2', 'svm_degree': 4, 'medoid_normalization': 'standard', 'svm_kernel': 'rbf', 'nb_medoids_ratio': 0.3, 'svm_gamma': 0.1, 'svm_c': 0.01}\n",
      "\n",
      "validation micro-F1 @1: 0.14356435643564355\n",
      "validation micro-F1 @2: 0.12623762376237624\n",
      "validation micro-F1 @3: 0.1254125412541254\n",
      "validation micro-F1 @4: 0.1150990099009901\n",
      "validation micro-F1 @5: 0.10693069306930693\n",
      "validation micro-F1 @6: 0.10643564356435643\n",
      "validation micro-F1 @7: 0.09759547383309759\n",
      "validation micro-F1 @8: 0.10024752475247525\n",
      "validation micro-F1 @9: 0.0968096809680968\n",
      "validation micro-F1 @10: 0.09702970297029703\n"
     ]
    },
    {
     "name": "stderr",
     "output_type": "stream",
     "text": [
      "\r",
      " 13%|█▎        | 579/4536 [18:51:33<128:53:14, 117.26s/it]"
     ]
    },
    {
     "name": "stdout",
     "output_type": "stream",
     "text": [
      "iter: 578, configuration: {'vectorizer_norm': None, 'svm_degree': 4, 'medoid_normalization': 'standard', 'svm_kernel': 'rbf', 'nb_medoids_ratio': 0.3, 'svm_gamma': 0.1, 'svm_c': 0.01}\n",
      "\n",
      "validation micro-F1 @1: 0.13366336633663367\n",
      "validation micro-F1 @2: 0.14603960396039603\n",
      "validation micro-F1 @3: 0.12706270627062707\n",
      "validation micro-F1 @4: 0.11262376237623763\n",
      "validation micro-F1 @5: 0.10396039603960396\n",
      "validation micro-F1 @6: 0.09735973597359736\n",
      "validation micro-F1 @7: 0.09618104667609619\n",
      "validation micro-F1 @8: 0.09900990099009901\n",
      "validation micro-F1 @9: 0.09900990099009901\n",
      "validation micro-F1 @10: 0.09603960396039604\n"
     ]
    },
    {
     "name": "stderr",
     "output_type": "stream",
     "text": [
      "\r",
      " 13%|█▎        | 580/4536 [18:53:04<128:48:20, 117.21s/it]"
     ]
    },
    {
     "name": "stdout",
     "output_type": "stream",
     "text": [
      "iter: 579, configuration: {'vectorizer_norm': 'l1', 'svm_degree': 4, 'medoid_normalization': 'standard', 'svm_kernel': 'poly', 'nb_medoids_ratio': 0.3, 'svm_gamma': 0.1, 'svm_c': 0.01}\n",
      "\n",
      "validation micro-F1 @1: 0.13366336633663367\n",
      "validation micro-F1 @2: 0.1485148514851485\n",
      "validation micro-F1 @3: 0.12871287128712872\n",
      "validation micro-F1 @4: 0.11386138613861387\n",
      "validation micro-F1 @5: 0.10495049504950495\n",
      "validation micro-F1 @6: 0.10066006600660066\n",
      "validation micro-F1 @7: 0.10537482319660538\n",
      "validation micro-F1 @8: 0.10086633663366337\n",
      "validation micro-F1 @9: 0.09900990099009901\n",
      "validation micro-F1 @10: 0.09554455445544555\n"
     ]
    },
    {
     "name": "stderr",
     "output_type": "stream",
     "text": [
      "\r",
      " 13%|█▎        | 581/4536 [18:55:30<128:49:38, 117.26s/it]"
     ]
    },
    {
     "name": "stdout",
     "output_type": "stream",
     "text": [
      "iter: 580, configuration: {'vectorizer_norm': 'l2', 'svm_degree': 4, 'medoid_normalization': 'standard', 'svm_kernel': 'poly', 'nb_medoids_ratio': 0.3, 'svm_gamma': 0.1, 'svm_c': 0.01}\n",
      "\n",
      "validation micro-F1 @1: 0.15841584158415842\n",
      "validation micro-F1 @2: 0.1485148514851485\n",
      "validation micro-F1 @3: 0.1254125412541254\n",
      "validation micro-F1 @4: 0.1150990099009901\n",
      "validation micro-F1 @5: 0.11089108910891089\n",
      "validation micro-F1 @6: 0.10478547854785479\n",
      "validation micro-F1 @7: 0.09900990099009901\n",
      "validation micro-F1 @8: 0.09900990099009901\n",
      "validation micro-F1 @9: 0.09735973597359736\n",
      "validation micro-F1 @10: 0.09653465346534654\n"
     ]
    },
    {
     "name": "stderr",
     "output_type": "stream",
     "text": [
      "\r",
      " 13%|█▎        | 582/4536 [18:58:07<128:52:14, 117.33s/it]"
     ]
    },
    {
     "name": "stdout",
     "output_type": "stream",
     "text": [
      "iter: 581, configuration: {'vectorizer_norm': None, 'svm_degree': 4, 'medoid_normalization': 'standard', 'svm_kernel': 'poly', 'nb_medoids_ratio': 0.3, 'svm_gamma': 0.1, 'svm_c': 0.01}\n",
      "\n",
      "validation micro-F1 @1: 0.13366336633663367\n",
      "validation micro-F1 @2: 0.1485148514851485\n",
      "validation micro-F1 @3: 0.12706270627062707\n",
      "validation micro-F1 @4: 0.11262376237623763\n",
      "validation micro-F1 @5: 0.10693069306930693\n",
      "validation micro-F1 @6: 0.10396039603960396\n",
      "validation micro-F1 @7: 0.10325318246110325\n",
      "validation micro-F1 @8: 0.10024752475247525\n",
      "validation micro-F1 @9: 0.09570957095709572\n",
      "validation micro-F1 @10: 0.09158415841584158\n"
     ]
    },
    {
     "name": "stderr",
     "output_type": "stream",
     "text": [
      "\r",
      " 13%|█▎        | 583/4536 [18:58:53<128:42:09, 117.21s/it]"
     ]
    },
    {
     "name": "stdout",
     "output_type": "stream",
     "text": [
      "iter: 582, configuration: {'vectorizer_norm': 'l1', 'svm_degree': 4, 'medoid_normalization': 'standard', 'svm_kernel': 'rbf', 'nb_medoids_ratio': 0.3, 'svm_gamma': 0.2, 'svm_c': 0.01}\n",
      "\n",
      "validation micro-F1 @1: 0.08415841584158416\n",
      "validation micro-F1 @2: 0.08663366336633663\n",
      "validation micro-F1 @3: 0.08745874587458746\n",
      "validation micro-F1 @4: 0.10148514851485149\n",
      "validation micro-F1 @5: 0.1\n",
      "validation micro-F1 @6: 0.10148514851485149\n",
      "validation micro-F1 @7: 0.09405940594059406\n",
      "validation micro-F1 @8: 0.09405940594059406\n",
      "validation micro-F1 @9: 0.0924092409240924\n",
      "validation micro-F1 @10: 0.08811881188118811\n"
     ]
    },
    {
     "name": "stderr",
     "output_type": "stream",
     "text": [
      "\r",
      " 13%|█▎        | 584/4536 [19:00:02<128:34:51, 117.13s/it]"
     ]
    },
    {
     "name": "stdout",
     "output_type": "stream",
     "text": [
      "iter: 583, configuration: {'vectorizer_norm': 'l2', 'svm_degree': 4, 'medoid_normalization': 'standard', 'svm_kernel': 'rbf', 'nb_medoids_ratio': 0.3, 'svm_gamma': 0.2, 'svm_c': 0.01}\n",
      "\n",
      "validation micro-F1 @1: 0.12871287128712872\n",
      "validation micro-F1 @2: 0.1485148514851485\n",
      "validation micro-F1 @3: 0.1353135313531353\n",
      "validation micro-F1 @4: 0.11757425742574257\n",
      "validation micro-F1 @5: 0.1099009900990099\n",
      "validation micro-F1 @6: 0.10891089108910891\n",
      "validation micro-F1 @7: 0.10537482319660538\n",
      "validation micro-F1 @8: 0.10086633663366337\n",
      "validation micro-F1 @9: 0.0968096809680968\n",
      "validation micro-F1 @10: 0.09603960396039604\n"
     ]
    },
    {
     "name": "stderr",
     "output_type": "stream",
     "text": [
      "\r",
      " 13%|█▎        | 585/4536 [19:03:17<128:41:34, 117.26s/it]"
     ]
    },
    {
     "name": "stdout",
     "output_type": "stream",
     "text": [
      "iter: 584, configuration: {'vectorizer_norm': None, 'svm_degree': 4, 'medoid_normalization': 'standard', 'svm_kernel': 'rbf', 'nb_medoids_ratio': 0.3, 'svm_gamma': 0.2, 'svm_c': 0.01}\n",
      "\n",
      "validation micro-F1 @1: 0.13366336633663367\n",
      "validation micro-F1 @2: 0.1485148514851485\n",
      "validation micro-F1 @3: 0.12706270627062707\n",
      "validation micro-F1 @4: 0.11386138613861387\n",
      "validation micro-F1 @5: 0.10495049504950495\n",
      "validation micro-F1 @6: 0.09818481848184818\n",
      "validation micro-F1 @7: 0.09759547383309759\n",
      "validation micro-F1 @8: 0.10024752475247525\n",
      "validation micro-F1 @9: 0.09900990099009901\n",
      "validation micro-F1 @10: 0.09356435643564356\n"
     ]
    },
    {
     "name": "stderr",
     "output_type": "stream",
     "text": [
      "\r",
      " 13%|█▎        | 586/4536 [19:05:05<128:38:34, 117.24s/it]"
     ]
    },
    {
     "name": "stdout",
     "output_type": "stream",
     "text": [
      "iter: 585, configuration: {'vectorizer_norm': 'l1', 'svm_degree': 4, 'medoid_normalization': 'standard', 'svm_kernel': 'poly', 'nb_medoids_ratio': 0.3, 'svm_gamma': 0.2, 'svm_c': 0.01}\n",
      "\n",
      "validation micro-F1 @1: 0.13366336633663367\n",
      "validation micro-F1 @2: 0.1485148514851485\n",
      "validation micro-F1 @3: 0.12871287128712872\n",
      "validation micro-F1 @4: 0.11386138613861387\n",
      "validation micro-F1 @5: 0.10594059405940594\n",
      "validation micro-F1 @6: 0.10066006600660066\n",
      "validation micro-F1 @7: 0.10183875530410184\n",
      "validation micro-F1 @8: 0.09900990099009901\n",
      "validation micro-F1 @9: 0.09845984598459846\n",
      "validation micro-F1 @10: 0.09653465346534654\n"
     ]
    },
    {
     "name": "stderr",
     "output_type": "stream",
     "text": [
      "\r",
      " 13%|█▎        | 587/4536 [19:07:35<128:40:20, 117.30s/it]"
     ]
    },
    {
     "name": "stdout",
     "output_type": "stream",
     "text": [
      "iter: 586, configuration: {'vectorizer_norm': 'l2', 'svm_degree': 4, 'medoid_normalization': 'standard', 'svm_kernel': 'poly', 'nb_medoids_ratio': 0.3, 'svm_gamma': 0.2, 'svm_c': 0.01}\n",
      "\n",
      "validation micro-F1 @1: 0.12871287128712872\n",
      "validation micro-F1 @2: 0.14603960396039603\n",
      "validation micro-F1 @3: 0.12706270627062707\n",
      "validation micro-F1 @4: 0.11386138613861387\n",
      "validation micro-F1 @5: 0.10792079207920792\n",
      "validation micro-F1 @6: 0.10726072607260725\n",
      "validation micro-F1 @7: 0.09971711456859972\n",
      "validation micro-F1 @8: 0.0952970297029703\n",
      "validation micro-F1 @9: 0.09570957095709572\n",
      "validation micro-F1 @10: 0.09504950495049505\n"
     ]
    },
    {
     "name": "stderr",
     "output_type": "stream",
     "text": [
      "\r",
      " 13%|█▎        | 588/4536 [19:10:12<128:42:49, 117.37s/it]"
     ]
    },
    {
     "name": "stdout",
     "output_type": "stream",
     "text": [
      "iter: 587, configuration: {'vectorizer_norm': None, 'svm_degree': 4, 'medoid_normalization': 'standard', 'svm_kernel': 'poly', 'nb_medoids_ratio': 0.3, 'svm_gamma': 0.2, 'svm_c': 0.01}\n",
      "\n",
      "validation micro-F1 @1: 0.13366336633663367\n",
      "validation micro-F1 @2: 0.14603960396039603\n",
      "validation micro-F1 @3: 0.12706270627062707\n",
      "validation micro-F1 @4: 0.11262376237623763\n",
      "validation micro-F1 @5: 0.10495049504950495\n",
      "validation micro-F1 @6: 0.10313531353135313\n",
      "validation micro-F1 @7: 0.10396039603960396\n",
      "validation micro-F1 @8: 0.1021039603960396\n",
      "validation micro-F1 @9: 0.09845984598459846\n",
      "validation micro-F1 @10: 0.09356435643564356\n"
     ]
    },
    {
     "name": "stderr",
     "output_type": "stream",
     "text": [
      "\r",
      " 13%|█▎        | 589/4536 [19:11:00<128:33:04, 117.25s/it]"
     ]
    },
    {
     "name": "stdout",
     "output_type": "stream",
     "text": [
      "iter: 588, configuration: {'vectorizer_norm': 'l1', 'svm_degree': 4, 'medoid_normalization': 'standard', 'svm_kernel': 'rbf', 'nb_medoids_ratio': 0.3, 'svm_gamma': 0.3, 'svm_c': 0.01}\n",
      "\n",
      "validation micro-F1 @1: 0.12376237623762376\n",
      "validation micro-F1 @2: 0.14108910891089108\n",
      "validation micro-F1 @3: 0.12211221122112212\n",
      "validation micro-F1 @4: 0.11014851485148515\n",
      "validation micro-F1 @5: 0.11089108910891089\n",
      "validation micro-F1 @6: 0.10313531353135313\n",
      "validation micro-F1 @7: 0.09971711456859972\n",
      "validation micro-F1 @8: 0.09777227722772278\n",
      "validation micro-F1 @9: 0.09350935093509351\n",
      "validation micro-F1 @10: 0.09108910891089109\n"
     ]
    },
    {
     "name": "stderr",
     "output_type": "stream",
     "text": [
      "\r",
      " 13%|█▎        | 590/4536 [19:12:17<128:26:43, 117.18s/it]"
     ]
    },
    {
     "name": "stdout",
     "output_type": "stream",
     "text": [
      "iter: 589, configuration: {'vectorizer_norm': 'l2', 'svm_degree': 4, 'medoid_normalization': 'standard', 'svm_kernel': 'rbf', 'nb_medoids_ratio': 0.3, 'svm_gamma': 0.3, 'svm_c': 0.01}\n",
      "\n",
      "validation micro-F1 @1: 0.15346534653465346\n",
      "validation micro-F1 @2: 0.11633663366336634\n",
      "validation micro-F1 @3: 0.11551155115511551\n",
      "validation micro-F1 @4: 0.11138613861386139\n",
      "validation micro-F1 @5: 0.11089108910891089\n",
      "validation micro-F1 @6: 0.10561056105610561\n",
      "validation micro-F1 @7: 0.09971711456859972\n",
      "validation micro-F1 @8: 0.0983910891089109\n",
      "validation micro-F1 @9: 0.09515951595159516\n",
      "validation micro-F1 @10: 0.09455445544554456\n"
     ]
    },
    {
     "name": "stderr",
     "output_type": "stream",
     "text": [
      "\r",
      " 13%|█▎        | 591/4536 [19:15:31<128:33:15, 117.31s/it]"
     ]
    },
    {
     "name": "stdout",
     "output_type": "stream",
     "text": [
      "iter: 590, configuration: {'vectorizer_norm': None, 'svm_degree': 4, 'medoid_normalization': 'standard', 'svm_kernel': 'rbf', 'nb_medoids_ratio': 0.3, 'svm_gamma': 0.3, 'svm_c': 0.01}\n",
      "\n",
      "validation micro-F1 @1: 0.13861386138613863\n",
      "validation micro-F1 @2: 0.15099009900990099\n",
      "validation micro-F1 @3: 0.12871287128712872\n",
      "validation micro-F1 @4: 0.11386138613861387\n",
      "validation micro-F1 @5: 0.10495049504950495\n",
      "validation micro-F1 @6: 0.10726072607260725\n",
      "validation micro-F1 @7: 0.10113154172560113\n",
      "validation micro-F1 @8: 0.09962871287128713\n",
      "validation micro-F1 @9: 0.09900990099009901\n",
      "validation micro-F1 @10: 0.09603960396039604\n"
     ]
    },
    {
     "name": "stderr",
     "output_type": "stream",
     "text": [
      "\r",
      " 13%|█▎        | 592/4536 [19:17:25<128:30:55, 117.31s/it]"
     ]
    },
    {
     "name": "stdout",
     "output_type": "stream",
     "text": [
      "iter: 591, configuration: {'vectorizer_norm': 'l1', 'svm_degree': 4, 'medoid_normalization': 'standard', 'svm_kernel': 'poly', 'nb_medoids_ratio': 0.3, 'svm_gamma': 0.3, 'svm_c': 0.01}\n",
      "\n",
      "validation micro-F1 @1: 0.13366336633663367\n",
      "validation micro-F1 @2: 0.15099009900990099\n",
      "validation micro-F1 @3: 0.12871287128712872\n",
      "validation micro-F1 @4: 0.11386138613861387\n",
      "validation micro-F1 @5: 0.10495049504950495\n",
      "validation micro-F1 @6: 0.09900990099009901\n",
      "validation micro-F1 @7: 0.0983026874115983\n",
      "validation micro-F1 @8: 0.10334158415841584\n",
      "validation micro-F1 @9: 0.09845984598459846\n",
      "validation micro-F1 @10: 0.09702970297029703\n"
     ]
    },
    {
     "name": "stderr",
     "output_type": "stream",
     "text": [
      "\r",
      " 13%|█▎        | 593/4536 [19:19:55<128:32:39, 117.36s/it]"
     ]
    },
    {
     "name": "stdout",
     "output_type": "stream",
     "text": [
      "iter: 592, configuration: {'vectorizer_norm': 'l2', 'svm_degree': 4, 'medoid_normalization': 'standard', 'svm_kernel': 'poly', 'nb_medoids_ratio': 0.3, 'svm_gamma': 0.3, 'svm_c': 0.01}\n",
      "\n",
      "validation micro-F1 @1: 0.14356435643564355\n",
      "validation micro-F1 @2: 0.1485148514851485\n",
      "validation micro-F1 @3: 0.12211221122112212\n",
      "validation micro-F1 @4: 0.11262376237623763\n",
      "validation micro-F1 @5: 0.10693069306930693\n",
      "validation micro-F1 @6: 0.10726072607260725\n",
      "validation micro-F1 @7: 0.10396039603960396\n",
      "validation micro-F1 @8: 0.1021039603960396\n",
      "validation micro-F1 @9: 0.09900990099009901\n",
      "validation micro-F1 @10: 0.09801980198019802\n"
     ]
    },
    {
     "name": "stderr",
     "output_type": "stream",
     "text": [
      "\r",
      " 13%|█▎        | 594/4536 [19:22:35<128:35:21, 117.43s/it]"
     ]
    },
    {
     "name": "stdout",
     "output_type": "stream",
     "text": [
      "iter: 593, configuration: {'vectorizer_norm': None, 'svm_degree': 4, 'medoid_normalization': 'standard', 'svm_kernel': 'poly', 'nb_medoids_ratio': 0.3, 'svm_gamma': 0.3, 'svm_c': 0.01}\n",
      "\n",
      "validation micro-F1 @1: 0.15841584158415842\n",
      "validation micro-F1 @2: 0.14603960396039603\n",
      "validation micro-F1 @3: 0.1254125412541254\n",
      "validation micro-F1 @4: 0.11138613861386139\n",
      "validation micro-F1 @5: 0.10495049504950495\n",
      "validation micro-F1 @6: 0.10643564356435643\n",
      "validation micro-F1 @7: 0.10325318246110325\n",
      "validation micro-F1 @8: 0.10334158415841584\n",
      "validation micro-F1 @9: 0.09845984598459846\n",
      "validation micro-F1 @10: 0.09603960396039604\n"
     ]
    },
    {
     "name": "stderr",
     "output_type": "stream",
     "text": [
      "\r",
      " 13%|█▎        | 595/4536 [19:23:25<128:25:58, 117.32s/it]"
     ]
    },
    {
     "name": "stdout",
     "output_type": "stream",
     "text": [
      "iter: 594, configuration: {'vectorizer_norm': 'l1', 'svm_degree': 4, 'medoid_normalization': 'standard', 'svm_kernel': 'rbf', 'nb_medoids_ratio': 0.3, 'svm_gamma': 0.5, 'svm_c': 0.01}\n",
      "\n",
      "validation micro-F1 @1: 0.13861386138613863\n",
      "validation micro-F1 @2: 0.13613861386138615\n",
      "validation micro-F1 @3: 0.11716171617161716\n",
      "validation micro-F1 @4: 0.11262376237623763\n",
      "validation micro-F1 @5: 0.1099009900990099\n",
      "validation micro-F1 @6: 0.10231023102310231\n",
      "validation micro-F1 @7: 0.10042432814710042\n",
      "validation micro-F1 @8: 0.09715346534653466\n",
      "validation micro-F1 @9: 0.09790979097909791\n",
      "validation micro-F1 @10: 0.09554455445544555\n"
     ]
    },
    {
     "name": "stderr",
     "output_type": "stream",
     "text": [
      "\r",
      " 13%|█▎        | 596/4536 [19:24:53<128:20:50, 117.27s/it]"
     ]
    },
    {
     "name": "stdout",
     "output_type": "stream",
     "text": [
      "iter: 595, configuration: {'vectorizer_norm': 'l2', 'svm_degree': 4, 'medoid_normalization': 'standard', 'svm_kernel': 'rbf', 'nb_medoids_ratio': 0.3, 'svm_gamma': 0.5, 'svm_c': 0.01}\n",
      "\n",
      "validation micro-F1 @1: 0.15346534653465346\n",
      "validation micro-F1 @2: 0.1311881188118812\n",
      "validation micro-F1 @3: 0.12871287128712872\n",
      "validation micro-F1 @4: 0.11633663366336634\n",
      "validation micro-F1 @5: 0.10792079207920792\n",
      "validation micro-F1 @6: 0.10148514851485149\n",
      "validation micro-F1 @7: 0.09971711456859972\n",
      "validation micro-F1 @8: 0.10086633663366337\n",
      "validation micro-F1 @9: 0.1001100110011001\n",
      "validation micro-F1 @10: 0.09900990099009901\n"
     ]
    },
    {
     "name": "stderr",
     "output_type": "stream",
     "text": [
      "\r",
      " 13%|█▎        | 597/4536 [19:28:04<128:26:56, 117.39s/it]"
     ]
    },
    {
     "name": "stdout",
     "output_type": "stream",
     "text": [
      "iter: 596, configuration: {'vectorizer_norm': None, 'svm_degree': 4, 'medoid_normalization': 'standard', 'svm_kernel': 'rbf', 'nb_medoids_ratio': 0.3, 'svm_gamma': 0.5, 'svm_c': 0.01}\n",
      "\n",
      "validation micro-F1 @1: 0.13861386138613863\n",
      "validation micro-F1 @2: 0.15099009900990099\n",
      "validation micro-F1 @3: 0.12871287128712872\n",
      "validation micro-F1 @4: 0.11386138613861387\n",
      "validation micro-F1 @5: 0.10495049504950495\n",
      "validation micro-F1 @6: 0.10726072607260725\n",
      "validation micro-F1 @7: 0.10466760961810467\n",
      "validation micro-F1 @8: 0.09962871287128713\n",
      "validation micro-F1 @9: 0.09900990099009901\n",
      "validation micro-F1 @10: 0.09356435643564356\n"
     ]
    },
    {
     "name": "stderr",
     "output_type": "stream",
     "text": [
      "\r",
      " 13%|█▎        | 598/4536 [19:30:11<128:26:02, 117.41s/it]"
     ]
    },
    {
     "name": "stdout",
     "output_type": "stream",
     "text": [
      "iter: 597, configuration: {'vectorizer_norm': 'l1', 'svm_degree': 4, 'medoid_normalization': 'standard', 'svm_kernel': 'poly', 'nb_medoids_ratio': 0.3, 'svm_gamma': 0.5, 'svm_c': 0.01}\n",
      "\n",
      "validation micro-F1 @1: 0.14356435643564355\n",
      "validation micro-F1 @2: 0.14356435643564355\n",
      "validation micro-F1 @3: 0.12376237623762376\n",
      "validation micro-F1 @4: 0.11262376237623763\n",
      "validation micro-F1 @5: 0.1099009900990099\n",
      "validation micro-F1 @6: 0.10726072607260725\n",
      "validation micro-F1 @7: 0.1074964639321075\n",
      "validation micro-F1 @8: 0.10334158415841584\n",
      "validation micro-F1 @9: 0.1001100110011001\n",
      "validation micro-F1 @10: 0.09900990099009901\n"
     ]
    },
    {
     "name": "stderr",
     "output_type": "stream",
     "text": [
      "\r",
      " 13%|█▎        | 599/4536 [19:32:37<128:27:14, 117.46s/it]"
     ]
    },
    {
     "name": "stdout",
     "output_type": "stream",
     "text": [
      "iter: 598, configuration: {'vectorizer_norm': 'l2', 'svm_degree': 4, 'medoid_normalization': 'standard', 'svm_kernel': 'poly', 'nb_medoids_ratio': 0.3, 'svm_gamma': 0.5, 'svm_c': 0.01}\n",
      "\n",
      "validation micro-F1 @1: 0.15346534653465346\n",
      "validation micro-F1 @2: 0.1707920792079208\n",
      "validation micro-F1 @3: 0.1353135313531353\n",
      "validation micro-F1 @4: 0.12128712871287128\n",
      "validation micro-F1 @5: 0.11089108910891089\n",
      "validation micro-F1 @6: 0.10478547854785479\n",
      "validation micro-F1 @7: 0.10537482319660538\n",
      "validation micro-F1 @8: 0.10334158415841584\n",
      "validation micro-F1 @9: 0.10121012101210121\n",
      "validation micro-F1 @10: 0.1004950495049505\n"
     ]
    },
    {
     "name": "stderr",
     "output_type": "stream",
     "text": [
      "\r",
      " 13%|█▎        | 600/4536 [19:35:19<128:30:05, 117.53s/it]"
     ]
    },
    {
     "name": "stdout",
     "output_type": "stream",
     "text": [
      "iter: 599, configuration: {'vectorizer_norm': None, 'svm_degree': 4, 'medoid_normalization': 'standard', 'svm_kernel': 'poly', 'nb_medoids_ratio': 0.3, 'svm_gamma': 0.5, 'svm_c': 0.01}\n",
      "\n",
      "validation micro-F1 @1: 0.15841584158415842\n",
      "validation micro-F1 @2: 0.15099009900990099\n",
      "validation micro-F1 @3: 0.12706270627062707\n",
      "validation micro-F1 @4: 0.11262376237623763\n",
      "validation micro-F1 @5: 0.10495049504950495\n",
      "validation micro-F1 @6: 0.10231023102310231\n",
      "validation micro-F1 @7: 0.10183875530410184\n",
      "validation micro-F1 @8: 0.10272277227722772\n",
      "validation micro-F1 @9: 0.09900990099009901\n",
      "validation micro-F1 @10: 0.09356435643564356\n"
     ]
    },
    {
     "name": "stderr",
     "output_type": "stream",
     "text": [
      "\r",
      " 13%|█▎        | 601/4536 [19:36:15<128:21:26, 117.43s/it]"
     ]
    },
    {
     "name": "stdout",
     "output_type": "stream",
     "text": [
      "iter: 600, configuration: {'vectorizer_norm': 'l1', 'svm_degree': 4, 'medoid_normalization': 'standard', 'svm_kernel': 'rbf', 'nb_medoids_ratio': 0.3, 'svm_gamma': 1.0, 'svm_c': 0.01}\n",
      "\n",
      "validation micro-F1 @1: 0.1485148514851485\n",
      "validation micro-F1 @2: 0.13613861386138615\n",
      "validation micro-F1 @3: 0.12046204620462046\n",
      "validation micro-F1 @4: 0.11262376237623763\n",
      "validation micro-F1 @5: 0.10594059405940594\n",
      "validation micro-F1 @6: 0.10478547854785479\n",
      "validation micro-F1 @7: 0.10891089108910891\n",
      "validation micro-F1 @8: 0.10334158415841584\n",
      "validation micro-F1 @9: 0.09900990099009901\n",
      "validation micro-F1 @10: 0.09455445544554456\n"
     ]
    },
    {
     "name": "stderr",
     "output_type": "stream",
     "text": [
      "\r",
      " 13%|█▎        | 602/4536 [19:38:02<128:18:22, 117.41s/it]"
     ]
    },
    {
     "name": "stdout",
     "output_type": "stream",
     "text": [
      "iter: 601, configuration: {'vectorizer_norm': 'l2', 'svm_degree': 4, 'medoid_normalization': 'standard', 'svm_kernel': 'rbf', 'nb_medoids_ratio': 0.3, 'svm_gamma': 1.0, 'svm_c': 0.01}\n",
      "\n",
      "validation micro-F1 @1: 0.14356435643564355\n",
      "validation micro-F1 @2: 0.12128712871287128\n",
      "validation micro-F1 @3: 0.11551155115511551\n",
      "validation micro-F1 @4: 0.10643564356435643\n",
      "validation micro-F1 @5: 0.10396039603960396\n",
      "validation micro-F1 @6: 0.09900990099009901\n",
      "validation micro-F1 @7: 0.09618104667609619\n",
      "validation micro-F1 @8: 0.0952970297029703\n",
      "validation micro-F1 @9: 0.0968096809680968\n",
      "validation micro-F1 @10: 0.09554455445544555\n"
     ]
    },
    {
     "name": "stderr",
     "output_type": "stream",
     "text": [
      "\r",
      " 13%|█▎        | 603/4536 [19:41:11<128:24:11, 117.53s/it]"
     ]
    },
    {
     "name": "stdout",
     "output_type": "stream",
     "text": [
      "iter: 602, configuration: {'vectorizer_norm': None, 'svm_degree': 4, 'medoid_normalization': 'standard', 'svm_kernel': 'rbf', 'nb_medoids_ratio': 0.3, 'svm_gamma': 1.0, 'svm_c': 0.01}\n",
      "\n",
      "validation micro-F1 @1: 0.13861386138613863\n",
      "validation micro-F1 @2: 0.15099009900990099\n",
      "validation micro-F1 @3: 0.12871287128712872\n",
      "validation micro-F1 @4: 0.11386138613861387\n",
      "validation micro-F1 @5: 0.10495049504950495\n",
      "validation micro-F1 @6: 0.09818481848184818\n",
      "validation micro-F1 @7: 0.09759547383309759\n",
      "validation micro-F1 @8: 0.10024752475247525\n",
      "validation micro-F1 @9: 0.09900990099009901\n",
      "validation micro-F1 @10: 0.09405940594059406\n"
     ]
    },
    {
     "name": "stderr",
     "output_type": "stream",
     "text": [
      "\r",
      " 13%|█▎        | 604/4536 [19:43:32<128:24:44, 117.57s/it]"
     ]
    },
    {
     "name": "stdout",
     "output_type": "stream",
     "text": [
      "iter: 603, configuration: {'vectorizer_norm': 'l1', 'svm_degree': 4, 'medoid_normalization': 'standard', 'svm_kernel': 'poly', 'nb_medoids_ratio': 0.3, 'svm_gamma': 1.0, 'svm_c': 0.01}\n",
      "\n",
      "validation micro-F1 @1: 0.13366336633663367\n",
      "validation micro-F1 @2: 0.1485148514851485\n",
      "validation micro-F1 @3: 0.12871287128712872\n",
      "validation micro-F1 @4: 0.11386138613861387\n",
      "validation micro-F1 @5: 0.10891089108910891\n",
      "validation micro-F1 @6: 0.10973597359735973\n",
      "validation micro-F1 @7: 0.1074964639321075\n",
      "validation micro-F1 @8: 0.1021039603960396\n",
      "validation micro-F1 @9: 0.10176017601760176\n",
      "validation micro-F1 @10: 0.09752475247524753\n"
     ]
    },
    {
     "name": "stderr",
     "output_type": "stream",
     "text": [
      "\r",
      " 13%|█▎        | 605/4536 [19:45:59<128:25:58, 117.62s/it]"
     ]
    },
    {
     "name": "stdout",
     "output_type": "stream",
     "text": [
      "iter: 604, configuration: {'vectorizer_norm': 'l2', 'svm_degree': 4, 'medoid_normalization': 'standard', 'svm_kernel': 'poly', 'nb_medoids_ratio': 0.3, 'svm_gamma': 1.0, 'svm_c': 0.01}\n",
      "\n",
      "validation micro-F1 @1: 0.12871287128712872\n",
      "validation micro-F1 @2: 0.13613861386138615\n",
      "validation micro-F1 @3: 0.12376237623762376\n",
      "validation micro-F1 @4: 0.11014851485148515\n",
      "validation micro-F1 @5: 0.11287128712871287\n",
      "validation micro-F1 @6: 0.10726072607260725\n",
      "validation micro-F1 @7: 0.10678925035360678\n",
      "validation micro-F1 @8: 0.10272277227722772\n",
      "validation micro-F1 @9: 0.09900990099009901\n",
      "validation micro-F1 @10: 0.09603960396039604\n"
     ]
    },
    {
     "name": "stderr",
     "output_type": "stream",
     "text": [
      "\r",
      " 13%|█▎        | 606/4536 [19:48:28<128:27:26, 117.67s/it]"
     ]
    },
    {
     "name": "stdout",
     "output_type": "stream",
     "text": [
      "iter: 605, configuration: {'vectorizer_norm': None, 'svm_degree': 4, 'medoid_normalization': 'standard', 'svm_kernel': 'poly', 'nb_medoids_ratio': 0.3, 'svm_gamma': 1.0, 'svm_c': 0.01}\n",
      "\n",
      "validation micro-F1 @1: 0.14356435643564355\n",
      "validation micro-F1 @2: 0.14108910891089108\n",
      "validation micro-F1 @3: 0.1254125412541254\n",
      "validation micro-F1 @4: 0.11386138613861387\n",
      "validation micro-F1 @5: 0.10396039603960396\n",
      "validation micro-F1 @6: 0.09983498349834984\n",
      "validation micro-F1 @7: 0.0983026874115983\n",
      "validation micro-F1 @8: 0.10024752475247525\n",
      "validation micro-F1 @9: 0.09955995599559957\n",
      "validation micro-F1 @10: 0.09356435643564356\n"
     ]
    },
    {
     "name": "stderr",
     "output_type": "stream",
     "text": [
      "\r",
      " 13%|█▎        | 607/4536 [19:49:12<128:17:29, 117.55s/it]"
     ]
    },
    {
     "name": "stdout",
     "output_type": "stream",
     "text": [
      "iter: 606, configuration: {'vectorizer_norm': 'l1', 'svm_degree': 4, 'medoid_normalization': 'standard', 'svm_kernel': 'rbf', 'nb_medoids_ratio': 0.3, 'svm_gamma': 'auto', 'svm_c': 0.01}\n",
      "\n",
      "validation micro-F1 @1: 0.0\n",
      "validation micro-F1 @2: 0.007425742574257425\n",
      "validation micro-F1 @3: 0.01155115511551155\n",
      "validation micro-F1 @4: 0.012376237623762377\n",
      "validation micro-F1 @5: 0.01089108910891089\n",
      "validation micro-F1 @6: 0.009900990099009901\n",
      "validation micro-F1 @7: 0.01272984441301273\n",
      "validation micro-F1 @8: 0.011138613861386138\n",
      "validation micro-F1 @9: 0.009900990099009901\n",
      "validation micro-F1 @10: 0.009900990099009901\n"
     ]
    },
    {
     "name": "stderr",
     "output_type": "stream",
     "text": [
      "\r",
      " 13%|█▎        | 608/4536 [19:49:55<128:07:30, 117.43s/it]"
     ]
    },
    {
     "name": "stdout",
     "output_type": "stream",
     "text": [
      "iter: 607, configuration: {'vectorizer_norm': 'l2', 'svm_degree': 4, 'medoid_normalization': 'standard', 'svm_kernel': 'rbf', 'nb_medoids_ratio': 0.3, 'svm_gamma': 'auto', 'svm_c': 0.01}\n",
      "\n",
      "validation micro-F1 @1: 0.009900990099009901\n",
      "validation micro-F1 @2: 0.01485148514851485\n",
      "validation micro-F1 @3: 0.018151815181518153\n",
      "validation micro-F1 @4: 0.019801980198019802\n",
      "validation micro-F1 @5: 0.016831683168316833\n",
      "validation micro-F1 @6: 0.017326732673267328\n",
      "validation micro-F1 @7: 0.019094766619519095\n",
      "validation micro-F1 @8: 0.01670792079207921\n",
      "validation micro-F1 @9: 0.017051705170517052\n",
      "validation micro-F1 @10: 0.016336633663366337\n"
     ]
    },
    {
     "name": "stderr",
     "output_type": "stream",
     "text": [
      "\r",
      " 13%|█▎        | 609/4536 [19:51:57<128:06:02, 117.43s/it]"
     ]
    },
    {
     "name": "stdout",
     "output_type": "stream",
     "text": [
      "iter: 608, configuration: {'vectorizer_norm': None, 'svm_degree': 4, 'medoid_normalization': 'standard', 'svm_kernel': 'rbf', 'nb_medoids_ratio': 0.3, 'svm_gamma': 'auto', 'svm_c': 0.01}\n",
      "\n",
      "validation micro-F1 @1: 0.07920792079207921\n",
      "validation micro-F1 @2: 0.10891089108910891\n",
      "validation micro-F1 @3: 0.10231023102310231\n",
      "validation micro-F1 @4: 0.10024752475247525\n",
      "validation micro-F1 @5: 0.09504950495049505\n",
      "validation micro-F1 @6: 0.09405940594059406\n",
      "validation micro-F1 @7: 0.0983026874115983\n",
      "validation micro-F1 @8: 0.09591584158415842\n",
      "validation micro-F1 @9: 0.09515951595159516\n",
      "validation micro-F1 @10: 0.09257425742574257\n"
     ]
    },
    {
     "name": "stderr",
     "output_type": "stream",
     "text": [
      "\r",
      " 13%|█▎        | 610/4536 [19:52:37<127:55:51, 117.31s/it]"
     ]
    },
    {
     "name": "stdout",
     "output_type": "stream",
     "text": [
      "iter: 609, configuration: {'vectorizer_norm': 'l1', 'svm_degree': 4, 'medoid_normalization': 'standard', 'svm_kernel': 'poly', 'nb_medoids_ratio': 0.3, 'svm_gamma': 'auto', 'svm_c': 0.01}\n",
      "\n",
      "validation micro-F1 @1: 0.0\n",
      "validation micro-F1 @2: 0.0\n",
      "validation micro-F1 @3: 0.0016501650165016502\n",
      "validation micro-F1 @4: 0.034653465346534656\n",
      "validation micro-F1 @5: 0.060396039603960394\n",
      "validation micro-F1 @6: 0.05693069306930693\n",
      "validation micro-F1 @7: 0.05799151343705799\n",
      "validation micro-F1 @8: 0.05754950495049505\n",
      "validation micro-F1 @9: 0.06050605060506051\n",
      "validation micro-F1 @10: 0.0599009900990099\n"
     ]
    },
    {
     "name": "stderr",
     "output_type": "stream",
     "text": [
      "\r",
      " 13%|█▎        | 611/4536 [19:53:21<127:45:58, 117.19s/it]"
     ]
    },
    {
     "name": "stdout",
     "output_type": "stream",
     "text": [
      "iter: 610, configuration: {'vectorizer_norm': 'l2', 'svm_degree': 4, 'medoid_normalization': 'standard', 'svm_kernel': 'poly', 'nb_medoids_ratio': 0.3, 'svm_gamma': 'auto', 'svm_c': 0.01}\n",
      "\n",
      "validation micro-F1 @1: 0.1188118811881188\n",
      "validation micro-F1 @2: 0.10891089108910891\n",
      "validation micro-F1 @3: 0.10231023102310231\n",
      "validation micro-F1 @4: 0.09777227722772278\n",
      "validation micro-F1 @5: 0.09900990099009901\n",
      "validation micro-F1 @6: 0.10066006600660066\n",
      "validation micro-F1 @7: 0.10254596888260255\n",
      "validation micro-F1 @8: 0.1021039603960396\n",
      "validation micro-F1 @9: 0.09845984598459846\n",
      "validation micro-F1 @10: 0.09554455445544555\n"
     ]
    },
    {
     "name": "stderr",
     "output_type": "stream",
     "text": [
      "\r",
      " 13%|█▎        | 612/4536 [19:56:01<127:48:37, 117.26s/it]"
     ]
    },
    {
     "name": "stdout",
     "output_type": "stream",
     "text": [
      "iter: 611, configuration: {'vectorizer_norm': None, 'svm_degree': 4, 'medoid_normalization': 'standard', 'svm_kernel': 'poly', 'nb_medoids_ratio': 0.3, 'svm_gamma': 'auto', 'svm_c': 0.01}\n",
      "\n",
      "validation micro-F1 @1: 0.1485148514851485\n",
      "validation micro-F1 @2: 0.15099009900990099\n",
      "validation micro-F1 @3: 0.12706270627062707\n",
      "validation micro-F1 @4: 0.11262376237623763\n",
      "validation micro-F1 @5: 0.10594059405940594\n",
      "validation micro-F1 @6: 0.10478547854785479\n",
      "validation micro-F1 @7: 0.10325318246110325\n",
      "validation micro-F1 @8: 0.10024752475247525\n",
      "validation micro-F1 @9: 0.09955995599559957\n",
      "validation micro-F1 @10: 0.09554455445544555\n"
     ]
    },
    {
     "name": "stderr",
     "output_type": "stream",
     "text": [
      "\r",
      " 14%|█▎        | 613/4536 [19:56:45<127:38:54, 117.14s/it]"
     ]
    },
    {
     "name": "stdout",
     "output_type": "stream",
     "text": [
      "iter: 612, configuration: {'vectorizer_norm': 'l1', 'svm_degree': 5, 'medoid_normalization': 'standard', 'svm_kernel': 'rbf', 'nb_medoids_ratio': 0.3, 'svm_gamma': 0.1, 'svm_c': 0.01}\n",
      "\n",
      "validation micro-F1 @1: 0.0594059405940594\n",
      "validation micro-F1 @2: 0.07673267326732673\n",
      "validation micro-F1 @3: 0.09900990099009901\n",
      "validation micro-F1 @4: 0.09653465346534654\n",
      "validation micro-F1 @5: 0.09405940594059406\n",
      "validation micro-F1 @6: 0.0924092409240924\n",
      "validation micro-F1 @7: 0.09264497878359264\n",
      "validation micro-F1 @8: 0.0891089108910891\n",
      "validation micro-F1 @9: 0.08635863586358636\n",
      "validation micro-F1 @10: 0.08267326732673268\n"
     ]
    },
    {
     "name": "stderr",
     "output_type": "stream",
     "text": [
      "\r",
      " 14%|█▎        | 614/4536 [19:57:42<127:30:29, 117.04s/it]"
     ]
    },
    {
     "name": "stdout",
     "output_type": "stream",
     "text": [
      "iter: 613, configuration: {'vectorizer_norm': 'l2', 'svm_degree': 5, 'medoid_normalization': 'standard', 'svm_kernel': 'rbf', 'nb_medoids_ratio': 0.3, 'svm_gamma': 0.1, 'svm_c': 0.01}\n",
      "\n",
      "validation micro-F1 @1: 0.0891089108910891\n",
      "validation micro-F1 @2: 0.11138613861386139\n",
      "validation micro-F1 @3: 0.10561056105610561\n",
      "validation micro-F1 @4: 0.10767326732673267\n",
      "validation micro-F1 @5: 0.11188118811881188\n",
      "validation micro-F1 @6: 0.10808580858085809\n",
      "validation micro-F1 @7: 0.10537482319660538\n",
      "validation micro-F1 @8: 0.10396039603960396\n",
      "validation micro-F1 @9: 0.10231023102310231\n",
      "validation micro-F1 @10: 0.09801980198019802\n"
     ]
    },
    {
     "name": "stderr",
     "output_type": "stream",
     "text": [
      "\r",
      " 14%|█▎        | 615/4536 [20:00:59<127:37:02, 117.17s/it]"
     ]
    },
    {
     "name": "stdout",
     "output_type": "stream",
     "text": [
      "iter: 614, configuration: {'vectorizer_norm': None, 'svm_degree': 5, 'medoid_normalization': 'standard', 'svm_kernel': 'rbf', 'nb_medoids_ratio': 0.3, 'svm_gamma': 0.1, 'svm_c': 0.01}\n",
      "\n",
      "validation micro-F1 @1: 0.13366336633663367\n",
      "validation micro-F1 @2: 0.1485148514851485\n",
      "validation micro-F1 @3: 0.12706270627062707\n",
      "validation micro-F1 @4: 0.11386138613861387\n",
      "validation micro-F1 @5: 0.10495049504950495\n",
      "validation micro-F1 @6: 0.09818481848184818\n",
      "validation micro-F1 @7: 0.09688826025459689\n",
      "validation micro-F1 @8: 0.09962871287128713\n",
      "validation micro-F1 @9: 0.09900990099009901\n",
      "validation micro-F1 @10: 0.09405940594059406\n"
     ]
    },
    {
     "name": "stderr",
     "output_type": "stream",
     "text": [
      "\r",
      " 14%|█▎        | 616/4536 [20:02:39<127:33:15, 117.14s/it]"
     ]
    },
    {
     "name": "stdout",
     "output_type": "stream",
     "text": [
      "iter: 615, configuration: {'vectorizer_norm': 'l1', 'svm_degree': 5, 'medoid_normalization': 'standard', 'svm_kernel': 'poly', 'nb_medoids_ratio': 0.3, 'svm_gamma': 0.1, 'svm_c': 0.01}\n",
      "\n",
      "validation micro-F1 @1: 0.13861386138613863\n",
      "validation micro-F1 @2: 0.15099009900990099\n",
      "validation micro-F1 @3: 0.13036303630363036\n",
      "validation micro-F1 @4: 0.11386138613861387\n",
      "validation micro-F1 @5: 0.10594059405940594\n",
      "validation micro-F1 @6: 0.10726072607260725\n",
      "validation micro-F1 @7: 0.10254596888260255\n",
      "validation micro-F1 @8: 0.10086633663366337\n",
      "validation micro-F1 @9: 0.09955995599559957\n",
      "validation micro-F1 @10: 0.09504950495049505\n"
     ]
    },
    {
     "name": "stderr",
     "output_type": "stream",
     "text": [
      "\r",
      " 14%|█▎        | 617/4536 [20:05:05<127:34:26, 117.19s/it]"
     ]
    },
    {
     "name": "stdout",
     "output_type": "stream",
     "text": [
      "iter: 616, configuration: {'vectorizer_norm': 'l2', 'svm_degree': 5, 'medoid_normalization': 'standard', 'svm_kernel': 'poly', 'nb_medoids_ratio': 0.3, 'svm_gamma': 0.1, 'svm_c': 0.01}\n",
      "\n",
      "validation micro-F1 @1: 0.13861386138613863\n",
      "validation micro-F1 @2: 0.15346534653465346\n",
      "validation micro-F1 @3: 0.12046204620462046\n",
      "validation micro-F1 @4: 0.1150990099009901\n",
      "validation micro-F1 @5: 0.10495049504950495\n",
      "validation micro-F1 @6: 0.09983498349834984\n",
      "validation micro-F1 @7: 0.09618104667609619\n",
      "validation micro-F1 @8: 0.09777227722772278\n",
      "validation micro-F1 @9: 0.09515951595159516\n",
      "validation micro-F1 @10: 0.09504950495049505\n"
     ]
    },
    {
     "name": "stderr",
     "output_type": "stream",
     "text": [
      "\r",
      " 14%|█▎        | 618/4536 [20:07:53<127:37:46, 117.27s/it]"
     ]
    },
    {
     "name": "stdout",
     "output_type": "stream",
     "text": [
      "iter: 617, configuration: {'vectorizer_norm': None, 'svm_degree': 5, 'medoid_normalization': 'standard', 'svm_kernel': 'poly', 'nb_medoids_ratio': 0.3, 'svm_gamma': 0.1, 'svm_c': 0.01}\n",
      "\n",
      "validation micro-F1 @1: 0.13861386138613863\n",
      "validation micro-F1 @2: 0.14108910891089108\n",
      "validation micro-F1 @3: 0.12376237623762376\n",
      "validation micro-F1 @4: 0.11138613861386139\n",
      "validation micro-F1 @5: 0.10297029702970296\n",
      "validation micro-F1 @6: 0.10231023102310231\n",
      "validation micro-F1 @7: 0.09971711456859972\n",
      "validation micro-F1 @8: 0.10024752475247525\n",
      "validation micro-F1 @9: 0.09955995599559957\n",
      "validation micro-F1 @10: 0.09405940594059406\n"
     ]
    },
    {
     "name": "stderr",
     "output_type": "stream",
     "text": [
      "\r",
      " 14%|█▎        | 619/4536 [20:08:38<127:28:15, 117.15s/it]"
     ]
    },
    {
     "name": "stdout",
     "output_type": "stream",
     "text": [
      "iter: 618, configuration: {'vectorizer_norm': 'l1', 'svm_degree': 5, 'medoid_normalization': 'standard', 'svm_kernel': 'rbf', 'nb_medoids_ratio': 0.3, 'svm_gamma': 0.2, 'svm_c': 0.01}\n",
      "\n",
      "validation micro-F1 @1: 0.06930693069306931\n",
      "validation micro-F1 @2: 0.07673267326732673\n",
      "validation micro-F1 @3: 0.09075907590759076\n",
      "validation micro-F1 @4: 0.09158415841584158\n",
      "validation micro-F1 @5: 0.09306930693069307\n",
      "validation micro-F1 @6: 0.09323432343234324\n",
      "validation micro-F1 @7: 0.09335219236209336\n",
      "validation micro-F1 @8: 0.09158415841584158\n",
      "validation micro-F1 @9: 0.09020902090209021\n",
      "validation micro-F1 @10: 0.08514851485148515\n"
     ]
    },
    {
     "name": "stderr",
     "output_type": "stream",
     "text": [
      "\r",
      " 14%|█▎        | 620/4536 [20:09:47<127:21:10, 117.08s/it]"
     ]
    },
    {
     "name": "stdout",
     "output_type": "stream",
     "text": [
      "iter: 619, configuration: {'vectorizer_norm': 'l2', 'svm_degree': 5, 'medoid_normalization': 'standard', 'svm_kernel': 'rbf', 'nb_medoids_ratio': 0.3, 'svm_gamma': 0.2, 'svm_c': 0.01}\n",
      "\n",
      "validation micro-F1 @1: 0.16831683168316833\n",
      "validation micro-F1 @2: 0.13613861386138615\n",
      "validation micro-F1 @3: 0.13036303630363036\n",
      "validation micro-F1 @4: 0.12004950495049505\n",
      "validation micro-F1 @5: 0.11386138613861387\n",
      "validation micro-F1 @6: 0.10808580858085809\n",
      "validation micro-F1 @7: 0.10183875530410184\n",
      "validation micro-F1 @8: 0.09900990099009901\n",
      "validation micro-F1 @9: 0.10231023102310231\n",
      "validation micro-F1 @10: 0.09752475247524753\n"
     ]
    },
    {
     "name": "stderr",
     "output_type": "stream",
     "text": [
      "\r",
      " 14%|█▎        | 621/4536 [20:13:01<127:27:20, 117.20s/it]"
     ]
    },
    {
     "name": "stdout",
     "output_type": "stream",
     "text": [
      "iter: 620, configuration: {'vectorizer_norm': None, 'svm_degree': 5, 'medoid_normalization': 'standard', 'svm_kernel': 'rbf', 'nb_medoids_ratio': 0.3, 'svm_gamma': 0.2, 'svm_c': 0.01}\n",
      "\n",
      "validation micro-F1 @1: 0.13366336633663367\n",
      "validation micro-F1 @2: 0.15099009900990099\n",
      "validation micro-F1 @3: 0.12871287128712872\n",
      "validation micro-F1 @4: 0.11386138613861387\n",
      "validation micro-F1 @5: 0.10495049504950495\n",
      "validation micro-F1 @6: 0.10726072607260725\n",
      "validation micro-F1 @7: 0.10466760961810467\n",
      "validation micro-F1 @8: 0.09962871287128713\n",
      "validation micro-F1 @9: 0.09900990099009901\n",
      "validation micro-F1 @10: 0.09356435643564356\n"
     ]
    },
    {
     "name": "stderr",
     "output_type": "stream",
     "text": [
      "\r",
      " 14%|█▎        | 622/4536 [20:15:01<127:25:37, 117.20s/it]"
     ]
    },
    {
     "name": "stdout",
     "output_type": "stream",
     "text": [
      "iter: 621, configuration: {'vectorizer_norm': 'l1', 'svm_degree': 5, 'medoid_normalization': 'standard', 'svm_kernel': 'poly', 'nb_medoids_ratio': 0.3, 'svm_gamma': 0.2, 'svm_c': 0.01}\n",
      "\n",
      "validation micro-F1 @1: 0.13861386138613863\n",
      "validation micro-F1 @2: 0.15099009900990099\n",
      "validation micro-F1 @3: 0.12871287128712872\n",
      "validation micro-F1 @4: 0.11386138613861387\n",
      "validation micro-F1 @5: 0.10594059405940594\n",
      "validation micro-F1 @6: 0.10478547854785479\n",
      "validation micro-F1 @7: 0.10254596888260255\n",
      "validation micro-F1 @8: 0.1021039603960396\n",
      "validation micro-F1 @9: 0.09900990099009901\n",
      "validation micro-F1 @10: 0.09603960396039604\n"
     ]
    },
    {
     "name": "stderr",
     "output_type": "stream",
     "text": [
      "\r",
      " 14%|█▎        | 623/4536 [20:17:34<127:27:27, 117.26s/it]"
     ]
    },
    {
     "name": "stdout",
     "output_type": "stream",
     "text": [
      "iter: 622, configuration: {'vectorizer_norm': 'l2', 'svm_degree': 5, 'medoid_normalization': 'standard', 'svm_kernel': 'poly', 'nb_medoids_ratio': 0.3, 'svm_gamma': 0.2, 'svm_c': 0.01}\n",
      "\n",
      "validation micro-F1 @1: 0.1485148514851485\n",
      "validation micro-F1 @2: 0.14356435643564355\n",
      "validation micro-F1 @3: 0.1254125412541254\n",
      "validation micro-F1 @4: 0.11138613861386139\n",
      "validation micro-F1 @5: 0.10594059405940594\n",
      "validation micro-F1 @6: 0.10066006600660066\n",
      "validation micro-F1 @7: 0.10113154172560113\n",
      "validation micro-F1 @8: 0.09962871287128713\n",
      "validation micro-F1 @9: 0.09955995599559957\n",
      "validation micro-F1 @10: 0.09801980198019802\n"
     ]
    },
    {
     "name": "stderr",
     "output_type": "stream",
     "text": [
      "\r",
      " 14%|█▍        | 624/4536 [20:20:34<127:32:05, 117.36s/it]"
     ]
    },
    {
     "name": "stdout",
     "output_type": "stream",
     "text": [
      "iter: 623, configuration: {'vectorizer_norm': None, 'svm_degree': 5, 'medoid_normalization': 'standard', 'svm_kernel': 'poly', 'nb_medoids_ratio': 0.3, 'svm_gamma': 0.2, 'svm_c': 0.01}\n",
      "\n",
      "validation micro-F1 @1: 0.13366336633663367\n",
      "validation micro-F1 @2: 0.14356435643564355\n",
      "validation micro-F1 @3: 0.12376237623762376\n",
      "validation micro-F1 @4: 0.1150990099009901\n",
      "validation micro-F1 @5: 0.10594059405940594\n",
      "validation micro-F1 @6: 0.10561056105610561\n",
      "validation micro-F1 @7: 0.10537482319660538\n",
      "validation micro-F1 @8: 0.10272277227722772\n",
      "validation micro-F1 @9: 0.1001100110011001\n",
      "validation micro-F1 @10: 0.09455445544554456\n"
     ]
    },
    {
     "name": "stderr",
     "output_type": "stream",
     "text": [
      "\r",
      " 14%|█▍        | 625/4536 [20:21:22<127:22:54, 117.25s/it]"
     ]
    },
    {
     "name": "stdout",
     "output_type": "stream",
     "text": [
      "iter: 624, configuration: {'vectorizer_norm': 'l1', 'svm_degree': 5, 'medoid_normalization': 'standard', 'svm_kernel': 'rbf', 'nb_medoids_ratio': 0.3, 'svm_gamma': 0.3, 'svm_c': 0.01}\n",
      "\n",
      "validation micro-F1 @1: 0.12871287128712872\n",
      "validation micro-F1 @2: 0.11386138613861387\n",
      "validation micro-F1 @3: 0.12046204620462046\n",
      "validation micro-F1 @4: 0.10767326732673267\n",
      "validation micro-F1 @5: 0.10495049504950495\n",
      "validation micro-F1 @6: 0.10148514851485149\n",
      "validation micro-F1 @7: 0.09971711456859972\n",
      "validation micro-F1 @8: 0.09591584158415842\n",
      "validation micro-F1 @9: 0.0968096809680968\n",
      "validation micro-F1 @10: 0.09504950495049505\n"
     ]
    },
    {
     "name": "stderr",
     "output_type": "stream",
     "text": [
      "\r",
      " 14%|█▍        | 626/4536 [20:22:40<127:16:48, 117.19s/it]"
     ]
    },
    {
     "name": "stdout",
     "output_type": "stream",
     "text": [
      "iter: 625, configuration: {'vectorizer_norm': 'l2', 'svm_degree': 5, 'medoid_normalization': 'standard', 'svm_kernel': 'rbf', 'nb_medoids_ratio': 0.3, 'svm_gamma': 0.3, 'svm_c': 0.01}\n",
      "\n",
      "validation micro-F1 @1: 0.13366336633663367\n",
      "validation micro-F1 @2: 0.12871287128712872\n",
      "validation micro-F1 @3: 0.12211221122112212\n",
      "validation micro-F1 @4: 0.11262376237623763\n",
      "validation micro-F1 @5: 0.1099009900990099\n",
      "validation micro-F1 @6: 0.10808580858085809\n",
      "validation micro-F1 @7: 0.10466760961810467\n",
      "validation micro-F1 @8: 0.10086633663366337\n",
      "validation micro-F1 @9: 0.09845984598459846\n",
      "validation micro-F1 @10: 0.09653465346534654\n"
     ]
    },
    {
     "name": "stderr",
     "output_type": "stream",
     "text": [
      "\r",
      " 14%|█▍        | 627/4536 [20:25:52<127:22:42, 117.31s/it]"
     ]
    },
    {
     "name": "stdout",
     "output_type": "stream",
     "text": [
      "iter: 626, configuration: {'vectorizer_norm': None, 'svm_degree': 5, 'medoid_normalization': 'standard', 'svm_kernel': 'rbf', 'nb_medoids_ratio': 0.3, 'svm_gamma': 0.3, 'svm_c': 0.01}\n",
      "\n",
      "validation micro-F1 @1: 0.13861386138613863\n",
      "validation micro-F1 @2: 0.15099009900990099\n",
      "validation micro-F1 @3: 0.12871287128712872\n",
      "validation micro-F1 @4: 0.11386138613861387\n",
      "validation micro-F1 @5: 0.10495049504950495\n",
      "validation micro-F1 @6: 0.09818481848184818\n",
      "validation micro-F1 @7: 0.10113154172560113\n",
      "validation micro-F1 @8: 0.10024752475247525\n",
      "validation micro-F1 @9: 0.09900990099009901\n",
      "validation micro-F1 @10: 0.09405940594059406\n"
     ]
    },
    {
     "name": "stderr",
     "output_type": "stream",
     "text": [
      "\r",
      " 14%|█▍        | 628/4536 [20:28:06<127:22:27, 117.34s/it]"
     ]
    },
    {
     "name": "stdout",
     "output_type": "stream",
     "text": [
      "iter: 627, configuration: {'vectorizer_norm': 'l1', 'svm_degree': 5, 'medoid_normalization': 'standard', 'svm_kernel': 'poly', 'nb_medoids_ratio': 0.3, 'svm_gamma': 0.3, 'svm_c': 0.01}\n",
      "\n",
      "validation micro-F1 @1: 0.13861386138613863\n",
      "validation micro-F1 @2: 0.15099009900990099\n",
      "validation micro-F1 @3: 0.12871287128712872\n",
      "validation micro-F1 @4: 0.11386138613861387\n",
      "validation micro-F1 @5: 0.10495049504950495\n",
      "validation micro-F1 @6: 0.10561056105610561\n",
      "validation micro-F1 @7: 0.10042432814710042\n",
      "validation micro-F1 @8: 0.09962871287128713\n",
      "validation micro-F1 @9: 0.09955995599559957\n",
      "validation micro-F1 @10: 0.09554455445544555\n"
     ]
    },
    {
     "name": "stderr",
     "output_type": "stream",
     "text": [
      "\r",
      " 14%|█▍        | 629/4536 [20:30:40<127:24:18, 117.39s/it]"
     ]
    },
    {
     "name": "stdout",
     "output_type": "stream",
     "text": [
      "iter: 628, configuration: {'vectorizer_norm': 'l2', 'svm_degree': 5, 'medoid_normalization': 'standard', 'svm_kernel': 'poly', 'nb_medoids_ratio': 0.3, 'svm_gamma': 0.3, 'svm_c': 0.01}\n",
      "\n",
      "validation micro-F1 @1: 0.16336633663366337\n",
      "validation micro-F1 @2: 0.14603960396039603\n",
      "validation micro-F1 @3: 0.1254125412541254\n",
      "validation micro-F1 @4: 0.11386138613861387\n",
      "validation micro-F1 @5: 0.10792079207920792\n",
      "validation micro-F1 @6: 0.10561056105610561\n",
      "validation micro-F1 @7: 0.10325318246110325\n",
      "validation micro-F1 @8: 0.09962871287128713\n",
      "validation micro-F1 @9: 0.09900990099009901\n",
      "validation micro-F1 @10: 0.09702970297029703\n"
     ]
    },
    {
     "name": "stderr",
     "output_type": "stream",
     "text": [
      "\r",
      " 14%|█▍        | 630/4536 [20:33:21<127:26:51, 117.46s/it]"
     ]
    },
    {
     "name": "stdout",
     "output_type": "stream",
     "text": [
      "iter: 629, configuration: {'vectorizer_norm': None, 'svm_degree': 5, 'medoid_normalization': 'standard', 'svm_kernel': 'poly', 'nb_medoids_ratio': 0.3, 'svm_gamma': 0.3, 'svm_c': 0.01}\n",
      "\n",
      "validation micro-F1 @1: 0.13366336633663367\n",
      "validation micro-F1 @2: 0.15099009900990099\n",
      "validation micro-F1 @3: 0.12871287128712872\n",
      "validation micro-F1 @4: 0.11386138613861387\n",
      "validation micro-F1 @5: 0.10495049504950495\n",
      "validation micro-F1 @6: 0.10066006600660066\n",
      "validation micro-F1 @7: 0.10466760961810467\n",
      "validation micro-F1 @8: 0.10272277227722772\n",
      "validation micro-F1 @9: 0.09955995599559957\n",
      "validation micro-F1 @10: 0.09504950495049505\n"
     ]
    },
    {
     "name": "stderr",
     "output_type": "stream",
     "text": [
      "\r",
      " 14%|█▍        | 631/4536 [20:34:11<127:17:55, 117.36s/it]"
     ]
    },
    {
     "name": "stdout",
     "output_type": "stream",
     "text": [
      "iter: 630, configuration: {'vectorizer_norm': 'l1', 'svm_degree': 5, 'medoid_normalization': 'standard', 'svm_kernel': 'rbf', 'nb_medoids_ratio': 0.3, 'svm_gamma': 0.5, 'svm_c': 0.01}\n",
      "\n",
      "validation micro-F1 @1: 0.11386138613861387\n",
      "validation micro-F1 @2: 0.12871287128712872\n",
      "validation micro-F1 @3: 0.11716171617161716\n",
      "validation micro-F1 @4: 0.10767326732673267\n",
      "validation micro-F1 @5: 0.100990099009901\n",
      "validation micro-F1 @6: 0.10148514851485149\n",
      "validation micro-F1 @7: 0.10396039603960396\n",
      "validation micro-F1 @8: 0.1051980198019802\n",
      "validation micro-F1 @9: 0.09955995599559957\n",
      "validation micro-F1 @10: 0.09702970297029703\n"
     ]
    },
    {
     "name": "stderr",
     "output_type": "stream",
     "text": [
      "\r",
      " 14%|█▍        | 632/4536 [20:35:41<127:13:10, 117.31s/it]"
     ]
    },
    {
     "name": "stdout",
     "output_type": "stream",
     "text": [
      "iter: 631, configuration: {'vectorizer_norm': 'l2', 'svm_degree': 5, 'medoid_normalization': 'standard', 'svm_kernel': 'rbf', 'nb_medoids_ratio': 0.3, 'svm_gamma': 0.5, 'svm_c': 0.01}\n",
      "\n",
      "validation micro-F1 @1: 0.15346534653465346\n",
      "validation micro-F1 @2: 0.13613861386138615\n",
      "validation micro-F1 @3: 0.11716171617161716\n",
      "validation micro-F1 @4: 0.11138613861386139\n",
      "validation micro-F1 @5: 0.10891089108910891\n",
      "validation micro-F1 @6: 0.10396039603960396\n",
      "validation micro-F1 @7: 0.10466760961810467\n",
      "validation micro-F1 @8: 0.09900990099009901\n",
      "validation micro-F1 @9: 0.09735973597359736\n",
      "validation micro-F1 @10: 0.09603960396039604\n"
     ]
    },
    {
     "name": "stderr",
     "output_type": "stream",
     "text": [
      "\r",
      " 14%|█▍        | 633/4536 [20:38:53<127:18:48, 117.43s/it]"
     ]
    },
    {
     "name": "stdout",
     "output_type": "stream",
     "text": [
      "iter: 632, configuration: {'vectorizer_norm': None, 'svm_degree': 5, 'medoid_normalization': 'standard', 'svm_kernel': 'rbf', 'nb_medoids_ratio': 0.3, 'svm_gamma': 0.5, 'svm_c': 0.01}\n",
      "\n",
      "validation micro-F1 @1: 0.13861386138613863\n",
      "validation micro-F1 @2: 0.15099009900990099\n",
      "validation micro-F1 @3: 0.12871287128712872\n",
      "validation micro-F1 @4: 0.11386138613861387\n",
      "validation micro-F1 @5: 0.10495049504950495\n",
      "validation micro-F1 @6: 0.10726072607260725\n",
      "validation micro-F1 @7: 0.10113154172560113\n",
      "validation micro-F1 @8: 0.10024752475247525\n",
      "validation micro-F1 @9: 0.09900990099009901\n",
      "validation micro-F1 @10: 0.09405940594059406\n"
     ]
    },
    {
     "name": "stderr",
     "output_type": "stream",
     "text": [
      "\r",
      " 14%|█▍        | 634/4536 [20:41:25<127:20:23, 117.48s/it]"
     ]
    },
    {
     "name": "stdout",
     "output_type": "stream",
     "text": [
      "iter: 633, configuration: {'vectorizer_norm': 'l1', 'svm_degree': 5, 'medoid_normalization': 'standard', 'svm_kernel': 'poly', 'nb_medoids_ratio': 0.3, 'svm_gamma': 0.5, 'svm_c': 0.01}\n",
      "\n",
      "validation micro-F1 @1: 0.13861386138613863\n",
      "validation micro-F1 @2: 0.15099009900990099\n",
      "validation micro-F1 @3: 0.12871287128712872\n",
      "validation micro-F1 @4: 0.11386138613861387\n",
      "validation micro-F1 @5: 0.10396039603960396\n",
      "validation micro-F1 @6: 0.09818481848184818\n",
      "validation micro-F1 @7: 0.10042432814710042\n",
      "validation micro-F1 @8: 0.0983910891089109\n",
      "validation micro-F1 @9: 0.09570957095709572\n",
      "validation micro-F1 @10: 0.09603960396039604\n"
     ]
    },
    {
     "name": "stderr",
     "output_type": "stream",
     "text": [
      "\r",
      " 14%|█▍        | 635/4536 [20:43:57<127:22:01, 117.54s/it]"
     ]
    },
    {
     "name": "stdout",
     "output_type": "stream",
     "text": [
      "iter: 634, configuration: {'vectorizer_norm': 'l2', 'svm_degree': 5, 'medoid_normalization': 'standard', 'svm_kernel': 'poly', 'nb_medoids_ratio': 0.3, 'svm_gamma': 0.5, 'svm_c': 0.01}\n",
      "\n",
      "validation micro-F1 @1: 0.12871287128712872\n",
      "validation micro-F1 @2: 0.15099009900990099\n",
      "validation micro-F1 @3: 0.12871287128712872\n",
      "validation micro-F1 @4: 0.1150990099009901\n",
      "validation micro-F1 @5: 0.11089108910891089\n",
      "validation micro-F1 @6: 0.10066006600660066\n",
      "validation micro-F1 @7: 0.09971711456859972\n",
      "validation micro-F1 @8: 0.10148514851485149\n",
      "validation micro-F1 @9: 0.1001100110011001\n",
      "validation micro-F1 @10: 0.09504950495049505\n"
     ]
    },
    {
     "name": "stderr",
     "output_type": "stream",
     "text": [
      "\r",
      " 14%|█▍        | 636/4536 [20:46:42<127:24:53, 117.61s/it]"
     ]
    },
    {
     "name": "stdout",
     "output_type": "stream",
     "text": [
      "iter: 635, configuration: {'vectorizer_norm': None, 'svm_degree': 5, 'medoid_normalization': 'standard', 'svm_kernel': 'poly', 'nb_medoids_ratio': 0.3, 'svm_gamma': 0.5, 'svm_c': 0.01}\n",
      "\n",
      "validation micro-F1 @1: 0.13366336633663367\n",
      "validation micro-F1 @2: 0.14603960396039603\n",
      "validation micro-F1 @3: 0.12706270627062707\n",
      "validation micro-F1 @4: 0.11262376237623763\n",
      "validation micro-F1 @5: 0.10396039603960396\n",
      "validation micro-F1 @6: 0.09735973597359736\n",
      "validation micro-F1 @7: 0.10113154172560113\n",
      "validation micro-F1 @8: 0.09900990099009901\n",
      "validation micro-F1 @9: 0.09900990099009901\n",
      "validation micro-F1 @10: 0.09455445544554456\n"
     ]
    },
    {
     "name": "stderr",
     "output_type": "stream",
     "text": [
      "\r",
      " 14%|█▍        | 637/4536 [20:47:37<127:16:34, 117.52s/it]"
     ]
    },
    {
     "name": "stdout",
     "output_type": "stream",
     "text": [
      "iter: 636, configuration: {'vectorizer_norm': 'l1', 'svm_degree': 5, 'medoid_normalization': 'standard', 'svm_kernel': 'rbf', 'nb_medoids_ratio': 0.3, 'svm_gamma': 1.0, 'svm_c': 0.01}\n",
      "\n",
      "validation micro-F1 @1: 0.1188118811881188\n",
      "validation micro-F1 @2: 0.1311881188118812\n",
      "validation micro-F1 @3: 0.12211221122112212\n",
      "validation micro-F1 @4: 0.11138613861386139\n",
      "validation micro-F1 @5: 0.10297029702970296\n",
      "validation micro-F1 @6: 0.10231023102310231\n",
      "validation micro-F1 @7: 0.10325318246110325\n",
      "validation micro-F1 @8: 0.10024752475247525\n",
      "validation micro-F1 @9: 0.10066006600660066\n",
      "validation micro-F1 @10: 0.09653465346534654\n"
     ]
    },
    {
     "name": "stderr",
     "output_type": "stream",
     "text": [
      "\r",
      " 14%|█▍        | 638/4536 [20:49:24<127:13:31, 117.50s/it]"
     ]
    },
    {
     "name": "stdout",
     "output_type": "stream",
     "text": [
      "iter: 637, configuration: {'vectorizer_norm': 'l2', 'svm_degree': 5, 'medoid_normalization': 'standard', 'svm_kernel': 'rbf', 'nb_medoids_ratio': 0.3, 'svm_gamma': 1.0, 'svm_c': 0.01}\n",
      "\n",
      "validation micro-F1 @1: 0.10396039603960396\n",
      "validation micro-F1 @2: 0.10148514851485149\n",
      "validation micro-F1 @3: 0.11551155115511551\n",
      "validation micro-F1 @4: 0.11014851485148515\n",
      "validation micro-F1 @5: 0.10693069306930693\n",
      "validation micro-F1 @6: 0.10231023102310231\n",
      "validation micro-F1 @7: 0.09971711456859972\n",
      "validation micro-F1 @8: 0.09900990099009901\n",
      "validation micro-F1 @9: 0.09515951595159516\n",
      "validation micro-F1 @10: 0.09257425742574257\n"
     ]
    },
    {
     "name": "stderr",
     "output_type": "stream",
     "text": [
      "\r",
      " 14%|█▍        | 639/4536 [20:52:33<127:18:48, 117.61s/it]"
     ]
    },
    {
     "name": "stdout",
     "output_type": "stream",
     "text": [
      "iter: 638, configuration: {'vectorizer_norm': None, 'svm_degree': 5, 'medoid_normalization': 'standard', 'svm_kernel': 'rbf', 'nb_medoids_ratio': 0.3, 'svm_gamma': 1.0, 'svm_c': 0.01}\n",
      "\n",
      "validation micro-F1 @1: 0.13861386138613863\n",
      "validation micro-F1 @2: 0.15099009900990099\n",
      "validation micro-F1 @3: 0.12871287128712872\n",
      "validation micro-F1 @4: 0.11386138613861387\n",
      "validation micro-F1 @5: 0.10495049504950495\n",
      "validation micro-F1 @6: 0.09818481848184818\n",
      "validation micro-F1 @7: 0.10113154172560113\n",
      "validation micro-F1 @8: 0.10024752475247525\n",
      "validation micro-F1 @9: 0.09900990099009901\n",
      "validation micro-F1 @10: 0.09405940594059406\n"
     ]
    },
    {
     "name": "stderr",
     "output_type": "stream",
     "text": [
      "\r",
      " 14%|█▍        | 640/4536 [20:55:08<127:20:38, 117.67s/it]"
     ]
    },
    {
     "name": "stdout",
     "output_type": "stream",
     "text": [
      "iter: 639, configuration: {'vectorizer_norm': 'l1', 'svm_degree': 5, 'medoid_normalization': 'standard', 'svm_kernel': 'poly', 'nb_medoids_ratio': 0.3, 'svm_gamma': 1.0, 'svm_c': 0.01}\n",
      "\n",
      "validation micro-F1 @1: 0.13861386138613863\n",
      "validation micro-F1 @2: 0.15099009900990099\n",
      "validation micro-F1 @3: 0.12871287128712872\n",
      "validation micro-F1 @4: 0.1150990099009901\n",
      "validation micro-F1 @5: 0.10693069306930693\n",
      "validation micro-F1 @6: 0.10396039603960396\n",
      "validation micro-F1 @7: 0.10042432814710042\n",
      "validation micro-F1 @8: 0.10024752475247525\n",
      "validation micro-F1 @9: 0.09735973597359736\n",
      "validation micro-F1 @10: 0.09752475247524753\n"
     ]
    },
    {
     "name": "stderr",
     "output_type": "stream",
     "text": [
      "\r",
      " 14%|█▍        | 641/4536 [20:57:41<127:22:16, 117.72s/it]"
     ]
    },
    {
     "name": "stdout",
     "output_type": "stream",
     "text": [
      "iter: 640, configuration: {'vectorizer_norm': 'l2', 'svm_degree': 5, 'medoid_normalization': 'standard', 'svm_kernel': 'poly', 'nb_medoids_ratio': 0.3, 'svm_gamma': 1.0, 'svm_c': 0.01}\n",
      "\n",
      "validation micro-F1 @1: 0.13861386138613863\n",
      "validation micro-F1 @2: 0.14603960396039603\n",
      "validation micro-F1 @3: 0.12706270627062707\n",
      "validation micro-F1 @4: 0.11386138613861387\n",
      "validation micro-F1 @5: 0.10594059405940594\n",
      "validation micro-F1 @6: 0.10396039603960396\n",
      "validation micro-F1 @7: 0.10396039603960396\n",
      "validation micro-F1 @8: 0.10148514851485149\n",
      "validation micro-F1 @9: 0.1001100110011001\n",
      "validation micro-F1 @10: 0.09801980198019802\n"
     ]
    },
    {
     "name": "stderr",
     "output_type": "stream",
     "text": [
      "\r",
      " 14%|█▍        | 642/4536 [21:00:33<127:25:49, 117.81s/it]"
     ]
    },
    {
     "name": "stdout",
     "output_type": "stream",
     "text": [
      "iter: 641, configuration: {'vectorizer_norm': None, 'svm_degree': 5, 'medoid_normalization': 'standard', 'svm_kernel': 'poly', 'nb_medoids_ratio': 0.3, 'svm_gamma': 1.0, 'svm_c': 0.01}\n",
      "\n",
      "validation micro-F1 @1: 0.13861386138613863\n",
      "validation micro-F1 @2: 0.14603960396039603\n",
      "validation micro-F1 @3: 0.1254125412541254\n",
      "validation micro-F1 @4: 0.11386138613861387\n",
      "validation micro-F1 @5: 0.10198019801980197\n",
      "validation micro-F1 @6: 0.10231023102310231\n",
      "validation micro-F1 @7: 0.10325318246110325\n",
      "validation micro-F1 @8: 0.09962871287128713\n",
      "validation micro-F1 @9: 0.09955995599559957\n",
      "validation micro-F1 @10: 0.09455445544554456\n"
     ]
    },
    {
     "name": "stderr",
     "output_type": "stream",
     "text": [
      "\r",
      " 14%|█▍        | 643/4536 [21:01:17<127:16:22, 117.69s/it]"
     ]
    },
    {
     "name": "stdout",
     "output_type": "stream",
     "text": [
      "iter: 642, configuration: {'vectorizer_norm': 'l1', 'svm_degree': 5, 'medoid_normalization': 'standard', 'svm_kernel': 'rbf', 'nb_medoids_ratio': 0.3, 'svm_gamma': 'auto', 'svm_c': 0.01}\n",
      "\n",
      "validation micro-F1 @1: 0.0049504950495049506\n",
      "validation micro-F1 @2: 0.0049504950495049506\n",
      "validation micro-F1 @3: 0.01155115511551155\n",
      "validation micro-F1 @4: 0.01485148514851485\n",
      "validation micro-F1 @5: 0.01287128712871287\n",
      "validation micro-F1 @6: 0.0165016501650165\n",
      "validation micro-F1 @7: 0.018387553041018388\n",
      "validation micro-F1 @8: 0.01608910891089109\n",
      "validation micro-F1 @9: 0.0165016501650165\n",
      "validation micro-F1 @10: 0.018316831683168316\n"
     ]
    },
    {
     "name": "stderr",
     "output_type": "stream",
     "text": [
      "\r",
      " 14%|█▍        | 644/4536 [21:02:00<127:06:52, 117.58s/it]"
     ]
    },
    {
     "name": "stdout",
     "output_type": "stream",
     "text": [
      "iter: 643, configuration: {'vectorizer_norm': 'l2', 'svm_degree': 5, 'medoid_normalization': 'standard', 'svm_kernel': 'rbf', 'nb_medoids_ratio': 0.3, 'svm_gamma': 'auto', 'svm_c': 0.01}\n",
      "\n",
      "validation micro-F1 @1: 0.01485148514851485\n",
      "validation micro-F1 @2: 0.012376237623762377\n",
      "validation micro-F1 @3: 0.013201320132013201\n",
      "validation micro-F1 @4: 0.01485148514851485\n",
      "validation micro-F1 @5: 0.01485148514851485\n",
      "validation micro-F1 @6: 0.0165016501650165\n",
      "validation micro-F1 @7: 0.018387553041018388\n",
      "validation micro-F1 @8: 0.019183168316831683\n",
      "validation micro-F1 @9: 0.019801980198019802\n",
      "validation micro-F1 @10: 0.018316831683168316\n"
     ]
    },
    {
     "name": "stderr",
     "output_type": "stream",
     "text": [
      "\r",
      " 14%|█▍        | 645/4536 [21:04:05<127:05:44, 117.59s/it]"
     ]
    },
    {
     "name": "stdout",
     "output_type": "stream",
     "text": [
      "iter: 644, configuration: {'vectorizer_norm': None, 'svm_degree': 5, 'medoid_normalization': 'standard', 'svm_kernel': 'rbf', 'nb_medoids_ratio': 0.3, 'svm_gamma': 'auto', 'svm_c': 0.01}\n",
      "\n",
      "validation micro-F1 @1: 0.10396039603960396\n",
      "validation micro-F1 @2: 0.11138613861386139\n",
      "validation micro-F1 @3: 0.11716171617161716\n",
      "validation micro-F1 @4: 0.10396039603960396\n",
      "validation micro-F1 @5: 0.100990099009901\n",
      "validation micro-F1 @6: 0.09983498349834984\n",
      "validation micro-F1 @7: 0.09688826025459689\n",
      "validation micro-F1 @8: 0.09591584158415842\n",
      "validation micro-F1 @9: 0.09405940594059406\n",
      "validation micro-F1 @10: 0.09405940594059406\n"
     ]
    },
    {
     "name": "stderr",
     "output_type": "stream",
     "text": [
      "\r",
      " 14%|█▍        | 646/4536 [21:04:47<126:56:06, 117.47s/it]"
     ]
    },
    {
     "name": "stdout",
     "output_type": "stream",
     "text": [
      "iter: 645, configuration: {'vectorizer_norm': 'l1', 'svm_degree': 5, 'medoid_normalization': 'standard', 'svm_kernel': 'poly', 'nb_medoids_ratio': 0.3, 'svm_gamma': 'auto', 'svm_c': 0.01}\n",
      "\n",
      "validation micro-F1 @1: 0.019801980198019802\n",
      "validation micro-F1 @2: 0.022277227722772276\n",
      "validation micro-F1 @3: 0.0231023102310231\n",
      "validation micro-F1 @4: 0.022277227722772276\n",
      "validation micro-F1 @5: 0.019801980198019802\n",
      "validation micro-F1 @6: 0.018151815181518153\n",
      "validation micro-F1 @7: 0.021923620933521924\n",
      "validation micro-F1 @8: 0.019801980198019802\n",
      "validation micro-F1 @9: 0.018151815181518153\n",
      "validation micro-F1 @10: 0.016336633663366337\n"
     ]
    },
    {
     "name": "stderr",
     "output_type": "stream",
     "text": [
      "\r",
      " 14%|█▍        | 647/4536 [21:05:36<126:47:23, 117.37s/it]"
     ]
    },
    {
     "name": "stdout",
     "output_type": "stream",
     "text": [
      "iter: 646, configuration: {'vectorizer_norm': 'l2', 'svm_degree': 5, 'medoid_normalization': 'standard', 'svm_kernel': 'poly', 'nb_medoids_ratio': 0.3, 'svm_gamma': 'auto', 'svm_c': 0.01}\n",
      "\n",
      "validation micro-F1 @1: 0.10396039603960396\n",
      "validation micro-F1 @2: 0.11386138613861387\n",
      "validation micro-F1 @3: 0.11716171617161716\n",
      "validation micro-F1 @4: 0.10643564356435643\n",
      "validation micro-F1 @5: 0.10495049504950495\n",
      "validation micro-F1 @6: 0.10313531353135313\n",
      "validation micro-F1 @7: 0.10113154172560113\n",
      "validation micro-F1 @8: 0.0952970297029703\n",
      "validation micro-F1 @9: 0.09570957095709572\n",
      "validation micro-F1 @10: 0.09356435643564356\n"
     ]
    },
    {
     "name": "stderr",
     "output_type": "stream",
     "text": [
      "\r",
      " 14%|█▍        | 648/4536 [21:08:27<126:50:43, 117.45s/it]"
     ]
    },
    {
     "name": "stdout",
     "output_type": "stream",
     "text": [
      "iter: 647, configuration: {'vectorizer_norm': None, 'svm_degree': 5, 'medoid_normalization': 'standard', 'svm_kernel': 'poly', 'nb_medoids_ratio': 0.3, 'svm_gamma': 'auto', 'svm_c': 0.01}\n",
      "\n",
      "validation micro-F1 @1: 0.14356435643564355\n",
      "validation micro-F1 @2: 0.1485148514851485\n",
      "validation micro-F1 @3: 0.12706270627062707\n",
      "validation micro-F1 @4: 0.11262376237623763\n",
      "validation micro-F1 @5: 0.10495049504950495\n",
      "validation micro-F1 @6: 0.10561056105610561\n",
      "validation micro-F1 @7: 0.10396039603960396\n",
      "validation micro-F1 @8: 0.10148514851485149\n",
      "validation micro-F1 @9: 0.09900990099009901\n",
      "validation micro-F1 @10: 0.09455445544554456\n"
     ]
    },
    {
     "name": "stderr",
     "output_type": "stream",
     "text": [
      "\r",
      " 14%|█▍        | 649/4536 [21:09:33<126:43:41, 117.37s/it]"
     ]
    },
    {
     "name": "stdout",
     "output_type": "stream",
     "text": [
      "iter: 648, configuration: {'vectorizer_norm': 'l1', 'svm_degree': 3, 'medoid_normalization': 'standard', 'svm_kernel': 'rbf', 'nb_medoids_ratio': 0.3, 'svm_gamma': 0.1, 'svm_c': 0.1}\n",
      "\n",
      "validation micro-F1 @1: 0.11386138613861387\n",
      "validation micro-F1 @2: 0.1311881188118812\n",
      "validation micro-F1 @3: 0.12046204620462046\n",
      "validation micro-F1 @4: 0.1051980198019802\n",
      "validation micro-F1 @5: 0.09603960396039604\n",
      "validation micro-F1 @6: 0.09900990099009901\n",
      "validation micro-F1 @7: 0.10113154172560113\n",
      "validation micro-F1 @8: 0.09962871287128713\n",
      "validation micro-F1 @9: 0.09515951595159516\n",
      "validation micro-F1 @10: 0.09257425742574257\n"
     ]
    },
    {
     "name": "stderr",
     "output_type": "stream",
     "text": [
      "\r",
      " 14%|█▍        | 650/4536 [21:11:20<126:40:39, 117.35s/it]"
     ]
    },
    {
     "name": "stdout",
     "output_type": "stream",
     "text": [
      "iter: 649, configuration: {'vectorizer_norm': 'l2', 'svm_degree': 3, 'medoid_normalization': 'standard', 'svm_kernel': 'rbf', 'nb_medoids_ratio': 0.3, 'svm_gamma': 0.1, 'svm_c': 0.1}\n",
      "\n",
      "validation micro-F1 @1: 0.12376237623762376\n",
      "validation micro-F1 @2: 0.13613861386138615\n",
      "validation micro-F1 @3: 0.12046204620462046\n",
      "validation micro-F1 @4: 0.12004950495049505\n",
      "validation micro-F1 @5: 0.11287128712871287\n",
      "validation micro-F1 @6: 0.10973597359735973\n",
      "validation micro-F1 @7: 0.10608203677510608\n",
      "validation micro-F1 @8: 0.10148514851485149\n",
      "validation micro-F1 @9: 0.09955995599559957\n",
      "validation micro-F1 @10: 0.09504950495049505\n"
     ]
    },
    {
     "name": "stderr",
     "output_type": "stream",
     "text": [
      "\r",
      " 14%|█▍        | 651/4536 [21:21:23<127:27:00, 118.10s/it]"
     ]
    },
    {
     "name": "stdout",
     "output_type": "stream",
     "text": [
      "iter: 650, configuration: {'vectorizer_norm': None, 'svm_degree': 3, 'medoid_normalization': 'standard', 'svm_kernel': 'rbf', 'nb_medoids_ratio': 0.3, 'svm_gamma': 0.1, 'svm_c': 0.1}\n",
      "\n",
      "validation micro-F1 @1: 0.13366336633663367\n",
      "validation micro-F1 @2: 0.15099009900990099\n",
      "validation micro-F1 @3: 0.12871287128712872\n",
      "validation micro-F1 @4: 0.11386138613861387\n",
      "validation micro-F1 @5: 0.10495049504950495\n",
      "validation micro-F1 @6: 0.10148514851485149\n",
      "validation micro-F1 @7: 0.09688826025459689\n",
      "validation micro-F1 @8: 0.09962871287128713\n",
      "validation micro-F1 @9: 0.09900990099009901\n",
      "validation micro-F1 @10: 0.09405940594059406\n"
     ]
    },
    {
     "name": "stderr",
     "output_type": "stream",
     "text": [
      "\r",
      " 14%|█▍        | 652/4536 [21:23:02<127:23:06, 118.07s/it]"
     ]
    },
    {
     "name": "stdout",
     "output_type": "stream",
     "text": [
      "iter: 651, configuration: {'vectorizer_norm': 'l1', 'svm_degree': 3, 'medoid_normalization': 'standard', 'svm_kernel': 'poly', 'nb_medoids_ratio': 0.3, 'svm_gamma': 0.1, 'svm_c': 0.1}\n",
      "\n",
      "validation micro-F1 @1: 0.12376237623762376\n",
      "validation micro-F1 @2: 0.15099009900990099\n",
      "validation micro-F1 @3: 0.12706270627062707\n",
      "validation micro-F1 @4: 0.11386138613861387\n",
      "validation micro-F1 @5: 0.11782178217821782\n",
      "validation micro-F1 @6: 0.10973597359735973\n",
      "validation micro-F1 @7: 0.10608203677510608\n",
      "validation micro-F1 @8: 0.10086633663366337\n",
      "validation micro-F1 @9: 0.09900990099009901\n",
      "validation micro-F1 @10: 0.09851485148514852\n"
     ]
    },
    {
     "name": "stderr",
     "output_type": "stream",
     "text": [
      "\r",
      " 14%|█▍        | 653/4536 [21:25:16<127:22:48, 118.10s/it]"
     ]
    },
    {
     "name": "stdout",
     "output_type": "stream",
     "text": [
      "iter: 652, configuration: {'vectorizer_norm': 'l2', 'svm_degree': 3, 'medoid_normalization': 'standard', 'svm_kernel': 'poly', 'nb_medoids_ratio': 0.3, 'svm_gamma': 0.1, 'svm_c': 0.1}\n",
      "\n",
      "validation micro-F1 @1: 0.13366336633663367\n",
      "validation micro-F1 @2: 0.15841584158415842\n",
      "validation micro-F1 @3: 0.13036303630363036\n",
      "validation micro-F1 @4: 0.11386138613861387\n",
      "validation micro-F1 @5: 0.1099009900990099\n",
      "validation micro-F1 @6: 0.10726072607260725\n",
      "validation micro-F1 @7: 0.10254596888260255\n",
      "validation micro-F1 @8: 0.10086633663366337\n",
      "validation micro-F1 @9: 0.09790979097909791\n",
      "validation micro-F1 @10: 0.09554455445544555\n"
     ]
    },
    {
     "name": "stderr",
     "output_type": "stream",
     "text": [
      "\r",
      " 14%|█▍        | 654/4536 [21:27:54<127:24:41, 118.16s/it]"
     ]
    },
    {
     "name": "stdout",
     "output_type": "stream",
     "text": [
      "iter: 653, configuration: {'vectorizer_norm': None, 'svm_degree': 3, 'medoid_normalization': 'standard', 'svm_kernel': 'poly', 'nb_medoids_ratio': 0.3, 'svm_gamma': 0.1, 'svm_c': 0.1}\n",
      "\n",
      "validation micro-F1 @1: 0.14356435643564355\n",
      "validation micro-F1 @2: 0.14603960396039603\n",
      "validation micro-F1 @3: 0.12706270627062707\n",
      "validation micro-F1 @4: 0.1051980198019802\n",
      "validation micro-F1 @5: 0.10693069306930693\n",
      "validation micro-F1 @6: 0.10231023102310231\n",
      "validation micro-F1 @7: 0.10466760961810467\n",
      "validation micro-F1 @8: 0.10024752475247525\n",
      "validation micro-F1 @9: 0.1001100110011001\n",
      "validation micro-F1 @10: 0.09405940594059406\n"
     ]
    },
    {
     "name": "stderr",
     "output_type": "stream",
     "text": [
      "\r",
      " 14%|█▍        | 655/4536 [21:29:10<127:18:38, 118.09s/it]"
     ]
    },
    {
     "name": "stdout",
     "output_type": "stream",
     "text": [
      "iter: 654, configuration: {'vectorizer_norm': 'l1', 'svm_degree': 3, 'medoid_normalization': 'standard', 'svm_kernel': 'rbf', 'nb_medoids_ratio': 0.3, 'svm_gamma': 0.2, 'svm_c': 0.1}\n",
      "\n",
      "validation micro-F1 @1: 0.13366336633663367\n",
      "validation micro-F1 @2: 0.13366336633663367\n",
      "validation micro-F1 @3: 0.12706270627062707\n",
      "validation micro-F1 @4: 0.11138613861386139\n",
      "validation micro-F1 @5: 0.10792079207920792\n",
      "validation micro-F1 @6: 0.11056105610561057\n",
      "validation micro-F1 @7: 0.10891089108910891\n",
      "validation micro-F1 @8: 0.10705445544554455\n",
      "validation micro-F1 @9: 0.10121012101210121\n",
      "validation micro-F1 @10: 0.1004950495049505\n"
     ]
    },
    {
     "name": "stderr",
     "output_type": "stream",
     "text": [
      "\r",
      " 14%|█▍        | 656/4536 [21:31:13<127:17:09, 118.10s/it]"
     ]
    },
    {
     "name": "stdout",
     "output_type": "stream",
     "text": [
      "iter: 655, configuration: {'vectorizer_norm': 'l2', 'svm_degree': 3, 'medoid_normalization': 'standard', 'svm_kernel': 'rbf', 'nb_medoids_ratio': 0.3, 'svm_gamma': 0.2, 'svm_c': 0.1}\n",
      "\n",
      "validation micro-F1 @1: 0.14356435643564355\n",
      "validation micro-F1 @2: 0.15594059405940594\n",
      "validation micro-F1 @3: 0.13366336633663367\n",
      "validation micro-F1 @4: 0.1188118811881188\n",
      "validation micro-F1 @5: 0.11386138613861387\n",
      "validation micro-F1 @6: 0.11056105610561057\n",
      "validation micro-F1 @7: 0.10254596888260255\n",
      "validation micro-F1 @8: 0.10148514851485149\n",
      "validation micro-F1 @9: 0.1001100110011001\n",
      "validation micro-F1 @10: 0.09603960396039604\n"
     ]
    },
    {
     "name": "stderr",
     "output_type": "stream",
     "text": [
      "\r",
      " 14%|█▍        | 657/4536 [21:41:08<128:02:05, 118.83s/it]"
     ]
    },
    {
     "name": "stdout",
     "output_type": "stream",
     "text": [
      "iter: 656, configuration: {'vectorizer_norm': None, 'svm_degree': 3, 'medoid_normalization': 'standard', 'svm_kernel': 'rbf', 'nb_medoids_ratio': 0.3, 'svm_gamma': 0.2, 'svm_c': 0.1}\n",
      "\n",
      "validation micro-F1 @1: 0.13861386138613863\n",
      "validation micro-F1 @2: 0.15099009900990099\n",
      "validation micro-F1 @3: 0.12871287128712872\n",
      "validation micro-F1 @4: 0.11386138613861387\n",
      "validation micro-F1 @5: 0.10495049504950495\n",
      "validation micro-F1 @6: 0.09818481848184818\n",
      "validation micro-F1 @7: 0.09688826025459689\n",
      "validation micro-F1 @8: 0.09653465346534654\n",
      "validation micro-F1 @9: 0.09900990099009901\n",
      "validation micro-F1 @10: 0.09405940594059406\n"
     ]
    },
    {
     "name": "stderr",
     "output_type": "stream",
     "text": [
      "\r",
      " 15%|█▍        | 658/4536 [21:42:52<127:58:36, 118.80s/it]"
     ]
    },
    {
     "name": "stdout",
     "output_type": "stream",
     "text": [
      "iter: 657, configuration: {'vectorizer_norm': 'l1', 'svm_degree': 3, 'medoid_normalization': 'standard', 'svm_kernel': 'poly', 'nb_medoids_ratio': 0.3, 'svm_gamma': 0.2, 'svm_c': 0.1}\n",
      "\n",
      "validation micro-F1 @1: 0.14356435643564355\n",
      "validation micro-F1 @2: 0.1311881188118812\n",
      "validation micro-F1 @3: 0.12871287128712872\n",
      "validation micro-F1 @4: 0.11386138613861387\n",
      "validation micro-F1 @5: 0.10792079207920792\n",
      "validation micro-F1 @6: 0.10891089108910891\n",
      "validation micro-F1 @7: 0.1082036775106082\n",
      "validation micro-F1 @8: 0.10457920792079207\n",
      "validation micro-F1 @9: 0.1001100110011001\n",
      "validation micro-F1 @10: 0.09950495049504951\n"
     ]
    },
    {
     "name": "stderr",
     "output_type": "stream",
     "text": [
      "\r",
      " 15%|█▍        | 659/4536 [21:45:18<127:59:19, 118.84s/it]"
     ]
    },
    {
     "name": "stdout",
     "output_type": "stream",
     "text": [
      "iter: 658, configuration: {'vectorizer_norm': 'l2', 'svm_degree': 3, 'medoid_normalization': 'standard', 'svm_kernel': 'poly', 'nb_medoids_ratio': 0.3, 'svm_gamma': 0.2, 'svm_c': 0.1}\n",
      "\n",
      "validation micro-F1 @1: 0.14356435643564355\n",
      "validation micro-F1 @2: 0.15346534653465346\n",
      "validation micro-F1 @3: 0.13036303630363036\n",
      "validation micro-F1 @4: 0.11138613861386139\n",
      "validation micro-F1 @5: 0.10495049504950495\n",
      "validation micro-F1 @6: 0.10313531353135313\n",
      "validation micro-F1 @7: 0.10113154172560113\n",
      "validation micro-F1 @8: 0.0983910891089109\n",
      "validation micro-F1 @9: 0.09625962596259625\n",
      "validation micro-F1 @10: 0.09554455445544555\n"
     ]
    },
    {
     "name": "stderr",
     "output_type": "stream",
     "text": [
      "\r",
      " 15%|█▍        | 660/4536 [21:47:53<128:00:52, 118.90s/it]"
     ]
    },
    {
     "name": "stdout",
     "output_type": "stream",
     "text": [
      "iter: 659, configuration: {'vectorizer_norm': None, 'svm_degree': 3, 'medoid_normalization': 'standard', 'svm_kernel': 'poly', 'nb_medoids_ratio': 0.3, 'svm_gamma': 0.2, 'svm_c': 0.1}\n",
      "\n",
      "validation micro-F1 @1: 0.13366336633663367\n",
      "validation micro-F1 @2: 0.1485148514851485\n",
      "validation micro-F1 @3: 0.13036303630363036\n",
      "validation micro-F1 @4: 0.11386138613861387\n",
      "validation micro-F1 @5: 0.10594059405940594\n",
      "validation micro-F1 @6: 0.10148514851485149\n",
      "validation micro-F1 @7: 0.10183875530410184\n",
      "validation micro-F1 @8: 0.09962871287128713\n",
      "validation micro-F1 @9: 0.09900990099009901\n",
      "validation micro-F1 @10: 0.09603960396039604\n"
     ]
    },
    {
     "name": "stderr",
     "output_type": "stream",
     "text": [
      "\r",
      " 15%|█▍        | 661/4536 [21:49:19<127:55:41, 118.85s/it]"
     ]
    },
    {
     "name": "stdout",
     "output_type": "stream",
     "text": [
      "iter: 660, configuration: {'vectorizer_norm': 'l1', 'svm_degree': 3, 'medoid_normalization': 'standard', 'svm_kernel': 'rbf', 'nb_medoids_ratio': 0.3, 'svm_gamma': 0.3, 'svm_c': 0.1}\n",
      "\n",
      "validation micro-F1 @1: 0.10396039603960396\n",
      "validation micro-F1 @2: 0.12623762376237624\n",
      "validation micro-F1 @3: 0.12046204620462046\n",
      "validation micro-F1 @4: 0.11386138613861387\n",
      "validation micro-F1 @5: 0.11584158415841585\n",
      "validation micro-F1 @6: 0.10891089108910891\n",
      "validation micro-F1 @7: 0.10466760961810467\n",
      "validation micro-F1 @8: 0.10086633663366337\n",
      "validation micro-F1 @9: 0.09900990099009901\n",
      "validation micro-F1 @10: 0.09801980198019802\n"
     ]
    },
    {
     "name": "stderr",
     "output_type": "stream",
     "text": [
      "\r",
      " 15%|█▍        | 662/4536 [21:51:37<127:55:32, 118.88s/it]"
     ]
    },
    {
     "name": "stdout",
     "output_type": "stream",
     "text": [
      "iter: 661, configuration: {'vectorizer_norm': 'l2', 'svm_degree': 3, 'medoid_normalization': 'standard', 'svm_kernel': 'rbf', 'nb_medoids_ratio': 0.3, 'svm_gamma': 0.3, 'svm_c': 0.1}\n",
      "\n",
      "validation micro-F1 @1: 0.13861386138613863\n",
      "validation micro-F1 @2: 0.12623762376237624\n",
      "validation micro-F1 @3: 0.12046204620462046\n",
      "validation micro-F1 @4: 0.11757425742574257\n",
      "validation micro-F1 @5: 0.10891089108910891\n",
      "validation micro-F1 @6: 0.10561056105610561\n",
      "validation micro-F1 @7: 0.10325318246110325\n",
      "validation micro-F1 @8: 0.09962871287128713\n",
      "validation micro-F1 @9: 0.09900990099009901\n",
      "validation micro-F1 @10: 0.09356435643564356\n"
     ]
    },
    {
     "name": "stderr",
     "output_type": "stream",
     "text": [
      "\r",
      " 15%|█▍        | 663/4536 [22:01:28<128:39:31, 119.59s/it]"
     ]
    },
    {
     "name": "stdout",
     "output_type": "stream",
     "text": [
      "iter: 662, configuration: {'vectorizer_norm': None, 'svm_degree': 3, 'medoid_normalization': 'standard', 'svm_kernel': 'rbf', 'nb_medoids_ratio': 0.3, 'svm_gamma': 0.3, 'svm_c': 0.1}\n",
      "\n",
      "validation micro-F1 @1: 0.13861386138613863\n",
      "validation micro-F1 @2: 0.15099009900990099\n",
      "validation micro-F1 @3: 0.12871287128712872\n",
      "validation micro-F1 @4: 0.11386138613861387\n",
      "validation micro-F1 @5: 0.10495049504950495\n",
      "validation micro-F1 @6: 0.09818481848184818\n",
      "validation micro-F1 @7: 0.09688826025459689\n",
      "validation micro-F1 @8: 0.09962871287128713\n",
      "validation micro-F1 @9: 0.09900990099009901\n",
      "validation micro-F1 @10: 0.09405940594059406\n"
     ]
    },
    {
     "name": "stderr",
     "output_type": "stream",
     "text": [
      "\r",
      " 15%|█▍        | 664/4536 [22:03:17<128:36:32, 119.57s/it]"
     ]
    },
    {
     "name": "stdout",
     "output_type": "stream",
     "text": [
      "iter: 663, configuration: {'vectorizer_norm': 'l1', 'svm_degree': 3, 'medoid_normalization': 'standard', 'svm_kernel': 'poly', 'nb_medoids_ratio': 0.3, 'svm_gamma': 0.3, 'svm_c': 0.1}\n",
      "\n",
      "validation micro-F1 @1: 0.13366336633663367\n",
      "validation micro-F1 @2: 0.15099009900990099\n",
      "validation micro-F1 @3: 0.1353135313531353\n",
      "validation micro-F1 @4: 0.1188118811881188\n",
      "validation micro-F1 @5: 0.11386138613861387\n",
      "validation micro-F1 @6: 0.11056105610561057\n",
      "validation micro-F1 @7: 0.1082036775106082\n",
      "validation micro-F1 @8: 0.10581683168316831\n",
      "validation micro-F1 @9: 0.09790979097909791\n",
      "validation micro-F1 @10: 0.09752475247524753\n"
     ]
    },
    {
     "name": "stderr",
     "output_type": "stream",
     "text": [
      "\r",
      " 15%|█▍        | 665/4536 [22:05:47<128:37:29, 119.62s/it]"
     ]
    },
    {
     "name": "stdout",
     "output_type": "stream",
     "text": [
      "iter: 664, configuration: {'vectorizer_norm': 'l2', 'svm_degree': 3, 'medoid_normalization': 'standard', 'svm_kernel': 'poly', 'nb_medoids_ratio': 0.3, 'svm_gamma': 0.3, 'svm_c': 0.1}\n",
      "\n",
      "validation micro-F1 @1: 0.14356435643564355\n",
      "validation micro-F1 @2: 0.13613861386138615\n",
      "validation micro-F1 @3: 0.132013201320132\n",
      "validation micro-F1 @4: 0.1150990099009901\n",
      "validation micro-F1 @5: 0.11188118811881188\n",
      "validation micro-F1 @6: 0.10148514851485149\n",
      "validation micro-F1 @7: 0.10254596888260255\n",
      "validation micro-F1 @8: 0.09653465346534654\n",
      "validation micro-F1 @9: 0.09295929592959296\n",
      "validation micro-F1 @10: 0.09504950495049505\n"
     ]
    },
    {
     "name": "stderr",
     "output_type": "stream",
     "text": [
      "\r",
      " 15%|█▍        | 666/4536 [22:08:13<128:38:02, 119.66s/it]"
     ]
    },
    {
     "name": "stdout",
     "output_type": "stream",
     "text": [
      "iter: 665, configuration: {'vectorizer_norm': None, 'svm_degree': 3, 'medoid_normalization': 'standard', 'svm_kernel': 'poly', 'nb_medoids_ratio': 0.3, 'svm_gamma': 0.3, 'svm_c': 0.1}\n",
      "\n",
      "validation micro-F1 @1: 0.14356435643564355\n",
      "validation micro-F1 @2: 0.14356435643564355\n",
      "validation micro-F1 @3: 0.12706270627062707\n",
      "validation micro-F1 @4: 0.11262376237623763\n",
      "validation micro-F1 @5: 0.11089108910891089\n",
      "validation micro-F1 @6: 0.10148514851485149\n",
      "validation micro-F1 @7: 0.10113154172560113\n",
      "validation micro-F1 @8: 0.09900990099009901\n",
      "validation micro-F1 @9: 0.09570957095709572\n",
      "validation micro-F1 @10: 0.09158415841584158\n"
     ]
    },
    {
     "name": "stderr",
     "output_type": "stream",
     "text": [
      "\r",
      " 15%|█▍        | 667/4536 [22:09:46<128:33:31, 119.62s/it]"
     ]
    },
    {
     "name": "stdout",
     "output_type": "stream",
     "text": [
      "iter: 666, configuration: {'vectorizer_norm': 'l1', 'svm_degree': 3, 'medoid_normalization': 'standard', 'svm_kernel': 'rbf', 'nb_medoids_ratio': 0.3, 'svm_gamma': 0.5, 'svm_c': 0.1}\n",
      "\n",
      "validation micro-F1 @1: 0.12376237623762376\n",
      "validation micro-F1 @2: 0.14603960396039603\n",
      "validation micro-F1 @3: 0.1254125412541254\n",
      "validation micro-F1 @4: 0.11014851485148515\n",
      "validation micro-F1 @5: 0.1099009900990099\n",
      "validation micro-F1 @6: 0.10808580858085809\n",
      "validation micro-F1 @7: 0.10678925035360678\n",
      "validation micro-F1 @8: 0.1021039603960396\n",
      "validation micro-F1 @9: 0.09735973597359736\n",
      "validation micro-F1 @10: 0.09356435643564356\n"
     ]
    },
    {
     "name": "stderr",
     "output_type": "stream",
     "text": [
      "\r",
      " 15%|█▍        | 668/4536 [22:12:29<128:35:42, 119.69s/it]"
     ]
    },
    {
     "name": "stdout",
     "output_type": "stream",
     "text": [
      "iter: 667, configuration: {'vectorizer_norm': 'l2', 'svm_degree': 3, 'medoid_normalization': 'standard', 'svm_kernel': 'rbf', 'nb_medoids_ratio': 0.3, 'svm_gamma': 0.5, 'svm_c': 0.1}\n",
      "\n",
      "validation micro-F1 @1: 0.16336633663366337\n",
      "validation micro-F1 @2: 0.12871287128712872\n",
      "validation micro-F1 @3: 0.12211221122112212\n",
      "validation micro-F1 @4: 0.12004950495049505\n",
      "validation micro-F1 @5: 0.11386138613861387\n",
      "validation micro-F1 @6: 0.10973597359735973\n",
      "validation micro-F1 @7: 0.10608203677510608\n",
      "validation micro-F1 @8: 0.10272277227722772\n",
      "validation micro-F1 @9: 0.1001100110011001\n",
      "validation micro-F1 @10: 0.09603960396039604\n"
     ]
    },
    {
     "name": "stderr",
     "output_type": "stream",
     "text": [
      "\r",
      " 15%|█▍        | 669/4536 [22:22:14<129:18:28, 120.38s/it]"
     ]
    },
    {
     "name": "stdout",
     "output_type": "stream",
     "text": [
      "iter: 668, configuration: {'vectorizer_norm': None, 'svm_degree': 3, 'medoid_normalization': 'standard', 'svm_kernel': 'rbf', 'nb_medoids_ratio': 0.3, 'svm_gamma': 0.5, 'svm_c': 0.1}\n",
      "\n",
      "validation micro-F1 @1: 0.13861386138613863\n",
      "validation micro-F1 @2: 0.15099009900990099\n",
      "validation micro-F1 @3: 0.12871287128712872\n",
      "validation micro-F1 @4: 0.11386138613861387\n",
      "validation micro-F1 @5: 0.10495049504950495\n",
      "validation micro-F1 @6: 0.09818481848184818\n",
      "validation micro-F1 @7: 0.10113154172560113\n",
      "validation micro-F1 @8: 0.10024752475247525\n",
      "validation micro-F1 @9: 0.09900990099009901\n",
      "validation micro-F1 @10: 0.09603960396039604\n"
     ]
    },
    {
     "name": "stderr",
     "output_type": "stream",
     "text": [
      "\r",
      " 15%|█▍        | 670/4536 [22:24:12<129:16:14, 120.38s/it]"
     ]
    },
    {
     "name": "stdout",
     "output_type": "stream",
     "text": [
      "iter: 669, configuration: {'vectorizer_norm': 'l1', 'svm_degree': 3, 'medoid_normalization': 'standard', 'svm_kernel': 'poly', 'nb_medoids_ratio': 0.3, 'svm_gamma': 0.5, 'svm_c': 0.1}\n",
      "\n",
      "validation micro-F1 @1: 0.13861386138613863\n",
      "validation micro-F1 @2: 0.14356435643564355\n",
      "validation micro-F1 @3: 0.12211221122112212\n",
      "validation micro-F1 @4: 0.1150990099009901\n",
      "validation micro-F1 @5: 0.10495049504950495\n",
      "validation micro-F1 @6: 0.10396039603960396\n",
      "validation micro-F1 @7: 0.10396039603960396\n",
      "validation micro-F1 @8: 0.10272277227722772\n",
      "validation micro-F1 @9: 0.09625962596259625\n",
      "validation micro-F1 @10: 0.09603960396039604\n"
     ]
    },
    {
     "name": "stderr",
     "output_type": "stream",
     "text": [
      "\r",
      " 15%|█▍        | 671/4536 [22:26:40<129:16:55, 120.42s/it]"
     ]
    },
    {
     "name": "stdout",
     "output_type": "stream",
     "text": [
      "iter: 670, configuration: {'vectorizer_norm': 'l2', 'svm_degree': 3, 'medoid_normalization': 'standard', 'svm_kernel': 'poly', 'nb_medoids_ratio': 0.3, 'svm_gamma': 0.5, 'svm_c': 0.1}\n",
      "\n",
      "validation micro-F1 @1: 0.14356435643564355\n",
      "validation micro-F1 @2: 0.15841584158415842\n",
      "validation micro-F1 @3: 0.132013201320132\n",
      "validation micro-F1 @4: 0.12004950495049505\n",
      "validation micro-F1 @5: 0.10594059405940594\n",
      "validation micro-F1 @6: 0.10313531353135313\n",
      "validation micro-F1 @7: 0.10113154172560113\n",
      "validation micro-F1 @8: 0.09962871287128713\n",
      "validation micro-F1 @9: 0.09900990099009901\n",
      "validation micro-F1 @10: 0.09455445544554456\n"
     ]
    },
    {
     "name": "stderr",
     "output_type": "stream",
     "text": [
      "\r",
      " 15%|█▍        | 672/4536 [22:29:16<129:18:18, 120.47s/it]"
     ]
    },
    {
     "name": "stdout",
     "output_type": "stream",
     "text": [
      "iter: 671, configuration: {'vectorizer_norm': None, 'svm_degree': 3, 'medoid_normalization': 'standard', 'svm_kernel': 'poly', 'nb_medoids_ratio': 0.3, 'svm_gamma': 0.5, 'svm_c': 0.1}\n",
      "\n",
      "validation micro-F1 @1: 0.1485148514851485\n",
      "validation micro-F1 @2: 0.14108910891089108\n",
      "validation micro-F1 @3: 0.12376237623762376\n",
      "validation micro-F1 @4: 0.11386138613861387\n",
      "validation micro-F1 @5: 0.10495049504950495\n",
      "validation micro-F1 @6: 0.10478547854785479\n",
      "validation micro-F1 @7: 0.10183875530410184\n",
      "validation micro-F1 @8: 0.09962871287128713\n",
      "validation micro-F1 @9: 0.09515951595159516\n",
      "validation micro-F1 @10: 0.09158415841584158\n"
     ]
    },
    {
     "name": "stderr",
     "output_type": "stream",
     "text": [
      "\r",
      " 15%|█▍        | 673/4536 [22:31:02<129:14:58, 120.45s/it]"
     ]
    },
    {
     "name": "stdout",
     "output_type": "stream",
     "text": [
      "iter: 672, configuration: {'vectorizer_norm': 'l1', 'svm_degree': 3, 'medoid_normalization': 'standard', 'svm_kernel': 'rbf', 'nb_medoids_ratio': 0.3, 'svm_gamma': 1.0, 'svm_c': 0.1}\n",
      "\n",
      "validation micro-F1 @1: 0.16336633663366337\n",
      "validation micro-F1 @2: 0.13861386138613863\n",
      "validation micro-F1 @3: 0.12046204620462046\n",
      "validation micro-F1 @4: 0.1150990099009901\n",
      "validation micro-F1 @5: 0.10891089108910891\n",
      "validation micro-F1 @6: 0.10396039603960396\n",
      "validation micro-F1 @7: 0.10254596888260255\n",
      "validation micro-F1 @8: 0.10334158415841584\n",
      "validation micro-F1 @9: 0.09900990099009901\n",
      "validation micro-F1 @10: 0.09752475247524753\n"
     ]
    },
    {
     "name": "stderr",
     "output_type": "stream",
     "text": [
      "\r",
      " 15%|█▍        | 674/4536 [22:34:40<129:22:13, 120.59s/it]"
     ]
    },
    {
     "name": "stdout",
     "output_type": "stream",
     "text": [
      "iter: 673, configuration: {'vectorizer_norm': 'l2', 'svm_degree': 3, 'medoid_normalization': 'standard', 'svm_kernel': 'rbf', 'nb_medoids_ratio': 0.3, 'svm_gamma': 1.0, 'svm_c': 0.1}\n",
      "\n",
      "validation micro-F1 @1: 0.17326732673267325\n",
      "validation micro-F1 @2: 0.12376237623762376\n",
      "validation micro-F1 @3: 0.10726072607260725\n",
      "validation micro-F1 @4: 0.10767326732673267\n",
      "validation micro-F1 @5: 0.10396039603960396\n",
      "validation micro-F1 @6: 0.10148514851485149\n",
      "validation micro-F1 @7: 0.09688826025459689\n",
      "validation micro-F1 @8: 0.09096534653465346\n",
      "validation micro-F1 @9: 0.08800880088008801\n",
      "validation micro-F1 @10: 0.08514851485148515\n"
     ]
    },
    {
     "name": "stderr",
     "output_type": "stream",
     "text": [
      "\r",
      " 15%|█▍        | 675/4536 [22:44:18<130:03:53, 121.27s/it]"
     ]
    },
    {
     "name": "stdout",
     "output_type": "stream",
     "text": [
      "iter: 674, configuration: {'vectorizer_norm': None, 'svm_degree': 3, 'medoid_normalization': 'standard', 'svm_kernel': 'rbf', 'nb_medoids_ratio': 0.3, 'svm_gamma': 1.0, 'svm_c': 0.1}\n",
      "\n",
      "validation micro-F1 @1: 0.13861386138613863\n",
      "validation micro-F1 @2: 0.15099009900990099\n",
      "validation micro-F1 @3: 0.12871287128712872\n",
      "validation micro-F1 @4: 0.11386138613861387\n",
      "validation micro-F1 @5: 0.10495049504950495\n",
      "validation micro-F1 @6: 0.09818481848184818\n",
      "validation micro-F1 @7: 0.09688826025459689\n",
      "validation micro-F1 @8: 0.09653465346534654\n",
      "validation micro-F1 @9: 0.09900990099009901\n",
      "validation micro-F1 @10: 0.09405940594059406\n"
     ]
    },
    {
     "name": "stderr",
     "output_type": "stream",
     "text": [
      "\r",
      " 15%|█▍        | 676/4536 [22:46:27<130:02:32, 121.28s/it]"
     ]
    },
    {
     "name": "stdout",
     "output_type": "stream",
     "text": [
      "iter: 675, configuration: {'vectorizer_norm': 'l1', 'svm_degree': 3, 'medoid_normalization': 'standard', 'svm_kernel': 'poly', 'nb_medoids_ratio': 0.3, 'svm_gamma': 1.0, 'svm_c': 0.1}\n",
      "\n",
      "validation micro-F1 @1: 0.12376237623762376\n",
      "validation micro-F1 @2: 0.14356435643564355\n",
      "validation micro-F1 @3: 0.12871287128712872\n",
      "validation micro-F1 @4: 0.1188118811881188\n",
      "validation micro-F1 @5: 0.10495049504950495\n",
      "validation micro-F1 @6: 0.10396039603960396\n",
      "validation micro-F1 @7: 0.10396039603960396\n",
      "validation micro-F1 @8: 0.10024752475247525\n",
      "validation micro-F1 @9: 0.1001100110011001\n",
      "validation micro-F1 @10: 0.09752475247524753\n"
     ]
    },
    {
     "name": "stderr",
     "output_type": "stream",
     "text": [
      "\r",
      " 15%|█▍        | 677/4536 [22:48:55<130:03:02, 121.32s/it]"
     ]
    },
    {
     "name": "stdout",
     "output_type": "stream",
     "text": [
      "iter: 676, configuration: {'vectorizer_norm': 'l2', 'svm_degree': 3, 'medoid_normalization': 'standard', 'svm_kernel': 'poly', 'nb_medoids_ratio': 0.3, 'svm_gamma': 1.0, 'svm_c': 0.1}\n",
      "\n",
      "validation micro-F1 @1: 0.14356435643564355\n",
      "validation micro-F1 @2: 0.15099009900990099\n",
      "validation micro-F1 @3: 0.1254125412541254\n",
      "validation micro-F1 @4: 0.1150990099009901\n",
      "validation micro-F1 @5: 0.10693069306930693\n",
      "validation micro-F1 @6: 0.10313531353135313\n",
      "validation micro-F1 @7: 0.09900990099009901\n",
      "validation micro-F1 @8: 0.0983910891089109\n",
      "validation micro-F1 @9: 0.09845984598459846\n",
      "validation micro-F1 @10: 0.09702970297029703\n"
     ]
    },
    {
     "name": "stderr",
     "output_type": "stream",
     "text": [
      "\r",
      " 15%|█▍        | 678/4536 [22:51:24<130:03:43, 121.36s/it]"
     ]
    },
    {
     "name": "stdout",
     "output_type": "stream",
     "text": [
      "iter: 677, configuration: {'vectorizer_norm': None, 'svm_degree': 3, 'medoid_normalization': 'standard', 'svm_kernel': 'poly', 'nb_medoids_ratio': 0.3, 'svm_gamma': 1.0, 'svm_c': 0.1}\n",
      "\n",
      "validation micro-F1 @1: 0.15346534653465346\n",
      "validation micro-F1 @2: 0.14356435643564355\n",
      "validation micro-F1 @3: 0.1254125412541254\n",
      "validation micro-F1 @4: 0.11386138613861387\n",
      "validation micro-F1 @5: 0.10594059405940594\n",
      "validation micro-F1 @6: 0.10066006600660066\n",
      "validation micro-F1 @7: 0.10254596888260255\n",
      "validation micro-F1 @8: 0.10086633663366337\n",
      "validation micro-F1 @9: 0.09900990099009901\n",
      "validation micro-F1 @10: 0.09504950495049505\n"
     ]
    },
    {
     "name": "stderr",
     "output_type": "stream",
     "text": [
      "\r",
      " 15%|█▍        | 679/4536 [22:52:11<129:54:35, 121.25s/it]"
     ]
    },
    {
     "name": "stdout",
     "output_type": "stream",
     "text": [
      "iter: 678, configuration: {'vectorizer_norm': 'l1', 'svm_degree': 3, 'medoid_normalization': 'standard', 'svm_kernel': 'rbf', 'nb_medoids_ratio': 0.3, 'svm_gamma': 'auto', 'svm_c': 0.1}\n",
      "\n",
      "validation micro-F1 @1: 0.024752475247524754\n",
      "validation micro-F1 @2: 0.06435643564356436\n",
      "validation micro-F1 @3: 0.06765676567656766\n",
      "validation micro-F1 @4: 0.07178217821782178\n",
      "validation micro-F1 @5: 0.07326732673267326\n",
      "validation micro-F1 @6: 0.07260726072607261\n",
      "validation micro-F1 @7: 0.07142857142857142\n",
      "validation micro-F1 @8: 0.07054455445544554\n",
      "validation micro-F1 @9: 0.06985698569856985\n",
      "validation micro-F1 @10: 0.0702970297029703\n"
     ]
    },
    {
     "name": "stderr",
     "output_type": "stream",
     "text": [
      "\r",
      " 15%|█▍        | 680/4536 [22:52:59<129:45:39, 121.15s/it]"
     ]
    },
    {
     "name": "stdout",
     "output_type": "stream",
     "text": [
      "iter: 679, configuration: {'vectorizer_norm': 'l2', 'svm_degree': 3, 'medoid_normalization': 'standard', 'svm_kernel': 'rbf', 'nb_medoids_ratio': 0.3, 'svm_gamma': 'auto', 'svm_c': 0.1}\n",
      "\n",
      "validation micro-F1 @1: 0.09405940594059406\n",
      "validation micro-F1 @2: 0.11386138613861387\n",
      "validation micro-F1 @3: 0.12046204620462046\n",
      "validation micro-F1 @4: 0.10767326732673267\n",
      "validation micro-F1 @5: 0.100990099009901\n",
      "validation micro-F1 @6: 0.09488448844884488\n",
      "validation micro-F1 @7: 0.09193776520509193\n",
      "validation micro-F1 @8: 0.0922029702970297\n",
      "validation micro-F1 @9: 0.0891089108910891\n",
      "validation micro-F1 @10: 0.08861386138613861\n"
     ]
    },
    {
     "name": "stderr",
     "output_type": "stream",
     "text": [
      "\r",
      " 15%|█▌        | 681/4536 [22:57:42<129:58:56, 121.38s/it]"
     ]
    },
    {
     "name": "stdout",
     "output_type": "stream",
     "text": [
      "iter: 680, configuration: {'vectorizer_norm': None, 'svm_degree': 3, 'medoid_normalization': 'standard', 'svm_kernel': 'rbf', 'nb_medoids_ratio': 0.3, 'svm_gamma': 'auto', 'svm_c': 0.1}\n",
      "\n",
      "validation micro-F1 @1: 0.06930693069306931\n",
      "validation micro-F1 @2: 0.0891089108910891\n",
      "validation micro-F1 @3: 0.10066006600660066\n",
      "validation micro-F1 @4: 0.10767326732673267\n",
      "validation micro-F1 @5: 0.100990099009901\n",
      "validation micro-F1 @6: 0.10231023102310231\n",
      "validation micro-F1 @7: 0.09688826025459689\n",
      "validation micro-F1 @8: 0.09467821782178218\n",
      "validation micro-F1 @9: 0.09405940594059406\n",
      "validation micro-F1 @10: 0.0900990099009901\n"
     ]
    },
    {
     "name": "stderr",
     "output_type": "stream",
     "text": [
      "\r",
      " 15%|█▌        | 682/4536 [22:58:23<129:49:21, 121.27s/it]"
     ]
    },
    {
     "name": "stdout",
     "output_type": "stream",
     "text": [
      "iter: 681, configuration: {'vectorizer_norm': 'l1', 'svm_degree': 3, 'medoid_normalization': 'standard', 'svm_kernel': 'poly', 'nb_medoids_ratio': 0.3, 'svm_gamma': 'auto', 'svm_c': 0.1}\n",
      "\n",
      "validation micro-F1 @1: 0.009900990099009901\n",
      "validation micro-F1 @2: 0.034653465346534656\n",
      "validation micro-F1 @3: 0.05115511551155116\n",
      "validation micro-F1 @4: 0.07301980198019802\n",
      "validation micro-F1 @5: 0.07326732673267326\n",
      "validation micro-F1 @6: 0.08168316831683169\n",
      "validation micro-F1 @7: 0.0785007072135785\n",
      "validation micro-F1 @8: 0.07797029702970297\n",
      "validation micro-F1 @9: 0.08085808580858085\n",
      "validation micro-F1 @10: 0.07673267326732673\n"
     ]
    },
    {
     "name": "stderr",
     "output_type": "stream",
     "text": [
      "\r",
      " 15%|█▌        | 683/4536 [22:59:26<129:41:50, 121.18s/it]"
     ]
    },
    {
     "name": "stdout",
     "output_type": "stream",
     "text": [
      "iter: 682, configuration: {'vectorizer_norm': 'l2', 'svm_degree': 3, 'medoid_normalization': 'standard', 'svm_kernel': 'poly', 'nb_medoids_ratio': 0.3, 'svm_gamma': 'auto', 'svm_c': 0.1}\n",
      "\n",
      "validation micro-F1 @1: 0.13861386138613863\n",
      "validation micro-F1 @2: 0.12623762376237624\n",
      "validation micro-F1 @3: 0.13036303630363036\n",
      "validation micro-F1 @4: 0.12623762376237624\n",
      "validation micro-F1 @5: 0.11782178217821782\n",
      "validation micro-F1 @6: 0.10973597359735973\n",
      "validation micro-F1 @7: 0.10678925035360678\n",
      "validation micro-F1 @8: 0.10148514851485149\n",
      "validation micro-F1 @9: 0.10121012101210121\n",
      "validation micro-F1 @10: 0.09603960396039604\n"
     ]
    }
   ],
   "source": [
    "best_score = float(\"-inf\")\n",
    "best_configuration = None\n",
    "\n",
    "for (i,configuration) in enumerate(tqdm(ParameterGrid(parameters))):\n",
    "    \n",
    "    # TFIDF_VECTORIZER = COUNT_VECTORIZER + TFIDF_TRANSFORMER\n",
    "    \n",
    "    tfidf_vectorizer = TfidfVectorizer(max_features=MAX_NB_WORDS, norm=configuration['vectorizer_norm'])\n",
    "    # TRAINING SET\n",
    "    tfidf_vectorizer.fit(documents_train)\n",
    "    tfidf_segments_train = vectorize_segments(segments_train, tfidf_vectorizer)\n",
    "        \n",
    "    \n",
    "    # THE FOLLOWING BLOCK TAKES SOME TIME, BUT IT WILL ONLY RUN ONCE\n",
    "    \n",
    "    path_to_cache = INTERIM_DATA_ROOT.rstrip('/') + \"/mimlsvm/distance-matrix-train-sample-{}-{}-{}.p\".format(\n",
    "        NB_DOCS,\n",
    "        MAX_NB_WORDS,\n",
    "        configuration['vectorizer_norm'])\n",
    "    \n",
    "    if os.path.isfile(path_to_cache):\n",
    "        dist_matrix_train = pickle.load(open(path_to_cache,\"rb\"))\n",
    "    else:\n",
    "        print('Fitting distance matrix for norm={}'.format(configuration['vectorizer_norm']))\n",
    "        \n",
    "        dist_matrix_train = make_distance_matrix_for_segments(tfidf_segments_train)\n",
    "        pickle.dump(dist_matrix_train, open(path_to_cache, \"wb\"))\n",
    "    \n",
    "    # nb_medoids depends upon the dataset length\n",
    "    ratio = configuration['nb_medoids_ratio']\n",
    "    nb_medoids = int(len(tfidf_segments_train) * ratio)\n",
    "    \n",
    "    medoids_indices_train = k_medoids(dist_matrix_train,nb_medoids)[0]\n",
    "\n",
    "    X_train = make_train_dataset(dist_matrix_train,medoids_indices_train)\n",
    "    \n",
    "    # TEST SET\n",
    "    \n",
    "    tfidf_segments_test = vectorize_segments(segments_test, tfidf_vectorizer)\n",
    "          \n",
    "    # medoids trained on the training set\n",
    "    fitted_medoids = tfidf_segments_train[medoids_indices_train]\n",
    "    X_test = make_test_dataset(tfidf_segments_test,fitted_medoids)\n",
    "      \n",
    "    clf = OneVsRestClassifier(\n",
    "        SVC(kernel=configuration['svm_kernel'],\n",
    "            gamma=configuration['svm_gamma'],\n",
    "            C=configuration['svm_c'],\n",
    "            degree=configuration['svm_degree'],\n",
    "            probability=True,\n",
    "           ),n_jobs=-1)    \n",
    "\n",
    "   \n",
    "    \n",
    "    if configuration['medoid_normalization'] == 'standard':      \n",
    "        scaler = StandardScaler()\n",
    "        X_train_final = scaler.fit_transform(X_train)\n",
    "        X_test_final = scaler.transform(X_test)\n",
    "    elif configuration['medoid_normalization'] == 'minmax':\n",
    "        scaler = MinMaxScaler()\n",
    "        X_train_final = scaler.fit_transform(X_train)\n",
    "        X_test_final = scaler.transform(X_test)\n",
    "    else:\n",
    "        X_train_final = X_train\n",
    "        X_test_final = X_test\n",
    "    \n",
    "    # y_train was defined outside the loop    \n",
    "    clf.fit(X_train,Y_train)\n",
    "    \n",
    "    # train score\n",
    "    Y_pred_train = clf.predict_proba(X_train)\n",
    "    \n",
    "    # validation score\n",
    "    Y_pred_test = clf.predict_proba(X_test)  \n",
    "    \n",
    "    print(\"iter: {}, configuration: {}\\n\".format(i,configuration))\n",
    "    \n",
    "    ks = [1,2,3,4,5,6,7,8,9,10]\n",
    "\n",
    "    for k in ks:\n",
    "#         print(\"train micro-F1 @{}: {}\".format(k,ranking.micro_f1_at_k(Y_train,Y_pred_train,k=k,normalize=True)))\n",
    "        print(\"validation micro-F1 @{}: {}\".format(k,ranking.micro_f1_at_k(Y_test,Y_pred_test,k=k,normalize=True)))    "
   ]
  },
  {
   "cell_type": "code",
   "execution_count": null,
   "metadata": {},
   "outputs": [],
   "source": []
  }
 ],
 "metadata": {
  "kernelspec": {
   "display_name": "Python 3",
   "language": "python",
   "name": "python3"
  },
  "language_info": {
   "codemirror_mode": {
    "name": "ipython",
    "version": 3
   },
   "file_extension": ".py",
   "mimetype": "text/x-python",
   "name": "python",
   "nbconvert_exporter": "python",
   "pygments_lexer": "ipython3",
   "version": "3.4.3"
  }
 },
 "nbformat": 4,
 "nbformat_minor": 2
}
