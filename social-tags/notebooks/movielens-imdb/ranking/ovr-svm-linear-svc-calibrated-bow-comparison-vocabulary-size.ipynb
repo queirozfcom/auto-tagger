{
 "cells": [
  {
   "cell_type": "markdown",
   "metadata": {},
   "source": [
    "## ovr-svm"
   ]
  },
  {
   "cell_type": "code",
   "execution_count": 1,
   "metadata": {
    "collapsed": true
   },
   "outputs": [],
   "source": [
    "import pandas as pd\n",
    "import numpy as np\n",
    "import matplotlib.pyplot as plt\n",
    "import gc\n",
    "import nltk\n",
    "import os\n",
    "import re\n",
    "import pickle\n",
    "import sklearn\n",
    "import sys\n",
    "import string\n",
    "\n",
    "from sklearn.metrics import f1_score, precision_score, recall_score,average_precision_score\n",
    "from sklearn.model_selection import cross_val_score, GridSearchCV,ParameterGrid, train_test_split\n",
    "from sklearn.multiclass import OneVsRestClassifier\n",
    "from sklearn.preprocessing import MultiLabelBinarizer, StandardScaler,MinMaxScaler\n",
    "from sklearn.feature_extraction.text import CountVectorizer\n",
    "from sklearn.feature_extraction.text import TfidfTransformer,TfidfVectorizer\n",
    "from sklearn.svm import SVC\n",
    "from sklearn.pipeline import Pipeline\n",
    "from sklearn.svm import LinearSVC, SVC\n",
    "from sklearn.calibration import CalibratedClassifierCV\n",
    "from sklearn.linear_model import LogisticRegression,SGDClassifier\n",
    "\n",
    "from tqdm import *\n",
    "\n",
    "%load_ext autoreload\n",
    "%autoreload 1"
   ]
  },
  {
   "cell_type": "code",
   "execution_count": 2,
   "metadata": {
    "collapsed": true
   },
   "outputs": [],
   "source": [
    "src_dir = os.path.join(os.getcwd(), os.pardir, '../../')\n",
    "sys.path.append(src_dir)"
   ]
  },
  {
   "cell_type": "code",
   "execution_count": 3,
   "metadata": {
    "collapsed": true
   },
   "outputs": [],
   "source": [
    "%aimport src.data.movielens_20m_imdb\n",
    "%aimport src.helpers.labels,src.helpers.neighbours, src.helpers.segments\n",
    "%aimport src.utils.dataframes, src.utils.clusters, src.utils.metrics,src.utils.plotting"
   ]
  },
  {
   "cell_type": "code",
   "execution_count": 4,
   "metadata": {
    "collapsed": true
   },
   "outputs": [],
   "source": [
    "from src.data.movielens_20m_imdb import load_df_or_get_from_cache\n",
    "from src.helpers.labels import truncate_labels\n",
    "from src.helpers.segments import make_distance_matrix_for_segments,vectorize_segments\n",
    "\n",
    "from src.utils.dataframes import sample_rows\n",
    "from src.utils.metrics import ranking\n",
    "from src.utils.plotting import plot_micro_f1_at_k"
   ]
  },
  {
   "cell_type": "code",
   "execution_count": 27,
   "metadata": {
    "collapsed": true
   },
   "outputs": [],
   "source": [
    "MODELS_ROOT = os.path.abspath(\"../../../models/ranking/movielens-ovr-linear-svc-calibrated/\")\n",
    "INTERIM_DATA_ROOT = os.path.abspath(\"../../../data/interim/movielens-ml20m-imdb/\")\n",
    "PATH_TO_PROCESSED_FILE = os.path.abspath('../../../data/processed/movielens-20m-imdb-tags-and-synopses-2017-12-20.csv')\n",
    "\n",
    "# CONFIGS\n",
    "SEED= 42"
   ]
  },
  {
   "cell_type": "code",
   "execution_count": 6,
   "metadata": {
    "collapsed": true
   },
   "outputs": [],
   "source": [
    "np.random.seed(SEED)"
   ]
  },
  {
   "cell_type": "code",
   "execution_count": 7,
   "metadata": {
    "collapsed": true
   },
   "outputs": [],
   "source": [
    "docs_df = load_df_or_get_from_cache(PATH_TO_PROCESSED_FILE,INTERIM_DATA_ROOT)"
   ]
  },
  {
   "cell_type": "code",
   "execution_count": 10,
   "metadata": {
    "collapsed": true
   },
   "outputs": [],
   "source": [
    "labels = docs_df[\"tags\"].map(lambda tagstring: tagstring.split(\",\"))"
   ]
  },
  {
   "cell_type": "code",
   "execution_count": 11,
   "metadata": {},
   "outputs": [
    {
     "name": "stdout",
     "output_type": "stream",
     "text": [
      "total number of unique tags: 2138 \n",
      "total number of train documents: 5704\n",
      "total number of validation documents: 1006\n"
     ]
    }
   ],
   "source": [
    "mlb = MultiLabelBinarizer()\n",
    "\n",
    "binary_labels = mlb.fit_transform(labels)\n",
    "\n",
    "print(\"total number of unique tags: {} \".format(len(mlb.classes_)))\n",
    "\n",
    "data = docs_df['synopsis'].values\n",
    "indices = np.arange(len(data))\n",
    "\n",
    "np.random.shuffle(indices)\n",
    "\n",
    "data = [data[i] for i in indices]\n",
    "targets = binary_labels[indices]\n",
    "num_validation_samples = int(0.15 * len(data))\n",
    "\n",
    "X_train = data[:-num_validation_samples]\n",
    "Y_train = targets[:-num_validation_samples]\n",
    "X_val = data[-num_validation_samples:]\n",
    "Y_val = targets[-num_validation_samples:]\n",
    "\n",
    "print('total number of train documents: {}'.format(len(X_train)))\n",
    "print('total number of validation documents: {}'.format(len(X_val)))"
   ]
  },
  {
   "cell_type": "code",
   "execution_count": 28,
   "metadata": {
    "collapsed": true,
    "scrolled": true
   },
   "outputs": [],
   "source": [
    "pipeline = Pipeline([\n",
    "    ('vect', TfidfVectorizer()),\n",
    "    # https://stackoverflow.com/a/39712590/436721\n",
    "    ('clf', OneVsRestClassifier(CalibratedClassifierCV(LinearSVC(),cv=2),n_jobs=-1)),\n",
    "])\n",
    "\n",
    "parameters = [\n",
    "    { \n",
    "        \"vect__max_features\": [100,200,500,1000,2000,5000]\n",
    "    }\n",
    "]"
   ]
  },
  {
   "cell_type": "code",
   "execution_count": 29,
   "metadata": {
    "scrolled": true
   },
   "outputs": [
    {
     "name": "stdout",
     "output_type": "stream",
     "text": [
      "{'vect__max_features': 100}\n",
      "validation micro-F1 @1: 0.2920203735144312\n",
      "validation micro-F1 @2: 0.26026805015131865\n",
      "validation micro-F1 @3: 0.2356036246711488\n",
      "validation micro-F1 @4: 0.2269222295659837\n",
      "validation micro-F1 @5: 0.21314387211367672\n",
      "validation micro-F1 @6: 0.2073062073062073\n",
      "validation micro-F1 @7: 0.20288375653949214\n",
      "validation micro-F1 @8: 0.196122380365348\n",
      "validation micro-F1 @9: 0.19263399540872342\n",
      "validation micro-F1 @10: 0.18624357703055983\n",
      "{'vect__max_features': 200}\n",
      "validation micro-F1 @1: 0.3149078726968174\n",
      "validation micro-F1 @2: 0.28400852878464816\n",
      "validation micro-F1 @3: 0.2719725164614944\n",
      "validation micro-F1 @4: 0.25498699045967044\n",
      "validation micro-F1 @5: 0.23879551820728293\n",
      "validation micro-F1 @6: 0.22731277533039648\n",
      "validation micro-F1 @7: 0.2199191102123357\n",
      "validation micro-F1 @8: 0.21413513813380672\n",
      "validation micro-F1 @9: 0.20695118328547382\n",
      "validation micro-F1 @10: 0.2008405615666637\n",
      "{'vect__max_features': 500}\n",
      "validation micro-F1 @1: 0.38782051282051283\n",
      "validation micro-F1 @2: 0.3358147229114971\n",
      "validation micro-F1 @3: 0.3049705139005897\n",
      "validation micro-F1 @4: 0.2851054762412103\n",
      "validation micro-F1 @5: 0.27058621282448\n",
      "validation micro-F1 @6: 0.26026805015131865\n",
      "validation micro-F1 @7: 0.2515207945375543\n",
      "validation micro-F1 @8: 0.24125874125874125\n",
      "validation micro-F1 @9: 0.23129517483883572\n",
      "validation micro-F1 @10: 0.22418358340688438\n",
      "{'vect__max_features': 1000}\n",
      "validation micro-F1 @1: 0.4244322631166797\n",
      "validation micro-F1 @2: 0.3655564581640942\n",
      "validation micro-F1 @3: 0.3339773668230748\n",
      "validation micro-F1 @4: 0.30354131534569984\n",
      "validation micro-F1 @5: 0.28795098706603134\n",
      "validation micro-F1 @6: 0.2722198368398454\n",
      "validation micro-F1 @7: 0.2605903421020131\n",
      "validation micro-F1 @8: 0.25252415590055366\n",
      "validation micro-F1 @9: 0.24330616996507567\n",
      "validation micro-F1 @10: 0.2352425225857381\n",
      "{'vect__max_features': 2000}\n",
      "validation micro-F1 @1: 0.4354587869362364\n",
      "validation micro-F1 @2: 0.3865276663993585\n",
      "validation micro-F1 @3: 0.34448710916072406\n",
      "validation micro-F1 @4: 0.32263443101292205\n",
      "validation micro-F1 @5: 0.3012495778453225\n",
      "validation micro-F1 @6: 0.28425241614553726\n",
      "validation micro-F1 @7: 0.2719018404907975\n",
      "validation micro-F1 @8: 0.26045606830217227\n",
      "validation micro-F1 @9: 0.25262954742835086\n",
      "validation micro-F1 @10: 0.2427947598253275\n",
      "{'vect__max_features': 5000}\n",
      "validation micro-F1 @1: 0.4415182029434547\n",
      "validation micro-F1 @2: 0.3793797825211438\n",
      "validation micro-F1 @3: 0.3463013698630137\n",
      "validation micro-F1 @4: 0.3159656831973216\n",
      "validation micro-F1 @5: 0.30411328388401887\n",
      "validation micro-F1 @6: 0.28693060876968923\n",
      "validation micro-F1 @7: 0.2731731240804316\n",
      "validation micro-F1 @8: 0.26158332433308135\n",
      "validation micro-F1 @9: 0.2517860590847654\n",
      "validation micro-F1 @10: 0.2446344442505671\n",
      "CPU times: user 6min 21s, sys: 4.05 s, total: 6min 25s\n",
      "Wall time: 9min 7s\n"
     ]
    }
   ],
   "source": [
    "%%time\n",
    "\n",
    "for g in ParameterGrid(parameters):\n",
    "    print(g)\n",
    "    pipeline.set_params(**g)\n",
    "    \n",
    "    pipeline.fit(X_train,Y_train)\n",
    "    \n",
    "    Y_pred_train = pipeline.predict_proba(X_train)    \n",
    "    Y_pred_val = pipeline.predict_proba(X_val)\n",
    "    \n",
    "    ks = [1,2,3,4,5,6,7,8,9,10]\n",
    "        \n",
    "    # k is the number of neighbors so let's use at_k\n",
    "    for k in ks:\n",
    "        print(\"validation micro-F1 @{}: {}\".format(k,ranking.micro_f1_at_k(Y_val,Y_pred_val,k=k,normalize=True))) \n",
    "    "
   ]
  },
  {
   "cell_type": "code",
   "execution_count": null,
   "metadata": {
    "collapsed": true
   },
   "outputs": [],
   "source": []
  },
  {
   "cell_type": "code",
   "execution_count": 30,
   "metadata": {
    "collapsed": true
   },
   "outputs": [],
   "source": [
    "feats_100 = [0.2920203735144312, 0.26026805015131865,0.2356036246711488,0.2269222295659837,\n",
    "0.21314387211367672,0.2073062073062073,0.20288375653949214, 0.196122380365348, 0.19263399540872342, 0.18624357703055983]\n",
    "\n",
    "feats_200 = [0.3149078726968174,0.28400852878464816, 0.2719725164614944, 0.25498699045967044, 0.23879551820728293,\n",
    "             0.22731277533039648, 0.2199191102123357,0.21413513813380672, 0.20695118328547382,0.2008405615666637]\n",
    "\n",
    "feats_500 = [0.38782051282051283, 0.3358147229114971, 0.3049705139005897, 0.2851054762412103, 0.27058621282448,\n",
    "             0.26026805015131865,0.2515207945375543, 0.24125874125874125,0.23129517483883572,0.22418358340688438]\n",
    "\n",
    "feats_1000 = [0.4244322631166797, 0.3655564581640942, 0.3339773668230748,0.30354131534569984, 0.28795098706603134,\n",
    "              0.2722198368398454, 0.2605903421020131, 0.25252415590055366, 0.24330616996507567,0.2352425225857381]\n",
    "\n",
    "feats_2000 = [0.4354587869362364, 0.3865276663993585, 0.34448710916072406,0.32263443101292205, 0.3012495778453225,\n",
    "              0.28425241614553726, 0.2719018404907975,0.26045606830217227, 0.25262954742835086,0.2427947598253275]\n",
    "\n",
    "feats_5000 = [0.4415182029434547, 0.3793797825211438, 0.3463013698630137, 0.3159656831973216,0.30411328388401887,\n",
    "              0.28693060876968923, 0.2731731240804316, 0.26158332433308135, 0.2517860590847654, 0.2446344442505671]"
   ]
  },
  {
   "cell_type": "code",
   "execution_count": null,
   "metadata": {
    "collapsed": true
   },
   "outputs": [],
   "source": []
  },
  {
   "cell_type": "code",
   "execution_count": 33,
   "metadata": {},
   "outputs": [
    {
     "data": {
      "image/png": "[encoded data removed]",
      "text/plain": [
       "<matplotlib.figure.Figure at 0x7f2fd0618fd0>"
      ]
     },
     "metadata": {},
     "output_type": "display_data"
    }
   ],
   "source": [
    "plt.clf()\n",
    "ax = plt.gca()\n",
    "\n",
    "ks = range(1, 11)\n",
    "\n",
    "\n",
    "\n",
    "ax.plot(ks, feats_100, 'ro-', label='Vocabulary size=100')\n",
    "\n",
    "ax.plot(ks, feats_200, 'go-', label='Vocabulary size=200')\n",
    "\n",
    "ax.plot(ks, feats_500, 'bo-', label='Vocabulary size=500')\n",
    "\n",
    "ax.plot(ks, feats_1000, 'co-', label='Vocabulary size=1000')\n",
    "\n",
    "ax.plot(ks, feats_2000, 'mo-', label='Vocabulary size=2000')\n",
    "\n",
    "ax.plot(ks, feats_5000, 'ko-', label='Vocabulary size=5000')\n",
    "\n",
    "ax.set_xlim(0, 11)\n",
    "ax.set_ylim(0, 0.5)\n",
    "ax.set_xlabel('k', fontsize=13)\n",
    "\n",
    "ax.set_ylabel('Micro-averaged F1-score at k', fontsize=13)\n",
    "\n",
    "ax.set_xticks(np.arange(0, 11, 1))\n",
    "ax.set_yticks(np.arange(0, 1.05, 0.1))\n",
    "ax.grid(True)\n",
    "\n",
    "gridlines = ax.get_xgridlines() + ax.get_ygridlines()\n",
    "for line in gridlines:\n",
    "    line.set_linestyle(':')\n",
    "    line.set_linewidth(0.7)\n",
    "plt.gcf().set_size_inches(7,5)\n",
    "ax.legend()\n",
    "plt.show()"
   ]
  },
  {
   "cell_type": "code",
   "execution_count": null,
   "metadata": {
    "collapsed": true
   },
   "outputs": [],
   "source": [
    "pickle.dump(pipeline,open(MODELS_ROOT+'/model.p','wb'))"
   ]
  },
  {
   "cell_type": "code",
   "execution_count": null,
   "metadata": {
    "collapsed": true
   },
   "outputs": [],
   "source": [
    "plt.clf()\n",
    "img = plt.gcf()\n",
    "ax = plt.gca()\n",
    "validation_scores = [\n",
    "    0.38782051282051283,0.3358147229114971,\n",
    "    0.3049705139005897,0.2851054762412103,\n",
    "    0.27058621282448,0.26026805015131865,\n",
    "    0.2515207945375543,0.24125874125874125,\n",
    "    0.23129517483883572,0.22418358340688438\n",
    "]\n",
    "plot_micro_f1_at_k(validation_scores,ax)\n",
    "plt.gcf().set_size_inches(7,5)\n",
    "plt.gca().legend_.remove()\n",
    "plt.show()"
   ]
  },
  {
   "cell_type": "code",
   "execution_count": null,
   "metadata": {
    "collapsed": true
   },
   "outputs": [],
   "source": []
  }
 ],
 "metadata": {
  "kernelspec": {
   "display_name": "Python 3",
   "language": "python",
   "name": "python3"
  },
  "language_info": {
   "codemirror_mode": {
    "name": "ipython",
    "version": 3
   },
   "file_extension": ".py",
   "mimetype": "text/x-python",
   "name": "python",
   "nbconvert_exporter": "python",
   "pygments_lexer": "ipython3",
   "version": "3.5.2"
  }
 },
 "nbformat": 4,
 "nbformat_minor": 2
}
