{
 "cells": [
  {
   "cell_type": "markdown",
   "metadata": {},
   "source": [
    "see http://krex.k-state.edu/dspace/bitstream/handle/2097/9785/RahulChoubey2011.pdf\n",
    "\n",
    "This is an implementation of the **second** method of the two described above, namely topic distance.\n",
    "\n",
    "Extract topics from the dataset using LDA then, for each test document, find out what are the most significant topics for it. Then find out which training set documents have similar topic distributions (as measured by KL-divergence) and propagate the tags from the one most similar document.\n",
    "\n",
    "> This is the same thing as doing kNN where k=1 and the distance measure between representations is the KL-divergence.\n"
   ]
  },
  {
   "cell_type": "code",
   "execution_count": 1,
   "metadata": {
    "collapsed": true
   },
   "outputs": [],
   "source": [
    "import pandas as pd\n",
    "import numpy as np\n",
    "import matplotlib.pyplot as plt\n",
    "import gc\n",
    "import os\n",
    "import re\n",
    "import pickle\n",
    "import sklearn\n",
    "import sys\n",
    "import string\n",
    "\n",
    "from datetime import datetime\n",
    "from scipy import stats\n",
    "\n",
    "from sklearn.externals import joblib\n",
    "from sklearn.decomposition import LatentDirichletAllocation\n",
    "from sklearn.metrics import f1_score, precision_score, recall_score\n",
    "from sklearn.metrics.pairwise import cosine_similarity,cosine_distances\n",
    "from sklearn.model_selection import cross_val_score, GridSearchCV,ParameterGrid, train_test_split\n",
    "from sklearn.multiclass import OneVsRestClassifier\n",
    "from sklearn.preprocessing import MultiLabelBinarizer\n",
    "from sklearn.feature_extraction.text import CountVectorizer\n",
    "from sklearn.feature_extraction.text import TfidfTransformer,TfidfVectorizer\n",
    "from sklearn.pipeline import Pipeline\n",
    "from sklearn.neighbors import KNeighborsClassifier,NearestNeighbors\n",
    "\n",
    "from tqdm import *\n",
    "\n",
    "%matplotlib inline\n",
    "%load_ext autoreload\n",
    "%autoreload 1"
   ]
  },
  {
   "cell_type": "code",
   "execution_count": 2,
   "metadata": {
    "collapsed": true
   },
   "outputs": [],
   "source": [
    "src_dir = os.path.join(os.getcwd(), os.pardir, '../../')\n",
    "sys.path.append(src_dir)"
   ]
  },
  {
   "cell_type": "code",
   "execution_count": 3,
   "metadata": {
    "collapsed": true
   },
   "outputs": [],
   "source": [
    "%aimport src.data.movielens_20m_imdb\n",
    "%aimport src.helpers.labels,src.helpers.neighbours, src.helpers.topics\n",
    "%aimport src.utils.dataframes, src.utils.clusters, src.utils.metrics"
   ]
  },
  {
   "cell_type": "code",
   "execution_count": 5,
   "metadata": {
    "collapsed": true
   },
   "outputs": [],
   "source": [
    "from src.data.movielens_20m_imdb import load_df_or_get_from_cache\n",
    "from src.helpers.labels import truncate_labels\n",
    "from src.helpers.segments import make_distance_matrix_for_segments,vectorize_segments\n",
    "\n",
    "from src.utils.dataframes import sample_rows\n",
    "from src.utils.metrics import ranking"
   ]
  },
  {
   "cell_type": "code",
   "execution_count": 20,
   "metadata": {
    "collapsed": true
   },
   "outputs": [],
   "source": [
    "MODELS_ROOT = os.path.abspath(\"../../../models/ranking/movielens-topics/\")\n",
    "INTERIM_DATA_ROOT = os.path.abspath(\"../../../data/interim/movielens-ml20m-imdb/\")\n",
    "PATH_TO_PROCESSED_FILE = os.path.abspath('../../../data/processed/movielens-20m-imdb-tags-and-synopses-2017-12-13.csv')\n",
    "OUTPUT_FILE = 'output-topic-distances-'+ datetime.now().strftime('%Y-%m-%d-%H-%M-%S')+'.txt'\n",
    "\n",
    "# CONFIGS\n",
    "\n",
    "SEED= 42\n",
    "\n",
    "MAX_NB_WORDS = 500\n",
    "\n",
    "# for sampling\n",
    "MIN_TAG_DF = 10\n",
    "\n",
    "# CONFIGS\n",
    "NB_NEIGHBOURS = 1\n",
    "DISTANCE_METRIC= lambda a,b: stats.entropy(a,b)\n",
    "STOP_WORDS='english' # using stopwords since most people using LDA do this\n",
    "NB_COMPONENTS = [50,100,200,300]"
   ]
  },
  {
   "cell_type": "code",
   "execution_count": 21,
   "metadata": {
    "collapsed": true
   },
   "outputs": [],
   "source": [
    "np.random.seed(SEED)"
   ]
  },
  {
   "cell_type": "code",
   "execution_count": 22,
   "metadata": {
    "collapsed": true
   },
   "outputs": [],
   "source": [
    "docs_df = load_df_or_get_from_cache(PATH_TO_PROCESSED_FILE,INTERIM_DATA_ROOT)"
   ]
  },
  {
   "cell_type": "code",
   "execution_count": 23,
   "metadata": {
    "collapsed": true
   },
   "outputs": [],
   "source": [
    "labels = docs_df[\"tags\"].map(lambda tagstring: tagstring.split(\",\"))"
   ]
  },
  {
   "cell_type": "code",
   "execution_count": 24,
   "metadata": {},
   "outputs": [
    {
     "name": "stdout",
     "output_type": "stream",
     "text": [
      "total number of unique tags: 2138 \n",
      "total number of train documents: 5704\n",
      "total number of validation documents: 1006\n"
     ]
    }
   ],
   "source": [
    "mlb = MultiLabelBinarizer()\n",
    "\n",
    "binary_labels = mlb.fit_transform(labels)\n",
    "\n",
    "print(\"total number of unique tags: {} \".format(len(mlb.classes_)))\n",
    "\n",
    "data = docs_df['synopsis'].values\n",
    "indices = np.arange(len(data))\n",
    "\n",
    "np.random.shuffle(indices)\n",
    "\n",
    "data = [data[i] for i in indices]\n",
    "targets = binary_labels[indices]\n",
    "num_validation_samples = int(0.15 * len(data))\n",
    "\n",
    "X_train = data[:-num_validation_samples]\n",
    "Y_train = targets[:-num_validation_samples]\n",
    "X_val = data[-num_validation_samples:]\n",
    "Y_val = targets[-num_validation_samples:]\n",
    "\n",
    "print('total number of train documents: {}'.format(len(X_train)))\n",
    "print('total number of validation documents: {}'.format(len(X_val)))"
   ]
  },
  {
   "cell_type": "code",
   "execution_count": 25,
   "metadata": {
    "collapsed": true
   },
   "outputs": [],
   "source": [
    "vect = TfidfVectorizer(max_features=MAX_NB_WORDS)\n",
    "vect.fit(data)\n",
    "\n",
    "X_train_vect = vect.transform(X_train)\n",
    "X_val_vect = vect.transform(X_val)"
   ]
  },
  {
   "cell_type": "code",
   "execution_count": 26,
   "metadata": {},
   "outputs": [
    {
     "name": "stdout",
     "output_type": "stream",
     "text": [
      "nb_comp=50\n",
      "nb_comp=100\n",
      "nb_comp=200\n",
      "nb_comp=300\n",
      "CPU times: user 7min 43s, sys: 21min 51s, total: 29min 34s\n",
      "Wall time: 4min 5s\n"
     ]
    }
   ],
   "source": [
    "%%time\n",
    "\n",
    "lda = dict()\n",
    "\n",
    "for nb_comp in NB_COMPONENTS:\n",
    "    print('nb_comp={}'.format(nb_comp))\n",
    "    \n",
    "    cache_path = INTERIM_DATA_ROOT+\"/lda-NBCOMPS={}NBWORDS={}SEED={}.p\".format(nb_comp,MAX_NB_WORDS,SEED)\n",
    "    \n",
    "    if os.path.isfile(cache_path):\n",
    "        lda[nb_comp]=joblib.load(open(cache_path,\"rb\"))\n",
    "    else:\n",
    "        lda[nb_comp] = LatentDirichletAllocation(n_components=nb_comp, learning_method='online')\n",
    "        lda[nb_comp].fit(X_train_vect)\n",
    "        joblib.dump(lda[nb_comp],open(cache_path,\"wb\"))"
   ]
  },
  {
   "cell_type": "code",
   "execution_count": 30,
   "metadata": {
    "collapsed": true
   },
   "outputs": [],
   "source": [
    "def train_and_score(nb_comp):\n",
    "    nbrs = NearestNeighbors(n_neighbors=NB_NEIGHBOURS, metric=DISTANCE_METRIC)\n",
    "    \n",
    "    lda_model = lda[nb_comp]\n",
    "    \n",
    "    # train\n",
    "    X_train = lda_model.transform(X_train_vect)\n",
    "    X_val = lda_model.transform(X_val_vect)\n",
    "    \n",
    "    nbrs.fit(X_train)\n",
    "    \n",
    "        \n",
    "    Y_pred_val = []\n",
    "\n",
    "    # distance matrix shape: (num_validation_documents, k)\n",
    "    # indices matrix shape: (num_validation_documents, k)\n",
    "    distances_matrix_val, indices_matrix_val = nbrs.kneighbors(X_val)\n",
    "    \n",
    "    neighbour_labels_tensor_val = Y_train[indices_matrix_val]    \n",
    "   \n",
    "    # for every validation document do\n",
    "    for i in range(distances_matrix_val.shape[0]):\n",
    "        # these are the labels from the neighbours of test document i\n",
    "        # shape: (k, num_tags)\n",
    "        neighbor_labels = neighbour_labels_tensor_val[i,:,:]\n",
    "        \n",
    "        # these are the distances from test document i to the nearest neighbours\n",
    "        # shape: (k, )\n",
    "        distances_to_neighbors = distances_matrix_val[i]\n",
    "\n",
    "        # sum the contributions from all neighbors, for all tags\n",
    "        # no need to normalize because we're only interested in the order\n",
    "        y_preds = neighbor_labels.sum(axis=0)\n",
    "                    \n",
    "        Y_pred_val.append(y_preds)\n",
    "\n",
    "    Y_pred_val = np.array(Y_pred_val)\n",
    "            \n",
    "    ks = [1,2,3,4,5,6,7,8,9,10]\n",
    "    \n",
    "    # k is the number of neighbors so let's use at_k\n",
    "    for at_k in ks:\n",
    "        print(\"validation micro-F1 @{}: {}\".format(at_k,ranking.micro_f1_at_k(Y_val,Y_pred_val,k=at_k,normalize=True))) \n",
    "\n",
    "    print('')  "
   ]
  },
  {
   "cell_type": "code",
   "execution_count": 33,
   "metadata": {},
   "outputs": [
    {
     "name": "stdout",
     "output_type": "stream",
     "text": [
      "nb_comp=50\n",
      "validation micro-F1 @1: 0.05415860735009671\n",
      "validation micro-F1 @2: 0.051331719128329296\n",
      "validation micro-F1 @3: 0.0491273432449903\n",
      "validation micro-F1 @4: 0.04422843256379101\n",
      "validation micro-F1 @5: 0.03860401637746149\n",
      "validation micro-F1 @6: 0.03739229393594538\n",
      "validation micro-F1 @7: 0.03570432357043236\n",
      "validation micro-F1 @8: 0.033475870494807575\n",
      "validation micro-F1 @9: 0.032380745409105724\n",
      "validation micro-F1 @10: 0.03092581718535917\n",
      "\n",
      "nb_comp=100\n",
      "validation micro-F1 @1: 0.05227492739593417\n",
      "validation micro-F1 @2: 0.055099081681971966\n",
      "validation micro-F1 @3: 0.051646223369916075\n",
      "validation micro-F1 @4: 0.04470359572400389\n",
      "validation micro-F1 @5: 0.039368544143441826\n",
      "validation micro-F1 @6: 0.038349041273968154\n",
      "validation micro-F1 @7: 0.036525860867140665\n",
      "validation micro-F1 @8: 0.034436439125656367\n",
      "validation micro-F1 @9: 0.03344917463075586\n",
      "validation micro-F1 @10: 0.03227383863080684\n",
      "\n",
      "nb_comp=200\n",
      "validation micro-F1 @1: 0.07464114832535886\n",
      "validation micro-F1 @2: 0.06538461538461539\n",
      "validation micro-F1 @3: 0.05728999034438365\n",
      "validation micro-F1 @4: 0.052746189208807165\n",
      "validation micro-F1 @5: 0.047739181059576946\n",
      "validation micro-F1 @6: 0.045969569439948205\n",
      "validation micro-F1 @7: 0.044160533259269545\n",
      "validation micro-F1 @8: 0.04161090156953401\n",
      "validation micro-F1 @9: 0.041743268086947116\n",
      "validation micro-F1 @10: 0.0395595829679431\n",
      "\n",
      "nb_comp=300\n",
      "validation micro-F1 @1: 0.07279693486590039\n",
      "validation micro-F1 @2: 0.06165703275529865\n",
      "validation micro-F1 @3: 0.05415860735009671\n",
      "validation micro-F1 @4: 0.05085977234197142\n",
      "validation micro-F1 @5: 0.04736024844720497\n",
      "validation micro-F1 @6: 0.045020242914979754\n",
      "validation micro-F1 @7: 0.04171301446051168\n",
      "validation micro-F1 @8: 0.03826934795856185\n",
      "validation micro-F1 @9: 0.03749864528015606\n",
      "validation micro-F1 @10: 0.03573171922288392\n",
      "\n"
     ]
    }
   ],
   "source": [
    "for nb_comp in NB_COMPONENTS:\n",
    "    print('nb_comp={}'.format(nb_comp))\n",
    "    train_and_score(nb_comp)"
   ]
  },
  {
   "cell_type": "code",
   "execution_count": 40,
   "metadata": {
    "collapsed": true
   },
   "outputs": [],
   "source": [
    "feats_50 = [\n",
    " 0.05415860735009671, 0.051331719128329296,\n",
    "0.0491273432449903,0.04422843256379101,\n",
    "0.03860401637746149, 0.03739229393594538,\n",
    "0.03570432357043236, 0.033475870494807575, 0.032380745409105724, 0.03092581718535917    \n",
    "]\n",
    "\n",
    "feats_100 = [\n",
    " 0.05227492739593417, 0.055099081681971966,\n",
    " 0.051646223369916075, 0.04470359572400389,\n",
    " 0.039368544143441826, 0.038349041273968154,\n",
    "0.036525860867140665,\n",
    "     0.034436439125656367,\n",
    " 0.03344917463075586,\n",
    " 0.03227383863080684,    \n",
    "]\n",
    "\n",
    "feats_200 = [\n",
    "0.07464114832535886,\n",
    "0.06538461538461539,\n",
    "0.05728999034438365,\n",
    "0.052746189208807165,\n",
    "0.047739181059576946,\n",
    "0.045969569439948205,\n",
    "0.044160533259269545,\n",
    "0.04161090156953401,\n",
    "0.041743268086947116,\n",
    "0.0395595829679431  \n",
    "]\n",
    "\n",
    "feats_300 = [\n",
    "0.07279693486590039,\n",
    "0.06165703275529865,\n",
    "0.05415860735009671,\n",
    "0.05085977234197142,\n",
    "0.04736024844720497,\n",
    "0.045020242914979754,\n",
    "0.04171301446051168,\n",
    "0.03826934795856185,\n",
    "0.03749864528015606,\n",
    "0.03573171922288392\n",
    "]\n"
   ]
  },
  {
   "cell_type": "code",
   "execution_count": 42,
   "metadata": {},
   "outputs": [
    {
     "data": {
      "image/png": "[encoded data removed]",
      "text/plain": [
       "<matplotlib.figure.Figure at 0x7f7553589550>"
      ]
     },
     "metadata": {},
     "output_type": "display_data"
    }
   ],
   "source": [
    "plt.clf()\n",
    "ax = plt.gca()\n",
    "\n",
    "ks = range(1, 11)\n",
    "\n",
    "ax.plot(ks, feats_50, 'ro-', label='Number of Components=50')\n",
    "\n",
    "ax.plot(ks, feats_100, 'go-', label='Number of Components=100')\n",
    "\n",
    "ax.plot(ks, feats_200, 'bo-', label='Number of Components=200')\n",
    "\n",
    "ax.plot(ks, feats_300, 'co-', label='Number of Components=300')\n",
    "\n",
    "ax.set_xlim(0, 11)\n",
    "ax.set_ylim(0, 0.25)\n",
    "ax.set_xlabel('k', fontsize=13)\n",
    "\n",
    "ax.set_ylabel('Micro-averaged F1-score at k', fontsize=13)\n",
    "\n",
    "ax.set_xticks(np.arange(0, 11, 1))\n",
    "ax.set_yticks(np.arange(0, 0.26, 0.05))\n",
    "ax.grid(True)\n",
    "\n",
    "gridlines = ax.get_xgridlines() + ax.get_ygridlines()\n",
    "for line in gridlines:\n",
    "    line.set_linestyle(':')\n",
    "    line.set_linewidth(0.7)\n",
    "plt.gcf().set_size_inches(7,5)\n",
    "ax.legend()\n",
    "plt.show()"
   ]
  },
  {
   "cell_type": "code",
   "execution_count": null,
   "metadata": {
    "collapsed": true
   },
   "outputs": [],
   "source": []
  }
 ],
 "metadata": {
  "kernelspec": {
   "display_name": "Python 3",
   "language": "python",
   "name": "python3"
  },
  "language_info": {
   "codemirror_mode": {
    "name": "ipython",
    "version": 3
   },
   "file_extension": ".py",
   "mimetype": "text/x-python",
   "name": "python",
   "nbconvert_exporter": "python",
   "pygments_lexer": "ipython3",
   "version": "3.5.2"
  }
 },
 "nbformat": 4,
 "nbformat_minor": 2
}
