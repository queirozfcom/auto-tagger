{
 "cells": [
  {
   "cell_type": "markdown",
   "metadata": {},
   "source": [
    "see http://krex.k-state.edu/dspace/bitstream/handle/2097/9785/RahulChoubey2011.pdf\n",
    "\n",
    "This is an implementation of the **second** method of the two described above, namely topic distance.\n",
    "\n",
    "Extract topics from the dataset using LDA then, for each test document, find out what are the most significant topics for it. Then find out which training set documents have similar topic distributions (as measured by KL-divergence) and propagate the tags from the one most similar document.\n",
    "\n",
    "> This is the same thing as doing kNN where k=1 and the distance measure between representations is the KL-divergence.\n"
   ]
  },
  {
   "cell_type": "code",
   "execution_count": 1,
   "metadata": {},
   "outputs": [],
   "source": [
    "import pandas as pd\n",
    "import numpy as np\n",
    "import os,sys\n",
    "\n",
    "import matplotlib.pyplot as plt\n",
    "import scipy.stats as stats\n",
    "\n",
    "from sklearn.decomposition import LatentDirichletAllocation\n",
    "from sklearn.metrics import f1_score, precision_score, recall_score\n",
    "from sklearn.metrics.pairwise import cosine_similarity,cosine_distances\n",
    "from sklearn.model_selection import cross_val_score, GridSearchCV,ParameterGrid, train_test_split\n",
    "from sklearn.multiclass import OneVsRestClassifier\n",
    "from sklearn.preprocessing import MultiLabelBinarizer\n",
    "from sklearn.feature_extraction.text import CountVectorizer\n",
    "from sklearn.feature_extraction.text import TfidfTransformer,TfidfVectorizer\n",
    "from sklearn.pipeline import Pipeline\n",
    "from sklearn.neighbors import KNeighborsClassifier,NearestNeighbors\n",
    "from sklearn.svm import LinearSVC\n",
    "\n",
    "from tqdm import *\n",
    "\n",
    "%matplotlib inline\n",
    "%load_ext autoreload\n",
    "%autoreload 1"
   ]
  },
  {
   "cell_type": "code",
   "execution_count": 2,
   "metadata": {},
   "outputs": [],
   "source": [
    "src_dir = os.path.join(os.getcwd(), os.pardir, '../src')\n",
    "sys.path.append(src_dir)"
   ]
  },
  {
   "cell_type": "code",
   "execution_count": 3,
   "metadata": {},
   "outputs": [],
   "source": [
    "%aimport data.movielens_20m_imdb\n",
    "%aimport helpers.labels,helpers.neighbours"
   ]
  },
  {
   "cell_type": "code",
   "execution_count": 4,
   "metadata": {},
   "outputs": [],
   "source": [
    "from data.movielens_20m_imdb import load_or_get_from_cache\n",
    "from helpers.labels import truncate_labels\n",
    "from helpers.neighbours import get_predicted_labels_from_neighbours"
   ]
  },
  {
   "cell_type": "code",
   "execution_count": 5,
   "metadata": {},
   "outputs": [],
   "source": [
    "INTERIM_DATA_ROOT = os.path.abspath(\"../../data/interim/movielens-ml20m-imdb/\")\n",
    "ML_ROOT = \"/media/felipe/SAMSUNG/movielens/ml-20m/\"\n",
    "IMDB_ROOT = \"/media/felipe/SAMSUNG/imdb/\"\n",
    "\n",
    "PATH_TO_MOVIES = ML_ROOT + \"/movies.csv\"\n",
    "PATH_TO_TAG_ASSIGNMENTS = ML_ROOT + \"/tags.csv\"\n",
    "PATH_TO_MOVIE_PLOTS = IMDB_ROOT+\"/plot.list\"\n",
    "\n",
    "# CONFIGS\n",
    "MAX_NB_WORDS = 4000\n",
    "NB_NEIGHBOURS = 1\n",
    "DISTANCE_METRIC= lambda a,b: stats.entropy(a,b)\n",
    "WEIGHTS='uniform'\n",
    "PREPROC=None\n",
    "STOP_WORDS='english'\n",
    "NB_COMPONENTS = 200"
   ]
  },
  {
   "cell_type": "code",
   "execution_count": 6,
   "metadata": {},
   "outputs": [],
   "source": [
    "docs_df = load_or_get_from_cache(PATH_TO_MOVIES,PATH_TO_TAG_ASSIGNMENTS,PATH_TO_MOVIE_PLOTS,INTERIM_DATA_ROOT)"
   ]
  },
  {
   "cell_type": "code",
   "execution_count": 7,
   "metadata": {},
   "outputs": [],
   "source": [
    "data = docs_df['plot'].values\n",
    "labelsets = docs_df[\"unique_tags\"].map(lambda tagstring: tagstring.split(\",\")).values"
   ]
  },
  {
   "cell_type": "code",
   "execution_count": 8,
   "metadata": {},
   "outputs": [
    {
     "data": {
      "text/plain": [
       "MultiLabelBinarizer(classes=None, sparse_output=False)"
      ]
     },
     "execution_count": 8,
     "metadata": {},
     "output_type": "execute_result"
    }
   ],
   "source": [
    "mlb = MultiLabelBinarizer()\n",
    "mlb.fit(labelsets)"
   ]
  },
  {
   "cell_type": "code",
   "execution_count": 9,
   "metadata": {},
   "outputs": [],
   "source": [
    "# I can't put this into a pipeline because NearestNeighbors is not a normal classifier, I think\n",
    "# I need to customize the pipeline object to be able to call the methods for that class.\n",
    "vect = CountVectorizer(max_features=MAX_NB_WORDS, preprocessor=PREPROC, stop_words=STOP_WORDS)\n",
    "\n",
    "# arsg taken from http://scikit-learn.org/stable/auto_examples/applications/plot_topics_extraction_with_nmf_lda.html\n",
    "lda = LatentDirichletAllocation(n_components=NB_COMPONENTS, max_iter=5,\n",
    "                                learning_method='online',\n",
    "                                learning_offset=50.)\n",
    "\n",
    "nbrs = NearestNeighbors(n_neighbors=NB_NEIGHBOURS, metric=DISTANCE_METRIC)"
   ]
  },
  {
   "cell_type": "code",
   "execution_count": 10,
   "metadata": {},
   "outputs": [],
   "source": [
    "X_train, X_test, y_train, y_test = train_test_split(data,labelsets,test_size=0.25)"
   ]
  },
  {
   "cell_type": "code",
   "execution_count": 11,
   "metadata": {},
   "outputs": [],
   "source": [
    "y_train = mlb.transform(y_train)\n",
    "y_test = mlb.transform(y_test)"
   ]
  },
  {
   "cell_type": "code",
   "execution_count": 12,
   "metadata": {},
   "outputs": [
    {
     "data": {
      "text/plain": [
       "NearestNeighbors(algorithm='auto', leaf_size=30,\n",
       "         metric=<function <lambda> at 0x7ff565fbd378>, metric_params=None,\n",
       "         n_jobs=1, n_neighbors=1, p=2, radius=1.0)"
      ]
     },
     "execution_count": 12,
     "metadata": {},
     "output_type": "execute_result"
    }
   ],
   "source": [
    "# train\n",
    "X_train = vect.fit_transform(X_train)\n",
    "X_train = lda.fit_transform(X_train)\n",
    "nbrs.fit(X_train)"
   ]
  },
  {
   "cell_type": "code",
   "execution_count": 13,
   "metadata": {},
   "outputs": [],
   "source": [
    "# test\n",
    "X_test = vect.transform(X_test)\n",
    "X_test = lda.transform(X_test)"
   ]
  },
  {
   "cell_type": "code",
   "execution_count": 14,
   "metadata": {},
   "outputs": [
    {
     "data": {
      "text/plain": [
       "((4734, 200), (1578, 200))"
      ]
     },
     "execution_count": 14,
     "metadata": {},
     "output_type": "execute_result"
    }
   ],
   "source": [
    "X_train.shape,X_test.shape"
   ]
  },
  {
   "cell_type": "code",
   "execution_count": 15,
   "metadata": {},
   "outputs": [
    {
     "data": {
      "text/plain": [
       "((4734, 16787), (1578, 16787))"
      ]
     },
     "execution_count": 15,
     "metadata": {},
     "output_type": "execute_result"
    }
   ],
   "source": [
    "y_train.shape,y_test.shape"
   ]
  },
  {
   "cell_type": "code",
   "execution_count": 16,
   "metadata": {},
   "outputs": [
    {
     "name": "stdout",
     "output_type": "stream",
     "text": [
      "CPU times: user 2min 14s, sys: 932 ms, total: 2min 15s\n",
      "Wall time: 2min 14s\n"
     ]
    }
   ],
   "source": [
    "%%time\n",
    "\n",
    "y_preds = []\n",
    "y_trues = []\n",
    "\n",
    "distances_matrix, indices_matrix = nbrs.kneighbors(X_test)\n",
    "\n",
    "neighbour_labels_tensor = y_train[indices_matrix]    \n",
    "\n",
    "distances_matrix.shape, indices_matrix.shape, neighbour_labels_tensor.shape"
   ]
  },
  {
   "cell_type": "code",
   "execution_count": 17,
   "metadata": {},
   "outputs": [
    {
     "name": "stderr",
     "output_type": "stream",
     "text": [
      "100%|██████████| 1578/1578 [00:39<00:00, 39.67it/s]\n"
     ]
    }
   ],
   "source": [
    "for i in tqdm(range(distances_matrix.shape[0])):\n",
    "          \n",
    "    distances = distances_matrix[i].ravel()  \n",
    "        \n",
    "    neighbour_labels = neighbour_labels_tensor[i]\n",
    "       \n",
    "    y_pred = get_predicted_labels_from_neighbours(neighbour_labels, distances)\n",
    "    \n",
    "    y_true = y_test[i]\n",
    "    \n",
    "    y_preds.append(y_pred)\n",
    "    y_trues.append(y_true)\n",
    "    \n",
    "y_preds = np.array(y_preds)\n",
    "y_trues = np.array(y_trues)"
   ]
  },
  {
   "cell_type": "code",
   "execution_count": 18,
   "metadata": {},
   "outputs": [
    {
     "data": {
      "text/plain": [
       "0.028721058434399118"
      ]
     },
     "execution_count": 18,
     "metadata": {},
     "output_type": "execute_result"
    }
   ],
   "source": [
    "f1_score(y_trues,y_preds,average='micro')"
   ]
  },
  {
   "cell_type": "code",
   "execution_count": 19,
   "metadata": {},
   "outputs": [],
   "source": [
    "def print_top_words(model, feature_names, n_top_words):\n",
    "    for topic_idx, topic in enumerate(model.components_):\n",
    "        message = \"Topic #%d: \" % topic_idx\n",
    "        message += \" \".join([feature_names[i]\n",
    "                             for i in topic.argsort()[:-n_top_words - 1:-1]])\n",
    "        print(message)\n",
    "    print()\n"
   ]
  },
  {
   "cell_type": "code",
   "execution_count": 20,
   "metadata": {},
   "outputs": [
    {
     "name": "stdout",
     "output_type": "stream",
     "text": [
      "Topic #0: white black alex bus african sophie snow nina man brenda\n",
      "Topic #1: harold carl cal ricky meet planet ruth farm california earth\n",
      "Topic #2: mary johnny ted lou vivian betty pat inn scotland joanna\n",
      "Topic #3: police murder case killer frank drug killed kill detective crime\n",
      "Topic #4: reads shut silva musician quickly stones facility leader patients meeting\n",
      "Topic #5: girl controlling introduced marriage kurt passionate drinks wrote cal eldest\n",
      "Topic #6: town sam sheriff rocky julia doc fight tommy local robin\n",
      "Topic #7: andrew soldier universal claude elite pictures warriors entertainment virtually fate\n",
      "Topic #8: mutants future human created men save humans past order time\n",
      "Topic #9: local considered kirby explores stay girlfriend africa arriving downtown dragons\n",
      "Topic #10: happens buddy baby transport spy box dump tv site command\n",
      "Topic #11: night hotel physical edu bad argument hollywood wrong efforts chronicles\n",
      "Topic #12: august loan causing jobs warrior rocky eager villain device plays\n",
      "Topic #13: earth human planet world future space dr alien save scientist\n",
      "Topic #14: english sword years visions france times age finds mission home\n",
      "Topic #15: kat bianca rob music laura store record thirty gordon relationships\n",
      "Topic #16: paul agents graeme road escape prisoner accidentally face trip jhailey\n",
      "Topic #17: god church faith christian priest catholic father mall jesus heaven\n",
      "Topic #18: boys raymond ralph terry pool laura rob ian song pop\n",
      "Topic #19: cathy thomas police day know specialist claire real young soon\n",
      "Topic #20: sally roy gallery husband meets greg life young ray sees\n",
      "Topic #21: man world black men unemployed young murderer adventures introduced chief\n",
      "Topic #22: grief honeymoon persuade seeks column eric grown kansas lesbian dangerous\n",
      "Topic #23: mark grace culture anderson ma punk psychic curtis featuring wave\n",
      "Topic #24: larry work henry students television matrix patients perfect school world\n",
      "Topic #25: irene craig butler mild project beginning property centuries socialite building\n",
      "Topic #26: produce typical destination confronts settle fletcher kidnap vampire dallas spirited\n",
      "Topic #27: honey commit brandon cook happiness tales scheme benjamin perspective agree\n",
      "Topic #28: planet air evil king princess stealing prince lone prevent half\n",
      "Topic #29: sees husband night jane cop having trust neighbor wife thinks\n",
      "Topic #30: malcolm containing armed suburban atlantic existence lies casual funny shortly\n",
      "Topic #31: school political president country family father leaders new poor views\n",
      "Topic #32: stark dr town ed sell circus century water railroad arizona\n",
      "Topic #33: henry christmas jones food dan carter eve tyler santa martha\n",
      "Topic #34: let rogers ages dante connie uq fascinated marilyn gruesome route\n",
      "Topic #35: alex war soldiers female girl soldier american woman com paul\n",
      "Topic #36: unconventional hockey underground asks apollo ensure experiment silva painful grief\n",
      "Topic #37: larry museum cindy jennifer matrix teddy roberts television subjects came\n",
      "Topic #38: james bond agent agents felix british 007 lynch docrlynch sanchez\n",
      "Topic #39: proves protective commanding enter carries quits developed mall lines welcome\n",
      "Topic #40: jean archer rocher village net marc indians fiberbit motorcycle particular\n",
      "Topic #41: sarah helen ryan jenny jake carrie tracy big ross tess\n",
      "Topic #42: bride vengeance assassination coma squad deadly betrayed wedding years green\n",
      "Topic #43: bobby kit movie just studio hollywood star film decides filming\n",
      "Topic #44: distance ride roberts radio legal aircraft space survived stu justin\n",
      "Topic #45: apollo moments determined great voyage 1960s training program tragedy ready\n",
      "Topic #46: hate hit rusty recording bitter huge lynn luther farrell leslie\n",
      "Topic #47: irene project process property craig like building live years design\n",
      "Topic #48: ivan europe control roger global subjects story voice human rid\n",
      "Topic #49: jr king father river kitty william boston son john willie\n",
      "Topic #50: ed stephan edu cc mildred wwu philip kay helps rival\n",
      "Topic #51: village years woman telling safe marc indians half private try\n",
      "Topic #52: president school country father learn political affair friends early family\n",
      "Topic #53: powerful failing successfully scandal marty corner victoria anna male mouse\n",
      "Topic #54: men like steve place killed girlfriends day unfortunately women earth\n",
      "Topic #55: drew jeff gus father major patient rage personality transport occur\n",
      "Topic #56: brother brothers circus adam antonio angela stone bear sons slaves\n",
      "Topic #57: miss marple ship school soon father board students country president\n",
      "Topic #58: new york dr city brazil janeiro carvalho island rio claudio\n",
      "Topic #59: arm shortly currently needs melanie signs rejects grand baltimore warner\n",
      "Topic #60: tony dance life brooklyn club king neighborhood family bay lives\n",
      "Topic #61: film movie star documentary story director actress hollywood rock actor\n",
      "Topic #62: detective homicide tom brothers catholic young amsterdam prostitute priest brother\n",
      "Topic #63: helen world year bobby life kit finds old kids children\n",
      "Topic #64: danny lawyer katherine girl wife ballet run married rich soon\n",
      "Topic #65: catholic brothers detective young tom local brother amsterdam prostitute priest\n",
      "Topic #66: life dante job friend day love girlfriend falls store comes\n",
      "Topic #67: rare centuries want advances megan maybe responsible ideal physical urban\n",
      "Topic #68: patrick kat bianca rule erica rebel dating heart harry reputation\n",
      "Topic #69: sail systems food badly bit emerges keith unconventional massacre temporarily\n",
      "Topic #70: gang bank william river casino murphy willie jesse troy detroit\n",
      "Topic #71: church major faith lost officer area local nazi priest knife\n",
      "Topic #72: terrible bet injured lloyd vic booth makes fascinated maid prisoner\n",
      "Topic #73: unwittingly physician characters disaster issue facility managed garden strip money\n",
      "Topic #74: fox drunken decisions flight feed experiment position marion charity threat\n",
      "Topic #75: share gangsters column passes sheriff mysterious king louise bank outpost\n",
      "Topic #76: toy wish leslie toys buzz action making general military eccentric\n",
      "Topic #77: morgan town rick determined murdered refuses gun matt train friend\n",
      "Topic #78: katherine mr years colleagues promoted students life dies school makes\n",
      "Topic #79: rabbit erlangen mafia julie rome diamonds gabe anti gangsters grace\n",
      "Topic #80: catherine alex woman black wives kills widow mysterious problem federal\n",
      "Topic #81: alex collect black survival investigation sami loomis follow egypt widow\n",
      "Topic #82: david max susan bruce woody louise wayne oliver zoo batman\n",
      "Topic #83: tony bobby kit life dance brooklyn club does family store\n",
      "Topic #84: detroit begin shared speech diamond face kong rises nasty expose\n",
      "Topic #85: anna family diary baby russian country mrs london finds teenager\n",
      "Topic #86: walter sam letter letters radio love debbie jeffrey newspaper write\n",
      "Topic #87: lila national spacecraft blanche eating justice harder matt quiet jim\n",
      "Topic #88: victoria fortune discovering science picture clients luxury feed thousand jury\n",
      "Topic #89: corner sinister ride harper independent facing suicide pretty ron spurlin\n",
      "Topic #90: daniel bridget halloween masks coma maker squad boss silver bride\n",
      "Topic #91: twin mrs bachelor dutch lessons willy addicted random warren hop\n",
      "Topic #92: network gates sniper booth senator page clue assassinate betrayed connections\n",
      "Topic #93: baldridge required south ranger ran explore fact wife oliver ghosts\n",
      "Topic #94: tom zoerner uni informatik erlangen zeus employees mount angels forbidden\n",
      "Topic #95: marvin nat prisoners dorothy siblings shocking danny incredible rat days\n",
      "Topic #96: jane aaron blanche child baby secretly attractive messages silver naturally\n",
      "Topic #97: ben tony dance alan dancer martin dancing clay sean margaret\n",
      "Topic #98: dog ghost chloe jess master park code speaking birds hitman\n",
      "Topic #99: empire rome roman caesar cleopatra egypt bc power affair alliance\n",
      "Topic #100: jack king princess giants giant runs leave begins offers away\n",
      "Topic #101: insists christian actions plotting garden celebrate spain drugs major 1959\n",
      "Topic #102: washington ann rod crawford edu puffinus connor dale watson myra\n",
      "Topic #103: charlotte chooses sadistic weekend museum air refuge smith hates cole\n",
      "Topic #104: jack king queen princess prince lord evil magic sara fairy\n",
      "Topic #105: team terrorists navy rescue captured weapons enemy mid destroyed held\n",
      "Topic #106: drag proposal ray zeus makzax voyage suicide teams ran strip\n",
      "Topic #107: kirk returned miss sacrifice dies influence pieces artist previously speaking\n",
      "Topic #108: captain jim ship crew train board pete passengers aboard sea\n",
      "Topic #109: charlie wedding factory bride luke bud chocolate robbie lucky pam\n",
      "Topic #110: anna baby uncle restaurant allison family diary soccer relatives london\n",
      "Topic #111: advertising arm moves ryan stay artistic crew seeks garden spaceship\n",
      "Topic #112: mexico ranch feared settle fiancé production loose difficulties debts troubles\n",
      "Topic #113: guide aren sights master division steven destination spends megan marilyn\n",
      "Topic #114: castle criminal learn wife george home couple french leaves dying\n",
      "Topic #115: peter howard lane beverly diane pan lloyd wendy cancer inevitable\n",
      "Topic #116: qv la victor lenny di al tris il gene non\n",
      "Topic #117: team football player coach league players dick sports ball season\n",
      "Topic #118: bob operator add inventor vacation twins hawaii christmas walt befriended\n",
      "Topic #119: jeff amanda drew zombies gus zombie gilbert pet ground dead\n",
      "Topic #120: life man new love family com young time years wife\n",
      "Topic #121: double reunite salesman teaching recognizes experiment mobster steven allen bomber\n",
      "Topic #122: orphanage franklin naive retired 17 victor winter empire hired hollywood\n",
      "Topic #123: explains perform somewhat offered elements gotham iraq arnold teach needham\n",
      "Topic #124: castle wounded wife dying couple criminal home george french gangsters\n",
      "Topic #125: nick charles lisa kelly marie oscar hunter travis olive edu\n",
      "Topic #126: men town boss life rancher corrupt old violence taken older\n",
      "Topic #127: circumstance developing nicky details council graham main roommate stage fall\n",
      "Topic #128: friend women best girl comes opposite life sex quite single\n",
      "Topic #129: linda jewel blu karl birds dixon hughes reed lila porter\n",
      "Topic #130: man set woman senator betrayed just hired years gradually assassinate\n",
      "Topic #131: katherine colleagues students kathy promoted teaching deloris plus mr saw\n",
      "Topic #132: war world american mission army government group men military german\n",
      "Topic #133: hidden join tested protection helped tom silent pal racing friendly\n",
      "Topic #134: jack princess giants giant king offers uncle away horse runs\n",
      "Topic #135: music art artist sujit varma world spider jay artists songs\n",
      "Topic #136: 18 rise separate giants wise maintain sniper games dress gagle\n",
      "Topic #137: thor mexican randy chronicles singing tris quiet boxing knew davis\n",
      "Topic #138: sebastian virgin cecile alicia activities banished outpost wine bet advances\n",
      "Topic #139: jonathan van count dracula jessica castle helsing vampire lawrence london\n",
      "Topic #140: phil program claudio train heads search superior alan wilderness eric\n",
      "Topic #141: drew gus jeff mother pet gilbert dog ground school eyes\n",
      "Topic #142: twist australia accident editor soldiers zone classmate council coma booth\n",
      "Topic #143: marriage spectre los thompson chooses darkness exactly surgery cottage wade\n",
      "Topic #144: operative shady happily heart barney pirate finding dying buys die\n",
      "Topic #145: forever cars stu dysfunctional finn took eventually plan citizens informs\n",
      "Topic #146: age years english candidate home wishes set times did france\n",
      "Topic #147: era retired expose irish ballet drunk opportunity teens millie socialite\n",
      "Topic #148: attending order speak battles hits need changing destructive suddenly maggie\n",
      "Topic #149: women guy serial electric burke beneath set utah notorious killer\n",
      "Topic #150: simon miller van butler classic helsing past horror training orleans\n",
      "Topic #151: harry danny sandy erica willy bernie olivia benedict archie rusty\n",
      "Topic #152: au oz cs jamie chapman murray uq muzzle nancy shaun\n",
      "Topic #153: penny room jenna base india forcing facing vegas climbing platoon\n",
      "Topic #154: threat eventually bike interested greatest helen unstable silva williamson el\n",
      "Topic #155: ted mary love prom private thirteen pat investigator date years\n",
      "Topic #156: curse baker doomed magic sally death bond use women involves\n",
      "Topic #157: roy sally greg bombing written novel robbery response murtaugh riggs\n",
      "Topic #158: hired set senator determined betrayed witness illegal brother years notices\n",
      "Topic #159: beliefs design 30 fletcher tear sudden department painter emily esutton\n",
      "Topic #160: type supernatural water wife double ron expedition toy jesus law\n",
      "Topic #161: heroes vengeance gentle cathy sequel witness france olive goals explosion\n",
      "Topic #162: school mother sister father high friends girl parents friend life\n",
      "Topic #163: dr cal planet ruth earth adams lab scientists steve small\n",
      "Topic #164: air planet princess evil king ruler half lone save daughter\n",
      "Topic #165: michael roger anne leo riggs murtaugh dorothy loomis demon falls\n",
      "Topic #166: arthur round maya table heir outcome justice half evil air\n",
      "Topic #167: son house art deeper decides mobster mob accidentally sacksteder major\n",
      "Topic #168: store video eric game hockey clerk department laurel dante jersey\n",
      "Topic #169: countess servant photograph employer documents certain ken extremely ambitious forms\n",
      "Topic #170: conclusion immigrant follow skills scholarship breakdown ill unexpected moved pirate\n",
      "Topic #171: audience town jenny refuse husband faces steal rod suit determine\n",
      "Topic #172: really blake reaches went letters connie carnival 17 forest pays\n",
      "Topic #173: sally greg window effort roy meets london life art medical\n",
      "Topic #174: elizabeth honey tree rabbit winnie dylan christopher agrees rescued robin\n",
      "Topic #175: tested open maid came rcs0411 openly mercenaries questioning century completely\n",
      "Topic #176: john jennifer newspaper dog rich test biological wedding energy gains\n",
      "Topic #177: holly poet route tired africa indian time souls fame stripper\n",
      "Topic #178: larry child bed jennifer work discovers new attraction fun world\n",
      "Topic #179: mr molly kitty ronnie turner neighbors ashley pet edward wonder\n",
      "Topic #180: love life jason brother leon falls family war story plans\n",
      "Topic #181: prison president escape jail security vince stanley eva harvey blake\n",
      "Topic #182: jeremy andy perkins 26 doll cotton secretary millionaire mom soon\n",
      "Topic #183: john grant park samantha lab computer ruth emperor adams matt\n",
      "Topic #184: dante day love girlfriend ted mary video hockey school job\n",
      "Topic #185: senator assassinate set years betrayed hired revenge john wife witness\n",
      "Topic #186: grandfather money does million person house leaves caesar young love\n",
      "Topic #187: paul california small long ranch family inheritance harold land buy\n",
      "Topic #188: emma life murder daughter piece boston tom medical job leads\n",
      "Topic #189: blue aids attempt derek associated uk literally experiences demon effects\n",
      "Topic #190: thomas claire catherine edgar cathy therapist web comfort specialist held\n",
      "Topic #191: like men body woman sent brooks bike treated marvin heaven\n",
      "Topic #192: news nick nazi journey showing answers hunted drunken org talent\n",
      "Topic #193: richard shark ellen sea waters sharks stewart hamilton emma water\n",
      "Topic #194: encounter rejected passion wine pool opposed manages gentle 1959 lovely\n",
      "Topic #195: girl institute believes taken story away russian research american net\n",
      "Topic #196: ray annie baseball jackson chicago gallery ken voice painting bosses\n",
      "Topic #197: massacre agenda grant brutally dibbern survive taken spectre imagination anne\n",
      "Topic #198: apartment daughter new bedroom dark husband near time water young\n",
      "Topic #199: fake mick wrestling australian foley situations mankind required roberts various\n",
      "\n"
     ]
    }
   ],
   "source": [
    "tf_feature_names = vect.get_feature_names()\n",
    "print_top_words(lda, tf_feature_names, 10)"
   ]
  }
 ],
 "metadata": {
  "kernelspec": {
   "display_name": "Global TF Kernel (Python 3)",
   "language": "python",
   "name": "global-tf-python-3"
  },
  "language_info": {
   "codemirror_mode": {
    "name": "ipython",
    "version": 3
   },
   "file_extension": ".py",
   "mimetype": "text/x-python",
   "name": "python",
   "nbconvert_exporter": "python",
   "pygments_lexer": "ipython3",
   "version": "3.5.2"
  }
 },
 "nbformat": 4,
 "nbformat_minor": 2
}
