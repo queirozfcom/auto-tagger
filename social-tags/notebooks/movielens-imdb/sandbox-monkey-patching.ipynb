{
 "cells": [
  {
   "cell_type": "code",
   "execution_count": 2,
   "metadata": {
    "collapsed": true
   },
   "outputs": [],
   "source": [
    "import nltk\n",
    "import re\n",
    "import numpy\n",
    "from nltk.corpus import brown\n",
    "from nltk.tokenize import TextTilingTokenizer"
   ]
  },
  {
   "cell_type": "code",
   "execution_count": 2,
   "metadata": {},
   "outputs": [
    {
     "data": {
      "text/plain": [
       "('3.2.5', '1.13.3')"
      ]
     },
     "execution_count": 2,
     "metadata": {},
     "output_type": "execute_result"
    }
   ],
   "source": [
    "nltk.__version__,numpy.__version__"
   ]
  },
  {
   "cell_type": "code",
   "execution_count": 3,
   "metadata": {},
   "outputs": [
    {
     "name": "stdout",
     "output_type": "stream",
     "text": [
      "showing info https://raw.githubusercontent.com/nltk/nltk_data/gh-pages/index.xml\n"
     ]
    },
    {
     "data": {
      "text/plain": [
       "True"
      ]
     },
     "execution_count": 3,
     "metadata": {},
     "output_type": "execute_result"
    }
   ],
   "source": [
    "nltk.download()"
   ]
  },
  {
   "cell_type": "code",
   "execution_count": 4,
   "metadata": {
    "collapsed": true
   },
   "outputs": [],
   "source": [
    "text = brown.raw()[:10000]"
   ]
  },
  {
   "cell_type": "code",
   "execution_count": 5,
   "metadata": {
    "scrolled": true
   },
   "outputs": [
    {
     "data": {
      "text/plain": [
       "\"\\n\\n\\tThe/at Fulton/np-tl County/nn-tl Grand/jj-tl Jury/nn-tl said/vbd Friday/nr an/at investigation/nn of/in Atlanta's/np$ recent/jj primary/nn election/nn produced/vbd ``/`` no/at evidence/nn ''/'' that/cs any/dti irregularities/nns took/vbd place/nn ./.\\n\\n\\n\\tThe/at jury/nn further/rbr said/vbd in/in term-end/nn presentments/nns that/cs the/at City/nn-tl Executive/jj-tl Committee/nn-tl ,/, which/wdt had/hvd over-all/jj charge/nn of/in the/at election/nn ,/, ``/`` deserves/vbz the/at praise/nn and/cc thanks/nns of/in the/at City/nn-tl of/in-tl Atlanta/np-tl ''/'' for/in the/at manner/nn in/in which/wdt the/at election/nn was/bedz conducted/vbn ./.\\n\\n\\n\\tThe/at September-October/np term/nn jury/nn had/hvd been/ben charged/vbn by/in Fulton/np-tl Superior/jj-tl Court/nn-tl Judge/nn-tl Durwood/np Pye/np to/to investigate/vb reports/nns of/in possible/jj ``/`` irregularities/nns ''/'' in/in the/at hard-fought/jj primary/nn which/wdt was/bedz won/vbn by/in Mayor-nominate/nn-tl Ivan/np Allen/np Jr./np ./.\\n\\n\\n\\t``/`` Only/rb a/at relative/jj handful/nn of/in such/jj reports/nns was/bedz received/vbn ''/'' ,/, the/at jury/nn said/vbd ,/, ``/`` considering/in the/at widespread/jj interest/nn in/in the/at election/nn ,/, the/at number/nn of/in voters/nns and/cc the/at size/nn of/in this/dt city/nn ''/'' ./.\\n\\n\\n\\tThe/at jury/nn said/vbd it/pps did/dod find/vb that/cs many/ap of/in Georgia's/np$ registration/nn and/cc election/nn laws/nns ``/`` are/ber outmoded/jj or/cc inadequate/jj and/cc often/rb ambiguous/jj ''/'' ./.\\n\\n\\n\\tIt/pps recommended/vbd that/cs Fulton/np legislators/nns act/vb ``/`` to/to have/hv these/dts laws/nns studied/vbn and/cc revised/vbn to/in the/at end/nn of/in modernizing/vbg and/cc improving/vbg them/ppo ''/'' ./.\\n\\n\\n\\tThe/at grand/jj jury/nn commented/vbd on/in a/at number/nn of/in other/ap topics/nns ,/, among/in them/ppo the/at Atlanta/np and/cc Fulton/np-tl County/nn-tl purchasing/vbg departments/nns which/wdt it/pps said/vbd ``/`` are/ber well/ql operated/vbn and/cc follow/vb generally/rb accepted/vbn practices/nns which/wdt inure/vb to/in the/at best/jjt interest/nn of/in both/abx governments/nns ''/'' ./.\\n\\n\\n\\nMerger/nn-hl proposed/vbn-hl \\nHowever/wrb ,/, the/at jury/nn said/vbd it/pps believes/vbz ``/`` these/dts two/cd offices/nns should/md be/be combined/vbn to/to achieve/vb greater/jjr efficiency/nn and/cc reduce/vb the/at cost/nn of/in administration/nn ''/'' ./.\\n\\n\\n\\tThe/at City/nn-tl Purchasing/vbg-tl Department/nn-tl ,/, the/at jury/nn said/vbd ,/, ``/`` is/bez lacking/vbg in/in experienced/vbn clerical/jj personnel/nns as/cs a/at result/nn of/in city/nn personnel/nns policies/nns ''/'' ./.\\nIt/pps urged/vbd that/cs the/at city/nn ``/`` take/vb steps/nns to/to remedy/vb ''/'' this/dt problem/nn ./.\\n\\n\\n\\tImplementation/nn of/in Georgia's/np$ automobile/nn title/nn law/nn was/bedz also/rb recommended/vbn by/in the/at outgoing/jj jury/nn ./.\\n\\n\\n\\tIt/pps urged/vbd that/cs the/at next/ap Legislature/nn-tl ``/`` provide/vb enabling/vbg funds/nns and/cc re-set/vb the/at effective/jj date/nn so/cs that/cs an/at orderly/jj implementation/nn of/in the/at law/nn may/md be/be effected/vbn ''/'' ./.\\n\\n\\n\\tThe/at grand/jj jury/nn took/vbd a/at swipe/nn at/in the/at State/nn-tl Welfare/nn-tl Department's/nn$-tl handling/nn of/in federal/jj funds/nns granted/vbn for/in child/nn welfare/nn services/nns in/in foster/jj homes/nns ./.\\n\\n\\n\\t``/`` This/dt is/bez one/cd of/in the/at major/jj items/nns in/in the/at Fulton/np-tl County/nn-tl general/jj assistance/nn program/nn ''/'' ,/, the/at jury/nn said/vbd ,/, but/cc the/at State/nn-tl Welfare/nn-tl Department/nn-tl ``/`` has/hvz seen/vbn fit/jj to/to distribute/vb these/dts funds/nns through/in the/at welfare/nn departments/nns of/in all/abn the/at counties/nns in/in the/at state/nn with/in the/at exception/nn of/in Fulton/np-tl County/nn-tl ,/, which/wdt receives/vbz none/pn of/in this/dt money/nn ./.\\n\\n\\n\\tThe/at jurors/nns said/vbd they/ppss realize/vb ``/`` a/at proportionate/jj distribution/nn of/in these/dts funds/nns might/md disable/vb this/dt program/nn in/in our/pp$ less/ql populous/jj counties/nns ''/'' ./.\\n\\n\\n\\tNevertheless/rb ,/, ``/`` we/ppss feel/vb that/cs in/in the/at future/nn Fulton/np-tl County/nn-tl should/md receive/vb some/dti portion/nn of/in these/dts available/jj funds/nns ''/'' ,/, the/at jurors/nns said/vbd ./.\\n``/`` Failure/nn to/to do/do this/dt will/md continue/vb to/to place/vb a/at disproportionate/jj burden/nn ''/'' on/in Fulton/np taxpayers/nns ./.\\n\\n\\n\\tThe/at jury/nn also/rb commented/vbd on/in the/at Fulton/np ordinary's/nn$ court/nn which/wdt has/hvz been/ben under/in fire/nn for/in its/pp$ practices/nns in/in the/at appointment/nn of/in appraisers/nns ,/, guardians/nns and/cc administrators/nns and/cc the/at awarding/nn of/in fees/nns and/cc compensation/nn ./.\\n\\n\\n\\nWards/nns-hl protected/vbn-hl \\nThe/at jury/nn said/vbd it/pps found/vbd the/at court/nn ``/`` has/hvz incorporated/vbn into/in its/pp$ operating/vbg procedures/nns the/at recommendations/nns ''/'' of/in two/cd previous/jj grand/jj juries/nns ,/, the/at Atlanta/np-tl Bar/nn-tl Association/nn-tl and/cc an/at interim/nn citizens/nns committee/nn ./.\\n\\n\\n\\t``/`` These/dts actions/nns should/md serve/vb to/to protect/vb in/in fact/nn and/cc in/in effect/nn the/at court's/nn$ wards/nns from/in undue/jj costs/nns and/cc its/pp$ appointed/vbn and/cc elected/vbn servants/nns from/in unmeritorious/jj criticisms/nns ''/'' ,/, the/at jury/nn said/vbd ./.\\n\\n\\n\\tRegarding/in Atlanta's/np$ new/jj multi-million-dollar/jj airport/nn ,/, the/at jury/nn recommended/vbd ``/`` that/cs when/wrb the/at new/jj management/nn takes/vbz charge/nn Jan./np 1/cd the/at airport/nn be/be operated/vbn in/in a/at manner/nn that/wps will/md eliminate/vb political/jj influences/nns ''/'' ./.\\n\\n\\n\\tThe/at jury/nn did/dod not/* elaborate/vb ,/, but/cc it/pps added/vbd that/cs ``/`` there/ex should/md be/be periodic/jj surveillance/nn of/in the/at pricing/vbg practices/nns of/in the/at concessionaires/nns for/in the/at purpose/nn of/in keeping/vbg the/at prices/nns reasonable/jj ''/'' ./.\\n\\n\\n\\nAsk/vb-hl jail/nn-hl deputies/nns-hl \\nOn/in other/ap matters/nns ,/, the/at jury/nn recommended/vbd that/cs :/: (/( 1/cd )/) \\nFour/cd additional/jj deputies/nns be/be employed/vbn at/in the/at Fulton/np-tl County/nn-tl Jail/nn-tl and/cc ``/`` a/at doctor/nn ,/, medical/jj intern/nn or/cc extern/nn be/be employed/vbn for/in night/nn and/cc weekend/nn duty/nn at/in the/at jail/nn ''/'' ./.\\n(/( 2/cd )/) \\nFulton/np legislators/nns ``/`` work/vb with/in city/nn officials/nns to/to pass/vb enabling/vbg legislation/nn that/wps will/md permit/vb the/at establishment/nn of/in a/at fair/jj and/cc equitable/jj ''/'' pension/nn plan/nn for/in city/nn employes/nns ./.\\n\\n\\n\\tThe/at jury/nn praised/vbd the/at administration/nn and/cc operation/nn of/in the/at Atlanta/np-tl Police/nns-tl Department/nn-tl ,/, the/at Fulton/np-tl Tax/nn-tl Commissioner's/nn$-tl Office/nn-tl ,/, the/at Bellwood/np and/cc Alpharetta/np prison/nn farms/nns ,/, Grady/np-tl Hospital/nn-tl and/cc the/at Fulton/np-tl Health/nn-tl Department/nn-tl ./.\\n\\n\\n\\tMayor/nn-tl William/np B./np Hartsfield/np filed/vbd suit/nn for/in divorce/nn from/in his/pp$ wife/nn ,/, Pearl/np Williams/np Hartsfield/np ,/, in/in Fulton/np-tl Superior/jj-tl Court/nn-tl Friday/nr ./.\\nHis/pp$ petition/nn charged/vbd mental/jj cruelty/nn ./.\\n\\n\\n\\tThe/at couple/nn was/bedz married/vbn Aug./np 2/cd ,/, 1913/cd ./.\\nThey/ppss have/hv a/at son/nn ,/, William/np Berry/np Jr./np ,/, and/cc a/at daughter/nn ,/, Mrs./np J./np M./np Cheshire/np of/in Griffin/np ./.\\n\\n\\n\\tAttorneys/nns for/in the/at mayor/nn said/vbd that/cs an/at amicable/jj property/nn settlement/nn has/hvz been/ben agreed/vbn upon/rb ./.\\n\\n\\n\\tThe/at petition/nn listed/vbd the/at mayor's/nn$ occupation/nn as/cs ``/`` attorney/nn ''/'' and/cc his/pp$ age/nn as/cs 71/cd ./.\\nIt/pps listed/vbd his/pp$ wife's/nn$ age/nn as/cs 74/cd and/cc place/nn of/in birth/nn as/cs Opelika/np ,/, Ala./np ./.\\n\\n\\n\\tThe/at petition/nn said/vbd that/cs the/at couple/nn has/hvz not/* lived/vbn together/rb as/cs man/nn and/cc wife/nn for/in more/ap than/in a/at year/nn ./.\\n\\n\\n\\tThe/at Hartsfield/np home/nr is/bez at/in 637/cd E./np Pelham/np Rd./nn-tl Aj/nn ./.\\n\\n\\n\\tHenry/np L./np Bowden/np was/bedz listed/vbn on/in the/at petition/nn as/cs the/at mayor's/nn$ attorney/nn ./.\\n\\n\\n\\tHartsfield/np has/hvz been/ben mayor/nn of/in Atlanta/np ,/, with/in exception/nn of/in one/cd brief/jj interlude/nn ,/, since/in 1937/cd ./.\\nHis/pp$ political/jj career/nn goes/vbz back/rb to/in his/pp$ election/nn to/in city/nn council/nn in/in 1923/cd ./.\\n\\n\\n\\tThe/at mayor's/nn$ present/jj term/nn of/in office/nn expires/vbz Jan./np 1/cd ./.\\nHe/pps will/md be/be succeeded/vbn by/in Ivan/np Allen/np Jr./np ,/, who/wps became/vbd a/at candidate/nn in/in the/at Sept./np 13/cd primary/nn after/cs Mayor/nn-tl Hartsfield/np announced/vbd that/cs he/pps would/md not/* run/vb for/in reelection/nn ./.\\n\\n\\n\\tGeorgia/np Republicans/nps are/ber getting/vbg strong/jj encouragement/nn to/to enter/vb a/at candidate/nn in/in the/at 1962/cd governor's/nn$ race/nn ,/, a/at top/jjs official/nn said/vbd Wednesday/nr ./.\\n\\n\\n\\tRobert/np Snodgrass/np ,/, state/nn GOP/nn chairman/nn ,/, said/vbd a/at meeting/nn held/vbn Tuesday/nr night/nn in/in Blue/jj-tl Ridge/nn-tl brought/vbd enthusiastic/jj responses/nns from/in the/at audience/nn ./.\\n\\n\\n\\tState/nn-tl Party/nn-tl Chairman/nn-tl James/np W./np Dorsey/np added/vbd that/cs enthusiasm/nn was/bedz picking/vbg up/rp for/in a/at state/nn rally/nn to/to be/be held/vbn Sept./np 8/cd in/in Savannah/np at/in which/wdt newly/rb elected/vbn Texas/np Sen./nn-tl John/np Tower/np will/md be/be the/at featured/vbn speaker/nn ./.\\n\\n\\n\\tIn/in the/at Blue/jj-tl Ridge/nn-tl meeting/nn ,/, the/at audience/nn was/bedz warned/vbn that/cs entering/vbg a/at candidate/nn for/in governor/nn would/md force/vb it/ppo to/to take/vb petitions/nns out/rp into/in voting/vbg precincts/nns to/to obtain/vb the/at signatures/nns of/in registere\""
      ]
     },
     "execution_count": 5,
     "metadata": {},
     "output_type": "execute_result"
    }
   ],
   "source": [
    "text"
   ]
  },
  {
   "cell_type": "code",
   "execution_count": 6,
   "metadata": {
    "scrolled": true
   },
   "outputs": [
    {
     "data": {
      "text/plain": [
       "[\"\\n\\n\\tThe/at Fulton/np-tl County/nn-tl Grand/jj-tl Jury/nn-tl said/vbd Friday/nr an/at investigation/nn of/in Atlanta's/np$ recent/jj primary/nn election/nn produced/vbd ``/`` no/at evidence/nn ''/'' that/cs any/dti irregularities/nns took/vbd place/nn ./.\\n\\n\\n\\tThe/at jury/nn further/rbr said/vbd in/in term-end/nn presentments/nns that/cs the/at City/nn-tl Executive/jj-tl Committee/nn-tl ,/, which/wdt had/hvd over-all/jj charge/nn of/in the/at election/nn ,/, ``/`` deserves/vbz the/at praise/nn and/cc thanks/nns of/in the/at City/nn-tl of/in-tl Atlanta/np-tl ''/'' for/in the/at manner/nn in/in which/wdt the/at election/nn was/bedz conducted/vbn ./.\\n\\n\\n\\tThe/at September-October/np term/nn jury/nn had/hvd been/ben charged/vbn by/in Fulton/np-tl Superior/jj-tl Court/nn-tl Judge/nn-tl Durwood/np Pye/np to/to investigate/vb reports/nns of/in possible/jj ``/`` irregularities/nns ''/'' in/in the/at hard-fought/jj primary/nn which/wdt was/bedz won/vbn by/in Mayor-nominate/nn-tl Ivan/np Allen/np Jr./np ./.\",\n",
       " \"\\n\\n\\n\\t``/`` Only/rb a/at relative/jj handful/nn of/in such/jj reports/nns was/bedz received/vbn ''/'' ,/, the/at jury/nn said/vbd ,/, ``/`` considering/in the/at widespread/jj interest/nn in/in the/at election/nn ,/, the/at number/nn of/in voters/nns and/cc the/at size/nn of/in this/dt city/nn ''/'' ./.\\n\\n\\n\\tThe/at jury/nn said/vbd it/pps did/dod find/vb that/cs many/ap of/in Georgia's/np$ registration/nn and/cc election/nn laws/nns ``/`` are/ber outmoded/jj or/cc inadequate/jj and/cc often/rb ambiguous/jj ''/'' ./.\\n\\n\\n\\tIt/pps recommended/vbd that/cs Fulton/np legislators/nns act/vb ``/`` to/to have/hv these/dts laws/nns studied/vbn and/cc revised/vbn to/in the/at end/nn of/in modernizing/vbg and/cc improving/vbg them/ppo ''/'' ./.\\n\\n\\n\\tThe/at grand/jj jury/nn commented/vbd on/in a/at number/nn of/in other/ap topics/nns ,/, among/in them/ppo the/at Atlanta/np and/cc Fulton/np-tl County/nn-tl purchasing/vbg departments/nns which/wdt it/pps said/vbd ``/`` are/ber well/ql operated/vbn and/cc follow/vb generally/rb accepted/vbn practices/nns which/wdt inure/vb to/in the/at best/jjt interest/nn of/in both/abx governments/nns ''/'' ./.\",\n",
       " \"\\n\\n\\n\\nMerger/nn-hl proposed/vbn-hl \\nHowever/wrb ,/, the/at jury/nn said/vbd it/pps believes/vbz ``/`` these/dts two/cd offices/nns should/md be/be combined/vbn to/to achieve/vb greater/jjr efficiency/nn and/cc reduce/vb the/at cost/nn of/in administration/nn ''/'' ./.\\n\\n\\n\\tThe/at City/nn-tl Purchasing/vbg-tl Department/nn-tl ,/, the/at jury/nn said/vbd ,/, ``/`` is/bez lacking/vbg in/in experienced/vbn clerical/jj personnel/nns as/cs a/at result/nn of/in city/nn personnel/nns policies/nns ''/'' ./.\\nIt/pps urged/vbd that/cs the/at city/nn ``/`` take/vb steps/nns to/to remedy/vb ''/'' this/dt problem/nn ./.\",\n",
       " \"\\n\\n\\n\\tImplementation/nn of/in Georgia's/np$ automobile/nn title/nn law/nn was/bedz also/rb recommended/vbn by/in the/at outgoing/jj jury/nn ./.\\n\\n\\n\\tIt/pps urged/vbd that/cs the/at next/ap Legislature/nn-tl ``/`` provide/vb enabling/vbg funds/nns and/cc re-set/vb the/at effective/jj date/nn so/cs that/cs an/at orderly/jj implementation/nn of/in the/at law/nn may/md be/be effected/vbn ''/'' ./.\\n\\n\\n\\tThe/at grand/jj jury/nn took/vbd a/at swipe/nn at/in the/at State/nn-tl Welfare/nn-tl Department's/nn$-tl handling/nn of/in federal/jj funds/nns granted/vbn for/in child/nn welfare/nn services/nns in/in foster/jj homes/nns ./.\\n\\n\\n\\t``/`` This/dt is/bez one/cd of/in the/at major/jj items/nns in/in the/at Fulton/np-tl County/nn-tl general/jj assistance/nn program/nn ''/'' ,/, the/at jury/nn said/vbd ,/, but/cc the/at State/nn-tl Welfare/nn-tl Department/nn-tl ``/`` has/hvz seen/vbn fit/jj to/to distribute/vb these/dts funds/nns through/in the/at welfare/nn departments/nns of/in all/abn the/at counties/nns in/in the/at state/nn with/in the/at exception/nn of/in Fulton/np-tl County/nn-tl ,/, which/wdt receives/vbz none/pn of/in this/dt money/nn ./.\\n\\n\\n\\tThe/at jurors/nns said/vbd they/ppss realize/vb ``/`` a/at proportionate/jj distribution/nn of/in these/dts funds/nns might/md disable/vb this/dt program/nn in/in our/pp$ less/ql populous/jj counties/nns ''/'' ./.\",\n",
       " \"\\n\\n\\n\\tNevertheless/rb ,/, ``/`` we/ppss feel/vb that/cs in/in the/at future/nn Fulton/np-tl County/nn-tl should/md receive/vb some/dti portion/nn of/in these/dts available/jj funds/nns ''/'' ,/, the/at jurors/nns said/vbd ./.\\n``/`` Failure/nn to/to do/do this/dt will/md continue/vb to/to place/vb a/at disproportionate/jj burden/nn ''/'' on/in Fulton/np taxpayers/nns ./.\\n\\n\\n\\tThe/at jury/nn also/rb commented/vbd on/in the/at Fulton/np ordinary's/nn$ court/nn which/wdt has/hvz been/ben under/in fire/nn for/in its/pp$ practices/nns in/in the/at appointment/nn of/in appraisers/nns ,/, guardians/nns and/cc administrators/nns and/cc the/at awarding/nn of/in fees/nns and/cc compensation/nn ./.\\n\\n\\n\\nWards/nns-hl protected/vbn-hl \\nThe/at jury/nn said/vbd it/pps found/vbd the/at court/nn ``/`` has/hvz incorporated/vbn into/in its/pp$ operating/vbg procedures/nns the/at recommendations/nns ''/'' of/in two/cd previous/jj grand/jj juries/nns ,/, the/at Atlanta/np-tl Bar/nn-tl Association/nn-tl and/cc an/at interim/nn citizens/nns committee/nn ./.\",\n",
       " \"\\n\\n\\n\\t``/`` These/dts actions/nns should/md serve/vb to/to protect/vb in/in fact/nn and/cc in/in effect/nn the/at court's/nn$ wards/nns from/in undue/jj costs/nns and/cc its/pp$ appointed/vbn and/cc elected/vbn servants/nns from/in unmeritorious/jj criticisms/nns ''/'' ,/, the/at jury/nn said/vbd ./.\\n\\n\\n\\tRegarding/in Atlanta's/np$ new/jj multi-million-dollar/jj airport/nn ,/, the/at jury/nn recommended/vbd ``/`` that/cs when/wrb the/at new/jj management/nn takes/vbz charge/nn Jan./np 1/cd the/at airport/nn be/be operated/vbn in/in a/at manner/nn that/wps will/md eliminate/vb political/jj influences/nns ''/'' ./.\",\n",
       " \"\\n\\n\\n\\tThe/at jury/nn did/dod not/* elaborate/vb ,/, but/cc it/pps added/vbd that/cs ``/`` there/ex should/md be/be periodic/jj surveillance/nn of/in the/at pricing/vbg practices/nns of/in the/at concessionaires/nns for/in the/at purpose/nn of/in keeping/vbg the/at prices/nns reasonable/jj ''/'' ./.\\n\\n\\n\\nAsk/vb-hl jail/nn-hl deputies/nns-hl \\nOn/in other/ap matters/nns ,/, the/at jury/nn recommended/vbd that/cs :/: (/( 1/cd )/) \\nFour/cd additional/jj deputies/nns be/be employed/vbn at/in the/at Fulton/np-tl County/nn-tl Jail/nn-tl and/cc ``/`` a/at doctor/nn ,/, medical/jj intern/nn or/cc extern/nn be/be employed/vbn for/in night/nn and/cc weekend/nn duty/nn at/in the/at jail/nn ''/'' ./.\\n(/( 2/cd )/) \\nFulton/np legislators/nns ``/`` work/vb with/in city/nn officials/nns to/to pass/vb enabling/vbg legislation/nn that/wps will/md permit/vb the/at establishment/nn of/in a/at fair/jj and/cc equitable/jj ''/'' pension/nn plan/nn for/in city/nn employes/nns ./.\",\n",
       " \"\\n\\n\\n\\tThe/at jury/nn praised/vbd the/at administration/nn and/cc operation/nn of/in the/at Atlanta/np-tl Police/nns-tl Department/nn-tl ,/, the/at Fulton/np-tl Tax/nn-tl Commissioner's/nn$-tl Office/nn-tl ,/, the/at Bellwood/np and/cc Alpharetta/np prison/nn farms/nns ,/, Grady/np-tl Hospital/nn-tl and/cc the/at Fulton/np-tl Health/nn-tl Department/nn-tl ./.\\n\\n\\n\\tMayor/nn-tl William/np B./np Hartsfield/np filed/vbd suit/nn for/in divorce/nn from/in his/pp$ wife/nn ,/, Pearl/np Williams/np Hartsfield/np ,/, in/in Fulton/np-tl Superior/jj-tl Court/nn-tl Friday/nr ./.\\nHis/pp$ petition/nn charged/vbd mental/jj cruelty/nn ./.\\n\\n\\n\\tThe/at couple/nn was/bedz married/vbn Aug./np 2/cd ,/, 1913/cd ./.\\nThey/ppss have/hv a/at son/nn ,/, William/np Berry/np Jr./np ,/, and/cc a/at daughter/nn ,/, Mrs./np J./np M./np Cheshire/np of/in Griffin/np ./.\\n\\n\\n\\tAttorneys/nns for/in the/at mayor/nn said/vbd that/cs an/at amicable/jj property/nn settlement/nn has/hvz been/ben agreed/vbn upon/rb ./.\\n\\n\\n\\tThe/at petition/nn listed/vbd the/at mayor's/nn$ occupation/nn as/cs ``/`` attorney/nn ''/'' and/cc his/pp$ age/nn as/cs 71/cd ./.\\nIt/pps listed/vbd his/pp$ wife's/nn$ age/nn as/cs 74/cd and/cc place/nn of/in birth/nn as/cs Opelika/np ,/, Ala./np ./.\",\n",
       " \"\\n\\n\\n\\tThe/at petition/nn said/vbd that/cs the/at couple/nn has/hvz not/* lived/vbn together/rb as/cs man/nn and/cc wife/nn for/in more/ap than/in a/at year/nn ./.\\n\\n\\n\\tThe/at Hartsfield/np home/nr is/bez at/in 637/cd E./np Pelham/np Rd./nn-tl Aj/nn ./.\\n\\n\\n\\tHenry/np L./np Bowden/np was/bedz listed/vbn on/in the/at petition/nn as/cs the/at mayor's/nn$ attorney/nn ./.\\n\\n\\n\\tHartsfield/np has/hvz been/ben mayor/nn of/in Atlanta/np ,/, with/in exception/nn of/in one/cd brief/jj interlude/nn ,/, since/in 1937/cd ./.\\nHis/pp$ political/jj career/nn goes/vbz back/rb to/in his/pp$ election/nn to/in city/nn council/nn in/in 1923/cd ./.\",\n",
       " \"\\n\\n\\n\\tThe/at mayor's/nn$ present/jj term/nn of/in office/nn expires/vbz Jan./np 1/cd ./.\\nHe/pps will/md be/be succeeded/vbn by/in Ivan/np Allen/np Jr./np ,/, who/wps became/vbd a/at candidate/nn in/in the/at Sept./np 13/cd primary/nn after/cs Mayor/nn-tl Hartsfield/np announced/vbd that/cs he/pps would/md not/* run/vb for/in reelection/nn ./.\\n\\n\\n\\tGeorgia/np Republicans/nps are/ber getting/vbg strong/jj encouragement/nn to/to enter/vb a/at candidate/nn in/in the/at 1962/cd governor's/nn$ race/nn ,/, a/at top/jjs official/nn said/vbd Wednesday/nr ./.\\n\\n\\n\\tRobert/np Snodgrass/np ,/, state/nn GOP/nn chairman/nn ,/, said/vbd a/at meeting/nn held/vbn Tuesday/nr night/nn in/in Blue/jj-tl Ridge/nn-tl brought/vbd enthusiastic/jj responses/nns from/in the/at audience/nn ./.\\n\\n\\n\\tState/nn-tl Party/nn-tl Chairman/nn-tl James/np W./np Dorsey/np added/vbd that/cs enthusiasm/nn was/bedz picking/vbg up/rp for/in a/at state/nn rally/nn to/to be/be held/vbn Sept./np 8/cd in/in Savannah/np at/in which/wdt newly/rb elected/vbn Texas/np Sen./nn-tl John/np Tower/np will/md be/be the/at featured/vbn speaker/nn ./.\\n\\n\\n\\tIn/in the/at Blue/jj-tl Ridge/nn-tl meeting/nn ,/, the/at audience/nn was/bedz warned/vbn that/cs entering/vbg a/at candidate/nn for/in governor/nn would/md force/vb it/ppo to/to take/vb petitions/nns out/rp into/in voting/vbg precincts/nns to/to obtain/vb the/at signatures/nns of/in registere\"]"
      ]
     },
     "execution_count": 6,
     "metadata": {},
     "output_type": "execute_result"
    }
   ],
   "source": [
    "TextTilingTokenizer().tokenize(text)"
   ]
  },
  {
   "cell_type": "code",
   "execution_count": 7,
   "metadata": {},
   "outputs": [
    {
     "data": {
      "text/plain": [
       "['After being trapped in a jungle board game for 26 years, a Man-Child wins his release from the game.\\n\\nBut, no sooner has he arrived that he is forced to play again, and this time sets the creatures of the jungle loose on the city.\\n\\n When a boy finds a magic board game, which becomes a nightmare, he needs to finish it or the game will never end.\\n\\n26 years later, while everyone thought he was dead, two kids again find the game and have to have the help of the boy to finish Jumanji.',\n",
       " '\\n\\nAlan Parris has been trapped in an ancient magical board game, Jumanji, for 26 years.\\n\\nWhen he is finally freed by two children, a herd of wild exotic animals have accidentally been released as well.\\n\\nTwelve-year old Alan Parrish finds \"Jumanji\", a board game, in 1969. He and Sarah Whittle play it that night.\\n\\nWhen a quote says \"In the jungle you must wait, until the dice roll 5 or 8\" Alan is suddenly pulled into the game.']"
      ]
     },
     "execution_count": 7,
     "metadata": {},
     "output_type": "execute_result"
    }
   ],
   "source": [
    "txt = \"After being trapped in a jungle board game for 26 years, a Man-Child wins his release from the game.\"\n",
    "\n",
    "txt += \"\\n\\n\"\n",
    "\n",
    "txt += \"But, no sooner has he arrived that he is forced to play again, and this time sets the creatures of the jungle loose on the city.\"\n",
    "\n",
    "txt += \"\\n\\n\"\n",
    "\n",
    "txt += \" When a boy finds a magic board game, which becomes a nightmare, he needs to finish it or the game will never end.\"\n",
    "\n",
    "txt += \"\\n\\n\"\n",
    "\n",
    "txt += \"26 years later, while everyone thought he was dead, two kids again find the game and have to have the help of the boy to finish Jumanji.\"\n",
    "\n",
    "txt += \"\\n\\n\"\n",
    "\n",
    "txt += \"Alan Parris has been trapped in an ancient magical board game, Jumanji, for 26 years.\"\n",
    "\n",
    "txt += \"\\n\\n\"\n",
    "\n",
    "txt += \"When he is finally freed by two children, a herd of wild exotic animals have accidentally been released as well.\"\n",
    "\n",
    "txt += \"\\n\\n\"\n",
    "\n",
    "txt += \"Twelve-year old Alan Parrish finds \\\"Jumanji\\\", a board game, in 1969. He and Sarah Whittle play it that night.\"\n",
    "\n",
    "txt += \"\\n\\n\"\n",
    "\n",
    "txt += \"When a quote says \\\"In the jungle you must wait, until the dice roll 5 or 8\\\" Alan is suddenly pulled into the game.\"\n",
    "\n",
    "tf = TextTilingTokenizer()\n",
    "tf.tokenize(txt)\n"
   ]
  },
  {
   "cell_type": "code",
   "execution_count": 10,
   "metadata": {
    "collapsed": true
   },
   "outputs": [],
   "source": [
    "txt = \"A little boy named Andy loves to be in his room, playing with his toys, especially his doll named \\\"Woody\\\". But, what do the toys do when Andy is not with them, they come to life. Woody believes that he has life (as a toy) good. However, he must worry about Andy's family moving, and what Woody does not know is about Andy's birthday party. Woody does not realize that Andy's mother gave him an action figure known as Buzz Lightyear, who does not believe that he is a toy, and quickly becomes Andy's new favorite toy. Woody, who is now consumed with jealousy, tries to get rid of Buzz. Then, both Woody and Buzz are now lost. They must find a way to get back to Andy before he moves without them, but they will have to pass through a ruthless toy killer, Sid Phillips. \\n\\n  Woody, a good-hearted cowboy doll who belongs to a young boy named Andy, sees his position as Andy's favorite toy jeopardized when his parents buy him a Buzz Lightyear action figure. Even worse, the arrogant Buzz thinks he's a real spaceman on a mission to return to his home planet. When Andy's family moves to a new house, Woody and Buzz must escape the clutches of maladjusted neighbor Sid Phillips and reunite with their boy. \\n\\n  Toy Story is about the 'secret life of toys' when people are not around. When Buzz Lightyear, a space-ranger, takes Woody's place as Andy's favorite toy, Woody doesn't like the situation and gets into a fight with Buzz. Accidentaly Buzz falls out the window and Woody is accused by all the other toys of having killed him. He has to go out of the house to look for him so that they can both return to Andys room. But while on the outside they get into all kind of trouble while trying to get home. \\n\\n  Imagination runs rampant when toys become mobile when not watched. Two toys, Woody and Buzz Lightyear despise each other like no other. But, when the toys are separated from their home, a truce is formed between them all in an effort to journey home. \\n\\n  A toy named Woody has it all. He is practically the leader in Andy's toy room, Bo Peep has the hots for him, and most importantly, he is Andy's favorite toy. But when the clocks strike Andy's birthday, a new toy arrives. Buzz Lightyear, a space cadet who thinks he is a space ranger, (not a toy in a room) instantly wins over Andy, thus becoming Andy's new treasure. But when Woody is accused of knocking Buzz out of the window, he must go into the world and find Buzz, with many delays.\"\n",
    "\n",
    "tf = TextTilingTokenizer()"
   ]
  },
  {
   "cell_type": "code",
   "execution_count": 16,
   "metadata": {
    "collapsed": true
   },
   "outputs": [],
   "source": [
    "def my_depth_scores(self, scores):\n",
    "    \"\"\"Calculates the depth of each gap, i.e. the average difference\n",
    "    between the left and right peaks and the gap's score\"\"\"\n",
    "\n",
    "    depth_scores = [0 for x in scores]\n",
    "    #clip boundaries: this holds on the rule of thumb(my thumb)\n",
    "    #that a section shouldn't be smaller than at least 2\n",
    "    #pseudosentences for small texts and around 5 for larger ones.\n",
    "\n",
    "    clip = min(max(len(scores)//10, 2), 5)\n",
    "    index = clip\n",
    "\n",
    "    for gapscore in scores[clip:-clip]:\n",
    "        lpeak = gapscore\n",
    "        for score in scores[index::-1]:\n",
    "            if score >= lpeak:\n",
    "                lpeak = score\n",
    "            else:\n",
    "                break\n",
    "        rpeak = gapscore\n",
    "        for score in scores[index:]:\n",
    "            if score >= rpeak:\n",
    "                rpeak = score\n",
    "            else:\n",
    "                break\n",
    "        depth_scores[index] = lpeak + rpeak - 2 * gapscore\n",
    "        index += 1\n",
    "\n",
    "    return depth_scores"
   ]
  },
  {
   "cell_type": "code",
   "execution_count": 21,
   "metadata": {
    "collapsed": true
   },
   "outputs": [],
   "source": [
    "import types\n",
    "\n",
    "# FO-DA\n",
    "\n",
    "tf._depth_scores = types.MethodType(my_depth_scores, tf)"
   ]
  },
  {
   "cell_type": "code",
   "execution_count": 22,
   "metadata": {},
   "outputs": [
    {
     "data": {
      "text/plain": [
       "['A little boy named Andy loves to be in his room, playing with his toys, especially his doll named \"Woody\". But, what do the toys do when Andy is not with them, they come to life. Woody believes that he has life (as a toy) good. However, he must worry about Andy\\'s family moving, and what Woody does not know is about Andy\\'s birthday party. Woody does not realize that Andy\\'s mother gave him an action figure known as Buzz Lightyear, who does not believe that he is a toy, and quickly becomes Andy\\'s new favorite toy. Woody, who is now consumed with jealousy, tries to get rid of Buzz. Then, both Woody and Buzz are now lost. They must find a way to get back to Andy before he moves without them, but they will have to pass through a ruthless toy killer, Sid Phillips.',\n",
       " \" \\n\\n  Woody, a good-hearted cowboy doll who belongs to a young boy named Andy, sees his position as Andy's favorite toy jeopardized when his parents buy him a Buzz Lightyear action figure. Even worse, the arrogant Buzz thinks he's a real spaceman on a mission to return to his home planet. When Andy's family moves to a new house, Woody and Buzz must escape the clutches of maladjusted neighbor Sid Phillips and reunite with their boy. \\n\\n  Toy Story is about the 'secret life of toys' when people are not around. When Buzz Lightyear, a space-ranger, takes Woody's place as Andy's favorite toy, Woody doesn't like the situation and gets into a fight with Buzz. Accidentaly Buzz falls out the window and Woody is accused by all the other toys of having killed him. He has to go out of the house to look for him so that they can both return to Andys room. But while on the outside they get into all kind of trouble while trying to get home.\",\n",
       " ' \\n\\n  Imagination runs rampant when toys become mobile when not watched. Two toys, Woody and Buzz Lightyear despise each other like no other. But, when the toys are separated from their home, a truce is formed between them all in an effort to journey home.',\n",
       " \" \\n\\n  A toy named Woody has it all. He is practically the leader in Andy's toy room, Bo Peep has the hots for him, and most importantly, he is Andy's favorite toy. But when the clocks strike Andy's birthday, a new toy arrives. Buzz Lightyear, a space cadet who thinks he is a space ranger, (not a toy in a room) instantly wins over Andy, thus becoming Andy's new treasure. But when Woody is accused of knocking Buzz out of the window, he must go into the world and find Buzz, with many delays.\"]"
      ]
     },
     "execution_count": 22,
     "metadata": {},
     "output_type": "execute_result"
    }
   ],
   "source": [
    "tf.tokenize(txt)"
   ]
  },
  {
   "cell_type": "code",
   "execution_count": 5,
   "metadata": {},
   "outputs": [
    {
     "data": {
      "text/plain": [
       "'foo bar'"
      ]
     },
     "execution_count": 5,
     "metadata": {},
     "output_type": "execute_result"
    }
   ],
   "source": [
    "re.sub(\"PL: \", '', \"PL: foo bar\")"
   ]
  },
  {
   "cell_type": "code",
   "execution_count": null,
   "metadata": {
    "collapsed": true
   },
   "outputs": [],
   "source": []
  }
 ],
 "metadata": {
  "kernelspec": {
   "display_name": "Global TF Kernel (Python 3)",
   "language": "python",
   "name": "global-tf-python-3"
  },
  "language_info": {
   "codemirror_mode": {
    "name": "ipython",
    "version": 3
   },
   "file_extension": ".py",
   "mimetype": "text/x-python",
   "name": "python",
   "nbconvert_exporter": "python",
   "pygments_lexer": "ipython3",
   "version": "3.5.2"
  }
 },
 "nbformat": 4,
 "nbformat_minor": 2
}
