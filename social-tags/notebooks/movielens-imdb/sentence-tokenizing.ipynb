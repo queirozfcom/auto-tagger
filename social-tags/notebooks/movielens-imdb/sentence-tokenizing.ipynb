{
 "cells": [
  {
   "cell_type": "code",
   "execution_count": 3,
   "metadata": {
    "collapsed": true
   },
   "outputs": [],
   "source": [
    "import nltk"
   ]
  },
  {
   "cell_type": "code",
   "execution_count": 4,
   "metadata": {},
   "outputs": [
    {
     "name": "stdout",
     "output_type": "stream",
     "text": [
      "[nltk_data] Downloading package punkt to /home/felipe/nltk_data...\n",
      "[nltk_data]   Unzipping tokenizers/punkt.zip.\n"
     ]
    },
    {
     "data": {
      "text/plain": [
       "True"
      ]
     },
     "execution_count": 4,
     "metadata": {},
     "output_type": "execute_result"
    }
   ],
   "source": [
    "nltk.download('punkt')"
   ]
  },
  {
   "cell_type": "code",
   "execution_count": 8,
   "metadata": {},
   "outputs": [
    {
     "name": "stdout",
     "output_type": "stream",
     "text": [
      "After being trapped in a jungle board game for 26 years, a Man-Child wins his release from the game.\n",
      "-----\n",
      "But, no sooner has he arrived that he is forced to play again, and this time sets the creatures of the jungle loose on the city.\n",
      "-----\n",
      "When a boy finds a magic board game, which becomes a nightmare, he needs to finish it or the game will never end.\n",
      "-----\n",
      "26 years later, while everyone thought he was dead, two kids again find the game and have to have the help of the boy to finish Jumanji.\n",
      "-----\n",
      "Alan Parris has been trapped in an ancient magical board game, Jumanji, for 26 years.\n",
      "-----\n",
      "When he is finally freed by two children, a herd of wild exotic animals have accidentally been released as well.\n",
      "-----\n",
      "Twelve-year old Alan Parrish finds \"Jumanji\", a board game, in 1969.\n",
      "-----\n",
      "He and Sarah Whittle play it that night.\n",
      "-----\n",
      "When a quote says \"In the jungle you must wait, until the dice roll 5 or 8\" Alan is suddenly pulled into the game.\n"
     ]
    }
   ],
   "source": [
    "txt = \"After being trapped in a jungle board game for 26 years, a Man-Child wins his release from the game.\"\n",
    "\n",
    "txt += \" But, no sooner has he arrived that he is forced to play again, and this time sets the creatures of the jungle loose on the city.\"\n",
    "\n",
    "txt += \" When a boy finds a magic board game, which becomes a nightmare, he needs to finish it or the game will never end.\"\n",
    "\n",
    "txt += \" 26 years later, while everyone thought he was dead, two kids again find the game and have to have the help of the boy to finish Jumanji.\"\n",
    "\n",
    "txt += \"   Alan Parris has been trapped in an ancient magical board game, Jumanji, for 26 years.  \"\n",
    "\n",
    "txt += \" When he is finally freed by two children, a herd of wild exotic animals have accidentally been released as well.\"\n",
    "\n",
    "txt += \" Twelve-year old Alan Parrish finds \\\"Jumanji\\\", a board game, in 1969. He and Sarah Whittle play it that night.\"\n",
    "\n",
    "txt += \" When a quote says \\\"In the jungle you must wait, until the dice roll 5 or 8\\\" Alan is suddenly pulled into the game.\"\n",
    "\n",
    "\n",
    "sent_detector = nltk.data.load('tokenizers/punkt/english.pickle')\n",
    "\n",
    "print('\\n-----\\n'.join(sent_detector.tokenize(txt.strip())))"
   ]
  },
  {
   "cell_type": "code",
   "execution_count": null,
   "metadata": {
    "collapsed": true
   },
   "outputs": [],
   "source": []
  }
 ],
 "metadata": {
  "kernelspec": {
   "display_name": "Global TF Kernel (Python 3)",
   "language": "python",
   "name": "global-tf-python-3"
  },
  "language_info": {
   "codemirror_mode": {
    "name": "ipython",
    "version": 3
   },
   "file_extension": ".py",
   "mimetype": "text/x-python",
   "name": "python",
   "nbconvert_exporter": "python",
   "pygments_lexer": "ipython3",
   "version": "3.5.2"
  }
 },
 "nbformat": 4,
 "nbformat_minor": 2
}
