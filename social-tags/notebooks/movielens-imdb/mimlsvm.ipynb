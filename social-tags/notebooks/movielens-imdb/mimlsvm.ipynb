{
 "cells": [
  {
   "cell_type": "markdown",
   "metadata": {},
   "source": [
    "## mimlsvm\n",
    "\n",
    "As described in Shen et al 2009: http://ieeexplore.ieee.org/document/5346261/"
   ]
  },
  {
   "cell_type": "code",
   "execution_count": 10,
   "metadata": {},
   "outputs": [
    {
     "name": "stdout",
     "output_type": "stream",
     "text": [
      "The autoreload extension is already loaded. To reload it, use:\n",
      "  %reload_ext autoreload\n"
     ]
    }
   ],
   "source": [
    "import pandas as pd\n",
    "import numpy as np\n",
    "import matplotlib.pyplot as plt\n",
    "import gc\n",
    "import nltk\n",
    "import os\n",
    "import re\n",
    "import pickle\n",
    "import sklearn\n",
    "import sys\n",
    "import string\n",
    "\n",
    "from sklearn.metrics import f1_score, precision_score, recall_score\n",
    "from sklearn.metrics.pairwise import cosine_similarity,cosine_distances\n",
    "from sklearn.model_selection import cross_val_score, GridSearchCV,ParameterGrid, train_test_split\n",
    "from sklearn.multiclass import OneVsRestClassifier\n",
    "from sklearn.preprocessing import MultiLabelBinarizer\n",
    "from sklearn.feature_extraction.text import CountVectorizer\n",
    "from sklearn.feature_extraction.text import TfidfTransformer,TfidfVectorizer\n",
    "from sklearn.pipeline import Pipeline\n",
    "from sklearn.neighbors import KNeighborsClassifier,NearestNeighbors\n",
    "from sklearn.svm import LinearSVC\n",
    "\n",
    "from nltk import TextTilingTokenizer\n",
    "\n",
    "from tqdm import *\n",
    "\n",
    "%matplotlib inline\n",
    "%load_ext autoreload\n",
    "%autoreload 1"
   ]
  },
  {
   "cell_type": "code",
   "execution_count": 2,
   "metadata": {
    "collapsed": true
   },
   "outputs": [],
   "source": [
    "src_dir = os.path.join(os.getcwd(), os.pardir, '../src')\n",
    "sys.path.append(src_dir)"
   ]
  },
  {
   "cell_type": "code",
   "execution_count": 3,
   "metadata": {
    "collapsed": true
   },
   "outputs": [],
   "source": [
    " %aimport data.movielens_20m_imdb\n",
    "%aimport helpers.labels,helpers.neighbours"
   ]
  },
  {
   "cell_type": "code",
   "execution_count": 4,
   "metadata": {
    "collapsed": true
   },
   "outputs": [],
   "source": [
    "from data.movielens_20m_imdb import load_into_dataframe\n",
    "from helpers.labels import truncate_labels\n",
    "from helpers.neighbours import get_predicted_labels_from_neighbours"
   ]
  },
  {
   "cell_type": "code",
   "execution_count": 5,
   "metadata": {},
   "outputs": [],
   "source": [
    "INTERIM_DATA_ROOT = os.path.abspath(\"../../data/interim/movielens-ml20m-imdb/\")\n",
    "ML_ROOT = \"/media/felipe/SAMSUNG/movielens/ml-20m/\"\n",
    "IMDB_ROOT = \"/media/felipe/SAMSUNG/imdb/\"\n",
    "\n",
    "PATH_TO_MOVIES = ML_ROOT + \"/movies.csv\"\n",
    "PATH_TO_TAG_ASSIGNMENTS = ML_ROOT + \"/tags.csv\"\n",
    "PATH_TO_MOVIE_PLOTS = IMDB_ROOT+\"/plot.list\"\n",
    "\n",
    "# CONFIGS\n",
    "MAX_NB_WORDS = 4000\n",
    "DISTANCE_METRIC='cosine'\n",
    "PREPROC=None\n",
    "STOP_WORDS=None\n",
    "NORM='l2'"
   ]
  },
  {
   "cell_type": "code",
   "execution_count": 6,
   "metadata": {},
   "outputs": [],
   "source": [
    "docs_df = load_into_dataframe(PATH_TO_MOVIES,PATH_TO_TAG_ASSIGNMENTS,PATH_TO_MOVIE_PLOTS)"
   ]
  },
  {
   "cell_type": "code",
   "execution_count": 7,
   "metadata": {},
   "outputs": [],
   "source": [
    "data = docs_df['plot'].values\n",
    "labelsets = docs_df[\"unique_tags\"].map(lambda tagstring: tagstring.split(\",\")).values"
   ]
  },
  {
   "cell_type": "code",
   "execution_count": 8,
   "metadata": {},
   "outputs": [
    {
     "data": {
      "text/plain": [
       "'After being trapped in a jungle board game for 26 years, a Man-Child wins his release from the game. But, no sooner has he arrived that he is forced to play again, and this time sets the creatures of the jungle loose on the city. Now it is up to him to stop them. When a boy finds a magic board game, which becomes a nightmare, he needs to finish it or the game will never end. 26 years later, while everyone thought he was dead, two kids again find the game and have to have the help of the boy to finish Jumanji. Alan Parris has been trapped in an ancient magical board game, Jumanji, for 26 years. When he is finally freed by two children, a herd of wild exotic animals have accidentally been released as well. Now, Alan must try to save his hometown from destruction. Twelve-year old Alan Parrish finds \"Jumanji\", a board game, in 1969. He and Sarah Whittle play it that night. When a quote says \"In the jungle you must wait, until the dice roll 5 or 8\" Alan is suddenly pulled into the game. Twenty-six years later, two more kids find this game. One of them rolls a 5 and Alan Parrish comes back. But he is soon forced to find Sarah and finish the game. When young Alan Parrish discovers a mysterious board game, he doesn\\'t realize its unimaginable powers until he is magically transported--before the startled eyes of his friend Sarah--into the untamed jungles of Jumanji! There he remains for 26 years until he is freed from the game\\'s spell by two unsuspecting children. Now a grown man, Alan reunites with Sarah and, together with Judy and Peter, tries to outwit the game\\'s powerful forces.'"
      ]
     },
     "execution_count": 8,
     "metadata": {},
     "output_type": "execute_result"
    }
   ],
   "source": [
    "data[1]"
   ]
  },
  {
   "cell_type": "code",
   "execution_count": 13,
   "metadata": {},
   "outputs": [
    {
     "data": {
      "text/plain": [
       "['After being trapped in a jungle board game for 26 years, a Man-Child wins his release from the game.',\n",
       " 'But, no sooner has he arrived that he is forced to play again, and this time sets the creatures of the jungle loose on the city.',\n",
       " 'Now it is up to him to stop them.',\n",
       " 'When a boy finds a magic board game, which becomes a nightmare, he needs to finish it or the game will never end.',\n",
       " '26 years later, while everyone thought he was dead, two kids again find the game and have to have the help of the boy to finish Jumanji.',\n",
       " 'Alan Parris has been trapped in an ancient magical board game, Jumanji, for 26 years.',\n",
       " 'When he is finally freed by two children, a herd of wild exotic animals have accidentally been released as well.',\n",
       " 'Now, Alan must try to save his hometown from destruction.',\n",
       " 'Twelve-year old Alan Parrish finds \"Jumanji\", a board game, in 1969.',\n",
       " 'He and Sarah Whittle play it that night.',\n",
       " 'When a quote says \"In the jungle you must wait, until the dice roll 5 or 8\" Alan is suddenly pulled into the game.',\n",
       " 'Twenty-six years later, two more kids find this game.',\n",
       " 'One of them rolls a 5 and Alan Parrish comes back.',\n",
       " 'But he is soon forced to find Sarah and finish the game.',\n",
       " \"When young Alan Parrish discovers a mysterious board game, he doesn't realize its unimaginable powers until he is magically transported--before the startled eyes of his friend Sarah--into the untamed jungles of Jumanji!\",\n",
       " \"There he remains for 26 years until he is freed from the game's spell by two unsuspecting children.\",\n",
       " \"Now a grown man, Alan reunites with Sarah and, together with Judy and Peter, tries to outwit the game's powerful forces.\"]"
      ]
     },
     "execution_count": 13,
     "metadata": {},
     "output_type": "execute_result"
    }
   ],
   "source": [
    "sentence_tokenizer = nltk.data.load('tokenizers/punkt/english.pickle')\n",
    "sentence_tokenizer.tokenize(data[1])"
   ]
  },
  {
   "cell_type": "code",
   "execution_count": 14,
   "metadata": {},
   "outputs": [],
   "source": [
    "tok = TextTilingTokenizer()"
   ]
  },
  {
   "cell_type": "code",
   "execution_count": 19,
   "metadata": {},
   "outputs": [
    {
     "data": {
      "text/plain": [
       "'After being trapped in a jungle board game for 26 years, a Man-Child wins his release from the game. \\n\\n But, no sooner has he arrived that he is forced to play again, and this time sets the creatures of the jungle loose on the city. \\n\\n Now it is up to him to stop them. \\n\\n When a boy finds a magic board game, which becomes a nightmare, he needs to finish it or the game will never end. \\n\\n 26 years later, while everyone thought he was dead, two kids again find the game and have to have the help of the boy to finish Jumanji. \\n\\n Alan Parris has been trapped in an ancient magical board game, Jumanji, for 26 years. \\n\\n When he is finally freed by two children, a herd of wild exotic animals have accidentally been released as well. \\n\\n Now, Alan must try to save his hometown from destruction. \\n\\n Twelve-year old Alan Parrish finds \"Jumanji\", a board game, in 1969. \\n\\n He and Sarah Whittle play it that night. \\n\\n When a quote says \"In the jungle you must wait, until the dice roll 5 or 8\" Alan is suddenly pulled into the game. \\n\\n Twenty-six years later, two more kids find this game. \\n\\n One of them rolls a 5 and Alan Parrish comes back. \\n\\n But he is soon forced to find Sarah and finish the game. \\n\\n When young Alan Parrish discovers a mysterious board game, he doesn\\'t realize its unimaginable powers until he is magically transported--before the startled eyes of his friend Sarah--into the untamed jungles of Jumanji! \\n\\n There he remains for 26 years until he is freed from the game\\'s spell by two unsuspecting children. \\n\\n Now a grown man, Alan reunites with Sarah and, together with Judy and Peter, tries to outwit the game\\'s powerful forces.'"
      ]
     },
     "execution_count": 19,
     "metadata": {},
     "output_type": "execute_result"
    }
   ],
   "source": [
    "sents = \" \\n\\n \".join(sentence_tokenizer.tokenize(data[1]))\n",
    "sents"
   ]
  },
  {
   "cell_type": "code",
   "execution_count": 20,
   "metadata": {},
   "outputs": [
    {
     "data": {
      "text/plain": [
       "['After being trapped in a jungle board game for 26 years, a Man-Child wins his release from the game. \\n\\n But, no sooner has he arrived that he is forced to play again, and this time sets the creatures of the jungle loose on the city.',\n",
       " ' \\n\\n Now it is up to him to stop them. \\n\\n When a boy finds a magic board game, which becomes a nightmare, he needs to finish it or the game will never end. \\n\\n 26 years later, while everyone thought he was dead, two kids again find the game and have to have the help of the boy to finish Jumanji. \\n\\n Alan Parris has been trapped in an ancient magical board game, Jumanji, for 26 years. \\n\\n When he is finally freed by two children, a herd of wild exotic animals have accidentally been released as well. \\n\\n Now, Alan must try to save his hometown from destruction. \\n\\n Twelve-year old Alan Parrish finds \"Jumanji\", a board game, in 1969. \\n\\n He and Sarah Whittle play it that night. \\n\\n When a quote says \"In the jungle you must wait, until the dice roll 5 or 8\" Alan is suddenly pulled into the game. \\n\\n Twenty-six years later, two more kids find this game. \\n\\n One of them rolls a 5 and Alan Parrish comes back.',\n",
       " \" \\n\\n But he is soon forced to find Sarah and finish the game. \\n\\n When young Alan Parrish discovers a mysterious board game, he doesn't realize its unimaginable powers until he is magically transported--before the startled eyes of his friend Sarah--into the untamed jungles of Jumanji! \\n\\n There he remains for 26 years until he is freed from the game's spell by two unsuspecting children. \\n\\n Now a grown man, Alan reunites with Sarah and, together with Judy and Peter, tries to outwit the game's powerful forces.\"]"
      ]
     },
     "execution_count": 20,
     "metadata": {},
     "output_type": "execute_result"
    }
   ],
   "source": [
    "tok.tokenize(sents)"
   ]
  },
  {
   "cell_type": "code",
   "execution_count": null,
   "metadata": {
    "collapsed": true
   },
   "outputs": [],
   "source": [
    "mlb = MultiLabelBinarizer()\n",
    "mlb.fit(labelsets)"
   ]
  },
  {
   "cell_type": "code",
   "execution_count": null,
   "metadata": {
    "collapsed": true
   },
   "outputs": [],
   "source": [
    "# I can't put this into a pipeline because NearestNeighbors is not a normal classifier, I think\n",
    "# I need to customize the pipeline object to be able to call the methods for that class.\n",
    "vect = CountVectorizer(max_features=MAX_NB_WORDS, preprocessor=PREPROC, stop_words=STOP_WORDS)\n",
    "tfidf = TfidfTransformer(norm=NORM)\n",
    "nbrs = NearestNeighbors(n_neighbors=NB_NEIGHBOURS, metric=DISTANCE_METRIC)"
   ]
  },
  {
   "cell_type": "code",
   "execution_count": null,
   "metadata": {
    "collapsed": true
   },
   "outputs": [],
   "source": [
    "X_train, X_test, y_train, y_test = train_test_split(data,labelsets,test_size=0.25)"
   ]
  },
  {
   "cell_type": "code",
   "execution_count": null,
   "metadata": {
    "collapsed": true
   },
   "outputs": [],
   "source": [
    "y_train = mlb.transform(y_train)\n",
    "y_test = mlb.transform(y_test)"
   ]
  },
  {
   "cell_type": "code",
   "execution_count": null,
   "metadata": {
    "collapsed": true
   },
   "outputs": [],
   "source": [
    "# train\n",
    "X_train = vect.fit_transform(X_train)\n",
    "X_train = tfidf.fit_transform(X_train)\n",
    "nbrs.fit(X_train)"
   ]
  },
  {
   "cell_type": "code",
   "execution_count": null,
   "metadata": {
    "collapsed": true
   },
   "outputs": [],
   "source": [
    "# test\n",
    "X_test = vect.transform(X_test)\n",
    "X_test = tfidf.transform(X_test)"
   ]
  },
  {
   "cell_type": "code",
   "execution_count": null,
   "metadata": {
    "collapsed": true
   },
   "outputs": [],
   "source": [
    "X_train.shape,X_test.shape"
   ]
  },
  {
   "cell_type": "code",
   "execution_count": null,
   "metadata": {
    "collapsed": true
   },
   "outputs": [],
   "source": [
    "y_train.shape,y_test.shape"
   ]
  },
  {
   "cell_type": "code",
   "execution_count": null,
   "metadata": {
    "collapsed": true
   },
   "outputs": [],
   "source": [
    "y_preds = []\n",
    "y_trues = []\n",
    "\n",
    "distances_matrix, indices_matrix = nbrs.kneighbors(X_test)\n",
    "\n",
    "neighbour_labels_tensor = y_train[indices_matrix]    \n",
    "\n",
    "distances_matrix.shape, indices_matrix.shape, neighbour_labels_tensor.shape"
   ]
  },
  {
   "cell_type": "code",
   "execution_count": null,
   "metadata": {
    "collapsed": true
   },
   "outputs": [],
   "source": [
    "for i in tqdm(range(distances_matrix.shape[0])):\n",
    "          \n",
    "    distances = distances_matrix[i].ravel()  \n",
    "        \n",
    "    neighbour_labels = neighbour_labels_tensor[i]\n",
    "       \n",
    "    y_pred = get_predicted_labels_from_neighbours(neighbour_labels, distances)\n",
    "    \n",
    "    y_true = y_test[i]\n",
    "    \n",
    "    y_preds.append(y_pred)\n",
    "    y_trues.append(y_true)\n",
    "    \n",
    "y_preds = np.array(y_preds)\n",
    "y_trues = np.array(y_trues)"
   ]
  },
  {
   "cell_type": "code",
   "execution_count": null,
   "metadata": {
    "collapsed": true
   },
   "outputs": [],
   "source": [
    "f1_score(y_trues,y_preds,average='micro')"
   ]
  }
 ],
 "metadata": {
  "kernelspec": {
   "display_name": "Global TF Kernel (Python 3)",
   "language": "python",
   "name": "global-tf-python-3"
  },
  "language_info": {
   "codemirror_mode": {
    "name": "ipython",
    "version": 3
   },
   "file_extension": ".py",
   "mimetype": "text/x-python",
   "name": "python",
   "nbconvert_exporter": "python",
   "pygments_lexer": "ipython3",
   "version": "3.5.2"
  }
 },
 "nbformat": 4,
 "nbformat_minor": 2
}
