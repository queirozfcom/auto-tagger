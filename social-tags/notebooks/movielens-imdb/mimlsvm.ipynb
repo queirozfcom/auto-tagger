{
 "cells": [
  {
   "cell_type": "markdown",
   "metadata": {},
   "source": [
    "## mimlsvm\n",
    "\n",
    "mi = mulit-instance\n",
    "ml = multi-label\n",
    "svm = svm\n",
    "\n",
    "As described in Shen et al 2009: http://ieeexplore.ieee.org/document/5346261/\n",
    "\n",
    "> Should we use SVM-struct instead? https://github.com/pystruct/pystruct\n"
   ]
  },
  {
   "cell_type": "code",
   "execution_count": 1,
   "metadata": {
    "collapsed": true
   },
   "outputs": [],
   "source": [
    "import pandas as pd\n",
    "import numpy as np\n",
    "import matplotlib.pyplot as plt\n",
    "import gc\n",
    "import nltk\n",
    "import os\n",
    "import re\n",
    "import pickle\n",
    "import sklearn\n",
    "import sys\n",
    "import string\n",
    "\n",
    "from hausdorff import hausdorff\n",
    "\n",
    "from nltk import TextTilingTokenizer\n",
    "from scipy.spatial.distance  import directed_hausdorff, pdist\n",
    "\n",
    "from sklearn.metrics import f1_score, precision_score, recall_score\n",
    "from sklearn.model_selection import cross_val_score, GridSearchCV,ParameterGrid, train_test_split\n",
    "from sklearn.multiclass import OneVsRestClassifier\n",
    "from sklearn.preprocessing import MultiLabelBinarizer, StandardScaler,MinMaxScaler\n",
    "from sklearn.feature_extraction.text import CountVectorizer\n",
    "from sklearn.feature_extraction.text import TfidfTransformer,TfidfVectorizer\n",
    "from sklearn.svm import SVC\n",
    "\n",
    "from tqdm import *\n",
    "\n",
    "%matplotlib inline\n",
    "%load_ext autoreload\n",
    "%autoreload 1"
   ]
  },
  {
   "cell_type": "code",
   "execution_count": 2,
   "metadata": {
    "collapsed": true
   },
   "outputs": [],
   "source": [
    "src_dir = os.path.join(os.getcwd(), os.pardir, '../src')\n",
    "sys.path.append(src_dir)"
   ]
  },
  {
   "cell_type": "code",
   "execution_count": 3,
   "metadata": {
    "collapsed": true
   },
   "outputs": [],
   "source": [
    "%aimport data.movielens_20m_imdb\n",
    "%aimport helpers.labels,helpers.neighbours, helpers.segments\n",
    "%aimport utils.dataframes, utils.clusters"
   ]
  },
  {
   "cell_type": "code",
   "execution_count": 4,
   "metadata": {
    "collapsed": true
   },
   "outputs": [],
   "source": [
    "from data.movielens_20m_imdb import load_or_get_from_cache\n",
    "from helpers.labels import truncate_labels\n",
    "from helpers.neighbours import get_predicted_labels_from_neighbours\n",
    "from helpers.segments import make_distance_matrix_for_segments,vectorize_segments\n",
    "\n",
    "from utils.dataframes import sample_rows\n",
    "from utils.clusters import k_medoids"
   ]
  },
  {
   "cell_type": "code",
   "execution_count": 5,
   "metadata": {
    "collapsed": true
   },
   "outputs": [],
   "source": [
    "INTERIM_DATA_ROOT = os.path.abspath(\"../../data/interim/movielens-ml20m-imdb/\")\n",
    "ML_ROOT = \"/media/felipe/SAMSUNG/movielens/ml-20m/\"\n",
    "IMDB_ROOT = \"/media/felipe/SAMSUNG/imdb/\"\n",
    "\n",
    "PATH_TO_MOVIES = ML_ROOT + \"/movies.csv\"\n",
    "PATH_TO_TAG_ASSIGNMENTS = ML_ROOT + \"/tags.csv\"\n",
    "PATH_TO_MOVIE_PLOTS = IMDB_ROOT+\"/plot.list\"\n",
    "\n",
    "# CONFIGS\n",
    "\n",
    "# preprocessing\n",
    "\n",
    "MAX_NB_WORDS = 300\n",
    "PREPROC=None\n",
    "STOP_WORDS=[None,'english']\n",
    "VECTORIZER_NORM = ['l1','l2',None]\n",
    "\n",
    "# for sampling\n",
    "NB_DOCS = 500\n",
    "\n",
    "W=20 # Pseudosentence size (in words) - not specified in the paper, taken from TextTiling default values\n",
    "K=10 # Size (in sentences) of the block used in the block comparison method - not specified in the paper, taken from TextTiling default values\n",
    "\n",
    "MIN_LABEL_DF = 5 # like in the paper\n",
    "\n",
    "# calculating medoids\n",
    "MEDOID_NORMALIZATION = ['standard','minmax',None] # not specified in the paper\n",
    "SAMPLE_TO_NB_MEDOIDS_RATIO = 0.2 # not specified in the paper, but taken from MIMLSVM canonical implementation\n",
    "\n",
    "# classification\n",
    "SVM_KERNEL=['poly'] # not specified in the paper, but taken from MIMLSVM canonical implementation\n",
    "SVM_GAMMA=[0.1,0.2,0.5,1.0] # not specified in the paper, but taken from MIMLSVM canonical implementation\n",
    "SVM_C= [0.01,0.1,1]# not specified in the paper, but taken from MIMLSVM canonical implementation\n",
    "SVM_DEGREE=[3,4,5]"
   ]
  },
  {
   "cell_type": "code",
   "execution_count": 6,
   "metadata": {
    "collapsed": true
   },
   "outputs": [],
   "source": [
    "docs_df = load_or_get_from_cache(PATH_TO_MOVIES,PATH_TO_TAG_ASSIGNMENTS,PATH_TO_MOVIE_PLOTS,INTERIM_DATA_ROOT)"
   ]
  },
  {
   "cell_type": "code",
   "execution_count": 7,
   "metadata": {
    "collapsed": true
   },
   "outputs": [],
   "source": [
    "sentence_tokenizer = nltk.data.load('tokenizers/punkt/english.pickle')"
   ]
  },
  {
   "cell_type": "code",
   "execution_count": 8,
   "metadata": {
    "collapsed": true
   },
   "outputs": [],
   "source": [
    "# remove this for production\n",
    "docs_df = sample_rows(docs_df,NB_DOCS)"
   ]
  },
  {
   "cell_type": "code",
   "execution_count": 9,
   "metadata": {
    "collapsed": true
   },
   "outputs": [],
   "source": [
    "docs_df['sentences'] = docs_df['plot'].map(lambda row: sentence_tokenizer.tokenize(row))"
   ]
  },
  {
   "cell_type": "code",
   "execution_count": 10,
   "metadata": {},
   "outputs": [
    {
     "name": "stdout",
     "output_type": "stream",
     "text": [
      "CPU times: user 0 ns, sys: 0 ns, total: 0 ns\n",
      "Wall time: 1 ms\n"
     ]
    }
   ],
   "source": [
    "%%time\n",
    "docs_df['num_sentences'] = docs_df['sentences'].map( lambda sents: len(sents))"
   ]
  },
  {
   "cell_type": "code",
   "execution_count": 11,
   "metadata": {},
   "outputs": [
    {
     "data": {
      "text/html": [
       "<div>\n",
       "<style>\n",
       "    .dataframe thead tr:only-child th {\n",
       "        text-align: right;\n",
       "    }\n",
       "\n",
       "    .dataframe thead th {\n",
       "        text-align: left;\n",
       "    }\n",
       "\n",
       "    .dataframe tbody tr th {\n",
       "        vertical-align: top;\n",
       "    }\n",
       "</style>\n",
       "<table border=\"1\" class=\"dataframe\">\n",
       "  <thead>\n",
       "    <tr style=\"text-align: right;\">\n",
       "      <th></th>\n",
       "      <th>movie_id</th>\n",
       "      <th>title</th>\n",
       "      <th>unique_tags</th>\n",
       "      <th>num_users</th>\n",
       "      <th>num_unique_tags</th>\n",
       "      <th>plot</th>\n",
       "      <th>sentences</th>\n",
       "      <th>num_sentences</th>\n",
       "    </tr>\n",
       "  </thead>\n",
       "  <tbody>\n",
       "    <tr>\n",
       "      <th>0</th>\n",
       "      <td>4153</td>\n",
       "      <td>Down to Earth (2001)</td>\n",
       "      <td>ghostsafterlife,remakeofhere-comes-mr-jordan,c...</td>\n",
       "      <td>5.0</td>\n",
       "      <td>9</td>\n",
       "      <td>It seems everyone is trying to get into heaven...</td>\n",
       "      <td>[It seems everyone is trying to get into heave...</td>\n",
       "      <td>15</td>\n",
       "    </tr>\n",
       "    <tr>\n",
       "      <th>1</th>\n",
       "      <td>31038</td>\n",
       "      <td>Smooth Talk (1985)</td>\n",
       "      <td>sundance-award-winner,sundance-grand-jury-priz...</td>\n",
       "      <td>2.0</td>\n",
       "      <td>5</td>\n",
       "      <td>Free-spirited fifteen-year-old Connie Wyatt ma...</td>\n",
       "      <td>[Free-spirited fifteen-year-old Connie Wyatt m...</td>\n",
       "      <td>9</td>\n",
       "    </tr>\n",
       "    <tr>\n",
       "      <th>2</th>\n",
       "      <td>90469</td>\n",
       "      <td>Paranormal Activity 3 (2011)</td>\n",
       "      <td>camerawork,boring,horror,ghosts,haunted-house,...</td>\n",
       "      <td>6.0</td>\n",
       "      <td>11</td>\n",
       "      <td>In 1988, in California, cinematographer Dennis...</td>\n",
       "      <td>[In 1988, in California, cinematographer Denni...</td>\n",
       "      <td>4</td>\n",
       "    </tr>\n",
       "    <tr>\n",
       "      <th>3</th>\n",
       "      <td>267</td>\n",
       "      <td>Major Payne (1995)</td>\n",
       "      <td>comedy,military,children,damon-wayans,hilariou...</td>\n",
       "      <td>7.0</td>\n",
       "      <td>11</td>\n",
       "      <td>Major Benson Winifred Payne is being discharge...</td>\n",
       "      <td>[Major Benson Winifred Payne is being discharg...</td>\n",
       "      <td>5</td>\n",
       "    </tr>\n",
       "    <tr>\n",
       "      <th>4</th>\n",
       "      <td>3490</td>\n",
       "      <td>Horror Express (1972)</td>\n",
       "      <td>trains,bdr,dvdvideo,vhs</td>\n",
       "      <td>2.0</td>\n",
       "      <td>4</td>\n",
       "      <td>An English anthropologist has discovered a fro...</td>\n",
       "      <td>[An English anthropologist has discovered a fr...</td>\n",
       "      <td>5</td>\n",
       "    </tr>\n",
       "  </tbody>\n",
       "</table>\n",
       "</div>"
      ],
      "text/plain": [
       "   movie_id                         title  \\\n",
       "0      4153          Down to Earth (2001)   \n",
       "1     31038            Smooth Talk (1985)   \n",
       "2     90469  Paranormal Activity 3 (2011)   \n",
       "3       267            Major Payne (1995)   \n",
       "4      3490         Horror Express (1972)   \n",
       "\n",
       "                                         unique_tags  num_users  \\\n",
       "0  ghostsafterlife,remakeofhere-comes-mr-jordan,c...        5.0   \n",
       "1  sundance-award-winner,sundance-grand-jury-priz...        2.0   \n",
       "2  camerawork,boring,horror,ghosts,haunted-house,...        6.0   \n",
       "3  comedy,military,children,damon-wayans,hilariou...        7.0   \n",
       "4                            trains,bdr,dvdvideo,vhs        2.0   \n",
       "\n",
       "   num_unique_tags                                               plot  \\\n",
       "0                9  It seems everyone is trying to get into heaven...   \n",
       "1                5  Free-spirited fifteen-year-old Connie Wyatt ma...   \n",
       "2               11  In 1988, in California, cinematographer Dennis...   \n",
       "3               11  Major Benson Winifred Payne is being discharge...   \n",
       "4                4  An English anthropologist has discovered a fro...   \n",
       "\n",
       "                                           sentences  num_sentences  \n",
       "0  [It seems everyone is trying to get into heave...             15  \n",
       "1  [Free-spirited fifteen-year-old Connie Wyatt m...              9  \n",
       "2  [In 1988, in California, cinematographer Denni...              4  \n",
       "3  [Major Benson Winifred Payne is being discharg...              5  \n",
       "4  [An English anthropologist has discovered a fr...              5  "
      ]
     },
     "execution_count": 11,
     "metadata": {},
     "output_type": "execute_result"
    }
   ],
   "source": [
    "docs_df.head()"
   ]
  },
  {
   "cell_type": "code",
   "execution_count": 12,
   "metadata": {},
   "outputs": [
    {
     "data": {
      "text/plain": [
       "['It seems everyone is trying to get into heaven; at least those whose time is up.',\n",
       " \"For Lance Barton, a struggling comedian and bicycle messenger, it's the last thing on his mind.\",\n",
       " 'His due date upstairs is 50 years away.',\n",
       " \"In the meantime, he's got big dreams to pursue on Earth, such as landing a slot at the final Amateur Night Contest at the famed Apollo Theatre.\",\n",
       " \"Lance's has one little problem though - he ain't that funny.\",\n",
       " \"Thanks to an over-cautious emissary from heaven, Mr. Keyes, he's going to get hit (literally) with a much bigger problem.\",\n",
       " 'Showing that even God has difficulty finding good help these days, the inept minion mistakenly plucks Lance from a traffic accident - before it takes place.',\n",
       " 'Transporting him to the Pearly Gates, or more accurately, the velvet roped-lines of the hottest club around, the error is finally addressed by Mr. King, the streetwise, no-nonsense head angel who manages the place from his plush windowed office.',\n",
       " 'Since returning to his own body on Earth is impossible, the urban dwelling Lance reluctantly agrees to a normally unthinkable proposal.',\n",
       " \"He'll occupy the body of a wealthy old white mogul, Charles Wellington, until a more suitable body can be found.\",\n",
       " 'Strangely enough, in a Park Avenue penthouse, servants and butlers become his new homeys as Lance works on his streetwise comedy routine for the big Apollo showdown.',\n",
       " \"Living in the body of a callous old white man would be bizarre enough for Lance without falling in love with Sontee, the beautiful woman publicly battling Wellington's company at the same time.\",\n",
       " \"And if that wasn't enough, he's got to deal with the love affair between Wellington's wife and his personal assistant, and their plot to have him killed.\",\n",
       " 'Can reincarnation lead to self discovery, true love and a better stand up routine?',\n",
       " 'Lance Barton is about to find out.']"
      ]
     },
     "execution_count": 12,
     "metadata": {},
     "output_type": "execute_result"
    }
   ],
   "source": [
    "docs_df.iloc[0]['sentences']"
   ]
  },
  {
   "cell_type": "code",
   "execution_count": 13,
   "metadata": {},
   "outputs": [
    {
     "data": {
      "text/html": [
       "<div>\n",
       "<style>\n",
       "    .dataframe thead tr:only-child th {\n",
       "        text-align: right;\n",
       "    }\n",
       "\n",
       "    .dataframe thead th {\n",
       "        text-align: left;\n",
       "    }\n",
       "\n",
       "    .dataframe tbody tr th {\n",
       "        vertical-align: top;\n",
       "    }\n",
       "</style>\n",
       "<table border=\"1\" class=\"dataframe\">\n",
       "  <thead>\n",
       "    <tr style=\"text-align: right;\">\n",
       "      <th></th>\n",
       "      <th>movie_id</th>\n",
       "      <th>num_users</th>\n",
       "      <th>num_unique_tags</th>\n",
       "      <th>num_sentences</th>\n",
       "    </tr>\n",
       "  </thead>\n",
       "  <tbody>\n",
       "    <tr>\n",
       "      <th>count</th>\n",
       "      <td>500.000000</td>\n",
       "      <td>500.000000</td>\n",
       "      <td>500.000000</td>\n",
       "      <td>500.000000</td>\n",
       "    </tr>\n",
       "    <tr>\n",
       "      <th>mean</th>\n",
       "      <td>31056.292000</td>\n",
       "      <td>15.528000</td>\n",
       "      <td>11.954000</td>\n",
       "      <td>9.962000</td>\n",
       "    </tr>\n",
       "    <tr>\n",
       "      <th>std</th>\n",
       "      <td>35468.482237</td>\n",
       "      <td>26.940542</td>\n",
       "      <td>8.402207</td>\n",
       "      <td>7.121938</td>\n",
       "    </tr>\n",
       "    <tr>\n",
       "      <th>min</th>\n",
       "      <td>10.000000</td>\n",
       "      <td>2.000000</td>\n",
       "      <td>2.000000</td>\n",
       "      <td>1.000000</td>\n",
       "    </tr>\n",
       "    <tr>\n",
       "      <th>25%</th>\n",
       "      <td>3493.750000</td>\n",
       "      <td>3.000000</td>\n",
       "      <td>4.000000</td>\n",
       "      <td>4.000000</td>\n",
       "    </tr>\n",
       "    <tr>\n",
       "      <th>50%</th>\n",
       "      <td>7145.500000</td>\n",
       "      <td>6.000000</td>\n",
       "      <td>9.000000</td>\n",
       "      <td>8.000000</td>\n",
       "    </tr>\n",
       "    <tr>\n",
       "      <th>75%</th>\n",
       "      <td>57558.750000</td>\n",
       "      <td>15.000000</td>\n",
       "      <td>20.000000</td>\n",
       "      <td>14.000000</td>\n",
       "    </tr>\n",
       "    <tr>\n",
       "      <th>max</th>\n",
       "      <td>128322.000000</td>\n",
       "      <td>227.000000</td>\n",
       "      <td>25.000000</td>\n",
       "      <td>38.000000</td>\n",
       "    </tr>\n",
       "  </tbody>\n",
       "</table>\n",
       "</div>"
      ],
      "text/plain": [
       "            movie_id   num_users  num_unique_tags  num_sentences\n",
       "count     500.000000  500.000000       500.000000     500.000000\n",
       "mean    31056.292000   15.528000        11.954000       9.962000\n",
       "std     35468.482237   26.940542         8.402207       7.121938\n",
       "min        10.000000    2.000000         2.000000       1.000000\n",
       "25%      3493.750000    3.000000         4.000000       4.000000\n",
       "50%      7145.500000    6.000000         9.000000       8.000000\n",
       "75%     57558.750000   15.000000        20.000000      14.000000\n",
       "max    128322.000000  227.000000        25.000000      38.000000"
      ]
     },
     "execution_count": 13,
     "metadata": {},
     "output_type": "execute_result"
    }
   ],
   "source": [
    "docs_df.describe()"
   ]
  },
  {
   "cell_type": "code",
   "execution_count": 14,
   "metadata": {
    "collapsed": true
   },
   "outputs": [],
   "source": [
    "tok = TextTilingTokenizer(w=W, k=K)"
   ]
  },
  {
   "cell_type": "code",
   "execution_count": 15,
   "metadata": {
    "collapsed": true
   },
   "outputs": [],
   "source": [
    "def extract_segments(candidates):\n",
    "    \n",
    "    try:\n",
    "        # we must manually insert \"\\n\\n\" because this is how \n",
    "        # texttilingtokenizer requires candidate boundaries to be \n",
    "        # represented.\n",
    "        segments = tok.tokenize(\"\\n\\n\".join(candidates))\n",
    "    except ValueError:\n",
    "        # this happens when the candidate list is too small for the \n",
    "        # text tiling tokenizer to be able to find segments. so just return\n",
    "        # the original sentences.\n",
    "        segments= candidates\n",
    "        \n",
    "    # now remove the artificially added chars\n",
    "    segments = [segment.replace(\"\\n\\n\",\" \").strip() for segment in segments]\n",
    "    \n",
    "    return segments"
   ]
  },
  {
   "cell_type": "code",
   "execution_count": 16,
   "metadata": {},
   "outputs": [
    {
     "name": "stdout",
     "output_type": "stream",
     "text": [
      "CPU times: user 5.4 s, sys: 0 ns, total: 5.4 s\n",
      "Wall time: 5.43 s\n"
     ]
    }
   ],
   "source": [
    "%%time\n",
    "docs_df['segments'] = docs_df['sentences'].map(lambda candidates: extract_segments(candidates))"
   ]
  },
  {
   "cell_type": "code",
   "execution_count": 17,
   "metadata": {},
   "outputs": [
    {
     "data": {
      "text/plain": [
       "[\"It seems everyone is trying to get into heaven; at least those whose time is up. For Lance Barton, a struggling comedian and bicycle messenger, it's the last thing on his mind.\",\n",
       " \"His due date upstairs is 50 years away. In the meantime, he's got big dreams to pursue on Earth, such as landing a slot at the final Amateur Night Contest at the famed Apollo Theatre. Lance's has one little problem though - he ain't that funny. Thanks to an over-cautious emissary from heaven, Mr. Keyes, he's going to get hit (literally) with a much bigger problem. Showing that even God has difficulty finding good help these days, the inept minion mistakenly plucks Lance from a traffic accident - before it takes place.\",\n",
       " \"Transporting him to the Pearly Gates, or more accurately, the velvet roped-lines of the hottest club around, the error is finally addressed by Mr. King, the streetwise, no-nonsense head angel who manages the place from his plush windowed office. Since returning to his own body on Earth is impossible, the urban dwelling Lance reluctantly agrees to a normally unthinkable proposal. He'll occupy the body of a wealthy old white mogul, Charles Wellington, until a more suitable body can be found. Strangely enough, in a Park Avenue penthouse, servants and butlers become his new homeys as Lance works on his streetwise comedy routine for the big Apollo showdown. Living in the body of a callous old white man would be bizarre enough for Lance without falling in love with Sontee, the beautiful woman publicly battling Wellington's company at the same time.\",\n",
       " \"And if that wasn't enough, he's got to deal with the love affair between Wellington's wife and his personal assistant, and their plot to have him killed. Can reincarnation lead to self discovery, true love and a better stand up routine? Lance Barton is about to find out.\"]"
      ]
     },
     "execution_count": 17,
     "metadata": {},
     "output_type": "execute_result"
    }
   ],
   "source": [
    "docs_df['segments'][0]"
   ]
  },
  {
   "cell_type": "code",
   "execution_count": 18,
   "metadata": {
    "collapsed": true
   },
   "outputs": [],
   "source": [
    "segments = docs_df['segments'].values\n",
    "documents = docs_df['plot'].values\n",
    "labelsets = truncate_labels(docs_df[\"unique_tags\"].map(lambda tagstring: tagstring.split(\",\")).values,MIN_LABEL_DF)"
   ]
  },
  {
   "cell_type": "code",
   "execution_count": 19,
   "metadata": {
    "collapsed": true
   },
   "outputs": [],
   "source": [
    "def make_train_dataset(distance_matrix, medoid_indices):\n",
    "    \"\"\"\n",
    "    Returns a matrix where element Aij contains the distance from sample i to medoid j.\n",
    "\n",
    "    :param distance_matrix: MxM matrix with pairwise distances\n",
    "    :param medoid_indices: array of length N containing the indices of the medoids for each cluster\n",
    "    :return: distances to medoids (MxN matrix)\n",
    "    \"\"\"\n",
    "\n",
    "    return distance_matrix[:,medoid_indices]"
   ]
  },
  {
   "cell_type": "code",
   "execution_count": 20,
   "metadata": {
    "collapsed": true
   },
   "outputs": [],
   "source": [
    "def make_test_dataset(source_vectorized_segments, medoid_vectorized_segments):\n",
    "    \"\"\"\n",
    "    Calculates the distances from every source_document (reprsented by its segments) to every medoid\n",
    "    document (also represented by its segments) using the hausdorff distance.\n",
    "    \n",
    "    Returns a matrix where element Aij contains the distance from sample i to medoid j.\n",
    "\n",
    "    :param source_vectorized_segments: array of length M, where each element is a matrix with one row\n",
    "        for every segment in a source document\n",
    "    :param medoid_vectorized_segments: array of length N where each element is a matrix with one row\n",
    "        for every segment in a medoid document\n",
    "    :return: distances to medoids (MxN matrix)\n",
    "    \"\"\"\n",
    "    \n",
    "    num_test_samples = len(source_vectorized_segments)\n",
    "    num_medoids = len(medoid_vectorized_segments)\n",
    "    \n",
    "    test_dataset = np.zeros((num_test_samples,num_medoids))    \n",
    "    \n",
    "    for i,source_segments in enumerate(source_vectorized_segments):\n",
    "        for j,medoid_segments in enumerate(medoid_vectorized_segments):\n",
    "            test_dataset[i][j] = hausdorff(source_segments.toarray(),medoid_segments.toarray())\n",
    "            \n",
    "    return np.array(test_dataset)"
   ]
  },
  {
   "cell_type": "code",
   "execution_count": 21,
   "metadata": {},
   "outputs": [
    {
     "name": "stdout",
     "output_type": "stream",
     "text": [
      "number of documents in train set: 375\n",
      "number of documents in test set: 125\n",
      "total number of unique tags: 199 \n"
     ]
    }
   ],
   "source": [
    "# segments, documents and labelsets are defined outside of the parameterGrid loop\n",
    "# because they're the same for every configuration    \n",
    "segments_train, segments_test, documents_train, documents_test, y_train, y_test = train_test_split(segments,\n",
    "                                                                                               documents,\n",
    "                                                                                               labelsets,\n",
    "                                                                                               test_size=0.25)\n",
    "\n",
    "print(\"number of documents in train set: {}\".format(len(documents_train)))\n",
    "print(\"number of documents in test set: {}\".format(len(documents_test)))\n",
    "\n",
    "# the binarizer needs to be fit on all labels\n",
    "mlb = MultiLabelBinarizer()\n",
    "mlb.fit(labelsets)\n",
    "\n",
    "y_train = mlb.transform(y_train)\n",
    "y_test = mlb.transform(y_test)\n",
    "\n",
    "print(\"total number of unique tags: {} \".format(len(mlb.classes_)))"
   ]
  },
  {
   "cell_type": "code",
   "execution_count": 22,
   "metadata": {
    "collapsed": true
   },
   "outputs": [],
   "source": [
    "parameters = [{\n",
    "    'stop_words': STOP_WORDS,\n",
    "    'medoid_normalization':  MEDOID_NORMALIZATION,\n",
    "    'svm_kernel': SVM_KERNEL,\n",
    "    'svm_gamma': SVM_GAMMA,\n",
    "    'svm_c':SVM_C,\n",
    "    'svm_degree' :SVM_DEGREE,\n",
    "    'norm': VECTORIZER_NORM\n",
    "}]"
   ]
  },
  {
   "cell_type": "code",
   "execution_count": 23,
   "metadata": {},
   "outputs": [
    {
     "name": "stdout",
     "output_type": "stream",
     "text": [
      "total number of configurations to test: 648\n"
     ]
    }
   ],
   "source": [
    "print('total number of configurations to test: {}'.format(len(ParameterGrid(parameters))))"
   ]
  },
  {
   "cell_type": "code",
   "execution_count": 24,
   "metadata": {},
   "outputs": [
    {
     "name": "stderr",
     "output_type": "stream",
     "text": [
      "\r",
      "  0%|          | 0/648 [00:00<?, ?it/s]"
     ]
    },
    {
     "name": "stdout",
     "output_type": "stream",
     "text": [
      "Fitting distance matrix for norm=l1 and stop_words=None\n"
     ]
    },
    {
     "name": "stderr",
     "output_type": "stream",
     "text": [
      "\r",
      "  0%|          | 1/648 [00:20<3:42:05, 20.60s/it]"
     ]
    },
    {
     "name": "stdout",
     "output_type": "stream",
     "text": [
      "iter: 0, train_score: 0.09317166560306318, validation score: 0.0, configuration: {'medoid_normalization': 'standard', 'stop_words': None, 'svm_degree': 3, 'svm_gamma': 0.1, 'norm': 'l1', 'svm_c': 0.01, 'svm_kernel': 'poly'}\n"
     ]
    },
    {
     "name": "stderr",
     "output_type": "stream",
     "text": [
      "\r",
      "  0%|          | 2/648 [00:23<2:43:59, 15.23s/it]"
     ]
    },
    {
     "name": "stdout",
     "output_type": "stream",
     "text": [
      "iter: 1, train_score: 0.23508564678086238, validation score: 0.0, configuration: {'medoid_normalization': 'standard', 'stop_words': None, 'svm_degree': 3, 'svm_gamma': 0.2, 'norm': 'l1', 'svm_c': 0.01, 'svm_kernel': 'poly'}\n"
     ]
    },
    {
     "name": "stderr",
     "output_type": "stream",
     "text": [
      "\r",
      "  0%|          | 3/648 [00:26<2:04:36, 11.59s/it]"
     ]
    },
    {
     "name": "stdout",
     "output_type": "stream",
     "text": [
      "iter: 2, train_score: 0.4977375565610859, validation score: 0.017035775127768313, configuration: {'medoid_normalization': 'standard', 'stop_words': None, 'svm_degree': 3, 'svm_gamma': 0.5, 'norm': 'l1', 'svm_c': 0.01, 'svm_kernel': 'poly'}\n"
     ]
    },
    {
     "name": "stderr",
     "output_type": "stream",
     "text": [
      "\r",
      "  1%|          | 4/648 [00:29<1:37:59,  9.13s/it]"
     ]
    },
    {
     "name": "stdout",
     "output_type": "stream",
     "text": [
      "iter: 3, train_score: 0.8175702413929561, validation score: 0.04646464646464646, configuration: {'medoid_normalization': 'standard', 'stop_words': None, 'svm_degree': 3, 'svm_gamma': 1.0, 'norm': 'l1', 'svm_c': 0.01, 'svm_kernel': 'poly'}\n"
     ]
    },
    {
     "name": "stderr",
     "output_type": "stream",
     "text": [
      "\r",
      "  1%|          | 5/648 [00:32<1:16:44,  7.16s/it]"
     ]
    },
    {
     "name": "stdout",
     "output_type": "stream",
     "text": [
      "iter: 4, train_score: 0.16009852216748768, validation score: 0.008048289738430584, configuration: {'medoid_normalization': 'standard', 'stop_words': None, 'svm_degree': 4, 'svm_gamma': 0.1, 'norm': 'l1', 'svm_c': 0.01, 'svm_kernel': 'poly'}\n"
     ]
    },
    {
     "name": "stderr",
     "output_type": "stream",
     "text": [
      "\r",
      "  1%|          | 6/648 [00:35<1:02:32,  5.85s/it]"
     ]
    },
    {
     "name": "stdout",
     "output_type": "stream",
     "text": [
      "iter: 5, train_score: 0.41485411140583556, validation score: 0.01038062283737024, configuration: {'medoid_normalization': 'standard', 'stop_words': None, 'svm_degree': 4, 'svm_gamma': 0.2, 'norm': 'l1', 'svm_c': 0.01, 'svm_kernel': 'poly'}\n"
     ]
    },
    {
     "name": "stderr",
     "output_type": "stream",
     "text": [
      "\r",
      "  1%|          | 7/648 [00:37<52:22,  4.90s/it]  "
     ]
    },
    {
     "name": "stdout",
     "output_type": "stream",
     "text": [
      "iter: 6, train_score: 0.8043217286914767, validation score: 0.027060270602706025, configuration: {'medoid_normalization': 'standard', 'stop_words': None, 'svm_degree': 4, 'svm_gamma': 0.5, 'norm': 'l1', 'svm_c': 0.01, 'svm_kernel': 'poly'}\n"
     ]
    },
    {
     "name": "stderr",
     "output_type": "stream",
     "text": [
      "\r",
      "  1%|          | 8/648 [00:40<45:13,  4.24s/it]"
     ]
    },
    {
     "name": "stdout",
     "output_type": "stream",
     "text": [
      "iter: 7, train_score: 0.983327662470228, validation score: 0.038974358974358976, configuration: {'medoid_normalization': 'standard', 'stop_words': None, 'svm_degree': 4, 'svm_gamma': 1.0, 'norm': 'l1', 'svm_c': 0.01, 'svm_kernel': 'poly'}\n"
     ]
    },
    {
     "name": "stderr",
     "output_type": "stream",
     "text": [
      "\r",
      "  1%|▏         | 9/648 [00:43<40:21,  3.79s/it]"
     ]
    },
    {
     "name": "stdout",
     "output_type": "stream",
     "text": [
      "iter: 8, train_score: 0.2597553873034362, validation score: 0.007662835249042146, configuration: {'medoid_normalization': 'standard', 'stop_words': None, 'svm_degree': 5, 'svm_gamma': 0.1, 'norm': 'l1', 'svm_c': 0.01, 'svm_kernel': 'poly'}\n"
     ]
    },
    {
     "name": "stderr",
     "output_type": "stream",
     "text": [
      "\r",
      "  2%|▏         | 10/648 [00:46<38:37,  3.63s/it]"
     ]
    },
    {
     "name": "stdout",
     "output_type": "stream",
     "text": [
      "iter: 9, train_score: 0.5316953316953317, validation score: 0.030092592592592594, configuration: {'medoid_normalization': 'standard', 'stop_words': None, 'svm_degree': 5, 'svm_gamma': 0.2, 'norm': 'l1', 'svm_c': 0.01, 'svm_kernel': 'poly'}\n"
     ]
    },
    {
     "name": "stderr",
     "output_type": "stream",
     "text": [
      "\r",
      "  2%|▏         | 11/648 [00:51<43:51,  4.13s/it]"
     ]
    },
    {
     "name": "stdout",
     "output_type": "stream",
     "text": [
      "iter: 10, train_score: 0.8759231905465287, validation score: 0.03688760806916427, configuration: {'medoid_normalization': 'standard', 'stop_words': None, 'svm_degree': 5, 'svm_gamma': 0.5, 'norm': 'l1', 'svm_c': 0.01, 'svm_kernel': 'poly'}\n"
     ]
    },
    {
     "name": "stderr",
     "output_type": "stream",
     "text": [
      "\r",
      "  2%|▏         | 12/648 [00:56<46:28,  4.38s/it]"
     ]
    },
    {
     "name": "stdout",
     "output_type": "stream",
     "text": [
      "iter: 11, train_score: 0.9696565521840614, validation score: 0.04561229548834903, configuration: {'medoid_normalization': 'standard', 'stop_words': None, 'svm_degree': 5, 'svm_gamma': 1.0, 'norm': 'l1', 'svm_c': 0.01, 'svm_kernel': 'poly'}\n"
     ]
    },
    {
     "name": "stderr",
     "output_type": "stream",
     "text": [
      "\r",
      "  2%|▏         | 13/648 [00:59<40:45,  3.85s/it]"
     ]
    },
    {
     "name": "stdout",
     "output_type": "stream",
     "text": [
      "iter: 12, train_score: 0.30708215297450425, validation score: 0.015841584158415845, configuration: {'medoid_normalization': 'standard', 'stop_words': None, 'svm_degree': 3, 'svm_gamma': 0.1, 'norm': 'l1', 'svm_c': 0.1, 'svm_kernel': 'poly'}\n"
     ]
    },
    {
     "name": "stderr",
     "output_type": "stream",
     "text": [
      "\r",
      "  2%|▏         | 14/648 [01:02<37:37,  3.56s/it]"
     ]
    },
    {
     "name": "stdout",
     "output_type": "stream",
     "text": [
      "iter: 13, train_score: 0.4637532133676092, validation score: 0.014519056261343014, configuration: {'medoid_normalization': 'standard', 'stop_words': None, 'svm_degree': 3, 'svm_gamma': 0.2, 'norm': 'l1', 'svm_c': 0.1, 'svm_kernel': 'poly'}\n"
     ]
    },
    {
     "name": "stderr",
     "output_type": "stream",
     "text": [
      "\r",
      "  2%|▏         | 15/648 [01:05<36:56,  3.50s/it]"
     ]
    },
    {
     "name": "stdout",
     "output_type": "stream",
     "text": [
      "iter: 14, train_score: 0.8268551236749118, validation score: 0.018115942028985508, configuration: {'medoid_normalization': 'standard', 'stop_words': None, 'svm_degree': 3, 'svm_gamma': 0.5, 'norm': 'l1', 'svm_c': 0.1, 'svm_kernel': 'poly'}\n"
     ]
    },
    {
     "name": "stderr",
     "output_type": "stream",
     "text": [
      "\r",
      "  2%|▏         | 16/648 [01:09<37:17,  3.54s/it]"
     ]
    },
    {
     "name": "stdout",
     "output_type": "stream",
     "text": [
      "iter: 15, train_score: 0.9829816201497618, validation score: 0.04710920770877944, configuration: {'medoid_normalization': 'standard', 'stop_words': None, 'svm_degree': 3, 'svm_gamma': 1.0, 'norm': 'l1', 'svm_c': 0.1, 'svm_kernel': 'poly'}\n"
     ]
    },
    {
     "name": "stderr",
     "output_type": "stream",
     "text": [
      "\r",
      "  3%|▎         | 17/648 [01:11<33:40,  3.20s/it]"
     ]
    },
    {
     "name": "stdout",
     "output_type": "stream",
     "text": [
      "iter: 16, train_score: 0.4190476190476191, validation score: 0.0038684719535783366, configuration: {'medoid_normalization': 'standard', 'stop_words': None, 'svm_degree': 4, 'svm_gamma': 0.1, 'norm': 'l1', 'svm_c': 0.1, 'svm_kernel': 'poly'}\n"
     ]
    },
    {
     "name": "stderr",
     "output_type": "stream",
     "text": [
      "\r",
      "  3%|▎         | 18/648 [01:14<32:22,  3.08s/it]"
     ]
    },
    {
     "name": "stdout",
     "output_type": "stream",
     "text": [
      "iter: 17, train_score: 0.6479638009049774, validation score: 0.00881057268722467, configuration: {'medoid_normalization': 'standard', 'stop_words': None, 'svm_degree': 4, 'svm_gamma': 0.2, 'norm': 'l1', 'svm_c': 0.1, 'svm_kernel': 'poly'}\n"
     ]
    },
    {
     "name": "stderr",
     "output_type": "stream",
     "text": [
      "\r",
      "  3%|▎         | 19/648 [01:17<31:43,  3.03s/it]"
     ]
    },
    {
     "name": "stdout",
     "output_type": "stream",
     "text": [
      "iter: 18, train_score: 0.9556099265990913, validation score: 0.03257328990228013, configuration: {'medoid_normalization': 'standard', 'stop_words': None, 'svm_degree': 4, 'svm_gamma': 0.5, 'norm': 'l1', 'svm_c': 0.1, 'svm_kernel': 'poly'}\n"
     ]
    },
    {
     "name": "stderr",
     "output_type": "stream",
     "text": [
      "\r",
      "  3%|▎         | 20/648 [01:20<30:33,  2.92s/it]"
     ]
    },
    {
     "name": "stdout",
     "output_type": "stream",
     "text": [
      "iter: 19, train_score: 0.9966420416386838, validation score: 0.04569055036344756, configuration: {'medoid_normalization': 'standard', 'stop_words': None, 'svm_degree': 4, 'svm_gamma': 1.0, 'norm': 'l1', 'svm_c': 0.1, 'svm_kernel': 'poly'}\n"
     ]
    },
    {
     "name": "stderr",
     "output_type": "stream",
     "text": [
      "\r",
      "  3%|▎         | 21/648 [01:23<31:19,  3.00s/it]"
     ]
    },
    {
     "name": "stdout",
     "output_type": "stream",
     "text": [
      "iter: 20, train_score: 0.44456012493492975, validation score: 0.002911208151382824, configuration: {'medoid_normalization': 'standard', 'stop_words': None, 'svm_degree': 5, 'svm_gamma': 0.1, 'norm': 'l1', 'svm_c': 0.1, 'svm_kernel': 'poly'}\n"
     ]
    },
    {
     "name": "stderr",
     "output_type": "stream",
     "text": [
      "\r",
      "  3%|▎         | 22/648 [01:26<33:12,  3.18s/it]"
     ]
    },
    {
     "name": "stdout",
     "output_type": "stream",
     "text": [
      "iter: 21, train_score: 0.754889721181856, validation score: 0.03532008830022075, configuration: {'medoid_normalization': 'standard', 'stop_words': None, 'svm_degree': 5, 'svm_gamma': 0.2, 'norm': 'l1', 'svm_c': 0.1, 'svm_kernel': 'poly'}\n"
     ]
    },
    {
     "name": "stderr",
     "output_type": "stream",
     "text": [
      "\r",
      "  4%|▎         | 23/648 [01:31<36:44,  3.53s/it]"
     ]
    },
    {
     "name": "stdout",
     "output_type": "stream",
     "text": [
      "iter: 22, train_score: 0.9736932012299283, validation score: 0.038616973506960035, configuration: {'medoid_normalization': 'standard', 'stop_words': None, 'svm_degree': 5, 'svm_gamma': 0.5, 'norm': 'l1', 'svm_c': 0.1, 'svm_kernel': 'poly'}\n"
     ]
    },
    {
     "name": "stderr",
     "output_type": "stream",
     "text": [
      "\r",
      "  4%|▎         | 24/648 [01:35<38:28,  3.70s/it]"
     ]
    },
    {
     "name": "stdout",
     "output_type": "stream",
     "text": [
      "iter: 23, train_score: 0.9959785522788204, validation score: 0.03101503759398496, configuration: {'medoid_normalization': 'standard', 'stop_words': None, 'svm_degree': 5, 'svm_gamma': 1.0, 'norm': 'l1', 'svm_c': 0.1, 'svm_kernel': 'poly'}\n"
     ]
    },
    {
     "name": "stderr",
     "output_type": "stream",
     "text": [
      "\r",
      "  4%|▍         | 25/648 [01:38<37:37,  3.62s/it]"
     ]
    },
    {
     "name": "stdout",
     "output_type": "stream",
     "text": [
      "iter: 24, train_score: 0.44293903074517976, validation score: 0.007518796992481204, configuration: {'medoid_normalization': 'standard', 'stop_words': None, 'svm_degree': 3, 'svm_gamma': 0.1, 'norm': 'l1', 'svm_c': 1, 'svm_kernel': 'poly'}\n"
     ]
    },
    {
     "name": "stderr",
     "output_type": "stream",
     "text": [
      "\r",
      "  4%|▍         | 26/648 [01:42<37:47,  3.65s/it]"
     ]
    },
    {
     "name": "stdout",
     "output_type": "stream",
     "text": [
      "iter: 25, train_score: 0.8004817342432758, validation score: 0.016928657799274487, configuration: {'medoid_normalization': 'standard', 'stop_words': None, 'svm_degree': 3, 'svm_gamma': 0.2, 'norm': 'l1', 'svm_c': 1, 'svm_kernel': 'poly'}\n"
     ]
    },
    {
     "name": "stderr",
     "output_type": "stream",
     "text": [
      "\r",
      "  4%|▍         | 27/648 [01:46<38:27,  3.72s/it]"
     ]
    },
    {
     "name": "stdout",
     "output_type": "stream",
     "text": [
      "iter: 26, train_score: 0.9979879275653923, validation score: 0.04780361757105943, configuration: {'medoid_normalization': 'standard', 'stop_words': None, 'svm_degree': 3, 'svm_gamma': 0.5, 'norm': 'l1', 'svm_c': 1, 'svm_kernel': 'poly'}\n"
     ]
    },
    {
     "name": "stderr",
     "output_type": "stream",
     "text": [
      "\r",
      "  4%|▍         | 28/648 [01:50<40:39,  3.93s/it]"
     ]
    },
    {
     "name": "stdout",
     "output_type": "stream",
     "text": [
      "iter: 27, train_score: 1.0, validation score: 0.04941321803582459, configuration: {'medoid_normalization': 'standard', 'stop_words': None, 'svm_degree': 3, 'svm_gamma': 1.0, 'norm': 'l1', 'svm_c': 1, 'svm_kernel': 'poly'}\n"
     ]
    },
    {
     "name": "stderr",
     "output_type": "stream",
     "text": [
      "\r",
      "  4%|▍         | 29/648 [01:53<38:07,  3.69s/it]"
     ]
    },
    {
     "name": "stdout",
     "output_type": "stream",
     "text": [
      "iter: 28, train_score: 0.5662188099808062, validation score: 0.00828729281767956, configuration: {'medoid_normalization': 'standard', 'stop_words': None, 'svm_degree': 4, 'svm_gamma': 0.1, 'norm': 'l1', 'svm_c': 1, 'svm_kernel': 'poly'}\n"
     ]
    },
    {
     "name": "stderr",
     "output_type": "stream",
     "text": [
      "\r",
      "  5%|▍         | 30/648 [01:56<35:57,  3.49s/it]"
     ]
    },
    {
     "name": "stdout",
     "output_type": "stream",
     "text": [
      "iter: 29, train_score: 0.8974169741697418, validation score: 0.029082774049217004, configuration: {'medoid_normalization': 'standard', 'stop_words': None, 'svm_degree': 4, 'svm_gamma': 0.2, 'norm': 'l1', 'svm_c': 1, 'svm_kernel': 'poly'}\n"
     ]
    },
    {
     "name": "stderr",
     "output_type": "stream",
     "text": [
      "\r",
      "  5%|▍         | 31/648 [01:59<33:49,  3.29s/it]"
     ]
    },
    {
     "name": "stdout",
     "output_type": "stream",
     "text": [
      "iter: 30, train_score: 0.9925826028320971, validation score: 0.05035246727089627, configuration: {'medoid_normalization': 'standard', 'stop_words': None, 'svm_degree': 4, 'svm_gamma': 0.5, 'norm': 'l1', 'svm_c': 1, 'svm_kernel': 'poly'}\n"
     ]
    },
    {
     "name": "stderr",
     "output_type": "stream",
     "text": [
      "\r",
      "  5%|▍         | 32/648 [02:02<32:18,  3.15s/it]"
     ]
    },
    {
     "name": "stdout",
     "output_type": "stream",
     "text": [
      "iter: 31, train_score: 1.0, validation score: 0.029166666666666667, configuration: {'medoid_normalization': 'standard', 'stop_words': None, 'svm_degree': 4, 'svm_gamma': 1.0, 'norm': 'l1', 'svm_c': 1, 'svm_kernel': 'poly'}\n"
     ]
    },
    {
     "name": "stderr",
     "output_type": "stream",
     "text": [
      "\r",
      "  5%|▌         | 33/648 [02:06<36:06,  3.52s/it]"
     ]
    },
    {
     "name": "stdout",
     "output_type": "stream",
     "text": [
      "iter: 32, train_score: 0.6166666666666667, validation score: 0.034715525554484095, configuration: {'medoid_normalization': 'standard', 'stop_words': None, 'svm_degree': 5, 'svm_gamma': 0.1, 'norm': 'l1', 'svm_c': 1, 'svm_kernel': 'poly'}\n"
     ]
    },
    {
     "name": "stderr",
     "output_type": "stream",
     "text": [
      "\r",
      "  5%|▌         | 34/648 [02:11<40:38,  3.97s/it]"
     ]
    },
    {
     "name": "stdout",
     "output_type": "stream",
     "text": [
      "iter: 33, train_score: 0.8845731037009894, validation score: 0.03769274700171331, configuration: {'medoid_normalization': 'standard', 'stop_words': None, 'svm_degree': 5, 'svm_gamma': 0.2, 'norm': 'l1', 'svm_c': 1, 'svm_kernel': 'poly'}\n"
     ]
    },
    {
     "name": "stderr",
     "output_type": "stream",
     "text": [
      "\r",
      "  5%|▌         | 35/648 [02:16<42:25,  4.15s/it]"
     ]
    },
    {
     "name": "stdout",
     "output_type": "stream",
     "text": [
      "iter: 34, train_score: 0.9912810194500336, validation score: 0.0509719222462203, configuration: {'medoid_normalization': 'standard', 'stop_words': None, 'svm_degree': 5, 'svm_gamma': 0.5, 'norm': 'l1', 'svm_c': 1, 'svm_kernel': 'poly'}\n"
     ]
    },
    {
     "name": "stderr",
     "output_type": "stream",
     "text": [
      "\r",
      "  6%|▌         | 36/648 [02:21<43:55,  4.31s/it]"
     ]
    },
    {
     "name": "stdout",
     "output_type": "stream",
     "text": [
      "iter: 35, train_score: 0.9864552362074661, validation score: 0.035863219349457874, configuration: {'medoid_normalization': 'standard', 'stop_words': None, 'svm_degree': 5, 'svm_gamma': 1.0, 'norm': 'l1', 'svm_c': 1, 'svm_kernel': 'poly'}\n",
      "Fitting distance matrix for norm=l1 and stop_words=english\n"
     ]
    },
    {
     "name": "stderr",
     "output_type": "stream",
     "text": [
      "\r",
      "  6%|▌         | 37/648 [02:40<1:30:19,  8.87s/it]"
     ]
    },
    {
     "name": "stdout",
     "output_type": "stream",
     "text": [
      "iter: 36, train_score: 0.16123076923076923, validation score: 0.00819672131147541, configuration: {'medoid_normalization': 'standard', 'stop_words': 'english', 'svm_degree': 3, 'svm_gamma': 0.1, 'norm': 'l1', 'svm_c': 0.01, 'svm_kernel': 'poly'}\n"
     ]
    },
    {
     "name": "stderr",
     "output_type": "stream",
     "text": [
      "\r",
      "  6%|▌         | 38/648 [02:43<1:11:36,  7.04s/it]"
     ]
    },
    {
     "name": "stdout",
     "output_type": "stream",
     "text": [
      "iter: 37, train_score: 0.43560209424083773, validation score: 0.013445378151260507, configuration: {'medoid_normalization': 'standard', 'stop_words': 'english', 'svm_degree': 3, 'svm_gamma': 0.2, 'norm': 'l1', 'svm_c': 0.01, 'svm_kernel': 'poly'}\n"
     ]
    },
    {
     "name": "stderr",
     "output_type": "stream",
     "text": [
      "\r",
      "  6%|▌         | 39/648 [02:46<59:18,  5.84s/it]  "
     ]
    },
    {
     "name": "stdout",
     "output_type": "stream",
     "text": [
      "iter: 38, train_score: 0.7290514674606551, validation score: 0.03192702394526796, configuration: {'medoid_normalization': 'standard', 'stop_words': 'english', 'svm_degree': 3, 'svm_gamma': 0.5, 'norm': 'l1', 'svm_c': 0.01, 'svm_kernel': 'poly'}\n"
     ]
    },
    {
     "name": "stderr",
     "output_type": "stream",
     "text": [
      "\r",
      "  6%|▌         | 40/648 [02:49<51:27,  5.08s/it]"
     ]
    },
    {
     "name": "stdout",
     "output_type": "stream",
     "text": [
      "iter: 39, train_score: 0.9538138558432471, validation score: 0.022304832713754646, configuration: {'medoid_normalization': 'standard', 'stop_words': 'english', 'svm_degree': 3, 'svm_gamma': 1.0, 'norm': 'l1', 'svm_c': 0.01, 'svm_kernel': 'poly'}\n"
     ]
    },
    {
     "name": "stderr",
     "output_type": "stream",
     "text": [
      "\r",
      "  6%|▋         | 41/648 [02:52<43:28,  4.30s/it]"
     ]
    },
    {
     "name": "stdout",
     "output_type": "stream",
     "text": [
      "iter: 40, train_score: 0.3944116066630844, validation score: 0.003610108303249098, configuration: {'medoid_normalization': 'standard', 'stop_words': 'english', 'svm_degree': 4, 'svm_gamma': 0.1, 'norm': 'l1', 'svm_c': 0.01, 'svm_kernel': 'poly'}\n"
     ]
    },
    {
     "name": "stderr",
     "output_type": "stream",
     "text": [
      "\r",
      "  6%|▋         | 42/648 [02:54<38:29,  3.81s/it]"
     ]
    },
    {
     "name": "stdout",
     "output_type": "stream",
     "text": [
      "iter: 41, train_score: 0.62557497700092, validation score: 0.016583747927031506, configuration: {'medoid_normalization': 'standard', 'stop_words': 'english', 'svm_degree': 4, 'svm_gamma': 0.2, 'norm': 'l1', 'svm_c': 0.01, 'svm_kernel': 'poly'}\n"
     ]
    },
    {
     "name": "stderr",
     "output_type": "stream",
     "text": [
      "\r",
      "  7%|▋         | 43/648 [02:57<34:59,  3.47s/it]"
     ]
    },
    {
     "name": "stdout",
     "output_type": "stream",
     "text": [
      "iter: 42, train_score: 0.9501054111033028, validation score: 0.03909465020576132, configuration: {'medoid_normalization': 'standard', 'stop_words': 'english', 'svm_degree': 4, 'svm_gamma': 0.5, 'norm': 'l1', 'svm_c': 0.01, 'svm_kernel': 'poly'}\n"
     ]
    },
    {
     "name": "stderr",
     "output_type": "stream",
     "text": [
      "\r",
      "  7%|▋         | 44/648 [03:00<32:55,  3.27s/it]"
     ]
    },
    {
     "name": "stdout",
     "output_type": "stream",
     "text": [
      "iter: 43, train_score: 0.9898580121703854, validation score: 0.06924315619967794, configuration: {'medoid_normalization': 'standard', 'stop_words': 'english', 'svm_degree': 4, 'svm_gamma': 1.0, 'norm': 'l1', 'svm_c': 0.01, 'svm_kernel': 'poly'}\n"
     ]
    },
    {
     "name": "stderr",
     "output_type": "stream",
     "text": [
      "\r",
      "  7%|▋         | 45/648 [03:03<31:49,  3.17s/it]"
     ]
    },
    {
     "name": "stdout",
     "output_type": "stream",
     "text": [
      "iter: 44, train_score: 0.49319213313161875, validation score: 0.013969732246798603, configuration: {'medoid_normalization': 'standard', 'stop_words': 'english', 'svm_degree': 5, 'svm_gamma': 0.1, 'norm': 'l1', 'svm_c': 0.01, 'svm_kernel': 'poly'}\n"
     ]
    },
    {
     "name": "stderr",
     "output_type": "stream",
     "text": [
      "\r",
      "  7%|▋         | 46/648 [03:07<33:35,  3.35s/it]"
     ]
    },
    {
     "name": "stdout",
     "output_type": "stream",
     "text": [
      "iter: 45, train_score: 0.8004817342432758, validation score: 0.03688853247794707, configuration: {'medoid_normalization': 'standard', 'stop_words': 'english', 'svm_degree': 5, 'svm_gamma': 0.2, 'norm': 'l1', 'svm_c': 0.01, 'svm_kernel': 'poly'}\n"
     ]
    },
    {
     "name": "stderr",
     "output_type": "stream",
     "text": [
      "\r",
      "  7%|▋         | 47/648 [03:11<35:25,  3.54s/it]"
     ]
    },
    {
     "name": "stdout",
     "output_type": "stream",
     "text": [
      "iter: 46, train_score: 0.9739010989010989, validation score: 0.041708043694141016, configuration: {'medoid_normalization': 'standard', 'stop_words': 'english', 'svm_degree': 5, 'svm_gamma': 0.5, 'norm': 'l1', 'svm_c': 0.01, 'svm_kernel': 'poly'}\n"
     ]
    },
    {
     "name": "stderr",
     "output_type": "stream",
     "text": [
      "\r",
      "  7%|▋         | 48/648 [03:15<38:14,  3.82s/it]"
     ]
    },
    {
     "name": "stdout",
     "output_type": "stream",
     "text": [
      "iter: 47, train_score: 0.9973154362416108, validation score: 0.040557667934093794, configuration: {'medoid_normalization': 'standard', 'stop_words': 'english', 'svm_degree': 5, 'svm_gamma': 1.0, 'norm': 'l1', 'svm_c': 0.01, 'svm_kernel': 'poly'}\n"
     ]
    },
    {
     "name": "stderr",
     "output_type": "stream",
     "text": [
      "\r",
      "  8%|▊         | 49/648 [03:18<34:54,  3.50s/it]"
     ]
    },
    {
     "name": "stdout",
     "output_type": "stream",
     "text": [
      "iter: 48, train_score: 0.483248730964467, validation score: 0.022116903633491312, configuration: {'medoid_normalization': 'standard', 'stop_words': 'english', 'svm_degree': 3, 'svm_gamma': 0.1, 'norm': 'l1', 'svm_c': 0.1, 'svm_kernel': 'poly'}\n"
     ]
    },
    {
     "name": "stderr",
     "output_type": "stream",
     "text": [
      "\r",
      "  8%|▊         | 50/648 [03:21<33:15,  3.34s/it]"
     ]
    },
    {
     "name": "stdout",
     "output_type": "stream",
     "text": [
      "iter: 49, train_score: 0.6906222611744085, validation score: 0.03414634146341464, configuration: {'medoid_normalization': 'standard', 'stop_words': 'english', 'svm_degree': 3, 'svm_gamma': 0.2, 'norm': 'l1', 'svm_c': 0.1, 'svm_kernel': 'poly'}\n"
     ]
    },
    {
     "name": "stderr",
     "output_type": "stream",
     "text": [
      "\r",
      "  8%|▊         | 51/648 [03:24<34:00,  3.42s/it]"
     ]
    },
    {
     "name": "stdout",
     "output_type": "stream",
     "text": [
      "iter: 50, train_score: 0.937788837539993, validation score: 0.015151515151515152, configuration: {'medoid_normalization': 'standard', 'stop_words': 'english', 'svm_degree': 3, 'svm_gamma': 0.5, 'norm': 'l1', 'svm_c': 0.1, 'svm_kernel': 'poly'}\n"
     ]
    },
    {
     "name": "stderr",
     "output_type": "stream",
     "text": [
      "\r",
      "  8%|▊         | 52/648 [03:28<34:13,  3.45s/it]"
     ]
    },
    {
     "name": "stdout",
     "output_type": "stream",
     "text": [
      "iter: 51, train_score: 0.9969788519637462, validation score: 0.04365307294658242, configuration: {'medoid_normalization': 'standard', 'stop_words': 'english', 'svm_degree': 3, 'svm_gamma': 1.0, 'norm': 'l1', 'svm_c': 0.1, 'svm_kernel': 'poly'}\n"
     ]
    },
    {
     "name": "stderr",
     "output_type": "stream",
     "text": [
      "\r",
      "  8%|▊         | 53/648 [03:31<31:37,  3.19s/it]"
     ]
    },
    {
     "name": "stdout",
     "output_type": "stream",
     "text": [
      "iter: 52, train_score: 0.5634615384615385, validation score: 0.018264840182648404, configuration: {'medoid_normalization': 'standard', 'stop_words': 'english', 'svm_degree': 4, 'svm_gamma': 0.1, 'norm': 'l1', 'svm_c': 0.1, 'svm_kernel': 'poly'}\n"
     ]
    },
    {
     "name": "stderr",
     "output_type": "stream",
     "text": [
      "\r",
      "  8%|▊         | 54/648 [03:33<29:52,  3.02s/it]"
     ]
    },
    {
     "name": "stdout",
     "output_type": "stream",
     "text": [
      "iter: 53, train_score: 0.8516525749423521, validation score: 0.03367003367003367, configuration: {'medoid_normalization': 'standard', 'stop_words': 'english', 'svm_degree': 4, 'svm_gamma': 0.2, 'norm': 'l1', 'svm_c': 0.1, 'svm_kernel': 'poly'}\n"
     ]
    },
    {
     "name": "stderr",
     "output_type": "stream",
     "text": [
      "\r",
      "  8%|▊         | 55/648 [03:36<28:45,  2.91s/it]"
     ]
    },
    {
     "name": "stdout",
     "output_type": "stream",
     "text": [
      "iter: 54, train_score: 0.9888324873096447, validation score: 0.032504780114722756, configuration: {'medoid_normalization': 'standard', 'stop_words': 'english', 'svm_degree': 4, 'svm_gamma': 0.5, 'norm': 'l1', 'svm_c': 0.1, 'svm_kernel': 'poly'}\n"
     ]
    },
    {
     "name": "stderr",
     "output_type": "stream",
     "text": [
      "\r",
      "  9%|▊         | 56/648 [03:38<27:49,  2.82s/it]"
     ]
    },
    {
     "name": "stdout",
     "output_type": "stream",
     "text": [
      "iter: 55, train_score: 1.0, validation score: 0.039182282793867124, configuration: {'medoid_normalization': 'standard', 'stop_words': 'english', 'svm_degree': 4, 'svm_gamma': 1.0, 'norm': 'l1', 'svm_c': 0.1, 'svm_kernel': 'poly'}\n"
     ]
    },
    {
     "name": "stderr",
     "output_type": "stream",
     "text": [
      "\r",
      "  9%|▉         | 57/648 [03:42<28:54,  2.94s/it]"
     ]
    },
    {
     "name": "stdout",
     "output_type": "stream",
     "text": [
      "iter: 56, train_score: 0.6980392156862745, validation score: 0.022018348623853212, configuration: {'medoid_normalization': 'standard', 'stop_words': 'english', 'svm_degree': 5, 'svm_gamma': 0.1, 'norm': 'l1', 'svm_c': 0.1, 'svm_kernel': 'poly'}\n"
     ]
    },
    {
     "name": "stderr",
     "output_type": "stream",
     "text": [
      "\r",
      "  9%|▉         | 58/648 [03:46<31:37,  3.22s/it]"
     ]
    },
    {
     "name": "stdout",
     "output_type": "stream",
     "text": [
      "iter: 57, train_score: 0.8896321070234113, validation score: 0.04313443565780014, configuration: {'medoid_normalization': 'standard', 'stop_words': 'english', 'svm_degree': 5, 'svm_gamma': 0.2, 'norm': 'l1', 'svm_c': 0.1, 'svm_kernel': 'poly'}\n"
     ]
    },
    {
     "name": "stderr",
     "output_type": "stream",
     "text": [
      "\r",
      "  9%|▉         | 59/648 [03:49<33:26,  3.41s/it]"
     ]
    },
    {
     "name": "stdout",
     "output_type": "stream",
     "text": [
      "iter: 58, train_score: 0.9925826028320971, validation score: 0.046762589928057555, configuration: {'medoid_normalization': 'standard', 'stop_words': 'english', 'svm_degree': 5, 'svm_gamma': 0.5, 'norm': 'l1', 'svm_c': 0.1, 'svm_kernel': 'poly'}\n"
     ]
    },
    {
     "name": "stderr",
     "output_type": "stream",
     "text": [
      "\r",
      "  9%|▉         | 60/648 [03:53<35:22,  3.61s/it]"
     ]
    },
    {
     "name": "stdout",
     "output_type": "stream",
     "text": [
      "iter: 59, train_score: 1.0, validation score: 0.04342273307790549, configuration: {'medoid_normalization': 'standard', 'stop_words': 'english', 'svm_degree': 5, 'svm_gamma': 1.0, 'norm': 'l1', 'svm_c': 0.1, 'svm_kernel': 'poly'}\n"
     ]
    },
    {
     "name": "stderr",
     "output_type": "stream",
     "text": [
      "\r",
      "  9%|▉         | 61/648 [03:56<33:33,  3.43s/it]"
     ]
    },
    {
     "name": "stdout",
     "output_type": "stream",
     "text": [
      "iter: 60, train_score: 0.7208904109589042, validation score: 0.021482277121374866, configuration: {'medoid_normalization': 'standard', 'stop_words': 'english', 'svm_degree': 3, 'svm_gamma': 0.1, 'norm': 'l1', 'svm_c': 1, 'svm_kernel': 'poly'}\n"
     ]
    },
    {
     "name": "stderr",
     "output_type": "stream",
     "text": [
      "\r",
      " 10%|▉         | 62/648 [04:00<33:04,  3.39s/it]"
     ]
    },
    {
     "name": "stdout",
     "output_type": "stream",
     "text": [
      "iter: 61, train_score: 0.927109515260323, validation score: 0.0465444287729196, configuration: {'medoid_normalization': 'standard', 'stop_words': 'english', 'svm_degree': 3, 'svm_gamma': 0.2, 'norm': 'l1', 'svm_c': 1, 'svm_kernel': 'poly'}\n"
     ]
    },
    {
     "name": "stderr",
     "output_type": "stream",
     "text": [
      "\r",
      " 10%|▉         | 63/648 [04:03<33:22,  3.42s/it]"
     ]
    },
    {
     "name": "stdout",
     "output_type": "stream",
     "text": [
      "iter: 62, train_score: 0.9973154362416108, validation score: 0.04715672676837725, configuration: {'medoid_normalization': 'standard', 'stop_words': 'english', 'svm_degree': 3, 'svm_gamma': 0.5, 'norm': 'l1', 'svm_c': 1, 'svm_kernel': 'poly'}\n"
     ]
    },
    {
     "name": "stderr",
     "output_type": "stream",
     "text": [
      "\r",
      " 10%|▉         | 64/648 [04:07<33:55,  3.48s/it]"
     ]
    },
    {
     "name": "stdout",
     "output_type": "stream",
     "text": [
      "iter: 63, train_score: 1.0, validation score: 0.03614457831325301, configuration: {'medoid_normalization': 'standard', 'stop_words': 'english', 'svm_degree': 3, 'svm_gamma': 1.0, 'norm': 'l1', 'svm_c': 1, 'svm_kernel': 'poly'}\n"
     ]
    },
    {
     "name": "stderr",
     "output_type": "stream",
     "text": [
      "\r",
      " 10%|█         | 65/648 [04:09<30:58,  3.19s/it]"
     ]
    },
    {
     "name": "stdout",
     "output_type": "stream",
     "text": [
      "iter: 64, train_score: 0.8318999218139171, validation score: 0.020524515393386546, configuration: {'medoid_normalization': 'standard', 'stop_words': 'english', 'svm_degree': 4, 'svm_gamma': 0.1, 'norm': 'l1', 'svm_c': 1, 'svm_kernel': 'poly'}\n"
     ]
    },
    {
     "name": "stderr",
     "output_type": "stream",
     "text": [
      "\r",
      " 10%|█         | 66/648 [04:12<29:05,  3.00s/it]"
     ]
    },
    {
     "name": "stdout",
     "output_type": "stream",
     "text": [
      "iter: 65, train_score: 0.9548793284365162, validation score: 0.048417132216014895, configuration: {'medoid_normalization': 'standard', 'stop_words': 'english', 'svm_degree': 4, 'svm_gamma': 0.2, 'norm': 'l1', 'svm_c': 1, 'svm_kernel': 'poly'}\n"
     ]
    },
    {
     "name": "stderr",
     "output_type": "stream",
     "text": [
      "\r",
      " 10%|█         | 67/648 [04:14<27:44,  2.86s/it]"
     ]
    },
    {
     "name": "stdout",
     "output_type": "stream",
     "text": [
      "iter: 66, train_score: 0.9969788519637462, validation score: 0.03319502074688797, configuration: {'medoid_normalization': 'standard', 'stop_words': 'english', 'svm_degree': 4, 'svm_gamma': 0.5, 'norm': 'l1', 'svm_c': 1, 'svm_kernel': 'poly'}\n"
     ]
    },
    {
     "name": "stderr",
     "output_type": "stream",
     "text": [
      "\r",
      " 10%|█         | 68/648 [04:17<27:02,  2.80s/it]"
     ]
    },
    {
     "name": "stdout",
     "output_type": "stream",
     "text": [
      "iter: 67, train_score: 1.0, validation score: 0.04318936877076412, configuration: {'medoid_normalization': 'standard', 'stop_words': 'english', 'svm_degree': 4, 'svm_gamma': 1.0, 'norm': 'l1', 'svm_c': 1, 'svm_kernel': 'poly'}\n"
     ]
    },
    {
     "name": "stderr",
     "output_type": "stream",
     "text": [
      "\r",
      " 11%|█         | 69/648 [04:21<29:24,  3.05s/it]"
     ]
    },
    {
     "name": "stdout",
     "output_type": "stream",
     "text": [
      "iter: 68, train_score: 0.81145584725537, validation score: 0.03357664233576642, configuration: {'medoid_normalization': 'standard', 'stop_words': 'english', 'svm_degree': 5, 'svm_gamma': 0.1, 'norm': 'l1', 'svm_c': 1, 'svm_kernel': 'poly'}\n"
     ]
    },
    {
     "name": "stderr",
     "output_type": "stream",
     "text": [
      "\r",
      " 11%|█         | 70/648 [04:25<31:26,  3.26s/it]"
     ]
    },
    {
     "name": "stdout",
     "output_type": "stream",
     "text": [
      "iter: 69, train_score: 0.9753086419753086, validation score: 0.04266389177939646, configuration: {'medoid_normalization': 'standard', 'stop_words': 'english', 'svm_degree': 5, 'svm_gamma': 0.2, 'norm': 'l1', 'svm_c': 1, 'svm_kernel': 'poly'}\n"
     ]
    },
    {
     "name": "stderr",
     "output_type": "stream",
     "text": [
      "\r",
      " 11%|█         | 71/648 [04:28<33:10,  3.45s/it]"
     ]
    },
    {
     "name": "stdout",
     "output_type": "stream",
     "text": [
      "iter: 70, train_score: 1.0, validation score: 0.03648915187376726, configuration: {'medoid_normalization': 'standard', 'stop_words': 'english', 'svm_degree': 5, 'svm_gamma': 0.5, 'norm': 'l1', 'svm_c': 1, 'svm_kernel': 'poly'}\n"
     ]
    },
    {
     "name": "stderr",
     "output_type": "stream",
     "text": [
      "\r",
      " 11%|█         | 72/648 [04:32<34:00,  3.54s/it]"
     ]
    },
    {
     "name": "stdout",
     "output_type": "stream",
     "text": [
      "iter: 71, train_score: 1.0, validation score: 0.045307443365695796, configuration: {'medoid_normalization': 'standard', 'stop_words': 'english', 'svm_degree': 5, 'svm_gamma': 1.0, 'norm': 'l1', 'svm_c': 1, 'svm_kernel': 'poly'}\n",
      "Fitting distance matrix for norm=l2 and stop_words=None\n"
     ]
    },
    {
     "name": "stderr",
     "output_type": "stream",
     "text": [
      "\r",
      " 11%|█▏        | 73/648 [04:51<1:18:46,  8.22s/it]"
     ]
    },
    {
     "name": "stdout",
     "output_type": "stream",
     "text": [
      "iter: 72, train_score: 0.369885433715221, validation score: 0.0, configuration: {'medoid_normalization': 'standard', 'stop_words': None, 'svm_degree': 3, 'svm_gamma': 0.1, 'norm': 'l2', 'svm_c': 0.01, 'svm_kernel': 'poly'}\n"
     ]
    },
    {
     "name": "stderr",
     "output_type": "stream",
     "text": [
      "\r",
      " 11%|█▏        | 74/648 [04:54<1:04:11,  6.71s/it]"
     ]
    },
    {
     "name": "stdout",
     "output_type": "stream",
     "text": [
      "iter: 73, train_score: 0.5572187349106712, validation score: 0.0, configuration: {'medoid_normalization': 'standard', 'stop_words': None, 'svm_degree': 3, 'svm_gamma': 0.2, 'norm': 'l2', 'svm_c': 0.01, 'svm_kernel': 'poly'}\n"
     ]
    },
    {
     "name": "stderr",
     "output_type": "stream",
     "text": [
      "\r",
      " 12%|█▏        | 75/648 [04:58<55:15,  5.79s/it]  "
     ]
    },
    {
     "name": "stdout",
     "output_type": "stream",
     "text": [
      "iter: 74, train_score: 0.9864314789687924, validation score: 0.027681660899653984, configuration: {'medoid_normalization': 'standard', 'stop_words': None, 'svm_degree': 3, 'svm_gamma': 0.5, 'norm': 'l2', 'svm_c': 0.01, 'svm_kernel': 'poly'}\n"
     ]
    },
    {
     "name": "stderr",
     "output_type": "stream",
     "text": [
      "\r",
      " 12%|█▏        | 76/648 [05:02<49:16,  5.17s/it]"
     ]
    },
    {
     "name": "stdout",
     "output_type": "stream",
     "text": [
      "iter: 75, train_score: 1.0, validation score: 0.031578947368421054, configuration: {'medoid_normalization': 'standard', 'stop_words': None, 'svm_degree': 3, 'svm_gamma': 1.0, 'norm': 'l2', 'svm_c': 0.01, 'svm_kernel': 'poly'}\n"
     ]
    },
    {
     "name": "stderr",
     "output_type": "stream",
     "text": [
      "\r",
      " 12%|█▏        | 77/648 [05:05<43:28,  4.57s/it]"
     ]
    },
    {
     "name": "stdout",
     "output_type": "stream",
     "text": [
      "iter: 76, train_score: 0.44779220779220774, validation score: 0.004032258064516129, configuration: {'medoid_normalization': 'standard', 'stop_words': None, 'svm_degree': 4, 'svm_gamma': 0.1, 'norm': 'l2', 'svm_c': 0.01, 'svm_kernel': 'poly'}\n"
     ]
    },
    {
     "name": "stderr",
     "output_type": "stream",
     "text": [
      "\r",
      " 12%|█▏        | 78/648 [05:09<40:23,  4.25s/it]"
     ]
    },
    {
     "name": "stdout",
     "output_type": "stream",
     "text": [
      "iter: 77, train_score: 0.8577981651376146, validation score: 0.015673981191222573, configuration: {'medoid_normalization': 'standard', 'stop_words': None, 'svm_degree': 4, 'svm_gamma': 0.2, 'norm': 'l2', 'svm_c': 0.01, 'svm_kernel': 'poly'}\n"
     ]
    },
    {
     "name": "stderr",
     "output_type": "stream",
     "text": [
      "\r",
      " 12%|█▏        | 79/648 [05:12<38:08,  4.02s/it]"
     ]
    },
    {
     "name": "stdout",
     "output_type": "stream",
     "text": [
      "iter: 78, train_score: 1.0, validation score: 0.016282225237449117, configuration: {'medoid_normalization': 'standard', 'stop_words': None, 'svm_degree': 4, 'svm_gamma': 0.5, 'norm': 'l2', 'svm_c': 0.01, 'svm_kernel': 'poly'}\n"
     ]
    },
    {
     "name": "stderr",
     "output_type": "stream",
     "text": [
      "\r",
      " 12%|█▏        | 80/648 [05:15<36:23,  3.84s/it]"
     ]
    },
    {
     "name": "stdout",
     "output_type": "stream",
     "text": [
      "iter: 79, train_score: 1.0, validation score: 0.02789400278940028, configuration: {'medoid_normalization': 'standard', 'stop_words': None, 'svm_degree': 4, 'svm_gamma': 1.0, 'norm': 'l2', 'svm_c': 0.01, 'svm_kernel': 'poly'}\n"
     ]
    },
    {
     "name": "stderr",
     "output_type": "stream",
     "text": [
      "\r",
      " 12%|█▎        | 81/648 [05:19<35:29,  3.76s/it]"
     ]
    },
    {
     "name": "stdout",
     "output_type": "stream",
     "text": [
      "iter: 80, train_score: 0.6147426981919333, validation score: 0.007547169811320755, configuration: {'medoid_normalization': 'standard', 'stop_words': None, 'svm_degree': 5, 'svm_gamma': 0.1, 'norm': 'l2', 'svm_c': 0.01, 'svm_kernel': 'poly'}\n"
     ]
    },
    {
     "name": "stderr",
     "output_type": "stream",
     "text": [
      "\r",
      " 13%|█▎        | 82/648 [05:23<36:09,  3.83s/it]"
     ]
    },
    {
     "name": "stdout",
     "output_type": "stream",
     "text": [
      "iter: 81, train_score: 0.930948121645796, validation score: 0.03233830845771144, configuration: {'medoid_normalization': 'standard', 'stop_words': None, 'svm_degree': 5, 'svm_gamma': 0.2, 'norm': 'l2', 'svm_c': 0.01, 'svm_kernel': 'poly'}\n"
     ]
    },
    {
     "name": "stderr",
     "output_type": "stream",
     "text": [
      "\r",
      " 13%|█▎        | 83/648 [05:27<37:04,  3.94s/it]"
     ]
    },
    {
     "name": "stdout",
     "output_type": "stream",
     "text": [
      "iter: 82, train_score: 1.0, validation score: 0.035015447991761074, configuration: {'medoid_normalization': 'standard', 'stop_words': None, 'svm_degree': 5, 'svm_gamma': 0.5, 'norm': 'l2', 'svm_c': 0.01, 'svm_kernel': 'poly'}\n"
     ]
    },
    {
     "name": "stderr",
     "output_type": "stream",
     "text": [
      "\r",
      " 13%|█▎        | 84/648 [05:31<37:33,  3.99s/it]"
     ]
    },
    {
     "name": "stdout",
     "output_type": "stream",
     "text": [
      "iter: 83, train_score: 1.0, validation score: 0.0291363163371488, configuration: {'medoid_normalization': 'standard', 'stop_words': None, 'svm_degree': 5, 'svm_gamma': 1.0, 'norm': 'l2', 'svm_c': 0.01, 'svm_kernel': 'poly'}\n"
     ]
    },
    {
     "name": "stderr",
     "output_type": "stream",
     "text": [
      "\r",
      " 13%|█▎        | 85/648 [05:34<34:40,  3.69s/it]"
     ]
    },
    {
     "name": "stdout",
     "output_type": "stream",
     "text": [
      "iter: 84, train_score: 0.6024321796071094, validation score: 0.0038986354775828462, configuration: {'medoid_normalization': 'standard', 'stop_words': None, 'svm_degree': 3, 'svm_gamma': 0.1, 'norm': 'l2', 'svm_c': 0.1, 'svm_kernel': 'poly'}\n"
     ]
    },
    {
     "name": "stderr",
     "output_type": "stream",
     "text": [
      "\r",
      " 13%|█▎        | 86/648 [05:38<33:54,  3.62s/it]"
     ]
    },
    {
     "name": "stdout",
     "output_type": "stream",
     "text": [
      "iter: 85, train_score: 0.9392971246006391, validation score: 0.0187207488299532, configuration: {'medoid_normalization': 'standard', 'stop_words': None, 'svm_degree': 3, 'svm_gamma': 0.2, 'norm': 'l2', 'svm_c': 0.1, 'svm_kernel': 'poly'}\n"
     ]
    },
    {
     "name": "stderr",
     "output_type": "stream",
     "text": [
      "\r",
      " 13%|█▎        | 87/648 [05:41<33:40,  3.60s/it]"
     ]
    },
    {
     "name": "stdout",
     "output_type": "stream",
     "text": [
      "iter: 86, train_score: 1.0, validation score: 0.027672955974842765, configuration: {'medoid_normalization': 'standard', 'stop_words': None, 'svm_degree': 3, 'svm_gamma': 0.5, 'norm': 'l2', 'svm_c': 0.1, 'svm_kernel': 'poly'}\n"
     ]
    },
    {
     "name": "stderr",
     "output_type": "stream",
     "text": [
      "\r",
      " 14%|█▎        | 88/648 [05:45<34:04,  3.65s/it]"
     ]
    },
    {
     "name": "stdout",
     "output_type": "stream",
     "text": [
      "iter: 87, train_score: 1.0, validation score: 0.023323615160349857, configuration: {'medoid_normalization': 'standard', 'stop_words': None, 'svm_degree': 3, 'svm_gamma': 1.0, 'norm': 'l2', 'svm_c': 0.1, 'svm_kernel': 'poly'}\n"
     ]
    },
    {
     "name": "stderr",
     "output_type": "stream",
     "text": [
      "\r",
      " 14%|█▎        | 89/648 [05:49<33:33,  3.60s/it]"
     ]
    },
    {
     "name": "stdout",
     "output_type": "stream",
     "text": [
      "iter: 88, train_score: 0.7413647851727043, validation score: 0.003448275862068966, configuration: {'medoid_normalization': 'standard', 'stop_words': None, 'svm_degree': 4, 'svm_gamma': 0.1, 'norm': 'l2', 'svm_c': 0.1, 'svm_kernel': 'poly'}\n"
     ]
    },
    {
     "name": "stderr",
     "output_type": "stream",
     "text": [
      "\r",
      " 14%|█▍        | 90/648 [05:52<33:03,  3.55s/it]"
     ]
    },
    {
     "name": "stdout",
     "output_type": "stream",
     "text": [
      "iter: 89, train_score: 0.9908814589665653, validation score: 0.03179190751445087, configuration: {'medoid_normalization': 'standard', 'stop_words': None, 'svm_degree': 4, 'svm_gamma': 0.2, 'norm': 'l2', 'svm_c': 0.1, 'svm_kernel': 'poly'}\n"
     ]
    },
    {
     "name": "stderr",
     "output_type": "stream",
     "text": [
      "\r",
      " 14%|█▍        | 91/648 [05:55<32:46,  3.53s/it]"
     ]
    },
    {
     "name": "stdout",
     "output_type": "stream",
     "text": [
      "iter: 90, train_score: 1.0, validation score: 0.015523932729624837, configuration: {'medoid_normalization': 'standard', 'stop_words': None, 'svm_degree': 4, 'svm_gamma': 0.5, 'norm': 'l2', 'svm_c': 0.1, 'svm_kernel': 'poly'}\n"
     ]
    },
    {
     "name": "stderr",
     "output_type": "stream",
     "text": [
      "\r",
      " 14%|█▍        | 92/648 [05:59<32:26,  3.50s/it]"
     ]
    },
    {
     "name": "stdout",
     "output_type": "stream",
     "text": [
      "iter: 91, train_score: 1.0, validation score: 0.010101010101010102, configuration: {'medoid_normalization': 'standard', 'stop_words': None, 'svm_degree': 4, 'svm_gamma': 1.0, 'norm': 'l2', 'svm_c': 0.1, 'svm_kernel': 'poly'}\n"
     ]
    },
    {
     "name": "stderr",
     "output_type": "stream",
     "text": [
      "\r",
      " 14%|█▍        | 93/648 [06:03<33:59,  3.68s/it]"
     ]
    },
    {
     "name": "stdout",
     "output_type": "stream",
     "text": [
      "iter: 92, train_score: 0.8208366219415943, validation score: 0.02366863905325444, configuration: {'medoid_normalization': 'standard', 'stop_words': None, 'svm_degree': 5, 'svm_gamma': 0.1, 'norm': 'l2', 'svm_c': 0.1, 'svm_kernel': 'poly'}\n"
     ]
    },
    {
     "name": "stderr",
     "output_type": "stream",
     "text": [
      "\r",
      " 15%|█▍        | 94/648 [06:07<35:39,  3.86s/it]"
     ]
    },
    {
     "name": "stdout",
     "output_type": "stream",
     "text": [
      "iter: 93, train_score: 0.9946164199192463, validation score: 0.02724177071509648, configuration: {'medoid_normalization': 'standard', 'stop_words': None, 'svm_degree': 5, 'svm_gamma': 0.2, 'norm': 'l2', 'svm_c': 0.1, 'svm_kernel': 'poly'}\n"
     ]
    },
    {
     "name": "stderr",
     "output_type": "stream",
     "text": [
      "\r",
      " 15%|█▍        | 95/648 [06:12<37:38,  4.08s/it]"
     ]
    },
    {
     "name": "stdout",
     "output_type": "stream",
     "text": [
      "iter: 94, train_score: 1.0, validation score: 0.03896103896103896, configuration: {'medoid_normalization': 'standard', 'stop_words': None, 'svm_degree': 5, 'svm_gamma': 0.5, 'norm': 'l2', 'svm_c': 0.1, 'svm_kernel': 'poly'}\n"
     ]
    },
    {
     "name": "stderr",
     "output_type": "stream",
     "text": [
      "\r",
      " 15%|█▍        | 96/648 [06:17<39:01,  4.24s/it]"
     ]
    },
    {
     "name": "stdout",
     "output_type": "stream",
     "text": [
      "iter: 95, train_score: 1.0, validation score: 0.025998142989786442, configuration: {'medoid_normalization': 'standard', 'stop_words': None, 'svm_degree': 5, 'svm_gamma': 1.0, 'norm': 'l2', 'svm_c': 0.1, 'svm_kernel': 'poly'}\n"
     ]
    },
    {
     "name": "stderr",
     "output_type": "stream",
     "text": [
      "\r",
      " 15%|█▍        | 97/648 [06:20<37:21,  4.07s/it]"
     ]
    },
    {
     "name": "stdout",
     "output_type": "stream",
     "text": [
      "iter: 96, train_score: 0.9700103412616339, validation score: 0.031897926634768745, configuration: {'medoid_normalization': 'standard', 'stop_words': None, 'svm_degree': 3, 'svm_gamma': 0.1, 'norm': 'l2', 'svm_c': 1, 'svm_kernel': 'poly'}\n"
     ]
    },
    {
     "name": "stderr",
     "output_type": "stream",
     "text": [
      "\r",
      " 15%|█▌        | 98/648 [06:24<35:56,  3.92s/it]"
     ]
    },
    {
     "name": "stdout",
     "output_type": "stream",
     "text": [
      "iter: 97, train_score: 1.0, validation score: 0.01759530791788856, configuration: {'medoid_normalization': 'standard', 'stop_words': None, 'svm_degree': 3, 'svm_gamma': 0.2, 'norm': 'l2', 'svm_c': 1, 'svm_kernel': 'poly'}\n"
     ]
    },
    {
     "name": "stderr",
     "output_type": "stream",
     "text": [
      "\r",
      " 15%|█▌        | 99/648 [06:27<35:03,  3.83s/it]"
     ]
    },
    {
     "name": "stdout",
     "output_type": "stream",
     "text": [
      "iter: 98, train_score: 1.0, validation score: 0.020958083832335328, configuration: {'medoid_normalization': 'standard', 'stop_words': None, 'svm_degree': 3, 'svm_gamma': 0.5, 'norm': 'l2', 'svm_c': 1, 'svm_kernel': 'poly'}\n"
     ]
    },
    {
     "name": "stderr",
     "output_type": "stream",
     "text": [
      "\r",
      " 15%|█▌        | 100/648 [06:31<34:48,  3.81s/it]"
     ]
    },
    {
     "name": "stdout",
     "output_type": "stream",
     "text": [
      "iter: 99, train_score: 1.0, validation score: 0.03333333333333334, configuration: {'medoid_normalization': 'standard', 'stop_words': None, 'svm_degree': 3, 'svm_gamma': 1.0, 'norm': 'l2', 'svm_c': 1, 'svm_kernel': 'poly'}\n"
     ]
    },
    {
     "name": "stderr",
     "output_type": "stream",
     "text": [
      "\r",
      " 16%|█▌        | 101/648 [06:35<33:48,  3.71s/it]"
     ]
    },
    {
     "name": "stdout",
     "output_type": "stream",
     "text": [
      "iter: 100, train_score: 0.968588194684156, validation score: 0.01871657754010695, configuration: {'medoid_normalization': 'standard', 'stop_words': None, 'svm_degree': 4, 'svm_gamma': 0.1, 'norm': 'l2', 'svm_c': 1, 'svm_kernel': 'poly'}\n"
     ]
    },
    {
     "name": "stderr",
     "output_type": "stream",
     "text": [
      "\r",
      " 16%|█▌        | 102/648 [06:38<32:55,  3.62s/it]"
     ]
    },
    {
     "name": "stdout",
     "output_type": "stream",
     "text": [
      "iter: 101, train_score: 1.0, validation score: 0.02567760342368046, configuration: {'medoid_normalization': 'standard', 'stop_words': None, 'svm_degree': 4, 'svm_gamma': 0.2, 'norm': 'l2', 'svm_c': 1, 'svm_kernel': 'poly'}\n"
     ]
    },
    {
     "name": "stderr",
     "output_type": "stream",
     "text": [
      "\r",
      " 16%|█▌        | 103/648 [06:41<32:05,  3.53s/it]"
     ]
    },
    {
     "name": "stdout",
     "output_type": "stream",
     "text": [
      "iter: 102, train_score: 1.0, validation score: 0.026143790849673203, configuration: {'medoid_normalization': 'standard', 'stop_words': None, 'svm_degree': 4, 'svm_gamma': 0.5, 'norm': 'l2', 'svm_c': 1, 'svm_kernel': 'poly'}\n"
     ]
    },
    {
     "name": "stderr",
     "output_type": "stream",
     "text": [
      "\r",
      " 16%|█▌        | 104/648 [06:45<31:28,  3.47s/it]"
     ]
    },
    {
     "name": "stdout",
     "output_type": "stream",
     "text": [
      "iter: 103, train_score: 1.0, validation score: 0.00591715976331361, configuration: {'medoid_normalization': 'standard', 'stop_words': None, 'svm_degree': 4, 'svm_gamma': 1.0, 'norm': 'l2', 'svm_c': 1, 'svm_kernel': 'poly'}\n"
     ]
    },
    {
     "name": "stderr",
     "output_type": "stream",
     "text": [
      "\r",
      " 16%|█▌        | 105/648 [06:49<33:36,  3.71s/it]"
     ]
    },
    {
     "name": "stdout",
     "output_type": "stream",
     "text": [
      "iter: 104, train_score: 0.9714285714285714, validation score: 0.0202474690663667, configuration: {'medoid_normalization': 'standard', 'stop_words': None, 'svm_degree': 5, 'svm_gamma': 0.1, 'norm': 'l2', 'svm_c': 1, 'svm_kernel': 'poly'}\n"
     ]
    },
    {
     "name": "stderr",
     "output_type": "stream",
     "text": [
      "\r",
      " 16%|█▋        | 106/648 [06:53<35:11,  3.90s/it]"
     ]
    },
    {
     "name": "stdout",
     "output_type": "stream",
     "text": [
      "iter: 105, train_score: 1.0, validation score: 0.02791625124626122, configuration: {'medoid_normalization': 'standard', 'stop_words': None, 'svm_degree': 5, 'svm_gamma': 0.2, 'norm': 'l2', 'svm_c': 1, 'svm_kernel': 'poly'}\n"
     ]
    },
    {
     "name": "stderr",
     "output_type": "stream",
     "text": [
      "\r",
      " 17%|█▋        | 107/648 [06:58<36:13,  4.02s/it]"
     ]
    },
    {
     "name": "stdout",
     "output_type": "stream",
     "text": [
      "iter: 106, train_score: 1.0, validation score: 0.026578073089700997, configuration: {'medoid_normalization': 'standard', 'stop_words': None, 'svm_degree': 5, 'svm_gamma': 0.5, 'norm': 'l2', 'svm_c': 1, 'svm_kernel': 'poly'}\n"
     ]
    },
    {
     "name": "stderr",
     "output_type": "stream",
     "text": [
      "\r",
      " 17%|█▋        | 108/648 [07:02<37:24,  4.16s/it]"
     ]
    },
    {
     "name": "stdout",
     "output_type": "stream",
     "text": [
      "iter: 107, train_score: 1.0, validation score: 0.03962101636520241, configuration: {'medoid_normalization': 'standard', 'stop_words': None, 'svm_degree': 5, 'svm_gamma': 1.0, 'norm': 'l2', 'svm_c': 1, 'svm_kernel': 'poly'}\n",
      "Fitting distance matrix for norm=l2 and stop_words=english\n"
     ]
    },
    {
     "name": "stderr",
     "output_type": "stream",
     "text": [
      "/home/felipe/tf-venv3/lib/python3.5/site-packages/sklearn/metrics/classification.py:1135: UndefinedMetricWarning: F-score is ill-defined and being set to 0.0 due to no predicted samples.\n",
      "  'precision', 'predicted', average, warn_for)\n",
      "\r",
      " 17%|█▋        | 109/648 [07:21<1:18:06,  8.69s/it]"
     ]
    },
    {
     "name": "stdout",
     "output_type": "stream",
     "text": [
      "iter: 108, train_score: 0.34, validation score: 0.0, configuration: {'medoid_normalization': 'standard', 'stop_words': 'english', 'svm_degree': 3, 'svm_gamma': 0.1, 'norm': 'l2', 'svm_c': 0.01, 'svm_kernel': 'poly'}\n"
     ]
    },
    {
     "name": "stderr",
     "output_type": "stream",
     "text": [
      "\r",
      " 17%|█▋        | 110/648 [07:24<1:02:31,  6.97s/it]"
     ]
    },
    {
     "name": "stdout",
     "output_type": "stream",
     "text": [
      "iter: 109, train_score: 0.3716621253405995, validation score: 0.0, configuration: {'medoid_normalization': 'standard', 'stop_words': 'english', 'svm_degree': 3, 'svm_gamma': 0.2, 'norm': 'l2', 'svm_c': 0.01, 'svm_kernel': 'poly'}\n"
     ]
    },
    {
     "name": "stderr",
     "output_type": "stream",
     "text": [
      "\r",
      " 17%|█▋        | 111/648 [07:27<51:33,  5.76s/it]  "
     ]
    },
    {
     "name": "stdout",
     "output_type": "stream",
     "text": [
      "iter: 110, train_score: 0.4716112531969309, validation score: 0.0, configuration: {'medoid_normalization': 'standard', 'stop_words': 'english', 'svm_degree': 3, 'svm_gamma': 0.5, 'norm': 'l2', 'svm_c': 0.01, 'svm_kernel': 'poly'}\n"
     ]
    },
    {
     "name": "stderr",
     "output_type": "stream",
     "text": [
      "\r",
      " 17%|█▋        | 112/648 [07:30<44:07,  4.94s/it]"
     ]
    },
    {
     "name": "stdout",
     "output_type": "stream",
     "text": [
      "iter: 111, train_score: 0.6865934065934066, validation score: 0.0, configuration: {'medoid_normalization': 'standard', 'stop_words': 'english', 'svm_degree': 3, 'svm_gamma': 1.0, 'norm': 'l2', 'svm_c': 0.01, 'svm_kernel': 'poly'}\n"
     ]
    },
    {
     "name": "stderr",
     "output_type": "stream",
     "text": [
      "\r",
      " 17%|█▋        | 113/648 [07:33<38:31,  4.32s/it]"
     ]
    },
    {
     "name": "stdout",
     "output_type": "stream",
     "text": [
      "iter: 112, train_score: 0.35733919736118747, validation score: 0.0, configuration: {'medoid_normalization': 'standard', 'stop_words': 'english', 'svm_degree': 4, 'svm_gamma': 0.1, 'norm': 'l2', 'svm_c': 0.01, 'svm_kernel': 'poly'}\n"
     ]
    },
    {
     "name": "stderr",
     "output_type": "stream",
     "text": [
      "\r",
      " 18%|█▊        | 114/648 [07:36<35:32,  3.99s/it]"
     ]
    },
    {
     "name": "stdout",
     "output_type": "stream",
     "text": [
      "iter: 113, train_score: 0.42071881606765327, validation score: 0.0, configuration: {'medoid_normalization': 'standard', 'stop_words': 'english', 'svm_degree': 4, 'svm_gamma': 0.2, 'norm': 'l2', 'svm_c': 0.01, 'svm_kernel': 'poly'}\n"
     ]
    },
    {
     "name": "stderr",
     "output_type": "stream",
     "text": [
      "\r",
      " 18%|█▊        | 115/648 [07:40<34:25,  3.88s/it]"
     ]
    },
    {
     "name": "stdout",
     "output_type": "stream",
     "text": [
      "iter: 114, train_score: 0.5655304848775804, validation score: 0.0, configuration: {'medoid_normalization': 'standard', 'stop_words': 'english', 'svm_degree': 4, 'svm_gamma': 0.5, 'norm': 'l2', 'svm_c': 0.01, 'svm_kernel': 'poly'}\n"
     ]
    },
    {
     "name": "stderr",
     "output_type": "stream",
     "text": [
      "\r",
      " 18%|█▊        | 116/648 [07:44<33:45,  3.81s/it]"
     ]
    },
    {
     "name": "stdout",
     "output_type": "stream",
     "text": [
      "iter: 115, train_score: 0.7843775427176567, validation score: 0.012072434607645875, configuration: {'medoid_normalization': 'standard', 'stop_words': 'english', 'svm_degree': 4, 'svm_gamma': 1.0, 'norm': 'l2', 'svm_c': 0.01, 'svm_kernel': 'poly'}\n"
     ]
    },
    {
     "name": "stderr",
     "output_type": "stream",
     "text": [
      "\r",
      " 18%|█▊        | 117/648 [07:47<32:00,  3.62s/it]"
     ]
    },
    {
     "name": "stdout",
     "output_type": "stream",
     "text": [
      "iter: 116, train_score: 0.3900862068965517, validation score: 0.0, configuration: {'medoid_normalization': 'standard', 'stop_words': 'english', 'svm_degree': 5, 'svm_gamma': 0.1, 'norm': 'l2', 'svm_c': 0.01, 'svm_kernel': 'poly'}\n"
     ]
    },
    {
     "name": "stderr",
     "output_type": "stream",
     "text": [
      "\r",
      " 18%|█▊        | 118/648 [07:50<31:17,  3.54s/it]"
     ]
    },
    {
     "name": "stdout",
     "output_type": "stream",
     "text": [
      "iter: 117, train_score: 0.4029930518439337, validation score: 0.00425531914893617, configuration: {'medoid_normalization': 'standard', 'stop_words': 'english', 'svm_degree': 5, 'svm_gamma': 0.2, 'norm': 'l2', 'svm_c': 0.01, 'svm_kernel': 'poly'}\n"
     ]
    },
    {
     "name": "stderr",
     "output_type": "stream",
     "text": [
      "\r",
      " 18%|█▊        | 119/648 [07:54<32:06,  3.64s/it]"
     ]
    },
    {
     "name": "stdout",
     "output_type": "stream",
     "text": [
      "iter: 118, train_score: 0.7429533024821203, validation score: 0.003846153846153847, configuration: {'medoid_normalization': 'standard', 'stop_words': 'english', 'svm_degree': 5, 'svm_gamma': 0.5, 'norm': 'l2', 'svm_c': 0.01, 'svm_kernel': 'poly'}\n"
     ]
    },
    {
     "name": "stderr",
     "output_type": "stream",
     "text": [
      "\r",
      " 19%|█▊        | 120/648 [07:58<31:52,  3.62s/it]"
     ]
    },
    {
     "name": "stdout",
     "output_type": "stream",
     "text": [
      "iter: 119, train_score: 0.854733614411652, validation score: 0.0035906642728904853, configuration: {'medoid_normalization': 'standard', 'stop_words': 'english', 'svm_degree': 5, 'svm_gamma': 1.0, 'norm': 'l2', 'svm_c': 0.01, 'svm_kernel': 'poly'}\n"
     ]
    },
    {
     "name": "stderr",
     "output_type": "stream",
     "text": [
      "\r",
      " 19%|█▊        | 121/648 [08:01<30:08,  3.43s/it]"
     ]
    },
    {
     "name": "stdout",
     "output_type": "stream",
     "text": [
      "iter: 120, train_score: 0.3509933774834437, validation score: 0.0, configuration: {'medoid_normalization': 'standard', 'stop_words': 'english', 'svm_degree': 3, 'svm_gamma': 0.1, 'norm': 'l2', 'svm_c': 0.1, 'svm_kernel': 'poly'}\n"
     ]
    },
    {
     "name": "stderr",
     "output_type": "stream",
     "text": [
      "\r",
      " 19%|█▉        | 122/648 [08:04<28:56,  3.30s/it]"
     ]
    },
    {
     "name": "stdout",
     "output_type": "stream",
     "text": [
      "iter: 121, train_score: 0.4534161490683229, validation score: 0.0, configuration: {'medoid_normalization': 'standard', 'stop_words': 'english', 'svm_degree': 3, 'svm_gamma': 0.2, 'norm': 'l2', 'svm_c': 0.1, 'svm_kernel': 'poly'}\n"
     ]
    },
    {
     "name": "stderr",
     "output_type": "stream",
     "text": [
      "\r",
      " 19%|█▉        | 123/648 [08:07<28:10,  3.22s/it]"
     ]
    },
    {
     "name": "stdout",
     "output_type": "stream",
     "text": [
      "iter: 122, train_score: 0.7445378151260504, validation score: 0.0, configuration: {'medoid_normalization': 'standard', 'stop_words': 'english', 'svm_degree': 3, 'svm_gamma': 0.5, 'norm': 'l2', 'svm_c': 0.1, 'svm_kernel': 'poly'}\n"
     ]
    },
    {
     "name": "stderr",
     "output_type": "stream",
     "text": [
      "\r",
      " 19%|█▉        | 124/648 [08:09<27:14,  3.12s/it]"
     ]
    },
    {
     "name": "stdout",
     "output_type": "stream",
     "text": [
      "iter: 123, train_score: 0.9400496630010643, validation score: 0.02003338898163606, configuration: {'medoid_normalization': 'standard', 'stop_words': 'english', 'svm_degree': 3, 'svm_gamma': 1.0, 'norm': 'l2', 'svm_c': 0.1, 'svm_kernel': 'poly'}\n"
     ]
    },
    {
     "name": "stderr",
     "output_type": "stream",
     "text": [
      "\r",
      " 19%|█▉        | 125/648 [08:13<28:08,  3.23s/it]"
     ]
    },
    {
     "name": "stdout",
     "output_type": "stream",
     "text": [
      "iter: 124, train_score: 0.3591433278418451, validation score: 0.0, configuration: {'medoid_normalization': 'standard', 'stop_words': 'english', 'svm_degree': 4, 'svm_gamma': 0.1, 'norm': 'l2', 'svm_c': 0.1, 'svm_kernel': 'poly'}\n"
     ]
    },
    {
     "name": "stderr",
     "output_type": "stream",
     "text": [
      "\r",
      " 19%|█▉        | 126/648 [08:17<28:54,  3.32s/it]"
     ]
    },
    {
     "name": "stdout",
     "output_type": "stream",
     "text": [
      "iter: 125, train_score: 0.5309734513274336, validation score: 0.004081632653061225, configuration: {'medoid_normalization': 'standard', 'stop_words': 'english', 'svm_degree': 4, 'svm_gamma': 0.2, 'norm': 'l2', 'svm_c': 0.1, 'svm_kernel': 'poly'}\n"
     ]
    },
    {
     "name": "stderr",
     "output_type": "stream",
     "text": [
      "\r",
      " 20%|█▉        | 127/648 [08:20<29:28,  3.39s/it]"
     ]
    },
    {
     "name": "stdout",
     "output_type": "stream",
     "text": [
      "iter: 126, train_score: 0.7703703703703704, validation score: 0.010714285714285714, configuration: {'medoid_normalization': 'standard', 'stop_words': 'english', 'svm_degree': 4, 'svm_gamma': 0.5, 'norm': 'l2', 'svm_c': 0.1, 'svm_kernel': 'poly'}\n"
     ]
    },
    {
     "name": "stderr",
     "output_type": "stream",
     "text": [
      "\r",
      " 20%|█▉        | 128/648 [08:23<29:12,  3.37s/it]"
     ]
    },
    {
     "name": "stdout",
     "output_type": "stream",
     "text": [
      "iter: 127, train_score: 0.9456598447424136, validation score: 0.006462035541195477, configuration: {'medoid_normalization': 'standard', 'stop_words': 'english', 'svm_degree': 4, 'svm_gamma': 1.0, 'norm': 'l2', 'svm_c': 0.1, 'svm_kernel': 'poly'}\n"
     ]
    },
    {
     "name": "stderr",
     "output_type": "stream",
     "text": [
      "\r",
      " 20%|█▉        | 129/648 [08:27<29:47,  3.44s/it]"
     ]
    },
    {
     "name": "stdout",
     "output_type": "stream",
     "text": [
      "iter: 128, train_score: 0.37431991294885747, validation score: 0.0, configuration: {'medoid_normalization': 'standard', 'stop_words': 'english', 'svm_degree': 5, 'svm_gamma': 0.1, 'norm': 'l2', 'svm_c': 0.1, 'svm_kernel': 'poly'}\n"
     ]
    },
    {
     "name": "stderr",
     "output_type": "stream",
     "text": [
      "\r",
      " 20%|██        | 130/648 [08:30<29:43,  3.44s/it]"
     ]
    },
    {
     "name": "stdout",
     "output_type": "stream",
     "text": [
      "iter: 129, train_score: 0.5723841376015288, validation score: 0.004016064257028113, configuration: {'medoid_normalization': 'standard', 'stop_words': 'english', 'svm_degree': 5, 'svm_gamma': 0.2, 'norm': 'l2', 'svm_c': 0.1, 'svm_kernel': 'poly'}\n"
     ]
    },
    {
     "name": "stderr",
     "output_type": "stream",
     "text": [
      "\r",
      " 20%|██        | 131/648 [08:34<30:45,  3.57s/it]"
     ]
    },
    {
     "name": "stdout",
     "output_type": "stream",
     "text": [
      "iter: 130, train_score: 0.7971014492753623, validation score: 0.017391304347826087, configuration: {'medoid_normalization': 'standard', 'stop_words': 'english', 'svm_degree': 5, 'svm_gamma': 0.5, 'norm': 'l2', 'svm_c': 0.1, 'svm_kernel': 'poly'}\n"
     ]
    },
    {
     "name": "stderr",
     "output_type": "stream",
     "text": [
      "\r",
      " 20%|██        | 132/648 [08:38<30:44,  3.57s/it]"
     ]
    },
    {
     "name": "stdout",
     "output_type": "stream",
     "text": [
      "iter: 131, train_score: 0.9770626497774735, validation score: 0.02023121387283237, configuration: {'medoid_normalization': 'standard', 'stop_words': 'english', 'svm_degree': 5, 'svm_gamma': 1.0, 'norm': 'l2', 'svm_c': 0.1, 'svm_kernel': 'poly'}\n"
     ]
    },
    {
     "name": "stderr",
     "output_type": "stream",
     "text": [
      "\r",
      " 21%|██        | 133/648 [08:41<28:59,  3.38s/it]"
     ]
    },
    {
     "name": "stdout",
     "output_type": "stream",
     "text": [
      "iter: 132, train_score: 0.46611909650924027, validation score: 0.0, configuration: {'medoid_normalization': 'standard', 'stop_words': 'english', 'svm_degree': 3, 'svm_gamma': 0.1, 'norm': 'l2', 'svm_c': 1, 'svm_kernel': 'poly'}\n"
     ]
    },
    {
     "name": "stderr",
     "output_type": "stream",
     "text": [
      "\r",
      " 21%|██        | 134/648 [08:44<27:25,  3.20s/it]"
     ]
    },
    {
     "name": "stdout",
     "output_type": "stream",
     "text": [
      "iter: 133, train_score: 0.6600896860986548, validation score: 0.0, configuration: {'medoid_normalization': 'standard', 'stop_words': 'english', 'svm_degree': 3, 'svm_gamma': 0.2, 'norm': 'l2', 'svm_c': 1, 'svm_kernel': 'poly'}\n"
     ]
    },
    {
     "name": "stderr",
     "output_type": "stream",
     "text": [
      "\r",
      " 21%|██        | 135/648 [08:46<26:32,  3.10s/it]"
     ]
    },
    {
     "name": "stdout",
     "output_type": "stream",
     "text": [
      "iter: 134, train_score: 0.922077922077922, validation score: 0.01724137931034483, configuration: {'medoid_normalization': 'standard', 'stop_words': 'english', 'svm_degree': 3, 'svm_gamma': 0.5, 'norm': 'l2', 'svm_c': 1, 'svm_kernel': 'poly'}\n"
     ]
    },
    {
     "name": "stderr",
     "output_type": "stream",
     "text": [
      "\r",
      " 21%|██        | 136/648 [08:50<26:21,  3.09s/it]"
     ]
    },
    {
     "name": "stdout",
     "output_type": "stream",
     "text": [
      "iter: 135, train_score: 0.9777625726992816, validation score: 0.034120734908136476, configuration: {'medoid_normalization': 'standard', 'stop_words': 'english', 'svm_degree': 3, 'svm_gamma': 1.0, 'norm': 'l2', 'svm_c': 1, 'svm_kernel': 'poly'}\n"
     ]
    },
    {
     "name": "stderr",
     "output_type": "stream",
     "text": [
      "\r",
      " 21%|██        | 137/648 [08:53<26:43,  3.14s/it]"
     ]
    },
    {
     "name": "stdout",
     "output_type": "stream",
     "text": [
      "iter: 136, train_score: 0.5273533760473139, validation score: 0.0, configuration: {'medoid_normalization': 'standard', 'stop_words': 'english', 'svm_degree': 4, 'svm_gamma': 0.1, 'norm': 'l2', 'svm_c': 1, 'svm_kernel': 'poly'}\n"
     ]
    },
    {
     "name": "stderr",
     "output_type": "stream",
     "text": [
      "\r",
      " 21%|██▏       | 138/648 [08:56<27:26,  3.23s/it]"
     ]
    },
    {
     "name": "stdout",
     "output_type": "stream",
     "text": [
      "iter: 137, train_score: 0.7003044802087864, validation score: 0.011152416356877323, configuration: {'medoid_normalization': 'standard', 'stop_words': 'english', 'svm_degree': 4, 'svm_gamma': 0.2, 'norm': 'l2', 'svm_c': 1, 'svm_kernel': 'poly'}\n"
     ]
    },
    {
     "name": "stderr",
     "output_type": "stream",
     "text": [
      "\r",
      " 21%|██▏       | 139/648 [09:00<28:15,  3.33s/it]"
     ]
    },
    {
     "name": "stdout",
     "output_type": "stream",
     "text": [
      "iter: 138, train_score: 0.9362762548949805, validation score: 0.019525801952580198, configuration: {'medoid_normalization': 'standard', 'stop_words': 'english', 'svm_degree': 4, 'svm_gamma': 0.5, 'norm': 'l2', 'svm_c': 1, 'svm_kernel': 'poly'}\n"
     ]
    },
    {
     "name": "stderr",
     "output_type": "stream",
     "text": [
      "\r",
      " 22%|██▏       | 140/648 [09:03<28:20,  3.35s/it]"
     ]
    },
    {
     "name": "stdout",
     "output_type": "stream",
     "text": [
      "iter: 139, train_score: 0.989516401758539, validation score: 0.016304347826086956, configuration: {'medoid_normalization': 'standard', 'stop_words': 'english', 'svm_degree': 4, 'svm_gamma': 1.0, 'norm': 'l2', 'svm_c': 1, 'svm_kernel': 'poly'}\n"
     ]
    },
    {
     "name": "stderr",
     "output_type": "stream",
     "text": [
      "\r",
      " 22%|██▏       | 141/648 [09:06<28:09,  3.33s/it]"
     ]
    },
    {
     "name": "stdout",
     "output_type": "stream",
     "text": [
      "iter: 140, train_score: 0.5074925074925075, validation score: 0.0042105263157894745, configuration: {'medoid_normalization': 'standard', 'stop_words': 'english', 'svm_degree': 5, 'svm_gamma': 0.1, 'norm': 'l2', 'svm_c': 1, 'svm_kernel': 'poly'}\n"
     ]
    },
    {
     "name": "stderr",
     "output_type": "stream",
     "text": [
      "\r",
      " 22%|██▏       | 142/648 [09:10<29:03,  3.45s/it]"
     ]
    },
    {
     "name": "stdout",
     "output_type": "stream",
     "text": [
      "iter: 141, train_score: 0.6293577981651376, validation score: 0.0, configuration: {'medoid_normalization': 'standard', 'stop_words': 'english', 'svm_degree': 5, 'svm_gamma': 0.2, 'norm': 'l2', 'svm_c': 1, 'svm_kernel': 'poly'}\n"
     ]
    },
    {
     "name": "stderr",
     "output_type": "stream",
     "text": [
      "\r",
      " 22%|██▏       | 143/648 [09:14<29:17,  3.48s/it]"
     ]
    },
    {
     "name": "stdout",
     "output_type": "stream",
     "text": [
      "iter: 142, train_score: 0.9700103412616339, validation score: 0.01772525849335303, configuration: {'medoid_normalization': 'standard', 'stop_words': 'english', 'svm_degree': 5, 'svm_gamma': 0.5, 'norm': 'l2', 'svm_c': 1, 'svm_kernel': 'poly'}\n"
     ]
    },
    {
     "name": "stderr",
     "output_type": "stream",
     "text": [
      "\r",
      " 22%|██▏       | 144/648 [09:18<29:55,  3.56s/it]"
     ]
    },
    {
     "name": "stdout",
     "output_type": "stream",
     "text": [
      "iter: 143, train_score: 0.9878048780487805, validation score: 0.008849557522123894, configuration: {'medoid_normalization': 'standard', 'stop_words': 'english', 'svm_degree': 5, 'svm_gamma': 1.0, 'norm': 'l2', 'svm_c': 1, 'svm_kernel': 'poly'}\n",
      "Fitting distance matrix for norm=None and stop_words=None\n"
     ]
    },
    {
     "name": "stderr",
     "output_type": "stream",
     "text": [
      "\r",
      " 22%|██▏       | 145/648 [09:36<1:08:03,  8.12s/it]"
     ]
    },
    {
     "name": "stdout",
     "output_type": "stream",
     "text": [
      "iter: 144, train_score: 0.23508564678086238, validation score: 0.012422360248447204, configuration: {'medoid_normalization': 'standard', 'stop_words': None, 'svm_degree': 3, 'svm_gamma': 0.1, 'norm': None, 'svm_c': 0.01, 'svm_kernel': 'poly'}\n"
     ]
    },
    {
     "name": "stderr",
     "output_type": "stream",
     "text": [
      "\r",
      " 23%|██▎       | 146/648 [09:39<54:02,  6.46s/it]  "
     ]
    },
    {
     "name": "stdout",
     "output_type": "stream",
     "text": [
      "iter: 145, train_score: 0.44456012493492975, validation score: 0.004048582995951418, configuration: {'medoid_normalization': 'standard', 'stop_words': None, 'svm_degree': 3, 'svm_gamma': 0.2, 'norm': None, 'svm_c': 0.01, 'svm_kernel': 'poly'}\n"
     ]
    },
    {
     "name": "stderr",
     "output_type": "stream",
     "text": [
      "\r",
      " 23%|██▎       | 147/648 [09:42<44:33,  5.34s/it]"
     ]
    },
    {
     "name": "stdout",
     "output_type": "stream",
     "text": [
      "iter: 146, train_score: 0.6963350785340314, validation score: 0.03355704697986577, configuration: {'medoid_normalization': 'standard', 'stop_words': None, 'svm_degree': 3, 'svm_gamma': 0.5, 'norm': None, 'svm_c': 0.01, 'svm_kernel': 'poly'}\n"
     ]
    },
    {
     "name": "stderr",
     "output_type": "stream",
     "text": [
      "\r",
      " 23%|██▎       | 148/648 [09:45<38:32,  4.63s/it]"
     ]
    },
    {
     "name": "stdout",
     "output_type": "stream",
     "text": [
      "iter: 147, train_score: 0.946031746031746, validation score: 0.04133180252583237, configuration: {'medoid_normalization': 'standard', 'stop_words': None, 'svm_degree': 3, 'svm_gamma': 1.0, 'norm': None, 'svm_c': 0.01, 'svm_kernel': 'poly'}\n"
     ]
    },
    {
     "name": "stderr",
     "output_type": "stream",
     "text": [
      "\r",
      " 23%|██▎       | 149/648 [09:47<32:36,  3.92s/it]"
     ]
    },
    {
     "name": "stdout",
     "output_type": "stream",
     "text": [
      "iter: 148, train_score: 0.3269876819708846, validation score: 0.003846153846153847, configuration: {'medoid_normalization': 'standard', 'stop_words': None, 'svm_degree': 4, 'svm_gamma': 0.1, 'norm': None, 'svm_c': 0.01, 'svm_kernel': 'poly'}\n"
     ]
    },
    {
     "name": "stderr",
     "output_type": "stream",
     "text": [
      "\r",
      " 23%|██▎       | 150/648 [09:49<28:35,  3.45s/it]"
     ]
    },
    {
     "name": "stdout",
     "output_type": "stream",
     "text": [
      "iter: 149, train_score: 0.6356164383561644, validation score: 0.02345058626465662, configuration: {'medoid_normalization': 'standard', 'stop_words': None, 'svm_degree': 4, 'svm_gamma': 0.2, 'norm': None, 'svm_c': 0.01, 'svm_kernel': 'poly'}\n"
     ]
    },
    {
     "name": "stderr",
     "output_type": "stream",
     "text": [
      "\r",
      " 23%|██▎       | 151/648 [09:52<26:26,  3.19s/it]"
     ]
    },
    {
     "name": "stdout",
     "output_type": "stream",
     "text": [
      "iter: 150, train_score: 0.9297994269340973, validation score: 0.027428571428571427, configuration: {'medoid_normalization': 'standard', 'stop_words': None, 'svm_degree': 4, 'svm_gamma': 0.5, 'norm': None, 'svm_c': 0.01, 'svm_kernel': 'poly'}\n"
     ]
    },
    {
     "name": "stderr",
     "output_type": "stream",
     "text": [
      "\r",
      " 23%|██▎       | 152/648 [09:54<25:07,  3.04s/it]"
     ]
    },
    {
     "name": "stdout",
     "output_type": "stream",
     "text": [
      "iter: 151, train_score: 0.9986595174262735, validation score: 0.03756906077348067, configuration: {'medoid_normalization': 'standard', 'stop_words': None, 'svm_degree': 4, 'svm_gamma': 1.0, 'norm': None, 'svm_c': 0.01, 'svm_kernel': 'poly'}\n"
     ]
    },
    {
     "name": "stderr",
     "output_type": "stream",
     "text": [
      "\r",
      " 24%|██▎       | 153/648 [09:57<23:50,  2.89s/it]"
     ]
    },
    {
     "name": "stdout",
     "output_type": "stream",
     "text": [
      "iter: 152, train_score: 0.5374449339207048, validation score: 0.0361247947454844, configuration: {'medoid_normalization': 'standard', 'stop_words': None, 'svm_degree': 5, 'svm_gamma': 0.1, 'norm': None, 'svm_c': 0.01, 'svm_kernel': 'poly'}\n"
     ]
    },
    {
     "name": "stderr",
     "output_type": "stream",
     "text": [
      "\r",
      " 24%|██▍       | 154/648 [10:00<23:57,  2.91s/it]"
     ]
    },
    {
     "name": "stdout",
     "output_type": "stream",
     "text": [
      "iter: 153, train_score: 0.7718865598027127, validation score: 0.03409090909090909, configuration: {'medoid_normalization': 'standard', 'stop_words': None, 'svm_degree': 5, 'svm_gamma': 0.2, 'norm': None, 'svm_c': 0.01, 'svm_kernel': 'poly'}\n"
     ]
    },
    {
     "name": "stderr",
     "output_type": "stream",
     "text": [
      "\r",
      " 24%|██▍       | 155/648 [10:03<24:46,  3.01s/it]"
     ]
    },
    {
     "name": "stdout",
     "output_type": "stream",
     "text": [
      "iter: 154, train_score: 0.9901993916863805, validation score: 0.04049168474331164, configuration: {'medoid_normalization': 'standard', 'stop_words': None, 'svm_degree': 5, 'svm_gamma': 0.5, 'norm': None, 'svm_c': 0.01, 'svm_kernel': 'poly'}\n"
     ]
    },
    {
     "name": "stderr",
     "output_type": "stream",
     "text": [
      "\r",
      " 24%|██▍       | 156/648 [10:07<25:53,  3.16s/it]"
     ]
    },
    {
     "name": "stdout",
     "output_type": "stream",
     "text": [
      "iter: 155, train_score: 0.998661311914324, validation score: 0.0440251572327044, configuration: {'medoid_normalization': 'standard', 'stop_words': None, 'svm_degree': 5, 'svm_gamma': 1.0, 'norm': None, 'svm_c': 0.01, 'svm_kernel': 'poly'}\n"
     ]
    },
    {
     "name": "stderr",
     "output_type": "stream",
     "text": [
      "\r",
      " 24%|██▍       | 157/648 [10:09<24:19,  2.97s/it]"
     ]
    },
    {
     "name": "stdout",
     "output_type": "stream",
     "text": [
      "iter: 156, train_score: 0.4840182648401826, validation score: 0.007858546168958744, configuration: {'medoid_normalization': 'standard', 'stop_words': None, 'svm_degree': 3, 'svm_gamma': 0.1, 'norm': None, 'svm_c': 0.1, 'svm_kernel': 'poly'}\n"
     ]
    },
    {
     "name": "stderr",
     "output_type": "stream",
     "text": [
      "\r",
      " 24%|██▍       | 158/648 [10:12<24:12,  2.96s/it]"
     ]
    },
    {
     "name": "stdout",
     "output_type": "stream",
     "text": [
      "iter: 157, train_score: 0.6424352567014993, validation score: 0.02146690518783542, configuration: {'medoid_normalization': 'standard', 'stop_words': None, 'svm_degree': 3, 'svm_gamma': 0.2, 'norm': None, 'svm_c': 0.1, 'svm_kernel': 'poly'}\n"
     ]
    },
    {
     "name": "stderr",
     "output_type": "stream",
     "text": [
      "\r",
      " 25%|██▍       | 159/648 [10:15<24:17,  2.98s/it]"
     ]
    },
    {
     "name": "stdout",
     "output_type": "stream",
     "text": [
      "iter: 158, train_score: 0.9599721545422903, validation score: 0.04352557127312296, configuration: {'medoid_normalization': 'standard', 'stop_words': None, 'svm_degree': 3, 'svm_gamma': 0.5, 'norm': None, 'svm_c': 0.1, 'svm_kernel': 'poly'}\n"
     ]
    },
    {
     "name": "stderr",
     "output_type": "stream",
     "text": [
      "\r",
      " 25%|██▍       | 160/648 [10:18<24:44,  3.04s/it]"
     ]
    },
    {
     "name": "stdout",
     "output_type": "stream",
     "text": [
      "iter: 159, train_score: 1.0, validation score: 0.048042704626334524, configuration: {'medoid_normalization': 'standard', 'stop_words': None, 'svm_degree': 3, 'svm_gamma': 1.0, 'norm': None, 'svm_c': 0.1, 'svm_kernel': 'poly'}\n"
     ]
    },
    {
     "name": "stderr",
     "output_type": "stream",
     "text": [
      "\r",
      " 25%|██▍       | 161/648 [10:21<23:30,  2.90s/it]"
     ]
    },
    {
     "name": "stdout",
     "output_type": "stream",
     "text": [
      "iter: 160, train_score: 0.541015625, validation score: 0.026565464895635677, configuration: {'medoid_normalization': 'standard', 'stop_words': None, 'svm_degree': 4, 'svm_gamma': 0.1, 'norm': None, 'svm_c': 0.1, 'svm_kernel': 'poly'}\n"
     ]
    },
    {
     "name": "stderr",
     "output_type": "stream",
     "text": [
      "\r",
      " 25%|██▌       | 162/648 [10:24<22:52,  2.82s/it]"
     ]
    },
    {
     "name": "stdout",
     "output_type": "stream",
     "text": [
      "iter: 161, train_score: 0.8033640368442131, validation score: 0.03561643835616438, configuration: {'medoid_normalization': 'standard', 'stop_words': None, 'svm_degree': 4, 'svm_gamma': 0.2, 'norm': None, 'svm_c': 0.1, 'svm_kernel': 'poly'}\n"
     ]
    },
    {
     "name": "stderr",
     "output_type": "stream",
     "text": [
      "\r",
      " 25%|██▌       | 163/648 [10:26<22:31,  2.79s/it]"
     ]
    },
    {
     "name": "stdout",
     "output_type": "stream",
     "text": [
      "iter: 162, train_score: 0.9976517946997653, validation score: 0.03773584905660377, configuration: {'medoid_normalization': 'standard', 'stop_words': None, 'svm_degree': 4, 'svm_gamma': 0.5, 'norm': None, 'svm_c': 0.1, 'svm_kernel': 'poly'}\n"
     ]
    },
    {
     "name": "stderr",
     "output_type": "stream",
     "text": [
      "\r",
      " 25%|██▌       | 164/648 [10:29<22:19,  2.77s/it]"
     ]
    },
    {
     "name": "stdout",
     "output_type": "stream",
     "text": [
      "iter: 163, train_score: 1.0, validation score: 0.03478260869565218, configuration: {'medoid_normalization': 'standard', 'stop_words': None, 'svm_degree': 4, 'svm_gamma': 1.0, 'norm': None, 'svm_c': 0.1, 'svm_kernel': 'poly'}\n"
     ]
    },
    {
     "name": "stderr",
     "output_type": "stream",
     "text": [
      "\r",
      " 25%|██▌       | 165/648 [10:32<22:55,  2.85s/it]"
     ]
    },
    {
     "name": "stdout",
     "output_type": "stream",
     "text": [
      "iter: 164, train_score: 0.7076124567474048, validation score: 0.024271844660194178, configuration: {'medoid_normalization': 'standard', 'stop_words': None, 'svm_degree': 5, 'svm_gamma': 0.1, 'norm': None, 'svm_c': 0.1, 'svm_kernel': 'poly'}\n"
     ]
    },
    {
     "name": "stderr",
     "output_type": "stream",
     "text": [
      "\r",
      " 26%|██▌       | 166/648 [10:35<24:03,  2.99s/it]"
     ]
    },
    {
     "name": "stdout",
     "output_type": "stream",
     "text": [
      "iter: 165, train_score: 0.8634461772537085, validation score: 0.030035335689045938, configuration: {'medoid_normalization': 'standard', 'stop_words': None, 'svm_degree': 5, 'svm_gamma': 0.2, 'norm': None, 'svm_c': 0.1, 'svm_kernel': 'poly'}\n"
     ]
    },
    {
     "name": "stderr",
     "output_type": "stream",
     "text": [
      "\r",
      " 26%|██▌       | 167/648 [10:39<24:46,  3.09s/it]"
     ]
    },
    {
     "name": "stdout",
     "output_type": "stream",
     "text": [
      "iter: 166, train_score: 0.9989963198394112, validation score: 0.03132832080200502, configuration: {'medoid_normalization': 'standard', 'stop_words': None, 'svm_degree': 5, 'svm_gamma': 0.5, 'norm': None, 'svm_c': 0.1, 'svm_kernel': 'poly'}\n"
     ]
    },
    {
     "name": "stderr",
     "output_type": "stream",
     "text": [
      "\r",
      " 26%|██▌       | 168/648 [10:42<25:35,  3.20s/it]"
     ]
    },
    {
     "name": "stdout",
     "output_type": "stream",
     "text": [
      "iter: 167, train_score: 0.998329435349148, validation score: 0.03904282115869018, configuration: {'medoid_normalization': 'standard', 'stop_words': None, 'svm_degree': 5, 'svm_gamma': 1.0, 'norm': None, 'svm_c': 0.1, 'svm_kernel': 'poly'}\n"
     ]
    },
    {
     "name": "stderr",
     "output_type": "stream",
     "text": [
      "\r",
      " 26%|██▌       | 169/648 [10:45<24:48,  3.11s/it]"
     ]
    },
    {
     "name": "stdout",
     "output_type": "stream",
     "text": [
      "iter: 168, train_score: 0.6510158013544018, validation score: 0.013008130081300815, configuration: {'medoid_normalization': 'standard', 'stop_words': None, 'svm_degree': 3, 'svm_gamma': 0.1, 'norm': None, 'svm_c': 1, 'svm_kernel': 'poly'}\n"
     ]
    },
    {
     "name": "stderr",
     "output_type": "stream",
     "text": [
      "\r",
      " 26%|██▌       | 170/648 [10:48<24:23,  3.06s/it]"
     ]
    },
    {
     "name": "stdout",
     "output_type": "stream",
     "text": [
      "iter: 169, train_score: 0.9588850174216028, validation score: 0.021301775147928994, configuration: {'medoid_normalization': 'standard', 'stop_words': None, 'svm_degree': 3, 'svm_gamma': 0.2, 'norm': None, 'svm_c': 1, 'svm_kernel': 'poly'}\n"
     ]
    },
    {
     "name": "stderr",
     "output_type": "stream",
     "text": [
      "\r",
      " 26%|██▋       | 171/648 [10:51<24:14,  3.05s/it]"
     ]
    },
    {
     "name": "stdout",
     "output_type": "stream",
     "text": [
      "iter: 170, train_score: 1.0, validation score: 0.04323308270676692, configuration: {'medoid_normalization': 'standard', 'stop_words': None, 'svm_degree': 3, 'svm_gamma': 0.5, 'norm': None, 'svm_c': 1, 'svm_kernel': 'poly'}\n"
     ]
    },
    {
     "name": "stderr",
     "output_type": "stream",
     "text": [
      "\r",
      " 27%|██▋       | 172/648 [10:54<24:32,  3.09s/it]"
     ]
    },
    {
     "name": "stdout",
     "output_type": "stream",
     "text": [
      "iter: 171, train_score: 1.0, validation score: 0.03881700554528651, configuration: {'medoid_normalization': 'standard', 'stop_words': None, 'svm_degree': 3, 'svm_gamma': 1.0, 'norm': None, 'svm_c': 1, 'svm_kernel': 'poly'}\n"
     ]
    },
    {
     "name": "stderr",
     "output_type": "stream",
     "text": [
      "\r",
      " 27%|██▋       | 173/648 [10:57<23:20,  2.95s/it]"
     ]
    },
    {
     "name": "stdout",
     "output_type": "stream",
     "text": [
      "iter: 172, train_score: 0.7946752722872126, validation score: 0.018018018018018018, configuration: {'medoid_normalization': 'standard', 'stop_words': None, 'svm_degree': 4, 'svm_gamma': 0.1, 'norm': None, 'svm_c': 1, 'svm_kernel': 'poly'}\n"
     ]
    },
    {
     "name": "stderr",
     "output_type": "stream",
     "text": [
      "\r",
      " 27%|██▋       | 174/648 [10:59<22:35,  2.86s/it]"
     ]
    },
    {
     "name": "stdout",
     "output_type": "stream",
     "text": [
      "iter: 173, train_score: 0.9710743801652892, validation score: 0.03881511746680286, configuration: {'medoid_normalization': 'standard', 'stop_words': None, 'svm_degree': 4, 'svm_gamma': 0.2, 'norm': None, 'svm_c': 1, 'svm_kernel': 'poly'}\n"
     ]
    },
    {
     "name": "stderr",
     "output_type": "stream",
     "text": [
      "\r",
      " 27%|██▋       | 175/648 [11:02<21:58,  2.79s/it]"
     ]
    },
    {
     "name": "stdout",
     "output_type": "stream",
     "text": [
      "iter: 174, train_score: 1.0, validation score: 0.03574975173783515, configuration: {'medoid_normalization': 'standard', 'stop_words': None, 'svm_degree': 4, 'svm_gamma': 0.5, 'norm': None, 'svm_c': 1, 'svm_kernel': 'poly'}\n"
     ]
    },
    {
     "name": "stderr",
     "output_type": "stream",
     "text": [
      "\r",
      " 27%|██▋       | 176/648 [11:05<21:23,  2.72s/it]"
     ]
    },
    {
     "name": "stdout",
     "output_type": "stream",
     "text": [
      "iter: 175, train_score: 1.0, validation score: 0.030706243602865915, configuration: {'medoid_normalization': 'standard', 'stop_words': None, 'svm_degree': 4, 'svm_gamma': 1.0, 'norm': None, 'svm_c': 1, 'svm_kernel': 'poly'}\n"
     ]
    },
    {
     "name": "stderr",
     "output_type": "stream",
     "text": [
      "\r",
      " 27%|██▋       | 177/648 [11:08<22:28,  2.86s/it]"
     ]
    },
    {
     "name": "stdout",
     "output_type": "stream",
     "text": [
      "iter: 176, train_score: 0.8463320463320464, validation score: 0.03881511746680286, configuration: {'medoid_normalization': 'standard', 'stop_words': None, 'svm_degree': 5, 'svm_gamma': 0.1, 'norm': None, 'svm_c': 1, 'svm_kernel': 'poly'}\n"
     ]
    },
    {
     "name": "stderr",
     "output_type": "stream",
     "text": [
      "\r",
      " 27%|██▋       | 178/648 [11:11<24:00,  3.06s/it]"
     ]
    },
    {
     "name": "stdout",
     "output_type": "stream",
     "text": [
      "iter: 177, train_score: 0.96105702364395, validation score: 0.023357664233576644, configuration: {'medoid_normalization': 'standard', 'stop_words': None, 'svm_degree': 5, 'svm_gamma': 0.2, 'norm': None, 'svm_c': 1, 'svm_kernel': 'poly'}\n"
     ]
    },
    {
     "name": "stderr",
     "output_type": "stream",
     "text": [
      "\r",
      " 28%|██▊       | 179/648 [11:15<25:13,  3.23s/it]"
     ]
    },
    {
     "name": "stdout",
     "output_type": "stream",
     "text": [
      "iter: 178, train_score: 0.9996652159357214, validation score: 0.03357314148681055, configuration: {'medoid_normalization': 'standard', 'stop_words': None, 'svm_degree': 5, 'svm_gamma': 0.5, 'norm': None, 'svm_c': 1, 'svm_kernel': 'poly'}\n"
     ]
    },
    {
     "name": "stderr",
     "output_type": "stream",
     "text": [
      "\r",
      " 28%|██▊       | 180/648 [11:18<25:19,  3.25s/it]"
     ]
    },
    {
     "name": "stdout",
     "output_type": "stream",
     "text": [
      "iter: 179, train_score: 0.999330207635633, validation score: 0.04657534246575343, configuration: {'medoid_normalization': 'standard', 'stop_words': None, 'svm_degree': 5, 'svm_gamma': 1.0, 'norm': None, 'svm_c': 1, 'svm_kernel': 'poly'}\n",
      "Fitting distance matrix for norm=None and stop_words=english\n"
     ]
    },
    {
     "name": "stderr",
     "output_type": "stream",
     "text": [
      "\r",
      " 28%|██▊       | 181/648 [11:37<1:01:34,  7.91s/it]"
     ]
    },
    {
     "name": "stdout",
     "output_type": "stream",
     "text": [
      "iter: 180, train_score: 0.2193087008343266, validation score: 0.008421052631578949, configuration: {'medoid_normalization': 'standard', 'stop_words': 'english', 'svm_degree': 3, 'svm_gamma': 0.1, 'norm': None, 'svm_c': 0.01, 'svm_kernel': 'poly'}\n"
     ]
    },
    {
     "name": "stderr",
     "output_type": "stream",
     "text": [
      "\r",
      " 28%|██▊       | 182/648 [11:40<49:52,  6.42s/it]  "
     ]
    },
    {
     "name": "stdout",
     "output_type": "stream",
     "text": [
      "iter: 181, train_score: 0.303236797274276, validation score: 0.0158102766798419, configuration: {'medoid_normalization': 'standard', 'stop_words': 'english', 'svm_degree': 3, 'svm_gamma': 0.2, 'norm': None, 'svm_c': 0.01, 'svm_kernel': 'poly'}\n"
     ]
    },
    {
     "name": "stderr",
     "output_type": "stream",
     "text": [
      "\r",
      " 28%|██▊       | 183/648 [11:43<41:02,  5.30s/it]"
     ]
    },
    {
     "name": "stdout",
     "output_type": "stream",
     "text": [
      "iter: 182, train_score: 0.5481049562682215, validation score: 0.017094017094017092, configuration: {'medoid_normalization': 'standard', 'stop_words': 'english', 'svm_degree': 3, 'svm_gamma': 0.5, 'norm': None, 'svm_c': 0.01, 'svm_kernel': 'poly'}\n"
     ]
    },
    {
     "name": "stderr",
     "output_type": "stream",
     "text": [
      "\r",
      " 28%|██▊       | 184/648 [11:46<35:51,  4.64s/it]"
     ]
    },
    {
     "name": "stdout",
     "output_type": "stream",
     "text": [
      "iter: 183, train_score: 0.7956469165659008, validation score: 0.025157232704402514, configuration: {'medoid_normalization': 'standard', 'stop_words': 'english', 'svm_degree': 3, 'svm_gamma': 1.0, 'norm': None, 'svm_c': 0.01, 'svm_kernel': 'poly'}\n"
     ]
    },
    {
     "name": "stderr",
     "output_type": "stream",
     "text": [
      "\r",
      " 29%|██▊       | 185/648 [11:48<30:55,  4.01s/it]"
     ]
    },
    {
     "name": "stdout",
     "output_type": "stream",
     "text": [
      "iter: 184, train_score: 0.30708215297450425, validation score: 0.0, configuration: {'medoid_normalization': 'standard', 'stop_words': 'english', 'svm_degree': 4, 'svm_gamma': 0.1, 'norm': None, 'svm_c': 0.01, 'svm_kernel': 'poly'}\n"
     ]
    },
    {
     "name": "stderr",
     "output_type": "stream",
     "text": [
      "\r",
      " 29%|██▊       | 186/648 [11:51<27:44,  3.60s/it]"
     ]
    },
    {
     "name": "stdout",
     "output_type": "stream",
     "text": [
      "iter: 185, train_score: 0.4962254655259184, validation score: 0.006956521739130434, configuration: {'medoid_normalization': 'standard', 'stop_words': 'english', 'svm_degree': 4, 'svm_gamma': 0.2, 'norm': None, 'svm_c': 0.01, 'svm_kernel': 'poly'}\n"
     ]
    },
    {
     "name": "stderr",
     "output_type": "stream",
     "text": [
      "\r",
      " 29%|██▉       | 187/648 [11:54<25:25,  3.31s/it]"
     ]
    },
    {
     "name": "stdout",
     "output_type": "stream",
     "text": [
      "iter: 186, train_score: 0.8156956004756242, validation score: 0.020954598370197905, configuration: {'medoid_normalization': 'standard', 'stop_words': 'english', 'svm_degree': 4, 'svm_gamma': 0.5, 'norm': None, 'svm_c': 0.01, 'svm_kernel': 'poly'}\n"
     ]
    },
    {
     "name": "stderr",
     "output_type": "stream",
     "text": [
      "\r",
      " 29%|██▉       | 188/648 [11:57<25:07,  3.28s/it]"
     ]
    },
    {
     "name": "stdout",
     "output_type": "stream",
     "text": [
      "iter: 187, train_score: 0.9857530529172319, validation score: 0.022071307300509335, configuration: {'medoid_normalization': 'standard', 'stop_words': 'english', 'svm_degree': 4, 'svm_gamma': 1.0, 'norm': None, 'svm_c': 0.01, 'svm_kernel': 'poly'}\n"
     ]
    },
    {
     "name": "stderr",
     "output_type": "stream",
     "text": [
      "\r",
      " 29%|██▉       | 189/648 [12:00<24:16,  3.17s/it]"
     ]
    },
    {
     "name": "stdout",
     "output_type": "stream",
     "text": [
      "iter: 188, train_score: 0.3848648648648648, validation score: 0.016207455429497572, configuration: {'medoid_normalization': 'standard', 'stop_words': 'english', 'svm_degree': 5, 'svm_gamma': 0.1, 'norm': None, 'svm_c': 0.01, 'svm_kernel': 'poly'}\n"
     ]
    },
    {
     "name": "stderr",
     "output_type": "stream",
     "text": [
      "\r",
      " 29%|██▉       | 190/648 [12:03<24:28,  3.21s/it]"
     ]
    },
    {
     "name": "stdout",
     "output_type": "stream",
     "text": [
      "iter: 189, train_score: 0.6356164383561644, validation score: 0.029609690444145353, configuration: {'medoid_normalization': 'standard', 'stop_words': 'english', 'svm_degree': 5, 'svm_gamma': 0.2, 'norm': None, 'svm_c': 0.01, 'svm_kernel': 'poly'}\n"
     ]
    },
    {
     "name": "stderr",
     "output_type": "stream",
     "text": [
      "\r",
      " 29%|██▉       | 191/648 [12:07<26:16,  3.45s/it]"
     ]
    },
    {
     "name": "stdout",
     "output_type": "stream",
     "text": [
      "iter: 190, train_score: 0.9189580318379161, validation score: 0.031111111111111107, configuration: {'medoid_normalization': 'standard', 'stop_words': 'english', 'svm_degree': 5, 'svm_gamma': 0.5, 'norm': None, 'svm_c': 0.01, 'svm_kernel': 'poly'}\n"
     ]
    },
    {
     "name": "stderr",
     "output_type": "stream",
     "text": [
      "\r",
      " 30%|██▉       | 192/648 [12:11<27:54,  3.67s/it]"
     ]
    },
    {
     "name": "stdout",
     "output_type": "stream",
     "text": [
      "iter: 191, train_score: 0.9885290148448043, validation score: 0.04041811846689895, configuration: {'medoid_normalization': 'standard', 'stop_words': 'english', 'svm_degree': 5, 'svm_gamma': 1.0, 'norm': None, 'svm_c': 0.01, 'svm_kernel': 'poly'}\n"
     ]
    },
    {
     "name": "stderr",
     "output_type": "stream",
     "text": [
      "\r",
      " 30%|██▉       | 193/648 [12:14<25:15,  3.33s/it]"
     ]
    },
    {
     "name": "stdout",
     "output_type": "stream",
     "text": [
      "iter: 192, train_score: 0.3464305478693968, validation score: 0.008247422680412373, configuration: {'medoid_normalization': 'standard', 'stop_words': 'english', 'svm_degree': 3, 'svm_gamma': 0.1, 'norm': None, 'svm_c': 0.1, 'svm_kernel': 'poly'}\n"
     ]
    },
    {
     "name": "stderr",
     "output_type": "stream",
     "text": [
      "\r",
      " 30%|██▉       | 194/648 [12:17<24:05,  3.18s/it]"
     ]
    },
    {
     "name": "stdout",
     "output_type": "stream",
     "text": [
      "iter: 193, train_score: 0.5481049562682215, validation score: 0.024475524475524476, configuration: {'medoid_normalization': 'standard', 'stop_words': 'english', 'svm_degree': 3, 'svm_gamma': 0.2, 'norm': None, 'svm_c': 0.1, 'svm_kernel': 'poly'}\n"
     ]
    },
    {
     "name": "stderr",
     "output_type": "stream",
     "text": [
      "\r",
      " 30%|███       | 195/648 [12:20<24:16,  3.22s/it]"
     ]
    },
    {
     "name": "stdout",
     "output_type": "stream",
     "text": [
      "iter: 194, train_score: 0.8512110726643599, validation score: 0.02832244008714597, configuration: {'medoid_normalization': 'standard', 'stop_words': 'english', 'svm_degree': 3, 'svm_gamma': 0.5, 'norm': None, 'svm_c': 0.1, 'svm_kernel': 'poly'}\n"
     ]
    },
    {
     "name": "stderr",
     "output_type": "stream",
     "text": [
      "\r",
      " 30%|███       | 196/648 [12:23<24:26,  3.24s/it]"
     ]
    },
    {
     "name": "stdout",
     "output_type": "stream",
     "text": [
      "iter: 195, train_score: 0.9735486087255238, validation score: 0.05047867711053089, configuration: {'medoid_normalization': 'standard', 'stop_words': 'english', 'svm_degree': 3, 'svm_gamma': 1.0, 'norm': None, 'svm_c': 0.1, 'svm_kernel': 'poly'}\n"
     ]
    },
    {
     "name": "stderr",
     "output_type": "stream",
     "text": [
      "\r",
      " 30%|███       | 197/648 [12:26<22:31,  3.00s/it]"
     ]
    },
    {
     "name": "stdout",
     "output_type": "stream",
     "text": [
      "iter: 196, train_score: 0.45181347150259066, validation score: 0.01785714285714286, configuration: {'medoid_normalization': 'standard', 'stop_words': 'english', 'svm_degree': 4, 'svm_gamma': 0.1, 'norm': None, 'svm_c': 0.1, 'svm_kernel': 'poly'}\n"
     ]
    },
    {
     "name": "stderr",
     "output_type": "stream",
     "text": [
      "\r",
      " 31%|███       | 198/648 [12:28<22:08,  2.95s/it]"
     ]
    },
    {
     "name": "stdout",
     "output_type": "stream",
     "text": [
      "iter: 197, train_score: 0.7076124567474048, validation score: 0.008196721311475409, configuration: {'medoid_normalization': 'standard', 'stop_words': 'english', 'svm_degree': 4, 'svm_gamma': 0.2, 'norm': None, 'svm_c': 0.1, 'svm_kernel': 'poly'}\n"
     ]
    },
    {
     "name": "stderr",
     "output_type": "stream",
     "text": [
      "\r",
      " 31%|███       | 199/648 [12:32<22:23,  2.99s/it]"
     ]
    },
    {
     "name": "stdout",
     "output_type": "stream",
     "text": [
      "iter: 198, train_score: 0.9703652653342522, validation score: 0.025806451612903226, configuration: {'medoid_normalization': 'standard', 'stop_words': 'english', 'svm_degree': 4, 'svm_gamma': 0.5, 'norm': None, 'svm_c': 0.1, 'svm_kernel': 'poly'}\n"
     ]
    },
    {
     "name": "stderr",
     "output_type": "stream",
     "text": [
      "\r",
      " 31%|███       | 200/648 [12:34<22:01,  2.95s/it]"
     ]
    },
    {
     "name": "stdout",
     "output_type": "stream",
     "text": [
      "iter: 199, train_score: 0.9963050050386295, validation score: 0.025641025641025647, configuration: {'medoid_normalization': 'standard', 'stop_words': 'english', 'svm_degree': 4, 'svm_gamma': 1.0, 'norm': None, 'svm_c': 0.1, 'svm_kernel': 'poly'}\n"
     ]
    },
    {
     "name": "stderr",
     "output_type": "stream",
     "text": [
      "\r",
      " 31%|███       | 201/648 [12:38<22:33,  3.03s/it]"
     ]
    },
    {
     "name": "stdout",
     "output_type": "stream",
     "text": [
      "iter: 200, train_score: 0.538160469667319, validation score: 0.01519756838905775, configuration: {'medoid_normalization': 'standard', 'stop_words': 'english', 'svm_degree': 5, 'svm_gamma': 0.1, 'norm': None, 'svm_c': 0.1, 'svm_kernel': 'poly'}\n"
     ]
    },
    {
     "name": "stderr",
     "output_type": "stream",
     "text": [
      "\r",
      " 31%|███       | 202/648 [12:41<23:51,  3.21s/it]"
     ]
    },
    {
     "name": "stdout",
     "output_type": "stream",
     "text": [
      "iter: 201, train_score: 0.812077870480731, validation score: 0.033707865168539325, configuration: {'medoid_normalization': 'standard', 'stop_words': 'english', 'svm_degree': 5, 'svm_gamma': 0.2, 'norm': None, 'svm_c': 0.1, 'svm_kernel': 'poly'}\n"
     ]
    },
    {
     "name": "stderr",
     "output_type": "stream",
     "text": [
      "\r",
      " 31%|███▏      | 203/648 [12:45<25:33,  3.45s/it]"
     ]
    },
    {
     "name": "stdout",
     "output_type": "stream",
     "text": [
      "iter: 202, train_score: 0.9809134287661896, validation score: 0.03799873337555414, configuration: {'medoid_normalization': 'standard', 'stop_words': 'english', 'svm_degree': 5, 'svm_gamma': 0.5, 'norm': None, 'svm_c': 0.1, 'svm_kernel': 'poly'}\n"
     ]
    },
    {
     "name": "stderr",
     "output_type": "stream",
     "text": [
      "\r",
      " 31%|███▏      | 204/648 [12:49<26:45,  3.62s/it]"
     ]
    },
    {
     "name": "stdout",
     "output_type": "stream",
     "text": [
      "iter: 203, train_score: 0.9966644429619745, validation score: 0.02390438247011952, configuration: {'medoid_normalization': 'standard', 'stop_words': 'english', 'svm_degree': 5, 'svm_gamma': 1.0, 'norm': None, 'svm_c': 0.1, 'svm_kernel': 'poly'}\n"
     ]
    },
    {
     "name": "stderr",
     "output_type": "stream",
     "text": [
      "\r",
      " 32%|███▏      | 205/648 [12:52<25:06,  3.40s/it]"
     ]
    },
    {
     "name": "stdout",
     "output_type": "stream",
     "text": [
      "iter: 204, train_score: 0.5689655172413793, validation score: 0.01288244766505636, configuration: {'medoid_normalization': 'standard', 'stop_words': 'english', 'svm_degree': 3, 'svm_gamma': 0.1, 'norm': None, 'svm_c': 1, 'svm_kernel': 'poly'}\n"
     ]
    },
    {
     "name": "stderr",
     "output_type": "stream",
     "text": [
      "\r",
      " 32%|███▏      | 206/648 [12:55<24:05,  3.27s/it]"
     ]
    },
    {
     "name": "stdout",
     "output_type": "stream",
     "text": [
      "iter: 205, train_score: 0.7749077490774908, validation score: 0.025510204081632654, configuration: {'medoid_normalization': 'standard', 'stop_words': 'english', 'svm_degree': 3, 'svm_gamma': 0.2, 'norm': None, 'svm_c': 1, 'svm_kernel': 'poly'}\n"
     ]
    },
    {
     "name": "stderr",
     "output_type": "stream",
     "text": [
      "\r",
      " 32%|███▏      | 207/648 [12:59<24:26,  3.32s/it]"
     ]
    },
    {
     "name": "stdout",
     "output_type": "stream",
     "text": [
      "iter: 206, train_score: 0.9901993916863805, validation score: 0.04042037186742118, configuration: {'medoid_normalization': 'standard', 'stop_words': 'english', 'svm_degree': 3, 'svm_gamma': 0.5, 'norm': None, 'svm_c': 1, 'svm_kernel': 'poly'}\n"
     ]
    },
    {
     "name": "stderr",
     "output_type": "stream",
     "text": [
      "\r",
      " 32%|███▏      | 208/648 [13:02<24:45,  3.38s/it]"
     ]
    },
    {
     "name": "stdout",
     "output_type": "stream",
     "text": [
      "iter: 207, train_score: 1.0, validation score: 0.041379310344827586, configuration: {'medoid_normalization': 'standard', 'stop_words': 'english', 'svm_degree': 3, 'svm_gamma': 1.0, 'norm': None, 'svm_c': 1, 'svm_kernel': 'poly'}\n"
     ]
    },
    {
     "name": "stderr",
     "output_type": "stream",
     "text": [
      "\r",
      " 32%|███▏      | 209/648 [13:05<23:01,  3.15s/it]"
     ]
    },
    {
     "name": "stdout",
     "output_type": "stream",
     "text": [
      "iter: 208, train_score: 0.647351742870077, validation score: 0.025974025974025976, configuration: {'medoid_normalization': 'standard', 'stop_words': 'english', 'svm_degree': 4, 'svm_gamma': 0.1, 'norm': None, 'svm_c': 1, 'svm_kernel': 'poly'}\n"
     ]
    },
    {
     "name": "stderr",
     "output_type": "stream",
     "text": [
      "\r",
      " 32%|███▏      | 210/648 [13:07<22:00,  3.01s/it]"
     ]
    },
    {
     "name": "stdout",
     "output_type": "stream",
     "text": [
      "iter: 209, train_score: 0.8941524796447077, validation score: 0.03489439853076216, configuration: {'medoid_normalization': 'standard', 'stop_words': 'english', 'svm_degree': 4, 'svm_gamma': 0.2, 'norm': None, 'svm_c': 1, 'svm_kernel': 'poly'}\n"
     ]
    },
    {
     "name": "stderr",
     "output_type": "stream",
     "text": [
      "\r",
      " 33%|███▎      | 211/648 [13:10<21:15,  2.92s/it]"
     ]
    },
    {
     "name": "stdout",
     "output_type": "stream",
     "text": [
      "iter: 210, train_score: 0.9929221435793731, validation score: 0.02733118971061093, configuration: {'medoid_normalization': 'standard', 'stop_words': 'english', 'svm_degree': 4, 'svm_gamma': 0.5, 'norm': None, 'svm_c': 1, 'svm_kernel': 'poly'}\n"
     ]
    },
    {
     "name": "stderr",
     "output_type": "stream",
     "text": [
      "\r",
      " 33%|███▎      | 212/648 [13:13<21:07,  2.91s/it]"
     ]
    },
    {
     "name": "stdout",
     "output_type": "stream",
     "text": [
      "iter: 211, train_score: 1.0, validation score: 0.033057851239669415, configuration: {'medoid_normalization': 'standard', 'stop_words': 'english', 'svm_degree': 4, 'svm_gamma': 1.0, 'norm': None, 'svm_c': 1, 'svm_kernel': 'poly'}\n"
     ]
    },
    {
     "name": "stderr",
     "output_type": "stream",
     "text": [
      "\r",
      " 33%|███▎      | 213/648 [13:16<22:14,  3.07s/it]"
     ]
    },
    {
     "name": "stdout",
     "output_type": "stream",
     "text": [
      "iter: 212, train_score: 0.7647788342290203, validation score: 0.03305785123966942, configuration: {'medoid_normalization': 'standard', 'stop_words': 'english', 'svm_degree': 5, 'svm_gamma': 0.1, 'norm': None, 'svm_c': 1, 'svm_kernel': 'poly'}\n"
     ]
    },
    {
     "name": "stderr",
     "output_type": "stream",
     "text": [
      "\r",
      " 33%|███▎      | 214/648 [13:20<23:55,  3.31s/it]"
     ]
    },
    {
     "name": "stdout",
     "output_type": "stream",
     "text": [
      "iter: 213, train_score: 0.9427157001414427, validation score: 0.018880647336480108, configuration: {'medoid_normalization': 'standard', 'stop_words': 'english', 'svm_degree': 5, 'svm_gamma': 0.2, 'norm': None, 'svm_c': 1, 'svm_kernel': 'poly'}\n"
     ]
    },
    {
     "name": "stderr",
     "output_type": "stream",
     "text": [
      "\r",
      " 33%|███▎      | 215/648 [13:24<25:09,  3.49s/it]"
     ]
    },
    {
     "name": "stdout",
     "output_type": "stream",
     "text": [
      "iter: 214, train_score: 0.9862092162798519, validation score: 0.054249547920434, configuration: {'medoid_normalization': 'standard', 'stop_words': 'english', 'svm_degree': 5, 'svm_gamma': 0.5, 'norm': None, 'svm_c': 1, 'svm_kernel': 'poly'}\n"
     ]
    },
    {
     "name": "stderr",
     "output_type": "stream",
     "text": [
      "\r",
      " 33%|███▎      | 216/648 [13:28<25:50,  3.59s/it]"
     ]
    },
    {
     "name": "stdout",
     "output_type": "stream",
     "text": [
      "iter: 215, train_score: 0.9979933110367893, validation score: 0.02416918429003021, configuration: {'medoid_normalization': 'standard', 'stop_words': 'english', 'svm_degree': 5, 'svm_gamma': 1.0, 'norm': None, 'svm_c': 1, 'svm_kernel': 'poly'}\n"
     ]
    },
    {
     "name": "stderr",
     "output_type": "stream",
     "text": [
      "\r",
      " 33%|███▎      | 217/648 [13:30<22:06,  3.08s/it]"
     ]
    },
    {
     "name": "stdout",
     "output_type": "stream",
     "text": [
      "iter: 216, train_score: 0.0, validation score: 0.0, configuration: {'medoid_normalization': 'minmax', 'stop_words': None, 'svm_degree': 3, 'svm_gamma': 0.1, 'norm': 'l1', 'svm_c': 0.01, 'svm_kernel': 'poly'}\n"
     ]
    },
    {
     "name": "stderr",
     "output_type": "stream",
     "text": [
      "\r",
      " 34%|███▎      | 218/648 [13:32<20:04,  2.80s/it]"
     ]
    },
    {
     "name": "stdout",
     "output_type": "stream",
     "text": [
      "iter: 217, train_score: 0.0, validation score: 0.0, configuration: {'medoid_normalization': 'minmax', 'stop_words': None, 'svm_degree': 3, 'svm_gamma': 0.2, 'norm': 'l1', 'svm_c': 0.01, 'svm_kernel': 'poly'}\n"
     ]
    },
    {
     "name": "stderr",
     "output_type": "stream",
     "text": [
      "\r",
      " 34%|███▍      | 219/648 [13:34<18:52,  2.64s/it]"
     ]
    },
    {
     "name": "stdout",
     "output_type": "stream",
     "text": [
      "iter: 218, train_score: 0.0066711140760507, validation score: 0.0, configuration: {'medoid_normalization': 'minmax', 'stop_words': None, 'svm_degree': 3, 'svm_gamma': 0.5, 'norm': 'l1', 'svm_c': 0.01, 'svm_kernel': 'poly'}\n"
     ]
    },
    {
     "name": "stderr",
     "output_type": "stream",
     "text": [
      "\r",
      " 34%|███▍      | 220/648 [13:37<18:07,  2.54s/it]"
     ]
    },
    {
     "name": "stdout",
     "output_type": "stream",
     "text": [
      "iter: 219, train_score: 0.03162055335968379, validation score: 0.0, configuration: {'medoid_normalization': 'minmax', 'stop_words': None, 'svm_degree': 3, 'svm_gamma': 1.0, 'norm': 'l1', 'svm_c': 0.01, 'svm_kernel': 'poly'}\n"
     ]
    },
    {
     "name": "stderr",
     "output_type": "stream",
     "text": [
      "\r",
      " 34%|███▍      | 221/648 [13:39<16:49,  2.36s/it]"
     ]
    },
    {
     "name": "stdout",
     "output_type": "stream",
     "text": [
      "iter: 220, train_score: 0.004008016032064128, validation score: 0.0, configuration: {'medoid_normalization': 'minmax', 'stop_words': None, 'svm_degree': 4, 'svm_gamma': 0.1, 'norm': 'l1', 'svm_c': 0.01, 'svm_kernel': 'poly'}\n"
     ]
    },
    {
     "name": "stderr",
     "output_type": "stream",
     "text": [
      "\r",
      " 34%|███▍      | 222/648 [13:41<16:22,  2.31s/it]"
     ]
    },
    {
     "name": "stdout",
     "output_type": "stream",
     "text": [
      "iter: 221, train_score: 0.004008016032064128, validation score: 0.0, configuration: {'medoid_normalization': 'minmax', 'stop_words': None, 'svm_degree': 4, 'svm_gamma': 0.2, 'norm': 'l1', 'svm_c': 0.01, 'svm_kernel': 'poly'}\n"
     ]
    },
    {
     "name": "stderr",
     "output_type": "stream",
     "text": [
      "\r",
      " 34%|███▍      | 223/648 [13:43<16:10,  2.28s/it]"
     ]
    },
    {
     "name": "stdout",
     "output_type": "stream",
     "text": [
      "iter: 222, train_score: 0.03550295857988166, validation score: 0.0, configuration: {'medoid_normalization': 'minmax', 'stop_words': None, 'svm_degree': 4, 'svm_gamma': 0.5, 'norm': 'l1', 'svm_c': 0.01, 'svm_kernel': 'poly'}\n"
     ]
    },
    {
     "name": "stderr",
     "output_type": "stream",
     "text": [
      "\r",
      " 35%|███▍      | 224/648 [13:45<16:21,  2.31s/it]"
     ]
    },
    {
     "name": "stdout",
     "output_type": "stream",
     "text": [
      "iter: 223, train_score: 0.2587412587412587, validation score: 0.0, configuration: {'medoid_normalization': 'minmax', 'stop_words': None, 'svm_degree': 4, 'svm_gamma': 1.0, 'norm': 'l1', 'svm_c': 0.01, 'svm_kernel': 'poly'}\n"
     ]
    },
    {
     "name": "stderr",
     "output_type": "stream",
     "text": [
      "\r",
      " 35%|███▍      | 225/648 [13:47<15:24,  2.19s/it]"
     ]
    },
    {
     "name": "stdout",
     "output_type": "stream",
     "text": [
      "iter: 224, train_score: 0.0053404539385847796, validation score: 0.0, configuration: {'medoid_normalization': 'minmax', 'stop_words': None, 'svm_degree': 5, 'svm_gamma': 0.1, 'norm': 'l1', 'svm_c': 0.01, 'svm_kernel': 'poly'}\n"
     ]
    },
    {
     "name": "stderr",
     "output_type": "stream",
     "text": [
      "\r",
      " 35%|███▍      | 226/648 [13:49<15:17,  2.17s/it]"
     ]
    },
    {
     "name": "stdout",
     "output_type": "stream",
     "text": [
      "iter: 225, train_score: 0.011976047904191616, validation score: 0.004246284501061572, configuration: {'medoid_normalization': 'minmax', 'stop_words': None, 'svm_degree': 5, 'svm_gamma': 0.2, 'norm': 'l1', 'svm_c': 0.01, 'svm_kernel': 'poly'}\n"
     ]
    },
    {
     "name": "stderr",
     "output_type": "stream",
     "text": [
      "\r",
      " 35%|███▌      | 227/648 [13:52<15:37,  2.23s/it]"
     ]
    },
    {
     "name": "stdout",
     "output_type": "stream",
     "text": [
      "iter: 226, train_score: 0.20324714371617558, validation score: 0.004158004158004158, configuration: {'medoid_normalization': 'minmax', 'stop_words': None, 'svm_degree': 5, 'svm_gamma': 0.5, 'norm': 'l1', 'svm_c': 0.01, 'svm_kernel': 'poly'}\n"
     ]
    },
    {
     "name": "stderr",
     "output_type": "stream",
     "text": [
      "\r",
      " 35%|███▌      | 228/648 [13:55<16:43,  2.39s/it]"
     ]
    },
    {
     "name": "stdout",
     "output_type": "stream",
     "text": [
      "iter: 227, train_score: 0.5403028822667318, validation score: 0.007547169811320755, configuration: {'medoid_normalization': 'minmax', 'stop_words': None, 'svm_degree': 5, 'svm_gamma': 1.0, 'norm': 'l1', 'svm_c': 0.01, 'svm_kernel': 'poly'}\n"
     ]
    },
    {
     "name": "stderr",
     "output_type": "stream",
     "text": [
      "\r",
      " 35%|███▌      | 229/648 [13:57<16:01,  2.30s/it]"
     ]
    },
    {
     "name": "stdout",
     "output_type": "stream",
     "text": [
      "iter: 228, train_score: 0.0, validation score: 0.0, configuration: {'medoid_normalization': 'minmax', 'stop_words': None, 'svm_degree': 3, 'svm_gamma': 0.1, 'norm': 'l1', 'svm_c': 0.1, 'svm_kernel': 'poly'}\n"
     ]
    },
    {
     "name": "stderr",
     "output_type": "stream",
     "text": [
      "\r",
      " 35%|███▌      | 230/648 [13:59<15:35,  2.24s/it]"
     ]
    },
    {
     "name": "stdout",
     "output_type": "stream",
     "text": [
      "iter: 229, train_score: 0.007999999999999998, validation score: 0.0, configuration: {'medoid_normalization': 'minmax', 'stop_words': None, 'svm_degree': 3, 'svm_gamma': 0.2, 'norm': 'l1', 'svm_c': 0.1, 'svm_kernel': 'poly'}\n"
     ]
    },
    {
     "name": "stderr",
     "output_type": "stream",
     "text": [
      "\r",
      " 36%|███▌      | 231/648 [14:01<15:36,  2.24s/it]"
     ]
    },
    {
     "name": "stdout",
     "output_type": "stream",
     "text": [
      "iter: 230, train_score: 0.032916392363396975, validation score: 0.0, configuration: {'medoid_normalization': 'minmax', 'stop_words': None, 'svm_degree': 3, 'svm_gamma': 0.5, 'norm': 'l1', 'svm_c': 0.1, 'svm_kernel': 'poly'}\n"
     ]
    },
    {
     "name": "stderr",
     "output_type": "stream",
     "text": [
      "\r",
      " 36%|███▌      | 232/648 [14:03<15:46,  2.28s/it]"
     ]
    },
    {
     "name": "stdout",
     "output_type": "stream",
     "text": [
      "iter: 231, train_score: 0.23404255319148937, validation score: 0.0, configuration: {'medoid_normalization': 'minmax', 'stop_words': None, 'svm_degree': 3, 'svm_gamma': 1.0, 'norm': 'l1', 'svm_c': 0.1, 'svm_kernel': 'poly'}\n"
     ]
    },
    {
     "name": "stderr",
     "output_type": "stream",
     "text": [
      "\r",
      " 36%|███▌      | 233/648 [14:06<16:20,  2.36s/it]"
     ]
    },
    {
     "name": "stdout",
     "output_type": "stream",
     "text": [
      "iter: 232, train_score: 0.004008016032064128, validation score: 0.0, configuration: {'medoid_normalization': 'minmax', 'stop_words': None, 'svm_degree': 4, 'svm_gamma': 0.1, 'norm': 'l1', 'svm_c': 0.1, 'svm_kernel': 'poly'}\n"
     ]
    },
    {
     "name": "stderr",
     "output_type": "stream",
     "text": [
      "\r",
      " 36%|███▌      | 234/648 [14:09<17:28,  2.53s/it]"
     ]
    },
    {
     "name": "stdout",
     "output_type": "stream",
     "text": [
      "iter: 233, train_score: 0.017252820172528202, validation score: 0.0, configuration: {'medoid_normalization': 'minmax', 'stop_words': None, 'svm_degree': 4, 'svm_gamma': 0.2, 'norm': 'l1', 'svm_c': 0.1, 'svm_kernel': 'poly'}\n"
     ]
    },
    {
     "name": "stderr",
     "output_type": "stream",
     "text": [
      "\r",
      " 36%|███▋      | 235/648 [14:12<18:32,  2.69s/it]"
     ]
    },
    {
     "name": "stdout",
     "output_type": "stream",
     "text": [
      "iter: 234, train_score: 0.32605042016806723, validation score: 0.0, configuration: {'medoid_normalization': 'minmax', 'stop_words': None, 'svm_degree': 4, 'svm_gamma': 0.5, 'norm': 'l1', 'svm_c': 0.1, 'svm_kernel': 'poly'}\n"
     ]
    },
    {
     "name": "stderr",
     "output_type": "stream",
     "text": [
      "\r",
      " 36%|███▋      | 236/648 [14:15<19:12,  2.80s/it]"
     ]
    },
    {
     "name": "stdout",
     "output_type": "stream",
     "text": [
      "iter: 235, train_score: 0.4645426515930113, validation score: 0.004081632653061225, configuration: {'medoid_normalization': 'minmax', 'stop_words': None, 'svm_degree': 4, 'svm_gamma': 1.0, 'norm': 'l1', 'svm_c': 0.1, 'svm_kernel': 'poly'}\n"
     ]
    },
    {
     "name": "stderr",
     "output_type": "stream",
     "text": [
      "\r",
      " 37%|███▋      | 237/648 [14:17<18:12,  2.66s/it]"
     ]
    },
    {
     "name": "stdout",
     "output_type": "stream",
     "text": [
      "iter: 236, train_score: 0.009327115256495669, validation score: 0.0, configuration: {'medoid_normalization': 'minmax', 'stop_words': None, 'svm_degree': 5, 'svm_gamma': 0.1, 'norm': 'l1', 'svm_c': 0.1, 'svm_kernel': 'poly'}\n"
     ]
    },
    {
     "name": "stderr",
     "output_type": "stream",
     "text": [
      "\r",
      " 37%|███▋      | 238/648 [14:20<17:42,  2.59s/it]"
     ]
    },
    {
     "name": "stdout",
     "output_type": "stream",
     "text": [
      "iter: 237, train_score: 0.03162055335968379, validation score: 0.0, configuration: {'medoid_normalization': 'minmax', 'stop_words': None, 'svm_degree': 5, 'svm_gamma': 0.2, 'norm': 'l1', 'svm_c': 0.1, 'svm_kernel': 'poly'}\n"
     ]
    },
    {
     "name": "stderr",
     "output_type": "stream",
     "text": [
      "\r",
      " 37%|███▋      | 239/648 [14:22<17:46,  2.61s/it]"
     ]
    },
    {
     "name": "stdout",
     "output_type": "stream",
     "text": [
      "iter: 238, train_score: 0.39785522788203753, validation score: 0.004032258064516129, configuration: {'medoid_normalization': 'minmax', 'stop_words': None, 'svm_degree': 5, 'svm_gamma': 0.5, 'norm': 'l1', 'svm_c': 0.1, 'svm_kernel': 'poly'}\n"
     ]
    },
    {
     "name": "stderr",
     "output_type": "stream",
     "text": [
      "\r",
      " 37%|███▋      | 240/648 [14:25<18:30,  2.72s/it]"
     ]
    },
    {
     "name": "stdout",
     "output_type": "stream",
     "text": [
      "iter: 239, train_score: 0.946031746031746, validation score: 0.030534351145038167, configuration: {'medoid_normalization': 'minmax', 'stop_words': None, 'svm_degree': 5, 'svm_gamma': 1.0, 'norm': 'l1', 'svm_c': 0.1, 'svm_kernel': 'poly'}\n"
     ]
    },
    {
     "name": "stderr",
     "output_type": "stream",
     "text": [
      "\r",
      " 37%|███▋      | 241/648 [14:28<17:34,  2.59s/it]"
     ]
    },
    {
     "name": "stdout",
     "output_type": "stream",
     "text": [
      "iter: 240, train_score: 0.009327115256495669, validation score: 0.0, configuration: {'medoid_normalization': 'minmax', 'stop_words': None, 'svm_degree': 3, 'svm_gamma': 0.1, 'norm': 'l1', 'svm_c': 1, 'svm_kernel': 'poly'}\n"
     ]
    },
    {
     "name": "stderr",
     "output_type": "stream",
     "text": [
      "\r",
      " 37%|███▋      | 242/648 [14:30<17:05,  2.53s/it]"
     ]
    },
    {
     "name": "stdout",
     "output_type": "stream",
     "text": [
      "iter: 241, train_score: 0.022501654533421574, validation score: 0.0, configuration: {'medoid_normalization': 'minmax', 'stop_words': None, 'svm_degree': 3, 'svm_gamma': 0.2, 'norm': 'l1', 'svm_c': 1, 'svm_kernel': 'poly'}\n"
     ]
    },
    {
     "name": "stderr",
     "output_type": "stream",
     "text": [
      "\r",
      " 38%|███▊      | 243/648 [14:32<16:56,  2.51s/it]"
     ]
    },
    {
     "name": "stdout",
     "output_type": "stream",
     "text": [
      "iter: 242, train_score: 0.28177113283496263, validation score: 0.0, configuration: {'medoid_normalization': 'minmax', 'stop_words': None, 'svm_degree': 3, 'svm_gamma': 0.5, 'norm': 'l1', 'svm_c': 1, 'svm_kernel': 'poly'}\n"
     ]
    },
    {
     "name": "stderr",
     "output_type": "stream",
     "text": [
      "\r",
      " 38%|███▊      | 244/648 [14:35<16:52,  2.51s/it]"
     ]
    },
    {
     "name": "stdout",
     "output_type": "stream",
     "text": [
      "iter: 243, train_score: 0.5407515861395803, validation score: 0.007968127490039842, configuration: {'medoid_normalization': 'minmax', 'stop_words': None, 'svm_degree': 3, 'svm_gamma': 1.0, 'norm': 'l1', 'svm_c': 1, 'svm_kernel': 'poly'}\n"
     ]
    },
    {
     "name": "stderr",
     "output_type": "stream",
     "text": [
      "\r",
      " 38%|███▊      | 245/648 [14:37<16:25,  2.45s/it]"
     ]
    },
    {
     "name": "stdout",
     "output_type": "stream",
     "text": [
      "iter: 244, train_score: 0.011976047904191616, validation score: 0.004246284501061572, configuration: {'medoid_normalization': 'minmax', 'stop_words': None, 'svm_degree': 4, 'svm_gamma': 0.1, 'norm': 'l1', 'svm_c': 1, 'svm_kernel': 'poly'}\n"
     ]
    },
    {
     "name": "stderr",
     "output_type": "stream",
     "text": [
      "\r",
      " 38%|███▊      | 246/648 [14:40<16:04,  2.40s/it]"
     ]
    },
    {
     "name": "stdout",
     "output_type": "stream",
     "text": [
      "iter: 245, train_score: 0.06601941747572816, validation score: 0.0, configuration: {'medoid_normalization': 'minmax', 'stop_words': None, 'svm_degree': 4, 'svm_gamma': 0.2, 'norm': 'l1', 'svm_c': 1, 'svm_kernel': 'poly'}\n"
     ]
    },
    {
     "name": "stderr",
     "output_type": "stream",
     "text": [
      "\r",
      " 38%|███▊      | 247/648 [14:42<16:41,  2.50s/it]"
     ]
    },
    {
     "name": "stdout",
     "output_type": "stream",
     "text": [
      "iter: 246, train_score: 0.4248813916710596, validation score: 0.0, configuration: {'medoid_normalization': 'minmax', 'stop_words': None, 'svm_degree': 4, 'svm_gamma': 0.5, 'norm': 'l1', 'svm_c': 1, 'svm_kernel': 'poly'}\n"
     ]
    },
    {
     "name": "stderr",
     "output_type": "stream",
     "text": [
      "\r",
      " 38%|███▊      | 248/648 [14:46<18:32,  2.78s/it]"
     ]
    },
    {
     "name": "stdout",
     "output_type": "stream",
     "text": [
      "iter: 247, train_score: 0.8489984591679507, validation score: 0.01183431952662722, configuration: {'medoid_normalization': 'minmax', 'stop_words': None, 'svm_degree': 4, 'svm_gamma': 1.0, 'norm': 'l1', 'svm_c': 1, 'svm_kernel': 'poly'}\n"
     ]
    },
    {
     "name": "stderr",
     "output_type": "stream",
     "text": [
      "\r",
      " 38%|███▊      | 249/648 [14:48<18:28,  2.78s/it]"
     ]
    },
    {
     "name": "stdout",
     "output_type": "stream",
     "text": [
      "iter: 248, train_score: 0.026420079260237782, validation score: 0.004237288135593221, configuration: {'medoid_normalization': 'minmax', 'stop_words': None, 'svm_degree': 5, 'svm_gamma': 0.1, 'norm': 'l1', 'svm_c': 1, 'svm_kernel': 'poly'}\n"
     ]
    },
    {
     "name": "stderr",
     "output_type": "stream",
     "text": [
      "\r",
      " 39%|███▊      | 250/648 [14:51<18:03,  2.72s/it]"
     ]
    },
    {
     "name": "stdout",
     "output_type": "stream",
     "text": [
      "iter: 249, train_score: 0.1172022684310019, validation score: 0.0, configuration: {'medoid_normalization': 'minmax', 'stop_words': None, 'svm_degree': 5, 'svm_gamma': 0.2, 'norm': 'l1', 'svm_c': 1, 'svm_kernel': 'poly'}\n"
     ]
    },
    {
     "name": "stderr",
     "output_type": "stream",
     "text": [
      "\r",
      " 39%|███▊      | 251/648 [14:54<18:47,  2.84s/it]"
     ]
    },
    {
     "name": "stdout",
     "output_type": "stream",
     "text": [
      "iter: 250, train_score: 0.7897934386391251, validation score: 0.02834645669291339, configuration: {'medoid_normalization': 'minmax', 'stop_words': None, 'svm_degree': 5, 'svm_gamma': 0.5, 'norm': 'l1', 'svm_c': 1, 'svm_kernel': 'poly'}\n"
     ]
    },
    {
     "name": "stderr",
     "output_type": "stream",
     "text": [
      "\r",
      " 39%|███▉      | 252/648 [14:58<20:31,  3.11s/it]"
     ]
    },
    {
     "name": "stdout",
     "output_type": "stream",
     "text": [
      "iter: 251, train_score: 0.9989949748743718, validation score: 0.03671497584541063, configuration: {'medoid_normalization': 'minmax', 'stop_words': None, 'svm_degree': 5, 'svm_gamma': 1.0, 'norm': 'l1', 'svm_c': 1, 'svm_kernel': 'poly'}\n"
     ]
    },
    {
     "name": "stderr",
     "output_type": "stream",
     "text": [
      "\r",
      " 39%|███▉      | 253/648 [15:00<18:34,  2.82s/it]"
     ]
    },
    {
     "name": "stdout",
     "output_type": "stream",
     "text": [
      "iter: 252, train_score: 0.0, validation score: 0.0, configuration: {'medoid_normalization': 'minmax', 'stop_words': 'english', 'svm_degree': 3, 'svm_gamma': 0.1, 'norm': 'l1', 'svm_c': 0.01, 'svm_kernel': 'poly'}\n"
     ]
    },
    {
     "name": "stderr",
     "output_type": "stream",
     "text": [
      "\r",
      " 39%|███▉      | 254/648 [15:02<17:23,  2.65s/it]"
     ]
    },
    {
     "name": "stdout",
     "output_type": "stream",
     "text": [
      "iter: 253, train_score: 0.0, validation score: 0.0, configuration: {'medoid_normalization': 'minmax', 'stop_words': 'english', 'svm_degree': 3, 'svm_gamma': 0.2, 'norm': 'l1', 'svm_c': 0.01, 'svm_kernel': 'poly'}\n"
     ]
    },
    {
     "name": "stderr",
     "output_type": "stream",
     "text": [
      "\r",
      " 39%|███▉      | 255/648 [15:05<16:53,  2.58s/it]"
     ]
    },
    {
     "name": "stdout",
     "output_type": "stream",
     "text": [
      "iter: 254, train_score: 0.059740259740259746, validation score: 0.0, configuration: {'medoid_normalization': 'minmax', 'stop_words': 'english', 'svm_degree': 3, 'svm_gamma': 0.5, 'norm': 'l1', 'svm_c': 0.01, 'svm_kernel': 'poly'}\n"
     ]
    },
    {
     "name": "stderr",
     "output_type": "stream",
     "text": [
      "\r",
      " 40%|███▉      | 256/648 [15:07<16:47,  2.57s/it]"
     ]
    },
    {
     "name": "stdout",
     "output_type": "stream",
     "text": [
      "iter: 255, train_score: 0.3279238947957471, validation score: 0.0, configuration: {'medoid_normalization': 'minmax', 'stop_words': 'english', 'svm_degree': 3, 'svm_gamma': 1.0, 'norm': 'l1', 'svm_c': 0.01, 'svm_kernel': 'poly'}\n"
     ]
    },
    {
     "name": "stderr",
     "output_type": "stream",
     "text": [
      "\r",
      " 40%|███▉      | 257/648 [15:09<16:00,  2.46s/it]"
     ]
    },
    {
     "name": "stdout",
     "output_type": "stream",
     "text": [
      "iter: 256, train_score: 0.007999999999999998, validation score: 0.0, configuration: {'medoid_normalization': 'minmax', 'stop_words': 'english', 'svm_degree': 4, 'svm_gamma': 0.1, 'norm': 'l1', 'svm_c': 0.01, 'svm_kernel': 'poly'}\n"
     ]
    },
    {
     "name": "stderr",
     "output_type": "stream",
     "text": [
      "\r",
      " 40%|███▉      | 258/648 [15:12<15:46,  2.43s/it]"
     ]
    },
    {
     "name": "stdout",
     "output_type": "stream",
     "text": [
      "iter: 257, train_score: 0.058479532163742694, validation score: 0.0, configuration: {'medoid_normalization': 'minmax', 'stop_words': 'english', 'svm_degree': 4, 'svm_gamma': 0.2, 'norm': 'l1', 'svm_c': 0.01, 'svm_kernel': 'poly'}\n"
     ]
    },
    {
     "name": "stderr",
     "output_type": "stream",
     "text": [
      "\r",
      " 40%|███▉      | 259/648 [15:14<15:57,  2.46s/it]"
     ]
    },
    {
     "name": "stdout",
     "output_type": "stream",
     "text": [
      "iter: 258, train_score: 0.36810486073184057, validation score: 0.0040650406504065045, configuration: {'medoid_normalization': 'minmax', 'stop_words': 'english', 'svm_degree': 4, 'svm_gamma': 0.5, 'norm': 'l1', 'svm_c': 0.01, 'svm_kernel': 'poly'}\n"
     ]
    },
    {
     "name": "stderr",
     "output_type": "stream",
     "text": [
      "\r",
      " 40%|████      | 260/648 [15:18<17:57,  2.78s/it]"
     ]
    },
    {
     "name": "stdout",
     "output_type": "stream",
     "text": [
      "iter: 259, train_score: 0.6442831215970961, validation score: 0.00927357032457496, configuration: {'medoid_normalization': 'minmax', 'stop_words': 'english', 'svm_degree': 4, 'svm_gamma': 1.0, 'norm': 'l1', 'svm_c': 0.01, 'svm_kernel': 'poly'}\n"
     ]
    },
    {
     "name": "stderr",
     "output_type": "stream",
     "text": [
      "\r",
      " 40%|████      | 261/648 [15:20<17:01,  2.64s/it]"
     ]
    },
    {
     "name": "stdout",
     "output_type": "stream",
     "text": [
      "iter: 260, train_score: 0.02119205298013245, validation score: 0.0, configuration: {'medoid_normalization': 'minmax', 'stop_words': 'english', 'svm_degree': 5, 'svm_gamma': 0.1, 'norm': 'l1', 'svm_c': 0.01, 'svm_kernel': 'poly'}\n"
     ]
    },
    {
     "name": "stderr",
     "output_type": "stream",
     "text": [
      "\r",
      " 40%|████      | 262/648 [15:23<16:39,  2.59s/it]"
     ]
    },
    {
     "name": "stdout",
     "output_type": "stream",
     "text": [
      "iter: 261, train_score: 0.14525139664804468, validation score: 0.004166666666666667, configuration: {'medoid_normalization': 'minmax', 'stop_words': 'english', 'svm_degree': 5, 'svm_gamma': 0.2, 'norm': 'l1', 'svm_c': 0.01, 'svm_kernel': 'poly'}\n"
     ]
    },
    {
     "name": "stderr",
     "output_type": "stream",
     "text": [
      "\r",
      " 41%|████      | 263/648 [15:26<18:03,  2.81s/it]"
     ]
    },
    {
     "name": "stdout",
     "output_type": "stream",
     "text": [
      "iter: 262, train_score: 0.6997389033942559, validation score: 0.020348837209302324, configuration: {'medoid_normalization': 'minmax', 'stop_words': 'english', 'svm_degree': 5, 'svm_gamma': 0.5, 'norm': 'l1', 'svm_c': 0.01, 'svm_kernel': 'poly'}\n"
     ]
    },
    {
     "name": "stderr",
     "output_type": "stream",
     "text": [
      "\r",
      " 41%|████      | 264/648 [15:32<24:33,  3.84s/it]"
     ]
    },
    {
     "name": "stdout",
     "output_type": "stream",
     "text": [
      "iter: 263, train_score: 0.9888324873096447, validation score: 0.04318936877076412, configuration: {'medoid_normalization': 'minmax', 'stop_words': 'english', 'svm_degree': 5, 'svm_gamma': 1.0, 'norm': 'l1', 'svm_c': 0.01, 'svm_kernel': 'poly'}\n"
     ]
    },
    {
     "name": "stderr",
     "output_type": "stream",
     "text": [
      "\r",
      " 41%|████      | 265/648 [15:34<21:28,  3.36s/it]"
     ]
    },
    {
     "name": "stdout",
     "output_type": "stream",
     "text": [
      "iter: 264, train_score: 0.0, validation score: 0.0, configuration: {'medoid_normalization': 'minmax', 'stop_words': 'english', 'svm_degree': 3, 'svm_gamma': 0.1, 'norm': 'l1', 'svm_c': 0.1, 'svm_kernel': 'poly'}\n"
     ]
    },
    {
     "name": "stderr",
     "output_type": "stream",
     "text": [
      "\r",
      " 41%|████      | 266/648 [15:37<19:28,  3.06s/it]"
     ]
    },
    {
     "name": "stdout",
     "output_type": "stream",
     "text": [
      "iter: 265, train_score: 0.02380952380952381, validation score: 0.0, configuration: {'medoid_normalization': 'minmax', 'stop_words': 'english', 'svm_degree': 3, 'svm_gamma': 0.2, 'norm': 'l1', 'svm_c': 0.1, 'svm_kernel': 'poly'}\n"
     ]
    },
    {
     "name": "stderr",
     "output_type": "stream",
     "text": [
      "\r",
      " 41%|████      | 267/648 [15:39<18:32,  2.92s/it]"
     ]
    },
    {
     "name": "stdout",
     "output_type": "stream",
     "text": [
      "iter: 266, train_score: 0.2627906976744186, validation score: 0.0, configuration: {'medoid_normalization': 'minmax', 'stop_words': 'english', 'svm_degree': 3, 'svm_gamma': 0.5, 'norm': 'l1', 'svm_c': 0.1, 'svm_kernel': 'poly'}\n"
     ]
    },
    {
     "name": "stderr",
     "output_type": "stream",
     "text": [
      "\r",
      " 41%|████▏     | 268/648 [15:42<18:33,  2.93s/it]"
     ]
    },
    {
     "name": "stdout",
     "output_type": "stream",
     "text": [
      "iter: 267, train_score: 0.48530901722391073, validation score: 0.007920792079207923, configuration: {'medoid_normalization': 'minmax', 'stop_words': 'english', 'svm_degree': 3, 'svm_gamma': 1.0, 'norm': 'l1', 'svm_c': 0.1, 'svm_kernel': 'poly'}\n"
     ]
    },
    {
     "name": "stderr",
     "output_type": "stream",
     "text": [
      "\r",
      " 42%|████▏     | 269/648 [15:45<17:30,  2.77s/it]"
     ]
    },
    {
     "name": "stdout",
     "output_type": "stream",
     "text": [
      "iter: 268, train_score: 0.029023746701846966, validation score: 0.0, configuration: {'medoid_normalization': 'minmax', 'stop_words': 'english', 'svm_degree': 4, 'svm_gamma': 0.1, 'norm': 'l1', 'svm_c': 0.1, 'svm_kernel': 'poly'}\n"
     ]
    },
    {
     "name": "stderr",
     "output_type": "stream",
     "text": [
      "\r",
      " 42%|████▏     | 270/648 [15:47<16:53,  2.68s/it]"
     ]
    },
    {
     "name": "stdout",
     "output_type": "stream",
     "text": [
      "iter: 269, train_score: 0.22036926742108398, validation score: 0.008368200836820083, configuration: {'medoid_normalization': 'minmax', 'stop_words': 'english', 'svm_degree': 4, 'svm_gamma': 0.2, 'norm': 'l1', 'svm_c': 0.1, 'svm_kernel': 'poly'}\n"
     ]
    },
    {
     "name": "stderr",
     "output_type": "stream",
     "text": [
      "\r",
      " 42%|████▏     | 271/648 [15:51<18:23,  2.93s/it]"
     ]
    },
    {
     "name": "stdout",
     "output_type": "stream",
     "text": [
      "iter: 270, train_score: 0.6076421248835041, validation score: 0.016583747927031506, configuration: {'medoid_normalization': 'minmax', 'stop_words': 'english', 'svm_degree': 4, 'svm_gamma': 0.5, 'norm': 'l1', 'svm_c': 0.1, 'svm_kernel': 'poly'}\n"
     ]
    },
    {
     "name": "stderr",
     "output_type": "stream",
     "text": [
      "\r",
      " 42%|████▏     | 272/648 [15:55<21:39,  3.46s/it]"
     ]
    },
    {
     "name": "stdout",
     "output_type": "stream",
     "text": [
      "iter: 271, train_score: 0.9445817154959407, validation score: 0.04369414101290963, configuration: {'medoid_normalization': 'minmax', 'stop_words': 'english', 'svm_degree': 4, 'svm_gamma': 1.0, 'norm': 'l1', 'svm_c': 0.1, 'svm_kernel': 'poly'}\n"
     ]
    },
    {
     "name": "stderr",
     "output_type": "stream",
     "text": [
      "\r",
      " 42%|████▏     | 273/648 [15:58<19:39,  3.15s/it]"
     ]
    },
    {
     "name": "stdout",
     "output_type": "stream",
     "text": [
      "iter: 272, train_score: 0.08829174664107486, validation score: 0.0, configuration: {'medoid_normalization': 'minmax', 'stop_words': 'english', 'svm_degree': 5, 'svm_gamma': 0.1, 'norm': 'l1', 'svm_c': 0.1, 'svm_kernel': 'poly'}\n"
     ]
    },
    {
     "name": "stderr",
     "output_type": "stream",
     "text": [
      "\r",
      " 42%|████▏     | 274/648 [16:01<18:49,  3.02s/it]"
     ]
    },
    {
     "name": "stdout",
     "output_type": "stream",
     "text": [
      "iter: 273, train_score: 0.4364207221350078, validation score: 0.0038167938931297713, configuration: {'medoid_normalization': 'minmax', 'stop_words': 'english', 'svm_degree': 5, 'svm_gamma': 0.2, 'norm': 'l1', 'svm_c': 0.1, 'svm_kernel': 'poly'}\n"
     ]
    },
    {
     "name": "stderr",
     "output_type": "stream",
     "text": [
      "\r",
      " 42%|████▏     | 275/648 [16:05<21:55,  3.53s/it]"
     ]
    },
    {
     "name": "stdout",
     "output_type": "stream",
     "text": [
      "iter: 274, train_score: 0.9475167312433955, validation score: 0.04150943396226415, configuration: {'medoid_normalization': 'minmax', 'stop_words': 'english', 'svm_degree': 5, 'svm_gamma': 0.5, 'norm': 'l1', 'svm_c': 0.1, 'svm_kernel': 'poly'}\n"
     ]
    },
    {
     "name": "stderr",
     "output_type": "stream",
     "text": [
      "\r",
      " 43%|████▎     | 276/648 [16:12<28:05,  4.53s/it]"
     ]
    },
    {
     "name": "stdout",
     "output_type": "stream",
     "text": [
      "iter: 275, train_score: 0.9913448735019973, validation score: 0.0546448087431694, configuration: {'medoid_normalization': 'minmax', 'stop_words': 'english', 'svm_degree': 5, 'svm_gamma': 1.0, 'norm': 'l1', 'svm_c': 0.1, 'svm_kernel': 'poly'}\n"
     ]
    },
    {
     "name": "stderr",
     "output_type": "stream",
     "text": [
      "\r",
      " 43%|████▎     | 277/648 [16:15<24:32,  3.97s/it]"
     ]
    },
    {
     "name": "stdout",
     "output_type": "stream",
     "text": [
      "iter: 276, train_score: 0.043222003929273084, validation score: 0.0, configuration: {'medoid_normalization': 'minmax', 'stop_words': 'english', 'svm_degree': 3, 'svm_gamma': 0.1, 'norm': 'l1', 'svm_c': 1, 'svm_kernel': 'poly'}\n"
     ]
    },
    {
     "name": "stderr",
     "output_type": "stream",
     "text": [
      "\r",
      " 43%|████▎     | 278/648 [16:17<21:39,  3.51s/it]"
     ]
    },
    {
     "name": "stdout",
     "output_type": "stream",
     "text": [
      "iter: 277, train_score: 0.303236797274276, validation score: 0.0042194092827004225, configuration: {'medoid_normalization': 'minmax', 'stop_words': 'english', 'svm_degree': 3, 'svm_gamma': 0.2, 'norm': 'l1', 'svm_c': 1, 'svm_kernel': 'poly'}\n"
     ]
    },
    {
     "name": "stderr",
     "output_type": "stream",
     "text": [
      "\r",
      " 43%|████▎     | 279/648 [16:20<20:55,  3.40s/it]"
     ]
    },
    {
     "name": "stdout",
     "output_type": "stream",
     "text": [
      "iter: 278, train_score: 0.44375, validation score: 0.007889546351084813, configuration: {'medoid_normalization': 'minmax', 'stop_words': 'english', 'svm_degree': 3, 'svm_gamma': 0.5, 'norm': 'l1', 'svm_c': 1, 'svm_kernel': 'poly'}\n"
     ]
    },
    {
     "name": "stderr",
     "output_type": "stream",
     "text": [
      "\r",
      " 43%|████▎     | 280/648 [16:25<22:19,  3.64s/it]"
     ]
    },
    {
     "name": "stdout",
     "output_type": "stream",
     "text": [
      "iter: 279, train_score: 0.812077870480731, validation score: 0.034229828850855744, configuration: {'medoid_normalization': 'minmax', 'stop_words': 'english', 'svm_degree': 3, 'svm_gamma': 1.0, 'norm': 'l1', 'svm_c': 1, 'svm_kernel': 'poly'}\n"
     ]
    },
    {
     "name": "stderr",
     "output_type": "stream",
     "text": [
      "\r",
      " 43%|████▎     | 281/648 [16:27<20:19,  3.32s/it]"
     ]
    },
    {
     "name": "stdout",
     "output_type": "stream",
     "text": [
      "iter: 280, train_score: 0.14063472308649658, validation score: 0.0, configuration: {'medoid_normalization': 'minmax', 'stop_words': 'english', 'svm_degree': 4, 'svm_gamma': 0.1, 'norm': 'l1', 'svm_c': 1, 'svm_kernel': 'poly'}\n"
     ]
    },
    {
     "name": "stderr",
     "output_type": "stream",
     "text": [
      "\r",
      " 44%|████▎     | 282/648 [16:30<19:42,  3.23s/it]"
     ]
    },
    {
     "name": "stdout",
     "output_type": "stream",
     "text": [
      "iter: 281, train_score: 0.454216244180031, validation score: 0.011450381679389313, configuration: {'medoid_normalization': 'minmax', 'stop_words': 'english', 'svm_degree': 4, 'svm_gamma': 0.2, 'norm': 'l1', 'svm_c': 1, 'svm_kernel': 'poly'}\n"
     ]
    },
    {
     "name": "stderr",
     "output_type": "stream",
     "text": [
      "\r",
      " 44%|████▎     | 283/648 [16:34<21:02,  3.46s/it]"
     ]
    },
    {
     "name": "stdout",
     "output_type": "stream",
     "text": [
      "iter: 282, train_score: 0.9390070921985817, validation score: 0.040109389243391066, configuration: {'medoid_normalization': 'minmax', 'stop_words': 'english', 'svm_degree': 4, 'svm_gamma': 0.5, 'norm': 'l1', 'svm_c': 1, 'svm_kernel': 'poly'}\n"
     ]
    },
    {
     "name": "stderr",
     "output_type": "stream",
     "text": [
      "\r",
      " 44%|████▍     | 284/648 [16:40<25:02,  4.13s/it]"
     ]
    },
    {
     "name": "stdout",
     "output_type": "stream",
     "text": [
      "iter: 283, train_score: 0.9986595174262735, validation score: 0.03706563706563707, configuration: {'medoid_normalization': 'minmax', 'stop_words': 'english', 'svm_degree': 4, 'svm_gamma': 1.0, 'norm': 'l1', 'svm_c': 1, 'svm_kernel': 'poly'}\n"
     ]
    },
    {
     "name": "stderr",
     "output_type": "stream",
     "text": [
      "\r",
      " 44%|████▍     | 285/648 [16:43<22:47,  3.77s/it]"
     ]
    },
    {
     "name": "stdout",
     "output_type": "stream",
     "text": [
      "iter: 284, train_score: 0.23299822590183322, validation score: 0.007984031936127746, configuration: {'medoid_normalization': 'minmax', 'stop_words': 'english', 'svm_degree': 5, 'svm_gamma': 0.1, 'norm': 'l1', 'svm_c': 1, 'svm_kernel': 'poly'}\n"
     ]
    },
    {
     "name": "stderr",
     "output_type": "stream",
     "text": [
      "\r",
      " 44%|████▍     | 286/648 [16:46<22:08,  3.67s/it]"
     ]
    },
    {
     "name": "stdout",
     "output_type": "stream",
     "text": [
      "iter: 285, train_score: 0.6761187416925122, validation score: 0.01848998459167951, configuration: {'medoid_normalization': 'minmax', 'stop_words': 'english', 'svm_degree': 5, 'svm_gamma': 0.2, 'norm': 'l1', 'svm_c': 1, 'svm_kernel': 'poly'}\n"
     ]
    },
    {
     "name": "stderr",
     "output_type": "stream",
     "text": [
      "\r",
      " 44%|████▍     | 287/648 [16:52<25:43,  4.28s/it]"
     ]
    },
    {
     "name": "stdout",
     "output_type": "stream",
     "text": [
      "iter: 286, train_score: 0.9989949748743718, validation score: 0.052777777777777785, configuration: {'medoid_normalization': 'minmax', 'stop_words': 'english', 'svm_degree': 5, 'svm_gamma': 0.5, 'norm': 'l1', 'svm_c': 1, 'svm_kernel': 'poly'}\n"
     ]
    },
    {
     "name": "stderr",
     "output_type": "stream",
     "text": [
      "\r",
      " 44%|████▍     | 288/648 [16:59<29:43,  4.95s/it]"
     ]
    },
    {
     "name": "stdout",
     "output_type": "stream",
     "text": [
      "iter: 287, train_score: 1.0, validation score: 0.044628099173553724, configuration: {'medoid_normalization': 'minmax', 'stop_words': 'english', 'svm_degree': 5, 'svm_gamma': 1.0, 'norm': 'l1', 'svm_c': 1, 'svm_kernel': 'poly'}\n"
     ]
    },
    {
     "name": "stderr",
     "output_type": "stream",
     "text": [
      "\r",
      " 45%|████▍     | 289/648 [17:01<24:52,  4.16s/it]"
     ]
    },
    {
     "name": "stdout",
     "output_type": "stream",
     "text": [
      "iter: 288, train_score: 0.0, validation score: 0.0, configuration: {'medoid_normalization': 'minmax', 'stop_words': None, 'svm_degree': 3, 'svm_gamma': 0.1, 'norm': 'l2', 'svm_c': 0.01, 'svm_kernel': 'poly'}\n"
     ]
    },
    {
     "name": "stderr",
     "output_type": "stream",
     "text": [
      "\r",
      " 45%|████▍     | 290/648 [17:03<21:48,  3.66s/it]"
     ]
    },
    {
     "name": "stdout",
     "output_type": "stream",
     "text": [
      "iter: 289, train_score: 0.0013377926421404682, validation score: 0.0, configuration: {'medoid_normalization': 'minmax', 'stop_words': None, 'svm_degree': 3, 'svm_gamma': 0.2, 'norm': 'l2', 'svm_c': 0.01, 'svm_kernel': 'poly'}\n"
     ]
    },
    {
     "name": "stderr",
     "output_type": "stream",
     "text": [
      "\r",
      " 45%|████▍     | 291/648 [17:06<19:28,  3.27s/it]"
     ]
    },
    {
     "name": "stdout",
     "output_type": "stream",
     "text": [
      "iter: 290, train_score: 0.3636363636363636, validation score: 0.0, configuration: {'medoid_normalization': 'minmax', 'stop_words': None, 'svm_degree': 3, 'svm_gamma': 0.5, 'norm': 'l2', 'svm_c': 0.01, 'svm_kernel': 'poly'}\n"
     ]
    },
    {
     "name": "stderr",
     "output_type": "stream",
     "text": [
      "\r",
      " 45%|████▌     | 292/648 [17:08<18:21,  3.10s/it]"
     ]
    },
    {
     "name": "stdout",
     "output_type": "stream",
     "text": [
      "iter: 291, train_score: 0.3672131147540984, validation score: 0.0, configuration: {'medoid_normalization': 'minmax', 'stop_words': None, 'svm_degree': 3, 'svm_gamma': 1.0, 'norm': 'l2', 'svm_c': 0.01, 'svm_kernel': 'poly'}\n"
     ]
    },
    {
     "name": "stderr",
     "output_type": "stream",
     "text": [
      "\r",
      " 45%|████▌     | 293/648 [17:11<16:59,  2.87s/it]"
     ]
    },
    {
     "name": "stdout",
     "output_type": "stream",
     "text": [
      "iter: 292, train_score: 0.004008016032064128, validation score: 0.0, configuration: {'medoid_normalization': 'minmax', 'stop_words': None, 'svm_degree': 4, 'svm_gamma': 0.1, 'norm': 'l2', 'svm_c': 0.01, 'svm_kernel': 'poly'}\n"
     ]
    },
    {
     "name": "stderr",
     "output_type": "stream",
     "text": [
      "\r",
      " 45%|████▌     | 294/648 [17:13<16:35,  2.81s/it]"
     ]
    },
    {
     "name": "stdout",
     "output_type": "stream",
     "text": [
      "iter: 293, train_score: 0.3080407701019252, validation score: 0.0, configuration: {'medoid_normalization': 'minmax', 'stop_words': None, 'svm_degree': 4, 'svm_gamma': 0.2, 'norm': 'l2', 'svm_c': 0.01, 'svm_kernel': 'poly'}\n"
     ]
    },
    {
     "name": "stderr",
     "output_type": "stream",
     "text": [
      "\r",
      " 46%|████▌     | 295/648 [17:17<17:14,  2.93s/it]"
     ]
    },
    {
     "name": "stdout",
     "output_type": "stream",
     "text": [
      "iter: 294, train_score: 0.7048114434330298, validation score: 0.013377926421404686, configuration: {'medoid_normalization': 'minmax', 'stop_words': None, 'svm_degree': 4, 'svm_gamma': 0.5, 'norm': 'l2', 'svm_c': 0.01, 'svm_kernel': 'poly'}\n"
     ]
    },
    {
     "name": "stderr",
     "output_type": "stream",
     "text": [
      "\r",
      " 46%|████▌     | 296/648 [17:20<18:34,  3.17s/it]"
     ]
    },
    {
     "name": "stdout",
     "output_type": "stream",
     "text": [
      "iter: 295, train_score: 0.9791737794469102, validation score: 0.041404140414041404, configuration: {'medoid_normalization': 'minmax', 'stop_words': None, 'svm_degree': 4, 'svm_gamma': 1.0, 'norm': 'l2', 'svm_c': 0.01, 'svm_kernel': 'poly'}\n"
     ]
    },
    {
     "name": "stderr",
     "output_type": "stream",
     "text": [
      "\r",
      " 46%|████▌     | 297/648 [17:23<17:20,  2.96s/it]"
     ]
    },
    {
     "name": "stdout",
     "output_type": "stream",
     "text": [
      "iter: 296, train_score: 0.286697247706422, validation score: 0.0, configuration: {'medoid_normalization': 'minmax', 'stop_words': None, 'svm_degree': 5, 'svm_gamma': 0.1, 'norm': 'l2', 'svm_c': 0.01, 'svm_kernel': 'poly'}\n"
     ]
    },
    {
     "name": "stderr",
     "output_type": "stream",
     "text": [
      "\r",
      " 46%|████▌     | 298/648 [17:26<17:23,  2.98s/it]"
     ]
    },
    {
     "name": "stdout",
     "output_type": "stream",
     "text": [
      "iter: 297, train_score: 0.5119521912350598, validation score: 0.0, configuration: {'medoid_normalization': 'minmax', 'stop_words': None, 'svm_degree': 5, 'svm_gamma': 0.2, 'norm': 'l2', 'svm_c': 0.01, 'svm_kernel': 'poly'}\n"
     ]
    },
    {
     "name": "stderr",
     "output_type": "stream",
     "text": [
      "\r",
      " 46%|████▌     | 299/648 [17:30<19:27,  3.35s/it]"
     ]
    },
    {
     "name": "stdout",
     "output_type": "stream",
     "text": [
      "iter: 298, train_score: 0.9973154362416108, validation score: 0.03849679193400549, configuration: {'medoid_normalization': 'minmax', 'stop_words': None, 'svm_degree': 5, 'svm_gamma': 0.5, 'norm': 'l2', 'svm_c': 0.01, 'svm_kernel': 'poly'}\n"
     ]
    },
    {
     "name": "stderr",
     "output_type": "stream",
     "text": [
      "\r",
      " 46%|████▋     | 300/648 [17:34<20:28,  3.53s/it]"
     ]
    },
    {
     "name": "stdout",
     "output_type": "stream",
     "text": [
      "iter: 299, train_score: 1.0, validation score: 0.05882352941176471, configuration: {'medoid_normalization': 'minmax', 'stop_words': None, 'svm_degree': 5, 'svm_gamma': 1.0, 'norm': 'l2', 'svm_c': 0.01, 'svm_kernel': 'poly'}\n"
     ]
    },
    {
     "name": "stderr",
     "output_type": "stream",
     "text": [
      "\r",
      " 46%|████▋     | 301/648 [17:36<18:35,  3.21s/it]"
     ]
    },
    {
     "name": "stdout",
     "output_type": "stream",
     "text": [
      "iter: 300, train_score: 0.007999999999999998, validation score: 0.0, configuration: {'medoid_normalization': 'minmax', 'stop_words': None, 'svm_degree': 3, 'svm_gamma': 0.1, 'norm': 'l2', 'svm_c': 0.1, 'svm_kernel': 'poly'}\n"
     ]
    },
    {
     "name": "stderr",
     "output_type": "stream",
     "text": [
      "\r",
      " 47%|████▋     | 302/648 [17:39<17:18,  3.00s/it]"
     ]
    },
    {
     "name": "stdout",
     "output_type": "stream",
     "text": [
      "iter: 301, train_score: 0.3269876819708846, validation score: 0.0, configuration: {'medoid_normalization': 'minmax', 'stop_words': None, 'svm_degree': 3, 'svm_gamma': 0.2, 'norm': 'l2', 'svm_c': 0.1, 'svm_kernel': 'poly'}\n"
     ]
    },
    {
     "name": "stderr",
     "output_type": "stream",
     "text": [
      "\r",
      " 47%|████▋     | 303/648 [17:42<16:40,  2.90s/it]"
     ]
    },
    {
     "name": "stdout",
     "output_type": "stream",
     "text": [
      "iter: 302, train_score: 0.4637532133676092, validation score: 0.0, configuration: {'medoid_normalization': 'minmax', 'stop_words': None, 'svm_degree': 3, 'svm_gamma': 0.5, 'norm': 'l2', 'svm_c': 0.1, 'svm_kernel': 'poly'}\n"
     ]
    },
    {
     "name": "stderr",
     "output_type": "stream",
     "text": [
      "\r",
      " 47%|████▋     | 304/648 [17:45<17:25,  3.04s/it]"
     ]
    },
    {
     "name": "stdout",
     "output_type": "stream",
     "text": [
      "iter: 303, train_score: 0.8208366219415943, validation score: 0.013986013986013986, configuration: {'medoid_normalization': 'minmax', 'stop_words': None, 'svm_degree': 3, 'svm_gamma': 1.0, 'norm': 'l2', 'svm_c': 0.1, 'svm_kernel': 'poly'}\n"
     ]
    },
    {
     "name": "stderr",
     "output_type": "stream",
     "text": [
      "\r",
      " 47%|████▋     | 305/648 [17:47<16:15,  2.84s/it]"
     ]
    },
    {
     "name": "stdout",
     "output_type": "stream",
     "text": [
      "iter: 304, train_score: 0.3251121076233184, validation score: 0.0, configuration: {'medoid_normalization': 'minmax', 'stop_words': None, 'svm_degree': 4, 'svm_gamma': 0.1, 'norm': 'l2', 'svm_c': 0.1, 'svm_kernel': 'poly'}\n"
     ]
    },
    {
     "name": "stderr",
     "output_type": "stream",
     "text": [
      "\r",
      " 47%|████▋     | 306/648 [17:50<16:24,  2.88s/it]"
     ]
    },
    {
     "name": "stdout",
     "output_type": "stream",
     "text": [
      "iter: 305, train_score: 0.4190476190476191, validation score: 0.0, configuration: {'medoid_normalization': 'minmax', 'stop_words': None, 'svm_degree': 4, 'svm_gamma': 0.2, 'norm': 'l2', 'svm_c': 0.1, 'svm_kernel': 'poly'}\n"
     ]
    },
    {
     "name": "stderr",
     "output_type": "stream",
     "text": [
      "\r",
      " 47%|████▋     | 307/648 [17:54<17:34,  3.09s/it]"
     ]
    },
    {
     "name": "stdout",
     "output_type": "stream",
     "text": [
      "iter: 306, train_score: 0.9689440993788819, validation score: 0.02594810379241517, configuration: {'medoid_normalization': 'minmax', 'stop_words': None, 'svm_degree': 4, 'svm_gamma': 0.5, 'norm': 'l2', 'svm_c': 0.1, 'svm_kernel': 'poly'}\n"
     ]
    },
    {
     "name": "stderr",
     "output_type": "stream",
     "text": [
      "\r",
      " 48%|████▊     | 308/648 [17:58<19:31,  3.45s/it]"
     ]
    },
    {
     "name": "stdout",
     "output_type": "stream",
     "text": [
      "iter: 307, train_score: 1.0, validation score: 0.04847396768402155, configuration: {'medoid_normalization': 'minmax', 'stop_words': None, 'svm_degree': 4, 'svm_gamma': 1.0, 'norm': 'l2', 'svm_c': 0.1, 'svm_kernel': 'poly'}\n"
     ]
    },
    {
     "name": "stderr",
     "output_type": "stream",
     "text": [
      "\r",
      " 48%|████▊     | 309/648 [18:01<18:15,  3.23s/it]"
     ]
    },
    {
     "name": "stdout",
     "output_type": "stream",
     "text": [
      "iter: 308, train_score: 0.34734513274336287, validation score: 0.0, configuration: {'medoid_normalization': 'minmax', 'stop_words': None, 'svm_degree': 5, 'svm_gamma': 0.1, 'norm': 'l2', 'svm_c': 0.1, 'svm_kernel': 'poly'}\n"
     ]
    },
    {
     "name": "stderr",
     "output_type": "stream",
     "text": [
      "\r",
      " 48%|████▊     | 310/648 [18:04<18:10,  3.23s/it]"
     ]
    },
    {
     "name": "stdout",
     "output_type": "stream",
     "text": [
      "iter: 309, train_score: 0.9364120781527531, validation score: 0.025183630640083943, configuration: {'medoid_normalization': 'minmax', 'stop_words': None, 'svm_degree': 5, 'svm_gamma': 0.2, 'norm': 'l2', 'svm_c': 0.1, 'svm_kernel': 'poly'}\n"
     ]
    },
    {
     "name": "stderr",
     "output_type": "stream",
     "text": [
      "\r",
      " 48%|████▊     | 311/648 [18:08<19:15,  3.43s/it]"
     ]
    },
    {
     "name": "stdout",
     "output_type": "stream",
     "text": [
      "iter: 310, train_score: 1.0, validation score: 0.04263206672845227, configuration: {'medoid_normalization': 'minmax', 'stop_words': None, 'svm_degree': 5, 'svm_gamma': 0.5, 'norm': 'l2', 'svm_c': 0.1, 'svm_kernel': 'poly'}\n"
     ]
    },
    {
     "name": "stderr",
     "output_type": "stream",
     "text": [
      "\r",
      " 48%|████▊     | 312/648 [18:12<20:37,  3.68s/it]"
     ]
    },
    {
     "name": "stdout",
     "output_type": "stream",
     "text": [
      "iter: 311, train_score: 1.0, validation score: 0.06502636203866431, configuration: {'medoid_normalization': 'minmax', 'stop_words': None, 'svm_degree': 5, 'svm_gamma': 1.0, 'norm': 'l2', 'svm_c': 0.1, 'svm_kernel': 'poly'}\n"
     ]
    },
    {
     "name": "stderr",
     "output_type": "stream",
     "text": [
      "\r",
      " 48%|████▊     | 313/648 [18:15<18:38,  3.34s/it]"
     ]
    },
    {
     "name": "stdout",
     "output_type": "stream",
     "text": [
      "iter: 312, train_score: 0.34551495016611294, validation score: 0.0, configuration: {'medoid_normalization': 'minmax', 'stop_words': None, 'svm_degree': 3, 'svm_gamma': 0.1, 'norm': 'l2', 'svm_c': 1, 'svm_kernel': 'poly'}\n"
     ]
    },
    {
     "name": "stderr",
     "output_type": "stream",
     "text": [
      "\r",
      " 48%|████▊     | 314/648 [18:18<17:42,  3.18s/it]"
     ]
    },
    {
     "name": "stdout",
     "output_type": "stream",
     "text": [
      "iter: 313, train_score: 0.3796095444685466, validation score: 0.0, configuration: {'medoid_normalization': 'minmax', 'stop_words': None, 'svm_degree': 3, 'svm_gamma': 0.2, 'norm': 'l2', 'svm_c': 1, 'svm_kernel': 'poly'}\n"
     ]
    },
    {
     "name": "stderr",
     "output_type": "stream",
     "text": [
      "\r",
      " 49%|████▊     | 315/648 [18:21<17:54,  3.23s/it]"
     ]
    },
    {
     "name": "stdout",
     "output_type": "stream",
     "text": [
      "iter: 314, train_score: 0.8359953252824309, validation score: 0.028350515463917526, configuration: {'medoid_normalization': 'minmax', 'stop_words': None, 'svm_degree': 3, 'svm_gamma': 0.5, 'norm': 'l2', 'svm_c': 1, 'svm_kernel': 'poly'}\n"
     ]
    },
    {
     "name": "stderr",
     "output_type": "stream",
     "text": [
      "\r",
      " 49%|████▉     | 316/648 [18:25<19:08,  3.46s/it]"
     ]
    },
    {
     "name": "stdout",
     "output_type": "stream",
     "text": [
      "iter: 315, train_score: 0.9749742886527254, validation score: 0.029182879377431904, configuration: {'medoid_normalization': 'minmax', 'stop_words': None, 'svm_degree': 3, 'svm_gamma': 1.0, 'norm': 'l2', 'svm_c': 1, 'svm_kernel': 'poly'}\n"
     ]
    },
    {
     "name": "stderr",
     "output_type": "stream",
     "text": [
      "\r",
      " 49%|████▉     | 317/648 [18:28<18:14,  3.31s/it]"
     ]
    },
    {
     "name": "stdout",
     "output_type": "stream",
     "text": [
      "iter: 316, train_score: 0.34917127071823206, validation score: 0.0, configuration: {'medoid_normalization': 'minmax', 'stop_words': None, 'svm_degree': 4, 'svm_gamma': 0.1, 'norm': 'l2', 'svm_c': 1, 'svm_kernel': 'poly'}\n"
     ]
    },
    {
     "name": "stderr",
     "output_type": "stream",
     "text": [
      "\r",
      " 49%|████▉     | 318/648 [18:31<18:12,  3.31s/it]"
     ]
    },
    {
     "name": "stdout",
     "output_type": "stream",
     "text": [
      "iter: 317, train_score: 0.8780487804878049, validation score: 0.02937576499388005, configuration: {'medoid_normalization': 'minmax', 'stop_words': None, 'svm_degree': 4, 'svm_gamma': 0.2, 'norm': 'l2', 'svm_c': 1, 'svm_kernel': 'poly'}\n"
     ]
    },
    {
     "name": "stderr",
     "output_type": "stream",
     "text": [
      "\r",
      " 49%|████▉     | 319/648 [18:35<19:10,  3.50s/it]"
     ]
    },
    {
     "name": "stdout",
     "output_type": "stream",
     "text": [
      "iter: 318, train_score: 1.0, validation score: 0.03754266211604095, configuration: {'medoid_normalization': 'minmax', 'stop_words': None, 'svm_degree': 4, 'svm_gamma': 0.5, 'norm': 'l2', 'svm_c': 1, 'svm_kernel': 'poly'}\n"
     ]
    },
    {
     "name": "stderr",
     "output_type": "stream",
     "text": [
      "\r",
      " 49%|████▉     | 320/648 [18:41<22:11,  4.06s/it]"
     ]
    },
    {
     "name": "stdout",
     "output_type": "stream",
     "text": [
      "iter: 319, train_score: 1.0, validation score: 0.05177993527508091, configuration: {'medoid_normalization': 'minmax', 'stop_words': None, 'svm_degree': 4, 'svm_gamma': 1.0, 'norm': 'l2', 'svm_c': 1, 'svm_kernel': 'poly'}\n"
     ]
    },
    {
     "name": "stderr",
     "output_type": "stream",
     "text": [
      "\r",
      " 50%|████▉     | 321/648 [18:44<20:38,  3.79s/it]"
     ]
    },
    {
     "name": "stdout",
     "output_type": "stream",
     "text": [
      "iter: 320, train_score: 0.7899635774989883, validation score: 0.011412268188302425, configuration: {'medoid_normalization': 'minmax', 'stop_words': None, 'svm_degree': 5, 'svm_gamma': 0.1, 'norm': 'l2', 'svm_c': 1, 'svm_kernel': 'poly'}\n"
     ]
    },
    {
     "name": "stderr",
     "output_type": "stream",
     "text": [
      "\r",
      " 50%|████▉     | 322/648 [18:47<20:32,  3.78s/it]"
     ]
    },
    {
     "name": "stdout",
     "output_type": "stream",
     "text": [
      "iter: 321, train_score: 0.9989949748743718, validation score: 0.03636363636363637, configuration: {'medoid_normalization': 'minmax', 'stop_words': None, 'svm_degree': 5, 'svm_gamma': 0.2, 'norm': 'l2', 'svm_c': 1, 'svm_kernel': 'poly'}\n"
     ]
    },
    {
     "name": "stderr",
     "output_type": "stream",
     "text": [
      "\r",
      " 50%|████▉     | 323/648 [18:52<21:15,  3.92s/it]"
     ]
    },
    {
     "name": "stdout",
     "output_type": "stream",
     "text": [
      "iter: 322, train_score: 1.0, validation score: 0.06033717834960071, configuration: {'medoid_normalization': 'minmax', 'stop_words': None, 'svm_degree': 5, 'svm_gamma': 0.5, 'norm': 'l2', 'svm_c': 1, 'svm_kernel': 'poly'}\n"
     ]
    },
    {
     "name": "stderr",
     "output_type": "stream",
     "text": [
      "\r",
      " 50%|█████     | 324/648 [18:57<22:45,  4.21s/it]"
     ]
    },
    {
     "name": "stdout",
     "output_type": "stream",
     "text": [
      "iter: 323, train_score: 1.0, validation score: 0.04236540158870256, configuration: {'medoid_normalization': 'minmax', 'stop_words': None, 'svm_degree': 5, 'svm_gamma': 1.0, 'norm': 'l2', 'svm_c': 1, 'svm_kernel': 'poly'}\n"
     ]
    },
    {
     "name": "stderr",
     "output_type": "stream",
     "text": [
      "\r",
      " 50%|█████     | 325/648 [18:59<19:25,  3.61s/it]"
     ]
    },
    {
     "name": "stdout",
     "output_type": "stream",
     "text": [
      "iter: 324, train_score: 0.0, validation score: 0.0, configuration: {'medoid_normalization': 'minmax', 'stop_words': 'english', 'svm_degree': 3, 'svm_gamma': 0.1, 'norm': 'l2', 'svm_c': 0.01, 'svm_kernel': 'poly'}\n"
     ]
    },
    {
     "name": "stderr",
     "output_type": "stream",
     "text": [
      "\r",
      " 50%|█████     | 326/648 [19:01<16:54,  3.15s/it]"
     ]
    },
    {
     "name": "stdout",
     "output_type": "stream",
     "text": [
      "iter: 325, train_score: 0.10646387832699619, validation score: 0.0, configuration: {'medoid_normalization': 'minmax', 'stop_words': 'english', 'svm_degree': 3, 'svm_gamma': 0.2, 'norm': 'l2', 'svm_c': 0.01, 'svm_kernel': 'poly'}\n"
     ]
    },
    {
     "name": "stderr",
     "output_type": "stream",
     "text": [
      "\r",
      " 50%|█████     | 327/648 [19:03<15:09,  2.83s/it]"
     ]
    },
    {
     "name": "stdout",
     "output_type": "stream",
     "text": [
      "iter: 326, train_score: 0.3222908478382931, validation score: 0.0, configuration: {'medoid_normalization': 'minmax', 'stop_words': 'english', 'svm_degree': 3, 'svm_gamma': 0.5, 'norm': 'l2', 'svm_c': 0.01, 'svm_kernel': 'poly'}\n"
     ]
    },
    {
     "name": "stderr",
     "output_type": "stream",
     "text": [
      "\r",
      " 51%|█████     | 328/648 [19:05<14:06,  2.65s/it]"
     ]
    },
    {
     "name": "stdout",
     "output_type": "stream",
     "text": [
      "iter: 327, train_score: 0.3288590604026846, validation score: 0.0, configuration: {'medoid_normalization': 'minmax', 'stop_words': 'english', 'svm_degree': 3, 'svm_gamma': 1.0, 'norm': 'l2', 'svm_c': 0.01, 'svm_kernel': 'poly'}\n"
     ]
    },
    {
     "name": "stderr",
     "output_type": "stream",
     "text": [
      "\r",
      " 51%|█████     | 329/648 [19:07<13:06,  2.46s/it]"
     ]
    },
    {
     "name": "stdout",
     "output_type": "stream",
     "text": [
      "iter: 328, train_score: 0.1879927228623408, validation score: 0.0, configuration: {'medoid_normalization': 'minmax', 'stop_words': 'english', 'svm_degree': 4, 'svm_gamma': 0.1, 'norm': 'l2', 'svm_c': 0.01, 'svm_kernel': 'poly'}\n"
     ]
    },
    {
     "name": "stderr",
     "output_type": "stream",
     "text": [
      "\r",
      " 51%|█████     | 330/648 [19:09<12:26,  2.35s/it]"
     ]
    },
    {
     "name": "stdout",
     "output_type": "stream",
     "text": [
      "iter: 329, train_score: 0.3436807095343681, validation score: 0.0, configuration: {'medoid_normalization': 'minmax', 'stop_words': 'english', 'svm_degree': 4, 'svm_gamma': 0.2, 'norm': 'l2', 'svm_c': 0.01, 'svm_kernel': 'poly'}\n"
     ]
    },
    {
     "name": "stderr",
     "output_type": "stream",
     "text": [
      "\r",
      " 51%|█████     | 331/648 [19:12<12:23,  2.34s/it]"
     ]
    },
    {
     "name": "stdout",
     "output_type": "stream",
     "text": [
      "iter: 330, train_score: 0.43899895724713245, validation score: 0.028397565922920892, configuration: {'medoid_normalization': 'minmax', 'stop_words': 'english', 'svm_degree': 4, 'svm_gamma': 0.5, 'norm': 'l2', 'svm_c': 0.01, 'svm_kernel': 'poly'}\n"
     ]
    },
    {
     "name": "stderr",
     "output_type": "stream",
     "text": [
      "\r",
      " 51%|█████     | 332/648 [19:15<13:14,  2.51s/it]"
     ]
    },
    {
     "name": "stdout",
     "output_type": "stream",
     "text": [
      "iter: 331, train_score: 0.8920014743826021, validation score: 0.030115146147032774, configuration: {'medoid_normalization': 'minmax', 'stop_words': 'english', 'svm_degree': 4, 'svm_gamma': 1.0, 'norm': 'l2', 'svm_c': 0.01, 'svm_kernel': 'poly'}\n"
     ]
    },
    {
     "name": "stderr",
     "output_type": "stream",
     "text": [
      "\r",
      " 51%|█████▏    | 333/648 [19:17<12:30,  2.38s/it]"
     ]
    },
    {
     "name": "stdout",
     "output_type": "stream",
     "text": [
      "iter: 332, train_score: 0.3591433278418451, validation score: 0.0, configuration: {'medoid_normalization': 'minmax', 'stop_words': 'english', 'svm_degree': 5, 'svm_gamma': 0.1, 'norm': 'l2', 'svm_c': 0.01, 'svm_kernel': 'poly'}\n"
     ]
    },
    {
     "name": "stderr",
     "output_type": "stream",
     "text": [
      "\r",
      " 52%|█████▏    | 334/648 [19:19<12:26,  2.38s/it]"
     ]
    },
    {
     "name": "stdout",
     "output_type": "stream",
     "text": [
      "iter: 333, train_score: 0.3307262569832402, validation score: 0.0, configuration: {'medoid_normalization': 'minmax', 'stop_words': 'english', 'svm_degree': 5, 'svm_gamma': 0.2, 'norm': 'l2', 'svm_c': 0.01, 'svm_kernel': 'poly'}\n"
     ]
    },
    {
     "name": "stderr",
     "output_type": "stream",
     "text": [
      "\r",
      " 52%|█████▏    | 335/648 [19:22<13:56,  2.67s/it]"
     ]
    },
    {
     "name": "stdout",
     "output_type": "stream",
     "text": [
      "iter: 334, train_score: 0.9520811472542847, validation score: 0.04145077720207254, configuration: {'medoid_normalization': 'minmax', 'stop_words': 'english', 'svm_degree': 5, 'svm_gamma': 0.5, 'norm': 'l2', 'svm_c': 0.01, 'svm_kernel': 'poly'}\n"
     ]
    },
    {
     "name": "stderr",
     "output_type": "stream",
     "text": [
      "\r",
      " 52%|█████▏    | 336/648 [19:27<17:24,  3.35s/it]"
     ]
    },
    {
     "name": "stdout",
     "output_type": "stream",
     "text": [
      "iter: 335, train_score: 0.9490066225165564, validation score: 0.06354515050167225, configuration: {'medoid_normalization': 'minmax', 'stop_words': 'english', 'svm_degree': 5, 'svm_gamma': 1.0, 'norm': 'l2', 'svm_c': 0.01, 'svm_kernel': 'poly'}\n"
     ]
    },
    {
     "name": "stderr",
     "output_type": "stream",
     "text": [
      "\r",
      " 52%|█████▏    | 337/648 [19:29<15:21,  2.96s/it]"
     ]
    },
    {
     "name": "stdout",
     "output_type": "stream",
     "text": [
      "iter: 336, train_score: 0.1780487804878049, validation score: 0.0, configuration: {'medoid_normalization': 'minmax', 'stop_words': 'english', 'svm_degree': 3, 'svm_gamma': 0.1, 'norm': 'l2', 'svm_c': 0.1, 'svm_kernel': 'poly'}\n"
     ]
    },
    {
     "name": "stderr",
     "output_type": "stream",
     "text": [
      "\r",
      " 52%|█████▏    | 338/648 [19:32<14:08,  2.74s/it]"
     ]
    },
    {
     "name": "stdout",
     "output_type": "stream",
     "text": [
      "iter: 337, train_score: 0.2857142857142857, validation score: 0.0, configuration: {'medoid_normalization': 'minmax', 'stop_words': 'english', 'svm_degree': 3, 'svm_gamma': 0.2, 'norm': 'l2', 'svm_c': 0.1, 'svm_kernel': 'poly'}\n"
     ]
    },
    {
     "name": "stderr",
     "output_type": "stream",
     "text": [
      "\r",
      " 52%|█████▏    | 339/648 [19:34<13:18,  2.58s/it]"
     ]
    },
    {
     "name": "stdout",
     "output_type": "stream",
     "text": [
      "iter: 338, train_score: 0.39527389903329757, validation score: 0.0, configuration: {'medoid_normalization': 'minmax', 'stop_words': 'english', 'svm_degree': 3, 'svm_gamma': 0.5, 'norm': 'l2', 'svm_c': 0.1, 'svm_kernel': 'poly'}\n"
     ]
    },
    {
     "name": "stderr",
     "output_type": "stream",
     "text": [
      "\r",
      " 52%|█████▏    | 340/648 [19:36<13:05,  2.55s/it]"
     ]
    },
    {
     "name": "stdout",
     "output_type": "stream",
     "text": [
      "iter: 339, train_score: 0.483248730964467, validation score: 0.024096385542168672, configuration: {'medoid_normalization': 'minmax', 'stop_words': 'english', 'svm_degree': 3, 'svm_gamma': 1.0, 'norm': 'l2', 'svm_c': 0.1, 'svm_kernel': 'poly'}\n"
     ]
    },
    {
     "name": "stderr",
     "output_type": "stream",
     "text": [
      "\r",
      " 53%|█████▎    | 341/648 [19:38<12:23,  2.42s/it]"
     ]
    },
    {
     "name": "stdout",
     "output_type": "stream",
     "text": [
      "iter: 340, train_score: 0.34, validation score: 0.0, configuration: {'medoid_normalization': 'minmax', 'stop_words': 'english', 'svm_degree': 4, 'svm_gamma': 0.1, 'norm': 'l2', 'svm_c': 0.1, 'svm_kernel': 'poly'}\n"
     ]
    },
    {
     "name": "stderr",
     "output_type": "stream",
     "text": [
      "\r",
      " 53%|█████▎    | 342/648 [19:41<12:02,  2.36s/it]"
     ]
    },
    {
     "name": "stdout",
     "output_type": "stream",
     "text": [
      "iter: 341, train_score: 0.3553355335533553, validation score: 0.0, configuration: {'medoid_normalization': 'minmax', 'stop_words': 'english', 'svm_degree': 4, 'svm_gamma': 0.2, 'norm': 'l2', 'svm_c': 0.1, 'svm_kernel': 'poly'}\n"
     ]
    },
    {
     "name": "stderr",
     "output_type": "stream",
     "text": [
      "\r",
      " 53%|█████▎    | 343/648 [19:44<12:59,  2.56s/it]"
     ]
    },
    {
     "name": "stdout",
     "output_type": "stream",
     "text": [
      "iter: 342, train_score: 0.8182893180922349, validation score: 0.038461538461538464, configuration: {'medoid_normalization': 'minmax', 'stop_words': 'english', 'svm_degree': 4, 'svm_gamma': 0.5, 'norm': 'l2', 'svm_c': 0.1, 'svm_kernel': 'poly'}\n"
     ]
    },
    {
     "name": "stderr",
     "output_type": "stream",
     "text": [
      "\r",
      " 53%|█████▎    | 344/648 [19:48<15:29,  3.06s/it]"
     ]
    },
    {
     "name": "stdout",
     "output_type": "stream",
     "text": [
      "iter: 343, train_score: 0.9728801922416752, validation score: 0.036330608537693, configuration: {'medoid_normalization': 'minmax', 'stop_words': 'english', 'svm_degree': 4, 'svm_gamma': 1.0, 'norm': 'l2', 'svm_c': 0.1, 'svm_kernel': 'poly'}\n"
     ]
    },
    {
     "name": "stderr",
     "output_type": "stream",
     "text": [
      "\r",
      " 53%|█████▎    | 345/648 [19:50<14:19,  2.84s/it]"
     ]
    },
    {
     "name": "stdout",
     "output_type": "stream",
     "text": [
      "iter: 344, train_score: 0.34917127071823206, validation score: 0.0, configuration: {'medoid_normalization': 'minmax', 'stop_words': 'english', 'svm_degree': 5, 'svm_gamma': 0.1, 'norm': 'l2', 'svm_c': 0.1, 'svm_kernel': 'poly'}\n"
     ]
    },
    {
     "name": "stderr",
     "output_type": "stream",
     "text": [
      "\r",
      " 53%|█████▎    | 346/648 [19:53<13:53,  2.76s/it]"
     ]
    },
    {
     "name": "stdout",
     "output_type": "stream",
     "text": [
      "iter: 345, train_score: 0.7360876897133221, validation score: 0.009104704097116842, configuration: {'medoid_normalization': 'minmax', 'stop_words': 'english', 'svm_degree': 5, 'svm_gamma': 0.2, 'norm': 'l2', 'svm_c': 0.1, 'svm_kernel': 'poly'}\n"
     ]
    },
    {
     "name": "stderr",
     "output_type": "stream",
     "text": [
      "\r",
      " 54%|█████▎    | 347/648 [20:00<20:47,  4.15s/it]"
     ]
    },
    {
     "name": "stdout",
     "output_type": "stream",
     "text": [
      "iter: 346, train_score: 0.9669142471303174, validation score: 0.03817427385892116, configuration: {'medoid_normalization': 'minmax', 'stop_words': 'english', 'svm_degree': 5, 'svm_gamma': 0.5, 'norm': 'l2', 'svm_c': 0.1, 'svm_kernel': 'poly'}\n"
     ]
    },
    {
     "name": "stderr",
     "output_type": "stream",
     "text": [
      "\r",
      " 54%|█████▎    | 348/648 [20:05<22:32,  4.51s/it]"
     ]
    },
    {
     "name": "stdout",
     "output_type": "stream",
     "text": [
      "iter: 347, train_score: 0.8879009209272785, validation score: 0.03412462908011869, configuration: {'medoid_normalization': 'minmax', 'stop_words': 'english', 'svm_degree': 5, 'svm_gamma': 1.0, 'norm': 'l2', 'svm_c': 0.1, 'svm_kernel': 'poly'}\n"
     ]
    },
    {
     "name": "stderr",
     "output_type": "stream",
     "text": [
      "\r",
      " 54%|█████▍    | 349/648 [20:08<19:21,  3.88s/it]"
     ]
    },
    {
     "name": "stdout",
     "output_type": "stream",
     "text": [
      "iter: 348, train_score: 0.3307262569832402, validation score: 0.0, configuration: {'medoid_normalization': 'minmax', 'stop_words': 'english', 'svm_degree': 3, 'svm_gamma': 0.1, 'norm': 'l2', 'svm_c': 1, 'svm_kernel': 'poly'}\n"
     ]
    },
    {
     "name": "stderr",
     "output_type": "stream",
     "text": [
      "\r",
      " 54%|█████▍    | 350/648 [20:10<17:06,  3.45s/it]"
     ]
    },
    {
     "name": "stdout",
     "output_type": "stream",
     "text": [
      "iter: 349, train_score: 0.36632039365773644, validation score: 0.0, configuration: {'medoid_normalization': 'minmax', 'stop_words': 'english', 'svm_degree': 3, 'svm_gamma': 0.2, 'norm': 'l2', 'svm_c': 1, 'svm_kernel': 'poly'}\n"
     ]
    },
    {
     "name": "stderr",
     "output_type": "stream",
     "text": [
      "\r",
      " 54%|█████▍    | 351/648 [20:13<16:18,  3.29s/it]"
     ]
    },
    {
     "name": "stdout",
     "output_type": "stream",
     "text": [
      "iter: 350, train_score: 0.4977375565610859, validation score: 0.0, configuration: {'medoid_normalization': 'minmax', 'stop_words': 'english', 'svm_degree': 3, 'svm_gamma': 0.5, 'norm': 'l2', 'svm_c': 1, 'svm_kernel': 'poly'}\n"
     ]
    },
    {
     "name": "stderr",
     "output_type": "stream",
     "text": [
      "\r",
      " 54%|█████▍    | 352/648 [20:17<16:23,  3.32s/it]"
     ]
    },
    {
     "name": "stdout",
     "output_type": "stream",
     "text": [
      "iter: 351, train_score: 0.859101294744859, validation score: 0.029258098223615463, configuration: {'medoid_normalization': 'minmax', 'stop_words': 'english', 'svm_degree': 3, 'svm_gamma': 1.0, 'norm': 'l2', 'svm_c': 1, 'svm_kernel': 'poly'}\n"
     ]
    },
    {
     "name": "stderr",
     "output_type": "stream",
     "text": [
      "\r",
      " 54%|█████▍    | 353/648 [20:19<15:27,  3.14s/it]"
     ]
    },
    {
     "name": "stdout",
     "output_type": "stream",
     "text": [
      "iter: 352, train_score: 0.3600439077936334, validation score: 0.004264392324093817, configuration: {'medoid_normalization': 'minmax', 'stop_words': 'english', 'svm_degree': 4, 'svm_gamma': 0.1, 'norm': 'l2', 'svm_c': 1, 'svm_kernel': 'poly'}\n"
     ]
    },
    {
     "name": "stderr",
     "output_type": "stream",
     "text": [
      "\r",
      " 55%|█████▍    | 354/648 [20:22<14:47,  3.02s/it]"
     ]
    },
    {
     "name": "stdout",
     "output_type": "stream",
     "text": [
      "iter: 353, train_score: 0.7244027303754266, validation score: 0.015479876160990712, configuration: {'medoid_normalization': 'minmax', 'stop_words': 'english', 'svm_degree': 4, 'svm_gamma': 0.2, 'norm': 'l2', 'svm_c': 1, 'svm_kernel': 'poly'}\n"
     ]
    },
    {
     "name": "stderr",
     "output_type": "stream",
     "text": [
      "\r",
      " 55%|█████▍    | 355/648 [20:26<16:34,  3.39s/it]"
     ]
    },
    {
     "name": "stdout",
     "output_type": "stream",
     "text": [
      "iter: 354, train_score: 0.9696760854583046, validation score: 0.03629764065335753, configuration: {'medoid_normalization': 'minmax', 'stop_words': 'english', 'svm_degree': 4, 'svm_gamma': 0.5, 'norm': 'l2', 'svm_c': 1, 'svm_kernel': 'poly'}\n"
     ]
    },
    {
     "name": "stderr",
     "output_type": "stream",
     "text": [
      "\r",
      " 55%|█████▍    | 356/648 [20:34<23:19,  4.79s/it]"
     ]
    },
    {
     "name": "stdout",
     "output_type": "stream",
     "text": [
      "iter: 355, train_score: 0.9421813403416557, validation score: 0.035955056179775284, configuration: {'medoid_normalization': 'minmax', 'stop_words': 'english', 'svm_degree': 4, 'svm_gamma': 1.0, 'norm': 'l2', 'svm_c': 1, 'svm_kernel': 'poly'}\n"
     ]
    },
    {
     "name": "stderr",
     "output_type": "stream",
     "text": [
      "\r",
      " 55%|█████▌    | 357/648 [20:37<19:59,  4.12s/it]"
     ]
    },
    {
     "name": "stdout",
     "output_type": "stream",
     "text": [
      "iter: 356, train_score: 0.5198019801980198, validation score: 0.015594541910331385, configuration: {'medoid_normalization': 'minmax', 'stop_words': 'english', 'svm_degree': 5, 'svm_gamma': 0.1, 'norm': 'l2', 'svm_c': 1, 'svm_kernel': 'poly'}\n"
     ]
    },
    {
     "name": "stderr",
     "output_type": "stream",
     "text": [
      "\r",
      " 55%|█████▌    | 358/648 [20:41<19:14,  3.98s/it]"
     ]
    },
    {
     "name": "stdout",
     "output_type": "stream",
     "text": [
      "iter: 357, train_score: 0.951347567378369, validation score: 0.03629417382999045, configuration: {'medoid_normalization': 'minmax', 'stop_words': 'english', 'svm_degree': 5, 'svm_gamma': 0.2, 'norm': 'l2', 'svm_c': 1, 'svm_kernel': 'poly'}\n"
     ]
    },
    {
     "name": "stderr",
     "output_type": "stream",
     "text": [
      "\r",
      " 55%|█████▌    | 359/648 [21:01<43:15,  8.98s/it]"
     ]
    },
    {
     "name": "stdout",
     "output_type": "stream",
     "text": [
      "iter: 358, train_score: 0.8020064915904397, validation score: 0.04122137404580153, configuration: {'medoid_normalization': 'minmax', 'stop_words': 'english', 'svm_degree': 5, 'svm_gamma': 0.5, 'norm': 'l2', 'svm_c': 1, 'svm_kernel': 'poly'}\n"
     ]
    },
    {
     "name": "stderr",
     "output_type": "stream",
     "text": [
      "\r",
      " 56%|█████▌    | 360/648 [21:12<45:30,  9.48s/it]"
     ]
    },
    {
     "name": "stdout",
     "output_type": "stream",
     "text": [
      "iter: 359, train_score: 0.874921433060968, validation score: 0.0427715996578272, configuration: {'medoid_normalization': 'minmax', 'stop_words': 'english', 'svm_degree': 5, 'svm_gamma': 1.0, 'norm': 'l2', 'svm_c': 1, 'svm_kernel': 'poly'}\n"
     ]
    },
    {
     "name": "stderr",
     "output_type": "stream",
     "text": [
      "\r",
      " 56%|█████▌    | 361/648 [21:14<34:23,  7.19s/it]"
     ]
    },
    {
     "name": "stdout",
     "output_type": "stream",
     "text": [
      "iter: 360, train_score: 0.0, validation score: 0.0, configuration: {'medoid_normalization': 'minmax', 'stop_words': None, 'svm_degree': 3, 'svm_gamma': 0.1, 'norm': None, 'svm_c': 0.01, 'svm_kernel': 'poly'}\n"
     ]
    },
    {
     "name": "stderr",
     "output_type": "stream",
     "text": [
      "\r",
      " 56%|█████▌    | 362/648 [21:16<26:55,  5.65s/it]"
     ]
    },
    {
     "name": "stdout",
     "output_type": "stream",
     "text": [
      "iter: 361, train_score: 0.011976047904191616, validation score: 0.0, configuration: {'medoid_normalization': 'minmax', 'stop_words': None, 'svm_degree': 3, 'svm_gamma': 0.2, 'norm': None, 'svm_c': 0.01, 'svm_kernel': 'poly'}\n"
     ]
    },
    {
     "name": "stderr",
     "output_type": "stream",
     "text": [
      "\r",
      " 56%|█████▌    | 363/648 [21:18<21:58,  4.63s/it]"
     ]
    },
    {
     "name": "stdout",
     "output_type": "stream",
     "text": [
      "iter: 362, train_score: 0.017252820172528202, validation score: 0.0, configuration: {'medoid_normalization': 'minmax', 'stop_words': None, 'svm_degree': 3, 'svm_gamma': 0.5, 'norm': None, 'svm_c': 0.01, 'svm_kernel': 'poly'}\n"
     ]
    },
    {
     "name": "stderr",
     "output_type": "stream",
     "text": [
      "\r",
      " 56%|█████▌    | 364/648 [21:20<18:29,  3.91s/it]"
     ]
    },
    {
     "name": "stdout",
     "output_type": "stream",
     "text": [
      "iter: 363, train_score: 0.12075471698113208, validation score: 0.0, configuration: {'medoid_normalization': 'minmax', 'stop_words': None, 'svm_degree': 3, 'svm_gamma': 1.0, 'norm': None, 'svm_c': 0.01, 'svm_kernel': 'poly'}\n"
     ]
    },
    {
     "name": "stderr",
     "output_type": "stream",
     "text": [
      "\r",
      " 56%|█████▋    | 365/648 [21:22<15:51,  3.36s/it]"
     ]
    },
    {
     "name": "stdout",
     "output_type": "stream",
     "text": [
      "iter: 364, train_score: 0.011976047904191616, validation score: 0.0, configuration: {'medoid_normalization': 'minmax', 'stop_words': None, 'svm_degree': 4, 'svm_gamma': 0.1, 'norm': None, 'svm_c': 0.01, 'svm_kernel': 'poly'}\n"
     ]
    },
    {
     "name": "stderr",
     "output_type": "stream",
     "text": [
      "\r",
      " 56%|█████▋    | 366/648 [21:25<14:05,  3.00s/it]"
     ]
    },
    {
     "name": "stdout",
     "output_type": "stream",
     "text": [
      "iter: 365, train_score: 0.0013377926421404682, validation score: 0.0, configuration: {'medoid_normalization': 'minmax', 'stop_words': None, 'svm_degree': 4, 'svm_gamma': 0.2, 'norm': None, 'svm_c': 0.01, 'svm_kernel': 'poly'}\n"
     ]
    },
    {
     "name": "stderr",
     "output_type": "stream",
     "text": [
      "\r",
      " 57%|█████▋    | 367/648 [21:27<13:01,  2.78s/it]"
     ]
    },
    {
     "name": "stdout",
     "output_type": "stream",
     "text": [
      "iter: 366, train_score: 0.11244472520530636, validation score: 0.0, configuration: {'medoid_normalization': 'minmax', 'stop_words': None, 'svm_degree': 4, 'svm_gamma': 0.5, 'norm': None, 'svm_c': 0.01, 'svm_kernel': 'poly'}\n"
     ]
    },
    {
     "name": "stderr",
     "output_type": "stream",
     "text": [
      "\r",
      " 57%|█████▋    | 368/648 [21:29<12:29,  2.68s/it]"
     ]
    },
    {
     "name": "stdout",
     "output_type": "stream",
     "text": [
      "iter: 367, train_score: 0.37254901960784315, validation score: 0.012371134020618556, configuration: {'medoid_normalization': 'minmax', 'stop_words': None, 'svm_degree': 4, 'svm_gamma': 1.0, 'norm': None, 'svm_c': 0.01, 'svm_kernel': 'poly'}\n"
     ]
    },
    {
     "name": "stderr",
     "output_type": "stream",
     "text": [
      "\r",
      " 57%|█████▋    | 369/648 [21:31<11:40,  2.51s/it]"
     ]
    },
    {
     "name": "stdout",
     "output_type": "stream",
     "text": [
      "iter: 368, train_score: 0.01329787234042553, validation score: 0.0, configuration: {'medoid_normalization': 'minmax', 'stop_words': None, 'svm_degree': 5, 'svm_gamma': 0.1, 'norm': None, 'svm_c': 0.01, 'svm_kernel': 'poly'}\n"
     ]
    },
    {
     "name": "stderr",
     "output_type": "stream",
     "text": [
      "\r",
      " 57%|█████▋    | 370/648 [21:34<11:12,  2.42s/it]"
     ]
    },
    {
     "name": "stdout",
     "output_type": "stream",
     "text": [
      "iter: 369, train_score: 0.047058823529411764, validation score: 0.0, configuration: {'medoid_normalization': 'minmax', 'stop_words': None, 'svm_degree': 5, 'svm_gamma': 0.2, 'norm': None, 'svm_c': 0.01, 'svm_kernel': 'poly'}\n"
     ]
    },
    {
     "name": "stderr",
     "output_type": "stream",
     "text": [
      "\r",
      " 57%|█████▋    | 371/648 [21:36<11:27,  2.48s/it]"
     ]
    },
    {
     "name": "stdout",
     "output_type": "stream",
     "text": [
      "iter: 370, train_score: 0.2925714285714286, validation score: 0.0, configuration: {'medoid_normalization': 'minmax', 'stop_words': None, 'svm_degree': 5, 'svm_gamma': 0.5, 'norm': None, 'svm_c': 0.01, 'svm_kernel': 'poly'}\n"
     ]
    },
    {
     "name": "stderr",
     "output_type": "stream",
     "text": [
      "\r",
      " 57%|█████▋    | 372/648 [21:39<12:22,  2.69s/it]"
     ]
    },
    {
     "name": "stdout",
     "output_type": "stream",
     "text": [
      "iter: 371, train_score: 0.7647788342290203, validation score: 0.023333333333333334, configuration: {'medoid_normalization': 'minmax', 'stop_words': None, 'svm_degree': 5, 'svm_gamma': 1.0, 'norm': None, 'svm_c': 0.01, 'svm_kernel': 'poly'}\n"
     ]
    },
    {
     "name": "stderr",
     "output_type": "stream",
     "text": [
      "\r",
      " 58%|█████▊    | 373/648 [21:42<11:34,  2.52s/it]"
     ]
    },
    {
     "name": "stdout",
     "output_type": "stream",
     "text": [
      "iter: 372, train_score: 0.011976047904191616, validation score: 0.0, configuration: {'medoid_normalization': 'minmax', 'stop_words': None, 'svm_degree': 3, 'svm_gamma': 0.1, 'norm': None, 'svm_c': 0.1, 'svm_kernel': 'poly'}\n"
     ]
    },
    {
     "name": "stderr",
     "output_type": "stream",
     "text": [
      "\r",
      " 58%|█████▊    | 374/648 [21:44<11:11,  2.45s/it]"
     ]
    },
    {
     "name": "stdout",
     "output_type": "stream",
     "text": [
      "iter: 373, train_score: 0.007999999999999998, validation score: 0.0, configuration: {'medoid_normalization': 'minmax', 'stop_words': None, 'svm_degree': 3, 'svm_gamma': 0.2, 'norm': None, 'svm_c': 0.1, 'svm_kernel': 'poly'}\n"
     ]
    },
    {
     "name": "stderr",
     "output_type": "stream",
     "text": [
      "\r",
      " 58%|█████▊    | 375/648 [21:46<11:16,  2.48s/it]"
     ]
    },
    {
     "name": "stdout",
     "output_type": "stream",
     "text": [
      "iter: 374, train_score: 0.10526315789473684, validation score: 0.0, configuration: {'medoid_normalization': 'minmax', 'stop_words': None, 'svm_degree': 3, 'svm_gamma': 0.5, 'norm': None, 'svm_c': 0.1, 'svm_kernel': 'poly'}\n"
     ]
    },
    {
     "name": "stderr",
     "output_type": "stream",
     "text": [
      "\r",
      " 58%|█████▊    | 376/648 [21:49<11:13,  2.47s/it]"
     ]
    },
    {
     "name": "stdout",
     "output_type": "stream",
     "text": [
      "iter: 375, train_score: 0.3591433278418451, validation score: 0.0, configuration: {'medoid_normalization': 'minmax', 'stop_words': None, 'svm_degree': 3, 'svm_gamma': 1.0, 'norm': None, 'svm_c': 0.1, 'svm_kernel': 'poly'}\n"
     ]
    },
    {
     "name": "stderr",
     "output_type": "stream",
     "text": [
      "\r",
      " 58%|█████▊    | 377/648 [21:51<10:37,  2.35s/it]"
     ]
    },
    {
     "name": "stdout",
     "output_type": "stream",
     "text": [
      "iter: 376, train_score: 0.011976047904191616, validation score: 0.0, configuration: {'medoid_normalization': 'minmax', 'stop_words': None, 'svm_degree': 4, 'svm_gamma': 0.1, 'norm': None, 'svm_c': 0.1, 'svm_kernel': 'poly'}\n"
     ]
    },
    {
     "name": "stderr",
     "output_type": "stream",
     "text": [
      "\r",
      " 58%|█████▊    | 378/648 [21:53<10:33,  2.35s/it]"
     ]
    },
    {
     "name": "stdout",
     "output_type": "stream",
     "text": [
      "iter: 377, train_score: 0.047058823529411764, validation score: 0.0, configuration: {'medoid_normalization': 'minmax', 'stop_words': None, 'svm_degree': 4, 'svm_gamma': 0.2, 'norm': None, 'svm_c': 0.1, 'svm_kernel': 'poly'}\n"
     ]
    },
    {
     "name": "stderr",
     "output_type": "stream",
     "text": [
      "\r",
      " 58%|█████▊    | 379/648 [21:56<11:18,  2.52s/it]"
     ]
    },
    {
     "name": "stdout",
     "output_type": "stream",
     "text": [
      "iter: 378, train_score: 0.3269876819708846, validation score: 0.0042194092827004225, configuration: {'medoid_normalization': 'minmax', 'stop_words': None, 'svm_degree': 4, 'svm_gamma': 0.5, 'norm': None, 'svm_c': 0.1, 'svm_kernel': 'poly'}\n"
     ]
    },
    {
     "name": "stderr",
     "output_type": "stream",
     "text": [
      "\r",
      " 59%|█████▊    | 380/648 [21:59<11:57,  2.68s/it]"
     ]
    },
    {
     "name": "stdout",
     "output_type": "stream",
     "text": [
      "iter: 379, train_score: 0.6017781937295273, validation score: 0.015209125475285174, configuration: {'medoid_normalization': 'minmax', 'stop_words': None, 'svm_degree': 4, 'svm_gamma': 1.0, 'norm': None, 'svm_c': 0.1, 'svm_kernel': 'poly'}\n"
     ]
    },
    {
     "name": "stderr",
     "output_type": "stream",
     "text": [
      "\r",
      " 59%|█████▉    | 381/648 [22:01<11:09,  2.51s/it]"
     ]
    },
    {
     "name": "stdout",
     "output_type": "stream",
     "text": [
      "iter: 380, train_score: 0.0419397116644823, validation score: 0.0, configuration: {'medoid_normalization': 'minmax', 'stop_words': None, 'svm_degree': 5, 'svm_gamma': 0.1, 'norm': None, 'svm_c': 0.1, 'svm_kernel': 'poly'}\n"
     ]
    },
    {
     "name": "stderr",
     "output_type": "stream",
     "text": [
      "\r",
      " 59%|█████▉    | 382/648 [22:04<10:56,  2.47s/it]"
     ]
    },
    {
     "name": "stdout",
     "output_type": "stream",
     "text": [
      "iter: 381, train_score: 0.09317166560306318, validation score: 0.0, configuration: {'medoid_normalization': 'minmax', 'stop_words': None, 'svm_degree': 5, 'svm_gamma': 0.2, 'norm': None, 'svm_c': 0.1, 'svm_kernel': 'poly'}\n"
     ]
    },
    {
     "name": "stderr",
     "output_type": "stream",
     "text": [
      "\r",
      " 59%|█████▉    | 383/648 [22:06<11:08,  2.52s/it]"
     ]
    },
    {
     "name": "stdout",
     "output_type": "stream",
     "text": [
      "iter: 382, train_score: 0.5872340425531914, validation score: 0.015325670498084292, configuration: {'medoid_normalization': 'minmax', 'stop_words': None, 'svm_degree': 5, 'svm_gamma': 0.5, 'norm': None, 'svm_c': 0.1, 'svm_kernel': 'poly'}\n"
     ]
    },
    {
     "name": "stderr",
     "output_type": "stream",
     "text": [
      "\r",
      " 59%|█████▉    | 384/648 [22:10<12:52,  2.93s/it]"
     ]
    },
    {
     "name": "stdout",
     "output_type": "stream",
     "text": [
      "iter: 383, train_score: 0.9279311581211903, validation score: 0.040047114252061256, configuration: {'medoid_normalization': 'minmax', 'stop_words': None, 'svm_degree': 5, 'svm_gamma': 1.0, 'norm': None, 'svm_c': 0.1, 'svm_kernel': 'poly'}\n"
     ]
    },
    {
     "name": "stderr",
     "output_type": "stream",
     "text": [
      "\r",
      " 59%|█████▉    | 385/648 [22:13<12:08,  2.77s/it]"
     ]
    },
    {
     "name": "stdout",
     "output_type": "stream",
     "text": [
      "iter: 384, train_score: 0.00267379679144385, validation score: 0.0, configuration: {'medoid_normalization': 'minmax', 'stop_words': None, 'svm_degree': 3, 'svm_gamma': 0.1, 'norm': None, 'svm_c': 1, 'svm_kernel': 'poly'}\n"
     ]
    },
    {
     "name": "stderr",
     "output_type": "stream",
     "text": [
      "\r",
      " 60%|█████▉    | 386/648 [22:15<11:32,  2.64s/it]"
     ]
    },
    {
     "name": "stdout",
     "output_type": "stream",
     "text": [
      "iter: 385, train_score: 0.09438775510204082, validation score: 0.0, configuration: {'medoid_normalization': 'minmax', 'stop_words': None, 'svm_degree': 3, 'svm_gamma': 0.2, 'norm': None, 'svm_c': 1, 'svm_kernel': 'poly'}\n"
     ]
    },
    {
     "name": "stderr",
     "output_type": "stream",
     "text": [
      "\r",
      " 60%|█████▉    | 387/648 [22:17<11:18,  2.60s/it]"
     ]
    },
    {
     "name": "stdout",
     "output_type": "stream",
     "text": [
      "iter: 386, train_score: 0.3436807095343681, validation score: 0.012658227848101266, configuration: {'medoid_normalization': 'minmax', 'stop_words': None, 'svm_degree': 3, 'svm_gamma': 0.5, 'norm': None, 'svm_c': 1, 'svm_kernel': 'poly'}\n"
     ]
    },
    {
     "name": "stderr",
     "output_type": "stream",
     "text": [
      "\r",
      " 60%|█████▉    | 388/648 [22:20<11:24,  2.63s/it]"
     ]
    },
    {
     "name": "stdout",
     "output_type": "stream",
     "text": [
      "iter: 387, train_score: 0.5710186513629841, validation score: 0.007889546351084813, configuration: {'medoid_normalization': 'minmax', 'stop_words': None, 'svm_degree': 3, 'svm_gamma': 1.0, 'norm': None, 'svm_c': 1, 'svm_kernel': 'poly'}\n"
     ]
    },
    {
     "name": "stderr",
     "output_type": "stream",
     "text": [
      "\r",
      " 60%|██████    | 389/648 [22:22<10:58,  2.54s/it]"
     ]
    },
    {
     "name": "stdout",
     "output_type": "stream",
     "text": [
      "iter: 388, train_score: 0.043222003929273084, validation score: 0.0, configuration: {'medoid_normalization': 'minmax', 'stop_words': None, 'svm_degree': 4, 'svm_gamma': 0.1, 'norm': None, 'svm_c': 1, 'svm_kernel': 'poly'}\n"
     ]
    },
    {
     "name": "stderr",
     "output_type": "stream",
     "text": [
      "\r",
      " 60%|██████    | 390/648 [22:25<10:51,  2.53s/it]"
     ]
    },
    {
     "name": "stdout",
     "output_type": "stream",
     "text": [
      "iter: 389, train_score: 0.15782983970406905, validation score: 0.0, configuration: {'medoid_normalization': 'minmax', 'stop_words': None, 'svm_degree': 4, 'svm_gamma': 0.2, 'norm': None, 'svm_c': 1, 'svm_kernel': 'poly'}\n"
     ]
    },
    {
     "name": "stderr",
     "output_type": "stream",
     "text": [
      "\r",
      " 60%|██████    | 391/648 [22:28<11:02,  2.58s/it]"
     ]
    },
    {
     "name": "stdout",
     "output_type": "stream",
     "text": [
      "iter: 390, train_score: 0.5565217391304349, validation score: 0.004008016032064129, configuration: {'medoid_normalization': 'minmax', 'stop_words': None, 'svm_degree': 4, 'svm_gamma': 0.5, 'norm': None, 'svm_c': 1, 'svm_kernel': 'poly'}\n"
     ]
    },
    {
     "name": "stderr",
     "output_type": "stream",
     "text": [
      "\r",
      " 60%|██████    | 392/648 [22:31<12:09,  2.85s/it]"
     ]
    },
    {
     "name": "stdout",
     "output_type": "stream",
     "text": [
      "iter: 391, train_score: 0.926829268292683, validation score: 0.04141291108404385, configuration: {'medoid_normalization': 'minmax', 'stop_words': None, 'svm_degree': 4, 'svm_gamma': 1.0, 'norm': None, 'svm_c': 1, 'svm_kernel': 'poly'}\n"
     ]
    },
    {
     "name": "stderr",
     "output_type": "stream",
     "text": [
      "\r",
      " 61%|██████    | 393/648 [22:33<11:16,  2.65s/it]"
     ]
    },
    {
     "name": "stdout",
     "output_type": "stream",
     "text": [
      "iter: 392, train_score: 0.06601941747572816, validation score: 0.0, configuration: {'medoid_normalization': 'minmax', 'stop_words': None, 'svm_degree': 5, 'svm_gamma': 0.1, 'norm': None, 'svm_c': 1, 'svm_kernel': 'poly'}\n"
     ]
    },
    {
     "name": "stderr",
     "output_type": "stream",
     "text": [
      "\r",
      " 61%|██████    | 394/648 [22:36<11:00,  2.60s/it]"
     ]
    },
    {
     "name": "stdout",
     "output_type": "stream",
     "text": [
      "iter: 393, train_score: 0.34734513274336287, validation score: 0.012474012474012473, configuration: {'medoid_normalization': 'minmax', 'stop_words': None, 'svm_degree': 5, 'svm_gamma': 0.2, 'norm': None, 'svm_c': 1, 'svm_kernel': 'poly'}\n"
     ]
    },
    {
     "name": "stderr",
     "output_type": "stream",
     "text": [
      "\r",
      " 61%|██████    | 395/648 [22:39<11:37,  2.76s/it]"
     ]
    },
    {
     "name": "stdout",
     "output_type": "stream",
     "text": [
      "iter: 394, train_score: 0.9, validation score: 0.024357239512855212, configuration: {'medoid_normalization': 'minmax', 'stop_words': None, 'svm_degree': 5, 'svm_gamma': 0.5, 'norm': None, 'svm_c': 1, 'svm_kernel': 'poly'}\n"
     ]
    },
    {
     "name": "stderr",
     "output_type": "stream",
     "text": [
      "\r",
      " 61%|██████    | 396/648 [22:43<12:40,  3.02s/it]"
     ]
    },
    {
     "name": "stdout",
     "output_type": "stream",
     "text": [
      "iter: 395, train_score: 1.0, validation score: 0.043795620437956206, configuration: {'medoid_normalization': 'minmax', 'stop_words': None, 'svm_degree': 5, 'svm_gamma': 1.0, 'norm': None, 'svm_c': 1, 'svm_kernel': 'poly'}\n"
     ]
    },
    {
     "name": "stderr",
     "output_type": "stream",
     "text": [
      "\r",
      " 61%|██████▏   | 397/648 [22:45<11:28,  2.74s/it]"
     ]
    },
    {
     "name": "stdout",
     "output_type": "stream",
     "text": [
      "iter: 396, train_score: 0.0, validation score: 0.0, configuration: {'medoid_normalization': 'minmax', 'stop_words': 'english', 'svm_degree': 3, 'svm_gamma': 0.1, 'norm': None, 'svm_c': 0.01, 'svm_kernel': 'poly'}\n"
     ]
    },
    {
     "name": "stderr",
     "output_type": "stream",
     "text": [
      "\r",
      " 61%|██████▏   | 398/648 [22:47<10:41,  2.57s/it]"
     ]
    },
    {
     "name": "stdout",
     "output_type": "stream",
     "text": [
      "iter: 397, train_score: 0.0, validation score: 0.0, configuration: {'medoid_normalization': 'minmax', 'stop_words': 'english', 'svm_degree': 3, 'svm_gamma': 0.2, 'norm': None, 'svm_c': 0.01, 'svm_kernel': 'poly'}\n"
     ]
    },
    {
     "name": "stderr",
     "output_type": "stream",
     "text": [
      "\r",
      " 62%|██████▏   | 399/648 [22:49<10:26,  2.52s/it]"
     ]
    },
    {
     "name": "stdout",
     "output_type": "stream",
     "text": [
      "iter: 398, train_score: 0.011976047904191616, validation score: 0.0, configuration: {'medoid_normalization': 'minmax', 'stop_words': 'english', 'svm_degree': 3, 'svm_gamma': 0.5, 'norm': None, 'svm_c': 0.01, 'svm_kernel': 'poly'}\n"
     ]
    },
    {
     "name": "stderr",
     "output_type": "stream",
     "text": [
      "\r",
      " 62%|██████▏   | 400/648 [22:51<10:01,  2.43s/it]"
     ]
    },
    {
     "name": "stdout",
     "output_type": "stream",
     "text": [
      "iter: 399, train_score: 0.10886075949367088, validation score: 0.0, configuration: {'medoid_normalization': 'minmax', 'stop_words': 'english', 'svm_degree': 3, 'svm_gamma': 1.0, 'norm': None, 'svm_c': 0.01, 'svm_kernel': 'poly'}\n"
     ]
    },
    {
     "name": "stderr",
     "output_type": "stream",
     "text": [
      "\r",
      " 62%|██████▏   | 401/648 [22:53<09:28,  2.30s/it]"
     ]
    },
    {
     "name": "stdout",
     "output_type": "stream",
     "text": [
      "iter: 400, train_score: 0.011976047904191616, validation score: 0.0, configuration: {'medoid_normalization': 'minmax', 'stop_words': 'english', 'svm_degree': 4, 'svm_gamma': 0.1, 'norm': None, 'svm_c': 0.01, 'svm_kernel': 'poly'}\n"
     ]
    },
    {
     "name": "stderr",
     "output_type": "stream",
     "text": [
      "\r",
      " 62%|██████▏   | 402/648 [22:56<09:06,  2.22s/it]"
     ]
    },
    {
     "name": "stdout",
     "output_type": "stream",
     "text": [
      "iter: 401, train_score: 0.027722772277227723, validation score: 0.0, configuration: {'medoid_normalization': 'minmax', 'stop_words': 'english', 'svm_degree': 4, 'svm_gamma': 0.2, 'norm': None, 'svm_c': 0.01, 'svm_kernel': 'poly'}\n"
     ]
    },
    {
     "name": "stderr",
     "output_type": "stream",
     "text": [
      "\r",
      " 62%|██████▏   | 403/648 [22:58<09:12,  2.26s/it]"
     ]
    },
    {
     "name": "stdout",
     "output_type": "stream",
     "text": [
      "iter: 402, train_score: 0.09195402298850576, validation score: 0.0, configuration: {'medoid_normalization': 'minmax', 'stop_words': 'english', 'svm_degree': 4, 'svm_gamma': 0.5, 'norm': None, 'svm_c': 0.01, 'svm_kernel': 'poly'}\n"
     ]
    },
    {
     "name": "stderr",
     "output_type": "stream",
     "text": [
      "\r",
      " 62%|██████▏   | 404/648 [23:00<09:36,  2.36s/it]"
     ]
    },
    {
     "name": "stdout",
     "output_type": "stream",
     "text": [
      "iter: 403, train_score: 0.3528114663726571, validation score: 0.0, configuration: {'medoid_normalization': 'minmax', 'stop_words': 'english', 'svm_degree': 4, 'svm_gamma': 1.0, 'norm': None, 'svm_c': 0.01, 'svm_kernel': 'poly'}\n"
     ]
    },
    {
     "name": "stderr",
     "output_type": "stream",
     "text": [
      "\r",
      " 62%|██████▎   | 405/648 [23:02<09:09,  2.26s/it]"
     ]
    },
    {
     "name": "stdout",
     "output_type": "stream",
     "text": [
      "iter: 404, train_score: 0.01329787234042553, validation score: 0.0, configuration: {'medoid_normalization': 'minmax', 'stop_words': 'english', 'svm_degree': 5, 'svm_gamma': 0.1, 'norm': None, 'svm_c': 0.01, 'svm_kernel': 'poly'}\n"
     ]
    },
    {
     "name": "stderr",
     "output_type": "stream",
     "text": [
      "\r",
      " 63%|██████▎   | 406/648 [23:05<09:06,  2.26s/it]"
     ]
    },
    {
     "name": "stdout",
     "output_type": "stream",
     "text": [
      "iter: 405, train_score: 0.07845659163987138, validation score: 0.0, configuration: {'medoid_normalization': 'minmax', 'stop_words': 'english', 'svm_degree': 5, 'svm_gamma': 0.2, 'norm': None, 'svm_c': 0.01, 'svm_kernel': 'poly'}\n"
     ]
    },
    {
     "name": "stderr",
     "output_type": "stream",
     "text": [
      "\r",
      " 63%|██████▎   | 407/648 [23:08<10:05,  2.51s/it]"
     ]
    },
    {
     "name": "stdout",
     "output_type": "stream",
     "text": [
      "iter: 406, train_score: 0.3222908478382931, validation score: 0.0, configuration: {'medoid_normalization': 'minmax', 'stop_words': 'english', 'svm_degree': 5, 'svm_gamma': 0.5, 'norm': None, 'svm_c': 0.01, 'svm_kernel': 'poly'}\n"
     ]
    },
    {
     "name": "stderr",
     "output_type": "stream",
     "text": [
      "\r",
      " 63%|██████▎   | 408/648 [23:11<11:18,  2.83s/it]"
     ]
    },
    {
     "name": "stdout",
     "output_type": "stream",
     "text": [
      "iter: 407, train_score: 0.7031249999999999, validation score: 0.045454545454545456, configuration: {'medoid_normalization': 'minmax', 'stop_words': 'english', 'svm_degree': 5, 'svm_gamma': 1.0, 'norm': None, 'svm_c': 0.01, 'svm_kernel': 'poly'}\n"
     ]
    },
    {
     "name": "stderr",
     "output_type": "stream",
     "text": [
      "\r",
      " 63%|██████▎   | 409/648 [23:13<10:22,  2.61s/it]"
     ]
    },
    {
     "name": "stdout",
     "output_type": "stream",
     "text": [
      "iter: 408, train_score: 0.0, validation score: 0.0, configuration: {'medoid_normalization': 'minmax', 'stop_words': 'english', 'svm_degree': 3, 'svm_gamma': 0.1, 'norm': None, 'svm_c': 0.1, 'svm_kernel': 'poly'}\n"
     ]
    },
    {
     "name": "stderr",
     "output_type": "stream",
     "text": [
      "\r",
      " 63%|██████▎   | 410/648 [23:16<10:05,  2.55s/it]"
     ]
    },
    {
     "name": "stdout",
     "output_type": "stream",
     "text": [
      "iter: 409, train_score: 0.018567639257294433, validation score: 0.0, configuration: {'medoid_normalization': 'minmax', 'stop_words': 'english', 'svm_degree': 3, 'svm_gamma': 0.2, 'norm': None, 'svm_c': 0.1, 'svm_kernel': 'poly'}\n"
     ]
    },
    {
     "name": "stderr",
     "output_type": "stream",
     "text": [
      "\r",
      " 63%|██████▎   | 411/648 [23:18<09:58,  2.52s/it]"
     ]
    },
    {
     "name": "stdout",
     "output_type": "stream",
     "text": [
      "iter: 410, train_score: 0.13016270337922403, validation score: 0.0, configuration: {'medoid_normalization': 'minmax', 'stop_words': 'english', 'svm_degree': 3, 'svm_gamma': 0.5, 'norm': None, 'svm_c': 0.1, 'svm_kernel': 'poly'}\n"
     ]
    },
    {
     "name": "stderr",
     "output_type": "stream",
     "text": [
      "\r",
      " 64%|██████▎   | 412/648 [23:21<10:24,  2.64s/it]"
     ]
    },
    {
     "name": "stdout",
     "output_type": "stream",
     "text": [
      "iter: 411, train_score: 0.2748267898383372, validation score: 0.0, configuration: {'medoid_normalization': 'minmax', 'stop_words': 'english', 'svm_degree': 3, 'svm_gamma': 1.0, 'norm': None, 'svm_c': 0.1, 'svm_kernel': 'poly'}\n"
     ]
    },
    {
     "name": "stderr",
     "output_type": "stream",
     "text": [
      "\r",
      " 64%|██████▎   | 413/648 [23:24<09:53,  2.52s/it]"
     ]
    },
    {
     "name": "stdout",
     "output_type": "stream",
     "text": [
      "iter: 412, train_score: 0.014617940199335546, validation score: 0.0, configuration: {'medoid_normalization': 'minmax', 'stop_words': 'english', 'svm_degree': 4, 'svm_gamma': 0.1, 'norm': None, 'svm_c': 0.1, 'svm_kernel': 'poly'}\n"
     ]
    },
    {
     "name": "stderr",
     "output_type": "stream",
     "text": [
      "\r",
      " 64%|██████▍   | 414/648 [23:26<09:42,  2.49s/it]"
     ]
    },
    {
     "name": "stdout",
     "output_type": "stream",
     "text": [
      "iter: 413, train_score: 0.08584240871236387, validation score: 0.0, configuration: {'medoid_normalization': 'minmax', 'stop_words': 'english', 'svm_degree': 4, 'svm_gamma': 0.2, 'norm': None, 'svm_c': 0.1, 'svm_kernel': 'poly'}\n"
     ]
    },
    {
     "name": "stderr",
     "output_type": "stream",
     "text": [
      "\r",
      " 64%|██████▍   | 415/648 [23:29<09:58,  2.57s/it]"
     ]
    },
    {
     "name": "stdout",
     "output_type": "stream",
     "text": [
      "iter: 414, train_score: 0.35733919736118747, validation score: 0.0, configuration: {'medoid_normalization': 'minmax', 'stop_words': 'english', 'svm_degree': 4, 'svm_gamma': 0.5, 'norm': None, 'svm_c': 0.1, 'svm_kernel': 'poly'}\n"
     ]
    },
    {
     "name": "stderr",
     "output_type": "stream",
     "text": [
      "\r",
      " 64%|██████▍   | 416/648 [23:32<10:51,  2.81s/it]"
     ]
    },
    {
     "name": "stdout",
     "output_type": "stream",
     "text": [
      "iter: 415, train_score: 0.5669064748201439, validation score: 0.02460456942003515, configuration: {'medoid_normalization': 'minmax', 'stop_words': 'english', 'svm_degree': 4, 'svm_gamma': 1.0, 'norm': None, 'svm_c': 0.1, 'svm_kernel': 'poly'}\n"
     ]
    },
    {
     "name": "stderr",
     "output_type": "stream",
     "text": [
      "\r",
      " 64%|██████▍   | 417/648 [23:34<10:17,  2.67s/it]"
     ]
    },
    {
     "name": "stdout",
     "output_type": "stream",
     "text": [
      "iter: 416, train_score: 0.03032300593276203, validation score: 0.0, configuration: {'medoid_normalization': 'minmax', 'stop_words': 'english', 'svm_degree': 5, 'svm_gamma': 0.1, 'norm': None, 'svm_c': 0.1, 'svm_kernel': 'poly'}\n"
     ]
    },
    {
     "name": "stderr",
     "output_type": "stream",
     "text": [
      "\r",
      " 65%|██████▍   | 418/648 [23:37<09:53,  2.58s/it]"
     ]
    },
    {
     "name": "stdout",
     "output_type": "stream",
     "text": [
      "iter: 417, train_score: 0.16123076923076923, validation score: 0.0, configuration: {'medoid_normalization': 'minmax', 'stop_words': 'english', 'svm_degree': 5, 'svm_gamma': 0.2, 'norm': None, 'svm_c': 0.1, 'svm_kernel': 'poly'}\n"
     ]
    },
    {
     "name": "stderr",
     "output_type": "stream",
     "text": [
      "\r",
      " 65%|██████▍   | 419/648 [23:40<10:46,  2.82s/it]"
     ]
    },
    {
     "name": "stdout",
     "output_type": "stream",
     "text": [
      "iter: 418, train_score: 0.5288035450516986, validation score: 0.003891050583657588, configuration: {'medoid_normalization': 'minmax', 'stop_words': 'english', 'svm_degree': 5, 'svm_gamma': 0.5, 'norm': None, 'svm_c': 0.1, 'svm_kernel': 'poly'}\n"
     ]
    },
    {
     "name": "stderr",
     "output_type": "stream",
     "text": [
      "\r",
      " 65%|██████▍   | 420/648 [23:44<11:53,  3.13s/it]"
     ]
    },
    {
     "name": "stdout",
     "output_type": "stream",
     "text": [
      "iter: 419, train_score: 0.9577956051621905, validation score: 0.07149576669802446, configuration: {'medoid_normalization': 'minmax', 'stop_words': 'english', 'svm_degree': 5, 'svm_gamma': 1.0, 'norm': None, 'svm_c': 0.1, 'svm_kernel': 'poly'}\n"
     ]
    },
    {
     "name": "stderr",
     "output_type": "stream",
     "text": [
      "\r",
      " 65%|██████▍   | 421/648 [23:46<10:57,  2.89s/it]"
     ]
    },
    {
     "name": "stdout",
     "output_type": "stream",
     "text": [
      "iter: 420, train_score: 0.019880715705765408, validation score: 0.0, configuration: {'medoid_normalization': 'minmax', 'stop_words': 'english', 'svm_degree': 3, 'svm_gamma': 0.1, 'norm': None, 'svm_c': 1, 'svm_kernel': 'poly'}\n"
     ]
    },
    {
     "name": "stderr",
     "output_type": "stream",
     "text": [
      "\r",
      " 65%|██████▌   | 422/648 [23:49<10:08,  2.69s/it]"
     ]
    },
    {
     "name": "stdout",
     "output_type": "stream",
     "text": [
      "iter: 421, train_score: 0.11363636363636363, validation score: 0.0, configuration: {'medoid_normalization': 'minmax', 'stop_words': 'english', 'svm_degree': 3, 'svm_gamma': 0.2, 'norm': None, 'svm_c': 1, 'svm_kernel': 'poly'}\n"
     ]
    },
    {
     "name": "stderr",
     "output_type": "stream",
     "text": [
      "\r",
      " 65%|██████▌   | 423/648 [23:51<10:01,  2.67s/it]"
     ]
    },
    {
     "name": "stdout",
     "output_type": "stream",
     "text": [
      "iter: 422, train_score: 0.3436807095343681, validation score: 0.0, configuration: {'medoid_normalization': 'minmax', 'stop_words': 'english', 'svm_degree': 3, 'svm_gamma': 0.5, 'norm': None, 'svm_c': 1, 'svm_kernel': 'poly'}\n"
     ]
    },
    {
     "name": "stderr",
     "output_type": "stream",
     "text": [
      "\r",
      " 65%|██████▌   | 424/648 [23:54<10:05,  2.70s/it]"
     ]
    },
    {
     "name": "stdout",
     "output_type": "stream",
     "text": [
      "iter: 423, train_score: 0.5417276720351392, validation score: 0.010657193605683837, configuration: {'medoid_normalization': 'minmax', 'stop_words': 'english', 'svm_degree': 3, 'svm_gamma': 1.0, 'norm': None, 'svm_c': 1, 'svm_kernel': 'poly'}\n"
     ]
    },
    {
     "name": "stderr",
     "output_type": "stream",
     "text": [
      "\r",
      " 66%|██████▌   | 425/648 [23:56<09:36,  2.58s/it]"
     ]
    },
    {
     "name": "stdout",
     "output_type": "stream",
     "text": [
      "iter: 424, train_score: 0.07101355713363461, validation score: 0.0, configuration: {'medoid_normalization': 'minmax', 'stop_words': 'english', 'svm_degree': 4, 'svm_gamma': 0.1, 'norm': None, 'svm_c': 1, 'svm_kernel': 'poly'}\n"
     ]
    },
    {
     "name": "stderr",
     "output_type": "stream",
     "text": [
      "\r",
      " 66%|██████▌   | 426/648 [23:59<09:31,  2.57s/it]"
     ]
    },
    {
     "name": "stdout",
     "output_type": "stream",
     "text": [
      "iter: 425, train_score: 0.21077844311377247, validation score: 0.0, configuration: {'medoid_normalization': 'minmax', 'stop_words': 'english', 'svm_degree': 4, 'svm_gamma': 0.2, 'norm': None, 'svm_c': 1, 'svm_kernel': 'poly'}\n"
     ]
    },
    {
     "name": "stderr",
     "output_type": "stream",
     "text": [
      "\r",
      " 66%|██████▌   | 427/648 [24:03<10:46,  2.93s/it]"
     ]
    },
    {
     "name": "stdout",
     "output_type": "stream",
     "text": [
      "iter: 426, train_score: 0.4909090909090909, validation score: 0.015444015444015446, configuration: {'medoid_normalization': 'minmax', 'stop_words': 'english', 'svm_degree': 4, 'svm_gamma': 0.5, 'norm': None, 'svm_c': 1, 'svm_kernel': 'poly'}\n"
     ]
    },
    {
     "name": "stderr",
     "output_type": "stream",
     "text": [
      "\r",
      " 66%|██████▌   | 428/648 [24:07<12:10,  3.32s/it]"
     ]
    },
    {
     "name": "stdout",
     "output_type": "stream",
     "text": [
      "iter: 427, train_score: 0.9201301048066499, validation score: 0.05649717514124294, configuration: {'medoid_normalization': 'minmax', 'stop_words': 'english', 'svm_degree': 4, 'svm_gamma': 1.0, 'norm': None, 'svm_c': 1, 'svm_kernel': 'poly'}\n"
     ]
    },
    {
     "name": "stderr",
     "output_type": "stream",
     "text": [
      "\r",
      " 66%|██████▌   | 429/648 [24:09<11:05,  3.04s/it]"
     ]
    },
    {
     "name": "stdout",
     "output_type": "stream",
     "text": [
      "iter: 428, train_score: 0.13249999999999998, validation score: 0.0, configuration: {'medoid_normalization': 'minmax', 'stop_words': 'english', 'svm_degree': 5, 'svm_gamma': 0.1, 'norm': None, 'svm_c': 1, 'svm_kernel': 'poly'}\n"
     ]
    },
    {
     "name": "stderr",
     "output_type": "stream",
     "text": [
      "\r",
      " 66%|██████▋   | 430/648 [24:12<11:04,  3.05s/it]"
     ]
    },
    {
     "name": "stdout",
     "output_type": "stream",
     "text": [
      "iter: 429, train_score: 0.33630289532293983, validation score: 0.0, configuration: {'medoid_normalization': 'minmax', 'stop_words': 'english', 'svm_degree': 5, 'svm_gamma': 0.2, 'norm': None, 'svm_c': 1, 'svm_kernel': 'poly'}\n"
     ]
    },
    {
     "name": "stderr",
     "output_type": "stream",
     "text": [
      "\r",
      " 67%|██████▋   | 431/648 [24:17<12:23,  3.43s/it]"
     ]
    },
    {
     "name": "stdout",
     "output_type": "stream",
     "text": [
      "iter: 430, train_score: 0.8133439237490071, validation score: 0.04214963119072709, configuration: {'medoid_normalization': 'minmax', 'stop_words': 'english', 'svm_degree': 5, 'svm_gamma': 0.5, 'norm': None, 'svm_c': 1, 'svm_kernel': 'poly'}\n"
     ]
    },
    {
     "name": "stderr",
     "output_type": "stream",
     "text": [
      "\r",
      " 67%|██████▋   | 432/648 [24:21<13:17,  3.69s/it]"
     ]
    },
    {
     "name": "stdout",
     "output_type": "stream",
     "text": [
      "iter: 431, train_score: 0.9973154362416108, validation score: 0.058823529411764705, configuration: {'medoid_normalization': 'minmax', 'stop_words': 'english', 'svm_degree': 5, 'svm_gamma': 1.0, 'norm': None, 'svm_c': 1, 'svm_kernel': 'poly'}\n"
     ]
    },
    {
     "name": "stderr",
     "output_type": "stream",
     "text": [
      "\r",
      " 67%|██████▋   | 433/648 [24:23<11:24,  3.18s/it]"
     ]
    },
    {
     "name": "stdout",
     "output_type": "stream",
     "text": [
      "iter: 432, train_score: 0.0, validation score: 0.0, configuration: {'medoid_normalization': None, 'stop_words': None, 'svm_degree': 3, 'svm_gamma': 0.1, 'norm': 'l1', 'svm_c': 0.01, 'svm_kernel': 'poly'}\n"
     ]
    },
    {
     "name": "stderr",
     "output_type": "stream",
     "text": [
      "\r",
      " 67%|██████▋   | 434/648 [24:25<10:19,  2.89s/it]"
     ]
    },
    {
     "name": "stdout",
     "output_type": "stream",
     "text": [
      "iter: 433, train_score: 0.0, validation score: 0.0, configuration: {'medoid_normalization': None, 'stop_words': None, 'svm_degree': 3, 'svm_gamma': 0.2, 'norm': 'l1', 'svm_c': 0.01, 'svm_kernel': 'poly'}\n"
     ]
    },
    {
     "name": "stderr",
     "output_type": "stream",
     "text": [
      "\r",
      " 67%|██████▋   | 435/648 [24:27<09:43,  2.74s/it]"
     ]
    },
    {
     "name": "stdout",
     "output_type": "stream",
     "text": [
      "iter: 434, train_score: 0.004008016032064128, validation score: 0.0, configuration: {'medoid_normalization': None, 'stop_words': None, 'svm_degree': 3, 'svm_gamma': 0.5, 'norm': 'l1', 'svm_c': 0.01, 'svm_kernel': 'poly'}\n"
     ]
    },
    {
     "name": "stderr",
     "output_type": "stream",
     "text": [
      "\r",
      " 67%|██████▋   | 436/648 [24:30<09:14,  2.61s/it]"
     ]
    },
    {
     "name": "stdout",
     "output_type": "stream",
     "text": [
      "iter: 435, train_score: 0.02119205298013245, validation score: 0.004246284501061572, configuration: {'medoid_normalization': None, 'stop_words': None, 'svm_degree': 3, 'svm_gamma': 1.0, 'norm': 'l1', 'svm_c': 0.01, 'svm_kernel': 'poly'}\n"
     ]
    },
    {
     "name": "stderr",
     "output_type": "stream",
     "text": [
      "\r",
      " 67%|██████▋   | 437/648 [24:32<08:38,  2.46s/it]"
     ]
    },
    {
     "name": "stdout",
     "output_type": "stream",
     "text": [
      "iter: 436, train_score: 0.009327115256495669, validation score: 0.0, configuration: {'medoid_normalization': None, 'stop_words': None, 'svm_degree': 4, 'svm_gamma': 0.1, 'norm': 'l1', 'svm_c': 0.01, 'svm_kernel': 'poly'}\n"
     ]
    },
    {
     "name": "stderr",
     "output_type": "stream",
     "text": [
      "\r",
      " 68%|██████▊   | 438/648 [24:35<08:48,  2.52s/it]"
     ]
    },
    {
     "name": "stdout",
     "output_type": "stream",
     "text": [
      "iter: 437, train_score: 0.0053404539385847796, validation score: 0.0, configuration: {'medoid_normalization': None, 'stop_words': None, 'svm_degree': 4, 'svm_gamma': 0.2, 'norm': 'l1', 'svm_c': 0.01, 'svm_kernel': 'poly'}\n"
     ]
    },
    {
     "name": "stderr",
     "output_type": "stream",
     "text": [
      "\r",
      " 68%|██████▊   | 439/648 [24:37<08:39,  2.49s/it]"
     ]
    },
    {
     "name": "stdout",
     "output_type": "stream",
     "text": [
      "iter: 438, train_score: 0.05721716514954486, validation score: 0.004246284501061572, configuration: {'medoid_normalization': None, 'stop_words': None, 'svm_degree': 4, 'svm_gamma': 0.5, 'norm': 'l1', 'svm_c': 0.01, 'svm_kernel': 'poly'}\n"
     ]
    },
    {
     "name": "stderr",
     "output_type": "stream",
     "text": [
      "\r",
      " 68%|██████▊   | 440/648 [24:39<08:33,  2.47s/it]"
     ]
    },
    {
     "name": "stdout",
     "output_type": "stream",
     "text": [
      "iter: 439, train_score: 0.32417274256870443, validation score: 0.0, configuration: {'medoid_normalization': None, 'stop_words': None, 'svm_degree': 4, 'svm_gamma': 1.0, 'norm': 'l1', 'svm_c': 0.01, 'svm_kernel': 'poly'}\n"
     ]
    },
    {
     "name": "stderr",
     "output_type": "stream",
     "text": [
      "\r",
      " 68%|██████▊   | 441/648 [24:42<08:13,  2.38s/it]"
     ]
    },
    {
     "name": "stdout",
     "output_type": "stream",
     "text": [
      "iter: 440, train_score: 0.007999999999999998, validation score: 0.0, configuration: {'medoid_normalization': None, 'stop_words': None, 'svm_degree': 5, 'svm_gamma': 0.1, 'norm': 'l1', 'svm_c': 0.01, 'svm_kernel': 'poly'}\n"
     ]
    },
    {
     "name": "stderr",
     "output_type": "stream",
     "text": [
      "\r",
      " 68%|██████▊   | 442/648 [24:44<08:11,  2.38s/it]"
     ]
    },
    {
     "name": "stdout",
     "output_type": "stream",
     "text": [
      "iter: 441, train_score: 0.011976047904191616, validation score: 0.0, configuration: {'medoid_normalization': None, 'stop_words': None, 'svm_degree': 5, 'svm_gamma': 0.2, 'norm': 'l1', 'svm_c': 0.01, 'svm_kernel': 'poly'}\n"
     ]
    },
    {
     "name": "stderr",
     "output_type": "stream",
     "text": [
      "\r",
      " 68%|██████▊   | 443/648 [24:46<08:09,  2.39s/it]"
     ]
    },
    {
     "name": "stdout",
     "output_type": "stream",
     "text": [
      "iter: 442, train_score: 0.11838790931989926, validation score: 0.004106776180698152, configuration: {'medoid_normalization': None, 'stop_words': None, 'svm_degree': 5, 'svm_gamma': 0.5, 'norm': 'l1', 'svm_c': 0.01, 'svm_kernel': 'poly'}\n"
     ]
    },
    {
     "name": "stderr",
     "output_type": "stream",
     "text": [
      "\r",
      " 69%|██████▊   | 444/648 [24:49<08:32,  2.51s/it]"
     ]
    },
    {
     "name": "stdout",
     "output_type": "stream",
     "text": [
      "iter: 443, train_score: 0.5193260654112983, validation score: 0.007366482504604052, configuration: {'medoid_normalization': None, 'stop_words': None, 'svm_degree': 5, 'svm_gamma': 1.0, 'norm': 'l1', 'svm_c': 0.01, 'svm_kernel': 'poly'}\n"
     ]
    },
    {
     "name": "stderr",
     "output_type": "stream",
     "text": [
      "\r",
      " 69%|██████▊   | 445/648 [24:51<08:05,  2.39s/it]"
     ]
    },
    {
     "name": "stdout",
     "output_type": "stream",
     "text": [
      "iter: 444, train_score: 0.0, validation score: 0.0, configuration: {'medoid_normalization': None, 'stop_words': None, 'svm_degree': 3, 'svm_gamma': 0.1, 'norm': 'l1', 'svm_c': 0.1, 'svm_kernel': 'poly'}\n"
     ]
    },
    {
     "name": "stderr",
     "output_type": "stream",
     "text": [
      "\r",
      " 69%|██████▉   | 446/648 [24:53<07:50,  2.33s/it]"
     ]
    },
    {
     "name": "stdout",
     "output_type": "stream",
     "text": [
      "iter: 445, train_score: 0.0053404539385847796, validation score: 0.0, configuration: {'medoid_normalization': None, 'stop_words': None, 'svm_degree': 3, 'svm_gamma': 0.2, 'norm': 'l1', 'svm_c': 0.1, 'svm_kernel': 'poly'}\n"
     ]
    },
    {
     "name": "stderr",
     "output_type": "stream",
     "text": [
      "\r",
      " 69%|██████▉   | 447/648 [24:56<07:47,  2.33s/it]"
     ]
    },
    {
     "name": "stdout",
     "output_type": "stream",
     "text": [
      "iter: 446, train_score: 0.04065573770491803, validation score: 0.00425531914893617, configuration: {'medoid_normalization': None, 'stop_words': None, 'svm_degree': 3, 'svm_gamma': 0.5, 'norm': 'l1', 'svm_c': 0.1, 'svm_kernel': 'poly'}\n"
     ]
    },
    {
     "name": "stderr",
     "output_type": "stream",
     "text": [
      "\r",
      " 69%|██████▉   | 448/648 [24:58<08:04,  2.42s/it]"
     ]
    },
    {
     "name": "stdout",
     "output_type": "stream",
     "text": [
      "iter: 447, train_score: 0.29743589743589743, validation score: 0.0, configuration: {'medoid_normalization': None, 'stop_words': None, 'svm_degree': 3, 'svm_gamma': 1.0, 'norm': 'l1', 'svm_c': 0.1, 'svm_kernel': 'poly'}\n"
     ]
    },
    {
     "name": "stderr",
     "output_type": "stream",
     "text": [
      "\r",
      " 69%|██████▉   | 449/648 [25:01<07:53,  2.38s/it]"
     ]
    },
    {
     "name": "stdout",
     "output_type": "stream",
     "text": [
      "iter: 448, train_score: 0.0053404539385847796, validation score: 0.0, configuration: {'medoid_normalization': None, 'stop_words': None, 'svm_degree': 4, 'svm_gamma': 0.1, 'norm': 'l1', 'svm_c': 0.1, 'svm_kernel': 'poly'}\n"
     ]
    },
    {
     "name": "stderr",
     "output_type": "stream",
     "text": [
      "\r",
      " 69%|██████▉   | 450/648 [25:03<07:44,  2.35s/it]"
     ]
    },
    {
     "name": "stdout",
     "output_type": "stream",
     "text": [
      "iter: 449, train_score: 0.017252820172528202, validation score: 0.0, configuration: {'medoid_normalization': None, 'stop_words': None, 'svm_degree': 4, 'svm_gamma': 0.2, 'norm': 'l1', 'svm_c': 0.1, 'svm_kernel': 'poly'}\n"
     ]
    },
    {
     "name": "stderr",
     "output_type": "stream",
     "text": [
      "\r",
      " 70%|██████▉   | 451/648 [25:05<07:44,  2.36s/it]"
     ]
    },
    {
     "name": "stdout",
     "output_type": "stream",
     "text": [
      "iter: 450, train_score: 0.1956521739130435, validation score: 0.0041928721174004195, configuration: {'medoid_normalization': None, 'stop_words': None, 'svm_degree': 4, 'svm_gamma': 0.5, 'norm': 'l1', 'svm_c': 0.1, 'svm_kernel': 'poly'}\n"
     ]
    },
    {
     "name": "stderr",
     "output_type": "stream",
     "text": [
      "\r",
      " 70%|██████▉   | 452/648 [25:08<08:04,  2.47s/it]"
     ]
    },
    {
     "name": "stdout",
     "output_type": "stream",
     "text": [
      "iter: 451, train_score: 0.4824784154393093, validation score: 0.0039447731755424065, configuration: {'medoid_normalization': None, 'stop_words': None, 'svm_degree': 4, 'svm_gamma': 1.0, 'norm': 'l1', 'svm_c': 0.1, 'svm_kernel': 'poly'}\n"
     ]
    },
    {
     "name": "stderr",
     "output_type": "stream",
     "text": [
      "\r",
      " 70%|██████▉   | 453/648 [25:10<07:44,  2.38s/it]"
     ]
    },
    {
     "name": "stdout",
     "output_type": "stream",
     "text": [
      "iter: 452, train_score: 0.018567639257294433, validation score: 0.004246284501061572, configuration: {'medoid_normalization': None, 'stop_words': None, 'svm_degree': 5, 'svm_gamma': 0.1, 'norm': 'l1', 'svm_c': 0.1, 'svm_kernel': 'poly'}\n"
     ]
    },
    {
     "name": "stderr",
     "output_type": "stream",
     "text": [
      "\r",
      " 70%|███████   | 454/648 [25:13<07:37,  2.36s/it]"
     ]
    },
    {
     "name": "stdout",
     "output_type": "stream",
     "text": [
      "iter: 453, train_score: 0.059740259740259746, validation score: 0.0, configuration: {'medoid_normalization': None, 'stop_words': None, 'svm_degree': 5, 'svm_gamma': 0.2, 'norm': 'l1', 'svm_c': 0.1, 'svm_kernel': 'poly'}\n"
     ]
    },
    {
     "name": "stderr",
     "output_type": "stream",
     "text": [
      "\r",
      " 70%|███████   | 455/648 [25:15<07:54,  2.46s/it]"
     ]
    },
    {
     "name": "stdout",
     "output_type": "stream",
     "text": [
      "iter: 454, train_score: 0.4140127388535032, validation score: 0.0, configuration: {'medoid_normalization': None, 'stop_words': None, 'svm_degree': 5, 'svm_gamma': 0.5, 'norm': 'l1', 'svm_c': 0.1, 'svm_kernel': 'poly'}\n"
     ]
    },
    {
     "name": "stderr",
     "output_type": "stream",
     "text": [
      "\r",
      " 70%|███████   | 456/648 [25:19<08:40,  2.71s/it]"
     ]
    },
    {
     "name": "stdout",
     "output_type": "stream",
     "text": [
      "iter: 455, train_score: 0.9559748427672956, validation score: 0.03665521191294387, configuration: {'medoid_normalization': None, 'stop_words': None, 'svm_degree': 5, 'svm_gamma': 1.0, 'norm': 'l1', 'svm_c': 0.1, 'svm_kernel': 'poly'}\n"
     ]
    },
    {
     "name": "stderr",
     "output_type": "stream",
     "text": [
      "\r",
      " 71%|███████   | 457/648 [25:21<08:06,  2.55s/it]"
     ]
    },
    {
     "name": "stdout",
     "output_type": "stream",
     "text": [
      "iter: 456, train_score: 0.009327115256495669, validation score: 0.0, configuration: {'medoid_normalization': None, 'stop_words': None, 'svm_degree': 3, 'svm_gamma': 0.1, 'norm': 'l1', 'svm_c': 1, 'svm_kernel': 'poly'}\n"
     ]
    },
    {
     "name": "stderr",
     "output_type": "stream",
     "text": [
      "\r",
      " 71%|███████   | 458/648 [25:23<07:48,  2.47s/it]"
     ]
    },
    {
     "name": "stdout",
     "output_type": "stream",
     "text": [
      "iter: 457, train_score: 0.022501654533421574, validation score: 0.0, configuration: {'medoid_normalization': None, 'stop_words': None, 'svm_degree': 3, 'svm_gamma': 0.2, 'norm': 'l1', 'svm_c': 1, 'svm_kernel': 'poly'}\n"
     ]
    },
    {
     "name": "stderr",
     "output_type": "stream",
     "text": [
      "\r",
      " 71%|███████   | 459/648 [25:25<07:45,  2.46s/it]"
     ]
    },
    {
     "name": "stdout",
     "output_type": "stream",
     "text": [
      "iter: 458, train_score: 0.3080407701019252, validation score: 0.0, configuration: {'medoid_normalization': None, 'stop_words': None, 'svm_degree': 3, 'svm_gamma': 0.5, 'norm': 'l1', 'svm_c': 1, 'svm_kernel': 'poly'}\n"
     ]
    },
    {
     "name": "stderr",
     "output_type": "stream",
     "text": [
      "\r",
      " 71%|███████   | 460/648 [25:28<07:59,  2.55s/it]"
     ]
    },
    {
     "name": "stdout",
     "output_type": "stream",
     "text": [
      "iter: 459, train_score: 0.4893832153690596, validation score: 0.008064516129032258, configuration: {'medoid_normalization': None, 'stop_words': None, 'svm_degree': 3, 'svm_gamma': 1.0, 'norm': 'l1', 'svm_c': 1, 'svm_kernel': 'poly'}\n"
     ]
    },
    {
     "name": "stderr",
     "output_type": "stream",
     "text": [
      "\r",
      " 71%|███████   | 461/648 [25:31<07:57,  2.55s/it]"
     ]
    },
    {
     "name": "stdout",
     "output_type": "stream",
     "text": [
      "iter: 460, train_score: 0.014617940199335546, validation score: 0.0, configuration: {'medoid_normalization': None, 'stop_words': None, 'svm_degree': 4, 'svm_gamma': 0.1, 'norm': 'l1', 'svm_c': 1, 'svm_kernel': 'poly'}\n"
     ]
    },
    {
     "name": "stderr",
     "output_type": "stream",
     "text": [
      "\r",
      " 71%|███████▏  | 462/648 [25:33<07:54,  2.55s/it]"
     ]
    },
    {
     "name": "stdout",
     "output_type": "stream",
     "text": [
      "iter: 461, train_score: 0.09073482428115016, validation score: 0.0, configuration: {'medoid_normalization': None, 'stop_words': None, 'svm_degree': 4, 'svm_gamma': 0.2, 'norm': 'l1', 'svm_c': 1, 'svm_kernel': 'poly'}\n"
     ]
    },
    {
     "name": "stderr",
     "output_type": "stream",
     "text": [
      "\r",
      " 71%|███████▏  | 463/648 [25:36<08:09,  2.65s/it]"
     ]
    },
    {
     "name": "stdout",
     "output_type": "stream",
     "text": [
      "iter: 462, train_score: 0.43396226415094347, validation score: 0.00814663951120163, configuration: {'medoid_normalization': None, 'stop_words': None, 'svm_degree': 4, 'svm_gamma': 0.5, 'norm': 'l1', 'svm_c': 1, 'svm_kernel': 'poly'}\n"
     ]
    },
    {
     "name": "stderr",
     "output_type": "stream",
     "text": [
      "\r",
      " 72%|███████▏  | 464/648 [25:39<08:34,  2.79s/it]"
     ]
    },
    {
     "name": "stdout",
     "output_type": "stream",
     "text": [
      "iter: 463, train_score: 0.9282639885222381, validation score: 0.014423076923076922, configuration: {'medoid_normalization': None, 'stop_words': None, 'svm_degree': 4, 'svm_gamma': 1.0, 'norm': 'l1', 'svm_c': 1, 'svm_kernel': 'poly'}\n"
     ]
    },
    {
     "name": "stderr",
     "output_type": "stream",
     "text": [
      "\r",
      " 72%|███████▏  | 465/648 [25:42<08:09,  2.68s/it]"
     ]
    },
    {
     "name": "stdout",
     "output_type": "stream",
     "text": [
      "iter: 464, train_score: 0.02380952380952381, validation score: 0.0, configuration: {'medoid_normalization': None, 'stop_words': None, 'svm_degree': 5, 'svm_gamma': 0.1, 'norm': 'l1', 'svm_c': 1, 'svm_kernel': 'poly'}\n"
     ]
    },
    {
     "name": "stderr",
     "output_type": "stream",
     "text": [
      "\r",
      " 72%|███████▏  | 466/648 [25:44<08:08,  2.68s/it]"
     ]
    },
    {
     "name": "stdout",
     "output_type": "stream",
     "text": [
      "iter: 465, train_score: 0.1747098350641417, validation score: 0.0, configuration: {'medoid_normalization': None, 'stop_words': None, 'svm_degree': 5, 'svm_gamma': 0.2, 'norm': 'l1', 'svm_c': 1, 'svm_kernel': 'poly'}\n"
     ]
    },
    {
     "name": "stderr",
     "output_type": "stream",
     "text": [
      "\r",
      " 72%|███████▏  | 467/648 [25:47<08:23,  2.78s/it]"
     ]
    },
    {
     "name": "stdout",
     "output_type": "stream",
     "text": [
      "iter: 466, train_score: 0.7403035413153457, validation score: 0.006622516556291391, configuration: {'medoid_normalization': None, 'stop_words': None, 'svm_degree': 5, 'svm_gamma': 0.5, 'norm': 'l1', 'svm_c': 1, 'svm_kernel': 'poly'}\n"
     ]
    },
    {
     "name": "stderr",
     "output_type": "stream",
     "text": [
      "\r",
      " 72%|███████▏  | 468/648 [25:51<09:05,  3.03s/it]"
     ]
    },
    {
     "name": "stdout",
     "output_type": "stream",
     "text": [
      "iter: 467, train_score: 0.9989956478071643, validation score: 0.05133267522211254, configuration: {'medoid_normalization': None, 'stop_words': None, 'svm_degree': 5, 'svm_gamma': 1.0, 'norm': 'l1', 'svm_c': 1, 'svm_kernel': 'poly'}\n"
     ]
    },
    {
     "name": "stderr",
     "output_type": "stream",
     "text": [
      "\r",
      " 72%|███████▏  | 469/648 [25:53<08:12,  2.75s/it]"
     ]
    },
    {
     "name": "stdout",
     "output_type": "stream",
     "text": [
      "iter: 468, train_score: 0.0, validation score: 0.0, configuration: {'medoid_normalization': None, 'stop_words': 'english', 'svm_degree': 3, 'svm_gamma': 0.1, 'norm': 'l1', 'svm_c': 0.01, 'svm_kernel': 'poly'}\n"
     ]
    },
    {
     "name": "stderr",
     "output_type": "stream",
     "text": [
      "\r",
      " 73%|███████▎  | 470/648 [25:55<07:34,  2.55s/it]"
     ]
    },
    {
     "name": "stdout",
     "output_type": "stream",
     "text": [
      "iter: 469, train_score: 0.007999999999999998, validation score: 0.0, configuration: {'medoid_normalization': None, 'stop_words': 'english', 'svm_degree': 3, 'svm_gamma': 0.2, 'norm': 'l1', 'svm_c': 0.01, 'svm_kernel': 'poly'}\n"
     ]
    },
    {
     "name": "stderr",
     "output_type": "stream",
     "text": [
      "\r",
      " 73%|███████▎  | 471/648 [25:57<07:12,  2.45s/it]"
     ]
    },
    {
     "name": "stdout",
     "output_type": "stream",
     "text": [
      "iter: 470, train_score: 0.1371571072319202, validation score: 0.0, configuration: {'medoid_normalization': None, 'stop_words': 'english', 'svm_degree': 3, 'svm_gamma': 0.5, 'norm': 'l1', 'svm_c': 0.01, 'svm_kernel': 'poly'}\n"
     ]
    },
    {
     "name": "stderr",
     "output_type": "stream",
     "text": [
      "\r",
      " 73%|███████▎  | 472/648 [26:00<07:14,  2.47s/it]"
     ]
    },
    {
     "name": "stdout",
     "output_type": "stream",
     "text": [
      "iter: 471, train_score: 0.3857374392220421, validation score: 0.0, configuration: {'medoid_normalization': None, 'stop_words': 'english', 'svm_degree': 3, 'svm_gamma': 1.0, 'norm': 'l1', 'svm_c': 0.01, 'svm_kernel': 'poly'}\n"
     ]
    },
    {
     "name": "stderr",
     "output_type": "stream",
     "text": [
      "\r",
      " 73%|███████▎  | 473/648 [26:02<06:59,  2.40s/it]"
     ]
    },
    {
     "name": "stdout",
     "output_type": "stream",
     "text": [
      "iter: 472, train_score: 0.004008016032064128, validation score: 0.0, configuration: {'medoid_normalization': None, 'stop_words': 'english', 'svm_degree': 4, 'svm_gamma': 0.1, 'norm': 'l1', 'svm_c': 0.01, 'svm_kernel': 'poly'}\n"
     ]
    },
    {
     "name": "stderr",
     "output_type": "stream",
     "text": [
      "\r",
      " 73%|███████▎  | 474/648 [26:04<06:49,  2.35s/it]"
     ]
    },
    {
     "name": "stdout",
     "output_type": "stream",
     "text": [
      "iter: 473, train_score: 0.13016270337922403, validation score: 0.0, configuration: {'medoid_normalization': None, 'stop_words': 'english', 'svm_degree': 4, 'svm_gamma': 0.2, 'norm': 'l1', 'svm_c': 0.01, 'svm_kernel': 'poly'}\n"
     ]
    },
    {
     "name": "stderr",
     "output_type": "stream",
     "text": [
      "\r",
      " 73%|███████▎  | 475/648 [26:07<07:07,  2.47s/it]"
     ]
    },
    {
     "name": "stdout",
     "output_type": "stream",
     "text": [
      "iter: 474, train_score: 0.44940321743642964, validation score: 0.01158301158301158, configuration: {'medoid_normalization': None, 'stop_words': 'english', 'svm_degree': 4, 'svm_gamma': 0.5, 'norm': 'l1', 'svm_c': 0.01, 'svm_kernel': 'poly'}\n"
     ]
    },
    {
     "name": "stderr",
     "output_type": "stream",
     "text": [
      "\r",
      " 73%|███████▎  | 476/648 [26:11<08:21,  2.92s/it]"
     ]
    },
    {
     "name": "stdout",
     "output_type": "stream",
     "text": [
      "iter: 475, train_score: 0.8033640368442131, validation score: 0.02948402948402948, configuration: {'medoid_normalization': None, 'stop_words': 'english', 'svm_degree': 4, 'svm_gamma': 1.0, 'norm': 'l1', 'svm_c': 0.01, 'svm_kernel': 'poly'}\n"
     ]
    },
    {
     "name": "stderr",
     "output_type": "stream",
     "text": [
      "\r",
      " 74%|███████▎  | 477/648 [26:14<07:58,  2.80s/it]"
     ]
    },
    {
     "name": "stdout",
     "output_type": "stream",
     "text": [
      "iter: 476, train_score: 0.08706786171574904, validation score: 0.0, configuration: {'medoid_normalization': None, 'stop_words': 'english', 'svm_degree': 5, 'svm_gamma': 0.1, 'norm': 'l1', 'svm_c': 0.01, 'svm_kernel': 'poly'}\n"
     ]
    },
    {
     "name": "stderr",
     "output_type": "stream",
     "text": [
      "\r",
      " 74%|███████▍  | 478/648 [26:16<07:41,  2.72s/it]"
     ]
    },
    {
     "name": "stdout",
     "output_type": "stream",
     "text": [
      "iter: 477, train_score: 0.3723462166575939, validation score: 0.012295081967213115, configuration: {'medoid_normalization': None, 'stop_words': 'english', 'svm_degree': 5, 'svm_gamma': 0.2, 'norm': 'l1', 'svm_c': 0.01, 'svm_kernel': 'poly'}\n"
     ]
    },
    {
     "name": "stderr",
     "output_type": "stream",
     "text": [
      "\r",
      " 74%|███████▍  | 479/648 [26:20<08:45,  3.11s/it]"
     ]
    },
    {
     "name": "stdout",
     "output_type": "stream",
     "text": [
      "iter: 478, train_score: 0.9071637426900585, validation score: 0.026365348399246705, configuration: {'medoid_normalization': None, 'stop_words': 'english', 'svm_degree': 5, 'svm_gamma': 0.5, 'norm': 'l1', 'svm_c': 0.01, 'svm_kernel': 'poly'}\n"
     ]
    },
    {
     "name": "stderr",
     "output_type": "stream",
     "text": [
      "\r",
      " 74%|███████▍  | 480/648 [26:25<10:18,  3.68s/it]"
     ]
    },
    {
     "name": "stdout",
     "output_type": "stream",
     "text": [
      "iter: 479, train_score: 1.0, validation score: 0.049475262368815595, configuration: {'medoid_normalization': None, 'stop_words': 'english', 'svm_degree': 5, 'svm_gamma': 1.0, 'norm': 'l1', 'svm_c': 0.01, 'svm_kernel': 'poly'}\n"
     ]
    },
    {
     "name": "stderr",
     "output_type": "stream",
     "text": [
      "\r",
      " 74%|███████▍  | 481/648 [26:28<09:10,  3.30s/it]"
     ]
    },
    {
     "name": "stdout",
     "output_type": "stream",
     "text": [
      "iter: 480, train_score: 0.007999999999999998, validation score: 0.0, configuration: {'medoid_normalization': None, 'stop_words': 'english', 'svm_degree': 3, 'svm_gamma': 0.1, 'norm': 'l1', 'svm_c': 0.1, 'svm_kernel': 'poly'}\n"
     ]
    },
    {
     "name": "stderr",
     "output_type": "stream",
     "text": [
      "\r",
      " 74%|███████▍  | 482/648 [26:30<08:18,  3.00s/it]"
     ]
    },
    {
     "name": "stdout",
     "output_type": "stream",
     "text": [
      "iter: 481, train_score: 0.10165184243964422, validation score: 0.0, configuration: {'medoid_normalization': None, 'stop_words': 'english', 'svm_degree': 3, 'svm_gamma': 0.2, 'norm': 'l1', 'svm_c': 0.1, 'svm_kernel': 'poly'}\n"
     ]
    },
    {
     "name": "stderr",
     "output_type": "stream",
     "text": [
      "\r",
      " 75%|███████▍  | 483/648 [26:33<08:00,  2.91s/it]"
     ]
    },
    {
     "name": "stdout",
     "output_type": "stream",
     "text": [
      "iter: 482, train_score: 0.3778501628664495, validation score: 0.012526096033402923, configuration: {'medoid_normalization': None, 'stop_words': 'english', 'svm_degree': 3, 'svm_gamma': 0.5, 'norm': 'l1', 'svm_c': 0.1, 'svm_kernel': 'poly'}\n"
     ]
    },
    {
     "name": "stderr",
     "output_type": "stream",
     "text": [
      "\r",
      " 75%|███████▍  | 484/648 [26:36<08:02,  2.94s/it]"
     ]
    },
    {
     "name": "stdout",
     "output_type": "stream",
     "text": [
      "iter: 483, train_score: 0.6080074487895717, validation score: 0.014388489208633096, configuration: {'medoid_normalization': None, 'stop_words': 'english', 'svm_degree': 3, 'svm_gamma': 1.0, 'norm': 'l1', 'svm_c': 0.1, 'svm_kernel': 'poly'}\n"
     ]
    },
    {
     "name": "stderr",
     "output_type": "stream",
     "text": [
      "\r",
      " 75%|███████▍  | 485/648 [26:38<07:27,  2.75s/it]"
     ]
    },
    {
     "name": "stdout",
     "output_type": "stream",
     "text": [
      "iter: 484, train_score: 0.09438775510204082, validation score: 0.0, configuration: {'medoid_normalization': None, 'stop_words': 'english', 'svm_degree': 4, 'svm_gamma': 0.1, 'norm': 'l1', 'svm_c': 0.1, 'svm_kernel': 'poly'}\n"
     ]
    },
    {
     "name": "stderr",
     "output_type": "stream",
     "text": [
      "\r",
      " 75%|███████▌  | 486/648 [26:41<07:31,  2.79s/it]"
     ]
    },
    {
     "name": "stdout",
     "output_type": "stream",
     "text": [
      "iter: 485, train_score: 0.34551495016611294, validation score: 0.004081632653061225, configuration: {'medoid_normalization': None, 'stop_words': 'english', 'svm_degree': 4, 'svm_gamma': 0.2, 'norm': 'l1', 'svm_c': 0.1, 'svm_kernel': 'poly'}\n"
     ]
    },
    {
     "name": "stderr",
     "output_type": "stream",
     "text": [
      "\r",
      " 75%|███████▌  | 487/648 [26:44<08:06,  3.02s/it]"
     ]
    },
    {
     "name": "stdout",
     "output_type": "stream",
     "text": [
      "iter: 486, train_score: 0.7917509098261221, validation score: 0.0316301703163017, configuration: {'medoid_normalization': None, 'stop_words': 'english', 'svm_degree': 4, 'svm_gamma': 0.5, 'norm': 'l1', 'svm_c': 0.1, 'svm_kernel': 'poly'}\n"
     ]
    },
    {
     "name": "stderr",
     "output_type": "stream",
     "text": [
      "\r",
      " 75%|███████▌  | 488/648 [26:50<09:45,  3.66s/it]"
     ]
    },
    {
     "name": "stdout",
     "output_type": "stream",
     "text": [
      "iter: 487, train_score: 0.9888324873096447, validation score: 0.038980509745127435, configuration: {'medoid_normalization': None, 'stop_words': 'english', 'svm_degree': 4, 'svm_gamma': 1.0, 'norm': 'l1', 'svm_c': 0.1, 'svm_kernel': 'poly'}\n"
     ]
    },
    {
     "name": "stderr",
     "output_type": "stream",
     "text": [
      "\r",
      " 75%|███████▌  | 489/648 [26:52<08:39,  3.27s/it]"
     ]
    },
    {
     "name": "stdout",
     "output_type": "stream",
     "text": [
      "iter: 488, train_score: 0.20324714371617558, validation score: 0.00425531914893617, configuration: {'medoid_normalization': None, 'stop_words': 'english', 'svm_degree': 5, 'svm_gamma': 0.1, 'norm': 'l1', 'svm_c': 0.1, 'svm_kernel': 'poly'}\n"
     ]
    },
    {
     "name": "stderr",
     "output_type": "stream",
     "text": [
      "\r",
      " 76%|███████▌  | 490/648 [26:55<08:23,  3.19s/it]"
     ]
    },
    {
     "name": "stdout",
     "output_type": "stream",
     "text": [
      "iter: 489, train_score: 0.6134570765661254, validation score: 0.016949152542372885, configuration: {'medoid_normalization': None, 'stop_words': 'english', 'svm_degree': 5, 'svm_gamma': 0.2, 'norm': 'l1', 'svm_c': 0.1, 'svm_kernel': 'poly'}\n"
     ]
    },
    {
     "name": "stderr",
     "output_type": "stream",
     "text": [
      "\r",
      " 76%|███████▌  | 491/648 [27:00<09:34,  3.66s/it]"
     ]
    },
    {
     "name": "stdout",
     "output_type": "stream",
     "text": [
      "iter: 490, train_score: 0.9936091490077362, validation score: 0.04621513944223107, configuration: {'medoid_normalization': None, 'stop_words': 'english', 'svm_degree': 5, 'svm_gamma': 0.5, 'norm': 'l1', 'svm_c': 0.1, 'svm_kernel': 'poly'}\n"
     ]
    },
    {
     "name": "stderr",
     "output_type": "stream",
     "text": [
      "\r",
      " 76%|███████▌  | 492/648 [27:07<11:58,  4.60s/it]"
     ]
    },
    {
     "name": "stdout",
     "output_type": "stream",
     "text": [
      "iter: 491, train_score: 0.9996654399464704, validation score: 0.06682206682206682, configuration: {'medoid_normalization': None, 'stop_words': 'english', 'svm_degree': 5, 'svm_gamma': 1.0, 'norm': 'l1', 'svm_c': 0.1, 'svm_kernel': 'poly'}\n"
     ]
    },
    {
     "name": "stderr",
     "output_type": "stream",
     "text": [
      "\r",
      " 76%|███████▌  | 493/648 [27:09<10:10,  3.94s/it]"
     ]
    },
    {
     "name": "stdout",
     "output_type": "stream",
     "text": [
      "iter: 492, train_score: 0.059740259740259746, validation score: 0.0, configuration: {'medoid_normalization': None, 'stop_words': 'english', 'svm_degree': 3, 'svm_gamma': 0.1, 'norm': 'l1', 'svm_c': 1, 'svm_kernel': 'poly'}\n"
     ]
    },
    {
     "name": "stderr",
     "output_type": "stream",
     "text": [
      "\r",
      " 76%|███████▌  | 494/648 [27:12<09:16,  3.61s/it]"
     ]
    },
    {
     "name": "stdout",
     "output_type": "stream",
     "text": [
      "iter: 493, train_score: 0.3325892857142857, validation score: 0.0, configuration: {'medoid_normalization': None, 'stop_words': 'english', 'svm_degree': 3, 'svm_gamma': 0.2, 'norm': 'l1', 'svm_c': 1, 'svm_kernel': 'poly'}\n"
     ]
    },
    {
     "name": "stderr",
     "output_type": "stream",
     "text": [
      "\r",
      " 76%|███████▋  | 495/648 [27:15<09:01,  3.54s/it]"
     ]
    },
    {
     "name": "stdout",
     "output_type": "stream",
     "text": [
      "iter: 494, train_score: 0.5984990619136961, validation score: 0.010344827586206896, configuration: {'medoid_normalization': None, 'stop_words': 'english', 'svm_degree': 3, 'svm_gamma': 0.5, 'norm': 'l1', 'svm_c': 1, 'svm_kernel': 'poly'}\n"
     ]
    },
    {
     "name": "stderr",
     "output_type": "stream",
     "text": [
      "\r",
      " 77%|███████▋  | 496/648 [27:19<09:32,  3.77s/it]"
     ]
    },
    {
     "name": "stdout",
     "output_type": "stream",
     "text": [
      "iter: 495, train_score: 0.9134545454545455, validation score: 0.03339517625231911, configuration: {'medoid_normalization': None, 'stop_words': 'english', 'svm_degree': 3, 'svm_gamma': 1.0, 'norm': 'l1', 'svm_c': 1, 'svm_kernel': 'poly'}\n"
     ]
    },
    {
     "name": "stderr",
     "output_type": "stream",
     "text": [
      "\r",
      " 77%|███████▋  | 497/648 [27:22<08:39,  3.44s/it]"
     ]
    },
    {
     "name": "stdout",
     "output_type": "stream",
     "text": [
      "iter: 496, train_score: 0.34459833795013856, validation score: 0.004201680672268908, configuration: {'medoid_normalization': None, 'stop_words': 'english', 'svm_degree': 4, 'svm_gamma': 0.1, 'norm': 'l1', 'svm_c': 1, 'svm_kernel': 'poly'}\n"
     ]
    },
    {
     "name": "stderr",
     "output_type": "stream",
     "text": [
      "\r",
      " 77%|███████▋  | 498/648 [27:26<08:38,  3.46s/it]"
     ]
    },
    {
     "name": "stdout",
     "output_type": "stream",
     "text": [
      "iter: 497, train_score: 0.5112107623318385, validation score: 0.020408163265306124, configuration: {'medoid_normalization': None, 'stop_words': 'english', 'svm_degree': 4, 'svm_gamma': 0.2, 'norm': 'l1', 'svm_c': 1, 'svm_kernel': 'poly'}\n"
     ]
    },
    {
     "name": "stderr",
     "output_type": "stream",
     "text": [
      "\r",
      " 77%|███████▋  | 499/648 [27:31<09:45,  3.93s/it]"
     ]
    },
    {
     "name": "stdout",
     "output_type": "stream",
     "text": [
      "iter: 498, train_score: 0.9731958762886598, validation score: 0.0487012987012987, configuration: {'medoid_normalization': None, 'stop_words': 'english', 'svm_degree': 4, 'svm_gamma': 0.5, 'norm': 'l1', 'svm_c': 1, 'svm_kernel': 'poly'}\n"
     ]
    },
    {
     "name": "stderr",
     "output_type": "stream",
     "text": [
      "\r",
      " 77%|███████▋  | 500/648 [27:38<12:22,  5.02s/it]"
     ]
    },
    {
     "name": "stdout",
     "output_type": "stream",
     "text": [
      "iter: 499, train_score: 0.9996652159357214, validation score: 0.05088666152659985, configuration: {'medoid_normalization': None, 'stop_words': 'english', 'svm_degree': 4, 'svm_gamma': 1.0, 'norm': 'l1', 'svm_c': 1, 'svm_kernel': 'poly'}\n"
     ]
    },
    {
     "name": "stderr",
     "output_type": "stream",
     "text": [
      "\r",
      " 77%|███████▋  | 501/648 [27:41<10:42,  4.37s/it]"
     ]
    },
    {
     "name": "stdout",
     "output_type": "stream",
     "text": [
      "iter: 500, train_score: 0.44375, validation score: 0.015037593984962409, configuration: {'medoid_normalization': None, 'stop_words': 'english', 'svm_degree': 5, 'svm_gamma': 0.1, 'norm': 'l1', 'svm_c': 1, 'svm_kernel': 'poly'}\n"
     ]
    },
    {
     "name": "stderr",
     "output_type": "stream",
     "text": [
      "\r",
      " 77%|███████▋  | 502/648 [27:45<10:12,  4.19s/it]"
     ]
    },
    {
     "name": "stdout",
     "output_type": "stream",
     "text": [
      "iter: 501, train_score: 0.9274946159368269, validation score: 0.0391156462585034, configuration: {'medoid_normalization': None, 'stop_words': 'english', 'svm_degree': 5, 'svm_gamma': 0.2, 'norm': 'l1', 'svm_c': 1, 'svm_kernel': 'poly'}\n"
     ]
    },
    {
     "name": "stderr",
     "output_type": "stream",
     "text": [
      "\r",
      " 78%|███████▊  | 503/648 [27:51<11:38,  4.82s/it]"
     ]
    },
    {
     "name": "stdout",
     "output_type": "stream",
     "text": [
      "iter: 502, train_score: 1.0, validation score: 0.0421875, configuration: {'medoid_normalization': None, 'stop_words': 'english', 'svm_degree': 5, 'svm_gamma': 0.5, 'norm': 'l1', 'svm_c': 1, 'svm_kernel': 'poly'}\n"
     ]
    },
    {
     "name": "stderr",
     "output_type": "stream",
     "text": [
      "\r",
      " 78%|███████▊  | 504/648 [27:58<13:24,  5.59s/it]"
     ]
    },
    {
     "name": "stdout",
     "output_type": "stream",
     "text": [
      "iter: 503, train_score: 1.0, validation score: 0.05087209302325581, configuration: {'medoid_normalization': None, 'stop_words': 'english', 'svm_degree': 5, 'svm_gamma': 1.0, 'norm': 'l1', 'svm_c': 1, 'svm_kernel': 'poly'}\n"
     ]
    },
    {
     "name": "stderr",
     "output_type": "stream",
     "text": [
      "\r",
      " 78%|███████▊  | 505/648 [28:01<10:50,  4.55s/it]"
     ]
    },
    {
     "name": "stdout",
     "output_type": "stream",
     "text": [
      "iter: 504, train_score: 0.0013377926421404682, validation score: 0.0, configuration: {'medoid_normalization': None, 'stop_words': None, 'svm_degree': 3, 'svm_gamma': 0.1, 'norm': 'l2', 'svm_c': 0.01, 'svm_kernel': 'poly'}\n"
     ]
    },
    {
     "name": "stderr",
     "output_type": "stream",
     "text": [
      "\r",
      " 78%|███████▊  | 506/648 [28:03<09:17,  3.92s/it]"
     ]
    },
    {
     "name": "stdout",
     "output_type": "stream",
     "text": [
      "iter: 505, train_score: 0.3204047217537943, validation score: 0.0, configuration: {'medoid_normalization': None, 'stop_words': None, 'svm_degree': 3, 'svm_gamma': 0.2, 'norm': 'l2', 'svm_c': 0.01, 'svm_kernel': 'poly'}\n"
     ]
    },
    {
     "name": "stderr",
     "output_type": "stream",
     "text": [
      "\r",
      " 78%|███████▊  | 507/648 [28:06<08:35,  3.66s/it]"
     ]
    },
    {
     "name": "stdout",
     "output_type": "stream",
     "text": [
      "iter: 506, train_score: 0.3500828271673109, validation score: 0.0, configuration: {'medoid_normalization': None, 'stop_words': None, 'svm_degree': 3, 'svm_gamma': 0.5, 'norm': 'l2', 'svm_c': 0.01, 'svm_kernel': 'poly'}\n"
     ]
    },
    {
     "name": "stderr",
     "output_type": "stream",
     "text": [
      "\r",
      " 78%|███████▊  | 508/648 [28:09<08:11,  3.51s/it]"
     ]
    },
    {
     "name": "stdout",
     "output_type": "stream",
     "text": [
      "iter: 507, train_score: 0.786699107866991, validation score: 0.025974025974025976, configuration: {'medoid_normalization': None, 'stop_words': None, 'svm_degree': 3, 'svm_gamma': 1.0, 'norm': 'l2', 'svm_c': 0.01, 'svm_kernel': 'poly'}\n"
     ]
    },
    {
     "name": "stderr",
     "output_type": "stream",
     "text": [
      "\r",
      " 79%|███████▊  | 509/648 [28:12<07:22,  3.19s/it]"
     ]
    },
    {
     "name": "stdout",
     "output_type": "stream",
     "text": [
      "iter: 508, train_score: 0.3716621253405995, validation score: 0.0, configuration: {'medoid_normalization': None, 'stop_words': None, 'svm_degree': 4, 'svm_gamma': 0.1, 'norm': 'l2', 'svm_c': 0.01, 'svm_kernel': 'poly'}\n"
     ]
    },
    {
     "name": "stderr",
     "output_type": "stream",
     "text": [
      "\r",
      " 79%|███████▊  | 510/648 [28:15<07:09,  3.11s/it]"
     ]
    },
    {
     "name": "stdout",
     "output_type": "stream",
     "text": [
      "iter: 509, train_score: 0.4969818913480885, validation score: 0.0, configuration: {'medoid_normalization': None, 'stop_words': None, 'svm_degree': 4, 'svm_gamma': 0.2, 'norm': 'l2', 'svm_c': 0.01, 'svm_kernel': 'poly'}\n"
     ]
    },
    {
     "name": "stderr",
     "output_type": "stream",
     "text": [
      "\r",
      " 79%|███████▉  | 511/648 [28:19<07:45,  3.40s/it]"
     ]
    },
    {
     "name": "stdout",
     "output_type": "stream",
     "text": [
      "iter: 510, train_score: 0.9802317655078391, validation score: 0.03281853281853282, configuration: {'medoid_normalization': None, 'stop_words': None, 'svm_degree': 4, 'svm_gamma': 0.5, 'norm': 'l2', 'svm_c': 0.01, 'svm_kernel': 'poly'}\n"
     ]
    },
    {
     "name": "stderr",
     "output_type": "stream",
     "text": [
      "\r",
      " 79%|███████▉  | 512/648 [28:23<08:08,  3.59s/it]"
     ]
    },
    {
     "name": "stdout",
     "output_type": "stream",
     "text": [
      "iter: 511, train_score: 1.0, validation score: 0.0511770726714432, configuration: {'medoid_normalization': None, 'stop_words': None, 'svm_degree': 4, 'svm_gamma': 1.0, 'norm': 'l2', 'svm_c': 0.01, 'svm_kernel': 'poly'}\n"
     ]
    },
    {
     "name": "stderr",
     "output_type": "stream",
     "text": [
      "\r",
      " 79%|███████▉  | 513/648 [28:26<07:39,  3.40s/it]"
     ]
    },
    {
     "name": "stdout",
     "output_type": "stream",
     "text": [
      "iter: 512, train_score: 0.5488101019912579, validation score: 0.004073319755600815, configuration: {'medoid_normalization': None, 'stop_words': None, 'svm_degree': 5, 'svm_gamma': 0.1, 'norm': 'l2', 'svm_c': 0.01, 'svm_kernel': 'poly'}\n"
     ]
    },
    {
     "name": "stderr",
     "output_type": "stream",
     "text": [
      "\r",
      " 79%|███████▉  | 514/648 [28:29<07:36,  3.41s/it]"
     ]
    },
    {
     "name": "stdout",
     "output_type": "stream",
     "text": [
      "iter: 513, train_score: 0.9809004092769441, validation score: 0.042105263157894736, configuration: {'medoid_normalization': None, 'stop_words': None, 'svm_degree': 5, 'svm_gamma': 0.2, 'norm': 'l2', 'svm_c': 0.01, 'svm_kernel': 'poly'}\n"
     ]
    },
    {
     "name": "stderr",
     "output_type": "stream",
     "text": [
      "\r",
      " 79%|███████▉  | 515/648 [28:33<07:57,  3.59s/it]"
     ]
    },
    {
     "name": "stdout",
     "output_type": "stream",
     "text": [
      "iter: 514, train_score: 1.0, validation score: 0.0659536541889483, configuration: {'medoid_normalization': None, 'stop_words': None, 'svm_degree': 5, 'svm_gamma': 0.5, 'norm': 'l2', 'svm_c': 0.01, 'svm_kernel': 'poly'}\n"
     ]
    },
    {
     "name": "stderr",
     "output_type": "stream",
     "text": [
      "\r",
      " 80%|███████▉  | 516/648 [28:37<08:11,  3.73s/it]"
     ]
    },
    {
     "name": "stdout",
     "output_type": "stream",
     "text": [
      "iter: 515, train_score: 1.0, validation score: 0.038674033149171276, configuration: {'medoid_normalization': None, 'stop_words': None, 'svm_degree': 5, 'svm_gamma': 1.0, 'norm': 'l2', 'svm_c': 0.01, 'svm_kernel': 'poly'}\n"
     ]
    },
    {
     "name": "stderr",
     "output_type": "stream",
     "text": [
      "\r",
      " 80%|███████▉  | 517/648 [28:40<07:25,  3.40s/it]"
     ]
    },
    {
     "name": "stdout",
     "output_type": "stream",
     "text": [
      "iter: 516, train_score: 0.36632039365773644, validation score: 0.0, configuration: {'medoid_normalization': None, 'stop_words': None, 'svm_degree': 3, 'svm_gamma': 0.1, 'norm': 'l2', 'svm_c': 0.1, 'svm_kernel': 'poly'}\n"
     ]
    },
    {
     "name": "stderr",
     "output_type": "stream",
     "text": [
      "\r",
      " 80%|███████▉  | 518/648 [28:43<07:06,  3.28s/it]"
     ]
    },
    {
     "name": "stdout",
     "output_type": "stream",
     "text": [
      "iter: 517, train_score: 0.311864406779661, validation score: 0.0, configuration: {'medoid_normalization': None, 'stop_words': None, 'svm_degree': 3, 'svm_gamma': 0.2, 'norm': 'l2', 'svm_c': 0.1, 'svm_kernel': 'poly'}\n"
     ]
    },
    {
     "name": "stderr",
     "output_type": "stream",
     "text": [
      "\r",
      " 80%|████████  | 519/648 [28:46<07:02,  3.27s/it]"
     ]
    },
    {
     "name": "stdout",
     "output_type": "stream",
     "text": [
      "iter: 518, train_score: 0.8186487554326353, validation score: 0.021798365122615803, configuration: {'medoid_normalization': None, 'stop_words': None, 'svm_degree': 3, 'svm_gamma': 0.5, 'norm': 'l2', 'svm_c': 0.1, 'svm_kernel': 'poly'}\n"
     ]
    },
    {
     "name": "stderr",
     "output_type": "stream",
     "text": [
      "\r",
      " 80%|████████  | 520/648 [28:50<07:29,  3.51s/it]"
     ]
    },
    {
     "name": "stdout",
     "output_type": "stream",
     "text": [
      "iter: 519, train_score: 0.9679641749913882, validation score: 0.056888888888888885, configuration: {'medoid_normalization': None, 'stop_words': None, 'svm_degree': 3, 'svm_gamma': 1.0, 'norm': 'l2', 'svm_c': 0.1, 'svm_kernel': 'poly'}\n"
     ]
    },
    {
     "name": "stderr",
     "output_type": "stream",
     "text": [
      "\r",
      " 80%|████████  | 521/648 [28:53<06:58,  3.29s/it]"
     ]
    },
    {
     "name": "stdout",
     "output_type": "stream",
     "text": [
      "iter: 520, train_score: 0.4021390374331551, validation score: 0.0, configuration: {'medoid_normalization': None, 'stop_words': None, 'svm_degree': 4, 'svm_gamma': 0.1, 'norm': 'l2', 'svm_c': 0.1, 'svm_kernel': 'poly'}\n"
     ]
    },
    {
     "name": "stderr",
     "output_type": "stream",
     "text": [
      "\r",
      " 81%|████████  | 522/648 [28:56<06:53,  3.29s/it]"
     ]
    },
    {
     "name": "stdout",
     "output_type": "stream",
     "text": [
      "iter: 521, train_score: 0.9325722440242598, validation score: 0.039955604883462816, configuration: {'medoid_normalization': None, 'stop_words': None, 'svm_degree': 4, 'svm_gamma': 0.2, 'norm': 'l2', 'svm_c': 0.1, 'svm_kernel': 'poly'}\n"
     ]
    },
    {
     "name": "stderr",
     "output_type": "stream",
     "text": [
      "\r",
      " 81%|████████  | 523/648 [29:00<07:13,  3.47s/it]"
     ]
    },
    {
     "name": "stdout",
     "output_type": "stream",
     "text": [
      "iter: 522, train_score: 1.0, validation score: 0.03632887189292543, configuration: {'medoid_normalization': None, 'stop_words': None, 'svm_degree': 4, 'svm_gamma': 0.5, 'norm': 'l2', 'svm_c': 0.1, 'svm_kernel': 'poly'}\n"
     ]
    },
    {
     "name": "stderr",
     "output_type": "stream",
     "text": [
      "\r",
      " 81%|████████  | 524/648 [29:04<07:38,  3.70s/it]"
     ]
    },
    {
     "name": "stdout",
     "output_type": "stream",
     "text": [
      "iter: 523, train_score: 1.0, validation score: 0.04448398576512456, configuration: {'medoid_normalization': None, 'stop_words': None, 'svm_degree': 4, 'svm_gamma': 1.0, 'norm': 'l2', 'svm_c': 0.1, 'svm_kernel': 'poly'}\n"
     ]
    },
    {
     "name": "stderr",
     "output_type": "stream",
     "text": [
      "\r",
      " 81%|████████  | 525/648 [29:08<07:30,  3.66s/it]"
     ]
    },
    {
     "name": "stdout",
     "output_type": "stream",
     "text": [
      "iter: 524, train_score: 0.9343794579172611, validation score: 0.03574975173783515, configuration: {'medoid_normalization': None, 'stop_words': None, 'svm_degree': 5, 'svm_gamma': 0.1, 'norm': 'l2', 'svm_c': 0.1, 'svm_kernel': 'poly'}\n"
     ]
    },
    {
     "name": "stderr",
     "output_type": "stream",
     "text": [
      "\r",
      " 81%|████████  | 526/648 [29:12<07:48,  3.84s/it]"
     ]
    },
    {
     "name": "stdout",
     "output_type": "stream",
     "text": [
      "iter: 525, train_score: 1.0, validation score: 0.04200913242009132, configuration: {'medoid_normalization': None, 'stop_words': None, 'svm_degree': 5, 'svm_gamma': 0.2, 'norm': 'l2', 'svm_c': 0.1, 'svm_kernel': 'poly'}\n"
     ]
    },
    {
     "name": "stderr",
     "output_type": "stream",
     "text": [
      "\r",
      " 81%|████████▏ | 527/648 [29:16<07:48,  3.87s/it]"
     ]
    },
    {
     "name": "stdout",
     "output_type": "stream",
     "text": [
      "iter: 526, train_score: 1.0, validation score: 0.03333333333333333, configuration: {'medoid_normalization': None, 'stop_words': None, 'svm_degree': 5, 'svm_gamma': 0.5, 'norm': 'l2', 'svm_c': 0.1, 'svm_kernel': 'poly'}\n"
     ]
    },
    {
     "name": "stderr",
     "output_type": "stream",
     "text": [
      "\r",
      " 81%|████████▏ | 528/648 [29:20<07:59,  3.99s/it]"
     ]
    },
    {
     "name": "stdout",
     "output_type": "stream",
     "text": [
      "iter: 527, train_score: 1.0, validation score: 0.042704626334519574, configuration: {'medoid_normalization': None, 'stop_words': None, 'svm_degree': 5, 'svm_gamma': 1.0, 'norm': 'l2', 'svm_c': 0.1, 'svm_kernel': 'poly'}\n"
     ]
    },
    {
     "name": "stderr",
     "output_type": "stream",
     "text": [
      "\r",
      " 82%|████████▏ | 529/648 [29:23<07:09,  3.61s/it]"
     ]
    },
    {
     "name": "stdout",
     "output_type": "stream",
     "text": [
      "iter: 528, train_score: 0.3600439077936334, validation score: 0.0, configuration: {'medoid_normalization': None, 'stop_words': None, 'svm_degree': 3, 'svm_gamma': 0.1, 'norm': 'l2', 'svm_c': 1, 'svm_kernel': 'poly'}\n"
     ]
    },
    {
     "name": "stderr",
     "output_type": "stream",
     "text": [
      "\r",
      " 82%|████████▏ | 530/648 [29:26<06:42,  3.41s/it]"
     ]
    },
    {
     "name": "stdout",
     "output_type": "stream",
     "text": [
      "iter: 529, train_score: 0.7455919395465995, validation score: 0.003278688524590164, configuration: {'medoid_normalization': None, 'stop_words': None, 'svm_degree': 3, 'svm_gamma': 0.2, 'norm': 'l2', 'svm_c': 1, 'svm_kernel': 'poly'}\n"
     ]
    },
    {
     "name": "stderr",
     "output_type": "stream",
     "text": [
      "\r",
      " 82%|████████▏ | 531/648 [29:30<06:44,  3.46s/it]"
     ]
    },
    {
     "name": "stdout",
     "output_type": "stream",
     "text": [
      "iter: 530, train_score: 0.9774281805745554, validation score: 0.03171641791044776, configuration: {'medoid_normalization': None, 'stop_words': None, 'svm_degree': 3, 'svm_gamma': 0.5, 'norm': 'l2', 'svm_c': 1, 'svm_kernel': 'poly'}\n"
     ]
    },
    {
     "name": "stderr",
     "output_type": "stream",
     "text": [
      "\r",
      " 82%|████████▏ | 532/648 [29:34<07:21,  3.81s/it]"
     ]
    },
    {
     "name": "stdout",
     "output_type": "stream",
     "text": [
      "iter: 531, train_score: 1.0, validation score: 0.057692307692307696, configuration: {'medoid_normalization': None, 'stop_words': None, 'svm_degree': 3, 'svm_gamma': 1.0, 'norm': 'l2', 'svm_c': 1, 'svm_kernel': 'poly'}\n"
     ]
    },
    {
     "name": "stderr",
     "output_type": "stream",
     "text": [
      "\r",
      " 82%|████████▏ | 533/648 [29:37<06:51,  3.57s/it]"
     ]
    },
    {
     "name": "stdout",
     "output_type": "stream",
     "text": [
      "iter: 532, train_score: 0.8904567396955069, validation score: 0.0170316301703163, configuration: {'medoid_normalization': None, 'stop_words': None, 'svm_degree': 4, 'svm_gamma': 0.1, 'norm': 'l2', 'svm_c': 1, 'svm_kernel': 'poly'}\n"
     ]
    },
    {
     "name": "stderr",
     "output_type": "stream",
     "text": [
      "\r",
      " 82%|████████▏ | 534/648 [29:41<06:53,  3.62s/it]"
     ]
    },
    {
     "name": "stdout",
     "output_type": "stream",
     "text": [
      "iter: 533, train_score: 0.9973154362416108, validation score: 0.06066012488849243, configuration: {'medoid_normalization': None, 'stop_words': None, 'svm_degree': 4, 'svm_gamma': 0.2, 'norm': 'l2', 'svm_c': 1, 'svm_kernel': 'poly'}\n"
     ]
    },
    {
     "name": "stderr",
     "output_type": "stream",
     "text": [
      "\r",
      " 83%|████████▎ | 535/648 [29:45<07:07,  3.78s/it]"
     ]
    },
    {
     "name": "stdout",
     "output_type": "stream",
     "text": [
      "iter: 534, train_score: 1.0, validation score: 0.058986175115207366, configuration: {'medoid_normalization': None, 'stop_words': None, 'svm_degree': 4, 'svm_gamma': 0.5, 'norm': 'l2', 'svm_c': 1, 'svm_kernel': 'poly'}\n"
     ]
    },
    {
     "name": "stderr",
     "output_type": "stream",
     "text": [
      "\r",
      " 83%|████████▎ | 536/648 [29:49<07:15,  3.89s/it]"
     ]
    },
    {
     "name": "stdout",
     "output_type": "stream",
     "text": [
      "iter: 535, train_score: 1.0, validation score: 0.026022304832713755, configuration: {'medoid_normalization': None, 'stop_words': None, 'svm_degree': 4, 'svm_gamma': 1.0, 'norm': 'l2', 'svm_c': 1, 'svm_kernel': 'poly'}\n"
     ]
    },
    {
     "name": "stderr",
     "output_type": "stream",
     "text": [
      "\r",
      " 83%|████████▎ | 537/648 [29:53<07:09,  3.87s/it]"
     ]
    },
    {
     "name": "stdout",
     "output_type": "stream",
     "text": [
      "iter: 536, train_score: 0.9986595174262735, validation score: 0.031221303948576678, configuration: {'medoid_normalization': None, 'stop_words': None, 'svm_degree': 5, 'svm_gamma': 0.1, 'norm': 'l2', 'svm_c': 1, 'svm_kernel': 'poly'}\n"
     ]
    },
    {
     "name": "stderr",
     "output_type": "stream",
     "text": [
      "\r",
      " 83%|████████▎ | 538/648 [29:57<07:14,  3.95s/it]"
     ]
    },
    {
     "name": "stdout",
     "output_type": "stream",
     "text": [
      "iter: 537, train_score: 1.0, validation score: 0.042704626334519574, configuration: {'medoid_normalization': None, 'stop_words': None, 'svm_degree': 5, 'svm_gamma': 0.2, 'norm': 'l2', 'svm_c': 1, 'svm_kernel': 'poly'}\n"
     ]
    },
    {
     "name": "stderr",
     "output_type": "stream",
     "text": [
      "\r",
      " 83%|████████▎ | 539/648 [30:01<07:13,  3.98s/it]"
     ]
    },
    {
     "name": "stdout",
     "output_type": "stream",
     "text": [
      "iter: 538, train_score: 1.0, validation score: 0.050522648083623695, configuration: {'medoid_normalization': None, 'stop_words': None, 'svm_degree': 5, 'svm_gamma': 0.5, 'norm': 'l2', 'svm_c': 1, 'svm_kernel': 'poly'}\n"
     ]
    },
    {
     "name": "stderr",
     "output_type": "stream",
     "text": [
      "\r",
      " 83%|████████▎ | 540/648 [30:05<07:11,  3.99s/it]"
     ]
    },
    {
     "name": "stdout",
     "output_type": "stream",
     "text": [
      "iter: 539, train_score: 1.0, validation score: 0.043755697356426614, configuration: {'medoid_normalization': None, 'stop_words': None, 'svm_degree': 5, 'svm_gamma': 1.0, 'norm': 'l2', 'svm_c': 1, 'svm_kernel': 'poly'}\n"
     ]
    },
    {
     "name": "stderr",
     "output_type": "stream",
     "text": [
      "\r",
      " 83%|████████▎ | 541/648 [30:08<06:10,  3.46s/it]"
     ]
    },
    {
     "name": "stdout",
     "output_type": "stream",
     "text": [
      "iter: 540, train_score: 0.11125158027812894, validation score: 0.0, configuration: {'medoid_normalization': None, 'stop_words': 'english', 'svm_degree': 3, 'svm_gamma': 0.1, 'norm': 'l2', 'svm_c': 0.01, 'svm_kernel': 'poly'}\n"
     ]
    },
    {
     "name": "stderr",
     "output_type": "stream",
     "text": [
      "\r",
      " 84%|████████▎ | 542/648 [30:10<05:31,  3.13s/it]"
     ]
    },
    {
     "name": "stdout",
     "output_type": "stream",
     "text": [
      "iter: 541, train_score: 0.3316582914572864, validation score: 0.0, configuration: {'medoid_normalization': None, 'stop_words': 'english', 'svm_degree': 3, 'svm_gamma': 0.2, 'norm': 'l2', 'svm_c': 0.01, 'svm_kernel': 'poly'}\n"
     ]
    },
    {
     "name": "stderr",
     "output_type": "stream",
     "text": [
      "\r",
      " 84%|████████▍ | 543/648 [30:12<05:04,  2.90s/it]"
     ]
    },
    {
     "name": "stdout",
     "output_type": "stream",
     "text": [
      "iter: 542, train_score: 0.3307262569832402, validation score: 0.0, configuration: {'medoid_normalization': None, 'stop_words': 'english', 'svm_degree': 3, 'svm_gamma': 0.5, 'norm': 'l2', 'svm_c': 0.01, 'svm_kernel': 'poly'}\n"
     ]
    },
    {
     "name": "stderr",
     "output_type": "stream",
     "text": [
      "\r",
      " 84%|████████▍ | 544/648 [30:15<04:47,  2.76s/it]"
     ]
    },
    {
     "name": "stdout",
     "output_type": "stream",
     "text": [
      "iter: 543, train_score: 0.4605873261205564, validation score: 0.0316205533596838, configuration: {'medoid_normalization': None, 'stop_words': 'english', 'svm_degree': 3, 'svm_gamma': 1.0, 'norm': 'l2', 'svm_c': 0.01, 'svm_kernel': 'poly'}\n"
     ]
    },
    {
     "name": "stderr",
     "output_type": "stream",
     "text": [
      "\r",
      " 84%|████████▍ | 545/648 [30:17<04:31,  2.64s/it]"
     ]
    },
    {
     "name": "stdout",
     "output_type": "stream",
     "text": [
      "iter: 544, train_score: 0.30995475113122173, validation score: 0.0, configuration: {'medoid_normalization': None, 'stop_words': 'english', 'svm_degree': 4, 'svm_gamma': 0.1, 'norm': 'l2', 'svm_c': 0.01, 'svm_kernel': 'poly'}\n"
     ]
    },
    {
     "name": "stderr",
     "output_type": "stream",
     "text": [
      "\r",
      " 84%|████████▍ | 546/648 [30:20<04:24,  2.60s/it]"
     ]
    },
    {
     "name": "stdout",
     "output_type": "stream",
     "text": [
      "iter: 545, train_score: 0.3307262569832402, validation score: 0.0, configuration: {'medoid_normalization': None, 'stop_words': 'english', 'svm_degree': 4, 'svm_gamma': 0.2, 'norm': 'l2', 'svm_c': 0.01, 'svm_kernel': 'poly'}\n"
     ]
    },
    {
     "name": "stderr",
     "output_type": "stream",
     "text": [
      "\r",
      " 84%|████████▍ | 547/648 [30:23<04:39,  2.77s/it]"
     ]
    },
    {
     "name": "stdout",
     "output_type": "stream",
     "text": [
      "iter: 546, train_score: 0.8790472646073689, validation score: 0.034594594594594595, configuration: {'medoid_normalization': None, 'stop_words': 'english', 'svm_degree': 4, 'svm_gamma': 0.5, 'norm': 'l2', 'svm_c': 0.01, 'svm_kernel': 'poly'}\n"
     ]
    },
    {
     "name": "stderr",
     "output_type": "stream",
     "text": [
      "\r",
      " 85%|████████▍ | 548/648 [30:27<05:34,  3.35s/it]"
     ]
    },
    {
     "name": "stdout",
     "output_type": "stream",
     "text": [
      "iter: 547, train_score: 0.9736572015053028, validation score: 0.04556962025316456, configuration: {'medoid_normalization': None, 'stop_words': 'english', 'svm_degree': 4, 'svm_gamma': 1.0, 'norm': 'l2', 'svm_c': 0.01, 'svm_kernel': 'poly'}\n"
     ]
    },
    {
     "name": "stderr",
     "output_type": "stream",
     "text": [
      "\r",
      " 85%|████████▍ | 549/648 [30:30<05:03,  3.07s/it]"
     ]
    },
    {
     "name": "stdout",
     "output_type": "stream",
     "text": [
      "iter: 548, train_score: 0.4137931034482759, validation score: 0.0, configuration: {'medoid_normalization': None, 'stop_words': 'english', 'svm_degree': 5, 'svm_gamma': 0.1, 'norm': 'l2', 'svm_c': 0.01, 'svm_kernel': 'poly'}\n"
     ]
    },
    {
     "name": "stderr",
     "output_type": "stream",
     "text": [
      "\r",
      " 85%|████████▍ | 550/648 [30:33<04:55,  3.02s/it]"
     ]
    },
    {
     "name": "stdout",
     "output_type": "stream",
     "text": [
      "iter: 549, train_score: 0.911070780399274, validation score: 0.03165182987141445, configuration: {'medoid_normalization': None, 'stop_words': 'english', 'svm_degree': 5, 'svm_gamma': 0.2, 'norm': 'l2', 'svm_c': 0.01, 'svm_kernel': 'poly'}\n"
     ]
    },
    {
     "name": "stderr",
     "output_type": "stream",
     "text": [
      "\r",
      " 85%|████████▌ | 551/648 [30:41<07:29,  4.63s/it]"
     ]
    },
    {
     "name": "stdout",
     "output_type": "stream",
     "text": [
      "iter: 550, train_score: 0.9446275543836521, validation score: 0.033613445378151266, configuration: {'medoid_normalization': None, 'stop_words': 'english', 'svm_degree': 5, 'svm_gamma': 0.5, 'norm': 'l2', 'svm_c': 0.01, 'svm_kernel': 'poly'}\n"
     ]
    },
    {
     "name": "stderr",
     "output_type": "stream",
     "text": [
      "\r",
      " 85%|████████▌ | 552/648 [30:47<08:09,  5.10s/it]"
     ]
    },
    {
     "name": "stdout",
     "output_type": "stream",
     "text": [
      "iter: 551, train_score: 0.8745271122320303, validation score: 0.03368083400160384, configuration: {'medoid_normalization': None, 'stop_words': 'english', 'svm_degree': 5, 'svm_gamma': 1.0, 'norm': 'l2', 'svm_c': 0.01, 'svm_kernel': 'poly'}\n"
     ]
    },
    {
     "name": "stderr",
     "output_type": "stream",
     "text": [
      "\r",
      " 85%|████████▌ | 553/648 [30:49<06:39,  4.20s/it]"
     ]
    },
    {
     "name": "stdout",
     "output_type": "stream",
     "text": [
      "iter: 552, train_score: 0.3325892857142857, validation score: 0.0, configuration: {'medoid_normalization': None, 'stop_words': 'english', 'svm_degree': 3, 'svm_gamma': 0.1, 'norm': 'l2', 'svm_c': 0.1, 'svm_kernel': 'poly'}\n"
     ]
    },
    {
     "name": "stderr",
     "output_type": "stream",
     "text": [
      "\r",
      " 85%|████████▌ | 554/648 [30:52<05:43,  3.66s/it]"
     ]
    },
    {
     "name": "stdout",
     "output_type": "stream",
     "text": [
      "iter: 553, train_score: 0.3251121076233184, validation score: 0.0, configuration: {'medoid_normalization': None, 'stop_words': 'english', 'svm_degree': 3, 'svm_gamma': 0.2, 'norm': 'l2', 'svm_c': 0.1, 'svm_kernel': 'poly'}\n"
     ]
    },
    {
     "name": "stderr",
     "output_type": "stream",
     "text": [
      "\r",
      " 86%|████████▌ | 555/648 [30:54<05:11,  3.35s/it]"
     ]
    },
    {
     "name": "stdout",
     "output_type": "stream",
     "text": [
      "iter: 554, train_score: 0.5537270087124879, validation score: 0.014787430683918672, configuration: {'medoid_normalization': None, 'stop_words': 'english', 'svm_degree': 3, 'svm_gamma': 0.5, 'norm': 'l2', 'svm_c': 0.1, 'svm_kernel': 'poly'}\n"
     ]
    },
    {
     "name": "stderr",
     "output_type": "stream",
     "text": [
      "\r",
      " 86%|████████▌ | 556/648 [30:58<05:01,  3.28s/it]"
     ]
    },
    {
     "name": "stdout",
     "output_type": "stream",
     "text": [
      "iter: 555, train_score: 0.8740127867619406, validation score: 0.018823529411764708, configuration: {'medoid_normalization': None, 'stop_words': 'english', 'svm_degree': 3, 'svm_gamma': 1.0, 'norm': 'l2', 'svm_c': 0.1, 'svm_kernel': 'poly'}\n"
     ]
    },
    {
     "name": "stderr",
     "output_type": "stream",
     "text": [
      "\r",
      " 86%|████████▌ | 557/648 [31:00<04:33,  3.01s/it]"
     ]
    },
    {
     "name": "stdout",
     "output_type": "stream",
     "text": [
      "iter: 556, train_score: 0.33630289532293983, validation score: 0.004228329809725159, configuration: {'medoid_normalization': None, 'stop_words': 'english', 'svm_degree': 4, 'svm_gamma': 0.1, 'norm': 'l2', 'svm_c': 0.1, 'svm_kernel': 'poly'}\n"
     ]
    },
    {
     "name": "stderr",
     "output_type": "stream",
     "text": [
      "\r",
      " 86%|████████▌ | 558/648 [31:03<04:23,  2.92s/it]"
     ]
    },
    {
     "name": "stdout",
     "output_type": "stream",
     "text": [
      "iter: 557, train_score: 0.7223880597014926, validation score: 0.015432098765432098, configuration: {'medoid_normalization': None, 'stop_words': 'english', 'svm_degree': 4, 'svm_gamma': 0.2, 'norm': 'l2', 'svm_c': 0.1, 'svm_kernel': 'poly'}\n"
     ]
    },
    {
     "name": "stderr",
     "output_type": "stream",
     "text": [
      "\r",
      " 86%|████████▋ | 559/648 [31:07<05:01,  3.39s/it]"
     ]
    },
    {
     "name": "stdout",
     "output_type": "stream",
     "text": [
      "iter: 558, train_score: 0.9547038327526132, validation score: 0.03835091083413231, configuration: {'medoid_normalization': None, 'stop_words': 'english', 'svm_degree': 4, 'svm_gamma': 0.5, 'norm': 'l2', 'svm_c': 0.1, 'svm_kernel': 'poly'}\n"
     ]
    },
    {
     "name": "stderr",
     "output_type": "stream",
     "text": [
      "\r",
      " 86%|████████▋ | 560/648 [31:13<06:13,  4.25s/it]"
     ]
    },
    {
     "name": "stdout",
     "output_type": "stream",
     "text": [
      "iter: 559, train_score: 0.8847013733631428, validation score: 0.037116345467523196, configuration: {'medoid_normalization': None, 'stop_words': 'english', 'svm_degree': 4, 'svm_gamma': 1.0, 'norm': 'l2', 'svm_c': 0.1, 'svm_kernel': 'poly'}\n"
     ]
    },
    {
     "name": "stderr",
     "output_type": "stream",
     "text": [
      "\r",
      " 87%|████████▋ | 561/648 [31:16<05:32,  3.83s/it]"
     ]
    },
    {
     "name": "stdout",
     "output_type": "stream",
     "text": [
      "iter: 560, train_score: 0.7820773930753565, validation score: 0.02886002886002886, configuration: {'medoid_normalization': None, 'stop_words': 'english', 'svm_degree': 5, 'svm_gamma': 0.1, 'norm': 'l2', 'svm_c': 0.1, 'svm_kernel': 'poly'}\n"
     ]
    },
    {
     "name": "stderr",
     "output_type": "stream",
     "text": [
      "\r",
      " 87%|████████▋ | 562/648 [31:20<05:20,  3.72s/it]"
     ]
    },
    {
     "name": "stdout",
     "output_type": "stream",
     "text": [
      "iter: 561, train_score: 0.9739368998628257, validation score: 0.036231884057971016, configuration: {'medoid_normalization': None, 'stop_words': 'english', 'svm_degree': 5, 'svm_gamma': 0.2, 'norm': 'l2', 'svm_c': 0.1, 'svm_kernel': 'poly'}\n"
     ]
    },
    {
     "name": "stderr",
     "output_type": "stream",
     "text": [
      "\r",
      " 87%|████████▋ | 563/648 [31:27<06:35,  4.65s/it]"
     ]
    },
    {
     "name": "stdout",
     "output_type": "stream",
     "text": [
      "iter: 562, train_score: 0.808756460930374, validation score: 0.04144385026737967, configuration: {'medoid_normalization': None, 'stop_words': 'english', 'svm_degree': 5, 'svm_gamma': 0.5, 'norm': 'l2', 'svm_c': 0.1, 'svm_kernel': 'poly'}\n"
     ]
    },
    {
     "name": "stderr",
     "output_type": "stream",
     "text": [
      "\r",
      " 87%|████████▋ | 564/648 [31:38<09:10,  6.56s/it]"
     ]
    },
    {
     "name": "stdout",
     "output_type": "stream",
     "text": [
      "iter: 563, train_score: 0.923679060665362, validation score: 0.04374057315233786, configuration: {'medoid_normalization': None, 'stop_words': 'english', 'svm_degree': 5, 'svm_gamma': 1.0, 'norm': 'l2', 'svm_c': 0.1, 'svm_kernel': 'poly'}\n"
     ]
    },
    {
     "name": "stderr",
     "output_type": "stream",
     "text": [
      "\r",
      " 87%|████████▋ | 565/648 [31:40<07:20,  5.31s/it]"
     ]
    },
    {
     "name": "stdout",
     "output_type": "stream",
     "text": [
      "iter: 564, train_score: 0.36542669584245074, validation score: 0.0, configuration: {'medoid_normalization': None, 'stop_words': 'english', 'svm_degree': 3, 'svm_gamma': 0.1, 'norm': 'l2', 'svm_c': 1, 'svm_kernel': 'poly'}\n"
     ]
    },
    {
     "name": "stderr",
     "output_type": "stream",
     "text": [
      "\r",
      " 87%|████████▋ | 566/648 [31:43<06:11,  4.53s/it]"
     ]
    },
    {
     "name": "stdout",
     "output_type": "stream",
     "text": [
      "iter: 565, train_score: 0.45796802475502835, validation score: 0.00823045267489712, configuration: {'medoid_normalization': None, 'stop_words': 'english', 'svm_degree': 3, 'svm_gamma': 0.2, 'norm': 'l2', 'svm_c': 1, 'svm_kernel': 'poly'}\n"
     ]
    },
    {
     "name": "stderr",
     "output_type": "stream",
     "text": [
      "\r",
      " 88%|████████▊ | 567/648 [31:46<05:41,  4.21s/it]"
     ]
    },
    {
     "name": "stdout",
     "output_type": "stream",
     "text": [
      "iter: 566, train_score: 0.8718914845516201, validation score: 0.014155712841253791, configuration: {'medoid_normalization': None, 'stop_words': 'english', 'svm_degree': 3, 'svm_gamma': 0.5, 'norm': 'l2', 'svm_c': 1, 'svm_kernel': 'poly'}\n"
     ]
    },
    {
     "name": "stderr",
     "output_type": "stream",
     "text": [
      "\r",
      " 88%|████████▊ | 568/648 [31:51<05:47,  4.34s/it]"
     ]
    },
    {
     "name": "stdout",
     "output_type": "stream",
     "text": [
      "iter: 567, train_score: 0.9644950017235436, validation score: 0.03678929765886287, configuration: {'medoid_normalization': None, 'stop_words': 'english', 'svm_degree': 3, 'svm_gamma': 1.0, 'norm': 'l2', 'svm_c': 1, 'svm_kernel': 'poly'}\n"
     ]
    },
    {
     "name": "stderr",
     "output_type": "stream",
     "text": [
      "\r",
      " 88%|████████▊ | 569/648 [31:53<05:01,  3.82s/it]"
     ]
    },
    {
     "name": "stdout",
     "output_type": "stream",
     "text": [
      "iter: 568, train_score: 0.7061365600691444, validation score: 0.041237113402061855, configuration: {'medoid_normalization': None, 'stop_words': 'english', 'svm_degree': 4, 'svm_gamma': 0.1, 'norm': 'l2', 'svm_c': 1, 'svm_kernel': 'poly'}\n"
     ]
    },
    {
     "name": "stderr",
     "output_type": "stream",
     "text": [
      "\r",
      " 88%|████████▊ | 570/648 [31:57<04:59,  3.84s/it]"
     ]
    },
    {
     "name": "stdout",
     "output_type": "stream",
     "text": [
      "iter: 569, train_score: 0.925543284645529, validation score: 0.045174537987679675, configuration: {'medoid_normalization': None, 'stop_words': 'english', 'svm_degree': 4, 'svm_gamma': 0.2, 'norm': 'l2', 'svm_c': 1, 'svm_kernel': 'poly'}\n"
     ]
    },
    {
     "name": "stderr",
     "output_type": "stream",
     "text": [
      "\r",
      " 88%|████████▊ | 571/648 [32:10<08:19,  6.49s/it]"
     ]
    },
    {
     "name": "stdout",
     "output_type": "stream",
     "text": [
      "iter: 570, train_score: 0.9483382691674893, validation score: 0.034837688044338885, configuration: {'medoid_normalization': None, 'stop_words': 'english', 'svm_degree': 4, 'svm_gamma': 0.5, 'norm': 'l2', 'svm_c': 1, 'svm_kernel': 'poly'}\n"
     ]
    },
    {
     "name": "stderr",
     "output_type": "stream",
     "text": [
      "\r",
      " 88%|████████▊ | 572/648 [32:18<08:49,  6.97s/it]"
     ]
    },
    {
     "name": "stdout",
     "output_type": "stream",
     "text": [
      "iter: 571, train_score: 0.9157626037013401, validation score: 0.048854961832061075, configuration: {'medoid_normalization': None, 'stop_words': 'english', 'svm_degree': 4, 'svm_gamma': 1.0, 'norm': 'l2', 'svm_c': 1, 'svm_kernel': 'poly'}\n"
     ]
    },
    {
     "name": "stderr",
     "output_type": "stream",
     "text": [
      "\r",
      " 88%|████████▊ | 573/648 [32:21<07:22,  5.90s/it]"
     ]
    },
    {
     "name": "stdout",
     "output_type": "stream",
     "text": [
      "iter: 572, train_score: 0.9654934437543132, validation score: 0.0541044776119403, configuration: {'medoid_normalization': None, 'stop_words': 'english', 'svm_degree': 5, 'svm_gamma': 0.1, 'norm': 'l2', 'svm_c': 1, 'svm_kernel': 'poly'}\n"
     ]
    },
    {
     "name": "stderr",
     "output_type": "stream",
     "text": [
      "\r",
      " 89%|████████▊ | 574/648 [32:27<07:18,  5.92s/it]"
     ]
    },
    {
     "name": "stdout",
     "output_type": "stream",
     "text": [
      "iter: 573, train_score: 0.9358218729535036, validation score: 0.044290657439446365, configuration: {'medoid_normalization': None, 'stop_words': 'english', 'svm_degree': 5, 'svm_gamma': 0.2, 'norm': 'l2', 'svm_c': 1, 'svm_kernel': 'poly'}\n"
     ]
    },
    {
     "name": "stderr",
     "output_type": "stream",
     "text": [
      "\r",
      " 89%|████████▊ | 575/648 [32:43<10:54,  8.96s/it]"
     ]
    },
    {
     "name": "stdout",
     "output_type": "stream",
     "text": [
      "iter: 574, train_score: 0.8986896772131672, validation score: 0.03395585738539898, configuration: {'medoid_normalization': None, 'stop_words': 'english', 'svm_degree': 5, 'svm_gamma': 0.5, 'norm': 'l2', 'svm_c': 1, 'svm_kernel': 'poly'}\n"
     ]
    },
    {
     "name": "stderr",
     "output_type": "stream",
     "text": [
      "\r",
      " 89%|████████▉ | 576/648 [34:26<44:34, 37.14s/it]"
     ]
    },
    {
     "name": "stdout",
     "output_type": "stream",
     "text": [
      "iter: 575, train_score: 0.8947704081632653, validation score: 0.03418803418803419, configuration: {'medoid_normalization': None, 'stop_words': 'english', 'svm_degree': 5, 'svm_gamma': 1.0, 'norm': 'l2', 'svm_c': 1, 'svm_kernel': 'poly'}\n"
     ]
    },
    {
     "name": "stderr",
     "output_type": "stream",
     "text": [
      "\r",
      " 89%|████████▉ | 577/648 [34:31<32:15, 27.26s/it]"
     ]
    },
    {
     "name": "stdout",
     "output_type": "stream",
     "text": [
      "iter: 576, train_score: 1.0, validation score: 0.047058823529411764, configuration: {'medoid_normalization': None, 'stop_words': None, 'svm_degree': 3, 'svm_gamma': 0.1, 'norm': None, 'svm_c': 0.01, 'svm_kernel': 'poly'}\n"
     ]
    },
    {
     "name": "stderr",
     "output_type": "stream",
     "text": [
      "\r",
      " 89%|████████▉ | 578/648 [34:34<23:29, 20.14s/it]"
     ]
    },
    {
     "name": "stdout",
     "output_type": "stream",
     "text": [
      "iter: 577, train_score: 1.0, validation score: 0.04242424242424243, configuration: {'medoid_normalization': None, 'stop_words': None, 'svm_degree': 3, 'svm_gamma': 0.2, 'norm': None, 'svm_c': 0.01, 'svm_kernel': 'poly'}\n"
     ]
    },
    {
     "name": "stderr",
     "output_type": "stream",
     "text": [
      "\r",
      " 89%|████████▉ | 579/648 [34:38<17:38, 15.34s/it]"
     ]
    },
    {
     "name": "stdout",
     "output_type": "stream",
     "text": [
      "iter: 578, train_score: 1.0, validation score: 0.036290322580645164, configuration: {'medoid_normalization': None, 'stop_words': None, 'svm_degree': 3, 'svm_gamma': 0.5, 'norm': None, 'svm_c': 0.01, 'svm_kernel': 'poly'}\n"
     ]
    },
    {
     "name": "stderr",
     "output_type": "stream",
     "text": [
      "\r",
      " 90%|████████▉ | 580/648 [34:42<13:31, 11.94s/it]"
     ]
    },
    {
     "name": "stdout",
     "output_type": "stream",
     "text": [
      "iter: 579, train_score: 1.0, validation score: 0.03865717192268566, configuration: {'medoid_normalization': None, 'stop_words': None, 'svm_degree': 3, 'svm_gamma': 1.0, 'norm': None, 'svm_c': 0.01, 'svm_kernel': 'poly'}\n"
     ]
    },
    {
     "name": "stderr",
     "output_type": "stream",
     "text": [
      "\r",
      " 90%|████████▉ | 581/648 [34:46<10:38,  9.53s/it]"
     ]
    },
    {
     "name": "stdout",
     "output_type": "stream",
     "text": [
      "iter: 580, train_score: 1.0, validation score: 0.03995793901156678, configuration: {'medoid_normalization': None, 'stop_words': None, 'svm_degree': 4, 'svm_gamma': 0.1, 'norm': None, 'svm_c': 0.01, 'svm_kernel': 'poly'}\n"
     ]
    },
    {
     "name": "stderr",
     "output_type": "stream",
     "text": [
      "\r",
      " 90%|████████▉ | 582/648 [34:50<08:44,  7.94s/it]"
     ]
    },
    {
     "name": "stdout",
     "output_type": "stream",
     "text": [
      "iter: 581, train_score: 1.0, validation score: 0.04498977505112474, configuration: {'medoid_normalization': None, 'stop_words': None, 'svm_degree': 4, 'svm_gamma': 0.2, 'norm': None, 'svm_c': 0.01, 'svm_kernel': 'poly'}\n"
     ]
    },
    {
     "name": "stderr",
     "output_type": "stream",
     "text": [
      "\r",
      " 90%|████████▉ | 583/648 [34:54<07:14,  6.69s/it]"
     ]
    },
    {
     "name": "stdout",
     "output_type": "stream",
     "text": [
      "iter: 582, train_score: 1.0, validation score: 0.04425711275026343, configuration: {'medoid_normalization': None, 'stop_words': None, 'svm_degree': 4, 'svm_gamma': 0.5, 'norm': None, 'svm_c': 0.01, 'svm_kernel': 'poly'}\n"
     ]
    },
    {
     "name": "stderr",
     "output_type": "stream",
     "text": [
      "\r",
      " 90%|█████████ | 584/648 [34:58<06:20,  5.94s/it]"
     ]
    },
    {
     "name": "stdout",
     "output_type": "stream",
     "text": [
      "iter: 583, train_score: 1.0, validation score: 0.03451995685005394, configuration: {'medoid_normalization': None, 'stop_words': None, 'svm_degree': 4, 'svm_gamma': 1.0, 'norm': None, 'svm_c': 0.01, 'svm_kernel': 'poly'}\n"
     ]
    },
    {
     "name": "stderr",
     "output_type": "stream",
     "text": [
      "\r",
      " 90%|█████████ | 585/648 [35:02<05:24,  5.15s/it]"
     ]
    },
    {
     "name": "stdout",
     "output_type": "stream",
     "text": [
      "iter: 584, train_score: 1.0, validation score: 0.037460978147762745, configuration: {'medoid_normalization': None, 'stop_words': None, 'svm_degree': 5, 'svm_gamma': 0.1, 'norm': None, 'svm_c': 0.01, 'svm_kernel': 'poly'}\n"
     ]
    },
    {
     "name": "stderr",
     "output_type": "stream",
     "text": [
      "\r",
      " 90%|█████████ | 586/648 [35:06<05:06,  4.95s/it]"
     ]
    },
    {
     "name": "stdout",
     "output_type": "stream",
     "text": [
      "iter: 585, train_score: 0.9996654399464704, validation score: 0.036093418259023353, configuration: {'medoid_normalization': None, 'stop_words': None, 'svm_degree': 5, 'svm_gamma': 0.2, 'norm': None, 'svm_c': 0.01, 'svm_kernel': 'poly'}\n"
     ]
    },
    {
     "name": "stderr",
     "output_type": "stream",
     "text": [
      "\r",
      " 91%|█████████ | 587/648 [35:10<04:43,  4.64s/it]"
     ]
    },
    {
     "name": "stdout",
     "output_type": "stream",
     "text": [
      "iter: 586, train_score: 1.0, validation score: 0.03455723542116631, configuration: {'medoid_normalization': None, 'stop_words': None, 'svm_degree': 5, 'svm_gamma': 0.5, 'norm': None, 'svm_c': 0.01, 'svm_kernel': 'poly'}\n"
     ]
    },
    {
     "name": "stderr",
     "output_type": "stream",
     "text": [
      "\r",
      " 91%|█████████ | 588/648 [35:14<04:18,  4.31s/it]"
     ]
    },
    {
     "name": "stdout",
     "output_type": "stream",
     "text": [
      "iter: 587, train_score: 1.0, validation score: 0.04388714733542319, configuration: {'medoid_normalization': None, 'stop_words': None, 'svm_degree': 5, 'svm_gamma': 1.0, 'norm': None, 'svm_c': 0.01, 'svm_kernel': 'poly'}\n"
     ]
    },
    {
     "name": "stderr",
     "output_type": "stream",
     "text": [
      "\r",
      " 91%|█████████ | 589/648 [35:18<04:07,  4.20s/it]"
     ]
    },
    {
     "name": "stdout",
     "output_type": "stream",
     "text": [
      "iter: 588, train_score: 1.0, validation score: 0.06176783812566561, configuration: {'medoid_normalization': None, 'stop_words': None, 'svm_degree': 3, 'svm_gamma': 0.1, 'norm': None, 'svm_c': 0.1, 'svm_kernel': 'poly'}\n"
     ]
    },
    {
     "name": "stderr",
     "output_type": "stream",
     "text": [
      "\r",
      " 91%|█████████ | 590/648 [35:22<03:59,  4.13s/it]"
     ]
    },
    {
     "name": "stdout",
     "output_type": "stream",
     "text": [
      "iter: 589, train_score: 1.0, validation score: 0.03992015968063873, configuration: {'medoid_normalization': None, 'stop_words': None, 'svm_degree': 3, 'svm_gamma': 0.2, 'norm': None, 'svm_c': 0.1, 'svm_kernel': 'poly'}\n"
     ]
    },
    {
     "name": "stderr",
     "output_type": "stream",
     "text": [
      "\r",
      " 91%|█████████ | 591/648 [35:26<04:01,  4.24s/it]"
     ]
    },
    {
     "name": "stdout",
     "output_type": "stream",
     "text": [
      "iter: 590, train_score: 1.0, validation score: 0.03974895397489539, configuration: {'medoid_normalization': None, 'stop_words': None, 'svm_degree': 3, 'svm_gamma': 0.5, 'norm': None, 'svm_c': 0.1, 'svm_kernel': 'poly'}\n"
     ]
    },
    {
     "name": "stderr",
     "output_type": "stream",
     "text": [
      "\r",
      " 91%|█████████▏| 592/648 [35:29<03:43,  3.99s/it]"
     ]
    },
    {
     "name": "stdout",
     "output_type": "stream",
     "text": [
      "iter: 591, train_score: 1.0, validation score: 0.04106776180698152, configuration: {'medoid_normalization': None, 'stop_words': None, 'svm_degree': 3, 'svm_gamma': 1.0, 'norm': None, 'svm_c': 0.1, 'svm_kernel': 'poly'}\n"
     ]
    },
    {
     "name": "stderr",
     "output_type": "stream",
     "text": [
      "\r",
      " 92%|█████████▏| 593/648 [35:33<03:41,  4.02s/it]"
     ]
    },
    {
     "name": "stdout",
     "output_type": "stream",
     "text": [
      "iter: 592, train_score: 1.0, validation score: 0.036036036036036036, configuration: {'medoid_normalization': None, 'stop_words': None, 'svm_degree': 4, 'svm_gamma': 0.1, 'norm': None, 'svm_c': 0.1, 'svm_kernel': 'poly'}\n"
     ]
    },
    {
     "name": "stderr",
     "output_type": "stream",
     "text": [
      "\r",
      " 92%|█████████▏| 594/648 [35:38<03:45,  4.18s/it]"
     ]
    },
    {
     "name": "stdout",
     "output_type": "stream",
     "text": [
      "iter: 593, train_score: 1.0, validation score: 0.03680981595092025, configuration: {'medoid_normalization': None, 'stop_words': None, 'svm_degree': 4, 'svm_gamma': 0.2, 'norm': None, 'svm_c': 0.1, 'svm_kernel': 'poly'}\n"
     ]
    },
    {
     "name": "stderr",
     "output_type": "stream",
     "text": [
      "\r",
      " 92%|█████████▏| 595/648 [35:42<03:33,  4.03s/it]"
     ]
    },
    {
     "name": "stdout",
     "output_type": "stream",
     "text": [
      "iter: 594, train_score: 1.0, validation score: 0.04540763673890609, configuration: {'medoid_normalization': None, 'stop_words': None, 'svm_degree': 4, 'svm_gamma': 0.5, 'norm': None, 'svm_c': 0.1, 'svm_kernel': 'poly'}\n"
     ]
    },
    {
     "name": "stderr",
     "output_type": "stream",
     "text": [
      "\r",
      " 92%|█████████▏| 596/648 [35:46<03:28,  4.00s/it]"
     ]
    },
    {
     "name": "stdout",
     "output_type": "stream",
     "text": [
      "iter: 595, train_score: 1.0, validation score: 0.05422314911366006, configuration: {'medoid_normalization': None, 'stop_words': None, 'svm_degree': 4, 'svm_gamma': 1.0, 'norm': None, 'svm_c': 0.1, 'svm_kernel': 'poly'}\n"
     ]
    },
    {
     "name": "stderr",
     "output_type": "stream",
     "text": [
      "\r",
      " 92%|█████████▏| 597/648 [35:49<03:14,  3.81s/it]"
     ]
    },
    {
     "name": "stdout",
     "output_type": "stream",
     "text": [
      "iter: 596, train_score: 1.0, validation score: 0.0425531914893617, configuration: {'medoid_normalization': None, 'stop_words': None, 'svm_degree': 5, 'svm_gamma': 0.1, 'norm': None, 'svm_c': 0.1, 'svm_kernel': 'poly'}\n"
     ]
    },
    {
     "name": "stderr",
     "output_type": "stream",
     "text": [
      "\r",
      " 92%|█████████▏| 598/648 [35:53<03:08,  3.77s/it]"
     ]
    },
    {
     "name": "stdout",
     "output_type": "stream",
     "text": [
      "iter: 597, train_score: 1.0, validation score: 0.03583426651735722, configuration: {'medoid_normalization': None, 'stop_words': None, 'svm_degree': 5, 'svm_gamma': 0.2, 'norm': None, 'svm_c': 0.1, 'svm_kernel': 'poly'}\n"
     ]
    },
    {
     "name": "stderr",
     "output_type": "stream",
     "text": [
      "\r",
      " 92%|█████████▏| 599/648 [35:56<03:03,  3.74s/it]"
     ]
    },
    {
     "name": "stdout",
     "output_type": "stream",
     "text": [
      "iter: 598, train_score: 1.0, validation score: 0.036290322580645164, configuration: {'medoid_normalization': None, 'stop_words': None, 'svm_degree': 5, 'svm_gamma': 0.5, 'norm': None, 'svm_c': 0.1, 'svm_kernel': 'poly'}\n"
     ]
    },
    {
     "name": "stderr",
     "output_type": "stream",
     "text": [
      "\r",
      " 93%|█████████▎| 600/648 [36:00<02:54,  3.64s/it]"
     ]
    },
    {
     "name": "stdout",
     "output_type": "stream",
     "text": [
      "iter: 599, train_score: 1.0, validation score: 0.043010752688172046, configuration: {'medoid_normalization': None, 'stop_words': None, 'svm_degree': 5, 'svm_gamma': 1.0, 'norm': None, 'svm_c': 0.1, 'svm_kernel': 'poly'}\n"
     ]
    },
    {
     "name": "stderr",
     "output_type": "stream",
     "text": [
      "\r",
      " 93%|█████████▎| 601/648 [36:03<02:51,  3.66s/it]"
     ]
    },
    {
     "name": "stdout",
     "output_type": "stream",
     "text": [
      "iter: 600, train_score: 1.0, validation score: 0.04752066115702479, configuration: {'medoid_normalization': None, 'stop_words': None, 'svm_degree': 3, 'svm_gamma': 0.1, 'norm': None, 'svm_c': 1, 'svm_kernel': 'poly'}\n"
     ]
    },
    {
     "name": "stderr",
     "output_type": "stream",
     "text": [
      "\r",
      " 93%|█████████▎| 602/648 [36:07<02:50,  3.71s/it]"
     ]
    },
    {
     "name": "stdout",
     "output_type": "stream",
     "text": [
      "iter: 601, train_score: 1.0, validation score: 0.03017241379310345, configuration: {'medoid_normalization': None, 'stop_words': None, 'svm_degree': 3, 'svm_gamma': 0.2, 'norm': None, 'svm_c': 1, 'svm_kernel': 'poly'}\n"
     ]
    },
    {
     "name": "stderr",
     "output_type": "stream",
     "text": [
      "\r",
      " 93%|█████████▎| 603/648 [36:13<03:16,  4.36s/it]"
     ]
    },
    {
     "name": "stdout",
     "output_type": "stream",
     "text": [
      "iter: 602, train_score: 1.0, validation score: 0.04250797024442084, configuration: {'medoid_normalization': None, 'stop_words': None, 'svm_degree': 3, 'svm_gamma': 0.5, 'norm': None, 'svm_c': 1, 'svm_kernel': 'poly'}\n"
     ]
    },
    {
     "name": "stderr",
     "output_type": "stream",
     "text": [
      "\r",
      " 93%|█████████▎| 604/648 [36:17<03:05,  4.23s/it]"
     ]
    },
    {
     "name": "stdout",
     "output_type": "stream",
     "text": [
      "iter: 603, train_score: 1.0, validation score: 0.04052684903748733, configuration: {'medoid_normalization': None, 'stop_words': None, 'svm_degree': 3, 'svm_gamma': 1.0, 'norm': None, 'svm_c': 1, 'svm_kernel': 'poly'}\n"
     ]
    },
    {
     "name": "stderr",
     "output_type": "stream",
     "text": [
      "\r",
      " 93%|█████████▎| 605/648 [36:21<02:54,  4.05s/it]"
     ]
    },
    {
     "name": "stdout",
     "output_type": "stream",
     "text": [
      "iter: 604, train_score: 1.0, validation score: 0.03925619834710744, configuration: {'medoid_normalization': None, 'stop_words': None, 'svm_degree': 4, 'svm_gamma': 0.1, 'norm': None, 'svm_c': 1, 'svm_kernel': 'poly'}\n"
     ]
    },
    {
     "name": "stderr",
     "output_type": "stream",
     "text": [
      "\r",
      " 94%|█████████▎| 606/648 [36:25<02:47,  3.99s/it]"
     ]
    },
    {
     "name": "stdout",
     "output_type": "stream",
     "text": [
      "iter: 605, train_score: 1.0, validation score: 0.04361370716510904, configuration: {'medoid_normalization': None, 'stop_words': None, 'svm_degree': 4, 'svm_gamma': 0.2, 'norm': None, 'svm_c': 1, 'svm_kernel': 'poly'}\n"
     ]
    },
    {
     "name": "stderr",
     "output_type": "stream",
     "text": [
      "\r",
      " 94%|█████████▎| 607/648 [36:29<02:53,  4.23s/it]"
     ]
    },
    {
     "name": "stdout",
     "output_type": "stream",
     "text": [
      "iter: 606, train_score: 1.0, validation score: 0.03243243243243242, configuration: {'medoid_normalization': None, 'stop_words': None, 'svm_degree': 4, 'svm_gamma': 0.5, 'norm': None, 'svm_c': 1, 'svm_kernel': 'poly'}\n"
     ]
    },
    {
     "name": "stderr",
     "output_type": "stream",
     "text": [
      "\r",
      " 94%|█████████▍| 608/648 [36:33<02:46,  4.17s/it]"
     ]
    },
    {
     "name": "stdout",
     "output_type": "stream",
     "text": [
      "iter: 607, train_score: 1.0, validation score: 0.031380753138075305, configuration: {'medoid_normalization': None, 'stop_words': None, 'svm_degree': 4, 'svm_gamma': 1.0, 'norm': None, 'svm_c': 1, 'svm_kernel': 'poly'}\n"
     ]
    },
    {
     "name": "stderr",
     "output_type": "stream",
     "text": [
      "\r",
      " 94%|█████████▍| 609/648 [36:37<02:34,  3.97s/it]"
     ]
    },
    {
     "name": "stdout",
     "output_type": "stream",
     "text": [
      "iter: 608, train_score: 1.0, validation score: 0.04835164835164836, configuration: {'medoid_normalization': None, 'stop_words': None, 'svm_degree': 5, 'svm_gamma': 0.1, 'norm': None, 'svm_c': 1, 'svm_kernel': 'poly'}\n"
     ]
    },
    {
     "name": "stderr",
     "output_type": "stream",
     "text": [
      "\r",
      " 94%|█████████▍| 610/648 [36:40<02:24,  3.81s/it]"
     ]
    },
    {
     "name": "stdout",
     "output_type": "stream",
     "text": [
      "iter: 609, train_score: 1.0, validation score: 0.04690831556503198, configuration: {'medoid_normalization': None, 'stop_words': None, 'svm_degree': 5, 'svm_gamma': 0.2, 'norm': None, 'svm_c': 1, 'svm_kernel': 'poly'}\n"
     ]
    },
    {
     "name": "stderr",
     "output_type": "stream",
     "text": [
      "\r",
      " 94%|█████████▍| 611/648 [36:44<02:22,  3.84s/it]"
     ]
    },
    {
     "name": "stdout",
     "output_type": "stream",
     "text": [
      "iter: 610, train_score: 1.0, validation score: 0.03908794788273616, configuration: {'medoid_normalization': None, 'stop_words': None, 'svm_degree': 5, 'svm_gamma': 0.5, 'norm': None, 'svm_c': 1, 'svm_kernel': 'poly'}\n"
     ]
    },
    {
     "name": "stderr",
     "output_type": "stream",
     "text": [
      "\r",
      " 94%|█████████▍| 612/648 [36:48<02:14,  3.73s/it]"
     ]
    },
    {
     "name": "stdout",
     "output_type": "stream",
     "text": [
      "iter: 611, train_score: 1.0, validation score: 0.05284552845528455, configuration: {'medoid_normalization': None, 'stop_words': None, 'svm_degree': 5, 'svm_gamma': 1.0, 'norm': None, 'svm_c': 1, 'svm_kernel': 'poly'}\n"
     ]
    },
    {
     "name": "stderr",
     "output_type": "stream",
     "text": [
      "\r",
      " 95%|█████████▍| 613/648 [36:53<02:31,  4.33s/it]"
     ]
    },
    {
     "name": "stdout",
     "output_type": "stream",
     "text": [
      "iter: 612, train_score: 1.0, validation score: 0.047938638542665384, configuration: {'medoid_normalization': None, 'stop_words': 'english', 'svm_degree': 3, 'svm_gamma': 0.1, 'norm': None, 'svm_c': 0.01, 'svm_kernel': 'poly'}\n"
     ]
    },
    {
     "name": "stderr",
     "output_type": "stream",
     "text": [
      "\r",
      " 95%|█████████▍| 614/648 [36:59<02:35,  4.57s/it]"
     ]
    },
    {
     "name": "stdout",
     "output_type": "stream",
     "text": [
      "iter: 613, train_score: 1.0, validation score: 0.05013927576601672, configuration: {'medoid_normalization': None, 'stop_words': 'english', 'svm_degree': 3, 'svm_gamma': 0.2, 'norm': None, 'svm_c': 0.01, 'svm_kernel': 'poly'}\n"
     ]
    },
    {
     "name": "stderr",
     "output_type": "stream",
     "text": [
      "\r",
      " 95%|█████████▍| 615/648 [37:05<02:47,  5.07s/it]"
     ]
    },
    {
     "name": "stdout",
     "output_type": "stream",
     "text": [
      "iter: 614, train_score: 0.9996654399464704, validation score: 0.04878048780487805, configuration: {'medoid_normalization': None, 'stop_words': 'english', 'svm_degree': 3, 'svm_gamma': 0.5, 'norm': None, 'svm_c': 0.01, 'svm_kernel': 'poly'}\n"
     ]
    },
    {
     "name": "stderr",
     "output_type": "stream",
     "text": [
      "\r",
      " 95%|█████████▌| 616/648 [37:10<02:41,  5.04s/it]"
     ]
    },
    {
     "name": "stdout",
     "output_type": "stream",
     "text": [
      "iter: 615, train_score: 0.9996654399464704, validation score: 0.042515500442869794, configuration: {'medoid_normalization': None, 'stop_words': 'english', 'svm_degree': 3, 'svm_gamma': 1.0, 'norm': None, 'svm_c': 0.01, 'svm_kernel': 'poly'}\n"
     ]
    },
    {
     "name": "stderr",
     "output_type": "stream",
     "text": [
      "\r",
      " 95%|█████████▌| 617/648 [37:15<02:37,  5.09s/it]"
     ]
    },
    {
     "name": "stdout",
     "output_type": "stream",
     "text": [
      "iter: 616, train_score: 1.0, validation score: 0.047372316802368614, configuration: {'medoid_normalization': None, 'stop_words': 'english', 'svm_degree': 4, 'svm_gamma': 0.1, 'norm': None, 'svm_c': 0.01, 'svm_kernel': 'poly'}\n"
     ]
    },
    {
     "name": "stderr",
     "output_type": "stream",
     "text": [
      "\r",
      " 95%|█████████▌| 618/648 [37:20<02:35,  5.19s/it]"
     ]
    },
    {
     "name": "stdout",
     "output_type": "stream",
     "text": [
      "iter: 617, train_score: 1.0, validation score: 0.04468412942989215, configuration: {'medoid_normalization': None, 'stop_words': 'english', 'svm_degree': 4, 'svm_gamma': 0.2, 'norm': None, 'svm_c': 0.01, 'svm_kernel': 'poly'}\n"
     ]
    },
    {
     "name": "stderr",
     "output_type": "stream",
     "text": [
      "\r",
      " 96%|█████████▌| 619/648 [37:26<02:32,  5.25s/it]"
     ]
    },
    {
     "name": "stdout",
     "output_type": "stream",
     "text": [
      "iter: 618, train_score: 1.0, validation score: 0.03868194842406877, configuration: {'medoid_normalization': None, 'stop_words': 'english', 'svm_degree': 4, 'svm_gamma': 0.5, 'norm': None, 'svm_c': 0.01, 'svm_kernel': 'poly'}\n"
     ]
    },
    {
     "name": "stderr",
     "output_type": "stream",
     "text": [
      "\r",
      " 96%|█████████▌| 620/648 [37:30<02:22,  5.08s/it]"
     ]
    },
    {
     "name": "stdout",
     "output_type": "stream",
     "text": [
      "iter: 619, train_score: 1.0, validation score: 0.04239766081871345, configuration: {'medoid_normalization': None, 'stop_words': 'english', 'svm_degree': 4, 'svm_gamma': 1.0, 'norm': None, 'svm_c': 0.01, 'svm_kernel': 'poly'}\n"
     ]
    },
    {
     "name": "stderr",
     "output_type": "stream",
     "text": [
      "\r",
      " 96%|█████████▌| 621/648 [37:36<02:21,  5.25s/it]"
     ]
    },
    {
     "name": "stdout",
     "output_type": "stream",
     "text": [
      "iter: 620, train_score: 1.0, validation score: 0.05673758865248227, configuration: {'medoid_normalization': None, 'stop_words': 'english', 'svm_degree': 5, 'svm_gamma': 0.1, 'norm': None, 'svm_c': 0.01, 'svm_kernel': 'poly'}\n"
     ]
    },
    {
     "name": "stderr",
     "output_type": "stream",
     "text": [
      "\r",
      " 96%|█████████▌| 622/648 [37:41<02:14,  5.18s/it]"
     ]
    },
    {
     "name": "stdout",
     "output_type": "stream",
     "text": [
      "iter: 621, train_score: 1.0, validation score: 0.04058782365290413, configuration: {'medoid_normalization': None, 'stop_words': 'english', 'svm_degree': 5, 'svm_gamma': 0.2, 'norm': None, 'svm_c': 0.01, 'svm_kernel': 'poly'}\n"
     ]
    },
    {
     "name": "stderr",
     "output_type": "stream",
     "text": [
      "\r",
      " 96%|█████████▌| 623/648 [37:45<02:02,  4.91s/it]"
     ]
    },
    {
     "name": "stdout",
     "output_type": "stream",
     "text": [
      "iter: 622, train_score: 1.0, validation score: 0.060650887573964495, configuration: {'medoid_normalization': None, 'stop_words': 'english', 'svm_degree': 5, 'svm_gamma': 0.5, 'norm': None, 'svm_c': 0.01, 'svm_kernel': 'poly'}\n"
     ]
    },
    {
     "name": "stderr",
     "output_type": "stream",
     "text": [
      "\r",
      " 96%|█████████▋| 624/648 [37:50<01:54,  4.77s/it]"
     ]
    },
    {
     "name": "stdout",
     "output_type": "stream",
     "text": [
      "iter: 623, train_score: 0.9996654399464704, validation score: 0.03558718861209964, configuration: {'medoid_normalization': None, 'stop_words': 'english', 'svm_degree': 5, 'svm_gamma': 1.0, 'norm': None, 'svm_c': 0.01, 'svm_kernel': 'poly'}\n"
     ]
    },
    {
     "name": "stderr",
     "output_type": "stream",
     "text": [
      "\r",
      " 96%|█████████▋| 625/648 [37:55<01:53,  4.94s/it]"
     ]
    },
    {
     "name": "stdout",
     "output_type": "stream",
     "text": [
      "iter: 624, train_score: 1.0, validation score: 0.03811101905550953, configuration: {'medoid_normalization': None, 'stop_words': 'english', 'svm_degree': 3, 'svm_gamma': 0.1, 'norm': None, 'svm_c': 0.1, 'svm_kernel': 'poly'}\n"
     ]
    },
    {
     "name": "stderr",
     "output_type": "stream",
     "text": [
      "\r",
      " 97%|█████████▋| 626/648 [38:01<01:53,  5.18s/it]"
     ]
    },
    {
     "name": "stdout",
     "output_type": "stream",
     "text": [
      "iter: 625, train_score: 1.0, validation score: 0.03924221921515562, configuration: {'medoid_normalization': None, 'stop_words': 'english', 'svm_degree': 3, 'svm_gamma': 0.2, 'norm': None, 'svm_c': 0.1, 'svm_kernel': 'poly'}\n"
     ]
    },
    {
     "name": "stderr",
     "output_type": "stream",
     "text": [
      "\r",
      " 97%|█████████▋| 627/648 [38:08<01:58,  5.63s/it]"
     ]
    },
    {
     "name": "stdout",
     "output_type": "stream",
     "text": [
      "iter: 626, train_score: 1.0, validation score: 0.04856512141280353, configuration: {'medoid_normalization': None, 'stop_words': 'english', 'svm_degree': 3, 'svm_gamma': 0.5, 'norm': None, 'svm_c': 0.1, 'svm_kernel': 'poly'}\n"
     ]
    },
    {
     "name": "stderr",
     "output_type": "stream",
     "text": [
      "\r",
      " 97%|█████████▋| 628/648 [38:15<02:01,  6.08s/it]"
     ]
    },
    {
     "name": "stdout",
     "output_type": "stream",
     "text": [
      "iter: 627, train_score: 0.9996654399464704, validation score: 0.043478260869565216, configuration: {'medoid_normalization': None, 'stop_words': 'english', 'svm_degree': 3, 'svm_gamma': 1.0, 'norm': None, 'svm_c': 0.1, 'svm_kernel': 'poly'}\n"
     ]
    },
    {
     "name": "stderr",
     "output_type": "stream",
     "text": [
      "\r",
      " 97%|█████████▋| 629/648 [38:20<01:50,  5.82s/it]"
     ]
    },
    {
     "name": "stdout",
     "output_type": "stream",
     "text": [
      "iter: 628, train_score: 1.0, validation score: 0.04141501294219155, configuration: {'medoid_normalization': None, 'stop_words': 'english', 'svm_degree': 4, 'svm_gamma': 0.1, 'norm': None, 'svm_c': 0.1, 'svm_kernel': 'poly'}\n"
     ]
    },
    {
     "name": "stderr",
     "output_type": "stream",
     "text": [
      "\r",
      " 97%|█████████▋| 630/648 [38:25<01:40,  5.59s/it]"
     ]
    },
    {
     "name": "stdout",
     "output_type": "stream",
     "text": [
      "iter: 629, train_score: 1.0, validation score: 0.054491899852724596, configuration: {'medoid_normalization': None, 'stop_words': 'english', 'svm_degree': 4, 'svm_gamma': 0.2, 'norm': None, 'svm_c': 0.1, 'svm_kernel': 'poly'}\n"
     ]
    },
    {
     "name": "stderr",
     "output_type": "stream",
     "text": [
      "\r",
      " 97%|█████████▋| 631/648 [38:31<01:37,  5.74s/it]"
     ]
    },
    {
     "name": "stdout",
     "output_type": "stream",
     "text": [
      "iter: 630, train_score: 1.0, validation score: 0.06902502157031924, configuration: {'medoid_normalization': None, 'stop_words': 'english', 'svm_degree': 4, 'svm_gamma': 0.5, 'norm': None, 'svm_c': 0.1, 'svm_kernel': 'poly'}\n"
     ]
    },
    {
     "name": "stderr",
     "output_type": "stream",
     "text": [
      "\r",
      " 98%|█████████▊| 632/648 [38:37<01:32,  5.76s/it]"
     ]
    },
    {
     "name": "stdout",
     "output_type": "stream",
     "text": [
      "iter: 631, train_score: 0.9996654399464704, validation score: 0.06628003314001658, configuration: {'medoid_normalization': None, 'stop_words': 'english', 'svm_degree': 4, 'svm_gamma': 1.0, 'norm': None, 'svm_c': 0.1, 'svm_kernel': 'poly'}\n"
     ]
    },
    {
     "name": "stderr",
     "output_type": "stream",
     "text": [
      "\r",
      " 98%|█████████▊| 633/648 [38:43<01:27,  5.84s/it]"
     ]
    },
    {
     "name": "stdout",
     "output_type": "stream",
     "text": [
      "iter: 632, train_score: 0.9996654399464704, validation score: 0.047573739295908656, configuration: {'medoid_normalization': None, 'stop_words': 'english', 'svm_degree': 5, 'svm_gamma': 0.1, 'norm': None, 'svm_c': 0.1, 'svm_kernel': 'poly'}\n"
     ]
    },
    {
     "name": "stderr",
     "output_type": "stream",
     "text": [
      "\r",
      " 98%|█████████▊| 634/648 [38:48<01:19,  5.67s/it]"
     ]
    },
    {
     "name": "stdout",
     "output_type": "stream",
     "text": [
      "iter: 633, train_score: 1.0, validation score: 0.050216450216450215, configuration: {'medoid_normalization': None, 'stop_words': 'english', 'svm_degree': 5, 'svm_gamma': 0.2, 'norm': None, 'svm_c': 0.1, 'svm_kernel': 'poly'}\n"
     ]
    },
    {
     "name": "stderr",
     "output_type": "stream",
     "text": [
      "\r",
      " 98%|█████████▊| 635/648 [38:53<01:11,  5.52s/it]"
     ]
    },
    {
     "name": "stdout",
     "output_type": "stream",
     "text": [
      "iter: 634, train_score: 1.0, validation score: 0.04361370716510904, configuration: {'medoid_normalization': None, 'stop_words': 'english', 'svm_degree': 5, 'svm_gamma': 0.5, 'norm': None, 'svm_c': 0.1, 'svm_kernel': 'poly'}\n"
     ]
    },
    {
     "name": "stderr",
     "output_type": "stream",
     "text": [
      "\r",
      " 98%|█████████▊| 636/648 [38:59<01:04,  5.42s/it]"
     ]
    },
    {
     "name": "stdout",
     "output_type": "stream",
     "text": [
      "iter: 635, train_score: 1.0, validation score: 0.06516290726817044, configuration: {'medoid_normalization': None, 'stop_words': 'english', 'svm_degree': 5, 'svm_gamma': 1.0, 'norm': None, 'svm_c': 0.1, 'svm_kernel': 'poly'}\n"
     ]
    },
    {
     "name": "stderr",
     "output_type": "stream",
     "text": [
      "\r",
      " 98%|█████████▊| 637/648 [39:05<01:01,  5.64s/it]"
     ]
    },
    {
     "name": "stdout",
     "output_type": "stream",
     "text": [
      "iter: 636, train_score: 0.9996654399464704, validation score: 0.039907904834996163, configuration: {'medoid_normalization': None, 'stop_words': 'english', 'svm_degree': 3, 'svm_gamma': 0.1, 'norm': None, 'svm_c': 1, 'svm_kernel': 'poly'}\n"
     ]
    },
    {
     "name": "stderr",
     "output_type": "stream",
     "text": [
      "\r",
      " 98%|█████████▊| 638/648 [39:10<00:54,  5.43s/it]"
     ]
    },
    {
     "name": "stdout",
     "output_type": "stream",
     "text": [
      "iter: 637, train_score: 1.0, validation score: 0.053388090349075976, configuration: {'medoid_normalization': None, 'stop_words': 'english', 'svm_degree': 3, 'svm_gamma': 0.2, 'norm': None, 'svm_c': 1, 'svm_kernel': 'poly'}\n"
     ]
    },
    {
     "name": "stderr",
     "output_type": "stream",
     "text": [
      "\r",
      " 99%|█████████▊| 639/648 [39:15<00:49,  5.46s/it]"
     ]
    },
    {
     "name": "stdout",
     "output_type": "stream",
     "text": [
      "iter: 638, train_score: 1.0, validation score: 0.056402439024390245, configuration: {'medoid_normalization': None, 'stop_words': 'english', 'svm_degree': 3, 'svm_gamma': 0.5, 'norm': None, 'svm_c': 1, 'svm_kernel': 'poly'}\n"
     ]
    },
    {
     "name": "stderr",
     "output_type": "stream",
     "text": [
      "\r",
      " 99%|█████████▉| 640/648 [39:22<00:46,  5.79s/it]"
     ]
    },
    {
     "name": "stdout",
     "output_type": "stream",
     "text": [
      "iter: 639, train_score: 1.0, validation score: 0.05887764489420424, configuration: {'medoid_normalization': None, 'stop_words': 'english', 'svm_degree': 3, 'svm_gamma': 1.0, 'norm': None, 'svm_c': 1, 'svm_kernel': 'poly'}\n"
     ]
    },
    {
     "name": "stderr",
     "output_type": "stream",
     "text": [
      "\r",
      " 99%|█████████▉| 641/648 [39:26<00:37,  5.41s/it]"
     ]
    },
    {
     "name": "stdout",
     "output_type": "stream",
     "text": [
      "iter: 640, train_score: 0.9996654399464704, validation score: 0.03862660944206008, configuration: {'medoid_normalization': None, 'stop_words': 'english', 'svm_degree': 4, 'svm_gamma': 0.1, 'norm': None, 'svm_c': 1, 'svm_kernel': 'poly'}\n"
     ]
    },
    {
     "name": "stderr",
     "output_type": "stream",
     "text": [
      "\r",
      " 99%|█████████▉| 642/648 [39:32<00:33,  5.58s/it]"
     ]
    },
    {
     "name": "stdout",
     "output_type": "stream",
     "text": [
      "iter: 641, train_score: 1.0, validation score: 0.058666666666666666, configuration: {'medoid_normalization': None, 'stop_words': 'english', 'svm_degree': 4, 'svm_gamma': 0.2, 'norm': None, 'svm_c': 1, 'svm_kernel': 'poly'}\n"
     ]
    },
    {
     "name": "stderr",
     "output_type": "stream",
     "text": [
      "\r",
      " 99%|█████████▉| 643/648 [39:38<00:27,  5.49s/it]"
     ]
    },
    {
     "name": "stdout",
     "output_type": "stream",
     "text": [
      "iter: 642, train_score: 1.0, validation score: 0.07937877480586712, configuration: {'medoid_normalization': None, 'stop_words': 'english', 'svm_degree': 4, 'svm_gamma': 0.5, 'norm': None, 'svm_c': 1, 'svm_kernel': 'poly'}\n"
     ]
    },
    {
     "name": "stderr",
     "output_type": "stream",
     "text": [
      "\r",
      " 99%|█████████▉| 644/648 [39:43<00:21,  5.49s/it]"
     ]
    },
    {
     "name": "stdout",
     "output_type": "stream",
     "text": [
      "iter: 643, train_score: 1.0, validation score: 0.04979253112033195, configuration: {'medoid_normalization': None, 'stop_words': 'english', 'svm_degree': 4, 'svm_gamma': 1.0, 'norm': None, 'svm_c': 1, 'svm_kernel': 'poly'}\n"
     ]
    },
    {
     "name": "stderr",
     "output_type": "stream",
     "text": [
      "\r",
      "100%|█████████▉| 645/648 [39:48<00:16,  5.44s/it]"
     ]
    },
    {
     "name": "stdout",
     "output_type": "stream",
     "text": [
      "iter: 644, train_score: 1.0, validation score: 0.03536977491961415, configuration: {'medoid_normalization': None, 'stop_words': 'english', 'svm_degree': 5, 'svm_gamma': 0.1, 'norm': None, 'svm_c': 1, 'svm_kernel': 'poly'}\n"
     ]
    },
    {
     "name": "stderr",
     "output_type": "stream",
     "text": [
      "\r",
      "100%|█████████▉| 646/648 [39:54<00:11,  5.60s/it]"
     ]
    },
    {
     "name": "stdout",
     "output_type": "stream",
     "text": [
      "iter: 645, train_score: 0.9996654399464704, validation score: 0.051207022677395755, configuration: {'medoid_normalization': None, 'stop_words': 'english', 'svm_degree': 5, 'svm_gamma': 0.2, 'norm': None, 'svm_c': 1, 'svm_kernel': 'poly'}\n"
     ]
    },
    {
     "name": "stderr",
     "output_type": "stream",
     "text": [
      "\r",
      "100%|█████████▉| 647/648 [39:59<00:05,  5.34s/it]"
     ]
    },
    {
     "name": "stdout",
     "output_type": "stream",
     "text": [
      "iter: 646, train_score: 1.0, validation score: 0.0361247947454844, configuration: {'medoid_normalization': None, 'stop_words': 'english', 'svm_degree': 5, 'svm_gamma': 0.5, 'norm': None, 'svm_c': 1, 'svm_kernel': 'poly'}\n"
     ]
    },
    {
     "name": "stderr",
     "output_type": "stream",
     "text": [
      "\r",
      "100%|██████████| 648/648 [40:04<00:00,  5.19s/it]"
     ]
    },
    {
     "name": "stdout",
     "output_type": "stream",
     "text": [
      "iter: 647, train_score: 1.0, validation score: 0.06000000000000001, configuration: {'medoid_normalization': None, 'stop_words': 'english', 'svm_degree': 5, 'svm_gamma': 1.0, 'norm': None, 'svm_c': 1, 'svm_kernel': 'poly'}\n"
     ]
    },
    {
     "name": "stderr",
     "output_type": "stream",
     "text": [
      "\n"
     ]
    }
   ],
   "source": [
    "best_score = float(\"-inf\")\n",
    "best_configuration = None\n",
    "\n",
    "for (i,configuration) in enumerate(tqdm(ParameterGrid(parameters))):\n",
    "    \n",
    "    # TFIDF_VECTORIZER = COUNT_VECTORIZER + TFIDF_TRANSFORMER\n",
    "    tfidf_vectorizer = TfidfVectorizer(max_features=MAX_NB_WORDS, \n",
    "                                       preprocessor=PREPROC, \n",
    "                                       stop_words=configuration['stop_words'],\n",
    "                                       norm = configuration['norm'])\n",
    "    \n",
    "    # TRAINING SET\n",
    "    tfidf_vectorizer.fit(documents_train)\n",
    "    tfidf_segments_train = vectorize_segments(segments_train, tfidf_vectorizer)\n",
    "    \n",
    "    \n",
    "    # THE FOLLOWING BLOCK TAKES SOME TIME, BUT IT WILL ONLY RUN ONCE\n",
    "    norm = configuration['norm']\n",
    "    stop_words = configuration['stop_words']\n",
    "    path_to_cache = INTERIM_DATA_ROOT.rstrip('/') + \"/mimlsvm/distance-matrix-train-sample-{}-{}-{}.p\".format(\n",
    "        NB_DOCS,\n",
    "        norm,\n",
    "        stop_words)\n",
    "    if os.path.isfile(path_to_cache):\n",
    "        dist_matrix_train = pickle.load(open(path_to_cache,\"rb\"))\n",
    "    else:\n",
    "        print('Fitting distance matrix for norm={} and stop_words={}'.format(norm,stop_words))\n",
    "        dist_matrix_train = make_distance_matrix_for_segments(tfidf_segments_train)\n",
    "        pickle.dump(dist_matrix_train, open(path_to_cache, \"wb\"))\n",
    "    \n",
    "    # nb_medoids depends upon the dataset length\n",
    "    nb_medoids = int(len(tfidf_segments_train) * SAMPLE_TO_NB_MEDOIDS_RATIO)\n",
    "    \n",
    "    medoids_indices_train = k_medoids(dist_matrix_train,nb_medoids)[0]\n",
    "\n",
    "    X_train = make_train_dataset(dist_matrix_train,medoids_indices_train)\n",
    "    \n",
    "    # TEST SET\n",
    "    \n",
    "    # vectorizer has been fit on the training set only\n",
    "    tfidf_segments_test = vectorize_segments(segments_test, tfidf_vectorizer)\n",
    "    # medoids trained on the training set\n",
    "    fitted_medoids = tfidf_segments_train[medoids_indices_train]\n",
    "    X_test = make_test_dataset(tfidf_segments_test,fitted_medoids)\n",
    "    \n",
    "    # RUNNING\n",
    "    if configuration['medoid_normalization'] == 'standard':      \n",
    "        scaler = StandardScaler()\n",
    "        X_train_final = scaler.fit_transform(X_train)\n",
    "        X_test_final = scaler.transform(X_test)\n",
    "    elif configuration['medoid_normalization'] == 'minmax':\n",
    "        scaler = MinMaxScaler()\n",
    "        X_train_final = scaler.fit_transform(X_train)\n",
    "        X_test_final = scaler.transform(X_test)\n",
    "    else:\n",
    "        X_train_final = X_train\n",
    "        X_test_final = X_test\n",
    "    \n",
    "    clf = OneVsRestClassifier(\n",
    "        SVC(kernel=configuration['svm_kernel'],\n",
    "            gamma=configuration['svm_gamma'],\n",
    "            C=configuration['svm_c'],\n",
    "            degree=configuration['svm_degree']),n_jobs=4)    \n",
    "        \n",
    "    # y_train was defined outside the loop    \n",
    "    clf.fit(X_train_final,y_train)\n",
    "    \n",
    "    # train score\n",
    "    y_train_preds = clf.predict(X_train_final)\n",
    "    y_train_trues = y_train\n",
    "    \n",
    "    # validation score\n",
    "    y_test_preds = clf.predict(X_test_final)\n",
    "    y_test_trues = y_test\n",
    "    \n",
    "    train_score = f1_score(y_train_trues,y_train_preds, average='micro')\n",
    "    val_score = f1_score(y_test_trues,y_test_preds,average='micro')\n",
    "    \n",
    "    print('iter: {}, train_score: {}, validation score: {}, configuration: {}'.format(i,\n",
    "                                                                                      train_score,\n",
    "                                                                                      val_score,\n",
    "                                                                                      configuration))\n",
    "    \n",
    "    if val_score > best_score:\n",
    "        best_score = val_score\n",
    "        best_configuration = configuration\n",
    "    "
   ]
  },
  {
   "cell_type": "code",
   "execution_count": 25,
   "metadata": {},
   "outputs": [
    {
     "name": "stdout",
     "output_type": "stream",
     "text": [
      "BEST SCORE: 0.07937877480586712\n",
      "BEST CONFIGURATION: {'medoid_normalization': None, 'stop_words': 'english', 'svm_degree': 4, 'svm_gamma': 0.5, 'norm': None, 'svm_c': 1, 'svm_kernel': 'poly'}\n"
     ]
    }
   ],
   "source": [
    "print('BEST SCORE: {}'.format(best_score))\n",
    "print('BEST CONFIGURATION: {}'.format(best_configuration))"
   ]
  }
 ],
 "metadata": {
  "kernelspec": {
   "display_name": "Global TF Kernel (Python 3)",
   "language": "python",
   "name": "global-tf-python-3"
  },
  "language_info": {
   "codemirror_mode": {
    "name": "ipython",
    "version": 3
   },
   "file_extension": ".py",
   "mimetype": "text/x-python",
   "name": "python",
   "nbconvert_exporter": "python",
   "pygments_lexer": "ipython3",
   "version": "3.5.2"
  }
 },
 "nbformat": 4,
 "nbformat_minor": 2
}
