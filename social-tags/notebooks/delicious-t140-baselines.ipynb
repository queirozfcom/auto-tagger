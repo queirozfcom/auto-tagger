{
 "cells": [
  {
   "cell_type": "code",
   "execution_count": 1,
   "metadata": {},
   "outputs": [],
   "source": [
    "import pandas as pd\n",
    "import numpy as np\n",
    "import matplotlib.pyplot as plt\n",
    "import gc\n",
    "import os\n",
    "import pickle\n",
    "import sklearn\n",
    "import sys\n",
    "\n",
    "from sklearn.metrics import f1_score, precision_score, recall_score\n",
    "from sklearn.model_selection import cross_val_score\n",
    "from sklearn.multiclass import OneVsRestClassifier\n",
    "from sklearn.preprocessing import MultiLabelBinarizer\n",
    "from sklearn.feature_extraction.text import CountVectorizer\n",
    "from sklearn.feature_extraction.text import TfidfTransformer\n",
    "from sklearn.pipeline import Pipeline\n",
    "from sklearn.svm import LinearSVC\n",
    "\n",
    "from tqdm import *\n",
    "\n",
    "%matplotlib inline\n",
    "%load_ext autoreload\n",
    "%autoreload 1"
   ]
  },
  {
   "cell_type": "code",
   "execution_count": 2,
   "metadata": {},
   "outputs": [],
   "source": [
    "src_dir = os.path.join(os.getcwd(), os.pardir, 'src')\n",
    "sys.path.append(src_dir)"
   ]
  },
  {
   "cell_type": "code",
   "execution_count": 15,
   "metadata": {},
   "outputs": [],
   "source": [
    "%aimport data.load_delicious\n",
    "%aimport features.build_features\n",
    "%aimport helpers.files,helpers.labels"
   ]
  },
  {
   "cell_type": "code",
   "execution_count": 16,
   "metadata": {},
   "outputs": [],
   "source": [
    "from data.load_delicious import load_taginfo_into_dataframe\n",
    "from helpers.files import get_directory_name_from_hash\n",
    "from helpers.labels import truncate_labels\n",
    "from features.build_features import clean_text"
   ]
  },
  {
   "cell_type": "code",
   "execution_count": 24,
   "metadata": {},
   "outputs": [],
   "source": [
    "ROOT = \"/media/felipe/SAMSUNG/delicious/delicioust140/\"\n",
    "TAGINFO = ROOT+\"taginfo.xml\"\n",
    "INTERIM_DATA_ROOT = \"../data/interim/\"\n",
    "MAX_NB_WORDS = 2000\n",
    "LABELS_MIN_DOC_FRACTION = 0.01"
   ]
  },
  {
   "cell_type": "code",
   "execution_count": 6,
   "metadata": {},
   "outputs": [],
   "source": [
    "if os.path.isfile(INTERIM_DATA_ROOT+\"docs_df.p\"):\n",
    "    docs_df = pickle.load( open( \"docs_df.p\", \"rb\" ))\n",
    "else:\n",
    "    docs_df = load_taginfo_into_dataframe(TAGINFO)\n",
    "    pickle.dump(docs_df,open(INTERIM_DATA_ROOT+\"docs_df.p\",\"wb\"))"
   ]
  },
  {
   "cell_type": "code",
   "execution_count": 8,
   "metadata": {},
   "outputs": [
    {
     "data": {
      "text/plain": [
       "143716"
      ]
     },
     "execution_count": 8,
     "metadata": {},
     "output_type": "execute_result"
    }
   ],
   "source": [
    "num_documents = len(docs_df)\n",
    "num_documents"
   ]
  },
  {
   "cell_type": "code",
   "execution_count": 9,
   "metadata": {},
   "outputs": [
    {
     "data": {
      "text/html": [
       "<div>\n",
       "<style>\n",
       "    .dataframe thead tr:only-child th {\n",
       "        text-align: right;\n",
       "    }\n",
       "\n",
       "    .dataframe thead th {\n",
       "        text-align: left;\n",
       "    }\n",
       "\n",
       "    .dataframe tbody tr th {\n",
       "        vertical-align: top;\n",
       "    }\n",
       "</style>\n",
       "<table border=\"1\" class=\"dataframe\">\n",
       "  <thead>\n",
       "    <tr style=\"text-align: right;\">\n",
       "      <th></th>\n",
       "      <th>filename</th>\n",
       "      <th>filetype</th>\n",
       "      <th>hash</th>\n",
       "      <th>tags</th>\n",
       "      <th>url</th>\n",
       "      <th>num_users</th>\n",
       "      <th>num_tags</th>\n",
       "    </tr>\n",
       "  </thead>\n",
       "  <tbody>\n",
       "    <tr>\n",
       "      <th>0</th>\n",
       "      <td>66fa11b33b6ac183314892703c20fa47.html</td>\n",
       "      <td>html</td>\n",
       "      <td>66fa11b33b6ac183314892703c20fa47</td>\n",
       "      <td>python,programming,standards,style,coding,refe...</td>\n",
       "      <td>http://lists.osafoundation.org/pipermail/dev/2...</td>\n",
       "      <td>27</td>\n",
       "      <td>8</td>\n",
       "    </tr>\n",
       "    <tr>\n",
       "      <th>1</th>\n",
       "      <td>21899d001299ceadc852ed22e1b2b725.html</td>\n",
       "      <td>html</td>\n",
       "      <td>21899d001299ceadc852ed22e1b2b725</td>\n",
       "      <td>compiler,programming,llvm,vm,development,compi...</td>\n",
       "      <td>http://llvm.org/</td>\n",
       "      <td>830</td>\n",
       "      <td>25</td>\n",
       "    </tr>\n",
       "    <tr>\n",
       "      <th>2</th>\n",
       "      <td>bd7c9734cd1a5c8a55328a1a9ce4d4d2.html</td>\n",
       "      <td>html</td>\n",
       "      <td>bd7c9734cd1a5c8a55328a1a9ce4d4d2</td>\n",
       "      <td>linux,software,opensource,ubuntu,windows,alter...</td>\n",
       "      <td>http://linuxappfinder.com/alternatives</td>\n",
       "      <td>47</td>\n",
       "      <td>19</td>\n",
       "    </tr>\n",
       "    <tr>\n",
       "      <th>3</th>\n",
       "      <td>ff186471d34e1440845b80d61733f8ef.html</td>\n",
       "      <td>html</td>\n",
       "      <td>ff186471d34e1440845b80d61733f8ef</td>\n",
       "      <td>tomboy,gnome,linux,software,wiki,notes</td>\n",
       "      <td>http://live.gnome.org/Tomboy</td>\n",
       "      <td>7</td>\n",
       "      <td>6</td>\n",
       "    </tr>\n",
       "    <tr>\n",
       "      <th>4</th>\n",
       "      <td>cc7afd7b1b9e0c29ba72978b5edd8ed5.html</td>\n",
       "      <td>html</td>\n",
       "      <td>cc7afd7b1b9e0c29ba72978b5edd8ed5</td>\n",
       "      <td>blogs,teaching,web2.0</td>\n",
       "      <td>http://lisahistory.net/wordpress/</td>\n",
       "      <td>7</td>\n",
       "      <td>3</td>\n",
       "    </tr>\n",
       "    <tr>\n",
       "      <th>5</th>\n",
       "      <td>e9466d13558200b7b084fae5d0d81b57.html</td>\n",
       "      <td>html</td>\n",
       "      <td>e9466d13558200b7b084fae5d0d81b57</td>\n",
       "      <td>books,literature,search,recommendations,refere...</td>\n",
       "      <td>http://literature-map.com/</td>\n",
       "      <td>373</td>\n",
       "      <td>25</td>\n",
       "    </tr>\n",
       "    <tr>\n",
       "      <th>6</th>\n",
       "      <td>2e14957206bad2bdf5fb29564c6c863c.html</td>\n",
       "      <td>html</td>\n",
       "      <td>2e14957206bad2bdf5fb29564c6c863c</td>\n",
       "      <td>deviantart,photography,inspiration</td>\n",
       "      <td>http://littlemewhatever.deviantart.com/</td>\n",
       "      <td>15</td>\n",
       "      <td>3</td>\n",
       "    </tr>\n",
       "    <tr>\n",
       "      <th>7</th>\n",
       "      <td>e84764f03cc25dcf50207bfa534a9e84.html</td>\n",
       "      <td>html</td>\n",
       "      <td>e84764f03cc25dcf50207bfa534a9e84</td>\n",
       "      <td>phone,mobile,cellphone,sprint,cell,apps,treo,t...</td>\n",
       "      <td>http://livemobile.blogspot.com/</td>\n",
       "      <td>55</td>\n",
       "      <td>13</td>\n",
       "    </tr>\n",
       "    <tr>\n",
       "      <th>8</th>\n",
       "      <td>a6f8b9ccfe1219ab79be4001c08b31ab.html</td>\n",
       "      <td>html</td>\n",
       "      <td>a6f8b9ccfe1219ab79be4001c08b31ab</td>\n",
       "      <td>video,videos,bizarre,weird,movies,lists,cool,s...</td>\n",
       "      <td>http://listverse.com/bizarre/top-10-most-bizar...</td>\n",
       "      <td>64</td>\n",
       "      <td>15</td>\n",
       "    </tr>\n",
       "    <tr>\n",
       "      <th>9</th>\n",
       "      <td>72c4c07a25937957f599c7524f94cd75.html</td>\n",
       "      <td>html</td>\n",
       "      <td>72c4c07a25937957f599c7524f94cd75</td>\n",
       "      <td>movies,film,cool,lists</td>\n",
       "      <td>http://listverse.com/entertainment/top-15-indi...</td>\n",
       "      <td>8</td>\n",
       "      <td>4</td>\n",
       "    </tr>\n",
       "  </tbody>\n",
       "</table>\n",
       "</div>"
      ],
      "text/plain": [
       "                                filename filetype  \\\n",
       "0  66fa11b33b6ac183314892703c20fa47.html     html   \n",
       "1  21899d001299ceadc852ed22e1b2b725.html     html   \n",
       "2  bd7c9734cd1a5c8a55328a1a9ce4d4d2.html     html   \n",
       "3  ff186471d34e1440845b80d61733f8ef.html     html   \n",
       "4  cc7afd7b1b9e0c29ba72978b5edd8ed5.html     html   \n",
       "5  e9466d13558200b7b084fae5d0d81b57.html     html   \n",
       "6  2e14957206bad2bdf5fb29564c6c863c.html     html   \n",
       "7  e84764f03cc25dcf50207bfa534a9e84.html     html   \n",
       "8  a6f8b9ccfe1219ab79be4001c08b31ab.html     html   \n",
       "9  72c4c07a25937957f599c7524f94cd75.html     html   \n",
       "\n",
       "                               hash  \\\n",
       "0  66fa11b33b6ac183314892703c20fa47   \n",
       "1  21899d001299ceadc852ed22e1b2b725   \n",
       "2  bd7c9734cd1a5c8a55328a1a9ce4d4d2   \n",
       "3  ff186471d34e1440845b80d61733f8ef   \n",
       "4  cc7afd7b1b9e0c29ba72978b5edd8ed5   \n",
       "5  e9466d13558200b7b084fae5d0d81b57   \n",
       "6  2e14957206bad2bdf5fb29564c6c863c   \n",
       "7  e84764f03cc25dcf50207bfa534a9e84   \n",
       "8  a6f8b9ccfe1219ab79be4001c08b31ab   \n",
       "9  72c4c07a25937957f599c7524f94cd75   \n",
       "\n",
       "                                                tags  \\\n",
       "0  python,programming,standards,style,coding,refe...   \n",
       "1  compiler,programming,llvm,vm,development,compi...   \n",
       "2  linux,software,opensource,ubuntu,windows,alter...   \n",
       "3             tomboy,gnome,linux,software,wiki,notes   \n",
       "4                              blogs,teaching,web2.0   \n",
       "5  books,literature,search,recommendations,refere...   \n",
       "6                 deviantart,photography,inspiration   \n",
       "7  phone,mobile,cellphone,sprint,cell,apps,treo,t...   \n",
       "8  video,videos,bizarre,weird,movies,lists,cool,s...   \n",
       "9                             movies,film,cool,lists   \n",
       "\n",
       "                                                 url  num_users  num_tags  \n",
       "0  http://lists.osafoundation.org/pipermail/dev/2...         27         8  \n",
       "1                                   http://llvm.org/        830        25  \n",
       "2             http://linuxappfinder.com/alternatives         47        19  \n",
       "3                       http://live.gnome.org/Tomboy          7         6  \n",
       "4                  http://lisahistory.net/wordpress/          7         3  \n",
       "5                         http://literature-map.com/        373        25  \n",
       "6            http://littlemewhatever.deviantart.com/         15         3  \n",
       "7                    http://livemobile.blogspot.com/         55        13  \n",
       "8  http://listverse.com/bizarre/top-10-most-bizar...         64        15  \n",
       "9  http://listverse.com/entertainment/top-15-indi...          8         4  "
      ]
     },
     "execution_count": 9,
     "metadata": {},
     "output_type": "execute_result"
    }
   ],
   "source": [
    "docs_df.head(10)"
   ]
  },
  {
   "cell_type": "code",
   "execution_count": 10,
   "metadata": {},
   "outputs": [],
   "source": [
    "# TODO optimize this because currently this does one I/O OP per loop\n",
    "def load_contents(hash):\n",
    "    file_path = ROOT+\"fdocuments/\"+get_directory_name_from_hash(hash)+\"/\"+hash+\".html\"\n",
    "       \n",
    "    with open(file_path,\"r\",encoding='utf-8', errors='ignore') as f:\n",
    "        contents = f.read()\n",
    "        \n",
    "    return contents"
   ]
  },
  {
   "cell_type": "code",
   "execution_count": 11,
   "metadata": {},
   "outputs": [
    {
     "name": "stdout",
     "output_type": "stream",
     "text": [
      "CPU times: user 1.86 s, sys: 860 ms, total: 2.72 s\n",
      "Wall time: 2min 48s\n"
     ]
    }
   ],
   "source": [
    "%%time\n",
    "\n",
    "if os.path.isfile(INTERIM_DATA_ROOT+\"sample_df.p\"):\n",
    "    sample_df = pickle.load(open(\"sample_df.p\", \"rb\"))\n",
    "else:\n",
    "    random_indices = np.random.choice(docs_df.index.values, int(num_documents/50), replace=False)\n",
    "    sample_df = docs_df.loc[random_indices]\n",
    "    sample_df = sample_df.reset_index().drop(['index'],axis=1)\n",
    "    sample_df['contents'] = sample_df['hash'].map(lambda hash: load_contents(hash))\n",
    "    pickle.dump(sample_df,open(INTERIM_DATA_ROOT+\"sample_df.p\",\"wb\"))"
   ]
  },
  {
   "cell_type": "code",
   "execution_count": 12,
   "metadata": {},
   "outputs": [
    {
     "data": {
      "text/plain": [
       "2874"
      ]
     },
     "execution_count": 12,
     "metadata": {},
     "output_type": "execute_result"
    }
   ],
   "source": [
    "num_documents = len(sample_df)\n",
    "num_documents"
   ]
  },
  {
   "cell_type": "code",
   "execution_count": 13,
   "metadata": {},
   "outputs": [
    {
     "data": {
      "text/html": [
       "<div>\n",
       "<style>\n",
       "    .dataframe thead tr:only-child th {\n",
       "        text-align: right;\n",
       "    }\n",
       "\n",
       "    .dataframe thead th {\n",
       "        text-align: left;\n",
       "    }\n",
       "\n",
       "    .dataframe tbody tr th {\n",
       "        vertical-align: top;\n",
       "    }\n",
       "</style>\n",
       "<table border=\"1\" class=\"dataframe\">\n",
       "  <thead>\n",
       "    <tr style=\"text-align: right;\">\n",
       "      <th></th>\n",
       "      <th>filename</th>\n",
       "      <th>filetype</th>\n",
       "      <th>hash</th>\n",
       "      <th>tags</th>\n",
       "      <th>url</th>\n",
       "      <th>num_users</th>\n",
       "      <th>num_tags</th>\n",
       "      <th>contents</th>\n",
       "    </tr>\n",
       "  </thead>\n",
       "  <tbody>\n",
       "    <tr>\n",
       "      <th>0</th>\n",
       "      <td>37296e86ac599d7fe9aaff17a3037400.html</td>\n",
       "      <td>html</td>\n",
       "      <td>37296e86ac599d7fe9aaff17a3037400</td>\n",
       "      <td>flash,air,adobe,blog,flex,design,webdesign,act...</td>\n",
       "      <td>http://www.webkitchen.be/</td>\n",
       "      <td>65</td>\n",
       "      <td>23</td>\n",
       "      <td>&lt;!DOCTYPE html PUBLIC \"-//W3C//DTD XHTML 1.0 T...</td>\n",
       "    </tr>\n",
       "    <tr>\n",
       "      <th>1</th>\n",
       "      <td>0b294ed63a75b9d264af303f5c5eeea9.html</td>\n",
       "      <td>html</td>\n",
       "      <td>0b294ed63a75b9d264af303f5c5eeea9</td>\n",
       "      <td>french,language,franÃ§ais,resources,education,...</td>\n",
       "      <td>http://www.uni.edu/becker/french31.html</td>\n",
       "      <td>123</td>\n",
       "      <td>21</td>\n",
       "      <td>&lt;HTML&gt;\\n&lt;HEAD&gt;\\n\\n&lt;TITLE&gt;Best French Websites&lt;...</td>\n",
       "    </tr>\n",
       "    <tr>\n",
       "      <th>2</th>\n",
       "      <td>5d7ec003095ae0f3123b2e3da4b3fb95.html</td>\n",
       "      <td>html</td>\n",
       "      <td>5d7ec003095ae0f3123b2e3da4b3fb95</td>\n",
       "      <td>music,mp3,history,free,audio,downloads,songs,d...</td>\n",
       "      <td>http://www.foldedspace.org/weblog/2006/06/in_t...</td>\n",
       "      <td>566</td>\n",
       "      <td>25</td>\n",
       "      <td>&lt;!DOCTYPE html PUBLIC \"-//W3C//DTD XHTML 1.0 T...</td>\n",
       "    </tr>\n",
       "    <tr>\n",
       "      <th>3</th>\n",
       "      <td>8ca4efc75f6399dfe7e4bffbfc0c08d4.html</td>\n",
       "      <td>html</td>\n",
       "      <td>8ca4efc75f6399dfe7e4bffbfc0c08d4</td>\n",
       "      <td>ssh,sftp,security,linux,database,backup,howto,...</td>\n",
       "      <td>http://ask-leo.com/how_can_i_automate_an_sftp_...</td>\n",
       "      <td>21</td>\n",
       "      <td>10</td>\n",
       "      <td>&lt;!DOCTYPE html PUBLIC \"-//W3C//DTD XHTML 1.0 T...</td>\n",
       "    </tr>\n",
       "    <tr>\n",
       "      <th>4</th>\n",
       "      <td>ce9a31b508d0505b0e4cb2bbf4fe3d55.html</td>\n",
       "      <td>html</td>\n",
       "      <td>ce9a31b508d0505b0e4cb2bbf4fe3d55</td>\n",
       "      <td>ajax,rails,tutorial</td>\n",
       "      <td>http://railsonedge.blogspot.com/2008/03/tutori...</td>\n",
       "      <td>7</td>\n",
       "      <td>3</td>\n",
       "      <td>&lt;!DOCTYPE html PUBLIC \"-//W3C//DTD XHTML 1.0 S...</td>\n",
       "    </tr>\n",
       "    <tr>\n",
       "      <th>5</th>\n",
       "      <td>1bcbe8e8838244aca41bfbe69a958f24.html</td>\n",
       "      <td>html</td>\n",
       "      <td>1bcbe8e8838244aca41bfbe69a958f24</td>\n",
       "      <td>silverlight,charts,opensource,chart,.net,free,...</td>\n",
       "      <td>http://www.visifire.com/silverlight_charts_gal...</td>\n",
       "      <td>47</td>\n",
       "      <td>15</td>\n",
       "      <td>&lt;!DOCTYPE html PUBLIC \"-//W3C//DTD XHTML 1.0 T...</td>\n",
       "    </tr>\n",
       "    <tr>\n",
       "      <th>6</th>\n",
       "      <td>8384c9cae634c9dff115a741926e0fc9.html</td>\n",
       "      <td>html</td>\n",
       "      <td>8384c9cae634c9dff115a741926e0fc9</td>\n",
       "      <td>parenting,education,baby,children,learning,lan...</td>\n",
       "      <td>http://www.time.com/time/health/article/0,8599...</td>\n",
       "      <td>121</td>\n",
       "      <td>25</td>\n",
       "      <td>&lt;!--[if IE 5]&gt; Vignette StoryServer 5.0 Fri Ma...</td>\n",
       "    </tr>\n",
       "    <tr>\n",
       "      <th>7</th>\n",
       "      <td>2ad1b840589b35378c8757739a461b1d.html</td>\n",
       "      <td>html</td>\n",
       "      <td>2ad1b840589b35378c8757739a461b1d</td>\n",
       "      <td>language,dictionary,swear,fun,reference,funny,...</td>\n",
       "      <td>http://www.youswear.com/index.asp</td>\n",
       "      <td>18</td>\n",
       "      <td>14</td>\n",
       "      <td></td>\n",
       "    </tr>\n",
       "    <tr>\n",
       "      <th>8</th>\n",
       "      <td>78f632abdab2116c806b8ab81029fce7.html</td>\n",
       "      <td>html</td>\n",
       "      <td>78f632abdab2116c806b8ab81029fce7</td>\n",
       "      <td>history,image,compression,lenna,fun,internet,i...</td>\n",
       "      <td>http://www.cs.cmu.edu/~chuck/lennapg/</td>\n",
       "      <td>58</td>\n",
       "      <td>25</td>\n",
       "      <td>&lt;html&gt;\\n\\n&lt;head&gt;\\n&lt;title&gt;The Rest of the Lenna...</td>\n",
       "    </tr>\n",
       "    <tr>\n",
       "      <th>9</th>\n",
       "      <td>8c1fd30e1547407eab96254252d433d4.html</td>\n",
       "      <td>html</td>\n",
       "      <td>8c1fd30e1547407eab96254252d433d4</td>\n",
       "      <td>science,space,astronomy</td>\n",
       "      <td>http://dvice.com/archives/2008/06/astronomers_...</td>\n",
       "      <td>4</td>\n",
       "      <td>3</td>\n",
       "      <td>&lt;!DOCTYPE html PUBLIC \"-//W3C//DTD XHTML 1.0 T...</td>\n",
       "    </tr>\n",
       "  </tbody>\n",
       "</table>\n",
       "</div>"
      ],
      "text/plain": [
       "                                filename filetype  \\\n",
       "0  37296e86ac599d7fe9aaff17a3037400.html     html   \n",
       "1  0b294ed63a75b9d264af303f5c5eeea9.html     html   \n",
       "2  5d7ec003095ae0f3123b2e3da4b3fb95.html     html   \n",
       "3  8ca4efc75f6399dfe7e4bffbfc0c08d4.html     html   \n",
       "4  ce9a31b508d0505b0e4cb2bbf4fe3d55.html     html   \n",
       "5  1bcbe8e8838244aca41bfbe69a958f24.html     html   \n",
       "6  8384c9cae634c9dff115a741926e0fc9.html     html   \n",
       "7  2ad1b840589b35378c8757739a461b1d.html     html   \n",
       "8  78f632abdab2116c806b8ab81029fce7.html     html   \n",
       "9  8c1fd30e1547407eab96254252d433d4.html     html   \n",
       "\n",
       "                               hash  \\\n",
       "0  37296e86ac599d7fe9aaff17a3037400   \n",
       "1  0b294ed63a75b9d264af303f5c5eeea9   \n",
       "2  5d7ec003095ae0f3123b2e3da4b3fb95   \n",
       "3  8ca4efc75f6399dfe7e4bffbfc0c08d4   \n",
       "4  ce9a31b508d0505b0e4cb2bbf4fe3d55   \n",
       "5  1bcbe8e8838244aca41bfbe69a958f24   \n",
       "6  8384c9cae634c9dff115a741926e0fc9   \n",
       "7  2ad1b840589b35378c8757739a461b1d   \n",
       "8  78f632abdab2116c806b8ab81029fce7   \n",
       "9  8c1fd30e1547407eab96254252d433d4   \n",
       "\n",
       "                                                tags  \\\n",
       "0  flash,air,adobe,blog,flex,design,webdesign,act...   \n",
       "1  french,language,franÃ§ais,resources,education,...   \n",
       "2  music,mp3,history,free,audio,downloads,songs,d...   \n",
       "3  ssh,sftp,security,linux,database,backup,howto,...   \n",
       "4                                ajax,rails,tutorial   \n",
       "5  silverlight,charts,opensource,chart,.net,free,...   \n",
       "6  parenting,education,baby,children,learning,lan...   \n",
       "7  language,dictionary,swear,fun,reference,funny,...   \n",
       "8  history,image,compression,lenna,fun,internet,i...   \n",
       "9                            science,space,astronomy   \n",
       "\n",
       "                                                 url  num_users  num_tags  \\\n",
       "0                          http://www.webkitchen.be/         65        23   \n",
       "1            http://www.uni.edu/becker/french31.html        123        21   \n",
       "2  http://www.foldedspace.org/weblog/2006/06/in_t...        566        25   \n",
       "3  http://ask-leo.com/how_can_i_automate_an_sftp_...         21        10   \n",
       "4  http://railsonedge.blogspot.com/2008/03/tutori...          7         3   \n",
       "5  http://www.visifire.com/silverlight_charts_gal...         47        15   \n",
       "6  http://www.time.com/time/health/article/0,8599...        121        25   \n",
       "7                  http://www.youswear.com/index.asp         18        14   \n",
       "8              http://www.cs.cmu.edu/~chuck/lennapg/         58        25   \n",
       "9  http://dvice.com/archives/2008/06/astronomers_...          4         3   \n",
       "\n",
       "                                            contents  \n",
       "0  <!DOCTYPE html PUBLIC \"-//W3C//DTD XHTML 1.0 T...  \n",
       "1  <HTML>\\n<HEAD>\\n\\n<TITLE>Best French Websites<...  \n",
       "2  <!DOCTYPE html PUBLIC \"-//W3C//DTD XHTML 1.0 T...  \n",
       "3  <!DOCTYPE html PUBLIC \"-//W3C//DTD XHTML 1.0 T...  \n",
       "4  <!DOCTYPE html PUBLIC \"-//W3C//DTD XHTML 1.0 S...  \n",
       "5  <!DOCTYPE html PUBLIC \"-//W3C//DTD XHTML 1.0 T...  \n",
       "6  <!--[if IE 5]> Vignette StoryServer 5.0 Fri Ma...  \n",
       "7                                                     \n",
       "8  <html>\\n\\n<head>\\n<title>The Rest of the Lenna...  \n",
       "9  <!DOCTYPE html PUBLIC \"-//W3C//DTD XHTML 1.0 T...  "
      ]
     },
     "execution_count": 13,
     "metadata": {},
     "output_type": "execute_result"
    }
   ],
   "source": [
    "sample_df.head(10)"
   ]
  },
  {
   "cell_type": "code",
   "execution_count": 14,
   "metadata": {},
   "outputs": [],
   "source": [
    "tag_sets = sample_df[\"tags\"].values\n",
    "\n",
    "all_tags = set()\n",
    "\n",
    "for tag_set in tag_sets:\n",
    "    for tag in tag_set.split(','):\n",
    "        all_tags.add(tag)"
   ]
  },
  {
   "cell_type": "code",
   "execution_count": 17,
   "metadata": {},
   "outputs": [
    {
     "data": {
      "text/plain": [
       "7201"
      ]
     },
     "execution_count": 17,
     "metadata": {},
     "output_type": "execute_result"
    }
   ],
   "source": [
    "len(all_tags)"
   ]
  },
  {
   "cell_type": "code",
   "execution_count": 25,
   "metadata": {},
   "outputs": [
    {
     "data": {
      "text/plain": [
       "28"
      ]
     },
     "execution_count": 25,
     "metadata": {},
     "output_type": "execute_result"
    }
   ],
   "source": [
    "min_nb_docs = int(len(sample_df)* LABELS_MIN_DOC_FRACTION)\n",
    "min_nb_docs"
   ]
  },
  {
   "cell_type": "code",
   "execution_count": 26,
   "metadata": {},
   "outputs": [],
   "source": [
    "sample_df[\"tags_split\"] = sample_df[\"tags\"].map(lambda tagstring: tagstring.split(\",\"))\n",
    "labels = sample_df[\"tags_split\"].values"
   ]
  },
  {
   "cell_type": "code",
   "execution_count": 27,
   "metadata": {},
   "outputs": [],
   "source": [
    "truncated_labels = truncate_labels(labels,min_nb_docs)"
   ]
  },
  {
   "cell_type": "code",
   "execution_count": 28,
   "metadata": {},
   "outputs": [],
   "source": [
    "mlb = MultiLabelBinarizer()\n",
    "binary_label_data = mlb.fit_transform(truncated_labels)"
   ]
  },
  {
   "cell_type": "code",
   "execution_count": 29,
   "metadata": {},
   "outputs": [
    {
     "data": {
      "text/plain": [
       "(2874, 242)"
      ]
     },
     "execution_count": 29,
     "metadata": {},
     "output_type": "execute_result"
    }
   ],
   "source": [
    "binary_label_data.shape"
   ]
  },
  {
   "cell_type": "code",
   "execution_count": 30,
   "metadata": {},
   "outputs": [],
   "source": [
    "data = sample_df[\"contents\"].values"
   ]
  },
  {
   "cell_type": "code",
   "execution_count": 31,
   "metadata": {},
   "outputs": [
    {
     "data": {
      "text/plain": [
       "'<!DOCTYPE html PUBLIC \"-//W3C//DTD XHTML 1.0 Transitional//EN\"\\n\"http://www.w3.org/TR/xhtml1/DTD/xhtml1-transitional.dtd\">\\n<html xmlns=\"http://www.w3.org/1999/xhtml\">\\n<head profile=\"http://gmpg.org/xfn/11\">\\n<title>Serge Jespers</title>\\n<link rel=\"shortcut icon\" href=\"/favicon.ico\" type=\"image/x-icon\" />\\n<meta http-equiv=\"Content-Type\" content=\"text/html; charset=ISO-8859-1\" />\\n<meta http-equiv=\"pragma\" content=\"no-cache\" />\\n<meta http-equiv=\"cache-control\" content=\"no-cache\" />\\n<link rel=\"stylesheet\" type=\"text/css\" href=\"http://www.webkitchen.be/wp-content/themes/smashingtheme/style.css\" />\\n<script type=\"text/javascript\" src=\"http://www.webkitchen.be/wp-content/themes/smashingtheme/javascript/imghover.js\"> </script>\\n<link rel=\"alternate\" type=\"application/rss+xml\" title=\"RSS 2.0\" href=\"http://www.webkitchen.be/feed/\" />\\n<link rel=\"alternate\" type=\"text/xml\" title=\"RSS .92\" href=\"http://www.webkitchen.be/feed/rss/\" />\\n<link rel=\"alternate\" type=\"application/atom+xml\" title=\"Atom 0.3\" hr'"
      ]
     },
     "execution_count": 31,
     "metadata": {},
     "output_type": "execute_result"
    }
   ],
   "source": [
    "data[0][:1000]"
   ]
  },
  {
   "cell_type": "code",
   "execution_count": 32,
   "metadata": {},
   "outputs": [
    {
     "data": {
      "text/plain": [
       "\" Serge Jespers window.onload = function() {var options ={assetURL:'',loadingImage:'http://www.webkitchen.be/wp-content/plugins/pb-embedflash/css/images/loading.gif',flvPlayer:'http://www.webkitchen.be/wp-content/plugins/pb-embedflash/swf/mediaplayer.swf',animate:true,animSequence:'wh',overlayColor:'#000',overlayOpacity:0.85,overlayBgImage:'http://www.webkitchen.be/wp-content/plugins/pb-embedflash/css/images/overlay-85.png',listenOverlay:true,autoplayMovies:true,showMovieControls:true,resizeDuration:0.35,fadeDuration:0.35,displayNav:true,continuous:false,displayCounter:true,counterType:'default',viewportPadding:20,handleLgImages:'resize',initialHeight:160,initialWidth:320,enableKeys:true,keysClose:['c', 'q', 27],keysPrev:['p', 37],keysNext:['n', 39],handleUnsupported:'',text: {cancel:'Cancel',loading: 'loading',close:'Close',next:'Next',prev:'Previous',errors:{single: 'You must install the {1} browser plugin to view this content.',shared: 'You must install both the {1} and {3} browser p\""
      ]
     },
     "execution_count": 32,
     "metadata": {},
     "output_type": "execute_result"
    }
   ],
   "source": [
    "os.environ[\"CLASSPATH\"]=\"/home/felipe/auto-tagger/data/stanford-postagger/stanford-postagger-2017-06-09\"\n",
    "clean_text(data[0])[:1000]"
   ]
  },
  {
   "cell_type": "code",
   "execution_count": 33,
   "metadata": {},
   "outputs": [],
   "source": [
    "pipeline = Pipeline([\n",
    "    ('vect', CountVectorizer(preprocessor=clean_text, max_features=MAX_NB_WORDS)),\n",
    "    ('tfidf', TfidfTransformer()),\n",
    "    ('clf', OneVsRestClassifier(LinearSVC(),n_jobs=-1)),\n",
    "])"
   ]
  },
  {
   "cell_type": "code",
   "execution_count": 34,
   "metadata": {},
   "outputs": [],
   "source": [
    "# use later\n",
    "parameters = {\n",
    "    'vect__preprocessor': clean_text,\n",
    "    \"vect__max_features\": [MAX_NB_WORDS]\n",
    "}"
   ]
  },
  {
   "cell_type": "code",
   "execution_count": 36,
   "metadata": {},
   "outputs": [
    {
     "data": {
      "text/plain": [
       "array([ 0.21303116,  0.21857345,  0.22498147,  0.22186322,  0.21688475])"
      ]
     },
     "execution_count": 36,
     "metadata": {},
     "output_type": "execute_result"
    }
   ],
   "source": [
    "cross_val_score(pipeline, data, binary_label_data, cv=5,scoring='f1_micro')"
   ]
  }
 ],
 "metadata": {
  "kernelspec": {
   "display_name": "Global TF Kernel (Python 3)",
   "language": "python",
   "name": "global-tf-python-3"
  },
  "language_info": {
   "codemirror_mode": {
    "name": "ipython",
    "version": 3
   },
   "file_extension": ".py",
   "mimetype": "text/x-python",
   "name": "python",
   "nbconvert_exporter": "python",
   "pygments_lexer": "ipython3",
   "version": "3.5.2"
  }
 },
 "nbformat": 4,
 "nbformat_minor": 2
}
