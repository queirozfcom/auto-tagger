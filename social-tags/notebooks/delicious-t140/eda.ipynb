{
 "cells": [
  {
   "cell_type": "code",
   "execution_count": 1,
   "metadata": {
    "collapsed": true
   },
   "outputs": [],
   "source": [
    "import pandas as pd\n",
    "import numpy as np\n",
    "import matplotlib.pyplot as plt\n",
    "import xml.etree.ElementTree as ET\n",
    "import gc\n",
    "import os\n",
    "import pickle\n",
    "import sklearn\n",
    "import sys\n",
    "\n",
    "from sklearn.preprocessing import MultiLabelBinarizer\n",
    "from joblib import Parallel, delayed\n",
    "from tqdm import *\n",
    "\n",
    "%matplotlib inline\n",
    "%load_ext autoreload\n",
    "%autoreload 1"
   ]
  },
  {
   "cell_type": "code",
   "execution_count": 2,
   "metadata": {
    "collapsed": true
   },
   "outputs": [],
   "source": [
    "src_dir = os.path.join(os.getcwd(), os.pardir, '../src')\n",
    "sys.path.append(src_dir)"
   ]
  },
  {
   "cell_type": "code",
   "execution_count": 3,
   "metadata": {
    "collapsed": true
   },
   "outputs": [],
   "source": [
    "%aimport data.delicious_t140\n",
    "%aimport helpers.labels\n",
    "%aimport features.delicious_t140"
   ]
  },
  {
   "cell_type": "code",
   "execution_count": 4,
   "metadata": {
    "collapsed": true
   },
   "outputs": [],
   "source": [
    "from data.delicious_t140 import (get_full_from_cache)\n",
    "from helpers.labels import truncate_labels\n",
    "from features.delicious_t140 import clean_text_delicious"
   ]
  },
  {
   "cell_type": "code",
   "execution_count": 5,
   "metadata": {
    "collapsed": true
   },
   "outputs": [],
   "source": [
    "INTERIM_DATA_ROOT = os.path.abspath(\"../../data/interim/delicious-t140/\")\n",
    "\n",
    "DATA_ROOT = \"/media/felipe/SAMSUNG/delicious/delicioust140/\"\n",
    "TAGINFO=DATA_ROOT+\"/taginfo.xml\""
   ]
  },
  {
   "cell_type": "code",
   "execution_count": 6,
   "metadata": {
    "collapsed": true
   },
   "outputs": [],
   "source": [
    "docs_df = get_full_from_cache(INTERIM_DATA_ROOT,with_contents=False)"
   ]
  },
  {
   "cell_type": "markdown",
   "metadata": {},
   "source": [
    "## number of documents"
   ]
  },
  {
   "cell_type": "code",
   "execution_count": 10,
   "metadata": {},
   "outputs": [
    {
     "data": {
      "text/plain": [
       "143716"
      ]
     },
     "execution_count": 10,
     "metadata": {},
     "output_type": "execute_result"
    }
   ],
   "source": [
    "len(docs_df)"
   ]
  },
  {
   "cell_type": "code",
   "execution_count": 11,
   "metadata": {},
   "outputs": [
    {
     "data": {
      "text/html": [
       "<div>\n",
       "<style>\n",
       "    .dataframe thead tr:only-child th {\n",
       "        text-align: right;\n",
       "    }\n",
       "\n",
       "    .dataframe thead th {\n",
       "        text-align: left;\n",
       "    }\n",
       "\n",
       "    .dataframe tbody tr th {\n",
       "        vertical-align: top;\n",
       "    }\n",
       "</style>\n",
       "<table border=\"1\" class=\"dataframe\">\n",
       "  <thead>\n",
       "    <tr style=\"text-align: right;\">\n",
       "      <th></th>\n",
       "      <th>filename</th>\n",
       "      <th>filetype</th>\n",
       "      <th>hash</th>\n",
       "      <th>tags</th>\n",
       "      <th>url</th>\n",
       "      <th>num_users</th>\n",
       "      <th>num_tags</th>\n",
       "    </tr>\n",
       "  </thead>\n",
       "  <tbody>\n",
       "    <tr>\n",
       "      <th>0</th>\n",
       "      <td>3d647dfac66aa9d81ba026d1d7828a82.html</td>\n",
       "      <td>html</td>\n",
       "      <td>3d647dfac66aa9d81ba026d1d7828a82</td>\n",
       "      <td>libertarianism,economics,marxism,politics,blog...</td>\n",
       "      <td>http://mutualist.blogspot.com/2005/01/vulgar-l...</td>\n",
       "      <td>9</td>\n",
       "      <td>8</td>\n",
       "    </tr>\n",
       "    <tr>\n",
       "      <th>1</th>\n",
       "      <td>7ad6f307f999cbee5d5629dc10ffbb47.html</td>\n",
       "      <td>html</td>\n",
       "      <td>7ad6f307f999cbee5d5629dc10ffbb47</td>\n",
       "      <td>wiki,search,wikipedia,rpg,writing,database,com...</td>\n",
       "      <td>http://rpg.wikia.com/wiki/RPG</td>\n",
       "      <td>5</td>\n",
       "      <td>9</td>\n",
       "    </tr>\n",
       "    <tr>\n",
       "      <th>2</th>\n",
       "      <td>bf4569fee0b3f791fb0a429715e5609f.html</td>\n",
       "      <td>html</td>\n",
       "      <td>bf4569fee0b3f791fb0a429715e5609f</td>\n",
       "      <td>panicatthedisco,patd,au,ryanbrendon,nc-17,pani...</td>\n",
       "      <td>http://community.livejournal.com/we_are_cities...</td>\n",
       "      <td>35</td>\n",
       "      <td>12</td>\n",
       "    </tr>\n",
       "    <tr>\n",
       "      <th>3</th>\n",
       "      <td>f5c23722301a1b1ad8ccbd33bb08fb88.html</td>\n",
       "      <td>html</td>\n",
       "      <td>f5c23722301a1b1ad8ccbd33bb08fb88</td>\n",
       "      <td>gadget,music,ipod,media,software,flac,shopping...</td>\n",
       "      <td>http://www.cowonglobal.com/</td>\n",
       "      <td>161</td>\n",
       "      <td>22</td>\n",
       "    </tr>\n",
       "    <tr>\n",
       "      <th>4</th>\n",
       "      <td>814d894e5880d8268acb2632a31311a1.html</td>\n",
       "      <td>html</td>\n",
       "      <td>814d894e5880d8268acb2632a31311a1</td>\n",
       "      <td>sockets,networking,software,documentation,fram...</td>\n",
       "      <td>http://twistedmatrix.com/projects/core/documen...</td>\n",
       "      <td>136</td>\n",
       "      <td>25</td>\n",
       "    </tr>\n",
       "  </tbody>\n",
       "</table>\n",
       "</div>"
      ],
      "text/plain": [
       "                                filename filetype  \\\n",
       "0  3d647dfac66aa9d81ba026d1d7828a82.html     html   \n",
       "1  7ad6f307f999cbee5d5629dc10ffbb47.html     html   \n",
       "2  bf4569fee0b3f791fb0a429715e5609f.html     html   \n",
       "3  f5c23722301a1b1ad8ccbd33bb08fb88.html     html   \n",
       "4  814d894e5880d8268acb2632a31311a1.html     html   \n",
       "\n",
       "                               hash  \\\n",
       "0  3d647dfac66aa9d81ba026d1d7828a82   \n",
       "1  7ad6f307f999cbee5d5629dc10ffbb47   \n",
       "2  bf4569fee0b3f791fb0a429715e5609f   \n",
       "3  f5c23722301a1b1ad8ccbd33bb08fb88   \n",
       "4  814d894e5880d8268acb2632a31311a1   \n",
       "\n",
       "                                                tags  \\\n",
       "0  libertarianism,economics,marxism,politics,blog...   \n",
       "1  wiki,search,wikipedia,rpg,writing,database,com...   \n",
       "2  panicatthedisco,patd,au,ryanbrendon,nc-17,pani...   \n",
       "3  gadget,music,ipod,media,software,flac,shopping...   \n",
       "4  sockets,networking,software,documentation,fram...   \n",
       "\n",
       "                                                 url  num_users  num_tags  \n",
       "0  http://mutualist.blogspot.com/2005/01/vulgar-l...          9         8  \n",
       "1                      http://rpg.wikia.com/wiki/RPG          5         9  \n",
       "2  http://community.livejournal.com/we_are_cities...         35        12  \n",
       "3                        http://www.cowonglobal.com/        161        22  \n",
       "4  http://twistedmatrix.com/projects/core/documen...        136        25  "
      ]
     },
     "execution_count": 11,
     "metadata": {},
     "output_type": "execute_result"
    }
   ],
   "source": [
    "docs_df.head()"
   ]
  },
  {
   "cell_type": "code",
   "execution_count": 12,
   "metadata": {},
   "outputs": [
    {
     "data": {
      "text/html": [
       "<div>\n",
       "<style>\n",
       "    .dataframe thead tr:only-child th {\n",
       "        text-align: right;\n",
       "    }\n",
       "\n",
       "    .dataframe thead th {\n",
       "        text-align: left;\n",
       "    }\n",
       "\n",
       "    .dataframe tbody tr th {\n",
       "        vertical-align: top;\n",
       "    }\n",
       "</style>\n",
       "<table border=\"1\" class=\"dataframe\">\n",
       "  <thead>\n",
       "    <tr style=\"text-align: right;\">\n",
       "      <th></th>\n",
       "      <th>num_users</th>\n",
       "      <th>num_tags</th>\n",
       "    </tr>\n",
       "  </thead>\n",
       "  <tbody>\n",
       "    <tr>\n",
       "      <th>count</th>\n",
       "      <td>143716.000000</td>\n",
       "      <td>143716.000000</td>\n",
       "    </tr>\n",
       "    <tr>\n",
       "      <th>mean</th>\n",
       "      <td>182.584750</td>\n",
       "      <td>13.116904</td>\n",
       "    </tr>\n",
       "    <tr>\n",
       "      <th>std</th>\n",
       "      <td>663.493158</td>\n",
       "      <td>8.057152</td>\n",
       "    </tr>\n",
       "    <tr>\n",
       "      <th>min</th>\n",
       "      <td>1.000000</td>\n",
       "      <td>1.000000</td>\n",
       "    </tr>\n",
       "    <tr>\n",
       "      <th>25%</th>\n",
       "      <td>13.000000</td>\n",
       "      <td>6.000000</td>\n",
       "    </tr>\n",
       "    <tr>\n",
       "      <th>50%</th>\n",
       "      <td>35.000000</td>\n",
       "      <td>11.000000</td>\n",
       "    </tr>\n",
       "    <tr>\n",
       "      <th>75%</th>\n",
       "      <td>122.000000</td>\n",
       "      <td>22.000000</td>\n",
       "    </tr>\n",
       "    <tr>\n",
       "      <th>max</th>\n",
       "      <td>46215.000000</td>\n",
       "      <td>25.000000</td>\n",
       "    </tr>\n",
       "  </tbody>\n",
       "</table>\n",
       "</div>"
      ],
      "text/plain": [
       "           num_users       num_tags\n",
       "count  143716.000000  143716.000000\n",
       "mean      182.584750      13.116904\n",
       "std       663.493158       8.057152\n",
       "min         1.000000       1.000000\n",
       "25%        13.000000       6.000000\n",
       "50%        35.000000      11.000000\n",
       "75%       122.000000      22.000000\n",
       "max     46215.000000      25.000000"
      ]
     },
     "execution_count": 12,
     "metadata": {},
     "output_type": "execute_result"
    }
   ],
   "source": [
    "docs_df.describe(include=['number'])"
   ]
  },
  {
   "cell_type": "code",
   "execution_count": 13,
   "metadata": {},
   "outputs": [
    {
     "data": {
      "text/html": [
       "<div>\n",
       "<style>\n",
       "    .dataframe thead tr:only-child th {\n",
       "        text-align: right;\n",
       "    }\n",
       "\n",
       "    .dataframe thead th {\n",
       "        text-align: left;\n",
       "    }\n",
       "\n",
       "    .dataframe tbody tr th {\n",
       "        vertical-align: top;\n",
       "    }\n",
       "</style>\n",
       "<table border=\"1\" class=\"dataframe\">\n",
       "  <thead>\n",
       "    <tr style=\"text-align: right;\">\n",
       "      <th></th>\n",
       "      <th>filename</th>\n",
       "      <th>filetype</th>\n",
       "      <th>hash</th>\n",
       "      <th>tags</th>\n",
       "      <th>url</th>\n",
       "    </tr>\n",
       "  </thead>\n",
       "  <tbody>\n",
       "    <tr>\n",
       "      <th>count</th>\n",
       "      <td>143716</td>\n",
       "      <td>143716</td>\n",
       "      <td>143716</td>\n",
       "      <td>143716</td>\n",
       "      <td>143716</td>\n",
       "    </tr>\n",
       "    <tr>\n",
       "      <th>unique</th>\n",
       "      <td>143716</td>\n",
       "      <td>1</td>\n",
       "      <td>143716</td>\n",
       "      <td>141813</td>\n",
       "      <td>143716</td>\n",
       "    </tr>\n",
       "    <tr>\n",
       "      <th>top</th>\n",
       "      <td>2bda5b1bc55daf17334eb7eb079ebe02.html</td>\n",
       "      <td>html</td>\n",
       "      <td>2d510ae055112c53e5c7c73a6281a76f</td>\n",
       "      <td>food,recipes,cooking</td>\n",
       "      <td>http://www.freemacware.com/iphone-simulator/</td>\n",
       "    </tr>\n",
       "    <tr>\n",
       "      <th>freq</th>\n",
       "      <td>1</td>\n",
       "      <td>143716</td>\n",
       "      <td>1</td>\n",
       "      <td>37</td>\n",
       "      <td>1</td>\n",
       "    </tr>\n",
       "  </tbody>\n",
       "</table>\n",
       "</div>"
      ],
      "text/plain": [
       "                                     filename filetype  \\\n",
       "count                                  143716   143716   \n",
       "unique                                 143716        1   \n",
       "top     2bda5b1bc55daf17334eb7eb079ebe02.html     html   \n",
       "freq                                        1   143716   \n",
       "\n",
       "                                    hash                  tags  \\\n",
       "count                             143716                143716   \n",
       "unique                            143716                141813   \n",
       "top     2d510ae055112c53e5c7c73a6281a76f  food,recipes,cooking   \n",
       "freq                                   1                    37   \n",
       "\n",
       "                                                 url  \n",
       "count                                         143716  \n",
       "unique                                        143716  \n",
       "top     http://www.freemacware.com/iphone-simulator/  \n",
       "freq                                               1  "
      ]
     },
     "execution_count": 13,
     "metadata": {},
     "output_type": "execute_result"
    }
   ],
   "source": [
    "docs_df.describe(include=['object'])"
   ]
  },
  {
   "cell_type": "code",
   "execution_count": 14,
   "metadata": {
    "collapsed": true
   },
   "outputs": [],
   "source": [
    "labelsets = [tagset.split(',') for tagset in docs_df[\"tags\"].values]"
   ]
  },
  {
   "cell_type": "code",
   "execution_count": 15,
   "metadata": {
    "collapsed": true
   },
   "outputs": [],
   "source": [
    "mlb = MultiLabelBinarizer(sparse_output=True)\n",
    "tag_assignments = mlb.fit_transform(labelsets)"
   ]
  },
  {
   "cell_type": "markdown",
   "metadata": {},
   "source": [
    "## number of tags per document"
   ]
  },
  {
   "cell_type": "code",
   "execution_count": 16,
   "metadata": {},
   "outputs": [
    {
     "name": "stdout",
     "output_type": "stream",
     "text": [
      "total number of unique tags: 9184\n"
     ]
    }
   ],
   "source": [
    "total_number_of_tags = len(mlb.classes_)\n",
    "print(\"total number of unique tags: \"+str(total_number_of_tags))"
   ]
  },
  {
   "cell_type": "code",
   "execution_count": 17,
   "metadata": {
    "collapsed": true
   },
   "outputs": [],
   "source": [
    "tags_per_document = tag_assignments.sum(axis=1)"
   ]
  },
  {
   "cell_type": "code",
   "execution_count": 18,
   "metadata": {},
   "outputs": [
    {
     "data": {
      "text/plain": [
       "13.11537337526789"
      ]
     },
     "execution_count": 18,
     "metadata": {},
     "output_type": "execute_result"
    }
   ],
   "source": [
    "tags_per_document.mean()"
   ]
  },
  {
   "cell_type": "code",
   "execution_count": 19,
   "metadata": {},
   "outputs": [
    {
     "data": {
      "text/plain": [
       "25"
      ]
     },
     "execution_count": 19,
     "metadata": {},
     "output_type": "execute_result"
    }
   ],
   "source": [
    "tags_per_document.max()"
   ]
  },
  {
   "cell_type": "code",
   "execution_count": 20,
   "metadata": {},
   "outputs": [
    {
     "data": {
      "text/plain": [
       "1"
      ]
     },
     "execution_count": 20,
     "metadata": {},
     "output_type": "execute_result"
    }
   ],
   "source": [
    "tags_per_document.min()"
   ]
  },
  {
   "cell_type": "code",
   "execution_count": 68,
   "metadata": {},
   "outputs": [
    {
     "data": {
      "image/png": "[encoded data removed]",
      "text/plain": [
       "<matplotlib.figure.Figure at 0x7f3e26700f98>"
      ]
     },
     "metadata": {},
     "output_type": "display_data"
    }
   ],
   "source": [
    "plt.hist(tags_per_document,bins=np.arange(1.0,30,1),rwidth=1.0)\n",
    "plt.gcf().set_size_inches(12,7)\n",
    "# plt.gca().set_title('Number of tags per document',fontsize=20)\n",
    "plt.xlabel('Number of tags',fontsize=15)\n",
    "plt.ylabel('Documents tagged', fontsize=15)\n",
    "plt.gca().set_xlim(0,30)\n",
    "\n",
    "plt.gca().grid(True)\n",
    "gridlines = plt.gca().get_xgridlines() + plt.gca().get_ygridlines()\n",
    "for line in gridlines:\n",
    "    line.set_linestyle(':')\n",
    "    line.set_linewidth(0.7)\n",
    "\n",
    "plt.setp(plt.gca().get_xticklabels(), fontsize=8)\n",
    "plt.xticks(np.arange(0, 30, 1))\n",
    "plt.show()"
   ]
  },
  {
   "cell_type": "markdown",
   "metadata": {},
   "source": [
    "## number of times each tag was given to a movie\n",
    "(not counting multiple assignments)"
   ]
  },
  {
   "cell_type": "code",
   "execution_count": 34,
   "metadata": {
    "collapsed": true
   },
   "outputs": [],
   "source": [
    "documents_per_tag = tag_assignments.sum(axis=0)"
   ]
  },
  {
   "cell_type": "code",
   "execution_count": 35,
   "metadata": {},
   "outputs": [
    {
     "data": {
      "text/plain": [
       "205.23617160278746"
      ]
     },
     "execution_count": 35,
     "metadata": {},
     "output_type": "execute_result"
    }
   ],
   "source": [
    "documents_per_tag.mean()"
   ]
  },
  {
   "cell_type": "code",
   "execution_count": 36,
   "metadata": {},
   "outputs": [
    {
     "data": {
      "text/plain": [
       "26603"
      ]
     },
     "execution_count": 36,
     "metadata": {},
     "output_type": "execute_result"
    }
   ],
   "source": [
    "documents_per_tag.max()"
   ]
  },
  {
   "cell_type": "code",
   "execution_count": 37,
   "metadata": {},
   "outputs": [
    {
     "data": {
      "text/plain": [
       "10"
      ]
     },
     "execution_count": 37,
     "metadata": {},
     "output_type": "execute_result"
    }
   ],
   "source": [
    "documents_per_tag.min()"
   ]
  },
  {
   "cell_type": "code",
   "execution_count": 38,
   "metadata": {
    "collapsed": true
   },
   "outputs": [],
   "source": [
    "documents_per_tag = np.array(documents_per_tag).ravel()"
   ]
  },
  {
   "cell_type": "code",
   "execution_count": 70,
   "metadata": {
    "scrolled": false
   },
   "outputs": [
    {
     "data": {
      "image/png": "[encoded data removed]",
      "text/plain": [
       "<matplotlib.figure.Figure at 0x7f3e26e93518>"
      ]
     },
     "metadata": {},
     "output_type": "display_data"
    }
   ],
   "source": [
    "plt.hist(documents_per_tag,bins=np.arange(1.0,500,1),rwidth=1.0)\n",
    "\n",
    "plt.gcf().set_size_inches(12,7)\n",
    "# plt.gca().set_title('Number of tags per document',fontsize=20)\n",
    "plt.gca().set_xlim(0,500)\n",
    "plt.xlabel('Number of unique tags per document',fontsize=15)\n",
    "plt.ylabel('Number of documents', fontsize=15)\n",
    "plt.xticks(np.arange(0, 500, 20))\n",
    "\n",
    "plt.gca().grid(True)\n",
    "gridlines = plt.gca().get_xgridlines() + plt.gca().get_ygridlines()\n",
    "for line in gridlines:\n",
    "    line.set_linestyle(':')\n",
    "    line.set_linewidth(0.7)\n",
    "\n",
    "plt.setp(plt.gca().get_xticklabels(), fontsize=8)\n",
    "plt.show()"
   ]
  },
  {
   "cell_type": "code",
   "execution_count": null,
   "metadata": {
    "collapsed": true
   },
   "outputs": [],
   "source": []
  }
 ],
 "metadata": {
  "kernelspec": {
   "display_name": "Global TF Kernel (Python 3)",
   "language": "python",
   "name": "global-tf-python-3"
  },
  "language_info": {
   "codemirror_mode": {
    "name": "ipython",
    "version": 3
   },
   "file_extension": ".py",
   "mimetype": "text/x-python",
   "name": "python",
   "nbconvert_exporter": "python",
   "pygments_lexer": "ipython3",
   "version": "3.5.2"
  }
 },
 "nbformat": 4,
 "nbformat_minor": 2
}
