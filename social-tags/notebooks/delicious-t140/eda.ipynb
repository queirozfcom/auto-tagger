{
 "cells": [
  {
   "cell_type": "code",
   "execution_count": 20,
   "metadata": {},
   "outputs": [
    {
     "name": "stdout",
     "output_type": "stream",
     "text": [
      "The autoreload extension is already loaded. To reload it, use:\n",
      "  %reload_ext autoreload\n"
     ]
    }
   ],
   "source": [
    "import pandas as pd\n",
    "import numpy as np\n",
    "import matplotlib.pyplot as plt\n",
    "import xml.etree.ElementTree as ET\n",
    "import gc\n",
    "import os\n",
    "import sklearn\n",
    "import sys\n",
    "\n",
    "from sklearn.preprocessing import MultiLabelBinarizer\n",
    "from joblib import Parallel, delayed\n",
    "from tqdm import *\n",
    "\n",
    "%matplotlib inline\n",
    "%load_ext autoreload\n",
    "%autoreload 1"
   ]
  },
  {
   "cell_type": "code",
   "execution_count": 2,
   "metadata": {},
   "outputs": [],
   "source": [
    "src_dir = os.path.join(os.getcwd(), os.pardir, '../src')\n",
    "sys.path.append(src_dir)"
   ]
  },
  {
   "cell_type": "code",
   "execution_count": 3,
   "metadata": {},
   "outputs": [],
   "source": [
    "%aimport data.delicious_t140"
   ]
  },
  {
   "cell_type": "code",
   "execution_count": 4,
   "metadata": {},
   "outputs": [],
   "source": [
    "from data.delicious_t140 import load_or_get_from_cache"
   ]
  },
  {
   "cell_type": "code",
   "execution_count": 5,
   "metadata": {},
   "outputs": [],
   "source": [
    "INTERIM_DATA_ROOT = os.path.abspath(\"../../data/interim/delicious-t140/\")\n",
    "\n",
    "DATA_ROOT = \"/media/felipe/SAMSUNG/delicious/delicioust140/\"\n",
    "TAGINFO=DATA_ROOT+\"taginfo.xml\""
   ]
  },
  {
   "cell_type": "code",
   "execution_count": 6,
   "metadata": {},
   "outputs": [],
   "source": [
    "docs_df = load_or_get_from_cache(TAGINFO,INTERIM_DATA_ROOT)"
   ]
  },
  {
   "cell_type": "code",
   "execution_count": 7,
   "metadata": {},
   "outputs": [
    {
     "data": {
      "text/html": [
       "<div>\n",
       "<style>\n",
       "    .dataframe thead tr:only-child th {\n",
       "        text-align: right;\n",
       "    }\n",
       "\n",
       "    .dataframe thead th {\n",
       "        text-align: left;\n",
       "    }\n",
       "\n",
       "    .dataframe tbody tr th {\n",
       "        vertical-align: top;\n",
       "    }\n",
       "</style>\n",
       "<table border=\"1\" class=\"dataframe\">\n",
       "  <thead>\n",
       "    <tr style=\"text-align: right;\">\n",
       "      <th></th>\n",
       "      <th>num_users</th>\n",
       "      <th>num_unique_tags</th>\n",
       "    </tr>\n",
       "  </thead>\n",
       "  <tbody>\n",
       "    <tr>\n",
       "      <th>count</th>\n",
       "      <td>143713.000000</td>\n",
       "      <td>143713.000000</td>\n",
       "    </tr>\n",
       "    <tr>\n",
       "      <th>mean</th>\n",
       "      <td>182.588423</td>\n",
       "      <td>13.853695</td>\n",
       "    </tr>\n",
       "    <tr>\n",
       "      <th>std</th>\n",
       "      <td>663.499596</td>\n",
       "      <td>8.312233</td>\n",
       "    </tr>\n",
       "    <tr>\n",
       "      <th>min</th>\n",
       "      <td>2.000000</td>\n",
       "      <td>2.000000</td>\n",
       "    </tr>\n",
       "    <tr>\n",
       "      <th>25%</th>\n",
       "      <td>13.000000</td>\n",
       "      <td>6.000000</td>\n",
       "    </tr>\n",
       "    <tr>\n",
       "      <th>50%</th>\n",
       "      <td>35.000000</td>\n",
       "      <td>12.000000</td>\n",
       "    </tr>\n",
       "    <tr>\n",
       "      <th>75%</th>\n",
       "      <td>122.000000</td>\n",
       "      <td>24.000000</td>\n",
       "    </tr>\n",
       "    <tr>\n",
       "      <th>max</th>\n",
       "      <td>46215.000000</td>\n",
       "      <td>25.000000</td>\n",
       "    </tr>\n",
       "  </tbody>\n",
       "</table>\n",
       "</div>"
      ],
      "text/plain": [
       "           num_users  num_unique_tags\n",
       "count  143713.000000    143713.000000\n",
       "mean      182.588423        13.853695\n",
       "std       663.499596         8.312233\n",
       "min         2.000000         2.000000\n",
       "25%        13.000000         6.000000\n",
       "50%        35.000000        12.000000\n",
       "75%       122.000000        24.000000\n",
       "max     46215.000000        25.000000"
      ]
     },
     "execution_count": 7,
     "metadata": {},
     "output_type": "execute_result"
    }
   ],
   "source": [
    "docs_df.describe(include=['number'])"
   ]
  },
  {
   "cell_type": "markdown",
   "metadata": {},
   "source": [
    "## number of documents"
   ]
  },
  {
   "cell_type": "code",
   "execution_count": 8,
   "metadata": {},
   "outputs": [
    {
     "data": {
      "text/plain": [
       "143713"
      ]
     },
     "execution_count": 8,
     "metadata": {},
     "output_type": "execute_result"
    }
   ],
   "source": [
    "len(docs_df)"
   ]
  },
  {
   "cell_type": "code",
   "execution_count": 9,
   "metadata": {},
   "outputs": [
    {
     "data": {
      "text/html": [
       "<div>\n",
       "<style>\n",
       "    .dataframe thead tr:only-child th {\n",
       "        text-align: right;\n",
       "    }\n",
       "\n",
       "    .dataframe thead th {\n",
       "        text-align: left;\n",
       "    }\n",
       "\n",
       "    .dataframe tbody tr th {\n",
       "        vertical-align: top;\n",
       "    }\n",
       "</style>\n",
       "<table border=\"1\" class=\"dataframe\">\n",
       "  <thead>\n",
       "    <tr style=\"text-align: right;\">\n",
       "      <th></th>\n",
       "      <th>filename</th>\n",
       "      <th>filetype</th>\n",
       "      <th>hash</th>\n",
       "      <th>unique_tags</th>\n",
       "      <th>url</th>\n",
       "    </tr>\n",
       "  </thead>\n",
       "  <tbody>\n",
       "    <tr>\n",
       "      <th>count</th>\n",
       "      <td>143713</td>\n",
       "      <td>143713</td>\n",
       "      <td>143713</td>\n",
       "      <td>143713</td>\n",
       "      <td>143713</td>\n",
       "    </tr>\n",
       "    <tr>\n",
       "      <th>unique</th>\n",
       "      <td>143713</td>\n",
       "      <td>1</td>\n",
       "      <td>143713</td>\n",
       "      <td>142495</td>\n",
       "      <td>143713</td>\n",
       "    </tr>\n",
       "    <tr>\n",
       "      <th>top</th>\n",
       "      <td>eabbe85d7ad2ac4a78fcc77b749ea968.html</td>\n",
       "      <td>html</td>\n",
       "      <td>bb10a7e5bf9e93b057f30d5a8035753e</td>\n",
       "      <td>cooking,recipes,food</td>\n",
       "      <td>http://www.ondotnet.com/pub/a/dotnet/2002/12/3...</td>\n",
       "    </tr>\n",
       "    <tr>\n",
       "      <th>freq</th>\n",
       "      <td>1</td>\n",
       "      <td>143713</td>\n",
       "      <td>1</td>\n",
       "      <td>37</td>\n",
       "      <td>1</td>\n",
       "    </tr>\n",
       "  </tbody>\n",
       "</table>\n",
       "</div>"
      ],
      "text/plain": [
       "                                     filename filetype  \\\n",
       "count                                  143713   143713   \n",
       "unique                                 143713        1   \n",
       "top     eabbe85d7ad2ac4a78fcc77b749ea968.html     html   \n",
       "freq                                        1   143713   \n",
       "\n",
       "                                    hash           unique_tags  \\\n",
       "count                             143713                143713   \n",
       "unique                            143713                142495   \n",
       "top     bb10a7e5bf9e93b057f30d5a8035753e  cooking,recipes,food   \n",
       "freq                                   1                    37   \n",
       "\n",
       "                                                      url  \n",
       "count                                              143713  \n",
       "unique                                             143713  \n",
       "top     http://www.ondotnet.com/pub/a/dotnet/2002/12/3...  \n",
       "freq                                                    1  "
      ]
     },
     "execution_count": 9,
     "metadata": {},
     "output_type": "execute_result"
    }
   ],
   "source": [
    "docs_df.describe(include=['category','object'])"
   ]
  },
  {
   "cell_type": "code",
   "execution_count": 10,
   "metadata": {},
   "outputs": [
    {
     "data": {
      "text/plain": [
       "filename           object\n",
       "filetype           object\n",
       "hash               object\n",
       "unique_tags        object\n",
       "url                object\n",
       "num_users           int64\n",
       "num_unique_tags     int64\n",
       "dtype: object"
      ]
     },
     "execution_count": 10,
     "metadata": {},
     "output_type": "execute_result"
    }
   ],
   "source": [
    "docs_df.dtypes"
   ]
  },
  {
   "cell_type": "code",
   "execution_count": 11,
   "metadata": {},
   "outputs": [
    {
     "data": {
      "text/html": [
       "<div>\n",
       "<style>\n",
       "    .dataframe thead tr:only-child th {\n",
       "        text-align: right;\n",
       "    }\n",
       "\n",
       "    .dataframe thead th {\n",
       "        text-align: left;\n",
       "    }\n",
       "\n",
       "    .dataframe tbody tr th {\n",
       "        vertical-align: top;\n",
       "    }\n",
       "</style>\n",
       "<table border=\"1\" class=\"dataframe\">\n",
       "  <thead>\n",
       "    <tr style=\"text-align: right;\">\n",
       "      <th></th>\n",
       "      <th>filename</th>\n",
       "      <th>filetype</th>\n",
       "      <th>hash</th>\n",
       "      <th>unique_tags</th>\n",
       "      <th>url</th>\n",
       "      <th>num_users</th>\n",
       "      <th>num_unique_tags</th>\n",
       "    </tr>\n",
       "  </thead>\n",
       "  <tbody>\n",
       "    <tr>\n",
       "      <th>0</th>\n",
       "      <td>66fa11b33b6ac183314892703c20fa47.html</td>\n",
       "      <td>html</td>\n",
       "      <td>66fa11b33b6ac183314892703c20fa47</td>\n",
       "      <td>reference,conventions,standards,style,coding,g...</td>\n",
       "      <td>http://lists.osafoundation.org/pipermail/dev/2...</td>\n",
       "      <td>27</td>\n",
       "      <td>8</td>\n",
       "    </tr>\n",
       "    <tr>\n",
       "      <th>1</th>\n",
       "      <td>21899d001299ceadc852ed22e1b2b725.html</td>\n",
       "      <td>html</td>\n",
       "      <td>21899d001299ceadc852ed22e1b2b725</td>\n",
       "      <td>llvm,software,language,framework,code,programm...</td>\n",
       "      <td>http://llvm.org/</td>\n",
       "      <td>830</td>\n",
       "      <td>24</td>\n",
       "    </tr>\n",
       "    <tr>\n",
       "      <th>2</th>\n",
       "      <td>bd7c9734cd1a5c8a55328a1a9ce4d4d2.html</td>\n",
       "      <td>html</td>\n",
       "      <td>bd7c9734cd1a5c8a55328a1a9ce4d4d2</td>\n",
       "      <td>operating,freeware,application,education,apps,...</td>\n",
       "      <td>http://linuxappfinder.com/alternatives</td>\n",
       "      <td>47</td>\n",
       "      <td>17</td>\n",
       "    </tr>\n",
       "    <tr>\n",
       "      <th>3</th>\n",
       "      <td>ff186471d34e1440845b80d61733f8ef.html</td>\n",
       "      <td>html</td>\n",
       "      <td>ff186471d34e1440845b80d61733f8ef</td>\n",
       "      <td>gnome,tomboy,software,linux,wiki,notes</td>\n",
       "      <td>http://live.gnome.org/Tomboy</td>\n",
       "      <td>7</td>\n",
       "      <td>6</td>\n",
       "    </tr>\n",
       "    <tr>\n",
       "      <th>4</th>\n",
       "      <td>cc7afd7b1b9e0c29ba72978b5edd8ed5.html</td>\n",
       "      <td>html</td>\n",
       "      <td>cc7afd7b1b9e0c29ba72978b5edd8ed5</td>\n",
       "      <td>web20,blogs,teaching</td>\n",
       "      <td>http://lisahistory.net/wordpress/</td>\n",
       "      <td>7</td>\n",
       "      <td>3</td>\n",
       "    </tr>\n",
       "  </tbody>\n",
       "</table>\n",
       "</div>"
      ],
      "text/plain": [
       "                                filename filetype  \\\n",
       "0  66fa11b33b6ac183314892703c20fa47.html     html   \n",
       "1  21899d001299ceadc852ed22e1b2b725.html     html   \n",
       "2  bd7c9734cd1a5c8a55328a1a9ce4d4d2.html     html   \n",
       "3  ff186471d34e1440845b80d61733f8ef.html     html   \n",
       "4  cc7afd7b1b9e0c29ba72978b5edd8ed5.html     html   \n",
       "\n",
       "                               hash  \\\n",
       "0  66fa11b33b6ac183314892703c20fa47   \n",
       "1  21899d001299ceadc852ed22e1b2b725   \n",
       "2  bd7c9734cd1a5c8a55328a1a9ce4d4d2   \n",
       "3  ff186471d34e1440845b80d61733f8ef   \n",
       "4  cc7afd7b1b9e0c29ba72978b5edd8ed5   \n",
       "\n",
       "                                         unique_tags  \\\n",
       "0  reference,conventions,standards,style,coding,g...   \n",
       "1  llvm,software,language,framework,code,programm...   \n",
       "2  operating,freeware,application,education,apps,...   \n",
       "3             gnome,tomboy,software,linux,wiki,notes   \n",
       "4                               web20,blogs,teaching   \n",
       "\n",
       "                                                 url  num_users  \\\n",
       "0  http://lists.osafoundation.org/pipermail/dev/2...         27   \n",
       "1                                   http://llvm.org/        830   \n",
       "2             http://linuxappfinder.com/alternatives         47   \n",
       "3                       http://live.gnome.org/Tomboy          7   \n",
       "4                  http://lisahistory.net/wordpress/          7   \n",
       "\n",
       "   num_unique_tags  \n",
       "0                8  \n",
       "1               24  \n",
       "2               17  \n",
       "3                6  \n",
       "4                3  "
      ]
     },
     "execution_count": 11,
     "metadata": {},
     "output_type": "execute_result"
    }
   ],
   "source": [
    "docs_df.head(5)"
   ]
  },
  {
   "cell_type": "code",
   "execution_count": 12,
   "metadata": {},
   "outputs": [
    {
     "data": {
      "text/plain": [
       "(1, 30)"
      ]
     },
     "execution_count": 12,
     "metadata": {},
     "output_type": "execute_result"
    },
    {
     "data": {
      "image/png": "[encoded data removed]",
      "text/plain": [
       "<matplotlib.figure.Figure at 0x7f9fc30d0b70>"
      ]
     },
     "metadata": {},
     "output_type": "display_data"
    }
   ],
   "source": [
    "docs_df[['num_unique_tags']].plot(kind='hist',bins=np.arange(1.0,30,1),rwidth=0.8)\n",
    "\n",
    "plt.gcf().set_size_inches(20,10)\n",
    "plt.gca().set_title('number of documents having that number of different tags',fontsize=30)\n",
    "plt.gca().set_xlim(1,30)"
   ]
  },
  {
   "cell_type": "code",
   "execution_count": 13,
   "metadata": {},
   "outputs": [
    {
     "data": {
      "text/plain": [
       "(1, 150)"
      ]
     },
     "execution_count": 13,
     "metadata": {},
     "output_type": "execute_result"
    },
    {
     "data": {
      "image/png": "[encoded data removed]",
      "text/plain": [
       "<matplotlib.figure.Figure at 0x7f9fc4a625f8>"
      ]
     },
     "metadata": {},
     "output_type": "display_data"
    }
   ],
   "source": [
    "docs_df[['num_users']].plot(kind='hist',bins=np.arange(1.0,150,1),rwidth=0.8)\n",
    "plt.gcf().set_size_inches(20,10)\n",
    "plt.gca().set_title('number of documents having that number of different users tag it',fontsize=30)\n",
    "plt.gca().set_xlim(1,150)"
   ]
  },
  {
   "cell_type": "code",
   "execution_count": 14,
   "metadata": {},
   "outputs": [],
   "source": [
    "tagsets = [tagset.split(',') for tagset in docs_df[\"unique_tags\"].values]\n",
    "\n",
    "flat_list = []\n",
    "\n",
    "for tagset in tagsets:\n",
    "    for tag in tagset:\n",
    "        flat_list.append(tag)\n",
    "        \n",
    "flat_set = set(flat_list)"
   ]
  },
  {
   "cell_type": "markdown",
   "metadata": {},
   "source": [
    "## number of unique tags"
   ]
  },
  {
   "cell_type": "code",
   "execution_count": 16,
   "metadata": {},
   "outputs": [
    {
     "data": {
      "text/plain": [
       "63474"
      ]
     },
     "execution_count": 16,
     "metadata": {},
     "output_type": "execute_result"
    }
   ],
   "source": [
    "len(flat_set)"
   ]
  },
  {
   "cell_type": "markdown",
   "metadata": {},
   "source": [
    "## number of times each tag was given to a document\n",
    "\n",
    "(not counting multiple assignments)"
   ]
  },
  {
   "cell_type": "code",
   "execution_count": 18,
   "metadata": {},
   "outputs": [],
   "source": [
    "labelsets = [tagset.split(',') for tagset in docs_df[\"unique_tags\"].values]"
   ]
  },
  {
   "cell_type": "code",
   "execution_count": 25,
   "metadata": {},
   "outputs": [],
   "source": [
    "tag_counts = MultiLabelBinarizer(sparse_output=True).fit_transform(labelsets).sum(axis=0)"
   ]
  },
  {
   "cell_type": "code",
   "execution_count": 41,
   "metadata": {},
   "outputs": [],
   "source": [
    "tag_counts = tag_counts.astype('uint8')\n",
    "tag_counts = np.array(tag_counts).ravel()"
   ]
  },
  {
   "cell_type": "code",
   "execution_count": 39,
   "metadata": {},
   "outputs": [
    {
     "data": {
      "text/plain": [
       "Text(20,6000,'$\\\\mu=9.14,\\\\ \\\\sigma=27.31$')"
      ]
     },
     "execution_count": 39,
     "metadata": {},
     "output_type": "execute_result"
    },
    {
     "data": {
      "image/png": "[encoded data removed]",
      "text/plain": [
       "<matplotlib.figure.Figure at 0x7f9fa53d6f28>"
      ]
     },
     "metadata": {},
     "output_type": "display_data"
    }
   ],
   "source": [
    "plt.hist(,bins=np.arange(1.0,100,1),rwidth=0.9)\n",
    "\n",
    "plt.gcf().set_size_inches(20,10)\n",
    "plt.gca().set_title('tag counts by use frequency',fontsize=30)\n",
    "plt.gca().set_xlim(1,100)\n",
    "plt.xlabel('times used',fontsize=20)\n",
    "plt.ylabel('number of tags', fontsize=20)\n",
    "plt.text(20,6000,r'$\\mu={0:.2f},\\ \\sigma={1:.2f}$'.format(tag_counts.mean(), tag_counts.std()), fontsize=20)"
   ]
  },
  {
   "cell_type": "code",
   "execution_count": null,
   "metadata": {},
   "outputs": [],
   "source": []
  }
 ],
 "metadata": {
  "kernelspec": {
   "display_name": "Global TF Kernel (Python 3)",
   "language": "python",
   "name": "global-tf-python-3"
  },
  "language_info": {
   "codemirror_mode": {
    "name": "ipython",
    "version": 3
   },
   "file_extension": ".py",
   "mimetype": "text/x-python",
   "name": "python",
   "nbconvert_exporter": "python",
   "pygments_lexer": "ipython3",
   "version": "3.5.2"
  }
 },
 "nbformat": 4,
 "nbformat_minor": 2
}
