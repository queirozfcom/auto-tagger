{
 "cells": [
  {
   "cell_type": "code",
   "execution_count": 1,
   "metadata": {
    "collapsed": true
   },
   "outputs": [],
   "source": [
    "import pandas as pd\n",
    "import numpy as np\n",
    "import matplotlib.pyplot as plt\n",
    "import xml.etree.ElementTree as ET\n",
    "import gc\n",
    "import os\n",
    "import sklearn\n",
    "import sys\n",
    "\n",
    "from joblib import Parallel, delayed\n",
    "from tqdm import *\n",
    "\n",
    "%matplotlib inline\n",
    "%load_ext autoreload\n",
    "%autoreload 1"
   ]
  },
  {
   "cell_type": "code",
   "execution_count": 2,
   "metadata": {
    "collapsed": true
   },
   "outputs": [],
   "source": [
    "src_dir = os.path.join(os.getcwd(), os.pardir, '../src')\n",
    "sys.path.append(src_dir)"
   ]
  },
  {
   "cell_type": "code",
   "execution_count": 3,
   "metadata": {},
   "outputs": [],
   "source": [
    "%aimport data.delicious_t140"
   ]
  },
  {
   "cell_type": "code",
   "execution_count": 4,
   "metadata": {
    "collapsed": true
   },
   "outputs": [],
   "source": [
    "from data.delicious_t140 import load_or_get_from_cache"
   ]
  },
  {
   "cell_type": "code",
   "execution_count": 5,
   "metadata": {},
   "outputs": [],
   "source": [
    "INTERIM_DATA_ROOT = os.path.abspath(\"../../data/interim/delicious-t140/\")\n",
    "\n",
    "DATA_ROOT = \"/media/felipe/SAMSUNG/delicious/delicioust140/\"\n",
    "TAGINFO=DATA_ROOT+\"taginfo.xml\""
   ]
  },
  {
   "cell_type": "code",
   "execution_count": 6,
   "metadata": {},
   "outputs": [],
   "source": [
    "docs_df = load_or_get_from_cache(TAGINFO,INTERIM_DATA_ROOT)"
   ]
  },
  {
   "cell_type": "code",
   "execution_count": 7,
   "metadata": {},
   "outputs": [
    {
     "data": {
      "text/html": [
       "<div>\n",
       "<style>\n",
       "    .dataframe thead tr:only-child th {\n",
       "        text-align: right;\n",
       "    }\n",
       "\n",
       "    .dataframe thead th {\n",
       "        text-align: left;\n",
       "    }\n",
       "\n",
       "    .dataframe tbody tr th {\n",
       "        vertical-align: top;\n",
       "    }\n",
       "</style>\n",
       "<table border=\"1\" class=\"dataframe\">\n",
       "  <thead>\n",
       "    <tr style=\"text-align: right;\">\n",
       "      <th></th>\n",
       "      <th>num_users</th>\n",
       "      <th>num_unique_tags</th>\n",
       "    </tr>\n",
       "  </thead>\n",
       "  <tbody>\n",
       "    <tr>\n",
       "      <th>count</th>\n",
       "      <td>143714.000000</td>\n",
       "      <td>143714.00000</td>\n",
       "    </tr>\n",
       "    <tr>\n",
       "      <th>mean</th>\n",
       "      <td>182.587159</td>\n",
       "      <td>13.85364</td>\n",
       "    </tr>\n",
       "    <tr>\n",
       "      <th>std</th>\n",
       "      <td>663.497461</td>\n",
       "      <td>8.31223</td>\n",
       "    </tr>\n",
       "    <tr>\n",
       "      <th>min</th>\n",
       "      <td>1.000000</td>\n",
       "      <td>2.00000</td>\n",
       "    </tr>\n",
       "    <tr>\n",
       "      <th>25%</th>\n",
       "      <td>13.000000</td>\n",
       "      <td>6.00000</td>\n",
       "    </tr>\n",
       "    <tr>\n",
       "      <th>50%</th>\n",
       "      <td>35.000000</td>\n",
       "      <td>12.00000</td>\n",
       "    </tr>\n",
       "    <tr>\n",
       "      <th>75%</th>\n",
       "      <td>122.000000</td>\n",
       "      <td>24.00000</td>\n",
       "    </tr>\n",
       "    <tr>\n",
       "      <th>max</th>\n",
       "      <td>46215.000000</td>\n",
       "      <td>25.00000</td>\n",
       "    </tr>\n",
       "  </tbody>\n",
       "</table>\n",
       "</div>"
      ],
      "text/plain": [
       "           num_users  num_unique_tags\n",
       "count  143714.000000     143714.00000\n",
       "mean      182.587159         13.85364\n",
       "std       663.497461          8.31223\n",
       "min         1.000000          2.00000\n",
       "25%        13.000000          6.00000\n",
       "50%        35.000000         12.00000\n",
       "75%       122.000000         24.00000\n",
       "max     46215.000000         25.00000"
      ]
     },
     "execution_count": 7,
     "metadata": {},
     "output_type": "execute_result"
    }
   ],
   "source": [
    "docs_df.describe(include=['number'])"
   ]
  },
  {
   "cell_type": "markdown",
   "metadata": {},
   "source": [
    "## unique documents"
   ]
  },
  {
   "cell_type": "code",
   "execution_count": 8,
   "metadata": {},
   "outputs": [
    {
     "data": {
      "text/plain": [
       "143714"
      ]
     },
     "execution_count": 8,
     "metadata": {},
     "output_type": "execute_result"
    }
   ],
   "source": [
    "len(docs_df)"
   ]
  },
  {
   "cell_type": "code",
   "execution_count": 9,
   "metadata": {},
   "outputs": [
    {
     "data": {
      "text/html": [
       "<div>\n",
       "<style>\n",
       "    .dataframe thead tr:only-child th {\n",
       "        text-align: right;\n",
       "    }\n",
       "\n",
       "    .dataframe thead th {\n",
       "        text-align: left;\n",
       "    }\n",
       "\n",
       "    .dataframe tbody tr th {\n",
       "        vertical-align: top;\n",
       "    }\n",
       "</style>\n",
       "<table border=\"1\" class=\"dataframe\">\n",
       "  <thead>\n",
       "    <tr style=\"text-align: right;\">\n",
       "      <th></th>\n",
       "      <th>filename</th>\n",
       "      <th>filetype</th>\n",
       "      <th>hash</th>\n",
       "      <th>unique_tags</th>\n",
       "      <th>url</th>\n",
       "    </tr>\n",
       "  </thead>\n",
       "  <tbody>\n",
       "    <tr>\n",
       "      <th>count</th>\n",
       "      <td>143714</td>\n",
       "      <td>143714</td>\n",
       "      <td>143714</td>\n",
       "      <td>143714</td>\n",
       "      <td>143714</td>\n",
       "    </tr>\n",
       "    <tr>\n",
       "      <th>unique</th>\n",
       "      <td>143714</td>\n",
       "      <td>1</td>\n",
       "      <td>143714</td>\n",
       "      <td>142523</td>\n",
       "      <td>143714</td>\n",
       "    </tr>\n",
       "    <tr>\n",
       "      <th>top</th>\n",
       "      <td>5719cd3165f2ab82a15280bd2d518bc2.html</td>\n",
       "      <td>html</td>\n",
       "      <td>f4ce212e2c1d321c53b3e0c2d735caa8</td>\n",
       "      <td>recipes,food,cooking</td>\n",
       "      <td>http://prothemedesign.com/free-webdesign-tools...</td>\n",
       "    </tr>\n",
       "    <tr>\n",
       "      <th>freq</th>\n",
       "      <td>1</td>\n",
       "      <td>143714</td>\n",
       "      <td>1</td>\n",
       "      <td>37</td>\n",
       "      <td>1</td>\n",
       "    </tr>\n",
       "  </tbody>\n",
       "</table>\n",
       "</div>"
      ],
      "text/plain": [
       "                                     filename filetype  \\\n",
       "count                                  143714   143714   \n",
       "unique                                 143714        1   \n",
       "top     5719cd3165f2ab82a15280bd2d518bc2.html     html   \n",
       "freq                                        1   143714   \n",
       "\n",
       "                                    hash           unique_tags  \\\n",
       "count                             143714                143714   \n",
       "unique                            143714                142523   \n",
       "top     f4ce212e2c1d321c53b3e0c2d735caa8  recipes,food,cooking   \n",
       "freq                                   1                    37   \n",
       "\n",
       "                                                      url  \n",
       "count                                              143714  \n",
       "unique                                             143714  \n",
       "top     http://prothemedesign.com/free-webdesign-tools...  \n",
       "freq                                                    1  "
      ]
     },
     "execution_count": 9,
     "metadata": {},
     "output_type": "execute_result"
    }
   ],
   "source": [
    "docs_df.describe(include=['category','object'])"
   ]
  },
  {
   "cell_type": "code",
   "execution_count": 10,
   "metadata": {},
   "outputs": [
    {
     "data": {
      "text/plain": [
       "filename           object\n",
       "filetype           object\n",
       "hash               object\n",
       "unique_tags        object\n",
       "url                object\n",
       "num_users           int64\n",
       "num_unique_tags     int64\n",
       "dtype: object"
      ]
     },
     "execution_count": 10,
     "metadata": {},
     "output_type": "execute_result"
    }
   ],
   "source": [
    "docs_df.dtypes"
   ]
  },
  {
   "cell_type": "code",
   "execution_count": 11,
   "metadata": {},
   "outputs": [
    {
     "data": {
      "text/html": [
       "<div>\n",
       "<style>\n",
       "    .dataframe thead tr:only-child th {\n",
       "        text-align: right;\n",
       "    }\n",
       "\n",
       "    .dataframe thead th {\n",
       "        text-align: left;\n",
       "    }\n",
       "\n",
       "    .dataframe tbody tr th {\n",
       "        vertical-align: top;\n",
       "    }\n",
       "</style>\n",
       "<table border=\"1\" class=\"dataframe\">\n",
       "  <thead>\n",
       "    <tr style=\"text-align: right;\">\n",
       "      <th></th>\n",
       "      <th>filename</th>\n",
       "      <th>filetype</th>\n",
       "      <th>hash</th>\n",
       "      <th>unique_tags</th>\n",
       "      <th>url</th>\n",
       "      <th>num_users</th>\n",
       "      <th>num_unique_tags</th>\n",
       "    </tr>\n",
       "  </thead>\n",
       "  <tbody>\n",
       "    <tr>\n",
       "      <th>112877</th>\n",
       "      <td>c4fb8ed0bca3eb2eaeb0db98119538bf.html</td>\n",
       "      <td>html</td>\n",
       "      <td>c4fb8ed0bca3eb2eaeb0db98119538bf</td>\n",
       "      <td>america,impeachment,bush,blogs,democrats,impea...</td>\n",
       "      <td>http://www.slate.com/id/2172547/nav/tap1/</td>\n",
       "      <td>21</td>\n",
       "      <td>12</td>\n",
       "    </tr>\n",
       "    <tr>\n",
       "      <th>27871</th>\n",
       "      <td>50ac7211b3047255febd7e40846cbf8b.html</td>\n",
       "      <td>html</td>\n",
       "      <td>50ac7211b3047255febd7e40846cbf8b</td>\n",
       "      <td>howto,lifehacks,life,hack,books,bestof,hacks,p...</td>\n",
       "      <td>http://lifehacker.com/366859/the-best-of-lifeh...</td>\n",
       "      <td>639</td>\n",
       "      <td>25</td>\n",
       "    </tr>\n",
       "    <tr>\n",
       "      <th>7416</th>\n",
       "      <td>b840038624db14f8fe25550dd517677a.html</td>\n",
       "      <td>html</td>\n",
       "      <td>b840038624db14f8fe25550dd517677a</td>\n",
       "      <td>uk,saverstore,electronics,pc,components,hardwa...</td>\n",
       "      <td>http://www.saverstore.com/</td>\n",
       "      <td>49</td>\n",
       "      <td>15</td>\n",
       "    </tr>\n",
       "    <tr>\n",
       "      <th>91868</th>\n",
       "      <td>46c8400d1ec240e265b51bec64f9a039.html</td>\n",
       "      <td>html</td>\n",
       "      <td>46c8400d1ec240e265b51bec64f9a039</td>\n",
       "      <td>biology,howto,lifehacks,life,time,writing,slee...</td>\n",
       "      <td>http://scienceblogs.com/clock/2006/06/everythi...</td>\n",
       "      <td>479</td>\n",
       "      <td>25</td>\n",
       "    </tr>\n",
       "    <tr>\n",
       "      <th>107937</th>\n",
       "      <td>2c8923175d8668b99576eae3cf846a44.html</td>\n",
       "      <td>html</td>\n",
       "      <td>2c8923175d8668b99576eae3cf846a44</td>\n",
       "      <td>kidfic,gerardfrank,mcr,bandom,au,frankgerard,b...</td>\n",
       "      <td>http://community.livejournal.com/bandombigbang...</td>\n",
       "      <td>7</td>\n",
       "      <td>7</td>\n",
       "    </tr>\n",
       "    <tr>\n",
       "      <th>47761</th>\n",
       "      <td>41bf8cd0469a14a7bc9398e82fc22669.html</td>\n",
       "      <td>html</td>\n",
       "      <td>41bf8cd0469a14a7bc9398e82fc22669</td>\n",
       "      <td>interaction,site,fun,web,sound,graphics,intera...</td>\n",
       "      <td>http://www.billyharveymusic.com/</td>\n",
       "      <td>597</td>\n",
       "      <td>24</td>\n",
       "    </tr>\n",
       "    <tr>\n",
       "      <th>19990</th>\n",
       "      <td>41e07eb7fe696fb01e72aa122a164bbd.html</td>\n",
       "      <td>html</td>\n",
       "      <td>41e07eb7fe696fb01e72aa122a164bbd</td>\n",
       "      <td>creative,design,promotion,interesting,magazine...</td>\n",
       "      <td>http://www.centaur2.co.uk/crdw/promotion/</td>\n",
       "      <td>6</td>\n",
       "      <td>6</td>\n",
       "    </tr>\n",
       "    <tr>\n",
       "      <th>132362</th>\n",
       "      <td>7c182e6916fe3dc750607360f0e4ec54.html</td>\n",
       "      <td>html</td>\n",
       "      <td>7c182e6916fe3dc750607360f0e4ec54</td>\n",
       "      <td>evite,party,invitations,invitation,social,invi...</td>\n",
       "      <td>http://www.evite.com/app/qv/qvStart.do</td>\n",
       "      <td>25</td>\n",
       "      <td>11</td>\n",
       "    </tr>\n",
       "    <tr>\n",
       "      <th>65547</th>\n",
       "      <td>227241fc79048cdaa17d8485373bd4c3.html</td>\n",
       "      <td>html</td>\n",
       "      <td>227241fc79048cdaa17d8485373bd4c3</td>\n",
       "      <td>enterprise,tutorial,programming,jee,j2ee,beans...</td>\n",
       "      <td>http://www.conceptgo.com/gsejb/index.html</td>\n",
       "      <td>40</td>\n",
       "      <td>8</td>\n",
       "    </tr>\n",
       "    <tr>\n",
       "      <th>127822</th>\n",
       "      <td>de2f88929a06a29ee2980fa7c1940142.html</td>\n",
       "      <td>html</td>\n",
       "      <td>de2f88929a06a29ee2980fa7c1940142</td>\n",
       "      <td>google,tools,mashups,widget,content,blogs,edte...</td>\n",
       "      <td>http://www.techcrunch.com/2007/09/06/google-bo...</td>\n",
       "      <td>46</td>\n",
       "      <td>15</td>\n",
       "    </tr>\n",
       "  </tbody>\n",
       "</table>\n",
       "</div>"
      ],
      "text/plain": [
       "                                     filename filetype  \\\n",
       "112877  c4fb8ed0bca3eb2eaeb0db98119538bf.html     html   \n",
       "27871   50ac7211b3047255febd7e40846cbf8b.html     html   \n",
       "7416    b840038624db14f8fe25550dd517677a.html     html   \n",
       "91868   46c8400d1ec240e265b51bec64f9a039.html     html   \n",
       "107937  2c8923175d8668b99576eae3cf846a44.html     html   \n",
       "47761   41bf8cd0469a14a7bc9398e82fc22669.html     html   \n",
       "19990   41e07eb7fe696fb01e72aa122a164bbd.html     html   \n",
       "132362  7c182e6916fe3dc750607360f0e4ec54.html     html   \n",
       "65547   227241fc79048cdaa17d8485373bd4c3.html     html   \n",
       "127822  de2f88929a06a29ee2980fa7c1940142.html     html   \n",
       "\n",
       "                                    hash  \\\n",
       "112877  c4fb8ed0bca3eb2eaeb0db98119538bf   \n",
       "27871   50ac7211b3047255febd7e40846cbf8b   \n",
       "7416    b840038624db14f8fe25550dd517677a   \n",
       "91868   46c8400d1ec240e265b51bec64f9a039   \n",
       "107937  2c8923175d8668b99576eae3cf846a44   \n",
       "47761   41bf8cd0469a14a7bc9398e82fc22669   \n",
       "19990   41e07eb7fe696fb01e72aa122a164bbd   \n",
       "132362  7c182e6916fe3dc750607360f0e4ec54   \n",
       "65547   227241fc79048cdaa17d8485373bd4c3   \n",
       "127822  de2f88929a06a29ee2980fa7c1940142   \n",
       "\n",
       "                                              unique_tags  \\\n",
       "112877  america,impeachment,bush,blogs,democrats,impea...   \n",
       "27871   howto,lifehacks,life,hack,books,bestof,hacks,p...   \n",
       "7416    uk,saverstore,electronics,pc,components,hardwa...   \n",
       "91868   biology,howto,lifehacks,life,time,writing,slee...   \n",
       "107937  kidfic,gerardfrank,mcr,bandom,au,frankgerard,b...   \n",
       "47761   interaction,site,fun,web,sound,graphics,intera...   \n",
       "19990   creative,design,promotion,interesting,magazine...   \n",
       "132362  evite,party,invitations,invitation,social,invi...   \n",
       "65547   enterprise,tutorial,programming,jee,j2ee,beans...   \n",
       "127822  google,tools,mashups,widget,content,blogs,edte...   \n",
       "\n",
       "                                                      url  num_users  \\\n",
       "112877          http://www.slate.com/id/2172547/nav/tap1/         21   \n",
       "27871   http://lifehacker.com/366859/the-best-of-lifeh...        639   \n",
       "7416                           http://www.saverstore.com/         49   \n",
       "91868   http://scienceblogs.com/clock/2006/06/everythi...        479   \n",
       "107937  http://community.livejournal.com/bandombigbang...          7   \n",
       "47761                    http://www.billyharveymusic.com/        597   \n",
       "19990           http://www.centaur2.co.uk/crdw/promotion/          6   \n",
       "132362             http://www.evite.com/app/qv/qvStart.do         25   \n",
       "65547           http://www.conceptgo.com/gsejb/index.html         40   \n",
       "127822  http://www.techcrunch.com/2007/09/06/google-bo...         46   \n",
       "\n",
       "        num_unique_tags  \n",
       "112877               12  \n",
       "27871                25  \n",
       "7416                 15  \n",
       "91868                25  \n",
       "107937                7  \n",
       "47761                24  \n",
       "19990                 6  \n",
       "132362               11  \n",
       "65547                 8  \n",
       "127822               15  "
      ]
     },
     "execution_count": 11,
     "metadata": {},
     "output_type": "execute_result"
    }
   ],
   "source": [
    "docs_df.sample(10)"
   ]
  },
  {
   "cell_type": "code",
   "execution_count": 12,
   "metadata": {},
   "outputs": [
    {
     "data": {
      "text/html": [
       "<div>\n",
       "<style>\n",
       "    .dataframe thead tr:only-child th {\n",
       "        text-align: right;\n",
       "    }\n",
       "\n",
       "    .dataframe thead th {\n",
       "        text-align: left;\n",
       "    }\n",
       "\n",
       "    .dataframe tbody tr th {\n",
       "        vertical-align: top;\n",
       "    }\n",
       "</style>\n",
       "<table border=\"1\" class=\"dataframe\">\n",
       "  <thead>\n",
       "    <tr style=\"text-align: right;\">\n",
       "      <th></th>\n",
       "      <th>filename</th>\n",
       "      <th>filetype</th>\n",
       "      <th>hash</th>\n",
       "      <th>unique_tags</th>\n",
       "      <th>url</th>\n",
       "      <th>num_users</th>\n",
       "      <th>num_unique_tags</th>\n",
       "    </tr>\n",
       "  </thead>\n",
       "  <tbody>\n",
       "    <tr>\n",
       "      <th>30571</th>\n",
       "      <td>9862166e802a18542e9f22be3b2b8dc4.html</td>\n",
       "      <td>html</td>\n",
       "      <td>9862166e802a18542e9f22be3b2b8dc4</td>\n",
       "      <td>design,motorola,website,microsite,animation,flash</td>\n",
       "      <td>http://www.soulpolice.com/motorolacity/</td>\n",
       "      <td>1</td>\n",
       "      <td>6</td>\n",
       "    </tr>\n",
       "    <tr>\n",
       "      <th>139</th>\n",
       "      <td>01879557192bc8bcc69f78711aa580a1.html</td>\n",
       "      <td>html</td>\n",
       "      <td>01879557192bc8bcc69f78711aa580a1</td>\n",
       "      <td>keyboard,shortcuts,javascript</td>\n",
       "      <td>http://livepipe.net/extra/hotkey</td>\n",
       "      <td>2</td>\n",
       "      <td>3</td>\n",
       "    </tr>\n",
       "    <tr>\n",
       "      <th>92142</th>\n",
       "      <td>e3230e1809a7d428b6a563afd6289df6.html</td>\n",
       "      <td>html</td>\n",
       "      <td>e3230e1809a7d428b6a563afd6289df6</td>\n",
       "      <td>rentals,apartment,florida,cottage,condo,beach,...</td>\n",
       "      <td>http://hollywoodflvacationrentals.com/</td>\n",
       "      <td>2</td>\n",
       "      <td>12</td>\n",
       "    </tr>\n",
       "    <tr>\n",
       "      <th>92047</th>\n",
       "      <td>3e35d090e633db29209444bd100fc3b8.html</td>\n",
       "      <td>html</td>\n",
       "      <td>3e35d090e633db29209444bd100fc3b8</td>\n",
       "      <td>freeware,osx,printing,server,print</td>\n",
       "      <td>http://homepage.mac.com/barijaona/print66/pres...</td>\n",
       "      <td>2</td>\n",
       "      <td>5</td>\n",
       "    </tr>\n",
       "    <tr>\n",
       "      <th>92028</th>\n",
       "      <td>c0d40e4d854b1518cee6d261ce5fec04.html</td>\n",
       "      <td>html</td>\n",
       "      <td>c0d40e4d854b1518cee6d261ce5fec04</td>\n",
       "      <td>brain,history,evolution</td>\n",
       "      <td>http://scienceblogs.com/neurophilosophy/2008/0...</td>\n",
       "      <td>2</td>\n",
       "      <td>3</td>\n",
       "    </tr>\n",
       "    <tr>\n",
       "      <th>92005</th>\n",
       "      <td>86138cb8d2008ba6b5970af9650000e7.html</td>\n",
       "      <td>html</td>\n",
       "      <td>86138cb8d2008ba6b5970af9650000e7</td>\n",
       "      <td>chaos,math,fractals</td>\n",
       "      <td>http://scienceblogs.com/goodmath/goodmath/topo...</td>\n",
       "      <td>2</td>\n",
       "      <td>3</td>\n",
       "    </tr>\n",
       "    <tr>\n",
       "      <th>91955</th>\n",
       "      <td>eabad7a90677ff1bedd138e5bbec5cf6.html</td>\n",
       "      <td>html</td>\n",
       "      <td>eabad7a90677ff1bedd138e5bbec5cf6</td>\n",
       "      <td>inspiration,webdesign,wordpress</td>\n",
       "      <td>http://scribblescratch.com/themes4/</td>\n",
       "      <td>2</td>\n",
       "      <td>3</td>\n",
       "    </tr>\n",
       "    <tr>\n",
       "      <th>91915</th>\n",
       "      <td>fcab34a2e8c6055625c2915ac55c335e.html</td>\n",
       "      <td>html</td>\n",
       "      <td>fcab34a2e8c6055625c2915ac55c335e</td>\n",
       "      <td>tools,programming,unittesting,testing,java,dat...</td>\n",
       "      <td>http://schemamule.sourceforge.net/index.html</td>\n",
       "      <td>2</td>\n",
       "      <td>6</td>\n",
       "    </tr>\n",
       "    <tr>\n",
       "      <th>91859</th>\n",
       "      <td>6a815f1b54c2f4c37629ea535fe64891.html</td>\n",
       "      <td>html</td>\n",
       "      <td>6a815f1b54c2f4c37629ea535fe64891</td>\n",
       "      <td>music,tools,download</td>\n",
       "      <td>http://sciagnik.net/</td>\n",
       "      <td>2</td>\n",
       "      <td>3</td>\n",
       "    </tr>\n",
       "    <tr>\n",
       "      <th>91818</th>\n",
       "      <td>356382fc9bd3991b156fccc7486fcd37.html</td>\n",
       "      <td>html</td>\n",
       "      <td>356382fc9bd3991b156fccc7486fcd37</td>\n",
       "      <td>youtube,download,video</td>\n",
       "      <td>http://savevid.co.cc/</td>\n",
       "      <td>2</td>\n",
       "      <td>3</td>\n",
       "    </tr>\n",
       "  </tbody>\n",
       "</table>\n",
       "</div>"
      ],
      "text/plain": [
       "                                    filename filetype  \\\n",
       "30571  9862166e802a18542e9f22be3b2b8dc4.html     html   \n",
       "139    01879557192bc8bcc69f78711aa580a1.html     html   \n",
       "92142  e3230e1809a7d428b6a563afd6289df6.html     html   \n",
       "92047  3e35d090e633db29209444bd100fc3b8.html     html   \n",
       "92028  c0d40e4d854b1518cee6d261ce5fec04.html     html   \n",
       "92005  86138cb8d2008ba6b5970af9650000e7.html     html   \n",
       "91955  eabad7a90677ff1bedd138e5bbec5cf6.html     html   \n",
       "91915  fcab34a2e8c6055625c2915ac55c335e.html     html   \n",
       "91859  6a815f1b54c2f4c37629ea535fe64891.html     html   \n",
       "91818  356382fc9bd3991b156fccc7486fcd37.html     html   \n",
       "\n",
       "                                   hash  \\\n",
       "30571  9862166e802a18542e9f22be3b2b8dc4   \n",
       "139    01879557192bc8bcc69f78711aa580a1   \n",
       "92142  e3230e1809a7d428b6a563afd6289df6   \n",
       "92047  3e35d090e633db29209444bd100fc3b8   \n",
       "92028  c0d40e4d854b1518cee6d261ce5fec04   \n",
       "92005  86138cb8d2008ba6b5970af9650000e7   \n",
       "91955  eabad7a90677ff1bedd138e5bbec5cf6   \n",
       "91915  fcab34a2e8c6055625c2915ac55c335e   \n",
       "91859  6a815f1b54c2f4c37629ea535fe64891   \n",
       "91818  356382fc9bd3991b156fccc7486fcd37   \n",
       "\n",
       "                                             unique_tags  \\\n",
       "30571  design,motorola,website,microsite,animation,flash   \n",
       "139                        keyboard,shortcuts,javascript   \n",
       "92142  rentals,apartment,florida,cottage,condo,beach,...   \n",
       "92047                 freeware,osx,printing,server,print   \n",
       "92028                            brain,history,evolution   \n",
       "92005                                chaos,math,fractals   \n",
       "91955                    inspiration,webdesign,wordpress   \n",
       "91915  tools,programming,unittesting,testing,java,dat...   \n",
       "91859                               music,tools,download   \n",
       "91818                             youtube,download,video   \n",
       "\n",
       "                                                     url  num_users  \\\n",
       "30571            http://www.soulpolice.com/motorolacity/          1   \n",
       "139                     http://livepipe.net/extra/hotkey          2   \n",
       "92142             http://hollywoodflvacationrentals.com/          2   \n",
       "92047  http://homepage.mac.com/barijaona/print66/pres...          2   \n",
       "92028  http://scienceblogs.com/neurophilosophy/2008/0...          2   \n",
       "92005  http://scienceblogs.com/goodmath/goodmath/topo...          2   \n",
       "91955                http://scribblescratch.com/themes4/          2   \n",
       "91915       http://schemamule.sourceforge.net/index.html          2   \n",
       "91859                               http://sciagnik.net/          2   \n",
       "91818                              http://savevid.co.cc/          2   \n",
       "\n",
       "       num_unique_tags  \n",
       "30571                6  \n",
       "139                  3  \n",
       "92142               12  \n",
       "92047                5  \n",
       "92028                3  \n",
       "92005                3  \n",
       "91955                3  \n",
       "91915                6  \n",
       "91859                3  \n",
       "91818                3  "
      ]
     },
     "execution_count": 12,
     "metadata": {},
     "output_type": "execute_result"
    }
   ],
   "source": [
    "docs_df[docs_df['num_users']<=2].sort_values('num_users').head(10)"
   ]
  },
  {
   "cell_type": "code",
   "execution_count": 15,
   "metadata": {},
   "outputs": [
    {
     "data": {
      "text/plain": [
       "(1, 30)"
      ]
     },
     "execution_count": 15,
     "metadata": {},
     "output_type": "execute_result"
    },
    {
     "data": {
      "image/png": "[encoded data removed]",
      "text/plain": [
       "<matplotlib.figure.Figure at 0x7f3c130974e0>"
      ]
     },
     "metadata": {},
     "output_type": "display_data"
    }
   ],
   "source": [
    "docs_df[['num_unique_tags']].plot(kind='hist',bins=np.arange(1.0,30,1),rwidth=0.8)\n",
    "\n",
    "plt.gcf().set_size_inches(20,10)\n",
    "plt.gca().set_title('number of documents having that number of different tags',fontsize=30)\n",
    "plt.gca().set_xlim(1,30)"
   ]
  },
  {
   "cell_type": "code",
   "execution_count": 16,
   "metadata": {},
   "outputs": [
    {
     "data": {
      "text/plain": [
       "(1, 150)"
      ]
     },
     "execution_count": 16,
     "metadata": {},
     "output_type": "execute_result"
    },
    {
     "data": {
      "image/png": "[encoded data removed]",
      "text/plain": [
       "<matplotlib.figure.Figure at 0x7f3c03f6b080>"
      ]
     },
     "metadata": {},
     "output_type": "display_data"
    }
   ],
   "source": [
    "docs_df[['num_users']].plot(kind='hist',bins=np.arange(1.0,150,1),rwidth=0.8)\n",
    "plt.gcf().set_size_inches(20,10)\n",
    "plt.gca().set_title('number of documents having that number of different users tag it',fontsize=30)\n",
    "plt.gca().set_xlim(1,150)"
   ]
  },
  {
   "cell_type": "code",
   "execution_count": 18,
   "metadata": {},
   "outputs": [],
   "source": [
    "tagsets = [tagset.split(',') for tagset in docs_df[\"unique_tags\"].values]\n",
    "\n",
    "flat_list = []\n",
    "\n",
    "for tagset in tagsets:\n",
    "    for tag in tagset:\n",
    "        flat_list.append(tag)\n",
    "        \n",
    "flat_set = set(flat_list)"
   ]
  },
  {
   "cell_type": "markdown",
   "metadata": {},
   "source": [
    "## unique tags"
   ]
  },
  {
   "cell_type": "code",
   "execution_count": 19,
   "metadata": {},
   "outputs": [
    {
     "data": {
      "text/plain": [
       "63474"
      ]
     },
     "execution_count": 19,
     "metadata": {},
     "output_type": "execute_result"
    }
   ],
   "source": [
    "len(flat_set)"
   ]
  }
 ],
 "metadata": {
  "kernelspec": {
   "display_name": "Global TF Kernel (Python 3)",
   "language": "python",
   "name": "global-tf-python-3"
  },
  "language_info": {
   "codemirror_mode": {
    "name": "ipython",
    "version": 3
   },
   "file_extension": ".py",
   "mimetype": "text/x-python",
   "name": "python",
   "nbconvert_exporter": "python",
   "pygments_lexer": "ipython3",
   "version": "3.5.2"
  }
 },
 "nbformat": 4,
 "nbformat_minor": 2
}
