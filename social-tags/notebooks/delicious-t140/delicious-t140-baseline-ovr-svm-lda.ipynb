{
 "cells": [
  {
   "cell_type": "code",
   "execution_count": 1,
   "metadata": {},
   "outputs": [],
   "source": [
    "import pandas as pd\n",
    "import numpy as np\n",
    "import matplotlib.pyplot as plt\n",
    "import gc\n",
    "import os\n",
    "import pickle\n",
    "import sklearn\n",
    "import sys\n",
    "\n",
    "from sklearn.decomposition import LatentDirichletAllocation\n",
    "from sklearn.metrics import f1_score, precision_score, recall_score\n",
    "from sklearn.model_selection import cross_val_score, GridSearchCV,ParameterGrid, train_test_split\n",
    "from sklearn.multiclass import OneVsRestClassifier\n",
    "from sklearn.preprocessing import MultiLabelBinarizer, Normalizer\n",
    "from sklearn.feature_extraction.text import CountVectorizer\n",
    "from sklearn.feature_extraction.text import TfidfTransformer\n",
    "from sklearn.pipeline import Pipeline\n",
    "from sklearn.svm import SVC\n",
    "from sklearn.neighbors import KNeighborsClassifier,NearestNeighbors\n",
    "from sklearn.model_selection import GridSearchCV\n",
    "\n",
    "from tqdm import *\n",
    "\n",
    "%matplotlib inline\n",
    "%load_ext autoreload\n",
    "%autoreload 1"
   ]
  },
  {
   "cell_type": "code",
   "execution_count": 2,
   "metadata": {
    "collapsed": true
   },
   "outputs": [],
   "source": [
    "src_dir = os.path.join(os.getcwd(), os.pardir, 'src')\n",
    "sys.path.append(src_dir)"
   ]
  },
  {
   "cell_type": "code",
   "execution_count": 3,
   "metadata": {
    "collapsed": true
   },
   "outputs": [],
   "source": [
    "%aimport data.load_delicious\n",
    "%aimport features.build_features\n",
    "%aimport helpers.files,helpers.labels"
   ]
  },
  {
   "cell_type": "code",
   "execution_count": 4,
   "metadata": {
    "collapsed": true
   },
   "outputs": [],
   "source": [
    "from data.load_delicious import load_taginfo_into_dataframe\n",
    "from helpers.files import get_directory_name_from_hash\n",
    "from helpers.labels import truncate_labels\n",
    "from features.preprocess import clean_text_delicious"
   ]
  },
  {
   "cell_type": "code",
   "execution_count": 5,
   "metadata": {
    "collapsed": true
   },
   "outputs": [],
   "source": [
    "ROOT = \"/media/felipe/SAMSUNG/delicious/delicioust140/\"\n",
    "TAGINFO = ROOT+\"taginfo.xml\"\n",
    "INTERIM_DATA_ROOT = \"../data/interim/delicious-t140/\"\n",
    "MAX_NB_WORDS = 2000\n",
    "LABELS_MIN_DOC_FRACTION = 0.01"
   ]
  },
  {
   "cell_type": "code",
   "execution_count": 6,
   "metadata": {
    "collapsed": true
   },
   "outputs": [],
   "source": [
    "if os.path.isfile(INTERIM_DATA_ROOT+\"docs_df.p\"):\n",
    "    docs_df = pickle.load( open( INTERIM_DATA_ROOT+\"docs_df.p\", \"rb\" ))\n",
    "else:\n",
    "    docs_df = load_taginfo_into_dataframe(TAGINFO)\n",
    "    pickle.dump(docs_df,open(INTERIM_DATA_ROOT+\"docs_df.p\",\"wb\"))"
   ]
  },
  {
   "cell_type": "code",
   "execution_count": 7,
   "metadata": {},
   "outputs": [
    {
     "data": {
      "text/plain": [
       "143716"
      ]
     },
     "execution_count": 7,
     "metadata": {},
     "output_type": "execute_result"
    }
   ],
   "source": [
    "num_documents = len(docs_df)\n",
    "num_documents"
   ]
  },
  {
   "cell_type": "code",
   "execution_count": 8,
   "metadata": {},
   "outputs": [
    {
     "data": {
      "text/html": [
       "<div>\n",
       "<style>\n",
       "    .dataframe thead tr:only-child th {\n",
       "        text-align: right;\n",
       "    }\n",
       "\n",
       "    .dataframe thead th {\n",
       "        text-align: left;\n",
       "    }\n",
       "\n",
       "    .dataframe tbody tr th {\n",
       "        vertical-align: top;\n",
       "    }\n",
       "</style>\n",
       "<table border=\"1\" class=\"dataframe\">\n",
       "  <thead>\n",
       "    <tr style=\"text-align: right;\">\n",
       "      <th></th>\n",
       "      <th>filename</th>\n",
       "      <th>filetype</th>\n",
       "      <th>hash</th>\n",
       "      <th>tags</th>\n",
       "      <th>url</th>\n",
       "      <th>num_users</th>\n",
       "      <th>num_tags</th>\n",
       "    </tr>\n",
       "  </thead>\n",
       "  <tbody>\n",
       "    <tr>\n",
       "      <th>0</th>\n",
       "      <td>66fa11b33b6ac183314892703c20fa47.html</td>\n",
       "      <td>html</td>\n",
       "      <td>66fa11b33b6ac183314892703c20fa47</td>\n",
       "      <td>python,programming,standards,style,coding,refe...</td>\n",
       "      <td>http://lists.osafoundation.org/pipermail/dev/2...</td>\n",
       "      <td>27</td>\n",
       "      <td>8</td>\n",
       "    </tr>\n",
       "    <tr>\n",
       "      <th>1</th>\n",
       "      <td>21899d001299ceadc852ed22e1b2b725.html</td>\n",
       "      <td>html</td>\n",
       "      <td>21899d001299ceadc852ed22e1b2b725</td>\n",
       "      <td>compiler,programming,llvm,vm,development,compi...</td>\n",
       "      <td>http://llvm.org/</td>\n",
       "      <td>830</td>\n",
       "      <td>25</td>\n",
       "    </tr>\n",
       "    <tr>\n",
       "      <th>2</th>\n",
       "      <td>bd7c9734cd1a5c8a55328a1a9ce4d4d2.html</td>\n",
       "      <td>html</td>\n",
       "      <td>bd7c9734cd1a5c8a55328a1a9ce4d4d2</td>\n",
       "      <td>linux,software,opensource,ubuntu,windows,alter...</td>\n",
       "      <td>http://linuxappfinder.com/alternatives</td>\n",
       "      <td>47</td>\n",
       "      <td>19</td>\n",
       "    </tr>\n",
       "    <tr>\n",
       "      <th>3</th>\n",
       "      <td>ff186471d34e1440845b80d61733f8ef.html</td>\n",
       "      <td>html</td>\n",
       "      <td>ff186471d34e1440845b80d61733f8ef</td>\n",
       "      <td>tomboy,gnome,linux,software,wiki,notes</td>\n",
       "      <td>http://live.gnome.org/Tomboy</td>\n",
       "      <td>7</td>\n",
       "      <td>6</td>\n",
       "    </tr>\n",
       "    <tr>\n",
       "      <th>4</th>\n",
       "      <td>cc7afd7b1b9e0c29ba72978b5edd8ed5.html</td>\n",
       "      <td>html</td>\n",
       "      <td>cc7afd7b1b9e0c29ba72978b5edd8ed5</td>\n",
       "      <td>blogs,teaching,web2.0</td>\n",
       "      <td>http://lisahistory.net/wordpress/</td>\n",
       "      <td>7</td>\n",
       "      <td>3</td>\n",
       "    </tr>\n",
       "    <tr>\n",
       "      <th>5</th>\n",
       "      <td>e9466d13558200b7b084fae5d0d81b57.html</td>\n",
       "      <td>html</td>\n",
       "      <td>e9466d13558200b7b084fae5d0d81b57</td>\n",
       "      <td>books,literature,search,recommendations,refere...</td>\n",
       "      <td>http://literature-map.com/</td>\n",
       "      <td>373</td>\n",
       "      <td>25</td>\n",
       "    </tr>\n",
       "    <tr>\n",
       "      <th>6</th>\n",
       "      <td>2e14957206bad2bdf5fb29564c6c863c.html</td>\n",
       "      <td>html</td>\n",
       "      <td>2e14957206bad2bdf5fb29564c6c863c</td>\n",
       "      <td>deviantart,photography,inspiration</td>\n",
       "      <td>http://littlemewhatever.deviantart.com/</td>\n",
       "      <td>15</td>\n",
       "      <td>3</td>\n",
       "    </tr>\n",
       "    <tr>\n",
       "      <th>7</th>\n",
       "      <td>e84764f03cc25dcf50207bfa534a9e84.html</td>\n",
       "      <td>html</td>\n",
       "      <td>e84764f03cc25dcf50207bfa534a9e84</td>\n",
       "      <td>phone,mobile,cellphone,sprint,cell,apps,treo,t...</td>\n",
       "      <td>http://livemobile.blogspot.com/</td>\n",
       "      <td>55</td>\n",
       "      <td>13</td>\n",
       "    </tr>\n",
       "    <tr>\n",
       "      <th>8</th>\n",
       "      <td>a6f8b9ccfe1219ab79be4001c08b31ab.html</td>\n",
       "      <td>html</td>\n",
       "      <td>a6f8b9ccfe1219ab79be4001c08b31ab</td>\n",
       "      <td>video,videos,bizarre,weird,movies,lists,cool,s...</td>\n",
       "      <td>http://listverse.com/bizarre/top-10-most-bizar...</td>\n",
       "      <td>64</td>\n",
       "      <td>15</td>\n",
       "    </tr>\n",
       "    <tr>\n",
       "      <th>9</th>\n",
       "      <td>72c4c07a25937957f599c7524f94cd75.html</td>\n",
       "      <td>html</td>\n",
       "      <td>72c4c07a25937957f599c7524f94cd75</td>\n",
       "      <td>movies,film,cool,lists</td>\n",
       "      <td>http://listverse.com/entertainment/top-15-indi...</td>\n",
       "      <td>8</td>\n",
       "      <td>4</td>\n",
       "    </tr>\n",
       "  </tbody>\n",
       "</table>\n",
       "</div>"
      ],
      "text/plain": [
       "                                filename filetype  \\\n",
       "0  66fa11b33b6ac183314892703c20fa47.html     html   \n",
       "1  21899d001299ceadc852ed22e1b2b725.html     html   \n",
       "2  bd7c9734cd1a5c8a55328a1a9ce4d4d2.html     html   \n",
       "3  ff186471d34e1440845b80d61733f8ef.html     html   \n",
       "4  cc7afd7b1b9e0c29ba72978b5edd8ed5.html     html   \n",
       "5  e9466d13558200b7b084fae5d0d81b57.html     html   \n",
       "6  2e14957206bad2bdf5fb29564c6c863c.html     html   \n",
       "7  e84764f03cc25dcf50207bfa534a9e84.html     html   \n",
       "8  a6f8b9ccfe1219ab79be4001c08b31ab.html     html   \n",
       "9  72c4c07a25937957f599c7524f94cd75.html     html   \n",
       "\n",
       "                               hash  \\\n",
       "0  66fa11b33b6ac183314892703c20fa47   \n",
       "1  21899d001299ceadc852ed22e1b2b725   \n",
       "2  bd7c9734cd1a5c8a55328a1a9ce4d4d2   \n",
       "3  ff186471d34e1440845b80d61733f8ef   \n",
       "4  cc7afd7b1b9e0c29ba72978b5edd8ed5   \n",
       "5  e9466d13558200b7b084fae5d0d81b57   \n",
       "6  2e14957206bad2bdf5fb29564c6c863c   \n",
       "7  e84764f03cc25dcf50207bfa534a9e84   \n",
       "8  a6f8b9ccfe1219ab79be4001c08b31ab   \n",
       "9  72c4c07a25937957f599c7524f94cd75   \n",
       "\n",
       "                                                tags  \\\n",
       "0  python,programming,standards,style,coding,refe...   \n",
       "1  compiler,programming,llvm,vm,development,compi...   \n",
       "2  linux,software,opensource,ubuntu,windows,alter...   \n",
       "3             tomboy,gnome,linux,software,wiki,notes   \n",
       "4                              blogs,teaching,web2.0   \n",
       "5  books,literature,search,recommendations,refere...   \n",
       "6                 deviantart,photography,inspiration   \n",
       "7  phone,mobile,cellphone,sprint,cell,apps,treo,t...   \n",
       "8  video,videos,bizarre,weird,movies,lists,cool,s...   \n",
       "9                             movies,film,cool,lists   \n",
       "\n",
       "                                                 url  num_users  num_tags  \n",
       "0  http://lists.osafoundation.org/pipermail/dev/2...         27         8  \n",
       "1                                   http://llvm.org/        830        25  \n",
       "2             http://linuxappfinder.com/alternatives         47        19  \n",
       "3                       http://live.gnome.org/Tomboy          7         6  \n",
       "4                  http://lisahistory.net/wordpress/          7         3  \n",
       "5                         http://literature-map.com/        373        25  \n",
       "6            http://littlemewhatever.deviantart.com/         15         3  \n",
       "7                    http://livemobile.blogspot.com/         55        13  \n",
       "8  http://listverse.com/bizarre/top-10-most-bizar...         64        15  \n",
       "9  http://listverse.com/entertainment/top-15-indi...          8         4  "
      ]
     },
     "execution_count": 8,
     "metadata": {},
     "output_type": "execute_result"
    }
   ],
   "source": [
    "docs_df.head(10)"
   ]
  },
  {
   "cell_type": "code",
   "execution_count": 9,
   "metadata": {
    "collapsed": true
   },
   "outputs": [],
   "source": [
    "# TODO optimize this because currently this does one I/O OP per loop\n",
    "def load_contents(hash):\n",
    "    file_path = ROOT+\"fdocuments/\"+get_directory_name_from_hash(hash)+\"/\"+hash+\".html\"\n",
    "       \n",
    "    with open(file_path,\"r\",encoding='utf-8', errors='ignore') as f:\n",
    "        contents = f.read()\n",
    "        \n",
    "    return contents"
   ]
  },
  {
   "cell_type": "code",
   "execution_count": 10,
   "metadata": {},
   "outputs": [
    {
     "name": "stdout",
     "output_type": "stream",
     "text": [
      "CPU times: user 84 ms, sys: 56 ms, total: 140 ms\n",
      "Wall time: 140 ms\n"
     ]
    }
   ],
   "source": [
    "%%time\n",
    "\n",
    "if os.path.isfile(INTERIM_DATA_ROOT+\"sample_df.p\"):\n",
    "    sample_df = pickle.load(open(INTERIM_DATA_ROOT+\"sample_df.p\", \"rb\"))\n",
    "else:\n",
    "    random_indices = np.random.choice(docs_df.index.values, int(num_documents/50), replace=False)\n",
    "    sample_df = docs_df.loc[random_indices]\n",
    "    sample_df = sample_df.reset_index().drop(['index'],axis=1)\n",
    "    sample_df['contents'] = sample_df['hash'].map(lambda hash: load_contents(hash))\n",
    "    pickle.dump(sample_df,open(INTERIM_DATA_ROOT+\"sample_df.p\",\"wb\"))"
   ]
  },
  {
   "cell_type": "code",
   "execution_count": 11,
   "metadata": {},
   "outputs": [
    {
     "data": {
      "text/plain": [
       "2874"
      ]
     },
     "execution_count": 11,
     "metadata": {},
     "output_type": "execute_result"
    }
   ],
   "source": [
    "num_documents = len(sample_df)\n",
    "num_documents"
   ]
  },
  {
   "cell_type": "code",
   "execution_count": 12,
   "metadata": {},
   "outputs": [
    {
     "data": {
      "text/html": [
       "<div>\n",
       "<style>\n",
       "    .dataframe thead tr:only-child th {\n",
       "        text-align: right;\n",
       "    }\n",
       "\n",
       "    .dataframe thead th {\n",
       "        text-align: left;\n",
       "    }\n",
       "\n",
       "    .dataframe tbody tr th {\n",
       "        vertical-align: top;\n",
       "    }\n",
       "</style>\n",
       "<table border=\"1\" class=\"dataframe\">\n",
       "  <thead>\n",
       "    <tr style=\"text-align: right;\">\n",
       "      <th></th>\n",
       "      <th>filename</th>\n",
       "      <th>filetype</th>\n",
       "      <th>hash</th>\n",
       "      <th>tags</th>\n",
       "      <th>url</th>\n",
       "      <th>num_users</th>\n",
       "      <th>num_tags</th>\n",
       "      <th>contents</th>\n",
       "    </tr>\n",
       "  </thead>\n",
       "  <tbody>\n",
       "    <tr>\n",
       "      <th>0</th>\n",
       "      <td>37296e86ac599d7fe9aaff17a3037400.html</td>\n",
       "      <td>html</td>\n",
       "      <td>37296e86ac599d7fe9aaff17a3037400</td>\n",
       "      <td>flash,air,adobe,blog,flex,design,webdesign,act...</td>\n",
       "      <td>http://www.webkitchen.be/</td>\n",
       "      <td>65</td>\n",
       "      <td>23</td>\n",
       "      <td>&lt;!DOCTYPE html PUBLIC \"-//W3C//DTD XHTML 1.0 T...</td>\n",
       "    </tr>\n",
       "    <tr>\n",
       "      <th>1</th>\n",
       "      <td>0b294ed63a75b9d264af303f5c5eeea9.html</td>\n",
       "      <td>html</td>\n",
       "      <td>0b294ed63a75b9d264af303f5c5eeea9</td>\n",
       "      <td>french,language,franÃ§ais,resources,education,...</td>\n",
       "      <td>http://www.uni.edu/becker/french31.html</td>\n",
       "      <td>123</td>\n",
       "      <td>21</td>\n",
       "      <td>&lt;HTML&gt;\\n&lt;HEAD&gt;\\n\\n&lt;TITLE&gt;Best French Websites&lt;...</td>\n",
       "    </tr>\n",
       "    <tr>\n",
       "      <th>2</th>\n",
       "      <td>5d7ec003095ae0f3123b2e3da4b3fb95.html</td>\n",
       "      <td>html</td>\n",
       "      <td>5d7ec003095ae0f3123b2e3da4b3fb95</td>\n",
       "      <td>music,mp3,history,free,audio,downloads,songs,d...</td>\n",
       "      <td>http://www.foldedspace.org/weblog/2006/06/in_t...</td>\n",
       "      <td>566</td>\n",
       "      <td>25</td>\n",
       "      <td>&lt;!DOCTYPE html PUBLIC \"-//W3C//DTD XHTML 1.0 T...</td>\n",
       "    </tr>\n",
       "    <tr>\n",
       "      <th>3</th>\n",
       "      <td>8ca4efc75f6399dfe7e4bffbfc0c08d4.html</td>\n",
       "      <td>html</td>\n",
       "      <td>8ca4efc75f6399dfe7e4bffbfc0c08d4</td>\n",
       "      <td>ssh,sftp,security,linux,database,backup,howto,...</td>\n",
       "      <td>http://ask-leo.com/how_can_i_automate_an_sftp_...</td>\n",
       "      <td>21</td>\n",
       "      <td>10</td>\n",
       "      <td>&lt;!DOCTYPE html PUBLIC \"-//W3C//DTD XHTML 1.0 T...</td>\n",
       "    </tr>\n",
       "    <tr>\n",
       "      <th>4</th>\n",
       "      <td>ce9a31b508d0505b0e4cb2bbf4fe3d55.html</td>\n",
       "      <td>html</td>\n",
       "      <td>ce9a31b508d0505b0e4cb2bbf4fe3d55</td>\n",
       "      <td>ajax,rails,tutorial</td>\n",
       "      <td>http://railsonedge.blogspot.com/2008/03/tutori...</td>\n",
       "      <td>7</td>\n",
       "      <td>3</td>\n",
       "      <td>&lt;!DOCTYPE html PUBLIC \"-//W3C//DTD XHTML 1.0 S...</td>\n",
       "    </tr>\n",
       "    <tr>\n",
       "      <th>5</th>\n",
       "      <td>1bcbe8e8838244aca41bfbe69a958f24.html</td>\n",
       "      <td>html</td>\n",
       "      <td>1bcbe8e8838244aca41bfbe69a958f24</td>\n",
       "      <td>silverlight,charts,opensource,chart,.net,free,...</td>\n",
       "      <td>http://www.visifire.com/silverlight_charts_gal...</td>\n",
       "      <td>47</td>\n",
       "      <td>15</td>\n",
       "      <td>&lt;!DOCTYPE html PUBLIC \"-//W3C//DTD XHTML 1.0 T...</td>\n",
       "    </tr>\n",
       "    <tr>\n",
       "      <th>6</th>\n",
       "      <td>8384c9cae634c9dff115a741926e0fc9.html</td>\n",
       "      <td>html</td>\n",
       "      <td>8384c9cae634c9dff115a741926e0fc9</td>\n",
       "      <td>parenting,education,baby,children,learning,lan...</td>\n",
       "      <td>http://www.time.com/time/health/article/0,8599...</td>\n",
       "      <td>121</td>\n",
       "      <td>25</td>\n",
       "      <td>&lt;!--[if IE 5]&gt; Vignette StoryServer 5.0 Fri Ma...</td>\n",
       "    </tr>\n",
       "    <tr>\n",
       "      <th>7</th>\n",
       "      <td>2ad1b840589b35378c8757739a461b1d.html</td>\n",
       "      <td>html</td>\n",
       "      <td>2ad1b840589b35378c8757739a461b1d</td>\n",
       "      <td>language,dictionary,swear,fun,reference,funny,...</td>\n",
       "      <td>http://www.youswear.com/index.asp</td>\n",
       "      <td>18</td>\n",
       "      <td>14</td>\n",
       "      <td></td>\n",
       "    </tr>\n",
       "    <tr>\n",
       "      <th>8</th>\n",
       "      <td>78f632abdab2116c806b8ab81029fce7.html</td>\n",
       "      <td>html</td>\n",
       "      <td>78f632abdab2116c806b8ab81029fce7</td>\n",
       "      <td>history,image,compression,lenna,fun,internet,i...</td>\n",
       "      <td>http://www.cs.cmu.edu/~chuck/lennapg/</td>\n",
       "      <td>58</td>\n",
       "      <td>25</td>\n",
       "      <td>&lt;html&gt;\\n\\n&lt;head&gt;\\n&lt;title&gt;The Rest of the Lenna...</td>\n",
       "    </tr>\n",
       "    <tr>\n",
       "      <th>9</th>\n",
       "      <td>8c1fd30e1547407eab96254252d433d4.html</td>\n",
       "      <td>html</td>\n",
       "      <td>8c1fd30e1547407eab96254252d433d4</td>\n",
       "      <td>science,space,astronomy</td>\n",
       "      <td>http://dvice.com/archives/2008/06/astronomers_...</td>\n",
       "      <td>4</td>\n",
       "      <td>3</td>\n",
       "      <td>&lt;!DOCTYPE html PUBLIC \"-//W3C//DTD XHTML 1.0 T...</td>\n",
       "    </tr>\n",
       "  </tbody>\n",
       "</table>\n",
       "</div>"
      ],
      "text/plain": [
       "                                filename filetype  \\\n",
       "0  37296e86ac599d7fe9aaff17a3037400.html     html   \n",
       "1  0b294ed63a75b9d264af303f5c5eeea9.html     html   \n",
       "2  5d7ec003095ae0f3123b2e3da4b3fb95.html     html   \n",
       "3  8ca4efc75f6399dfe7e4bffbfc0c08d4.html     html   \n",
       "4  ce9a31b508d0505b0e4cb2bbf4fe3d55.html     html   \n",
       "5  1bcbe8e8838244aca41bfbe69a958f24.html     html   \n",
       "6  8384c9cae634c9dff115a741926e0fc9.html     html   \n",
       "7  2ad1b840589b35378c8757739a461b1d.html     html   \n",
       "8  78f632abdab2116c806b8ab81029fce7.html     html   \n",
       "9  8c1fd30e1547407eab96254252d433d4.html     html   \n",
       "\n",
       "                               hash  \\\n",
       "0  37296e86ac599d7fe9aaff17a3037400   \n",
       "1  0b294ed63a75b9d264af303f5c5eeea9   \n",
       "2  5d7ec003095ae0f3123b2e3da4b3fb95   \n",
       "3  8ca4efc75f6399dfe7e4bffbfc0c08d4   \n",
       "4  ce9a31b508d0505b0e4cb2bbf4fe3d55   \n",
       "5  1bcbe8e8838244aca41bfbe69a958f24   \n",
       "6  8384c9cae634c9dff115a741926e0fc9   \n",
       "7  2ad1b840589b35378c8757739a461b1d   \n",
       "8  78f632abdab2116c806b8ab81029fce7   \n",
       "9  8c1fd30e1547407eab96254252d433d4   \n",
       "\n",
       "                                                tags  \\\n",
       "0  flash,air,adobe,blog,flex,design,webdesign,act...   \n",
       "1  french,language,franÃ§ais,resources,education,...   \n",
       "2  music,mp3,history,free,audio,downloads,songs,d...   \n",
       "3  ssh,sftp,security,linux,database,backup,howto,...   \n",
       "4                                ajax,rails,tutorial   \n",
       "5  silverlight,charts,opensource,chart,.net,free,...   \n",
       "6  parenting,education,baby,children,learning,lan...   \n",
       "7  language,dictionary,swear,fun,reference,funny,...   \n",
       "8  history,image,compression,lenna,fun,internet,i...   \n",
       "9                            science,space,astronomy   \n",
       "\n",
       "                                                 url  num_users  num_tags  \\\n",
       "0                          http://www.webkitchen.be/         65        23   \n",
       "1            http://www.uni.edu/becker/french31.html        123        21   \n",
       "2  http://www.foldedspace.org/weblog/2006/06/in_t...        566        25   \n",
       "3  http://ask-leo.com/how_can_i_automate_an_sftp_...         21        10   \n",
       "4  http://railsonedge.blogspot.com/2008/03/tutori...          7         3   \n",
       "5  http://www.visifire.com/silverlight_charts_gal...         47        15   \n",
       "6  http://www.time.com/time/health/article/0,8599...        121        25   \n",
       "7                  http://www.youswear.com/index.asp         18        14   \n",
       "8              http://www.cs.cmu.edu/~chuck/lennapg/         58        25   \n",
       "9  http://dvice.com/archives/2008/06/astronomers_...          4         3   \n",
       "\n",
       "                                            contents  \n",
       "0  <!DOCTYPE html PUBLIC \"-//W3C//DTD XHTML 1.0 T...  \n",
       "1  <HTML>\\n<HEAD>\\n\\n<TITLE>Best French Websites<...  \n",
       "2  <!DOCTYPE html PUBLIC \"-//W3C//DTD XHTML 1.0 T...  \n",
       "3  <!DOCTYPE html PUBLIC \"-//W3C//DTD XHTML 1.0 T...  \n",
       "4  <!DOCTYPE html PUBLIC \"-//W3C//DTD XHTML 1.0 S...  \n",
       "5  <!DOCTYPE html PUBLIC \"-//W3C//DTD XHTML 1.0 T...  \n",
       "6  <!--[if IE 5]> Vignette StoryServer 5.0 Fri Ma...  \n",
       "7                                                     \n",
       "8  <html>\\n\\n<head>\\n<title>The Rest of the Lenna...  \n",
       "9  <!DOCTYPE html PUBLIC \"-//W3C//DTD XHTML 1.0 T...  "
      ]
     },
     "execution_count": 12,
     "metadata": {},
     "output_type": "execute_result"
    }
   ],
   "source": [
    "sample_df.head(10)"
   ]
  },
  {
   "cell_type": "code",
   "execution_count": 13,
   "metadata": {
    "collapsed": true
   },
   "outputs": [],
   "source": [
    "tag_sets = sample_df[\"tags\"].values\n",
    "\n",
    "all_tags = set()\n",
    "\n",
    "for tag_set in tag_sets:\n",
    "    for tag in tag_set.split(','):\n",
    "        all_tags.add(tag)"
   ]
  },
  {
   "cell_type": "code",
   "execution_count": 14,
   "metadata": {},
   "outputs": [
    {
     "data": {
      "text/plain": [
       "7201"
      ]
     },
     "execution_count": 14,
     "metadata": {},
     "output_type": "execute_result"
    }
   ],
   "source": [
    "len(all_tags)"
   ]
  },
  {
   "cell_type": "code",
   "execution_count": 15,
   "metadata": {},
   "outputs": [
    {
     "data": {
      "text/plain": [
       "28"
      ]
     },
     "execution_count": 15,
     "metadata": {},
     "output_type": "execute_result"
    }
   ],
   "source": [
    "min_nb_docs = int(len(sample_df)* LABELS_MIN_DOC_FRACTION)\n",
    "min_nb_docs"
   ]
  },
  {
   "cell_type": "code",
   "execution_count": 16,
   "metadata": {
    "collapsed": true
   },
   "outputs": [],
   "source": [
    "sample_df[\"tags_split\"] = sample_df[\"tags\"].map(lambda tagstring: tagstring.split(\",\"))\n",
    "labels = sample_df[\"tags_split\"].values"
   ]
  },
  {
   "cell_type": "code",
   "execution_count": 17,
   "metadata": {
    "collapsed": true
   },
   "outputs": [],
   "source": [
    "truncated_labels = truncate_labels(labels,min_nb_docs)"
   ]
  },
  {
   "cell_type": "code",
   "execution_count": 18,
   "metadata": {
    "collapsed": true
   },
   "outputs": [],
   "source": [
    "mlb = MultiLabelBinarizer()\n",
    "binary_label_data = mlb.fit_transform(truncated_labels)"
   ]
  },
  {
   "cell_type": "code",
   "execution_count": 19,
   "metadata": {},
   "outputs": [
    {
     "data": {
      "text/plain": [
       "(2874, 242)"
      ]
     },
     "execution_count": 19,
     "metadata": {},
     "output_type": "execute_result"
    }
   ],
   "source": [
    "binary_label_data.shape"
   ]
  },
  {
   "cell_type": "code",
   "execution_count": 20,
   "metadata": {
    "collapsed": true
   },
   "outputs": [],
   "source": [
    "data = sample_df[\"contents\"].values"
   ]
  },
  {
   "cell_type": "code",
   "execution_count": 21,
   "metadata": {},
   "outputs": [
    {
     "data": {
      "text/plain": [
       "'<!DOCTYPE html PUBLIC \"-//W3C//DTD XHTML 1.0 Transitional//EN\"\\n\"http://www.w3.org/TR/xhtml1/DTD/xhtml1-transitional.dtd\">\\n<html xmlns=\"http://www.w3.org/1999/xhtml\">\\n<head profile=\"http://gmpg.org/xfn/11\">\\n<title>Serge Jespers</title>\\n<link rel=\"shortcut icon\" href=\"/favicon.ico\" type=\"image/x-icon\" />\\n<meta http-equiv=\"Content-Type\" content=\"text/html; charset=ISO-8859-1\" />\\n<meta http-equiv=\"pragma\" content=\"no-cache\" />\\n<meta http-equiv=\"cache-control\" content=\"no-cache\" />\\n<link rel=\"stylesheet\" type=\"text/css\" href=\"http://www.webkitchen.be/wp-content/themes/smashingtheme/style.css\" />\\n<script type=\"text/javascript\" src=\"http://www.webkitchen.be/wp-content/themes/smashingtheme/javascript/imghover.js\"> </script>\\n<link rel=\"alternate\" type=\"application/rss+xml\" title=\"RSS 2.0\" href=\"http://www.webkitchen.be/feed/\" />\\n<link rel=\"alternate\" type=\"text/xml\" title=\"RSS .92\" href=\"http://www.webkitchen.be/feed/rss/\" />\\n<link rel=\"alternate\" type=\"application/atom+xml\" title=\"Atom 0.3\" hr'"
      ]
     },
     "execution_count": 21,
     "metadata": {},
     "output_type": "execute_result"
    }
   ],
   "source": [
    "data[0][:1000]"
   ]
  },
  {
   "cell_type": "code",
   "execution_count": 22,
   "metadata": {
    "collapsed": true
   },
   "outputs": [],
   "source": [
    "pipeline = Pipeline([\n",
    "    ('vect', CountVectorizer(preprocessor=clean_text_delicious, max_features=MAX_NB_WORDS)),\n",
    "    ('tf',TfidfTransformer()),\n",
    "    ('lda',LatentDirichletAllocation()),\n",
    "    ('norm',Normalizer()),\n",
    "    ('clf', OneVsRestClassifier(SVC(),n_jobs=-1)),\n",
    "])"
   ]
  },
  {
   "cell_type": "code",
   "execution_count": 25,
   "metadata": {
    "collapsed": true
   },
   "outputs": [],
   "source": [
    "# use later\n",
    "parameters = [\n",
    "    {\n",
    "        \"tf__use_idf\":[False],\n",
    "        \"tf__norm\":['l1','l2',None],\n",
    "        \"lda__n_components\":[2,5,10,20],\n",
    "        \"lda__max_iter\":[5,10],\n",
    "        \"lda__learning_method\":[\"online\"],\n",
    "        \"norm__norm\":[\"l2\"],\n",
    "        \"clf__estimator__C\":[1,10,100,100],\n",
    "        \"clf__estimator__gamma\":[0.1,0.01,0.001],\n",
    "        \"clf__estimator__kernel\": [\"rbf\"]\n",
    "    },\n",
    "    {\n",
    "        \"tf__use_idf\":[False],\n",
    "        \"tf__norm\":['l1','l2',None],\n",
    "        \"lda__n_components\":[2,5,10,20],\n",
    "        \"lda__max_iter\":[5,10],\n",
    "        \"lda__learning_method\":[\"online\"],\n",
    "        \"norm__norm\":[\"l2\"],\n",
    "        \"clf__estimator__C\":[1,10,100,100],\n",
    "        \"clf__estimator__kernel\": [\"linear\"]\n",
    "    },    \n",
    "]"
   ]
  },
  {
   "cell_type": "code",
   "execution_count": 26,
   "metadata": {},
   "outputs": [
    {
     "name": "stdout",
     "output_type": "stream",
     "text": [
      "CPU times: user 0 ns, sys: 0 ns, total: 0 ns\n",
      "Wall time: 5.01 µs\n"
     ]
    },
    {
     "name": "stderr",
     "output_type": "stream",
     "text": [
      "/home/felipe/tf-venv3/lib/python3.5/site-packages/sklearn/metrics/classification.py:1135: UndefinedMetricWarning: F-score is ill-defined and being set to 0.0 due to no predicted samples.\n",
      "  'precision', 'predicted', average, warn_for)\n"
     ]
    },
    {
     "name": "stdout",
     "output_type": "stream",
     "text": [
      "training F1: 0.0\n",
      "validation F1: 0.0\n",
      "grid: {'norm__norm': 'l2', 'clf__estimator__gamma': 0.1, 'tf__use_idf': False, 'lda__learning_method': 'online', 'lda__n_components': 2, 'clf__estimator__kernel': 'rbf', 'lda__max_iter': 5, 'tf__norm': 'l1', 'clf__estimator__C': 1}\n",
      "\n"
     ]
    },
    {
     "name": "stderr",
     "output_type": "stream",
     "text": [
      "/home/felipe/tf-venv3/lib/python3.5/site-packages/sklearn/metrics/classification.py:1135: UndefinedMetricWarning: F-score is ill-defined and being set to 0.0 due to no predicted samples.\n",
      "  'precision', 'predicted', average, warn_for)\n"
     ]
    },
    {
     "name": "stdout",
     "output_type": "stream",
     "text": [
      "training F1: 0.0\n",
      "validation F1: 0.0\n",
      "grid: {'norm__norm': 'l2', 'clf__estimator__gamma': 0.1, 'tf__use_idf': False, 'lda__learning_method': 'online', 'lda__n_components': 2, 'clf__estimator__kernel': 'rbf', 'lda__max_iter': 5, 'tf__norm': 'l2', 'clf__estimator__C': 1}\n",
      "\n"
     ]
    },
    {
     "name": "stderr",
     "output_type": "stream",
     "text": [
      "/home/felipe/tf-venv3/lib/python3.5/site-packages/sklearn/metrics/classification.py:1135: UndefinedMetricWarning: F-score is ill-defined and being set to 0.0 due to no predicted samples.\n",
      "  'precision', 'predicted', average, warn_for)\n"
     ]
    },
    {
     "name": "stdout",
     "output_type": "stream",
     "text": [
      "training F1: 0.0\n",
      "validation F1: 0.0\n",
      "grid: {'norm__norm': 'l2', 'clf__estimator__gamma': 0.1, 'tf__use_idf': False, 'lda__learning_method': 'online', 'lda__n_components': 2, 'clf__estimator__kernel': 'rbf', 'lda__max_iter': 5, 'tf__norm': None, 'clf__estimator__C': 1}\n",
      "\n"
     ]
    },
    {
     "name": "stderr",
     "output_type": "stream",
     "text": [
      "/home/felipe/tf-venv3/lib/python3.5/site-packages/sklearn/metrics/classification.py:1135: UndefinedMetricWarning: F-score is ill-defined and being set to 0.0 due to no predicted samples.\n",
      "  'precision', 'predicted', average, warn_for)\n"
     ]
    },
    {
     "name": "stdout",
     "output_type": "stream",
     "text": [
      "training F1: 0.0\n",
      "validation F1: 0.0\n",
      "grid: {'norm__norm': 'l2', 'clf__estimator__gamma': 0.1, 'tf__use_idf': False, 'lda__learning_method': 'online', 'lda__n_components': 5, 'clf__estimator__kernel': 'rbf', 'lda__max_iter': 5, 'tf__norm': 'l1', 'clf__estimator__C': 1}\n",
      "\n"
     ]
    },
    {
     "name": "stderr",
     "output_type": "stream",
     "text": [
      "/home/felipe/tf-venv3/lib/python3.5/site-packages/sklearn/metrics/classification.py:1135: UndefinedMetricWarning: F-score is ill-defined and being set to 0.0 due to no predicted samples.\n",
      "  'precision', 'predicted', average, warn_for)\n"
     ]
    },
    {
     "name": "stdout",
     "output_type": "stream",
     "text": [
      "training F1: 0.0\n",
      "validation F1: 0.0\n",
      "grid: {'norm__norm': 'l2', 'clf__estimator__gamma': 0.1, 'tf__use_idf': False, 'lda__learning_method': 'online', 'lda__n_components': 5, 'clf__estimator__kernel': 'rbf', 'lda__max_iter': 5, 'tf__norm': 'l2', 'clf__estimator__C': 1}\n",
      "\n"
     ]
    },
    {
     "name": "stderr",
     "output_type": "stream",
     "text": [
      "/home/felipe/tf-venv3/lib/python3.5/site-packages/sklearn/metrics/classification.py:1135: UndefinedMetricWarning: F-score is ill-defined and being set to 0.0 due to no predicted samples.\n",
      "  'precision', 'predicted', average, warn_for)\n"
     ]
    },
    {
     "name": "stdout",
     "output_type": "stream",
     "text": [
      "training F1: 0.0\n",
      "validation F1: 0.0\n",
      "grid: {'norm__norm': 'l2', 'clf__estimator__gamma': 0.1, 'tf__use_idf': False, 'lda__learning_method': 'online', 'lda__n_components': 5, 'clf__estimator__kernel': 'rbf', 'lda__max_iter': 5, 'tf__norm': None, 'clf__estimator__C': 1}\n",
      "\n"
     ]
    },
    {
     "name": "stderr",
     "output_type": "stream",
     "text": [
      "/home/felipe/tf-venv3/lib/python3.5/site-packages/sklearn/metrics/classification.py:1135: UndefinedMetricWarning: F-score is ill-defined and being set to 0.0 due to no predicted samples.\n",
      "  'precision', 'predicted', average, warn_for)\n"
     ]
    },
    {
     "name": "stdout",
     "output_type": "stream",
     "text": [
      "training F1: 0.0\n",
      "validation F1: 0.0\n",
      "grid: {'norm__norm': 'l2', 'clf__estimator__gamma': 0.1, 'tf__use_idf': False, 'lda__learning_method': 'online', 'lda__n_components': 10, 'clf__estimator__kernel': 'rbf', 'lda__max_iter': 5, 'tf__norm': 'l1', 'clf__estimator__C': 1}\n",
      "\n"
     ]
    },
    {
     "name": "stderr",
     "output_type": "stream",
     "text": [
      "/home/felipe/tf-venv3/lib/python3.5/site-packages/sklearn/metrics/classification.py:1135: UndefinedMetricWarning: F-score is ill-defined and being set to 0.0 due to no predicted samples.\n",
      "  'precision', 'predicted', average, warn_for)\n"
     ]
    },
    {
     "name": "stdout",
     "output_type": "stream",
     "text": [
      "training F1: 0.0\n",
      "validation F1: 0.0\n",
      "grid: {'norm__norm': 'l2', 'clf__estimator__gamma': 0.1, 'tf__use_idf': False, 'lda__learning_method': 'online', 'lda__n_components': 10, 'clf__estimator__kernel': 'rbf', 'lda__max_iter': 5, 'tf__norm': 'l2', 'clf__estimator__C': 1}\n",
      "\n",
      "training F1: 0.0036185362437259247\n",
      "validation F1: 0.0040650406504065045\n",
      "grid: {'norm__norm': 'l2', 'clf__estimator__gamma': 0.1, 'tf__use_idf': False, 'lda__learning_method': 'online', 'lda__n_components': 10, 'clf__estimator__kernel': 'rbf', 'lda__max_iter': 5, 'tf__norm': None, 'clf__estimator__C': 1}\n",
      "\n"
     ]
    },
    {
     "name": "stderr",
     "output_type": "stream",
     "text": [
      "/home/felipe/tf-venv3/lib/python3.5/site-packages/sklearn/metrics/classification.py:1135: UndefinedMetricWarning: F-score is ill-defined and being set to 0.0 due to no predicted samples.\n",
      "  'precision', 'predicted', average, warn_for)\n"
     ]
    },
    {
     "name": "stdout",
     "output_type": "stream",
     "text": [
      "training F1: 0.0\n",
      "validation F1: 0.0\n",
      "grid: {'norm__norm': 'l2', 'clf__estimator__gamma': 0.1, 'tf__use_idf': False, 'lda__learning_method': 'online', 'lda__n_components': 20, 'clf__estimator__kernel': 'rbf', 'lda__max_iter': 5, 'tf__norm': 'l1', 'clf__estimator__C': 1}\n",
      "\n",
      "training F1: 0.003205508726107088\n",
      "validation F1: 0.0028109627547434997\n",
      "grid: {'norm__norm': 'l2', 'clf__estimator__gamma': 0.1, 'tf__use_idf': False, 'lda__learning_method': 'online', 'lda__n_components': 20, 'clf__estimator__kernel': 'rbf', 'lda__max_iter': 5, 'tf__norm': 'l2', 'clf__estimator__C': 1}\n",
      "\n",
      "training F1: 0.0038951841359773373\n",
      "validation F1: 0.003926467963590934\n",
      "grid: {'norm__norm': 'l2', 'clf__estimator__gamma': 0.1, 'tf__use_idf': False, 'lda__learning_method': 'online', 'lda__n_components': 20, 'clf__estimator__kernel': 'rbf', 'lda__max_iter': 5, 'tf__norm': None, 'clf__estimator__C': 1}\n",
      "\n"
     ]
    },
    {
     "name": "stderr",
     "output_type": "stream",
     "text": [
      "/home/felipe/tf-venv3/lib/python3.5/site-packages/sklearn/metrics/classification.py:1135: UndefinedMetricWarning: F-score is ill-defined and being set to 0.0 due to no predicted samples.\n",
      "  'precision', 'predicted', average, warn_for)\n"
     ]
    },
    {
     "name": "stdout",
     "output_type": "stream",
     "text": [
      "training F1: 0.0\n",
      "validation F1: 0.0\n",
      "grid: {'norm__norm': 'l2', 'clf__estimator__gamma': 0.1, 'tf__use_idf': False, 'lda__learning_method': 'online', 'lda__n_components': 2, 'clf__estimator__kernel': 'rbf', 'lda__max_iter': 10, 'tf__norm': 'l1', 'clf__estimator__C': 1}\n",
      "\n"
     ]
    },
    {
     "name": "stderr",
     "output_type": "stream",
     "text": [
      "/home/felipe/tf-venv3/lib/python3.5/site-packages/sklearn/metrics/classification.py:1135: UndefinedMetricWarning: F-score is ill-defined and being set to 0.0 due to no predicted samples.\n",
      "  'precision', 'predicted', average, warn_for)\n"
     ]
    },
    {
     "name": "stdout",
     "output_type": "stream",
     "text": [
      "training F1: 0.0\n",
      "validation F1: 0.0\n",
      "grid: {'norm__norm': 'l2', 'clf__estimator__gamma': 0.1, 'tf__use_idf': False, 'lda__learning_method': 'online', 'lda__n_components': 2, 'clf__estimator__kernel': 'rbf', 'lda__max_iter': 10, 'tf__norm': 'l2', 'clf__estimator__C': 1}\n",
      "\n"
     ]
    },
    {
     "name": "stderr",
     "output_type": "stream",
     "text": [
      "/home/felipe/tf-venv3/lib/python3.5/site-packages/sklearn/metrics/classification.py:1135: UndefinedMetricWarning: F-score is ill-defined and being set to 0.0 due to no predicted samples.\n",
      "  'precision', 'predicted', average, warn_for)\n"
     ]
    },
    {
     "name": "stdout",
     "output_type": "stream",
     "text": [
      "training F1: 0.0\n",
      "validation F1: 0.0\n",
      "grid: {'norm__norm': 'l2', 'clf__estimator__gamma': 0.1, 'tf__use_idf': False, 'lda__learning_method': 'online', 'lda__n_components': 2, 'clf__estimator__kernel': 'rbf', 'lda__max_iter': 10, 'tf__norm': None, 'clf__estimator__C': 1}\n",
      "\n"
     ]
    },
    {
     "name": "stderr",
     "output_type": "stream",
     "text": [
      "/home/felipe/tf-venv3/lib/python3.5/site-packages/sklearn/metrics/classification.py:1135: UndefinedMetricWarning: F-score is ill-defined and being set to 0.0 due to no predicted samples.\n",
      "  'precision', 'predicted', average, warn_for)\n"
     ]
    },
    {
     "name": "stdout",
     "output_type": "stream",
     "text": [
      "training F1: 0.0\n",
      "validation F1: 0.0\n",
      "grid: {'norm__norm': 'l2', 'clf__estimator__gamma': 0.1, 'tf__use_idf': False, 'lda__learning_method': 'online', 'lda__n_components': 5, 'clf__estimator__kernel': 'rbf', 'lda__max_iter': 10, 'tf__norm': 'l1', 'clf__estimator__C': 1}\n",
      "\n"
     ]
    },
    {
     "name": "stderr",
     "output_type": "stream",
     "text": [
      "/home/felipe/tf-venv3/lib/python3.5/site-packages/sklearn/metrics/classification.py:1135: UndefinedMetricWarning: F-score is ill-defined and being set to 0.0 due to no predicted samples.\n",
      "  'precision', 'predicted', average, warn_for)\n"
     ]
    },
    {
     "name": "stdout",
     "output_type": "stream",
     "text": [
      "training F1: 0.0\n",
      "validation F1: 0.0\n",
      "grid: {'norm__norm': 'l2', 'clf__estimator__gamma': 0.1, 'tf__use_idf': False, 'lda__learning_method': 'online', 'lda__n_components': 5, 'clf__estimator__kernel': 'rbf', 'lda__max_iter': 10, 'tf__norm': 'l2', 'clf__estimator__C': 1}\n",
      "\n"
     ]
    },
    {
     "name": "stderr",
     "output_type": "stream",
     "text": [
      "/home/felipe/tf-venv3/lib/python3.5/site-packages/sklearn/metrics/classification.py:1135: UndefinedMetricWarning: F-score is ill-defined and being set to 0.0 due to no predicted samples.\n",
      "  'precision', 'predicted', average, warn_for)\n"
     ]
    },
    {
     "name": "stdout",
     "output_type": "stream",
     "text": [
      "training F1: 0.0\n",
      "validation F1: 0.0\n",
      "grid: {'norm__norm': 'l2', 'clf__estimator__gamma': 0.1, 'tf__use_idf': False, 'lda__learning_method': 'online', 'lda__n_components': 5, 'clf__estimator__kernel': 'rbf', 'lda__max_iter': 10, 'tf__norm': None, 'clf__estimator__C': 1}\n",
      "\n"
     ]
    },
    {
     "name": "stderr",
     "output_type": "stream",
     "text": [
      "/home/felipe/tf-venv3/lib/python3.5/site-packages/sklearn/metrics/classification.py:1135: UndefinedMetricWarning: F-score is ill-defined and being set to 0.0 due to no predicted samples.\n",
      "  'precision', 'predicted', average, warn_for)\n"
     ]
    },
    {
     "name": "stdout",
     "output_type": "stream",
     "text": [
      "training F1: 0.0\n",
      "validation F1: 0.0\n",
      "grid: {'norm__norm': 'l2', 'clf__estimator__gamma': 0.1, 'tf__use_idf': False, 'lda__learning_method': 'online', 'lda__n_components': 10, 'clf__estimator__kernel': 'rbf', 'lda__max_iter': 10, 'tf__norm': 'l1', 'clf__estimator__C': 1}\n",
      "\n"
     ]
    },
    {
     "name": "stderr",
     "output_type": "stream",
     "text": [
      "/home/felipe/tf-venv3/lib/python3.5/site-packages/sklearn/metrics/classification.py:1135: UndefinedMetricWarning: F-score is ill-defined and being set to 0.0 due to no predicted samples.\n",
      "  'precision', 'predicted', average, warn_for)\n"
     ]
    },
    {
     "name": "stdout",
     "output_type": "stream",
     "text": [
      "training F1: 0.0\n",
      "validation F1: 0.0\n",
      "grid: {'norm__norm': 'l2', 'clf__estimator__gamma': 0.1, 'tf__use_idf': False, 'lda__learning_method': 'online', 'lda__n_components': 10, 'clf__estimator__kernel': 'rbf', 'lda__max_iter': 10, 'tf__norm': 'l2', 'clf__estimator__C': 1}\n",
      "\n",
      "training F1: 0.004000706006942402\n",
      "validation F1: 0.003962536023054755\n",
      "grid: {'norm__norm': 'l2', 'clf__estimator__gamma': 0.1, 'tf__use_idf': False, 'lda__learning_method': 'online', 'lda__n_components': 10, 'clf__estimator__kernel': 'rbf', 'lda__max_iter': 10, 'tf__norm': None, 'clf__estimator__C': 1}\n",
      "\n"
     ]
    },
    {
     "name": "stderr",
     "output_type": "stream",
     "text": [
      "/home/felipe/tf-venv3/lib/python3.5/site-packages/sklearn/metrics/classification.py:1135: UndefinedMetricWarning: F-score is ill-defined and being set to 0.0 due to no predicted samples.\n",
      "  'precision', 'predicted', average, warn_for)\n"
     ]
    },
    {
     "name": "stdout",
     "output_type": "stream",
     "text": [
      "training F1: 0.0\n",
      "validation F1: 0.0\n",
      "grid: {'norm__norm': 'l2', 'clf__estimator__gamma': 0.1, 'tf__use_idf': False, 'lda__learning_method': 'online', 'lda__n_components': 20, 'clf__estimator__kernel': 'rbf', 'lda__max_iter': 10, 'tf__norm': 'l1', 'clf__estimator__C': 1}\n",
      "\n"
     ]
    },
    {
     "name": "stderr",
     "output_type": "stream",
     "text": [
      "/home/felipe/tf-venv3/lib/python3.5/site-packages/sklearn/metrics/classification.py:1135: UndefinedMetricWarning: F-score is ill-defined and being set to 0.0 due to no predicted samples.\n",
      "  'precision', 'predicted', average, warn_for)\n"
     ]
    },
    {
     "name": "stdout",
     "output_type": "stream",
     "text": [
      "training F1: 0.0\n",
      "validation F1: 0.0\n",
      "grid: {'norm__norm': 'l2', 'clf__estimator__gamma': 0.1, 'tf__use_idf': False, 'lda__learning_method': 'online', 'lda__n_components': 20, 'clf__estimator__kernel': 'rbf', 'lda__max_iter': 10, 'tf__norm': 'l2', 'clf__estimator__C': 1}\n",
      "\n",
      "training F1: 0.003432155748860879\n",
      "validation F1: 0.0017806267806267807\n",
      "grid: {'norm__norm': 'l2', 'clf__estimator__gamma': 0.1, 'tf__use_idf': False, 'lda__learning_method': 'online', 'lda__n_components': 20, 'clf__estimator__kernel': 'rbf', 'lda__max_iter': 10, 'tf__norm': None, 'clf__estimator__C': 1}\n",
      "\n"
     ]
    },
    {
     "name": "stderr",
     "output_type": "stream",
     "text": [
      "/home/felipe/tf-venv3/lib/python3.5/site-packages/sklearn/metrics/classification.py:1135: UndefinedMetricWarning: F-score is ill-defined and being set to 0.0 due to no predicted samples.\n",
      "  'precision', 'predicted', average, warn_for)\n"
     ]
    },
    {
     "name": "stdout",
     "output_type": "stream",
     "text": [
      "training F1: 0.0\n",
      "validation F1: 0.0\n",
      "grid: {'norm__norm': 'l2', 'clf__estimator__gamma': 0.01, 'tf__use_idf': False, 'lda__learning_method': 'online', 'lda__n_components': 2, 'clf__estimator__kernel': 'rbf', 'lda__max_iter': 5, 'tf__norm': 'l1', 'clf__estimator__C': 1}\n",
      "\n"
     ]
    },
    {
     "name": "stderr",
     "output_type": "stream",
     "text": [
      "/home/felipe/tf-venv3/lib/python3.5/site-packages/sklearn/metrics/classification.py:1135: UndefinedMetricWarning: F-score is ill-defined and being set to 0.0 due to no predicted samples.\n",
      "  'precision', 'predicted', average, warn_for)\n"
     ]
    },
    {
     "name": "stdout",
     "output_type": "stream",
     "text": [
      "training F1: 0.0\n",
      "validation F1: 0.0\n",
      "grid: {'norm__norm': 'l2', 'clf__estimator__gamma': 0.01, 'tf__use_idf': False, 'lda__learning_method': 'online', 'lda__n_components': 2, 'clf__estimator__kernel': 'rbf', 'lda__max_iter': 5, 'tf__norm': 'l2', 'clf__estimator__C': 1}\n",
      "\n"
     ]
    },
    {
     "name": "stderr",
     "output_type": "stream",
     "text": [
      "/home/felipe/tf-venv3/lib/python3.5/site-packages/sklearn/metrics/classification.py:1135: UndefinedMetricWarning: F-score is ill-defined and being set to 0.0 due to no predicted samples.\n",
      "  'precision', 'predicted', average, warn_for)\n"
     ]
    },
    {
     "name": "stdout",
     "output_type": "stream",
     "text": [
      "training F1: 0.0\n",
      "validation F1: 0.0\n",
      "grid: {'norm__norm': 'l2', 'clf__estimator__gamma': 0.01, 'tf__use_idf': False, 'lda__learning_method': 'online', 'lda__n_components': 2, 'clf__estimator__kernel': 'rbf', 'lda__max_iter': 5, 'tf__norm': None, 'clf__estimator__C': 1}\n",
      "\n"
     ]
    },
    {
     "name": "stderr",
     "output_type": "stream",
     "text": [
      "/home/felipe/tf-venv3/lib/python3.5/site-packages/sklearn/metrics/classification.py:1135: UndefinedMetricWarning: F-score is ill-defined and being set to 0.0 due to no predicted samples.\n",
      "  'precision', 'predicted', average, warn_for)\n"
     ]
    },
    {
     "name": "stdout",
     "output_type": "stream",
     "text": [
      "training F1: 0.0\n",
      "validation F1: 0.0\n",
      "grid: {'norm__norm': 'l2', 'clf__estimator__gamma': 0.01, 'tf__use_idf': False, 'lda__learning_method': 'online', 'lda__n_components': 5, 'clf__estimator__kernel': 'rbf', 'lda__max_iter': 5, 'tf__norm': 'l1', 'clf__estimator__C': 1}\n",
      "\n"
     ]
    },
    {
     "name": "stderr",
     "output_type": "stream",
     "text": [
      "/home/felipe/tf-venv3/lib/python3.5/site-packages/sklearn/metrics/classification.py:1135: UndefinedMetricWarning: F-score is ill-defined and being set to 0.0 due to no predicted samples.\n",
      "  'precision', 'predicted', average, warn_for)\n"
     ]
    },
    {
     "name": "stdout",
     "output_type": "stream",
     "text": [
      "training F1: 0.0\n",
      "validation F1: 0.0\n",
      "grid: {'norm__norm': 'l2', 'clf__estimator__gamma': 0.01, 'tf__use_idf': False, 'lda__learning_method': 'online', 'lda__n_components': 5, 'clf__estimator__kernel': 'rbf', 'lda__max_iter': 5, 'tf__norm': 'l2', 'clf__estimator__C': 1}\n",
      "\n"
     ]
    },
    {
     "name": "stderr",
     "output_type": "stream",
     "text": [
      "/home/felipe/tf-venv3/lib/python3.5/site-packages/sklearn/metrics/classification.py:1135: UndefinedMetricWarning: F-score is ill-defined and being set to 0.0 due to no predicted samples.\n",
      "  'precision', 'predicted', average, warn_for)\n"
     ]
    },
    {
     "name": "stdout",
     "output_type": "stream",
     "text": [
      "training F1: 0.0\n",
      "validation F1: 0.0\n",
      "grid: {'norm__norm': 'l2', 'clf__estimator__gamma': 0.01, 'tf__use_idf': False, 'lda__learning_method': 'online', 'lda__n_components': 5, 'clf__estimator__kernel': 'rbf', 'lda__max_iter': 5, 'tf__norm': None, 'clf__estimator__C': 1}\n",
      "\n"
     ]
    },
    {
     "name": "stderr",
     "output_type": "stream",
     "text": [
      "/home/felipe/tf-venv3/lib/python3.5/site-packages/sklearn/metrics/classification.py:1135: UndefinedMetricWarning: F-score is ill-defined and being set to 0.0 due to no predicted samples.\n",
      "  'precision', 'predicted', average, warn_for)\n"
     ]
    },
    {
     "name": "stdout",
     "output_type": "stream",
     "text": [
      "training F1: 0.0\n",
      "validation F1: 0.0\n",
      "grid: {'norm__norm': 'l2', 'clf__estimator__gamma': 0.01, 'tf__use_idf': False, 'lda__learning_method': 'online', 'lda__n_components': 10, 'clf__estimator__kernel': 'rbf', 'lda__max_iter': 5, 'tf__norm': 'l1', 'clf__estimator__C': 1}\n",
      "\n"
     ]
    },
    {
     "name": "stderr",
     "output_type": "stream",
     "text": [
      "/home/felipe/tf-venv3/lib/python3.5/site-packages/sklearn/metrics/classification.py:1135: UndefinedMetricWarning: F-score is ill-defined and being set to 0.0 due to no predicted samples.\n",
      "  'precision', 'predicted', average, warn_for)\n"
     ]
    },
    {
     "name": "stdout",
     "output_type": "stream",
     "text": [
      "training F1: 0.0\n",
      "validation F1: 0.0\n",
      "grid: {'norm__norm': 'l2', 'clf__estimator__gamma': 0.01, 'tf__use_idf': False, 'lda__learning_method': 'online', 'lda__n_components': 10, 'clf__estimator__kernel': 'rbf', 'lda__max_iter': 5, 'tf__norm': 'l2', 'clf__estimator__C': 1}\n",
      "\n"
     ]
    },
    {
     "name": "stderr",
     "output_type": "stream",
     "text": [
      "/home/felipe/tf-venv3/lib/python3.5/site-packages/sklearn/metrics/classification.py:1135: UndefinedMetricWarning: F-score is ill-defined and being set to 0.0 due to no predicted samples.\n",
      "  'precision', 'predicted', average, warn_for)\n"
     ]
    },
    {
     "name": "stdout",
     "output_type": "stream",
     "text": [
      "training F1: 0.0\n",
      "validation F1: 0.0\n",
      "grid: {'norm__norm': 'l2', 'clf__estimator__gamma': 0.01, 'tf__use_idf': False, 'lda__learning_method': 'online', 'lda__n_components': 10, 'clf__estimator__kernel': 'rbf', 'lda__max_iter': 5, 'tf__norm': None, 'clf__estimator__C': 1}\n",
      "\n"
     ]
    },
    {
     "name": "stderr",
     "output_type": "stream",
     "text": [
      "/home/felipe/tf-venv3/lib/python3.5/site-packages/sklearn/metrics/classification.py:1135: UndefinedMetricWarning: F-score is ill-defined and being set to 0.0 due to no predicted samples.\n",
      "  'precision', 'predicted', average, warn_for)\n"
     ]
    },
    {
     "name": "stdout",
     "output_type": "stream",
     "text": [
      "training F1: 0.0\n",
      "validation F1: 0.0\n",
      "grid: {'norm__norm': 'l2', 'clf__estimator__gamma': 0.01, 'tf__use_idf': False, 'lda__learning_method': 'online', 'lda__n_components': 20, 'clf__estimator__kernel': 'rbf', 'lda__max_iter': 5, 'tf__norm': 'l1', 'clf__estimator__C': 1}\n",
      "\n"
     ]
    },
    {
     "name": "stderr",
     "output_type": "stream",
     "text": [
      "/home/felipe/tf-venv3/lib/python3.5/site-packages/sklearn/metrics/classification.py:1135: UndefinedMetricWarning: F-score is ill-defined and being set to 0.0 due to no predicted samples.\n",
      "  'precision', 'predicted', average, warn_for)\n"
     ]
    },
    {
     "name": "stdout",
     "output_type": "stream",
     "text": [
      "training F1: 0.0\n",
      "validation F1: 0.0\n",
      "grid: {'norm__norm': 'l2', 'clf__estimator__gamma': 0.01, 'tf__use_idf': False, 'lda__learning_method': 'online', 'lda__n_components': 20, 'clf__estimator__kernel': 'rbf', 'lda__max_iter': 5, 'tf__norm': 'l2', 'clf__estimator__C': 1}\n",
      "\n"
     ]
    },
    {
     "name": "stderr",
     "output_type": "stream",
     "text": [
      "/home/felipe/tf-venv3/lib/python3.5/site-packages/sklearn/metrics/classification.py:1135: UndefinedMetricWarning: F-score is ill-defined and being set to 0.0 due to no predicted samples.\n",
      "  'precision', 'predicted', average, warn_for)\n"
     ]
    },
    {
     "name": "stdout",
     "output_type": "stream",
     "text": [
      "training F1: 0.0\n",
      "validation F1: 0.0\n",
      "grid: {'norm__norm': 'l2', 'clf__estimator__gamma': 0.01, 'tf__use_idf': False, 'lda__learning_method': 'online', 'lda__n_components': 20, 'clf__estimator__kernel': 'rbf', 'lda__max_iter': 5, 'tf__norm': None, 'clf__estimator__C': 1}\n",
      "\n"
     ]
    },
    {
     "name": "stderr",
     "output_type": "stream",
     "text": [
      "/home/felipe/tf-venv3/lib/python3.5/site-packages/sklearn/metrics/classification.py:1135: UndefinedMetricWarning: F-score is ill-defined and being set to 0.0 due to no predicted samples.\n",
      "  'precision', 'predicted', average, warn_for)\n"
     ]
    },
    {
     "name": "stdout",
     "output_type": "stream",
     "text": [
      "training F1: 0.0\n",
      "validation F1: 0.0\n",
      "grid: {'norm__norm': 'l2', 'clf__estimator__gamma': 0.01, 'tf__use_idf': False, 'lda__learning_method': 'online', 'lda__n_components': 2, 'clf__estimator__kernel': 'rbf', 'lda__max_iter': 10, 'tf__norm': 'l1', 'clf__estimator__C': 1}\n",
      "\n"
     ]
    },
    {
     "name": "stderr",
     "output_type": "stream",
     "text": [
      "/home/felipe/tf-venv3/lib/python3.5/site-packages/sklearn/metrics/classification.py:1135: UndefinedMetricWarning: F-score is ill-defined and being set to 0.0 due to no predicted samples.\n",
      "  'precision', 'predicted', average, warn_for)\n"
     ]
    },
    {
     "name": "stdout",
     "output_type": "stream",
     "text": [
      "training F1: 0.0\n",
      "validation F1: 0.0\n",
      "grid: {'norm__norm': 'l2', 'clf__estimator__gamma': 0.01, 'tf__use_idf': False, 'lda__learning_method': 'online', 'lda__n_components': 2, 'clf__estimator__kernel': 'rbf', 'lda__max_iter': 10, 'tf__norm': 'l2', 'clf__estimator__C': 1}\n",
      "\n"
     ]
    },
    {
     "name": "stderr",
     "output_type": "stream",
     "text": [
      "/home/felipe/tf-venv3/lib/python3.5/site-packages/sklearn/metrics/classification.py:1135: UndefinedMetricWarning: F-score is ill-defined and being set to 0.0 due to no predicted samples.\n",
      "  'precision', 'predicted', average, warn_for)\n"
     ]
    },
    {
     "name": "stdout",
     "output_type": "stream",
     "text": [
      "training F1: 0.0\n",
      "validation F1: 0.0\n",
      "grid: {'norm__norm': 'l2', 'clf__estimator__gamma': 0.01, 'tf__use_idf': False, 'lda__learning_method': 'online', 'lda__n_components': 2, 'clf__estimator__kernel': 'rbf', 'lda__max_iter': 10, 'tf__norm': None, 'clf__estimator__C': 1}\n",
      "\n"
     ]
    },
    {
     "name": "stderr",
     "output_type": "stream",
     "text": [
      "/home/felipe/tf-venv3/lib/python3.5/site-packages/sklearn/metrics/classification.py:1135: UndefinedMetricWarning: F-score is ill-defined and being set to 0.0 due to no predicted samples.\n",
      "  'precision', 'predicted', average, warn_for)\n"
     ]
    },
    {
     "name": "stdout",
     "output_type": "stream",
     "text": [
      "training F1: 0.0\n",
      "validation F1: 0.0\n",
      "grid: {'norm__norm': 'l2', 'clf__estimator__gamma': 0.01, 'tf__use_idf': False, 'lda__learning_method': 'online', 'lda__n_components': 5, 'clf__estimator__kernel': 'rbf', 'lda__max_iter': 10, 'tf__norm': 'l1', 'clf__estimator__C': 1}\n",
      "\n"
     ]
    },
    {
     "name": "stderr",
     "output_type": "stream",
     "text": [
      "/home/felipe/tf-venv3/lib/python3.5/site-packages/sklearn/metrics/classification.py:1135: UndefinedMetricWarning: F-score is ill-defined and being set to 0.0 due to no predicted samples.\n",
      "  'precision', 'predicted', average, warn_for)\n"
     ]
    },
    {
     "name": "stdout",
     "output_type": "stream",
     "text": [
      "training F1: 0.0\n",
      "validation F1: 0.0\n",
      "grid: {'norm__norm': 'l2', 'clf__estimator__gamma': 0.01, 'tf__use_idf': False, 'lda__learning_method': 'online', 'lda__n_components': 5, 'clf__estimator__kernel': 'rbf', 'lda__max_iter': 10, 'tf__norm': 'l2', 'clf__estimator__C': 1}\n",
      "\n"
     ]
    },
    {
     "name": "stderr",
     "output_type": "stream",
     "text": [
      "/home/felipe/tf-venv3/lib/python3.5/site-packages/sklearn/metrics/classification.py:1135: UndefinedMetricWarning: F-score is ill-defined and being set to 0.0 due to no predicted samples.\n",
      "  'precision', 'predicted', average, warn_for)\n"
     ]
    },
    {
     "name": "stdout",
     "output_type": "stream",
     "text": [
      "training F1: 0.0\n",
      "validation F1: 0.0\n",
      "grid: {'norm__norm': 'l2', 'clf__estimator__gamma': 0.01, 'tf__use_idf': False, 'lda__learning_method': 'online', 'lda__n_components': 5, 'clf__estimator__kernel': 'rbf', 'lda__max_iter': 10, 'tf__norm': None, 'clf__estimator__C': 1}\n",
      "\n"
     ]
    },
    {
     "name": "stderr",
     "output_type": "stream",
     "text": [
      "/home/felipe/tf-venv3/lib/python3.5/site-packages/sklearn/metrics/classification.py:1135: UndefinedMetricWarning: F-score is ill-defined and being set to 0.0 due to no predicted samples.\n",
      "  'precision', 'predicted', average, warn_for)\n"
     ]
    },
    {
     "name": "stdout",
     "output_type": "stream",
     "text": [
      "training F1: 0.0\n",
      "validation F1: 0.0\n",
      "grid: {'norm__norm': 'l2', 'clf__estimator__gamma': 0.01, 'tf__use_idf': False, 'lda__learning_method': 'online', 'lda__n_components': 10, 'clf__estimator__kernel': 'rbf', 'lda__max_iter': 10, 'tf__norm': 'l1', 'clf__estimator__C': 1}\n",
      "\n"
     ]
    },
    {
     "name": "stderr",
     "output_type": "stream",
     "text": [
      "/home/felipe/tf-venv3/lib/python3.5/site-packages/sklearn/metrics/classification.py:1135: UndefinedMetricWarning: F-score is ill-defined and being set to 0.0 due to no predicted samples.\n",
      "  'precision', 'predicted', average, warn_for)\n"
     ]
    },
    {
     "name": "stdout",
     "output_type": "stream",
     "text": [
      "training F1: 0.0\n",
      "validation F1: 0.0\n",
      "grid: {'norm__norm': 'l2', 'clf__estimator__gamma': 0.01, 'tf__use_idf': False, 'lda__learning_method': 'online', 'lda__n_components': 10, 'clf__estimator__kernel': 'rbf', 'lda__max_iter': 10, 'tf__norm': 'l2', 'clf__estimator__C': 1}\n",
      "\n"
     ]
    },
    {
     "name": "stderr",
     "output_type": "stream",
     "text": [
      "/home/felipe/tf-venv3/lib/python3.5/site-packages/sklearn/metrics/classification.py:1135: UndefinedMetricWarning: F-score is ill-defined and being set to 0.0 due to no predicted samples.\n",
      "  'precision', 'predicted', average, warn_for)\n"
     ]
    },
    {
     "name": "stdout",
     "output_type": "stream",
     "text": [
      "training F1: 0.0\n",
      "validation F1: 0.0\n",
      "grid: {'norm__norm': 'l2', 'clf__estimator__gamma': 0.01, 'tf__use_idf': False, 'lda__learning_method': 'online', 'lda__n_components': 10, 'clf__estimator__kernel': 'rbf', 'lda__max_iter': 10, 'tf__norm': None, 'clf__estimator__C': 1}\n",
      "\n"
     ]
    },
    {
     "name": "stderr",
     "output_type": "stream",
     "text": [
      "/home/felipe/tf-venv3/lib/python3.5/site-packages/sklearn/metrics/classification.py:1135: UndefinedMetricWarning: F-score is ill-defined and being set to 0.0 due to no predicted samples.\n",
      "  'precision', 'predicted', average, warn_for)\n"
     ]
    },
    {
     "name": "stdout",
     "output_type": "stream",
     "text": [
      "training F1: 0.0\n",
      "validation F1: 0.0\n",
      "grid: {'norm__norm': 'l2', 'clf__estimator__gamma': 0.01, 'tf__use_idf': False, 'lda__learning_method': 'online', 'lda__n_components': 20, 'clf__estimator__kernel': 'rbf', 'lda__max_iter': 10, 'tf__norm': 'l1', 'clf__estimator__C': 1}\n",
      "\n"
     ]
    },
    {
     "name": "stderr",
     "output_type": "stream",
     "text": [
      "/home/felipe/tf-venv3/lib/python3.5/site-packages/sklearn/metrics/classification.py:1135: UndefinedMetricWarning: F-score is ill-defined and being set to 0.0 due to no predicted samples.\n",
      "  'precision', 'predicted', average, warn_for)\n"
     ]
    },
    {
     "name": "stdout",
     "output_type": "stream",
     "text": [
      "training F1: 0.0\n",
      "validation F1: 0.0\n",
      "grid: {'norm__norm': 'l2', 'clf__estimator__gamma': 0.01, 'tf__use_idf': False, 'lda__learning_method': 'online', 'lda__n_components': 20, 'clf__estimator__kernel': 'rbf', 'lda__max_iter': 10, 'tf__norm': 'l2', 'clf__estimator__C': 1}\n",
      "\n"
     ]
    },
    {
     "name": "stderr",
     "output_type": "stream",
     "text": [
      "/home/felipe/tf-venv3/lib/python3.5/site-packages/sklearn/metrics/classification.py:1135: UndefinedMetricWarning: F-score is ill-defined and being set to 0.0 due to no predicted samples.\n",
      "  'precision', 'predicted', average, warn_for)\n"
     ]
    },
    {
     "name": "stdout",
     "output_type": "stream",
     "text": [
      "training F1: 0.0\n",
      "validation F1: 0.0\n",
      "grid: {'norm__norm': 'l2', 'clf__estimator__gamma': 0.01, 'tf__use_idf': False, 'lda__learning_method': 'online', 'lda__n_components': 20, 'clf__estimator__kernel': 'rbf', 'lda__max_iter': 10, 'tf__norm': None, 'clf__estimator__C': 1}\n",
      "\n"
     ]
    },
    {
     "name": "stderr",
     "output_type": "stream",
     "text": [
      "/home/felipe/tf-venv3/lib/python3.5/site-packages/sklearn/metrics/classification.py:1135: UndefinedMetricWarning: F-score is ill-defined and being set to 0.0 due to no predicted samples.\n",
      "  'precision', 'predicted', average, warn_for)\n"
     ]
    },
    {
     "name": "stdout",
     "output_type": "stream",
     "text": [
      "training F1: 0.0\n",
      "validation F1: 0.0\n",
      "grid: {'norm__norm': 'l2', 'clf__estimator__gamma': 0.001, 'tf__use_idf': False, 'lda__learning_method': 'online', 'lda__n_components': 2, 'clf__estimator__kernel': 'rbf', 'lda__max_iter': 5, 'tf__norm': 'l1', 'clf__estimator__C': 1}\n",
      "\n"
     ]
    },
    {
     "name": "stderr",
     "output_type": "stream",
     "text": [
      "/home/felipe/tf-venv3/lib/python3.5/site-packages/sklearn/metrics/classification.py:1135: UndefinedMetricWarning: F-score is ill-defined and being set to 0.0 due to no predicted samples.\n",
      "  'precision', 'predicted', average, warn_for)\n"
     ]
    },
    {
     "name": "stdout",
     "output_type": "stream",
     "text": [
      "training F1: 0.0\n",
      "validation F1: 0.0\n",
      "grid: {'norm__norm': 'l2', 'clf__estimator__gamma': 0.001, 'tf__use_idf': False, 'lda__learning_method': 'online', 'lda__n_components': 2, 'clf__estimator__kernel': 'rbf', 'lda__max_iter': 5, 'tf__norm': 'l2', 'clf__estimator__C': 1}\n",
      "\n"
     ]
    },
    {
     "name": "stderr",
     "output_type": "stream",
     "text": [
      "/home/felipe/tf-venv3/lib/python3.5/site-packages/sklearn/metrics/classification.py:1135: UndefinedMetricWarning: F-score is ill-defined and being set to 0.0 due to no predicted samples.\n",
      "  'precision', 'predicted', average, warn_for)\n"
     ]
    },
    {
     "name": "stdout",
     "output_type": "stream",
     "text": [
      "training F1: 0.0\n",
      "validation F1: 0.0\n",
      "grid: {'norm__norm': 'l2', 'clf__estimator__gamma': 0.001, 'tf__use_idf': False, 'lda__learning_method': 'online', 'lda__n_components': 2, 'clf__estimator__kernel': 'rbf', 'lda__max_iter': 5, 'tf__norm': None, 'clf__estimator__C': 1}\n",
      "\n"
     ]
    },
    {
     "name": "stderr",
     "output_type": "stream",
     "text": [
      "/home/felipe/tf-venv3/lib/python3.5/site-packages/sklearn/metrics/classification.py:1135: UndefinedMetricWarning: F-score is ill-defined and being set to 0.0 due to no predicted samples.\n",
      "  'precision', 'predicted', average, warn_for)\n"
     ]
    },
    {
     "name": "stdout",
     "output_type": "stream",
     "text": [
      "training F1: 0.0\n",
      "validation F1: 0.0\n",
      "grid: {'norm__norm': 'l2', 'clf__estimator__gamma': 0.001, 'tf__use_idf': False, 'lda__learning_method': 'online', 'lda__n_components': 5, 'clf__estimator__kernel': 'rbf', 'lda__max_iter': 5, 'tf__norm': 'l1', 'clf__estimator__C': 1}\n",
      "\n"
     ]
    },
    {
     "name": "stderr",
     "output_type": "stream",
     "text": [
      "/home/felipe/tf-venv3/lib/python3.5/site-packages/sklearn/metrics/classification.py:1135: UndefinedMetricWarning: F-score is ill-defined and being set to 0.0 due to no predicted samples.\n",
      "  'precision', 'predicted', average, warn_for)\n"
     ]
    },
    {
     "name": "stdout",
     "output_type": "stream",
     "text": [
      "training F1: 0.0\n",
      "validation F1: 0.0\n",
      "grid: {'norm__norm': 'l2', 'clf__estimator__gamma': 0.001, 'tf__use_idf': False, 'lda__learning_method': 'online', 'lda__n_components': 5, 'clf__estimator__kernel': 'rbf', 'lda__max_iter': 5, 'tf__norm': 'l2', 'clf__estimator__C': 1}\n",
      "\n"
     ]
    },
    {
     "name": "stderr",
     "output_type": "stream",
     "text": [
      "/home/felipe/tf-venv3/lib/python3.5/site-packages/sklearn/metrics/classification.py:1135: UndefinedMetricWarning: F-score is ill-defined and being set to 0.0 due to no predicted samples.\n",
      "  'precision', 'predicted', average, warn_for)\n"
     ]
    },
    {
     "name": "stdout",
     "output_type": "stream",
     "text": [
      "training F1: 0.0\n",
      "validation F1: 0.0\n",
      "grid: {'norm__norm': 'l2', 'clf__estimator__gamma': 0.001, 'tf__use_idf': False, 'lda__learning_method': 'online', 'lda__n_components': 5, 'clf__estimator__kernel': 'rbf', 'lda__max_iter': 5, 'tf__norm': None, 'clf__estimator__C': 1}\n",
      "\n"
     ]
    },
    {
     "name": "stderr",
     "output_type": "stream",
     "text": [
      "/home/felipe/tf-venv3/lib/python3.5/site-packages/sklearn/metrics/classification.py:1135: UndefinedMetricWarning: F-score is ill-defined and being set to 0.0 due to no predicted samples.\n",
      "  'precision', 'predicted', average, warn_for)\n"
     ]
    },
    {
     "name": "stdout",
     "output_type": "stream",
     "text": [
      "training F1: 0.0\n",
      "validation F1: 0.0\n",
      "grid: {'norm__norm': 'l2', 'clf__estimator__gamma': 0.001, 'tf__use_idf': False, 'lda__learning_method': 'online', 'lda__n_components': 10, 'clf__estimator__kernel': 'rbf', 'lda__max_iter': 5, 'tf__norm': 'l1', 'clf__estimator__C': 1}\n",
      "\n"
     ]
    },
    {
     "name": "stderr",
     "output_type": "stream",
     "text": [
      "/home/felipe/tf-venv3/lib/python3.5/site-packages/sklearn/metrics/classification.py:1135: UndefinedMetricWarning: F-score is ill-defined and being set to 0.0 due to no predicted samples.\n",
      "  'precision', 'predicted', average, warn_for)\n"
     ]
    },
    {
     "name": "stdout",
     "output_type": "stream",
     "text": [
      "training F1: 0.0\n",
      "validation F1: 0.0\n",
      "grid: {'norm__norm': 'l2', 'clf__estimator__gamma': 0.001, 'tf__use_idf': False, 'lda__learning_method': 'online', 'lda__n_components': 10, 'clf__estimator__kernel': 'rbf', 'lda__max_iter': 5, 'tf__norm': 'l2', 'clf__estimator__C': 1}\n",
      "\n"
     ]
    },
    {
     "name": "stderr",
     "output_type": "stream",
     "text": [
      "/home/felipe/tf-venv3/lib/python3.5/site-packages/sklearn/metrics/classification.py:1135: UndefinedMetricWarning: F-score is ill-defined and being set to 0.0 due to no predicted samples.\n",
      "  'precision', 'predicted', average, warn_for)\n"
     ]
    },
    {
     "name": "stdout",
     "output_type": "stream",
     "text": [
      "training F1: 0.0\n",
      "validation F1: 0.0\n",
      "grid: {'norm__norm': 'l2', 'clf__estimator__gamma': 0.001, 'tf__use_idf': False, 'lda__learning_method': 'online', 'lda__n_components': 10, 'clf__estimator__kernel': 'rbf', 'lda__max_iter': 5, 'tf__norm': None, 'clf__estimator__C': 1}\n",
      "\n"
     ]
    },
    {
     "name": "stderr",
     "output_type": "stream",
     "text": [
      "/home/felipe/tf-venv3/lib/python3.5/site-packages/sklearn/metrics/classification.py:1135: UndefinedMetricWarning: F-score is ill-defined and being set to 0.0 due to no predicted samples.\n",
      "  'precision', 'predicted', average, warn_for)\n"
     ]
    },
    {
     "name": "stdout",
     "output_type": "stream",
     "text": [
      "training F1: 0.0\n",
      "validation F1: 0.0\n",
      "grid: {'norm__norm': 'l2', 'clf__estimator__gamma': 0.001, 'tf__use_idf': False, 'lda__learning_method': 'online', 'lda__n_components': 20, 'clf__estimator__kernel': 'rbf', 'lda__max_iter': 5, 'tf__norm': 'l1', 'clf__estimator__C': 1}\n",
      "\n"
     ]
    },
    {
     "name": "stderr",
     "output_type": "stream",
     "text": [
      "/home/felipe/tf-venv3/lib/python3.5/site-packages/sklearn/metrics/classification.py:1135: UndefinedMetricWarning: F-score is ill-defined and being set to 0.0 due to no predicted samples.\n",
      "  'precision', 'predicted', average, warn_for)\n"
     ]
    },
    {
     "name": "stdout",
     "output_type": "stream",
     "text": [
      "training F1: 0.0\n",
      "validation F1: 0.0\n",
      "grid: {'norm__norm': 'l2', 'clf__estimator__gamma': 0.001, 'tf__use_idf': False, 'lda__learning_method': 'online', 'lda__n_components': 20, 'clf__estimator__kernel': 'rbf', 'lda__max_iter': 5, 'tf__norm': 'l2', 'clf__estimator__C': 1}\n",
      "\n"
     ]
    },
    {
     "name": "stderr",
     "output_type": "stream",
     "text": [
      "/home/felipe/tf-venv3/lib/python3.5/site-packages/sklearn/metrics/classification.py:1135: UndefinedMetricWarning: F-score is ill-defined and being set to 0.0 due to no predicted samples.\n",
      "  'precision', 'predicted', average, warn_for)\n"
     ]
    },
    {
     "name": "stdout",
     "output_type": "stream",
     "text": [
      "training F1: 0.0\n",
      "validation F1: 0.0\n",
      "grid: {'norm__norm': 'l2', 'clf__estimator__gamma': 0.001, 'tf__use_idf': False, 'lda__learning_method': 'online', 'lda__n_components': 20, 'clf__estimator__kernel': 'rbf', 'lda__max_iter': 5, 'tf__norm': None, 'clf__estimator__C': 1}\n",
      "\n"
     ]
    },
    {
     "name": "stderr",
     "output_type": "stream",
     "text": [
      "/home/felipe/tf-venv3/lib/python3.5/site-packages/sklearn/metrics/classification.py:1135: UndefinedMetricWarning: F-score is ill-defined and being set to 0.0 due to no predicted samples.\n",
      "  'precision', 'predicted', average, warn_for)\n"
     ]
    },
    {
     "name": "stdout",
     "output_type": "stream",
     "text": [
      "training F1: 0.0\n",
      "validation F1: 0.0\n",
      "grid: {'norm__norm': 'l2', 'clf__estimator__gamma': 0.001, 'tf__use_idf': False, 'lda__learning_method': 'online', 'lda__n_components': 2, 'clf__estimator__kernel': 'rbf', 'lda__max_iter': 10, 'tf__norm': 'l1', 'clf__estimator__C': 1}\n",
      "\n"
     ]
    },
    {
     "name": "stderr",
     "output_type": "stream",
     "text": [
      "/home/felipe/tf-venv3/lib/python3.5/site-packages/sklearn/metrics/classification.py:1135: UndefinedMetricWarning: F-score is ill-defined and being set to 0.0 due to no predicted samples.\n",
      "  'precision', 'predicted', average, warn_for)\n"
     ]
    },
    {
     "name": "stdout",
     "output_type": "stream",
     "text": [
      "training F1: 0.0\n",
      "validation F1: 0.0\n",
      "grid: {'norm__norm': 'l2', 'clf__estimator__gamma': 0.001, 'tf__use_idf': False, 'lda__learning_method': 'online', 'lda__n_components': 2, 'clf__estimator__kernel': 'rbf', 'lda__max_iter': 10, 'tf__norm': 'l2', 'clf__estimator__C': 1}\n",
      "\n"
     ]
    },
    {
     "name": "stderr",
     "output_type": "stream",
     "text": [
      "/home/felipe/tf-venv3/lib/python3.5/site-packages/sklearn/metrics/classification.py:1135: UndefinedMetricWarning: F-score is ill-defined and being set to 0.0 due to no predicted samples.\n",
      "  'precision', 'predicted', average, warn_for)\n"
     ]
    },
    {
     "name": "stdout",
     "output_type": "stream",
     "text": [
      "training F1: 0.0\n",
      "validation F1: 0.0\n",
      "grid: {'norm__norm': 'l2', 'clf__estimator__gamma': 0.001, 'tf__use_idf': False, 'lda__learning_method': 'online', 'lda__n_components': 2, 'clf__estimator__kernel': 'rbf', 'lda__max_iter': 10, 'tf__norm': None, 'clf__estimator__C': 1}\n",
      "\n"
     ]
    },
    {
     "name": "stderr",
     "output_type": "stream",
     "text": [
      "/home/felipe/tf-venv3/lib/python3.5/site-packages/sklearn/metrics/classification.py:1135: UndefinedMetricWarning: F-score is ill-defined and being set to 0.0 due to no predicted samples.\n",
      "  'precision', 'predicted', average, warn_for)\n"
     ]
    },
    {
     "name": "stdout",
     "output_type": "stream",
     "text": [
      "training F1: 0.0\n",
      "validation F1: 0.0\n",
      "grid: {'norm__norm': 'l2', 'clf__estimator__gamma': 0.001, 'tf__use_idf': False, 'lda__learning_method': 'online', 'lda__n_components': 5, 'clf__estimator__kernel': 'rbf', 'lda__max_iter': 10, 'tf__norm': 'l1', 'clf__estimator__C': 1}\n",
      "\n"
     ]
    },
    {
     "name": "stderr",
     "output_type": "stream",
     "text": [
      "/home/felipe/tf-venv3/lib/python3.5/site-packages/sklearn/metrics/classification.py:1135: UndefinedMetricWarning: F-score is ill-defined and being set to 0.0 due to no predicted samples.\n",
      "  'precision', 'predicted', average, warn_for)\n"
     ]
    },
    {
     "name": "stdout",
     "output_type": "stream",
     "text": [
      "training F1: 0.0\n",
      "validation F1: 0.0\n",
      "grid: {'norm__norm': 'l2', 'clf__estimator__gamma': 0.001, 'tf__use_idf': False, 'lda__learning_method': 'online', 'lda__n_components': 5, 'clf__estimator__kernel': 'rbf', 'lda__max_iter': 10, 'tf__norm': 'l2', 'clf__estimator__C': 1}\n",
      "\n"
     ]
    },
    {
     "name": "stderr",
     "output_type": "stream",
     "text": [
      "/home/felipe/tf-venv3/lib/python3.5/site-packages/sklearn/metrics/classification.py:1135: UndefinedMetricWarning: F-score is ill-defined and being set to 0.0 due to no predicted samples.\n",
      "  'precision', 'predicted', average, warn_for)\n"
     ]
    },
    {
     "name": "stdout",
     "output_type": "stream",
     "text": [
      "training F1: 0.0\n",
      "validation F1: 0.0\n",
      "grid: {'norm__norm': 'l2', 'clf__estimator__gamma': 0.001, 'tf__use_idf': False, 'lda__learning_method': 'online', 'lda__n_components': 5, 'clf__estimator__kernel': 'rbf', 'lda__max_iter': 10, 'tf__norm': None, 'clf__estimator__C': 1}\n",
      "\n"
     ]
    },
    {
     "name": "stderr",
     "output_type": "stream",
     "text": [
      "/home/felipe/tf-venv3/lib/python3.5/site-packages/sklearn/metrics/classification.py:1135: UndefinedMetricWarning: F-score is ill-defined and being set to 0.0 due to no predicted samples.\n",
      "  'precision', 'predicted', average, warn_for)\n"
     ]
    },
    {
     "name": "stdout",
     "output_type": "stream",
     "text": [
      "training F1: 0.0\n",
      "validation F1: 0.0\n",
      "grid: {'norm__norm': 'l2', 'clf__estimator__gamma': 0.001, 'tf__use_idf': False, 'lda__learning_method': 'online', 'lda__n_components': 10, 'clf__estimator__kernel': 'rbf', 'lda__max_iter': 10, 'tf__norm': 'l1', 'clf__estimator__C': 1}\n",
      "\n"
     ]
    },
    {
     "name": "stderr",
     "output_type": "stream",
     "text": [
      "/home/felipe/tf-venv3/lib/python3.5/site-packages/sklearn/metrics/classification.py:1135: UndefinedMetricWarning: F-score is ill-defined and being set to 0.0 due to no predicted samples.\n",
      "  'precision', 'predicted', average, warn_for)\n"
     ]
    },
    {
     "name": "stdout",
     "output_type": "stream",
     "text": [
      "training F1: 0.0\n",
      "validation F1: 0.0\n",
      "grid: {'norm__norm': 'l2', 'clf__estimator__gamma': 0.001, 'tf__use_idf': False, 'lda__learning_method': 'online', 'lda__n_components': 10, 'clf__estimator__kernel': 'rbf', 'lda__max_iter': 10, 'tf__norm': 'l2', 'clf__estimator__C': 1}\n",
      "\n"
     ]
    },
    {
     "name": "stderr",
     "output_type": "stream",
     "text": [
      "/home/felipe/tf-venv3/lib/python3.5/site-packages/sklearn/metrics/classification.py:1135: UndefinedMetricWarning: F-score is ill-defined and being set to 0.0 due to no predicted samples.\n",
      "  'precision', 'predicted', average, warn_for)\n"
     ]
    },
    {
     "name": "stdout",
     "output_type": "stream",
     "text": [
      "training F1: 0.0\n",
      "validation F1: 0.0\n",
      "grid: {'norm__norm': 'l2', 'clf__estimator__gamma': 0.001, 'tf__use_idf': False, 'lda__learning_method': 'online', 'lda__n_components': 10, 'clf__estimator__kernel': 'rbf', 'lda__max_iter': 10, 'tf__norm': None, 'clf__estimator__C': 1}\n",
      "\n"
     ]
    },
    {
     "name": "stderr",
     "output_type": "stream",
     "text": [
      "/home/felipe/tf-venv3/lib/python3.5/site-packages/sklearn/metrics/classification.py:1135: UndefinedMetricWarning: F-score is ill-defined and being set to 0.0 due to no predicted samples.\n",
      "  'precision', 'predicted', average, warn_for)\n"
     ]
    },
    {
     "name": "stdout",
     "output_type": "stream",
     "text": [
      "training F1: 0.0\n",
      "validation F1: 0.0\n",
      "grid: {'norm__norm': 'l2', 'clf__estimator__gamma': 0.001, 'tf__use_idf': False, 'lda__learning_method': 'online', 'lda__n_components': 20, 'clf__estimator__kernel': 'rbf', 'lda__max_iter': 10, 'tf__norm': 'l1', 'clf__estimator__C': 1}\n",
      "\n"
     ]
    },
    {
     "name": "stderr",
     "output_type": "stream",
     "text": [
      "/home/felipe/tf-venv3/lib/python3.5/site-packages/sklearn/metrics/classification.py:1135: UndefinedMetricWarning: F-score is ill-defined and being set to 0.0 due to no predicted samples.\n",
      "  'precision', 'predicted', average, warn_for)\n"
     ]
    },
    {
     "name": "stdout",
     "output_type": "stream",
     "text": [
      "training F1: 0.0\n",
      "validation F1: 0.0\n",
      "grid: {'norm__norm': 'l2', 'clf__estimator__gamma': 0.001, 'tf__use_idf': False, 'lda__learning_method': 'online', 'lda__n_components': 20, 'clf__estimator__kernel': 'rbf', 'lda__max_iter': 10, 'tf__norm': 'l2', 'clf__estimator__C': 1}\n",
      "\n"
     ]
    },
    {
     "name": "stderr",
     "output_type": "stream",
     "text": [
      "/home/felipe/tf-venv3/lib/python3.5/site-packages/sklearn/metrics/classification.py:1135: UndefinedMetricWarning: F-score is ill-defined and being set to 0.0 due to no predicted samples.\n",
      "  'precision', 'predicted', average, warn_for)\n"
     ]
    },
    {
     "name": "stdout",
     "output_type": "stream",
     "text": [
      "training F1: 0.0\n",
      "validation F1: 0.0\n",
      "grid: {'norm__norm': 'l2', 'clf__estimator__gamma': 0.001, 'tf__use_idf': False, 'lda__learning_method': 'online', 'lda__n_components': 20, 'clf__estimator__kernel': 'rbf', 'lda__max_iter': 10, 'tf__norm': None, 'clf__estimator__C': 1}\n",
      "\n"
     ]
    },
    {
     "name": "stderr",
     "output_type": "stream",
     "text": [
      "/home/felipe/tf-venv3/lib/python3.5/site-packages/sklearn/metrics/classification.py:1135: UndefinedMetricWarning: F-score is ill-defined and being set to 0.0 due to no predicted samples.\n",
      "  'precision', 'predicted', average, warn_for)\n"
     ]
    },
    {
     "name": "stdout",
     "output_type": "stream",
     "text": [
      "training F1: 0.0\n",
      "validation F1: 0.0\n",
      "grid: {'norm__norm': 'l2', 'clf__estimator__gamma': 0.1, 'tf__use_idf': False, 'lda__learning_method': 'online', 'lda__n_components': 2, 'clf__estimator__kernel': 'rbf', 'lda__max_iter': 5, 'tf__norm': 'l1', 'clf__estimator__C': 10}\n",
      "\n"
     ]
    },
    {
     "name": "stderr",
     "output_type": "stream",
     "text": [
      "/home/felipe/tf-venv3/lib/python3.5/site-packages/sklearn/metrics/classification.py:1135: UndefinedMetricWarning: F-score is ill-defined and being set to 0.0 due to no predicted samples.\n",
      "  'precision', 'predicted', average, warn_for)\n"
     ]
    },
    {
     "name": "stdout",
     "output_type": "stream",
     "text": [
      "training F1: 0.0\n",
      "validation F1: 0.0\n",
      "grid: {'norm__norm': 'l2', 'clf__estimator__gamma': 0.1, 'tf__use_idf': False, 'lda__learning_method': 'online', 'lda__n_components': 2, 'clf__estimator__kernel': 'rbf', 'lda__max_iter': 5, 'tf__norm': 'l2', 'clf__estimator__C': 10}\n",
      "\n"
     ]
    },
    {
     "name": "stderr",
     "output_type": "stream",
     "text": [
      "/home/felipe/tf-venv3/lib/python3.5/site-packages/sklearn/metrics/classification.py:1135: UndefinedMetricWarning: F-score is ill-defined and being set to 0.0 due to no predicted samples.\n",
      "  'precision', 'predicted', average, warn_for)\n"
     ]
    },
    {
     "name": "stdout",
     "output_type": "stream",
     "text": [
      "training F1: 0.0\n",
      "validation F1: 0.0\n",
      "grid: {'norm__norm': 'l2', 'clf__estimator__gamma': 0.1, 'tf__use_idf': False, 'lda__learning_method': 'online', 'lda__n_components': 2, 'clf__estimator__kernel': 'rbf', 'lda__max_iter': 5, 'tf__norm': None, 'clf__estimator__C': 10}\n",
      "\n"
     ]
    },
    {
     "name": "stderr",
     "output_type": "stream",
     "text": [
      "/home/felipe/tf-venv3/lib/python3.5/site-packages/sklearn/metrics/classification.py:1135: UndefinedMetricWarning: F-score is ill-defined and being set to 0.0 due to no predicted samples.\n",
      "  'precision', 'predicted', average, warn_for)\n"
     ]
    },
    {
     "name": "stdout",
     "output_type": "stream",
     "text": [
      "training F1: 0.0013111627629775315\n",
      "validation F1: 0.0\n",
      "grid: {'norm__norm': 'l2', 'clf__estimator__gamma': 0.1, 'tf__use_idf': False, 'lda__learning_method': 'online', 'lda__n_components': 5, 'clf__estimator__kernel': 'rbf', 'lda__max_iter': 5, 'tf__norm': 'l1', 'clf__estimator__C': 10}\n",
      "\n"
     ]
    },
    {
     "name": "stderr",
     "output_type": "stream",
     "text": [
      "/home/felipe/tf-venv3/lib/python3.5/site-packages/sklearn/metrics/classification.py:1135: UndefinedMetricWarning: F-score is ill-defined and being set to 0.0 due to no predicted samples.\n",
      "  'precision', 'predicted', average, warn_for)\n"
     ]
    },
    {
     "name": "stdout",
     "output_type": "stream",
     "text": [
      "training F1: 0.0\n",
      "validation F1: 0.0\n",
      "grid: {'norm__norm': 'l2', 'clf__estimator__gamma': 0.1, 'tf__use_idf': False, 'lda__learning_method': 'online', 'lda__n_components': 5, 'clf__estimator__kernel': 'rbf', 'lda__max_iter': 5, 'tf__norm': 'l2', 'clf__estimator__C': 10}\n",
      "\n"
     ]
    },
    {
     "name": "stderr",
     "output_type": "stream",
     "text": [
      "/home/felipe/tf-venv3/lib/python3.5/site-packages/sklearn/metrics/classification.py:1135: UndefinedMetricWarning: F-score is ill-defined and being set to 0.0 due to no predicted samples.\n",
      "  'precision', 'predicted', average, warn_for)\n"
     ]
    },
    {
     "name": "stdout",
     "output_type": "stream",
     "text": [
      "training F1: 0.0\n",
      "validation F1: 0.0\n",
      "grid: {'norm__norm': 'l2', 'clf__estimator__gamma': 0.1, 'tf__use_idf': False, 'lda__learning_method': 'online', 'lda__n_components': 5, 'clf__estimator__kernel': 'rbf', 'lda__max_iter': 5, 'tf__norm': None, 'clf__estimator__C': 10}\n",
      "\n"
     ]
    },
    {
     "name": "stderr",
     "output_type": "stream",
     "text": [
      "/home/felipe/tf-venv3/lib/python3.5/site-packages/sklearn/metrics/classification.py:1135: UndefinedMetricWarning: F-score is ill-defined and being set to 0.0 due to no predicted samples.\n",
      "  'precision', 'predicted', average, warn_for)\n"
     ]
    },
    {
     "name": "stdout",
     "output_type": "stream",
     "text": [
      "training F1: 0.0016825911904332672\n",
      "validation F1: 0.0\n",
      "grid: {'norm__norm': 'l2', 'clf__estimator__gamma': 0.1, 'tf__use_idf': False, 'lda__learning_method': 'online', 'lda__n_components': 10, 'clf__estimator__kernel': 'rbf', 'lda__max_iter': 5, 'tf__norm': 'l1', 'clf__estimator__C': 10}\n",
      "\n",
      "training F1: 0.0026221692491060784\n",
      "validation F1: 0.0003494670627293377\n",
      "grid: {'norm__norm': 'l2', 'clf__estimator__gamma': 0.1, 'tf__use_idf': False, 'lda__learning_method': 'online', 'lda__n_components': 10, 'clf__estimator__kernel': 'rbf', 'lda__max_iter': 5, 'tf__norm': 'l2', 'clf__estimator__C': 10}\n",
      "\n",
      "training F1: 0.004454081931665006\n",
      "validation F1: 0.004739336492890996\n",
      "grid: {'norm__norm': 'l2', 'clf__estimator__gamma': 0.1, 'tf__use_idf': False, 'lda__learning_method': 'online', 'lda__n_components': 10, 'clf__estimator__kernel': 'rbf', 'lda__max_iter': 5, 'tf__norm': None, 'clf__estimator__C': 10}\n",
      "\n",
      "training F1: 0.003893805309734513\n",
      "validation F1: 0.0010748835542816193\n",
      "grid: {'norm__norm': 'l2', 'clf__estimator__gamma': 0.1, 'tf__use_idf': False, 'lda__learning_method': 'online', 'lda__n_components': 20, 'clf__estimator__kernel': 'rbf', 'lda__max_iter': 5, 'tf__norm': 'l1', 'clf__estimator__C': 10}\n",
      "\n",
      "training F1: 0.006267368296576597\n",
      "validation F1: 0.004250044271294493\n",
      "grid: {'norm__norm': 'l2', 'clf__estimator__gamma': 0.1, 'tf__use_idf': False, 'lda__learning_method': 'online', 'lda__n_components': 20, 'clf__estimator__kernel': 'rbf', 'lda__max_iter': 5, 'tf__norm': 'l2', 'clf__estimator__C': 10}\n",
      "\n",
      "training F1: 0.004403975480568947\n",
      "validation F1: 0.0031320689055159214\n",
      "grid: {'norm__norm': 'l2', 'clf__estimator__gamma': 0.1, 'tf__use_idf': False, 'lda__learning_method': 'online', 'lda__n_components': 20, 'clf__estimator__kernel': 'rbf', 'lda__max_iter': 5, 'tf__norm': None, 'clf__estimator__C': 10}\n",
      "\n"
     ]
    },
    {
     "name": "stderr",
     "output_type": "stream",
     "text": [
      "/home/felipe/tf-venv3/lib/python3.5/site-packages/sklearn/metrics/classification.py:1135: UndefinedMetricWarning: F-score is ill-defined and being set to 0.0 due to no predicted samples.\n",
      "  'precision', 'predicted', average, warn_for)\n"
     ]
    },
    {
     "name": "stdout",
     "output_type": "stream",
     "text": [
      "training F1: 0.0\n",
      "validation F1: 0.0\n",
      "grid: {'norm__norm': 'l2', 'clf__estimator__gamma': 0.1, 'tf__use_idf': False, 'lda__learning_method': 'online', 'lda__n_components': 2, 'clf__estimator__kernel': 'rbf', 'lda__max_iter': 10, 'tf__norm': 'l1', 'clf__estimator__C': 10}\n",
      "\n"
     ]
    },
    {
     "name": "stderr",
     "output_type": "stream",
     "text": [
      "/home/felipe/tf-venv3/lib/python3.5/site-packages/sklearn/metrics/classification.py:1135: UndefinedMetricWarning: F-score is ill-defined and being set to 0.0 due to no predicted samples.\n",
      "  'precision', 'predicted', average, warn_for)\n"
     ]
    },
    {
     "name": "stdout",
     "output_type": "stream",
     "text": [
      "training F1: 0.0\n",
      "validation F1: 0.0\n",
      "grid: {'norm__norm': 'l2', 'clf__estimator__gamma': 0.1, 'tf__use_idf': False, 'lda__learning_method': 'online', 'lda__n_components': 2, 'clf__estimator__kernel': 'rbf', 'lda__max_iter': 10, 'tf__norm': 'l2', 'clf__estimator__C': 10}\n",
      "\n"
     ]
    },
    {
     "name": "stderr",
     "output_type": "stream",
     "text": [
      "/home/felipe/tf-venv3/lib/python3.5/site-packages/sklearn/metrics/classification.py:1135: UndefinedMetricWarning: F-score is ill-defined and being set to 0.0 due to no predicted samples.\n",
      "  'precision', 'predicted', average, warn_for)\n"
     ]
    },
    {
     "name": "stdout",
     "output_type": "stream",
     "text": [
      "training F1: 0.0\n",
      "validation F1: 0.0\n",
      "grid: {'norm__norm': 'l2', 'clf__estimator__gamma': 0.1, 'tf__use_idf': False, 'lda__learning_method': 'online', 'lda__n_components': 2, 'clf__estimator__kernel': 'rbf', 'lda__max_iter': 10, 'tf__norm': None, 'clf__estimator__C': 10}\n",
      "\n",
      "training F1: 0.002131943621935331\n",
      "validation F1: 0.0\n",
      "grid: {'norm__norm': 'l2', 'clf__estimator__gamma': 0.1, 'tf__use_idf': False, 'lda__learning_method': 'online', 'lda__n_components': 5, 'clf__estimator__kernel': 'rbf', 'lda__max_iter': 10, 'tf__norm': 'l1', 'clf__estimator__C': 10}\n",
      "\n",
      "training F1: 0.0035559770046820365\n",
      "validation F1: 0.003186404673393521\n",
      "grid: {'norm__norm': 'l2', 'clf__estimator__gamma': 0.1, 'tf__use_idf': False, 'lda__learning_method': 'online', 'lda__n_components': 5, 'clf__estimator__kernel': 'rbf', 'lda__max_iter': 10, 'tf__norm': 'l2', 'clf__estimator__C': 10}\n",
      "\n"
     ]
    },
    {
     "name": "stderr",
     "output_type": "stream",
     "text": [
      "/home/felipe/tf-venv3/lib/python3.5/site-packages/sklearn/metrics/classification.py:1135: UndefinedMetricWarning: F-score is ill-defined and being set to 0.0 due to no predicted samples.\n",
      "  'precision', 'predicted', average, warn_for)\n"
     ]
    },
    {
     "name": "stdout",
     "output_type": "stream",
     "text": [
      "training F1: 0.0\n",
      "validation F1: 0.0\n",
      "grid: {'norm__norm': 'l2', 'clf__estimator__gamma': 0.1, 'tf__use_idf': False, 'lda__learning_method': 'online', 'lda__n_components': 5, 'clf__estimator__kernel': 'rbf', 'lda__max_iter': 10, 'tf__norm': None, 'clf__estimator__C': 10}\n",
      "\n",
      "training F1: 0.004720320981826764\n",
      "validation F1: 0.00035861574323112785\n",
      "grid: {'norm__norm': 'l2', 'clf__estimator__gamma': 0.1, 'tf__use_idf': False, 'lda__learning_method': 'online', 'lda__n_components': 10, 'clf__estimator__kernel': 'rbf', 'lda__max_iter': 10, 'tf__norm': 'l1', 'clf__estimator__C': 10}\n",
      "\n",
      "training F1: 0.007190852292820936\n",
      "validation F1: 0.0042742653606411395\n",
      "grid: {'norm__norm': 'l2', 'clf__estimator__gamma': 0.1, 'tf__use_idf': False, 'lda__learning_method': 'online', 'lda__n_components': 10, 'clf__estimator__kernel': 'rbf', 'lda__max_iter': 10, 'tf__norm': 'l2', 'clf__estimator__C': 10}\n",
      "\n",
      "training F1: 0.007994826876726823\n",
      "validation F1: 0.005003573981415297\n",
      "grid: {'norm__norm': 'l2', 'clf__estimator__gamma': 0.1, 'tf__use_idf': False, 'lda__learning_method': 'online', 'lda__n_components': 10, 'clf__estimator__kernel': 'rbf', 'lda__max_iter': 10, 'tf__norm': None, 'clf__estimator__C': 10}\n",
      "\n"
     ]
    },
    {
     "name": "stderr",
     "output_type": "stream",
     "text": [
      "/home/felipe/tf-venv3/lib/python3.5/site-packages/sklearn/metrics/classification.py:1135: UndefinedMetricWarning: F-score is ill-defined and being set to 0.0 due to no predicted samples.\n",
      "  'precision', 'predicted', average, warn_for)\n"
     ]
    },
    {
     "name": "stdout",
     "output_type": "stream",
     "text": [
      "training F1: 0.0009654839488293508\n",
      "validation F1: 0.0\n",
      "grid: {'norm__norm': 'l2', 'clf__estimator__gamma': 0.1, 'tf__use_idf': False, 'lda__learning_method': 'online', 'lda__n_components': 20, 'clf__estimator__kernel': 'rbf', 'lda__max_iter': 10, 'tf__norm': 'l1', 'clf__estimator__C': 10}\n",
      "\n",
      "training F1: 0.005432215399149741\n",
      "validation F1: 0.005683836589698047\n",
      "grid: {'norm__norm': 'l2', 'clf__estimator__gamma': 0.1, 'tf__use_idf': False, 'lda__learning_method': 'online', 'lda__n_components': 20, 'clf__estimator__kernel': 'rbf', 'lda__max_iter': 10, 'tf__norm': 'l2', 'clf__estimator__C': 10}\n",
      "\n",
      "training F1: 0.009945009945009943\n",
      "validation F1: 0.012574097359439556\n",
      "grid: {'norm__norm': 'l2', 'clf__estimator__gamma': 0.1, 'tf__use_idf': False, 'lda__learning_method': 'online', 'lda__n_components': 20, 'clf__estimator__kernel': 'rbf', 'lda__max_iter': 10, 'tf__norm': None, 'clf__estimator__C': 10}\n",
      "\n"
     ]
    },
    {
     "name": "stderr",
     "output_type": "stream",
     "text": [
      "/home/felipe/tf-venv3/lib/python3.5/site-packages/sklearn/metrics/classification.py:1135: UndefinedMetricWarning: F-score is ill-defined and being set to 0.0 due to no predicted samples.\n",
      "  'precision', 'predicted', average, warn_for)\n"
     ]
    },
    {
     "name": "stdout",
     "output_type": "stream",
     "text": [
      "training F1: 0.0\n",
      "validation F1: 0.0\n",
      "grid: {'norm__norm': 'l2', 'clf__estimator__gamma': 0.01, 'tf__use_idf': False, 'lda__learning_method': 'online', 'lda__n_components': 2, 'clf__estimator__kernel': 'rbf', 'lda__max_iter': 5, 'tf__norm': 'l1', 'clf__estimator__C': 10}\n",
      "\n"
     ]
    },
    {
     "name": "stderr",
     "output_type": "stream",
     "text": [
      "/home/felipe/tf-venv3/lib/python3.5/site-packages/sklearn/metrics/classification.py:1135: UndefinedMetricWarning: F-score is ill-defined and being set to 0.0 due to no predicted samples.\n",
      "  'precision', 'predicted', average, warn_for)\n"
     ]
    },
    {
     "name": "stdout",
     "output_type": "stream",
     "text": [
      "training F1: 0.0\n",
      "validation F1: 0.0\n",
      "grid: {'norm__norm': 'l2', 'clf__estimator__gamma': 0.01, 'tf__use_idf': False, 'lda__learning_method': 'online', 'lda__n_components': 2, 'clf__estimator__kernel': 'rbf', 'lda__max_iter': 5, 'tf__norm': 'l2', 'clf__estimator__C': 10}\n",
      "\n"
     ]
    },
    {
     "name": "stderr",
     "output_type": "stream",
     "text": [
      "/home/felipe/tf-venv3/lib/python3.5/site-packages/sklearn/metrics/classification.py:1135: UndefinedMetricWarning: F-score is ill-defined and being set to 0.0 due to no predicted samples.\n",
      "  'precision', 'predicted', average, warn_for)\n"
     ]
    },
    {
     "name": "stdout",
     "output_type": "stream",
     "text": [
      "training F1: 0.0\n",
      "validation F1: 0.0\n",
      "grid: {'norm__norm': 'l2', 'clf__estimator__gamma': 0.01, 'tf__use_idf': False, 'lda__learning_method': 'online', 'lda__n_components': 2, 'clf__estimator__kernel': 'rbf', 'lda__max_iter': 5, 'tf__norm': None, 'clf__estimator__C': 10}\n",
      "\n"
     ]
    },
    {
     "name": "stderr",
     "output_type": "stream",
     "text": [
      "/home/felipe/tf-venv3/lib/python3.5/site-packages/sklearn/metrics/classification.py:1135: UndefinedMetricWarning: F-score is ill-defined and being set to 0.0 due to no predicted samples.\n",
      "  'precision', 'predicted', average, warn_for)\n"
     ]
    },
    {
     "name": "stdout",
     "output_type": "stream",
     "text": [
      "training F1: 0.0\n",
      "validation F1: 0.0\n",
      "grid: {'norm__norm': 'l2', 'clf__estimator__gamma': 0.01, 'tf__use_idf': False, 'lda__learning_method': 'online', 'lda__n_components': 5, 'clf__estimator__kernel': 'rbf', 'lda__max_iter': 5, 'tf__norm': 'l1', 'clf__estimator__C': 10}\n",
      "\n"
     ]
    },
    {
     "name": "stderr",
     "output_type": "stream",
     "text": [
      "/home/felipe/tf-venv3/lib/python3.5/site-packages/sklearn/metrics/classification.py:1135: UndefinedMetricWarning: F-score is ill-defined and being set to 0.0 due to no predicted samples.\n",
      "  'precision', 'predicted', average, warn_for)\n"
     ]
    },
    {
     "name": "stdout",
     "output_type": "stream",
     "text": [
      "training F1: 0.0\n",
      "validation F1: 0.0\n",
      "grid: {'norm__norm': 'l2', 'clf__estimator__gamma': 0.01, 'tf__use_idf': False, 'lda__learning_method': 'online', 'lda__n_components': 5, 'clf__estimator__kernel': 'rbf', 'lda__max_iter': 5, 'tf__norm': 'l2', 'clf__estimator__C': 10}\n",
      "\n",
      "training F1: 0.004607478291688818\n",
      "validation F1: 0.0028444444444444446\n",
      "grid: {'norm__norm': 'l2', 'clf__estimator__gamma': 0.01, 'tf__use_idf': False, 'lda__learning_method': 'online', 'lda__n_components': 5, 'clf__estimator__kernel': 'rbf', 'lda__max_iter': 5, 'tf__norm': None, 'clf__estimator__C': 10}\n",
      "\n"
     ]
    },
    {
     "name": "stderr",
     "output_type": "stream",
     "text": [
      "/home/felipe/tf-venv3/lib/python3.5/site-packages/sklearn/metrics/classification.py:1135: UndefinedMetricWarning: F-score is ill-defined and being set to 0.0 due to no predicted samples.\n",
      "  'precision', 'predicted', average, warn_for)\n"
     ]
    },
    {
     "name": "stdout",
     "output_type": "stream",
     "text": [
      "training F1: 0.0\n",
      "validation F1: 0.0\n",
      "grid: {'norm__norm': 'l2', 'clf__estimator__gamma': 0.01, 'tf__use_idf': False, 'lda__learning_method': 'online', 'lda__n_components': 10, 'clf__estimator__kernel': 'rbf', 'lda__max_iter': 5, 'tf__norm': 'l1', 'clf__estimator__C': 10}\n",
      "\n"
     ]
    },
    {
     "name": "stderr",
     "output_type": "stream",
     "text": [
      "/home/felipe/tf-venv3/lib/python3.5/site-packages/sklearn/metrics/classification.py:1135: UndefinedMetricWarning: F-score is ill-defined and being set to 0.0 due to no predicted samples.\n",
      "  'precision', 'predicted', average, warn_for)\n"
     ]
    },
    {
     "name": "stdout",
     "output_type": "stream",
     "text": [
      "training F1: 0.0\n",
      "validation F1: 0.0\n",
      "grid: {'norm__norm': 'l2', 'clf__estimator__gamma': 0.01, 'tf__use_idf': False, 'lda__learning_method': 'online', 'lda__n_components': 10, 'clf__estimator__kernel': 'rbf', 'lda__max_iter': 5, 'tf__norm': 'l2', 'clf__estimator__C': 10}\n",
      "\n",
      "training F1: 0.0038022813688212928\n",
      "validation F1: 0.0035001750087504373\n",
      "grid: {'norm__norm': 'l2', 'clf__estimator__gamma': 0.01, 'tf__use_idf': False, 'lda__learning_method': 'online', 'lda__n_components': 10, 'clf__estimator__kernel': 'rbf', 'lda__max_iter': 5, 'tf__norm': None, 'clf__estimator__C': 10}\n",
      "\n"
     ]
    },
    {
     "name": "stderr",
     "output_type": "stream",
     "text": [
      "/home/felipe/tf-venv3/lib/python3.5/site-packages/sklearn/metrics/classification.py:1135: UndefinedMetricWarning: F-score is ill-defined and being set to 0.0 due to no predicted samples.\n",
      "  'precision', 'predicted', average, warn_for)\n"
     ]
    },
    {
     "name": "stdout",
     "output_type": "stream",
     "text": [
      "training F1: 0.0\n",
      "validation F1: 0.0\n",
      "grid: {'norm__norm': 'l2', 'clf__estimator__gamma': 0.01, 'tf__use_idf': False, 'lda__learning_method': 'online', 'lda__n_components': 20, 'clf__estimator__kernel': 'rbf', 'lda__max_iter': 5, 'tf__norm': 'l1', 'clf__estimator__C': 10}\n",
      "\n",
      "training F1: 0.004284887087434858\n",
      "validation F1: 0.0011374407582938387\n",
      "grid: {'norm__norm': 'l2', 'clf__estimator__gamma': 0.01, 'tf__use_idf': False, 'lda__learning_method': 'online', 'lda__n_components': 20, 'clf__estimator__kernel': 'rbf', 'lda__max_iter': 5, 'tf__norm': 'l2', 'clf__estimator__C': 10}\n",
      "\n",
      "training F1: 0.0042405324224041455\n",
      "validation F1: 0.003231597845601436\n",
      "grid: {'norm__norm': 'l2', 'clf__estimator__gamma': 0.01, 'tf__use_idf': False, 'lda__learning_method': 'online', 'lda__n_components': 20, 'clf__estimator__kernel': 'rbf', 'lda__max_iter': 5, 'tf__norm': None, 'clf__estimator__C': 10}\n",
      "\n"
     ]
    },
    {
     "name": "stderr",
     "output_type": "stream",
     "text": [
      "/home/felipe/tf-venv3/lib/python3.5/site-packages/sklearn/metrics/classification.py:1135: UndefinedMetricWarning: F-score is ill-defined and being set to 0.0 due to no predicted samples.\n",
      "  'precision', 'predicted', average, warn_for)\n"
     ]
    },
    {
     "name": "stdout",
     "output_type": "stream",
     "text": [
      "training F1: 0.0\n",
      "validation F1: 0.0\n",
      "grid: {'norm__norm': 'l2', 'clf__estimator__gamma': 0.01, 'tf__use_idf': False, 'lda__learning_method': 'online', 'lda__n_components': 2, 'clf__estimator__kernel': 'rbf', 'lda__max_iter': 10, 'tf__norm': 'l1', 'clf__estimator__C': 10}\n",
      "\n"
     ]
    },
    {
     "name": "stderr",
     "output_type": "stream",
     "text": [
      "/home/felipe/tf-venv3/lib/python3.5/site-packages/sklearn/metrics/classification.py:1135: UndefinedMetricWarning: F-score is ill-defined and being set to 0.0 due to no predicted samples.\n",
      "  'precision', 'predicted', average, warn_for)\n"
     ]
    },
    {
     "name": "stdout",
     "output_type": "stream",
     "text": [
      "training F1: 0.0\n",
      "validation F1: 0.0\n",
      "grid: {'norm__norm': 'l2', 'clf__estimator__gamma': 0.01, 'tf__use_idf': False, 'lda__learning_method': 'online', 'lda__n_components': 2, 'clf__estimator__kernel': 'rbf', 'lda__max_iter': 10, 'tf__norm': 'l2', 'clf__estimator__C': 10}\n",
      "\n"
     ]
    },
    {
     "name": "stderr",
     "output_type": "stream",
     "text": [
      "/home/felipe/tf-venv3/lib/python3.5/site-packages/sklearn/metrics/classification.py:1135: UndefinedMetricWarning: F-score is ill-defined and being set to 0.0 due to no predicted samples.\n",
      "  'precision', 'predicted', average, warn_for)\n"
     ]
    },
    {
     "name": "stdout",
     "output_type": "stream",
     "text": [
      "training F1: 0.0\n",
      "validation F1: 0.0\n",
      "grid: {'norm__norm': 'l2', 'clf__estimator__gamma': 0.01, 'tf__use_idf': False, 'lda__learning_method': 'online', 'lda__n_components': 2, 'clf__estimator__kernel': 'rbf', 'lda__max_iter': 10, 'tf__norm': None, 'clf__estimator__C': 10}\n",
      "\n"
     ]
    },
    {
     "name": "stderr",
     "output_type": "stream",
     "text": [
      "/home/felipe/tf-venv3/lib/python3.5/site-packages/sklearn/metrics/classification.py:1135: UndefinedMetricWarning: F-score is ill-defined and being set to 0.0 due to no predicted samples.\n",
      "  'precision', 'predicted', average, warn_for)\n"
     ]
    },
    {
     "name": "stdout",
     "output_type": "stream",
     "text": [
      "training F1: 0.0\n",
      "validation F1: 0.0\n",
      "grid: {'norm__norm': 'l2', 'clf__estimator__gamma': 0.01, 'tf__use_idf': False, 'lda__learning_method': 'online', 'lda__n_components': 5, 'clf__estimator__kernel': 'rbf', 'lda__max_iter': 10, 'tf__norm': 'l1', 'clf__estimator__C': 10}\n",
      "\n"
     ]
    },
    {
     "name": "stderr",
     "output_type": "stream",
     "text": [
      "/home/felipe/tf-venv3/lib/python3.5/site-packages/sklearn/metrics/classification.py:1135: UndefinedMetricWarning: F-score is ill-defined and being set to 0.0 due to no predicted samples.\n",
      "  'precision', 'predicted', average, warn_for)\n"
     ]
    },
    {
     "name": "stdout",
     "output_type": "stream",
     "text": [
      "training F1: 0.0\n",
      "validation F1: 0.0\n",
      "grid: {'norm__norm': 'l2', 'clf__estimator__gamma': 0.01, 'tf__use_idf': False, 'lda__learning_method': 'online', 'lda__n_components': 5, 'clf__estimator__kernel': 'rbf', 'lda__max_iter': 10, 'tf__norm': 'l2', 'clf__estimator__C': 10}\n",
      "\n"
     ]
    },
    {
     "name": "stderr",
     "output_type": "stream",
     "text": [
      "/home/felipe/tf-venv3/lib/python3.5/site-packages/sklearn/metrics/classification.py:1135: UndefinedMetricWarning: F-score is ill-defined and being set to 0.0 due to no predicted samples.\n",
      "  'precision', 'predicted', average, warn_for)\n"
     ]
    },
    {
     "name": "stdout",
     "output_type": "stream",
     "text": [
      "training F1: 0.0\n",
      "validation F1: 0.0\n",
      "grid: {'norm__norm': 'l2', 'clf__estimator__gamma': 0.01, 'tf__use_idf': False, 'lda__learning_method': 'online', 'lda__n_components': 5, 'clf__estimator__kernel': 'rbf', 'lda__max_iter': 10, 'tf__norm': None, 'clf__estimator__C': 10}\n",
      "\n"
     ]
    },
    {
     "name": "stderr",
     "output_type": "stream",
     "text": [
      "/home/felipe/tf-venv3/lib/python3.5/site-packages/sklearn/metrics/classification.py:1135: UndefinedMetricWarning: F-score is ill-defined and being set to 0.0 due to no predicted samples.\n",
      "  'precision', 'predicted', average, warn_for)\n"
     ]
    },
    {
     "name": "stdout",
     "output_type": "stream",
     "text": [
      "training F1: 0.0\n",
      "validation F1: 0.0\n",
      "grid: {'norm__norm': 'l2', 'clf__estimator__gamma': 0.01, 'tf__use_idf': False, 'lda__learning_method': 'online', 'lda__n_components': 10, 'clf__estimator__kernel': 'rbf', 'lda__max_iter': 10, 'tf__norm': 'l1', 'clf__estimator__C': 10}\n",
      "\n",
      "training F1: 0.0005946363798537195\n",
      "validation F1: 0.0\n",
      "grid: {'norm__norm': 'l2', 'clf__estimator__gamma': 0.01, 'tf__use_idf': False, 'lda__learning_method': 'online', 'lda__n_components': 10, 'clf__estimator__kernel': 'rbf', 'lda__max_iter': 10, 'tf__norm': 'l2', 'clf__estimator__C': 10}\n",
      "\n",
      "training F1: 0.004497839853228384\n",
      "validation F1: 0.002829854969932791\n",
      "grid: {'norm__norm': 'l2', 'clf__estimator__gamma': 0.01, 'tf__use_idf': False, 'lda__learning_method': 'online', 'lda__n_components': 10, 'clf__estimator__kernel': 'rbf', 'lda__max_iter': 10, 'tf__norm': None, 'clf__estimator__C': 10}\n",
      "\n"
     ]
    },
    {
     "name": "stderr",
     "output_type": "stream",
     "text": [
      "/home/felipe/tf-venv3/lib/python3.5/site-packages/sklearn/metrics/classification.py:1135: UndefinedMetricWarning: F-score is ill-defined and being set to 0.0 due to no predicted samples.\n",
      "  'precision', 'predicted', average, warn_for)\n"
     ]
    },
    {
     "name": "stdout",
     "output_type": "stream",
     "text": [
      "training F1: 0.0\n",
      "validation F1: 0.0\n",
      "grid: {'norm__norm': 'l2', 'clf__estimator__gamma': 0.01, 'tf__use_idf': False, 'lda__learning_method': 'online', 'lda__n_components': 20, 'clf__estimator__kernel': 'rbf', 'lda__max_iter': 10, 'tf__norm': 'l1', 'clf__estimator__C': 10}\n",
      "\n"
     ]
    },
    {
     "name": "stderr",
     "output_type": "stream",
     "text": [
      "/home/felipe/tf-venv3/lib/python3.5/site-packages/sklearn/metrics/classification.py:1135: UndefinedMetricWarning: F-score is ill-defined and being set to 0.0 due to no predicted samples.\n",
      "  'precision', 'predicted', average, warn_for)\n"
     ]
    },
    {
     "name": "stdout",
     "output_type": "stream",
     "text": [
      "training F1: 0.0\n",
      "validation F1: 0.0\n",
      "grid: {'norm__norm': 'l2', 'clf__estimator__gamma': 0.01, 'tf__use_idf': False, 'lda__learning_method': 'online', 'lda__n_components': 20, 'clf__estimator__kernel': 'rbf', 'lda__max_iter': 10, 'tf__norm': 'l2', 'clf__estimator__C': 10}\n",
      "\n",
      "training F1: 0.0046387154326494205\n",
      "validation F1: 0.0020927799093128706\n",
      "grid: {'norm__norm': 'l2', 'clf__estimator__gamma': 0.01, 'tf__use_idf': False, 'lda__learning_method': 'online', 'lda__n_components': 20, 'clf__estimator__kernel': 'rbf', 'lda__max_iter': 10, 'tf__norm': None, 'clf__estimator__C': 10}\n",
      "\n"
     ]
    },
    {
     "name": "stderr",
     "output_type": "stream",
     "text": [
      "/home/felipe/tf-venv3/lib/python3.5/site-packages/sklearn/metrics/classification.py:1135: UndefinedMetricWarning: F-score is ill-defined and being set to 0.0 due to no predicted samples.\n",
      "  'precision', 'predicted', average, warn_for)\n"
     ]
    },
    {
     "name": "stdout",
     "output_type": "stream",
     "text": [
      "training F1: 0.0\n",
      "validation F1: 0.0\n",
      "grid: {'norm__norm': 'l2', 'clf__estimator__gamma': 0.001, 'tf__use_idf': False, 'lda__learning_method': 'online', 'lda__n_components': 2, 'clf__estimator__kernel': 'rbf', 'lda__max_iter': 5, 'tf__norm': 'l1', 'clf__estimator__C': 10}\n",
      "\n"
     ]
    },
    {
     "name": "stderr",
     "output_type": "stream",
     "text": [
      "/home/felipe/tf-venv3/lib/python3.5/site-packages/sklearn/metrics/classification.py:1135: UndefinedMetricWarning: F-score is ill-defined and being set to 0.0 due to no predicted samples.\n",
      "  'precision', 'predicted', average, warn_for)\n"
     ]
    },
    {
     "name": "stdout",
     "output_type": "stream",
     "text": [
      "training F1: 0.0\n",
      "validation F1: 0.0\n",
      "grid: {'norm__norm': 'l2', 'clf__estimator__gamma': 0.001, 'tf__use_idf': False, 'lda__learning_method': 'online', 'lda__n_components': 2, 'clf__estimator__kernel': 'rbf', 'lda__max_iter': 5, 'tf__norm': 'l2', 'clf__estimator__C': 10}\n",
      "\n"
     ]
    },
    {
     "name": "stderr",
     "output_type": "stream",
     "text": [
      "/home/felipe/tf-venv3/lib/python3.5/site-packages/sklearn/metrics/classification.py:1135: UndefinedMetricWarning: F-score is ill-defined and being set to 0.0 due to no predicted samples.\n",
      "  'precision', 'predicted', average, warn_for)\n"
     ]
    },
    {
     "name": "stdout",
     "output_type": "stream",
     "text": [
      "training F1: 0.0\n",
      "validation F1: 0.0\n",
      "grid: {'norm__norm': 'l2', 'clf__estimator__gamma': 0.001, 'tf__use_idf': False, 'lda__learning_method': 'online', 'lda__n_components': 2, 'clf__estimator__kernel': 'rbf', 'lda__max_iter': 5, 'tf__norm': None, 'clf__estimator__C': 10}\n",
      "\n"
     ]
    },
    {
     "name": "stderr",
     "output_type": "stream",
     "text": [
      "/home/felipe/tf-venv3/lib/python3.5/site-packages/sklearn/metrics/classification.py:1135: UndefinedMetricWarning: F-score is ill-defined and being set to 0.0 due to no predicted samples.\n",
      "  'precision', 'predicted', average, warn_for)\n"
     ]
    },
    {
     "name": "stdout",
     "output_type": "stream",
     "text": [
      "training F1: 0.0\n",
      "validation F1: 0.0\n",
      "grid: {'norm__norm': 'l2', 'clf__estimator__gamma': 0.001, 'tf__use_idf': False, 'lda__learning_method': 'online', 'lda__n_components': 5, 'clf__estimator__kernel': 'rbf', 'lda__max_iter': 5, 'tf__norm': 'l1', 'clf__estimator__C': 10}\n",
      "\n"
     ]
    },
    {
     "name": "stderr",
     "output_type": "stream",
     "text": [
      "/home/felipe/tf-venv3/lib/python3.5/site-packages/sklearn/metrics/classification.py:1135: UndefinedMetricWarning: F-score is ill-defined and being set to 0.0 due to no predicted samples.\n",
      "  'precision', 'predicted', average, warn_for)\n"
     ]
    },
    {
     "name": "stdout",
     "output_type": "stream",
     "text": [
      "training F1: 0.0\n",
      "validation F1: 0.0\n",
      "grid: {'norm__norm': 'l2', 'clf__estimator__gamma': 0.001, 'tf__use_idf': False, 'lda__learning_method': 'online', 'lda__n_components': 5, 'clf__estimator__kernel': 'rbf', 'lda__max_iter': 5, 'tf__norm': 'l2', 'clf__estimator__C': 10}\n",
      "\n"
     ]
    },
    {
     "name": "stderr",
     "output_type": "stream",
     "text": [
      "/home/felipe/tf-venv3/lib/python3.5/site-packages/sklearn/metrics/classification.py:1135: UndefinedMetricWarning: F-score is ill-defined and being set to 0.0 due to no predicted samples.\n",
      "  'precision', 'predicted', average, warn_for)\n"
     ]
    },
    {
     "name": "stdout",
     "output_type": "stream",
     "text": [
      "training F1: 0.0\n",
      "validation F1: 0.0\n",
      "grid: {'norm__norm': 'l2', 'clf__estimator__gamma': 0.001, 'tf__use_idf': False, 'lda__learning_method': 'online', 'lda__n_components': 5, 'clf__estimator__kernel': 'rbf', 'lda__max_iter': 5, 'tf__norm': None, 'clf__estimator__C': 10}\n",
      "\n"
     ]
    },
    {
     "name": "stderr",
     "output_type": "stream",
     "text": [
      "/home/felipe/tf-venv3/lib/python3.5/site-packages/sklearn/metrics/classification.py:1135: UndefinedMetricWarning: F-score is ill-defined and being set to 0.0 due to no predicted samples.\n",
      "  'precision', 'predicted', average, warn_for)\n"
     ]
    },
    {
     "name": "stdout",
     "output_type": "stream",
     "text": [
      "training F1: 0.0\n",
      "validation F1: 0.0\n",
      "grid: {'norm__norm': 'l2', 'clf__estimator__gamma': 0.001, 'tf__use_idf': False, 'lda__learning_method': 'online', 'lda__n_components': 10, 'clf__estimator__kernel': 'rbf', 'lda__max_iter': 5, 'tf__norm': 'l1', 'clf__estimator__C': 10}\n",
      "\n"
     ]
    },
    {
     "name": "stderr",
     "output_type": "stream",
     "text": [
      "/home/felipe/tf-venv3/lib/python3.5/site-packages/sklearn/metrics/classification.py:1135: UndefinedMetricWarning: F-score is ill-defined and being set to 0.0 due to no predicted samples.\n",
      "  'precision', 'predicted', average, warn_for)\n"
     ]
    },
    {
     "name": "stdout",
     "output_type": "stream",
     "text": [
      "training F1: 0.0\n",
      "validation F1: 0.0\n",
      "grid: {'norm__norm': 'l2', 'clf__estimator__gamma': 0.001, 'tf__use_idf': False, 'lda__learning_method': 'online', 'lda__n_components': 10, 'clf__estimator__kernel': 'rbf', 'lda__max_iter': 5, 'tf__norm': 'l2', 'clf__estimator__C': 10}\n",
      "\n"
     ]
    },
    {
     "name": "stderr",
     "output_type": "stream",
     "text": [
      "/home/felipe/tf-venv3/lib/python3.5/site-packages/sklearn/metrics/classification.py:1135: UndefinedMetricWarning: F-score is ill-defined and being set to 0.0 due to no predicted samples.\n",
      "  'precision', 'predicted', average, warn_for)\n"
     ]
    },
    {
     "name": "stdout",
     "output_type": "stream",
     "text": [
      "training F1: 0.0\n",
      "validation F1: 0.0\n",
      "grid: {'norm__norm': 'l2', 'clf__estimator__gamma': 0.001, 'tf__use_idf': False, 'lda__learning_method': 'online', 'lda__n_components': 10, 'clf__estimator__kernel': 'rbf', 'lda__max_iter': 5, 'tf__norm': None, 'clf__estimator__C': 10}\n",
      "\n"
     ]
    },
    {
     "name": "stderr",
     "output_type": "stream",
     "text": [
      "/home/felipe/tf-venv3/lib/python3.5/site-packages/sklearn/metrics/classification.py:1135: UndefinedMetricWarning: F-score is ill-defined and being set to 0.0 due to no predicted samples.\n",
      "  'precision', 'predicted', average, warn_for)\n"
     ]
    },
    {
     "name": "stdout",
     "output_type": "stream",
     "text": [
      "training F1: 0.0\n",
      "validation F1: 0.0\n",
      "grid: {'norm__norm': 'l2', 'clf__estimator__gamma': 0.001, 'tf__use_idf': False, 'lda__learning_method': 'online', 'lda__n_components': 20, 'clf__estimator__kernel': 'rbf', 'lda__max_iter': 5, 'tf__norm': 'l1', 'clf__estimator__C': 10}\n",
      "\n"
     ]
    },
    {
     "name": "stderr",
     "output_type": "stream",
     "text": [
      "/home/felipe/tf-venv3/lib/python3.5/site-packages/sklearn/metrics/classification.py:1135: UndefinedMetricWarning: F-score is ill-defined and being set to 0.0 due to no predicted samples.\n",
      "  'precision', 'predicted', average, warn_for)\n"
     ]
    },
    {
     "name": "stdout",
     "output_type": "stream",
     "text": [
      "training F1: 0.0\n",
      "validation F1: 0.0\n",
      "grid: {'norm__norm': 'l2', 'clf__estimator__gamma': 0.001, 'tf__use_idf': False, 'lda__learning_method': 'online', 'lda__n_components': 20, 'clf__estimator__kernel': 'rbf', 'lda__max_iter': 5, 'tf__norm': 'l2', 'clf__estimator__C': 10}\n",
      "\n"
     ]
    },
    {
     "name": "stderr",
     "output_type": "stream",
     "text": [
      "/home/felipe/tf-venv3/lib/python3.5/site-packages/sklearn/metrics/classification.py:1135: UndefinedMetricWarning: F-score is ill-defined and being set to 0.0 due to no predicted samples.\n",
      "  'precision', 'predicted', average, warn_for)\n"
     ]
    },
    {
     "name": "stdout",
     "output_type": "stream",
     "text": [
      "training F1: 0.0\n",
      "validation F1: 0.0\n",
      "grid: {'norm__norm': 'l2', 'clf__estimator__gamma': 0.001, 'tf__use_idf': False, 'lda__learning_method': 'online', 'lda__n_components': 20, 'clf__estimator__kernel': 'rbf', 'lda__max_iter': 5, 'tf__norm': None, 'clf__estimator__C': 10}\n",
      "\n"
     ]
    },
    {
     "name": "stderr",
     "output_type": "stream",
     "text": [
      "/home/felipe/tf-venv3/lib/python3.5/site-packages/sklearn/metrics/classification.py:1135: UndefinedMetricWarning: F-score is ill-defined and being set to 0.0 due to no predicted samples.\n",
      "  'precision', 'predicted', average, warn_for)\n"
     ]
    },
    {
     "name": "stdout",
     "output_type": "stream",
     "text": [
      "training F1: 0.0\n",
      "validation F1: 0.0\n",
      "grid: {'norm__norm': 'l2', 'clf__estimator__gamma': 0.001, 'tf__use_idf': False, 'lda__learning_method': 'online', 'lda__n_components': 2, 'clf__estimator__kernel': 'rbf', 'lda__max_iter': 10, 'tf__norm': 'l1', 'clf__estimator__C': 10}\n",
      "\n"
     ]
    },
    {
     "name": "stderr",
     "output_type": "stream",
     "text": [
      "/home/felipe/tf-venv3/lib/python3.5/site-packages/sklearn/metrics/classification.py:1135: UndefinedMetricWarning: F-score is ill-defined and being set to 0.0 due to no predicted samples.\n",
      "  'precision', 'predicted', average, warn_for)\n"
     ]
    },
    {
     "name": "stdout",
     "output_type": "stream",
     "text": [
      "training F1: 0.0\n",
      "validation F1: 0.0\n",
      "grid: {'norm__norm': 'l2', 'clf__estimator__gamma': 0.001, 'tf__use_idf': False, 'lda__learning_method': 'online', 'lda__n_components': 2, 'clf__estimator__kernel': 'rbf', 'lda__max_iter': 10, 'tf__norm': 'l2', 'clf__estimator__C': 10}\n",
      "\n"
     ]
    },
    {
     "name": "stderr",
     "output_type": "stream",
     "text": [
      "/home/felipe/tf-venv3/lib/python3.5/site-packages/sklearn/metrics/classification.py:1135: UndefinedMetricWarning: F-score is ill-defined and being set to 0.0 due to no predicted samples.\n",
      "  'precision', 'predicted', average, warn_for)\n"
     ]
    },
    {
     "name": "stdout",
     "output_type": "stream",
     "text": [
      "training F1: 0.0\n",
      "validation F1: 0.0\n",
      "grid: {'norm__norm': 'l2', 'clf__estimator__gamma': 0.001, 'tf__use_idf': False, 'lda__learning_method': 'online', 'lda__n_components': 2, 'clf__estimator__kernel': 'rbf', 'lda__max_iter': 10, 'tf__norm': None, 'clf__estimator__C': 10}\n",
      "\n"
     ]
    },
    {
     "name": "stderr",
     "output_type": "stream",
     "text": [
      "/home/felipe/tf-venv3/lib/python3.5/site-packages/sklearn/metrics/classification.py:1135: UndefinedMetricWarning: F-score is ill-defined and being set to 0.0 due to no predicted samples.\n",
      "  'precision', 'predicted', average, warn_for)\n"
     ]
    },
    {
     "name": "stdout",
     "output_type": "stream",
     "text": [
      "training F1: 0.0\n",
      "validation F1: 0.0\n",
      "grid: {'norm__norm': 'l2', 'clf__estimator__gamma': 0.001, 'tf__use_idf': False, 'lda__learning_method': 'online', 'lda__n_components': 5, 'clf__estimator__kernel': 'rbf', 'lda__max_iter': 10, 'tf__norm': 'l1', 'clf__estimator__C': 10}\n",
      "\n"
     ]
    },
    {
     "name": "stderr",
     "output_type": "stream",
     "text": [
      "/home/felipe/tf-venv3/lib/python3.5/site-packages/sklearn/metrics/classification.py:1135: UndefinedMetricWarning: F-score is ill-defined and being set to 0.0 due to no predicted samples.\n",
      "  'precision', 'predicted', average, warn_for)\n"
     ]
    },
    {
     "name": "stdout",
     "output_type": "stream",
     "text": [
      "training F1: 0.0\n",
      "validation F1: 0.0\n",
      "grid: {'norm__norm': 'l2', 'clf__estimator__gamma': 0.001, 'tf__use_idf': False, 'lda__learning_method': 'online', 'lda__n_components': 5, 'clf__estimator__kernel': 'rbf', 'lda__max_iter': 10, 'tf__norm': 'l2', 'clf__estimator__C': 10}\n",
      "\n"
     ]
    },
    {
     "name": "stderr",
     "output_type": "stream",
     "text": [
      "/home/felipe/tf-venv3/lib/python3.5/site-packages/sklearn/metrics/classification.py:1135: UndefinedMetricWarning: F-score is ill-defined and being set to 0.0 due to no predicted samples.\n",
      "  'precision', 'predicted', average, warn_for)\n"
     ]
    },
    {
     "name": "stdout",
     "output_type": "stream",
     "text": [
      "training F1: 0.0\n",
      "validation F1: 0.0\n",
      "grid: {'norm__norm': 'l2', 'clf__estimator__gamma': 0.001, 'tf__use_idf': False, 'lda__learning_method': 'online', 'lda__n_components': 5, 'clf__estimator__kernel': 'rbf', 'lda__max_iter': 10, 'tf__norm': None, 'clf__estimator__C': 10}\n",
      "\n"
     ]
    },
    {
     "name": "stderr",
     "output_type": "stream",
     "text": [
      "/home/felipe/tf-venv3/lib/python3.5/site-packages/sklearn/metrics/classification.py:1135: UndefinedMetricWarning: F-score is ill-defined and being set to 0.0 due to no predicted samples.\n",
      "  'precision', 'predicted', average, warn_for)\n"
     ]
    },
    {
     "name": "stdout",
     "output_type": "stream",
     "text": [
      "training F1: 0.0\n",
      "validation F1: 0.0\n",
      "grid: {'norm__norm': 'l2', 'clf__estimator__gamma': 0.001, 'tf__use_idf': False, 'lda__learning_method': 'online', 'lda__n_components': 10, 'clf__estimator__kernel': 'rbf', 'lda__max_iter': 10, 'tf__norm': 'l1', 'clf__estimator__C': 10}\n",
      "\n"
     ]
    },
    {
     "name": "stderr",
     "output_type": "stream",
     "text": [
      "/home/felipe/tf-venv3/lib/python3.5/site-packages/sklearn/metrics/classification.py:1135: UndefinedMetricWarning: F-score is ill-defined and being set to 0.0 due to no predicted samples.\n",
      "  'precision', 'predicted', average, warn_for)\n"
     ]
    },
    {
     "name": "stdout",
     "output_type": "stream",
     "text": [
      "training F1: 0.0\n",
      "validation F1: 0.0\n",
      "grid: {'norm__norm': 'l2', 'clf__estimator__gamma': 0.001, 'tf__use_idf': False, 'lda__learning_method': 'online', 'lda__n_components': 10, 'clf__estimator__kernel': 'rbf', 'lda__max_iter': 10, 'tf__norm': 'l2', 'clf__estimator__C': 10}\n",
      "\n"
     ]
    },
    {
     "name": "stderr",
     "output_type": "stream",
     "text": [
      "/home/felipe/tf-venv3/lib/python3.5/site-packages/sklearn/metrics/classification.py:1135: UndefinedMetricWarning: F-score is ill-defined and being set to 0.0 due to no predicted samples.\n",
      "  'precision', 'predicted', average, warn_for)\n"
     ]
    },
    {
     "name": "stdout",
     "output_type": "stream",
     "text": [
      "training F1: 0.0\n",
      "validation F1: 0.0\n",
      "grid: {'norm__norm': 'l2', 'clf__estimator__gamma': 0.001, 'tf__use_idf': False, 'lda__learning_method': 'online', 'lda__n_components': 10, 'clf__estimator__kernel': 'rbf', 'lda__max_iter': 10, 'tf__norm': None, 'clf__estimator__C': 10}\n",
      "\n"
     ]
    },
    {
     "name": "stderr",
     "output_type": "stream",
     "text": [
      "/home/felipe/tf-venv3/lib/python3.5/site-packages/sklearn/metrics/classification.py:1135: UndefinedMetricWarning: F-score is ill-defined and being set to 0.0 due to no predicted samples.\n",
      "  'precision', 'predicted', average, warn_for)\n"
     ]
    },
    {
     "name": "stdout",
     "output_type": "stream",
     "text": [
      "training F1: 0.0\n",
      "validation F1: 0.0\n",
      "grid: {'norm__norm': 'l2', 'clf__estimator__gamma': 0.001, 'tf__use_idf': False, 'lda__learning_method': 'online', 'lda__n_components': 20, 'clf__estimator__kernel': 'rbf', 'lda__max_iter': 10, 'tf__norm': 'l1', 'clf__estimator__C': 10}\n",
      "\n"
     ]
    },
    {
     "name": "stderr",
     "output_type": "stream",
     "text": [
      "/home/felipe/tf-venv3/lib/python3.5/site-packages/sklearn/metrics/classification.py:1135: UndefinedMetricWarning: F-score is ill-defined and being set to 0.0 due to no predicted samples.\n",
      "  'precision', 'predicted', average, warn_for)\n"
     ]
    },
    {
     "name": "stdout",
     "output_type": "stream",
     "text": [
      "training F1: 0.0\n",
      "validation F1: 0.0\n",
      "grid: {'norm__norm': 'l2', 'clf__estimator__gamma': 0.001, 'tf__use_idf': False, 'lda__learning_method': 'online', 'lda__n_components': 20, 'clf__estimator__kernel': 'rbf', 'lda__max_iter': 10, 'tf__norm': 'l2', 'clf__estimator__C': 10}\n",
      "\n"
     ]
    },
    {
     "name": "stderr",
     "output_type": "stream",
     "text": [
      "/home/felipe/tf-venv3/lib/python3.5/site-packages/sklearn/metrics/classification.py:1135: UndefinedMetricWarning: F-score is ill-defined and being set to 0.0 due to no predicted samples.\n",
      "  'precision', 'predicted', average, warn_for)\n"
     ]
    },
    {
     "name": "stdout",
     "output_type": "stream",
     "text": [
      "training F1: 0.0\n",
      "validation F1: 0.0\n",
      "grid: {'norm__norm': 'l2', 'clf__estimator__gamma': 0.001, 'tf__use_idf': False, 'lda__learning_method': 'online', 'lda__n_components': 20, 'clf__estimator__kernel': 'rbf', 'lda__max_iter': 10, 'tf__norm': None, 'clf__estimator__C': 10}\n",
      "\n"
     ]
    },
    {
     "name": "stderr",
     "output_type": "stream",
     "text": [
      "/home/felipe/tf-venv3/lib/python3.5/site-packages/sklearn/metrics/classification.py:1135: UndefinedMetricWarning: F-score is ill-defined and being set to 0.0 due to no predicted samples.\n",
      "  'precision', 'predicted', average, warn_for)\n"
     ]
    },
    {
     "name": "stdout",
     "output_type": "stream",
     "text": [
      "training F1: 0.0\n",
      "validation F1: 0.0\n",
      "grid: {'norm__norm': 'l2', 'clf__estimator__gamma': 0.1, 'tf__use_idf': False, 'lda__learning_method': 'online', 'lda__n_components': 2, 'clf__estimator__kernel': 'rbf', 'lda__max_iter': 5, 'tf__norm': 'l1', 'clf__estimator__C': 100}\n",
      "\n"
     ]
    },
    {
     "name": "stderr",
     "output_type": "stream",
     "text": [
      "/home/felipe/tf-venv3/lib/python3.5/site-packages/sklearn/metrics/classification.py:1135: UndefinedMetricWarning: F-score is ill-defined and being set to 0.0 due to no predicted samples.\n",
      "  'precision', 'predicted', average, warn_for)\n"
     ]
    },
    {
     "name": "stdout",
     "output_type": "stream",
     "text": [
      "training F1: 0.0\n",
      "validation F1: 0.0\n",
      "grid: {'norm__norm': 'l2', 'clf__estimator__gamma': 0.1, 'tf__use_idf': False, 'lda__learning_method': 'online', 'lda__n_components': 2, 'clf__estimator__kernel': 'rbf', 'lda__max_iter': 5, 'tf__norm': 'l2', 'clf__estimator__C': 100}\n",
      "\n"
     ]
    },
    {
     "name": "stderr",
     "output_type": "stream",
     "text": [
      "/home/felipe/tf-venv3/lib/python3.5/site-packages/sklearn/metrics/classification.py:1135: UndefinedMetricWarning: F-score is ill-defined and being set to 0.0 due to no predicted samples.\n",
      "  'precision', 'predicted', average, warn_for)\n"
     ]
    },
    {
     "name": "stdout",
     "output_type": "stream",
     "text": [
      "training F1: 0.0\n",
      "validation F1: 0.0\n",
      "grid: {'norm__norm': 'l2', 'clf__estimator__gamma': 0.1, 'tf__use_idf': False, 'lda__learning_method': 'online', 'lda__n_components': 2, 'clf__estimator__kernel': 'rbf', 'lda__max_iter': 5, 'tf__norm': None, 'clf__estimator__C': 100}\n",
      "\n"
     ]
    },
    {
     "name": "stderr",
     "output_type": "stream",
     "text": [
      "/home/felipe/tf-venv3/lib/python3.5/site-packages/sklearn/metrics/classification.py:1135: UndefinedMetricWarning: F-score is ill-defined and being set to 0.0 due to no predicted samples.\n",
      "  'precision', 'predicted', average, warn_for)\n"
     ]
    },
    {
     "name": "stdout",
     "output_type": "stream",
     "text": [
      "training F1: 0.0019887693027608798\n",
      "validation F1: 0.0\n",
      "grid: {'norm__norm': 'l2', 'clf__estimator__gamma': 0.1, 'tf__use_idf': False, 'lda__learning_method': 'online', 'lda__n_components': 5, 'clf__estimator__kernel': 'rbf', 'lda__max_iter': 5, 'tf__norm': 'l1', 'clf__estimator__C': 100}\n",
      "\n",
      "training F1: 0.007207845917523337\n",
      "validation F1: 0.007063393960798164\n",
      "grid: {'norm__norm': 'l2', 'clf__estimator__gamma': 0.1, 'tf__use_idf': False, 'lda__learning_method': 'online', 'lda__n_components': 5, 'clf__estimator__kernel': 'rbf', 'lda__max_iter': 5, 'tf__norm': 'l2', 'clf__estimator__C': 100}\n",
      "\n"
     ]
    },
    {
     "name": "stderr",
     "output_type": "stream",
     "text": [
      "/home/felipe/tf-venv3/lib/python3.5/site-packages/sklearn/metrics/classification.py:1135: UndefinedMetricWarning: F-score is ill-defined and being set to 0.0 due to no predicted samples.\n",
      "  'precision', 'predicted', average, warn_for)\n"
     ]
    },
    {
     "name": "stdout",
     "output_type": "stream",
     "text": [
      "training F1: 0.0\n",
      "validation F1: 0.0\n",
      "grid: {'norm__norm': 'l2', 'clf__estimator__gamma': 0.1, 'tf__use_idf': False, 'lda__learning_method': 'online', 'lda__n_components': 5, 'clf__estimator__kernel': 'rbf', 'lda__max_iter': 5, 'tf__norm': None, 'clf__estimator__C': 100}\n",
      "\n",
      "training F1: 0.0051917404129793515\n",
      "validation F1: 0.00463871543264942\n",
      "grid: {'norm__norm': 'l2', 'clf__estimator__gamma': 0.1, 'tf__use_idf': False, 'lda__learning_method': 'online', 'lda__n_components': 10, 'clf__estimator__kernel': 'rbf', 'lda__max_iter': 5, 'tf__norm': 'l1', 'clf__estimator__C': 100}\n",
      "\n"
     ]
    },
    {
     "name": "stderr",
     "output_type": "stream",
     "text": [
      "/home/felipe/tf-venv3/lib/python3.5/site-packages/sklearn/metrics/classification.py:1135: UndefinedMetricWarning: F-score is ill-defined and being set to 0.0 due to no predicted samples.\n",
      "  'precision', 'predicted', average, warn_for)\n"
     ]
    },
    {
     "name": "stdout",
     "output_type": "stream",
     "text": [
      "training F1: 0.0028404047576779693\n",
      "validation F1: 0.0\n",
      "grid: {'norm__norm': 'l2', 'clf__estimator__gamma': 0.1, 'tf__use_idf': False, 'lda__learning_method': 'online', 'lda__n_components': 10, 'clf__estimator__kernel': 'rbf', 'lda__max_iter': 5, 'tf__norm': 'l2', 'clf__estimator__C': 100}\n",
      "\n",
      "training F1: 0.010889507013079246\n",
      "validation F1: 0.010739650095271091\n",
      "grid: {'norm__norm': 'l2', 'clf__estimator__gamma': 0.1, 'tf__use_idf': False, 'lda__learning_method': 'online', 'lda__n_components': 10, 'clf__estimator__kernel': 'rbf', 'lda__max_iter': 5, 'tf__norm': None, 'clf__estimator__C': 100}\n",
      "\n"
     ]
    },
    {
     "name": "stderr",
     "output_type": "stream",
     "text": [
      "/home/felipe/tf-venv3/lib/python3.5/site-packages/sklearn/metrics/classification.py:1135: UndefinedMetricWarning: F-score is ill-defined and being set to 0.0 due to no predicted samples.\n",
      "  'precision', 'predicted', average, warn_for)\n"
     ]
    },
    {
     "name": "stdout",
     "output_type": "stream",
     "text": [
      "training F1: 0.0035606195478013174\n",
      "validation F1: 0.0\n",
      "grid: {'norm__norm': 'l2', 'clf__estimator__gamma': 0.1, 'tf__use_idf': False, 'lda__learning_method': 'online', 'lda__n_components': 20, 'clf__estimator__kernel': 'rbf', 'lda__max_iter': 5, 'tf__norm': 'l1', 'clf__estimator__C': 100}\n",
      "\n",
      "training F1: 0.007464454976303318\n",
      "validation F1: 0.005970149253731344\n",
      "grid: {'norm__norm': 'l2', 'clf__estimator__gamma': 0.1, 'tf__use_idf': False, 'lda__learning_method': 'online', 'lda__n_components': 20, 'clf__estimator__kernel': 'rbf', 'lda__max_iter': 5, 'tf__norm': 'l2', 'clf__estimator__C': 100}\n",
      "\n",
      "training F1: 0.03146691346598796\n",
      "validation F1: 0.02818886539816772\n",
      "grid: {'norm__norm': 'l2', 'clf__estimator__gamma': 0.1, 'tf__use_idf': False, 'lda__learning_method': 'online', 'lda__n_components': 20, 'clf__estimator__kernel': 'rbf', 'lda__max_iter': 5, 'tf__norm': None, 'clf__estimator__C': 100}\n",
      "\n"
     ]
    },
    {
     "name": "stderr",
     "output_type": "stream",
     "text": [
      "/home/felipe/tf-venv3/lib/python3.5/site-packages/sklearn/metrics/classification.py:1135: UndefinedMetricWarning: F-score is ill-defined and being set to 0.0 due to no predicted samples.\n",
      "  'precision', 'predicted', average, warn_for)\n"
     ]
    },
    {
     "name": "stdout",
     "output_type": "stream",
     "text": [
      "training F1: 0.0\n",
      "validation F1: 0.0\n",
      "grid: {'norm__norm': 'l2', 'clf__estimator__gamma': 0.1, 'tf__use_idf': False, 'lda__learning_method': 'online', 'lda__n_components': 2, 'clf__estimator__kernel': 'rbf', 'lda__max_iter': 10, 'tf__norm': 'l1', 'clf__estimator__C': 100}\n",
      "\n"
     ]
    },
    {
     "name": "stderr",
     "output_type": "stream",
     "text": [
      "/home/felipe/tf-venv3/lib/python3.5/site-packages/sklearn/metrics/classification.py:1135: UndefinedMetricWarning: F-score is ill-defined and being set to 0.0 due to no predicted samples.\n",
      "  'precision', 'predicted', average, warn_for)\n"
     ]
    },
    {
     "name": "stdout",
     "output_type": "stream",
     "text": [
      "training F1: 0.0\n",
      "validation F1: 0.0\n",
      "grid: {'norm__norm': 'l2', 'clf__estimator__gamma': 0.1, 'tf__use_idf': False, 'lda__learning_method': 'online', 'lda__n_components': 2, 'clf__estimator__kernel': 'rbf', 'lda__max_iter': 10, 'tf__norm': 'l2', 'clf__estimator__C': 100}\n",
      "\n"
     ]
    },
    {
     "name": "stderr",
     "output_type": "stream",
     "text": [
      "/home/felipe/tf-venv3/lib/python3.5/site-packages/sklearn/metrics/classification.py:1135: UndefinedMetricWarning: F-score is ill-defined and being set to 0.0 due to no predicted samples.\n",
      "  'precision', 'predicted', average, warn_for)\n"
     ]
    },
    {
     "name": "stdout",
     "output_type": "stream",
     "text": [
      "training F1: 0.0\n",
      "validation F1: 0.0\n",
      "grid: {'norm__norm': 'l2', 'clf__estimator__gamma': 0.1, 'tf__use_idf': False, 'lda__learning_method': 'online', 'lda__n_components': 2, 'clf__estimator__kernel': 'rbf', 'lda__max_iter': 10, 'tf__norm': None, 'clf__estimator__C': 100}\n",
      "\n",
      "training F1: 0.005419415645617341\n",
      "validation F1: 0.0035880875493362035\n",
      "grid: {'norm__norm': 'l2', 'clf__estimator__gamma': 0.1, 'tf__use_idf': False, 'lda__learning_method': 'online', 'lda__n_components': 5, 'clf__estimator__kernel': 'rbf', 'lda__max_iter': 10, 'tf__norm': 'l1', 'clf__estimator__C': 100}\n",
      "\n",
      "training F1: 0.0061411278417478595\n",
      "validation F1: 0.007453416149068323\n",
      "grid: {'norm__norm': 'l2', 'clf__estimator__gamma': 0.1, 'tf__use_idf': False, 'lda__learning_method': 'online', 'lda__n_components': 5, 'clf__estimator__kernel': 'rbf', 'lda__max_iter': 10, 'tf__norm': 'l2', 'clf__estimator__C': 100}\n",
      "\n",
      "training F1: 0.006585249042145593\n",
      "validation F1: 0.006468085106382978\n",
      "grid: {'norm__norm': 'l2', 'clf__estimator__gamma': 0.1, 'tf__use_idf': False, 'lda__learning_method': 'online', 'lda__n_components': 5, 'clf__estimator__kernel': 'rbf', 'lda__max_iter': 10, 'tf__norm': None, 'clf__estimator__C': 100}\n",
      "\n",
      "training F1: 0.010630758327427357\n",
      "validation F1: 0.0052863436123348016\n",
      "grid: {'norm__norm': 'l2', 'clf__estimator__gamma': 0.1, 'tf__use_idf': False, 'lda__learning_method': 'online', 'lda__n_components': 10, 'clf__estimator__kernel': 'rbf', 'lda__max_iter': 10, 'tf__norm': 'l1', 'clf__estimator__C': 100}\n",
      "\n",
      "training F1: 0.0026922626711927892\n",
      "validation F1: 0.0\n",
      "grid: {'norm__norm': 'l2', 'clf__estimator__gamma': 0.1, 'tf__use_idf': False, 'lda__learning_method': 'online', 'lda__n_components': 10, 'clf__estimator__kernel': 'rbf', 'lda__max_iter': 10, 'tf__norm': 'l2', 'clf__estimator__C': 100}\n",
      "\n",
      "training F1: 0.00980392156862745\n",
      "validation F1: 0.006669006669006669\n",
      "grid: {'norm__norm': 'l2', 'clf__estimator__gamma': 0.1, 'tf__use_idf': False, 'lda__learning_method': 'online', 'lda__n_components': 10, 'clf__estimator__kernel': 'rbf', 'lda__max_iter': 10, 'tf__norm': None, 'clf__estimator__C': 100}\n",
      "\n",
      "training F1: 0.008294821661334282\n",
      "validation F1: 0.005592450192240476\n",
      "grid: {'norm__norm': 'l2', 'clf__estimator__gamma': 0.1, 'tf__use_idf': False, 'lda__learning_method': 'online', 'lda__n_components': 20, 'clf__estimator__kernel': 'rbf', 'lda__max_iter': 10, 'tf__norm': 'l1', 'clf__estimator__C': 100}\n",
      "\n",
      "training F1: 0.005616662766206413\n",
      "validation F1: 0.008026267785479753\n",
      "grid: {'norm__norm': 'l2', 'clf__estimator__gamma': 0.1, 'tf__use_idf': False, 'lda__learning_method': 'online', 'lda__n_components': 20, 'clf__estimator__kernel': 'rbf', 'lda__max_iter': 10, 'tf__norm': 'l2', 'clf__estimator__C': 100}\n",
      "\n",
      "training F1: 0.02400093207503204\n",
      "validation F1: 0.013805309734513277\n",
      "grid: {'norm__norm': 'l2', 'clf__estimator__gamma': 0.1, 'tf__use_idf': False, 'lda__learning_method': 'online', 'lda__n_components': 20, 'clf__estimator__kernel': 'rbf', 'lda__max_iter': 10, 'tf__norm': None, 'clf__estimator__C': 100}\n",
      "\n"
     ]
    },
    {
     "name": "stderr",
     "output_type": "stream",
     "text": [
      "/home/felipe/tf-venv3/lib/python3.5/site-packages/sklearn/metrics/classification.py:1135: UndefinedMetricWarning: F-score is ill-defined and being set to 0.0 due to no predicted samples.\n",
      "  'precision', 'predicted', average, warn_for)\n"
     ]
    },
    {
     "name": "stdout",
     "output_type": "stream",
     "text": [
      "training F1: 0.0\n",
      "validation F1: 0.0\n",
      "grid: {'norm__norm': 'l2', 'clf__estimator__gamma': 0.01, 'tf__use_idf': False, 'lda__learning_method': 'online', 'lda__n_components': 2, 'clf__estimator__kernel': 'rbf', 'lda__max_iter': 5, 'tf__norm': 'l1', 'clf__estimator__C': 100}\n",
      "\n"
     ]
    },
    {
     "name": "stderr",
     "output_type": "stream",
     "text": [
      "/home/felipe/tf-venv3/lib/python3.5/site-packages/sklearn/metrics/classification.py:1135: UndefinedMetricWarning: F-score is ill-defined and being set to 0.0 due to no predicted samples.\n",
      "  'precision', 'predicted', average, warn_for)\n"
     ]
    },
    {
     "name": "stdout",
     "output_type": "stream",
     "text": [
      "training F1: 0.0\n",
      "validation F1: 0.0\n",
      "grid: {'norm__norm': 'l2', 'clf__estimator__gamma': 0.01, 'tf__use_idf': False, 'lda__learning_method': 'online', 'lda__n_components': 2, 'clf__estimator__kernel': 'rbf', 'lda__max_iter': 5, 'tf__norm': 'l2', 'clf__estimator__C': 100}\n",
      "\n"
     ]
    },
    {
     "name": "stderr",
     "output_type": "stream",
     "text": [
      "/home/felipe/tf-venv3/lib/python3.5/site-packages/sklearn/metrics/classification.py:1135: UndefinedMetricWarning: F-score is ill-defined and being set to 0.0 due to no predicted samples.\n",
      "  'precision', 'predicted', average, warn_for)\n"
     ]
    },
    {
     "name": "stdout",
     "output_type": "stream",
     "text": [
      "training F1: 0.0\n",
      "validation F1: 0.0\n",
      "grid: {'norm__norm': 'l2', 'clf__estimator__gamma': 0.01, 'tf__use_idf': False, 'lda__learning_method': 'online', 'lda__n_components': 2, 'clf__estimator__kernel': 'rbf', 'lda__max_iter': 5, 'tf__norm': None, 'clf__estimator__C': 100}\n",
      "\n",
      "training F1: 0.004146428148323659\n",
      "validation F1: 0.002119392440833628\n",
      "grid: {'norm__norm': 'l2', 'clf__estimator__gamma': 0.01, 'tf__use_idf': False, 'lda__learning_method': 'online', 'lda__n_components': 5, 'clf__estimator__kernel': 'rbf', 'lda__max_iter': 5, 'tf__norm': 'l1', 'clf__estimator__C': 100}\n",
      "\n",
      "training F1: 0.0022381905995994818\n",
      "validation F1: 0.003615982643283312\n",
      "grid: {'norm__norm': 'l2', 'clf__estimator__gamma': 0.01, 'tf__use_idf': False, 'lda__learning_method': 'online', 'lda__n_components': 5, 'clf__estimator__kernel': 'rbf', 'lda__max_iter': 5, 'tf__norm': 'l2', 'clf__estimator__C': 100}\n",
      "\n"
     ]
    },
    {
     "name": "stderr",
     "output_type": "stream",
     "text": [
      "/home/felipe/tf-venv3/lib/python3.5/site-packages/sklearn/metrics/classification.py:1135: UndefinedMetricWarning: F-score is ill-defined and being set to 0.0 due to no predicted samples.\n",
      "  'precision', 'predicted', average, warn_for)\n"
     ]
    },
    {
     "name": "stdout",
     "output_type": "stream",
     "text": [
      "training F1: 0.0\n",
      "validation F1: 0.0\n",
      "grid: {'norm__norm': 'l2', 'clf__estimator__gamma': 0.01, 'tf__use_idf': False, 'lda__learning_method': 'online', 'lda__n_components': 5, 'clf__estimator__kernel': 'rbf', 'lda__max_iter': 5, 'tf__norm': None, 'clf__estimator__C': 100}\n",
      "\n",
      "training F1: 0.0031076316261280106\n",
      "validation F1: 0.0024129610479145126\n",
      "grid: {'norm__norm': 'l2', 'clf__estimator__gamma': 0.01, 'tf__use_idf': False, 'lda__learning_method': 'online', 'lda__n_components': 10, 'clf__estimator__kernel': 'rbf', 'lda__max_iter': 5, 'tf__norm': 'l1', 'clf__estimator__C': 100}\n",
      "\n",
      "training F1: 0.0048670465337132\n",
      "validation F1: 0.004563004563004563\n",
      "grid: {'norm__norm': 'l2', 'clf__estimator__gamma': 0.01, 'tf__use_idf': False, 'lda__learning_method': 'online', 'lda__n_components': 10, 'clf__estimator__kernel': 'rbf', 'lda__max_iter': 5, 'tf__norm': 'l2', 'clf__estimator__C': 100}\n",
      "\n",
      "training F1: 0.0036625708884688093\n",
      "validation F1: 0.005689900426742531\n",
      "grid: {'norm__norm': 'l2', 'clf__estimator__gamma': 0.01, 'tf__use_idf': False, 'lda__learning_method': 'online', 'lda__n_components': 10, 'clf__estimator__kernel': 'rbf', 'lda__max_iter': 5, 'tf__norm': None, 'clf__estimator__C': 100}\n",
      "\n"
     ]
    },
    {
     "name": "stderr",
     "output_type": "stream",
     "text": [
      "/home/felipe/tf-venv3/lib/python3.5/site-packages/sklearn/metrics/classification.py:1135: UndefinedMetricWarning: F-score is ill-defined and being set to 0.0 due to no predicted samples.\n",
      "  'precision', 'predicted', average, warn_for)\n"
     ]
    },
    {
     "name": "stdout",
     "output_type": "stream",
     "text": [
      "training F1: 0.0035585077990629263\n",
      "validation F1: 0.0\n",
      "grid: {'norm__norm': 'l2', 'clf__estimator__gamma': 0.01, 'tf__use_idf': False, 'lda__learning_method': 'online', 'lda__n_components': 20, 'clf__estimator__kernel': 'rbf', 'lda__max_iter': 5, 'tf__norm': 'l1', 'clf__estimator__C': 100}\n",
      "\n"
     ]
    },
    {
     "name": "stderr",
     "output_type": "stream",
     "text": [
      "/home/felipe/tf-venv3/lib/python3.5/site-packages/sklearn/metrics/classification.py:1135: UndefinedMetricWarning: F-score is ill-defined and being set to 0.0 due to no predicted samples.\n",
      "  'precision', 'predicted', average, warn_for)\n"
     ]
    },
    {
     "name": "stdout",
     "output_type": "stream",
     "text": [
      "training F1: 0.0\n",
      "validation F1: 0.0\n",
      "grid: {'norm__norm': 'l2', 'clf__estimator__gamma': 0.01, 'tf__use_idf': False, 'lda__learning_method': 'online', 'lda__n_components': 20, 'clf__estimator__kernel': 'rbf', 'lda__max_iter': 5, 'tf__norm': 'l2', 'clf__estimator__C': 100}\n",
      "\n",
      "training F1: 0.007021650087770625\n",
      "validation F1: 0.008337864781584194\n",
      "grid: {'norm__norm': 'l2', 'clf__estimator__gamma': 0.01, 'tf__use_idf': False, 'lda__learning_method': 'online', 'lda__n_components': 20, 'clf__estimator__kernel': 'rbf', 'lda__max_iter': 5, 'tf__norm': None, 'clf__estimator__C': 100}\n",
      "\n"
     ]
    },
    {
     "name": "stderr",
     "output_type": "stream",
     "text": [
      "/home/felipe/tf-venv3/lib/python3.5/site-packages/sklearn/metrics/classification.py:1135: UndefinedMetricWarning: F-score is ill-defined and being set to 0.0 due to no predicted samples.\n",
      "  'precision', 'predicted', average, warn_for)\n"
     ]
    },
    {
     "name": "stdout",
     "output_type": "stream",
     "text": [
      "training F1: 0.0\n",
      "validation F1: 0.0\n",
      "grid: {'norm__norm': 'l2', 'clf__estimator__gamma': 0.01, 'tf__use_idf': False, 'lda__learning_method': 'online', 'lda__n_components': 2, 'clf__estimator__kernel': 'rbf', 'lda__max_iter': 10, 'tf__norm': 'l1', 'clf__estimator__C': 100}\n",
      "\n"
     ]
    },
    {
     "name": "stderr",
     "output_type": "stream",
     "text": [
      "/home/felipe/tf-venv3/lib/python3.5/site-packages/sklearn/metrics/classification.py:1135: UndefinedMetricWarning: F-score is ill-defined and being set to 0.0 due to no predicted samples.\n",
      "  'precision', 'predicted', average, warn_for)\n"
     ]
    },
    {
     "name": "stdout",
     "output_type": "stream",
     "text": [
      "training F1: 0.0\n",
      "validation F1: 0.0\n",
      "grid: {'norm__norm': 'l2', 'clf__estimator__gamma': 0.01, 'tf__use_idf': False, 'lda__learning_method': 'online', 'lda__n_components': 2, 'clf__estimator__kernel': 'rbf', 'lda__max_iter': 10, 'tf__norm': 'l2', 'clf__estimator__C': 100}\n",
      "\n"
     ]
    },
    {
     "name": "stderr",
     "output_type": "stream",
     "text": [
      "/home/felipe/tf-venv3/lib/python3.5/site-packages/sklearn/metrics/classification.py:1135: UndefinedMetricWarning: F-score is ill-defined and being set to 0.0 due to no predicted samples.\n",
      "  'precision', 'predicted', average, warn_for)\n"
     ]
    },
    {
     "name": "stdout",
     "output_type": "stream",
     "text": [
      "training F1: 0.0\n",
      "validation F1: 0.0\n",
      "grid: {'norm__norm': 'l2', 'clf__estimator__gamma': 0.01, 'tf__use_idf': False, 'lda__learning_method': 'online', 'lda__n_components': 2, 'clf__estimator__kernel': 'rbf', 'lda__max_iter': 10, 'tf__norm': None, 'clf__estimator__C': 100}\n",
      "\n",
      "training F1: 0.005289450484866294\n",
      "validation F1: 0.0\n",
      "grid: {'norm__norm': 'l2', 'clf__estimator__gamma': 0.01, 'tf__use_idf': False, 'lda__learning_method': 'online', 'lda__n_components': 5, 'clf__estimator__kernel': 'rbf', 'lda__max_iter': 10, 'tf__norm': 'l1', 'clf__estimator__C': 100}\n",
      "\n",
      "training F1: 0.004984275796594078\n",
      "validation F1: 0.003156233561283535\n",
      "grid: {'norm__norm': 'l2', 'clf__estimator__gamma': 0.01, 'tf__use_idf': False, 'lda__learning_method': 'online', 'lda__n_components': 5, 'clf__estimator__kernel': 'rbf', 'lda__max_iter': 10, 'tf__norm': 'l2', 'clf__estimator__C': 100}\n",
      "\n"
     ]
    },
    {
     "name": "stderr",
     "output_type": "stream",
     "text": [
      "/home/felipe/tf-venv3/lib/python3.5/site-packages/sklearn/metrics/classification.py:1135: UndefinedMetricWarning: F-score is ill-defined and being set to 0.0 due to no predicted samples.\n",
      "  'precision', 'predicted', average, warn_for)\n"
     ]
    },
    {
     "name": "stdout",
     "output_type": "stream",
     "text": [
      "training F1: 0.0\n",
      "validation F1: 0.0\n",
      "grid: {'norm__norm': 'l2', 'clf__estimator__gamma': 0.01, 'tf__use_idf': False, 'lda__learning_method': 'online', 'lda__n_components': 5, 'clf__estimator__kernel': 'rbf', 'lda__max_iter': 10, 'tf__norm': None, 'clf__estimator__C': 100}\n",
      "\n",
      "training F1: 0.004606389889564755\n",
      "validation F1: 0.0003577177606868181\n",
      "grid: {'norm__norm': 'l2', 'clf__estimator__gamma': 0.01, 'tf__use_idf': False, 'lda__learning_method': 'online', 'lda__n_components': 10, 'clf__estimator__kernel': 'rbf', 'lda__max_iter': 10, 'tf__norm': 'l1', 'clf__estimator__C': 100}\n",
      "\n",
      "training F1: 0.006530231473383476\n",
      "validation F1: 0.0029536643898837\n",
      "grid: {'norm__norm': 'l2', 'clf__estimator__gamma': 0.01, 'tf__use_idf': False, 'lda__learning_method': 'online', 'lda__n_components': 10, 'clf__estimator__kernel': 'rbf', 'lda__max_iter': 10, 'tf__norm': 'l2', 'clf__estimator__C': 100}\n",
      "\n",
      "training F1: 0.006487761722205839\n",
      "validation F1: 0.009554140127388535\n",
      "grid: {'norm__norm': 'l2', 'clf__estimator__gamma': 0.01, 'tf__use_idf': False, 'lda__learning_method': 'online', 'lda__n_components': 10, 'clf__estimator__kernel': 'rbf', 'lda__max_iter': 10, 'tf__norm': None, 'clf__estimator__C': 100}\n",
      "\n"
     ]
    },
    {
     "name": "stderr",
     "output_type": "stream",
     "text": [
      "/home/felipe/tf-venv3/lib/python3.5/site-packages/sklearn/metrics/classification.py:1135: UndefinedMetricWarning: F-score is ill-defined and being set to 0.0 due to no predicted samples.\n",
      "  'precision', 'predicted', average, warn_for)\n"
     ]
    },
    {
     "name": "stdout",
     "output_type": "stream",
     "text": [
      "training F1: 0.0031779661016949155\n",
      "validation F1: 0.0\n",
      "grid: {'norm__norm': 'l2', 'clf__estimator__gamma': 0.01, 'tf__use_idf': False, 'lda__learning_method': 'online', 'lda__n_components': 20, 'clf__estimator__kernel': 'rbf', 'lda__max_iter': 10, 'tf__norm': 'l1', 'clf__estimator__C': 100}\n",
      "\n",
      "training F1: 0.006922893291955121\n",
      "validation F1: 0.002408394976776191\n",
      "grid: {'norm__norm': 'l2', 'clf__estimator__gamma': 0.01, 'tf__use_idf': False, 'lda__learning_method': 'online', 'lda__n_components': 20, 'clf__estimator__kernel': 'rbf', 'lda__max_iter': 10, 'tf__norm': 'l2', 'clf__estimator__C': 100}\n",
      "\n",
      "training F1: 0.0075681428486962694\n",
      "validation F1: 0.007023705004389815\n",
      "grid: {'norm__norm': 'l2', 'clf__estimator__gamma': 0.01, 'tf__use_idf': False, 'lda__learning_method': 'online', 'lda__n_components': 20, 'clf__estimator__kernel': 'rbf', 'lda__max_iter': 10, 'tf__norm': None, 'clf__estimator__C': 100}\n",
      "\n"
     ]
    },
    {
     "name": "stderr",
     "output_type": "stream",
     "text": [
      "/home/felipe/tf-venv3/lib/python3.5/site-packages/sklearn/metrics/classification.py:1135: UndefinedMetricWarning: F-score is ill-defined and being set to 0.0 due to no predicted samples.\n",
      "  'precision', 'predicted', average, warn_for)\n"
     ]
    },
    {
     "name": "stdout",
     "output_type": "stream",
     "text": [
      "training F1: 0.0\n",
      "validation F1: 0.0\n",
      "grid: {'norm__norm': 'l2', 'clf__estimator__gamma': 0.001, 'tf__use_idf': False, 'lda__learning_method': 'online', 'lda__n_components': 2, 'clf__estimator__kernel': 'rbf', 'lda__max_iter': 5, 'tf__norm': 'l1', 'clf__estimator__C': 100}\n",
      "\n"
     ]
    },
    {
     "name": "stderr",
     "output_type": "stream",
     "text": [
      "/home/felipe/tf-venv3/lib/python3.5/site-packages/sklearn/metrics/classification.py:1135: UndefinedMetricWarning: F-score is ill-defined and being set to 0.0 due to no predicted samples.\n",
      "  'precision', 'predicted', average, warn_for)\n"
     ]
    },
    {
     "name": "stdout",
     "output_type": "stream",
     "text": [
      "training F1: 0.0\n",
      "validation F1: 0.0\n",
      "grid: {'norm__norm': 'l2', 'clf__estimator__gamma': 0.001, 'tf__use_idf': False, 'lda__learning_method': 'online', 'lda__n_components': 2, 'clf__estimator__kernel': 'rbf', 'lda__max_iter': 5, 'tf__norm': 'l2', 'clf__estimator__C': 100}\n",
      "\n"
     ]
    },
    {
     "name": "stderr",
     "output_type": "stream",
     "text": [
      "/home/felipe/tf-venv3/lib/python3.5/site-packages/sklearn/metrics/classification.py:1135: UndefinedMetricWarning: F-score is ill-defined and being set to 0.0 due to no predicted samples.\n",
      "  'precision', 'predicted', average, warn_for)\n"
     ]
    },
    {
     "name": "stdout",
     "output_type": "stream",
     "text": [
      "training F1: 0.0\n",
      "validation F1: 0.0\n",
      "grid: {'norm__norm': 'l2', 'clf__estimator__gamma': 0.001, 'tf__use_idf': False, 'lda__learning_method': 'online', 'lda__n_components': 2, 'clf__estimator__kernel': 'rbf', 'lda__max_iter': 5, 'tf__norm': None, 'clf__estimator__C': 100}\n",
      "\n"
     ]
    },
    {
     "name": "stderr",
     "output_type": "stream",
     "text": [
      "/home/felipe/tf-venv3/lib/python3.5/site-packages/sklearn/metrics/classification.py:1135: UndefinedMetricWarning: F-score is ill-defined and being set to 0.0 due to no predicted samples.\n",
      "  'precision', 'predicted', average, warn_for)\n"
     ]
    },
    {
     "name": "stdout",
     "output_type": "stream",
     "text": [
      "training F1: 0.0\n",
      "validation F1: 0.0\n",
      "grid: {'norm__norm': 'l2', 'clf__estimator__gamma': 0.001, 'tf__use_idf': False, 'lda__learning_method': 'online', 'lda__n_components': 5, 'clf__estimator__kernel': 'rbf', 'lda__max_iter': 5, 'tf__norm': 'l1', 'clf__estimator__C': 100}\n",
      "\n"
     ]
    },
    {
     "name": "stderr",
     "output_type": "stream",
     "text": [
      "/home/felipe/tf-venv3/lib/python3.5/site-packages/sklearn/metrics/classification.py:1135: UndefinedMetricWarning: F-score is ill-defined and being set to 0.0 due to no predicted samples.\n",
      "  'precision', 'predicted', average, warn_for)\n"
     ]
    },
    {
     "name": "stdout",
     "output_type": "stream",
     "text": [
      "training F1: 0.0\n",
      "validation F1: 0.0\n",
      "grid: {'norm__norm': 'l2', 'clf__estimator__gamma': 0.001, 'tf__use_idf': False, 'lda__learning_method': 'online', 'lda__n_components': 5, 'clf__estimator__kernel': 'rbf', 'lda__max_iter': 5, 'tf__norm': 'l2', 'clf__estimator__C': 100}\n",
      "\n"
     ]
    },
    {
     "name": "stderr",
     "output_type": "stream",
     "text": [
      "/home/felipe/tf-venv3/lib/python3.5/site-packages/sklearn/metrics/classification.py:1135: UndefinedMetricWarning: F-score is ill-defined and being set to 0.0 due to no predicted samples.\n",
      "  'precision', 'predicted', average, warn_for)\n"
     ]
    },
    {
     "name": "stdout",
     "output_type": "stream",
     "text": [
      "training F1: 0.0\n",
      "validation F1: 0.0\n",
      "grid: {'norm__norm': 'l2', 'clf__estimator__gamma': 0.001, 'tf__use_idf': False, 'lda__learning_method': 'online', 'lda__n_components': 5, 'clf__estimator__kernel': 'rbf', 'lda__max_iter': 5, 'tf__norm': None, 'clf__estimator__C': 100}\n",
      "\n"
     ]
    },
    {
     "name": "stderr",
     "output_type": "stream",
     "text": [
      "/home/felipe/tf-venv3/lib/python3.5/site-packages/sklearn/metrics/classification.py:1135: UndefinedMetricWarning: F-score is ill-defined and being set to 0.0 due to no predicted samples.\n",
      "  'precision', 'predicted', average, warn_for)\n"
     ]
    },
    {
     "name": "stdout",
     "output_type": "stream",
     "text": [
      "training F1: 0.0\n",
      "validation F1: 0.0\n",
      "grid: {'norm__norm': 'l2', 'clf__estimator__gamma': 0.001, 'tf__use_idf': False, 'lda__learning_method': 'online', 'lda__n_components': 10, 'clf__estimator__kernel': 'rbf', 'lda__max_iter': 5, 'tf__norm': 'l1', 'clf__estimator__C': 100}\n",
      "\n"
     ]
    },
    {
     "name": "stderr",
     "output_type": "stream",
     "text": [
      "/home/felipe/tf-venv3/lib/python3.5/site-packages/sklearn/metrics/classification.py:1135: UndefinedMetricWarning: F-score is ill-defined and being set to 0.0 due to no predicted samples.\n",
      "  'precision', 'predicted', average, warn_for)\n"
     ]
    },
    {
     "name": "stdout",
     "output_type": "stream",
     "text": [
      "training F1: 0.0\n",
      "validation F1: 0.0\n",
      "grid: {'norm__norm': 'l2', 'clf__estimator__gamma': 0.001, 'tf__use_idf': False, 'lda__learning_method': 'online', 'lda__n_components': 10, 'clf__estimator__kernel': 'rbf', 'lda__max_iter': 5, 'tf__norm': 'l2', 'clf__estimator__C': 100}\n",
      "\n",
      "training F1: 0.004511724547343425\n",
      "validation F1: 0.0024544179523141654\n",
      "grid: {'norm__norm': 'l2', 'clf__estimator__gamma': 0.001, 'tf__use_idf': False, 'lda__learning_method': 'online', 'lda__n_components': 10, 'clf__estimator__kernel': 'rbf', 'lda__max_iter': 5, 'tf__norm': None, 'clf__estimator__C': 100}\n",
      "\n"
     ]
    },
    {
     "name": "stderr",
     "output_type": "stream",
     "text": [
      "/home/felipe/tf-venv3/lib/python3.5/site-packages/sklearn/metrics/classification.py:1135: UndefinedMetricWarning: F-score is ill-defined and being set to 0.0 due to no predicted samples.\n",
      "  'precision', 'predicted', average, warn_for)\n"
     ]
    },
    {
     "name": "stdout",
     "output_type": "stream",
     "text": [
      "training F1: 0.0\n",
      "validation F1: 0.0\n",
      "grid: {'norm__norm': 'l2', 'clf__estimator__gamma': 0.001, 'tf__use_idf': False, 'lda__learning_method': 'online', 'lda__n_components': 20, 'clf__estimator__kernel': 'rbf', 'lda__max_iter': 5, 'tf__norm': 'l1', 'clf__estimator__C': 100}\n",
      "\n",
      "training F1: 0.002953686200378072\n",
      "validation F1: 0.0017841213202497768\n",
      "grid: {'norm__norm': 'l2', 'clf__estimator__gamma': 0.001, 'tf__use_idf': False, 'lda__learning_method': 'online', 'lda__n_components': 20, 'clf__estimator__kernel': 'rbf', 'lda__max_iter': 5, 'tf__norm': 'l2', 'clf__estimator__C': 100}\n",
      "\n",
      "training F1: 0.006757157252089384\n",
      "validation F1: 0.002452697967764541\n",
      "grid: {'norm__norm': 'l2', 'clf__estimator__gamma': 0.001, 'tf__use_idf': False, 'lda__learning_method': 'online', 'lda__n_components': 20, 'clf__estimator__kernel': 'rbf', 'lda__max_iter': 5, 'tf__norm': None, 'clf__estimator__C': 100}\n",
      "\n"
     ]
    },
    {
     "name": "stderr",
     "output_type": "stream",
     "text": [
      "/home/felipe/tf-venv3/lib/python3.5/site-packages/sklearn/metrics/classification.py:1135: UndefinedMetricWarning: F-score is ill-defined and being set to 0.0 due to no predicted samples.\n",
      "  'precision', 'predicted', average, warn_for)\n"
     ]
    },
    {
     "name": "stdout",
     "output_type": "stream",
     "text": [
      "training F1: 0.0\n",
      "validation F1: 0.0\n",
      "grid: {'norm__norm': 'l2', 'clf__estimator__gamma': 0.001, 'tf__use_idf': False, 'lda__learning_method': 'online', 'lda__n_components': 2, 'clf__estimator__kernel': 'rbf', 'lda__max_iter': 10, 'tf__norm': 'l1', 'clf__estimator__C': 100}\n",
      "\n"
     ]
    },
    {
     "name": "stderr",
     "output_type": "stream",
     "text": [
      "/home/felipe/tf-venv3/lib/python3.5/site-packages/sklearn/metrics/classification.py:1135: UndefinedMetricWarning: F-score is ill-defined and being set to 0.0 due to no predicted samples.\n",
      "  'precision', 'predicted', average, warn_for)\n"
     ]
    },
    {
     "name": "stdout",
     "output_type": "stream",
     "text": [
      "training F1: 0.0\n",
      "validation F1: 0.0\n",
      "grid: {'norm__norm': 'l2', 'clf__estimator__gamma': 0.001, 'tf__use_idf': False, 'lda__learning_method': 'online', 'lda__n_components': 2, 'clf__estimator__kernel': 'rbf', 'lda__max_iter': 10, 'tf__norm': 'l2', 'clf__estimator__C': 100}\n",
      "\n"
     ]
    },
    {
     "name": "stderr",
     "output_type": "stream",
     "text": [
      "/home/felipe/tf-venv3/lib/python3.5/site-packages/sklearn/metrics/classification.py:1135: UndefinedMetricWarning: F-score is ill-defined and being set to 0.0 due to no predicted samples.\n",
      "  'precision', 'predicted', average, warn_for)\n"
     ]
    },
    {
     "name": "stdout",
     "output_type": "stream",
     "text": [
      "training F1: 0.0\n",
      "validation F1: 0.0\n",
      "grid: {'norm__norm': 'l2', 'clf__estimator__gamma': 0.001, 'tf__use_idf': False, 'lda__learning_method': 'online', 'lda__n_components': 2, 'clf__estimator__kernel': 'rbf', 'lda__max_iter': 10, 'tf__norm': None, 'clf__estimator__C': 100}\n",
      "\n"
     ]
    },
    {
     "name": "stderr",
     "output_type": "stream",
     "text": [
      "/home/felipe/tf-venv3/lib/python3.5/site-packages/sklearn/metrics/classification.py:1135: UndefinedMetricWarning: F-score is ill-defined and being set to 0.0 due to no predicted samples.\n",
      "  'precision', 'predicted', average, warn_for)\n"
     ]
    },
    {
     "name": "stdout",
     "output_type": "stream",
     "text": [
      "training F1: 0.0\n",
      "validation F1: 0.0\n",
      "grid: {'norm__norm': 'l2', 'clf__estimator__gamma': 0.001, 'tf__use_idf': False, 'lda__learning_method': 'online', 'lda__n_components': 5, 'clf__estimator__kernel': 'rbf', 'lda__max_iter': 10, 'tf__norm': 'l1', 'clf__estimator__C': 100}\n",
      "\n"
     ]
    },
    {
     "name": "stderr",
     "output_type": "stream",
     "text": [
      "/home/felipe/tf-venv3/lib/python3.5/site-packages/sklearn/metrics/classification.py:1135: UndefinedMetricWarning: F-score is ill-defined and being set to 0.0 due to no predicted samples.\n",
      "  'precision', 'predicted', average, warn_for)\n"
     ]
    },
    {
     "name": "stdout",
     "output_type": "stream",
     "text": [
      "training F1: 0.0\n",
      "validation F1: 0.0\n",
      "grid: {'norm__norm': 'l2', 'clf__estimator__gamma': 0.001, 'tf__use_idf': False, 'lda__learning_method': 'online', 'lda__n_components': 5, 'clf__estimator__kernel': 'rbf', 'lda__max_iter': 10, 'tf__norm': 'l2', 'clf__estimator__C': 100}\n",
      "\n"
     ]
    },
    {
     "name": "stderr",
     "output_type": "stream",
     "text": [
      "/home/felipe/tf-venv3/lib/python3.5/site-packages/sklearn/metrics/classification.py:1135: UndefinedMetricWarning: F-score is ill-defined and being set to 0.0 due to no predicted samples.\n",
      "  'precision', 'predicted', average, warn_for)\n"
     ]
    },
    {
     "name": "stdout",
     "output_type": "stream",
     "text": [
      "training F1: 0.0\n",
      "validation F1: 0.0\n",
      "grid: {'norm__norm': 'l2', 'clf__estimator__gamma': 0.001, 'tf__use_idf': False, 'lda__learning_method': 'online', 'lda__n_components': 5, 'clf__estimator__kernel': 'rbf', 'lda__max_iter': 10, 'tf__norm': None, 'clf__estimator__C': 100}\n",
      "\n"
     ]
    },
    {
     "name": "stderr",
     "output_type": "stream",
     "text": [
      "/home/felipe/tf-venv3/lib/python3.5/site-packages/sklearn/metrics/classification.py:1135: UndefinedMetricWarning: F-score is ill-defined and being set to 0.0 due to no predicted samples.\n",
      "  'precision', 'predicted', average, warn_for)\n"
     ]
    },
    {
     "name": "stdout",
     "output_type": "stream",
     "text": [
      "training F1: 0.0\n",
      "validation F1: 0.0\n",
      "grid: {'norm__norm': 'l2', 'clf__estimator__gamma': 0.001, 'tf__use_idf': False, 'lda__learning_method': 'online', 'lda__n_components': 10, 'clf__estimator__kernel': 'rbf', 'lda__max_iter': 10, 'tf__norm': 'l1', 'clf__estimator__C': 100}\n",
      "\n"
     ]
    },
    {
     "name": "stderr",
     "output_type": "stream",
     "text": [
      "/home/felipe/tf-venv3/lib/python3.5/site-packages/sklearn/metrics/classification.py:1135: UndefinedMetricWarning: F-score is ill-defined and being set to 0.0 due to no predicted samples.\n",
      "  'precision', 'predicted', average, warn_for)\n"
     ]
    },
    {
     "name": "stdout",
     "output_type": "stream",
     "text": [
      "training F1: 0.0\n",
      "validation F1: 0.0\n",
      "grid: {'norm__norm': 'l2', 'clf__estimator__gamma': 0.001, 'tf__use_idf': False, 'lda__learning_method': 'online', 'lda__n_components': 10, 'clf__estimator__kernel': 'rbf', 'lda__max_iter': 10, 'tf__norm': 'l2', 'clf__estimator__C': 100}\n",
      "\n",
      "training F1: 0.004143973478569736\n",
      "validation F1: 0.0035348179568752214\n",
      "grid: {'norm__norm': 'l2', 'clf__estimator__gamma': 0.001, 'tf__use_idf': False, 'lda__learning_method': 'online', 'lda__n_components': 10, 'clf__estimator__kernel': 'rbf', 'lda__max_iter': 10, 'tf__norm': None, 'clf__estimator__C': 100}\n",
      "\n"
     ]
    },
    {
     "name": "stderr",
     "output_type": "stream",
     "text": [
      "/home/felipe/tf-venv3/lib/python3.5/site-packages/sklearn/metrics/classification.py:1135: UndefinedMetricWarning: F-score is ill-defined and being set to 0.0 due to no predicted samples.\n",
      "  'precision', 'predicted', average, warn_for)\n"
     ]
    },
    {
     "name": "stdout",
     "output_type": "stream",
     "text": [
      "training F1: 0.0\n",
      "validation F1: 0.0\n",
      "grid: {'norm__norm': 'l2', 'clf__estimator__gamma': 0.001, 'tf__use_idf': False, 'lda__learning_method': 'online', 'lda__n_components': 20, 'clf__estimator__kernel': 'rbf', 'lda__max_iter': 10, 'tf__norm': 'l1', 'clf__estimator__C': 100}\n",
      "\n"
     ]
    },
    {
     "name": "stderr",
     "output_type": "stream",
     "text": [
      "/home/felipe/tf-venv3/lib/python3.5/site-packages/sklearn/metrics/classification.py:1135: UndefinedMetricWarning: F-score is ill-defined and being set to 0.0 due to no predicted samples.\n",
      "  'precision', 'predicted', average, warn_for)\n"
     ]
    },
    {
     "name": "stdout",
     "output_type": "stream",
     "text": [
      "training F1: 0.0\n",
      "validation F1: 0.0\n",
      "grid: {'norm__norm': 'l2', 'clf__estimator__gamma': 0.001, 'tf__use_idf': False, 'lda__learning_method': 'online', 'lda__n_components': 20, 'clf__estimator__kernel': 'rbf', 'lda__max_iter': 10, 'tf__norm': 'l2', 'clf__estimator__C': 100}\n",
      "\n",
      "training F1: 0.006137141508320548\n",
      "validation F1: 0.005691924581999288\n",
      "grid: {'norm__norm': 'l2', 'clf__estimator__gamma': 0.001, 'tf__use_idf': False, 'lda__learning_method': 'online', 'lda__n_components': 20, 'clf__estimator__kernel': 'rbf', 'lda__max_iter': 10, 'tf__norm': None, 'clf__estimator__C': 100}\n",
      "\n"
     ]
    },
    {
     "name": "stderr",
     "output_type": "stream",
     "text": [
      "/home/felipe/tf-venv3/lib/python3.5/site-packages/sklearn/metrics/classification.py:1135: UndefinedMetricWarning: F-score is ill-defined and being set to 0.0 due to no predicted samples.\n",
      "  'precision', 'predicted', average, warn_for)\n"
     ]
    },
    {
     "name": "stdout",
     "output_type": "stream",
     "text": [
      "training F1: 0.0\n",
      "validation F1: 0.0\n",
      "grid: {'norm__norm': 'l2', 'clf__estimator__gamma': 0.1, 'tf__use_idf': False, 'lda__learning_method': 'online', 'lda__n_components': 2, 'clf__estimator__kernel': 'rbf', 'lda__max_iter': 5, 'tf__norm': 'l1', 'clf__estimator__C': 100}\n",
      "\n"
     ]
    },
    {
     "name": "stderr",
     "output_type": "stream",
     "text": [
      "/home/felipe/tf-venv3/lib/python3.5/site-packages/sklearn/metrics/classification.py:1135: UndefinedMetricWarning: F-score is ill-defined and being set to 0.0 due to no predicted samples.\n",
      "  'precision', 'predicted', average, warn_for)\n"
     ]
    },
    {
     "name": "stdout",
     "output_type": "stream",
     "text": [
      "training F1: 0.0\n",
      "validation F1: 0.0\n",
      "grid: {'norm__norm': 'l2', 'clf__estimator__gamma': 0.1, 'tf__use_idf': False, 'lda__learning_method': 'online', 'lda__n_components': 2, 'clf__estimator__kernel': 'rbf', 'lda__max_iter': 5, 'tf__norm': 'l2', 'clf__estimator__C': 100}\n",
      "\n"
     ]
    },
    {
     "name": "stderr",
     "output_type": "stream",
     "text": [
      "/home/felipe/tf-venv3/lib/python3.5/site-packages/sklearn/metrics/classification.py:1135: UndefinedMetricWarning: F-score is ill-defined and being set to 0.0 due to no predicted samples.\n",
      "  'precision', 'predicted', average, warn_for)\n"
     ]
    },
    {
     "name": "stdout",
     "output_type": "stream",
     "text": [
      "training F1: 0.0\n",
      "validation F1: 0.0\n",
      "grid: {'norm__norm': 'l2', 'clf__estimator__gamma': 0.1, 'tf__use_idf': False, 'lda__learning_method': 'online', 'lda__n_components': 2, 'clf__estimator__kernel': 'rbf', 'lda__max_iter': 5, 'tf__norm': None, 'clf__estimator__C': 100}\n",
      "\n",
      "training F1: 0.005812918915712675\n",
      "validation F1: 0.003516174402250352\n",
      "grid: {'norm__norm': 'l2', 'clf__estimator__gamma': 0.1, 'tf__use_idf': False, 'lda__learning_method': 'online', 'lda__n_components': 5, 'clf__estimator__kernel': 'rbf', 'lda__max_iter': 5, 'tf__norm': 'l1', 'clf__estimator__C': 100}\n",
      "\n",
      "training F1: 0.002599550986647761\n",
      "validation F1: 0.0\n",
      "grid: {'norm__norm': 'l2', 'clf__estimator__gamma': 0.1, 'tf__use_idf': False, 'lda__learning_method': 'online', 'lda__n_components': 5, 'clf__estimator__kernel': 'rbf', 'lda__max_iter': 5, 'tf__norm': 'l2', 'clf__estimator__C': 100}\n",
      "\n",
      "training F1: 0.008246451080874125\n",
      "validation F1: 0.007094714437743881\n",
      "grid: {'norm__norm': 'l2', 'clf__estimator__gamma': 0.1, 'tf__use_idf': False, 'lda__learning_method': 'online', 'lda__n_components': 5, 'clf__estimator__kernel': 'rbf', 'lda__max_iter': 5, 'tf__norm': None, 'clf__estimator__C': 100}\n",
      "\n",
      "training F1: 0.0023884874902967692\n",
      "validation F1: 0.0003474031613687685\n",
      "grid: {'norm__norm': 'l2', 'clf__estimator__gamma': 0.1, 'tf__use_idf': False, 'lda__learning_method': 'online', 'lda__n_components': 10, 'clf__estimator__kernel': 'rbf', 'lda__max_iter': 5, 'tf__norm': 'l1', 'clf__estimator__C': 100}\n",
      "\n",
      "training F1: 0.008535356528955013\n",
      "validation F1: 0.005253020486779898\n",
      "grid: {'norm__norm': 'l2', 'clf__estimator__gamma': 0.1, 'tf__use_idf': False, 'lda__learning_method': 'online', 'lda__n_components': 10, 'clf__estimator__kernel': 'rbf', 'lda__max_iter': 5, 'tf__norm': 'l2', 'clf__estimator__C': 100}\n",
      "\n"
     ]
    },
    {
     "ename": "KeyboardInterrupt",
     "evalue": "",
     "output_type": "error",
     "traceback": [
      "\u001b[0;31m---------------------------------------------------------------------------\u001b[0m",
      "\u001b[0;31mKeyboardInterrupt\u001b[0m                         Traceback (most recent call last)",
      "\u001b[0;32m<ipython-input-26-45de5ecde26c>\u001b[0m in \u001b[0;36m<module>\u001b[0;34m()\u001b[0m\n\u001b[1;32m     11\u001b[0m \u001b[0;34m\u001b[0m\u001b[0m\n\u001b[1;32m     12\u001b[0m     \u001b[0;31m# here you call fit with whatever data you want\u001b[0m\u001b[0;34m\u001b[0m\u001b[0;34m\u001b[0m\u001b[0m\n\u001b[0;32m---> 13\u001b[0;31m     \u001b[0mpipeline\u001b[0m\u001b[0;34m.\u001b[0m\u001b[0mfit\u001b[0m\u001b[0;34m(\u001b[0m\u001b[0mX_train\u001b[0m\u001b[0;34m,\u001b[0m\u001b[0my_train\u001b[0m\u001b[0;34m)\u001b[0m\u001b[0;34m\u001b[0m\u001b[0m\n\u001b[0m\u001b[1;32m     14\u001b[0m \u001b[0;34m\u001b[0m\u001b[0m\n\u001b[1;32m     15\u001b[0m     \u001b[0;31m# again, choose the validation data\u001b[0m\u001b[0;34m\u001b[0m\u001b[0;34m\u001b[0m\u001b[0m\n",
      "\u001b[0;32m/home/felipe/tf-venv3/lib/python3.5/site-packages/sklearn/pipeline.py\u001b[0m in \u001b[0;36mfit\u001b[0;34m(self, X, y, **fit_params)\u001b[0m\n\u001b[1;32m    255\u001b[0m             \u001b[0mThis\u001b[0m \u001b[0mestimator\u001b[0m\u001b[0;34m\u001b[0m\u001b[0m\n\u001b[1;32m    256\u001b[0m         \"\"\"\n\u001b[0;32m--> 257\u001b[0;31m         \u001b[0mXt\u001b[0m\u001b[0;34m,\u001b[0m \u001b[0mfit_params\u001b[0m \u001b[0;34m=\u001b[0m \u001b[0mself\u001b[0m\u001b[0;34m.\u001b[0m\u001b[0m_fit\u001b[0m\u001b[0;34m(\u001b[0m\u001b[0mX\u001b[0m\u001b[0;34m,\u001b[0m \u001b[0my\u001b[0m\u001b[0;34m,\u001b[0m \u001b[0;34m**\u001b[0m\u001b[0mfit_params\u001b[0m\u001b[0;34m)\u001b[0m\u001b[0;34m\u001b[0m\u001b[0m\n\u001b[0m\u001b[1;32m    258\u001b[0m         \u001b[0;32mif\u001b[0m \u001b[0mself\u001b[0m\u001b[0;34m.\u001b[0m\u001b[0m_final_estimator\u001b[0m \u001b[0;32mis\u001b[0m \u001b[0;32mnot\u001b[0m \u001b[0;32mNone\u001b[0m\u001b[0;34m:\u001b[0m\u001b[0;34m\u001b[0m\u001b[0m\n\u001b[1;32m    259\u001b[0m             \u001b[0mself\u001b[0m\u001b[0;34m.\u001b[0m\u001b[0m_final_estimator\u001b[0m\u001b[0;34m.\u001b[0m\u001b[0mfit\u001b[0m\u001b[0;34m(\u001b[0m\u001b[0mXt\u001b[0m\u001b[0;34m,\u001b[0m \u001b[0my\u001b[0m\u001b[0;34m,\u001b[0m \u001b[0;34m**\u001b[0m\u001b[0mfit_params\u001b[0m\u001b[0;34m)\u001b[0m\u001b[0;34m\u001b[0m\u001b[0m\n",
      "\u001b[0;32m/home/felipe/tf-venv3/lib/python3.5/site-packages/sklearn/pipeline.py\u001b[0m in \u001b[0;36m_fit\u001b[0;34m(self, X, y, **fit_params)\u001b[0m\n\u001b[1;32m    220\u001b[0m                 Xt, fitted_transformer = fit_transform_one_cached(\n\u001b[1;32m    221\u001b[0m                     \u001b[0mcloned_transformer\u001b[0m\u001b[0;34m,\u001b[0m \u001b[0;32mNone\u001b[0m\u001b[0;34m,\u001b[0m \u001b[0mXt\u001b[0m\u001b[0;34m,\u001b[0m \u001b[0my\u001b[0m\u001b[0;34m,\u001b[0m\u001b[0;34m\u001b[0m\u001b[0m\n\u001b[0;32m--> 222\u001b[0;31m                     **fit_params_steps[name])\n\u001b[0m\u001b[1;32m    223\u001b[0m                 \u001b[0;31m# Replace the transformer of the step with the fitted\u001b[0m\u001b[0;34m\u001b[0m\u001b[0;34m\u001b[0m\u001b[0m\n\u001b[1;32m    224\u001b[0m                 \u001b[0;31m# transformer. This is necessary when loading the transformer\u001b[0m\u001b[0;34m\u001b[0m\u001b[0;34m\u001b[0m\u001b[0m\n",
      "\u001b[0;32m/home/felipe/tf-venv3/lib/python3.5/site-packages/sklearn/externals/joblib/memory.py\u001b[0m in \u001b[0;36m__call__\u001b[0;34m(self, *args, **kwargs)\u001b[0m\n\u001b[1;32m    360\u001b[0m \u001b[0;34m\u001b[0m\u001b[0m\n\u001b[1;32m    361\u001b[0m     \u001b[0;32mdef\u001b[0m \u001b[0m__call__\u001b[0m\u001b[0;34m(\u001b[0m\u001b[0mself\u001b[0m\u001b[0;34m,\u001b[0m \u001b[0;34m*\u001b[0m\u001b[0margs\u001b[0m\u001b[0;34m,\u001b[0m \u001b[0;34m**\u001b[0m\u001b[0mkwargs\u001b[0m\u001b[0;34m)\u001b[0m\u001b[0;34m:\u001b[0m\u001b[0;34m\u001b[0m\u001b[0m\n\u001b[0;32m--> 362\u001b[0;31m         \u001b[0;32mreturn\u001b[0m \u001b[0mself\u001b[0m\u001b[0;34m.\u001b[0m\u001b[0mfunc\u001b[0m\u001b[0;34m(\u001b[0m\u001b[0;34m*\u001b[0m\u001b[0margs\u001b[0m\u001b[0;34m,\u001b[0m \u001b[0;34m**\u001b[0m\u001b[0mkwargs\u001b[0m\u001b[0;34m)\u001b[0m\u001b[0;34m\u001b[0m\u001b[0m\n\u001b[0m\u001b[1;32m    363\u001b[0m \u001b[0;34m\u001b[0m\u001b[0m\n\u001b[1;32m    364\u001b[0m     \u001b[0;32mdef\u001b[0m \u001b[0mcall_and_shelve\u001b[0m\u001b[0;34m(\u001b[0m\u001b[0mself\u001b[0m\u001b[0;34m,\u001b[0m \u001b[0;34m*\u001b[0m\u001b[0margs\u001b[0m\u001b[0;34m,\u001b[0m \u001b[0;34m**\u001b[0m\u001b[0mkwargs\u001b[0m\u001b[0;34m)\u001b[0m\u001b[0;34m:\u001b[0m\u001b[0;34m\u001b[0m\u001b[0m\n",
      "\u001b[0;32m/home/felipe/tf-venv3/lib/python3.5/site-packages/sklearn/pipeline.py\u001b[0m in \u001b[0;36m_fit_transform_one\u001b[0;34m(transformer, weight, X, y, **fit_params)\u001b[0m\n\u001b[1;32m    587\u001b[0m                        **fit_params):\n\u001b[1;32m    588\u001b[0m     \u001b[0;32mif\u001b[0m \u001b[0mhasattr\u001b[0m\u001b[0;34m(\u001b[0m\u001b[0mtransformer\u001b[0m\u001b[0;34m,\u001b[0m \u001b[0;34m'fit_transform'\u001b[0m\u001b[0;34m)\u001b[0m\u001b[0;34m:\u001b[0m\u001b[0;34m\u001b[0m\u001b[0m\n\u001b[0;32m--> 589\u001b[0;31m         \u001b[0mres\u001b[0m \u001b[0;34m=\u001b[0m \u001b[0mtransformer\u001b[0m\u001b[0;34m.\u001b[0m\u001b[0mfit_transform\u001b[0m\u001b[0;34m(\u001b[0m\u001b[0mX\u001b[0m\u001b[0;34m,\u001b[0m \u001b[0my\u001b[0m\u001b[0;34m,\u001b[0m \u001b[0;34m**\u001b[0m\u001b[0mfit_params\u001b[0m\u001b[0;34m)\u001b[0m\u001b[0;34m\u001b[0m\u001b[0m\n\u001b[0m\u001b[1;32m    590\u001b[0m     \u001b[0;32melse\u001b[0m\u001b[0;34m:\u001b[0m\u001b[0;34m\u001b[0m\u001b[0m\n\u001b[1;32m    591\u001b[0m         \u001b[0mres\u001b[0m \u001b[0;34m=\u001b[0m \u001b[0mtransformer\u001b[0m\u001b[0;34m.\u001b[0m\u001b[0mfit\u001b[0m\u001b[0;34m(\u001b[0m\u001b[0mX\u001b[0m\u001b[0;34m,\u001b[0m \u001b[0my\u001b[0m\u001b[0;34m,\u001b[0m \u001b[0;34m**\u001b[0m\u001b[0mfit_params\u001b[0m\u001b[0;34m)\u001b[0m\u001b[0;34m.\u001b[0m\u001b[0mtransform\u001b[0m\u001b[0;34m(\u001b[0m\u001b[0mX\u001b[0m\u001b[0;34m)\u001b[0m\u001b[0;34m\u001b[0m\u001b[0m\n",
      "\u001b[0;32m/home/felipe/tf-venv3/lib/python3.5/site-packages/sklearn/base.py\u001b[0m in \u001b[0;36mfit_transform\u001b[0;34m(self, X, y, **fit_params)\u001b[0m\n\u001b[1;32m    519\u001b[0m         \u001b[0;32melse\u001b[0m\u001b[0;34m:\u001b[0m\u001b[0;34m\u001b[0m\u001b[0m\n\u001b[1;32m    520\u001b[0m             \u001b[0;31m# fit method of arity 2 (supervised transformation)\u001b[0m\u001b[0;34m\u001b[0m\u001b[0;34m\u001b[0m\u001b[0m\n\u001b[0;32m--> 521\u001b[0;31m             \u001b[0;32mreturn\u001b[0m \u001b[0mself\u001b[0m\u001b[0;34m.\u001b[0m\u001b[0mfit\u001b[0m\u001b[0;34m(\u001b[0m\u001b[0mX\u001b[0m\u001b[0;34m,\u001b[0m \u001b[0my\u001b[0m\u001b[0;34m,\u001b[0m \u001b[0;34m**\u001b[0m\u001b[0mfit_params\u001b[0m\u001b[0;34m)\u001b[0m\u001b[0;34m.\u001b[0m\u001b[0mtransform\u001b[0m\u001b[0;34m(\u001b[0m\u001b[0mX\u001b[0m\u001b[0;34m)\u001b[0m\u001b[0;34m\u001b[0m\u001b[0m\n\u001b[0m\u001b[1;32m    522\u001b[0m \u001b[0;34m\u001b[0m\u001b[0m\n\u001b[1;32m    523\u001b[0m \u001b[0;34m\u001b[0m\u001b[0m\n",
      "\u001b[0;32m/home/felipe/tf-venv3/lib/python3.5/site-packages/sklearn/decomposition/online_lda.py\u001b[0m in \u001b[0;36mfit\u001b[0;34m(self, X, y)\u001b[0m\n\u001b[1;32m    546\u001b[0m                     \u001b[0;32mfor\u001b[0m \u001b[0midx_slice\u001b[0m \u001b[0;32min\u001b[0m \u001b[0mgen_batches\u001b[0m\u001b[0;34m(\u001b[0m\u001b[0mn_samples\u001b[0m\u001b[0;34m,\u001b[0m \u001b[0mbatch_size\u001b[0m\u001b[0;34m)\u001b[0m\u001b[0;34m:\u001b[0m\u001b[0;34m\u001b[0m\u001b[0m\n\u001b[1;32m    547\u001b[0m                         self._em_step(X[idx_slice, :], total_samples=n_samples,\n\u001b[0;32m--> 548\u001b[0;31m                                       batch_update=False, parallel=parallel)\n\u001b[0m\u001b[1;32m    549\u001b[0m                 \u001b[0;32melse\u001b[0m\u001b[0;34m:\u001b[0m\u001b[0;34m\u001b[0m\u001b[0m\n\u001b[1;32m    550\u001b[0m                     \u001b[0;31m# batch update\u001b[0m\u001b[0;34m\u001b[0m\u001b[0;34m\u001b[0m\u001b[0m\n",
      "\u001b[0;32m/home/felipe/tf-venv3/lib/python3.5/site-packages/sklearn/decomposition/online_lda.py\u001b[0m in \u001b[0;36m_em_step\u001b[0;34m(self, X, total_samples, batch_update, parallel)\u001b[0m\n\u001b[1;32m    431\u001b[0m         \u001b[0;31m# E-step\u001b[0m\u001b[0;34m\u001b[0m\u001b[0;34m\u001b[0m\u001b[0m\n\u001b[1;32m    432\u001b[0m         _, suff_stats = self._e_step(X, cal_sstats=True, random_init=True,\n\u001b[0;32m--> 433\u001b[0;31m                                      parallel=parallel)\n\u001b[0m\u001b[1;32m    434\u001b[0m \u001b[0;34m\u001b[0m\u001b[0m\n\u001b[1;32m    435\u001b[0m         \u001b[0;31m# M-step\u001b[0m\u001b[0;34m\u001b[0m\u001b[0;34m\u001b[0m\u001b[0m\n",
      "\u001b[0;32m/home/felipe/tf-venv3/lib/python3.5/site-packages/sklearn/decomposition/online_lda.py\u001b[0m in \u001b[0;36m_e_step\u001b[0;34m(self, X, cal_sstats, random_init, parallel)\u001b[0m\n\u001b[1;32m    384\u001b[0m                                               \u001b[0mself\u001b[0m\u001b[0;34m.\u001b[0m\u001b[0mmean_change_tol\u001b[0m\u001b[0;34m,\u001b[0m \u001b[0mcal_sstats\u001b[0m\u001b[0;34m,\u001b[0m\u001b[0;34m\u001b[0m\u001b[0m\n\u001b[1;32m    385\u001b[0m                                               random_state)\n\u001b[0;32m--> 386\u001b[0;31m             for idx_slice in gen_even_slices(X.shape[0], n_jobs))\n\u001b[0m\u001b[1;32m    387\u001b[0m \u001b[0;34m\u001b[0m\u001b[0m\n\u001b[1;32m    388\u001b[0m         \u001b[0;31m# merge result\u001b[0m\u001b[0;34m\u001b[0m\u001b[0;34m\u001b[0m\u001b[0m\n",
      "\u001b[0;32m/home/felipe/tf-venv3/lib/python3.5/site-packages/sklearn/externals/joblib/parallel.py\u001b[0m in \u001b[0;36m__call__\u001b[0;34m(self, iterable)\u001b[0m\n\u001b[1;32m    777\u001b[0m             \u001b[0;31m# was dispatched. In particular this covers the edge\u001b[0m\u001b[0;34m\u001b[0m\u001b[0;34m\u001b[0m\u001b[0m\n\u001b[1;32m    778\u001b[0m             \u001b[0;31m# case of Parallel used with an exhausted iterator.\u001b[0m\u001b[0;34m\u001b[0m\u001b[0;34m\u001b[0m\u001b[0m\n\u001b[0;32m--> 779\u001b[0;31m             \u001b[0;32mwhile\u001b[0m \u001b[0mself\u001b[0m\u001b[0;34m.\u001b[0m\u001b[0mdispatch_one_batch\u001b[0m\u001b[0;34m(\u001b[0m\u001b[0miterator\u001b[0m\u001b[0;34m)\u001b[0m\u001b[0;34m:\u001b[0m\u001b[0;34m\u001b[0m\u001b[0m\n\u001b[0m\u001b[1;32m    780\u001b[0m                 \u001b[0mself\u001b[0m\u001b[0;34m.\u001b[0m\u001b[0m_iterating\u001b[0m \u001b[0;34m=\u001b[0m \u001b[0;32mTrue\u001b[0m\u001b[0;34m\u001b[0m\u001b[0m\n\u001b[1;32m    781\u001b[0m             \u001b[0;32melse\u001b[0m\u001b[0;34m:\u001b[0m\u001b[0;34m\u001b[0m\u001b[0m\n",
      "\u001b[0;32m/home/felipe/tf-venv3/lib/python3.5/site-packages/sklearn/externals/joblib/parallel.py\u001b[0m in \u001b[0;36mdispatch_one_batch\u001b[0;34m(self, iterator)\u001b[0m\n\u001b[1;32m    623\u001b[0m                 \u001b[0;32mreturn\u001b[0m \u001b[0;32mFalse\u001b[0m\u001b[0;34m\u001b[0m\u001b[0m\n\u001b[1;32m    624\u001b[0m             \u001b[0;32melse\u001b[0m\u001b[0;34m:\u001b[0m\u001b[0;34m\u001b[0m\u001b[0m\n\u001b[0;32m--> 625\u001b[0;31m                 \u001b[0mself\u001b[0m\u001b[0;34m.\u001b[0m\u001b[0m_dispatch\u001b[0m\u001b[0;34m(\u001b[0m\u001b[0mtasks\u001b[0m\u001b[0;34m)\u001b[0m\u001b[0;34m\u001b[0m\u001b[0m\n\u001b[0m\u001b[1;32m    626\u001b[0m                 \u001b[0;32mreturn\u001b[0m \u001b[0;32mTrue\u001b[0m\u001b[0;34m\u001b[0m\u001b[0m\n\u001b[1;32m    627\u001b[0m \u001b[0;34m\u001b[0m\u001b[0m\n",
      "\u001b[0;32m/home/felipe/tf-venv3/lib/python3.5/site-packages/sklearn/externals/joblib/parallel.py\u001b[0m in \u001b[0;36m_dispatch\u001b[0;34m(self, batch)\u001b[0m\n\u001b[1;32m    586\u001b[0m         \u001b[0mdispatch_timestamp\u001b[0m \u001b[0;34m=\u001b[0m \u001b[0mtime\u001b[0m\u001b[0;34m.\u001b[0m\u001b[0mtime\u001b[0m\u001b[0;34m(\u001b[0m\u001b[0;34m)\u001b[0m\u001b[0;34m\u001b[0m\u001b[0m\n\u001b[1;32m    587\u001b[0m         \u001b[0mcb\u001b[0m \u001b[0;34m=\u001b[0m \u001b[0mBatchCompletionCallBack\u001b[0m\u001b[0;34m(\u001b[0m\u001b[0mdispatch_timestamp\u001b[0m\u001b[0;34m,\u001b[0m \u001b[0mlen\u001b[0m\u001b[0;34m(\u001b[0m\u001b[0mbatch\u001b[0m\u001b[0;34m)\u001b[0m\u001b[0;34m,\u001b[0m \u001b[0mself\u001b[0m\u001b[0;34m)\u001b[0m\u001b[0;34m\u001b[0m\u001b[0m\n\u001b[0;32m--> 588\u001b[0;31m         \u001b[0mjob\u001b[0m \u001b[0;34m=\u001b[0m \u001b[0mself\u001b[0m\u001b[0;34m.\u001b[0m\u001b[0m_backend\u001b[0m\u001b[0;34m.\u001b[0m\u001b[0mapply_async\u001b[0m\u001b[0;34m(\u001b[0m\u001b[0mbatch\u001b[0m\u001b[0;34m,\u001b[0m \u001b[0mcallback\u001b[0m\u001b[0;34m=\u001b[0m\u001b[0mcb\u001b[0m\u001b[0;34m)\u001b[0m\u001b[0;34m\u001b[0m\u001b[0m\n\u001b[0m\u001b[1;32m    589\u001b[0m         \u001b[0mself\u001b[0m\u001b[0;34m.\u001b[0m\u001b[0m_jobs\u001b[0m\u001b[0;34m.\u001b[0m\u001b[0mappend\u001b[0m\u001b[0;34m(\u001b[0m\u001b[0mjob\u001b[0m\u001b[0;34m)\u001b[0m\u001b[0;34m\u001b[0m\u001b[0m\n\u001b[1;32m    590\u001b[0m \u001b[0;34m\u001b[0m\u001b[0m\n",
      "\u001b[0;32m/home/felipe/tf-venv3/lib/python3.5/site-packages/sklearn/externals/joblib/_parallel_backends.py\u001b[0m in \u001b[0;36mapply_async\u001b[0;34m(self, func, callback)\u001b[0m\n\u001b[1;32m    109\u001b[0m     \u001b[0;32mdef\u001b[0m \u001b[0mapply_async\u001b[0m\u001b[0;34m(\u001b[0m\u001b[0mself\u001b[0m\u001b[0;34m,\u001b[0m \u001b[0mfunc\u001b[0m\u001b[0;34m,\u001b[0m \u001b[0mcallback\u001b[0m\u001b[0;34m=\u001b[0m\u001b[0;32mNone\u001b[0m\u001b[0;34m)\u001b[0m\u001b[0;34m:\u001b[0m\u001b[0;34m\u001b[0m\u001b[0m\n\u001b[1;32m    110\u001b[0m         \u001b[0;34m\"\"\"Schedule a func to be run\"\"\"\u001b[0m\u001b[0;34m\u001b[0m\u001b[0m\n\u001b[0;32m--> 111\u001b[0;31m         \u001b[0mresult\u001b[0m \u001b[0;34m=\u001b[0m \u001b[0mImmediateResult\u001b[0m\u001b[0;34m(\u001b[0m\u001b[0mfunc\u001b[0m\u001b[0;34m)\u001b[0m\u001b[0;34m\u001b[0m\u001b[0m\n\u001b[0m\u001b[1;32m    112\u001b[0m         \u001b[0;32mif\u001b[0m \u001b[0mcallback\u001b[0m\u001b[0;34m:\u001b[0m\u001b[0;34m\u001b[0m\u001b[0m\n\u001b[1;32m    113\u001b[0m             \u001b[0mcallback\u001b[0m\u001b[0;34m(\u001b[0m\u001b[0mresult\u001b[0m\u001b[0;34m)\u001b[0m\u001b[0;34m\u001b[0m\u001b[0m\n",
      "\u001b[0;32m/home/felipe/tf-venv3/lib/python3.5/site-packages/sklearn/externals/joblib/_parallel_backends.py\u001b[0m in \u001b[0;36m__init__\u001b[0;34m(self, batch)\u001b[0m\n\u001b[1;32m    330\u001b[0m         \u001b[0;31m# Don't delay the application, to avoid keeping the input\u001b[0m\u001b[0;34m\u001b[0m\u001b[0;34m\u001b[0m\u001b[0m\n\u001b[1;32m    331\u001b[0m         \u001b[0;31m# arguments in memory\u001b[0m\u001b[0;34m\u001b[0m\u001b[0;34m\u001b[0m\u001b[0m\n\u001b[0;32m--> 332\u001b[0;31m         \u001b[0mself\u001b[0m\u001b[0;34m.\u001b[0m\u001b[0mresults\u001b[0m \u001b[0;34m=\u001b[0m \u001b[0mbatch\u001b[0m\u001b[0;34m(\u001b[0m\u001b[0;34m)\u001b[0m\u001b[0;34m\u001b[0m\u001b[0m\n\u001b[0m\u001b[1;32m    333\u001b[0m \u001b[0;34m\u001b[0m\u001b[0m\n\u001b[1;32m    334\u001b[0m     \u001b[0;32mdef\u001b[0m \u001b[0mget\u001b[0m\u001b[0;34m(\u001b[0m\u001b[0mself\u001b[0m\u001b[0;34m)\u001b[0m\u001b[0;34m:\u001b[0m\u001b[0;34m\u001b[0m\u001b[0m\n",
      "\u001b[0;32m/home/felipe/tf-venv3/lib/python3.5/site-packages/sklearn/externals/joblib/parallel.py\u001b[0m in \u001b[0;36m__call__\u001b[0;34m(self)\u001b[0m\n\u001b[1;32m    129\u001b[0m \u001b[0;34m\u001b[0m\u001b[0m\n\u001b[1;32m    130\u001b[0m     \u001b[0;32mdef\u001b[0m \u001b[0m__call__\u001b[0m\u001b[0;34m(\u001b[0m\u001b[0mself\u001b[0m\u001b[0;34m)\u001b[0m\u001b[0;34m:\u001b[0m\u001b[0;34m\u001b[0m\u001b[0m\n\u001b[0;32m--> 131\u001b[0;31m         \u001b[0;32mreturn\u001b[0m \u001b[0;34m[\u001b[0m\u001b[0mfunc\u001b[0m\u001b[0;34m(\u001b[0m\u001b[0;34m*\u001b[0m\u001b[0margs\u001b[0m\u001b[0;34m,\u001b[0m \u001b[0;34m**\u001b[0m\u001b[0mkwargs\u001b[0m\u001b[0;34m)\u001b[0m \u001b[0;32mfor\u001b[0m \u001b[0mfunc\u001b[0m\u001b[0;34m,\u001b[0m \u001b[0margs\u001b[0m\u001b[0;34m,\u001b[0m \u001b[0mkwargs\u001b[0m \u001b[0;32min\u001b[0m \u001b[0mself\u001b[0m\u001b[0;34m.\u001b[0m\u001b[0mitems\u001b[0m\u001b[0;34m]\u001b[0m\u001b[0;34m\u001b[0m\u001b[0m\n\u001b[0m\u001b[1;32m    132\u001b[0m \u001b[0;34m\u001b[0m\u001b[0m\n\u001b[1;32m    133\u001b[0m     \u001b[0;32mdef\u001b[0m \u001b[0m__len__\u001b[0m\u001b[0;34m(\u001b[0m\u001b[0mself\u001b[0m\u001b[0;34m)\u001b[0m\u001b[0;34m:\u001b[0m\u001b[0;34m\u001b[0m\u001b[0m\n",
      "\u001b[0;32m/home/felipe/tf-venv3/lib/python3.5/site-packages/sklearn/externals/joblib/parallel.py\u001b[0m in \u001b[0;36m<listcomp>\u001b[0;34m(.0)\u001b[0m\n\u001b[1;32m    129\u001b[0m \u001b[0;34m\u001b[0m\u001b[0m\n\u001b[1;32m    130\u001b[0m     \u001b[0;32mdef\u001b[0m \u001b[0m__call__\u001b[0m\u001b[0;34m(\u001b[0m\u001b[0mself\u001b[0m\u001b[0;34m)\u001b[0m\u001b[0;34m:\u001b[0m\u001b[0;34m\u001b[0m\u001b[0m\n\u001b[0;32m--> 131\u001b[0;31m         \u001b[0;32mreturn\u001b[0m \u001b[0;34m[\u001b[0m\u001b[0mfunc\u001b[0m\u001b[0;34m(\u001b[0m\u001b[0;34m*\u001b[0m\u001b[0margs\u001b[0m\u001b[0;34m,\u001b[0m \u001b[0;34m**\u001b[0m\u001b[0mkwargs\u001b[0m\u001b[0;34m)\u001b[0m \u001b[0;32mfor\u001b[0m \u001b[0mfunc\u001b[0m\u001b[0;34m,\u001b[0m \u001b[0margs\u001b[0m\u001b[0;34m,\u001b[0m \u001b[0mkwargs\u001b[0m \u001b[0;32min\u001b[0m \u001b[0mself\u001b[0m\u001b[0;34m.\u001b[0m\u001b[0mitems\u001b[0m\u001b[0;34m]\u001b[0m\u001b[0;34m\u001b[0m\u001b[0m\n\u001b[0m\u001b[1;32m    132\u001b[0m \u001b[0;34m\u001b[0m\u001b[0m\n\u001b[1;32m    133\u001b[0m     \u001b[0;32mdef\u001b[0m \u001b[0m__len__\u001b[0m\u001b[0;34m(\u001b[0m\u001b[0mself\u001b[0m\u001b[0;34m)\u001b[0m\u001b[0;34m:\u001b[0m\u001b[0;34m\u001b[0m\u001b[0m\n",
      "\u001b[0;32m/home/felipe/tf-venv3/lib/python3.5/site-packages/sklearn/decomposition/online_lda.py\u001b[0m in \u001b[0;36m_update_doc_distribution\u001b[0;34m(X, exp_topic_word_distr, doc_topic_prior, max_iters, mean_change_tol, cal_sstats, random_state)\u001b[0m\n\u001b[1;32m    117\u001b[0m \u001b[0;34m\u001b[0m\u001b[0m\n\u001b[1;32m    118\u001b[0m             doc_topic_d = (exp_doc_topic_d *\n\u001b[0;32m--> 119\u001b[0;31m                            np.dot(cnts / norm_phi, exp_topic_word_d.T))\n\u001b[0m\u001b[1;32m    120\u001b[0m             \u001b[0;31m# Note: adds doc_topic_prior to doc_topic_d, in-place.\u001b[0m\u001b[0;34m\u001b[0m\u001b[0;34m\u001b[0m\u001b[0m\n\u001b[1;32m    121\u001b[0m             _dirichlet_expectation_1d(doc_topic_d, doc_topic_prior,\n",
      "\u001b[0;31mKeyboardInterrupt\u001b[0m: "
     ]
    }
   ],
   "source": [
    "%time\n",
    "\n",
    "# start with minus infinity as your\n",
    "# current best_score\n",
    "best_score = float(\"-inf\")\n",
    "\n",
    "for g in ParameterGrid(parameters):\n",
    "    pipeline.set_params(**g)\n",
    "    \n",
    "    X_train, X_validation, y_train, y_validation = train_test_split(data, binary_label_data, test_size = 0.25)\n",
    "    \n",
    "    # here you call fit with whatever data you want\n",
    "    pipeline.fit(X_train,y_train)\n",
    "    \n",
    "    # again, choose the validation data \n",
    "    # yourself\n",
    "    y_pred_train = pipeline.predict(X_train)    \n",
    "    y_pred_validation = pipeline.predict(X_validation)\n",
    "    \n",
    "    # I've used f1-score as an example, but you can use\n",
    "    # any metric you want.\n",
    "    train_score = f1_score(y_train,y_pred_train, average='micro')\n",
    "    val_score = f1_score(y_validation,y_pred_validation, average='micro')\n",
    "    \n",
    "    current_score = val_score\n",
    "    \n",
    "    # show results\n",
    "    print(\"training F1: {}\".format(train_score))\n",
    "    print(\"validation F1: {}\".format(val_score))\n",
    "    print(\"grid: {}\".format(g))\n",
    "    print(\"\")\n",
    "    \n",
    "    # update the best_score if needed\n",
    "    if current_score > best_score:\n",
    "        best_score = current_score\n",
    "        best_grid = g"
   ]
  },
  {
   "cell_type": "code",
   "execution_count": null,
   "metadata": {
    "collapsed": true
   },
   "outputs": [],
   "source": []
  }
 ],
 "metadata": {
  "kernelspec": {
   "display_name": "Global TF Kernel (Python 3)",
   "language": "python",
   "name": "global-tf-python-3"
  },
  "language_info": {
   "codemirror_mode": {
    "name": "ipython",
    "version": 3
   },
   "file_extension": ".py",
   "mimetype": "text/x-python",
   "name": "python",
   "nbconvert_exporter": "python",
   "pygments_lexer": "ipython3",
   "version": "3.5.2"
  }
 },
 "nbformat": 4,
 "nbformat_minor": 2
}
