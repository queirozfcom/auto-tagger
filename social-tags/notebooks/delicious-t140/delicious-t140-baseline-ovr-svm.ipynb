{
 "cells": [
  {
   "cell_type": "code",
   "execution_count": null,
   "metadata": {},
   "outputs": [],
   "source": [
    "import pandas as pd\n",
    "import numpy as np\n",
    "import matplotlib.pyplot as plt\n",
    "import gc\n",
    "import os\n",
    "import pickle\n",
    "import sklearn\n",
    "import sys\n",
    "\n",
    "from sklearn.metrics import f1_score, precision_score, recall_score\n",
    "from sklearn.model_selection import cross_val_score\n",
    "from sklearn.multiclass import OneVsRestClassifier\n",
    "from sklearn.preprocessing import MultiLabelBinarizer\n",
    "from sklearn.feature_extraction.text import CountVectorizer\n",
    "from sklearn.feature_extraction.text import TfidfTransformer\n",
    "from sklearn.pipeline import Pipeline\n",
    "from sklearn.svm import LinearSVC\n",
    "\n",
    "from tqdm import *\n",
    "\n",
    "%matplotlib inline\n",
    "%load_ext autoreload\n",
    "%autoreload 1"
   ]
  },
  {
   "cell_type": "code",
   "execution_count": null,
   "metadata": {
    "collapsed": true
   },
   "outputs": [],
   "source": [
    "src_dir = os.path.join(os.getcwd(), os.pardir, '../src')\n",
    "sys.path.append(src_dir)"
   ]
  },
  {
   "cell_type": "code",
   "execution_count": null,
   "metadata": {},
   "outputs": [],
   "source": [
    "%aimport data.delicious_t140\n",
    "%aimport features.build_features\n",
    "%aimport helpers.files,helpers.labels"
   ]
  },
  {
   "cell_type": "code",
   "execution_count": null,
   "metadata": {
    "collapsed": true
   },
   "outputs": [],
   "source": [
    "from data.delicious_t140 import load_or_get_from_cache\n",
    "from helpers.labels import truncate_labels\n",
    "from features.delicious_t140 import clean_text_delicious"
   ]
  },
  {
   "cell_type": "code",
   "execution_count": null,
   "metadata": {},
   "outputs": [],
   "source": [
    "ROOT = \"/media/felipe/SAMSUNG/delicious/delicioust140\"\n",
    "TAGINFO = ROOT+\"/taginfo.xml\"\n",
    "INTERIM_DATA_ROOT = os.path.abspath(\"../../data/interim/delicious-t140/\")\n",
    "MAX_NB_WORDS = 2000\n",
    "MIN_LABEL_DF = 2"
   ]
  },
  {
   "cell_type": "code",
   "execution_count": null,
   "metadata": {
    "collapsed": true
   },
   "outputs": [],
   "source": [
    "if os.path.isfile(INTERIM_DATA_ROOT+\"/docs_df.p\"):\n",
    "    docs_df = pickle.load(open(INTERIM_DATA_ROOT+\"/docs_df.p\", \"rb\" ))\n",
    "else:\n",
    "    docs_df = load_taginfo_into_dataframe(TAGINFO)\n",
    "    pickle.dump(docs_df,open(INTERIM_DATA_ROOT+\"docs_df.p\",\"wb\"))"
   ]
  },
  {
   "cell_type": "code",
   "execution_count": null,
   "metadata": {},
   "outputs": [],
   "source": [
    "num_documents = len(docs_df)\n",
    "num_documents"
   ]
  },
  {
   "cell_type": "code",
   "execution_count": null,
   "metadata": {},
   "outputs": [],
   "source": [
    "docs_df.head(10)"
   ]
  },
  {
   "cell_type": "code",
   "execution_count": null,
   "metadata": {
    "collapsed": true
   },
   "outputs": [],
   "source": [
    "# TODO optimize this because currently this does one I/O OP per loop\n",
    "def load_contents(hash):\n",
    "    file_path = ROOT+\"fdocuments/\"+get_directory_name_from_hash(hash)+\"/\"+hash+\".html\"\n",
    "       \n",
    "    with open(file_path,\"r\",encoding='utf-8', errors='ignore') as f:\n",
    "        contents = f.read()\n",
    "        \n",
    "    return contents"
   ]
  },
  {
   "cell_type": "code",
   "execution_count": null,
   "metadata": {},
   "outputs": [],
   "source": [
    "%%time\n",
    "\n",
    "if os.path.isfile(INTERIM_DATA_ROOT+\"/sample_df.p\"):\n",
    "    sample_df = pickle.load(open(INTERIM_DATA_ROOT+\"/sample_df.p\", \"rb\"))\n",
    "else:\n",
    "    random_indices = np.random.choice(docs_df.index.values, int(num_documents/50), replace=False)\n",
    "    sample_df = docs_df.loc[random_indices]\n",
    "    sample_df = sample_df.reset_index().drop(['index'],axis=1)\n",
    "    sample_df['contents'] = sample_df['hash'].map(lambda hash: load_contents(hash))\n",
    "    pickle.dump(sample_df,open(INTERIM_DATA_ROOT+\"/sample_df.p\",\"wb\"))"
   ]
  },
  {
   "cell_type": "code",
   "execution_count": null,
   "metadata": {},
   "outputs": [],
   "source": [
    "num_documents = len(sample_df)\n",
    "num_documents"
   ]
  },
  {
   "cell_type": "code",
   "execution_count": null,
   "metadata": {},
   "outputs": [],
   "source": [
    "sample_df.head(10)"
   ]
  },
  {
   "cell_type": "code",
   "execution_count": null,
   "metadata": {
    "collapsed": true
   },
   "outputs": [],
   "source": [
    "tag_sets = sample_df[\"unique_tags\"].values\n",
    "\n",
    "all_tags = set()\n",
    "\n",
    "for tag_set in tag_sets:\n",
    "    for tag in tag_set.split(','):\n",
    "        all_tags.add(tag)"
   ]
  },
  {
   "cell_type": "code",
   "execution_count": null,
   "metadata": {},
   "outputs": [],
   "source": [
    "len(all_tags)"
   ]
  },
  {
   "cell_type": "code",
   "execution_count": null,
   "metadata": {
    "collapsed": true
   },
   "outputs": [],
   "source": [
    "sample_df[\"tags_split\"] = sample_df[\"unique_tags\"].map(lambda tagstring: tagstring.split(\",\"))\n",
    "labels = sample_df[\"tags_split\"].values"
   ]
  },
  {
   "cell_type": "code",
   "execution_count": null,
   "metadata": {
    "collapsed": true
   },
   "outputs": [],
   "source": [
    "truncated_labels = truncate_labels(labels,MIN_LABEL_DF)"
   ]
  },
  {
   "cell_type": "code",
   "execution_count": null,
   "metadata": {
    "collapsed": true
   },
   "outputs": [],
   "source": [
    "mlb = MultiLabelBinarizer()\n",
    "binary_label_data = mlb.fit_transform(truncated_labels)"
   ]
  },
  {
   "cell_type": "code",
   "execution_count": null,
   "metadata": {},
   "outputs": [],
   "source": [
    "binary_label_data.shape"
   ]
  },
  {
   "cell_type": "code",
   "execution_count": null,
   "metadata": {
    "collapsed": true
   },
   "outputs": [],
   "source": [
    "data = sample_df[\"contents\"].values"
   ]
  },
  {
   "cell_type": "code",
   "execution_count": null,
   "metadata": {},
   "outputs": [],
   "source": [
    "data[0][:1000]"
   ]
  },
  {
   "cell_type": "code",
   "execution_count": null,
   "metadata": {},
   "outputs": [],
   "source": [
    "os.environ[\"CLASSPATH\"]=\"/home/felipe/auto-tagger/data/stanford-postagger/stanford-postagger-2017-06-09\"\n",
    "clean_text_delicious(data[0])[:1000]"
   ]
  },
  {
   "cell_type": "code",
   "execution_count": null,
   "metadata": {
    "collapsed": true
   },
   "outputs": [],
   "source": [
    "pipeline = Pipeline([\n",
    "    ('vect', CountVectorizer()),\n",
    "    ('tfidf', TfidfTransformer()),\n",
    "    ('clf', OneVsRestClassifier(LinearSVC(),n_jobs=-1)),\n",
    "])"
   ]
  },
  {
   "cell_type": "code",
   "execution_count": null,
   "metadata": {
    "collapsed": true
   },
   "outputs": [],
   "source": [
    "# use later\n",
    "parameters = {\n",
    "    'vect__preprocessor': clean_text_delicious,\n",
    "    \"vect__max_features\": MAX_NB_WORDS\n",
    "}"
   ]
  },
  {
   "cell_type": "code",
   "execution_count": null,
   "metadata": {
    "scrolled": true
   },
   "outputs": [],
   "source": [
    "scores = cross_val_score(pipeline, data, binary_label_data, cv=5,scoring='f1_micro',verbose=0)"
   ]
  },
  {
   "cell_type": "code",
   "execution_count": null,
   "metadata": {},
   "outputs": [],
   "source": [
    "scores"
   ]
  },
  {
   "cell_type": "code",
   "execution_count": null,
   "metadata": {
    "collapsed": true
   },
   "outputs": [],
   "source": []
  }
 ],
 "metadata": {
  "kernelspec": {
   "display_name": "Global TF Kernel (Python 3)",
   "language": "python",
   "name": "global-tf-python-3"
  },
  "language_info": {
   "codemirror_mode": {
    "name": "ipython",
    "version": 3
   },
   "file_extension": ".py",
   "mimetype": "text/x-python",
   "name": "python",
   "nbconvert_exporter": "python",
   "pygments_lexer": "ipython3",
   "version": "3.5.2"
  }
 },
 "nbformat": 4,
 "nbformat_minor": 2
}
