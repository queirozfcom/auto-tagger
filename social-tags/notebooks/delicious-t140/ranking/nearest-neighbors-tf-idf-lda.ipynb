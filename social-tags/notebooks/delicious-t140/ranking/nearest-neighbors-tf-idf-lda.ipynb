{
 "cells": [
  {
   "cell_type": "code",
   "execution_count": 1,
   "metadata": {
    "collapsed": true
   },
   "outputs": [],
   "source": [
    "import pandas as pd\n",
    "import numpy as np\n",
    "import matplotlib.pyplot as plt\n",
    "\n",
    "import gc\n",
    "import os\n",
    "import re\n",
    "import pickle\n",
    "import sklearn\n",
    "import sys\n",
    "import string\n",
    "\n",
    "from datetime import datetime\n",
    "from sklearn.externals import joblib\n",
    "from sklearn.metrics import f1_score, precision_score, recall_score,average_precision_score\n",
    "from sklearn.model_selection import cross_val_score, GridSearchCV,ParameterGrid, train_test_split\n",
    "from sklearn.multiclass import OneVsRestClassifier\n",
    "from sklearn.preprocessing import MultiLabelBinarizer, StandardScaler,MinMaxScaler\n",
    "from sklearn.feature_extraction.text import CountVectorizer\n",
    "from sklearn.feature_extraction.text import TfidfTransformer,TfidfVectorizer\n",
    "from sklearn.svm import SVC\n",
    "from sklearn.pipeline import Pipeline\n",
    "from sklearn.svm import LinearSVC, SVC\n",
    "from sklearn.calibration import CalibratedClassifierCV\n",
    "from sklearn.neighbors import KNeighborsClassifier,NearestNeighbors\n",
    "\n",
    "from tqdm import *\n",
    "\n",
    "%matplotlib inline\n",
    "%load_ext autoreload\n",
    "%autoreload 2"
   ]
  },
  {
   "cell_type": "code",
   "execution_count": 2,
   "metadata": {
    "collapsed": true
   },
   "outputs": [],
   "source": [
    "src_dir = os.path.join(os.getcwd(), os.pardir, '../../')\n",
    "sys.path.append(src_dir)"
   ]
  },
  {
   "cell_type": "code",
   "execution_count": 3,
   "metadata": {
    "collapsed": true
   },
   "outputs": [],
   "source": [
    "%aimport src.data.delicious_t140\n",
    "%aimport src.helpers.labels\n",
    "%aimport src.utils.dataframes, src.utils.clusters, src.utils.metrics,src.utils.plotting"
   ]
  },
  {
   "cell_type": "code",
   "execution_count": 4,
   "metadata": {
    "collapsed": true
   },
   "outputs": [],
   "source": [
    "from src.features.delicious_t140 import clean_text_delicious\n",
    "from src.data.delicious_t140 import get_sample_from_cache\n",
    "from src.helpers.labels import truncate_labels\n",
    "from src.utils.metrics import ranking\n",
    "from src.utils.dataframes import sample_rows\n",
    "from src.utils.plotting import plot_micro_f1_at_k"
   ]
  },
  {
   "cell_type": "code",
   "execution_count": 14,
   "metadata": {
    "collapsed": true
   },
   "outputs": [],
   "source": [
    "MODELS_ROOT = os.path.abspath(\"../../../models/ranking/delicious-knn-tf-idf\")\n",
    "DATA_ROOT = \"/media/felipe/SAMSUNG/delicious/delicioust140\"\n",
    "INTERIM_DATA_ROOT = os.path.abspath(\"../../../data/interim/delicious-t140/\")\n",
    "OUTPUT_FILE = 'output-knn-tf-idf-lda'+ datetime.now().strftime('%Y-%m-%d-%H-%M-%S')+'.txt'\n",
    "\n",
    "MAX_NB_WORDS = 500\n",
    "SEED= 42\n",
    "MIN_TAG_DF=10\n",
    "SAMPLE_FRAC=20"
   ]
  },
  {
   "cell_type": "code",
   "execution_count": 6,
   "metadata": {
    "collapsed": true
   },
   "outputs": [],
   "source": [
    "np.random.seed(SEED)"
   ]
  },
  {
   "cell_type": "code",
   "execution_count": 7,
   "metadata": {
    "collapsed": true
   },
   "outputs": [],
   "source": [
    "docs_df = get_sample_from_cache(INTERIM_DATA_ROOT,SAMPLE_FRAC)"
   ]
  },
  {
   "cell_type": "code",
   "execution_count": 8,
   "metadata": {},
   "outputs": [
    {
     "data": {
      "text/html": [
       "<div>\n",
       "<style scoped>\n",
       "    .dataframe tbody tr th:only-of-type {\n",
       "        vertical-align: middle;\n",
       "    }\n",
       "\n",
       "    .dataframe tbody tr th {\n",
       "        vertical-align: top;\n",
       "    }\n",
       "\n",
       "    .dataframe thead th {\n",
       "        text-align: right;\n",
       "    }\n",
       "</style>\n",
       "<table border=\"1\" class=\"dataframe\">\n",
       "  <thead>\n",
       "    <tr style=\"text-align: right;\">\n",
       "      <th></th>\n",
       "      <th>filename</th>\n",
       "      <th>filetype</th>\n",
       "      <th>hash</th>\n",
       "      <th>tags</th>\n",
       "      <th>url</th>\n",
       "      <th>num_users</th>\n",
       "      <th>num_tags</th>\n",
       "      <th>contents</th>\n",
       "    </tr>\n",
       "  </thead>\n",
       "  <tbody>\n",
       "    <tr>\n",
       "      <th>0</th>\n",
       "      <td>26313806abe42032de4f612017738426.html</td>\n",
       "      <td>html</td>\n",
       "      <td>26313806abe42032de4f612017738426</td>\n",
       "      <td>tutoriel,multimedia,english,screencasts,videos...</td>\n",
       "      <td>http://screencasts.ubuntu.com/</td>\n",
       "      <td>228</td>\n",
       "      <td>23</td>\n",
       "      <td>Ubuntu Screencasts @import \"/misc/drupal.css\"...</td>\n",
       "    </tr>\n",
       "  </tbody>\n",
       "</table>\n",
       "</div>"
      ],
      "text/plain": [
       "                                filename filetype  \\\n",
       "0  26313806abe42032de4f612017738426.html     html   \n",
       "\n",
       "                               hash  \\\n",
       "0  26313806abe42032de4f612017738426   \n",
       "\n",
       "                                                tags  \\\n",
       "0  tutoriel,multimedia,english,screencasts,videos...   \n",
       "\n",
       "                              url  num_users  num_tags  \\\n",
       "0  http://screencasts.ubuntu.com/        228        23   \n",
       "\n",
       "                                            contents  \n",
       "0   Ubuntu Screencasts @import \"/misc/drupal.css\"...  "
      ]
     },
     "execution_count": 8,
     "metadata": {},
     "output_type": "execute_result"
    }
   ],
   "source": [
    "docs_df.head(1)"
   ]
  },
  {
   "cell_type": "code",
   "execution_count": 9,
   "metadata": {},
   "outputs": [
    {
     "data": {
      "text/plain": [
       "28743"
      ]
     },
     "execution_count": 9,
     "metadata": {},
     "output_type": "execute_result"
    }
   ],
   "source": [
    "len(docs_df)"
   ]
  },
  {
   "cell_type": "code",
   "execution_count": 10,
   "metadata": {
    "collapsed": true
   },
   "outputs": [],
   "source": [
    "labels = docs_df[\"tags\"].map(lambda tagstring: tagstring.split(\",\"))\n",
    "labels = truncate_labels(labels,MIN_TAG_DF)"
   ]
  },
  {
   "cell_type": "code",
   "execution_count": 11,
   "metadata": {},
   "outputs": [
    {
     "name": "stdout",
     "output_type": "stream",
     "text": [
      "total number of unique tags: 3305 \n",
      "total number of train documents: 24432\n",
      "total number of validation documents: 4311\n"
     ]
    }
   ],
   "source": [
    "np.random.seed(SEED)\n",
    "\n",
    "mlb = MultiLabelBinarizer()\n",
    "\n",
    "binary_labels = mlb.fit_transform(labels)\n",
    "\n",
    "print(\"total number of unique tags: {} \".format(len(mlb.classes_)))\n",
    "\n",
    "data = docs_df['contents'].values\n",
    "indices = np.arange(len(data))\n",
    "np.random.shuffle(indices)\n",
    "\n",
    "data = [data[i] for i in indices]\n",
    "targets = binary_labels[indices]\n",
    "num_validation_samples = int(0.15 * len(data))\n",
    "\n",
    "X_train = data[:-num_validation_samples]\n",
    "Y_train = targets[:-num_validation_samples]\n",
    "X_val = data[-num_validation_samples:]\n",
    "Y_val = targets[-num_validation_samples:]\n",
    "\n",
    "print('total number of train documents: {}'.format(len(X_train)))\n",
    "print('total number of validation documents: {}'.format(len(X_val)))"
   ]
  },
  {
   "cell_type": "markdown",
   "metadata": {},
   "source": [
    "### these parameters were found via grid search"
   ]
  },
  {
   "cell_type": "code",
   "execution_count": 12,
   "metadata": {
    "collapsed": true
   },
   "outputs": [],
   "source": [
    "# {'nn__n_neighbors': 50, 'vect__norm': 'l2', 'lda__n_components': 50, 'vect__max_features': 500, 'nn__metric': 'manhattan'}\n",
    "\n",
    "parameters =     [{ \n",
    "        \"vect__max_features\": [500],\n",
    "        \"vect__norm\": ['l2'],\n",
    "        \"lda__n_components\":[50],\n",
    "        \"nn__n_neighbors\":[50],\n",
    "        \"nn__metric\": [\"manhattan\"]\n",
    "    }]\n"
   ]
  },
  {
   "cell_type": "code",
   "execution_count": 16,
   "metadata": {
    "scrolled": true
   },
   "outputs": [
    {
     "name": "stdout",
     "output_type": "stream",
     "text": [
      "{'nn__n_neighbors': 50, 'vect__max_features': 500, 'vect__norm': 'l2', 'lda__n_components': 50, 'nn__metric': 'manhattan'}\n",
      "validation micro-F1 @1: 0.43435627383330305\n",
      "validation micro-F1 @2: 0.4018535681186284\n",
      "validation micro-F1 @3: 0.37412785215915517\n",
      "validation micro-F1 @4: 0.35072449906747644\n",
      "validation micro-F1 @5: 0.33712632594021213\n",
      "validation micro-F1 @6: 0.3221328489880643\n",
      "validation micro-F1 @7: 0.3109730501217362\n",
      "validation micro-F1 @8: 0.30263060757437804\n",
      "validation micro-F1 @9: 0.2940995427365459\n",
      "validation micro-F1 @10: 0.28554384569496916\n",
      "\n"
     ]
    }
   ],
   "source": [
    "for g in ParameterGrid(parameters):\n",
    "    print(g)\n",
    "    vect=TfidfVectorizer().set_params(**dict([(re.sub('^vect__','',k),v) for (k,v) in g.items() if k.startswith('vect__') ]))\n",
    "    vect.fit(X_train)\n",
    "    \n",
    "    X_train_vect = vect.transform(X_train)\n",
    "    X_val_vect = vect.transform(X_val)\n",
    "    \n",
    "    number_of_components = g['lda__n_components']\n",
    "    \n",
    "    cache_path = INTERIM_DATA_ROOT+\"/lda-NBCOMPS={}NBWORDS={}SEED={}.p\".format(number_of_components,MAX_NB_WORDS,SEED)\n",
    "    \n",
    "    # cache the lda model because it's expensive to build\n",
    "    if os.path.isfile(cache_path):\n",
    "        lda=joblib.load(open(cache_path,\"rb\"))\n",
    "    else:\n",
    "        print('calculating LDA model for {} components'.format(number_of_components))\n",
    "        lda = LatentDirichletAllocation(n_components=number_of_components, learning_method='online')\n",
    "        lda.fit(X_train_vect)\n",
    "        joblib.dump(lda,open(cache_path,\"wb\"))\n",
    "\n",
    "    # these are the topic distributions\n",
    "    X_train_vect = lda.transform(X_train_vect)\n",
    "    X_val_vect = lda.transform(X_val_vect)\n",
    "    \n",
    "    nbrs = NearestNeighbors().set_params(**dict([(re.sub('^nn__','',k),v) for (k,v) in g.items() if k.startswith('nn__') ]))\n",
    "    nbrs.fit(X_train_vect)\n",
    "    \n",
    "    # just to make it easier to use it\n",
    "    k = nbrs.n_neighbors\n",
    "    \n",
    "    # distance matrix shape: (num_validation_documents, k)\n",
    "    # indices matrix shape: (num_validation_documents, k)\n",
    "    distances_matrix_val, indices_matrix_val = nbrs.kneighbors(X_val_vect)\n",
    "    \n",
    "    # shape: (num_validation_documents, k, num_tags)\n",
    "    neighbour_labels_tensor_val = Y_train[indices_matrix_val]\n",
    "        \n",
    "    Y_pred_val = []\n",
    "        \n",
    "    # for every validation document do\n",
    "    for i in range(distances_matrix_val.shape[0]):\n",
    "        # these are the labels from the neighbours of test document i\n",
    "        # shape: (k, num_tags)\n",
    "        neighbor_labels = neighbour_labels_tensor_val[i,:,:]\n",
    "        \n",
    "        # these are the distances from test document i to the nearest neighbours\n",
    "        # shape: (k, )\n",
    "        distances_to_neighbors = distances_matrix_val[i]\n",
    "        \n",
    "        # sum the contributions from all neighbors, for all tags\n",
    "        # no need to normalize because we're only interested in the order\n",
    "        y_preds = neighbor_labels.sum(axis=0)\n",
    "                    \n",
    "        Y_pred_val.append(y_preds)\n",
    "               \n",
    "    Y_pred_val = np.array(Y_pred_val)\n",
    "    \n",
    "    ks = [1,2,3,4,5,6,7,8,9,10]\n",
    "        \n",
    "    # k is the number of neighbors so let's use at_k\n",
    "    for at_k in ks:\n",
    "        print(\"validation micro-F1 @{}: {}\".format(at_k,ranking.micro_f1_at_k(Y_val,Y_pred_val,k=at_k,normalize=True))) \n",
    "\n",
    "    \n",
    "        \n",
    "    print('')    "
   ]
  },
  {
   "cell_type": "code",
   "execution_count": 17,
   "metadata": {},
   "outputs": [
    {
     "data": {
      "image/png": "[encoded data removed]",
      "text/plain": [
       "<matplotlib.figure.Figure at 0x7faaabfddda0>"
      ]
     },
     "metadata": {},
     "output_type": "display_data"
    }
   ],
   "source": [
    "plt.clf()\n",
    "img = plt.gcf()\n",
    "ax = plt.gca()\n",
    "validation_scores = [\n",
    "    0.43435627383330305,0.4152191894127378,\n",
    "    0.37412785215915517,0.35072449906747644,\n",
    "    0.33712632594021213,0.3221328489880643,\n",
    "    0.3109730501217362,0.30263060757437804,\n",
    "    0.2940995427365459,0.28554384569496916\n",
    "]\n",
    "plot_micro_f1_at_k(validation_scores,ax=ax)\n",
    "plt.gcf().set_size_inches(7,5)\n",
    "plt.gca().legend_.remove()\n",
    "plt.show()"
   ]
  },
  {
   "cell_type": "code",
   "execution_count": null,
   "metadata": {
    "collapsed": true
   },
   "outputs": [],
   "source": []
  }
 ],
 "metadata": {
  "kernelspec": {
   "display_name": "Python 3",
   "language": "python",
   "name": "python3"
  },
  "language_info": {
   "codemirror_mode": {
    "name": "ipython",
    "version": 3
   },
   "file_extension": ".py",
   "mimetype": "text/x-python",
   "name": "python",
   "nbconvert_exporter": "python",
   "pygments_lexer": "ipython3",
   "version": "3.5.2"
  }
 },
 "nbformat": 4,
 "nbformat_minor": 2
}
