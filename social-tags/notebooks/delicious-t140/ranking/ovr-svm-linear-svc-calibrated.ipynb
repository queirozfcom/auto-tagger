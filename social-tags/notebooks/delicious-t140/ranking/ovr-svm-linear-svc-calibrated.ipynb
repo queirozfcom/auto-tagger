{
 "cells": [
  {
   "cell_type": "markdown",
   "metadata": {},
   "source": [
    "## ovr-svm"
   ]
  },
  {
   "cell_type": "code",
   "execution_count": 1,
   "metadata": {
    "collapsed": true
   },
   "outputs": [],
   "source": [
    "import pandas as pd\n",
    "import numpy as np\n",
    "import matplotlib.pyplot as plt\n",
    "\n",
    "import gc\n",
    "import os\n",
    "import re\n",
    "import pickle\n",
    "import sklearn\n",
    "import sys\n",
    "import string\n",
    "\n",
    "\n",
    "from datetime import datetime\n",
    "from sklearn.externals import joblib\n",
    "from sklearn.metrics import f1_score, precision_score, recall_score,average_precision_score\n",
    "from sklearn.model_selection import cross_val_score, GridSearchCV,ParameterGrid, train_test_split\n",
    "from sklearn.multiclass import OneVsRestClassifier\n",
    "from sklearn.preprocessing import MultiLabelBinarizer, StandardScaler,MinMaxScaler\n",
    "from sklearn.feature_extraction.text import CountVectorizer\n",
    "from sklearn.feature_extraction.text import TfidfTransformer,TfidfVectorizer\n",
    "from sklearn.svm import SVC\n",
    "from sklearn.pipeline import Pipeline\n",
    "from sklearn.svm import LinearSVC, SVC\n",
    "from sklearn.calibration import CalibratedClassifierCV\n",
    "from sklearn.linear_model import LogisticRegression,SGDClassifier\n",
    "\n",
    "from tqdm import *\n",
    "\n",
    "%matplotlib inline\n",
    "%load_ext autoreload\n",
    "%autoreload 1"
   ]
  },
  {
   "cell_type": "code",
   "execution_count": 2,
   "metadata": {
    "collapsed": true
   },
   "outputs": [],
   "source": [
    "src_dir = os.path.join(os.getcwd(), os.pardir, '../../')\n",
    "sys.path.append(src_dir)"
   ]
  },
  {
   "cell_type": "code",
   "execution_count": 3,
   "metadata": {
    "collapsed": true
   },
   "outputs": [],
   "source": [
    "%aimport src.data.delicious_t140\n",
    "%aimport src.helpers.labels\n",
    "%aimport src.utils.dataframes, src.utils.clusters, src.utils.metrics,src.utils.plotting"
   ]
  },
  {
   "cell_type": "code",
   "execution_count": 28,
   "metadata": {
    "collapsed": true
   },
   "outputs": [],
   "source": [
    "from src.features.delicious_t140 import clean_text_delicious\n",
    "from src.data.delicious_t140 import get_sample_from_cache\n",
    "from src.helpers.labels import truncate_labels\n",
    "from src.utils.metrics import ranking\n",
    "from src.utils.dataframes import sample_rows\n",
    "from src.utils.plotting import plot_micro_f1_at_k"
   ]
  },
  {
   "cell_type": "code",
   "execution_count": 39,
   "metadata": {
    "collapsed": true
   },
   "outputs": [],
   "source": [
    "MODELS_ROOT = os.path.abspath(\"../../../models/ranking/delicious-ovr-linear-svc-calibrated\")\n",
    "DATA_ROOT = \"/media/felipe/SAMSUNG/delicious/delicioust140\"\n",
    "INTERIM_DATA_ROOT = os.path.abspath(\"../../../data/interim/delicious-t140/\")\n",
    "OUTPUT_FILE = 'output-linear-svc-'+ datetime.now().strftime('%Y-%m-%d-%H-%M-%S')+'.txt'\n",
    "\n",
    "MAX_NB_WORDS = 500\n",
    "SEED= 42\n",
    "MIN_TAG_DF=10\n",
    "SAMPLE_FRAC=20"
   ]
  },
  {
   "cell_type": "code",
   "execution_count": 18,
   "metadata": {
    "collapsed": true
   },
   "outputs": [],
   "source": [
    "np.random.seed(SEED)"
   ]
  },
  {
   "cell_type": "code",
   "execution_count": 19,
   "metadata": {},
   "outputs": [],
   "source": [
    "docs_df = get_sample_from_cache(INTERIM_DATA_ROOT,SAMPLE_FRAC)"
   ]
  },
  {
   "cell_type": "code",
   "execution_count": 22,
   "metadata": {},
   "outputs": [],
   "source": [
    "labels = docs_df[\"tags\"].map(lambda tagstring: tagstring.split(\",\"))\n",
    "labels = truncate_labels(labels,MIN_TAG_DF)"
   ]
  },
  {
   "cell_type": "code",
   "execution_count": 23,
   "metadata": {},
   "outputs": [
    {
     "name": "stdout",
     "output_type": "stream",
     "text": [
      "total number of unique tags: 3305 \n",
      "total number of train documents: 24432\n",
      "total number of validation documents: 4311\n"
     ]
    }
   ],
   "source": [
    "mlb = MultiLabelBinarizer()\n",
    "\n",
    "binary_labels = mlb.fit_transform(labels)\n",
    "\n",
    "print(\"total number of unique tags: {} \".format(len(mlb.classes_)))\n",
    "\n",
    "data = docs_df['contents'].values\n",
    "indices = np.arange(len(data))\n",
    "np.random.shuffle(indices)\n",
    "\n",
    "data = [data[i] for i in indices]\n",
    "targets = binary_labels[indices]\n",
    "num_validation_samples = int(0.15 * len(data))\n",
    "\n",
    "X_train = data[:-num_validation_samples]\n",
    "Y_train = targets[:-num_validation_samples]\n",
    "X_val = data[-num_validation_samples:]\n",
    "Y_val = targets[-num_validation_samples:]\n",
    "\n",
    "print('total number of train documents: {}'.format(len(X_train)))\n",
    "print('total number of validation documents: {}'.format(len(X_val)))"
   ]
  },
  {
   "cell_type": "code",
   "execution_count": 24,
   "metadata": {
    "collapsed": true,
    "scrolled": true
   },
   "outputs": [],
   "source": [
    "def warn(*args, **kwargs):\n",
    "    pass\n",
    "import warnings\n",
    "warnings.warn = warn\n",
    "\n",
    "pipeline = Pipeline([\n",
    "    ('vect', TfidfVectorizer()),\n",
    "    # https://stackoverflow.com/a/39712590/436721\n",
    "    ('clf', OneVsRestClassifier(CalibratedClassifierCV(LinearSVC(),cv=2),n_jobs=-1)),\n",
    "])\n",
    "\n",
    "parameters = [\n",
    "    {\n",
    "        \"vect__max_features\": [MAX_NB_WORDS]\n",
    "    }\n",
    "]"
   ]
  },
  {
   "cell_type": "code",
   "execution_count": 25,
   "metadata": {
    "scrolled": false
   },
   "outputs": [
    {
     "name": "stdout",
     "output_type": "stream",
     "text": [
      "{'vect__max_features': 500}\n",
      "validation micro-F1 @1: 0.7574578469520103\n",
      "validation micro-F1 @2: 0.7055025898956535\n",
      "validation micro-F1 @3: 0.6647739004749122\n",
      "validation micro-F1 @4: 0.6334350358600468\n",
      "validation micro-F1 @5: 0.6067481093659104\n",
      "validation micro-F1 @6: 0.5827237609928495\n",
      "validation micro-F1 @7: 0.5605666722316297\n",
      "validation micro-F1 @8: 0.5414560910109746\n",
      "validation micro-F1 @9: 0.5231805724725944\n",
      "validation micro-F1 @10: 0.506676827684154\n",
      "CPU times: user 7min 55s, sys: 4.37 s, total: 7min 59s\n",
      "Wall time: 8min 28s\n"
     ]
    }
   ],
   "source": [
    "%%time\n",
    "\n",
    "for g in ParameterGrid(parameters):\n",
    "    print(g)\n",
    "    pipeline.set_params(**g)\n",
    "    \n",
    "    pipeline.fit(X_train,Y_train)\n",
    "    \n",
    "    Y_pred_train = pipeline.predict_proba(X_train)    \n",
    "    Y_pred_val = pipeline.predict_proba(X_val)\n",
    "    \n",
    "    ks = [1,2,3,4,5,6,7,8,9,10]\n",
    "        \n",
    "    # k is the number of neighbors so let's use at_k\n",
    "    for k in ks:\n",
    "        print(\"validation micro-F1 @{}: {}\".format(k,ranking.micro_f1_at_k(Y_val,Y_pred_val,k=k,normalize=True))) "
   ]
  },
  {
   "cell_type": "code",
   "execution_count": 37,
   "metadata": {},
   "outputs": [],
   "source": [
    "pickle.dump(pipeline,open(MODELS_ROOT+'/model-sample-{}.p'.format(SAMPLE_FRAC),'wb'))"
   ]
  },
  {
   "cell_type": "code",
   "execution_count": 38,
   "metadata": {},
   "outputs": [
    {
     "data": {
      "image/png": "[encoded data removed]",
      "text/plain": [
       "<matplotlib.figure.Figure at 0x7f5d5611bb00>"
      ]
     },
     "metadata": {},
     "output_type": "display_data"
    }
   ],
   "source": [
    "plt.clf()\n",
    "img = plt.gcf()\n",
    "ax = plt.gca()\n",
    "validation_scores = [\n",
    "    0.7574578469520103,0.7055025898956535,\n",
    "    0.6647739004749122,0.6334350358600468,\n",
    "    0.6067481093659104,0.5827237609928495,\n",
    "    0.5605666722316297,0.5414560910109746,\n",
    "    0.5231805724725944,0.506676827684154\n",
    "]\n",
    "plot_micro_f1_at_k(validation_scores,ax=ax)\n",
    "plt.gcf().set_size_inches(7,5)\n",
    "plt.gca().legend_.remove()\n",
    "plt.show()"
   ]
  },
  {
   "cell_type": "code",
   "execution_count": null,
   "metadata": {
    "collapsed": true
   },
   "outputs": [],
   "source": []
  }
 ],
 "metadata": {
  "kernelspec": {
   "display_name": "Python 3",
   "language": "python",
   "name": "python3"
  },
  "language_info": {
   "codemirror_mode": {
    "name": "ipython",
    "version": 3
   },
   "file_extension": ".py",
   "mimetype": "text/x-python",
   "name": "python",
   "nbconvert_exporter": "python",
   "pygments_lexer": "ipython3",
   "version": "3.5.2"
  }
 },
 "nbformat": 4,
 "nbformat_minor": 2
}
