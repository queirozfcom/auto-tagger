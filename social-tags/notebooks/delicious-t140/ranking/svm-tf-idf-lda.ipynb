{
 "cells": [
  {
   "cell_type": "markdown",
   "metadata": {},
   "source": [
    "## ovr-svm"
   ]
  },
  {
   "cell_type": "code",
   "execution_count": 18,
   "metadata": {},
   "outputs": [
    {
     "name": "stdout",
     "output_type": "stream",
     "text": [
      "The autoreload extension is already loaded. To reload it, use:\n",
      "  %reload_ext autoreload\n"
     ]
    }
   ],
   "source": [
    "import pandas as pd\n",
    "import numpy as np\n",
    "import matplotlib.pyplot as plt\n",
    "\n",
    "import gc\n",
    "import os\n",
    "import re\n",
    "import pickle\n",
    "import sklearn\n",
    "import sys\n",
    "import string\n",
    "\n",
    "\n",
    "from datetime import datetime\n",
    "from sklearn.externals import joblib\n",
    "from sklearn.metrics import f1_score, precision_score, recall_score,average_precision_score\n",
    "from sklearn.model_selection import cross_val_score, GridSearchCV,ParameterGrid, train_test_split\n",
    "from sklearn.multiclass import OneVsRestClassifier\n",
    "from sklearn.preprocessing import MultiLabelBinarizer, StandardScaler,MinMaxScaler\n",
    "from sklearn.feature_extraction.text import CountVectorizer\n",
    "from sklearn.feature_extraction.text import TfidfTransformer,TfidfVectorizer\n",
    "from sklearn.svm import SVC\n",
    "from sklearn.pipeline import Pipeline\n",
    "from sklearn.svm import LinearSVC, SVC\n",
    "from sklearn.calibration import CalibratedClassifierCV\n",
    "from sklearn.linear_model import LogisticRegression,SGDClassifier\n",
    "from sklearn.decomposition import LatentDirichletAllocation\n",
    "\n",
    "from tqdm import *\n",
    "\n",
    "%matplotlib inline\n",
    "%load_ext autoreload\n",
    "%autoreload 2"
   ]
  },
  {
   "cell_type": "code",
   "execution_count": 2,
   "metadata": {
    "collapsed": true
   },
   "outputs": [],
   "source": [
    "src_dir = os.path.join(os.getcwd(), os.pardir, '../../')\n",
    "sys.path.append(src_dir)"
   ]
  },
  {
   "cell_type": "code",
   "execution_count": 3,
   "metadata": {
    "collapsed": true
   },
   "outputs": [],
   "source": [
    "%aimport src.data.delicious_t140\n",
    "%aimport src.helpers.labels\n",
    "%aimport src.utils.dataframes, src.utils.clusters, src.utils.metrics,src.utils.plotting"
   ]
  },
  {
   "cell_type": "code",
   "execution_count": 4,
   "metadata": {
    "collapsed": true
   },
   "outputs": [],
   "source": [
    "from src.features.delicious_t140 import clean_text_delicious\n",
    "from src.data.delicious_t140 import get_sample_from_cache\n",
    "from src.helpers.labels import truncate_labels\n",
    "from src.utils.metrics import ranking\n",
    "from src.utils.dataframes import sample_rows\n",
    "from src.utils.plotting import plot_micro_f1_at_k"
   ]
  },
  {
   "cell_type": "code",
   "execution_count": 5,
   "metadata": {
    "collapsed": true
   },
   "outputs": [],
   "source": [
    "MODELS_ROOT = os.path.abspath(\"../../../models/ranking/delicious-ovr-linear-svc-calibrated\")\n",
    "DATA_ROOT = \"/media/felipe/SAMSUNG/delicious/delicioust140\"\n",
    "INTERIM_DATA_ROOT = os.path.abspath(\"../../../data/interim/delicious-t140/\")\n",
    "OUTPUT_FILE = 'output-linear-svc-'+ datetime.now().strftime('%Y-%m-%d-%H-%M-%S')+'.txt'\n",
    "\n",
    "MAX_NB_WORDS = 500\n",
    "SEED= 42\n",
    "MIN_TAG_DF=10\n",
    "SAMPLE_FRAC=20"
   ]
  },
  {
   "cell_type": "code",
   "execution_count": 6,
   "metadata": {
    "collapsed": true
   },
   "outputs": [],
   "source": [
    "np.random.seed(SEED)"
   ]
  },
  {
   "cell_type": "code",
   "execution_count": 7,
   "metadata": {
    "collapsed": true
   },
   "outputs": [],
   "source": [
    "docs_df = get_sample_from_cache(INTERIM_DATA_ROOT,SAMPLE_FRAC)"
   ]
  },
  {
   "cell_type": "code",
   "execution_count": 8,
   "metadata": {},
   "outputs": [
    {
     "data": {
      "text/html": [
       "<div>\n",
       "<style scoped>\n",
       "    .dataframe tbody tr th:only-of-type {\n",
       "        vertical-align: middle;\n",
       "    }\n",
       "\n",
       "    .dataframe tbody tr th {\n",
       "        vertical-align: top;\n",
       "    }\n",
       "\n",
       "    .dataframe thead th {\n",
       "        text-align: right;\n",
       "    }\n",
       "</style>\n",
       "<table border=\"1\" class=\"dataframe\">\n",
       "  <thead>\n",
       "    <tr style=\"text-align: right;\">\n",
       "      <th></th>\n",
       "      <th>filename</th>\n",
       "      <th>filetype</th>\n",
       "      <th>hash</th>\n",
       "      <th>tags</th>\n",
       "      <th>url</th>\n",
       "      <th>num_users</th>\n",
       "      <th>num_tags</th>\n",
       "      <th>contents</th>\n",
       "    </tr>\n",
       "  </thead>\n",
       "  <tbody>\n",
       "    <tr>\n",
       "      <th>0</th>\n",
       "      <td>26313806abe42032de4f612017738426.html</td>\n",
       "      <td>html</td>\n",
       "      <td>26313806abe42032de4f612017738426</td>\n",
       "      <td>tutoriel,multimedia,english,screencasts,videos...</td>\n",
       "      <td>http://screencasts.ubuntu.com/</td>\n",
       "      <td>228</td>\n",
       "      <td>23</td>\n",
       "      <td>Ubuntu Screencasts @import \"/misc/drupal.css\"...</td>\n",
       "    </tr>\n",
       "  </tbody>\n",
       "</table>\n",
       "</div>"
      ],
      "text/plain": [
       "                                filename filetype  \\\n",
       "0  26313806abe42032de4f612017738426.html     html   \n",
       "\n",
       "                               hash  \\\n",
       "0  26313806abe42032de4f612017738426   \n",
       "\n",
       "                                                tags  \\\n",
       "0  tutoriel,multimedia,english,screencasts,videos...   \n",
       "\n",
       "                              url  num_users  num_tags  \\\n",
       "0  http://screencasts.ubuntu.com/        228        23   \n",
       "\n",
       "                                            contents  \n",
       "0   Ubuntu Screencasts @import \"/misc/drupal.css\"...  "
      ]
     },
     "execution_count": 8,
     "metadata": {},
     "output_type": "execute_result"
    }
   ],
   "source": [
    "docs_df.head(1)"
   ]
  },
  {
   "cell_type": "code",
   "execution_count": 9,
   "metadata": {},
   "outputs": [
    {
     "data": {
      "text/plain": [
       "28743"
      ]
     },
     "execution_count": 9,
     "metadata": {},
     "output_type": "execute_result"
    }
   ],
   "source": [
    "len(docs_df)"
   ]
  },
  {
   "cell_type": "code",
   "execution_count": 10,
   "metadata": {
    "collapsed": true
   },
   "outputs": [],
   "source": [
    "labels = docs_df[\"tags\"].map(lambda tagstring: tagstring.split(\",\"))\n",
    "labels = truncate_labels(labels,MIN_TAG_DF)"
   ]
  },
  {
   "cell_type": "code",
   "execution_count": 11,
   "metadata": {},
   "outputs": [
    {
     "name": "stdout",
     "output_type": "stream",
     "text": [
      "total number of unique tags: 3305 \n",
      "total number of train documents: 24432\n",
      "total number of validation documents: 4311\n"
     ]
    }
   ],
   "source": [
    "np.random.seed(SEED)\n",
    "\n",
    "mlb = MultiLabelBinarizer()\n",
    "\n",
    "binary_labels = mlb.fit_transform(labels)\n",
    "\n",
    "print(\"total number of unique tags: {} \".format(len(mlb.classes_)))\n",
    "\n",
    "data = docs_df['contents'].values\n",
    "indices = np.arange(len(data))\n",
    "np.random.shuffle(indices)\n",
    "\n",
    "data = [data[i] for i in indices]\n",
    "targets = binary_labels[indices]\n",
    "num_validation_samples = int(0.15 * len(data))\n",
    "\n",
    "X_train = data[:-num_validation_samples]\n",
    "Y_train = targets[:-num_validation_samples]\n",
    "X_val = data[-num_validation_samples:]\n",
    "Y_val = targets[-num_validation_samples:]\n",
    "\n",
    "print('total number of train documents: {}'.format(len(X_train)))\n",
    "print('total number of validation documents: {}'.format(len(X_val)))"
   ]
  },
  {
   "cell_type": "code",
   "execution_count": 22,
   "metadata": {},
   "outputs": [],
   "source": [
    "parameters = [\n",
    "    { \n",
    "        \"vect__max_features\": [500],\n",
    "        \"vect__norm\": ['l1','l2',None],\n",
    "        \"lda__n_components\":[5,10,50,100],\n",
    "        \"svm__kernel\":[\"rbf\"]\n",
    "    }\n",
    "]"
   ]
  },
  {
   "cell_type": "code",
   "execution_count": 23,
   "metadata": {
    "scrolled": false
   },
   "outputs": [
    {
     "name": "stdout",
     "output_type": "stream",
     "text": [
      "{'lda__n_components': 5, 'vect__norm': 'l1', 'vect__max_features': 500, 'svm__kernel': 'rbf'}\n",
      "cache hit\n",
      "validation micro-F1 @1: 0.3658074298711145\n",
      "validation micro-F1 @2: 0.34160415464512406\n",
      "validation micro-F1 @3: 0.33498551657547476\n",
      "validation micro-F1 @4: 0.3276112889147512\n",
      "validation micro-F1 @5: 0.31212560197329786\n",
      "validation micro-F1 @6: 0.29571061474599725\n",
      "validation micro-F1 @7: 0.28909173375666175\n",
      "validation micro-F1 @8: 0.28208512863938634\n",
      "validation micro-F1 @9: 0.274488003379956\n",
      "validation micro-F1 @10: 0.2686399325287656\n",
      "\n",
      "{'lda__n_components': 5, 'vect__norm': 'l2', 'vect__max_features': 500, 'svm__kernel': 'rbf'}\n",
      "cache hit\n",
      "validation micro-F1 @1: 0.3988857938718663\n",
      "validation micro-F1 @2: 0.3602130087485736\n",
      "validation micro-F1 @3: 0.3431975403535742\n",
      "validation micro-F1 @4: 0.3272868367445921\n",
      "validation micro-F1 @5: 0.31588405344167514\n",
      "validation micro-F1 @6: 0.30398006688086027\n",
      "validation micro-F1 @7: 0.29098116947472746\n",
      "validation micro-F1 @8: 0.2842217855277232\n",
      "validation micro-F1 @9: 0.2785074097080486\n",
      "validation micro-F1 @10: 0.26971703792895846\n",
      "\n",
      "{'lda__n_components': 5, 'vect__norm': None, 'vect__max_features': 500, 'svm__kernel': 'rbf'}\n",
      "cache hit\n",
      "validation micro-F1 @1: 0.41827187671986793\n",
      "validation micro-F1 @2: 0.3838800374882849\n",
      "validation micro-F1 @3: 0.35583524027459956\n",
      "validation micro-F1 @4: 0.3388883537231481\n",
      "validation micro-F1 @5: 0.3206731331073975\n",
      "validation micro-F1 @6: 0.30686653138705244\n",
      "validation micro-F1 @7: 0.2930595621924317\n",
      "validation micro-F1 @8: 0.2831968539213978\n",
      "validation micro-F1 @9: 0.27552335659362637\n",
      "validation micro-F1 @10: 0.2678051230537418\n",
      "\n",
      "{'lda__n_components': 10, 'vect__norm': 'l1', 'vect__max_features': 500, 'svm__kernel': 'rbf'}\n",
      "cache hit\n",
      "validation micro-F1 @1: 0.34574059861857254\n",
      "validation micro-F1 @2: 0.32436109221649984\n",
      "validation micro-F1 @3: 0.30074891604257\n",
      "validation micro-F1 @4: 0.30808477237048665\n",
      "validation micro-F1 @5: 0.296114778072013\n",
      "validation micro-F1 @6: 0.29069882702792005\n",
      "validation micro-F1 @7: 0.2872467222884386\n",
      "validation micro-F1 @8: 0.2767631848502261\n",
      "validation micro-F1 @9: 0.27310559697340603\n",
      "validation micro-F1 @10: 0.26585410004223736\n",
      "\n",
      "{'lda__n_components': 10, 'vect__norm': 'l2', 'vect__max_features': 500, 'svm__kernel': 'rbf'}\n",
      "cache hit\n",
      "validation micro-F1 @1: 0.35048785154008033\n",
      "validation micro-F1 @2: 0.33052570432762124\n",
      "validation micro-F1 @3: 0.30819543462620186\n",
      "validation micro-F1 @4: 0.3193801471663174\n",
      "validation micro-F1 @5: 0.3000788643533123\n",
      "validation micro-F1 @6: 0.29047288589273323\n",
      "validation micro-F1 @7: 0.2821279139270771\n",
      "validation micro-F1 @8: 0.2761171648505448\n",
      "validation micro-F1 @9: 0.27014133487895137\n",
      "validation micro-F1 @10: 0.2616935483870968\n",
      "\n",
      "{'lda__n_components': 10, 'vect__norm': None, 'vect__max_features': 500, 'svm__kernel': 'rbf'}\n",
      "cache hit\n",
      "validation micro-F1 @1: 0.351434034416826\n",
      "validation micro-F1 @2: 0.33984788678155387\n",
      "validation micro-F1 @3: 0.32028053769725306\n",
      "validation micro-F1 @4: 0.31090214516603\n",
      "validation micro-F1 @5: 0.2998777457901171\n",
      "validation micro-F1 @6: 0.2860550641089355\n",
      "validation micro-F1 @7: 0.28114943183436336\n",
      "validation micro-F1 @8: 0.2761171648505448\n",
      "validation micro-F1 @9: 0.2724135627935971\n",
      "validation micro-F1 @10: 0.2689875323736674\n",
      "\n",
      "{'lda__n_components': 50, 'vect__norm': 'l1', 'vect__max_features': 500, 'svm__kernel': 'rbf'}\n",
      "cache hit\n",
      "validation micro-F1 @1: 0.35708841463414637\n",
      "validation micro-F1 @2: 0.3263127244491896\n",
      "validation micro-F1 @3: 0.3090802118062365\n",
      "validation micro-F1 @4: 0.30350730483545674\n",
      "validation micro-F1 @5: 0.3010837438423645\n",
      "validation micro-F1 @6: 0.2900773451444437\n",
      "validation micro-F1 @7: 0.2818833978592576\n",
      "validation micro-F1 @8: 0.2763325586625684\n",
      "validation micro-F1 @9: 0.2716054882394868\n",
      "validation micro-F1 @10: 0.26480710016301395\n",
      "\n",
      "{'lda__n_components': 50, 'vect__norm': 'l2', 'vect__max_features': 500, 'svm__kernel': 'rbf'}\n",
      "cache hit\n",
      "validation micro-F1 @1: 0.3605248146035368\n",
      "validation micro-F1 @2: 0.3393682588597843\n",
      "validation micro-F1 @3: 0.32517482517482516\n",
      "validation micro-F1 @4: 0.31921633607875627\n",
      "validation micro-F1 @5: 0.3040245485660333\n",
      "validation micro-F1 @6: 0.29542983294342484\n",
      "validation micro-F1 @7: 0.2888006804649844\n",
      "validation micro-F1 @8: 0.28204234122042343\n",
      "validation micro-F1 @9: 0.2748332592263228\n",
      "validation micro-F1 @10: 0.2680834823132395\n",
      "\n",
      "{'lda__n_components': 50, 'vect__norm': None, 'vect__max_features': 500, 'svm__kernel': 'rbf'}\n",
      "cache hit\n",
      "validation micro-F1 @1: 0.3832739546221639\n",
      "validation micro-F1 @2: 0.3631703844328429\n",
      "validation micro-F1 @3: 0.34911922389583866\n",
      "validation micro-F1 @4: 0.3277734678044996\n",
      "validation micro-F1 @5: 0.3164759636037021\n",
      "validation micro-F1 @6: 0.3043136226563524\n",
      "validation micro-F1 @7: 0.2954699502937189\n",
      "validation micro-F1 @8: 0.286438277892331\n",
      "validation micro-F1 @9: 0.27854559975153625\n",
      "validation micro-F1 @10: 0.269994783097235\n",
      "\n",
      "{'lda__n_components': 100, 'vect__norm': 'l1', 'vect__max_features': 500, 'svm__kernel': 'rbf'}\n",
      "cache hit\n",
      "validation micro-F1 @1: 0.36425725668753556\n",
      "validation micro-F1 @2: 0.32809773123909247\n",
      "validation micro-F1 @3: 0.314259645464025\n",
      "validation micro-F1 @4: 0.3037576234507181\n",
      "validation micro-F1 @5: 0.29517143196108675\n",
      "validation micro-F1 @6: 0.28838009528851244\n",
      "validation micro-F1 @7: 0.28281218880701053\n",
      "validation micro-F1 @8: 0.27689233075193603\n",
      "validation micro-F1 @9: 0.27037268188302427\n",
      "validation micro-F1 @10: 0.26473725521766256\n",
      "\n",
      "{'lda__n_components': 100, 'vect__norm': 'l2', 'vect__max_features': 500, 'svm__kernel': 'rbf'}\n",
      "cache hit\n",
      "validation micro-F1 @1: 0.3608365019011407\n",
      "validation micro-F1 @2: 0.3435158501440922\n",
      "validation micro-F1 @3: 0.328205791106515\n",
      "validation micro-F1 @4: 0.3156043956043956\n",
      "validation micro-F1 @5: 0.30495812527031807\n",
      "validation micro-F1 @6: 0.29672066376926115\n",
      "validation micro-F1 @7: 0.2882668254913639\n",
      "validation micro-F1 @8: 0.28195675998804426\n",
      "validation micro-F1 @9: 0.27567663659392916\n",
      "validation micro-F1 @10: 0.26857039580697634\n",
      "\n",
      "{'lda__n_components': 100, 'vect__norm': None, 'vect__max_features': 500, 'svm__kernel': 'rbf'}\n",
      "cache hit\n",
      "validation micro-F1 @1: 0.4118622214035734\n",
      "validation micro-F1 @2: 0.38251571147171937\n",
      "validation micro-F1 @3: 0.36776676973559663\n",
      "validation micro-F1 @4: 0.3460579320928448\n",
      "validation micro-F1 @5: 0.3318500174128391\n",
      "validation micro-F1 @6: 0.3140948346097442\n",
      "validation micro-F1 @7: 0.29912073047007104\n",
      "validation micro-F1 @8: 0.28886132473331677\n",
      "validation micro-F1 @9: 0.28247011952191237\n",
      "validation micro-F1 @10: 0.27666846555135816\n",
      "\n"
     ]
    }
   ],
   "source": [
    "for g in ParameterGrid(parameters):\n",
    "    print(g)\n",
    "    vect=TfidfVectorizer().set_params(**dict([\n",
    "        (re.sub('^vect__','',k),v) for (k,v) in g.items() if k.startswith('vect__') ]))\n",
    "        \n",
    "    vect.fit(X_train)\n",
    "    \n",
    "    X_train_vect = vect.transform(X_train)\n",
    "    X_val_vect = vect.transform(X_val)\n",
    "    \n",
    "    number_of_components = g['lda__n_components']\n",
    "    \n",
    "    cache_path = INTERIM_DATA_ROOT+\"/lda-NBCOMPS={}NBWORDS={}SEED={}.p\".format(number_of_components,MAX_NB_WORDS,SEED)\n",
    "\n",
    "    # cache the lda model because it's expensive to build\n",
    "    if os.path.isfile(cache_path):\n",
    "        print('cache hit')\n",
    "        lda=joblib.load(open(cache_path,\"rb\"))\n",
    "    else:\n",
    "        print('calculating LDA model for {} components'.format(number_of_components))\n",
    "        lda = LatentDirichletAllocation(n_components=number_of_components, learning_method='online')\n",
    "        lda.fit(X_train_vect)\n",
    "        joblib.dump(lda,open(cache_path,\"wb\"))\n",
    "\n",
    "    # these are the topic distributions\n",
    "    \n",
    "    X_train_vect = lda.transform(X_train_vect)\n",
    "    X_val_vect = lda.transform(X_val_vect)\n",
    "    \n",
    "    svm = SVC().set_params(**dict([(re.sub('^svm__','',k),v) for (k,v) in g.items() if k.startswith('svm__') ]))\n",
    "    \n",
    "    clf = OneVsRestClassifier(CalibratedClassifierCV(svm,cv=2),n_jobs=4)\n",
    "\n",
    "    clf.fit(X_train_vect,Y_train)\n",
    "\n",
    "    Y_pred_val = clf.predict_proba(X_val_vect)\n",
    "                  \n",
    "    ks = [1,2,3,4,5,6,7,8,9,10]\n",
    "        \n",
    "    # k is the number of neighbors so let's use at_k\n",
    "    for at_k in ks:\n",
    "        print(\"validation micro-F1 @{}: {}\".format(at_k,ranking.micro_f1_at_k(Y_val,Y_pred_val,k=at_k,normalize=True))) \n",
    "        \n",
    "    print('')    "
   ]
  },
  {
   "cell_type": "code",
   "execution_count": null,
   "metadata": {
    "scrolled": false
   },
   "outputs": [],
   "source": [
    "%%time\n",
    "\n",
    "for g in ParameterGrid(parameters):\n",
    "    print(g)\n",
    "    pipeline.set_params(**g)\n",
    "    \n",
    "    pipeline.fit(X_train,Y_train)\n",
    "    \n",
    "    Y_pred_train = pipeline.predict_proba(X_train)    \n",
    "    Y_pred_val = pipeline.predict_proba(X_val)\n",
    "    \n",
    "    ks = [1,2,3,4,5,6,7,8,9,10]\n",
    "        \n",
    "    # k is the number of neighbors so let's use at_k\n",
    "    for k in ks:\n",
    "        print(\"validation micro-F1 @{}: {}\".format(k,ranking.micro_f1_at_k(Y_val,Y_pred_val,k=k,normalize=True))) "
   ]
  },
  {
   "cell_type": "code",
   "execution_count": null,
   "metadata": {
    "collapsed": true
   },
   "outputs": [],
   "source": [
    "pickle.dump(pipeline,open(MODELS_ROOT+'/model-sample-{}.p'.format(SAMPLE_FRAC),'wb'))"
   ]
  },
  {
   "cell_type": "markdown",
   "metadata": {},
   "source": [
    "### e sem calibrar?"
   ]
  },
  {
   "cell_type": "code",
   "execution_count": null,
   "metadata": {
    "collapsed": true
   },
   "outputs": [],
   "source": [
    "def warn(*args, **kwargs):\n",
    "    pass\n",
    "import warnings\n",
    "warnings.warn = warn\n",
    "\n",
    "pipeline2 = Pipeline([\n",
    "    ('vect', TfidfVectorizer()),\n",
    "    # https://stackoverflow.com/a/39712590/436721\n",
    "    ('clf', OneVsRestClassifier(LinearSVC(),n_jobs=-1)),\n",
    "])\n",
    "\n",
    "parameters = [\n",
    "    {\n",
    "        \"vect__max_features\": [MAX_NB_WORDS]\n",
    "    }\n",
    "]"
   ]
  },
  {
   "cell_type": "code",
   "execution_count": null,
   "metadata": {},
   "outputs": [],
   "source": [
    "%%time\n",
    "\n",
    "for g in ParameterGrid(parameters):\n",
    "    print(g)\n",
    "    pipeline2.set_params(**g)\n",
    "    \n",
    "    pipeline2.fit(X_train,Y_train)"
   ]
  },
  {
   "cell_type": "code",
   "execution_count": null,
   "metadata": {
    "collapsed": true
   },
   "outputs": [],
   "source": [
    "Y_pred_val = pipeline2.decision_function(X_val)"
   ]
  },
  {
   "cell_type": "code",
   "execution_count": null,
   "metadata": {},
   "outputs": [],
   "source": [
    "np.set_printoptions(edgeitems=1000)\n",
    "Y_pred_val[0]"
   ]
  },
  {
   "cell_type": "code",
   "execution_count": null,
   "metadata": {},
   "outputs": [],
   "source": [
    "np.abs(Y_pred_val[0])"
   ]
  },
  {
   "cell_type": "code",
   "execution_count": null,
   "metadata": {},
   "outputs": [],
   "source": [
    "Y_pred_val = pipeline2.decision_function(X_val)\n",
    "\n",
    "ks = [1,2,3,4,5,6,7,8,9,10]\n",
    "\n",
    "# k is the number of neighbors so let's use at_k\n",
    "for k in ks:\n",
    "    print(\"validation micro-F1 @{}: {}\".format(k,ranking.micro_f1_at_k(Y_val,Y_pred_val,k=k,normalize=True)))"
   ]
  },
  {
   "cell_type": "code",
   "execution_count": 24,
   "metadata": {},
   "outputs": [
    {
     "data": {
      "image/png": "[encoded data removed]",
      "text/plain": [
       "<matplotlib.figure.Figure at 0x7f987538b438>"
      ]
     },
     "metadata": {},
     "output_type": "display_data"
    }
   ],
   "source": [
    "plt.clf()\n",
    "img = plt.gcf()\n",
    "ax = plt.gca()\n",
    "validation_scores = [\n",
    "0.41827187671986793,\n",
    "0.3838800374882849,\n",
    "0.35583524027459956,\n",
    "0.3388883537231481,\n",
    "0.3206731331073975,\n",
    "0.30686653138705244,\n",
    "0.2930595621924317,\n",
    "0.2831968539213978,\n",
    "0.27552335659362637,\n",
    "0.2678051230537418\n",
    "]\n",
    "plot_micro_f1_at_k(validation_scores,ax=ax)\n",
    "plt.gcf().set_size_inches(7,5)\n",
    "plt.gca().legend_.remove()\n",
    "plt.show()"
   ]
  },
  {
   "cell_type": "code",
   "execution_count": null,
   "metadata": {
    "collapsed": true
   },
   "outputs": [],
   "source": []
  }
 ],
 "metadata": {
  "kernelspec": {
   "display_name": "Python 3",
   "language": "python",
   "name": "python3"
  },
  "language_info": {
   "codemirror_mode": {
    "name": "ipython",
    "version": 3
   },
   "file_extension": ".py",
   "mimetype": "text/x-python",
   "name": "python",
   "nbconvert_exporter": "python",
   "pygments_lexer": "ipython3",
   "version": "3.5.2"
  }
 },
 "nbformat": 4,
 "nbformat_minor": 2
}
