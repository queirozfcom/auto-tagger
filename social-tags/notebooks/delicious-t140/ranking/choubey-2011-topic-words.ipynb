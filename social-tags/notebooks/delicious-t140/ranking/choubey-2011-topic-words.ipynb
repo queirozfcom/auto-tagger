{
 "cells": [
  {
   "cell_type": "code",
   "execution_count": 1,
   "metadata": {
    "collapsed": true
   },
   "outputs": [],
   "source": [
    "import pandas as pd\n",
    "import numpy as np\n",
    "import matplotlib.pyplot as plt\n",
    "import gc\n",
    "import os\n",
    "import re\n",
    "import pickle\n",
    "import sklearn\n",
    "import sys\n",
    "import string\n",
    "\n",
    "from datetime import datetime\n",
    "from scipy import stats\n",
    "\n",
    "from sklearn.externals import joblib\n",
    "from sklearn.decomposition import LatentDirichletAllocation\n",
    "from sklearn.metrics import f1_score, precision_score, recall_score\n",
    "from sklearn.metrics.pairwise import cosine_similarity,cosine_distances\n",
    "from sklearn.model_selection import cross_val_score, GridSearchCV,ParameterGrid, train_test_split\n",
    "from sklearn.multiclass import OneVsRestClassifier\n",
    "from sklearn.preprocessing import MultiLabelBinarizer\n",
    "from sklearn.feature_extraction.text import CountVectorizer\n",
    "from sklearn.feature_extraction.text import TfidfTransformer,TfidfVectorizer\n",
    "from sklearn.pipeline import Pipeline\n",
    "from sklearn.neighbors import KNeighborsClassifier,NearestNeighbors\n",
    "\n",
    "from tqdm import *\n",
    "\n",
    "%matplotlib inline\n",
    "%load_ext autoreload\n",
    "%autoreload 2"
   ]
  },
  {
   "cell_type": "code",
   "execution_count": 2,
   "metadata": {
    "collapsed": true
   },
   "outputs": [],
   "source": [
    "src_dir = os.path.join(os.getcwd(), os.pardir, '../../')\n",
    "sys.path.append(src_dir)"
   ]
  },
  {
   "cell_type": "code",
   "execution_count": 3,
   "metadata": {
    "collapsed": true
   },
   "outputs": [],
   "source": [
    "%aimport src.data.delicious_t140\n",
    "%aimport src.helpers.labels\n",
    "%aimport src.utils.dataframes, src.utils.clusters, src.utils.metrics,src.utils.plotting"
   ]
  },
  {
   "cell_type": "code",
   "execution_count": 14,
   "metadata": {
    "collapsed": true
   },
   "outputs": [],
   "source": [
    "from src.features.delicious_t140 import clean_text_delicious\n",
    "from src.data.delicious_t140 import get_sample_from_cache\n",
    "from src.helpers.labels import truncate_labels\n",
    "from src.utils.metrics import ranking\n",
    "from src.helpers.topics import get_word_weight_dict\n",
    "from src.utils.dataframes import sample_rows\n",
    "from src.utils.plotting import plot_micro_f1_at_k"
   ]
  },
  {
   "cell_type": "code",
   "execution_count": 5,
   "metadata": {
    "collapsed": true
   },
   "outputs": [],
   "source": [
    "MODELS_ROOT = os.path.abspath(\"../../../models/ranking/delicious-topics/\")\n",
    "DATA_ROOT = \"/media/felipe/SAMSUNG/delicious/delicioust140\"\n",
    "INTERIM_DATA_ROOT = os.path.abspath(\"../../../data/interim/delicious-t140/\")\n",
    "OUTPUT_FILE = 'output-topic-words-'+ datetime.now().strftime('%Y-%m-%d-%H-%M-%S')+'.txt'\n",
    "\n",
    "# CONFIGS\n",
    "\n",
    "SEED= 42\n",
    "\n",
    "MAX_NB_WORDS = 500\n",
    "\n",
    "# for sampling\n",
    "MIN_TAG_DF = 10\n",
    "SAMPLE_FRAC=20\n",
    "\n",
    "# CONFIGS\n",
    "NB_NEIGHBOURS = 1\n",
    "DISTANCE_METRIC= lambda a,b: stats.entropy(a,b)\n",
    "STOP_WORDS='english' # using stopwords since most people using LDA do this\n",
    "NB_COMPONENTS = [50,100,200,300]"
   ]
  },
  {
   "cell_type": "code",
   "execution_count": 6,
   "metadata": {
    "collapsed": true
   },
   "outputs": [],
   "source": [
    "np.random.seed(SEED)"
   ]
  },
  {
   "cell_type": "code",
   "execution_count": 7,
   "metadata": {
    "collapsed": true
   },
   "outputs": [],
   "source": [
    "docs_df = get_sample_from_cache(INTERIM_DATA_ROOT,SAMPLE_FRAC)"
   ]
  },
  {
   "cell_type": "code",
   "execution_count": 8,
   "metadata": {},
   "outputs": [
    {
     "data": {
      "text/html": [
       "<div>\n",
       "<style scoped>\n",
       "    .dataframe tbody tr th:only-of-type {\n",
       "        vertical-align: middle;\n",
       "    }\n",
       "\n",
       "    .dataframe tbody tr th {\n",
       "        vertical-align: top;\n",
       "    }\n",
       "\n",
       "    .dataframe thead th {\n",
       "        text-align: right;\n",
       "    }\n",
       "</style>\n",
       "<table border=\"1\" class=\"dataframe\">\n",
       "  <thead>\n",
       "    <tr style=\"text-align: right;\">\n",
       "      <th></th>\n",
       "      <th>filename</th>\n",
       "      <th>filetype</th>\n",
       "      <th>hash</th>\n",
       "      <th>tags</th>\n",
       "      <th>url</th>\n",
       "      <th>num_users</th>\n",
       "      <th>num_tags</th>\n",
       "      <th>contents</th>\n",
       "    </tr>\n",
       "  </thead>\n",
       "  <tbody>\n",
       "    <tr>\n",
       "      <th>0</th>\n",
       "      <td>26313806abe42032de4f612017738426.html</td>\n",
       "      <td>html</td>\n",
       "      <td>26313806abe42032de4f612017738426</td>\n",
       "      <td>tutoriel,multimedia,english,screencasts,videos...</td>\n",
       "      <td>http://screencasts.ubuntu.com/</td>\n",
       "      <td>228</td>\n",
       "      <td>23</td>\n",
       "      <td>Ubuntu Screencasts @import \"/misc/drupal.css\"...</td>\n",
       "    </tr>\n",
       "  </tbody>\n",
       "</table>\n",
       "</div>"
      ],
      "text/plain": [
       "                                filename filetype  \\\n",
       "0  26313806abe42032de4f612017738426.html     html   \n",
       "\n",
       "                               hash  \\\n",
       "0  26313806abe42032de4f612017738426   \n",
       "\n",
       "                                                tags  \\\n",
       "0  tutoriel,multimedia,english,screencasts,videos...   \n",
       "\n",
       "                              url  num_users  num_tags  \\\n",
       "0  http://screencasts.ubuntu.com/        228        23   \n",
       "\n",
       "                                            contents  \n",
       "0   Ubuntu Screencasts @import \"/misc/drupal.css\"...  "
      ]
     },
     "execution_count": 8,
     "metadata": {},
     "output_type": "execute_result"
    }
   ],
   "source": [
    "docs_df.head(1)"
   ]
  },
  {
   "cell_type": "code",
   "execution_count": 9,
   "metadata": {},
   "outputs": [
    {
     "data": {
      "text/plain": [
       "28743"
      ]
     },
     "execution_count": 9,
     "metadata": {},
     "output_type": "execute_result"
    }
   ],
   "source": [
    "len(docs_df)"
   ]
  },
  {
   "cell_type": "code",
   "execution_count": 10,
   "metadata": {
    "collapsed": true
   },
   "outputs": [],
   "source": [
    "labels = docs_df[\"tags\"].map(lambda tagstring: tagstring.split(\",\"))\n",
    "labels = truncate_labels(labels,MIN_TAG_DF)"
   ]
  },
  {
   "cell_type": "code",
   "execution_count": 11,
   "metadata": {},
   "outputs": [
    {
     "name": "stdout",
     "output_type": "stream",
     "text": [
      "total number of unique tags: 3305 \n",
      "total number of train documents: 24432\n",
      "total number of validation documents: 4311\n"
     ]
    }
   ],
   "source": [
    "np.random.seed(SEED)\n",
    "\n",
    "mlb = MultiLabelBinarizer()\n",
    "\n",
    "binary_labels = mlb.fit_transform(labels)\n",
    "\n",
    "print(\"total number of unique tags: {} \".format(len(mlb.classes_)))\n",
    "\n",
    "data = docs_df['contents'].values\n",
    "indices = np.arange(len(data))\n",
    "np.random.shuffle(indices)\n",
    "\n",
    "data = [data[i] for i in indices]\n",
    "targets = binary_labels[indices]\n",
    "num_validation_samples = int(0.15 * len(data))\n",
    "\n",
    "X_train = data[:-num_validation_samples]\n",
    "Y_train = targets[:-num_validation_samples]\n",
    "X_val = data[-num_validation_samples:]\n",
    "Y_val = targets[-num_validation_samples:]\n",
    "\n",
    "print('total number of train documents: {}'.format(len(X_train)))\n",
    "print('total number of validation documents: {}'.format(len(X_val)))"
   ]
  },
  {
   "cell_type": "code",
   "execution_count": 12,
   "metadata": {
    "collapsed": true,
    "scrolled": true
   },
   "outputs": [],
   "source": [
    "vect = TfidfVectorizer(max_features=MAX_NB_WORDS)\n",
    "vect.fit(data)\n",
    "\n",
    "X_train_vect = vect.transform(X_train)\n",
    "X_val_vect = vect.transform(X_val)"
   ]
  },
  {
   "cell_type": "code",
   "execution_count": 13,
   "metadata": {
    "scrolled": false
   },
   "outputs": [
    {
     "name": "stdout",
     "output_type": "stream",
     "text": [
      "nb_comp=50\n",
      "nb_comp=100\n",
      "nb_comp=200\n",
      "nb_comp=300\n",
      "CPU times: user 4 ms, sys: 4 ms, total: 8 ms\n",
      "Wall time: 7.02 ms\n"
     ]
    }
   ],
   "source": [
    "%%time\n",
    "\n",
    "lda = dict()\n",
    "\n",
    "for nb_comp in NB_COMPONENTS:\n",
    "    print('nb_comp={}'.format(nb_comp))\n",
    "    \n",
    "    cache_path = INTERIM_DATA_ROOT+\"/lda-NBCOMPS={}NBWORDS={}SEED={}.p\".format(nb_comp,MAX_NB_WORDS,SEED)\n",
    "    \n",
    "    if os.path.isfile(cache_path):\n",
    "        lda[nb_comp]=joblib.load(open(cache_path,\"rb\"))\n",
    "    else:\n",
    "        lda[nb_comp] = LatentDirichletAllocation(n_components=nb_comp, learning_method='online')\n",
    "        lda[nb_comp].fit(X_train_vect)\n",
    "        joblib.dump(lda[nb_comp],open(cache_path,\"wb\"))"
   ]
  },
  {
   "cell_type": "code",
   "execution_count": 15,
   "metadata": {
    "collapsed": true
   },
   "outputs": [],
   "source": [
    "def train_and_score(nb_comp,results_dict):\n",
    "    \n",
    "    vocabulary = vect.get_feature_names()\n",
    "    tag_vocabulary = mlb.classes_\n",
    "    \n",
    "    model = lda[nb_comp]\n",
    "    \n",
    "    X_train = model.transform(X_train_vect)\n",
    "    X_val = model.transform(X_val_vect)\n",
    "    \n",
    "#     # training\n",
    "    \n",
    "#     Y_pred_train = []\n",
    "\n",
    "#     for (i,test_document_topics_distr) in enumerate(X_train):\n",
    "               \n",
    "#         most_important_topic_index = np.argsort(test_document_topics_distr)[-1]    \n",
    "            \n",
    "#         # 'word' => weight in topic\n",
    "#         word_weight_dict = get_word_weight_dict(model,most_important_topic_index,vocabulary)\n",
    "\n",
    "#         # only keep words that are valid tags\n",
    "#         valid_tag_elems = [(k,v) for (k,v) in word_weight_dict.items() if k in tag_vocabulary]\n",
    "\n",
    "#         valid_word_weight_dict = dict(valid_tag_elems)\n",
    "#         valid_words = valid_word_weight_dict.keys()\n",
    "\n",
    "#         # make a dummy y_score out of that (the numbers aren't probabililties\n",
    "#         # but we're only interested in the ranking, not absolute numbers)\n",
    "#         y_scores_dummy = [valid_word_weight_dict[tag_value] if tag_value in valid_words else 0.0 for (tag_index,tag_value) in enumerate(tag_vocabulary)]\n",
    "\n",
    "#         y_scores_dummy = np.array(y_scores_dummy)\n",
    "\n",
    "#         Y_pred_train.append(y_scores_dummy)\n",
    "\n",
    "#     Y_pred_train = np.array(Y_pred_train)\n",
    "    \n",
    "    # validation\n",
    "    \n",
    "    Y_pred_val = []\n",
    "\n",
    "    # for every validation document do\n",
    "    for (i,test_document_topics_distr) in enumerate(X_val):\n",
    "\n",
    "        most_important_topic_index = np.argsort(test_document_topics_distr)[-1]\n",
    "                \n",
    "        # 'word' => weight in topic\n",
    "        word_weight_dict = get_word_weight_dict(model,most_important_topic_index,vocabulary)\n",
    "\n",
    "        # only keep words that are valid tags\n",
    "        valid_tag_elems = [(k,v) for (k,v) in word_weight_dict.items() if k in tag_vocabulary]\n",
    "\n",
    "        valid_word_weight_dict = dict(valid_tag_elems)\n",
    "        valid_words = valid_word_weight_dict.keys()\n",
    "\n",
    "        # make a dummy y_score out of that (the numbers aren't probabililties\n",
    "        # but we're only interested in the ranking, not absolute numbers)\n",
    "        y_scores_dummy = [valid_word_weight_dict[tag_value] if tag_value in valid_words else 0.0 for (tag_index,tag_value) in enumerate(tag_vocabulary)]\n",
    "\n",
    "        y_scores_dummy = np.array(y_scores_dummy)\n",
    "\n",
    "        Y_pred_val.append(y_scores_dummy)\n",
    "\n",
    "    Y_pred_val = np.array(Y_pred_val)\n",
    "    \n",
    "    # scoring\n",
    "    \n",
    "    ks = [1,2,3,4,5,6,7,8,9,10]\n",
    "    \n",
    "    # k is the number of neighbors so let's use at_k\n",
    "    results = list()\n",
    "    for at_k in ks:\n",
    "        result = ranking.micro_f1_at_k(Y_val,Y_pred_val,k=at_k,normalize=True)\n",
    "        results.append(result)\n",
    "        print(\"validation micro-F1 @{}: {}\".format(at_k,result)) \n",
    "\n",
    "    print('')  \n",
    "    \n",
    "    results_dict[nb_comp] = results"
   ]
  },
  {
   "cell_type": "code",
   "execution_count": 17,
   "metadata": {},
   "outputs": [
    {
     "name": "stdout",
     "output_type": "stream",
     "text": [
      "nb_comp=50\n",
      "validation micro-F1 @1: 0.025646897183421113\n",
      "validation micro-F1 @2: 0.01587849499482223\n",
      "validation micro-F1 @3: 0.013058841603933016\n",
      "validation micro-F1 @4: 0.010154627279021463\n",
      "validation micro-F1 @5: 0.01583283472177475\n",
      "validation micro-F1 @6: 0.013821700069108501\n",
      "validation micro-F1 @7: 0.013952416992990884\n",
      "validation micro-F1 @8: 0.014336298471370584\n",
      "validation micro-F1 @9: 0.021619967875991127\n",
      "validation micro-F1 @10: 0.026189277047754225\n",
      "\n",
      "nb_comp=100\n",
      "validation micro-F1 @1: 0.007855822550831794\n",
      "validation micro-F1 @2: 0.017475281673948035\n",
      "validation micro-F1 @3: 0.013364055299539171\n",
      "validation micro-F1 @4: 0.01256266927908719\n",
      "validation micro-F1 @5: 0.01079734219269103\n",
      "validation micro-F1 @6: 0.010154627279021463\n",
      "validation micro-F1 @7: 0.024160282852091926\n",
      "validation micro-F1 @8: 0.023610315186246417\n",
      "validation micro-F1 @9: 0.024842823325782065\n",
      "validation micro-F1 @10: 0.026505527707203186\n",
      "\n",
      "nb_comp=200\n",
      "validation micro-F1 @1: 0.03464782311374515\n",
      "validation micro-F1 @2: 0.027453671928620454\n",
      "validation micro-F1 @3: 0.019903544361938297\n",
      "validation micro-F1 @4: 0.017817115926202654\n",
      "validation micro-F1 @5: 0.0260989010989011\n",
      "validation micro-F1 @6: 0.026400122081489393\n",
      "validation micro-F1 @7: 0.025776062281246934\n",
      "validation micro-F1 @8: 0.029088207560648057\n",
      "validation micro-F1 @9: 0.029407283254609173\n",
      "validation micro-F1 @10: 0.03137201178162888\n",
      "\n",
      "nb_comp=300\n",
      "validation micro-F1 @1: 0.03285420944558522\n",
      "validation micro-F1 @2: 0.01975195222783647\n",
      "validation micro-F1 @3: 0.01488871834228703\n",
      "validation micro-F1 @4: 0.027904849039341262\n",
      "validation micro-F1 @5: 0.030247646897560085\n",
      "validation micro-F1 @6: 0.027453671928620454\n",
      "validation micro-F1 @7: 0.026937788093759196\n",
      "validation micro-F1 @8: 0.02880658436213992\n",
      "validation micro-F1 @9: 0.02880658436213992\n",
      "validation micro-F1 @10: 0.028896712541721915\n",
      "\n"
     ]
    }
   ],
   "source": [
    "results = dict()\n",
    "\n",
    "for nb_comp in NB_COMPONENTS:\n",
    "    print('nb_comp={}'.format(nb_comp))\n",
    "    train_and_score(nb_comp,results)"
   ]
  },
  {
   "cell_type": "code",
   "execution_count": 18,
   "metadata": {
    "collapsed": true
   },
   "outputs": [],
   "source": [
    "feats_50 = [\n",
    "0.025646897183421113,\n",
    " 0.01587849499482223,\n",
    "0.013058841603933016,\n",
    " 0.010154627279021463,\n",
    " 0.01583283472177475,\n",
    " 0.013821700069108501,\n",
    "0.013952416992990884,\n",
    " 0.014336298471370584,\n",
    "0.021619967875991127,\n",
    " 0.026189277047754225\n",
    "]\n",
    "\n",
    "feats_100 = [\n",
    " 0.007855822550831794,\n",
    " 0.017475281673948035,\n",
    " 0.013364055299539171,\n",
    " 0.01256266927908719,\n",
    "0.01079734219269103,\n",
    "0.010154627279021463,\n",
    " 0.024160282852091926,\n",
    " 0.023610315186246417,\n",
    "0.024842823325782065,\n",
    "0.026505527707203186\n",
    "]\n",
    "\n",
    "feats_200 = [\n",
    "0.03464782311374515,\n",
    " 0.027453671928620454,\n",
    "0.019903544361938297,\n",
    "0.017817115926202654,\n",
    "0.0260989010989011,\n",
    "0.026400122081489393,\n",
    "0.025776062281246934,\n",
    "0.029088207560648057,\n",
    "0.029407283254609173,\n",
    "0.03137201178162888    \n",
    "]\n",
    "\n",
    "feats_300 = [\n",
    "0.03285420944558522,\n",
    "0.01975195222783647,\n",
    "0.01488871834228703,\n",
    "0.027904849039341262,\n",
    "0.030247646897560085,\n",
    "0.027453671928620454,\n",
    "0.026937788093759196,\n",
    "0.02880658436213992,\n",
    "0.02880658436213992,\n",
    " 0.028896712541721915\n",
    "]\n"
   ]
  },
  {
   "cell_type": "code",
   "execution_count": 19,
   "metadata": {},
   "outputs": [
    {
     "data": {
      "image/png": "[encoded data removed]",
      "text/plain": [
       "<matplotlib.figure.Figure at 0x7f1538d617f0>"
      ]
     },
     "metadata": {},
     "output_type": "display_data"
    }
   ],
   "source": [
    "plt.clf()\n",
    "ax = plt.gca()\n",
    "\n",
    "ks = range(1, 11)\n",
    "\n",
    "ax.plot(ks, feats_50, 'ro-', label='Number of Components=50')\n",
    "\n",
    "ax.plot(ks, feats_100, 'go-', label='Number of Components=100')\n",
    "\n",
    "ax.plot(ks, feats_200, 'bo-', label='Number of Components=200')\n",
    "\n",
    "ax.plot(ks, feats_300, 'co-', label='Number of Components=300')\n",
    "\n",
    "ax.set_xlim(0, 11)\n",
    "ax.set_ylim(0, 0.25)\n",
    "ax.set_xlabel('k', fontsize=13)\n",
    "\n",
    "ax.set_ylabel('Micro-averaged F1-score at k', fontsize=13)\n",
    "\n",
    "ax.set_xticks(np.arange(0, 11, 1))\n",
    "ax.set_yticks(np.arange(0, 0.26, 0.05))\n",
    "ax.grid(True)\n",
    "\n",
    "gridlines = ax.get_xgridlines() + ax.get_ygridlines()\n",
    "for line in gridlines:\n",
    "    line.set_linestyle(':')\n",
    "    line.set_linewidth(0.7)\n",
    "plt.gcf().set_size_inches(7,5)\n",
    "ax.legend()\n",
    "plt.show()"
   ]
  },
  {
   "cell_type": "code",
   "execution_count": null,
   "metadata": {
    "collapsed": true
   },
   "outputs": [],
   "source": []
  }
 ],
 "metadata": {
  "kernelspec": {
   "display_name": "Python 3",
   "language": "python",
   "name": "python3"
  },
  "language_info": {
   "codemirror_mode": {
    "name": "ipython",
    "version": 3
   },
   "file_extension": ".py",
   "mimetype": "text/x-python",
   "name": "python",
   "nbconvert_exporter": "python",
   "pygments_lexer": "ipython3",
   "version": "3.5.2"
  }
 },
 "nbformat": 4,
 "nbformat_minor": 2
}
