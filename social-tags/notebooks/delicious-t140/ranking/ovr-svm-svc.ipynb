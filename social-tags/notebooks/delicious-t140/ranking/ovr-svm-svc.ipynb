{
 "cells": [
  {
   "cell_type": "markdown",
   "metadata": {},
   "source": [
    "## ovr-svm"
   ]
  },
  {
   "cell_type": "code",
   "execution_count": 1,
   "metadata": {},
   "outputs": [],
   "source": [
    "import pandas as pd\n",
    "import numpy as np\n",
    "import matplotlib.pyplot as plt\n",
    "import gc\n",
    "import nltk\n",
    "import os\n",
    "import re\n",
    "import pickle\n",
    "import sklearn\n",
    "import sys\n",
    "import string\n",
    "\n",
    "from sklearn.externals import joblib\n",
    "from sklearn.metrics import f1_score, precision_score, recall_score,average_precision_score\n",
    "from sklearn.model_selection import cross_val_score, GridSearchCV,ParameterGrid, train_test_split\n",
    "from sklearn.multiclass import OneVsRestClassifier\n",
    "from sklearn.preprocessing import MultiLabelBinarizer, StandardScaler,MinMaxScaler\n",
    "from sklearn.feature_extraction.text import CountVectorizer\n",
    "from sklearn.feature_extraction.text import TfidfTransformer,TfidfVectorizer\n",
    "from sklearn.svm import SVC\n",
    "from sklearn.pipeline import Pipeline\n",
    "from sklearn.svm import LinearSVC, SVC\n",
    "from sklearn.calibration import CalibratedClassifierCV\n",
    "from sklearn.linear_model import LogisticRegression,SGDClassifier\n",
    "\n",
    "from tqdm import *\n",
    "\n",
    "%matplotlib inline\n",
    "%load_ext autoreload\n",
    "%autoreload 1"
   ]
  },
  {
   "cell_type": "code",
   "execution_count": 2,
   "metadata": {
    "collapsed": true
   },
   "outputs": [],
   "source": [
    "src_dir = os.path.join(os.getcwd(), os.pardir, '../../src')\n",
    "sys.path.append(src_dir)"
   ]
  },
  {
   "cell_type": "code",
   "execution_count": 3,
   "metadata": {
    "collapsed": true
   },
   "outputs": [],
   "source": [
    "%aimport data.delicious_t140\n",
    "%aimport helpers.labels\n",
    "%aimport utils.dataframes, utils.clusters, utils.metrics\n"
   ]
  },
  {
   "cell_type": "code",
   "execution_count": 4,
   "metadata": {
    "collapsed": true
   },
   "outputs": [],
   "source": [
    "from features.delicious_t140 import clean_text_delicious\n",
    "from data.delicious_t140 import get_sample_from_cache\n",
    "from helpers.labels import truncate_labels\n",
    "from utils.metrics import ranking"
   ]
  },
  {
   "cell_type": "code",
   "execution_count": 5,
   "metadata": {
    "collapsed": true
   },
   "outputs": [],
   "source": [
    "MODELS_ROOT = os.path.abspath(\"../../../models/ranking/\")\n",
    "DATA_ROOT = \"/media/felipe/SAMSUNG/delicious/delicioust140\"\n",
    "TAGINFO = DATA_ROOT+\"/taginfo.xml\"\n",
    "INTERIM_DATA_ROOT = os.path.abspath(\"../../../data/interim/delicious-t140/\")\n",
    "MAX_NB_WORDS = 5000\n",
    "SEED= 42\n",
    "SAMPLE_FRAC = 0.1"
   ]
  },
  {
   "cell_type": "code",
   "execution_count": 6,
   "metadata": {
    "collapsed": true
   },
   "outputs": [],
   "source": [
    "np.random.seed(SEED)"
   ]
  },
  {
   "cell_type": "code",
   "execution_count": 7,
   "metadata": {
    "collapsed": true
   },
   "outputs": [],
   "source": [
    "# docs_df = load_or_get_from_cache_with_contents(\n",
    "#     source_dataframe=None,\n",
    "#     interim_data_root=INTERIM_DATA_ROOT,\n",
    "#     data_root=None,\n",
    "#     sample_frac=SAMPLE_FRAC)\n",
    "# pickle.dump(docs_df,(open(INTERIM_DATA_ROOT+\"/docs_df_with_content_SAMPLE_FRAC_20_SEED_42.p\",\"wb\")))"
   ]
  },
  {
   "cell_type": "code",
   "execution_count": 8,
   "metadata": {
    "collapsed": true
   },
   "outputs": [],
   "source": [
    "docs_df = get_sample_from_cache(INTERIM_DATA_ROOT,int(SAMPLE_FRAC*100))"
   ]
  },
  {
   "cell_type": "code",
   "execution_count": 9,
   "metadata": {
    "collapsed": true
   },
   "outputs": [],
   "source": [
    "labels = docs_df[\"tags\"].map(lambda tagstring: tagstring.split(\",\"))"
   ]
  },
  {
   "cell_type": "code",
   "execution_count": 10,
   "metadata": {},
   "outputs": [
    {
     "name": "stdout",
     "output_type": "stream",
     "text": [
      "total number of unique tags: 8189 \n",
      "total number of train documents: 12216\n",
      "total number of validation documents: 2155\n"
     ]
    }
   ],
   "source": [
    "mlb = MultiLabelBinarizer()\n",
    "\n",
    "binary_labels = mlb.fit_transform(labels)\n",
    "\n",
    "print(\"total number of unique tags: {} \".format(len(mlb.classes_)))\n",
    "\n",
    "data = docs_df['contents'].values\n",
    "indices = np.arange(len(data))\n",
    "np.random.shuffle(indices)\n",
    "\n",
    "data = [data[i] for i in indices]\n",
    "targets = binary_labels[indices]\n",
    "num_validation_samples = int(0.15 * len(data))\n",
    "\n",
    "X_train = data[:-num_validation_samples]\n",
    "Y_train = targets[:-num_validation_samples]\n",
    "X_val = data[-num_validation_samples:]\n",
    "Y_val = targets[-num_validation_samples:]\n",
    "\n",
    "print('total number of train documents: {}'.format(len(X_train)))\n",
    "print('total number of validation documents: {}'.format(len(X_val)))"
   ]
  },
  {
   "cell_type": "code",
   "execution_count": 11,
   "metadata": {
    "collapsed": true
   },
   "outputs": [],
   "source": [
    "# https://github.com/scikit-learn/scikit-learn/issues/6614\n",
    "class MyTfidfVectorizer(TfidfVectorizer):\n",
    "    def fit_transform(self, X, y):\n",
    "        result = super(MyTfidfVectorizer, self).fit_transform(X, y)\n",
    "        result.sort_indices()\n",
    "        return result"
   ]
  },
  {
   "cell_type": "code",
   "execution_count": 12,
   "metadata": {
    "collapsed": true,
    "scrolled": true
   },
   "outputs": [],
   "source": [
    "def warn(*args, **kwargs):\n",
    "    pass\n",
    "import warnings\n",
    "warnings.warn = warn\n",
    "\n",
    "pipeline = Pipeline([\n",
    "    ('vect', MyTfidfVectorizer()),\n",
    "    # https://stackoverflow.com/a/39712590/436721\n",
    "    ('clf', OneVsRestClassifier(SVC(kernel='linear',probability=True),n_jobs=-1)),\n",
    "])\n",
    "\n",
    "parameters = [\n",
    "    {\n",
    "        \"vect__max_features\": [MAX_NB_WORDS]\n",
    "    }\n",
    "]"
   ]
  },
  {
   "cell_type": "code",
   "execution_count": 13,
   "metadata": {
    "scrolled": false
   },
   "outputs": [
    {
     "name": "stdout",
     "output_type": "stream",
     "text": [
      "CPU times: user 10h 48min 23s, sys: 2min 16s, total: 10h 50min 40s\n",
      "Wall time: 20h 9min 19s\n"
     ]
    }
   ],
   "source": [
    "%%time\n",
    "\n",
    "for g in ParameterGrid(parameters):\n",
    "    pipeline.set_params(**g)\n",
    "    \n",
    "    pipeline.fit(X_train,Y_train)\n",
    "    \n",
    "    Y_pred_train = pipeline.predict_proba(X_train)    \n",
    "    Y_pred_val = pipeline.predict_proba(X_val)"
   ]
  },
  {
   "cell_type": "code",
   "execution_count": 14,
   "metadata": {
    "collapsed": true
   },
   "outputs": [],
   "source": [
    "joblib.dump(pipeline,open(MODELS_ROOT+\"/delicious-ovr-svc.p\",\"wb\"))"
   ]
  },
  {
   "cell_type": "code",
   "execution_count": 17,
   "metadata": {},
   "outputs": [
    {
     "name": "stdout",
     "output_type": "stream",
     "text": [
      "train micro-F1 @1: 0.07201284876554738\n",
      "validation micro-F1 @1: 0.055613090306545154\n",
      "train micro-F1 @2: 0.1398427649632871\n",
      "validation micro-F1 @2: 0.09897267172497147\n",
      "train micro-F1 @3: 0.20237738548743128\n",
      "validation micro-F1 @3: 0.1323920804933463\n",
      "train micro-F1 @4: 0.2569980680457169\n",
      "validation micro-F1 @4: 0.1582041020510255\n",
      "train micro-F1 @5: 0.3033711839824543\n",
      "validation micro-F1 @5: 0.17774840008412704\n",
      "train micro-F1 @6: 0.34184233988093526\n",
      "validation micro-F1 @6: 0.19320214669051877\n",
      "train micro-F1 @7: 0.3738374240338448\n",
      "validation micro-F1 @7: 0.20416805048156758\n",
      "train micro-F1 @8: 0.40025319069171045\n",
      "validation micro-F1 @8: 0.21198609231095894\n",
      "train micro-F1 @9: 0.4214683672287228\n",
      "validation micro-F1 @9: 0.21735699192994068\n",
      "train micro-F1 @10: 0.4386893471210916\n",
      "validation micro-F1 @10: 0.22096261910579038\n"
     ]
    }
   ],
   "source": [
    "ks = [1,2,3,4,5,6,7,8,9,10]\n",
    "\n",
    "for k in ks:\n",
    "    print(\"train micro-F1 @{}: {}\".format(k,ranking.micro_f1_at_k(Y_train,Y_pred_train,k=k)))\n",
    "    print(\"validation micro-F1 @{}: {}\".format(k,ranking.micro_f1_at_k(Y_val,Y_pred_val,k=k)))"
   ]
  }
 ],
 "metadata": {
  "kernelspec": {
   "display_name": "Python 3",
   "language": "python",
   "name": "python3"
  },
  "language_info": {
   "codemirror_mode": {
    "name": "ipython",
    "version": 3
   },
   "file_extension": ".py",
   "mimetype": "text/x-python",
   "name": "python",
   "nbconvert_exporter": "python",
   "pygments_lexer": "ipython3",
   "version": "3.4.3"
  }
 },
 "nbformat": 4,
 "nbformat_minor": 2
}
