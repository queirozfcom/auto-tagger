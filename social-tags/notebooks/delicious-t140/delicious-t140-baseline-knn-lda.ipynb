{
 "cells": [
  {
   "cell_type": "code",
   "execution_count": 41,
   "metadata": {},
   "outputs": [
    {
     "name": "stdout",
     "output_type": "stream",
     "text": [
      "The autoreload extension is already loaded. To reload it, use:\n",
      "  %reload_ext autoreload\n"
     ]
    }
   ],
   "source": [
    "import pandas as pd\n",
    "import numpy as np\n",
    "import matplotlib.pyplot as plt\n",
    "import gc\n",
    "import os\n",
    "import pickle\n",
    "import sklearn\n",
    "import sys\n",
    "\n",
    "from sklearn.decomposition import LatentDirichletAllocation\n",
    "from sklearn.metrics import f1_score, precision_score, recall_score\n",
    "from sklearn.model_selection import cross_val_score, GridSearchCV,ParameterGrid, train_test_split\n",
    "from sklearn.multiclass import OneVsRestClassifier\n",
    "from sklearn.preprocessing import MultiLabelBinarizer, Normalizer\n",
    "from sklearn.feature_extraction.text import CountVectorizer\n",
    "from sklearn.feature_extraction.text import TfidfTransformer\n",
    "from sklearn.pipeline import Pipeline\n",
    "from sklearn.svm import LinearSVC\n",
    "from sklearn.neighbors import KNeighborsClassifier,NearestNeighbors\n",
    "from sklearn.model_selection import GridSearchCV\n",
    "\n",
    "from tqdm import *\n",
    "\n",
    "%matplotlib inline\n",
    "%load_ext autoreload\n",
    "%autoreload 1"
   ]
  },
  {
   "cell_type": "code",
   "execution_count": 2,
   "metadata": {
    "collapsed": true
   },
   "outputs": [],
   "source": [
    "src_dir = os.path.join(os.getcwd(), os.pardir, 'src')\n",
    "sys.path.append(src_dir)"
   ]
  },
  {
   "cell_type": "code",
   "execution_count": 3,
   "metadata": {
    "collapsed": true
   },
   "outputs": [],
   "source": [
    "%aimport data.load_delicious\n",
    "%aimport features.build_features\n",
    "%aimport helpers.files,helpers.labels"
   ]
  },
  {
   "cell_type": "code",
   "execution_count": 8,
   "metadata": {},
   "outputs": [],
   "source": [
    "from data.load_delicious import load_taginfo_into_dataframe\n",
    "from helpers.files import get_directory_name_from_hash\n",
    "from helpers.labels import truncate_labels\n",
    "from features.preprocess import clean_text_delicious"
   ]
  },
  {
   "cell_type": "code",
   "execution_count": 9,
   "metadata": {
    "collapsed": true
   },
   "outputs": [],
   "source": [
    "ROOT = \"/media/felipe/SAMSUNG/delicious/delicioust140/\"\n",
    "TAGINFO = ROOT+\"taginfo.xml\"\n",
    "INTERIM_DATA_ROOT = \"../data/interim/delicious-t140/\"\n",
    "MAX_NB_WORDS = 2000\n",
    "LABELS_MIN_DOC_FRACTION = 0.01"
   ]
  },
  {
   "cell_type": "code",
   "execution_count": 11,
   "metadata": {},
   "outputs": [],
   "source": [
    "if os.path.isfile(INTERIM_DATA_ROOT+\"docs_df.p\"):\n",
    "    docs_df = pickle.load( open( INTERIM_DATA_ROOT+\"docs_df.p\", \"rb\" ))\n",
    "else:\n",
    "    docs_df = load_taginfo_into_dataframe(TAGINFO)\n",
    "    pickle.dump(docs_df,open(INTERIM_DATA_ROOT+\"docs_df.p\",\"wb\"))"
   ]
  },
  {
   "cell_type": "code",
   "execution_count": 12,
   "metadata": {},
   "outputs": [
    {
     "data": {
      "text/plain": [
       "143716"
      ]
     },
     "execution_count": 12,
     "metadata": {},
     "output_type": "execute_result"
    }
   ],
   "source": [
    "num_documents = len(docs_df)\n",
    "num_documents"
   ]
  },
  {
   "cell_type": "code",
   "execution_count": null,
   "metadata": {},
   "outputs": [],
   "source": [
    "docs_df.head(10)"
   ]
  },
  {
   "cell_type": "code",
   "execution_count": 13,
   "metadata": {
    "collapsed": true
   },
   "outputs": [],
   "source": [
    "# TODO optimize this because currently this does one I/O OP per loop\n",
    "def load_contents(hash):\n",
    "    file_path = ROOT+\"fdocuments/\"+get_directory_name_from_hash(hash)+\"/\"+hash+\".html\"\n",
    "       \n",
    "    with open(file_path,\"r\",encoding='utf-8', errors='ignore') as f:\n",
    "        contents = f.read()\n",
    "        \n",
    "    return contents"
   ]
  },
  {
   "cell_type": "code",
   "execution_count": 14,
   "metadata": {},
   "outputs": [
    {
     "name": "stdout",
     "output_type": "stream",
     "text": [
      "CPU times: user 84 ms, sys: 64 ms, total: 148 ms\n",
      "Wall time: 145 ms\n"
     ]
    }
   ],
   "source": [
    "%%time\n",
    "\n",
    "if os.path.isfile(INTERIM_DATA_ROOT+\"sample_df.p\"):\n",
    "    sample_df = pickle.load(open(INTERIM_DATA_ROOT+\"sample_df.p\", \"rb\"))\n",
    "else:\n",
    "    random_indices = np.random.choice(docs_df.index.values, int(num_documents/50), replace=False)\n",
    "    sample_df = docs_df.loc[random_indices]\n",
    "    sample_df = sample_df.reset_index().drop(['index'],axis=1)\n",
    "    sample_df['contents'] = sample_df['hash'].map(lambda hash: load_contents(hash))\n",
    "    pickle.dump(sample_df,open(INTERIM_DATA_ROOT+\"sample_df.p\",\"wb\"))"
   ]
  },
  {
   "cell_type": "code",
   "execution_count": 15,
   "metadata": {},
   "outputs": [
    {
     "data": {
      "text/plain": [
       "2874"
      ]
     },
     "execution_count": 15,
     "metadata": {},
     "output_type": "execute_result"
    }
   ],
   "source": [
    "num_documents = len(sample_df)\n",
    "num_documents"
   ]
  },
  {
   "cell_type": "code",
   "execution_count": 16,
   "metadata": {},
   "outputs": [
    {
     "data": {
      "text/html": [
       "<div>\n",
       "<style>\n",
       "    .dataframe thead tr:only-child th {\n",
       "        text-align: right;\n",
       "    }\n",
       "\n",
       "    .dataframe thead th {\n",
       "        text-align: left;\n",
       "    }\n",
       "\n",
       "    .dataframe tbody tr th {\n",
       "        vertical-align: top;\n",
       "    }\n",
       "</style>\n",
       "<table border=\"1\" class=\"dataframe\">\n",
       "  <thead>\n",
       "    <tr style=\"text-align: right;\">\n",
       "      <th></th>\n",
       "      <th>filename</th>\n",
       "      <th>filetype</th>\n",
       "      <th>hash</th>\n",
       "      <th>tags</th>\n",
       "      <th>url</th>\n",
       "      <th>num_users</th>\n",
       "      <th>num_tags</th>\n",
       "      <th>contents</th>\n",
       "    </tr>\n",
       "  </thead>\n",
       "  <tbody>\n",
       "    <tr>\n",
       "      <th>0</th>\n",
       "      <td>37296e86ac599d7fe9aaff17a3037400.html</td>\n",
       "      <td>html</td>\n",
       "      <td>37296e86ac599d7fe9aaff17a3037400</td>\n",
       "      <td>flash,air,adobe,blog,flex,design,webdesign,act...</td>\n",
       "      <td>http://www.webkitchen.be/</td>\n",
       "      <td>65</td>\n",
       "      <td>23</td>\n",
       "      <td>&lt;!DOCTYPE html PUBLIC \"-//W3C//DTD XHTML 1.0 T...</td>\n",
       "    </tr>\n",
       "    <tr>\n",
       "      <th>1</th>\n",
       "      <td>0b294ed63a75b9d264af303f5c5eeea9.html</td>\n",
       "      <td>html</td>\n",
       "      <td>0b294ed63a75b9d264af303f5c5eeea9</td>\n",
       "      <td>french,language,franÃ§ais,resources,education,...</td>\n",
       "      <td>http://www.uni.edu/becker/french31.html</td>\n",
       "      <td>123</td>\n",
       "      <td>21</td>\n",
       "      <td>&lt;HTML&gt;\\n&lt;HEAD&gt;\\n\\n&lt;TITLE&gt;Best French Websites&lt;...</td>\n",
       "    </tr>\n",
       "    <tr>\n",
       "      <th>2</th>\n",
       "      <td>5d7ec003095ae0f3123b2e3da4b3fb95.html</td>\n",
       "      <td>html</td>\n",
       "      <td>5d7ec003095ae0f3123b2e3da4b3fb95</td>\n",
       "      <td>music,mp3,history,free,audio,downloads,songs,d...</td>\n",
       "      <td>http://www.foldedspace.org/weblog/2006/06/in_t...</td>\n",
       "      <td>566</td>\n",
       "      <td>25</td>\n",
       "      <td>&lt;!DOCTYPE html PUBLIC \"-//W3C//DTD XHTML 1.0 T...</td>\n",
       "    </tr>\n",
       "    <tr>\n",
       "      <th>3</th>\n",
       "      <td>8ca4efc75f6399dfe7e4bffbfc0c08d4.html</td>\n",
       "      <td>html</td>\n",
       "      <td>8ca4efc75f6399dfe7e4bffbfc0c08d4</td>\n",
       "      <td>ssh,sftp,security,linux,database,backup,howto,...</td>\n",
       "      <td>http://ask-leo.com/how_can_i_automate_an_sftp_...</td>\n",
       "      <td>21</td>\n",
       "      <td>10</td>\n",
       "      <td>&lt;!DOCTYPE html PUBLIC \"-//W3C//DTD XHTML 1.0 T...</td>\n",
       "    </tr>\n",
       "    <tr>\n",
       "      <th>4</th>\n",
       "      <td>ce9a31b508d0505b0e4cb2bbf4fe3d55.html</td>\n",
       "      <td>html</td>\n",
       "      <td>ce9a31b508d0505b0e4cb2bbf4fe3d55</td>\n",
       "      <td>ajax,rails,tutorial</td>\n",
       "      <td>http://railsonedge.blogspot.com/2008/03/tutori...</td>\n",
       "      <td>7</td>\n",
       "      <td>3</td>\n",
       "      <td>&lt;!DOCTYPE html PUBLIC \"-//W3C//DTD XHTML 1.0 S...</td>\n",
       "    </tr>\n",
       "    <tr>\n",
       "      <th>5</th>\n",
       "      <td>1bcbe8e8838244aca41bfbe69a958f24.html</td>\n",
       "      <td>html</td>\n",
       "      <td>1bcbe8e8838244aca41bfbe69a958f24</td>\n",
       "      <td>silverlight,charts,opensource,chart,.net,free,...</td>\n",
       "      <td>http://www.visifire.com/silverlight_charts_gal...</td>\n",
       "      <td>47</td>\n",
       "      <td>15</td>\n",
       "      <td>&lt;!DOCTYPE html PUBLIC \"-//W3C//DTD XHTML 1.0 T...</td>\n",
       "    </tr>\n",
       "    <tr>\n",
       "      <th>6</th>\n",
       "      <td>8384c9cae634c9dff115a741926e0fc9.html</td>\n",
       "      <td>html</td>\n",
       "      <td>8384c9cae634c9dff115a741926e0fc9</td>\n",
       "      <td>parenting,education,baby,children,learning,lan...</td>\n",
       "      <td>http://www.time.com/time/health/article/0,8599...</td>\n",
       "      <td>121</td>\n",
       "      <td>25</td>\n",
       "      <td>&lt;!--[if IE 5]&gt; Vignette StoryServer 5.0 Fri Ma...</td>\n",
       "    </tr>\n",
       "    <tr>\n",
       "      <th>7</th>\n",
       "      <td>2ad1b840589b35378c8757739a461b1d.html</td>\n",
       "      <td>html</td>\n",
       "      <td>2ad1b840589b35378c8757739a461b1d</td>\n",
       "      <td>language,dictionary,swear,fun,reference,funny,...</td>\n",
       "      <td>http://www.youswear.com/index.asp</td>\n",
       "      <td>18</td>\n",
       "      <td>14</td>\n",
       "      <td></td>\n",
       "    </tr>\n",
       "    <tr>\n",
       "      <th>8</th>\n",
       "      <td>78f632abdab2116c806b8ab81029fce7.html</td>\n",
       "      <td>html</td>\n",
       "      <td>78f632abdab2116c806b8ab81029fce7</td>\n",
       "      <td>history,image,compression,lenna,fun,internet,i...</td>\n",
       "      <td>http://www.cs.cmu.edu/~chuck/lennapg/</td>\n",
       "      <td>58</td>\n",
       "      <td>25</td>\n",
       "      <td>&lt;html&gt;\\n\\n&lt;head&gt;\\n&lt;title&gt;The Rest of the Lenna...</td>\n",
       "    </tr>\n",
       "    <tr>\n",
       "      <th>9</th>\n",
       "      <td>8c1fd30e1547407eab96254252d433d4.html</td>\n",
       "      <td>html</td>\n",
       "      <td>8c1fd30e1547407eab96254252d433d4</td>\n",
       "      <td>science,space,astronomy</td>\n",
       "      <td>http://dvice.com/archives/2008/06/astronomers_...</td>\n",
       "      <td>4</td>\n",
       "      <td>3</td>\n",
       "      <td>&lt;!DOCTYPE html PUBLIC \"-//W3C//DTD XHTML 1.0 T...</td>\n",
       "    </tr>\n",
       "  </tbody>\n",
       "</table>\n",
       "</div>"
      ],
      "text/plain": [
       "                                filename filetype  \\\n",
       "0  37296e86ac599d7fe9aaff17a3037400.html     html   \n",
       "1  0b294ed63a75b9d264af303f5c5eeea9.html     html   \n",
       "2  5d7ec003095ae0f3123b2e3da4b3fb95.html     html   \n",
       "3  8ca4efc75f6399dfe7e4bffbfc0c08d4.html     html   \n",
       "4  ce9a31b508d0505b0e4cb2bbf4fe3d55.html     html   \n",
       "5  1bcbe8e8838244aca41bfbe69a958f24.html     html   \n",
       "6  8384c9cae634c9dff115a741926e0fc9.html     html   \n",
       "7  2ad1b840589b35378c8757739a461b1d.html     html   \n",
       "8  78f632abdab2116c806b8ab81029fce7.html     html   \n",
       "9  8c1fd30e1547407eab96254252d433d4.html     html   \n",
       "\n",
       "                               hash  \\\n",
       "0  37296e86ac599d7fe9aaff17a3037400   \n",
       "1  0b294ed63a75b9d264af303f5c5eeea9   \n",
       "2  5d7ec003095ae0f3123b2e3da4b3fb95   \n",
       "3  8ca4efc75f6399dfe7e4bffbfc0c08d4   \n",
       "4  ce9a31b508d0505b0e4cb2bbf4fe3d55   \n",
       "5  1bcbe8e8838244aca41bfbe69a958f24   \n",
       "6  8384c9cae634c9dff115a741926e0fc9   \n",
       "7  2ad1b840589b35378c8757739a461b1d   \n",
       "8  78f632abdab2116c806b8ab81029fce7   \n",
       "9  8c1fd30e1547407eab96254252d433d4   \n",
       "\n",
       "                                                tags  \\\n",
       "0  flash,air,adobe,blog,flex,design,webdesign,act...   \n",
       "1  french,language,franÃ§ais,resources,education,...   \n",
       "2  music,mp3,history,free,audio,downloads,songs,d...   \n",
       "3  ssh,sftp,security,linux,database,backup,howto,...   \n",
       "4                                ajax,rails,tutorial   \n",
       "5  silverlight,charts,opensource,chart,.net,free,...   \n",
       "6  parenting,education,baby,children,learning,lan...   \n",
       "7  language,dictionary,swear,fun,reference,funny,...   \n",
       "8  history,image,compression,lenna,fun,internet,i...   \n",
       "9                            science,space,astronomy   \n",
       "\n",
       "                                                 url  num_users  num_tags  \\\n",
       "0                          http://www.webkitchen.be/         65        23   \n",
       "1            http://www.uni.edu/becker/french31.html        123        21   \n",
       "2  http://www.foldedspace.org/weblog/2006/06/in_t...        566        25   \n",
       "3  http://ask-leo.com/how_can_i_automate_an_sftp_...         21        10   \n",
       "4  http://railsonedge.blogspot.com/2008/03/tutori...          7         3   \n",
       "5  http://www.visifire.com/silverlight_charts_gal...         47        15   \n",
       "6  http://www.time.com/time/health/article/0,8599...        121        25   \n",
       "7                  http://www.youswear.com/index.asp         18        14   \n",
       "8              http://www.cs.cmu.edu/~chuck/lennapg/         58        25   \n",
       "9  http://dvice.com/archives/2008/06/astronomers_...          4         3   \n",
       "\n",
       "                                            contents  \n",
       "0  <!DOCTYPE html PUBLIC \"-//W3C//DTD XHTML 1.0 T...  \n",
       "1  <HTML>\\n<HEAD>\\n\\n<TITLE>Best French Websites<...  \n",
       "2  <!DOCTYPE html PUBLIC \"-//W3C//DTD XHTML 1.0 T...  \n",
       "3  <!DOCTYPE html PUBLIC \"-//W3C//DTD XHTML 1.0 T...  \n",
       "4  <!DOCTYPE html PUBLIC \"-//W3C//DTD XHTML 1.0 S...  \n",
       "5  <!DOCTYPE html PUBLIC \"-//W3C//DTD XHTML 1.0 T...  \n",
       "6  <!--[if IE 5]> Vignette StoryServer 5.0 Fri Ma...  \n",
       "7                                                     \n",
       "8  <html>\\n\\n<head>\\n<title>The Rest of the Lenna...  \n",
       "9  <!DOCTYPE html PUBLIC \"-//W3C//DTD XHTML 1.0 T...  "
      ]
     },
     "execution_count": 16,
     "metadata": {},
     "output_type": "execute_result"
    }
   ],
   "source": [
    "sample_df.head(10)"
   ]
  },
  {
   "cell_type": "code",
   "execution_count": 17,
   "metadata": {
    "collapsed": true
   },
   "outputs": [],
   "source": [
    "tag_sets = sample_df[\"tags\"].values\n",
    "\n",
    "all_tags = set()\n",
    "\n",
    "for tag_set in tag_sets:\n",
    "    for tag in tag_set.split(','):\n",
    "        all_tags.add(tag)"
   ]
  },
  {
   "cell_type": "code",
   "execution_count": 18,
   "metadata": {},
   "outputs": [
    {
     "data": {
      "text/plain": [
       "7201"
      ]
     },
     "execution_count": 18,
     "metadata": {},
     "output_type": "execute_result"
    }
   ],
   "source": [
    "len(all_tags)"
   ]
  },
  {
   "cell_type": "code",
   "execution_count": 19,
   "metadata": {},
   "outputs": [
    {
     "data": {
      "text/plain": [
       "28"
      ]
     },
     "execution_count": 19,
     "metadata": {},
     "output_type": "execute_result"
    }
   ],
   "source": [
    "min_nb_docs = int(len(sample_df)* LABELS_MIN_DOC_FRACTION)\n",
    "min_nb_docs"
   ]
  },
  {
   "cell_type": "code",
   "execution_count": 20,
   "metadata": {
    "collapsed": true
   },
   "outputs": [],
   "source": [
    "sample_df[\"tags_split\"] = sample_df[\"tags\"].map(lambda tagstring: tagstring.split(\",\"))\n",
    "labels = sample_df[\"tags_split\"].values"
   ]
  },
  {
   "cell_type": "code",
   "execution_count": 21,
   "metadata": {
    "collapsed": true
   },
   "outputs": [],
   "source": [
    "truncated_labels = truncate_labels(labels,min_nb_docs)"
   ]
  },
  {
   "cell_type": "code",
   "execution_count": 22,
   "metadata": {
    "collapsed": true
   },
   "outputs": [],
   "source": [
    "mlb = MultiLabelBinarizer()\n",
    "binary_label_data = mlb.fit_transform(truncated_labels)"
   ]
  },
  {
   "cell_type": "code",
   "execution_count": 23,
   "metadata": {},
   "outputs": [
    {
     "data": {
      "text/plain": [
       "(2874, 242)"
      ]
     },
     "execution_count": 23,
     "metadata": {},
     "output_type": "execute_result"
    }
   ],
   "source": [
    "binary_label_data.shape"
   ]
  },
  {
   "cell_type": "code",
   "execution_count": 24,
   "metadata": {
    "collapsed": true
   },
   "outputs": [],
   "source": [
    "data = sample_df[\"contents\"].values"
   ]
  },
  {
   "cell_type": "code",
   "execution_count": 25,
   "metadata": {},
   "outputs": [
    {
     "data": {
      "text/plain": [
       "'<!DOCTYPE html PUBLIC \"-//W3C//DTD XHTML 1.0 Transitional//EN\"\\n\"http://www.w3.org/TR/xhtml1/DTD/xhtml1-transitional.dtd\">\\n<html xmlns=\"http://www.w3.org/1999/xhtml\">\\n<head profile=\"http://gmpg.org/xfn/11\">\\n<title>Serge Jespers</title>\\n<link rel=\"shortcut icon\" href=\"/favicon.ico\" type=\"image/x-icon\" />\\n<meta http-equiv=\"Content-Type\" content=\"text/html; charset=ISO-8859-1\" />\\n<meta http-equiv=\"pragma\" content=\"no-cache\" />\\n<meta http-equiv=\"cache-control\" content=\"no-cache\" />\\n<link rel=\"stylesheet\" type=\"text/css\" href=\"http://www.webkitchen.be/wp-content/themes/smashingtheme/style.css\" />\\n<script type=\"text/javascript\" src=\"http://www.webkitchen.be/wp-content/themes/smashingtheme/javascript/imghover.js\"> </script>\\n<link rel=\"alternate\" type=\"application/rss+xml\" title=\"RSS 2.0\" href=\"http://www.webkitchen.be/feed/\" />\\n<link rel=\"alternate\" type=\"text/xml\" title=\"RSS .92\" href=\"http://www.webkitchen.be/feed/rss/\" />\\n<link rel=\"alternate\" type=\"application/atom+xml\" title=\"Atom 0.3\" hr'"
      ]
     },
     "execution_count": 25,
     "metadata": {},
     "output_type": "execute_result"
    }
   ],
   "source": [
    "data[0][:1000]"
   ]
  },
  {
   "cell_type": "code",
   "execution_count": 42,
   "metadata": {},
   "outputs": [],
   "source": [
    "pipeline = Pipeline([\n",
    "    ('vect', CountVectorizer(preprocessor=clean_text_delicious, max_features=MAX_NB_WORDS)),\n",
    "    ('tf',TfidfTransformer()),\n",
    "    ('lda',LatentDirichletAllocation()),\n",
    "    ('norm',Normalizer()),\n",
    "    ('clf', OneVsRestClassifier(KNeighborsClassifier(),n_jobs=-1)),\n",
    "])"
   ]
  },
  {
   "cell_type": "code",
   "execution_count": 47,
   "metadata": {
    "collapsed": true
   },
   "outputs": [],
   "source": [
    "# use later\n",
    "parameters = {\n",
    "    \"tf__use_idf\":[False],\n",
    "    \"tf__norm\":['l1','l2',None],\n",
    "    \"lda__n_components\":[2,5,10,20],\n",
    "    \"lda__max_iter\":[5,10],\n",
    "    \"lda__learning_method\":[\"online\"],\n",
    "    \"norm__norm\":[\"l2\"],\n",
    "    \"clf__estimator__p\":[1,2],\n",
    "    \"clf__estimator__n_neighbors\": [2,3,4,5],\n",
    "    \"clf__estimator__weights\":['distance']\n",
    "}"
   ]
  },
  {
   "cell_type": "code",
   "execution_count": 48,
   "metadata": {},
   "outputs": [
    {
     "name": "stdout",
     "output_type": "stream",
     "text": [
      "CPU times: user 0 ns, sys: 0 ns, total: 0 ns\n",
      "Wall time: 3.58 µs\n",
      "training F1: 0.12061489948758375\n",
      "validation F1: 0.0142602495543672\n",
      "grid: {'lda__n_components': 2, 'tf__use_idf': False, 'lda__learning_method': 'online', 'tf__norm': 'l1', 'norm__norm': 'l2', 'clf__estimator__weights': 'uniform', 'clf__estimator__n_neighbors': 2, 'lda__max_iter': 5, 'clf__estimator__p': 1}\n",
      "\n",
      "training F1: 0.13228761037678935\n",
      "validation F1: 0.012896657050738164\n",
      "grid: {'lda__n_components': 2, 'tf__use_idf': False, 'lda__learning_method': 'online', 'tf__norm': 'l2', 'norm__norm': 'l2', 'clf__estimator__weights': 'uniform', 'clf__estimator__n_neighbors': 2, 'lda__max_iter': 5, 'clf__estimator__p': 1}\n",
      "\n",
      "training F1: 0.12325243261380159\n",
      "validation F1: 0.016190318850156944\n",
      "grid: {'lda__n_components': 2, 'tf__use_idf': False, 'lda__learning_method': 'online', 'tf__norm': None, 'norm__norm': 'l2', 'clf__estimator__weights': 'uniform', 'clf__estimator__n_neighbors': 2, 'lda__max_iter': 5, 'clf__estimator__p': 1}\n",
      "\n",
      "training F1: 0.13902638020125102\n",
      "validation F1: 0.019517205957883924\n",
      "grid: {'lda__n_components': 5, 'tf__use_idf': False, 'lda__learning_method': 'online', 'tf__norm': 'l1', 'norm__norm': 'l2', 'clf__estimator__weights': 'uniform', 'clf__estimator__n_neighbors': 2, 'lda__max_iter': 5, 'clf__estimator__p': 1}\n",
      "\n",
      "training F1: 0.1347682119205298\n",
      "validation F1: 0.013981358189081226\n",
      "grid: {'lda__n_components': 5, 'tf__use_idf': False, 'lda__learning_method': 'online', 'tf__norm': 'l2', 'norm__norm': 'l2', 'clf__estimator__weights': 'uniform', 'clf__estimator__n_neighbors': 2, 'lda__max_iter': 5, 'clf__estimator__p': 1}\n",
      "\n",
      "training F1: 0.17287952458130743\n",
      "validation F1: 0.0345054222806441\n",
      "grid: {'lda__n_components': 5, 'tf__use_idf': False, 'lda__learning_method': 'online', 'tf__norm': None, 'norm__norm': 'l2', 'clf__estimator__weights': 'uniform', 'clf__estimator__n_neighbors': 2, 'lda__max_iter': 5, 'clf__estimator__p': 1}\n",
      "\n",
      "training F1: 0.15773971855568888\n",
      "validation F1: 0.019138755980861243\n",
      "grid: {'lda__n_components': 10, 'tf__use_idf': False, 'lda__learning_method': 'online', 'tf__norm': 'l1', 'norm__norm': 'l2', 'clf__estimator__weights': 'uniform', 'clf__estimator__n_neighbors': 2, 'lda__max_iter': 5, 'clf__estimator__p': 1}\n",
      "\n",
      "training F1: 0.12815405046480743\n",
      "validation F1: 0.021462105969148226\n",
      "grid: {'lda__n_components': 10, 'tf__use_idf': False, 'lda__learning_method': 'online', 'tf__norm': 'l2', 'norm__norm': 'l2', 'clf__estimator__weights': 'uniform', 'clf__estimator__n_neighbors': 2, 'lda__max_iter': 5, 'clf__estimator__p': 1}\n",
      "\n",
      "training F1: 0.1956625992433527\n",
      "validation F1: 0.04618117229129662\n",
      "grid: {'lda__n_components': 10, 'tf__use_idf': False, 'lda__learning_method': 'online', 'tf__norm': None, 'norm__norm': 'l2', 'clf__estimator__weights': 'uniform', 'clf__estimator__n_neighbors': 2, 'lda__max_iter': 5, 'clf__estimator__p': 1}\n",
      "\n",
      "training F1: 0.14246636520962433\n",
      "validation F1: 0.01695457453614843\n",
      "grid: {'lda__n_components': 20, 'tf__use_idf': False, 'lda__learning_method': 'online', 'tf__norm': 'l1', 'norm__norm': 'l2', 'clf__estimator__weights': 'uniform', 'clf__estimator__n_neighbors': 2, 'lda__max_iter': 5, 'clf__estimator__p': 1}\n",
      "\n",
      "training F1: 0.12455934195064629\n",
      "validation F1: 0.017664376840039256\n",
      "grid: {'lda__n_components': 20, 'tf__use_idf': False, 'lda__learning_method': 'online', 'tf__norm': 'l2', 'norm__norm': 'l2', 'clf__estimator__weights': 'uniform', 'clf__estimator__n_neighbors': 2, 'lda__max_iter': 5, 'clf__estimator__p': 1}\n",
      "\n",
      "training F1: 0.22491532599491953\n",
      "validation F1: 0.05924764890282132\n",
      "grid: {'lda__n_components': 20, 'tf__use_idf': False, 'lda__learning_method': 'online', 'tf__norm': None, 'norm__norm': 'l2', 'clf__estimator__weights': 'uniform', 'clf__estimator__n_neighbors': 2, 'lda__max_iter': 5, 'clf__estimator__p': 1}\n",
      "\n",
      "training F1: 0.1226027782464428\n",
      "validation F1: 0.016314779270633396\n",
      "grid: {'lda__n_components': 2, 'tf__use_idf': False, 'lda__learning_method': 'online', 'tf__norm': 'l1', 'norm__norm': 'l2', 'clf__estimator__weights': 'uniform', 'clf__estimator__n_neighbors': 2, 'lda__max_iter': 10, 'clf__estimator__p': 1}\n",
      "\n",
      "training F1: 0.11677927927927928\n",
      "validation F1: 0.016270745200130166\n",
      "grid: {'lda__n_components': 2, 'tf__use_idf': False, 'lda__learning_method': 'online', 'tf__norm': 'l2', 'norm__norm': 'l2', 'clf__estimator__weights': 'uniform', 'clf__estimator__n_neighbors': 2, 'lda__max_iter': 10, 'clf__estimator__p': 1}\n",
      "\n",
      "training F1: 0.12954292084726868\n",
      "validation F1: 0.015077023926581449\n",
      "grid: {'lda__n_components': 2, 'tf__use_idf': False, 'lda__learning_method': 'online', 'tf__norm': None, 'norm__norm': 'l2', 'clf__estimator__weights': 'uniform', 'clf__estimator__n_neighbors': 2, 'lda__max_iter': 10, 'clf__estimator__p': 1}\n",
      "\n",
      "training F1: 0.1390927284856571\n",
      "validation F1: 0.01892332789559543\n",
      "grid: {'lda__n_components': 5, 'tf__use_idf': False, 'lda__learning_method': 'online', 'tf__norm': 'l1', 'norm__norm': 'l2', 'clf__estimator__weights': 'uniform', 'clf__estimator__n_neighbors': 2, 'lda__max_iter': 10, 'clf__estimator__p': 1}\n",
      "\n",
      "training F1: 0.13879496701956653\n",
      "validation F1: 0.018524644392987098\n",
      "grid: {'lda__n_components': 5, 'tf__use_idf': False, 'lda__learning_method': 'online', 'tf__norm': 'l2', 'norm__norm': 'l2', 'clf__estimator__weights': 'uniform', 'clf__estimator__n_neighbors': 2, 'lda__max_iter': 10, 'clf__estimator__p': 1}\n",
      "\n",
      "training F1: 0.14244699646643108\n",
      "validation F1: 0.02642309574294568\n",
      "grid: {'lda__n_components': 5, 'tf__use_idf': False, 'lda__learning_method': 'online', 'tf__norm': None, 'norm__norm': 'l2', 'clf__estimator__weights': 'uniform', 'clf__estimator__n_neighbors': 2, 'lda__max_iter': 10, 'clf__estimator__p': 1}\n",
      "\n",
      "training F1: 0.13322231473771856\n",
      "validation F1: 0.022682445759368834\n",
      "grid: {'lda__n_components': 10, 'tf__use_idf': False, 'lda__learning_method': 'online', 'tf__norm': 'l1', 'norm__norm': 'l2', 'clf__estimator__weights': 'uniform', 'clf__estimator__n_neighbors': 2, 'lda__max_iter': 10, 'clf__estimator__p': 1}\n",
      "\n",
      "training F1: 0.1211202783858113\n",
      "validation F1: 0.019290501880006538\n",
      "grid: {'lda__n_components': 10, 'tf__use_idf': False, 'lda__learning_method': 'online', 'tf__norm': 'l2', 'norm__norm': 'l2', 'clf__estimator__weights': 'uniform', 'clf__estimator__n_neighbors': 2, 'lda__max_iter': 10, 'clf__estimator__p': 1}\n",
      "\n",
      "training F1: 0.18519924098671725\n",
      "validation F1: 0.03846153846153846\n",
      "grid: {'lda__n_components': 10, 'tf__use_idf': False, 'lda__learning_method': 'online', 'tf__norm': None, 'norm__norm': 'l2', 'clf__estimator__weights': 'uniform', 'clf__estimator__n_neighbors': 2, 'lda__max_iter': 10, 'clf__estimator__p': 1}\n",
      "\n",
      "training F1: 0.13081493106154019\n",
      "validation F1: 0.014376735827479172\n",
      "grid: {'lda__n_components': 20, 'tf__use_idf': False, 'lda__learning_method': 'online', 'tf__norm': 'l1', 'norm__norm': 'l2', 'clf__estimator__weights': 'uniform', 'clf__estimator__n_neighbors': 2, 'lda__max_iter': 10, 'clf__estimator__p': 1}\n",
      "\n",
      "training F1: 0.13596004439511655\n",
      "validation F1: 0.018750000000000003\n",
      "grid: {'lda__n_components': 20, 'tf__use_idf': False, 'lda__learning_method': 'online', 'tf__norm': 'l2', 'norm__norm': 'l2', 'clf__estimator__weights': 'uniform', 'clf__estimator__n_neighbors': 2, 'lda__max_iter': 10, 'clf__estimator__p': 1}\n",
      "\n",
      "training F1: 0.22924366248503464\n",
      "validation F1: 0.05927125506072875\n",
      "grid: {'lda__n_components': 20, 'tf__use_idf': False, 'lda__learning_method': 'online', 'tf__norm': None, 'norm__norm': 'l2', 'clf__estimator__weights': 'uniform', 'clf__estimator__n_neighbors': 2, 'lda__max_iter': 10, 'clf__estimator__p': 1}\n",
      "\n",
      "training F1: 0.9965950452037101\n",
      "validation F1: 0.07093235831809871\n",
      "grid: {'lda__n_components': 2, 'tf__use_idf': False, 'lda__learning_method': 'online', 'tf__norm': 'l1', 'norm__norm': 'l2', 'clf__estimator__weights': 'distance', 'clf__estimator__n_neighbors': 2, 'lda__max_iter': 5, 'clf__estimator__p': 1}\n",
      "\n",
      "training F1: 0.9956593324352642\n",
      "validation F1: 0.06117858749437697\n",
      "grid: {'lda__n_components': 2, 'tf__use_idf': False, 'lda__learning_method': 'online', 'tf__norm': 'l2', 'norm__norm': 'l2', 'clf__estimator__weights': 'distance', 'clf__estimator__n_neighbors': 2, 'lda__max_iter': 5, 'clf__estimator__p': 1}\n",
      "\n",
      "training F1: 0.9964053768312944\n",
      "validation F1: 0.06830649442576534\n",
      "grid: {'lda__n_components': 2, 'tf__use_idf': False, 'lda__learning_method': 'online', 'tf__norm': None, 'norm__norm': 'l2', 'clf__estimator__weights': 'distance', 'clf__estimator__n_neighbors': 2, 'lda__max_iter': 5, 'clf__estimator__p': 1}\n",
      "\n"
     ]
    },
    {
     "name": "stdout",
     "output_type": "stream",
     "text": [
      "training F1: 0.9965402016737145\n",
      "validation F1: 0.07671377161414904\n",
      "grid: {'lda__n_components': 5, 'tf__use_idf': False, 'lda__learning_method': 'online', 'tf__norm': 'l1', 'norm__norm': 'l2', 'clf__estimator__weights': 'distance', 'clf__estimator__n_neighbors': 2, 'lda__max_iter': 5, 'clf__estimator__p': 1}\n",
      "\n",
      "training F1: 0.9964337292581567\n",
      "validation F1: 0.07005972011765754\n",
      "grid: {'lda__n_components': 5, 'tf__use_idf': False, 'lda__learning_method': 'online', 'tf__norm': 'l2', 'norm__norm': 'l2', 'clf__estimator__weights': 'distance', 'clf__estimator__n_neighbors': 2, 'lda__max_iter': 5, 'clf__estimator__p': 1}\n",
      "\n",
      "training F1: 0.9973061957497755\n",
      "validation F1: 0.07944793417676724\n",
      "grid: {'lda__n_components': 5, 'tf__use_idf': False, 'lda__learning_method': 'online', 'tf__norm': None, 'norm__norm': 'l2', 'clf__estimator__weights': 'distance', 'clf__estimator__n_neighbors': 2, 'lda__max_iter': 5, 'clf__estimator__p': 1}\n",
      "\n",
      "training F1: 0.9961314129270324\n",
      "validation F1: 0.07506372505933023\n",
      "grid: {'lda__n_components': 10, 'tf__use_idf': False, 'lda__learning_method': 'online', 'tf__norm': 'l1', 'norm__norm': 'l2', 'clf__estimator__weights': 'distance', 'clf__estimator__n_neighbors': 2, 'lda__max_iter': 5, 'clf__estimator__p': 1}\n",
      "\n",
      "training F1: 0.9963580374855654\n",
      "validation F1: 0.07259431017568893\n",
      "grid: {'lda__n_components': 10, 'tf__use_idf': False, 'lda__learning_method': 'online', 'tf__norm': 'l2', 'norm__norm': 'l2', 'clf__estimator__weights': 'distance', 'clf__estimator__n_neighbors': 2, 'lda__max_iter': 5, 'clf__estimator__p': 1}\n",
      "\n",
      "training F1: 0.9965140184131335\n",
      "validation F1: 0.11252559423128283\n",
      "grid: {'lda__n_components': 10, 'tf__use_idf': False, 'lda__learning_method': 'online', 'tf__norm': None, 'norm__norm': 'l2', 'clf__estimator__weights': 'distance', 'clf__estimator__n_neighbors': 2, 'lda__max_iter': 5, 'clf__estimator__p': 1}\n",
      "\n",
      "training F1: 0.9978886014214768\n",
      "validation F1: 0.06828651431668323\n",
      "grid: {'lda__n_components': 20, 'tf__use_idf': False, 'lda__learning_method': 'online', 'tf__norm': 'l1', 'norm__norm': 'l2', 'clf__estimator__weights': 'distance', 'clf__estimator__n_neighbors': 2, 'lda__max_iter': 5, 'clf__estimator__p': 1}\n",
      "\n",
      "training F1: 0.9955823532923408\n",
      "validation F1: 0.07257261786263686\n",
      "grid: {'lda__n_components': 20, 'tf__use_idf': False, 'lda__learning_method': 'online', 'tf__norm': 'l2', 'norm__norm': 'l2', 'clf__estimator__weights': 'distance', 'clf__estimator__n_neighbors': 2, 'lda__max_iter': 5, 'clf__estimator__p': 1}\n",
      "\n",
      "training F1: 0.995792677468445\n",
      "validation F1: 0.13157428723215867\n",
      "grid: {'lda__n_components': 20, 'tf__use_idf': False, 'lda__learning_method': 'online', 'tf__norm': None, 'norm__norm': 'l2', 'clf__estimator__weights': 'distance', 'clf__estimator__n_neighbors': 2, 'lda__max_iter': 5, 'clf__estimator__p': 1}\n",
      "\n",
      "training F1: 0.9958248201119303\n",
      "validation F1: 0.06308579668348954\n",
      "grid: {'lda__n_components': 2, 'tf__use_idf': False, 'lda__learning_method': 'online', 'tf__norm': 'l1', 'norm__norm': 'l2', 'clf__estimator__weights': 'distance', 'clf__estimator__n_neighbors': 2, 'lda__max_iter': 10, 'clf__estimator__p': 1}\n",
      "\n",
      "training F1: 0.9974762296044137\n",
      "validation F1: 0.062464933607630446\n",
      "grid: {'lda__n_components': 2, 'tf__use_idf': False, 'lda__learning_method': 'online', 'tf__norm': 'l2', 'norm__norm': 'l2', 'clf__estimator__weights': 'distance', 'clf__estimator__n_neighbors': 2, 'lda__max_iter': 10, 'clf__estimator__p': 1}\n",
      "\n",
      "training F1: 0.9968068280163538\n",
      "validation F1: 0.06533155318202047\n",
      "grid: {'lda__n_components': 2, 'tf__use_idf': False, 'lda__learning_method': 'online', 'tf__norm': None, 'norm__norm': 'l2', 'clf__estimator__weights': 'distance', 'clf__estimator__n_neighbors': 2, 'lda__max_iter': 10, 'clf__estimator__p': 1}\n",
      "\n",
      "training F1: 0.996471251074934\n",
      "validation F1: 0.07186803388319216\n",
      "grid: {'lda__n_components': 5, 'tf__use_idf': False, 'lda__learning_method': 'online', 'tf__norm': 'l1', 'norm__norm': 'l2', 'clf__estimator__weights': 'distance', 'clf__estimator__n_neighbors': 2, 'lda__max_iter': 10, 'clf__estimator__p': 1}\n",
      "\n",
      "training F1: 0.9962027208850351\n",
      "validation F1: 0.07004809000998094\n",
      "grid: {'lda__n_components': 5, 'tf__use_idf': False, 'lda__learning_method': 'online', 'tf__norm': 'l2', 'norm__norm': 'l2', 'clf__estimator__weights': 'distance', 'clf__estimator__n_neighbors': 2, 'lda__max_iter': 10, 'clf__estimator__p': 1}\n",
      "\n",
      "training F1: 0.9965679190751444\n",
      "validation F1: 0.0923816304734781\n",
      "grid: {'lda__n_components': 5, 'tf__use_idf': False, 'lda__learning_method': 'online', 'tf__norm': None, 'norm__norm': 'l2', 'clf__estimator__weights': 'distance', 'clf__estimator__n_neighbors': 2, 'lda__max_iter': 10, 'clf__estimator__p': 1}\n",
      "\n",
      "training F1: 0.9977123503372055\n",
      "validation F1: 0.07115834984687444\n",
      "grid: {'lda__n_components': 10, 'tf__use_idf': False, 'lda__learning_method': 'online', 'tf__norm': 'l1', 'norm__norm': 'l2', 'clf__estimator__weights': 'distance', 'clf__estimator__n_neighbors': 2, 'lda__max_iter': 10, 'clf__estimator__p': 1}\n",
      "\n",
      "training F1: 0.9964989318775219\n",
      "validation F1: 0.0681181678561749\n",
      "grid: {'lda__n_components': 10, 'tf__use_idf': False, 'lda__learning_method': 'online', 'tf__norm': 'l2', 'norm__norm': 'l2', 'clf__estimator__weights': 'distance', 'clf__estimator__n_neighbors': 2, 'lda__max_iter': 10, 'clf__estimator__p': 1}\n",
      "\n",
      "training F1: 0.9969012837538733\n",
      "validation F1: 0.11035871156661786\n",
      "grid: {'lda__n_components': 10, 'tf__use_idf': False, 'lda__learning_method': 'online', 'tf__norm': None, 'norm__norm': 'l2', 'clf__estimator__weights': 'distance', 'clf__estimator__n_neighbors': 2, 'lda__max_iter': 10, 'clf__estimator__p': 1}\n",
      "\n",
      "training F1: 0.973568281938326\n",
      "validation F1: 0.06777550475851643\n",
      "grid: {'lda__n_components': 20, 'tf__use_idf': False, 'lda__learning_method': 'online', 'tf__norm': 'l1', 'norm__norm': 'l2', 'clf__estimator__weights': 'distance', 'clf__estimator__n_neighbors': 2, 'lda__max_iter': 10, 'clf__estimator__p': 1}\n",
      "\n",
      "training F1: 0.9960696238068502\n",
      "validation F1: 0.06168976307554761\n",
      "grid: {'lda__n_components': 20, 'tf__use_idf': False, 'lda__learning_method': 'online', 'tf__norm': 'l2', 'norm__norm': 'l2', 'clf__estimator__weights': 'distance', 'clf__estimator__n_neighbors': 2, 'lda__max_iter': 10, 'clf__estimator__p': 1}\n",
      "\n",
      "training F1: 0.9963382943538862\n",
      "validation F1: 0.11188155922038981\n",
      "grid: {'lda__n_components': 20, 'tf__use_idf': False, 'lda__learning_method': 'online', 'tf__norm': None, 'norm__norm': 'l2', 'clf__estimator__weights': 'distance', 'clf__estimator__n_neighbors': 2, 'lda__max_iter': 10, 'clf__estimator__p': 1}\n",
      "\n",
      "training F1: 0.12201650680347981\n",
      "validation F1: 0.01519405450041288\n",
      "grid: {'lda__n_components': 2, 'tf__use_idf': False, 'lda__learning_method': 'online', 'tf__norm': 'l1', 'norm__norm': 'l2', 'clf__estimator__weights': 'uniform', 'clf__estimator__n_neighbors': 2, 'lda__max_iter': 5, 'clf__estimator__p': 2}\n",
      "\n",
      "training F1: 0.12867852747006828\n",
      "validation F1: 0.01554655870445344\n",
      "grid: {'lda__n_components': 2, 'tf__use_idf': False, 'lda__learning_method': 'online', 'tf__norm': 'l2', 'norm__norm': 'l2', 'clf__estimator__weights': 'uniform', 'clf__estimator__n_neighbors': 2, 'lda__max_iter': 5, 'clf__estimator__p': 2}\n",
      "\n",
      "training F1: 0.12364656381486677\n",
      "validation F1: 0.011822660098522168\n",
      "grid: {'lda__n_components': 2, 'tf__use_idf': False, 'lda__learning_method': 'online', 'tf__norm': None, 'norm__norm': 'l2', 'clf__estimator__weights': 'uniform', 'clf__estimator__n_neighbors': 2, 'lda__max_iter': 5, 'clf__estimator__p': 2}\n",
      "\n",
      "training F1: 0.14011839461250203\n",
      "validation F1: 0.0202055391046856\n",
      "grid: {'lda__n_components': 5, 'tf__use_idf': False, 'lda__learning_method': 'online', 'tf__norm': 'l1', 'norm__norm': 'l2', 'clf__estimator__weights': 'uniform', 'clf__estimator__n_neighbors': 2, 'lda__max_iter': 5, 'clf__estimator__p': 2}\n",
      "\n",
      "training F1: 0.14212975636463182\n",
      "validation F1: 0.021105527638190957\n",
      "grid: {'lda__n_components': 5, 'tf__use_idf': False, 'lda__learning_method': 'online', 'tf__norm': 'l2', 'norm__norm': 'l2', 'clf__estimator__weights': 'uniform', 'clf__estimator__n_neighbors': 2, 'lda__max_iter': 5, 'clf__estimator__p': 2}\n",
      "\n",
      "training F1: 0.17626054966457477\n",
      "validation F1: 0.029797570850202428\n",
      "grid: {'lda__n_components': 5, 'tf__use_idf': False, 'lda__learning_method': 'online', 'tf__norm': None, 'norm__norm': 'l2', 'clf__estimator__weights': 'uniform', 'clf__estimator__n_neighbors': 2, 'lda__max_iter': 5, 'clf__estimator__p': 2}\n",
      "\n"
     ]
    },
    {
     "name": "stdout",
     "output_type": "stream",
     "text": [
      "training F1: 0.1331720459668994\n",
      "validation F1: 0.018483655656340924\n",
      "grid: {'lda__n_components': 10, 'tf__use_idf': False, 'lda__learning_method': 'online', 'tf__norm': 'l1', 'norm__norm': 'l2', 'clf__estimator__weights': 'uniform', 'clf__estimator__n_neighbors': 2, 'lda__max_iter': 5, 'clf__estimator__p': 2}\n",
      "\n",
      "training F1: 0.13348933088194326\n",
      "validation F1: 0.021093623235437287\n",
      "grid: {'lda__n_components': 10, 'tf__use_idf': False, 'lda__learning_method': 'online', 'tf__norm': 'l2', 'norm__norm': 'l2', 'clf__estimator__weights': 'uniform', 'clf__estimator__n_neighbors': 2, 'lda__max_iter': 5, 'clf__estimator__p': 2}\n",
      "\n",
      "training F1: 0.2032233963069698\n",
      "validation F1: 0.04321382842509604\n",
      "grid: {'lda__n_components': 10, 'tf__use_idf': False, 'lda__learning_method': 'online', 'tf__norm': None, 'norm__norm': 'l2', 'clf__estimator__weights': 'uniform', 'clf__estimator__n_neighbors': 2, 'lda__max_iter': 5, 'clf__estimator__p': 2}\n",
      "\n",
      "training F1: 0.1216071930317505\n",
      "validation F1: 0.014504697544090984\n",
      "grid: {'lda__n_components': 20, 'tf__use_idf': False, 'lda__learning_method': 'online', 'tf__norm': 'l1', 'norm__norm': 'l2', 'clf__estimator__weights': 'uniform', 'clf__estimator__n_neighbors': 2, 'lda__max_iter': 5, 'clf__estimator__p': 2}\n",
      "\n",
      "training F1: 0.12993971868720697\n",
      "validation F1: 0.012085578964559857\n",
      "grid: {'lda__n_components': 20, 'tf__use_idf': False, 'lda__learning_method': 'online', 'tf__norm': 'l2', 'norm__norm': 'l2', 'clf__estimator__weights': 'uniform', 'clf__estimator__n_neighbors': 2, 'lda__max_iter': 5, 'clf__estimator__p': 2}\n",
      "\n",
      "training F1: 0.2131704005431093\n",
      "validation F1: 0.053482997689006266\n",
      "grid: {'lda__n_components': 20, 'tf__use_idf': False, 'lda__learning_method': 'online', 'tf__norm': None, 'norm__norm': 'l2', 'clf__estimator__weights': 'uniform', 'clf__estimator__n_neighbors': 2, 'lda__max_iter': 5, 'clf__estimator__p': 2}\n",
      "\n"
     ]
    },
    {
     "ename": "KeyboardInterrupt",
     "evalue": "",
     "output_type": "error",
     "traceback": [
      "\u001b[0;31m---------------------------------------------------------------------------\u001b[0m",
      "\u001b[0;31mKeyboardInterrupt\u001b[0m                         Traceback (most recent call last)",
      "\u001b[0;32m<ipython-input-48-45de5ecde26c>\u001b[0m in \u001b[0;36m<module>\u001b[0;34m()\u001b[0m\n\u001b[1;32m     15\u001b[0m     \u001b[0;31m# again, choose the validation data\u001b[0m\u001b[0;34m\u001b[0m\u001b[0;34m\u001b[0m\u001b[0m\n\u001b[1;32m     16\u001b[0m     \u001b[0;31m# yourself\u001b[0m\u001b[0;34m\u001b[0m\u001b[0;34m\u001b[0m\u001b[0m\n\u001b[0;32m---> 17\u001b[0;31m     \u001b[0my_pred_train\u001b[0m \u001b[0;34m=\u001b[0m \u001b[0mpipeline\u001b[0m\u001b[0;34m.\u001b[0m\u001b[0mpredict\u001b[0m\u001b[0;34m(\u001b[0m\u001b[0mX_train\u001b[0m\u001b[0;34m)\u001b[0m\u001b[0;34m\u001b[0m\u001b[0m\n\u001b[0m\u001b[1;32m     18\u001b[0m     \u001b[0my_pred_validation\u001b[0m \u001b[0;34m=\u001b[0m \u001b[0mpipeline\u001b[0m\u001b[0;34m.\u001b[0m\u001b[0mpredict\u001b[0m\u001b[0;34m(\u001b[0m\u001b[0mX_validation\u001b[0m\u001b[0;34m)\u001b[0m\u001b[0;34m\u001b[0m\u001b[0m\n\u001b[1;32m     19\u001b[0m \u001b[0;34m\u001b[0m\u001b[0m\n",
      "\u001b[0;32m/home/felipe/tf-venv3/lib/python3.5/site-packages/sklearn/utils/metaestimators.py\u001b[0m in \u001b[0;36m<lambda>\u001b[0;34m(*args, **kwargs)\u001b[0m\n\u001b[1;32m    113\u001b[0m \u001b[0;34m\u001b[0m\u001b[0m\n\u001b[1;32m    114\u001b[0m         \u001b[0;31m# lambda, but not partial, allows help() to work with update_wrapper\u001b[0m\u001b[0;34m\u001b[0m\u001b[0;34m\u001b[0m\u001b[0m\n\u001b[0;32m--> 115\u001b[0;31m         \u001b[0mout\u001b[0m \u001b[0;34m=\u001b[0m \u001b[0;32mlambda\u001b[0m \u001b[0;34m*\u001b[0m\u001b[0margs\u001b[0m\u001b[0;34m,\u001b[0m \u001b[0;34m**\u001b[0m\u001b[0mkwargs\u001b[0m\u001b[0;34m:\u001b[0m \u001b[0mself\u001b[0m\u001b[0;34m.\u001b[0m\u001b[0mfn\u001b[0m\u001b[0;34m(\u001b[0m\u001b[0mobj\u001b[0m\u001b[0;34m,\u001b[0m \u001b[0;34m*\u001b[0m\u001b[0margs\u001b[0m\u001b[0;34m,\u001b[0m \u001b[0;34m**\u001b[0m\u001b[0mkwargs\u001b[0m\u001b[0;34m)\u001b[0m\u001b[0;34m\u001b[0m\u001b[0m\n\u001b[0m\u001b[1;32m    116\u001b[0m         \u001b[0;31m# update the docstring of the returned function\u001b[0m\u001b[0;34m\u001b[0m\u001b[0;34m\u001b[0m\u001b[0m\n\u001b[1;32m    117\u001b[0m         \u001b[0mupdate_wrapper\u001b[0m\u001b[0;34m(\u001b[0m\u001b[0mout\u001b[0m\u001b[0;34m,\u001b[0m \u001b[0mself\u001b[0m\u001b[0;34m.\u001b[0m\u001b[0mfn\u001b[0m\u001b[0;34m)\u001b[0m\u001b[0;34m\u001b[0m\u001b[0m\n",
      "\u001b[0;32m/home/felipe/tf-venv3/lib/python3.5/site-packages/sklearn/pipeline.py\u001b[0m in \u001b[0;36mpredict\u001b[0;34m(self, X)\u001b[0m\n\u001b[1;32m    313\u001b[0m         \u001b[0;32mfor\u001b[0m \u001b[0mname\u001b[0m\u001b[0;34m,\u001b[0m \u001b[0mtransform\u001b[0m \u001b[0;32min\u001b[0m \u001b[0mself\u001b[0m\u001b[0;34m.\u001b[0m\u001b[0msteps\u001b[0m\u001b[0;34m[\u001b[0m\u001b[0;34m:\u001b[0m\u001b[0;34m-\u001b[0m\u001b[0;36m1\u001b[0m\u001b[0;34m]\u001b[0m\u001b[0;34m:\u001b[0m\u001b[0;34m\u001b[0m\u001b[0m\n\u001b[1;32m    314\u001b[0m             \u001b[0;32mif\u001b[0m \u001b[0mtransform\u001b[0m \u001b[0;32mis\u001b[0m \u001b[0;32mnot\u001b[0m \u001b[0;32mNone\u001b[0m\u001b[0;34m:\u001b[0m\u001b[0;34m\u001b[0m\u001b[0m\n\u001b[0;32m--> 315\u001b[0;31m                 \u001b[0mXt\u001b[0m \u001b[0;34m=\u001b[0m \u001b[0mtransform\u001b[0m\u001b[0;34m.\u001b[0m\u001b[0mtransform\u001b[0m\u001b[0;34m(\u001b[0m\u001b[0mXt\u001b[0m\u001b[0;34m)\u001b[0m\u001b[0;34m\u001b[0m\u001b[0m\n\u001b[0m\u001b[1;32m    316\u001b[0m         \u001b[0;32mreturn\u001b[0m \u001b[0mself\u001b[0m\u001b[0;34m.\u001b[0m\u001b[0msteps\u001b[0m\u001b[0;34m[\u001b[0m\u001b[0;34m-\u001b[0m\u001b[0;36m1\u001b[0m\u001b[0;34m]\u001b[0m\u001b[0;34m[\u001b[0m\u001b[0;34m-\u001b[0m\u001b[0;36m1\u001b[0m\u001b[0;34m]\u001b[0m\u001b[0;34m.\u001b[0m\u001b[0mpredict\u001b[0m\u001b[0;34m(\u001b[0m\u001b[0mXt\u001b[0m\u001b[0;34m)\u001b[0m\u001b[0;34m\u001b[0m\u001b[0m\n\u001b[1;32m    317\u001b[0m \u001b[0;34m\u001b[0m\u001b[0m\n",
      "\u001b[0;32m/home/felipe/tf-venv3/lib/python3.5/site-packages/sklearn/feature_extraction/text.py\u001b[0m in \u001b[0;36mtransform\u001b[0;34m(self, raw_documents)\u001b[0m\n\u001b[1;32m    921\u001b[0m \u001b[0;34m\u001b[0m\u001b[0m\n\u001b[1;32m    922\u001b[0m         \u001b[0;31m# use the same matrix-building strategy as fit_transform\u001b[0m\u001b[0;34m\u001b[0m\u001b[0;34m\u001b[0m\u001b[0m\n\u001b[0;32m--> 923\u001b[0;31m         \u001b[0m_\u001b[0m\u001b[0;34m,\u001b[0m \u001b[0mX\u001b[0m \u001b[0;34m=\u001b[0m \u001b[0mself\u001b[0m\u001b[0;34m.\u001b[0m\u001b[0m_count_vocab\u001b[0m\u001b[0;34m(\u001b[0m\u001b[0mraw_documents\u001b[0m\u001b[0;34m,\u001b[0m \u001b[0mfixed_vocab\u001b[0m\u001b[0;34m=\u001b[0m\u001b[0;32mTrue\u001b[0m\u001b[0;34m)\u001b[0m\u001b[0;34m\u001b[0m\u001b[0m\n\u001b[0m\u001b[1;32m    924\u001b[0m         \u001b[0;32mif\u001b[0m \u001b[0mself\u001b[0m\u001b[0;34m.\u001b[0m\u001b[0mbinary\u001b[0m\u001b[0;34m:\u001b[0m\u001b[0;34m\u001b[0m\u001b[0m\n\u001b[1;32m    925\u001b[0m             \u001b[0mX\u001b[0m\u001b[0;34m.\u001b[0m\u001b[0mdata\u001b[0m\u001b[0;34m.\u001b[0m\u001b[0mfill\u001b[0m\u001b[0;34m(\u001b[0m\u001b[0;36m1\u001b[0m\u001b[0;34m)\u001b[0m\u001b[0;34m\u001b[0m\u001b[0m\n",
      "\u001b[0;32m/home/felipe/tf-venv3/lib/python3.5/site-packages/sklearn/feature_extraction/text.py\u001b[0m in \u001b[0;36m_count_vocab\u001b[0;34m(self, raw_documents, fixed_vocab)\u001b[0m\n\u001b[1;32m    792\u001b[0m             \u001b[0;32mfor\u001b[0m \u001b[0mfeature\u001b[0m \u001b[0;32min\u001b[0m \u001b[0manalyze\u001b[0m\u001b[0;34m(\u001b[0m\u001b[0mdoc\u001b[0m\u001b[0;34m)\u001b[0m\u001b[0;34m:\u001b[0m\u001b[0;34m\u001b[0m\u001b[0m\n\u001b[1;32m    793\u001b[0m                 \u001b[0;32mtry\u001b[0m\u001b[0;34m:\u001b[0m\u001b[0;34m\u001b[0m\u001b[0m\n\u001b[0;32m--> 794\u001b[0;31m                     \u001b[0mfeature_idx\u001b[0m \u001b[0;34m=\u001b[0m \u001b[0mvocabulary\u001b[0m\u001b[0;34m[\u001b[0m\u001b[0mfeature\u001b[0m\u001b[0;34m]\u001b[0m\u001b[0;34m\u001b[0m\u001b[0m\n\u001b[0m\u001b[1;32m    795\u001b[0m                     \u001b[0;32mif\u001b[0m \u001b[0mfeature_idx\u001b[0m \u001b[0;32mnot\u001b[0m \u001b[0;32min\u001b[0m \u001b[0mfeature_counter\u001b[0m\u001b[0;34m:\u001b[0m\u001b[0;34m\u001b[0m\u001b[0m\n\u001b[1;32m    796\u001b[0m                         \u001b[0mfeature_counter\u001b[0m\u001b[0;34m[\u001b[0m\u001b[0mfeature_idx\u001b[0m\u001b[0;34m]\u001b[0m \u001b[0;34m=\u001b[0m \u001b[0;36m1\u001b[0m\u001b[0;34m\u001b[0m\u001b[0m\n",
      "\u001b[0;31mKeyboardInterrupt\u001b[0m: "
     ]
    }
   ],
   "source": [
    "%time\n",
    "\n",
    "# start with minus infinity as your\n",
    "# current best_score\n",
    "best_score = float(\"-inf\")\n",
    "\n",
    "for g in ParameterGrid(parameters):\n",
    "    pipeline.set_params(**g)\n",
    "    \n",
    "    X_train, X_validation, y_train, y_validation = train_test_split(data, binary_label_data, test_size = 0.25)\n",
    "    \n",
    "    # here you call fit with whatever data you want\n",
    "    pipeline.fit(X_train,y_train)\n",
    "    \n",
    "    # again, choose the validation data \n",
    "    # yourself\n",
    "    y_pred_train = pipeline.predict(X_train)    \n",
    "    y_pred_validation = pipeline.predict(X_validation)\n",
    "    \n",
    "    # I've used f1-score as an example, but you can use\n",
    "    # any metric you want.\n",
    "    train_score = f1_score(y_train,y_pred_train, average='micro')\n",
    "    val_score = f1_score(y_validation,y_pred_validation, average='micro')\n",
    "    \n",
    "    current_score = val_score\n",
    "    \n",
    "    # show results\n",
    "    print(\"training F1: {}\".format(train_score))\n",
    "    print(\"validation F1: {}\".format(val_score))\n",
    "    print(\"grid: {}\".format(g))\n",
    "    print(\"\")\n",
    "    \n",
    "    # update the best_score if needed\n",
    "    if current_score > best_score:\n",
    "        best_score = current_score\n",
    "        best_grid = g"
   ]
  },
  {
   "cell_type": "code",
   "execution_count": null,
   "metadata": {
    "collapsed": true
   },
   "outputs": [],
   "source": []
  }
 ],
 "metadata": {
  "kernelspec": {
   "display_name": "Global TF Kernel (Python 3)",
   "language": "python",
   "name": "global-tf-python-3"
  },
  "language_info": {
   "codemirror_mode": {
    "name": "ipython",
    "version": 3
   },
   "file_extension": ".py",
   "mimetype": "text/x-python",
   "name": "python",
   "nbconvert_exporter": "python",
   "pygments_lexer": "ipython3",
   "version": "3.5.2"
  }
 },
 "nbformat": 4,
 "nbformat_minor": 2
}
