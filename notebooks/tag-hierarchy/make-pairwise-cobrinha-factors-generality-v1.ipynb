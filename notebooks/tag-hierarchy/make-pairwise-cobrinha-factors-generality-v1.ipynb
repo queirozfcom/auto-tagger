{
 "cells": [
  {
   "cell_type": "code",
   "execution_count": 1,
   "metadata": {
    "collapsed": true
   },
   "outputs": [],
   "source": [
    "import csv\n",
    "import os\n",
    "import pickle\n",
    "import re\n",
    "import sys\n",
    "import numpy as np\n",
    "\n",
    "from joblib import Parallel, delayed\n",
    "\n",
    "from difflib import SequenceMatcher,get_close_matches\n",
    "\n",
    "from scipy import spatial\n",
    "\n",
    "from tqdm import *\n",
    "\n",
    "module_path = os.path.abspath(os.path.join('../helpers/'))\n",
    "if module_path not in sys.path:\n",
    "    sys.path.append(module_path)\n",
    "\n",
    "# my stuff in the helpers/ directory\n",
    "import embeddings_helper, files_helper, texts_helper, metrics_helper, tags_helper, cobrinha_helper\n",
    "\n",
    "from cobrinha_helper import get_metrics_for_tag_pair"
   ]
  },
  {
   "cell_type": "code",
   "execution_count": 2,
   "metadata": {
    "collapsed": true
   },
   "outputs": [],
   "source": [
    "PICKLE_ROOT = \"/media/felipe/SSD_VOLUME/auto-tagger/data/tag-hierarchy/\""
   ]
  },
  {
   "cell_type": "code",
   "execution_count": 3,
   "metadata": {},
   "outputs": [],
   "source": [
    "tag_vocabulary = pickle.load(open(PICKLE_ROOT+\"tag_vocabulary.p\",\"rb\"))"
   ]
  },
  {
   "cell_type": "code",
   "execution_count": 4,
   "metadata": {
    "collapsed": true
   },
   "outputs": [],
   "source": [
    "sorted_pairwise_similarity_dict = pickle.load(open(PICKLE_ROOT+\"sorted_pairwise_similarity_dict.p\",\"rb\"))"
   ]
  },
  {
   "cell_type": "code",
   "execution_count": 5,
   "metadata": {
    "collapsed": true
   },
   "outputs": [],
   "source": [
    "tag_vectors_index = pickle.load(open(PICKLE_ROOT+\"tag_vectors_index.p\",\"rb\"))"
   ]
  },
  {
   "cell_type": "markdown",
   "metadata": {},
   "source": [
    "### build global similarity index"
   ]
  },
  {
   "cell_type": "code",
   "execution_count": 6,
   "metadata": {
    "collapsed": true
   },
   "outputs": [],
   "source": [
    "global_similarity_index = dict()\n",
    "\n",
    "for tag in tag_vocabulary:\n",
    "    \n",
    "    similarities_with_current_tag = list()\n",
    "    \n",
    "    for other_tag, similarity_to_other_tag in sorted_pairwise_similarity_dict[tag]:\n",
    "        \n",
    "        if other_tag != tag:\n",
    "            similarities_with_current_tag.append(similarity_to_other_tag)\n",
    "\n",
    "    global_avg_sim_wrt_tag = np.array(similarities_with_current_tag).mean()\n",
    "    \n",
    "    global_similarity_index[tag] = global_avg_sim_wrt_tag"
   ]
  },
  {
   "cell_type": "code",
   "execution_count": 7,
   "metadata": {
    "collapsed": true
   },
   "outputs": [],
   "source": [
    "sorted_global_similarity_index = dict()\n",
    "as_tpls = [(tag,avg_global_sim) for tag,avg_global_sim in global_similarity_index.items()]\n",
    "sorted_tags_by_global_avg_similarities = sorted(as_tpls, key=lambda tpl:tpl[1] )"
   ]
  },
  {
   "cell_type": "code",
   "execution_count": 8,
   "metadata": {},
   "outputs": [
    {
     "data": {
      "text/plain": [
       "[('gulp', 0.20157625401838811),\n",
       " ('recyclerview', 0.2486415240114675),\n",
       " ('socket.io', 0.250170981198097),\n",
       " ('docker', 0.26050547377925304),\n",
       " ('npm', 0.26063850119479154),\n",
       " ('webpack', 0.26227745762404953),\n",
       " ('hive', 0.26293479328716896),\n",
       " ('boost', 0.26300122888860139),\n",
       " ('tensorflow', 0.26525913580033628),\n",
       " ('paypal', 0.2682650078066654),\n",
       " ('jqgrid', 0.27335205238806776),\n",
       " ('datepicker', 0.27457654086216854),\n",
       " ('youtube', 0.27527423917699367),\n",
       " ('redis', 0.27565122750670068),\n",
       " ('gruntjs', 0.27628801171262746),\n",
       " ('tkinter', 0.27881940450204129),\n",
       " ('webview', 0.28032248688184008),\n",
       " ('google-maps-api-3', 0.28471284945307385),\n",
       " ('ffmpeg', 0.2851533827007513),\n",
       " ('android-viewpager', 0.28785705728288735)]"
      ]
     },
     "execution_count": 8,
     "metadata": {},
     "output_type": "execute_result"
    }
   ],
   "source": [
    "sorted_tags_by_global_avg_similarities[:20]"
   ]
  },
  {
   "cell_type": "markdown",
   "metadata": {},
   "source": [
    "note that tags such as \"web\", \"performance\", \"design\", \"security\" and \"user-interface\" are **nowhere near** the top assigned tags on SO, but they show up here... and it makes sense because they're very general indeed"
   ]
  },
  {
   "cell_type": "markdown",
   "metadata": {},
   "source": [
    "### most general tags"
   ]
  },
  {
   "cell_type": "code",
   "execution_count": 9,
   "metadata": {
    "collapsed": true
   },
   "outputs": [],
   "source": [
    "sorted_global_similarity_index = dict()\n",
    "as_tpls = [(tag,avg_global_sim) for tag,avg_global_sim in global_similarity_index.items()]\n",
    "sorted_tags_by_global_avg_similarities = sorted(as_tpls, key=lambda tpl:tpl[1],reverse=True )"
   ]
  },
  {
   "cell_type": "code",
   "execution_count": 10,
   "metadata": {},
   "outputs": [
    {
     "data": {
      "text/plain": [
       "[('c#', 0.62086018089096218),\n",
       " ('.net', 0.61610350838601591),\n",
       " ('coldfusion', 0.61594321744620228),\n",
       " ('c#-4.0', 0.60513992363716151),\n",
       " ('web', 0.5995461781195971),\n",
       " ('design', 0.58691166177828435),\n",
       " ('performance', 0.58572425127871253),\n",
       " ('optimization', 0.58234921856048838),\n",
       " ('mfc', 0.58107761052288953),\n",
       " ('coffeescript', 0.57715447085540483),\n",
       " ('cocoa', 0.57547813285594474),\n",
       " ('user-interface', 0.57538308841469177),\n",
       " ('javascript', 0.57492880330418661),\n",
       " ('web-applications', 0.5749284108778886),\n",
       " ('.net-4.0', 0.5738537400531506),\n",
       " ('java', 0.57303658627661958),\n",
       " ('dynamic', 0.57137276132148918),\n",
       " ('security', 0.57017136654076717),\n",
       " ('php', 0.56842198234585617),\n",
       " ('vb6', 0.56802495758111193)]"
      ]
     },
     "execution_count": 10,
     "metadata": {},
     "output_type": "execute_result"
    }
   ],
   "source": [
    "sorted_tags_by_global_avg_similarities[:20]"
   ]
  },
  {
   "cell_type": "code",
   "execution_count": 11,
   "metadata": {
    "collapsed": true
   },
   "outputs": [],
   "source": [
    "def evaluate(a,b):\n",
    "    return get_metrics_for_tag_pair(a,b,tag_vectors_index, sorted_pairwise_similarity_dict, global_similarity_index)"
   ]
  },
  {
   "cell_type": "markdown",
   "metadata": {},
   "source": [
    "> the result is a tuple of the form (difference_of_global_averages, mutual_similarity)\n",
    "\n",
    "positive difference means the first tag is \"more general\" than the second tag (according to our measure)\n"
   ]
  },
  {
   "cell_type": "code",
   "execution_count": 12,
   "metadata": {},
   "outputs": [
    {
     "data": {
      "text/plain": [
       "(0.00047482132722476145, 0.95360188572903903)"
      ]
     },
     "execution_count": 12,
     "metadata": {},
     "output_type": "execute_result"
    }
   ],
   "source": [
    "evaluate('sql','sql-server')"
   ]
  },
  {
   "cell_type": "code",
   "execution_count": 13,
   "metadata": {},
   "outputs": [
    {
     "data": {
      "text/plain": [
       "(0.019398963335061636, 0.98371627237454562)"
      ]
     },
     "execution_count": 13,
     "metadata": {},
     "output_type": "execute_result"
    }
   ],
   "source": [
    "evaluate('sql-server','sql-server-2008')"
   ]
  },
  {
   "cell_type": "code",
   "execution_count": 14,
   "metadata": {},
   "outputs": [
    {
     "data": {
      "text/plain": [
       "(0.031045849292555494, 0.97481770134639489)"
      ]
     },
     "execution_count": 14,
     "metadata": {},
     "output_type": "execute_result"
    }
   ],
   "source": [
    "evaluate('python','python-3.x')"
   ]
  },
  {
   "cell_type": "code",
   "execution_count": 15,
   "metadata": {},
   "outputs": [
    {
     "data": {
      "text/plain": [
       "(0.0049889424541228466, 0.97453923487543426)"
      ]
     },
     "execution_count": 15,
     "metadata": {},
     "output_type": "execute_result"
    }
   ],
   "source": [
    "evaluate('python-2.7','python-3.x')"
   ]
  },
  {
   "cell_type": "code",
   "execution_count": 16,
   "metadata": {},
   "outputs": [
    {
     "data": {
      "text/plain": [
       "(0.095925720399016368, 0.76511062673459118)"
      ]
     },
     "execution_count": 16,
     "metadata": {},
     "output_type": "execute_result"
    }
   ],
   "source": [
    "evaluate('database','oracle')"
   ]
  },
  {
   "cell_type": "code",
   "execution_count": 17,
   "metadata": {},
   "outputs": [
    {
     "data": {
      "text/plain": [
       "(-0.0015628093592291448, 0.89492664209399198)"
      ]
     },
     "execution_count": 17,
     "metadata": {},
     "output_type": "execute_result"
    }
   ],
   "source": [
    "# hmmm... maybe because rails is a much more stronger child of something like \"web-framework\"?\n",
    "evaluate('ruby','ruby-on-rails')"
   ]
  },
  {
   "cell_type": "code",
   "execution_count": 18,
   "metadata": {},
   "outputs": [
    {
     "data": {
      "text/plain": [
       "(-0.028865729862849354, 0.57081851125952732)"
      ]
     },
     "execution_count": 18,
     "metadata": {},
     "output_type": "execute_result"
    }
   ],
   "source": [
    "# hmmmm\n",
    "evaluate('frameworks','ruby-on-rails')"
   ]
  },
  {
   "cell_type": "code",
   "execution_count": 19,
   "metadata": {},
   "outputs": [
    {
     "data": {
      "text/plain": [
       "(0.089850936924137592, 0.71753596334150105)"
      ]
     },
     "execution_count": 19,
     "metadata": {},
     "output_type": "execute_result"
    }
   ],
   "source": [
    "evaluate('web','ruby-on-rails')"
   ]
  },
  {
   "cell_type": "code",
   "execution_count": 20,
   "metadata": {},
   "outputs": [
    {
     "data": {
      "text/plain": [
       "(0.042249768332865312, 0.96277274170640192)"
      ]
     },
     "execution_count": 20,
     "metadata": {},
     "output_type": "execute_result"
    }
   ],
   "source": [
    "evaluate('.net','.net-4.0')"
   ]
  },
  {
   "cell_type": "code",
   "execution_count": 21,
   "metadata": {},
   "outputs": [
    {
     "data": {
      "text/plain": [
       "(0.13463097078015446, 0.82069625351587672)"
      ]
     },
     "execution_count": 21,
     "metadata": {},
     "output_type": "execute_result"
    }
   ],
   "source": [
    "evaluate('android','android-studio') "
   ]
  },
  {
   "cell_type": "code",
   "execution_count": 22,
   "metadata": {},
   "outputs": [
    {
     "data": {
      "text/plain": [
       "(0.037657070813489568, 0.84710098775189802)"
      ]
     },
     "execution_count": 22,
     "metadata": {},
     "output_type": "execute_result"
    }
   ],
   "source": [
    "evaluate('asp.net','asp.net-mvc') "
   ]
  },
  {
   "cell_type": "code",
   "execution_count": 23,
   "metadata": {},
   "outputs": [
    {
     "data": {
      "text/plain": [
       "(0.010203698004170092, 0.96488890593856147)"
      ]
     },
     "execution_count": 23,
     "metadata": {},
     "output_type": "execute_result"
    }
   ],
   "source": [
    "evaluate('asp.net-mvc','asp.net-mvc-5') "
   ]
  },
  {
   "cell_type": "code",
   "execution_count": 24,
   "metadata": {},
   "outputs": [
    {
     "data": {
      "text/plain": [
       "(0.04786076881765966, 0.8120323924510352)"
      ]
     },
     "execution_count": 24,
     "metadata": {},
     "output_type": "execute_result"
    }
   ],
   "source": [
    "evaluate('asp.net','asp.net-mvc-5') "
   ]
  },
  {
   "cell_type": "markdown",
   "metadata": {},
   "source": [
    "## what about unrelated stuff?\n",
    "\n",
    "this will probably fluctuate around zero"
   ]
  },
  {
   "cell_type": "code",
   "execution_count": 25,
   "metadata": {},
   "outputs": [
    {
     "data": {
      "text/plain": [
       "(0.12366041154176743, 0.63486068665743045)"
      ]
     },
     "execution_count": 25,
     "metadata": {},
     "output_type": "execute_result"
    }
   ],
   "source": [
    "evaluate('java','arrays')"
   ]
  },
  {
   "cell_type": "code",
   "execution_count": 26,
   "metadata": {},
   "outputs": [
    {
     "data": {
      "text/plain": [
       "(-0.016712129281118426, 0.64158676537827219)"
      ]
     },
     "execution_count": 26,
     "metadata": {},
     "output_type": "execute_result"
    }
   ],
   "source": [
    "evaluate('ruby','python-2.7') "
   ]
  },
  {
   "cell_type": "code",
   "execution_count": 27,
   "metadata": {},
   "outputs": [
    {
     "data": {
      "text/plain": [
       "(0.031927816047780722, 0.65515824936886746)"
      ]
     },
     "execution_count": 27,
     "metadata": {},
     "output_type": "execute_result"
    }
   ],
   "source": [
    "evaluate('database','python-2.7') "
   ]
  },
  {
   "cell_type": "markdown",
   "metadata": {},
   "source": [
    "## what are the tag pairs that are the best cobrinha parts?"
   ]
  },
  {
   "cell_type": "code",
   "execution_count": 28,
   "metadata": {
    "collapsed": true
   },
   "outputs": [],
   "source": [
    "similarities_to_other_tags = sorted_pairwise_similarity_dict[\"sql\"]"
   ]
  },
  {
   "cell_type": "code",
   "execution_count": 29,
   "metadata": {},
   "outputs": [
    {
     "data": {
      "text/plain": [
       "('sql-server', 0.95360188572903903)"
      ]
     },
     "execution_count": 29,
     "metadata": {},
     "output_type": "execute_result"
    }
   ],
   "source": [
    "similarities_to_other_tags[1]"
   ]
  },
  {
   "cell_type": "code",
   "execution_count": 30,
   "metadata": {
    "collapsed": true
   },
   "outputs": [],
   "source": [
    "lst = sorted_pairwise_similarity_dict.items()"
   ]
  },
  {
   "cell_type": "code",
   "execution_count": 31,
   "metadata": {
    "collapsed": true
   },
   "outputs": [],
   "source": [
    "def make_pairwise_cobrinha_factors(pairwise_similarity_dict):\n",
    "\n",
    "    outgoing_cobrinha_factors_dict = dict()\n",
    "    incoming_cobrinha_factors_dict = dict()\n",
    "\n",
    "\n",
    "    for tag in tag_vocabulary:\n",
    "        outgoing_cobrinha_factors_dict[tag] = list()\n",
    "        incoming_cobrinha_factors_dict[tag] = list()\n",
    "        \n",
    "        \n",
    "    for (tag, similarities_to_other_tags) in tqdm(pairwise_similarity_dict.items()):\n",
    "    \n",
    "        for (other_tag, similarity_to_other_tag) in similarities_to_other_tags:\n",
    "\n",
    "            (avg_avg, mutual_similarity)= evaluate(tag,other_tag)\n",
    "\n",
    "            cobrinha_factor = avg_avg * mutual_similarity\n",
    "            pair = \"{} ->  {}\".format(tag,other_tag)    \n",
    "\n",
    "            outgoing_cobrinha_factors_dict[tag].append( (pair,cobrinha_factor))\n",
    "            incoming_cobrinha_factors_dict[other_tag].append( (pair,cobrinha_factor))    \n",
    "        \n",
    "        \n",
    "    return (outgoing_cobrinha_factors_dict,incoming_cobrinha_factors_dict)"
   ]
  },
  {
   "cell_type": "code",
   "execution_count": 32,
   "metadata": {},
   "outputs": [
    {
     "name": "stderr",
     "output_type": "stream",
     "text": [
      "100%|██████████| 617/617 [00:14<00:00, 43.92it/s]\n"
     ]
    }
   ],
   "source": [
    "outgoing_factors_dict,incoming_factors_dict = make_pairwise_cobrinha_factors(sorted_pairwise_similarity_dict)"
   ]
  },
  {
   "cell_type": "code",
   "execution_count": 33,
   "metadata": {},
   "outputs": [
    {
     "data": {
      "text/plain": [
       "[('version-control ->  sql', -0.018510537108355547),\n",
       " ('google-chrome-extension ->  sql', -0.055317792305215822),\n",
       " ('cakephp ->  sql', -0.038234430465597213),\n",
       " ('interface ->  sql', -0.042381660583867727),\n",
       " ('error-handling ->  sql', 0.021530847064390107),\n",
       " ('winforms ->  sql', 0.036942423751299421),\n",
       " ('gradle ->  sql', -0.062316860849039757),\n",
       " ('dll ->  sql', -0.053332503858211228),\n",
       " ('performance ->  sql', 0.062679989136039949),\n",
       " ('web-services ->  sql', -0.0061070761099806681)]"
      ]
     },
     "execution_count": 33,
     "metadata": {},
     "output_type": "execute_result"
    }
   ],
   "source": [
    "incoming_factors_dict['sql'][:10]"
   ]
  },
  {
   "cell_type": "markdown",
   "metadata": {},
   "source": [
    "## each tag, with its most likely child/parent tags in its cobrinha\n",
    "\n",
    "\"parent\" -> \"child\"\n",
    "\n",
    "a leaf/terminal tag has no \"parent\" tag\n",
    "the root tag has no \"parent\" tag"
   ]
  },
  {
   "cell_type": "code",
   "execution_count": 34,
   "metadata": {
    "collapsed": true
   },
   "outputs": [],
   "source": [
    "sorted_outgoing_cobrinha_factors_dict = dict()\n",
    "sorted_incoming_cobrinha_factors_dict = dict()\n",
    "\n",
    "for (tag,similarities) in outgoing_factors_dict.items():\n",
    "    sorted_similarities = sorted(similarities,key=lambda tpl: tpl[1], reverse=True)\n",
    "    \n",
    "    sorted_outgoing_cobrinha_factors_dict[tag] = sorted_similarities\n",
    "    \n",
    "for (tag,similarities) in incoming_factors_dict.items():\n",
    "    sorted_similarities = sorted(similarities,key=lambda tpl: tpl[1], reverse=True)\n",
    "    \n",
    "    sorted_incoming_cobrinha_factors_dict[tag] = sorted_similarities        "
   ]
  },
  {
   "cell_type": "code",
   "execution_count": 35,
   "metadata": {},
   "outputs": [
    {
     "data": {
      "text/plain": [
       "[('sql ->  hive', 0.10481384505682605),\n",
       " ('sql ->  pdo', 0.096508894621038982),\n",
       " ('sql ->  stored-procedures', 0.095564603684111377),\n",
       " ('sql ->  sqlalchemy', 0.092958113106314522),\n",
       " ('sql ->  join', 0.087701825404291278),\n",
       " ('sql ->  cassandra', 0.083233442388011156),\n",
       " ('sql ->  group-by', 0.081127930118162092),\n",
       " ('sql ->  jqgrid', 0.079138030461739423),\n",
       " ('sql ->  solr', 0.078568611011026246),\n",
       " ('sql ->  pandas', 0.078068274537160448),\n",
       " ('sql ->  datepicker', 0.077660894115956378),\n",
       " ('sql ->  date', 0.077457620670715155),\n",
       " ('sql ->  triggers', 0.077448203846902208),\n",
       " ('sql ->  apache-spark', 0.076403101087904934),\n",
       " ('sql ->  django-models', 0.074770701660689304),\n",
       " ('sql ->  redis', 0.073780347937918697),\n",
       " ('sql ->  doctrine2', 0.072550926419718109),\n",
       " ('sql ->  mongoose', 0.071363510832935129),\n",
       " ('sql ->  highcharts', 0.071247514648943591),\n",
       " ('sql ->  plsql', 0.07114640551682086)]"
      ]
     },
     "execution_count": 35,
     "metadata": {},
     "output_type": "execute_result"
    }
   ],
   "source": [
    "sorted_outgoing_cobrinha_factors_dict['sql'][:20]"
   ]
  },
  {
   "cell_type": "code",
   "execution_count": 36,
   "metadata": {
    "collapsed": true
   },
   "outputs": [],
   "source": [
    "pickle.dump(sorted_outgoing_cobrinha_factors_dict,open(PICKLE_ROOT+\"/sorted_outgoing_cobrinha_factors_dict.p\",\"wb\"))"
   ]
  },
  {
   "cell_type": "code",
   "execution_count": 37,
   "metadata": {},
   "outputs": [
    {
     "data": {
      "text/plain": [
       "[('coldfusion ->  sql', 0.086136477638461426),\n",
       " ('c# ->  sql', 0.08582034591512909),\n",
       " ('.net ->  sql', 0.080569148464709583),\n",
       " ('c#-4.0 ->  sql', 0.074846616126380744),\n",
       " ('web ->  sql', 0.0643909379411267),\n",
       " ('performance ->  sql', 0.062679989136039949),\n",
       " ('optimization ->  sql', 0.059888399258906294),\n",
       " ('design ->  sql', 0.058318854548678481),\n",
       " ('mfc ->  sql', 0.050708268713768295),\n",
       " ('dynamic ->  sql', 0.048020965251519769),\n",
       " ('php ->  sql', 0.047619066960061442),\n",
       " ('coffeescript ->  sql', 0.047600222416206116),\n",
       " ('database ->  sql', 0.047279777849082945),\n",
       " ('cocoa ->  sql', 0.046804702293624809),\n",
       " ('javascript ->  sql', 0.046457566462457502),\n",
       " ('web-applications ->  sql', 0.04632288676818893),\n",
       " ('user-interface ->  sql', 0.046132164635539347),\n",
       " ('.net-4.0 ->  sql', 0.045903890936721883),\n",
       " ('vb6 ->  sql', 0.045264723691653783),\n",
       " ('java ->  sql', 0.044742733509705805)]"
      ]
     },
     "execution_count": 37,
     "metadata": {},
     "output_type": "execute_result"
    }
   ],
   "source": [
    "sorted_incoming_cobrinha_factors_dict['sql'][:20]"
   ]
  },
  {
   "cell_type": "code",
   "execution_count": 38,
   "metadata": {
    "collapsed": true
   },
   "outputs": [],
   "source": [
    "pickle.dump(sorted_incoming_cobrinha_factors_dict,open(PICKLE_ROOT+\"/sorted_incoming_cobrinha_factors_dict.p\",\"wb\"))"
   ]
  },
  {
   "cell_type": "code",
   "execution_count": 39,
   "metadata": {},
   "outputs": [
    {
     "data": {
      "text/plain": [
       "[('coldfusion ->  sql', 0.086136477638461426),\n",
       " ('c# ->  sql', 0.08582034591512909),\n",
       " ('.net ->  sql', 0.080569148464709583),\n",
       " ('c#-4.0 ->  sql', 0.074846616126380744),\n",
       " ('web ->  sql', 0.0643909379411267),\n",
       " ('performance ->  sql', 0.062679989136039949),\n",
       " ('optimization ->  sql', 0.059888399258906294),\n",
       " ('design ->  sql', 0.058318854548678481),\n",
       " ('mfc ->  sql', 0.050708268713768295),\n",
       " ('dynamic ->  sql', 0.048020965251519769),\n",
       " ('php ->  sql', 0.047619066960061442),\n",
       " ('coffeescript ->  sql', 0.047600222416206116),\n",
       " ('database ->  sql', 0.047279777849082945),\n",
       " ('cocoa ->  sql', 0.046804702293624809),\n",
       " ('javascript ->  sql', 0.046457566462457502),\n",
       " ('web-applications ->  sql', 0.04632288676818893),\n",
       " ('user-interface ->  sql', 0.046132164635539347),\n",
       " ('.net-4.0 ->  sql', 0.045903890936721883),\n",
       " ('vb6 ->  sql', 0.045264723691653783),\n",
       " ('java ->  sql', 0.044742733509705805)]"
      ]
     },
     "execution_count": 39,
     "metadata": {},
     "output_type": "execute_result"
    }
   ],
   "source": [
    "sorted_incoming_cobrinha_factors_dict[\"sql\"][:20]"
   ]
  },
  {
   "cell_type": "markdown",
   "metadata": {},
   "source": [
    "if \"sql\" is a \"good\" parent tag, then the avg of all OUTGOING cobrinha factors should be higher than the average INCOMING cobrinha factors, right?"
   ]
  },
  {
   "cell_type": "code",
   "execution_count": 42,
   "metadata": {},
   "outputs": [
    {
     "name": "stdout",
     "output_type": "stream",
     "text": [
      "average of outgoing factors: 0.02851584842915533 \n",
      "average of incoming factors: -0.02851584842915533\n"
     ]
    }
   ],
   "source": [
    "TAG_NAME='sql'\n",
    "\n",
    "outgoing_factors = list()\n",
    "\n",
    "for descr, factor in sorted_outgoing_cobrinha_factors_dict[TAG_NAME]:\n",
    "    child_tag = descr.split(\"->\")[1].strip()\n",
    "    outgoing_factors.append(factor)\n",
    "    \n",
    "incoming_factors = list()\n",
    "\n",
    "for descr, factor in sorted_incoming_cobrinha_factors_dict[TAG_NAME]:\n",
    "    child_tag = descr.split(\"->\")[0].strip()\n",
    "    incoming_factors.append(factor)\n",
    "       \n",
    "print(\"average of outgoing factors: {} \\naverage of incoming factors: {}\".format(np.array(outgoing_factors).mean(),np.array(incoming_factors).mean()))"
   ]
  },
  {
   "cell_type": "code",
   "execution_count": 44,
   "metadata": {},
   "outputs": [
    {
     "name": "stdout",
     "output_type": "stream",
     "text": [
      "average of outgoing factors: 0.08253090373308757 \n",
      "average of incoming factors: -0.08253090373308758\n"
     ]
    }
   ],
   "source": [
    "TAG_NAME='performance'\n",
    "\n",
    "outgoing_factors = list()\n",
    "\n",
    "for descr, factor in sorted_outgoing_cobrinha_factors_dict[TAG_NAME]:\n",
    "    child_tag = descr.split(\"->\")[1].strip()\n",
    "    outgoing_factors.append(factor)\n",
    "    \n",
    "incoming_factors = list()\n",
    "\n",
    "for descr, factor in sorted_incoming_cobrinha_factors_dict[TAG_NAME]:\n",
    "    child_tag = descr.split(\"->\")[0].strip()\n",
    "    incoming_factors.append(factor)\n",
    "       \n",
    "print(\"average of outgoing factors: {} \\naverage of incoming factors: {}\".format(np.array(outgoing_factors).mean(),np.array(incoming_factors).mean()))"
   ]
  },
  {
   "cell_type": "code",
   "execution_count": 48,
   "metadata": {},
   "outputs": [
    {
     "name": "stdout",
     "output_type": "stream",
     "text": [
      "average of outgoing factors: 0.07535414028267097 \n",
      "average of incoming factors: -0.07535414028267097\n"
     ]
    }
   ],
   "source": [
    "TAG_NAME='user-interface'\n",
    "\n",
    "outgoing_factors = list()\n",
    "\n",
    "for descr, factor in sorted_outgoing_cobrinha_factors_dict[TAG_NAME]:\n",
    "    child_tag = descr.split(\"->\")[1].strip()\n",
    "    outgoing_factors.append(factor)\n",
    "    \n",
    "incoming_factors = list()\n",
    "\n",
    "for descr, factor in sorted_incoming_cobrinha_factors_dict[TAG_NAME]:\n",
    "    child_tag = descr.split(\"->\")[0].strip()\n",
    "    incoming_factors.append(factor)\n",
    "       \n",
    "print(\"average of outgoing factors: {} \\naverage of incoming factors: {}\".format(np.array(outgoing_factors).mean(),np.array(incoming_factors).mean()))"
   ]
  },
  {
   "cell_type": "markdown",
   "metadata": {},
   "source": [
    "now let's see whether a reasonably \"bad\" parent tag shows the opposite behaviour."
   ]
  },
  {
   "cell_type": "code",
   "execution_count": 43,
   "metadata": {},
   "outputs": [
    {
     "name": "stdout",
     "output_type": "stream",
     "text": [
      "average of outgoing factors: -0.04185923679648722 \n",
      "average of incoming factors: 0.04185923679648721\n"
     ]
    }
   ],
   "source": [
    "TAG_NAME = 'android-fragments'\n",
    "\n",
    "outgoing_factors = list()\n",
    "\n",
    "for descr, factor in sorted_outgoing_cobrinha_factors_dict[TAG_NAME]:\n",
    "    child_tag = descr.split(\"->\")[1].strip()\n",
    "    outgoing_factors.append(factor)\n",
    "    \n",
    "incoming_factors = list()\n",
    "\n",
    "for descr, factor in sorted_incoming_cobrinha_factors_dict[TAG_NAME]:\n",
    "    child_tag = descr.split(\"->\")[0].strip()\n",
    "    incoming_factors.append(factor)\n",
    "    \n",
    "print(\"average of outgoing factors: {} \\naverage of incoming factors: {}\".format(np.array(outgoing_factors).mean(),np.array(incoming_factors).mean()))    "
   ]
  },
  {
   "cell_type": "markdown",
   "metadata": {},
   "source": [
    "## now let's try to find a triple. two tags B and C that have good cobrinha factor and a third tag A that has good cobrinha factor with tag B and tag C (but cobrinha(A,B) should probably be higher than cobrinha (A,C))\n",
    "\n",
    "\n",
    "A -> B -> C\n",
    "\n",
    "(TAG C is the most specific tag of the three)"
   ]
  },
  {
   "cell_type": "markdown",
   "metadata": {},
   "source": [
    "### let's experiment first"
   ]
  },
  {
   "cell_type": "code",
   "execution_count": 50,
   "metadata": {},
   "outputs": [
    {
     "data": {
      "text/plain": [
       "(0.32409407806410806, 0.34442704064918939)"
      ]
     },
     "execution_count": 50,
     "metadata": {},
     "output_type": "execute_result"
    }
   ],
   "source": [
    "# this is not very good, because numpy is a subset of scipy\n",
    "# so scipy should, in theory, be more general than numpy\n",
    "\n",
    "# perhaps this has to do with the fact that numpy tags are much more common than scipy, and this\n",
    "# causes numpy-tagged documents to have more words, in general, than scipy?\n",
    "\n",
    "global_similarity_index['scipy'],global_similarity_index['numpy']"
   ]
  },
  {
   "cell_type": "markdown",
   "metadata": {},
   "source": [
    "it's bad that 'c#' and things like '.coldfusion' and 'mfc' are at the top **but** 'python' and 'performance' \n",
    "and 'optimization' and 'python-2.7' at the top are indicative that something is correct"
   ]
  },
  {
   "cell_type": "code",
   "execution_count": 52,
   "metadata": {},
   "outputs": [
    {
     "data": {
      "text/plain": [
       "[('coldfusion ->  numpy', 0.13294348909544823),\n",
       " ('optimization ->  numpy', 0.13179793666404241),\n",
       " ('c# ->  numpy', 0.13023244205211987),\n",
       " ('.net ->  numpy', 0.12760040886279764),\n",
       " ('python ->  numpy', 0.12477790856052123),\n",
       " ('performance ->  numpy', 0.12361369609795958),\n",
       " ('c#-4.0 ->  numpy', 0.11842401984044743),\n",
       " ('web ->  numpy', 0.11581092296405479),\n",
       " ('design ->  numpy', 0.11298754210660097),\n",
       " ('mfc ->  numpy', 0.10664968960041467),\n",
       " ('math ->  numpy', 0.10630016751059837),\n",
       " ('cocoa ->  numpy', 0.10600117020453721),\n",
       " ('php ->  numpy', 0.10535413303967064),\n",
       " ('dynamic ->  numpy', 0.10511197854063933),\n",
       " ('coffeescript ->  numpy', 0.10500697868247204),\n",
       " ('python-2.7 ->  numpy', 0.1048952400092816),\n",
       " ('user-interface ->  numpy', 0.10478427288961617),\n",
       " ('javascript ->  numpy', 0.1039326267560098),\n",
       " ('r ->  numpy', 0.10377448373066621),\n",
       " ('machine-learning ->  numpy', 0.10360721834871484)]"
      ]
     },
     "execution_count": 52,
     "metadata": {},
     "output_type": "execute_result"
    }
   ],
   "source": [
    "sorted_incoming_cobrinha_factors_dict['numpy'][:20]"
   ]
  },
  {
   "cell_type": "code",
   "execution_count": 53,
   "metadata": {},
   "outputs": [
    {
     "data": {
      "text/plain": [
       "[('optimization ->  scipy', 0.1368306508024093),\n",
       " ('coldfusion ->  scipy', 0.13543514497039677),\n",
       " ('c# ->  scipy', 0.13062910523665469),\n",
       " ('.net ->  scipy', 0.12935110824846979),\n",
       " ('python ->  scipy', 0.12816671937576549),\n",
       " ('performance ->  scipy', 0.12305910198449684),\n",
       " ('c#-4.0 ->  scipy', 0.11936142871636783),\n",
       " ('web ->  scipy', 0.1189429516749895),\n",
       " ('design ->  scipy', 0.11527826293085172),\n",
       " ('math ->  scipy', 0.11090748232639235),\n",
       " ('python-2.7 ->  scipy', 0.11017031682550597),\n",
       " ('mfc ->  scipy', 0.10992188633486821),\n",
       " ('machine-learning ->  scipy', 0.10950161498490187),\n",
       " ('user-interface ->  scipy', 0.10835503745024376),\n",
       " ('coffeescript ->  scipy', 0.1082877035029647),\n",
       " ('cocoa ->  scipy', 0.10809540046591634),\n",
       " ('r ->  scipy', 0.10733245087498154),\n",
       " ('javascript ->  scipy', 0.10700642139649028),\n",
       " ('dynamic ->  scipy', 0.10474759219960336),\n",
       " ('php ->  scipy', 0.10361920646609851)]"
      ]
     },
     "execution_count": 53,
     "metadata": {},
     "output_type": "execute_result"
    }
   ],
   "source": [
    "sorted_incoming_cobrinha_factors_dict['scipy'][:20]"
   ]
  },
  {
   "cell_type": "code",
   "execution_count": 54,
   "metadata": {},
   "outputs": [
    {
     "data": {
      "text/plain": [
       "[('numpy ->  tensorflow', 0.024112718429186834),\n",
       " ('numpy ->  gulp', 0.021332975132876873),\n",
       " ('numpy ->  matplotlib', 0.020133343369748199),\n",
       " ('numpy ->  boost', 0.01796500638219584),\n",
       " ('numpy ->  hive', 0.017648024101791688),\n",
       " ('numpy ->  tkinter', 0.017566060511581338),\n",
       " ('numpy ->  npm', 0.01687844200415424),\n",
       " ('numpy ->  socket.io', 0.016837013279648507),\n",
       " ('numpy ->  docker', 0.016661506034059088),\n",
       " ('numpy ->  webpack', 0.016607012738235862),\n",
       " ('numpy ->  recyclerview', 0.016334797554224314),\n",
       " ('numpy ->  paypal', 0.015425577041885071),\n",
       " ('numpy ->  jqgrid', 0.015339256273071493),\n",
       " ('numpy ->  redis', 0.015274553664503769),\n",
       " ('numpy ->  scipy', 0.01478593309992198),\n",
       " ('numpy ->  datepicker', 0.014245628066827517),\n",
       " ('numpy ->  gruntjs', 0.014157920320947964),\n",
       " ('numpy ->  youtube', 0.014015837863164033),\n",
       " ('numpy ->  ffmpeg', 0.01389883640113882),\n",
       " ('numpy ->  d3.js', 0.013412977220033446)]"
      ]
     },
     "execution_count": 54,
     "metadata": {},
     "output_type": "execute_result"
    }
   ],
   "source": [
    "sorted_outgoing_cobrinha_factors_dict['numpy'][:20]"
   ]
  },
  {
   "cell_type": "code",
   "execution_count": 55,
   "metadata": {},
   "outputs": [
    {
     "data": {
      "text/plain": [
       "[('scipy ->  gulp', 0.018116861035357836),\n",
       " ('scipy ->  tensorflow', 0.016409688889617854),\n",
       " ('scipy ->  socket.io', 0.013317604216152483),\n",
       " ('scipy ->  npm', 0.012739711058474382),\n",
       " ('scipy ->  boost', 0.012697124155380169),\n",
       " ('scipy ->  webpack', 0.012483636713490774),\n",
       " ('scipy ->  docker', 0.012330579392634952),\n",
       " ('scipy ->  hive', 0.012301044209264249),\n",
       " ('scipy ->  recyclerview', 0.011991545594783729),\n",
       " ('scipy ->  tkinter', 0.011729593578654373),\n",
       " ('scipy ->  paypal', 0.010890364459380171),\n",
       " ('scipy ->  redis', 0.010266316992668308),\n",
       " ('scipy ->  jqgrid', 0.010151805353142548),\n",
       " ('scipy ->  gruntjs', 0.0097410207189764144),\n",
       " ('scipy ->  datepicker', 0.0096095973432967965),\n",
       " ('scipy ->  youtube', 0.009504826286414381),\n",
       " ('scipy ->  matplotlib', 0.0091859024619993148),\n",
       " ('scipy ->  ffmpeg', 0.0088545063144286808),\n",
       " ('scipy ->  webview', 0.0082015532094536717),\n",
       " ('scipy ->  google-maps-api-3', 0.0079395781157411156)]"
      ]
     },
     "execution_count": 55,
     "metadata": {},
     "output_type": "execute_result"
    }
   ],
   "source": [
    "sorted_outgoing_cobrinha_factors_dict['scipy'][:20]"
   ]
  },
  {
   "cell_type": "markdown",
   "metadata": {},
   "source": [
    "### let's try some triples, starting with tags very low in the hierarchy (i.e. low generality, high specificity)"
   ]
  },
  {
   "cell_type": "code",
   "execution_count": 56,
   "metadata": {},
   "outputs": [
    {
     "data": {
      "text/plain": [
       "[('gulp', 0.20157625401838811),\n",
       " ('recyclerview', 0.2486415240114675),\n",
       " ('socket.io', 0.250170981198097),\n",
       " ('docker', 0.26050547377925304),\n",
       " ('npm', 0.26063850119479154),\n",
       " ('webpack', 0.26227745762404953),\n",
       " ('hive', 0.26293479328716896),\n",
       " ('boost', 0.26300122888860139),\n",
       " ('tensorflow', 0.26525913580033628),\n",
       " ('paypal', 0.2682650078066654)]"
      ]
     },
     "execution_count": 56,
     "metadata": {},
     "output_type": "execute_result"
    }
   ],
   "source": [
    "sorted(global_similarity_index.items(),key=lambda tpl: tpl[1])[:10]"
   ]
  },
  {
   "cell_type": "code",
   "execution_count": 57,
   "metadata": {},
   "outputs": [
    {
     "data": {
      "text/plain": [
       "[('coffeescript ->  gulp', 0.13882717441030512),\n",
       " ('javascript ->  gulp', 0.12033206487075539),\n",
       " ('coldfusion ->  gulp', 0.11772339180950987),\n",
       " ('web ->  gulp', 0.11633950191405606),\n",
       " ('c# ->  gulp', 0.11452330026514988),\n",
       " ('.net ->  gulp', 0.11448401290734911),\n",
       " ('c#-4.0 ->  gulp', 0.10699476788839357),\n",
       " ('node.js ->  gulp', 0.10678131807941359),\n",
       " ('web-applications ->  gulp', 0.10419416569360677),\n",
       " ('ecmascript-6 ->  gulp', 0.10197472323314236),\n",
       " ('automation ->  gulp', 0.10157133557243157),\n",
       " ('linux ->  gulp', 0.10107469324106806),\n",
       " ('performance ->  gulp', 0.10017051222068918),\n",
       " ('windows ->  gulp', 0.09909466731890966),\n",
       " ('optimization ->  gulp', 0.098718772929079393),\n",
       " ('.net-4.0 ->  gulp', 0.098115280610889866),\n",
       " ('configuration ->  gulp', 0.097985843258104652),\n",
       " ('design ->  gulp', 0.097631867646236437),\n",
       " ('html5 ->  gulp', 0.096834775374255),\n",
       " ('cocoa ->  gulp', 0.096202414661816102)]"
      ]
     },
     "execution_count": 57,
     "metadata": {},
     "output_type": "execute_result"
    }
   ],
   "source": [
    "sorted_incoming_cobrinha_factors_dict['gulp'][:20]"
   ]
  },
  {
   "cell_type": "code",
   "execution_count": 58,
   "metadata": {},
   "outputs": [
    {
     "data": {
      "text/plain": [
       "[('c# ->  coffeescript', 0.035445919050105981),\n",
       " ('coldfusion ->  coffeescript', 0.032150186174086902),\n",
       " ('.net ->  coffeescript', 0.03126648138536204),\n",
       " ('c#-4.0 ->  coffeescript', 0.022034150047126558),\n",
       " ('web ->  coffeescript', 0.018076878485529555),\n",
       " ('design ->  coffeescript', 0.0075495281995318604),\n",
       " ('performance ->  coffeescript', 0.0066114267753566566),\n",
       " ('optimization ->  coffeescript', 0.0039848127730503129),\n",
       " ('mfc ->  coffeescript', 0.0030182840220132723),\n",
       " ('cocoa ->  coffeescript', -0.0012907318889337019),\n",
       " ('user-interface ->  coffeescript', -0.0013297721046117872),\n",
       " ('web-applications ->  coffeescript', -0.0016975697879196233),\n",
       " ('javascript ->  coffeescript', -0.0019645150807168048),\n",
       " ('.net-4.0 ->  coffeescript', -0.0024545700231874386),\n",
       " ('java ->  coffeescript', -0.002990910195516673),\n",
       " ('dynamic ->  coffeescript', -0.0044574828723866365),\n",
       " ('security ->  coffeescript', -0.0051950130275499589),\n",
       " ('php ->  coffeescript', -0.0066807928131792814),\n",
       " ('vb6 ->  coffeescript', -0.0067448390849765387),\n",
       " ('blackberry ->  coffeescript', -0.0069573767089361306)]"
      ]
     },
     "execution_count": 58,
     "metadata": {},
     "output_type": "execute_result"
    }
   ],
   "source": [
    "sorted_incoming_cobrinha_factors_dict['coffeescript'][:20]"
   ]
  },
  {
   "cell_type": "markdown",
   "metadata": {},
   "source": [
    "so we get **\"c#\" -> \"coffeescript\" -> \"gulp\"**, which is clearly not good"
   ]
  },
  {
   "cell_type": "code",
   "execution_count": 60,
   "metadata": {},
   "outputs": [
    {
     "data": {
      "text/plain": [
       "[('coldfusion ->  hive', 0.13748459498035853),\n",
       " ('c# ->  hive', 0.13161798431971952),\n",
       " ('.net ->  hive', 0.12769980195420483),\n",
       " ('c#-4.0 ->  hive', 0.12596012215642938),\n",
       " ('database ->  hive', 0.12145453843415036),\n",
       " ('performance ->  hive', 0.12104652250281114),\n",
       " ('optimization ->  hive', 0.11872944117317449),\n",
       " ('web ->  hive', 0.11638067545269859),\n",
       " ('java ->  hive', 0.1156458923354256),\n",
       " ('design ->  hive', 0.1111543344936201)]"
      ]
     },
     "execution_count": 60,
     "metadata": {},
     "output_type": "execute_result"
    }
   ],
   "source": [
    "sorted_incoming_cobrinha_factors_dict['hive'][:10]"
   ]
  },
  {
   "cell_type": "code",
   "execution_count": 61,
   "metadata": {},
   "outputs": [
    {
     "data": {
      "text/plain": [
       "[('c# ->  coldfusion', 0.0042803293067116633),\n",
       " ('.net ->  coldfusion', 0.00014084887208769701),\n",
       " ('c#-4.0 ->  coldfusion', -0.0091766853357258069),\n",
       " ('web ->  coldfusion', -0.014480419471328708),\n",
       " ('design ->  coldfusion', -0.024499406618856384),\n",
       " ('performance ->  coldfusion', -0.025661573715688574),\n",
       " ('optimization ->  coldfusion', -0.028176300926012431),\n",
       " ('mfc ->  coldfusion', -0.028876880175804281),\n",
       " ('coffeescript ->  coldfusion', -0.032150186174086902),\n",
       " ('user-interface ->  coldfusion', -0.032662688192373973)]"
      ]
     },
     "execution_count": 61,
     "metadata": {},
     "output_type": "execute_result"
    }
   ],
   "source": [
    "sorted_incoming_cobrinha_factors_dict['coldfusion'][:10]"
   ]
  },
  {
   "cell_type": "markdown",
   "metadata": {},
   "source": [
    "so we get **\"c#\" -> \"coldfusion\" -> \"hive\"**, which is also clearly not good"
   ]
  },
  {
   "cell_type": "code",
   "execution_count": 63,
   "metadata": {},
   "outputs": [
    {
     "data": {
      "text/plain": [
       "[('coldfusion ->  docker', 0.13409714424381344),\n",
       " ('.net ->  docker', 0.13260708249310407),\n",
       " ('c# ->  docker', 0.1296229575297374),\n",
       " ('web ->  docker', 0.12707355307046081),\n",
       " ('linux ->  docker', 0.12178583748256994),\n",
       " ('c#-4.0 ->  docker', 0.11985084216284854),\n",
       " ('web-applications ->  docker', 0.11579560027797013),\n",
       " ('performance ->  docker', 0.11527832747947893),\n",
       " ('design ->  docker', 0.11406034237402304),\n",
       " ('windows ->  docker', 0.11313187630533728)]"
      ]
     },
     "execution_count": 63,
     "metadata": {},
     "output_type": "execute_result"
    }
   ],
   "source": [
    "sorted_incoming_cobrinha_factors_dict['docker'][:10]"
   ]
  },
  {
   "cell_type": "code",
   "execution_count": 64,
   "metadata": {},
   "outputs": [
    {
     "data": {
      "text/plain": [
       "[('c# ->  coldfusion', 0.0042803293067116633),\n",
       " ('.net ->  coldfusion', 0.00014084887208769701),\n",
       " ('c#-4.0 ->  coldfusion', -0.0091766853357258069),\n",
       " ('web ->  coldfusion', -0.014480419471328708),\n",
       " ('design ->  coldfusion', -0.024499406618856384),\n",
       " ('performance ->  coldfusion', -0.025661573715688574),\n",
       " ('optimization ->  coldfusion', -0.028176300926012431),\n",
       " ('mfc ->  coldfusion', -0.028876880175804281),\n",
       " ('coffeescript ->  coldfusion', -0.032150186174086902),\n",
       " ('user-interface ->  coldfusion', -0.032662688192373973)]"
      ]
     },
     "execution_count": 64,
     "metadata": {},
     "output_type": "execute_result"
    }
   ],
   "source": [
    "sorted_incoming_cobrinha_factors_dict['coldfusion'][:10]"
   ]
  },
  {
   "cell_type": "markdown",
   "metadata": {},
   "source": [
    "so we get \"c#\" -> \".net\" -> \"vagrant\", which is also clearly not good"
   ]
  },
  {
   "cell_type": "markdown",
   "metadata": {},
   "source": [
    "> i think the lesson here is that tags that are very common like \"c#\" and \".net\" (and \"coldfusion\"??) are dominating the effect here, although it's nice to see more reasonable parent tags a bit down the ranking..\n",
    "\n",
    "> maybe we need to tweak the weighting so that tag similarity has more say than generality."
   ]
  }
 ],
 "metadata": {
  "kernelspec": {
   "display_name": "Global TF Kernel (Python 3)",
   "language": "python",
   "name": "global-tf-python-3"
  },
  "language_info": {
   "codemirror_mode": {
    "name": "ipython",
    "version": 3
   },
   "file_extension": ".py",
   "mimetype": "text/x-python",
   "name": "python",
   "nbconvert_exporter": "python",
   "pygments_lexer": "ipython3",
   "version": "3.5.2"
  }
 },
 "nbformat": 4,
 "nbformat_minor": 2
}
