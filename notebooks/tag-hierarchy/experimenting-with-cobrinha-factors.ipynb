{
 "cells": [
  {
   "cell_type": "code",
   "execution_count": 1,
   "metadata": {
    "collapsed": true
   },
   "outputs": [],
   "source": [
    "import csv\n",
    "import os\n",
    "import pickle\n",
    "import re\n",
    "import sys\n",
    "import numpy as np\n",
    "\n",
    "from joblib import Parallel, delayed\n",
    "\n",
    "from difflib import SequenceMatcher,get_close_matches\n",
    "\n",
    "from scipy import spatial\n",
    "\n",
    "from tqdm import *\n",
    "\n",
    "module_path = os.path.abspath(os.path.join('../helpers/'))\n",
    "if module_path not in sys.path:\n",
    "    sys.path.append(module_path)\n",
    "\n",
    "# my stuff in the helpers/ directory\n",
    "import embeddings_helper, files_helper, texts_helper, metrics_helper, tags_helper, cobrinha_helper\n",
    "\n",
    "from cobrinha_helper import evaluate_cobrinha"
   ]
  },
  {
   "cell_type": "code",
   "execution_count": 2,
   "metadata": {
    "collapsed": true
   },
   "outputs": [],
   "source": [
    "PICKLE_ROOT = \"/media/felipe/SSD_VOLUME/auto-tagger/data/tag-hierarchy/\""
   ]
  },
  {
   "cell_type": "code",
   "execution_count": 3,
   "metadata": {
    "collapsed": true
   },
   "outputs": [],
   "source": [
    "tag_vocabulary = pickle.load(open(PICKLE_ROOT+\"tag_vocabulary.p\",\"rb\"))"
   ]
  },
  {
   "cell_type": "code",
   "execution_count": 4,
   "metadata": {
    "collapsed": true
   },
   "outputs": [],
   "source": [
    "sorted_pairwise_similarity_dict = pickle.load(open(PICKLE_ROOT+\"sorted_pairwise_similarity_dict.p\",\"rb\"))"
   ]
  },
  {
   "cell_type": "code",
   "execution_count": 5,
   "metadata": {
    "collapsed": true
   },
   "outputs": [],
   "source": [
    "tag_vectors_index = pickle.load(open(PICKLE_ROOT+\"tag_vectors_index.p\",\"rb\"))"
   ]
  },
  {
   "cell_type": "code",
   "execution_count": 6,
   "metadata": {
    "collapsed": true
   },
   "outputs": [],
   "source": [
    "global_similarity_index = pickle.load(open(PICKLE_ROOT+\"global_similarity_index.p\",\"rb\"))"
   ]
  },
  {
   "cell_type": "markdown",
   "metadata": {},
   "source": [
    "## each tag, with its most likely child/parent tags in its cobrinha\n",
    "\n",
    "\"parent\" -> \"child\"\n",
    "\n",
    "a leaf/terminal tag has no \"parent\" tag\n",
    "the root tag has no \"parent\" tag"
   ]
  },
  {
   "cell_type": "code",
   "execution_count": 7,
   "metadata": {},
   "outputs": [],
   "source": [
    "sorted_outgoing_cobrinha_factors_dict = pickle.load(open(PICKLE_ROOT+\"/sorted_outgoing_cobrinha_factors_dict.p\",\"rb\"))"
   ]
  },
  {
   "cell_type": "code",
   "execution_count": 8,
   "metadata": {
    "collapsed": true
   },
   "outputs": [],
   "source": [
    "TAG_NAME='sql'"
   ]
  },
  {
   "cell_type": "code",
   "execution_count": 9,
   "metadata": {},
   "outputs": [
    {
     "data": {
      "text/plain": [
       "[('sql ->  left-join', 0.11577437145661604),\n",
       " ('sql ->  union', 0.10682778444440537),\n",
       " ('sql ->  inner-join', 0.10638646934945287),\n",
       " ('sql ->  distinct', 0.10072914563365006),\n",
       " ('sql ->  hql', 0.097797428955005053),\n",
       " ('sql ->  subquery', 0.097569194466405745),\n",
       " ('sql ->  sql-order-by', 0.095941251164230801),\n",
       " ('sql ->  case', 0.092984011162197469),\n",
       " ('sql ->  pivot', 0.089149057808170534),\n",
       " ('sql ->  data.table', 0.088978850192963643),\n",
       " ('sql ->  greatest-n-per-group', 0.0876375345161753),\n",
       " ('sql ->  sql-azure', 0.086058702325092967),\n",
       " ('sql ->  stored-procedures', 0.084834823617687599),\n",
       " ('sql ->  prepared-statement', 0.083812741599067681),\n",
       " ('sql ->  query-optimization', 0.083544261256610866),\n",
       " ('sql ->  innodb', 0.083249143747091137),\n",
       " ('sql ->  hive', 0.083010051724714304),\n",
       " ('sql ->  sparql', 0.081786956529279073),\n",
       " ('sql ->  spark-dataframe', 0.080874610418233836),\n",
       " ('sql ->  primary-key', 0.080668747788729053)]"
      ]
     },
     "execution_count": 9,
     "metadata": {},
     "output_type": "execute_result"
    }
   ],
   "source": [
    "sorted_outgoing_cobrinha_factors_dict[TAG_NAME][:20]"
   ]
  },
  {
   "cell_type": "code",
   "execution_count": 10,
   "metadata": {
    "collapsed": true
   },
   "outputs": [],
   "source": [
    "sorted_incoming_cobrinha_factors_dict = pickle.load(open(PICKLE_ROOT+\"/sorted_incoming_cobrinha_factors_dict.p\",\"rb\"))"
   ]
  },
  {
   "cell_type": "code",
   "execution_count": 11,
   "metadata": {},
   "outputs": [
    {
     "data": {
      "text/plain": [
       "[('c# ->  sql', 0.076017263109879704),\n",
       " ('.net ->  sql', 0.069735249488555889),\n",
       " ('performance ->  sql', 0.05062492185752912),\n",
       " ('web ->  sql', 0.048105766071413376),\n",
       " ('c#-4.0 ->  sql', 0.048010251944838801),\n",
       " ('design ->  sql', 0.043711189046683356),\n",
       " ('php ->  sql', 0.04118491960810703),\n",
       " ('asp.net ->  sql', 0.040728545186396403),\n",
       " ('java ->  sql', 0.040250902230947044),\n",
       " ('javascript ->  sql', 0.040198527752782404),\n",
       " ('database ->  sql', 0.039079570732830547),\n",
       " ('security ->  sql', 0.038636913519285138),\n",
       " ('optimization ->  sql', 0.038418706355791005),\n",
       " ('user-interface ->  sql', 0.035165200504195346),\n",
       " ('.net-4.0 ->  sql', 0.034749300219532715),\n",
       " ('html5 ->  sql', 0.033611038485945169),\n",
       " ('windows ->  sql', 0.032167628434307011),\n",
       " ('ios ->  sql', 0.031834341239257026),\n",
       " ('cocoa ->  sql', 0.030729127259777458),\n",
       " ('cocoa-touch ->  sql', 0.029636974571906265)]"
      ]
     },
     "execution_count": 11,
     "metadata": {},
     "output_type": "execute_result"
    }
   ],
   "source": [
    "sorted_incoming_cobrinha_factors_dict[TAG_NAME][:20]"
   ]
  },
  {
   "cell_type": "markdown",
   "metadata": {},
   "source": [
    "if \"sql\" is a \"good\" parent tag, then the avg of all OUTGOING cobrinha factors should be higher than the average INCOMING cobrinha factors, right?"
   ]
  },
  {
   "cell_type": "code",
   "execution_count": 16,
   "metadata": {},
   "outputs": [
    {
     "name": "stdout",
     "output_type": "stream",
     "text": [
      "average of outgoing factors: 0.039994866739055904 \n",
      "average of incoming factors: -0.039994866739055904\n"
     ]
    }
   ],
   "source": [
    "outgoing_factors = list()\n",
    "\n",
    "for descr, factor in sorted_outgoing_cobrinha_factors_dict[TAG_NAME]:\n",
    "    child_tag = descr.split(\"->\")[1].strip()\n",
    "    outgoing_factors.append(factor)\n",
    "    \n",
    "incoming_factors = list()\n",
    "\n",
    "for descr, factor in sorted_incoming_cobrinha_factors_dict[TAG_NAME]:\n",
    "    child_tag = descr.split(\"->\")[0].strip()\n",
    "    incoming_factors.append(factor)\n",
    "       \n",
    "print(\"average of outgoing factors: {} \\naverage of incoming factors: {}\".format(np.array(outgoing_factors).mean(),np.array(incoming_factors).mean()))"
   ]
  },
  {
   "cell_type": "code",
   "execution_count": null,
   "metadata": {
    "collapsed": true
   },
   "outputs": [],
   "source": []
  },
  {
   "cell_type": "markdown",
   "metadata": {},
   "source": [
    "## now let's try to find a triple. two tags B and C that have good cobrinha factor and a third tag A that has good cobrinha factor with tag B and tag C (but cobrinha(A,B) should probably be higher than cobrinha (A,C))\n",
    "\n",
    "\n",
    "A -> B -> C\n",
    "\n",
    "(TAG C is the most specific tag of the three)\n"
   ]
  },
  {
   "cell_type": "code",
   "execution_count": null,
   "metadata": {
    "scrolled": true
   },
   "outputs": [],
   "source": [
    "# take a random tag to be C\n",
    "\n",
    "tag_C = 'numpy'\n",
    "tag_C"
   ]
  },
  {
   "cell_type": "code",
   "execution_count": null,
   "metadata": {},
   "outputs": [],
   "source": [
    "global_similarity_index[tag_C]"
   ]
  },
  {
   "cell_type": "code",
   "execution_count": null,
   "metadata": {},
   "outputs": [],
   "source": [
    "sorted_incoming_cobrinha_factors_dict[tag_C]"
   ]
  },
  {
   "cell_type": "code",
   "execution_count": null,
   "metadata": {
    "collapsed": true
   },
   "outputs": [],
   "source": []
  },
  {
   "cell_type": "markdown",
   "metadata": {},
   "source": [
    "### experimenting with different ways to calculate the cobrinha factor, using some known tags"
   ]
  },
  {
   "cell_type": "code",
   "execution_count": null,
   "metadata": {},
   "outputs": [],
   "source": [
    "sorted_similarity_numpy = sorted_similarity_dict['numpy']\n",
    "sorted_similarity_numpy[:20]"
   ]
  },
  {
   "cell_type": "code",
   "execution_count": null,
   "metadata": {},
   "outputs": [],
   "source": [
    "global_similarity_index['numpy']"
   ]
  },
  {
   "cell_type": "markdown",
   "metadata": {},
   "source": [
    "normalizing the global similarity factors to spread out the values"
   ]
  },
  {
   "cell_type": "code",
   "execution_count": null,
   "metadata": {},
   "outputs": [],
   "source": [
    "min_global_similarity = np.array([value for tag,value in global_similarity_index.items()]).min()\n",
    "max_global_similarity = np.array([value for tag,value in global_similarity_index.items()]).max()\n",
    "\n",
    "min_global_similarity,max_global_similarity"
   ]
  },
  {
   "cell_type": "code",
   "execution_count": null,
   "metadata": {
    "collapsed": true
   },
   "outputs": [],
   "source": [
    "normalized_global_similarity_index = dict()\n",
    "\n",
    "for tag,value in global_similarity_index.items():\n",
    "    normalized_value = (value - min_global_similarity) / (max_global_similarity - min_global_similarity)\n",
    "    normalized_global_similarity_index[tag] = normalized_value"
   ]
  },
  {
   "cell_type": "code",
   "execution_count": null,
   "metadata": {},
   "outputs": [],
   "source": [
    "np.array([ value for value in normalized_global_similarity_index.values()]).min()"
   ]
  },
  {
   "cell_type": "code",
   "execution_count": null,
   "metadata": {
    "collapsed": true
   },
   "outputs": [],
   "source": []
  },
  {
   "cell_type": "code",
   "execution_count": null,
   "metadata": {},
   "outputs": [],
   "source": [
    "for (tag, similarities_to_other_tags) in tqdm(sorted_similarity_dict.items()):\n",
    "    \n",
    "    for (other_tag, similarity_to_other_tag) in similarities_to_other_tags:\n",
    "\n",
    "        (avg_avg, mutual_similarity)= evaluate_cobrinha(tag,other_tag,tag_vectors_index,pairwise_similarity_index)\n",
    "        \n",
    "        cobrinha_factor = avg_avg * mutual_similarity\n",
    "        pair = \"{} ->  {}\".format(tag,other_tag)    \n",
    "        \n",
    "        outgoing_cobrinha_factors_dict[tag].append( (pair,cobrinha_factor))\n",
    "        incoming_cobrinha_factors_dict[other_tag].append( (pair,cobrinha_factor))"
   ]
  },
  {
   "cell_type": "code",
   "execution_count": null,
   "metadata": {
    "collapsed": true
   },
   "outputs": [],
   "source": []
  },
  {
   "cell_type": "code",
   "execution_count": null,
   "metadata": {
    "collapsed": true
   },
   "outputs": [],
   "source": []
  }
 ],
 "metadata": {
  "kernelspec": {
   "display_name": "Global TF Kernel (Python 3)",
   "language": "python",
   "name": "global-tf-python-3"
  },
  "language_info": {
   "codemirror_mode": {
    "name": "ipython",
    "version": 3
   },
   "file_extension": ".py",
   "mimetype": "text/x-python",
   "name": "python",
   "nbconvert_exporter": "python",
   "pygments_lexer": "ipython3",
   "version": "3.5.2"
  }
 },
 "nbformat": 4,
 "nbformat_minor": 2
}
