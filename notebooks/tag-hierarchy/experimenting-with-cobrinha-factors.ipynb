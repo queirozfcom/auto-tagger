{
 "cells": [
  {
   "cell_type": "code",
   "execution_count": 4,
   "metadata": {},
   "outputs": [],
   "source": [
    "import csv\n",
    "import os\n",
    "import pickle\n",
    "import re\n",
    "import sys\n",
    "import numpy as np\n",
    "\n",
    "from joblib import Parallel, delayed\n",
    "\n",
    "from difflib import SequenceMatcher,get_close_matches\n",
    "\n",
    "from scipy import spatial\n",
    "\n",
    "from tqdm import *\n",
    "\n",
    "module_path = os.path.abspath(os.path.join('../helpers/'))\n",
    "if module_path not in sys.path:\n",
    "    sys.path.append(module_path)\n",
    "\n",
    "# my stuff in the helpers/ directory\n",
    "import embeddings_helper, files_helper, texts_helper, metrics_helper, tags_helper, cobrinha_helper\n",
    "\n",
    "from cobrinha_helper import get_metrics_for_tag_pair"
   ]
  },
  {
   "cell_type": "code",
   "execution_count": 5,
   "metadata": {
    "collapsed": true
   },
   "outputs": [],
   "source": [
    "PICKLE_ROOT = \"/media/felipe/SSD_VOLUME/auto-tagger/data/tag-hierarchy/\""
   ]
  },
  {
   "cell_type": "code",
   "execution_count": 6,
   "metadata": {
    "collapsed": true
   },
   "outputs": [],
   "source": [
    "tag_vocabulary = pickle.load(open(PICKLE_ROOT+\"tag_vocabulary.p\",\"rb\"))"
   ]
  },
  {
   "cell_type": "code",
   "execution_count": 7,
   "metadata": {},
   "outputs": [],
   "source": [
    "sorted_pairwise_similarity_dict = pickle.load(open(PICKLE_ROOT+\"sorted_pairwise_similarity_dict.p\",\"rb\"))"
   ]
  },
  {
   "cell_type": "code",
   "execution_count": 8,
   "metadata": {},
   "outputs": [],
   "source": [
    "tag_vectors_index = pickle.load(open(PICKLE_ROOT+\"tag_vectors_index.p\",\"rb\"))"
   ]
  },
  {
   "cell_type": "code",
   "execution_count": 9,
   "metadata": {
    "collapsed": true
   },
   "outputs": [],
   "source": [
    "global_similarity_index = pickle.load(open(PICKLE_ROOT+\"global_similarity_index.p\",\"rb\"))"
   ]
  },
  {
   "cell_type": "markdown",
   "metadata": {},
   "source": [
    "## each tag, with its most likely child/parent tags in its cobrinha\n",
    "\n",
    "\"parent\" -> \"child\"\n",
    "\n",
    "a leaf/terminal tag has no \"parent\" tag\n",
    "the root tag has no \"parent\" tag"
   ]
  },
  {
   "cell_type": "code",
   "execution_count": 10,
   "metadata": {
    "collapsed": true
   },
   "outputs": [],
   "source": [
    "sorted_outgoing_cobrinha_factors_dict = pickle.load(open(PICKLE_ROOT+\"/sorted_outgoing_cobrinha_factors_dict.p\",\"rb\"))"
   ]
  },
  {
   "cell_type": "code",
   "execution_count": 11,
   "metadata": {
    "collapsed": true
   },
   "outputs": [],
   "source": [
    "TAG_NAME='sql'"
   ]
  },
  {
   "cell_type": "code",
   "execution_count": 12,
   "metadata": {},
   "outputs": [
    {
     "data": {
      "text/plain": [
       "[('sql ->  hive', 0.10276002713402385),\n",
       " ('sql ->  sqlalchemy', 0.094713737813830662),\n",
       " ('sql ->  stored-procedures', 0.093697645399657289),\n",
       " ('sql ->  pdo', 0.092448899800979589),\n",
       " ('sql ->  cassandra', 0.081286907002972864),\n",
       " ('sql ->  triggers', 0.080766614926709529),\n",
       " ('sql ->  group-by', 0.079990703914387812),\n",
       " ('sql ->  solr', 0.079526179575641884),\n",
       " ('sql ->  crystal-reports', 0.079489616749060299),\n",
       " ('sql ->  join', 0.079430678775405286),\n",
       " ('sql ->  jqgrid', 0.079298781585696851),\n",
       " ('sql ->  pandas', 0.075814129772925537),\n",
       " ('sql ->  datepicker', 0.075305507452054235),\n",
       " ('sql ->  apache-spark', 0.074622211190207607),\n",
       " ('sql ->  django-models', 0.074128399924297636),\n",
       " ('sql ->  date', 0.074089251831816569),\n",
       " ('sql ->  doctrine2', 0.073740729782105288),\n",
       " ('sql ->  redis', 0.072463749411050854),\n",
       " ('sql ->  awk', 0.071576014960321135),\n",
       " ('sql ->  mongoose', 0.071425372118284536)]"
      ]
     },
     "execution_count": 12,
     "metadata": {},
     "output_type": "execute_result"
    }
   ],
   "source": [
    "sorted_outgoing_cobrinha_factors_dict[TAG_NAME][:20]"
   ]
  },
  {
   "cell_type": "code",
   "execution_count": 13,
   "metadata": {
    "collapsed": true
   },
   "outputs": [],
   "source": [
    "sorted_incoming_cobrinha_factors_dict = pickle.load(open(PICKLE_ROOT+\"/sorted_incoming_cobrinha_factors_dict.p\",\"rb\"))"
   ]
  },
  {
   "cell_type": "code",
   "execution_count": 14,
   "metadata": {},
   "outputs": [
    {
     "data": {
      "text/plain": [
       "[('c# ->  sql', 0.085390300456521517),\n",
       " ('coldfusion ->  sql', 0.080063227078340182),\n",
       " ('.net ->  sql', 0.079232246702481607),\n",
       " ('c#-4.0 ->  sql', 0.064849222935643103),\n",
       " ('web ->  sql', 0.059771984718923983),\n",
       " ('performance ->  sql', 0.058155180925289235),\n",
       " ('design ->  sql', 0.056220383191762383),\n",
       " ('optimization ->  sql', 0.053104891599728074),\n",
       " ('mfc ->  sql', 0.050435049802104677),\n",
       " ('php ->  sql', 0.047990328803707426),\n",
       " ('.net-4.0 ->  sql', 0.046292334747653791),\n",
       " ('javascript ->  sql', 0.045768591706195058),\n",
       " ('java ->  sql', 0.045135552585241989),\n",
       " ('web-applications ->  sql', 0.044673000616481426),\n",
       " ('security ->  sql', 0.044533369686082541),\n",
       " ('asp.net ->  sql', 0.044172766699079873),\n",
       " ('database ->  sql', 0.043839806447319593),\n",
       " ('user-interface ->  sql', 0.043635938933251225),\n",
       " ('cocoa ->  sql', 0.042109292814787716),\n",
       " ('dynamic ->  sql', 0.038831760049065585)]"
      ]
     },
     "execution_count": 14,
     "metadata": {},
     "output_type": "execute_result"
    }
   ],
   "source": [
    "sorted_incoming_cobrinha_factors_dict[TAG_NAME][:20]"
   ]
  },
  {
   "cell_type": "markdown",
   "metadata": {},
   "source": [
    "if \"sql\" is a \"good\" parent tag, then the avg of all OUTGOING cobrinha factors should be higher than the average INCOMING cobrinha factors, right?"
   ]
  },
  {
   "cell_type": "code",
   "execution_count": 15,
   "metadata": {},
   "outputs": [
    {
     "name": "stdout",
     "output_type": "stream",
     "text": [
      "average of outgoing factors: 0.02967704688622151 \n",
      "average of incoming factors: -0.02967704688622152\n"
     ]
    }
   ],
   "source": [
    "outgoing_factors = list()\n",
    "\n",
    "for descr, factor in sorted_outgoing_cobrinha_factors_dict[TAG_NAME]:\n",
    "    child_tag = descr.split(\"->\")[1].strip()\n",
    "    outgoing_factors.append(factor)\n",
    "    \n",
    "incoming_factors = list()\n",
    "\n",
    "for descr, factor in sorted_incoming_cobrinha_factors_dict[TAG_NAME]:\n",
    "    child_tag = descr.split(\"->\")[0].strip()\n",
    "    incoming_factors.append(factor)\n",
    "       \n",
    "print(\"average of outgoing factors: {} \\naverage of incoming factors: {}\".format(np.array(outgoing_factors).mean(),np.array(incoming_factors).mean()))"
   ]
  },
  {
   "cell_type": "markdown",
   "metadata": {},
   "source": [
    "## now let's try to find a triple. two tags B and C that have good cobrinha factor and a third tag A that has good cobrinha factor with tag B and tag C (but cobrinha(A,B) should probably be higher than cobrinha (A,C))\n",
    "\n",
    "\n",
    "A -> B -> C\n",
    "\n",
    "(TAG C is the most specific tag of the three)\n"
   ]
  },
  {
   "cell_type": "markdown",
   "metadata": {},
   "source": [
    "### let's experiment first"
   ]
  },
  {
   "cell_type": "code",
   "execution_count": 16,
   "metadata": {},
   "outputs": [
    {
     "data": {
      "text/plain": [
       "(0.32109000056951026, 0.34095440824790835)"
      ]
     },
     "execution_count": 16,
     "metadata": {},
     "output_type": "execute_result"
    }
   ],
   "source": [
    "# this is not very good, because numpy is a subset of scipy\n",
    "# so scipy should, in theory, be more general than numpy\n",
    "\n",
    "# perhaps this has to do with the fact that numpy tags are much more common than scipy, and this\n",
    "# causes numpy-tagged documents to have more words, in general, than scipy?\n",
    "\n",
    "global_similarity_index['scipy'],global_similarity_index['numpy']"
   ]
  },
  {
   "cell_type": "markdown",
   "metadata": {},
   "source": [
    "it's bad that 'c#' and things like '.net' and 'web' are at the top **but** 'python' and 'performance' \n",
    "and 'optimization' and 'python-2.7' at the top are indicative that something is correct"
   ]
  },
  {
   "cell_type": "code",
   "execution_count": 17,
   "metadata": {},
   "outputs": [
    {
     "data": {
      "text/plain": [
       "[('c# ->  numpy', 0.12847555317981488),\n",
       " ('optimization ->  numpy', 0.12641248779887426),\n",
       " ('coldfusion ->  numpy', 0.1258992496446853),\n",
       " ('.net ->  numpy', 0.12541055144850613),\n",
       " ('python ->  numpy', 0.12346404854110155),\n",
       " ('performance ->  numpy', 0.12027819824676393),\n",
       " ('design ->  numpy', 0.11034647441294521),\n",
       " ('web ->  numpy', 0.11023087644509201),\n",
       " ('c#-4.0 ->  numpy', 0.10882455977295125),\n",
       " ('mfc ->  numpy', 0.10766332411621088),\n",
       " ('php ->  numpy', 0.10419585056303851),\n",
       " ('python-2.7 ->  numpy', 0.10384015079829514),\n",
       " ('r ->  numpy', 0.10352278112127131),\n",
       " ('math ->  numpy', 0.10317520640333971),\n",
       " ('javascript ->  numpy', 0.10223946431537063),\n",
       " ('user-interface ->  numpy', 0.10207049856573772),\n",
       " ('cocoa ->  numpy', 0.10055989159272466),\n",
       " ('machine-learning ->  numpy', 0.099747408944912005),\n",
       " ('java ->  numpy', 0.099275438663545088),\n",
       " ('.net-4.0 ->  numpy', 0.099070839805774052)]"
      ]
     },
     "execution_count": 17,
     "metadata": {},
     "output_type": "execute_result"
    }
   ],
   "source": [
    "sorted_incoming_cobrinha_factors_dict['numpy'][:20]"
   ]
  },
  {
   "cell_type": "code",
   "execution_count": 20,
   "metadata": {},
   "outputs": [
    {
     "data": {
      "text/plain": [
       "[('python ->  scipy', 0.12893465769770013),\n",
       " ('c# ->  scipy', 0.12892766907173855),\n",
       " ('optimization ->  scipy', 0.12870550711244355),\n",
       " ('coldfusion ->  scipy', 0.12825639455165852),\n",
       " ('.net ->  scipy', 0.12761206184327517),\n",
       " ('performance ->  scipy', 0.11919865762374271),\n",
       " ('web ->  scipy', 0.11456223962274026),\n",
       " ('design ->  scipy', 0.11315218506253372),\n",
       " ('python-2.7 ->  scipy', 0.11178686640977074),\n",
       " ('mfc ->  scipy', 0.11055195097575705),\n",
       " ('c#-4.0 ->  scipy', 0.10950663709182108),\n",
       " ('machine-learning ->  scipy', 0.10706595675074412),\n",
       " ('r ->  scipy', 0.10581884293358823),\n",
       " ('user-interface ->  scipy', 0.10542317942255876),\n",
       " ('math ->  scipy', 0.10541333669928703),\n",
       " ('javascript ->  scipy', 0.10429025460960396),\n",
       " ('python-3.x ->  scipy', 0.10299121453902661),\n",
       " ('cocoa ->  scipy', 0.10278439830524326),\n",
       " ('.net-4.0 ->  scipy', 0.10275653361422707),\n",
       " ('php ->  scipy', 0.10269273593356935)]"
      ]
     },
     "execution_count": 20,
     "metadata": {},
     "output_type": "execute_result"
    }
   ],
   "source": [
    "sorted_incoming_cobrinha_factors_dict['scipy'][:20]"
   ]
  },
  {
   "cell_type": "code",
   "execution_count": 21,
   "metadata": {},
   "outputs": [
    {
     "data": {
      "text/plain": [
       "[('numpy ->  tensorflow', 0.022369597493423075),\n",
       " ('numpy ->  matplotlib', 0.021948282995422543),\n",
       " ('numpy ->  gulp', 0.021270398513764551),\n",
       " ('numpy ->  hive', 0.019474775332498966),\n",
       " ('numpy ->  npm', 0.018568786468442251),\n",
       " ('numpy ->  vagrant', 0.018468191912356609),\n",
       " ('numpy ->  webpack', 0.017774954927796193),\n",
       " ('numpy ->  tkinter', 0.017686390666989415),\n",
       " ('numpy ->  docker', 0.017484463249672122),\n",
       " ('numpy ->  socket.io', 0.017377061233184218),\n",
       " ('numpy ->  jqgrid', 0.016997906178795187),\n",
       " ('numpy ->  recyclerview', 0.016566225367826561),\n",
       " ('numpy ->  boost', 0.015999526703962708),\n",
       " ('numpy ->  youtube', 0.015119115654782538),\n",
       " ('numpy ->  scipy', 0.014659031564540129),\n",
       " ('numpy ->  datepicker', 0.0145125603891015),\n",
       " ('numpy ->  ffmpeg', 0.014509324864142855),\n",
       " ('numpy ->  paypal', 0.014508934403959053),\n",
       " ('numpy ->  solr', 0.014279051985933293),\n",
       " ('numpy ->  redis', 0.014235484849011127)]"
      ]
     },
     "execution_count": 21,
     "metadata": {},
     "output_type": "execute_result"
    }
   ],
   "source": [
    "sorted_outgoing_cobrinha_factors_dict['numpy'][:20]"
   ]
  },
  {
   "cell_type": "code",
   "execution_count": 22,
   "metadata": {},
   "outputs": [
    {
     "data": {
      "text/plain": [
       "[('scipy ->  gulp', 0.018323301785808675),\n",
       " ('scipy ->  npm', 0.014958369932752246),\n",
       " ('scipy ->  vagrant', 0.014657292087827949),\n",
       " ('scipy ->  hive', 0.014356348399593688),\n",
       " ('scipy ->  webpack', 0.014184347483725402),\n",
       " ('scipy ->  tensorflow', 0.014150049365652718),\n",
       " ('scipy ->  socket.io', 0.014134085854913126),\n",
       " ('scipy ->  docker', 0.013331978921138609),\n",
       " ('scipy ->  recyclerview', 0.012377320575864787),\n",
       " ('scipy ->  tkinter', 0.012075900007056098),\n",
       " ('scipy ->  jqgrid', 0.011706003343797556),\n",
       " ('scipy ->  matplotlib', 0.010907777015241166),\n",
       " ('scipy ->  boost', 0.010845701599994076),\n",
       " ('scipy ->  youtube', 0.010730472233130358),\n",
       " ('scipy ->  paypal', 0.010091584479948406),\n",
       " ('scipy ->  datepicker', 0.010012571438284112),\n",
       " ('scipy ->  gruntjs', 0.009896958241459277),\n",
       " ('scipy ->  ffmpeg', 0.009544040491082156),\n",
       " ('scipy ->  redis', 0.0093120541188558264),\n",
       " ('scipy ->  solr', 0.0092756884127813896)]"
      ]
     },
     "execution_count": 22,
     "metadata": {},
     "output_type": "execute_result"
    }
   ],
   "source": [
    "sorted_outgoing_cobrinha_factors_dict['scipy'][:20]"
   ]
  },
  {
   "cell_type": "markdown",
   "metadata": {},
   "source": [
    "### let's try some triples, starting with tags very low in the hierarchy (i.e. low generality, high specificity)"
   ]
  },
  {
   "cell_type": "code",
   "execution_count": 27,
   "metadata": {},
   "outputs": [
    {
     "data": {
      "text/plain": [
       "[('gulp', 0.19766495986060426),\n",
       " ('vagrant', 0.23857715599421261),\n",
       " ('socket.io', 0.24158315695390806),\n",
       " ('recyclerview', 0.24221057782043745),\n",
       " ('npm', 0.24231542434386466),\n",
       " ('hive', 0.24605001039331367),\n",
       " ('webpack', 0.2493951735363871),\n",
       " ('docker', 0.25095802293264158),\n",
       " ('jqgrid', 0.2598639010154486),\n",
       " ('youtube', 0.26563900160188986)]"
      ]
     },
     "execution_count": 27,
     "metadata": {},
     "output_type": "execute_result"
    }
   ],
   "source": [
    "sorted(global_similarity_index.items(),key=lambda tpl: tpl[1])[:10]"
   ]
  },
  {
   "cell_type": "markdown",
   "metadata": {},
   "source": [
    "**gulp**"
   ]
  },
  {
   "cell_type": "code",
   "execution_count": 34,
   "metadata": {},
   "outputs": [
    {
     "data": {
      "text/plain": [
       "[('coffeescript ->  gulp', 0.12777525041758539),\n",
       " ('javascript ->  gulp', 0.11807356807143261),\n",
       " ('c# ->  gulp', 0.11324329677604095),\n",
       " ('.net ->  gulp', 0.11266161915520347),\n",
       " ('web ->  gulp', 0.11175254915893425),\n",
       " ('coldfusion ->  gulp', 0.11138210259907434),\n",
       " ('node.js ->  gulp', 0.10423616618758133),\n",
       " ('c#-4.0 ->  gulp', 0.10114252641436468),\n",
       " ('windows ->  gulp', 0.099776613691774652),\n",
       " ('web-applications ->  gulp', 0.099295068531828637),\n",
       " ('linux ->  gulp', 0.09901007576224076),\n",
       " ('.net-4.0 ->  gulp', 0.098948597076992079),\n",
       " ('performance ->  gulp', 0.096398289357611411),\n",
       " ('html5 ->  gulp', 0.096162717669970282),\n",
       " ('optimization ->  gulp', 0.095342993218827846),\n",
       " ('mfc ->  gulp', 0.095089416595493761),\n",
       " ('php ->  gulp', 0.09497876192022589),\n",
       " ('security ->  gulp', 0.094552945362584975),\n",
       " ('design ->  gulp', 0.094352021696298624),\n",
       " ('configuration ->  gulp', 0.094005409555496688)]"
      ]
     },
     "execution_count": 34,
     "metadata": {},
     "output_type": "execute_result"
    }
   ],
   "source": [
    "sorted_incoming_cobrinha_factors_dict['gulp'][:20]"
   ]
  },
  {
   "cell_type": "code",
   "execution_count": 33,
   "metadata": {},
   "outputs": [
    {
     "data": {
      "text/plain": [
       "[('c# ->  coffeescript', 0.045593817359619523),\n",
       " ('.net ->  coffeescript', 0.040580788063916962),\n",
       " ('coldfusion ->  coffeescript', 0.035490180324854327),\n",
       " ('web ->  coffeescript', 0.02413187449524163),\n",
       " ('c#-4.0 ->  coffeescript', 0.02275534878679698),\n",
       " ('design ->  coffeescript', 0.016268077998788971),\n",
       " ('mfc ->  coffeescript', 0.01360654029285167),\n",
       " ('performance ->  coffeescript', 0.012742745591927488),\n",
       " ('javascript ->  coffeescript', 0.0096436547762082676),\n",
       " ('optimization ->  coffeescript', 0.0089898445247370874),\n",
       " ('.net-4.0 ->  coffeescript', 0.0083501564874030546),\n",
       " ('java ->  coffeescript', 0.007745308565757854),\n",
       " ('web-applications ->  coffeescript', 0.0068758764929214844),\n",
       " ('user-interface ->  coffeescript', 0.0065735452239365005),\n",
       " ('security ->  coffeescript', 0.0055238777509721828),\n",
       " ('php ->  coffeescript', 0.004772964972236466),\n",
       " ('cocoa ->  coffeescript', 0.0044496078473494141),\n",
       " ('asp.net ->  coffeescript', 0.0041192880208538634),\n",
       " ('winforms ->  coffeescript', -0.0014030364627394592),\n",
       " ('ios ->  coffeescript', -0.001823444429647723)]"
      ]
     },
     "execution_count": 33,
     "metadata": {},
     "output_type": "execute_result"
    }
   ],
   "source": [
    "sorted_incoming_cobrinha_factors_dict['coffeescript'][:20]"
   ]
  },
  {
   "cell_type": "markdown",
   "metadata": {},
   "source": [
    "so we get **\"c#\" -> \"coffeescript\" -> \"gulp\"**, which is clearly not good"
   ]
  },
  {
   "cell_type": "markdown",
   "metadata": {},
   "source": [
    "**hive**"
   ]
  },
  {
   "cell_type": "code",
   "execution_count": 32,
   "metadata": {},
   "outputs": [
    {
     "data": {
      "text/plain": [
       "[('coldfusion ->  hive', 0.13180310706480242),\n",
       " ('c# ->  hive', 0.12755044935404264),\n",
       " ('.net ->  hive', 0.12322638364537729),\n",
       " ('c#-4.0 ->  hive', 0.11654178507327721),\n",
       " ('performance ->  hive', 0.11557675787626696),\n",
       " ('java ->  hive', 0.11522054427271003),\n",
       " ('database ->  hive', 0.11456189832666856),\n",
       " ('optimization ->  hive', 0.11197134972375021),\n",
       " ('web ->  hive', 0.11017933361388417),\n",
       " ('design ->  hive', 0.10685465890596936)]"
      ]
     },
     "execution_count": 32,
     "metadata": {},
     "output_type": "execute_result"
    }
   ],
   "source": [
    "sorted_incoming_cobrinha_factors_dict['hive'][:10]"
   ]
  },
  {
   "cell_type": "code",
   "execution_count": 36,
   "metadata": {},
   "outputs": [
    {
     "data": {
      "text/plain": [
       "[('c# ->  coldfusion', 0.011171848427792159),\n",
       " ('.net ->  coldfusion', 0.006262291713491637),\n",
       " ('web ->  coldfusion', -0.011801265280286287),\n",
       " ('c#-4.0 ->  coldfusion', -0.011813813693388979),\n",
       " ('design ->  coldfusion', -0.01902585119813301),\n",
       " ('mfc ->  coldfusion', -0.021781790262029428),\n",
       " ('performance ->  coldfusion', -0.02261719702195528),\n",
       " ('optimization ->  coldfusion', -0.026487990456318625),\n",
       " ('java ->  coldfusion', -0.026575144550786828),\n",
       " ('.net-4.0 ->  coldfusion', -0.027225658307209438)]"
      ]
     },
     "execution_count": 36,
     "metadata": {},
     "output_type": "execute_result"
    }
   ],
   "source": [
    "sorted_incoming_cobrinha_factors_dict['coldfusion'][:10]"
   ]
  },
  {
   "cell_type": "markdown",
   "metadata": {},
   "source": [
    "so we get **\"c#\" -> \"coldfusion\" -> \"hive\"**, which is also clearly not good"
   ]
  },
  {
   "cell_type": "markdown",
   "metadata": {},
   "source": [
    "**vagrant**"
   ]
  },
  {
   "cell_type": "code",
   "execution_count": 37,
   "metadata": {},
   "outputs": [
    {
     "data": {
      "text/plain": [
       "[('.net ->  vagrant', 0.12755478719109667),\n",
       " ('coldfusion ->  vagrant', 0.12502620326175895),\n",
       " ('c# ->  vagrant', 0.12464896258138368),\n",
       " ('web ->  vagrant', 0.11825343334156184),\n",
       " ('linux ->  vagrant', 0.11712452451458935),\n",
       " ('windows ->  vagrant', 0.11454400943890299),\n",
       " ('configuration ->  vagrant', 0.11413024840816846),\n",
       " ('security ->  vagrant', 0.11014917905957004),\n",
       " ('c#-4.0 ->  vagrant', 0.10978488445558492),\n",
       " ('web-applications ->  vagrant', 0.10948348634312907)]"
      ]
     },
     "execution_count": 37,
     "metadata": {},
     "output_type": "execute_result"
    }
   ],
   "source": [
    "sorted_incoming_cobrinha_factors_dict['vagrant'][:10]"
   ]
  },
  {
   "cell_type": "code",
   "execution_count": 38,
   "metadata": {},
   "outputs": [
    {
     "data": {
      "text/plain": [
       "[('c# ->  .net', 0.0055145420529605438),\n",
       " ('coldfusion ->  .net', -0.006262291713491637),\n",
       " ('web ->  .net', -0.017830226180964654),\n",
       " ('c#-4.0 ->  .net', -0.019914010104834724),\n",
       " ('design ->  .net', -0.026139008135239228),\n",
       " ('performance ->  .net', -0.029170595040097506),\n",
       " ('mfc ->  .net', -0.029271747994794164),\n",
       " ('javascript ->  .net', -0.032096981664867873),\n",
       " ('optimization ->  .net', -0.032459393298804769),\n",
       " ('java ->  .net', -0.034343002431481806)]"
      ]
     },
     "execution_count": 38,
     "metadata": {},
     "output_type": "execute_result"
    }
   ],
   "source": [
    "sorted_incoming_cobrinha_factors_dict['.net'][:10]"
   ]
  },
  {
   "cell_type": "markdown",
   "metadata": {},
   "source": [
    "so we get **\"c#\" -> \".net\" -> \"vagrant\"**, which is also clearly not good"
   ]
  },
  {
   "cell_type": "markdown",
   "metadata": {},
   "source": [
    "> i think the lesson here is that tags that are very common like \"c#\" and \".net\" are dominating the effect here, although it's nice to see more reasonable parent tags a bit down the ranking..\n",
    "\n",
    "> maybe we need to tweak the weighting so that tag similarity has more say than generality."
   ]
  },
  {
   "cell_type": "markdown",
   "metadata": {},
   "source": [
    "### experimenting with different ways to calculate the cobrinha factor, using some known tags\n",
    "\n",
    "> try to make the results in the examples above work better \n"
   ]
  },
  {
   "cell_type": "markdown",
   "metadata": {},
   "source": [
    "it's interesting to see how raw 'pairwise similarity' (i.e. average of documents) expresses itself in all sorts of different *types* of relationships, such as:\n",
    "\n",
    "- 'numpy' **IS A** 'scipy','python', ETC\n",
    "- 'numpy' **USES** 'multidimensional-array', 'loops', ETC\n",
    "- 'numpy' **CO-OCCURS WITH** 'matplotlib', 'indexing', 'statistics', 'machine-learning' ETC"
   ]
  },
  {
   "cell_type": "code",
   "execution_count": 41,
   "metadata": {
    "scrolled": true
   },
   "outputs": [
    {
     "data": {
      "text/plain": [
       "[('scipy', 0.73795462728452554),\n",
       " ('python', 0.6051378355446887),\n",
       " ('python-2.7', 0.58103762068282272),\n",
       " ('python-3.x', 0.57065000547652256),\n",
       " ('arrays', 0.56649383192167813),\n",
       " ('optimization', 0.5549155026628283),\n",
       " ('multidimensional-array', 0.53539223899624244),\n",
       " ('machine-learning', 0.52378698228612841),\n",
       " ('math', 0.52241755901039955),\n",
       " ('r', 0.52006878905730758),\n",
       " ('performance', 0.51645088293576003),\n",
       " ('algorithm', 0.50774531441482151),\n",
       " ('loops', 0.50507150303237203),\n",
       " ('for-loop', 0.50342738124795994),\n",
       " ('matplotlib', 0.4972864599245761),\n",
       " ('data-structures', 0.4912846772342272),\n",
       " ('coldfusion', 0.48351401853152909),\n",
       " ('c#', 0.47002047080549647),\n",
       " ('php', 0.46929878911534928),\n",
       " ('.net', 0.46862605478970987)]"
      ]
     },
     "execution_count": 41,
     "metadata": {},
     "output_type": "execute_result"
    }
   ],
   "source": [
    "sorted_similarity_numpy = sorted_pairwise_similarity_dict['numpy']\n",
    "sorted_similarity_numpy[:20]"
   ]
  },
  {
   "cell_type": "code",
   "execution_count": 42,
   "metadata": {},
   "outputs": [
    {
     "data": {
      "text/plain": [
       "0.34095440824790835"
      ]
     },
     "execution_count": 42,
     "metadata": {},
     "output_type": "execute_result"
    }
   ],
   "source": [
    "global_similarity_index['numpy']"
   ]
  },
  {
   "cell_type": "markdown",
   "metadata": {},
   "source": [
    "normalizing the global similarity factors to spread out the values"
   ]
  },
  {
   "cell_type": "code",
   "execution_count": null,
   "metadata": {},
   "outputs": [],
   "source": [
    "min_global_similarity = np.array([value for tag,value in global_similarity_index.items()]).min()\n",
    "max_global_similarity = np.array([value for tag,value in global_similarity_index.items()]).max()\n",
    "\n",
    "min_global_similarity,max_global_similarity"
   ]
  },
  {
   "cell_type": "code",
   "execution_count": null,
   "metadata": {
    "collapsed": true
   },
   "outputs": [],
   "source": [
    "normalized_global_similarity_index = dict()\n",
    "\n",
    "for tag,value in global_similarity_index.items():\n",
    "    normalized_value = (value - min_global_similarity) / (max_global_similarity - min_global_similarity)\n",
    "    normalized_global_similarity_index[tag] = normalized_value"
   ]
  },
  {
   "cell_type": "code",
   "execution_count": null,
   "metadata": {
    "collapsed": true
   },
   "outputs": [],
   "source": []
  },
  {
   "cell_type": "code",
   "execution_count": null,
   "metadata": {
    "collapsed": true
   },
   "outputs": [],
   "source": [
    "for (tag, similarities_to_other_tags) in tqdm(sorted_similarity_dict.items()):\n",
    "    \n",
    "    for (other_tag, similarity_to_other_tag) in similarities_to_other_tags:\n",
    "\n",
    "        (avg_avg, mutual_similarity)= evaluate_cobrinha(tag,other_tag,tag_vectors_index,pairwise_similarity_index)\n",
    "        \n",
    "        cobrinha_factor = avg_avg * mutual_similarity\n",
    "        pair = \"{} ->  {}\".format(tag,other_tag)    \n",
    "        \n",
    "        outgoing_cobrinha_factors_dict[tag].append( (pair,cobrinha_factor))\n",
    "        incoming_cobrinha_factors_dict[other_tag].append( (pair,cobrinha_factor))"
   ]
  },
  {
   "cell_type": "code",
   "execution_count": null,
   "metadata": {
    "collapsed": true
   },
   "outputs": [],
   "source": []
  },
  {
   "cell_type": "code",
   "execution_count": null,
   "metadata": {
    "collapsed": true
   },
   "outputs": [],
   "source": []
  }
 ],
 "metadata": {
  "kernelspec": {
   "display_name": "Global TF Kernel (Python 3)",
   "language": "python",
   "name": "global-tf-python-3"
  },
  "language_info": {
   "codemirror_mode": {
    "name": "ipython",
    "version": 3
   },
   "file_extension": ".py",
   "mimetype": "text/x-python",
   "name": "python",
   "nbconvert_exporter": "python",
   "pygments_lexer": "ipython3",
   "version": "3.5.2"
  }
 },
 "nbformat": 4,
 "nbformat_minor": 2
}
