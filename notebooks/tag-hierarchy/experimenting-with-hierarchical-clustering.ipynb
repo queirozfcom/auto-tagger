{
 "cells": [
  {
   "cell_type": "markdown",
   "metadata": {},
   "source": [
    "### things we can try to experiment with:\n",
    "\n",
    "- linkage\n",
    "\n",
    "- connectivity measure\n",
    "\n",
    "- affinity"
   ]
  },
  {
   "cell_type": "code",
   "execution_count": 1,
   "metadata": {
    "collapsed": true
   },
   "outputs": [],
   "source": [
    "import csv\n",
    "import os\n",
    "import pickle\n",
    "import re\n",
    "import sys\n",
    "import numpy as np\n",
    "\n",
    "from joblib import Parallel, delayed\n",
    "\n",
    "from difflib import SequenceMatcher,get_close_matches\n",
    "\n",
    "from scipy import spatial\n",
    "\n",
    "from tqdm import *\n",
    "\n",
    "module_path = os.path.abspath(os.path.join('../helpers/'))\n",
    "if module_path not in sys.path:\n",
    "    sys.path.append(module_path)\n",
    "\n",
    "# my stuff in the helpers/ directory\n",
    "import embeddings_helper, files_helper, texts_helper, metrics_helper, tags_helper, cobrinha_helper\n",
    "\n",
    "from cobrinha_helper import get_metrics_for_tag_pair"
   ]
  },
  {
   "cell_type": "code",
   "execution_count": 2,
   "metadata": {
    "collapsed": true
   },
   "outputs": [],
   "source": [
    "# def get_metrics_for_tag_pair(tag_a, \n",
    "#                       tag_b, \n",
    "#                       tag_vectors_index, \n",
    "#                       pairwise_similarity_index,\n",
    "#                       global_similarity_index):"
   ]
  },
  {
   "cell_type": "code",
   "execution_count": 3,
   "metadata": {
    "collapsed": true
   },
   "outputs": [],
   "source": [
    "PICKLE_ROOT = \"/media/felipe/SSD_VOLUME//auto-tagger/data/tag-hierarchy/\"\n",
    "\n",
    "tag_vocabulary = pickle.load(open(PICKLE_ROOT+\"tag_vocabulary.p\",\"rb\"))\n",
    "tag_vectors_index = pickle.load(open(PICKLE_ROOT+\"tag_vectors_index.p\",\"rb\"))\n",
    "global_similarity_index = pickle.load(open(PICKLE_ROOT+\"global_similarity_index.p\",\"rb\"))\n",
    "sorted_pairwise_similarity_dict = pickle.load(open(PICKLE_ROOT+\"sorted_pairwise_similarity_dict.p\",\"rb\"))"
   ]
  },
  {
   "cell_type": "code",
   "execution_count": 4,
   "metadata": {},
   "outputs": [
    {
     "data": {
      "text/plain": [
       "array([ 13.31756595,   1.2150911 ,   0.30977384, ...,   0.        ,\n",
       "         0.        ,   0.        ])"
      ]
     },
     "execution_count": 4,
     "metadata": {},
     "output_type": "execute_result"
    }
   ],
   "source": [
    "tag_vectors_index['sql']"
   ]
  },
  {
   "cell_type": "markdown",
   "metadata": {},
   "source": [
    "let's select a couple to "
   ]
  },
  {
   "cell_type": "code",
   "execution_count": 9,
   "metadata": {
    "collapsed": true
   },
   "outputs": [],
   "source": [
    "tag_vectors_as_list = list()\n",
    "\n",
    "for key, value in tag_vectors_index.items():\n",
    "    tag_vectors_as_list.append((key,value))\n",
    "   \n",
    "ordered_tag_vectors = sorted(tag_vectors_as_list, key= lambda tpl: tpl[0])    "
   ]
  },
  {
   "cell_type": "code",
   "execution_count": 10,
   "metadata": {},
   "outputs": [
    {
     "data": {
      "text/plain": [
       "(618, 4692)"
      ]
     },
     "execution_count": 10,
     "metadata": {},
     "output_type": "execute_result"
    }
   ],
   "source": [
    "points = list()\n",
    "labels = list()\n",
    "\n",
    "for key,value in ordered_tag_vectors:\n",
    "    points.append(value)\n",
    "    labels.append(key)\n",
    "    \n",
    "data = np.vstack(points)\n",
    "\n",
    "data.shape"
   ]
  },
  {
   "cell_type": "code",
   "execution_count": 12,
   "metadata": {},
   "outputs": [
    {
     "data": {
      "text/plain": [
       "['.htaccess',\n",
       " '.net',\n",
       " '.net-4.0',\n",
       " '3d',\n",
       " 'access-vba',\n",
       " 'actionscript-3',\n",
       " 'active-directory',\n",
       " 'activerecord',\n",
       " 'ajax',\n",
       " 'algorithm']"
      ]
     },
     "execution_count": 12,
     "metadata": {},
     "output_type": "execute_result"
    }
   ],
   "source": [
    "labels[:10]"
   ]
  },
  {
   "cell_type": "code",
   "execution_count": 11,
   "metadata": {
    "collapsed": true
   },
   "outputs": [],
   "source": [
    "from sklearn.cluster import AgglomerativeClustering\n",
    "import matplotlib.pyplot as plt\n",
    "from sklearn.neighbors import kneighbors_graph"
   ]
  },
  {
   "cell_type": "code",
   "execution_count": 15,
   "metadata": {},
   "outputs": [
    {
     "data": {
      "text/plain": [
       "(1500, 2)"
      ]
     },
     "execution_count": 15,
     "metadata": {},
     "output_type": "execute_result"
    }
   ],
   "source": [
    "# Generate sample data\n",
    "n_samples = 1500\n",
    "np.random.seed(0)\n",
    "t = 1.5 * np.pi * (1 + 3 * np.random.rand(1, n_samples))\n",
    "x = t * np.cos(t)\n",
    "y = t * np.sin(t)\n",
    "\n",
    "\n",
    "X = np.concatenate((x, y))\n",
    "X += .7 * np.random.randn(2, n_samples)\n",
    "X = X.T\n",
    "X.shape"
   ]
  },
  {
   "cell_type": "code",
   "execution_count": 14,
   "metadata": {},
   "outputs": [
    {
     "data": {
      "text/plain": [
       "array([[ 13.26942176,  -2.5793499 ],\n",
       "       [ -9.52436093,  10.39179655],\n",
       "       [ 10.37103658,   8.4106398 ],\n",
       "       ..., \n",
       "       [  6.28494345,  -0.25755083],\n",
       "       [  3.73669373,  -3.71119963],\n",
       "       [ -1.22031564,   8.24154775]])"
      ]
     },
     "execution_count": 14,
     "metadata": {},
     "output_type": "execute_result"
    }
   ],
   "source": [
    "X"
   ]
  },
  {
   "cell_type": "code",
   "execution_count": 16,
   "metadata": {},
   "outputs": [
    {
     "data": {
      "text/plain": [
       "<1500x1500 sparse matrix of type '<class 'numpy.float64'>'\n",
       "\twith 45000 stored elements in Compressed Sparse Row format>"
      ]
     },
     "execution_count": 16,
     "metadata": {},
     "output_type": "execute_result"
    }
   ],
   "source": [
    "kneighbors_graph(X, 30, include_self=False)"
   ]
  },
  {
   "cell_type": "code",
   "execution_count": null,
   "metadata": {
    "collapsed": true
   },
   "outputs": [],
   "source": []
  },
  {
   "cell_type": "code",
   "execution_count": null,
   "metadata": {
    "collapsed": true
   },
   "outputs": [],
   "source": []
  },
  {
   "cell_type": "code",
   "execution_count": null,
   "metadata": {
    "collapsed": true
   },
   "outputs": [],
   "source": []
  },
  {
   "cell_type": "code",
   "execution_count": null,
   "metadata": {
    "collapsed": true
   },
   "outputs": [],
   "source": [
    "# W=50\n",
    "# H=20\n",
    "# P=5\n",
    "# TRUNCATE_MODE='level'\n",
    "# LINKAGE='single'\n",
    "\n",
    "# plt.figure(figsize=(W,H))\n",
    "\n",
    "# Z = linkage(data,LINKAGE)\n",
    "\n",
    "# dn = dendrogram(Z,labels=labels,truncate_mode=TRUNCATE_MODE,p=P,leaf_font_size=40)\n",
    "\n",
    "# fig = plt.gcf()\n",
    "\n",
    "# ax = plt.gca()\n",
    "\n",
    "# ax.tick_params(axis='x', which='major', labelsize=40)\n",
    "# ax.tick_params(axis='y', which='major', labelsize=40)\n",
    "\n",
    "# fig.savefig(\"dendrograms/{}-{}-{}.svg\".format(LINKAGE,TRUNCATE_MODE,P), format='svg')\n"
   ]
  },
  {
   "cell_type": "markdown",
   "metadata": {},
   "source": [
    "analysis only"
   ]
  },
  {
   "cell_type": "code",
   "execution_count": null,
   "metadata": {},
   "outputs": [],
   "source": [
    "Z[7]"
   ]
  },
  {
   "cell_type": "code",
   "execution_count": null,
   "metadata": {
    "collapsed": true
   },
   "outputs": [],
   "source": [
    "dn2 = dendrogram(Z,labels=labels)"
   ]
  },
  {
   "cell_type": "code",
   "execution_count": null,
   "metadata": {},
   "outputs": [],
   "source": [
    "dn2[\"leaves\"]"
   ]
  },
  {
   "cell_type": "code",
   "execution_count": null,
   "metadata": {
    "collapsed": true
   },
   "outputs": [],
   "source": []
  }
 ],
 "metadata": {
  "kernelspec": {
   "display_name": "Global TF Kernel (Python 3)",
   "language": "python",
   "name": "global-tf-python-3"
  },
  "language_info": {
   "codemirror_mode": {
    "name": "ipython",
    "version": 3
   },
   "file_extension": ".py",
   "mimetype": "text/x-python",
   "name": "python",
   "nbconvert_exporter": "python",
   "pygments_lexer": "ipython3",
   "version": "3.5.2"
  }
 },
 "nbformat": 4,
 "nbformat_minor": 2
}
