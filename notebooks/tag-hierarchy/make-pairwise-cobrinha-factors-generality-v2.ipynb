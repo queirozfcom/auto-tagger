{
 "cells": [
  {
   "cell_type": "markdown",
   "metadata": {},
   "source": [
    "### version 2 uses normalized generality"
   ]
  },
  {
   "cell_type": "code",
   "execution_count": 1,
   "metadata": {
    "collapsed": true
   },
   "outputs": [],
   "source": [
    "import csv\n",
    "import os\n",
    "import pickle\n",
    "import re\n",
    "import sys\n",
    "import numpy as np\n",
    "\n",
    "from joblib import Parallel, delayed\n",
    "\n",
    "from difflib import SequenceMatcher,get_close_matches\n",
    "\n",
    "from scipy import spatial\n",
    "\n",
    "from tqdm import *\n",
    "\n",
    "module_path = os.path.abspath(os.path.join('../helpers/'))\n",
    "if module_path not in sys.path:\n",
    "    sys.path.append(module_path)\n",
    "\n",
    "# my stuff in the helpers/ directory\n",
    "import embeddings_helper, files_helper, texts_helper, metrics_helper, tags_helper, cobrinha_helper\n",
    "\n",
    "from cobrinha_helper import get_metrics_for_tag_pair"
   ]
  },
  {
   "cell_type": "code",
   "execution_count": 2,
   "metadata": {
    "collapsed": true
   },
   "outputs": [],
   "source": [
    "PICKLE_ROOT = \"/media/felipe/SSD_VOLUME/auto-tagger/data/tag-hierarchy/\""
   ]
  },
  {
   "cell_type": "code",
   "execution_count": 3,
   "metadata": {
    "collapsed": true
   },
   "outputs": [],
   "source": [
    "tag_vocabulary = pickle.load(open(PICKLE_ROOT+\"tag_vocabulary.p\",\"rb\"))"
   ]
  },
  {
   "cell_type": "code",
   "execution_count": 4,
   "metadata": {
    "collapsed": true
   },
   "outputs": [],
   "source": [
    "sorted_pairwise_similarity_dict = pickle.load(open(PICKLE_ROOT+\"sorted_pairwise_similarity_dict.p\",\"rb\"))"
   ]
  },
  {
   "cell_type": "code",
   "execution_count": 5,
   "metadata": {
    "collapsed": true
   },
   "outputs": [],
   "source": [
    "tag_vectors_index = pickle.load(open(PICKLE_ROOT+\"tag_vectors_index.p\",\"rb\"))"
   ]
  },
  {
   "cell_type": "code",
   "execution_count": 6,
   "metadata": {
    "collapsed": true
   },
   "outputs": [],
   "source": [
    "global_similarity_index = pickle.load(open(PICKLE_ROOT+\"global_similarity_index.p\",\"rb\"))"
   ]
  },
  {
   "cell_type": "code",
   "execution_count": 7,
   "metadata": {},
   "outputs": [],
   "source": [
    "tag_frequency_index = pickle.load(open(PICKLE_ROOT+\"tag_frequency_index.p\",\"rb\"))"
   ]
  },
  {
   "cell_type": "code",
   "execution_count": 8,
   "metadata": {},
   "outputs": [
    {
     "data": {
      "text/plain": [
       "[('javascript', 49956),\n",
       " ('java', 45428),\n",
       " ('c#', 39420),\n",
       " ('php', 38873),\n",
       " ('android', 36024),\n",
       " ('jquery', 30606),\n",
       " ('python', 26592),\n",
       " ('html', 23401),\n",
       " ('c++', 18631),\n",
       " ('ios', 18456),\n",
       " ('css', 16798),\n",
       " ('mysql', 16690),\n",
       " ('sql', 13905),\n",
       " ('asp.net', 11573),\n",
       " ('objective-c', 10239),\n",
       " ('ruby-on-rails', 10018),\n",
       " ('.net', 9169),\n",
       " ('c', 8896),\n",
       " ('angularjs', 8468),\n",
       " ('iphone', 8163)]"
      ]
     },
     "execution_count": 8,
     "metadata": {},
     "output_type": "execute_result"
    }
   ],
   "source": [
    "sorted(tag_frequency_index.items(),key=lambda tpl: tpl[1],reverse=True)[:20]"
   ]
  },
  {
   "cell_type": "code",
   "execution_count": 71,
   "metadata": {},
   "outputs": [
    {
     "name": "stdout",
     "output_type": "stream",
     "text": [
      "tag: .htaccess freq: 2074\n",
      "tag: .net freq: 9169\n",
      "tag: .net-4.0 freq: 313\n",
      "tag: 3d freq: 387\n",
      "tag: access-vba freq: 319\n",
      "tag: actionscript-3 freq: 1447\n",
      "tag: active-directory freq: 381\n",
      "tag: activerecord freq: 816\n",
      "tag: ajax freq: 6053\n",
      "tag: algorithm freq: 2729\n",
      "tag: amazon-ec2 freq: 591\n",
      "tag: amazon-s3 freq: 653\n",
      "tag: amazon-web-services freq: 1383\n",
      "tag: android freq: 36024\n",
      "tag: android-actionbar freq: 322\n",
      "tag: android-activity freq: 890\n",
      "tag: android-asynctask freq: 455\n",
      "tag: android-edittext freq: 357\n",
      "tag: android-emulator freq: 325\n",
      "tag: android-fragments freq: 1169\n",
      "tag: android-intent freq: 892\n",
      "tag: android-layout freq: 1647\n",
      "tag: android-listview freq: 577\n",
      "tag: android-ndk freq: 425\n",
      "tag: android-studio freq: 1380\n",
      "tag: android-viewpager freq: 319\n",
      "tag: angular-ui-router freq: 305\n",
      "tag: angular2 freq: 1558\n",
      "tag: angularjs freq: 8468\n",
      "tag: angularjs-directive freq: 540\n",
      "tag: animation freq: 1107\n",
      "tag: ant freq: 492\n",
      "tag: apache freq: 2535\n",
      "tag: apache-spark freq: 915\n",
      "tag: api freq: 1890\n",
      "tag: architecture freq: 457\n",
      "tag: arduino freq: 365\n",
      "tag: arraylist freq: 762\n",
      "tag: arrays freq: 7938\n",
      "tag: asp-classic freq: 345\n",
      "tag: asp.net freq: 11573\n",
      "tag: asp.net-core freq: 345\n",
      "tag: asp.net-mvc freq: 5582\n",
      "tag: asp.net-mvc-3 freq: 1388\n",
      "tag: asp.net-mvc-4 freq: 1451\n",
      "tag: asp.net-mvc-5 freq: 411\n",
      "tag: asp.net-web-api freq: 793\n",
      "tag: assembly freq: 854\n",
      "tag: asynchronous freq: 990\n",
      "tag: audio freq: 952\n",
      "tag: authentication freq: 1117\n",
      "tag: autocomplete freq: 433\n",
      "tag: autolayout freq: 302\n",
      "tag: automation freq: 362\n",
      "tag: awk freq: 718\n",
      "tag: azure freq: 1506\n",
      "tag: backbone.js freq: 767\n",
      "tag: background freq: 402\n",
      "tag: bash freq: 3020\n",
      "tag: batch-file freq: 1318\n",
      "tag: beautifulsoup freq: 312\n",
      "tag: binary freq: 331\n",
      "tag: binding freq: 491\n",
      "tag: bitmap freq: 503\n",
      "tag: blackberry freq: 331\n",
      "tag: bluetooth freq: 428\n",
      "tag: boost freq: 726\n",
      "tag: browser freq: 741\n",
      "tag: build freq: 495\n",
      "tag: button freq: 991\n",
      "tag: c freq: 8896\n",
      "tag: c# freq: 39420\n",
      "tag: c#-4.0 freq: 900\n",
      "tag: c++ freq: 18631\n",
      "tag: c++11 freq: 1345\n",
      "tag: caching freq: 1023\n",
      "tag: cakephp freq: 997\n",
      "tag: calendar freq: 393\n",
      "tag: callback freq: 411\n",
      "tag: camera freq: 350\n",
      "tag: canvas freq: 967\n",
      "tag: cassandra freq: 450\n",
      "tag: casting freq: 473\n",
      "tag: centos freq: 312\n",
      "tag: character-encoding freq: 410\n",
      "tag: charts freq: 587\n",
      "tag: checkbox freq: 762\n",
      "tag: class freq: 1777\n",
      "tag: clojure freq: 513\n",
      "tag: cmake freq: 348\n",
      "tag: cmd freq: 514\n",
      "tag: cocoa freq: 1329\n",
      "tag: cocoa-touch freq: 1276\n",
      "tag: cocos2d-iphone freq: 379\n",
      "tag: codeigniter freq: 1875\n",
      "tag: coffeescript freq: 325\n",
      "tag: coldfusion freq: 438\n",
      "tag: collections freq: 597\n",
      "tag: colors freq: 511\n",
      "tag: com freq: 380\n",
      "tag: combobox freq: 477\n",
      "tag: command-line freq: 586\n",
      "tag: compilation freq: 420\n",
      "tag: compiler-construction freq: 403\n",
      "tag: compiler-errors freq: 406\n",
      "tag: concurrency freq: 490\n",
      "tag: configuration freq: 486\n",
      "tag: console freq: 331\n",
      "tag: constructor freq: 515\n",
      "tag: controller freq: 423\n",
      "tag: cookies freq: 884\n",
      "tag: cordova freq: 1897\n",
      "tag: core-data freq: 828\n",
      "tag: count freq: 444\n",
      "tag: crash freq: 337\n",
      "tag: cron freq: 369\n",
      "tag: crystal-reports freq: 353\n",
      "tag: css freq: 16798\n",
      "tag: css-selectors freq: 307\n",
      "tag: css3 freq: 2280\n",
      "tag: csv freq: 1604\n",
      "tag: cuda freq: 419\n",
      "tag: curl freq: 965\n",
      "tag: d3.js freq: 916\n",
      "tag: data-binding freq: 633\n",
      "tag: data-structures freq: 672\n",
      "tag: database freq: 4682\n",
      "tag: database-design freq: 675\n",
      "tag: dataframe freq: 693\n",
      "tag: datagrid freq: 464\n",
      "tag: datagridview freq: 565\n",
      "tag: datatable freq: 474\n",
      "tag: datatables freq: 376\n",
      "tag: date freq: 1614\n",
      "tag: datepicker freq: 415\n",
      "tag: datetime freq: 1419\n",
      "tag: debugging freq: 1353\n",
      "tag: delegates freq: 334\n",
      "tag: delphi freq: 1402\n",
      "tag: dependency-injection freq: 553\n",
      "tag: deployment freq: 604\n",
      "tag: design freq: 695\n",
      "tag: design-patterns freq: 900\n",
      "tag: devise freq: 451\n",
      "tag: dialog freq: 340\n",
      "tag: dictionary freq: 1177\n",
      "tag: django freq: 5126\n",
      "tag: django-forms freq: 336\n",
      "tag: django-models freq: 601\n",
      "tag: dll freq: 700\n",
      "tag: dns freq: 408\n",
      "tag: docker freq: 766\n",
      "tag: doctrine2 freq: 495\n",
      "tag: dojo freq: 337\n",
      "tag: dom freq: 994\n",
      "tag: download freq: 457\n",
      "tag: drag-and-drop freq: 409\n",
      "tag: drop-down-menu freq: 613\n",
      "tag: drupal freq: 644\n",
      "tag: drupal-7 freq: 324\n",
      "tag: dynamic freq: 672\n",
      "tag: eclipse freq: 3943\n",
      "tag: eclipse-plugin freq: 327\n",
      "tag: ecmascript-6 freq: 301\n",
      "tag: elasticsearch freq: 916\n",
      "tag: eloquent freq: 316\n",
      "tag: emacs freq: 543\n",
      "tag: email freq: 1636\n",
      "tag: ember.js freq: 729\n",
      "tag: encoding freq: 612\n",
      "tag: encryption freq: 896\n",
      "tag: entity-framework freq: 2430\n",
      "tag: enums freq: 472\n",
      "tag: error-handling freq: 498\n",
      "tag: event-handling freq: 318\n",
      "tag: events freq: 1060\n",
      "tag: excel freq: 4381\n",
      "tag: excel-formula freq: 402\n",
      "tag: excel-vba freq: 2170\n",
      "tag: exception freq: 1096\n",
      "tag: exception-handling freq: 450\n",
      "tag: express freq: 1143\n",
      "tag: extjs freq: 862\n",
      "tag: f# freq: 389\n",
      "tag: facebook freq: 2780\n",
      "tag: facebook-graph-api freq: 1118\n",
      "tag: ffmpeg freq: 435\n",
      "tag: file freq: 1918\n",
      "tag: file-io freq: 642\n",
      "tag: file-upload freq: 736\n",
      "tag: filter freq: 563\n",
      "tag: firebase freq: 799\n",
      "tag: firebase-database freq: 318\n",
      "tag: firefox freq: 1095\n",
      "tag: flash freq: 1234\n",
      "tag: flask freq: 585\n",
      "tag: flex freq: 886\n",
      "tag: floating-point freq: 341\n",
      "tag: fonts freq: 517\n",
      "tag: for-loop freq: 1161\n",
      "tag: foreach freq: 545\n",
      "tag: formatting freq: 329\n",
      "tag: forms freq: 2983\n",
      "tag: frameworks freq: 362\n",
      "tag: ftp freq: 407\n",
      "tag: function freq: 2109\n",
      "tag: functional-programming freq: 386\n",
      "tag: garbage-collection freq: 324\n",
      "tag: gcc freq: 959\n",
      "tag: generics freq: 1116\n",
      "tag: geolocation freq: 330\n",
      "tag: get freq: 400\n",
      "tag: ggplot2 freq: 620\n",
      "tag: git freq: 3061\n",
      "tag: github freq: 867\n",
      "tag: go freq: 781\n",
      "tag: google-analytics freq: 463\n",
      "tag: google-api freq: 372\n",
      "tag: google-app-engine freq: 1400\n",
      "tag: google-apps-script freq: 551\n",
      "tag: google-chrome freq: 1667\n",
      "tag: google-chrome-extension freq: 529\n",
      "tag: google-maps freq: 1854\n",
      "tag: google-maps-api-3 freq: 731\n",
      "tag: google-spreadsheet freq: 369\n",
      "tag: gps freq: 314\n",
      "tag: gradle freq: 808\n",
      "tag: grails freq: 963\n",
      "tag: graph freq: 568\n",
      "tag: graphics freq: 524\n",
      "tag: grep freq: 349\n",
      "tag: grid freq: 305\n",
      "tag: gridview freq: 838\n",
      "tag: groovy freq: 628\n",
      "tag: group-by freq: 409\n",
      "tag: gruntjs freq: 300\n",
      "tag: gulp freq: 339\n",
      "tag: gwt freq: 742\n",
      "tag: hadoop freq: 1205\n",
      "tag: hash freq: 625\n",
      "tag: hashmap freq: 371\n",
      "tag: haskell freq: 1248\n",
      "tag: header freq: 347\n",
      "tag: heroku freq: 942\n",
      "tag: hibernate freq: 2228\n",
      "tag: highcharts freq: 583\n",
      "tag: hive freq: 374\n",
      "tag: html freq: 23401\n",
      "tag: html5 freq: 3803\n",
      "tag: http freq: 1561\n",
      "tag: https freq: 574\n",
      "tag: hyperlink freq: 487\n",
      "tag: ide freq: 307\n",
      "tag: if-statement freq: 1162\n",
      "tag: iframe freq: 871\n",
      "tag: iis freq: 921\n",
      "tag: iis-7 freq: 342\n",
      "tag: image freq: 2918\n",
      "tag: image-processing freq: 919\n",
      "tag: import freq: 513\n",
      "tag: include freq: 300\n",
      "tag: indexing freq: 748\n",
      "tag: inheritance freq: 990\n",
      "tag: input freq: 759\n",
      "tag: insert freq: 420\n",
      "tag: installation freq: 386\n",
      "tag: intellij-idea freq: 740\n",
      "tag: interface freq: 473\n",
      "tag: internationalization freq: 311\n",
      "tag: internet-explorer freq: 1284\n",
      "tag: internet-explorer-8 freq: 316\n",
      "tag: io freq: 463\n",
      "tag: ionic-framework freq: 717\n",
      "tag: ios freq: 18456\n",
      "tag: ios4 freq: 427\n",
      "tag: ios5 freq: 462\n",
      "tag: ios6 freq: 356\n",
      "tag: ios7 freq: 569\n",
      "tag: ios8 freq: 366\n",
      "tag: ipad freq: 1245\n",
      "tag: iphone freq: 8163\n",
      "tag: jar freq: 537\n",
      "tag: java freq: 45428\n",
      "tag: java-8 freq: 350\n",
      "tag: java-ee freq: 965\n",
      "tag: javafx freq: 697\n",
      "tag: javascript freq: 49956\n",
      "tag: javascript-events freq: 545\n",
      "tag: jaxb freq: 335\n",
      "tag: jboss freq: 450\n",
      "tag: jdbc freq: 834\n",
      "tag: jenkins freq: 832\n",
      "tag: join freq: 902\n",
      "tag: joomla freq: 530\n",
      "tag: jpa freq: 1124\n",
      "tag: jqgrid freq: 346\n",
      "tag: jquery freq: 30606\n",
      "tag: jquery-mobile freq: 840\n",
      "tag: jquery-plugins freq: 453\n",
      "tag: jquery-ui freq: 1324\n",
      "tag: jsf freq: 1218\n",
      "tag: jsf-2 freq: 594\n",
      "tag: json freq: 7041\n",
      "tag: jsp freq: 1670\n",
      "tag: junit freq: 560\n",
      "tag: jvm freq: 301\n",
      "tag: kendo-ui freq: 454\n",
      "tag: keyboard freq: 321\n",
      "tag: knockout.js freq: 675\n",
      "tag: lambda freq: 537\n",
      "tag: laravel freq: 2022\n",
      "tag: laravel-4 freq: 454\n",
      "tag: laravel-5 freq: 616\n",
      "tag: layout freq: 772\n",
      "tag: libgdx freq: 359\n",
      "tag: linked-list freq: 402\n",
      "tag: linker freq: 367\n",
      "tag: linq freq: 2394\n",
      "tag: linq-to-sql freq: 479\n",
      "tag: linux freq: 5302\n",
      "tag: linux-kernel freq: 395\n",
      "tag: list freq: 2240\n",
      "tag: listbox freq: 347\n",
      "tag: listview freq: 1604\n",
      "tag: localization freq: 378\n",
      "tag: logging freq: 931\n",
      "tag: login freq: 626\n",
      "tag: loops freq: 1753\n",
      "tag: lua freq: 421\n",
      "tag: lucene freq: 365\n",
      "tag: machine-learning freq: 537\n",
      "tag: macros freq: 386\n",
      "tag: magento freq: 1382\n",
      "tag: makefile freq: 559\n",
      "tag: map freq: 335\n",
      "tag: mapreduce freq: 357\n",
      "tag: math freq: 952\n",
      "tag: matlab freq: 2486\n",
      "tag: matplotlib freq: 839\n",
      "tag: matrix freq: 805\n",
      "tag: maven freq: 1889\n",
      "tag: memory freq: 891\n",
      "tag: memory-leaks freq: 575\n",
      "tag: memory-management freq: 759\n",
      "tag: menu freq: 448\n",
      "tag: merge freq: 483\n",
      "tag: meteor freq: 903\n",
      "tag: methods freq: 744\n",
      "tag: mfc freq: 381\n",
      "tag: mobile freq: 800\n",
      "tag: mod-rewrite freq: 999\n",
      "tag: model freq: 452\n",
      "tag: model-view-controller freq: 841\n",
      "tag: module freq: 445\n",
      "tag: mongodb freq: 2893\n",
      "tag: mongoose freq: 549\n",
      "tag: mono freq: 319\n",
      "tag: ms-access freq: 1245\n",
      "tag: ms-word freq: 378\n",
      "tag: msbuild freq: 361\n",
      "tag: multidimensional-array freq: 776\n",
      "tag: multithreading freq: 3517\n",
      "tag: mvvm freq: 698\n",
      "tag: mysql freq: 16690\n",
      "tag: mysqli freq: 722\n",
      "tag: namespaces freq: 369\n",
      "tag: navigation freq: 338\n",
      "tag: neo4j freq: 509\n",
      "tag: netbeans freq: 746\n",
      "tag: network-programming freq: 301\n",
      "tag: networking freq: 885\n",
      "tag: nginx freq: 870\n",
      "tag: nhibernate freq: 648\n",
      "tag: node.js freq: 6114\n",
      "tag: notifications freq: 399\n",
      "tag: npm freq: 485\n",
      "tag: null freq: 396\n",
      "tag: nullpointerexception freq: 449\n",
      "tag: numpy freq: 1235\n",
      "tag: oauth freq: 516\n",
      "tag: oauth-2.0 freq: 338\n",
      "tag: object freq: 1203\n",
      "tag: objective-c freq: 10239\n",
      "tag: onclick freq: 358\n",
      "tag: oop freq: 1506\n",
      "tag: opencv freq: 1389\n",
      "tag: opengl freq: 985\n",
      "tag: opengl-es freq: 491\n",
      "tag: openssl freq: 308\n",
      "tag: optimization freq: 858\n",
      "tag: oracle freq: 3014\n",
      "tag: oracle11g freq: 462\n",
      "tag: orm freq: 515\n",
      "tag: osx freq: 2764\n",
      "tag: outlook freq: 387\n",
      "tag: pagination freq: 377\n",
      "tag: pandas freq: 1486\n",
      "tag: parallel-processing freq: 458\n",
      "tag: parameters freq: 504\n",
      "tag: parse.com freq: 723\n",
      "tag: parsing freq: 1425\n",
      "tag: path freq: 395\n",
      "tag: paypal freq: 634\n",
      "tag: pdf freq: 1111\n",
      "tag: pdo freq: 657\n",
      "tag: performance freq: 2575\n",
      "tag: perl freq: 2019\n",
      "tag: permissions freq: 397\n",
      "tag: php freq: 38873\n",
      "tag: phpmyadmin freq: 402\n",
      "tag: playframework freq: 563\n",
      "tag: plot freq: 657\n",
      "tag: plsql freq: 524\n",
      "tag: plugins freq: 677\n",
      "tag: pointers freq: 1273\n",
      "tag: post freq: 978\n",
      "tag: postgresql freq: 2418\n",
      "tag: powershell freq: 1595\n",
      "tag: primefaces freq: 602\n",
      "tag: printing freq: 599\n",
      "tag: process freq: 478\n",
      "tag: prolog freq: 301\n",
      "tag: properties freq: 448\n",
      "tag: proxy freq: 428\n",
      "tag: push-notification freq: 423\n",
      "tag: pyqt freq: 318\n",
      "tag: python freq: 26592\n",
      "tag: python-2.7 freq: 2375\n",
      "tag: python-3.x freq: 1944\n",
      "tag: qt freq: 2140\n",
      "tag: r freq: 6454\n",
      "tag: random freq: 783\n",
      "tag: raspberry-pi freq: 302\n",
      "tag: razor freq: 843\n",
      "tag: react-native freq: 446\n",
      "tag: reactjs freq: 1360\n",
      "tag: recursion freq: 888\n",
      "tag: recyclerview freq: 316\n",
      "tag: redirect freq: 1009\n",
      "tag: redis freq: 433\n",
      "tag: reference freq: 430\n",
      "tag: reflection freq: 614\n",
      "tag: regex freq: 5949\n",
      "tag: replace freq: 624\n",
      "tag: reporting-services freq: 620\n",
      "tag: responsive-design freq: 436\n",
      "tag: rest freq: 1897\n",
      "tag: rotation freq: 323\n",
      "tag: routes freq: 373\n",
      "tag: routing freq: 412\n",
      "tag: rspec freq: 556\n",
      "tag: ruby freq: 6574\n",
      "tag: ruby-on-rails freq: 10018\n",
      "tag: ruby-on-rails-3 freq: 2095\n",
      "tag: ruby-on-rails-4 freq: 1220\n",
      "tag: safari freq: 403\n",
      "tag: sass freq: 398\n",
      "tag: scala freq: 2200\n",
      "tag: scipy freq: 333\n",
      "tag: scope freq: 476\n",
      "tag: scripting freq: 434\n",
      "tag: scroll freq: 597\n",
      "tag: sdk freq: 418\n",
      "tag: search freq: 1001\n",
      "tag: security freq: 1484\n",
      "tag: sed freq: 622\n",
      "tag: segmentation-fault freq: 307\n",
      "tag: select freq: 1012\n",
      "tag: selenium freq: 1486\n",
      "tag: selenium-webdriver freq: 799\n",
      "tag: serialization freq: 814\n",
      "tag: server freq: 416\n",
      "tag: service freq: 617\n",
      "tag: servlets freq: 1053\n",
      "tag: session freq: 1331\n",
      "tag: sharepoint freq: 771\n",
      "tag: sharepoint-2010 freq: 313\n",
      "tag: shell freq: 1987\n",
      "tag: silverlight freq: 981\n",
      "tag: soap freq: 829\n",
      "tag: socket.io freq: 404\n",
      "tag: sockets freq: 1675\n",
      "tag: solr freq: 539\n",
      "tag: sorting freq: 1569\n",
      "tag: split freq: 501\n",
      "tag: spring freq: 3962\n",
      "tag: spring-boot freq: 637\n",
      "tag: spring-mvc freq: 1533\n",
      "tag: spring-security freq: 573\n",
      "tag: sprite-kit freq: 359\n",
      "tag: sql freq: 13905\n",
      "tag: sql-server freq: 7165\n",
      "tag: sql-server-2005 freq: 669\n",
      "tag: sql-server-2008 freq: 1822\n",
      "tag: sql-server-2008-r2 freq: 386\n",
      "tag: sql-server-2012 freq: 415\n",
      "tag: sqlalchemy freq: 328\n",
      "tag: sqlite freq: 1988\n",
      "tag: sqlite3 freq: 446\n",
      "tag: ssh freq: 585\n",
      "tag: ssis freq: 465\n",
      "tag: ssl freq: 1087\n",
      "tag: static freq: 437\n",
      "tag: stl freq: 405\n",
      "tag: stored-procedures freq: 931\n",
      "tag: stream freq: 368\n",
      "tag: string freq: 4041\n",
      "tag: struct freq: 678\n",
      "tag: struts2 freq: 371\n",
      "tag: svg freq: 891\n",
      "tag: svn freq: 908\n",
      "tag: swift freq: 5201\n",
      "tag: swift2 freq: 300\n",
      "tag: swift3 freq: 365\n",
      "tag: swing freq: 2370\n",
      "tag: symfony freq: 1773\n",
      "tag: syntax freq: 507\n",
      "tag: table freq: 585\n",
      "tag: tabs freq: 414\n",
      "tag: tags freq: 306\n",
      "tag: tcp freq: 557\n",
      "tag: telerik freq: 321\n",
      "tag: templates freq: 1257\n",
      "tag: tensorflow freq: 321\n",
      "tag: terminal freq: 451\n",
      "tag: testing freq: 962\n",
      "tag: text freq: 698\n",
      "tag: textbox freq: 371\n",
      "tag: textview freq: 321\n",
      "tag: tfs freq: 540\n",
      "tag: three.js freq: 395\n",
      "tag: time freq: 632\n",
      "tag: timer freq: 505\n",
      "tag: tkinter freq: 579\n",
      "tag: tomcat freq: 1254\n",
      "tag: transactions freq: 377\n",
      "tag: tree freq: 411\n",
      "tag: triggers freq: 477\n",
      "tag: tsql freq: 1601\n",
      "tag: twitter freq: 734\n",
      "tag: twitter-bootstrap freq: 2871\n",
      "tag: twitter-bootstrap-3 freq: 632\n",
      "tag: types freq: 529\n",
      "tag: typescript freq: 949\n",
      "tag: ubuntu freq: 1245\n",
      "tag: uibutton freq: 358\n",
      "tag: uiimageview freq: 348\n",
      "tag: uinavigationcontroller freq: 336\n",
      "tag: uiscrollview freq: 411\n",
      "tag: uitableview freq: 1909\n",
      "tag: uiview freq: 589\n",
      "tag: uiviewcontroller freq: 542\n",
      "tag: uiwebview freq: 388\n",
      "tag: unicode freq: 647\n",
      "tag: unit-testing freq: 1790\n",
      "tag: unity3d freq: 885\n",
      "tag: unix freq: 1304\n",
      "tag: upload freq: 419\n",
      "tag: url freq: 1116\n",
      "tag: url-rewriting freq: 424\n",
      "tag: user-controls freq: 326\n",
      "tag: user-interface freq: 1446\n",
      "tag: utf-8 freq: 592\n",
      "tag: validation freq: 1739\n",
      "tag: variables freq: 1276\n",
      "tag: vb.net freq: 4020\n",
      "tag: vb6 freq: 319\n",
      "tag: vba freq: 2926\n",
      "tag: vbscript freq: 547\n",
      "tag: vector freq: 761\n",
      "tag: version-control freq: 527\n",
      "tag: video freq: 922\n",
      "tag: view freq: 550\n",
      "tag: vim freq: 806\n",
      "tag: visual-c++ freq: 894\n",
      "tag: visual-studio freq: 2428\n",
      "tag: visual-studio-2008 freq: 602\n",
      "tag: visual-studio-2010 freq: 1740\n",
      "tag: visual-studio-2012 freq: 838\n",
      "tag: visual-studio-2013 freq: 659\n",
      "tag: visual-studio-2015 freq: 595\n",
      "tag: wcf freq: 1724\n",
      "tag: web freq: 844\n",
      "tag: web-applications freq: 638\n",
      "tag: web-scraping freq: 413\n",
      "tag: web-services freq: 2162\n",
      "tag: webforms freq: 442\n",
      "tag: webpack freq: 354\n",
      "tag: website freq: 312\n",
      "tag: websocket freq: 467\n",
      "tag: webview freq: 564\n",
      "tag: while-loop freq: 468\n",
      "tag: winapi freq: 1092\n",
      "tag: windows freq: 3937\n",
      "tag: windows-7 freq: 389\n",
      "tag: windows-8 freq: 426\n",
      "tag: windows-phone-7 freq: 738\n",
      "tag: windows-phone-8 freq: 723\n",
      "tag: windows-runtime freq: 305\n",
      "tag: winforms freq: 2675\n",
      "tag: woocommerce freq: 377\n",
      "tag: wordpress freq: 4112\n",
      "tag: wpf freq: 4796\n",
      "tag: x86 freq: 341\n",
      "tag: xamarin freq: 749\n",
      "tag: xamarin.ios freq: 391\n",
      "tag: xaml freq: 1671\n",
      "tag: xcode freq: 4129\n",
      "tag: xml freq: 5691\n",
      "tag: xml-parsing freq: 397\n",
      "tag: xpath freq: 827\n",
      "tag: xsd freq: 421\n",
      "tag: xslt freq: 1030\n",
      "tag: yii freq: 595\n",
      "tag: youtube freq: 447\n",
      "tag: zend-framework freq: 741\n",
      "tag: zend-framework2 freq: 321\n"
     ]
    }
   ],
   "source": [
    "global_similarity_index_v2 = dict()\n",
    "\n",
    "for tag in tag_vocabulary:\n",
    "    \n",
    "    similarities_with_current_tag = list()\n",
    "    \n",
    "    for other_tag, similarity_to_other_tag in sorted_pairwise_similarity_dict[tag]:\n",
    "        \n",
    "        if other_tag != tag:\n",
    "            similarities_with_current_tag.append(similarity_to_other_tag)\n",
    "\n",
    "    freq = tag_frequency_index[tag]       \n",
    "            \n",
    "    global_avg_sim_wrt_tag = np.array(similarities_with_current_tag).mean() / np.log(freq)\n",
    "    \n",
    "    print(\"tag: \"+tag+\" freq: \"+ str(freq))\n",
    "    \n",
    "    global_similarity_index_v2[tag] = global_avg_sim_wrt_tag"
   ]
  },
  {
   "cell_type": "markdown",
   "metadata": {},
   "source": [
    "### least general tags"
   ]
  },
  {
   "cell_type": "code",
   "execution_count": 72,
   "metadata": {
    "collapsed": true
   },
   "outputs": [],
   "source": [
    "sorted_global_similarity_index = dict()\n",
    "as_tpls = [(tag,avg_global_sim) for tag,avg_global_sim in global_similarity_index_v2.items()]\n",
    "sorted_tags_by_global_avg_similarities = sorted(as_tpls, key=lambda tpl:tpl[1] )"
   ]
  },
  {
   "cell_type": "code",
   "execution_count": 73,
   "metadata": {},
   "outputs": [
    {
     "data": {
      "text/plain": [
       "[('gulp', 0.03459942504344083),\n",
       " ('git', 0.038525571638842182),\n",
       " ('docker', 0.039225768413069829),\n",
       " ('boost', 0.039923982102107236),\n",
       " ('paypal', 0.041578266020776744),\n",
       " ('socket.io', 0.041685333589716281),\n",
       " ('npm', 0.042146220246530995),\n",
       " ('d3.js', 0.042685676986351132),\n",
       " ('.htaccess', 0.042775596888459638),\n",
       " ('google-maps', 0.042841501390705403),\n",
       " ('google-maps-api-3', 0.043174855685175241),\n",
       " ('android-fragments', 0.043189690057949037),\n",
       " ('recyclerview', 0.04319886381021866),\n",
       " ('gradle', 0.043316949304465342),\n",
       " ('tkinter', 0.04383055286005174),\n",
       " ('apache-spark', 0.044167096431171955),\n",
       " ('heroku', 0.044197525787492774),\n",
       " ('webview', 0.044249421670785508),\n",
       " ('uitableview', 0.044373724086656095),\n",
       " ('hive', 0.04438275494483529)]"
      ]
     },
     "execution_count": 73,
     "metadata": {},
     "output_type": "execute_result"
    }
   ],
   "source": [
    "sorted_tags_by_global_avg_similarities[:20]"
   ]
  },
  {
   "cell_type": "markdown",
   "metadata": {},
   "source": [
    "note that tags such as \"web\", \"performance\", \"design\", \"security\" and \"user-interface\" are **nowhere near** the top assigned tags on SO, but they show up here... and it makes sense because they're very general indeed"
   ]
  },
  {
   "cell_type": "markdown",
   "metadata": {},
   "source": [
    "### most general tags"
   ]
  },
  {
   "cell_type": "code",
   "execution_count": 74,
   "metadata": {
    "collapsed": true
   },
   "outputs": [],
   "source": [
    "sorted_global_similarity_index = dict()\n",
    "as_tpls = [(tag,avg_global_sim) for tag,avg_global_sim in global_similarity_index_v2.items()]\n",
    "sorted_tags_by_global_avg_similarities = sorted(as_tpls, key=lambda tpl:tpl[1],reverse=True )"
   ]
  },
  {
   "cell_type": "code",
   "execution_count": 75,
   "metadata": {},
   "outputs": [
    {
     "data": {
      "text/plain": [
       "[('coldfusion', 0.10126949169741077),\n",
       " ('.net-4.0', 0.099866593822834748),\n",
       " ('coffeescript', 0.099787675571294795),\n",
       " ('vb6', 0.098526648545393503),\n",
       " ('telerik', 0.097878109648431591),\n",
       " ('blackberry', 0.097861085857123886),\n",
       " ('mfc', 0.097778432998253603),\n",
       " ('automation', 0.096189595661966998),\n",
       " ('windows-runtime', 0.09481087770903647),\n",
       " ('internationalization', 0.092074587196500551),\n",
       " ('formatting', 0.091981182119723559),\n",
       " ('get', 0.091764572420760263),\n",
       " ('webforms', 0.090860124239995815),\n",
       " ('network-programming', 0.09083603234962459),\n",
       " ('prolog', 0.090515022580088367),\n",
       " ('concurrency', 0.089983335814520421),\n",
       " ('website', 0.089760608017421459),\n",
       " ('design', 0.089688198073155617),\n",
       " ('com', 0.089611591522300971),\n",
       " ('web-scraping', 0.089456021716997278)]"
      ]
     },
     "execution_count": 75,
     "metadata": {},
     "output_type": "execute_result"
    }
   ],
   "source": [
    "sorted_tags_by_global_avg_similarities[:20]"
   ]
  },
  {
   "cell_type": "code",
   "execution_count": 25,
   "metadata": {
    "collapsed": true
   },
   "outputs": [],
   "source": [
    "def evaluate(a,b):\n",
    "    return get_metrics_for_tag_pair(a,b,tag_vectors_index, sorted_pairwise_similarity_dict, global_similarity_index_v2)"
   ]
  },
  {
   "cell_type": "markdown",
   "metadata": {},
   "source": [
    "> the result is a tuple of the form (difference_of_global_averages, mutual_similarity)\n",
    "\n",
    "positive difference means the first tag is \"more general\" than the second tag (according to our measure)\n"
   ]
  },
  {
   "cell_type": "code",
   "execution_count": 26,
   "metadata": {},
   "outputs": [
    {
     "data": {
      "text/plain": [
       "(-0.0038743695114508425, 0.95360188572903903)"
      ]
     },
     "execution_count": 26,
     "metadata": {},
     "output_type": "execute_result"
    }
   ],
   "source": [
    "evaluate('sql','sql-server')"
   ]
  },
  {
   "cell_type": "code",
   "execution_count": 27,
   "metadata": {},
   "outputs": [
    {
     "data": {
      "text/plain": [
       "(-0.0077137429211412839, 0.98371627237454562)"
      ]
     },
     "execution_count": 27,
     "metadata": {},
     "output_type": "execute_result"
    }
   ],
   "source": [
    "evaluate('sql-server','sql-server-2008')"
   ]
  },
  {
   "cell_type": "code",
   "execution_count": 28,
   "metadata": {},
   "outputs": [
    {
     "data": {
      "text/plain": [
       "(-0.014578811401950692, 0.97481770134639489)"
      ]
     },
     "execution_count": 28,
     "metadata": {},
     "output_type": "execute_result"
    }
   ],
   "source": [
    "evaluate('python','python-3.x')"
   ]
  },
  {
   "cell_type": "code",
   "execution_count": 29,
   "metadata": {},
   "outputs": [
    {
     "data": {
      "text/plain": [
       "(-0.0011267936724401184, 0.97453923487543426)"
      ]
     },
     "execution_count": 29,
     "metadata": {},
     "output_type": "execute_result"
    }
   ],
   "source": [
    "evaluate('python-2.7','python-3.x')"
   ]
  },
  {
   "cell_type": "code",
   "execution_count": 30,
   "metadata": {},
   "outputs": [
    {
     "data": {
      "text/plain": [
       "(0.0083521136297889098, 0.76511062673459118)"
      ]
     },
     "execution_count": 30,
     "metadata": {},
     "output_type": "execute_result"
    }
   ],
   "source": [
    "evaluate('database','oracle')"
   ]
  },
  {
   "cell_type": "code",
   "execution_count": 31,
   "metadata": {},
   "outputs": [
    {
     "data": {
      "text/plain": [
       "(0.0024735863134016309, 0.89492664209399198)"
      ]
     },
     "execution_count": 31,
     "metadata": {},
     "output_type": "execute_result"
    }
   ],
   "source": [
    "# hmmm... maybe because rails is a much more stronger child of something like \"web-framework\"?\n",
    "evaluate('ruby','ruby-on-rails')"
   ]
  },
  {
   "cell_type": "code",
   "execution_count": 32,
   "metadata": {},
   "outputs": [
    {
     "data": {
      "text/plain": [
       "(0.026283454915515536, 0.57081851125952732)"
      ]
     },
     "execution_count": 32,
     "metadata": {},
     "output_type": "execute_result"
    }
   ],
   "source": [
    "# hmmmm\n",
    "evaluate('frameworks','ruby-on-rails')"
   ]
  },
  {
   "cell_type": "code",
   "execution_count": 33,
   "metadata": {},
   "outputs": [
    {
     "data": {
      "text/plain": [
       "(0.03364917427786146, 0.71753596334150105)"
      ]
     },
     "execution_count": 33,
     "metadata": {},
     "output_type": "execute_result"
    }
   ],
   "source": [
    "evaluate('web','ruby-on-rails')"
   ]
  },
  {
   "cell_type": "code",
   "execution_count": 34,
   "metadata": {},
   "outputs": [
    {
     "data": {
      "text/plain": [
       "(-0.032337918512040834, 0.96277274170640192)"
      ]
     },
     "execution_count": 34,
     "metadata": {},
     "output_type": "execute_result"
    }
   ],
   "source": [
    "evaluate('.net','.net-4.0')"
   ]
  },
  {
   "cell_type": "code",
   "execution_count": 35,
   "metadata": {},
   "outputs": [
    {
     "data": {
      "text/plain": [
       "(-0.0041151581314893132, 0.82069625351587672)"
      ]
     },
     "execution_count": 35,
     "metadata": {},
     "output_type": "execute_result"
    }
   ],
   "source": [
    "evaluate('android','android-studio') "
   ]
  },
  {
   "cell_type": "code",
   "execution_count": 36,
   "metadata": {},
   "outputs": [
    {
     "data": {
      "text/plain": [
       "(-0.0007618717296940386, 0.84710098775189802)"
      ]
     },
     "execution_count": 36,
     "metadata": {},
     "output_type": "execute_result"
    }
   ],
   "source": [
    "evaluate('asp.net','asp.net-mvc') "
   ]
  },
  {
   "cell_type": "code",
   "execution_count": 37,
   "metadata": {},
   "outputs": [
    {
     "data": {
      "text/plain": [
       "(-0.024928081832259155, 0.96488890593856147)"
      ]
     },
     "execution_count": 37,
     "metadata": {},
     "output_type": "execute_result"
    }
   ],
   "source": [
    "evaluate('asp.net-mvc','asp.net-mvc-5') "
   ]
  },
  {
   "cell_type": "code",
   "execution_count": 38,
   "metadata": {},
   "outputs": [
    {
     "data": {
      "text/plain": [
       "(-0.025689953561953194, 0.8120323924510352)"
      ]
     },
     "execution_count": 38,
     "metadata": {},
     "output_type": "execute_result"
    }
   ],
   "source": [
    "evaluate('asp.net','asp.net-mvc-5') "
   ]
  },
  {
   "cell_type": "markdown",
   "metadata": {},
   "source": [
    "## what about unrelated stuff?\n",
    "\n",
    "this will probably fluctuate around zero"
   ]
  },
  {
   "cell_type": "code",
   "execution_count": 39,
   "metadata": {},
   "outputs": [
    {
     "data": {
      "text/plain": [
       "(0.0033904039905508221, 0.63486068665743045)"
      ]
     },
     "execution_count": 39,
     "metadata": {},
     "output_type": "execute_result"
    }
   ],
   "source": [
    "evaluate('java','arrays')"
   ]
  },
  {
   "cell_type": "code",
   "execution_count": 40,
   "metadata": {},
   "outputs": [
    {
     "data": {
      "text/plain": [
       "(-0.0097213999368659584, 0.64158676537827219)"
      ]
     },
     "execution_count": 40,
     "metadata": {},
     "output_type": "execute_result"
    }
   ],
   "source": [
    "evaluate('ruby','python-2.7') "
   ]
  },
  {
   "cell_type": "code",
   "execution_count": 41,
   "metadata": {},
   "outputs": [
    {
     "data": {
      "text/plain": [
       "(-0.0016449620448198837, 0.65515824936886746)"
      ]
     },
     "execution_count": 41,
     "metadata": {},
     "output_type": "execute_result"
    }
   ],
   "source": [
    "evaluate('database','python-2.7') "
   ]
  },
  {
   "cell_type": "markdown",
   "metadata": {},
   "source": [
    "## what are the tag pairs that are the best cobrinha parts?"
   ]
  },
  {
   "cell_type": "code",
   "execution_count": 42,
   "metadata": {
    "collapsed": true
   },
   "outputs": [],
   "source": [
    "similarities_to_other_tags = sorted_pairwise_similarity_dict[\"sql\"]"
   ]
  },
  {
   "cell_type": "code",
   "execution_count": 43,
   "metadata": {},
   "outputs": [
    {
     "data": {
      "text/plain": [
       "('sql-server', 0.95360188572903903)"
      ]
     },
     "execution_count": 43,
     "metadata": {},
     "output_type": "execute_result"
    }
   ],
   "source": [
    "similarities_to_other_tags[1]"
   ]
  },
  {
   "cell_type": "code",
   "execution_count": null,
   "metadata": {
    "collapsed": true
   },
   "outputs": [],
   "source": [
    "lst = sorted_pairwise_similarity_dict.items()"
   ]
  },
  {
   "cell_type": "code",
   "execution_count": 44,
   "metadata": {
    "collapsed": true
   },
   "outputs": [],
   "source": [
    "def make_pairwise_cobrinha_factors(pairwise_similarity_dict):\n",
    "\n",
    "    outgoing_cobrinha_factors_dict = dict()\n",
    "    incoming_cobrinha_factors_dict = dict()\n",
    "\n",
    "\n",
    "    for tag in tag_vocabulary:\n",
    "        outgoing_cobrinha_factors_dict[tag] = list()\n",
    "        incoming_cobrinha_factors_dict[tag] = list()\n",
    "        \n",
    "        \n",
    "    for (tag, similarities_to_other_tags) in tqdm(pairwise_similarity_dict.items()):\n",
    "    \n",
    "        for (other_tag, similarity_to_other_tag) in similarities_to_other_tags:\n",
    "\n",
    "            (avg_avg, mutual_similarity)= evaluate(tag,other_tag)\n",
    "\n",
    "            cobrinha_factor = avg_avg * mutual_similarity\n",
    "            pair = \"{} ->  {}\".format(tag,other_tag)    \n",
    "\n",
    "            outgoing_cobrinha_factors_dict[tag].append( (pair,cobrinha_factor))\n",
    "            incoming_cobrinha_factors_dict[other_tag].append( (pair,cobrinha_factor))    \n",
    "        \n",
    "        \n",
    "    return (outgoing_cobrinha_factors_dict,incoming_cobrinha_factors_dict)"
   ]
  },
  {
   "cell_type": "code",
   "execution_count": 45,
   "metadata": {},
   "outputs": [
    {
     "name": "stderr",
     "output_type": "stream",
     "text": [
      "100%|██████████| 617/617 [00:13<00:00, 45.27it/s]\n"
     ]
    }
   ],
   "source": [
    "outgoing_factors_dict,incoming_factors_dict = make_pairwise_cobrinha_factors(sorted_pairwise_similarity_dict)"
   ]
  },
  {
   "cell_type": "code",
   "execution_count": 46,
   "metadata": {},
   "outputs": [
    {
     "data": {
      "text/plain": [
       "[('graph ->  sql', 0.0081831529207102155),\n",
       " ('uitableview ->  sql', -0.0032182639527065437),\n",
       " ('deployment ->  sql', 0.014899860283764237),\n",
       " ('regex ->  sql', -0.00090107271024596495),\n",
       " ('command-line ->  sql', 0.014748599008997595),\n",
       " ('datagrid ->  sql', 0.003518207603231919),\n",
       " ('serialization ->  sql', 0.012575405780442995),\n",
       " ('garbage-collection ->  sql', 0.006465973228088155),\n",
       " ('html ->  sql', 0.0014545052682485619),\n",
       " ('url ->  sql', 0.0067025797091360287)]"
      ]
     },
     "execution_count": 46,
     "metadata": {},
     "output_type": "execute_result"
    }
   ],
   "source": [
    "incoming_factors_dict['sql'][:10]"
   ]
  },
  {
   "cell_type": "markdown",
   "metadata": {},
   "source": [
    "## each tag, with its most likely child/parent tags in its cobrinha\n",
    "\n",
    "\"parent\" -> \"child\"\n",
    "\n",
    "a leaf/terminal tag has no \"parent\" tag\n",
    "the root tag has no \"parent\" tag"
   ]
  },
  {
   "cell_type": "code",
   "execution_count": 47,
   "metadata": {
    "collapsed": true
   },
   "outputs": [],
   "source": [
    "sorted_outgoing_cobrinha_factors_dict = dict()\n",
    "sorted_incoming_cobrinha_factors_dict = dict()\n",
    "\n",
    "for (tag,similarities) in outgoing_factors_dict.items():\n",
    "    sorted_similarities = sorted(similarities,key=lambda tpl: tpl[1], reverse=True)\n",
    "    \n",
    "    sorted_outgoing_cobrinha_factors_dict[tag] = sorted_similarities\n",
    "    \n",
    "for (tag,similarities) in incoming_factors_dict.items():\n",
    "    sorted_similarities = sorted(similarities,key=lambda tpl: tpl[1], reverse=True)\n",
    "    \n",
    "    sorted_incoming_cobrinha_factors_dict[tag] = sorted_similarities        "
   ]
  },
  {
   "cell_type": "code",
   "execution_count": 48,
   "metadata": {},
   "outputs": [
    {
     "data": {
      "text/plain": [
       "[('sql ->  git', 0.0048014206588106647),\n",
       " ('sql ->  docker', 0.0037894525352867537),\n",
       " ('sql ->  boost', 0.0036038663207627873),\n",
       " ('sql ->  hive', 0.0036018893805477587),\n",
       " ('sql ->  gulp', 0.0035785764153825387),\n",
       " ('sql ->  pandas', 0.0034261453941780377),\n",
       " ('sql ->  .htaccess', 0.0033605553612145395),\n",
       " ('sql ->  paypal', 0.0033552110052657751),\n",
       " ('sql ->  d3.js', 0.0033172476459604008),\n",
       " ('sql ->  google-maps', 0.0032649929583456658),\n",
       " ('sql ->  uitableview', 0.0032182639527065437),\n",
       " ('sql ->  apache-spark', 0.0032084346564580494),\n",
       " ('sql ->  android-fragments', 0.002947077868197116),\n",
       " ('sql ->  socket.io', 0.0029097162416245113),\n",
       " ('sql ->  facebook', 0.0028964925316431324),\n",
       " ('sql ->  google-maps-api-3', 0.0028082296377408208),\n",
       " ('sql ->  npm', 0.0027684122617202085),\n",
       " ('sql ->  heroku', 0.0027569156188631898),\n",
       " ('sql ->  gradle', 0.0027289091031215012),\n",
       " ('sql ->  css', 0.0027001111852271117)]"
      ]
     },
     "execution_count": 48,
     "metadata": {},
     "output_type": "execute_result"
    }
   ],
   "source": [
    "sorted_outgoing_cobrinha_factors_dict['sql'][:20]"
   ]
  },
  {
   "cell_type": "code",
   "execution_count": 49,
   "metadata": {},
   "outputs": [
    {
     "data": {
      "text/plain": [
       "[('coldfusion ->  sql', 0.036699516455666957),\n",
       " ('vb6 ->  sql', 0.031343884611312038),\n",
       " ('telerik ->  sql', 0.030669812708359171),\n",
       " ('.net-4.0 ->  sql', 0.030071566004863614),\n",
       " ('coffeescript ->  sql', 0.029769292923173089),\n",
       " ('mfc ->  sql', 0.028862776322690954),\n",
       " ('automation ->  sql', 0.027847623277168033),\n",
       " ('blackberry ->  sql', 0.027413423506744611),\n",
       " ('c#-4.0 ->  sql', 0.026313845005058265),\n",
       " ('formatting ->  sql', 0.026029890231648197),\n",
       " ('design ->  sql', 0.025386641505940291),\n",
       " ('optimization ->  sql', 0.024965918228188402),\n",
       " ('get ->  sql', 0.02476508000155591),\n",
       " ('windows-runtime ->  sql', 0.024268531681949257),\n",
       " ('dynamic ->  sql', 0.024239633279662935),\n",
       " ('access-vba ->  sql', 0.02421942892754771),\n",
       " ('webforms ->  sql', 0.024074137582456145),\n",
       " ('concurrency ->  sql', 0.024013903487885586),\n",
       " ('web ->  sql', 0.023943727466055272),\n",
       " ('prolog ->  sql', 0.023703509468304938)]"
      ]
     },
     "execution_count": 49,
     "metadata": {},
     "output_type": "execute_result"
    }
   ],
   "source": [
    "sorted_incoming_cobrinha_factors_dict['sql'][:20]"
   ]
  },
  {
   "cell_type": "markdown",
   "metadata": {},
   "source": [
    "if \"sql\" is a \"good\" parent tag, then the avg of all OUTGOING cobrinha factors should be higher than the average INCOMING cobrinha factors, right?"
   ]
  },
  {
   "cell_type": "code",
   "execution_count": 50,
   "metadata": {},
   "outputs": [
    {
     "name": "stdout",
     "output_type": "stream",
     "text": [
      "average of outgoing factors: -0.007061846721720351 \n",
      "average of incoming factors: 0.007061846721720351\n"
     ]
    }
   ],
   "source": [
    "TAG_NAME='sql'\n",
    "\n",
    "outgoing_factors = list()\n",
    "\n",
    "for descr, factor in sorted_outgoing_cobrinha_factors_dict[TAG_NAME]:\n",
    "    child_tag = descr.split(\"->\")[1].strip()\n",
    "    outgoing_factors.append(factor)\n",
    "    \n",
    "incoming_factors = list()\n",
    "\n",
    "for descr, factor in sorted_incoming_cobrinha_factors_dict[TAG_NAME]:\n",
    "    child_tag = descr.split(\"->\")[0].strip()\n",
    "    incoming_factors.append(factor)\n",
    "       \n",
    "print(\"average of outgoing factors: {} \\naverage of incoming factors: {}\".format(np.array(outgoing_factors).mean(),np.array(incoming_factors).mean()))"
   ]
  },
  {
   "cell_type": "code",
   "execution_count": 51,
   "metadata": {},
   "outputs": [
    {
     "name": "stdout",
     "output_type": "stream",
     "text": [
      "average of outgoing factors: 0.004605382828130135 \n",
      "average of incoming factors: -0.004605382828130135\n"
     ]
    }
   ],
   "source": [
    "TAG_NAME='performance'\n",
    "\n",
    "outgoing_factors = list()\n",
    "\n",
    "for descr, factor in sorted_outgoing_cobrinha_factors_dict[TAG_NAME]:\n",
    "    child_tag = descr.split(\"->\")[1].strip()\n",
    "    outgoing_factors.append(factor)\n",
    "    \n",
    "incoming_factors = list()\n",
    "\n",
    "for descr, factor in sorted_incoming_cobrinha_factors_dict[TAG_NAME]:\n",
    "    child_tag = descr.split(\"->\")[0].strip()\n",
    "    incoming_factors.append(factor)\n",
    "       \n",
    "print(\"average of outgoing factors: {} \\naverage of incoming factors: {}\".format(np.array(outgoing_factors).mean(),np.array(incoming_factors).mean()))"
   ]
  },
  {
   "cell_type": "code",
   "execution_count": 52,
   "metadata": {},
   "outputs": [
    {
     "name": "stdout",
     "output_type": "stream",
     "text": [
      "average of outgoing factors: 0.007133652265720398 \n",
      "average of incoming factors: -0.007133652265720398\n"
     ]
    }
   ],
   "source": [
    "TAG_NAME='user-interface'\n",
    "\n",
    "outgoing_factors = list()\n",
    "\n",
    "for descr, factor in sorted_outgoing_cobrinha_factors_dict[TAG_NAME]:\n",
    "    child_tag = descr.split(\"->\")[1].strip()\n",
    "    outgoing_factors.append(factor)\n",
    "    \n",
    "incoming_factors = list()\n",
    "\n",
    "for descr, factor in sorted_incoming_cobrinha_factors_dict[TAG_NAME]:\n",
    "    child_tag = descr.split(\"->\")[0].strip()\n",
    "    incoming_factors.append(factor)\n",
    "       \n",
    "print(\"average of outgoing factors: {} \\naverage of incoming factors: {}\".format(np.array(outgoing_factors).mean(),np.array(incoming_factors).mean()))"
   ]
  },
  {
   "cell_type": "markdown",
   "metadata": {},
   "source": [
    "now let's see whether a reasonably \"bad\" parent tag shows the opposite behaviour."
   ]
  },
  {
   "cell_type": "code",
   "execution_count": 53,
   "metadata": {},
   "outputs": [
    {
     "name": "stdout",
     "output_type": "stream",
     "text": [
      "average of outgoing factors: -0.007077082195748274 \n",
      "average of incoming factors: 0.007077082195748274\n"
     ]
    }
   ],
   "source": [
    "TAG_NAME = 'android-fragments'\n",
    "\n",
    "outgoing_factors = list()\n",
    "\n",
    "for descr, factor in sorted_outgoing_cobrinha_factors_dict[TAG_NAME]:\n",
    "    child_tag = descr.split(\"->\")[1].strip()\n",
    "    outgoing_factors.append(factor)\n",
    "    \n",
    "incoming_factors = list()\n",
    "\n",
    "for descr, factor in sorted_incoming_cobrinha_factors_dict[TAG_NAME]:\n",
    "    child_tag = descr.split(\"->\")[0].strip()\n",
    "    incoming_factors.append(factor)\n",
    "    \n",
    "print(\"average of outgoing factors: {} \\naverage of incoming factors: {}\".format(np.array(outgoing_factors).mean(),np.array(incoming_factors).mean()))    "
   ]
  },
  {
   "cell_type": "markdown",
   "metadata": {},
   "source": [
    "## now let's try to find a triple. two tags B and C that have good cobrinha factor and a third tag A that has good cobrinha factor with tag B and tag C (but cobrinha(A,B) should probably be higher than cobrinha (A,C))\n",
    "\n",
    "\n",
    "A -> B -> C\n",
    "\n",
    "(TAG C is the most specific tag of the three)"
   ]
  },
  {
   "cell_type": "markdown",
   "metadata": {},
   "source": [
    "### let's experiment first"
   ]
  },
  {
   "cell_type": "code",
   "execution_count": 54,
   "metadata": {},
   "outputs": [
    {
     "data": {
      "text/plain": [
       "(0.32409407806410806, 0.34442704064918939)"
      ]
     },
     "execution_count": 54,
     "metadata": {},
     "output_type": "execute_result"
    }
   ],
   "source": [
    "# this is not very good, because numpy is a subset of scipy\n",
    "# so scipy should, in theory, be more general than numpy\n",
    "\n",
    "# perhaps this has to do with the fact that numpy tags are much more common than scipy, and this\n",
    "# causes numpy-tagged documents to have more words, in general, than scipy?\n",
    "\n",
    "global_similarity_index['scipy'],global_similarity_index['numpy']"
   ]
  },
  {
   "cell_type": "markdown",
   "metadata": {},
   "source": [
    "it's bad that 'c#' and things like '.coldfusion' and 'mfc' are at the top **but** 'python' and 'performance' \n",
    "and 'optimization' and 'python-2.7' at the top are indicative that something is correct"
   ]
  },
  {
   "cell_type": "code",
   "execution_count": 55,
   "metadata": {},
   "outputs": [
    {
     "data": {
      "text/plain": [
       "[('coldfusion ->  numpy', 0.02589522754484154),\n",
       " ('coffeescript ->  numpy', 0.023194067983073725),\n",
       " ('vb6 ->  numpy', 0.022473967850230644),\n",
       " ('.net-4.0 ->  numpy', 0.02230892690997718),\n",
       " ('mfc ->  numpy', 0.022260899214391623),\n",
       " ('telerik ->  numpy', 0.02148387132231477),\n",
       " ('automation ->  numpy', 0.021192255433562596),\n",
       " ('optimization ->  numpy', 0.020957514553867327),\n",
       " ('blackberry ->  numpy', 0.02075549073651467),\n",
       " ('formatting ->  numpy', 0.019935200181282489),\n",
       " ('machine-learning ->  numpy', 0.019900148388518842),\n",
       " ('prolog ->  numpy', 0.019298590206521839),\n",
       " ('design ->  numpy', 0.019246674115799462),\n",
       " ('windows-runtime ->  numpy', 0.018713591555311354),\n",
       " ('web-scraping ->  numpy', 0.018699001300237206),\n",
       " ('concurrency ->  numpy', 0.018584825640340624),\n",
       " ('c#-4.0 ->  numpy', 0.018431479334317342),\n",
       " ('web ->  numpy', 0.018428156885954335),\n",
       " ('get ->  numpy', 0.018296387959262913),\n",
       " ('internationalization ->  numpy', 0.018274287454960712)]"
      ]
     },
     "execution_count": 55,
     "metadata": {},
     "output_type": "execute_result"
    }
   ],
   "source": [
    "sorted_incoming_cobrinha_factors_dict['numpy'][:20]"
   ]
  },
  {
   "cell_type": "code",
   "execution_count": 56,
   "metadata": {},
   "outputs": [
    {
     "data": {
      "text/plain": [
       "[('coldfusion ->  scipy', 0.021100536995893607),\n",
       " ('coffeescript ->  scipy', 0.018822896009353364),\n",
       " ('.net-4.0 ->  scipy', 0.01823018832150634),\n",
       " ('vb6 ->  scipy', 0.018088128702347456),\n",
       " ('mfc ->  scipy', 0.017955834215231462),\n",
       " ('telerik ->  scipy', 0.01714364171896593),\n",
       " ('automation ->  scipy', 0.017122301326080409),\n",
       " ('blackberry ->  scipy', 0.016867420547047051),\n",
       " ('optimization ->  scipy', 0.016114805890325139),\n",
       " ('formatting ->  scipy', 0.015289262685859841),\n",
       " ('machine-learning ->  scipy', 0.015255920497826045),\n",
       " ('windows-runtime ->  scipy', 0.014983639476206241),\n",
       " ('design ->  scipy', 0.014864218628366678),\n",
       " ('prolog ->  scipy', 0.014796391239193124),\n",
       " ('web-scraping ->  scipy', 0.014670244408865295),\n",
       " ('concurrency ->  scipy', 0.014351915184365982),\n",
       " ('internationalization ->  scipy', 0.014344979159856547),\n",
       " ('web ->  scipy', 0.014326536112164818),\n",
       " ('get ->  scipy', 0.014285562883384161),\n",
       " ('c#-4.0 ->  scipy', 0.014083150810259834)]"
      ]
     },
     "execution_count": 56,
     "metadata": {},
     "output_type": "execute_result"
    }
   ],
   "source": [
    "sorted_incoming_cobrinha_factors_dict['scipy'][:20]"
   ]
  },
  {
   "cell_type": "code",
   "execution_count": 57,
   "metadata": {},
   "outputs": [
    {
     "data": {
      "text/plain": [
       "[('numpy ->  git', 0.0023435256821268814),\n",
       " ('numpy ->  gulp', 0.0020583385627834837),\n",
       " ('numpy ->  boost', 0.0018662191878075834),\n",
       " ('numpy ->  docker', 0.0018179587187993683),\n",
       " ('numpy ->  matplotlib', 0.0016278764618811905),\n",
       " ('numpy ->  pandas', 0.0015533838716925974),\n",
       " ('numpy ->  d3.js', 0.0014333545472973821),\n",
       " ('numpy ->  paypal', 0.0013781166618693577),\n",
       " ('numpy ->  google-maps', 0.0013233817710609447),\n",
       " ('numpy ->  .htaccess', 0.0013165131944484333),\n",
       " ('numpy ->  npm', 0.0012562542027551274),\n",
       " ('numpy ->  tkinter', 0.0012187733592343849),\n",
       " ('numpy ->  socket.io', 0.00119632940984289),\n",
       " ('numpy ->  apache-spark', 0.0011289127302659748),\n",
       " ('numpy ->  google-maps-api-3', 0.0011046817198514809),\n",
       " ('numpy ->  android-fragments', 0.0010778307132150073),\n",
       " ('numpy ->  gradle', 0.0010650951725953391),\n",
       " ('numpy ->  uitableview', 0.0010580771811844693),\n",
       " ('numpy ->  heroku', 0.00095179872968751485),\n",
       " ('numpy ->  jenkins', 0.00088539079554069008)]"
      ]
     },
     "execution_count": 57,
     "metadata": {},
     "output_type": "execute_result"
    }
   ],
   "source": [
    "sorted_outgoing_cobrinha_factors_dict['numpy'][:20]"
   ]
  },
  {
   "cell_type": "code",
   "execution_count": 58,
   "metadata": {},
   "outputs": [
    {
     "data": {
      "text/plain": [
       "[('scipy ->  numpy', 0.0053938559735865459),\n",
       " ('scipy ->  matplotlib', 0.0047604339100780985),\n",
       " ('scipy ->  pandas', 0.0040084782180982315),\n",
       " ('scipy ->  git', 0.0039607197741449857),\n",
       " ('scipy ->  boost', 0.0032995543100331061),\n",
       " ('scipy ->  docker', 0.0032139296252932494),\n",
       " ('scipy ->  gulp', 0.0031349480958149005),\n",
       " ('scipy ->  d3.js', 0.0031300054245027159),\n",
       " ('scipy ->  tkinter', 0.0031009875541846131),\n",
       " ('scipy ->  google-maps', 0.0029509687044743508),\n",
       " ('scipy ->  .htaccess', 0.0029045637467599817),\n",
       " ('scipy ->  apache-spark', 0.0028936533537261564),\n",
       " ('scipy ->  css', 0.0028779577868379641),\n",
       " ('scipy ->  uitableview', 0.0028149385977678642),\n",
       " ('scipy ->  paypal', 0.0027741704082717162),\n",
       " ('scipy ->  tensorflow', 0.0027442882815996729),\n",
       " ('scipy ->  npm', 0.0027412028849619972),\n",
       " ('scipy ->  facebook', 0.0026301994514870393),\n",
       " ('scipy ->  maven', 0.0026152977243037705),\n",
       " ('scipy ->  gradle', 0.0025718506909711359)]"
      ]
     },
     "execution_count": 58,
     "metadata": {},
     "output_type": "execute_result"
    }
   ],
   "source": [
    "sorted_outgoing_cobrinha_factors_dict['scipy'][:20]"
   ]
  },
  {
   "cell_type": "markdown",
   "metadata": {},
   "source": [
    "### let's try some triples, starting with tags very low in the hierarchy (i.e. low generality, high specificity)"
   ]
  },
  {
   "cell_type": "code",
   "execution_count": 59,
   "metadata": {},
   "outputs": [
    {
     "data": {
      "text/plain": [
       "[('gulp', 0.20157625401838811),\n",
       " ('recyclerview', 0.2486415240114675),\n",
       " ('socket.io', 0.250170981198097),\n",
       " ('docker', 0.26050547377925304),\n",
       " ('npm', 0.26063850119479154),\n",
       " ('webpack', 0.26227745762404953),\n",
       " ('hive', 0.26293479328716896),\n",
       " ('boost', 0.26300122888860139),\n",
       " ('tensorflow', 0.26525913580033628),\n",
       " ('paypal', 0.2682650078066654)]"
      ]
     },
     "execution_count": 59,
     "metadata": {},
     "output_type": "execute_result"
    }
   ],
   "source": [
    "sorted(global_similarity_index.items(),key=lambda tpl: tpl[1])[:10]"
   ]
  },
  {
   "cell_type": "code",
   "execution_count": 60,
   "metadata": {},
   "outputs": [
    {
     "data": {
      "text/plain": [
       "[('coffeescript ->  gulp', 0.024095914565408025),\n",
       " ('coldfusion ->  gulp', 0.018941245493473639),\n",
       " ('ecmascript-6 ->  gulp', 0.018126324091426959),\n",
       " ('.net-4.0 ->  gulp', 0.017201433929503272),\n",
       " ('automation ->  gulp', 0.017132660136769472),\n",
       " ('vb6 ->  gulp', 0.016211174186261151),\n",
       " ('blackberry ->  gulp', 0.016114185444949029),\n",
       " ('mfc ->  gulp', 0.015983907374467657),\n",
       " ('web ->  gulp', 0.015896569082224286),\n",
       " ('telerik ->  gulp', 0.015617813677730673),\n",
       " ('windows-runtime ->  gulp', 0.015379855112670151),\n",
       " ('configuration ->  gulp', 0.015265058658836966),\n",
       " ('web-applications ->  gulp', 0.015187863365688749),\n",
       " ('compilation ->  gulp', 0.015035171890604803),\n",
       " ('scripting ->  gulp', 0.014712328191724178),\n",
       " ('internationalization ->  gulp', 0.014692411624676027),\n",
       " ('c#-4.0 ->  gulp', 0.014412297259483993),\n",
       " ('get ->  gulp', 0.014325632357744533),\n",
       " ('io ->  gulp', 0.014135404027554357),\n",
       " ('design ->  gulp', 0.013957761702973285)]"
      ]
     },
     "execution_count": 60,
     "metadata": {},
     "output_type": "execute_result"
    }
   ],
   "source": [
    "sorted_incoming_cobrinha_factors_dict['gulp'][:20]"
   ]
  },
  {
   "cell_type": "code",
   "execution_count": 61,
   "metadata": {},
   "outputs": [
    {
     "data": {
      "text/plain": [
       "[('coldfusion ->  coffeescript', 0.0012282083985074152),\n",
       " ('.net-4.0 ->  coffeescript', 5.8687116919705623e-05),\n",
       " ('vb6 ->  coffeescript', -0.00093164050656022938),\n",
       " ('telerik ->  coffeescript', -0.0014308448127878226),\n",
       " ('blackberry ->  coffeescript', -0.0014331446505911989),\n",
       " ('mfc ->  coffeescript', -0.0015458192337177803),\n",
       " ('automation ->  coffeescript', -0.0027457789361602434),\n",
       " ('windows-runtime ->  coffeescript', -0.0035640745079460212),\n",
       " ('formatting ->  coffeescript', -0.0054593717871049318),\n",
       " ('internationalization ->  coffeescript', -0.0055021942749518332),\n",
       " ('network-programming ->  coffeescript', -0.0060310353260931522),\n",
       " ('get ->  coffeescript', -0.0061037896423316714),\n",
       " ('prolog ->  coffeescript', -0.0064266732299154156),\n",
       " ('webforms ->  coffeescript', -0.0065155993827617905),\n",
       " ('website ->  coffeescript', -0.0068110962741301934),\n",
       " ('com ->  coffeescript', -0.007117721283698324),\n",
       " ('concurrency ->  coffeescript', -0.0071517100942702291),\n",
       " ('web-scraping ->  coffeescript', -0.0074879707886599534),\n",
       " ('architecture ->  coffeescript', -0.007716718798090192),\n",
       " ('scripting ->  coffeescript', -0.0078112455430718129)]"
      ]
     },
     "execution_count": 61,
     "metadata": {},
     "output_type": "execute_result"
    }
   ],
   "source": [
    "sorted_incoming_cobrinha_factors_dict['coffeescript'][:20]"
   ]
  },
  {
   "cell_type": "markdown",
   "metadata": {},
   "source": [
    "so we get **\"coldfusion\" -> \"coffeescript\" -> \"gulp\"**, which is clearly not good"
   ]
  },
  {
   "cell_type": "code",
   "execution_count": 62,
   "metadata": {},
   "outputs": [
    {
     "data": {
      "text/plain": [
       "[('coldfusion ->  hive', 0.022155420173935188),\n",
       " ('vb6 ->  hive', 0.018646110147832861),\n",
       " ('coffeescript ->  hive', 0.01842062788029061),\n",
       " ('.net-4.0 ->  hive', 0.01832536755584702),\n",
       " ('telerik ->  hive', 0.018059791512740175),\n",
       " ('automation ->  hive', 0.017592278113604254),\n",
       " ('mfc ->  hive', 0.017585357235741696),\n",
       " ('blackberry ->  hive', 0.017352343808624278),\n",
       " ('c#-4.0 ->  hive', 0.016408095896826375),\n",
       " ('formatting ->  hive', 0.016325062207043377)]"
      ]
     },
     "execution_count": 62,
     "metadata": {},
     "output_type": "execute_result"
    }
   ],
   "source": [
    "sorted_incoming_cobrinha_factors_dict['hive'][:10]"
   ]
  },
  {
   "cell_type": "code",
   "execution_count": 63,
   "metadata": {},
   "outputs": [
    {
     "data": {
      "text/plain": [
       "[('.net-4.0 ->  coldfusion', -0.0011559416986044108),\n",
       " ('coffeescript ->  coldfusion', -0.0012282083985074152),\n",
       " ('vb6 ->  coldfusion', -0.0022719507628618891),\n",
       " ('blackberry ->  coldfusion', -0.0027608328628917775),\n",
       " ('telerik ->  coldfusion', -0.0027823264698254844),\n",
       " ('mfc ->  coldfusion', -0.0028914134196486312),\n",
       " ('automation ->  coldfusion', -0.0042175503957080753),\n",
       " ('windows-runtime ->  coldfusion', -0.0049426597175209587),\n",
       " ('internationalization ->  coldfusion', -0.0070508627876512044),\n",
       " ('formatting ->  coldfusion', -0.0072748780542959014)]"
      ]
     },
     "execution_count": 63,
     "metadata": {},
     "output_type": "execute_result"
    }
   ],
   "source": [
    "sorted_incoming_cobrinha_factors_dict['coldfusion'][:10]"
   ]
  },
  {
   "cell_type": "markdown",
   "metadata": {},
   "source": [
    "so we get **\".net-4.0\" -> \"coldfusion\" -> \"hive\"**, which is also clearly not good"
   ]
  },
  {
   "cell_type": "code",
   "execution_count": 64,
   "metadata": {},
   "outputs": [
    {
     "data": {
      "text/plain": [
       "[('coldfusion ->  docker', 0.02340743564498704),\n",
       " ('.net-4.0 ->  docker', 0.021495603397879967),\n",
       " ('coffeescript ->  docker', 0.0212899348226562),\n",
       " ('blackberry ->  docker', 0.021079526661830297),\n",
       " ('automation ->  docker', 0.020938468586005635),\n",
       " ('vb6 ->  docker', 0.020421622847714069),\n",
       " ('mfc ->  docker', 0.02029129749487063),\n",
       " ('telerik ->  docker', 0.01883763788123502),\n",
       " ('web ->  docker', 0.018647233168941214),\n",
       " ('configuration ->  docker', 0.018397032071080986)]"
      ]
     },
     "execution_count": 64,
     "metadata": {},
     "output_type": "execute_result"
    }
   ],
   "source": [
    "sorted_incoming_cobrinha_factors_dict['docker'][:10]"
   ]
  },
  {
   "cell_type": "code",
   "execution_count": 65,
   "metadata": {},
   "outputs": [
    {
     "data": {
      "text/plain": [
       "[('.net-4.0 ->  coldfusion', -0.0011559416986044108),\n",
       " ('coffeescript ->  coldfusion', -0.0012282083985074152),\n",
       " ('vb6 ->  coldfusion', -0.0022719507628618891),\n",
       " ('blackberry ->  coldfusion', -0.0027608328628917775),\n",
       " ('telerik ->  coldfusion', -0.0027823264698254844),\n",
       " ('mfc ->  coldfusion', -0.0028914134196486312),\n",
       " ('automation ->  coldfusion', -0.0042175503957080753),\n",
       " ('windows-runtime ->  coldfusion', -0.0049426597175209587),\n",
       " ('internationalization ->  coldfusion', -0.0070508627876512044),\n",
       " ('formatting ->  coldfusion', -0.0072748780542959014)]"
      ]
     },
     "execution_count": 65,
     "metadata": {},
     "output_type": "execute_result"
    }
   ],
   "source": [
    "sorted_incoming_cobrinha_factors_dict['coldfusion'][:10]"
   ]
  },
  {
   "cell_type": "markdown",
   "metadata": {},
   "source": [
    "so we get \".net-4.0\" -> \"coldfusion\" -> \"docker\", which is also clearly not good"
   ]
  },
  {
   "cell_type": "markdown",
   "metadata": {},
   "source": [
    "> i think the lesson here is that tags that are very common like \"c#\" and \".net\" (and \"coldfusion\"??) are dominating the effect here, although it's nice to see more reasonable parent tags a bit down the ranking..\n",
    "\n",
    "> maybe we need to tweak the weighting so that tag similarity has more say than generality."
   ]
  }
 ],
 "metadata": {
  "kernelspec": {
   "display_name": "Global TF Kernel (Python 3)",
   "language": "python",
   "name": "global-tf-python-3"
  },
  "language_info": {
   "codemirror_mode": {
    "name": "ipython",
    "version": 3
   },
   "file_extension": ".py",
   "mimetype": "text/x-python",
   "name": "python",
   "nbconvert_exporter": "python",
   "pygments_lexer": "ipython3",
   "version": "3.5.2"
  }
 },
 "nbformat": 4,
 "nbformat_minor": 2
}
