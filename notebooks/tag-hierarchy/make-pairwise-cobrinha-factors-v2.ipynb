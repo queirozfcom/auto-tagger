{
 "cells": [
  {
   "cell_type": "code",
   "execution_count": 1,
   "metadata": {
    "collapsed": true
   },
   "outputs": [],
   "source": [
    "import csv\n",
    "import os\n",
    "import pickle\n",
    "import re\n",
    "import sys\n",
    "import numpy as np\n",
    "\n",
    "from joblib import Parallel, delayed\n",
    "\n",
    "from difflib import SequenceMatcher,get_close_matches\n",
    "\n",
    "from scipy import spatial\n",
    "\n",
    "from tqdm import *\n",
    "\n",
    "module_path = os.path.abspath(os.path.join('../helpers/'))\n",
    "if module_path not in sys.path:\n",
    "    sys.path.append(module_path)\n",
    "\n",
    "# my stuff in the helpers/ directory\n",
    "import embeddings_helper, files_helper, texts_helper, metrics_helper, tags_helper, cobrinha_helper\n",
    "\n",
    "from cobrinha_helper import get_metrics_for_tag_pair"
   ]
  },
  {
   "cell_type": "code",
   "execution_count": 2,
   "metadata": {
    "collapsed": true
   },
   "outputs": [],
   "source": [
    "PICKLE_ROOT = \"/media/felipe/SSD_VOLUME/auto-tagger/data/tag-hierarchy/\""
   ]
  },
  {
   "cell_type": "code",
   "execution_count": 3,
   "metadata": {
    "collapsed": true
   },
   "outputs": [],
   "source": [
    "tag_vocabulary = pickle.load(open(PICKLE_ROOT+\"tag_vocabulary.p\",\"rb\"))"
   ]
  },
  {
   "cell_type": "code",
   "execution_count": 4,
   "metadata": {
    "collapsed": true
   },
   "outputs": [],
   "source": [
    "sorted_pairwise_similarity_dict = pickle.load(open(PICKLE_ROOT+\"sorted_pairwise_similarity_dict.p\",\"rb\"))"
   ]
  },
  {
   "cell_type": "code",
   "execution_count": 5,
   "metadata": {
    "collapsed": true
   },
   "outputs": [],
   "source": [
    "tag_vectors_index = pickle.load(open(PICKLE_ROOT+\"tag_vectors_index.p\",\"rb\"))"
   ]
  },
  {
   "cell_type": "code",
   "execution_count": 6,
   "metadata": {
    "collapsed": true
   },
   "outputs": [],
   "source": [
    "tag_frequency_index = pickle.load(open(PICKLE_ROOT+\"tag_frequency_index.p\",\"rb\"))"
   ]
  },
  {
   "cell_type": "markdown",
   "metadata": {},
   "source": [
    "### build global similarity index"
   ]
  },
  {
   "cell_type": "code",
   "execution_count": 68,
   "metadata": {},
   "outputs": [],
   "source": [
    "global_similarity_index = dict()\n",
    "\n",
    "for tag in tag_vocabulary:\n",
    "    \n",
    "    similarities_with_current_tag = list()\n",
    "    \n",
    "    for other_tag, similarity_to_other_tag in sorted_pairwise_similarity_dict[tag]:\n",
    "        \n",
    "        if other_tag != tag:\n",
    "            similarities_with_current_tag.append(similarity_to_other_tag)\n",
    "\n",
    "    tag_frequency = tag_frequency_index[tag]        \n",
    "            \n",
    "    global_avg_sim_wrt_tag = np.array(similarities_with_current_tag).mean() / np.log(tag_frequency)\n",
    "    \n",
    "    global_similarity_index[tag] = global_avg_sim_wrt_tag"
   ]
  },
  {
   "cell_type": "code",
   "execution_count": 69,
   "metadata": {
    "collapsed": true
   },
   "outputs": [],
   "source": [
    "sorted_global_similarity_index = dict()\n",
    "as_tpls = [(tag,avg_global_sim) for tag,avg_global_sim in global_similarity_index.items()]\n",
    "sorted_tags_by_global_avg_similarities = sorted(as_tpls, key=lambda tpl:tpl[1],)"
   ]
  },
  {
   "cell_type": "markdown",
   "metadata": {},
   "source": [
    "### most general tags"
   ]
  },
  {
   "cell_type": "code",
   "execution_count": 70,
   "metadata": {
    "collapsed": true
   },
   "outputs": [],
   "source": [
    "sorted_global_similarity_index = dict()\n",
    "as_tpls = [(tag,avg_global_sim) for tag,avg_global_sim in global_similarity_index.items()]\n",
    "sorted_tags_by_global_avg_similarities = sorted(as_tpls, key=lambda tpl:tpl[1],reverse=True )"
   ]
  },
  {
   "cell_type": "code",
   "execution_count": 71,
   "metadata": {},
   "outputs": [
    {
     "data": {
      "text/plain": [
       "[('language-agnostic', 0.098461997477516688),\n",
       " ('.net-4.0', 0.096956342134913359),\n",
       " ('uwp', 0.096089051381918839),\n",
       " ('synchronization', 0.095579031632504044),\n",
       " ('statistics', 0.09505454166976697),\n",
       " ('coding-style', 0.094875445105894532),\n",
       " ('nosql', 0.093511747126850647),\n",
       " ('automation', 0.093280635058997655),\n",
       " ('windows-runtime', 0.092698271847448985),\n",
       " ('nested', 0.091472604414723047),\n",
       " ('formatting', 0.089220839212342098),\n",
       " ('get', 0.089171133091095756),\n",
       " ('network-programming', 0.087998828290756212),\n",
       " ('set', 0.08762864623089385),\n",
       " ('operating-system', 0.087234527345558852),\n",
       " ('design', 0.087185826801526492),\n",
       " ('initialization', 0.087169782389706837),\n",
       " ('website', 0.087059734517938567),\n",
       " ('scripting', 0.086664148146310155),\n",
       " ('com', 0.086475458109207134)]"
      ]
     },
     "execution_count": 71,
     "metadata": {},
     "output_type": "execute_result"
    }
   ],
   "source": [
    "sorted_tags_by_global_avg_similarities[:20]"
   ]
  },
  {
   "cell_type": "markdown",
   "metadata": {},
   "source": [
    "Looks a bit better now... the fact that `language-agnostic` is at the top is a good sign. \n",
    "\n",
    "Nothing can be more generic than that."
   ]
  },
  {
   "cell_type": "code",
   "execution_count": 19,
   "metadata": {
    "collapsed": true
   },
   "outputs": [],
   "source": [
    "def evaluate(a,b):\n",
    "    return get_metrics_for_tag_pair(a,b,tag_vectors_index, sorted_pairwise_similarity_dict, global_similarity_index)"
   ]
  },
  {
   "cell_type": "markdown",
   "metadata": {},
   "source": [
    "> the result is a tuple of the form (difference_of_global_averages, mutual_similarity)\n",
    "\n",
    "positive difference means the first tag is \"more general\" than the second tag (according to our measure)\n"
   ]
  },
  {
   "cell_type": "code",
   "execution_count": 20,
   "metadata": {},
   "outputs": [
    {
     "data": {
      "text/plain": [
       "(-0.0034978322183831859, 0.95254598931613399)"
      ]
     },
     "execution_count": 20,
     "metadata": {},
     "output_type": "execute_result"
    }
   ],
   "source": [
    "# USES hierarchy\n",
    "evaluate('sql','sql-server')"
   ]
  },
  {
   "cell_type": "code",
   "execution_count": 21,
   "metadata": {},
   "outputs": [
    {
     "data": {
      "text/plain": [
       "(-0.007392260101224811, 0.98293809979910707)"
      ]
     },
     "execution_count": 21,
     "metadata": {},
     "output_type": "execute_result"
    }
   ],
   "source": [
    "# IS-A hierarchy\n",
    "evaluate('sql-server','sql-server-2008')"
   ]
  },
  {
   "cell_type": "code",
   "execution_count": 22,
   "metadata": {},
   "outputs": [
    {
     "data": {
      "text/plain": [
       "(-0.014158187837021469, 0.97338151804814499)"
      ]
     },
     "execution_count": 22,
     "metadata": {},
     "output_type": "execute_result"
    }
   ],
   "source": [
    "# IS-A hierarchy\n",
    "evaluate('python','python-3.x')"
   ]
  },
  {
   "cell_type": "code",
   "execution_count": 23,
   "metadata": {},
   "outputs": [
    {
     "data": {
      "text/plain": [
       "(-0.0012258016964297042, 0.97285139543273913)"
      ]
     },
     "execution_count": 23,
     "metadata": {},
     "output_type": "execute_result"
    }
   ],
   "source": [
    "# siblings\n",
    "evaluate('python-2.7','python-3.x')"
   ]
  },
  {
   "cell_type": "code",
   "execution_count": 24,
   "metadata": {},
   "outputs": [
    {
     "data": {
      "text/plain": [
       "(0.0082165382611330759, 0.76230161650880313)"
      ]
     },
     "execution_count": 24,
     "metadata": {},
     "output_type": "execute_result"
    }
   ],
   "source": [
    "# IS-A hierarchy\n",
    "evaluate('database','oracle')"
   ]
  },
  {
   "cell_type": "code",
   "execution_count": 25,
   "metadata": {},
   "outputs": [
    {
     "data": {
      "text/plain": [
       "(0.0026412682182784877, 0.89413843055747877)"
      ]
     },
     "execution_count": 25,
     "metadata": {},
     "output_type": "execute_result"
    }
   ],
   "source": [
    "# USES hierarchy\n",
    "evaluate('ruby','ruby-on-rails')"
   ]
  },
  {
   "cell_type": "code",
   "execution_count": 26,
   "metadata": {},
   "outputs": [
    {
     "data": {
      "text/plain": [
       "(0.025344549669578165, 0.57048883172717779)"
      ]
     },
     "execution_count": 26,
     "metadata": {},
     "output_type": "execute_result"
    }
   ],
   "source": [
    "# IS-A hierarchy\n",
    "evaluate('frameworks','ruby-on-rails')"
   ]
  },
  {
   "cell_type": "code",
   "execution_count": 27,
   "metadata": {},
   "outputs": [
    {
     "data": {
      "text/plain": [
       "(0.032462531874949352, 0.69688410924691535)"
      ]
     },
     "execution_count": 27,
     "metadata": {},
     "output_type": "execute_result"
    }
   ],
   "source": [
    "# PART-OF hierarchy\n",
    "evaluate('web-applications','ruby-on-rails')"
   ]
  },
  {
   "cell_type": "code",
   "execution_count": 28,
   "metadata": {},
   "outputs": [
    {
     "data": {
      "text/plain": [
       "(0.032556606451813921, 0.71642165092562582)"
      ]
     },
     "execution_count": 28,
     "metadata": {},
     "output_type": "execute_result"
    }
   ],
   "source": [
    "# PART-OF hierarchy\n",
    "evaluate('web','ruby-on-rails')"
   ]
  },
  {
   "cell_type": "code",
   "execution_count": 29,
   "metadata": {},
   "outputs": [
    {
     "data": {
      "text/plain": [
       "(9.4074576864569548e-05, 0.93570023662497925)"
      ]
     },
     "execution_count": 29,
     "metadata": {},
     "output_type": "execute_result"
    }
   ],
   "source": [
    "# PART-OF hierarchy\n",
    "evaluate('web','web-applications')"
   ]
  },
  {
   "cell_type": "code",
   "execution_count": 30,
   "metadata": {},
   "outputs": [
    {
     "data": {
      "text/plain": [
       "(-0.031287169465293849, 0.96030815224117505)"
      ]
     },
     "execution_count": 30,
     "metadata": {},
     "output_type": "execute_result"
    }
   ],
   "source": [
    "# IS-A hierarchy\n",
    "evaluate('.net','.net-4.0')"
   ]
  },
  {
   "cell_type": "code",
   "execution_count": 31,
   "metadata": {},
   "outputs": [
    {
     "data": {
      "text/plain": [
       "(-0.0043501447807454546, 0.82370215299345206)"
      ]
     },
     "execution_count": 31,
     "metadata": {},
     "output_type": "execute_result"
    }
   ],
   "source": [
    "# USES hierarchy\n",
    "evaluate('android','android-studio') "
   ]
  },
  {
   "cell_type": "code",
   "execution_count": 32,
   "metadata": {},
   "outputs": [
    {
     "data": {
      "text/plain": [
       "(-0.00062812641264734653, 0.84275196216780723)"
      ]
     },
     "execution_count": 32,
     "metadata": {},
     "output_type": "execute_result"
    }
   ],
   "source": [
    "# PART-OF hierarchy\n",
    "evaluate('asp.net','asp.net-mvc') "
   ]
  },
  {
   "cell_type": "code",
   "execution_count": 33,
   "metadata": {},
   "outputs": [
    {
     "data": {
      "text/plain": [
       "(-0.023854420855456235, 0.96185433698816181)"
      ]
     },
     "execution_count": 33,
     "metadata": {},
     "output_type": "execute_result"
    }
   ],
   "source": [
    "# IS-A hierarchy\n",
    "evaluate('asp.net-mvc','asp.net-mvc-5') "
   ]
  },
  {
   "cell_type": "code",
   "execution_count": 72,
   "metadata": {},
   "outputs": [
    {
     "data": {
      "text/plain": [
       "(-0.0095397746784952192, 0.97239882654272058)"
      ]
     },
     "execution_count": 72,
     "metadata": {},
     "output_type": "execute_result"
    }
   ],
   "source": [
    "# IS-A hierarchy\n",
    "evaluate('asp.net-mvc','asp.net-mvc-4') "
   ]
  },
  {
   "cell_type": "code",
   "execution_count": 34,
   "metadata": {},
   "outputs": [
    {
     "data": {
      "text/plain": [
       "(-0.024482547268103581, 0.80538136703023122)"
      ]
     },
     "execution_count": 34,
     "metadata": {},
     "output_type": "execute_result"
    }
   ],
   "source": [
    "# PART-of hierarchy\n",
    "evaluate('asp.net','asp.net-mvc-5')"
   ]
  },
  {
   "cell_type": "markdown",
   "metadata": {},
   "source": [
    "## what about unrelated stuff?\n",
    "\n",
    "this will probably fluctuate around zero"
   ]
  },
  {
   "cell_type": "code",
   "execution_count": 35,
   "metadata": {},
   "outputs": [
    {
     "data": {
      "text/plain": [
       "(0.0033810052090272671, 0.63315370365888091)"
      ]
     },
     "execution_count": 35,
     "metadata": {},
     "output_type": "execute_result"
    }
   ],
   "source": [
    "evaluate('java','arrays')"
   ]
  },
  {
   "cell_type": "code",
   "execution_count": 36,
   "metadata": {},
   "outputs": [
    {
     "data": {
      "text/plain": [
       "(-0.0088852857207939659, 0.64061660110488106)"
      ]
     },
     "execution_count": 36,
     "metadata": {},
     "output_type": "execute_result"
    }
   ],
   "source": [
    "evaluate('ruby','python-2.7') "
   ]
  },
  {
   "cell_type": "code",
   "execution_count": 37,
   "metadata": {},
   "outputs": [
    {
     "data": {
      "text/plain": [
       "(-0.0014707787135152389, 0.65083198793931007)"
      ]
     },
     "execution_count": 37,
     "metadata": {},
     "output_type": "execute_result"
    }
   ],
   "source": [
    "evaluate('database','python-2.7') "
   ]
  },
  {
   "cell_type": "markdown",
   "metadata": {},
   "source": [
    "## what are the tag pairs that are the best cobrinha parts?"
   ]
  },
  {
   "cell_type": "code",
   "execution_count": 38,
   "metadata": {
    "collapsed": true
   },
   "outputs": [],
   "source": [
    "similarities_to_other_tags = sorted_pairwise_similarity_dict[\"sql\"]"
   ]
  },
  {
   "cell_type": "code",
   "execution_count": 39,
   "metadata": {},
   "outputs": [
    {
     "data": {
      "text/plain": [
       "('sql-server', 0.95254598931613399)"
      ]
     },
     "execution_count": 39,
     "metadata": {},
     "output_type": "execute_result"
    }
   ],
   "source": [
    "similarities_to_other_tags[1]"
   ]
  },
  {
   "cell_type": "code",
   "execution_count": 40,
   "metadata": {
    "collapsed": true
   },
   "outputs": [],
   "source": [
    "lst = sorted_pairwise_similarity_dict.items()"
   ]
  },
  {
   "cell_type": "code",
   "execution_count": 41,
   "metadata": {
    "collapsed": true
   },
   "outputs": [],
   "source": [
    "def make_pairwise_cobrinha_factors_v1(pairwise_similarity_dict):\n",
    "\n",
    "    outgoing_cobrinha_factors_dict = dict()\n",
    "    incoming_cobrinha_factors_dict = dict()\n",
    "\n",
    "\n",
    "    for tag in tag_vocabulary:\n",
    "        outgoing_cobrinha_factors_dict[tag] = list()\n",
    "        incoming_cobrinha_factors_dict[tag] = list()\n",
    "        \n",
    "        \n",
    "    for (tag, similarities_to_other_tags) in tqdm(pairwise_similarity_dict.items()):\n",
    "    \n",
    "        for (other_tag, similarity_to_other_tag) in similarities_to_other_tags:\n",
    "\n",
    "            (avg_avg, mutual_similarity)= evaluate(tag,other_tag)\n",
    "\n",
    "            cobrinha_factor = avg_avg * mutual_similarity\n",
    "            pair = \"{} ->  {}\".format(tag,other_tag)    \n",
    "\n",
    "            outgoing_cobrinha_factors_dict[tag].append( (pair,cobrinha_factor))\n",
    "            incoming_cobrinha_factors_dict[other_tag].append( (pair,cobrinha_factor))    \n",
    "        \n",
    "        \n",
    "    return (outgoing_cobrinha_factors_dict,incoming_cobrinha_factors_dict)"
   ]
  },
  {
   "cell_type": "code",
   "execution_count": 42,
   "metadata": {},
   "outputs": [
    {
     "name": "stderr",
     "output_type": "stream",
     "text": [
      "100%|██████████| 737/737 [00:24<00:00, 29.85it/s]\n"
     ]
    }
   ],
   "source": [
    "outgoing_factors_dict,incoming_factors_dict = make_pairwise_cobrinha_factors_v1(sorted_pairwise_similarity_dict)"
   ]
  },
  {
   "cell_type": "markdown",
   "metadata": {},
   "source": [
    "## each tag, with its most likely child/parent tags in its cobrinha\n",
    "\n",
    "\"parent\" -> \"child\"\n",
    "\n",
    "a leaf/terminal tag has no \"parent\" tag\n",
    "the root tag has no \"parent\" tag"
   ]
  },
  {
   "cell_type": "code",
   "execution_count": 43,
   "metadata": {
    "collapsed": true
   },
   "outputs": [],
   "source": [
    "sorted_outgoing_cobrinha_factors_dict = dict()\n",
    "sorted_incoming_cobrinha_factors_dict = dict()\n",
    "\n",
    "for (tag,similarities) in outgoing_factors_dict.items():\n",
    "    sorted_similarities = sorted(similarities,key=lambda tpl: tpl[1], reverse=True)\n",
    "    \n",
    "    sorted_outgoing_cobrinha_factors_dict[tag] = sorted_similarities\n",
    "    \n",
    "for (tag,similarities) in incoming_factors_dict.items():\n",
    "    sorted_similarities = sorted(similarities,key=lambda tpl: tpl[1], reverse=True)\n",
    "    \n",
    "    sorted_incoming_cobrinha_factors_dict[tag] = sorted_similarities        "
   ]
  },
  {
   "cell_type": "code",
   "execution_count": 44,
   "metadata": {},
   "outputs": [
    {
     "data": {
      "text/plain": [
       "[('uwp ->  android', 0.033255820770293369),\n",
       " ('.net-4.0 ->  android', 0.032828980505127288),\n",
       " ('language-agnostic ->  android', 0.03212580905231719),\n",
       " ('synchronization ->  android', 0.031656875488256644),\n",
       " ('windows-runtime ->  android', 0.030263179386971123),\n",
       " ('automation ->  android', 0.03001170916089678),\n",
       " ('coding-style ->  android', 0.029939229165608178),\n",
       " ('statistics ->  android', 0.028095846639527442),\n",
       " ('nosql ->  android', 0.027848622535994093),\n",
       " ('c#-4.0 ->  android', 0.027773373848560955)]"
      ]
     },
     "execution_count": 44,
     "metadata": {},
     "output_type": "execute_result"
    }
   ],
   "source": [
    "sorted_incoming_cobrinha_factors_dict['android'][:10]"
   ]
  },
  {
   "cell_type": "code",
   "execution_count": 45,
   "metadata": {},
   "outputs": [
    {
     "data": {
      "text/plain": [
       "[('language-agnostic ->  scala', 0.026102490901386395),\n",
       " ('.net-4.0 ->  scala', 0.024385483627414713),\n",
       " ('coding-style ->  scala', 0.024122750565675241),\n",
       " ('synchronization ->  scala', 0.022962513461221277),\n",
       " ('statistics ->  scala', 0.02221887036718953),\n",
       " ('nosql ->  scala', 0.021821106029345162),\n",
       " ('uwp ->  scala', 0.021770658924324535),\n",
       " ('automation ->  scala', 0.021444858232063761),\n",
       " ('functional-programming ->  scala', 0.021090711517254668),\n",
       " ('nested ->  scala', 0.020926731438902418)]"
      ]
     },
     "execution_count": 45,
     "metadata": {},
     "output_type": "execute_result"
    }
   ],
   "source": [
    "sorted_incoming_cobrinha_factors_dict['scala'][:10]"
   ]
  },
  {
   "cell_type": "code",
   "execution_count": 46,
   "metadata": {},
   "outputs": [
    {
     "data": {
      "text/plain": [
       "[('language-agnostic ->  javascript', 0.034945462244093319),\n",
       " ('.net-4.0 ->  javascript', 0.032925406353192632),\n",
       " ('coding-style ->  javascript', 0.032306922098138777),\n",
       " ('uwp ->  javascript', 0.031786574803723384),\n",
       " ('automation ->  javascript', 0.030991900029976489),\n",
       " ('statistics ->  javascript', 0.03081017213264672),\n",
       " ('synchronization ->  javascript', 0.030800982672318161),\n",
       " ('get ->  javascript', 0.029778614103775712),\n",
       " ('nosql ->  javascript', 0.029386082811344028),\n",
       " ('windows-runtime ->  javascript', 0.029203026020183247)]"
      ]
     },
     "execution_count": 46,
     "metadata": {},
     "output_type": "execute_result"
    }
   ],
   "source": [
    "sorted_incoming_cobrinha_factors_dict['javascript'][:10]"
   ]
  },
  {
   "cell_type": "markdown",
   "metadata": {},
   "source": [
    "Note in the above list, that it's nearly the same as the raw top most general tags.\n",
    "\n",
    "It looks like the mutual tag similarity isn't affecting it enough...\n"
   ]
  },
  {
   "cell_type": "markdown",
   "metadata": {},
   "source": [
    "if \"sql\" is a \"good\" parent tag, then the avg of all OUTGOING cobrinha factors should be higher than the average INCOMING cobrinha factors, right?"
   ]
  },
  {
   "cell_type": "code",
   "execution_count": 47,
   "metadata": {},
   "outputs": [
    {
     "name": "stdout",
     "output_type": "stream",
     "text": [
      "average of outgoing factors: -0.006720296365256086 \n",
      "average of incoming factors: 0.006720296365256086\n"
     ]
    }
   ],
   "source": [
    "TAG_NAME='sql'\n",
    "\n",
    "outgoing_factors = list()\n",
    "\n",
    "for descr, factor in sorted_outgoing_cobrinha_factors_dict[TAG_NAME]:\n",
    "    child_tag = descr.split(\"->\")[1].strip()\n",
    "    outgoing_factors.append(factor)\n",
    "    \n",
    "incoming_factors = list()\n",
    "\n",
    "for descr, factor in sorted_incoming_cobrinha_factors_dict[TAG_NAME]:\n",
    "    child_tag = descr.split(\"->\")[0].strip()\n",
    "    incoming_factors.append(factor)\n",
    "       \n",
    "print(\"average of outgoing factors: {} \\naverage of incoming factors: {}\".format(np.array(outgoing_factors).mean(),np.array(incoming_factors).mean()))"
   ]
  },
  {
   "cell_type": "code",
   "execution_count": 48,
   "metadata": {},
   "outputs": [
    {
     "name": "stdout",
     "output_type": "stream",
     "text": [
      "average of outgoing factors: 0.004260296917591758 \n",
      "average of incoming factors: -0.004260296917591758\n"
     ]
    }
   ],
   "source": [
    "TAG_NAME='performance'\n",
    "\n",
    "outgoing_factors = list()\n",
    "\n",
    "for descr, factor in sorted_outgoing_cobrinha_factors_dict[TAG_NAME]:\n",
    "    child_tag = descr.split(\"->\")[1].strip()\n",
    "    outgoing_factors.append(factor)\n",
    "    \n",
    "incoming_factors = list()\n",
    "\n",
    "for descr, factor in sorted_incoming_cobrinha_factors_dict[TAG_NAME]:\n",
    "    child_tag = descr.split(\"->\")[0].strip()\n",
    "    incoming_factors.append(factor)\n",
    "       \n",
    "print(\"average of outgoing factors: {} \\naverage of incoming factors: {}\".format(np.array(outgoing_factors).mean(),np.array(incoming_factors).mean()))"
   ]
  },
  {
   "cell_type": "code",
   "execution_count": 49,
   "metadata": {},
   "outputs": [
    {
     "name": "stdout",
     "output_type": "stream",
     "text": [
      "average of outgoing factors: 0.0067160087015690085 \n",
      "average of incoming factors: -0.0067160087015690085\n"
     ]
    }
   ],
   "source": [
    "TAG_NAME='user-interface'\n",
    "\n",
    "outgoing_factors = list()\n",
    "\n",
    "for descr, factor in sorted_outgoing_cobrinha_factors_dict[TAG_NAME]:\n",
    "    child_tag = descr.split(\"->\")[1].strip()\n",
    "    outgoing_factors.append(factor)\n",
    "    \n",
    "incoming_factors = list()\n",
    "\n",
    "for descr, factor in sorted_incoming_cobrinha_factors_dict[TAG_NAME]:\n",
    "    child_tag = descr.split(\"->\")[0].strip()\n",
    "    incoming_factors.append(factor)\n",
    "       \n",
    "print(\"average of outgoing factors: {} \\naverage of incoming factors: {}\".format(np.array(outgoing_factors).mean(),np.array(incoming_factors).mean()))"
   ]
  },
  {
   "cell_type": "markdown",
   "metadata": {},
   "source": [
    "now let's see whether a reasonably \"bad\" parent tag shows the opposite behaviour."
   ]
  },
  {
   "cell_type": "code",
   "execution_count": 50,
   "metadata": {},
   "outputs": [
    {
     "name": "stdout",
     "output_type": "stream",
     "text": [
      "average of outgoing factors: -0.006735859006789629 \n",
      "average of incoming factors: 0.006735859006789628\n"
     ]
    }
   ],
   "source": [
    "TAG_NAME = 'android-fragments'\n",
    "\n",
    "outgoing_factors = list()\n",
    "\n",
    "for descr, factor in sorted_outgoing_cobrinha_factors_dict[TAG_NAME]:\n",
    "    child_tag = descr.split(\"->\")[1].strip()\n",
    "    outgoing_factors.append(factor)\n",
    "    \n",
    "incoming_factors = list()\n",
    "\n",
    "for descr, factor in sorted_incoming_cobrinha_factors_dict[TAG_NAME]:\n",
    "    child_tag = descr.split(\"->\")[0].strip()\n",
    "    incoming_factors.append(factor)\n",
    "    \n",
    "print(\"average of outgoing factors: {} \\naverage of incoming factors: {}\".format(np.array(outgoing_factors).mean(),np.array(incoming_factors).mean()))    "
   ]
  },
  {
   "cell_type": "markdown",
   "metadata": {},
   "source": [
    "## now let's try to find a triple. two tags B and C that have good cobrinha factor and a third tag A that has good cobrinha factor with tag B and tag C (but cobrinha(A,B) should probably be higher than cobrinha (A,C))\n",
    "\n",
    "\n",
    "A -> B -> C\n",
    "\n",
    "(TAG C is the most specific tag of the three)"
   ]
  },
  {
   "cell_type": "markdown",
   "metadata": {},
   "source": [
    "### let's experiment first"
   ]
  },
  {
   "cell_type": "code",
   "execution_count": 51,
   "metadata": {},
   "outputs": [
    {
     "data": {
      "text/plain": [
       "(0.053286080863990483, 0.046774060959158967)"
      ]
     },
     "execution_count": 51,
     "metadata": {},
     "output_type": "execute_result"
    }
   ],
   "source": [
    "# this is not very good, because numpy is a subset of scipy\n",
    "# so scipy should, in theory, be more general than numpy\n",
    "\n",
    "# perhaps this has to do with the fact that numpy tags are much more common than scipy, and this\n",
    "# causes numpy-tagged documents to have more words, in general, than scipy?\n",
    "\n",
    "global_similarity_index['scipy'],global_similarity_index['numpy']"
   ]
  },
  {
   "cell_type": "markdown",
   "metadata": {},
   "source": [
    "it's bad that 'c#' and things like '.net' and 'design' are at the top **but** 'python' and 'performance' \n",
    "and 'optimization' and 'statistics' at the top are indicative that something is correct"
   ]
  },
  {
   "cell_type": "code",
   "execution_count": 52,
   "metadata": {},
   "outputs": [
    {
     "data": {
      "text/plain": [
       "[('statistics ->  numpy', 0.026144294431562264),\n",
       " ('language-agnostic ->  numpy', 0.025409634596762955),\n",
       " ('coding-style ->  numpy', 0.022193465352248448),\n",
       " ('.net-4.0 ->  numpy', 0.021502378686525738),\n",
       " ('nosql ->  numpy', 0.020871521779075589),\n",
       " ('synchronization ->  numpy', 0.020672158987537412),\n",
       " ('automation ->  numpy', 0.020381120661946174),\n",
       " ('nested ->  numpy', 0.020190065952798208),\n",
       " ('optimization ->  numpy', 0.020172055275786301),\n",
       " ('uwp ->  numpy', 0.019975917963927697)]"
      ]
     },
     "execution_count": 52,
     "metadata": {},
     "output_type": "execute_result"
    }
   ],
   "source": [
    "sorted_incoming_cobrinha_factors_dict['numpy'][:10]"
   ]
  },
  {
   "cell_type": "code",
   "execution_count": 53,
   "metadata": {},
   "outputs": [
    {
     "data": {
      "text/plain": [
       "[('language-agnostic ->  statistics', 0.0027956892721835353),\n",
       " ('.net-4.0 ->  statistics', 0.0013541776950901935),\n",
       " ('uwp ->  statistics', 0.00068569451373005029),\n",
       " ('synchronization ->  statistics', 0.00037100443914509635),\n",
       " ('coding-style ->  statistics', -0.00013234523485511731),\n",
       " ('nosql ->  statistics', -0.0011667871013878717),\n",
       " ('automation ->  statistics', -0.0012953492461209991),\n",
       " ('windows-runtime ->  statistics', -0.0015575956369949706),\n",
       " ('nested ->  statistics', -0.0024627804738334815),\n",
       " ('get ->  statistics', -0.0039243416415011374)]"
      ]
     },
     "execution_count": 53,
     "metadata": {},
     "output_type": "execute_result"
    }
   ],
   "source": [
    "sorted_incoming_cobrinha_factors_dict['statistics'][:10]"
   ]
  },
  {
   "cell_type": "markdown",
   "metadata": {},
   "source": [
    "### let's try some triples, starting with tags very low in the hierarchy (i.e. low generality, high specificity)"
   ]
  },
  {
   "cell_type": "code",
   "execution_count": 54,
   "metadata": {},
   "outputs": [
    {
     "data": {
      "text/plain": [
       "[('gulp', 0.033517105895289334),\n",
       " ('git', 0.037247930783205624),\n",
       " ('docker', 0.037816760959739584),\n",
       " ('boost', 0.038639510721142301),\n",
       " ('pip', 0.039126334005130471),\n",
       " ('paypal', 0.03999486360695359),\n",
       " ('npm', 0.040452189118261483),\n",
       " ('socket.io', 0.040635671308347422),\n",
       " ('d3.js', 0.040972176172355025),\n",
       " ('.htaccess', 0.041231543801691181)]"
      ]
     },
     "execution_count": 54,
     "metadata": {},
     "output_type": "execute_result"
    }
   ],
   "source": [
    "sorted(global_similarity_index.items(),key=lambda tpl: tpl[1])[:10]"
   ]
  },
  {
   "cell_type": "code",
   "execution_count": 56,
   "metadata": {},
   "outputs": [
    {
     "data": {
      "text/plain": [
       "[('.net-4.0 ->  gulp', 0.016599449254427353),\n",
       " ('automation ->  gulp', 0.016485782138995504),\n",
       " ('uwp ->  gulp', 0.016242511768419902),\n",
       " ('language-agnostic ->  gulp', 0.015989805969127489),\n",
       " ('synchronization ->  gulp', 0.015460871916904513),\n",
       " ('web ->  gulp', 0.015382110713190551),\n",
       " ('coding-style ->  gulp', 0.015304935995178718),\n",
       " ('windows-runtime ->  gulp', 0.015062820224054245),\n",
       " ('compilation ->  gulp', 0.014626718092489372),\n",
       " ('web-applications ->  gulp', 0.014623286128637076)]"
      ]
     },
     "execution_count": 56,
     "metadata": {},
     "output_type": "execute_result"
    }
   ],
   "source": [
    "sorted_incoming_cobrinha_factors_dict['gulp'][:10]"
   ]
  },
  {
   "cell_type": "code",
   "execution_count": 57,
   "metadata": {},
   "outputs": [
    {
     "data": {
      "text/plain": [
       "[('language-agnostic ->  .net-4.0', 0.0011616854022605597),\n",
       " ('uwp ->  .net-4.0', -0.0006850457487796004),\n",
       " ('synchronization ->  .net-4.0', -0.0010456057081472793),\n",
       " ('statistics ->  .net-4.0', -0.0013541776950901935),\n",
       " ('coding-style ->  .net-4.0', -0.0015589990767072793),\n",
       " ('nosql ->  .net-4.0', -0.0024783486233709239),\n",
       " ('automation ->  .net-4.0', -0.0027972527123922395),\n",
       " ('windows-runtime ->  .net-4.0', -0.0033456671146546925),\n",
       " ('nested ->  .net-4.0', -0.0037704357183631059),\n",
       " ('formatting ->  .net-4.0', -0.0054081657389775288)]"
      ]
     },
     "execution_count": 57,
     "metadata": {},
     "output_type": "execute_result"
    }
   ],
   "source": [
    "sorted_incoming_cobrinha_factors_dict['.net-4.0'][:10]"
   ]
  },
  {
   "cell_type": "markdown",
   "metadata": {},
   "source": [
    "so we get **\"language-agnostic\" -> \".net-4.0\" -> \"gulp\"**, which is clearly not good"
   ]
  },
  {
   "cell_type": "code",
   "execution_count": 58,
   "metadata": {},
   "outputs": [
    {
     "data": {
      "text/plain": [
       "[('nosql ->  hive', 0.019191633551789385),\n",
       " ('language-agnostic ->  hive', 0.018203759127021293),\n",
       " ('statistics ->  hive', 0.018167193506568754),\n",
       " ('.net-4.0 ->  hive', 0.017677818308878615),\n",
       " ('synchronization ->  hive', 0.01741565585055339),\n",
       " ('automation ->  hive', 0.01694153021714228),\n",
       " ('coding-style ->  hive', 0.016339279597100461),\n",
       " ('uwp ->  hive', 0.015925589012948885),\n",
       " ('c#-4.0 ->  hive', 0.015859551683684761),\n",
       " ('formatting ->  hive', 0.015783154119934389)]"
      ]
     },
     "execution_count": 58,
     "metadata": {},
     "output_type": "execute_result"
    }
   ],
   "source": [
    "sorted_incoming_cobrinha_factors_dict['hive'][:10]"
   ]
  },
  {
   "cell_type": "code",
   "execution_count": 59,
   "metadata": {},
   "outputs": [
    {
     "data": {
      "text/plain": [
       "[('language-agnostic ->  nosql', 0.0038976107070543991),\n",
       " ('.net-4.0 ->  nosql', 0.0024783486233709239),\n",
       " ('uwp ->  nosql', 0.0017244171732186497),\n",
       " ('synchronization ->  nosql', 0.0015366062376343671),\n",
       " ('statistics ->  nosql', 0.0011667871013878717),\n",
       " ('coding-style ->  nosql', 0.00098854157898503278),\n",
       " ('automation ->  nosql', -0.00016680776304761632),\n",
       " ('windows-runtime ->  nosql', -0.00054410898647803702),\n",
       " ('nested ->  nosql', -0.0014231371282940801),\n",
       " ('formatting ->  nosql', -0.0029393713112211249)]"
      ]
     },
     "execution_count": 59,
     "metadata": {},
     "output_type": "execute_result"
    }
   ],
   "source": [
    "sorted_incoming_cobrinha_factors_dict['nosql'][:10]"
   ]
  },
  {
   "cell_type": "markdown",
   "metadata": {},
   "source": [
    "so we get **\"language-agnoistic\" -> \"nosql\" -> \"hive\"**, which makes a little sense"
   ]
  },
  {
   "cell_type": "code",
   "execution_count": 60,
   "metadata": {},
   "outputs": [
    {
     "data": {
      "text/plain": [
       "[('.net-4.0 ->  docker', 0.020679547392247432),\n",
       " ('language-agnostic ->  docker', 0.0201275736808211),\n",
       " ('automation ->  docker', 0.020078795113008082),\n",
       " ('uwp ->  docker', 0.019363924027328321),\n",
       " ('synchronization ->  docker', 0.019355503886943844),\n",
       " ('nosql ->  docker', 0.018061271760883738),\n",
       " ('web ->  docker', 0.01802983121033877),\n",
       " ('windows-runtime ->  docker', 0.017985388209507125),\n",
       " ('statistics ->  docker', 0.017955001046870988),\n",
       " ('coding-style ->  docker', 0.017705687113756592)]"
      ]
     },
     "execution_count": 60,
     "metadata": {},
     "output_type": "execute_result"
    }
   ],
   "source": [
    "sorted_incoming_cobrinha_factors_dict['docker'][:10]"
   ]
  },
  {
   "cell_type": "code",
   "execution_count": 61,
   "metadata": {},
   "outputs": [
    {
     "data": {
      "text/plain": [
       "[('.net-4.0 ->  .net', 0.030045323898072848),\n",
       " ('language-agnostic ->  .net', 0.02718325010248299),\n",
       " ('uwp ->  .net', 0.025229746901614034),\n",
       " ('synchronization ->  .net', 0.024492442970529237),\n",
       " ('coding-style ->  .net', 0.023516991472811138),\n",
       " ('statistics ->  .net', 0.022574322663960731),\n",
       " ('automation ->  .net', 0.022481233666942352),\n",
       " ('windows-runtime ->  .net', 0.022344246154517307),\n",
       " ('nosql ->  .net', 0.02199700553943125),\n",
       " ('c#-4.0 ->  .net', 0.019510675442893647)]"
      ]
     },
     "execution_count": 61,
     "metadata": {},
     "output_type": "execute_result"
    }
   ],
   "source": [
    "sorted_incoming_cobrinha_factors_dict['.net'][:10]"
   ]
  },
  {
   "cell_type": "markdown",
   "metadata": {},
   "source": [
    "so we get \".net-4.0\" -> \".net\" -> \"docker\", which is also clearly not good\n",
    "\n",
    "(.net-4.0 and .net are the wrong way around)"
   ]
  },
  {
   "cell_type": "markdown",
   "metadata": {},
   "source": [
    "> For version 2, I think the raw tag generality is a lot better, but now things like \"asp-net-mvc\" being LESS general than \"asp-net-mvc-5\" looks bad.\n",
    "\n",
    "I think the log damping was a good step but maybe we need a function that dampens high values but doesn't punish small values too much so that the above doesn't happen.\n"
   ]
  },
  {
   "cell_type": "code",
   "execution_count": null,
   "metadata": {
    "collapsed": true
   },
   "outputs": [],
   "source": []
  }
 ],
 "metadata": {
  "kernelspec": {
   "display_name": "Global TF Kernel (Python 3)",
   "language": "python",
   "name": "global-tf-python-3"
  },
  "language_info": {
   "codemirror_mode": {
    "name": "ipython",
    "version": 3
   },
   "file_extension": ".py",
   "mimetype": "text/x-python",
   "name": "python",
   "nbconvert_exporter": "python",
   "pygments_lexer": "ipython3",
   "version": "3.5.2"
  }
 },
 "nbformat": 4,
 "nbformat_minor": 2
}
