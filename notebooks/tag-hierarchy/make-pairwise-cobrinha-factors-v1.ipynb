{
 "cells": [
  {
   "cell_type": "code",
   "execution_count": 1,
   "metadata": {
    "collapsed": true
   },
   "outputs": [],
   "source": [
    "import csv\n",
    "import os\n",
    "import pickle\n",
    "import re\n",
    "import sys\n",
    "import numpy as np\n",
    "\n",
    "from joblib import Parallel, delayed\n",
    "\n",
    "from difflib import SequenceMatcher,get_close_matches\n",
    "\n",
    "from scipy import spatial\n",
    "\n",
    "from tqdm import *\n",
    "\n",
    "module_path = os.path.abspath(os.path.join('../helpers/'))\n",
    "if module_path not in sys.path:\n",
    "    sys.path.append(module_path)\n",
    "\n",
    "# my stuff in the helpers/ directory\n",
    "import embeddings_helper, files_helper, texts_helper, metrics_helper, tags_helper, cobrinha_helper\n",
    "\n",
    "from cobrinha_helper import get_metrics_for_tag_pair"
   ]
  },
  {
   "cell_type": "code",
   "execution_count": 2,
   "metadata": {
    "collapsed": true
   },
   "outputs": [],
   "source": [
    "PICKLE_ROOT = \"/media/felipe/SSD_VOLUME/auto-tagger/data/tag-hierarchy/\""
   ]
  },
  {
   "cell_type": "code",
   "execution_count": 3,
   "metadata": {},
   "outputs": [],
   "source": [
    "tag_vocabulary = pickle.load(open(PICKLE_ROOT+\"tag_vocabulary.p\",\"rb\"))"
   ]
  },
  {
   "cell_type": "code",
   "execution_count": 4,
   "metadata": {
    "collapsed": true
   },
   "outputs": [],
   "source": [
    "sorted_pairwise_similarity_dict = pickle.load(open(PICKLE_ROOT+\"sorted_pairwise_similarity_dict.p\",\"rb\"))"
   ]
  },
  {
   "cell_type": "code",
   "execution_count": 5,
   "metadata": {
    "collapsed": true
   },
   "outputs": [],
   "source": [
    "tag_vectors_index = pickle.load(open(PICKLE_ROOT+\"tag_vectors_index.p\",\"rb\"))"
   ]
  },
  {
   "cell_type": "markdown",
   "metadata": {},
   "source": [
    "### build global similarity index"
   ]
  },
  {
   "cell_type": "code",
   "execution_count": 6,
   "metadata": {
    "collapsed": true
   },
   "outputs": [],
   "source": [
    "global_similarity_index = dict()\n",
    "\n",
    "for tag in tag_vocabulary:\n",
    "    \n",
    "    similarities_with_current_tag = list()\n",
    "    \n",
    "    for other_tag, similarity_to_other_tag in sorted_pairwise_similarity_dict[tag]:\n",
    "        \n",
    "        if other_tag != tag:\n",
    "            similarities_with_current_tag.append(similarity_to_other_tag)\n",
    "\n",
    "    global_avg_sim_wrt_tag = np.array(similarities_with_current_tag).mean()\n",
    "    \n",
    "    global_similarity_index[tag] = global_avg_sim_wrt_tag"
   ]
  },
  {
   "cell_type": "code",
   "execution_count": 7,
   "metadata": {
    "collapsed": true
   },
   "outputs": [],
   "source": [
    "sorted_global_similarity_index = dict()\n",
    "as_tpls = [(tag,avg_global_sim) for tag,avg_global_sim in global_similarity_index.items()]\n",
    "sorted_tags_by_global_avg_similarities = sorted(as_tpls, key=lambda tpl:tpl[1] )"
   ]
  },
  {
   "cell_type": "code",
   "execution_count": 8,
   "metadata": {},
   "outputs": [
    {
     "data": {
      "text/plain": [
       "[('gulp', 0.19527066254503755),\n",
       " ('pip', 0.21634628933565575),\n",
       " ('vagrant', 0.23903271161456216),\n",
       " ('ckeditor', 0.23906470957447498),\n",
       " ('sbt', 0.2395941030817981),\n",
       " ('recyclerview', 0.240645562610522),\n",
       " ('socket.io', 0.24387152236585527),\n",
       " ('npm', 0.2501623604716901),\n",
       " ('docker', 0.25114799860316461),\n",
       " ('gem', 0.25210788788163307),\n",
       " ('webpack', 0.25273662633079658),\n",
       " ('hive', 0.25340772779634463),\n",
       " ('boost', 0.25453970942388382),\n",
       " ('tensorflow', 0.25511990598826478),\n",
       " ('rubygems', 0.25631605934988944),\n",
       " ('paypal', 0.25804881791810436),\n",
       " ('gdb', 0.26075799247517195),\n",
       " ('gruntjs', 0.26333284945243524),\n",
       " ('jqgrid', 0.26348713577539085),\n",
       " ('uicollectionview', 0.26389225109749653)]"
      ]
     },
     "execution_count": 8,
     "metadata": {},
     "output_type": "execute_result"
    }
   ],
   "source": [
    "sorted_tags_by_global_avg_similarities[:20]"
   ]
  },
  {
   "cell_type": "markdown",
   "metadata": {},
   "source": [
    "### most general tags"
   ]
  },
  {
   "cell_type": "code",
   "execution_count": 9,
   "metadata": {
    "collapsed": true
   },
   "outputs": [],
   "source": [
    "sorted_global_similarity_index = dict()\n",
    "as_tpls = [(tag,avg_global_sim) for tag,avg_global_sim in global_similarity_index.items()]\n",
    "sorted_tags_by_global_avg_similarities = sorted(as_tpls, key=lambda tpl:tpl[1],reverse=True )"
   ]
  },
  {
   "cell_type": "code",
   "execution_count": 10,
   "metadata": {},
   "outputs": [
    {
     "data": {
      "text/plain": [
       "[('c#', 0.60393332042983183),\n",
       " ('.net', 0.59913818075582181),\n",
       " ('c#-4.0', 0.58743554183478974),\n",
       " ('web', 0.58263167756894441),\n",
       " ('design', 0.57053636477186953),\n",
       " ('performance', 0.56889648744908738),\n",
       " ('optimization', 0.56422751980785046),\n",
       " ('javascript', 0.5601175189768971),\n",
       " ('user-interface', 0.55934441416543368),\n",
       " ('cocoa', 0.55806260270253794),\n",
       " ('web-applications', 0.55782925701871977),\n",
       " ('java', 0.55779187068343317),\n",
       " ('.net-4.0', 0.55713084251874179),\n",
       " ('dynamic', 0.55689723683270642),\n",
       " ('language-agnostic', 0.55481263969358785),\n",
       " ('security', 0.55287751783657502),\n",
       " ('php', 0.5524340257056598),\n",
       " ('asp.net', 0.55056913493752191),\n",
       " ('automation', 0.54957631362077564),\n",
       " ('ios', 0.5439883533841402)]"
      ]
     },
     "execution_count": 10,
     "metadata": {},
     "output_type": "execute_result"
    }
   ],
   "source": [
    "sorted_tags_by_global_avg_similarities[:20]"
   ]
  },
  {
   "cell_type": "markdown",
   "metadata": {},
   "source": [
    "note that tags such as \"web\", \"performance\", \"design\", \"security\" and \"user-interface\" are **nowhere near** the top assigned tags on SO, but they show up here... and it makes sense because they're very general indeed"
   ]
  },
  {
   "cell_type": "code",
   "execution_count": 11,
   "metadata": {
    "collapsed": true
   },
   "outputs": [],
   "source": [
    "def evaluate(a,b):\n",
    "    return get_metrics_for_tag_pair(a,b,tag_vectors_index, sorted_pairwise_similarity_dict, global_similarity_index)"
   ]
  },
  {
   "cell_type": "markdown",
   "metadata": {},
   "source": [
    "> the result is a tuple of the form (difference_of_global_averages, mutual_similarity)\n",
    "\n",
    "positive difference means the first tag is \"more general\" than the second tag (according to our measure)\n"
   ]
  },
  {
   "cell_type": "code",
   "execution_count": 12,
   "metadata": {},
   "outputs": [
    {
     "data": {
      "text/plain": [
       "(0.0028483713477022166, 0.95254598931613399)"
      ]
     },
     "execution_count": 12,
     "metadata": {},
     "output_type": "execute_result"
    }
   ],
   "source": [
    "# USES hierarchy\n",
    "evaluate('sql','sql-server')"
   ]
  },
  {
   "cell_type": "code",
   "execution_count": 13,
   "metadata": {},
   "outputs": [
    {
     "data": {
      "text/plain": [
       "(0.019295938046841321, 0.98293809979910707)"
      ]
     },
     "execution_count": 13,
     "metadata": {},
     "output_type": "execute_result"
    }
   ],
   "source": [
    "# IS-A hierarchy\n",
    "evaluate('sql-server','sql-server-2008')"
   ]
  },
  {
   "cell_type": "code",
   "execution_count": 14,
   "metadata": {},
   "outputs": [
    {
     "data": {
      "text/plain": [
       "(0.030133297622367938, 0.97338151804814499)"
      ]
     },
     "execution_count": 14,
     "metadata": {},
     "output_type": "execute_result"
    }
   ],
   "source": [
    "# IS-A hierarchy\n",
    "evaluate('python','python-3.x')"
   ]
  },
  {
   "cell_type": "code",
   "execution_count": 15,
   "metadata": {},
   "outputs": [
    {
     "data": {
      "text/plain": [
       "(0.0038214584489413284, 0.97285139543273913)"
      ]
     },
     "execution_count": 15,
     "metadata": {},
     "output_type": "execute_result"
    }
   ],
   "source": [
    "# siblings\n",
    "evaluate('python-2.7','python-3.x')"
   ]
  },
  {
   "cell_type": "code",
   "execution_count": 16,
   "metadata": {},
   "outputs": [
    {
     "data": {
      "text/plain": [
       "(0.093997495495894812, 0.76230161650880313)"
      ]
     },
     "execution_count": 16,
     "metadata": {},
     "output_type": "execute_result"
    }
   ],
   "source": [
    "# IS-A hierarchy\n",
    "evaluate('database','oracle')"
   ]
  },
  {
   "cell_type": "code",
   "execution_count": 17,
   "metadata": {},
   "outputs": [
    {
     "data": {
      "text/plain": [
       "(0.0005084793071781224, 0.89413843055747877)"
      ]
     },
     "execution_count": 17,
     "metadata": {},
     "output_type": "execute_result"
    }
   ],
   "source": [
    "# USES hierarchy\n",
    "evaluate('ruby','ruby-on-rails')"
   ]
  },
  {
   "cell_type": "code",
   "execution_count": 18,
   "metadata": {},
   "outputs": [
    {
     "data": {
      "text/plain": [
       "(-0.029689993357889966, 0.57048883172717779)"
      ]
     },
     "execution_count": 18,
     "metadata": {},
     "output_type": "execute_result"
    }
   ],
   "source": [
    "# IS-A hierarchy\n",
    "evaluate('frameworks','ruby-on-rails')"
   ]
  },
  {
   "cell_type": "code",
   "execution_count": 19,
   "metadata": {},
   "outputs": [
    {
     "data": {
      "text/plain": [
       "(0.061193973521479372, 0.69688410924691535)"
      ]
     },
     "execution_count": 19,
     "metadata": {},
     "output_type": "execute_result"
    }
   ],
   "source": [
    "# PART-OF hierarchy\n",
    "evaluate('web-applications','ruby-on-rails')"
   ]
  },
  {
   "cell_type": "code",
   "execution_count": 20,
   "metadata": {},
   "outputs": [
    {
     "data": {
      "text/plain": [
       "(0.085996394071704008, 0.71642165092562582)"
      ]
     },
     "execution_count": 20,
     "metadata": {},
     "output_type": "execute_result"
    }
   ],
   "source": [
    "# PART-OF hierarchy\n",
    "evaluate('web','ruby-on-rails')"
   ]
  },
  {
   "cell_type": "code",
   "execution_count": 21,
   "metadata": {},
   "outputs": [
    {
     "data": {
      "text/plain": [
       "(0.024802420550224635, 0.93570023662497925)"
      ]
     },
     "execution_count": 21,
     "metadata": {},
     "output_type": "execute_result"
    }
   ],
   "source": [
    "# PART-OF hierarchy\n",
    "evaluate('web','web-applications')"
   ]
  },
  {
   "cell_type": "code",
   "execution_count": 22,
   "metadata": {},
   "outputs": [
    {
     "data": {
      "text/plain": [
       "(0.042007338237080027, 0.96030815224117505)"
      ]
     },
     "execution_count": 22,
     "metadata": {},
     "output_type": "execute_result"
    }
   ],
   "source": [
    "# IS-A hierarchy\n",
    "evaluate('.net','.net-4.0')"
   ]
  },
  {
   "cell_type": "code",
   "execution_count": 23,
   "metadata": {},
   "outputs": [
    {
     "data": {
      "text/plain": [
       "(0.12799580440187042, 0.82370215299345206)"
      ]
     },
     "execution_count": 23,
     "metadata": {},
     "output_type": "execute_result"
    }
   ],
   "source": [
    "# USES hierarchy\n",
    "evaluate('android','android-studio') "
   ]
  },
  {
   "cell_type": "code",
   "execution_count": 24,
   "metadata": {},
   "outputs": [
    {
     "data": {
      "text/plain": [
       "(0.037485702123526088, 0.84275196216780723)"
      ]
     },
     "execution_count": 24,
     "metadata": {},
     "output_type": "execute_result"
    }
   ],
   "source": [
    "# PART-OF hierarchy\n",
    "evaluate('asp.net','asp.net-mvc') "
   ]
  },
  {
   "cell_type": "code",
   "execution_count": 25,
   "metadata": {},
   "outputs": [
    {
     "data": {
      "text/plain": [
       "(0.011575250312908847, 0.96185433698816181)"
      ]
     },
     "execution_count": 25,
     "metadata": {},
     "output_type": "execute_result"
    }
   ],
   "source": [
    "# IS-A hierarchy\n",
    "evaluate('asp.net-mvc','asp.net-mvc-5') "
   ]
  },
  {
   "cell_type": "code",
   "execution_count": 26,
   "metadata": {},
   "outputs": [
    {
     "data": {
      "text/plain": [
       "(0.049060952436434935, 0.80538136703023122)"
      ]
     },
     "execution_count": 26,
     "metadata": {},
     "output_type": "execute_result"
    }
   ],
   "source": [
    "# PART-of hierarchy\n",
    "evaluate('asp.net','asp.net-mvc-5')"
   ]
  },
  {
   "cell_type": "markdown",
   "metadata": {},
   "source": [
    "## what about unrelated stuff?\n",
    "\n",
    "this will probably fluctuate around zero"
   ]
  },
  {
   "cell_type": "code",
   "execution_count": 27,
   "metadata": {},
   "outputs": [
    {
     "data": {
      "text/plain": [
       "(0.12109613945695896, 0.63315370365888091)"
      ]
     },
     "execution_count": 27,
     "metadata": {},
     "output_type": "execute_result"
    }
   ],
   "source": [
    "evaluate('java','arrays')"
   ]
  },
  {
   "cell_type": "code",
   "execution_count": 28,
   "metadata": {},
   "outputs": [
    {
     "data": {
      "text/plain": [
       "(-0.011485884854176454, 0.64061660110488106)"
      ]
     },
     "execution_count": 28,
     "metadata": {},
     "output_type": "execute_result"
    }
   ],
   "source": [
    "evaluate('ruby','python-2.7') "
   ]
  },
  {
   "cell_type": "code",
   "execution_count": 29,
   "metadata": {},
   "outputs": [
    {
     "data": {
      "text/plain": [
       "(0.031984013568033376, 0.65083198793931007)"
      ]
     },
     "execution_count": 29,
     "metadata": {},
     "output_type": "execute_result"
    }
   ],
   "source": [
    "evaluate('database','python-2.7') "
   ]
  },
  {
   "cell_type": "markdown",
   "metadata": {},
   "source": [
    "## what are the tag pairs that are the best cobrinha parts?"
   ]
  },
  {
   "cell_type": "code",
   "execution_count": 30,
   "metadata": {
    "collapsed": true
   },
   "outputs": [],
   "source": [
    "similarities_to_other_tags = sorted_pairwise_similarity_dict[\"sql\"]"
   ]
  },
  {
   "cell_type": "code",
   "execution_count": 31,
   "metadata": {},
   "outputs": [
    {
     "data": {
      "text/plain": [
       "('sql-server', 0.95254598931613399)"
      ]
     },
     "execution_count": 31,
     "metadata": {},
     "output_type": "execute_result"
    }
   ],
   "source": [
    "similarities_to_other_tags[1]"
   ]
  },
  {
   "cell_type": "code",
   "execution_count": 32,
   "metadata": {
    "collapsed": true
   },
   "outputs": [],
   "source": [
    "lst = sorted_pairwise_similarity_dict.items()"
   ]
  },
  {
   "cell_type": "code",
   "execution_count": 33,
   "metadata": {
    "collapsed": true
   },
   "outputs": [],
   "source": [
    "def make_pairwise_cobrinha_factors_v1(pairwise_similarity_dict):\n",
    "\n",
    "    outgoing_cobrinha_factors_dict = dict()\n",
    "    incoming_cobrinha_factors_dict = dict()\n",
    "\n",
    "\n",
    "    for tag in tag_vocabulary:\n",
    "        outgoing_cobrinha_factors_dict[tag] = list()\n",
    "        incoming_cobrinha_factors_dict[tag] = list()\n",
    "        \n",
    "        \n",
    "    for (tag, similarities_to_other_tags) in tqdm(pairwise_similarity_dict.items()):\n",
    "    \n",
    "        for (other_tag, similarity_to_other_tag) in similarities_to_other_tags:\n",
    "\n",
    "            (avg_avg, mutual_similarity)= evaluate(tag,other_tag)\n",
    "\n",
    "            cobrinha_factor = avg_avg * mutual_similarity\n",
    "            pair = \"{} ->  {}\".format(tag,other_tag)    \n",
    "\n",
    "            outgoing_cobrinha_factors_dict[tag].append( (pair,cobrinha_factor))\n",
    "            incoming_cobrinha_factors_dict[other_tag].append( (pair,cobrinha_factor))    \n",
    "        \n",
    "        \n",
    "    return (outgoing_cobrinha_factors_dict,incoming_cobrinha_factors_dict)"
   ]
  },
  {
   "cell_type": "code",
   "execution_count": 34,
   "metadata": {},
   "outputs": [
    {
     "name": "stderr",
     "output_type": "stream",
     "text": [
      "100%|██████████| 737/737 [00:24<00:00, 29.93it/s]\n"
     ]
    }
   ],
   "source": [
    "outgoing_factors_dict,incoming_factors_dict = make_pairwise_cobrinha_factors_v1(sorted_pairwise_similarity_dict)"
   ]
  },
  {
   "cell_type": "markdown",
   "metadata": {},
   "source": [
    "## each tag, with its most likely child/parent tags in its cobrinha\n",
    "\n",
    "\"parent\" -> \"child\"\n",
    "\n",
    "a leaf/terminal tag has no \"parent\" tag\n",
    "the root tag has no \"parent\" tag"
   ]
  },
  {
   "cell_type": "code",
   "execution_count": 38,
   "metadata": {
    "collapsed": true
   },
   "outputs": [],
   "source": [
    "sorted_outgoing_cobrinha_factors_dict = dict()\n",
    "sorted_incoming_cobrinha_factors_dict = dict()\n",
    "\n",
    "for (tag,similarities) in outgoing_factors_dict.items():\n",
    "    sorted_similarities = sorted(similarities,key=lambda tpl: tpl[1], reverse=True)\n",
    "    \n",
    "    sorted_outgoing_cobrinha_factors_dict[tag] = sorted_similarities\n",
    "    \n",
    "for (tag,similarities) in incoming_factors_dict.items():\n",
    "    sorted_similarities = sorted(similarities,key=lambda tpl: tpl[1], reverse=True)\n",
    "    \n",
    "    sorted_incoming_cobrinha_factors_dict[tag] = sorted_similarities        "
   ]
  },
  {
   "cell_type": "code",
   "execution_count": 47,
   "metadata": {},
   "outputs": [
    {
     "data": {
      "text/plain": [
       "[('c# ->  android', 0.069443708768014006),\n",
       " ('.net ->  android', 0.063583917605022938),\n",
       " ('c#-4.0 ->  android', 0.055285809691326973),\n",
       " ('web ->  android', 0.050111929669495701),\n",
       " ('design ->  android', 0.040999492252817883),\n",
       " ('performance ->  android', 0.038999282076389336),\n",
       " ('java ->  android', 0.035541515646188314),\n",
       " ('user-interface ->  android', 0.035157020736310822),\n",
       " ('optimization ->  android', 0.034164527914380315),\n",
       " ('cocoa ->  android', 0.031956620730637791)]"
      ]
     },
     "execution_count": 47,
     "metadata": {},
     "output_type": "execute_result"
    }
   ],
   "source": [
    "sorted_incoming_cobrinha_factors_dict['android'][:10]"
   ]
  },
  {
   "cell_type": "code",
   "execution_count": 50,
   "metadata": {},
   "outputs": [
    {
     "data": {
      "text/plain": [
       "[('c# ->  scala', 0.12305054476325752),\n",
       " ('.net ->  scala', 0.11701096947596533),\n",
       " ('c#-4.0 ->  scala', 0.11064242595402106),\n",
       " ('web ->  scala', 0.097594288451952643),\n",
       " ('design ->  scala', 0.095809983801927984),\n",
       " ('java ->  scala', 0.095203822441709829),\n",
       " ('performance ->  scala', 0.094615661060767561),\n",
       " ('optimization ->  scala', 0.093029182173753652),\n",
       " ('dynamic ->  scala', 0.08737851388859591),\n",
       " ('language-agnostic ->  scala', 0.086275570695435164)]"
      ]
     },
     "execution_count": 50,
     "metadata": {},
     "output_type": "execute_result"
    }
   ],
   "source": [
    "sorted_incoming_cobrinha_factors_dict['scala'][:10]"
   ]
  },
  {
   "cell_type": "code",
   "execution_count": 49,
   "metadata": {},
   "outputs": [
    {
     "data": {
      "text/plain": [
       "[('c# ->  javascript', 0.035512134292219548),\n",
       " ('.net ->  javascript', 0.030833022041302956),\n",
       " ('c#-4.0 ->  javascript', 0.021551564800825197),\n",
       " ('web ->  javascript', 0.018789550178211128),\n",
       " ('design ->  javascript', 0.0078801601177236145),\n",
       " ('performance ->  javascript', 0.0067050583752320632),\n",
       " ('optimization ->  javascript', 0.0031506925748634087),\n",
       " ('user-interface ->  javascript', -0.00058418204873059349),\n",
       " ('cocoa ->  javascript', -0.0015390447421814348),\n",
       " ('java ->  javascript', -0.0016300551610532099)]"
      ]
     },
     "execution_count": 49,
     "metadata": {},
     "output_type": "execute_result"
    }
   ],
   "source": [
    "sorted_incoming_cobrinha_factors_dict['javascript'][:10]"
   ]
  },
  {
   "cell_type": "markdown",
   "metadata": {},
   "source": [
    "Note in the above list, that it's nearly the same as the raw top most general tags.\n",
    "\n",
    "It looks like the mutual tag similarity isn't affecting it enough...\n"
   ]
  },
  {
   "cell_type": "markdown",
   "metadata": {},
   "source": [
    "if \"sql\" is a \"good\" parent tag, then the avg of all OUTGOING cobrinha factors should be higher than the average INCOMING cobrinha factors, right?"
   ]
  },
  {
   "cell_type": "code",
   "execution_count": 41,
   "metadata": {},
   "outputs": [
    {
     "name": "stdout",
     "output_type": "stream",
     "text": [
      "average of outgoing factors: 0.031799859384609795 \n",
      "average of incoming factors: -0.031799859384609795\n"
     ]
    }
   ],
   "source": [
    "TAG_NAME='sql'\n",
    "\n",
    "outgoing_factors = list()\n",
    "\n",
    "for descr, factor in sorted_outgoing_cobrinha_factors_dict[TAG_NAME]:\n",
    "    child_tag = descr.split(\"->\")[1].strip()\n",
    "    outgoing_factors.append(factor)\n",
    "    \n",
    "incoming_factors = list()\n",
    "\n",
    "for descr, factor in sorted_incoming_cobrinha_factors_dict[TAG_NAME]:\n",
    "    child_tag = descr.split(\"->\")[0].strip()\n",
    "    incoming_factors.append(factor)\n",
    "       \n",
    "print(\"average of outgoing factors: {} \\naverage of incoming factors: {}\".format(np.array(outgoing_factors).mean(),np.array(incoming_factors).mean()))"
   ]
  },
  {
   "cell_type": "code",
   "execution_count": 42,
   "metadata": {},
   "outputs": [
    {
     "name": "stdout",
     "output_type": "stream",
     "text": [
      "average of outgoing factors: 0.08331681178985266 \n",
      "average of incoming factors: -0.08331681178985266\n"
     ]
    }
   ],
   "source": [
    "TAG_NAME='performance'\n",
    "\n",
    "outgoing_factors = list()\n",
    "\n",
    "for descr, factor in sorted_outgoing_cobrinha_factors_dict[TAG_NAME]:\n",
    "    child_tag = descr.split(\"->\")[1].strip()\n",
    "    outgoing_factors.append(factor)\n",
    "    \n",
    "incoming_factors = list()\n",
    "\n",
    "for descr, factor in sorted_incoming_cobrinha_factors_dict[TAG_NAME]:\n",
    "    child_tag = descr.split(\"->\")[0].strip()\n",
    "    incoming_factors.append(factor)\n",
    "       \n",
    "print(\"average of outgoing factors: {} \\naverage of incoming factors: {}\".format(np.array(outgoing_factors).mean(),np.array(incoming_factors).mean()))"
   ]
  },
  {
   "cell_type": "code",
   "execution_count": 43,
   "metadata": {},
   "outputs": [
    {
     "name": "stdout",
     "output_type": "stream",
     "text": [
      "average of outgoing factors: 0.07693146712993348 \n",
      "average of incoming factors: -0.0769314671299335\n"
     ]
    }
   ],
   "source": [
    "TAG_NAME='user-interface'\n",
    "\n",
    "outgoing_factors = list()\n",
    "\n",
    "for descr, factor in sorted_outgoing_cobrinha_factors_dict[TAG_NAME]:\n",
    "    child_tag = descr.split(\"->\")[1].strip()\n",
    "    outgoing_factors.append(factor)\n",
    "    \n",
    "incoming_factors = list()\n",
    "\n",
    "for descr, factor in sorted_incoming_cobrinha_factors_dict[TAG_NAME]:\n",
    "    child_tag = descr.split(\"->\")[0].strip()\n",
    "    incoming_factors.append(factor)\n",
    "       \n",
    "print(\"average of outgoing factors: {} \\naverage of incoming factors: {}\".format(np.array(outgoing_factors).mean(),np.array(incoming_factors).mean()))"
   ]
  },
  {
   "cell_type": "markdown",
   "metadata": {},
   "source": [
    "now let's see whether a reasonably \"bad\" parent tag shows the opposite behaviour."
   ]
  },
  {
   "cell_type": "code",
   "execution_count": 44,
   "metadata": {},
   "outputs": [
    {
     "name": "stdout",
     "output_type": "stream",
     "text": [
      "average of outgoing factors: -0.036906575333133504 \n",
      "average of incoming factors: 0.036906575333133504\n"
     ]
    }
   ],
   "source": [
    "TAG_NAME = 'android-fragments'\n",
    "\n",
    "outgoing_factors = list()\n",
    "\n",
    "for descr, factor in sorted_outgoing_cobrinha_factors_dict[TAG_NAME]:\n",
    "    child_tag = descr.split(\"->\")[1].strip()\n",
    "    outgoing_factors.append(factor)\n",
    "    \n",
    "incoming_factors = list()\n",
    "\n",
    "for descr, factor in sorted_incoming_cobrinha_factors_dict[TAG_NAME]:\n",
    "    child_tag = descr.split(\"->\")[0].strip()\n",
    "    incoming_factors.append(factor)\n",
    "    \n",
    "print(\"average of outgoing factors: {} \\naverage of incoming factors: {}\".format(np.array(outgoing_factors).mean(),np.array(incoming_factors).mean()))    "
   ]
  },
  {
   "cell_type": "markdown",
   "metadata": {},
   "source": [
    "## now let's try to find a triple. two tags B and C that have good cobrinha factor and a third tag A that has good cobrinha factor with tag B and tag C (but cobrinha(A,B) should probably be higher than cobrinha (A,C))\n",
    "\n",
    "\n",
    "A -> B -> C\n",
    "\n",
    "(TAG C is the most specific tag of the three)"
   ]
  },
  {
   "cell_type": "markdown",
   "metadata": {},
   "source": [
    "### let's experiment first"
   ]
  },
  {
   "cell_type": "code",
   "execution_count": 51,
   "metadata": {},
   "outputs": [
    {
     "data": {
      "text/plain": [
       "(0.30949315039067699, 0.3329764129312906)"
      ]
     },
     "execution_count": 51,
     "metadata": {},
     "output_type": "execute_result"
    }
   ],
   "source": [
    "# this is not very good, because numpy is a subset of scipy\n",
    "# so scipy should, in theory, be more general than numpy\n",
    "\n",
    "# perhaps this has to do with the fact that numpy tags are much more common than scipy, and this\n",
    "# causes numpy-tagged documents to have more words, in general, than scipy?\n",
    "\n",
    "global_similarity_index['scipy'],global_similarity_index['numpy']"
   ]
  },
  {
   "cell_type": "markdown",
   "metadata": {},
   "source": [
    "it's bad that 'c#' and things like '.net' and 'design' are at the top **but** 'python' and 'performance' \n",
    "and 'optimization' and 'statistics' at the top are indicative that something is correct"
   ]
  },
  {
   "cell_type": "code",
   "execution_count": 59,
   "metadata": {},
   "outputs": [
    {
     "data": {
      "text/plain": [
       "[('optimization ->  numpy', 0.12690520655630516),\n",
       " ('c# ->  numpy', 0.12675415644882873),\n",
       " ('.net ->  numpy', 0.12396412448538291),\n",
       " ('python ->  numpy', 0.12089679569627088),\n",
       " ('performance ->  numpy', 0.12009387439255283),\n",
       " ('c#-4.0 ->  numpy', 0.11454889392597092),\n",
       " ('web ->  numpy', 0.112109053487704),\n",
       " ('design ->  numpy', 0.10978622616194599),\n",
       " ('language-agnostic ->  numpy', 0.10905402386014457),\n",
       " ('statistics ->  numpy', 0.10551707009304812)]"
      ]
     },
     "execution_count": 59,
     "metadata": {},
     "output_type": "execute_result"
    }
   ],
   "source": [
    "sorted_incoming_cobrinha_factors_dict['numpy'][:10]"
   ]
  },
  {
   "cell_type": "code",
   "execution_count": 61,
   "metadata": {},
   "outputs": [
    {
     "data": {
      "text/plain": [
       "[('optimization ->  scipy', 0.13239369398562054),\n",
       " ('c# ->  scipy', 0.12697070983275771),\n",
       " ('.net ->  scipy', 0.12553673878070437),\n",
       " ('python ->  scipy', 0.12472987151595769),\n",
       " ('performance ->  scipy', 0.11941611235100101),\n",
       " ('c#-4.0 ->  scipy', 0.1154874373257008),\n",
       " ('web ->  scipy', 0.11523784750646386),\n",
       " ('statistics ->  scipy', 0.11447571694585298),\n",
       " ('design ->  scipy', 0.11193569069957214),\n",
       " ('language-agnostic ->  scipy', 0.11138279952459677)]"
      ]
     },
     "execution_count": 61,
     "metadata": {},
     "output_type": "execute_result"
    }
   ],
   "source": [
    "sorted_incoming_cobrinha_factors_dict['scipy'][:10]"
   ]
  },
  {
   "cell_type": "code",
   "execution_count": null,
   "metadata": {
    "collapsed": true
   },
   "outputs": [],
   "source": []
  },
  {
   "cell_type": "markdown",
   "metadata": {},
   "source": [
    "### let's try some triples, starting with tags very low in the hierarchy (i.e. low generality, high specificity)"
   ]
  },
  {
   "cell_type": "code",
   "execution_count": 62,
   "metadata": {},
   "outputs": [
    {
     "data": {
      "text/plain": [
       "[('gulp', 0.19527066254503755),\n",
       " ('pip', 0.21634628933565575),\n",
       " ('vagrant', 0.23903271161456216),\n",
       " ('ckeditor', 0.23906470957447498),\n",
       " ('sbt', 0.2395941030817981),\n",
       " ('recyclerview', 0.240645562610522),\n",
       " ('socket.io', 0.24387152236585527),\n",
       " ('npm', 0.2501623604716901),\n",
       " ('docker', 0.25114799860316461),\n",
       " ('gem', 0.25210788788163307)]"
      ]
     },
     "execution_count": 62,
     "metadata": {},
     "output_type": "execute_result"
    }
   ],
   "source": [
    "sorted(global_similarity_index.items(),key=lambda tpl: tpl[1])[:10]"
   ]
  },
  {
   "cell_type": "code",
   "execution_count": 63,
   "metadata": {},
   "outputs": [
    {
     "data": {
      "text/plain": [
       "[('javascript ->  gulp', 0.1165377901599134),\n",
       " ('web ->  gulp', 0.11252837978131403),\n",
       " ('c# ->  gulp', 0.11079307772772183),\n",
       " ('.net ->  gulp', 0.11067822164359718),\n",
       " ('node.js ->  gulp', 0.10335771316200482),\n",
       " ('c#-4.0 ->  gulp', 0.10318618523697559),\n",
       " ('web-applications ->  gulp', 0.10030571586983099),\n",
       " ('linux ->  gulp', 0.097864926545714617),\n",
       " ('automation ->  gulp', 0.09773528866157645),\n",
       " ('performance ->  gulp', 0.096468732524700646),\n",
       " ('windows ->  gulp', 0.095785874012095082),\n",
       " ('.net-4.0 ->  gulp', 0.094683985033850268),\n",
       " ('optimization ->  gulp', 0.094366675749437495),\n",
       " ('html5 ->  gulp', 0.094356872046374288),\n",
       " ('design ->  gulp', 0.094243052608060138),\n",
       " ('configuration ->  gulp', 0.093773236240157862),\n",
       " ('cocoa ->  gulp', 0.092433370519195202),\n",
       " ('php ->  gulp', 0.092304436537185702),\n",
       " ('dynamic ->  gulp', 0.092294376882344473),\n",
       " ('html ->  gulp', 0.092279526938796444)]"
      ]
     },
     "execution_count": 63,
     "metadata": {},
     "output_type": "execute_result"
    }
   ],
   "source": [
    "sorted_incoming_cobrinha_factors_dict['gulp'][:20]"
   ]
  },
  {
   "cell_type": "code",
   "execution_count": 64,
   "metadata": {},
   "outputs": [
    {
     "data": {
      "text/plain": [
       "[('c# ->  javascript', 0.035512134292219548),\n",
       " ('.net ->  javascript', 0.030833022041302956),\n",
       " ('c#-4.0 ->  javascript', 0.021551564800825197),\n",
       " ('web ->  javascript', 0.018789550178211128),\n",
       " ('design ->  javascript', 0.0078801601177236145),\n",
       " ('performance ->  javascript', 0.0067050583752320632),\n",
       " ('optimization ->  javascript', 0.0031506925748634087),\n",
       " ('user-interface ->  javascript', -0.00058418204873059349),\n",
       " ('cocoa ->  javascript', -0.0015390447421814348),\n",
       " ('java ->  javascript', -0.0016300551610532099),\n",
       " ('web-applications ->  javascript', -0.0017124202389043389),\n",
       " ('.net-4.0 ->  javascript', -0.002176369967637184),\n",
       " ('dynamic ->  javascript', -0.0026171154991778359),\n",
       " ('language-agnostic ->  javascript', -0.00397048688823857),\n",
       " ('security ->  javascript', -0.0052844859978735349),\n",
       " ('php ->  javascript', -0.0061005975161411551),\n",
       " ('asp.net ->  javascript', -0.0073511076631431662),\n",
       " ('automation ->  javascript', -0.0078704852688523813),\n",
       " ('ios ->  javascript', -0.011702158863775854),\n",
       " ('winforms ->  javascript', -0.013483658243856844)]"
      ]
     },
     "execution_count": 64,
     "metadata": {},
     "output_type": "execute_result"
    }
   ],
   "source": [
    "sorted_incoming_cobrinha_factors_dict['javascript'][:20]"
   ]
  },
  {
   "cell_type": "markdown",
   "metadata": {},
   "source": [
    "so we get **\"c#\" -> \"javascript\" -> \"gulp\"**, which is clearly not good"
   ]
  },
  {
   "cell_type": "code",
   "execution_count": 65,
   "metadata": {},
   "outputs": [
    {
     "data": {
      "text/plain": [
       "[('c# ->  hive', 0.12778353181970245),\n",
       " ('.net ->  hive', 0.12369783237880885),\n",
       " ('c#-4.0 ->  hive', 0.12155164018203478),\n",
       " ('database ->  hive', 0.11756862236890592),\n",
       " ('performance ->  hive', 0.11720354105256708),\n",
       " ('optimization ->  hive', 0.11423880000067886),\n",
       " ('java ->  hive', 0.11281993088864363),\n",
       " ('web ->  hive', 0.11260837494979277),\n",
       " ('design ->  hive', 0.10778895781917346),\n",
       " ('dynamic ->  hive', 0.1059951701618147)]"
      ]
     },
     "execution_count": 65,
     "metadata": {},
     "output_type": "execute_result"
    }
   ],
   "source": [
    "sorted_incoming_cobrinha_factors_dict['hive'][:10]"
   ]
  },
  {
   "cell_type": "code",
   "execution_count": 67,
   "metadata": {},
   "outputs": [
    {
     "data": {
      "text/plain": [
       "[('.net ->  c#', -0.0046296089996649163),\n",
       " ('c#-4.0 ->  c#', -0.016185519882942825),\n",
       " ('web ->  c#', -0.01790181205880997),\n",
       " ('design ->  c#', -0.028385499289171001),\n",
       " ('performance ->  c#', -0.029279289411717018),\n",
       " ('optimization ->  c#', -0.032525567858528788),\n",
       " ('javascript ->  c#', -0.035512134292219548),\n",
       " ('user-interface ->  c#', -0.037076056097362989),\n",
       " ('cocoa ->  c#', -0.037366751573831541),\n",
       " ('web-applications ->  c#', -0.037446569463747942)]"
      ]
     },
     "execution_count": 67,
     "metadata": {},
     "output_type": "execute_result"
    }
   ],
   "source": [
    "sorted_incoming_cobrinha_factors_dict['c#'][:10]"
   ]
  },
  {
   "cell_type": "markdown",
   "metadata": {},
   "source": [
    "so we get **\".net\" -> \"c#\" -> \"hive\"**, which is also clearly not good"
   ]
  },
  {
   "cell_type": "code",
   "execution_count": 68,
   "metadata": {},
   "outputs": [
    {
     "data": {
      "text/plain": [
       "[('.net ->  docker', 0.12832555081187366),\n",
       " ('c# ->  docker', 0.12567965695399747),\n",
       " ('web ->  docker', 0.12284676876231916),\n",
       " ('linux ->  docker', 0.11832055461812542),\n",
       " ('c#-4.0 ->  docker', 0.11573627120965377),\n",
       " ('web-applications ->  docker', 0.11152213332473625),\n",
       " ('performance ->  docker', 0.11109195161762249),\n",
       " ('design ->  docker', 0.11028875892843248),\n",
       " ('windows ->  docker', 0.10930461290736113),\n",
       " ('security ->  docker', 0.10807951808120234)]"
      ]
     },
     "execution_count": 68,
     "metadata": {},
     "output_type": "execute_result"
    }
   ],
   "source": [
    "sorted_incoming_cobrinha_factors_dict['docker'][:10]"
   ]
  },
  {
   "cell_type": "code",
   "execution_count": 69,
   "metadata": {},
   "outputs": [
    {
     "data": {
      "text/plain": [
       "[('c# ->  .net', 0.0046296089996649163),\n",
       " ('c#-4.0 ->  .net', -0.011036661366274248),\n",
       " ('web ->  .net', -0.014094951178712121),\n",
       " ('design ->  .net', -0.024754635024207806),\n",
       " ('performance ->  .net', -0.025677379206722646),\n",
       " ('optimization ->  .net', -0.02876889606165953),\n",
       " ('javascript ->  .net', -0.030833022041302956),\n",
       " ('user-interface ->  .net', -0.032788448132743536),\n",
       " ('cocoa ->  .net', -0.033645874937763373),\n",
       " ('java ->  .net', -0.034558376846936259)]"
      ]
     },
     "execution_count": 69,
     "metadata": {},
     "output_type": "execute_result"
    }
   ],
   "source": [
    "sorted_incoming_cobrinha_factors_dict['.net'][:10]"
   ]
  },
  {
   "cell_type": "markdown",
   "metadata": {},
   "source": [
    "so we get \"c#\" -> \".net\" -> \"docker\", which is also clearly not good"
   ]
  },
  {
   "cell_type": "markdown",
   "metadata": {},
   "source": [
    "> i think the lesson here is that tags that are very common like \"c#\" and \".net\" are dominating the effect here, although it's nice to see more reasonable parent tags a bit down the ranking..\n",
    "\n",
    "> maybe we need to tweak the weighting so that tag similarity has more say than generality."
   ]
  },
  {
   "cell_type": "code",
   "execution_count": null,
   "metadata": {
    "collapsed": true
   },
   "outputs": [],
   "source": []
  }
 ],
 "metadata": {
  "kernelspec": {
   "display_name": "Global TF Kernel (Python 3)",
   "language": "python",
   "name": "global-tf-python-3"
  },
  "language_info": {
   "codemirror_mode": {
    "name": "ipython",
    "version": 3
   },
   "file_extension": ".py",
   "mimetype": "text/x-python",
   "name": "python",
   "nbconvert_exporter": "python",
   "pygments_lexer": "ipython3",
   "version": "3.5.2"
  }
 },
 "nbformat": 4,
 "nbformat_minor": 2
}
