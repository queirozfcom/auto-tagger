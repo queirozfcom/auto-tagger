{
 "cells": [
  {
   "cell_type": "code",
   "execution_count": 1,
   "metadata": {},
   "outputs": [
    {
     "name": "stderr",
     "output_type": "stream",
     "text": [
      "Using TensorFlow backend.\n"
     ]
    }
   ],
   "source": [
    "import csv\n",
    "import os\n",
    "import pickle\n",
    "import re\n",
    "import sys\n",
    "import numpy as np\n",
    "\n",
    "from joblib import Parallel, delayed\n",
    "\n",
    "from difflib import SequenceMatcher,get_close_matches\n",
    "\n",
    "from keras.preprocessing.text import Tokenizer\n",
    "from keras.preprocessing.sequence import pad_sequences\n",
    "from keras.utils import to_categorical\n",
    "from keras.layers import Dense, Dropout, Input, Flatten, Activation\n",
    "from keras.layers import Conv1D, MaxPooling1D, Embedding, GlobalAvgPool1D, GlobalMaxPooling1D\n",
    "from keras.models import Model, Sequential\n",
    "\n",
    "from numpy import linalg as LA\n",
    "\n",
    "from scipy import spatial\n",
    "\n",
    "from sklearn import preprocessing\n",
    "from sklearn.feature_extraction.text import CountVectorizer, TfidfVectorizer\n",
    "\n",
    "from tqdm import *\n",
    "\n",
    "module_path = os.path.abspath(os.path.join('../helpers/'))\n",
    "if module_path not in sys.path:\n",
    "    sys.path.append(module_path)\n",
    "\n",
    "# my stuff in the helpers/ directory\n",
    "import embeddings_helper, files_helper, texts_helper, metrics_helper, tags_helper,cobrinha_helper\n",
    "\n",
    "from cobrinha_helper import evaluate_cobrinha\n"
   ]
  },
  {
   "cell_type": "code",
   "execution_count": 2,
   "metadata": {},
   "outputs": [
    {
     "data": {
      "text/plain": [
       "759"
      ]
     },
     "execution_count": 2,
     "metadata": {},
     "output_type": "execute_result"
    }
   ],
   "source": [
    "SEED=np.random.randint(1,1000)\n",
    "SEED"
   ]
  },
  {
   "cell_type": "code",
   "execution_count": 3,
   "metadata": {
    "collapsed": true
   },
   "outputs": [],
   "source": [
    "np.random.seed(SEED)"
   ]
  },
  {
   "cell_type": "code",
   "execution_count": 4,
   "metadata": {
    "collapsed": true
   },
   "outputs": [],
   "source": [
    "PICKLE_DIR_ROOT = \"/media/felipe/SSD_VOLUME/auto-tagger/data/tag-hierarchy/\""
   ]
  },
  {
   "cell_type": "code",
   "execution_count": 5,
   "metadata": {},
   "outputs": [],
   "source": [
    "texts, labels = files_helper.read_stackoverflow_sample_stanford_tokenized(\"Medium-Small-Sample-Posts-Shuffled\",ssd=True)"
   ]
  },
  {
   "cell_type": "code",
   "execution_count": 6,
   "metadata": {
    "collapsed": true
   },
   "outputs": [],
   "source": [
    "MAX_NB_WORDS = 10000\n",
    "MAX_SEQUENCE_LENGTH = 1000\n",
    "VALIDATION_SPLIT = 0.2\n",
    "LABELS_MIN_DOC_COUNT = int(20)\n",
    "BATCH_SIZE=32\n",
    "EMBEDDING_DIM=100\n",
    "NUM_EPOCHS=10\n",
    "TOKENIZER_FILTERS='' # I will perform tokenization myself"
   ]
  },
  {
   "cell_type": "code",
   "execution_count": 7,
   "metadata": {},
   "outputs": [],
   "source": [
    "tokenizer = Tokenizer(num_words=MAX_NB_WORDS,\n",
    "                     filters=TOKENIZER_FILTERS)\n",
    "tokenizer.fit_on_texts(texts)\n",
    "sequences = tokenizer.texts_to_sequences(texts)\n",
    "\n",
    "# word => word_index_position\n",
    "word_index = tokenizer.word_index\n",
    "\n",
    "# word_index_position => word\n",
    "inverse_word_index = texts_helper.build_inverse_word_index(word_index)"
   ]
  },
  {
   "cell_type": "code",
   "execution_count": 8,
   "metadata": {},
   "outputs": [],
   "source": [
    "truncated_labels = tags_helper.truncate_labels(labels,LABELS_MIN_DOC_COUNT)"
   ]
  },
  {
   "cell_type": "code",
   "execution_count": 9,
   "metadata": {},
   "outputs": [],
   "source": [
    "lb = preprocessing.MultiLabelBinarizer()\n",
    "binary_labels = lb.fit_transform(truncated_labels)"
   ]
  },
  {
   "cell_type": "code",
   "execution_count": 10,
   "metadata": {},
   "outputs": [],
   "source": [
    "# make each document (sequence of word indices) be truncated to \n",
    "# MAX_SEQUENCE_LENGTH\n",
    "tokenized_texts = []\n",
    "\n",
    "for seq in sequences:\n",
    "    truncated_seq = seq[:MAX_SEQUENCE_LENGTH]\n",
    "    tokenized_txt = \" \".join([inverse_word_index[idx] for idx in truncated_seq])\n",
    "    tokenized_texts.append(tokenized_txt)"
   ]
  },
  {
   "cell_type": "code",
   "execution_count": 11,
   "metadata": {
    "collapsed": true
   },
   "outputs": [],
   "source": [
    "# extracting IDF weights to weight the embeddings\n",
    "\n",
    "# snooping\n",
    "vect = TfidfVectorizer(max_features=MAX_NB_WORDS).fit(tokenized_texts)\n",
    "\n",
    "feature_names = vect.get_feature_names()\n",
    "idf = vect.idf_\n",
    "\n",
    "# word => word IDF\n",
    "idf_index = dict(zip(vect.get_feature_names(), idf))"
   ]
  },
  {
   "cell_type": "code",
   "execution_count": 12,
   "metadata": {
    "collapsed": true
   },
   "outputs": [],
   "source": [
    "document_vectors = vect.transform(tokenized_texts)"
   ]
  },
  {
   "cell_type": "code",
   "execution_count": 13,
   "metadata": {
    "collapsed": true
   },
   "outputs": [],
   "source": [
    "NUM_WORDS = document_vectors[0].shape[1]"
   ]
  },
  {
   "cell_type": "code",
   "execution_count": 14,
   "metadata": {
    "collapsed": true
   },
   "outputs": [],
   "source": [
    "# document_id => [tag1, tag2, tag3, ...]\n",
    "document_tag_index = tags_helper.get_document_tag_index(binary_labels,lb.classes_)\n",
    "\n",
    "# tag => [document_id1, document_id2, document_id3, ...]\n",
    "tag_document_index = tags_helper.get_tag_document_index(binary_labels, lb.classes_)"
   ]
  },
  {
   "cell_type": "markdown",
   "metadata": {},
   "source": [
    "### build tag vocabulary"
   ]
  },
  {
   "cell_type": "code",
   "execution_count": 15,
   "metadata": {
    "collapsed": true
   },
   "outputs": [],
   "source": [
    "tag_vocabulary = lb.classes_"
   ]
  },
  {
   "cell_type": "code",
   "execution_count": 16,
   "metadata": {},
   "outputs": [
    {
     "data": {
      "text/plain": [
       "1704"
      ]
     },
     "execution_count": 16,
     "metadata": {},
     "output_type": "execute_result"
    }
   ],
   "source": [
    "len(tag_vocabulary)"
   ]
  },
  {
   "cell_type": "code",
   "execution_count": 17,
   "metadata": {
    "collapsed": true
   },
   "outputs": [],
   "source": [
    "pickle.dump(tag_vocabulary,open(PICKLE_DIR_ROOT+\"/tag_vocabulary.p\",\"wb\"))"
   ]
  },
  {
   "cell_type": "code",
   "execution_count": 18,
   "metadata": {},
   "outputs": [
    {
     "data": {
      "text/plain": [
       "(\"use with gulp . i read about gulp and was quite taken by the . i want to try it out for myself but i am running into a little problem . i am used to using with grunt and i have no idea how to get to play nice with gulp . i 've come across this article which suggests there is no need for a plugin when using gulp . unfortunately it does n't really explain how to go about it and the example it links to does n't help me much . is there anyone who knows how to go about this ?\",\n",
       " ['gulp', 'jekyll'])"
      ]
     },
     "execution_count": 18,
     "metadata": {},
     "output_type": "execute_result"
    }
   ],
   "source": [
    "i = 2\n",
    "tokenized_texts[i],document_tag_index[i]"
   ]
  },
  {
   "cell_type": "markdown",
   "metadata": {},
   "source": [
    "### build tag_vectors_index\n",
    "\n",
    "> if a tag is the ONLY tag assigned to some document, that's probably a more representative document of this tag, than if this tag were only one among many others\n"
   ]
  },
  {
   "cell_type": "code",
   "execution_count": 19,
   "metadata": {
    "collapsed": true
   },
   "outputs": [],
   "source": [
    "# tag => tag_vector\n",
    "tag_vectors_index = dict()\n",
    "\n",
    "for (tag,document_ids) in tag_document_index.items():\n",
    "    \n",
    "    tag_vector = np.zeros(NUM_WORDS)\n",
    "    \n",
    "    for document_id in document_ids:\n",
    "        document_vector = document_vectors[document_id]\n",
    "        num_tags = len(document_tag_index[document_id])\n",
    "\n",
    "\n",
    "        weight = 1.0 / num_tags\n",
    "\n",
    "        weighted_document_vector = document_vector * weight\n",
    "        \n",
    "        tag_vector = tag_vector + weighted_document_vector\n",
    "        \n",
    "    tag_vectors_index[tag] = np.asarray(tag_vector).ravel()"
   ]
  },
  {
   "cell_type": "code",
   "execution_count": 20,
   "metadata": {
    "collapsed": true
   },
   "outputs": [],
   "source": [
    "pickle.dump(tag_vectors_index,open(PICKLE_DIR_ROOT+\"/tag_vectors_index.p\",\"wb\"))"
   ]
  },
  {
   "cell_type": "code",
   "execution_count": 21,
   "metadata": {
    "collapsed": true
   },
   "outputs": [],
   "source": [
    "normalized_tag_vectors_index = dict()    \n",
    "\n",
    "## THIS SUCKS.. WHY?\n",
    "## normalize vectors to make cosine similarity more accurate  \n",
    "for (tag,tag_vector) in tag_vectors_index.items():    \n",
    "    normalized_tag_vectors_index[tag] = LA.norm(tag_vector, 2)"
   ]
  },
  {
   "cell_type": "code",
   "execution_count": 22,
   "metadata": {
    "collapsed": true
   },
   "outputs": [],
   "source": [
    "def _cosine_similarity(a,b):\n",
    "    return 1 - spatial.distance.cosine(a, b)"
   ]
  },
  {
   "cell_type": "code",
   "execution_count": 23,
   "metadata": {
    "collapsed": true
   },
   "outputs": [],
   "source": [
    "target_tags = ['sql-server-2008','sql','sql-server','mysql','database','postgresql','select','join','oracle','tsql','sqlite']\n",
    "\n",
    "pairs = [ (a,b) for a in target_tags for b in target_tags if a != b ]"
   ]
  },
  {
   "cell_type": "code",
   "execution_count": 24,
   "metadata": {},
   "outputs": [
    {
     "name": "stdout",
     "output_type": "stream",
     "text": [
      "SIM 'sql-server-2008' 'sql' => 0.9349852894653755\n",
      "SIM 'sql-server-2008' 'sql-server' => 0.9660928141839111\n",
      "SIM 'sql-server-2008' 'mysql' => 0.8154538869611813\n",
      "SIM 'sql-server-2008' 'database' => 0.8156094736024496\n",
      "SIM 'sql-server-2008' 'postgresql' => 0.7553914379145025\n",
      "SIM 'sql-server-2008' 'select' => 0.7778991611709338\n",
      "SIM 'sql-server-2008' 'join' => 0.7190127691231447\n",
      "SIM 'sql-server-2008' 'oracle' => 0.764526362604965\n",
      "SIM 'sql-server-2008' 'tsql' => 0.9261999555224482\n",
      "SIM 'sql-server-2008' 'sqlite' => 0.6563355913804496\n",
      "SIM 'sql' 'sql-server-2008' => 0.9349852894653755\n",
      "SIM 'sql' 'sql-server' => 0.9460839963190458\n",
      "SIM 'sql' 'mysql' => 0.906623737639903\n",
      "SIM 'sql' 'database' => 0.8520139436413494\n",
      "SIM 'sql' 'postgresql' => 0.8138921551069163\n",
      "SIM 'sql' 'select' => 0.8654244931904951\n",
      "SIM 'sql' 'join' => 0.8199456810146458\n",
      "SIM 'sql' 'oracle' => 0.8284758313803156\n",
      "SIM 'sql' 'tsql' => 0.9364463457744994\n",
      "SIM 'sql' 'sqlite' => 0.7008826723192213\n",
      "SIM 'sql-server' 'sql-server-2008' => 0.9660928141839111\n",
      "SIM 'sql-server' 'sql' => 0.9460839963190458\n",
      "SIM 'sql-server' 'mysql' => 0.8232660277566255\n",
      "SIM 'sql-server' 'database' => 0.8348174965091033\n",
      "SIM 'sql-server' 'postgresql' => 0.762504940499007\n",
      "SIM 'sql-server' 'select' => 0.7769282159908404\n",
      "SIM 'sql-server' 'join' => 0.7176333686664327\n",
      "SIM 'sql-server' 'oracle' => 0.7754726380985002\n",
      "SIM 'sql-server' 'tsql' => 0.9318383361074165\n",
      "SIM 'sql-server' 'sqlite' => 0.6669428046978682\n",
      "SIM 'mysql' 'sql-server-2008' => 0.8154538869611813\n",
      "SIM 'mysql' 'sql' => 0.906623737639903\n",
      "SIM 'mysql' 'sql-server' => 0.8232660277566255\n",
      "SIM 'mysql' 'database' => 0.8714376919318961\n",
      "SIM 'mysql' 'postgresql' => 0.7742533284367502\n",
      "SIM 'mysql' 'select' => 0.8408980416697475\n",
      "SIM 'mysql' 'join' => 0.7745664220305363\n",
      "SIM 'mysql' 'oracle' => 0.734829645495462\n",
      "SIM 'mysql' 'tsql' => 0.8157870993126018\n",
      "SIM 'mysql' 'sqlite' => 0.6875609580833684\n",
      "SIM 'database' 'sql-server-2008' => 0.8156094736024496\n",
      "SIM 'database' 'sql' => 0.8520139436413494\n",
      "SIM 'database' 'sql-server' => 0.8348174965091033\n",
      "SIM 'database' 'mysql' => 0.8714376919318961\n",
      "SIM 'database' 'postgresql' => 0.7923256383643257\n",
      "SIM 'database' 'select' => 0.740415426032845\n",
      "SIM 'database' 'join' => 0.6730311049491177\n",
      "SIM 'database' 'oracle' => 0.7418664003331741\n",
      "SIM 'database' 'tsql' => 0.7651133300501313\n",
      "SIM 'database' 'sqlite' => 0.7880382519955265\n",
      "SIM 'postgresql' 'sql-server-2008' => 0.7553914379145025\n",
      "SIM 'postgresql' 'sql' => 0.8138921551069163\n",
      "SIM 'postgresql' 'sql-server' => 0.762504940499007\n",
      "SIM 'postgresql' 'mysql' => 0.7742533284367502\n",
      "SIM 'postgresql' 'database' => 0.7923256383643257\n",
      "SIM 'postgresql' 'select' => 0.7279535805706583\n",
      "SIM 'postgresql' 'join' => 0.6610054142298651\n",
      "SIM 'postgresql' 'oracle' => 0.7006897748627144\n",
      "SIM 'postgresql' 'tsql' => 0.7501075469527827\n",
      "SIM 'postgresql' 'sqlite' => 0.6431429308416577\n",
      "SIM 'select' 'sql-server-2008' => 0.7778991611709338\n",
      "SIM 'select' 'sql' => 0.8654244931904951\n",
      "SIM 'select' 'sql-server' => 0.7769282159908404\n",
      "SIM 'select' 'mysql' => 0.8408980416697475\n",
      "SIM 'select' 'database' => 0.740415426032845\n",
      "SIM 'select' 'postgresql' => 0.7279535805706583\n",
      "SIM 'select' 'join' => 0.7318895865432632\n",
      "SIM 'select' 'oracle' => 0.7171439686925735\n",
      "SIM 'select' 'tsql' => 0.818347301087991\n",
      "SIM 'select' 'sqlite' => 0.6120123026764134\n",
      "SIM 'join' 'sql-server-2008' => 0.7190127691231447\n",
      "SIM 'join' 'sql' => 0.8199456810146458\n",
      "SIM 'join' 'sql-server' => 0.7176333686664327\n",
      "SIM 'join' 'mysql' => 0.7745664220305363\n",
      "SIM 'join' 'database' => 0.6730311049491177\n",
      "SIM 'join' 'postgresql' => 0.6610054142298651\n",
      "SIM 'join' 'select' => 0.7318895865432632\n",
      "SIM 'join' 'oracle' => 0.6333712443805505\n",
      "SIM 'join' 'tsql' => 0.7421523397090942\n",
      "SIM 'join' 'sqlite' => 0.5447831180378172\n",
      "SIM 'oracle' 'sql-server-2008' => 0.764526362604965\n",
      "SIM 'oracle' 'sql' => 0.8284758313803156\n",
      "SIM 'oracle' 'sql-server' => 0.7754726380985002\n",
      "SIM 'oracle' 'mysql' => 0.734829645495462\n",
      "SIM 'oracle' 'database' => 0.7418664003331741\n",
      "SIM 'oracle' 'postgresql' => 0.7006897748627144\n",
      "SIM 'oracle' 'select' => 0.7171439686925735\n",
      "SIM 'oracle' 'join' => 0.6333712443805505\n",
      "SIM 'oracle' 'tsql' => 0.7602472464045792\n",
      "SIM 'oracle' 'sqlite' => 0.5980545021251622\n",
      "SIM 'tsql' 'sql-server-2008' => 0.9261999555224482\n",
      "SIM 'tsql' 'sql' => 0.9364463457744994\n",
      "SIM 'tsql' 'sql-server' => 0.9318383361074165\n",
      "SIM 'tsql' 'mysql' => 0.8157870993126018\n",
      "SIM 'tsql' 'database' => 0.7651133300501313\n",
      "SIM 'tsql' 'postgresql' => 0.7501075469527827\n",
      "SIM 'tsql' 'select' => 0.818347301087991\n",
      "SIM 'tsql' 'join' => 0.7421523397090942\n",
      "SIM 'tsql' 'oracle' => 0.7602472464045792\n",
      "SIM 'tsql' 'sqlite' => 0.632657692522015\n",
      "SIM 'sqlite' 'sql-server-2008' => 0.6563355913804496\n",
      "SIM 'sqlite' 'sql' => 0.7008826723192213\n",
      "SIM 'sqlite' 'sql-server' => 0.6669428046978682\n",
      "SIM 'sqlite' 'mysql' => 0.6875609580833684\n",
      "SIM 'sqlite' 'database' => 0.7880382519955265\n",
      "SIM 'sqlite' 'postgresql' => 0.6431429308416577\n",
      "SIM 'sqlite' 'select' => 0.6120123026764134\n",
      "SIM 'sqlite' 'join' => 0.5447831180378172\n",
      "SIM 'sqlite' 'oracle' => 0.5980545021251622\n",
      "SIM 'sqlite' 'tsql' => 0.632657692522015\n"
     ]
    }
   ],
   "source": [
    "for (tag_a,tag_b) in pairs:\n",
    "    tag_a_vector = tag_vectors_index[tag_a]\n",
    "    tag_b_vector = tag_vectors_index[tag_b]\n",
    "    \n",
    "    sim = _cosine_similarity(tag_a_vector,tag_b_vector)\n",
    "    \n",
    "    print(\"SIM '{}' '{}' => {}\".format(tag_a,tag_b,sim))\n",
    "    "
   ]
  },
  {
   "cell_type": "markdown",
   "metadata": {},
   "source": [
    "if all other tags are, on average, more similar to A than to B, then A is probably more generic than B\n",
    "\n",
    "should it be normalized by the difference between A and B?\n",
    "\n",
    "will fail for tags that are below B?"
   ]
  },
  {
   "cell_type": "code",
   "execution_count": 25,
   "metadata": {},
   "outputs": [
    {
     "data": {
      "text/plain": [
       "0.7008826723192213"
      ]
     },
     "execution_count": 25,
     "metadata": {},
     "output_type": "execute_result"
    }
   ],
   "source": [
    "sql_vector = tag_vectors_index['sql']\n",
    "avg_diff = list()\n",
    "\n",
    "for (tag_name,tag_vector) in tag_vectors_index.items():\n",
    "    avg_diff.append(_cosine_similarity(tag_a_vector,sql_vector))\n",
    "    \n",
    "np.mean(np.array(avg_diff))"
   ]
  },
  {
   "cell_type": "code",
   "execution_count": 26,
   "metadata": {},
   "outputs": [
    {
     "data": {
      "text/plain": [
       "0.66694280469786815"
      ]
     },
     "execution_count": 26,
     "metadata": {},
     "output_type": "execute_result"
    }
   ],
   "source": [
    "sql_vector = tag_vectors_index['sql-server']\n",
    "avg_diff = list()\n",
    "\n",
    "for (tag_name,tag_vector) in tag_vectors_index.items():\n",
    "    avg_diff.append(_cosine_similarity(tag_a_vector,sql_vector))\n",
    "    \n",
    "np.mean(np.array(avg_diff))"
   ]
  },
  {
   "cell_type": "code",
   "execution_count": 27,
   "metadata": {},
   "outputs": [
    {
     "data": {
      "text/plain": [
       "0.65633559138044983"
      ]
     },
     "execution_count": 27,
     "metadata": {},
     "output_type": "execute_result"
    }
   ],
   "source": [
    "sql_vector = tag_vectors_index['sql-server-2008']\n",
    "avg_diff = list()\n",
    "\n",
    "for (tag_name,tag_vector) in tag_vectors_index.items():\n",
    "    avg_diff.append(_cosine_similarity(tag_a_vector,sql_vector))\n",
    "    \n",
    "np.mean(np.array(avg_diff))"
   ]
  },
  {
   "cell_type": "code",
   "execution_count": 28,
   "metadata": {
    "collapsed": true
   },
   "outputs": [],
   "source": [
    "def get_sim(tag_a,tag_b):\n",
    "    \n",
    "    sim = _cosine_similarity(tag_vectors_index[tag_a],tag_vectors_index[tag_b])\n",
    "    \n",
    "    return (tag_a,tag_b,sim)"
   ]
  },
  {
   "cell_type": "code",
   "execution_count": 29,
   "metadata": {
    "collapsed": true
   },
   "outputs": [],
   "source": [
    "all_tags = [tag for (tag,_) in tag_vectors_index.items()]"
   ]
  },
  {
   "cell_type": "code",
   "execution_count": 30,
   "metadata": {
    "collapsed": true
   },
   "outputs": [],
   "source": [
    "sims = Parallel(n_jobs=-1)(delayed(get_sim)(a,b) for a in all_tags for b in all_tags)"
   ]
  },
  {
   "cell_type": "code",
   "execution_count": 31,
   "metadata": {},
   "outputs": [
    {
     "data": {
      "text/plain": [
       "[('swt', 'swt', 1.0),\n",
       " ('swt', 'treeview', 0.22646766922432759),\n",
       " ('swt', 'tinymce', 0.17243342661698979),\n",
       " ('swt', 'rmi', 0.14675991005559186),\n",
       " ('swt', 'puppet', 0.14897517413558226),\n",
       " ('swt', 'elisp', 0.20731017723506406),\n",
       " ('swt', 'cors', 0.18477021462352949),\n",
       " ('swt', 'prototypejs', 0.23289653848088243),\n",
       " ('swt', 'dependencies', 0.26083028054247825),\n",
       " ('swt', 'tornado', 0.14338674336878943)]"
      ]
     },
     "execution_count": 31,
     "metadata": {},
     "output_type": "execute_result"
    }
   ],
   "source": [
    "sims[:10]"
   ]
  },
  {
   "cell_type": "code",
   "execution_count": 32,
   "metadata": {
    "collapsed": true
   },
   "outputs": [],
   "source": [
    "similarity_dict = dict()\n",
    "\n",
    "for tag_a,tag_b, sim in sims:\n",
    "    \n",
    "    if similarity_dict.get(tag_a) is None:\n",
    "        similarity_dict[tag_a] = [(tag_b,sim)]\n",
    "    else:\n",
    "        similarity_dict[tag_a].append((tag_b,sim))"
   ]
  },
  {
   "cell_type": "code",
   "execution_count": 33,
   "metadata": {},
   "outputs": [
    {
     "data": {
      "text/plain": [
       "[('swt', 0.29319250653441919),\n",
       " ('treeview', 0.35661211397222492),\n",
       " ('tinymce', 0.28073046054331141),\n",
       " ('rmi', 0.22925921098964364),\n",
       " ('puppet', 0.26736057867589014),\n",
       " ('elisp', 0.36765672430944696),\n",
       " ('cors', 0.34093837910864178),\n",
       " ('prototypejs', 0.41060220823212745),\n",
       " ('dependencies', 0.457743537133385),\n",
       " ('tornado', 0.27526369817278074),\n",
       " ('serial-port', 0.38575138691499367),\n",
       " ('expandablelistview', 0.24961132999371127),\n",
       " ('visual-studio-2013', 0.50889254615177959),\n",
       " ('shader', 0.31968099882620304),\n",
       " ('ecmascript-6', 0.4004323864779884),\n",
       " ('repeater', 0.35901714215114788),\n",
       " ('insert', 0.72465146895700683),\n",
       " ('visual-studio-2012', 0.51403709838615652),\n",
       " ('uiscrollview', 0.32240031074668196),\n",
       " ('debugging', 0.58591588580601484)]"
      ]
     },
     "execution_count": 33,
     "metadata": {},
     "output_type": "execute_result"
    }
   ],
   "source": [
    "similarity_dict[\"sql\"][:20]"
   ]
  },
  {
   "cell_type": "code",
   "execution_count": 34,
   "metadata": {},
   "outputs": [
    {
     "data": {
      "text/plain": [
       "[('sql-server', 0.94608399631904583),\n",
       " ('tsql', 0.93644634577449937),\n",
       " ('sql-server-2008', 0.93498528946537551),\n",
       " ('mysql', 0.906623737639903),\n",
       " ('select', 0.86542449319049508),\n",
       " ('sql-server-2005', 0.85241731531134013),\n",
       " ('database', 0.85201394364134941),\n",
       " ('sql-server-2008-r2', 0.8431796843868572),\n",
       " ('oracle', 0.82847583138031555),\n",
       " ('sql-server-2012', 0.82132500838792566),\n",
       " ('join', 0.81994568101464582),\n",
       " ('postgresql', 0.81389215510691626),\n",
       " ('ms-access', 0.80221184346494157),\n",
       " ('database-design', 0.78301096529451608),\n",
       " ('sql-update', 0.77638822429249021),\n",
       " ('ms-access-2010', 0.77491311729250856),\n",
       " ('group-by', 0.77283620646348683),\n",
       " ('subquery', 0.76446459464712535),\n",
       " ('query-optimization', 0.74722904760620112)]"
      ]
     },
     "execution_count": 34,
     "metadata": {},
     "output_type": "execute_result"
    }
   ],
   "source": [
    "sorted(similarity_dict[\"sql\"],key=lambda tpl : tpl[1],reverse=True)[1:20]"
   ]
  },
  {
   "cell_type": "code",
   "execution_count": 35,
   "metadata": {
    "collapsed": true
   },
   "outputs": [],
   "source": [
    "sorted_similarity_dict = dict()\n",
    "\n",
    "for (tag, similarities_to_other_tags) in similarity_dict.items():\n",
    "    \n",
    "    sorted_similarities = sorted(similarities_to_other_tags,key=lambda tpl: tpl[1],reverse=True)\n",
    "    sorted_without_self = sorted_similarities[1:]\n",
    "    \n",
    "    sorted_similarity_dict[tag] = sorted_without_self"
   ]
  },
  {
   "cell_type": "code",
   "execution_count": 36,
   "metadata": {},
   "outputs": [
    {
     "data": {
      "text/plain": [
       "[('sql-server', 0.94608399631904583),\n",
       " ('tsql', 0.93644634577449937),\n",
       " ('sql-server-2008', 0.93498528946537551),\n",
       " ('mysql', 0.906623737639903),\n",
       " ('select', 0.86542449319049508),\n",
       " ('sql-server-2005', 0.85241731531134013),\n",
       " ('database', 0.85201394364134941),\n",
       " ('sql-server-2008-r2', 0.8431796843868572),\n",
       " ('oracle', 0.82847583138031555),\n",
       " ('sql-server-2012', 0.82132500838792566),\n",
       " ('join', 0.81994568101464582),\n",
       " ('postgresql', 0.81389215510691626),\n",
       " ('ms-access', 0.80221184346494157),\n",
       " ('database-design', 0.78301096529451608),\n",
       " ('sql-update', 0.77638822429249021),\n",
       " ('ms-access-2010', 0.77491311729250856),\n",
       " ('group-by', 0.77283620646348683),\n",
       " ('subquery', 0.76446459464712535),\n",
       " ('query-optimization', 0.74722904760620112),\n",
       " ('oracle-sqldeveloper', 0.74190584312943719)]"
      ]
     },
     "execution_count": 36,
     "metadata": {},
     "output_type": "execute_result"
    }
   ],
   "source": [
    "sorted_similarity_dict[\"sql\"][:20]"
   ]
  },
  {
   "cell_type": "code",
   "execution_count": 37,
   "metadata": {
    "collapsed": true
   },
   "outputs": [],
   "source": [
    "pickle.dump(sorted_similarity_dict,open(PICKLE_DIR_ROOT+\"/sorted_similarity_dict\",'wb'))"
   ]
  },
  {
   "cell_type": "markdown",
   "metadata": {},
   "source": [
    "### build global similarity index"
   ]
  },
  {
   "cell_type": "code",
   "execution_count": 38,
   "metadata": {
    "collapsed": true
   },
   "outputs": [],
   "source": [
    "global_similarity_index = dict()\n",
    "\n",
    "for tag in tag_vocabulary:\n",
    "    \n",
    "    similarities_with_current_tag = list()\n",
    "    \n",
    "    for other_tag, similarity_to_other_tag in sorted_similarity_dict[tag]:\n",
    "        \n",
    "        if other_tag != tag:\n",
    "            similarities_with_current_tag.append(similarity_to_other_tag)\n",
    "\n",
    "    global_avg_sim_wrt_tag = np.array(similarities_with_current_tag).mean()\n",
    "    \n",
    "    global_similarity_index[tag] = global_avg_sim_wrt_tag\n",
    "            \n",
    "pickle.dump(global_similarity_index,open(PICKLE_DIR_ROOT+\"/global_similarity_index.p\",'wb'))"
   ]
  },
  {
   "cell_type": "code",
   "execution_count": 39,
   "metadata": {
    "collapsed": true
   },
   "outputs": [],
   "source": [
    "# global_similarity_index"
   ]
  },
  {
   "cell_type": "code",
   "execution_count": 40,
   "metadata": {},
   "outputs": [
    {
     "data": {
      "text/plain": [
       "[('c#', 0.52795604153827957),\n",
       " ('.net', 0.52236106858240805),\n",
       " ('web', 0.4969226718081366),\n",
       " ('c#-4.0', 0.49237019402918486),\n",
       " ('performance', 0.49044914996248945),\n",
       " ('design', 0.4879139521178063),\n",
       " ('java', 0.48654698269451507),\n",
       " ('javascript', 0.48598142589366),\n",
       " ('asp.net', 0.48340248344416714),\n",
       " ('security', 0.48224656500145713),\n",
       " ('php', 0.479727720273666),\n",
       " ('user-interface', 0.47964381495071595),\n",
       " ('.net-4.0', 0.47751789859829202),\n",
       " ('html5', 0.47722926814144856),\n",
       " ('optimization', 0.4765343297036051),\n",
       " ('windows', 0.4754632299158465),\n",
       " ('ios', 0.47506434270964637),\n",
       " ('cocoa', 0.47290753272968278),\n",
       " ('cocoa-touch', 0.47098829707762513),\n",
       " ('winforms', 0.4693216276848044)]"
      ]
     },
     "execution_count": 40,
     "metadata": {},
     "output_type": "execute_result"
    }
   ],
   "source": [
    "sorted(global_similarity_index.items(),key=lambda tpl: tpl[1],reverse=True)[:20]"
   ]
  },
  {
   "cell_type": "code",
   "execution_count": 41,
   "metadata": {},
   "outputs": [
    {
     "data": {
      "text/plain": [
       "(0.1386092775528045, 0.68468044509989034)"
      ]
     },
     "execution_count": 41,
     "metadata": {},
     "output_type": "execute_result"
    }
   ],
   "source": [
    "evaluate_cobrinha('android','android-service',tag_vectors_index,sorted_similarity_dict, global_similarity_index) "
   ]
  },
  {
   "cell_type": "code",
   "execution_count": 42,
   "metadata": {},
   "outputs": [
    {
     "data": {
      "text/plain": [
       "(0.034236584287048843, 0.84004162240234292)"
      ]
     },
     "execution_count": 42,
     "metadata": {},
     "output_type": "execute_result"
    }
   ],
   "source": [
    "evaluate_cobrinha('asp.net','asp.net-mvc',tag_vectors_index,sorted_similarity_dict, global_similarity_index) "
   ]
  },
  {
   "cell_type": "code",
   "execution_count": 43,
   "metadata": {},
   "outputs": [
    {
     "data": {
      "text/plain": [
       "(0.011887487520178763, 0.89472965425089446)"
      ]
     },
     "execution_count": 43,
     "metadata": {},
     "output_type": "execute_result"
    }
   ],
   "source": [
    "evaluate_cobrinha('asp.net-mvc','asp.net-mvc-5',tag_vectors_index,sorted_similarity_dict, global_similarity_index) "
   ]
  },
  {
   "cell_type": "markdown",
   "metadata": {},
   "source": [
    "what about unrelated stuff"
   ]
  },
  {
   "cell_type": "code",
   "execution_count": 44,
   "metadata": {},
   "outputs": [
    {
     "data": {
      "text/plain": [
       "(0.11558132868932458, 0.62033547900763397)"
      ]
     },
     "execution_count": 44,
     "metadata": {},
     "output_type": "execute_result"
    }
   ],
   "source": [
    "evaluate_cobrinha('java','arrays',tag_vectors_index,sorted_similarity_dict, global_similarity_index) "
   ]
  },
  {
   "cell_type": "code",
   "execution_count": 45,
   "metadata": {},
   "outputs": [
    {
     "data": {
      "text/plain": [
       "(-0.012370419948397549, 0.64212728227082461)"
      ]
     },
     "execution_count": 45,
     "metadata": {},
     "output_type": "execute_result"
    }
   ],
   "source": [
    "evaluate_cobrinha('ruby','python-2.7',tag_vectors_index,sorted_similarity_dict, global_similarity_index) "
   ]
  },
  {
   "cell_type": "code",
   "execution_count": 46,
   "metadata": {},
   "outputs": [
    {
     "data": {
      "text/plain": [
       "(0.020250833718711614, 0.64969034610153675)"
      ]
     },
     "execution_count": 46,
     "metadata": {},
     "output_type": "execute_result"
    }
   ],
   "source": [
    "evaluate_cobrinha('database','python-2.7',tag_vectors_index,sorted_similarity_dict, global_similarity_index) "
   ]
  },
  {
   "cell_type": "markdown",
   "metadata": {},
   "source": [
    "what's the mean and stddev of the similarity between all tags and each other?"
   ]
  },
  {
   "cell_type": "code",
   "execution_count": 47,
   "metadata": {},
   "outputs": [
    {
     "data": {
      "text/plain": [
       "(0.31303853122620334, 0.064948750968199978)"
      ]
     },
     "execution_count": 47,
     "metadata": {},
     "output_type": "execute_result"
    }
   ],
   "source": [
    "running_avgs = []\n",
    "\n",
    "for (tag, similarities_to_other_tags) in similarity_dict.items():\n",
    "    sims = [tpl[1] for tpl in similarities_to_other_tags]\n",
    "    \n",
    "    avg = np.array(sims).mean()\n",
    "    \n",
    "    running_avgs.append(avg)\n",
    "    \n",
    "np.array(running_avgs).mean(),np.array(running_avgs).std()"
   ]
  }
 ],
 "metadata": {
  "kernelspec": {
   "display_name": "Global TF Kernel (Python 3)",
   "language": "python",
   "name": "global-tf-python-3"
  },
  "language_info": {
   "codemirror_mode": {
    "name": "ipython",
    "version": 3
   },
   "file_extension": ".py",
   "mimetype": "text/x-python",
   "name": "python",
   "nbconvert_exporter": "python",
   "pygments_lexer": "ipython3",
   "version": "3.5.2"
  }
 },
 "nbformat": 4,
 "nbformat_minor": 2
}
