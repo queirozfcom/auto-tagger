{
 "cells": [
  {
   "cell_type": "code",
   "execution_count": 1,
   "metadata": {},
   "outputs": [
    {
     "name": "stderr",
     "output_type": "stream",
     "text": [
      "Using TensorFlow backend.\n"
     ]
    }
   ],
   "source": [
    "import csv\n",
    "import os\n",
    "import pickle\n",
    "import re\n",
    "import sys\n",
    "import numpy as np\n",
    "\n",
    "from joblib import Parallel, delayed\n",
    "\n",
    "from difflib import SequenceMatcher,get_close_matches\n",
    "\n",
    "from keras.preprocessing.text import Tokenizer\n",
    "from keras.preprocessing.sequence import pad_sequences\n",
    "from keras.utils import to_categorical\n",
    "from keras.layers import Dense, Dropout, Input, Flatten, Activation\n",
    "from keras.layers import Conv1D, MaxPooling1D, Embedding, GlobalAvgPool1D, GlobalMaxPooling1D\n",
    "from keras.models import Model, Sequential\n",
    "\n",
    "from numpy import linalg as LA\n",
    "\n",
    "from scipy import spatial\n",
    "\n",
    "from sklearn import preprocessing\n",
    "from sklearn.feature_extraction.text import CountVectorizer, TfidfVectorizer\n",
    "\n",
    "from tqdm import *\n",
    "\n",
    "module_path = os.path.abspath(os.path.join('../helpers/'))\n",
    "if module_path not in sys.path:\n",
    "    sys.path.append(module_path)\n",
    "\n",
    "# my stuff in the helpers/ directory\n",
    "import embeddings_helper, files_helper, texts_helper, metrics_helper, tags_helper,cobrinha_helper\n",
    "\n",
    "from cobrinha_helper import get_metrics_for_tag_pair\n"
   ]
  },
  {
   "cell_type": "code",
   "execution_count": 2,
   "metadata": {},
   "outputs": [
    {
     "data": {
      "text/plain": [
       "593"
      ]
     },
     "execution_count": 2,
     "metadata": {},
     "output_type": "execute_result"
    }
   ],
   "source": [
    "SEED=np.random.randint(1,1000)\n",
    "SEED"
   ]
  },
  {
   "cell_type": "code",
   "execution_count": 3,
   "metadata": {
    "collapsed": true
   },
   "outputs": [],
   "source": [
    "np.random.seed(SEED)"
   ]
  },
  {
   "cell_type": "code",
   "execution_count": 4,
   "metadata": {
    "collapsed": true
   },
   "outputs": [],
   "source": [
    "PICKLE_DIR_ROOT = \"/media/felipe/SSD_VOLUME/auto-tagger/data/tag-hierarchy/\""
   ]
  },
  {
   "cell_type": "code",
   "execution_count": 5,
   "metadata": {
    "collapsed": true
   },
   "outputs": [],
   "source": [
    "texts, labels = files_helper.read_stackoverflow_sample_stanford_tokenized(\"Medium-Sample-Posts-Shuffled\",ssd=True)"
   ]
  },
  {
   "cell_type": "code",
   "execution_count": 6,
   "metadata": {
    "collapsed": true
   },
   "outputs": [],
   "source": [
    "MAX_NB_WORDS = 8000\n",
    "MAX_SEQUENCE_LENGTH = 1000\n",
    "LABELS_MIN_DOC_PROPORTION = 0.0005 # only tags appearing in at least CORPUS_SIZE * LABELS_MIN_DOC_PROPORTION will be used\n",
    "TOKENIZER_FILTERS='' # I will perform tokenization myself"
   ]
  },
  {
   "cell_type": "code",
   "execution_count": 7,
   "metadata": {
    "collapsed": true
   },
   "outputs": [],
   "source": [
    "tokenizer = Tokenizer(num_words=MAX_NB_WORDS,\n",
    "                     filters=TOKENIZER_FILTERS)\n",
    "tokenizer.fit_on_texts(texts)\n",
    "sequences = tokenizer.texts_to_sequences(texts)\n",
    "\n",
    "# word => word_index_position\n",
    "word_index = tokenizer.word_index\n",
    "\n",
    "# word_index_position => word\n",
    "inverse_word_index = texts_helper.build_inverse_word_index(word_index)"
   ]
  },
  {
   "cell_type": "code",
   "execution_count": 25,
   "metadata": {},
   "outputs": [],
   "source": [
    "# write a text-copy in the current directory too\n",
    "with open('word-vocabulary.txt','w+') as f:\n",
    "    for word,pos in sorted(word_index.items(),key=lambda tpl:tpl[1]):\n",
    "        f.write(word+\" => \"+ str(pos)+\"\\n\")"
   ]
  },
  {
   "cell_type": "code",
   "execution_count": 8,
   "metadata": {},
   "outputs": [
    {
     "data": {
      "text/plain": [
       "(500000, 250)"
      ]
     },
     "execution_count": 8,
     "metadata": {},
     "output_type": "execute_result"
    }
   ],
   "source": [
    "corpus_size = len(texts)\n",
    "labels_min_doc_count = int(corpus_size * LABELS_MIN_DOC_PROPORTION)\n",
    "\n",
    "corpus_size,labels_min_doc_count"
   ]
  },
  {
   "cell_type": "code",
   "execution_count": 9,
   "metadata": {
    "collapsed": true
   },
   "outputs": [],
   "source": [
    "truncated_labels = tags_helper.truncate_labels(labels,labels_min_doc_count)"
   ]
  },
  {
   "cell_type": "code",
   "execution_count": 10,
   "metadata": {
    "collapsed": true
   },
   "outputs": [],
   "source": [
    "lb = preprocessing.MultiLabelBinarizer()\n",
    "binary_labels = lb.fit_transform(truncated_labels)"
   ]
  },
  {
   "cell_type": "code",
   "execution_count": 11,
   "metadata": {
    "collapsed": true
   },
   "outputs": [],
   "source": [
    "# make each document (sequence of word indices) be truncated to \n",
    "# MAX_SEQUENCE_LENGTH\n",
    "tokenized_texts = []\n",
    "\n",
    "for seq in sequences:\n",
    "    truncated_seq = seq[:MAX_SEQUENCE_LENGTH]\n",
    "    tokenized_txt = \" \".join([inverse_word_index[idx] for idx in truncated_seq])\n",
    "    tokenized_texts.append(tokenized_txt)"
   ]
  },
  {
   "cell_type": "code",
   "execution_count": 12,
   "metadata": {
    "collapsed": true
   },
   "outputs": [],
   "source": [
    "# extracting IDF weights to weight the embeddings\n",
    "\n",
    "# snooping\n",
    "vect = TfidfVectorizer(max_features=MAX_NB_WORDS).fit(tokenized_texts)\n",
    "\n",
    "feature_names = vect.get_feature_names()\n",
    "idf = vect.idf_\n",
    "\n",
    "# word => word IDF\n",
    "idf_index = dict(zip(vect.get_feature_names(), idf))"
   ]
  },
  {
   "cell_type": "code",
   "execution_count": 13,
   "metadata": {
    "collapsed": true
   },
   "outputs": [],
   "source": [
    "document_vectors = vect.transform(tokenized_texts)"
   ]
  },
  {
   "cell_type": "code",
   "execution_count": 14,
   "metadata": {},
   "outputs": [
    {
     "data": {
      "text/plain": [
       "7410"
      ]
     },
     "execution_count": 14,
     "metadata": {},
     "output_type": "execute_result"
    }
   ],
   "source": [
    "NUM_WORDS = document_vectors[0].shape[1]\n",
    "NUM_WORDS"
   ]
  },
  {
   "cell_type": "code",
   "execution_count": 15,
   "metadata": {
    "collapsed": true
   },
   "outputs": [],
   "source": [
    "# document_id => [tag1, tag2, tag3, ...]\n",
    "document_tag_index = tags_helper.get_document_tag_index(binary_labels,lb.classes_)\n",
    "\n",
    "# tag => [document_id1, document_id2, document_id3, ...]\n",
    "tag_document_index = tags_helper.get_tag_document_index(binary_labels, lb.classes_)"
   ]
  },
  {
   "cell_type": "markdown",
   "metadata": {},
   "source": [
    "### build tag_vocabulary"
   ]
  },
  {
   "cell_type": "code",
   "execution_count": 16,
   "metadata": {
    "collapsed": true
   },
   "outputs": [],
   "source": [
    "tag_vocabulary = lb.classes_"
   ]
  },
  {
   "cell_type": "code",
   "execution_count": 17,
   "metadata": {},
   "outputs": [
    {
     "data": {
      "text/plain": [
       "737"
      ]
     },
     "execution_count": 17,
     "metadata": {},
     "output_type": "execute_result"
    }
   ],
   "source": [
    "len(tag_vocabulary)"
   ]
  },
  {
   "cell_type": "code",
   "execution_count": 55,
   "metadata": {
    "scrolled": false
   },
   "outputs": [
    {
     "data": {
      "text/plain": [
       "'.htaccess   .net   .net-4.0   3d   access-vba   actionscript   actionscript-3   active-directory   activerecord   ado.net   ajax   algorithm   amazon-ec2   amazon-s3   amazon-web-services   android   android-actionbar   android-activity   android-asynctask   android-edittext   android-emulator   android-fragments   android-gradle   android-intent   android-layout   android-listview   android-ndk   android-studio   android-viewpager   angular-ui-router   angular2   angularjs   angularjs-directive   angularjs-scope   animation   annotations   ant   apache   apache-spark   api   applet   architecture   arduino   arm   arraylist   arrays   asp-classic   asp.net   asp.net-core   asp.net-mvc   asp.net-mvc-2   asp.net-mvc-3   asp.net-mvc-4   asp.net-mvc-5   asp.net-web-api   assembly   asynchronous   attributes   audio   authentication   autocomplete   autolayout   automation   awk   azure   backbone.js   background   bash   batch-file   beautifulsoup   binary   binding   bitmap   blackberry   bluetooth   boolean   boost   browser   build   button   c   c#   c#-4.0   c++   c++11   caching   cakephp   calendar   callback   camera   canvas   cassandra   casting   centos   char   character-encoding   charts   checkbox   ckeditor   class   click   clojure   cmake   cmd   cocoa   cocoa-touch   cocos2d-iphone   codeigniter   coding-style   coffeescript   coldfusion   collections   colors   com   combobox   command   command-line   compare   compilation   compiler-construction   compiler-errors   concurrency   configuration   console   constructor   controller   cookies   cordova   core-data   cors   count   crash   cron   cross-browser   cryptography   crystal-reports   css   css-selectors   css3   csv   cuda   curl   cursor   d3.js   data-binding   data-structures   database   database-design   dataframe   datagrid   datagridview   datatable   datatables   date   datepicker   datetime   db2   debugging   delegates   delphi   dependencies   dependency-injection   deployment   design   design-patterns   devise   dialog   dictionary   directory   django   django-forms   django-models   django-templates   django-views   dll   dns   docker   doctrine   doctrine2   documentation   dojo   dom   download   drag-and-drop   drop-down-menu   drupal   drupal-7   duplicates   dynamic   eclipse   eclipse-plugin   ecmascript-6   elasticsearch   eloquent   emacs   email   ember.js   encoding   encryption   entity-framework   entity-framework-4   enums   erlang   error-handling   escaping   event-handling   events   excel   excel-formula   excel-vba   exception   exception-handling   express   extjs   f#   facebook   facebook-graph-api   ffmpeg   file   file-io   file-upload   filter   find   firebase   firebase-database   firefox   flash   flask   flex   floating-point   fonts   for-loop   foreach   formatting   forms   fortran   frameworks   ftp   function   functional-programming   g++   garbage-collection   gcc   gdb   gem   generics   geolocation   geometry   get   ggplot2   git   github   gmail   go   google-analytics   google-api   google-app-engine   google-apps-script   google-chrome   google-chrome-extension   google-drive-sdk   google-maps   google-maps-api-3   google-spreadsheet   gps   gradle   grails   graph   graphics   grep   grid   gridview   groovy   group-by   gruntjs   gulp   gwt   hadoop   hash   hashmap   haskell   header   heroku   hibernate   highcharts   hive   hover   html   html-table   html5   html5-canvas   http   http-headers   https   hyperlink   ide   if-statement   iframe   iis   iis-7   image   image-processing   imageview   import   include   indexing   inheritance   initialization   input   insert   installation   integer   intellij-idea   interface   internationalization   internet-explorer   internet-explorer-8   io   ionic-framework   ios   ios4   ios5   ios6   ios7   ios8   ipad   iphone   iterator   jackson   jar   jasmine   jasper-reports   java   java-8   java-ee   javafx   javascript   javascript-events   jaxb   jboss   jdbc   jenkins   jersey   jframe   jmeter   jni   join   joomla   jpa   jqgrid   jquery   jquery-mobile   jquery-plugins   jquery-selectors   jquery-ui   jsf   jsf-2   json   json.net   jsp   jtable   junit   jvm   kendo-ui   keyboard   knockout.js   lambda   language-agnostic   laravel   laravel-4   laravel-5   laravel-5.2   layout   ldap   libgdx   linked-list   linker   linq   linq-to-sql   linux   linux-kernel   list   listbox   listview   localization   logging   login   loops   lua   lucene   machine-learning   macros   magento   makefile   map   mapreduce   math   matlab   matplotlib   matrix   maven   memory   memory-leaks   memory-management   menu   mercurial   merge   meteor   methods   mfc   mobile   mocking   mod-rewrite   modal-dialog   model   model-view-controller   module   mongodb   mongoose   mono   ms-access   ms-word   msbuild   multidimensional-array   multithreading   mvvm   mysql   mysqli   namespaces   navigation   neo4j   nested   netbeans   network-programming   networking   neural-network   nginx   nhibernate   node.js   nosql   notifications   npm   null   nullpointerexception   numbers   numpy   oauth   oauth-2.0   object   objective-c   onclick   oop   opencv   opengl   opengl-es   openssl   operating-system   optimization   oracle   oracle11g   orm   osx   outlook   pagination   pandas   parallel-processing   parameters   parse.com   parsing   passwords   path   paypal   pdf   pdo   performance   perl   permissions   phantomjs   php   phpmyadmin   phpunit   pip   playframework   plot   plsql   plugins   pointers   popup   position   post   postgresql   powershell   primefaces   printing   process   prolog   promise   properties   proxy   push-notification   pyqt   python   python-2.7   python-3.x   qt   r   radio-button   random   raspberry-pi   razor   react-native   reactjs   recursion   recyclerview   redirect   redis   reference   reflection   regex   replace   reporting-services   request   requirejs   resize   resources   responsive-design   rest   rotation   routes   routing   rspec   ruby   ruby-on-rails   ruby-on-rails-3   ruby-on-rails-3.2   ruby-on-rails-4   rubygems   safari   sas   sass   sbt   scala   scikit-learn   scipy   scope   scripting   scroll   sdk   search   security   sed   segmentation-fault   select   selenium   selenium-webdriver   serial-port   serialization   server   service   servlets   session   set   sharepoint   sharepoint-2010   shell   silverlight   slider   smtp   soap   socket.io   sockets   solr   sorting   split   spring   spring-boot   spring-mvc   spring-security   sprite-kit   sql   sql-server   sql-server-2005   sql-server-2008   sql-server-2008-r2   sql-server-2012   sql-update   sqlalchemy   sqlite   sqlite3   ssh   ssis   ssl   stack   static   statistics   stl   stored-procedures   storyboard   stream   string   struct   struts2   styles   sum   svg   svn   swift   swift2   swift3   swing   switch-statement   symfony   synchronization   syntax   table   tabs   tags   tcp   telerik   templates   tensorflow   terminal   testing   text   textbox   textview   tfs   three.js   time   timer   timestamp   timezone   tkinter   tomcat   transactions   tree   triggers   tsql   twitter   twitter-bootstrap   twitter-bootstrap-3   types   typescript   ubuntu   udp   uibutton   uicollectionview   uiimage   uiimageview   uinavigationcontroller   uiscrollview   uitableview   uiview   uiviewcontroller   uiwebview   unicode   unit-testing   unity3d   unix   upload   url   url-rewriting   user-controls   user-interface   utf-8   uwp   vagrant   validation   variables   vb.net   vb6   vba   vbscript   vector   version-control   video   view   vim   visual-c++   visual-studio   visual-studio-2008   visual-studio-2010   visual-studio-2012   visual-studio-2013   visual-studio-2015   wcf   web   web-applications   web-config   web-scraping   web-services   webdriver   webforms   webpack   website   websocket   webview   while-loop   widget   winapi   window   windows   windows-7   windows-8   windows-phone   windows-phone-7   windows-phone-8   windows-phone-8.1   windows-runtime   windows-services   winforms   wix   woocommerce   wordpress   wordpress-plugin   wpf   wsdl   wso2   x86   xamarin   xamarin.android   xamarin.ios   xaml   xampp   xcode   xml   xml-parsing   xmlhttprequest   xpath   xsd   xslt   yii   yii2   youtube   youtube-api   zend-framework   zend-framework2'"
      ]
     },
     "execution_count": 55,
     "metadata": {},
     "output_type": "execute_result"
    }
   ],
   "source": [
    "\"   \".join(sorted(tag_vocabulary))"
   ]
  },
  {
   "cell_type": "code",
   "execution_count": 19,
   "metadata": {
    "collapsed": true
   },
   "outputs": [],
   "source": [
    "pickle.dump(tag_vocabulary,open(PICKLE_DIR_ROOT+\"/tag_vocabulary.p\",\"wb\"))"
   ]
  },
  {
   "cell_type": "code",
   "execution_count": 20,
   "metadata": {
    "collapsed": true
   },
   "outputs": [],
   "source": [
    "tag_frequency_index = dict()\n",
    "\n",
    "for tag in tag_vocabulary:\n",
    "    freq = len(tag_document_index[tag])   \n",
    "    tag_frequency_index[tag] = freq\n",
    "\n",
    "pickle.dump(tag_frequency_index,open(PICKLE_DIR_ROOT+\"/tag_frequency_index.p\",\"wb\"))"
   ]
  },
  {
   "cell_type": "code",
   "execution_count": 21,
   "metadata": {
    "collapsed": true
   },
   "outputs": [],
   "source": [
    "# write a text-copy in the current directory too\n",
    "with open('tag-frequencies.txt','w+') as f:\n",
    "    for tag in tag_vocabulary:\n",
    "        f.write(tag+\" => \"+ str(tag_frequency_index[tag])+\"\\n\")"
   ]
  },
  {
   "cell_type": "code",
   "execution_count": 26,
   "metadata": {},
   "outputs": [
    {
     "data": {
      "text/plain": [
       "(\"replacing asp datagrid control to custom jquery control ( telerik , or other library ) . we have a traditional aspx application . we are using so many asp server controls in our application which in ui look n feel . i have been looking into telerik and other asp custom control library . we are also looking for open source library which doesnt come with license . i want to ask how can we start replacing all the asp . net control to any good ui custom control library . as we want to change as much less our code . i need pointers to open source asp custom control ui library . and steps needed . in aspx code : in the server side we have a bind function private sub ( ) dim as data . ' bind data grid = / / function which is returning sets from database / / me . . datasource = me . . databind ( ) end sub and couple more handlers to handle data grid events like private sub ( byval source as system . object , byval e as system . web . ui . . ) handles .\",\n",
       " ['asp.net', 'jquery', 'telerik', 'vb.net'])"
      ]
     },
     "execution_count": 26,
     "metadata": {},
     "output_type": "execute_result"
    }
   ],
   "source": [
    "i = 1\n",
    "tokenized_texts[i],document_tag_index[i]"
   ]
  },
  {
   "cell_type": "markdown",
   "metadata": {},
   "source": [
    "### build tag_vectors_index\n",
    "\n",
    "> if a tag is the ONLY tag assigned to some document, that's probably a more representative document of this tag, than if this tag were only one among many others"
   ]
  },
  {
   "cell_type": "code",
   "execution_count": 27,
   "metadata": {
    "collapsed": true
   },
   "outputs": [],
   "source": [
    "# tag => tag_vector\n",
    "tag_vectors_index = dict()\n",
    "\n",
    "for (tag,document_ids) in tqdm(tag_document_index.items()):\n",
    "    \n",
    "    tag_vector = np.zeros(NUM_WORDS)\n",
    "    \n",
    "    for document_id in document_ids:\n",
    "        document_vector = document_vectors[document_id]\n",
    "        num_tags = len(document_tag_index[document_id])\n",
    "\n",
    "        weight = 1.0 / num_tags\n",
    "\n",
    "        weighted_document_vector = document_vector * weight\n",
    "        \n",
    "        tag_vector = tag_vector + weighted_document_vector\n",
    "        \n",
    "    tag_vectors_index[tag] = np.asarray(tag_vector).ravel()"
   ]
  },
  {
   "cell_type": "code",
   "execution_count": 28,
   "metadata": {
    "collapsed": true
   },
   "outputs": [],
   "source": [
    "pickle.dump(tag_vectors_index,open(PICKLE_DIR_ROOT+\"/tag_vectors_index.p\",\"wb\"))"
   ]
  },
  {
   "cell_type": "code",
   "execution_count": null,
   "metadata": {
    "collapsed": true
   },
   "outputs": [],
   "source": [
    "normalized_tag_vectors_index = dict()    \n",
    "\n",
    "## THIS SUCKS.. WHY?\n",
    "## normalize vectors to make cosine similarity more accurate  \n",
    "for (tag,tag_vector) in tag_vectors_index.items():    \n",
    "    normalized_tag_vectors_index[tag] = LA.norm(tag_vector, 2)"
   ]
  },
  {
   "cell_type": "code",
   "execution_count": 29,
   "metadata": {
    "collapsed": true
   },
   "outputs": [],
   "source": [
    "def _cosine_similarity(a,b):\n",
    "    return 1 - spatial.distance.cosine(a, b)"
   ]
  },
  {
   "cell_type": "code",
   "execution_count": 30,
   "metadata": {
    "collapsed": true
   },
   "outputs": [],
   "source": [
    "target_tags = ['sql-server-2008','sql','sql-server','mysql','database','postgresql','select','join','oracle','tsql','sqlite']\n",
    "\n",
    "pairs = [ (a,b) for a in target_tags for b in target_tags if a != b ]"
   ]
  },
  {
   "cell_type": "code",
   "execution_count": 31,
   "metadata": {},
   "outputs": [
    {
     "name": "stdout",
     "output_type": "stream",
     "text": [
      "SIM 'sql-server-2008' 'sql' => 0.9291628095667054\n",
      "SIM 'sql-server-2008' 'sql-server' => 0.9829380997991071\n",
      "SIM 'sql-server-2008' 'mysql' => 0.8065604193626673\n",
      "SIM 'sql-server-2008' 'database' => 0.8170611875289827\n",
      "SIM 'sql-server-2008' 'postgresql' => 0.761087500951073\n",
      "SIM 'sql-server-2008' 'select' => 0.785103881919789\n",
      "SIM 'sql-server-2008' 'join' => 0.7130952681509377\n",
      "SIM 'sql-server-2008' 'oracle' => 0.7671177042552559\n",
      "SIM 'sql-server-2008' 'tsql' => 0.9443029838094574\n",
      "SIM 'sql-server-2008' 'sqlite' => 0.6345147604149299\n",
      "SIM 'sql' 'sql-server-2008' => 0.9291628095667054\n",
      "SIM 'sql' 'sql-server' => 0.952545989316134\n",
      "SIM 'sql' 'mysql' => 0.9112950896230164\n",
      "SIM 'sql' 'database' => 0.858316269587468\n",
      "SIM 'sql' 'postgresql' => 0.833948173237951\n",
      "SIM 'sql' 'select' => 0.8978246507586888\n",
      "SIM 'sql' 'join' => 0.8354713336785698\n",
      "SIM 'sql' 'oracle' => 0.832804201032417\n",
      "SIM 'sql' 'tsql' => 0.9619093170088324\n",
      "SIM 'sql' 'sqlite' => 0.6884356896724918\n",
      "SIM 'sql-server' 'sql-server-2008' => 0.9829380997991071\n",
      "SIM 'sql-server' 'sql' => 0.952545989316134\n",
      "SIM 'sql-server' 'mysql' => 0.8335361794453082\n",
      "SIM 'sql-server' 'database' => 0.8466121393014135\n",
      "SIM 'sql-server' 'postgresql' => 0.7866167040306581\n",
      "SIM 'sql-server' 'select' => 0.8125575732307188\n",
      "SIM 'sql-server' 'join' => 0.7368853194923236\n",
      "SIM 'sql-server' 'oracle' => 0.7922496751667272\n",
      "SIM 'sql-server' 'tsql' => 0.9602819871852165\n",
      "SIM 'sql-server' 'sqlite' => 0.6591035493604988\n",
      "SIM 'mysql' 'sql-server-2008' => 0.8065604193626673\n",
      "SIM 'mysql' 'sql' => 0.9112950896230164\n",
      "SIM 'mysql' 'sql-server' => 0.8335361794453082\n",
      "SIM 'mysql' 'database' => 0.8778485798599551\n",
      "SIM 'mysql' 'postgresql' => 0.7928600254090145\n",
      "SIM 'mysql' 'select' => 0.8544403234749335\n",
      "SIM 'mysql' 'join' => 0.7853616265383496\n",
      "SIM 'mysql' 'oracle' => 0.7439752174185653\n",
      "SIM 'mysql' 'tsql' => 0.8381351219644697\n",
      "SIM 'mysql' 'sqlite' => 0.6753076384529719\n",
      "SIM 'database' 'sql-server-2008' => 0.8170611875289827\n",
      "SIM 'database' 'sql' => 0.858316269587468\n",
      "SIM 'database' 'sql-server' => 0.8466121393014135\n",
      "SIM 'database' 'mysql' => 0.8778485798599551\n",
      "SIM 'database' 'postgresql' => 0.8075843740524246\n",
      "SIM 'database' 'select' => 0.7555602327900753\n",
      "SIM 'database' 'join' => 0.6837594460937264\n",
      "SIM 'database' 'oracle' => 0.7623016165088031\n",
      "SIM 'database' 'tsql' => 0.7945772667923481\n",
      "SIM 'database' 'sqlite' => 0.7745184081942326\n",
      "SIM 'postgresql' 'sql-server-2008' => 0.761087500951073\n",
      "SIM 'postgresql' 'sql' => 0.833948173237951\n",
      "SIM 'postgresql' 'sql-server' => 0.7866167040306581\n",
      "SIM 'postgresql' 'mysql' => 0.7928600254090145\n",
      "SIM 'postgresql' 'database' => 0.8075843740524246\n",
      "SIM 'postgresql' 'select' => 0.7621319536461805\n",
      "SIM 'postgresql' 'join' => 0.6819709568723893\n",
      "SIM 'postgresql' 'oracle' => 0.7162954564359869\n",
      "SIM 'postgresql' 'tsql' => 0.7872571301247792\n",
      "SIM 'postgresql' 'sqlite' => 0.6431341160643526\n",
      "SIM 'select' 'sql-server-2008' => 0.785103881919789\n",
      "SIM 'select' 'sql' => 0.8978246507586888\n",
      "SIM 'select' 'sql-server' => 0.8125575732307188\n",
      "SIM 'select' 'mysql' => 0.8544403234749335\n",
      "SIM 'select' 'database' => 0.7555602327900753\n",
      "SIM 'select' 'postgresql' => 0.7621319536461805\n",
      "SIM 'select' 'join' => 0.7692500738450567\n",
      "SIM 'select' 'oracle' => 0.74080855063456\n",
      "SIM 'select' 'tsql' => 0.8615215305035548\n",
      "SIM 'select' 'sqlite' => 0.6163833316105672\n",
      "SIM 'join' 'sql-server-2008' => 0.7130952681509377\n",
      "SIM 'join' 'sql' => 0.8354713336785698\n",
      "SIM 'join' 'sql-server' => 0.7368853194923236\n",
      "SIM 'join' 'mysql' => 0.7853616265383496\n",
      "SIM 'join' 'database' => 0.6837594460937264\n",
      "SIM 'join' 'postgresql' => 0.6819709568723893\n",
      "SIM 'join' 'select' => 0.7692500738450567\n",
      "SIM 'join' 'oracle' => 0.646736076519103\n",
      "SIM 'join' 'tsql' => 0.7732544956598709\n",
      "SIM 'join' 'sqlite' => 0.5441475938193354\n",
      "SIM 'oracle' 'sql-server-2008' => 0.7671177042552559\n",
      "SIM 'oracle' 'sql' => 0.832804201032417\n",
      "SIM 'oracle' 'sql-server' => 0.7922496751667272\n",
      "SIM 'oracle' 'mysql' => 0.7439752174185653\n",
      "SIM 'oracle' 'database' => 0.7623016165088031\n",
      "SIM 'oracle' 'postgresql' => 0.7162954564359869\n",
      "SIM 'oracle' 'select' => 0.74080855063456\n",
      "SIM 'oracle' 'join' => 0.646736076519103\n",
      "SIM 'oracle' 'tsql' => 0.7865455107544999\n",
      "SIM 'oracle' 'sqlite' => 0.5960363842971487\n",
      "SIM 'tsql' 'sql-server-2008' => 0.9443029838094574\n",
      "SIM 'tsql' 'sql' => 0.9619093170088324\n",
      "SIM 'tsql' 'sql-server' => 0.9602819871852165\n",
      "SIM 'tsql' 'mysql' => 0.8381351219644697\n",
      "SIM 'tsql' 'database' => 0.7945772667923481\n",
      "SIM 'tsql' 'postgresql' => 0.7872571301247792\n",
      "SIM 'tsql' 'select' => 0.8615215305035548\n",
      "SIM 'tsql' 'join' => 0.7732544956598709\n",
      "SIM 'tsql' 'oracle' => 0.7865455107544999\n",
      "SIM 'tsql' 'sqlite' => 0.6388804234698671\n",
      "SIM 'sqlite' 'sql-server-2008' => 0.6345147604149299\n",
      "SIM 'sqlite' 'sql' => 0.6884356896724918\n",
      "SIM 'sqlite' 'sql-server' => 0.6591035493604988\n",
      "SIM 'sqlite' 'mysql' => 0.6753076384529719\n",
      "SIM 'sqlite' 'database' => 0.7745184081942326\n",
      "SIM 'sqlite' 'postgresql' => 0.6431341160643526\n",
      "SIM 'sqlite' 'select' => 0.6163833316105672\n",
      "SIM 'sqlite' 'join' => 0.5441475938193354\n",
      "SIM 'sqlite' 'oracle' => 0.5960363842971487\n",
      "SIM 'sqlite' 'tsql' => 0.6388804234698671\n"
     ]
    }
   ],
   "source": [
    "for (tag_a,tag_b) in pairs:\n",
    "    tag_a_vector = tag_vectors_index[tag_a]\n",
    "    tag_b_vector = tag_vectors_index[tag_b]\n",
    "    \n",
    "    sim = _cosine_similarity(tag_a_vector,tag_b_vector)\n",
    "    \n",
    "    print(\"SIM '{}' '{}' => {}\".format(tag_a,tag_b,sim))\n",
    "    "
   ]
  },
  {
   "cell_type": "markdown",
   "metadata": {},
   "source": [
    "if all other tags are, on average, more similar to A than to B, then A is probably more generic than B\n",
    "\n",
    "should it be normalized by the difference between A and B?\n",
    "\n",
    "will fail for tags that are below B?"
   ]
  },
  {
   "cell_type": "code",
   "execution_count": 36,
   "metadata": {},
   "outputs": [
    {
     "data": {
      "text/plain": [
       "0.77451840819423257"
      ]
     },
     "execution_count": 36,
     "metadata": {},
     "output_type": "execute_result"
    }
   ],
   "source": [
    "sql_vector = tag_vectors_index['database']\n",
    "avg_diff = list()\n",
    "\n",
    "for (tag_name,tag_vector) in tag_vectors_index.items():\n",
    "    avg_diff.append(_cosine_similarity(tag_a_vector,sql_vector))\n",
    "    \n",
    "np.mean(np.array(avg_diff))"
   ]
  },
  {
   "cell_type": "code",
   "execution_count": 37,
   "metadata": {},
   "outputs": [
    {
     "data": {
      "text/plain": [
       "0.65910354936049864"
      ]
     },
     "execution_count": 37,
     "metadata": {},
     "output_type": "execute_result"
    }
   ],
   "source": [
    "sql_vector = tag_vectors_index['sql-server']\n",
    "avg_diff = list()\n",
    "\n",
    "for (tag_name,tag_vector) in tag_vectors_index.items():\n",
    "    avg_diff.append(_cosine_similarity(tag_a_vector,sql_vector))\n",
    "    \n",
    "np.mean(np.array(avg_diff))"
   ]
  },
  {
   "cell_type": "code",
   "execution_count": 34,
   "metadata": {},
   "outputs": [
    {
     "data": {
      "text/plain": [
       "0.63451476041493016"
      ]
     },
     "execution_count": 34,
     "metadata": {},
     "output_type": "execute_result"
    }
   ],
   "source": [
    "sql_vector = tag_vectors_index['sql-server-2008']\n",
    "avg_diff = list()\n",
    "\n",
    "for (tag_name,tag_vector) in tag_vectors_index.items():\n",
    "    avg_diff.append(_cosine_similarity(tag_a_vector,sql_vector))\n",
    "    \n",
    "np.mean(np.array(avg_diff))"
   ]
  },
  {
   "cell_type": "code",
   "execution_count": 38,
   "metadata": {
    "collapsed": true
   },
   "outputs": [],
   "source": [
    "def get_sim(tag_a,tag_b):\n",
    "    \n",
    "    sim = _cosine_similarity(tag_vectors_index[tag_a],tag_vectors_index[tag_b])\n",
    "    \n",
    "    return (tag_a,tag_b,sim)"
   ]
  },
  {
   "cell_type": "code",
   "execution_count": 39,
   "metadata": {
    "collapsed": true
   },
   "outputs": [],
   "source": [
    "all_tags = [tag for (tag,_) in tag_vectors_index.items()]"
   ]
  },
  {
   "cell_type": "code",
   "execution_count": 40,
   "metadata": {
    "collapsed": true
   },
   "outputs": [],
   "source": [
    "sims = Parallel(n_jobs=-1)(delayed(get_sim)(a,b) for a in all_tags for b in all_tags)"
   ]
  },
  {
   "cell_type": "code",
   "execution_count": 41,
   "metadata": {},
   "outputs": [
    {
     "data": {
      "text/plain": [
       "[('jackson', 'jackson', 0.99999999999999989),\n",
       " ('jackson', 'reflection', 0.51956802986866779),\n",
       " ('jackson', 'dll', 0.25866232577141124),\n",
       " ('jackson', 'architecture', 0.39364916033882613),\n",
       " ('jackson', 'loops', 0.40255028779815838),\n",
       " ('jackson', '.net-4.0', 0.44457963147019997),\n",
       " ('jackson', 'regex', 0.33665023568345054),\n",
       " ('jackson', 'jenkins', 0.21674803428873846),\n",
       " ('jackson', 'exception', 0.45280418173228476),\n",
       " ('jackson', 'ffmpeg', 0.19184276253419164)]"
      ]
     },
     "execution_count": 41,
     "metadata": {},
     "output_type": "execute_result"
    }
   ],
   "source": [
    "sims[:10]"
   ]
  },
  {
   "cell_type": "code",
   "execution_count": 42,
   "metadata": {
    "collapsed": true
   },
   "outputs": [],
   "source": [
    "pairwise_similarity_dict = dict()\n",
    "\n",
    "for tag_a,tag_b, sim in sims:\n",
    "    \n",
    "    if pairwise_similarity_dict.get(tag_a) is None:\n",
    "        pairwise_similarity_dict[tag_a] = [(tag_b,sim)]\n",
    "    else:\n",
    "        pairwise_similarity_dict[tag_a].append((tag_b,sim))"
   ]
  },
  {
   "cell_type": "code",
   "execution_count": 43,
   "metadata": {},
   "outputs": [
    {
     "data": {
      "text/plain": [
       "[('jackson', 0.35431049596438946),\n",
       " ('reflection', 0.49434239867438867),\n",
       " ('dll', 0.38416226836820333),\n",
       " ('architecture', 0.63225685994859249),\n",
       " ('loops', 0.6531479366212255),\n",
       " ('.net-4.0', 0.63392357980771474),\n",
       " ('regex', 0.52056455884758845),\n",
       " ('jenkins', 0.32264793024061589),\n",
       " ('exception', 0.50973975484893086),\n",
       " ('ffmpeg', 0.30906535039361394),\n",
       " ('scroll', 0.44791580136997744),\n",
       " ('swift3', 0.46049914268799397),\n",
       " ('dynamic', 0.69017815088574042),\n",
       " ('static', 0.42291974401546251),\n",
       " ('websocket', 0.41043308933345335),\n",
       " ('swift', 0.5204105659640087),\n",
       " ('performance', 0.74585135587224227),\n",
       " ('stl', 0.42421013009556163),\n",
       " ('opengl-es', 0.43934795250101011),\n",
       " ('interface', 0.42281249846307989)]"
      ]
     },
     "execution_count": 43,
     "metadata": {},
     "output_type": "execute_result"
    }
   ],
   "source": [
    "pairwise_similarity_dict[\"sql\"][:20]"
   ]
  },
  {
   "cell_type": "code",
   "execution_count": 44,
   "metadata": {},
   "outputs": [
    {
     "data": {
      "text/plain": [
       "[('tsql', 0.96190931700883242),\n",
       " ('sql-server', 0.95254598931613399),\n",
       " ('sql-server-2008', 0.92916280956670538),\n",
       " ('mysql', 0.91129508962301642),\n",
       " ('select', 0.89782465075868878),\n",
       " ('sql-server-2012', 0.88684567432481809),\n",
       " ('sql-server-2008-r2', 0.88480977786474824),\n",
       " ('sql-server-2005', 0.88250364108234103),\n",
       " ('database', 0.85831626958746798),\n",
       " ('join', 0.83547133367856985),\n",
       " ('postgresql', 0.83394817323795101),\n",
       " ('oracle', 0.83280420103241704),\n",
       " ('ms-access', 0.81548975867485429),\n",
       " ('group-by', 0.80747757699783751),\n",
       " ('sql-update', 0.79760414291182635),\n",
       " ('database-design', 0.79697121542133098),\n",
       " ('oracle11g', 0.78241275665253496),\n",
       " ('table', 0.77902824083126654),\n",
       " ('linq-to-sql', 0.77501594490089354)]"
      ]
     },
     "execution_count": 44,
     "metadata": {},
     "output_type": "execute_result"
    }
   ],
   "source": [
    "sorted(pairwise_similarity_dict[\"sql\"],key=lambda tpl : tpl[1],reverse=True)[1:20]"
   ]
  },
  {
   "cell_type": "code",
   "execution_count": 45,
   "metadata": {
    "collapsed": true
   },
   "outputs": [],
   "source": [
    "sorted_pairwise_similarity_dict = dict()\n",
    "\n",
    "for (tag, similarities_to_other_tags) in pairwise_similarity_dict.items():\n",
    "    \n",
    "    sorted_similarities = sorted(similarities_to_other_tags,key=lambda tpl: tpl[1],reverse=True)\n",
    "    sorted_without_self = sorted_similarities[1:]\n",
    "    \n",
    "    sorted_pairwise_similarity_dict[tag] = sorted_without_self"
   ]
  },
  {
   "cell_type": "code",
   "execution_count": 46,
   "metadata": {},
   "outputs": [
    {
     "data": {
      "text/plain": [
       "[('tsql', 0.96190931700883242),\n",
       " ('sql-server', 0.95254598931613399),\n",
       " ('sql-server-2008', 0.92916280956670538),\n",
       " ('mysql', 0.91129508962301642),\n",
       " ('select', 0.89782465075868878),\n",
       " ('sql-server-2012', 0.88684567432481809),\n",
       " ('sql-server-2008-r2', 0.88480977786474824),\n",
       " ('sql-server-2005', 0.88250364108234103),\n",
       " ('database', 0.85831626958746798),\n",
       " ('join', 0.83547133367856985),\n",
       " ('postgresql', 0.83394817323795101),\n",
       " ('oracle', 0.83280420103241704),\n",
       " ('ms-access', 0.81548975867485429),\n",
       " ('group-by', 0.80747757699783751),\n",
       " ('sql-update', 0.79760414291182635),\n",
       " ('database-design', 0.79697121542133098),\n",
       " ('oracle11g', 0.78241275665253496),\n",
       " ('table', 0.77902824083126654),\n",
       " ('linq-to-sql', 0.77501594490089354),\n",
       " ('insert', 0.76291688550989623)]"
      ]
     },
     "execution_count": 46,
     "metadata": {},
     "output_type": "execute_result"
    }
   ],
   "source": [
    "sorted_pairwise_similarity_dict[\"sql\"][:20]"
   ]
  },
  {
   "cell_type": "code",
   "execution_count": 47,
   "metadata": {
    "collapsed": true
   },
   "outputs": [],
   "source": [
    "pickle.dump(sorted_pairwise_similarity_dict,open(PICKLE_DIR_ROOT+\"/sorted_pairwise_similarity_dict.p\",'wb'))"
   ]
  },
  {
   "cell_type": "markdown",
   "metadata": {},
   "source": [
    "what's the mean and stddev of the similarity between all tags and each other?"
   ]
  },
  {
   "cell_type": "code",
   "execution_count": 65,
   "metadata": {},
   "outputs": [
    {
     "data": {
      "text/plain": [
       "(0.40836471509708244, 0.076821269009175339)"
      ]
     },
     "execution_count": 65,
     "metadata": {},
     "output_type": "execute_result"
    }
   ],
   "source": [
    "running_avgs = []\n",
    "\n",
    "for (tag, similarities_to_other_tags) in pairwise_similarity_dict.items():\n",
    "    sims = [tpl[1] for tpl in similarities_to_other_tags]\n",
    "    \n",
    "    avg = np.array(sims).mean()\n",
    "    \n",
    "    running_avgs.append(avg)\n",
    "    \n",
    "np.array(running_avgs).mean(),np.array(running_avgs).std()"
   ]
  }
 ],
 "metadata": {
  "kernelspec": {
   "display_name": "Global TF Kernel (Python 3)",
   "language": "python",
   "name": "global-tf-python-3"
  },
  "language_info": {
   "codemirror_mode": {
    "name": "ipython",
    "version": 3
   },
   "file_extension": ".py",
   "mimetype": "text/x-python",
   "name": "python",
   "nbconvert_exporter": "python",
   "pygments_lexer": "ipython3",
   "version": "3.5.2"
  }
 },
 "nbformat": 4,
 "nbformat_minor": 2
}
