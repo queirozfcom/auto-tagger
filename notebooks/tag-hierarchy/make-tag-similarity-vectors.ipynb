{
 "cells": [
  {
   "cell_type": "code",
   "execution_count": 1,
   "metadata": {},
   "outputs": [
    {
     "name": "stderr",
     "output_type": "stream",
     "text": [
      "Using TensorFlow backend.\n"
     ]
    }
   ],
   "source": [
    "import csv\n",
    "import os\n",
    "import pickle\n",
    "import re\n",
    "import sys\n",
    "import numpy as np\n",
    "\n",
    "from joblib import Parallel, delayed\n",
    "\n",
    "from difflib import SequenceMatcher,get_close_matches\n",
    "\n",
    "from keras.preprocessing.text import Tokenizer\n",
    "from keras.preprocessing.sequence import pad_sequences\n",
    "from keras.utils import to_categorical\n",
    "from keras.layers import Dense, Dropout, Input, Flatten, Activation\n",
    "from keras.layers import Conv1D, MaxPooling1D, Embedding, GlobalAvgPool1D, GlobalMaxPooling1D\n",
    "from keras.models import Model, Sequential\n",
    "\n",
    "from numpy import linalg as LA\n",
    "\n",
    "from scipy import spatial\n",
    "\n",
    "from sklearn import preprocessing\n",
    "from sklearn.feature_extraction.text import CountVectorizer, TfidfVectorizer\n",
    "\n",
    "from tqdm import *\n",
    "\n",
    "module_path = os.path.abspath(os.path.join('../helpers/'))\n",
    "if module_path not in sys.path:\n",
    "    sys.path.append(module_path)\n",
    "\n",
    "# my stuff in the helpers/ directory\n",
    "import embeddings_helper, files_helper, texts_helper, metrics_helper, tags_helper,cobrinha_helper\n",
    "\n",
    "from cobrinha_helper import evaluate_cobrinha\n"
   ]
  },
  {
   "cell_type": "code",
   "execution_count": 2,
   "metadata": {},
   "outputs": [
    {
     "data": {
      "text/plain": [
       "914"
      ]
     },
     "execution_count": 2,
     "metadata": {},
     "output_type": "execute_result"
    }
   ],
   "source": [
    "SEED=np.random.randint(1,1000)\n",
    "SEED"
   ]
  },
  {
   "cell_type": "code",
   "execution_count": 3,
   "metadata": {
    "collapsed": true
   },
   "outputs": [],
   "source": [
    "np.random.seed(SEED)"
   ]
  },
  {
   "cell_type": "code",
   "execution_count": 4,
   "metadata": {
    "collapsed": true
   },
   "outputs": [],
   "source": [
    "PICKLE_DIR_ROOT = \"/media/felipe/SSD_VOLUME/auto-tagger/data/tag-hierarchy/\""
   ]
  },
  {
   "cell_type": "code",
   "execution_count": 5,
   "metadata": {
    "collapsed": true
   },
   "outputs": [],
   "source": [
    "texts, labels = files_helper.read_stackoverflow_sample_stanford_tokenized(\"Medium-Small-Sample-Posts-Shuffled\",ssd=True)"
   ]
  },
  {
   "cell_type": "code",
   "execution_count": 6,
   "metadata": {
    "collapsed": true
   },
   "outputs": [],
   "source": [
    "MAX_NB_WORDS = 10000\n",
    "MAX_SEQUENCE_LENGTH = 1000\n",
    "VALIDATION_SPLIT = 0.2\n",
    "LABELS_MIN_DOC_COUNT = int(20)\n",
    "BATCH_SIZE=32\n",
    "EMBEDDING_DIM=100\n",
    "NUM_EPOCHS=10\n",
    "TOKENIZER_FILTERS='' # I will perform tokenization myself"
   ]
  },
  {
   "cell_type": "code",
   "execution_count": 7,
   "metadata": {
    "collapsed": true
   },
   "outputs": [],
   "source": [
    "tokenizer = Tokenizer(num_words=MAX_NB_WORDS,\n",
    "                     filters=TOKENIZER_FILTERS)\n",
    "tokenizer.fit_on_texts(texts)\n",
    "sequences = tokenizer.texts_to_sequences(texts)\n",
    "\n",
    "# word => word_index_position\n",
    "word_index = tokenizer.word_index\n",
    "\n",
    "# word_index_position => word\n",
    "inverse_word_index = texts_helper.build_inverse_word_index(word_index)"
   ]
  },
  {
   "cell_type": "code",
   "execution_count": 8,
   "metadata": {
    "collapsed": true
   },
   "outputs": [],
   "source": [
    "truncated_labels = tags_helper.truncate_labels(labels,LABELS_MIN_DOC_COUNT)"
   ]
  },
  {
   "cell_type": "code",
   "execution_count": 9,
   "metadata": {
    "collapsed": true
   },
   "outputs": [],
   "source": [
    "lb = preprocessing.MultiLabelBinarizer()\n",
    "binary_labels = lb.fit_transform(truncated_labels)"
   ]
  },
  {
   "cell_type": "code",
   "execution_count": 10,
   "metadata": {
    "collapsed": true
   },
   "outputs": [],
   "source": [
    "# make each document (sequence of word indices) be truncated to \n",
    "# MAX_SEQUENCE_LENGTH\n",
    "tokenized_texts = []\n",
    "\n",
    "for seq in sequences:\n",
    "    truncated_seq = seq[:MAX_SEQUENCE_LENGTH]\n",
    "    tokenized_txt = \" \".join([inverse_word_index[idx] for idx in truncated_seq])\n",
    "    tokenized_texts.append(tokenized_txt)"
   ]
  },
  {
   "cell_type": "code",
   "execution_count": 11,
   "metadata": {
    "collapsed": true
   },
   "outputs": [],
   "source": [
    "# extracting IDF weights to weight the embeddings\n",
    "\n",
    "# snooping\n",
    "vect = TfidfVectorizer(max_features=MAX_NB_WORDS).fit(tokenized_texts)\n",
    "\n",
    "feature_names = vect.get_feature_names()\n",
    "idf = vect.idf_\n",
    "\n",
    "# word => word IDF\n",
    "idf_index = dict(zip(vect.get_feature_names(), idf))"
   ]
  },
  {
   "cell_type": "code",
   "execution_count": 12,
   "metadata": {
    "collapsed": true
   },
   "outputs": [],
   "source": [
    "document_vectors = vect.transform(tokenized_texts)"
   ]
  },
  {
   "cell_type": "code",
   "execution_count": 13,
   "metadata": {
    "collapsed": true
   },
   "outputs": [],
   "source": [
    "NUM_WORDS = document_vectors[0].shape[1]"
   ]
  },
  {
   "cell_type": "code",
   "execution_count": 14,
   "metadata": {
    "collapsed": true
   },
   "outputs": [],
   "source": [
    "# document_id => [tag1, tag2, tag3, ...]\n",
    "document_tag_index = tags_helper.get_document_tag_index(binary_labels,lb.classes_)\n",
    "\n",
    "# tag => [document_id1, document_id2, document_id3, ...]\n",
    "tag_document_index = tags_helper.get_tag_document_index(binary_labels, lb.classes_)"
   ]
  },
  {
   "cell_type": "markdown",
   "metadata": {},
   "source": [
    "### build tag vocabulary"
   ]
  },
  {
   "cell_type": "code",
   "execution_count": 15,
   "metadata": {
    "collapsed": true
   },
   "outputs": [],
   "source": [
    "tag_vocabulary = lb.classes_"
   ]
  },
  {
   "cell_type": "code",
   "execution_count": 16,
   "metadata": {},
   "outputs": [
    {
     "data": {
      "text/plain": [
       "1704"
      ]
     },
     "execution_count": 16,
     "metadata": {},
     "output_type": "execute_result"
    }
   ],
   "source": [
    "len(tag_vocabulary)"
   ]
  },
  {
   "cell_type": "code",
   "execution_count": 17,
   "metadata": {
    "collapsed": true
   },
   "outputs": [],
   "source": [
    "pickle.dump(tag_vocabulary,open(PICKLE_DIR_ROOT+\"/tag_vocabulary.p\",\"wb\"))"
   ]
  },
  {
   "cell_type": "code",
   "execution_count": 18,
   "metadata": {},
   "outputs": [
    {
     "data": {
      "text/plain": [
       "(\"use with gulp . i read about gulp and was quite taken by the . i want to try it out for myself but i am running into a little problem . i am used to using with grunt and i have no idea how to get to play nice with gulp . i 've come across this article which suggests there is no need for a plugin when using gulp . unfortunately it does n't really explain how to go about it and the example it links to does n't help me much . is there anyone who knows how to go about this ?\",\n",
       " ['gulp', 'jekyll'])"
      ]
     },
     "execution_count": 18,
     "metadata": {},
     "output_type": "execute_result"
    }
   ],
   "source": [
    "i = 2\n",
    "tokenized_texts[i],document_tag_index[i]"
   ]
  },
  {
   "cell_type": "markdown",
   "metadata": {},
   "source": [
    "### build tag_vectors_index\n",
    "\n",
    "> if a tag is the ONLY tag assigned to some document, that's probably a more representative document of this tag, than if this tag were only one among many others\n"
   ]
  },
  {
   "cell_type": "code",
   "execution_count": 19,
   "metadata": {
    "collapsed": true
   },
   "outputs": [],
   "source": [
    "# tag => tag_vector\n",
    "tag_vectors_index = dict()\n",
    "\n",
    "for (tag,document_ids) in tag_document_index.items():\n",
    "    \n",
    "    tag_vector = np.zeros(NUM_WORDS)\n",
    "    \n",
    "    for document_id in document_ids:\n",
    "        document_vector = document_vectors[document_id]\n",
    "        num_tags = len(document_tag_index[document_id])\n",
    "\n",
    "\n",
    "        weight = 1.0 / num_tags\n",
    "\n",
    "        weighted_document_vector = document_vector * weight\n",
    "        \n",
    "        tag_vector = tag_vector + weighted_document_vector\n",
    "        \n",
    "    tag_vectors_index[tag] = np.asarray(tag_vector).ravel()"
   ]
  },
  {
   "cell_type": "code",
   "execution_count": 20,
   "metadata": {
    "collapsed": true
   },
   "outputs": [],
   "source": [
    "pickle.dump(tag_vectors_index,open(PICKLE_DIR_ROOT+\"/tag_vectors_index.p\",\"wb\"))"
   ]
  },
  {
   "cell_type": "code",
   "execution_count": 21,
   "metadata": {
    "collapsed": true
   },
   "outputs": [],
   "source": [
    "normalized_tag_vectors_index = dict()    \n",
    "\n",
    "## THIS SUCKS.. WHY?\n",
    "## normalize vectors to make cosine similarity more accurate  \n",
    "for (tag,tag_vector) in tag_vectors_index.items():    \n",
    "    normalized_tag_vectors_index[tag] = LA.norm(tag_vector, 2)"
   ]
  },
  {
   "cell_type": "code",
   "execution_count": 22,
   "metadata": {
    "collapsed": true
   },
   "outputs": [],
   "source": [
    "def _cosine_similarity(a,b):\n",
    "    return 1 - spatial.distance.cosine(a, b)"
   ]
  },
  {
   "cell_type": "code",
   "execution_count": 23,
   "metadata": {
    "collapsed": true
   },
   "outputs": [],
   "source": [
    "target_tags = ['sql-server-2008','sql','sql-server','mysql','database','postgresql','select','join','oracle','tsql','sqlite']\n",
    "\n",
    "pairs = [ (a,b) for a in target_tags for b in target_tags if a != b ]"
   ]
  },
  {
   "cell_type": "code",
   "execution_count": 24,
   "metadata": {},
   "outputs": [
    {
     "name": "stdout",
     "output_type": "stream",
     "text": [
      "SIM 'sql-server-2008' 'sql' => 0.9349813624590992\n",
      "SIM 'sql-server-2008' 'sql-server' => 0.9660928085751612\n",
      "SIM 'sql-server-2008' 'mysql' => 0.815457038141873\n",
      "SIM 'sql-server-2008' 'database' => 0.81560949073031\n",
      "SIM 'sql-server-2008' 'postgresql' => 0.7553913999451284\n",
      "SIM 'sql-server-2008' 'select' => 0.7779014439193458\n",
      "SIM 'sql-server-2008' 'join' => 0.7190542723828269\n",
      "SIM 'sql-server-2008' 'oracle' => 0.7645263559863348\n",
      "SIM 'sql-server-2008' 'tsql' => 0.9261995236130321\n",
      "SIM 'sql-server-2008' 'sqlite' => 0.6563332228211394\n",
      "SIM 'sql' 'sql-server-2008' => 0.9349813624590992\n",
      "SIM 'sql' 'sql-server' => 0.9460801230737476\n",
      "SIM 'sql' 'mysql' => 0.9066462947865959\n",
      "SIM 'sql' 'database' => 0.8520096718309694\n",
      "SIM 'sql' 'postgresql' => 0.8138906015279469\n",
      "SIM 'sql' 'select' => 0.8654416823443406\n",
      "SIM 'sql' 'join' => 0.8200093703093696\n",
      "SIM 'sql' 'oracle' => 0.8284712719791275\n",
      "SIM 'sql' 'tsql' => 0.9364441178014254\n",
      "SIM 'sql' 'sqlite' => 0.7008765295592592\n",
      "SIM 'sql-server' 'sql-server-2008' => 0.9660928085751612\n",
      "SIM 'sql-server' 'sql' => 0.9460801230737476\n",
      "SIM 'sql-server' 'mysql' => 0.8232670783410235\n",
      "SIM 'sql-server' 'database' => 0.8348174929019377\n",
      "SIM 'sql-server' 'postgresql' => 0.7625049290574456\n",
      "SIM 'sql-server' 'select' => 0.7769434691460254\n",
      "SIM 'sql-server' 'join' => 0.7176876676497143\n",
      "SIM 'sql-server' 'oracle' => 0.775472650073234\n",
      "SIM 'sql-server' 'tsql' => 0.9318377699907752\n",
      "SIM 'sql-server' 'sqlite' => 0.6669405559203837\n",
      "SIM 'mysql' 'sql-server-2008' => 0.815457038141873\n",
      "SIM 'mysql' 'sql' => 0.9066462947865959\n",
      "SIM 'mysql' 'sql-server' => 0.8232670783410235\n",
      "SIM 'mysql' 'database' => 0.8714238536286578\n",
      "SIM 'mysql' 'postgresql' => 0.7742634908063392\n",
      "SIM 'mysql' 'select' => 0.8409181875978972\n",
      "SIM 'mysql' 'join' => 0.7746329431234231\n",
      "SIM 'mysql' 'oracle' => 0.7348328480293187\n",
      "SIM 'mysql' 'tsql' => 0.8158012965652635\n",
      "SIM 'mysql' 'sqlite' => 0.6875519834867052\n",
      "SIM 'database' 'sql-server-2008' => 0.81560949073031\n",
      "SIM 'database' 'sql' => 0.8520096718309694\n",
      "SIM 'database' 'sql-server' => 0.8348174929019377\n",
      "SIM 'database' 'mysql' => 0.8714238536286578\n",
      "SIM 'database' 'postgresql' => 0.7923256491900011\n",
      "SIM 'database' 'select' => 0.7404021565725354\n",
      "SIM 'database' 'join' => 0.6730581251369884\n",
      "SIM 'database' 'oracle' => 0.7418664378121667\n",
      "SIM 'database' 'tsql' => 0.7651119473318442\n",
      "SIM 'database' 'sqlite' => 0.7880365802993891\n",
      "SIM 'postgresql' 'sql-server-2008' => 0.7553913999451284\n",
      "SIM 'postgresql' 'sql' => 0.8138906015279469\n",
      "SIM 'postgresql' 'sql-server' => 0.7625049290574456\n",
      "SIM 'postgresql' 'mysql' => 0.7742634908063392\n",
      "SIM 'postgresql' 'database' => 0.7923256491900011\n",
      "SIM 'postgresql' 'select' => 0.7279468716232125\n",
      "SIM 'postgresql' 'join' => 0.6610383108555558\n",
      "SIM 'postgresql' 'oracle' => 0.7006898039055299\n",
      "SIM 'postgresql' 'tsql' => 0.7501065265882779\n",
      "SIM 'postgresql' 'sqlite' => 0.6431412739318125\n",
      "SIM 'select' 'sql-server-2008' => 0.7779014439193458\n",
      "SIM 'select' 'sql' => 0.8654416823443406\n",
      "SIM 'select' 'sql-server' => 0.7769434691460254\n",
      "SIM 'select' 'mysql' => 0.8409181875978972\n",
      "SIM 'select' 'database' => 0.7404021565725354\n",
      "SIM 'select' 'postgresql' => 0.7279468716232125\n",
      "SIM 'select' 'join' => 0.7320175543222989\n",
      "SIM 'select' 'oracle' => 0.7171488941454672\n",
      "SIM 'select' 'tsql' => 0.8183603439916223\n",
      "SIM 'select' 'sqlite' => 0.6119915910466127\n",
      "SIM 'join' 'sql-server-2008' => 0.7190542723828269\n",
      "SIM 'join' 'sql' => 0.8200093703093696\n",
      "SIM 'join' 'sql-server' => 0.7176876676497143\n",
      "SIM 'join' 'mysql' => 0.7746329431234231\n",
      "SIM 'join' 'database' => 0.6730581251369884\n",
      "SIM 'join' 'postgresql' => 0.6610383108555558\n",
      "SIM 'join' 'select' => 0.7320175543222989\n",
      "SIM 'join' 'oracle' => 0.6334188315962048\n",
      "SIM 'join' 'tsql' => 0.7422098758317145\n",
      "SIM 'join' 'sqlite' => 0.5447986125743096\n",
      "SIM 'oracle' 'sql-server-2008' => 0.7645263559863348\n",
      "SIM 'oracle' 'sql' => 0.8284712719791275\n",
      "SIM 'oracle' 'sql-server' => 0.775472650073234\n",
      "SIM 'oracle' 'mysql' => 0.7348328480293187\n",
      "SIM 'oracle' 'database' => 0.7418664378121667\n",
      "SIM 'oracle' 'postgresql' => 0.7006898039055299\n",
      "SIM 'oracle' 'select' => 0.7171488941454672\n",
      "SIM 'oracle' 'join' => 0.6334188315962048\n",
      "SIM 'oracle' 'tsql' => 0.7602463357270837\n",
      "SIM 'oracle' 'sqlite' => 0.5980530833314273\n",
      "SIM 'tsql' 'sql-server-2008' => 0.9261995236130321\n",
      "SIM 'tsql' 'sql' => 0.9364441178014254\n",
      "SIM 'tsql' 'sql-server' => 0.9318377699907752\n",
      "SIM 'tsql' 'mysql' => 0.8158012965652635\n",
      "SIM 'tsql' 'database' => 0.7651119473318442\n",
      "SIM 'tsql' 'postgresql' => 0.7501065265882779\n",
      "SIM 'tsql' 'select' => 0.8183603439916223\n",
      "SIM 'tsql' 'join' => 0.7422098758317145\n",
      "SIM 'tsql' 'oracle' => 0.7602463357270837\n",
      "SIM 'tsql' 'sqlite' => 0.632653965783071\n",
      "SIM 'sqlite' 'sql-server-2008' => 0.6563332228211394\n",
      "SIM 'sqlite' 'sql' => 0.7008765295592592\n",
      "SIM 'sqlite' 'sql-server' => 0.6669405559203837\n",
      "SIM 'sqlite' 'mysql' => 0.6875519834867052\n",
      "SIM 'sqlite' 'database' => 0.7880365802993891\n",
      "SIM 'sqlite' 'postgresql' => 0.6431412739318125\n",
      "SIM 'sqlite' 'select' => 0.6119915910466127\n",
      "SIM 'sqlite' 'join' => 0.5447986125743096\n",
      "SIM 'sqlite' 'oracle' => 0.5980530833314273\n",
      "SIM 'sqlite' 'tsql' => 0.632653965783071\n"
     ]
    }
   ],
   "source": [
    "for (tag_a,tag_b) in pairs:\n",
    "    tag_a_vector = tag_vectors_index[tag_a]\n",
    "    tag_b_vector = tag_vectors_index[tag_b]\n",
    "    \n",
    "    sim = _cosine_similarity(tag_a_vector,tag_b_vector)\n",
    "    \n",
    "    print(\"SIM '{}' '{}' => {}\".format(tag_a,tag_b,sim))\n",
    "    "
   ]
  },
  {
   "cell_type": "markdown",
   "metadata": {},
   "source": [
    "if all other tags are, on average, more similar to A than to B, then A is probably more generic than B\n",
    "\n",
    "should it be normalized by the difference between A and B?\n",
    "\n",
    "will fail for tags that are below B?"
   ]
  },
  {
   "cell_type": "code",
   "execution_count": 25,
   "metadata": {},
   "outputs": [
    {
     "data": {
      "text/plain": [
       "0.70087652955925939"
      ]
     },
     "execution_count": 25,
     "metadata": {},
     "output_type": "execute_result"
    }
   ],
   "source": [
    "sql_vector = tag_vectors_index['sql']\n",
    "avg_diff = list()\n",
    "\n",
    "for (tag_name,tag_vector) in tag_vectors_index.items():\n",
    "    avg_diff.append(_cosine_similarity(tag_a_vector,sql_vector))\n",
    "    \n",
    "np.mean(np.array(avg_diff))"
   ]
  },
  {
   "cell_type": "code",
   "execution_count": 26,
   "metadata": {},
   "outputs": [
    {
     "data": {
      "text/plain": [
       "0.66694055592038359"
      ]
     },
     "execution_count": 26,
     "metadata": {},
     "output_type": "execute_result"
    }
   ],
   "source": [
    "sql_vector = tag_vectors_index['sql-server']\n",
    "avg_diff = list()\n",
    "\n",
    "for (tag_name,tag_vector) in tag_vectors_index.items():\n",
    "    avg_diff.append(_cosine_similarity(tag_a_vector,sql_vector))\n",
    "    \n",
    "np.mean(np.array(avg_diff))"
   ]
  },
  {
   "cell_type": "code",
   "execution_count": 27,
   "metadata": {},
   "outputs": [
    {
     "data": {
      "text/plain": [
       "0.65633322282113937"
      ]
     },
     "execution_count": 27,
     "metadata": {},
     "output_type": "execute_result"
    }
   ],
   "source": [
    "sql_vector = tag_vectors_index['sql-server-2008']\n",
    "avg_diff = list()\n",
    "\n",
    "for (tag_name,tag_vector) in tag_vectors_index.items():\n",
    "    avg_diff.append(_cosine_similarity(tag_a_vector,sql_vector))\n",
    "    \n",
    "np.mean(np.array(avg_diff))"
   ]
  },
  {
   "cell_type": "code",
   "execution_count": 28,
   "metadata": {
    "collapsed": true
   },
   "outputs": [],
   "source": [
    "def get_sim(tag_a,tag_b):\n",
    "    \n",
    "    sim = _cosine_similarity(tag_vectors_index[tag_a],tag_vectors_index[tag_b])\n",
    "    \n",
    "    return (tag_a,tag_b,sim)"
   ]
  },
  {
   "cell_type": "code",
   "execution_count": 29,
   "metadata": {
    "collapsed": true
   },
   "outputs": [],
   "source": [
    "all_tags = [tag for (tag,_) in tag_vectors_index.items()]"
   ]
  },
  {
   "cell_type": "code",
   "execution_count": 30,
   "metadata": {
    "collapsed": true
   },
   "outputs": [],
   "source": [
    "sims = Parallel(n_jobs=-1)(delayed(get_sim)(a,b) for a in all_tags for b in all_tags)"
   ]
  },
  {
   "cell_type": "code",
   "execution_count": 31,
   "metadata": {},
   "outputs": [
    {
     "data": {
      "text/plain": [
       "[('beautifulsoup', 'beautifulsoup', 1.0),\n",
       " ('beautifulsoup', 'gruntjs', 0.18613827549594275),\n",
       " ('beautifulsoup', 'jpa', 0.27220107789865933),\n",
       " ('beautifulsoup', 'artificial-intelligence', 0.28545351845925149),\n",
       " ('beautifulsoup', 'ip-address', 0.16893513341351518),\n",
       " ('beautifulsoup', 'overlay', 0.21743887537964235),\n",
       " ('beautifulsoup', 'windows-phone-8', 0.298729857708814),\n",
       " ('beautifulsoup', 'interop', 0.27860879445993858),\n",
       " ('beautifulsoup', 'heap', 0.196834828791418),\n",
       " ('beautifulsoup', 'httpwebrequest', 0.32254657278229204)]"
      ]
     },
     "execution_count": 31,
     "metadata": {},
     "output_type": "execute_result"
    }
   ],
   "source": [
    "sims[:10]"
   ]
  },
  {
   "cell_type": "code",
   "execution_count": 32,
   "metadata": {
    "collapsed": true
   },
   "outputs": [],
   "source": [
    "similarity_dict = dict()\n",
    "\n",
    "for tag_a,tag_b, sim in sims:\n",
    "    \n",
    "    if similarity_dict.get(tag_a) is None:\n",
    "        similarity_dict[tag_a] = [(tag_b,sim)]\n",
    "    else:\n",
    "        similarity_dict[tag_a].append((tag_b,sim))"
   ]
  },
  {
   "cell_type": "code",
   "execution_count": 33,
   "metadata": {},
   "outputs": [
    {
     "data": {
      "text/plain": [
       "[('beautifulsoup', 0.35604607295605595),\n",
       " ('gruntjs', 0.26506919039400378),\n",
       " ('jpa', 0.58291538943726939),\n",
       " ('artificial-intelligence', 0.4530957555900843),\n",
       " ('ip-address', 0.25310359189492693),\n",
       " ('overlay', 0.29155430241955815),\n",
       " ('windows-phone-8', 0.46598419316765083),\n",
       " ('interop', 0.44678801385464184),\n",
       " ('heap', 0.31570016256364952),\n",
       " ('httpwebrequest', 0.39770535712161581),\n",
       " ('windows-xp', 0.38805061065445923),\n",
       " ('signal-processing', 0.47842361178174997),\n",
       " ('master-pages', 0.29224029307961652),\n",
       " ('time-series', 0.56772556594281853),\n",
       " ('visual-c++', 0.57092830032009423),\n",
       " ('hive', 0.39653067080753901),\n",
       " ('localization', 0.55144557086492441),\n",
       " ('config', 0.43292960593197916),\n",
       " ('constructor', 0.42352721206183941),\n",
       " ('posix', 0.49470383818174102)]"
      ]
     },
     "execution_count": 33,
     "metadata": {},
     "output_type": "execute_result"
    }
   ],
   "source": [
    "similarity_dict[\"sql\"][:20]"
   ]
  },
  {
   "cell_type": "code",
   "execution_count": 34,
   "metadata": {},
   "outputs": [
    {
     "data": {
      "text/plain": [
       "[('sql-server', 0.94608012307374756),\n",
       " ('tsql', 0.93644411780142545),\n",
       " ('sql-server-2008', 0.93498136245909924),\n",
       " ('mysql', 0.90664629478659586),\n",
       " ('select', 0.8654416823443406),\n",
       " ('sql-server-2005', 0.85241314058735329),\n",
       " ('database', 0.85200967183096943),\n",
       " ('sql-server-2008-r2', 0.84317564199824524),\n",
       " ('oracle', 0.82847127197912751),\n",
       " ('sql-server-2012', 0.82132152550983883),\n",
       " ('join', 0.8200093703093696),\n",
       " ('postgresql', 0.8138906015279469),\n",
       " ('ms-access', 0.80220855469972741),\n",
       " ('database-design', 0.78300579086276745),\n",
       " ('sql-update', 0.77638548602713653),\n",
       " ('ms-access-2010', 0.77491125431556873),\n",
       " ('group-by', 0.77284000412203369),\n",
       " ('subquery', 0.76447204415239334),\n",
       " ('query-optimization', 0.74736265127425294)]"
      ]
     },
     "execution_count": 34,
     "metadata": {},
     "output_type": "execute_result"
    }
   ],
   "source": [
    "sorted(similarity_dict[\"sql\"],key=lambda tpl : tpl[1],reverse=True)[1:20]"
   ]
  },
  {
   "cell_type": "code",
   "execution_count": 35,
   "metadata": {
    "collapsed": true
   },
   "outputs": [],
   "source": [
    "sorted_similarity_dict = dict()\n",
    "\n",
    "for (tag, similarities_to_other_tags) in similarity_dict.items():\n",
    "    \n",
    "    sorted_similarities = sorted(similarities_to_other_tags,key=lambda tpl: tpl[1],reverse=True)\n",
    "    sorted_without_self = sorted_similarities[1:]\n",
    "    \n",
    "    sorted_similarity_dict[tag] = sorted_without_self"
   ]
  },
  {
   "cell_type": "code",
   "execution_count": 36,
   "metadata": {},
   "outputs": [
    {
     "data": {
      "text/plain": [
       "[('sql-server', 0.94608012307374756),\n",
       " ('tsql', 0.93644411780142545),\n",
       " ('sql-server-2008', 0.93498136245909924),\n",
       " ('mysql', 0.90664629478659586),\n",
       " ('select', 0.8654416823443406),\n",
       " ('sql-server-2005', 0.85241314058735329),\n",
       " ('database', 0.85200967183096943),\n",
       " ('sql-server-2008-r2', 0.84317564199824524),\n",
       " ('oracle', 0.82847127197912751),\n",
       " ('sql-server-2012', 0.82132152550983883),\n",
       " ('join', 0.8200093703093696),\n",
       " ('postgresql', 0.8138906015279469),\n",
       " ('ms-access', 0.80220855469972741),\n",
       " ('database-design', 0.78300579086276745),\n",
       " ('sql-update', 0.77638548602713653),\n",
       " ('ms-access-2010', 0.77491125431556873),\n",
       " ('group-by', 0.77284000412203369),\n",
       " ('subquery', 0.76447204415239334),\n",
       " ('query-optimization', 0.74736265127425294),\n",
       " ('oracle-sqldeveloper', 0.74190041768960613)]"
      ]
     },
     "execution_count": 36,
     "metadata": {},
     "output_type": "execute_result"
    }
   ],
   "source": [
    "sorted_similarity_dict[\"sql\"][:20]"
   ]
  },
  {
   "cell_type": "code",
   "execution_count": 37,
   "metadata": {
    "collapsed": true
   },
   "outputs": [],
   "source": [
    "pickle.dump(sorted_similarity_dict,open(PICKLE_DIR_ROOT+\"/sorted_similarity_dict.p\",'wb'))"
   ]
  },
  {
   "cell_type": "markdown",
   "metadata": {},
   "source": [
    "### build global similarity index"
   ]
  },
  {
   "cell_type": "code",
   "execution_count": 38,
   "metadata": {
    "collapsed": true
   },
   "outputs": [],
   "source": [
    "global_similarity_index = dict()\n",
    "\n",
    "for tag in tag_vocabulary:\n",
    "    \n",
    "    similarities_with_current_tag = list()\n",
    "    \n",
    "    for other_tag, similarity_to_other_tag in sorted_similarity_dict[tag]:\n",
    "        \n",
    "        if other_tag != tag:\n",
    "            similarities_with_current_tag.append(similarity_to_other_tag)\n",
    "\n",
    "    global_avg_sim_wrt_tag = np.array(similarities_with_current_tag).mean()\n",
    "    \n",
    "    global_similarity_index[tag] = global_avg_sim_wrt_tag\n",
    "            \n",
    "pickle.dump(global_similarity_index,open(PICKLE_DIR_ROOT+\"/global_similarity_index.p\",'wb'))"
   ]
  },
  {
   "cell_type": "code",
   "execution_count": 39,
   "metadata": {
    "collapsed": true
   },
   "outputs": [],
   "source": [
    "# global_similarity_index"
   ]
  },
  {
   "cell_type": "code",
   "execution_count": 40,
   "metadata": {},
   "outputs": [
    {
     "data": {
      "text/plain": [
       "[('c#', 0.52796384399674001),\n",
       " ('.net', 0.52237488943626997),\n",
       " ('web', 0.49698595034123894),\n",
       " ('c#-4.0', 0.49237870705839931),\n",
       " ('performance', 0.49045843519413501),\n",
       " ('design', 0.48792240596086045),\n",
       " ('java', 0.48656225358421379),\n",
       " ('javascript', 0.4859904125176337),\n",
       " ('asp.net', 0.48341469702671458),\n",
       " ('security', 0.48225525430704314),\n",
       " ('php', 0.47973539893855099),\n",
       " ('user-interface', 0.47965186513161667),\n",
       " ('.net-4.0', 0.47752612700700081),\n",
       " ('html5', 0.47723670445625721),\n",
       " ('optimization', 0.47654262078466109),\n",
       " ('windows', 0.47547176112432721),\n",
       " ('ios', 0.47507086838459761),\n",
       " ('cocoa', 0.47291592025162482),\n",
       " ('cocoa-touch', 0.47099675887289727),\n",
       " ('winforms', 0.46932929711010801)]"
      ]
     },
     "execution_count": 40,
     "metadata": {},
     "output_type": "execute_result"
    }
   ],
   "source": [
    "sorted(global_similarity_index.items(),key=lambda tpl: tpl[1],reverse=True)[:20]"
   ]
  },
  {
   "cell_type": "code",
   "execution_count": 41,
   "metadata": {},
   "outputs": [
    {
     "data": {
      "text/plain": [
       "(0.13861274631348885, 0.68468875828253828)"
      ]
     },
     "execution_count": 41,
     "metadata": {},
     "output_type": "execute_result"
    }
   ],
   "source": [
    "evaluate_cobrinha('android','android-service',tag_vectors_index,sorted_similarity_dict, global_similarity_index) "
   ]
  },
  {
   "cell_type": "code",
   "execution_count": 42,
   "metadata": {},
   "outputs": [
    {
     "data": {
      "text/plain": [
       "(0.034241093906521636, 0.84005391327352352)"
      ]
     },
     "execution_count": 42,
     "metadata": {},
     "output_type": "execute_result"
    }
   ],
   "source": [
    "evaluate_cobrinha('asp.net','asp.net-mvc',tag_vectors_index,sorted_similarity_dict, global_similarity_index) "
   ]
  },
  {
   "cell_type": "code",
   "execution_count": 43,
   "metadata": {},
   "outputs": [
    {
     "data": {
      "text/plain": [
       "(0.01188788746170899, 0.89472933091423534)"
      ]
     },
     "execution_count": 43,
     "metadata": {},
     "output_type": "execute_result"
    }
   ],
   "source": [
    "evaluate_cobrinha('asp.net-mvc','asp.net-mvc-5',tag_vectors_index,sorted_similarity_dict, global_similarity_index) "
   ]
  },
  {
   "cell_type": "markdown",
   "metadata": {},
   "source": [
    "what about unrelated stuff"
   ]
  },
  {
   "cell_type": "code",
   "execution_count": 44,
   "metadata": {},
   "outputs": [
    {
     "data": {
      "text/plain": [
       "(0.1155915868012774, 0.62033156246617382)"
      ]
     },
     "execution_count": 44,
     "metadata": {},
     "output_type": "execute_result"
    }
   ],
   "source": [
    "evaluate_cobrinha('java','arrays',tag_vectors_index,sorted_similarity_dict, global_similarity_index) "
   ]
  },
  {
   "cell_type": "code",
   "execution_count": 45,
   "metadata": {},
   "outputs": [
    {
     "data": {
      "text/plain": [
       "(-0.01237052618558937, 0.64212738224793176)"
      ]
     },
     "execution_count": 45,
     "metadata": {},
     "output_type": "execute_result"
    }
   ],
   "source": [
    "evaluate_cobrinha('ruby','python-2.7',tag_vectors_index,sorted_similarity_dict, global_similarity_index) "
   ]
  },
  {
   "cell_type": "code",
   "execution_count": 46,
   "metadata": {},
   "outputs": [
    {
     "data": {
      "text/plain": [
       "(0.0202516829136134, 0.64969036563896276)"
      ]
     },
     "execution_count": 46,
     "metadata": {},
     "output_type": "execute_result"
    }
   ],
   "source": [
    "evaluate_cobrinha('database','python-2.7',tag_vectors_index,sorted_similarity_dict, global_similarity_index) "
   ]
  },
  {
   "cell_type": "markdown",
   "metadata": {},
   "source": [
    "what's the mean and stddev of the similarity between all tags and each other?"
   ]
  },
  {
   "cell_type": "code",
   "execution_count": 47,
   "metadata": {},
   "outputs": [
    {
     "data": {
      "text/plain": [
       "(0.31304959489683454, 0.064950279174516554)"
      ]
     },
     "execution_count": 47,
     "metadata": {},
     "output_type": "execute_result"
    }
   ],
   "source": [
    "running_avgs = []\n",
    "\n",
    "for (tag, similarities_to_other_tags) in similarity_dict.items():\n",
    "    sims = [tpl[1] for tpl in similarities_to_other_tags]\n",
    "    \n",
    "    avg = np.array(sims).mean()\n",
    "    \n",
    "    running_avgs.append(avg)\n",
    "    \n",
    "np.array(running_avgs).mean(),np.array(running_avgs).std()"
   ]
  }
 ],
 "metadata": {
  "kernelspec": {
   "display_name": "Global TF Kernel (Python 3)",
   "language": "python",
   "name": "global-tf-python-3"
  },
  "language_info": {
   "codemirror_mode": {
    "name": "ipython",
    "version": 3
   },
   "file_extension": ".py",
   "mimetype": "text/x-python",
   "name": "python",
   "nbconvert_exporter": "python",
   "pygments_lexer": "ipython3",
   "version": "3.5.2"
  }
 },
 "nbformat": 4,
 "nbformat_minor": 2
}
