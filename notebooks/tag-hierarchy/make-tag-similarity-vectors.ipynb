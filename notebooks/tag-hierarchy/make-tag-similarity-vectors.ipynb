{
 "cells": [
  {
   "cell_type": "code",
   "execution_count": 1,
   "metadata": {},
   "outputs": [
    {
     "name": "stderr",
     "output_type": "stream",
     "text": [
      "Using TensorFlow backend.\n"
     ]
    }
   ],
   "source": [
    "import csv\n",
    "import os\n",
    "import pickle\n",
    "import re\n",
    "import sys\n",
    "import numpy as np\n",
    "\n",
    "from joblib import Parallel, delayed\n",
    "\n",
    "from difflib import SequenceMatcher,get_close_matches\n",
    "\n",
    "from keras.preprocessing.text import Tokenizer\n",
    "from keras.preprocessing.sequence import pad_sequences\n",
    "from keras.utils import to_categorical\n",
    "from keras.layers import Dense, Dropout, Input, Flatten, Activation\n",
    "from keras.layers import Conv1D, MaxPooling1D, Embedding, GlobalAvgPool1D, GlobalMaxPooling1D\n",
    "from keras.models import Model, Sequential\n",
    "\n",
    "from numpy import linalg as LA\n",
    "\n",
    "from scipy import spatial\n",
    "\n",
    "from sklearn import preprocessing\n",
    "from sklearn.feature_extraction.text import CountVectorizer, TfidfVectorizer\n",
    "\n",
    "from tqdm import *\n",
    "\n",
    "module_path = os.path.abspath(os.path.join('../helpers/'))\n",
    "if module_path not in sys.path:\n",
    "    sys.path.append(module_path)\n",
    "\n",
    "# my stuff in the helpers/ directory\n",
    "import embeddings_helper, files_helper, texts_helper, metrics_helper, tags_helper,cobrinha_helper\n",
    "\n",
    "from cobrinha_helper import evaluate_cobrinha\n"
   ]
  },
  {
   "cell_type": "code",
   "execution_count": 2,
   "metadata": {},
   "outputs": [
    {
     "data": {
      "text/plain": [
       "702"
      ]
     },
     "execution_count": 2,
     "metadata": {},
     "output_type": "execute_result"
    }
   ],
   "source": [
    "SEED=np.random.randint(1,1000)\n",
    "SEED"
   ]
  },
  {
   "cell_type": "code",
   "execution_count": 3,
   "metadata": {
    "collapsed": true
   },
   "outputs": [],
   "source": [
    "np.random.seed(SEED)"
   ]
  },
  {
   "cell_type": "code",
   "execution_count": 4,
   "metadata": {
    "collapsed": true
   },
   "outputs": [],
   "source": [
    "PICKLE_DIR_ROOT = \"/media/felipe/SSD_VOLUME/auto-tagger/data/tag-hierarchy/\""
   ]
  },
  {
   "cell_type": "code",
   "execution_count": 5,
   "metadata": {
    "collapsed": true
   },
   "outputs": [],
   "source": [
    "texts, labels = files_helper.read_stackoverflow_sample_stanford_tokenized(\"Medium-Sample-Posts-Shuffled\",ssd=True)"
   ]
  },
  {
   "cell_type": "code",
   "execution_count": 6,
   "metadata": {
    "collapsed": true
   },
   "outputs": [],
   "source": [
    "MAX_NB_WORDS = 5000\n",
    "MAX_SEQUENCE_LENGTH = 1000\n",
    "LABELS_MIN_DOC_PROPORTION = 0.0006 # only tags appearing in at least CORPUS_SIZE * LABELS_MIN_DOC_PROPORTION will be used\n",
    "TOKENIZER_FILTERS='' # I will perform tokenization myself"
   ]
  },
  {
   "cell_type": "code",
   "execution_count": 7,
   "metadata": {},
   "outputs": [],
   "source": [
    "tokenizer = Tokenizer(num_words=MAX_NB_WORDS,\n",
    "                     filters=TOKENIZER_FILTERS)\n",
    "tokenizer.fit_on_texts(texts)\n",
    "sequences = tokenizer.texts_to_sequences(texts)\n",
    "\n",
    "# word => word_index_position\n",
    "word_index = tokenizer.word_index\n",
    "\n",
    "# word_index_position => word\n",
    "inverse_word_index = texts_helper.build_inverse_word_index(word_index)"
   ]
  },
  {
   "cell_type": "code",
   "execution_count": 8,
   "metadata": {},
   "outputs": [
    {
     "data": {
      "text/plain": [
       "(222000, 133)"
      ]
     },
     "execution_count": 8,
     "metadata": {},
     "output_type": "execute_result"
    }
   ],
   "source": [
    "corpus_size = len(texts)\n",
    "labels_min_doc_count = int(corpus_size * LABELS_MIN_DOC_PROPORTION)\n",
    "\n",
    "corpus_size,labels_min_doc_count"
   ]
  },
  {
   "cell_type": "code",
   "execution_count": 9,
   "metadata": {
    "collapsed": true
   },
   "outputs": [],
   "source": [
    "truncated_labels = tags_helper.truncate_labels(labels,labels_min_doc_count)"
   ]
  },
  {
   "cell_type": "code",
   "execution_count": 10,
   "metadata": {
    "collapsed": true
   },
   "outputs": [],
   "source": [
    "lb = preprocessing.MultiLabelBinarizer()\n",
    "binary_labels = lb.fit_transform(truncated_labels)"
   ]
  },
  {
   "cell_type": "code",
   "execution_count": 11,
   "metadata": {
    "collapsed": true
   },
   "outputs": [],
   "source": [
    "# make each document (sequence of word indices) be truncated to \n",
    "# MAX_SEQUENCE_LENGTH\n",
    "tokenized_texts = []\n",
    "\n",
    "for seq in sequences:\n",
    "    truncated_seq = seq[:MAX_SEQUENCE_LENGTH]\n",
    "    tokenized_txt = \" \".join([inverse_word_index[idx] for idx in truncated_seq])\n",
    "    tokenized_texts.append(tokenized_txt)"
   ]
  },
  {
   "cell_type": "code",
   "execution_count": 12,
   "metadata": {
    "collapsed": true
   },
   "outputs": [],
   "source": [
    "# extracting IDF weights to weight the embeddings\n",
    "\n",
    "# snooping\n",
    "vect = TfidfVectorizer(max_features=MAX_NB_WORDS).fit(tokenized_texts)\n",
    "\n",
    "feature_names = vect.get_feature_names()\n",
    "idf = vect.idf_\n",
    "\n",
    "# word => word IDF\n",
    "idf_index = dict(zip(vect.get_feature_names(), idf))"
   ]
  },
  {
   "cell_type": "code",
   "execution_count": 13,
   "metadata": {
    "collapsed": true
   },
   "outputs": [],
   "source": [
    "document_vectors = vect.transform(tokenized_texts)"
   ]
  },
  {
   "cell_type": "code",
   "execution_count": 23,
   "metadata": {},
   "outputs": [
    {
     "data": {
      "text/plain": [
       "4692"
      ]
     },
     "execution_count": 23,
     "metadata": {},
     "output_type": "execute_result"
    }
   ],
   "source": [
    "NUM_WORDS = document_vectors[0].shape[1]\n",
    "NUM_WORDS"
   ]
  },
  {
   "cell_type": "code",
   "execution_count": 15,
   "metadata": {},
   "outputs": [],
   "source": [
    "# document_id => [tag1, tag2, tag3, ...]\n",
    "document_tag_index = tags_helper.get_document_tag_index(binary_labels,lb.classes_)\n",
    "\n",
    "# tag => [document_id1, document_id2, document_id3, ...]\n",
    "tag_document_index = tags_helper.get_tag_document_index(binary_labels, lb.classes_)"
   ]
  },
  {
   "cell_type": "markdown",
   "metadata": {},
   "source": [
    "### build tag_vocabulary"
   ]
  },
  {
   "cell_type": "code",
   "execution_count": 16,
   "metadata": {
    "collapsed": true
   },
   "outputs": [],
   "source": [
    "tag_vocabulary = lb.classes_"
   ]
  },
  {
   "cell_type": "code",
   "execution_count": 17,
   "metadata": {},
   "outputs": [
    {
     "data": {
      "text/plain": [
       "618"
      ]
     },
     "execution_count": 17,
     "metadata": {},
     "output_type": "execute_result"
    }
   ],
   "source": [
    "len(tag_vocabulary)"
   ]
  },
  {
   "cell_type": "code",
   "execution_count": 18,
   "metadata": {
    "scrolled": false
   },
   "outputs": [
    {
     "data": {
      "text/plain": [
       "array(['.htaccess', '.net', '.net-4.0', '3d', 'access-vba',\n",
       "       'actionscript-3', 'active-directory', 'activerecord', 'ajax',\n",
       "       'algorithm', 'amazon-ec2', 'amazon-s3', 'amazon-web-services',\n",
       "       'android', 'android-activity', 'android-asynctask',\n",
       "       'android-edittext', 'android-emulator', 'android-fragments',\n",
       "       'android-intent', 'android-layout', 'android-listview',\n",
       "       'android-ndk', 'android-studio', 'android-viewpager',\n",
       "       'angular-ui-router', 'angular2', 'angularjs', 'angularjs-directive',\n",
       "       'angularjs-scope', 'animation', 'annotations', 'ant', 'apache',\n",
       "       'apache-spark', 'api', 'architecture', 'arduino', 'arraylist',\n",
       "       'arrays', 'asp-classic', 'asp.net', 'asp.net-core', 'asp.net-mvc',\n",
       "       'asp.net-mvc-2', 'asp.net-mvc-3', 'asp.net-mvc-4', 'asp.net-mvc-5',\n",
       "       'asp.net-web-api', 'assembly', 'asynchronous', 'attributes',\n",
       "       'audio', 'authentication', 'autocomplete', 'autolayout',\n",
       "       'automation', 'awk', 'azure', 'backbone.js', 'background', 'bash',\n",
       "       'batch-file', 'binary', 'binding', 'bitmap', 'blackberry',\n",
       "       'bluetooth', 'boost', 'browser', 'build', 'button', 'c', 'c#',\n",
       "       'c#-4.0', 'c++', 'c++11', 'caching', 'cakephp', 'calendar',\n",
       "       'callback', 'camera', 'canvas', 'cassandra', 'casting', 'centos',\n",
       "       'char', 'character-encoding', 'charts', 'checkbox', 'class',\n",
       "       'clojure', 'cmake', 'cmd', 'cocoa', 'cocoa-touch', 'cocos2d-iphone',\n",
       "       'codeigniter', 'coffeescript', 'coldfusion', 'collections',\n",
       "       'colors', 'com', 'combobox', 'command-line', 'compilation',\n",
       "       'compiler-construction', 'compiler-errors', 'concurrency',\n",
       "       'configuration', 'console', 'constructor', 'controller', 'cookies',\n",
       "       'cordova', 'core-data', 'count', 'crash', 'cron', 'crystal-reports',\n",
       "       'css', 'css-selectors', 'css3', 'csv', 'cuda', 'curl', 'd3.js',\n",
       "       'data-binding', 'data-structures', 'database', 'database-design',\n",
       "       'dataframe', 'datagrid', 'datagridview', 'datatable', 'datatables',\n",
       "       'date', 'datepicker', 'datetime', 'debugging', 'delegates',\n",
       "       'delphi', 'dependency-injection', 'deployment', 'design',\n",
       "       'design-patterns', 'devise', 'dialog', 'dictionary', 'django',\n",
       "       'django-models', 'dll', 'dns', 'docker', 'doctrine2', 'dojo', 'dom',\n",
       "       'download', 'drag-and-drop', 'drop-down-menu', 'drupal', 'drupal-7',\n",
       "       'dynamic', 'eclipse', 'elasticsearch', 'eloquent', 'emacs', 'email',\n",
       "       'ember.js', 'encoding', 'encryption', 'entity-framework', 'enums',\n",
       "       'error-handling', 'event-handling', 'events', 'excel',\n",
       "       'excel-formula', 'excel-vba', 'exception', 'exception-handling',\n",
       "       'express', 'extjs', 'f#', 'facebook', 'facebook-graph-api',\n",
       "       'ffmpeg', 'file', 'file-io', 'file-upload', 'filter', 'firebase',\n",
       "       'firebase-database', 'firefox', 'flash', 'flask', 'flex',\n",
       "       'floating-point', 'fonts', 'for-loop', 'foreach', 'formatting',\n",
       "       'forms', 'frameworks', 'ftp', 'function', 'functional-programming',\n",
       "       'garbage-collection', 'gcc', 'generics', 'geolocation', 'get',\n",
       "       'ggplot2', 'git', 'github', 'go', 'google-analytics', 'google-api',\n",
       "       'google-app-engine', 'google-apps-script', 'google-chrome',\n",
       "       'google-chrome-extension', 'google-maps', 'google-maps-api-3',\n",
       "       'google-spreadsheet', 'gps', 'gradle', 'grails', 'graph',\n",
       "       'graphics', 'grep', 'grid', 'gridview', 'groovy', 'group-by',\n",
       "       'gruntjs', 'gulp', 'gwt', 'hadoop', 'hash', 'hashmap', 'haskell',\n",
       "       'header', 'heroku', 'hibernate', 'highcharts', 'hive', 'html',\n",
       "       'html5', 'http', 'https', 'hyperlink', 'ide', 'if-statement',\n",
       "       'iframe', 'iis', 'iis-7', 'image', 'image-processing', 'import',\n",
       "       'include', 'indexing', 'inheritance', 'input', 'insert',\n",
       "       'installation', 'intellij-idea', 'interface', 'internet-explorer',\n",
       "       'internet-explorer-8', 'io', 'ionic-framework', 'ios', 'ios4',\n",
       "       'ios5', 'ios6', 'ios7', 'ios8', 'ipad', 'iphone', 'iterator', 'jar',\n",
       "       'java', 'java-8', 'java-ee', 'javafx', 'javascript',\n",
       "       'javascript-events', 'jaxb', 'jboss', 'jdbc', 'jenkins', 'join',\n",
       "       'joomla', 'jpa', 'jqgrid', 'jquery', 'jquery-mobile',\n",
       "       'jquery-plugins', 'jquery-ui', 'jsf', 'jsf-2', 'json', 'json.net',\n",
       "       'jsp', 'junit', 'jvm', 'kendo-ui', 'knockout.js', 'lambda',\n",
       "       'laravel', 'laravel-4', 'laravel-5', 'layout', 'libgdx',\n",
       "       'linked-list', 'linker', 'linq', 'linq-to-sql', 'linux',\n",
       "       'linux-kernel', 'list', 'listbox', 'listview', 'localization',\n",
       "       'logging', 'login', 'loops', 'lua', 'lucene', 'machine-learning',\n",
       "       'macros', 'magento', 'makefile', 'map', 'mapreduce', 'math',\n",
       "       'matlab', 'matplotlib', 'matrix', 'maven', 'memory', 'memory-leaks',\n",
       "       'memory-management', 'menu', 'merge', 'meteor', 'methods', 'mfc',\n",
       "       'mobile', 'mod-rewrite', 'model', 'model-view-controller', 'module',\n",
       "       'mongodb', 'mongoose', 'ms-access', 'ms-word', 'msbuild',\n",
       "       'multidimensional-array', 'multithreading', 'mvvm', 'mysql',\n",
       "       'mysqli', 'namespaces', 'neo4j', 'netbeans', 'network-programming',\n",
       "       'networking', 'nginx', 'nhibernate', 'node.js', 'notifications',\n",
       "       'npm', 'null', 'nullpointerexception', 'numpy', 'oauth',\n",
       "       'oauth-2.0', 'object', 'objective-c', 'onclick', 'oop', 'opencv',\n",
       "       'opengl', 'opengl-es', 'openssl', 'optimization', 'oracle',\n",
       "       'oracle11g', 'orm', 'osx', 'outlook', 'pagination', 'pandas',\n",
       "       'parallel-processing', 'parameters', 'parse.com', 'parsing', 'path',\n",
       "       'paypal', 'pdf', 'pdo', 'performance', 'perl', 'permissions', 'php',\n",
       "       'phpmyadmin', 'playframework', 'plot', 'plsql', 'plugins',\n",
       "       'pointers', 'popup', 'post', 'postgresql', 'powershell',\n",
       "       'primefaces', 'printing', 'process', 'properties', 'proxy',\n",
       "       'push-notification', 'pyqt', 'python', 'python-2.7', 'python-3.x',\n",
       "       'qt', 'r', 'random', 'raspberry-pi', 'razor', 'react-native',\n",
       "       'reactjs', 'recursion', 'recyclerview', 'redirect', 'redis',\n",
       "       'reference', 'reflection', 'regex', 'replace', 'reporting-services',\n",
       "       'responsive-design', 'rest', 'rotation', 'routes', 'routing',\n",
       "       'rspec', 'ruby', 'ruby-on-rails', 'ruby-on-rails-3',\n",
       "       'ruby-on-rails-4', 'safari', 'sas', 'sass', 'scala', 'scipy',\n",
       "       'scope', 'scripting', 'scroll', 'sdk', 'search', 'security', 'sed',\n",
       "       'select', 'selenium', 'selenium-webdriver', 'serialization',\n",
       "       'server', 'service', 'servlets', 'session', 'sharepoint',\n",
       "       'sharepoint-2010', 'shell', 'silverlight', 'soap', 'socket.io',\n",
       "       'sockets', 'solr', 'sorting', 'split', 'spring', 'spring-boot',\n",
       "       'spring-mvc', 'spring-security', 'sprite-kit', 'sql', 'sql-server',\n",
       "       'sql-server-2005', 'sql-server-2008', 'sql-server-2008-r2',\n",
       "       'sql-server-2012', 'sqlalchemy', 'sqlite', 'sqlite3', 'ssh', 'ssis',\n",
       "       'ssl', 'static', 'stl', 'stored-procedures', 'stream', 'string',\n",
       "       'struct', 'struts2', 'svg', 'svn', 'swift', 'swift3', 'swing',\n",
       "       'symfony', 'syntax', 'table', 'tabs', 'tags', 'tcp', 'templates',\n",
       "       'tensorflow', 'terminal', 'testing', 'text', 'textbox', 'textview',\n",
       "       'tfs', 'three.js', 'time', 'timer', 'tkinter', 'tomcat',\n",
       "       'transactions', 'tree', 'triggers', 'tsql', 'twitter',\n",
       "       'twitter-bootstrap', 'twitter-bootstrap-3', 'types', 'typescript',\n",
       "       'ubuntu', 'uibutton', 'uiimage', 'uiimageview',\n",
       "       'uinavigationcontroller', 'uiscrollview', 'uitableview', 'uiview',\n",
       "       'uiviewcontroller', 'uiwebview', 'unicode', 'unit-testing',\n",
       "       'unity3d', 'unix', 'upload', 'url', 'url-rewriting',\n",
       "       'user-controls', 'user-interface', 'utf-8', 'vagrant', 'validation',\n",
       "       'variables', 'vb.net', 'vb6', 'vba', 'vbscript', 'vector',\n",
       "       'version-control', 'video', 'view', 'vim', 'visual-c++',\n",
       "       'visual-studio', 'visual-studio-2008', 'visual-studio-2010',\n",
       "       'visual-studio-2012', 'visual-studio-2013', 'visual-studio-2015',\n",
       "       'wcf', 'web', 'web-applications', 'web-scraping', 'web-services',\n",
       "       'webforms', 'webpack', 'website', 'websocket', 'webview',\n",
       "       'while-loop', 'winapi', 'windows', 'windows-7', 'windows-8',\n",
       "       'windows-phone-7', 'windows-phone-8', 'windows-runtime', 'winforms',\n",
       "       'woocommerce', 'wordpress', 'wpf', 'wsdl', 'x86', 'xamarin',\n",
       "       'xamarin.android', 'xamarin.ios', 'xaml', 'xampp', 'xcode', 'xml',\n",
       "       'xml-parsing', 'xpath', 'xsd', 'xslt', 'yii', 'youtube',\n",
       "       'zend-framework', 'zend-framework2'], dtype=object)"
      ]
     },
     "execution_count": 18,
     "metadata": {},
     "output_type": "execute_result"
    }
   ],
   "source": [
    "tag_vocabulary"
   ]
  },
  {
   "cell_type": "code",
   "execution_count": 19,
   "metadata": {
    "collapsed": true
   },
   "outputs": [],
   "source": [
    "pickle.dump(tag_vocabulary,open(PICKLE_DIR_ROOT+\"/tag_vocabulary.p\",\"wb\"))"
   ]
  },
  {
   "cell_type": "code",
   "execution_count": 20,
   "metadata": {},
   "outputs": [
    {
     "data": {
      "text/plain": [
       "(\"replacing asp datagrid control to custom jquery control ( , or other library ) . we have a aspx application . we are using so many asp server controls in our application which in ui look n feel . i have been looking into and other asp custom control library . we are also looking for open source library which doesnt come with license . i want to ask how can we start replacing all the asp . net control to any good ui custom control library . as we want to change as much less our code . i need pointers to open source asp custom control ui library . and steps needed . in aspx code : in the server side we have a bind function private sub ( ) dim as data . ' bind data grid = / / function which is returning sets from database / / me . . datasource = me . . databind ( ) end sub and couple more handlers to handle data grid events like private sub ( byval source as system . object , byval e as system . web . ui . . ) handles .\",\n",
       " ['asp.net', 'jquery', 'vb.net'])"
      ]
     },
     "execution_count": 20,
     "metadata": {},
     "output_type": "execute_result"
    }
   ],
   "source": [
    "i = 1\n",
    "tokenized_texts[i],document_tag_index[i]"
   ]
  },
  {
   "cell_type": "markdown",
   "metadata": {},
   "source": [
    "### build tag_vectors_index\n",
    "\n",
    "> if a tag is the ONLY tag assigned to some document, that's probably a more representative document of this tag, than if this tag were only one among many others"
   ]
  },
  {
   "cell_type": "code",
   "execution_count": 24,
   "metadata": {},
   "outputs": [],
   "source": [
    "# tag => tag_vector\n",
    "tag_vectors_index = dict()\n",
    "\n",
    "for (tag,document_ids) in tag_document_index.items():\n",
    "    \n",
    "    tag_vector = np.zeros(NUM_WORDS)\n",
    "    \n",
    "    for document_id in document_ids:\n",
    "        document_vector = document_vectors[document_id]\n",
    "        num_tags = len(document_tag_index[document_id])\n",
    "\n",
    "\n",
    "        weight = 1.0 / num_tags\n",
    "\n",
    "        weighted_document_vector = document_vector * weight\n",
    "        \n",
    "        tag_vector = tag_vector + weighted_document_vector\n",
    "        \n",
    "    tag_vectors_index[tag] = np.asarray(tag_vector).ravel()"
   ]
  },
  {
   "cell_type": "code",
   "execution_count": 25,
   "metadata": {
    "collapsed": true
   },
   "outputs": [],
   "source": [
    "pickle.dump(tag_vectors_index,open(PICKLE_DIR_ROOT+\"/tag_vectors_index.p\",\"wb\"))"
   ]
  },
  {
   "cell_type": "code",
   "execution_count": null,
   "metadata": {
    "collapsed": true
   },
   "outputs": [],
   "source": [
    "normalized_tag_vectors_index = dict()    \n",
    "\n",
    "## THIS SUCKS.. WHY?\n",
    "## normalize vectors to make cosine similarity more accurate  \n",
    "for (tag,tag_vector) in tag_vectors_index.items():    \n",
    "    normalized_tag_vectors_index[tag] = LA.norm(tag_vector, 2)"
   ]
  },
  {
   "cell_type": "code",
   "execution_count": 26,
   "metadata": {
    "collapsed": true
   },
   "outputs": [],
   "source": [
    "def _cosine_similarity(a,b):\n",
    "    return 1 - spatial.distance.cosine(a, b)"
   ]
  },
  {
   "cell_type": "code",
   "execution_count": 27,
   "metadata": {
    "collapsed": true
   },
   "outputs": [],
   "source": [
    "target_tags = ['sql-server-2008','sql','sql-server','mysql','database','postgresql','select','join','oracle','tsql','sqlite']\n",
    "\n",
    "pairs = [ (a,b) for a in target_tags for b in target_tags if a != b ]"
   ]
  },
  {
   "cell_type": "code",
   "execution_count": 28,
   "metadata": {},
   "outputs": [
    {
     "name": "stdout",
     "output_type": "stream",
     "text": [
      "SIM 'sql-server-2008' 'sql' => 0.9395895746882705\n",
      "SIM 'sql-server-2008' 'sql-server' => 0.9821119605172598\n",
      "SIM 'sql-server-2008' 'mysql' => 0.8226097503208992\n",
      "SIM 'sql-server-2008' 'database' => 0.8275114596159142\n",
      "SIM 'sql-server-2008' 'postgresql' => 0.7747714200885653\n",
      "SIM 'sql-server-2008' 'select' => 0.7972666890913032\n",
      "SIM 'sql-server-2008' 'join' => 0.7392739084398778\n",
      "SIM 'sql-server-2008' 'oracle' => 0.7797090548419625\n",
      "SIM 'sql-server-2008' 'tsql' => 0.9378127522029255\n",
      "SIM 'sql-server-2008' 'sqlite' => 0.6490600970004755\n",
      "SIM 'sql' 'sql-server-2008' => 0.9395895746882705\n",
      "SIM 'sql' 'sql-server' => 0.9505872018144442\n",
      "SIM 'sql' 'mysql' => 0.9103751542945812\n",
      "SIM 'sql' 'database' => 0.8543220589394381\n",
      "SIM 'sql' 'postgresql' => 0.8322720471873928\n",
      "SIM 'sql' 'select' => 0.8906146287347845\n",
      "SIM 'sql' 'join' => 0.847780243207564\n",
      "SIM 'sql' 'oracle' => 0.8386410400720171\n",
      "SIM 'sql' 'tsql' => 0.9554279729324378\n",
      "SIM 'sql' 'sqlite' => 0.6869169237548929\n",
      "SIM 'sql-server' 'sql-server-2008' => 0.9821119605172598\n",
      "SIM 'sql-server' 'sql' => 0.9505872018144442\n",
      "SIM 'sql-server' 'mysql' => 0.8342435229626265\n",
      "SIM 'sql-server' 'database' => 0.8452291871128615\n",
      "SIM 'sql-server' 'postgresql' => 0.7867397808778243\n",
      "SIM 'sql-server' 'select' => 0.8067689973233562\n",
      "SIM 'sql-server' 'join' => 0.752456219228422\n",
      "SIM 'sql-server' 'oracle' => 0.7917956812946437\n",
      "SIM 'sql-server' 'tsql' => 0.9468596402119104\n",
      "SIM 'sql-server' 'sqlite' => 0.6623529162555208\n",
      "SIM 'mysql' 'sql-server-2008' => 0.8226097503208992\n",
      "SIM 'mysql' 'sql' => 0.9103751542945812\n",
      "SIM 'mysql' 'sql-server' => 0.8342435229626265\n",
      "SIM 'mysql' 'database' => 0.8737659576992871\n",
      "SIM 'mysql' 'postgresql' => 0.7914033310833773\n",
      "SIM 'mysql' 'select' => 0.8499490948871034\n",
      "SIM 'mysql' 'join' => 0.7985400116249673\n",
      "SIM 'mysql' 'oracle' => 0.7462609206885279\n",
      "SIM 'mysql' 'tsql' => 0.8446890788813481\n",
      "SIM 'mysql' 'sqlite' => 0.6731594895765711\n",
      "SIM 'database' 'sql-server-2008' => 0.8275114596159142\n",
      "SIM 'database' 'sql' => 0.8543220589394381\n",
      "SIM 'database' 'sql-server' => 0.8452291871128615\n",
      "SIM 'database' 'mysql' => 0.8737659576992871\n",
      "SIM 'database' 'postgresql' => 0.8031565739539933\n",
      "SIM 'database' 'select' => 0.7451645160536529\n",
      "SIM 'database' 'join' => 0.6968747611360477\n",
      "SIM 'database' 'oracle' => 0.7550884618262664\n",
      "SIM 'database' 'tsql' => 0.7943099091595889\n",
      "SIM 'database' 'sqlite' => 0.7746004186678992\n",
      "SIM 'postgresql' 'sql-server-2008' => 0.7747714200885653\n",
      "SIM 'postgresql' 'sql' => 0.8322720471873928\n",
      "SIM 'postgresql' 'sql-server' => 0.7867397808778243\n",
      "SIM 'postgresql' 'mysql' => 0.7914033310833773\n",
      "SIM 'postgresql' 'database' => 0.8031565739539933\n",
      "SIM 'postgresql' 'select' => 0.7550622887969962\n",
      "SIM 'postgresql' 'join' => 0.6879867924435237\n",
      "SIM 'postgresql' 'oracle' => 0.7185516789830709\n",
      "SIM 'postgresql' 'tsql' => 0.7913141285978957\n",
      "SIM 'postgresql' 'sqlite' => 0.6432399491479904\n",
      "SIM 'select' 'sql-server-2008' => 0.7972666890913032\n",
      "SIM 'select' 'sql' => 0.8906146287347845\n",
      "SIM 'select' 'sql-server' => 0.8067689973233562\n",
      "SIM 'select' 'mysql' => 0.8499490948871034\n",
      "SIM 'select' 'database' => 0.7451645160536529\n",
      "SIM 'select' 'postgresql' => 0.7550622887969962\n",
      "SIM 'select' 'join' => 0.7749460379740869\n",
      "SIM 'select' 'oracle' => 0.741789671717063\n",
      "SIM 'select' 'tsql' => 0.8596863801072276\n",
      "SIM 'select' 'sqlite' => 0.608258537482323\n",
      "SIM 'join' 'sql-server-2008' => 0.7392739084398778\n",
      "SIM 'join' 'sql' => 0.847780243207564\n",
      "SIM 'join' 'sql-server' => 0.752456219228422\n",
      "SIM 'join' 'mysql' => 0.7985400116249673\n",
      "SIM 'join' 'database' => 0.6968747611360477\n",
      "SIM 'join' 'postgresql' => 0.6879867924435237\n",
      "SIM 'join' 'select' => 0.7749460379740869\n",
      "SIM 'join' 'oracle' => 0.6628656820261204\n",
      "SIM 'join' 'tsql' => 0.7986942901039682\n",
      "SIM 'join' 'sqlite' => 0.5524229124282855\n",
      "SIM 'oracle' 'sql-server-2008' => 0.7797090548419625\n",
      "SIM 'oracle' 'sql' => 0.8386410400720171\n",
      "SIM 'oracle' 'sql-server' => 0.7917956812946437\n",
      "SIM 'oracle' 'mysql' => 0.7462609206885279\n",
      "SIM 'oracle' 'database' => 0.7550884618262664\n",
      "SIM 'oracle' 'postgresql' => 0.7185516789830709\n",
      "SIM 'oracle' 'select' => 0.741789671717063\n",
      "SIM 'oracle' 'join' => 0.6628656820261204\n",
      "SIM 'oracle' 'tsql' => 0.7897156281247102\n",
      "SIM 'oracle' 'sqlite' => 0.5948572904578964\n",
      "SIM 'tsql' 'sql-server-2008' => 0.9378127522029255\n",
      "SIM 'tsql' 'sql' => 0.9554279729324378\n",
      "SIM 'tsql' 'sql-server' => 0.9468596402119104\n",
      "SIM 'tsql' 'mysql' => 0.8446890788813481\n",
      "SIM 'tsql' 'database' => 0.7943099091595889\n",
      "SIM 'tsql' 'postgresql' => 0.7913141285978957\n",
      "SIM 'tsql' 'select' => 0.8596863801072276\n",
      "SIM 'tsql' 'join' => 0.7986942901039682\n",
      "SIM 'tsql' 'oracle' => 0.7897156281247102\n",
      "SIM 'tsql' 'sqlite' => 0.6405766789665426\n",
      "SIM 'sqlite' 'sql-server-2008' => 0.6490600970004755\n",
      "SIM 'sqlite' 'sql' => 0.6869169237548929\n",
      "SIM 'sqlite' 'sql-server' => 0.6623529162555208\n",
      "SIM 'sqlite' 'mysql' => 0.6731594895765711\n",
      "SIM 'sqlite' 'database' => 0.7746004186678992\n",
      "SIM 'sqlite' 'postgresql' => 0.6432399491479904\n",
      "SIM 'sqlite' 'select' => 0.608258537482323\n",
      "SIM 'sqlite' 'join' => 0.5524229124282855\n",
      "SIM 'sqlite' 'oracle' => 0.5948572904578964\n",
      "SIM 'sqlite' 'tsql' => 0.6405766789665426\n"
     ]
    }
   ],
   "source": [
    "for (tag_a,tag_b) in pairs:\n",
    "    tag_a_vector = tag_vectors_index[tag_a]\n",
    "    tag_b_vector = tag_vectors_index[tag_b]\n",
    "    \n",
    "    sim = _cosine_similarity(tag_a_vector,tag_b_vector)\n",
    "    \n",
    "    print(\"SIM '{}' '{}' => {}\".format(tag_a,tag_b,sim))\n",
    "    "
   ]
  },
  {
   "cell_type": "markdown",
   "metadata": {},
   "source": [
    "if all other tags are, on average, more similar to A than to B, then A is probably more generic than B\n",
    "\n",
    "should it be normalized by the difference between A and B?\n",
    "\n",
    "will fail for tags that are below B?"
   ]
  },
  {
   "cell_type": "code",
   "execution_count": 29,
   "metadata": {},
   "outputs": [
    {
     "data": {
      "text/plain": [
       "0.68691692375489299"
      ]
     },
     "execution_count": 29,
     "metadata": {},
     "output_type": "execute_result"
    }
   ],
   "source": [
    "sql_vector = tag_vectors_index['sql']\n",
    "avg_diff = list()\n",
    "\n",
    "for (tag_name,tag_vector) in tag_vectors_index.items():\n",
    "    avg_diff.append(_cosine_similarity(tag_a_vector,sql_vector))\n",
    "    \n",
    "np.mean(np.array(avg_diff))"
   ]
  },
  {
   "cell_type": "code",
   "execution_count": 30,
   "metadata": {},
   "outputs": [
    {
     "data": {
      "text/plain": [
       "0.66235291625552073"
      ]
     },
     "execution_count": 30,
     "metadata": {},
     "output_type": "execute_result"
    }
   ],
   "source": [
    "sql_vector = tag_vectors_index['sql-server']\n",
    "avg_diff = list()\n",
    "\n",
    "for (tag_name,tag_vector) in tag_vectors_index.items():\n",
    "    avg_diff.append(_cosine_similarity(tag_a_vector,sql_vector))\n",
    "    \n",
    "np.mean(np.array(avg_diff))"
   ]
  },
  {
   "cell_type": "code",
   "execution_count": 31,
   "metadata": {},
   "outputs": [
    {
     "data": {
      "text/plain": [
       "0.64906009700047551"
      ]
     },
     "execution_count": 31,
     "metadata": {},
     "output_type": "execute_result"
    }
   ],
   "source": [
    "sql_vector = tag_vectors_index['sql-server-2008']\n",
    "avg_diff = list()\n",
    "\n",
    "for (tag_name,tag_vector) in tag_vectors_index.items():\n",
    "    avg_diff.append(_cosine_similarity(tag_a_vector,sql_vector))\n",
    "    \n",
    "np.mean(np.array(avg_diff))"
   ]
  },
  {
   "cell_type": "code",
   "execution_count": 32,
   "metadata": {
    "collapsed": true
   },
   "outputs": [],
   "source": [
    "def get_sim(tag_a,tag_b):\n",
    "    \n",
    "    sim = _cosine_similarity(tag_vectors_index[tag_a],tag_vectors_index[tag_b])\n",
    "    \n",
    "    return (tag_a,tag_b,sim)"
   ]
  },
  {
   "cell_type": "code",
   "execution_count": 33,
   "metadata": {
    "collapsed": true
   },
   "outputs": [],
   "source": [
    "all_tags = [tag for (tag,_) in tag_vectors_index.items()]"
   ]
  },
  {
   "cell_type": "code",
   "execution_count": 34,
   "metadata": {
    "collapsed": true
   },
   "outputs": [],
   "source": [
    "sims = Parallel(n_jobs=-1)(delayed(get_sim)(a,b) for a in all_tags for b in all_tags)"
   ]
  },
  {
   "cell_type": "code",
   "execution_count": 35,
   "metadata": {},
   "outputs": [
    {
     "data": {
      "text/plain": [
       "[('asp.net-mvc-5', 'asp.net-mvc-5', 0.99999999999999978),\n",
       " ('asp.net-mvc-5', 'visual-studio-2013', 0.6078486953790867),\n",
       " ('asp.net-mvc-5', 'windows', 0.64490353939086387),\n",
       " ('asp.net-mvc-5', 'file-upload', 0.53429951630358219),\n",
       " ('asp.net-mvc-5', 'crystal-reports', 0.37989519582539),\n",
       " ('asp.net-mvc-5', 'console', 0.52062722307343112),\n",
       " ('asp.net-mvc-5', 'user-controls', 0.58667391415372983),\n",
       " ('asp.net-mvc-5', 'io', 0.59035272012368512),\n",
       " ('asp.net-mvc-5', 'replace', 0.4965473126579063),\n",
       " ('asp.net-mvc-5', 'flex', 0.53910200836349897)]"
      ]
     },
     "execution_count": 35,
     "metadata": {},
     "output_type": "execute_result"
    }
   ],
   "source": [
    "sims[:10]"
   ]
  },
  {
   "cell_type": "code",
   "execution_count": 36,
   "metadata": {
    "collapsed": true
   },
   "outputs": [],
   "source": [
    "pairwise_similarity_dict = dict()\n",
    "\n",
    "for tag_a,tag_b, sim in sims:\n",
    "    \n",
    "    if pairwise_similarity_dict.get(tag_a) is None:\n",
    "        pairwise_similarity_dict[tag_a] = [(tag_b,sim)]\n",
    "    else:\n",
    "        pairwise_similarity_dict[tag_a].append((tag_b,sim))"
   ]
  },
  {
   "cell_type": "code",
   "execution_count": 37,
   "metadata": {},
   "outputs": [
    {
     "data": {
      "text/plain": [
       "[('asp.net-mvc-5', 0.59769479208929133),\n",
       " ('visual-studio-2013', 0.51486099784763351),\n",
       " ('windows', 0.60750827829231147),\n",
       " ('file-upload', 0.46489986971607467),\n",
       " ('crystal-reports', 0.42603387134466697),\n",
       " ('console', 0.48132889780765997),\n",
       " ('user-controls', 0.46797348138180328),\n",
       " ('io', 0.56905764523141578),\n",
       " ('replace', 0.52591183414567777),\n",
       " ('flex', 0.49748939598572317),\n",
       " ('angular2', 0.47559463419384995),\n",
       " ('url', 0.48541590471914975),\n",
       " ('dns', 0.43886394356552116),\n",
       " ('reactjs', 0.42166100528760331),\n",
       " ('magento', 0.42848213488395936),\n",
       " ('cocos2d-iphone', 0.53961322512835186),\n",
       " ('java-ee', 0.5792233793669771),\n",
       " ('dataframe', 0.55324184704451007),\n",
       " ('git', 0.33804186710049988),\n",
       " ('xaml', 0.55775193200694506)]"
      ]
     },
     "execution_count": 37,
     "metadata": {},
     "output_type": "execute_result"
    }
   ],
   "source": [
    "pairwise_similarity_dict[\"sql\"][:20]"
   ]
  },
  {
   "cell_type": "code",
   "execution_count": 38,
   "metadata": {},
   "outputs": [
    {
     "data": {
      "text/plain": [
       "[('tsql', 0.95542797293243775),\n",
       " ('sql-server', 0.95058720181444423),\n",
       " ('sql-server-2008', 0.93958957468827053),\n",
       " ('mysql', 0.91037515429458116),\n",
       " ('select', 0.89061462873478447),\n",
       " ('sql-server-2005', 0.88581025847870809),\n",
       " ('sql-server-2008-r2', 0.87935180799215285),\n",
       " ('database', 0.85432205893943813),\n",
       " ('sql-server-2012', 0.85136154912507944),\n",
       " ('join', 0.84778024320756395),\n",
       " ('oracle', 0.83864104007201712),\n",
       " ('postgresql', 0.83227204718739278),\n",
       " ('ms-access', 0.81932215209769499),\n",
       " ('group-by', 0.79698865335013647),\n",
       " ('database-design', 0.79539319358328964),\n",
       " ('oracle11g', 0.78170311306235873),\n",
       " ('table', 0.7751362391324248),\n",
       " ('linq-to-sql', 0.76852875453844216),\n",
       " ('insert', 0.75992647257611134)]"
      ]
     },
     "execution_count": 38,
     "metadata": {},
     "output_type": "execute_result"
    }
   ],
   "source": [
    "sorted(pairwise_similarity_dict[\"sql\"],key=lambda tpl : tpl[1],reverse=True)[1:20]"
   ]
  },
  {
   "cell_type": "code",
   "execution_count": 39,
   "metadata": {
    "collapsed": true
   },
   "outputs": [],
   "source": [
    "sorted_pairwise_similarity_dict = dict()\n",
    "\n",
    "for (tag, similarities_to_other_tags) in pairwise_similarity_dict.items():\n",
    "    \n",
    "    sorted_similarities = sorted(similarities_to_other_tags,key=lambda tpl: tpl[1],reverse=True)\n",
    "    sorted_without_self = sorted_similarities[1:]\n",
    "    \n",
    "    sorted_pairwise_similarity_dict[tag] = sorted_without_self"
   ]
  },
  {
   "cell_type": "code",
   "execution_count": 40,
   "metadata": {},
   "outputs": [
    {
     "data": {
      "text/plain": [
       "[('tsql', 0.95542797293243775),\n",
       " ('sql-server', 0.95058720181444423),\n",
       " ('sql-server-2008', 0.93958957468827053),\n",
       " ('mysql', 0.91037515429458116),\n",
       " ('select', 0.89061462873478447),\n",
       " ('sql-server-2005', 0.88581025847870809),\n",
       " ('sql-server-2008-r2', 0.87935180799215285),\n",
       " ('database', 0.85432205893943813),\n",
       " ('sql-server-2012', 0.85136154912507944),\n",
       " ('join', 0.84778024320756395),\n",
       " ('oracle', 0.83864104007201712),\n",
       " ('postgresql', 0.83227204718739278),\n",
       " ('ms-access', 0.81932215209769499),\n",
       " ('group-by', 0.79698865335013647),\n",
       " ('database-design', 0.79539319358328964),\n",
       " ('oracle11g', 0.78170311306235873),\n",
       " ('table', 0.7751362391324248),\n",
       " ('linq-to-sql', 0.76852875453844216),\n",
       " ('insert', 0.75992647257611134),\n",
       " ('coldfusion', 0.75616402682368966)]"
      ]
     },
     "execution_count": 40,
     "metadata": {},
     "output_type": "execute_result"
    }
   ],
   "source": [
    "sorted_pairwise_similarity_dict[\"sql\"][:20]"
   ]
  },
  {
   "cell_type": "code",
   "execution_count": 41,
   "metadata": {
    "collapsed": true
   },
   "outputs": [],
   "source": [
    "pickle.dump(sorted_pairwise_similarity_dict,open(PICKLE_DIR_ROOT+\"/sorted_pairwise_similarity_dict.p\",'wb'))"
   ]
  },
  {
   "cell_type": "markdown",
   "metadata": {},
   "source": [
    "### build global similarity index"
   ]
  },
  {
   "cell_type": "code",
   "execution_count": 42,
   "metadata": {
    "collapsed": true
   },
   "outputs": [],
   "source": [
    "global_similarity_index = dict()\n",
    "\n",
    "for tag in tag_vocabulary:\n",
    "    \n",
    "    similarities_with_current_tag = list()\n",
    "    \n",
    "    for other_tag, similarity_to_other_tag in sorted_pairwise_similarity_dict[tag]:\n",
    "        \n",
    "        if other_tag != tag:\n",
    "            similarities_with_current_tag.append(similarity_to_other_tag)\n",
    "\n",
    "    global_avg_sim_wrt_tag = np.array(similarities_with_current_tag).mean()\n",
    "    \n",
    "    global_similarity_index[tag] = global_avg_sim_wrt_tag\n",
    "            \n",
    "pickle.dump(global_similarity_index,open(PICKLE_DIR_ROOT+\"/global_similarity_index.p\",'wb'))"
   ]
  },
  {
   "cell_type": "code",
   "execution_count": 43,
   "metadata": {
    "collapsed": true
   },
   "outputs": [],
   "source": [
    "# global_similarity_index"
   ]
  },
  {
   "cell_type": "code",
   "execution_count": 44,
   "metadata": {},
   "outputs": [
    {
     "data": {
      "text/plain": [
       "[('c#', 0.61429474374359472),\n",
       " ('.net', 0.60856767935547096),\n",
       " ('coldfusion', 0.60133827473238266),\n",
       " ('web', 0.58749988631852479),\n",
       " ('c#-4.0', 0.58703059122895906),\n",
       " ('design', 0.57828630242397228),\n",
       " ('mfc', 0.57473086547385188),\n",
       " ('performance', 0.57384818812305094),\n",
       " ('optimization', 0.56875933925500555),\n",
       " ('.net-4.0', 0.56798499202169783),\n",
       " ('javascript', 0.56788158824929913),\n",
       " ('java', 0.56740237398190985),\n",
       " ('web-applications', 0.56587494861950982),\n",
       " ('user-interface', 0.5655724222812859),\n",
       " ('security', 0.56419463079111587),\n",
       " ('php', 0.56297895418686694),\n",
       " ('cocoa', 0.56254237759167014),\n",
       " ('asp.net', 0.56224469352671291),\n",
       " ('coffeescript', 0.55656888421314732),\n",
       " ('winforms', 0.55459198118370545)]"
      ]
     },
     "execution_count": 44,
     "metadata": {},
     "output_type": "execute_result"
    }
   ],
   "source": [
    "sorted(global_similarity_index.items(),key=lambda tpl: tpl[1],reverse=True)[:20]"
   ]
  },
  {
   "cell_type": "code",
   "execution_count": 48,
   "metadata": {},
   "outputs": [
    {
     "data": {
      "text/plain": [
       "(0.1304544666069315, 0.82292004418484122)"
      ]
     },
     "execution_count": 48,
     "metadata": {},
     "output_type": "execute_result"
    }
   ],
   "source": [
    "evaluate_cobrinha('android','android-studio',tag_vectors_index,sorted_pairwise_similarity_dict, global_similarity_index) "
   ]
  },
  {
   "cell_type": "code",
   "execution_count": 49,
   "metadata": {},
   "outputs": [
    {
     "data": {
      "text/plain": [
       "(0.034968450719514266, 0.84565024635719455)"
      ]
     },
     "execution_count": 49,
     "metadata": {},
     "output_type": "execute_result"
    }
   ],
   "source": [
    "evaluate_cobrinha('asp.net','asp.net-mvc',tag_vectors_index,sorted_pairwise_similarity_dict, global_similarity_index) "
   ]
  },
  {
   "cell_type": "code",
   "execution_count": 50,
   "metadata": {},
   "outputs": [
    {
     "data": {
      "text/plain": [
       "(0.0070798645057762455, 0.95671340973047336)"
      ]
     },
     "execution_count": 50,
     "metadata": {},
     "output_type": "execute_result"
    }
   ],
   "source": [
    "evaluate_cobrinha('asp.net-mvc','asp.net-mvc-5',tag_vectors_index,sorted_pairwise_similarity_dict, global_similarity_index) "
   ]
  },
  {
   "cell_type": "markdown",
   "metadata": {},
   "source": [
    "what about unrelated stuff"
   ]
  },
  {
   "cell_type": "code",
   "execution_count": 51,
   "metadata": {},
   "outputs": [
    {
     "data": {
      "text/plain": [
       "(0.12649887344671018, 0.62727084914851483)"
      ]
     },
     "execution_count": 51,
     "metadata": {},
     "output_type": "execute_result"
    }
   ],
   "source": [
    "evaluate_cobrinha('java','arrays',tag_vectors_index,sorted_pairwise_similarity_dict, global_similarity_index) "
   ]
  },
  {
   "cell_type": "code",
   "execution_count": 52,
   "metadata": {},
   "outputs": [
    {
     "data": {
      "text/plain": [
       "(-0.016851103574039517, 0.64133340229546998)"
      ]
     },
     "execution_count": 52,
     "metadata": {},
     "output_type": "execute_result"
    }
   ],
   "source": [
    "evaluate_cobrinha('ruby','python-2.7',tag_vectors_index,sorted_pairwise_similarity_dict, global_similarity_index) "
   ]
  },
  {
   "cell_type": "code",
   "execution_count": 53,
   "metadata": {},
   "outputs": [
    {
     "data": {
      "text/plain": [
       "(0.027103394222880106, 0.6490934775334003)"
      ]
     },
     "execution_count": 53,
     "metadata": {},
     "output_type": "execute_result"
    }
   ],
   "source": [
    "evaluate_cobrinha('database','python-2.7',tag_vectors_index,sorted_pairwise_similarity_dict, global_similarity_index) "
   ]
  },
  {
   "cell_type": "markdown",
   "metadata": {},
   "source": [
    "what's the mean and stddev of the similarity between all tags and each other?"
   ]
  },
  {
   "cell_type": "code",
   "execution_count": 54,
   "metadata": {},
   "outputs": [
    {
     "data": {
      "text/plain": [
       "(0.42193599264174947, 0.077541119988049412)"
      ]
     },
     "execution_count": 54,
     "metadata": {},
     "output_type": "execute_result"
    }
   ],
   "source": [
    "running_avgs = []\n",
    "\n",
    "for (tag, similarities_to_other_tags) in pairwise_similarity_dict.items():\n",
    "    sims = [tpl[1] for tpl in similarities_to_other_tags]\n",
    "    \n",
    "    avg = np.array(sims).mean()\n",
    "    \n",
    "    running_avgs.append(avg)\n",
    "    \n",
    "np.array(running_avgs).mean(),np.array(running_avgs).std()"
   ]
  }
 ],
 "metadata": {
  "kernelspec": {
   "display_name": "Global TF Kernel (Python 3)",
   "language": "python",
   "name": "global-tf-python-3"
  },
  "language_info": {
   "codemirror_mode": {
    "name": "ipython",
    "version": 3
   },
   "file_extension": ".py",
   "mimetype": "text/x-python",
   "name": "python",
   "nbconvert_exporter": "python",
   "pygments_lexer": "ipython3",
   "version": "3.5.2"
  }
 },
 "nbformat": 4,
 "nbformat_minor": 2
}
