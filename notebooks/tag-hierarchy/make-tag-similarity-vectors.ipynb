{
 "cells": [
  {
   "cell_type": "code",
   "execution_count": 1,
   "metadata": {},
   "outputs": [
    {
     "name": "stderr",
     "output_type": "stream",
     "text": [
      "Using TensorFlow backend.\n"
     ]
    }
   ],
   "source": [
    "import csv\n",
    "import os\n",
    "import pickle\n",
    "import re\n",
    "import sys\n",
    "import numpy as np\n",
    "\n",
    "from joblib import Parallel, delayed\n",
    "\n",
    "from difflib import SequenceMatcher,get_close_matches\n",
    "\n",
    "from keras.preprocessing.text import Tokenizer\n",
    "from keras.preprocessing.sequence import pad_sequences\n",
    "from keras.utils import to_categorical\n",
    "from keras.layers import Dense, Dropout, Input, Flatten, Activation\n",
    "from keras.layers import Conv1D, MaxPooling1D, Embedding, GlobalAvgPool1D, GlobalMaxPooling1D\n",
    "from keras.models import Model, Sequential\n",
    "\n",
    "from numpy import linalg as LA\n",
    "\n",
    "from scipy import spatial\n",
    "\n",
    "from sklearn import preprocessing\n",
    "from sklearn.feature_extraction.text import CountVectorizer, TfidfVectorizer\n",
    "\n",
    "from tqdm import *\n",
    "\n",
    "module_path = os.path.abspath(os.path.join('../helpers/'))\n",
    "if module_path not in sys.path:\n",
    "    sys.path.append(module_path)\n",
    "\n",
    "# my stuff in the helpers/ directory\n",
    "import embeddings_helper, files_helper, texts_helper, metrics_helper, tags_helper,cobrinha_helper\n",
    "\n",
    "from cobrinha_helper import evaluate_cobrinha\n"
   ]
  },
  {
   "cell_type": "code",
   "execution_count": 2,
   "metadata": {},
   "outputs": [
    {
     "data": {
      "text/plain": [
       "827"
      ]
     },
     "execution_count": 2,
     "metadata": {},
     "output_type": "execute_result"
    }
   ],
   "source": [
    "SEED=np.random.randint(1,1000)\n",
    "SEED"
   ]
  },
  {
   "cell_type": "code",
   "execution_count": 3,
   "metadata": {
    "collapsed": true
   },
   "outputs": [],
   "source": [
    "np.random.seed(SEED)"
   ]
  },
  {
   "cell_type": "code",
   "execution_count": 4,
   "metadata": {
    "collapsed": true
   },
   "outputs": [],
   "source": [
    "PICKLE_DIR_ROOT = \"/media/felipe/SSD_VOLUME/auto-tagger/data/tag-hierarchy/\""
   ]
  },
  {
   "cell_type": "code",
   "execution_count": 6,
   "metadata": {
    "collapsed": true
   },
   "outputs": [],
   "source": [
    "texts, labels = files_helper.read_stackoverflow_sample_stanford_tokenized(\"Medium-Small-Sample-Posts-Shuffled\",ssd=True)"
   ]
  },
  {
   "cell_type": "code",
   "execution_count": 7,
   "metadata": {
    "collapsed": true
   },
   "outputs": [],
   "source": [
    "MAX_NB_WORDS = 10000\n",
    "MAX_SEQUENCE_LENGTH = 1000\n",
    "VALIDATION_SPLIT = 0.2\n",
    "LABELS_MIN_DOC_COUNT = int(20)\n",
    "BATCH_SIZE=32\n",
    "EMBEDDING_DIM=100\n",
    "NUM_EPOCHS=10\n",
    "TOKENIZER_FILTERS='' # I will perform tokenization myself"
   ]
  },
  {
   "cell_type": "code",
   "execution_count": 8,
   "metadata": {
    "collapsed": true
   },
   "outputs": [],
   "source": [
    "tokenizer = Tokenizer(num_words=MAX_NB_WORDS,\n",
    "                     filters=TOKENIZER_FILTERS)\n",
    "tokenizer.fit_on_texts(texts)\n",
    "sequences = tokenizer.texts_to_sequences(texts)\n",
    "\n",
    "# word => word_index_position\n",
    "word_index = tokenizer.word_index\n",
    "\n",
    "# word_index_position => word\n",
    "inverse_word_index = texts_helper.build_inverse_word_index(word_index)"
   ]
  },
  {
   "cell_type": "code",
   "execution_count": 9,
   "metadata": {
    "collapsed": true
   },
   "outputs": [],
   "source": [
    "truncated_labels = tags_helper.truncate_labels(labels,LABELS_MIN_DOC_COUNT)"
   ]
  },
  {
   "cell_type": "code",
   "execution_count": 10,
   "metadata": {
    "collapsed": true
   },
   "outputs": [],
   "source": [
    "lb = preprocessing.MultiLabelBinarizer()\n",
    "binary_labels = lb.fit_transform(truncated_labels)"
   ]
  },
  {
   "cell_type": "code",
   "execution_count": 11,
   "metadata": {
    "collapsed": true
   },
   "outputs": [],
   "source": [
    "# make each document (sequence of word indices) be truncated to \n",
    "# MAX_SEQUENCE_LENGTH\n",
    "tokenized_texts = []\n",
    "\n",
    "for seq in sequences:\n",
    "    truncated_seq = seq[:MAX_SEQUENCE_LENGTH]\n",
    "    tokenized_txt = \" \".join([inverse_word_index[idx] for idx in truncated_seq])\n",
    "    tokenized_texts.append(tokenized_txt)"
   ]
  },
  {
   "cell_type": "code",
   "execution_count": 12,
   "metadata": {
    "collapsed": true
   },
   "outputs": [],
   "source": [
    "# extracting IDF weights to weight the embeddings\n",
    "\n",
    "# snooping\n",
    "vect = TfidfVectorizer(max_features=MAX_NB_WORDS).fit(tokenized_texts)\n",
    "\n",
    "feature_names = vect.get_feature_names()\n",
    "idf = vect.idf_\n",
    "\n",
    "# word => word IDF\n",
    "idf_index = dict(zip(vect.get_feature_names(), idf))"
   ]
  },
  {
   "cell_type": "code",
   "execution_count": 13,
   "metadata": {
    "collapsed": true
   },
   "outputs": [],
   "source": [
    "document_vectors = vect.transform(tokenized_texts)"
   ]
  },
  {
   "cell_type": "code",
   "execution_count": 14,
   "metadata": {
    "collapsed": true
   },
   "outputs": [],
   "source": [
    "NUM_WORDS = document_vectors[0].shape[1]"
   ]
  },
  {
   "cell_type": "code",
   "execution_count": 15,
   "metadata": {
    "collapsed": true
   },
   "outputs": [],
   "source": [
    "# document_id => [tag1, tag2, tag3, ...]\n",
    "document_tag_index = tags_helper.get_document_tag_index(binary_labels,lb.classes_)\n",
    "\n",
    "# tag => [document_id1, document_id2, document_id3, ...]\n",
    "tag_document_index = tags_helper.get_tag_document_index(binary_labels, lb.classes_)"
   ]
  },
  {
   "cell_type": "markdown",
   "metadata": {},
   "source": [
    "### build tag_vocabulary"
   ]
  },
  {
   "cell_type": "code",
   "execution_count": 16,
   "metadata": {
    "collapsed": true
   },
   "outputs": [],
   "source": [
    "tag_vocabulary = lb.classes_"
   ]
  },
  {
   "cell_type": "code",
   "execution_count": 17,
   "metadata": {},
   "outputs": [
    {
     "data": {
      "text/plain": [
       "1704"
      ]
     },
     "execution_count": 17,
     "metadata": {},
     "output_type": "execute_result"
    }
   ],
   "source": [
    "len(tag_vocabulary)"
   ]
  },
  {
   "cell_type": "code",
   "execution_count": 18,
   "metadata": {
    "collapsed": true
   },
   "outputs": [],
   "source": [
    "pickle.dump(tag_vocabulary,open(PICKLE_DIR_ROOT+\"/tag_vocabulary.p\",\"wb\"))"
   ]
  },
  {
   "cell_type": "code",
   "execution_count": 19,
   "metadata": {},
   "outputs": [
    {
     "data": {
      "text/plain": [
       "(\"use with gulp . i read about gulp and was quite taken by the . i want to try it out for myself but i am running into a little problem . i am used to using with grunt and i have no idea how to get to play nice with gulp . i 've come across this article which suggests there is no need for a plugin when using gulp . unfortunately it does n't really explain how to go about it and the example it links to does n't help me much . is there anyone who knows how to go about this ?\",\n",
       " ['gulp', 'jekyll'])"
      ]
     },
     "execution_count": 19,
     "metadata": {},
     "output_type": "execute_result"
    }
   ],
   "source": [
    "i = 2\n",
    "tokenized_texts[i],document_tag_index[i]"
   ]
  },
  {
   "cell_type": "markdown",
   "metadata": {},
   "source": [
    "### build tag_vectors_index\n",
    "\n",
    "> if a tag is the ONLY tag assigned to some document, that's probably a more representative document of this tag, than if this tag were only one among many others"
   ]
  },
  {
   "cell_type": "code",
   "execution_count": 20,
   "metadata": {},
   "outputs": [],
   "source": [
    "# tag => tag_vector\n",
    "tag_vectors_index = dict()\n",
    "\n",
    "for (tag,document_ids) in tag_document_index.items():\n",
    "    \n",
    "    tag_vector = np.zeros(NUM_WORDS)\n",
    "    \n",
    "    for document_id in document_ids:\n",
    "        document_vector = document_vectors[document_id]\n",
    "        num_tags = len(document_tag_index[document_id])\n",
    "\n",
    "\n",
    "        weight = 1.0 / num_tags\n",
    "\n",
    "        weighted_document_vector = document_vector * weight\n",
    "        \n",
    "        tag_vector = tag_vector + weighted_document_vector\n",
    "        \n",
    "    tag_vectors_index[tag] = np.asarray(tag_vector).ravel()"
   ]
  },
  {
   "cell_type": "code",
   "execution_count": 21,
   "metadata": {
    "collapsed": true
   },
   "outputs": [],
   "source": [
    "pickle.dump(tag_vectors_index,open(PICKLE_DIR_ROOT+\"/tag_vectors_index.p\",\"wb\"))"
   ]
  },
  {
   "cell_type": "code",
   "execution_count": 22,
   "metadata": {
    "collapsed": true
   },
   "outputs": [],
   "source": [
    "normalized_tag_vectors_index = dict()    \n",
    "\n",
    "## THIS SUCKS.. WHY?\n",
    "## normalize vectors to make cosine similarity more accurate  \n",
    "for (tag,tag_vector) in tag_vectors_index.items():    \n",
    "    normalized_tag_vectors_index[tag] = LA.norm(tag_vector, 2)"
   ]
  },
  {
   "cell_type": "code",
   "execution_count": 23,
   "metadata": {
    "collapsed": true
   },
   "outputs": [],
   "source": [
    "def _cosine_similarity(a,b):\n",
    "    return 1 - spatial.distance.cosine(a, b)"
   ]
  },
  {
   "cell_type": "code",
   "execution_count": 24,
   "metadata": {
    "collapsed": true
   },
   "outputs": [],
   "source": [
    "target_tags = ['sql-server-2008','sql','sql-server','mysql','database','postgresql','select','join','oracle','tsql','sqlite']\n",
    "\n",
    "pairs = [ (a,b) for a in target_tags for b in target_tags if a != b ]"
   ]
  },
  {
   "cell_type": "code",
   "execution_count": 25,
   "metadata": {},
   "outputs": [
    {
     "name": "stdout",
     "output_type": "stream",
     "text": [
      "SIM 'sql-server-2008' 'sql' => 0.9349862739794322\n",
      "SIM 'sql-server-2008' 'sql-server' => 0.9660931871464769\n",
      "SIM 'sql-server-2008' 'mysql' => 0.8154537999297654\n",
      "SIM 'sql-server-2008' 'database' => 0.8156094260042039\n",
      "SIM 'sql-server-2008' 'postgresql' => 0.7553912824948147\n",
      "SIM 'sql-server-2008' 'select' => 0.7778990183850996\n",
      "SIM 'sql-server-2008' 'join' => 0.7190125266357225\n",
      "SIM 'sql-server-2008' 'oracle' => 0.7645262468727586\n",
      "SIM 'sql-server-2008' 'tsql' => 0.9261999301139061\n",
      "SIM 'sql-server-2008' 'sqlite' => 0.6563333385539288\n",
      "SIM 'sql' 'sql-server-2008' => 0.9349862739794322\n",
      "SIM 'sql' 'sql-server' => 0.9460848411594168\n",
      "SIM 'sql' 'mysql' => 0.9066234957540791\n",
      "SIM 'sql' 'database' => 0.8520170435797642\n",
      "SIM 'sql' 'postgresql' => 0.8138918207844948\n",
      "SIM 'sql' 'select' => 0.8654228616735832\n",
      "SIM 'sql' 'join' => 0.8199437626551427\n",
      "SIM 'sql' 'oracle' => 0.828475622543522\n",
      "SIM 'sql' 'tsql' => 0.936445656417424\n",
      "SIM 'sql' 'sqlite' => 0.7008841298527745\n",
      "SIM 'sql-server' 'sql-server-2008' => 0.9660931871464769\n",
      "SIM 'sql-server' 'sql' => 0.9460848411594168\n",
      "SIM 'sql-server' 'mysql' => 0.8232660122855544\n",
      "SIM 'sql-server' 'database' => 0.834822503510064\n",
      "SIM 'sql-server' 'postgresql' => 0.762504328980701\n",
      "SIM 'sql-server' 'select' => 0.7769257183348718\n",
      "SIM 'sql-server' 'join' => 0.7176305789140259\n",
      "SIM 'sql-server' 'oracle' => 0.7754722577027783\n",
      "SIM 'sql-server' 'tsql' => 0.9318361103891836\n",
      "SIM 'sql-server' 'sqlite' => 0.6669469282206535\n",
      "SIM 'mysql' 'sql-server-2008' => 0.8154537999297654\n",
      "SIM 'mysql' 'sql' => 0.9066234957540791\n",
      "SIM 'mysql' 'sql-server' => 0.8232660122855544\n",
      "SIM 'mysql' 'database' => 0.8714378500142249\n",
      "SIM 'mysql' 'postgresql' => 0.7742532909782487\n",
      "SIM 'mysql' 'select' => 0.840897966523889\n",
      "SIM 'mysql' 'join' => 0.7745662827890273\n",
      "SIM 'mysql' 'oracle' => 0.7348295990207688\n",
      "SIM 'mysql' 'tsql' => 0.8157870269428448\n",
      "SIM 'mysql' 'sqlite' => 0.6875610631426818\n",
      "SIM 'database' 'sql-server-2008' => 0.8156094260042039\n",
      "SIM 'database' 'sql' => 0.8520170435797642\n",
      "SIM 'database' 'sql-server' => 0.834822503510064\n",
      "SIM 'database' 'mysql' => 0.8714378500142249\n",
      "SIM 'database' 'postgresql' => 0.792325605117522\n",
      "SIM 'database' 'select' => 0.7404154151760978\n",
      "SIM 'database' 'join' => 0.6730310751690454\n",
      "SIM 'database' 'oracle' => 0.7418663369675608\n",
      "SIM 'database' 'tsql' => 0.765113350786528\n",
      "SIM 'database' 'sqlite' => 0.7880369535387601\n",
      "SIM 'postgresql' 'sql-server-2008' => 0.7553912824948147\n",
      "SIM 'postgresql' 'sql' => 0.8138918207844948\n",
      "SIM 'postgresql' 'sql-server' => 0.762504328980701\n",
      "SIM 'postgresql' 'mysql' => 0.7742532909782487\n",
      "SIM 'postgresql' 'database' => 0.792325605117522\n",
      "SIM 'postgresql' 'select' => 0.7279534851897517\n",
      "SIM 'postgresql' 'join' => 0.6610052936901256\n",
      "SIM 'postgresql' 'oracle' => 0.7006896656030775\n",
      "SIM 'postgresql' 'tsql' => 0.7501074359652687\n",
      "SIM 'postgresql' 'sqlite' => 0.6431421448989759\n",
      "SIM 'select' 'sql-server-2008' => 0.7778990183850996\n",
      "SIM 'select' 'sql' => 0.8654228616735832\n",
      "SIM 'select' 'sql-server' => 0.7769257183348718\n",
      "SIM 'select' 'mysql' => 0.840897966523889\n",
      "SIM 'select' 'database' => 0.7404154151760978\n",
      "SIM 'select' 'postgresql' => 0.7279534851897517\n",
      "SIM 'select' 'join' => 0.7318895207460099\n",
      "SIM 'select' 'oracle' => 0.7171438883267798\n",
      "SIM 'select' 'tsql' => 0.8183471771192656\n",
      "SIM 'select' 'sqlite' => 0.6120116092139485\n",
      "SIM 'join' 'sql-server-2008' => 0.7190125266357225\n",
      "SIM 'join' 'sql' => 0.8199437626551427\n",
      "SIM 'join' 'sql-server' => 0.7176305789140259\n",
      "SIM 'join' 'mysql' => 0.7745662827890273\n",
      "SIM 'join' 'database' => 0.6730310751690454\n",
      "SIM 'join' 'postgresql' => 0.6610052936901256\n",
      "SIM 'join' 'select' => 0.7318895207460099\n",
      "SIM 'join' 'oracle' => 0.633371139280108\n",
      "SIM 'join' 'tsql' => 0.7421522801335462\n",
      "SIM 'join' 'sqlite' => 0.5447808414810893\n",
      "SIM 'oracle' 'sql-server-2008' => 0.7645262468727586\n",
      "SIM 'oracle' 'sql' => 0.828475622543522\n",
      "SIM 'oracle' 'sql-server' => 0.7754722577027783\n",
      "SIM 'oracle' 'mysql' => 0.7348295990207688\n",
      "SIM 'oracle' 'database' => 0.7418663369675608\n",
      "SIM 'oracle' 'postgresql' => 0.7006896656030775\n",
      "SIM 'oracle' 'select' => 0.7171438883267798\n",
      "SIM 'oracle' 'join' => 0.633371139280108\n",
      "SIM 'oracle' 'tsql' => 0.7602471704689822\n",
      "SIM 'oracle' 'sqlite' => 0.5980530253829414\n",
      "SIM 'tsql' 'sql-server-2008' => 0.9261999301139061\n",
      "SIM 'tsql' 'sql' => 0.936445656417424\n",
      "SIM 'tsql' 'sql-server' => 0.9318361103891836\n",
      "SIM 'tsql' 'mysql' => 0.8157870269428448\n",
      "SIM 'tsql' 'database' => 0.765113350786528\n",
      "SIM 'tsql' 'postgresql' => 0.7501074359652687\n",
      "SIM 'tsql' 'select' => 0.8183471771192656\n",
      "SIM 'tsql' 'join' => 0.7421522801335462\n",
      "SIM 'tsql' 'oracle' => 0.7602471704689822\n",
      "SIM 'tsql' 'sqlite' => 0.6326550925185417\n",
      "SIM 'sqlite' 'sql-server-2008' => 0.6563333385539288\n",
      "SIM 'sqlite' 'sql' => 0.7008841298527745\n",
      "SIM 'sqlite' 'sql-server' => 0.6669469282206535\n",
      "SIM 'sqlite' 'mysql' => 0.6875610631426818\n",
      "SIM 'sqlite' 'database' => 0.7880369535387601\n",
      "SIM 'sqlite' 'postgresql' => 0.6431421448989759\n",
      "SIM 'sqlite' 'select' => 0.6120116092139485\n",
      "SIM 'sqlite' 'join' => 0.5447808414810893\n",
      "SIM 'sqlite' 'oracle' => 0.5980530253829414\n",
      "SIM 'sqlite' 'tsql' => 0.6326550925185417\n"
     ]
    }
   ],
   "source": [
    "for (tag_a,tag_b) in pairs:\n",
    "    tag_a_vector = tag_vectors_index[tag_a]\n",
    "    tag_b_vector = tag_vectors_index[tag_b]\n",
    "    \n",
    "    sim = _cosine_similarity(tag_a_vector,tag_b_vector)\n",
    "    \n",
    "    print(\"SIM '{}' '{}' => {}\".format(tag_a,tag_b,sim))\n",
    "    "
   ]
  },
  {
   "cell_type": "markdown",
   "metadata": {},
   "source": [
    "if all other tags are, on average, more similar to A than to B, then A is probably more generic than B\n",
    "\n",
    "should it be normalized by the difference between A and B?\n",
    "\n",
    "will fail for tags that are below B?"
   ]
  },
  {
   "cell_type": "code",
   "execution_count": 26,
   "metadata": {},
   "outputs": [
    {
     "data": {
      "text/plain": [
       "0.70088412985277426"
      ]
     },
     "execution_count": 26,
     "metadata": {},
     "output_type": "execute_result"
    }
   ],
   "source": [
    "sql_vector = tag_vectors_index['sql']\n",
    "avg_diff = list()\n",
    "\n",
    "for (tag_name,tag_vector) in tag_vectors_index.items():\n",
    "    avg_diff.append(_cosine_similarity(tag_a_vector,sql_vector))\n",
    "    \n",
    "np.mean(np.array(avg_diff))"
   ]
  },
  {
   "cell_type": "code",
   "execution_count": 27,
   "metadata": {},
   "outputs": [
    {
     "data": {
      "text/plain": [
       "0.66694692822065349"
      ]
     },
     "execution_count": 27,
     "metadata": {},
     "output_type": "execute_result"
    }
   ],
   "source": [
    "sql_vector = tag_vectors_index['sql-server']\n",
    "avg_diff = list()\n",
    "\n",
    "for (tag_name,tag_vector) in tag_vectors_index.items():\n",
    "    avg_diff.append(_cosine_similarity(tag_a_vector,sql_vector))\n",
    "    \n",
    "np.mean(np.array(avg_diff))"
   ]
  },
  {
   "cell_type": "code",
   "execution_count": 28,
   "metadata": {},
   "outputs": [
    {
     "data": {
      "text/plain": [
       "0.65633333855392895"
      ]
     },
     "execution_count": 28,
     "metadata": {},
     "output_type": "execute_result"
    }
   ],
   "source": [
    "sql_vector = tag_vectors_index['sql-server-2008']\n",
    "avg_diff = list()\n",
    "\n",
    "for (tag_name,tag_vector) in tag_vectors_index.items():\n",
    "    avg_diff.append(_cosine_similarity(tag_a_vector,sql_vector))\n",
    "    \n",
    "np.mean(np.array(avg_diff))"
   ]
  },
  {
   "cell_type": "code",
   "execution_count": 29,
   "metadata": {
    "collapsed": true
   },
   "outputs": [],
   "source": [
    "def get_sim(tag_a,tag_b):\n",
    "    \n",
    "    sim = _cosine_similarity(tag_vectors_index[tag_a],tag_vectors_index[tag_b])\n",
    "    \n",
    "    return (tag_a,tag_b,sim)"
   ]
  },
  {
   "cell_type": "code",
   "execution_count": 30,
   "metadata": {
    "collapsed": true
   },
   "outputs": [],
   "source": [
    "all_tags = [tag for (tag,_) in tag_vectors_index.items()]"
   ]
  },
  {
   "cell_type": "code",
   "execution_count": 31,
   "metadata": {
    "collapsed": true
   },
   "outputs": [],
   "source": [
    "sims = Parallel(n_jobs=-1)(delayed(get_sim)(a,b) for a in all_tags for b in all_tags)"
   ]
  },
  {
   "cell_type": "code",
   "execution_count": 32,
   "metadata": {},
   "outputs": [
    {
     "data": {
      "text/plain": [
       "[('transform', 'transform', 1.0),\n",
       " ('transform', 'case', 0.26554840755418407),\n",
       " ('transform', 'jni', 0.3009183278459453),\n",
       " ('transform', 'floating-point', 0.336854480012164),\n",
       " ('transform', 'angular2', 0.3661205276052284),\n",
       " ('transform', 'jframe', 0.27573279740961776),\n",
       " ('transform', 'spinner', 0.20500842597293434),\n",
       " ('transform', 'time-series', 0.37992182618296111),\n",
       " ('transform', 'json.net', 0.28870913869046644),\n",
       " ('transform', 'database', 0.44774169494985283)]"
      ]
     },
     "execution_count": 32,
     "metadata": {},
     "output_type": "execute_result"
    }
   ],
   "source": [
    "sims[:10]"
   ]
  },
  {
   "cell_type": "code",
   "execution_count": 33,
   "metadata": {
    "collapsed": true
   },
   "outputs": [],
   "source": [
    "pairwise_similarity_dict = dict()\n",
    "\n",
    "for tag_a,tag_b, sim in sims:\n",
    "    \n",
    "    if pairwise_similarity_dict.get(tag_a) is None:\n",
    "        pairwise_similarity_dict[tag_a] = [(tag_b,sim)]\n",
    "    else:\n",
    "        pairwise_similarity_dict[tag_a].append((tag_b,sim))"
   ]
  },
  {
   "cell_type": "code",
   "execution_count": 34,
   "metadata": {},
   "outputs": [
    {
     "data": {
      "text/plain": [
       "[('transform', 0.40855872521667036),\n",
       " ('case', 0.59262310587100175),\n",
       " ('jni', 0.37921904769952519),\n",
       " ('floating-point', 0.44944965001635828),\n",
       " ('angular2', 0.44004904096272757),\n",
       " ('jframe', 0.31217042383026083),\n",
       " ('spinner', 0.2528297156338789),\n",
       " ('time-series', 0.56773145215294152),\n",
       " ('json.net', 0.39438820786891104),\n",
       " ('database', 0.85201704357976416),\n",
       " ('avfoundation', 0.43377206014556335),\n",
       " ('character-encoding', 0.49789902540568343),\n",
       " ('reference', 0.53962198256955318),\n",
       " ('prestashop', 0.5149808316574368),\n",
       " ('callback', 0.44843055355845529),\n",
       " ('mp3', 0.27999504313708945),\n",
       " ('upgrade', 0.42153009925488338),\n",
       " ('mingw', 0.2637657774736184),\n",
       " ('sharepoint-2013', 0.34542164458363755),\n",
       " ('indexing', 0.70737882653316475)]"
      ]
     },
     "execution_count": 34,
     "metadata": {},
     "output_type": "execute_result"
    }
   ],
   "source": [
    "pairwise_similarity_dict[\"sql\"][:20]"
   ]
  },
  {
   "cell_type": "code",
   "execution_count": 35,
   "metadata": {},
   "outputs": [
    {
     "data": {
      "text/plain": [
       "[('sql-server', 0.94608484115941682),\n",
       " ('tsql', 0.93644565641742405),\n",
       " ('sql-server-2008', 0.93498627397943224),\n",
       " ('mysql', 0.90662349575407908),\n",
       " ('select', 0.86542286167358318),\n",
       " ('sql-server-2005', 0.85241837335393233),\n",
       " ('database', 0.85201704357976416),\n",
       " ('sql-server-2008-r2', 0.84318095989905328),\n",
       " ('oracle', 0.82847562254352203),\n",
       " ('sql-server-2012', 0.82132633406845212),\n",
       " ('join', 0.81994376265514268),\n",
       " ('postgresql', 0.81389182078449485),\n",
       " ('ms-access', 0.80221352074550467),\n",
       " ('database-design', 0.78301104261912458),\n",
       " ('sql-update', 0.7763878939714397),\n",
       " ('ms-access-2010', 0.77491446300201694),\n",
       " ('group-by', 0.77283602270618612),\n",
       " ('subquery', 0.76446255816377828),\n",
       " ('query-optimization', 0.74722746136273188)]"
      ]
     },
     "execution_count": 35,
     "metadata": {},
     "output_type": "execute_result"
    }
   ],
   "source": [
    "sorted(pairwise_similarity_dict[\"sql\"],key=lambda tpl : tpl[1],reverse=True)[1:20]"
   ]
  },
  {
   "cell_type": "code",
   "execution_count": 36,
   "metadata": {
    "collapsed": true
   },
   "outputs": [],
   "source": [
    "sorted_pairwise_similarity_dict = dict()\n",
    "\n",
    "for (tag, similarities_to_other_tags) in pairwise_similarity_dict.items():\n",
    "    \n",
    "    sorted_similarities = sorted(similarities_to_other_tags,key=lambda tpl: tpl[1],reverse=True)\n",
    "    sorted_without_self = sorted_similarities[1:]\n",
    "    \n",
    "    sorted_pairwise_similarity_dict[tag] = sorted_without_self"
   ]
  },
  {
   "cell_type": "code",
   "execution_count": 37,
   "metadata": {},
   "outputs": [
    {
     "data": {
      "text/plain": [
       "[('sql-server', 0.94608484115941682),\n",
       " ('tsql', 0.93644565641742405),\n",
       " ('sql-server-2008', 0.93498627397943224),\n",
       " ('mysql', 0.90662349575407908),\n",
       " ('select', 0.86542286167358318),\n",
       " ('sql-server-2005', 0.85241837335393233),\n",
       " ('database', 0.85201704357976416),\n",
       " ('sql-server-2008-r2', 0.84318095989905328),\n",
       " ('oracle', 0.82847562254352203),\n",
       " ('sql-server-2012', 0.82132633406845212),\n",
       " ('join', 0.81994376265514268),\n",
       " ('postgresql', 0.81389182078449485),\n",
       " ('ms-access', 0.80221352074550467),\n",
       " ('database-design', 0.78301104261912458),\n",
       " ('sql-update', 0.7763878939714397),\n",
       " ('ms-access-2010', 0.77491446300201694),\n",
       " ('group-by', 0.77283602270618612),\n",
       " ('subquery', 0.76446255816377828),\n",
       " ('query-optimization', 0.74722746136273188),\n",
       " ('oracle-sqldeveloper', 0.74190672404619762)]"
      ]
     },
     "execution_count": 37,
     "metadata": {},
     "output_type": "execute_result"
    }
   ],
   "source": [
    "sorted_pairwise_similarity_dict[\"sql\"][:20]"
   ]
  },
  {
   "cell_type": "code",
   "execution_count": 39,
   "metadata": {},
   "outputs": [],
   "source": [
    "pickle.dump(sorted_pairwise_similarity_dict,open(PICKLE_DIR_ROOT+\"/sorted_pairwise_similarity_dict.p\",'wb'))"
   ]
  },
  {
   "cell_type": "markdown",
   "metadata": {},
   "source": [
    "### build global similarity index"
   ]
  },
  {
   "cell_type": "code",
   "execution_count": 40,
   "metadata": {
    "collapsed": true
   },
   "outputs": [],
   "source": [
    "global_similarity_index = dict()\n",
    "\n",
    "for tag in tag_vocabulary:\n",
    "    \n",
    "    similarities_with_current_tag = list()\n",
    "    \n",
    "    for other_tag, similarity_to_other_tag in sorted_pairwise_similarity_dict[tag]:\n",
    "        \n",
    "        if other_tag != tag:\n",
    "            similarities_with_current_tag.append(similarity_to_other_tag)\n",
    "\n",
    "    global_avg_sim_wrt_tag = np.array(similarities_with_current_tag).mean()\n",
    "    \n",
    "    global_similarity_index[tag] = global_avg_sim_wrt_tag\n",
    "            \n",
    "pickle.dump(global_similarity_index,open(PICKLE_DIR_ROOT+\"/global_similarity_index.p\",'wb'))"
   ]
  },
  {
   "cell_type": "code",
   "execution_count": 41,
   "metadata": {
    "collapsed": true
   },
   "outputs": [],
   "source": [
    "# global_similarity_index"
   ]
  },
  {
   "cell_type": "code",
   "execution_count": 42,
   "metadata": {},
   "outputs": [
    {
     "data": {
      "text/plain": [
       "[('c#', 0.52795499262682699),\n",
       " ('.net', 0.52236475935224813),\n",
       " ('web', 0.49697625672404389),\n",
       " ('c#-4.0', 0.492369770949807),\n",
       " ('performance', 0.49044844940532073),\n",
       " ('design', 0.48791340732320043),\n",
       " ('java', 0.48654773101891391),\n",
       " ('javascript', 0.48597898596666739),\n",
       " ('asp.net', 0.48340641191234252),\n",
       " ('security', 0.48224596054387231),\n",
       " ('php', 0.47972653441409041),\n",
       " ('user-interface', 0.47964352300825269),\n",
       " ('.net-4.0', 0.47751736281412316),\n",
       " ('html5', 0.47722780149518895),\n",
       " ('optimization', 0.47653380867752793),\n",
       " ('windows', 0.47546250693757391),\n",
       " ('ios', 0.47506348956805688),\n",
       " ('cocoa', 0.47290701874429175),\n",
       " ('cocoa-touch', 0.47098300553692912),\n",
       " ('winforms', 0.46932126814097019)]"
      ]
     },
     "execution_count": 42,
     "metadata": {},
     "output_type": "execute_result"
    }
   ],
   "source": [
    "sorted(global_similarity_index.items(),key=lambda tpl: tpl[1],reverse=True)[:20]"
   ]
  },
  {
   "cell_type": "code",
   "execution_count": 43,
   "metadata": {},
   "outputs": [
    {
     "data": {
      "text/plain": [
       "(0.13860640703283789, 0.68468023488856755)"
      ]
     },
     "execution_count": 43,
     "metadata": {},
     "output_type": "execute_result"
    }
   ],
   "source": [
    "evaluate_cobrinha('android','android-service',tag_vectors_index,sorted_pairwise_similarity_dict, global_similarity_index) "
   ]
  },
  {
   "cell_type": "code",
   "execution_count": 44,
   "metadata": {},
   "outputs": [
    {
     "data": {
      "text/plain": [
       "(0.034241028998139356, 0.84005500773754138)"
      ]
     },
     "execution_count": 44,
     "metadata": {},
     "output_type": "execute_result"
    }
   ],
   "source": [
    "evaluate_cobrinha('asp.net','asp.net-mvc',tag_vectors_index,sorted_pairwise_similarity_dict, global_similarity_index) "
   ]
  },
  {
   "cell_type": "code",
   "execution_count": 45,
   "metadata": {},
   "outputs": [
    {
     "data": {
      "text/plain": [
       "(0.011887516293288714, 0.89472967540836057)"
      ]
     },
     "execution_count": 45,
     "metadata": {},
     "output_type": "execute_result"
    }
   ],
   "source": [
    "evaluate_cobrinha('asp.net-mvc','asp.net-mvc-5',tag_vectors_index,sorted_pairwise_similarity_dict, global_similarity_index) "
   ]
  },
  {
   "cell_type": "markdown",
   "metadata": {},
   "source": [
    "what about unrelated stuff"
   ]
  },
  {
   "cell_type": "code",
   "execution_count": 46,
   "metadata": {},
   "outputs": [
    {
     "data": {
      "text/plain": [
       "(0.11558216143824568, 0.62033735340071139)"
      ]
     },
     "execution_count": 46,
     "metadata": {},
     "output_type": "execute_result"
    }
   ],
   "source": [
    "evaluate_cobrinha('java','arrays',tag_vectors_index,sorted_pairwise_similarity_dict, global_similarity_index) "
   ]
  },
  {
   "cell_type": "code",
   "execution_count": 47,
   "metadata": {},
   "outputs": [
    {
     "data": {
      "text/plain": [
       "(-0.012370486727575292, 0.6421273193667727)"
      ]
     },
     "execution_count": 47,
     "metadata": {},
     "output_type": "execute_result"
    }
   ],
   "source": [
    "evaluate_cobrinha('ruby','python-2.7',tag_vectors_index,sorted_pairwise_similarity_dict, global_similarity_index) "
   ]
  },
  {
   "cell_type": "code",
   "execution_count": 48,
   "metadata": {},
   "outputs": [
    {
     "data": {
      "text/plain": [
       "(0.020251065340873897, 0.64969028290196595)"
      ]
     },
     "execution_count": 48,
     "metadata": {},
     "output_type": "execute_result"
    }
   ],
   "source": [
    "evaluate_cobrinha('database','python-2.7',tag_vectors_index,sorted_pairwise_similarity_dict, global_similarity_index) "
   ]
  },
  {
   "cell_type": "markdown",
   "metadata": {},
   "source": [
    "what's the mean and stddev of the similarity between all tags and each other?"
   ]
  },
  {
   "cell_type": "code",
   "execution_count": 49,
   "metadata": {},
   "outputs": [
    {
     "data": {
      "text/plain": [
       "(0.31303772647830352, 0.064948327868787334)"
      ]
     },
     "execution_count": 49,
     "metadata": {},
     "output_type": "execute_result"
    }
   ],
   "source": [
    "running_avgs = []\n",
    "\n",
    "for (tag, similarities_to_other_tags) in pairwise_similarity_dict.items():\n",
    "    sims = [tpl[1] for tpl in similarities_to_other_tags]\n",
    "    \n",
    "    avg = np.array(sims).mean()\n",
    "    \n",
    "    running_avgs.append(avg)\n",
    "    \n",
    "np.array(running_avgs).mean(),np.array(running_avgs).std()"
   ]
  }
 ],
 "metadata": {
  "kernelspec": {
   "display_name": "Global TF Kernel (Python 3)",
   "language": "python",
   "name": "global-tf-python-3"
  },
  "language_info": {
   "codemirror_mode": {
    "name": "ipython",
    "version": 3
   },
   "file_extension": ".py",
   "mimetype": "text/x-python",
   "name": "python",
   "nbconvert_exporter": "python",
   "pygments_lexer": "ipython3",
   "version": "3.5.2"
  }
 },
 "nbformat": 4,
 "nbformat_minor": 2
}
