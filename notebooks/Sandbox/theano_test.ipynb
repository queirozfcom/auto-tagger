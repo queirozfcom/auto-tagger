{
 "cells": [
  {
   "cell_type": "code",
   "execution_count": null,
   "metadata": {
    "collapsed": false
   },
   "outputs": [
    {
     "name": "stdout",
     "output_type": "stream",
     "text": [
      "Theano version 0.8.2\n",
      "theano is installed in /home/felipe/venv2-global/local/lib/python2.7/site-packages/theano\n",
      "NumPy version 1.11.0\n",
      "NumPy relaxed strides checking option: False\n",
      "NumPy is installed in /home/felipe/venv2-global/local/lib/python2.7/site-packages/numpy\n",
      "Python version 2.7.6 (default, Jun 22 2015, 17:58:13) [GCC 4.8.2]\n",
      "nose version 1.3.7\n"
     ]
    },
    {
     "name": "stderr",
     "output_type": "stream",
     "text": [
      "/home/felipe/venv2-global/local/lib/python2.7/site-packages/theano/tensor/signal/downsample.py:6: UserWarning: downsample module has been moved to the theano.tensor.signal.pool module.\n",
      "  \"downsample module has been moved to the theano.tensor.signal.pool module.\")\n",
      "....................S........................................S...................................................................................SS.........................................................................................................................................................................SS.ES...SSSSSSSSSSSSSSSSSSSSSSSSSSSSSSSSSSS..SSS...........S...........SSSSS...."
     ]
    }
   ],
   "source": [
    "import theano\n",
    "theano.test()"
   ]
  },
  {
   "cell_type": "code",
   "execution_count": null,
   "metadata": {
    "collapsed": true
   },
   "outputs": [],
   "source": []
  }
 ],
 "metadata": {
  "kernelspec": {
   "display_name": "Python 2",
   "language": "python",
   "name": "python2"
  },
  "language_info": {
   "codemirror_mode": {
    "name": "ipython",
    "version": 2
   },
   "file_extension": ".py",
   "mimetype": "text/x-python",
   "name": "python",
   "nbconvert_exporter": "python",
   "pygments_lexer": "ipython2",
   "version": "2.7.6"
  }
 },
 "nbformat": 4,
 "nbformat_minor": 0
}
