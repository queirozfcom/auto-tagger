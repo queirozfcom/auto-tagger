{
 "cells": [
  {
   "cell_type": "markdown",
   "metadata": {},
   "source": [
    "https://blog.keras.io/building-autoencoders-in-keras.html"
   ]
  },
  {
   "cell_type": "code",
   "execution_count": 1,
   "metadata": {
    "collapsed": false
   },
   "outputs": [
    {
     "name": "stderr",
     "output_type": "stream",
     "text": [
      "Using Theano backend.\n",
      "Using gpu device 0: GeForce GT625M (CNMeM is disabled, cuDNN not available)\n"
     ]
    }
   ],
   "source": [
    "import matplotlib.pyplot as plt\n",
    "import numpy as np\n",
    "from keras.layers import Input,Dense, Convolution2D, MaxPooling2D, UpSampling2D\n",
    "from keras.models import Model\n",
    "from keras.datasets import mnist\n",
    "from keras import regularizers"
   ]
  },
  {
   "cell_type": "code",
   "execution_count": 2,
   "metadata": {
    "collapsed": true
   },
   "outputs": [],
   "source": [
    "(x_train,_),(x_test,_) = mnist.load_data()\n",
    "\n",
    "x_train = x_train.astype('float32') / 255\n",
    "x_test = x_test.astype('float32') / 255\n",
    "x_train = x_train.reshape((len(x_train), np.prod(x_train.shape[1:])))\n",
    "x_test = x_test.reshape((len(x_test), np.prod(x_test.shape[1:])))"
   ]
  },
  {
   "cell_type": "code",
   "execution_count": 3,
   "metadata": {
    "collapsed": true
   },
   "outputs": [],
   "source": [
    "%matplotlib inline"
   ]
  },
  {
   "cell_type": "code",
   "execution_count": 4,
   "metadata": {
    "collapsed": false
   },
   "outputs": [],
   "source": [
    "def plot_imgs(decoded_images,n=20):\n",
    "\n",
    "    plt.figure(figsize=(20,4))\n",
    "    for i in range(n):\n",
    "        # original digit\n",
    "        ax = plt.subplot(2,n,i+1)\n",
    "        plt.imshow(x_test[i].reshape(28,28))\n",
    "        plt.gray()\n",
    "        ax.get_xaxis().set_visible(False)\n",
    "        ax.get_yaxis().set_visible(False)\n",
    "\n",
    "        # reconstruction\n",
    "        ax = plt.subplot(2,n,i+1+n)\n",
    "        plt.imshow(decoded_images[i].reshape(28,28))\n",
    "        plt.gray()\n",
    "        ax.get_xaxis().set_visible(False)\n",
    "        ax.get_yaxis().set_visible(False)\n",
    "    \n",
    "    plt.show()"
   ]
  },
  {
   "cell_type": "markdown",
   "metadata": {
    "collapsed": true
   },
   "source": [
    "# relu activation"
   ]
  },
  {
   "cell_type": "code",
   "execution_count": null,
   "metadata": {
    "collapsed": false
   },
   "outputs": [],
   "source": [
    "%%time\n",
    "\n",
    "encoded = None\n",
    "decoded = None\n",
    "\n",
    "encoding_dim = 32\n",
    "input_img = Input(shape=(784,))\n",
    "encoded = Dense(encoding_dim, activation='relu')(input_img)\n",
    "decoded = Dense(784,activation='sigmoid')(encoded)\n",
    "autoencoder = Model(input=input_img, output=decoded)\n",
    "encoder = Model(input=input_img, output = encoded)\n",
    "encoded_input = Input(shape=(encoding_dim,))\n",
    "decoder_layer = autoencoder.layers[-1]\n",
    "decoder = Model(input=encoded_input, output=decoder_layer(encoded_input))\n",
    "autoencoder.compile(optimizer='adadelta',loss='binary_crossentropy')\n",
    "\n",
    "\n",
    "autoencoder.fit(x_train, x_train,\n",
    "               verbose=2,  \n",
    "               nb_epoch = 50,\n",
    "               batch_size = 256,\n",
    "               shuffle=True,\n",
    "               validation_data=(x_test,x_test))\n",
    "\n",
    "encoded_imgs = encoder.predict(x_test)\n",
    "decoded_imgs = decoder.predict(encoded_imgs)\n",
    "\n",
    "plot_imgs(decoded_imgs)"
   ]
  },
  {
   "cell_type": "markdown",
   "metadata": {},
   "source": [
    "# linear activation"
   ]
  },
  {
   "cell_type": "code",
   "execution_count": null,
   "metadata": {
    "collapsed": false,
    "scrolled": true
   },
   "outputs": [],
   "source": [
    "encoded = None\n",
    "decoded = None\n",
    "\n",
    "encoding_dim = 32\n",
    "input_img = Input(shape=(784,))\n",
    "\n",
    "encoded = Dense(encoding_dim, activation='linear')(input_img)\n",
    "decoded = Dense(784,activation='sigmoid')(encoded)\n",
    "autoencoder = Model(input=input_img, output=decoded)\n",
    "\n",
    "encoder = Model(input=input_img, output = encoded)\n",
    "encoded_input = Input(shape=(encoding_dim,))\n",
    "\n",
    "\n",
    "decoder_layer = autoencoder.layers[-1]\n",
    "decoder = Model(input=encoded_input, output=decoder_layer(encoded_input))\n",
    "\n",
    "autoencoder.compile(optimizer='adadelta',loss='binary_crossentropy')\n",
    "\n",
    "\n",
    "autoencoder.fit(x_train, x_train,\n",
    "               verbose=2,  \n",
    "               nb_epoch = 50,\n",
    "               batch_size = 256,\n",
    "               shuffle=True,\n",
    "               validation_data=(x_test,x_test))\n",
    "\n",
    "encoded_imgs = encoder.predict(x_test)\n",
    "decoded_imgs = decoder.predict(encoded_imgs)\n",
    "\n",
    "plot_imgs(decoded_imgs)"
   ]
  },
  {
   "cell_type": "markdown",
   "metadata": {
    "collapsed": true
   },
   "source": [
    "# using regularization"
   ]
  },
  {
   "cell_type": "code",
   "execution_count": null,
   "metadata": {
    "collapsed": false
   },
   "outputs": [],
   "source": [
    "%%time\n",
    "\n",
    "encoded = None\n",
    "decoded = None\n",
    "\n",
    "encoding_dim = 32\n",
    "\n",
    "input_img = Input(shape=(784,))\n",
    "# add a Dense layer with a L1 activity regularizer\n",
    "encoded = Dense(encoding_dim, activation='relu',\n",
    "                activity_regularizer=regularizers.activity_l1(10e-5))(input_img)\n",
    "decoded = Dense(784, activation='sigmoid')(encoded)\n",
    "\n",
    "autoencoder = Model(input=input_img, output=decoded)\n",
    "\n",
    "encoder = Model(input=input_img, output = encoded)\n",
    "encoded_input = Input(shape=(encoding_dim,))\n",
    "\n",
    "decoder_layer = autoencoder.layers[-1]\n",
    "decoder = Model(input=encoded_input, output=decoder_layer(encoded_input))\n",
    "autoencoder.compile(optimizer='adadelta',loss='binary_crossentropy')\n",
    "\n",
    "\n",
    "autoencoder.fit(x_train, x_train,\n",
    "               verbose=2,  \n",
    "               nb_epoch = 50,\n",
    "               batch_size = 256,\n",
    "               shuffle=True,\n",
    "               validation_data=(x_test,x_test))\n",
    "\n",
    "encoded_imgs = encoder.predict(x_test)\n",
    "decoded_imgs = decoder.predict(encoded_imgs)\n",
    "\n",
    "plot_imgs(decoded_imgs)"
   ]
  },
  {
   "cell_type": "markdown",
   "metadata": {},
   "source": [
    "# deep autoencoder"
   ]
  },
  {
   "cell_type": "code",
   "execution_count": 5,
   "metadata": {
    "collapsed": false
   },
   "outputs": [
    {
     "name": "stdout",
     "output_type": "stream",
     "text": [
      "Train on 60000 samples, validate on 10000 samples\n",
      "Epoch 1/100\n",
      "2s - loss: 0.3585 - val_loss: 0.2649\n",
      "Epoch 2/100\n",
      "2s - loss: 0.2594 - val_loss: 0.2526\n",
      "Epoch 3/100\n",
      "2s - loss: 0.2407 - val_loss: 0.2297\n",
      "Epoch 4/100\n",
      "2s - loss: 0.2256 - val_loss: 0.2202\n",
      "Epoch 5/100\n",
      "2s - loss: 0.2146 - val_loss: 0.2069\n",
      "Epoch 6/100\n",
      "3s - loss: 0.1979 - val_loss: 0.1900\n",
      "Epoch 7/100\n",
      "3s - loss: 0.1867 - val_loss: 0.1826\n",
      "Epoch 8/100\n",
      "3s - loss: 0.1803 - val_loss: 0.1770\n",
      "Epoch 9/100\n",
      "3s - loss: 0.1745 - val_loss: 0.1707\n",
      "Epoch 10/100\n",
      "2s - loss: 0.1695 - val_loss: 0.1651\n",
      "Epoch 11/100\n",
      "2s - loss: 0.1651 - val_loss: 0.1621\n",
      "Epoch 12/100\n",
      "2s - loss: 0.1616 - val_loss: 0.1592\n",
      "Epoch 13/100\n",
      "2s - loss: 0.1587 - val_loss: 0.1560\n",
      "Epoch 14/100\n",
      "2s - loss: 0.1563 - val_loss: 0.1548\n",
      "Epoch 15/100\n",
      "2s - loss: 0.1540 - val_loss: 0.1505\n",
      "Epoch 16/100\n",
      "2s - loss: 0.1518 - val_loss: 0.1500\n",
      "Epoch 17/100\n",
      "2s - loss: 0.1494 - val_loss: 0.1482\n",
      "Epoch 18/100\n",
      "3s - loss: 0.1472 - val_loss: 0.1451\n",
      "Epoch 19/100\n",
      "2s - loss: 0.1449 - val_loss: 0.1417\n",
      "Epoch 20/100\n",
      "2s - loss: 0.1427 - val_loss: 0.1420\n",
      "Epoch 21/100\n",
      "2s - loss: 0.1407 - val_loss: 0.1385\n",
      "Epoch 22/100\n",
      "2s - loss: 0.1390 - val_loss: 0.1360\n",
      "Epoch 23/100\n",
      "2s - loss: 0.1371 - val_loss: 0.1353\n",
      "Epoch 24/100\n",
      "2s - loss: 0.1357 - val_loss: 0.1337\n",
      "Epoch 25/100\n",
      "2s - loss: 0.1343 - val_loss: 0.1319\n",
      "Epoch 26/100\n",
      "2s - loss: 0.1329 - val_loss: 0.1303\n",
      "Epoch 27/100\n",
      "2s - loss: 0.1317 - val_loss: 0.1295\n",
      "Epoch 28/100\n",
      "2s - loss: 0.1306 - val_loss: 0.1283\n",
      "Epoch 29/100\n",
      "2s - loss: 0.1296 - val_loss: 0.1268\n",
      "Epoch 30/100\n",
      "2s - loss: 0.1285 - val_loss: 0.1265\n",
      "Epoch 31/100\n",
      "2s - loss: 0.1276 - val_loss: 0.1257\n",
      "Epoch 32/100\n",
      "2s - loss: 0.1269 - val_loss: 0.1261\n",
      "Epoch 33/100\n",
      "2s - loss: 0.1260 - val_loss: 0.1238\n",
      "Epoch 34/100\n",
      "2s - loss: 0.1252 - val_loss: 0.1245\n",
      "Epoch 35/100\n",
      "2s - loss: 0.1245 - val_loss: 0.1223\n",
      "Epoch 36/100\n",
      "2s - loss: 0.1237 - val_loss: 0.1219\n",
      "Epoch 37/100\n",
      "2s - loss: 0.1230 - val_loss: 0.1206\n",
      "Epoch 38/100\n",
      "2s - loss: 0.1222 - val_loss: 0.1202\n",
      "Epoch 39/100\n",
      "2s - loss: 0.1215 - val_loss: 0.1196\n",
      "Epoch 40/100\n",
      "2s - loss: 0.1209 - val_loss: 0.1206\n",
      "Epoch 41/100\n",
      "2s - loss: 0.1202 - val_loss: 0.1182\n",
      "Epoch 42/100\n",
      "2s - loss: 0.1195 - val_loss: 0.1172\n",
      "Epoch 43/100\n",
      "2s - loss: 0.1191 - val_loss: 0.1172\n",
      "Epoch 44/100\n",
      "2s - loss: 0.1185 - val_loss: 0.1158\n",
      "Epoch 45/100\n",
      "2s - loss: 0.1179 - val_loss: 0.1163\n",
      "Epoch 46/100\n",
      "2s - loss: 0.1174 - val_loss: 0.1150\n",
      "Epoch 47/100\n",
      "2s - loss: 0.1167 - val_loss: 0.1146\n",
      "Epoch 48/100\n",
      "2s - loss: 0.1162 - val_loss: 0.1145\n",
      "Epoch 49/100\n",
      "2s - loss: 0.1156 - val_loss: 0.1152\n",
      "Epoch 50/100\n",
      "2s - loss: 0.1150 - val_loss: 0.1145\n",
      "Epoch 51/100\n",
      "2s - loss: 0.1145 - val_loss: 0.1127\n",
      "Epoch 52/100\n",
      "2s - loss: 0.1140 - val_loss: 0.1129\n",
      "Epoch 53/100\n",
      "2s - loss: 0.1136 - val_loss: 0.1124\n",
      "Epoch 54/100\n",
      "2s - loss: 0.1132 - val_loss: 0.1118\n",
      "Epoch 55/100\n",
      "2s - loss: 0.1128 - val_loss: 0.1112\n",
      "Epoch 56/100\n",
      "2s - loss: 0.1123 - val_loss: 0.1114\n",
      "Epoch 57/100\n",
      "2s - loss: 0.1119 - val_loss: 0.1098\n",
      "Epoch 58/100\n",
      "2s - loss: 0.1116 - val_loss: 0.1102\n",
      "Epoch 59/100\n",
      "2s - loss: 0.1113 - val_loss: 0.1104\n",
      "Epoch 60/100\n",
      "2s - loss: 0.1108 - val_loss: 0.1096\n",
      "Epoch 61/100\n",
      "2s - loss: 0.1106 - val_loss: 0.1088\n",
      "Epoch 62/100\n",
      "2s - loss: 0.1102 - val_loss: 0.1097\n",
      "Epoch 63/100\n",
      "2s - loss: 0.1098 - val_loss: 0.1087\n",
      "Epoch 64/100\n",
      "2s - loss: 0.1096 - val_loss: 0.1098\n",
      "Epoch 65/100\n",
      "2s - loss: 0.1092 - val_loss: 0.1095\n",
      "Epoch 66/100\n",
      "2s - loss: 0.1090 - val_loss: 0.1076\n",
      "Epoch 67/100\n",
      "2s - loss: 0.1086 - val_loss: 0.1070\n",
      "Epoch 68/100\n",
      "2s - loss: 0.1084 - val_loss: 0.1070\n",
      "Epoch 69/100\n",
      "2s - loss: 0.1081 - val_loss: 0.1061\n",
      "Epoch 70/100\n",
      "3s - loss: 0.1079 - val_loss: 0.1067\n",
      "Epoch 71/100\n",
      "3s - loss: 0.1075 - val_loss: 0.1058\n",
      "Epoch 72/100\n",
      "2s - loss: 0.1072 - val_loss: 0.1066\n",
      "Epoch 73/100\n",
      "2s - loss: 0.1069 - val_loss: 0.1051\n",
      "Epoch 74/100\n",
      "2s - loss: 0.1068 - val_loss: 0.1060\n",
      "Epoch 75/100\n",
      "2s - loss: 0.1064 - val_loss: 0.1059\n",
      "Epoch 76/100\n",
      "2s - loss: 0.1062 - val_loss: 0.1046\n",
      "Epoch 77/100\n",
      "3s - loss: 0.1060 - val_loss: 0.1048\n",
      "Epoch 78/100\n",
      "3s - loss: 0.1057 - val_loss: 0.1051\n",
      "Epoch 79/100\n",
      "3s - loss: 0.1056 - val_loss: 0.1054\n",
      "Epoch 80/100\n",
      "3s - loss: 0.1052 - val_loss: 0.1045\n",
      "Epoch 81/100\n",
      "3s - loss: 0.1049 - val_loss: 0.1033\n",
      "Epoch 82/100\n",
      "2s - loss: 0.1047 - val_loss: 0.1043\n",
      "Epoch 83/100\n",
      "2s - loss: 0.1045 - val_loss: 0.1027\n",
      "Epoch 84/100\n",
      "2s - loss: 0.1043 - val_loss: 0.1031\n",
      "Epoch 85/100\n",
      "3s - loss: 0.1041 - val_loss: 0.1023\n",
      "Epoch 86/100\n",
      "2s - loss: 0.1039 - val_loss: 0.1024\n",
      "Epoch 87/100\n",
      "2s - loss: 0.1036 - val_loss: 0.1031\n",
      "Epoch 88/100\n",
      "2s - loss: 0.1035 - val_loss: 0.1019\n",
      "Epoch 89/100\n",
      "2s - loss: 0.1034 - val_loss: 0.1020\n",
      "Epoch 90/100\n",
      "2s - loss: 0.1031 - val_loss: 0.1027\n",
      "Epoch 91/100\n",
      "2s - loss: 0.1030 - val_loss: 0.1015\n",
      "Epoch 92/100\n",
      "2s - loss: 0.1027 - val_loss: 0.1029\n",
      "Epoch 93/100\n",
      "2s - loss: 0.1025 - val_loss: 0.1022\n",
      "Epoch 94/100\n",
      "2s - loss: 0.1025 - val_loss: 0.1013\n",
      "Epoch 95/100\n",
      "2s - loss: 0.1023 - val_loss: 0.1013\n",
      "Epoch 96/100\n",
      "2s - loss: 0.1021 - val_loss: 0.1018\n",
      "Epoch 97/100\n",
      "2s - loss: 0.1019 - val_loss: 0.1006\n",
      "Epoch 98/100\n",
      "2s - loss: 0.1017 - val_loss: 0.0999\n",
      "Epoch 99/100\n",
      "2s - loss: 0.1016 - val_loss: 0.0997\n",
      "Epoch 100/100\n",
      "2s - loss: 0.1016 - val_loss: 0.1012\n"
     ]
    },
    {
     "data": {
      "image/png": "[encoded data removed]",
      "text/plain": [
       "<matplotlib.figure.Figure at 0x7ff20426d350>"
      ]
     },
     "metadata": {},
     "output_type": "display_data"
    },
    {
     "name": "stdout",
     "output_type": "stream",
     "text": [
      "CPU times: user 3min 19s, sys: 1min 34s, total: 4min 54s\n",
      "Wall time: 4min 54s\n"
     ]
    }
   ],
   "source": [
    "%%time\n",
    "\n",
    "encoded = None\n",
    "decoded = None\n",
    "\n",
    "input_img = Input(shape=(784,))\n",
    "\n",
    "encoded = Dense(128,activation='relu')(input_img)\n",
    "encoded = Dense(64, activation='relu')(encoded)\n",
    "encoded = Dense(32,activation='relu')(encoded)\n",
    "\n",
    "decoded = Dense(64,activation='relu')(encoded)\n",
    "decoded = Dense(128,activation='relu')(decoded)\n",
    "decoded = Dense(784,activation='sigmoid')(decoded)\n",
    "\n",
    "autoencoder = Model(input=input_img, output=decoded)\n",
    "\n",
    "\n",
    "encoder = Model(input=input_img, output = encoded)\n",
    "encoded_input = Input(shape=(32,))\n",
    "\n",
    "decoder_layer1 = autoencoder.layers[-3]\n",
    "decoder_layer2 = autoencoder.layers[-2]\n",
    "decoder_layer3 = autoencoder.layers[-1]\n",
    "\n",
    "decoder = Model(input=encoded_input, output= decoder_layer3(decoder_layer2(decoder_layer1(encoded_input))))\n",
    "\n",
    "autoencoder.compile(optimizer='adadelta',loss='binary_crossentropy')\n",
    "\n",
    "autoencoder.fit(x_train, x_train, nb_epoch=100, verbose=2,\n",
    "               batch_size=256,shuffle=True,\n",
    "               validation_data=(x_test, x_test))\n",
    "\n",
    "encoded_imgs = encoder.predict(x_test)\n",
    "decoded_imgs = decoder.predict(encoded_imgs)\n",
    "\n",
    "plot_imgs(decoded_imgs)"
   ]
  },
  {
   "cell_type": "code",
   "execution_count": null,
   "metadata": {
    "collapsed": false
   },
   "outputs": [],
   "source": [
    "encoded = None\n",
    "decoded = None\n",
    "\n",
    "input_img = Input(shape=(1,28,28))\n",
    "x = Convolution2D(16,3,3, activation='relu', border_mode='same')(input_img)\n",
    "x = MaxPooling2D((2,2), border_mode='same')(x)\n",
    "x = Convolution2D(8,3,3, activation='relu', border_mode='same')(x)\n",
    "x = MaxPooling2D((2,2), border_mode='same')(x)\n",
    "x = Convolution2D(8,3,3, activation='relu', border_mode='same')(x)\n",
    "\n",
    "encoded = MaxPooling2D((2,2),border_mode='same')(x)\n",
    "\n",
    "# at this point the representation has 8 x 4 x 4 = 128 dimensions\n",
    "x = Convolution2D(8,3,3,activation='relu',border_mode='same')(encoded)\n",
    "x = UpSampling2D((2,2))(x)\n",
    "x = Convolution2D(8,3,3, activation='relu', border_mode='same')(x)\n",
    "x = UpSampling2D((2,2))(x)\n",
    "x = Convolution2D(16,3,3, activation='relu')(x)\n",
    "x = UpSampling2D((2,2))(x)\n",
    "\n",
    "decoded = Convolution2D(1,3,3, activation='sigmoid', border_mode='same')(x)\n",
    "\n",
    "autoencoder = Model(input_img,decoded)\n",
    "autoencoder.compile(optimizer='adadelta',loss='binary_crossentropy')\n",
    "\n",
    "(x_train, _), (x_test, _) = mnist.load_data()\n",
    "\n",
    "x_train = x_train.astype('float32') / 255.\n",
    "x_test = x_test.astype('float32') / 255.\n",
    "x_train = np.reshape(x_train, (len(x_train), 1, 28, 28))\n",
    "x_test = np.reshape(x_test, (len(x_test), 1, 28, 28))\n",
    "\n",
    "# the tutorial suggests we use tensorflow but I'll use theano\n",
    "\n",
    "autoencoder.fit(x_train,x_train,\n",
    "            verbose=2,\n",
    "            nb_epoch=50,\n",
    "            batch_size=128,\n",
    "            shuffle=True,\n",
    "            validation_data=(x_test,x_test))"
   ]
  },
  {
   "cell_type": "code",
   "execution_count": null,
   "metadata": {
    "collapsed": true
   },
   "outputs": [],
   "source": [
    "decoded_imgs = autoencoder.predict(x_test)"
   ]
  },
  {
   "cell_type": "code",
   "execution_count": null,
   "metadata": {
    "collapsed": false
   },
   "outputs": [],
   "source": [
    "plot_imgs(decoded_imgs)"
   ]
  },
  {
   "cell_type": "markdown",
   "metadata": {},
   "source": [
    "## denoising"
   ]
  },
  {
   "cell_type": "code",
   "execution_count": null,
   "metadata": {
    "collapsed": false
   },
   "outputs": [],
   "source": [
    "(x_train, _), (x_test, _) = mnist.load_data()\n",
    "\n",
    "x_train = x_train.astype('float32') / 255.\n",
    "x_test = x_test.astype('float32') / 255.\n",
    "x_train = np.reshape(x_train, (len(x_train), 1, 28, 28))\n",
    "x_test = np.reshape(x_test, (len(x_test), 1, 28, 28))\n",
    "\n",
    "noise_factor= 0.5\n",
    "\n",
    "x_train_noisy = x_train + noise_factor * np.random.normal(loc=0.0,scale=1.0,size=x_train.shape)\n",
    "x_test_noisy = x_test + noise_factor * np.random.normal(loc=0.0,scale=1.0,size=x_test.shape)"
   ]
  },
  {
   "cell_type": "code",
   "execution_count": null,
   "metadata": {
    "collapsed": true
   },
   "outputs": [],
   "source": [
    "x_train_noisy = np.clip(x_train_noisy,0.,1.)\n",
    "x_test_noisy = np.clip(x_test_noisy, 0.,1.)"
   ]
  },
  {
   "cell_type": "code",
   "execution_count": null,
   "metadata": {
    "collapsed": false
   },
   "outputs": [],
   "source": [
    "plot_imgs(x_test_noisy)"
   ]
  },
  {
   "cell_type": "code",
   "execution_count": null,
   "metadata": {
    "collapsed": false
   },
   "outputs": [],
   "source": [
    "input_img = Input(shape=(1,28,28))\n",
    "\n",
    "x = Convolution2D(32,3,3,activation='relu',border_mode='same')(input_img)\n",
    "x = MaxPooling2D((2,2), border_mode='same')(x)\n",
    "x = Convolution2D(32,3,3,activation='relu',border_mode='same')(x)\n",
    "encoded = MaxPooling2D((2,2),border_mode='same')(x)\n",
    "\n",
    "# at this point the representation is (32,7,7)\n",
    "x = Convolution2D(32,3,3,activation='relu',border_mode='same')(encoded)\n",
    "x = UpSampling2D((2,2))(x)\n",
    "x = Convolution2D(32,3,3,activation='relu',border_mode='same')(x)\n",
    "x = UpSampling2D((2,2))(x)\n",
    "\n",
    "decoded = Convolution2D(1,3,3,activation='sigmoid',border_mode='same')(x)\n",
    "\n",
    "autoencoder = Model(input_img,decoded)\n",
    "\n",
    "# decoder_layer1 = autoencoder.layers[-4]\n",
    "# decoder_layer2 = autoencoder.layers[-3]\n",
    "# decoder_layer3 = autoencoder.layers[-2]\n",
    "# decoder_layer4 = autoencoder.layers[-1]\n",
    "\n",
    "# encoded_input = Input(shape=(32,7,7))\n",
    "\n",
    "# decoder = Model(\n",
    "#     input=encoded_input, \n",
    "#     output= decoder_layer4(decoder_layer3(decoder_layer2(decoder_layer1(encoded_input)))))\n",
    "\n",
    "\n",
    "autoencoder.compile(optimizer='adadelta',loss='binary_crossentropy')\n",
    "\n",
    "# the source is noisy, but the target isn't?\n",
    "autoencoder.fit(x_train_noisy,x_train,\n",
    "               nb_epoch=100,\n",
    "               batch_size=128,\n",
    "               shuffle=True,\n",
    "               validation_data=(x_test_noisy,x_test))\n",
    "\n",
    "\n",
    "decoded_imgs = autoencoder.predict(x_test)\n",
    "plot_imgs(decoded_imgs)"
   ]
  },
  {
   "cell_type": "code",
   "execution_count": null,
   "metadata": {
    "collapsed": true
   },
   "outputs": [],
   "source": []
  }
 ],
 "metadata": {
  "kernelspec": {
   "display_name": "Python 2",
   "language": "python",
   "name": "python2"
  },
  "language_info": {
   "codemirror_mode": {
    "name": "ipython",
    "version": 2
   },
   "file_extension": ".py",
   "mimetype": "text/x-python",
   "name": "python",
   "nbconvert_exporter": "python",
   "pygments_lexer": "ipython2",
   "version": "2.7.12"
  }
 },
 "nbformat": 4,
 "nbformat_minor": 0
}
