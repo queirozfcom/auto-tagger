{
 "cells": [
  {
   "cell_type": "code",
   "execution_count": 5,
   "metadata": {
    "collapsed": false
   },
   "outputs": [],
   "source": [
    "import numpy as np\n",
    "\n",
    "from keras.models import Sequential\n",
    "from keras.layers import Dense, Activation"
   ]
  },
  {
   "cell_type": "markdown",
   "metadata": {},
   "source": [
    "## sequential"
   ]
  },
  {
   "cell_type": "code",
   "execution_count": 69,
   "metadata": {
    "collapsed": false
   },
   "outputs": [
    {
     "name": "stdout",
     "output_type": "stream",
     "text": [
      "Epoch 1/10\n",
      "1000/1000 [==============================] - 0s - loss: 4.0950 - acc: 0.4190     \n",
      "Epoch 2/10\n",
      "1000/1000 [==============================] - 0s - loss: 7.7300 - acc: 0.5020     \n",
      "Epoch 3/10\n",
      "1000/1000 [==============================] - 0s - loss: 7.8596 - acc: 0.5070     \n",
      "Epoch 4/10\n",
      "1000/1000 [==============================] - 0s - loss: 7.8596 - acc: 0.5070     \n",
      "Epoch 5/10\n",
      "1000/1000 [==============================] - 0s - loss: 7.8596 - acc: 0.5070     \n",
      "Epoch 6/10\n",
      "1000/1000 [==============================] - 0s - loss: 7.8596 - acc: 0.5070     \n",
      "Epoch 7/10\n",
      "1000/1000 [==============================] - 0s - loss: 7.8596 - acc: 0.5070     \n",
      "Epoch 8/10\n",
      "1000/1000 [==============================] - 0s - loss: 7.8596 - acc: 0.5070     \n",
      "Epoch 9/10\n",
      "1000/1000 [==============================] - 0s - loss: 7.8596 - acc: 0.5070     \n",
      "Epoch 10/10\n",
      "1000/1000 [==============================] - 0s - loss: 7.8596 - acc: 0.5070     \n",
      "CPU times: user 596 ms, sys: 24.2 ms, total: 620 ms\n",
      "Wall time: 583 ms\n"
     ]
    }
   ],
   "source": [
    "%%time\n",
    "\n",
    "model = Sequential()\n",
    "model.add(Dense(1,input_dim=784, activation='tanh'))\n",
    "model.compile(loss='binary_crossentropy', optimizer='sgd', metrics=['accuracy'])\n",
    "\n",
    "data = np.random.random((1000,784))\n",
    "labels = np.random.randint(2,size=(1000,1))\n",
    "\n",
    "model.fit(data,labels,nb_epoch=10,batch_size=32)"
   ]
  },
  {
   "cell_type": "code",
   "execution_count": 59,
   "metadata": {
    "collapsed": false
   },
   "outputs": [
    {
     "name": "stdout",
     "output_type": "stream",
     "text": [
      "Epoch 1/10\n",
      "1000/1000 [==============================] - 0s - loss: 7.7529 - acc: 0.0590     \n",
      "Epoch 2/10\n",
      "1000/1000 [==============================] - 0s - loss: 7.9074 - acc: 0.0340     \n",
      "Epoch 3/10\n",
      "1000/1000 [==============================] - 0s - loss: 7.9074 - acc: 0.0340     \n",
      "Epoch 4/10\n",
      "1000/1000 [==============================] - 0s - loss: 7.9074 - acc: 0.0340     \n",
      "Epoch 5/10\n",
      "1000/1000 [==============================] - 0s - loss: 7.9074 - acc: 0.0340     \n",
      "Epoch 6/10\n",
      "1000/1000 [==============================] - 0s - loss: 7.9074 - acc: 0.0340     \n",
      "Epoch 7/10\n",
      "1000/1000 [==============================] - 0s - loss: 7.9074 - acc: 0.0340     \n",
      "Epoch 8/10\n",
      "1000/1000 [==============================] - 0s - loss: 7.9074 - acc: 0.0340     \n",
      "Epoch 9/10\n",
      "1000/1000 [==============================] - 0s - loss: 7.9074 - acc: 0.0340     \n",
      "Epoch 10/10\n",
      "1000/1000 [==============================] - 0s - loss: 7.9074 - acc: 0.0340     \n",
      "CPU times: user 605 ms, sys: 41 ms, total: 646 ms\n",
      "Wall time: 1.63 s\n"
     ]
    }
   ],
   "source": [
    "%%time\n",
    "\n",
    "model = Sequential()\n",
    "model.add(Dense(1,input_dim=784, activation='linear'))\n",
    "model.compile(loss='binary_crossentropy', optimizer='rmsprop', metrics=['accuracy'])\n",
    "\n",
    "data = np.random.random((1000,784))\n",
    "labels = np.random.randint(2,size=(1000,1))\n",
    "\n",
    "model.fit(data,labels,nb_epoch=10,batch_size=32)"
   ]
  },
  {
   "cell_type": "code",
   "execution_count": 60,
   "metadata": {
    "collapsed": false
   },
   "outputs": [
    {
     "name": "stdout",
     "output_type": "stream",
     "text": [
      "Epoch 1/10\n",
      "1000/1000 [==============================] - 0s - loss: 4.0816 - acc: 0.4740     \n",
      "Epoch 2/10\n",
      "1000/1000 [==============================] - 0s - loss: 3.4232 - acc: 0.4740     \n",
      "Epoch 3/10\n",
      "1000/1000 [==============================] - 0s - loss: 3.1008 - acc: 0.5210     \n",
      "Epoch 4/10\n",
      "1000/1000 [==============================] - 0s - loss: 2.8838 - acc: 0.5080     \n",
      "Epoch 5/10\n",
      "1000/1000 [==============================] - 0s - loss: 3.3922 - acc: 0.4720     \n",
      "Epoch 6/10\n",
      "1000/1000 [==============================] - 0s - loss: 3.0594 - acc: 0.5300     \n",
      "Epoch 7/10\n",
      "1000/1000 [==============================] - 0s - loss: 2.6530 - acc: 0.4980     \n",
      "Epoch 8/10\n",
      "1000/1000 [==============================] - 0s - loss: 3.3696 - acc: 0.4970     \n",
      "Epoch 9/10\n",
      "1000/1000 [==============================] - 0s - loss: 2.7790 - acc: 0.5240     \n",
      "Epoch 10/10\n",
      "1000/1000 [==============================] - 0s - loss: 2.3247 - acc: 0.5380     \n",
      "CPU times: user 753 ms, sys: 63 ms, total: 816 ms\n",
      "Wall time: 2.6 s\n"
     ]
    }
   ],
   "source": [
    "%%time\n",
    "\n",
    "model = Sequential()\n",
    "model.add(Dense(1,input_dim=784, activation='relu'))\n",
    "model.compile(loss='binary_crossentropy', optimizer='rmsprop', metrics=['accuracy'])\n",
    "\n",
    "data = np.random.random((1000,784))\n",
    "labels = np.random.randint(2,size=(1000,1))\n",
    "\n",
    "model.fit(data,labels,nb_epoch=10,batch_size=32)"
   ]
  },
  {
   "cell_type": "code",
   "execution_count": 62,
   "metadata": {
    "collapsed": false
   },
   "outputs": [
    {
     "name": "stdout",
     "output_type": "stream",
     "text": [
      "Epoch 1/10\n",
      "1000/1000 [==============================] - 0s - loss: 0.7249 - acc: 0.5010     \n",
      "Epoch 2/10\n",
      "1000/1000 [==============================] - 0s - loss: 0.7060 - acc: 0.5340     \n",
      "Epoch 3/10\n",
      "1000/1000 [==============================] - 0s - loss: 0.7014 - acc: 0.5140     \n",
      "Epoch 4/10\n",
      "1000/1000 [==============================] - 0s - loss: 0.7039 - acc: 0.5400     \n",
      "Epoch 5/10\n",
      "1000/1000 [==============================] - 0s - loss: 0.6849 - acc: 0.5740     \n",
      "Epoch 6/10\n",
      "1000/1000 [==============================] - 0s - loss: 0.6821 - acc: 0.5720     \n",
      "Epoch 7/10\n",
      "1000/1000 [==============================] - 0s - loss: 0.6686 - acc: 0.6010     \n",
      "Epoch 8/10\n",
      "1000/1000 [==============================] - 0s - loss: 0.6600 - acc: 0.6010     \n",
      "Epoch 9/10\n",
      "1000/1000 [==============================] - 0s - loss: 0.6640 - acc: 0.6040     \n",
      "Epoch 10/10\n",
      "1000/1000 [==============================] - 0s - loss: 0.6584 - acc: 0.6060     \n",
      "CPU times: user 575 ms, sys: 37.7 ms, total: 613 ms\n",
      "Wall time: 594 ms\n"
     ]
    }
   ],
   "source": [
    "%%time\n",
    "\n",
    "model = Sequential()\n",
    "model.add(Dense(1,input_dim=784, activation='sigmoid'))\n",
    "model.compile(loss='binary_crossentropy', optimizer='rmsprop', metrics=['accuracy'])\n",
    "\n",
    "data = np.random.random((1000,784))\n",
    "labels = np.random.randint(2,size=(1000,1))\n",
    "\n",
    "model.fit(data,labels,nb_epoch=10,batch_size=32)"
   ]
  },
  {
   "cell_type": "code",
   "execution_count": 81,
   "metadata": {
    "collapsed": false
   },
   "outputs": [
    {
     "ename": "NameError",
     "evalue": "name 'l2' is not defined",
     "output_type": "error",
     "traceback": [
      "\u001b[1;31m---------------------------------------------------------------------------\u001b[0m",
      "\u001b[1;31mNameError\u001b[0m                                 Traceback (most recent call last)",
      "\u001b[1;32m<ipython-input-81-5259de9b443d>\u001b[0m in \u001b[0;36m<module>\u001b[1;34m()\u001b[0m\n\u001b[1;32m----> 1\u001b[1;33m \u001b[0mget_ipython\u001b[0m\u001b[1;33m(\u001b[0m\u001b[1;33m)\u001b[0m\u001b[1;33m.\u001b[0m\u001b[0mrun_cell_magic\u001b[0m\u001b[1;33m(\u001b[0m\u001b[1;34mu'time'\u001b[0m\u001b[1;33m,\u001b[0m \u001b[1;34mu''\u001b[0m\u001b[1;33m,\u001b[0m \u001b[1;34mu\"\\nmodel = Sequential()\\nmodel.add(Dense(1,input_dim=784, activation='hard_sigmoid', W_regularizer=l2(0.01)))\\nmodel.compile(loss='binary_crossentropy', optimizer='rmsprop', metrics=['accuracy'])\\n\\ndata = np.random.random((1000,784))\\nlabels = np.random.randint(2,size=(1000,1))\\n\\nmodel.fit(data,labels,nb_epoch=10,batch_size=32)\"\u001b[0m\u001b[1;33m)\u001b[0m\u001b[1;33m\u001b[0m\u001b[0m\n\u001b[0m",
      "\u001b[1;32m/home/felipe/venv2-global/local/lib/python2.7/site-packages/IPython/core/interactiveshell.pyc\u001b[0m in \u001b[0;36mrun_cell_magic\u001b[1;34m(self, magic_name, line, cell)\u001b[0m\n\u001b[0;32m   2118\u001b[0m             \u001b[0mmagic_arg_s\u001b[0m \u001b[1;33m=\u001b[0m \u001b[0mself\u001b[0m\u001b[1;33m.\u001b[0m\u001b[0mvar_expand\u001b[0m\u001b[1;33m(\u001b[0m\u001b[0mline\u001b[0m\u001b[1;33m,\u001b[0m \u001b[0mstack_depth\u001b[0m\u001b[1;33m)\u001b[0m\u001b[1;33m\u001b[0m\u001b[0m\n\u001b[0;32m   2119\u001b[0m             \u001b[1;32mwith\u001b[0m \u001b[0mself\u001b[0m\u001b[1;33m.\u001b[0m\u001b[0mbuiltin_trap\u001b[0m\u001b[1;33m:\u001b[0m\u001b[1;33m\u001b[0m\u001b[0m\n\u001b[1;32m-> 2120\u001b[1;33m                 \u001b[0mresult\u001b[0m \u001b[1;33m=\u001b[0m \u001b[0mfn\u001b[0m\u001b[1;33m(\u001b[0m\u001b[0mmagic_arg_s\u001b[0m\u001b[1;33m,\u001b[0m \u001b[0mcell\u001b[0m\u001b[1;33m)\u001b[0m\u001b[1;33m\u001b[0m\u001b[0m\n\u001b[0m\u001b[0;32m   2121\u001b[0m             \u001b[1;32mreturn\u001b[0m \u001b[0mresult\u001b[0m\u001b[1;33m\u001b[0m\u001b[0m\n\u001b[0;32m   2122\u001b[0m \u001b[1;33m\u001b[0m\u001b[0m\n",
      "\u001b[1;32m<decorator-gen-60>\u001b[0m in \u001b[0;36mtime\u001b[1;34m(self, line, cell, local_ns)\u001b[0m\n",
      "\u001b[1;32m/home/felipe/venv2-global/local/lib/python2.7/site-packages/IPython/core/magic.pyc\u001b[0m in \u001b[0;36m<lambda>\u001b[1;34m(f, *a, **k)\u001b[0m\n\u001b[0;32m    191\u001b[0m     \u001b[1;31m# but it's overkill for just that one bit of state.\u001b[0m\u001b[1;33m\u001b[0m\u001b[1;33m\u001b[0m\u001b[0m\n\u001b[0;32m    192\u001b[0m     \u001b[1;32mdef\u001b[0m \u001b[0mmagic_deco\u001b[0m\u001b[1;33m(\u001b[0m\u001b[0marg\u001b[0m\u001b[1;33m)\u001b[0m\u001b[1;33m:\u001b[0m\u001b[1;33m\u001b[0m\u001b[0m\n\u001b[1;32m--> 193\u001b[1;33m         \u001b[0mcall\u001b[0m \u001b[1;33m=\u001b[0m \u001b[1;32mlambda\u001b[0m \u001b[0mf\u001b[0m\u001b[1;33m,\u001b[0m \u001b[1;33m*\u001b[0m\u001b[0ma\u001b[0m\u001b[1;33m,\u001b[0m \u001b[1;33m**\u001b[0m\u001b[0mk\u001b[0m\u001b[1;33m:\u001b[0m \u001b[0mf\u001b[0m\u001b[1;33m(\u001b[0m\u001b[1;33m*\u001b[0m\u001b[0ma\u001b[0m\u001b[1;33m,\u001b[0m \u001b[1;33m**\u001b[0m\u001b[0mk\u001b[0m\u001b[1;33m)\u001b[0m\u001b[1;33m\u001b[0m\u001b[0m\n\u001b[0m\u001b[0;32m    194\u001b[0m \u001b[1;33m\u001b[0m\u001b[0m\n\u001b[0;32m    195\u001b[0m         \u001b[1;32mif\u001b[0m \u001b[0mcallable\u001b[0m\u001b[1;33m(\u001b[0m\u001b[0marg\u001b[0m\u001b[1;33m)\u001b[0m\u001b[1;33m:\u001b[0m\u001b[1;33m\u001b[0m\u001b[0m\n",
      "\u001b[1;32m/home/felipe/venv2-global/local/lib/python2.7/site-packages/IPython/core/magics/execution.pyc\u001b[0m in \u001b[0;36mtime\u001b[1;34m(self, line, cell, local_ns)\u001b[0m\n\u001b[0;32m   1175\u001b[0m         \u001b[1;32melse\u001b[0m\u001b[1;33m:\u001b[0m\u001b[1;33m\u001b[0m\u001b[0m\n\u001b[0;32m   1176\u001b[0m             \u001b[0mst\u001b[0m \u001b[1;33m=\u001b[0m \u001b[0mclock2\u001b[0m\u001b[1;33m(\u001b[0m\u001b[1;33m)\u001b[0m\u001b[1;33m\u001b[0m\u001b[0m\n\u001b[1;32m-> 1177\u001b[1;33m             \u001b[1;32mexec\u001b[0m\u001b[1;33m(\u001b[0m\u001b[0mcode\u001b[0m\u001b[1;33m,\u001b[0m \u001b[0mglob\u001b[0m\u001b[1;33m,\u001b[0m \u001b[0mlocal_ns\u001b[0m\u001b[1;33m)\u001b[0m\u001b[1;33m\u001b[0m\u001b[0m\n\u001b[0m\u001b[0;32m   1178\u001b[0m             \u001b[0mend\u001b[0m \u001b[1;33m=\u001b[0m \u001b[0mclock2\u001b[0m\u001b[1;33m(\u001b[0m\u001b[1;33m)\u001b[0m\u001b[1;33m\u001b[0m\u001b[0m\n\u001b[0;32m   1179\u001b[0m             \u001b[0mout\u001b[0m \u001b[1;33m=\u001b[0m \u001b[0mNone\u001b[0m\u001b[1;33m\u001b[0m\u001b[0m\n",
      "\u001b[1;32m<timed exec>\u001b[0m in \u001b[0;36m<module>\u001b[1;34m()\u001b[0m\n",
      "\u001b[1;31mNameError\u001b[0m: name 'l2' is not defined"
     ]
    }
   ],
   "source": [
    "%%time\n",
    "\n",
    "model = Sequential()\n",
    "model.add(Dense(1,input_dim=784, activation='hard_sigmoid'))\n",
    "model.compile(loss='binary_crossentropy', optimizer='rmsprop', metrics=['accuracy'])\n",
    "\n",
    "data = np.random.random((1000,784))\n",
    "labels = np.random.randint(2,size=(1000,1))\n",
    "\n",
    "model.fit(data,labels,nb_epoch=10,batch_size=32)"
   ]
  },
  {
   "cell_type": "code",
   "execution_count": 98,
   "metadata": {
    "collapsed": false
   },
   "outputs": [
    {
     "name": "stdout",
     "output_type": "stream",
     "text": [
      "Epoch 1/10\n",
      "1000/1000 [==============================] - 0s - loss: 0.8178 - acc: 0.5000     \n",
      "Epoch 2/10\n",
      "1000/1000 [==============================] - 0s - loss: 0.7314 - acc: 0.5690     \n",
      "Epoch 3/10\n",
      "1000/1000 [==============================] - 0s - loss: 0.6913 - acc: 0.5940     \n",
      "Epoch 4/10\n",
      "1000/1000 [==============================] - 0s - loss: 0.6637 - acc: 0.6510     \n",
      "Epoch 5/10\n",
      "1000/1000 [==============================] - 0s - loss: 0.6355 - acc: 0.6650     \n",
      "Epoch 6/10\n",
      "1000/1000 [==============================] - 0s - loss: 0.6298 - acc: 0.6830     \n",
      "Epoch 7/10\n",
      "1000/1000 [==============================] - 0s - loss: 0.6170 - acc: 0.7000     \n",
      "Epoch 8/10\n",
      "1000/1000 [==============================] - 0s - loss: 0.5997 - acc: 0.7240     \n",
      "Epoch 9/10\n",
      "1000/1000 [==============================] - 0s - loss: 0.6020 - acc: 0.7220     \n",
      "Epoch 10/10\n",
      "1000/1000 [==============================] - 0s - loss: 0.5929 - acc: 0.7290     \n",
      "CPU times: user 2.37 s, sys: 75.1 ms, total: 2.44 s\n",
      "Wall time: 2.35 s\n"
     ]
    }
   ],
   "source": [
    "%%time\n",
    "\n",
    "from keras.regularizers import l1,l2,l1l2, activity_l2\n",
    "\n",
    "model = Sequential()\n",
    "model.add(Dense(1,input_dim=784, activation='sigmoid', W_regularizer=l2()))\n",
    "# model.add(Dense(1,input_dim=784, activation='sigmoid'))\n",
    "\n",
    "model.compile(loss='binary_crossentropy', optimizer='sgd', metrics=['accuracy'])\n",
    "\n",
    "data = np.random.random((1000,784))\n",
    "labels = np.random.randint(2,size=(1000,1))\n",
    "\n",
    "model.fit(data,labels,nb_epoch=10,batch_size=2)"
   ]
  },
  {
   "cell_type": "code",
   "execution_count": 7,
   "metadata": {
    "collapsed": false
   },
   "outputs": [
    {
     "data": {
      "text/plain": [
       "(1000, 784)"
      ]
     },
     "execution_count": 7,
     "metadata": {},
     "output_type": "execute_result"
    }
   ],
   "source": [
    "data.shape"
   ]
  },
  {
   "cell_type": "markdown",
   "metadata": {},
   "source": [
    "labels.shape"
   ]
  },
  {
   "cell_type": "code",
   "execution_count": 16,
   "metadata": {
    "collapsed": false
   },
   "outputs": [
    {
     "data": {
      "text/plain": [
       "array([[1],\n",
       "       [0],\n",
       "       [0],\n",
       "       [1],\n",
       "       [1]])"
      ]
     },
     "execution_count": 16,
     "metadata": {},
     "output_type": "execute_result"
    }
   ],
   "source": [
    "labels[:5]"
   ]
  },
  {
   "cell_type": "code",
   "execution_count": 57,
   "metadata": {
    "collapsed": false
   },
   "outputs": [
    {
     "name": "stdout",
     "output_type": "stream",
     "text": [
      "1/1 [==============================] - 0s\n",
      "1/1 [==============================] - 0s\n"
     ]
    },
    {
     "data": {
      "text/plain": [
       "(array([[ 0.72602838]], dtype=float32), array([[1]], dtype=int32))"
      ]
     },
     "execution_count": 57,
     "metadata": {},
     "output_type": "execute_result"
    }
   ],
   "source": [
    "test = np.random.random(784).reshape(1,-1)\n",
    "proba = model.predict_proba(test)\n",
    "classes = model.predict_classes(test)\n",
    "proba,classes"
   ]
  },
  {
   "cell_type": "markdown",
   "metadata": {},
   "source": [
    "## merge layers"
   ]
  },
  {
   "cell_type": "code",
   "execution_count": null,
   "metadata": {
    "collapsed": true
   },
   "outputs": [],
   "source": []
  }
 ],
 "metadata": {
  "kernelspec": {
   "display_name": "Python 2",
   "language": "python",
   "name": "python2"
  },
  "language_info": {
   "codemirror_mode": {
    "name": "ipython",
    "version": 2
   },
   "file_extension": ".py",
   "mimetype": "text/x-python",
   "name": "python",
   "nbconvert_exporter": "python",
   "pygments_lexer": "ipython2",
   "version": "2.7.6"
  }
 },
 "nbformat": 4,
 "nbformat_minor": 0
}
