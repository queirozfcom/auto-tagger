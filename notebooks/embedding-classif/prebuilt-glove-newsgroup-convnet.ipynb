{
 "cells": [
  {
   "cell_type": "markdown",
   "metadata": {},
   "source": [
    "### using static (non-trainable) glove vectors with convolutional layers to classify newsgroup_20 documents\n",
    "\n",
    "https://blog.keras.io/using-pre-trained-word-embeddings-in-a-keras-model.html\n"
   ]
  },
  {
   "cell_type": "code",
   "execution_count": 15,
   "metadata": {},
   "outputs": [],
   "source": [
    "import os\n",
    "import sys\n",
    "import numpy as np\n",
    "from keras.preprocessing.text import Tokenizer\n",
    "from keras.preprocessing.sequence import pad_sequences\n",
    "from keras.utils import to_categorical\n",
    "from keras.layers import Dense, Input, Flatten\n",
    "from keras.layers import Conv1D, Dropout, Embedding, GlobalMaxPooling1D, MaxPooling1D\n",
    "from keras.models import Model,Sequential\n",
    "\n",
    "from helpers import (files_helper, \n",
    "                     metrics_helper, \n",
    "                     tags_helper,\n",
    "                     texts_helper)\n"
   ]
  },
  {
   "cell_type": "code",
   "execution_count": 2,
   "metadata": {},
   "outputs": [
    {
     "data": {
      "text/plain": [
       "672"
      ]
     },
     "execution_count": 2,
     "metadata": {},
     "output_type": "execute_result"
    }
   ],
   "source": [
    "SEED=np.random.randint(1,1000)\n",
    "SEED"
   ]
  },
  {
   "cell_type": "code",
   "execution_count": 3,
   "metadata": {
    "collapsed": true
   },
   "outputs": [],
   "source": [
    "np.random.seed(SEED)"
   ]
  },
  {
   "cell_type": "code",
   "execution_count": 4,
   "metadata": {
    "collapsed": true
   },
   "outputs": [],
   "source": [
    "MAX_NB_WORDS = 20000\n",
    "MAX_SEQUENCE_LENGTH = 1000\n",
    "VALIDATION_SPLIT = 0.2\n",
    "EMBEDDING_DIM=100\n",
    "LABELS_MIN_DOC_COUNT = int(10)\n",
    "BATCH_SIZE=32\n",
    "NUM_EPOCHS=10\n",
    "TOKENIZER_FILTERS='!\"#$%&()*+,-./:;<=>?@[\\\\]^_`{|}~\\t\\n' # default keras filters"
   ]
  },
  {
   "cell_type": "code",
   "execution_count": 6,
   "metadata": {},
   "outputs": [],
   "source": [
    "embeddings_index = files_helper.read_glove_wiki(d=EMBEDDING_DIM)"
   ]
  },
  {
   "cell_type": "code",
   "execution_count": 7,
   "metadata": {
    "collapsed": true
   },
   "outputs": [],
   "source": [
    "texts,labels_index,labels_0 = files_helper.read_20_newgroup_files()       "
   ]
  },
  {
   "cell_type": "code",
   "execution_count": 8,
   "metadata": {
    "collapsed": true
   },
   "outputs": [],
   "source": [
    "tokenizer = Tokenizer(num_words=MAX_NB_WORDS,\n",
    "                      filters=TOKENIZER_FILTERS)\n",
    "tokenizer.fit_on_texts(texts)\n",
    "sequences = tokenizer.texts_to_sequences(texts)\n",
    "word_index = tokenizer.word_index\n",
    "inverse_word_index = texts_helper.build_inverse_word_index(word_index)"
   ]
  },
  {
   "cell_type": "code",
   "execution_count": 9,
   "metadata": {},
   "outputs": [
    {
     "data": {
      "text/plain": [
       "(174074, 20)"
      ]
     },
     "execution_count": 9,
     "metadata": {},
     "output_type": "execute_result"
    }
   ],
   "source": [
    "len(word_index),len(labels_index)"
   ]
  },
  {
   "cell_type": "code",
   "execution_count": 10,
   "metadata": {
    "collapsed": true
   },
   "outputs": [],
   "source": [
    "# [inverse_word_index[idx] for idx in sequences[0]]"
   ]
  },
  {
   "cell_type": "code",
   "execution_count": 11,
   "metadata": {},
   "outputs": [
    {
     "data": {
      "text/plain": [
       "((19997, 1000), (19997, 20))"
      ]
     },
     "execution_count": 11,
     "metadata": {},
     "output_type": "execute_result"
    }
   ],
   "source": [
    "data = pad_sequences(sequences,maxlen=MAX_SEQUENCE_LENGTH)\n",
    "\n",
    "labels_1 = to_categorical(np.asarray(labels_0))\n",
    "\n",
    "indices = np.arange(data.shape[0])\n",
    "np.random.shuffle(indices)\n",
    "\n",
    "data = data[indices]\n",
    "labels_2 = labels_1[indices]\n",
    "num_validation_samples = int(VALIDATION_SPLIT * data.shape[0])\n",
    "\n",
    "X_train = data[:-num_validation_samples]\n",
    "y_train = labels_2[:-num_validation_samples]\n",
    "X_val = data[-num_validation_samples:]\n",
    "y_val = labels_2[-num_validation_samples:]\n",
    "\n",
    "data.shape,labels_2.shape"
   ]
  },
  {
   "cell_type": "code",
   "execution_count": 12,
   "metadata": {
    "collapsed": true
   },
   "outputs": [],
   "source": [
    "embedding_matrix = np.zeros((len(word_index)+1,EMBEDDING_DIM))\n",
    "\n",
    "for word,i in word_index.items():\n",
    "    \n",
    "    if i >= MAX_NB_WORDS:\n",
    "        continue\n",
    "    \n",
    "    embedding_vector = embeddings_index.get(word)\n",
    "    \n",
    "    if embedding_vector is not None:\n",
    "        embedding_matrix[i] = embedding_vector"
   ]
  },
  {
   "cell_type": "code",
   "execution_count": 13,
   "metadata": {},
   "outputs": [
    {
     "data": {
      "text/plain": [
       "(174075, 100)"
      ]
     },
     "execution_count": 13,
     "metadata": {},
     "output_type": "execute_result"
    }
   ],
   "source": [
    "embedding_matrix.shape"
   ]
  },
  {
   "cell_type": "code",
   "execution_count": 16,
   "metadata": {},
   "outputs": [],
   "source": [
    "model = Sequential()\n",
    "\n",
    "model.add(Embedding(len(word_index)+1,\n",
    "                           EMBEDDING_DIM,\n",
    "                           weights=[embedding_matrix],\n",
    "                           input_length=MAX_SEQUENCE_LENGTH,\n",
    "                           trainable = False))\n",
    "\n",
    "model.add(Conv1D(128, 5, activation='relu'))\n",
    "model.add(MaxPooling1D(5))\n",
    "model.add(Conv1D(128, 5, activation='relu'))\n",
    "model.add(MaxPooling1D(5))\n",
    "model.add(Conv1D(128, 5, activation='relu'))\n",
    "model.add(GlobalMaxPooling1D())\n",
    "model.add(Dense(128,activation='relu'))\n",
    "model.add(Dense(len(labels_index),activation='softmax'))\n",
    "model.compile(loss ='categorical_crossentropy',\n",
    "             optimizer='rmsprop',\n",
    "             metrics=['acc'])"
   ]
  },
  {
   "cell_type": "code",
   "execution_count": 17,
   "metadata": {},
   "outputs": [
    {
     "name": "stdout",
     "output_type": "stream",
     "text": [
      "Train on 15998 samples, validate on 3999 samples\n",
      "Epoch 1/10\n",
      "15998/15998 [==============================] - 19s - loss: 2.2256 - acc: 0.2180 - val_loss: 1.7256 - val_acc: 0.3768.\n",
      "Epoch 2/10\n",
      "15998/15998 [==============================] - 18s - loss: 1.3845 - acc: 0.5092 - val_loss: 1.1613 - val_acc: 0.5934\n",
      "Epoch 3/10\n",
      "15998/15998 [==============================] - 18s - loss: 1.0131 - acc: 0.6485 - val_loss: 0.9806 - val_acc: 0.6599\n",
      "Epoch 4/10\n",
      "15998/15998 [==============================] - 19s - loss: 0.8084 - acc: 0.7200 - val_loss: 0.9108 - val_acc: 0.7039\n",
      "Epoch 5/10\n",
      "15998/15998 [==============================] - 18s - loss: 0.6563 - acc: 0.7789 - val_loss: 0.9471 - val_acc: 0.7007\n",
      "Epoch 6/10\n",
      "15998/15998 [==============================] - 18s - loss: 0.5245 - acc: 0.8210 - val_loss: 0.9683 - val_acc: 0.7149\n",
      "Epoch 7/10\n",
      "15998/15998 [==============================] - 17s - loss: 0.4386 - acc: 0.8532 - val_loss: 0.9016 - val_acc: 0.7439\n",
      "Epoch 8/10\n",
      "15998/15998 [==============================] - 17s - loss: 0.3551 - acc: 0.8769 - val_loss: 0.9437 - val_acc: 0.7402\n",
      "Epoch 9/10\n",
      "15998/15998 [==============================] - 18s - loss: 0.3096 - acc: 0.8937 - val_loss: 1.1824 - val_acc: 0.7104\n",
      "Epoch 10/10\n",
      "15998/15998 [==============================] - 18s - loss: 0.2594 - acc: 0.9090 - val_loss: 1.0802 - val_acc: 0.7399\n",
      "CPU times: user 2min 16s, sys: 24.5 s, total: 2min 41s\n",
      "Wall time: 3min 4s\n"
     ]
    },
    {
     "data": {
      "text/plain": [
       "<keras.callbacks.History at 0x7fbe352c7fd0>"
      ]
     },
     "execution_count": 17,
     "metadata": {},
     "output_type": "execute_result"
    }
   ],
   "source": [
    "%%time\n",
    "\n",
    "model.fit(X_train,y_train, validation_data=(X_val, y_val),\n",
    "         epochs=NUM_EPOCHS, batch_size=BATCH_SIZE)"
   ]
  }
 ],
 "metadata": {
  "kernelspec": {
   "display_name": "Global TF Kernel (Python 3)",
   "language": "python",
   "name": "global-tf-python-3"
  },
  "language_info": {
   "codemirror_mode": {
    "name": "ipython",
    "version": 3
   },
   "file_extension": ".py",
   "mimetype": "text/x-python",
   "name": "python",
   "nbconvert_exporter": "python",
   "pygments_lexer": "ipython3",
   "version": "3.5.2"
  }
 },
 "nbformat": 4,
 "nbformat_minor": 2
}
