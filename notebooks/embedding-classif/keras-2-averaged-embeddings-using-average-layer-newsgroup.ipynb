{
 "cells": [
  {
   "cell_type": "markdown",
   "metadata": {},
   "source": [
    "### classify newsgroup_20 articles by considering each document a simple mean of its individual word embeddings\n",
    "\n",
    "**TODO**\n",
    " - use weighted averages (tf-id, ppmi, etc)\n",
    " - other architectures\n",
    " - think about why relu + sigmoid works best"
   ]
  },
  {
   "cell_type": "code",
   "execution_count": 1,
   "metadata": {},
   "outputs": [
    {
     "name": "stderr",
     "output_type": "stream",
     "text": [
      "Using TensorFlow backend.\n"
     ]
    }
   ],
   "source": [
    "import os\n",
    "import sys\n",
    "import numpy as np\n",
    "from keras.preprocessing.text import Tokenizer\n",
    "from keras.preprocessing.sequence import pad_sequences\n",
    "from keras.utils import to_categorical\n",
    "from keras.layers import Dense, Dropout, Input, Flatten, Activation\n",
    "from keras.layers import Conv1D, MaxPooling1D, Embedding, GlobalMaxPooling1D\n",
    "from keras.models import Model, Sequential\n",
    "\n",
    "# my stuff in the helpers/ directory\n",
    "from helpers import files"
   ]
  },
  {
   "cell_type": "code",
   "execution_count": 2,
   "metadata": {
    "collapsed": true
   },
   "outputs": [],
   "source": [
    "np.random.seed(seed=42)"
   ]
  },
  {
   "cell_type": "code",
   "execution_count": 3,
   "metadata": {
    "collapsed": true
   },
   "outputs": [],
   "source": [
    "embeddings_index = files.read_glove_100()"
   ]
  },
  {
   "cell_type": "code",
   "execution_count": 4,
   "metadata": {
    "collapsed": true
   },
   "outputs": [],
   "source": [
    "texts,labels_index,labels = files.read_20_newgroup_files()  \n",
    "\n",
    "MAX_NB_WORDS = 20000\n",
    "MAX_SEQUENCE_LENGTH = 1000\n",
    "VALIDATION_SPLIT = 0.2\n",
    "EMBEDDING_DIM=100\n",
    "\n",
    "tokenizer = Tokenizer(num_words=MAX_NB_WORDS)\n",
    "tokenizer.fit_on_texts(texts)\n",
    "sequences = tokenizer.texts_to_sequences(texts)\n",
    "word_index = tokenizer.word_index"
   ]
  },
  {
   "cell_type": "code",
   "execution_count": 5,
   "metadata": {
    "collapsed": true
   },
   "outputs": [],
   "source": [
    "# word_position => embedding for that word\n",
    "numeric_embeddings_index = {}\n",
    "\n",
    "embedding_matrix = np.zeros((len(word_index)+1,EMBEDDING_DIM))\n",
    "\n",
    "for word,i in word_index.items():\n",
    "    \n",
    "    if i >= MAX_NB_WORDS:\n",
    "        continue  \n",
    "    \n",
    "    embedding_vector = embeddings_index.get(word)\n",
    "    \n",
    "    numeric_embeddings_index[i] = embedding_vector\n",
    "    \n",
    "    if embedding_vector is not None:\n",
    "        embedding_matrix[i] = embedding_vector"
   ]
  },
  {
   "cell_type": "code",
   "execution_count": 6,
   "metadata": {
    "collapsed": true
   },
   "outputs": [],
   "source": [
    "inverse_word_index = {}\n",
    "\n",
    "for word,i in word_index.items():\n",
    "    inverse_word_index[i] = word"
   ]
  },
  {
   "cell_type": "code",
   "execution_count": 7,
   "metadata": {
    "collapsed": true
   },
   "outputs": [],
   "source": [
    "document_embeddings = []\n",
    "\n",
    "for i,document_sequence in enumerate(sequences):\n",
    "    \n",
    "    individual_word_embeddings = []\n",
    "    \n",
    "    for word_position in document_sequence:       \n",
    "                                  \n",
    "        word = inverse_word_index[word_position]\n",
    "        \n",
    "        word_embedding = embeddings_index.get(word)    \n",
    "\n",
    "        if word_embedding is None:\n",
    "            continue\n",
    "        else:    \n",
    "            individual_word_embeddings.append(word_embedding)\n",
    "         \n",
    "    if len(individual_word_embeddings) == 0:\n",
    "        # some documents have no text\n",
    "        # so we assign a zero vector\n",
    "        individual_word_embeddings = np.zeros(\n",
    "            EMBEDDING_DIM,dtype='float32').reshape(1,EMBEDDING_DIM)\n",
    "        \n",
    "    document_embedding = np.mean(individual_word_embeddings,axis=0)\n",
    "    \n",
    "    document_embeddings.append(document_embedding)"
   ]
  },
  {
   "cell_type": "code",
   "execution_count": 8,
   "metadata": {
    "collapsed": true
   },
   "outputs": [],
   "source": [
    "# labels"
   ]
  },
  {
   "cell_type": "code",
   "execution_count": 9,
   "metadata": {},
   "outputs": [
    {
     "data": {
      "text/plain": [
       "((19997, 100), (19997, 20))"
      ]
     },
     "execution_count": 9,
     "metadata": {},
     "output_type": "execute_result"
    }
   ],
   "source": [
    "data = np.vstack(document_embeddings)\n",
    "labels = to_categorical(np.asarray(labels)) # mutating\n",
    "indices = np.arange(data.shape[0])\n",
    "np.random.shuffle(indices)\n",
    "\n",
    "data = data[indices]\n",
    "labels = labels[indices]\n",
    "num_validation_samples = int(VALIDATION_SPLIT * data.shape[0])\n",
    "\n",
    "X_train = data[:-num_validation_samples]\n",
    "y_train = labels[:-num_validation_samples]\n",
    "X_val = data[-num_validation_samples:]\n",
    "y_val = labels[-num_validation_samples:]\n",
    "\n",
    "data.shape,labels.shape"
   ]
  },
  {
   "cell_type": "code",
   "execution_count": 10,
   "metadata": {},
   "outputs": [
    {
     "data": {
      "text/plain": [
       "array([[ 0.,  0.,  0., ...,  0.,  0.,  0.],\n",
       "       [ 0.,  0.,  0., ...,  0.,  0.,  0.],\n",
       "       [ 0.,  0.,  0., ...,  0.,  0.,  0.],\n",
       "       ..., \n",
       "       [ 0.,  0.,  0., ...,  0.,  0.,  0.],\n",
       "       [ 1.,  0.,  0., ...,  0.,  0.,  0.],\n",
       "       [ 0.,  0.,  0., ...,  0.,  0.,  0.]])"
      ]
     },
     "execution_count": 10,
     "metadata": {},
     "output_type": "execute_result"
    }
   ],
   "source": [
    "labels"
   ]
  },
  {
   "cell_type": "code",
   "execution_count": 11,
   "metadata": {},
   "outputs": [
    {
     "name": "stdout",
     "output_type": "stream",
     "text": [
      "Train on 15998 samples, validate on 3999 samples\n",
      "Epoch 1/10\n",
      "15998/15998 [==============================] - 2s - loss: 2.4835 - acc: 0.1941 - val_loss: 1.8787 - val_acc: 0.3966\n",
      "Epoch 2/10\n",
      "15998/15998 [==============================] - 1s - loss: 1.8451 - acc: 0.3719 - val_loss: 1.6069 - val_acc: 0.4569\n",
      "Epoch 3/10\n",
      "15998/15998 [==============================] - 2s - loss: 1.6190 - acc: 0.4475 - val_loss: 1.4832 - val_acc: 0.4944\n",
      "Epoch 4/10\n",
      "15998/15998 [==============================] - 1s - loss: 1.5144 - acc: 0.4819 - val_loss: 1.3703 - val_acc: 0.5436\n",
      "Epoch 5/10\n",
      "15998/15998 [==============================] - 1s - loss: 1.4447 - acc: 0.5074 - val_loss: 1.3378 - val_acc: 0.5459\n",
      "Epoch 6/10\n",
      "15998/15998 [==============================] - 1s - loss: 1.3887 - acc: 0.5251 - val_loss: 1.2751 - val_acc: 0.5709\n",
      "Epoch 7/10\n",
      "15998/15998 [==============================] - 1s - loss: 1.3510 - acc: 0.5444 - val_loss: 1.2608 - val_acc: 0.5729\n",
      "Epoch 8/10\n",
      "15998/15998 [==============================] - 1s - loss: 1.3112 - acc: 0.5543 - val_loss: 1.2685 - val_acc: 0.5644\n",
      "Epoch 9/10\n",
      "15998/15998 [==============================] - 1s - loss: 1.2888 - acc: 0.5643 - val_loss: 1.2363 - val_acc: 0.5811\n",
      "Epoch 10/10\n",
      "15998/15998 [==============================] - 1s - loss: 1.2593 - acc: 0.5772 - val_loss: 1.1932 - val_acc: 0.5944\n",
      "CPU times: user 28.9 s, sys: 2.88 s, total: 31.8 s\n",
      "Wall time: 20.3 s\n"
     ]
    }
   ],
   "source": [
    "%%time\n",
    "\n",
    "model = Sequential()\n",
    "model.add(Dense(512,input_dim=EMBEDDING_DIM))\n",
    "model.add(Activation('relu'))\n",
    "model.add(Dropout(0.5))\n",
    "model.add(Dense(512))\n",
    "model.add(Activation('sigmoid'))\n",
    "model.add(Dropout(0.5))\n",
    "model.add(Dense(len(labels_index)))\n",
    "model.add(Activation('softmax'))\n",
    "\n",
    "model.compile(loss='categorical_crossentropy',\n",
    "              optimizer='adam',\n",
    "              metrics=['accuracy'])\n",
    "\n",
    "model.fit(X_train, y_train,\n",
    "                    batch_size=32,\n",
    "                    epochs=10,\n",
    "                    verbose=1,\n",
    "                    validation_data=(X_val,y_val))"
   ]
  }
 ],
 "metadata": {
  "kernelspec": {
   "display_name": "Global TF Kernel (Python 3)",
   "language": "python",
   "name": "global-tf-python-3"
  },
  "language_info": {
   "codemirror_mode": {
    "name": "ipython",
    "version": 3
   },
   "file_extension": ".py",
   "mimetype": "text/x-python",
   "name": "python",
   "nbconvert_exporter": "python",
   "pygments_lexer": "ipython3",
   "version": "3.5.2"
  }
 },
 "nbformat": 4,
 "nbformat_minor": 2
}
