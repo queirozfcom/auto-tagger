{
 "cells": [
  {
   "cell_type": "markdown",
   "metadata": {},
   "source": [
    "### classify stackoverflow posts by considering each document a simple mean of its individual word embeddings (glove trained on stackoverflow corpus), then using individual tag probabilities to assign tags to samples"
   ]
  },
  {
   "cell_type": "code",
   "execution_count": 1,
   "metadata": {},
   "outputs": [
    {
     "name": "stderr",
     "output_type": "stream",
     "text": [
      "Using TensorFlow backend.\n"
     ]
    }
   ],
   "source": [
    "import csv\n",
    "import os\n",
    "import re\n",
    "import sys\n",
    "import numpy as np\n",
    "\n",
    "from keras.preprocessing.text import Tokenizer\n",
    "from keras.preprocessing.sequence import pad_sequences\n",
    "from keras.utils import to_categorical\n",
    "from keras.layers import Dense, Dropout, Input, Flatten, Activation\n",
    "from keras.layers import Conv1D, MaxPooling1D, Embedding, GlobalAvgPool1D\n",
    "from keras.models import Model, Sequential\n",
    "\n",
    "from nltk.tokenize import StanfordTokenizer\n",
    "\n",
    "from sklearn import preprocessing\n",
    "from sklearn.feature_extraction.text import CountVectorizer\n",
    "\n",
    "# my stuff in the helpers/ directory\n",
    "from helpers import files_helper, texts_helper, metrics_helper, tags_helper"
   ]
  },
  {
   "cell_type": "code",
   "execution_count": 2,
   "metadata": {},
   "outputs": [
    {
     "data": {
      "text/plain": [
       "113"
      ]
     },
     "execution_count": 2,
     "metadata": {},
     "output_type": "execute_result"
    }
   ],
   "source": [
    "SEED=np.random.randint(1,1000)\n",
    "SEED"
   ]
  },
  {
   "cell_type": "code",
   "execution_count": 3,
   "metadata": {
    "collapsed": true
   },
   "outputs": [],
   "source": [
    "np.random.seed(SEED)"
   ]
  },
  {
   "cell_type": "code",
   "execution_count": 4,
   "metadata": {
    "collapsed": true
   },
   "outputs": [],
   "source": [
    "texts, labels = files_helper.read_stackoverflow_sample_small_stanford_tokenized()"
   ]
  },
  {
   "cell_type": "code",
   "execution_count": 5,
   "metadata": {
    "collapsed": true
   },
   "outputs": [],
   "source": [
    "MAX_NB_WORDS = 200000\n",
    "MAX_SEQUENCE_LENGTH = 1000\n",
    "VALIDATION_SPLIT = 0.2\n",
    "LABELS_MIN_DOC_COUNT = int(10)\n",
    "BATCH_SIZE=32\n",
    "EMBEDDING_DIM=100\n",
    "NUM_EPOCHS=10\n",
    "TOKENIZER_FILTERS='' # I will perform tokenization myself"
   ]
  },
  {
   "cell_type": "code",
   "execution_count": 6,
   "metadata": {
    "collapsed": true
   },
   "outputs": [],
   "source": [
    "tokenizer = Tokenizer(num_words=MAX_NB_WORDS,\n",
    "                     filters=TOKENIZER_FILTERS)\n",
    "tokenizer.fit_on_texts(texts)\n",
    "sequences = tokenizer.texts_to_sequences(texts)\n",
    "word_index = tokenizer.word_index\n",
    "inverse_word_index = texts_helper.build_inverse_word_index(word_index)"
   ]
  },
  {
   "cell_type": "code",
   "execution_count": 7,
   "metadata": {
    "scrolled": true
   },
   "outputs": [
    {
     "data": {
      "text/plain": [
       "['replacing',\n",
       " 'asp',\n",
       " 'datagrid',\n",
       " 'control',\n",
       " 'to',\n",
       " 'custom',\n",
       " 'jquery',\n",
       " 'control',\n",
       " '(',\n",
       " 'telerik',\n",
       " ',',\n",
       " 'or',\n",
       " 'other',\n",
       " 'library',\n",
       " ')',\n",
       " '.',\n",
       " 'we',\n",
       " 'have',\n",
       " 'a',\n",
       " 'traditional',\n",
       " 'webform',\n",
       " 'aspx',\n",
       " 'application',\n",
       " '.',\n",
       " 'we',\n",
       " 'are',\n",
       " 'using',\n",
       " 'so',\n",
       " 'many',\n",
       " 'asp',\n",
       " 'server',\n",
       " 'controls',\n",
       " 'in',\n",
       " 'our',\n",
       " 'application',\n",
       " 'which',\n",
       " 'lacks',\n",
       " 'in',\n",
       " 'ui',\n",
       " 'look',\n",
       " 'n',\n",
       " 'feel',\n",
       " '.',\n",
       " 'i',\n",
       " 'have',\n",
       " 'been',\n",
       " 'looking',\n",
       " 'into',\n",
       " 'telerik',\n",
       " 'and',\n",
       " 'other',\n",
       " 'asp',\n",
       " 'custom',\n",
       " 'control',\n",
       " 'library',\n",
       " '.',\n",
       " 'we',\n",
       " 'are',\n",
       " 'also',\n",
       " 'looking',\n",
       " 'for',\n",
       " 'open',\n",
       " 'source',\n",
       " 'library',\n",
       " 'which',\n",
       " 'doesnt',\n",
       " 'come',\n",
       " 'with',\n",
       " 'license',\n",
       " '.',\n",
       " 'i',\n",
       " 'want',\n",
       " 'to',\n",
       " 'ask',\n",
       " 'how',\n",
       " 'can',\n",
       " 'we',\n",
       " 'start',\n",
       " 'replacing',\n",
       " 'all',\n",
       " 'the',\n",
       " 'asp',\n",
       " '.',\n",
       " 'net',\n",
       " 'control',\n",
       " 'to',\n",
       " 'any',\n",
       " 'good',\n",
       " 'ui',\n",
       " 'custom',\n",
       " 'control',\n",
       " 'library',\n",
       " '.',\n",
       " 'as',\n",
       " 'we',\n",
       " 'want',\n",
       " 'to',\n",
       " 'change',\n",
       " 'as',\n",
       " 'much',\n",
       " 'less',\n",
       " 'our',\n",
       " 'code',\n",
       " '.',\n",
       " 'i',\n",
       " 'need',\n",
       " 'pointers',\n",
       " 'to',\n",
       " 'open',\n",
       " 'source',\n",
       " 'asp',\n",
       " 'custom',\n",
       " 'control',\n",
       " 'ui',\n",
       " 'library',\n",
       " '.',\n",
       " 'and',\n",
       " 'steps',\n",
       " 'needed',\n",
       " '.',\n",
       " 'in',\n",
       " 'aspx',\n",
       " 'code',\n",
       " ':',\n",
       " 'in',\n",
       " 'the',\n",
       " 'server',\n",
       " 'side',\n",
       " 'we',\n",
       " 'have',\n",
       " 'a',\n",
       " 'bind',\n",
       " 'function',\n",
       " 'private',\n",
       " 'sub',\n",
       " 'binddatagrid',\n",
       " '(',\n",
       " ')',\n",
       " 'dim',\n",
       " 'dv',\n",
       " 'as',\n",
       " 'data',\n",
       " '.',\n",
       " 'dataview',\n",
       " \"'\",\n",
       " 'bind',\n",
       " 'data',\n",
       " 'grid',\n",
       " 'dv',\n",
       " '=',\n",
       " '/',\n",
       " '/',\n",
       " 'function',\n",
       " 'which',\n",
       " 'is',\n",
       " 'returning',\n",
       " 'dataview',\n",
       " 'sets',\n",
       " 'from',\n",
       " 'database',\n",
       " '/',\n",
       " '/',\n",
       " 'me',\n",
       " '.',\n",
       " 'gd1',\n",
       " '.',\n",
       " 'datasource',\n",
       " '=',\n",
       " 'dv',\n",
       " 'me',\n",
       " '.',\n",
       " 'gd1',\n",
       " '.',\n",
       " 'databind',\n",
       " '(',\n",
       " ')',\n",
       " 'end',\n",
       " 'sub',\n",
       " 'and',\n",
       " 'couple',\n",
       " 'more',\n",
       " 'handlers',\n",
       " 'to',\n",
       " 'handle',\n",
       " 'data',\n",
       " 'grid',\n",
       " 'events',\n",
       " 'like',\n",
       " 'private',\n",
       " 'sub',\n",
       " 'gd1_editcommand',\n",
       " '(',\n",
       " 'byval',\n",
       " 'source',\n",
       " 'as',\n",
       " 'system',\n",
       " '.',\n",
       " 'object',\n",
       " ',',\n",
       " 'byval',\n",
       " 'e',\n",
       " 'as',\n",
       " 'system',\n",
       " '.',\n",
       " 'web',\n",
       " '.',\n",
       " 'ui',\n",
       " '.',\n",
       " 'webcontrols',\n",
       " '.',\n",
       " 'datagridcommandeventargs',\n",
       " ')',\n",
       " 'handles',\n",
       " 'gd1',\n",
       " '.',\n",
       " 'editcommand']"
      ]
     },
     "execution_count": 7,
     "metadata": {},
     "output_type": "execute_result"
    }
   ],
   "source": [
    "[inverse_word_index[idx] for idx in sequences[1]]"
   ]
  },
  {
   "cell_type": "code",
   "execution_count": 8,
   "metadata": {
    "collapsed": true
   },
   "outputs": [],
   "source": [
    "truncated_labels = tags_helper.truncate_labels(labels,LABELS_MIN_DOC_COUNT)"
   ]
  },
  {
   "cell_type": "code",
   "execution_count": 9,
   "metadata": {
    "collapsed": true
   },
   "outputs": [],
   "source": [
    "lb = preprocessing.MultiLabelBinarizer()\n",
    "binary_labels = lb.fit_transform(truncated_labels)"
   ]
  },
  {
   "cell_type": "code",
   "execution_count": 10,
   "metadata": {
    "collapsed": true
   },
   "outputs": [],
   "source": [
    "# tag position => fraction of docs having that tag\n",
    "# snooping\n",
    "tag_incidence_index = tags_helper.get_incidence_index(binary_labels)"
   ]
  },
  {
   "cell_type": "code",
   "execution_count": 11,
   "metadata": {
    "collapsed": true
   },
   "outputs": [],
   "source": [
    "# word => embedding\n",
    "embeddings_index = files_helper.read_glove_stackoverflow(EMBEDDING_DIM)"
   ]
  },
  {
   "cell_type": "code",
   "execution_count": 12,
   "metadata": {
    "collapsed": true
   },
   "outputs": [],
   "source": [
    "embedding_matrix = np.zeros((len(word_index)+1,EMBEDDING_DIM))\n",
    "\n",
    "for word,i in word_index.items():\n",
    "    \n",
    "    if i >= MAX_NB_WORDS:\n",
    "        continue\n",
    "    \n",
    "    embedding_vector = embeddings_index.get(word)\n",
    "    \n",
    "    if embedding_vector is not None:\n",
    "        embedding_matrix[i] = embedding_vector"
   ]
  },
  {
   "cell_type": "code",
   "execution_count": 13,
   "metadata": {},
   "outputs": [
    {
     "data": {
      "text/plain": [
       "(221514, 100)"
      ]
     },
     "execution_count": 13,
     "metadata": {},
     "output_type": "execute_result"
    }
   ],
   "source": [
    "embedding_matrix.shape"
   ]
  },
  {
   "cell_type": "code",
   "execution_count": 14,
   "metadata": {},
   "outputs": [
    {
     "data": {
      "text/plain": [
       "((32000, 1000), (32000, 1209))"
      ]
     },
     "execution_count": 14,
     "metadata": {},
     "output_type": "execute_result"
    }
   ],
   "source": [
    "data = pad_sequences(sequences,maxlen=MAX_SEQUENCE_LENGTH)\n",
    "\n",
    "\n",
    "indices = np.arange(data.shape[0])\n",
    "np.random.shuffle(indices)\n",
    "\n",
    "data = data[indices]\n",
    "labels_1 = binary_labels[indices]\n",
    "num_validation_samples = int(VALIDATION_SPLIT * data.shape[0])\n",
    "\n",
    "X_train = data[:-num_validation_samples]\n",
    "Y_train = labels_1[:-num_validation_samples]\n",
    "X_val = data[-num_validation_samples:]\n",
    "Y_val = labels_1[-num_validation_samples:]\n",
    "\n",
    "data.shape,labels_1.shape"
   ]
  },
  {
   "cell_type": "code",
   "execution_count": 46,
   "metadata": {},
   "outputs": [
    {
     "name": "stdout",
     "output_type": "stream",
     "text": [
      "Train on 25600 samples, validate on 6400 samples\n",
      "Epoch 1/10\n",
      "25600/25600 [==============================] - 49s - loss: 0.0410 - val_loss: 0.0118\n",
      "Epoch 2/10\n",
      "25600/25600 [==============================] - 49s - loss: 0.0128 - val_loss: 0.0117\n",
      "Epoch 3/10\n",
      "25600/25600 [==============================] - 49s - loss: 0.0125 - val_loss: 0.0115\n",
      "Epoch 4/10\n",
      "25600/25600 [==============================] - 49s - loss: 0.0124 - val_loss: 0.0115\n",
      "Epoch 5/10\n",
      "25600/25600 [==============================] - 49s - loss: 0.0123 - val_loss: 0.0115\n",
      "Epoch 6/10\n",
      "25600/25600 [==============================] - 49s - loss: 0.0121 - val_loss: 0.0114\n",
      "Epoch 7/10\n",
      "25600/25600 [==============================] - 49s - loss: 0.0120 - val_loss: 0.0115\n",
      "Epoch 8/10\n",
      "25600/25600 [==============================] - 48s - loss: 0.0119 - val_loss: 0.0113\n",
      "Epoch 9/10\n",
      "25600/25600 [==============================] - 48s - loss: 0.0118 - val_loss: 0.0113\n",
      "Epoch 10/10\n",
      "25600/25600 [==============================] - 48s - loss: 0.0116 - val_loss: 0.0111\n",
      "CPU times: user 6min 52s, sys: 1min 17s, total: 8min 9s\n",
      "Wall time: 8min 10s\n"
     ]
    }
   ],
   "source": [
    "%%time\n",
    "\n",
    "num_labels = labels_1.shape[1]\n",
    "\n",
    "model = Sequential()\n",
    "\n",
    "model.add(Embedding(len(word_index)+1,\n",
    "                           EMBEDDING_DIM,\n",
    "                           weights=[embedding_matrix],\n",
    "                           trainable = True))\n",
    "\n",
    "model.add(GlobalAvgPool1D())\n",
    "\n",
    "model.add(Dense(64,activation='relu'))\n",
    "model.add(Dropout(0.5))\n",
    "model.add(Dense(64,activation='relu'))\n",
    "model.add(Dropout(0.5))\n",
    "\n",
    "model.add(Dense(num_labels))\n",
    "model.add(Activation('sigmoid'))\n",
    "\n",
    "model.compile(loss='binary_crossentropy',\n",
    "              optimizer='adam')\n",
    "\n",
    "# loss doesn't get better after 5 epochs\n",
    "model.fit(X_train, Y_train,\n",
    "                    batch_size=BATCH_SIZE,\n",
    "                    epochs=NUM_EPOCHS,\n",
    "                    verbose=1,\n",
    "                    validation_data=(X_val,Y_val))"
   ]
  },
  {
   "cell_type": "code",
   "execution_count": 47,
   "metadata": {
    "collapsed": true
   },
   "outputs": [],
   "source": [
    "Y_train_pred = []\n",
    "\n",
    "for x_train in X_train:\n",
    "    y_train_pred = model.predict(x_train.reshape(1,-1))\n",
    "    Y_train_pred.append(y_train_pred)\n",
    "\n",
    "Y_train_pred = np.vstack(Y_train_pred)"
   ]
  },
  {
   "cell_type": "code",
   "execution_count": 48,
   "metadata": {
    "collapsed": true
   },
   "outputs": [],
   "source": [
    "tag_probability_index = tags_helper.get_probability_index(Y_train_pred)"
   ]
  },
  {
   "cell_type": "code",
   "execution_count": 49,
   "metadata": {
    "collapsed": true
   },
   "outputs": [],
   "source": [
    "def get_scores(predicted_probabilities, predicted_indices,debug=False):\n",
    "    \"\"\"\n",
    "    predicted_probabilities (output of n sigmoid output units)\n",
    "    predicted_indices (according to some strategy, e.g. static threshold, etc)\n",
    "    \"\"\"\n",
    "    \n",
    "    # indices that are turned on (equal 1)\n",
    "    active_indices = predicted_indices.ravel().nonzero()[0]\n",
    "    \n",
    "    if debug:\n",
    "        print(\"active_indices: {0}\".format(active_indices))\n",
    "    \n",
    "    scores_for_active_indices = predicted_probabilities[active_indices]\n",
    "    \n",
    "    scores_for_active_indices_as_matrix = scores_for_active_indices.reshape(1,-1)\n",
    "    \n",
    "    return scores_for_active_indices_as_matrix\n",
    "    "
   ]
  },
  {
   "cell_type": "code",
   "execution_count": 50,
   "metadata": {},
   "outputs": [
    {
     "data": {
      "text/plain": [
       "array([142])"
      ]
     },
     "execution_count": 50,
     "metadata": {},
     "output_type": "execute_result"
    }
   ],
   "source": [
    "lb.transform([set(['c++'])]).ravel().nonzero()[0]"
   ]
  },
  {
   "cell_type": "code",
   "execution_count": 51,
   "metadata": {},
   "outputs": [
    {
     "data": {
      "text/plain": [
       "(0.00050000000000000001, 0.00022992265)"
      ]
     },
     "execution_count": 51,
     "metadata": {},
     "output_type": "execute_result"
    }
   ],
   "source": [
    "i=555\n",
    "\n",
    "tag_incidence_index[535] # java\n",
    "tag_incidence_index[1059] # twitter-bootstrap\n",
    "tag_incidence_index[692] # mysql\n",
    "tag_incidence_index[i],tag_probability_index[i] # c++"
   ]
  },
  {
   "cell_type": "code",
   "execution_count": 72,
   "metadata": {},
   "outputs": [
    {
     "name": "stdout",
     "output_type": "stream",
     "text": [
      "('algorithm', 'c')\n",
      "[('algorithm', 0.004225546), ('c', 0.017661804)]\n",
      "[('java', 0.12417604), ('c#', 0.11598413), ('android', 0.11426815), ('c++', 0.043450218), ('.net', 0.021286447)]\n",
      "\n",
      "\n",
      "('android',)\n",
      "[('android', 0.32248688)]\n",
      "[('android', 0.32248688), ('java', 0.30222484), ('c#', 0.19752023), ('hibernate', 0.0265132), ('listview', 0.022677874)]\n",
      "\n",
      "\n",
      "('curl', 'ios', 'swift')\n",
      "[('curl', 0.0028719448), ('ios', 0.033229381), ('swift', 0.0085833101)]\n",
      "[('javascript', 0.08305303), ('python', 0.060669299), ('php', 0.060174718), ('html', 0.038927305), ('css', 0.030812638)]\n",
      "\n",
      "\n",
      "('google-chrome', 'windows')\n",
      "[('google-chrome', 0.0040159943), ('windows', 0.0091166813)]\n",
      "[('c#', 0.10156003), ('c++', 0.041578036), ('ios', 0.035148226), ('objective-c', 0.023078233), ('.net', 0.022047898)]\n",
      "\n",
      "\n",
      "('pdf',)\n",
      "[('pdf', 0.0015182955)]\n",
      "[('javascript', 0.081311353), ('python', 0.05678989), ('html', 0.036641974), ('sql', 0.029634891), ('css', 0.028391367)]\n",
      "\n",
      "\n",
      "('angularjs', 'mysql', 'php')\n",
      "[('angularjs', 0.032556839), ('mysql', 0.11018036), ('php', 0.32954124)]\n",
      "[('php', 0.32954124), ('jquery', 0.26998425), ('javascript', 0.25258327), ('mysql', 0.11018036), ('html', 0.094059795)]\n",
      "\n",
      "\n",
      "('django', 'django-rest-framework')\n",
      "[('django', 0.01025118), ('django-rest-framework', 0.00044756813)]\n",
      "[('c++', 0.038461), ('ios', 0.029840318), ('.net', 0.019140564), ('c', 0.017101165), ('xml', 0.011639218)]\n",
      "\n",
      "\n",
      "('python', 'shell')\n",
      "[('python', 0.054021705), ('shell', 0.002651697)]\n",
      "[('python', 0.054021705), ('sql', 0.028322684), ('ruby-on-rails', 0.013311587), ('ruby', 0.011310303), ('linux', 0.0091718975)]\n",
      "\n",
      "\n",
      "('jasper-reports',)\n",
      "[('jasper-reports', 4.5968904e-06)]\n",
      "[('php', 0.39990771), ('jquery', 0.30284655), ('javascript', 0.27212113), ('mysql', 0.1110874), ('html', 0.081525236)]\n",
      "\n",
      "\n",
      "('date', 'datetime', 'python', 'time')\n",
      "[('date', 0.0025895897), ('datetime', 0.0015769891), ('python', 0.049410615), ('time', 0.00093700824)]\n",
      "[('logstash', 9.1502108e-05), ('transparency', 8.501135e-05), ('arguments', 8.0623169e-05), ('admin', 7.98826e-05), ('kivy', 6.6269e-05)]\n",
      "\n",
      "\n"
     ]
    }
   ],
   "source": [
    "# sample result for a couple of test cases\n",
    "num_test_cases = 10\n",
    "STRATEGY= 'absolute_difference_wrt_estimated_tag_probability'\n",
    "THRESHOLD=0.0\n",
    "PROB_INDEX = tag_probability_index\n",
    "INCIDENCE_INDEX = tag_incidence_index\n",
    "LIMIT=5\n",
    "\n",
    "for i in np.random.randint(low=0, high=len(Y_val), size=num_test_cases):\n",
    "\n",
    "    actual_label_indices = Y_val[i].reshape(1,-1)\n",
    "    \n",
    "#     print(actual_label_indices.ravel().nonzero()[0])\n",
    "    \n",
    "    actual_labels = lb.inverse_transform(actual_label_indices)\n",
    "    actual_labels_tpl = actual_labels[0]\n",
    "    \n",
    "    predicted_tag_probabilities = model.predict(X_val[i].reshape(1,-1)).ravel()\n",
    "              \n",
    "    predicted_label_indices = tags_helper.get_tag_assignment(\n",
    "        STRATEGY,\n",
    "        predicted_tag_probabilities,\n",
    "        probability_threshold=THRESHOLD,\n",
    "        tag_probability_index=PROB_INDEX,\n",
    "        tag_incidence_index=INCIDENCE_INDEX,\n",
    "        limit=LIMIT)\n",
    "         \n",
    "    predicted_label_scores_mat = get_scores(\n",
    "        predicted_tag_probabilities,\n",
    "        predicted_label_indices)\n",
    "    \n",
    "    actual_label_scores_mat = get_scores(\n",
    "        predicted_tag_probabilities,\n",
    "        actual_label_indices)\n",
    "    \n",
    "    predicted_label_scores_arr = predicted_label_scores_mat.ravel()\n",
    "    predicted_labels = lb.inverse_transform(predicted_label_indices)\n",
    "    predicted_labels_tpl = predicted_labels[0]\n",
    "      \n",
    "    predicted_tags_and_scores = sorted(list(zip(predicted_labels_tpl,predicted_label_scores_arr)), key=lambda tpl: tpl[1], reverse=True)\n",
    "    \n",
    "    actual_label_scores_arr = actual_label_scores_mat.ravel()\n",
    "    actual_tags_and_scores = list(zip(actual_labels_tpl,actual_label_scores_arr))\n",
    "\n",
    "#     print(actual_labels)    \n",
    "    print(actual_labels_tpl)\n",
    "    print(actual_tags_and_scores)\n",
    "    print(predicted_tags_and_scores)\n",
    "    print('\\n')\n"
   ]
  },
  {
   "cell_type": "code",
   "execution_count": 73,
   "metadata": {
    "collapsed": true
   },
   "outputs": [],
   "source": [
    "X_test_list = []\n",
    "\n",
    "for validation_features in X_val:\n",
    "    X_test_list.append(validation_features.reshape(1,-1))\n",
    "\n",
    "X_test = np.vstack(X_test_list)"
   ]
  },
  {
   "cell_type": "code",
   "execution_count": 74,
   "metadata": {
    "collapsed": true
   },
   "outputs": [],
   "source": [
    "Y_pred_lst = [model.predict(x_test.reshape(1,-1)) for x_test in X_test]"
   ]
  },
  {
   "cell_type": "code",
   "execution_count": 75,
   "metadata": {},
   "outputs": [
    {
     "data": {
      "text/plain": [
       "((6400, 1209), (6400, 1209))"
      ]
     },
     "execution_count": 75,
     "metadata": {},
     "output_type": "execute_result"
    }
   ],
   "source": [
    "Y_pred_calculated_lst = [tags_helper.get_tag_assignment(\n",
    "    STRATEGY,\n",
    "    y_pred,\n",
    "    probability_threshold=THRESHOLD,\n",
    "    tag_probability_index=PROB_INDEX,\n",
    "    tag_incidence_index=INCIDENCE_INDEX,\n",
    "    limit=LIMIT) for y_pred in np.vstack(Y_pred_lst)]\n",
    "\n",
    "Y_pred = np.vstack(Y_pred_calculated_lst)\n",
    "\n",
    "Y_val.shape,Y_pred.shape"
   ]
  },
  {
   "cell_type": "code",
   "execution_count": 76,
   "metadata": {},
   "outputs": [
    {
     "name": "stdout",
     "output_type": "stream",
     "text": [
      "micro-averaged F1 score (validation set) is 0.14337669005647785\n",
      "micro-averaged precision score (validation set) is 0.10471875\n",
      "micro-averaged recall score (validation set) is 0.22727889310906133\n"
     ]
    }
   ],
   "source": [
    "micro_f1 = metrics_helper.calculate_multilabel_metrics(Y_val,Y_pred)\n",
    "print('micro-averaged F1 score (validation set) is {0}'.format(micro_f1))\n",
    "\n",
    "micro_prec = metrics_helper.calculate_multilabel_metrics(Y_val, Y_pred, metric='precision')\n",
    "print('micro-averaged precision score (validation set) is {0}'.format(micro_prec))\n",
    "\n",
    "micro_rec = metrics_helper.calculate_multilabel_metrics(Y_val, Y_pred, metric='recall')\n",
    "print('micro-averaged recall score (validation set) is {0}'.format(micro_rec))"
   ]
  },
  {
   "cell_type": "code",
   "execution_count": null,
   "metadata": {
    "collapsed": true
   },
   "outputs": [],
   "source": []
  },
  {
   "cell_type": "code",
   "execution_count": null,
   "metadata": {
    "collapsed": true
   },
   "outputs": [],
   "source": []
  }
 ],
 "metadata": {
  "kernelspec": {
   "display_name": "Global TF Kernel (Python 3)",
   "language": "python",
   "name": "global-tf-python-3"
  },
  "language_info": {
   "codemirror_mode": {
    "name": "ipython",
    "version": 3
   },
   "file_extension": ".py",
   "mimetype": "text/x-python",
   "name": "python",
   "nbconvert_exporter": "python",
   "pygments_lexer": "ipython3",
   "version": "3.5.2"
  }
 },
 "nbformat": 4,
 "nbformat_minor": 2
}
