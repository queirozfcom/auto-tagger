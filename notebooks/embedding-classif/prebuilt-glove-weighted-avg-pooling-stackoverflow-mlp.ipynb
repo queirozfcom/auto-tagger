{
 "cells": [
  {
   "cell_type": "markdown",
   "metadata": {},
   "source": [
    "### classify stackoverflow posts by considering each document a weighted mean of its individual word embeddings, then using individual tag probabilities to assign tags to samples"
   ]
  },
  {
   "cell_type": "code",
   "execution_count": 1,
   "metadata": {},
   "outputs": [
    {
     "name": "stderr",
     "output_type": "stream",
     "text": [
      "Using TensorFlow backend.\n"
     ]
    }
   ],
   "source": [
    "import csv\n",
    "import os\n",
    "import re\n",
    "import sys\n",
    "import numpy as np\n",
    "\n",
    "from keras.preprocessing.text import Tokenizer\n",
    "from keras.preprocessing.sequence import pad_sequences\n",
    "from keras.utils import to_categorical\n",
    "from keras.layers import Dense, Dropout, Input, Flatten, Activation\n",
    "from keras.layers import Conv1D, MaxPooling1D, Embedding, GlobalAvgPool1D\n",
    "from keras.models import Model, Sequential\n",
    "\n",
    "from sklearn import preprocessing\n",
    "from sklearn.feature_extraction.text import CountVectorizer, TfidfVectorizer\n",
    "\n",
    "# my stuff in the helpers/ directory\n",
    "from helpers import (\n",
    "    embeddings_helper,\n",
    "    files_helper,\n",
    "    metrics_helper,\n",
    "    tags_helper,\n",
    "    texts_helper)    "
   ]
  },
  {
   "cell_type": "code",
   "execution_count": 2,
   "metadata": {},
   "outputs": [
    {
     "data": {
      "text/plain": [
       "89"
      ]
     },
     "execution_count": 2,
     "metadata": {},
     "output_type": "execute_result"
    }
   ],
   "source": [
    "SEED=np.random.randint(1,1000)\n",
    "SEED"
   ]
  },
  {
   "cell_type": "code",
   "execution_count": 3,
   "metadata": {
    "collapsed": true
   },
   "outputs": [],
   "source": [
    "np.random.seed(SEED)"
   ]
  },
  {
   "cell_type": "code",
   "execution_count": 4,
   "metadata": {
    "collapsed": true
   },
   "outputs": [],
   "source": [
    "texts, labels = files_helper.read_stackoverflow_sample_small()"
   ]
  },
  {
   "cell_type": "code",
   "execution_count": 5,
   "metadata": {
    "collapsed": true
   },
   "outputs": [],
   "source": [
    "MAX_NB_WORDS = 20000\n",
    "MAX_SEQUENCE_LENGTH = 1000\n",
    "VALIDATION_SPLIT = 0.2\n",
    "EMBEDDING_DIM=100\n",
    "LABELS_MIN_DOC_COUNT = int(10)\n",
    "BATCH_SIZE=32\n",
    "NUM_EPOCHS=10\n",
    "TOKENIZER_FILTERS='!\"#$%&()*+,-./:;<=>?@[\\\\]^_`{|}~\\t\\n' # default keras filters"
   ]
  },
  {
   "cell_type": "code",
   "execution_count": 6,
   "metadata": {},
   "outputs": [],
   "source": [
    "tokenizer = Tokenizer(num_words=MAX_NB_WORDS,\n",
    "                     filters=TOKENIZER_FILTERS)\n",
    "tokenizer.fit_on_texts(texts)\n",
    "sequences = tokenizer.texts_to_sequences(texts)\n",
    "word_index = tokenizer.word_index\n",
    "inverse_word_index = texts_helper.build_inverse_word_index(word_index)"
   ]
  },
  {
   "cell_type": "code",
   "execution_count": 7,
   "metadata": {
    "collapsed": true,
    "scrolled": true
   },
   "outputs": [],
   "source": [
    "# [inverse_word_index[idx] for idx in sequences[0]]"
   ]
  },
  {
   "cell_type": "code",
   "execution_count": 8,
   "metadata": {
    "collapsed": true
   },
   "outputs": [],
   "source": [
    "# make each document (sequence of word indices) be truncated to \n",
    "# MAX_SEQUENCE_LENGTH\n",
    "tokenized_texts = []\n",
    "\n",
    "for seq in sequences:\n",
    "    truncated_seq = seq[:MAX_SEQUENCE_LENGTH]\n",
    "    tokenized_txt = \" \".join([inverse_word_index[idx] for idx in truncated_seq])\n",
    "    tokenized_texts.append(tokenized_txt)"
   ]
  },
  {
   "cell_type": "code",
   "execution_count": 9,
   "metadata": {
    "collapsed": true
   },
   "outputs": [],
   "source": [
    "truncated_labels = tags_helper.truncate_labels(labels,LABELS_MIN_DOC_COUNT)"
   ]
  },
  {
   "cell_type": "code",
   "execution_count": 10,
   "metadata": {
    "collapsed": true
   },
   "outputs": [],
   "source": [
    "lb = preprocessing.MultiLabelBinarizer()\n",
    "binary_labels = lb.fit_transform(truncated_labels)"
   ]
  },
  {
   "cell_type": "code",
   "execution_count": 11,
   "metadata": {
    "collapsed": true
   },
   "outputs": [],
   "source": [
    "# tag position => fraction of docs having that tag\n",
    "# snooping\n",
    "tag_incidence_index = tags_helper.get_incidence_index(binary_labels)"
   ]
  },
  {
   "cell_type": "code",
   "execution_count": 12,
   "metadata": {},
   "outputs": [
    {
     "name": "stdout",
     "output_type": "stream",
     "text": [
      "overall, 10787 out of 18699 embeddings were weighted. Total available embeddings: 400000\n"
     ]
    }
   ],
   "source": [
    "# extracting IDF weights to weight the embeddings\n",
    "\n",
    "# snooping\n",
    "vect = TfidfVectorizer(max_features=MAX_NB_WORDS).fit(tokenized_texts)\n",
    "\n",
    "feature_names = vect.get_feature_names()\n",
    "idf = vect.idf_\n",
    "idf_index = dict(zip(vect.get_feature_names(), idf))\n",
    "\n",
    "embeddings_index = files_helper.read_glove_weighted(\n",
    "    d=EMBEDDING_DIM,\n",
    "    weight_index=idf_index)"
   ]
  },
  {
   "cell_type": "code",
   "execution_count": 13,
   "metadata": {},
   "outputs": [],
   "source": [
    "embedding_matrix = embeddings_helper.build_embedding_matrix(\n",
    "    word_index, \n",
    "    embeddings_index, \n",
    "    MAX_NB_WORDS, \n",
    "    EMBEDDING_DIM)"
   ]
  },
  {
   "cell_type": "code",
   "execution_count": 14,
   "metadata": {},
   "outputs": [
    {
     "data": {
      "text/plain": [
       "(194869, 100)"
      ]
     },
     "execution_count": 14,
     "metadata": {},
     "output_type": "execute_result"
    }
   ],
   "source": [
    "embedding_matrix.shape"
   ]
  },
  {
   "cell_type": "code",
   "execution_count": 15,
   "metadata": {},
   "outputs": [
    {
     "data": {
      "text/plain": [
       "((32000, 1000), (32000, 1209))"
      ]
     },
     "execution_count": 15,
     "metadata": {},
     "output_type": "execute_result"
    }
   ],
   "source": [
    "data = pad_sequences(sequences,maxlen=MAX_SEQUENCE_LENGTH)\n",
    "\n",
    "indices = np.arange(data.shape[0])\n",
    "np.random.shuffle(indices)\n",
    "\n",
    "data = data[indices]\n",
    "labels_1 = binary_labels[indices]\n",
    "num_validation_samples = int(VALIDATION_SPLIT * data.shape[0])\n",
    "\n",
    "X_train = data[:-num_validation_samples]\n",
    "Y_train = labels_1[:-num_validation_samples]\n",
    "X_val = data[-num_validation_samples:]\n",
    "Y_val = labels_1[-num_validation_samples:]\n",
    "\n",
    "data.shape,labels_1.shape"
   ]
  },
  {
   "cell_type": "code",
   "execution_count": 16,
   "metadata": {},
   "outputs": [
    {
     "name": "stdout",
     "output_type": "stream",
     "text": [
      "Train on 25600 samples, validate on 6400 samples\n",
      "Epoch 1/10\n",
      "25600/25600 [==============================] - 3s - loss: 0.0470 - val_loss: 0.0123\n",
      "Epoch 2/10\n",
      "25600/25600 [==============================] - 3s - loss: 0.0131 - val_loss: 0.0119\n",
      "Epoch 3/10\n",
      "25600/25600 [==============================] - 3s - loss: 0.0127 - val_loss: 0.0115\n",
      "Epoch 4/10\n",
      "25600/25600 [==============================] - 3s - loss: 0.0124 - val_loss: 0.0115\n",
      "Epoch 5/10\n",
      "25600/25600 [==============================] - 3s - loss: 0.0123 - val_loss: 0.0114\n",
      "Epoch 6/10\n",
      "25600/25600 [==============================] - 3s - loss: 0.0121 - val_loss: 0.0115\n",
      "Epoch 7/10\n",
      "25600/25600 [==============================] - 3s - loss: 0.0121 - val_loss: 0.0114\n",
      "Epoch 8/10\n",
      "25600/25600 [==============================] - 3s - loss: 0.0119 - val_loss: 0.0113\n",
      "Epoch 9/10\n",
      "25600/25600 [==============================] - 3s - loss: 0.0118 - val_loss: 0.0113\n",
      "Epoch 10/10\n",
      "25600/25600 [==============================] - 3s - loss: 0.0118 - val_loss: 0.0112\n",
      "CPU times: user 47.6 s, sys: 3.95 s, total: 51.6 s\n",
      "Wall time: 34.3 s\n"
     ]
    }
   ],
   "source": [
    "%%time\n",
    "\n",
    "num_labels = labels_1.shape[1]\n",
    "\n",
    "model = Sequential()\n",
    "\n",
    "model.add(Embedding(len(word_index)+1,\n",
    "                           EMBEDDING_DIM,\n",
    "                           weights=[embedding_matrix],\n",
    "                           trainable = False))\n",
    "\n",
    "model.add(GlobalAvgPool1D())\n",
    "\n",
    "model.add(Dense(64,activation='relu'))\n",
    "model.add(Dropout(0.5))\n",
    "model.add(Dense(64,activation='relu'))\n",
    "model.add(Dropout(0.5))\n",
    "\n",
    "model.add(Dense(num_labels))\n",
    "model.add(Activation('sigmoid'))\n",
    "\n",
    "model.compile(loss='binary_crossentropy',\n",
    "              optimizer='adam')\n",
    "\n",
    "# loss doesn't get better after 5 epochs\n",
    "model.fit(X_train, Y_train,\n",
    "                    batch_size=BATCH_SIZE,\n",
    "                    epochs=NUM_EPOCHS,\n",
    "                    verbose=1,\n",
    "                    validation_data=(X_val,Y_val))"
   ]
  },
  {
   "cell_type": "code",
   "execution_count": 17,
   "metadata": {
    "collapsed": true
   },
   "outputs": [],
   "source": [
    "Y_train_pred = []\n",
    "\n",
    "for x_train in X_train:\n",
    "    y_train_pred = model.predict(x_train.reshape(1,-1))\n",
    "    Y_train_pred.append(y_train_pred)\n",
    "\n",
    "Y_train_pred = np.vstack(Y_train_pred)"
   ]
  },
  {
   "cell_type": "code",
   "execution_count": 18,
   "metadata": {
    "collapsed": true
   },
   "outputs": [],
   "source": [
    "tag_probability_index = tags_helper.get_probability_index(Y_train_pred)"
   ]
  },
  {
   "cell_type": "code",
   "execution_count": 19,
   "metadata": {
    "collapsed": true
   },
   "outputs": [],
   "source": [
    "def get_scores(predicted_probabilities, predicted_indices,debug=False):\n",
    "    \"\"\"\n",
    "    predicted_probabilities (output of n sigmoid output units)\n",
    "    predicted_indices (according to some strategy, e.g. static threshold, etc)\n",
    "    \"\"\"\n",
    "    \n",
    "    # indices that are turned on (equal 1)\n",
    "    active_indices = predicted_indices.ravel().nonzero()[0]\n",
    "    \n",
    "    if debug:\n",
    "        print(\"active_indices: {0}\".format(active_indices))\n",
    "    \n",
    "    scores_for_active_indices = predicted_probabilities[active_indices]\n",
    "    \n",
    "    scores_for_active_indices_as_matrix = scores_for_active_indices.reshape(1,-1)\n",
    "    \n",
    "    return scores_for_active_indices_as_matrix\n",
    "    "
   ]
  },
  {
   "cell_type": "code",
   "execution_count": 40,
   "metadata": {},
   "outputs": [
    {
     "name": "stdout",
     "output_type": "stream",
     "text": [
      "('database', 'sqlite', 'sqlite3')\n",
      "[('database', 0.0093550459), ('sqlite', 0.0040667453), ('sqlite3', 0.00044535275)]\n",
      "[('decimal', 0.00055970135), ('statistics', 0.00030605335), ('linq-to-entities', 0.00029505332), ('case', 0.00020693819), ('protocols', 0.00019685121)]\n",
      "\n",
      "\n",
      "('android', 'client-server', 'server', 'synchronization')\n",
      "[('android', 0.085020743), ('client-server', 0.00031716994), ('server', 0.00098405813), ('synchronization', 0.00020135252)]\n",
      "[('gradle', 0.0016105613), ('jenkins', 0.0013448956), ('phonegap-plugins', 0.00054052169), ('vmware', 0.0004133372), ('cocoapods', 0.00027361105)]\n",
      "\n",
      "\n",
      "('cocoa', 'osx', 'swift')\n",
      "[('cocoa', 0.0008243788), ('osx', 0.0025663357), ('swift', 0.0044037555)]\n",
      "[('java', 0.11521658), ('python', 0.063943155), ('sql', 0.025384475), ('sql-server', 0.013555542), ('algorithm', 0.0084099676)]\n",
      "\n",
      "\n",
      "('python', 'twitter')\n",
      "[('python', 0.055704534), ('twitter', 0.00079012767)]\n",
      "[('iphone', 0.013477795), ('cordova', 0.0042445827), ('video', 0.0010379954), ('powershell-v2.0', 0.00027759763), ('android-gradle', 0.00026035667)]\n",
      "\n",
      "\n",
      "('html5', 'javascript', 'jquery', 'website')\n",
      "[('html5', 0.012759565), ('javascript', 0.15763938), ('jquery', 0.11485806), ('website', 0.00070867821)]\n",
      "[('css', 0.075164333), ('twitter-bootstrap', 0.013713507), ('xslt', 0.0066131563), ('twitter-bootstrap-3', 0.0023066183), ('html-table', 0.0013537715)]\n",
      "\n",
      "\n",
      "('java', 'multithreading', 'string', 'synchronization')\n",
      "[('java', 0.1119353), ('multithreading', 0.0045442907), ('string', 0.0075762193), ('synchronization', 0.00015729296)]\n",
      "[('git', 0.0059735933), ('sed', 0.0015020246), ('symfony1', 0.0002721349), ('statistics', 0.00025901943), ('ios9', 0.00018629291)]\n",
      "\n",
      "\n",
      "('.net', 'image-processing')\n",
      "[('.net', 0.021156067), ('image-processing', 0.0017174492)]\n",
      "[('ssl', 0.0027930522), ('gradle', 0.0016276496), ('jenkins', 0.0013597237), ('centos', 0.0007305441), ('android-service', 0.00053450104)]\n",
      "\n",
      "\n",
      "('.net', 'sql-server')\n",
      "[('.net', 0.023519024), ('sql-server', 0.015989216)]\n",
      "[('ssl', 0.0043485607), ('locking', 0.00086828077), ('android-service', 0.00081385509), ('android-arrayadapter', 0.00067996205), ('client-server', 0.0005402742)]\n",
      "\n",
      "\n",
      "('sql', 'tsql')\n",
      "[('sql', 0.026515404), ('tsql', 0.0022518504)]\n",
      "[('c++', 0.045506388), ('r', 0.015575355), ('matrix', 0.0027002308), ('datetime', 0.0026557443), ('assembly', 0.0013758254)]\n",
      "\n",
      "\n",
      "('android', 'resize', 'textview')\n",
      "[('android', 0.047576621), ('resize', 0.00014803074), ('textview', 0.00056744012)]\n",
      "[('jquery', 0.069935821), ('html', 0.049483046), ('css', 0.035298049), ('twitter-bootstrap', 0.0056497445), ('twitter-bootstrap-3', 0.0010011357)]\n",
      "\n",
      "\n"
     ]
    }
   ],
   "source": [
    "# sample result for a couple of test cases\n",
    "num_test_cases = 10\n",
    "STRATEGY= 'relative_difference_wrt_estimated_tag_probability'\n",
    "THRESHOLD=0.0\n",
    "PROB_INDEX = tag_probability_index\n",
    "INCIDENCE_INDEX = tag_incidence_index\n",
    "LIMIT=5\n",
    "\n",
    "for i in np.random.randint(low=0, high=len(Y_val), size=num_test_cases):\n",
    "\n",
    "    actual_label_indices = Y_val[i].reshape(1,-1)\n",
    "    \n",
    "#     print(actual_label_indices.ravel().nonzero()[0])\n",
    "    \n",
    "    actual_labels = lb.inverse_transform(actual_label_indices)\n",
    "    actual_labels_tpl = actual_labels[0]\n",
    "    \n",
    "    predicted_tag_probabilities = model.predict(X_val[i].reshape(1,-1)).ravel()\n",
    "              \n",
    "    predicted_label_indices = tags_helper.get_tag_assignment(\n",
    "        STRATEGY,\n",
    "        predicted_tag_probabilities,\n",
    "        probability_threshold=THRESHOLD,\n",
    "        tag_probability_index=PROB_INDEX,\n",
    "        tag_incidence_index=INCIDENCE_INDEX,\n",
    "        limit=LIMIT)\n",
    "         \n",
    "    predicted_label_scores_mat = get_scores(\n",
    "        predicted_tag_probabilities,\n",
    "        predicted_label_indices)\n",
    "    \n",
    "    actual_label_scores_mat = get_scores(\n",
    "        predicted_tag_probabilities,\n",
    "        actual_label_indices)\n",
    "    \n",
    "    predicted_label_scores_arr = predicted_label_scores_mat.ravel()\n",
    "    predicted_labels = lb.inverse_transform(predicted_label_indices)\n",
    "    predicted_labels_tpl = predicted_labels[0]\n",
    "      \n",
    "    predicted_tags_and_scores = sorted(list(zip(predicted_labels_tpl,predicted_label_scores_arr)), key=lambda tpl: tpl[1], reverse=True)\n",
    "    \n",
    "    actual_label_scores_arr = actual_label_scores_mat.ravel()\n",
    "    actual_tags_and_scores = list(zip(actual_labels_tpl,actual_label_scores_arr))\n",
    "\n",
    "#     print(actual_labels)    \n",
    "    print(actual_labels_tpl)\n",
    "    print(actual_tags_and_scores)\n",
    "    print(predicted_tags_and_scores)\n",
    "    print('\\n')\n"
   ]
  },
  {
   "cell_type": "code",
   "execution_count": 41,
   "metadata": {
    "collapsed": true
   },
   "outputs": [],
   "source": [
    "X_test_list = []\n",
    "\n",
    "for validation_features in X_val:\n",
    "    X_test_list.append(validation_features.reshape(1,-1))\n",
    "\n",
    "X_test = np.vstack(X_test_list)    "
   ]
  },
  {
   "cell_type": "code",
   "execution_count": 42,
   "metadata": {
    "collapsed": true
   },
   "outputs": [],
   "source": [
    "Y_pred_lst = [model.predict(x_test.reshape(1,-1)) for x_test in X_test]"
   ]
  },
  {
   "cell_type": "code",
   "execution_count": 43,
   "metadata": {},
   "outputs": [
    {
     "data": {
      "text/plain": [
       "((6400, 1209), (6400, 1209))"
      ]
     },
     "execution_count": 43,
     "metadata": {},
     "output_type": "execute_result"
    }
   ],
   "source": [
    "Y_pred_calculated_lst = [tags_helper.get_tag_assignment(\n",
    "    STRATEGY,\n",
    "    y_pred,\n",
    "    probability_threshold=THRESHOLD,\n",
    "    tag_probability_index=PROB_INDEX,\n",
    "    tag_incidence_index=INCIDENCE_INDEX,\n",
    "    limit=LIMIT) for y_pred in np.vstack(Y_pred_lst)]\n",
    "\n",
    "Y_pred = np.vstack(Y_pred_calculated_lst)\n",
    "\n",
    "Y_val.shape,Y_pred.shape"
   ]
  },
  {
   "cell_type": "code",
   "execution_count": 44,
   "metadata": {},
   "outputs": [
    {
     "name": "stdout",
     "output_type": "stream",
     "text": [
      "micro-averaged F1 score (validation set) is 0.03403197462603403\n",
      "micro-averaged precision score (validation set) is 0.0248125\n",
      "micro-averaged recall score (validation set) is 0.054153594325467194\n"
     ]
    }
   ],
   "source": [
    "micro_f1 = metrics_helper.calculate_multilabel_metrics(Y_val,Y_pred)\n",
    "print('micro-averaged F1 score (validation set) is {0}'.format(micro_f1))\n",
    "\n",
    "micro_prec = metrics_helper.calculate_multilabel_metrics(Y_val, Y_pred, metric='precision')\n",
    "print('micro-averaged precision score (validation set) is {0}'.format(micro_prec))\n",
    "\n",
    "micro_rec = metrics_helper.calculate_multilabel_metrics(Y_val, Y_pred, metric='recall')\n",
    "print('micro-averaged recall score (validation set) is {0}'.format(micro_rec))"
   ]
  },
  {
   "cell_type": "code",
   "execution_count": null,
   "metadata": {
    "collapsed": true
   },
   "outputs": [],
   "source": []
  },
  {
   "cell_type": "code",
   "execution_count": null,
   "metadata": {
    "collapsed": true
   },
   "outputs": [],
   "source": []
  }
 ],
 "metadata": {
  "kernelspec": {
   "display_name": "Global TF Kernel (Python 3)",
   "language": "python",
   "name": "global-tf-python-3"
  },
  "language_info": {
   "codemirror_mode": {
    "name": "ipython",
    "version": 3
   },
   "file_extension": ".py",
   "mimetype": "text/x-python",
   "name": "python",
   "nbconvert_exporter": "python",
   "pygments_lexer": "ipython3",
   "version": "3.5.2"
  }
 },
 "nbformat": 4,
 "nbformat_minor": 2
}
