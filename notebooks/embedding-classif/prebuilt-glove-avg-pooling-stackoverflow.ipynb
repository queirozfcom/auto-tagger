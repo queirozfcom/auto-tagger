{
 "cells": [
  {
   "cell_type": "markdown",
   "metadata": {},
   "source": [
    "### classify stackoverflow posts by considering each document a simple mean of its individual word embeddings, then using individual tag probabilities to assign tags to samples"
   ]
  },
  {
   "cell_type": "code",
   "execution_count": 1,
   "metadata": {},
   "outputs": [
    {
     "name": "stderr",
     "output_type": "stream",
     "text": [
      "Using TensorFlow backend.\n"
     ]
    }
   ],
   "source": [
    "import csv\n",
    "import os\n",
    "import re\n",
    "import sys\n",
    "import numpy as np\n",
    "\n",
    "from keras.preprocessing.text import Tokenizer\n",
    "from keras.preprocessing.sequence import pad_sequences\n",
    "from keras.utils import to_categorical\n",
    "from keras.layers import Dense, Dropout, Input, Flatten, Activation\n",
    "from keras.layers import Conv1D, MaxPooling1D, Embedding, GlobalAvgPool1D\n",
    "from keras.models import Model, Sequential\n",
    "\n",
    "from sklearn import preprocessing\n",
    "from sklearn.feature_extraction.text import CountVectorizer\n",
    "\n",
    "# my stuff in the helpers/ directory\n",
    "from helpers import files_helper, texts_helper, metrics_helper, tags_helper"
   ]
  },
  {
   "cell_type": "code",
   "execution_count": 2,
   "metadata": {
    "collapsed": true
   },
   "outputs": [],
   "source": [
    "np.random.seed(seed=42)"
   ]
  },
  {
   "cell_type": "code",
   "execution_count": 3,
   "metadata": {
    "collapsed": true
   },
   "outputs": [],
   "source": [
    "texts, labels = files_helper.read_stackoverflow_sample_small()"
   ]
  },
  {
   "cell_type": "code",
   "execution_count": 4,
   "metadata": {
    "collapsed": true
   },
   "outputs": [],
   "source": [
    "preprocessed_texts = texts"
   ]
  },
  {
   "cell_type": "code",
   "execution_count": 5,
   "metadata": {
    "collapsed": true
   },
   "outputs": [],
   "source": [
    "MAX_NB_WORDS = 20000\n",
    "MAX_SEQUENCE_LENGTH = 1000\n",
    "VALIDATION_SPLIT = 0.2\n",
    "EMBEDDING_DIM=100\n",
    "LABELS_MIN_DOC_COUNT = int(10)"
   ]
  },
  {
   "cell_type": "code",
   "execution_count": 6,
   "metadata": {
    "collapsed": true
   },
   "outputs": [],
   "source": [
    "tokenizer = Tokenizer(num_words=MAX_NB_WORDS,\n",
    "                     filters='\\'!\"#$%&()*+,-./:;<=>?@[\\\\]^_`{|}~\\t\\n')\n",
    "tokenizer.fit_on_texts(preprocessed_texts)\n",
    "sequences = tokenizer.texts_to_sequences(preprocessed_texts)\n",
    "word_index = tokenizer.word_index\n",
    "inverse_word_index = texts_helper.build_inverse_word_index(word_index)"
   ]
  },
  {
   "cell_type": "code",
   "execution_count": 7,
   "metadata": {
    "scrolled": true
   },
   "outputs": [
    {
     "data": {
      "text/plain": [
       "['apply',\n",
       " 'onclick',\n",
       " 'event',\n",
       " 'to',\n",
       " 'an',\n",
       " 'option',\n",
       " 'i',\n",
       " 'am',\n",
       " 'using',\n",
       " 'zend',\n",
       " 'form',\n",
       " 'to',\n",
       " 'create',\n",
       " 'a',\n",
       " 'form',\n",
       " 'i',\n",
       " 'am',\n",
       " 'also',\n",
       " 'using',\n",
       " 'for',\n",
       " 'javascript',\n",
       " 'this',\n",
       " 'gt',\n",
       " 'radio',\n",
       " 'alone',\n",
       " 'array',\n",
       " 'label',\n",
       " 'gt',\n",
       " 'are',\n",
       " 'you',\n",
       " 'going',\n",
       " 'to',\n",
       " 'be',\n",
       " 'taking',\n",
       " 'part',\n",
       " 'with',\n",
       " 'anyone',\n",
       " 'else',\n",
       " 'required',\n",
       " 'gt',\n",
       " 'true',\n",
       " 'onclick',\n",
       " 'gt',\n",
       " 'gt',\n",
       " 'array',\n",
       " 'yes',\n",
       " 'gt',\n",
       " 'yes',\n",
       " 'no',\n",
       " 'gt',\n",
       " 'no',\n",
       " 'at',\n",
       " 'the',\n",
       " 'moment',\n",
       " 'the',\n",
       " 'onclick',\n",
       " 'event',\n",
       " 'works',\n",
       " 'if',\n",
       " 'any',\n",
       " 'option',\n",
       " 'is',\n",
       " 'selected',\n",
       " 'how',\n",
       " 'do',\n",
       " 'i',\n",
       " 'get',\n",
       " 'it',\n",
       " 'to',\n",
       " 'work',\n",
       " 'for',\n",
       " 'just',\n",
       " 'yes',\n",
       " 'being',\n",
       " 'selected']"
      ]
     },
     "execution_count": 7,
     "metadata": {},
     "output_type": "execute_result"
    }
   ],
   "source": [
    "[inverse_word_index[idx] for idx in sequences[0]]"
   ]
  },
  {
   "cell_type": "code",
   "execution_count": 8,
   "metadata": {
    "collapsed": true
   },
   "outputs": [],
   "source": [
    "truncated_labels = tags_helper.truncate_labels(labels,LABELS_MIN_DOC_COUNT)"
   ]
  },
  {
   "cell_type": "code",
   "execution_count": 9,
   "metadata": {
    "collapsed": true
   },
   "outputs": [],
   "source": [
    "lb = preprocessing.MultiLabelBinarizer()\n",
    "binary_labels = lb.fit_transform(truncated_labels)"
   ]
  },
  {
   "cell_type": "code",
   "execution_count": 10,
   "metadata": {
    "collapsed": true
   },
   "outputs": [],
   "source": [
    "# tag position => fraction of docs having that tag\n",
    "tag_probabilities_index = tags_helper.get_probabilities_index(binary_labels)"
   ]
  },
  {
   "cell_type": "code",
   "execution_count": 11,
   "metadata": {
    "collapsed": true
   },
   "outputs": [],
   "source": [
    "# word => embedding\n",
    "embeddings_index = files_helper.read_glove(d=EMBEDDING_DIM)"
   ]
  },
  {
   "cell_type": "code",
   "execution_count": 12,
   "metadata": {},
   "outputs": [
    {
     "data": {
      "text/plain": [
       "((40000, 1000), (40000, 1469))"
      ]
     },
     "execution_count": 12,
     "metadata": {},
     "output_type": "execute_result"
    }
   ],
   "source": [
    "data = pad_sequences(sequences,maxlen=MAX_SEQUENCE_LENGTH)\n",
    "\n",
    "indices = np.arange(data.shape[0])\n",
    "np.random.shuffle(indices)\n",
    "\n",
    "data = data[indices]\n",
    "labels_1 = binary_labels[indices]\n",
    "num_validation_samples = int(VALIDATION_SPLIT * data.shape[0])\n",
    "\n",
    "X_train = data[:-num_validation_samples]\n",
    "Y_train = labels_1[:-num_validation_samples]\n",
    "X_val = data[-num_validation_samples:]\n",
    "Y_val = labels_1[-num_validation_samples:]\n",
    "\n",
    "data.shape,labels_1.shape"
   ]
  },
  {
   "cell_type": "code",
   "execution_count": 13,
   "metadata": {
    "collapsed": true
   },
   "outputs": [],
   "source": [
    "embedding_matrix = np.zeros((len(word_index)+1,EMBEDDING_DIM))\n",
    "\n",
    "for word,i in word_index.items():\n",
    "    \n",
    "    if i >= MAX_NB_WORDS:\n",
    "        continue\n",
    "    \n",
    "    embedding_vector = embeddings_index.get(word)\n",
    "    \n",
    "    if embedding_vector is not None:\n",
    "        embedding_matrix[i] = embedding_vector"
   ]
  },
  {
   "cell_type": "code",
   "execution_count": 18,
   "metadata": {},
   "outputs": [
    {
     "name": "stdout",
     "output_type": "stream",
     "text": [
      "Train on 32000 samples, validate on 8000 samples\n",
      "Epoch 1/5\n",
      "32000/32000 [==============================] - 4s - loss: 0.0594 - val_loss: 0.0127\n",
      "Epoch 2/5\n",
      "32000/32000 [==============================] - 3s - loss: 0.0126 - val_loss: 0.0114\n",
      "Epoch 3/5\n",
      "32000/32000 [==============================] - 4s - loss: 0.0114 - val_loss: 0.0103\n",
      "Epoch 4/5\n",
      "32000/32000 [==============================] - 4s - loss: 0.0106 - val_loss: 0.0099\n",
      "Epoch 5/5\n",
      "32000/32000 [==============================] - 4s - loss: 0.0103 - val_loss: 0.0098\n",
      "CPU times: user 29.1 s, sys: 2.64 s, total: 31.7 s\n",
      "Wall time: 20.9 s\n"
     ]
    }
   ],
   "source": [
    "%%time\n",
    "\n",
    "num_labels = labels_1.shape[1]\n",
    "\n",
    "model = Sequential()\n",
    "\n",
    "model.add(Embedding(len(word_index)+1,\n",
    "                           EMBEDDING_DIM,\n",
    "                           weights=[embedding_matrix],\n",
    "                           input_length=MAX_SEQUENCE_LENGTH,\n",
    "                           trainable = False))\n",
    "\n",
    "model.add(GlobalAvgPool1D())\n",
    "\n",
    "model.add(Dense(64,activation='relu'))\n",
    "model.add(Dropout(0.5))\n",
    "\n",
    "model.add(Dense(num_labels))\n",
    "model.add(Activation('sigmoid'))\n",
    "\n",
    "model.compile(loss='binary_crossentropy',\n",
    "              optimizer='adam')\n",
    "# multi label needs a specific accuracy function\n",
    "\n",
    "\n",
    "# loss doesn't get better after 5 epochs\n",
    "model.fit(X_train, Y_train,\n",
    "                    batch_size=32,\n",
    "                    epochs=5,\n",
    "                    verbose=1,\n",
    "                    validation_data=(X_val,Y_val))"
   ]
  },
  {
   "cell_type": "code",
   "execution_count": 46,
   "metadata": {
    "collapsed": true
   },
   "outputs": [],
   "source": [
    "def get_predicted_indices_by_tag_doc_fraction(\n",
    "    tag_probabilities_index,\n",
    "    predicted_tag_probabilities,\n",
    "    relative_difference_threshold=None):\n",
    "    \"\"\"\n",
    "    \n",
    "    (if predicted_index is not in the index, assume the average over all tags\n",
    "    \"\"\"\n",
    "       \n",
    "    output = []\n",
    "\n",
    "    # this can be put outside to save time\n",
    "    sum_over_all_tags = sum([value for _,value in tag_probabilities_index.items()])\n",
    "\n",
    "    # no need for float casting in python 3\n",
    "    mean_over_all_tags = sum_over_all_tags / len(tag_probabilities_index)\n",
    "\n",
    "    for i,prob in enumerate(predicted_tag_probabilities.ravel()):\n",
    "\n",
    "        avg_prob = tag_probabilities_index.get(i)\n",
    "        \n",
    "        relative_difference = (prob-avg_prob)/avg_prob\n",
    "        \n",
    "        if avg_prob is None:\n",
    "            if prob > mean_over_all_tags:\n",
    "                output.append(1)\n",
    "            else:\n",
    "                output.append(0)\n",
    "        elif relative_difference_threshold is None:\n",
    "            if prob > avg_prob * 5:\n",
    "                output.append(1)\n",
    "            else:\n",
    "                output.append(0)\n",
    "        else:    \n",
    "            if prob > avg_prob and relative_difference > relative_difference_threshold:\n",
    "                output.append(1)\n",
    "            else:\n",
    "                output.append(0)\n",
    "\n",
    "    return np.array(output).reshape(1,-1)"
   ]
  },
  {
   "cell_type": "code",
   "execution_count": 47,
   "metadata": {},
   "outputs": [
    {
     "name": "stdout",
     "output_type": "stream",
     "text": [
      "[('mysql', 'php')]\n",
      "[('ajax', 'expandablelistview', 'hibernate', 'html', 'java', 'jquery', 'jsp', 'mysql', 'php', 'xaml', 'xml', 'xslt')]\n",
      "\n",
      "\n",
      "[('ms-access', 'ms-access-2007', 'ms-access-2010')]\n",
      "[('icons', 'laravel-4', 'zend-framework')]\n",
      "\n",
      "\n",
      "[('google-apps-script', 'html')]\n",
      "[('icons', 'laravel-4', 'nginx', 'zend-framework')]\n",
      "\n",
      "\n",
      "[('mysql', 'php', 'xml')]\n",
      "[('zend-framework',)]\n",
      "\n",
      "\n",
      "[('javascript', 'jquery')]\n",
      "[('accordion', 'activerecord', 'ajax', 'android-actionbar', 'android-viewpager', 'angularjs-service', 'animation', 'ant', 'apache-pig', 'asp-classic', 'asp.net-ajax', 'asp.net-mvc', 'asp.net-mvc-4', 'async-await', 'authentication', 'awk', 'binary-tree', 'capistrano', 'casting', 'class', 'constraints', 'count', 'd3.js', 'excel', 'excel-vba', 'expandablelistview', 'foreign-keys', 'forms-authentication', 'frame', 'frontend', 'function', 'glsl', 'group-by', 'hbase', 'hibernate', 'join', 'json', 'jstl', 'knockout.js', 'laravel-4', 'locale', 'locking', 'loops', 'lotus-notes', 'multithreading', 'mvvm', 'mysql', 'mysqli', 'navigation', 'navigation-drawer', 'netty', 'nginx', 'node.js', 'observablecollection', 'oop', 'out-of-memory', 'pagination', 'passenger', 'performance', 'react-router', 'redux', 'rotation', 'schema', 'security', 'spring', 'spring-mvc', 'testng', 'tomcat', 'vba', 'webgl', 'xamarin', 'xamarin.ios', 'xml-serialization', 'xslt')]\n",
      "\n",
      "\n",
      "[('ms-access', 'sql')]\n",
      "[('expandablelistview', 'facebook', 'icons', 'laravel-4', 'nginx', 'xamarin', 'zend-framework')]\n",
      "\n",
      "\n",
      "[('wcf',)]\n",
      "[('accordion', 'activerecord', 'android-actionbar', 'animation', 'ant', 'apache-pig', 'asp.net-mvc', 'asp.net-mvc-4', 'async-await', 'authentication', 'awk', 'backup', 'binary-tree', 'bluetooth', 'canvas', 'capistrano', 'casting', 'class', 'constraints', 'count', 'cross-platform', 'ejb-3.0', 'excel', 'expandablelistview', 'facebook', 'frame', 'frontend', 'function', 'groovy', 'group-by', 'hbase', 'icons', 'internet-explorer', 'jackson', 'join', 'jstl', 'knockout.js', 'laravel-4', 'locale', 'lotus-notes', 'mysql', 'mysqli', 'navigation', 'navigation-drawer', 'netty', 'nginx', 'observablecollection', 'out-of-memory', 'pagination', 'performance', 'permutation', 'phantomjs', 'progress-bar', 'react-router', 'redux', 'rotation', 'runtime-error', 'security', 'sinatra', 'speech-recognition', 'spring-mvc', 'testng', 'user', 'webgl', 'xamarin', 'xamarin.ios', 'zend-framework')]\n",
      "\n",
      "\n",
      "[('ruby-on-rails', 'ruby-on-rails-3')]\n",
      "[('accordion', 'activerecord', 'animation', 'asp.net-mvc', 'authentication', 'binary-tree', 'casting', 'constraints', 'excel', 'expandablelistview', 'facebook', 'frame', 'group-by', 'hbase', 'jstl', 'knockout.js', 'laravel-4', 'locale', 'lotus-notes', 'navigation-drawer', 'nginx', 'performance', 'security', 'testng', 'webgl', 'xamarin', 'xamarin.ios', 'zend-framework')]\n",
      "\n",
      "\n",
      "[('google-app-engine', 'python', 'web')]\n",
      "[('laravel-4', 'nginx', 'zend-framework')]\n",
      "\n",
      "\n",
      "[('jquery',)]\n",
      "[('accordion', 'activerecord', 'android-actionbar', 'animation', 'ant', 'asp.net-mvc', 'asp.net-mvc-4', 'authentication', 'awk', 'backup', 'binary-tree', 'bluetooth', 'casting', 'class', 'constraints', 'count', 'cross-platform', 'excel', 'expandablelistview', 'facebook', 'frame', 'groovy', 'group-by', 'hbase', 'icons', 'internet-explorer', 'jackson', 'jstl', 'knockout.js', 'laravel-4', 'locale', 'lotus-notes', 'mysqli', 'navigation-drawer', 'nginx', 'observablecollection', 'pagination', 'performance', 'phantomjs', 'rotation', 'runtime-error', 'security', 'sinatra', 'testng', 'webgl', 'xamarin', 'xamarin.ios', 'zend-framework')]\n",
      "\n",
      "\n"
     ]
    }
   ],
   "source": [
    "# sample result for a couple of test cases\n",
    "num_test_cases = 10\n",
    "threshold=0.07\n",
    "\n",
    "for i in np.random.randint(low=0, high=len(Y_val), size=num_test_cases):\n",
    "\n",
    "    actual_label_indices = Y_val[i].reshape(1,-1)\n",
    "    predicted_tag_probabilities = model.predict(X_val[i].reshape(1,-1)).ravel()\n",
    "              \n",
    "#     predicted_label_indices = tags_helper.get_predicted_indices_by_threshold(predicted_tag_probabilities,threshold)\n",
    "       \n",
    "    predicted_label_indices = get_predicted_indices_by_tag_doc_fraction(\n",
    "        tag_probabilities_index,\n",
    "        predicted_tag_probabilities)\n",
    "        \n",
    "        \n",
    "    actual_labels = lb.inverse_transform(actual_label_indices)\n",
    "    \n",
    "    predicted_labels = lb.inverse_transform(predicted_label_indices.reshape(1,-1))\n",
    "   \n",
    "    print(actual_labels)\n",
    "    print(predicted_labels)\n",
    "    print('\\n')\n"
   ]
  },
  {
   "cell_type": "code",
   "execution_count": 23,
   "metadata": {
    "collapsed": true
   },
   "outputs": [],
   "source": [
    "X_test_list = []\n",
    "\n",
    "for validation_features in X_val:\n",
    "    X_test_list.append(validation_features.reshape(1,-1))\n",
    "\n",
    "X_test = np.vstack(X_test_list)    "
   ]
  },
  {
   "cell_type": "code",
   "execution_count": 24,
   "metadata": {},
   "outputs": [
    {
     "name": "stdout",
     "output_type": "stream",
     "text": [
      "micro-averaged F1 score (validation set) is 0.0064770488873624864\n",
      "micro-averaged precision score (validation set) is 0.0032507989701828035\n",
      "micro-averaged recall score (validation set) is 0.8576943416181915\n"
     ]
    }
   ],
   "source": [
    "Y_pred_lst = [model.predict(x_test.reshape(1,-1)) for x_test in X_test]\n",
    "\n",
    "Y_pred_calculated_lst = [tags_helper.get_predicted_indices_by_tag_doc_fraction(tag_probabilities_index,y_pred) for y_pred in np.vstack(Y_pred_lst)]\n",
    "\n",
    "Y_pred = np.vstack(Y_pred_calculated_lst)\n",
    "\n",
    "Y_val.shape,Y_pred.shape\n",
    "\n",
    "micro_f1 = metrics_helper.calculate_multilabel_metrics(Y_val,Y_pred)\n",
    "print('micro-averaged F1 score (validation set) is {0}'.format(micro_f1))\n",
    "\n",
    "micro_prec = metrics_helper.calculate_multilabel_metrics(Y_val, Y_pred, metric='precision')\n",
    "print('micro-averaged precision score (validation set) is {0}'.format(micro_prec))\n",
    "\n",
    "micro_rec = metrics_helper.calculate_multilabel_metrics(Y_val, Y_pred, metric='recall')\n",
    "print('micro-averaged recall score (validation set) is {0}'.format(micro_rec))"
   ]
  },
  {
   "cell_type": "code",
   "execution_count": null,
   "metadata": {
    "collapsed": true
   },
   "outputs": [],
   "source": []
  },
  {
   "cell_type": "code",
   "execution_count": null,
   "metadata": {
    "collapsed": true
   },
   "outputs": [],
   "source": []
  }
 ],
 "metadata": {
  "kernelspec": {
   "display_name": "Global TF Kernel (Python 3)",
   "language": "python",
   "name": "global-tf-python-3"
  },
  "language_info": {
   "codemirror_mode": {
    "name": "ipython",
    "version": 3
   },
   "file_extension": ".py",
   "mimetype": "text/x-python",
   "name": "python",
   "nbconvert_exporter": "python",
   "pygments_lexer": "ipython3",
   "version": "3.5.2"
  }
 },
 "nbformat": 4,
 "nbformat_minor": 2
}
