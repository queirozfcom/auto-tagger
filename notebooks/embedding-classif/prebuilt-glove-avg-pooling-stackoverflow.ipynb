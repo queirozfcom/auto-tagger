{
 "cells": [
  {
   "cell_type": "markdown",
   "metadata": {},
   "source": [
    "### classify stackoverflow posts by considering each document a simple mean of its individual word embeddings\n",
    "\n",
    "**TODO**\n",
    " - use weighted averages (tf-id, ppmi, etc)\n",
    " - use a different scoring function so that wrong guesses that are close to the correct values (think \"python\", \"python-2\") are penalized less than guesses that are wildly wrong.\n"
   ]
  },
  {
   "cell_type": "code",
   "execution_count": 12,
   "metadata": {},
   "outputs": [],
   "source": [
    "import csv\n",
    "import os\n",
    "import re\n",
    "import sys\n",
    "import numpy as np\n",
    "\n",
    "from keras.preprocessing.text import Tokenizer\n",
    "from keras.preprocessing.sequence import pad_sequences\n",
    "from keras.utils import to_categorical\n",
    "from keras.layers import Dense, Dropout, Input, Flatten, Activation\n",
    "from keras.layers import Conv1D, MaxPooling1D, Embedding, GlobalAvgPool1D\n",
    "from keras.models import Model, Sequential\n",
    "\n",
    "from sklearn import preprocessing\n",
    "from sklearn.feature_extraction.text import CountVectorizer\n",
    "\n",
    "# my stuff in the helpers/ directory\n",
    "from helpers import files,texts,metrics"
   ]
  },
  {
   "cell_type": "code",
   "execution_count": 2,
   "metadata": {
    "collapsed": true
   },
   "outputs": [],
   "source": [
    "np.random.seed(seed=42)"
   ]
  },
  {
   "cell_type": "code",
   "execution_count": 3,
   "metadata": {
    "collapsed": true
   },
   "outputs": [],
   "source": [
    "texts, labels = files.read_stackoverflow_sample_small()"
   ]
  },
  {
   "cell_type": "code",
   "execution_count": 4,
   "metadata": {
    "collapsed": true
   },
   "outputs": [],
   "source": [
    "MAX_NB_WORDS = 20000\n",
    "MAX_SEQUENCE_LENGTH = 1000\n",
    "VALIDATION_SPLIT = 0.2\n",
    "EMBEDDING_DIM=100           "
   ]
  },
  {
   "cell_type": "code",
   "execution_count": 5,
   "metadata": {
    "collapsed": true
   },
   "outputs": [],
   "source": [
    "tokenizer = Tokenizer(num_words=MAX_NB_WORDS)\n",
    "tokenizer.fit_on_texts(texts)\n",
    "sequences = tokenizer.texts_to_sequences(texts)\n",
    "word_index = tokenizer.word_index"
   ]
  },
  {
   "cell_type": "code",
   "execution_count": 6,
   "metadata": {
    "collapsed": true
   },
   "outputs": [],
   "source": [
    "lb = preprocessing.MultiLabelBinarizer()\n",
    "binary_labels = lb.fit_transform(labels)"
   ]
  },
  {
   "cell_type": "code",
   "execution_count": 7,
   "metadata": {
    "collapsed": true
   },
   "outputs": [],
   "source": [
    "# word => embedding\n",
    "embeddings_index = files.read_glove_100()"
   ]
  },
  {
   "cell_type": "code",
   "execution_count": 8,
   "metadata": {},
   "outputs": [
    {
     "data": {
      "text/plain": [
       "((18822, 1000), (18822, 5599))"
      ]
     },
     "execution_count": 8,
     "metadata": {},
     "output_type": "execute_result"
    }
   ],
   "source": [
    "data = pad_sequences(sequences,maxlen=MAX_SEQUENCE_LENGTH)\n",
    "\n",
    "indices = np.arange(data.shape[0])\n",
    "np.random.shuffle(indices)\n",
    "\n",
    "data = data[indices]\n",
    "labels_1 = binary_labels[indices]\n",
    "num_validation_samples = int(VALIDATION_SPLIT * data.shape[0])\n",
    "\n",
    "X_train = data[:-num_validation_samples]\n",
    "y_train = labels_1[:-num_validation_samples]\n",
    "X_val = data[-num_validation_samples:]\n",
    "y_val = labels_1[-num_validation_samples:]\n",
    "\n",
    "data.shape,labels_1.shape"
   ]
  },
  {
   "cell_type": "code",
   "execution_count": 9,
   "metadata": {
    "collapsed": true
   },
   "outputs": [],
   "source": [
    "embedding_matrix = np.zeros((len(word_index)+1,EMBEDDING_DIM))\n",
    "\n",
    "for word,i in word_index.items():\n",
    "    \n",
    "    if i >= MAX_NB_WORDS:\n",
    "        continue\n",
    "    \n",
    "    embedding_vector = embeddings_index.get(word)\n",
    "    \n",
    "    if embedding_vector is not None:\n",
    "        embedding_matrix[i] = embedding_vector"
   ]
  },
  {
   "cell_type": "code",
   "execution_count": 23,
   "metadata": {},
   "outputs": [
    {
     "name": "stdout",
     "output_type": "stream",
     "text": [
      "Train on 15058 samples, validate on 3764 samples\n",
      "Epoch 1/10\n",
      "15058/15058 [==============================] - 11s - loss: 0.0715 - val_loss: 0.0035\n",
      "Epoch 2/10\n",
      "15058/15058 [==============================] - 11s - loss: 0.0038 - val_loss: 0.0035\n",
      "Epoch 3/10\n",
      "15058/15058 [==============================] - 11s - loss: 0.0037 - val_loss: 0.0035\n",
      "Epoch 4/10\n",
      "15058/15058 [==============================] - 10s - loss: 0.0037 - val_loss: 0.0035\n",
      "Epoch 5/10\n",
      "15058/15058 [==============================] - 10s - loss: 0.0037 - val_loss: 0.0035\n",
      "Epoch 6/10\n",
      "15058/15058 [==============================] - 10s - loss: 0.0036 - val_loss: 0.0035\n",
      "Epoch 7/10\n",
      "15058/15058 [==============================] - 10s - loss: 0.0036 - val_loss: 0.0035\n",
      "Epoch 8/10\n",
      "15058/15058 [==============================] - 10s - loss: 0.0036 - val_loss: 0.0035\n",
      "Epoch 9/10\n",
      "15058/15058 [==============================] - 10s - loss: 0.0036 - val_loss: 0.0035\n",
      "Epoch 10/10\n",
      "15058/15058 [==============================] - 11s - loss: 0.0036 - val_loss: 0.0035\n",
      "CPU times: user 1min 40s, sys: 17.3 s, total: 1min 58s\n",
      "Wall time: 1min 49s\n"
     ]
    }
   ],
   "source": [
    "%%time\n",
    "\n",
    "num_labels = labels_1.shape[1]\n",
    "\n",
    "model = Sequential()\n",
    "\n",
    "model.add(Embedding(len(word_index)+1,\n",
    "                           EMBEDDING_DIM,\n",
    "                           weights=[embedding_matrix],\n",
    "                           input_length=MAX_SEQUENCE_LENGTH,\n",
    "                           trainable = True))\n",
    "\n",
    "model.add(GlobalAvgPool1D())\n",
    "\n",
    "model.add(Dense(64,activation='relu'))\n",
    "model.add(Dropout(0.5))\n",
    "\n",
    "model.add(Dense(num_labels))\n",
    "model.add(Activation('sigmoid'))\n",
    "\n",
    "model.compile(loss='binary_crossentropy',\n",
    "              optimizer='adam')\n",
    "# multi label needs a specific accuracy function\n",
    "\n",
    "model.fit(X_train, y_train,\n",
    "                    batch_size=32,\n",
    "                    epochs=10,\n",
    "                    verbose=1,\n",
    "                    validation_data=(X_val,y_val))"
   ]
  },
  {
   "cell_type": "code",
   "execution_count": 33,
   "metadata": {},
   "outputs": [
    {
     "name": "stdout",
     "output_type": "stream",
     "text": [
      "[('keyboard-shortcuts', 'visual-studio', 'visual-studio-2008')]\n",
      "[('.net', 'asp.net', 'c', 'c#', 'c++', 'database', 'java', 'javascript', 'php', 'python', 'sql', 'sql-server', 'visual-studio', 'windows')]\n",
      "\n",
      "\n",
      "\n",
      "[('bash', 'permissions', 'scripting', 'shell')]\n",
      "[('.net', 'asp.net', 'c#', 'c++', 'database', 'java', 'javascript', 'php', 'python', 'sql', 'sql-server', 'visual-studio', 'windows')]\n",
      "\n",
      "\n",
      "\n",
      "[('specifications',)]\n",
      "[('.net', 'asp.net', 'c#', 'c++', 'database', 'java', 'javascript', 'php', 'python', 'sql', 'sql-server', 'visual-studio', 'windows')]\n",
      "\n",
      "\n",
      "\n",
      "[('dll', 'shell', 'winapi')]\n",
      "[('.net', 'asp.net', 'c#', 'c++', 'database', 'java', 'javascript', 'php', 'python', 'sql', 'sql-server', 'unit-testing', 'visual-studio', 'windows')]\n",
      "\n",
      "\n",
      "\n",
      "[('php', 'visual-studio', 'web-services', 'wsdl')]\n",
      "[('.net', 'asp.net', 'c#', 'c++', 'database', 'java', 'javascript', 'php', 'python', 'sql', 'sql-server', 'visual-studio', 'windows')]\n",
      "\n",
      "\n",
      "\n",
      "[('ide', 'php')]\n",
      "[('.net', 'asp.net', 'c', 'c#', 'c++', 'database', 'java', 'javascript', 'php', 'python', 'sql', 'sql-server', 'visual-studio', 'windows')]\n",
      "\n",
      "\n",
      "\n",
      "[('iteration', 'mapping', 'python')]\n",
      "[('.net', 'asp.net', 'c', 'c#', 'c++', 'database', 'java', 'javascript', 'php', 'python', 'sql', 'sql-server', 'visual-studio', 'windows')]\n",
      "\n",
      "\n",
      "\n",
      "[('regex',)]\n",
      "[('.net', 'asp.net', 'c', 'c#', 'c++', 'database', 'java', 'javascript', 'php', 'python', 'sql', 'sql-server', 'visual-studio', 'windows')]\n",
      "\n",
      "\n",
      "\n",
      "[('jruby', 'jrubyonrails', 'ruby', 'ruby-on-rails')]\n",
      "[('.net', 'asp.net', 'c', 'c#', 'c++', 'database', 'java', 'javascript', 'php', 'python', 'sql', 'sql-server', 'visual-studio', 'windows')]\n",
      "\n",
      "\n",
      "\n",
      "[('model-view-controller', 'perl')]\n",
      "[('.net', 'asp.net', 'c', 'c#', 'c++', 'database', 'java', 'javascript', 'php', 'python', 'sql', 'sql-server', 'visual-studio', 'windows')]\n",
      "\n",
      "\n",
      "\n"
     ]
    }
   ],
   "source": [
    "# sample result for a couple of test cases\n",
    "\n",
    "num_test_cases = 10\n",
    "threshold = 0.02\n",
    "\n",
    "for i in range(num_test_cases):\n",
    "\n",
    "    actual_label_indices = y_val[i].reshape(1,-1)\n",
    "\n",
    "    predicted_label_indices = np.zeros(labels_1.shape[1]).reshape(1,-1)\n",
    "    bool_vec = model.predict(X_val[i].reshape(1,-1)) > threshold\n",
    "\n",
    "    predicted_label_indices[bool_vec] = 1\n",
    "\n",
    "    actual_labels = lb.inverse_transform(actual_label_indices)\n",
    "    predicted_labels = lb.inverse_transform(predicted_label_indices)\n",
    "\n",
    "    print(actual_labels)\n",
    "    print(predicted_labels)\n",
    "    print('\\n\\n')\n"
   ]
  },
  {
   "cell_type": "code",
   "execution_count": 25,
   "metadata": {},
   "outputs": [
    {
     "data": {
      "text/plain": [
       "([('keyboard-shortcuts', 'visual-studio', 'visual-studio-2008')],\n",
       " [('.net', 'c#')])"
      ]
     },
     "execution_count": 25,
     "metadata": {},
     "output_type": "execute_result"
    }
   ],
   "source": []
  },
  {
   "cell_type": "code",
   "execution_count": 26,
   "metadata": {},
   "outputs": [
    {
     "data": {
      "text/plain": [
       "(3764, 1000)"
      ]
     },
     "execution_count": 26,
     "metadata": {},
     "output_type": "execute_result"
    }
   ],
   "source": [
    "X_val.shape"
   ]
  },
  {
   "cell_type": "code",
   "execution_count": 27,
   "metadata": {
    "collapsed": true
   },
   "outputs": [],
   "source": [
    "X_test_list = []\n",
    "\n",
    "for validation_features in X_val:\n",
    "    X_test_list.append(validation_features.reshape(1,-1))\n",
    "\n",
    "X_test = np.vstack(X_test_list)    "
   ]
  },
  {
   "cell_type": "code",
   "execution_count": 28,
   "metadata": {},
   "outputs": [
    {
     "name": "stdout",
     "output_type": "stream",
     "text": [
      "micro-averaged F1 score (validation set) is 0.09391698602040265\n",
      "micro-averaged precision score (validation set) is 0.11471518987341772\n",
      "micro-averaged recall score (validation set) is 0.07950287855249931\n"
     ]
    }
   ],
   "source": [
    "micro_f1 = metrics.calculate_multilabel_metrics(model,X_val, y_val, threshold=0.08)\n",
    "print('micro-averaged F1 score (validation set) is {0}'.format(micro_f1))\n",
    "\n",
    "micro_prec = metrics.calculate_multilabel_metrics(model,X_val, y_val, metric='precision',threshold=0.08)\n",
    "print('micro-averaged precision score (validation set) is {0}'.format(micro_prec))\n",
    "\n",
    "micro_rec = metrics.calculate_multilabel_metrics(model,X_val, y_val, metric='recall',threshold=0.08)\n",
    "print('micro-averaged recall score (validation set) is {0}'.format(micro_rec))\n"
   ]
  },
  {
   "cell_type": "code",
   "execution_count": null,
   "metadata": {
    "collapsed": true
   },
   "outputs": [],
   "source": []
  }
 ],
 "metadata": {
  "kernelspec": {
   "display_name": "Global TF Kernel (Python 3)",
   "language": "python",
   "name": "global-tf-python-3"
  },
  "language_info": {
   "codemirror_mode": {
    "name": "ipython",
    "version": 3
   },
   "file_extension": ".py",
   "mimetype": "text/x-python",
   "name": "python",
   "nbconvert_exporter": "python",
   "pygments_lexer": "ipython3",
   "version": "3.5.2"
  }
 },
 "nbformat": 4,
 "nbformat_minor": 2
}
