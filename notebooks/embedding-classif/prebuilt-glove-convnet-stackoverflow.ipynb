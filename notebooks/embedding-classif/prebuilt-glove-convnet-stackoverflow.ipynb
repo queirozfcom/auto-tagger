{
 "cells": [
  {
   "cell_type": "markdown",
   "metadata": {},
   "source": [
    "### classify stackoverflow posts by convoluting over its individual word embeddings\n",
    "\n",
    "**TODO**\n",
    " - use weighted averages (tf-id, ppmi, etc)\n",
    " - use a different scoring function so that wrong guesses that are close to the correct values (think \"python\", \"python-2\") are penalized less than guesses that are wildly wrong.\n"
   ]
  },
  {
   "cell_type": "code",
   "execution_count": 1,
   "metadata": {},
   "outputs": [
    {
     "name": "stderr",
     "output_type": "stream",
     "text": [
      "Using TensorFlow backend.\n"
     ]
    }
   ],
   "source": [
    "import csv\n",
    "import os\n",
    "import re\n",
    "import sys\n",
    "import numpy as np\n",
    "\n",
    "from keras.preprocessing.text import Tokenizer\n",
    "from keras.preprocessing.sequence import pad_sequences\n",
    "from keras.utils import to_categorical\n",
    "from keras.layers import Dense, Dropout, Input, Flatten, Activation\n",
    "from keras.layers import Conv1D, MaxPooling1D, Embedding, GlobalAvgPool1D\n",
    "from keras.models import Model, Sequential\n",
    "\n",
    "from sklearn import preprocessing\n",
    "from sklearn.feature_extraction.text import CountVectorizer\n",
    "\n",
    "# my stuff in the helpers/ directory\n",
    "from helpers import files_helper, texts_helper, metrics_helper, tags_helper"
   ]
  },
  {
   "cell_type": "code",
   "execution_count": 2,
   "metadata": {
    "collapsed": true
   },
   "outputs": [],
   "source": [
    "np.random.seed(seed=42)"
   ]
  },
  {
   "cell_type": "code",
   "execution_count": 3,
   "metadata": {
    "collapsed": true
   },
   "outputs": [],
   "source": [
    "texts, labels = files_helper.read_stackoverflow_sample_small()"
   ]
  },
  {
   "cell_type": "code",
   "execution_count": 4,
   "metadata": {
    "collapsed": true
   },
   "outputs": [],
   "source": [
    "preprocessed_texts = texts"
   ]
  },
  {
   "cell_type": "code",
   "execution_count": 5,
   "metadata": {
    "collapsed": true
   },
   "outputs": [],
   "source": [
    "MAX_NB_WORDS = 20000\n",
    "MAX_SEQUENCE_LENGTH = 1000\n",
    "VALIDATION_SPLIT = 0.2\n",
    "EMBEDDING_DIM=100\n",
    "LABELS_MIN_DOC_COUNT = int(10)"
   ]
  },
  {
   "cell_type": "code",
   "execution_count": 6,
   "metadata": {
    "collapsed": true
   },
   "outputs": [],
   "source": [
    "tokenizer = Tokenizer(num_words=MAX_NB_WORDS,\n",
    "                     filters='\\'!\"#$%&()*+,-./:;<=>?@[\\\\]^_`{|}~\\t\\n')\n",
    "tokenizer.fit_on_texts(preprocessed_texts)\n",
    "sequences = tokenizer.texts_to_sequences(preprocessed_texts)\n",
    "word_index = tokenizer.word_index\n",
    "inverse_word_index = texts_helper.build_inverse_word_index(word_index)"
   ]
  },
  {
   "cell_type": "code",
   "execution_count": 7,
   "metadata": {
    "scrolled": true
   },
   "outputs": [
    {
     "data": {
      "text/plain": [
       "['apply',\n",
       " 'onclick',\n",
       " 'event',\n",
       " 'to',\n",
       " 'an',\n",
       " 'option',\n",
       " 'i',\n",
       " 'am',\n",
       " 'using',\n",
       " 'zend',\n",
       " 'form',\n",
       " 'to',\n",
       " 'create',\n",
       " 'a',\n",
       " 'form',\n",
       " 'i',\n",
       " 'am',\n",
       " 'also',\n",
       " 'using',\n",
       " 'for',\n",
       " 'javascript',\n",
       " 'this',\n",
       " 'gt',\n",
       " 'radio',\n",
       " 'alone',\n",
       " 'array',\n",
       " 'label',\n",
       " 'gt',\n",
       " 'are',\n",
       " 'you',\n",
       " 'going',\n",
       " 'to',\n",
       " 'be',\n",
       " 'taking',\n",
       " 'part',\n",
       " 'with',\n",
       " 'anyone',\n",
       " 'else',\n",
       " 'required',\n",
       " 'gt',\n",
       " 'true',\n",
       " 'onclick',\n",
       " 'gt',\n",
       " 'gt',\n",
       " 'array',\n",
       " 'yes',\n",
       " 'gt',\n",
       " 'yes',\n",
       " 'no',\n",
       " 'gt',\n",
       " 'no',\n",
       " 'at',\n",
       " 'the',\n",
       " 'moment',\n",
       " 'the',\n",
       " 'onclick',\n",
       " 'event',\n",
       " 'works',\n",
       " 'if',\n",
       " 'any',\n",
       " 'option',\n",
       " 'is',\n",
       " 'selected',\n",
       " 'how',\n",
       " 'do',\n",
       " 'i',\n",
       " 'get',\n",
       " 'it',\n",
       " 'to',\n",
       " 'work',\n",
       " 'for',\n",
       " 'just',\n",
       " 'yes',\n",
       " 'being',\n",
       " 'selected']"
      ]
     },
     "execution_count": 7,
     "metadata": {},
     "output_type": "execute_result"
    }
   ],
   "source": [
    "[inverse_word_index[idx] for idx in sequences[0]]"
   ]
  },
  {
   "cell_type": "code",
   "execution_count": 8,
   "metadata": {
    "collapsed": true
   },
   "outputs": [],
   "source": [
    "truncated_labels = tags_helper.truncate_labels(labels,LABELS_MIN_DOC_COUNT)"
   ]
  },
  {
   "cell_type": "code",
   "execution_count": 9,
   "metadata": {
    "collapsed": true
   },
   "outputs": [],
   "source": [
    "lb = preprocessing.MultiLabelBinarizer()\n",
    "binary_labels = lb.fit_transform(truncated_labels)"
   ]
  },
  {
   "cell_type": "code",
   "execution_count": 10,
   "metadata": {
    "collapsed": true
   },
   "outputs": [],
   "source": [
    "# tag position => fraction of docs having that tag\n",
    "tag_probabilities_index = tags_helper.get_probabilities_index(binary_labels)"
   ]
  },
  {
   "cell_type": "code",
   "execution_count": 11,
   "metadata": {
    "collapsed": true
   },
   "outputs": [],
   "source": [
    "# word => embedding\n",
    "embeddings_index = files_helper.read_glove(d=EMBEDDING_DIM)"
   ]
  },
  {
   "cell_type": "code",
   "execution_count": 12,
   "metadata": {},
   "outputs": [
    {
     "data": {
      "text/plain": [
       "((40000, 1000), (40000, 1469))"
      ]
     },
     "execution_count": 12,
     "metadata": {},
     "output_type": "execute_result"
    }
   ],
   "source": [
    "data = pad_sequences(sequences,maxlen=MAX_SEQUENCE_LENGTH)\n",
    "\n",
    "indices = np.arange(data.shape[0])\n",
    "np.random.shuffle(indices)\n",
    "\n",
    "data = data[indices]\n",
    "labels_1 = binary_labels[indices]\n",
    "num_validation_samples = int(VALIDATION_SPLIT * data.shape[0])\n",
    "\n",
    "X_train = data[:-num_validation_samples]\n",
    "Y_train = labels_1[:-num_validation_samples]\n",
    "X_val = data[-num_validation_samples:]\n",
    "Y_val = labels_1[-num_validation_samples:]\n",
    "\n",
    "data.shape,labels_1.shape"
   ]
  },
  {
   "cell_type": "code",
   "execution_count": 13,
   "metadata": {
    "collapsed": true
   },
   "outputs": [],
   "source": [
    "embedding_matrix = np.zeros((len(word_index)+1,EMBEDDING_DIM))\n",
    "\n",
    "for word,i in word_index.items():\n",
    "    \n",
    "    if i >= MAX_NB_WORDS:\n",
    "        continue\n",
    "    \n",
    "    embedding_vector = embeddings_index.get(word)\n",
    "    \n",
    "    if embedding_vector is not None:\n",
    "        embedding_matrix[i] = embedding_vector"
   ]
  },
  {
   "cell_type": "code",
   "execution_count": 14,
   "metadata": {},
   "outputs": [
    {
     "name": "stdout",
     "output_type": "stream",
     "text": [
      "Train on 32000 samples, validate on 8000 samples\n",
      "Epoch 1/5\n",
      "32000/32000 [==============================] - 43s - loss: 0.0228 - val_loss: 0.0099\n",
      "Epoch 2/5\n",
      "32000/32000 [==============================] - 36s - loss: 0.0099 - val_loss: 0.0099\n",
      "Epoch 3/5\n",
      "32000/32000 [==============================] - 36s - loss: 0.0099 - val_loss: 0.0099\n",
      "Epoch 4/5\n",
      "32000/32000 [==============================] - 37s - loss: 0.0099 - val_loss: 0.0099\n",
      "Epoch 5/5\n",
      "32000/32000 [==============================] - 37s - loss: 0.0098 - val_loss: 0.0098\n",
      "CPU times: user 2min 25s, sys: 24.2 s, total: 2min 49s\n",
      "Wall time: 3min 21s\n"
     ]
    }
   ],
   "source": [
    "%%time\n",
    "\n",
    "num_labels = labels_1.shape[1]\n",
    "\n",
    "model = Sequential()\n",
    "\n",
    "model.add(Embedding(len(word_index)+1,\n",
    "                           EMBEDDING_DIM,\n",
    "                           weights=[embedding_matrix],\n",
    "                           input_length=MAX_SEQUENCE_LENGTH,\n",
    "                           trainable = False))\n",
    "\n",
    "model.add(Conv1D(128,5,activation='relu'))\n",
    "model.add(MaxPooling1D(5))\n",
    "model.add(Dropout(0.5))\n",
    "model.add(Conv1D(128,5,activation='relu'))\n",
    "model.add(MaxPooling1D(5))\n",
    "model.add(Dropout(0.5))\n",
    "model.add(GlobalMaxPool1D())\n",
    "model.add(Dense(num_labels))\n",
    "model.add(Activation('sigmoid'))\n",
    "\n",
    "model.compile(loss='binary_crossentropy',\n",
    "              optimizer='adam')\n",
    "# multi label needs a specific accuracy function\n",
    "\n",
    "\n",
    "# loss doesn't get better after 5 epochs\n",
    "model.fit(X_train, Y_train,\n",
    "                    batch_size=32,\n",
    "                    epochs=5,\n",
    "                    verbose=1,\n",
    "                    validation_data=(X_val,Y_val))"
   ]
  },
  {
   "cell_type": "code",
   "execution_count": 67,
   "metadata": {
    "collapsed": true
   },
   "outputs": [],
   "source": [
    "def get_predicted_indices_by_tag_doc_fraction(\n",
    "    tag_probabilities_index,\n",
    "    predicted_tag_probabilities,\n",
    "    multiplier=1.0,\n",
    "    relative_difference_threshold=None):\n",
    "    \"\"\"\n",
    "    \n",
    "    (if predicted_index is not in the index, assume the average over all tags\n",
    "    \"\"\"\n",
    "       \n",
    "    output = []\n",
    "\n",
    "    # this can be put outside to save time\n",
    "    sum_over_all_tags = sum([value for _,value in tag_probabilities_index.items()])\n",
    "\n",
    "    # no need for float casting in python 3\n",
    "    mean_over_all_tags = sum_over_all_tags / len(tag_probabilities_index)\n",
    "\n",
    "    for i,prob in enumerate(predicted_tag_probabilities.ravel()):\n",
    "\n",
    "        avg_prob = tag_probabilities_index.get(i)\n",
    "        \n",
    "        relative_difference = (prob-avg_prob)/avg_prob\n",
    "        \n",
    "        if avg_prob is None:\n",
    "            if prob > mean_over_all_tags:\n",
    "                output.append(1)\n",
    "            else:\n",
    "                output.append(0)\n",
    "        elif relative_difference_threshold is None:\n",
    "            if prob > avg_prob * multiplier:\n",
    "                output.append(1)\n",
    "            else:\n",
    "                output.append(0)\n",
    "        else:   \n",
    "            if prob > avg_prob and relative_difference > relative_difference_threshold:\n",
    "                output.append(1)\n",
    "            else:\n",
    "                output.append(0)\n",
    "\n",
    "    return np.array(output).reshape(1,-1)"
   ]
  },
  {
   "cell_type": "code",
   "execution_count": 17,
   "metadata": {
    "collapsed": true
   },
   "outputs": [],
   "source": [
    "def get_top_k_predicted_indices(\n",
    "    predicted_tag_probabilities,\n",
    "    k=5):\n",
    "    \"\"\"\n",
    "    \n",
    "    (if predicted_index is not in the index, assume the average over all tags\n",
    "    \"\"\"\n",
    "    \n",
    "    \n",
    "    tags_probs = [ (tag,prob) for tag,prob in enumerate(predicted_tag_probabilities.ravel())]\n",
    "   \n",
    "    sorted_tags_probs = sorted(tags_probs,key=lambda tpl:tpl[1],reverse=True)\n",
    "       \n",
    "    tags_ordered = [tag for tag,_ in sorted_tags_probs][:k]\n",
    "    \n",
    "    predicted_label_indices = np.zeros(len(tags_probs),dtype='int64')\n",
    "       \n",
    "    predicted_label_indices[tags_ordered] = 1   \n",
    "       \n",
    "    predicted_label_indices = predicted_label_indices.reshape(1,-1)\n",
    "    \n",
    "    return predicted_label_indices"
   ]
  },
  {
   "cell_type": "code",
   "execution_count": 21,
   "metadata": {
    "collapsed": true
   },
   "outputs": [],
   "source": [
    "def get_predicted_indices_by_threshold(predicted_tag_probabilities,\n",
    "                                   threshold=0.08):\n",
    "    \n",
    "    predicted_label_indices= np.zeros(len(predicted_tag_probabilities),dtype='int64')\n",
    "    \n",
    "    predicted_label_indices[predicted_tag_probabilities > threshold] = 1\n",
    "\n",
    "    return predicted_label_indices"
   ]
  },
  {
   "cell_type": "code",
   "execution_count": 70,
   "metadata": {},
   "outputs": [
    {
     "name": "stdout",
     "output_type": "stream",
     "text": [
      "[('html', 'jquery')]\n",
      "[('android-widget', 0.0022183086), ('c++-cli', 0.0022942973), ('emulator', 0.0023886724), ('html5-audio', 0.0016526591), ('lisp', 0.0032251477), ('port', 0.0026697055), ('protocols', 0.0020258422), ('refactoring', 0.0031415662), ('screen', 0.0027442609), ('tortoisesvn', 0.001613241)]\n",
      "\n",
      "\n",
      "[('mysql',)]\n",
      "[('android-widget', 0.0024906704), ('asmx', 0.0013895067), ('c++-cli', 0.0025593475), ('cocos2d-iphone', 0.0028913771), ('emulator', 0.002685356), ('html5-audio', 0.0017525568), ('lisp', 0.003288161), ('port', 0.0027290219), ('protocols', 0.0024493763), ('refactoring', 0.0031995317), ('screen', 0.0028625571), ('tortoisesvn', 0.0017926072), ('uwp', 0.003212092), ('vhdl', 0.0019120878), ('wifi', 0.002495531)]\n",
      "\n",
      "\n",
      "[('asp.net', 'nhibernate')]\n",
      "[('anchor', 0.0032107076), ('android-widget', 0.0022452103), ('asmx', 0.0014150558), ('c++-cli', 0.0028340102), ('emulator', 0.0026237445), ('internet-explorer-7', 0.0028248024), ('out-of-memory', 0.0017988536), ('protocols', 0.0021231712), ('refactoring', 0.0025466539), ('screen', 0.0025684899), ('uwp', 0.0032224569), ('vhdl', 0.0020265761), ('webpack', 0.0041658743), ('wicket', 0.0018209543), ('xquery', 0.0016994509)]\n",
      "\n",
      "\n",
      "[('android',)]\n",
      "[('c++-cli', 0.0017457921), ('emulator', 0.002067056), ('protocols', 0.0018446599), ('screen', 0.0019800814)]\n",
      "\n",
      "\n",
      "[('pip', 'python')]\n",
      "[('android-widget', 0.0024024199), ('asmx', 0.0014346309), ('c++-cli', 0.0024863121), ('emulator', 0.002595433), ('html5-audio', 0.0017811396), ('lisp', 0.0034407352), ('port', 0.0028648844), ('protocols', 0.0022362671), ('refactoring', 0.0033190458), ('screen', 0.0029164765), ('tortoisesvn', 0.0017360754), ('wicket', 0.0017822059), ('wifi', 0.002463328), ('windows-azure-storage', 0.0020084814)]\n",
      "\n",
      "\n",
      "[('c#', 'forms')]\n",
      "[('android-widget', 0.0021630165), ('c++-cli', 0.002216418), ('emulator', 0.0023045256), ('port', 0.0025311196), ('protocols', 0.0020590574), ('refactoring', 0.0029636654), ('screen', 0.0025555075), ('tortoisesvn', 0.0015632326)]\n",
      "\n",
      "\n",
      "[('java', 'maven')]\n",
      "[('android-widget', 0.0021974633), ('c++-cli', 0.002287392), ('emulator', 0.0023833651), ('html5-audio', 0.0016423387), ('lisp', 0.0032223789), ('port', 0.0026855527), ('protocols', 0.00199652), ('refactoring', 0.0031289258), ('screen', 0.0027395096), ('tortoisesvn', 0.001582608)]\n",
      "\n",
      "\n",
      "[('c#', 'devexpress', 'vb.net', 'winforms')]\n",
      "[('adb', 0.0022482066), ('android-widget', 0.0026009972), ('c++-cli', 0.0025385511), ('cocos2d-iphone', 0.0032021669), ('emulator', 0.0027168463), ('html5-audio', 0.0018885452), ('in-app-purchase', 0.0026937795), ('lisp', 0.0036122769), ('port', 0.0029891033), ('protocols', 0.0026811971), ('refactoring', 0.0033743202), ('screen', 0.0028940439), ('tortoisesvn', 0.0018997074), ('uwp', 0.0031899407), ('wifi', 0.002681344)]\n",
      "\n",
      "\n",
      "[('ef-code-first',)]\n",
      "[('android-widget', 0.0022097563), ('c++-cli', 0.0023193429), ('emulator', 0.0024316008), ('port', 0.002467538), ('protocols', 0.0021549792), ('refactoring', 0.002855886), ('screen', 0.0025580782), ('tortoisesvn', 0.0015468798)]\n",
      "\n",
      "\n",
      "[('sql', 'sql-server')]\n",
      "[('android-widget', 0.0020790901), ('c++-cli', 0.0021857207), ('emulator', 0.0022559243), ('port', 0.0025464406), ('protocols', 0.0018538374), ('refactoring', 0.0030176898), ('screen', 0.0026360154), ('tortoisesvn', 0.0014991452)]\n",
      "\n",
      "\n"
     ]
    }
   ],
   "source": [
    "# sample result for a couple of test cases\n",
    "num_test_cases = 10\n",
    "threshold=0.05\n",
    "multiplier=20.0\n",
    "relative_difference_threshold = None\n",
    "\n",
    "for i in np.random.randint(low=0, high=len(Y_val), size=num_test_cases):\n",
    "\n",
    "    actual_label_indices = Y_val[i].reshape(1,-1)\n",
    "    predicted_tag_probabilities = model.predict(X_val[i].reshape(1,-1)).ravel()\n",
    "                    \n",
    "    predicted_label_indices = get_predicted_indices_by_tag_doc_fraction(\n",
    "        tag_probabilities_index,\n",
    "        predicted_tag_probabilities,\n",
    "        multiplier=multiplier,\n",
    "    relative_difference_threshold=relative_difference_threshold)\n",
    "        \n",
    "        \n",
    "    actual_labels = lb.inverse_transform(actual_label_indices)\n",
    "    \n",
    "    predicted_labels = lb.inverse_transform(predicted_label_indices.reshape(1,-1))\n",
    "    \n",
    "    scores = predicted_tag_probabilities[predicted_label_indices.nonzero()[1]]\n",
    "    \n",
    "    print(actual_labels)\n",
    "    print( list(zip(predicted_labels[0],scores)) )\n",
    "    print('\\n')\n"
   ]
  },
  {
   "cell_type": "code",
   "execution_count": 71,
   "metadata": {
    "collapsed": true
   },
   "outputs": [],
   "source": [
    "X_test_list = []\n",
    "\n",
    "for validation_features in X_val:\n",
    "    X_test_list.append(validation_features.reshape(1,-1))\n",
    "\n",
    "X_test = np.vstack(X_test_list)    "
   ]
  },
  {
   "cell_type": "code",
   "execution_count": 72,
   "metadata": {},
   "outputs": [
    {
     "name": "stdout",
     "output_type": "stream",
     "text": [
      "micro-averaged F1 score (validation set) is 0.0036984326984961517\n",
      "micro-averaged precision score (validation set) is 0.0022317765597820735\n",
      "micro-averaged recall score (validation set) is 0.010787942887361185\n"
     ]
    }
   ],
   "source": [
    "Y_pred_lst = [model.predict(x_test.reshape(1,-1)) for x_test in X_test]\n",
    "\n",
    "Y_pred_calculated_lst = [get_predicted_indices_by_tag_doc_fraction(\n",
    "    tag_probabilities_index,\n",
    "    y_pred,\n",
    "    multiplier=multiplier,\n",
    "    relative_difference_threshold=relative_difference_threshold) for y_pred in np.vstack(Y_pred_lst)]\n",
    "\n",
    "Y_pred = np.vstack(Y_pred_calculated_lst)\n",
    "\n",
    "Y_val.shape,Y_pred.shape\n",
    "\n",
    "micro_f1 = metrics_helper.calculate_multilabel_metrics(Y_val,Y_pred)\n",
    "print('micro-averaged F1 score (validation set) is {0}'.format(micro_f1))\n",
    "\n",
    "micro_prec = metrics_helper.calculate_multilabel_metrics(Y_val, Y_pred, metric='precision')\n",
    "print('micro-averaged precision score (validation set) is {0}'.format(micro_prec))\n",
    "\n",
    "micro_rec = metrics_helper.calculate_multilabel_metrics(Y_val, Y_pred, metric='recall')\n",
    "print('micro-averaged recall score (validation set) is {0}'.format(micro_rec))"
   ]
  },
  {
   "cell_type": "code",
   "execution_count": null,
   "metadata": {
    "collapsed": true
   },
   "outputs": [],
   "source": []
  },
  {
   "cell_type": "code",
   "execution_count": null,
   "metadata": {
    "collapsed": true
   },
   "outputs": [],
   "source": []
  }
 ],
 "metadata": {
  "kernelspec": {
   "display_name": "Global TF Kernel (Python 3)",
   "language": "python",
   "name": "global-tf-python-3"
  },
  "language_info": {
   "codemirror_mode": {
    "name": "ipython",
    "version": 3
   },
   "file_extension": ".py",
   "mimetype": "text/x-python",
   "name": "python",
   "nbconvert_exporter": "python",
   "pygments_lexer": "ipython3",
   "version": "3.5.2"
  }
 },
 "nbformat": 4,
 "nbformat_minor": 2
}
