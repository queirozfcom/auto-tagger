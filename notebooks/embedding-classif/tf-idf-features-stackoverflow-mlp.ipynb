{
 "cells": [
  {
   "cell_type": "markdown",
   "metadata": {},
   "source": [
    "### classify stackoverflow posts using tf-idf features, using neural nets\n",
    "\n",
    "- note: use the same tokenizer rules as Keras"
   ]
  },
  {
   "cell_type": "code",
   "execution_count": 1,
   "metadata": {},
   "outputs": [
    {
     "name": "stderr",
     "output_type": "stream",
     "text": [
      "Using TensorFlow backend.\n"
     ]
    }
   ],
   "source": [
    "import csv\n",
    "import os\n",
    "import re\n",
    "import sys\n",
    "import numpy as np\n",
    "import tensorflow as tf\n",
    "\n",
    "from keras.preprocessing.text import Tokenizer\n",
    "from keras.preprocessing.sequence import pad_sequences\n",
    "from keras.utils import to_categorical\n",
    "from keras.layers import Dense, Dropout, Input, Flatten, Activation, Lambda\n",
    "from keras.layers import Conv1D, MaxPooling1D, Embedding, GlobalAvgPool1D\n",
    "from keras.models import Model, Sequential\n",
    "\n",
    "from sklearn import preprocessing, svm\n",
    "from sklearn.feature_extraction.text import TfidfVectorizer\n",
    "from sklearn.model_selection import ParameterGrid\n",
    "from sklearn.model_selection import cross_val_score\n",
    "from sklearn.multiclass import OneVsRestClassifier\n",
    "from sklearn.metrics import f1_score, precision_score, recall_score, accuracy_score\n",
    "from sklearn.pipeline import Pipeline\n",
    "\n",
    "# my stuff in the helpers/ directory\n",
    "from helpers import files_helper, texts_helper, metrics_helper, tags_helper"
   ]
  },
  {
   "cell_type": "code",
   "execution_count": 2,
   "metadata": {},
   "outputs": [
    {
     "data": {
      "text/plain": [
       "694"
      ]
     },
     "execution_count": 2,
     "metadata": {},
     "output_type": "execute_result"
    }
   ],
   "source": [
    "SEED=np.random.randint(1,1000)\n",
    "SEED"
   ]
  },
  {
   "cell_type": "code",
   "execution_count": 3,
   "metadata": {
    "collapsed": true
   },
   "outputs": [],
   "source": [
    "np.random.seed(seed=SEED)"
   ]
  },
  {
   "cell_type": "code",
   "execution_count": 4,
   "metadata": {
    "collapsed": true
   },
   "outputs": [],
   "source": [
    "texts, labels = files_helper.read_stackoverflow_sample_small()     "
   ]
  },
  {
   "cell_type": "code",
   "execution_count": 5,
   "metadata": {
    "collapsed": true
   },
   "outputs": [],
   "source": [
    "MAX_NB_WORDS = 20000\n",
    "MAX_SEQUENCE_LENGTH = 1000\n",
    "VALIDATION_SPLIT = 0.2\n",
    "EMBEDDING_DIM=100\n",
    "LABELS_MIN_DOC_COUNT = int(10)\n",
    "BATCH_SIZE=32\n",
    "NUM_EPOCHS=10\n",
    "TOKENIZER_FILTERS='\\'!\"#$%&()*+,-./:;<=>?@[\\\\]^_`{|}~\\t\\n'"
   ]
  },
  {
   "cell_type": "code",
   "execution_count": 6,
   "metadata": {
    "collapsed": true
   },
   "outputs": [],
   "source": [
    "tokenizer = Tokenizer(num_words=MAX_NB_WORDS,\n",
    "                     filters=TOKENIZER_FILTERS)\n",
    "tokenizer.fit_on_texts(texts)\n",
    "sequences = tokenizer.texts_to_sequences(texts)\n",
    "word_index = tokenizer.word_index\n",
    "inverse_word_index = texts_helper.build_inverse_word_index(word_index)"
   ]
  },
  {
   "cell_type": "code",
   "execution_count": 7,
   "metadata": {
    "collapsed": true,
    "scrolled": true
   },
   "outputs": [],
   "source": [
    "truncated_labels = tags_helper.truncate_labels(labels,LABELS_MIN_DOC_COUNT)"
   ]
  },
  {
   "cell_type": "code",
   "execution_count": 8,
   "metadata": {
    "collapsed": true
   },
   "outputs": [],
   "source": [
    "lb = preprocessing.MultiLabelBinarizer()\n",
    "binary_labels = lb.fit_transform(truncated_labels)"
   ]
  },
  {
   "cell_type": "code",
   "execution_count": 9,
   "metadata": {
    "collapsed": true
   },
   "outputs": [],
   "source": [
    "# tag position => fraction of docs having that tag\n",
    "# snooping\n",
    "tag_incidence_index = tags_helper.get_incidence_index(binary_labels)"
   ]
  },
  {
   "cell_type": "code",
   "execution_count": 10,
   "metadata": {
    "collapsed": true
   },
   "outputs": [],
   "source": [
    "tokenized_texts = []\n",
    "\n",
    "for seq in sequences:\n",
    "    truncated_seq = seq[:MAX_SEQUENCE_LENGTH]\n",
    "    tokenized_txt = \" \".join([inverse_word_index[idx] for idx in truncated_seq])\n",
    "    tokenized_texts.append(tokenized_txt)"
   ]
  },
  {
   "cell_type": "code",
   "execution_count": 11,
   "metadata": {
    "collapsed": true
   },
   "outputs": [],
   "source": [
    "data = tokenized_texts\n",
    "indices = np.arange(len(data))\n",
    "np.random.shuffle(indices)\n",
    "\n",
    "labels_1 = binary_labels[indices]\n",
    "\n",
    "data = [data[i] for i in indices]\n",
    "num_validation_samples = int(VALIDATION_SPLIT * len(data))\n",
    "\n",
    "data_train = data[:-num_validation_samples]\n",
    "data_val = data[-num_validation_samples:]"
   ]
  },
  {
   "cell_type": "code",
   "execution_count": null,
   "metadata": {
    "collapsed": true
   },
   "outputs": [],
   "source": []
  },
  {
   "cell_type": "code",
   "execution_count": 12,
   "metadata": {},
   "outputs": [
    {
     "data": {
      "text/plain": [
       "((25600, 19843), (6400, 19843), (25600, 1209), (6400, 1209))"
      ]
     },
     "execution_count": 12,
     "metadata": {},
     "output_type": "execute_result"
    }
   ],
   "source": [
    "# TfidfVectorizer = CountVectorizer + TFidfTransformer\n",
    "\n",
    "# does this configure snooping?\n",
    "vect = TfidfVectorizer(max_features=MAX_NB_WORDS).fit(data)\n",
    "X_train = vect.transform(data_train)\n",
    "X_val = vect.transform(data_val)\n",
    "\n",
    "Y_train = labels_1[:-num_validation_samples]\n",
    "Y_val = labels_1[-num_validation_samples:]\n",
    "\n",
    "X_train = X_train.todense()\n",
    "X_val = X_val.todense()\n",
    "\n",
    "X_train.shape,X_val.shape,Y_train.shape,Y_val.shape"
   ]
  },
  {
   "cell_type": "code",
   "execution_count": 27,
   "metadata": {
    "collapsed": true,
    "scrolled": true
   },
   "outputs": [],
   "source": [
    "model = Sequential()\n",
    "\n",
    "model.add(Dense(64,activation='relu',input_dim=X_train.shape[1]))\n",
    "model.add(Dropout(0.5))\n",
    "model.add(Dense(64,activation='relu'))\n",
    "model.add(Dropout(0.5))\n",
    "\n",
    "model.add(Dense(Y_train.shape[1], activation='sigmoid'))\n",
    "\n",
    "model.compile(loss ='binary_crossentropy',\n",
    "             optimizer='adam')"
   ]
  },
  {
   "cell_type": "code",
   "execution_count": 28,
   "metadata": {},
   "outputs": [
    {
     "name": "stdout",
     "output_type": "stream",
     "text": [
      "Train on 25600 samples, validate on 6400 samples\n",
      "Epoch 1/10\n",
      "25600/25600 [==============================] - 11s - loss: 0.0468 - val_loss: 0.0120\n",
      "Epoch 2/10\n",
      "25600/25600 [==============================] - 11s - loss: 0.0127 - val_loss: 0.0116\n",
      "Epoch 3/10\n",
      "25600/25600 [==============================] - 11s - loss: 0.0124 - val_loss: 0.0116\n",
      "Epoch 4/10\n",
      "25600/25600 [==============================] - 11s - loss: 0.0123 - val_loss: 0.0116\n",
      "Epoch 5/10\n",
      "25600/25600 [==============================] - 11s - loss: 0.0122 - val_loss: 0.0116\n",
      "Epoch 6/10\n",
      "25600/25600 [==============================] - 11s - loss: 0.0120 - val_loss: 0.0115\n",
      "Epoch 7/10\n",
      "25600/25600 [==============================] - 11s - loss: 0.0118 - val_loss: 0.0112\n",
      "Epoch 8/10\n",
      "25600/25600 [==============================] - 10s - loss: 0.0115 - val_loss: 0.0108\n",
      "Epoch 9/10\n",
      "25600/25600 [==============================] - 10s - loss: 0.0112 - val_loss: 0.0106\n",
      "Epoch 10/10\n",
      "25600/25600 [==============================] - 10s - loss: 0.0109 - val_loss: 0.0104\n",
      "CPU times: user 1min 46s, sys: 15.7 s, total: 2min 2s\n",
      "Wall time: 1min 50s\n"
     ]
    },
    {
     "data": {
      "text/plain": [
       "<keras.callbacks.History at 0x7f20846533c8>"
      ]
     },
     "execution_count": 28,
     "metadata": {},
     "output_type": "execute_result"
    }
   ],
   "source": [
    "%%time\n",
    "\n",
    "model.fit(X_train,Y_train, validation_data=(X_val, Y_val),\n",
    "         epochs=NUM_EPOCHS, batch_size=BATCH_SIZE)"
   ]
  },
  {
   "cell_type": "code",
   "execution_count": 29,
   "metadata": {
    "collapsed": true
   },
   "outputs": [],
   "source": [
    "Y_train_pred = []\n",
    "\n",
    "for x_train in X_train:\n",
    "    y_train_pred = model.predict(x_train.reshape(1,-1))\n",
    "    Y_train_pred.append(y_train_pred)\n",
    "\n",
    "Y_train_pred = np.vstack(Y_train_pred)"
   ]
  },
  {
   "cell_type": "code",
   "execution_count": 30,
   "metadata": {
    "collapsed": true
   },
   "outputs": [],
   "source": [
    "tag_probability_index = tags_helper.get_probability_index(Y_train_pred)"
   ]
  },
  {
   "cell_type": "code",
   "execution_count": 31,
   "metadata": {
    "collapsed": true
   },
   "outputs": [],
   "source": [
    "def get_scores(predicted_probabilities, predicted_indices,debug=False):\n",
    "    \"\"\"\n",
    "    predicted_probabilities (output of n sigmoid output units)\n",
    "    predicted_indices (according to some strategy, e.g. static threshold, etc)\n",
    "    \"\"\"\n",
    "    \n",
    "    # indices that are turned on (equal 1)\n",
    "    active_indices = predicted_indices.ravel().nonzero()[0]\n",
    "    \n",
    "    if debug:\n",
    "        print(\"active_indices: {0}\".format(active_indices))\n",
    "    \n",
    "    scores_for_active_indices = predicted_probabilities[active_indices]\n",
    "    \n",
    "    scores_for_active_indices_as_matrix = scores_for_active_indices.reshape(1,-1)\n",
    "    \n",
    "    return scores_for_active_indices_as_matrix"
   ]
  },
  {
   "cell_type": "code",
   "execution_count": 32,
   "metadata": {},
   "outputs": [
    {
     "name": "stdout",
     "output_type": "stream",
     "text": [
      "('mysql', 'sql')\n",
      "[('mysql', 0.045405958), ('sql', 0.030455803)]\n",
      "[('c#', 0.1007242), ('php', 0.09106537), ('javascript', 0.081930041), ('mysql', 0.045405958), ('java', 0.032797832)]\n",
      "\n",
      "\n",
      "('jmeter', 'sockets', 'tcp')\n",
      "[('jmeter', 0.0010490319), ('sockets', 0.00269819), ('tcp', 0.0015959966)]\n",
      "[('java', 0.10699419), ('c#', 0.10270346), ('python', 0.069945998), ('android', 0.052568179), ('c++', 0.03743761)]\n",
      "\n",
      "\n",
      "('html', 'python', 'python-3.x', 'utf-8')\n",
      "[('html', 0.012556964), ('python', 0.046015762), ('python-3.x', 0.0018797769), ('utf-8', 0.00074715132)]\n",
      "[('c#', 0.10835931), ('php', 0.063400105), ('java', 0.052590553), ('python', 0.046015762), ('javascript', 0.042629264)]\n",
      "\n",
      "\n",
      "('sharepoint-2010',)\n",
      "[('sharepoint-2010', 0.00046313854)]\n",
      "[('c#', 0.11171436), ('java', 0.071123652), ('python', 0.058841936), ('php', 0.043891869), ('.net', 0.030625902)]\n",
      "\n",
      "\n",
      "('html', 'javascript')\n",
      "[('html', 0.26131648), ('javascript', 0.41209)]\n",
      "[('javascript', 0.41209), ('jquery', 0.40793902), ('html', 0.26131648), ('css', 0.19336762), ('php', 0.13940886)]\n",
      "\n",
      "\n",
      "('events', 'java', 'swing')\n",
      "[('events', 0.00040872832), ('java', 0.2284542), ('swing', 0.01889473)]\n",
      "[('android', 0.28493562), ('java', 0.2284542), ('python', 0.098349653), ('ios', 0.092121556), ('c++', 0.08939869)]\n",
      "\n",
      "\n",
      "('curl',)\n",
      "[('curl', 0.002401805)]\n",
      "[('c#', 0.1023546), ('java', 0.084144846), ('python', 0.059084605), ('php', 0.038823497), ('android', 0.029999239)]\n",
      "\n",
      "\n",
      "('character', 'encoding', 'encryption', 'string')\n",
      "[('character', 0.00029501732), ('encoding', 0.00071707688), ('encryption', 0.0026246558), ('string', 0.012162142)]\n",
      "[('java', 0.1351169), ('android', 0.095044956), ('c#', 0.089948803), ('python', 0.082580894), ('c++', 0.052385319)]\n",
      "\n",
      "\n",
      "('computer-science', 'computer-vision', 'opencv')\n",
      "[('computer-science', 0.00016849425), ('computer-vision', 0.00010851596), ('opencv', 0.0013737717)]\n",
      "[('java', 0.10416481), ('c#', 0.087233685), ('python', 0.075237945), ('android', 0.055043187), ('c++', 0.040424872)]\n",
      "\n",
      "\n",
      "('c#', 'java', 'mono', 'webgl')\n",
      "[('c#', 0.10114555), ('java', 0.076597974), ('mono', 0.00047367369), ('webgl', 0.00038225364)]\n",
      "[('c#', 0.10114555), ('java', 0.076597974), ('python', 0.047121674), ('php', 0.038105018), ('android', 0.030354779)]\n",
      "\n",
      "\n"
     ]
    }
   ],
   "source": [
    "# sample result for a couple of test cases\n",
    "num_test_cases = 10\n",
    "STRATEGY='raw_probability'\n",
    "THRESHOLD=0.0\n",
    "PROB_INDEX = tag_probability_index\n",
    "INCIDENCE_INDEX = tag_incidence_index\n",
    "LIMIT=5\n",
    "\n",
    "for i in np.random.randint(low=0, high=len(Y_val), size=num_test_cases):\n",
    "\n",
    "    actual_label_indices = Y_val[i].reshape(1,-1)\n",
    "    \n",
    "#     print(actual_label_indices.ravel().nonzero()[0])\n",
    "    \n",
    "    actual_labels = lb.inverse_transform(actual_label_indices)\n",
    "    actual_labels_tpl = actual_labels[0]\n",
    "    \n",
    "    predicted_tag_probabilities = model.predict(X_val[i].reshape(1,-1)).ravel()\n",
    "              \n",
    "    predicted_label_indices = tags_helper.get_tag_assignment(\n",
    "        STRATEGY,\n",
    "        predicted_tag_probabilities,\n",
    "        probability_threshold=THRESHOLD,\n",
    "        tag_probability_index=PROB_INDEX,\n",
    "        tag_incidence_index=INCIDENCE_INDEX,\n",
    "        limit=LIMIT)\n",
    "         \n",
    "    predicted_label_scores_mat = get_scores(\n",
    "        predicted_tag_probabilities,\n",
    "        predicted_label_indices)\n",
    "    \n",
    "    actual_label_scores_mat = get_scores(\n",
    "        predicted_tag_probabilities,\n",
    "        actual_label_indices)\n",
    "    \n",
    "    predicted_label_scores_arr = predicted_label_scores_mat.ravel()\n",
    "    predicted_labels = lb.inverse_transform(predicted_label_indices)\n",
    "    predicted_labels_tpl = predicted_labels[0]\n",
    "      \n",
    "    predicted_tags_and_scores = sorted(list(zip(predicted_labels_tpl,predicted_label_scores_arr)), key=lambda tpl: tpl[1], reverse=True)\n",
    "    \n",
    "    actual_label_scores_arr = actual_label_scores_mat.ravel()\n",
    "    actual_tags_and_scores = list(zip(actual_labels_tpl,actual_label_scores_arr))\n",
    "\n",
    "#     print(actual_labels)    \n",
    "    print(actual_labels_tpl)\n",
    "    print(actual_tags_and_scores)\n",
    "    print(predicted_tags_and_scores)\n",
    "    print('\\n')\n"
   ]
  },
  {
   "cell_type": "code",
   "execution_count": 33,
   "metadata": {
    "collapsed": true
   },
   "outputs": [],
   "source": [
    "X_test_list = []\n",
    "\n",
    "for validation_features in X_val:\n",
    "    X_test_list.append(validation_features.reshape(1,-1))\n",
    "\n",
    "X_test = np.vstack(X_test_list)    "
   ]
  },
  {
   "cell_type": "code",
   "execution_count": 34,
   "metadata": {
    "collapsed": true
   },
   "outputs": [],
   "source": [
    "Y_pred_lst = [model.predict(x_test.reshape(1,-1)) for x_test in X_test]"
   ]
  },
  {
   "cell_type": "code",
   "execution_count": 35,
   "metadata": {},
   "outputs": [
    {
     "data": {
      "text/plain": [
       "((6400, 1209), (6400, 1209))"
      ]
     },
     "execution_count": 35,
     "metadata": {},
     "output_type": "execute_result"
    }
   ],
   "source": [
    "Y_pred_calculated_lst = [tags_helper.get_tag_assignment(\n",
    "    STRATEGY,\n",
    "    y_pred,\n",
    "    probability_threshold=THRESHOLD,\n",
    "    tag_probability_index=PROB_INDEX,\n",
    "    tag_incidence_index=INCIDENCE_INDEX,\n",
    "    limit=LIMIT) for y_pred in np.vstack(Y_pred_lst)]\n",
    "\n",
    "Y_pred = np.vstack(Y_pred_calculated_lst)\n",
    "\n",
    "Y_val.shape,Y_pred.shape"
   ]
  },
  {
   "cell_type": "code",
   "execution_count": 36,
   "metadata": {},
   "outputs": [
    {
     "name": "stdout",
     "output_type": "stream",
     "text": [
      "micro-averaged F1 score (validation set) is 0.18318453336758944\n",
      "micro-averaged precision score (validation set) is 0.1336875\n",
      "micro-averaged recall score (validation set) is 0.2908818929761338\n"
     ]
    }
   ],
   "source": [
    "micro_f1 = metrics_helper.calculate_multilabel_metrics(Y_val,Y_pred)\n",
    "print('micro-averaged F1 score (validation set) is {0}'.format(micro_f1))\n",
    "\n",
    "micro_prec = metrics_helper.calculate_multilabel_metrics(Y_val, Y_pred, metric='precision')\n",
    "print('micro-averaged precision score (validation set) is {0}'.format(micro_prec))\n",
    "\n",
    "micro_rec = metrics_helper.calculate_multilabel_metrics(Y_val, Y_pred, metric='recall')\n",
    "print('micro-averaged recall score (validation set) is {0}'.format(micro_rec))"
   ]
  },
  {
   "cell_type": "code",
   "execution_count": null,
   "metadata": {
    "collapsed": true
   },
   "outputs": [],
   "source": []
  }
 ],
 "metadata": {
  "kernelspec": {
   "display_name": "Global TF Kernel (Python 3)",
   "language": "python",
   "name": "global-tf-python-3"
  },
  "language_info": {
   "codemirror_mode": {
    "name": "ipython",
    "version": 3
   },
   "file_extension": ".py",
   "mimetype": "text/x-python",
   "name": "python",
   "nbconvert_exporter": "python",
   "pygments_lexer": "ipython3",
   "version": "3.5.2"
  }
 },
 "nbformat": 4,
 "nbformat_minor": 2
}
