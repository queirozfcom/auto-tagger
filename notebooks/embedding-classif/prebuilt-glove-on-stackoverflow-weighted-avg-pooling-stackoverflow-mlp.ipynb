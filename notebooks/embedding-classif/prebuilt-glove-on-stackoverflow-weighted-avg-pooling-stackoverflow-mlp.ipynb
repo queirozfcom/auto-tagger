{
 "cells": [
  {
   "cell_type": "markdown",
   "metadata": {},
   "source": [
    "### classify stackoverflow posts by considering each document a weighted mean of its individual word embeddings (glove trained on stackoverflow corpus), then using individual tag probabilities to assign tags to samples"
   ]
  },
  {
   "cell_type": "code",
   "execution_count": 13,
   "metadata": {},
   "outputs": [],
   "source": [
    "import csv\n",
    "import os\n",
    "import re\n",
    "import sys\n",
    "import numpy as np\n",
    "\n",
    "from keras.preprocessing.text import Tokenizer\n",
    "from keras.preprocessing.sequence import pad_sequences\n",
    "from keras.utils import to_categorical\n",
    "from keras.layers import Dense, Dropout, Input, Flatten, Activation\n",
    "from keras.layers import Conv1D, MaxPooling1D, Embedding, GlobalAvgPool1D\n",
    "from keras.models import Model, Sequential\n",
    "\n",
    "from sklearn import preprocessing\n",
    "from sklearn.feature_extraction.text import CountVectorizer, TfidfVectorizer\n",
    "\n",
    "# my stuff in the helpers/ directory\n",
    "from helpers import embeddings_helper, files_helper, texts_helper, metrics_helper, tags_helper"
   ]
  },
  {
   "cell_type": "code",
   "execution_count": 2,
   "metadata": {},
   "outputs": [
    {
     "data": {
      "text/plain": [
       "846"
      ]
     },
     "execution_count": 2,
     "metadata": {},
     "output_type": "execute_result"
    }
   ],
   "source": [
    "SEED=np.random.randint(1,1000)\n",
    "SEED"
   ]
  },
  {
   "cell_type": "code",
   "execution_count": 3,
   "metadata": {
    "collapsed": true
   },
   "outputs": [],
   "source": [
    "np.random.seed(SEED)"
   ]
  },
  {
   "cell_type": "code",
   "execution_count": 4,
   "metadata": {
    "collapsed": true
   },
   "outputs": [],
   "source": [
    "texts, labels = files_helper.read_stackoverflow_sample_small_stanford_tokenized()"
   ]
  },
  {
   "cell_type": "code",
   "execution_count": 5,
   "metadata": {
    "collapsed": true
   },
   "outputs": [],
   "source": [
    "MAX_NB_WORDS = 200000\n",
    "MAX_SEQUENCE_LENGTH = 1000\n",
    "VALIDATION_SPLIT = 0.2\n",
    "LABELS_MIN_DOC_COUNT = int(10)\n",
    "BATCH_SIZE=32\n",
    "EMBEDDING_DIM=50\n",
    "NUM_EPOCHS=10\n",
    "TOKENIZER_FILTERS='' # I will perform tokenization myself"
   ]
  },
  {
   "cell_type": "code",
   "execution_count": 6,
   "metadata": {},
   "outputs": [],
   "source": [
    "tokenizer = Tokenizer(num_words=MAX_NB_WORDS,\n",
    "                     filters=TOKENIZER_FILTERS)\n",
    "tokenizer.fit_on_texts(texts)\n",
    "sequences = tokenizer.texts_to_sequences(texts)\n",
    "word_index = tokenizer.word_index\n",
    "inverse_word_index = texts_helper.build_inverse_word_index(word_index)"
   ]
  },
  {
   "cell_type": "code",
   "execution_count": 7,
   "metadata": {
    "collapsed": true
   },
   "outputs": [],
   "source": [
    "truncated_labels = tags_helper.truncate_labels(labels,LABELS_MIN_DOC_COUNT)"
   ]
  },
  {
   "cell_type": "code",
   "execution_count": 8,
   "metadata": {
    "collapsed": true
   },
   "outputs": [],
   "source": [
    "lb = preprocessing.MultiLabelBinarizer()\n",
    "binary_labels = lb.fit_transform(truncated_labels)"
   ]
  },
  {
   "cell_type": "code",
   "execution_count": 9,
   "metadata": {
    "collapsed": true
   },
   "outputs": [],
   "source": [
    "# tag position => fraction of docs having that tag\n",
    "# snooping\n",
    "tag_incidence_index = tags_helper.get_incidence_index(binary_labels)"
   ]
  },
  {
   "cell_type": "code",
   "execution_count": 10,
   "metadata": {
    "collapsed": true
   },
   "outputs": [],
   "source": [
    "# make each document (sequence of word indices) be truncated to \n",
    "# MAX_SEQUENCE_LENGTH\n",
    "tokenized_texts = []\n",
    "\n",
    "for seq in sequences:\n",
    "    truncated_seq = seq[:MAX_SEQUENCE_LENGTH]\n",
    "    tokenized_txt = \" \".join([inverse_word_index[idx] for idx in truncated_seq])\n",
    "    tokenized_texts.append(tokenized_txt)"
   ]
  },
  {
   "cell_type": "code",
   "execution_count": 11,
   "metadata": {},
   "outputs": [
    {
     "name": "stdout",
     "output_type": "stream",
     "text": [
      "overall, 102246 out of 163074 embeddings were weighted. Total available embeddings: 799210\n"
     ]
    }
   ],
   "source": [
    "# extracting IDF weights to weight the embeddings\n",
    "\n",
    "# snooping\n",
    "vect = TfidfVectorizer(max_features=MAX_NB_WORDS).fit(tokenized_texts)\n",
    "\n",
    "feature_names = vect.get_feature_names()\n",
    "idf = vect.idf_\n",
    "idf_index = dict(zip(vect.get_feature_names(), idf))\n",
    "\n",
    "embeddings_index = files_helper.read_glove_stackoverflow_weighted(\n",
    "    weight_index=idf_index)"
   ]
  },
  {
   "cell_type": "code",
   "execution_count": 14,
   "metadata": {},
   "outputs": [],
   "source": [
    "embedding_matrix = embeddings_helper.build_embedding_matrix(\n",
    "    word_index, \n",
    "    embeddings_index, \n",
    "    MAX_NB_WORDS, \n",
    "    EMBEDDING_DIM)"
   ]
  },
  {
   "cell_type": "code",
   "execution_count": 15,
   "metadata": {},
   "outputs": [
    {
     "data": {
      "text/plain": [
       "(221514, 50)"
      ]
     },
     "execution_count": 15,
     "metadata": {},
     "output_type": "execute_result"
    }
   ],
   "source": [
    "embedding_matrix.shape"
   ]
  },
  {
   "cell_type": "code",
   "execution_count": 16,
   "metadata": {},
   "outputs": [
    {
     "data": {
      "text/plain": [
       "((32000, 1000), (32000, 1209))"
      ]
     },
     "execution_count": 16,
     "metadata": {},
     "output_type": "execute_result"
    }
   ],
   "source": [
    "data = pad_sequences(sequences,maxlen=MAX_SEQUENCE_LENGTH)\n",
    "\n",
    "indices = np.arange(data.shape[0])\n",
    "np.random.shuffle(indices)\n",
    "\n",
    "data = data[indices]\n",
    "labels_1 = binary_labels[indices]\n",
    "num_validation_samples = int(VALIDATION_SPLIT * data.shape[0])\n",
    "\n",
    "X_train = data[:-num_validation_samples]\n",
    "Y_train = labels_1[:-num_validation_samples]\n",
    "X_val = data[-num_validation_samples:]\n",
    "Y_val = labels_1[-num_validation_samples:]\n",
    "\n",
    "data.shape,labels_1.shape"
   ]
  },
  {
   "cell_type": "code",
   "execution_count": 46,
   "metadata": {},
   "outputs": [
    {
     "name": "stdout",
     "output_type": "stream",
     "text": [
      "Train on 25600 samples, validate on 6400 samples\n",
      "Epoch 1/10\n",
      "25600/25600 [==============================] - 27s - loss: 0.0411 - val_loss: 0.0127\n",
      "Epoch 2/10\n",
      "25600/25600 [==============================] - 27s - loss: 0.0132 - val_loss: 0.0120\n",
      "Epoch 3/10\n",
      "25600/25600 [==============================] - 27s - loss: 0.0127 - val_loss: 0.0117\n",
      "Epoch 4/10\n",
      "25600/25600 [==============================] - 26s - loss: 0.0125 - val_loss: 0.0116\n",
      "Epoch 5/10\n",
      "25600/25600 [==============================] - 26s - loss: 0.0122 - val_loss: 0.0113\n",
      "Epoch 6/10\n",
      "25600/25600 [==============================] - 27s - loss: 0.0118 - val_loss: 0.0109\n",
      "Epoch 7/10\n",
      "25600/25600 [==============================] - 27s - loss: 0.0114 - val_loss: 0.0105\n",
      "Epoch 8/10\n",
      "25600/25600 [==============================] - 26s - loss: 0.0111 - val_loss: 0.0103\n",
      "Epoch 9/10\n",
      "25600/25600 [==============================] - 26s - loss: 0.0107 - val_loss: 0.0099\n",
      "Epoch 10/10\n",
      "25600/25600 [==============================] - 26s - loss: 0.0104 - val_loss: 0.0096\n",
      "CPU times: user 4min 2s, sys: 41.7 s, total: 4min 44s\n",
      "Wall time: 4min 30s\n"
     ]
    }
   ],
   "source": [
    "%%time\n",
    "\n",
    "num_labels = labels_1.shape[1]\n",
    "\n",
    "model = Sequential()\n",
    "\n",
    "model.add(Embedding(len(word_index)+1,\n",
    "                           EMBEDDING_DIM,\n",
    "                           weights=[embedding_matrix],\n",
    "                           trainable = True))\n",
    "\n",
    "model.add(GlobalAvgPool1D())\n",
    "\n",
    "model.add(Dense(64,activation='relu'))\n",
    "model.add(Dropout(0.5))\n",
    "model.add(Dense(64,activation='relu'))\n",
    "model.add(Dropout(0.5))\n",
    "\n",
    "model.add(Dense(num_labels))\n",
    "model.add(Activation('sigmoid'))\n",
    "\n",
    "model.compile(loss='binary_crossentropy',\n",
    "              optimizer='adam')\n",
    "\n",
    "# loss doesn't get better after 5 epochs\n",
    "model.fit(X_train, Y_train,\n",
    "                    batch_size=BATCH_SIZE,\n",
    "                    epochs=NUM_EPOCHS,\n",
    "                    verbose=1,\n",
    "                    validation_data=(X_val,Y_val))"
   ]
  },
  {
   "cell_type": "code",
   "execution_count": 48,
   "metadata": {
    "collapsed": true
   },
   "outputs": [],
   "source": [
    "Y_train_pred = []\n",
    "\n",
    "for x_train in X_train:\n",
    "    y_train_pred = model.predict(x_train.reshape(1,-1))\n",
    "    Y_train_pred.append(y_train_pred)\n",
    "\n",
    "Y_train_pred = np.vstack(Y_train_pred)"
   ]
  },
  {
   "cell_type": "code",
   "execution_count": 49,
   "metadata": {
    "collapsed": true
   },
   "outputs": [],
   "source": [
    "tag_probability_index = tags_helper.get_probability_index(Y_train_pred)"
   ]
  },
  {
   "cell_type": "code",
   "execution_count": 50,
   "metadata": {
    "collapsed": true
   },
   "outputs": [],
   "source": [
    "def get_scores(predicted_probabilities, predicted_indices,debug=False):\n",
    "    \"\"\"\n",
    "    predicted_probabilities (output of n sigmoid output units)\n",
    "    predicted_indices (according to some strategy, e.g. static threshold, etc)\n",
    "    \"\"\"\n",
    "    \n",
    "    # indices that are turned on (equal 1)\n",
    "    active_indices = predicted_indices.ravel().nonzero()[0]\n",
    "    \n",
    "    if debug:\n",
    "        print(\"active_indices: {0}\".format(active_indices))\n",
    "    \n",
    "    scores_for_active_indices = predicted_probabilities[active_indices]\n",
    "    \n",
    "    scores_for_active_indices_as_matrix = scores_for_active_indices.reshape(1,-1)\n",
    "    \n",
    "    return scores_for_active_indices_as_matrix\n",
    "    "
   ]
  },
  {
   "cell_type": "code",
   "execution_count": 71,
   "metadata": {},
   "outputs": [
    {
     "name": "stdout",
     "output_type": "stream",
     "text": [
      "('html', 'mysql', 'php')\n",
      "[('html', 0.072280496), ('mysql', 0.044984099), ('php', 0.2067344)]\n",
      "[('web-scraping', 0.00293861), ('html-table', 0.0020537358), ('beautifulsoup', 0.0012230503), ('capybara', 0.0012073491), ('vue.js', 0.00088926742)]\n",
      "\n",
      "\n",
      "('cell', 'javafx')\n",
      "[('cell', 0.00011768477), ('javafx', 0.0017042948)]\n",
      "[('gwt', 0.0021663269), ('primefaces', 0.0012884639), ('firebase', 0.00071093487), ('xpages', 0.00042403385), ('response', 0.00036823365)]\n",
      "\n",
      "\n",
      "('audio', 'c++')\n",
      "[('audio', 0.0072196075), ('c++', 0.10214677)]\n",
      "[('opengl', 0.0075920215), ('opengl-es', 0.0064700674), ('glsl', 0.003422909), ('graphics', 0.0033470115), ('shader', 0.0018764668)]\n",
      "\n",
      "\n",
      "('oracle', 'oracle11g')\n",
      "[('oracle', 0.01047726), ('oracle11g', 0.00095359358)]\n",
      "[('pandas', 0.011447133), ('pdo', 0.0088746762), ('mysqli', 0.0071402732), ('count', 0.0055299988), ('data.table', 0.002202542)]\n",
      "\n",
      "\n",
      "('ios', 'ios8', 'ipad', 'javascript', 'web-applications')\n",
      "[('ios', 0.17652351), ('ios8', 0.0026233315), ('ipad', 0.021905826), ('javascript', 0.094766796), ('web-applications', 0.00078132743)]\n",
      "[('uiscrollview', 0.011889848), ('uinavigationcontroller', 0.0042960211), ('uiimagepickercontroller', 0.004191604), ('uilabel', 0.0035468624), ('core-animation', 0.0030170914)]\n",
      "\n",
      "\n",
      "('java', 'jvm')\n",
      "[('java', 0.097627297), ('jvm', 0.00054916454)]\n",
      "[('intellij-idea', 0.0013796628), ('singleton', 0.00042281064), ('usb', 0.00042148869), ('version', 0.00031692811), ('google-cloud-messaging', 0.00015158299)]\n",
      "\n",
      "\n",
      "('realm', 'swift')\n",
      "[('realm', 0.00046403008), ('swift', 0.012590087)]\n",
      "[('vagrant', 0.0021696463), ('gem', 0.0015221547), ('rubygems', 0.00076724711), ('chef', 0.00066650979), ('puppet', 0.00066578033)]\n",
      "\n",
      "\n",
      "('google-api', 'jquery')\n",
      "[('google-api', 0.00048519278), ('jquery', 0.26244333)]\n",
      "[('angularjs', 0.14022686), ('ajax', 0.13686688), ('.htaccess', 0.027421273), ('redirect', 0.014027686), ('datatables', 0.0023851923)]\n",
      "\n",
      "\n",
      "('c#', 'function')\n",
      "[('c#', 0.04823317), ('function', 0.0035849377)]\n",
      "[('arrays', 0.01873011), ('templates', 0.0021994424), ('random', 0.0015580553), ('functional-programming', 0.00090267754), ('integer', 0.00034241713)]\n",
      "\n",
      "\n",
      "('audio', 'processing', 'python')\n",
      "[('audio', 0.0047855601), ('processing', 0.00067165028), ('python', 0.026485937)]\n",
      "[('image-processing', 0.0029123542), ('pygame', 0.00084798614), ('shader', 0.00081962819), ('gtk', 0.00049976417), ('screen', 0.00044935802)]\n",
      "\n",
      "\n"
     ]
    }
   ],
   "source": [
    "# sample result for a couple of test cases\n",
    "num_test_cases = 10\n",
    "STRATEGY= 'relative_difference_wrt_estimated_tag_probability'\n",
    "THRESHOLD=0.0\n",
    "PROB_INDEX = tag_probability_index\n",
    "INCIDENCE_INDEX = tag_incidence_index\n",
    "LIMIT=5\n",
    "\n",
    "for i in np.random.randint(low=0, high=len(Y_val), size=num_test_cases):\n",
    "\n",
    "    actual_label_indices = Y_val[i].reshape(1,-1)\n",
    "    \n",
    "#     print(actual_label_indices.ravel().nonzero()[0])\n",
    "    \n",
    "    actual_labels = lb.inverse_transform(actual_label_indices)\n",
    "    actual_labels_tpl = actual_labels[0]\n",
    "    \n",
    "    predicted_tag_probabilities = model.predict(X_val[i].reshape(1,-1)).ravel()\n",
    "              \n",
    "    predicted_label_indices = tags_helper.get_tag_assignment(\n",
    "        STRATEGY,\n",
    "        predicted_tag_probabilities,\n",
    "        probability_threshold=THRESHOLD,\n",
    "        tag_probability_index=PROB_INDEX,\n",
    "        tag_incidence_index=INCIDENCE_INDEX,\n",
    "        limit=LIMIT)\n",
    "         \n",
    "    predicted_label_scores_mat = get_scores(\n",
    "        predicted_tag_probabilities,\n",
    "        predicted_label_indices)\n",
    "    \n",
    "    actual_label_scores_mat = get_scores(\n",
    "        predicted_tag_probabilities,\n",
    "        actual_label_indices)\n",
    "    \n",
    "    predicted_label_scores_arr = predicted_label_scores_mat.ravel()\n",
    "    predicted_labels = lb.inverse_transform(predicted_label_indices)\n",
    "    predicted_labels_tpl = predicted_labels[0]\n",
    "      \n",
    "    predicted_tags_and_scores = sorted(list(zip(predicted_labels_tpl,predicted_label_scores_arr)), key=lambda tpl: tpl[1], reverse=True)\n",
    "    \n",
    "    actual_label_scores_arr = actual_label_scores_mat.ravel()\n",
    "    actual_tags_and_scores = list(zip(actual_labels_tpl,actual_label_scores_arr))\n",
    "\n",
    "#     print(actual_labels)    \n",
    "    print(actual_labels_tpl)\n",
    "    print(actual_tags_and_scores)\n",
    "    print(predicted_tags_and_scores)\n",
    "    print('\\n')\n"
   ]
  },
  {
   "cell_type": "code",
   "execution_count": 72,
   "metadata": {
    "collapsed": true
   },
   "outputs": [],
   "source": [
    "X_test_list = []\n",
    "\n",
    "for validation_features in X_val:\n",
    "    X_test_list.append(validation_features.reshape(1,-1))\n",
    "\n",
    "X_test = np.vstack(X_test_list)    "
   ]
  },
  {
   "cell_type": "code",
   "execution_count": 73,
   "metadata": {
    "collapsed": true
   },
   "outputs": [],
   "source": [
    "Y_pred_lst = [model.predict(x_test.reshape(1,-1)) for x_test in X_test]"
   ]
  },
  {
   "cell_type": "code",
   "execution_count": 74,
   "metadata": {},
   "outputs": [
    {
     "data": {
      "text/plain": [
       "((6400, 1209), (6400, 1209))"
      ]
     },
     "execution_count": 74,
     "metadata": {},
     "output_type": "execute_result"
    }
   ],
   "source": [
    "Y_pred_calculated_lst = [tags_helper.get_tag_assignment(\n",
    "    STRATEGY,\n",
    "    y_pred,\n",
    "    probability_threshold=THRESHOLD,\n",
    "    tag_probability_index=PROB_INDEX,\n",
    "    tag_incidence_index=INCIDENCE_INDEX,\n",
    "    limit=LIMIT) for y_pred in np.vstack(Y_pred_lst)]\n",
    "\n",
    "Y_pred = np.vstack(Y_pred_calculated_lst)\n",
    "\n",
    "Y_val.shape,Y_pred.shape"
   ]
  },
  {
   "cell_type": "code",
   "execution_count": 75,
   "metadata": {},
   "outputs": [
    {
     "name": "stdout",
     "output_type": "stream",
     "text": [
      "micro-averaged F1 score (validation set) is 0.06202842791493\n",
      "micro-averaged precision score (validation set) is 0.04534375\n",
      "micro-averaged recall score (validation set) is 0.09814000676361177\n"
     ]
    }
   ],
   "source": [
    "micro_f1 = metrics_helper.calculate_multilabel_metrics(Y_val,Y_pred)\n",
    "print('micro-averaged F1 score (validation set) is {0}'.format(micro_f1))\n",
    "\n",
    "micro_prec = metrics_helper.calculate_multilabel_metrics(Y_val, Y_pred, metric='precision')\n",
    "print('micro-averaged precision score (validation set) is {0}'.format(micro_prec))\n",
    "\n",
    "micro_rec = metrics_helper.calculate_multilabel_metrics(Y_val, Y_pred, metric='recall')\n",
    "print('micro-averaged recall score (validation set) is {0}'.format(micro_rec))"
   ]
  }
 ],
 "metadata": {
  "kernelspec": {
   "display_name": "Global TF Kernel (Python 3)",
   "language": "python",
   "name": "global-tf-python-3"
  },
  "language_info": {
   "codemirror_mode": {
    "name": "ipython",
    "version": 3
   },
   "file_extension": ".py",
   "mimetype": "text/x-python",
   "name": "python",
   "nbconvert_exporter": "python",
   "pygments_lexer": "ipython3",
   "version": "3.5.2"
  }
 },
 "nbformat": 4,
 "nbformat_minor": 2
}
