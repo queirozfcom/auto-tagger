{
 "cells": [
  {
   "cell_type": "markdown",
   "metadata": {},
   "source": [
    "### classify stackoverflow posts using tf-idf features, using one-vs-all SVM\n",
    "\n",
    "- note: use the same tokenizer rules as Keras"
   ]
  },
  {
   "cell_type": "code",
   "execution_count": 1,
   "metadata": {},
   "outputs": [
    {
     "name": "stderr",
     "output_type": "stream",
     "text": [
      "Using TensorFlow backend.\n"
     ]
    }
   ],
   "source": [
    "import csv\n",
    "import os\n",
    "import re\n",
    "import sys\n",
    "import numpy as np\n",
    "import tensorflow as tf\n",
    "\n",
    "from keras.preprocessing.text import Tokenizer\n",
    "from keras.preprocessing.sequence import pad_sequences\n",
    "from keras.utils import to_categorical\n",
    "from keras.layers import Dense, Dropout, Input, Flatten, Activation, Lambda\n",
    "from keras.layers import Conv1D, MaxPooling1D, Embedding, GlobalAvgPool1D\n",
    "from keras.models import Model, Sequential\n",
    "\n",
    "from sklearn import preprocessing, svm\n",
    "from sklearn.feature_extraction.text import CountVectorizer,TfidfTransformer\n",
    "from sklearn.model_selection import ParameterGrid\n",
    "from sklearn.model_selection import cross_val_score\n",
    "from sklearn.multiclass import OneVsRestClassifier\n",
    "from sklearn.metrics import f1_score, precision_score, recall_score\n",
    "from sklearn.pipeline import Pipeline\n",
    "\n",
    "# my stuff in the helpers/ directory\n",
    "from helpers import files_helper, texts_helper, metrics_helper, tags_helper"
   ]
  },
  {
   "cell_type": "code",
   "execution_count": 2,
   "metadata": {},
   "outputs": [
    {
     "data": {
      "text/plain": [
       "795"
      ]
     },
     "execution_count": 2,
     "metadata": {},
     "output_type": "execute_result"
    }
   ],
   "source": [
    "SEED=np.random.randint(1,1000)\n",
    "SEED"
   ]
  },
  {
   "cell_type": "code",
   "execution_count": 3,
   "metadata": {
    "collapsed": true
   },
   "outputs": [],
   "source": [
    "np.random.seed(seed=SEED)"
   ]
  },
  {
   "cell_type": "code",
   "execution_count": 4,
   "metadata": {
    "collapsed": true
   },
   "outputs": [],
   "source": [
    "texts, labels = files_helper.read_stackoverflow_sample_small()"
   ]
  },
  {
   "cell_type": "code",
   "execution_count": 5,
   "metadata": {
    "collapsed": true
   },
   "outputs": [],
   "source": [
    "MAX_NB_WORDS = 20000\n",
    "MAX_SEQUENCE_LENGTH = 1000\n",
    "VALIDATION_SPLIT = 0.2\n",
    "EMBEDDING_DIM=100\n",
    "LABELS_MIN_DOC_COUNT = int(10)\n",
    "BATCH_SIZE=32\n",
    "NUM_EPOCHS=10"
   ]
  },
  {
   "cell_type": "code",
   "execution_count": 6,
   "metadata": {
    "collapsed": true
   },
   "outputs": [],
   "source": [
    "tokenizer = Tokenizer(num_words=MAX_NB_WORDS,\n",
    "                     filters='\\'!\"#$%&()*+,-./:;<=>?@[\\\\]^_`{|}~\\t\\n')\n",
    "tokenizer.fit_on_texts(texts)\n",
    "sequences = tokenizer.texts_to_sequences(texts)\n",
    "word_index = tokenizer.word_index\n",
    "inverse_word_index = texts_helper.build_inverse_word_index(word_index)"
   ]
  },
  {
   "cell_type": "code",
   "execution_count": 7,
   "metadata": {
    "scrolled": true
   },
   "outputs": [
    {
     "data": {
      "text/plain": [
       "['apply',\n",
       " 'onclick',\n",
       " 'event',\n",
       " 'to',\n",
       " 'an',\n",
       " 'option',\n",
       " 'i',\n",
       " 'am',\n",
       " 'using',\n",
       " 'zend',\n",
       " 'form',\n",
       " 'to',\n",
       " 'create',\n",
       " 'a',\n",
       " 'form',\n",
       " 'i',\n",
       " 'am',\n",
       " 'also',\n",
       " 'using',\n",
       " 'mootools',\n",
       " 'for',\n",
       " 'javascript',\n",
       " 'this',\n",
       " 'gt',\n",
       " 'radio',\n",
       " 'alone',\n",
       " 'array',\n",
       " 'label',\n",
       " 'gt',\n",
       " 'are',\n",
       " 'you',\n",
       " 'going',\n",
       " 'to',\n",
       " 'be',\n",
       " 'taking',\n",
       " 'part',\n",
       " 'with',\n",
       " 'anyone',\n",
       " 'else',\n",
       " 'required',\n",
       " 'gt',\n",
       " 'true',\n",
       " 'onclick',\n",
       " 'gt',\n",
       " 'gt',\n",
       " 'array',\n",
       " 'yes',\n",
       " 'gt',\n",
       " 'yes',\n",
       " 'no',\n",
       " 'gt',\n",
       " 'no',\n",
       " 'at',\n",
       " 'the',\n",
       " 'moment',\n",
       " 'the',\n",
       " 'onclick',\n",
       " 'event',\n",
       " 'works',\n",
       " 'if',\n",
       " 'any',\n",
       " 'option',\n",
       " 'is',\n",
       " 'selected',\n",
       " 'how',\n",
       " 'do',\n",
       " 'i',\n",
       " 'get',\n",
       " 'it',\n",
       " 'to',\n",
       " 'work',\n",
       " 'for',\n",
       " 'just',\n",
       " 'yes',\n",
       " 'being',\n",
       " 'selected']"
      ]
     },
     "execution_count": 7,
     "metadata": {},
     "output_type": "execute_result"
    }
   ],
   "source": [
    "[inverse_word_index[idx] for idx in sequences[0]]"
   ]
  },
  {
   "cell_type": "code",
   "execution_count": 8,
   "metadata": {
    "collapsed": true
   },
   "outputs": [],
   "source": [
    "truncated_labels = tags_helper.truncate_labels(labels,LABELS_MIN_DOC_COUNT)"
   ]
  },
  {
   "cell_type": "code",
   "execution_count": 9,
   "metadata": {
    "collapsed": true
   },
   "outputs": [],
   "source": [
    "lb = preprocessing.MultiLabelBinarizer()\n",
    "binary_labels = lb.fit_transform(truncated_labels)"
   ]
  },
  {
   "cell_type": "code",
   "execution_count": 10,
   "metadata": {
    "collapsed": true
   },
   "outputs": [],
   "source": [
    "# tag position => fraction of docs having that tag\n",
    "tag_probabilities_index = tags_helper.get_probabilities_index(binary_labels)"
   ]
  },
  {
   "cell_type": "code",
   "execution_count": 11,
   "metadata": {
    "collapsed": true
   },
   "outputs": [],
   "source": [
    "tokenized_texts = []\n",
    "\n",
    "for seq in sequences:\n",
    "    truncated_seq = seq[:MAX_SEQUENCE_LENGTH]\n",
    "    tokenized_txt = \" \".join([inverse_word_index[idx] for idx in truncated_seq])\n",
    "    tokenized_texts.append(tokenized_txt)"
   ]
  },
  {
   "cell_type": "code",
   "execution_count": 12,
   "metadata": {},
   "outputs": [
    {
     "data": {
      "text/plain": [
       "(25600, 6400, (25600, 1209), (6400, 1209))"
      ]
     },
     "execution_count": 12,
     "metadata": {},
     "output_type": "execute_result"
    }
   ],
   "source": [
    "data = tokenized_texts\n",
    "indices = np.arange(len(data))\n",
    "np.random.shuffle(indices)\n",
    "\n",
    "data = [data[i] for i in indices]\n",
    "labels_1 = binary_labels[indices]\n",
    "num_validation_samples = int(VALIDATION_SPLIT * len(data))\n",
    "\n",
    "X_train = data[:-num_validation_samples]\n",
    "Y_train = labels_1[:-num_validation_samples]\n",
    "X_val = data[-num_validation_samples:]\n",
    "Y_val = labels_1[-num_validation_samples:]\n",
    "\n",
    "len(X_train),len(X_val),Y_train.shape,Y_val.shape"
   ]
  },
  {
   "cell_type": "code",
   "execution_count": 13,
   "metadata": {
    "scrolled": true
   },
   "outputs": [],
   "source": [
    "# bad order:\n",
    "\n",
    "# clf = OneVsRestClassifier(Pipeline([\n",
    "#     ('vect', CountVectorizer()),\n",
    "#     ('tfidf', TfidfTransformer()),\n",
    "#     ('clf', svm.LinearSVC()),\n",
    "# ]), n_jobs=-1)\n",
    "\n",
    "\n",
    "# good order (OVR just for the SVM, of course!)\n",
    "clf = Pipeline([\n",
    "    ('vect', CountVectorizer()),\n",
    "    ('tfidf', TfidfTransformer()),\n",
    "    ('clf', OneVsRestClassifier(svm.LinearSVC(),n_jobs=-1)),\n",
    "])\n",
    "\n",
    "parameters = [\n",
    "    { \n",
    "          \"clf__estimator__penalty\": [\"l2\"],\n",
    "          \"clf__estimator__dual\":[False,True],\n",
    "          \"clf__estimator__multi_class\":[\"crammer_singer\",\"ovr\"],\n",
    "          \"clf__estimator__tol\": [0.001],\n",
    "          \"clf__estimator__max_iter\":[25,50,100],       \n",
    "          \"vect__max_features\": [MAX_NB_WORDS]  \n",
    "    },\n",
    "    { \n",
    "          \"clf__estimator__penalty\": [\"l1\"],\n",
    "          \"clf__estimator__dual\":[False],\n",
    "          \"clf__estimator__multi_class\":[\"crammer_singer\",\"ovr\"],\n",
    "          \"clf__estimator__tol\": [0.001],\n",
    "          \"clf__estimator__max_iter\":[25,50,100],\n",
    "          \"vect__max_features\": [MAX_NB_WORDS]  \n",
    "    }    \n",
    "]"
   ]
  },
  {
   "cell_type": "code",
   "execution_count": 14,
   "metadata": {},
   "outputs": [
    {
     "name": "stdout",
     "output_type": "stream",
     "text": [
      "train micro-F1: 0.881497805514917\n",
      "val micro-F1: 0.46662272855663306\n",
      "grid: {'clf__estimator__dual': False, 'clf__estimator__tol': 0.001, 'vect__max_features': 20000, 'clf__estimator__multi_class': 'crammer_singer', 'clf__estimator__penalty': 'l2', 'clf__estimator__max_iter': 25}\n",
      "\n",
      "train micro-F1: 0.9237511899843731\n",
      "val micro-F1: 0.4399342804677684\n",
      "grid: {'clf__estimator__dual': False, 'clf__estimator__tol': 0.001, 'vect__max_features': 20000, 'clf__estimator__multi_class': 'ovr', 'clf__estimator__penalty': 'l2', 'clf__estimator__max_iter': 25}\n",
      "\n",
      "train micro-F1: 0.8814956109485537\n",
      "val micro-F1: 0.46662272855663306\n",
      "grid: {'clf__estimator__dual': False, 'clf__estimator__tol': 0.001, 'vect__max_features': 20000, 'clf__estimator__multi_class': 'crammer_singer', 'clf__estimator__penalty': 'l2', 'clf__estimator__max_iter': 50}\n",
      "\n",
      "train micro-F1: 0.9237511899843731\n",
      "val micro-F1: 0.4399342804677684\n",
      "grid: {'clf__estimator__dual': False, 'clf__estimator__tol': 0.001, 'vect__max_features': 20000, 'clf__estimator__multi_class': 'ovr', 'clf__estimator__penalty': 'l2', 'clf__estimator__max_iter': 50}\n",
      "\n",
      "train micro-F1: 0.8814852539469421\n",
      "val micro-F1: 0.46662272855663306\n",
      "grid: {'clf__estimator__dual': False, 'clf__estimator__tol': 0.001, 'vect__max_features': 20000, 'clf__estimator__multi_class': 'crammer_singer', 'clf__estimator__penalty': 'l2', 'clf__estimator__max_iter': 100}\n",
      "\n",
      "train micro-F1: 0.9237511899843731\n",
      "val micro-F1: 0.4399342804677684\n",
      "grid: {'clf__estimator__dual': False, 'clf__estimator__tol': 0.001, 'vect__max_features': 20000, 'clf__estimator__multi_class': 'ovr', 'clf__estimator__penalty': 'l2', 'clf__estimator__max_iter': 100}\n",
      "\n",
      "train micro-F1: 0.8814874487254275\n",
      "val micro-F1: 0.46662272855663306\n",
      "grid: {'clf__estimator__dual': True, 'clf__estimator__tol': 0.001, 'vect__max_features': 20000, 'clf__estimator__multi_class': 'crammer_singer', 'clf__estimator__penalty': 'l2', 'clf__estimator__max_iter': 25}\n",
      "\n",
      "train micro-F1: 0.9238037074292283\n",
      "val micro-F1: 0.4401391438786356\n",
      "grid: {'clf__estimator__dual': True, 'clf__estimator__tol': 0.001, 'vect__max_features': 20000, 'clf__estimator__multi_class': 'ovr', 'clf__estimator__penalty': 'l2', 'clf__estimator__max_iter': 25}\n",
      "\n",
      "train micro-F1: 0.8814874487254275\n",
      "val micro-F1: 0.46662272855663306\n",
      "grid: {'clf__estimator__dual': True, 'clf__estimator__tol': 0.001, 'vect__max_features': 20000, 'clf__estimator__multi_class': 'crammer_singer', 'clf__estimator__penalty': 'l2', 'clf__estimator__max_iter': 50}\n",
      "\n",
      "train micro-F1: 0.9238120043469279\n",
      "val micro-F1: 0.44021450311609256\n",
      "grid: {'clf__estimator__dual': True, 'clf__estimator__tol': 0.001, 'vect__max_features': 20000, 'clf__estimator__multi_class': 'ovr', 'clf__estimator__penalty': 'l2', 'clf__estimator__max_iter': 50}\n",
      "\n",
      "train micro-F1: 0.8814748967535234\n",
      "val micro-F1: 0.46662272855663306\n",
      "grid: {'clf__estimator__dual': True, 'clf__estimator__tol': 0.001, 'vect__max_features': 20000, 'clf__estimator__multi_class': 'crammer_singer', 'clf__estimator__penalty': 'l2', 'clf__estimator__max_iter': 100}\n",
      "\n",
      "train micro-F1: 0.9238120043469279\n",
      "val micro-F1: 0.44021450311609256\n",
      "grid: {'clf__estimator__dual': True, 'clf__estimator__tol': 0.001, 'vect__max_features': 20000, 'clf__estimator__multi_class': 'ovr', 'clf__estimator__penalty': 'l2', 'clf__estimator__max_iter': 100}\n",
      "\n",
      "train micro-F1: 0.8814874487254275\n",
      "val micro-F1: 0.46662272855663306\n",
      "grid: {'clf__estimator__dual': False, 'clf__estimator__tol': 0.001, 'vect__max_features': 20000, 'clf__estimator__multi_class': 'crammer_singer', 'clf__estimator__penalty': 'l1', 'clf__estimator__max_iter': 25}\n",
      "\n",
      "train micro-F1: 0.6076872323056106\n",
      "val micro-F1: 0.4702963344412714\n",
      "grid: {'clf__estimator__dual': False, 'clf__estimator__tol': 0.001, 'vect__max_features': 20000, 'clf__estimator__multi_class': 'ovr', 'clf__estimator__penalty': 'l1', 'clf__estimator__max_iter': 25}\n",
      "\n",
      "train micro-F1: 0.8815059677583637\n",
      "val micro-F1: 0.46662272855663306\n",
      "grid: {'clf__estimator__dual': False, 'clf__estimator__tol': 0.001, 'vect__max_features': 20000, 'clf__estimator__multi_class': 'crammer_singer', 'clf__estimator__penalty': 'l1', 'clf__estimator__max_iter': 50}\n",
      "\n",
      "train micro-F1: 0.6117180184598922\n",
      "val micro-F1: 0.47059373539036936\n",
      "grid: {'clf__estimator__dual': False, 'clf__estimator__tol': 0.001, 'vect__max_features': 20000, 'clf__estimator__multi_class': 'ovr', 'clf__estimator__penalty': 'l1', 'clf__estimator__max_iter': 50}\n",
      "\n",
      "train micro-F1: 0.8815059677583637\n",
      "val micro-F1: 0.46662272855663306\n",
      "grid: {'clf__estimator__dual': False, 'clf__estimator__tol': 0.001, 'vect__max_features': 20000, 'clf__estimator__multi_class': 'crammer_singer', 'clf__estimator__penalty': 'l1', 'clf__estimator__max_iter': 100}\n",
      "\n",
      "train micro-F1: 0.6228243276202301\n",
      "val micro-F1: 0.4715948940945434\n",
      "grid: {'clf__estimator__dual': False, 'clf__estimator__tol': 0.001, 'vect__max_features': 20000, 'clf__estimator__multi_class': 'ovr', 'clf__estimator__penalty': 'l1', 'clf__estimator__max_iter': 100}\n",
      "\n"
     ]
    }
   ],
   "source": [
    "best_score = float(\"-inf\")\n",
    "\n",
    "for g in ParameterGrid(parameters):\n",
    "    clf.set_params(**g)\n",
    "    clf.fit(X_train,Y_train)\n",
    "    \n",
    "    Y_pred_train = clf.predict(X_train)    \n",
    "    Y_pred_val = clf.predict(X_val)\n",
    "    \n",
    "    train_score = f1_score(Y_train,Y_pred_train,average='micro')\n",
    "    val_score = f1_score(Y_val,Y_pred_val,average='micro')\n",
    "    \n",
    "    current_score = val_score\n",
    "    \n",
    "    print(\"train micro-F1: {}\".format(train_score))\n",
    "    print(\"val micro-F1: {}\".format(val_score))\n",
    "    print(\"grid: {}\".format(g))\n",
    "    print(\"\")\n",
    "    \n",
    "    if current_score > best_score:\n",
    "        best_score = current_score\n",
    "        best_grid = g"
   ]
  },
  {
   "cell_type": "code",
   "execution_count": null,
   "metadata": {
    "collapsed": true
   },
   "outputs": [],
   "source": []
  }
 ],
 "metadata": {
  "kernelspec": {
   "display_name": "Global TF Kernel (Python 3)",
   "language": "python",
   "name": "global-tf-python-3"
  },
  "language_info": {
   "codemirror_mode": {
    "name": "ipython",
    "version": 3
   },
   "file_extension": ".py",
   "mimetype": "text/x-python",
   "name": "python",
   "nbconvert_exporter": "python",
   "pygments_lexer": "ipython3",
   "version": "3.5.2"
  }
 },
 "nbformat": 4,
 "nbformat_minor": 2
}
