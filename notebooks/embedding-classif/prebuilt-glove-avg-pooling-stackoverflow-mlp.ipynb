{
 "cells": [
  {
   "cell_type": "markdown",
   "metadata": {},
   "source": [
    "### classify stackoverflow posts by considering each document a simple mean of its individual word embeddings, then using individual tag probabilities to assign tags to samples"
   ]
  },
  {
   "cell_type": "code",
   "execution_count": 1,
   "metadata": {},
   "outputs": [
    {
     "name": "stderr",
     "output_type": "stream",
     "text": [
      "Using TensorFlow backend.\n"
     ]
    }
   ],
   "source": [
    "import csv\n",
    "import os\n",
    "import re\n",
    "import sys\n",
    "import numpy as np\n",
    "\n",
    "from keras.preprocessing.text import Tokenizer\n",
    "from keras.preprocessing.sequence import pad_sequences\n",
    "from keras.utils import to_categorical\n",
    "from keras.layers import Dense, Dropout, Input, Flatten, Activation\n",
    "from keras.layers import Conv1D, MaxPooling1D, Embedding, GlobalAvgPool1D\n",
    "from keras.models import Model, Sequential\n",
    "\n",
    "from sklearn import preprocessing\n",
    "from sklearn.feature_extraction.text import CountVectorizer\n",
    "\n",
    "# my stuff in the helpers/ directory\n",
    "from helpers import files_helper, texts_helper, metrics_helper, tags_helper"
   ]
  },
  {
   "cell_type": "code",
   "execution_count": 2,
   "metadata": {},
   "outputs": [
    {
     "data": {
      "text/plain": [
       "693"
      ]
     },
     "execution_count": 2,
     "metadata": {},
     "output_type": "execute_result"
    }
   ],
   "source": [
    "SEED=np.random.randint(1,1000)\n",
    "SEED"
   ]
  },
  {
   "cell_type": "code",
   "execution_count": 3,
   "metadata": {
    "collapsed": true
   },
   "outputs": [],
   "source": [
    "np.random.seed(SEED)"
   ]
  },
  {
   "cell_type": "code",
   "execution_count": 4,
   "metadata": {
    "collapsed": true
   },
   "outputs": [],
   "source": [
    "texts, labels = files_helper.read_stackoverflow_sample_small()"
   ]
  },
  {
   "cell_type": "code",
   "execution_count": 5,
   "metadata": {
    "collapsed": true
   },
   "outputs": [],
   "source": [
    "MAX_NB_WORDS = 20000\n",
    "MAX_SEQUENCE_LENGTH = 1000\n",
    "VALIDATION_SPLIT = 0.2\n",
    "EMBEDDING_DIM=100\n",
    "LABELS_MIN_DOC_COUNT = int(10)\n",
    "BATCH_SIZE=32\n",
    "NUM_EPOCHS=10\n",
    "TOKENIZER_FILTERS='\\'!\"#$%&()*+,-./:;<=>?@[\\\\]^_`{|}~\\t\\n'"
   ]
  },
  {
   "cell_type": "code",
   "execution_count": 6,
   "metadata": {
    "collapsed": true
   },
   "outputs": [],
   "source": [
    "tokenizer = Tokenizer(num_words=MAX_NB_WORDS,\n",
    "                     filters=TOKENIZER_FILTERS)\n",
    "tokenizer.fit_on_texts(texts)\n",
    "sequences = tokenizer.texts_to_sequences(texts)\n",
    "word_index = tokenizer.word_index\n",
    "inverse_word_index = texts_helper.build_inverse_word_index(word_index)"
   ]
  },
  {
   "cell_type": "code",
   "execution_count": 7,
   "metadata": {
    "collapsed": true,
    "scrolled": true
   },
   "outputs": [],
   "source": [
    "# [inverse_word_index[idx] for idx in sequences[0]]"
   ]
  },
  {
   "cell_type": "code",
   "execution_count": 8,
   "metadata": {
    "collapsed": true
   },
   "outputs": [],
   "source": [
    "truncated_labels = tags_helper.truncate_labels(labels,LABELS_MIN_DOC_COUNT)"
   ]
  },
  {
   "cell_type": "code",
   "execution_count": 9,
   "metadata": {
    "collapsed": true
   },
   "outputs": [],
   "source": [
    "lb = preprocessing.MultiLabelBinarizer()\n",
    "binary_labels = lb.fit_transform(truncated_labels)"
   ]
  },
  {
   "cell_type": "code",
   "execution_count": 10,
   "metadata": {
    "collapsed": true
   },
   "outputs": [],
   "source": [
    "# tag position => fraction of docs having that tag\n",
    "# snooping\n",
    "tag_incidence_index = tags_helper.get_incidence_index(binary_labels)"
   ]
  },
  {
   "cell_type": "code",
   "execution_count": 11,
   "metadata": {},
   "outputs": [],
   "source": [
    "# word => embedding\n",
    "embeddings_index = files_helper.read_glove(d=EMBEDDING_DIM)"
   ]
  },
  {
   "cell_type": "code",
   "execution_count": 12,
   "metadata": {
    "collapsed": true
   },
   "outputs": [],
   "source": [
    "embedding_matrix = np.zeros((len(word_index)+1,EMBEDDING_DIM))\n",
    "\n",
    "for word,i in word_index.items():\n",
    "    \n",
    "    if i >= MAX_NB_WORDS:\n",
    "        continue\n",
    "    \n",
    "    embedding_vector = embeddings_index.get(word)\n",
    "    \n",
    "    if embedding_vector is not None:\n",
    "        embedding_matrix[i] = embedding_vector"
   ]
  },
  {
   "cell_type": "code",
   "execution_count": 13,
   "metadata": {},
   "outputs": [
    {
     "data": {
      "text/plain": [
       "(178778, 100)"
      ]
     },
     "execution_count": 13,
     "metadata": {},
     "output_type": "execute_result"
    }
   ],
   "source": [
    "embedding_matrix.shape"
   ]
  },
  {
   "cell_type": "code",
   "execution_count": 14,
   "metadata": {},
   "outputs": [
    {
     "data": {
      "text/plain": [
       "((32000, 1000), (32000, 1209))"
      ]
     },
     "execution_count": 14,
     "metadata": {},
     "output_type": "execute_result"
    }
   ],
   "source": [
    "data = pad_sequences(sequences,maxlen=MAX_SEQUENCE_LENGTH)\n",
    "\n",
    "\n",
    "indices = np.arange(data.shape[0])\n",
    "np.random.shuffle(indices)\n",
    "\n",
    "data = data[indices]\n",
    "labels_1 = binary_labels[indices]\n",
    "num_validation_samples = int(VALIDATION_SPLIT * data.shape[0])\n",
    "\n",
    "X_train = data[:-num_validation_samples]\n",
    "Y_train = labels_1[:-num_validation_samples]\n",
    "X_val = data[-num_validation_samples:]\n",
    "Y_val = labels_1[-num_validation_samples:]\n",
    "\n",
    "data.shape,labels_1.shape"
   ]
  },
  {
   "cell_type": "code",
   "execution_count": 15,
   "metadata": {},
   "outputs": [
    {
     "name": "stdout",
     "output_type": "stream",
     "text": [
      "Train on 25600 samples, validate on 6400 samples\n",
      "Epoch 1/10\n",
      "25600/25600 [==============================] - 3s - loss: 0.0497 - val_loss: 0.0124\n",
      "Epoch 2/10\n",
      "25600/25600 [==============================] - 3s - loss: 0.0131 - val_loss: 0.0116\n",
      "Epoch 3/10\n",
      "25600/25600 [==============================] - 3s - loss: 0.0126 - val_loss: 0.0114\n",
      "Epoch 4/10\n",
      "25600/25600 [==============================] - 3s - loss: 0.0124 - val_loss: 0.0114\n",
      "Epoch 5/10\n",
      "25600/25600 [==============================] - 3s - loss: 0.0122 - val_loss: 0.0114\n",
      "Epoch 6/10\n",
      "25600/25600 [==============================] - 3s - loss: 0.0121 - val_loss: 0.0114\n",
      "Epoch 7/10\n",
      "25600/25600 [==============================] - 3s - loss: 0.0120 - val_loss: 0.0113\n",
      "Epoch 8/10\n",
      "25600/25600 [==============================] - 3s - loss: 0.0120 - val_loss: 0.0113\n",
      "Epoch 9/10\n",
      "25600/25600 [==============================] - 3s - loss: 0.0119 - val_loss: 0.0113\n",
      "Epoch 10/10\n",
      "25600/25600 [==============================] - 3s - loss: 0.0118 - val_loss: 0.0113\n",
      "CPU times: user 47 s, sys: 4.02 s, total: 51.1 s\n",
      "Wall time: 33.2 s\n"
     ]
    }
   ],
   "source": [
    "%%time\n",
    "\n",
    "num_labels = labels_1.shape[1]\n",
    "\n",
    "model = Sequential()\n",
    "\n",
    "model.add(Embedding(len(word_index)+1,\n",
    "                           EMBEDDING_DIM,\n",
    "                           weights=[embedding_matrix],\n",
    "                           trainable = False))\n",
    "\n",
    "model.add(GlobalAvgPool1D())\n",
    "\n",
    "model.add(Dense(64,activation='relu'))\n",
    "model.add(Dropout(0.5))\n",
    "model.add(Dense(64,activation='relu'))\n",
    "model.add(Dropout(0.5))\n",
    "\n",
    "model.add(Dense(num_labels))\n",
    "model.add(Activation('sigmoid'))\n",
    "\n",
    "model.compile(loss='binary_crossentropy',\n",
    "              optimizer='adam')\n",
    "\n",
    "# loss doesn't get better after 5 epochs\n",
    "model.fit(X_train, Y_train,\n",
    "                    batch_size=BATCH_SIZE,\n",
    "                    epochs=NUM_EPOCHS,\n",
    "                    verbose=1,\n",
    "                    validation_data=(X_val,Y_val))"
   ]
  },
  {
   "cell_type": "code",
   "execution_count": 16,
   "metadata": {},
   "outputs": [],
   "source": [
    "Y_train_pred = []\n",
    "\n",
    "for x_train in X_train:\n",
    "    y_train_pred = model.predict(x_train.reshape(1,-1))\n",
    "    Y_train_pred.append(y_train_pred)\n",
    "\n",
    "Y_train_pred = np.vstack(Y_train_pred)"
   ]
  },
  {
   "cell_type": "code",
   "execution_count": 17,
   "metadata": {
    "collapsed": true
   },
   "outputs": [],
   "source": [
    "tag_probability_index = tags_helper.get_probability_index(Y_train_pred)"
   ]
  },
  {
   "cell_type": "code",
   "execution_count": 18,
   "metadata": {
    "collapsed": true
   },
   "outputs": [],
   "source": [
    "def get_scores(predicted_probabilities, predicted_indices,debug=False):\n",
    "    \"\"\"\n",
    "    predicted_probabilities (output of n sigmoid output units)\n",
    "    predicted_indices (according to some strategy, e.g. static threshold, etc)\n",
    "    \"\"\"\n",
    "    \n",
    "    # indices that are turned on (equal 1)\n",
    "    active_indices = predicted_indices.ravel().nonzero()[0]\n",
    "    \n",
    "    if debug:\n",
    "        print(\"active_indices: {0}\".format(active_indices))\n",
    "    \n",
    "    scores_for_active_indices = predicted_probabilities[active_indices]\n",
    "    \n",
    "    scores_for_active_indices_as_matrix = scores_for_active_indices.reshape(1,-1)\n",
    "    \n",
    "    return scores_for_active_indices_as_matrix\n",
    "    "
   ]
  },
  {
   "cell_type": "code",
   "execution_count": 19,
   "metadata": {},
   "outputs": [
    {
     "data": {
      "text/plain": [
       "array([142])"
      ]
     },
     "execution_count": 19,
     "metadata": {},
     "output_type": "execute_result"
    }
   ],
   "source": [
    "lb.transform([set(['c++'])]).ravel().nonzero()[0]"
   ]
  },
  {
   "cell_type": "code",
   "execution_count": 20,
   "metadata": {},
   "outputs": [
    {
     "data": {
      "text/plain": [
       "(0.00050000000000000001, 0.00023327601)"
      ]
     },
     "execution_count": 20,
     "metadata": {},
     "output_type": "execute_result"
    }
   ],
   "source": [
    "i=555\n",
    "\n",
    "tag_incidence_index[535] # java\n",
    "tag_incidence_index[1059] # twitter-bootstrap\n",
    "tag_incidence_index[692] # mysql\n",
    "tag_incidence_index[i],tag_probability_index[i] # c++"
   ]
  },
  {
   "cell_type": "code",
   "execution_count": 21,
   "metadata": {},
   "outputs": [
    {
     "name": "stdout",
     "output_type": "stream",
     "text": [
      "()\n",
      "[]\n",
      "[('javascript', 0.10590181), ('php', 0.086142004), ('java', 0.083647959), ('android', 0.077058345), ('c#', 0.063647024)]\n",
      "\n",
      "\n",
      "('email', 'mysql', 'php')\n",
      "[('email', 0.0035355939), ('mysql', 0.033504646), ('php', 0.0939712)]\n",
      "[('javascript', 0.10973027), ('php', 0.0939712), ('java', 0.092058517), ('android', 0.086240567), ('c#', 0.066042922)]\n",
      "\n",
      "\n",
      "('google-app-engine', 'mysql', 'php')\n",
      "[('google-app-engine', 0.0017653451), ('mysql', 0.029161492), ('php', 0.084665999)]\n",
      "[('javascript', 0.10501993), ('php', 0.084665999), ('java', 0.082025163), ('android', 0.075379208), ('c#', 0.062643036)]\n",
      "\n",
      "\n",
      "('canvas', 'javascript', 'jquery', 'svg')\n",
      "[('canvas', 0.0022096185), ('javascript', 0.10611428), ('jquery', 0.058818381), ('svg', 0.0018658476)]\n",
      "[('javascript', 0.10611428), ('php', 0.086321354), ('java', 0.084222578), ('android', 0.077494323), ('c#', 0.064899206)]\n",
      "\n",
      "\n",
      "('javascript', 'jquery')\n",
      "[('javascript', 0.10374869), ('jquery', 0.056577396)]\n",
      "[('javascript', 0.10374869), ('php', 0.08234214), ('java', 0.079481222), ('android', 0.072844893), ('c#', 0.060758054)]\n",
      "\n",
      "\n",
      "('cocoa', 'objective-c')\n",
      "[('cocoa', 0.0019623069), ('objective-c', 0.014038261)]\n",
      "[('javascript', 0.10319349), ('php', 0.081466928), ('java', 0.078496464), ('android', 0.071825914), ('c#', 0.059996918)]\n",
      "\n",
      "\n",
      "('bash', 'linux', 'ruby-on-rails')\n",
      "[('bash', 0.0046593212), ('linux', 0.010366474), ('ruby-on-rails', 0.01699548)]\n",
      "[('javascript', 0.1051103), ('php', 0.084558308), ('java', 0.082034983), ('android', 0.075233079), ('c#', 0.062995546)]\n",
      "\n",
      "\n",
      "('html', 'javascript', 'jquery')\n",
      "[('html', 0.053415373), ('javascript', 0.1048407), ('jquery', 0.05790868)]\n",
      "[('javascript', 0.1048407), ('php', 0.083709896), ('java', 0.080123425), ('android', 0.073683083), ('c#', 0.061353702)]\n",
      "\n",
      "\n",
      "('laravel', 'php')\n",
      "[('laravel', 0.0029326293), ('php', 0.085339047)]\n",
      "[('javascript', 0.10540787), ('php', 0.085339047), ('java', 0.082856894), ('android', 0.076237321), ('c#', 0.062932774)]\n",
      "\n",
      "\n",
      "('django-models', 'google-app-engine')\n",
      "[('django-models', 0.0011492355), ('google-app-engine', 0.0024394905)]\n",
      "[('javascript', 0.10887438), ('php', 0.092181683), ('java', 0.091288514), ('android', 0.084869228), ('c#', 0.068093076)]\n",
      "\n",
      "\n"
     ]
    }
   ],
   "source": [
    "# sample result for a couple of test cases\n",
    "num_test_cases = 10\n",
    "STRATEGY= 'raw_probability'\n",
    "THRESHOLD=0.0\n",
    "PROB_INDEX = tag_probability_index\n",
    "INCIDENCE_INDEX = tag_incidence_index\n",
    "LIMIT=5\n",
    "\n",
    "for i in np.random.randint(low=0, high=len(Y_val), size=num_test_cases):\n",
    "\n",
    "    actual_label_indices = Y_val[i].reshape(1,-1)\n",
    "    \n",
    "#     print(actual_label_indices.ravel().nonzero()[0])\n",
    "    \n",
    "    actual_labels = lb.inverse_transform(actual_label_indices)\n",
    "    actual_labels_tpl = actual_labels[0]\n",
    "    \n",
    "    predicted_tag_probabilities = model.predict(X_val[i].reshape(1,-1)).ravel()\n",
    "              \n",
    "    predicted_label_indices = tags_helper.get_tag_assignment(\n",
    "        STRATEGY,\n",
    "        predicted_tag_probabilities,\n",
    "        probability_threshold=THRESHOLD,\n",
    "        tag_probability_index=PROB_INDEX,\n",
    "        tag_incidence_index=INCIDENCE_INDEX,\n",
    "        limit=LIMIT)\n",
    "         \n",
    "    predicted_label_scores_mat = get_scores(\n",
    "        predicted_tag_probabilities,\n",
    "        predicted_label_indices)\n",
    "    \n",
    "    actual_label_scores_mat = get_scores(\n",
    "        predicted_tag_probabilities,\n",
    "        actual_label_indices)\n",
    "    \n",
    "    predicted_label_scores_arr = predicted_label_scores_mat.ravel()\n",
    "    predicted_labels = lb.inverse_transform(predicted_label_indices)\n",
    "    predicted_labels_tpl = predicted_labels[0]\n",
    "      \n",
    "    predicted_tags_and_scores = sorted(list(zip(predicted_labels_tpl,predicted_label_scores_arr)), key=lambda tpl: tpl[1], reverse=True)\n",
    "    \n",
    "    actual_label_scores_arr = actual_label_scores_mat.ravel()\n",
    "    actual_tags_and_scores = list(zip(actual_labels_tpl,actual_label_scores_arr))\n",
    "\n",
    "#     print(actual_labels)    \n",
    "    print(actual_labels_tpl)\n",
    "    print(actual_tags_and_scores)\n",
    "    print(predicted_tags_and_scores)\n",
    "    print('\\n')\n"
   ]
  },
  {
   "cell_type": "code",
   "execution_count": 22,
   "metadata": {
    "collapsed": true
   },
   "outputs": [],
   "source": [
    "X_test_list = []\n",
    "\n",
    "for validation_features in X_val:\n",
    "    X_test_list.append(validation_features.reshape(1,-1))\n",
    "\n",
    "X_test = np.vstack(X_test_list)    "
   ]
  },
  {
   "cell_type": "code",
   "execution_count": 23,
   "metadata": {
    "collapsed": true
   },
   "outputs": [],
   "source": [
    "Y_pred_lst = [model.predict(x_test.reshape(1,-1)) for x_test in X_test]"
   ]
  },
  {
   "cell_type": "code",
   "execution_count": 24,
   "metadata": {},
   "outputs": [
    {
     "data": {
      "text/plain": [
       "((6400, 1209), (6400, 1209))"
      ]
     },
     "execution_count": 24,
     "metadata": {},
     "output_type": "execute_result"
    }
   ],
   "source": [
    "Y_pred_calculated_lst = [tags_helper.get_tag_assignment(\n",
    "    STRATEGY,\n",
    "    y_pred,\n",
    "    probability_threshold=THRESHOLD,\n",
    "    tag_probability_index=PROB_INDEX,\n",
    "    tag_incidence_index=INCIDENCE_INDEX,\n",
    "    limit=LIMIT) for y_pred in np.vstack(Y_pred_lst)]\n",
    "\n",
    "Y_pred = np.vstack(Y_pred_calculated_lst)\n",
    "\n",
    "Y_val.shape,Y_pred.shape"
   ]
  },
  {
   "cell_type": "code",
   "execution_count": 25,
   "metadata": {},
   "outputs": [
    {
     "name": "stdout",
     "output_type": "stream",
     "text": [
      "micro-averaged F1 score (validation set) is 0.11311935850432024\n",
      "micro-averaged precision score (validation set) is 0.0824375\n",
      "micro-averaged recall score (validation set) is 0.18017894952530564\n"
     ]
    }
   ],
   "source": [
    "micro_f1 = metrics_helper.calculate_multilabel_metrics(Y_val,Y_pred)\n",
    "print('micro-averaged F1 score (validation set) is {0}'.format(micro_f1))\n",
    "\n",
    "micro_prec = metrics_helper.calculate_multilabel_metrics(Y_val, Y_pred, metric='precision')\n",
    "print('micro-averaged precision score (validation set) is {0}'.format(micro_prec))\n",
    "\n",
    "micro_rec = metrics_helper.calculate_multilabel_metrics(Y_val, Y_pred, metric='recall')\n",
    "print('micro-averaged recall score (validation set) is {0}'.format(micro_rec))"
   ]
  },
  {
   "cell_type": "code",
   "execution_count": null,
   "metadata": {
    "collapsed": true
   },
   "outputs": [],
   "source": []
  },
  {
   "cell_type": "code",
   "execution_count": null,
   "metadata": {
    "collapsed": true
   },
   "outputs": [],
   "source": []
  }
 ],
 "metadata": {
  "kernelspec": {
   "display_name": "Global TF Kernel (Python 3)",
   "language": "python",
   "name": "global-tf-python-3"
  },
  "language_info": {
   "codemirror_mode": {
    "name": "ipython",
    "version": 3
   },
   "file_extension": ".py",
   "mimetype": "text/x-python",
   "name": "python",
   "nbconvert_exporter": "python",
   "pygments_lexer": "ipython3",
   "version": "3.5.2"
  }
 },
 "nbformat": 4,
 "nbformat_minor": 2
}
