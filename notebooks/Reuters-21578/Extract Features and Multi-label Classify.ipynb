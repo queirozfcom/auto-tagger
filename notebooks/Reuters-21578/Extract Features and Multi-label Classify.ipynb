{
 "cells": [
  {
   "cell_type": "code",
   "execution_count": 1,
   "metadata": {
    "collapsed": false
   },
   "outputs": [],
   "source": [
    "import numpy as np\n",
    "import pandas as pd\n",
    "import scipy\n",
    "import nltk\n",
    "import sklearn\n",
    "import random\n",
    "import re\n",
    "from sklearn.feature_extraction.text import CountVectorizer,TfidfTransformer\n",
    "from sklearn.preprocessing import OneHotEncoder"
   ]
  },
  {
   "cell_type": "markdown",
   "metadata": {},
   "source": [
    "## reuters 21-578 modApte version\n",
    "> a collection of 10,788 documents from the Reuters financial newswire service, partitioned into a training set with 7769 documents and a test set with 3019 documents"
   ]
  },
  {
   "cell_type": "code",
   "execution_count": 2,
   "metadata": {
    "collapsed": false
   },
   "outputs": [
    {
     "name": "stdout",
     "output_type": "stream",
     "text": [
      "[nltk_data] Downloading package reuters to /home/felipe/nltk_data...\n",
      "[nltk_data]   Package reuters is already up-to-date!\n",
      "[nltk_data] Downloading package punkt to /home/felipe/nltk_data...\n",
      "[nltk_data]   Package punkt is already up-to-date!\n"
     ]
    },
    {
     "data": {
      "text/plain": [
       "True"
      ]
     },
     "execution_count": 2,
     "metadata": {},
     "output_type": "execute_result"
    }
   ],
   "source": [
    "nltk.download('reuters')\n",
    "nltk.download('punkt') # needed for tokenization"
   ]
  },
  {
   "cell_type": "code",
   "execution_count": 3,
   "metadata": {
    "collapsed": false
   },
   "outputs": [
    {
     "data": {
      "text/plain": [
       "u'\\n      The Reuters-21578 benchmark corpus, ApteMod version\\n\\nThis is a publically available version of the well-known Reuters-21578\\n\"ApteMod\" corpus for text categorization.  It has been used in\\npublications like these:\\n\\n * Yiming Yang and X. Liu. \"A re-examination of text categorization\\n   methods\".  1999.  Proceedings of 22nd Annual International SIGIR.\\n   http://citeseer.nj.nec.com/yang99reexamination.html\\n\\n * Thorsten Joachims. \"Text categorization with support vector\\n   machines: learning with many relevant features\".  1998. Proceedings\\n   of ECML-98, 10th European Conference on Machine Learning.\\n   http://citeseer.nj.nec.com/joachims98text.html\\n\\nApteMod is a collection of 10,788 documents from the Reuters financial\\nnewswire service, partitioned into a training set with 7769 documents\\nand a test set with 3019 documents.  The total size of the corpus is\\nabout 43 MB.  It is also available for download from\\nhttp://kdd.ics.uci.edu/databases/reuters21578/reuters21578.html ,\\nwhich includes a more extensive history of the data revisions.\\n\\nThe distribution of categories in the ApteMod corpus is highly skewed,\\nwith 36.7% of the documents in the most common category, and only\\n0.0185% (2 documents) in each of the five least common categories.\\nIn fact, the original data source is even more skewed---in creating\\nthe corpus, any categories that did not contain at least one document\\nin the training set and one document in the test set were removed from\\nthe corpus by its original creator.\\n\\nIn the ApteMod corpus, each document belongs to one or more\\ncategories.  There are 90 categories in the corpus.  The average\\nnumber of categories per document is 1.235, and the average number of\\ndocuments per category is about 148, or 1.37% of the corpus.\\n\\n -Ken Williams\\n  ken@mathforum.org\\n\\n         Copyright & Notification \\n\\n(extracted from the README at the UCI address above)\\n\\nThe copyright for the text of newswire articles and Reuters\\nannotations in the Reuters-21578 collection resides with Reuters Ltd.\\nReuters Ltd. and Carnegie Group, Inc. have agreed to allow the free\\ndistribution of this data *for research purposes only*.  \\n\\nIf you publish results based on this data set, please acknowledge\\nits use, refer to the data set by the name \"Reuters-21578,\\nDistribution 1.0\", and inform your readers of the current location of\\nthe data set (see \"Availability & Questions\").\\n\\n'"
      ]
     },
     "execution_count": 3,
     "metadata": {},
     "output_type": "execute_result"
    }
   ],
   "source": [
    "dataset = nltk.corpus.reuters\n",
    "dataset.root\n",
    "dataset.readme()"
   ]
  },
  {
   "cell_type": "code",
   "execution_count": 4,
   "metadata": {
    "collapsed": false
   },
   "outputs": [
    {
     "data": {
      "text/plain": [
       "u'\\n      The Reuters-21578 benchmark corpus, ApteMod version\\n\\nThis is a publically available version of the well-known Reuters-21578\\n\"ApteMod\" corpus for text categorization.  It has been used in\\npublications like these:\\n\\n * Yiming Yang and X. Liu. \"A re-examination of text categorization\\n   methods\".  1999.  Proceedings of 22nd Annual International SIGIR.\\n   http://citeseer.nj.nec.com/yang99reexamination.html\\n\\n * Thorsten Joachims. \"Text categorization with support vector\\n   machines: learning with many relevant features\".  1998. Proceedings\\n   of ECML-98, 10th European Conference on Machine Learning.\\n   http://citeseer.nj.nec.com/joachims98text.html\\n\\nApteMod is a collection of 10,788 documents from the Reuters financial\\nnewswire service, partitioned into a training set with 7769 documents\\nand a test set with 3019 documents.  The total size of the corpus is\\nabout 43 MB.  It is also available for download from\\nhttp://kdd.ics.uci.edu/databases/reuters21578/reuters21578.html ,\\nwhich includes a more extensive history of the data revisions.\\n\\nThe distribution of categories in the ApteMod corpus is highly skewed,\\nwith 36.7% of the documents in the most common category, and only\\n0.0185% (2 documents) in each of the five least common categories.\\nIn fact, the original data source is even more skewed---in creating\\nthe corpus, any categories that did not contain at least one document\\nin the training set and one document in the test set were removed from\\nthe corpus by its original creator.\\n\\nIn the ApteMod corpus, each document belongs to one or more\\ncategories.  There are 90 categories in the corpus.  The average\\nnumber of categories per document is 1.235, and the average number of\\ndocuments per category is about 148, or 1.37% of the corpus.\\n\\n -Ken Williams\\n  ken@mathforum.org\\n\\n         Copyright & Notification \\n\\n(extracted from the README at the UCI address above)\\n\\nThe copyright for the text of newswire articles and Reuters\\nannotations in the Reuters-21578 collection resides with Reuters Ltd.\\nReuters Ltd. and Carnegie Group, Inc. have agreed to allow the free\\ndistribution of this data *for research purposes only*.  \\n\\nIf you publish results based on this data set, please acknowledge\\nits use, refer to the data set by the name \"Reuters-21578,\\nDistribution 1.0\", and inform your readers of the current location of\\nthe data set (see \"Availability & Questions\").\\n\\n'"
      ]
     },
     "execution_count": 4,
     "metadata": {},
     "output_type": "execute_result"
    }
   ],
   "source": [
    "dataset.readme()"
   ]
  },
  {
   "cell_type": "code",
   "execution_count": 5,
   "metadata": {
    "collapsed": false
   },
   "outputs": [
    {
     "data": {
      "text/plain": [
       "90"
      ]
     },
     "execution_count": 5,
     "metadata": {},
     "output_type": "execute_result"
    }
   ],
   "source": [
    "len(dataset.categories())"
   ]
  },
  {
   "cell_type": "code",
   "execution_count": 6,
   "metadata": {
    "collapsed": false
   },
   "outputs": [
    {
     "data": {
      "text/plain": [
       "10788"
      ]
     },
     "execution_count": 6,
     "metadata": {},
     "output_type": "execute_result"
    }
   ],
   "source": [
    "len(dataset.fileids())"
   ]
  },
  {
   "cell_type": "code",
   "execution_count": 7,
   "metadata": {
    "collapsed": false
   },
   "outputs": [
    {
     "data": {
      "text/plain": [
       "'training/3565'"
      ]
     },
     "execution_count": 7,
     "metadata": {},
     "output_type": "execute_result"
    }
   ],
   "source": [
    "fileids = dataset.fileids()\n",
    "sample_fileid = [ fileids[i] for i in sorted(random.sample(xrange(len(fileids)), 1)) ][0]\n",
    "sample_fileid"
   ]
  },
  {
   "cell_type": "code",
   "execution_count": 8,
   "metadata": {
    "collapsed": false
   },
   "outputs": [
    {
     "data": {
      "text/plain": [
       "ZipFilePathPointer(u'/home/felipe/nltk_data/corpora/reuters.zip', u'reuters/training/3565')"
      ]
     },
     "execution_count": 8,
     "metadata": {},
     "output_type": "execute_result"
    }
   ],
   "source": [
    "dataset.abspath(sample_fileid)"
   ]
  },
  {
   "cell_type": "code",
   "execution_count": 9,
   "metadata": {
    "collapsed": false
   },
   "outputs": [
    {
     "data": {
      "text/plain": [
       "87"
      ]
     },
     "execution_count": 9,
     "metadata": {},
     "output_type": "execute_result"
    }
   ],
   "source": [
    "len(dataset.words(sample_fileid))"
   ]
  },
  {
   "cell_type": "code",
   "execution_count": 10,
   "metadata": {
    "collapsed": false
   },
   "outputs": [
    {
     "data": {
      "text/plain": [
       "90"
      ]
     },
     "execution_count": 10,
     "metadata": {},
     "output_type": "execute_result"
    }
   ],
   "source": [
    "len(dataset.categories())"
   ]
  },
  {
   "cell_type": "code",
   "execution_count": 11,
   "metadata": {
    "collapsed": false
   },
   "outputs": [
    {
     "data": {
      "text/plain": [
       "[u'CPC', u'&', u'lt', u';', u'CPC', u'>', u'TO', ...]"
      ]
     },
     "execution_count": 11,
     "metadata": {},
     "output_type": "execute_result"
    }
   ],
   "source": [
    "dataset.words(sample_fileid)"
   ]
  },
  {
   "cell_type": "code",
   "execution_count": 12,
   "metadata": {
    "collapsed": false
   },
   "outputs": [
    {
     "data": {
      "text/plain": [
       "u'CPC &lt;CPC> TO SELL UNIT TO HI-PORT &lt;HIPT>\\n  CPC International Inc\\n  said it has agreed in principle to sell its Peterson/Puritain\\n  Inc subsidiary to Hi-Port Industries Inc.\\n      CPC said the sale is not expected to have a significant\\n  impact on its earnings and is subject to approval by boards of\\n  both companies.  Terms were not disclosed.\\n      Peterson/Purittan is a contract packager of personal care\\n  and household products.\\n  \\n\\n'"
      ]
     },
     "execution_count": 12,
     "metadata": {},
     "output_type": "execute_result"
    }
   ],
   "source": [
    "dataset.raw(sample_fileid)"
   ]
  },
  {
   "cell_type": "code",
   "execution_count": 13,
   "metadata": {
    "collapsed": false
   },
   "outputs": [
    {
     "data": {
      "text/plain": [
       "[u'CPC', u'&', u'lt', u';', u'CPC', u'>', u'TO', ...]"
      ]
     },
     "execution_count": 13,
     "metadata": {},
     "output_type": "execute_result"
    }
   ],
   "source": [
    "dataset.words(sample_fileid)"
   ]
  },
  {
   "cell_type": "code",
   "execution_count": 14,
   "metadata": {
    "collapsed": false
   },
   "outputs": [
    {
     "data": {
      "text/plain": [
       "[[u'CPC', u'&', u'lt', u';', u'CPC', u'>', u'TO', u'SELL', u'UNIT', u'TO', u'HI', u'-', u'PORT', u'&', u'lt', u';', u'HIPT', u'>', u'CPC', u'International', u'Inc', u'said', u'it', u'has', u'agreed', u'in', u'principle', u'to', u'sell', u'its', u'Peterson', u'/', u'Puritain', u'Inc', u'subsidiary', u'to', u'Hi', u'-', u'Port', u'Industries', u'Inc', u'.', u'CPC', u'said', u'the', u'sale', u'is', u'not', u'expected', u'to', u'have', u'a', u'significant', u'impact', u'on', u'its', u'earnings', u'and', u'is', u'subject', u'to', u'approval', u'by', u'boards', u'of', u'both', u'companies', u'.'], [u'Terms', u'were', u'not', u'disclosed', u'.'], ...]"
      ]
     },
     "execution_count": 14,
     "metadata": {},
     "output_type": "execute_result"
    }
   ],
   "source": [
    "dataset.sents(sample_fileid)"
   ]
  },
  {
   "cell_type": "code",
   "execution_count": 15,
   "metadata": {
    "collapsed": false
   },
   "outputs": [
    {
     "data": {
      "text/plain": [
       "[[[u'CPC', u'&', u'lt', u';', u'CPC', u'>', u'TO', u'SELL', u'UNIT', u'TO', u'HI', u'-', u'PORT', u'&', u'lt', u';', u'HIPT', u'>', u'CPC', u'International', u'Inc', u'said', u'it', u'has', u'agreed', u'in', u'principle', u'to', u'sell', u'its', u'Peterson', u'/', u'Puritain', u'Inc', u'subsidiary', u'to', u'Hi', u'-', u'Port', u'Industries', u'Inc', u'.', u'CPC', u'said', u'the', u'sale', u'is', u'not', u'expected', u'to', u'have', u'a', u'significant', u'impact', u'on', u'its', u'earnings', u'and', u'is', u'subject', u'to', u'approval', u'by', u'boards', u'of', u'both', u'companies', u'.'], [u'Terms', u'were', u'not', u'disclosed', u'.'], [u'Peterson', u'/', u'Purittan', u'is', u'a', u'contract', u'packager', u'of', u'personal', u'care', u'and', u'household', u'products', u'.']]]"
      ]
     },
     "execution_count": 15,
     "metadata": {},
     "output_type": "execute_result"
    }
   ],
   "source": [
    "dataset.paras(sample_fileid)"
   ]
  },
  {
   "cell_type": "code",
   "execution_count": 16,
   "metadata": {
    "collapsed": false
   },
   "outputs": [],
   "source": [
    "# http://scikit-learn.org/stable/modules/feature_extraction.html#text-feature-extraction\n",
    "sklearn_corpus = []\n",
    "for fileid in dataset.fileids():\n",
    "    document = dataset.raw(fileid)\n",
    "    sklearn_corpus.append(document)"
   ]
  },
  {
   "cell_type": "code",
   "execution_count": 17,
   "metadata": {
    "collapsed": true
   },
   "outputs": [],
   "source": [
    "def preprocessor(string):\n",
    "    repl = re.sub('&lt;','',string)\n",
    "    return repl.lower()"
   ]
  },
  {
   "cell_type": "code",
   "execution_count": 18,
   "metadata": {
    "collapsed": false
   },
   "outputs": [],
   "source": [
    "vectorizer = CountVectorizer(\n",
    "                min_df=2,\n",
    "                strip_accents='ascii',\n",
    "                preprocessor=preprocessor,\n",
    "                stop_words='english')"
   ]
  },
  {
   "cell_type": "code",
   "execution_count": 19,
   "metadata": {
    "collapsed": false
   },
   "outputs": [],
   "source": [
    "vectorizer.fit(sklearn_corpus)\n",
    "X_counts = vectorizer.transform(sklearn_corpus)"
   ]
  },
  {
   "cell_type": "code",
   "execution_count": 20,
   "metadata": {
    "collapsed": false
   },
   "outputs": [],
   "source": [
    "# vectorizer.build_analyzer()(dataset.raw(fileid))\n",
    "#vectorizer.build_tokenizer()(\"ADVANCED INSTITUTIONAL &lt;AIMS> CUTS WORKFORCE\\n  Advanced Institutional \")\n",
    "#vectorizer.build_preprocessor()(\"ADVANCED INSTITUTIONAL &lt;AIMS> CUTS WORKFORCE\\n  Advanced Institutional \")"
   ]
  },
  {
   "cell_type": "code",
   "execution_count": 21,
   "metadata": {
    "collapsed": false
   },
   "outputs": [
    {
     "data": {
      "text/plain": [
       "array([0, 0, 0, ..., 0, 0, 0])"
      ]
     },
     "execution_count": 21,
     "metadata": {},
     "output_type": "execute_result"
    }
   ],
   "source": [
    "X_counts[0].toarray().ravel()"
   ]
  },
  {
   "cell_type": "code",
   "execution_count": 22,
   "metadata": {
    "collapsed": true
   },
   "outputs": [],
   "source": [
    "transformer = TfidfTransformer()\n",
    "transformer.fit(X_counts)\n",
    "X_tfidf = transformer.transform(X_counts)"
   ]
  },
  {
   "cell_type": "code",
   "execution_count": 23,
   "metadata": {
    "collapsed": false,
    "scrolled": false
   },
   "outputs": [
    {
     "data": {
      "text/plain": [
       "array([ 0.,  0.,  0., ...,  0.,  0.,  0.])"
      ]
     },
     "execution_count": 23,
     "metadata": {},
     "output_type": "execute_result"
    }
   ],
   "source": [
    "X_tfidf[0].toarray().ravel()"
   ]
  },
  {
   "cell_type": "code",
   "execution_count": 26,
   "metadata": {
    "collapsed": false
   },
   "outputs": [
    {
     "data": {
      "text/plain": [
       "(10788, 90)"
      ]
     },
     "execution_count": 26,
     "metadata": {},
     "output_type": "execute_result"
    }
   ],
   "source": [
    "sklearn_targets = []\n",
    "\n",
    "for (idx,fileid) in enumerate(dataset.fileids()):\n",
    "    categories = '*'.join(dataset.categories(fileid))\n",
    "\n",
    "    sklearn_targets.append(categories)\n",
    "    \n",
    "series = pd.Series(sklearn_targets)\n",
    "targets_df = series.str.get_dummies(sep='*')\n",
    "targets_matrix = targets_df.values\n",
    "targets_matrix.shape"
   ]
  }
 ],
 "metadata": {
  "kernelspec": {
   "display_name": "Python 2",
   "language": "python",
   "name": "python2"
  },
  "language_info": {
   "codemirror_mode": {
    "name": "ipython",
    "version": 2
   },
   "file_extension": ".py",
   "mimetype": "text/x-python",
   "name": "python",
   "nbconvert_exporter": "python",
   "pygments_lexer": "ipython2",
   "version": "2.7.6"
  }
 },
 "nbformat": 4,
 "nbformat_minor": 0
}
