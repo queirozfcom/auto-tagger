{
 "cells": [
  {
   "cell_type": "markdown",
   "metadata": {},
   "source": [
    "### classify stackoverflow posts by considering each document a simple mean of its individual word embeddings\n",
    "\n",
    "**TODO**\n",
    " - use weighted averages (tf-id, ppmi, etc)\n",
    " - use a different scoring function so that wrong guesses that are close to the correct values (think \"python\", \"python-2\") are penalized less than guesses that are wildly wrong.\n"
   ]
  },
  {
   "cell_type": "code",
   "execution_count": 1,
   "metadata": {},
   "outputs": [
    {
     "name": "stderr",
     "output_type": "stream",
     "text": [
      "Using TensorFlow backend.\n"
     ]
    }
   ],
   "source": [
    "import csv\n",
    "import os\n",
    "import re\n",
    "import sys\n",
    "import numpy as np\n",
    "import sklearn\n",
    "\n",
    "from keras.preprocessing.text import Tokenizer\n",
    "from keras.preprocessing.sequence import pad_sequences\n",
    "from keras.utils import to_categorical\n",
    "from keras.layers import Dense, Dropout, Input, Flatten, Activation\n",
    "from keras.layers import Conv1D, MaxPooling1D, Embedding, GlobalMaxPooling1D\n",
    "from keras.models import Model, Sequential\n",
    "\n",
    "from sklearn import preprocessing\n",
    "from sklearn.feature_extraction.text import CountVectorizer\n",
    "\n",
    "\n",
    "# my stuff in the helpers/ directory\n",
    "from helpers import files,texts, metrics,tags"
   ]
  },
  {
   "cell_type": "code",
   "execution_count": 2,
   "metadata": {
    "collapsed": true
   },
   "outputs": [],
   "source": [
    "np.random.seed(seed=42)"
   ]
  },
  {
   "cell_type": "code",
   "execution_count": 3,
   "metadata": {
    "collapsed": true
   },
   "outputs": [],
   "source": [
    "texts, labels = files.read_stackoverflow_sample_small()"
   ]
  },
  {
   "cell_type": "code",
   "execution_count": 4,
   "metadata": {
    "collapsed": true
   },
   "outputs": [],
   "source": [
    "MAX_NB_WORDS = 20000\n",
    "MAX_SEQUENCE_LENGTH = 1000\n",
    "VALIDATION_SPLIT = 0.2\n",
    "EMBEDDING_DIM=100\n",
    "\n",
    "LABELS_MIN_DOC_COUNT = int(len(texts)/3000)"
   ]
  },
  {
   "cell_type": "code",
   "execution_count": 5,
   "metadata": {
    "collapsed": true
   },
   "outputs": [],
   "source": [
    "tokenizer = Tokenizer(num_words=MAX_NB_WORDS)\n",
    "tokenizer.fit_on_texts(texts)\n",
    "sequences = tokenizer.texts_to_sequences(texts)\n",
    "word_index = tokenizer.word_index"
   ]
  },
  {
   "cell_type": "code",
   "execution_count": 6,
   "metadata": {
    "collapsed": true
   },
   "outputs": [],
   "source": [
    "truncated_labels = tags.truncate_labels(labels,LABELS_MIN_DOC_COUNT)"
   ]
  },
  {
   "cell_type": "code",
   "execution_count": 7,
   "metadata": {},
   "outputs": [],
   "source": [
    "lb = preprocessing.MultiLabelBinarizer()\n",
    "binary_labels = lb.fit_transform(truncated_labels)\n",
    "\n",
    "\n",
    "# tag position => fraction of docs having that tag\n",
    "# TODO use just the training examples otherwise it's snooping\n",
    "tag_probabilities_index = tags.get_probabilities_index(binary_labels)"
   ]
  },
  {
   "cell_type": "code",
   "execution_count": 8,
   "metadata": {
    "collapsed": true
   },
   "outputs": [],
   "source": [
    "# word => embedding\n",
    "embeddings_index = files.read_glove_100()"
   ]
  },
  {
   "cell_type": "code",
   "execution_count": 9,
   "metadata": {
    "collapsed": true
   },
   "outputs": [],
   "source": [
    "# word_position => embedding for that word\n",
    "numeric_embeddings_index = {}\n",
    "\n",
    "embedding_matrix = np.zeros((len(word_index)+1,EMBEDDING_DIM))\n",
    "\n",
    "for word,i in word_index.items():\n",
    "    \n",
    "    if i >= MAX_NB_WORDS:\n",
    "        continue  \n",
    "    \n",
    "    embedding_vector = embeddings_index.get(word)\n",
    "    \n",
    "    numeric_embeddings_index[i] = embedding_vector\n",
    "    \n",
    "    if embedding_vector is not None:\n",
    "        embedding_matrix[i] = embedding_vector"
   ]
  },
  {
   "cell_type": "code",
   "execution_count": 10,
   "metadata": {
    "collapsed": true
   },
   "outputs": [],
   "source": [
    "inverse_word_index = {}\n",
    "\n",
    "for word,i in word_index.items():\n",
    "    inverse_word_index[i] = word"
   ]
  },
  {
   "cell_type": "code",
   "execution_count": 11,
   "metadata": {
    "collapsed": true
   },
   "outputs": [],
   "source": [
    "document_embeddings = []\n",
    "\n",
    "for i,document_sequence in enumerate(sequences):\n",
    "    \n",
    "    individual_word_embeddings = []\n",
    "    \n",
    "    for word_position in document_sequence:       \n",
    "                                  \n",
    "        word = inverse_word_index[word_position]\n",
    "        \n",
    "        word_embedding = embeddings_index.get(word)    \n",
    "\n",
    "        if word_embedding is None:\n",
    "            continue\n",
    "        else:    \n",
    "            individual_word_embeddings.append(word_embedding)\n",
    "         \n",
    "    if len(individual_word_embeddings) == 0:\n",
    "        # some documents have no text\n",
    "        # so we assign a zero vector\n",
    "        individual_word_embeddings = np.zeros(\n",
    "            EMBEDDING_DIM,dtype='float32').reshape(1,EMBEDDING_DIM)\n",
    "        \n",
    "    document_embedding = np.mean(individual_word_embeddings,axis=0)\n",
    "    \n",
    "    document_embeddings.append(document_embedding)"
   ]
  },
  {
   "cell_type": "code",
   "execution_count": 12,
   "metadata": {},
   "outputs": [
    {
     "data": {
      "text/plain": [
       "((22000, 100), (22000, 1224))"
      ]
     },
     "execution_count": 12,
     "metadata": {},
     "output_type": "execute_result"
    }
   ],
   "source": [
    "data = np.vstack(document_embeddings)\n",
    "indices = np.arange(data.shape[0])\n",
    "np.random.shuffle(indices)\n",
    "\n",
    "data = data[indices]\n",
    "labels_1 = binary_labels[indices]\n",
    "\n",
    "num_validation_samples = int(VALIDATION_SPLIT * data.shape[0])\n",
    "\n",
    "X_train = data[:-num_validation_samples]\n",
    "Y_train = labels_1[:-num_validation_samples]\n",
    "X_val = data[-num_validation_samples:]\n",
    "Y_val = labels_1[-num_validation_samples:]\n",
    "\n",
    "data.shape,labels_1.shape"
   ]
  },
  {
   "cell_type": "code",
   "execution_count": 13,
   "metadata": {},
   "outputs": [
    {
     "name": "stdout",
     "output_type": "stream",
     "text": [
      "Train on 17600 samples, validate on 4400 samples\n",
      "Epoch 1/10\n",
      "17600/17600 [==============================] - 3s - loss: 0.0193 - val_loss: 0.0113\n",
      "Epoch 2/10\n",
      "17600/17600 [==============================] - 2s - loss: 0.0116 - val_loss: 0.0111\n",
      "Epoch 3/10\n",
      "17600/17600 [==============================] - 3s - loss: 0.0113 - val_loss: 0.0109\n",
      "Epoch 4/10\n",
      "17600/17600 [==============================] - 3s - loss: 0.0111 - val_loss: 0.0106\n",
      "Epoch 5/10\n",
      "17600/17600 [==============================] - 2s - loss: 0.0108 - val_loss: 0.0104\n",
      "Epoch 6/10\n",
      "17600/17600 [==============================] - 2s - loss: 0.0106 - val_loss: 0.0102\n",
      "Epoch 7/10\n",
      "17600/17600 [==============================] - 2s - loss: 0.0104 - val_loss: 0.0101\n",
      "Epoch 8/10\n",
      "17600/17600 [==============================] - 3s - loss: 0.0103 - val_loss: 0.0099\n",
      "Epoch 9/10\n",
      "17600/17600 [==============================] - 3s - loss: 0.0101 - val_loss: 0.0099\n",
      "Epoch 10/10\n",
      "17600/17600 [==============================] - 2s - loss: 0.0100 - val_loss: 0.0098\n",
      "CPU times: user 39.1 s, sys: 4.36 s, total: 43.5 s\n",
      "Wall time: 30.9 s\n"
     ]
    }
   ],
   "source": [
    "%%time\n",
    "\n",
    "num_labels = labels_1.shape[1]\n",
    "\n",
    "model = Sequential()\n",
    "model.add(Dense(512,input_dim=EMBEDDING_DIM))\n",
    "model.add(Activation('relu'))\n",
    "model.add(Dropout(0.5))\n",
    "model.add(Dense(512))\n",
    "model.add(Activation('sigmoid'))\n",
    "model.add(Dropout(0.5))\n",
    "model.add(Dense(num_labels))\n",
    "model.add(Activation('sigmoid'))\n",
    "\n",
    "model.compile(loss='binary_crossentropy', optimizer='adam')\n",
    "# multi label needs a specific accuracy function\n",
    "\n",
    "model.fit(X_train, Y_train,\n",
    "                    batch_size=32,\n",
    "                    epochs=10,\n",
    "                    verbose=1,\n",
    "                    validation_data=(X_val,Y_val))"
   ]
  },
  {
   "cell_type": "code",
   "execution_count": 71,
   "metadata": {},
   "outputs": [
    {
     "name": "stdout",
     "output_type": "stream",
     "text": [
      "[('google-play',)]\n",
      "[('sql', 0.23382163), ('oracle', 0.04773559), ('tsql', 0.025429932), ('sql-order-by', 0.0043521612), ('generator', 0.0042944308), ('metadata', 0.0029409875)]\n",
      "\n",
      "\n"
     ]
    }
   ],
   "source": [
    "## DEBUG\n",
    "\n",
    "num_test_cases = 10\n",
    "THRESHOLD = 45.0\n",
    "\n",
    "relative_difference_threshold = THRESHOLD\n",
    "\n",
    "for i in np.random.randint(low=0, high=len(Y_val), size=num_test_cases):\n",
    "\n",
    "    actual_label_indices = Y_val[i].reshape(1,-1)\n",
    "    predicted_tag_probabilities = model.predict(X_val[i].reshape(1,-1))\n",
    "    \n",
    "    predicted_label_indices = tags.get_predicted_indices(tag_probabilities_index,\n",
    "                                                        predicted_tag_probabilities,\n",
    "                                                        relative_difference_threshold)\n",
    "\n",
    "    actual_labels = lb.inverse_transform(actual_label_indices)\n",
    "    \n",
    "    predicted_label_scores = predicted_tag_probabilities[0][predicted_label_indices.ravel().nonzero()[0]]\n",
    "    predicted_labels = lb.inverse_transform(predicted_label_indices)\n",
    "\n",
    "    tags_and_scores = sorted(list(zip(predicted_labels[0],predicted_label_scores)), key=lambda tpl: tpl[1], reverse=True)\n",
    "    \n",
    "    print(actual_labels)\n",
    "    print(tags_and_scores)\n",
    "    print('\\n')"
   ]
  },
  {
   "cell_type": "code",
   "execution_count": 22,
   "metadata": {},
   "outputs": [
    {
     "data": {
      "text/plain": [
       "(4400, 100)"
      ]
     },
     "execution_count": 22,
     "metadata": {},
     "output_type": "execute_result"
    }
   ],
   "source": [
    "X_val.shape"
   ]
  },
  {
   "cell_type": "code",
   "execution_count": 23,
   "metadata": {
    "collapsed": true
   },
   "outputs": [],
   "source": [
    "X_test_list = []\n",
    "\n",
    "for validation_features in X_val:\n",
    "    X_test_list.append(validation_features.reshape(1,-1))\n",
    "\n",
    "X_test = np.vstack(X_test_list)    "
   ]
  },
  {
   "cell_type": "code",
   "execution_count": 24,
   "metadata": {
    "collapsed": true
   },
   "outputs": [],
   "source": [
    "Y_pred_lst = [model.predict(x_test.reshape(1,-1)) for x_test in X_test]"
   ]
  },
  {
   "cell_type": "code",
   "execution_count": 25,
   "metadata": {},
   "outputs": [
    {
     "data": {
      "text/plain": [
       "((4400, 1224), (4400, 1224))"
      ]
     },
     "execution_count": 25,
     "metadata": {},
     "output_type": "execute_result"
    }
   ],
   "source": [
    "Y_pred_calculated_lst = [tags.get_predicted_indices(tag_probabilities_index,y_pred,THRESHOLD) for y_pred in np.vstack(Y_pred_lst)]\n",
    "\n",
    "Y_pred = np.vstack(Y_pred_calculated_lst)\n",
    "\n",
    "Y_val.shape,Y_pred.shape"
   ]
  },
  {
   "cell_type": "code",
   "execution_count": 26,
   "metadata": {},
   "outputs": [
    {
     "name": "stdout",
     "output_type": "stream",
     "text": [
      "micro-averaged F1 score (validation set) is 0.04015526175792564\n",
      "micro-averaged precision score (validation set) is 0.025061485489424495\n",
      "micro-averaged recall score (validation set) is 0.10096106212226295\n"
     ]
    }
   ],
   "source": [
    "micro_f1 = metrics.calculate_multilabel_metrics(Y_val,Y_pred)\n",
    "print('micro-averaged F1 score (validation set) is {0}'.format(micro_f1))\n",
    "\n",
    "micro_prec = metrics.calculate_multilabel_metrics(Y_val, Y_pred, metric='precision')\n",
    "print('micro-averaged precision score (validation set) is {0}'.format(micro_prec))\n",
    "\n",
    "micro_rec = metrics.calculate_multilabel_metrics(Y_val, Y_pred, metric='recall')\n",
    "print('micro-averaged recall score (validation set) is {0}'.format(micro_rec))\n"
   ]
  },
  {
   "cell_type": "code",
   "execution_count": null,
   "metadata": {
    "collapsed": true
   },
   "outputs": [],
   "source": []
  },
  {
   "cell_type": "code",
   "execution_count": null,
   "metadata": {
    "collapsed": true
   },
   "outputs": [],
   "source": []
  }
 ],
 "metadata": {
  "kernelspec": {
   "display_name": "Global TF Kernel (Python 3)",
   "language": "python",
   "name": "global-tf-python-3"
  },
  "language_info": {
   "codemirror_mode": {
    "name": "ipython",
    "version": 3
   },
   "file_extension": ".py",
   "mimetype": "text/x-python",
   "name": "python",
   "nbconvert_exporter": "python",
   "pygments_lexer": "ipython3",
   "version": "3.5.2"
  }
 },
 "nbformat": 4,
 "nbformat_minor": 2
}
