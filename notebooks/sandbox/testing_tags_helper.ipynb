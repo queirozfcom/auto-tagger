{
 "cells": [
  {
   "cell_type": "code",
   "execution_count": 1,
   "metadata": {
    "collapsed": true
   },
   "outputs": [],
   "source": [
    "import os,sys\n",
    "import numpy as np"
   ]
  },
  {
   "cell_type": "code",
   "execution_count": 2,
   "metadata": {
    "collapsed": true
   },
   "outputs": [],
   "source": [
    "module_path = os.path.abspath(os.path.join('../embedding-classif/'))\n",
    "if module_path not in sys.path:\n",
    "    sys.path.append(module_path)"
   ]
  },
  {
   "cell_type": "code",
   "execution_count": 3,
   "metadata": {},
   "outputs": [],
   "source": [
    "from helpers import tags_helper"
   ]
  },
  {
   "cell_type": "code",
   "execution_count": 4,
   "metadata": {},
   "outputs": [
    {
     "data": {
      "text/plain": [
       "{0: 0.20000000000000001,\n",
       " 1: 0.20000000000000001,\n",
       " 2: 0.0,\n",
       " 3: 0.40000000000000002,\n",
       " 4: 0.20000000000000001,\n",
       " 5: 0.20000000000000001,\n",
       " 6: 0.80000000000000004}"
      ]
     },
     "execution_count": 4,
     "metadata": {},
     "output_type": "execute_result"
    }
   ],
   "source": [
    "strategy = \"top_k\"\n",
    "arr = np.array([0.09,0.32,0.321,0.450,0.9,0.2,0.4,0.001])\n",
    "tags = np.array([\n",
    "    [1,0,0,0,1,0,0],\n",
    "    [0,1,0,1,0,0,1],\n",
    "    [0,0,0,0,0,1,1],\n",
    "    [0,0,0,1,0,0,1],\n",
    "    [0,0,0,0,0,0,1]\n",
    "])\n",
    "\n",
    "tags_index = tags_helper.get_incidence_index(tags)\n",
    "tags_index"
   ]
  },
  {
   "cell_type": "code",
   "execution_count": 5,
   "metadata": {},
   "outputs": [
    {
     "data": {
      "text/plain": [
       "array([[0, 1, 1, 1, 1, 0, 1, 0]])"
      ]
     },
     "execution_count": 5,
     "metadata": {},
     "output_type": "execute_result"
    }
   ],
   "source": [
    "tags_helper.get_tag_assignment(\"raw_probability\",\n",
    "                               arr,\n",
    "                               probability_threshold=0.01,\n",
    "                               limit=5)"
   ]
  },
  {
   "cell_type": "code",
   "execution_count": 6,
   "metadata": {},
   "outputs": [
    {
     "data": {
      "text/plain": [
       "array([[0, 1, 1, 1, 1, 1, 0, 0]])"
      ]
     },
     "execution_count": 6,
     "metadata": {},
     "output_type": "execute_result"
    }
   ],
   "source": [
    "tags_helper.get_tag_assignment(\"absolute_difference_wrt_tag_incidence\",\n",
    "                               arr,\n",
    "                               tag_incidence_index = tags_index,\n",
    "                               limit=5)"
   ]
  },
  {
   "cell_type": "code",
   "execution_count": 7,
   "metadata": {},
   "outputs": [
    {
     "data": {
      "text/plain": [
       "array([[0, 1, 1, 1, 1, 1, 0, 0]])"
      ]
     },
     "execution_count": 7,
     "metadata": {},
     "output_type": "execute_result"
    }
   ],
   "source": [
    "tags_helper.get_tag_assignment(\"relative_difference_wrt_tag_incidence\",                           \n",
    "                               arr,\n",
    "                               tag_incidence_index = tags_index,\n",
    "                               limit=5)"
   ]
  },
  {
   "cell_type": "code",
   "execution_count": 8,
   "metadata": {},
   "outputs": [
    {
     "data": {
      "text/plain": [
       "array([[0, 1, 1, 1, 1, 1, 0, 0]])"
      ]
     },
     "execution_count": 8,
     "metadata": {},
     "output_type": "execute_result"
    }
   ],
   "source": [
    "tags_helper.get_tag_assignment(\"absolute_difference_wrt_estimated_tag_probability\",\n",
    "                                  arr,\n",
    "                                  training_data = tags,  \n",
    "                                  tag_probability_index = tags_index,\n",
    "                                  limit=5)"
   ]
  },
  {
   "cell_type": "code",
   "execution_count": 9,
   "metadata": {},
   "outputs": [
    {
     "data": {
      "text/plain": [
       "array([[0, 1, 1, 1, 1, 1, 0, 0]])"
      ]
     },
     "execution_count": 9,
     "metadata": {},
     "output_type": "execute_result"
    }
   ],
   "source": [
    "tags_helper.get_tag_assignment(\"relative_difference_wrt_estimated_tag_probability\",\n",
    "                                  arr,\n",
    "                                  training_data = tags,  \n",
    "                                  tag_probability_index = tags_index,\n",
    "                                  limit=5)"
   ]
  },
  {
   "cell_type": "code",
   "execution_count": null,
   "metadata": {
    "collapsed": true
   },
   "outputs": [],
   "source": []
  }
 ],
 "metadata": {
  "kernelspec": {
   "display_name": "Python 3",
   "language": "python",
   "name": "python3"
  },
  "language_info": {
   "codemirror_mode": {
    "name": "ipython",
    "version": 3
   },
   "file_extension": ".py",
   "mimetype": "text/x-python",
   "name": "python",
   "nbconvert_exporter": "python",
   "pygments_lexer": "ipython3",
   "version": "3.5.2"
  }
 },
 "nbformat": 4,
 "nbformat_minor": 2
}
