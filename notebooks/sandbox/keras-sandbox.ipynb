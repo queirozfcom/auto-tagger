{
 "cells": [
  {
   "cell_type": "code",
   "execution_count": 44,
   "metadata": {},
   "outputs": [],
   "source": [
    "import os\n",
    "import sys\n",
    "import numpy as np\n",
    "from keras.preprocessing.text import Tokenizer\n",
    "from keras.preprocessing.sequence import pad_sequences\n",
    "from keras.utils import to_categorical\n",
    "from keras.layers import Dense, Input, Flatten, Activation, Dropout\n",
    "from keras.layers import Conv1D, MaxPooling1D, Embedding, GlobalMaxPooling1D\n",
    "from keras.models import Model, Sequential"
   ]
  },
  {
   "cell_type": "code",
   "execution_count": 46,
   "metadata": {},
   "outputs": [
    {
     "name": "stdout",
     "output_type": "stream",
     "text": [
      "((4, 2), (4,))\n",
      "Epoch 1/20\n",
      "4/4 [==============================] - 0s - loss: 1.0960e-07 - acc: 0.0000e+00\n",
      "Epoch 2/20\n",
      "4/4 [==============================] - 0s - loss: 0.3340 - acc: 0.2500\n",
      "Epoch 3/20\n",
      "4/4 [==============================] - 0s - loss: 12.0446 - acc: 0.0000e+00\n",
      "Epoch 4/20\n",
      "4/4 [==============================] - 0s - loss: 8.0151 - acc: 0.2500\n",
      "Epoch 5/20\n",
      "4/4 [==============================] - 0s - loss: 8.6579 - acc: 0.2500\n",
      "Epoch 6/20\n",
      "4/4 [==============================] - 0s - loss: 16.0302 - acc: 0.0000e+00\n",
      "Epoch 7/20\n",
      "4/4 [==============================] - 0s - loss: 8.0151 - acc: 0.0000e+00\n",
      "Epoch 8/20\n",
      "4/4 [==============================] - 0s - loss: 8.0590 - acc: 0.0000e+00\n",
      "Epoch 9/20\n",
      "4/4 [==============================] - 0s - loss: 3.9856 - acc: 0.0000e+00\n",
      "Epoch 10/20\n",
      "4/4 [==============================] - 0s - loss: 4.1747 - acc: 0.2500\n",
      "Epoch 11/20\n",
      "4/4 [==============================] - 0s - loss: 8.0590 - acc: 0.0000e+00\n",
      "Epoch 12/20\n",
      "4/4 [==============================] - 0s - loss: 9.2573 - acc: 0.0000e+00\n",
      "Epoch 13/20\n",
      "4/4 [==============================] - 0s - loss: 4.8779 - acc: 0.2500\n",
      "Epoch 14/20\n",
      "4/4 [==============================] - 0s - loss: 8.5613 - acc: 0.0000e+00\n",
      "Epoch 15/20\n",
      "4/4 [==============================] - 0s - loss: 8.0590 - acc: 0.0000e+00\n",
      "Epoch 16/20\n",
      "4/4 [==============================] - 0s - loss: 8.6579 - acc: 0.0000e+00\n",
      "Epoch 17/20\n",
      "4/4 [==============================] - 0s - loss: 12.0446 - acc: 0.0000e+00\n",
      "Epoch 18/20\n",
      "4/4 [==============================] - 0s - loss: 12.2502 - acc: 0.0000e+00\n",
      "Epoch 19/20\n",
      "4/4 [==============================] - 0s - loss: 8.0151 - acc: 0.0000e+00\n",
      "Epoch 20/20\n",
      "4/4 [==============================] - 0s - loss: 4.5273 - acc: 0.2500\n",
      "CPU times: user 816 ms, sys: 0 ns, total: 816 ms\n",
      "Wall time: 754 ms\n"
     ]
    }
   ],
   "source": [
    "%%time\n",
    "\n",
    "x = np.array([\n",
    "    [1, 2],\n",
    "    [3, 4],\n",
    "    [5, 6],\n",
    "    [4, 9]\n",
    "])\n",
    "\n",
    "y = np.array([0,1,1,0])\n",
    "print( (x.shape,y.shape))\n",
    "\n",
    "\n",
    "model = Sequential()\n",
    "model.add(Dense(40, input_dim=2, activation='sigmoid'))\n",
    "model.add(Dropout(0.9))\n",
    "model.add(Dense(40, activation='sigmoid'))\n",
    "model.add(Dropout(0.9))\n",
    "model.add(Dense(1, activation='linear'))\n",
    "\n",
    "model.compile(optimizer='rmsprop', loss='binary_crossentropy',metrics=['acc'])\n",
    "# model.compile(optimizer='sgd', loss='binary_crossentropy')\n",
    "model.fit(x,y,batch_size=10,epochs=20)"
   ]
  },
  {
   "cell_type": "code",
   "execution_count": 49,
   "metadata": {
    "scrolled": false
   },
   "outputs": [
    {
     "data": {
      "text/plain": [
       "array([[8],\n",
       "       [7],\n",
       "       [4],\n",
       "       [6],\n",
       "       [7],\n",
       "       [7],\n",
       "       [8],\n",
       "       [2],\n",
       "       [0],\n",
       "       [6],\n",
       "       [5],\n",
       "       [2],\n",
       "       [0],\n",
       "       [4],\n",
       "       [7],\n",
       "       [6],\n",
       "       [7],\n",
       "       [6],\n",
       "       [3],\n",
       "       [0],\n",
       "       [9],\n",
       "       [7],\n",
       "       [4],\n",
       "       [1],\n",
       "       [0],\n",
       "       [2],\n",
       "       [2],\n",
       "       [0],\n",
       "       [2],\n",
       "       [1],\n",
       "       [9],\n",
       "       [5],\n",
       "       [1],\n",
       "       [6],\n",
       "       [2],\n",
       "       [6],\n",
       "       [3],\n",
       "       [5],\n",
       "       [9],\n",
       "       [1],\n",
       "       [8],\n",
       "       [8],\n",
       "       [1],\n",
       "       [3],\n",
       "       [7],\n",
       "       [0],\n",
       "       [4],\n",
       "       [7],\n",
       "       [7],\n",
       "       [9],\n",
       "       [9],\n",
       "       [7],\n",
       "       [5],\n",
       "       [6],\n",
       "       [1],\n",
       "       [5],\n",
       "       [9],\n",
       "       [3],\n",
       "       [1],\n",
       "       [2],\n",
       "       [3],\n",
       "       [3],\n",
       "       [0],\n",
       "       [4],\n",
       "       [5],\n",
       "       [1],\n",
       "       [1],\n",
       "       [8],\n",
       "       [4],\n",
       "       [1],\n",
       "       [6],\n",
       "       [9],\n",
       "       [1],\n",
       "       [0],\n",
       "       [3],\n",
       "       [1],\n",
       "       [2],\n",
       "       [8],\n",
       "       [5],\n",
       "       [8],\n",
       "       [8],\n",
       "       [3],\n",
       "       [5],\n",
       "       [0],\n",
       "       [9],\n",
       "       [1],\n",
       "       [8],\n",
       "       [5],\n",
       "       [3],\n",
       "       [8],\n",
       "       [5],\n",
       "       [3],\n",
       "       [5],\n",
       "       [2],\n",
       "       [9],\n",
       "       [6],\n",
       "       [7],\n",
       "       [8],\n",
       "       [2],\n",
       "       [3]])"
      ]
     },
     "execution_count": 49,
     "metadata": {},
     "output_type": "execute_result"
    }
   ],
   "source": [
    "np.random.randint(10, size=(100, 1))"
   ]
  },
  {
   "cell_type": "code",
   "execution_count": 2,
   "metadata": {},
   "outputs": [
    {
     "data": {
      "text/plain": [
       "((1000, 100), (1000, 1))"
      ]
     },
     "execution_count": 2,
     "metadata": {},
     "output_type": "execute_result"
    }
   ],
   "source": [
    "data = np.random.random((1000, 100))\n",
    "labels = np.random.randint(2, size=(1000, 1))\n",
    "\n",
    "model = Sequential()\n",
    "model.add(Dense(32, activation='relu', input_dim=100))\n",
    "model.add(Dense(1, activation='sigmoid'))\n",
    "model.compile(optimizer='rmsprop',\n",
    "              loss='binary_crossentropy',\n",
    "              metrics=['accuracy'])\n",
    "\n",
    "data.shape,labels.shape"
   ]
  },
  {
   "cell_type": "code",
   "execution_count": 3,
   "metadata": {
    "scrolled": true
   },
   "outputs": [
    {
     "name": "stdout",
     "output_type": "stream",
     "text": [
      "Epoch 1/10\n",
      "1000/1000 [==============================] - 0s - loss: 0.7174 - acc: 0.4910     \n",
      "Epoch 2/10\n",
      "1000/1000 [==============================] - 0s - loss: 0.6993 - acc: 0.5040     \n",
      "Epoch 3/10\n",
      "1000/1000 [==============================] - 0s - loss: 0.6924 - acc: 0.5230     \n",
      "Epoch 4/10\n",
      "1000/1000 [==============================] - 0s - loss: 0.6901 - acc: 0.5480     \n",
      "Epoch 5/10\n",
      "1000/1000 [==============================] - 0s - loss: 0.6861 - acc: 0.5500     \n",
      "Epoch 6/10\n",
      "1000/1000 [==============================] - 0s - loss: 0.6836 - acc: 0.5500     \n",
      "Epoch 7/10\n",
      "1000/1000 [==============================] - 0s - loss: 0.6801 - acc: 0.5840     \n",
      "Epoch 8/10\n",
      "1000/1000 [==============================] - 0s - loss: 0.6787 - acc: 0.5820     \n",
      "Epoch 9/10\n",
      "1000/1000 [==============================] - 0s - loss: 0.6763 - acc: 0.5870     \n",
      "Epoch 10/10\n",
      "1000/1000 [==============================] - 0s - loss: 0.6742 - acc: 0.5840     \n"
     ]
    },
    {
     "data": {
      "text/plain": [
       "<keras.callbacks.History at 0x7f4e0cc28438>"
      ]
     },
     "execution_count": 3,
     "metadata": {},
     "output_type": "execute_result"
    }
   ],
   "source": [
    "model.fit(data, labels, epochs=10, batch_size=32)\n"
   ]
  },
  {
   "cell_type": "code",
   "execution_count": null,
   "metadata": {
    "collapsed": true
   },
   "outputs": [],
   "source": []
  }
 ],
 "metadata": {
  "kernelspec": {
   "display_name": "Global TF Kernel (Python 3)",
   "language": "python",
   "name": "global-tf-python-3"
  },
  "language_info": {
   "codemirror_mode": {
    "name": "ipython",
    "version": 3
   },
   "file_extension": ".py",
   "mimetype": "text/x-python",
   "name": "python",
   "nbconvert_exporter": "python",
   "pygments_lexer": "ipython3",
   "version": "3.5.2"
  }
 },
 "nbformat": 4,
 "nbformat_minor": 2
}
