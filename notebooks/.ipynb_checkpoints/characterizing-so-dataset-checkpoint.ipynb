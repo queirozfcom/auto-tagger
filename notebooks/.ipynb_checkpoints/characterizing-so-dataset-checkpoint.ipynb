{
 "cells": [
  {
   "cell_type": "code",
   "execution_count": null,
   "metadata": {
    "collapsed": false,
    "input_collapsed": false
   },
   "outputs": [
    {
     "name": "stdout",
     "output_type": "stream",
     "text": [
      "import org.apache.spark.sql.SQLContext\n",
      "import org.apache.spark.sql.types.{StructType, StructField, StringType, IntegerType}\n",
      "import org.apache.spark.sql.Row\n",
      "sqlContext: org.apache.spark.sql.SQLContext = org.apache.spark.sql.SQLContext@2bd86ff9\n",
      "schema: org.apache.spark.sql.types.StructType = StructType(StructField(id,StringType,true), StructField(title,StringType,true), StructField(body,StringType,true), StructField(tags,StringType,true))\n"
     ]
    },
    {
     "data": {
      "text/html": [
       "<div class=\"container-fluid\"><div><div class=\"col-md-12\"><div>\n",
       "      <script data-this=\"{&quot;dataId&quot;:&quot;anonabdabfd3ba892b77e3e843b460ce3fc7&quot;,&quot;dataInit&quot;:[{&quot;name&quot;:&quot;id&quot;,&quot;dataType&quot;:&quot;StringType&quot;,&quot;nullable&quot;:true,&quot;metadata&quot;:&quot;{}&quot;},{&quot;name&quot;:&quot;title&quot;,&quot;dataType&quot;:&quot;StringType&quot;,&quot;nullable&quot;:true,&quot;metadata&quot;:&quot;{}&quot;},{&quot;name&quot;:&quot;body&quot;,&quot;dataType&quot;:&quot;StringType&quot;,&quot;nullable&quot;:true,&quot;metadata&quot;:&quot;{}&quot;},{&quot;name&quot;:&quot;tags&quot;,&quot;dataType&quot;:&quot;StringType&quot;,&quot;nullable&quot;:true,&quot;metadata&quot;:&quot;{}&quot;}],&quot;genId&quot;:&quot;465355787&quot;}\" type=\"text/x-scoped-javascript\">/*<![CDATA[*/req(['../javascripts/notebook/playground','../javascripts/notebook/magic/tableChart'], \n",
       "      function(playground, _magictableChart) {\n",
       "        // data ==> data-this (in observable.js's scopedEval) ==> this in JS => { dataId, dataInit, ... }\n",
       "        // this ==> scope (in observable.js's scopedEval) ==> this.parentElement ==> div.container below (toHtml)\n",
       "\n",
       "        playground.call(data,\n",
       "                        this\n",
       "                        ,\n",
       "                        {\n",
       "    \"f\": _magictableChart,\n",
       "    \"o\": {\"headers\":[\"name\",\"dataType\",\"nullable\",\"metadata\"],\"width\":600,\"height\":400}\n",
       "  }\n",
       "  \n",
       "                        \n",
       "                        \n",
       "                      );\n",
       "      }\n",
       "    );/*]]>*/</script>\n",
       "    <div>\n",
       "        <label for=\"input-anon75ab4824ce9e0d4713e2b7a068aff868\">\n",
       "      Max Points\n",
       "    </label><input id=\"input-anon75ab4824ce9e0d4713e2b7a068aff868\" type=\"number\" name=\"input-anon75ab4824ce9e0d4713e2b7a068aff868\" data-bind=\"textInput: value, fireChange: true, valueUpdate: 'input'\">\n",
       "      <script data-selector=\"#input-anon75ab4824ce9e0d4713e2b7a068aff868\" data-this=\"{&quot;valueId&quot;:&quot;anon75ab4824ce9e0d4713e2b7a068aff868&quot;,&quot;valueInit&quot;:25}\" type=\"text/x-scoped-javascript\">/*<![CDATA[*/req(\n",
       " ['observable', 'knockout'],\n",
       " function (Observable, ko) {\n",
       "   //console.log(\"-----------\")\n",
       "   //console.dir(this);\n",
       "   //console.dir(valueId);\n",
       "   var obs = Observable.makeObservable(valueId)\n",
       "                       .extend({ rateLimit: { //throttle\n",
       "                                   timeout: 500,\n",
       "                                   method: \"notifyWhenChangesStop\"\n",
       "                                 }\n",
       "                               }\n",
       "                       );\n",
       "   ko.applyBindings({\n",
       "     value: obs\n",
       "   }, this);\n",
       "   obs(valueInit);\n",
       " }\n",
       ")/*]]>*/</script>\n",
       "    </input>\n",
       "        <p data-bind=\"text: value\"><script data-this=\"{&quot;valueId&quot;:&quot;anon36597d09c2ba427e4aa73677fe549501&quot;}\" type=\"text/x-scoped-javascript\">/*<![CDATA[*/\n",
       "req(\n",
       "['observable', 'knockout'],\n",
       "function (O, ko) {\n",
       "  ko.applyBindings({\n",
       "      value: O.makeObservable(valueId)\n",
       "    },\n",
       "    this\n",
       "  );\n",
       "});\n",
       "        /*]]>*/</script></p> <span style=\"color:red\"><p data-bind=\"text: value\"><script data-this=\"{&quot;valueId&quot;:&quot;anon780a4bf41d89a7278b797468a6232dd5&quot;}\" type=\"text/x-scoped-javascript\">/*<![CDATA[*/\n",
       "req(\n",
       "['observable', 'knockout'],\n",
       "function (O, ko) {\n",
       "  ko.applyBindings({\n",
       "      value: O.makeObservable(valueId)\n",
       "    },\n",
       "    this\n",
       "  );\n",
       "});\n",
       "        /*]]>*/</script></p></span>\n",
       "        <div>\n",
       "        </div>\n",
       "      </div></div></div></div></div>"
      ]
     },
     "execution_count": 1,
     "metadata": {},
     "output_type": "execute_result"
    }
   ],
   "source": [
    "import org.apache.spark.sql.SQLContext\n",
    "import org.apache.spark.sql.types.{StructType, StructField, StringType, IntegerType}\n",
    "import org.apache.spark.sql.Row\n",
    "\n",
    "val sqlContext = new SQLContext(sc)\n",
    "\n",
    "val schema = StructType(Array(\n",
    "     StructField(\"id\",StringType,true),\n",
    "     StructField(\"title\",StringType,true),\n",
    "     StructField(\"body\",StringType,true),\n",
    "     StructField(\"tags\",StringType,true)))"
   ]
  },
  {
   "cell_type": "code",
   "execution_count": null,
   "metadata": {
    "collapsed": false,
    "input_collapsed": false
   },
   "outputs": [
    {
     "name": "stdout",
     "output_type": "stream",
     "text": [
      "df: org.apache.spark.sql.DataFrame = [id: string, title: string, body: string, tags: string]\n"
     ]
    },
    {
     "data": {
      "text/html": [
       "<div class=\"df-canvas\">\n",
       "      <script data-this=\"{&quot;dataId&quot;:&quot;anon6e656598a28338a4acaae7c9e0f5a6c9&quot;,&quot;partitionIndexId&quot;:&quot;anon162206064ef54e2df96a910e105cf344&quot;,&quot;numPartitions&quot;:241365,&quot;dfSchema&quot;:{&quot;type&quot;:&quot;struct&quot;,&quot;fields&quot;:[{&quot;name&quot;:&quot;id&quot;,&quot;type&quot;:&quot;string&quot;,&quot;nullable&quot;:true,&quot;metadata&quot;:{}},{&quot;name&quot;:&quot;title&quot;,&quot;type&quot;:&quot;string&quot;,&quot;nullable&quot;:true,&quot;metadata&quot;:{}},{&quot;name&quot;:&quot;body&quot;,&quot;type&quot;:&quot;string&quot;,&quot;nullable&quot;:true,&quot;metadata&quot;:{}},{&quot;name&quot;:&quot;tags&quot;,&quot;type&quot;:&quot;string&quot;,&quot;nullable&quot;:true,&quot;metadata&quot;:{}}]}}\" type=\"text/x-scoped-javascript\">/*<![CDATA[*/req(['../javascripts/notebook/dataframe','../javascripts/notebook/consoleDir'], \n",
       "      function(dataframe, extension) {\n",
       "        dataframe.call(data, this, extension);\n",
       "      }\n",
       "    );/*]]>*/</script>\n",
       "      <link rel=\"stylesheet\" href=\"/assets/stylesheets/ipython/css/dataframe.css\" type=\"text/css\"/>\n",
       "    </div>"
      ]
     },
     "execution_count": 2,
     "metadata": {},
     "output_type": "execute_result"
    }
   ],
   "source": [
    "val df = sqlContext.read\n",
    ".format(\"com.databricks.spark.csv\")\n",
    ".option(\"mode\",\"DROPMALFORMED\")\n",
    ".schema(schema)\n",
    ".load(\"/home/felipe/auto-tagger/data/pieces\")"
   ]
  },
  {
   "cell_type": "code",
   "execution_count": null,
   "metadata": {
    "collapsed": false,
    "input_collapsed": false
   },
   "outputs": [
    {
     "name": "stdout",
     "output_type": "stream",
     "text": [
      "count: Long = 6034111\n"
     ]
    },
    {
     "data": {
      "text/html": [
       "6034111"
      ]
     },
     "execution_count": 7,
     "metadata": {},
     "output_type": "execute_result"
    }
   ],
   "source": [
    "// old count was 6034194\n",
    "val count = df.count()"
   ]
  },
  {
   "cell_type": "code",
   "execution_count": null,
   "metadata": {
    "collapsed": false,
    "input_collapsed": false
   },
   "outputs": [
    {
     "name": "stdout",
     "output_type": "stream",
     "text": [
      "labelCardinality: Double = 2.8852207060824684\n"
     ]
    },
    {
     "data": {
      "text/html": [
       "2.8852207060824684"
      ]
     },
     "execution_count": 3,
     "metadata": {},
     "output_type": "execute_result"
    }
   ],
   "source": [
    "val labelCardinality = df\n",
    "  .select(df(\"tags\"))\n",
    "  .map{ case Row(tags) => Option(tags) }\n",
    "  .map{ \n",
    "     case Some(tags) => tags.toString.split(\" \").size.toDouble\n",
    "     case None => 0.0\n",
    "    } \n",
    " .mean()"
   ]
  },
  {
   "cell_type": "code",
   "execution_count": null,
   "metadata": {
    "collapsed": false,
    "input_collapsed": false
   },
   "outputs": [
    {
     "name": "stdout",
     "output_type": "stream",
     "text": [
      "dinstinctLabelCount: Long = 42048\n"
     ]
    },
    {
     "data": {
      "text/html": [
       "42048"
      ]
     },
     "execution_count": 6,
     "metadata": {},
     "output_type": "execute_result"
    }
   ],
   "source": [
    "val distinctLabelCount = df\n",
    "  .select(df(\"tags\"))\n",
    "  .map { case Row(tags) => Option(tags) }\n",
    "  .filter( opt => opt.isDefined)\n",
    "  .map( opt => opt.get)\n",
    "  .flatMap( tags => tags.toString.split(\" \") )\n",
    "  .map( tag => (tag,1) )\n",
    "  .reduceByKey( (a:Int,b:Int) => a+b )\n",
    "  .map{ case (label,count) => label }\n",
    "  .count()  "
   ]
  },
  {
   "cell_type": "code",
   "execution_count": null,
   "metadata": {
    "collapsed": false,
    "input_collapsed": false
   },
   "outputs": [
    {
     "name": "stdout",
     "output_type": "stream",
     "text": [
      "labelSeqCount: Long = 2110890\n"
     ]
    },
    {
     "data": {
      "text/html": [
       "2110890"
      ]
     },
     "execution_count": 11,
     "metadata": {},
     "output_type": "execute_result"
    }
   ],
   "source": [
    "// taking order into account\n",
    "// therefore it's not really label \"sets\" but label \"sequences\"\n",
    "val labelSeqCount = df\n",
    "  .select(df(\"tags\"))\n",
    "  .map { case Row(tags) => Option(tags) }\n",
    "  .filter( opt => opt.isDefined)\n",
    "  .map( opt => opt.get)\n",
    "  .map( tags => (tags.toString.split(\" \").toSeq,1) )\n",
    "  .reduceByKey( (a:Int,b:Int) => a+b )\n",
    "  .map{ case (label,count) => label }\n",
    "  .count()"
   ]
  },
  {
   "cell_type": "code",
   "execution_count": null,
   "metadata": {
    "collapsed": false,
    "input_collapsed": false
   },
   "outputs": [
    {
     "name": "stdout",
     "output_type": "stream",
     "text": [
      "labelSetCount: Long = 2075347\n"
     ]
    },
    {
     "data": {
      "text/html": [
       "2075347"
      ]
     },
     "execution_count": 12,
     "metadata": {},
     "output_type": "execute_result"
    }
   ],
   "source": [
    "// NOT taking order into account\n",
    "// i.e. (\"python\",\"algebra\") is the same as (\"algebra\",\"python\")\n",
    "val labelSetCount = df\n",
    "  .select(df(\"tags\"))\n",
    "  .map { case Row(tags) => Option(tags) }\n",
    "  .filter( opt => opt.isDefined)\n",
    "  .map( opt => opt.get)\n",
    "  .map( tags => (tags.toString.split(\" \").toSet,1) ) // using set rather than sequence\n",
    "  .reduceByKey( (a:Int,b:Int) => a+b )\n",
    "  .map{ case (label,count) => label }\n",
    "  .count()"
   ]
  },
  {
   "cell_type": "code",
   "execution_count": null,
   "metadata": {
    "collapsed": false,
    "input_collapsed": false
   },
   "outputs": [
    {
     "name": "stdout",
     "output_type": "stream",
     "text": [
      "labelDensity with and without scientific notation:\n",
      "\n",
      "labelDensity: Double = 0.0000013902 \n",
      "labelDensity: Double = 1.390235322614709E-6\n"
     ]
    },
    {
     "data": {
      "text/html": []
     },
     "execution_count": 26,
     "metadata": {},
     "output_type": "execute_result"
    }
   ],
   "source": [
    "println(\"labelDensity with and without scientific notation:\\n\")\n",
    "val labelDensity = labelCardinality / labelSetCount\n",
    "print(f\"labelDensity: Double = $labelDensity%.10f \\n\")"
   ]
  },
  {
   "cell_type": "code",
   "execution_count": null,
   "metadata": {
    "collapsed": true,
    "input_collapsed": false
   },
   "outputs": [],
   "source": []
  }
 ],
 "metadata": {
  "auto_save_timestamp": "1969-12-31T21:00:00.000Z",
  "customArgs": null,
  "customDeps": null,
  "customImports": null,
  "customLocalRepo": null,
  "customRepos": null,
  "customSparkConf": null,
  "kernelspec": {
   "display_name": "Scala 2.11",
   "language": "scala211",
   "name": "scala211"
  },
  "language_info": {
   "codemirror_mode": "text/x-scala",
   "file_extension": ".scala",
   "mimetype": "text/x-scala",
   "name": "scala211",
   "pygments_lexer": "scala",
   "version": "2.11.6"
  },
  "name": "characterizing-so-dataset",
  "trusted": true,
  "user_save_timestamp": "1969-12-31T21:00:00.000Z"
 },
 "nbformat": 4,
 "nbformat_minor": 0
}
